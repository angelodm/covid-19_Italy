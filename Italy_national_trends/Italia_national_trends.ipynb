{
 "cells": [
  {
   "cell_type": "markdown",
   "metadata": {},
   "source": [
    "# Italian Trends Covid-19"
   ]
  },
  {
   "cell_type": "markdown",
   "metadata": {},
   "source": [
    "In this Notebook, we analyze the spreading of the new coronavirus in Italy."
   ]
  },
  {
   "cell_type": "markdown",
   "metadata": {},
   "source": [
    "## Libraries and Functions"
   ]
  },
  {
   "cell_type": "markdown",
   "metadata": {},
   "source": [
    "First we import the required libraries and define the bokeh plot functions:"
   ]
  },
  {
   "cell_type": "code",
   "execution_count": 1,
   "metadata": {},
   "outputs": [
    {
     "data": {
      "text/html": [
       "\n",
       "    <div class=\"bk-root\">\n",
       "        <a href=\"https://bokeh.org\" target=\"_blank\" class=\"bk-logo bk-logo-small bk-logo-notebook\"></a>\n",
       "        <span id=\"1001\">Loading BokehJS ...</span>\n",
       "    </div>"
      ]
     },
     "metadata": {},
     "output_type": "display_data"
    },
    {
     "data": {
      "application/javascript": [
       "\n",
       "(function(root) {\n",
       "  function now() {\n",
       "    return new Date();\n",
       "  }\n",
       "\n",
       "  var force = true;\n",
       "\n",
       "  if (typeof root._bokeh_onload_callbacks === \"undefined\" || force === true) {\n",
       "    root._bokeh_onload_callbacks = [];\n",
       "    root._bokeh_is_loading = undefined;\n",
       "  }\n",
       "\n",
       "  var JS_MIME_TYPE = 'application/javascript';\n",
       "  var HTML_MIME_TYPE = 'text/html';\n",
       "  var EXEC_MIME_TYPE = 'application/vnd.bokehjs_exec.v0+json';\n",
       "  var CLASS_NAME = 'output_bokeh rendered_html';\n",
       "\n",
       "  /**\n",
       "   * Render data to the DOM node\n",
       "   */\n",
       "  function render(props, node) {\n",
       "    var script = document.createElement(\"script\");\n",
       "    node.appendChild(script);\n",
       "  }\n",
       "\n",
       "  /**\n",
       "   * Handle when an output is cleared or removed\n",
       "   */\n",
       "  function handleClearOutput(event, handle) {\n",
       "    var cell = handle.cell;\n",
       "\n",
       "    var id = cell.output_area._bokeh_element_id;\n",
       "    var server_id = cell.output_area._bokeh_server_id;\n",
       "    // Clean up Bokeh references\n",
       "    if (id != null && id in Bokeh.index) {\n",
       "      Bokeh.index[id].model.document.clear();\n",
       "      delete Bokeh.index[id];\n",
       "    }\n",
       "\n",
       "    if (server_id !== undefined) {\n",
       "      // Clean up Bokeh references\n",
       "      var cmd = \"from bokeh.io.state import curstate; print(curstate().uuid_to_server['\" + server_id + \"'].get_sessions()[0].document.roots[0]._id)\";\n",
       "      cell.notebook.kernel.execute(cmd, {\n",
       "        iopub: {\n",
       "          output: function(msg) {\n",
       "            var id = msg.content.text.trim();\n",
       "            if (id in Bokeh.index) {\n",
       "              Bokeh.index[id].model.document.clear();\n",
       "              delete Bokeh.index[id];\n",
       "            }\n",
       "          }\n",
       "        }\n",
       "      });\n",
       "      // Destroy server and session\n",
       "      var cmd = \"import bokeh.io.notebook as ion; ion.destroy_server('\" + server_id + \"')\";\n",
       "      cell.notebook.kernel.execute(cmd);\n",
       "    }\n",
       "  }\n",
       "\n",
       "  /**\n",
       "   * Handle when a new output is added\n",
       "   */\n",
       "  function handleAddOutput(event, handle) {\n",
       "    var output_area = handle.output_area;\n",
       "    var output = handle.output;\n",
       "\n",
       "    // limit handleAddOutput to display_data with EXEC_MIME_TYPE content only\n",
       "    if ((output.output_type != \"display_data\") || (!output.data.hasOwnProperty(EXEC_MIME_TYPE))) {\n",
       "      return\n",
       "    }\n",
       "\n",
       "    var toinsert = output_area.element.find(\".\" + CLASS_NAME.split(' ')[0]);\n",
       "\n",
       "    if (output.metadata[EXEC_MIME_TYPE][\"id\"] !== undefined) {\n",
       "      toinsert[toinsert.length - 1].firstChild.textContent = output.data[JS_MIME_TYPE];\n",
       "      // store reference to embed id on output_area\n",
       "      output_area._bokeh_element_id = output.metadata[EXEC_MIME_TYPE][\"id\"];\n",
       "    }\n",
       "    if (output.metadata[EXEC_MIME_TYPE][\"server_id\"] !== undefined) {\n",
       "      var bk_div = document.createElement(\"div\");\n",
       "      bk_div.innerHTML = output.data[HTML_MIME_TYPE];\n",
       "      var script_attrs = bk_div.children[0].attributes;\n",
       "      for (var i = 0; i < script_attrs.length; i++) {\n",
       "        toinsert[toinsert.length - 1].firstChild.setAttribute(script_attrs[i].name, script_attrs[i].value);\n",
       "        toinsert[toinsert.length - 1].firstChild.textContent = bk_div.children[0].textContent\n",
       "      }\n",
       "      // store reference to server id on output_area\n",
       "      output_area._bokeh_server_id = output.metadata[EXEC_MIME_TYPE][\"server_id\"];\n",
       "    }\n",
       "  }\n",
       "\n",
       "  function register_renderer(events, OutputArea) {\n",
       "\n",
       "    function append_mime(data, metadata, element) {\n",
       "      // create a DOM node to render to\n",
       "      var toinsert = this.create_output_subarea(\n",
       "        metadata,\n",
       "        CLASS_NAME,\n",
       "        EXEC_MIME_TYPE\n",
       "      );\n",
       "      this.keyboard_manager.register_events(toinsert);\n",
       "      // Render to node\n",
       "      var props = {data: data, metadata: metadata[EXEC_MIME_TYPE]};\n",
       "      render(props, toinsert[toinsert.length - 1]);\n",
       "      element.append(toinsert);\n",
       "      return toinsert\n",
       "    }\n",
       "\n",
       "    /* Handle when an output is cleared or removed */\n",
       "    events.on('clear_output.CodeCell', handleClearOutput);\n",
       "    events.on('delete.Cell', handleClearOutput);\n",
       "\n",
       "    /* Handle when a new output is added */\n",
       "    events.on('output_added.OutputArea', handleAddOutput);\n",
       "\n",
       "    /**\n",
       "     * Register the mime type and append_mime function with output_area\n",
       "     */\n",
       "    OutputArea.prototype.register_mime_type(EXEC_MIME_TYPE, append_mime, {\n",
       "      /* Is output safe? */\n",
       "      safe: true,\n",
       "      /* Index of renderer in `output_area.display_order` */\n",
       "      index: 0\n",
       "    });\n",
       "  }\n",
       "\n",
       "  // register the mime type if in Jupyter Notebook environment and previously unregistered\n",
       "  if (root.Jupyter !== undefined) {\n",
       "    var events = require('base/js/events');\n",
       "    var OutputArea = require('notebook/js/outputarea').OutputArea;\n",
       "\n",
       "    if (OutputArea.prototype.mime_types().indexOf(EXEC_MIME_TYPE) == -1) {\n",
       "      register_renderer(events, OutputArea);\n",
       "    }\n",
       "  }\n",
       "\n",
       "  \n",
       "  if (typeof (root._bokeh_timeout) === \"undefined\" || force === true) {\n",
       "    root._bokeh_timeout = Date.now() + 5000;\n",
       "    root._bokeh_failed_load = false;\n",
       "  }\n",
       "\n",
       "  var NB_LOAD_WARNING = {'data': {'text/html':\n",
       "     \"<div style='background-color: #fdd'>\\n\"+\n",
       "     \"<p>\\n\"+\n",
       "     \"BokehJS does not appear to have successfully loaded. If loading BokehJS from CDN, this \\n\"+\n",
       "     \"may be due to a slow or bad network connection. Possible fixes:\\n\"+\n",
       "     \"</p>\\n\"+\n",
       "     \"<ul>\\n\"+\n",
       "     \"<li>re-rerun `output_notebook()` to attempt to load from CDN again, or</li>\\n\"+\n",
       "     \"<li>use INLINE resources instead, as so:</li>\\n\"+\n",
       "     \"</ul>\\n\"+\n",
       "     \"<code>\\n\"+\n",
       "     \"from bokeh.resources import INLINE\\n\"+\n",
       "     \"output_notebook(resources=INLINE)\\n\"+\n",
       "     \"</code>\\n\"+\n",
       "     \"</div>\"}};\n",
       "\n",
       "  function display_loaded() {\n",
       "    var el = document.getElementById(\"1001\");\n",
       "    if (el != null) {\n",
       "      el.textContent = \"BokehJS is loading...\";\n",
       "    }\n",
       "    if (root.Bokeh !== undefined) {\n",
       "      if (el != null) {\n",
       "        el.textContent = \"BokehJS \" + root.Bokeh.version + \" successfully loaded.\";\n",
       "      }\n",
       "    } else if (Date.now() < root._bokeh_timeout) {\n",
       "      setTimeout(display_loaded, 100)\n",
       "    }\n",
       "  }\n",
       "\n",
       "\n",
       "  function run_callbacks() {\n",
       "    try {\n",
       "      root._bokeh_onload_callbacks.forEach(function(callback) {\n",
       "        if (callback != null)\n",
       "          callback();\n",
       "      });\n",
       "    } finally {\n",
       "      delete root._bokeh_onload_callbacks\n",
       "    }\n",
       "    console.debug(\"Bokeh: all callbacks have finished\");\n",
       "  }\n",
       "\n",
       "  function load_libs(css_urls, js_urls, callback) {\n",
       "    if (css_urls == null) css_urls = [];\n",
       "    if (js_urls == null) js_urls = [];\n",
       "\n",
       "    root._bokeh_onload_callbacks.push(callback);\n",
       "    if (root._bokeh_is_loading > 0) {\n",
       "      console.debug(\"Bokeh: BokehJS is being loaded, scheduling callback at\", now());\n",
       "      return null;\n",
       "    }\n",
       "    if (js_urls == null || js_urls.length === 0) {\n",
       "      run_callbacks();\n",
       "      return null;\n",
       "    }\n",
       "    console.debug(\"Bokeh: BokehJS not loaded, scheduling load and callback at\", now());\n",
       "    root._bokeh_is_loading = css_urls.length + js_urls.length;\n",
       "\n",
       "    function on_load() {\n",
       "      root._bokeh_is_loading--;\n",
       "      if (root._bokeh_is_loading === 0) {\n",
       "        console.debug(\"Bokeh: all BokehJS libraries/stylesheets loaded\");\n",
       "        run_callbacks()\n",
       "      }\n",
       "    }\n",
       "\n",
       "    function on_error() {\n",
       "      console.error(\"failed to load \" + url);\n",
       "    }\n",
       "\n",
       "    for (var i = 0; i < css_urls.length; i++) {\n",
       "      var url = css_urls[i];\n",
       "      const element = document.createElement(\"link\");\n",
       "      element.onload = on_load;\n",
       "      element.onerror = on_error;\n",
       "      element.rel = \"stylesheet\";\n",
       "      element.type = \"text/css\";\n",
       "      element.href = url;\n",
       "      console.debug(\"Bokeh: injecting link tag for BokehJS stylesheet: \", url);\n",
       "      document.body.appendChild(element);\n",
       "    }\n",
       "\n",
       "    const hashes = {\"https://cdn.bokeh.org/bokeh/release/bokeh-2.0.2.min.js\": \"ufR9RFnRs6lniiaFvtJziE0YeidtAgBRH6ux2oUItHw5WTvE1zuk9uzhUU/FJXDp\", \"https://cdn.bokeh.org/bokeh/release/bokeh-widgets-2.0.2.min.js\": \"8QM/PGWBT+IssZuRcDcjzwIh1mkOmJSoNMmyYDZbCfXJg3Ap1lEvdVgFuSAwhb/J\", \"https://cdn.bokeh.org/bokeh/release/bokeh-tables-2.0.2.min.js\": \"Jm8cH3Rg0P6UeZhVY5cLy1WzKajUT9KImCY+76hEqrcJt59/d8GPvFHjCkYgnSIn\", \"https://cdn.bokeh.org/bokeh/release/bokeh-gl-2.0.2.min.js\": \"Ozhzj+SI7ywm74aOI/UajcWz+C0NjsPunEVyVIrxzYkB+jA+2tUw8x5xJCbVtK5I\"};\n",
       "\n",
       "    for (var i = 0; i < js_urls.length; i++) {\n",
       "      var url = js_urls[i];\n",
       "      var element = document.createElement('script');\n",
       "      element.onload = on_load;\n",
       "      element.onerror = on_error;\n",
       "      element.async = false;\n",
       "      element.src = url;\n",
       "      if (url in hashes) {\n",
       "        element.crossOrigin = \"anonymous\";\n",
       "        element.integrity = \"sha384-\" + hashes[url];\n",
       "      }\n",
       "      console.debug(\"Bokeh: injecting script tag for BokehJS library: \", url);\n",
       "      document.head.appendChild(element);\n",
       "    }\n",
       "  };\n",
       "\n",
       "  function inject_raw_css(css) {\n",
       "    const element = document.createElement(\"style\");\n",
       "    element.appendChild(document.createTextNode(css));\n",
       "    document.body.appendChild(element);\n",
       "  }\n",
       "\n",
       "  \n",
       "  var js_urls = [\"https://cdn.bokeh.org/bokeh/release/bokeh-2.0.2.min.js\", \"https://cdn.bokeh.org/bokeh/release/bokeh-widgets-2.0.2.min.js\", \"https://cdn.bokeh.org/bokeh/release/bokeh-tables-2.0.2.min.js\", \"https://cdn.bokeh.org/bokeh/release/bokeh-gl-2.0.2.min.js\"];\n",
       "  var css_urls = [];\n",
       "  \n",
       "\n",
       "  var inline_js = [\n",
       "    function(Bokeh) {\n",
       "      Bokeh.set_log_level(\"info\");\n",
       "    },\n",
       "    function(Bokeh) {\n",
       "    \n",
       "    \n",
       "    }\n",
       "  ];\n",
       "\n",
       "  function run_inline_js() {\n",
       "    \n",
       "    if (root.Bokeh !== undefined || force === true) {\n",
       "      \n",
       "    for (var i = 0; i < inline_js.length; i++) {\n",
       "      inline_js[i].call(root, root.Bokeh);\n",
       "    }\n",
       "    if (force === true) {\n",
       "        display_loaded();\n",
       "      }} else if (Date.now() < root._bokeh_timeout) {\n",
       "      setTimeout(run_inline_js, 100);\n",
       "    } else if (!root._bokeh_failed_load) {\n",
       "      console.log(\"Bokeh: BokehJS failed to load within specified timeout.\");\n",
       "      root._bokeh_failed_load = true;\n",
       "    } else if (force !== true) {\n",
       "      var cell = $(document.getElementById(\"1001\")).parents('.cell').data().cell;\n",
       "      cell.output_area.append_execute_result(NB_LOAD_WARNING)\n",
       "    }\n",
       "\n",
       "  }\n",
       "\n",
       "  if (root._bokeh_is_loading === 0) {\n",
       "    console.debug(\"Bokeh: BokehJS loaded, going straight to plotting\");\n",
       "    run_inline_js();\n",
       "  } else {\n",
       "    load_libs(css_urls, js_urls, function() {\n",
       "      console.debug(\"Bokeh: BokehJS plotting callback run at\", now());\n",
       "      run_inline_js();\n",
       "    });\n",
       "  }\n",
       "}(window));"
      ],
      "application/vnd.bokehjs_load.v0+json": "\n(function(root) {\n  function now() {\n    return new Date();\n  }\n\n  var force = true;\n\n  if (typeof root._bokeh_onload_callbacks === \"undefined\" || force === true) {\n    root._bokeh_onload_callbacks = [];\n    root._bokeh_is_loading = undefined;\n  }\n\n  \n\n  \n  if (typeof (root._bokeh_timeout) === \"undefined\" || force === true) {\n    root._bokeh_timeout = Date.now() + 5000;\n    root._bokeh_failed_load = false;\n  }\n\n  var NB_LOAD_WARNING = {'data': {'text/html':\n     \"<div style='background-color: #fdd'>\\n\"+\n     \"<p>\\n\"+\n     \"BokehJS does not appear to have successfully loaded. If loading BokehJS from CDN, this \\n\"+\n     \"may be due to a slow or bad network connection. Possible fixes:\\n\"+\n     \"</p>\\n\"+\n     \"<ul>\\n\"+\n     \"<li>re-rerun `output_notebook()` to attempt to load from CDN again, or</li>\\n\"+\n     \"<li>use INLINE resources instead, as so:</li>\\n\"+\n     \"</ul>\\n\"+\n     \"<code>\\n\"+\n     \"from bokeh.resources import INLINE\\n\"+\n     \"output_notebook(resources=INLINE)\\n\"+\n     \"</code>\\n\"+\n     \"</div>\"}};\n\n  function display_loaded() {\n    var el = document.getElementById(\"1001\");\n    if (el != null) {\n      el.textContent = \"BokehJS is loading...\";\n    }\n    if (root.Bokeh !== undefined) {\n      if (el != null) {\n        el.textContent = \"BokehJS \" + root.Bokeh.version + \" successfully loaded.\";\n      }\n    } else if (Date.now() < root._bokeh_timeout) {\n      setTimeout(display_loaded, 100)\n    }\n  }\n\n\n  function run_callbacks() {\n    try {\n      root._bokeh_onload_callbacks.forEach(function(callback) {\n        if (callback != null)\n          callback();\n      });\n    } finally {\n      delete root._bokeh_onload_callbacks\n    }\n    console.debug(\"Bokeh: all callbacks have finished\");\n  }\n\n  function load_libs(css_urls, js_urls, callback) {\n    if (css_urls == null) css_urls = [];\n    if (js_urls == null) js_urls = [];\n\n    root._bokeh_onload_callbacks.push(callback);\n    if (root._bokeh_is_loading > 0) {\n      console.debug(\"Bokeh: BokehJS is being loaded, scheduling callback at\", now());\n      return null;\n    }\n    if (js_urls == null || js_urls.length === 0) {\n      run_callbacks();\n      return null;\n    }\n    console.debug(\"Bokeh: BokehJS not loaded, scheduling load and callback at\", now());\n    root._bokeh_is_loading = css_urls.length + js_urls.length;\n\n    function on_load() {\n      root._bokeh_is_loading--;\n      if (root._bokeh_is_loading === 0) {\n        console.debug(\"Bokeh: all BokehJS libraries/stylesheets loaded\");\n        run_callbacks()\n      }\n    }\n\n    function on_error() {\n      console.error(\"failed to load \" + url);\n    }\n\n    for (var i = 0; i < css_urls.length; i++) {\n      var url = css_urls[i];\n      const element = document.createElement(\"link\");\n      element.onload = on_load;\n      element.onerror = on_error;\n      element.rel = \"stylesheet\";\n      element.type = \"text/css\";\n      element.href = url;\n      console.debug(\"Bokeh: injecting link tag for BokehJS stylesheet: \", url);\n      document.body.appendChild(element);\n    }\n\n    const hashes = {\"https://cdn.bokeh.org/bokeh/release/bokeh-2.0.2.min.js\": \"ufR9RFnRs6lniiaFvtJziE0YeidtAgBRH6ux2oUItHw5WTvE1zuk9uzhUU/FJXDp\", \"https://cdn.bokeh.org/bokeh/release/bokeh-widgets-2.0.2.min.js\": \"8QM/PGWBT+IssZuRcDcjzwIh1mkOmJSoNMmyYDZbCfXJg3Ap1lEvdVgFuSAwhb/J\", \"https://cdn.bokeh.org/bokeh/release/bokeh-tables-2.0.2.min.js\": \"Jm8cH3Rg0P6UeZhVY5cLy1WzKajUT9KImCY+76hEqrcJt59/d8GPvFHjCkYgnSIn\", \"https://cdn.bokeh.org/bokeh/release/bokeh-gl-2.0.2.min.js\": \"Ozhzj+SI7ywm74aOI/UajcWz+C0NjsPunEVyVIrxzYkB+jA+2tUw8x5xJCbVtK5I\"};\n\n    for (var i = 0; i < js_urls.length; i++) {\n      var url = js_urls[i];\n      var element = document.createElement('script');\n      element.onload = on_load;\n      element.onerror = on_error;\n      element.async = false;\n      element.src = url;\n      if (url in hashes) {\n        element.crossOrigin = \"anonymous\";\n        element.integrity = \"sha384-\" + hashes[url];\n      }\n      console.debug(\"Bokeh: injecting script tag for BokehJS library: \", url);\n      document.head.appendChild(element);\n    }\n  };\n\n  function inject_raw_css(css) {\n    const element = document.createElement(\"style\");\n    element.appendChild(document.createTextNode(css));\n    document.body.appendChild(element);\n  }\n\n  \n  var js_urls = [\"https://cdn.bokeh.org/bokeh/release/bokeh-2.0.2.min.js\", \"https://cdn.bokeh.org/bokeh/release/bokeh-widgets-2.0.2.min.js\", \"https://cdn.bokeh.org/bokeh/release/bokeh-tables-2.0.2.min.js\", \"https://cdn.bokeh.org/bokeh/release/bokeh-gl-2.0.2.min.js\"];\n  var css_urls = [];\n  \n\n  var inline_js = [\n    function(Bokeh) {\n      Bokeh.set_log_level(\"info\");\n    },\n    function(Bokeh) {\n    \n    \n    }\n  ];\n\n  function run_inline_js() {\n    \n    if (root.Bokeh !== undefined || force === true) {\n      \n    for (var i = 0; i < inline_js.length; i++) {\n      inline_js[i].call(root, root.Bokeh);\n    }\n    if (force === true) {\n        display_loaded();\n      }} else if (Date.now() < root._bokeh_timeout) {\n      setTimeout(run_inline_js, 100);\n    } else if (!root._bokeh_failed_load) {\n      console.log(\"Bokeh: BokehJS failed to load within specified timeout.\");\n      root._bokeh_failed_load = true;\n    } else if (force !== true) {\n      var cell = $(document.getElementById(\"1001\")).parents('.cell').data().cell;\n      cell.output_area.append_execute_result(NB_LOAD_WARNING)\n    }\n\n  }\n\n  if (root._bokeh_is_loading === 0) {\n    console.debug(\"Bokeh: BokehJS loaded, going straight to plotting\");\n    run_inline_js();\n  } else {\n    load_libs(css_urls, js_urls, function() {\n      console.debug(\"Bokeh: BokehJS plotting callback run at\", now());\n      run_inline_js();\n    });\n  }\n}(window));"
     },
     "metadata": {},
     "output_type": "display_data"
    }
   ],
   "source": [
    "import numpy as np\n",
    "\n",
    "import pandas as pd\n",
    "\n",
    "from math import pi\n",
    "\n",
    "from bokeh.plotting import figure, output_file, show, output_notebook, gridplot\n",
    "from bokeh.models import DatetimeTickFormatter, BasicTickFormatter, NumeralTickFormatter\n",
    "from bokeh.models import HoverTool\n",
    "from bokeh.layouts import row\n",
    "\n",
    "output_notebook()"
   ]
  },
  {
   "cell_type": "code",
   "execution_count": 2,
   "metadata": {},
   "outputs": [],
   "source": [
    "def datetime(x):\n",
    "    return np.array(x, dtype=np.datetime64)"
   ]
  },
  {
   "cell_type": "markdown",
   "metadata": {},
   "source": [
    "---------------------\n",
    "\n",
    "### ----- Plot function 1 line -----"
   ]
  },
  {
   "cell_type": "code",
   "execution_count": 3,
   "metadata": {},
   "outputs": [],
   "source": [
    "def bokeh_plot_1_line(x, y, title, file_name, x_label, y_label, legend, x_label_hover, y_label_hover, color, y_minmax):\n",
    "    \n",
    "    output_file(file_name)\n",
    "    \n",
    "    p = figure(title=title, x_axis_type='datetime', x_axis_label=x_label, y_axis_label=y_label, width=600, height=450, y_range=y_minmax)\n",
    "    \n",
    "    p.line(x.squeeze(), y, color=color, line_width=4, legend_label=legend)\n",
    "    p.circle(x.squeeze(), y, fill_color=\"white\", line_color=color, size=6)\n",
    "    \n",
    "    p.xaxis.formatter = DatetimeTickFormatter(\n",
    "#         hours=[\"%d %B %Y\"],\n",
    "#         days=[\"%Y %m %d\"],\n",
    "        days=[\"%d %B\"],\n",
    "#         months=[\"%d %B %Y\"],\n",
    "#         years=[\"%d %B %Y\"],\n",
    "    )\n",
    "    p.xaxis.major_label_orientation = pi/4\n",
    "  \n",
    "    p.yaxis.formatter = BasicTickFormatter(use_scientific = False)\n",
    "#     p.left[0].formatter.use_scientific = False\n",
    "    p.yaxis.formatter = NumeralTickFormatter(format = '0,0')\n",
    "    \n",
    "    p.axis.minor_tick_in = -5\n",
    "    p.axis.minor_tick_out = -3\n",
    "    \n",
    "    p.legend.location = \"top_left\"\n",
    "    \n",
    "    p.add_tools(HoverTool(\n",
    "    tooltips=[\n",
    "        ( x_label_hover,   '@x{%d %B}'    ),\n",
    "        ( y_label_hover, '@y{0.}'      ),\n",
    "    ],\n",
    "\n",
    "    formatters={\n",
    "           '@x'  : 'datetime', # use 'datetime' formatter for 'date' field\n",
    "#            '@y'  : 'printf',   # use 'printf' formatter for 'adj close' field\n",
    "                                  # use default 'numeral' formatter for other fields\n",
    "    },\n",
    "\n",
    "    # display a tooltip whenever the cursor is vertically in line with a glyph\n",
    "    mode='vline'\n",
    "    ))\n",
    "\n",
    "    return p\n",
    "#     show(p)"
   ]
  },
  {
   "cell_type": "markdown",
   "metadata": {},
   "source": [
    "### ----- Plot function 2 lines -----"
   ]
  },
  {
   "cell_type": "code",
   "execution_count": 4,
   "metadata": {},
   "outputs": [],
   "source": [
    "def bokeh_plot_2_lines(x, y, yy, title, file_name, x_label, y_label, legend_1, legend_2, x_label_hover, y_label_hover, color_1, color_2, y_minmax):\n",
    "    \n",
    "    output_file(file_name)\n",
    "    \n",
    "    p = figure(title=title, x_axis_type='datetime', x_axis_label=x_label, y_axis_label=y_label, width=600, height=450, y_range=y_minmax)\n",
    "    \n",
    "    p.line(x, y, color=color_1, line_width=4, legend_label=legend_1)\n",
    "    p.circle(x, y, fill_color=\"white\", line_color=color_1, size=6)\n",
    "    \n",
    "    p.line(x, yy, color=color_2, line_width=4, legend_label=legend_2)\n",
    "    p.circle(x, yy, fill_color=\"white\", line_color=color_2, size=6)\n",
    "    \n",
    "    p.xaxis.formatter=DatetimeTickFormatter(\n",
    "#         hours=[\"%d %B %Y\"],\n",
    "#         days=[\"%Y %m %d\"],\n",
    "    days=[\"%d %B\"],\n",
    "#         months=[\"%d %B %Y\"],\n",
    "#         years=[\"%d %B %Y\"],\n",
    "    )\n",
    "    p.xaxis.major_label_orientation = pi/4\n",
    "  \n",
    "    p.yaxis.formatter = BasicTickFormatter(use_scientific=False)\n",
    "#     p.left[0].formatter.use_scientific = False\n",
    "    p.yaxis.formatter = NumeralTickFormatter(format = '0,0')\n",
    "    \n",
    "    p.axis.minor_tick_in = -5\n",
    "    p.axis.minor_tick_out = -3\n",
    "    \n",
    "    p.legend.location = \"top_left\"\n",
    "    \n",
    "    p.add_tools(HoverTool(\n",
    "    tooltips=[\n",
    "        ( x_label_hover,   '@x{%d %B}' ),\n",
    "        ( y_label_hover, '@y{0.}' ),\n",
    "#         ( 'label yy', '@yy' ),\n",
    "    ],\n",
    "\n",
    "    formatters={\n",
    "           '@x'  : 'datetime', # use 'datetime' formatter for 'date' field\n",
    "#            '@y'  : 'printf',   # use 'printf' formatter for 'adj close' field\n",
    "                                  # use default 'numeral' formatter for other fields\n",
    "    },\n",
    "\n",
    "    # display a tooltip whenever the cursor is vertically in line with a glyph\n",
    "    mode='vline'\n",
    "    ))\n",
    "    \n",
    "    return p  \n",
    "#     show(p)"
   ]
  },
  {
   "cell_type": "markdown",
   "metadata": {},
   "source": [
    "### ----- Plot function N lines -----"
   ]
  },
  {
   "cell_type": "code",
   "execution_count": 5,
   "metadata": {},
   "outputs": [],
   "source": [
    "def bokeh_plot_N_lines(x, y_list, title, dim, x_label, y_label, legend_list, x_label_hover, y_label_hover, color_list, legend_location, y_minmax):\n",
    "    \n",
    "#     output_file(file_name)\n",
    "    \n",
    "    p = figure(title=title, x_axis_type='datetime', x_axis_label=x_label, y_axis_label=y_label, width=dim[0], height=dim[1], y_range=y_minmax)\n",
    "    \n",
    "    for iii in range(0,len(y_list)):\n",
    "        p.line(x, y_list[iii], color=color_list[iii], line_width=4, legend_label=legend_list[iii])\n",
    "        p.circle(x, y_list[iii], fill_color=\"white\", line_color=color_list[iii], size=5)\n",
    "        \n",
    "    \n",
    "    p.xaxis.formatter=DatetimeTickFormatter(\n",
    "#         hours=[\"%d %B %Y\"],\n",
    "#         days=[\"%Y %m %d\"],\n",
    "    days=[\"%d %B\"],\n",
    "#         months=[\"%d %B %Y\"],\n",
    "#         years=[\"%d %B %Y\"],\n",
    "    )\n",
    "    p.xaxis.major_label_orientation = pi/4\n",
    "  \n",
    "    p.yaxis.formatter = BasicTickFormatter(use_scientific=False)\n",
    "#     p.left[0].formatter.use_scientific = False\n",
    "#     p.yaxis.formatter = NumeralTickFormatter(format = '0,0')\n",
    "    p.yaxis.formatter.use_scientific = False\n",
    "    \n",
    "    p.axis.minor_tick_in = -5\n",
    "    p.axis.minor_tick_out = -3\n",
    "    \n",
    "    p.legend.location = legend_location\n",
    "    \n",
    "    p.add_tools(HoverTool(\n",
    "    tooltips=[\n",
    "        ( x_label_hover,   '@x{%d %B}' ),\n",
    "        ( y_label_hover, '@y{0[.]000}' ),\n",
    "#         ( 'label yy', '@yy' ),\n",
    "    ],\n",
    "\n",
    "    formatters={\n",
    "           '@x'  : 'datetime', # use 'datetime' formatter for 'date' field\n",
    "#            '@y'  : 'printf',   # use 'printf' formatter for 'adj close' field\n",
    "#            '@y'  : 'numeral',   # use 'printf' formatter for 'adj close' field\n",
    "                                  # use default 'numeral' formatter for other fields\n",
    "    },\n",
    "\n",
    "    # display a tooltip whenever the cursor is vertically in line with a glyph\n",
    "    mode='vline'\n",
    "    ))\n",
    "    \n",
    "    return p  \n",
    "#     show(p)"
   ]
  },
  {
   "cell_type": "markdown",
   "metadata": {},
   "source": [
    "-----------------\n",
    "\n",
    "## Data Sources"
   ]
  },
  {
   "cell_type": "markdown",
   "metadata": {},
   "source": [
    "We importe the CSV files directly from the official GitHub source of the Protezione Civile:"
   ]
  },
  {
   "cell_type": "code",
   "execution_count": 6,
   "metadata": {},
   "outputs": [],
   "source": [
    "data_links = {'nazionale':'https://raw.githubusercontent.com/pcm-dpc/COVID-19/master/dati-andamento-nazionale/dpc-covid19-ita-andamento-nazionale.csv',\\\n",
    "              'regioni':'https://raw.githubusercontent.com/pcm-dpc/COVID-19/master/dati-regioni/dpc-covid19-ita-regioni.csv',\\\n",
    "              'province':'https://raw.githubusercontent.com/pcm-dpc/COVID-19/master/dati-province/dpc-covid19-ita-province.csv'}"
   ]
  },
  {
   "cell_type": "markdown",
   "metadata": {},
   "source": [
    "-----------------\n",
    "\n",
    "## National Trends"
   ]
  },
  {
   "cell_type": "code",
   "execution_count": 7,
   "metadata": {},
   "outputs": [
    {
     "name": "stdout",
     "output_type": "stream",
     "text": [
      "The path to the Raw CSV file for the national data is : \n",
      " https://raw.githubusercontent.com/pcm-dpc/COVID-19/master/dati-andamento-nazionale/dpc-covid19-ita-andamento-nazionale.csv\n"
     ]
    },
    {
     "data": {
      "text/html": [
       "<div>\n",
       "<style scoped>\n",
       "    .dataframe tbody tr th:only-of-type {\n",
       "        vertical-align: middle;\n",
       "    }\n",
       "\n",
       "    .dataframe tbody tr th {\n",
       "        vertical-align: top;\n",
       "    }\n",
       "\n",
       "    .dataframe thead th {\n",
       "        text-align: right;\n",
       "    }\n",
       "</style>\n",
       "<table border=\"1\" class=\"dataframe\">\n",
       "  <thead>\n",
       "    <tr style=\"text-align: right;\">\n",
       "      <th></th>\n",
       "      <th>data</th>\n",
       "      <th>stato</th>\n",
       "      <th>ricoverati_con_sintomi</th>\n",
       "      <th>terapia_intensiva</th>\n",
       "      <th>totale_ospedalizzati</th>\n",
       "      <th>isolamento_domiciliare</th>\n",
       "      <th>totale_positivi</th>\n",
       "      <th>variazione_totale_positivi</th>\n",
       "      <th>nuovi_positivi</th>\n",
       "      <th>dimessi_guariti</th>\n",
       "      <th>deceduti</th>\n",
       "      <th>casi_da_sospetto_diagnostico</th>\n",
       "      <th>casi_da_screening</th>\n",
       "      <th>totale_casi</th>\n",
       "      <th>tamponi</th>\n",
       "      <th>casi_testati</th>\n",
       "      <th>note</th>\n",
       "    </tr>\n",
       "  </thead>\n",
       "  <tbody>\n",
       "    <tr>\n",
       "      <th>0</th>\n",
       "      <td>2020-02-24T18:00:00</td>\n",
       "      <td>ITA</td>\n",
       "      <td>101</td>\n",
       "      <td>26</td>\n",
       "      <td>127</td>\n",
       "      <td>94</td>\n",
       "      <td>221</td>\n",
       "      <td>0</td>\n",
       "      <td>221</td>\n",
       "      <td>1</td>\n",
       "      <td>7</td>\n",
       "      <td>NaN</td>\n",
       "      <td>NaN</td>\n",
       "      <td>229</td>\n",
       "      <td>4324</td>\n",
       "      <td>NaN</td>\n",
       "      <td>NaN</td>\n",
       "    </tr>\n",
       "    <tr>\n",
       "      <th>1</th>\n",
       "      <td>2020-02-25T18:00:00</td>\n",
       "      <td>ITA</td>\n",
       "      <td>114</td>\n",
       "      <td>35</td>\n",
       "      <td>150</td>\n",
       "      <td>162</td>\n",
       "      <td>311</td>\n",
       "      <td>90</td>\n",
       "      <td>93</td>\n",
       "      <td>1</td>\n",
       "      <td>10</td>\n",
       "      <td>NaN</td>\n",
       "      <td>NaN</td>\n",
       "      <td>322</td>\n",
       "      <td>8623</td>\n",
       "      <td>NaN</td>\n",
       "      <td>NaN</td>\n",
       "    </tr>\n",
       "    <tr>\n",
       "      <th>2</th>\n",
       "      <td>2020-02-26T18:00:00</td>\n",
       "      <td>ITA</td>\n",
       "      <td>128</td>\n",
       "      <td>36</td>\n",
       "      <td>164</td>\n",
       "      <td>221</td>\n",
       "      <td>385</td>\n",
       "      <td>74</td>\n",
       "      <td>78</td>\n",
       "      <td>3</td>\n",
       "      <td>12</td>\n",
       "      <td>NaN</td>\n",
       "      <td>NaN</td>\n",
       "      <td>400</td>\n",
       "      <td>9587</td>\n",
       "      <td>NaN</td>\n",
       "      <td>NaN</td>\n",
       "    </tr>\n",
       "    <tr>\n",
       "      <th>3</th>\n",
       "      <td>2020-02-27T18:00:00</td>\n",
       "      <td>ITA</td>\n",
       "      <td>248</td>\n",
       "      <td>56</td>\n",
       "      <td>304</td>\n",
       "      <td>284</td>\n",
       "      <td>588</td>\n",
       "      <td>203</td>\n",
       "      <td>250</td>\n",
       "      <td>45</td>\n",
       "      <td>17</td>\n",
       "      <td>NaN</td>\n",
       "      <td>NaN</td>\n",
       "      <td>650</td>\n",
       "      <td>12014</td>\n",
       "      <td>NaN</td>\n",
       "      <td>NaN</td>\n",
       "    </tr>\n",
       "    <tr>\n",
       "      <th>4</th>\n",
       "      <td>2020-02-28T18:00:00</td>\n",
       "      <td>ITA</td>\n",
       "      <td>345</td>\n",
       "      <td>64</td>\n",
       "      <td>409</td>\n",
       "      <td>412</td>\n",
       "      <td>821</td>\n",
       "      <td>233</td>\n",
       "      <td>238</td>\n",
       "      <td>46</td>\n",
       "      <td>21</td>\n",
       "      <td>NaN</td>\n",
       "      <td>NaN</td>\n",
       "      <td>888</td>\n",
       "      <td>15695</td>\n",
       "      <td>NaN</td>\n",
       "      <td>NaN</td>\n",
       "    </tr>\n",
       "  </tbody>\n",
       "</table>\n",
       "</div>"
      ],
      "text/plain": [
       "                  data stato  ricoverati_con_sintomi  terapia_intensiva  \\\n",
       "0  2020-02-24T18:00:00   ITA                     101                 26   \n",
       "1  2020-02-25T18:00:00   ITA                     114                 35   \n",
       "2  2020-02-26T18:00:00   ITA                     128                 36   \n",
       "3  2020-02-27T18:00:00   ITA                     248                 56   \n",
       "4  2020-02-28T18:00:00   ITA                     345                 64   \n",
       "\n",
       "   totale_ospedalizzati  isolamento_domiciliare  totale_positivi  \\\n",
       "0                   127                      94              221   \n",
       "1                   150                     162              311   \n",
       "2                   164                     221              385   \n",
       "3                   304                     284              588   \n",
       "4                   409                     412              821   \n",
       "\n",
       "   variazione_totale_positivi  nuovi_positivi  dimessi_guariti  deceduti  \\\n",
       "0                           0             221                1         7   \n",
       "1                          90              93                1        10   \n",
       "2                          74              78                3        12   \n",
       "3                         203             250               45        17   \n",
       "4                         233             238               46        21   \n",
       "\n",
       "   casi_da_sospetto_diagnostico  casi_da_screening  totale_casi  tamponi  \\\n",
       "0                           NaN                NaN          229     4324   \n",
       "1                           NaN                NaN          322     8623   \n",
       "2                           NaN                NaN          400     9587   \n",
       "3                           NaN                NaN          650    12014   \n",
       "4                           NaN                NaN          888    15695   \n",
       "\n",
       "   casi_testati note  \n",
       "0           NaN  NaN  \n",
       "1           NaN  NaN  \n",
       "2           NaN  NaN  \n",
       "3           NaN  NaN  \n",
       "4           NaN  NaN  "
      ]
     },
     "execution_count": 7,
     "metadata": {},
     "output_type": "execute_result"
    }
   ],
   "source": [
    "path_nazionale = data_links['nazionale']\n",
    "print('The path to the Raw CSV file for the national data is : \\n', path_nazionale)\n",
    "df_nazionale = pd.read_csv(path_nazionale)\n",
    "df_nazionale.head()"
   ]
  },
  {
   "cell_type": "code",
   "execution_count": 8,
   "metadata": {},
   "outputs": [
    {
     "data": {
      "text/plain": [
       "(127, 17)"
      ]
     },
     "execution_count": 8,
     "metadata": {},
     "output_type": "execute_result"
    }
   ],
   "source": [
    "df_nazionale.shape"
   ]
  },
  {
   "cell_type": "markdown",
   "metadata": {},
   "source": [
    "------------\n",
    "\n",
    "### Date Formatting"
   ]
  },
  {
   "cell_type": "code",
   "execution_count": 9,
   "metadata": {},
   "outputs": [
    {
     "data": {
      "text/plain": [
       "0    2020-02-24T18:00:00\n",
       "1    2020-02-25T18:00:00\n",
       "2    2020-02-26T18:00:00\n",
       "3    2020-02-27T18:00:00\n",
       "4    2020-02-28T18:00:00\n",
       "Name: data, dtype: object"
      ]
     },
     "execution_count": 9,
     "metadata": {},
     "output_type": "execute_result"
    }
   ],
   "source": [
    "time_date = df_nazionale['data']\n",
    "time_date.head()"
   ]
  },
  {
   "cell_type": "code",
   "execution_count": 10,
   "metadata": {},
   "outputs": [
    {
     "data": {
      "text/plain": [
       "0    2020-02-24\n",
       "1    2020-02-25\n",
       "2    2020-02-26\n",
       "3    2020-02-27\n",
       "4    2020-02-28\n",
       "Name: data, dtype: object"
      ]
     },
     "execution_count": 10,
     "metadata": {},
     "output_type": "execute_result"
    }
   ],
   "source": [
    "time_date_new = pd.to_datetime(time_date).dt.date\n",
    "time_date_new.head()"
   ]
  },
  {
   "cell_type": "code",
   "execution_count": 11,
   "metadata": {},
   "outputs": [
    {
     "data": {
      "text/plain": [
       "array(['2020-02-24', '2020-02-25', '2020-02-26', '2020-02-27',\n",
       "       '2020-02-28', '2020-02-29', '2020-03-01', '2020-03-02',\n",
       "       '2020-03-03', '2020-03-04', '2020-03-05', '2020-03-06',\n",
       "       '2020-03-07', '2020-03-08', '2020-03-09', '2020-03-10',\n",
       "       '2020-03-11', '2020-03-12', '2020-03-13', '2020-03-14',\n",
       "       '2020-03-15', '2020-03-16', '2020-03-17', '2020-03-18',\n",
       "       '2020-03-19', '2020-03-20', '2020-03-21', '2020-03-22',\n",
       "       '2020-03-23', '2020-03-24', '2020-03-25', '2020-03-26',\n",
       "       '2020-03-27', '2020-03-28', '2020-03-29', '2020-03-30',\n",
       "       '2020-03-31', '2020-04-01', '2020-04-02', '2020-04-03',\n",
       "       '2020-04-04', '2020-04-05', '2020-04-06', '2020-04-07',\n",
       "       '2020-04-08', '2020-04-09', '2020-04-10', '2020-04-11',\n",
       "       '2020-04-12', '2020-04-13', '2020-04-14', '2020-04-15',\n",
       "       '2020-04-16', '2020-04-17', '2020-04-18', '2020-04-19',\n",
       "       '2020-04-20', '2020-04-21', '2020-04-22', '2020-04-23',\n",
       "       '2020-04-24', '2020-04-25', '2020-04-26', '2020-04-27',\n",
       "       '2020-04-28', '2020-04-29', '2020-04-30', '2020-05-01',\n",
       "       '2020-05-02', '2020-05-03', '2020-05-04', '2020-05-05',\n",
       "       '2020-05-06', '2020-05-07', '2020-05-08', '2020-05-09',\n",
       "       '2020-05-10', '2020-05-11', '2020-05-12', '2020-05-13',\n",
       "       '2020-05-14', '2020-05-15', '2020-05-16', '2020-05-17',\n",
       "       '2020-05-18', '2020-05-19', '2020-05-20', '2020-05-21',\n",
       "       '2020-05-22', '2020-05-23', '2020-05-24', '2020-05-25',\n",
       "       '2020-05-26', '2020-05-27', '2020-05-28', '2020-05-29',\n",
       "       '2020-05-30', '2020-05-31', '2020-06-01', '2020-06-02',\n",
       "       '2020-06-03', '2020-06-04', '2020-06-05', '2020-06-06',\n",
       "       '2020-06-07', '2020-06-08', '2020-06-09', '2020-06-10',\n",
       "       '2020-06-11', '2020-06-12', '2020-06-13', '2020-06-14',\n",
       "       '2020-06-15', '2020-06-16', '2020-06-17', '2020-06-18',\n",
       "       '2020-06-19', '2020-06-20', '2020-06-21', '2020-06-22',\n",
       "       '2020-06-23', '2020-06-24', '2020-06-25', '2020-06-26',\n",
       "       '2020-06-27', '2020-06-28', '2020-06-29'], dtype='datetime64[D]')"
      ]
     },
     "execution_count": 11,
     "metadata": {},
     "output_type": "execute_result"
    }
   ],
   "source": [
    "time_date_new = datetime(time_date_new)\n",
    "time_date_new"
   ]
  },
  {
   "cell_type": "markdown",
   "metadata": {},
   "source": [
    "-----------"
   ]
  },
  {
   "cell_type": "code",
   "execution_count": 12,
   "metadata": {},
   "outputs": [
    {
     "data": {
      "text/plain": [
       "DatetimeIndex(['2020-02-24', '2020-02-25', '2020-02-26', '2020-02-27',\n",
       "               '2020-02-28', '2020-02-29', '2020-03-01', '2020-03-02',\n",
       "               '2020-03-03', '2020-03-04',\n",
       "               ...\n",
       "               '2020-10-25', '2020-10-26', '2020-10-27', '2020-10-28',\n",
       "               '2020-10-29', '2020-10-30', '2020-10-31', '2020-11-01',\n",
       "               '2020-11-02', '2020-11-03'],\n",
       "              dtype='datetime64[ns]', length=254, freq='D')"
      ]
     },
     "execution_count": 12,
     "metadata": {},
     "output_type": "execute_result"
    }
   ],
   "source": [
    "time_date_new_extended = pd.date_range(start=time_date_new[0], periods=2*time_date.shape[0])\n",
    "time_date_new_extended"
   ]
  },
  {
   "cell_type": "code",
   "execution_count": 13,
   "metadata": {},
   "outputs": [
    {
     "data": {
      "text/plain": [
       "DatetimeIndex(['2020-02-24', '2020-02-25', '2020-02-26', '2020-02-27'], dtype='datetime64[ns]', freq='D')"
      ]
     },
     "execution_count": 13,
     "metadata": {},
     "output_type": "execute_result"
    }
   ],
   "source": [
    "time_date_new_extended[0:4]"
   ]
  },
  {
   "cell_type": "markdown",
   "metadata": {},
   "source": [
    "------------------\n",
    "\n",
    "### Total Cases"
   ]
  },
  {
   "cell_type": "code",
   "execution_count": 14,
   "metadata": {},
   "outputs": [
    {
     "data": {
      "text/plain": [
       "0    229\n",
       "1    322\n",
       "2    400\n",
       "3    650\n",
       "4    888\n",
       "Name: totale_casi, dtype: int64"
      ]
     },
     "execution_count": 14,
     "metadata": {},
     "output_type": "execute_result"
    }
   ],
   "source": [
    "total_cases_italy = df_nazionale['totale_casi']\n",
    "total_cases_italy.head()"
   ]
  },
  {
   "cell_type": "markdown",
   "metadata": {},
   "source": [
    "### Total Positive"
   ]
  },
  {
   "cell_type": "code",
   "execution_count": 15,
   "metadata": {},
   "outputs": [
    {
     "data": {
      "text/plain": [
       "0    221\n",
       "1    311\n",
       "2    385\n",
       "3    588\n",
       "4    821\n",
       "Name: totale_positivi, dtype: int64"
      ]
     },
     "execution_count": 15,
     "metadata": {},
     "output_type": "execute_result"
    }
   ],
   "source": [
    "total_positive_italy = df_nazionale['totale_positivi']\n",
    "total_positive_italy.head()"
   ]
  },
  {
   "cell_type": "markdown",
   "metadata": {},
   "source": [
    "-------------------------"
   ]
  },
  {
   "cell_type": "code",
   "execution_count": 16,
   "metadata": {
    "scrolled": false
   },
   "outputs": [
    {
     "data": {
      "text/html": [
       "\n",
       "\n",
       "\n",
       "\n",
       "\n",
       "\n",
       "  <div class=\"bk-root\" id=\"967529d7-5ed8-403c-9ec8-07850ed98aee\" data-root-id=\"1002\"></div>\n"
      ]
     },
     "metadata": {},
     "output_type": "display_data"
    },
    {
     "data": {
      "application/javascript": [
       "(function(root) {\n",
       "  function embed_document(root) {\n",
       "    \n",
       "  var docs_json = {\"fb5421b3-8b7b-48e7-b5b7-91ba43eabbde\":{\"roots\":{\"references\":[{\"attributes\":{\"below\":[{\"id\":\"1013\"}],\"center\":[{\"id\":\"1016\"},{\"id\":\"1020\"},{\"id\":\"1058\"}],\"left\":[{\"id\":\"1017\"}],\"plot_height\":450,\"renderers\":[{\"id\":\"1038\"},{\"id\":\"1063\"}],\"title\":{\"id\":\"1003\"},\"toolbar\":{\"id\":\"1028\"},\"x_range\":{\"id\":\"1005\"},\"x_scale\":{\"id\":\"1009\"},\"y_range\":{\"id\":\"1007\"},\"y_scale\":{\"id\":\"1011\"}},\"id\":\"1002\",\"subtype\":\"Figure\",\"type\":\"Plot\"},{\"attributes\":{\"source\":{\"id\":\"1060\"}},\"id\":\"1064\",\"type\":\"CDSView\"},{\"attributes\":{\"text\":\"Total Cases: Italy\"},\"id\":\"1003\",\"type\":\"Title\"},{\"attributes\":{},\"id\":\"1021\",\"type\":\"PanTool\"},{\"attributes\":{},\"id\":\"1069\",\"type\":\"NumeralTickFormatter\"},{\"attributes\":{\"items\":[{\"id\":\"1059\"}],\"location\":\"top_left\"},\"id\":\"1058\",\"type\":\"Legend\"},{\"attributes\":{\"axis_label\":\"Date\",\"formatter\":{\"id\":\"1065\"},\"major_label_orientation\":0.7853981633974483,\"minor_tick_in\":-5,\"minor_tick_out\":-3,\"ticker\":{\"id\":\"1014\"}},\"id\":\"1013\",\"type\":\"DatetimeAxis\"},{\"attributes\":{\"callback\":null,\"formatters\":{\"@x\":\"datetime\"},\"mode\":\"vline\",\"tooltips\":[[\"date\",\"@x{%d %B}\"],[\"total cases\",\"@y{0.}\"]]},\"id\":\"1070\",\"type\":\"HoverTool\"},{\"attributes\":{\"days\":[\"%d %B\"]},\"id\":\"1065\",\"type\":\"DatetimeTickFormatter\"},{\"attributes\":{\"data\":{\"x\":{\"__ndarray__\":\"AAAA5UcHd0IAAMBKmgd3QgAAgLDsB3dCAABAFj8Id0IAAAB8kQh3QgAAwOHjCHdCAACARzYJd0IAAECtiAl3QgAAABPbCXdCAADAeC0Kd0IAAIDefwp3QgAAQETSCndCAAAAqiQLd0IAAMAPdwt3QgAAgHXJC3dCAABA2xsMd0IAAABBbgx3QgAAwKbADHdCAACADBMNd0IAAEByZQ13QgAAANi3DXdCAADAPQoOd0IAAICjXA53QgAAQAmvDndCAAAAbwEPd0IAAMDUUw93QgAAgDqmD3dCAABAoPgPd0IAAAAGSxB3QgAAwGudEHdCAACA0e8Qd0IAAEA3QhF3QgAAAJ2UEXdCAADAAucRd0IAAIBoORJ3QgAAQM6LEndCAAAANN4Sd0IAAMCZMBN3QgAAgP+CE3dCAABAZdUTd0IAAADLJxR3QgAAwDB6FHdCAACAlswUd0IAAED8HhV3QgAAAGJxFXdCAADAx8MVd0IAAIAtFhZ3QgAAQJNoFndCAAAA+boWd0IAAMBeDRd3QgAAgMRfF3dCAABAKrIXd0IAAACQBBh3QgAAwPVWGHdCAACAW6kYd0IAAEDB+xh3QgAAACdOGXdCAADAjKAZd0IAAIDy8hl3QgAAQFhFGndCAAAAvpcad0IAAMAj6hp3QgAAgIk8G3dCAABA744bd0IAAABV4Rt3QgAAwLozHHdCAACAIIYcd0IAAECG2Bx3QgAAAOwqHXdCAADAUX0dd0IAAIC3zx13QgAAQB0iHndCAAAAg3Qed0IAAMDoxh53QgAAgE4ZH3dCAABAtGsfd0IAAAAavh93QgAAwH8QIHdCAACA5WIgd0IAAEBLtSB3QgAAALEHIXdCAADAFlohd0IAAIB8rCF3QgAAQOL+IXdCAAAASFEid0IAAMCtoyJ3QgAAgBP2IndCAABAeUgjd0IAAADfmiN3QgAAwETtI3dCAACAqj8kd0IAAEAQkiR3QgAAAHbkJHdCAADA2zYld0IAAIBBiSV3QgAAQKfbJXdCAAAADS4md0IAAMBygCZ3QgAAgNjSJndCAABAPiUnd0IAAACkdyd3QgAAwAnKJ3dCAACAbxwod0IAAEDVbih3QgAAADvBKHdCAADAoBMpd0IAAIAGZil3QgAAQGy4KXdCAAAA0goqd0IAAMA3XSp3QgAAgJ2vKndCAABAAwIrd0IAAABpVCt3QgAAwM6mK3dCAACANPkrd0IAAECaSyx3QgAAAACeLHdCAADAZfAsd0IAAIDLQi13QgAAQDGVLXdCAAAAl+ctd0IAAMD8OS53QgAAgGKMLndCAABAyN4ud0IAAAAuMS93QgAAwJODL3dCAACA+dUvd0I=\",\"dtype\":\"float64\",\"shape\":[127]},\"y\":[229,322,400,650,888,1128,1694,2036,2502,3089,3858,4636,5883,7375,9172,10149,12462,15113,17660,21157,24747,27980,31506,35713,41035,47021,53578,59138,63927,69176,74386,80539,86498,92472,97689,101739,105792,110574,115242,119827,124632,128948,132547,135586,139422,143626,147577,152271,156363,159516,162488,165155,168941,172434,175925,178972,181228,183957,187327,189973,192994,195351,197675,199414,201505,203591,205463,207428,209328,210717,211938,213013,214457,215858,217185,218268,219070,219814,221216,222104,223096,223885,224760,225435,225886,226699,227364,228006,228658,229327,229858,230158,230555,231139,231732,232248,232664,233019,233197,233515,233836,234013,234531,234801,234998,235278,235561,235763,236142,236305,236651,236989,237290,237500,237828,238159,238011,238275,238499,238720,238833,239410,239706,239961,240136,240310,240436]},\"selected\":{\"id\":\"1091\"},\"selection_policy\":{\"id\":\"1090\"}},\"id\":\"1060\",\"type\":\"ColumnDataSource\"},{\"attributes\":{\"axis_label\":\"Total Cases\",\"formatter\":{\"id\":\"1069\"},\"minor_tick_in\":-5,\"minor_tick_out\":-3,\"ticker\":{\"id\":\"1018\"}},\"id\":\"1017\",\"type\":\"LinearAxis\"},{\"attributes\":{\"days\":[1,2,3,4,5,6,7,8,9,10,11,12,13,14,15,16,17,18,19,20,21,22,23,24,25,26,27,28,29,30,31]},\"id\":\"1049\",\"type\":\"DaysTicker\"},{\"attributes\":{},\"id\":\"1088\",\"type\":\"UnionRenderers\"},{\"attributes\":{},\"id\":\"1090\",\"type\":\"UnionRenderers\"},{\"attributes\":{\"data_source\":{\"id\":\"1060\"},\"glyph\":{\"id\":\"1061\"},\"hover_glyph\":null,\"muted_glyph\":null,\"nonselection_glyph\":{\"id\":\"1062\"},\"selection_glyph\":null,\"view\":{\"id\":\"1064\"}},\"id\":\"1063\",\"type\":\"GlyphRenderer\"},{\"attributes\":{},\"id\":\"1018\",\"type\":\"BasicTicker\"},{\"attributes\":{\"base\":24,\"mantissas\":[1,2,4,6,8,12],\"max_interval\":43200000.0,\"min_interval\":3600000.0,\"num_minor_ticks\":0},\"id\":\"1048\",\"type\":\"AdaptiveTicker\"},{\"attributes\":{\"bottom_units\":\"screen\",\"fill_alpha\":0.5,\"fill_color\":\"lightgrey\",\"left_units\":\"screen\",\"level\":\"overlay\",\"line_alpha\":1.0,\"line_color\":\"black\",\"line_dash\":[4,4],\"line_width\":2,\"render_mode\":\"css\",\"right_units\":\"screen\",\"top_units\":\"screen\"},\"id\":\"1027\",\"type\":\"BoxAnnotation\"},{\"attributes\":{},\"id\":\"1091\",\"type\":\"Selection\"},{\"attributes\":{\"data_source\":{\"id\":\"1035\"},\"glyph\":{\"id\":\"1036\"},\"hover_glyph\":null,\"muted_glyph\":null,\"nonselection_glyph\":{\"id\":\"1037\"},\"selection_glyph\":null,\"view\":{\"id\":\"1039\"}},\"id\":\"1038\",\"type\":\"GlyphRenderer\"},{\"attributes\":{},\"id\":\"1089\",\"type\":\"Selection\"},{\"attributes\":{\"active_drag\":\"auto\",\"active_inspect\":\"auto\",\"active_multi\":null,\"active_scroll\":\"auto\",\"active_tap\":\"auto\",\"tools\":[{\"id\":\"1021\"},{\"id\":\"1022\"},{\"id\":\"1023\"},{\"id\":\"1024\"},{\"id\":\"1025\"},{\"id\":\"1026\"},{\"id\":\"1070\"}]},\"id\":\"1028\",\"type\":\"Toolbar\"},{\"attributes\":{\"months\":[0,6]},\"id\":\"1056\",\"type\":\"MonthsTicker\"},{\"attributes\":{},\"id\":\"1057\",\"type\":\"YearsTicker\"},{\"attributes\":{\"axis\":{\"id\":\"1013\"},\"ticker\":null},\"id\":\"1016\",\"type\":\"Grid\"},{\"attributes\":{\"num_minor_ticks\":5,\"tickers\":[{\"id\":\"1046\"},{\"id\":\"1047\"},{\"id\":\"1048\"},{\"id\":\"1049\"},{\"id\":\"1050\"},{\"id\":\"1051\"},{\"id\":\"1052\"},{\"id\":\"1053\"},{\"id\":\"1054\"},{\"id\":\"1055\"},{\"id\":\"1056\"},{\"id\":\"1057\"}]},\"id\":\"1014\",\"type\":\"DatetimeTicker\"},{\"attributes\":{\"days\":[1,4,7,10,13,16,19,22,25,28]},\"id\":\"1050\",\"type\":\"DaysTicker\"},{\"attributes\":{\"data\":{\"x\":{\"__ndarray__\":\"AAAA5UcHd0IAAMBKmgd3QgAAgLDsB3dCAABAFj8Id0IAAAB8kQh3QgAAwOHjCHdCAACARzYJd0IAAECtiAl3QgAAABPbCXdCAADAeC0Kd0IAAIDefwp3QgAAQETSCndCAAAAqiQLd0IAAMAPdwt3QgAAgHXJC3dCAABA2xsMd0IAAABBbgx3QgAAwKbADHdCAACADBMNd0IAAEByZQ13QgAAANi3DXdCAADAPQoOd0IAAICjXA53QgAAQAmvDndCAAAAbwEPd0IAAMDUUw93QgAAgDqmD3dCAABAoPgPd0IAAAAGSxB3QgAAwGudEHdCAACA0e8Qd0IAAEA3QhF3QgAAAJ2UEXdCAADAAucRd0IAAIBoORJ3QgAAQM6LEndCAAAANN4Sd0IAAMCZMBN3QgAAgP+CE3dCAABAZdUTd0IAAADLJxR3QgAAwDB6FHdCAACAlswUd0IAAED8HhV3QgAAAGJxFXdCAADAx8MVd0IAAIAtFhZ3QgAAQJNoFndCAAAA+boWd0IAAMBeDRd3QgAAgMRfF3dCAABAKrIXd0IAAACQBBh3QgAAwPVWGHdCAACAW6kYd0IAAEDB+xh3QgAAACdOGXdCAADAjKAZd0IAAIDy8hl3QgAAQFhFGndCAAAAvpcad0IAAMAj6hp3QgAAgIk8G3dCAABA744bd0IAAABV4Rt3QgAAwLozHHdCAACAIIYcd0IAAECG2Bx3QgAAAOwqHXdCAADAUX0dd0IAAIC3zx13QgAAQB0iHndCAAAAg3Qed0IAAMDoxh53QgAAgE4ZH3dCAABAtGsfd0IAAAAavh93QgAAwH8QIHdCAACA5WIgd0IAAEBLtSB3QgAAALEHIXdCAADAFlohd0IAAIB8rCF3QgAAQOL+IXdCAAAASFEid0IAAMCtoyJ3QgAAgBP2IndCAABAeUgjd0IAAADfmiN3QgAAwETtI3dCAACAqj8kd0IAAEAQkiR3QgAAAHbkJHdCAADA2zYld0IAAIBBiSV3QgAAQKfbJXdCAAAADS4md0IAAMBygCZ3QgAAgNjSJndCAABAPiUnd0IAAACkdyd3QgAAwAnKJ3dCAACAbxwod0IAAEDVbih3QgAAADvBKHdCAADAoBMpd0IAAIAGZil3QgAAQGy4KXdCAAAA0goqd0IAAMA3XSp3QgAAgJ2vKndCAABAAwIrd0IAAABpVCt3QgAAwM6mK3dCAACANPkrd0IAAECaSyx3QgAAAACeLHdCAADAZfAsd0IAAIDLQi13QgAAQDGVLXdCAAAAl+ctd0IAAMD8OS53QgAAgGKMLndCAABAyN4ud0IAAAAuMS93QgAAwJODL3dCAACA+dUvd0I=\",\"dtype\":\"float64\",\"shape\":[127]},\"y\":[229,322,400,650,888,1128,1694,2036,2502,3089,3858,4636,5883,7375,9172,10149,12462,15113,17660,21157,24747,27980,31506,35713,41035,47021,53578,59138,63927,69176,74386,80539,86498,92472,97689,101739,105792,110574,115242,119827,124632,128948,132547,135586,139422,143626,147577,152271,156363,159516,162488,165155,168941,172434,175925,178972,181228,183957,187327,189973,192994,195351,197675,199414,201505,203591,205463,207428,209328,210717,211938,213013,214457,215858,217185,218268,219070,219814,221216,222104,223096,223885,224760,225435,225886,226699,227364,228006,228658,229327,229858,230158,230555,231139,231732,232248,232664,233019,233197,233515,233836,234013,234531,234801,234998,235278,235561,235763,236142,236305,236651,236989,237290,237500,237828,238159,238011,238275,238499,238720,238833,239410,239706,239961,240136,240310,240436]},\"selected\":{\"id\":\"1089\"},\"selection_policy\":{\"id\":\"1088\"}},\"id\":\"1035\",\"type\":\"ColumnDataSource\"},{\"attributes\":{\"months\":[0,1,2,3,4,5,6,7,8,9,10,11]},\"id\":\"1053\",\"type\":\"MonthsTicker\"},{\"attributes\":{},\"id\":\"1025\",\"type\":\"ResetTool\"},{\"attributes\":{\"fill_alpha\":{\"value\":0.1},\"fill_color\":{\"value\":\"white\"},\"line_alpha\":{\"value\":0.1},\"line_color\":{\"value\":\"blue\"},\"size\":{\"units\":\"screen\",\"value\":6},\"x\":{\"field\":\"x\"},\"y\":{\"field\":\"y\"}},\"id\":\"1062\",\"type\":\"Circle\"},{\"attributes\":{\"line_color\":\"blue\",\"line_width\":4,\"x\":{\"field\":\"x\"},\"y\":{\"field\":\"y\"}},\"id\":\"1036\",\"type\":\"Line\"},{\"attributes\":{\"days\":[1,8,15,22]},\"id\":\"1051\",\"type\":\"DaysTicker\"},{\"attributes\":{\"months\":[0,4,8]},\"id\":\"1055\",\"type\":\"MonthsTicker\"},{\"attributes\":{\"base\":60,\"mantissas\":[1,2,5,10,15,20,30],\"max_interval\":1800000.0,\"min_interval\":1000.0,\"num_minor_ticks\":0},\"id\":\"1047\",\"type\":\"AdaptiveTicker\"},{\"attributes\":{},\"id\":\"1024\",\"type\":\"SaveTool\"},{\"attributes\":{},\"id\":\"1007\",\"type\":\"DataRange1d\"},{\"attributes\":{\"axis\":{\"id\":\"1017\"},\"dimension\":1,\"ticker\":null},\"id\":\"1020\",\"type\":\"Grid\"},{\"attributes\":{\"line_alpha\":0.1,\"line_color\":\"blue\",\"line_width\":4,\"x\":{\"field\":\"x\"},\"y\":{\"field\":\"y\"}},\"id\":\"1037\",\"type\":\"Line\"},{\"attributes\":{\"source\":{\"id\":\"1035\"}},\"id\":\"1039\",\"type\":\"CDSView\"},{\"attributes\":{\"mantissas\":[1,2,5],\"max_interval\":500.0,\"num_minor_ticks\":0},\"id\":\"1046\",\"type\":\"AdaptiveTicker\"},{\"attributes\":{},\"id\":\"1005\",\"type\":\"DataRange1d\"},{\"attributes\":{\"label\":{\"value\":\"total cases\"},\"renderers\":[{\"id\":\"1038\"}]},\"id\":\"1059\",\"type\":\"LegendItem\"},{\"attributes\":{\"fill_color\":{\"value\":\"white\"},\"line_color\":{\"value\":\"blue\"},\"size\":{\"units\":\"screen\",\"value\":6},\"x\":{\"field\":\"x\"},\"y\":{\"field\":\"y\"}},\"id\":\"1061\",\"type\":\"Circle\"},{\"attributes\":{},\"id\":\"1022\",\"type\":\"WheelZoomTool\"},{\"attributes\":{},\"id\":\"1026\",\"type\":\"HelpTool\"},{\"attributes\":{},\"id\":\"1011\",\"type\":\"LinearScale\"},{\"attributes\":{},\"id\":\"1009\",\"type\":\"LinearScale\"},{\"attributes\":{\"days\":[1,15]},\"id\":\"1052\",\"type\":\"DaysTicker\"},{\"attributes\":{\"months\":[0,2,4,6,8,10]},\"id\":\"1054\",\"type\":\"MonthsTicker\"},{\"attributes\":{\"overlay\":{\"id\":\"1027\"}},\"id\":\"1023\",\"type\":\"BoxZoomTool\"}],\"root_ids\":[\"1002\"]},\"title\":\"Bokeh Application\",\"version\":\"2.0.2\"}};\n",
       "  var render_items = [{\"docid\":\"fb5421b3-8b7b-48e7-b5b7-91ba43eabbde\",\"root_ids\":[\"1002\"],\"roots\":{\"1002\":\"967529d7-5ed8-403c-9ec8-07850ed98aee\"}}];\n",
       "  root.Bokeh.embed.embed_items_notebook(docs_json, render_items);\n",
       "\n",
       "  }\n",
       "  if (root.Bokeh !== undefined) {\n",
       "    embed_document(root);\n",
       "  } else {\n",
       "    var attempts = 0;\n",
       "    var timer = setInterval(function(root) {\n",
       "      if (root.Bokeh !== undefined) {\n",
       "        clearInterval(timer);\n",
       "        embed_document(root);\n",
       "      } else {\n",
       "        attempts++;\n",
       "        if (attempts > 100) {\n",
       "          clearInterval(timer);\n",
       "          console.log(\"Bokeh: ERROR: Unable to run BokehJS code because BokehJS library is missing\");\n",
       "        }\n",
       "      }\n",
       "    }, 10, root)\n",
       "  }\n",
       "})(window);"
      ],
      "application/vnd.bokehjs_exec.v0+json": ""
     },
     "metadata": {
      "application/vnd.bokehjs_exec.v0+json": {
       "id": "1002"
      }
     },
     "output_type": "display_data"
    }
   ],
   "source": [
    "p_total_cases_Italy = bokeh_plot_1_line(x=time_date_new, y=total_cases_italy, \n",
    "                  title='Total Cases: Italy', \n",
    "                  file_name=\"total_cases_Italy.html\", \n",
    "                  x_label='Date', \n",
    "                  y_label='Total Cases', legend='total cases',\n",
    "                  x_label_hover='date', y_label_hover='total cases',\n",
    "                  color='blue', y_minmax=None)\n",
    "\n",
    "show(p_total_cases_Italy)"
   ]
  },
  {
   "cell_type": "code",
   "execution_count": 17,
   "metadata": {},
   "outputs": [
    {
     "data": {
      "text/html": [
       "\n",
       "\n",
       "\n",
       "\n",
       "\n",
       "\n",
       "  <div class=\"bk-root\" id=\"e3b5f9af-27e8-49ee-9bef-d25a697d61d7\" data-root-id=\"1433\"></div>\n"
      ]
     },
     "metadata": {},
     "output_type": "display_data"
    },
    {
     "data": {
      "application/javascript": [
       "(function(root) {\n",
       "  function embed_document(root) {\n",
       "    \n",
       "  var docs_json = {\"e7d52cdf-592e-43d9-bbf3-4687f9d00442\":{\"roots\":{\"references\":[{\"attributes\":{\"below\":[{\"id\":\"1444\"}],\"center\":[{\"id\":\"1447\"},{\"id\":\"1451\"},{\"id\":\"1489\"}],\"left\":[{\"id\":\"1448\"}],\"plot_height\":450,\"renderers\":[{\"id\":\"1469\"},{\"id\":\"1494\"},{\"id\":\"1499\"},{\"id\":\"1527\"}],\"title\":{\"id\":\"1434\"},\"toolbar\":{\"id\":\"1459\"},\"x_range\":{\"id\":\"1436\"},\"x_scale\":{\"id\":\"1440\"},\"y_range\":{\"id\":\"1438\"},\"y_scale\":{\"id\":\"1442\"}},\"id\":\"1433\",\"subtype\":\"Figure\",\"type\":\"Plot\"},{\"attributes\":{\"days\":[1,4,7,10,13,16,19,22,25,28]},\"id\":\"1481\",\"type\":\"DaysTicker\"},{\"attributes\":{\"months\":[0,2,4,6,8,10]},\"id\":\"1485\",\"type\":\"MonthsTicker\"},{\"attributes\":{\"days\":[1,2,3,4,5,6,7,8,9,10,11,12,13,14,15,16,17,18,19,20,21,22,23,24,25,26,27,28,29,30,31]},\"id\":\"1480\",\"type\":\"DaysTicker\"},{\"attributes\":{},\"id\":\"1519\",\"type\":\"UnionRenderers\"},{\"attributes\":{\"data_source\":{\"id\":\"1466\"},\"glyph\":{\"id\":\"1467\"},\"hover_glyph\":null,\"muted_glyph\":null,\"nonselection_glyph\":{\"id\":\"1468\"},\"selection_glyph\":null,\"view\":{\"id\":\"1470\"}},\"id\":\"1469\",\"type\":\"GlyphRenderer\"},{\"attributes\":{\"days\":[1,15]},\"id\":\"1483\",\"type\":\"DaysTicker\"},{\"attributes\":{\"items\":[{\"id\":\"1490\"},{\"id\":\"1523\"}],\"location\":\"top_left\"},\"id\":\"1489\",\"type\":\"Legend\"},{\"attributes\":{\"data_source\":{\"id\":\"1496\"},\"glyph\":{\"id\":\"1497\"},\"hover_glyph\":null,\"muted_glyph\":null,\"nonselection_glyph\":{\"id\":\"1498\"},\"selection_glyph\":null,\"view\":{\"id\":\"1500\"}},\"id\":\"1499\",\"type\":\"GlyphRenderer\"},{\"attributes\":{\"active_drag\":\"auto\",\"active_inspect\":\"auto\",\"active_multi\":null,\"active_scroll\":\"auto\",\"active_tap\":\"auto\",\"tools\":[{\"id\":\"1452\"},{\"id\":\"1453\"},{\"id\":\"1454\"},{\"id\":\"1455\"},{\"id\":\"1456\"},{\"id\":\"1457\"},{\"id\":\"1534\"}]},\"id\":\"1459\",\"type\":\"Toolbar\"},{\"attributes\":{\"line_alpha\":0.1,\"line_color\":\"firebrick\",\"line_width\":4,\"x\":{\"field\":\"x\"},\"y\":{\"field\":\"y\"}},\"id\":\"1498\",\"type\":\"Line\"},{\"attributes\":{\"source\":{\"id\":\"1496\"}},\"id\":\"1500\",\"type\":\"CDSView\"},{\"attributes\":{\"source\":{\"id\":\"1524\"}},\"id\":\"1528\",\"type\":\"CDSView\"},{\"attributes\":{\"axis\":{\"id\":\"1448\"},\"dimension\":1,\"ticker\":null},\"id\":\"1451\",\"type\":\"Grid\"},{\"attributes\":{\"label\":{\"value\":\"total positive\"},\"renderers\":[{\"id\":\"1499\"}]},\"id\":\"1523\",\"type\":\"LegendItem\"},{\"attributes\":{\"bottom_units\":\"screen\",\"fill_alpha\":0.5,\"fill_color\":\"lightgrey\",\"left_units\":\"screen\",\"level\":\"overlay\",\"line_alpha\":1.0,\"line_color\":\"black\",\"line_dash\":[4,4],\"line_width\":2,\"render_mode\":\"css\",\"right_units\":\"screen\",\"top_units\":\"screen\"},\"id\":\"1458\",\"type\":\"BoxAnnotation\"},{\"attributes\":{},\"id\":\"1521\",\"type\":\"UnionRenderers\"},{\"attributes\":{\"data_source\":{\"id\":\"1491\"},\"glyph\":{\"id\":\"1492\"},\"hover_glyph\":null,\"muted_glyph\":null,\"nonselection_glyph\":{\"id\":\"1493\"},\"selection_glyph\":null,\"view\":{\"id\":\"1495\"}},\"id\":\"1494\",\"type\":\"GlyphRenderer\"},{\"attributes\":{\"days\":[1,8,15,22]},\"id\":\"1482\",\"type\":\"DaysTicker\"},{\"attributes\":{},\"id\":\"1578\",\"type\":\"UnionRenderers\"},{\"attributes\":{\"data\":{\"x\":{\"__ndarray__\":\"AAAA5UcHd0IAAMBKmgd3QgAAgLDsB3dCAABAFj8Id0IAAAB8kQh3QgAAwOHjCHdCAACARzYJd0IAAECtiAl3QgAAABPbCXdCAADAeC0Kd0IAAIDefwp3QgAAQETSCndCAAAAqiQLd0IAAMAPdwt3QgAAgHXJC3dCAABA2xsMd0IAAABBbgx3QgAAwKbADHdCAACADBMNd0IAAEByZQ13QgAAANi3DXdCAADAPQoOd0IAAICjXA53QgAAQAmvDndCAAAAbwEPd0IAAMDUUw93QgAAgDqmD3dCAABAoPgPd0IAAAAGSxB3QgAAwGudEHdCAACA0e8Qd0IAAEA3QhF3QgAAAJ2UEXdCAADAAucRd0IAAIBoORJ3QgAAQM6LEndCAAAANN4Sd0IAAMCZMBN3QgAAgP+CE3dCAABAZdUTd0IAAADLJxR3QgAAwDB6FHdCAACAlswUd0IAAED8HhV3QgAAAGJxFXdCAADAx8MVd0IAAIAtFhZ3QgAAQJNoFndCAAAA+boWd0IAAMBeDRd3QgAAgMRfF3dCAABAKrIXd0IAAACQBBh3QgAAwPVWGHdCAACAW6kYd0IAAEDB+xh3QgAAACdOGXdCAADAjKAZd0IAAIDy8hl3QgAAQFhFGndCAAAAvpcad0IAAMAj6hp3QgAAgIk8G3dCAABA744bd0IAAABV4Rt3QgAAwLozHHdCAACAIIYcd0IAAECG2Bx3QgAAAOwqHXdCAADAUX0dd0IAAIC3zx13QgAAQB0iHndCAAAAg3Qed0IAAMDoxh53QgAAgE4ZH3dCAABAtGsfd0IAAAAavh93QgAAwH8QIHdCAACA5WIgd0IAAEBLtSB3QgAAALEHIXdCAADAFlohd0IAAIB8rCF3QgAAQOL+IXdCAAAASFEid0IAAMCtoyJ3QgAAgBP2IndCAABAeUgjd0IAAADfmiN3QgAAwETtI3dCAACAqj8kd0IAAEAQkiR3QgAAAHbkJHdCAADA2zYld0IAAIBBiSV3QgAAQKfbJXdCAAAADS4md0IAAMBygCZ3QgAAgNjSJndCAABAPiUnd0IAAACkdyd3QgAAwAnKJ3dCAACAbxwod0IAAEDVbih3QgAAADvBKHdCAADAoBMpd0IAAIAGZil3QgAAQGy4KXdCAAAA0goqd0IAAMA3XSp3QgAAgJ2vKndCAABAAwIrd0IAAABpVCt3QgAAwM6mK3dCAACANPkrd0IAAECaSyx3QgAAAACeLHdCAADAZfAsd0IAAIDLQi13QgAAQDGVLXdCAAAAl+ctd0IAAMD8OS53QgAAgGKMLndCAABAyN4ud0IAAAAuMS93QgAAwJODL3dCAACA+dUvd0I=\",\"dtype\":\"float64\",\"shape\":[127]},\"y\":[221,311,385,588,821,1049,1577,1835,2263,2706,3296,3916,5061,6387,7985,8514,10590,12839,14955,17750,20603,23073,26062,28710,33190,37860,42681,46638,50418,54030,57521,62013,66414,70065,73880,75528,77635,80572,83049,85388,88274,91246,93187,94067,95262,96877,98273,100269,102253,103616,104291,105418,106607,106962,107771,108257,108237,107709,107699,106848,106527,105847,106103,105813,105205,104657,101551,100943,100704,100179,99980,98467,91528,89624,87961,84842,83324,82488,81266,78457,76440,72070,70187,68351,66553,65129,62752,60960,59322,57752,56594,55300,52942,50966,47986,46175,43691,42097,41367,39893,39297,38429,36976,35877,35262,34730,32872,31710,30637,28997,27485,26274,25909,24569,23925,23101,21543,21212,20972,20637,19573,18655,18303,17638,16836,16681,16496]},\"selected\":{\"id\":\"1579\"},\"selection_policy\":{\"id\":\"1578\"}},\"id\":\"1524\",\"type\":\"ColumnDataSource\"},{\"attributes\":{},\"id\":\"1436\",\"type\":\"DataRange1d\"},{\"attributes\":{},\"id\":\"1452\",\"type\":\"PanTool\"},{\"attributes\":{\"callback\":null,\"formatters\":{\"@x\":\"datetime\"},\"mode\":\"vline\",\"tooltips\":[[\"date\",\"@x{%d %B}\"],[\"total cases OR positive\",\"@y{0.}\"]]},\"id\":\"1534\",\"type\":\"HoverTool\"},{\"attributes\":{},\"id\":\"1520\",\"type\":\"Selection\"},{\"attributes\":{\"data\":{\"x\":{\"__ndarray__\":\"AAAA5UcHd0IAAMBKmgd3QgAAgLDsB3dCAABAFj8Id0IAAAB8kQh3QgAAwOHjCHdCAACARzYJd0IAAECtiAl3QgAAABPbCXdCAADAeC0Kd0IAAIDefwp3QgAAQETSCndCAAAAqiQLd0IAAMAPdwt3QgAAgHXJC3dCAABA2xsMd0IAAABBbgx3QgAAwKbADHdCAACADBMNd0IAAEByZQ13QgAAANi3DXdCAADAPQoOd0IAAICjXA53QgAAQAmvDndCAAAAbwEPd0IAAMDUUw93QgAAgDqmD3dCAABAoPgPd0IAAAAGSxB3QgAAwGudEHdCAACA0e8Qd0IAAEA3QhF3QgAAAJ2UEXdCAADAAucRd0IAAIBoORJ3QgAAQM6LEndCAAAANN4Sd0IAAMCZMBN3QgAAgP+CE3dCAABAZdUTd0IAAADLJxR3QgAAwDB6FHdCAACAlswUd0IAAED8HhV3QgAAAGJxFXdCAADAx8MVd0IAAIAtFhZ3QgAAQJNoFndCAAAA+boWd0IAAMBeDRd3QgAAgMRfF3dCAABAKrIXd0IAAACQBBh3QgAAwPVWGHdCAACAW6kYd0IAAEDB+xh3QgAAACdOGXdCAADAjKAZd0IAAIDy8hl3QgAAQFhFGndCAAAAvpcad0IAAMAj6hp3QgAAgIk8G3dCAABA744bd0IAAABV4Rt3QgAAwLozHHdCAACAIIYcd0IAAECG2Bx3QgAAAOwqHXdCAADAUX0dd0IAAIC3zx13QgAAQB0iHndCAAAAg3Qed0IAAMDoxh53QgAAgE4ZH3dCAABAtGsfd0IAAAAavh93QgAAwH8QIHdCAACA5WIgd0IAAEBLtSB3QgAAALEHIXdCAADAFlohd0IAAIB8rCF3QgAAQOL+IXdCAAAASFEid0IAAMCtoyJ3QgAAgBP2IndCAABAeUgjd0IAAADfmiN3QgAAwETtI3dCAACAqj8kd0IAAEAQkiR3QgAAAHbkJHdCAADA2zYld0IAAIBBiSV3QgAAQKfbJXdCAAAADS4md0IAAMBygCZ3QgAAgNjSJndCAABAPiUnd0IAAACkdyd3QgAAwAnKJ3dCAACAbxwod0IAAEDVbih3QgAAADvBKHdCAADAoBMpd0IAAIAGZil3QgAAQGy4KXdCAAAA0goqd0IAAMA3XSp3QgAAgJ2vKndCAABAAwIrd0IAAABpVCt3QgAAwM6mK3dCAACANPkrd0IAAECaSyx3QgAAAACeLHdCAADAZfAsd0IAAIDLQi13QgAAQDGVLXdCAAAAl+ctd0IAAMD8OS53QgAAgGKMLndCAABAyN4ud0IAAAAuMS93QgAAwJODL3dCAACA+dUvd0I=\",\"dtype\":\"float64\",\"shape\":[127]},\"y\":[229,322,400,650,888,1128,1694,2036,2502,3089,3858,4636,5883,7375,9172,10149,12462,15113,17660,21157,24747,27980,31506,35713,41035,47021,53578,59138,63927,69176,74386,80539,86498,92472,97689,101739,105792,110574,115242,119827,124632,128948,132547,135586,139422,143626,147577,152271,156363,159516,162488,165155,168941,172434,175925,178972,181228,183957,187327,189973,192994,195351,197675,199414,201505,203591,205463,207428,209328,210717,211938,213013,214457,215858,217185,218268,219070,219814,221216,222104,223096,223885,224760,225435,225886,226699,227364,228006,228658,229327,229858,230158,230555,231139,231732,232248,232664,233019,233197,233515,233836,234013,234531,234801,234998,235278,235561,235763,236142,236305,236651,236989,237290,237500,237828,238159,238011,238275,238499,238720,238833,239410,239706,239961,240136,240310,240436]},\"selected\":{\"id\":\"1520\"},\"selection_policy\":{\"id\":\"1519\"}},\"id\":\"1466\",\"type\":\"ColumnDataSource\"},{\"attributes\":{\"fill_color\":{\"value\":\"white\"},\"line_color\":{\"value\":\"blue\"},\"size\":{\"units\":\"screen\",\"value\":6},\"x\":{\"field\":\"x\"},\"y\":{\"field\":\"y\"}},\"id\":\"1492\",\"type\":\"Circle\"},{\"attributes\":{\"line_color\":\"firebrick\",\"line_width\":4,\"x\":{\"field\":\"x\"},\"y\":{\"field\":\"y\"}},\"id\":\"1497\",\"type\":\"Line\"},{\"attributes\":{\"fill_color\":{\"value\":\"white\"},\"line_color\":{\"value\":\"firebrick\"},\"size\":{\"units\":\"screen\",\"value\":6},\"x\":{\"field\":\"x\"},\"y\":{\"field\":\"y\"}},\"id\":\"1525\",\"type\":\"Circle\"},{\"attributes\":{},\"id\":\"1533\",\"type\":\"NumeralTickFormatter\"},{\"attributes\":{\"months\":[0,1,2,3,4,5,6,7,8,9,10,11]},\"id\":\"1484\",\"type\":\"MonthsTicker\"},{\"attributes\":{},\"id\":\"1522\",\"type\":\"Selection\"},{\"attributes\":{},\"id\":\"1577\",\"type\":\"Selection\"},{\"attributes\":{\"mantissas\":[1,2,5],\"max_interval\":500.0,\"num_minor_ticks\":0},\"id\":\"1477\",\"type\":\"AdaptiveTicker\"},{\"attributes\":{\"source\":{\"id\":\"1466\"}},\"id\":\"1470\",\"type\":\"CDSView\"},{\"attributes\":{\"base\":24,\"mantissas\":[1,2,4,6,8,12],\"max_interval\":43200000.0,\"min_interval\":3600000.0,\"num_minor_ticks\":0},\"id\":\"1479\",\"type\":\"AdaptiveTicker\"},{\"attributes\":{},\"id\":\"1579\",\"type\":\"Selection\"},{\"attributes\":{\"days\":[\"%d %B\"]},\"id\":\"1529\",\"type\":\"DatetimeTickFormatter\"},{\"attributes\":{},\"id\":\"1440\",\"type\":\"LinearScale\"},{\"attributes\":{\"axis_label\":\"Date\",\"formatter\":{\"id\":\"1529\"},\"major_label_orientation\":0.7853981633974483,\"minor_tick_in\":-5,\"minor_tick_out\":-3,\"ticker\":{\"id\":\"1445\"}},\"id\":\"1444\",\"type\":\"DatetimeAxis\"},{\"attributes\":{\"line_alpha\":0.1,\"line_color\":\"blue\",\"line_width\":4,\"x\":{\"field\":\"x\"},\"y\":{\"field\":\"y\"}},\"id\":\"1468\",\"type\":\"Line\"},{\"attributes\":{\"months\":[0,6]},\"id\":\"1487\",\"type\":\"MonthsTicker\"},{\"attributes\":{\"axis_label\":\"Total Cases & Total Positive\",\"formatter\":{\"id\":\"1533\"},\"minor_tick_in\":-5,\"minor_tick_out\":-3,\"ticker\":{\"id\":\"1449\"}},\"id\":\"1448\",\"type\":\"LinearAxis\"},{\"attributes\":{},\"id\":\"1576\",\"type\":\"UnionRenderers\"},{\"attributes\":{\"num_minor_ticks\":5,\"tickers\":[{\"id\":\"1477\"},{\"id\":\"1478\"},{\"id\":\"1479\"},{\"id\":\"1480\"},{\"id\":\"1481\"},{\"id\":\"1482\"},{\"id\":\"1483\"},{\"id\":\"1484\"},{\"id\":\"1485\"},{\"id\":\"1486\"},{\"id\":\"1487\"},{\"id\":\"1488\"}]},\"id\":\"1445\",\"type\":\"DatetimeTicker\"},{\"attributes\":{\"data_source\":{\"id\":\"1524\"},\"glyph\":{\"id\":\"1525\"},\"hover_glyph\":null,\"muted_glyph\":null,\"nonselection_glyph\":{\"id\":\"1526\"},\"selection_glyph\":null,\"view\":{\"id\":\"1528\"}},\"id\":\"1527\",\"type\":\"GlyphRenderer\"},{\"attributes\":{},\"id\":\"1453\",\"type\":\"WheelZoomTool\"},{\"attributes\":{\"text\":\"Total Cases vs Total Positive: Italy\"},\"id\":\"1434\",\"type\":\"Title\"},{\"attributes\":{},\"id\":\"1442\",\"type\":\"LinearScale\"},{\"attributes\":{\"axis\":{\"id\":\"1444\"},\"ticker\":null},\"id\":\"1447\",\"type\":\"Grid\"},{\"attributes\":{},\"id\":\"1457\",\"type\":\"HelpTool\"},{\"attributes\":{\"data\":{\"x\":{\"__ndarray__\":\"AAAA5UcHd0IAAMBKmgd3QgAAgLDsB3dCAABAFj8Id0IAAAB8kQh3QgAAwOHjCHdCAACARzYJd0IAAECtiAl3QgAAABPbCXdCAADAeC0Kd0IAAIDefwp3QgAAQETSCndCAAAAqiQLd0IAAMAPdwt3QgAAgHXJC3dCAABA2xsMd0IAAABBbgx3QgAAwKbADHdCAACADBMNd0IAAEByZQ13QgAAANi3DXdCAADAPQoOd0IAAICjXA53QgAAQAmvDndCAAAAbwEPd0IAAMDUUw93QgAAgDqmD3dCAABAoPgPd0IAAAAGSxB3QgAAwGudEHdCAACA0e8Qd0IAAEA3QhF3QgAAAJ2UEXdCAADAAucRd0IAAIBoORJ3QgAAQM6LEndCAAAANN4Sd0IAAMCZMBN3QgAAgP+CE3dCAABAZdUTd0IAAADLJxR3QgAAwDB6FHdCAACAlswUd0IAAED8HhV3QgAAAGJxFXdCAADAx8MVd0IAAIAtFhZ3QgAAQJNoFndCAAAA+boWd0IAAMBeDRd3QgAAgMRfF3dCAABAKrIXd0IAAACQBBh3QgAAwPVWGHdCAACAW6kYd0IAAEDB+xh3QgAAACdOGXdCAADAjKAZd0IAAIDy8hl3QgAAQFhFGndCAAAAvpcad0IAAMAj6hp3QgAAgIk8G3dCAABA744bd0IAAABV4Rt3QgAAwLozHHdCAACAIIYcd0IAAECG2Bx3QgAAAOwqHXdCAADAUX0dd0IAAIC3zx13QgAAQB0iHndCAAAAg3Qed0IAAMDoxh53QgAAgE4ZH3dCAABAtGsfd0IAAAAavh93QgAAwH8QIHdCAACA5WIgd0IAAEBLtSB3QgAAALEHIXdCAADAFlohd0IAAIB8rCF3QgAAQOL+IXdCAAAASFEid0IAAMCtoyJ3QgAAgBP2IndCAABAeUgjd0IAAADfmiN3QgAAwETtI3dCAACAqj8kd0IAAEAQkiR3QgAAAHbkJHdCAADA2zYld0IAAIBBiSV3QgAAQKfbJXdCAAAADS4md0IAAMBygCZ3QgAAgNjSJndCAABAPiUnd0IAAACkdyd3QgAAwAnKJ3dCAACAbxwod0IAAEDVbih3QgAAADvBKHdCAADAoBMpd0IAAIAGZil3QgAAQGy4KXdCAAAA0goqd0IAAMA3XSp3QgAAgJ2vKndCAABAAwIrd0IAAABpVCt3QgAAwM6mK3dCAACANPkrd0IAAECaSyx3QgAAAACeLHdCAADAZfAsd0IAAIDLQi13QgAAQDGVLXdCAAAAl+ctd0IAAMD8OS53QgAAgGKMLndCAABAyN4ud0IAAAAuMS93QgAAwJODL3dCAACA+dUvd0I=\",\"dtype\":\"float64\",\"shape\":[127]},\"y\":[221,311,385,588,821,1049,1577,1835,2263,2706,3296,3916,5061,6387,7985,8514,10590,12839,14955,17750,20603,23073,26062,28710,33190,37860,42681,46638,50418,54030,57521,62013,66414,70065,73880,75528,77635,80572,83049,85388,88274,91246,93187,94067,95262,96877,98273,100269,102253,103616,104291,105418,106607,106962,107771,108257,108237,107709,107699,106848,106527,105847,106103,105813,105205,104657,101551,100943,100704,100179,99980,98467,91528,89624,87961,84842,83324,82488,81266,78457,76440,72070,70187,68351,66553,65129,62752,60960,59322,57752,56594,55300,52942,50966,47986,46175,43691,42097,41367,39893,39297,38429,36976,35877,35262,34730,32872,31710,30637,28997,27485,26274,25909,24569,23925,23101,21543,21212,20972,20637,19573,18655,18303,17638,16836,16681,16496]},\"selected\":{\"id\":\"1577\"},\"selection_policy\":{\"id\":\"1576\"}},\"id\":\"1496\",\"type\":\"ColumnDataSource\"},{\"attributes\":{},\"id\":\"1449\",\"type\":\"BasicTicker\"},{\"attributes\":{\"months\":[0,4,8]},\"id\":\"1486\",\"type\":\"MonthsTicker\"},{\"attributes\":{},\"id\":\"1438\",\"type\":\"DataRange1d\"},{\"attributes\":{},\"id\":\"1455\",\"type\":\"SaveTool\"},{\"attributes\":{},\"id\":\"1456\",\"type\":\"ResetTool\"},{\"attributes\":{\"fill_alpha\":{\"value\":0.1},\"fill_color\":{\"value\":\"white\"},\"line_alpha\":{\"value\":0.1},\"line_color\":{\"value\":\"blue\"},\"size\":{\"units\":\"screen\",\"value\":6},\"x\":{\"field\":\"x\"},\"y\":{\"field\":\"y\"}},\"id\":\"1493\",\"type\":\"Circle\"},{\"attributes\":{\"data\":{\"x\":{\"__ndarray__\":\"AAAA5UcHd0IAAMBKmgd3QgAAgLDsB3dCAABAFj8Id0IAAAB8kQh3QgAAwOHjCHdCAACARzYJd0IAAECtiAl3QgAAABPbCXdCAADAeC0Kd0IAAIDefwp3QgAAQETSCndCAAAAqiQLd0IAAMAPdwt3QgAAgHXJC3dCAABA2xsMd0IAAABBbgx3QgAAwKbADHdCAACADBMNd0IAAEByZQ13QgAAANi3DXdCAADAPQoOd0IAAICjXA53QgAAQAmvDndCAAAAbwEPd0IAAMDUUw93QgAAgDqmD3dCAABAoPgPd0IAAAAGSxB3QgAAwGudEHdCAACA0e8Qd0IAAEA3QhF3QgAAAJ2UEXdCAADAAucRd0IAAIBoORJ3QgAAQM6LEndCAAAANN4Sd0IAAMCZMBN3QgAAgP+CE3dCAABAZdUTd0IAAADLJxR3QgAAwDB6FHdCAACAlswUd0IAAED8HhV3QgAAAGJxFXdCAADAx8MVd0IAAIAtFhZ3QgAAQJNoFndCAAAA+boWd0IAAMBeDRd3QgAAgMRfF3dCAABAKrIXd0IAAACQBBh3QgAAwPVWGHdCAACAW6kYd0IAAEDB+xh3QgAAACdOGXdCAADAjKAZd0IAAIDy8hl3QgAAQFhFGndCAAAAvpcad0IAAMAj6hp3QgAAgIk8G3dCAABA744bd0IAAABV4Rt3QgAAwLozHHdCAACAIIYcd0IAAECG2Bx3QgAAAOwqHXdCAADAUX0dd0IAAIC3zx13QgAAQB0iHndCAAAAg3Qed0IAAMDoxh53QgAAgE4ZH3dCAABAtGsfd0IAAAAavh93QgAAwH8QIHdCAACA5WIgd0IAAEBLtSB3QgAAALEHIXdCAADAFlohd0IAAIB8rCF3QgAAQOL+IXdCAAAASFEid0IAAMCtoyJ3QgAAgBP2IndCAABAeUgjd0IAAADfmiN3QgAAwETtI3dCAACAqj8kd0IAAEAQkiR3QgAAAHbkJHdCAADA2zYld0IAAIBBiSV3QgAAQKfbJXdCAAAADS4md0IAAMBygCZ3QgAAgNjSJndCAABAPiUnd0IAAACkdyd3QgAAwAnKJ3dCAACAbxwod0IAAEDVbih3QgAAADvBKHdCAADAoBMpd0IAAIAGZil3QgAAQGy4KXdCAAAA0goqd0IAAMA3XSp3QgAAgJ2vKndCAABAAwIrd0IAAABpVCt3QgAAwM6mK3dCAACANPkrd0IAAECaSyx3QgAAAACeLHdCAADAZfAsd0IAAIDLQi13QgAAQDGVLXdCAAAAl+ctd0IAAMD8OS53QgAAgGKMLndCAABAyN4ud0IAAAAuMS93QgAAwJODL3dCAACA+dUvd0I=\",\"dtype\":\"float64\",\"shape\":[127]},\"y\":[229,322,400,650,888,1128,1694,2036,2502,3089,3858,4636,5883,7375,9172,10149,12462,15113,17660,21157,24747,27980,31506,35713,41035,47021,53578,59138,63927,69176,74386,80539,86498,92472,97689,101739,105792,110574,115242,119827,124632,128948,132547,135586,139422,143626,147577,152271,156363,159516,162488,165155,168941,172434,175925,178972,181228,183957,187327,189973,192994,195351,197675,199414,201505,203591,205463,207428,209328,210717,211938,213013,214457,215858,217185,218268,219070,219814,221216,222104,223096,223885,224760,225435,225886,226699,227364,228006,228658,229327,229858,230158,230555,231139,231732,232248,232664,233019,233197,233515,233836,234013,234531,234801,234998,235278,235561,235763,236142,236305,236651,236989,237290,237500,237828,238159,238011,238275,238499,238720,238833,239410,239706,239961,240136,240310,240436]},\"selected\":{\"id\":\"1522\"},\"selection_policy\":{\"id\":\"1521\"}},\"id\":\"1491\",\"type\":\"ColumnDataSource\"},{\"attributes\":{\"fill_alpha\":{\"value\":0.1},\"fill_color\":{\"value\":\"white\"},\"line_alpha\":{\"value\":0.1},\"line_color\":{\"value\":\"firebrick\"},\"size\":{\"units\":\"screen\",\"value\":6},\"x\":{\"field\":\"x\"},\"y\":{\"field\":\"y\"}},\"id\":\"1526\",\"type\":\"Circle\"},{\"attributes\":{\"line_color\":\"blue\",\"line_width\":4,\"x\":{\"field\":\"x\"},\"y\":{\"field\":\"y\"}},\"id\":\"1467\",\"type\":\"Line\"},{\"attributes\":{\"source\":{\"id\":\"1491\"}},\"id\":\"1495\",\"type\":\"CDSView\"},{\"attributes\":{\"base\":60,\"mantissas\":[1,2,5,10,15,20,30],\"max_interval\":1800000.0,\"min_interval\":1000.0,\"num_minor_ticks\":0},\"id\":\"1478\",\"type\":\"AdaptiveTicker\"},{\"attributes\":{\"label\":{\"value\":\"total cases\"},\"renderers\":[{\"id\":\"1469\"}]},\"id\":\"1490\",\"type\":\"LegendItem\"},{\"attributes\":{},\"id\":\"1488\",\"type\":\"YearsTicker\"},{\"attributes\":{\"overlay\":{\"id\":\"1458\"}},\"id\":\"1454\",\"type\":\"BoxZoomTool\"}],\"root_ids\":[\"1433\"]},\"title\":\"Bokeh Application\",\"version\":\"2.0.2\"}};\n",
       "  var render_items = [{\"docid\":\"e7d52cdf-592e-43d9-bbf3-4687f9d00442\",\"root_ids\":[\"1433\"],\"roots\":{\"1433\":\"e3b5f9af-27e8-49ee-9bef-d25a697d61d7\"}}];\n",
       "  root.Bokeh.embed.embed_items_notebook(docs_json, render_items);\n",
       "\n",
       "  }\n",
       "  if (root.Bokeh !== undefined) {\n",
       "    embed_document(root);\n",
       "  } else {\n",
       "    var attempts = 0;\n",
       "    var timer = setInterval(function(root) {\n",
       "      if (root.Bokeh !== undefined) {\n",
       "        clearInterval(timer);\n",
       "        embed_document(root);\n",
       "      } else {\n",
       "        attempts++;\n",
       "        if (attempts > 100) {\n",
       "          clearInterval(timer);\n",
       "          console.log(\"Bokeh: ERROR: Unable to run BokehJS code because BokehJS library is missing\");\n",
       "        }\n",
       "      }\n",
       "    }, 10, root)\n",
       "  }\n",
       "})(window);"
      ],
      "application/vnd.bokehjs_exec.v0+json": ""
     },
     "metadata": {
      "application/vnd.bokehjs_exec.v0+json": {
       "id": "1433"
      }
     },
     "output_type": "display_data"
    }
   ],
   "source": [
    "p_total_cases_positive_Italy = bokeh_plot_2_lines(x=time_date_new, y=total_cases_italy, yy=total_positive_italy, \n",
    "                  title='Total Cases vs Total Positive: Italy', \n",
    "                  file_name=\"total_cases_positive_Italy.html\", \n",
    "                  x_label='Date', y_label='Total Cases & Total Positive', \n",
    "                  legend_1='total cases', legend_2='total positive',\n",
    "                  x_label_hover='date' , y_label_hover='total cases OR positive' , \n",
    "                  color_1='blue', color_2='firebrick', y_minmax=None)\n",
    "\n",
    "show(p_total_cases_positive_Italy)"
   ]
  },
  {
   "cell_type": "code",
   "execution_count": 18,
   "metadata": {},
   "outputs": [
    {
     "data": {
      "text/html": [
       "\n",
       "\n",
       "\n",
       "\n",
       "\n",
       "\n",
       "  <div class=\"bk-root\" id=\"dbf215c0-6b85-476f-ab03-cc5d9dba4c7b\" data-root-id=\"2037\"></div>\n"
      ]
     },
     "metadata": {},
     "output_type": "display_data"
    },
    {
     "data": {
      "application/javascript": [
       "(function(root) {\n",
       "  function embed_document(root) {\n",
       "    \n",
       "  var docs_json = {\"cc0a6575-2fbf-47e5-b552-43f43bf0d8d2\":{\"roots\":{\"references\":[{\"attributes\":{\"below\":[{\"id\":\"2048\"}],\"center\":[{\"id\":\"2051\"},{\"id\":\"2055\"},{\"id\":\"2093\"}],\"left\":[{\"id\":\"2052\"}],\"plot_height\":450,\"renderers\":[{\"id\":\"2073\"},{\"id\":\"2098\"},{\"id\":\"2103\"},{\"id\":\"2131\"}],\"title\":{\"id\":\"2038\"},\"toolbar\":{\"id\":\"2063\"},\"x_range\":{\"id\":\"2040\"},\"x_scale\":{\"id\":\"2044\"},\"y_range\":{\"id\":\"2042\"},\"y_scale\":{\"id\":\"2046\"}},\"id\":\"2037\",\"subtype\":\"Figure\",\"type\":\"Plot\"},{\"attributes\":{\"data\":{\"x\":{\"__ndarray__\":\"AAAA5UcHd0IAAMBKmgd3QgAAgLDsB3dCAABAFj8Id0IAAAB8kQh3QgAAwOHjCHdCAACARzYJd0IAAECtiAl3QgAAABPbCXdCAADAeC0Kd0IAAIDefwp3QgAAQETSCndCAAAAqiQLd0IAAMAPdwt3QgAAgHXJC3dCAABA2xsMd0IAAABBbgx3QgAAwKbADHdCAACADBMNd0IAAEByZQ13QgAAANi3DXdCAADAPQoOd0IAAICjXA53QgAAQAmvDndCAAAAbwEPd0IAAMDUUw93QgAAgDqmD3dCAABAoPgPd0IAAAAGSxB3QgAAwGudEHdCAACA0e8Qd0IAAEA3QhF3QgAAAJ2UEXdCAADAAucRd0IAAIBoORJ3QgAAQM6LEndCAAAANN4Sd0IAAMCZMBN3QgAAgP+CE3dCAABAZdUTd0IAAADLJxR3QgAAwDB6FHdCAACAlswUd0IAAED8HhV3QgAAAGJxFXdCAADAx8MVd0IAAIAtFhZ3QgAAQJNoFndCAAAA+boWd0IAAMBeDRd3QgAAgMRfF3dCAABAKrIXd0IAAACQBBh3QgAAwPVWGHdCAACAW6kYd0IAAEDB+xh3QgAAACdOGXdCAADAjKAZd0IAAIDy8hl3QgAAQFhFGndCAAAAvpcad0IAAMAj6hp3QgAAgIk8G3dCAABA744bd0IAAABV4Rt3QgAAwLozHHdCAACAIIYcd0IAAECG2Bx3QgAAAOwqHXdCAADAUX0dd0IAAIC3zx13QgAAQB0iHndCAAAAg3Qed0IAAMDoxh53QgAAgE4ZH3dCAABAtGsfd0IAAAAavh93QgAAwH8QIHdCAACA5WIgd0IAAEBLtSB3QgAAALEHIXdCAADAFlohd0IAAIB8rCF3QgAAQOL+IXdCAAAASFEid0IAAMCtoyJ3QgAAgBP2IndCAABAeUgjd0IAAADfmiN3QgAAwETtI3dCAACAqj8kd0IAAEAQkiR3QgAAAHbkJHdCAADA2zYld0IAAIBBiSV3QgAAQKfbJXdCAAAADS4md0IAAMBygCZ3QgAAgNjSJndCAABAPiUnd0IAAACkdyd3QgAAwAnKJ3dCAACAbxwod0IAAEDVbih3QgAAADvBKHdCAADAoBMpd0IAAIAGZil3QgAAQGy4KXdCAAAA0goqd0IAAMA3XSp3QgAAgJ2vKndCAABAAwIrd0IAAABpVCt3QgAAwM6mK3dCAACANPkrd0IAAECaSyx3QgAAAACeLHdCAADAZfAsd0IAAIDLQi13QgAAQDGVLXdCAAAAl+ctd0IAAMD8OS53QgAAgGKMLndCAABAyN4ud0IAAAAuMS93QgAAwJODL3dCAACA+dUvd0I=\",\"dtype\":\"float64\",\"shape\":[127]},\"y\":[229,322,400,650,888,1128,1694,2036,2502,3089,3858,4636,5883,7375,9172,10149,12462,15113,17660,21157,24747,27980,31506,35713,41035,47021,53578,59138,63927,69176,74386,80539,86498,92472,97689,101739,105792,110574,115242,119827,124632,128948,132547,135586,139422,143626,147577,152271,156363,159516,162488,165155,168941,172434,175925,178972,181228,183957,187327,189973,192994,195351,197675,199414,201505,203591,205463,207428,209328,210717,211938,213013,214457,215858,217185,218268,219070,219814,221216,222104,223096,223885,224760,225435,225886,226699,227364,228006,228658,229327,229858,230158,230555,231139,231732,232248,232664,233019,233197,233515,233836,234013,234531,234801,234998,235278,235561,235763,236142,236305,236651,236989,237290,237500,237828,238159,238011,238275,238499,238720,238833,239410,239706,239961,240136,240310,240436]},\"selected\":{\"id\":\"2124\"},\"selection_policy\":{\"id\":\"2123\"}},\"id\":\"2070\",\"type\":\"ColumnDataSource\"},{\"attributes\":{\"days\":[1,15]},\"id\":\"2087\",\"type\":\"DaysTicker\"},{\"attributes\":{},\"id\":\"2040\",\"type\":\"DataRange1d\"},{\"attributes\":{\"source\":{\"id\":\"2070\"}},\"id\":\"2074\",\"type\":\"CDSView\"},{\"attributes\":{},\"id\":\"2205\",\"type\":\"UnionRenderers\"},{\"attributes\":{},\"id\":\"2056\",\"type\":\"PanTool\"},{\"attributes\":{\"bottom_units\":\"screen\",\"fill_alpha\":0.5,\"fill_color\":\"lightgrey\",\"left_units\":\"screen\",\"level\":\"overlay\",\"line_alpha\":1.0,\"line_color\":\"black\",\"line_dash\":[4,4],\"line_width\":2,\"render_mode\":\"css\",\"right_units\":\"screen\",\"top_units\":\"screen\"},\"id\":\"2062\",\"type\":\"BoxAnnotation\"},{\"attributes\":{\"months\":[0,1,2,3,4,5,6,7,8,9,10,11]},\"id\":\"2088\",\"type\":\"MonthsTicker\"},{\"attributes\":{},\"id\":\"2042\",\"type\":\"DataRange1d\"},{\"attributes\":{},\"id\":\"2125\",\"type\":\"UnionRenderers\"},{\"attributes\":{},\"id\":\"2206\",\"type\":\"Selection\"},{\"attributes\":{},\"id\":\"2057\",\"type\":\"WheelZoomTool\"},{\"attributes\":{\"months\":[0,2,4,6,8,10]},\"id\":\"2089\",\"type\":\"MonthsTicker\"},{\"attributes\":{},\"id\":\"2203\",\"type\":\"UnionRenderers\"},{\"attributes\":{\"overlay\":{\"id\":\"2062\"}},\"id\":\"2058\",\"type\":\"BoxZoomTool\"},{\"attributes\":{\"months\":[0,4,8]},\"id\":\"2090\",\"type\":\"MonthsTicker\"},{\"attributes\":{},\"id\":\"2046\",\"type\":\"LinearScale\"},{\"attributes\":{},\"id\":\"2124\",\"type\":\"Selection\"},{\"attributes\":{},\"id\":\"2059\",\"type\":\"SaveTool\"},{\"attributes\":{\"line_color\":\"red\",\"line_width\":4,\"x\":{\"field\":\"x\"},\"y\":{\"field\":\"y\"}},\"id\":\"2101\",\"type\":\"Line\"},{\"attributes\":{\"months\":[0,6]},\"id\":\"2091\",\"type\":\"MonthsTicker\"},{\"attributes\":{},\"id\":\"2044\",\"type\":\"LinearScale\"},{\"attributes\":{},\"id\":\"2060\",\"type\":\"ResetTool\"},{\"attributes\":{\"source\":{\"id\":\"2100\"}},\"id\":\"2104\",\"type\":\"CDSView\"},{\"attributes\":{},\"id\":\"2123\",\"type\":\"UnionRenderers\"},{\"attributes\":{\"days\":[\"%d %B\"]},\"id\":\"2133\",\"type\":\"DatetimeTickFormatter\"},{\"attributes\":{\"line_color\":\"blue\",\"line_width\":4,\"x\":{\"field\":\"x\"},\"y\":{\"field\":\"y\"}},\"id\":\"2071\",\"type\":\"Line\"},{\"attributes\":{\"fill_color\":{\"value\":\"white\"},\"line_color\":{\"value\":\"red\"},\"size\":{\"units\":\"screen\",\"value\":5},\"x\":{\"field\":\"x\"},\"y\":{\"field\":\"y\"}},\"id\":\"2129\",\"type\":\"Circle\"},{\"attributes\":{},\"id\":\"2126\",\"type\":\"Selection\"},{\"attributes\":{},\"id\":\"2061\",\"type\":\"HelpTool\"},{\"attributes\":{},\"id\":\"2092\",\"type\":\"YearsTicker\"},{\"attributes\":{\"line_alpha\":0.1,\"line_color\":\"red\",\"line_width\":4,\"x\":{\"field\":\"x\"},\"y\":{\"field\":\"y\"}},\"id\":\"2102\",\"type\":\"Line\"},{\"attributes\":{\"axis_label\":\"Date\",\"formatter\":{\"id\":\"2133\"},\"major_label_orientation\":0.7853981633974483,\"minor_tick_in\":-5,\"minor_tick_out\":-3,\"ticker\":{\"id\":\"2049\"}},\"id\":\"2048\",\"type\":\"DatetimeAxis\"},{\"attributes\":{\"data\":{\"x\":{\"__ndarray__\":\"AAAA5UcHd0IAAMBKmgd3QgAAgLDsB3dCAABAFj8Id0IAAAB8kQh3QgAAwOHjCHdCAACARzYJd0IAAECtiAl3QgAAABPbCXdCAADAeC0Kd0IAAIDefwp3QgAAQETSCndCAAAAqiQLd0IAAMAPdwt3QgAAgHXJC3dCAABA2xsMd0IAAABBbgx3QgAAwKbADHdCAACADBMNd0IAAEByZQ13QgAAANi3DXdCAADAPQoOd0IAAICjXA53QgAAQAmvDndCAAAAbwEPd0IAAMDUUw93QgAAgDqmD3dCAABAoPgPd0IAAAAGSxB3QgAAwGudEHdCAACA0e8Qd0IAAEA3QhF3QgAAAJ2UEXdCAADAAucRd0IAAIBoORJ3QgAAQM6LEndCAAAANN4Sd0IAAMCZMBN3QgAAgP+CE3dCAABAZdUTd0IAAADLJxR3QgAAwDB6FHdCAACAlswUd0IAAED8HhV3QgAAAGJxFXdCAADAx8MVd0IAAIAtFhZ3QgAAQJNoFndCAAAA+boWd0IAAMBeDRd3QgAAgMRfF3dCAABAKrIXd0IAAACQBBh3QgAAwPVWGHdCAACAW6kYd0IAAEDB+xh3QgAAACdOGXdCAADAjKAZd0IAAIDy8hl3QgAAQFhFGndCAAAAvpcad0IAAMAj6hp3QgAAgIk8G3dCAABA744bd0IAAABV4Rt3QgAAwLozHHdCAACAIIYcd0IAAECG2Bx3QgAAAOwqHXdCAADAUX0dd0IAAIC3zx13QgAAQB0iHndCAAAAg3Qed0IAAMDoxh53QgAAgE4ZH3dCAABAtGsfd0IAAAAavh93QgAAwH8QIHdCAACA5WIgd0IAAEBLtSB3QgAAALEHIXdCAADAFlohd0IAAIB8rCF3QgAAQOL+IXdCAAAASFEid0IAAMCtoyJ3QgAAgBP2IndCAABAeUgjd0IAAADfmiN3QgAAwETtI3dCAACAqj8kd0IAAEAQkiR3QgAAAHbkJHdCAADA2zYld0IAAIBBiSV3QgAAQKfbJXdCAAAADS4md0IAAMBygCZ3QgAAgNjSJndCAABAPiUnd0IAAACkdyd3QgAAwAnKJ3dCAACAbxwod0IAAEDVbih3QgAAADvBKHdCAADAoBMpd0IAAIAGZil3QgAAQGy4KXdCAAAA0goqd0IAAMA3XSp3QgAAgJ2vKndCAABAAwIrd0IAAABpVCt3QgAAwM6mK3dCAACANPkrd0IAAECaSyx3QgAAAACeLHdCAADAZfAsd0IAAIDLQi13QgAAQDGVLXdCAAAAl+ctd0IAAMD8OS53QgAAgGKMLndCAABAyN4ud0IAAAAuMS93QgAAwJODL3dCAACA+dUvd0I=\",\"dtype\":\"float64\",\"shape\":[127]},\"y\":[221,311,385,588,821,1049,1577,1835,2263,2706,3296,3916,5061,6387,7985,8514,10590,12839,14955,17750,20603,23073,26062,28710,33190,37860,42681,46638,50418,54030,57521,62013,66414,70065,73880,75528,77635,80572,83049,85388,88274,91246,93187,94067,95262,96877,98273,100269,102253,103616,104291,105418,106607,106962,107771,108257,108237,107709,107699,106848,106527,105847,106103,105813,105205,104657,101551,100943,100704,100179,99980,98467,91528,89624,87961,84842,83324,82488,81266,78457,76440,72070,70187,68351,66553,65129,62752,60960,59322,57752,56594,55300,52942,50966,47986,46175,43691,42097,41367,39893,39297,38429,36976,35877,35262,34730,32872,31710,30637,28997,27485,26274,25909,24569,23925,23101,21543,21212,20972,20637,19573,18655,18303,17638,16836,16681,16496]},\"selected\":{\"id\":\"2206\"},\"selection_policy\":{\"id\":\"2205\"}},\"id\":\"2128\",\"type\":\"ColumnDataSource\"},{\"attributes\":{\"data_source\":{\"id\":\"2095\"},\"glyph\":{\"id\":\"2096\"},\"hover_glyph\":null,\"muted_glyph\":null,\"nonselection_glyph\":{\"id\":\"2097\"},\"selection_glyph\":null,\"view\":{\"id\":\"2099\"}},\"id\":\"2098\",\"type\":\"GlyphRenderer\"},{\"attributes\":{\"data\":{\"x\":{\"__ndarray__\":\"AAAA5UcHd0IAAMBKmgd3QgAAgLDsB3dCAABAFj8Id0IAAAB8kQh3QgAAwOHjCHdCAACARzYJd0IAAECtiAl3QgAAABPbCXdCAADAeC0Kd0IAAIDefwp3QgAAQETSCndCAAAAqiQLd0IAAMAPdwt3QgAAgHXJC3dCAABA2xsMd0IAAABBbgx3QgAAwKbADHdCAACADBMNd0IAAEByZQ13QgAAANi3DXdCAADAPQoOd0IAAICjXA53QgAAQAmvDndCAAAAbwEPd0IAAMDUUw93QgAAgDqmD3dCAABAoPgPd0IAAAAGSxB3QgAAwGudEHdCAACA0e8Qd0IAAEA3QhF3QgAAAJ2UEXdCAADAAucRd0IAAIBoORJ3QgAAQM6LEndCAAAANN4Sd0IAAMCZMBN3QgAAgP+CE3dCAABAZdUTd0IAAADLJxR3QgAAwDB6FHdCAACAlswUd0IAAED8HhV3QgAAAGJxFXdCAADAx8MVd0IAAIAtFhZ3QgAAQJNoFndCAAAA+boWd0IAAMBeDRd3QgAAgMRfF3dCAABAKrIXd0IAAACQBBh3QgAAwPVWGHdCAACAW6kYd0IAAEDB+xh3QgAAACdOGXdCAADAjKAZd0IAAIDy8hl3QgAAQFhFGndCAAAAvpcad0IAAMAj6hp3QgAAgIk8G3dCAABA744bd0IAAABV4Rt3QgAAwLozHHdCAACAIIYcd0IAAECG2Bx3QgAAAOwqHXdCAADAUX0dd0IAAIC3zx13QgAAQB0iHndCAAAAg3Qed0IAAMDoxh53QgAAgE4ZH3dCAABAtGsfd0IAAAAavh93QgAAwH8QIHdCAACA5WIgd0IAAEBLtSB3QgAAALEHIXdCAADAFlohd0IAAIB8rCF3QgAAQOL+IXdCAAAASFEid0IAAMCtoyJ3QgAAgBP2IndCAABAeUgjd0IAAADfmiN3QgAAwETtI3dCAACAqj8kd0IAAEAQkiR3QgAAAHbkJHdCAADA2zYld0IAAIBBiSV3QgAAQKfbJXdCAAAADS4md0IAAMBygCZ3QgAAgNjSJndCAABAPiUnd0IAAACkdyd3QgAAwAnKJ3dCAACAbxwod0IAAEDVbih3QgAAADvBKHdCAADAoBMpd0IAAIAGZil3QgAAQGy4KXdCAAAA0goqd0IAAMA3XSp3QgAAgJ2vKndCAABAAwIrd0IAAABpVCt3QgAAwM6mK3dCAACANPkrd0IAAECaSyx3QgAAAACeLHdCAADAZfAsd0IAAIDLQi13QgAAQDGVLXdCAAAAl+ctd0IAAMD8OS53QgAAgGKMLndCAABAyN4ud0IAAAAuMS93QgAAwJODL3dCAACA+dUvd0I=\",\"dtype\":\"float64\",\"shape\":[127]},\"y\":[221,311,385,588,821,1049,1577,1835,2263,2706,3296,3916,5061,6387,7985,8514,10590,12839,14955,17750,20603,23073,26062,28710,33190,37860,42681,46638,50418,54030,57521,62013,66414,70065,73880,75528,77635,80572,83049,85388,88274,91246,93187,94067,95262,96877,98273,100269,102253,103616,104291,105418,106607,106962,107771,108257,108237,107709,107699,106848,106527,105847,106103,105813,105205,104657,101551,100943,100704,100179,99980,98467,91528,89624,87961,84842,83324,82488,81266,78457,76440,72070,70187,68351,66553,65129,62752,60960,59322,57752,56594,55300,52942,50966,47986,46175,43691,42097,41367,39893,39297,38429,36976,35877,35262,34730,32872,31710,30637,28997,27485,26274,25909,24569,23925,23101,21543,21212,20972,20637,19573,18655,18303,17638,16836,16681,16496]},\"selected\":{\"id\":\"2204\"},\"selection_policy\":{\"id\":\"2203\"}},\"id\":\"2100\",\"type\":\"ColumnDataSource\"},{\"attributes\":{},\"id\":\"2053\",\"type\":\"BasicTicker\"},{\"attributes\":{\"mantissas\":[1,2,5],\"max_interval\":500.0,\"num_minor_ticks\":0},\"id\":\"2081\",\"type\":\"AdaptiveTicker\"},{\"attributes\":{\"items\":[{\"id\":\"2094\"},{\"id\":\"2127\"}],\"location\":\"top_left\"},\"id\":\"2093\",\"type\":\"Legend\"},{\"attributes\":{\"num_minor_ticks\":5,\"tickers\":[{\"id\":\"2081\"},{\"id\":\"2082\"},{\"id\":\"2083\"},{\"id\":\"2084\"},{\"id\":\"2085\"},{\"id\":\"2086\"},{\"id\":\"2087\"},{\"id\":\"2088\"},{\"id\":\"2089\"},{\"id\":\"2090\"},{\"id\":\"2091\"},{\"id\":\"2092\"}]},\"id\":\"2049\",\"type\":\"DatetimeTicker\"},{\"attributes\":{\"data_source\":{\"id\":\"2100\"},\"glyph\":{\"id\":\"2101\"},\"hover_glyph\":null,\"muted_glyph\":null,\"nonselection_glyph\":{\"id\":\"2102\"},\"selection_glyph\":null,\"view\":{\"id\":\"2104\"}},\"id\":\"2103\",\"type\":\"GlyphRenderer\"},{\"attributes\":{\"label\":{\"value\":\"total cases\"},\"renderers\":[{\"id\":\"2073\"}]},\"id\":\"2094\",\"type\":\"LegendItem\"},{\"attributes\":{\"fill_alpha\":{\"value\":0.1},\"fill_color\":{\"value\":\"white\"},\"line_alpha\":{\"value\":0.1},\"line_color\":{\"value\":\"blue\"},\"size\":{\"units\":\"screen\",\"value\":5},\"x\":{\"field\":\"x\"},\"y\":{\"field\":\"y\"}},\"id\":\"2097\",\"type\":\"Circle\"},{\"attributes\":{\"source\":{\"id\":\"2128\"}},\"id\":\"2132\",\"type\":\"CDSView\"},{\"attributes\":{\"axis\":{\"id\":\"2048\"},\"ticker\":null},\"id\":\"2051\",\"type\":\"Grid\"},{\"attributes\":{\"use_scientific\":false},\"id\":\"2135\",\"type\":\"BasicTickFormatter\"},{\"attributes\":{\"axis\":{\"id\":\"2052\"},\"dimension\":1,\"ticker\":null},\"id\":\"2055\",\"type\":\"Grid\"},{\"attributes\":{\"source\":{\"id\":\"2095\"}},\"id\":\"2099\",\"type\":\"CDSView\"},{\"attributes\":{},\"id\":\"2204\",\"type\":\"Selection\"},{\"attributes\":{\"data_source\":{\"id\":\"2128\"},\"glyph\":{\"id\":\"2129\"},\"hover_glyph\":null,\"muted_glyph\":null,\"nonselection_glyph\":{\"id\":\"2130\"},\"selection_glyph\":null,\"view\":{\"id\":\"2132\"}},\"id\":\"2131\",\"type\":\"GlyphRenderer\"},{\"attributes\":{\"base\":24,\"mantissas\":[1,2,4,6,8,12],\"max_interval\":43200000.0,\"min_interval\":3600000.0,\"num_minor_ticks\":0},\"id\":\"2083\",\"type\":\"AdaptiveTicker\"},{\"attributes\":{\"axis_label\":\"Total Cases & Total Positive\",\"formatter\":{\"id\":\"2135\"},\"minor_tick_in\":-5,\"minor_tick_out\":-3,\"ticker\":{\"id\":\"2053\"}},\"id\":\"2052\",\"type\":\"LinearAxis\"},{\"attributes\":{\"base\":60,\"mantissas\":[1,2,5,10,15,20,30],\"max_interval\":1800000.0,\"min_interval\":1000.0,\"num_minor_ticks\":0},\"id\":\"2082\",\"type\":\"AdaptiveTicker\"},{\"attributes\":{\"text\":\"Total Cases & Total Positive: Italy\"},\"id\":\"2038\",\"type\":\"Title\"},{\"attributes\":{\"fill_alpha\":{\"value\":0.1},\"fill_color\":{\"value\":\"white\"},\"line_alpha\":{\"value\":0.1},\"line_color\":{\"value\":\"red\"},\"size\":{\"units\":\"screen\",\"value\":5},\"x\":{\"field\":\"x\"},\"y\":{\"field\":\"y\"}},\"id\":\"2130\",\"type\":\"Circle\"},{\"attributes\":{\"days\":[1,2,3,4,5,6,7,8,9,10,11,12,13,14,15,16,17,18,19,20,21,22,23,24,25,26,27,28,29,30,31]},\"id\":\"2084\",\"type\":\"DaysTicker\"},{\"attributes\":{\"data_source\":{\"id\":\"2070\"},\"glyph\":{\"id\":\"2071\"},\"hover_glyph\":null,\"muted_glyph\":null,\"nonselection_glyph\":{\"id\":\"2072\"},\"selection_glyph\":null,\"view\":{\"id\":\"2074\"}},\"id\":\"2073\",\"type\":\"GlyphRenderer\"},{\"attributes\":{\"callback\":null,\"formatters\":{\"@x\":\"datetime\"},\"mode\":\"vline\",\"tooltips\":[[\"date\",\"@x{%d %B}\"],[\"total cases OR total positive\",\"@y{0[.]000}\"]]},\"id\":\"2137\",\"type\":\"HoverTool\"},{\"attributes\":{\"data\":{\"x\":{\"__ndarray__\":\"AAAA5UcHd0IAAMBKmgd3QgAAgLDsB3dCAABAFj8Id0IAAAB8kQh3QgAAwOHjCHdCAACARzYJd0IAAECtiAl3QgAAABPbCXdCAADAeC0Kd0IAAIDefwp3QgAAQETSCndCAAAAqiQLd0IAAMAPdwt3QgAAgHXJC3dCAABA2xsMd0IAAABBbgx3QgAAwKbADHdCAACADBMNd0IAAEByZQ13QgAAANi3DXdCAADAPQoOd0IAAICjXA53QgAAQAmvDndCAAAAbwEPd0IAAMDUUw93QgAAgDqmD3dCAABAoPgPd0IAAAAGSxB3QgAAwGudEHdCAACA0e8Qd0IAAEA3QhF3QgAAAJ2UEXdCAADAAucRd0IAAIBoORJ3QgAAQM6LEndCAAAANN4Sd0IAAMCZMBN3QgAAgP+CE3dCAABAZdUTd0IAAADLJxR3QgAAwDB6FHdCAACAlswUd0IAAED8HhV3QgAAAGJxFXdCAADAx8MVd0IAAIAtFhZ3QgAAQJNoFndCAAAA+boWd0IAAMBeDRd3QgAAgMRfF3dCAABAKrIXd0IAAACQBBh3QgAAwPVWGHdCAACAW6kYd0IAAEDB+xh3QgAAACdOGXdCAADAjKAZd0IAAIDy8hl3QgAAQFhFGndCAAAAvpcad0IAAMAj6hp3QgAAgIk8G3dCAABA744bd0IAAABV4Rt3QgAAwLozHHdCAACAIIYcd0IAAECG2Bx3QgAAAOwqHXdCAADAUX0dd0IAAIC3zx13QgAAQB0iHndCAAAAg3Qed0IAAMDoxh53QgAAgE4ZH3dCAABAtGsfd0IAAAAavh93QgAAwH8QIHdCAACA5WIgd0IAAEBLtSB3QgAAALEHIXdCAADAFlohd0IAAIB8rCF3QgAAQOL+IXdCAAAASFEid0IAAMCtoyJ3QgAAgBP2IndCAABAeUgjd0IAAADfmiN3QgAAwETtI3dCAACAqj8kd0IAAEAQkiR3QgAAAHbkJHdCAADA2zYld0IAAIBBiSV3QgAAQKfbJXdCAAAADS4md0IAAMBygCZ3QgAAgNjSJndCAABAPiUnd0IAAACkdyd3QgAAwAnKJ3dCAACAbxwod0IAAEDVbih3QgAAADvBKHdCAADAoBMpd0IAAIAGZil3QgAAQGy4KXdCAAAA0goqd0IAAMA3XSp3QgAAgJ2vKndCAABAAwIrd0IAAABpVCt3QgAAwM6mK3dCAACANPkrd0IAAECaSyx3QgAAAACeLHdCAADAZfAsd0IAAIDLQi13QgAAQDGVLXdCAAAAl+ctd0IAAMD8OS53QgAAgGKMLndCAABAyN4ud0IAAAAuMS93QgAAwJODL3dCAACA+dUvd0I=\",\"dtype\":\"float64\",\"shape\":[127]},\"y\":[229,322,400,650,888,1128,1694,2036,2502,3089,3858,4636,5883,7375,9172,10149,12462,15113,17660,21157,24747,27980,31506,35713,41035,47021,53578,59138,63927,69176,74386,80539,86498,92472,97689,101739,105792,110574,115242,119827,124632,128948,132547,135586,139422,143626,147577,152271,156363,159516,162488,165155,168941,172434,175925,178972,181228,183957,187327,189973,192994,195351,197675,199414,201505,203591,205463,207428,209328,210717,211938,213013,214457,215858,217185,218268,219070,219814,221216,222104,223096,223885,224760,225435,225886,226699,227364,228006,228658,229327,229858,230158,230555,231139,231732,232248,232664,233019,233197,233515,233836,234013,234531,234801,234998,235278,235561,235763,236142,236305,236651,236989,237290,237500,237828,238159,238011,238275,238499,238720,238833,239410,239706,239961,240136,240310,240436]},\"selected\":{\"id\":\"2126\"},\"selection_policy\":{\"id\":\"2125\"}},\"id\":\"2095\",\"type\":\"ColumnDataSource\"},{\"attributes\":{\"days\":[1,4,7,10,13,16,19,22,25,28]},\"id\":\"2085\",\"type\":\"DaysTicker\"},{\"attributes\":{\"label\":{\"value\":\"total positive\"},\"renderers\":[{\"id\":\"2103\"}]},\"id\":\"2127\",\"type\":\"LegendItem\"},{\"attributes\":{\"line_alpha\":0.1,\"line_color\":\"blue\",\"line_width\":4,\"x\":{\"field\":\"x\"},\"y\":{\"field\":\"y\"}},\"id\":\"2072\",\"type\":\"Line\"},{\"attributes\":{\"fill_color\":{\"value\":\"white\"},\"line_color\":{\"value\":\"blue\"},\"size\":{\"units\":\"screen\",\"value\":5},\"x\":{\"field\":\"x\"},\"y\":{\"field\":\"y\"}},\"id\":\"2096\",\"type\":\"Circle\"},{\"attributes\":{\"days\":[1,8,15,22]},\"id\":\"2086\",\"type\":\"DaysTicker\"},{\"attributes\":{\"active_drag\":\"auto\",\"active_inspect\":\"auto\",\"active_multi\":null,\"active_scroll\":\"auto\",\"active_tap\":\"auto\",\"tools\":[{\"id\":\"2056\"},{\"id\":\"2057\"},{\"id\":\"2058\"},{\"id\":\"2059\"},{\"id\":\"2060\"},{\"id\":\"2061\"},{\"id\":\"2137\"}]},\"id\":\"2063\",\"type\":\"Toolbar\"}],\"root_ids\":[\"2037\"]},\"title\":\"Bokeh Application\",\"version\":\"2.0.2\"}};\n",
       "  var render_items = [{\"docid\":\"cc0a6575-2fbf-47e5-b552-43f43bf0d8d2\",\"root_ids\":[\"2037\"],\"roots\":{\"2037\":\"dbf215c0-6b85-476f-ab03-cc5d9dba4c7b\"}}];\n",
       "  root.Bokeh.embed.embed_items_notebook(docs_json, render_items);\n",
       "\n",
       "  }\n",
       "  if (root.Bokeh !== undefined) {\n",
       "    embed_document(root);\n",
       "  } else {\n",
       "    var attempts = 0;\n",
       "    var timer = setInterval(function(root) {\n",
       "      if (root.Bokeh !== undefined) {\n",
       "        clearInterval(timer);\n",
       "        embed_document(root);\n",
       "      } else {\n",
       "        attempts++;\n",
       "        if (attempts > 100) {\n",
       "          clearInterval(timer);\n",
       "          console.log(\"Bokeh: ERROR: Unable to run BokehJS code because BokehJS library is missing\");\n",
       "        }\n",
       "      }\n",
       "    }, 10, root)\n",
       "  }\n",
       "})(window);"
      ],
      "application/vnd.bokehjs_exec.v0+json": ""
     },
     "metadata": {
      "application/vnd.bokehjs_exec.v0+json": {
       "id": "2037"
      }
     },
     "output_type": "display_data"
    }
   ],
   "source": [
    "p_total_cases_positive_2_Italy = bokeh_plot_N_lines(x=time_date_new, y_list=[total_cases_italy,total_positive_italy], \n",
    "                  title='Total Cases & Total Positive: Italy', \n",
    "                  dim=[600, 450], \n",
    "                  x_label='Date', \n",
    "                  y_label='Total Cases & Total Positive', legend_list=['total cases','total positive'],\n",
    "                  x_label_hover='date', y_label_hover='total cases OR total positive',\n",
    "                  color_list=['blue','red'],legend_location=\"top_left\", y_minmax=None)\n",
    "\n",
    "output_file(\"total_cases_positive_2_Italy.html\")\n",
    "\n",
    "show(p_total_cases_positive_2_Italy)"
   ]
  },
  {
   "cell_type": "markdown",
   "metadata": {},
   "source": [
    "------------------\n",
    "\n",
    "### Deaths"
   ]
  },
  {
   "cell_type": "code",
   "execution_count": 19,
   "metadata": {},
   "outputs": [
    {
     "data": {
      "text/plain": [
       "0     7\n",
       "1    10\n",
       "2    12\n",
       "3    17\n",
       "4    21\n",
       "Name: deceduti, dtype: int64"
      ]
     },
     "execution_count": 19,
     "metadata": {},
     "output_type": "execute_result"
    }
   ],
   "source": [
    "deceduti_italy = df_nazionale['deceduti']\n",
    "deceduti_italy.head()"
   ]
  },
  {
   "cell_type": "code",
   "execution_count": null,
   "metadata": {},
   "outputs": [],
   "source": []
  },
  {
   "cell_type": "markdown",
   "metadata": {},
   "source": [
    "------------------\n",
    "\n",
    "### Recovered"
   ]
  },
  {
   "cell_type": "code",
   "execution_count": 20,
   "metadata": {},
   "outputs": [
    {
     "data": {
      "text/plain": [
       "0     1\n",
       "1     1\n",
       "2     3\n",
       "3    45\n",
       "4    46\n",
       "Name: dimessi_guariti, dtype: int64"
      ]
     },
     "execution_count": 20,
     "metadata": {},
     "output_type": "execute_result"
    }
   ],
   "source": [
    "guariti_italy = df_nazionale['dimessi_guariti']\n",
    "guariti_italy.head()"
   ]
  },
  {
   "cell_type": "code",
   "execution_count": 21,
   "metadata": {},
   "outputs": [
    {
     "data": {
      "text/html": [
       "\n",
       "\n",
       "\n",
       "\n",
       "\n",
       "\n",
       "  <div class=\"bk-root\" id=\"40705584-bcd3-4783-8bf0-78ef44d76d69\" data-root-id=\"2664\"></div>\n"
      ]
     },
     "metadata": {},
     "output_type": "display_data"
    },
    {
     "data": {
      "application/javascript": [
       "(function(root) {\n",
       "  function embed_document(root) {\n",
       "    \n",
       "  var docs_json = {\"2c55cc0b-796f-49b3-add0-268efff37c4e\":{\"roots\":{\"references\":[{\"attributes\":{\"below\":[{\"id\":\"2675\"}],\"center\":[{\"id\":\"2678\"},{\"id\":\"2682\"},{\"id\":\"2720\"}],\"left\":[{\"id\":\"2679\"}],\"plot_height\":450,\"renderers\":[{\"id\":\"2700\"},{\"id\":\"2725\"},{\"id\":\"2730\"},{\"id\":\"2758\"}],\"title\":{\"id\":\"2665\"},\"toolbar\":{\"id\":\"2690\"},\"x_range\":{\"id\":\"2667\"},\"x_scale\":{\"id\":\"2671\"},\"y_range\":{\"id\":\"2669\"},\"y_scale\":{\"id\":\"2673\"}},\"id\":\"2664\",\"subtype\":\"Figure\",\"type\":\"Plot\"},{\"attributes\":{\"data_source\":{\"id\":\"2727\"},\"glyph\":{\"id\":\"2728\"},\"hover_glyph\":null,\"muted_glyph\":null,\"nonselection_glyph\":{\"id\":\"2729\"},\"selection_glyph\":null,\"view\":{\"id\":\"2731\"}},\"id\":\"2730\",\"type\":\"GlyphRenderer\"},{\"attributes\":{\"axis\":{\"id\":\"2679\"},\"dimension\":1,\"ticker\":null},\"id\":\"2682\",\"type\":\"Grid\"},{\"attributes\":{\"data\":{\"x\":{\"__ndarray__\":\"AAAA5UcHd0IAAMBKmgd3QgAAgLDsB3dCAABAFj8Id0IAAAB8kQh3QgAAwOHjCHdCAACARzYJd0IAAECtiAl3QgAAABPbCXdCAADAeC0Kd0IAAIDefwp3QgAAQETSCndCAAAAqiQLd0IAAMAPdwt3QgAAgHXJC3dCAABA2xsMd0IAAABBbgx3QgAAwKbADHdCAACADBMNd0IAAEByZQ13QgAAANi3DXdCAADAPQoOd0IAAICjXA53QgAAQAmvDndCAAAAbwEPd0IAAMDUUw93QgAAgDqmD3dCAABAoPgPd0IAAAAGSxB3QgAAwGudEHdCAACA0e8Qd0IAAEA3QhF3QgAAAJ2UEXdCAADAAucRd0IAAIBoORJ3QgAAQM6LEndCAAAANN4Sd0IAAMCZMBN3QgAAgP+CE3dCAABAZdUTd0IAAADLJxR3QgAAwDB6FHdCAACAlswUd0IAAED8HhV3QgAAAGJxFXdCAADAx8MVd0IAAIAtFhZ3QgAAQJNoFndCAAAA+boWd0IAAMBeDRd3QgAAgMRfF3dCAABAKrIXd0IAAACQBBh3QgAAwPVWGHdCAACAW6kYd0IAAEDB+xh3QgAAACdOGXdCAADAjKAZd0IAAIDy8hl3QgAAQFhFGndCAAAAvpcad0IAAMAj6hp3QgAAgIk8G3dCAABA744bd0IAAABV4Rt3QgAAwLozHHdCAACAIIYcd0IAAECG2Bx3QgAAAOwqHXdCAADAUX0dd0IAAIC3zx13QgAAQB0iHndCAAAAg3Qed0IAAMDoxh53QgAAgE4ZH3dCAABAtGsfd0IAAAAavh93QgAAwH8QIHdCAACA5WIgd0IAAEBLtSB3QgAAALEHIXdCAADAFlohd0IAAIB8rCF3QgAAQOL+IXdCAAAASFEid0IAAMCtoyJ3QgAAgBP2IndCAABAeUgjd0IAAADfmiN3QgAAwETtI3dCAACAqj8kd0IAAEAQkiR3QgAAAHbkJHdCAADA2zYld0IAAIBBiSV3QgAAQKfbJXdCAAAADS4md0IAAMBygCZ3QgAAgNjSJndCAABAPiUnd0IAAACkdyd3QgAAwAnKJ3dCAACAbxwod0IAAEDVbih3QgAAADvBKHdCAADAoBMpd0IAAIAGZil3QgAAQGy4KXdCAAAA0goqd0IAAMA3XSp3QgAAgJ2vKndCAABAAwIrd0IAAABpVCt3QgAAwM6mK3dCAACANPkrd0IAAECaSyx3QgAAAACeLHdCAADAZfAsd0IAAIDLQi13QgAAQDGVLXdCAAAAl+ctd0IAAMD8OS53QgAAgGKMLndCAABAyN4ud0IAAAAuMS93QgAAwJODL3dCAACA+dUvd0I=\",\"dtype\":\"float64\",\"shape\":[127]},\"y\":[1,1,3,45,46,50,83,149,160,276,414,523,589,622,724,1004,1045,1258,1439,1966,2335,2749,2941,4025,4440,5129,6072,7024,7432,8326,9362,10361,10950,12384,13030,14620,15729,16847,18278,19758,20996,21815,22837,24392,26491,28470,30455,32534,34211,35435,37130,38092,40164,42727,44927,47055,48877,51600,54543,57576,60498,63120,64928,66624,68941,71252,75945,78249,79914,81654,82879,85231,93245,96276,99023,103031,105186,106587,109039,112541,115288,120205,122810,125176,127326,129401,132282,134560,136720,138840,140479,141981,144658,147101,150604,152844,155633,157507,158355,160092,160938,161895,163781,165078,165837,166584,168646,169939,171338,173085,174865,176370,177010,178526,179455,180544,181907,182453,182893,183426,184585,186111,186725,187615,188584,188891,189196]},\"selected\":{\"id\":\"2856\"},\"selection_policy\":{\"id\":\"2855\"}},\"id\":\"2727\",\"type\":\"ColumnDataSource\"},{\"attributes\":{\"data\":{\"x\":{\"__ndarray__\":\"AAAA5UcHd0IAAMBKmgd3QgAAgLDsB3dCAABAFj8Id0IAAAB8kQh3QgAAwOHjCHdCAACARzYJd0IAAECtiAl3QgAAABPbCXdCAADAeC0Kd0IAAIDefwp3QgAAQETSCndCAAAAqiQLd0IAAMAPdwt3QgAAgHXJC3dCAABA2xsMd0IAAABBbgx3QgAAwKbADHdCAACADBMNd0IAAEByZQ13QgAAANi3DXdCAADAPQoOd0IAAICjXA53QgAAQAmvDndCAAAAbwEPd0IAAMDUUw93QgAAgDqmD3dCAABAoPgPd0IAAAAGSxB3QgAAwGudEHdCAACA0e8Qd0IAAEA3QhF3QgAAAJ2UEXdCAADAAucRd0IAAIBoORJ3QgAAQM6LEndCAAAANN4Sd0IAAMCZMBN3QgAAgP+CE3dCAABAZdUTd0IAAADLJxR3QgAAwDB6FHdCAACAlswUd0IAAED8HhV3QgAAAGJxFXdCAADAx8MVd0IAAIAtFhZ3QgAAQJNoFndCAAAA+boWd0IAAMBeDRd3QgAAgMRfF3dCAABAKrIXd0IAAACQBBh3QgAAwPVWGHdCAACAW6kYd0IAAEDB+xh3QgAAACdOGXdCAADAjKAZd0IAAIDy8hl3QgAAQFhFGndCAAAAvpcad0IAAMAj6hp3QgAAgIk8G3dCAABA744bd0IAAABV4Rt3QgAAwLozHHdCAACAIIYcd0IAAECG2Bx3QgAAAOwqHXdCAADAUX0dd0IAAIC3zx13QgAAQB0iHndCAAAAg3Qed0IAAMDoxh53QgAAgE4ZH3dCAABAtGsfd0IAAAAavh93QgAAwH8QIHdCAACA5WIgd0IAAEBLtSB3QgAAALEHIXdCAADAFlohd0IAAIB8rCF3QgAAQOL+IXdCAAAASFEid0IAAMCtoyJ3QgAAgBP2IndCAABAeUgjd0IAAADfmiN3QgAAwETtI3dCAACAqj8kd0IAAEAQkiR3QgAAAHbkJHdCAADA2zYld0IAAIBBiSV3QgAAQKfbJXdCAAAADS4md0IAAMBygCZ3QgAAgNjSJndCAABAPiUnd0IAAACkdyd3QgAAwAnKJ3dCAACAbxwod0IAAEDVbih3QgAAADvBKHdCAADAoBMpd0IAAIAGZil3QgAAQGy4KXdCAAAA0goqd0IAAMA3XSp3QgAAgJ2vKndCAABAAwIrd0IAAABpVCt3QgAAwM6mK3dCAACANPkrd0IAAECaSyx3QgAAAACeLHdCAADAZfAsd0IAAIDLQi13QgAAQDGVLXdCAAAAl+ctd0IAAMD8OS53QgAAgGKMLndCAABAyN4ud0IAAAAuMS93QgAAwJODL3dCAACA+dUvd0I=\",\"dtype\":\"float64\",\"shape\":[127]},\"y\":[7,10,12,17,21,29,34,52,79,107,148,197,233,366,463,631,827,1016,1266,1441,1809,2158,2503,2978,3405,4032,4825,5476,6077,6820,7503,8165,9134,10023,10779,11591,12428,13155,13915,14681,15362,15887,16523,17127,17669,18279,18849,19468,19899,20465,21067,21645,22170,22745,23227,23660,24114,24648,25085,25549,25969,26384,26644,26977,27359,27682,27967,28236,28710,28884,29079,29315,29684,29958,30201,30395,30560,30739,30911,31106,31368,31610,31763,31908,32007,32169,32330,32486,32616,32735,32785,32877,32955,33072,33142,33229,33340,33415,33475,33530,33601,33689,33774,33846,33899,33964,34043,34114,34167,34223,34301,34345,34371,34405,34448,34514,34561,34610,34634,34657,34675,34644,34678,34708,34716,34738,34744]},\"selected\":{\"id\":\"2753\"},\"selection_policy\":{\"id\":\"2752\"}},\"id\":\"2722\",\"type\":\"ColumnDataSource\"},{\"attributes\":{\"fill_alpha\":{\"value\":0.1},\"fill_color\":{\"value\":\"white\"},\"line_alpha\":{\"value\":0.1},\"line_color\":{\"value\":\"green\"},\"size\":{\"units\":\"screen\",\"value\":6},\"x\":{\"field\":\"x\"},\"y\":{\"field\":\"y\"}},\"id\":\"2757\",\"type\":\"Circle\"},{\"attributes\":{},\"id\":\"2856\",\"type\":\"Selection\"},{\"attributes\":{\"days\":[\"%d %B\"]},\"id\":\"2760\",\"type\":\"DatetimeTickFormatter\"},{\"attributes\":{\"source\":{\"id\":\"2697\"}},\"id\":\"2701\",\"type\":\"CDSView\"},{\"attributes\":{},\"id\":\"2750\",\"type\":\"UnionRenderers\"},{\"attributes\":{\"data_source\":{\"id\":\"2697\"},\"glyph\":{\"id\":\"2698\"},\"hover_glyph\":null,\"muted_glyph\":null,\"nonselection_glyph\":{\"id\":\"2699\"},\"selection_glyph\":null,\"view\":{\"id\":\"2701\"}},\"id\":\"2700\",\"type\":\"GlyphRenderer\"},{\"attributes\":{\"data_source\":{\"id\":\"2722\"},\"glyph\":{\"id\":\"2723\"},\"hover_glyph\":null,\"muted_glyph\":null,\"nonselection_glyph\":{\"id\":\"2724\"},\"selection_glyph\":null,\"view\":{\"id\":\"2726\"}},\"id\":\"2725\",\"type\":\"GlyphRenderer\"},{\"attributes\":{\"fill_alpha\":{\"value\":0.1},\"fill_color\":{\"value\":\"white\"},\"line_alpha\":{\"value\":0.1},\"line_color\":{\"value\":\"darkviolet\"},\"size\":{\"units\":\"screen\",\"value\":6},\"x\":{\"field\":\"x\"},\"y\":{\"field\":\"y\"}},\"id\":\"2724\",\"type\":\"Circle\"},{\"attributes\":{\"months\":[0,1,2,3,4,5,6,7,8,9,10,11]},\"id\":\"2715\",\"type\":\"MonthsTicker\"},{\"attributes\":{\"source\":{\"id\":\"2722\"}},\"id\":\"2726\",\"type\":\"CDSView\"},{\"attributes\":{\"months\":[0,6]},\"id\":\"2718\",\"type\":\"MonthsTicker\"},{\"attributes\":{},\"id\":\"2858\",\"type\":\"Selection\"},{\"attributes\":{\"active_drag\":\"auto\",\"active_inspect\":\"auto\",\"active_multi\":null,\"active_scroll\":\"auto\",\"active_tap\":\"auto\",\"tools\":[{\"id\":\"2683\"},{\"id\":\"2684\"},{\"id\":\"2685\"},{\"id\":\"2686\"},{\"id\":\"2687\"},{\"id\":\"2688\"},{\"id\":\"2765\"}]},\"id\":\"2690\",\"type\":\"Toolbar\"},{\"attributes\":{\"days\":[1,8,15,22]},\"id\":\"2713\",\"type\":\"DaysTicker\"},{\"attributes\":{},\"id\":\"2764\",\"type\":\"NumeralTickFormatter\"},{\"attributes\":{\"bottom_units\":\"screen\",\"fill_alpha\":0.5,\"fill_color\":\"lightgrey\",\"left_units\":\"screen\",\"level\":\"overlay\",\"line_alpha\":1.0,\"line_color\":\"black\",\"line_dash\":[4,4],\"line_width\":2,\"render_mode\":\"css\",\"right_units\":\"screen\",\"top_units\":\"screen\"},\"id\":\"2689\",\"type\":\"BoxAnnotation\"},{\"attributes\":{},\"id\":\"2719\",\"type\":\"YearsTicker\"},{\"attributes\":{},\"id\":\"2855\",\"type\":\"UnionRenderers\"},{\"attributes\":{\"line_color\":\"green\",\"line_width\":4,\"x\":{\"field\":\"x\"},\"y\":{\"field\":\"y\"}},\"id\":\"2728\",\"type\":\"Line\"},{\"attributes\":{},\"id\":\"2683\",\"type\":\"PanTool\"},{\"attributes\":{\"mantissas\":[1,2,5],\"max_interval\":500.0,\"num_minor_ticks\":0},\"id\":\"2708\",\"type\":\"AdaptiveTicker\"},{\"attributes\":{\"days\":[1,4,7,10,13,16,19,22,25,28]},\"id\":\"2712\",\"type\":\"DaysTicker\"},{\"attributes\":{},\"id\":\"2684\",\"type\":\"WheelZoomTool\"},{\"attributes\":{\"base\":24,\"mantissas\":[1,2,4,6,8,12],\"max_interval\":43200000.0,\"min_interval\":3600000.0,\"num_minor_ticks\":0},\"id\":\"2710\",\"type\":\"AdaptiveTicker\"},{\"attributes\":{\"overlay\":{\"id\":\"2689\"}},\"id\":\"2685\",\"type\":\"BoxZoomTool\"},{\"attributes\":{\"months\":[0,2,4,6,8,10]},\"id\":\"2716\",\"type\":\"MonthsTicker\"},{\"attributes\":{},\"id\":\"2857\",\"type\":\"UnionRenderers\"},{\"attributes\":{},\"id\":\"2686\",\"type\":\"SaveTool\"},{\"attributes\":{\"line_alpha\":0.1,\"line_color\":\"darkviolet\",\"line_width\":4,\"x\":{\"field\":\"x\"},\"y\":{\"field\":\"y\"}},\"id\":\"2699\",\"type\":\"Line\"},{\"attributes\":{\"days\":[1,15]},\"id\":\"2714\",\"type\":\"DaysTicker\"},{\"attributes\":{\"axis\":{\"id\":\"2675\"},\"ticker\":null},\"id\":\"2678\",\"type\":\"Grid\"},{\"attributes\":{\"fill_color\":{\"value\":\"white\"},\"line_color\":{\"value\":\"green\"},\"size\":{\"units\":\"screen\",\"value\":6},\"x\":{\"field\":\"x\"},\"y\":{\"field\":\"y\"}},\"id\":\"2756\",\"type\":\"Circle\"},{\"attributes\":{},\"id\":\"2671\",\"type\":\"LinearScale\"},{\"attributes\":{},\"id\":\"2687\",\"type\":\"ResetTool\"},{\"attributes\":{\"data\":{\"x\":{\"__ndarray__\":\"AAAA5UcHd0IAAMBKmgd3QgAAgLDsB3dCAABAFj8Id0IAAAB8kQh3QgAAwOHjCHdCAACARzYJd0IAAECtiAl3QgAAABPbCXdCAADAeC0Kd0IAAIDefwp3QgAAQETSCndCAAAAqiQLd0IAAMAPdwt3QgAAgHXJC3dCAABA2xsMd0IAAABBbgx3QgAAwKbADHdCAACADBMNd0IAAEByZQ13QgAAANi3DXdCAADAPQoOd0IAAICjXA53QgAAQAmvDndCAAAAbwEPd0IAAMDUUw93QgAAgDqmD3dCAABAoPgPd0IAAAAGSxB3QgAAwGudEHdCAACA0e8Qd0IAAEA3QhF3QgAAAJ2UEXdCAADAAucRd0IAAIBoORJ3QgAAQM6LEndCAAAANN4Sd0IAAMCZMBN3QgAAgP+CE3dCAABAZdUTd0IAAADLJxR3QgAAwDB6FHdCAACAlswUd0IAAED8HhV3QgAAAGJxFXdCAADAx8MVd0IAAIAtFhZ3QgAAQJNoFndCAAAA+boWd0IAAMBeDRd3QgAAgMRfF3dCAABAKrIXd0IAAACQBBh3QgAAwPVWGHdCAACAW6kYd0IAAEDB+xh3QgAAACdOGXdCAADAjKAZd0IAAIDy8hl3QgAAQFhFGndCAAAAvpcad0IAAMAj6hp3QgAAgIk8G3dCAABA744bd0IAAABV4Rt3QgAAwLozHHdCAACAIIYcd0IAAECG2Bx3QgAAAOwqHXdCAADAUX0dd0IAAIC3zx13QgAAQB0iHndCAAAAg3Qed0IAAMDoxh53QgAAgE4ZH3dCAABAtGsfd0IAAAAavh93QgAAwH8QIHdCAACA5WIgd0IAAEBLtSB3QgAAALEHIXdCAADAFlohd0IAAIB8rCF3QgAAQOL+IXdCAAAASFEid0IAAMCtoyJ3QgAAgBP2IndCAABAeUgjd0IAAADfmiN3QgAAwETtI3dCAACAqj8kd0IAAEAQkiR3QgAAAHbkJHdCAADA2zYld0IAAIBBiSV3QgAAQKfbJXdCAAAADS4md0IAAMBygCZ3QgAAgNjSJndCAABAPiUnd0IAAACkdyd3QgAAwAnKJ3dCAACAbxwod0IAAEDVbih3QgAAADvBKHdCAADAoBMpd0IAAIAGZil3QgAAQGy4KXdCAAAA0goqd0IAAMA3XSp3QgAAgJ2vKndCAABAAwIrd0IAAABpVCt3QgAAwM6mK3dCAACANPkrd0IAAECaSyx3QgAAAACeLHdCAADAZfAsd0IAAIDLQi13QgAAQDGVLXdCAAAAl+ctd0IAAMD8OS53QgAAgGKMLndCAABAyN4ud0IAAAAuMS93QgAAwJODL3dCAACA+dUvd0I=\",\"dtype\":\"float64\",\"shape\":[127]},\"y\":[7,10,12,17,21,29,34,52,79,107,148,197,233,366,463,631,827,1016,1266,1441,1809,2158,2503,2978,3405,4032,4825,5476,6077,6820,7503,8165,9134,10023,10779,11591,12428,13155,13915,14681,15362,15887,16523,17127,17669,18279,18849,19468,19899,20465,21067,21645,22170,22745,23227,23660,24114,24648,25085,25549,25969,26384,26644,26977,27359,27682,27967,28236,28710,28884,29079,29315,29684,29958,30201,30395,30560,30739,30911,31106,31368,31610,31763,31908,32007,32169,32330,32486,32616,32735,32785,32877,32955,33072,33142,33229,33340,33415,33475,33530,33601,33689,33774,33846,33899,33964,34043,34114,34167,34223,34301,34345,34371,34405,34448,34514,34561,34610,34634,34657,34675,34644,34678,34708,34716,34738,34744]},\"selected\":{\"id\":\"2751\"},\"selection_policy\":{\"id\":\"2750\"}},\"id\":\"2697\",\"type\":\"ColumnDataSource\"},{\"attributes\":{\"data_source\":{\"id\":\"2755\"},\"glyph\":{\"id\":\"2756\"},\"hover_glyph\":null,\"muted_glyph\":null,\"nonselection_glyph\":{\"id\":\"2757\"},\"selection_glyph\":null,\"view\":{\"id\":\"2759\"}},\"id\":\"2758\",\"type\":\"GlyphRenderer\"},{\"attributes\":{\"line_color\":\"darkviolet\",\"line_width\":4,\"x\":{\"field\":\"x\"},\"y\":{\"field\":\"y\"}},\"id\":\"2698\",\"type\":\"Line\"},{\"attributes\":{},\"id\":\"2752\",\"type\":\"UnionRenderers\"},{\"attributes\":{},\"id\":\"2669\",\"type\":\"DataRange1d\"},{\"attributes\":{},\"id\":\"2688\",\"type\":\"HelpTool\"},{\"attributes\":{\"label\":{\"value\":\"recovered\"},\"renderers\":[{\"id\":\"2730\"}]},\"id\":\"2754\",\"type\":\"LegendItem\"},{\"attributes\":{\"days\":[1,2,3,4,5,6,7,8,9,10,11,12,13,14,15,16,17,18,19,20,21,22,23,24,25,26,27,28,29,30,31]},\"id\":\"2711\",\"type\":\"DaysTicker\"},{\"attributes\":{},\"id\":\"2667\",\"type\":\"DataRange1d\"},{\"attributes\":{\"months\":[0,4,8]},\"id\":\"2717\",\"type\":\"MonthsTicker\"},{\"attributes\":{},\"id\":\"2751\",\"type\":\"Selection\"},{\"attributes\":{\"text\":\"Deaths vs Recovered: Italy\"},\"id\":\"2665\",\"type\":\"Title\"},{\"attributes\":{\"source\":{\"id\":\"2755\"}},\"id\":\"2759\",\"type\":\"CDSView\"},{\"attributes\":{},\"id\":\"2673\",\"type\":\"LinearScale\"},{\"attributes\":{},\"id\":\"2680\",\"type\":\"BasicTicker\"},{\"attributes\":{\"callback\":null,\"formatters\":{\"@x\":\"datetime\"},\"mode\":\"vline\",\"tooltips\":[[\"date\",\"@x{%d %B}\"],[\"deaths OR recovered\",\"@y{0.}\"]]},\"id\":\"2765\",\"type\":\"HoverTool\"},{\"attributes\":{\"source\":{\"id\":\"2727\"}},\"id\":\"2731\",\"type\":\"CDSView\"},{\"attributes\":{},\"id\":\"2753\",\"type\":\"Selection\"},{\"attributes\":{\"base\":60,\"mantissas\":[1,2,5,10,15,20,30],\"max_interval\":1800000.0,\"min_interval\":1000.0,\"num_minor_ticks\":0},\"id\":\"2709\",\"type\":\"AdaptiveTicker\"},{\"attributes\":{\"items\":[{\"id\":\"2721\"},{\"id\":\"2754\"}],\"location\":\"top_left\"},\"id\":\"2720\",\"type\":\"Legend\"},{\"attributes\":{\"axis_label\":\"Deaths & Recovered\",\"formatter\":{\"id\":\"2764\"},\"minor_tick_in\":-5,\"minor_tick_out\":-3,\"ticker\":{\"id\":\"2680\"}},\"id\":\"2679\",\"type\":\"LinearAxis\"},{\"attributes\":{\"fill_color\":{\"value\":\"white\"},\"line_color\":{\"value\":\"darkviolet\"},\"size\":{\"units\":\"screen\",\"value\":6},\"x\":{\"field\":\"x\"},\"y\":{\"field\":\"y\"}},\"id\":\"2723\",\"type\":\"Circle\"},{\"attributes\":{\"label\":{\"value\":\"deaths\"},\"renderers\":[{\"id\":\"2700\"}]},\"id\":\"2721\",\"type\":\"LegendItem\"},{\"attributes\":{\"line_alpha\":0.1,\"line_color\":\"green\",\"line_width\":4,\"x\":{\"field\":\"x\"},\"y\":{\"field\":\"y\"}},\"id\":\"2729\",\"type\":\"Line\"},{\"attributes\":{\"data\":{\"x\":{\"__ndarray__\":\"AAAA5UcHd0IAAMBKmgd3QgAAgLDsB3dCAABAFj8Id0IAAAB8kQh3QgAAwOHjCHdCAACARzYJd0IAAECtiAl3QgAAABPbCXdCAADAeC0Kd0IAAIDefwp3QgAAQETSCndCAAAAqiQLd0IAAMAPdwt3QgAAgHXJC3dCAABA2xsMd0IAAABBbgx3QgAAwKbADHdCAACADBMNd0IAAEByZQ13QgAAANi3DXdCAADAPQoOd0IAAICjXA53QgAAQAmvDndCAAAAbwEPd0IAAMDUUw93QgAAgDqmD3dCAABAoPgPd0IAAAAGSxB3QgAAwGudEHdCAACA0e8Qd0IAAEA3QhF3QgAAAJ2UEXdCAADAAucRd0IAAIBoORJ3QgAAQM6LEndCAAAANN4Sd0IAAMCZMBN3QgAAgP+CE3dCAABAZdUTd0IAAADLJxR3QgAAwDB6FHdCAACAlswUd0IAAED8HhV3QgAAAGJxFXdCAADAx8MVd0IAAIAtFhZ3QgAAQJNoFndCAAAA+boWd0IAAMBeDRd3QgAAgMRfF3dCAABAKrIXd0IAAACQBBh3QgAAwPVWGHdCAACAW6kYd0IAAEDB+xh3QgAAACdOGXdCAADAjKAZd0IAAIDy8hl3QgAAQFhFGndCAAAAvpcad0IAAMAj6hp3QgAAgIk8G3dCAABA744bd0IAAABV4Rt3QgAAwLozHHdCAACAIIYcd0IAAECG2Bx3QgAAAOwqHXdCAADAUX0dd0IAAIC3zx13QgAAQB0iHndCAAAAg3Qed0IAAMDoxh53QgAAgE4ZH3dCAABAtGsfd0IAAAAavh93QgAAwH8QIHdCAACA5WIgd0IAAEBLtSB3QgAAALEHIXdCAADAFlohd0IAAIB8rCF3QgAAQOL+IXdCAAAASFEid0IAAMCtoyJ3QgAAgBP2IndCAABAeUgjd0IAAADfmiN3QgAAwETtI3dCAACAqj8kd0IAAEAQkiR3QgAAAHbkJHdCAADA2zYld0IAAIBBiSV3QgAAQKfbJXdCAAAADS4md0IAAMBygCZ3QgAAgNjSJndCAABAPiUnd0IAAACkdyd3QgAAwAnKJ3dCAACAbxwod0IAAEDVbih3QgAAADvBKHdCAADAoBMpd0IAAIAGZil3QgAAQGy4KXdCAAAA0goqd0IAAMA3XSp3QgAAgJ2vKndCAABAAwIrd0IAAABpVCt3QgAAwM6mK3dCAACANPkrd0IAAECaSyx3QgAAAACeLHdCAADAZfAsd0IAAIDLQi13QgAAQDGVLXdCAAAAl+ctd0IAAMD8OS53QgAAgGKMLndCAABAyN4ud0IAAAAuMS93QgAAwJODL3dCAACA+dUvd0I=\",\"dtype\":\"float64\",\"shape\":[127]},\"y\":[1,1,3,45,46,50,83,149,160,276,414,523,589,622,724,1004,1045,1258,1439,1966,2335,2749,2941,4025,4440,5129,6072,7024,7432,8326,9362,10361,10950,12384,13030,14620,15729,16847,18278,19758,20996,21815,22837,24392,26491,28470,30455,32534,34211,35435,37130,38092,40164,42727,44927,47055,48877,51600,54543,57576,60498,63120,64928,66624,68941,71252,75945,78249,79914,81654,82879,85231,93245,96276,99023,103031,105186,106587,109039,112541,115288,120205,122810,125176,127326,129401,132282,134560,136720,138840,140479,141981,144658,147101,150604,152844,155633,157507,158355,160092,160938,161895,163781,165078,165837,166584,168646,169939,171338,173085,174865,176370,177010,178526,179455,180544,181907,182453,182893,183426,184585,186111,186725,187615,188584,188891,189196]},\"selected\":{\"id\":\"2858\"},\"selection_policy\":{\"id\":\"2857\"}},\"id\":\"2755\",\"type\":\"ColumnDataSource\"},{\"attributes\":{\"axis_label\":\"Date\",\"formatter\":{\"id\":\"2760\"},\"major_label_orientation\":0.7853981633974483,\"minor_tick_in\":-5,\"minor_tick_out\":-3,\"ticker\":{\"id\":\"2676\"}},\"id\":\"2675\",\"type\":\"DatetimeAxis\"},{\"attributes\":{\"num_minor_ticks\":5,\"tickers\":[{\"id\":\"2708\"},{\"id\":\"2709\"},{\"id\":\"2710\"},{\"id\":\"2711\"},{\"id\":\"2712\"},{\"id\":\"2713\"},{\"id\":\"2714\"},{\"id\":\"2715\"},{\"id\":\"2716\"},{\"id\":\"2717\"},{\"id\":\"2718\"},{\"id\":\"2719\"}]},\"id\":\"2676\",\"type\":\"DatetimeTicker\"}],\"root_ids\":[\"2664\"]},\"title\":\"Bokeh Application\",\"version\":\"2.0.2\"}};\n",
       "  var render_items = [{\"docid\":\"2c55cc0b-796f-49b3-add0-268efff37c4e\",\"root_ids\":[\"2664\"],\"roots\":{\"2664\":\"40705584-bcd3-4783-8bf0-78ef44d76d69\"}}];\n",
       "  root.Bokeh.embed.embed_items_notebook(docs_json, render_items);\n",
       "\n",
       "  }\n",
       "  if (root.Bokeh !== undefined) {\n",
       "    embed_document(root);\n",
       "  } else {\n",
       "    var attempts = 0;\n",
       "    var timer = setInterval(function(root) {\n",
       "      if (root.Bokeh !== undefined) {\n",
       "        clearInterval(timer);\n",
       "        embed_document(root);\n",
       "      } else {\n",
       "        attempts++;\n",
       "        if (attempts > 100) {\n",
       "          clearInterval(timer);\n",
       "          console.log(\"Bokeh: ERROR: Unable to run BokehJS code because BokehJS library is missing\");\n",
       "        }\n",
       "      }\n",
       "    }, 10, root)\n",
       "  }\n",
       "})(window);"
      ],
      "application/vnd.bokehjs_exec.v0+json": ""
     },
     "metadata": {
      "application/vnd.bokehjs_exec.v0+json": {
       "id": "2664"
      }
     },
     "output_type": "display_data"
    }
   ],
   "source": [
    "p_deaths_recovered_Italy = bokeh_plot_2_lines(x=time_date_new, y=deceduti_italy, yy=guariti_italy, \n",
    "                  title='Deaths vs Recovered: Italy', \n",
    "                  file_name=\"deaths_recovered_Italy.html\", \n",
    "                  x_label='Date', y_label='Deaths & Recovered', \n",
    "                  legend_1='deaths', legend_2='recovered',\n",
    "                  x_label_hover='date' , y_label_hover='deaths OR recovered' , \n",
    "                  color_1='darkviolet', color_2='green', y_minmax=None)\n",
    "\n",
    "show(p_deaths_recovered_Italy)"
   ]
  },
  {
   "cell_type": "markdown",
   "metadata": {},
   "source": [
    "------------------\n",
    "\n",
    "### New Deaths"
   ]
  },
  {
   "cell_type": "code",
   "execution_count": 22,
   "metadata": {},
   "outputs": [
    {
     "data": {
      "text/plain": [
       "127"
      ]
     },
     "execution_count": 22,
     "metadata": {},
     "output_type": "execute_result"
    }
   ],
   "source": [
    "len(deceduti_italy)\n",
    "    "
   ]
  },
  {
   "cell_type": "code",
   "execution_count": 23,
   "metadata": {},
   "outputs": [],
   "source": [
    "nuovi_deceduti = [0]\n",
    "i = 0\n",
    "while (i < len(deceduti_italy)-1):\n",
    "#     print(deceduti_italy.iloc[i + 1] - deceduti_italy.iloc[i])\n",
    "    temp = deceduti_italy.iloc[i + 1] - deceduti_italy.iloc[i]\n",
    "    nuovi_deceduti.append(temp)\n",
    "    i = i + 1"
   ]
  },
  {
   "cell_type": "code",
   "execution_count": 24,
   "metadata": {},
   "outputs": [
    {
     "data": {
      "text/html": [
       "\n",
       "\n",
       "\n",
       "\n",
       "\n",
       "\n",
       "  <div class=\"bk-root\" id=\"ce42e2bc-48e6-4a2f-b568-e99a9a34a821\" data-root-id=\"3316\"></div>\n"
      ]
     },
     "metadata": {},
     "output_type": "display_data"
    },
    {
     "data": {
      "application/javascript": [
       "(function(root) {\n",
       "  function embed_document(root) {\n",
       "    \n",
       "  var docs_json = {\"4eaa3090-96f4-4cc9-b5f3-02525c02a736\":{\"roots\":{\"references\":[{\"attributes\":{\"below\":[{\"id\":\"3327\"}],\"center\":[{\"id\":\"3330\"},{\"id\":\"3334\"},{\"id\":\"3372\"}],\"left\":[{\"id\":\"3331\"}],\"plot_height\":450,\"renderers\":[{\"id\":\"3352\"},{\"id\":\"3377\"}],\"title\":{\"id\":\"3317\"},\"toolbar\":{\"id\":\"3342\"},\"x_range\":{\"id\":\"3319\"},\"x_scale\":{\"id\":\"3323\"},\"y_range\":{\"id\":\"3321\"},\"y_scale\":{\"id\":\"3325\"}},\"id\":\"3316\",\"subtype\":\"Figure\",\"type\":\"Plot\"},{\"attributes\":{\"axis\":{\"id\":\"3327\"},\"ticker\":null},\"id\":\"3330\",\"type\":\"Grid\"},{\"attributes\":{\"data_source\":{\"id\":\"3374\"},\"glyph\":{\"id\":\"3375\"},\"hover_glyph\":null,\"muted_glyph\":null,\"nonselection_glyph\":{\"id\":\"3376\"},\"selection_glyph\":null,\"view\":{\"id\":\"3378\"}},\"id\":\"3377\",\"type\":\"GlyphRenderer\"},{\"attributes\":{\"axis_label\":\"Date\",\"formatter\":{\"id\":\"3379\"},\"major_label_orientation\":0.7853981633974483,\"minor_tick_in\":-5,\"minor_tick_out\":-3,\"ticker\":{\"id\":\"3328\"}},\"id\":\"3327\",\"type\":\"DatetimeAxis\"},{\"attributes\":{\"items\":[{\"id\":\"3373\"}],\"location\":\"top_left\"},\"id\":\"3372\",\"type\":\"Legend\"},{\"attributes\":{},\"id\":\"3332\",\"type\":\"BasicTicker\"},{\"attributes\":{},\"id\":\"3496\",\"type\":\"UnionRenderers\"},{\"attributes\":{\"data_source\":{\"id\":\"3349\"},\"glyph\":{\"id\":\"3350\"},\"hover_glyph\":null,\"muted_glyph\":null,\"nonselection_glyph\":{\"id\":\"3351\"},\"selection_glyph\":null,\"view\":{\"id\":\"3353\"}},\"id\":\"3352\",\"type\":\"GlyphRenderer\"},{\"attributes\":{\"text\":\"New Deaths: Italy\"},\"id\":\"3317\",\"type\":\"Title\"},{\"attributes\":{\"label\":{\"value\":\"new deaths\"},\"renderers\":[{\"id\":\"3352\"}]},\"id\":\"3373\",\"type\":\"LegendItem\"},{\"attributes\":{},\"id\":\"3321\",\"type\":\"DataRange1d\"},{\"attributes\":{\"months\":[0,4,8]},\"id\":\"3369\",\"type\":\"MonthsTicker\"},{\"attributes\":{},\"id\":\"3371\",\"type\":\"YearsTicker\"},{\"attributes\":{},\"id\":\"3335\",\"type\":\"PanTool\"},{\"attributes\":{\"axis_label\":\"New Deaths\",\"formatter\":{\"id\":\"3383\"},\"minor_tick_in\":-5,\"minor_tick_out\":-3,\"ticker\":{\"id\":\"3332\"}},\"id\":\"3331\",\"type\":\"LinearAxis\"},{\"attributes\":{\"source\":{\"id\":\"3374\"}},\"id\":\"3378\",\"type\":\"CDSView\"},{\"attributes\":{\"active_drag\":\"auto\",\"active_inspect\":\"auto\",\"active_multi\":null,\"active_scroll\":\"auto\",\"active_tap\":\"auto\",\"tools\":[{\"id\":\"3335\"},{\"id\":\"3336\"},{\"id\":\"3337\"},{\"id\":\"3338\"},{\"id\":\"3339\"},{\"id\":\"3340\"},{\"id\":\"3384\"}]},\"id\":\"3342\",\"type\":\"Toolbar\"},{\"attributes\":{\"data\":{\"x\":{\"__ndarray__\":\"AAAA5UcHd0IAAMBKmgd3QgAAgLDsB3dCAABAFj8Id0IAAAB8kQh3QgAAwOHjCHdCAACARzYJd0IAAECtiAl3QgAAABPbCXdCAADAeC0Kd0IAAIDefwp3QgAAQETSCndCAAAAqiQLd0IAAMAPdwt3QgAAgHXJC3dCAABA2xsMd0IAAABBbgx3QgAAwKbADHdCAACADBMNd0IAAEByZQ13QgAAANi3DXdCAADAPQoOd0IAAICjXA53QgAAQAmvDndCAAAAbwEPd0IAAMDUUw93QgAAgDqmD3dCAABAoPgPd0IAAAAGSxB3QgAAwGudEHdCAACA0e8Qd0IAAEA3QhF3QgAAAJ2UEXdCAADAAucRd0IAAIBoORJ3QgAAQM6LEndCAAAANN4Sd0IAAMCZMBN3QgAAgP+CE3dCAABAZdUTd0IAAADLJxR3QgAAwDB6FHdCAACAlswUd0IAAED8HhV3QgAAAGJxFXdCAADAx8MVd0IAAIAtFhZ3QgAAQJNoFndCAAAA+boWd0IAAMBeDRd3QgAAgMRfF3dCAABAKrIXd0IAAACQBBh3QgAAwPVWGHdCAACAW6kYd0IAAEDB+xh3QgAAACdOGXdCAADAjKAZd0IAAIDy8hl3QgAAQFhFGndCAAAAvpcad0IAAMAj6hp3QgAAgIk8G3dCAABA744bd0IAAABV4Rt3QgAAwLozHHdCAACAIIYcd0IAAECG2Bx3QgAAAOwqHXdCAADAUX0dd0IAAIC3zx13QgAAQB0iHndCAAAAg3Qed0IAAMDoxh53QgAAgE4ZH3dCAABAtGsfd0IAAAAavh93QgAAwH8QIHdCAACA5WIgd0IAAEBLtSB3QgAAALEHIXdCAADAFlohd0IAAIB8rCF3QgAAQOL+IXdCAAAASFEid0IAAMCtoyJ3QgAAgBP2IndCAABAeUgjd0IAAADfmiN3QgAAwETtI3dCAACAqj8kd0IAAEAQkiR3QgAAAHbkJHdCAADA2zYld0IAAIBBiSV3QgAAQKfbJXdCAAAADS4md0IAAMBygCZ3QgAAgNjSJndCAABAPiUnd0IAAACkdyd3QgAAwAnKJ3dCAACAbxwod0IAAEDVbih3QgAAADvBKHdCAADAoBMpd0IAAIAGZil3QgAAQGy4KXdCAAAA0goqd0IAAMA3XSp3QgAAgJ2vKndCAABAAwIrd0IAAABpVCt3QgAAwM6mK3dCAACANPkrd0IAAECaSyx3QgAAAACeLHdCAADAZfAsd0IAAIDLQi13QgAAQDGVLXdCAAAAl+ctd0IAAMD8OS53QgAAgGKMLndCAABAyN4ud0IAAAAuMS93QgAAwJODL3dCAACA+dUvd0I=\",\"dtype\":\"float64\",\"shape\":[127]},\"y\":[0,3,2,5,4,8,5,18,27,28,41,49,36,133,97,168,196,189,250,175,368,349,345,475,427,627,793,651,601,743,683,662,969,889,756,812,837,727,760,766,681,525,636,604,542,610,570,619,431,566,602,578,525,575,482,433,454,534,437,464,420,415,260,333,382,323,285,269,474,174,195,236,369,274,243,194,165,179,172,195,262,242,153,145,99,162,161,156,130,119,50,92,78,117,70,87,111,75,60,55,71,88,85,72,53,65,79,71,53,56,78,44,26,34,43,66,47,49,24,23,18,-31,34,30,8,22,6]},\"selected\":{\"id\":\"3497\"},\"selection_policy\":{\"id\":\"3496\"}},\"id\":\"3374\",\"type\":\"ColumnDataSource\"},{\"attributes\":{},\"id\":\"3383\",\"type\":\"NumeralTickFormatter\"},{\"attributes\":{\"days\":[1,8,15,22]},\"id\":\"3365\",\"type\":\"DaysTicker\"},{\"attributes\":{\"line_alpha\":0.1,\"line_color\":\"darkviolet\",\"line_width\":4,\"x\":{\"field\":\"x\"},\"y\":{\"field\":\"y\"}},\"id\":\"3351\",\"type\":\"Line\"},{\"attributes\":{\"data\":{\"x\":{\"__ndarray__\":\"AAAA5UcHd0IAAMBKmgd3QgAAgLDsB3dCAABAFj8Id0IAAAB8kQh3QgAAwOHjCHdCAACARzYJd0IAAECtiAl3QgAAABPbCXdCAADAeC0Kd0IAAIDefwp3QgAAQETSCndCAAAAqiQLd0IAAMAPdwt3QgAAgHXJC3dCAABA2xsMd0IAAABBbgx3QgAAwKbADHdCAACADBMNd0IAAEByZQ13QgAAANi3DXdCAADAPQoOd0IAAICjXA53QgAAQAmvDndCAAAAbwEPd0IAAMDUUw93QgAAgDqmD3dCAABAoPgPd0IAAAAGSxB3QgAAwGudEHdCAACA0e8Qd0IAAEA3QhF3QgAAAJ2UEXdCAADAAucRd0IAAIBoORJ3QgAAQM6LEndCAAAANN4Sd0IAAMCZMBN3QgAAgP+CE3dCAABAZdUTd0IAAADLJxR3QgAAwDB6FHdCAACAlswUd0IAAED8HhV3QgAAAGJxFXdCAADAx8MVd0IAAIAtFhZ3QgAAQJNoFndCAAAA+boWd0IAAMBeDRd3QgAAgMRfF3dCAABAKrIXd0IAAACQBBh3QgAAwPVWGHdCAACAW6kYd0IAAEDB+xh3QgAAACdOGXdCAADAjKAZd0IAAIDy8hl3QgAAQFhFGndCAAAAvpcad0IAAMAj6hp3QgAAgIk8G3dCAABA744bd0IAAABV4Rt3QgAAwLozHHdCAACAIIYcd0IAAECG2Bx3QgAAAOwqHXdCAADAUX0dd0IAAIC3zx13QgAAQB0iHndCAAAAg3Qed0IAAMDoxh53QgAAgE4ZH3dCAABAtGsfd0IAAAAavh93QgAAwH8QIHdCAACA5WIgd0IAAEBLtSB3QgAAALEHIXdCAADAFlohd0IAAIB8rCF3QgAAQOL+IXdCAAAASFEid0IAAMCtoyJ3QgAAgBP2IndCAABAeUgjd0IAAADfmiN3QgAAwETtI3dCAACAqj8kd0IAAEAQkiR3QgAAAHbkJHdCAADA2zYld0IAAIBBiSV3QgAAQKfbJXdCAAAADS4md0IAAMBygCZ3QgAAgNjSJndCAABAPiUnd0IAAACkdyd3QgAAwAnKJ3dCAACAbxwod0IAAEDVbih3QgAAADvBKHdCAADAoBMpd0IAAIAGZil3QgAAQGy4KXdCAAAA0goqd0IAAMA3XSp3QgAAgJ2vKndCAABAAwIrd0IAAABpVCt3QgAAwM6mK3dCAACANPkrd0IAAECaSyx3QgAAAACeLHdCAADAZfAsd0IAAIDLQi13QgAAQDGVLXdCAAAAl+ctd0IAAMD8OS53QgAAgGKMLndCAABAyN4ud0IAAAAuMS93QgAAwJODL3dCAACA+dUvd0I=\",\"dtype\":\"float64\",\"shape\":[127]},\"y\":[0,3,2,5,4,8,5,18,27,28,41,49,36,133,97,168,196,189,250,175,368,349,345,475,427,627,793,651,601,743,683,662,969,889,756,812,837,727,760,766,681,525,636,604,542,610,570,619,431,566,602,578,525,575,482,433,454,534,437,464,420,415,260,333,382,323,285,269,474,174,195,236,369,274,243,194,165,179,172,195,262,242,153,145,99,162,161,156,130,119,50,92,78,117,70,87,111,75,60,55,71,88,85,72,53,65,79,71,53,56,78,44,26,34,43,66,47,49,24,23,18,-31,34,30,8,22,6]},\"selected\":{\"id\":\"3495\"},\"selection_policy\":{\"id\":\"3494\"}},\"id\":\"3349\",\"type\":\"ColumnDataSource\"},{\"attributes\":{},\"id\":\"3495\",\"type\":\"Selection\"},{\"attributes\":{\"fill_color\":{\"value\":\"white\"},\"line_color\":{\"value\":\"darkviolet\"},\"size\":{\"units\":\"screen\",\"value\":6},\"x\":{\"field\":\"x\"},\"y\":{\"field\":\"y\"}},\"id\":\"3375\",\"type\":\"Circle\"},{\"attributes\":{\"months\":[0,1,2,3,4,5,6,7,8,9,10,11]},\"id\":\"3367\",\"type\":\"MonthsTicker\"},{\"attributes\":{},\"id\":\"3325\",\"type\":\"LinearScale\"},{\"attributes\":{\"line_color\":\"darkviolet\",\"line_width\":4,\"x\":{\"field\":\"x\"},\"y\":{\"field\":\"y\"}},\"id\":\"3350\",\"type\":\"Line\"},{\"attributes\":{\"source\":{\"id\":\"3349\"}},\"id\":\"3353\",\"type\":\"CDSView\"},{\"attributes\":{\"months\":[0,2,4,6,8,10]},\"id\":\"3368\",\"type\":\"MonthsTicker\"},{\"attributes\":{\"mantissas\":[1,2,5],\"max_interval\":500.0,\"num_minor_ticks\":0},\"id\":\"3360\",\"type\":\"AdaptiveTicker\"},{\"attributes\":{\"axis\":{\"id\":\"3331\"},\"dimension\":1,\"ticker\":null},\"id\":\"3334\",\"type\":\"Grid\"},{\"attributes\":{\"base\":24,\"mantissas\":[1,2,4,6,8,12],\"max_interval\":43200000.0,\"min_interval\":3600000.0,\"num_minor_ticks\":0},\"id\":\"3362\",\"type\":\"AdaptiveTicker\"},{\"attributes\":{},\"id\":\"3494\",\"type\":\"UnionRenderers\"},{\"attributes\":{\"fill_alpha\":{\"value\":0.1},\"fill_color\":{\"value\":\"white\"},\"line_alpha\":{\"value\":0.1},\"line_color\":{\"value\":\"darkviolet\"},\"size\":{\"units\":\"screen\",\"value\":6},\"x\":{\"field\":\"x\"},\"y\":{\"field\":\"y\"}},\"id\":\"3376\",\"type\":\"Circle\"},{\"attributes\":{\"overlay\":{\"id\":\"3341\"}},\"id\":\"3337\",\"type\":\"BoxZoomTool\"},{\"attributes\":{},\"id\":\"3323\",\"type\":\"LinearScale\"},{\"attributes\":{\"bottom_units\":\"screen\",\"fill_alpha\":0.5,\"fill_color\":\"lightgrey\",\"left_units\":\"screen\",\"level\":\"overlay\",\"line_alpha\":1.0,\"line_color\":\"black\",\"line_dash\":[4,4],\"line_width\":2,\"render_mode\":\"css\",\"right_units\":\"screen\",\"top_units\":\"screen\"},\"id\":\"3341\",\"type\":\"BoxAnnotation\"},{\"attributes\":{\"days\":[1,4,7,10,13,16,19,22,25,28]},\"id\":\"3364\",\"type\":\"DaysTicker\"},{\"attributes\":{},\"id\":\"3497\",\"type\":\"Selection\"},{\"attributes\":{\"days\":[\"%d %B\"]},\"id\":\"3379\",\"type\":\"DatetimeTickFormatter\"},{\"attributes\":{\"base\":60,\"mantissas\":[1,2,5,10,15,20,30],\"max_interval\":1800000.0,\"min_interval\":1000.0,\"num_minor_ticks\":0},\"id\":\"3361\",\"type\":\"AdaptiveTicker\"},{\"attributes\":{},\"id\":\"3319\",\"type\":\"DataRange1d\"},{\"attributes\":{},\"id\":\"3339\",\"type\":\"ResetTool\"},{\"attributes\":{},\"id\":\"3338\",\"type\":\"SaveTool\"},{\"attributes\":{\"callback\":null,\"formatters\":{\"@x\":\"datetime\"},\"mode\":\"vline\",\"tooltips\":[[\"date\",\"@x{%d %B}\"],[\"new deaths\",\"@y{0.}\"]]},\"id\":\"3384\",\"type\":\"HoverTool\"},{\"attributes\":{\"days\":[1,15]},\"id\":\"3366\",\"type\":\"DaysTicker\"},{\"attributes\":{\"months\":[0,6]},\"id\":\"3370\",\"type\":\"MonthsTicker\"},{\"attributes\":{},\"id\":\"3340\",\"type\":\"HelpTool\"},{\"attributes\":{\"days\":[1,2,3,4,5,6,7,8,9,10,11,12,13,14,15,16,17,18,19,20,21,22,23,24,25,26,27,28,29,30,31]},\"id\":\"3363\",\"type\":\"DaysTicker\"},{\"attributes\":{},\"id\":\"3336\",\"type\":\"WheelZoomTool\"},{\"attributes\":{\"num_minor_ticks\":5,\"tickers\":[{\"id\":\"3360\"},{\"id\":\"3361\"},{\"id\":\"3362\"},{\"id\":\"3363\"},{\"id\":\"3364\"},{\"id\":\"3365\"},{\"id\":\"3366\"},{\"id\":\"3367\"},{\"id\":\"3368\"},{\"id\":\"3369\"},{\"id\":\"3370\"},{\"id\":\"3371\"}]},\"id\":\"3328\",\"type\":\"DatetimeTicker\"}],\"root_ids\":[\"3316\"]},\"title\":\"Bokeh Application\",\"version\":\"2.0.2\"}};\n",
       "  var render_items = [{\"docid\":\"4eaa3090-96f4-4cc9-b5f3-02525c02a736\",\"root_ids\":[\"3316\"],\"roots\":{\"3316\":\"ce42e2bc-48e6-4a2f-b568-e99a9a34a821\"}}];\n",
       "  root.Bokeh.embed.embed_items_notebook(docs_json, render_items);\n",
       "\n",
       "  }\n",
       "  if (root.Bokeh !== undefined) {\n",
       "    embed_document(root);\n",
       "  } else {\n",
       "    var attempts = 0;\n",
       "    var timer = setInterval(function(root) {\n",
       "      if (root.Bokeh !== undefined) {\n",
       "        clearInterval(timer);\n",
       "        embed_document(root);\n",
       "      } else {\n",
       "        attempts++;\n",
       "        if (attempts > 100) {\n",
       "          clearInterval(timer);\n",
       "          console.log(\"Bokeh: ERROR: Unable to run BokehJS code because BokehJS library is missing\");\n",
       "        }\n",
       "      }\n",
       "    }, 10, root)\n",
       "  }\n",
       "})(window);"
      ],
      "application/vnd.bokehjs_exec.v0+json": ""
     },
     "metadata": {
      "application/vnd.bokehjs_exec.v0+json": {
       "id": "3316"
      }
     },
     "output_type": "display_data"
    }
   ],
   "source": [
    "p_new_deaths_Italy = bokeh_plot_1_line(x=time_date_new, y=nuovi_deceduti, \n",
    "                  title='New Deaths: Italy', \n",
    "                  file_name=\"new_deaths_Italy.html\", \n",
    "                  x_label='Date', \n",
    "                  y_label='New Deaths', legend='new deaths',\n",
    "                  x_label_hover='date', y_label_hover='new deaths',\n",
    "                  color='darkviolet', y_minmax=None)\n",
    "\n",
    "show(p_new_deaths_Italy)"
   ]
  },
  {
   "cell_type": "code",
   "execution_count": 25,
   "metadata": {},
   "outputs": [],
   "source": [
    "nuovi_deceduti_df = pd.DataFrame(nuovi_deceduti)\n",
    "\n",
    "SMA_new_deaths = nuovi_deceduti_df[:].rolling(window=7).mean()\n",
    "SMA_new_deaths_2 = nuovi_deceduti_df[:].rolling(window=10).mean()"
   ]
  },
  {
   "cell_type": "code",
   "execution_count": 26,
   "metadata": {},
   "outputs": [
    {
     "data": {
      "text/html": [
       "<div>\n",
       "<style scoped>\n",
       "    .dataframe tbody tr th:only-of-type {\n",
       "        vertical-align: middle;\n",
       "    }\n",
       "\n",
       "    .dataframe tbody tr th {\n",
       "        vertical-align: top;\n",
       "    }\n",
       "\n",
       "    .dataframe thead th {\n",
       "        text-align: right;\n",
       "    }\n",
       "</style>\n",
       "<table border=\"1\" class=\"dataframe\">\n",
       "  <thead>\n",
       "    <tr style=\"text-align: right;\">\n",
       "      <th></th>\n",
       "      <th>0</th>\n",
       "    </tr>\n",
       "  </thead>\n",
       "  <tbody>\n",
       "    <tr>\n",
       "      <th>0</th>\n",
       "      <td>NaN</td>\n",
       "    </tr>\n",
       "    <tr>\n",
       "      <th>1</th>\n",
       "      <td>NaN</td>\n",
       "    </tr>\n",
       "    <tr>\n",
       "      <th>2</th>\n",
       "      <td>NaN</td>\n",
       "    </tr>\n",
       "    <tr>\n",
       "      <th>3</th>\n",
       "      <td>NaN</td>\n",
       "    </tr>\n",
       "    <tr>\n",
       "      <th>4</th>\n",
       "      <td>NaN</td>\n",
       "    </tr>\n",
       "  </tbody>\n",
       "</table>\n",
       "</div>"
      ],
      "text/plain": [
       "    0\n",
       "0 NaN\n",
       "1 NaN\n",
       "2 NaN\n",
       "3 NaN\n",
       "4 NaN"
      ]
     },
     "execution_count": 26,
     "metadata": {},
     "output_type": "execute_result"
    }
   ],
   "source": [
    "SMA_new_deaths.head()"
   ]
  },
  {
   "cell_type": "code",
   "execution_count": 27,
   "metadata": {},
   "outputs": [
    {
     "data": {
      "text/html": [
       "\n",
       "\n",
       "\n",
       "\n",
       "\n",
       "\n",
       "  <div class=\"bk-root\" id=\"6d4cf688-c7ea-43ba-9933-dfe34ae9b9aa\" data-root-id=\"3879\"></div>\n"
      ]
     },
     "metadata": {},
     "output_type": "display_data"
    },
    {
     "data": {
      "application/javascript": [
       "(function(root) {\n",
       "  function embed_document(root) {\n",
       "    \n",
       "  var docs_json = {\"753c06cc-a9e1-4f60-a041-bb731569bfc3\":{\"roots\":{\"references\":[{\"attributes\":{\"below\":[{\"id\":\"3890\"}],\"center\":[{\"id\":\"3893\"},{\"id\":\"3897\"},{\"id\":\"3935\"}],\"left\":[{\"id\":\"3894\"}],\"plot_height\":450,\"renderers\":[{\"id\":\"3915\"},{\"id\":\"3940\"},{\"id\":\"3945\"},{\"id\":\"3973\"}],\"title\":{\"id\":\"3880\"},\"toolbar\":{\"id\":\"3905\"},\"x_range\":{\"id\":\"3882\"},\"x_scale\":{\"id\":\"3886\"},\"y_range\":{\"id\":\"3884\"},\"y_scale\":{\"id\":\"3888\"}},\"id\":\"3879\",\"subtype\":\"Figure\",\"type\":\"Plot\"},{\"attributes\":{},\"id\":\"3886\",\"type\":\"LinearScale\"},{\"attributes\":{},\"id\":\"3902\",\"type\":\"ResetTool\"},{\"attributes\":{\"data\":{\"x\":{\"__ndarray__\":\"AAAA5UcHd0IAAMBKmgd3QgAAgLDsB3dCAABAFj8Id0IAAAB8kQh3QgAAwOHjCHdCAACARzYJd0IAAECtiAl3QgAAABPbCXdCAADAeC0Kd0IAAIDefwp3QgAAQETSCndCAAAAqiQLd0IAAMAPdwt3QgAAgHXJC3dCAABA2xsMd0IAAABBbgx3QgAAwKbADHdCAACADBMNd0IAAEByZQ13QgAAANi3DXdCAADAPQoOd0IAAICjXA53QgAAQAmvDndCAAAAbwEPd0IAAMDUUw93QgAAgDqmD3dCAABAoPgPd0IAAAAGSxB3QgAAwGudEHdCAACA0e8Qd0IAAEA3QhF3QgAAAJ2UEXdCAADAAucRd0IAAIBoORJ3QgAAQM6LEndCAAAANN4Sd0IAAMCZMBN3QgAAgP+CE3dCAABAZdUTd0IAAADLJxR3QgAAwDB6FHdCAACAlswUd0IAAED8HhV3QgAAAGJxFXdCAADAx8MVd0IAAIAtFhZ3QgAAQJNoFndCAAAA+boWd0IAAMBeDRd3QgAAgMRfF3dCAABAKrIXd0IAAACQBBh3QgAAwPVWGHdCAACAW6kYd0IAAEDB+xh3QgAAACdOGXdCAADAjKAZd0IAAIDy8hl3QgAAQFhFGndCAAAAvpcad0IAAMAj6hp3QgAAgIk8G3dCAABA744bd0IAAABV4Rt3QgAAwLozHHdCAACAIIYcd0IAAECG2Bx3QgAAAOwqHXdCAADAUX0dd0IAAIC3zx13QgAAQB0iHndCAAAAg3Qed0IAAMDoxh53QgAAgE4ZH3dCAABAtGsfd0IAAAAavh93QgAAwH8QIHdCAACA5WIgd0IAAEBLtSB3QgAAALEHIXdCAADAFlohd0IAAIB8rCF3QgAAQOL+IXdCAAAASFEid0IAAMCtoyJ3QgAAgBP2IndCAABAeUgjd0IAAADfmiN3QgAAwETtI3dCAACAqj8kd0IAAEAQkiR3QgAAAHbkJHdCAADA2zYld0IAAIBBiSV3QgAAQKfbJXdCAAAADS4md0IAAMBygCZ3QgAAgNjSJndCAABAPiUnd0IAAACkdyd3QgAAwAnKJ3dCAACAbxwod0IAAEDVbih3QgAAADvBKHdCAADAoBMpd0IAAIAGZil3QgAAQGy4KXdCAAAA0goqd0IAAMA3XSp3QgAAgJ2vKndCAABAAwIrd0IAAABpVCt3QgAAwM6mK3dCAACANPkrd0IAAECaSyx3QgAAAACeLHdCAADAZfAsd0IAAIDLQi13QgAAQDGVLXdCAAAAl+ctd0IAAMD8OS53QgAAgGKMLndCAABAyN4ud0IAAAAuMS93QgAAwJODL3dCAACA+dUvd0I=\",\"dtype\":\"float64\",\"shape\":[127]},\"y\":{\"__ndarray__\":\"AAAAAAAA+H8AAAAAAAD4fwAAAAAAAPh/AAAAAAAA+H8AAAAAAAD4fwAAAAAAAPh/t23btm3bDkBu27Zt27YZQG7btm3btiNASZIkSZIkK0Bu27Zt27YyQEmSJEmSJDlASZIkSZIkPUBu27Zt27ZHQLdt27ZtW01Abtu2bdu2U0Bu27Zt27ZZQAAAAAAAAF9Abtu2bdsWY0AlSZIkSZJlQEmSJEmSxGlASZIkSZJEbkBu27Zt27ZwQEmSJEmSNHNASZIkSZJUdUAlSZIkSbJ4QG7btm3bNn5Abtu2bdtegEBu27Zt236BQNu2bdu2RYNAt23btm0zhEAAAAAAAECFQG7btm3bxoZASZIkSZI0h0BJkiRJkqyHQNu2bdu2nYhAkiRJkiQJiUC3bdu2bTuJQLdt27Ztq4lAt23btm3DiEDbtm3bttWHQNu2bdu2zYZASZIkSZIEhkAlSZIkSfqEQG7btm3bJoRAt23btm17g0C3bdu2bZuCQEmSJEmSVIJAkiRJkiTpgUCSJEmSJJmBQG7btm3bloFAAAAAAADAgUBu27Zt216BQEmSJEmSZIFAAAAAAADIgEAlSZIkScqAQCVJkiRJSoBAkiRJkiT5f0Bu27Zt27Z+QLdt27ZtK35AkiRJkiTJfEAAAAAAADB8QEmSJEmSpHpAAAAAAACQeUBJkiRJkjR4QAAAAAAAMHdAbtu2bduWdUDbtm3btj10QEmSJEmSxHRAAAAAAAAAdEBJkiRJksRyQG7btm3bdnFAAAAAAADgcUBu27Zt28ZxQLdt27Zti3FAbtu2bdsWbkDbtm3btu1tQEmSJEmSpG1AAAAAAACAbEBJkiRJkmRpQNu2bdu2LWlAkiRJkiQpaUDbtm3btm1oQCVJkiRJEmhASZIkSZKkZkBu27Zt23ZmQLdt27Zt22VAbtu2bdv2Y0Bu27Zt2/ZhQLdt27ZtW2FAJUmSJElSX0AlSZIkSRJfQCVJkiRJElxAAAAAAACAWkDbtm3btm1XQEmSJEmS5FVAt23btm2bVUAAAAAAAIBWQLdt27ZtW1VAkiRJkiSJVEBJkiRJkuRSQJIkSZIkiVNAbtu2bdt2U0AlSZIkSRJSQJIkSZIkSVFAbtu2bdt2UUAlSZIkSVJSQCVJkiRJUlJAJUmSJEkSUUCSJEmSJAlQQAAAAAAAQFBAt23btm3bT0AlSZIkSRJNQLdt27Zt20lAt23btm3bR0CSJEmSJMlIQEmSJEmSJEhAJUmSJEkSRkBJkiRJkqREQNu2bdu2bURAkiRJkiRJQ0AAAAAAAAA8QNu2bdu2bTdAAAAAAAAANUCSJEmSJEkuQG7btm3bti1At23btm3bKEA=\",\"dtype\":\"float64\",\"shape\":[127]}},\"selected\":{\"id\":\"4117\"},\"selection_policy\":{\"id\":\"4116\"}},\"id\":\"3970\",\"type\":\"ColumnDataSource\"},{\"attributes\":{},\"id\":\"3979\",\"type\":\"NumeralTickFormatter\"},{\"attributes\":{\"months\":[0,4,8]},\"id\":\"3932\",\"type\":\"MonthsTicker\"},{\"attributes\":{},\"id\":\"3965\",\"type\":\"UnionRenderers\"},{\"attributes\":{\"line_color\":\"lightblue\",\"line_width\":4,\"x\":{\"field\":\"x\"},\"y\":{\"field\":\"y\"}},\"id\":\"3943\",\"type\":\"Line\"},{\"attributes\":{\"source\":{\"id\":\"3970\"}},\"id\":\"3974\",\"type\":\"CDSView\"},{\"attributes\":{\"fill_color\":{\"value\":\"white\"},\"line_color\":{\"value\":\"darkviolet\"},\"size\":{\"units\":\"screen\",\"value\":6},\"x\":{\"field\":\"x\"},\"y\":{\"field\":\"y\"}},\"id\":\"3938\",\"type\":\"Circle\"},{\"attributes\":{},\"id\":\"3882\",\"type\":\"DataRange1d\"},{\"attributes\":{\"axis_label\":\"New Deaths\",\"formatter\":{\"id\":\"3979\"},\"minor_tick_in\":-5,\"minor_tick_out\":-3,\"ticker\":{\"id\":\"3895\"}},\"id\":\"3894\",\"type\":\"LinearAxis\"},{\"attributes\":{\"callback\":null,\"formatters\":{\"@x\":\"datetime\"},\"mode\":\"vline\",\"tooltips\":[[\"date\",\"@x{%d %B}\"],[\"new deaths OR SMA 7\",\"@y{0.}\"]]},\"id\":\"3980\",\"type\":\"HoverTool\"},{\"attributes\":{\"data\":{\"x\":{\"__ndarray__\":\"AAAA5UcHd0IAAMBKmgd3QgAAgLDsB3dCAABAFj8Id0IAAAB8kQh3QgAAwOHjCHdCAACARzYJd0IAAECtiAl3QgAAABPbCXdCAADAeC0Kd0IAAIDefwp3QgAAQETSCndCAAAAqiQLd0IAAMAPdwt3QgAAgHXJC3dCAABA2xsMd0IAAABBbgx3QgAAwKbADHdCAACADBMNd0IAAEByZQ13QgAAANi3DXdCAADAPQoOd0IAAICjXA53QgAAQAmvDndCAAAAbwEPd0IAAMDUUw93QgAAgDqmD3dCAABAoPgPd0IAAAAGSxB3QgAAwGudEHdCAACA0e8Qd0IAAEA3QhF3QgAAAJ2UEXdCAADAAucRd0IAAIBoORJ3QgAAQM6LEndCAAAANN4Sd0IAAMCZMBN3QgAAgP+CE3dCAABAZdUTd0IAAADLJxR3QgAAwDB6FHdCAACAlswUd0IAAED8HhV3QgAAAGJxFXdCAADAx8MVd0IAAIAtFhZ3QgAAQJNoFndCAAAA+boWd0IAAMBeDRd3QgAAgMRfF3dCAABAKrIXd0IAAACQBBh3QgAAwPVWGHdCAACAW6kYd0IAAEDB+xh3QgAAACdOGXdCAADAjKAZd0IAAIDy8hl3QgAAQFhFGndCAAAAvpcad0IAAMAj6hp3QgAAgIk8G3dCAABA744bd0IAAABV4Rt3QgAAwLozHHdCAACAIIYcd0IAAECG2Bx3QgAAAOwqHXdCAADAUX0dd0IAAIC3zx13QgAAQB0iHndCAAAAg3Qed0IAAMDoxh53QgAAgE4ZH3dCAABAtGsfd0IAAAAavh93QgAAwH8QIHdCAACA5WIgd0IAAEBLtSB3QgAAALEHIXdCAADAFlohd0IAAIB8rCF3QgAAQOL+IXdCAAAASFEid0IAAMCtoyJ3QgAAgBP2IndCAABAeUgjd0IAAADfmiN3QgAAwETtI3dCAACAqj8kd0IAAEAQkiR3QgAAAHbkJHdCAADA2zYld0IAAIBBiSV3QgAAQKfbJXdCAAAADS4md0IAAMBygCZ3QgAAgNjSJndCAABAPiUnd0IAAACkdyd3QgAAwAnKJ3dCAACAbxwod0IAAEDVbih3QgAAADvBKHdCAADAoBMpd0IAAIAGZil3QgAAQGy4KXdCAAAA0goqd0IAAMA3XSp3QgAAgJ2vKndCAABAAwIrd0IAAABpVCt3QgAAwM6mK3dCAACANPkrd0IAAECaSyx3QgAAAACeLHdCAADAZfAsd0IAAIDLQi13QgAAQDGVLXdCAAAAl+ctd0IAAMD8OS53QgAAgGKMLndCAABAyN4ud0IAAAAuMS93QgAAwJODL3dCAACA+dUvd0I=\",\"dtype\":\"float64\",\"shape\":[127]},\"y\":[0,3,2,5,4,8,5,18,27,28,41,49,36,133,97,168,196,189,250,175,368,349,345,475,427,627,793,651,601,743,683,662,969,889,756,812,837,727,760,766,681,525,636,604,542,610,570,619,431,566,602,578,525,575,482,433,454,534,437,464,420,415,260,333,382,323,285,269,474,174,195,236,369,274,243,194,165,179,172,195,262,242,153,145,99,162,161,156,130,119,50,92,78,117,70,87,111,75,60,55,71,88,85,72,53,65,79,71,53,56,78,44,26,34,43,66,47,49,24,23,18,-31,34,30,8,22,6]},\"selected\":{\"id\":\"3968\"},\"selection_policy\":{\"id\":\"3967\"}},\"id\":\"3937\",\"type\":\"ColumnDataSource\"},{\"attributes\":{\"fill_color\":{\"value\":\"white\"},\"line_color\":{\"value\":\"lightblue\"},\"size\":{\"units\":\"screen\",\"value\":6},\"x\":{\"field\":\"x\"},\"y\":{\"field\":\"y\"}},\"id\":\"3971\",\"type\":\"Circle\"},{\"attributes\":{\"active_drag\":\"auto\",\"active_inspect\":\"auto\",\"active_multi\":null,\"active_scroll\":\"auto\",\"active_tap\":\"auto\",\"tools\":[{\"id\":\"3898\"},{\"id\":\"3899\"},{\"id\":\"3900\"},{\"id\":\"3901\"},{\"id\":\"3902\"},{\"id\":\"3903\"},{\"id\":\"3980\"}]},\"id\":\"3905\",\"type\":\"Toolbar\"},{\"attributes\":{\"axis\":{\"id\":\"3894\"},\"dimension\":1,\"ticker\":null},\"id\":\"3897\",\"type\":\"Grid\"},{\"attributes\":{\"days\":[1,15]},\"id\":\"3929\",\"type\":\"DaysTicker\"},{\"attributes\":{},\"id\":\"3934\",\"type\":\"YearsTicker\"},{\"attributes\":{\"overlay\":{\"id\":\"3904\"}},\"id\":\"3900\",\"type\":\"BoxZoomTool\"},{\"attributes\":{\"num_minor_ticks\":5,\"tickers\":[{\"id\":\"3923\"},{\"id\":\"3924\"},{\"id\":\"3925\"},{\"id\":\"3926\"},{\"id\":\"3927\"},{\"id\":\"3928\"},{\"id\":\"3929\"},{\"id\":\"3930\"},{\"id\":\"3931\"},{\"id\":\"3932\"},{\"id\":\"3933\"},{\"id\":\"3934\"}]},\"id\":\"3891\",\"type\":\"DatetimeTicker\"},{\"attributes\":{},\"id\":\"3884\",\"type\":\"DataRange1d\"},{\"attributes\":{\"axis\":{\"id\":\"3890\"},\"ticker\":null},\"id\":\"3893\",\"type\":\"Grid\"},{\"attributes\":{\"data_source\":{\"id\":\"3937\"},\"glyph\":{\"id\":\"3938\"},\"hover_glyph\":null,\"muted_glyph\":null,\"nonselection_glyph\":{\"id\":\"3939\"},\"selection_glyph\":null,\"view\":{\"id\":\"3941\"}},\"id\":\"3940\",\"type\":\"GlyphRenderer\"},{\"attributes\":{\"base\":24,\"mantissas\":[1,2,4,6,8,12],\"max_interval\":43200000.0,\"min_interval\":3600000.0,\"num_minor_ticks\":0},\"id\":\"3925\",\"type\":\"AdaptiveTicker\"},{\"attributes\":{},\"id\":\"3895\",\"type\":\"BasicTicker\"},{\"attributes\":{},\"id\":\"4116\",\"type\":\"UnionRenderers\"},{\"attributes\":{\"items\":[{\"id\":\"3936\"},{\"id\":\"3969\"}],\"location\":\"top_left\"},\"id\":\"3935\",\"type\":\"Legend\"},{\"attributes\":{\"source\":{\"id\":\"3937\"}},\"id\":\"3941\",\"type\":\"CDSView\"},{\"attributes\":{\"months\":[0,6]},\"id\":\"3933\",\"type\":\"MonthsTicker\"},{\"attributes\":{},\"id\":\"3903\",\"type\":\"HelpTool\"},{\"attributes\":{\"fill_alpha\":{\"value\":0.1},\"fill_color\":{\"value\":\"white\"},\"line_alpha\":{\"value\":0.1},\"line_color\":{\"value\":\"darkviolet\"},\"size\":{\"units\":\"screen\",\"value\":6},\"x\":{\"field\":\"x\"},\"y\":{\"field\":\"y\"}},\"id\":\"3939\",\"type\":\"Circle\"},{\"attributes\":{\"mantissas\":[1,2,5],\"max_interval\":500.0,\"num_minor_ticks\":0},\"id\":\"3923\",\"type\":\"AdaptiveTicker\"},{\"attributes\":{\"label\":{\"value\":\"new deaths\"},\"renderers\":[{\"id\":\"3915\"}]},\"id\":\"3936\",\"type\":\"LegendItem\"},{\"attributes\":{\"line_alpha\":0.1,\"line_color\":\"darkviolet\",\"line_width\":4,\"x\":{\"field\":\"x\"},\"y\":{\"field\":\"y\"}},\"id\":\"3914\",\"type\":\"Line\"},{\"attributes\":{\"data\":{\"x\":{\"__ndarray__\":\"AAAA5UcHd0IAAMBKmgd3QgAAgLDsB3dCAABAFj8Id0IAAAB8kQh3QgAAwOHjCHdCAACARzYJd0IAAECtiAl3QgAAABPbCXdCAADAeC0Kd0IAAIDefwp3QgAAQETSCndCAAAAqiQLd0IAAMAPdwt3QgAAgHXJC3dCAABA2xsMd0IAAABBbgx3QgAAwKbADHdCAACADBMNd0IAAEByZQ13QgAAANi3DXdCAADAPQoOd0IAAICjXA53QgAAQAmvDndCAAAAbwEPd0IAAMDUUw93QgAAgDqmD3dCAABAoPgPd0IAAAAGSxB3QgAAwGudEHdCAACA0e8Qd0IAAEA3QhF3QgAAAJ2UEXdCAADAAucRd0IAAIBoORJ3QgAAQM6LEndCAAAANN4Sd0IAAMCZMBN3QgAAgP+CE3dCAABAZdUTd0IAAADLJxR3QgAAwDB6FHdCAACAlswUd0IAAED8HhV3QgAAAGJxFXdCAADAx8MVd0IAAIAtFhZ3QgAAQJNoFndCAAAA+boWd0IAAMBeDRd3QgAAgMRfF3dCAABAKrIXd0IAAACQBBh3QgAAwPVWGHdCAACAW6kYd0IAAEDB+xh3QgAAACdOGXdCAADAjKAZd0IAAIDy8hl3QgAAQFhFGndCAAAAvpcad0IAAMAj6hp3QgAAgIk8G3dCAABA744bd0IAAABV4Rt3QgAAwLozHHdCAACAIIYcd0IAAECG2Bx3QgAAAOwqHXdCAADAUX0dd0IAAIC3zx13QgAAQB0iHndCAAAAg3Qed0IAAMDoxh53QgAAgE4ZH3dCAABAtGsfd0IAAAAavh93QgAAwH8QIHdCAACA5WIgd0IAAEBLtSB3QgAAALEHIXdCAADAFlohd0IAAIB8rCF3QgAAQOL+IXdCAAAASFEid0IAAMCtoyJ3QgAAgBP2IndCAABAeUgjd0IAAADfmiN3QgAAwETtI3dCAACAqj8kd0IAAEAQkiR3QgAAAHbkJHdCAADA2zYld0IAAIBBiSV3QgAAQKfbJXdCAAAADS4md0IAAMBygCZ3QgAAgNjSJndCAABAPiUnd0IAAACkdyd3QgAAwAnKJ3dCAACAbxwod0IAAEDVbih3QgAAADvBKHdCAADAoBMpd0IAAIAGZil3QgAAQGy4KXdCAAAA0goqd0IAAMA3XSp3QgAAgJ2vKndCAABAAwIrd0IAAABpVCt3QgAAwM6mK3dCAACANPkrd0IAAECaSyx3QgAAAACeLHdCAADAZfAsd0IAAIDLQi13QgAAQDGVLXdCAAAAl+ctd0IAAMD8OS53QgAAgGKMLndCAABAyN4ud0IAAAAuMS93QgAAwJODL3dCAACA+dUvd0I=\",\"dtype\":\"float64\",\"shape\":[127]},\"y\":{\"__ndarray__\":\"AAAAAAAA+H8AAAAAAAD4fwAAAAAAAPh/AAAAAAAA+H8AAAAAAAD4fwAAAAAAAPh/t23btm3bDkBu27Zt27YZQG7btm3btiNASZIkSZIkK0Bu27Zt27YyQEmSJEmSJDlASZIkSZIkPUBu27Zt27ZHQLdt27ZtW01Abtu2bdu2U0Bu27Zt27ZZQAAAAAAAAF9Abtu2bdsWY0AlSZIkSZJlQEmSJEmSxGlASZIkSZJEbkBu27Zt27ZwQEmSJEmSNHNASZIkSZJUdUAlSZIkSbJ4QG7btm3bNn5Abtu2bdtegEBu27Zt236BQNu2bdu2RYNAt23btm0zhEAAAAAAAECFQG7btm3bxoZASZIkSZI0h0BJkiRJkqyHQNu2bdu2nYhAkiRJkiQJiUC3bdu2bTuJQLdt27Ztq4lAt23btm3DiEDbtm3bttWHQNu2bdu2zYZASZIkSZIEhkAlSZIkSfqEQG7btm3bJoRAt23btm17g0C3bdu2bZuCQEmSJEmSVIJAkiRJkiTpgUCSJEmSJJmBQG7btm3bloFAAAAAAADAgUBu27Zt216BQEmSJEmSZIFAAAAAAADIgEAlSZIkScqAQCVJkiRJSoBAkiRJkiT5f0Bu27Zt27Z+QLdt27ZtK35AkiRJkiTJfEAAAAAAADB8QEmSJEmSpHpAAAAAAACQeUBJkiRJkjR4QAAAAAAAMHdAbtu2bduWdUDbtm3btj10QEmSJEmSxHRAAAAAAAAAdEBJkiRJksRyQG7btm3bdnFAAAAAAADgcUBu27Zt28ZxQLdt27Zti3FAbtu2bdsWbkDbtm3btu1tQEmSJEmSpG1AAAAAAACAbEBJkiRJkmRpQNu2bdu2LWlAkiRJkiQpaUDbtm3btm1oQCVJkiRJEmhASZIkSZKkZkBu27Zt23ZmQLdt27Zt22VAbtu2bdv2Y0Bu27Zt2/ZhQLdt27ZtW2FAJUmSJElSX0AlSZIkSRJfQCVJkiRJElxAAAAAAACAWkDbtm3btm1XQEmSJEmS5FVAt23btm2bVUAAAAAAAIBWQLdt27ZtW1VAkiRJkiSJVEBJkiRJkuRSQJIkSZIkiVNAbtu2bdt2U0AlSZIkSRJSQJIkSZIkSVFAbtu2bdt2UUAlSZIkSVJSQCVJkiRJUlJAJUmSJEkSUUCSJEmSJAlQQAAAAAAAQFBAt23btm3bT0AlSZIkSRJNQLdt27Zt20lAt23btm3bR0CSJEmSJMlIQEmSJEmSJEhAJUmSJEkSRkBJkiRJkqREQNu2bdu2bURAkiRJkiRJQ0AAAAAAAAA8QNu2bdu2bTdAAAAAAAAANUCSJEmSJEkuQG7btm3bti1At23btm3bKEA=\",\"dtype\":\"float64\",\"shape\":[127]}},\"selected\":{\"id\":\"4115\"},\"selection_policy\":{\"id\":\"4114\"}},\"id\":\"3942\",\"type\":\"ColumnDataSource\"},{\"attributes\":{\"source\":{\"id\":\"3942\"}},\"id\":\"3946\",\"type\":\"CDSView\"},{\"attributes\":{},\"id\":\"4115\",\"type\":\"Selection\"},{\"attributes\":{\"data\":{\"x\":{\"__ndarray__\":\"AAAA5UcHd0IAAMBKmgd3QgAAgLDsB3dCAABAFj8Id0IAAAB8kQh3QgAAwOHjCHdCAACARzYJd0IAAECtiAl3QgAAABPbCXdCAADAeC0Kd0IAAIDefwp3QgAAQETSCndCAAAAqiQLd0IAAMAPdwt3QgAAgHXJC3dCAABA2xsMd0IAAABBbgx3QgAAwKbADHdCAACADBMNd0IAAEByZQ13QgAAANi3DXdCAADAPQoOd0IAAICjXA53QgAAQAmvDndCAAAAbwEPd0IAAMDUUw93QgAAgDqmD3dCAABAoPgPd0IAAAAGSxB3QgAAwGudEHdCAACA0e8Qd0IAAEA3QhF3QgAAAJ2UEXdCAADAAucRd0IAAIBoORJ3QgAAQM6LEndCAAAANN4Sd0IAAMCZMBN3QgAAgP+CE3dCAABAZdUTd0IAAADLJxR3QgAAwDB6FHdCAACAlswUd0IAAED8HhV3QgAAAGJxFXdCAADAx8MVd0IAAIAtFhZ3QgAAQJNoFndCAAAA+boWd0IAAMBeDRd3QgAAgMRfF3dCAABAKrIXd0IAAACQBBh3QgAAwPVWGHdCAACAW6kYd0IAAEDB+xh3QgAAACdOGXdCAADAjKAZd0IAAIDy8hl3QgAAQFhFGndCAAAAvpcad0IAAMAj6hp3QgAAgIk8G3dCAABA744bd0IAAABV4Rt3QgAAwLozHHdCAACAIIYcd0IAAECG2Bx3QgAAAOwqHXdCAADAUX0dd0IAAIC3zx13QgAAQB0iHndCAAAAg3Qed0IAAMDoxh53QgAAgE4ZH3dCAABAtGsfd0IAAAAavh93QgAAwH8QIHdCAACA5WIgd0IAAEBLtSB3QgAAALEHIXdCAADAFlohd0IAAIB8rCF3QgAAQOL+IXdCAAAASFEid0IAAMCtoyJ3QgAAgBP2IndCAABAeUgjd0IAAADfmiN3QgAAwETtI3dCAACAqj8kd0IAAEAQkiR3QgAAAHbkJHdCAADA2zYld0IAAIBBiSV3QgAAQKfbJXdCAAAADS4md0IAAMBygCZ3QgAAgNjSJndCAABAPiUnd0IAAACkdyd3QgAAwAnKJ3dCAACAbxwod0IAAEDVbih3QgAAADvBKHdCAADAoBMpd0IAAIAGZil3QgAAQGy4KXdCAAAA0goqd0IAAMA3XSp3QgAAgJ2vKndCAABAAwIrd0IAAABpVCt3QgAAwM6mK3dCAACANPkrd0IAAECaSyx3QgAAAACeLHdCAADAZfAsd0IAAIDLQi13QgAAQDGVLXdCAAAAl+ctd0IAAMD8OS53QgAAgGKMLndCAABAyN4ud0IAAAAuMS93QgAAwJODL3dCAACA+dUvd0I=\",\"dtype\":\"float64\",\"shape\":[127]},\"y\":[0,3,2,5,4,8,5,18,27,28,41,49,36,133,97,168,196,189,250,175,368,349,345,475,427,627,793,651,601,743,683,662,969,889,756,812,837,727,760,766,681,525,636,604,542,610,570,619,431,566,602,578,525,575,482,433,454,534,437,464,420,415,260,333,382,323,285,269,474,174,195,236,369,274,243,194,165,179,172,195,262,242,153,145,99,162,161,156,130,119,50,92,78,117,70,87,111,75,60,55,71,88,85,72,53,65,79,71,53,56,78,44,26,34,43,66,47,49,24,23,18,-31,34,30,8,22,6]},\"selected\":{\"id\":\"3966\"},\"selection_policy\":{\"id\":\"3965\"}},\"id\":\"3912\",\"type\":\"ColumnDataSource\"},{\"attributes\":{},\"id\":\"4117\",\"type\":\"Selection\"},{\"attributes\":{\"axis_label\":\"Date\",\"formatter\":{\"id\":\"3975\"},\"major_label_orientation\":0.7853981633974483,\"minor_tick_in\":-5,\"minor_tick_out\":-3,\"ticker\":{\"id\":\"3891\"}},\"id\":\"3890\",\"type\":\"DatetimeAxis\"},{\"attributes\":{},\"id\":\"3888\",\"type\":\"LinearScale\"},{\"attributes\":{\"data_source\":{\"id\":\"3942\"},\"glyph\":{\"id\":\"3943\"},\"hover_glyph\":null,\"muted_glyph\":null,\"nonselection_glyph\":{\"id\":\"3944\"},\"selection_glyph\":null,\"view\":{\"id\":\"3946\"}},\"id\":\"3945\",\"type\":\"GlyphRenderer\"},{\"attributes\":{},\"id\":\"3899\",\"type\":\"WheelZoomTool\"},{\"attributes\":{\"base\":60,\"mantissas\":[1,2,5,10,15,20,30],\"max_interval\":1800000.0,\"min_interval\":1000.0,\"num_minor_ticks\":0},\"id\":\"3924\",\"type\":\"AdaptiveTicker\"},{\"attributes\":{},\"id\":\"3898\",\"type\":\"PanTool\"},{\"attributes\":{\"days\":[\"%d %B\"]},\"id\":\"3975\",\"type\":\"DatetimeTickFormatter\"},{\"attributes\":{\"months\":[0,2,4,6,8,10]},\"id\":\"3931\",\"type\":\"MonthsTicker\"},{\"attributes\":{\"bottom_units\":\"screen\",\"fill_alpha\":0.5,\"fill_color\":\"lightgrey\",\"left_units\":\"screen\",\"level\":\"overlay\",\"line_alpha\":1.0,\"line_color\":\"black\",\"line_dash\":[4,4],\"line_width\":2,\"render_mode\":\"css\",\"right_units\":\"screen\",\"top_units\":\"screen\"},\"id\":\"3904\",\"type\":\"BoxAnnotation\"},{\"attributes\":{\"days\":[1,2,3,4,5,6,7,8,9,10,11,12,13,14,15,16,17,18,19,20,21,22,23,24,25,26,27,28,29,30,31]},\"id\":\"3926\",\"type\":\"DaysTicker\"},{\"attributes\":{\"line_color\":\"darkviolet\",\"line_width\":4,\"x\":{\"field\":\"x\"},\"y\":{\"field\":\"y\"}},\"id\":\"3913\",\"type\":\"Line\"},{\"attributes\":{},\"id\":\"4114\",\"type\":\"UnionRenderers\"},{\"attributes\":{\"label\":{\"value\":\"SMA 7 days\"},\"renderers\":[{\"id\":\"3945\"}]},\"id\":\"3969\",\"type\":\"LegendItem\"},{\"attributes\":{\"line_alpha\":0.1,\"line_color\":\"lightblue\",\"line_width\":4,\"x\":{\"field\":\"x\"},\"y\":{\"field\":\"y\"}},\"id\":\"3944\",\"type\":\"Line\"},{\"attributes\":{\"days\":[1,4,7,10,13,16,19,22,25,28]},\"id\":\"3927\",\"type\":\"DaysTicker\"},{\"attributes\":{\"text\":\"New Deaths: Italy\"},\"id\":\"3880\",\"type\":\"Title\"},{\"attributes\":{},\"id\":\"3968\",\"type\":\"Selection\"},{\"attributes\":{\"data_source\":{\"id\":\"3912\"},\"glyph\":{\"id\":\"3913\"},\"hover_glyph\":null,\"muted_glyph\":null,\"nonselection_glyph\":{\"id\":\"3914\"},\"selection_glyph\":null,\"view\":{\"id\":\"3916\"}},\"id\":\"3915\",\"type\":\"GlyphRenderer\"},{\"attributes\":{\"data_source\":{\"id\":\"3970\"},\"glyph\":{\"id\":\"3971\"},\"hover_glyph\":null,\"muted_glyph\":null,\"nonselection_glyph\":{\"id\":\"3972\"},\"selection_glyph\":null,\"view\":{\"id\":\"3974\"}},\"id\":\"3973\",\"type\":\"GlyphRenderer\"},{\"attributes\":{\"source\":{\"id\":\"3912\"}},\"id\":\"3916\",\"type\":\"CDSView\"},{\"attributes\":{\"days\":[1,8,15,22]},\"id\":\"3928\",\"type\":\"DaysTicker\"},{\"attributes\":{\"fill_alpha\":{\"value\":0.1},\"fill_color\":{\"value\":\"white\"},\"line_alpha\":{\"value\":0.1},\"line_color\":{\"value\":\"lightblue\"},\"size\":{\"units\":\"screen\",\"value\":6},\"x\":{\"field\":\"x\"},\"y\":{\"field\":\"y\"}},\"id\":\"3972\",\"type\":\"Circle\"},{\"attributes\":{\"months\":[0,1,2,3,4,5,6,7,8,9,10,11]},\"id\":\"3930\",\"type\":\"MonthsTicker\"},{\"attributes\":{},\"id\":\"3966\",\"type\":\"Selection\"},{\"attributes\":{},\"id\":\"3901\",\"type\":\"SaveTool\"},{\"attributes\":{},\"id\":\"3967\",\"type\":\"UnionRenderers\"}],\"root_ids\":[\"3879\"]},\"title\":\"Bokeh Application\",\"version\":\"2.0.2\"}};\n",
       "  var render_items = [{\"docid\":\"753c06cc-a9e1-4f60-a041-bb731569bfc3\",\"root_ids\":[\"3879\"],\"roots\":{\"3879\":\"6d4cf688-c7ea-43ba-9933-dfe34ae9b9aa\"}}];\n",
       "  root.Bokeh.embed.embed_items_notebook(docs_json, render_items);\n",
       "\n",
       "  }\n",
       "  if (root.Bokeh !== undefined) {\n",
       "    embed_document(root);\n",
       "  } else {\n",
       "    var attempts = 0;\n",
       "    var timer = setInterval(function(root) {\n",
       "      if (root.Bokeh !== undefined) {\n",
       "        clearInterval(timer);\n",
       "        embed_document(root);\n",
       "      } else {\n",
       "        attempts++;\n",
       "        if (attempts > 100) {\n",
       "          clearInterval(timer);\n",
       "          console.log(\"Bokeh: ERROR: Unable to run BokehJS code because BokehJS library is missing\");\n",
       "        }\n",
       "      }\n",
       "    }, 10, root)\n",
       "  }\n",
       "})(window);"
      ],
      "application/vnd.bokehjs_exec.v0+json": ""
     },
     "metadata": {
      "application/vnd.bokehjs_exec.v0+json": {
       "id": "3879"
      }
     },
     "output_type": "display_data"
    }
   ],
   "source": [
    "p_new_deaths_SMA_Italy = bokeh_plot_2_lines(x=time_date_new, y=nuovi_deceduti, yy=SMA_new_deaths[0], \n",
    "                  title='New Deaths: Italy', \n",
    "                  file_name=\"new_deaths_SMA_Italy.html\", \n",
    "                  x_label='Date', y_label='New Deaths', \n",
    "                  legend_1='new deaths', legend_2='SMA 7 days',\n",
    "                  x_label_hover='date' , y_label_hover='new deaths OR SMA 7' , \n",
    "                  color_1='darkviolet', color_2='lightblue', y_minmax=None)\n",
    "\n",
    "show(p_new_deaths_SMA_Italy)"
   ]
  },
  {
   "cell_type": "markdown",
   "metadata": {},
   "source": [
    "------------------\n",
    "\n",
    "### New Positive"
   ]
  },
  {
   "cell_type": "code",
   "execution_count": 28,
   "metadata": {},
   "outputs": [
    {
     "data": {
      "text/plain": [
       "0    221\n",
       "1     93\n",
       "2     78\n",
       "3    250\n",
       "4    238\n",
       "Name: nuovi_positivi, dtype: int64"
      ]
     },
     "execution_count": 28,
     "metadata": {},
     "output_type": "execute_result"
    }
   ],
   "source": [
    "nuovi_positivi_italy = df_nazionale['nuovi_positivi']\n",
    "nuovi_positivi_italy.head()"
   ]
  },
  {
   "cell_type": "code",
   "execution_count": 29,
   "metadata": {},
   "outputs": [
    {
     "data": {
      "text/html": [
       "\n",
       "\n",
       "\n",
       "\n",
       "\n",
       "\n",
       "  <div class=\"bk-root\" id=\"ba73399e-b3bd-421d-bd81-e39ca33becff\" data-root-id=\"4575\"></div>\n"
      ]
     },
     "metadata": {},
     "output_type": "display_data"
    },
    {
     "data": {
      "application/javascript": [
       "(function(root) {\n",
       "  function embed_document(root) {\n",
       "    \n",
       "  var docs_json = {\"a4e458fb-e914-44b5-97f4-ae4b9e564c21\":{\"roots\":{\"references\":[{\"attributes\":{\"below\":[{\"id\":\"4586\"}],\"center\":[{\"id\":\"4589\"},{\"id\":\"4593\"},{\"id\":\"4631\"}],\"left\":[{\"id\":\"4590\"}],\"plot_height\":450,\"renderers\":[{\"id\":\"4611\"},{\"id\":\"4636\"}],\"title\":{\"id\":\"4576\"},\"toolbar\":{\"id\":\"4601\"},\"x_range\":{\"id\":\"4578\"},\"x_scale\":{\"id\":\"4582\"},\"y_range\":{\"id\":\"4580\"},\"y_scale\":{\"id\":\"4584\"}},\"id\":\"4575\",\"subtype\":\"Figure\",\"type\":\"Plot\"},{\"attributes\":{},\"id\":\"4595\",\"type\":\"WheelZoomTool\"},{\"attributes\":{},\"id\":\"4798\",\"type\":\"Selection\"},{\"attributes\":{\"overlay\":{\"id\":\"4600\"}},\"id\":\"4596\",\"type\":\"BoxZoomTool\"},{\"attributes\":{},\"id\":\"4578\",\"type\":\"DataRange1d\"},{\"attributes\":{\"label\":{\"value\":\"new positive\"},\"renderers\":[{\"id\":\"4611\"}]},\"id\":\"4632\",\"type\":\"LegendItem\"},{\"attributes\":{},\"id\":\"4630\",\"type\":\"YearsTicker\"},{\"attributes\":{},\"id\":\"4597\",\"type\":\"SaveTool\"},{\"attributes\":{},\"id\":\"4797\",\"type\":\"UnionRenderers\"},{\"attributes\":{},\"id\":\"4598\",\"type\":\"ResetTool\"},{\"attributes\":{\"data_source\":{\"id\":\"4633\"},\"glyph\":{\"id\":\"4634\"},\"hover_glyph\":null,\"muted_glyph\":null,\"nonselection_glyph\":{\"id\":\"4635\"},\"selection_glyph\":null,\"view\":{\"id\":\"4637\"}},\"id\":\"4636\",\"type\":\"GlyphRenderer\"},{\"attributes\":{\"mantissas\":[1,2,5],\"max_interval\":500.0,\"num_minor_ticks\":0},\"id\":\"4619\",\"type\":\"AdaptiveTicker\"},{\"attributes\":{\"data_source\":{\"id\":\"4608\"},\"glyph\":{\"id\":\"4609\"},\"hover_glyph\":null,\"muted_glyph\":null,\"nonselection_glyph\":{\"id\":\"4610\"},\"selection_glyph\":null,\"view\":{\"id\":\"4612\"}},\"id\":\"4611\",\"type\":\"GlyphRenderer\"},{\"attributes\":{},\"id\":\"4599\",\"type\":\"HelpTool\"},{\"attributes\":{\"months\":[0,6]},\"id\":\"4629\",\"type\":\"MonthsTicker\"},{\"attributes\":{\"num_minor_ticks\":5,\"tickers\":[{\"id\":\"4619\"},{\"id\":\"4620\"},{\"id\":\"4621\"},{\"id\":\"4622\"},{\"id\":\"4623\"},{\"id\":\"4624\"},{\"id\":\"4625\"},{\"id\":\"4626\"},{\"id\":\"4627\"},{\"id\":\"4628\"},{\"id\":\"4629\"},{\"id\":\"4630\"}]},\"id\":\"4587\",\"type\":\"DatetimeTicker\"},{\"attributes\":{},\"id\":\"4642\",\"type\":\"NumeralTickFormatter\"},{\"attributes\":{\"axis\":{\"id\":\"4590\"},\"dimension\":1,\"ticker\":null},\"id\":\"4593\",\"type\":\"Grid\"},{\"attributes\":{\"line_color\":\"blue\",\"line_width\":4,\"x\":{\"field\":\"x\"},\"y\":{\"field\":\"y\"}},\"id\":\"4609\",\"type\":\"Line\"},{\"attributes\":{\"base\":24,\"mantissas\":[1,2,4,6,8,12],\"max_interval\":43200000.0,\"min_interval\":3600000.0,\"num_minor_ticks\":0},\"id\":\"4621\",\"type\":\"AdaptiveTicker\"},{\"attributes\":{\"text\":\"New Positive: Italy\"},\"id\":\"4576\",\"type\":\"Title\"},{\"attributes\":{},\"id\":\"4582\",\"type\":\"LinearScale\"},{\"attributes\":{\"base\":60,\"mantissas\":[1,2,5,10,15,20,30],\"max_interval\":1800000.0,\"min_interval\":1000.0,\"num_minor_ticks\":0},\"id\":\"4620\",\"type\":\"AdaptiveTicker\"},{\"attributes\":{\"line_alpha\":0.1,\"line_color\":\"blue\",\"line_width\":4,\"x\":{\"field\":\"x\"},\"y\":{\"field\":\"y\"}},\"id\":\"4610\",\"type\":\"Line\"},{\"attributes\":{\"axis_label\":\"Date\",\"formatter\":{\"id\":\"4638\"},\"major_label_orientation\":0.7853981633974483,\"minor_tick_in\":-5,\"minor_tick_out\":-3,\"ticker\":{\"id\":\"4587\"}},\"id\":\"4586\",\"type\":\"DatetimeAxis\"},{\"attributes\":{\"days\":[\"%d %B\"]},\"id\":\"4638\",\"type\":\"DatetimeTickFormatter\"},{\"attributes\":{\"data\":{\"x\":{\"__ndarray__\":\"AAAA5UcHd0IAAMBKmgd3QgAAgLDsB3dCAABAFj8Id0IAAAB8kQh3QgAAwOHjCHdCAACARzYJd0IAAECtiAl3QgAAABPbCXdCAADAeC0Kd0IAAIDefwp3QgAAQETSCndCAAAAqiQLd0IAAMAPdwt3QgAAgHXJC3dCAABA2xsMd0IAAABBbgx3QgAAwKbADHdCAACADBMNd0IAAEByZQ13QgAAANi3DXdCAADAPQoOd0IAAICjXA53QgAAQAmvDndCAAAAbwEPd0IAAMDUUw93QgAAgDqmD3dCAABAoPgPd0IAAAAGSxB3QgAAwGudEHdCAACA0e8Qd0IAAEA3QhF3QgAAAJ2UEXdCAADAAucRd0IAAIBoORJ3QgAAQM6LEndCAAAANN4Sd0IAAMCZMBN3QgAAgP+CE3dCAABAZdUTd0IAAADLJxR3QgAAwDB6FHdCAACAlswUd0IAAED8HhV3QgAAAGJxFXdCAADAx8MVd0IAAIAtFhZ3QgAAQJNoFndCAAAA+boWd0IAAMBeDRd3QgAAgMRfF3dCAABAKrIXd0IAAACQBBh3QgAAwPVWGHdCAACAW6kYd0IAAEDB+xh3QgAAACdOGXdCAADAjKAZd0IAAIDy8hl3QgAAQFhFGndCAAAAvpcad0IAAMAj6hp3QgAAgIk8G3dCAABA744bd0IAAABV4Rt3QgAAwLozHHdCAACAIIYcd0IAAECG2Bx3QgAAAOwqHXdCAADAUX0dd0IAAIC3zx13QgAAQB0iHndCAAAAg3Qed0IAAMDoxh53QgAAgE4ZH3dCAABAtGsfd0IAAAAavh93QgAAwH8QIHdCAACA5WIgd0IAAEBLtSB3QgAAALEHIXdCAADAFlohd0IAAIB8rCF3QgAAQOL+IXdCAAAASFEid0IAAMCtoyJ3QgAAgBP2IndCAABAeUgjd0IAAADfmiN3QgAAwETtI3dCAACAqj8kd0IAAEAQkiR3QgAAAHbkJHdCAADA2zYld0IAAIBBiSV3QgAAQKfbJXdCAAAADS4md0IAAMBygCZ3QgAAgNjSJndCAABAPiUnd0IAAACkdyd3QgAAwAnKJ3dCAACAbxwod0IAAEDVbih3QgAAADvBKHdCAADAoBMpd0IAAIAGZil3QgAAQGy4KXdCAAAA0goqd0IAAMA3XSp3QgAAgJ2vKndCAABAAwIrd0IAAABpVCt3QgAAwM6mK3dCAACANPkrd0IAAECaSyx3QgAAAACeLHdCAADAZfAsd0IAAIDLQi13QgAAQDGVLXdCAAAAl+ctd0IAAMD8OS53QgAAgGKMLndCAABAyN4ud0IAAAAuMS93QgAAwJODL3dCAACA+dUvd0I=\",\"dtype\":\"float64\",\"shape\":[127]},\"y\":[221,93,78,250,238,240,566,342,466,587,769,778,1247,1492,1797,977,2313,2651,2547,3497,3590,3233,3526,4207,5322,5986,6557,5560,4789,5249,5210,6153,5959,5974,5217,4050,4053,4782,4668,4585,4805,4316,3599,3039,3836,4204,3951,4694,4092,3153,2972,2667,3786,3493,3491,3047,2256,2729,3370,2646,3021,2357,2324,1739,2091,2086,1872,1965,1900,1389,1221,1075,1444,1401,1327,1083,802,744,1402,888,992,789,875,675,451,813,665,642,652,669,531,300,397,584,593,516,416,355,178,318,321,177,518,270,197,280,283,202,379,163,346,338,303,210,329,333,251,262,224,218,122,190,296,259,175,174,126]},\"selected\":{\"id\":\"4800\"},\"selection_policy\":{\"id\":\"4799\"}},\"id\":\"4633\",\"type\":\"ColumnDataSource\"},{\"attributes\":{},\"id\":\"4584\",\"type\":\"LinearScale\"},{\"attributes\":{\"fill_color\":{\"value\":\"white\"},\"line_color\":{\"value\":\"blue\"},\"size\":{\"units\":\"screen\",\"value\":6},\"x\":{\"field\":\"x\"},\"y\":{\"field\":\"y\"}},\"id\":\"4634\",\"type\":\"Circle\"},{\"attributes\":{\"days\":[1,2,3,4,5,6,7,8,9,10,11,12,13,14,15,16,17,18,19,20,21,22,23,24,25,26,27,28,29,30,31]},\"id\":\"4622\",\"type\":\"DaysTicker\"},{\"attributes\":{},\"id\":\"4799\",\"type\":\"UnionRenderers\"},{\"attributes\":{\"active_drag\":\"auto\",\"active_inspect\":\"auto\",\"active_multi\":null,\"active_scroll\":\"auto\",\"active_tap\":\"auto\",\"tools\":[{\"id\":\"4594\"},{\"id\":\"4595\"},{\"id\":\"4596\"},{\"id\":\"4597\"},{\"id\":\"4598\"},{\"id\":\"4599\"},{\"id\":\"4643\"}]},\"id\":\"4601\",\"type\":\"Toolbar\"},{\"attributes\":{\"source\":{\"id\":\"4633\"}},\"id\":\"4637\",\"type\":\"CDSView\"},{\"attributes\":{\"days\":[1,4,7,10,13,16,19,22,25,28]},\"id\":\"4623\",\"type\":\"DaysTicker\"},{\"attributes\":{\"fill_alpha\":{\"value\":0.1},\"fill_color\":{\"value\":\"white\"},\"line_alpha\":{\"value\":0.1},\"line_color\":{\"value\":\"blue\"},\"size\":{\"units\":\"screen\",\"value\":6},\"x\":{\"field\":\"x\"},\"y\":{\"field\":\"y\"}},\"id\":\"4635\",\"type\":\"Circle\"},{\"attributes\":{},\"id\":\"4591\",\"type\":\"BasicTicker\"},{\"attributes\":{\"months\":[0,4,8]},\"id\":\"4628\",\"type\":\"MonthsTicker\"},{\"attributes\":{\"days\":[1,8,15,22]},\"id\":\"4624\",\"type\":\"DaysTicker\"},{\"attributes\":{},\"id\":\"4800\",\"type\":\"Selection\"},{\"attributes\":{\"axis\":{\"id\":\"4586\"},\"ticker\":null},\"id\":\"4589\",\"type\":\"Grid\"},{\"attributes\":{\"days\":[1,15]},\"id\":\"4625\",\"type\":\"DaysTicker\"},{\"attributes\":{\"data\":{\"x\":{\"__ndarray__\":\"AAAA5UcHd0IAAMBKmgd3QgAAgLDsB3dCAABAFj8Id0IAAAB8kQh3QgAAwOHjCHdCAACARzYJd0IAAECtiAl3QgAAABPbCXdCAADAeC0Kd0IAAIDefwp3QgAAQETSCndCAAAAqiQLd0IAAMAPdwt3QgAAgHXJC3dCAABA2xsMd0IAAABBbgx3QgAAwKbADHdCAACADBMNd0IAAEByZQ13QgAAANi3DXdCAADAPQoOd0IAAICjXA53QgAAQAmvDndCAAAAbwEPd0IAAMDUUw93QgAAgDqmD3dCAABAoPgPd0IAAAAGSxB3QgAAwGudEHdCAACA0e8Qd0IAAEA3QhF3QgAAAJ2UEXdCAADAAucRd0IAAIBoORJ3QgAAQM6LEndCAAAANN4Sd0IAAMCZMBN3QgAAgP+CE3dCAABAZdUTd0IAAADLJxR3QgAAwDB6FHdCAACAlswUd0IAAED8HhV3QgAAAGJxFXdCAADAx8MVd0IAAIAtFhZ3QgAAQJNoFndCAAAA+boWd0IAAMBeDRd3QgAAgMRfF3dCAABAKrIXd0IAAACQBBh3QgAAwPVWGHdCAACAW6kYd0IAAEDB+xh3QgAAACdOGXdCAADAjKAZd0IAAIDy8hl3QgAAQFhFGndCAAAAvpcad0IAAMAj6hp3QgAAgIk8G3dCAABA744bd0IAAABV4Rt3QgAAwLozHHdCAACAIIYcd0IAAECG2Bx3QgAAAOwqHXdCAADAUX0dd0IAAIC3zx13QgAAQB0iHndCAAAAg3Qed0IAAMDoxh53QgAAgE4ZH3dCAABAtGsfd0IAAAAavh93QgAAwH8QIHdCAACA5WIgd0IAAEBLtSB3QgAAALEHIXdCAADAFlohd0IAAIB8rCF3QgAAQOL+IXdCAAAASFEid0IAAMCtoyJ3QgAAgBP2IndCAABAeUgjd0IAAADfmiN3QgAAwETtI3dCAACAqj8kd0IAAEAQkiR3QgAAAHbkJHdCAADA2zYld0IAAIBBiSV3QgAAQKfbJXdCAAAADS4md0IAAMBygCZ3QgAAgNjSJndCAABAPiUnd0IAAACkdyd3QgAAwAnKJ3dCAACAbxwod0IAAEDVbih3QgAAADvBKHdCAADAoBMpd0IAAIAGZil3QgAAQGy4KXdCAAAA0goqd0IAAMA3XSp3QgAAgJ2vKndCAABAAwIrd0IAAABpVCt3QgAAwM6mK3dCAACANPkrd0IAAECaSyx3QgAAAACeLHdCAADAZfAsd0IAAIDLQi13QgAAQDGVLXdCAAAAl+ctd0IAAMD8OS53QgAAgGKMLndCAABAyN4ud0IAAAAuMS93QgAAwJODL3dCAACA+dUvd0I=\",\"dtype\":\"float64\",\"shape\":[127]},\"y\":[221,93,78,250,238,240,566,342,466,587,769,778,1247,1492,1797,977,2313,2651,2547,3497,3590,3233,3526,4207,5322,5986,6557,5560,4789,5249,5210,6153,5959,5974,5217,4050,4053,4782,4668,4585,4805,4316,3599,3039,3836,4204,3951,4694,4092,3153,2972,2667,3786,3493,3491,3047,2256,2729,3370,2646,3021,2357,2324,1739,2091,2086,1872,1965,1900,1389,1221,1075,1444,1401,1327,1083,802,744,1402,888,992,789,875,675,451,813,665,642,652,669,531,300,397,584,593,516,416,355,178,318,321,177,518,270,197,280,283,202,379,163,346,338,303,210,329,333,251,262,224,218,122,190,296,259,175,174,126]},\"selected\":{\"id\":\"4798\"},\"selection_policy\":{\"id\":\"4797\"}},\"id\":\"4608\",\"type\":\"ColumnDataSource\"},{\"attributes\":{\"months\":[0,1,2,3,4,5,6,7,8,9,10,11]},\"id\":\"4626\",\"type\":\"MonthsTicker\"},{\"attributes\":{\"items\":[{\"id\":\"4632\"}],\"location\":\"top_left\"},\"id\":\"4631\",\"type\":\"Legend\"},{\"attributes\":{\"axis_label\":\"New Positive\",\"formatter\":{\"id\":\"4642\"},\"minor_tick_in\":-5,\"minor_tick_out\":-3,\"ticker\":{\"id\":\"4591\"}},\"id\":\"4590\",\"type\":\"LinearAxis\"},{\"attributes\":{\"callback\":null,\"formatters\":{\"@x\":\"datetime\"},\"mode\":\"vline\",\"tooltips\":[[\"date\",\"@x{%d %B}\"],[\"new positive\",\"@y{0.}\"]]},\"id\":\"4643\",\"type\":\"HoverTool\"},{\"attributes\":{\"bottom_units\":\"screen\",\"fill_alpha\":0.5,\"fill_color\":\"lightgrey\",\"left_units\":\"screen\",\"level\":\"overlay\",\"line_alpha\":1.0,\"line_color\":\"black\",\"line_dash\":[4,4],\"line_width\":2,\"render_mode\":\"css\",\"right_units\":\"screen\",\"top_units\":\"screen\"},\"id\":\"4600\",\"type\":\"BoxAnnotation\"},{\"attributes\":{},\"id\":\"4580\",\"type\":\"DataRange1d\"},{\"attributes\":{},\"id\":\"4594\",\"type\":\"PanTool\"},{\"attributes\":{\"months\":[0,2,4,6,8,10]},\"id\":\"4627\",\"type\":\"MonthsTicker\"},{\"attributes\":{\"source\":{\"id\":\"4608\"}},\"id\":\"4612\",\"type\":\"CDSView\"}],\"root_ids\":[\"4575\"]},\"title\":\"Bokeh Application\",\"version\":\"2.0.2\"}};\n",
       "  var render_items = [{\"docid\":\"a4e458fb-e914-44b5-97f4-ae4b9e564c21\",\"root_ids\":[\"4575\"],\"roots\":{\"4575\":\"ba73399e-b3bd-421d-bd81-e39ca33becff\"}}];\n",
       "  root.Bokeh.embed.embed_items_notebook(docs_json, render_items);\n",
       "\n",
       "  }\n",
       "  if (root.Bokeh !== undefined) {\n",
       "    embed_document(root);\n",
       "  } else {\n",
       "    var attempts = 0;\n",
       "    var timer = setInterval(function(root) {\n",
       "      if (root.Bokeh !== undefined) {\n",
       "        clearInterval(timer);\n",
       "        embed_document(root);\n",
       "      } else {\n",
       "        attempts++;\n",
       "        if (attempts > 100) {\n",
       "          clearInterval(timer);\n",
       "          console.log(\"Bokeh: ERROR: Unable to run BokehJS code because BokehJS library is missing\");\n",
       "        }\n",
       "      }\n",
       "    }, 10, root)\n",
       "  }\n",
       "})(window);"
      ],
      "application/vnd.bokehjs_exec.v0+json": ""
     },
     "metadata": {
      "application/vnd.bokehjs_exec.v0+json": {
       "id": "4575"
      }
     },
     "output_type": "display_data"
    }
   ],
   "source": [
    "p_new_positive_Italy = bokeh_plot_1_line(x=time_date_new, y=nuovi_positivi_italy, \n",
    "                  title='New Positive: Italy', \n",
    "                  file_name=\"new_positive_Italy.html\", \n",
    "                  x_label='Date', \n",
    "                  y_label='New Positive', legend='new positive',\n",
    "                  x_label_hover='date', y_label_hover='new positive',\n",
    "                  color='blue', y_minmax=None)\n",
    "\n",
    "show(p_new_positive_Italy)"
   ]
  },
  {
   "cell_type": "code",
   "execution_count": 30,
   "metadata": {},
   "outputs": [],
   "source": [
    "new_positive_df = pd.DataFrame(nuovi_positivi_italy)\n",
    "\n",
    "SMA_new_positive = new_positive_df[:].rolling(window=7).mean()\n",
    "SMA_new_positive_2 = new_positive_df[:].rolling(window=10).mean()"
   ]
  },
  {
   "cell_type": "code",
   "execution_count": 31,
   "metadata": {},
   "outputs": [
    {
     "data": {
      "text/html": [
       "<div>\n",
       "<style scoped>\n",
       "    .dataframe tbody tr th:only-of-type {\n",
       "        vertical-align: middle;\n",
       "    }\n",
       "\n",
       "    .dataframe tbody tr th {\n",
       "        vertical-align: top;\n",
       "    }\n",
       "\n",
       "    .dataframe thead th {\n",
       "        text-align: right;\n",
       "    }\n",
       "</style>\n",
       "<table border=\"1\" class=\"dataframe\">\n",
       "  <thead>\n",
       "    <tr style=\"text-align: right;\">\n",
       "      <th></th>\n",
       "      <th>nuovi_positivi</th>\n",
       "    </tr>\n",
       "  </thead>\n",
       "  <tbody>\n",
       "    <tr>\n",
       "      <th>0</th>\n",
       "      <td>NaN</td>\n",
       "    </tr>\n",
       "    <tr>\n",
       "      <th>1</th>\n",
       "      <td>NaN</td>\n",
       "    </tr>\n",
       "    <tr>\n",
       "      <th>2</th>\n",
       "      <td>NaN</td>\n",
       "    </tr>\n",
       "    <tr>\n",
       "      <th>3</th>\n",
       "      <td>NaN</td>\n",
       "    </tr>\n",
       "    <tr>\n",
       "      <th>4</th>\n",
       "      <td>NaN</td>\n",
       "    </tr>\n",
       "  </tbody>\n",
       "</table>\n",
       "</div>"
      ],
      "text/plain": [
       "   nuovi_positivi\n",
       "0             NaN\n",
       "1             NaN\n",
       "2             NaN\n",
       "3             NaN\n",
       "4             NaN"
      ]
     },
     "execution_count": 31,
     "metadata": {},
     "output_type": "execute_result"
    }
   ],
   "source": [
    "SMA_new_positive.head()"
   ]
  },
  {
   "cell_type": "code",
   "execution_count": 32,
   "metadata": {},
   "outputs": [
    {
     "data": {
      "text/html": [
       "\n",
       "\n",
       "\n",
       "\n",
       "\n",
       "\n",
       "  <div class=\"bk-root\" id=\"9565d4e2-dc31-4b6a-8500-09b1925dc9e3\" data-root-id=\"5182\"></div>\n"
      ]
     },
     "metadata": {},
     "output_type": "display_data"
    },
    {
     "data": {
      "application/javascript": [
       "(function(root) {\n",
       "  function embed_document(root) {\n",
       "    \n",
       "  var docs_json = {\"09561e50-9374-4e9a-bddd-eef9f097d38d\":{\"roots\":{\"references\":[{\"attributes\":{\"below\":[{\"id\":\"5193\"}],\"center\":[{\"id\":\"5196\"},{\"id\":\"5200\"},{\"id\":\"5238\"}],\"left\":[{\"id\":\"5197\"}],\"plot_height\":450,\"renderers\":[{\"id\":\"5218\"},{\"id\":\"5243\"},{\"id\":\"5248\"},{\"id\":\"5276\"}],\"title\":{\"id\":\"5183\"},\"toolbar\":{\"id\":\"5208\"},\"x_range\":{\"id\":\"5185\"},\"x_scale\":{\"id\":\"5189\"},\"y_range\":{\"id\":\"5187\"},\"y_scale\":{\"id\":\"5191\"}},\"id\":\"5182\",\"subtype\":\"Figure\",\"type\":\"Plot\"},{\"attributes\":{\"base\":60,\"mantissas\":[1,2,5,10,15,20,30],\"max_interval\":1800000.0,\"min_interval\":1000.0,\"num_minor_ticks\":0},\"id\":\"5227\",\"type\":\"AdaptiveTicker\"},{\"attributes\":{\"data_source\":{\"id\":\"5215\"},\"glyph\":{\"id\":\"5216\"},\"hover_glyph\":null,\"muted_glyph\":null,\"nonselection_glyph\":{\"id\":\"5217\"},\"selection_glyph\":null,\"view\":{\"id\":\"5219\"}},\"id\":\"5218\",\"type\":\"GlyphRenderer\"},{\"attributes\":{\"data\":{\"x\":{\"__ndarray__\":\"AAAA5UcHd0IAAMBKmgd3QgAAgLDsB3dCAABAFj8Id0IAAAB8kQh3QgAAwOHjCHdCAACARzYJd0IAAECtiAl3QgAAABPbCXdCAADAeC0Kd0IAAIDefwp3QgAAQETSCndCAAAAqiQLd0IAAMAPdwt3QgAAgHXJC3dCAABA2xsMd0IAAABBbgx3QgAAwKbADHdCAACADBMNd0IAAEByZQ13QgAAANi3DXdCAADAPQoOd0IAAICjXA53QgAAQAmvDndCAAAAbwEPd0IAAMDUUw93QgAAgDqmD3dCAABAoPgPd0IAAAAGSxB3QgAAwGudEHdCAACA0e8Qd0IAAEA3QhF3QgAAAJ2UEXdCAADAAucRd0IAAIBoORJ3QgAAQM6LEndCAAAANN4Sd0IAAMCZMBN3QgAAgP+CE3dCAABAZdUTd0IAAADLJxR3QgAAwDB6FHdCAACAlswUd0IAAED8HhV3QgAAAGJxFXdCAADAx8MVd0IAAIAtFhZ3QgAAQJNoFndCAAAA+boWd0IAAMBeDRd3QgAAgMRfF3dCAABAKrIXd0IAAACQBBh3QgAAwPVWGHdCAACAW6kYd0IAAEDB+xh3QgAAACdOGXdCAADAjKAZd0IAAIDy8hl3QgAAQFhFGndCAAAAvpcad0IAAMAj6hp3QgAAgIk8G3dCAABA744bd0IAAABV4Rt3QgAAwLozHHdCAACAIIYcd0IAAECG2Bx3QgAAAOwqHXdCAADAUX0dd0IAAIC3zx13QgAAQB0iHndCAAAAg3Qed0IAAMDoxh53QgAAgE4ZH3dCAABAtGsfd0IAAAAavh93QgAAwH8QIHdCAACA5WIgd0IAAEBLtSB3QgAAALEHIXdCAADAFlohd0IAAIB8rCF3QgAAQOL+IXdCAAAASFEid0IAAMCtoyJ3QgAAgBP2IndCAABAeUgjd0IAAADfmiN3QgAAwETtI3dCAACAqj8kd0IAAEAQkiR3QgAAAHbkJHdCAADA2zYld0IAAIBBiSV3QgAAQKfbJXdCAAAADS4md0IAAMBygCZ3QgAAgNjSJndCAABAPiUnd0IAAACkdyd3QgAAwAnKJ3dCAACAbxwod0IAAEDVbih3QgAAADvBKHdCAADAoBMpd0IAAIAGZil3QgAAQGy4KXdCAAAA0goqd0IAAMA3XSp3QgAAgJ2vKndCAABAAwIrd0IAAABpVCt3QgAAwM6mK3dCAACANPkrd0IAAECaSyx3QgAAAACeLHdCAADAZfAsd0IAAIDLQi13QgAAQDGVLXdCAAAAl+ctd0IAAMD8OS53QgAAgGKMLndCAABAyN4ud0IAAAAuMS93QgAAwJODL3dCAACA+dUvd0I=\",\"dtype\":\"float64\",\"shape\":[127]},\"y\":{\"__ndarray__\":\"AAAAAAAA+H8AAAAAAAD4fwAAAAAAAPh/AAAAAAAA+H8AAAAAAAD4fwAAAAAAAPh/t23btm0bbkAlSZIkSSJwQG7btm3bdnNAJUmSJEkCeEBJkiRJkqR8QLdt27Ztu4BAJUmSJEk6hUBJkiRJklyJQLdt27Zt249A27Zt27YRkUAAAAAAAOyUQLdt27ZtH5lAJUmSJEkSnUAAAAAAAAyhQLdt27ZtY6NA27Zt27b9pEAAAAAAANanQJIkSZIk86lAJUmSJEnurEC3bdu2bWKwQEmSJEmSF7JAAAAAAAAxs0AlSZIkSQ+0QLdt27ZtBbVA27Zt27aUtUC3bdu2bQu2QEmSJEmSB7ZAJUmSJEm0tUAlSZIkSYO1QNu2bdu2GbVAbtu2bdtutEDbtm3btjG0QEmSJEmSXbNAJUmSJEmZskAlSZIkSfKxQEmSJEmScbFAkiRJkiQxsUAlSZIkSaCwQJIkSZIkGbBA27Zt27atr0BJkiRJkviuQG7btm3b2K5Abtu2bduYrkC3bdu2bRmuQCVJkiRJBq5AJUmSJEm4rEBu27Zt20CsQAAAAAAAvqtAJUmSJElmqkDbtm3btjupQLdt27ZtO6hAAAAAAAD2p0Bu27Zt276oQJIkSZIkeadAJUmSJEnypkAlSZIkSa6lQNu2bdu236RAAAAAAABMpEDbtm3btpWjQG7btm3bJqJA27Zt27ZJoUAAAAAAABygQG7btm3bMp9ASZIkSZIcnUBJkiRJkvSbQAAAAAAAsJlAkiRJkiRBmEAAAAAAADSXQLdt27Ztx5VASZIkSZL0k0CSJEmSJKWSQEmSJEmSlJFAt23btm1PkkDbtm3bthGRQAAAAAAAKJBAkiRJkiTpjUC3bdu2bfuMQCVJkiRJaoxAt23btm0bi0AlSZIkSXqIQLdt27Zte4dAt23btm3rhUBu27Zt206FQLdt27ZtY4RAbtu2bdu+g0AlSZIkSRKDQG7btm3bNoFAJUmSJEnagEAlSZIkSaKAQG7btm3bBoBAt23btm3LfUCSJEmSJDl8QCVJkiRJIntA27Zt27ZtekBJkiRJkhR4QNu2bdu2XXRAJUmSJElidEBJkiRJkhRzQLdt27Ztq3FASZIkSZKUckBJkiRJkkRyQEmSJEmSNHFAJUmSJEkCc0Dbtm3btq1vQEmSJEmShHBAbtu2bdvGcUC3bdu2bftxQEmSJEmSVHFAbtu2bdt2ckDbtm3btg1yQG7btm3b1nJAbtu2bdsWckAlSZIkSRJxQAAAAAAAUHBA27Zt27YNb0AlSZIkSZJsQJIkSZIk6WtA27Zt27YNbEAAAAAAAIBqQLdt27Ztm2lAbtu2bdv2Z0A=\",\"dtype\":\"float64\",\"shape\":[127]}},\"selected\":{\"id\":\"5462\"},\"selection_policy\":{\"id\":\"5461\"}},\"id\":\"5245\",\"type\":\"ColumnDataSource\"},{\"attributes\":{\"days\":[1,15]},\"id\":\"5232\",\"type\":\"DaysTicker\"},{\"attributes\":{\"source\":{\"id\":\"5245\"}},\"id\":\"5249\",\"type\":\"CDSView\"},{\"attributes\":{\"days\":[1,8,15,22]},\"id\":\"5231\",\"type\":\"DaysTicker\"},{\"attributes\":{\"active_drag\":\"auto\",\"active_inspect\":\"auto\",\"active_multi\":null,\"active_scroll\":\"auto\",\"active_tap\":\"auto\",\"tools\":[{\"id\":\"5201\"},{\"id\":\"5202\"},{\"id\":\"5203\"},{\"id\":\"5204\"},{\"id\":\"5205\"},{\"id\":\"5206\"},{\"id\":\"5283\"}]},\"id\":\"5208\",\"type\":\"Toolbar\"},{\"attributes\":{\"data_source\":{\"id\":\"5245\"},\"glyph\":{\"id\":\"5246\"},\"hover_glyph\":null,\"muted_glyph\":null,\"nonselection_glyph\":{\"id\":\"5247\"},\"selection_glyph\":null,\"view\":{\"id\":\"5249\"}},\"id\":\"5248\",\"type\":\"GlyphRenderer\"},{\"attributes\":{\"months\":[0,4,8]},\"id\":\"5235\",\"type\":\"MonthsTicker\"},{\"attributes\":{\"line_color\":\"lightcoral\",\"line_width\":4,\"x\":{\"field\":\"x\"},\"y\":{\"field\":\"y\"}},\"id\":\"5246\",\"type\":\"Line\"},{\"attributes\":{\"line_alpha\":0.1,\"line_color\":\"lightcoral\",\"line_width\":4,\"x\":{\"field\":\"x\"},\"y\":{\"field\":\"y\"}},\"id\":\"5247\",\"type\":\"Line\"},{\"attributes\":{\"bottom_units\":\"screen\",\"fill_alpha\":0.5,\"fill_color\":\"lightgrey\",\"left_units\":\"screen\",\"level\":\"overlay\",\"line_alpha\":1.0,\"line_color\":\"black\",\"line_dash\":[4,4],\"line_width\":2,\"render_mode\":\"css\",\"right_units\":\"screen\",\"top_units\":\"screen\"},\"id\":\"5207\",\"type\":\"BoxAnnotation\"},{\"attributes\":{\"text\":\"New Positive: Italy\"},\"id\":\"5183\",\"type\":\"Title\"},{\"attributes\":{},\"id\":\"5201\",\"type\":\"PanTool\"},{\"attributes\":{},\"id\":\"5464\",\"type\":\"Selection\"},{\"attributes\":{},\"id\":\"5202\",\"type\":\"WheelZoomTool\"},{\"attributes\":{},\"id\":\"5282\",\"type\":\"NumeralTickFormatter\"},{\"attributes\":{\"data_source\":{\"id\":\"5240\"},\"glyph\":{\"id\":\"5241\"},\"hover_glyph\":null,\"muted_glyph\":null,\"nonselection_glyph\":{\"id\":\"5242\"},\"selection_glyph\":null,\"view\":{\"id\":\"5244\"}},\"id\":\"5243\",\"type\":\"GlyphRenderer\"},{\"attributes\":{},\"id\":\"5185\",\"type\":\"DataRange1d\"},{\"attributes\":{\"overlay\":{\"id\":\"5207\"}},\"id\":\"5203\",\"type\":\"BoxZoomTool\"},{\"attributes\":{},\"id\":\"5189\",\"type\":\"LinearScale\"},{\"attributes\":{},\"id\":\"5204\",\"type\":\"SaveTool\"},{\"attributes\":{\"months\":[0,6]},\"id\":\"5236\",\"type\":\"MonthsTicker\"},{\"attributes\":{},\"id\":\"5205\",\"type\":\"ResetTool\"},{\"attributes\":{},\"id\":\"5237\",\"type\":\"YearsTicker\"},{\"attributes\":{},\"id\":\"5187\",\"type\":\"DataRange1d\"},{\"attributes\":{\"source\":{\"id\":\"5215\"}},\"id\":\"5219\",\"type\":\"CDSView\"},{\"attributes\":{},\"id\":\"5268\",\"type\":\"UnionRenderers\"},{\"attributes\":{},\"id\":\"5191\",\"type\":\"LinearScale\"},{\"attributes\":{},\"id\":\"5206\",\"type\":\"HelpTool\"},{\"attributes\":{\"fill_alpha\":{\"value\":0.1},\"fill_color\":{\"value\":\"white\"},\"line_alpha\":{\"value\":0.1},\"line_color\":{\"value\":\"blue\"},\"size\":{\"units\":\"screen\",\"value\":6},\"x\":{\"field\":\"x\"},\"y\":{\"field\":\"y\"}},\"id\":\"5242\",\"type\":\"Circle\"},{\"attributes\":{\"mantissas\":[1,2,5],\"max_interval\":500.0,\"num_minor_ticks\":0},\"id\":\"5226\",\"type\":\"AdaptiveTicker\"},{\"attributes\":{},\"id\":\"5270\",\"type\":\"UnionRenderers\"},{\"attributes\":{\"axis_label\":\"Date\",\"formatter\":{\"id\":\"5278\"},\"major_label_orientation\":0.7853981633974483,\"minor_tick_in\":-5,\"minor_tick_out\":-3,\"ticker\":{\"id\":\"5194\"}},\"id\":\"5193\",\"type\":\"DatetimeAxis\"},{\"attributes\":{\"days\":[1,4,7,10,13,16,19,22,25,28]},\"id\":\"5230\",\"type\":\"DaysTicker\"},{\"attributes\":{},\"id\":\"5198\",\"type\":\"BasicTicker\"},{\"attributes\":{},\"id\":\"5269\",\"type\":\"Selection\"},{\"attributes\":{\"callback\":null,\"formatters\":{\"@x\":\"datetime\"},\"mode\":\"vline\",\"tooltips\":[[\"date\",\"@x{%d %B}\"],[\"new_positive OR SMA 7\",\"@y{0.}\"]]},\"id\":\"5283\",\"type\":\"HoverTool\"},{\"attributes\":{\"days\":[\"%d %B\"]},\"id\":\"5278\",\"type\":\"DatetimeTickFormatter\"},{\"attributes\":{\"line_color\":\"blue\",\"line_width\":4,\"x\":{\"field\":\"x\"},\"y\":{\"field\":\"y\"}},\"id\":\"5216\",\"type\":\"Line\"},{\"attributes\":{\"num_minor_ticks\":5,\"tickers\":[{\"id\":\"5226\"},{\"id\":\"5227\"},{\"id\":\"5228\"},{\"id\":\"5229\"},{\"id\":\"5230\"},{\"id\":\"5231\"},{\"id\":\"5232\"},{\"id\":\"5233\"},{\"id\":\"5234\"},{\"id\":\"5235\"},{\"id\":\"5236\"},{\"id\":\"5237\"}]},\"id\":\"5194\",\"type\":\"DatetimeTicker\"},{\"attributes\":{\"base\":24,\"mantissas\":[1,2,4,6,8,12],\"max_interval\":43200000.0,\"min_interval\":3600000.0,\"num_minor_ticks\":0},\"id\":\"5228\",\"type\":\"AdaptiveTicker\"},{\"attributes\":{\"source\":{\"id\":\"5240\"}},\"id\":\"5244\",\"type\":\"CDSView\"},{\"attributes\":{},\"id\":\"5271\",\"type\":\"Selection\"},{\"attributes\":{\"axis\":{\"id\":\"5193\"},\"ticker\":null},\"id\":\"5196\",\"type\":\"Grid\"},{\"attributes\":{\"label\":{\"value\":\"SMA 7 days\"},\"renderers\":[{\"id\":\"5248\"}]},\"id\":\"5272\",\"type\":\"LegendItem\"},{\"attributes\":{\"data\":{\"x\":{\"__ndarray__\":\"AAAA5UcHd0IAAMBKmgd3QgAAgLDsB3dCAABAFj8Id0IAAAB8kQh3QgAAwOHjCHdCAACARzYJd0IAAECtiAl3QgAAABPbCXdCAADAeC0Kd0IAAIDefwp3QgAAQETSCndCAAAAqiQLd0IAAMAPdwt3QgAAgHXJC3dCAABA2xsMd0IAAABBbgx3QgAAwKbADHdCAACADBMNd0IAAEByZQ13QgAAANi3DXdCAADAPQoOd0IAAICjXA53QgAAQAmvDndCAAAAbwEPd0IAAMDUUw93QgAAgDqmD3dCAABAoPgPd0IAAAAGSxB3QgAAwGudEHdCAACA0e8Qd0IAAEA3QhF3QgAAAJ2UEXdCAADAAucRd0IAAIBoORJ3QgAAQM6LEndCAAAANN4Sd0IAAMCZMBN3QgAAgP+CE3dCAABAZdUTd0IAAADLJxR3QgAAwDB6FHdCAACAlswUd0IAAED8HhV3QgAAAGJxFXdCAADAx8MVd0IAAIAtFhZ3QgAAQJNoFndCAAAA+boWd0IAAMBeDRd3QgAAgMRfF3dCAABAKrIXd0IAAACQBBh3QgAAwPVWGHdCAACAW6kYd0IAAEDB+xh3QgAAACdOGXdCAADAjKAZd0IAAIDy8hl3QgAAQFhFGndCAAAAvpcad0IAAMAj6hp3QgAAgIk8G3dCAABA744bd0IAAABV4Rt3QgAAwLozHHdCAACAIIYcd0IAAECG2Bx3QgAAAOwqHXdCAADAUX0dd0IAAIC3zx13QgAAQB0iHndCAAAAg3Qed0IAAMDoxh53QgAAgE4ZH3dCAABAtGsfd0IAAAAavh93QgAAwH8QIHdCAACA5WIgd0IAAEBLtSB3QgAAALEHIXdCAADAFlohd0IAAIB8rCF3QgAAQOL+IXdCAAAASFEid0IAAMCtoyJ3QgAAgBP2IndCAABAeUgjd0IAAADfmiN3QgAAwETtI3dCAACAqj8kd0IAAEAQkiR3QgAAAHbkJHdCAADA2zYld0IAAIBBiSV3QgAAQKfbJXdCAAAADS4md0IAAMBygCZ3QgAAgNjSJndCAABAPiUnd0IAAACkdyd3QgAAwAnKJ3dCAACAbxwod0IAAEDVbih3QgAAADvBKHdCAADAoBMpd0IAAIAGZil3QgAAQGy4KXdCAAAA0goqd0IAAMA3XSp3QgAAgJ2vKndCAABAAwIrd0IAAABpVCt3QgAAwM6mK3dCAACANPkrd0IAAECaSyx3QgAAAACeLHdCAADAZfAsd0IAAIDLQi13QgAAQDGVLXdCAAAAl+ctd0IAAMD8OS53QgAAgGKMLndCAABAyN4ud0IAAAAuMS93QgAAwJODL3dCAACA+dUvd0I=\",\"dtype\":\"float64\",\"shape\":[127]},\"y\":[221,93,78,250,238,240,566,342,466,587,769,778,1247,1492,1797,977,2313,2651,2547,3497,3590,3233,3526,4207,5322,5986,6557,5560,4789,5249,5210,6153,5959,5974,5217,4050,4053,4782,4668,4585,4805,4316,3599,3039,3836,4204,3951,4694,4092,3153,2972,2667,3786,3493,3491,3047,2256,2729,3370,2646,3021,2357,2324,1739,2091,2086,1872,1965,1900,1389,1221,1075,1444,1401,1327,1083,802,744,1402,888,992,789,875,675,451,813,665,642,652,669,531,300,397,584,593,516,416,355,178,318,321,177,518,270,197,280,283,202,379,163,346,338,303,210,329,333,251,262,224,218,122,190,296,259,175,174,126]},\"selected\":{\"id\":\"5271\"},\"selection_policy\":{\"id\":\"5270\"}},\"id\":\"5240\",\"type\":\"ColumnDataSource\"},{\"attributes\":{\"months\":[0,1,2,3,4,5,6,7,8,9,10,11]},\"id\":\"5233\",\"type\":\"MonthsTicker\"},{\"attributes\":{\"fill_color\":{\"value\":\"white\"},\"line_color\":{\"value\":\"lightcoral\"},\"size\":{\"units\":\"screen\",\"value\":6},\"x\":{\"field\":\"x\"},\"y\":{\"field\":\"y\"}},\"id\":\"5274\",\"type\":\"Circle\"},{\"attributes\":{},\"id\":\"5462\",\"type\":\"Selection\"},{\"attributes\":{\"axis\":{\"id\":\"5197\"},\"dimension\":1,\"ticker\":null},\"id\":\"5200\",\"type\":\"Grid\"},{\"attributes\":{\"label\":{\"value\":\"new positive\"},\"renderers\":[{\"id\":\"5218\"}]},\"id\":\"5239\",\"type\":\"LegendItem\"},{\"attributes\":{\"source\":{\"id\":\"5273\"}},\"id\":\"5277\",\"type\":\"CDSView\"},{\"attributes\":{\"axis_label\":\"New Positive\",\"formatter\":{\"id\":\"5282\"},\"minor_tick_in\":-5,\"minor_tick_out\":-3,\"ticker\":{\"id\":\"5198\"}},\"id\":\"5197\",\"type\":\"LinearAxis\"},{\"attributes\":{\"fill_alpha\":{\"value\":0.1},\"fill_color\":{\"value\":\"white\"},\"line_alpha\":{\"value\":0.1},\"line_color\":{\"value\":\"lightcoral\"},\"size\":{\"units\":\"screen\",\"value\":6},\"x\":{\"field\":\"x\"},\"y\":{\"field\":\"y\"}},\"id\":\"5275\",\"type\":\"Circle\"},{\"attributes\":{\"months\":[0,2,4,6,8,10]},\"id\":\"5234\",\"type\":\"MonthsTicker\"},{\"attributes\":{},\"id\":\"5463\",\"type\":\"UnionRenderers\"},{\"attributes\":{\"items\":[{\"id\":\"5239\"},{\"id\":\"5272\"}],\"location\":\"top_left\"},\"id\":\"5238\",\"type\":\"Legend\"},{\"attributes\":{\"data\":{\"x\":{\"__ndarray__\":\"AAAA5UcHd0IAAMBKmgd3QgAAgLDsB3dCAABAFj8Id0IAAAB8kQh3QgAAwOHjCHdCAACARzYJd0IAAECtiAl3QgAAABPbCXdCAADAeC0Kd0IAAIDefwp3QgAAQETSCndCAAAAqiQLd0IAAMAPdwt3QgAAgHXJC3dCAABA2xsMd0IAAABBbgx3QgAAwKbADHdCAACADBMNd0IAAEByZQ13QgAAANi3DXdCAADAPQoOd0IAAICjXA53QgAAQAmvDndCAAAAbwEPd0IAAMDUUw93QgAAgDqmD3dCAABAoPgPd0IAAAAGSxB3QgAAwGudEHdCAACA0e8Qd0IAAEA3QhF3QgAAAJ2UEXdCAADAAucRd0IAAIBoORJ3QgAAQM6LEndCAAAANN4Sd0IAAMCZMBN3QgAAgP+CE3dCAABAZdUTd0IAAADLJxR3QgAAwDB6FHdCAACAlswUd0IAAED8HhV3QgAAAGJxFXdCAADAx8MVd0IAAIAtFhZ3QgAAQJNoFndCAAAA+boWd0IAAMBeDRd3QgAAgMRfF3dCAABAKrIXd0IAAACQBBh3QgAAwPVWGHdCAACAW6kYd0IAAEDB+xh3QgAAACdOGXdCAADAjKAZd0IAAIDy8hl3QgAAQFhFGndCAAAAvpcad0IAAMAj6hp3QgAAgIk8G3dCAABA744bd0IAAABV4Rt3QgAAwLozHHdCAACAIIYcd0IAAECG2Bx3QgAAAOwqHXdCAADAUX0dd0IAAIC3zx13QgAAQB0iHndCAAAAg3Qed0IAAMDoxh53QgAAgE4ZH3dCAABAtGsfd0IAAAAavh93QgAAwH8QIHdCAACA5WIgd0IAAEBLtSB3QgAAALEHIXdCAADAFlohd0IAAIB8rCF3QgAAQOL+IXdCAAAASFEid0IAAMCtoyJ3QgAAgBP2IndCAABAeUgjd0IAAADfmiN3QgAAwETtI3dCAACAqj8kd0IAAEAQkiR3QgAAAHbkJHdCAADA2zYld0IAAIBBiSV3QgAAQKfbJXdCAAAADS4md0IAAMBygCZ3QgAAgNjSJndCAABAPiUnd0IAAACkdyd3QgAAwAnKJ3dCAACAbxwod0IAAEDVbih3QgAAADvBKHdCAADAoBMpd0IAAIAGZil3QgAAQGy4KXdCAAAA0goqd0IAAMA3XSp3QgAAgJ2vKndCAABAAwIrd0IAAABpVCt3QgAAwM6mK3dCAACANPkrd0IAAECaSyx3QgAAAACeLHdCAADAZfAsd0IAAIDLQi13QgAAQDGVLXdCAAAAl+ctd0IAAMD8OS53QgAAgGKMLndCAABAyN4ud0IAAAAuMS93QgAAwJODL3dCAACA+dUvd0I=\",\"dtype\":\"float64\",\"shape\":[127]},\"y\":{\"__ndarray__\":\"AAAAAAAA+H8AAAAAAAD4fwAAAAAAAPh/AAAAAAAA+H8AAAAAAAD4fwAAAAAAAPh/t23btm0bbkAlSZIkSSJwQG7btm3bdnNAJUmSJEkCeEBJkiRJkqR8QLdt27Ztu4BAJUmSJEk6hUBJkiRJklyJQLdt27Zt249A27Zt27YRkUAAAAAAAOyUQLdt27ZtH5lAJUmSJEkSnUAAAAAAAAyhQLdt27ZtY6NA27Zt27b9pEAAAAAAANanQJIkSZIk86lAJUmSJEnurEC3bdu2bWKwQEmSJEmSF7JAAAAAAAAxs0AlSZIkSQ+0QLdt27ZtBbVA27Zt27aUtUC3bdu2bQu2QEmSJEmSB7ZAJUmSJEm0tUAlSZIkSYO1QNu2bdu2GbVAbtu2bdtutEDbtm3btjG0QEmSJEmSXbNAJUmSJEmZskAlSZIkSfKxQEmSJEmScbFAkiRJkiQxsUAlSZIkSaCwQJIkSZIkGbBA27Zt27atr0BJkiRJkviuQG7btm3b2K5Abtu2bduYrkC3bdu2bRmuQCVJkiRJBq5AJUmSJEm4rEBu27Zt20CsQAAAAAAAvqtAJUmSJElmqkDbtm3btjupQLdt27ZtO6hAAAAAAAD2p0Bu27Zt276oQJIkSZIkeadAJUmSJEnypkAlSZIkSa6lQNu2bdu236RAAAAAAABMpEDbtm3btpWjQG7btm3bJqJA27Zt27ZJoUAAAAAAABygQG7btm3bMp9ASZIkSZIcnUBJkiRJkvSbQAAAAAAAsJlAkiRJkiRBmEAAAAAAADSXQLdt27Ztx5VASZIkSZL0k0CSJEmSJKWSQEmSJEmSlJFAt23btm1PkkDbtm3bthGRQAAAAAAAKJBAkiRJkiTpjUC3bdu2bfuMQCVJkiRJaoxAt23btm0bi0AlSZIkSXqIQLdt27Zte4dAt23btm3rhUBu27Zt206FQLdt27ZtY4RAbtu2bdu+g0AlSZIkSRKDQG7btm3bNoFAJUmSJEnagEAlSZIkSaKAQG7btm3bBoBAt23btm3LfUCSJEmSJDl8QCVJkiRJIntA27Zt27ZtekBJkiRJkhR4QNu2bdu2XXRAJUmSJElidEBJkiRJkhRzQLdt27Ztq3FASZIkSZKUckBJkiRJkkRyQEmSJEmSNHFAJUmSJEkCc0Dbtm3btq1vQEmSJEmShHBAbtu2bdvGcUC3bdu2bftxQEmSJEmSVHFAbtu2bdt2ckDbtm3btg1yQG7btm3b1nJAbtu2bdsWckAlSZIkSRJxQAAAAAAAUHBA27Zt27YNb0AlSZIkSZJsQJIkSZIk6WtA27Zt27YNbEAAAAAAAIBqQLdt27Ztm2lAbtu2bdv2Z0A=\",\"dtype\":\"float64\",\"shape\":[127]}},\"selected\":{\"id\":\"5464\"},\"selection_policy\":{\"id\":\"5463\"}},\"id\":\"5273\",\"type\":\"ColumnDataSource\"},{\"attributes\":{},\"id\":\"5461\",\"type\":\"UnionRenderers\"},{\"attributes\":{\"data\":{\"x\":{\"__ndarray__\":\"AAAA5UcHd0IAAMBKmgd3QgAAgLDsB3dCAABAFj8Id0IAAAB8kQh3QgAAwOHjCHdCAACARzYJd0IAAECtiAl3QgAAABPbCXdCAADAeC0Kd0IAAIDefwp3QgAAQETSCndCAAAAqiQLd0IAAMAPdwt3QgAAgHXJC3dCAABA2xsMd0IAAABBbgx3QgAAwKbADHdCAACADBMNd0IAAEByZQ13QgAAANi3DXdCAADAPQoOd0IAAICjXA53QgAAQAmvDndCAAAAbwEPd0IAAMDUUw93QgAAgDqmD3dCAABAoPgPd0IAAAAGSxB3QgAAwGudEHdCAACA0e8Qd0IAAEA3QhF3QgAAAJ2UEXdCAADAAucRd0IAAIBoORJ3QgAAQM6LEndCAAAANN4Sd0IAAMCZMBN3QgAAgP+CE3dCAABAZdUTd0IAAADLJxR3QgAAwDB6FHdCAACAlswUd0IAAED8HhV3QgAAAGJxFXdCAADAx8MVd0IAAIAtFhZ3QgAAQJNoFndCAAAA+boWd0IAAMBeDRd3QgAAgMRfF3dCAABAKrIXd0IAAACQBBh3QgAAwPVWGHdCAACAW6kYd0IAAEDB+xh3QgAAACdOGXdCAADAjKAZd0IAAIDy8hl3QgAAQFhFGndCAAAAvpcad0IAAMAj6hp3QgAAgIk8G3dCAABA744bd0IAAABV4Rt3QgAAwLozHHdCAACAIIYcd0IAAECG2Bx3QgAAAOwqHXdCAADAUX0dd0IAAIC3zx13QgAAQB0iHndCAAAAg3Qed0IAAMDoxh53QgAAgE4ZH3dCAABAtGsfd0IAAAAavh93QgAAwH8QIHdCAACA5WIgd0IAAEBLtSB3QgAAALEHIXdCAADAFlohd0IAAIB8rCF3QgAAQOL+IXdCAAAASFEid0IAAMCtoyJ3QgAAgBP2IndCAABAeUgjd0IAAADfmiN3QgAAwETtI3dCAACAqj8kd0IAAEAQkiR3QgAAAHbkJHdCAADA2zYld0IAAIBBiSV3QgAAQKfbJXdCAAAADS4md0IAAMBygCZ3QgAAgNjSJndCAABAPiUnd0IAAACkdyd3QgAAwAnKJ3dCAACAbxwod0IAAEDVbih3QgAAADvBKHdCAADAoBMpd0IAAIAGZil3QgAAQGy4KXdCAAAA0goqd0IAAMA3XSp3QgAAgJ2vKndCAABAAwIrd0IAAABpVCt3QgAAwM6mK3dCAACANPkrd0IAAECaSyx3QgAAAACeLHdCAADAZfAsd0IAAIDLQi13QgAAQDGVLXdCAAAAl+ctd0IAAMD8OS53QgAAgGKMLndCAABAyN4ud0IAAAAuMS93QgAAwJODL3dCAACA+dUvd0I=\",\"dtype\":\"float64\",\"shape\":[127]},\"y\":[221,93,78,250,238,240,566,342,466,587,769,778,1247,1492,1797,977,2313,2651,2547,3497,3590,3233,3526,4207,5322,5986,6557,5560,4789,5249,5210,6153,5959,5974,5217,4050,4053,4782,4668,4585,4805,4316,3599,3039,3836,4204,3951,4694,4092,3153,2972,2667,3786,3493,3491,3047,2256,2729,3370,2646,3021,2357,2324,1739,2091,2086,1872,1965,1900,1389,1221,1075,1444,1401,1327,1083,802,744,1402,888,992,789,875,675,451,813,665,642,652,669,531,300,397,584,593,516,416,355,178,318,321,177,518,270,197,280,283,202,379,163,346,338,303,210,329,333,251,262,224,218,122,190,296,259,175,174,126]},\"selected\":{\"id\":\"5269\"},\"selection_policy\":{\"id\":\"5268\"}},\"id\":\"5215\",\"type\":\"ColumnDataSource\"},{\"attributes\":{\"fill_color\":{\"value\":\"white\"},\"line_color\":{\"value\":\"blue\"},\"size\":{\"units\":\"screen\",\"value\":6},\"x\":{\"field\":\"x\"},\"y\":{\"field\":\"y\"}},\"id\":\"5241\",\"type\":\"Circle\"},{\"attributes\":{\"days\":[1,2,3,4,5,6,7,8,9,10,11,12,13,14,15,16,17,18,19,20,21,22,23,24,25,26,27,28,29,30,31]},\"id\":\"5229\",\"type\":\"DaysTicker\"},{\"attributes\":{\"data_source\":{\"id\":\"5273\"},\"glyph\":{\"id\":\"5274\"},\"hover_glyph\":null,\"muted_glyph\":null,\"nonselection_glyph\":{\"id\":\"5275\"},\"selection_glyph\":null,\"view\":{\"id\":\"5277\"}},\"id\":\"5276\",\"type\":\"GlyphRenderer\"},{\"attributes\":{\"line_alpha\":0.1,\"line_color\":\"blue\",\"line_width\":4,\"x\":{\"field\":\"x\"},\"y\":{\"field\":\"y\"}},\"id\":\"5217\",\"type\":\"Line\"}],\"root_ids\":[\"5182\"]},\"title\":\"Bokeh Application\",\"version\":\"2.0.2\"}};\n",
       "  var render_items = [{\"docid\":\"09561e50-9374-4e9a-bddd-eef9f097d38d\",\"root_ids\":[\"5182\"],\"roots\":{\"5182\":\"9565d4e2-dc31-4b6a-8500-09b1925dc9e3\"}}];\n",
       "  root.Bokeh.embed.embed_items_notebook(docs_json, render_items);\n",
       "\n",
       "  }\n",
       "  if (root.Bokeh !== undefined) {\n",
       "    embed_document(root);\n",
       "  } else {\n",
       "    var attempts = 0;\n",
       "    var timer = setInterval(function(root) {\n",
       "      if (root.Bokeh !== undefined) {\n",
       "        clearInterval(timer);\n",
       "        embed_document(root);\n",
       "      } else {\n",
       "        attempts++;\n",
       "        if (attempts > 100) {\n",
       "          clearInterval(timer);\n",
       "          console.log(\"Bokeh: ERROR: Unable to run BokehJS code because BokehJS library is missing\");\n",
       "        }\n",
       "      }\n",
       "    }, 10, root)\n",
       "  }\n",
       "})(window);"
      ],
      "application/vnd.bokehjs_exec.v0+json": ""
     },
     "metadata": {
      "application/vnd.bokehjs_exec.v0+json": {
       "id": "5182"
      }
     },
     "output_type": "display_data"
    }
   ],
   "source": [
    "p_new_positive_SMA_Italy = bokeh_plot_2_lines(x=time_date_new, y=nuovi_positivi_italy, yy=SMA_new_positive['nuovi_positivi'], \n",
    "                  title='New Positive: Italy', \n",
    "                  file_name=\"new_positive_SMA_Italy.html\", \n",
    "                  x_label='Date', y_label='New Positive', \n",
    "                  legend_1='new positive', legend_2='SMA 7 days',\n",
    "                  x_label_hover='date' , y_label_hover='new_positive OR SMA 7' , \n",
    "                  color_1='blue', color_2='lightcoral', y_minmax=None)\n",
    "\n",
    "show(p_new_positive_SMA_Italy)"
   ]
  },
  {
   "cell_type": "markdown",
   "metadata": {},
   "source": [
    "------------------------"
   ]
  },
  {
   "cell_type": "code",
   "execution_count": 33,
   "metadata": {},
   "outputs": [],
   "source": [
    "# show(row(p_new_positive_Italy,p_new_deaths_Italy))"
   ]
  },
  {
   "cell_type": "code",
   "execution_count": 34,
   "metadata": {},
   "outputs": [
    {
     "data": {
      "text/html": [
       "\n",
       "\n",
       "\n",
       "\n",
       "\n",
       "\n",
       "  <div class=\"bk-root\" id=\"880fa646-447e-4b3b-b6ed-0101325fcb67\" data-root-id=\"5922\"></div>\n"
      ]
     },
     "metadata": {},
     "output_type": "display_data"
    },
    {
     "data": {
      "application/javascript": [
       "(function(root) {\n",
       "  function embed_document(root) {\n",
       "    \n",
       "  var docs_json = {\"c81d0dd4-141c-4666-a421-f52f55ebeca5\":{\"roots\":{\"references\":[{\"attributes\":{\"below\":[{\"id\":\"5933\"}],\"center\":[{\"id\":\"5936\"},{\"id\":\"5940\"},{\"id\":\"5978\"}],\"left\":[{\"id\":\"5937\"}],\"plot_height\":450,\"renderers\":[{\"id\":\"5958\"},{\"id\":\"5983\"},{\"id\":\"5988\"},{\"id\":\"6016\"}],\"title\":{\"id\":\"5923\"},\"toolbar\":{\"id\":\"5948\"},\"x_range\":{\"id\":\"5925\"},\"x_scale\":{\"id\":\"5929\"},\"y_range\":{\"id\":\"5927\"},\"y_scale\":{\"id\":\"5931\"}},\"id\":\"5922\",\"subtype\":\"Figure\",\"type\":\"Plot\"},{\"attributes\":{\"line_alpha\":0.1,\"line_color\":\"blue\",\"line_width\":4,\"x\":{\"field\":\"x\"},\"y\":{\"field\":\"y\"}},\"id\":\"5987\",\"type\":\"Line\"},{\"attributes\":{\"days\":[1,8,15,22]},\"id\":\"5971\",\"type\":\"DaysTicker\"},{\"attributes\":{\"days\":[1,15]},\"id\":\"5972\",\"type\":\"DaysTicker\"},{\"attributes\":{\"months\":[0,4,8]},\"id\":\"5975\",\"type\":\"MonthsTicker\"},{\"attributes\":{},\"id\":\"5929\",\"type\":\"LinearScale\"},{\"attributes\":{\"days\":[\"%d %B\"]},\"id\":\"6018\",\"type\":\"DatetimeTickFormatter\"},{\"attributes\":{\"label\":{\"value\":\"new positive\"},\"renderers\":[{\"id\":\"5988\"}]},\"id\":\"6012\",\"type\":\"LegendItem\"},{\"attributes\":{\"source\":{\"id\":\"5955\"}},\"id\":\"5959\",\"type\":\"CDSView\"},{\"attributes\":{},\"id\":\"5938\",\"type\":\"BasicTicker\"},{\"attributes\":{\"months\":[0,1,2,3,4,5,6,7,8,9,10,11]},\"id\":\"5973\",\"type\":\"MonthsTicker\"},{\"attributes\":{\"bottom_units\":\"screen\",\"fill_alpha\":0.5,\"fill_color\":\"lightgrey\",\"left_units\":\"screen\",\"level\":\"overlay\",\"line_alpha\":1.0,\"line_color\":\"black\",\"line_dash\":[4,4],\"line_width\":2,\"render_mode\":\"css\",\"right_units\":\"screen\",\"top_units\":\"screen\"},\"id\":\"5947\",\"type\":\"BoxAnnotation\"},{\"attributes\":{},\"id\":\"6228\",\"type\":\"Selection\"},{\"attributes\":{},\"id\":\"5927\",\"type\":\"DataRange1d\"},{\"attributes\":{\"months\":[0,2,4,6,8,10]},\"id\":\"5974\",\"type\":\"MonthsTicker\"},{\"attributes\":{\"data\":{\"x\":{\"__ndarray__\":\"AAAA5UcHd0IAAMBKmgd3QgAAgLDsB3dCAABAFj8Id0IAAAB8kQh3QgAAwOHjCHdCAACARzYJd0IAAECtiAl3QgAAABPbCXdCAADAeC0Kd0IAAIDefwp3QgAAQETSCndCAAAAqiQLd0IAAMAPdwt3QgAAgHXJC3dCAABA2xsMd0IAAABBbgx3QgAAwKbADHdCAACADBMNd0IAAEByZQ13QgAAANi3DXdCAADAPQoOd0IAAICjXA53QgAAQAmvDndCAAAAbwEPd0IAAMDUUw93QgAAgDqmD3dCAABAoPgPd0IAAAAGSxB3QgAAwGudEHdCAACA0e8Qd0IAAEA3QhF3QgAAAJ2UEXdCAADAAucRd0IAAIBoORJ3QgAAQM6LEndCAAAANN4Sd0IAAMCZMBN3QgAAgP+CE3dCAABAZdUTd0IAAADLJxR3QgAAwDB6FHdCAACAlswUd0IAAED8HhV3QgAAAGJxFXdCAADAx8MVd0IAAIAtFhZ3QgAAQJNoFndCAAAA+boWd0IAAMBeDRd3QgAAgMRfF3dCAABAKrIXd0IAAACQBBh3QgAAwPVWGHdCAACAW6kYd0IAAEDB+xh3QgAAACdOGXdCAADAjKAZd0IAAIDy8hl3QgAAQFhFGndCAAAAvpcad0IAAMAj6hp3QgAAgIk8G3dCAABA744bd0IAAABV4Rt3QgAAwLozHHdCAACAIIYcd0IAAECG2Bx3QgAAAOwqHXdCAADAUX0dd0IAAIC3zx13QgAAQB0iHndCAAAAg3Qed0IAAMDoxh53QgAAgE4ZH3dCAABAtGsfd0IAAAAavh93QgAAwH8QIHdCAACA5WIgd0IAAEBLtSB3QgAAALEHIXdCAADAFlohd0IAAIB8rCF3QgAAQOL+IXdCAAAASFEid0IAAMCtoyJ3QgAAgBP2IndCAABAeUgjd0IAAADfmiN3QgAAwETtI3dCAACAqj8kd0IAAEAQkiR3QgAAAHbkJHdCAADA2zYld0IAAIBBiSV3QgAAQKfbJXdCAAAADS4md0IAAMBygCZ3QgAAgNjSJndCAABAPiUnd0IAAACkdyd3QgAAwAnKJ3dCAACAbxwod0IAAEDVbih3QgAAADvBKHdCAADAoBMpd0IAAIAGZil3QgAAQGy4KXdCAAAA0goqd0IAAMA3XSp3QgAAgJ2vKndCAABAAwIrd0IAAABpVCt3QgAAwM6mK3dCAACANPkrd0IAAECaSyx3QgAAAACeLHdCAADAZfAsd0IAAIDLQi13QgAAQDGVLXdCAAAAl+ctd0IAAMD8OS53QgAAgGKMLndCAABAyN4ud0IAAAAuMS93QgAAwJODL3dCAACA+dUvd0I=\",\"dtype\":\"float64\",\"shape\":[127]},\"y\":[221,93,78,250,238,240,566,342,466,587,769,778,1247,1492,1797,977,2313,2651,2547,3497,3590,3233,3526,4207,5322,5986,6557,5560,4789,5249,5210,6153,5959,5974,5217,4050,4053,4782,4668,4585,4805,4316,3599,3039,3836,4204,3951,4694,4092,3153,2972,2667,3786,3493,3491,3047,2256,2729,3370,2646,3021,2357,2324,1739,2091,2086,1872,1965,1900,1389,1221,1075,1444,1401,1327,1083,802,744,1402,888,992,789,875,675,451,813,665,642,652,669,531,300,397,584,593,516,416,355,178,318,321,177,518,270,197,280,283,202,379,163,346,338,303,210,329,333,251,262,224,218,122,190,296,259,175,174,126]},\"selected\":{\"id\":\"6228\"},\"selection_policy\":{\"id\":\"6227\"}},\"id\":\"6013\",\"type\":\"ColumnDataSource\"},{\"attributes\":{\"source\":{\"id\":\"6013\"}},\"id\":\"6017\",\"type\":\"CDSView\"},{\"attributes\":{\"months\":[0,6]},\"id\":\"5976\",\"type\":\"MonthsTicker\"},{\"attributes\":{},\"id\":\"6227\",\"type\":\"UnionRenderers\"},{\"attributes\":{\"data\":{\"x\":{\"__ndarray__\":\"AAAA5UcHd0IAAMBKmgd3QgAAgLDsB3dCAABAFj8Id0IAAAB8kQh3QgAAwOHjCHdCAACARzYJd0IAAECtiAl3QgAAABPbCXdCAADAeC0Kd0IAAIDefwp3QgAAQETSCndCAAAAqiQLd0IAAMAPdwt3QgAAgHXJC3dCAABA2xsMd0IAAABBbgx3QgAAwKbADHdCAACADBMNd0IAAEByZQ13QgAAANi3DXdCAADAPQoOd0IAAICjXA53QgAAQAmvDndCAAAAbwEPd0IAAMDUUw93QgAAgDqmD3dCAABAoPgPd0IAAAAGSxB3QgAAwGudEHdCAACA0e8Qd0IAAEA3QhF3QgAAAJ2UEXdCAADAAucRd0IAAIBoORJ3QgAAQM6LEndCAAAANN4Sd0IAAMCZMBN3QgAAgP+CE3dCAABAZdUTd0IAAADLJxR3QgAAwDB6FHdCAACAlswUd0IAAED8HhV3QgAAAGJxFXdCAADAx8MVd0IAAIAtFhZ3QgAAQJNoFndCAAAA+boWd0IAAMBeDRd3QgAAgMRfF3dCAABAKrIXd0IAAACQBBh3QgAAwPVWGHdCAACAW6kYd0IAAEDB+xh3QgAAACdOGXdCAADAjKAZd0IAAIDy8hl3QgAAQFhFGndCAAAAvpcad0IAAMAj6hp3QgAAgIk8G3dCAABA744bd0IAAABV4Rt3QgAAwLozHHdCAACAIIYcd0IAAECG2Bx3QgAAAOwqHXdCAADAUX0dd0IAAIC3zx13QgAAQB0iHndCAAAAg3Qed0IAAMDoxh53QgAAgE4ZH3dCAABAtGsfd0IAAAAavh93QgAAwH8QIHdCAACA5WIgd0IAAEBLtSB3QgAAALEHIXdCAADAFlohd0IAAIB8rCF3QgAAQOL+IXdCAAAASFEid0IAAMCtoyJ3QgAAgBP2IndCAABAeUgjd0IAAADfmiN3QgAAwETtI3dCAACAqj8kd0IAAEAQkiR3QgAAAHbkJHdCAADA2zYld0IAAIBBiSV3QgAAQKfbJXdCAAAADS4md0IAAMBygCZ3QgAAgNjSJndCAABAPiUnd0IAAACkdyd3QgAAwAnKJ3dCAACAbxwod0IAAEDVbih3QgAAADvBKHdCAADAoBMpd0IAAIAGZil3QgAAQGy4KXdCAAAA0goqd0IAAMA3XSp3QgAAgJ2vKndCAABAAwIrd0IAAABpVCt3QgAAwM6mK3dCAACANPkrd0IAAECaSyx3QgAAAACeLHdCAADAZfAsd0IAAIDLQi13QgAAQDGVLXdCAAAAl+ctd0IAAMD8OS53QgAAgGKMLndCAABAyN4ud0IAAAAuMS93QgAAwJODL3dCAACA+dUvd0I=\",\"dtype\":\"float64\",\"shape\":[127]},\"y\":[0,3,2,5,4,8,5,18,27,28,41,49,36,133,97,168,196,189,250,175,368,349,345,475,427,627,793,651,601,743,683,662,969,889,756,812,837,727,760,766,681,525,636,604,542,610,570,619,431,566,602,578,525,575,482,433,454,534,437,464,420,415,260,333,382,323,285,269,474,174,195,236,369,274,243,194,165,179,172,195,262,242,153,145,99,162,161,156,130,119,50,92,78,117,70,87,111,75,60,55,71,88,85,72,53,65,79,71,53,56,78,44,26,34,43,66,47,49,24,23,18,-31,34,30,8,22,6]},\"selected\":{\"id\":\"6009\"},\"selection_policy\":{\"id\":\"6008\"}},\"id\":\"5955\",\"type\":\"ColumnDataSource\"},{\"attributes\":{},\"id\":\"6225\",\"type\":\"UnionRenderers\"},{\"attributes\":{\"line_color\":\"blue\",\"line_width\":4,\"x\":{\"field\":\"x\"},\"y\":{\"field\":\"y\"}},\"id\":\"5986\",\"type\":\"Line\"},{\"attributes\":{},\"id\":\"6009\",\"type\":\"Selection\"},{\"attributes\":{},\"id\":\"5931\",\"type\":\"LinearScale\"},{\"attributes\":{\"data_source\":{\"id\":\"5980\"},\"glyph\":{\"id\":\"5981\"},\"hover_glyph\":null,\"muted_glyph\":null,\"nonselection_glyph\":{\"id\":\"5982\"},\"selection_glyph\":null,\"view\":{\"id\":\"5984\"}},\"id\":\"5983\",\"type\":\"GlyphRenderer\"},{\"attributes\":{\"axis\":{\"id\":\"5933\"},\"ticker\":null},\"id\":\"5936\",\"type\":\"Grid\"},{\"attributes\":{\"fill_alpha\":{\"value\":0.1},\"fill_color\":{\"value\":\"white\"},\"line_alpha\":{\"value\":0.1},\"line_color\":{\"value\":\"darkviolet\"},\"size\":{\"units\":\"screen\",\"value\":6},\"x\":{\"field\":\"x\"},\"y\":{\"field\":\"y\"}},\"id\":\"5982\",\"type\":\"Circle\"},{\"attributes\":{\"active_drag\":\"auto\",\"active_inspect\":\"auto\",\"active_multi\":null,\"active_scroll\":\"auto\",\"active_tap\":\"auto\",\"tools\":[{\"id\":\"5941\"},{\"id\":\"5942\"},{\"id\":\"5943\"},{\"id\":\"5944\"},{\"id\":\"5945\"},{\"id\":\"5946\"},{\"id\":\"6023\"}]},\"id\":\"5948\",\"type\":\"Toolbar\"},{\"attributes\":{\"data_source\":{\"id\":\"5985\"},\"glyph\":{\"id\":\"5986\"},\"hover_glyph\":null,\"muted_glyph\":null,\"nonselection_glyph\":{\"id\":\"5987\"},\"selection_glyph\":null,\"view\":{\"id\":\"5989\"}},\"id\":\"5988\",\"type\":\"GlyphRenderer\"},{\"attributes\":{\"num_minor_ticks\":5,\"tickers\":[{\"id\":\"5966\"},{\"id\":\"5967\"},{\"id\":\"5968\"},{\"id\":\"5969\"},{\"id\":\"5970\"},{\"id\":\"5971\"},{\"id\":\"5972\"},{\"id\":\"5973\"},{\"id\":\"5974\"},{\"id\":\"5975\"},{\"id\":\"5976\"},{\"id\":\"5977\"}]},\"id\":\"5934\",\"type\":\"DatetimeTicker\"},{\"attributes\":{\"fill_alpha\":{\"value\":0.1},\"fill_color\":{\"value\":\"white\"},\"line_alpha\":{\"value\":0.1},\"line_color\":{\"value\":\"blue\"},\"size\":{\"units\":\"screen\",\"value\":6},\"x\":{\"field\":\"x\"},\"y\":{\"field\":\"y\"}},\"id\":\"6015\",\"type\":\"Circle\"},{\"attributes\":{\"fill_color\":{\"value\":\"white\"},\"line_color\":{\"value\":\"blue\"},\"size\":{\"units\":\"screen\",\"value\":6},\"x\":{\"field\":\"x\"},\"y\":{\"field\":\"y\"}},\"id\":\"6014\",\"type\":\"Circle\"},{\"attributes\":{},\"id\":\"6010\",\"type\":\"UnionRenderers\"},{\"attributes\":{},\"id\":\"6011\",\"type\":\"Selection\"},{\"attributes\":{\"axis_label\":\"Date\",\"formatter\":{\"id\":\"6018\"},\"major_label_orientation\":0.7853981633974483,\"minor_tick_in\":-5,\"minor_tick_out\":-3,\"ticker\":{\"id\":\"5934\"}},\"id\":\"5933\",\"type\":\"DatetimeAxis\"},{\"attributes\":{\"data_source\":{\"id\":\"5955\"},\"glyph\":{\"id\":\"5956\"},\"hover_glyph\":null,\"muted_glyph\":null,\"nonselection_glyph\":{\"id\":\"5957\"},\"selection_glyph\":null,\"view\":{\"id\":\"5959\"}},\"id\":\"5958\",\"type\":\"GlyphRenderer\"},{\"attributes\":{\"axis_label\":\"New Deaths & New Positive\",\"formatter\":{\"id\":\"6022\"},\"minor_tick_in\":-5,\"minor_tick_out\":-3,\"ticker\":{\"id\":\"5938\"}},\"id\":\"5937\",\"type\":\"LinearAxis\"},{\"attributes\":{},\"id\":\"5942\",\"type\":\"WheelZoomTool\"},{\"attributes\":{\"data\":{\"x\":{\"__ndarray__\":\"AAAA5UcHd0IAAMBKmgd3QgAAgLDsB3dCAABAFj8Id0IAAAB8kQh3QgAAwOHjCHdCAACARzYJd0IAAECtiAl3QgAAABPbCXdCAADAeC0Kd0IAAIDefwp3QgAAQETSCndCAAAAqiQLd0IAAMAPdwt3QgAAgHXJC3dCAABA2xsMd0IAAABBbgx3QgAAwKbADHdCAACADBMNd0IAAEByZQ13QgAAANi3DXdCAADAPQoOd0IAAICjXA53QgAAQAmvDndCAAAAbwEPd0IAAMDUUw93QgAAgDqmD3dCAABAoPgPd0IAAAAGSxB3QgAAwGudEHdCAACA0e8Qd0IAAEA3QhF3QgAAAJ2UEXdCAADAAucRd0IAAIBoORJ3QgAAQM6LEndCAAAANN4Sd0IAAMCZMBN3QgAAgP+CE3dCAABAZdUTd0IAAADLJxR3QgAAwDB6FHdCAACAlswUd0IAAED8HhV3QgAAAGJxFXdCAADAx8MVd0IAAIAtFhZ3QgAAQJNoFndCAAAA+boWd0IAAMBeDRd3QgAAgMRfF3dCAABAKrIXd0IAAACQBBh3QgAAwPVWGHdCAACAW6kYd0IAAEDB+xh3QgAAACdOGXdCAADAjKAZd0IAAIDy8hl3QgAAQFhFGndCAAAAvpcad0IAAMAj6hp3QgAAgIk8G3dCAABA744bd0IAAABV4Rt3QgAAwLozHHdCAACAIIYcd0IAAECG2Bx3QgAAAOwqHXdCAADAUX0dd0IAAIC3zx13QgAAQB0iHndCAAAAg3Qed0IAAMDoxh53QgAAgE4ZH3dCAABAtGsfd0IAAAAavh93QgAAwH8QIHdCAACA5WIgd0IAAEBLtSB3QgAAALEHIXdCAADAFlohd0IAAIB8rCF3QgAAQOL+IXdCAAAASFEid0IAAMCtoyJ3QgAAgBP2IndCAABAeUgjd0IAAADfmiN3QgAAwETtI3dCAACAqj8kd0IAAEAQkiR3QgAAAHbkJHdCAADA2zYld0IAAIBBiSV3QgAAQKfbJXdCAAAADS4md0IAAMBygCZ3QgAAgNjSJndCAABAPiUnd0IAAACkdyd3QgAAwAnKJ3dCAACAbxwod0IAAEDVbih3QgAAADvBKHdCAADAoBMpd0IAAIAGZil3QgAAQGy4KXdCAAAA0goqd0IAAMA3XSp3QgAAgJ2vKndCAABAAwIrd0IAAABpVCt3QgAAwM6mK3dCAACANPkrd0IAAECaSyx3QgAAAACeLHdCAADAZfAsd0IAAIDLQi13QgAAQDGVLXdCAAAAl+ctd0IAAMD8OS53QgAAgGKMLndCAABAyN4ud0IAAAAuMS93QgAAwJODL3dCAACA+dUvd0I=\",\"dtype\":\"float64\",\"shape\":[127]},\"y\":[221,93,78,250,238,240,566,342,466,587,769,778,1247,1492,1797,977,2313,2651,2547,3497,3590,3233,3526,4207,5322,5986,6557,5560,4789,5249,5210,6153,5959,5974,5217,4050,4053,4782,4668,4585,4805,4316,3599,3039,3836,4204,3951,4694,4092,3153,2972,2667,3786,3493,3491,3047,2256,2729,3370,2646,3021,2357,2324,1739,2091,2086,1872,1965,1900,1389,1221,1075,1444,1401,1327,1083,802,744,1402,888,992,789,875,675,451,813,665,642,652,669,531,300,397,584,593,516,416,355,178,318,321,177,518,270,197,280,283,202,379,163,346,338,303,210,329,333,251,262,224,218,122,190,296,259,175,174,126]},\"selected\":{\"id\":\"6226\"},\"selection_policy\":{\"id\":\"6225\"}},\"id\":\"5985\",\"type\":\"ColumnDataSource\"},{\"attributes\":{\"source\":{\"id\":\"5985\"}},\"id\":\"5989\",\"type\":\"CDSView\"},{\"attributes\":{\"axis\":{\"id\":\"5937\"},\"dimension\":1,\"ticker\":null},\"id\":\"5940\",\"type\":\"Grid\"},{\"attributes\":{\"line_alpha\":0.1,\"line_color\":\"darkviolet\",\"line_width\":4,\"x\":{\"field\":\"x\"},\"y\":{\"field\":\"y\"}},\"id\":\"5957\",\"type\":\"Line\"},{\"attributes\":{\"mantissas\":[1,2,5],\"max_interval\":500.0,\"num_minor_ticks\":0},\"id\":\"5966\",\"type\":\"AdaptiveTicker\"},{\"attributes\":{},\"id\":\"5925\",\"type\":\"DataRange1d\"},{\"attributes\":{\"source\":{\"id\":\"5980\"}},\"id\":\"5984\",\"type\":\"CDSView\"},{\"attributes\":{},\"id\":\"6022\",\"type\":\"NumeralTickFormatter\"},{\"attributes\":{},\"id\":\"5977\",\"type\":\"YearsTicker\"},{\"attributes\":{},\"id\":\"6008\",\"type\":\"UnionRenderers\"},{\"attributes\":{\"items\":[{\"id\":\"5979\"},{\"id\":\"6012\"}],\"location\":\"top_left\"},\"id\":\"5978\",\"type\":\"Legend\"},{\"attributes\":{},\"id\":\"6226\",\"type\":\"Selection\"},{\"attributes\":{},\"id\":\"5944\",\"type\":\"SaveTool\"},{\"attributes\":{\"base\":24,\"mantissas\":[1,2,4,6,8,12],\"max_interval\":43200000.0,\"min_interval\":3600000.0,\"num_minor_ticks\":0},\"id\":\"5968\",\"type\":\"AdaptiveTicker\"},{\"attributes\":{\"overlay\":{\"id\":\"5947\"}},\"id\":\"5943\",\"type\":\"BoxZoomTool\"},{\"attributes\":{\"line_color\":\"darkviolet\",\"line_width\":4,\"x\":{\"field\":\"x\"},\"y\":{\"field\":\"y\"}},\"id\":\"5956\",\"type\":\"Line\"},{\"attributes\":{\"base\":60,\"mantissas\":[1,2,5,10,15,20,30],\"max_interval\":1800000.0,\"min_interval\":1000.0,\"num_minor_ticks\":0},\"id\":\"5967\",\"type\":\"AdaptiveTicker\"},{\"attributes\":{\"text\":\"New Deaths vs New Positive: Italy\"},\"id\":\"5923\",\"type\":\"Title\"},{\"attributes\":{\"callback\":null,\"formatters\":{\"@x\":\"datetime\"},\"mode\":\"vline\",\"tooltips\":[[\"date\",\"@x{%d %B}\"],[\"new deaths OR new positive\",\"@y{0.}\"]]},\"id\":\"6023\",\"type\":\"HoverTool\"},{\"attributes\":{\"fill_color\":{\"value\":\"white\"},\"line_color\":{\"value\":\"darkviolet\"},\"size\":{\"units\":\"screen\",\"value\":6},\"x\":{\"field\":\"x\"},\"y\":{\"field\":\"y\"}},\"id\":\"5981\",\"type\":\"Circle\"},{\"attributes\":{\"data_source\":{\"id\":\"6013\"},\"glyph\":{\"id\":\"6014\"},\"hover_glyph\":null,\"muted_glyph\":null,\"nonselection_glyph\":{\"id\":\"6015\"},\"selection_glyph\":null,\"view\":{\"id\":\"6017\"}},\"id\":\"6016\",\"type\":\"GlyphRenderer\"},{\"attributes\":{},\"id\":\"5946\",\"type\":\"HelpTool\"},{\"attributes\":{\"data\":{\"x\":{\"__ndarray__\":\"AAAA5UcHd0IAAMBKmgd3QgAAgLDsB3dCAABAFj8Id0IAAAB8kQh3QgAAwOHjCHdCAACARzYJd0IAAECtiAl3QgAAABPbCXdCAADAeC0Kd0IAAIDefwp3QgAAQETSCndCAAAAqiQLd0IAAMAPdwt3QgAAgHXJC3dCAABA2xsMd0IAAABBbgx3QgAAwKbADHdCAACADBMNd0IAAEByZQ13QgAAANi3DXdCAADAPQoOd0IAAICjXA53QgAAQAmvDndCAAAAbwEPd0IAAMDUUw93QgAAgDqmD3dCAABAoPgPd0IAAAAGSxB3QgAAwGudEHdCAACA0e8Qd0IAAEA3QhF3QgAAAJ2UEXdCAADAAucRd0IAAIBoORJ3QgAAQM6LEndCAAAANN4Sd0IAAMCZMBN3QgAAgP+CE3dCAABAZdUTd0IAAADLJxR3QgAAwDB6FHdCAACAlswUd0IAAED8HhV3QgAAAGJxFXdCAADAx8MVd0IAAIAtFhZ3QgAAQJNoFndCAAAA+boWd0IAAMBeDRd3QgAAgMRfF3dCAABAKrIXd0IAAACQBBh3QgAAwPVWGHdCAACAW6kYd0IAAEDB+xh3QgAAACdOGXdCAADAjKAZd0IAAIDy8hl3QgAAQFhFGndCAAAAvpcad0IAAMAj6hp3QgAAgIk8G3dCAABA744bd0IAAABV4Rt3QgAAwLozHHdCAACAIIYcd0IAAECG2Bx3QgAAAOwqHXdCAADAUX0dd0IAAIC3zx13QgAAQB0iHndCAAAAg3Qed0IAAMDoxh53QgAAgE4ZH3dCAABAtGsfd0IAAAAavh93QgAAwH8QIHdCAACA5WIgd0IAAEBLtSB3QgAAALEHIXdCAADAFlohd0IAAIB8rCF3QgAAQOL+IXdCAAAASFEid0IAAMCtoyJ3QgAAgBP2IndCAABAeUgjd0IAAADfmiN3QgAAwETtI3dCAACAqj8kd0IAAEAQkiR3QgAAAHbkJHdCAADA2zYld0IAAIBBiSV3QgAAQKfbJXdCAAAADS4md0IAAMBygCZ3QgAAgNjSJndCAABAPiUnd0IAAACkdyd3QgAAwAnKJ3dCAACAbxwod0IAAEDVbih3QgAAADvBKHdCAADAoBMpd0IAAIAGZil3QgAAQGy4KXdCAAAA0goqd0IAAMA3XSp3QgAAgJ2vKndCAABAAwIrd0IAAABpVCt3QgAAwM6mK3dCAACANPkrd0IAAECaSyx3QgAAAACeLHdCAADAZfAsd0IAAIDLQi13QgAAQDGVLXdCAAAAl+ctd0IAAMD8OS53QgAAgGKMLndCAABAyN4ud0IAAAAuMS93QgAAwJODL3dCAACA+dUvd0I=\",\"dtype\":\"float64\",\"shape\":[127]},\"y\":[0,3,2,5,4,8,5,18,27,28,41,49,36,133,97,168,196,189,250,175,368,349,345,475,427,627,793,651,601,743,683,662,969,889,756,812,837,727,760,766,681,525,636,604,542,610,570,619,431,566,602,578,525,575,482,433,454,534,437,464,420,415,260,333,382,323,285,269,474,174,195,236,369,274,243,194,165,179,172,195,262,242,153,145,99,162,161,156,130,119,50,92,78,117,70,87,111,75,60,55,71,88,85,72,53,65,79,71,53,56,78,44,26,34,43,66,47,49,24,23,18,-31,34,30,8,22,6]},\"selected\":{\"id\":\"6011\"},\"selection_policy\":{\"id\":\"6010\"}},\"id\":\"5980\",\"type\":\"ColumnDataSource\"},{\"attributes\":{\"days\":[1,2,3,4,5,6,7,8,9,10,11,12,13,14,15,16,17,18,19,20,21,22,23,24,25,26,27,28,29,30,31]},\"id\":\"5969\",\"type\":\"DaysTicker\"},{\"attributes\":{\"label\":{\"value\":\"new deaths\"},\"renderers\":[{\"id\":\"5958\"}]},\"id\":\"5979\",\"type\":\"LegendItem\"},{\"attributes\":{\"days\":[1,4,7,10,13,16,19,22,25,28]},\"id\":\"5970\",\"type\":\"DaysTicker\"},{\"attributes\":{},\"id\":\"5941\",\"type\":\"PanTool\"},{\"attributes\":{},\"id\":\"5945\",\"type\":\"ResetTool\"}],\"root_ids\":[\"5922\"]},\"title\":\"Bokeh Application\",\"version\":\"2.0.2\"}};\n",
       "  var render_items = [{\"docid\":\"c81d0dd4-141c-4666-a421-f52f55ebeca5\",\"root_ids\":[\"5922\"],\"roots\":{\"5922\":\"880fa646-447e-4b3b-b6ed-0101325fcb67\"}}];\n",
       "  root.Bokeh.embed.embed_items_notebook(docs_json, render_items);\n",
       "\n",
       "  }\n",
       "  if (root.Bokeh !== undefined) {\n",
       "    embed_document(root);\n",
       "  } else {\n",
       "    var attempts = 0;\n",
       "    var timer = setInterval(function(root) {\n",
       "      if (root.Bokeh !== undefined) {\n",
       "        clearInterval(timer);\n",
       "        embed_document(root);\n",
       "      } else {\n",
       "        attempts++;\n",
       "        if (attempts > 100) {\n",
       "          clearInterval(timer);\n",
       "          console.log(\"Bokeh: ERROR: Unable to run BokehJS code because BokehJS library is missing\");\n",
       "        }\n",
       "      }\n",
       "    }, 10, root)\n",
       "  }\n",
       "})(window);"
      ],
      "application/vnd.bokehjs_exec.v0+json": ""
     },
     "metadata": {
      "application/vnd.bokehjs_exec.v0+json": {
       "id": "5922"
      }
     },
     "output_type": "display_data"
    }
   ],
   "source": [
    "p_new_deaths_positive_Italy = bokeh_plot_2_lines(x=time_date_new, y=nuovi_deceduti, yy=nuovi_positivi_italy, \n",
    "                  title='New Deaths vs New Positive: Italy', \n",
    "                  file_name=\"new_deaths_positive_Italy.html\", \n",
    "                  x_label='Date', y_label='New Deaths & New Positive', \n",
    "                  legend_1='new deaths', legend_2='new positive',\n",
    "                  x_label_hover='date' , y_label_hover='new deaths OR new positive' , \n",
    "                  color_1='darkviolet', color_2='blue', y_minmax=None)\n",
    "\n",
    "show(p_new_deaths_positive_Italy)"
   ]
  },
  {
   "cell_type": "markdown",
   "metadata": {},
   "source": [
    "---------------------\n",
    "\n",
    "### Total Hospitalized"
   ]
  },
  {
   "cell_type": "code",
   "execution_count": 35,
   "metadata": {},
   "outputs": [
    {
     "data": {
      "text/plain": [
       "0    127\n",
       "1    150\n",
       "2    164\n",
       "3    304\n",
       "4    409\n",
       "Name: totale_ospedalizzati, dtype: int64"
      ]
     },
     "execution_count": 35,
     "metadata": {},
     "output_type": "execute_result"
    }
   ],
   "source": [
    "total_hospital_italy = df_nazionale['totale_ospedalizzati']\n",
    "total_hospital_italy.head()"
   ]
  },
  {
   "cell_type": "markdown",
   "metadata": {},
   "source": [
    "---------------------\n",
    "\n",
    "### Intensive Care"
   ]
  },
  {
   "cell_type": "code",
   "execution_count": 36,
   "metadata": {},
   "outputs": [
    {
     "data": {
      "text/plain": [
       "0    26\n",
       "1    35\n",
       "2    36\n",
       "3    56\n",
       "4    64\n",
       "Name: terapia_intensiva, dtype: int64"
      ]
     },
     "execution_count": 36,
     "metadata": {},
     "output_type": "execute_result"
    }
   ],
   "source": [
    "intensive_care_italy = df_nazionale['terapia_intensiva']\n",
    "intensive_care_italy.head()"
   ]
  },
  {
   "cell_type": "code",
   "execution_count": 37,
   "metadata": {},
   "outputs": [
    {
     "data": {
      "text/html": [
       "\n",
       "\n",
       "\n",
       "\n",
       "\n",
       "\n",
       "  <div class=\"bk-root\" id=\"eb12a19d-4e7b-4d94-b005-7fab0c806668\" data-root-id=\"6686\"></div>\n"
      ]
     },
     "metadata": {},
     "output_type": "display_data"
    },
    {
     "data": {
      "application/javascript": [
       "(function(root) {\n",
       "  function embed_document(root) {\n",
       "    \n",
       "  var docs_json = {\"fc8cc715-2332-4956-91f4-ab5933c3b812\":{\"roots\":{\"references\":[{\"attributes\":{\"below\":[{\"id\":\"6697\"}],\"center\":[{\"id\":\"6700\"},{\"id\":\"6704\"},{\"id\":\"6742\"}],\"left\":[{\"id\":\"6701\"}],\"plot_height\":450,\"renderers\":[{\"id\":\"6722\"},{\"id\":\"6747\"}],\"title\":{\"id\":\"6687\"},\"toolbar\":{\"id\":\"6712\"},\"x_range\":{\"id\":\"6689\"},\"x_scale\":{\"id\":\"6693\"},\"y_range\":{\"id\":\"6691\"},\"y_scale\":{\"id\":\"6695\"}},\"id\":\"6686\",\"subtype\":\"Figure\",\"type\":\"Plot\"},{\"attributes\":{\"axis_label\":\"Total Hospitalized\",\"formatter\":{\"id\":\"6753\"},\"minor_tick_in\":-5,\"minor_tick_out\":-3,\"ticker\":{\"id\":\"6702\"}},\"id\":\"6701\",\"type\":\"LinearAxis\"},{\"attributes\":{\"data_source\":{\"id\":\"6744\"},\"glyph\":{\"id\":\"6745\"},\"hover_glyph\":null,\"muted_glyph\":null,\"nonselection_glyph\":{\"id\":\"6746\"},\"selection_glyph\":null,\"view\":{\"id\":\"6748\"}},\"id\":\"6747\",\"type\":\"GlyphRenderer\"},{\"attributes\":{\"months\":[0,4,8]},\"id\":\"6739\",\"type\":\"MonthsTicker\"},{\"attributes\":{},\"id\":\"6977\",\"type\":\"Selection\"},{\"attributes\":{\"months\":[0,6]},\"id\":\"6740\",\"type\":\"MonthsTicker\"},{\"attributes\":{\"days\":[1,4,7,10,13,16,19,22,25,28]},\"id\":\"6734\",\"type\":\"DaysTicker\"},{\"attributes\":{\"data_source\":{\"id\":\"6719\"},\"glyph\":{\"id\":\"6720\"},\"hover_glyph\":null,\"muted_glyph\":null,\"nonselection_glyph\":{\"id\":\"6721\"},\"selection_glyph\":null,\"view\":{\"id\":\"6723\"}},\"id\":\"6722\",\"type\":\"GlyphRenderer\"},{\"attributes\":{\"data\":{\"x\":{\"__ndarray__\":\"AAAA5UcHd0IAAMBKmgd3QgAAgLDsB3dCAABAFj8Id0IAAAB8kQh3QgAAwOHjCHdCAACARzYJd0IAAECtiAl3QgAAABPbCXdCAADAeC0Kd0IAAIDefwp3QgAAQETSCndCAAAAqiQLd0IAAMAPdwt3QgAAgHXJC3dCAABA2xsMd0IAAABBbgx3QgAAwKbADHdCAACADBMNd0IAAEByZQ13QgAAANi3DXdCAADAPQoOd0IAAICjXA53QgAAQAmvDndCAAAAbwEPd0IAAMDUUw93QgAAgDqmD3dCAABAoPgPd0IAAAAGSxB3QgAAwGudEHdCAACA0e8Qd0IAAEA3QhF3QgAAAJ2UEXdCAADAAucRd0IAAIBoORJ3QgAAQM6LEndCAAAANN4Sd0IAAMCZMBN3QgAAgP+CE3dCAABAZdUTd0IAAADLJxR3QgAAwDB6FHdCAACAlswUd0IAAED8HhV3QgAAAGJxFXdCAADAx8MVd0IAAIAtFhZ3QgAAQJNoFndCAAAA+boWd0IAAMBeDRd3QgAAgMRfF3dCAABAKrIXd0IAAACQBBh3QgAAwPVWGHdCAACAW6kYd0IAAEDB+xh3QgAAACdOGXdCAADAjKAZd0IAAIDy8hl3QgAAQFhFGndCAAAAvpcad0IAAMAj6hp3QgAAgIk8G3dCAABA744bd0IAAABV4Rt3QgAAwLozHHdCAACAIIYcd0IAAECG2Bx3QgAAAOwqHXdCAADAUX0dd0IAAIC3zx13QgAAQB0iHndCAAAAg3Qed0IAAMDoxh53QgAAgE4ZH3dCAABAtGsfd0IAAAAavh93QgAAwH8QIHdCAACA5WIgd0IAAEBLtSB3QgAAALEHIXdCAADAFlohd0IAAIB8rCF3QgAAQOL+IXdCAAAASFEid0IAAMCtoyJ3QgAAgBP2IndCAABAeUgjd0IAAADfmiN3QgAAwETtI3dCAACAqj8kd0IAAEAQkiR3QgAAAHbkJHdCAADA2zYld0IAAIBBiSV3QgAAQKfbJXdCAAAADS4md0IAAMBygCZ3QgAAgNjSJndCAABAPiUnd0IAAACkdyd3QgAAwAnKJ3dCAACAbxwod0IAAEDVbih3QgAAADvBKHdCAADAoBMpd0IAAIAGZil3QgAAQGy4KXdCAAAA0goqd0IAAMA3XSp3QgAAgJ2vKndCAABAAwIrd0IAAABpVCt3QgAAwM6mK3dCAACANPkrd0IAAECaSyx3QgAAAACeLHdCAADAZfAsd0IAAIDLQi13QgAAQDGVLXdCAAAAl+ctd0IAAMD8OS53QgAAgGKMLndCAABAyN4ud0IAAAAuMS93QgAAwJODL3dCAACA+dUvd0I=\",\"dtype\":\"float64\",\"shape\":[127]},\"y\":[127,150,164,304,409,506,779,908,1263,1641,2141,2856,3218,4207,5049,5915,6866,7803,8754,9890,11335,12876,14954,16620,18255,18675,20565,22855,23896,25333,26601,28365,29761,30532,31292,31776,32215,32438,32593,32809,33004,32926,32874,32510,32178,32004,31739,31525,31190,31283,31197,30722,29829,28598,27740,27668,27479,26605,26189,25138,24241,23635,23381,22309,21586,21005,19843,19147,18896,18743,18302,17697,17102,16485,15804,14868,14645,14538,13817,13065,12308,11600,11175,11073,10956,10707,10300,9909,9552,9267,9166,8726,8438,8234,7868,7569,7130,6822,6523,6324,6095,5841,5617,5295,5151,5012,4844,4569,4367,4120,3967,3803,3696,3478,3276,3035,2793,2626,2462,2165,1968,1717,1618,1461,1357,1258,1216]},\"selected\":{\"id\":\"6979\"},\"selection_policy\":{\"id\":\"6978\"}},\"id\":\"6744\",\"type\":\"ColumnDataSource\"},{\"attributes\":{},\"id\":\"6978\",\"type\":\"UnionRenderers\"},{\"attributes\":{\"line_alpha\":0.1,\"line_color\":\"orange\",\"line_width\":4,\"x\":{\"field\":\"x\"},\"y\":{\"field\":\"y\"}},\"id\":\"6721\",\"type\":\"Line\"},{\"attributes\":{\"active_drag\":\"auto\",\"active_inspect\":\"auto\",\"active_multi\":null,\"active_scroll\":\"auto\",\"active_tap\":\"auto\",\"tools\":[{\"id\":\"6705\"},{\"id\":\"6706\"},{\"id\":\"6707\"},{\"id\":\"6708\"},{\"id\":\"6709\"},{\"id\":\"6710\"},{\"id\":\"6754\"}]},\"id\":\"6712\",\"type\":\"Toolbar\"},{\"attributes\":{},\"id\":\"6753\",\"type\":\"NumeralTickFormatter\"},{\"attributes\":{\"mantissas\":[1,2,5],\"max_interval\":500.0,\"num_minor_ticks\":0},\"id\":\"6730\",\"type\":\"AdaptiveTicker\"},{\"attributes\":{\"days\":[1,2,3,4,5,6,7,8,9,10,11,12,13,14,15,16,17,18,19,20,21,22,23,24,25,26,27,28,29,30,31]},\"id\":\"6733\",\"type\":\"DaysTicker\"},{\"attributes\":{\"data\":{\"x\":{\"__ndarray__\":\"AAAA5UcHd0IAAMBKmgd3QgAAgLDsB3dCAABAFj8Id0IAAAB8kQh3QgAAwOHjCHdCAACARzYJd0IAAECtiAl3QgAAABPbCXdCAADAeC0Kd0IAAIDefwp3QgAAQETSCndCAAAAqiQLd0IAAMAPdwt3QgAAgHXJC3dCAABA2xsMd0IAAABBbgx3QgAAwKbADHdCAACADBMNd0IAAEByZQ13QgAAANi3DXdCAADAPQoOd0IAAICjXA53QgAAQAmvDndCAAAAbwEPd0IAAMDUUw93QgAAgDqmD3dCAABAoPgPd0IAAAAGSxB3QgAAwGudEHdCAACA0e8Qd0IAAEA3QhF3QgAAAJ2UEXdCAADAAucRd0IAAIBoORJ3QgAAQM6LEndCAAAANN4Sd0IAAMCZMBN3QgAAgP+CE3dCAABAZdUTd0IAAADLJxR3QgAAwDB6FHdCAACAlswUd0IAAED8HhV3QgAAAGJxFXdCAADAx8MVd0IAAIAtFhZ3QgAAQJNoFndCAAAA+boWd0IAAMBeDRd3QgAAgMRfF3dCAABAKrIXd0IAAACQBBh3QgAAwPVWGHdCAACAW6kYd0IAAEDB+xh3QgAAACdOGXdCAADAjKAZd0IAAIDy8hl3QgAAQFhFGndCAAAAvpcad0IAAMAj6hp3QgAAgIk8G3dCAABA744bd0IAAABV4Rt3QgAAwLozHHdCAACAIIYcd0IAAECG2Bx3QgAAAOwqHXdCAADAUX0dd0IAAIC3zx13QgAAQB0iHndCAAAAg3Qed0IAAMDoxh53QgAAgE4ZH3dCAABAtGsfd0IAAAAavh93QgAAwH8QIHdCAACA5WIgd0IAAEBLtSB3QgAAALEHIXdCAADAFlohd0IAAIB8rCF3QgAAQOL+IXdCAAAASFEid0IAAMCtoyJ3QgAAgBP2IndCAABAeUgjd0IAAADfmiN3QgAAwETtI3dCAACAqj8kd0IAAEAQkiR3QgAAAHbkJHdCAADA2zYld0IAAIBBiSV3QgAAQKfbJXdCAAAADS4md0IAAMBygCZ3QgAAgNjSJndCAABAPiUnd0IAAACkdyd3QgAAwAnKJ3dCAACAbxwod0IAAEDVbih3QgAAADvBKHdCAADAoBMpd0IAAIAGZil3QgAAQGy4KXdCAAAA0goqd0IAAMA3XSp3QgAAgJ2vKndCAABAAwIrd0IAAABpVCt3QgAAwM6mK3dCAACANPkrd0IAAECaSyx3QgAAAACeLHdCAADAZfAsd0IAAIDLQi13QgAAQDGVLXdCAAAAl+ctd0IAAMD8OS53QgAAgGKMLndCAABAyN4ud0IAAAAuMS93QgAAwJODL3dCAACA+dUvd0I=\",\"dtype\":\"float64\",\"shape\":[127]},\"y\":[127,150,164,304,409,506,779,908,1263,1641,2141,2856,3218,4207,5049,5915,6866,7803,8754,9890,11335,12876,14954,16620,18255,18675,20565,22855,23896,25333,26601,28365,29761,30532,31292,31776,32215,32438,32593,32809,33004,32926,32874,32510,32178,32004,31739,31525,31190,31283,31197,30722,29829,28598,27740,27668,27479,26605,26189,25138,24241,23635,23381,22309,21586,21005,19843,19147,18896,18743,18302,17697,17102,16485,15804,14868,14645,14538,13817,13065,12308,11600,11175,11073,10956,10707,10300,9909,9552,9267,9166,8726,8438,8234,7868,7569,7130,6822,6523,6324,6095,5841,5617,5295,5151,5012,4844,4569,4367,4120,3967,3803,3696,3478,3276,3035,2793,2626,2462,2165,1968,1717,1618,1461,1357,1258,1216]},\"selected\":{\"id\":\"6977\"},\"selection_policy\":{\"id\":\"6976\"}},\"id\":\"6719\",\"type\":\"ColumnDataSource\"},{\"attributes\":{},\"id\":\"6741\",\"type\":\"YearsTicker\"},{\"attributes\":{\"source\":{\"id\":\"6719\"}},\"id\":\"6723\",\"type\":\"CDSView\"},{\"attributes\":{\"text\":\"Total Hospitalized: Italy\"},\"id\":\"6687\",\"type\":\"Title\"},{\"attributes\":{},\"id\":\"6705\",\"type\":\"PanTool\"},{\"attributes\":{\"bottom_units\":\"screen\",\"fill_alpha\":0.5,\"fill_color\":\"lightgrey\",\"left_units\":\"screen\",\"level\":\"overlay\",\"line_alpha\":1.0,\"line_color\":\"black\",\"line_dash\":[4,4],\"line_width\":2,\"render_mode\":\"css\",\"right_units\":\"screen\",\"top_units\":\"screen\"},\"id\":\"6711\",\"type\":\"BoxAnnotation\"},{\"attributes\":{\"days\":[1,15]},\"id\":\"6736\",\"type\":\"DaysTicker\"},{\"attributes\":{},\"id\":\"6706\",\"type\":\"WheelZoomTool\"},{\"attributes\":{\"fill_alpha\":{\"value\":0.1},\"fill_color\":{\"value\":\"white\"},\"line_alpha\":{\"value\":0.1},\"line_color\":{\"value\":\"orange\"},\"size\":{\"units\":\"screen\",\"value\":6},\"x\":{\"field\":\"x\"},\"y\":{\"field\":\"y\"}},\"id\":\"6746\",\"type\":\"Circle\"},{\"attributes\":{\"source\":{\"id\":\"6744\"}},\"id\":\"6748\",\"type\":\"CDSView\"},{\"attributes\":{\"base\":60,\"mantissas\":[1,2,5,10,15,20,30],\"max_interval\":1800000.0,\"min_interval\":1000.0,\"num_minor_ticks\":0},\"id\":\"6731\",\"type\":\"AdaptiveTicker\"},{\"attributes\":{},\"id\":\"6689\",\"type\":\"DataRange1d\"},{\"attributes\":{\"items\":[{\"id\":\"6743\"}],\"location\":\"top_left\"},\"id\":\"6742\",\"type\":\"Legend\"},{\"attributes\":{\"overlay\":{\"id\":\"6711\"}},\"id\":\"6707\",\"type\":\"BoxZoomTool\"},{\"attributes\":{},\"id\":\"6693\",\"type\":\"LinearScale\"},{\"attributes\":{\"months\":[0,2,4,6,8,10]},\"id\":\"6738\",\"type\":\"MonthsTicker\"},{\"attributes\":{},\"id\":\"6976\",\"type\":\"UnionRenderers\"},{\"attributes\":{},\"id\":\"6708\",\"type\":\"SaveTool\"},{\"attributes\":{\"days\":[\"%d %B\"]},\"id\":\"6749\",\"type\":\"DatetimeTickFormatter\"},{\"attributes\":{},\"id\":\"6709\",\"type\":\"ResetTool\"},{\"attributes\":{\"label\":{\"value\":\"total hospitalized\"},\"renderers\":[{\"id\":\"6722\"}]},\"id\":\"6743\",\"type\":\"LegendItem\"},{\"attributes\":{\"fill_color\":{\"value\":\"white\"},\"line_color\":{\"value\":\"orange\"},\"size\":{\"units\":\"screen\",\"value\":6},\"x\":{\"field\":\"x\"},\"y\":{\"field\":\"y\"}},\"id\":\"6745\",\"type\":\"Circle\"},{\"attributes\":{},\"id\":\"6691\",\"type\":\"DataRange1d\"},{\"attributes\":{},\"id\":\"6710\",\"type\":\"HelpTool\"},{\"attributes\":{},\"id\":\"6979\",\"type\":\"Selection\"},{\"attributes\":{},\"id\":\"6695\",\"type\":\"LinearScale\"},{\"attributes\":{\"line_color\":\"orange\",\"line_width\":4,\"x\":{\"field\":\"x\"},\"y\":{\"field\":\"y\"}},\"id\":\"6720\",\"type\":\"Line\"},{\"attributes\":{\"axis_label\":\"Date\",\"formatter\":{\"id\":\"6749\"},\"major_label_orientation\":0.7853981633974483,\"minor_tick_in\":-5,\"minor_tick_out\":-3,\"ticker\":{\"id\":\"6698\"}},\"id\":\"6697\",\"type\":\"DatetimeAxis\"},{\"attributes\":{},\"id\":\"6702\",\"type\":\"BasicTicker\"},{\"attributes\":{\"days\":[1,8,15,22]},\"id\":\"6735\",\"type\":\"DaysTicker\"},{\"attributes\":{\"num_minor_ticks\":5,\"tickers\":[{\"id\":\"6730\"},{\"id\":\"6731\"},{\"id\":\"6732\"},{\"id\":\"6733\"},{\"id\":\"6734\"},{\"id\":\"6735\"},{\"id\":\"6736\"},{\"id\":\"6737\"},{\"id\":\"6738\"},{\"id\":\"6739\"},{\"id\":\"6740\"},{\"id\":\"6741\"}]},\"id\":\"6698\",\"type\":\"DatetimeTicker\"},{\"attributes\":{\"months\":[0,1,2,3,4,5,6,7,8,9,10,11]},\"id\":\"6737\",\"type\":\"MonthsTicker\"},{\"attributes\":{\"axis\":{\"id\":\"6697\"},\"ticker\":null},\"id\":\"6700\",\"type\":\"Grid\"},{\"attributes\":{\"callback\":null,\"formatters\":{\"@x\":\"datetime\"},\"mode\":\"vline\",\"tooltips\":[[\"date\",\"@x{%d %B}\"],[\"total hospitalized\",\"@y{0.}\"]]},\"id\":\"6754\",\"type\":\"HoverTool\"},{\"attributes\":{\"base\":24,\"mantissas\":[1,2,4,6,8,12],\"max_interval\":43200000.0,\"min_interval\":3600000.0,\"num_minor_ticks\":0},\"id\":\"6732\",\"type\":\"AdaptiveTicker\"},{\"attributes\":{\"axis\":{\"id\":\"6701\"},\"dimension\":1,\"ticker\":null},\"id\":\"6704\",\"type\":\"Grid\"}],\"root_ids\":[\"6686\"]},\"title\":\"Bokeh Application\",\"version\":\"2.0.2\"}};\n",
       "  var render_items = [{\"docid\":\"fc8cc715-2332-4956-91f4-ab5933c3b812\",\"root_ids\":[\"6686\"],\"roots\":{\"6686\":\"eb12a19d-4e7b-4d94-b005-7fab0c806668\"}}];\n",
       "  root.Bokeh.embed.embed_items_notebook(docs_json, render_items);\n",
       "\n",
       "  }\n",
       "  if (root.Bokeh !== undefined) {\n",
       "    embed_document(root);\n",
       "  } else {\n",
       "    var attempts = 0;\n",
       "    var timer = setInterval(function(root) {\n",
       "      if (root.Bokeh !== undefined) {\n",
       "        clearInterval(timer);\n",
       "        embed_document(root);\n",
       "      } else {\n",
       "        attempts++;\n",
       "        if (attempts > 100) {\n",
       "          clearInterval(timer);\n",
       "          console.log(\"Bokeh: ERROR: Unable to run BokehJS code because BokehJS library is missing\");\n",
       "        }\n",
       "      }\n",
       "    }, 10, root)\n",
       "  }\n",
       "})(window);"
      ],
      "application/vnd.bokehjs_exec.v0+json": ""
     },
     "metadata": {
      "application/vnd.bokehjs_exec.v0+json": {
       "id": "6686"
      }
     },
     "output_type": "display_data"
    }
   ],
   "source": [
    "p_total_hospitalized_Italy = bokeh_plot_1_line(x=time_date_new, y=total_hospital_italy, \n",
    "                  title='Total Hospitalized: Italy', \n",
    "                  file_name=\"total_hospitalized_Italy.html\", \n",
    "                  x_label='Date', \n",
    "                  y_label='Total Hospitalized', legend='total hospitalized',\n",
    "                  x_label_hover='date', y_label_hover='total hospitalized',\n",
    "                  color='orange', y_minmax=None)\n",
    "# output_file(\"total_cases_Italy.html\")\n",
    "show(p_total_hospitalized_Italy)"
   ]
  },
  {
   "cell_type": "code",
   "execution_count": 38,
   "metadata": {},
   "outputs": [
    {
     "data": {
      "text/html": [
       "\n",
       "\n",
       "\n",
       "\n",
       "\n",
       "\n",
       "  <div class=\"bk-root\" id=\"1f9a7896-bbb3-4585-9d21-f2f6ab91b9bc\" data-root-id=\"7361\"></div>\n"
      ]
     },
     "metadata": {},
     "output_type": "display_data"
    },
    {
     "data": {
      "application/javascript": [
       "(function(root) {\n",
       "  function embed_document(root) {\n",
       "    \n",
       "  var docs_json = {\"99baaf49-8fd7-4c33-a062-6571db4e27a1\":{\"roots\":{\"references\":[{\"attributes\":{\"below\":[{\"id\":\"7372\"}],\"center\":[{\"id\":\"7375\"},{\"id\":\"7379\"},{\"id\":\"7417\"}],\"left\":[{\"id\":\"7376\"}],\"plot_height\":450,\"renderers\":[{\"id\":\"7397\"},{\"id\":\"7422\"}],\"title\":{\"id\":\"7362\"},\"toolbar\":{\"id\":\"7387\"},\"x_range\":{\"id\":\"7364\"},\"x_scale\":{\"id\":\"7368\"},\"y_range\":{\"id\":\"7366\"},\"y_scale\":{\"id\":\"7370\"}},\"id\":\"7361\",\"subtype\":\"Figure\",\"type\":\"Plot\"},{\"attributes\":{},\"id\":\"7377\",\"type\":\"BasicTicker\"},{\"attributes\":{},\"id\":\"7383\",\"type\":\"SaveTool\"},{\"attributes\":{\"mantissas\":[1,2,5],\"max_interval\":500.0,\"num_minor_ticks\":0},\"id\":\"7405\",\"type\":\"AdaptiveTicker\"},{\"attributes\":{\"line_alpha\":0.1,\"line_color\":\"GoldenRod\",\"line_width\":4,\"x\":{\"field\":\"x\"},\"y\":{\"field\":\"y\"}},\"id\":\"7396\",\"type\":\"Line\"},{\"attributes\":{},\"id\":\"7384\",\"type\":\"ResetTool\"},{\"attributes\":{},\"id\":\"7428\",\"type\":\"NumeralTickFormatter\"},{\"attributes\":{},\"id\":\"7671\",\"type\":\"UnionRenderers\"},{\"attributes\":{},\"id\":\"7366\",\"type\":\"DataRange1d\"},{\"attributes\":{},\"id\":\"7364\",\"type\":\"DataRange1d\"},{\"attributes\":{\"num_minor_ticks\":5,\"tickers\":[{\"id\":\"7405\"},{\"id\":\"7406\"},{\"id\":\"7407\"},{\"id\":\"7408\"},{\"id\":\"7409\"},{\"id\":\"7410\"},{\"id\":\"7411\"},{\"id\":\"7412\"},{\"id\":\"7413\"},{\"id\":\"7414\"},{\"id\":\"7415\"},{\"id\":\"7416\"}]},\"id\":\"7373\",\"type\":\"DatetimeTicker\"},{\"attributes\":{\"base\":24,\"mantissas\":[1,2,4,6,8,12],\"max_interval\":43200000.0,\"min_interval\":3600000.0,\"num_minor_ticks\":0},\"id\":\"7407\",\"type\":\"AdaptiveTicker\"},{\"attributes\":{},\"id\":\"7385\",\"type\":\"HelpTool\"},{\"attributes\":{\"callback\":null,\"formatters\":{\"@x\":\"datetime\"},\"mode\":\"vline\",\"tooltips\":[[\"date\",\"@x{%d %B}\"],[\"intensive care\",\"@y{0.}\"]]},\"id\":\"7429\",\"type\":\"HoverTool\"},{\"attributes\":{\"base\":60,\"mantissas\":[1,2,5,10,15,20,30],\"max_interval\":1800000.0,\"min_interval\":1000.0,\"num_minor_ticks\":0},\"id\":\"7406\",\"type\":\"AdaptiveTicker\"},{\"attributes\":{},\"id\":\"7672\",\"type\":\"Selection\"},{\"attributes\":{},\"id\":\"7416\",\"type\":\"YearsTicker\"},{\"attributes\":{\"active_drag\":\"auto\",\"active_inspect\":\"auto\",\"active_multi\":null,\"active_scroll\":\"auto\",\"active_tap\":\"auto\",\"tools\":[{\"id\":\"7380\"},{\"id\":\"7381\"},{\"id\":\"7382\"},{\"id\":\"7383\"},{\"id\":\"7384\"},{\"id\":\"7385\"},{\"id\":\"7429\"}]},\"id\":\"7387\",\"type\":\"Toolbar\"},{\"attributes\":{},\"id\":\"7381\",\"type\":\"WheelZoomTool\"},{\"attributes\":{\"days\":[1,2,3,4,5,6,7,8,9,10,11,12,13,14,15,16,17,18,19,20,21,22,23,24,25,26,27,28,29,30,31]},\"id\":\"7408\",\"type\":\"DaysTicker\"},{\"attributes\":{\"data\":{\"x\":{\"__ndarray__\":\"AAAA5UcHd0IAAMBKmgd3QgAAgLDsB3dCAABAFj8Id0IAAAB8kQh3QgAAwOHjCHdCAACARzYJd0IAAECtiAl3QgAAABPbCXdCAADAeC0Kd0IAAIDefwp3QgAAQETSCndCAAAAqiQLd0IAAMAPdwt3QgAAgHXJC3dCAABA2xsMd0IAAABBbgx3QgAAwKbADHdCAACADBMNd0IAAEByZQ13QgAAANi3DXdCAADAPQoOd0IAAICjXA53QgAAQAmvDndCAAAAbwEPd0IAAMDUUw93QgAAgDqmD3dCAABAoPgPd0IAAAAGSxB3QgAAwGudEHdCAACA0e8Qd0IAAEA3QhF3QgAAAJ2UEXdCAADAAucRd0IAAIBoORJ3QgAAQM6LEndCAAAANN4Sd0IAAMCZMBN3QgAAgP+CE3dCAABAZdUTd0IAAADLJxR3QgAAwDB6FHdCAACAlswUd0IAAED8HhV3QgAAAGJxFXdCAADAx8MVd0IAAIAtFhZ3QgAAQJNoFndCAAAA+boWd0IAAMBeDRd3QgAAgMRfF3dCAABAKrIXd0IAAACQBBh3QgAAwPVWGHdCAACAW6kYd0IAAEDB+xh3QgAAACdOGXdCAADAjKAZd0IAAIDy8hl3QgAAQFhFGndCAAAAvpcad0IAAMAj6hp3QgAAgIk8G3dCAABA744bd0IAAABV4Rt3QgAAwLozHHdCAACAIIYcd0IAAECG2Bx3QgAAAOwqHXdCAADAUX0dd0IAAIC3zx13QgAAQB0iHndCAAAAg3Qed0IAAMDoxh53QgAAgE4ZH3dCAABAtGsfd0IAAAAavh93QgAAwH8QIHdCAACA5WIgd0IAAEBLtSB3QgAAALEHIXdCAADAFlohd0IAAIB8rCF3QgAAQOL+IXdCAAAASFEid0IAAMCtoyJ3QgAAgBP2IndCAABAeUgjd0IAAADfmiN3QgAAwETtI3dCAACAqj8kd0IAAEAQkiR3QgAAAHbkJHdCAADA2zYld0IAAIBBiSV3QgAAQKfbJXdCAAAADS4md0IAAMBygCZ3QgAAgNjSJndCAABAPiUnd0IAAACkdyd3QgAAwAnKJ3dCAACAbxwod0IAAEDVbih3QgAAADvBKHdCAADAoBMpd0IAAIAGZil3QgAAQGy4KXdCAAAA0goqd0IAAMA3XSp3QgAAgJ2vKndCAABAAwIrd0IAAABpVCt3QgAAwM6mK3dCAACANPkrd0IAAECaSyx3QgAAAACeLHdCAADAZfAsd0IAAIDLQi13QgAAQDGVLXdCAAAAl+ctd0IAAMD8OS53QgAAgGKMLndCAABAyN4ud0IAAAAuMS93QgAAwJODL3dCAACA+dUvd0I=\",\"dtype\":\"float64\",\"shape\":[127]},\"y\":[26,35,36,56,64,105,140,166,229,295,351,462,567,650,733,877,1028,1153,1328,1518,1672,1851,2060,2257,2498,2655,2857,3009,3204,3396,3489,3612,3732,3856,3906,3981,4023,4035,4053,4068,3994,3977,3898,3792,3693,3605,3497,3381,3343,3260,3186,3079,2936,2812,2733,2635,2573,2471,2384,2267,2173,2102,2009,1956,1863,1795,1694,1578,1539,1501,1479,1427,1333,1311,1168,1034,1027,999,952,893,855,808,775,762,749,716,676,640,595,572,553,541,521,505,489,475,450,435,424,408,353,338,316,293,287,283,263,249,236,227,220,209,207,177,163,168,161,152,148,127,115,107,103,105,97,98,96]},\"selected\":{\"id\":\"7674\"},\"selection_policy\":{\"id\":\"7673\"}},\"id\":\"7419\",\"type\":\"ColumnDataSource\"},{\"attributes\":{},\"id\":\"7380\",\"type\":\"PanTool\"},{\"attributes\":{\"days\":[1,4,7,10,13,16,19,22,25,28]},\"id\":\"7409\",\"type\":\"DaysTicker\"},{\"attributes\":{\"overlay\":{\"id\":\"7386\"}},\"id\":\"7382\",\"type\":\"BoxZoomTool\"},{\"attributes\":{\"days\":[1,8,15,22]},\"id\":\"7410\",\"type\":\"DaysTicker\"},{\"attributes\":{\"items\":[{\"id\":\"7418\"}],\"location\":\"top_left\"},\"id\":\"7417\",\"type\":\"Legend\"},{\"attributes\":{\"days\":[\"%d %B\"]},\"id\":\"7424\",\"type\":\"DatetimeTickFormatter\"},{\"attributes\":{\"data\":{\"x\":{\"__ndarray__\":\"AAAA5UcHd0IAAMBKmgd3QgAAgLDsB3dCAABAFj8Id0IAAAB8kQh3QgAAwOHjCHdCAACARzYJd0IAAECtiAl3QgAAABPbCXdCAADAeC0Kd0IAAIDefwp3QgAAQETSCndCAAAAqiQLd0IAAMAPdwt3QgAAgHXJC3dCAABA2xsMd0IAAABBbgx3QgAAwKbADHdCAACADBMNd0IAAEByZQ13QgAAANi3DXdCAADAPQoOd0IAAICjXA53QgAAQAmvDndCAAAAbwEPd0IAAMDUUw93QgAAgDqmD3dCAABAoPgPd0IAAAAGSxB3QgAAwGudEHdCAACA0e8Qd0IAAEA3QhF3QgAAAJ2UEXdCAADAAucRd0IAAIBoORJ3QgAAQM6LEndCAAAANN4Sd0IAAMCZMBN3QgAAgP+CE3dCAABAZdUTd0IAAADLJxR3QgAAwDB6FHdCAACAlswUd0IAAED8HhV3QgAAAGJxFXdCAADAx8MVd0IAAIAtFhZ3QgAAQJNoFndCAAAA+boWd0IAAMBeDRd3QgAAgMRfF3dCAABAKrIXd0IAAACQBBh3QgAAwPVWGHdCAACAW6kYd0IAAEDB+xh3QgAAACdOGXdCAADAjKAZd0IAAIDy8hl3QgAAQFhFGndCAAAAvpcad0IAAMAj6hp3QgAAgIk8G3dCAABA744bd0IAAABV4Rt3QgAAwLozHHdCAACAIIYcd0IAAECG2Bx3QgAAAOwqHXdCAADAUX0dd0IAAIC3zx13QgAAQB0iHndCAAAAg3Qed0IAAMDoxh53QgAAgE4ZH3dCAABAtGsfd0IAAAAavh93QgAAwH8QIHdCAACA5WIgd0IAAEBLtSB3QgAAALEHIXdCAADAFlohd0IAAIB8rCF3QgAAQOL+IXdCAAAASFEid0IAAMCtoyJ3QgAAgBP2IndCAABAeUgjd0IAAADfmiN3QgAAwETtI3dCAACAqj8kd0IAAEAQkiR3QgAAAHbkJHdCAADA2zYld0IAAIBBiSV3QgAAQKfbJXdCAAAADS4md0IAAMBygCZ3QgAAgNjSJndCAABAPiUnd0IAAACkdyd3QgAAwAnKJ3dCAACAbxwod0IAAEDVbih3QgAAADvBKHdCAADAoBMpd0IAAIAGZil3QgAAQGy4KXdCAAAA0goqd0IAAMA3XSp3QgAAgJ2vKndCAABAAwIrd0IAAABpVCt3QgAAwM6mK3dCAACANPkrd0IAAECaSyx3QgAAAACeLHdCAADAZfAsd0IAAIDLQi13QgAAQDGVLXdCAAAAl+ctd0IAAMD8OS53QgAAgGKMLndCAABAyN4ud0IAAAAuMS93QgAAwJODL3dCAACA+dUvd0I=\",\"dtype\":\"float64\",\"shape\":[127]},\"y\":[26,35,36,56,64,105,140,166,229,295,351,462,567,650,733,877,1028,1153,1328,1518,1672,1851,2060,2257,2498,2655,2857,3009,3204,3396,3489,3612,3732,3856,3906,3981,4023,4035,4053,4068,3994,3977,3898,3792,3693,3605,3497,3381,3343,3260,3186,3079,2936,2812,2733,2635,2573,2471,2384,2267,2173,2102,2009,1956,1863,1795,1694,1578,1539,1501,1479,1427,1333,1311,1168,1034,1027,999,952,893,855,808,775,762,749,716,676,640,595,572,553,541,521,505,489,475,450,435,424,408,353,338,316,293,287,283,263,249,236,227,220,209,207,177,163,168,161,152,148,127,115,107,103,105,97,98,96]},\"selected\":{\"id\":\"7672\"},\"selection_policy\":{\"id\":\"7671\"}},\"id\":\"7394\",\"type\":\"ColumnDataSource\"},{\"attributes\":{\"bottom_units\":\"screen\",\"fill_alpha\":0.5,\"fill_color\":\"lightgrey\",\"left_units\":\"screen\",\"level\":\"overlay\",\"line_alpha\":1.0,\"line_color\":\"black\",\"line_dash\":[4,4],\"line_width\":2,\"render_mode\":\"css\",\"right_units\":\"screen\",\"top_units\":\"screen\"},\"id\":\"7386\",\"type\":\"BoxAnnotation\"},{\"attributes\":{\"days\":[1,15]},\"id\":\"7411\",\"type\":\"DaysTicker\"},{\"attributes\":{\"label\":{\"value\":\"intensive care\"},\"renderers\":[{\"id\":\"7397\"}]},\"id\":\"7418\",\"type\":\"LegendItem\"},{\"attributes\":{\"fill_color\":{\"value\":\"white\"},\"line_color\":{\"value\":\"GoldenRod\"},\"size\":{\"units\":\"screen\",\"value\":6},\"x\":{\"field\":\"x\"},\"y\":{\"field\":\"y\"}},\"id\":\"7420\",\"type\":\"Circle\"},{\"attributes\":{\"axis\":{\"id\":\"7376\"},\"dimension\":1,\"ticker\":null},\"id\":\"7379\",\"type\":\"Grid\"},{\"attributes\":{},\"id\":\"7674\",\"type\":\"Selection\"},{\"attributes\":{\"text\":\"Intensive Care: Italy\"},\"id\":\"7362\",\"type\":\"Title\"},{\"attributes\":{\"axis_label\":\"Intensive Care\",\"formatter\":{\"id\":\"7428\"},\"minor_tick_in\":-5,\"minor_tick_out\":-3,\"ticker\":{\"id\":\"7377\"}},\"id\":\"7376\",\"type\":\"LinearAxis\"},{\"attributes\":{},\"id\":\"7368\",\"type\":\"LinearScale\"},{\"attributes\":{\"source\":{\"id\":\"7394\"}},\"id\":\"7398\",\"type\":\"CDSView\"},{\"attributes\":{\"data_source\":{\"id\":\"7394\"},\"glyph\":{\"id\":\"7395\"},\"hover_glyph\":null,\"muted_glyph\":null,\"nonselection_glyph\":{\"id\":\"7396\"},\"selection_glyph\":null,\"view\":{\"id\":\"7398\"}},\"id\":\"7397\",\"type\":\"GlyphRenderer\"},{\"attributes\":{\"line_color\":\"GoldenRod\",\"line_width\":4,\"x\":{\"field\":\"x\"},\"y\":{\"field\":\"y\"}},\"id\":\"7395\",\"type\":\"Line\"},{\"attributes\":{\"axis_label\":\"Date\",\"formatter\":{\"id\":\"7424\"},\"major_label_orientation\":0.7853981633974483,\"minor_tick_in\":-5,\"minor_tick_out\":-3,\"ticker\":{\"id\":\"7373\"}},\"id\":\"7372\",\"type\":\"DatetimeAxis\"},{\"attributes\":{\"months\":[0,1,2,3,4,5,6,7,8,9,10,11]},\"id\":\"7412\",\"type\":\"MonthsTicker\"},{\"attributes\":{\"fill_alpha\":{\"value\":0.1},\"fill_color\":{\"value\":\"white\"},\"line_alpha\":{\"value\":0.1},\"line_color\":{\"value\":\"GoldenRod\"},\"size\":{\"units\":\"screen\",\"value\":6},\"x\":{\"field\":\"x\"},\"y\":{\"field\":\"y\"}},\"id\":\"7421\",\"type\":\"Circle\"},{\"attributes\":{},\"id\":\"7673\",\"type\":\"UnionRenderers\"},{\"attributes\":{},\"id\":\"7370\",\"type\":\"LinearScale\"},{\"attributes\":{\"data_source\":{\"id\":\"7419\"},\"glyph\":{\"id\":\"7420\"},\"hover_glyph\":null,\"muted_glyph\":null,\"nonselection_glyph\":{\"id\":\"7421\"},\"selection_glyph\":null,\"view\":{\"id\":\"7423\"}},\"id\":\"7422\",\"type\":\"GlyphRenderer\"},{\"attributes\":{\"source\":{\"id\":\"7419\"}},\"id\":\"7423\",\"type\":\"CDSView\"},{\"attributes\":{\"months\":[0,4,8]},\"id\":\"7414\",\"type\":\"MonthsTicker\"},{\"attributes\":{\"axis\":{\"id\":\"7372\"},\"ticker\":null},\"id\":\"7375\",\"type\":\"Grid\"},{\"attributes\":{\"months\":[0,6]},\"id\":\"7415\",\"type\":\"MonthsTicker\"},{\"attributes\":{\"months\":[0,2,4,6,8,10]},\"id\":\"7413\",\"type\":\"MonthsTicker\"}],\"root_ids\":[\"7361\"]},\"title\":\"Bokeh Application\",\"version\":\"2.0.2\"}};\n",
       "  var render_items = [{\"docid\":\"99baaf49-8fd7-4c33-a062-6571db4e27a1\",\"root_ids\":[\"7361\"],\"roots\":{\"7361\":\"1f9a7896-bbb3-4585-9d21-f2f6ab91b9bc\"}}];\n",
       "  root.Bokeh.embed.embed_items_notebook(docs_json, render_items);\n",
       "\n",
       "  }\n",
       "  if (root.Bokeh !== undefined) {\n",
       "    embed_document(root);\n",
       "  } else {\n",
       "    var attempts = 0;\n",
       "    var timer = setInterval(function(root) {\n",
       "      if (root.Bokeh !== undefined) {\n",
       "        clearInterval(timer);\n",
       "        embed_document(root);\n",
       "      } else {\n",
       "        attempts++;\n",
       "        if (attempts > 100) {\n",
       "          clearInterval(timer);\n",
       "          console.log(\"Bokeh: ERROR: Unable to run BokehJS code because BokehJS library is missing\");\n",
       "        }\n",
       "      }\n",
       "    }, 10, root)\n",
       "  }\n",
       "})(window);"
      ],
      "application/vnd.bokehjs_exec.v0+json": ""
     },
     "metadata": {
      "application/vnd.bokehjs_exec.v0+json": {
       "id": "7361"
      }
     },
     "output_type": "display_data"
    }
   ],
   "source": [
    "p_intensive_care_Italy = bokeh_plot_1_line(x=time_date_new, y=intensive_care_italy, \n",
    "                  title='Intensive Care: Italy', \n",
    "                  file_name=\"intensive_care_Italy.html\", \n",
    "                  x_label='Date', \n",
    "                  y_label='Intensive Care', legend='intensive care',\n",
    "                  x_label_hover='date', y_label_hover='intensive care',\n",
    "                  color='GoldenRod', y_minmax=None)\n",
    "# output_file(\"total_cases_Italy.html\")\n",
    "show(p_intensive_care_Italy)"
   ]
  },
  {
   "cell_type": "code",
   "execution_count": 39,
   "metadata": {},
   "outputs": [
    {
     "data": {
      "text/html": [
       "\n",
       "\n",
       "\n",
       "\n",
       "\n",
       "\n",
       "  <div class=\"bk-root\" id=\"de5662b9-d20b-49b2-a4ca-9687a491b570\" data-root-id=\"8056\"></div>\n"
      ]
     },
     "metadata": {},
     "output_type": "display_data"
    },
    {
     "data": {
      "application/javascript": [
       "(function(root) {\n",
       "  function embed_document(root) {\n",
       "    \n",
       "  var docs_json = {\"9d403167-a06c-4aa0-967e-f2d78be396a3\":{\"roots\":{\"references\":[{\"attributes\":{\"below\":[{\"id\":\"8067\"}],\"center\":[{\"id\":\"8070\"},{\"id\":\"8074\"},{\"id\":\"8112\"}],\"left\":[{\"id\":\"8071\"}],\"plot_height\":450,\"renderers\":[{\"id\":\"8092\"},{\"id\":\"8117\"},{\"id\":\"8122\"},{\"id\":\"8150\"}],\"title\":{\"id\":\"8057\"},\"toolbar\":{\"id\":\"8082\"},\"x_range\":{\"id\":\"8059\"},\"x_scale\":{\"id\":\"8063\"},\"y_range\":{\"id\":\"8061\"},\"y_scale\":{\"id\":\"8065\"}},\"id\":\"8056\",\"subtype\":\"Figure\",\"type\":\"Plot\"},{\"attributes\":{},\"id\":\"8065\",\"type\":\"LinearScale\"},{\"attributes\":{\"data_source\":{\"id\":\"8119\"},\"glyph\":{\"id\":\"8120\"},\"hover_glyph\":null,\"muted_glyph\":null,\"nonselection_glyph\":{\"id\":\"8121\"},\"selection_glyph\":null,\"view\":{\"id\":\"8123\"}},\"id\":\"8122\",\"type\":\"GlyphRenderer\"},{\"attributes\":{\"data\":{\"x\":{\"__ndarray__\":\"AAAA5UcHd0IAAMBKmgd3QgAAgLDsB3dCAABAFj8Id0IAAAB8kQh3QgAAwOHjCHdCAACARzYJd0IAAECtiAl3QgAAABPbCXdCAADAeC0Kd0IAAIDefwp3QgAAQETSCndCAAAAqiQLd0IAAMAPdwt3QgAAgHXJC3dCAABA2xsMd0IAAABBbgx3QgAAwKbADHdCAACADBMNd0IAAEByZQ13QgAAANi3DXdCAADAPQoOd0IAAICjXA53QgAAQAmvDndCAAAAbwEPd0IAAMDUUw93QgAAgDqmD3dCAABAoPgPd0IAAAAGSxB3QgAAwGudEHdCAACA0e8Qd0IAAEA3QhF3QgAAAJ2UEXdCAADAAucRd0IAAIBoORJ3QgAAQM6LEndCAAAANN4Sd0IAAMCZMBN3QgAAgP+CE3dCAABAZdUTd0IAAADLJxR3QgAAwDB6FHdCAACAlswUd0IAAED8HhV3QgAAAGJxFXdCAADAx8MVd0IAAIAtFhZ3QgAAQJNoFndCAAAA+boWd0IAAMBeDRd3QgAAgMRfF3dCAABAKrIXd0IAAACQBBh3QgAAwPVWGHdCAACAW6kYd0IAAEDB+xh3QgAAACdOGXdCAADAjKAZd0IAAIDy8hl3QgAAQFhFGndCAAAAvpcad0IAAMAj6hp3QgAAgIk8G3dCAABA744bd0IAAABV4Rt3QgAAwLozHHdCAACAIIYcd0IAAECG2Bx3QgAAAOwqHXdCAADAUX0dd0IAAIC3zx13QgAAQB0iHndCAAAAg3Qed0IAAMDoxh53QgAAgE4ZH3dCAABAtGsfd0IAAAAavh93QgAAwH8QIHdCAACA5WIgd0IAAEBLtSB3QgAAALEHIXdCAADAFlohd0IAAIB8rCF3QgAAQOL+IXdCAAAASFEid0IAAMCtoyJ3QgAAgBP2IndCAABAeUgjd0IAAADfmiN3QgAAwETtI3dCAACAqj8kd0IAAEAQkiR3QgAAAHbkJHdCAADA2zYld0IAAIBBiSV3QgAAQKfbJXdCAAAADS4md0IAAMBygCZ3QgAAgNjSJndCAABAPiUnd0IAAACkdyd3QgAAwAnKJ3dCAACAbxwod0IAAEDVbih3QgAAADvBKHdCAADAoBMpd0IAAIAGZil3QgAAQGy4KXdCAAAA0goqd0IAAMA3XSp3QgAAgJ2vKndCAABAAwIrd0IAAABpVCt3QgAAwM6mK3dCAACANPkrd0IAAECaSyx3QgAAAACeLHdCAADAZfAsd0IAAIDLQi13QgAAQDGVLXdCAAAAl+ctd0IAAMD8OS53QgAAgGKMLndCAABAyN4ud0IAAAAuMS93QgAAwJODL3dCAACA+dUvd0I=\",\"dtype\":\"float64\",\"shape\":[127]},\"y\":[127,150,164,304,409,506,779,908,1263,1641,2141,2856,3218,4207,5049,5915,6866,7803,8754,9890,11335,12876,14954,16620,18255,18675,20565,22855,23896,25333,26601,28365,29761,30532,31292,31776,32215,32438,32593,32809,33004,32926,32874,32510,32178,32004,31739,31525,31190,31283,31197,30722,29829,28598,27740,27668,27479,26605,26189,25138,24241,23635,23381,22309,21586,21005,19843,19147,18896,18743,18302,17697,17102,16485,15804,14868,14645,14538,13817,13065,12308,11600,11175,11073,10956,10707,10300,9909,9552,9267,9166,8726,8438,8234,7868,7569,7130,6822,6523,6324,6095,5841,5617,5295,5151,5012,4844,4569,4367,4120,3967,3803,3696,3478,3276,3035,2793,2626,2462,2165,1968,1717,1618,1461,1357,1258,1216]},\"selected\":{\"id\":\"8143\"},\"selection_policy\":{\"id\":\"8142\"}},\"id\":\"8089\",\"type\":\"ColumnDataSource\"},{\"attributes\":{\"line_color\":\"GoldenRod\",\"line_width\":4,\"x\":{\"field\":\"x\"},\"y\":{\"field\":\"y\"}},\"id\":\"8120\",\"type\":\"Line\"},{\"attributes\":{\"axis\":{\"id\":\"8071\"},\"dimension\":1,\"ticker\":null},\"id\":\"8074\",\"type\":\"Grid\"},{\"attributes\":{\"label\":{\"value\":\"intensive care\"},\"renderers\":[{\"id\":\"8122\"}]},\"id\":\"8146\",\"type\":\"LegendItem\"},{\"attributes\":{\"months\":[0,4,8]},\"id\":\"8109\",\"type\":\"MonthsTicker\"},{\"attributes\":{\"axis\":{\"id\":\"8067\"},\"ticker\":null},\"id\":\"8070\",\"type\":\"Grid\"},{\"attributes\":{\"fill_color\":{\"value\":\"white\"},\"line_color\":{\"value\":\"GoldenRod\"},\"size\":{\"units\":\"screen\",\"value\":6},\"x\":{\"field\":\"x\"},\"y\":{\"field\":\"y\"}},\"id\":\"8148\",\"type\":\"Circle\"},{\"attributes\":{\"months\":[0,6]},\"id\":\"8110\",\"type\":\"MonthsTicker\"},{\"attributes\":{\"num_minor_ticks\":5,\"tickers\":[{\"id\":\"8100\"},{\"id\":\"8101\"},{\"id\":\"8102\"},{\"id\":\"8103\"},{\"id\":\"8104\"},{\"id\":\"8105\"},{\"id\":\"8106\"},{\"id\":\"8107\"},{\"id\":\"8108\"},{\"id\":\"8109\"},{\"id\":\"8110\"},{\"id\":\"8111\"}]},\"id\":\"8068\",\"type\":\"DatetimeTicker\"},{\"attributes\":{\"source\":{\"id\":\"8119\"}},\"id\":\"8123\",\"type\":\"CDSView\"},{\"attributes\":{},\"id\":\"8143\",\"type\":\"Selection\"},{\"attributes\":{},\"id\":\"8111\",\"type\":\"YearsTicker\"},{\"attributes\":{},\"id\":\"8424\",\"type\":\"Selection\"},{\"attributes\":{},\"id\":\"8425\",\"type\":\"UnionRenderers\"},{\"attributes\":{\"axis_label\":\"Total Hospitalized & Intensive Care\",\"formatter\":{\"id\":\"8156\"},\"minor_tick_in\":-5,\"minor_tick_out\":-3,\"ticker\":{\"id\":\"8072\"}},\"id\":\"8071\",\"type\":\"LinearAxis\"},{\"attributes\":{\"line_color\":\"orange\",\"line_width\":4,\"x\":{\"field\":\"x\"},\"y\":{\"field\":\"y\"}},\"id\":\"8090\",\"type\":\"Line\"},{\"attributes\":{\"line_alpha\":0.1,\"line_color\":\"GoldenRod\",\"line_width\":4,\"x\":{\"field\":\"x\"},\"y\":{\"field\":\"y\"}},\"id\":\"8121\",\"type\":\"Line\"},{\"attributes\":{},\"id\":\"8072\",\"type\":\"BasicTicker\"},{\"attributes\":{\"active_drag\":\"auto\",\"active_inspect\":\"auto\",\"active_multi\":null,\"active_scroll\":\"auto\",\"active_tap\":\"auto\",\"tools\":[{\"id\":\"8075\"},{\"id\":\"8076\"},{\"id\":\"8077\"},{\"id\":\"8078\"},{\"id\":\"8079\"},{\"id\":\"8080\"},{\"id\":\"8157\"}]},\"id\":\"8082\",\"type\":\"Toolbar\"},{\"attributes\":{},\"id\":\"8144\",\"type\":\"UnionRenderers\"},{\"attributes\":{\"axis_label\":\"Date\",\"formatter\":{\"id\":\"8152\"},\"major_label_orientation\":0.7853981633974483,\"minor_tick_in\":-5,\"minor_tick_out\":-3,\"ticker\":{\"id\":\"8068\"}},\"id\":\"8067\",\"type\":\"DatetimeAxis\"},{\"attributes\":{\"days\":[\"%d %B\"]},\"id\":\"8152\",\"type\":\"DatetimeTickFormatter\"},{\"attributes\":{\"data_source\":{\"id\":\"8114\"},\"glyph\":{\"id\":\"8115\"},\"hover_glyph\":null,\"muted_glyph\":null,\"nonselection_glyph\":{\"id\":\"8116\"},\"selection_glyph\":null,\"view\":{\"id\":\"8118\"}},\"id\":\"8117\",\"type\":\"GlyphRenderer\"},{\"attributes\":{},\"id\":\"8145\",\"type\":\"Selection\"},{\"attributes\":{\"text\":\"Total Hospitalized vs Intensive Care: Italy\"},\"id\":\"8057\",\"type\":\"Title\"},{\"attributes\":{\"mantissas\":[1,2,5],\"max_interval\":500.0,\"num_minor_ticks\":0},\"id\":\"8100\",\"type\":\"AdaptiveTicker\"},{\"attributes\":{\"line_alpha\":0.1,\"line_color\":\"orange\",\"line_width\":4,\"x\":{\"field\":\"x\"},\"y\":{\"field\":\"y\"}},\"id\":\"8091\",\"type\":\"Line\"},{\"attributes\":{\"data\":{\"x\":{\"__ndarray__\":\"AAAA5UcHd0IAAMBKmgd3QgAAgLDsB3dCAABAFj8Id0IAAAB8kQh3QgAAwOHjCHdCAACARzYJd0IAAECtiAl3QgAAABPbCXdCAADAeC0Kd0IAAIDefwp3QgAAQETSCndCAAAAqiQLd0IAAMAPdwt3QgAAgHXJC3dCAABA2xsMd0IAAABBbgx3QgAAwKbADHdCAACADBMNd0IAAEByZQ13QgAAANi3DXdCAADAPQoOd0IAAICjXA53QgAAQAmvDndCAAAAbwEPd0IAAMDUUw93QgAAgDqmD3dCAABAoPgPd0IAAAAGSxB3QgAAwGudEHdCAACA0e8Qd0IAAEA3QhF3QgAAAJ2UEXdCAADAAucRd0IAAIBoORJ3QgAAQM6LEndCAAAANN4Sd0IAAMCZMBN3QgAAgP+CE3dCAABAZdUTd0IAAADLJxR3QgAAwDB6FHdCAACAlswUd0IAAED8HhV3QgAAAGJxFXdCAADAx8MVd0IAAIAtFhZ3QgAAQJNoFndCAAAA+boWd0IAAMBeDRd3QgAAgMRfF3dCAABAKrIXd0IAAACQBBh3QgAAwPVWGHdCAACAW6kYd0IAAEDB+xh3QgAAACdOGXdCAADAjKAZd0IAAIDy8hl3QgAAQFhFGndCAAAAvpcad0IAAMAj6hp3QgAAgIk8G3dCAABA744bd0IAAABV4Rt3QgAAwLozHHdCAACAIIYcd0IAAECG2Bx3QgAAAOwqHXdCAADAUX0dd0IAAIC3zx13QgAAQB0iHndCAAAAg3Qed0IAAMDoxh53QgAAgE4ZH3dCAABAtGsfd0IAAAAavh93QgAAwH8QIHdCAACA5WIgd0IAAEBLtSB3QgAAALEHIXdCAADAFlohd0IAAIB8rCF3QgAAQOL+IXdCAAAASFEid0IAAMCtoyJ3QgAAgBP2IndCAABAeUgjd0IAAADfmiN3QgAAwETtI3dCAACAqj8kd0IAAEAQkiR3QgAAAHbkJHdCAADA2zYld0IAAIBBiSV3QgAAQKfbJXdCAAAADS4md0IAAMBygCZ3QgAAgNjSJndCAABAPiUnd0IAAACkdyd3QgAAwAnKJ3dCAACAbxwod0IAAEDVbih3QgAAADvBKHdCAADAoBMpd0IAAIAGZil3QgAAQGy4KXdCAAAA0goqd0IAAMA3XSp3QgAAgJ2vKndCAABAAwIrd0IAAABpVCt3QgAAwM6mK3dCAACANPkrd0IAAECaSyx3QgAAAACeLHdCAADAZfAsd0IAAIDLQi13QgAAQDGVLXdCAAAAl+ctd0IAAMD8OS53QgAAgGKMLndCAABAyN4ud0IAAAAuMS93QgAAwJODL3dCAACA+dUvd0I=\",\"dtype\":\"float64\",\"shape\":[127]},\"y\":[26,35,36,56,64,105,140,166,229,295,351,462,567,650,733,877,1028,1153,1328,1518,1672,1851,2060,2257,2498,2655,2857,3009,3204,3396,3489,3612,3732,3856,3906,3981,4023,4035,4053,4068,3994,3977,3898,3792,3693,3605,3497,3381,3343,3260,3186,3079,2936,2812,2733,2635,2573,2471,2384,2267,2173,2102,2009,1956,1863,1795,1694,1578,1539,1501,1479,1427,1333,1311,1168,1034,1027,999,952,893,855,808,775,762,749,716,676,640,595,572,553,541,521,505,489,475,450,435,424,408,353,338,316,293,287,283,263,249,236,227,220,209,207,177,163,168,161,152,148,127,115,107,103,105,97,98,96]},\"selected\":{\"id\":\"8426\"},\"selection_policy\":{\"id\":\"8425\"}},\"id\":\"8147\",\"type\":\"ColumnDataSource\"},{\"attributes\":{\"months\":[0,2,4,6,8,10]},\"id\":\"8108\",\"type\":\"MonthsTicker\"},{\"attributes\":{\"label\":{\"value\":\"total hospitalized\"},\"renderers\":[{\"id\":\"8092\"}]},\"id\":\"8113\",\"type\":\"LegendItem\"},{\"attributes\":{},\"id\":\"8075\",\"type\":\"PanTool\"},{\"attributes\":{\"source\":{\"id\":\"8147\"}},\"id\":\"8151\",\"type\":\"CDSView\"},{\"attributes\":{\"base\":24,\"mantissas\":[1,2,4,6,8,12],\"max_interval\":43200000.0,\"min_interval\":3600000.0,\"num_minor_ticks\":0},\"id\":\"8102\",\"type\":\"AdaptiveTicker\"},{\"attributes\":{},\"id\":\"8063\",\"type\":\"LinearScale\"},{\"attributes\":{},\"id\":\"8078\",\"type\":\"SaveTool\"},{\"attributes\":{\"data\":{\"x\":{\"__ndarray__\":\"AAAA5UcHd0IAAMBKmgd3QgAAgLDsB3dCAABAFj8Id0IAAAB8kQh3QgAAwOHjCHdCAACARzYJd0IAAECtiAl3QgAAABPbCXdCAADAeC0Kd0IAAIDefwp3QgAAQETSCndCAAAAqiQLd0IAAMAPdwt3QgAAgHXJC3dCAABA2xsMd0IAAABBbgx3QgAAwKbADHdCAACADBMNd0IAAEByZQ13QgAAANi3DXdCAADAPQoOd0IAAICjXA53QgAAQAmvDndCAAAAbwEPd0IAAMDUUw93QgAAgDqmD3dCAABAoPgPd0IAAAAGSxB3QgAAwGudEHdCAACA0e8Qd0IAAEA3QhF3QgAAAJ2UEXdCAADAAucRd0IAAIBoORJ3QgAAQM6LEndCAAAANN4Sd0IAAMCZMBN3QgAAgP+CE3dCAABAZdUTd0IAAADLJxR3QgAAwDB6FHdCAACAlswUd0IAAED8HhV3QgAAAGJxFXdCAADAx8MVd0IAAIAtFhZ3QgAAQJNoFndCAAAA+boWd0IAAMBeDRd3QgAAgMRfF3dCAABAKrIXd0IAAACQBBh3QgAAwPVWGHdCAACAW6kYd0IAAEDB+xh3QgAAACdOGXdCAADAjKAZd0IAAIDy8hl3QgAAQFhFGndCAAAAvpcad0IAAMAj6hp3QgAAgIk8G3dCAABA744bd0IAAABV4Rt3QgAAwLozHHdCAACAIIYcd0IAAECG2Bx3QgAAAOwqHXdCAADAUX0dd0IAAIC3zx13QgAAQB0iHndCAAAAg3Qed0IAAMDoxh53QgAAgE4ZH3dCAABAtGsfd0IAAAAavh93QgAAwH8QIHdCAACA5WIgd0IAAEBLtSB3QgAAALEHIXdCAADAFlohd0IAAIB8rCF3QgAAQOL+IXdCAAAASFEid0IAAMCtoyJ3QgAAgBP2IndCAABAeUgjd0IAAADfmiN3QgAAwETtI3dCAACAqj8kd0IAAEAQkiR3QgAAAHbkJHdCAADA2zYld0IAAIBBiSV3QgAAQKfbJXdCAAAADS4md0IAAMBygCZ3QgAAgNjSJndCAABAPiUnd0IAAACkdyd3QgAAwAnKJ3dCAACAbxwod0IAAEDVbih3QgAAADvBKHdCAADAoBMpd0IAAIAGZil3QgAAQGy4KXdCAAAA0goqd0IAAMA3XSp3QgAAgJ2vKndCAABAAwIrd0IAAABpVCt3QgAAwM6mK3dCAACANPkrd0IAAECaSyx3QgAAAACeLHdCAADAZfAsd0IAAIDLQi13QgAAQDGVLXdCAAAAl+ctd0IAAMD8OS53QgAAgGKMLndCAABAyN4ud0IAAAAuMS93QgAAwJODL3dCAACA+dUvd0I=\",\"dtype\":\"float64\",\"shape\":[127]},\"y\":[26,35,36,56,64,105,140,166,229,295,351,462,567,650,733,877,1028,1153,1328,1518,1672,1851,2060,2257,2498,2655,2857,3009,3204,3396,3489,3612,3732,3856,3906,3981,4023,4035,4053,4068,3994,3977,3898,3792,3693,3605,3497,3381,3343,3260,3186,3079,2936,2812,2733,2635,2573,2471,2384,2267,2173,2102,2009,1956,1863,1795,1694,1578,1539,1501,1479,1427,1333,1311,1168,1034,1027,999,952,893,855,808,775,762,749,716,676,640,595,572,553,541,521,505,489,475,450,435,424,408,353,338,316,293,287,283,263,249,236,227,220,209,207,177,163,168,161,152,148,127,115,107,103,105,97,98,96]},\"selected\":{\"id\":\"8424\"},\"selection_policy\":{\"id\":\"8423\"}},\"id\":\"8119\",\"type\":\"ColumnDataSource\"},{\"attributes\":{\"base\":60,\"mantissas\":[1,2,5,10,15,20,30],\"max_interval\":1800000.0,\"min_interval\":1000.0,\"num_minor_ticks\":0},\"id\":\"8101\",\"type\":\"AdaptiveTicker\"},{\"attributes\":{\"data_source\":{\"id\":\"8147\"},\"glyph\":{\"id\":\"8148\"},\"hover_glyph\":null,\"muted_glyph\":null,\"nonselection_glyph\":{\"id\":\"8149\"},\"selection_glyph\":null,\"view\":{\"id\":\"8151\"}},\"id\":\"8150\",\"type\":\"GlyphRenderer\"},{\"attributes\":{\"fill_color\":{\"value\":\"white\"},\"line_color\":{\"value\":\"orange\"},\"size\":{\"units\":\"screen\",\"value\":6},\"x\":{\"field\":\"x\"},\"y\":{\"field\":\"y\"}},\"id\":\"8115\",\"type\":\"Circle\"},{\"attributes\":{\"source\":{\"id\":\"8114\"}},\"id\":\"8118\",\"type\":\"CDSView\"},{\"attributes\":{},\"id\":\"8423\",\"type\":\"UnionRenderers\"},{\"attributes\":{\"overlay\":{\"id\":\"8081\"}},\"id\":\"8077\",\"type\":\"BoxZoomTool\"},{\"attributes\":{},\"id\":\"8076\",\"type\":\"WheelZoomTool\"},{\"attributes\":{\"callback\":null,\"formatters\":{\"@x\":\"datetime\"},\"mode\":\"vline\",\"tooltips\":[[\"date\",\"@x{%d %B}\"],[\"hospitalized OR intensive care\",\"@y{0.}\"]]},\"id\":\"8157\",\"type\":\"HoverTool\"},{\"attributes\":{\"days\":[1,2,3,4,5,6,7,8,9,10,11,12,13,14,15,16,17,18,19,20,21,22,23,24,25,26,27,28,29,30,31]},\"id\":\"8103\",\"type\":\"DaysTicker\"},{\"attributes\":{\"source\":{\"id\":\"8089\"}},\"id\":\"8093\",\"type\":\"CDSView\"},{\"attributes\":{\"fill_alpha\":{\"value\":0.1},\"fill_color\":{\"value\":\"white\"},\"line_alpha\":{\"value\":0.1},\"line_color\":{\"value\":\"GoldenRod\"},\"size\":{\"units\":\"screen\",\"value\":6},\"x\":{\"field\":\"x\"},\"y\":{\"field\":\"y\"}},\"id\":\"8149\",\"type\":\"Circle\"},{\"attributes\":{},\"id\":\"8059\",\"type\":\"DataRange1d\"},{\"attributes\":{\"fill_alpha\":{\"value\":0.1},\"fill_color\":{\"value\":\"white\"},\"line_alpha\":{\"value\":0.1},\"line_color\":{\"value\":\"orange\"},\"size\":{\"units\":\"screen\",\"value\":6},\"x\":{\"field\":\"x\"},\"y\":{\"field\":\"y\"}},\"id\":\"8116\",\"type\":\"Circle\"},{\"attributes\":{\"days\":[1,4,7,10,13,16,19,22,25,28]},\"id\":\"8104\",\"type\":\"DaysTicker\"},{\"attributes\":{},\"id\":\"8079\",\"type\":\"ResetTool\"},{\"attributes\":{\"data\":{\"x\":{\"__ndarray__\":\"AAAA5UcHd0IAAMBKmgd3QgAAgLDsB3dCAABAFj8Id0IAAAB8kQh3QgAAwOHjCHdCAACARzYJd0IAAECtiAl3QgAAABPbCXdCAADAeC0Kd0IAAIDefwp3QgAAQETSCndCAAAAqiQLd0IAAMAPdwt3QgAAgHXJC3dCAABA2xsMd0IAAABBbgx3QgAAwKbADHdCAACADBMNd0IAAEByZQ13QgAAANi3DXdCAADAPQoOd0IAAICjXA53QgAAQAmvDndCAAAAbwEPd0IAAMDUUw93QgAAgDqmD3dCAABAoPgPd0IAAAAGSxB3QgAAwGudEHdCAACA0e8Qd0IAAEA3QhF3QgAAAJ2UEXdCAADAAucRd0IAAIBoORJ3QgAAQM6LEndCAAAANN4Sd0IAAMCZMBN3QgAAgP+CE3dCAABAZdUTd0IAAADLJxR3QgAAwDB6FHdCAACAlswUd0IAAED8HhV3QgAAAGJxFXdCAADAx8MVd0IAAIAtFhZ3QgAAQJNoFndCAAAA+boWd0IAAMBeDRd3QgAAgMRfF3dCAABAKrIXd0IAAACQBBh3QgAAwPVWGHdCAACAW6kYd0IAAEDB+xh3QgAAACdOGXdCAADAjKAZd0IAAIDy8hl3QgAAQFhFGndCAAAAvpcad0IAAMAj6hp3QgAAgIk8G3dCAABA744bd0IAAABV4Rt3QgAAwLozHHdCAACAIIYcd0IAAECG2Bx3QgAAAOwqHXdCAADAUX0dd0IAAIC3zx13QgAAQB0iHndCAAAAg3Qed0IAAMDoxh53QgAAgE4ZH3dCAABAtGsfd0IAAAAavh93QgAAwH8QIHdCAACA5WIgd0IAAEBLtSB3QgAAALEHIXdCAADAFlohd0IAAIB8rCF3QgAAQOL+IXdCAAAASFEid0IAAMCtoyJ3QgAAgBP2IndCAABAeUgjd0IAAADfmiN3QgAAwETtI3dCAACAqj8kd0IAAEAQkiR3QgAAAHbkJHdCAADA2zYld0IAAIBBiSV3QgAAQKfbJXdCAAAADS4md0IAAMBygCZ3QgAAgNjSJndCAABAPiUnd0IAAACkdyd3QgAAwAnKJ3dCAACAbxwod0IAAEDVbih3QgAAADvBKHdCAADAoBMpd0IAAIAGZil3QgAAQGy4KXdCAAAA0goqd0IAAMA3XSp3QgAAgJ2vKndCAABAAwIrd0IAAABpVCt3QgAAwM6mK3dCAACANPkrd0IAAECaSyx3QgAAAACeLHdCAADAZfAsd0IAAIDLQi13QgAAQDGVLXdCAAAAl+ctd0IAAMD8OS53QgAAgGKMLndCAABAyN4ud0IAAAAuMS93QgAAwJODL3dCAACA+dUvd0I=\",\"dtype\":\"float64\",\"shape\":[127]},\"y\":[127,150,164,304,409,506,779,908,1263,1641,2141,2856,3218,4207,5049,5915,6866,7803,8754,9890,11335,12876,14954,16620,18255,18675,20565,22855,23896,25333,26601,28365,29761,30532,31292,31776,32215,32438,32593,32809,33004,32926,32874,32510,32178,32004,31739,31525,31190,31283,31197,30722,29829,28598,27740,27668,27479,26605,26189,25138,24241,23635,23381,22309,21586,21005,19843,19147,18896,18743,18302,17697,17102,16485,15804,14868,14645,14538,13817,13065,12308,11600,11175,11073,10956,10707,10300,9909,9552,9267,9166,8726,8438,8234,7868,7569,7130,6822,6523,6324,6095,5841,5617,5295,5151,5012,4844,4569,4367,4120,3967,3803,3696,3478,3276,3035,2793,2626,2462,2165,1968,1717,1618,1461,1357,1258,1216]},\"selected\":{\"id\":\"8145\"},\"selection_policy\":{\"id\":\"8144\"}},\"id\":\"8114\",\"type\":\"ColumnDataSource\"},{\"attributes\":{\"days\":[1,8,15,22]},\"id\":\"8105\",\"type\":\"DaysTicker\"},{\"attributes\":{\"items\":[{\"id\":\"8113\"},{\"id\":\"8146\"}],\"location\":\"top_left\"},\"id\":\"8112\",\"type\":\"Legend\"},{\"attributes\":{},\"id\":\"8080\",\"type\":\"HelpTool\"},{\"attributes\":{},\"id\":\"8142\",\"type\":\"UnionRenderers\"},{\"attributes\":{\"bottom_units\":\"screen\",\"fill_alpha\":0.5,\"fill_color\":\"lightgrey\",\"left_units\":\"screen\",\"level\":\"overlay\",\"line_alpha\":1.0,\"line_color\":\"black\",\"line_dash\":[4,4],\"line_width\":2,\"render_mode\":\"css\",\"right_units\":\"screen\",\"top_units\":\"screen\"},\"id\":\"8081\",\"type\":\"BoxAnnotation\"},{\"attributes\":{\"days\":[1,15]},\"id\":\"8106\",\"type\":\"DaysTicker\"},{\"attributes\":{},\"id\":\"8156\",\"type\":\"NumeralTickFormatter\"},{\"attributes\":{\"months\":[0,1,2,3,4,5,6,7,8,9,10,11]},\"id\":\"8107\",\"type\":\"MonthsTicker\"},{\"attributes\":{},\"id\":\"8426\",\"type\":\"Selection\"},{\"attributes\":{\"data_source\":{\"id\":\"8089\"},\"glyph\":{\"id\":\"8090\"},\"hover_glyph\":null,\"muted_glyph\":null,\"nonselection_glyph\":{\"id\":\"8091\"},\"selection_glyph\":null,\"view\":{\"id\":\"8093\"}},\"id\":\"8092\",\"type\":\"GlyphRenderer\"},{\"attributes\":{},\"id\":\"8061\",\"type\":\"DataRange1d\"}],\"root_ids\":[\"8056\"]},\"title\":\"Bokeh Application\",\"version\":\"2.0.2\"}};\n",
       "  var render_items = [{\"docid\":\"9d403167-a06c-4aa0-967e-f2d78be396a3\",\"root_ids\":[\"8056\"],\"roots\":{\"8056\":\"de5662b9-d20b-49b2-a4ca-9687a491b570\"}}];\n",
       "  root.Bokeh.embed.embed_items_notebook(docs_json, render_items);\n",
       "\n",
       "  }\n",
       "  if (root.Bokeh !== undefined) {\n",
       "    embed_document(root);\n",
       "  } else {\n",
       "    var attempts = 0;\n",
       "    var timer = setInterval(function(root) {\n",
       "      if (root.Bokeh !== undefined) {\n",
       "        clearInterval(timer);\n",
       "        embed_document(root);\n",
       "      } else {\n",
       "        attempts++;\n",
       "        if (attempts > 100) {\n",
       "          clearInterval(timer);\n",
       "          console.log(\"Bokeh: ERROR: Unable to run BokehJS code because BokehJS library is missing\");\n",
       "        }\n",
       "      }\n",
       "    }, 10, root)\n",
       "  }\n",
       "})(window);"
      ],
      "application/vnd.bokehjs_exec.v0+json": ""
     },
     "metadata": {
      "application/vnd.bokehjs_exec.v0+json": {
       "id": "8056"
      }
     },
     "output_type": "display_data"
    }
   ],
   "source": [
    "p_hospitalized_intensivecare_Italy = bokeh_plot_2_lines(x=time_date_new, y=total_hospital_italy, yy=intensive_care_italy, \n",
    "                  title='Total Hospitalized vs Intensive Care: Italy', \n",
    "                  file_name=\"hospitalized_intensivecare_Italy.html\", \n",
    "                  x_label='Date', y_label='Total Hospitalized & Intensive Care', \n",
    "                  legend_1='total hospitalized', legend_2='intensive care',\n",
    "                  x_label_hover='date' , y_label_hover='hospitalized OR intensive care' , \n",
    "                  color_1='orange', color_2='GoldenRod', y_minmax=None)\n",
    "\n",
    "show(p_hospitalized_intensivecare_Italy)"
   ]
  },
  {
   "cell_type": "markdown",
   "metadata": {},
   "source": [
    "----------"
   ]
  },
  {
   "cell_type": "markdown",
   "metadata": {},
   "source": [
    "-------------------------\n",
    "# Fitting"
   ]
  },
  {
   "cell_type": "code",
   "execution_count": 40,
   "metadata": {},
   "outputs": [],
   "source": [
    "from scipy.optimize import curve_fit\n",
    "from scipy.special import gamma\n",
    "\n",
    "def model_exp(x,a,b):\n",
    "    return a * np.exp(b * x)\n",
    "\n",
    "def model_population(x,K,r,P_0):\n",
    "    den = 1 + ((K - P_0) / P_0) * np.exp(- r * x)\n",
    "    return K / den\n",
    "\n",
    "def model_Gamma_distribution(x,alpha,beta,Kmax):\n",
    "    return Kmax * np.abs(beta)**(np.abs(alpha) + 1) * x**(np.abs(alpha)) * np.exp(- np.abs(beta) * x) / gamma((np.abs(alpha) + 1))"
   ]
  },
  {
   "cell_type": "markdown",
   "metadata": {},
   "source": [
    "------------------"
   ]
  },
  {
   "cell_type": "markdown",
   "metadata": {},
   "source": [
    "### ----- Exponential Fitting -----"
   ]
  },
  {
   "cell_type": "code",
   "execution_count": 41,
   "metadata": {},
   "outputs": [
    {
     "data": {
      "text/plain": [
       "(1268.6044974646502, 0.13890844390214907)"
      ]
     },
     "execution_count": 41,
     "metadata": {},
     "output_type": "execute_result"
    }
   ],
   "source": [
    "fit_range = 28   # best fit when fit_range = 28 namely March 22\n",
    "xdata = np.linspace(0, fit_range, fit_range)\n",
    "init_guess = [5000, 0.001]\n",
    "fit = curve_fit(model_exp, xdata, total_cases_italy.loc[0:(fit_range-1)], p0=init_guess)\n",
    "ans, cov = fit\n",
    "fit_a, fit_b = ans\n",
    "fit_a, fit_b"
   ]
  },
  {
   "cell_type": "code",
   "execution_count": 42,
   "metadata": {},
   "outputs": [
    {
     "data": {
      "text/plain": [
       "array([[ 9.92195154e+03, -3.07812476e-01],\n",
       "       [-3.07812476e-01,  9.74343219e-06]])"
      ]
     },
     "execution_count": 42,
     "metadata": {},
     "output_type": "execute_result"
    }
   ],
   "source": [
    "cov"
   ]
  },
  {
   "cell_type": "code",
   "execution_count": 43,
   "metadata": {},
   "outputs": [
    {
     "data": {
      "text/plain": [
       "array([9.96089933e+01, 3.12144713e-03])"
      ]
     },
     "execution_count": 43,
     "metadata": {},
     "output_type": "execute_result"
    }
   ],
   "source": [
    "np.sqrt(np.diag(cov))"
   ]
  },
  {
   "cell_type": "code",
   "execution_count": 44,
   "metadata": {},
   "outputs": [
    {
     "data": {
      "text/plain": [
       "array([ 1268.60449746,  1465.16912064,  1692.1905577 ,  1954.38795648,\n",
       "        2257.21167574,  2606.95658312,  3010.89290796,  3477.41736932,\n",
       "        4016.22772053,  4638.52433861,  5357.24304922,  6187.32402664,\n",
       "        7146.02235868,  8253.26673226,  9532.07369566, 11009.02610895,\n",
       "       12714.82572808, 14684.9314095 , 16960.29620175, 19588.21864602,\n",
       "       22623.32598204, 26128.70969733, 30177.23702472, 34853.06565057,\n",
       "       40253.3931204 , 46490.47730694, 53693.96994092, 62013.61171197])"
      ]
     },
     "execution_count": 44,
     "metadata": {},
     "output_type": "execute_result"
    }
   ],
   "source": [
    "ydata = model_exp(xdata,fit_a,fit_b)\n",
    "ydata"
   ]
  },
  {
   "cell_type": "code",
   "execution_count": 45,
   "metadata": {},
   "outputs": [
    {
     "data": {
      "text/html": [
       "\n",
       "\n",
       "\n",
       "\n",
       "\n",
       "\n",
       "  <div class=\"bk-root\" id=\"6e3479c8-377d-4126-bd32-b710f02dd62f\" data-root-id=\"8884\"></div>\n"
      ]
     },
     "metadata": {},
     "output_type": "display_data"
    },
    {
     "data": {
      "application/javascript": [
       "(function(root) {\n",
       "  function embed_document(root) {\n",
       "    \n",
       "  var docs_json = {\"0a4cd090-8a1c-47f6-aa74-f50dee6b4bbf\":{\"roots\":{\"references\":[{\"attributes\":{\"below\":[{\"id\":\"8895\"}],\"center\":[{\"id\":\"8898\"},{\"id\":\"8902\"},{\"id\":\"8940\"}],\"left\":[{\"id\":\"8899\"}],\"plot_height\":450,\"renderers\":[{\"id\":\"8920\"},{\"id\":\"8945\"},{\"id\":\"8950\"},{\"id\":\"8978\"}],\"title\":{\"id\":\"8885\"},\"toolbar\":{\"id\":\"8910\"},\"x_range\":{\"id\":\"8887\"},\"x_scale\":{\"id\":\"8891\"},\"y_range\":{\"id\":\"8889\"},\"y_scale\":{\"id\":\"8893\"}},\"id\":\"8884\",\"subtype\":\"Figure\",\"type\":\"Plot\"},{\"attributes\":{\"fill_color\":{\"value\":\"white\"},\"line_color\":{\"value\":\"red\"},\"size\":{\"units\":\"screen\",\"value\":6},\"x\":{\"field\":\"x\"},\"y\":{\"field\":\"y\"}},\"id\":\"8976\",\"type\":\"Circle\"},{\"attributes\":{\"days\":[\"%d %B\"]},\"id\":\"8980\",\"type\":\"DatetimeTickFormatter\"},{\"attributes\":{\"data\":{\"x\":{\"__ndarray__\":\"AAAA5UcHd0IAAMBKmgd3QgAAgLDsB3dCAABAFj8Id0IAAAB8kQh3QgAAwOHjCHdCAACARzYJd0IAAECtiAl3QgAAABPbCXdCAADAeC0Kd0IAAIDefwp3QgAAQETSCndCAAAAqiQLd0IAAMAPdwt3QgAAgHXJC3dCAABA2xsMd0IAAABBbgx3QgAAwKbADHdCAACADBMNd0IAAEByZQ13QgAAANi3DXdCAADAPQoOd0IAAICjXA53QgAAQAmvDndCAAAAbwEPd0IAAMDUUw93QgAAgDqmD3dCAABAoPgPd0I=\",\"dtype\":\"float64\",\"shape\":[28]},\"y\":[229,322,400,650,888,1128,1694,2036,2502,3089,3858,4636,5883,7375,9172,10149,12462,15113,17660,21157,24747,27980,31506,35713,41035,47021,53578,59138]},\"selected\":{\"id\":\"8971\"},\"selection_policy\":{\"id\":\"8970\"}},\"id\":\"8917\",\"type\":\"ColumnDataSource\"},{\"attributes\":{\"source\":{\"id\":\"8917\"}},\"id\":\"8921\",\"type\":\"CDSView\"},{\"attributes\":{\"data_source\":{\"id\":\"8917\"},\"glyph\":{\"id\":\"8918\"},\"hover_glyph\":null,\"muted_glyph\":null,\"nonselection_glyph\":{\"id\":\"8919\"},\"selection_glyph\":null,\"view\":{\"id\":\"8921\"}},\"id\":\"8920\",\"type\":\"GlyphRenderer\"},{\"attributes\":{\"label\":{\"value\":\"total cases\"},\"renderers\":[{\"id\":\"8920\"}]},\"id\":\"8941\",\"type\":\"LegendItem\"},{\"attributes\":{\"data\":{\"x\":{\"__ndarray__\":\"AAAA5UcHd0IAAMBKmgd3QgAAgLDsB3dCAABAFj8Id0IAAAB8kQh3QgAAwOHjCHdCAACARzYJd0IAAECtiAl3QgAAABPbCXdCAADAeC0Kd0IAAIDefwp3QgAAQETSCndCAAAAqiQLd0IAAMAPdwt3QgAAgHXJC3dCAABA2xsMd0IAAABBbgx3QgAAwKbADHdCAACADBMNd0IAAEByZQ13QgAAANi3DXdCAADAPQoOd0IAAICjXA53QgAAQAmvDndCAAAAbwEPd0IAAMDUUw93QgAAgDqmD3dCAABAoPgPd0I=\",\"dtype\":\"float64\",\"shape\":[28]},\"y\":{\"__ndarray__\":\"wCRiAWvSk0DNz/UtreSWQNLhjiHDcJpAbnR2RI2JnkBPQMNgbKKhQE4fQ8XpXaRA8Gw7K8mFp0ALoW6x1SqrQPvhyJd0YK9ARxsOO4YeskDKRXk4Pu20QMzkaPNSK7hAHWVMuQXqu0D8WEgkoh7AQFoG3G4JnsJAgL2JV4OAxUB/JHWxadXIQKozbTh3rsxAUy749BKQ0EAG20v+DSHTQDDE49zUF9ZA9Vmuay2E2UAktmkrT3jdQKE7zxmiBOFAgjlxlKyn40CbMRlGT7PmQGKLwQm/N+pAjf0kk7NH7kA=\",\"dtype\":\"float64\",\"shape\":[28]}},\"selected\":{\"id\":\"9278\"},\"selection_policy\":{\"id\":\"9277\"}},\"id\":\"8975\",\"type\":\"ColumnDataSource\"},{\"attributes\":{\"days\":[1,15]},\"id\":\"8934\",\"type\":\"DaysTicker\"},{\"attributes\":{\"text\":\"Exponential Fitting Total Cases: Italy\"},\"id\":\"8885\",\"type\":\"Title\"},{\"attributes\":{\"source\":{\"id\":\"8975\"}},\"id\":\"8979\",\"type\":\"CDSView\"},{\"attributes\":{\"bottom_units\":\"screen\",\"fill_alpha\":0.5,\"fill_color\":\"lightgrey\",\"left_units\":\"screen\",\"level\":\"overlay\",\"line_alpha\":1.0,\"line_color\":\"black\",\"line_dash\":[4,4],\"line_width\":2,\"render_mode\":\"css\",\"right_units\":\"screen\",\"top_units\":\"screen\"},\"id\":\"8909\",\"type\":\"BoxAnnotation\"},{\"attributes\":{\"active_drag\":\"auto\",\"active_inspect\":\"auto\",\"active_multi\":null,\"active_scroll\":\"auto\",\"active_tap\":\"auto\",\"tools\":[{\"id\":\"8903\"},{\"id\":\"8904\"},{\"id\":\"8905\"},{\"id\":\"8906\"},{\"id\":\"8907\"},{\"id\":\"8908\"},{\"id\":\"8985\"}]},\"id\":\"8910\",\"type\":\"Toolbar\"},{\"attributes\":{\"line_color\":\"red\",\"line_width\":4,\"x\":{\"field\":\"x\"},\"y\":{\"field\":\"y\"}},\"id\":\"8948\",\"type\":\"Line\"},{\"attributes\":{\"months\":[0,1,2,3,4,5,6,7,8,9,10,11]},\"id\":\"8935\",\"type\":\"MonthsTicker\"},{\"attributes\":{},\"id\":\"8889\",\"type\":\"DataRange1d\"},{\"attributes\":{\"data_source\":{\"id\":\"8975\"},\"glyph\":{\"id\":\"8976\"},\"hover_glyph\":null,\"muted_glyph\":null,\"nonselection_glyph\":{\"id\":\"8977\"},\"selection_glyph\":null,\"view\":{\"id\":\"8979\"}},\"id\":\"8978\",\"type\":\"GlyphRenderer\"},{\"attributes\":{\"line_color\":\"blue\",\"line_width\":4,\"x\":{\"field\":\"x\"},\"y\":{\"field\":\"y\"}},\"id\":\"8918\",\"type\":\"Line\"},{\"attributes\":{\"months\":[0,2,4,6,8,10]},\"id\":\"8936\",\"type\":\"MonthsTicker\"},{\"attributes\":{},\"id\":\"8903\",\"type\":\"PanTool\"},{\"attributes\":{},\"id\":\"8887\",\"type\":\"DataRange1d\"},{\"attributes\":{\"months\":[0,4,8]},\"id\":\"8937\",\"type\":\"MonthsTicker\"},{\"attributes\":{},\"id\":\"8904\",\"type\":\"WheelZoomTool\"},{\"attributes\":{},\"id\":\"8891\",\"type\":\"LinearScale\"},{\"attributes\":{\"fill_color\":{\"value\":\"white\"},\"line_color\":{\"value\":\"blue\"},\"size\":{\"units\":\"screen\",\"value\":6},\"x\":{\"field\":\"x\"},\"y\":{\"field\":\"y\"}},\"id\":\"8943\",\"type\":\"Circle\"},{\"attributes\":{\"fill_alpha\":{\"value\":0.1},\"fill_color\":{\"value\":\"white\"},\"line_alpha\":{\"value\":0.1},\"line_color\":{\"value\":\"red\"},\"size\":{\"units\":\"screen\",\"value\":6},\"x\":{\"field\":\"x\"},\"y\":{\"field\":\"y\"}},\"id\":\"8977\",\"type\":\"Circle\"},{\"attributes\":{\"months\":[0,6]},\"id\":\"8938\",\"type\":\"MonthsTicker\"},{\"attributes\":{\"overlay\":{\"id\":\"8909\"}},\"id\":\"8905\",\"type\":\"BoxZoomTool\"},{\"attributes\":{},\"id\":\"8970\",\"type\":\"UnionRenderers\"},{\"attributes\":{\"items\":[{\"id\":\"8941\"},{\"id\":\"8974\"}],\"location\":\"top_left\"},\"id\":\"8940\",\"type\":\"Legend\"},{\"attributes\":{},\"id\":\"8984\",\"type\":\"NumeralTickFormatter\"},{\"attributes\":{},\"id\":\"8939\",\"type\":\"YearsTicker\"},{\"attributes\":{},\"id\":\"8906\",\"type\":\"SaveTool\"},{\"attributes\":{\"line_alpha\":0.1,\"line_color\":\"blue\",\"line_width\":4,\"x\":{\"field\":\"x\"},\"y\":{\"field\":\"y\"}},\"id\":\"8919\",\"type\":\"Line\"},{\"attributes\":{},\"id\":\"8893\",\"type\":\"LinearScale\"},{\"attributes\":{\"callback\":null,\"formatters\":{\"@x\":\"datetime\"},\"mode\":\"vline\",\"tooltips\":[[\"date\",\"@x{%d %B}\"],[\"total cases OR fitting\",\"@y{0.}\"]]},\"id\":\"8985\",\"type\":\"HoverTool\"},{\"attributes\":{},\"id\":\"8907\",\"type\":\"ResetTool\"},{\"attributes\":{},\"id\":\"9276\",\"type\":\"Selection\"},{\"attributes\":{\"data_source\":{\"id\":\"8947\"},\"glyph\":{\"id\":\"8948\"},\"hover_glyph\":null,\"muted_glyph\":null,\"nonselection_glyph\":{\"id\":\"8949\"},\"selection_glyph\":null,\"view\":{\"id\":\"8951\"}},\"id\":\"8950\",\"type\":\"GlyphRenderer\"},{\"attributes\":{},\"id\":\"9277\",\"type\":\"UnionRenderers\"},{\"attributes\":{\"line_alpha\":0.1,\"line_color\":\"red\",\"line_width\":4,\"x\":{\"field\":\"x\"},\"y\":{\"field\":\"y\"}},\"id\":\"8949\",\"type\":\"Line\"},{\"attributes\":{\"mantissas\":[1,2,5],\"max_interval\":500.0,\"num_minor_ticks\":0},\"id\":\"8928\",\"type\":\"AdaptiveTicker\"},{\"attributes\":{},\"id\":\"8908\",\"type\":\"HelpTool\"},{\"attributes\":{\"source\":{\"id\":\"8947\"}},\"id\":\"8951\",\"type\":\"CDSView\"},{\"attributes\":{},\"id\":\"8973\",\"type\":\"Selection\"},{\"attributes\":{\"num_minor_ticks\":5,\"tickers\":[{\"id\":\"8928\"},{\"id\":\"8929\"},{\"id\":\"8930\"},{\"id\":\"8931\"},{\"id\":\"8932\"},{\"id\":\"8933\"},{\"id\":\"8934\"},{\"id\":\"8935\"},{\"id\":\"8936\"},{\"id\":\"8937\"},{\"id\":\"8938\"},{\"id\":\"8939\"}]},\"id\":\"8896\",\"type\":\"DatetimeTicker\"},{\"attributes\":{\"days\":[1,8,15,22]},\"id\":\"8933\",\"type\":\"DaysTicker\"},{\"attributes\":{\"label\":{\"value\":\"exponential fitting\"},\"renderers\":[{\"id\":\"8950\"}]},\"id\":\"8974\",\"type\":\"LegendItem\"},{\"attributes\":{\"data\":{\"x\":{\"__ndarray__\":\"AAAA5UcHd0IAAMBKmgd3QgAAgLDsB3dCAABAFj8Id0IAAAB8kQh3QgAAwOHjCHdCAACARzYJd0IAAECtiAl3QgAAABPbCXdCAADAeC0Kd0IAAIDefwp3QgAAQETSCndCAAAAqiQLd0IAAMAPdwt3QgAAgHXJC3dCAABA2xsMd0IAAABBbgx3QgAAwKbADHdCAACADBMNd0IAAEByZQ13QgAAANi3DXdCAADAPQoOd0IAAICjXA53QgAAQAmvDndCAAAAbwEPd0IAAMDUUw93QgAAgDqmD3dCAABAoPgPd0I=\",\"dtype\":\"float64\",\"shape\":[28]},\"y\":{\"__ndarray__\":\"wCRiAWvSk0DNz/UtreSWQNLhjiHDcJpAbnR2RI2JnkBPQMNgbKKhQE4fQ8XpXaRA8Gw7K8mFp0ALoW6x1SqrQPvhyJd0YK9ARxsOO4YeskDKRXk4Pu20QMzkaPNSK7hAHWVMuQXqu0D8WEgkoh7AQFoG3G4JnsJAgL2JV4OAxUB/JHWxadXIQKozbTh3rsxAUy749BKQ0EAG20v+DSHTQDDE49zUF9ZA9Vmuay2E2UAktmkrT3jdQKE7zxmiBOFAgjlxlKyn40CbMRlGT7PmQGKLwQm/N+pAjf0kk7NH7kA=\",\"dtype\":\"float64\",\"shape\":[28]}},\"selected\":{\"id\":\"9276\"},\"selection_policy\":{\"id\":\"9275\"}},\"id\":\"8947\",\"type\":\"ColumnDataSource\"},{\"attributes\":{\"axis\":{\"id\":\"8895\"},\"ticker\":null},\"id\":\"8898\",\"type\":\"Grid\"},{\"attributes\":{\"data\":{\"x\":{\"__ndarray__\":\"AAAA5UcHd0IAAMBKmgd3QgAAgLDsB3dCAABAFj8Id0IAAAB8kQh3QgAAwOHjCHdCAACARzYJd0IAAECtiAl3QgAAABPbCXdCAADAeC0Kd0IAAIDefwp3QgAAQETSCndCAAAAqiQLd0IAAMAPdwt3QgAAgHXJC3dCAABA2xsMd0IAAABBbgx3QgAAwKbADHdCAACADBMNd0IAAEByZQ13QgAAANi3DXdCAADAPQoOd0IAAICjXA53QgAAQAmvDndCAAAAbwEPd0IAAMDUUw93QgAAgDqmD3dCAABAoPgPd0I=\",\"dtype\":\"float64\",\"shape\":[28]},\"y\":[229,322,400,650,888,1128,1694,2036,2502,3089,3858,4636,5883,7375,9172,10149,12462,15113,17660,21157,24747,27980,31506,35713,41035,47021,53578,59138]},\"selected\":{\"id\":\"8973\"},\"selection_policy\":{\"id\":\"8972\"}},\"id\":\"8942\",\"type\":\"ColumnDataSource\"},{\"attributes\":{\"base\":24,\"mantissas\":[1,2,4,6,8,12],\"max_interval\":43200000.0,\"min_interval\":3600000.0,\"num_minor_ticks\":0},\"id\":\"8930\",\"type\":\"AdaptiveTicker\"},{\"attributes\":{\"fill_alpha\":{\"value\":0.1},\"fill_color\":{\"value\":\"white\"},\"line_alpha\":{\"value\":0.1},\"line_color\":{\"value\":\"blue\"},\"size\":{\"units\":\"screen\",\"value\":6},\"x\":{\"field\":\"x\"},\"y\":{\"field\":\"y\"}},\"id\":\"8944\",\"type\":\"Circle\"},{\"attributes\":{\"base\":60,\"mantissas\":[1,2,5,10,15,20,30],\"max_interval\":1800000.0,\"min_interval\":1000.0,\"num_minor_ticks\":0},\"id\":\"8929\",\"type\":\"AdaptiveTicker\"},{\"attributes\":{},\"id\":\"8972\",\"type\":\"UnionRenderers\"},{\"attributes\":{},\"id\":\"9275\",\"type\":\"UnionRenderers\"},{\"attributes\":{\"axis_label\":\"Date\",\"formatter\":{\"id\":\"8980\"},\"major_label_orientation\":0.7853981633974483,\"minor_tick_in\":-5,\"minor_tick_out\":-3,\"ticker\":{\"id\":\"8896\"}},\"id\":\"8895\",\"type\":\"DatetimeAxis\"},{\"attributes\":{},\"id\":\"9278\",\"type\":\"Selection\"},{\"attributes\":{\"axis\":{\"id\":\"8899\"},\"dimension\":1,\"ticker\":null},\"id\":\"8902\",\"type\":\"Grid\"},{\"attributes\":{\"source\":{\"id\":\"8942\"}},\"id\":\"8946\",\"type\":\"CDSView\"},{\"attributes\":{},\"id\":\"8971\",\"type\":\"Selection\"},{\"attributes\":{\"data_source\":{\"id\":\"8942\"},\"glyph\":{\"id\":\"8943\"},\"hover_glyph\":null,\"muted_glyph\":null,\"nonselection_glyph\":{\"id\":\"8944\"},\"selection_glyph\":null,\"view\":{\"id\":\"8946\"}},\"id\":\"8945\",\"type\":\"GlyphRenderer\"},{\"attributes\":{},\"id\":\"8900\",\"type\":\"BasicTicker\"},{\"attributes\":{\"days\":[1,2,3,4,5,6,7,8,9,10,11,12,13,14,15,16,17,18,19,20,21,22,23,24,25,26,27,28,29,30,31]},\"id\":\"8931\",\"type\":\"DaysTicker\"},{\"attributes\":{\"axis_label\":\"Total Cases\",\"formatter\":{\"id\":\"8984\"},\"minor_tick_in\":-5,\"minor_tick_out\":-3,\"ticker\":{\"id\":\"8900\"}},\"id\":\"8899\",\"type\":\"LinearAxis\"},{\"attributes\":{\"days\":[1,4,7,10,13,16,19,22,25,28]},\"id\":\"8932\",\"type\":\"DaysTicker\"}],\"root_ids\":[\"8884\"]},\"title\":\"Bokeh Application\",\"version\":\"2.0.2\"}};\n",
       "  var render_items = [{\"docid\":\"0a4cd090-8a1c-47f6-aa74-f50dee6b4bbf\",\"root_ids\":[\"8884\"],\"roots\":{\"8884\":\"6e3479c8-377d-4126-bd32-b710f02dd62f\"}}];\n",
       "  root.Bokeh.embed.embed_items_notebook(docs_json, render_items);\n",
       "\n",
       "  }\n",
       "  if (root.Bokeh !== undefined) {\n",
       "    embed_document(root);\n",
       "  } else {\n",
       "    var attempts = 0;\n",
       "    var timer = setInterval(function(root) {\n",
       "      if (root.Bokeh !== undefined) {\n",
       "        clearInterval(timer);\n",
       "        embed_document(root);\n",
       "      } else {\n",
       "        attempts++;\n",
       "        if (attempts > 100) {\n",
       "          clearInterval(timer);\n",
       "          console.log(\"Bokeh: ERROR: Unable to run BokehJS code because BokehJS library is missing\");\n",
       "        }\n",
       "      }\n",
       "    }, 10, root)\n",
       "  }\n",
       "})(window);"
      ],
      "application/vnd.bokehjs_exec.v0+json": ""
     },
     "metadata": {
      "application/vnd.bokehjs_exec.v0+json": {
       "id": "8884"
      }
     },
     "output_type": "display_data"
    }
   ],
   "source": [
    "pfit_total_cases_Italy = bokeh_plot_2_lines(x=time_date_new[0:(fit_range)], y=total_cases_italy.loc[0:(fit_range-1)], yy=ydata[0:fit_range], \n",
    "                  title='Exponential Fitting Total Cases: Italy', \n",
    "                  file_name=\"fit_total_cases_Italy.html\", \n",
    "                  x_label='Date', y_label='Total Cases', \n",
    "                  legend_1='total cases', legend_2='exponential fitting',\n",
    "                  x_label_hover='date' , y_label_hover='total cases OR fitting' , \n",
    "                  color_1='blue', color_2='red', y_minmax=None)\n",
    "\n",
    "show(pfit_total_cases_Italy)"
   ]
  },
  {
   "cell_type": "code",
   "execution_count": 46,
   "metadata": {},
   "outputs": [
    {
     "data": {
      "text/plain": [
       "0.9899919975413152"
      ]
     },
     "execution_count": 46,
     "metadata": {},
     "output_type": "execute_result"
    }
   ],
   "source": [
    "- cov[0,1] / (np.sqrt(np.diag(cov)[0] * np.diag(cov)[1])) # Correlation coefficient for parameters 'a' and 'b'"
   ]
  },
  {
   "cell_type": "code",
   "execution_count": 47,
   "metadata": {},
   "outputs": [
    {
     "data": {
      "text/plain": [
       "0.9942027803878379"
      ]
     },
     "execution_count": 47,
     "metadata": {},
     "output_type": "execute_result"
    }
   ],
   "source": [
    "residuals = total_cases_italy.loc[0:(fit_range-1)] - ydata  #  Calculation of R^2\n",
    "ss_res = np.sum(residuals**2)\n",
    "ss_tot = np.sum((total_cases_italy.loc[0:(fit_range-1)] - np.mean(total_cases_italy.loc[0:(fit_range-1)]))**2)\n",
    "r_squared = 1 - (ss_res / ss_tot)\n",
    "r_squared"
   ]
  },
  {
   "cell_type": "markdown",
   "metadata": {},
   "source": [
    "---------------"
   ]
  },
  {
   "cell_type": "code",
   "execution_count": 48,
   "metadata": {},
   "outputs": [
    {
     "data": {
      "text/plain": [
       "(10273.505399700898, 0.058660707522345125)"
      ]
     },
     "execution_count": 48,
     "metadata": {},
     "output_type": "execute_result"
    }
   ],
   "source": [
    "fit_range = 49   # best fit when fit_range = 28 namely March 22\n",
    "xdata = np.linspace(0, fit_range, fit_range)\n",
    "init_guess = [5000, 0.001]\n",
    "fit = curve_fit(model_exp, xdata, total_cases_italy.loc[0:(fit_range-1)], p0=init_guess)\n",
    "ans, cov = fit\n",
    "fit_a, fit_b = ans\n",
    "fit_a, fit_b"
   ]
  },
  {
   "cell_type": "code",
   "execution_count": 49,
   "metadata": {},
   "outputs": [
    {
     "data": {
      "text/plain": [
       "array([[ 1.70490033e+06, -3.88568817e+00],\n",
       "       [-3.88568817e+00,  9.19880384e-06]])"
      ]
     },
     "execution_count": 49,
     "metadata": {},
     "output_type": "execute_result"
    }
   ],
   "source": [
    "cov"
   ]
  },
  {
   "cell_type": "code",
   "execution_count": 50,
   "metadata": {},
   "outputs": [
    {
     "data": {
      "text/plain": [
       "array([1.30571832e+03, 3.03295299e-03])"
      ]
     },
     "execution_count": 50,
     "metadata": {},
     "output_type": "execute_result"
    }
   ],
   "source": [
    "np.sqrt(np.diag(cov))"
   ]
  },
  {
   "cell_type": "code",
   "execution_count": 51,
   "metadata": {},
   "outputs": [
    {
     "data": {
      "text/plain": [
       "array([ 10273.5053997 ,  10907.50512106,  11580.63030457,  12295.29546516,\n",
       "        13054.06412256,  13859.65799674,  14714.96677074,  15623.05845605,\n",
       "        16587.19039764,  17610.82095811,  18697.62192291,  19851.49167117,\n",
       "        21076.56915918,  22377.24876699,  23758.19606113,  25224.3645301 ,\n",
       "        26781.01335261,  28433.72626244,  30188.43157735,  32051.42346413,\n",
       "        34029.38451587,  36129.40972262,  38359.03192126,  40726.24881594,\n",
       "        43239.55166602,  45907.95574442,  48741.03267559,  51748.94476916,\n",
       "        54942.48147235,  58333.09807195,  61932.95678471,  65754.97038346,\n",
       "        69812.84851553,  74121.14687954,  78695.31943703,  83551.77384615,\n",
       "        88707.93031628,  94182.28409475,  99994.47180965, 106165.34190689,\n",
       "       112717.02943402, 119673.03543912, 127058.3112696 , 134899.34807324,\n",
       "       143224.27182249, 152062.94420302, 161447.06972815, 171410.30946374,\n",
       "       181988.4017711 ])"
      ]
     },
     "execution_count": 51,
     "metadata": {},
     "output_type": "execute_result"
    }
   ],
   "source": [
    "ydata = model_exp(xdata,fit_a,fit_b)\n",
    "ydata"
   ]
  },
  {
   "cell_type": "code",
   "execution_count": 52,
   "metadata": {},
   "outputs": [
    {
     "data": {
      "text/plain": [
       "0.9811892216342538"
      ]
     },
     "execution_count": 52,
     "metadata": {},
     "output_type": "execute_result"
    }
   ],
   "source": [
    "- cov[0,1] / (np.sqrt(np.diag(cov)[0] * np.diag(cov)[1])) # Correlation coefficient for parameters 'a' and 'b'"
   ]
  },
  {
   "cell_type": "code",
   "execution_count": 53,
   "metadata": {},
   "outputs": [
    {
     "data": {
      "text/plain": [
       "0.940258800232746"
      ]
     },
     "execution_count": 53,
     "metadata": {},
     "output_type": "execute_result"
    }
   ],
   "source": [
    "residuals = total_cases_italy.loc[0:(fit_range-1)] - ydata  #  Calculation of R^2\n",
    "ss_res = np.sum(residuals**2)\n",
    "ss_tot = np.sum((total_cases_italy.loc[0:(fit_range-1)] - np.mean(total_cases_italy.loc[0:(fit_range-1)]))**2)\n",
    "r_squared = 1 - (ss_res / ss_tot)\n",
    "r_squared"
   ]
  },
  {
   "cell_type": "code",
   "execution_count": 54,
   "metadata": {
    "scrolled": false
   },
   "outputs": [
    {
     "data": {
      "text/html": [
       "\n",
       "\n",
       "\n",
       "\n",
       "\n",
       "\n",
       "  <div class=\"bk-root\" id=\"72620a9f-3512-455e-8ff6-42bff7ec0e9a\" data-root-id=\"9736\"></div>\n"
      ]
     },
     "metadata": {},
     "output_type": "display_data"
    },
    {
     "data": {
      "application/javascript": [
       "(function(root) {\n",
       "  function embed_document(root) {\n",
       "    \n",
       "  var docs_json = {\"934f17a3-5b04-464c-8098-7a6da1395991\":{\"roots\":{\"references\":[{\"attributes\":{\"below\":[{\"id\":\"9747\"}],\"center\":[{\"id\":\"9750\"},{\"id\":\"9754\"},{\"id\":\"9792\"}],\"left\":[{\"id\":\"9751\"}],\"plot_height\":450,\"renderers\":[{\"id\":\"9772\"},{\"id\":\"9797\"},{\"id\":\"9802\"},{\"id\":\"9830\"}],\"title\":{\"id\":\"9737\"},\"toolbar\":{\"id\":\"9762\"},\"x_range\":{\"id\":\"9739\"},\"x_scale\":{\"id\":\"9743\"},\"y_range\":{\"id\":\"9741\"},\"y_scale\":{\"id\":\"9745\"}},\"id\":\"9736\",\"subtype\":\"Figure\",\"type\":\"Plot\"},{\"attributes\":{},\"id\":\"9836\",\"type\":\"NumeralTickFormatter\"},{\"attributes\":{},\"id\":\"9791\",\"type\":\"YearsTicker\"},{\"attributes\":{},\"id\":\"10151\",\"type\":\"UnionRenderers\"},{\"attributes\":{\"data_source\":{\"id\":\"9769\"},\"glyph\":{\"id\":\"9770\"},\"hover_glyph\":null,\"muted_glyph\":null,\"nonselection_glyph\":{\"id\":\"9771\"},\"selection_glyph\":null,\"view\":{\"id\":\"9773\"}},\"id\":\"9772\",\"type\":\"GlyphRenderer\"},{\"attributes\":{\"source\":{\"id\":\"9827\"}},\"id\":\"9831\",\"type\":\"CDSView\"},{\"attributes\":{\"months\":[0,4,8]},\"id\":\"9789\",\"type\":\"MonthsTicker\"},{\"attributes\":{\"axis_label\":\"Date\",\"formatter\":{\"id\":\"9832\"},\"major_label_orientation\":0.7853981633974483,\"minor_tick_in\":-5,\"minor_tick_out\":-3,\"ticker\":{\"id\":\"9748\"}},\"id\":\"9747\",\"type\":\"DatetimeAxis\"},{\"attributes\":{\"line_alpha\":0.1,\"line_color\":\"blue\",\"line_width\":4,\"x\":{\"field\":\"x\"},\"y\":{\"field\":\"y\"}},\"id\":\"9771\",\"type\":\"Line\"},{\"attributes\":{\"fill_color\":{\"value\":\"white\"},\"line_color\":{\"value\":\"blue\"},\"size\":{\"units\":\"screen\",\"value\":6},\"x\":{\"field\":\"x\"},\"y\":{\"field\":\"y\"}},\"id\":\"9795\",\"type\":\"Circle\"},{\"attributes\":{\"mantissas\":[1,2,5],\"max_interval\":500.0,\"num_minor_ticks\":0},\"id\":\"9780\",\"type\":\"AdaptiveTicker\"},{\"attributes\":{\"overlay\":{\"id\":\"9761\"}},\"id\":\"9757\",\"type\":\"BoxZoomTool\"},{\"attributes\":{\"axis\":{\"id\":\"9747\"},\"ticker\":null},\"id\":\"9750\",\"type\":\"Grid\"},{\"attributes\":{\"num_minor_ticks\":5,\"tickers\":[{\"id\":\"9780\"},{\"id\":\"9781\"},{\"id\":\"9782\"},{\"id\":\"9783\"},{\"id\":\"9784\"},{\"id\":\"9785\"},{\"id\":\"9786\"},{\"id\":\"9787\"},{\"id\":\"9788\"},{\"id\":\"9789\"},{\"id\":\"9790\"},{\"id\":\"9791\"}]},\"id\":\"9748\",\"type\":\"DatetimeTicker\"},{\"attributes\":{\"label\":{\"value\":\"exponential fitting\"},\"renderers\":[{\"id\":\"9802\"}]},\"id\":\"9826\",\"type\":\"LegendItem\"},{\"attributes\":{},\"id\":\"9739\",\"type\":\"DataRange1d\"},{\"attributes\":{\"text\":\"Exponential Fitting Total Cases: Italy\"},\"id\":\"9737\",\"type\":\"Title\"},{\"attributes\":{\"data\":{\"x\":{\"__ndarray__\":\"AAAA5UcHd0IAAMBKmgd3QgAAgLDsB3dCAABAFj8Id0IAAAB8kQh3QgAAwOHjCHdCAACARzYJd0IAAECtiAl3QgAAABPbCXdCAADAeC0Kd0IAAIDefwp3QgAAQETSCndCAAAAqiQLd0IAAMAPdwt3QgAAgHXJC3dCAABA2xsMd0IAAABBbgx3QgAAwKbADHdCAACADBMNd0IAAEByZQ13QgAAANi3DXdCAADAPQoOd0IAAICjXA53QgAAQAmvDndCAAAAbwEPd0IAAMDUUw93QgAAgDqmD3dCAABAoPgPd0IAAAAGSxB3QgAAwGudEHdCAACA0e8Qd0IAAEA3QhF3QgAAAJ2UEXdCAADAAucRd0IAAIBoORJ3QgAAQM6LEndCAAAANN4Sd0IAAMCZMBN3QgAAgP+CE3dCAABAZdUTd0IAAADLJxR3QgAAwDB6FHdCAACAlswUd0IAAED8HhV3QgAAAGJxFXdCAADAx8MVd0IAAIAtFhZ3QgAAQJNoFndCAAAA+boWd0I=\",\"dtype\":\"float64\",\"shape\":[49]},\"y\":[229,322,400,650,888,1128,1694,2036,2502,3089,3858,4636,5883,7375,9172,10149,12462,15113,17660,21157,24747,27980,31506,35713,41035,47021,53578,59138,63927,69176,74386,80539,86498,92472,97689,101739,105792,110574,115242,119827,124632,128948,132547,135586,139422,143626,147577,152271,156363]},\"selected\":{\"id\":\"9825\"},\"selection_policy\":{\"id\":\"9824\"}},\"id\":\"9794\",\"type\":\"ColumnDataSource\"},{\"attributes\":{\"line_alpha\":0.1,\"line_color\":\"red\",\"line_width\":4,\"x\":{\"field\":\"x\"},\"y\":{\"field\":\"y\"}},\"id\":\"9801\",\"type\":\"Line\"},{\"attributes\":{},\"id\":\"9756\",\"type\":\"WheelZoomTool\"},{\"attributes\":{},\"id\":\"9823\",\"type\":\"Selection\"},{\"attributes\":{\"line_color\":\"red\",\"line_width\":4,\"x\":{\"field\":\"x\"},\"y\":{\"field\":\"y\"}},\"id\":\"9800\",\"type\":\"Line\"},{\"attributes\":{},\"id\":\"9822\",\"type\":\"UnionRenderers\"},{\"attributes\":{},\"id\":\"10154\",\"type\":\"Selection\"},{\"attributes\":{},\"id\":\"9759\",\"type\":\"ResetTool\"},{\"attributes\":{\"base\":24,\"mantissas\":[1,2,4,6,8,12],\"max_interval\":43200000.0,\"min_interval\":3600000.0,\"num_minor_ticks\":0},\"id\":\"9782\",\"type\":\"AdaptiveTicker\"},{\"attributes\":{\"data_source\":{\"id\":\"9794\"},\"glyph\":{\"id\":\"9795\"},\"hover_glyph\":null,\"muted_glyph\":null,\"nonselection_glyph\":{\"id\":\"9796\"},\"selection_glyph\":null,\"view\":{\"id\":\"9798\"}},\"id\":\"9797\",\"type\":\"GlyphRenderer\"},{\"attributes\":{},\"id\":\"9755\",\"type\":\"PanTool\"},{\"attributes\":{\"label\":{\"value\":\"total cases\"},\"renderers\":[{\"id\":\"9772\"}]},\"id\":\"9793\",\"type\":\"LegendItem\"},{\"attributes\":{\"source\":{\"id\":\"9799\"}},\"id\":\"9803\",\"type\":\"CDSView\"},{\"attributes\":{\"base\":60,\"mantissas\":[1,2,5,10,15,20,30],\"max_interval\":1800000.0,\"min_interval\":1000.0,\"num_minor_ticks\":0},\"id\":\"9781\",\"type\":\"AdaptiveTicker\"},{\"attributes\":{},\"id\":\"10152\",\"type\":\"Selection\"},{\"attributes\":{\"source\":{\"id\":\"9794\"}},\"id\":\"9798\",\"type\":\"CDSView\"},{\"attributes\":{\"source\":{\"id\":\"9769\"}},\"id\":\"9773\",\"type\":\"CDSView\"},{\"attributes\":{\"fill_alpha\":{\"value\":0.1},\"fill_color\":{\"value\":\"white\"},\"line_alpha\":{\"value\":0.1},\"line_color\":{\"value\":\"blue\"},\"size\":{\"units\":\"screen\",\"value\":6},\"x\":{\"field\":\"x\"},\"y\":{\"field\":\"y\"}},\"id\":\"9796\",\"type\":\"Circle\"},{\"attributes\":{\"axis\":{\"id\":\"9751\"},\"dimension\":1,\"ticker\":null},\"id\":\"9754\",\"type\":\"Grid\"},{\"attributes\":{},\"id\":\"9758\",\"type\":\"SaveTool\"},{\"attributes\":{\"data\":{\"x\":{\"__ndarray__\":\"AAAA5UcHd0IAAMBKmgd3QgAAgLDsB3dCAABAFj8Id0IAAAB8kQh3QgAAwOHjCHdCAACARzYJd0IAAECtiAl3QgAAABPbCXdCAADAeC0Kd0IAAIDefwp3QgAAQETSCndCAAAAqiQLd0IAAMAPdwt3QgAAgHXJC3dCAABA2xsMd0IAAABBbgx3QgAAwKbADHdCAACADBMNd0IAAEByZQ13QgAAANi3DXdCAADAPQoOd0IAAICjXA53QgAAQAmvDndCAAAAbwEPd0IAAMDUUw93QgAAgDqmD3dCAABAoPgPd0IAAAAGSxB3QgAAwGudEHdCAACA0e8Qd0IAAEA3QhF3QgAAAJ2UEXdCAADAAucRd0IAAIBoORJ3QgAAQM6LEndCAAAANN4Sd0IAAMCZMBN3QgAAgP+CE3dCAABAZdUTd0IAAADLJxR3QgAAwDB6FHdCAACAlswUd0IAAED8HhV3QgAAAGJxFXdCAADAx8MVd0IAAIAtFhZ3QgAAQJNoFndCAAAA+boWd0I=\",\"dtype\":\"float64\",\"shape\":[49]},\"y\":{\"__ndarray__\":\"YvnvsMAQxED3ks6nwE3FQID80a1QnsZAs2nN0aUDyECGDSs1CH/JQKq5PDnUEctAmMEkv3u9zEA35Xx7h4POQCqUeS/MMtBAod2TirQy0UBgxJXNZ0LSQLBXinffYtNA8poabSSV1ECBX8zrT9rVQED8Q4yMM9dAeAl2VBei2ECL6sTaQCfaQGd4FXtuxNtAWJ/2nht73UBaRgka20zfQIc39E2sneBAu51yHC2k4UCVvn8F4briQLbZTPbH4uNA8X4/p/Ec5UB+UHWVfmrmQKCtrQuhzOdALomMO55E6UCMsjhoz9PqQCjIZyOje+xAVvb6nZ497kCXzrCGrw3wQI4FhZNNC/FAZl2eWZIY8kCzAWocdTbzQFt/rGH8ZfRAsFKT4j6o9UD87qaLZP72QLdGiIynafhA6FxzeFXr+UBxzo940IT7QHKbKJGQN/1Ac9T1+iQF/0DQntrImncAQYNFsSzCewFBgU+6jfePAkGjoc2OOLUDQW4fyHmS7ARBkcTTNiM3BkE=\",\"dtype\":\"float64\",\"shape\":[49]}},\"selected\":{\"id\":\"10152\"},\"selection_policy\":{\"id\":\"10151\"}},\"id\":\"9799\",\"type\":\"ColumnDataSource\"},{\"attributes\":{\"days\":[1,2,3,4,5,6,7,8,9,10,11,12,13,14,15,16,17,18,19,20,21,22,23,24,25,26,27,28,29,30,31]},\"id\":\"9783\",\"type\":\"DaysTicker\"},{\"attributes\":{},\"id\":\"9741\",\"type\":\"DataRange1d\"},{\"attributes\":{\"items\":[{\"id\":\"9793\"},{\"id\":\"9826\"}],\"location\":\"top_left\"},\"id\":\"9792\",\"type\":\"Legend\"},{\"attributes\":{},\"id\":\"9825\",\"type\":\"Selection\"},{\"attributes\":{\"axis_label\":\"Total Cases\",\"formatter\":{\"id\":\"9836\"},\"minor_tick_in\":-5,\"minor_tick_out\":-3,\"ticker\":{\"id\":\"9752\"}},\"id\":\"9751\",\"type\":\"LinearAxis\"},{\"attributes\":{},\"id\":\"9760\",\"type\":\"HelpTool\"},{\"attributes\":{\"days\":[1,4,7,10,13,16,19,22,25,28]},\"id\":\"9784\",\"type\":\"DaysTicker\"},{\"attributes\":{\"fill_alpha\":{\"value\":0.1},\"fill_color\":{\"value\":\"white\"},\"line_alpha\":{\"value\":0.1},\"line_color\":{\"value\":\"red\"},\"size\":{\"units\":\"screen\",\"value\":6},\"x\":{\"field\":\"x\"},\"y\":{\"field\":\"y\"}},\"id\":\"9829\",\"type\":\"Circle\"},{\"attributes\":{\"data\":{\"x\":{\"__ndarray__\":\"AAAA5UcHd0IAAMBKmgd3QgAAgLDsB3dCAABAFj8Id0IAAAB8kQh3QgAAwOHjCHdCAACARzYJd0IAAECtiAl3QgAAABPbCXdCAADAeC0Kd0IAAIDefwp3QgAAQETSCndCAAAAqiQLd0IAAMAPdwt3QgAAgHXJC3dCAABA2xsMd0IAAABBbgx3QgAAwKbADHdCAACADBMNd0IAAEByZQ13QgAAANi3DXdCAADAPQoOd0IAAICjXA53QgAAQAmvDndCAAAAbwEPd0IAAMDUUw93QgAAgDqmD3dCAABAoPgPd0IAAAAGSxB3QgAAwGudEHdCAACA0e8Qd0IAAEA3QhF3QgAAAJ2UEXdCAADAAucRd0IAAIBoORJ3QgAAQM6LEndCAAAANN4Sd0IAAMCZMBN3QgAAgP+CE3dCAABAZdUTd0IAAADLJxR3QgAAwDB6FHdCAACAlswUd0IAAED8HhV3QgAAAGJxFXdCAADAx8MVd0IAAIAtFhZ3QgAAQJNoFndCAAAA+boWd0I=\",\"dtype\":\"float64\",\"shape\":[49]},\"y\":{\"__ndarray__\":\"YvnvsMAQxED3ks6nwE3FQID80a1QnsZAs2nN0aUDyECGDSs1CH/JQKq5PDnUEctAmMEkv3u9zEA35Xx7h4POQCqUeS/MMtBAod2TirQy0UBgxJXNZ0LSQLBXinffYtNA8poabSSV1ECBX8zrT9rVQED8Q4yMM9dAeAl2VBei2ECL6sTaQCfaQGd4FXtuxNtAWJ/2nht73UBaRgka20zfQIc39E2sneBAu51yHC2k4UCVvn8F4briQLbZTPbH4uNA8X4/p/Ec5UB+UHWVfmrmQKCtrQuhzOdALomMO55E6UCMsjhoz9PqQCjIZyOje+xAVvb6nZ497kCXzrCGrw3wQI4FhZNNC/FAZl2eWZIY8kCzAWocdTbzQFt/rGH8ZfRAsFKT4j6o9UD87qaLZP72QLdGiIynafhA6FxzeFXr+UBxzo940IT7QHKbKJGQN/1Ac9T1+iQF/0DQntrImncAQYNFsSzCewFBgU+6jfePAkGjoc2OOLUDQW4fyHmS7ARBkcTTNiM3BkE=\",\"dtype\":\"float64\",\"shape\":[49]}},\"selected\":{\"id\":\"10154\"},\"selection_policy\":{\"id\":\"10153\"}},\"id\":\"9827\",\"type\":\"ColumnDataSource\"},{\"attributes\":{\"data_source\":{\"id\":\"9827\"},\"glyph\":{\"id\":\"9828\"},\"hover_glyph\":null,\"muted_glyph\":null,\"nonselection_glyph\":{\"id\":\"9829\"},\"selection_glyph\":null,\"view\":{\"id\":\"9831\"}},\"id\":\"9830\",\"type\":\"GlyphRenderer\"},{\"attributes\":{\"days\":[1,8,15,22]},\"id\":\"9785\",\"type\":\"DaysTicker\"},{\"attributes\":{},\"id\":\"9824\",\"type\":\"UnionRenderers\"},{\"attributes\":{\"line_color\":\"blue\",\"line_width\":4,\"x\":{\"field\":\"x\"},\"y\":{\"field\":\"y\"}},\"id\":\"9770\",\"type\":\"Line\"},{\"attributes\":{\"active_drag\":\"auto\",\"active_inspect\":\"auto\",\"active_multi\":null,\"active_scroll\":\"auto\",\"active_tap\":\"auto\",\"tools\":[{\"id\":\"9755\"},{\"id\":\"9756\"},{\"id\":\"9757\"},{\"id\":\"9758\"},{\"id\":\"9759\"},{\"id\":\"9760\"},{\"id\":\"9837\"}]},\"id\":\"9762\",\"type\":\"Toolbar\"},{\"attributes\":{},\"id\":\"9752\",\"type\":\"BasicTicker\"},{\"attributes\":{\"days\":[1,15]},\"id\":\"9786\",\"type\":\"DaysTicker\"},{\"attributes\":{},\"id\":\"10153\",\"type\":\"UnionRenderers\"},{\"attributes\":{},\"id\":\"9743\",\"type\":\"LinearScale\"},{\"attributes\":{\"data\":{\"x\":{\"__ndarray__\":\"AAAA5UcHd0IAAMBKmgd3QgAAgLDsB3dCAABAFj8Id0IAAAB8kQh3QgAAwOHjCHdCAACARzYJd0IAAECtiAl3QgAAABPbCXdCAADAeC0Kd0IAAIDefwp3QgAAQETSCndCAAAAqiQLd0IAAMAPdwt3QgAAgHXJC3dCAABA2xsMd0IAAABBbgx3QgAAwKbADHdCAACADBMNd0IAAEByZQ13QgAAANi3DXdCAADAPQoOd0IAAICjXA53QgAAQAmvDndCAAAAbwEPd0IAAMDUUw93QgAAgDqmD3dCAABAoPgPd0IAAAAGSxB3QgAAwGudEHdCAACA0e8Qd0IAAEA3QhF3QgAAAJ2UEXdCAADAAucRd0IAAIBoORJ3QgAAQM6LEndCAAAANN4Sd0IAAMCZMBN3QgAAgP+CE3dCAABAZdUTd0IAAADLJxR3QgAAwDB6FHdCAACAlswUd0IAAED8HhV3QgAAAGJxFXdCAADAx8MVd0IAAIAtFhZ3QgAAQJNoFndCAAAA+boWd0I=\",\"dtype\":\"float64\",\"shape\":[49]},\"y\":[229,322,400,650,888,1128,1694,2036,2502,3089,3858,4636,5883,7375,9172,10149,12462,15113,17660,21157,24747,27980,31506,35713,41035,47021,53578,59138,63927,69176,74386,80539,86498,92472,97689,101739,105792,110574,115242,119827,124632,128948,132547,135586,139422,143626,147577,152271,156363]},\"selected\":{\"id\":\"9823\"},\"selection_policy\":{\"id\":\"9822\"}},\"id\":\"9769\",\"type\":\"ColumnDataSource\"},{\"attributes\":{\"bottom_units\":\"screen\",\"fill_alpha\":0.5,\"fill_color\":\"lightgrey\",\"left_units\":\"screen\",\"level\":\"overlay\",\"line_alpha\":1.0,\"line_color\":\"black\",\"line_dash\":[4,4],\"line_width\":2,\"render_mode\":\"css\",\"right_units\":\"screen\",\"top_units\":\"screen\"},\"id\":\"9761\",\"type\":\"BoxAnnotation\"},{\"attributes\":{\"months\":[0,1,2,3,4,5,6,7,8,9,10,11]},\"id\":\"9787\",\"type\":\"MonthsTicker\"},{\"attributes\":{\"days\":[\"%d %B\"]},\"id\":\"9832\",\"type\":\"DatetimeTickFormatter\"},{\"attributes\":{},\"id\":\"9745\",\"type\":\"LinearScale\"},{\"attributes\":{\"callback\":null,\"formatters\":{\"@x\":\"datetime\"},\"mode\":\"vline\",\"tooltips\":[[\"date\",\"@x{%d %B}\"],[\"total cases OR fitting\",\"@y{0.}\"]]},\"id\":\"9837\",\"type\":\"HoverTool\"},{\"attributes\":{\"fill_color\":{\"value\":\"white\"},\"line_color\":{\"value\":\"red\"},\"size\":{\"units\":\"screen\",\"value\":6},\"x\":{\"field\":\"x\"},\"y\":{\"field\":\"y\"}},\"id\":\"9828\",\"type\":\"Circle\"},{\"attributes\":{\"months\":[0,2,4,6,8,10]},\"id\":\"9788\",\"type\":\"MonthsTicker\"},{\"attributes\":{\"months\":[0,6]},\"id\":\"9790\",\"type\":\"MonthsTicker\"},{\"attributes\":{\"data_source\":{\"id\":\"9799\"},\"glyph\":{\"id\":\"9800\"},\"hover_glyph\":null,\"muted_glyph\":null,\"nonselection_glyph\":{\"id\":\"9801\"},\"selection_glyph\":null,\"view\":{\"id\":\"9803\"}},\"id\":\"9802\",\"type\":\"GlyphRenderer\"}],\"root_ids\":[\"9736\"]},\"title\":\"Bokeh Application\",\"version\":\"2.0.2\"}};\n",
       "  var render_items = [{\"docid\":\"934f17a3-5b04-464c-8098-7a6da1395991\",\"root_ids\":[\"9736\"],\"roots\":{\"9736\":\"72620a9f-3512-455e-8ff6-42bff7ec0e9a\"}}];\n",
       "  root.Bokeh.embed.embed_items_notebook(docs_json, render_items);\n",
       "\n",
       "  }\n",
       "  if (root.Bokeh !== undefined) {\n",
       "    embed_document(root);\n",
       "  } else {\n",
       "    var attempts = 0;\n",
       "    var timer = setInterval(function(root) {\n",
       "      if (root.Bokeh !== undefined) {\n",
       "        clearInterval(timer);\n",
       "        embed_document(root);\n",
       "      } else {\n",
       "        attempts++;\n",
       "        if (attempts > 100) {\n",
       "          clearInterval(timer);\n",
       "          console.log(\"Bokeh: ERROR: Unable to run BokehJS code because BokehJS library is missing\");\n",
       "        }\n",
       "      }\n",
       "    }, 10, root)\n",
       "  }\n",
       "})(window);"
      ],
      "application/vnd.bokehjs_exec.v0+json": ""
     },
     "metadata": {
      "application/vnd.bokehjs_exec.v0+json": {
       "id": "9736"
      }
     },
     "output_type": "display_data"
    }
   ],
   "source": [
    "pfit_total_cases_Italy = bokeh_plot_2_lines(x=time_date_new[0:(fit_range)], y=total_cases_italy.loc[0:(fit_range-1)], yy=ydata[0:fit_range], \n",
    "                  title='Exponential Fitting Total Cases: Italy', \n",
    "                  file_name=\"fit_total_cases_Italy.html\", \n",
    "                  x_label='Date', y_label='Total Cases', \n",
    "                  legend_1='total cases', legend_2='exponential fitting',\n",
    "                  x_label_hover='date' , y_label_hover='total cases OR fitting' , \n",
    "                  color_1='blue', color_2='red', y_minmax=None)\n",
    "\n",
    "show(pfit_total_cases_Italy)"
   ]
  },
  {
   "cell_type": "markdown",
   "metadata": {},
   "source": [
    "------------------------\n",
    "\n",
    "------------------------"
   ]
  },
  {
   "cell_type": "code",
   "execution_count": 55,
   "metadata": {},
   "outputs": [],
   "source": [
    "R_2_cases = []\n",
    "Correlation_A_B = []\n",
    "iii = 7\n",
    "\n",
    "while(iii <= len(total_cases_italy)):\n",
    "    fit_range = iii   # best fit when fit_range = 28 namely March 22\n",
    "    xdata = np.linspace(0, fit_range, fit_range)\n",
    "    init_guess = [5000, 0.001]\n",
    "    fit = curve_fit(model_exp, xdata, total_cases_italy.loc[0:(fit_range-1)], p0=init_guess)\n",
    "    ans, cov = fit\n",
    "    fit_a, fit_b = ans\n",
    "    fit_a, fit_b\n",
    "    ydata = model_exp(xdata,fit_a,fit_b)\n",
    "    residuals = total_cases_italy.loc[0:(fit_range-1)] - ydata  #  Calculation of R^2\n",
    "    ss_res = np.sum(residuals**2)\n",
    "    ss_tot = np.sum((total_cases_italy.loc[0:(fit_range-1)] - np.mean(total_cases_italy.loc[0:(fit_range-1)]))**2)\n",
    "    r_squared = 1 - (ss_res / ss_tot)\n",
    "    R_2_cases.append(r_squared)\n",
    "    correlation_ab = - cov[0,1] / (np.sqrt(np.diag(cov)[0] * np.diag(cov)[1]))\n",
    "    Correlation_A_B.append(correlation_ab)\n",
    "    iii = iii + 1"
   ]
  },
  {
   "cell_type": "code",
   "execution_count": 56,
   "metadata": {},
   "outputs": [
    {
     "name": "stderr",
     "output_type": "stream",
     "text": [
      "BokehUserWarning: ColumnDataSource's columns must be of the same length. Current lengths: ('x', 127), ('y', 121)\n",
      "BokehUserWarning: ColumnDataSource's columns must be of the same length. Current lengths: ('x', 127), ('y', 121)\n",
      "BokehUserWarning: ColumnDataSource's columns must be of the same length. Current lengths: ('x', 127), ('y', 121)\n",
      "BokehUserWarning: ColumnDataSource's columns must be of the same length. Current lengths: ('x', 127), ('y', 121)\n"
     ]
    },
    {
     "data": {
      "text/html": [
       "\n",
       "\n",
       "\n",
       "\n",
       "\n",
       "\n",
       "  <div class=\"bk-root\" id=\"4cea116a-f31d-490d-ba20-ce1a37c895af\" data-root-id=\"10612\"></div>\n"
      ]
     },
     "metadata": {},
     "output_type": "display_data"
    },
    {
     "data": {
      "application/javascript": [
       "(function(root) {\n",
       "  function embed_document(root) {\n",
       "    \n",
       "  var docs_json = {\"e2b2e7b0-02ce-4093-8b71-9272731f8fdd\":{\"roots\":{\"references\":[{\"attributes\":{\"below\":[{\"id\":\"10623\"}],\"center\":[{\"id\":\"10626\"},{\"id\":\"10630\"},{\"id\":\"10668\"}],\"left\":[{\"id\":\"10627\"}],\"plot_height\":450,\"renderers\":[{\"id\":\"10648\"},{\"id\":\"10673\"},{\"id\":\"10678\"},{\"id\":\"10706\"}],\"title\":{\"id\":\"10613\"},\"toolbar\":{\"id\":\"10638\"},\"x_range\":{\"id\":\"10615\"},\"x_scale\":{\"id\":\"10619\"},\"y_range\":{\"id\":\"10617\"},\"y_scale\":{\"id\":\"10621\"}},\"id\":\"10612\",\"subtype\":\"Figure\",\"type\":\"Plot\"},{\"attributes\":{\"days\":[1,4,7,10,13,16,19,22,25,28]},\"id\":\"10660\",\"type\":\"DaysTicker\"},{\"attributes\":{\"axis_label\":\"Date\",\"formatter\":{\"id\":\"10708\"},\"major_label_orientation\":0.7853981633974483,\"minor_tick_in\":-5,\"minor_tick_out\":-3,\"ticker\":{\"id\":\"10624\"}},\"id\":\"10623\",\"type\":\"DatetimeAxis\"},{\"attributes\":{},\"id\":\"10698\",\"type\":\"UnionRenderers\"},{\"attributes\":{},\"id\":\"11051\",\"type\":\"Selection\"},{\"attributes\":{\"line_alpha\":0.1,\"line_color\":\"lightblue\",\"line_width\":4,\"x\":{\"field\":\"x\"},\"y\":{\"field\":\"y\"}},\"id\":\"10677\",\"type\":\"Line\"},{\"attributes\":{\"mantissas\":[1,2,5],\"max_interval\":500.0,\"num_minor_ticks\":0},\"id\":\"10656\",\"type\":\"AdaptiveTicker\"},{\"attributes\":{\"axis\":{\"id\":\"10627\"},\"dimension\":1,\"ticker\":null},\"id\":\"10630\",\"type\":\"Grid\"},{\"attributes\":{\"items\":[{\"id\":\"10669\"},{\"id\":\"10702\"}]},\"id\":\"10668\",\"type\":\"Legend\"},{\"attributes\":{\"label\":{\"value\":\"Corr_A_B\"},\"renderers\":[{\"id\":\"10678\"}]},\"id\":\"10702\",\"type\":\"LegendItem\"},{\"attributes\":{\"months\":[0,1,2,3,4,5,6,7,8,9,10,11]},\"id\":\"10663\",\"type\":\"MonthsTicker\"},{\"attributes\":{\"data_source\":{\"id\":\"10670\"},\"glyph\":{\"id\":\"10671\"},\"hover_glyph\":null,\"muted_glyph\":null,\"nonselection_glyph\":{\"id\":\"10672\"},\"selection_glyph\":null,\"view\":{\"id\":\"10674\"}},\"id\":\"10673\",\"type\":\"GlyphRenderer\"},{\"attributes\":{\"source\":{\"id\":\"10703\"}},\"id\":\"10707\",\"type\":\"CDSView\"},{\"attributes\":{\"source\":{\"id\":\"10675\"}},\"id\":\"10679\",\"type\":\"CDSView\"},{\"attributes\":{\"base\":24,\"mantissas\":[1,2,4,6,8,12],\"max_interval\":43200000.0,\"min_interval\":3600000.0,\"num_minor_ticks\":0},\"id\":\"10658\",\"type\":\"AdaptiveTicker\"},{\"attributes\":{\"days\":[1,15]},\"id\":\"10662\",\"type\":\"DaysTicker\"},{\"attributes\":{\"use_scientific\":false},\"id\":\"10710\",\"type\":\"BasicTickFormatter\"},{\"attributes\":{},\"id\":\"10634\",\"type\":\"SaveTool\"},{\"attributes\":{\"days\":[1,2,3,4,5,6,7,8,9,10,11,12,13,14,15,16,17,18,19,20,21,22,23,24,25,26,27,28,29,30,31]},\"id\":\"10659\",\"type\":\"DaysTicker\"},{\"attributes\":{\"data_source\":{\"id\":\"10675\"},\"glyph\":{\"id\":\"10676\"},\"hover_glyph\":null,\"muted_glyph\":null,\"nonselection_glyph\":{\"id\":\"10677\"},\"selection_glyph\":null,\"view\":{\"id\":\"10679\"}},\"id\":\"10678\",\"type\":\"GlyphRenderer\"},{\"attributes\":{},\"id\":\"10635\",\"type\":\"ResetTool\"},{\"attributes\":{\"data\":{\"x\":{\"__ndarray__\":\"AACARzYJd0IAAECtiAl3QgAAABPbCXdCAADAeC0Kd0IAAIDefwp3QgAAQETSCndCAAAAqiQLd0IAAMAPdwt3QgAAgHXJC3dCAABA2xsMd0IAAABBbgx3QgAAwKbADHdCAACADBMNd0IAAEByZQ13QgAAANi3DXdCAADAPQoOd0IAAICjXA53QgAAQAmvDndCAAAAbwEPd0IAAMDUUw93QgAAgDqmD3dCAABAoPgPd0IAAAAGSxB3QgAAwGudEHdCAACA0e8Qd0IAAEA3QhF3QgAAAJ2UEXdCAADAAucRd0IAAIBoORJ3QgAAQM6LEndCAAAANN4Sd0IAAMCZMBN3QgAAgP+CE3dCAABAZdUTd0IAAADLJxR3QgAAwDB6FHdCAACAlswUd0IAAED8HhV3QgAAAGJxFXdCAADAx8MVd0IAAIAtFhZ3QgAAQJNoFndCAAAA+boWd0IAAMBeDRd3QgAAgMRfF3dCAABAKrIXd0IAAACQBBh3QgAAwPVWGHdCAACAW6kYd0IAAEDB+xh3QgAAACdOGXdCAADAjKAZd0IAAIDy8hl3QgAAQFhFGndCAAAAvpcad0IAAMAj6hp3QgAAgIk8G3dCAABA744bd0IAAABV4Rt3QgAAwLozHHdCAACAIIYcd0IAAECG2Bx3QgAAAOwqHXdCAADAUX0dd0IAAIC3zx13QgAAQB0iHndCAAAAg3Qed0IAAMDoxh53QgAAgE4ZH3dCAABAtGsfd0IAAAAavh93QgAAwH8QIHdCAACA5WIgd0IAAEBLtSB3QgAAALEHIXdCAADAFlohd0IAAIB8rCF3QgAAQOL+IXdCAAAASFEid0IAAMCtoyJ3QgAAgBP2IndCAABAeUgjd0IAAADfmiN3QgAAwETtI3dCAACAqj8kd0IAAEAQkiR3QgAAAHbkJHdCAADA2zYld0IAAIBBiSV3QgAAQKfbJXdCAAAADS4md0IAAMBygCZ3QgAAgNjSJndCAABAPiUnd0IAAACkdyd3QgAAwAnKJ3dCAACAbxwod0IAAEDVbih3QgAAADvBKHdCAADAoBMpd0IAAIAGZil3QgAAQGy4KXdCAAAA0goqd0IAAMA3XSp3QgAAgJ2vKndCAABAAwIrd0IAAABpVCt3QgAAwM6mK3dCAACANPkrd0IAAECaSyx3QgAAAACeLHdCAADAZfAsd0IAAIDLQi13QgAAQDGVLXdCAAAAl+ctd0IAAMD8OS53QgAAgGKMLndCAABAyN4ud0IAAAAuMS93QgAAwJODL3dCAACA+dUvd0IAAEBfKDB3QgAAAMV6MHdCAADAKs0wd0IAAICQHzF3QgAAQPZxMXdCAAAAXMQxd0I=\",\"dtype\":\"float64\",\"shape\":[127]},\"y\":[0.9944315925511179,0.9898318473486883,0.9871737529160225,0.9879731207786646,0.9909413667306475,0.9915465082064858,0.9946223137354124,0.9967037909147167,0.9979386020865314,0.9934056192034189,0.9944759212851118,0.99592794927204,0.9961691617509991,0.9969301601706759,0.9971358976717425,0.9958902199710057,0.9941628915249575,0.9931255075470334,0.9933633510388306,0.994032100212956,0.994688474359967,0.9942027803878379,0.9922106418494722,0.9898164875978024,0.987197833918425,0.9853145617394674,0.9836046426669457,0.9819732775925107,0.9798470389854931,0.9766564879206877,0.9729539467769811,0.9696078326797823,0.9665104789691191,0.9636113947435441,0.9610596188506716,0.9585126958173368,0.9556308351154628,0.9522851555015911,0.9491538036081114,0.9464404471188844,0.9439487048383793,0.9420237466639323,0.940258800232746,0.9382296783763806,0.9359687894513932,0.933447173913058,0.9312433551574293,0.9291951107214425,0.92729667736873,0.9253753520687699,0.9231732416103402,0.9209547388156726,0.9189798622195995,0.9169730031158049,0.9150917132232076,0.9131160743539135,0.9110765084609139,0.9088212477657631,0.9065220214269978,0.9042067728939025,0.9018340114476103,0.8994612819721594,0.8970885321131469,0.8945857132675741,0.8919421368671772,0.8891542856798136,0.8863643767704429,0.8835768591867103,0.8807864010398864,0.8779416987522529,0.8749881786024294,0.8719376935045307,0.8689898101762707,0.8660095449268841,0.8630394684938316,0.8600376029800153,0.8570401188914588,0.8540065155215382,0.8508947024522553,0.8478118690058419,0.8447275988996619,0.8416449443222731,0.8385742203009493,0.8355259648526927,0.8324728271586163,0.8293683451529894,0.8262465535831918,0.8231585041949218,0.8201092523308423,0.8170837592756848,0.8140631580546553,0.8110388571050465,0.807977301797912,0.8049171443078778,0.8018636321406905,0.7987896809369919,0.7957742179589785,0.792764128256589,0.7897475926081354,0.786746272656691,0.7837633054925285,0.7807841531457058,0.7778481099427089,0.7749114666047064,0.7720142545885778,0.7691550857635778,0.7663268635910401,0.7635123450119147,0.7607363340920518,0.7579994108236128,0.7552092551793972,0.7524505518009303,0.7497159874139115,0.7470056992780088,0.7443000682032053,0.7416872429410819,0.7391115953176539,0.7365653107030339,0.7340339717961981,0.7315183395347252,0.7290106421261164]},\"selected\":{\"id\":\"10701\"},\"selection_policy\":{\"id\":\"10700\"}},\"id\":\"10670\",\"type\":\"ColumnDataSource\"},{\"attributes\":{\"overlay\":{\"id\":\"10637\"}},\"id\":\"10633\",\"type\":\"BoxZoomTool\"},{\"attributes\":{\"source\":{\"id\":\"10645\"}},\"id\":\"10649\",\"type\":\"CDSView\"},{\"attributes\":{\"fill_color\":{\"value\":\"white\"},\"line_color\":{\"value\":\"blue\"},\"size\":{\"units\":\"screen\",\"value\":5},\"x\":{\"field\":\"x\"},\"y\":{\"field\":\"y\"}},\"id\":\"10671\",\"type\":\"Circle\"},{\"attributes\":{\"line_alpha\":0.1,\"line_color\":\"blue\",\"line_width\":4,\"x\":{\"field\":\"x\"},\"y\":{\"field\":\"y\"}},\"id\":\"10647\",\"type\":\"Line\"},{\"attributes\":{},\"id\":\"10619\",\"type\":\"LinearScale\"},{\"attributes\":{\"months\":[0,6]},\"id\":\"10666\",\"type\":\"MonthsTicker\"},{\"attributes\":{},\"id\":\"10700\",\"type\":\"UnionRenderers\"},{\"attributes\":{\"line_color\":\"lightblue\",\"line_width\":4,\"x\":{\"field\":\"x\"},\"y\":{\"field\":\"y\"}},\"id\":\"10676\",\"type\":\"Line\"},{\"attributes\":{\"months\":[0,2,4,6,8,10]},\"id\":\"10664\",\"type\":\"MonthsTicker\"},{\"attributes\":{},\"id\":\"10617\",\"type\":\"DataRange1d\"},{\"attributes\":{\"base\":60,\"mantissas\":[1,2,5,10,15,20,30],\"max_interval\":1800000.0,\"min_interval\":1000.0,\"num_minor_ticks\":0},\"id\":\"10657\",\"type\":\"AdaptiveTicker\"},{\"attributes\":{},\"id\":\"10699\",\"type\":\"Selection\"},{\"attributes\":{},\"id\":\"11052\",\"type\":\"UnionRenderers\"},{\"attributes\":{\"axis_label\":\"R_squared\",\"formatter\":{\"id\":\"10710\"},\"minor_tick_in\":-5,\"minor_tick_out\":-3,\"ticker\":{\"id\":\"10628\"}},\"id\":\"10627\",\"type\":\"LinearAxis\"},{\"attributes\":{},\"id\":\"11050\",\"type\":\"UnionRenderers\"},{\"attributes\":{\"num_minor_ticks\":5,\"tickers\":[{\"id\":\"10656\"},{\"id\":\"10657\"},{\"id\":\"10658\"},{\"id\":\"10659\"},{\"id\":\"10660\"},{\"id\":\"10661\"},{\"id\":\"10662\"},{\"id\":\"10663\"},{\"id\":\"10664\"},{\"id\":\"10665\"},{\"id\":\"10666\"},{\"id\":\"10667\"}]},\"id\":\"10624\",\"type\":\"DatetimeTicker\"},{\"attributes\":{},\"id\":\"10701\",\"type\":\"Selection\"},{\"attributes\":{},\"id\":\"10621\",\"type\":\"LinearScale\"},{\"attributes\":{\"fill_alpha\":{\"value\":0.1},\"fill_color\":{\"value\":\"white\"},\"line_alpha\":{\"value\":0.1},\"line_color\":{\"value\":\"blue\"},\"size\":{\"units\":\"screen\",\"value\":5},\"x\":{\"field\":\"x\"},\"y\":{\"field\":\"y\"}},\"id\":\"10672\",\"type\":\"Circle\"},{\"attributes\":{},\"id\":\"10628\",\"type\":\"BasicTicker\"},{\"attributes\":{\"axis\":{\"id\":\"10623\"},\"ticker\":null},\"id\":\"10626\",\"type\":\"Grid\"},{\"attributes\":{},\"id\":\"10615\",\"type\":\"DataRange1d\"},{\"attributes\":{},\"id\":\"10636\",\"type\":\"HelpTool\"},{\"attributes\":{\"data\":{\"x\":{\"__ndarray__\":\"AACARzYJd0IAAECtiAl3QgAAABPbCXdCAADAeC0Kd0IAAIDefwp3QgAAQETSCndCAAAAqiQLd0IAAMAPdwt3QgAAgHXJC3dCAABA2xsMd0IAAABBbgx3QgAAwKbADHdCAACADBMNd0IAAEByZQ13QgAAANi3DXdCAADAPQoOd0IAAICjXA53QgAAQAmvDndCAAAAbwEPd0IAAMDUUw93QgAAgDqmD3dCAABAoPgPd0IAAAAGSxB3QgAAwGudEHdCAACA0e8Qd0IAAEA3QhF3QgAAAJ2UEXdCAADAAucRd0IAAIBoORJ3QgAAQM6LEndCAAAANN4Sd0IAAMCZMBN3QgAAgP+CE3dCAABAZdUTd0IAAADLJxR3QgAAwDB6FHdCAACAlswUd0IAAED8HhV3QgAAAGJxFXdCAADAx8MVd0IAAIAtFhZ3QgAAQJNoFndCAAAA+boWd0IAAMBeDRd3QgAAgMRfF3dCAABAKrIXd0IAAACQBBh3QgAAwPVWGHdCAACAW6kYd0IAAEDB+xh3QgAAACdOGXdCAADAjKAZd0IAAIDy8hl3QgAAQFhFGndCAAAAvpcad0IAAMAj6hp3QgAAgIk8G3dCAABA744bd0IAAABV4Rt3QgAAwLozHHdCAACAIIYcd0IAAECG2Bx3QgAAAOwqHXdCAADAUX0dd0IAAIC3zx13QgAAQB0iHndCAAAAg3Qed0IAAMDoxh53QgAAgE4ZH3dCAABAtGsfd0IAAAAavh93QgAAwH8QIHdCAACA5WIgd0IAAEBLtSB3QgAAALEHIXdCAADAFlohd0IAAIB8rCF3QgAAQOL+IXdCAAAASFEid0IAAMCtoyJ3QgAAgBP2IndCAABAeUgjd0IAAADfmiN3QgAAwETtI3dCAACAqj8kd0IAAEAQkiR3QgAAAHbkJHdCAADA2zYld0IAAIBBiSV3QgAAQKfbJXdCAAAADS4md0IAAMBygCZ3QgAAgNjSJndCAABAPiUnd0IAAACkdyd3QgAAwAnKJ3dCAACAbxwod0IAAEDVbih3QgAAADvBKHdCAADAoBMpd0IAAIAGZil3QgAAQGy4KXdCAAAA0goqd0IAAMA3XSp3QgAAgJ2vKndCAABAAwIrd0IAAABpVCt3QgAAwM6mK3dCAACANPkrd0IAAECaSyx3QgAAAACeLHdCAADAZfAsd0IAAIDLQi13QgAAQDGVLXdCAAAAl+ctd0IAAMD8OS53QgAAgGKMLndCAABAyN4ud0IAAAAuMS93QgAAwJODL3dCAACA+dUvd0IAAEBfKDB3QgAAAMV6MHdCAADAKs0wd0IAAICQHzF3QgAAQPZxMXdCAAAAXMQxd0I=\",\"dtype\":\"float64\",\"shape\":[127]},\"y\":[0.9944315925511179,0.9898318473486883,0.9871737529160225,0.9879731207786646,0.9909413667306475,0.9915465082064858,0.9946223137354124,0.9967037909147167,0.9979386020865314,0.9934056192034189,0.9944759212851118,0.99592794927204,0.9961691617509991,0.9969301601706759,0.9971358976717425,0.9958902199710057,0.9941628915249575,0.9931255075470334,0.9933633510388306,0.994032100212956,0.994688474359967,0.9942027803878379,0.9922106418494722,0.9898164875978024,0.987197833918425,0.9853145617394674,0.9836046426669457,0.9819732775925107,0.9798470389854931,0.9766564879206877,0.9729539467769811,0.9696078326797823,0.9665104789691191,0.9636113947435441,0.9610596188506716,0.9585126958173368,0.9556308351154628,0.9522851555015911,0.9491538036081114,0.9464404471188844,0.9439487048383793,0.9420237466639323,0.940258800232746,0.9382296783763806,0.9359687894513932,0.933447173913058,0.9312433551574293,0.9291951107214425,0.92729667736873,0.9253753520687699,0.9231732416103402,0.9209547388156726,0.9189798622195995,0.9169730031158049,0.9150917132232076,0.9131160743539135,0.9110765084609139,0.9088212477657631,0.9065220214269978,0.9042067728939025,0.9018340114476103,0.8994612819721594,0.8970885321131469,0.8945857132675741,0.8919421368671772,0.8891542856798136,0.8863643767704429,0.8835768591867103,0.8807864010398864,0.8779416987522529,0.8749881786024294,0.8719376935045307,0.8689898101762707,0.8660095449268841,0.8630394684938316,0.8600376029800153,0.8570401188914588,0.8540065155215382,0.8508947024522553,0.8478118690058419,0.8447275988996619,0.8416449443222731,0.8385742203009493,0.8355259648526927,0.8324728271586163,0.8293683451529894,0.8262465535831918,0.8231585041949218,0.8201092523308423,0.8170837592756848,0.8140631580546553,0.8110388571050465,0.807977301797912,0.8049171443078778,0.8018636321406905,0.7987896809369919,0.7957742179589785,0.792764128256589,0.7897475926081354,0.786746272656691,0.7837633054925285,0.7807841531457058,0.7778481099427089,0.7749114666047064,0.7720142545885778,0.7691550857635778,0.7663268635910401,0.7635123450119147,0.7607363340920518,0.7579994108236128,0.7552092551793972,0.7524505518009303,0.7497159874139115,0.7470056992780088,0.7443000682032053,0.7416872429410819,0.7391115953176539,0.7365653107030339,0.7340339717961981,0.7315183395347252,0.7290106421261164]},\"selected\":{\"id\":\"10699\"},\"selection_policy\":{\"id\":\"10698\"}},\"id\":\"10645\",\"type\":\"ColumnDataSource\"},{\"attributes\":{},\"id\":\"10631\",\"type\":\"PanTool\"},{\"attributes\":{\"source\":{\"id\":\"10670\"}},\"id\":\"10674\",\"type\":\"CDSView\"},{\"attributes\":{\"data\":{\"x\":{\"__ndarray__\":\"AACARzYJd0IAAECtiAl3QgAAABPbCXdCAADAeC0Kd0IAAIDefwp3QgAAQETSCndCAAAAqiQLd0IAAMAPdwt3QgAAgHXJC3dCAABA2xsMd0IAAABBbgx3QgAAwKbADHdCAACADBMNd0IAAEByZQ13QgAAANi3DXdCAADAPQoOd0IAAICjXA53QgAAQAmvDndCAAAAbwEPd0IAAMDUUw93QgAAgDqmD3dCAABAoPgPd0IAAAAGSxB3QgAAwGudEHdCAACA0e8Qd0IAAEA3QhF3QgAAAJ2UEXdCAADAAucRd0IAAIBoORJ3QgAAQM6LEndCAAAANN4Sd0IAAMCZMBN3QgAAgP+CE3dCAABAZdUTd0IAAADLJxR3QgAAwDB6FHdCAACAlswUd0IAAED8HhV3QgAAAGJxFXdCAADAx8MVd0IAAIAtFhZ3QgAAQJNoFndCAAAA+boWd0IAAMBeDRd3QgAAgMRfF3dCAABAKrIXd0IAAACQBBh3QgAAwPVWGHdCAACAW6kYd0IAAEDB+xh3QgAAACdOGXdCAADAjKAZd0IAAIDy8hl3QgAAQFhFGndCAAAAvpcad0IAAMAj6hp3QgAAgIk8G3dCAABA744bd0IAAABV4Rt3QgAAwLozHHdCAACAIIYcd0IAAECG2Bx3QgAAAOwqHXdCAADAUX0dd0IAAIC3zx13QgAAQB0iHndCAAAAg3Qed0IAAMDoxh53QgAAgE4ZH3dCAABAtGsfd0IAAAAavh93QgAAwH8QIHdCAACA5WIgd0IAAEBLtSB3QgAAALEHIXdCAADAFlohd0IAAIB8rCF3QgAAQOL+IXdCAAAASFEid0IAAMCtoyJ3QgAAgBP2IndCAABAeUgjd0IAAADfmiN3QgAAwETtI3dCAACAqj8kd0IAAEAQkiR3QgAAAHbkJHdCAADA2zYld0IAAIBBiSV3QgAAQKfbJXdCAAAADS4md0IAAMBygCZ3QgAAgNjSJndCAABAPiUnd0IAAACkdyd3QgAAwAnKJ3dCAACAbxwod0IAAEDVbih3QgAAADvBKHdCAADAoBMpd0IAAIAGZil3QgAAQGy4KXdCAAAA0goqd0IAAMA3XSp3QgAAgJ2vKndCAABAAwIrd0IAAABpVCt3QgAAwM6mK3dCAACANPkrd0IAAECaSyx3QgAAAACeLHdCAADAZfAsd0IAAIDLQi13QgAAQDGVLXdCAAAAl+ctd0IAAMD8OS53QgAAgGKMLndCAABAyN4ud0IAAAAuMS93QgAAwJODL3dCAACA+dUvd0IAAEBfKDB3QgAAAMV6MHdCAADAKs0wd0IAAICQHzF3QgAAQPZxMXdCAAAAXMQxd0I=\",\"dtype\":\"float64\",\"shape\":[127]},\"y\":[0.9679978062779606,0.9700480106286499,0.971656182210577,0.9736411587889005,0.9761528777469112,0.977771783735718,0.9804281014363937,0.9829177649247829,0.9849718279271791,0.9848258531873134,0.9857323985434353,0.9868442649395247,0.9875025342214719,0.9883193746760213,0.9889071538289531,0.9890533775111089,0.9890298990558094,0.9890531515732056,0.9892709520102774,0.9895838809322223,0.9899099889838557,0.9899919975413152,0.9898162173381114,0.9895513799962058,0.9892273841679863,0.9889506730185715,0.9886730792980905,0.9883888497272123,0.9880423897828409,0.987585928533332,0.9870685031943675,0.9865644488957482,0.9860658726462249,0.9855759728669622,0.9851052949135793,0.984632044070976,0.9841270378513256,0.9835833325600511,0.9830520977422951,0.9825488128963521,0.9820602423078728,0.9816180557179347,0.9811892216342538,0.9807409102933952,0.9802781573586284,0.9797963101212208,0.9793375172363576,0.978895616908901,0.9784667755623262,0.9780365516961604,0.9775883686773429,0.9771429258391684,0.9767146609781826,0.976290316411239,0.9758757504411794,0.9754569522703131,0.9750357777559553,0.9745991062916086,0.97416244346847,0.9737283122166098,0.973290786142014,0.9728562030947691,0.9724201887994687,0.9719790100779451,0.9715295419419878,0.9710715371069945,0.9706154788466494,0.9701612946692771,0.9697079448905578,0.9692559568654411,0.9687961108666361,0.968331393918836,0.9678757658726784,0.96741984318041,0.9669630942373677,0.9665089912929726,0.9660571343596263,0.9656047409666978,0.9651489366466647,0.9646970661885069,0.9642470609977987,0.9637991345501293,0.9633575670595674,0.9629162835946165,0.9624766570056525,0.9620355705659703,0.9615914638153776,0.9611592150363343,0.9607278260375932,0.9603000104289975,0.959874502047148,0.9594507184625388,0.9590264192203631,0.9586013976200004,0.958182163880938,0.9577659292329438,0.9573473775409738,0.9569376188727386,0.9565279601866614,0.956120791027247,0.9557205765109054,0.955316502348372,0.9549191061096554,0.9545225657267125,0.9541371382128311,0.9537456886996359,0.9533676713104047,0.9529880507515125,0.9526083698150786,0.9522370672993478,0.9518640870474706,0.9514949126912956,0.9511290556083468,0.9507665064919294,0.9504059803079677,0.9500531541060936,0.9497044076582515,0.9493592170474896,0.9490166285632793,0.9486766702869762,0.9483388307021351]},\"selected\":{\"id\":\"11051\"},\"selection_policy\":{\"id\":\"11050\"}},\"id\":\"10675\",\"type\":\"ColumnDataSource\"},{\"attributes\":{\"fill_alpha\":{\"value\":0.1},\"fill_color\":{\"value\":\"white\"},\"line_alpha\":{\"value\":0.1},\"line_color\":{\"value\":\"lightblue\"},\"size\":{\"units\":\"screen\",\"value\":5},\"x\":{\"field\":\"x\"},\"y\":{\"field\":\"y\"}},\"id\":\"10705\",\"type\":\"Circle\"},{\"attributes\":{\"active_drag\":\"auto\",\"active_inspect\":\"auto\",\"active_multi\":null,\"active_scroll\":\"auto\",\"active_tap\":\"auto\",\"tools\":[{\"id\":\"10631\"},{\"id\":\"10632\"},{\"id\":\"10633\"},{\"id\":\"10634\"},{\"id\":\"10635\"},{\"id\":\"10636\"},{\"id\":\"10712\"}]},\"id\":\"10638\",\"type\":\"Toolbar\"},{\"attributes\":{\"label\":{\"value\":\"R_squared\"},\"renderers\":[{\"id\":\"10648\"}]},\"id\":\"10669\",\"type\":\"LegendItem\"},{\"attributes\":{\"line_color\":\"blue\",\"line_width\":4,\"x\":{\"field\":\"x\"},\"y\":{\"field\":\"y\"}},\"id\":\"10646\",\"type\":\"Line\"},{\"attributes\":{\"months\":[0,4,8]},\"id\":\"10665\",\"type\":\"MonthsTicker\"},{\"attributes\":{\"text\":\"Total Cases Exponential Validity: Italy\"},\"id\":\"10613\",\"type\":\"Title\"},{\"attributes\":{\"data\":{\"x\":{\"__ndarray__\":\"AACARzYJd0IAAECtiAl3QgAAABPbCXdCAADAeC0Kd0IAAIDefwp3QgAAQETSCndCAAAAqiQLd0IAAMAPdwt3QgAAgHXJC3dCAABA2xsMd0IAAABBbgx3QgAAwKbADHdCAACADBMNd0IAAEByZQ13QgAAANi3DXdCAADAPQoOd0IAAICjXA53QgAAQAmvDndCAAAAbwEPd0IAAMDUUw93QgAAgDqmD3dCAABAoPgPd0IAAAAGSxB3QgAAwGudEHdCAACA0e8Qd0IAAEA3QhF3QgAAAJ2UEXdCAADAAucRd0IAAIBoORJ3QgAAQM6LEndCAAAANN4Sd0IAAMCZMBN3QgAAgP+CE3dCAABAZdUTd0IAAADLJxR3QgAAwDB6FHdCAACAlswUd0IAAED8HhV3QgAAAGJxFXdCAADAx8MVd0IAAIAtFhZ3QgAAQJNoFndCAAAA+boWd0IAAMBeDRd3QgAAgMRfF3dCAABAKrIXd0IAAACQBBh3QgAAwPVWGHdCAACAW6kYd0IAAEDB+xh3QgAAACdOGXdCAADAjKAZd0IAAIDy8hl3QgAAQFhFGndCAAAAvpcad0IAAMAj6hp3QgAAgIk8G3dCAABA744bd0IAAABV4Rt3QgAAwLozHHdCAACAIIYcd0IAAECG2Bx3QgAAAOwqHXdCAADAUX0dd0IAAIC3zx13QgAAQB0iHndCAAAAg3Qed0IAAMDoxh53QgAAgE4ZH3dCAABAtGsfd0IAAAAavh93QgAAwH8QIHdCAACA5WIgd0IAAEBLtSB3QgAAALEHIXdCAADAFlohd0IAAIB8rCF3QgAAQOL+IXdCAAAASFEid0IAAMCtoyJ3QgAAgBP2IndCAABAeUgjd0IAAADfmiN3QgAAwETtI3dCAACAqj8kd0IAAEAQkiR3QgAAAHbkJHdCAADA2zYld0IAAIBBiSV3QgAAQKfbJXdCAAAADS4md0IAAMBygCZ3QgAAgNjSJndCAABAPiUnd0IAAACkdyd3QgAAwAnKJ3dCAACAbxwod0IAAEDVbih3QgAAADvBKHdCAADAoBMpd0IAAIAGZil3QgAAQGy4KXdCAAAA0goqd0IAAMA3XSp3QgAAgJ2vKndCAABAAwIrd0IAAABpVCt3QgAAwM6mK3dCAACANPkrd0IAAECaSyx3QgAAAACeLHdCAADAZfAsd0IAAIDLQi13QgAAQDGVLXdCAAAAl+ctd0IAAMD8OS53QgAAgGKMLndCAABAyN4ud0IAAAAuMS93QgAAwJODL3dCAACA+dUvd0IAAEBfKDB3QgAAAMV6MHdCAADAKs0wd0IAAICQHzF3QgAAQPZxMXdCAAAAXMQxd0I=\",\"dtype\":\"float64\",\"shape\":[127]},\"y\":[0.9679978062779606,0.9700480106286499,0.971656182210577,0.9736411587889005,0.9761528777469112,0.977771783735718,0.9804281014363937,0.9829177649247829,0.9849718279271791,0.9848258531873134,0.9857323985434353,0.9868442649395247,0.9875025342214719,0.9883193746760213,0.9889071538289531,0.9890533775111089,0.9890298990558094,0.9890531515732056,0.9892709520102774,0.9895838809322223,0.9899099889838557,0.9899919975413152,0.9898162173381114,0.9895513799962058,0.9892273841679863,0.9889506730185715,0.9886730792980905,0.9883888497272123,0.9880423897828409,0.987585928533332,0.9870685031943675,0.9865644488957482,0.9860658726462249,0.9855759728669622,0.9851052949135793,0.984632044070976,0.9841270378513256,0.9835833325600511,0.9830520977422951,0.9825488128963521,0.9820602423078728,0.9816180557179347,0.9811892216342538,0.9807409102933952,0.9802781573586284,0.9797963101212208,0.9793375172363576,0.978895616908901,0.9784667755623262,0.9780365516961604,0.9775883686773429,0.9771429258391684,0.9767146609781826,0.976290316411239,0.9758757504411794,0.9754569522703131,0.9750357777559553,0.9745991062916086,0.97416244346847,0.9737283122166098,0.973290786142014,0.9728562030947691,0.9724201887994687,0.9719790100779451,0.9715295419419878,0.9710715371069945,0.9706154788466494,0.9701612946692771,0.9697079448905578,0.9692559568654411,0.9687961108666361,0.968331393918836,0.9678757658726784,0.96741984318041,0.9669630942373677,0.9665089912929726,0.9660571343596263,0.9656047409666978,0.9651489366466647,0.9646970661885069,0.9642470609977987,0.9637991345501293,0.9633575670595674,0.9629162835946165,0.9624766570056525,0.9620355705659703,0.9615914638153776,0.9611592150363343,0.9607278260375932,0.9603000104289975,0.959874502047148,0.9594507184625388,0.9590264192203631,0.9586013976200004,0.958182163880938,0.9577659292329438,0.9573473775409738,0.9569376188727386,0.9565279601866614,0.956120791027247,0.9557205765109054,0.955316502348372,0.9549191061096554,0.9545225657267125,0.9541371382128311,0.9537456886996359,0.9533676713104047,0.9529880507515125,0.9526083698150786,0.9522370672993478,0.9518640870474706,0.9514949126912956,0.9511290556083468,0.9507665064919294,0.9504059803079677,0.9500531541060936,0.9497044076582515,0.9493592170474896,0.9490166285632793,0.9486766702869762,0.9483388307021351]},\"selected\":{\"id\":\"11053\"},\"selection_policy\":{\"id\":\"11052\"}},\"id\":\"10703\",\"type\":\"ColumnDataSource\"},{\"attributes\":{\"days\":[1,8,15,22]},\"id\":\"10661\",\"type\":\"DaysTicker\"},{\"attributes\":{\"days\":[\"%d %B\"]},\"id\":\"10708\",\"type\":\"DatetimeTickFormatter\"},{\"attributes\":{\"bottom_units\":\"screen\",\"fill_alpha\":0.5,\"fill_color\":\"lightgrey\",\"left_units\":\"screen\",\"level\":\"overlay\",\"line_alpha\":1.0,\"line_color\":\"black\",\"line_dash\":[4,4],\"line_width\":2,\"render_mode\":\"css\",\"right_units\":\"screen\",\"top_units\":\"screen\"},\"id\":\"10637\",\"type\":\"BoxAnnotation\"},{\"attributes\":{},\"id\":\"10632\",\"type\":\"WheelZoomTool\"},{\"attributes\":{\"callback\":null,\"formatters\":{\"@x\":\"datetime\"},\"mode\":\"vline\",\"tooltips\":[[\"date\",\"@x{%d %B}\"],[\"R_squared/Corr_A_B\",\"@y{0[.]000}\"]]},\"id\":\"10712\",\"type\":\"HoverTool\"},{\"attributes\":{\"fill_color\":{\"value\":\"white\"},\"line_color\":{\"value\":\"lightblue\"},\"size\":{\"units\":\"screen\",\"value\":5},\"x\":{\"field\":\"x\"},\"y\":{\"field\":\"y\"}},\"id\":\"10704\",\"type\":\"Circle\"},{\"attributes\":{},\"id\":\"10667\",\"type\":\"YearsTicker\"},{\"attributes\":{\"data_source\":{\"id\":\"10703\"},\"glyph\":{\"id\":\"10704\"},\"hover_glyph\":null,\"muted_glyph\":null,\"nonselection_glyph\":{\"id\":\"10705\"},\"selection_glyph\":null,\"view\":{\"id\":\"10707\"}},\"id\":\"10706\",\"type\":\"GlyphRenderer\"},{\"attributes\":{},\"id\":\"11053\",\"type\":\"Selection\"},{\"attributes\":{\"data_source\":{\"id\":\"10645\"},\"glyph\":{\"id\":\"10646\"},\"hover_glyph\":null,\"muted_glyph\":null,\"nonselection_glyph\":{\"id\":\"10647\"},\"selection_glyph\":null,\"view\":{\"id\":\"10649\"}},\"id\":\"10648\",\"type\":\"GlyphRenderer\"}],\"root_ids\":[\"10612\"]},\"title\":\"Bokeh Application\",\"version\":\"2.0.2\"}};\n",
       "  var render_items = [{\"docid\":\"e2b2e7b0-02ce-4093-8b71-9272731f8fdd\",\"root_ids\":[\"10612\"],\"roots\":{\"10612\":\"4cea116a-f31d-490d-ba20-ce1a37c895af\"}}];\n",
       "  root.Bokeh.embed.embed_items_notebook(docs_json, render_items);\n",
       "\n",
       "  }\n",
       "  if (root.Bokeh !== undefined) {\n",
       "    embed_document(root);\n",
       "  } else {\n",
       "    var attempts = 0;\n",
       "    var timer = setInterval(function(root) {\n",
       "      if (root.Bokeh !== undefined) {\n",
       "        clearInterval(timer);\n",
       "        embed_document(root);\n",
       "      } else {\n",
       "        attempts++;\n",
       "        if (attempts > 100) {\n",
       "          clearInterval(timer);\n",
       "          console.log(\"Bokeh: ERROR: Unable to run BokehJS code because BokehJS library is missing\");\n",
       "        }\n",
       "      }\n",
       "    }, 10, root)\n",
       "  }\n",
       "})(window);"
      ],
      "application/vnd.bokehjs_exec.v0+json": ""
     },
     "metadata": {
      "application/vnd.bokehjs_exec.v0+json": {
       "id": "10612"
      }
     },
     "output_type": "display_data"
    }
   ],
   "source": [
    "p_total_cases_exp_val_Italy = bokeh_plot_N_lines(x=time_date_new + 6, y_list=[R_2_cases, Correlation_A_B], \n",
    "                  title='Total Cases Exponential Validity: Italy', \n",
    "                  dim=[600, 450], \n",
    "                  x_label='Date', \n",
    "                  y_label='R_squared', legend_list=['R_squared', 'Corr_A_B'],\n",
    "                  x_label_hover='date', y_label_hover='R_squared/Corr_A_B',\n",
    "                  color_list=['blue', 'lightblue'],legend_location=\"top_right\", y_minmax=None)\n",
    "\n",
    "output_file(\"total_cases_exponential_validity_Italy.html\")\n",
    "\n",
    "show(p_total_cases_exp_val_Italy)"
   ]
  },
  {
   "cell_type": "markdown",
   "metadata": {},
   "source": [
    "--------------------"
   ]
  },
  {
   "cell_type": "code",
   "execution_count": 57,
   "metadata": {},
   "outputs": [],
   "source": [
    "R_2_deaths = []\n",
    "Correlation_A_B = []\n",
    "iii = 7\n",
    "\n",
    "while(iii <= len(deceduti_italy)):\n",
    "    fit_range = iii   # best fit when fit_range = 28 namely March 22\n",
    "    xdata = np.linspace(0, fit_range, fit_range)\n",
    "    init_guess = [5000, 0.001]\n",
    "    fit = curve_fit(model_exp, xdata, deceduti_italy.loc[0:(fit_range-1)], p0=init_guess)\n",
    "    ans, cov = fit\n",
    "    fit_a, fit_b = ans\n",
    "    fit_a, fit_b\n",
    "    ydata = model_exp(xdata,fit_a,fit_b)\n",
    "    residuals = deceduti_italy.loc[0:(fit_range-1)] - ydata  #  Calculation of R^2\n",
    "    ss_res = np.sum(residuals**2)\n",
    "    ss_tot = np.sum((deceduti_italy.loc[0:(fit_range-1)] - np.mean(deceduti_italy.loc[0:(fit_range-1)]))**2)\n",
    "    r_squared = 1 - (ss_res / ss_tot)\n",
    "    R_2_deaths.append(r_squared)\n",
    "    correlation_ab = - cov[0,1] / (np.sqrt(np.diag(cov)[0] * np.diag(cov)[1]))\n",
    "    Correlation_A_B.append(correlation_ab)\n",
    "    iii = iii + 1"
   ]
  },
  {
   "cell_type": "code",
   "execution_count": 58,
   "metadata": {},
   "outputs": [
    {
     "name": "stderr",
     "output_type": "stream",
     "text": [
      "BokehUserWarning: ColumnDataSource's columns must be of the same length. Current lengths: ('x', 127), ('y', 121)\n",
      "BokehUserWarning: ColumnDataSource's columns must be of the same length. Current lengths: ('x', 127), ('y', 121)\n",
      "BokehUserWarning: ColumnDataSource's columns must be of the same length. Current lengths: ('x', 127), ('y', 121)\n",
      "BokehUserWarning: ColumnDataSource's columns must be of the same length. Current lengths: ('x', 127), ('y', 121)\n"
     ]
    },
    {
     "data": {
      "text/html": [
       "\n",
       "\n",
       "\n",
       "\n",
       "\n",
       "\n",
       "  <div class=\"bk-root\" id=\"8eee647c-163e-4536-afd4-631c81b6a715\" data-root-id=\"11511\"></div>\n"
      ]
     },
     "metadata": {},
     "output_type": "display_data"
    },
    {
     "data": {
      "application/javascript": [
       "(function(root) {\n",
       "  function embed_document(root) {\n",
       "    \n",
       "  var docs_json = {\"9d46c48e-b0fd-4224-9706-35a02f0a3796\":{\"roots\":{\"references\":[{\"attributes\":{\"below\":[{\"id\":\"11522\"}],\"center\":[{\"id\":\"11525\"},{\"id\":\"11529\"},{\"id\":\"11567\"}],\"left\":[{\"id\":\"11526\"}],\"plot_height\":450,\"renderers\":[{\"id\":\"11547\"},{\"id\":\"11572\"},{\"id\":\"11577\"},{\"id\":\"11605\"}],\"title\":{\"id\":\"11512\"},\"toolbar\":{\"id\":\"11537\"},\"x_range\":{\"id\":\"11514\"},\"x_scale\":{\"id\":\"11518\"},\"y_range\":{\"id\":\"11516\"},\"y_scale\":{\"id\":\"11520\"}},\"id\":\"11511\",\"subtype\":\"Figure\",\"type\":\"Plot\"},{\"attributes\":{},\"id\":\"11531\",\"type\":\"WheelZoomTool\"},{\"attributes\":{\"data\":{\"x\":{\"__ndarray__\":\"AACARzYJd0IAAECtiAl3QgAAABPbCXdCAADAeC0Kd0IAAIDefwp3QgAAQETSCndCAAAAqiQLd0IAAMAPdwt3QgAAgHXJC3dCAABA2xsMd0IAAABBbgx3QgAAwKbADHdCAACADBMNd0IAAEByZQ13QgAAANi3DXdCAADAPQoOd0IAAICjXA53QgAAQAmvDndCAAAAbwEPd0IAAMDUUw93QgAAgDqmD3dCAABAoPgPd0IAAAAGSxB3QgAAwGudEHdCAACA0e8Qd0IAAEA3QhF3QgAAAJ2UEXdCAADAAucRd0IAAIBoORJ3QgAAQM6LEndCAAAANN4Sd0IAAMCZMBN3QgAAgP+CE3dCAABAZdUTd0IAAADLJxR3QgAAwDB6FHdCAACAlswUd0IAAED8HhV3QgAAAGJxFXdCAADAx8MVd0IAAIAtFhZ3QgAAQJNoFndCAAAA+boWd0IAAMBeDRd3QgAAgMRfF3dCAABAKrIXd0IAAACQBBh3QgAAwPVWGHdCAACAW6kYd0IAAEDB+xh3QgAAACdOGXdCAADAjKAZd0IAAIDy8hl3QgAAQFhFGndCAAAAvpcad0IAAMAj6hp3QgAAgIk8G3dCAABA744bd0IAAABV4Rt3QgAAwLozHHdCAACAIIYcd0IAAECG2Bx3QgAAAOwqHXdCAADAUX0dd0IAAIC3zx13QgAAQB0iHndCAAAAg3Qed0IAAMDoxh53QgAAgE4ZH3dCAABAtGsfd0IAAAAavh93QgAAwH8QIHdCAACA5WIgd0IAAEBLtSB3QgAAALEHIXdCAADAFlohd0IAAIB8rCF3QgAAQOL+IXdCAAAASFEid0IAAMCtoyJ3QgAAgBP2IndCAABAeUgjd0IAAADfmiN3QgAAwETtI3dCAACAqj8kd0IAAEAQkiR3QgAAAHbkJHdCAADA2zYld0IAAIBBiSV3QgAAQKfbJXdCAAAADS4md0IAAMBygCZ3QgAAgNjSJndCAABAPiUnd0IAAACkdyd3QgAAwAnKJ3dCAACAbxwod0IAAEDVbih3QgAAADvBKHdCAADAoBMpd0IAAIAGZil3QgAAQGy4KXdCAAAA0goqd0IAAMA3XSp3QgAAgJ2vKndCAABAAwIrd0IAAABpVCt3QgAAwM6mK3dCAACANPkrd0IAAECaSyx3QgAAAACeLHdCAADAZfAsd0IAAIDLQi13QgAAQDGVLXdCAAAAl+ctd0IAAMD8OS53QgAAgGKMLndCAABAyN4ud0IAAAAuMS93QgAAwJODL3dCAACA+dUvd0IAAEBfKDB3QgAAAMV6MHdCAADAKs0wd0IAAICQHzF3QgAAQPZxMXdCAAAAXMQxd0I=\",\"dtype\":\"float64\",\"shape\":[127]},\"y\":[0.9906384833099334,0.9876702701263628,0.986034206451665,0.9937023701385499,0.9970511977507855,0.9979544752352847,0.9913778365717426,0.9929248433250588,0.9957403179282476,0.9977413133698139,0.9985366218172942,0.9969106059526226,0.996211572251712,0.9909112544567887,0.9925418195655226,0.9932047921984762,0.9924285278783038,0.9930340764201312,0.9923577489344909,0.9932926697800687,0.9948845546297247,0.9950079961757051,0.9935421243409132,0.9923519864209975,0.9905689301056676,0.9882674204511754,0.9878264212632235,0.9873989916144827,0.9860735965572663,0.9845430102319735,0.9830060388504964,0.9809094757488263,0.9787131870741717,0.9765424924030026,0.9740607080719607,0.9707721359330386,0.9675980745847533,0.9644603235650501,0.9611847156868383,0.9581929227609429,0.9553138048152379,0.9527668866041618,0.949832519376967,0.9471741782289388,0.9448856132660635,0.9428262702142188,0.9408090496270258,0.9390094702651643,0.9371368895937208,0.9351084492759572,0.9330557612153584,0.9312289735564631,0.9293543463395025,0.9275386266286831,0.9256884677837561,0.923825484706234,0.9216168769019616,0.9193267564535198,0.9171080210761422,0.9148403674368056,0.9124738376193,0.9100150508583008,0.9079318355263625,0.9055617444260692,0.9030142411545999,0.9004203648795525,0.8980689816751007,0.895753592355098,0.8934258167984068,0.8910112034278967,0.8884835555981856,0.8858991595144673,0.8832672224045979,0.8806489898317053,0.8781735601338101,0.875798568138153,0.8733701733341191,0.8708924136063186,0.868304639054517,0.8657347591288924,0.8631886604807198,0.8606646697392588,0.858127410712821,0.8555693576054788,0.852892171710644,0.8501818039869902,0.8474274701530655,0.844700900642225,0.8419345520946966,0.8391646559956998,0.8364338566397378,0.8336910711516987,0.8309211457595196,0.8281248123000429,0.8253329993158202,0.8225748810114298,0.8198481378354814,0.8171364351895642,0.8144164389141544,0.8117098496622602,0.8090390142962303,0.8063941173576937,0.8037525871249604,0.8011218929019263,0.798534052945386,0.7959443157297019,0.7933324930099895,0.7907137868390863,0.7881034028225027,0.7855332424297904,0.782979060796708,0.780445007608978,0.7779009250870768,0.7753487688829088,0.7727853047065396,0.7701530104253251,0.7675384675221336,0.7649378471200146,0.7623256667632259,0.7597215865677874,0.7571078677633711]},\"selected\":{\"id\":\"11598\"},\"selection_policy\":{\"id\":\"11597\"}},\"id\":\"11544\",\"type\":\"ColumnDataSource\"},{\"attributes\":{\"base\":24,\"mantissas\":[1,2,4,6,8,12],\"max_interval\":43200000.0,\"min_interval\":3600000.0,\"num_minor_ticks\":0},\"id\":\"11557\",\"type\":\"AdaptiveTicker\"},{\"attributes\":{\"months\":[0,1,2,3,4,5,6,7,8,9,10,11]},\"id\":\"11562\",\"type\":\"MonthsTicker\"},{\"attributes\":{\"overlay\":{\"id\":\"11536\"}},\"id\":\"11532\",\"type\":\"BoxZoomTool\"},{\"attributes\":{\"text\":\"Total Deaths Exponential Validity: Italy\"},\"id\":\"11512\",\"type\":\"Title\"},{\"attributes\":{},\"id\":\"11533\",\"type\":\"SaveTool\"},{\"attributes\":{\"base\":60,\"mantissas\":[1,2,5,10,15,20,30],\"max_interval\":1800000.0,\"min_interval\":1000.0,\"num_minor_ticks\":0},\"id\":\"11556\",\"type\":\"AdaptiveTicker\"},{\"attributes\":{},\"id\":\"11566\",\"type\":\"YearsTicker\"},{\"attributes\":{},\"id\":\"11599\",\"type\":\"UnionRenderers\"},{\"attributes\":{},\"id\":\"11518\",\"type\":\"LinearScale\"},{\"attributes\":{\"months\":[0,6]},\"id\":\"11565\",\"type\":\"MonthsTicker\"},{\"attributes\":{\"source\":{\"id\":\"11569\"}},\"id\":\"11573\",\"type\":\"CDSView\"},{\"attributes\":{},\"id\":\"11598\",\"type\":\"Selection\"},{\"attributes\":{},\"id\":\"11534\",\"type\":\"ResetTool\"},{\"attributes\":{},\"id\":\"11974\",\"type\":\"Selection\"},{\"attributes\":{},\"id\":\"11535\",\"type\":\"HelpTool\"},{\"attributes\":{\"source\":{\"id\":\"11602\"}},\"id\":\"11606\",\"type\":\"CDSView\"},{\"attributes\":{\"months\":[0,2,4,6,8,10]},\"id\":\"11563\",\"type\":\"MonthsTicker\"},{\"attributes\":{\"data_source\":{\"id\":\"11569\"},\"glyph\":{\"id\":\"11570\"},\"hover_glyph\":null,\"muted_glyph\":null,\"nonselection_glyph\":{\"id\":\"11571\"},\"selection_glyph\":null,\"view\":{\"id\":\"11573\"}},\"id\":\"11572\",\"type\":\"GlyphRenderer\"},{\"attributes\":{\"source\":{\"id\":\"11544\"}},\"id\":\"11548\",\"type\":\"CDSView\"},{\"attributes\":{},\"id\":\"11600\",\"type\":\"Selection\"},{\"attributes\":{\"data_source\":{\"id\":\"11602\"},\"glyph\":{\"id\":\"11603\"},\"hover_glyph\":null,\"muted_glyph\":null,\"nonselection_glyph\":{\"id\":\"11604\"},\"selection_glyph\":null,\"view\":{\"id\":\"11606\"}},\"id\":\"11605\",\"type\":\"GlyphRenderer\"},{\"attributes\":{\"line_alpha\":0.1,\"line_color\":\"violet\",\"line_width\":4,\"x\":{\"field\":\"x\"},\"y\":{\"field\":\"y\"}},\"id\":\"11576\",\"type\":\"Line\"},{\"attributes\":{\"source\":{\"id\":\"11574\"}},\"id\":\"11578\",\"type\":\"CDSView\"},{\"attributes\":{},\"id\":\"11527\",\"type\":\"BasicTicker\"},{\"attributes\":{\"data_source\":{\"id\":\"11544\"},\"glyph\":{\"id\":\"11545\"},\"hover_glyph\":null,\"muted_glyph\":null,\"nonselection_glyph\":{\"id\":\"11546\"},\"selection_glyph\":null,\"view\":{\"id\":\"11548\"}},\"id\":\"11547\",\"type\":\"GlyphRenderer\"},{\"attributes\":{\"num_minor_ticks\":5,\"tickers\":[{\"id\":\"11555\"},{\"id\":\"11556\"},{\"id\":\"11557\"},{\"id\":\"11558\"},{\"id\":\"11559\"},{\"id\":\"11560\"},{\"id\":\"11561\"},{\"id\":\"11562\"},{\"id\":\"11563\"},{\"id\":\"11564\"},{\"id\":\"11565\"},{\"id\":\"11566\"}]},\"id\":\"11523\",\"type\":\"DatetimeTicker\"},{\"attributes\":{\"data\":{\"x\":{\"__ndarray__\":\"AACARzYJd0IAAECtiAl3QgAAABPbCXdCAADAeC0Kd0IAAIDefwp3QgAAQETSCndCAAAAqiQLd0IAAMAPdwt3QgAAgHXJC3dCAABA2xsMd0IAAABBbgx3QgAAwKbADHdCAACADBMNd0IAAEByZQ13QgAAANi3DXdCAADAPQoOd0IAAICjXA53QgAAQAmvDndCAAAAbwEPd0IAAMDUUw93QgAAgDqmD3dCAABAoPgPd0IAAAAGSxB3QgAAwGudEHdCAACA0e8Qd0IAAEA3QhF3QgAAAJ2UEXdCAADAAucRd0IAAIBoORJ3QgAAQM6LEndCAAAANN4Sd0IAAMCZMBN3QgAAgP+CE3dCAABAZdUTd0IAAADLJxR3QgAAwDB6FHdCAACAlswUd0IAAED8HhV3QgAAAGJxFXdCAADAx8MVd0IAAIAtFhZ3QgAAQJNoFndCAAAA+boWd0IAAMBeDRd3QgAAgMRfF3dCAABAKrIXd0IAAACQBBh3QgAAwPVWGHdCAACAW6kYd0IAAEDB+xh3QgAAACdOGXdCAADAjKAZd0IAAIDy8hl3QgAAQFhFGndCAAAAvpcad0IAAMAj6hp3QgAAgIk8G3dCAABA744bd0IAAABV4Rt3QgAAwLozHHdCAACAIIYcd0IAAECG2Bx3QgAAAOwqHXdCAADAUX0dd0IAAIC3zx13QgAAQB0iHndCAAAAg3Qed0IAAMDoxh53QgAAgE4ZH3dCAABAtGsfd0IAAAAavh93QgAAwH8QIHdCAACA5WIgd0IAAEBLtSB3QgAAALEHIXdCAADAFlohd0IAAIB8rCF3QgAAQOL+IXdCAAAASFEid0IAAMCtoyJ3QgAAgBP2IndCAABAeUgjd0IAAADfmiN3QgAAwETtI3dCAACAqj8kd0IAAEAQkiR3QgAAAHbkJHdCAADA2zYld0IAAIBBiSV3QgAAQKfbJXdCAAAADS4md0IAAMBygCZ3QgAAgNjSJndCAABAPiUnd0IAAACkdyd3QgAAwAnKJ3dCAACAbxwod0IAAEDVbih3QgAAADvBKHdCAADAoBMpd0IAAIAGZil3QgAAQGy4KXdCAAAA0goqd0IAAMA3XSp3QgAAgJ2vKndCAABAAwIrd0IAAABpVCt3QgAAwM6mK3dCAACANPkrd0IAAECaSyx3QgAAAACeLHdCAADAZfAsd0IAAIDLQi13QgAAQDGVLXdCAAAAl+ctd0IAAMD8OS53QgAAgGKMLndCAABAyN4ud0IAAAAuMS93QgAAwJODL3dCAACA+dUvd0IAAEBfKDB3QgAAAMV6MHdCAADAKs0wd0IAAICQHzF3QgAAQPZxMXdCAAAAXMQxd0I=\",\"dtype\":\"float64\",\"shape\":[127]},\"y\":[0.9906384833099334,0.9876702701263628,0.986034206451665,0.9937023701385499,0.9970511977507855,0.9979544752352847,0.9913778365717426,0.9929248433250588,0.9957403179282476,0.9977413133698139,0.9985366218172942,0.9969106059526226,0.996211572251712,0.9909112544567887,0.9925418195655226,0.9932047921984762,0.9924285278783038,0.9930340764201312,0.9923577489344909,0.9932926697800687,0.9948845546297247,0.9950079961757051,0.9935421243409132,0.9923519864209975,0.9905689301056676,0.9882674204511754,0.9878264212632235,0.9873989916144827,0.9860735965572663,0.9845430102319735,0.9830060388504964,0.9809094757488263,0.9787131870741717,0.9765424924030026,0.9740607080719607,0.9707721359330386,0.9675980745847533,0.9644603235650501,0.9611847156868383,0.9581929227609429,0.9553138048152379,0.9527668866041618,0.949832519376967,0.9471741782289388,0.9448856132660635,0.9428262702142188,0.9408090496270258,0.9390094702651643,0.9371368895937208,0.9351084492759572,0.9330557612153584,0.9312289735564631,0.9293543463395025,0.9275386266286831,0.9256884677837561,0.923825484706234,0.9216168769019616,0.9193267564535198,0.9171080210761422,0.9148403674368056,0.9124738376193,0.9100150508583008,0.9079318355263625,0.9055617444260692,0.9030142411545999,0.9004203648795525,0.8980689816751007,0.895753592355098,0.8934258167984068,0.8910112034278967,0.8884835555981856,0.8858991595144673,0.8832672224045979,0.8806489898317053,0.8781735601338101,0.875798568138153,0.8733701733341191,0.8708924136063186,0.868304639054517,0.8657347591288924,0.8631886604807198,0.8606646697392588,0.858127410712821,0.8555693576054788,0.852892171710644,0.8501818039869902,0.8474274701530655,0.844700900642225,0.8419345520946966,0.8391646559956998,0.8364338566397378,0.8336910711516987,0.8309211457595196,0.8281248123000429,0.8253329993158202,0.8225748810114298,0.8198481378354814,0.8171364351895642,0.8144164389141544,0.8117098496622602,0.8090390142962303,0.8063941173576937,0.8037525871249604,0.8011218929019263,0.798534052945386,0.7959443157297019,0.7933324930099895,0.7907137868390863,0.7881034028225027,0.7855332424297904,0.782979060796708,0.780445007608978,0.7779009250870768,0.7753487688829088,0.7727853047065396,0.7701530104253251,0.7675384675221336,0.7649378471200146,0.7623256667632259,0.7597215865677874,0.7571078677633711]},\"selected\":{\"id\":\"11600\"},\"selection_policy\":{\"id\":\"11599\"}},\"id\":\"11569\",\"type\":\"ColumnDataSource\"},{\"attributes\":{\"bottom_units\":\"screen\",\"fill_alpha\":0.5,\"fill_color\":\"lightgrey\",\"left_units\":\"screen\",\"level\":\"overlay\",\"line_alpha\":1.0,\"line_color\":\"black\",\"line_dash\":[4,4],\"line_width\":2,\"render_mode\":\"css\",\"right_units\":\"screen\",\"top_units\":\"screen\"},\"id\":\"11536\",\"type\":\"BoxAnnotation\"},{\"attributes\":{\"data\":{\"x\":{\"__ndarray__\":\"AACARzYJd0IAAECtiAl3QgAAABPbCXdCAADAeC0Kd0IAAIDefwp3QgAAQETSCndCAAAAqiQLd0IAAMAPdwt3QgAAgHXJC3dCAABA2xsMd0IAAABBbgx3QgAAwKbADHdCAACADBMNd0IAAEByZQ13QgAAANi3DXdCAADAPQoOd0IAAICjXA53QgAAQAmvDndCAAAAbwEPd0IAAMDUUw93QgAAgDqmD3dCAABAoPgPd0IAAAAGSxB3QgAAwGudEHdCAACA0e8Qd0IAAEA3QhF3QgAAAJ2UEXdCAADAAucRd0IAAIBoORJ3QgAAQM6LEndCAAAANN4Sd0IAAMCZMBN3QgAAgP+CE3dCAABAZdUTd0IAAADLJxR3QgAAwDB6FHdCAACAlswUd0IAAED8HhV3QgAAAGJxFXdCAADAx8MVd0IAAIAtFhZ3QgAAQJNoFndCAAAA+boWd0IAAMBeDRd3QgAAgMRfF3dCAABAKrIXd0IAAACQBBh3QgAAwPVWGHdCAACAW6kYd0IAAEDB+xh3QgAAACdOGXdCAADAjKAZd0IAAIDy8hl3QgAAQFhFGndCAAAAvpcad0IAAMAj6hp3QgAAgIk8G3dCAABA744bd0IAAABV4Rt3QgAAwLozHHdCAACAIIYcd0IAAECG2Bx3QgAAAOwqHXdCAADAUX0dd0IAAIC3zx13QgAAQB0iHndCAAAAg3Qed0IAAMDoxh53QgAAgE4ZH3dCAABAtGsfd0IAAAAavh93QgAAwH8QIHdCAACA5WIgd0IAAEBLtSB3QgAAALEHIXdCAADAFlohd0IAAIB8rCF3QgAAQOL+IXdCAAAASFEid0IAAMCtoyJ3QgAAgBP2IndCAABAeUgjd0IAAADfmiN3QgAAwETtI3dCAACAqj8kd0IAAEAQkiR3QgAAAHbkJHdCAADA2zYld0IAAIBBiSV3QgAAQKfbJXdCAAAADS4md0IAAMBygCZ3QgAAgNjSJndCAABAPiUnd0IAAACkdyd3QgAAwAnKJ3dCAACAbxwod0IAAEDVbih3QgAAADvBKHdCAADAoBMpd0IAAIAGZil3QgAAQGy4KXdCAAAA0goqd0IAAMA3XSp3QgAAgJ2vKndCAABAAwIrd0IAAABpVCt3QgAAwM6mK3dCAACANPkrd0IAAECaSyx3QgAAAACeLHdCAADAZfAsd0IAAIDLQi13QgAAQDGVLXdCAAAAl+ctd0IAAMD8OS53QgAAgGKMLndCAABAyN4ud0IAAAAuMS93QgAAwJODL3dCAACA+dUvd0IAAEBfKDB3QgAAAMV6MHdCAADAKs0wd0IAAICQHzF3QgAAQPZxMXdCAAAAXMQxd0I=\",\"dtype\":\"float64\",\"shape\":[127]},\"y\":[0.9510735979496298,0.967026787423011,0.9797155564920516,0.9841794388564682,0.987058902502072,0.9885271206710922,0.9878661518605626,0.9912848362964762,0.9920316543065136,0.9930564216478499,0.9936504271233708,0.9935885059534284,0.9935957428997308,0.9930056823875769,0.9931134349437636,0.9931431121353521,0.9929955014932168,0.9930278738312512,0.9929012146739309,0.9929979124492253,0.9932927976627974,0.9933417001183183,0.9931719434872636,0.993005647809642,0.9927584775551656,0.9924406702391054,0.9922744028334555,0.9921094248361184,0.9918563879803546,0.9915755204132469,0.9912839412221955,0.9909364888922103,0.9905698727323404,0.9901944329773178,0.9897853688914764,0.9893107039620077,0.9888309439784413,0.9883438218570605,0.9878392695121011,0.9873460209230279,0.986854884638355,0.9863824194974277,0.9858808859871518,0.9853950296915658,0.9849330064481671,0.9844858208010906,0.9840437994086847,0.9836184855052913,0.983190279083998,0.9827505724722575,0.9823122923971135,0.9818918092145366,0.9814700421053094,0.9810546516200839,0.9806405349192466,0.9802253853432971,0.9797887719973435,0.9793456094485967,0.978912778446942,0.9784768716689168,0.9780357530413478,0.977587620591863,0.9771695245333818,0.9767331644938351,0.9762861637631576,0.9758375612488768,0.9754074459260815,0.9749840614762715,0.9745592511520631,0.9741302974994442,0.9736953720600414,0.9732583372010942,0.9728198236673788,0.9723837509900674,0.971959612865826,0.971544286246252,0.9711272078194991,0.9707086496504631,0.9702844585915679,0.9698633512474395,0.9694457397250232,0.9690315181235328,0.9686151378044213,0.9682026722540672,0.9677840310655105,0.9673650171002843,0.9669449050143606,0.9665284944036369,0.9661112670254045,0.9656987059363993,0.9652862803608039,0.9648728294206899,0.964465788499735,0.9640520646259465,0.9636427768466849,0.9632421101081855,0.9628420206567095,0.9624447101052964,0.9620486320579883,0.9616552076092657,0.9612658963045723,0.9608760384052372,0.9604918846229933,0.9601101820075407,0.9597330253287285,0.9593574617746118,0.9589821556323329,0.9586080978837811,0.9582362723236978,0.9578687536226096,0.9575039426211244,0.9571448738126127,0.956781236966264,0.956421478431892,0.9560670736239517,0.9557052760387545,0.9553462284581048,0.9549896685629929,0.9546339397607401,0.9542802973600071,0.9539275874123264]},\"selected\":{\"id\":\"11976\"},\"selection_policy\":{\"id\":\"11975\"}},\"id\":\"11602\",\"type\":\"ColumnDataSource\"},{\"attributes\":{},\"id\":\"11597\",\"type\":\"UnionRenderers\"},{\"attributes\":{},\"id\":\"11516\",\"type\":\"DataRange1d\"},{\"attributes\":{\"fill_color\":{\"value\":\"white\"},\"line_color\":{\"value\":\"violet\"},\"size\":{\"units\":\"screen\",\"value\":5},\"x\":{\"field\":\"x\"},\"y\":{\"field\":\"y\"}},\"id\":\"11603\",\"type\":\"Circle\"},{\"attributes\":{\"months\":[0,4,8]},\"id\":\"11564\",\"type\":\"MonthsTicker\"},{\"attributes\":{\"line_color\":\"darkviolet\",\"line_width\":4,\"x\":{\"field\":\"x\"},\"y\":{\"field\":\"y\"}},\"id\":\"11545\",\"type\":\"Line\"},{\"attributes\":{\"days\":[1,2,3,4,5,6,7,8,9,10,11,12,13,14,15,16,17,18,19,20,21,22,23,24,25,26,27,28,29,30,31]},\"id\":\"11558\",\"type\":\"DaysTicker\"},{\"attributes\":{\"use_scientific\":false},\"id\":\"11609\",\"type\":\"BasicTickFormatter\"},{\"attributes\":{\"days\":[1,8,15,22]},\"id\":\"11560\",\"type\":\"DaysTicker\"},{\"attributes\":{\"axis_label\":\"Date\",\"formatter\":{\"id\":\"11607\"},\"major_label_orientation\":0.7853981633974483,\"minor_tick_in\":-5,\"minor_tick_out\":-3,\"ticker\":{\"id\":\"11523\"}},\"id\":\"11522\",\"type\":\"DatetimeAxis\"},{\"attributes\":{\"days\":[\"%d %B\"]},\"id\":\"11607\",\"type\":\"DatetimeTickFormatter\"},{\"attributes\":{\"label\":{\"value\":\"Corr_A_B\"},\"renderers\":[{\"id\":\"11577\"}]},\"id\":\"11601\",\"type\":\"LegendItem\"},{\"attributes\":{\"line_alpha\":0.1,\"line_color\":\"darkviolet\",\"line_width\":4,\"x\":{\"field\":\"x\"},\"y\":{\"field\":\"y\"}},\"id\":\"11546\",\"type\":\"Line\"},{\"attributes\":{\"label\":{\"value\":\"R_squared\"},\"renderers\":[{\"id\":\"11547\"}]},\"id\":\"11568\",\"type\":\"LegendItem\"},{\"attributes\":{},\"id\":\"11976\",\"type\":\"Selection\"},{\"attributes\":{},\"id\":\"11530\",\"type\":\"PanTool\"},{\"attributes\":{\"fill_alpha\":{\"value\":0.1},\"fill_color\":{\"value\":\"white\"},\"line_alpha\":{\"value\":0.1},\"line_color\":{\"value\":\"darkviolet\"},\"size\":{\"units\":\"screen\",\"value\":5},\"x\":{\"field\":\"x\"},\"y\":{\"field\":\"y\"}},\"id\":\"11571\",\"type\":\"Circle\"},{\"attributes\":{\"fill_alpha\":{\"value\":0.1},\"fill_color\":{\"value\":\"white\"},\"line_alpha\":{\"value\":0.1},\"line_color\":{\"value\":\"violet\"},\"size\":{\"units\":\"screen\",\"value\":5},\"x\":{\"field\":\"x\"},\"y\":{\"field\":\"y\"}},\"id\":\"11604\",\"type\":\"Circle\"},{\"attributes\":{\"data_source\":{\"id\":\"11574\"},\"glyph\":{\"id\":\"11575\"},\"hover_glyph\":null,\"muted_glyph\":null,\"nonselection_glyph\":{\"id\":\"11576\"},\"selection_glyph\":null,\"view\":{\"id\":\"11578\"}},\"id\":\"11577\",\"type\":\"GlyphRenderer\"},{\"attributes\":{\"mantissas\":[1,2,5],\"max_interval\":500.0,\"num_minor_ticks\":0},\"id\":\"11555\",\"type\":\"AdaptiveTicker\"},{\"attributes\":{},\"id\":\"11975\",\"type\":\"UnionRenderers\"},{\"attributes\":{\"data\":{\"x\":{\"__ndarray__\":\"AACARzYJd0IAAECtiAl3QgAAABPbCXdCAADAeC0Kd0IAAIDefwp3QgAAQETSCndCAAAAqiQLd0IAAMAPdwt3QgAAgHXJC3dCAABA2xsMd0IAAABBbgx3QgAAwKbADHdCAACADBMNd0IAAEByZQ13QgAAANi3DXdCAADAPQoOd0IAAICjXA53QgAAQAmvDndCAAAAbwEPd0IAAMDUUw93QgAAgDqmD3dCAABAoPgPd0IAAAAGSxB3QgAAwGudEHdCAACA0e8Qd0IAAEA3QhF3QgAAAJ2UEXdCAADAAucRd0IAAIBoORJ3QgAAQM6LEndCAAAANN4Sd0IAAMCZMBN3QgAAgP+CE3dCAABAZdUTd0IAAADLJxR3QgAAwDB6FHdCAACAlswUd0IAAED8HhV3QgAAAGJxFXdCAADAx8MVd0IAAIAtFhZ3QgAAQJNoFndCAAAA+boWd0IAAMBeDRd3QgAAgMRfF3dCAABAKrIXd0IAAACQBBh3QgAAwPVWGHdCAACAW6kYd0IAAEDB+xh3QgAAACdOGXdCAADAjKAZd0IAAIDy8hl3QgAAQFhFGndCAAAAvpcad0IAAMAj6hp3QgAAgIk8G3dCAABA744bd0IAAABV4Rt3QgAAwLozHHdCAACAIIYcd0IAAECG2Bx3QgAAAOwqHXdCAADAUX0dd0IAAIC3zx13QgAAQB0iHndCAAAAg3Qed0IAAMDoxh53QgAAgE4ZH3dCAABAtGsfd0IAAAAavh93QgAAwH8QIHdCAACA5WIgd0IAAEBLtSB3QgAAALEHIXdCAADAFlohd0IAAIB8rCF3QgAAQOL+IXdCAAAASFEid0IAAMCtoyJ3QgAAgBP2IndCAABAeUgjd0IAAADfmiN3QgAAwETtI3dCAACAqj8kd0IAAEAQkiR3QgAAAHbkJHdCAADA2zYld0IAAIBBiSV3QgAAQKfbJXdCAAAADS4md0IAAMBygCZ3QgAAgNjSJndCAABAPiUnd0IAAACkdyd3QgAAwAnKJ3dCAACAbxwod0IAAEDVbih3QgAAADvBKHdCAADAoBMpd0IAAIAGZil3QgAAQGy4KXdCAAAA0goqd0IAAMA3XSp3QgAAgJ2vKndCAABAAwIrd0IAAABpVCt3QgAAwM6mK3dCAACANPkrd0IAAECaSyx3QgAAAACeLHdCAADAZfAsd0IAAIDLQi13QgAAQDGVLXdCAAAAl+ctd0IAAMD8OS53QgAAgGKMLndCAABAyN4ud0IAAAAuMS93QgAAwJODL3dCAACA+dUvd0IAAEBfKDB3QgAAAMV6MHdCAADAKs0wd0IAAICQHzF3QgAAQPZxMXdCAAAAXMQxd0I=\",\"dtype\":\"float64\",\"shape\":[127]},\"y\":[0.9510735979496298,0.967026787423011,0.9797155564920516,0.9841794388564682,0.987058902502072,0.9885271206710922,0.9878661518605626,0.9912848362964762,0.9920316543065136,0.9930564216478499,0.9936504271233708,0.9935885059534284,0.9935957428997308,0.9930056823875769,0.9931134349437636,0.9931431121353521,0.9929955014932168,0.9930278738312512,0.9929012146739309,0.9929979124492253,0.9932927976627974,0.9933417001183183,0.9931719434872636,0.993005647809642,0.9927584775551656,0.9924406702391054,0.9922744028334555,0.9921094248361184,0.9918563879803546,0.9915755204132469,0.9912839412221955,0.9909364888922103,0.9905698727323404,0.9901944329773178,0.9897853688914764,0.9893107039620077,0.9888309439784413,0.9883438218570605,0.9878392695121011,0.9873460209230279,0.986854884638355,0.9863824194974277,0.9858808859871518,0.9853950296915658,0.9849330064481671,0.9844858208010906,0.9840437994086847,0.9836184855052913,0.983190279083998,0.9827505724722575,0.9823122923971135,0.9818918092145366,0.9814700421053094,0.9810546516200839,0.9806405349192466,0.9802253853432971,0.9797887719973435,0.9793456094485967,0.978912778446942,0.9784768716689168,0.9780357530413478,0.977587620591863,0.9771695245333818,0.9767331644938351,0.9762861637631576,0.9758375612488768,0.9754074459260815,0.9749840614762715,0.9745592511520631,0.9741302974994442,0.9736953720600414,0.9732583372010942,0.9728198236673788,0.9723837509900674,0.971959612865826,0.971544286246252,0.9711272078194991,0.9707086496504631,0.9702844585915679,0.9698633512474395,0.9694457397250232,0.9690315181235328,0.9686151378044213,0.9682026722540672,0.9677840310655105,0.9673650171002843,0.9669449050143606,0.9665284944036369,0.9661112670254045,0.9656987059363993,0.9652862803608039,0.9648728294206899,0.964465788499735,0.9640520646259465,0.9636427768466849,0.9632421101081855,0.9628420206567095,0.9624447101052964,0.9620486320579883,0.9616552076092657,0.9612658963045723,0.9608760384052372,0.9604918846229933,0.9601101820075407,0.9597330253287285,0.9593574617746118,0.9589821556323329,0.9586080978837811,0.9582362723236978,0.9578687536226096,0.9575039426211244,0.9571448738126127,0.956781236966264,0.956421478431892,0.9560670736239517,0.9557052760387545,0.9553462284581048,0.9549896685629929,0.9546339397607401,0.9542802973600071,0.9539275874123264]},\"selected\":{\"id\":\"11974\"},\"selection_policy\":{\"id\":\"11973\"}},\"id\":\"11574\",\"type\":\"ColumnDataSource\"},{\"attributes\":{\"days\":[1,4,7,10,13,16,19,22,25,28]},\"id\":\"11559\",\"type\":\"DaysTicker\"},{\"attributes\":{\"axis\":{\"id\":\"11526\"},\"dimension\":1,\"ticker\":null},\"id\":\"11529\",\"type\":\"Grid\"},{\"attributes\":{\"fill_color\":{\"value\":\"white\"},\"line_color\":{\"value\":\"darkviolet\"},\"size\":{\"units\":\"screen\",\"value\":5},\"x\":{\"field\":\"x\"},\"y\":{\"field\":\"y\"}},\"id\":\"11570\",\"type\":\"Circle\"},{\"attributes\":{\"line_color\":\"violet\",\"line_width\":4,\"x\":{\"field\":\"x\"},\"y\":{\"field\":\"y\"}},\"id\":\"11575\",\"type\":\"Line\"},{\"attributes\":{\"days\":[1,15]},\"id\":\"11561\",\"type\":\"DaysTicker\"},{\"attributes\":{},\"id\":\"11520\",\"type\":\"LinearScale\"},{\"attributes\":{},\"id\":\"11514\",\"type\":\"DataRange1d\"},{\"attributes\":{\"active_drag\":\"auto\",\"active_inspect\":\"auto\",\"active_multi\":null,\"active_scroll\":\"auto\",\"active_tap\":\"auto\",\"tools\":[{\"id\":\"11530\"},{\"id\":\"11531\"},{\"id\":\"11532\"},{\"id\":\"11533\"},{\"id\":\"11534\"},{\"id\":\"11535\"},{\"id\":\"11611\"}]},\"id\":\"11537\",\"type\":\"Toolbar\"},{\"attributes\":{\"items\":[{\"id\":\"11568\"},{\"id\":\"11601\"}]},\"id\":\"11567\",\"type\":\"Legend\"},{\"attributes\":{\"axis_label\":\"R_squared\",\"formatter\":{\"id\":\"11609\"},\"minor_tick_in\":-5,\"minor_tick_out\":-3,\"ticker\":{\"id\":\"11527\"}},\"id\":\"11526\",\"type\":\"LinearAxis\"},{\"attributes\":{\"callback\":null,\"formatters\":{\"@x\":\"datetime\"},\"mode\":\"vline\",\"tooltips\":[[\"date\",\"@x{%d %B}\"],[\"R_squared/Corr_A_B\",\"@y{0[.]000}\"]]},\"id\":\"11611\",\"type\":\"HoverTool\"},{\"attributes\":{\"axis\":{\"id\":\"11522\"},\"ticker\":null},\"id\":\"11525\",\"type\":\"Grid\"},{\"attributes\":{},\"id\":\"11973\",\"type\":\"UnionRenderers\"}],\"root_ids\":[\"11511\"]},\"title\":\"Bokeh Application\",\"version\":\"2.0.2\"}};\n",
       "  var render_items = [{\"docid\":\"9d46c48e-b0fd-4224-9706-35a02f0a3796\",\"root_ids\":[\"11511\"],\"roots\":{\"11511\":\"8eee647c-163e-4536-afd4-631c81b6a715\"}}];\n",
       "  root.Bokeh.embed.embed_items_notebook(docs_json, render_items);\n",
       "\n",
       "  }\n",
       "  if (root.Bokeh !== undefined) {\n",
       "    embed_document(root);\n",
       "  } else {\n",
       "    var attempts = 0;\n",
       "    var timer = setInterval(function(root) {\n",
       "      if (root.Bokeh !== undefined) {\n",
       "        clearInterval(timer);\n",
       "        embed_document(root);\n",
       "      } else {\n",
       "        attempts++;\n",
       "        if (attempts > 100) {\n",
       "          clearInterval(timer);\n",
       "          console.log(\"Bokeh: ERROR: Unable to run BokehJS code because BokehJS library is missing\");\n",
       "        }\n",
       "      }\n",
       "    }, 10, root)\n",
       "  }\n",
       "})(window);"
      ],
      "application/vnd.bokehjs_exec.v0+json": ""
     },
     "metadata": {
      "application/vnd.bokehjs_exec.v0+json": {
       "id": "11511"
      }
     },
     "output_type": "display_data"
    }
   ],
   "source": [
    "p_total_deaths_exp_val_Italy = bokeh_plot_N_lines(x=time_date_new + 6, y_list=[R_2_deaths, Correlation_A_B], \n",
    "                  title='Total Deaths Exponential Validity: Italy', \n",
    "                  dim=[600, 450], \n",
    "                  x_label='Date', \n",
    "                  y_label='R_squared', legend_list=['R_squared', 'Corr_A_B'],\n",
    "                  x_label_hover='date', y_label_hover='R_squared/Corr_A_B',\n",
    "                  color_list=['darkviolet', 'violet'],legend_location=\"top_right\", y_minmax=None)\n",
    "\n",
    "output_file(\"total_deaths_exponential_validity_Italy.html\")\n",
    "\n",
    "show(p_total_deaths_exp_val_Italy)"
   ]
  },
  {
   "cell_type": "markdown",
   "metadata": {},
   "source": [
    "-----------------"
   ]
  },
  {
   "cell_type": "code",
   "execution_count": 59,
   "metadata": {},
   "outputs": [
    {
     "name": "stderr",
     "output_type": "stream",
     "text": [
      "BokehUserWarning: ColumnDataSource's columns must be of the same length. Current lengths: ('x', 127), ('y', 121)\n",
      "BokehUserWarning: ColumnDataSource's columns must be of the same length. Current lengths: ('x', 127), ('y', 121)\n",
      "BokehUserWarning: ColumnDataSource's columns must be of the same length. Current lengths: ('x', 127), ('y', 121)\n",
      "BokehUserWarning: ColumnDataSource's columns must be of the same length. Current lengths: ('x', 127), ('y', 121)\n"
     ]
    },
    {
     "data": {
      "text/html": [
       "\n",
       "\n",
       "\n",
       "\n",
       "\n",
       "\n",
       "  <div class=\"bk-root\" id=\"bc4c5a63-61be-43af-87d3-1f174d65f7c4\" data-root-id=\"12434\"></div>\n"
      ]
     },
     "metadata": {},
     "output_type": "display_data"
    },
    {
     "data": {
      "application/javascript": [
       "(function(root) {\n",
       "  function embed_document(root) {\n",
       "    \n",
       "  var docs_json = {\"e5549892-1dca-49bf-8e31-e12a24edc482\":{\"roots\":{\"references\":[{\"attributes\":{\"below\":[{\"id\":\"12445\"}],\"center\":[{\"id\":\"12448\"},{\"id\":\"12452\"},{\"id\":\"12490\"}],\"left\":[{\"id\":\"12449\"}],\"plot_height\":450,\"renderers\":[{\"id\":\"12470\"},{\"id\":\"12495\"},{\"id\":\"12500\"},{\"id\":\"12528\"}],\"title\":{\"id\":\"12435\"},\"toolbar\":{\"id\":\"12460\"},\"x_range\":{\"id\":\"12437\"},\"x_scale\":{\"id\":\"12441\"},\"y_range\":{\"id\":\"12439\"},\"y_scale\":{\"id\":\"12443\"}},\"id\":\"12434\",\"subtype\":\"Figure\",\"type\":\"Plot\"},{\"attributes\":{\"axis\":{\"id\":\"12445\"},\"ticker\":null},\"id\":\"12448\",\"type\":\"Grid\"},{\"attributes\":{\"base\":60,\"mantissas\":[1,2,5,10,15,20,30],\"max_interval\":1800000.0,\"min_interval\":1000.0,\"num_minor_ticks\":0},\"id\":\"12479\",\"type\":\"AdaptiveTicker\"},{\"attributes\":{\"use_scientific\":false},\"id\":\"12532\",\"type\":\"BasicTickFormatter\"},{\"attributes\":{\"callback\":null,\"formatters\":{\"@x\":\"datetime\"},\"mode\":\"vline\",\"tooltips\":[[\"date\",\"@x{%d %B}\"],[\"R_squared_cases/deaths\",\"@y{0[.]000}\"]]},\"id\":\"12534\",\"type\":\"HoverTool\"},{\"attributes\":{\"num_minor_ticks\":5,\"tickers\":[{\"id\":\"12478\"},{\"id\":\"12479\"},{\"id\":\"12480\"},{\"id\":\"12481\"},{\"id\":\"12482\"},{\"id\":\"12483\"},{\"id\":\"12484\"},{\"id\":\"12485\"},{\"id\":\"12486\"},{\"id\":\"12487\"},{\"id\":\"12488\"},{\"id\":\"12489\"}]},\"id\":\"12446\",\"type\":\"DatetimeTicker\"},{\"attributes\":{\"months\":[0,2,4,6,8,10]},\"id\":\"12486\",\"type\":\"MonthsTicker\"},{\"attributes\":{\"months\":[0,6]},\"id\":\"12488\",\"type\":\"MonthsTicker\"},{\"attributes\":{},\"id\":\"12921\",\"type\":\"Selection\"},{\"attributes\":{},\"id\":\"12923\",\"type\":\"Selection\"},{\"attributes\":{\"axis_label\":\"Date\",\"formatter\":{\"id\":\"12530\"},\"major_label_orientation\":0.7853981633974483,\"minor_tick_in\":-5,\"minor_tick_out\":-3,\"ticker\":{\"id\":\"12446\"}},\"id\":\"12445\",\"type\":\"DatetimeAxis\"},{\"attributes\":{\"source\":{\"id\":\"12525\"}},\"id\":\"12529\",\"type\":\"CDSView\"},{\"attributes\":{\"data_source\":{\"id\":\"12497\"},\"glyph\":{\"id\":\"12498\"},\"hover_glyph\":null,\"muted_glyph\":null,\"nonselection_glyph\":{\"id\":\"12499\"},\"selection_glyph\":null,\"view\":{\"id\":\"12501\"}},\"id\":\"12500\",\"type\":\"GlyphRenderer\"},{\"attributes\":{},\"id\":\"12458\",\"type\":\"HelpTool\"},{\"attributes\":{\"line_color\":\"blue\",\"line_width\":4,\"x\":{\"field\":\"x\"},\"y\":{\"field\":\"y\"}},\"id\":\"12468\",\"type\":\"Line\"},{\"attributes\":{\"data\":{\"x\":{\"__ndarray__\":\"AACARzYJd0IAAECtiAl3QgAAABPbCXdCAADAeC0Kd0IAAIDefwp3QgAAQETSCndCAAAAqiQLd0IAAMAPdwt3QgAAgHXJC3dCAABA2xsMd0IAAABBbgx3QgAAwKbADHdCAACADBMNd0IAAEByZQ13QgAAANi3DXdCAADAPQoOd0IAAICjXA53QgAAQAmvDndCAAAAbwEPd0IAAMDUUw93QgAAgDqmD3dCAABAoPgPd0IAAAAGSxB3QgAAwGudEHdCAACA0e8Qd0IAAEA3QhF3QgAAAJ2UEXdCAADAAucRd0IAAIBoORJ3QgAAQM6LEndCAAAANN4Sd0IAAMCZMBN3QgAAgP+CE3dCAABAZdUTd0IAAADLJxR3QgAAwDB6FHdCAACAlswUd0IAAED8HhV3QgAAAGJxFXdCAADAx8MVd0IAAIAtFhZ3QgAAQJNoFndCAAAA+boWd0IAAMBeDRd3QgAAgMRfF3dCAABAKrIXd0IAAACQBBh3QgAAwPVWGHdCAACAW6kYd0IAAEDB+xh3QgAAACdOGXdCAADAjKAZd0IAAIDy8hl3QgAAQFhFGndCAAAAvpcad0IAAMAj6hp3QgAAgIk8G3dCAABA744bd0IAAABV4Rt3QgAAwLozHHdCAACAIIYcd0IAAECG2Bx3QgAAAOwqHXdCAADAUX0dd0IAAIC3zx13QgAAQB0iHndCAAAAg3Qed0IAAMDoxh53QgAAgE4ZH3dCAABAtGsfd0IAAAAavh93QgAAwH8QIHdCAACA5WIgd0IAAEBLtSB3QgAAALEHIXdCAADAFlohd0IAAIB8rCF3QgAAQOL+IXdCAAAASFEid0IAAMCtoyJ3QgAAgBP2IndCAABAeUgjd0IAAADfmiN3QgAAwETtI3dCAACAqj8kd0IAAEAQkiR3QgAAAHbkJHdCAADA2zYld0IAAIBBiSV3QgAAQKfbJXdCAAAADS4md0IAAMBygCZ3QgAAgNjSJndCAABAPiUnd0IAAACkdyd3QgAAwAnKJ3dCAACAbxwod0IAAEDVbih3QgAAADvBKHdCAADAoBMpd0IAAIAGZil3QgAAQGy4KXdCAAAA0goqd0IAAMA3XSp3QgAAgJ2vKndCAABAAwIrd0IAAABpVCt3QgAAwM6mK3dCAACANPkrd0IAAECaSyx3QgAAAACeLHdCAADAZfAsd0IAAIDLQi13QgAAQDGVLXdCAAAAl+ctd0IAAMD8OS53QgAAgGKMLndCAABAyN4ud0IAAAAuMS93QgAAwJODL3dCAACA+dUvd0IAAEBfKDB3QgAAAMV6MHdCAADAKs0wd0IAAICQHzF3QgAAQPZxMXdCAAAAXMQxd0I=\",\"dtype\":\"float64\",\"shape\":[127]},\"y\":[0.9906384833099334,0.9876702701263628,0.986034206451665,0.9937023701385499,0.9970511977507855,0.9979544752352847,0.9913778365717426,0.9929248433250588,0.9957403179282476,0.9977413133698139,0.9985366218172942,0.9969106059526226,0.996211572251712,0.9909112544567887,0.9925418195655226,0.9932047921984762,0.9924285278783038,0.9930340764201312,0.9923577489344909,0.9932926697800687,0.9948845546297247,0.9950079961757051,0.9935421243409132,0.9923519864209975,0.9905689301056676,0.9882674204511754,0.9878264212632235,0.9873989916144827,0.9860735965572663,0.9845430102319735,0.9830060388504964,0.9809094757488263,0.9787131870741717,0.9765424924030026,0.9740607080719607,0.9707721359330386,0.9675980745847533,0.9644603235650501,0.9611847156868383,0.9581929227609429,0.9553138048152379,0.9527668866041618,0.949832519376967,0.9471741782289388,0.9448856132660635,0.9428262702142188,0.9408090496270258,0.9390094702651643,0.9371368895937208,0.9351084492759572,0.9330557612153584,0.9312289735564631,0.9293543463395025,0.9275386266286831,0.9256884677837561,0.923825484706234,0.9216168769019616,0.9193267564535198,0.9171080210761422,0.9148403674368056,0.9124738376193,0.9100150508583008,0.9079318355263625,0.9055617444260692,0.9030142411545999,0.9004203648795525,0.8980689816751007,0.895753592355098,0.8934258167984068,0.8910112034278967,0.8884835555981856,0.8858991595144673,0.8832672224045979,0.8806489898317053,0.8781735601338101,0.875798568138153,0.8733701733341191,0.8708924136063186,0.868304639054517,0.8657347591288924,0.8631886604807198,0.8606646697392588,0.858127410712821,0.8555693576054788,0.852892171710644,0.8501818039869902,0.8474274701530655,0.844700900642225,0.8419345520946966,0.8391646559956998,0.8364338566397378,0.8336910711516987,0.8309211457595196,0.8281248123000429,0.8253329993158202,0.8225748810114298,0.8198481378354814,0.8171364351895642,0.8144164389141544,0.8117098496622602,0.8090390142962303,0.8063941173576937,0.8037525871249604,0.8011218929019263,0.798534052945386,0.7959443157297019,0.7933324930099895,0.7907137868390863,0.7881034028225027,0.7855332424297904,0.782979060796708,0.780445007608978,0.7779009250870768,0.7753487688829088,0.7727853047065396,0.7701530104253251,0.7675384675221336,0.7649378471200146,0.7623256667632259,0.7597215865677874,0.7571078677633711]},\"selected\":{\"id\":\"12921\"},\"selection_policy\":{\"id\":\"12920\"}},\"id\":\"12497\",\"type\":\"ColumnDataSource\"},{\"attributes\":{\"days\":[1,4,7,10,13,16,19,22,25,28]},\"id\":\"12482\",\"type\":\"DaysTicker\"},{\"attributes\":{},\"id\":\"12443\",\"type\":\"LinearScale\"},{\"attributes\":{\"bottom_units\":\"screen\",\"fill_alpha\":0.5,\"fill_color\":\"lightgrey\",\"left_units\":\"screen\",\"level\":\"overlay\",\"line_alpha\":1.0,\"line_color\":\"black\",\"line_dash\":[4,4],\"line_width\":2,\"render_mode\":\"css\",\"right_units\":\"screen\",\"top_units\":\"screen\"},\"id\":\"12459\",\"type\":\"BoxAnnotation\"},{\"attributes\":{\"source\":{\"id\":\"12497\"}},\"id\":\"12501\",\"type\":\"CDSView\"},{\"attributes\":{\"days\":[1,8,15,22]},\"id\":\"12483\",\"type\":\"DaysTicker\"},{\"attributes\":{},\"id\":\"12520\",\"type\":\"UnionRenderers\"},{\"attributes\":{\"items\":[{\"id\":\"12491\"},{\"id\":\"12524\"}]},\"id\":\"12490\",\"type\":\"Legend\"},{\"attributes\":{\"line_alpha\":0.1,\"line_color\":\"darkviolet\",\"line_width\":4,\"x\":{\"field\":\"x\"},\"y\":{\"field\":\"y\"}},\"id\":\"12499\",\"type\":\"Line\"},{\"attributes\":{\"fill_color\":{\"value\":\"white\"},\"line_color\":{\"value\":\"darkviolet\"},\"size\":{\"units\":\"screen\",\"value\":5},\"x\":{\"field\":\"x\"},\"y\":{\"field\":\"y\"}},\"id\":\"12526\",\"type\":\"Circle\"},{\"attributes\":{\"base\":24,\"mantissas\":[1,2,4,6,8,12],\"max_interval\":43200000.0,\"min_interval\":3600000.0,\"num_minor_ticks\":0},\"id\":\"12480\",\"type\":\"AdaptiveTicker\"},{\"attributes\":{\"fill_alpha\":{\"value\":0.1},\"fill_color\":{\"value\":\"white\"},\"line_alpha\":{\"value\":0.1},\"line_color\":{\"value\":\"blue\"},\"size\":{\"units\":\"screen\",\"value\":5},\"x\":{\"field\":\"x\"},\"y\":{\"field\":\"y\"}},\"id\":\"12494\",\"type\":\"Circle\"},{\"attributes\":{\"source\":{\"id\":\"12492\"}},\"id\":\"12496\",\"type\":\"CDSView\"},{\"attributes\":{\"axis_label\":\"R_squared\",\"formatter\":{\"id\":\"12532\"},\"minor_tick_in\":-5,\"minor_tick_out\":-3,\"ticker\":{\"id\":\"12450\"}},\"id\":\"12449\",\"type\":\"LinearAxis\"},{\"attributes\":{\"label\":{\"value\":\"R_squared_deaths\"},\"renderers\":[{\"id\":\"12500\"}]},\"id\":\"12524\",\"type\":\"LegendItem\"},{\"attributes\":{\"data\":{\"x\":{\"__ndarray__\":\"AACARzYJd0IAAECtiAl3QgAAABPbCXdCAADAeC0Kd0IAAIDefwp3QgAAQETSCndCAAAAqiQLd0IAAMAPdwt3QgAAgHXJC3dCAABA2xsMd0IAAABBbgx3QgAAwKbADHdCAACADBMNd0IAAEByZQ13QgAAANi3DXdCAADAPQoOd0IAAICjXA53QgAAQAmvDndCAAAAbwEPd0IAAMDUUw93QgAAgDqmD3dCAABAoPgPd0IAAAAGSxB3QgAAwGudEHdCAACA0e8Qd0IAAEA3QhF3QgAAAJ2UEXdCAADAAucRd0IAAIBoORJ3QgAAQM6LEndCAAAANN4Sd0IAAMCZMBN3QgAAgP+CE3dCAABAZdUTd0IAAADLJxR3QgAAwDB6FHdCAACAlswUd0IAAED8HhV3QgAAAGJxFXdCAADAx8MVd0IAAIAtFhZ3QgAAQJNoFndCAAAA+boWd0IAAMBeDRd3QgAAgMRfF3dCAABAKrIXd0IAAACQBBh3QgAAwPVWGHdCAACAW6kYd0IAAEDB+xh3QgAAACdOGXdCAADAjKAZd0IAAIDy8hl3QgAAQFhFGndCAAAAvpcad0IAAMAj6hp3QgAAgIk8G3dCAABA744bd0IAAABV4Rt3QgAAwLozHHdCAACAIIYcd0IAAECG2Bx3QgAAAOwqHXdCAADAUX0dd0IAAIC3zx13QgAAQB0iHndCAAAAg3Qed0IAAMDoxh53QgAAgE4ZH3dCAABAtGsfd0IAAAAavh93QgAAwH8QIHdCAACA5WIgd0IAAEBLtSB3QgAAALEHIXdCAADAFlohd0IAAIB8rCF3QgAAQOL+IXdCAAAASFEid0IAAMCtoyJ3QgAAgBP2IndCAABAeUgjd0IAAADfmiN3QgAAwETtI3dCAACAqj8kd0IAAEAQkiR3QgAAAHbkJHdCAADA2zYld0IAAIBBiSV3QgAAQKfbJXdCAAAADS4md0IAAMBygCZ3QgAAgNjSJndCAABAPiUnd0IAAACkdyd3QgAAwAnKJ3dCAACAbxwod0IAAEDVbih3QgAAADvBKHdCAADAoBMpd0IAAIAGZil3QgAAQGy4KXdCAAAA0goqd0IAAMA3XSp3QgAAgJ2vKndCAABAAwIrd0IAAABpVCt3QgAAwM6mK3dCAACANPkrd0IAAECaSyx3QgAAAACeLHdCAADAZfAsd0IAAIDLQi13QgAAQDGVLXdCAAAAl+ctd0IAAMD8OS53QgAAgGKMLndCAABAyN4ud0IAAAAuMS93QgAAwJODL3dCAACA+dUvd0IAAEBfKDB3QgAAAMV6MHdCAADAKs0wd0IAAICQHzF3QgAAQPZxMXdCAAAAXMQxd0I=\",\"dtype\":\"float64\",\"shape\":[127]},\"y\":[0.9944315925511179,0.9898318473486883,0.9871737529160225,0.9879731207786646,0.9909413667306475,0.9915465082064858,0.9946223137354124,0.9967037909147167,0.9979386020865314,0.9934056192034189,0.9944759212851118,0.99592794927204,0.9961691617509991,0.9969301601706759,0.9971358976717425,0.9958902199710057,0.9941628915249575,0.9931255075470334,0.9933633510388306,0.994032100212956,0.994688474359967,0.9942027803878379,0.9922106418494722,0.9898164875978024,0.987197833918425,0.9853145617394674,0.9836046426669457,0.9819732775925107,0.9798470389854931,0.9766564879206877,0.9729539467769811,0.9696078326797823,0.9665104789691191,0.9636113947435441,0.9610596188506716,0.9585126958173368,0.9556308351154628,0.9522851555015911,0.9491538036081114,0.9464404471188844,0.9439487048383793,0.9420237466639323,0.940258800232746,0.9382296783763806,0.9359687894513932,0.933447173913058,0.9312433551574293,0.9291951107214425,0.92729667736873,0.9253753520687699,0.9231732416103402,0.9209547388156726,0.9189798622195995,0.9169730031158049,0.9150917132232076,0.9131160743539135,0.9110765084609139,0.9088212477657631,0.9065220214269978,0.9042067728939025,0.9018340114476103,0.8994612819721594,0.8970885321131469,0.8945857132675741,0.8919421368671772,0.8891542856798136,0.8863643767704429,0.8835768591867103,0.8807864010398864,0.8779416987522529,0.8749881786024294,0.8719376935045307,0.8689898101762707,0.8660095449268841,0.8630394684938316,0.8600376029800153,0.8570401188914588,0.8540065155215382,0.8508947024522553,0.8478118690058419,0.8447275988996619,0.8416449443222731,0.8385742203009493,0.8355259648526927,0.8324728271586163,0.8293683451529894,0.8262465535831918,0.8231585041949218,0.8201092523308423,0.8170837592756848,0.8140631580546553,0.8110388571050465,0.807977301797912,0.8049171443078778,0.8018636321406905,0.7987896809369919,0.7957742179589785,0.792764128256589,0.7897475926081354,0.786746272656691,0.7837633054925285,0.7807841531457058,0.7778481099427089,0.7749114666047064,0.7720142545885778,0.7691550857635778,0.7663268635910401,0.7635123450119147,0.7607363340920518,0.7579994108236128,0.7552092551793972,0.7524505518009303,0.7497159874139115,0.7470056992780088,0.7443000682032053,0.7416872429410819,0.7391115953176539,0.7365653107030339,0.7340339717961981,0.7315183395347252,0.7290106421261164]},\"selected\":{\"id\":\"12523\"},\"selection_policy\":{\"id\":\"12522\"}},\"id\":\"12492\",\"type\":\"ColumnDataSource\"},{\"attributes\":{\"axis\":{\"id\":\"12449\"},\"dimension\":1,\"ticker\":null},\"id\":\"12452\",\"type\":\"Grid\"},{\"attributes\":{},\"id\":\"12922\",\"type\":\"UnionRenderers\"},{\"attributes\":{\"overlay\":{\"id\":\"12459\"}},\"id\":\"12455\",\"type\":\"BoxZoomTool\"},{\"attributes\":{\"line_alpha\":0.1,\"line_color\":\"blue\",\"line_width\":4,\"x\":{\"field\":\"x\"},\"y\":{\"field\":\"y\"}},\"id\":\"12469\",\"type\":\"Line\"},{\"attributes\":{\"months\":[0,1,2,3,4,5,6,7,8,9,10,11]},\"id\":\"12485\",\"type\":\"MonthsTicker\"},{\"attributes\":{},\"id\":\"12522\",\"type\":\"UnionRenderers\"},{\"attributes\":{\"source\":{\"id\":\"12467\"}},\"id\":\"12471\",\"type\":\"CDSView\"},{\"attributes\":{\"days\":[1,2,3,4,5,6,7,8,9,10,11,12,13,14,15,16,17,18,19,20,21,22,23,24,25,26,27,28,29,30,31]},\"id\":\"12481\",\"type\":\"DaysTicker\"},{\"attributes\":{},\"id\":\"12521\",\"type\":\"Selection\"},{\"attributes\":{\"active_drag\":\"auto\",\"active_inspect\":\"auto\",\"active_multi\":null,\"active_scroll\":\"auto\",\"active_tap\":\"auto\",\"tools\":[{\"id\":\"12453\"},{\"id\":\"12454\"},{\"id\":\"12455\"},{\"id\":\"12456\"},{\"id\":\"12457\"},{\"id\":\"12458\"},{\"id\":\"12534\"}]},\"id\":\"12460\",\"type\":\"Toolbar\"},{\"attributes\":{},\"id\":\"12437\",\"type\":\"DataRange1d\"},{\"attributes\":{\"data_source\":{\"id\":\"12492\"},\"glyph\":{\"id\":\"12493\"},\"hover_glyph\":null,\"muted_glyph\":null,\"nonselection_glyph\":{\"id\":\"12494\"},\"selection_glyph\":null,\"view\":{\"id\":\"12496\"}},\"id\":\"12495\",\"type\":\"GlyphRenderer\"},{\"attributes\":{\"fill_color\":{\"value\":\"white\"},\"line_color\":{\"value\":\"blue\"},\"size\":{\"units\":\"screen\",\"value\":5},\"x\":{\"field\":\"x\"},\"y\":{\"field\":\"y\"}},\"id\":\"12493\",\"type\":\"Circle\"},{\"attributes\":{\"data\":{\"x\":{\"__ndarray__\":\"AACARzYJd0IAAECtiAl3QgAAABPbCXdCAADAeC0Kd0IAAIDefwp3QgAAQETSCndCAAAAqiQLd0IAAMAPdwt3QgAAgHXJC3dCAABA2xsMd0IAAABBbgx3QgAAwKbADHdCAACADBMNd0IAAEByZQ13QgAAANi3DXdCAADAPQoOd0IAAICjXA53QgAAQAmvDndCAAAAbwEPd0IAAMDUUw93QgAAgDqmD3dCAABAoPgPd0IAAAAGSxB3QgAAwGudEHdCAACA0e8Qd0IAAEA3QhF3QgAAAJ2UEXdCAADAAucRd0IAAIBoORJ3QgAAQM6LEndCAAAANN4Sd0IAAMCZMBN3QgAAgP+CE3dCAABAZdUTd0IAAADLJxR3QgAAwDB6FHdCAACAlswUd0IAAED8HhV3QgAAAGJxFXdCAADAx8MVd0IAAIAtFhZ3QgAAQJNoFndCAAAA+boWd0IAAMBeDRd3QgAAgMRfF3dCAABAKrIXd0IAAACQBBh3QgAAwPVWGHdCAACAW6kYd0IAAEDB+xh3QgAAACdOGXdCAADAjKAZd0IAAIDy8hl3QgAAQFhFGndCAAAAvpcad0IAAMAj6hp3QgAAgIk8G3dCAABA744bd0IAAABV4Rt3QgAAwLozHHdCAACAIIYcd0IAAECG2Bx3QgAAAOwqHXdCAADAUX0dd0IAAIC3zx13QgAAQB0iHndCAAAAg3Qed0IAAMDoxh53QgAAgE4ZH3dCAABAtGsfd0IAAAAavh93QgAAwH8QIHdCAACA5WIgd0IAAEBLtSB3QgAAALEHIXdCAADAFlohd0IAAIB8rCF3QgAAQOL+IXdCAAAASFEid0IAAMCtoyJ3QgAAgBP2IndCAABAeUgjd0IAAADfmiN3QgAAwETtI3dCAACAqj8kd0IAAEAQkiR3QgAAAHbkJHdCAADA2zYld0IAAIBBiSV3QgAAQKfbJXdCAAAADS4md0IAAMBygCZ3QgAAgNjSJndCAABAPiUnd0IAAACkdyd3QgAAwAnKJ3dCAACAbxwod0IAAEDVbih3QgAAADvBKHdCAADAoBMpd0IAAIAGZil3QgAAQGy4KXdCAAAA0goqd0IAAMA3XSp3QgAAgJ2vKndCAABAAwIrd0IAAABpVCt3QgAAwM6mK3dCAACANPkrd0IAAECaSyx3QgAAAACeLHdCAADAZfAsd0IAAIDLQi13QgAAQDGVLXdCAAAAl+ctd0IAAMD8OS53QgAAgGKMLndCAABAyN4ud0IAAAAuMS93QgAAwJODL3dCAACA+dUvd0IAAEBfKDB3QgAAAMV6MHdCAADAKs0wd0IAAICQHzF3QgAAQPZxMXdCAAAAXMQxd0I=\",\"dtype\":\"float64\",\"shape\":[127]},\"y\":[0.9906384833099334,0.9876702701263628,0.986034206451665,0.9937023701385499,0.9970511977507855,0.9979544752352847,0.9913778365717426,0.9929248433250588,0.9957403179282476,0.9977413133698139,0.9985366218172942,0.9969106059526226,0.996211572251712,0.9909112544567887,0.9925418195655226,0.9932047921984762,0.9924285278783038,0.9930340764201312,0.9923577489344909,0.9932926697800687,0.9948845546297247,0.9950079961757051,0.9935421243409132,0.9923519864209975,0.9905689301056676,0.9882674204511754,0.9878264212632235,0.9873989916144827,0.9860735965572663,0.9845430102319735,0.9830060388504964,0.9809094757488263,0.9787131870741717,0.9765424924030026,0.9740607080719607,0.9707721359330386,0.9675980745847533,0.9644603235650501,0.9611847156868383,0.9581929227609429,0.9553138048152379,0.9527668866041618,0.949832519376967,0.9471741782289388,0.9448856132660635,0.9428262702142188,0.9408090496270258,0.9390094702651643,0.9371368895937208,0.9351084492759572,0.9330557612153584,0.9312289735564631,0.9293543463395025,0.9275386266286831,0.9256884677837561,0.923825484706234,0.9216168769019616,0.9193267564535198,0.9171080210761422,0.9148403674368056,0.9124738376193,0.9100150508583008,0.9079318355263625,0.9055617444260692,0.9030142411545999,0.9004203648795525,0.8980689816751007,0.895753592355098,0.8934258167984068,0.8910112034278967,0.8884835555981856,0.8858991595144673,0.8832672224045979,0.8806489898317053,0.8781735601338101,0.875798568138153,0.8733701733341191,0.8708924136063186,0.868304639054517,0.8657347591288924,0.8631886604807198,0.8606646697392588,0.858127410712821,0.8555693576054788,0.852892171710644,0.8501818039869902,0.8474274701530655,0.844700900642225,0.8419345520946966,0.8391646559956998,0.8364338566397378,0.8336910711516987,0.8309211457595196,0.8281248123000429,0.8253329993158202,0.8225748810114298,0.8198481378354814,0.8171364351895642,0.8144164389141544,0.8117098496622602,0.8090390142962303,0.8063941173576937,0.8037525871249604,0.8011218929019263,0.798534052945386,0.7959443157297019,0.7933324930099895,0.7907137868390863,0.7881034028225027,0.7855332424297904,0.782979060796708,0.780445007608978,0.7779009250870768,0.7753487688829088,0.7727853047065396,0.7701530104253251,0.7675384675221336,0.7649378471200146,0.7623256667632259,0.7597215865677874,0.7571078677633711]},\"selected\":{\"id\":\"12923\"},\"selection_policy\":{\"id\":\"12922\"}},\"id\":\"12525\",\"type\":\"ColumnDataSource\"},{\"attributes\":{\"text\":\"Total Cases/Deaths Exponential Validity: Italy\"},\"id\":\"12435\",\"type\":\"Title\"},{\"attributes\":{},\"id\":\"12457\",\"type\":\"ResetTool\"},{\"attributes\":{},\"id\":\"12523\",\"type\":\"Selection\"},{\"attributes\":{},\"id\":\"12453\",\"type\":\"PanTool\"},{\"attributes\":{},\"id\":\"12454\",\"type\":\"WheelZoomTool\"},{\"attributes\":{\"days\":[1,15]},\"id\":\"12484\",\"type\":\"DaysTicker\"},{\"attributes\":{\"fill_alpha\":{\"value\":0.1},\"fill_color\":{\"value\":\"white\"},\"line_alpha\":{\"value\":0.1},\"line_color\":{\"value\":\"darkviolet\"},\"size\":{\"units\":\"screen\",\"value\":5},\"x\":{\"field\":\"x\"},\"y\":{\"field\":\"y\"}},\"id\":\"12527\",\"type\":\"Circle\"},{\"attributes\":{},\"id\":\"12450\",\"type\":\"BasicTicker\"},{\"attributes\":{},\"id\":\"12920\",\"type\":\"UnionRenderers\"},{\"attributes\":{},\"id\":\"12441\",\"type\":\"LinearScale\"},{\"attributes\":{\"days\":[\"%d %B\"]},\"id\":\"12530\",\"type\":\"DatetimeTickFormatter\"},{\"attributes\":{\"label\":{\"value\":\"R_squared_cases\"},\"renderers\":[{\"id\":\"12470\"}]},\"id\":\"12491\",\"type\":\"LegendItem\"},{\"attributes\":{\"data\":{\"x\":{\"__ndarray__\":\"AACARzYJd0IAAECtiAl3QgAAABPbCXdCAADAeC0Kd0IAAIDefwp3QgAAQETSCndCAAAAqiQLd0IAAMAPdwt3QgAAgHXJC3dCAABA2xsMd0IAAABBbgx3QgAAwKbADHdCAACADBMNd0IAAEByZQ13QgAAANi3DXdCAADAPQoOd0IAAICjXA53QgAAQAmvDndCAAAAbwEPd0IAAMDUUw93QgAAgDqmD3dCAABAoPgPd0IAAAAGSxB3QgAAwGudEHdCAACA0e8Qd0IAAEA3QhF3QgAAAJ2UEXdCAADAAucRd0IAAIBoORJ3QgAAQM6LEndCAAAANN4Sd0IAAMCZMBN3QgAAgP+CE3dCAABAZdUTd0IAAADLJxR3QgAAwDB6FHdCAACAlswUd0IAAED8HhV3QgAAAGJxFXdCAADAx8MVd0IAAIAtFhZ3QgAAQJNoFndCAAAA+boWd0IAAMBeDRd3QgAAgMRfF3dCAABAKrIXd0IAAACQBBh3QgAAwPVWGHdCAACAW6kYd0IAAEDB+xh3QgAAACdOGXdCAADAjKAZd0IAAIDy8hl3QgAAQFhFGndCAAAAvpcad0IAAMAj6hp3QgAAgIk8G3dCAABA744bd0IAAABV4Rt3QgAAwLozHHdCAACAIIYcd0IAAECG2Bx3QgAAAOwqHXdCAADAUX0dd0IAAIC3zx13QgAAQB0iHndCAAAAg3Qed0IAAMDoxh53QgAAgE4ZH3dCAABAtGsfd0IAAAAavh93QgAAwH8QIHdCAACA5WIgd0IAAEBLtSB3QgAAALEHIXdCAADAFlohd0IAAIB8rCF3QgAAQOL+IXdCAAAASFEid0IAAMCtoyJ3QgAAgBP2IndCAABAeUgjd0IAAADfmiN3QgAAwETtI3dCAACAqj8kd0IAAEAQkiR3QgAAAHbkJHdCAADA2zYld0IAAIBBiSV3QgAAQKfbJXdCAAAADS4md0IAAMBygCZ3QgAAgNjSJndCAABAPiUnd0IAAACkdyd3QgAAwAnKJ3dCAACAbxwod0IAAEDVbih3QgAAADvBKHdCAADAoBMpd0IAAIAGZil3QgAAQGy4KXdCAAAA0goqd0IAAMA3XSp3QgAAgJ2vKndCAABAAwIrd0IAAABpVCt3QgAAwM6mK3dCAACANPkrd0IAAECaSyx3QgAAAACeLHdCAADAZfAsd0IAAIDLQi13QgAAQDGVLXdCAAAAl+ctd0IAAMD8OS53QgAAgGKMLndCAABAyN4ud0IAAAAuMS93QgAAwJODL3dCAACA+dUvd0IAAEBfKDB3QgAAAMV6MHdCAADAKs0wd0IAAICQHzF3QgAAQPZxMXdCAAAAXMQxd0I=\",\"dtype\":\"float64\",\"shape\":[127]},\"y\":[0.9944315925511179,0.9898318473486883,0.9871737529160225,0.9879731207786646,0.9909413667306475,0.9915465082064858,0.9946223137354124,0.9967037909147167,0.9979386020865314,0.9934056192034189,0.9944759212851118,0.99592794927204,0.9961691617509991,0.9969301601706759,0.9971358976717425,0.9958902199710057,0.9941628915249575,0.9931255075470334,0.9933633510388306,0.994032100212956,0.994688474359967,0.9942027803878379,0.9922106418494722,0.9898164875978024,0.987197833918425,0.9853145617394674,0.9836046426669457,0.9819732775925107,0.9798470389854931,0.9766564879206877,0.9729539467769811,0.9696078326797823,0.9665104789691191,0.9636113947435441,0.9610596188506716,0.9585126958173368,0.9556308351154628,0.9522851555015911,0.9491538036081114,0.9464404471188844,0.9439487048383793,0.9420237466639323,0.940258800232746,0.9382296783763806,0.9359687894513932,0.933447173913058,0.9312433551574293,0.9291951107214425,0.92729667736873,0.9253753520687699,0.9231732416103402,0.9209547388156726,0.9189798622195995,0.9169730031158049,0.9150917132232076,0.9131160743539135,0.9110765084609139,0.9088212477657631,0.9065220214269978,0.9042067728939025,0.9018340114476103,0.8994612819721594,0.8970885321131469,0.8945857132675741,0.8919421368671772,0.8891542856798136,0.8863643767704429,0.8835768591867103,0.8807864010398864,0.8779416987522529,0.8749881786024294,0.8719376935045307,0.8689898101762707,0.8660095449268841,0.8630394684938316,0.8600376029800153,0.8570401188914588,0.8540065155215382,0.8508947024522553,0.8478118690058419,0.8447275988996619,0.8416449443222731,0.8385742203009493,0.8355259648526927,0.8324728271586163,0.8293683451529894,0.8262465535831918,0.8231585041949218,0.8201092523308423,0.8170837592756848,0.8140631580546553,0.8110388571050465,0.807977301797912,0.8049171443078778,0.8018636321406905,0.7987896809369919,0.7957742179589785,0.792764128256589,0.7897475926081354,0.786746272656691,0.7837633054925285,0.7807841531457058,0.7778481099427089,0.7749114666047064,0.7720142545885778,0.7691550857635778,0.7663268635910401,0.7635123450119147,0.7607363340920518,0.7579994108236128,0.7552092551793972,0.7524505518009303,0.7497159874139115,0.7470056992780088,0.7443000682032053,0.7416872429410819,0.7391115953176539,0.7365653107030339,0.7340339717961981,0.7315183395347252,0.7290106421261164]},\"selected\":{\"id\":\"12521\"},\"selection_policy\":{\"id\":\"12520\"}},\"id\":\"12467\",\"type\":\"ColumnDataSource\"},{\"attributes\":{},\"id\":\"12439\",\"type\":\"DataRange1d\"},{\"attributes\":{\"mantissas\":[1,2,5],\"max_interval\":500.0,\"num_minor_ticks\":0},\"id\":\"12478\",\"type\":\"AdaptiveTicker\"},{\"attributes\":{},\"id\":\"12489\",\"type\":\"YearsTicker\"},{\"attributes\":{\"data_source\":{\"id\":\"12467\"},\"glyph\":{\"id\":\"12468\"},\"hover_glyph\":null,\"muted_glyph\":null,\"nonselection_glyph\":{\"id\":\"12469\"},\"selection_glyph\":null,\"view\":{\"id\":\"12471\"}},\"id\":\"12470\",\"type\":\"GlyphRenderer\"},{\"attributes\":{},\"id\":\"12456\",\"type\":\"SaveTool\"},{\"attributes\":{\"line_color\":\"darkviolet\",\"line_width\":4,\"x\":{\"field\":\"x\"},\"y\":{\"field\":\"y\"}},\"id\":\"12498\",\"type\":\"Line\"},{\"attributes\":{\"months\":[0,4,8]},\"id\":\"12487\",\"type\":\"MonthsTicker\"},{\"attributes\":{\"data_source\":{\"id\":\"12525\"},\"glyph\":{\"id\":\"12526\"},\"hover_glyph\":null,\"muted_glyph\":null,\"nonselection_glyph\":{\"id\":\"12527\"},\"selection_glyph\":null,\"view\":{\"id\":\"12529\"}},\"id\":\"12528\",\"type\":\"GlyphRenderer\"}],\"root_ids\":[\"12434\"]},\"title\":\"Bokeh Application\",\"version\":\"2.0.2\"}};\n",
       "  var render_items = [{\"docid\":\"e5549892-1dca-49bf-8e31-e12a24edc482\",\"root_ids\":[\"12434\"],\"roots\":{\"12434\":\"bc4c5a63-61be-43af-87d3-1f174d65f7c4\"}}];\n",
       "  root.Bokeh.embed.embed_items_notebook(docs_json, render_items);\n",
       "\n",
       "  }\n",
       "  if (root.Bokeh !== undefined) {\n",
       "    embed_document(root);\n",
       "  } else {\n",
       "    var attempts = 0;\n",
       "    var timer = setInterval(function(root) {\n",
       "      if (root.Bokeh !== undefined) {\n",
       "        clearInterval(timer);\n",
       "        embed_document(root);\n",
       "      } else {\n",
       "        attempts++;\n",
       "        if (attempts > 100) {\n",
       "          clearInterval(timer);\n",
       "          console.log(\"Bokeh: ERROR: Unable to run BokehJS code because BokehJS library is missing\");\n",
       "        }\n",
       "      }\n",
       "    }, 10, root)\n",
       "  }\n",
       "})(window);"
      ],
      "application/vnd.bokehjs_exec.v0+json": ""
     },
     "metadata": {
      "application/vnd.bokehjs_exec.v0+json": {
       "id": "12434"
      }
     },
     "output_type": "display_data"
    }
   ],
   "source": [
    "p_total_cases_deaths_exp_val_Italy = bokeh_plot_N_lines(x=time_date_new + 6, y_list=[R_2_cases, R_2_deaths], \n",
    "                  title='Total Cases/Deaths Exponential Validity: Italy', \n",
    "                  dim=[600, 450], \n",
    "                  x_label='Date', \n",
    "                  y_label='R_squared', legend_list=['R_squared_cases', 'R_squared_deaths'],\n",
    "                  x_label_hover='date', y_label_hover='R_squared_cases/deaths',\n",
    "                  color_list=['blue', 'darkviolet'],legend_location=\"top_right\", y_minmax=None)\n",
    "\n",
    "output_file(\"total_cases_deaths_exponential_validity_Italy.html\")\n",
    "\n",
    "show(p_total_cases_deaths_exp_val_Italy)"
   ]
  },
  {
   "cell_type": "markdown",
   "metadata": {},
   "source": [
    "--------------------"
   ]
  },
  {
   "cell_type": "code",
   "execution_count": 60,
   "metadata": {},
   "outputs": [],
   "source": [
    "R_2_guariti = []\n",
    "Correlation_A_B = []\n",
    "iii = 7\n",
    "\n",
    "while(iii <= len(guariti_italy)):\n",
    "    fit_range = iii   # best fit when fit_range = 28 namely March 22\n",
    "    xdata = np.linspace(0, fit_range, fit_range)\n",
    "    init_guess = [5000, 0.001]\n",
    "    fit = curve_fit(model_exp, xdata, guariti_italy.loc[0:(fit_range-1)], p0=init_guess)\n",
    "    ans, cov = fit\n",
    "    fit_a, fit_b = ans\n",
    "    fit_a, fit_b\n",
    "    ydata = model_exp(xdata,fit_a,fit_b)\n",
    "    residuals = guariti_italy.loc[0:(fit_range-1)] - ydata  #  Calculation of R^2\n",
    "    ss_res = np.sum(residuals**2)\n",
    "    ss_tot = np.sum((guariti_italy.loc[0:(fit_range-1)] - np.mean(guariti_italy.loc[0:(fit_range-1)]))**2)\n",
    "    r_squared = 1 - (ss_res / ss_tot)\n",
    "    R_2_guariti.append(r_squared)\n",
    "    correlation_ab = - cov[0,1] / (np.sqrt(np.diag(cov)[0] * np.diag(cov)[1]))\n",
    "    Correlation_A_B.append(correlation_ab)\n",
    "    iii = iii + 1"
   ]
  },
  {
   "cell_type": "code",
   "execution_count": 61,
   "metadata": {},
   "outputs": [
    {
     "name": "stderr",
     "output_type": "stream",
     "text": [
      "BokehUserWarning: ColumnDataSource's columns must be of the same length. Current lengths: ('x', 127), ('y', 121)\n",
      "BokehUserWarning: ColumnDataSource's columns must be of the same length. Current lengths: ('x', 127), ('y', 121)\n",
      "BokehUserWarning: ColumnDataSource's columns must be of the same length. Current lengths: ('x', 127), ('y', 121)\n",
      "BokehUserWarning: ColumnDataSource's columns must be of the same length. Current lengths: ('x', 127), ('y', 121)\n"
     ]
    },
    {
     "data": {
      "text/html": [
       "\n",
       "\n",
       "\n",
       "\n",
       "\n",
       "\n",
       "  <div class=\"bk-root\" id=\"d589bcad-e72b-4065-81f2-3c49bd7410c6\" data-root-id=\"13381\"></div>\n"
      ]
     },
     "metadata": {},
     "output_type": "display_data"
    },
    {
     "data": {
      "application/javascript": [
       "(function(root) {\n",
       "  function embed_document(root) {\n",
       "    \n",
       "  var docs_json = {\"3778eed3-8c2f-4bdb-8a89-e2fe67908c2f\":{\"roots\":{\"references\":[{\"attributes\":{\"below\":[{\"id\":\"13392\"}],\"center\":[{\"id\":\"13395\"},{\"id\":\"13399\"},{\"id\":\"13437\"}],\"left\":[{\"id\":\"13396\"}],\"plot_height\":450,\"renderers\":[{\"id\":\"13417\"},{\"id\":\"13442\"},{\"id\":\"13447\"},{\"id\":\"13475\"}],\"title\":{\"id\":\"13382\"},\"toolbar\":{\"id\":\"13407\"},\"x_range\":{\"id\":\"13384\"},\"x_scale\":{\"id\":\"13388\"},\"y_range\":{\"id\":\"13386\"},\"y_scale\":{\"id\":\"13390\"}},\"id\":\"13381\",\"subtype\":\"Figure\",\"type\":\"Plot\"},{\"attributes\":{},\"id\":\"13384\",\"type\":\"DataRange1d\"},{\"attributes\":{\"fill_color\":{\"value\":\"white\"},\"line_color\":{\"value\":\"green\"},\"size\":{\"units\":\"screen\",\"value\":5},\"x\":{\"field\":\"x\"},\"y\":{\"field\":\"y\"}},\"id\":\"13440\",\"type\":\"Circle\"},{\"attributes\":{\"days\":[\"%d %B\"]},\"id\":\"13477\",\"type\":\"DatetimeTickFormatter\"},{\"attributes\":{\"data\":{\"x\":{\"__ndarray__\":\"AACARzYJd0IAAECtiAl3QgAAABPbCXdCAADAeC0Kd0IAAIDefwp3QgAAQETSCndCAAAAqiQLd0IAAMAPdwt3QgAAgHXJC3dCAABA2xsMd0IAAABBbgx3QgAAwKbADHdCAACADBMNd0IAAEByZQ13QgAAANi3DXdCAADAPQoOd0IAAICjXA53QgAAQAmvDndCAAAAbwEPd0IAAMDUUw93QgAAgDqmD3dCAABAoPgPd0IAAAAGSxB3QgAAwGudEHdCAACA0e8Qd0IAAEA3QhF3QgAAAJ2UEXdCAADAAucRd0IAAIBoORJ3QgAAQM6LEndCAAAANN4Sd0IAAMCZMBN3QgAAgP+CE3dCAABAZdUTd0IAAADLJxR3QgAAwDB6FHdCAACAlswUd0IAAED8HhV3QgAAAGJxFXdCAADAx8MVd0IAAIAtFhZ3QgAAQJNoFndCAAAA+boWd0IAAMBeDRd3QgAAgMRfF3dCAABAKrIXd0IAAACQBBh3QgAAwPVWGHdCAACAW6kYd0IAAEDB+xh3QgAAACdOGXdCAADAjKAZd0IAAIDy8hl3QgAAQFhFGndCAAAAvpcad0IAAMAj6hp3QgAAgIk8G3dCAABA744bd0IAAABV4Rt3QgAAwLozHHdCAACAIIYcd0IAAECG2Bx3QgAAAOwqHXdCAADAUX0dd0IAAIC3zx13QgAAQB0iHndCAAAAg3Qed0IAAMDoxh53QgAAgE4ZH3dCAABAtGsfd0IAAAAavh93QgAAwH8QIHdCAACA5WIgd0IAAEBLtSB3QgAAALEHIXdCAADAFlohd0IAAIB8rCF3QgAAQOL+IXdCAAAASFEid0IAAMCtoyJ3QgAAgBP2IndCAABAeUgjd0IAAADfmiN3QgAAwETtI3dCAACAqj8kd0IAAEAQkiR3QgAAAHbkJHdCAADA2zYld0IAAIBBiSV3QgAAQKfbJXdCAAAADS4md0IAAMBygCZ3QgAAgNjSJndCAABAPiUnd0IAAACkdyd3QgAAwAnKJ3dCAACAbxwod0IAAEDVbih3QgAAADvBKHdCAADAoBMpd0IAAIAGZil3QgAAQGy4KXdCAAAA0goqd0IAAMA3XSp3QgAAgJ2vKndCAABAAwIrd0IAAABpVCt3QgAAwM6mK3dCAACANPkrd0IAAECaSyx3QgAAAACeLHdCAADAZfAsd0IAAIDLQi13QgAAQDGVLXdCAAAAl+ctd0IAAMD8OS53QgAAgGKMLndCAABAyN4ud0IAAAAuMS93QgAAwJODL3dCAACA+dUvd0IAAEBfKDB3QgAAAMV6MHdCAADAKs0wd0IAAICQHzF3QgAAQPZxMXdCAAAAXMQxd0I=\",\"dtype\":\"float64\",\"shape\":[127]},\"y\":[0.8606481598394683,0.9471173938556658,0.9360911279420753,0.9714690580202313,0.9878007496262176,0.9884028491325129,0.9737095608712864,0.950129573047173,0.9474586811076524,0.9666768419691317,0.9658577874885119,0.9724140849805707,0.9763897317383651,0.9834379682925372,0.9890235515610548,0.9924406618242618,0.989816741999947,0.9921702793313502,0.9937454318804336,0.9945507685487721,0.9957720823208889,0.9964565194119556,0.992972429394026,0.9912159179141088,0.990758065554159,0.9902870260138735,0.9873582845426842,0.9876274727514551,0.9855575962352924,0.9861611703161747,0.9860563306981559,0.9854629750783211,0.985418780114212,0.9856008321068747,0.9851952730138245,0.9833282330199984,0.9811142645991496,0.9800447585020177,0.9805734317474694,0.9815490832902357,0.9826117648897318,0.98367923585059,0.9841889379349255,0.9837222896530314,0.9831395008139059,0.9815460633282107,0.9806663783128649,0.980694863333348,0.9808726854803773,0.9810329377754993,0.9808918984127557,0.9811961160998607,0.9818480551570032,0.9826863064941808,0.9835138836865019,0.9841358137509889,0.9841789078633206,0.9836939231363766,0.9831376121102836,0.9825179613737066,0.9829079161791275,0.9829729695921392,0.9825046031593785,0.9816427493213683,0.9802331679101273,0.9789441087335161,0.979799959618488,0.9804583566733469,0.9808623878006852,0.9813851613404979,0.9814954845116408,0.9810371567380703,0.9804262518199361,0.9800013745173415,0.979502354520762,0.9794995183201429,0.9792978225698306,0.978873388710861,0.9782131164464811,0.9773431417511275,0.9765117443872783,0.9755649908022141,0.9745001848019995,0.9733352889282131,0.9719747662835253,0.9704247646097638,0.9690238111867877,0.9676952469672493,0.9666801744582063,0.9656393259166077,0.9647036535325406,0.9636622990059924,0.9623120358987169,0.9609008950662642,0.9592470063373569,0.9574160300507688,0.9556511259989501,0.9538203659941833,0.9518210779224072,0.9496803517919288,0.9477185274309496,0.9457510155615758,0.9438094298762447,0.9419719395532088,0.9402384461248768,0.9385456032380411,0.936718779687741,0.934957539813754,0.9331425907637588,0.9313179521274131,0.9295445617122824,0.9276625667092279,0.9256677990900561,0.923595319805072,0.9215805316656552,0.9196925483434297,0.9177502570511579,0.9158157844553549,0.9139077146434131,0.9119052185457832,0.9098207302621677]},\"selected\":{\"id\":\"13470\"},\"selection_policy\":{\"id\":\"13469\"}},\"id\":\"13439\",\"type\":\"ColumnDataSource\"},{\"attributes\":{\"days\":[1,15]},\"id\":\"13431\",\"type\":\"DaysTicker\"},{\"attributes\":{},\"id\":\"13894\",\"type\":\"Selection\"},{\"attributes\":{\"days\":[1,2,3,4,5,6,7,8,9,10,11,12,13,14,15,16,17,18,19,20,21,22,23,24,25,26,27,28,29,30,31]},\"id\":\"13428\",\"type\":\"DaysTicker\"},{\"attributes\":{\"active_drag\":\"auto\",\"active_inspect\":\"auto\",\"active_multi\":null,\"active_scroll\":\"auto\",\"active_tap\":\"auto\",\"tools\":[{\"id\":\"13400\"},{\"id\":\"13401\"},{\"id\":\"13402\"},{\"id\":\"13403\"},{\"id\":\"13404\"},{\"id\":\"13405\"},{\"id\":\"13481\"}]},\"id\":\"13407\",\"type\":\"Toolbar\"},{\"attributes\":{\"data_source\":{\"id\":\"13439\"},\"glyph\":{\"id\":\"13440\"},\"hover_glyph\":null,\"muted_glyph\":null,\"nonselection_glyph\":{\"id\":\"13441\"},\"selection_glyph\":null,\"view\":{\"id\":\"13443\"}},\"id\":\"13442\",\"type\":\"GlyphRenderer\"},{\"attributes\":{},\"id\":\"13388\",\"type\":\"LinearScale\"},{\"attributes\":{\"line_color\":\"green\",\"line_width\":4,\"x\":{\"field\":\"x\"},\"y\":{\"field\":\"y\"}},\"id\":\"13415\",\"type\":\"Line\"},{\"attributes\":{\"data\":{\"x\":{\"__ndarray__\":\"AACARzYJd0IAAECtiAl3QgAAABPbCXdCAADAeC0Kd0IAAIDefwp3QgAAQETSCndCAAAAqiQLd0IAAMAPdwt3QgAAgHXJC3dCAABA2xsMd0IAAABBbgx3QgAAwKbADHdCAACADBMNd0IAAEByZQ13QgAAANi3DXdCAADAPQoOd0IAAICjXA53QgAAQAmvDndCAAAAbwEPd0IAAMDUUw93QgAAgDqmD3dCAABAoPgPd0IAAAAGSxB3QgAAwGudEHdCAACA0e8Qd0IAAEA3QhF3QgAAAJ2UEXdCAADAAucRd0IAAIBoORJ3QgAAQM6LEndCAAAANN4Sd0IAAMCZMBN3QgAAgP+CE3dCAABAZdUTd0IAAADLJxR3QgAAwDB6FHdCAACAlswUd0IAAED8HhV3QgAAAGJxFXdCAADAx8MVd0IAAIAtFhZ3QgAAQJNoFndCAAAA+boWd0IAAMBeDRd3QgAAgMRfF3dCAABAKrIXd0IAAACQBBh3QgAAwPVWGHdCAACAW6kYd0IAAEDB+xh3QgAAACdOGXdCAADAjKAZd0IAAIDy8hl3QgAAQFhFGndCAAAAvpcad0IAAMAj6hp3QgAAgIk8G3dCAABA744bd0IAAABV4Rt3QgAAwLozHHdCAACAIIYcd0IAAECG2Bx3QgAAAOwqHXdCAADAUX0dd0IAAIC3zx13QgAAQB0iHndCAAAAg3Qed0IAAMDoxh53QgAAgE4ZH3dCAABAtGsfd0IAAAAavh93QgAAwH8QIHdCAACA5WIgd0IAAEBLtSB3QgAAALEHIXdCAADAFlohd0IAAIB8rCF3QgAAQOL+IXdCAAAASFEid0IAAMCtoyJ3QgAAgBP2IndCAABAeUgjd0IAAADfmiN3QgAAwETtI3dCAACAqj8kd0IAAEAQkiR3QgAAAHbkJHdCAADA2zYld0IAAIBBiSV3QgAAQKfbJXdCAAAADS4md0IAAMBygCZ3QgAAgNjSJndCAABAPiUnd0IAAACkdyd3QgAAwAnKJ3dCAACAbxwod0IAAEDVbih3QgAAADvBKHdCAADAoBMpd0IAAIAGZil3QgAAQGy4KXdCAAAA0goqd0IAAMA3XSp3QgAAgJ2vKndCAABAAwIrd0IAAABpVCt3QgAAwM6mK3dCAACANPkrd0IAAECaSyx3QgAAAACeLHdCAADAZfAsd0IAAIDLQi13QgAAQDGVLXdCAAAAl+ctd0IAAMD8OS53QgAAgGKMLndCAABAyN4ud0IAAAAuMS93QgAAwJODL3dCAACA+dUvd0IAAEBfKDB3QgAAAMV6MHdCAADAKs0wd0IAAICQHzF3QgAAQPZxMXdCAAAAXMQxd0I=\",\"dtype\":\"float64\",\"shape\":[127]},\"y\":[0.8606481598394683,0.9471173938556658,0.9360911279420753,0.9714690580202313,0.9878007496262176,0.9884028491325129,0.9737095608712864,0.950129573047173,0.9474586811076524,0.9666768419691317,0.9658577874885119,0.9724140849805707,0.9763897317383651,0.9834379682925372,0.9890235515610548,0.9924406618242618,0.989816741999947,0.9921702793313502,0.9937454318804336,0.9945507685487721,0.9957720823208889,0.9964565194119556,0.992972429394026,0.9912159179141088,0.990758065554159,0.9902870260138735,0.9873582845426842,0.9876274727514551,0.9855575962352924,0.9861611703161747,0.9860563306981559,0.9854629750783211,0.985418780114212,0.9856008321068747,0.9851952730138245,0.9833282330199984,0.9811142645991496,0.9800447585020177,0.9805734317474694,0.9815490832902357,0.9826117648897318,0.98367923585059,0.9841889379349255,0.9837222896530314,0.9831395008139059,0.9815460633282107,0.9806663783128649,0.980694863333348,0.9808726854803773,0.9810329377754993,0.9808918984127557,0.9811961160998607,0.9818480551570032,0.9826863064941808,0.9835138836865019,0.9841358137509889,0.9841789078633206,0.9836939231363766,0.9831376121102836,0.9825179613737066,0.9829079161791275,0.9829729695921392,0.9825046031593785,0.9816427493213683,0.9802331679101273,0.9789441087335161,0.979799959618488,0.9804583566733469,0.9808623878006852,0.9813851613404979,0.9814954845116408,0.9810371567380703,0.9804262518199361,0.9800013745173415,0.979502354520762,0.9794995183201429,0.9792978225698306,0.978873388710861,0.9782131164464811,0.9773431417511275,0.9765117443872783,0.9755649908022141,0.9745001848019995,0.9733352889282131,0.9719747662835253,0.9704247646097638,0.9690238111867877,0.9676952469672493,0.9666801744582063,0.9656393259166077,0.9647036535325406,0.9636622990059924,0.9623120358987169,0.9609008950662642,0.9592470063373569,0.9574160300507688,0.9556511259989501,0.9538203659941833,0.9518210779224072,0.9496803517919288,0.9477185274309496,0.9457510155615758,0.9438094298762447,0.9419719395532088,0.9402384461248768,0.9385456032380411,0.936718779687741,0.934957539813754,0.9331425907637588,0.9313179521274131,0.9295445617122824,0.9276625667092279,0.9256677990900561,0.923595319805072,0.9215805316656552,0.9196925483434297,0.9177502570511579,0.9158157844553549,0.9139077146434131,0.9119052185457832,0.9098207302621677]},\"selected\":{\"id\":\"13468\"},\"selection_policy\":{\"id\":\"13467\"}},\"id\":\"13414\",\"type\":\"ColumnDataSource\"},{\"attributes\":{\"bottom_units\":\"screen\",\"fill_alpha\":0.5,\"fill_color\":\"lightgrey\",\"left_units\":\"screen\",\"level\":\"overlay\",\"line_alpha\":1.0,\"line_color\":\"black\",\"line_dash\":[4,4],\"line_width\":2,\"render_mode\":\"css\",\"right_units\":\"screen\",\"top_units\":\"screen\"},\"id\":\"13406\",\"type\":\"BoxAnnotation\"},{\"attributes\":{\"months\":[0,1,2,3,4,5,6,7,8,9,10,11]},\"id\":\"13432\",\"type\":\"MonthsTicker\"},{\"attributes\":{\"data_source\":{\"id\":\"13472\"},\"glyph\":{\"id\":\"13473\"},\"hover_glyph\":null,\"muted_glyph\":null,\"nonselection_glyph\":{\"id\":\"13474\"},\"selection_glyph\":null,\"view\":{\"id\":\"13476\"}},\"id\":\"13475\",\"type\":\"GlyphRenderer\"},{\"attributes\":{\"overlay\":{\"id\":\"13406\"}},\"id\":\"13402\",\"type\":\"BoxZoomTool\"},{\"attributes\":{\"data\":{\"x\":{\"__ndarray__\":\"AACARzYJd0IAAECtiAl3QgAAABPbCXdCAADAeC0Kd0IAAIDefwp3QgAAQETSCndCAAAAqiQLd0IAAMAPdwt3QgAAgHXJC3dCAABA2xsMd0IAAABBbgx3QgAAwKbADHdCAACADBMNd0IAAEByZQ13QgAAANi3DXdCAADAPQoOd0IAAICjXA53QgAAQAmvDndCAAAAbwEPd0IAAMDUUw93QgAAgDqmD3dCAABAoPgPd0IAAAAGSxB3QgAAwGudEHdCAACA0e8Qd0IAAEA3QhF3QgAAAJ2UEXdCAADAAucRd0IAAIBoORJ3QgAAQM6LEndCAAAANN4Sd0IAAMCZMBN3QgAAgP+CE3dCAABAZdUTd0IAAADLJxR3QgAAwDB6FHdCAACAlswUd0IAAED8HhV3QgAAAGJxFXdCAADAx8MVd0IAAIAtFhZ3QgAAQJNoFndCAAAA+boWd0IAAMBeDRd3QgAAgMRfF3dCAABAKrIXd0IAAACQBBh3QgAAwPVWGHdCAACAW6kYd0IAAEDB+xh3QgAAACdOGXdCAADAjKAZd0IAAIDy8hl3QgAAQFhFGndCAAAAvpcad0IAAMAj6hp3QgAAgIk8G3dCAABA744bd0IAAABV4Rt3QgAAwLozHHdCAACAIIYcd0IAAECG2Bx3QgAAAOwqHXdCAADAUX0dd0IAAIC3zx13QgAAQB0iHndCAAAAg3Qed0IAAMDoxh53QgAAgE4ZH3dCAABAtGsfd0IAAAAavh93QgAAwH8QIHdCAACA5WIgd0IAAEBLtSB3QgAAALEHIXdCAADAFlohd0IAAIB8rCF3QgAAQOL+IXdCAAAASFEid0IAAMCtoyJ3QgAAgBP2IndCAABAeUgjd0IAAADfmiN3QgAAwETtI3dCAACAqj8kd0IAAEAQkiR3QgAAAHbkJHdCAADA2zYld0IAAIBBiSV3QgAAQKfbJXdCAAAADS4md0IAAMBygCZ3QgAAgNjSJndCAABAPiUnd0IAAACkdyd3QgAAwAnKJ3dCAACAbxwod0IAAEDVbih3QgAAADvBKHdCAADAoBMpd0IAAIAGZil3QgAAQGy4KXdCAAAA0goqd0IAAMA3XSp3QgAAgJ2vKndCAABAAwIrd0IAAABpVCt3QgAAwM6mK3dCAACANPkrd0IAAECaSyx3QgAAAACeLHdCAADAZfAsd0IAAIDLQi13QgAAQDGVLXdCAAAAl+ctd0IAAMD8OS53QgAAgGKMLndCAABAyN4ud0IAAAAuMS93QgAAwJODL3dCAACA+dUvd0IAAEBfKDB3QgAAAMV6MHdCAADAKs0wd0IAAICQHzF3QgAAQPZxMXdCAAAAXMQxd0I=\",\"dtype\":\"float64\",\"shape\":[127]},\"y\":[0.9771737962977108,0.9871615847539023,0.9829343955368651,0.9884468542317343,0.9913441858825804,0.9908921286043308,0.9888985316298194,0.9861518153159629,0.9847892439157601,0.9867356646622251,0.9859275251425523,0.9861682215239759,0.9862796303827647,0.9886114928781847,0.9899348507434925,0.9906863298064612,0.9903022966017481,0.991800806880214,0.99206010826089,0.9922307343012302,0.9925712978323876,0.9928241151397788,0.9924576224403759,0.9922179392281737,0.9921028006742135,0.9919828782924789,0.9916095077978972,0.9915283386301457,0.9912125473762785,0.9911568123674873,0.9910332623071504,0.9908603681729753,0.9907466623164833,0.9906650655547475,0.9905235778178821,0.9902382551988185,0.9899119104059608,0.9896740937047024,0.9895950945330856,0.9895826553354071,0.9895996314665343,0.98963650133897,0.9896153477359121,0.9894863995087565,0.9893436202081626,0.9891018011342649,0.9889189345421027,0.9888276337033661,0.9887565402945742,0.9886891883561718,0.98859123703846,0.9885463341643794,0.9885522359563569,0.9885939302294591,0.9886456903811286,0.9886774429358693,0.9886375229715909,0.988536744938969,0.9884270502635595,0.9883080318639805,0.9883067201642972,0.9882677380668939,0.9881681745608241,0.9880259593414845,0.9878286368121214,0.9876376338315298,0.9876821935148913,0.9877064865546078,0.9877031004215924,0.9877204272886129,0.9876880585919983,0.9875905075176152,0.9874764934874825,0.9873804409294605,0.987275598511037,0.9872250341976112,0.9871524140220518,0.9870557153794707,0.9869336258345236,0.9867908984118114,0.9866491555803428,0.986494805264593,0.9863276875620565,0.9861503531261745,0.9859535300638118,0.9857387179990382,0.9855329262993116,0.9853315433722515,0.9851543185770476,0.9849737161363307,0.9848017417955244,0.9846189070406504,0.9844099888406209,0.9841948433123915,0.9839586204188993,0.9837099755464301,0.9834622970233243,0.9832101292324514,0.9829436958801862,0.982665834650477,0.9823971656449815,0.9821294087696237,0.9818612167660485,0.9815991870370405,0.9813435317350386,0.9810899175162584,0.9808251821758974,0.9805666319224425,0.9803028455312166,0.9800378699372447,0.979775953566116,0.9795043920780917,0.9792261913920965,0.9789422275356237,0.9786617212691644,0.9783893381836307,0.978113862561235,0.9778395852876605,0.977563447488875,0.9772831759672321,0.9769960658501962]},\"selected\":{\"id\":\"13892\"},\"selection_policy\":{\"id\":\"13891\"}},\"id\":\"13444\",\"type\":\"ColumnDataSource\"},{\"attributes\":{\"callback\":null,\"formatters\":{\"@x\":\"datetime\"},\"mode\":\"vline\",\"tooltips\":[[\"date\",\"@x{%d %B}\"],[\"R_squared/Corr_A_B\",\"@y{0[.]000}\"]]},\"id\":\"13481\",\"type\":\"HoverTool\"},{\"attributes\":{\"label\":{\"value\":\"R_squared\"},\"renderers\":[{\"id\":\"13417\"}]},\"id\":\"13438\",\"type\":\"LegendItem\"},{\"attributes\":{\"days\":[1,8,15,22]},\"id\":\"13430\",\"type\":\"DaysTicker\"},{\"attributes\":{},\"id\":\"13403\",\"type\":\"SaveTool\"},{\"attributes\":{\"source\":{\"id\":\"13472\"}},\"id\":\"13476\",\"type\":\"CDSView\"},{\"attributes\":{\"axis_label\":\"R_squared\",\"formatter\":{\"id\":\"13479\"},\"minor_tick_in\":-5,\"minor_tick_out\":-3,\"ticker\":{\"id\":\"13397\"}},\"id\":\"13396\",\"type\":\"LinearAxis\"},{\"attributes\":{\"fill_alpha\":{\"value\":0.1},\"fill_color\":{\"value\":\"white\"},\"line_alpha\":{\"value\":0.1},\"line_color\":{\"value\":\"lightgreen\"},\"size\":{\"units\":\"screen\",\"value\":5},\"x\":{\"field\":\"x\"},\"y\":{\"field\":\"y\"}},\"id\":\"13474\",\"type\":\"Circle\"},{\"attributes\":{\"data_source\":{\"id\":\"13444\"},\"glyph\":{\"id\":\"13445\"},\"hover_glyph\":null,\"muted_glyph\":null,\"nonselection_glyph\":{\"id\":\"13446\"},\"selection_glyph\":null,\"view\":{\"id\":\"13448\"}},\"id\":\"13447\",\"type\":\"GlyphRenderer\"},{\"attributes\":{\"line_alpha\":0.1,\"line_color\":\"green\",\"line_width\":4,\"x\":{\"field\":\"x\"},\"y\":{\"field\":\"y\"}},\"id\":\"13416\",\"type\":\"Line\"},{\"attributes\":{\"use_scientific\":false},\"id\":\"13479\",\"type\":\"BasicTickFormatter\"},{\"attributes\":{\"base\":60,\"mantissas\":[1,2,5,10,15,20,30],\"max_interval\":1800000.0,\"min_interval\":1000.0,\"num_minor_ticks\":0},\"id\":\"13426\",\"type\":\"AdaptiveTicker\"},{\"attributes\":{},\"id\":\"13386\",\"type\":\"DataRange1d\"},{\"attributes\":{\"months\":[0,4,8]},\"id\":\"13434\",\"type\":\"MonthsTicker\"},{\"attributes\":{},\"id\":\"13893\",\"type\":\"UnionRenderers\"},{\"attributes\":{},\"id\":\"13390\",\"type\":\"LinearScale\"},{\"attributes\":{},\"id\":\"13404\",\"type\":\"ResetTool\"},{\"attributes\":{\"fill_color\":{\"value\":\"white\"},\"line_color\":{\"value\":\"lightgreen\"},\"size\":{\"units\":\"screen\",\"value\":5},\"x\":{\"field\":\"x\"},\"y\":{\"field\":\"y\"}},\"id\":\"13473\",\"type\":\"Circle\"},{\"attributes\":{\"months\":[0,2,4,6,8,10]},\"id\":\"13433\",\"type\":\"MonthsTicker\"},{\"attributes\":{\"base\":24,\"mantissas\":[1,2,4,6,8,12],\"max_interval\":43200000.0,\"min_interval\":3600000.0,\"num_minor_ticks\":0},\"id\":\"13427\",\"type\":\"AdaptiveTicker\"},{\"attributes\":{\"text\":\"Guariti Exponential Validity: Italy\"},\"id\":\"13382\",\"type\":\"Title\"},{\"attributes\":{\"axis\":{\"id\":\"13392\"},\"ticker\":null},\"id\":\"13395\",\"type\":\"Grid\"},{\"attributes\":{\"source\":{\"id\":\"13444\"}},\"id\":\"13448\",\"type\":\"CDSView\"},{\"attributes\":{\"months\":[0,6]},\"id\":\"13435\",\"type\":\"MonthsTicker\"},{\"attributes\":{\"source\":{\"id\":\"13414\"}},\"id\":\"13418\",\"type\":\"CDSView\"},{\"attributes\":{},\"id\":\"13467\",\"type\":\"UnionRenderers\"},{\"attributes\":{\"items\":[{\"id\":\"13438\"},{\"id\":\"13471\"}],\"location\":\"bottom_right\"},\"id\":\"13437\",\"type\":\"Legend\"},{\"attributes\":{\"line_alpha\":0.1,\"line_color\":\"lightgreen\",\"line_width\":4,\"x\":{\"field\":\"x\"},\"y\":{\"field\":\"y\"}},\"id\":\"13446\",\"type\":\"Line\"},{\"attributes\":{},\"id\":\"13436\",\"type\":\"YearsTicker\"},{\"attributes\":{},\"id\":\"13891\",\"type\":\"UnionRenderers\"},{\"attributes\":{\"axis_label\":\"Date\",\"formatter\":{\"id\":\"13477\"},\"major_label_orientation\":0.7853981633974483,\"minor_tick_in\":-5,\"minor_tick_out\":-3,\"ticker\":{\"id\":\"13393\"}},\"id\":\"13392\",\"type\":\"DatetimeAxis\"},{\"attributes\":{},\"id\":\"13405\",\"type\":\"HelpTool\"},{\"attributes\":{\"label\":{\"value\":\"Corr_A_B\"},\"renderers\":[{\"id\":\"13447\"}]},\"id\":\"13471\",\"type\":\"LegendItem\"},{\"attributes\":{\"fill_alpha\":{\"value\":0.1},\"fill_color\":{\"value\":\"white\"},\"line_alpha\":{\"value\":0.1},\"line_color\":{\"value\":\"green\"},\"size\":{\"units\":\"screen\",\"value\":5},\"x\":{\"field\":\"x\"},\"y\":{\"field\":\"y\"}},\"id\":\"13441\",\"type\":\"Circle\"},{\"attributes\":{},\"id\":\"13397\",\"type\":\"BasicTicker\"},{\"attributes\":{\"line_color\":\"lightgreen\",\"line_width\":4,\"x\":{\"field\":\"x\"},\"y\":{\"field\":\"y\"}},\"id\":\"13445\",\"type\":\"Line\"},{\"attributes\":{\"days\":[1,4,7,10,13,16,19,22,25,28]},\"id\":\"13429\",\"type\":\"DaysTicker\"},{\"attributes\":{},\"id\":\"13470\",\"type\":\"Selection\"},{\"attributes\":{},\"id\":\"13892\",\"type\":\"Selection\"},{\"attributes\":{},\"id\":\"13401\",\"type\":\"WheelZoomTool\"},{\"attributes\":{\"source\":{\"id\":\"13439\"}},\"id\":\"13443\",\"type\":\"CDSView\"},{\"attributes\":{\"mantissas\":[1,2,5],\"max_interval\":500.0,\"num_minor_ticks\":0},\"id\":\"13425\",\"type\":\"AdaptiveTicker\"},{\"attributes\":{},\"id\":\"13469\",\"type\":\"UnionRenderers\"},{\"attributes\":{},\"id\":\"13468\",\"type\":\"Selection\"},{\"attributes\":{\"data_source\":{\"id\":\"13414\"},\"glyph\":{\"id\":\"13415\"},\"hover_glyph\":null,\"muted_glyph\":null,\"nonselection_glyph\":{\"id\":\"13416\"},\"selection_glyph\":null,\"view\":{\"id\":\"13418\"}},\"id\":\"13417\",\"type\":\"GlyphRenderer\"},{\"attributes\":{\"num_minor_ticks\":5,\"tickers\":[{\"id\":\"13425\"},{\"id\":\"13426\"},{\"id\":\"13427\"},{\"id\":\"13428\"},{\"id\":\"13429\"},{\"id\":\"13430\"},{\"id\":\"13431\"},{\"id\":\"13432\"},{\"id\":\"13433\"},{\"id\":\"13434\"},{\"id\":\"13435\"},{\"id\":\"13436\"}]},\"id\":\"13393\",\"type\":\"DatetimeTicker\"},{\"attributes\":{\"data\":{\"x\":{\"__ndarray__\":\"AACARzYJd0IAAECtiAl3QgAAABPbCXdCAADAeC0Kd0IAAIDefwp3QgAAQETSCndCAAAAqiQLd0IAAMAPdwt3QgAAgHXJC3dCAABA2xsMd0IAAABBbgx3QgAAwKbADHdCAACADBMNd0IAAEByZQ13QgAAANi3DXdCAADAPQoOd0IAAICjXA53QgAAQAmvDndCAAAAbwEPd0IAAMDUUw93QgAAgDqmD3dCAABAoPgPd0IAAAAGSxB3QgAAwGudEHdCAACA0e8Qd0IAAEA3QhF3QgAAAJ2UEXdCAADAAucRd0IAAIBoORJ3QgAAQM6LEndCAAAANN4Sd0IAAMCZMBN3QgAAgP+CE3dCAABAZdUTd0IAAADLJxR3QgAAwDB6FHdCAACAlswUd0IAAED8HhV3QgAAAGJxFXdCAADAx8MVd0IAAIAtFhZ3QgAAQJNoFndCAAAA+boWd0IAAMBeDRd3QgAAgMRfF3dCAABAKrIXd0IAAACQBBh3QgAAwPVWGHdCAACAW6kYd0IAAEDB+xh3QgAAACdOGXdCAADAjKAZd0IAAIDy8hl3QgAAQFhFGndCAAAAvpcad0IAAMAj6hp3QgAAgIk8G3dCAABA744bd0IAAABV4Rt3QgAAwLozHHdCAACAIIYcd0IAAECG2Bx3QgAAAOwqHXdCAADAUX0dd0IAAIC3zx13QgAAQB0iHndCAAAAg3Qed0IAAMDoxh53QgAAgE4ZH3dCAABAtGsfd0IAAAAavh93QgAAwH8QIHdCAACA5WIgd0IAAEBLtSB3QgAAALEHIXdCAADAFlohd0IAAIB8rCF3QgAAQOL+IXdCAAAASFEid0IAAMCtoyJ3QgAAgBP2IndCAABAeUgjd0IAAADfmiN3QgAAwETtI3dCAACAqj8kd0IAAEAQkiR3QgAAAHbkJHdCAADA2zYld0IAAIBBiSV3QgAAQKfbJXdCAAAADS4md0IAAMBygCZ3QgAAgNjSJndCAABAPiUnd0IAAACkdyd3QgAAwAnKJ3dCAACAbxwod0IAAEDVbih3QgAAADvBKHdCAADAoBMpd0IAAIAGZil3QgAAQGy4KXdCAAAA0goqd0IAAMA3XSp3QgAAgJ2vKndCAABAAwIrd0IAAABpVCt3QgAAwM6mK3dCAACANPkrd0IAAECaSyx3QgAAAACeLHdCAADAZfAsd0IAAIDLQi13QgAAQDGVLXdCAAAAl+ctd0IAAMD8OS53QgAAgGKMLndCAABAyN4ud0IAAAAuMS93QgAAwJODL3dCAACA+dUvd0IAAEBfKDB3QgAAAMV6MHdCAADAKs0wd0IAAICQHzF3QgAAQPZxMXdCAAAAXMQxd0I=\",\"dtype\":\"float64\",\"shape\":[127]},\"y\":[0.9771737962977108,0.9871615847539023,0.9829343955368651,0.9884468542317343,0.9913441858825804,0.9908921286043308,0.9888985316298194,0.9861518153159629,0.9847892439157601,0.9867356646622251,0.9859275251425523,0.9861682215239759,0.9862796303827647,0.9886114928781847,0.9899348507434925,0.9906863298064612,0.9903022966017481,0.991800806880214,0.99206010826089,0.9922307343012302,0.9925712978323876,0.9928241151397788,0.9924576224403759,0.9922179392281737,0.9921028006742135,0.9919828782924789,0.9916095077978972,0.9915283386301457,0.9912125473762785,0.9911568123674873,0.9910332623071504,0.9908603681729753,0.9907466623164833,0.9906650655547475,0.9905235778178821,0.9902382551988185,0.9899119104059608,0.9896740937047024,0.9895950945330856,0.9895826553354071,0.9895996314665343,0.98963650133897,0.9896153477359121,0.9894863995087565,0.9893436202081626,0.9891018011342649,0.9889189345421027,0.9888276337033661,0.9887565402945742,0.9886891883561718,0.98859123703846,0.9885463341643794,0.9885522359563569,0.9885939302294591,0.9886456903811286,0.9886774429358693,0.9886375229715909,0.988536744938969,0.9884270502635595,0.9883080318639805,0.9883067201642972,0.9882677380668939,0.9881681745608241,0.9880259593414845,0.9878286368121214,0.9876376338315298,0.9876821935148913,0.9877064865546078,0.9877031004215924,0.9877204272886129,0.9876880585919983,0.9875905075176152,0.9874764934874825,0.9873804409294605,0.987275598511037,0.9872250341976112,0.9871524140220518,0.9870557153794707,0.9869336258345236,0.9867908984118114,0.9866491555803428,0.986494805264593,0.9863276875620565,0.9861503531261745,0.9859535300638118,0.9857387179990382,0.9855329262993116,0.9853315433722515,0.9851543185770476,0.9849737161363307,0.9848017417955244,0.9846189070406504,0.9844099888406209,0.9841948433123915,0.9839586204188993,0.9837099755464301,0.9834622970233243,0.9832101292324514,0.9829436958801862,0.982665834650477,0.9823971656449815,0.9821294087696237,0.9818612167660485,0.9815991870370405,0.9813435317350386,0.9810899175162584,0.9808251821758974,0.9805666319224425,0.9803028455312166,0.9800378699372447,0.979775953566116,0.9795043920780917,0.9792261913920965,0.9789422275356237,0.9786617212691644,0.9783893381836307,0.978113862561235,0.9778395852876605,0.977563447488875,0.9772831759672321,0.9769960658501962]},\"selected\":{\"id\":\"13894\"},\"selection_policy\":{\"id\":\"13893\"}},\"id\":\"13472\",\"type\":\"ColumnDataSource\"},{\"attributes\":{},\"id\":\"13400\",\"type\":\"PanTool\"},{\"attributes\":{\"axis\":{\"id\":\"13396\"},\"dimension\":1,\"ticker\":null},\"id\":\"13399\",\"type\":\"Grid\"}],\"root_ids\":[\"13381\"]},\"title\":\"Bokeh Application\",\"version\":\"2.0.2\"}};\n",
       "  var render_items = [{\"docid\":\"3778eed3-8c2f-4bdb-8a89-e2fe67908c2f\",\"root_ids\":[\"13381\"],\"roots\":{\"13381\":\"d589bcad-e72b-4065-81f2-3c49bd7410c6\"}}];\n",
       "  root.Bokeh.embed.embed_items_notebook(docs_json, render_items);\n",
       "\n",
       "  }\n",
       "  if (root.Bokeh !== undefined) {\n",
       "    embed_document(root);\n",
       "  } else {\n",
       "    var attempts = 0;\n",
       "    var timer = setInterval(function(root) {\n",
       "      if (root.Bokeh !== undefined) {\n",
       "        clearInterval(timer);\n",
       "        embed_document(root);\n",
       "      } else {\n",
       "        attempts++;\n",
       "        if (attempts > 100) {\n",
       "          clearInterval(timer);\n",
       "          console.log(\"Bokeh: ERROR: Unable to run BokehJS code because BokehJS library is missing\");\n",
       "        }\n",
       "      }\n",
       "    }, 10, root)\n",
       "  }\n",
       "})(window);"
      ],
      "application/vnd.bokehjs_exec.v0+json": ""
     },
     "metadata": {
      "application/vnd.bokehjs_exec.v0+json": {
       "id": "13381"
      }
     },
     "output_type": "display_data"
    }
   ],
   "source": [
    "p_guariti_exp_val_Italy = bokeh_plot_N_lines(x=time_date_new + 6, y_list=[R_2_guariti, Correlation_A_B], \n",
    "                  title='Guariti Exponential Validity: Italy', \n",
    "                  dim=[600, 450], \n",
    "                  x_label='Date', \n",
    "                  y_label='R_squared', legend_list=['R_squared', 'Corr_A_B'],\n",
    "                  x_label_hover='date', y_label_hover='R_squared/Corr_A_B',\n",
    "                  color_list=['green', 'lightgreen'],legend_location=\"bottom_right\", y_minmax=None)\n",
    "\n",
    "output_file(\"guariti_exponential_validity_Italy.html\")\n",
    "\n",
    "show(p_guariti_exp_val_Italy)"
   ]
  },
  {
   "cell_type": "markdown",
   "metadata": {},
   "source": [
    "----------------------"
   ]
  },
  {
   "cell_type": "code",
   "execution_count": 62,
   "metadata": {},
   "outputs": [
    {
     "name": "stderr",
     "output_type": "stream",
     "text": [
      "BokehUserWarning: ColumnDataSource's columns must be of the same length. Current lengths: ('x', 127), ('y', 121)\n",
      "BokehUserWarning: ColumnDataSource's columns must be of the same length. Current lengths: ('x', 127), ('y', 121)\n",
      "BokehUserWarning: ColumnDataSource's columns must be of the same length. Current lengths: ('x', 127), ('y', 121)\n",
      "BokehUserWarning: ColumnDataSource's columns must be of the same length. Current lengths: ('x', 127), ('y', 121)\n",
      "BokehUserWarning: ColumnDataSource's columns must be of the same length. Current lengths: ('x', 127), ('y', 121)\n",
      "BokehUserWarning: ColumnDataSource's columns must be of the same length. Current lengths: ('x', 127), ('y', 121)\n"
     ]
    },
    {
     "data": {
      "text/html": [
       "\n",
       "\n",
       "\n",
       "\n",
       "\n",
       "\n",
       "  <div class=\"bk-root\" id=\"1c1daf25-e61d-4134-b71b-58a368f4b940\" data-root-id=\"14352\"></div>\n"
      ]
     },
     "metadata": {},
     "output_type": "display_data"
    },
    {
     "data": {
      "application/javascript": [
       "(function(root) {\n",
       "  function embed_document(root) {\n",
       "    \n",
       "  var docs_json = {\"06b8e6f2-5948-4e6c-b75b-7af9c0bded78\":{\"roots\":{\"references\":[{\"attributes\":{\"below\":[{\"id\":\"14363\"}],\"center\":[{\"id\":\"14366\"},{\"id\":\"14370\"},{\"id\":\"14408\"}],\"left\":[{\"id\":\"14367\"}],\"plot_height\":450,\"renderers\":[{\"id\":\"14388\"},{\"id\":\"14413\"},{\"id\":\"14418\"},{\"id\":\"14446\"},{\"id\":\"14451\"},{\"id\":\"14483\"}],\"title\":{\"id\":\"14353\"},\"toolbar\":{\"id\":\"14378\"},\"x_range\":{\"id\":\"14355\"},\"x_scale\":{\"id\":\"14359\"},\"y_range\":{\"id\":\"14357\"},\"y_scale\":{\"id\":\"14361\"}},\"id\":\"14352\",\"subtype\":\"Figure\",\"type\":\"Plot\"},{\"attributes\":{\"data\":{\"x\":{\"__ndarray__\":\"AACARzYJd0IAAECtiAl3QgAAABPbCXdCAADAeC0Kd0IAAIDefwp3QgAAQETSCndCAAAAqiQLd0IAAMAPdwt3QgAAgHXJC3dCAABA2xsMd0IAAABBbgx3QgAAwKbADHdCAACADBMNd0IAAEByZQ13QgAAANi3DXdCAADAPQoOd0IAAICjXA53QgAAQAmvDndCAAAAbwEPd0IAAMDUUw93QgAAgDqmD3dCAABAoPgPd0IAAAAGSxB3QgAAwGudEHdCAACA0e8Qd0IAAEA3QhF3QgAAAJ2UEXdCAADAAucRd0IAAIBoORJ3QgAAQM6LEndCAAAANN4Sd0IAAMCZMBN3QgAAgP+CE3dCAABAZdUTd0IAAADLJxR3QgAAwDB6FHdCAACAlswUd0IAAED8HhV3QgAAAGJxFXdCAADAx8MVd0IAAIAtFhZ3QgAAQJNoFndCAAAA+boWd0IAAMBeDRd3QgAAgMRfF3dCAABAKrIXd0IAAACQBBh3QgAAwPVWGHdCAACAW6kYd0IAAEDB+xh3QgAAACdOGXdCAADAjKAZd0IAAIDy8hl3QgAAQFhFGndCAAAAvpcad0IAAMAj6hp3QgAAgIk8G3dCAABA744bd0IAAABV4Rt3QgAAwLozHHdCAACAIIYcd0IAAECG2Bx3QgAAAOwqHXdCAADAUX0dd0IAAIC3zx13QgAAQB0iHndCAAAAg3Qed0IAAMDoxh53QgAAgE4ZH3dCAABAtGsfd0IAAAAavh93QgAAwH8QIHdCAACA5WIgd0IAAEBLtSB3QgAAALEHIXdCAADAFlohd0IAAIB8rCF3QgAAQOL+IXdCAAAASFEid0IAAMCtoyJ3QgAAgBP2IndCAABAeUgjd0IAAADfmiN3QgAAwETtI3dCAACAqj8kd0IAAEAQkiR3QgAAAHbkJHdCAADA2zYld0IAAIBBiSV3QgAAQKfbJXdCAAAADS4md0IAAMBygCZ3QgAAgNjSJndCAABAPiUnd0IAAACkdyd3QgAAwAnKJ3dCAACAbxwod0IAAEDVbih3QgAAADvBKHdCAADAoBMpd0IAAIAGZil3QgAAQGy4KXdCAAAA0goqd0IAAMA3XSp3QgAAgJ2vKndCAABAAwIrd0IAAABpVCt3QgAAwM6mK3dCAACANPkrd0IAAECaSyx3QgAAAACeLHdCAADAZfAsd0IAAIDLQi13QgAAQDGVLXdCAAAAl+ctd0IAAMD8OS53QgAAgGKMLndCAABAyN4ud0IAAAAuMS93QgAAwJODL3dCAACA+dUvd0IAAEBfKDB3QgAAAMV6MHdCAADAKs0wd0IAAICQHzF3QgAAQPZxMXdCAAAAXMQxd0I=\",\"dtype\":\"float64\",\"shape\":[127]},\"y\":[0.8606481598394683,0.9471173938556658,0.9360911279420753,0.9714690580202313,0.9878007496262176,0.9884028491325129,0.9737095608712864,0.950129573047173,0.9474586811076524,0.9666768419691317,0.9658577874885119,0.9724140849805707,0.9763897317383651,0.9834379682925372,0.9890235515610548,0.9924406618242618,0.989816741999947,0.9921702793313502,0.9937454318804336,0.9945507685487721,0.9957720823208889,0.9964565194119556,0.992972429394026,0.9912159179141088,0.990758065554159,0.9902870260138735,0.9873582845426842,0.9876274727514551,0.9855575962352924,0.9861611703161747,0.9860563306981559,0.9854629750783211,0.985418780114212,0.9856008321068747,0.9851952730138245,0.9833282330199984,0.9811142645991496,0.9800447585020177,0.9805734317474694,0.9815490832902357,0.9826117648897318,0.98367923585059,0.9841889379349255,0.9837222896530314,0.9831395008139059,0.9815460633282107,0.9806663783128649,0.980694863333348,0.9808726854803773,0.9810329377754993,0.9808918984127557,0.9811961160998607,0.9818480551570032,0.9826863064941808,0.9835138836865019,0.9841358137509889,0.9841789078633206,0.9836939231363766,0.9831376121102836,0.9825179613737066,0.9829079161791275,0.9829729695921392,0.9825046031593785,0.9816427493213683,0.9802331679101273,0.9789441087335161,0.979799959618488,0.9804583566733469,0.9808623878006852,0.9813851613404979,0.9814954845116408,0.9810371567380703,0.9804262518199361,0.9800013745173415,0.979502354520762,0.9794995183201429,0.9792978225698306,0.978873388710861,0.9782131164464811,0.9773431417511275,0.9765117443872783,0.9755649908022141,0.9745001848019995,0.9733352889282131,0.9719747662835253,0.9704247646097638,0.9690238111867877,0.9676952469672493,0.9666801744582063,0.9656393259166077,0.9647036535325406,0.9636622990059924,0.9623120358987169,0.9609008950662642,0.9592470063373569,0.9574160300507688,0.9556511259989501,0.9538203659941833,0.9518210779224072,0.9496803517919288,0.9477185274309496,0.9457510155615758,0.9438094298762447,0.9419719395532088,0.9402384461248768,0.9385456032380411,0.936718779687741,0.934957539813754,0.9331425907637588,0.9313179521274131,0.9295445617122824,0.9276625667092279,0.9256677990900561,0.923595319805072,0.9215805316656552,0.9196925483434297,0.9177502570511579,0.9158157844553549,0.9139077146434131,0.9119052185457832,0.9098207302621677]},\"selected\":{\"id\":\"14930\"},\"selection_policy\":{\"id\":\"14929\"}},\"id\":\"14480\",\"type\":\"ColumnDataSource\"},{\"attributes\":{\"source\":{\"id\":\"14415\"}},\"id\":\"14419\",\"type\":\"CDSView\"},{\"attributes\":{},\"id\":\"14475\",\"type\":\"UnionRenderers\"},{\"attributes\":{\"line_alpha\":0.1,\"line_color\":\"darkviolet\",\"line_width\":4,\"x\":{\"field\":\"x\"},\"y\":{\"field\":\"y\"}},\"id\":\"14417\",\"type\":\"Line\"},{\"attributes\":{\"source\":{\"id\":\"14410\"}},\"id\":\"14414\",\"type\":\"CDSView\"},{\"attributes\":{\"label\":{\"value\":\"R_squared_guariti\"},\"renderers\":[{\"id\":\"14451\"}]},\"id\":\"14479\",\"type\":\"LegendItem\"},{\"attributes\":{\"data_source\":{\"id\":\"14480\"},\"glyph\":{\"id\":\"14481\"},\"hover_glyph\":null,\"muted_glyph\":null,\"nonselection_glyph\":{\"id\":\"14482\"},\"selection_glyph\":null,\"view\":{\"id\":\"14484\"}},\"id\":\"14483\",\"type\":\"GlyphRenderer\"},{\"attributes\":{\"months\":[0,1,2,3,4,5,6,7,8,9,10,11]},\"id\":\"14403\",\"type\":\"MonthsTicker\"},{\"attributes\":{\"source\":{\"id\":\"14385\"}},\"id\":\"14389\",\"type\":\"CDSView\"},{\"attributes\":{},\"id\":\"14477\",\"type\":\"UnionRenderers\"},{\"attributes\":{},\"id\":\"14476\",\"type\":\"Selection\"},{\"attributes\":{},\"id\":\"14927\",\"type\":\"UnionRenderers\"},{\"attributes\":{},\"id\":\"14478\",\"type\":\"Selection\"},{\"attributes\":{},\"id\":\"14357\",\"type\":\"DataRange1d\"},{\"attributes\":{\"mantissas\":[1,2,5],\"max_interval\":500.0,\"num_minor_ticks\":0},\"id\":\"14396\",\"type\":\"AdaptiveTicker\"},{\"attributes\":{\"months\":[0,2,4,6,8,10]},\"id\":\"14404\",\"type\":\"MonthsTicker\"},{\"attributes\":{\"line_color\":\"green\",\"line_width\":4,\"x\":{\"field\":\"x\"},\"y\":{\"field\":\"y\"}},\"id\":\"14449\",\"type\":\"Line\"},{\"attributes\":{\"axis_label\":\"Date\",\"formatter\":{\"id\":\"14485\"},\"major_label_orientation\":0.7853981633974483,\"minor_tick_in\":-5,\"minor_tick_out\":-3,\"ticker\":{\"id\":\"14364\"}},\"id\":\"14363\",\"type\":\"DatetimeAxis\"},{\"attributes\":{},\"id\":\"14407\",\"type\":\"YearsTicker\"},{\"attributes\":{\"base\":24,\"mantissas\":[1,2,4,6,8,12],\"max_interval\":43200000.0,\"min_interval\":3600000.0,\"num_minor_ticks\":0},\"id\":\"14398\",\"type\":\"AdaptiveTicker\"},{\"attributes\":{},\"id\":\"14368\",\"type\":\"BasicTicker\"},{\"attributes\":{\"base\":60,\"mantissas\":[1,2,5,10,15,20,30],\"max_interval\":1800000.0,\"min_interval\":1000.0,\"num_minor_ticks\":0},\"id\":\"14397\",\"type\":\"AdaptiveTicker\"},{\"attributes\":{},\"id\":\"14359\",\"type\":\"LinearScale\"},{\"attributes\":{\"fill_alpha\":{\"value\":0.1},\"fill_color\":{\"value\":\"white\"},\"line_alpha\":{\"value\":0.1},\"line_color\":{\"value\":\"blue\"},\"size\":{\"units\":\"screen\",\"value\":5},\"x\":{\"field\":\"x\"},\"y\":{\"field\":\"y\"}},\"id\":\"14412\",\"type\":\"Circle\"},{\"attributes\":{\"text\":\"Total Cases/Deaths/Guariti Exponential Validity: Italy\"},\"id\":\"14353\",\"type\":\"Title\"},{\"attributes\":{\"days\":[\"%d %B\"]},\"id\":\"14485\",\"type\":\"DatetimeTickFormatter\"},{\"attributes\":{\"line_color\":\"darkviolet\",\"line_width\":4,\"x\":{\"field\":\"x\"},\"y\":{\"field\":\"y\"}},\"id\":\"14416\",\"type\":\"Line\"},{\"attributes\":{\"num_minor_ticks\":5,\"tickers\":[{\"id\":\"14396\"},{\"id\":\"14397\"},{\"id\":\"14398\"},{\"id\":\"14399\"},{\"id\":\"14400\"},{\"id\":\"14401\"},{\"id\":\"14402\"},{\"id\":\"14403\"},{\"id\":\"14404\"},{\"id\":\"14405\"},{\"id\":\"14406\"},{\"id\":\"14407\"}]},\"id\":\"14364\",\"type\":\"DatetimeTicker\"},{\"attributes\":{\"use_scientific\":false},\"id\":\"14487\",\"type\":\"BasicTickFormatter\"},{\"attributes\":{\"bottom_units\":\"screen\",\"fill_alpha\":0.5,\"fill_color\":\"lightgrey\",\"left_units\":\"screen\",\"level\":\"overlay\",\"line_alpha\":1.0,\"line_color\":\"black\",\"line_dash\":[4,4],\"line_width\":2,\"render_mode\":\"css\",\"right_units\":\"screen\",\"top_units\":\"screen\"},\"id\":\"14377\",\"type\":\"BoxAnnotation\"},{\"attributes\":{\"days\":[1,2,3,4,5,6,7,8,9,10,11,12,13,14,15,16,17,18,19,20,21,22,23,24,25,26,27,28,29,30,31]},\"id\":\"14399\",\"type\":\"DaysTicker\"},{\"attributes\":{\"data\":{\"x\":{\"__ndarray__\":\"AACARzYJd0IAAECtiAl3QgAAABPbCXdCAADAeC0Kd0IAAIDefwp3QgAAQETSCndCAAAAqiQLd0IAAMAPdwt3QgAAgHXJC3dCAABA2xsMd0IAAABBbgx3QgAAwKbADHdCAACADBMNd0IAAEByZQ13QgAAANi3DXdCAADAPQoOd0IAAICjXA53QgAAQAmvDndCAAAAbwEPd0IAAMDUUw93QgAAgDqmD3dCAABAoPgPd0IAAAAGSxB3QgAAwGudEHdCAACA0e8Qd0IAAEA3QhF3QgAAAJ2UEXdCAADAAucRd0IAAIBoORJ3QgAAQM6LEndCAAAANN4Sd0IAAMCZMBN3QgAAgP+CE3dCAABAZdUTd0IAAADLJxR3QgAAwDB6FHdCAACAlswUd0IAAED8HhV3QgAAAGJxFXdCAADAx8MVd0IAAIAtFhZ3QgAAQJNoFndCAAAA+boWd0IAAMBeDRd3QgAAgMRfF3dCAABAKrIXd0IAAACQBBh3QgAAwPVWGHdCAACAW6kYd0IAAEDB+xh3QgAAACdOGXdCAADAjKAZd0IAAIDy8hl3QgAAQFhFGndCAAAAvpcad0IAAMAj6hp3QgAAgIk8G3dCAABA744bd0IAAABV4Rt3QgAAwLozHHdCAACAIIYcd0IAAECG2Bx3QgAAAOwqHXdCAADAUX0dd0IAAIC3zx13QgAAQB0iHndCAAAAg3Qed0IAAMDoxh53QgAAgE4ZH3dCAABAtGsfd0IAAAAavh93QgAAwH8QIHdCAACA5WIgd0IAAEBLtSB3QgAAALEHIXdCAADAFlohd0IAAIB8rCF3QgAAQOL+IXdCAAAASFEid0IAAMCtoyJ3QgAAgBP2IndCAABAeUgjd0IAAADfmiN3QgAAwETtI3dCAACAqj8kd0IAAEAQkiR3QgAAAHbkJHdCAADA2zYld0IAAIBBiSV3QgAAQKfbJXdCAAAADS4md0IAAMBygCZ3QgAAgNjSJndCAABAPiUnd0IAAACkdyd3QgAAwAnKJ3dCAACAbxwod0IAAEDVbih3QgAAADvBKHdCAADAoBMpd0IAAIAGZil3QgAAQGy4KXdCAAAA0goqd0IAAMA3XSp3QgAAgJ2vKndCAABAAwIrd0IAAABpVCt3QgAAwM6mK3dCAACANPkrd0IAAECaSyx3QgAAAACeLHdCAADAZfAsd0IAAIDLQi13QgAAQDGVLXdCAAAAl+ctd0IAAMD8OS53QgAAgGKMLndCAABAyN4ud0IAAAAuMS93QgAAwJODL3dCAACA+dUvd0IAAEBfKDB3QgAAAMV6MHdCAADAKs0wd0IAAICQHzF3QgAAQPZxMXdCAAAAXMQxd0I=\",\"dtype\":\"float64\",\"shape\":[127]},\"y\":[0.9944315925511179,0.9898318473486883,0.9871737529160225,0.9879731207786646,0.9909413667306475,0.9915465082064858,0.9946223137354124,0.9967037909147167,0.9979386020865314,0.9934056192034189,0.9944759212851118,0.99592794927204,0.9961691617509991,0.9969301601706759,0.9971358976717425,0.9958902199710057,0.9941628915249575,0.9931255075470334,0.9933633510388306,0.994032100212956,0.994688474359967,0.9942027803878379,0.9922106418494722,0.9898164875978024,0.987197833918425,0.9853145617394674,0.9836046426669457,0.9819732775925107,0.9798470389854931,0.9766564879206877,0.9729539467769811,0.9696078326797823,0.9665104789691191,0.9636113947435441,0.9610596188506716,0.9585126958173368,0.9556308351154628,0.9522851555015911,0.9491538036081114,0.9464404471188844,0.9439487048383793,0.9420237466639323,0.940258800232746,0.9382296783763806,0.9359687894513932,0.933447173913058,0.9312433551574293,0.9291951107214425,0.92729667736873,0.9253753520687699,0.9231732416103402,0.9209547388156726,0.9189798622195995,0.9169730031158049,0.9150917132232076,0.9131160743539135,0.9110765084609139,0.9088212477657631,0.9065220214269978,0.9042067728939025,0.9018340114476103,0.8994612819721594,0.8970885321131469,0.8945857132675741,0.8919421368671772,0.8891542856798136,0.8863643767704429,0.8835768591867103,0.8807864010398864,0.8779416987522529,0.8749881786024294,0.8719376935045307,0.8689898101762707,0.8660095449268841,0.8630394684938316,0.8600376029800153,0.8570401188914588,0.8540065155215382,0.8508947024522553,0.8478118690058419,0.8447275988996619,0.8416449443222731,0.8385742203009493,0.8355259648526927,0.8324728271586163,0.8293683451529894,0.8262465535831918,0.8231585041949218,0.8201092523308423,0.8170837592756848,0.8140631580546553,0.8110388571050465,0.807977301797912,0.8049171443078778,0.8018636321406905,0.7987896809369919,0.7957742179589785,0.792764128256589,0.7897475926081354,0.786746272656691,0.7837633054925285,0.7807841531457058,0.7778481099427089,0.7749114666047064,0.7720142545885778,0.7691550857635778,0.7663268635910401,0.7635123450119147,0.7607363340920518,0.7579994108236128,0.7552092551793972,0.7524505518009303,0.7497159874139115,0.7470056992780088,0.7443000682032053,0.7416872429410819,0.7391115953176539,0.7365653107030339,0.7340339717961981,0.7315183395347252,0.7290106421261164]},\"selected\":{\"id\":\"14439\"},\"selection_policy\":{\"id\":\"14438\"}},\"id\":\"14385\",\"type\":\"ColumnDataSource\"},{\"attributes\":{\"fill_alpha\":{\"value\":0.1},\"fill_color\":{\"value\":\"white\"},\"line_alpha\":{\"value\":0.1},\"line_color\":{\"value\":\"green\"},\"size\":{\"units\":\"screen\",\"value\":5},\"x\":{\"field\":\"x\"},\"y\":{\"field\":\"y\"}},\"id\":\"14482\",\"type\":\"Circle\"},{\"attributes\":{\"active_drag\":\"auto\",\"active_inspect\":\"auto\",\"active_multi\":null,\"active_scroll\":\"auto\",\"active_tap\":\"auto\",\"tools\":[{\"id\":\"14371\"},{\"id\":\"14372\"},{\"id\":\"14373\"},{\"id\":\"14374\"},{\"id\":\"14375\"},{\"id\":\"14376\"},{\"id\":\"14489\"}]},\"id\":\"14378\",\"type\":\"Toolbar\"},{\"attributes\":{},\"id\":\"14355\",\"type\":\"DataRange1d\"},{\"attributes\":{\"data\":{\"x\":{\"__ndarray__\":\"AACARzYJd0IAAECtiAl3QgAAABPbCXdCAADAeC0Kd0IAAIDefwp3QgAAQETSCndCAAAAqiQLd0IAAMAPdwt3QgAAgHXJC3dCAABA2xsMd0IAAABBbgx3QgAAwKbADHdCAACADBMNd0IAAEByZQ13QgAAANi3DXdCAADAPQoOd0IAAICjXA53QgAAQAmvDndCAAAAbwEPd0IAAMDUUw93QgAAgDqmD3dCAABAoPgPd0IAAAAGSxB3QgAAwGudEHdCAACA0e8Qd0IAAEA3QhF3QgAAAJ2UEXdCAADAAucRd0IAAIBoORJ3QgAAQM6LEndCAAAANN4Sd0IAAMCZMBN3QgAAgP+CE3dCAABAZdUTd0IAAADLJxR3QgAAwDB6FHdCAACAlswUd0IAAED8HhV3QgAAAGJxFXdCAADAx8MVd0IAAIAtFhZ3QgAAQJNoFndCAAAA+boWd0IAAMBeDRd3QgAAgMRfF3dCAABAKrIXd0IAAACQBBh3QgAAwPVWGHdCAACAW6kYd0IAAEDB+xh3QgAAACdOGXdCAADAjKAZd0IAAIDy8hl3QgAAQFhFGndCAAAAvpcad0IAAMAj6hp3QgAAgIk8G3dCAABA744bd0IAAABV4Rt3QgAAwLozHHdCAACAIIYcd0IAAECG2Bx3QgAAAOwqHXdCAADAUX0dd0IAAIC3zx13QgAAQB0iHndCAAAAg3Qed0IAAMDoxh53QgAAgE4ZH3dCAABAtGsfd0IAAAAavh93QgAAwH8QIHdCAACA5WIgd0IAAEBLtSB3QgAAALEHIXdCAADAFlohd0IAAIB8rCF3QgAAQOL+IXdCAAAASFEid0IAAMCtoyJ3QgAAgBP2IndCAABAeUgjd0IAAADfmiN3QgAAwETtI3dCAACAqj8kd0IAAEAQkiR3QgAAAHbkJHdCAADA2zYld0IAAIBBiSV3QgAAQKfbJXdCAAAADS4md0IAAMBygCZ3QgAAgNjSJndCAABAPiUnd0IAAACkdyd3QgAAwAnKJ3dCAACAbxwod0IAAEDVbih3QgAAADvBKHdCAADAoBMpd0IAAIAGZil3QgAAQGy4KXdCAAAA0goqd0IAAMA3XSp3QgAAgJ2vKndCAABAAwIrd0IAAABpVCt3QgAAwM6mK3dCAACANPkrd0IAAECaSyx3QgAAAACeLHdCAADAZfAsd0IAAIDLQi13QgAAQDGVLXdCAAAAl+ctd0IAAMD8OS53QgAAgGKMLndCAABAyN4ud0IAAAAuMS93QgAAwJODL3dCAACA+dUvd0IAAEBfKDB3QgAAAMV6MHdCAADAKs0wd0IAAICQHzF3QgAAQPZxMXdCAAAAXMQxd0I=\",\"dtype\":\"float64\",\"shape\":[127]},\"y\":[0.9906384833099334,0.9876702701263628,0.986034206451665,0.9937023701385499,0.9970511977507855,0.9979544752352847,0.9913778365717426,0.9929248433250588,0.9957403179282476,0.9977413133698139,0.9985366218172942,0.9969106059526226,0.996211572251712,0.9909112544567887,0.9925418195655226,0.9932047921984762,0.9924285278783038,0.9930340764201312,0.9923577489344909,0.9932926697800687,0.9948845546297247,0.9950079961757051,0.9935421243409132,0.9923519864209975,0.9905689301056676,0.9882674204511754,0.9878264212632235,0.9873989916144827,0.9860735965572663,0.9845430102319735,0.9830060388504964,0.9809094757488263,0.9787131870741717,0.9765424924030026,0.9740607080719607,0.9707721359330386,0.9675980745847533,0.9644603235650501,0.9611847156868383,0.9581929227609429,0.9553138048152379,0.9527668866041618,0.949832519376967,0.9471741782289388,0.9448856132660635,0.9428262702142188,0.9408090496270258,0.9390094702651643,0.9371368895937208,0.9351084492759572,0.9330557612153584,0.9312289735564631,0.9293543463395025,0.9275386266286831,0.9256884677837561,0.923825484706234,0.9216168769019616,0.9193267564535198,0.9171080210761422,0.9148403674368056,0.9124738376193,0.9100150508583008,0.9079318355263625,0.9055617444260692,0.9030142411545999,0.9004203648795525,0.8980689816751007,0.895753592355098,0.8934258167984068,0.8910112034278967,0.8884835555981856,0.8858991595144673,0.8832672224045979,0.8806489898317053,0.8781735601338101,0.875798568138153,0.8733701733341191,0.8708924136063186,0.868304639054517,0.8657347591288924,0.8631886604807198,0.8606646697392588,0.858127410712821,0.8555693576054788,0.852892171710644,0.8501818039869902,0.8474274701530655,0.844700900642225,0.8419345520946966,0.8391646559956998,0.8364338566397378,0.8336910711516987,0.8309211457595196,0.8281248123000429,0.8253329993158202,0.8225748810114298,0.8198481378354814,0.8171364351895642,0.8144164389141544,0.8117098496622602,0.8090390142962303,0.8063941173576937,0.8037525871249604,0.8011218929019263,0.798534052945386,0.7959443157297019,0.7933324930099895,0.7907137868390863,0.7881034028225027,0.7855332424297904,0.782979060796708,0.780445007608978,0.7779009250870768,0.7753487688829088,0.7727853047065396,0.7701530104253251,0.7675384675221336,0.7649378471200146,0.7623256667632259,0.7597215865677874,0.7571078677633711]},\"selected\":{\"id\":\"14476\"},\"selection_policy\":{\"id\":\"14475\"}},\"id\":\"14415\",\"type\":\"ColumnDataSource\"},{\"attributes\":{},\"id\":\"14930\",\"type\":\"Selection\"},{\"attributes\":{\"data_source\":{\"id\":\"14415\"},\"glyph\":{\"id\":\"14416\"},\"hover_glyph\":null,\"muted_glyph\":null,\"nonselection_glyph\":{\"id\":\"14417\"},\"selection_glyph\":null,\"view\":{\"id\":\"14419\"}},\"id\":\"14418\",\"type\":\"GlyphRenderer\"},{\"attributes\":{},\"id\":\"14372\",\"type\":\"WheelZoomTool\"},{\"attributes\":{\"callback\":null,\"formatters\":{\"@x\":\"datetime\"},\"mode\":\"vline\",\"tooltips\":[[\"date\",\"@x{%d %B}\"],[\"R_squared_cases/deaths/guariti\",\"@y{0[.]000}\"]]},\"id\":\"14489\",\"type\":\"HoverTool\"},{\"attributes\":{\"source\":{\"id\":\"14480\"}},\"id\":\"14484\",\"type\":\"CDSView\"},{\"attributes\":{\"data\":{\"x\":{\"__ndarray__\":\"AACARzYJd0IAAECtiAl3QgAAABPbCXdCAADAeC0Kd0IAAIDefwp3QgAAQETSCndCAAAAqiQLd0IAAMAPdwt3QgAAgHXJC3dCAABA2xsMd0IAAABBbgx3QgAAwKbADHdCAACADBMNd0IAAEByZQ13QgAAANi3DXdCAADAPQoOd0IAAICjXA53QgAAQAmvDndCAAAAbwEPd0IAAMDUUw93QgAAgDqmD3dCAABAoPgPd0IAAAAGSxB3QgAAwGudEHdCAACA0e8Qd0IAAEA3QhF3QgAAAJ2UEXdCAADAAucRd0IAAIBoORJ3QgAAQM6LEndCAAAANN4Sd0IAAMCZMBN3QgAAgP+CE3dCAABAZdUTd0IAAADLJxR3QgAAwDB6FHdCAACAlswUd0IAAED8HhV3QgAAAGJxFXdCAADAx8MVd0IAAIAtFhZ3QgAAQJNoFndCAAAA+boWd0IAAMBeDRd3QgAAgMRfF3dCAABAKrIXd0IAAACQBBh3QgAAwPVWGHdCAACAW6kYd0IAAEDB+xh3QgAAACdOGXdCAADAjKAZd0IAAIDy8hl3QgAAQFhFGndCAAAAvpcad0IAAMAj6hp3QgAAgIk8G3dCAABA744bd0IAAABV4Rt3QgAAwLozHHdCAACAIIYcd0IAAECG2Bx3QgAAAOwqHXdCAADAUX0dd0IAAIC3zx13QgAAQB0iHndCAAAAg3Qed0IAAMDoxh53QgAAgE4ZH3dCAABAtGsfd0IAAAAavh93QgAAwH8QIHdCAACA5WIgd0IAAEBLtSB3QgAAALEHIXdCAADAFlohd0IAAIB8rCF3QgAAQOL+IXdCAAAASFEid0IAAMCtoyJ3QgAAgBP2IndCAABAeUgjd0IAAADfmiN3QgAAwETtI3dCAACAqj8kd0IAAEAQkiR3QgAAAHbkJHdCAADA2zYld0IAAIBBiSV3QgAAQKfbJXdCAAAADS4md0IAAMBygCZ3QgAAgNjSJndCAABAPiUnd0IAAACkdyd3QgAAwAnKJ3dCAACAbxwod0IAAEDVbih3QgAAADvBKHdCAADAoBMpd0IAAIAGZil3QgAAQGy4KXdCAAAA0goqd0IAAMA3XSp3QgAAgJ2vKndCAABAAwIrd0IAAABpVCt3QgAAwM6mK3dCAACANPkrd0IAAECaSyx3QgAAAACeLHdCAADAZfAsd0IAAIDLQi13QgAAQDGVLXdCAAAAl+ctd0IAAMD8OS53QgAAgGKMLndCAABAyN4ud0IAAAAuMS93QgAAwJODL3dCAACA+dUvd0IAAEBfKDB3QgAAAMV6MHdCAADAKs0wd0IAAICQHzF3QgAAQPZxMXdCAAAAXMQxd0I=\",\"dtype\":\"float64\",\"shape\":[127]},\"y\":[0.9944315925511179,0.9898318473486883,0.9871737529160225,0.9879731207786646,0.9909413667306475,0.9915465082064858,0.9946223137354124,0.9967037909147167,0.9979386020865314,0.9934056192034189,0.9944759212851118,0.99592794927204,0.9961691617509991,0.9969301601706759,0.9971358976717425,0.9958902199710057,0.9941628915249575,0.9931255075470334,0.9933633510388306,0.994032100212956,0.994688474359967,0.9942027803878379,0.9922106418494722,0.9898164875978024,0.987197833918425,0.9853145617394674,0.9836046426669457,0.9819732775925107,0.9798470389854931,0.9766564879206877,0.9729539467769811,0.9696078326797823,0.9665104789691191,0.9636113947435441,0.9610596188506716,0.9585126958173368,0.9556308351154628,0.9522851555015911,0.9491538036081114,0.9464404471188844,0.9439487048383793,0.9420237466639323,0.940258800232746,0.9382296783763806,0.9359687894513932,0.933447173913058,0.9312433551574293,0.9291951107214425,0.92729667736873,0.9253753520687699,0.9231732416103402,0.9209547388156726,0.9189798622195995,0.9169730031158049,0.9150917132232076,0.9131160743539135,0.9110765084609139,0.9088212477657631,0.9065220214269978,0.9042067728939025,0.9018340114476103,0.8994612819721594,0.8970885321131469,0.8945857132675741,0.8919421368671772,0.8891542856798136,0.8863643767704429,0.8835768591867103,0.8807864010398864,0.8779416987522529,0.8749881786024294,0.8719376935045307,0.8689898101762707,0.8660095449268841,0.8630394684938316,0.8600376029800153,0.8570401188914588,0.8540065155215382,0.8508947024522553,0.8478118690058419,0.8447275988996619,0.8416449443222731,0.8385742203009493,0.8355259648526927,0.8324728271586163,0.8293683451529894,0.8262465535831918,0.8231585041949218,0.8201092523308423,0.8170837592756848,0.8140631580546553,0.8110388571050465,0.807977301797912,0.8049171443078778,0.8018636321406905,0.7987896809369919,0.7957742179589785,0.792764128256589,0.7897475926081354,0.786746272656691,0.7837633054925285,0.7807841531457058,0.7778481099427089,0.7749114666047064,0.7720142545885778,0.7691550857635778,0.7663268635910401,0.7635123450119147,0.7607363340920518,0.7579994108236128,0.7552092551793972,0.7524505518009303,0.7497159874139115,0.7470056992780088,0.7443000682032053,0.7416872429410819,0.7391115953176539,0.7365653107030339,0.7340339717961981,0.7315183395347252,0.7290106421261164]},\"selected\":{\"id\":\"14441\"},\"selection_policy\":{\"id\":\"14440\"}},\"id\":\"14410\",\"type\":\"ColumnDataSource\"},{\"attributes\":{},\"id\":\"14928\",\"type\":\"Selection\"},{\"attributes\":{\"fill_color\":{\"value\":\"white\"},\"line_color\":{\"value\":\"green\"},\"size\":{\"units\":\"screen\",\"value\":5},\"x\":{\"field\":\"x\"},\"y\":{\"field\":\"y\"}},\"id\":\"14481\",\"type\":\"Circle\"},{\"attributes\":{},\"id\":\"14438\",\"type\":\"UnionRenderers\"},{\"attributes\":{},\"id\":\"14361\",\"type\":\"LinearScale\"},{\"attributes\":{\"axis_label\":\"R_squared\",\"formatter\":{\"id\":\"14487\"},\"minor_tick_in\":-5,\"minor_tick_out\":-3,\"ticker\":{\"id\":\"14368\"}},\"id\":\"14367\",\"type\":\"LinearAxis\"},{\"attributes\":{\"label\":{\"value\":\"R_squared_deaths\"},\"renderers\":[{\"id\":\"14418\"}]},\"id\":\"14442\",\"type\":\"LegendItem\"},{\"attributes\":{\"line_color\":\"blue\",\"line_width\":4,\"x\":{\"field\":\"x\"},\"y\":{\"field\":\"y\"}},\"id\":\"14386\",\"type\":\"Line\"},{\"attributes\":{},\"id\":\"14929\",\"type\":\"UnionRenderers\"},{\"attributes\":{},\"id\":\"14440\",\"type\":\"UnionRenderers\"},{\"attributes\":{\"data_source\":{\"id\":\"14385\"},\"glyph\":{\"id\":\"14386\"},\"hover_glyph\":null,\"muted_glyph\":null,\"nonselection_glyph\":{\"id\":\"14387\"},\"selection_glyph\":null,\"view\":{\"id\":\"14389\"}},\"id\":\"14388\",\"type\":\"GlyphRenderer\"},{\"attributes\":{},\"id\":\"14439\",\"type\":\"Selection\"},{\"attributes\":{\"days\":[1,8,15,22]},\"id\":\"14401\",\"type\":\"DaysTicker\"},{\"attributes\":{},\"id\":\"14376\",\"type\":\"HelpTool\"},{\"attributes\":{},\"id\":\"14441\",\"type\":\"Selection\"},{\"attributes\":{\"fill_color\":{\"value\":\"white\"},\"line_color\":{\"value\":\"darkviolet\"},\"size\":{\"units\":\"screen\",\"value\":5},\"x\":{\"field\":\"x\"},\"y\":{\"field\":\"y\"}},\"id\":\"14444\",\"type\":\"Circle\"},{\"attributes\":{\"fill_alpha\":{\"value\":0.1},\"fill_color\":{\"value\":\"white\"},\"line_alpha\":{\"value\":0.1},\"line_color\":{\"value\":\"darkviolet\"},\"size\":{\"units\":\"screen\",\"value\":5},\"x\":{\"field\":\"x\"},\"y\":{\"field\":\"y\"}},\"id\":\"14445\",\"type\":\"Circle\"},{\"attributes\":{\"overlay\":{\"id\":\"14377\"}},\"id\":\"14373\",\"type\":\"BoxZoomTool\"},{\"attributes\":{\"label\":{\"value\":\"R_squared_cases\"},\"renderers\":[{\"id\":\"14388\"}]},\"id\":\"14409\",\"type\":\"LegendItem\"},{\"attributes\":{\"data\":{\"x\":{\"__ndarray__\":\"AACARzYJd0IAAECtiAl3QgAAABPbCXdCAADAeC0Kd0IAAIDefwp3QgAAQETSCndCAAAAqiQLd0IAAMAPdwt3QgAAgHXJC3dCAABA2xsMd0IAAABBbgx3QgAAwKbADHdCAACADBMNd0IAAEByZQ13QgAAANi3DXdCAADAPQoOd0IAAICjXA53QgAAQAmvDndCAAAAbwEPd0IAAMDUUw93QgAAgDqmD3dCAABAoPgPd0IAAAAGSxB3QgAAwGudEHdCAACA0e8Qd0IAAEA3QhF3QgAAAJ2UEXdCAADAAucRd0IAAIBoORJ3QgAAQM6LEndCAAAANN4Sd0IAAMCZMBN3QgAAgP+CE3dCAABAZdUTd0IAAADLJxR3QgAAwDB6FHdCAACAlswUd0IAAED8HhV3QgAAAGJxFXdCAADAx8MVd0IAAIAtFhZ3QgAAQJNoFndCAAAA+boWd0IAAMBeDRd3QgAAgMRfF3dCAABAKrIXd0IAAACQBBh3QgAAwPVWGHdCAACAW6kYd0IAAEDB+xh3QgAAACdOGXdCAADAjKAZd0IAAIDy8hl3QgAAQFhFGndCAAAAvpcad0IAAMAj6hp3QgAAgIk8G3dCAABA744bd0IAAABV4Rt3QgAAwLozHHdCAACAIIYcd0IAAECG2Bx3QgAAAOwqHXdCAADAUX0dd0IAAIC3zx13QgAAQB0iHndCAAAAg3Qed0IAAMDoxh53QgAAgE4ZH3dCAABAtGsfd0IAAAAavh93QgAAwH8QIHdCAACA5WIgd0IAAEBLtSB3QgAAALEHIXdCAADAFlohd0IAAIB8rCF3QgAAQOL+IXdCAAAASFEid0IAAMCtoyJ3QgAAgBP2IndCAABAeUgjd0IAAADfmiN3QgAAwETtI3dCAACAqj8kd0IAAEAQkiR3QgAAAHbkJHdCAADA2zYld0IAAIBBiSV3QgAAQKfbJXdCAAAADS4md0IAAMBygCZ3QgAAgNjSJndCAABAPiUnd0IAAACkdyd3QgAAwAnKJ3dCAACAbxwod0IAAEDVbih3QgAAADvBKHdCAADAoBMpd0IAAIAGZil3QgAAQGy4KXdCAAAA0goqd0IAAMA3XSp3QgAAgJ2vKndCAABAAwIrd0IAAABpVCt3QgAAwM6mK3dCAACANPkrd0IAAECaSyx3QgAAAACeLHdCAADAZfAsd0IAAIDLQi13QgAAQDGVLXdCAAAAl+ctd0IAAMD8OS53QgAAgGKMLndCAABAyN4ud0IAAAAuMS93QgAAwJODL3dCAACA+dUvd0IAAEBfKDB3QgAAAMV6MHdCAADAKs0wd0IAAICQHzF3QgAAQPZxMXdCAAAAXMQxd0I=\",\"dtype\":\"float64\",\"shape\":[127]},\"y\":[0.9906384833099334,0.9876702701263628,0.986034206451665,0.9937023701385499,0.9970511977507855,0.9979544752352847,0.9913778365717426,0.9929248433250588,0.9957403179282476,0.9977413133698139,0.9985366218172942,0.9969106059526226,0.996211572251712,0.9909112544567887,0.9925418195655226,0.9932047921984762,0.9924285278783038,0.9930340764201312,0.9923577489344909,0.9932926697800687,0.9948845546297247,0.9950079961757051,0.9935421243409132,0.9923519864209975,0.9905689301056676,0.9882674204511754,0.9878264212632235,0.9873989916144827,0.9860735965572663,0.9845430102319735,0.9830060388504964,0.9809094757488263,0.9787131870741717,0.9765424924030026,0.9740607080719607,0.9707721359330386,0.9675980745847533,0.9644603235650501,0.9611847156868383,0.9581929227609429,0.9553138048152379,0.9527668866041618,0.949832519376967,0.9471741782289388,0.9448856132660635,0.9428262702142188,0.9408090496270258,0.9390094702651643,0.9371368895937208,0.9351084492759572,0.9330557612153584,0.9312289735564631,0.9293543463395025,0.9275386266286831,0.9256884677837561,0.923825484706234,0.9216168769019616,0.9193267564535198,0.9171080210761422,0.9148403674368056,0.9124738376193,0.9100150508583008,0.9079318355263625,0.9055617444260692,0.9030142411545999,0.9004203648795525,0.8980689816751007,0.895753592355098,0.8934258167984068,0.8910112034278967,0.8884835555981856,0.8858991595144673,0.8832672224045979,0.8806489898317053,0.8781735601338101,0.875798568138153,0.8733701733341191,0.8708924136063186,0.868304639054517,0.8657347591288924,0.8631886604807198,0.8606646697392588,0.858127410712821,0.8555693576054788,0.852892171710644,0.8501818039869902,0.8474274701530655,0.844700900642225,0.8419345520946966,0.8391646559956998,0.8364338566397378,0.8336910711516987,0.8309211457595196,0.8281248123000429,0.8253329993158202,0.8225748810114298,0.8198481378354814,0.8171364351895642,0.8144164389141544,0.8117098496622602,0.8090390142962303,0.8063941173576937,0.8037525871249604,0.8011218929019263,0.798534052945386,0.7959443157297019,0.7933324930099895,0.7907137868390863,0.7881034028225027,0.7855332424297904,0.782979060796708,0.780445007608978,0.7779009250870768,0.7753487688829088,0.7727853047065396,0.7701530104253251,0.7675384675221336,0.7649378471200146,0.7623256667632259,0.7597215865677874,0.7571078677633711]},\"selected\":{\"id\":\"14478\"},\"selection_policy\":{\"id\":\"14477\"}},\"id\":\"14443\",\"type\":\"ColumnDataSource\"},{\"attributes\":{\"items\":[{\"id\":\"14409\"},{\"id\":\"14442\"},{\"id\":\"14479\"}],\"location\":\"bottom_right\"},\"id\":\"14408\",\"type\":\"Legend\"},{\"attributes\":{},\"id\":\"14374\",\"type\":\"SaveTool\"},{\"attributes\":{\"data_source\":{\"id\":\"14448\"},\"glyph\":{\"id\":\"14449\"},\"hover_glyph\":null,\"muted_glyph\":null,\"nonselection_glyph\":{\"id\":\"14450\"},\"selection_glyph\":null,\"view\":{\"id\":\"14452\"}},\"id\":\"14451\",\"type\":\"GlyphRenderer\"},{\"attributes\":{},\"id\":\"14371\",\"type\":\"PanTool\"},{\"attributes\":{\"months\":[0,4,8]},\"id\":\"14405\",\"type\":\"MonthsTicker\"},{\"attributes\":{\"data_source\":{\"id\":\"14443\"},\"glyph\":{\"id\":\"14444\"},\"hover_glyph\":null,\"muted_glyph\":null,\"nonselection_glyph\":{\"id\":\"14445\"},\"selection_glyph\":null,\"view\":{\"id\":\"14447\"}},\"id\":\"14446\",\"type\":\"GlyphRenderer\"},{\"attributes\":{\"line_alpha\":0.1,\"line_color\":\"blue\",\"line_width\":4,\"x\":{\"field\":\"x\"},\"y\":{\"field\":\"y\"}},\"id\":\"14387\",\"type\":\"Line\"},{\"attributes\":{\"months\":[0,6]},\"id\":\"14406\",\"type\":\"MonthsTicker\"},{\"attributes\":{\"axis\":{\"id\":\"14363\"},\"ticker\":null},\"id\":\"14366\",\"type\":\"Grid\"},{\"attributes\":{\"data\":{\"x\":{\"__ndarray__\":\"AACARzYJd0IAAECtiAl3QgAAABPbCXdCAADAeC0Kd0IAAIDefwp3QgAAQETSCndCAAAAqiQLd0IAAMAPdwt3QgAAgHXJC3dCAABA2xsMd0IAAABBbgx3QgAAwKbADHdCAACADBMNd0IAAEByZQ13QgAAANi3DXdCAADAPQoOd0IAAICjXA53QgAAQAmvDndCAAAAbwEPd0IAAMDUUw93QgAAgDqmD3dCAABAoPgPd0IAAAAGSxB3QgAAwGudEHdCAACA0e8Qd0IAAEA3QhF3QgAAAJ2UEXdCAADAAucRd0IAAIBoORJ3QgAAQM6LEndCAAAANN4Sd0IAAMCZMBN3QgAAgP+CE3dCAABAZdUTd0IAAADLJxR3QgAAwDB6FHdCAACAlswUd0IAAED8HhV3QgAAAGJxFXdCAADAx8MVd0IAAIAtFhZ3QgAAQJNoFndCAAAA+boWd0IAAMBeDRd3QgAAgMRfF3dCAABAKrIXd0IAAACQBBh3QgAAwPVWGHdCAACAW6kYd0IAAEDB+xh3QgAAACdOGXdCAADAjKAZd0IAAIDy8hl3QgAAQFhFGndCAAAAvpcad0IAAMAj6hp3QgAAgIk8G3dCAABA744bd0IAAABV4Rt3QgAAwLozHHdCAACAIIYcd0IAAECG2Bx3QgAAAOwqHXdCAADAUX0dd0IAAIC3zx13QgAAQB0iHndCAAAAg3Qed0IAAMDoxh53QgAAgE4ZH3dCAABAtGsfd0IAAAAavh93QgAAwH8QIHdCAACA5WIgd0IAAEBLtSB3QgAAALEHIXdCAADAFlohd0IAAIB8rCF3QgAAQOL+IXdCAAAASFEid0IAAMCtoyJ3QgAAgBP2IndCAABAeUgjd0IAAADfmiN3QgAAwETtI3dCAACAqj8kd0IAAEAQkiR3QgAAAHbkJHdCAADA2zYld0IAAIBBiSV3QgAAQKfbJXdCAAAADS4md0IAAMBygCZ3QgAAgNjSJndCAABAPiUnd0IAAACkdyd3QgAAwAnKJ3dCAACAbxwod0IAAEDVbih3QgAAADvBKHdCAADAoBMpd0IAAIAGZil3QgAAQGy4KXdCAAAA0goqd0IAAMA3XSp3QgAAgJ2vKndCAABAAwIrd0IAAABpVCt3QgAAwM6mK3dCAACANPkrd0IAAECaSyx3QgAAAACeLHdCAADAZfAsd0IAAIDLQi13QgAAQDGVLXdCAAAAl+ctd0IAAMD8OS53QgAAgGKMLndCAABAyN4ud0IAAAAuMS93QgAAwJODL3dCAACA+dUvd0IAAEBfKDB3QgAAAMV6MHdCAADAKs0wd0IAAICQHzF3QgAAQPZxMXdCAAAAXMQxd0I=\",\"dtype\":\"float64\",\"shape\":[127]},\"y\":[0.8606481598394683,0.9471173938556658,0.9360911279420753,0.9714690580202313,0.9878007496262176,0.9884028491325129,0.9737095608712864,0.950129573047173,0.9474586811076524,0.9666768419691317,0.9658577874885119,0.9724140849805707,0.9763897317383651,0.9834379682925372,0.9890235515610548,0.9924406618242618,0.989816741999947,0.9921702793313502,0.9937454318804336,0.9945507685487721,0.9957720823208889,0.9964565194119556,0.992972429394026,0.9912159179141088,0.990758065554159,0.9902870260138735,0.9873582845426842,0.9876274727514551,0.9855575962352924,0.9861611703161747,0.9860563306981559,0.9854629750783211,0.985418780114212,0.9856008321068747,0.9851952730138245,0.9833282330199984,0.9811142645991496,0.9800447585020177,0.9805734317474694,0.9815490832902357,0.9826117648897318,0.98367923585059,0.9841889379349255,0.9837222896530314,0.9831395008139059,0.9815460633282107,0.9806663783128649,0.980694863333348,0.9808726854803773,0.9810329377754993,0.9808918984127557,0.9811961160998607,0.9818480551570032,0.9826863064941808,0.9835138836865019,0.9841358137509889,0.9841789078633206,0.9836939231363766,0.9831376121102836,0.9825179613737066,0.9829079161791275,0.9829729695921392,0.9825046031593785,0.9816427493213683,0.9802331679101273,0.9789441087335161,0.979799959618488,0.9804583566733469,0.9808623878006852,0.9813851613404979,0.9814954845116408,0.9810371567380703,0.9804262518199361,0.9800013745173415,0.979502354520762,0.9794995183201429,0.9792978225698306,0.978873388710861,0.9782131164464811,0.9773431417511275,0.9765117443872783,0.9755649908022141,0.9745001848019995,0.9733352889282131,0.9719747662835253,0.9704247646097638,0.9690238111867877,0.9676952469672493,0.9666801744582063,0.9656393259166077,0.9647036535325406,0.9636622990059924,0.9623120358987169,0.9609008950662642,0.9592470063373569,0.9574160300507688,0.9556511259989501,0.9538203659941833,0.9518210779224072,0.9496803517919288,0.9477185274309496,0.9457510155615758,0.9438094298762447,0.9419719395532088,0.9402384461248768,0.9385456032380411,0.936718779687741,0.934957539813754,0.9331425907637588,0.9313179521274131,0.9295445617122824,0.9276625667092279,0.9256677990900561,0.923595319805072,0.9215805316656552,0.9196925483434297,0.9177502570511579,0.9158157844553549,0.9139077146434131,0.9119052185457832,0.9098207302621677]},\"selected\":{\"id\":\"14928\"},\"selection_policy\":{\"id\":\"14927\"}},\"id\":\"14448\",\"type\":\"ColumnDataSource\"},{\"attributes\":{\"axis\":{\"id\":\"14367\"},\"dimension\":1,\"ticker\":null},\"id\":\"14370\",\"type\":\"Grid\"},{\"attributes\":{\"source\":{\"id\":\"14448\"}},\"id\":\"14452\",\"type\":\"CDSView\"},{\"attributes\":{},\"id\":\"14375\",\"type\":\"ResetTool\"},{\"attributes\":{\"line_alpha\":0.1,\"line_color\":\"green\",\"line_width\":4,\"x\":{\"field\":\"x\"},\"y\":{\"field\":\"y\"}},\"id\":\"14450\",\"type\":\"Line\"},{\"attributes\":{\"days\":[1,4,7,10,13,16,19,22,25,28]},\"id\":\"14400\",\"type\":\"DaysTicker\"},{\"attributes\":{\"source\":{\"id\":\"14443\"}},\"id\":\"14447\",\"type\":\"CDSView\"},{\"attributes\":{\"fill_color\":{\"value\":\"white\"},\"line_color\":{\"value\":\"blue\"},\"size\":{\"units\":\"screen\",\"value\":5},\"x\":{\"field\":\"x\"},\"y\":{\"field\":\"y\"}},\"id\":\"14411\",\"type\":\"Circle\"},{\"attributes\":{\"days\":[1,15]},\"id\":\"14402\",\"type\":\"DaysTicker\"},{\"attributes\":{\"data_source\":{\"id\":\"14410\"},\"glyph\":{\"id\":\"14411\"},\"hover_glyph\":null,\"muted_glyph\":null,\"nonselection_glyph\":{\"id\":\"14412\"},\"selection_glyph\":null,\"view\":{\"id\":\"14414\"}},\"id\":\"14413\",\"type\":\"GlyphRenderer\"}],\"root_ids\":[\"14352\"]},\"title\":\"Bokeh Application\",\"version\":\"2.0.2\"}};\n",
       "  var render_items = [{\"docid\":\"06b8e6f2-5948-4e6c-b75b-7af9c0bded78\",\"root_ids\":[\"14352\"],\"roots\":{\"14352\":\"1c1daf25-e61d-4134-b71b-58a368f4b940\"}}];\n",
       "  root.Bokeh.embed.embed_items_notebook(docs_json, render_items);\n",
       "\n",
       "  }\n",
       "  if (root.Bokeh !== undefined) {\n",
       "    embed_document(root);\n",
       "  } else {\n",
       "    var attempts = 0;\n",
       "    var timer = setInterval(function(root) {\n",
       "      if (root.Bokeh !== undefined) {\n",
       "        clearInterval(timer);\n",
       "        embed_document(root);\n",
       "      } else {\n",
       "        attempts++;\n",
       "        if (attempts > 100) {\n",
       "          clearInterval(timer);\n",
       "          console.log(\"Bokeh: ERROR: Unable to run BokehJS code because BokehJS library is missing\");\n",
       "        }\n",
       "      }\n",
       "    }, 10, root)\n",
       "  }\n",
       "})(window);"
      ],
      "application/vnd.bokehjs_exec.v0+json": ""
     },
     "metadata": {
      "application/vnd.bokehjs_exec.v0+json": {
       "id": "14352"
      }
     },
     "output_type": "display_data"
    }
   ],
   "source": [
    "p_total_cases_deaths_guariti_exp_val_Italy = bokeh_plot_N_lines(x=time_date_new + 6, y_list=[R_2_cases, R_2_deaths, R_2_guariti], \n",
    "                  title='Total Cases/Deaths/Guariti Exponential Validity: Italy', \n",
    "                  dim=[600, 450], \n",
    "                  x_label='Date', \n",
    "                  y_label='R_squared', legend_list=['R_squared_cases', 'R_squared_deaths', 'R_squared_guariti'],\n",
    "                  x_label_hover='date', y_label_hover='R_squared_cases/deaths/guariti',\n",
    "                  color_list=['blue', 'darkviolet', 'green'],legend_location=\"bottom_right\", y_minmax=None)\n",
    "\n",
    "output_file(\"total_cases_deaths_guariti_exponential_validity_Italy.html\")\n",
    "\n",
    "show(p_total_cases_deaths_guariti_exp_val_Italy)"
   ]
  },
  {
   "cell_type": "markdown",
   "metadata": {},
   "source": [
    "--------------------------\n",
    "\n",
    "----------------------\n",
    "\n",
    "--------------------------"
   ]
  },
  {
   "cell_type": "markdown",
   "metadata": {},
   "source": [
    "### -----  Logistic Fitting -----"
   ]
  },
  {
   "cell_type": "code",
   "execution_count": 63,
   "metadata": {},
   "outputs": [
    {
     "data": {
      "text/plain": [
       "(233447.2981063127, 0.08740736462176277, 6586.429551673064)"
      ]
     },
     "execution_count": 63,
     "metadata": {},
     "output_type": "execute_result"
    }
   ],
   "source": [
    "fit_range_1 = len(total_cases_italy)\n",
    "xdata_1 = np.linspace(0, fit_range_1, fit_range_1)\n",
    "init_guess = [500000, 0.10, 100]\n",
    "fit = curve_fit(model_population, xdata_1, total_cases_italy.loc[0:(fit_range_1-1)], p0 = init_guess)\n",
    "ans, cov = fit\n",
    "fit_K, fit_r, fit_P_0 = ans\n",
    "fit_K, fit_r, fit_P_0"
   ]
  },
  {
   "cell_type": "code",
   "execution_count": 64,
   "metadata": {},
   "outputs": [
    {
     "data": {
      "text/plain": [
       "array([[ 9.44160381e+05, -8.34158895e-01,  1.65679325e+05],\n",
       "       [-8.34158895e-01,  3.23724199e-06, -7.96008160e-01],\n",
       "       [ 1.65679325e+05, -7.96008160e-01,  2.14700623e+05]])"
      ]
     },
     "execution_count": 64,
     "metadata": {},
     "output_type": "execute_result"
    }
   ],
   "source": [
    "cov"
   ]
  },
  {
   "cell_type": "code",
   "execution_count": 65,
   "metadata": {},
   "outputs": [
    {
     "data": {
      "text/plain": [
       "array([9.71679156e+02, 1.79923372e-03, 4.63357986e+02])"
      ]
     },
     "execution_count": 65,
     "metadata": {},
     "output_type": "execute_result"
    }
   ],
   "source": [
    "np.sqrt(np.diag(cov))"
   ]
  },
  {
   "cell_type": "code",
   "execution_count": 66,
   "metadata": {},
   "outputs": [
    {
     "data": {
      "text/plain": [
       "array([  6586.42955167,   7174.38756652,   7813.02387372,   8506.37197561,\n",
       "         9258.72477985,  10074.63972503,  10958.94153368,  11916.72202661,\n",
       "        12953.33636204,  14074.39499242,  15285.75056499,  16593.47893171,\n",
       "        18003.8533868 ,  19523.31121956,  21158.41166581,  22915.78436954,\n",
       "        24802.06753732,  26823.83509124,  28987.51231098,  31299.2797115 ,\n",
       "        33764.96523775,  36389.92527557,  39178.91548044,  42135.95300666,\n",
       "        45264.17236783,  48565.67785315,  52041.39613339,  55690.93337482,\n",
       "        59512.44178919,  63502.5010272 ,  67656.02011088,  71966.16563791,\n",
       "        76424.32172717,  81020.08657059,  85741.30949661,  90574.17114541,\n",
       "        95503.30774744, 100511.97865876, 105582.2743441 , 110695.3600365 ,\n",
       "       115831.74848115, 120971.59362811, 126094.99599632, 131182.30978498,\n",
       "       136214.44171038, 141173.13200682, 146041.20900895, 150802.8101497 ,\n",
       "       155443.5639476 , 159950.72948676, 164313.2918702 , 168522.0140217 ,\n",
       "       172569.44690939, 176449.90168136, 180159.3882858 , 183695.52587512,\n",
       "       187057.4306721 , 190245.58703769, 193261.70727261, 196108.58526501,\n",
       "       198789.94852507, 201310.31248322, 203674.84022248, 205889.21011271,\n",
       "       207959.49314759, 209892.04117891, 211693.38671237, 213370.15448166,\n",
       "       214928.98465407, 216376.46723885, 217719.08706049, 218963.1785158 ,\n",
       "       220114.88924589, 221180.15181176, 222164.66245658, 223073.86605986,\n",
       "       223912.94643099, 224686.82114634, 225400.14019895, 226057.28779974,\n",
       "       226662.38673971, 227219.3047924 , 227731.66270208, 228202.84336574,\n",
       "       228636.00187398, 229034.07612817, 229399.79779763, 229735.70342189,\n",
       "       230044.14549947, 230327.30343553, 230587.19424848, 230825.68295794,\n",
       "       231044.49259665, 231245.21380477, 231429.31397893, 231598.14595934,\n",
       "       231752.95624759, 231894.89275503, 232025.01208719, 232144.2863746 ,\n",
       "       232253.60966357, 232353.80388302, 232445.62440534, 232529.76522049,\n",
       "       232606.86374295, 232677.50527192, 232742.22712458, 232801.52246239,\n",
       "       232855.84382974, 232905.60642359, 232951.19111229, 232992.94722057,\n",
       "       233031.19509739, 233066.22848185, 233098.31668214, 233127.70658106,\n",
       "       233154.62448127, 233179.27780225, 233201.85664036, 233222.53520256,\n",
       "       233241.47312356, 233258.81667554, 233274.69987902, 233289.24552254,\n",
       "       233302.56609858, 233314.76466233, 233325.93561958])"
      ]
     },
     "execution_count": 66,
     "metadata": {},
     "output_type": "execute_result"
    }
   ],
   "source": [
    "ydata_1 = model_population(xdata_1, fit_K, fit_r, fit_P_0)\n",
    "ydata_1"
   ]
  },
  {
   "cell_type": "code",
   "execution_count": 67,
   "metadata": {
    "scrolled": false
   },
   "outputs": [
    {
     "data": {
      "text/html": [
       "\n",
       "\n",
       "\n",
       "\n",
       "\n",
       "\n",
       "  <div class=\"bk-root\" id=\"05e7f0f5-5005-4bf4-98b4-e3a64425b0dd\" data-root-id=\"15464\"></div>\n"
      ]
     },
     "metadata": {},
     "output_type": "display_data"
    },
    {
     "data": {
      "application/javascript": [
       "(function(root) {\n",
       "  function embed_document(root) {\n",
       "    \n",
       "  var docs_json = {\"7d082b5e-c026-4814-8758-f647836f3603\":{\"roots\":{\"references\":[{\"attributes\":{\"below\":[{\"id\":\"15475\"}],\"center\":[{\"id\":\"15478\"},{\"id\":\"15482\"},{\"id\":\"15520\"}],\"left\":[{\"id\":\"15479\"}],\"plot_height\":450,\"renderers\":[{\"id\":\"15500\"},{\"id\":\"15525\"},{\"id\":\"15530\"},{\"id\":\"15558\"}],\"title\":{\"id\":\"15465\"},\"toolbar\":{\"id\":\"15490\"},\"x_range\":{\"id\":\"15467\"},\"x_scale\":{\"id\":\"15471\"},\"y_range\":{\"id\":\"15469\"},\"y_scale\":{\"id\":\"15473\"}},\"id\":\"15464\",\"subtype\":\"Figure\",\"type\":\"Plot\"},{\"attributes\":{},\"id\":\"15473\",\"type\":\"LinearScale\"},{\"attributes\":{\"items\":[{\"id\":\"15521\"},{\"id\":\"15554\"}],\"location\":\"top_left\"},\"id\":\"15520\",\"type\":\"Legend\"},{\"attributes\":{},\"id\":\"16027\",\"type\":\"UnionRenderers\"},{\"attributes\":{\"axis_label\":\"Date\",\"formatter\":{\"id\":\"15560\"},\"major_label_orientation\":0.7853981633974483,\"minor_tick_in\":-5,\"minor_tick_out\":-3,\"ticker\":{\"id\":\"15476\"}},\"id\":\"15475\",\"type\":\"DatetimeAxis\"},{\"attributes\":{\"label\":{\"value\":\"logistic fitting\"},\"renderers\":[{\"id\":\"15530\"}]},\"id\":\"15554\",\"type\":\"LegendItem\"},{\"attributes\":{\"fill_alpha\":{\"value\":0.1},\"fill_color\":{\"value\":\"white\"},\"line_alpha\":{\"value\":0.1},\"line_color\":{\"value\":\"blue\"},\"size\":{\"units\":\"screen\",\"value\":6},\"x\":{\"field\":\"x\"},\"y\":{\"field\":\"y\"}},\"id\":\"15524\",\"type\":\"Circle\"},{\"attributes\":{\"base\":24,\"mantissas\":[1,2,4,6,8,12],\"max_interval\":43200000.0,\"min_interval\":3600000.0,\"num_minor_ticks\":0},\"id\":\"15510\",\"type\":\"AdaptiveTicker\"},{\"attributes\":{},\"id\":\"15488\",\"type\":\"HelpTool\"},{\"attributes\":{\"data\":{\"x\":{\"__ndarray__\":\"AAAA5UcHd0IAAMBKmgd3QgAAgLDsB3dCAABAFj8Id0IAAAB8kQh3QgAAwOHjCHdCAACARzYJd0IAAECtiAl3QgAAABPbCXdCAADAeC0Kd0IAAIDefwp3QgAAQETSCndCAAAAqiQLd0IAAMAPdwt3QgAAgHXJC3dCAABA2xsMd0IAAABBbgx3QgAAwKbADHdCAACADBMNd0IAAEByZQ13QgAAANi3DXdCAADAPQoOd0IAAICjXA53QgAAQAmvDndCAAAAbwEPd0IAAMDUUw93QgAAgDqmD3dCAABAoPgPd0IAAAAGSxB3QgAAwGudEHdCAACA0e8Qd0IAAEA3QhF3QgAAAJ2UEXdCAADAAucRd0IAAIBoORJ3QgAAQM6LEndCAAAANN4Sd0IAAMCZMBN3QgAAgP+CE3dCAABAZdUTd0IAAADLJxR3QgAAwDB6FHdCAACAlswUd0IAAED8HhV3QgAAAGJxFXdCAADAx8MVd0IAAIAtFhZ3QgAAQJNoFndCAAAA+boWd0IAAMBeDRd3QgAAgMRfF3dCAABAKrIXd0IAAACQBBh3QgAAwPVWGHdCAACAW6kYd0IAAEDB+xh3QgAAACdOGXdCAADAjKAZd0IAAIDy8hl3QgAAQFhFGndCAAAAvpcad0IAAMAj6hp3QgAAgIk8G3dCAABA744bd0IAAABV4Rt3QgAAwLozHHdCAACAIIYcd0IAAECG2Bx3QgAAAOwqHXdCAADAUX0dd0IAAIC3zx13QgAAQB0iHndCAAAAg3Qed0IAAMDoxh53QgAAgE4ZH3dCAABAtGsfd0IAAAAavh93QgAAwH8QIHdCAACA5WIgd0IAAEBLtSB3QgAAALEHIXdCAADAFlohd0IAAIB8rCF3QgAAQOL+IXdCAAAASFEid0IAAMCtoyJ3QgAAgBP2IndCAABAeUgjd0IAAADfmiN3QgAAwETtI3dCAACAqj8kd0IAAEAQkiR3QgAAAHbkJHdCAADA2zYld0IAAIBBiSV3QgAAQKfbJXdCAAAADS4md0IAAMBygCZ3QgAAgNjSJndCAABAPiUnd0IAAACkdyd3QgAAwAnKJ3dCAACAbxwod0IAAEDVbih3QgAAADvBKHdCAADAoBMpd0IAAIAGZil3QgAAQGy4KXdCAAAA0goqd0IAAMA3XSp3QgAAgJ2vKndCAABAAwIrd0IAAABpVCt3QgAAwM6mK3dCAACANPkrd0IAAECaSyx3QgAAAACeLHdCAADAZfAsd0IAAIDLQi13QgAAQDGVLXdCAAAAl+ctd0IAAMD8OS53QgAAgGKMLndCAABAyN4ud0IAAAAuMS93QgAAwJODL3dCAACA+dUvd0I=\",\"dtype\":\"float64\",\"shape\":[127]},\"y\":{\"__ndarray__\":\"wTMZ9226uUDJKI83Ywa8QN6blhwGhb5A4JnlnC+dwECHDZbFXBXCQI6HguJRrcNA/vgshHhnxUA1NF5rXEbHQPpC6Q2rTMlAJpocjzJ9y0AwdoMS4NrNQF8u0aZeNNBAJqbjnfaU0UCRbQXr0xDTQKOSu1iaqdRAm1AcM/Jg1kBgCIhShDjYQL6DInL1MdpAifuzyeBO3EA4FMvm0ZDeQG9IOuOefOBANIXbm73E4UD2op1LXSHjQMHSB3/+kuRAu4sJhAUa5kDsFvmwtbbnQOLuH60saelASt403l0x60AoEyMjDg/tQHE0agjQAe9AHslfUoCE8ECW7nOm4pHxQAlkyyWFqPJAENmXYsHH80A6t7Lz1O70QBz5Ar3iHPZA/5SI7PRQ90BFF5ao/4n4QJSktmPkxvlAgqG1wnUG+0DTX8f5e0f8QHwwgH+5iP1ARNeZ7+/I/kBxjHB6cgMAQZ5zn4izoABBzpZZDqk7AUES4wysydMBQanEL3uWaAJBjfX2gpz5AkFKJ/3VdYYDQWoLwFXKDgRB0mi3HFCSBEEZO0WTyxAFQVi3pDYPigVBh5U1G/v9BUFWBP40fGwGQR43BHKL1QZBz9BAsiw5B0E5i36obZcHQbBrn65k8AdBW1CUli9ECEFvNPd/8pIIQW6QxrjW3AhBA5NPrgkiCUF1Xffxu2IJQUWbVVQgnwlBPKj8F2vXCUFy4WA80QsKQbNPkuCHPApBxrjnvMNpCkGwxEyyuJMKQbOwmW2ZugpByvIsHZfeCkH+FOk24f8KQQYJtkylHgtBncqw7Q47C0G4aUqSR1ULQZ4stZF2bQtBIKEgH8GDC0EF82lNSpgLQSr9ChgzqwtBMP82cJq8C0GzvzZNncwLQYOJNr9W2wtBiYHWA+DoC0GWFumbUPULQdO442G+AAxBM6iboD0LDEG1n/sp4RQMQaSbb226HQxBPiXSjdklDEFgprJ2TS0MQZWC1vAjNAxBAEfftWk6DEExYweDKkAMQXy67CpxRQxBPiNlpkdKDEFJwFwkt04MQSUrwRjIUgxBN8R+SoJWDEFVS5fg7FkMQRU4Wm4OXQxBcDrI/uxfDEEm6ysfjmIMQVEQ8uj2ZAxBMAHMCixnDEEBsSbRMWkMQW3DAC4MawxBos4pwL5sDEEXnfTZTG4MQd7gZYe5bwxB22DokwdxDEHwN4+POXIMQedK7tNRcwxBJaWQiFJ0DEFT+BOnPXUMQdgI8P4UdgxBN2LwONp2DEHdQmbajncMQSNIGEg0eAxBxgD1yMt4DEEgL42IVnkMQb0rWpnVeQxB5IXU9kl6DEF5sV6HtHoMQQpIBx4WewxBoB4mfG97DEE=\",\"dtype\":\"float64\",\"shape\":[127]}},\"selected\":{\"id\":\"16030\"},\"selection_policy\":{\"id\":\"16029\"}},\"id\":\"15555\",\"type\":\"ColumnDataSource\"},{\"attributes\":{\"days\":[1,8,15,22]},\"id\":\"15513\",\"type\":\"DaysTicker\"},{\"attributes\":{\"days\":[1,15]},\"id\":\"15514\",\"type\":\"DaysTicker\"},{\"attributes\":{\"fill_color\":{\"value\":\"white\"},\"line_color\":{\"value\":\"blue\"},\"size\":{\"units\":\"screen\",\"value\":6},\"x\":{\"field\":\"x\"},\"y\":{\"field\":\"y\"}},\"id\":\"15523\",\"type\":\"Circle\"},{\"attributes\":{\"num_minor_ticks\":5,\"tickers\":[{\"id\":\"15508\"},{\"id\":\"15509\"},{\"id\":\"15510\"},{\"id\":\"15511\"},{\"id\":\"15512\"},{\"id\":\"15513\"},{\"id\":\"15514\"},{\"id\":\"15515\"},{\"id\":\"15516\"},{\"id\":\"15517\"},{\"id\":\"15518\"},{\"id\":\"15519\"}]},\"id\":\"15476\",\"type\":\"DatetimeTicker\"},{\"attributes\":{\"axis\":{\"id\":\"15479\"},\"dimension\":1,\"ticker\":null},\"id\":\"15482\",\"type\":\"Grid\"},{\"attributes\":{\"source\":{\"id\":\"15555\"}},\"id\":\"15559\",\"type\":\"CDSView\"},{\"attributes\":{\"months\":[0,2,4,6,8,10]},\"id\":\"15516\",\"type\":\"MonthsTicker\"},{\"attributes\":{\"months\":[0,4,8]},\"id\":\"15517\",\"type\":\"MonthsTicker\"},{\"attributes\":{\"line_color\":\"blue\",\"line_width\":4,\"x\":{\"field\":\"x\"},\"y\":{\"field\":\"y\"}},\"id\":\"15498\",\"type\":\"Line\"},{\"attributes\":{},\"id\":\"15552\",\"type\":\"UnionRenderers\"},{\"attributes\":{},\"id\":\"15553\",\"type\":\"Selection\"},{\"attributes\":{\"data\":{\"x\":{\"__ndarray__\":\"AAAA5UcHd0IAAMBKmgd3QgAAgLDsB3dCAABAFj8Id0IAAAB8kQh3QgAAwOHjCHdCAACARzYJd0IAAECtiAl3QgAAABPbCXdCAADAeC0Kd0IAAIDefwp3QgAAQETSCndCAAAAqiQLd0IAAMAPdwt3QgAAgHXJC3dCAABA2xsMd0IAAABBbgx3QgAAwKbADHdCAACADBMNd0IAAEByZQ13QgAAANi3DXdCAADAPQoOd0IAAICjXA53QgAAQAmvDndCAAAAbwEPd0IAAMDUUw93QgAAgDqmD3dCAABAoPgPd0IAAAAGSxB3QgAAwGudEHdCAACA0e8Qd0IAAEA3QhF3QgAAAJ2UEXdCAADAAucRd0IAAIBoORJ3QgAAQM6LEndCAAAANN4Sd0IAAMCZMBN3QgAAgP+CE3dCAABAZdUTd0IAAADLJxR3QgAAwDB6FHdCAACAlswUd0IAAED8HhV3QgAAAGJxFXdCAADAx8MVd0IAAIAtFhZ3QgAAQJNoFndCAAAA+boWd0IAAMBeDRd3QgAAgMRfF3dCAABAKrIXd0IAAACQBBh3QgAAwPVWGHdCAACAW6kYd0IAAEDB+xh3QgAAACdOGXdCAADAjKAZd0IAAIDy8hl3QgAAQFhFGndCAAAAvpcad0IAAMAj6hp3QgAAgIk8G3dCAABA744bd0IAAABV4Rt3QgAAwLozHHdCAACAIIYcd0IAAECG2Bx3QgAAAOwqHXdCAADAUX0dd0IAAIC3zx13QgAAQB0iHndCAAAAg3Qed0IAAMDoxh53QgAAgE4ZH3dCAABAtGsfd0IAAAAavh93QgAAwH8QIHdCAACA5WIgd0IAAEBLtSB3QgAAALEHIXdCAADAFlohd0IAAIB8rCF3QgAAQOL+IXdCAAAASFEid0IAAMCtoyJ3QgAAgBP2IndCAABAeUgjd0IAAADfmiN3QgAAwETtI3dCAACAqj8kd0IAAEAQkiR3QgAAAHbkJHdCAADA2zYld0IAAIBBiSV3QgAAQKfbJXdCAAAADS4md0IAAMBygCZ3QgAAgNjSJndCAABAPiUnd0IAAACkdyd3QgAAwAnKJ3dCAACAbxwod0IAAEDVbih3QgAAADvBKHdCAADAoBMpd0IAAIAGZil3QgAAQGy4KXdCAAAA0goqd0IAAMA3XSp3QgAAgJ2vKndCAABAAwIrd0IAAABpVCt3QgAAwM6mK3dCAACANPkrd0IAAECaSyx3QgAAAACeLHdCAADAZfAsd0IAAIDLQi13QgAAQDGVLXdCAAAAl+ctd0IAAMD8OS53QgAAgGKMLndCAABAyN4ud0IAAAAuMS93QgAAwJODL3dCAACA+dUvd0I=\",\"dtype\":\"float64\",\"shape\":[127]},\"y\":[229,322,400,650,888,1128,1694,2036,2502,3089,3858,4636,5883,7375,9172,10149,12462,15113,17660,21157,24747,27980,31506,35713,41035,47021,53578,59138,63927,69176,74386,80539,86498,92472,97689,101739,105792,110574,115242,119827,124632,128948,132547,135586,139422,143626,147577,152271,156363,159516,162488,165155,168941,172434,175925,178972,181228,183957,187327,189973,192994,195351,197675,199414,201505,203591,205463,207428,209328,210717,211938,213013,214457,215858,217185,218268,219070,219814,221216,222104,223096,223885,224760,225435,225886,226699,227364,228006,228658,229327,229858,230158,230555,231139,231732,232248,232664,233019,233197,233515,233836,234013,234531,234801,234998,235278,235561,235763,236142,236305,236651,236989,237290,237500,237828,238159,238011,238275,238499,238720,238833,239410,239706,239961,240136,240310,240436]},\"selected\":{\"id\":\"15553\"},\"selection_policy\":{\"id\":\"15552\"}},\"id\":\"15522\",\"type\":\"ColumnDataSource\"},{\"attributes\":{\"fill_alpha\":{\"value\":0.1},\"fill_color\":{\"value\":\"white\"},\"line_alpha\":{\"value\":0.1},\"line_color\":{\"value\":\"red\"},\"size\":{\"units\":\"screen\",\"value\":6},\"x\":{\"field\":\"x\"},\"y\":{\"field\":\"y\"}},\"id\":\"15557\",\"type\":\"Circle\"},{\"attributes\":{},\"id\":\"15480\",\"type\":\"BasicTicker\"},{\"attributes\":{\"mantissas\":[1,2,5],\"max_interval\":500.0,\"num_minor_ticks\":0},\"id\":\"15508\",\"type\":\"AdaptiveTicker\"},{\"attributes\":{\"axis\":{\"id\":\"15475\"},\"ticker\":null},\"id\":\"15478\",\"type\":\"Grid\"},{\"attributes\":{\"fill_color\":{\"value\":\"white\"},\"line_color\":{\"value\":\"red\"},\"size\":{\"units\":\"screen\",\"value\":6},\"x\":{\"field\":\"x\"},\"y\":{\"field\":\"y\"}},\"id\":\"15556\",\"type\":\"Circle\"},{\"attributes\":{\"days\":[1,2,3,4,5,6,7,8,9,10,11,12,13,14,15,16,17,18,19,20,21,22,23,24,25,26,27,28,29,30,31]},\"id\":\"15511\",\"type\":\"DaysTicker\"},{\"attributes\":{\"months\":[0,1,2,3,4,5,6,7,8,9,10,11]},\"id\":\"15515\",\"type\":\"MonthsTicker\"},{\"attributes\":{},\"id\":\"15564\",\"type\":\"NumeralTickFormatter\"},{\"attributes\":{},\"id\":\"16028\",\"type\":\"Selection\"},{\"attributes\":{\"axis_label\":\"Total Cases\",\"formatter\":{\"id\":\"15564\"},\"minor_tick_in\":-5,\"minor_tick_out\":-3,\"ticker\":{\"id\":\"15480\"}},\"id\":\"15479\",\"type\":\"LinearAxis\"},{\"attributes\":{\"callback\":null,\"formatters\":{\"@x\":\"datetime\"},\"mode\":\"vline\",\"tooltips\":[[\"date\",\"@x{%d %B}\"],[\"total cases OR fitting\",\"@y{0.}\"]]},\"id\":\"15565\",\"type\":\"HoverTool\"},{\"attributes\":{\"source\":{\"id\":\"15527\"}},\"id\":\"15531\",\"type\":\"CDSView\"},{\"attributes\":{},\"id\":\"15550\",\"type\":\"UnionRenderers\"},{\"attributes\":{},\"id\":\"16029\",\"type\":\"UnionRenderers\"},{\"attributes\":{\"active_drag\":\"auto\",\"active_inspect\":\"auto\",\"active_multi\":null,\"active_scroll\":\"auto\",\"active_tap\":\"auto\",\"tools\":[{\"id\":\"15483\"},{\"id\":\"15484\"},{\"id\":\"15485\"},{\"id\":\"15486\"},{\"id\":\"15487\"},{\"id\":\"15488\"},{\"id\":\"15565\"}]},\"id\":\"15490\",\"type\":\"Toolbar\"},{\"attributes\":{\"data_source\":{\"id\":\"15497\"},\"glyph\":{\"id\":\"15498\"},\"hover_glyph\":null,\"muted_glyph\":null,\"nonselection_glyph\":{\"id\":\"15499\"},\"selection_glyph\":null,\"view\":{\"id\":\"15501\"}},\"id\":\"15500\",\"type\":\"GlyphRenderer\"},{\"attributes\":{\"line_alpha\":0.1,\"line_color\":\"blue\",\"line_width\":4,\"x\":{\"field\":\"x\"},\"y\":{\"field\":\"y\"}},\"id\":\"15499\",\"type\":\"Line\"},{\"attributes\":{\"data\":{\"x\":{\"__ndarray__\":\"AAAA5UcHd0IAAMBKmgd3QgAAgLDsB3dCAABAFj8Id0IAAAB8kQh3QgAAwOHjCHdCAACARzYJd0IAAECtiAl3QgAAABPbCXdCAADAeC0Kd0IAAIDefwp3QgAAQETSCndCAAAAqiQLd0IAAMAPdwt3QgAAgHXJC3dCAABA2xsMd0IAAABBbgx3QgAAwKbADHdCAACADBMNd0IAAEByZQ13QgAAANi3DXdCAADAPQoOd0IAAICjXA53QgAAQAmvDndCAAAAbwEPd0IAAMDUUw93QgAAgDqmD3dCAABAoPgPd0IAAAAGSxB3QgAAwGudEHdCAACA0e8Qd0IAAEA3QhF3QgAAAJ2UEXdCAADAAucRd0IAAIBoORJ3QgAAQM6LEndCAAAANN4Sd0IAAMCZMBN3QgAAgP+CE3dCAABAZdUTd0IAAADLJxR3QgAAwDB6FHdCAACAlswUd0IAAED8HhV3QgAAAGJxFXdCAADAx8MVd0IAAIAtFhZ3QgAAQJNoFndCAAAA+boWd0IAAMBeDRd3QgAAgMRfF3dCAABAKrIXd0IAAACQBBh3QgAAwPVWGHdCAACAW6kYd0IAAEDB+xh3QgAAACdOGXdCAADAjKAZd0IAAIDy8hl3QgAAQFhFGndCAAAAvpcad0IAAMAj6hp3QgAAgIk8G3dCAABA744bd0IAAABV4Rt3QgAAwLozHHdCAACAIIYcd0IAAECG2Bx3QgAAAOwqHXdCAADAUX0dd0IAAIC3zx13QgAAQB0iHndCAAAAg3Qed0IAAMDoxh53QgAAgE4ZH3dCAABAtGsfd0IAAAAavh93QgAAwH8QIHdCAACA5WIgd0IAAEBLtSB3QgAAALEHIXdCAADAFlohd0IAAIB8rCF3QgAAQOL+IXdCAAAASFEid0IAAMCtoyJ3QgAAgBP2IndCAABAeUgjd0IAAADfmiN3QgAAwETtI3dCAACAqj8kd0IAAEAQkiR3QgAAAHbkJHdCAADA2zYld0IAAIBBiSV3QgAAQKfbJXdCAAAADS4md0IAAMBygCZ3QgAAgNjSJndCAABAPiUnd0IAAACkdyd3QgAAwAnKJ3dCAACAbxwod0IAAEDVbih3QgAAADvBKHdCAADAoBMpd0IAAIAGZil3QgAAQGy4KXdCAAAA0goqd0IAAMA3XSp3QgAAgJ2vKndCAABAAwIrd0IAAABpVCt3QgAAwM6mK3dCAACANPkrd0IAAECaSyx3QgAAAACeLHdCAADAZfAsd0IAAIDLQi13QgAAQDGVLXdCAAAAl+ctd0IAAMD8OS53QgAAgGKMLndCAABAyN4ud0IAAAAuMS93QgAAwJODL3dCAACA+dUvd0I=\",\"dtype\":\"float64\",\"shape\":[127]},\"y\":{\"__ndarray__\":\"wTMZ9226uUDJKI83Ywa8QN6blhwGhb5A4JnlnC+dwECHDZbFXBXCQI6HguJRrcNA/vgshHhnxUA1NF5rXEbHQPpC6Q2rTMlAJpocjzJ9y0AwdoMS4NrNQF8u0aZeNNBAJqbjnfaU0UCRbQXr0xDTQKOSu1iaqdRAm1AcM/Jg1kBgCIhShDjYQL6DInL1MdpAifuzyeBO3EA4FMvm0ZDeQG9IOuOefOBANIXbm73E4UD2op1LXSHjQMHSB3/+kuRAu4sJhAUa5kDsFvmwtbbnQOLuH60saelASt403l0x60AoEyMjDg/tQHE0agjQAe9AHslfUoCE8ECW7nOm4pHxQAlkyyWFqPJAENmXYsHH80A6t7Lz1O70QBz5Ar3iHPZA/5SI7PRQ90BFF5ao/4n4QJSktmPkxvlAgqG1wnUG+0DTX8f5e0f8QHwwgH+5iP1ARNeZ7+/I/kBxjHB6cgMAQZ5zn4izoABBzpZZDqk7AUES4wysydMBQanEL3uWaAJBjfX2gpz5AkFKJ/3VdYYDQWoLwFXKDgRB0mi3HFCSBEEZO0WTyxAFQVi3pDYPigVBh5U1G/v9BUFWBP40fGwGQR43BHKL1QZBz9BAsiw5B0E5i36obZcHQbBrn65k8AdBW1CUli9ECEFvNPd/8pIIQW6QxrjW3AhBA5NPrgkiCUF1Xffxu2IJQUWbVVQgnwlBPKj8F2vXCUFy4WA80QsKQbNPkuCHPApBxrjnvMNpCkGwxEyyuJMKQbOwmW2ZugpByvIsHZfeCkH+FOk24f8KQQYJtkylHgtBncqw7Q47C0G4aUqSR1ULQZ4stZF2bQtBIKEgH8GDC0EF82lNSpgLQSr9ChgzqwtBMP82cJq8C0GzvzZNncwLQYOJNr9W2wtBiYHWA+DoC0GWFumbUPULQdO442G+AAxBM6iboD0LDEG1n/sp4RQMQaSbb226HQxBPiXSjdklDEFgprJ2TS0MQZWC1vAjNAxBAEfftWk6DEExYweDKkAMQXy67CpxRQxBPiNlpkdKDEFJwFwkt04MQSUrwRjIUgxBN8R+SoJWDEFVS5fg7FkMQRU4Wm4OXQxBcDrI/uxfDEEm6ysfjmIMQVEQ8uj2ZAxBMAHMCixnDEEBsSbRMWkMQW3DAC4MawxBos4pwL5sDEEXnfTZTG4MQd7gZYe5bwxB22DokwdxDEHwN4+POXIMQedK7tNRcwxBJaWQiFJ0DEFT+BOnPXUMQdgI8P4UdgxBN2LwONp2DEHdQmbajncMQSNIGEg0eAxBxgD1yMt4DEEgL42IVnkMQb0rWpnVeQxB5IXU9kl6DEF5sV6HtHoMQQpIBx4WewxBoB4mfG97DEE=\",\"dtype\":\"float64\",\"shape\":[127]}},\"selected\":{\"id\":\"16028\"},\"selection_policy\":{\"id\":\"16027\"}},\"id\":\"15527\",\"type\":\"ColumnDataSource\"},{\"attributes\":{\"line_alpha\":0.1,\"line_color\":\"red\",\"line_width\":4,\"x\":{\"field\":\"x\"},\"y\":{\"field\":\"y\"}},\"id\":\"15529\",\"type\":\"Line\"},{\"attributes\":{\"text\":\"Logistic Fitting Total Cases: Italy\"},\"id\":\"15465\",\"type\":\"Title\"},{\"attributes\":{\"data\":{\"x\":{\"__ndarray__\":\"AAAA5UcHd0IAAMBKmgd3QgAAgLDsB3dCAABAFj8Id0IAAAB8kQh3QgAAwOHjCHdCAACARzYJd0IAAECtiAl3QgAAABPbCXdCAADAeC0Kd0IAAIDefwp3QgAAQETSCndCAAAAqiQLd0IAAMAPdwt3QgAAgHXJC3dCAABA2xsMd0IAAABBbgx3QgAAwKbADHdCAACADBMNd0IAAEByZQ13QgAAANi3DXdCAADAPQoOd0IAAICjXA53QgAAQAmvDndCAAAAbwEPd0IAAMDUUw93QgAAgDqmD3dCAABAoPgPd0IAAAAGSxB3QgAAwGudEHdCAACA0e8Qd0IAAEA3QhF3QgAAAJ2UEXdCAADAAucRd0IAAIBoORJ3QgAAQM6LEndCAAAANN4Sd0IAAMCZMBN3QgAAgP+CE3dCAABAZdUTd0IAAADLJxR3QgAAwDB6FHdCAACAlswUd0IAAED8HhV3QgAAAGJxFXdCAADAx8MVd0IAAIAtFhZ3QgAAQJNoFndCAAAA+boWd0IAAMBeDRd3QgAAgMRfF3dCAABAKrIXd0IAAACQBBh3QgAAwPVWGHdCAACAW6kYd0IAAEDB+xh3QgAAACdOGXdCAADAjKAZd0IAAIDy8hl3QgAAQFhFGndCAAAAvpcad0IAAMAj6hp3QgAAgIk8G3dCAABA744bd0IAAABV4Rt3QgAAwLozHHdCAACAIIYcd0IAAECG2Bx3QgAAAOwqHXdCAADAUX0dd0IAAIC3zx13QgAAQB0iHndCAAAAg3Qed0IAAMDoxh53QgAAgE4ZH3dCAABAtGsfd0IAAAAavh93QgAAwH8QIHdCAACA5WIgd0IAAEBLtSB3QgAAALEHIXdCAADAFlohd0IAAIB8rCF3QgAAQOL+IXdCAAAASFEid0IAAMCtoyJ3QgAAgBP2IndCAABAeUgjd0IAAADfmiN3QgAAwETtI3dCAACAqj8kd0IAAEAQkiR3QgAAAHbkJHdCAADA2zYld0IAAIBBiSV3QgAAQKfbJXdCAAAADS4md0IAAMBygCZ3QgAAgNjSJndCAABAPiUnd0IAAACkdyd3QgAAwAnKJ3dCAACAbxwod0IAAEDVbih3QgAAADvBKHdCAADAoBMpd0IAAIAGZil3QgAAQGy4KXdCAAAA0goqd0IAAMA3XSp3QgAAgJ2vKndCAABAAwIrd0IAAABpVCt3QgAAwM6mK3dCAACANPkrd0IAAECaSyx3QgAAAACeLHdCAADAZfAsd0IAAIDLQi13QgAAQDGVLXdCAAAAl+ctd0IAAMD8OS53QgAAgGKMLndCAABAyN4ud0IAAAAuMS93QgAAwJODL3dCAACA+dUvd0I=\",\"dtype\":\"float64\",\"shape\":[127]},\"y\":[229,322,400,650,888,1128,1694,2036,2502,3089,3858,4636,5883,7375,9172,10149,12462,15113,17660,21157,24747,27980,31506,35713,41035,47021,53578,59138,63927,69176,74386,80539,86498,92472,97689,101739,105792,110574,115242,119827,124632,128948,132547,135586,139422,143626,147577,152271,156363,159516,162488,165155,168941,172434,175925,178972,181228,183957,187327,189973,192994,195351,197675,199414,201505,203591,205463,207428,209328,210717,211938,213013,214457,215858,217185,218268,219070,219814,221216,222104,223096,223885,224760,225435,225886,226699,227364,228006,228658,229327,229858,230158,230555,231139,231732,232248,232664,233019,233197,233515,233836,234013,234531,234801,234998,235278,235561,235763,236142,236305,236651,236989,237290,237500,237828,238159,238011,238275,238499,238720,238833,239410,239706,239961,240136,240310,240436]},\"selected\":{\"id\":\"15551\"},\"selection_policy\":{\"id\":\"15550\"}},\"id\":\"15497\",\"type\":\"ColumnDataSource\"},{\"attributes\":{\"source\":{\"id\":\"15497\"}},\"id\":\"15501\",\"type\":\"CDSView\"},{\"attributes\":{\"source\":{\"id\":\"15522\"}},\"id\":\"15526\",\"type\":\"CDSView\"},{\"attributes\":{},\"id\":\"15519\",\"type\":\"YearsTicker\"},{\"attributes\":{},\"id\":\"15483\",\"type\":\"PanTool\"},{\"attributes\":{\"bottom_units\":\"screen\",\"fill_alpha\":0.5,\"fill_color\":\"lightgrey\",\"left_units\":\"screen\",\"level\":\"overlay\",\"line_alpha\":1.0,\"line_color\":\"black\",\"line_dash\":[4,4],\"line_width\":2,\"render_mode\":\"css\",\"right_units\":\"screen\",\"top_units\":\"screen\"},\"id\":\"15489\",\"type\":\"BoxAnnotation\"},{\"attributes\":{\"days\":[1,4,7,10,13,16,19,22,25,28]},\"id\":\"15512\",\"type\":\"DaysTicker\"},{\"attributes\":{},\"id\":\"15551\",\"type\":\"Selection\"},{\"attributes\":{\"label\":{\"value\":\"total cases\"},\"renderers\":[{\"id\":\"15500\"}]},\"id\":\"15521\",\"type\":\"LegendItem\"},{\"attributes\":{\"months\":[0,6]},\"id\":\"15518\",\"type\":\"MonthsTicker\"},{\"attributes\":{},\"id\":\"16030\",\"type\":\"Selection\"},{\"attributes\":{},\"id\":\"15467\",\"type\":\"DataRange1d\"},{\"attributes\":{},\"id\":\"15484\",\"type\":\"WheelZoomTool\"},{\"attributes\":{\"line_color\":\"red\",\"line_width\":4,\"x\":{\"field\":\"x\"},\"y\":{\"field\":\"y\"}},\"id\":\"15528\",\"type\":\"Line\"},{\"attributes\":{},\"id\":\"15471\",\"type\":\"LinearScale\"},{\"attributes\":{\"data_source\":{\"id\":\"15527\"},\"glyph\":{\"id\":\"15528\"},\"hover_glyph\":null,\"muted_glyph\":null,\"nonselection_glyph\":{\"id\":\"15529\"},\"selection_glyph\":null,\"view\":{\"id\":\"15531\"}},\"id\":\"15530\",\"type\":\"GlyphRenderer\"},{\"attributes\":{},\"id\":\"15487\",\"type\":\"ResetTool\"},{\"attributes\":{\"base\":60,\"mantissas\":[1,2,5,10,15,20,30],\"max_interval\":1800000.0,\"min_interval\":1000.0,\"num_minor_ticks\":0},\"id\":\"15509\",\"type\":\"AdaptiveTicker\"},{\"attributes\":{\"data_source\":{\"id\":\"15555\"},\"glyph\":{\"id\":\"15556\"},\"hover_glyph\":null,\"muted_glyph\":null,\"nonselection_glyph\":{\"id\":\"15557\"},\"selection_glyph\":null,\"view\":{\"id\":\"15559\"}},\"id\":\"15558\",\"type\":\"GlyphRenderer\"},{\"attributes\":{\"overlay\":{\"id\":\"15489\"}},\"id\":\"15485\",\"type\":\"BoxZoomTool\"},{\"attributes\":{},\"id\":\"15486\",\"type\":\"SaveTool\"},{\"attributes\":{\"days\":[\"%d %B\"]},\"id\":\"15560\",\"type\":\"DatetimeTickFormatter\"},{\"attributes\":{},\"id\":\"15469\",\"type\":\"DataRange1d\"},{\"attributes\":{\"data_source\":{\"id\":\"15522\"},\"glyph\":{\"id\":\"15523\"},\"hover_glyph\":null,\"muted_glyph\":null,\"nonselection_glyph\":{\"id\":\"15524\"},\"selection_glyph\":null,\"view\":{\"id\":\"15526\"}},\"id\":\"15525\",\"type\":\"GlyphRenderer\"}],\"root_ids\":[\"15464\"]},\"title\":\"Bokeh Application\",\"version\":\"2.0.2\"}};\n",
       "  var render_items = [{\"docid\":\"7d082b5e-c026-4814-8758-f647836f3603\",\"root_ids\":[\"15464\"],\"roots\":{\"15464\":\"05e7f0f5-5005-4bf4-98b4-e3a64425b0dd\"}}];\n",
       "  root.Bokeh.embed.embed_items_notebook(docs_json, render_items);\n",
       "\n",
       "  }\n",
       "  if (root.Bokeh !== undefined) {\n",
       "    embed_document(root);\n",
       "  } else {\n",
       "    var attempts = 0;\n",
       "    var timer = setInterval(function(root) {\n",
       "      if (root.Bokeh !== undefined) {\n",
       "        clearInterval(timer);\n",
       "        embed_document(root);\n",
       "      } else {\n",
       "        attempts++;\n",
       "        if (attempts > 100) {\n",
       "          clearInterval(timer);\n",
       "          console.log(\"Bokeh: ERROR: Unable to run BokehJS code because BokehJS library is missing\");\n",
       "        }\n",
       "      }\n",
       "    }, 10, root)\n",
       "  }\n",
       "})(window);"
      ],
      "application/vnd.bokehjs_exec.v0+json": ""
     },
     "metadata": {
      "application/vnd.bokehjs_exec.v0+json": {
       "id": "15464"
      }
     },
     "output_type": "display_data"
    }
   ],
   "source": [
    "pfit_1_total_cases_Italy = bokeh_plot_2_lines(x=time_date_new[0:(fit_range_1)], y=total_cases_italy.loc[0:(fit_range_1-1)], yy=ydata_1[0:fit_range_1], \n",
    "                  title='Logistic Fitting Total Cases: Italy', \n",
    "                  file_name=\"fit_1_total_cases_Italy.html\", \n",
    "                  x_label='Date', y_label='Total Cases', \n",
    "                  legend_1='total cases', legend_2='logistic fitting',\n",
    "                  x_label_hover='date' , y_label_hover='total cases OR fitting' , \n",
    "                  color_1='blue', color_2='red', y_minmax=None)\n",
    "\n",
    "show(pfit_1_total_cases_Italy)"
   ]
  },
  {
   "cell_type": "code",
   "execution_count": 68,
   "metadata": {},
   "outputs": [
    {
     "data": {
      "text/plain": [
       "0.47713174948465703"
      ]
     },
     "execution_count": 68,
     "metadata": {},
     "output_type": "execute_result"
    }
   ],
   "source": [
    "- cov[0,1] / (np.sqrt(np.diag(cov)[0] * np.diag(cov)[1])) # Correlation coefficient for parameters 'K' and 'r'"
   ]
  },
  {
   "cell_type": "code",
   "execution_count": 69,
   "metadata": {},
   "outputs": [
    {
     "data": {
      "text/plain": [
       "0.36798386510366016"
      ]
     },
     "execution_count": 69,
     "metadata": {},
     "output_type": "execute_result"
    }
   ],
   "source": [
    "cov[0,2] / (np.sqrt(np.diag(cov)[0] * np.diag(cov)[2])) # Correlation coefficient for parameters 'K' and 'P_0'"
   ]
  },
  {
   "cell_type": "code",
   "execution_count": 70,
   "metadata": {},
   "outputs": [
    {
     "data": {
      "text/plain": [
       "0.9548019234790093"
      ]
     },
     "execution_count": 70,
     "metadata": {},
     "output_type": "execute_result"
    }
   ],
   "source": [
    "- cov[1,2] / (np.sqrt(np.diag(cov)[1] * np.diag(cov)[2])) # Correlation coefficient for parameters 'r' and 'P_0'"
   ]
  },
  {
   "cell_type": "code",
   "execution_count": 71,
   "metadata": {},
   "outputs": [
    {
     "data": {
      "text/plain": [
       "0.9945593307622718"
      ]
     },
     "execution_count": 71,
     "metadata": {},
     "output_type": "execute_result"
    }
   ],
   "source": [
    "residuals_1 = total_cases_italy.loc[0:(fit_range_1-1)] - ydata_1  #  Calculation of R^2\n",
    "ss_res_1 = np.sum(residuals_1**2)\n",
    "ss_tot_1 = np.sum((total_cases_italy.loc[0:(fit_range_1-1)] - np.mean(total_cases_italy.loc[0:(fit_range_1-1)]))**2)\n",
    "r_squared_1 = 1 - (ss_res_1 / ss_tot_1)\n",
    "r_squared_1"
   ]
  },
  {
   "cell_type": "markdown",
   "metadata": {},
   "source": [
    "----------------------"
   ]
  },
  {
   "cell_type": "code",
   "execution_count": 72,
   "metadata": {},
   "outputs": [
    {
     "name": "stderr",
     "output_type": "stream",
     "text": [
      "/Users/Angelo/opt/anaconda3/lib/python3.7/site-packages/ipykernel_launcher.py:8: RuntimeWarning: divide by zero encountered in double_scalars\n",
      "  \n"
     ]
    }
   ],
   "source": [
    "fit_range_2 = len(total_cases_italy) - 15\n",
    "fit_range_3 = len(total_cases_italy)\n",
    "xdata_2 = np.linspace(fit_range_2, fit_range_3, fit_range_3 - fit_range_2)\n",
    "# init_guess = [250000,0.25,1]\n",
    "init_guess = [500000,0.001,0]\n",
    "fit = curve_fit(model_population, xdata_2, total_cases_italy.loc[fit_range_2:(fit_range_3-1)], p0=init_guess, maxfev=20000)"
   ]
  },
  {
   "cell_type": "code",
   "execution_count": 73,
   "metadata": {},
   "outputs": [],
   "source": [
    "ans, cov = fit"
   ]
  },
  {
   "cell_type": "code",
   "execution_count": 74,
   "metadata": {},
   "outputs": [
    {
     "data": {
      "text/plain": [
       "(667726734.056448, 0.0009119831459283803, 214213.2882653338)"
      ]
     },
     "execution_count": 74,
     "metadata": {},
     "output_type": "execute_result"
    }
   ],
   "source": [
    "fit_K, fit_r, fit_P_0 = ans\n",
    "fit_K, fit_r, fit_P_0"
   ]
  },
  {
   "cell_type": "code",
   "execution_count": 75,
   "metadata": {},
   "outputs": [
    {
     "data": {
      "text/plain": [
       "array([[ 3.38990619e+26, -1.65657121e+11,  2.22337039e+17],\n",
       "       [-1.65657121e+11,  8.09542290e-05, -1.08684532e+02],\n",
       "       [ 2.22337039e+17, -1.08684532e+02,  1.46682664e+08]])"
      ]
     },
     "execution_count": 75,
     "metadata": {},
     "output_type": "execute_result"
    }
   ],
   "source": [
    "cov"
   ]
  },
  {
   "cell_type": "code",
   "execution_count": 76,
   "metadata": {},
   "outputs": [
    {
     "data": {
      "text/plain": [
       "array([1.84116979e+13, 8.99745681e-03, 1.21112618e+04])"
      ]
     },
     "execution_count": 76,
     "metadata": {},
     "output_type": "execute_result"
    }
   ],
   "source": [
    "np.sqrt(np.diag(cov))"
   ]
  },
  {
   "cell_type": "code",
   "execution_count": 77,
   "metadata": {},
   "outputs": [
    {
     "data": {
      "text/plain": [
       "array([237241.78372313, 237473.62936226, 237705.70149293, 237938.00033625,\n",
       "       238170.52611355, 238403.27904634, 238636.25935638, 238869.46726564,\n",
       "       239102.90299631, 239336.56677078, 239570.45881166, 239804.5793418 ,\n",
       "       240038.92858424, 240273.50676225, 240508.31409932])"
      ]
     },
     "execution_count": 77,
     "metadata": {},
     "output_type": "execute_result"
    }
   ],
   "source": [
    "ydata_2 = fit_K / ( 1 + ((fit_K - fit_P_0) / fit_P_0) * np.exp(- fit_r * xdata_2))\n",
    "ydata_2"
   ]
  },
  {
   "cell_type": "code",
   "execution_count": 78,
   "metadata": {},
   "outputs": [
    {
     "data": {
      "text/html": [
       "\n",
       "\n",
       "\n",
       "\n",
       "\n",
       "\n",
       "  <div class=\"bk-root\" id=\"7b73a931-3cb3-4bff-8d23-bb50e88abaac\" data-root-id=\"16488\"></div>\n"
      ]
     },
     "metadata": {},
     "output_type": "display_data"
    },
    {
     "data": {
      "application/javascript": [
       "(function(root) {\n",
       "  function embed_document(root) {\n",
       "    \n",
       "  var docs_json = {\"6d1c555a-4b9b-4834-9da8-d8eeb2210c41\":{\"roots\":{\"references\":[{\"attributes\":{\"below\":[{\"id\":\"16499\"}],\"center\":[{\"id\":\"16502\"},{\"id\":\"16506\"},{\"id\":\"16544\"}],\"left\":[{\"id\":\"16503\"}],\"plot_height\":450,\"renderers\":[{\"id\":\"16524\"},{\"id\":\"16549\"},{\"id\":\"16554\"},{\"id\":\"16582\"}],\"title\":{\"id\":\"16489\"},\"toolbar\":{\"id\":\"16514\"},\"x_range\":{\"id\":\"16491\"},\"x_scale\":{\"id\":\"16495\"},\"y_range\":{\"id\":\"16493\"},\"y_scale\":{\"id\":\"16497\"}},\"id\":\"16488\",\"subtype\":\"Figure\",\"type\":\"Plot\"},{\"attributes\":{\"data\":{\"x\":{\"__ndarray__\":\"AAAAaVQrd0IAAMDOpit3QgAAgDT5K3dCAABAmkssd0IAAAAAnix3QgAAwGXwLHdCAACAy0Itd0IAAEAxlS13QgAAAJfnLXdCAADA/Dkud0IAAIBijC53QgAAQMjeLndCAAAALjEvd0IAAMCTgy93QgAAgPnVL3dC\",\"dtype\":\"float64\",\"shape\":[15]},\"y\":{\"__ndarray__\":\"dqEQRc71DEEvFO8IDf0MQXpTqJxNBA1BWEuwAJALDUGvBHs11BINQV+lfDsaGg1BQ3ApE2IhDUE5xfW8qygNQSghVjn3Lw1BDh6/iEQ3DUH8cqWrkz4NQSf0faLkRQ1B6ZK9bTdNDUHLXdkNjFQNQZCARoPiWw1B\",\"dtype\":\"float64\",\"shape\":[15]}},\"selected\":{\"id\":\"17076\"},\"selection_policy\":{\"id\":\"17075\"}},\"id\":\"16551\",\"type\":\"ColumnDataSource\"},{\"attributes\":{},\"id\":\"16588\",\"type\":\"NumeralTickFormatter\"},{\"attributes\":{},\"id\":\"16576\",\"type\":\"UnionRenderers\"},{\"attributes\":{},\"id\":\"16511\",\"type\":\"ResetTool\"},{\"attributes\":{\"fill_color\":{\"value\":\"white\"},\"line_color\":{\"value\":\"blue\"},\"size\":{\"units\":\"screen\",\"value\":6},\"x\":{\"field\":\"x\"},\"y\":{\"field\":\"y\"}},\"id\":\"16547\",\"type\":\"Circle\"},{\"attributes\":{\"data_source\":{\"id\":\"16579\"},\"glyph\":{\"id\":\"16580\"},\"hover_glyph\":null,\"muted_glyph\":null,\"nonselection_glyph\":{\"id\":\"16581\"},\"selection_glyph\":null,\"view\":{\"id\":\"16583\"}},\"id\":\"16582\",\"type\":\"GlyphRenderer\"},{\"attributes\":{\"base\":24,\"mantissas\":[1,2,4,6,8,12],\"max_interval\":43200000.0,\"min_interval\":3600000.0,\"num_minor_ticks\":0},\"id\":\"16534\",\"type\":\"AdaptiveTicker\"},{\"attributes\":{\"axis_label\":\"Date\",\"formatter\":{\"id\":\"16584\"},\"major_label_orientation\":0.7853981633974483,\"minor_tick_in\":-5,\"minor_tick_out\":-3,\"ticker\":{\"id\":\"16500\"}},\"id\":\"16499\",\"type\":\"DatetimeAxis\"},{\"attributes\":{},\"id\":\"16510\",\"type\":\"SaveTool\"},{\"attributes\":{\"data\":{\"x\":{\"__ndarray__\":\"AAAAaVQrd0IAAMDOpit3QgAAgDT5K3dCAABAmkssd0IAAAAAnix3QgAAwGXwLHdCAACAy0Itd0IAAEAxlS13QgAAAJfnLXdCAADA/Dkud0IAAIBijC53QgAAQMjeLndCAAAALjEvd0IAAMCTgy93QgAAgPnVL3dC\",\"dtype\":\"float64\",\"shape\":[15]},\"y\":[237290,237500,237828,238159,238011,238275,238499,238720,238833,239410,239706,239961,240136,240310,240436]},\"selected\":{\"id\":\"16575\"},\"selection_policy\":{\"id\":\"16574\"}},\"id\":\"16521\",\"type\":\"ColumnDataSource\"},{\"attributes\":{\"days\":[1,2,3,4,5,6,7,8,9,10,11,12,13,14,15,16,17,18,19,20,21,22,23,24,25,26,27,28,29,30,31]},\"id\":\"16535\",\"type\":\"DaysTicker\"},{\"attributes\":{\"data_source\":{\"id\":\"16546\"},\"glyph\":{\"id\":\"16547\"},\"hover_glyph\":null,\"muted_glyph\":null,\"nonselection_glyph\":{\"id\":\"16548\"},\"selection_glyph\":null,\"view\":{\"id\":\"16550\"}},\"id\":\"16549\",\"type\":\"GlyphRenderer\"},{\"attributes\":{},\"id\":\"16543\",\"type\":\"YearsTicker\"},{\"attributes\":{\"label\":{\"value\":\"logistic fitting\"},\"renderers\":[{\"id\":\"16554\"}]},\"id\":\"16578\",\"type\":\"LegendItem\"},{\"attributes\":{\"data\":{\"x\":{\"__ndarray__\":\"AAAAaVQrd0IAAMDOpit3QgAAgDT5K3dCAABAmkssd0IAAAAAnix3QgAAwGXwLHdCAACAy0Itd0IAAEAxlS13QgAAAJfnLXdCAADA/Dkud0IAAIBijC53QgAAQMjeLndCAAAALjEvd0IAAMCTgy93QgAAgPnVL3dC\",\"dtype\":\"float64\",\"shape\":[15]},\"y\":[237290,237500,237828,238159,238011,238275,238499,238720,238833,239410,239706,239961,240136,240310,240436]},\"selected\":{\"id\":\"16577\"},\"selection_policy\":{\"id\":\"16576\"}},\"id\":\"16546\",\"type\":\"ColumnDataSource\"},{\"attributes\":{},\"id\":\"16497\",\"type\":\"LinearScale\"},{\"attributes\":{},\"id\":\"16504\",\"type\":\"BasicTicker\"},{\"attributes\":{\"line_alpha\":0.1,\"line_color\":\"red\",\"line_width\":4,\"x\":{\"field\":\"x\"},\"y\":{\"field\":\"y\"}},\"id\":\"16553\",\"type\":\"Line\"},{\"attributes\":{\"days\":[1,15]},\"id\":\"16538\",\"type\":\"DaysTicker\"},{\"attributes\":{\"num_minor_ticks\":5,\"tickers\":[{\"id\":\"16532\"},{\"id\":\"16533\"},{\"id\":\"16534\"},{\"id\":\"16535\"},{\"id\":\"16536\"},{\"id\":\"16537\"},{\"id\":\"16538\"},{\"id\":\"16539\"},{\"id\":\"16540\"},{\"id\":\"16541\"},{\"id\":\"16542\"},{\"id\":\"16543\"}]},\"id\":\"16500\",\"type\":\"DatetimeTicker\"},{\"attributes\":{\"active_drag\":\"auto\",\"active_inspect\":\"auto\",\"active_multi\":null,\"active_scroll\":\"auto\",\"active_tap\":\"auto\",\"tools\":[{\"id\":\"16507\"},{\"id\":\"16508\"},{\"id\":\"16509\"},{\"id\":\"16510\"},{\"id\":\"16511\"},{\"id\":\"16512\"},{\"id\":\"16589\"}]},\"id\":\"16514\",\"type\":\"Toolbar\"},{\"attributes\":{\"fill_alpha\":{\"value\":0.1},\"fill_color\":{\"value\":\"white\"},\"line_alpha\":{\"value\":0.1},\"line_color\":{\"value\":\"red\"},\"size\":{\"units\":\"screen\",\"value\":6},\"x\":{\"field\":\"x\"},\"y\":{\"field\":\"y\"}},\"id\":\"16581\",\"type\":\"Circle\"},{\"attributes\":{\"base\":60,\"mantissas\":[1,2,5,10,15,20,30],\"max_interval\":1800000.0,\"min_interval\":1000.0,\"num_minor_ticks\":0},\"id\":\"16533\",\"type\":\"AdaptiveTicker\"},{\"attributes\":{\"months\":[0,6]},\"id\":\"16542\",\"type\":\"MonthsTicker\"},{\"attributes\":{\"items\":[{\"id\":\"16545\"},{\"id\":\"16578\"}],\"location\":\"top_left\"},\"id\":\"16544\",\"type\":\"Legend\"},{\"attributes\":{\"data_source\":{\"id\":\"16521\"},\"glyph\":{\"id\":\"16522\"},\"hover_glyph\":null,\"muted_glyph\":null,\"nonselection_glyph\":{\"id\":\"16523\"},\"selection_glyph\":null,\"view\":{\"id\":\"16525\"}},\"id\":\"16524\",\"type\":\"GlyphRenderer\"},{\"attributes\":{},\"id\":\"16574\",\"type\":\"UnionRenderers\"},{\"attributes\":{},\"id\":\"16575\",\"type\":\"Selection\"},{\"attributes\":{},\"id\":\"16508\",\"type\":\"WheelZoomTool\"},{\"attributes\":{\"line_color\":\"blue\",\"line_width\":4,\"x\":{\"field\":\"x\"},\"y\":{\"field\":\"y\"}},\"id\":\"16522\",\"type\":\"Line\"},{\"attributes\":{},\"id\":\"16577\",\"type\":\"Selection\"},{\"attributes\":{},\"id\":\"16491\",\"type\":\"DataRange1d\"},{\"attributes\":{\"source\":{\"id\":\"16521\"}},\"id\":\"16525\",\"type\":\"CDSView\"},{\"attributes\":{\"data\":{\"x\":{\"__ndarray__\":\"AAAAaVQrd0IAAMDOpit3QgAAgDT5K3dCAABAmkssd0IAAAAAnix3QgAAwGXwLHdCAACAy0Itd0IAAEAxlS13QgAAAJfnLXdCAADA/Dkud0IAAIBijC53QgAAQMjeLndCAAAALjEvd0IAAMCTgy93QgAAgPnVL3dC\",\"dtype\":\"float64\",\"shape\":[15]},\"y\":{\"__ndarray__\":\"dqEQRc71DEEvFO8IDf0MQXpTqJxNBA1BWEuwAJALDUGvBHs11BINQV+lfDsaGg1BQ3ApE2IhDUE5xfW8qygNQSghVjn3Lw1BDh6/iEQ3DUH8cqWrkz4NQSf0faLkRQ1B6ZK9bTdNDUHLXdkNjFQNQZCARoPiWw1B\",\"dtype\":\"float64\",\"shape\":[15]}},\"selected\":{\"id\":\"17078\"},\"selection_policy\":{\"id\":\"17077\"}},\"id\":\"16579\",\"type\":\"ColumnDataSource\"},{\"attributes\":{\"months\":[0,1,2,3,4,5,6,7,8,9,10,11]},\"id\":\"16539\",\"type\":\"MonthsTicker\"},{\"attributes\":{},\"id\":\"16493\",\"type\":\"DataRange1d\"},{\"attributes\":{},\"id\":\"17078\",\"type\":\"Selection\"},{\"attributes\":{\"text\":\"Logistic Fitting Total Cases: Italy\"},\"id\":\"16489\",\"type\":\"Title\"},{\"attributes\":{\"days\":[\"%d %B\"]},\"id\":\"16584\",\"type\":\"DatetimeTickFormatter\"},{\"attributes\":{\"source\":{\"id\":\"16546\"}},\"id\":\"16550\",\"type\":\"CDSView\"},{\"attributes\":{\"mantissas\":[1,2,5],\"max_interval\":500.0,\"num_minor_ticks\":0},\"id\":\"16532\",\"type\":\"AdaptiveTicker\"},{\"attributes\":{\"source\":{\"id\":\"16551\"}},\"id\":\"16555\",\"type\":\"CDSView\"},{\"attributes\":{\"source\":{\"id\":\"16579\"}},\"id\":\"16583\",\"type\":\"CDSView\"},{\"attributes\":{\"bottom_units\":\"screen\",\"fill_alpha\":0.5,\"fill_color\":\"lightgrey\",\"left_units\":\"screen\",\"level\":\"overlay\",\"line_alpha\":1.0,\"line_color\":\"black\",\"line_dash\":[4,4],\"line_width\":2,\"render_mode\":\"css\",\"right_units\":\"screen\",\"top_units\":\"screen\"},\"id\":\"16513\",\"type\":\"BoxAnnotation\"},{\"attributes\":{\"axis\":{\"id\":\"16503\"},\"dimension\":1,\"ticker\":null},\"id\":\"16506\",\"type\":\"Grid\"},{\"attributes\":{\"months\":[0,2,4,6,8,10]},\"id\":\"16540\",\"type\":\"MonthsTicker\"},{\"attributes\":{},\"id\":\"17075\",\"type\":\"UnionRenderers\"},{\"attributes\":{\"axis\":{\"id\":\"16499\"},\"ticker\":null},\"id\":\"16502\",\"type\":\"Grid\"},{\"attributes\":{\"label\":{\"value\":\"total cases\"},\"renderers\":[{\"id\":\"16524\"}]},\"id\":\"16545\",\"type\":\"LegendItem\"},{\"attributes\":{},\"id\":\"16495\",\"type\":\"LinearScale\"},{\"attributes\":{\"data_source\":{\"id\":\"16551\"},\"glyph\":{\"id\":\"16552\"},\"hover_glyph\":null,\"muted_glyph\":null,\"nonselection_glyph\":{\"id\":\"16553\"},\"selection_glyph\":null,\"view\":{\"id\":\"16555\"}},\"id\":\"16554\",\"type\":\"GlyphRenderer\"},{\"attributes\":{\"days\":[1,4,7,10,13,16,19,22,25,28]},\"id\":\"16536\",\"type\":\"DaysTicker\"},{\"attributes\":{\"axis_label\":\"Total Cases\",\"formatter\":{\"id\":\"16588\"},\"minor_tick_in\":-5,\"minor_tick_out\":-3,\"ticker\":{\"id\":\"16504\"}},\"id\":\"16503\",\"type\":\"LinearAxis\"},{\"attributes\":{\"callback\":null,\"formatters\":{\"@x\":\"datetime\"},\"mode\":\"vline\",\"tooltips\":[[\"date\",\"@x{%d %B}\"],[\"total cases OR logistic\",\"@y{0.}\"]]},\"id\":\"16589\",\"type\":\"HoverTool\"},{\"attributes\":{},\"id\":\"17076\",\"type\":\"Selection\"},{\"attributes\":{},\"id\":\"16507\",\"type\":\"PanTool\"},{\"attributes\":{\"line_alpha\":0.1,\"line_color\":\"blue\",\"line_width\":4,\"x\":{\"field\":\"x\"},\"y\":{\"field\":\"y\"}},\"id\":\"16523\",\"type\":\"Line\"},{\"attributes\":{\"fill_alpha\":{\"value\":0.1},\"fill_color\":{\"value\":\"white\"},\"line_alpha\":{\"value\":0.1},\"line_color\":{\"value\":\"blue\"},\"size\":{\"units\":\"screen\",\"value\":6},\"x\":{\"field\":\"x\"},\"y\":{\"field\":\"y\"}},\"id\":\"16548\",\"type\":\"Circle\"},{\"attributes\":{\"months\":[0,4,8]},\"id\":\"16541\",\"type\":\"MonthsTicker\"},{\"attributes\":{\"fill_color\":{\"value\":\"white\"},\"line_color\":{\"value\":\"red\"},\"size\":{\"units\":\"screen\",\"value\":6},\"x\":{\"field\":\"x\"},\"y\":{\"field\":\"y\"}},\"id\":\"16580\",\"type\":\"Circle\"},{\"attributes\":{},\"id\":\"16512\",\"type\":\"HelpTool\"},{\"attributes\":{\"line_color\":\"red\",\"line_width\":4,\"x\":{\"field\":\"x\"},\"y\":{\"field\":\"y\"}},\"id\":\"16552\",\"type\":\"Line\"},{\"attributes\":{},\"id\":\"17077\",\"type\":\"UnionRenderers\"},{\"attributes\":{\"overlay\":{\"id\":\"16513\"}},\"id\":\"16509\",\"type\":\"BoxZoomTool\"},{\"attributes\":{\"days\":[1,8,15,22]},\"id\":\"16537\",\"type\":\"DaysTicker\"}],\"root_ids\":[\"16488\"]},\"title\":\"Bokeh Application\",\"version\":\"2.0.2\"}};\n",
       "  var render_items = [{\"docid\":\"6d1c555a-4b9b-4834-9da8-d8eeb2210c41\",\"root_ids\":[\"16488\"],\"roots\":{\"16488\":\"7b73a931-3cb3-4bff-8d23-bb50e88abaac\"}}];\n",
       "  root.Bokeh.embed.embed_items_notebook(docs_json, render_items);\n",
       "\n",
       "  }\n",
       "  if (root.Bokeh !== undefined) {\n",
       "    embed_document(root);\n",
       "  } else {\n",
       "    var attempts = 0;\n",
       "    var timer = setInterval(function(root) {\n",
       "      if (root.Bokeh !== undefined) {\n",
       "        clearInterval(timer);\n",
       "        embed_document(root);\n",
       "      } else {\n",
       "        attempts++;\n",
       "        if (attempts > 100) {\n",
       "          clearInterval(timer);\n",
       "          console.log(\"Bokeh: ERROR: Unable to run BokehJS code because BokehJS library is missing\");\n",
       "        }\n",
       "      }\n",
       "    }, 10, root)\n",
       "  }\n",
       "})(window);"
      ],
      "application/vnd.bokehjs_exec.v0+json": ""
     },
     "metadata": {
      "application/vnd.bokehjs_exec.v0+json": {
       "id": "16488"
      }
     },
     "output_type": "display_data"
    }
   ],
   "source": [
    "pfit_2_total_cases_Italy = bokeh_plot_2_lines(x=time_date_new[fit_range_2:fit_range_3], y=total_cases_italy.loc[(fit_range_2):(fit_range_3-1)], yy=ydata_2, \n",
    "                  title='Logistic Fitting Total Cases: Italy', \n",
    "                  file_name=\"fit_2_total_cases_Italy.html\", \n",
    "                  x_label='Date', y_label='Total Cases', \n",
    "                  legend_1='total cases', legend_2='logistic fitting',\n",
    "                  x_label_hover='date' , y_label_hover='total cases OR logistic' , \n",
    "                  color_1='blue', color_2='red', y_minmax=None)\n",
    "\n",
    "show(pfit_2_total_cases_Italy)"
   ]
  },
  {
   "cell_type": "code",
   "execution_count": 79,
   "metadata": {},
   "outputs": [
    {
     "data": {
      "text/plain": [
       "0.9999919408515445"
      ]
     },
     "execution_count": 79,
     "metadata": {},
     "output_type": "execute_result"
    }
   ],
   "source": [
    "- cov[0,1] / (np.sqrt(np.diag(cov)[0] * np.diag(cov)[1])) # Correlation coefficient for parameters 'K' and 'r'"
   ]
  },
  {
   "cell_type": "code",
   "execution_count": 80,
   "metadata": {},
   "outputs": [
    {
     "data": {
      "text/plain": [
       "0.9970767370072513"
      ]
     },
     "execution_count": 80,
     "metadata": {},
     "output_type": "execute_result"
    }
   ],
   "source": [
    "cov[0,2] / (np.sqrt(np.diag(cov)[0] * np.diag(cov)[2])) # Correlation coefficient for parameters 'K' and 'P_0'"
   ]
  },
  {
   "cell_type": "code",
   "execution_count": 81,
   "metadata": {},
   "outputs": [
    {
     "data": {
      "text/plain": [
       "0.9973752255331627"
      ]
     },
     "execution_count": 81,
     "metadata": {},
     "output_type": "execute_result"
    }
   ],
   "source": [
    "- cov[1,2] / (np.sqrt(np.diag(cov)[1] * np.diag(cov)[2])) # Correlation coefficient for parameters 'r' and 'P_0'"
   ]
  },
  {
   "cell_type": "code",
   "execution_count": 82,
   "metadata": {},
   "outputs": [
    {
     "data": {
      "text/plain": [
       "0.9815188261233658"
      ]
     },
     "execution_count": 82,
     "metadata": {},
     "output_type": "execute_result"
    }
   ],
   "source": [
    "residuals_2 = total_cases_italy.loc[(fit_range_2):(fit_range_3-1)] - ydata_2  #  Calculation of R^2\n",
    "ss_res_2 = np.sum(residuals_2**2)\n",
    "ss_tot_2 = np.sum((total_cases_italy.loc[(fit_range_2):(fit_range_3-1)] - np.mean(total_cases_italy.loc[(fit_range_2):(fit_range_3-1)]))**2)\n",
    "r_squared_2 = 1 - (ss_res_2 / ss_tot_2)\n",
    "r_squared_2"
   ]
  },
  {
   "cell_type": "markdown",
   "metadata": {},
   "source": [
    "---------------"
   ]
  },
  {
   "cell_type": "code",
   "execution_count": 83,
   "metadata": {},
   "outputs": [
    {
     "name": "stderr",
     "output_type": "stream",
     "text": [
      "/Users/Angelo/opt/anaconda3/lib/python3.7/site-packages/ipykernel_launcher.py:8: RuntimeWarning: divide by zero encountered in double_scalars\n",
      "  \n"
     ]
    }
   ],
   "source": [
    "max_population = []\n",
    "max_population_up = []\n",
    "max_population_down = []\n",
    "\n",
    "# iii = len(total_cases_italy)\n",
    "iii = 15\n",
    "\n",
    "while (iii <= len(total_cases_italy)):\n",
    "    fit_range_2 = iii - 15\n",
    "    fit_range_3 = iii\n",
    "    xdata_2 = np.linspace(fit_range_2, fit_range_3, fit_range_3 - fit_range_2)\n",
    "    init_guess = [500000,0.001,0]\n",
    "    fit = curve_fit(model_population, xdata_2, total_cases_italy.loc[fit_range_2:(fit_range_3-1)], p0=init_guess, maxfev=10000)\n",
    "    ans, cov = fit\n",
    "    fit_K, fit_r, fit_P_0 = ans\n",
    "    max_population.append(fit_K)\n",
    "    max_population_up.append(fit_K + np.sqrt(np.diag(cov))[0])\n",
    "    max_population_down.append(fit_K - np.sqrt(np.diag(cov))[0])\n",
    "    iii = iii + 1"
   ]
  },
  {
   "cell_type": "code",
   "execution_count": 84,
   "metadata": {},
   "outputs": [
    {
     "data": {
      "text/plain": [
       "113"
      ]
     },
     "execution_count": 84,
     "metadata": {},
     "output_type": "execute_result"
    }
   ],
   "source": [
    "len(max_population)"
   ]
  },
  {
   "cell_type": "code",
   "execution_count": 85,
   "metadata": {},
   "outputs": [
    {
     "name": "stderr",
     "output_type": "stream",
     "text": [
      "BokehUserWarning: ColumnDataSource's columns must be of the same length. Current lengths: ('x', 127), ('y', 113)\n",
      "BokehUserWarning: ColumnDataSource's columns must be of the same length. Current lengths: ('x', 127), ('y', 113)\n"
     ]
    },
    {
     "data": {
      "text/html": [
       "\n",
       "\n",
       "\n",
       "\n",
       "\n",
       "\n",
       "  <div class=\"bk-root\" id=\"053e69e0-d141-4fe0-8511-4310037e274e\" data-root-id=\"17536\"></div>\n"
      ]
     },
     "metadata": {},
     "output_type": "display_data"
    },
    {
     "data": {
      "application/javascript": [
       "(function(root) {\n",
       "  function embed_document(root) {\n",
       "    \n",
       "  var docs_json = {\"945d2f75-43b3-4977-b941-2e20436d31a1\":{\"roots\":{\"references\":[{\"attributes\":{\"below\":[{\"id\":\"17547\"}],\"center\":[{\"id\":\"17550\"},{\"id\":\"17554\"},{\"id\":\"17592\"}],\"left\":[{\"id\":\"17551\"}],\"plot_height\":450,\"renderers\":[{\"id\":\"17572\"},{\"id\":\"17597\"}],\"title\":{\"id\":\"17537\"},\"toolbar\":{\"id\":\"17562\"},\"x_range\":{\"id\":\"17539\"},\"x_scale\":{\"id\":\"17543\"},\"y_range\":{\"id\":\"17541\"},\"y_scale\":{\"id\":\"17545\"}},\"id\":\"17536\",\"subtype\":\"Figure\",\"type\":\"Plot\"},{\"attributes\":{},\"id\":\"17591\",\"type\":\"YearsTicker\"},{\"attributes\":{\"bottom_units\":\"screen\",\"fill_alpha\":0.5,\"fill_color\":\"lightgrey\",\"left_units\":\"screen\",\"level\":\"overlay\",\"line_alpha\":1.0,\"line_color\":\"black\",\"line_dash\":[4,4],\"line_width\":2,\"render_mode\":\"css\",\"right_units\":\"screen\",\"top_units\":\"screen\"},\"id\":\"17561\",\"type\":\"BoxAnnotation\"},{\"attributes\":{\"axis\":{\"id\":\"17551\"},\"dimension\":1,\"ticker\":null},\"id\":\"17554\",\"type\":\"Grid\"},{\"attributes\":{\"axis\":{\"id\":\"17547\"},\"ticker\":null},\"id\":\"17550\",\"type\":\"Grid\"},{\"attributes\":{\"data\":{\"x\":{\"__ndarray__\":\"AACAdckLd0IAAEDbGwx3QgAAAEFuDHdCAADApsAMd0IAAIAMEw13QgAAQHJlDXdCAAAA2LcNd0IAAMA9Cg53QgAAgKNcDndCAABACa8Od0IAAABvAQ93QgAAwNRTD3dCAACAOqYPd0IAAECg+A93QgAAAAZLEHdCAADAa50Qd0IAAIDR7xB3QgAAQDdCEXdCAAAAnZQRd0IAAMAC5xF3QgAAgGg5EndCAABAzosSd0IAAAA03hJ3QgAAwJkwE3dCAACA/4ITd0IAAEBl1RN3QgAAAMsnFHdCAADAMHoUd0IAAICWzBR3QgAAQPweFXdCAAAAYnEVd0IAAMDHwxV3QgAAgC0WFndCAABAk2gWd0IAAAD5uhZ3QgAAwF4NF3dCAACAxF8Xd0IAAEAqshd3QgAAAJAEGHdCAADA9VYYd0IAAIBbqRh3QgAAQMH7GHdCAAAAJ04Zd0IAAMCMoBl3QgAAgPLyGXdCAABAWEUad0IAAAC+lxp3QgAAwCPqGndCAACAiTwbd0IAAEDvjht3QgAAAFXhG3dCAADAujMcd0IAAIAghhx3QgAAQIbYHHdCAAAA7Codd0IAAMBRfR13QgAAgLfPHXdCAABAHSIed0IAAACDdB53QgAAwOjGHndCAACAThkfd0IAAEC0ax93QgAAABq+H3dCAADAfxAgd0IAAIDlYiB3QgAAQEu1IHdCAAAAsQchd0IAAMAWWiF3QgAAgHysIXdCAABA4v4hd0IAAABIUSJ3QgAAwK2jIndCAACAE/Yid0IAAEB5SCN3QgAAAN+aI3dCAADARO0jd0IAAICqPyR3QgAAQBCSJHdCAAAAduQkd0IAAMDbNiV3QgAAgEGJJXdCAABAp9sld0IAAAANLiZ3QgAAwHKAJndCAACA2NImd0IAAEA+JSd3QgAAAKR3J3dCAADACcond0IAAIBvHCh3QgAAQNVuKHdCAAAAO8Eod0IAAMCgEyl3QgAAgAZmKXdCAABAbLgpd0IAAADSCip3QgAAwDddKndCAACAna8qd0IAAEADAit3QgAAAGlUK3dCAADAzqYrd0IAAIA0+St3QgAAQJpLLHdCAAAAAJ4sd0IAAMBl8Cx3QgAAgMtCLXdCAABAMZUtd0IAAACX5y13QgAAwPw5LndCAACAYowud0IAAEDI3i53QgAAAC4xL3dCAADAk4Mvd0IAAID51S93QgAAQF8oMHdCAAAAxXowd0IAAMAqzTB3QgAAgJAfMXdCAABA9nExd0IAAABcxDF3QgAAwMEWMndCAACAJ2kyd0IAAECNuzJ3QgAAAPMNM3dCAADAWGAzd0IAAIC+sjN3QgAAQCQFNHdCAAAAilc0d0I=\",\"dtype\":\"float64\",\"shape\":[127]},\"y\":[56478.01575580371,24583.77912227274,30685.15420726601,46826.59514105012,53329.08700758159,74233.09149450295,87219.86131064052,73027.73630970358,67006.19850587512,69565.84133555055,82774.85701584803,106313.20310471767,142085.23578711355,148049.07947912067,131191.63677368296,121184.83023439659,118656.34219589637,121670.50390297288,126056.67364481365,132205.3849850846,135565.65392889993,134786.44427582872,134521.07871898808,137414.18231022937,142572.83155211608,148841.51245276246,156065.4311300869,161106.08989490973,163925.22306472965,166072.43933577856,170305.34587481103,178897.33718563078,188867.6174918845,203843.22026789814,217070.77896056394,220171.02106567955,221187.8991970876,221517.6819434537,226400.04684802738,232794.07793409855,240131.17995140795,239540.9564782476,229618.50293991837,223751.2540064661,228144.57847383892,235116.51091770307,246422.97525667073,258604.8376873686,258419.75722686347,245503.1550678486,237449.6359037941,233879.287510315,235005.1660143534,235865.82485456162,236741.21876605743,234328.48934527492,230784.96816347417,229640.7293637448,230957.63336201524,231844.9765356494,234049.12234075853,234143.16595075227,233105.14525010553,231137.02262891876,232627.96399807322,234613.10451786793,237387.01319176125,240659.94291903713,243220.109531155,241387.3543733829,238087.60921274056,237117.54579708472,238099.60329364086,239078.28305073266,239641.22938971192,239404.57727575154,238559.76789832977,237906.7451706942,239186.20839485523,239475.5318170175,241194.10367247046,242558.83770657255,243710.25947749708,242415.11928143125,239944.0382130659,239753.00938183177,239275.68860826138,238520.1239621138,239088.67886271284,239421.02457157438,238744.16568075586,238143.47814406638,238573.62316533597,240027.2726336548,244755.79838648348,249781.39043182303,257993.08893654347,270005.00186947174,269427.3286686133,282336.3842731011,468508.6632640779,282427970.1712575,283100.768556297,248328.73275159477,243703.9713623735,242547.56092989797,241519.47842861232,243050.4056246866,252313.88841642998,26788512.793035716,251473808.00753853,578540058.0298903,667726734.056448]},\"selected\":{\"id\":\"18111\"},\"selection_policy\":{\"id\":\"18110\"}},\"id\":\"17569\",\"type\":\"ColumnDataSource\"},{\"attributes\":{\"base\":60,\"mantissas\":[1,2,5,10,15,20,30],\"max_interval\":1800000.0,\"min_interval\":1000.0,\"num_minor_ticks\":0},\"id\":\"17581\",\"type\":\"AdaptiveTicker\"},{\"attributes\":{\"items\":[{\"id\":\"17593\"}],\"location\":\"top_left\"},\"id\":\"17592\",\"type\":\"Legend\"},{\"attributes\":{\"fill_color\":{\"value\":\"white\"},\"line_color\":{\"value\":\"blue\"},\"size\":{\"units\":\"screen\",\"value\":6},\"x\":{\"field\":\"x\"},\"y\":{\"field\":\"y\"}},\"id\":\"17595\",\"type\":\"Circle\"},{\"attributes\":{\"source\":{\"id\":\"17594\"}},\"id\":\"17598\",\"type\":\"CDSView\"},{\"attributes\":{},\"id\":\"17559\",\"type\":\"ResetTool\"},{\"attributes\":{},\"id\":\"18110\",\"type\":\"UnionRenderers\"},{\"attributes\":{\"text\":\"Total Cases MAX: Italy\"},\"id\":\"17537\",\"type\":\"Title\"},{\"attributes\":{},\"id\":\"18113\",\"type\":\"Selection\"},{\"attributes\":{\"mantissas\":[1,2,5],\"max_interval\":500.0,\"num_minor_ticks\":0},\"id\":\"17580\",\"type\":\"AdaptiveTicker\"},{\"attributes\":{},\"id\":\"17543\",\"type\":\"LinearScale\"},{\"attributes\":{\"source\":{\"id\":\"17569\"}},\"id\":\"17573\",\"type\":\"CDSView\"},{\"attributes\":{},\"id\":\"17545\",\"type\":\"LinearScale\"},{\"attributes\":{\"end\":300000},\"id\":\"17541\",\"type\":\"Range1d\"},{\"attributes\":{},\"id\":\"17603\",\"type\":\"NumeralTickFormatter\"},{\"attributes\":{\"axis_label\":\"Total Cases MAX\",\"formatter\":{\"id\":\"17603\"},\"minor_tick_in\":-5,\"minor_tick_out\":-3,\"ticker\":{\"id\":\"17552\"}},\"id\":\"17551\",\"type\":\"LinearAxis\"},{\"attributes\":{\"data\":{\"x\":{\"__ndarray__\":\"AACAdckLd0IAAEDbGwx3QgAAAEFuDHdCAADApsAMd0IAAIAMEw13QgAAQHJlDXdCAAAA2LcNd0IAAMA9Cg53QgAAgKNcDndCAABACa8Od0IAAABvAQ93QgAAwNRTD3dCAACAOqYPd0IAAECg+A93QgAAAAZLEHdCAADAa50Qd0IAAIDR7xB3QgAAQDdCEXdCAAAAnZQRd0IAAMAC5xF3QgAAgGg5EndCAABAzosSd0IAAAA03hJ3QgAAwJkwE3dCAACA/4ITd0IAAEBl1RN3QgAAAMsnFHdCAADAMHoUd0IAAICWzBR3QgAAQPweFXdCAAAAYnEVd0IAAMDHwxV3QgAAgC0WFndCAABAk2gWd0IAAAD5uhZ3QgAAwF4NF3dCAACAxF8Xd0IAAEAqshd3QgAAAJAEGHdCAADA9VYYd0IAAIBbqRh3QgAAQMH7GHdCAAAAJ04Zd0IAAMCMoBl3QgAAgPLyGXdCAABAWEUad0IAAAC+lxp3QgAAwCPqGndCAACAiTwbd0IAAEDvjht3QgAAAFXhG3dCAADAujMcd0IAAIAghhx3QgAAQIbYHHdCAAAA7Codd0IAAMBRfR13QgAAgLfPHXdCAABAHSIed0IAAACDdB53QgAAwOjGHndCAACAThkfd0IAAEC0ax93QgAAABq+H3dCAADAfxAgd0IAAIDlYiB3QgAAQEu1IHdCAAAAsQchd0IAAMAWWiF3QgAAgHysIXdCAABA4v4hd0IAAABIUSJ3QgAAwK2jIndCAACAE/Yid0IAAEB5SCN3QgAAAN+aI3dCAADARO0jd0IAAICqPyR3QgAAQBCSJHdCAAAAduQkd0IAAMDbNiV3QgAAgEGJJXdCAABAp9sld0IAAAANLiZ3QgAAwHKAJndCAACA2NImd0IAAEA+JSd3QgAAAKR3J3dCAADACcond0IAAIBvHCh3QgAAQNVuKHdCAAAAO8Eod0IAAMCgEyl3QgAAgAZmKXdCAABAbLgpd0IAAADSCip3QgAAwDddKndCAACAna8qd0IAAEADAit3QgAAAGlUK3dCAADAzqYrd0IAAIA0+St3QgAAQJpLLHdCAAAAAJ4sd0IAAMBl8Cx3QgAAgMtCLXdCAABAMZUtd0IAAACX5y13QgAAwPw5LndCAACAYowud0IAAEDI3i53QgAAAC4xL3dCAADAk4Mvd0IAAID51S93QgAAQF8oMHdCAAAAxXowd0IAAMAqzTB3QgAAgJAfMXdCAABA9nExd0IAAABcxDF3QgAAwMEWMndCAACAJ2kyd0IAAECNuzJ3QgAAAPMNM3dCAADAWGAzd0IAAIC+sjN3QgAAQCQFNHdCAAAAilc0d0I=\",\"dtype\":\"float64\",\"shape\":[127]},\"y\":[56478.01575580371,24583.77912227274,30685.15420726601,46826.59514105012,53329.08700758159,74233.09149450295,87219.86131064052,73027.73630970358,67006.19850587512,69565.84133555055,82774.85701584803,106313.20310471767,142085.23578711355,148049.07947912067,131191.63677368296,121184.83023439659,118656.34219589637,121670.50390297288,126056.67364481365,132205.3849850846,135565.65392889993,134786.44427582872,134521.07871898808,137414.18231022937,142572.83155211608,148841.51245276246,156065.4311300869,161106.08989490973,163925.22306472965,166072.43933577856,170305.34587481103,178897.33718563078,188867.6174918845,203843.22026789814,217070.77896056394,220171.02106567955,221187.8991970876,221517.6819434537,226400.04684802738,232794.07793409855,240131.17995140795,239540.9564782476,229618.50293991837,223751.2540064661,228144.57847383892,235116.51091770307,246422.97525667073,258604.8376873686,258419.75722686347,245503.1550678486,237449.6359037941,233879.287510315,235005.1660143534,235865.82485456162,236741.21876605743,234328.48934527492,230784.96816347417,229640.7293637448,230957.63336201524,231844.9765356494,234049.12234075853,234143.16595075227,233105.14525010553,231137.02262891876,232627.96399807322,234613.10451786793,237387.01319176125,240659.94291903713,243220.109531155,241387.3543733829,238087.60921274056,237117.54579708472,238099.60329364086,239078.28305073266,239641.22938971192,239404.57727575154,238559.76789832977,237906.7451706942,239186.20839485523,239475.5318170175,241194.10367247046,242558.83770657255,243710.25947749708,242415.11928143125,239944.0382130659,239753.00938183177,239275.68860826138,238520.1239621138,239088.67886271284,239421.02457157438,238744.16568075586,238143.47814406638,238573.62316533597,240027.2726336548,244755.79838648348,249781.39043182303,257993.08893654347,270005.00186947174,269427.3286686133,282336.3842731011,468508.6632640779,282427970.1712575,283100.768556297,248328.73275159477,243703.9713623735,242547.56092989797,241519.47842861232,243050.4056246866,252313.88841642998,26788512.793035716,251473808.00753853,578540058.0298903,667726734.056448]},\"selected\":{\"id\":\"18113\"},\"selection_policy\":{\"id\":\"18112\"}},\"id\":\"17594\",\"type\":\"ColumnDataSource\"},{\"attributes\":{\"callback\":null,\"formatters\":{\"@x\":\"datetime\"},\"mode\":\"vline\",\"tooltips\":[[\"date\",\"@x{%d %B}\"],[\"total cases max\",\"@y{0.}\"]]},\"id\":\"17604\",\"type\":\"HoverTool\"},{\"attributes\":{\"line_color\":\"blue\",\"line_width\":4,\"x\":{\"field\":\"x\"},\"y\":{\"field\":\"y\"}},\"id\":\"17570\",\"type\":\"Line\"},{\"attributes\":{\"base\":24,\"mantissas\":[1,2,4,6,8,12],\"max_interval\":43200000.0,\"min_interval\":3600000.0,\"num_minor_ticks\":0},\"id\":\"17582\",\"type\":\"AdaptiveTicker\"},{\"attributes\":{\"line_alpha\":0.1,\"line_color\":\"blue\",\"line_width\":4,\"x\":{\"field\":\"x\"},\"y\":{\"field\":\"y\"}},\"id\":\"17571\",\"type\":\"Line\"},{\"attributes\":{},\"id\":\"17539\",\"type\":\"DataRange1d\"},{\"attributes\":{\"data_source\":{\"id\":\"17594\"},\"glyph\":{\"id\":\"17595\"},\"hover_glyph\":null,\"muted_glyph\":null,\"nonselection_glyph\":{\"id\":\"17596\"},\"selection_glyph\":null,\"view\":{\"id\":\"17598\"}},\"id\":\"17597\",\"type\":\"GlyphRenderer\"},{\"attributes\":{},\"id\":\"17556\",\"type\":\"WheelZoomTool\"},{\"attributes\":{\"data_source\":{\"id\":\"17569\"},\"glyph\":{\"id\":\"17570\"},\"hover_glyph\":null,\"muted_glyph\":null,\"nonselection_glyph\":{\"id\":\"17571\"},\"selection_glyph\":null,\"view\":{\"id\":\"17573\"}},\"id\":\"17572\",\"type\":\"GlyphRenderer\"},{\"attributes\":{},\"id\":\"17552\",\"type\":\"BasicTicker\"},{\"attributes\":{\"months\":[0,1,2,3,4,5,6,7,8,9,10,11]},\"id\":\"17587\",\"type\":\"MonthsTicker\"},{\"attributes\":{},\"id\":\"18111\",\"type\":\"Selection\"},{\"attributes\":{\"axis_label\":\"Date\",\"formatter\":{\"id\":\"17599\"},\"major_label_orientation\":0.7853981633974483,\"minor_tick_in\":-5,\"minor_tick_out\":-3,\"ticker\":{\"id\":\"17548\"}},\"id\":\"17547\",\"type\":\"DatetimeAxis\"},{\"attributes\":{\"months\":[0,6]},\"id\":\"17590\",\"type\":\"MonthsTicker\"},{\"attributes\":{},\"id\":\"17558\",\"type\":\"SaveTool\"},{\"attributes\":{\"months\":[0,2,4,6,8,10]},\"id\":\"17588\",\"type\":\"MonthsTicker\"},{\"attributes\":{\"days\":[1,4,7,10,13,16,19,22,25,28]},\"id\":\"17584\",\"type\":\"DaysTicker\"},{\"attributes\":{},\"id\":\"17560\",\"type\":\"HelpTool\"},{\"attributes\":{\"num_minor_ticks\":5,\"tickers\":[{\"id\":\"17580\"},{\"id\":\"17581\"},{\"id\":\"17582\"},{\"id\":\"17583\"},{\"id\":\"17584\"},{\"id\":\"17585\"},{\"id\":\"17586\"},{\"id\":\"17587\"},{\"id\":\"17588\"},{\"id\":\"17589\"},{\"id\":\"17590\"},{\"id\":\"17591\"}]},\"id\":\"17548\",\"type\":\"DatetimeTicker\"},{\"attributes\":{\"days\":[1,2,3,4,5,6,7,8,9,10,11,12,13,14,15,16,17,18,19,20,21,22,23,24,25,26,27,28,29,30,31]},\"id\":\"17583\",\"type\":\"DaysTicker\"},{\"attributes\":{\"days\":[1,8,15,22]},\"id\":\"17585\",\"type\":\"DaysTicker\"},{\"attributes\":{\"overlay\":{\"id\":\"17561\"}},\"id\":\"17557\",\"type\":\"BoxZoomTool\"},{\"attributes\":{\"months\":[0,4,8]},\"id\":\"17589\",\"type\":\"MonthsTicker\"},{\"attributes\":{\"active_drag\":\"auto\",\"active_inspect\":\"auto\",\"active_multi\":null,\"active_scroll\":\"auto\",\"active_tap\":\"auto\",\"tools\":[{\"id\":\"17555\"},{\"id\":\"17556\"},{\"id\":\"17557\"},{\"id\":\"17558\"},{\"id\":\"17559\"},{\"id\":\"17560\"},{\"id\":\"17604\"}]},\"id\":\"17562\",\"type\":\"Toolbar\"},{\"attributes\":{\"days\":[1,15]},\"id\":\"17586\",\"type\":\"DaysTicker\"},{\"attributes\":{\"days\":[\"%d %B\"]},\"id\":\"17599\",\"type\":\"DatetimeTickFormatter\"},{\"attributes\":{\"label\":{\"value\":\"total cases max\"},\"renderers\":[{\"id\":\"17572\"}]},\"id\":\"17593\",\"type\":\"LegendItem\"},{\"attributes\":{},\"id\":\"18112\",\"type\":\"UnionRenderers\"},{\"attributes\":{\"fill_alpha\":{\"value\":0.1},\"fill_color\":{\"value\":\"white\"},\"line_alpha\":{\"value\":0.1},\"line_color\":{\"value\":\"blue\"},\"size\":{\"units\":\"screen\",\"value\":6},\"x\":{\"field\":\"x\"},\"y\":{\"field\":\"y\"}},\"id\":\"17596\",\"type\":\"Circle\"},{\"attributes\":{},\"id\":\"17555\",\"type\":\"PanTool\"}],\"root_ids\":[\"17536\"]},\"title\":\"Bokeh Application\",\"version\":\"2.0.2\"}};\n",
       "  var render_items = [{\"docid\":\"945d2f75-43b3-4977-b941-2e20436d31a1\",\"root_ids\":[\"17536\"],\"roots\":{\"17536\":\"053e69e0-d141-4fe0-8511-4310037e274e\"}}];\n",
       "  root.Bokeh.embed.embed_items_notebook(docs_json, render_items);\n",
       "\n",
       "  }\n",
       "  if (root.Bokeh !== undefined) {\n",
       "    embed_document(root);\n",
       "  } else {\n",
       "    var attempts = 0;\n",
       "    var timer = setInterval(function(root) {\n",
       "      if (root.Bokeh !== undefined) {\n",
       "        clearInterval(timer);\n",
       "        embed_document(root);\n",
       "      } else {\n",
       "        attempts++;\n",
       "        if (attempts > 100) {\n",
       "          clearInterval(timer);\n",
       "          console.log(\"Bokeh: ERROR: Unable to run BokehJS code because BokehJS library is missing\");\n",
       "        }\n",
       "      }\n",
       "    }, 10, root)\n",
       "  }\n",
       "})(window);"
      ],
      "application/vnd.bokehjs_exec.v0+json": ""
     },
     "metadata": {
      "application/vnd.bokehjs_exec.v0+json": {
       "id": "17536"
      }
     },
     "output_type": "display_data"
    }
   ],
   "source": [
    "p_new_positive_MAX_Italy = bokeh_plot_1_line(x=time_date_new + 14, y=max_population, \n",
    "                  title='Total Cases MAX: Italy', \n",
    "                  file_name=\"total_cases_MAX_Italy.html\", \n",
    "                  x_label='Date', \n",
    "                  y_label='Total Cases MAX', legend='total cases max',\n",
    "                  x_label_hover='date', y_label_hover='total cases max',\n",
    "                  color='blue', y_minmax=(0,300000))\n",
    "\n",
    "show(p_new_positive_MAX_Italy)"
   ]
  },
  {
   "cell_type": "code",
   "execution_count": 86,
   "metadata": {},
   "outputs": [
    {
     "name": "stderr",
     "output_type": "stream",
     "text": [
      "BokehUserWarning: ColumnDataSource's columns must be of the same length. Current lengths: ('x', 127), ('y', 113)\n",
      "BokehUserWarning: ColumnDataSource's columns must be of the same length. Current lengths: ('x', 127), ('y', 113)\n",
      "BokehUserWarning: ColumnDataSource's columns must be of the same length. Current lengths: ('x', 127), ('y', 113)\n",
      "BokehUserWarning: ColumnDataSource's columns must be of the same length. Current lengths: ('x', 127), ('y', 113)\n",
      "BokehUserWarning: ColumnDataSource's columns must be of the same length. Current lengths: ('x', 127), ('y', 113)\n",
      "BokehUserWarning: ColumnDataSource's columns must be of the same length. Current lengths: ('x', 127), ('y', 113)\n"
     ]
    },
    {
     "data": {
      "text/html": [
       "\n",
       "\n",
       "\n",
       "\n",
       "\n",
       "\n",
       "  <div class=\"bk-root\" id=\"718d5817-9d8d-46a9-87ca-97436a3a3fed\" data-root-id=\"18495\"></div>\n"
      ]
     },
     "metadata": {},
     "output_type": "display_data"
    },
    {
     "data": {
      "application/javascript": [
       "(function(root) {\n",
       "  function embed_document(root) {\n",
       "    \n",
       "  var docs_json = {\"172b3470-bcfc-4b09-80db-4dd16c7d5d0a\":{\"roots\":{\"references\":[{\"attributes\":{\"below\":[{\"id\":\"18506\"}],\"center\":[{\"id\":\"18509\"},{\"id\":\"18513\"},{\"id\":\"18551\"}],\"left\":[{\"id\":\"18510\"}],\"plot_height\":450,\"renderers\":[{\"id\":\"18531\"},{\"id\":\"18556\"},{\"id\":\"18561\"},{\"id\":\"18589\"},{\"id\":\"18594\"},{\"id\":\"18626\"}],\"title\":{\"id\":\"18496\"},\"toolbar\":{\"id\":\"18521\"},\"x_range\":{\"id\":\"18498\"},\"x_scale\":{\"id\":\"18502\"},\"y_range\":{\"id\":\"18500\"},\"y_scale\":{\"id\":\"18504\"}},\"id\":\"18495\",\"subtype\":\"Figure\",\"type\":\"Plot\"},{\"attributes\":{\"fill_color\":{\"value\":\"white\"},\"line_color\":{\"value\":\"lightcoral\"},\"size\":{\"units\":\"screen\",\"value\":5},\"x\":{\"field\":\"x\"},\"y\":{\"field\":\"y\"}},\"id\":\"18587\",\"type\":\"Circle\"},{\"attributes\":{\"mantissas\":[1,2,5],\"max_interval\":500.0,\"num_minor_ticks\":0},\"id\":\"18539\",\"type\":\"AdaptiveTicker\"},{\"attributes\":{},\"id\":\"18584\",\"type\":\"Selection\"},{\"attributes\":{\"base\":24,\"mantissas\":[1,2,4,6,8,12],\"max_interval\":43200000.0,\"min_interval\":3600000.0,\"num_minor_ticks\":0},\"id\":\"18541\",\"type\":\"AdaptiveTicker\"},{\"attributes\":{},\"id\":\"18581\",\"type\":\"UnionRenderers\"},{\"attributes\":{\"base\":60,\"mantissas\":[1,2,5,10,15,20,30],\"max_interval\":1800000.0,\"min_interval\":1000.0,\"num_minor_ticks\":0},\"id\":\"18540\",\"type\":\"AdaptiveTicker\"},{\"attributes\":{},\"id\":\"18618\",\"type\":\"UnionRenderers\"},{\"attributes\":{\"data\":{\"x\":{\"__ndarray__\":\"AACAdckLd0IAAEDbGwx3QgAAAEFuDHdCAADApsAMd0IAAIAMEw13QgAAQHJlDXdCAAAA2LcNd0IAAMA9Cg53QgAAgKNcDndCAABACa8Od0IAAABvAQ93QgAAwNRTD3dCAACAOqYPd0IAAECg+A93QgAAAAZLEHdCAADAa50Qd0IAAIDR7xB3QgAAQDdCEXdCAAAAnZQRd0IAAMAC5xF3QgAAgGg5EndCAABAzosSd0IAAAA03hJ3QgAAwJkwE3dCAACA/4ITd0IAAEBl1RN3QgAAAMsnFHdCAADAMHoUd0IAAICWzBR3QgAAQPweFXdCAAAAYnEVd0IAAMDHwxV3QgAAgC0WFndCAABAk2gWd0IAAAD5uhZ3QgAAwF4NF3dCAACAxF8Xd0IAAEAqshd3QgAAAJAEGHdCAADA9VYYd0IAAIBbqRh3QgAAQMH7GHdCAAAAJ04Zd0IAAMCMoBl3QgAAgPLyGXdCAABAWEUad0IAAAC+lxp3QgAAwCPqGndCAACAiTwbd0IAAEDvjht3QgAAAFXhG3dCAADAujMcd0IAAIAghhx3QgAAQIbYHHdCAAAA7Codd0IAAMBRfR13QgAAgLfPHXdCAABAHSIed0IAAACDdB53QgAAwOjGHndCAACAThkfd0IAAEC0ax93QgAAABq+H3dCAADAfxAgd0IAAIDlYiB3QgAAQEu1IHdCAAAAsQchd0IAAMAWWiF3QgAAgHysIXdCAABA4v4hd0IAAABIUSJ3QgAAwK2jIndCAACAE/Yid0IAAEB5SCN3QgAAAN+aI3dCAADARO0jd0IAAICqPyR3QgAAQBCSJHdCAAAAduQkd0IAAMDbNiV3QgAAgEGJJXdCAABAp9sld0IAAAANLiZ3QgAAwHKAJndCAACA2NImd0IAAEA+JSd3QgAAAKR3J3dCAADACcond0IAAIBvHCh3QgAAQNVuKHdCAAAAO8Eod0IAAMCgEyl3QgAAgAZmKXdCAABAbLgpd0IAAADSCip3QgAAwDddKndCAACAna8qd0IAAEADAit3QgAAAGlUK3dCAADAzqYrd0IAAIA0+St3QgAAQJpLLHdCAAAAAJ4sd0IAAMBl8Cx3QgAAgMtCLXdCAABAMZUtd0IAAACX5y13QgAAwPw5LndCAACAYowud0IAAEDI3i53QgAAAC4xL3dCAADAk4Mvd0IAAID51S93QgAAQF8oMHdCAAAAxXowd0IAAMAqzTB3QgAAgJAfMXdCAABA9nExd0IAAABcxDF3QgAAwMEWMndCAACAJ2kyd0IAAECNuzJ3QgAAAPMNM3dCAADAWGAzd0IAAIC+sjN3QgAAQCQFNHdCAAAAilc0d0I=\",\"dtype\":\"float64\",\"shape\":[127]},\"y\":[56478.01575580371,24583.77912227274,30685.15420726601,46826.59514105012,53329.08700758159,74233.09149450295,87219.86131064052,73027.73630970358,67006.19850587512,69565.84133555055,82774.85701584803,106313.20310471767,142085.23578711355,148049.07947912067,131191.63677368296,121184.83023439659,118656.34219589637,121670.50390297288,126056.67364481365,132205.3849850846,135565.65392889993,134786.44427582872,134521.07871898808,137414.18231022937,142572.83155211608,148841.51245276246,156065.4311300869,161106.08989490973,163925.22306472965,166072.43933577856,170305.34587481103,178897.33718563078,188867.6174918845,203843.22026789814,217070.77896056394,220171.02106567955,221187.8991970876,221517.6819434537,226400.04684802738,232794.07793409855,240131.17995140795,239540.9564782476,229618.50293991837,223751.2540064661,228144.57847383892,235116.51091770307,246422.97525667073,258604.8376873686,258419.75722686347,245503.1550678486,237449.6359037941,233879.287510315,235005.1660143534,235865.82485456162,236741.21876605743,234328.48934527492,230784.96816347417,229640.7293637448,230957.63336201524,231844.9765356494,234049.12234075853,234143.16595075227,233105.14525010553,231137.02262891876,232627.96399807322,234613.10451786793,237387.01319176125,240659.94291903713,243220.109531155,241387.3543733829,238087.60921274056,237117.54579708472,238099.60329364086,239078.28305073266,239641.22938971192,239404.57727575154,238559.76789832977,237906.7451706942,239186.20839485523,239475.5318170175,241194.10367247046,242558.83770657255,243710.25947749708,242415.11928143125,239944.0382130659,239753.00938183177,239275.68860826138,238520.1239621138,239088.67886271284,239421.02457157438,238744.16568075586,238143.47814406638,238573.62316533597,240027.2726336548,244755.79838648348,249781.39043182303,257993.08893654347,270005.00186947174,269427.3286686133,282336.3842731011,468508.6632640779,282427970.1712575,283100.768556297,248328.73275159477,243703.9713623735,242547.56092989797,241519.47842861232,243050.4056246866,252313.88841642998,26788512.793035716,251473808.00753853,578540058.0298903,667726734.056448]},\"selected\":{\"id\":\"18582\"},\"selection_policy\":{\"id\":\"18581\"}},\"id\":\"18528\",\"type\":\"ColumnDataSource\"},{\"attributes\":{\"label\":{\"value\":\"total cases max UP\"},\"renderers\":[{\"id\":\"18561\"}]},\"id\":\"18585\",\"type\":\"LegendItem\"},{\"attributes\":{\"days\":[1,2,3,4,5,6,7,8,9,10,11,12,13,14,15,16,17,18,19,20,21,22,23,24,25,26,27,28,29,30,31]},\"id\":\"18542\",\"type\":\"DaysTicker\"},{\"attributes\":{},\"id\":\"18619\",\"type\":\"Selection\"},{\"attributes\":{\"line_color\":\"blue\",\"line_width\":4,\"x\":{\"field\":\"x\"},\"y\":{\"field\":\"y\"}},\"id\":\"18529\",\"type\":\"Line\"},{\"attributes\":{},\"id\":\"18582\",\"type\":\"Selection\"},{\"attributes\":{\"days\":[1,4,7,10,13,16,19,22,25,28]},\"id\":\"18543\",\"type\":\"DaysTicker\"},{\"attributes\":{\"days\":[1,8,15,22]},\"id\":\"18544\",\"type\":\"DaysTicker\"},{\"attributes\":{\"days\":[1,15]},\"id\":\"18545\",\"type\":\"DaysTicker\"},{\"attributes\":{\"months\":[0,1,2,3,4,5,6,7,8,9,10,11]},\"id\":\"18546\",\"type\":\"MonthsTicker\"},{\"attributes\":{\"text\":\"Total Cases MAX: Italy\"},\"id\":\"18496\",\"type\":\"Title\"},{\"attributes\":{\"source\":{\"id\":\"18558\"}},\"id\":\"18562\",\"type\":\"CDSView\"},{\"attributes\":{\"months\":[0,2,4,6,8,10]},\"id\":\"18547\",\"type\":\"MonthsTicker\"},{\"attributes\":{\"months\":[0,4,8]},\"id\":\"18548\",\"type\":\"MonthsTicker\"},{\"attributes\":{\"data\":{\"x\":{\"__ndarray__\":\"AACAdckLd0IAAEDbGwx3QgAAAEFuDHdCAADApsAMd0IAAIAMEw13QgAAQHJlDXdCAAAA2LcNd0IAAMA9Cg53QgAAgKNcDndCAABACa8Od0IAAABvAQ93QgAAwNRTD3dCAACAOqYPd0IAAECg+A93QgAAAAZLEHdCAADAa50Qd0IAAIDR7xB3QgAAQDdCEXdCAAAAnZQRd0IAAMAC5xF3QgAAgGg5EndCAABAzosSd0IAAAA03hJ3QgAAwJkwE3dCAACA/4ITd0IAAEBl1RN3QgAAAMsnFHdCAADAMHoUd0IAAICWzBR3QgAAQPweFXdCAAAAYnEVd0IAAMDHwxV3QgAAgC0WFndCAABAk2gWd0IAAAD5uhZ3QgAAwF4NF3dCAACAxF8Xd0IAAEAqshd3QgAAAJAEGHdCAADA9VYYd0IAAIBbqRh3QgAAQMH7GHdCAAAAJ04Zd0IAAMCMoBl3QgAAgPLyGXdCAABAWEUad0IAAAC+lxp3QgAAwCPqGndCAACAiTwbd0IAAEDvjht3QgAAAFXhG3dCAADAujMcd0IAAIAghhx3QgAAQIbYHHdCAAAA7Codd0IAAMBRfR13QgAAgLfPHXdCAABAHSIed0IAAACDdB53QgAAwOjGHndCAACAThkfd0IAAEC0ax93QgAAABq+H3dCAADAfxAgd0IAAIDlYiB3QgAAQEu1IHdCAAAAsQchd0IAAMAWWiF3QgAAgHysIXdCAABA4v4hd0IAAABIUSJ3QgAAwK2jIndCAACAE/Yid0IAAEB5SCN3QgAAAN+aI3dCAADARO0jd0IAAICqPyR3QgAAQBCSJHdCAAAAduQkd0IAAMDbNiV3QgAAgEGJJXdCAABAp9sld0IAAAANLiZ3QgAAwHKAJndCAACA2NImd0IAAEA+JSd3QgAAAKR3J3dCAADACcond0IAAIBvHCh3QgAAQNVuKHdCAAAAO8Eod0IAAMCgEyl3QgAAgAZmKXdCAABAbLgpd0IAAADSCip3QgAAwDddKndCAACAna8qd0IAAEADAit3QgAAAGlUK3dCAADAzqYrd0IAAIA0+St3QgAAQJpLLHdCAAAAAJ4sd0IAAMBl8Cx3QgAAgMtCLXdCAABAMZUtd0IAAACX5y13QgAAwPw5LndCAACAYowud0IAAEDI3i53QgAAAC4xL3dCAADAk4Mvd0IAAID51S93QgAAQF8oMHdCAAAAxXowd0IAAMAqzTB3QgAAgJAfMXdCAABA9nExd0IAAABcxDF3QgAAwMEWMndCAACAJ2kyd0IAAECNuzJ3QgAAAPMNM3dCAADAWGAzd0IAAIC+sjN3QgAAQCQFNHdCAAAAilc0d0I=\",\"dtype\":\"float64\",\"shape\":[127]},\"y\":[86912.05969910315,29083.90755584394,36023.732632084946,57743.26287129921,63228.58826880139,89917.54847679034,102396.39302686279,80763.09269653645,71753.2877547804,73429.41264461084,89135.00312663842,118537.04291285387,163391.79163957646,165143.43239880056,142128.9818930372,128571.40026767501,124247.01938846224,126581.715475767,130810.33178672902,137227.5365771877,140304.64949130217,138647.55171121034,137802.83066331755,140520.55474423835,145560.88279340838,151756.81804351133,159416.1215550685,165056.46168276644,167981.71188413462,169985.31366469234,174295.35804262952,183101.13047422701,193403.0916702229,210559.41582082008,226655.16773380945,229886.5162064032,230541.77515449267,230384.35728934366,235506.98153436702,242579.67276349175,251058.81482722826,249727.68450186917,236575.96539834217,228646.1429084767,233877.2944997811,241826.83856026072,254945.30576238886,267341.9930352748,266888.88523228845,251543.1532155206,241544.8638314928,237040.29314820794,238152.88508643635,239044.88801111336,239991.18101821854,236929.68275297133,232421.0235671601,231205.72879202297,232480.0016904601,233447.08838449325,235824.7046495138,235896.44895543437,234673.50156234615,232301.12664736455,234108.21536435926,236405.36461583653,239654.87716593768,243225.91486263,246103.4440163067,243823.15476510115,239900.38499526642,238660.49276871546,239771.74080746033,240901.70343590208,241582.4850499263,241205.54476872465,239979.10455031905,239188.3816479829,240431.01579317087,240768.9675063767,242882.88949842518,244686.6980636507,246197.54500767353,244388.09174615983,241234.7127584967,241038.46201731754,240456.95303457294,239562.20268401311,240325.06766595264,240773.74054827934,239767.67396637352,238838.9893511917,239414.74175960186,241288.52320958552,248050.60936641356,255833.03572905273,272015.4725713216,303408.7434192736,300636.5283302833,341306.61848396214,1928068.8767297177,1751692546987.5315,381110.70476775046,255274.40397637626,246048.0225723501,244053.21055435832,242429.1713083168,245155.71751912477,269939.65405465,60386114410.20327,3644670705068.476,17803119818938.426,18412365615451.527]},\"selected\":{\"id\":\"18621\"},\"selection_policy\":{\"id\":\"18620\"}},\"id\":\"18586\",\"type\":\"ColumnDataSource\"},{\"attributes\":{},\"id\":\"19169\",\"type\":\"Selection\"},{\"attributes\":{\"months\":[0,6]},\"id\":\"18549\",\"type\":\"MonthsTicker\"},{\"attributes\":{\"source\":{\"id\":\"18623\"}},\"id\":\"18627\",\"type\":\"CDSView\"},{\"attributes\":{},\"id\":\"18550\",\"type\":\"YearsTicker\"},{\"attributes\":{},\"id\":\"18620\",\"type\":\"UnionRenderers\"},{\"attributes\":{},\"id\":\"18583\",\"type\":\"UnionRenderers\"},{\"attributes\":{},\"id\":\"18621\",\"type\":\"Selection\"},{\"attributes\":{\"source\":{\"id\":\"18528\"}},\"id\":\"18532\",\"type\":\"CDSView\"},{\"attributes\":{\"data_source\":{\"id\":\"18623\"},\"glyph\":{\"id\":\"18624\"},\"hover_glyph\":null,\"muted_glyph\":null,\"nonselection_glyph\":{\"id\":\"18625\"},\"selection_glyph\":null,\"view\":{\"id\":\"18627\"}},\"id\":\"18626\",\"type\":\"GlyphRenderer\"},{\"attributes\":{\"use_scientific\":false},\"id\":\"18630\",\"type\":\"BasicTickFormatter\"},{\"attributes\":{\"data\":{\"x\":{\"__ndarray__\":\"AACAdckLd0IAAEDbGwx3QgAAAEFuDHdCAADApsAMd0IAAIAMEw13QgAAQHJlDXdCAAAA2LcNd0IAAMA9Cg53QgAAgKNcDndCAABACa8Od0IAAABvAQ93QgAAwNRTD3dCAACAOqYPd0IAAECg+A93QgAAAAZLEHdCAADAa50Qd0IAAIDR7xB3QgAAQDdCEXdCAAAAnZQRd0IAAMAC5xF3QgAAgGg5EndCAABAzosSd0IAAAA03hJ3QgAAwJkwE3dCAACA/4ITd0IAAEBl1RN3QgAAAMsnFHdCAADAMHoUd0IAAICWzBR3QgAAQPweFXdCAAAAYnEVd0IAAMDHwxV3QgAAgC0WFndCAABAk2gWd0IAAAD5uhZ3QgAAwF4NF3dCAACAxF8Xd0IAAEAqshd3QgAAAJAEGHdCAADA9VYYd0IAAIBbqRh3QgAAQMH7GHdCAAAAJ04Zd0IAAMCMoBl3QgAAgPLyGXdCAABAWEUad0IAAAC+lxp3QgAAwCPqGndCAACAiTwbd0IAAEDvjht3QgAAAFXhG3dCAADAujMcd0IAAIAghhx3QgAAQIbYHHdCAAAA7Codd0IAAMBRfR13QgAAgLfPHXdCAABAHSIed0IAAACDdB53QgAAwOjGHndCAACAThkfd0IAAEC0ax93QgAAABq+H3dCAADAfxAgd0IAAIDlYiB3QgAAQEu1IHdCAAAAsQchd0IAAMAWWiF3QgAAgHysIXdCAABA4v4hd0IAAABIUSJ3QgAAwK2jIndCAACAE/Yid0IAAEB5SCN3QgAAAN+aI3dCAADARO0jd0IAAICqPyR3QgAAQBCSJHdCAAAAduQkd0IAAMDbNiV3QgAAgEGJJXdCAABAp9sld0IAAAANLiZ3QgAAwHKAJndCAACA2NImd0IAAEA+JSd3QgAAAKR3J3dCAADACcond0IAAIBvHCh3QgAAQNVuKHdCAAAAO8Eod0IAAMCgEyl3QgAAgAZmKXdCAABAbLgpd0IAAADSCip3QgAAwDddKndCAACAna8qd0IAAEADAit3QgAAAGlUK3dCAADAzqYrd0IAAIA0+St3QgAAQJpLLHdCAAAAAJ4sd0IAAMBl8Cx3QgAAgMtCLXdCAABAMZUtd0IAAACX5y13QgAAwPw5LndCAACAYowud0IAAEDI3i53QgAAAC4xL3dCAADAk4Mvd0IAAID51S93QgAAQF8oMHdCAAAAxXowd0IAAMAqzTB3QgAAgJAfMXdCAABA9nExd0IAAABcxDF3QgAAwMEWMndCAACAJ2kyd0IAAECNuzJ3QgAAAPMNM3dCAADAWGAzd0IAAIC+sjN3QgAAQCQFNHdCAAAAilc0d0I=\",\"dtype\":\"float64\",\"shape\":[127]},\"y\":[26043.971812504264,20083.65068870154,25346.57578244707,35909.927410801036,43429.585746361794,58548.634512215554,72043.32959441826,65292.379922870714,62259.10925696984,65702.27002649025,76414.71090505764,94089.36329658148,120778.67993465065,130954.72655944078,120254.2916543287,113798.26020111817,113065.6650033305,116759.29233017875,121303.01550289828,127183.23339298148,130826.6583664977,130925.33684044708,131239.3267746586,134307.8098762204,139584.7803108238,145926.20686201358,152714.74070510527,157155.71810705302,159868.73424532468,162159.56500686478,166315.33370699253,174693.54389703454,184332.1433135461,197127.0247149762,207486.39018731844,210455.5259249559,211834.02323968252,212651.00659756374,217293.11216168775,223008.48310470534,229203.54507558764,229354.22845462602,222661.04048149457,218856.3651044555,222411.86244789674,228406.18327514542,237900.6447509526,249867.68233946236,249950.62922143852,239463.15692017658,233354.40797609536,230718.28187242209,231857.44694227044,232686.76169800988,233491.2565138963,231727.2959375785,229148.91275978825,228075.7299354666,229435.26503357038,230242.86468680552,232273.54003200328,232389.88294607017,231536.7889378649,229972.91861047296,231147.71263178717,232820.84441989934,235119.1492175848,238093.97097544427,240336.7750460033,238951.55398166465,236274.8334302147,235574.59882545398,236427.4657798214,237254.86266556324,237699.97372949755,237603.60978277843,237140.43124634048,236625.1086934055,237941.4009965396,238182.0961276583,239505.31784651574,240430.9773494944,241222.97394732063,240442.14681670268,238653.36366763513,238467.556746346,238094.4241819498,237478.0452402145,237852.29005947305,238068.30859486942,237720.6573951382,237447.96693694105,237732.50457107008,238766.02205772407,241460.9874065534,243729.74513459334,243970.70530176538,236601.2603196699,238218.1290069433,223366.1500622401,-991051.550201562,-1751127691047.1892,185090.83234484354,241383.06152681328,241359.9201523969,241041.91130543762,240609.78554890782,240945.09373024842,234688.12277820997,-60332537384.617195,-3644167757452.4614,-17801962738822.363,-18411030161983.418]},\"selected\":{\"id\":\"19169\"},\"selection_policy\":{\"id\":\"19168\"}},\"id\":\"18623\",\"type\":\"ColumnDataSource\"},{\"attributes\":{},\"id\":\"18498\",\"type\":\"DataRange1d\"},{\"attributes\":{\"data_source\":{\"id\":\"18558\"},\"glyph\":{\"id\":\"18559\"},\"hover_glyph\":null,\"muted_glyph\":null,\"nonselection_glyph\":{\"id\":\"18560\"},\"selection_glyph\":null,\"view\":{\"id\":\"18562\"}},\"id\":\"18561\",\"type\":\"GlyphRenderer\"},{\"attributes\":{\"line_color\":\"lightcoral\",\"line_width\":4,\"x\":{\"field\":\"x\"},\"y\":{\"field\":\"y\"}},\"id\":\"18559\",\"type\":\"Line\"},{\"attributes\":{\"data\":{\"x\":{\"__ndarray__\":\"AACAdckLd0IAAEDbGwx3QgAAAEFuDHdCAADApsAMd0IAAIAMEw13QgAAQHJlDXdCAAAA2LcNd0IAAMA9Cg53QgAAgKNcDndCAABACa8Od0IAAABvAQ93QgAAwNRTD3dCAACAOqYPd0IAAECg+A93QgAAAAZLEHdCAADAa50Qd0IAAIDR7xB3QgAAQDdCEXdCAAAAnZQRd0IAAMAC5xF3QgAAgGg5EndCAABAzosSd0IAAAA03hJ3QgAAwJkwE3dCAACA/4ITd0IAAEBl1RN3QgAAAMsnFHdCAADAMHoUd0IAAICWzBR3QgAAQPweFXdCAAAAYnEVd0IAAMDHwxV3QgAAgC0WFndCAABAk2gWd0IAAAD5uhZ3QgAAwF4NF3dCAACAxF8Xd0IAAEAqshd3QgAAAJAEGHdCAADA9VYYd0IAAIBbqRh3QgAAQMH7GHdCAAAAJ04Zd0IAAMCMoBl3QgAAgPLyGXdCAABAWEUad0IAAAC+lxp3QgAAwCPqGndCAACAiTwbd0IAAEDvjht3QgAAAFXhG3dCAADAujMcd0IAAIAghhx3QgAAQIbYHHdCAAAA7Codd0IAAMBRfR13QgAAgLfPHXdCAABAHSIed0IAAACDdB53QgAAwOjGHndCAACAThkfd0IAAEC0ax93QgAAABq+H3dCAADAfxAgd0IAAIDlYiB3QgAAQEu1IHdCAAAAsQchd0IAAMAWWiF3QgAAgHysIXdCAABA4v4hd0IAAABIUSJ3QgAAwK2jIndCAACAE/Yid0IAAEB5SCN3QgAAAN+aI3dCAADARO0jd0IAAICqPyR3QgAAQBCSJHdCAAAAduQkd0IAAMDbNiV3QgAAgEGJJXdCAABAp9sld0IAAAANLiZ3QgAAwHKAJndCAACA2NImd0IAAEA+JSd3QgAAAKR3J3dCAADACcond0IAAIBvHCh3QgAAQNVuKHdCAAAAO8Eod0IAAMCgEyl3QgAAgAZmKXdCAABAbLgpd0IAAADSCip3QgAAwDddKndCAACAna8qd0IAAEADAit3QgAAAGlUK3dCAADAzqYrd0IAAIA0+St3QgAAQJpLLHdCAAAAAJ4sd0IAAMBl8Cx3QgAAgMtCLXdCAABAMZUtd0IAAACX5y13QgAAwPw5LndCAACAYowud0IAAEDI3i53QgAAAC4xL3dCAADAk4Mvd0IAAID51S93QgAAQF8oMHdCAAAAxXowd0IAAMAqzTB3QgAAgJAfMXdCAABA9nExd0IAAABcxDF3QgAAwMEWMndCAACAJ2kyd0IAAECNuzJ3QgAAAPMNM3dCAADAWGAzd0IAAIC+sjN3QgAAQCQFNHdCAAAAilc0d0I=\",\"dtype\":\"float64\",\"shape\":[127]},\"y\":[86912.05969910315,29083.90755584394,36023.732632084946,57743.26287129921,63228.58826880139,89917.54847679034,102396.39302686279,80763.09269653645,71753.2877547804,73429.41264461084,89135.00312663842,118537.04291285387,163391.79163957646,165143.43239880056,142128.9818930372,128571.40026767501,124247.01938846224,126581.715475767,130810.33178672902,137227.5365771877,140304.64949130217,138647.55171121034,137802.83066331755,140520.55474423835,145560.88279340838,151756.81804351133,159416.1215550685,165056.46168276644,167981.71188413462,169985.31366469234,174295.35804262952,183101.13047422701,193403.0916702229,210559.41582082008,226655.16773380945,229886.5162064032,230541.77515449267,230384.35728934366,235506.98153436702,242579.67276349175,251058.81482722826,249727.68450186917,236575.96539834217,228646.1429084767,233877.2944997811,241826.83856026072,254945.30576238886,267341.9930352748,266888.88523228845,251543.1532155206,241544.8638314928,237040.29314820794,238152.88508643635,239044.88801111336,239991.18101821854,236929.68275297133,232421.0235671601,231205.72879202297,232480.0016904601,233447.08838449325,235824.7046495138,235896.44895543437,234673.50156234615,232301.12664736455,234108.21536435926,236405.36461583653,239654.87716593768,243225.91486263,246103.4440163067,243823.15476510115,239900.38499526642,238660.49276871546,239771.74080746033,240901.70343590208,241582.4850499263,241205.54476872465,239979.10455031905,239188.3816479829,240431.01579317087,240768.9675063767,242882.88949842518,244686.6980636507,246197.54500767353,244388.09174615983,241234.7127584967,241038.46201731754,240456.95303457294,239562.20268401311,240325.06766595264,240773.74054827934,239767.67396637352,238838.9893511917,239414.74175960186,241288.52320958552,248050.60936641356,255833.03572905273,272015.4725713216,303408.7434192736,300636.5283302833,341306.61848396214,1928068.8767297177,1751692546987.5315,381110.70476775046,255274.40397637626,246048.0225723501,244053.21055435832,242429.1713083168,245155.71751912477,269939.65405465,60386114410.20327,3644670705068.476,17803119818938.426,18412365615451.527]},\"selected\":{\"id\":\"18619\"},\"selection_policy\":{\"id\":\"18618\"}},\"id\":\"18558\",\"type\":\"ColumnDataSource\"},{\"attributes\":{\"days\":[\"%d %B\"]},\"id\":\"18628\",\"type\":\"DatetimeTickFormatter\"},{\"attributes\":{\"fill_alpha\":{\"value\":0.1},\"fill_color\":{\"value\":\"white\"},\"line_alpha\":{\"value\":0.1},\"line_color\":{\"value\":\"lightblue\"},\"size\":{\"units\":\"screen\",\"value\":5},\"x\":{\"field\":\"x\"},\"y\":{\"field\":\"y\"}},\"id\":\"18625\",\"type\":\"Circle\"},{\"attributes\":{\"line_color\":\"lightblue\",\"line_width\":4,\"x\":{\"field\":\"x\"},\"y\":{\"field\":\"y\"}},\"id\":\"18592\",\"type\":\"Line\"},{\"attributes\":{\"callback\":null,\"formatters\":{\"@x\":\"datetime\"},\"mode\":\"vline\",\"tooltips\":[[\"date\",\"@x{%d %B}\"],[\"total cases max/UP/DOWN\",\"@y{0[.]000}\"]]},\"id\":\"18632\",\"type\":\"HoverTool\"},{\"attributes\":{\"fill_color\":{\"value\":\"white\"},\"line_color\":{\"value\":\"lightblue\"},\"size\":{\"units\":\"screen\",\"value\":5},\"x\":{\"field\":\"x\"},\"y\":{\"field\":\"y\"}},\"id\":\"18624\",\"type\":\"Circle\"},{\"attributes\":{},\"id\":\"19168\",\"type\":\"UnionRenderers\"},{\"attributes\":{\"end\":300000},\"id\":\"18500\",\"type\":\"Range1d\"},{\"attributes\":{},\"id\":\"18511\",\"type\":\"BasicTicker\"},{\"attributes\":{\"axis_label\":\"Date\",\"formatter\":{\"id\":\"18628\"},\"major_label_orientation\":0.7853981633974483,\"minor_tick_in\":-5,\"minor_tick_out\":-3,\"ticker\":{\"id\":\"18507\"}},\"id\":\"18506\",\"type\":\"DatetimeAxis\"},{\"attributes\":{\"label\":{\"value\":\"total cases max DOWN\"},\"renderers\":[{\"id\":\"18594\"}]},\"id\":\"18622\",\"type\":\"LegendItem\"},{\"attributes\":{\"num_minor_ticks\":5,\"tickers\":[{\"id\":\"18539\"},{\"id\":\"18540\"},{\"id\":\"18541\"},{\"id\":\"18542\"},{\"id\":\"18543\"},{\"id\":\"18544\"},{\"id\":\"18545\"},{\"id\":\"18546\"},{\"id\":\"18547\"},{\"id\":\"18548\"},{\"id\":\"18549\"},{\"id\":\"18550\"}]},\"id\":\"18507\",\"type\":\"DatetimeTicker\"},{\"attributes\":{},\"id\":\"19166\",\"type\":\"UnionRenderers\"},{\"attributes\":{\"axis_label\":\"Total Cases MAX\",\"formatter\":{\"id\":\"18630\"},\"minor_tick_in\":-5,\"minor_tick_out\":-3,\"ticker\":{\"id\":\"18511\"}},\"id\":\"18510\",\"type\":\"LinearAxis\"},{\"attributes\":{\"axis\":{\"id\":\"18510\"},\"dimension\":1,\"ticker\":null},\"id\":\"18513\",\"type\":\"Grid\"},{\"attributes\":{\"data\":{\"x\":{\"__ndarray__\":\"AACAdckLd0IAAEDbGwx3QgAAAEFuDHdCAADApsAMd0IAAIAMEw13QgAAQHJlDXdCAAAA2LcNd0IAAMA9Cg53QgAAgKNcDndCAABACa8Od0IAAABvAQ93QgAAwNRTD3dCAACAOqYPd0IAAECg+A93QgAAAAZLEHdCAADAa50Qd0IAAIDR7xB3QgAAQDdCEXdCAAAAnZQRd0IAAMAC5xF3QgAAgGg5EndCAABAzosSd0IAAAA03hJ3QgAAwJkwE3dCAACA/4ITd0IAAEBl1RN3QgAAAMsnFHdCAADAMHoUd0IAAICWzBR3QgAAQPweFXdCAAAAYnEVd0IAAMDHwxV3QgAAgC0WFndCAABAk2gWd0IAAAD5uhZ3QgAAwF4NF3dCAACAxF8Xd0IAAEAqshd3QgAAAJAEGHdCAADA9VYYd0IAAIBbqRh3QgAAQMH7GHdCAAAAJ04Zd0IAAMCMoBl3QgAAgPLyGXdCAABAWEUad0IAAAC+lxp3QgAAwCPqGndCAACAiTwbd0IAAEDvjht3QgAAAFXhG3dCAADAujMcd0IAAIAghhx3QgAAQIbYHHdCAAAA7Codd0IAAMBRfR13QgAAgLfPHXdCAABAHSIed0IAAACDdB53QgAAwOjGHndCAACAThkfd0IAAEC0ax93QgAAABq+H3dCAADAfxAgd0IAAIDlYiB3QgAAQEu1IHdCAAAAsQchd0IAAMAWWiF3QgAAgHysIXdCAABA4v4hd0IAAABIUSJ3QgAAwK2jIndCAACAE/Yid0IAAEB5SCN3QgAAAN+aI3dCAADARO0jd0IAAICqPyR3QgAAQBCSJHdCAAAAduQkd0IAAMDbNiV3QgAAgEGJJXdCAABAp9sld0IAAAANLiZ3QgAAwHKAJndCAACA2NImd0IAAEA+JSd3QgAAAKR3J3dCAADACcond0IAAIBvHCh3QgAAQNVuKHdCAAAAO8Eod0IAAMCgEyl3QgAAgAZmKXdCAABAbLgpd0IAAADSCip3QgAAwDddKndCAACAna8qd0IAAEADAit3QgAAAGlUK3dCAADAzqYrd0IAAIA0+St3QgAAQJpLLHdCAAAAAJ4sd0IAAMBl8Cx3QgAAgMtCLXdCAABAMZUtd0IAAACX5y13QgAAwPw5LndCAACAYowud0IAAEDI3i53QgAAAC4xL3dCAADAk4Mvd0IAAID51S93QgAAQF8oMHdCAAAAxXowd0IAAMAqzTB3QgAAgJAfMXdCAABA9nExd0IAAABcxDF3QgAAwMEWMndCAACAJ2kyd0IAAECNuzJ3QgAAAPMNM3dCAADAWGAzd0IAAIC+sjN3QgAAQCQFNHdCAAAAilc0d0I=\",\"dtype\":\"float64\",\"shape\":[127]},\"y\":[26043.971812504264,20083.65068870154,25346.57578244707,35909.927410801036,43429.585746361794,58548.634512215554,72043.32959441826,65292.379922870714,62259.10925696984,65702.27002649025,76414.71090505764,94089.36329658148,120778.67993465065,130954.72655944078,120254.2916543287,113798.26020111817,113065.6650033305,116759.29233017875,121303.01550289828,127183.23339298148,130826.6583664977,130925.33684044708,131239.3267746586,134307.8098762204,139584.7803108238,145926.20686201358,152714.74070510527,157155.71810705302,159868.73424532468,162159.56500686478,166315.33370699253,174693.54389703454,184332.1433135461,197127.0247149762,207486.39018731844,210455.5259249559,211834.02323968252,212651.00659756374,217293.11216168775,223008.48310470534,229203.54507558764,229354.22845462602,222661.04048149457,218856.3651044555,222411.86244789674,228406.18327514542,237900.6447509526,249867.68233946236,249950.62922143852,239463.15692017658,233354.40797609536,230718.28187242209,231857.44694227044,232686.76169800988,233491.2565138963,231727.2959375785,229148.91275978825,228075.7299354666,229435.26503357038,230242.86468680552,232273.54003200328,232389.88294607017,231536.7889378649,229972.91861047296,231147.71263178717,232820.84441989934,235119.1492175848,238093.97097544427,240336.7750460033,238951.55398166465,236274.8334302147,235574.59882545398,236427.4657798214,237254.86266556324,237699.97372949755,237603.60978277843,237140.43124634048,236625.1086934055,237941.4009965396,238182.0961276583,239505.31784651574,240430.9773494944,241222.97394732063,240442.14681670268,238653.36366763513,238467.556746346,238094.4241819498,237478.0452402145,237852.29005947305,238068.30859486942,237720.6573951382,237447.96693694105,237732.50457107008,238766.02205772407,241460.9874065534,243729.74513459334,243970.70530176538,236601.2603196699,238218.1290069433,223366.1500622401,-991051.550201562,-1751127691047.1892,185090.83234484354,241383.06152681328,241359.9201523969,241041.91130543762,240609.78554890782,240945.09373024842,234688.12277820997,-60332537384.617195,-3644167757452.4614,-17801962738822.363,-18411030161983.418]},\"selected\":{\"id\":\"19167\"},\"selection_policy\":{\"id\":\"19166\"}},\"id\":\"18591\",\"type\":\"ColumnDataSource\"},{\"attributes\":{\"axis\":{\"id\":\"18506\"},\"ticker\":null},\"id\":\"18509\",\"type\":\"Grid\"},{\"attributes\":{\"line_alpha\":0.1,\"line_color\":\"blue\",\"line_width\":4,\"x\":{\"field\":\"x\"},\"y\":{\"field\":\"y\"}},\"id\":\"18530\",\"type\":\"Line\"},{\"attributes\":{\"data_source\":{\"id\":\"18591\"},\"glyph\":{\"id\":\"18592\"},\"hover_glyph\":null,\"muted_glyph\":null,\"nonselection_glyph\":{\"id\":\"18593\"},\"selection_glyph\":null,\"view\":{\"id\":\"18595\"}},\"id\":\"18594\",\"type\":\"GlyphRenderer\"},{\"attributes\":{\"active_drag\":\"auto\",\"active_inspect\":\"auto\",\"active_multi\":null,\"active_scroll\":\"auto\",\"active_tap\":\"auto\",\"tools\":[{\"id\":\"18514\"},{\"id\":\"18515\"},{\"id\":\"18516\"},{\"id\":\"18517\"},{\"id\":\"18518\"},{\"id\":\"18519\"},{\"id\":\"18632\"}]},\"id\":\"18521\",\"type\":\"Toolbar\"},{\"attributes\":{\"data_source\":{\"id\":\"18586\"},\"glyph\":{\"id\":\"18587\"},\"hover_glyph\":null,\"muted_glyph\":null,\"nonselection_glyph\":{\"id\":\"18588\"},\"selection_glyph\":null,\"view\":{\"id\":\"18590\"}},\"id\":\"18589\",\"type\":\"GlyphRenderer\"},{\"attributes\":{\"source\":{\"id\":\"18591\"}},\"id\":\"18595\",\"type\":\"CDSView\"},{\"attributes\":{},\"id\":\"18514\",\"type\":\"PanTool\"},{\"attributes\":{\"data_source\":{\"id\":\"18528\"},\"glyph\":{\"id\":\"18529\"},\"hover_glyph\":null,\"muted_glyph\":null,\"nonselection_glyph\":{\"id\":\"18530\"},\"selection_glyph\":null,\"view\":{\"id\":\"18532\"}},\"id\":\"18531\",\"type\":\"GlyphRenderer\"},{\"attributes\":{\"line_alpha\":0.1,\"line_color\":\"lightblue\",\"line_width\":4,\"x\":{\"field\":\"x\"},\"y\":{\"field\":\"y\"}},\"id\":\"18593\",\"type\":\"Line\"},{\"attributes\":{},\"id\":\"18504\",\"type\":\"LinearScale\"},{\"attributes\":{\"line_alpha\":0.1,\"line_color\":\"lightcoral\",\"line_width\":4,\"x\":{\"field\":\"x\"},\"y\":{\"field\":\"y\"}},\"id\":\"18560\",\"type\":\"Line\"},{\"attributes\":{\"bottom_units\":\"screen\",\"fill_alpha\":0.5,\"fill_color\":\"lightgrey\",\"left_units\":\"screen\",\"level\":\"overlay\",\"line_alpha\":1.0,\"line_color\":\"black\",\"line_dash\":[4,4],\"line_width\":2,\"render_mode\":\"css\",\"right_units\":\"screen\",\"top_units\":\"screen\"},\"id\":\"18520\",\"type\":\"BoxAnnotation\"},{\"attributes\":{\"source\":{\"id\":\"18553\"}},\"id\":\"18557\",\"type\":\"CDSView\"},{\"attributes\":{\"items\":[{\"id\":\"18552\"},{\"id\":\"18585\"},{\"id\":\"18622\"}],\"location\":\"top_left\"},\"id\":\"18551\",\"type\":\"Legend\"},{\"attributes\":{\"label\":{\"value\":\"total cases max\"},\"renderers\":[{\"id\":\"18531\"}]},\"id\":\"18552\",\"type\":\"LegendItem\"},{\"attributes\":{},\"id\":\"18515\",\"type\":\"WheelZoomTool\"},{\"attributes\":{\"fill_color\":{\"value\":\"white\"},\"line_color\":{\"value\":\"blue\"},\"size\":{\"units\":\"screen\",\"value\":5},\"x\":{\"field\":\"x\"},\"y\":{\"field\":\"y\"}},\"id\":\"18554\",\"type\":\"Circle\"},{\"attributes\":{\"fill_alpha\":{\"value\":0.1},\"fill_color\":{\"value\":\"white\"},\"line_alpha\":{\"value\":0.1},\"line_color\":{\"value\":\"lightcoral\"},\"size\":{\"units\":\"screen\",\"value\":5},\"x\":{\"field\":\"x\"},\"y\":{\"field\":\"y\"}},\"id\":\"18588\",\"type\":\"Circle\"},{\"attributes\":{\"data_source\":{\"id\":\"18553\"},\"glyph\":{\"id\":\"18554\"},\"hover_glyph\":null,\"muted_glyph\":null,\"nonselection_glyph\":{\"id\":\"18555\"},\"selection_glyph\":null,\"view\":{\"id\":\"18557\"}},\"id\":\"18556\",\"type\":\"GlyphRenderer\"},{\"attributes\":{\"fill_alpha\":{\"value\":0.1},\"fill_color\":{\"value\":\"white\"},\"line_alpha\":{\"value\":0.1},\"line_color\":{\"value\":\"blue\"},\"size\":{\"units\":\"screen\",\"value\":5},\"x\":{\"field\":\"x\"},\"y\":{\"field\":\"y\"}},\"id\":\"18555\",\"type\":\"Circle\"},{\"attributes\":{},\"id\":\"18519\",\"type\":\"HelpTool\"},{\"attributes\":{},\"id\":\"19167\",\"type\":\"Selection\"},{\"attributes\":{},\"id\":\"18518\",\"type\":\"ResetTool\"},{\"attributes\":{},\"id\":\"18502\",\"type\":\"LinearScale\"},{\"attributes\":{\"source\":{\"id\":\"18586\"}},\"id\":\"18590\",\"type\":\"CDSView\"},{\"attributes\":{\"data\":{\"x\":{\"__ndarray__\":\"AACAdckLd0IAAEDbGwx3QgAAAEFuDHdCAADApsAMd0IAAIAMEw13QgAAQHJlDXdCAAAA2LcNd0IAAMA9Cg53QgAAgKNcDndCAABACa8Od0IAAABvAQ93QgAAwNRTD3dCAACAOqYPd0IAAECg+A93QgAAAAZLEHdCAADAa50Qd0IAAIDR7xB3QgAAQDdCEXdCAAAAnZQRd0IAAMAC5xF3QgAAgGg5EndCAABAzosSd0IAAAA03hJ3QgAAwJkwE3dCAACA/4ITd0IAAEBl1RN3QgAAAMsnFHdCAADAMHoUd0IAAICWzBR3QgAAQPweFXdCAAAAYnEVd0IAAMDHwxV3QgAAgC0WFndCAABAk2gWd0IAAAD5uhZ3QgAAwF4NF3dCAACAxF8Xd0IAAEAqshd3QgAAAJAEGHdCAADA9VYYd0IAAIBbqRh3QgAAQMH7GHdCAAAAJ04Zd0IAAMCMoBl3QgAAgPLyGXdCAABAWEUad0IAAAC+lxp3QgAAwCPqGndCAACAiTwbd0IAAEDvjht3QgAAAFXhG3dCAADAujMcd0IAAIAghhx3QgAAQIbYHHdCAAAA7Codd0IAAMBRfR13QgAAgLfPHXdCAABAHSIed0IAAACDdB53QgAAwOjGHndCAACAThkfd0IAAEC0ax93QgAAABq+H3dCAADAfxAgd0IAAIDlYiB3QgAAQEu1IHdCAAAAsQchd0IAAMAWWiF3QgAAgHysIXdCAABA4v4hd0IAAABIUSJ3QgAAwK2jIndCAACAE/Yid0IAAEB5SCN3QgAAAN+aI3dCAADARO0jd0IAAICqPyR3QgAAQBCSJHdCAAAAduQkd0IAAMDbNiV3QgAAgEGJJXdCAABAp9sld0IAAAANLiZ3QgAAwHKAJndCAACA2NImd0IAAEA+JSd3QgAAAKR3J3dCAADACcond0IAAIBvHCh3QgAAQNVuKHdCAAAAO8Eod0IAAMCgEyl3QgAAgAZmKXdCAABAbLgpd0IAAADSCip3QgAAwDddKndCAACAna8qd0IAAEADAit3QgAAAGlUK3dCAADAzqYrd0IAAIA0+St3QgAAQJpLLHdCAAAAAJ4sd0IAAMBl8Cx3QgAAgMtCLXdCAABAMZUtd0IAAACX5y13QgAAwPw5LndCAACAYowud0IAAEDI3i53QgAAAC4xL3dCAADAk4Mvd0IAAID51S93QgAAQF8oMHdCAAAAxXowd0IAAMAqzTB3QgAAgJAfMXdCAABA9nExd0IAAABcxDF3QgAAwMEWMndCAACAJ2kyd0IAAECNuzJ3QgAAAPMNM3dCAADAWGAzd0IAAIC+sjN3QgAAQCQFNHdCAAAAilc0d0I=\",\"dtype\":\"float64\",\"shape\":[127]},\"y\":[56478.01575580371,24583.77912227274,30685.15420726601,46826.59514105012,53329.08700758159,74233.09149450295,87219.86131064052,73027.73630970358,67006.19850587512,69565.84133555055,82774.85701584803,106313.20310471767,142085.23578711355,148049.07947912067,131191.63677368296,121184.83023439659,118656.34219589637,121670.50390297288,126056.67364481365,132205.3849850846,135565.65392889993,134786.44427582872,134521.07871898808,137414.18231022937,142572.83155211608,148841.51245276246,156065.4311300869,161106.08989490973,163925.22306472965,166072.43933577856,170305.34587481103,178897.33718563078,188867.6174918845,203843.22026789814,217070.77896056394,220171.02106567955,221187.8991970876,221517.6819434537,226400.04684802738,232794.07793409855,240131.17995140795,239540.9564782476,229618.50293991837,223751.2540064661,228144.57847383892,235116.51091770307,246422.97525667073,258604.8376873686,258419.75722686347,245503.1550678486,237449.6359037941,233879.287510315,235005.1660143534,235865.82485456162,236741.21876605743,234328.48934527492,230784.96816347417,229640.7293637448,230957.63336201524,231844.9765356494,234049.12234075853,234143.16595075227,233105.14525010553,231137.02262891876,232627.96399807322,234613.10451786793,237387.01319176125,240659.94291903713,243220.109531155,241387.3543733829,238087.60921274056,237117.54579708472,238099.60329364086,239078.28305073266,239641.22938971192,239404.57727575154,238559.76789832977,237906.7451706942,239186.20839485523,239475.5318170175,241194.10367247046,242558.83770657255,243710.25947749708,242415.11928143125,239944.0382130659,239753.00938183177,239275.68860826138,238520.1239621138,239088.67886271284,239421.02457157438,238744.16568075586,238143.47814406638,238573.62316533597,240027.2726336548,244755.79838648348,249781.39043182303,257993.08893654347,270005.00186947174,269427.3286686133,282336.3842731011,468508.6632640779,282427970.1712575,283100.768556297,248328.73275159477,243703.9713623735,242547.56092989797,241519.47842861232,243050.4056246866,252313.88841642998,26788512.793035716,251473808.00753853,578540058.0298903,667726734.056448]},\"selected\":{\"id\":\"18584\"},\"selection_policy\":{\"id\":\"18583\"}},\"id\":\"18553\",\"type\":\"ColumnDataSource\"},{\"attributes\":{},\"id\":\"18517\",\"type\":\"SaveTool\"},{\"attributes\":{\"overlay\":{\"id\":\"18520\"}},\"id\":\"18516\",\"type\":\"BoxZoomTool\"}],\"root_ids\":[\"18495\"]},\"title\":\"Bokeh Application\",\"version\":\"2.0.2\"}};\n",
       "  var render_items = [{\"docid\":\"172b3470-bcfc-4b09-80db-4dd16c7d5d0a\",\"root_ids\":[\"18495\"],\"roots\":{\"18495\":\"718d5817-9d8d-46a9-87ca-97436a3a3fed\"}}];\n",
       "  root.Bokeh.embed.embed_items_notebook(docs_json, render_items);\n",
       "\n",
       "  }\n",
       "  if (root.Bokeh !== undefined) {\n",
       "    embed_document(root);\n",
       "  } else {\n",
       "    var attempts = 0;\n",
       "    var timer = setInterval(function(root) {\n",
       "      if (root.Bokeh !== undefined) {\n",
       "        clearInterval(timer);\n",
       "        embed_document(root);\n",
       "      } else {\n",
       "        attempts++;\n",
       "        if (attempts > 100) {\n",
       "          clearInterval(timer);\n",
       "          console.log(\"Bokeh: ERROR: Unable to run BokehJS code because BokehJS library is missing\");\n",
       "        }\n",
       "      }\n",
       "    }, 10, root)\n",
       "  }\n",
       "})(window);"
      ],
      "application/vnd.bokehjs_exec.v0+json": ""
     },
     "metadata": {
      "application/vnd.bokehjs_exec.v0+json": {
       "id": "18495"
      }
     },
     "output_type": "display_data"
    }
   ],
   "source": [
    "p_new_positive_MAX_2_Italy = bokeh_plot_N_lines(x=time_date_new + 14, y_list=[max_population,max_population_up,max_population_down], \n",
    "                  title='Total Cases MAX: Italy', \n",
    "                  dim=[600, 450], \n",
    "                  x_label='Date', \n",
    "                  y_label='Total Cases MAX', legend_list=['total cases max','total cases max UP','total cases max DOWN'],\n",
    "                  x_label_hover='date', y_label_hover='total cases max/UP/DOWN',\n",
    "                  color_list=['blue','lightcoral','lightblue'],legend_location=\"top_left\", y_minmax=(0,300000))\n",
    "\n",
    "output_file(\"total_cases_MAX_2_Italy.html\")\n",
    "\n",
    "show(p_new_positive_MAX_2_Italy)"
   ]
  },
  {
   "cell_type": "markdown",
   "metadata": {},
   "source": [
    "---------------\n",
    "\n",
    "---------------\n",
    "\n",
    "---------------"
   ]
  },
  {
   "cell_type": "code",
   "execution_count": 87,
   "metadata": {},
   "outputs": [
    {
     "name": "stderr",
     "output_type": "stream",
     "text": [
      "/Users/Angelo/opt/anaconda3/lib/python3.7/site-packages/ipykernel_launcher.py:8: RuntimeWarning: overflow encountered in exp\n",
      "  \n"
     ]
    }
   ],
   "source": [
    "fit_range_3 = len(deceduti_italy) - 15\n",
    "fit_range_4 = len(deceduti_italy)\n",
    "xdata_3 = np.linspace(fit_range_3, fit_range_4, fit_range_4 - fit_range_3)\n",
    "init_guess = [80000,0.001,0.001]\n",
    "fit = curve_fit(model_population, xdata_3, deceduti_italy.loc[fit_range_3:(fit_range_4-1)], p0=init_guess)"
   ]
  },
  {
   "cell_type": "code",
   "execution_count": 88,
   "metadata": {},
   "outputs": [
    {
     "data": {
      "text/plain": [
       "(34780.59104572038, 0.15165044376358716, 0.11787524116958178)"
      ]
     },
     "execution_count": 88,
     "metadata": {},
     "output_type": "execute_result"
    }
   ],
   "source": [
    "ans, cov = fit\n",
    "fit_K, fit_r, fit_P_0 = ans\n",
    "fit_K, fit_r, fit_P_0"
   ]
  },
  {
   "cell_type": "code",
   "execution_count": 89,
   "metadata": {},
   "outputs": [
    {
     "data": {
      "text/plain": [
       "array([[ 6.09987313e+02, -5.14071867e-01,  6.66473634e+00],\n",
       "       [-5.14071867e-01,  4.89193112e-04, -6.37326997e-03],\n",
       "       [ 6.66473634e+00, -6.37326997e-03,  8.30539662e-02]])"
      ]
     },
     "execution_count": 89,
     "metadata": {},
     "output_type": "execute_result"
    }
   ],
   "source": [
    "cov"
   ]
  },
  {
   "cell_type": "code",
   "execution_count": 90,
   "metadata": {},
   "outputs": [
    {
     "data": {
      "text/plain": [
       "array([2.46979212e+01, 2.21177104e-02, 2.88190850e-01])"
      ]
     },
     "execution_count": 90,
     "metadata": {},
     "output_type": "execute_result"
    }
   ],
   "source": [
    "np.sqrt(np.diag(cov))"
   ]
  },
  {
   "cell_type": "code",
   "execution_count": 91,
   "metadata": {},
   "outputs": [
    {
     "data": {
      "text/plain": [
       "array([34354.53138293, 34417.76062231, 34471.6907202 , 34517.66603557,\n",
       "       34556.84300951, 34590.21463935, 34618.6322761 , 34642.82488451,\n",
       "       34663.41595115, 34680.93824985, 34695.8466797 , 34708.5293872 ,\n",
       "       34719.31737283, 34728.49276799, 34736.29595116])"
      ]
     },
     "execution_count": 91,
     "metadata": {},
     "output_type": "execute_result"
    }
   ],
   "source": [
    "ydata_3 = fit_K / ( 1 + ((fit_K - fit_P_0) / fit_P_0) * np.exp(- fit_r * xdata_3))\n",
    "ydata_3"
   ]
  },
  {
   "cell_type": "code",
   "execution_count": 92,
   "metadata": {},
   "outputs": [
    {
     "data": {
      "text/html": [
       "\n",
       "\n",
       "\n",
       "\n",
       "\n",
       "\n",
       "  <div class=\"bk-root\" id=\"c378ac41-17c1-4111-81c2-9eaae4fe3dba\" data-root-id=\"19703\"></div>\n"
      ]
     },
     "metadata": {},
     "output_type": "display_data"
    },
    {
     "data": {
      "application/javascript": [
       "(function(root) {\n",
       "  function embed_document(root) {\n",
       "    \n",
       "  var docs_json = {\"1a582e49-ff2e-4ae9-906a-26c6aea625bf\":{\"roots\":{\"references\":[{\"attributes\":{\"below\":[{\"id\":\"19714\"}],\"center\":[{\"id\":\"19717\"},{\"id\":\"19721\"},{\"id\":\"19759\"}],\"left\":[{\"id\":\"19718\"}],\"plot_height\":450,\"renderers\":[{\"id\":\"19739\"},{\"id\":\"19764\"},{\"id\":\"19769\"},{\"id\":\"19797\"}],\"title\":{\"id\":\"19704\"},\"toolbar\":{\"id\":\"19729\"},\"x_range\":{\"id\":\"19706\"},\"x_scale\":{\"id\":\"19710\"},\"y_range\":{\"id\":\"19708\"},\"y_scale\":{\"id\":\"19712\"}},\"id\":\"19703\",\"subtype\":\"Figure\",\"type\":\"Plot\"},{\"attributes\":{\"active_drag\":\"auto\",\"active_inspect\":\"auto\",\"active_multi\":null,\"active_scroll\":\"auto\",\"active_tap\":\"auto\",\"tools\":[{\"id\":\"19722\"},{\"id\":\"19723\"},{\"id\":\"19724\"},{\"id\":\"19725\"},{\"id\":\"19726\"},{\"id\":\"19727\"},{\"id\":\"19804\"}]},\"id\":\"19729\",\"type\":\"Toolbar\"},{\"attributes\":{\"data\":{\"x\":{\"__ndarray__\":\"AAAAaVQrd0IAAMDOpit3QgAAgDT5K3dCAABAmkssd0IAAAAAnix3QgAAwGXwLHdCAACAy0Itd0IAAEAxlS13QgAAAJfnLXdCAADA/Dkud0IAAIBijC53QgAAQMjeLndCAAAALjEvd0IAAMCTgy93QgAAgPnVL3dC\",\"dtype\":\"float64\",\"shape\":[15]},\"y\":[34371,34405,34448,34514,34561,34610,34634,34657,34675,34644,34678,34708,34716,34738,34744]},\"selected\":{\"id\":\"19790\"},\"selection_policy\":{\"id\":\"19789\"}},\"id\":\"19736\",\"type\":\"ColumnDataSource\"},{\"attributes\":{\"fill_color\":{\"value\":\"white\"},\"line_color\":{\"value\":\"darkviolet\"},\"size\":{\"units\":\"screen\",\"value\":6},\"x\":{\"field\":\"x\"},\"y\":{\"field\":\"y\"}},\"id\":\"19762\",\"type\":\"Circle\"},{\"attributes\":{\"line_alpha\":0.1,\"line_color\":\"violet\",\"line_width\":4,\"x\":{\"field\":\"x\"},\"y\":{\"field\":\"y\"}},\"id\":\"19768\",\"type\":\"Line\"},{\"attributes\":{},\"id\":\"20364\",\"type\":\"UnionRenderers\"},{\"attributes\":{\"source\":{\"id\":\"19736\"}},\"id\":\"19740\",\"type\":\"CDSView\"},{\"attributes\":{},\"id\":\"19758\",\"type\":\"YearsTicker\"},{\"attributes\":{},\"id\":\"19722\",\"type\":\"PanTool\"},{\"attributes\":{\"text\":\"Logistic Fitting Total Deaths: Italy\"},\"id\":\"19704\",\"type\":\"Title\"},{\"attributes\":{},\"id\":\"19791\",\"type\":\"UnionRenderers\"},{\"attributes\":{},\"id\":\"19723\",\"type\":\"WheelZoomTool\"},{\"attributes\":{\"source\":{\"id\":\"19794\"}},\"id\":\"19798\",\"type\":\"CDSView\"},{\"attributes\":{\"source\":{\"id\":\"19766\"}},\"id\":\"19770\",\"type\":\"CDSView\"},{\"attributes\":{\"overlay\":{\"id\":\"19728\"}},\"id\":\"19724\",\"type\":\"BoxZoomTool\"},{\"attributes\":{\"line_color\":\"darkviolet\",\"line_width\":4,\"x\":{\"field\":\"x\"},\"y\":{\"field\":\"y\"}},\"id\":\"19737\",\"type\":\"Line\"},{\"attributes\":{\"data\":{\"x\":{\"__ndarray__\":\"AAAAaVQrd0IAAMDOpit3QgAAgDT5K3dCAABAmkssd0IAAAAAnix3QgAAwGXwLHdCAACAy0Itd0IAAEAxlS13QgAAAJfnLXdCAADA/Dkud0IAAIBijC53QgAAQMjeLndCAAAALjEvd0IAAMCTgy93QgAAgPnVL3dC\",\"dtype\":\"float64\",\"shape\":[15]},\"y\":{\"__ndarray__\":\"+cYWAVHG4EALlwRXOM7gQHJAYRr21OBAi9EpULXa4EBUFu/5mt/gQPNUU97G4+BAJxibO1Tn4EAcMnRlWurgQGjJeE/t7OBAH4wkBh7v4EBCCAAY+/DgQIVrvfCQ8uBAvBLrJ+rz4EDdYsHED/XgQOqQbngJ9uBA\",\"dtype\":\"float64\",\"shape\":[15]}},\"selected\":{\"id\":\"20365\"},\"selection_policy\":{\"id\":\"20364\"}},\"id\":\"19794\",\"type\":\"ColumnDataSource\"},{\"attributes\":{},\"id\":\"19706\",\"type\":\"DataRange1d\"},{\"attributes\":{},\"id\":\"19710\",\"type\":\"LinearScale\"},{\"attributes\":{},\"id\":\"19725\",\"type\":\"SaveTool\"},{\"attributes\":{\"label\":{\"value\":\"logistic fitting\"},\"renderers\":[{\"id\":\"19769\"}]},\"id\":\"19793\",\"type\":\"LegendItem\"},{\"attributes\":{\"fill_alpha\":{\"value\":0.1},\"fill_color\":{\"value\":\"white\"},\"line_alpha\":{\"value\":0.1},\"line_color\":{\"value\":\"darkviolet\"},\"size\":{\"units\":\"screen\",\"value\":6},\"x\":{\"field\":\"x\"},\"y\":{\"field\":\"y\"}},\"id\":\"19763\",\"type\":\"Circle\"},{\"attributes\":{\"days\":[1,8,15,22]},\"id\":\"19752\",\"type\":\"DaysTicker\"},{\"attributes\":{\"months\":[0,6]},\"id\":\"19757\",\"type\":\"MonthsTicker\"},{\"attributes\":{},\"id\":\"19726\",\"type\":\"ResetTool\"},{\"attributes\":{\"months\":[0,1,2,3,4,5,6,7,8,9,10,11]},\"id\":\"19754\",\"type\":\"MonthsTicker\"},{\"attributes\":{},\"id\":\"19790\",\"type\":\"Selection\"},{\"attributes\":{},\"id\":\"19789\",\"type\":\"UnionRenderers\"},{\"attributes\":{},\"id\":\"19708\",\"type\":\"DataRange1d\"},{\"attributes\":{\"data_source\":{\"id\":\"19766\"},\"glyph\":{\"id\":\"19767\"},\"hover_glyph\":null,\"muted_glyph\":null,\"nonselection_glyph\":{\"id\":\"19768\"},\"selection_glyph\":null,\"view\":{\"id\":\"19770\"}},\"id\":\"19769\",\"type\":\"GlyphRenderer\"},{\"attributes\":{},\"id\":\"19727\",\"type\":\"HelpTool\"},{\"attributes\":{},\"id\":\"20363\",\"type\":\"Selection\"},{\"attributes\":{},\"id\":\"19712\",\"type\":\"LinearScale\"},{\"attributes\":{\"data\":{\"x\":{\"__ndarray__\":\"AAAAaVQrd0IAAMDOpit3QgAAgDT5K3dCAABAmkssd0IAAAAAnix3QgAAwGXwLHdCAACAy0Itd0IAAEAxlS13QgAAAJfnLXdCAADA/Dkud0IAAIBijC53QgAAQMjeLndCAAAALjEvd0IAAMCTgy93QgAAgPnVL3dC\",\"dtype\":\"float64\",\"shape\":[15]},\"y\":[34371,34405,34448,34514,34561,34610,34634,34657,34675,34644,34678,34708,34716,34738,34744]},\"selected\":{\"id\":\"19792\"},\"selection_policy\":{\"id\":\"19791\"}},\"id\":\"19761\",\"type\":\"ColumnDataSource\"},{\"attributes\":{\"months\":[0,2,4,6,8,10]},\"id\":\"19755\",\"type\":\"MonthsTicker\"},{\"attributes\":{\"fill_alpha\":{\"value\":0.1},\"fill_color\":{\"value\":\"white\"},\"line_alpha\":{\"value\":0.1},\"line_color\":{\"value\":\"violet\"},\"size\":{\"units\":\"screen\",\"value\":6},\"x\":{\"field\":\"x\"},\"y\":{\"field\":\"y\"}},\"id\":\"19796\",\"type\":\"Circle\"},{\"attributes\":{\"days\":[1,15]},\"id\":\"19753\",\"type\":\"DaysTicker\"},{\"attributes\":{\"axis_label\":\"Date\",\"formatter\":{\"id\":\"19799\"},\"major_label_orientation\":0.7853981633974483,\"minor_tick_in\":-5,\"minor_tick_out\":-3,\"ticker\":{\"id\":\"19715\"}},\"id\":\"19714\",\"type\":\"DatetimeAxis\"},{\"attributes\":{\"days\":[\"%d %B\"]},\"id\":\"19799\",\"type\":\"DatetimeTickFormatter\"},{\"attributes\":{\"days\":[1,2,3,4,5,6,7,8,9,10,11,12,13,14,15,16,17,18,19,20,21,22,23,24,25,26,27,28,29,30,31]},\"id\":\"19750\",\"type\":\"DaysTicker\"},{\"attributes\":{\"data\":{\"x\":{\"__ndarray__\":\"AAAAaVQrd0IAAMDOpit3QgAAgDT5K3dCAABAmkssd0IAAAAAnix3QgAAwGXwLHdCAACAy0Itd0IAAEAxlS13QgAAAJfnLXdCAADA/Dkud0IAAIBijC53QgAAQMjeLndCAAAALjEvd0IAAMCTgy93QgAAgPnVL3dC\",\"dtype\":\"float64\",\"shape\":[15]},\"y\":{\"__ndarray__\":\"+cYWAVHG4EALlwRXOM7gQHJAYRr21OBAi9EpULXa4EBUFu/5mt/gQPNUU97G4+BAJxibO1Tn4EAcMnRlWurgQGjJeE/t7OBAH4wkBh7v4EBCCAAY+/DgQIVrvfCQ8uBAvBLrJ+rz4EDdYsHED/XgQOqQbngJ9uBA\",\"dtype\":\"float64\",\"shape\":[15]}},\"selected\":{\"id\":\"20363\"},\"selection_policy\":{\"id\":\"20362\"}},\"id\":\"19766\",\"type\":\"ColumnDataSource\"},{\"attributes\":{},\"id\":\"19719\",\"type\":\"BasicTicker\"},{\"attributes\":{\"mantissas\":[1,2,5],\"max_interval\":500.0,\"num_minor_ticks\":0},\"id\":\"19747\",\"type\":\"AdaptiveTicker\"},{\"attributes\":{},\"id\":\"20365\",\"type\":\"Selection\"},{\"attributes\":{\"fill_color\":{\"value\":\"white\"},\"line_color\":{\"value\":\"violet\"},\"size\":{\"units\":\"screen\",\"value\":6},\"x\":{\"field\":\"x\"},\"y\":{\"field\":\"y\"}},\"id\":\"19795\",\"type\":\"Circle\"},{\"attributes\":{},\"id\":\"19803\",\"type\":\"NumeralTickFormatter\"},{\"attributes\":{\"base\":24,\"mantissas\":[1,2,4,6,8,12],\"max_interval\":43200000.0,\"min_interval\":3600000.0,\"num_minor_ticks\":0},\"id\":\"19749\",\"type\":\"AdaptiveTicker\"},{\"attributes\":{\"num_minor_ticks\":5,\"tickers\":[{\"id\":\"19747\"},{\"id\":\"19748\"},{\"id\":\"19749\"},{\"id\":\"19750\"},{\"id\":\"19751\"},{\"id\":\"19752\"},{\"id\":\"19753\"},{\"id\":\"19754\"},{\"id\":\"19755\"},{\"id\":\"19756\"},{\"id\":\"19757\"},{\"id\":\"19758\"}]},\"id\":\"19715\",\"type\":\"DatetimeTicker\"},{\"attributes\":{\"bottom_units\":\"screen\",\"fill_alpha\":0.5,\"fill_color\":\"lightgrey\",\"left_units\":\"screen\",\"level\":\"overlay\",\"line_alpha\":1.0,\"line_color\":\"black\",\"line_dash\":[4,4],\"line_width\":2,\"render_mode\":\"css\",\"right_units\":\"screen\",\"top_units\":\"screen\"},\"id\":\"19728\",\"type\":\"BoxAnnotation\"},{\"attributes\":{\"callback\":null,\"formatters\":{\"@x\":\"datetime\"},\"mode\":\"vline\",\"tooltips\":[[\"date\",\"@x{%d %B}\"],[\"total deaths OR logistic\",\"@y{0.}\"]]},\"id\":\"19804\",\"type\":\"HoverTool\"},{\"attributes\":{\"months\":[0,4,8]},\"id\":\"19756\",\"type\":\"MonthsTicker\"},{\"attributes\":{},\"id\":\"19792\",\"type\":\"Selection\"},{\"attributes\":{\"data_source\":{\"id\":\"19794\"},\"glyph\":{\"id\":\"19795\"},\"hover_glyph\":null,\"muted_glyph\":null,\"nonselection_glyph\":{\"id\":\"19796\"},\"selection_glyph\":null,\"view\":{\"id\":\"19798\"}},\"id\":\"19797\",\"type\":\"GlyphRenderer\"},{\"attributes\":{\"axis\":{\"id\":\"19714\"},\"ticker\":null},\"id\":\"19717\",\"type\":\"Grid\"},{\"attributes\":{\"axis\":{\"id\":\"19718\"},\"dimension\":1,\"ticker\":null},\"id\":\"19721\",\"type\":\"Grid\"},{\"attributes\":{\"items\":[{\"id\":\"19760\"},{\"id\":\"19793\"}],\"location\":\"top_left\"},\"id\":\"19759\",\"type\":\"Legend\"},{\"attributes\":{\"axis_label\":\"Total Deaths\",\"formatter\":{\"id\":\"19803\"},\"minor_tick_in\":-5,\"minor_tick_out\":-3,\"ticker\":{\"id\":\"19719\"}},\"id\":\"19718\",\"type\":\"LinearAxis\"},{\"attributes\":{\"label\":{\"value\":\"total deaths\"},\"renderers\":[{\"id\":\"19739\"}]},\"id\":\"19760\",\"type\":\"LegendItem\"},{\"attributes\":{\"days\":[1,4,7,10,13,16,19,22,25,28]},\"id\":\"19751\",\"type\":\"DaysTicker\"},{\"attributes\":{\"source\":{\"id\":\"19761\"}},\"id\":\"19765\",\"type\":\"CDSView\"},{\"attributes\":{\"base\":60,\"mantissas\":[1,2,5,10,15,20,30],\"max_interval\":1800000.0,\"min_interval\":1000.0,\"num_minor_ticks\":0},\"id\":\"19748\",\"type\":\"AdaptiveTicker\"},{\"attributes\":{},\"id\":\"20362\",\"type\":\"UnionRenderers\"},{\"attributes\":{\"data_source\":{\"id\":\"19761\"},\"glyph\":{\"id\":\"19762\"},\"hover_glyph\":null,\"muted_glyph\":null,\"nonselection_glyph\":{\"id\":\"19763\"},\"selection_glyph\":null,\"view\":{\"id\":\"19765\"}},\"id\":\"19764\",\"type\":\"GlyphRenderer\"},{\"attributes\":{\"line_color\":\"violet\",\"line_width\":4,\"x\":{\"field\":\"x\"},\"y\":{\"field\":\"y\"}},\"id\":\"19767\",\"type\":\"Line\"},{\"attributes\":{\"data_source\":{\"id\":\"19736\"},\"glyph\":{\"id\":\"19737\"},\"hover_glyph\":null,\"muted_glyph\":null,\"nonselection_glyph\":{\"id\":\"19738\"},\"selection_glyph\":null,\"view\":{\"id\":\"19740\"}},\"id\":\"19739\",\"type\":\"GlyphRenderer\"},{\"attributes\":{\"line_alpha\":0.1,\"line_color\":\"darkviolet\",\"line_width\":4,\"x\":{\"field\":\"x\"},\"y\":{\"field\":\"y\"}},\"id\":\"19738\",\"type\":\"Line\"}],\"root_ids\":[\"19703\"]},\"title\":\"Bokeh Application\",\"version\":\"2.0.2\"}};\n",
       "  var render_items = [{\"docid\":\"1a582e49-ff2e-4ae9-906a-26c6aea625bf\",\"root_ids\":[\"19703\"],\"roots\":{\"19703\":\"c378ac41-17c1-4111-81c2-9eaae4fe3dba\"}}];\n",
       "  root.Bokeh.embed.embed_items_notebook(docs_json, render_items);\n",
       "\n",
       "  }\n",
       "  if (root.Bokeh !== undefined) {\n",
       "    embed_document(root);\n",
       "  } else {\n",
       "    var attempts = 0;\n",
       "    var timer = setInterval(function(root) {\n",
       "      if (root.Bokeh !== undefined) {\n",
       "        clearInterval(timer);\n",
       "        embed_document(root);\n",
       "      } else {\n",
       "        attempts++;\n",
       "        if (attempts > 100) {\n",
       "          clearInterval(timer);\n",
       "          console.log(\"Bokeh: ERROR: Unable to run BokehJS code because BokehJS library is missing\");\n",
       "        }\n",
       "      }\n",
       "    }, 10, root)\n",
       "  }\n",
       "})(window);"
      ],
      "application/vnd.bokehjs_exec.v0+json": ""
     },
     "metadata": {
      "application/vnd.bokehjs_exec.v0+json": {
       "id": "19703"
      }
     },
     "output_type": "display_data"
    }
   ],
   "source": [
    "pfit_total_deaths_Italy = bokeh_plot_2_lines(x=time_date_new[fit_range_3:fit_range_4], y=deceduti_italy.loc[(fit_range_3):(fit_range_4-1)], yy=ydata_3, \n",
    "                  title='Logistic Fitting Total Deaths: Italy', \n",
    "                  file_name=\"fit_total_deaths_Italy.html\", \n",
    "                  x_label='Date', y_label='Total Deaths', \n",
    "                  legend_1='total deaths', legend_2='logistic fitting',\n",
    "                  x_label_hover='date' , y_label_hover='total deaths OR logistic' , \n",
    "                  color_1='darkviolet', color_2='violet', y_minmax=None)\n",
    "\n",
    "show(pfit_total_deaths_Italy)"
   ]
  },
  {
   "cell_type": "code",
   "execution_count": 93,
   "metadata": {},
   "outputs": [
    {
     "data": {
      "text/plain": [
       "0.9410729046268227"
      ]
     },
     "execution_count": 93,
     "metadata": {},
     "output_type": "execute_result"
    }
   ],
   "source": [
    "- cov[0,1] / (np.sqrt(np.diag(cov)[0] * np.diag(cov)[1])) # Correlation coefficient for parameters 'K' and 'r'"
   ]
  },
  {
   "cell_type": "code",
   "execution_count": 94,
   "metadata": {},
   "outputs": [
    {
     "data": {
      "text/plain": [
       "0.936358987142789"
      ]
     },
     "execution_count": 94,
     "metadata": {},
     "output_type": "execute_result"
    }
   ],
   "source": [
    "cov[0,2] / (np.sqrt(np.diag(cov)[0] * np.diag(cov)[2])) # Correlation coefficient for parameters 'K' and 'P_0'"
   ]
  },
  {
   "cell_type": "code",
   "execution_count": 95,
   "metadata": {},
   "outputs": [
    {
     "data": {
      "text/plain": [
       "0.9998663677495285"
      ]
     },
     "execution_count": 95,
     "metadata": {},
     "output_type": "execute_result"
    }
   ],
   "source": [
    "- cov[1,2] / (np.sqrt(np.diag(cov)[1] * np.diag(cov)[2])) # Correlation coefficient for parameters 'r' and 'P_0'"
   ]
  },
  {
   "cell_type": "code",
   "execution_count": 96,
   "metadata": {},
   "outputs": [
    {
     "data": {
      "text/plain": [
       "0.9812881937631451"
      ]
     },
     "execution_count": 96,
     "metadata": {},
     "output_type": "execute_result"
    }
   ],
   "source": [
    "residuals_3 = deceduti_italy.loc[(fit_range_3):(fit_range_4-1)] - ydata_3  #  Calculation of R^2\n",
    "ss_res_3 = np.sum(residuals_3**2)\n",
    "ss_tot_3 = np.sum((deceduti_italy.loc[(fit_range_3):(fit_range_4-1)] - np.mean(deceduti_italy.loc[(fit_range_3):(fit_range_4-1)]))**2)\n",
    "r_squared_3 = 1 - (ss_res_3 / ss_tot_3)\n",
    "r_squared_3"
   ]
  },
  {
   "cell_type": "markdown",
   "metadata": {},
   "source": [
    "---------------"
   ]
  },
  {
   "cell_type": "code",
   "execution_count": 97,
   "metadata": {},
   "outputs": [
    {
     "name": "stderr",
     "output_type": "stream",
     "text": [
      "/Users/Angelo/opt/anaconda3/lib/python3.7/site-packages/ipykernel_launcher.py:8: RuntimeWarning: overflow encountered in exp\n",
      "  \n"
     ]
    }
   ],
   "source": [
    "max_deaths = []\n",
    "max_deaths_up = []\n",
    "max_deaths_down = []\n",
    "\n",
    "# iii = len(deceduti_italy)\n",
    "iii = 15\n",
    "\n",
    "while (iii <= len(deceduti_italy)):\n",
    "    fit_range_3 = iii - 15\n",
    "    fit_range_4 = iii\n",
    "    xdata_3 = np.linspace(fit_range_3, fit_range_4, fit_range_4 - fit_range_3)\n",
    "    init_guess = [80000,0.001,0.001]\n",
    "    fit = curve_fit(model_population, xdata_3, deceduti_italy.loc[fit_range_3:(fit_range_4-1)], p0=init_guess)\n",
    "    ans, cov = fit\n",
    "    fit_K, fit_r, fit_P_0 = ans\n",
    "    max_deaths.append(fit_K)\n",
    "    max_deaths_up.append(fit_K + np.sqrt(np.diag(cov))[0])\n",
    "    max_deaths_down.append(fit_K - np.sqrt(np.diag(cov))[0])\n",
    "    iii = iii + 1"
   ]
  },
  {
   "cell_type": "code",
   "execution_count": 98,
   "metadata": {},
   "outputs": [
    {
     "data": {
      "text/plain": [
       "113"
      ]
     },
     "execution_count": 98,
     "metadata": {},
     "output_type": "execute_result"
    }
   ],
   "source": [
    "len(max_deaths)"
   ]
  },
  {
   "cell_type": "code",
   "execution_count": 99,
   "metadata": {},
   "outputs": [
    {
     "name": "stderr",
     "output_type": "stream",
     "text": [
      "BokehUserWarning: ColumnDataSource's columns must be of the same length. Current lengths: ('x', 127), ('y', 113)\n",
      "BokehUserWarning: ColumnDataSource's columns must be of the same length. Current lengths: ('x', 127), ('y', 113)\n"
     ]
    },
    {
     "data": {
      "text/html": [
       "\n",
       "\n",
       "\n",
       "\n",
       "\n",
       "\n",
       "  <div class=\"bk-root\" id=\"9cd3972c-9afb-4b99-8b64-71b259491d07\" data-root-id=\"20823\"></div>\n"
      ]
     },
     "metadata": {},
     "output_type": "display_data"
    },
    {
     "data": {
      "application/javascript": [
       "(function(root) {\n",
       "  function embed_document(root) {\n",
       "    \n",
       "  var docs_json = {\"2ee111b2-193a-4393-ae6d-b5fe55db615a\":{\"roots\":{\"references\":[{\"attributes\":{\"below\":[{\"id\":\"20834\"}],\"center\":[{\"id\":\"20837\"},{\"id\":\"20841\"},{\"id\":\"20879\"}],\"left\":[{\"id\":\"20838\"}],\"plot_height\":450,\"renderers\":[{\"id\":\"20859\"},{\"id\":\"20884\"}],\"title\":{\"id\":\"20824\"},\"toolbar\":{\"id\":\"20849\"},\"x_range\":{\"id\":\"20826\"},\"x_scale\":{\"id\":\"20830\"},\"y_range\":{\"id\":\"20828\"},\"y_scale\":{\"id\":\"20832\"}},\"id\":\"20823\",\"subtype\":\"Figure\",\"type\":\"Plot\"},{\"attributes\":{},\"id\":\"20826\",\"type\":\"DataRange1d\"},{\"attributes\":{},\"id\":\"20830\",\"type\":\"LinearScale\"},{\"attributes\":{\"overlay\":{\"id\":\"20848\"}},\"id\":\"20844\",\"type\":\"BoxZoomTool\"},{\"attributes\":{\"mantissas\":[1,2,5],\"max_interval\":500.0,\"num_minor_ticks\":0},\"id\":\"20867\",\"type\":\"AdaptiveTicker\"},{\"attributes\":{\"base\":60,\"mantissas\":[1,2,5,10,15,20,30],\"max_interval\":1800000.0,\"min_interval\":1000.0,\"num_minor_ticks\":0},\"id\":\"20868\",\"type\":\"AdaptiveTicker\"},{\"attributes\":{},\"id\":\"20845\",\"type\":\"SaveTool\"},{\"attributes\":{\"callback\":null,\"formatters\":{\"@x\":\"datetime\"},\"mode\":\"vline\",\"tooltips\":[[\"date\",\"@x{%d %B}\"],[\"total deaths max\",\"@y{0.}\"]]},\"id\":\"20891\",\"type\":\"HoverTool\"},{\"attributes\":{},\"id\":\"20846\",\"type\":\"ResetTool\"},{\"attributes\":{\"items\":[{\"id\":\"20880\"}],\"location\":\"top_left\"},\"id\":\"20879\",\"type\":\"Legend\"},{\"attributes\":{},\"id\":\"20828\",\"type\":\"DataRange1d\"},{\"attributes\":{\"base\":24,\"mantissas\":[1,2,4,6,8,12],\"max_interval\":43200000.0,\"min_interval\":3600000.0,\"num_minor_ticks\":0},\"id\":\"20869\",\"type\":\"AdaptiveTicker\"},{\"attributes\":{\"months\":[0,1,2,3,4,5,6,7,8,9,10,11]},\"id\":\"20874\",\"type\":\"MonthsTicker\"},{\"attributes\":{\"months\":[0,2,4,6,8,10]},\"id\":\"20875\",\"type\":\"MonthsTicker\"},{\"attributes\":{},\"id\":\"20832\",\"type\":\"LinearScale\"},{\"attributes\":{},\"id\":\"20847\",\"type\":\"HelpTool\"},{\"attributes\":{\"axis_label\":\"Date\",\"formatter\":{\"id\":\"20886\"},\"major_label_orientation\":0.7853981633974483,\"minor_tick_in\":-5,\"minor_tick_out\":-3,\"ticker\":{\"id\":\"20835\"}},\"id\":\"20834\",\"type\":\"DatetimeAxis\"},{\"attributes\":{\"data_source\":{\"id\":\"20856\"},\"glyph\":{\"id\":\"20857\"},\"hover_glyph\":null,\"muted_glyph\":null,\"nonselection_glyph\":{\"id\":\"20858\"},\"selection_glyph\":null,\"view\":{\"id\":\"20860\"}},\"id\":\"20859\",\"type\":\"GlyphRenderer\"},{\"attributes\":{\"label\":{\"value\":\"total deaths max\"},\"renderers\":[{\"id\":\"20859\"}]},\"id\":\"20880\",\"type\":\"LegendItem\"},{\"attributes\":{\"data\":{\"x\":{\"__ndarray__\":\"AACAdckLd0IAAEDbGwx3QgAAAEFuDHdCAADApsAMd0IAAIAMEw13QgAAQHJlDXdCAAAA2LcNd0IAAMA9Cg53QgAAgKNcDndCAABACa8Od0IAAABvAQ93QgAAwNRTD3dCAACAOqYPd0IAAECg+A93QgAAAAZLEHdCAADAa50Qd0IAAIDR7xB3QgAAQDdCEXdCAAAAnZQRd0IAAMAC5xF3QgAAgGg5EndCAABAzosSd0IAAAA03hJ3QgAAwJkwE3dCAACA/4ITd0IAAEBl1RN3QgAAAMsnFHdCAADAMHoUd0IAAICWzBR3QgAAQPweFXdCAAAAYnEVd0IAAMDHwxV3QgAAgC0WFndCAABAk2gWd0IAAAD5uhZ3QgAAwF4NF3dCAACAxF8Xd0IAAEAqshd3QgAAAJAEGHdCAADA9VYYd0IAAIBbqRh3QgAAQMH7GHdCAAAAJ04Zd0IAAMCMoBl3QgAAgPLyGXdCAABAWEUad0IAAAC+lxp3QgAAwCPqGndCAACAiTwbd0IAAEDvjht3QgAAAFXhG3dCAADAujMcd0IAAIAghhx3QgAAQIbYHHdCAAAA7Codd0IAAMBRfR13QgAAgLfPHXdCAABAHSIed0IAAACDdB53QgAAwOjGHndCAACAThkfd0IAAEC0ax93QgAAABq+H3dCAADAfxAgd0IAAIDlYiB3QgAAQEu1IHdCAAAAsQchd0IAAMAWWiF3QgAAgHysIXdCAABA4v4hd0IAAABIUSJ3QgAAwK2jIndCAACAE/Yid0IAAEB5SCN3QgAAAN+aI3dCAADARO0jd0IAAICqPyR3QgAAQBCSJHdCAAAAduQkd0IAAMDbNiV3QgAAgEGJJXdCAABAp9sld0IAAAANLiZ3QgAAwHKAJndCAACA2NImd0IAAEA+JSd3QgAAAKR3J3dCAADACcond0IAAIBvHCh3QgAAQNVuKHdCAAAAO8Eod0IAAMCgEyl3QgAAgAZmKXdCAABAbLgpd0IAAADSCip3QgAAwDddKndCAACAna8qd0IAAEADAit3QgAAAGlUK3dCAADAzqYrd0IAAIA0+St3QgAAQJpLLHdCAAAAAJ4sd0IAAMBl8Cx3QgAAgMtCLXdCAABAMZUtd0IAAACX5y13QgAAwPw5LndCAACAYowud0IAAEDI3i53QgAAAC4xL3dCAADAk4Mvd0IAAID51S93QgAAQF8oMHdCAAAAxXowd0IAAMAqzTB3QgAAgJAfMXdCAABA9nExd0IAAABcxDF3QgAAwMEWMndCAACAJ2kyd0IAAECNuzJ3QgAAAPMNM3dCAADAWGAzd0IAAIC+sjN3QgAAQCQFNHdCAAAAilc0d0I=\",\"dtype\":\"float64\",\"shape\":[127]},\"y\":[5383.6596092904065,11586.586976529454,6256.115115649222,2921.658124836654,2995.3696834950824,2438.049970074125,3280.8262087779594,4171.791660983626,4628.839818312201,5780.657588128703,6402.286367116678,8338.126960653863,13438.041684871727,15673.024214700494,13988.73415496513,13983.069050433938,13643.268016949949,13280.422296375873,14541.035426240474,15948.31868212823,16919.447900144303,17624.14409613583,18427.57334674624,19024.31686659782,19595.446211927356,20492.703154545885,21108.5383707799,20826.538772937543,20749.062497024675,20941.22539593412,21105.43169556148,21602.86770287848,22532.032375414285,23553.98317175984,24188.844519767543,25240.951466661896,26808.0719035675,28665.271023131954,30936.49184458559,33695.962544052265,34834.49868458522,34064.377627766225,33887.82027534752,34098.426117585965,33838.70772885899,34120.71784750253,34013.01934670106,33912.26043688998,32554.455468747023,32205.915752532,32344.579720552705,32404.129983801267,32285.390477842815,32204.853289620547,32787.837743913165,32806.5573498251,32829.535005267986,33128.684259480826,33957.756442907164,35239.37223176212,36228.026855982396,36193.92159191195,34944.57172641624,34525.59559431845,34290.856415843744,34014.02741872075,34256.298341342124,35176.15740591003,36767.556446592695,35628.519323998466,34959.908708032715,35175.56304992349,36291.63567847923,36623.77439868876,36215.77365308548,35420.11882097668,34541.41659772791,34133.82886880968,33922.29753387945,33996.16777848686,34203.53529120357,34344.359642770425,34376.56052032992,34402.71447145229,34395.08631828215,34639.58687636816,35049.515930923386,35818.66126514765,36753.582348162876,37068.83604223238,35975.02534544718,35940.17360065014,36254.82556907301,37532.14911399668,37416.92357068681,37867.42164332909,40116.05744946298,37720.211275745474,35983.209634172876,35363.48992105854,35180.62730219532,35252.09386316814,35327.25790264103,35385.09970192637,35305.8909468437,35283.93612344877,35258.455485397484,34999.571817581,34896.990949696614,34867.217490531155,34845.00086747922,34811.32065938844,34780.59104572038]},\"selected\":{\"id\":\"21472\"},\"selection_policy\":{\"id\":\"21471\"}},\"id\":\"20881\",\"type\":\"ColumnDataSource\"},{\"attributes\":{},\"id\":\"20839\",\"type\":\"BasicTicker\"},{\"attributes\":{\"active_drag\":\"auto\",\"active_inspect\":\"auto\",\"active_multi\":null,\"active_scroll\":\"auto\",\"active_tap\":\"auto\",\"tools\":[{\"id\":\"20842\"},{\"id\":\"20843\"},{\"id\":\"20844\"},{\"id\":\"20845\"},{\"id\":\"20846\"},{\"id\":\"20847\"},{\"id\":\"20891\"}]},\"id\":\"20849\",\"type\":\"Toolbar\"},{\"attributes\":{\"num_minor_ticks\":5,\"tickers\":[{\"id\":\"20867\"},{\"id\":\"20868\"},{\"id\":\"20869\"},{\"id\":\"20870\"},{\"id\":\"20871\"},{\"id\":\"20872\"},{\"id\":\"20873\"},{\"id\":\"20874\"},{\"id\":\"20875\"},{\"id\":\"20876\"},{\"id\":\"20877\"},{\"id\":\"20878\"}]},\"id\":\"20835\",\"type\":\"DatetimeTicker\"},{\"attributes\":{\"days\":[1,2,3,4,5,6,7,8,9,10,11,12,13,14,15,16,17,18,19,20,21,22,23,24,25,26,27,28,29,30,31]},\"id\":\"20870\",\"type\":\"DaysTicker\"},{\"attributes\":{},\"id\":\"21470\",\"type\":\"Selection\"},{\"attributes\":{\"source\":{\"id\":\"20856\"}},\"id\":\"20860\",\"type\":\"CDSView\"},{\"attributes\":{\"fill_alpha\":{\"value\":0.1},\"fill_color\":{\"value\":\"white\"},\"line_alpha\":{\"value\":0.1},\"line_color\":{\"value\":\"darkviolet\"},\"size\":{\"units\":\"screen\",\"value\":6},\"x\":{\"field\":\"x\"},\"y\":{\"field\":\"y\"}},\"id\":\"20883\",\"type\":\"Circle\"},{\"attributes\":{\"axis\":{\"id\":\"20834\"},\"ticker\":null},\"id\":\"20837\",\"type\":\"Grid\"},{\"attributes\":{\"axis\":{\"id\":\"20838\"},\"dimension\":1,\"ticker\":null},\"id\":\"20841\",\"type\":\"Grid\"},{\"attributes\":{\"data_source\":{\"id\":\"20881\"},\"glyph\":{\"id\":\"20882\"},\"hover_glyph\":null,\"muted_glyph\":null,\"nonselection_glyph\":{\"id\":\"20883\"},\"selection_glyph\":null,\"view\":{\"id\":\"20885\"}},\"id\":\"20884\",\"type\":\"GlyphRenderer\"},{\"attributes\":{\"days\":[1,8,15,22]},\"id\":\"20872\",\"type\":\"DaysTicker\"},{\"attributes\":{\"axis_label\":\"Total Deaths MAX\",\"formatter\":{\"id\":\"20890\"},\"minor_tick_in\":-5,\"minor_tick_out\":-3,\"ticker\":{\"id\":\"20839\"}},\"id\":\"20838\",\"type\":\"LinearAxis\"},{\"attributes\":{},\"id\":\"21472\",\"type\":\"Selection\"},{\"attributes\":{\"days\":[\"%d %B\"]},\"id\":\"20886\",\"type\":\"DatetimeTickFormatter\"},{\"attributes\":{\"data\":{\"x\":{\"__ndarray__\":\"AACAdckLd0IAAEDbGwx3QgAAAEFuDHdCAADApsAMd0IAAIAMEw13QgAAQHJlDXdCAAAA2LcNd0IAAMA9Cg53QgAAgKNcDndCAABACa8Od0IAAABvAQ93QgAAwNRTD3dCAACAOqYPd0IAAECg+A93QgAAAAZLEHdCAADAa50Qd0IAAIDR7xB3QgAAQDdCEXdCAAAAnZQRd0IAAMAC5xF3QgAAgGg5EndCAABAzosSd0IAAAA03hJ3QgAAwJkwE3dCAACA/4ITd0IAAEBl1RN3QgAAAMsnFHdCAADAMHoUd0IAAICWzBR3QgAAQPweFXdCAAAAYnEVd0IAAMDHwxV3QgAAgC0WFndCAABAk2gWd0IAAAD5uhZ3QgAAwF4NF3dCAACAxF8Xd0IAAEAqshd3QgAAAJAEGHdCAADA9VYYd0IAAIBbqRh3QgAAQMH7GHdCAAAAJ04Zd0IAAMCMoBl3QgAAgPLyGXdCAABAWEUad0IAAAC+lxp3QgAAwCPqGndCAACAiTwbd0IAAEDvjht3QgAAAFXhG3dCAADAujMcd0IAAIAghhx3QgAAQIbYHHdCAAAA7Codd0IAAMBRfR13QgAAgLfPHXdCAABAHSIed0IAAACDdB53QgAAwOjGHndCAACAThkfd0IAAEC0ax93QgAAABq+H3dCAADAfxAgd0IAAIDlYiB3QgAAQEu1IHdCAAAAsQchd0IAAMAWWiF3QgAAgHysIXdCAABA4v4hd0IAAABIUSJ3QgAAwK2jIndCAACAE/Yid0IAAEB5SCN3QgAAAN+aI3dCAADARO0jd0IAAICqPyR3QgAAQBCSJHdCAAAAduQkd0IAAMDbNiV3QgAAgEGJJXdCAABAp9sld0IAAAANLiZ3QgAAwHKAJndCAACA2NImd0IAAEA+JSd3QgAAAKR3J3dCAADACcond0IAAIBvHCh3QgAAQNVuKHdCAAAAO8Eod0IAAMCgEyl3QgAAgAZmKXdCAABAbLgpd0IAAADSCip3QgAAwDddKndCAACAna8qd0IAAEADAit3QgAAAGlUK3dCAADAzqYrd0IAAIA0+St3QgAAQJpLLHdCAAAAAJ4sd0IAAMBl8Cx3QgAAgMtCLXdCAABAMZUtd0IAAACX5y13QgAAwPw5LndCAACAYowud0IAAEDI3i53QgAAAC4xL3dCAADAk4Mvd0IAAID51S93QgAAQF8oMHdCAAAAxXowd0IAAMAqzTB3QgAAgJAfMXdCAABA9nExd0IAAABcxDF3QgAAwMEWMndCAACAJ2kyd0IAAECNuzJ3QgAAAPMNM3dCAADAWGAzd0IAAIC+sjN3QgAAQCQFNHdCAAAAilc0d0I=\",\"dtype\":\"float64\",\"shape\":[127]},\"y\":[5383.6596092904065,11586.586976529454,6256.115115649222,2921.658124836654,2995.3696834950824,2438.049970074125,3280.8262087779594,4171.791660983626,4628.839818312201,5780.657588128703,6402.286367116678,8338.126960653863,13438.041684871727,15673.024214700494,13988.73415496513,13983.069050433938,13643.268016949949,13280.422296375873,14541.035426240474,15948.31868212823,16919.447900144303,17624.14409613583,18427.57334674624,19024.31686659782,19595.446211927356,20492.703154545885,21108.5383707799,20826.538772937543,20749.062497024675,20941.22539593412,21105.43169556148,21602.86770287848,22532.032375414285,23553.98317175984,24188.844519767543,25240.951466661896,26808.0719035675,28665.271023131954,30936.49184458559,33695.962544052265,34834.49868458522,34064.377627766225,33887.82027534752,34098.426117585965,33838.70772885899,34120.71784750253,34013.01934670106,33912.26043688998,32554.455468747023,32205.915752532,32344.579720552705,32404.129983801267,32285.390477842815,32204.853289620547,32787.837743913165,32806.5573498251,32829.535005267986,33128.684259480826,33957.756442907164,35239.37223176212,36228.026855982396,36193.92159191195,34944.57172641624,34525.59559431845,34290.856415843744,34014.02741872075,34256.298341342124,35176.15740591003,36767.556446592695,35628.519323998466,34959.908708032715,35175.56304992349,36291.63567847923,36623.77439868876,36215.77365308548,35420.11882097668,34541.41659772791,34133.82886880968,33922.29753387945,33996.16777848686,34203.53529120357,34344.359642770425,34376.56052032992,34402.71447145229,34395.08631828215,34639.58687636816,35049.515930923386,35818.66126514765,36753.582348162876,37068.83604223238,35975.02534544718,35940.17360065014,36254.82556907301,37532.14911399668,37416.92357068681,37867.42164332909,40116.05744946298,37720.211275745474,35983.209634172876,35363.48992105854,35180.62730219532,35252.09386316814,35327.25790264103,35385.09970192637,35305.8909468437,35283.93612344877,35258.455485397484,34999.571817581,34896.990949696614,34867.217490531155,34845.00086747922,34811.32065938844,34780.59104572038]},\"selected\":{\"id\":\"21470\"},\"selection_policy\":{\"id\":\"21469\"}},\"id\":\"20856\",\"type\":\"ColumnDataSource\"},{\"attributes\":{},\"id\":\"20890\",\"type\":\"NumeralTickFormatter\"},{\"attributes\":{\"days\":[1,4,7,10,13,16,19,22,25,28]},\"id\":\"20871\",\"type\":\"DaysTicker\"},{\"attributes\":{\"source\":{\"id\":\"20881\"}},\"id\":\"20885\",\"type\":\"CDSView\"},{\"attributes\":{\"line_alpha\":0.1,\"line_color\":\"darkviolet\",\"line_width\":4,\"x\":{\"field\":\"x\"},\"y\":{\"field\":\"y\"}},\"id\":\"20858\",\"type\":\"Line\"},{\"attributes\":{},\"id\":\"21469\",\"type\":\"UnionRenderers\"},{\"attributes\":{},\"id\":\"21471\",\"type\":\"UnionRenderers\"},{\"attributes\":{\"bottom_units\":\"screen\",\"fill_alpha\":0.5,\"fill_color\":\"lightgrey\",\"left_units\":\"screen\",\"level\":\"overlay\",\"line_alpha\":1.0,\"line_color\":\"black\",\"line_dash\":[4,4],\"line_width\":2,\"render_mode\":\"css\",\"right_units\":\"screen\",\"top_units\":\"screen\"},\"id\":\"20848\",\"type\":\"BoxAnnotation\"},{\"attributes\":{\"line_color\":\"darkviolet\",\"line_width\":4,\"x\":{\"field\":\"x\"},\"y\":{\"field\":\"y\"}},\"id\":\"20857\",\"type\":\"Line\"},{\"attributes\":{\"months\":[0,6]},\"id\":\"20877\",\"type\":\"MonthsTicker\"},{\"attributes\":{\"days\":[1,15]},\"id\":\"20873\",\"type\":\"DaysTicker\"},{\"attributes\":{},\"id\":\"20842\",\"type\":\"PanTool\"},{\"attributes\":{\"months\":[0,4,8]},\"id\":\"20876\",\"type\":\"MonthsTicker\"},{\"attributes\":{},\"id\":\"20878\",\"type\":\"YearsTicker\"},{\"attributes\":{\"text\":\"Total Deaths MAX: Italy\"},\"id\":\"20824\",\"type\":\"Title\"},{\"attributes\":{\"fill_color\":{\"value\":\"white\"},\"line_color\":{\"value\":\"darkviolet\"},\"size\":{\"units\":\"screen\",\"value\":6},\"x\":{\"field\":\"x\"},\"y\":{\"field\":\"y\"}},\"id\":\"20882\",\"type\":\"Circle\"},{\"attributes\":{},\"id\":\"20843\",\"type\":\"WheelZoomTool\"}],\"root_ids\":[\"20823\"]},\"title\":\"Bokeh Application\",\"version\":\"2.0.2\"}};\n",
       "  var render_items = [{\"docid\":\"2ee111b2-193a-4393-ae6d-b5fe55db615a\",\"root_ids\":[\"20823\"],\"roots\":{\"20823\":\"9cd3972c-9afb-4b99-8b64-71b259491d07\"}}];\n",
       "  root.Bokeh.embed.embed_items_notebook(docs_json, render_items);\n",
       "\n",
       "  }\n",
       "  if (root.Bokeh !== undefined) {\n",
       "    embed_document(root);\n",
       "  } else {\n",
       "    var attempts = 0;\n",
       "    var timer = setInterval(function(root) {\n",
       "      if (root.Bokeh !== undefined) {\n",
       "        clearInterval(timer);\n",
       "        embed_document(root);\n",
       "      } else {\n",
       "        attempts++;\n",
       "        if (attempts > 100) {\n",
       "          clearInterval(timer);\n",
       "          console.log(\"Bokeh: ERROR: Unable to run BokehJS code because BokehJS library is missing\");\n",
       "        }\n",
       "      }\n",
       "    }, 10, root)\n",
       "  }\n",
       "})(window);"
      ],
      "application/vnd.bokehjs_exec.v0+json": ""
     },
     "metadata": {
      "application/vnd.bokehjs_exec.v0+json": {
       "id": "20823"
      }
     },
     "output_type": "display_data"
    }
   ],
   "source": [
    "p_total_deaths_MAX_Italy = bokeh_plot_1_line(x=time_date_new + 14, y=max_deaths, \n",
    "                  title='Total Deaths MAX: Italy', \n",
    "                  file_name=\"total_deaths_MAX_Italy.html\", \n",
    "                  x_label='Date', \n",
    "                  y_label='Total Deaths MAX', legend='total deaths max',\n",
    "                  x_label_hover='date', y_label_hover='total deaths max',\n",
    "                  color='darkviolet', y_minmax=None)\n",
    "\n",
    "show(p_total_deaths_MAX_Italy)"
   ]
  },
  {
   "cell_type": "code",
   "execution_count": 100,
   "metadata": {},
   "outputs": [
    {
     "name": "stderr",
     "output_type": "stream",
     "text": [
      "BokehUserWarning: ColumnDataSource's columns must be of the same length. Current lengths: ('x', 127), ('y', 113)\n",
      "BokehUserWarning: ColumnDataSource's columns must be of the same length. Current lengths: ('x', 127), ('y', 113)\n",
      "BokehUserWarning: ColumnDataSource's columns must be of the same length. Current lengths: ('x', 127), ('y', 113)\n",
      "BokehUserWarning: ColumnDataSource's columns must be of the same length. Current lengths: ('x', 127), ('y', 113)\n",
      "BokehUserWarning: ColumnDataSource's columns must be of the same length. Current lengths: ('x', 127), ('y', 113)\n",
      "BokehUserWarning: ColumnDataSource's columns must be of the same length. Current lengths: ('x', 127), ('y', 113)\n"
     ]
    },
    {
     "data": {
      "text/html": [
       "\n",
       "\n",
       "\n",
       "\n",
       "\n",
       "\n",
       "  <div class=\"bk-root\" id=\"949ff2ba-dcc7-4f1b-a341-f83203f604f0\" data-root-id=\"21854\"></div>\n"
      ]
     },
     "metadata": {},
     "output_type": "display_data"
    },
    {
     "data": {
      "application/javascript": [
       "(function(root) {\n",
       "  function embed_document(root) {\n",
       "    \n",
       "  var docs_json = {\"61d3b4de-0fd5-4855-a474-3f3292cfcff1\":{\"roots\":{\"references\":[{\"attributes\":{\"below\":[{\"id\":\"21865\"}],\"center\":[{\"id\":\"21868\"},{\"id\":\"21872\"},{\"id\":\"21910\"}],\"left\":[{\"id\":\"21869\"}],\"plot_height\":450,\"renderers\":[{\"id\":\"21890\"},{\"id\":\"21915\"},{\"id\":\"21920\"},{\"id\":\"21948\"},{\"id\":\"21953\"},{\"id\":\"21985\"}],\"title\":{\"id\":\"21855\"},\"toolbar\":{\"id\":\"21880\"},\"x_range\":{\"id\":\"21857\"},\"x_scale\":{\"id\":\"21861\"},\"y_range\":{\"id\":\"21859\"},\"y_scale\":{\"id\":\"21863\"}},\"id\":\"21854\",\"subtype\":\"Figure\",\"type\":\"Plot\"},{\"attributes\":{\"days\":[1,15]},\"id\":\"21904\",\"type\":\"DaysTicker\"},{\"attributes\":{\"axis\":{\"id\":\"21869\"},\"dimension\":1,\"ticker\":null},\"id\":\"21872\",\"type\":\"Grid\"},{\"attributes\":{\"months\":[0,1,2,3,4,5,6,7,8,9,10,11]},\"id\":\"21905\",\"type\":\"MonthsTicker\"},{\"attributes\":{\"months\":[0,2,4,6,8,10]},\"id\":\"21906\",\"type\":\"MonthsTicker\"},{\"attributes\":{\"months\":[0,4,8]},\"id\":\"21907\",\"type\":\"MonthsTicker\"},{\"attributes\":{\"axis_label\":\"Total Deaths MAX\",\"formatter\":{\"id\":\"21989\"},\"minor_tick_in\":-5,\"minor_tick_out\":-3,\"ticker\":{\"id\":\"21870\"}},\"id\":\"21869\",\"type\":\"LinearAxis\"},{\"attributes\":{\"months\":[0,6]},\"id\":\"21908\",\"type\":\"MonthsTicker\"},{\"attributes\":{},\"id\":\"21941\",\"type\":\"Selection\"},{\"attributes\":{},\"id\":\"21861\",\"type\":\"LinearScale\"},{\"attributes\":{\"text\":\"Total Deaths MAX: Italy\"},\"id\":\"21855\",\"type\":\"Title\"},{\"attributes\":{\"data_source\":{\"id\":\"21917\"},\"glyph\":{\"id\":\"21918\"},\"hover_glyph\":null,\"muted_glyph\":null,\"nonselection_glyph\":{\"id\":\"21919\"},\"selection_glyph\":null,\"view\":{\"id\":\"21921\"}},\"id\":\"21920\",\"type\":\"GlyphRenderer\"},{\"attributes\":{},\"id\":\"21942\",\"type\":\"UnionRenderers\"},{\"attributes\":{\"fill_alpha\":{\"value\":0.1},\"fill_color\":{\"value\":\"white\"},\"line_alpha\":{\"value\":0.1},\"line_color\":{\"value\":\"lightcoral\"},\"size\":{\"units\":\"screen\",\"value\":5},\"x\":{\"field\":\"x\"},\"y\":{\"field\":\"y\"}},\"id\":\"21947\",\"type\":\"Circle\"},{\"attributes\":{\"line_color\":\"darkviolet\",\"line_width\":4,\"x\":{\"field\":\"x\"},\"y\":{\"field\":\"y\"}},\"id\":\"21888\",\"type\":\"Line\"},{\"attributes\":{},\"id\":\"21943\",\"type\":\"Selection\"},{\"attributes\":{\"data\":{\"x\":{\"__ndarray__\":\"AACAdckLd0IAAEDbGwx3QgAAAEFuDHdCAADApsAMd0IAAIAMEw13QgAAQHJlDXdCAAAA2LcNd0IAAMA9Cg53QgAAgKNcDndCAABACa8Od0IAAABvAQ93QgAAwNRTD3dCAACAOqYPd0IAAECg+A93QgAAAAZLEHdCAADAa50Qd0IAAIDR7xB3QgAAQDdCEXdCAAAAnZQRd0IAAMAC5xF3QgAAgGg5EndCAABAzosSd0IAAAA03hJ3QgAAwJkwE3dCAACA/4ITd0IAAEBl1RN3QgAAAMsnFHdCAADAMHoUd0IAAICWzBR3QgAAQPweFXdCAAAAYnEVd0IAAMDHwxV3QgAAgC0WFndCAABAk2gWd0IAAAD5uhZ3QgAAwF4NF3dCAACAxF8Xd0IAAEAqshd3QgAAAJAEGHdCAADA9VYYd0IAAIBbqRh3QgAAQMH7GHdCAAAAJ04Zd0IAAMCMoBl3QgAAgPLyGXdCAABAWEUad0IAAAC+lxp3QgAAwCPqGndCAACAiTwbd0IAAEDvjht3QgAAAFXhG3dCAADAujMcd0IAAIAghhx3QgAAQIbYHHdCAAAA7Codd0IAAMBRfR13QgAAgLfPHXdCAABAHSIed0IAAACDdB53QgAAwOjGHndCAACAThkfd0IAAEC0ax93QgAAABq+H3dCAADAfxAgd0IAAIDlYiB3QgAAQEu1IHdCAAAAsQchd0IAAMAWWiF3QgAAgHysIXdCAABA4v4hd0IAAABIUSJ3QgAAwK2jIndCAACAE/Yid0IAAEB5SCN3QgAAAN+aI3dCAADARO0jd0IAAICqPyR3QgAAQBCSJHdCAAAAduQkd0IAAMDbNiV3QgAAgEGJJXdCAABAp9sld0IAAAANLiZ3QgAAwHKAJndCAACA2NImd0IAAEA+JSd3QgAAAKR3J3dCAADACcond0IAAIBvHCh3QgAAQNVuKHdCAAAAO8Eod0IAAMCgEyl3QgAAgAZmKXdCAABAbLgpd0IAAADSCip3QgAAwDddKndCAACAna8qd0IAAEADAit3QgAAAGlUK3dCAADAzqYrd0IAAIA0+St3QgAAQJpLLHdCAAAAAJ4sd0IAAMBl8Cx3QgAAgMtCLXdCAABAMZUtd0IAAACX5y13QgAAwPw5LndCAACAYowud0IAAEDI3i53QgAAAC4xL3dCAADAk4Mvd0IAAID51S93QgAAQF8oMHdCAAAAxXowd0IAAMAqzTB3QgAAgJAfMXdCAABA9nExd0IAAABcxDF3QgAAwMEWMndCAACAJ2kyd0IAAECNuzJ3QgAAAPMNM3dCAADAWGAzd0IAAIC+sjN3QgAAQCQFNHdCAAAAilc0d0I=\",\"dtype\":\"float64\",\"shape\":[127]},\"y\":[15126.22446615273,37293.56878713092,10255.769525094602,3439.9947850040458,3313.02138001441,2586.9708812681347,3623.914396421633,4651.057813357563,5050.779275102898,6391.532847483163,6957.044682717751,9316.416481045784,16392.288644633736,18325.72183057608,15481.8602169969,15011.571872634177,14368.46451013765,13803.27480284032,15240.321155112646,16833.425582841955,17766.844805860437,18418.303397647738,19202.94700693323,19707.718158555377,20206.865611223024,20977.56483635313,21441.9983402785,21119.124956683583,20987.343321689383,21177.345281487564,21340.679060805727,21907.84574920276,22852.375149319574,24000.450754674242,24670.398551101458,25788.06617468369,27499.263941336943,29589.129636094258,31944.650815107852,34719.7955239108,35804.10722501527,34952.459517738986,34729.62212404043,34925.368544591445,34585.6136151191,34867.02623487922,34707.80181620491,34558.31623479004,32985.555725266684,32624.687210666816,32757.393168488044,32808.73787500851,32662.42135040724,32563.410691405064,33355.84622559353,33357.63326320049,33372.52576860454,33679.94610713555,34701.995373591984,36283.30564815349,37529.98221340563,37467.790160677294,35802.98738997665,35286.241239083516,34999.283818844946,34626.46899812836,34941.29261270131,36244.67104115673,38475.94906140051,36647.46149941817,35721.795333282644,36003.82725651222,37398.62451113495,37856.14209648177,37255.79045379563,36070.885495604736,34884.97876536398,34352.83354112061,34085.40384186729,34173.388266574286,34401.441657501426,34567.73595187179,34604.17348147893,34632.48991608872,34615.69536693465,34915.78475916209,35415.629904556576,36402.36412015375,37780.493295056986,38288.46654843085,36462.873042333624,36410.79878210264,36866.858692748596,38756.89686487875,38572.87429838713,39270.42643643237,43157.143008510655,38884.10441745088,36346.639872995744,35537.19011612215,35311.852491643986,35404.39330304099,35505.17618388665,35584.53969131409,35469.39632518595,35442.85384909087,35417.177872061584,35125.13784400409,34984.19386918289,34941.01247433142,34909.90921640708,34854.407716970054,34805.28896695872]},\"selected\":{\"id\":\"21980\"},\"selection_policy\":{\"id\":\"21979\"}},\"id\":\"21945\",\"type\":\"ColumnDataSource\"},{\"attributes\":{\"line_color\":\"lightblue\",\"line_width\":4,\"x\":{\"field\":\"x\"},\"y\":{\"field\":\"y\"}},\"id\":\"21951\",\"type\":\"Line\"},{\"attributes\":{\"data_source\":{\"id\":\"21945\"},\"glyph\":{\"id\":\"21946\"},\"hover_glyph\":null,\"muted_glyph\":null,\"nonselection_glyph\":{\"id\":\"21947\"},\"selection_glyph\":null,\"view\":{\"id\":\"21949\"}},\"id\":\"21948\",\"type\":\"GlyphRenderer\"},{\"attributes\":{\"data\":{\"x\":{\"__ndarray__\":\"AACAdckLd0IAAEDbGwx3QgAAAEFuDHdCAADApsAMd0IAAIAMEw13QgAAQHJlDXdCAAAA2LcNd0IAAMA9Cg53QgAAgKNcDndCAABACa8Od0IAAABvAQ93QgAAwNRTD3dCAACAOqYPd0IAAECg+A93QgAAAAZLEHdCAADAa50Qd0IAAIDR7xB3QgAAQDdCEXdCAAAAnZQRd0IAAMAC5xF3QgAAgGg5EndCAABAzosSd0IAAAA03hJ3QgAAwJkwE3dCAACA/4ITd0IAAEBl1RN3QgAAAMsnFHdCAADAMHoUd0IAAICWzBR3QgAAQPweFXdCAAAAYnEVd0IAAMDHwxV3QgAAgC0WFndCAABAk2gWd0IAAAD5uhZ3QgAAwF4NF3dCAACAxF8Xd0IAAEAqshd3QgAAAJAEGHdCAADA9VYYd0IAAIBbqRh3QgAAQMH7GHdCAAAAJ04Zd0IAAMCMoBl3QgAAgPLyGXdCAABAWEUad0IAAAC+lxp3QgAAwCPqGndCAACAiTwbd0IAAEDvjht3QgAAAFXhG3dCAADAujMcd0IAAIAghhx3QgAAQIbYHHdCAAAA7Codd0IAAMBRfR13QgAAgLfPHXdCAABAHSIed0IAAACDdB53QgAAwOjGHndCAACAThkfd0IAAEC0ax93QgAAABq+H3dCAADAfxAgd0IAAIDlYiB3QgAAQEu1IHdCAAAAsQchd0IAAMAWWiF3QgAAgHysIXdCAABA4v4hd0IAAABIUSJ3QgAAwK2jIndCAACAE/Yid0IAAEB5SCN3QgAAAN+aI3dCAADARO0jd0IAAICqPyR3QgAAQBCSJHdCAAAAduQkd0IAAMDbNiV3QgAAgEGJJXdCAABAp9sld0IAAAANLiZ3QgAAwHKAJndCAACA2NImd0IAAEA+JSd3QgAAAKR3J3dCAADACcond0IAAIBvHCh3QgAAQNVuKHdCAAAAO8Eod0IAAMCgEyl3QgAAgAZmKXdCAABAbLgpd0IAAADSCip3QgAAwDddKndCAACAna8qd0IAAEADAit3QgAAAGlUK3dCAADAzqYrd0IAAIA0+St3QgAAQJpLLHdCAAAAAJ4sd0IAAMBl8Cx3QgAAgMtCLXdCAABAMZUtd0IAAACX5y13QgAAwPw5LndCAACAYowud0IAAEDI3i53QgAAAC4xL3dCAADAk4Mvd0IAAID51S93QgAAQF8oMHdCAAAAxXowd0IAAMAqzTB3QgAAgJAfMXdCAABA9nExd0IAAABcxDF3QgAAwMEWMndCAACAJ2kyd0IAAECNuzJ3QgAAAPMNM3dCAADAWGAzd0IAAIC+sjN3QgAAQCQFNHdCAAAAilc0d0I=\",\"dtype\":\"float64\",\"shape\":[127]},\"y\":[-4358.905247571917,-14120.39483407201,2256.4607062038435,2403.3214646692627,2677.7179869757547,2289.1290588801157,2937.738021134286,3692.5255086096886,4206.900361521503,5169.782328774242,5847.528051515605,7359.83744026194,10483.794725109718,13020.326598824908,12495.60809293336,12954.5662282337,12918.071523762248,12757.569789911426,13841.749697368303,15063.211781414504,16072.050994428171,16829.984794623924,17652.199686559252,18340.91557464026,18984.026812631688,20007.84147273864,20775.078401281302,20533.952589191504,20510.781672359968,20705.10551038068,20870.184330317235,21297.8896565542,22211.689601508995,23107.515588845436,23707.290488433628,24693.836758640104,26116.879865798055,27741.41241016965,29928.33287406333,32672.129564193732,33864.890144155164,33176.295737793465,33046.01842665461,33271.483690580484,33091.801842598885,33374.40946012584,33318.23687719721,33266.20463898991,32123.35521222736,31787.144294397185,31931.766272617366,31999.522092594023,31908.35960527839,31846.29588783603,32219.8292622328,32255.48143644971,32286.544241931435,32577.422411826105,33213.517512222345,34195.438815370755,34926.07149855916,34920.05302314661,34086.15606285582,33764.94994955339,33582.42901284254,33401.585839313135,33571.304069982936,34107.64377066333,35059.16383178488,34609.57714857876,34198.02208278279,34347.298843334764,35184.64684582351,35391.40670089574,35175.756852375336,34769.35214634862,34197.854430091844,33914.82419649875,33759.191225891605,33818.94729039943,34005.62892490571,34120.98333366906,34148.94755918091,34172.93902681585,34174.47726962965,34363.388993574226,34683.401957290196,35234.95841014156,35726.671401268766,35849.205536033915,35487.17764856074,35469.548419197636,35642.79244539742,36307.401363114615,36260.9728429865,36464.41685022582,37074.9718904153,36556.31813404007,35619.77939535001,35189.78972599494,35049.40211274665,35099.794423295294,35149.33962139541,35185.65971253865,35142.38556850144,35125.01839780668,35099.733098733384,34874.00579115791,34809.78803021034,34793.42250673089,34780.092518551355,34768.23360180682,34755.89312448204]},\"selected\":{\"id\":\"22598\"},\"selection_policy\":{\"id\":\"22597\"}},\"id\":\"21950\",\"type\":\"ColumnDataSource\"},{\"attributes\":{\"label\":{\"value\":\"total deaths max UP\"},\"renderers\":[{\"id\":\"21920\"}]},\"id\":\"21944\",\"type\":\"LegendItem\"},{\"attributes\":{},\"id\":\"21870\",\"type\":\"BasicTicker\"},{\"attributes\":{},\"id\":\"21940\",\"type\":\"UnionRenderers\"},{\"attributes\":{\"data\":{\"x\":{\"__ndarray__\":\"AACAdckLd0IAAEDbGwx3QgAAAEFuDHdCAADApsAMd0IAAIAMEw13QgAAQHJlDXdCAAAA2LcNd0IAAMA9Cg53QgAAgKNcDndCAABACa8Od0IAAABvAQ93QgAAwNRTD3dCAACAOqYPd0IAAECg+A93QgAAAAZLEHdCAADAa50Qd0IAAIDR7xB3QgAAQDdCEXdCAAAAnZQRd0IAAMAC5xF3QgAAgGg5EndCAABAzosSd0IAAAA03hJ3QgAAwJkwE3dCAACA/4ITd0IAAEBl1RN3QgAAAMsnFHdCAADAMHoUd0IAAICWzBR3QgAAQPweFXdCAAAAYnEVd0IAAMDHwxV3QgAAgC0WFndCAABAk2gWd0IAAAD5uhZ3QgAAwF4NF3dCAACAxF8Xd0IAAEAqshd3QgAAAJAEGHdCAADA9VYYd0IAAIBbqRh3QgAAQMH7GHdCAAAAJ04Zd0IAAMCMoBl3QgAAgPLyGXdCAABAWEUad0IAAAC+lxp3QgAAwCPqGndCAACAiTwbd0IAAEDvjht3QgAAAFXhG3dCAADAujMcd0IAAIAghhx3QgAAQIbYHHdCAAAA7Codd0IAAMBRfR13QgAAgLfPHXdCAABAHSIed0IAAACDdB53QgAAwOjGHndCAACAThkfd0IAAEC0ax93QgAAABq+H3dCAADAfxAgd0IAAIDlYiB3QgAAQEu1IHdCAAAAsQchd0IAAMAWWiF3QgAAgHysIXdCAABA4v4hd0IAAABIUSJ3QgAAwK2jIndCAACAE/Yid0IAAEB5SCN3QgAAAN+aI3dCAADARO0jd0IAAICqPyR3QgAAQBCSJHdCAAAAduQkd0IAAMDbNiV3QgAAgEGJJXdCAABAp9sld0IAAAANLiZ3QgAAwHKAJndCAACA2NImd0IAAEA+JSd3QgAAAKR3J3dCAADACcond0IAAIBvHCh3QgAAQNVuKHdCAAAAO8Eod0IAAMCgEyl3QgAAgAZmKXdCAABAbLgpd0IAAADSCip3QgAAwDddKndCAACAna8qd0IAAEADAit3QgAAAGlUK3dCAADAzqYrd0IAAIA0+St3QgAAQJpLLHdCAAAAAJ4sd0IAAMBl8Cx3QgAAgMtCLXdCAABAMZUtd0IAAACX5y13QgAAwPw5LndCAACAYowud0IAAEDI3i53QgAAAC4xL3dCAADAk4Mvd0IAAID51S93QgAAQF8oMHdCAAAAxXowd0IAAMAqzTB3QgAAgJAfMXdCAABA9nExd0IAAABcxDF3QgAAwMEWMndCAACAJ2kyd0IAAECNuzJ3QgAAAPMNM3dCAADAWGAzd0IAAIC+sjN3QgAAQCQFNHdCAAAAilc0d0I=\",\"dtype\":\"float64\",\"shape\":[127]},\"y\":[15126.22446615273,37293.56878713092,10255.769525094602,3439.9947850040458,3313.02138001441,2586.9708812681347,3623.914396421633,4651.057813357563,5050.779275102898,6391.532847483163,6957.044682717751,9316.416481045784,16392.288644633736,18325.72183057608,15481.8602169969,15011.571872634177,14368.46451013765,13803.27480284032,15240.321155112646,16833.425582841955,17766.844805860437,18418.303397647738,19202.94700693323,19707.718158555377,20206.865611223024,20977.56483635313,21441.9983402785,21119.124956683583,20987.343321689383,21177.345281487564,21340.679060805727,21907.84574920276,22852.375149319574,24000.450754674242,24670.398551101458,25788.06617468369,27499.263941336943,29589.129636094258,31944.650815107852,34719.7955239108,35804.10722501527,34952.459517738986,34729.62212404043,34925.368544591445,34585.6136151191,34867.02623487922,34707.80181620491,34558.31623479004,32985.555725266684,32624.687210666816,32757.393168488044,32808.73787500851,32662.42135040724,32563.410691405064,33355.84622559353,33357.63326320049,33372.52576860454,33679.94610713555,34701.995373591984,36283.30564815349,37529.98221340563,37467.790160677294,35802.98738997665,35286.241239083516,34999.283818844946,34626.46899812836,34941.29261270131,36244.67104115673,38475.94906140051,36647.46149941817,35721.795333282644,36003.82725651222,37398.62451113495,37856.14209648177,37255.79045379563,36070.885495604736,34884.97876536398,34352.83354112061,34085.40384186729,34173.388266574286,34401.441657501426,34567.73595187179,34604.17348147893,34632.48991608872,34615.69536693465,34915.78475916209,35415.629904556576,36402.36412015375,37780.493295056986,38288.46654843085,36462.873042333624,36410.79878210264,36866.858692748596,38756.89686487875,38572.87429838713,39270.42643643237,43157.143008510655,38884.10441745088,36346.639872995744,35537.19011612215,35311.852491643986,35404.39330304099,35505.17618388665,35584.53969131409,35469.39632518595,35442.85384909087,35417.177872061584,35125.13784400409,34984.19386918289,34941.01247433142,34909.90921640708,34854.407716970054,34805.28896695872]},\"selected\":{\"id\":\"21978\"},\"selection_policy\":{\"id\":\"21977\"}},\"id\":\"21917\",\"type\":\"ColumnDataSource\"},{\"attributes\":{\"source\":{\"id\":\"21945\"}},\"id\":\"21949\",\"type\":\"CDSView\"},{\"attributes\":{\"data_source\":{\"id\":\"21950\"},\"glyph\":{\"id\":\"21951\"},\"hover_glyph\":null,\"muted_glyph\":null,\"nonselection_glyph\":{\"id\":\"21952\"},\"selection_glyph\":null,\"view\":{\"id\":\"21954\"}},\"id\":\"21953\",\"type\":\"GlyphRenderer\"},{\"attributes\":{\"source\":{\"id\":\"21917\"}},\"id\":\"21921\",\"type\":\"CDSView\"},{\"attributes\":{\"line_alpha\":0.1,\"line_color\":\"lightcoral\",\"line_width\":4,\"x\":{\"field\":\"x\"},\"y\":{\"field\":\"y\"}},\"id\":\"21919\",\"type\":\"Line\"},{\"attributes\":{},\"id\":\"21863\",\"type\":\"LinearScale\"},{\"attributes\":{\"days\":[\"%d %B\"]},\"id\":\"21987\",\"type\":\"DatetimeTickFormatter\"},{\"attributes\":{\"line_color\":\"lightcoral\",\"line_width\":4,\"x\":{\"field\":\"x\"},\"y\":{\"field\":\"y\"}},\"id\":\"21918\",\"type\":\"Line\"},{\"attributes\":{\"source\":{\"id\":\"21950\"}},\"id\":\"21954\",\"type\":\"CDSView\"},{\"attributes\":{},\"id\":\"21977\",\"type\":\"UnionRenderers\"},{\"attributes\":{\"line_alpha\":0.1,\"line_color\":\"lightblue\",\"line_width\":4,\"x\":{\"field\":\"x\"},\"y\":{\"field\":\"y\"}},\"id\":\"21952\",\"type\":\"Line\"},{\"attributes\":{\"label\":{\"value\":\"total deaths max DOWN\"},\"renderers\":[{\"id\":\"21953\"}]},\"id\":\"21981\",\"type\":\"LegendItem\"},{\"attributes\":{},\"id\":\"21979\",\"type\":\"UnionRenderers\"},{\"attributes\":{\"axis\":{\"id\":\"21865\"},\"ticker\":null},\"id\":\"21868\",\"type\":\"Grid\"},{\"attributes\":{},\"id\":\"21980\",\"type\":\"Selection\"},{\"attributes\":{},\"id\":\"21859\",\"type\":\"DataRange1d\"},{\"attributes\":{\"data_source\":{\"id\":\"21982\"},\"glyph\":{\"id\":\"21983\"},\"hover_glyph\":null,\"muted_glyph\":null,\"nonselection_glyph\":{\"id\":\"21984\"},\"selection_glyph\":null,\"view\":{\"id\":\"21986\"}},\"id\":\"21985\",\"type\":\"GlyphRenderer\"},{\"attributes\":{},\"id\":\"21978\",\"type\":\"Selection\"},{\"attributes\":{\"fill_alpha\":{\"value\":0.1},\"fill_color\":{\"value\":\"white\"},\"line_alpha\":{\"value\":0.1},\"line_color\":{\"value\":\"lightblue\"},\"size\":{\"units\":\"screen\",\"value\":5},\"x\":{\"field\":\"x\"},\"y\":{\"field\":\"y\"}},\"id\":\"21984\",\"type\":\"Circle\"},{\"attributes\":{\"data\":{\"x\":{\"__ndarray__\":\"AACAdckLd0IAAEDbGwx3QgAAAEFuDHdCAADApsAMd0IAAIAMEw13QgAAQHJlDXdCAAAA2LcNd0IAAMA9Cg53QgAAgKNcDndCAABACa8Od0IAAABvAQ93QgAAwNRTD3dCAACAOqYPd0IAAECg+A93QgAAAAZLEHdCAADAa50Qd0IAAIDR7xB3QgAAQDdCEXdCAAAAnZQRd0IAAMAC5xF3QgAAgGg5EndCAABAzosSd0IAAAA03hJ3QgAAwJkwE3dCAACA/4ITd0IAAEBl1RN3QgAAAMsnFHdCAADAMHoUd0IAAICWzBR3QgAAQPweFXdCAAAAYnEVd0IAAMDHwxV3QgAAgC0WFndCAABAk2gWd0IAAAD5uhZ3QgAAwF4NF3dCAACAxF8Xd0IAAEAqshd3QgAAAJAEGHdCAADA9VYYd0IAAIBbqRh3QgAAQMH7GHdCAAAAJ04Zd0IAAMCMoBl3QgAAgPLyGXdCAABAWEUad0IAAAC+lxp3QgAAwCPqGndCAACAiTwbd0IAAEDvjht3QgAAAFXhG3dCAADAujMcd0IAAIAghhx3QgAAQIbYHHdCAAAA7Codd0IAAMBRfR13QgAAgLfPHXdCAABAHSIed0IAAACDdB53QgAAwOjGHndCAACAThkfd0IAAEC0ax93QgAAABq+H3dCAADAfxAgd0IAAIDlYiB3QgAAQEu1IHdCAAAAsQchd0IAAMAWWiF3QgAAgHysIXdCAABA4v4hd0IAAABIUSJ3QgAAwK2jIndCAACAE/Yid0IAAEB5SCN3QgAAAN+aI3dCAADARO0jd0IAAICqPyR3QgAAQBCSJHdCAAAAduQkd0IAAMDbNiV3QgAAgEGJJXdCAABAp9sld0IAAAANLiZ3QgAAwHKAJndCAACA2NImd0IAAEA+JSd3QgAAAKR3J3dCAADACcond0IAAIBvHCh3QgAAQNVuKHdCAAAAO8Eod0IAAMCgEyl3QgAAgAZmKXdCAABAbLgpd0IAAADSCip3QgAAwDddKndCAACAna8qd0IAAEADAit3QgAAAGlUK3dCAADAzqYrd0IAAIA0+St3QgAAQJpLLHdCAAAAAJ4sd0IAAMBl8Cx3QgAAgMtCLXdCAABAMZUtd0IAAACX5y13QgAAwPw5LndCAACAYowud0IAAEDI3i53QgAAAC4xL3dCAADAk4Mvd0IAAID51S93QgAAQF8oMHdCAAAAxXowd0IAAMAqzTB3QgAAgJAfMXdCAABA9nExd0IAAABcxDF3QgAAwMEWMndCAACAJ2kyd0IAAECNuzJ3QgAAAPMNM3dCAADAWGAzd0IAAIC+sjN3QgAAQCQFNHdCAAAAilc0d0I=\",\"dtype\":\"float64\",\"shape\":[127]},\"y\":[-4358.905247571917,-14120.39483407201,2256.4607062038435,2403.3214646692627,2677.7179869757547,2289.1290588801157,2937.738021134286,3692.5255086096886,4206.900361521503,5169.782328774242,5847.528051515605,7359.83744026194,10483.794725109718,13020.326598824908,12495.60809293336,12954.5662282337,12918.071523762248,12757.569789911426,13841.749697368303,15063.211781414504,16072.050994428171,16829.984794623924,17652.199686559252,18340.91557464026,18984.026812631688,20007.84147273864,20775.078401281302,20533.952589191504,20510.781672359968,20705.10551038068,20870.184330317235,21297.8896565542,22211.689601508995,23107.515588845436,23707.290488433628,24693.836758640104,26116.879865798055,27741.41241016965,29928.33287406333,32672.129564193732,33864.890144155164,33176.295737793465,33046.01842665461,33271.483690580484,33091.801842598885,33374.40946012584,33318.23687719721,33266.20463898991,32123.35521222736,31787.144294397185,31931.766272617366,31999.522092594023,31908.35960527839,31846.29588783603,32219.8292622328,32255.48143644971,32286.544241931435,32577.422411826105,33213.517512222345,34195.438815370755,34926.07149855916,34920.05302314661,34086.15606285582,33764.94994955339,33582.42901284254,33401.585839313135,33571.304069982936,34107.64377066333,35059.16383178488,34609.57714857876,34198.02208278279,34347.298843334764,35184.64684582351,35391.40670089574,35175.756852375336,34769.35214634862,34197.854430091844,33914.82419649875,33759.191225891605,33818.94729039943,34005.62892490571,34120.98333366906,34148.94755918091,34172.93902681585,34174.47726962965,34363.388993574226,34683.401957290196,35234.95841014156,35726.671401268766,35849.205536033915,35487.17764856074,35469.548419197636,35642.79244539742,36307.401363114615,36260.9728429865,36464.41685022582,37074.9718904153,36556.31813404007,35619.77939535001,35189.78972599494,35049.40211274665,35099.794423295294,35149.33962139541,35185.65971253865,35142.38556850144,35125.01839780668,35099.733098733384,34874.00579115791,34809.78803021034,34793.42250673089,34780.092518551355,34768.23360180682,34755.89312448204]},\"selected\":{\"id\":\"22600\"},\"selection_policy\":{\"id\":\"22599\"}},\"id\":\"21982\",\"type\":\"ColumnDataSource\"},{\"attributes\":{},\"id\":\"22600\",\"type\":\"Selection\"},{\"attributes\":{\"fill_color\":{\"value\":\"white\"},\"line_color\":{\"value\":\"lightblue\"},\"size\":{\"units\":\"screen\",\"value\":5},\"x\":{\"field\":\"x\"},\"y\":{\"field\":\"y\"}},\"id\":\"21983\",\"type\":\"Circle\"},{\"attributes\":{},\"id\":\"22597\",\"type\":\"UnionRenderers\"},{\"attributes\":{\"axis_label\":\"Date\",\"formatter\":{\"id\":\"21987\"},\"major_label_orientation\":0.7853981633974483,\"minor_tick_in\":-5,\"minor_tick_out\":-3,\"ticker\":{\"id\":\"21866\"}},\"id\":\"21865\",\"type\":\"DatetimeAxis\"},{\"attributes\":{\"source\":{\"id\":\"21982\"}},\"id\":\"21986\",\"type\":\"CDSView\"},{\"attributes\":{\"num_minor_ticks\":5,\"tickers\":[{\"id\":\"21898\"},{\"id\":\"21899\"},{\"id\":\"21900\"},{\"id\":\"21901\"},{\"id\":\"21902\"},{\"id\":\"21903\"},{\"id\":\"21904\"},{\"id\":\"21905\"},{\"id\":\"21906\"},{\"id\":\"21907\"},{\"id\":\"21908\"},{\"id\":\"21909\"}]},\"id\":\"21866\",\"type\":\"DatetimeTicker\"},{\"attributes\":{\"fill_color\":{\"value\":\"white\"},\"line_color\":{\"value\":\"lightcoral\"},\"size\":{\"units\":\"screen\",\"value\":5},\"x\":{\"field\":\"x\"},\"y\":{\"field\":\"y\"}},\"id\":\"21946\",\"type\":\"Circle\"},{\"attributes\":{},\"id\":\"21857\",\"type\":\"DataRange1d\"},{\"attributes\":{\"fill_color\":{\"value\":\"white\"},\"line_color\":{\"value\":\"darkviolet\"},\"size\":{\"units\":\"screen\",\"value\":5},\"x\":{\"field\":\"x\"},\"y\":{\"field\":\"y\"}},\"id\":\"21913\",\"type\":\"Circle\"},{\"attributes\":{\"use_scientific\":false},\"id\":\"21989\",\"type\":\"BasicTickFormatter\"},{\"attributes\":{\"data_source\":{\"id\":\"21887\"},\"glyph\":{\"id\":\"21888\"},\"hover_glyph\":null,\"muted_glyph\":null,\"nonselection_glyph\":{\"id\":\"21889\"},\"selection_glyph\":null,\"view\":{\"id\":\"21891\"}},\"id\":\"21890\",\"type\":\"GlyphRenderer\"},{\"attributes\":{\"callback\":null,\"formatters\":{\"@x\":\"datetime\"},\"mode\":\"vline\",\"tooltips\":[[\"date\",\"@x{%d %B}\"],[\"total deaths max/UP/DOWN\",\"@y{0[.]000}\"]]},\"id\":\"21991\",\"type\":\"HoverTool\"},{\"attributes\":{\"active_drag\":\"auto\",\"active_inspect\":\"auto\",\"active_multi\":null,\"active_scroll\":\"auto\",\"active_tap\":\"auto\",\"tools\":[{\"id\":\"21873\"},{\"id\":\"21874\"},{\"id\":\"21875\"},{\"id\":\"21876\"},{\"id\":\"21877\"},{\"id\":\"21878\"},{\"id\":\"21991\"}]},\"id\":\"21880\",\"type\":\"Toolbar\"},{\"attributes\":{},\"id\":\"21873\",\"type\":\"PanTool\"},{\"attributes\":{},\"id\":\"21874\",\"type\":\"WheelZoomTool\"},{\"attributes\":{\"overlay\":{\"id\":\"21879\"}},\"id\":\"21875\",\"type\":\"BoxZoomTool\"},{\"attributes\":{},\"id\":\"21876\",\"type\":\"SaveTool\"},{\"attributes\":{},\"id\":\"21877\",\"type\":\"ResetTool\"},{\"attributes\":{},\"id\":\"21878\",\"type\":\"HelpTool\"},{\"attributes\":{\"label\":{\"value\":\"total deaths max\"},\"renderers\":[{\"id\":\"21890\"}]},\"id\":\"21911\",\"type\":\"LegendItem\"},{\"attributes\":{\"data_source\":{\"id\":\"21912\"},\"glyph\":{\"id\":\"21913\"},\"hover_glyph\":null,\"muted_glyph\":null,\"nonselection_glyph\":{\"id\":\"21914\"},\"selection_glyph\":null,\"view\":{\"id\":\"21916\"}},\"id\":\"21915\",\"type\":\"GlyphRenderer\"},{\"attributes\":{\"data\":{\"x\":{\"__ndarray__\":\"AACAdckLd0IAAEDbGwx3QgAAAEFuDHdCAADApsAMd0IAAIAMEw13QgAAQHJlDXdCAAAA2LcNd0IAAMA9Cg53QgAAgKNcDndCAABACa8Od0IAAABvAQ93QgAAwNRTD3dCAACAOqYPd0IAAECg+A93QgAAAAZLEHdCAADAa50Qd0IAAIDR7xB3QgAAQDdCEXdCAAAAnZQRd0IAAMAC5xF3QgAAgGg5EndCAABAzosSd0IAAAA03hJ3QgAAwJkwE3dCAACA/4ITd0IAAEBl1RN3QgAAAMsnFHdCAADAMHoUd0IAAICWzBR3QgAAQPweFXdCAAAAYnEVd0IAAMDHwxV3QgAAgC0WFndCAABAk2gWd0IAAAD5uhZ3QgAAwF4NF3dCAACAxF8Xd0IAAEAqshd3QgAAAJAEGHdCAADA9VYYd0IAAIBbqRh3QgAAQMH7GHdCAAAAJ04Zd0IAAMCMoBl3QgAAgPLyGXdCAABAWEUad0IAAAC+lxp3QgAAwCPqGndCAACAiTwbd0IAAEDvjht3QgAAAFXhG3dCAADAujMcd0IAAIAghhx3QgAAQIbYHHdCAAAA7Codd0IAAMBRfR13QgAAgLfPHXdCAABAHSIed0IAAACDdB53QgAAwOjGHndCAACAThkfd0IAAEC0ax93QgAAABq+H3dCAADAfxAgd0IAAIDlYiB3QgAAQEu1IHdCAAAAsQchd0IAAMAWWiF3QgAAgHysIXdCAABA4v4hd0IAAABIUSJ3QgAAwK2jIndCAACAE/Yid0IAAEB5SCN3QgAAAN+aI3dCAADARO0jd0IAAICqPyR3QgAAQBCSJHdCAAAAduQkd0IAAMDbNiV3QgAAgEGJJXdCAABAp9sld0IAAAANLiZ3QgAAwHKAJndCAACA2NImd0IAAEA+JSd3QgAAAKR3J3dCAADACcond0IAAIBvHCh3QgAAQNVuKHdCAAAAO8Eod0IAAMCgEyl3QgAAgAZmKXdCAABAbLgpd0IAAADSCip3QgAAwDddKndCAACAna8qd0IAAEADAit3QgAAAGlUK3dCAADAzqYrd0IAAIA0+St3QgAAQJpLLHdCAAAAAJ4sd0IAAMBl8Cx3QgAAgMtCLXdCAABAMZUtd0IAAACX5y13QgAAwPw5LndCAACAYowud0IAAEDI3i53QgAAAC4xL3dCAADAk4Mvd0IAAID51S93QgAAQF8oMHdCAAAAxXowd0IAAMAqzTB3QgAAgJAfMXdCAABA9nExd0IAAABcxDF3QgAAwMEWMndCAACAJ2kyd0IAAECNuzJ3QgAAAPMNM3dCAADAWGAzd0IAAIC+sjN3QgAAQCQFNHdCAAAAilc0d0I=\",\"dtype\":\"float64\",\"shape\":[127]},\"y\":[5383.6596092904065,11586.586976529454,6256.115115649222,2921.658124836654,2995.3696834950824,2438.049970074125,3280.8262087779594,4171.791660983626,4628.839818312201,5780.657588128703,6402.286367116678,8338.126960653863,13438.041684871727,15673.024214700494,13988.73415496513,13983.069050433938,13643.268016949949,13280.422296375873,14541.035426240474,15948.31868212823,16919.447900144303,17624.14409613583,18427.57334674624,19024.31686659782,19595.446211927356,20492.703154545885,21108.5383707799,20826.538772937543,20749.062497024675,20941.22539593412,21105.43169556148,21602.86770287848,22532.032375414285,23553.98317175984,24188.844519767543,25240.951466661896,26808.0719035675,28665.271023131954,30936.49184458559,33695.962544052265,34834.49868458522,34064.377627766225,33887.82027534752,34098.426117585965,33838.70772885899,34120.71784750253,34013.01934670106,33912.26043688998,32554.455468747023,32205.915752532,32344.579720552705,32404.129983801267,32285.390477842815,32204.853289620547,32787.837743913165,32806.5573498251,32829.535005267986,33128.684259480826,33957.756442907164,35239.37223176212,36228.026855982396,36193.92159191195,34944.57172641624,34525.59559431845,34290.856415843744,34014.02741872075,34256.298341342124,35176.15740591003,36767.556446592695,35628.519323998466,34959.908708032715,35175.56304992349,36291.63567847923,36623.77439868876,36215.77365308548,35420.11882097668,34541.41659772791,34133.82886880968,33922.29753387945,33996.16777848686,34203.53529120357,34344.359642770425,34376.56052032992,34402.71447145229,34395.08631828215,34639.58687636816,35049.515930923386,35818.66126514765,36753.582348162876,37068.83604223238,35975.02534544718,35940.17360065014,36254.82556907301,37532.14911399668,37416.92357068681,37867.42164332909,40116.05744946298,37720.211275745474,35983.209634172876,35363.48992105854,35180.62730219532,35252.09386316814,35327.25790264103,35385.09970192637,35305.8909468437,35283.93612344877,35258.455485397484,34999.571817581,34896.990949696614,34867.217490531155,34845.00086747922,34811.32065938844,34780.59104572038]},\"selected\":{\"id\":\"21943\"},\"selection_policy\":{\"id\":\"21942\"}},\"id\":\"21912\",\"type\":\"ColumnDataSource\"},{\"attributes\":{},\"id\":\"22598\",\"type\":\"Selection\"},{\"attributes\":{\"fill_alpha\":{\"value\":0.1},\"fill_color\":{\"value\":\"white\"},\"line_alpha\":{\"value\":0.1},\"line_color\":{\"value\":\"darkviolet\"},\"size\":{\"units\":\"screen\",\"value\":5},\"x\":{\"field\":\"x\"},\"y\":{\"field\":\"y\"}},\"id\":\"21914\",\"type\":\"Circle\"},{\"attributes\":{\"source\":{\"id\":\"21912\"}},\"id\":\"21916\",\"type\":\"CDSView\"},{\"attributes\":{\"bottom_units\":\"screen\",\"fill_alpha\":0.5,\"fill_color\":\"lightgrey\",\"left_units\":\"screen\",\"level\":\"overlay\",\"line_alpha\":1.0,\"line_color\":\"black\",\"line_dash\":[4,4],\"line_width\":2,\"render_mode\":\"css\",\"right_units\":\"screen\",\"top_units\":\"screen\"},\"id\":\"21879\",\"type\":\"BoxAnnotation\"},{\"attributes\":{},\"id\":\"21909\",\"type\":\"YearsTicker\"},{\"attributes\":{},\"id\":\"22599\",\"type\":\"UnionRenderers\"},{\"attributes\":{\"source\":{\"id\":\"21887\"}},\"id\":\"21891\",\"type\":\"CDSView\"},{\"attributes\":{\"line_alpha\":0.1,\"line_color\":\"darkviolet\",\"line_width\":4,\"x\":{\"field\":\"x\"},\"y\":{\"field\":\"y\"}},\"id\":\"21889\",\"type\":\"Line\"},{\"attributes\":{\"items\":[{\"id\":\"21911\"},{\"id\":\"21944\"},{\"id\":\"21981\"}],\"location\":\"bottom_right\"},\"id\":\"21910\",\"type\":\"Legend\"},{\"attributes\":{\"mantissas\":[1,2,5],\"max_interval\":500.0,\"num_minor_ticks\":0},\"id\":\"21898\",\"type\":\"AdaptiveTicker\"},{\"attributes\":{\"days\":[1,8,15,22]},\"id\":\"21903\",\"type\":\"DaysTicker\"},{\"attributes\":{\"base\":24,\"mantissas\":[1,2,4,6,8,12],\"max_interval\":43200000.0,\"min_interval\":3600000.0,\"num_minor_ticks\":0},\"id\":\"21900\",\"type\":\"AdaptiveTicker\"},{\"attributes\":{\"base\":60,\"mantissas\":[1,2,5,10,15,20,30],\"max_interval\":1800000.0,\"min_interval\":1000.0,\"num_minor_ticks\":0},\"id\":\"21899\",\"type\":\"AdaptiveTicker\"},{\"attributes\":{\"days\":[1,2,3,4,5,6,7,8,9,10,11,12,13,14,15,16,17,18,19,20,21,22,23,24,25,26,27,28,29,30,31]},\"id\":\"21901\",\"type\":\"DaysTicker\"},{\"attributes\":{\"data\":{\"x\":{\"__ndarray__\":\"AACAdckLd0IAAEDbGwx3QgAAAEFuDHdCAADApsAMd0IAAIAMEw13QgAAQHJlDXdCAAAA2LcNd0IAAMA9Cg53QgAAgKNcDndCAABACa8Od0IAAABvAQ93QgAAwNRTD3dCAACAOqYPd0IAAECg+A93QgAAAAZLEHdCAADAa50Qd0IAAIDR7xB3QgAAQDdCEXdCAAAAnZQRd0IAAMAC5xF3QgAAgGg5EndCAABAzosSd0IAAAA03hJ3QgAAwJkwE3dCAACA/4ITd0IAAEBl1RN3QgAAAMsnFHdCAADAMHoUd0IAAICWzBR3QgAAQPweFXdCAAAAYnEVd0IAAMDHwxV3QgAAgC0WFndCAABAk2gWd0IAAAD5uhZ3QgAAwF4NF3dCAACAxF8Xd0IAAEAqshd3QgAAAJAEGHdCAADA9VYYd0IAAIBbqRh3QgAAQMH7GHdCAAAAJ04Zd0IAAMCMoBl3QgAAgPLyGXdCAABAWEUad0IAAAC+lxp3QgAAwCPqGndCAACAiTwbd0IAAEDvjht3QgAAAFXhG3dCAADAujMcd0IAAIAghhx3QgAAQIbYHHdCAAAA7Codd0IAAMBRfR13QgAAgLfPHXdCAABAHSIed0IAAACDdB53QgAAwOjGHndCAACAThkfd0IAAEC0ax93QgAAABq+H3dCAADAfxAgd0IAAIDlYiB3QgAAQEu1IHdCAAAAsQchd0IAAMAWWiF3QgAAgHysIXdCAABA4v4hd0IAAABIUSJ3QgAAwK2jIndCAACAE/Yid0IAAEB5SCN3QgAAAN+aI3dCAADARO0jd0IAAICqPyR3QgAAQBCSJHdCAAAAduQkd0IAAMDbNiV3QgAAgEGJJXdCAABAp9sld0IAAAANLiZ3QgAAwHKAJndCAACA2NImd0IAAEA+JSd3QgAAAKR3J3dCAADACcond0IAAIBvHCh3QgAAQNVuKHdCAAAAO8Eod0IAAMCgEyl3QgAAgAZmKXdCAABAbLgpd0IAAADSCip3QgAAwDddKndCAACAna8qd0IAAEADAit3QgAAAGlUK3dCAADAzqYrd0IAAIA0+St3QgAAQJpLLHdCAAAAAJ4sd0IAAMBl8Cx3QgAAgMtCLXdCAABAMZUtd0IAAACX5y13QgAAwPw5LndCAACAYowud0IAAEDI3i53QgAAAC4xL3dCAADAk4Mvd0IAAID51S93QgAAQF8oMHdCAAAAxXowd0IAAMAqzTB3QgAAgJAfMXdCAABA9nExd0IAAABcxDF3QgAAwMEWMndCAACAJ2kyd0IAAECNuzJ3QgAAAPMNM3dCAADAWGAzd0IAAIC+sjN3QgAAQCQFNHdCAAAAilc0d0I=\",\"dtype\":\"float64\",\"shape\":[127]},\"y\":[5383.6596092904065,11586.586976529454,6256.115115649222,2921.658124836654,2995.3696834950824,2438.049970074125,3280.8262087779594,4171.791660983626,4628.839818312201,5780.657588128703,6402.286367116678,8338.126960653863,13438.041684871727,15673.024214700494,13988.73415496513,13983.069050433938,13643.268016949949,13280.422296375873,14541.035426240474,15948.31868212823,16919.447900144303,17624.14409613583,18427.57334674624,19024.31686659782,19595.446211927356,20492.703154545885,21108.5383707799,20826.538772937543,20749.062497024675,20941.22539593412,21105.43169556148,21602.86770287848,22532.032375414285,23553.98317175984,24188.844519767543,25240.951466661896,26808.0719035675,28665.271023131954,30936.49184458559,33695.962544052265,34834.49868458522,34064.377627766225,33887.82027534752,34098.426117585965,33838.70772885899,34120.71784750253,34013.01934670106,33912.26043688998,32554.455468747023,32205.915752532,32344.579720552705,32404.129983801267,32285.390477842815,32204.853289620547,32787.837743913165,32806.5573498251,32829.535005267986,33128.684259480826,33957.756442907164,35239.37223176212,36228.026855982396,36193.92159191195,34944.57172641624,34525.59559431845,34290.856415843744,34014.02741872075,34256.298341342124,35176.15740591003,36767.556446592695,35628.519323998466,34959.908708032715,35175.56304992349,36291.63567847923,36623.77439868876,36215.77365308548,35420.11882097668,34541.41659772791,34133.82886880968,33922.29753387945,33996.16777848686,34203.53529120357,34344.359642770425,34376.56052032992,34402.71447145229,34395.08631828215,34639.58687636816,35049.515930923386,35818.66126514765,36753.582348162876,37068.83604223238,35975.02534544718,35940.17360065014,36254.82556907301,37532.14911399668,37416.92357068681,37867.42164332909,40116.05744946298,37720.211275745474,35983.209634172876,35363.48992105854,35180.62730219532,35252.09386316814,35327.25790264103,35385.09970192637,35305.8909468437,35283.93612344877,35258.455485397484,34999.571817581,34896.990949696614,34867.217490531155,34845.00086747922,34811.32065938844,34780.59104572038]},\"selected\":{\"id\":\"21941\"},\"selection_policy\":{\"id\":\"21940\"}},\"id\":\"21887\",\"type\":\"ColumnDataSource\"},{\"attributes\":{\"days\":[1,4,7,10,13,16,19,22,25,28]},\"id\":\"21902\",\"type\":\"DaysTicker\"}],\"root_ids\":[\"21854\"]},\"title\":\"Bokeh Application\",\"version\":\"2.0.2\"}};\n",
       "  var render_items = [{\"docid\":\"61d3b4de-0fd5-4855-a474-3f3292cfcff1\",\"root_ids\":[\"21854\"],\"roots\":{\"21854\":\"949ff2ba-dcc7-4f1b-a341-f83203f604f0\"}}];\n",
       "  root.Bokeh.embed.embed_items_notebook(docs_json, render_items);\n",
       "\n",
       "  }\n",
       "  if (root.Bokeh !== undefined) {\n",
       "    embed_document(root);\n",
       "  } else {\n",
       "    var attempts = 0;\n",
       "    var timer = setInterval(function(root) {\n",
       "      if (root.Bokeh !== undefined) {\n",
       "        clearInterval(timer);\n",
       "        embed_document(root);\n",
       "      } else {\n",
       "        attempts++;\n",
       "        if (attempts > 100) {\n",
       "          clearInterval(timer);\n",
       "          console.log(\"Bokeh: ERROR: Unable to run BokehJS code because BokehJS library is missing\");\n",
       "        }\n",
       "      }\n",
       "    }, 10, root)\n",
       "  }\n",
       "})(window);"
      ],
      "application/vnd.bokehjs_exec.v0+json": ""
     },
     "metadata": {
      "application/vnd.bokehjs_exec.v0+json": {
       "id": "21854"
      }
     },
     "output_type": "display_data"
    }
   ],
   "source": [
    "p_total_deaths_MAX_2_Italy = bokeh_plot_N_lines(x=time_date_new + 14, y_list=[max_deaths,max_deaths_up,max_deaths_down], \n",
    "                  title='Total Deaths MAX: Italy', \n",
    "                  dim=[600, 450], \n",
    "                  x_label='Date', \n",
    "                  y_label='Total Deaths MAX', legend_list=['total deaths max','total deaths max UP','total deaths max DOWN'],\n",
    "                  x_label_hover='date', y_label_hover='total deaths max/UP/DOWN',\n",
    "                  color_list=['darkviolet','lightcoral','lightblue'],legend_location=\"bottom_right\", y_minmax=None)\n",
    "\n",
    "output_file(\"total_deaths_MAX_2_Italy.html\")\n",
    "\n",
    "show(p_total_deaths_MAX_2_Italy)"
   ]
  },
  {
   "cell_type": "markdown",
   "metadata": {},
   "source": [
    "------------------\n",
    "\n",
    "------------------\n",
    "\n",
    "------------------"
   ]
  },
  {
   "cell_type": "markdown",
   "metadata": {},
   "source": [
    "### ----- Gamma Distribution Fitting -----"
   ]
  },
  {
   "cell_type": "code",
   "execution_count": 101,
   "metadata": {},
   "outputs": [
    {
     "name": "stderr",
     "output_type": "stream",
     "text": [
      "/Users/Angelo/opt/anaconda3/lib/python3.7/site-packages/ipykernel_launcher.py:12: RuntimeWarning: overflow encountered in multiply\n",
      "  if sys.path[0] == '':\n",
      "/Users/Angelo/opt/anaconda3/lib/python3.7/site-packages/ipykernel_launcher.py:12: RuntimeWarning: invalid value encountered in multiply\n",
      "  if sys.path[0] == '':\n"
     ]
    },
    {
     "data": {
      "text/plain": [
       "(3.628628357294941, -0.10703982426293672, 234690.97649750923)"
      ]
     },
     "execution_count": 101,
     "metadata": {},
     "output_type": "execute_result"
    }
   ],
   "source": [
    "fit_range_5 = len(nuovi_positivi_italy)   \n",
    "xdata_4 = np.linspace(1, fit_range_5, fit_range_5)\n",
    "# init_guess = [1,0.15,20000]\n",
    "# init_guess = [6,1,500000]\n",
    "fit = curve_fit(model_Gamma_distribution, xdata_4, nuovi_positivi_italy.loc[0:(fit_range_5-1)])\n",
    "ans, cov = fit\n",
    "fit_alpha, fit_beta, fit_Kmax = ans\n",
    "fit_alpha, fit_beta, fit_Kmax"
   ]
  },
  {
   "cell_type": "code",
   "execution_count": 102,
   "metadata": {},
   "outputs": [
    {
     "data": {
      "text/plain": [
       "array([[ 3.12816431e-02, -8.11125608e-04, -4.18001065e+02],\n",
       "       [-8.11125608e-04,  2.23557759e-05,  1.22897672e+01],\n",
       "       [-4.18001065e+02,  1.22897672e+01,  2.03070233e+07]])"
      ]
     },
     "execution_count": 102,
     "metadata": {},
     "output_type": "execute_result"
    }
   ],
   "source": [
    "cov"
   ]
  },
  {
   "cell_type": "code",
   "execution_count": 103,
   "metadata": {},
   "outputs": [
    {
     "data": {
      "text/plain": [
       "array([1.76866173e-01, 4.72818949e-03, 4.50633147e+03])"
      ]
     },
     "execution_count": 103,
     "metadata": {},
     "output_type": "execute_result"
    }
   ],
   "source": [
    "np.sqrt(np.diag(cov))"
   ]
  },
  {
   "cell_type": "code",
   "execution_count": 104,
   "metadata": {},
   "outputs": [
    {
     "data": {
      "text/plain": [
       "array([4.87552514e-01, 5.41826914e+00, 2.12003731e+01, 5.41019529e+01,\n",
       "       1.09238709e+02, 1.90199367e+02, 2.98983542e+02, 4.36105637e+02,\n",
       "       6.00784043e+02, 7.91167633e+02, 1.00457040e+03, 1.23769665e+03,\n",
       "       1.48684664e+03, 1.74809740e+03, 2.01745670e+03, 2.29099024e+03,\n",
       "       2.56492321e+03, 2.83571854e+03, 3.10013416e+03, 3.35526202e+03,\n",
       "       3.59855154e+03, 3.82781995e+03, 4.04125198e+03, 4.23739095e+03,\n",
       "       4.41512330e+03, 4.57365803e+03, 4.71250272e+03, 4.83143715e+03,\n",
       "       4.93048571e+03, 5.00988926e+03, 5.07007732e+03, 5.11164091e+03,\n",
       "       5.13530665e+03, 5.14191225e+03, 5.13238374e+03, 5.10771446e+03,\n",
       "       5.06894600e+03, 5.01715099e+03, 4.95341780e+03, 4.87883711e+03,\n",
       "       4.79449021e+03, 4.70143894e+03, 4.60071730e+03, 4.49332436e+03,\n",
       "       4.38021862e+03, 4.26231354e+03, 4.14047410e+03, 4.01551445e+03,\n",
       "       3.88819631e+03, 3.75922820e+03, 3.62926526e+03, 3.49890973e+03,\n",
       "       3.36871178e+03, 3.23917086e+03, 3.11073729e+03, 2.98381417e+03,\n",
       "       2.85875944e+03, 2.73588814e+03, 2.61547477e+03, 2.49775567e+03,\n",
       "       2.38293154e+03, 2.27116980e+03, 2.16260713e+03, 2.05735177e+03,\n",
       "       1.95548592e+03, 1.85706795e+03, 1.76213461e+03, 1.67070306e+03,\n",
       "       1.58277293e+03, 1.49832810e+03, 1.41733852e+03, 1.33976186e+03,\n",
       "       1.26554504e+03, 1.19462571e+03, 1.12693353e+03, 1.06239143e+03,\n",
       "       1.00091676e+03, 9.42422277e+02, 8.86817150e+02, 8.34007770e+02,\n",
       "       7.83898543e+02, 7.36392588e+02, 6.91392357e+02, 6.48800189e+02,\n",
       "       6.08518807e+02, 5.70451742e+02, 5.34503714e+02, 5.00580961e+02,\n",
       "       4.68591510e+02, 4.38445422e+02, 4.10054986e+02, 3.83334883e+02,\n",
       "       3.58202313e+02, 3.34577102e+02, 3.12381773e+02, 2.91541599e+02,\n",
       "       2.71984636e+02, 2.53641736e+02, 2.36446541e+02, 2.20335471e+02,\n",
       "       2.05247687e+02, 1.91125060e+02, 1.77912114e+02, 1.65555973e+02,\n",
       "       1.54006299e+02, 1.43215218e+02, 1.33137253e+02, 1.23729245e+02,\n",
       "       1.14950277e+02, 1.06761591e+02, 9.91265082e+01, 9.20103473e+01,\n",
       "       8.53803434e+01, 7.92055665e+01, 7.34568409e+01, 6.81066666e+01,\n",
       "       6.31291415e+01, 5.84998856e+01, 5.41959668e+01, 5.01958291e+01,\n",
       "       4.64792225e+01, 4.30271358e+01, 3.98217314e+01, 3.68462821e+01,\n",
       "       3.40851110e+01, 3.15235336e+01, 2.91478018e+01])"
      ]
     },
     "execution_count": 104,
     "metadata": {},
     "output_type": "execute_result"
    }
   ],
   "source": [
    "ydata_4 = model_Gamma_distribution(xdata_4,fit_alpha,fit_beta,fit_Kmax)\n",
    "ydata_4"
   ]
  },
  {
   "cell_type": "code",
   "execution_count": 105,
   "metadata": {},
   "outputs": [
    {
     "data": {
      "text/html": [
       "\n",
       "\n",
       "\n",
       "\n",
       "\n",
       "\n",
       "  <div class=\"bk-root\" id=\"4bc5fe68-de68-4f0e-89a5-c20a6a500931\" data-root-id=\"23134\"></div>\n"
      ]
     },
     "metadata": {},
     "output_type": "display_data"
    },
    {
     "data": {
      "application/javascript": [
       "(function(root) {\n",
       "  function embed_document(root) {\n",
       "    \n",
       "  var docs_json = {\"ea454680-7e46-4a3d-87d1-76add4b547a2\":{\"roots\":{\"references\":[{\"attributes\":{\"below\":[{\"id\":\"23145\"}],\"center\":[{\"id\":\"23148\"},{\"id\":\"23152\"},{\"id\":\"23190\"}],\"left\":[{\"id\":\"23149\"}],\"plot_height\":450,\"renderers\":[{\"id\":\"23170\"},{\"id\":\"23195\"},{\"id\":\"23200\"},{\"id\":\"23228\"}],\"title\":{\"id\":\"23135\"},\"toolbar\":{\"id\":\"23160\"},\"x_range\":{\"id\":\"23137\"},\"x_scale\":{\"id\":\"23141\"},\"y_range\":{\"id\":\"23139\"},\"y_scale\":{\"id\":\"23143\"}},\"id\":\"23134\",\"subtype\":\"Figure\",\"type\":\"Plot\"},{\"attributes\":{},\"id\":\"23153\",\"type\":\"PanTool\"},{\"attributes\":{},\"id\":\"23220\",\"type\":\"UnionRenderers\"},{\"attributes\":{},\"id\":\"23868\",\"type\":\"Selection\"},{\"attributes\":{\"data_source\":{\"id\":\"23167\"},\"glyph\":{\"id\":\"23168\"},\"hover_glyph\":null,\"muted_glyph\":null,\"nonselection_glyph\":{\"id\":\"23169\"},\"selection_glyph\":null,\"view\":{\"id\":\"23171\"}},\"id\":\"23170\",\"type\":\"GlyphRenderer\"},{\"attributes\":{},\"id\":\"23154\",\"type\":\"WheelZoomTool\"},{\"attributes\":{\"months\":[0,2,4,6,8,10]},\"id\":\"23186\",\"type\":\"MonthsTicker\"},{\"attributes\":{},\"id\":\"23865\",\"type\":\"UnionRenderers\"},{\"attributes\":{\"data_source\":{\"id\":\"23192\"},\"glyph\":{\"id\":\"23193\"},\"hover_glyph\":null,\"muted_glyph\":null,\"nonselection_glyph\":{\"id\":\"23194\"},\"selection_glyph\":null,\"view\":{\"id\":\"23196\"}},\"id\":\"23195\",\"type\":\"GlyphRenderer\"},{\"attributes\":{},\"id\":\"23141\",\"type\":\"LinearScale\"},{\"attributes\":{\"overlay\":{\"id\":\"23159\"}},\"id\":\"23155\",\"type\":\"BoxZoomTool\"},{\"attributes\":{\"label\":{\"value\":\"Gamma fitting\"},\"renderers\":[{\"id\":\"23200\"}]},\"id\":\"23224\",\"type\":\"LegendItem\"},{\"attributes\":{\"line_alpha\":0.1,\"line_color\":\"red\",\"line_width\":4,\"x\":{\"field\":\"x\"},\"y\":{\"field\":\"y\"}},\"id\":\"23199\",\"type\":\"Line\"},{\"attributes\":{},\"id\":\"23156\",\"type\":\"SaveTool\"},{\"attributes\":{\"source\":{\"id\":\"23197\"}},\"id\":\"23201\",\"type\":\"CDSView\"},{\"attributes\":{},\"id\":\"23221\",\"type\":\"Selection\"},{\"attributes\":{},\"id\":\"23137\",\"type\":\"DataRange1d\"},{\"attributes\":{\"text\":\"Gamma Distribution Fitting New Positive: Italy\"},\"id\":\"23135\",\"type\":\"Title\"},{\"attributes\":{},\"id\":\"23157\",\"type\":\"ResetTool\"},{\"attributes\":{},\"id\":\"23189\",\"type\":\"YearsTicker\"},{\"attributes\":{\"data\":{\"x\":{\"__ndarray__\":\"AAAA5UcHd0IAAMBKmgd3QgAAgLDsB3dCAABAFj8Id0IAAAB8kQh3QgAAwOHjCHdCAACARzYJd0IAAECtiAl3QgAAABPbCXdCAADAeC0Kd0IAAIDefwp3QgAAQETSCndCAAAAqiQLd0IAAMAPdwt3QgAAgHXJC3dCAABA2xsMd0IAAABBbgx3QgAAwKbADHdCAACADBMNd0IAAEByZQ13QgAAANi3DXdCAADAPQoOd0IAAICjXA53QgAAQAmvDndCAAAAbwEPd0IAAMDUUw93QgAAgDqmD3dCAABAoPgPd0IAAAAGSxB3QgAAwGudEHdCAACA0e8Qd0IAAEA3QhF3QgAAAJ2UEXdCAADAAucRd0IAAIBoORJ3QgAAQM6LEndCAAAANN4Sd0IAAMCZMBN3QgAAgP+CE3dCAABAZdUTd0IAAADLJxR3QgAAwDB6FHdCAACAlswUd0IAAED8HhV3QgAAAGJxFXdCAADAx8MVd0IAAIAtFhZ3QgAAQJNoFndCAAAA+boWd0IAAMBeDRd3QgAAgMRfF3dCAABAKrIXd0IAAACQBBh3QgAAwPVWGHdCAACAW6kYd0IAAEDB+xh3QgAAACdOGXdCAADAjKAZd0IAAIDy8hl3QgAAQFhFGndCAAAAvpcad0IAAMAj6hp3QgAAgIk8G3dCAABA744bd0IAAABV4Rt3QgAAwLozHHdCAACAIIYcd0IAAECG2Bx3QgAAAOwqHXdCAADAUX0dd0IAAIC3zx13QgAAQB0iHndCAAAAg3Qed0IAAMDoxh53QgAAgE4ZH3dCAABAtGsfd0IAAAAavh93QgAAwH8QIHdCAACA5WIgd0IAAEBLtSB3QgAAALEHIXdCAADAFlohd0IAAIB8rCF3QgAAQOL+IXdCAAAASFEid0IAAMCtoyJ3QgAAgBP2IndCAABAeUgjd0IAAADfmiN3QgAAwETtI3dCAACAqj8kd0IAAEAQkiR3QgAAAHbkJHdCAADA2zYld0IAAIBBiSV3QgAAQKfbJXdCAAAADS4md0IAAMBygCZ3QgAAgNjSJndCAABAPiUnd0IAAACkdyd3QgAAwAnKJ3dCAACAbxwod0IAAEDVbih3QgAAADvBKHdCAADAoBMpd0IAAIAGZil3QgAAQGy4KXdCAAAA0goqd0IAAMA3XSp3QgAAgJ2vKndCAABAAwIrd0IAAABpVCt3QgAAwM6mK3dCAACANPkrd0IAAECaSyx3QgAAAACeLHdCAADAZfAsd0IAAIDLQi13QgAAQDGVLXdCAAAAl+ctd0IAAMD8OS53QgAAgGKMLndCAABAyN4ud0IAAAAuMS93QgAAwJODL3dCAACA+dUvd0I=\",\"dtype\":\"float64\",\"shape\":[127]},\"y\":[221,93,78,250,238,240,566,342,466,587,769,778,1247,1492,1797,977,2313,2651,2547,3497,3590,3233,3526,4207,5322,5986,6557,5560,4789,5249,5210,6153,5959,5974,5217,4050,4053,4782,4668,4585,4805,4316,3599,3039,3836,4204,3951,4694,4092,3153,2972,2667,3786,3493,3491,3047,2256,2729,3370,2646,3021,2357,2324,1739,2091,2086,1872,1965,1900,1389,1221,1075,1444,1401,1327,1083,802,744,1402,888,992,789,875,675,451,813,665,642,652,669,531,300,397,584,593,516,416,355,178,318,321,177,518,270,197,280,283,202,379,163,346,338,303,210,329,333,251,262,224,218,122,190,296,259,175,174,126]},\"selected\":{\"id\":\"23223\"},\"selection_policy\":{\"id\":\"23222\"}},\"id\":\"23192\",\"type\":\"ColumnDataSource\"},{\"attributes\":{\"months\":[0,1,2,3,4,5,6,7,8,9,10,11]},\"id\":\"23185\",\"type\":\"MonthsTicker\"},{\"attributes\":{},\"id\":\"23139\",\"type\":\"DataRange1d\"},{\"attributes\":{},\"id\":\"23158\",\"type\":\"HelpTool\"},{\"attributes\":{\"fill_alpha\":{\"value\":0.1},\"fill_color\":{\"value\":\"white\"},\"line_alpha\":{\"value\":0.1},\"line_color\":{\"value\":\"blue\"},\"size\":{\"units\":\"screen\",\"value\":6},\"x\":{\"field\":\"x\"},\"y\":{\"field\":\"y\"}},\"id\":\"23194\",\"type\":\"Circle\"},{\"attributes\":{},\"id\":\"23234\",\"type\":\"NumeralTickFormatter\"},{\"attributes\":{},\"id\":\"23143\",\"type\":\"LinearScale\"},{\"attributes\":{\"source\":{\"id\":\"23225\"}},\"id\":\"23229\",\"type\":\"CDSView\"},{\"attributes\":{\"months\":[0,6]},\"id\":\"23188\",\"type\":\"MonthsTicker\"},{\"attributes\":{\"axis_label\":\"Date\",\"formatter\":{\"id\":\"23230\"},\"major_label_orientation\":0.7853981633974483,\"minor_tick_in\":-5,\"minor_tick_out\":-3,\"ticker\":{\"id\":\"23146\"}},\"id\":\"23145\",\"type\":\"DatetimeAxis\"},{\"attributes\":{\"callback\":null,\"formatters\":{\"@x\":\"datetime\"},\"mode\":\"vline\",\"tooltips\":[[\"date\",\"@x{%d %B}\"],[\"new positive OR fitting\",\"@y{0.}\"]]},\"id\":\"23235\",\"type\":\"HoverTool\"},{\"attributes\":{\"fill_alpha\":{\"value\":0.1},\"fill_color\":{\"value\":\"white\"},\"line_alpha\":{\"value\":0.1},\"line_color\":{\"value\":\"red\"},\"size\":{\"units\":\"screen\",\"value\":6},\"x\":{\"field\":\"x\"},\"y\":{\"field\":\"y\"}},\"id\":\"23227\",\"type\":\"Circle\"},{\"attributes\":{\"base\":24,\"mantissas\":[1,2,4,6,8,12],\"max_interval\":43200000.0,\"min_interval\":3600000.0,\"num_minor_ticks\":0},\"id\":\"23180\",\"type\":\"AdaptiveTicker\"},{\"attributes\":{\"fill_color\":{\"value\":\"white\"},\"line_color\":{\"value\":\"blue\"},\"size\":{\"units\":\"screen\",\"value\":6},\"x\":{\"field\":\"x\"},\"y\":{\"field\":\"y\"}},\"id\":\"23193\",\"type\":\"Circle\"},{\"attributes\":{},\"id\":\"23150\",\"type\":\"BasicTicker\"},{\"attributes\":{\"num_minor_ticks\":5,\"tickers\":[{\"id\":\"23178\"},{\"id\":\"23179\"},{\"id\":\"23180\"},{\"id\":\"23181\"},{\"id\":\"23182\"},{\"id\":\"23183\"},{\"id\":\"23184\"},{\"id\":\"23185\"},{\"id\":\"23186\"},{\"id\":\"23187\"},{\"id\":\"23188\"},{\"id\":\"23189\"}]},\"id\":\"23146\",\"type\":\"DatetimeTicker\"},{\"attributes\":{\"line_color\":\"red\",\"line_width\":4,\"x\":{\"field\":\"x\"},\"y\":{\"field\":\"y\"}},\"id\":\"23198\",\"type\":\"Line\"},{\"attributes\":{\"base\":60,\"mantissas\":[1,2,5,10,15,20,30],\"max_interval\":1800000.0,\"min_interval\":1000.0,\"num_minor_ticks\":0},\"id\":\"23179\",\"type\":\"AdaptiveTicker\"},{\"attributes\":{\"data_source\":{\"id\":\"23197\"},\"glyph\":{\"id\":\"23198\"},\"hover_glyph\":null,\"muted_glyph\":null,\"nonselection_glyph\":{\"id\":\"23199\"},\"selection_glyph\":null,\"view\":{\"id\":\"23201\"}},\"id\":\"23200\",\"type\":\"GlyphRenderer\"},{\"attributes\":{\"days\":[\"%d %B\"]},\"id\":\"23230\",\"type\":\"DatetimeTickFormatter\"},{\"attributes\":{\"label\":{\"value\":\"total cases\"},\"renderers\":[{\"id\":\"23170\"}]},\"id\":\"23191\",\"type\":\"LegendItem\"},{\"attributes\":{},\"id\":\"23866\",\"type\":\"Selection\"},{\"attributes\":{\"axis\":{\"id\":\"23145\"},\"ticker\":null},\"id\":\"23148\",\"type\":\"Grid\"},{\"attributes\":{\"data_source\":{\"id\":\"23225\"},\"glyph\":{\"id\":\"23226\"},\"hover_glyph\":null,\"muted_glyph\":null,\"nonselection_glyph\":{\"id\":\"23227\"},\"selection_glyph\":null,\"view\":{\"id\":\"23229\"}},\"id\":\"23228\",\"type\":\"GlyphRenderer\"},{\"attributes\":{\"mantissas\":[1,2,5],\"max_interval\":500.0,\"num_minor_ticks\":0},\"id\":\"23178\",\"type\":\"AdaptiveTicker\"},{\"attributes\":{\"months\":[0,4,8]},\"id\":\"23187\",\"type\":\"MonthsTicker\"},{\"attributes\":{\"axis\":{\"id\":\"23149\"},\"dimension\":1,\"ticker\":null},\"id\":\"23152\",\"type\":\"Grid\"},{\"attributes\":{\"data\":{\"x\":{\"__ndarray__\":\"AAAA5UcHd0IAAMBKmgd3QgAAgLDsB3dCAABAFj8Id0IAAAB8kQh3QgAAwOHjCHdCAACARzYJd0IAAECtiAl3QgAAABPbCXdCAADAeC0Kd0IAAIDefwp3QgAAQETSCndCAAAAqiQLd0IAAMAPdwt3QgAAgHXJC3dCAABA2xsMd0IAAABBbgx3QgAAwKbADHdCAACADBMNd0IAAEByZQ13QgAAANi3DXdCAADAPQoOd0IAAICjXA53QgAAQAmvDndCAAAAbwEPd0IAAMDUUw93QgAAgDqmD3dCAABAoPgPd0IAAAAGSxB3QgAAwGudEHdCAACA0e8Qd0IAAEA3QhF3QgAAAJ2UEXdCAADAAucRd0IAAIBoORJ3QgAAQM6LEndCAAAANN4Sd0IAAMCZMBN3QgAAgP+CE3dCAABAZdUTd0IAAADLJxR3QgAAwDB6FHdCAACAlswUd0IAAED8HhV3QgAAAGJxFXdCAADAx8MVd0IAAIAtFhZ3QgAAQJNoFndCAAAA+boWd0IAAMBeDRd3QgAAgMRfF3dCAABAKrIXd0IAAACQBBh3QgAAwPVWGHdCAACAW6kYd0IAAEDB+xh3QgAAACdOGXdCAADAjKAZd0IAAIDy8hl3QgAAQFhFGndCAAAAvpcad0IAAMAj6hp3QgAAgIk8G3dCAABA744bd0IAAABV4Rt3QgAAwLozHHdCAACAIIYcd0IAAECG2Bx3QgAAAOwqHXdCAADAUX0dd0IAAIC3zx13QgAAQB0iHndCAAAAg3Qed0IAAMDoxh53QgAAgE4ZH3dCAABAtGsfd0IAAAAavh93QgAAwH8QIHdCAACA5WIgd0IAAEBLtSB3QgAAALEHIXdCAADAFlohd0IAAIB8rCF3QgAAQOL+IXdCAAAASFEid0IAAMCtoyJ3QgAAgBP2IndCAABAeUgjd0IAAADfmiN3QgAAwETtI3dCAACAqj8kd0IAAEAQkiR3QgAAAHbkJHdCAADA2zYld0IAAIBBiSV3QgAAQKfbJXdCAAAADS4md0IAAMBygCZ3QgAAgNjSJndCAABAPiUnd0IAAACkdyd3QgAAwAnKJ3dCAACAbxwod0IAAEDVbih3QgAAADvBKHdCAADAoBMpd0IAAIAGZil3QgAAQGy4KXdCAAAA0goqd0IAAMA3XSp3QgAAgJ2vKndCAABAAwIrd0IAAABpVCt3QgAAwM6mK3dCAACANPkrd0IAAECaSyx3QgAAAACeLHdCAADAZfAsd0IAAIDLQi13QgAAQDGVLXdCAAAAl+ctd0IAAMD8OS53QgAAgGKMLndCAABAyN4ud0IAAAAuMS93QgAAwJODL3dCAACA+dUvd0I=\",\"dtype\":\"float64\",\"shape\":[127]},\"y\":{\"__ndarray__\":\"riNddQ803z/3EJy+TqwVQHGSPqdLMzVA5dIcywwNS0AmsJgBR09bQJCPyjdhxmdAwVpylryvckCPMeOwsEF7QEfjYLhFxoJAuJcuUFe5iEBef8kukGSPQMRxkV/JVpNAklUI9mI7l0DtFeK7Y1CbQHwd5qnThZ9AMz/hAPvloUCfA0Sv2AmkQGd8heRvJ6ZA83kEsEQ4qEBoJBEnhjaqQJIWHWMaHaxAwbl20KPnrUBIXC8DgZKvQNmLkxVkjbBAaBqvkB8/sUCOMLx0qN2xQEaxCrKAaLJA/8QK6W/fskBgw0VXfEKzQA6woabjkbNAwV8/yxPOs0CwtOUSpPezQGbzx4BOD7RAbaN2iekVtEBwo9o8Ygy0QF0IIOe287NApX5YLfLMs0BNFEKnJpmzQCWC7/RqWbNAMarzTNYOs0AHOBZ+fbqyQM0laF5wXbJAk0G7oLf4sUAgb/gIU42xQKHRh/c3HLFAN3zoQ1CmsEDaf6heeSywQICrQmYHX69AX2dQg2RgrkCEy37WdF6tQBX1f9CHWqxAoNjKx9FVq0DunzdubFGqQCfu0npXTqlAiPaIfnlNqECE7zLboE+nQGW1ctWEVaZA40SfusZfpUBxlM8U826kQJI5z+eCg6NANqR48tydokDCUpPwVr6hQEM+6dk25aBAeibOG7QSoEAQhpuV8Y2eQBGHR5VFBJ1A/SsF1omIm0AVsQnwzxqaQGbO43oXu5hAjsOB+E9pl0DtK/+jWiWWQB1a6SMM75RA5iD+Hy7Gk0B5u7C6gKqSQJ5Q/O67m5FAoZc805CZkEAcP9mDVUePQMR/ldJgc41AlJzwhYm2i0DTl3npDxCKQGFfPzcwf4hANBQlBSQDh0BmY8+LI5uFQDkvoclmRoRAasU1hCYEg0DJCboqndOBQOoudZsHtIBAzVN7nUtJf0CgXQHTdkl9QGqi1HIgZ3tAKNJFOeGgeUClGPitW/V3QN9Xmaw8Y3ZAfRVCzzvpdEDOLJG9G4ZzQE7OYmOqOHJAZQPPEcH/cECnN9QZibRvQOKxIhFKjm1AjhbALLyKa0AMknoN7adpQLb+kH0A5GdACe+GCTA9ZkC59+WIyrFkQDU7mJkzQGNAxFJGEOPmYUD4J+VfZKRgQH0YzvSr7l5AQmmcWNG8XECyH1vpvbBaQPkY77UYyFhAc0ihh6kAV0ATZOqLV1hVQHcdPgAozVNAx+xu4TxdUkDWRwmg0wZRQInAoLWHkE9A9aCtQPw/TUCQPgVxFRlLQDzFSu0QGUlAOGhdKVc9R0ByoMAveYNFQJiin34u6UNAP23T+FJsQkABHCjr5ApBQHuD8UsGhj9AgOgwVtYlPUA=\",\"dtype\":\"float64\",\"shape\":[127]}},\"selected\":{\"id\":\"23866\"},\"selection_policy\":{\"id\":\"23865\"}},\"id\":\"23197\",\"type\":\"ColumnDataSource\"},{\"attributes\":{\"days\":[1,2,3,4,5,6,7,8,9,10,11,12,13,14,15,16,17,18,19,20,21,22,23,24,25,26,27,28,29,30,31]},\"id\":\"23181\",\"type\":\"DaysTicker\"},{\"attributes\":{\"days\":[1,4,7,10,13,16,19,22,25,28]},\"id\":\"23182\",\"type\":\"DaysTicker\"},{\"attributes\":{\"axis_label\":\"New Positive\",\"formatter\":{\"id\":\"23234\"},\"minor_tick_in\":-5,\"minor_tick_out\":-3,\"ticker\":{\"id\":\"23150\"}},\"id\":\"23149\",\"type\":\"LinearAxis\"},{\"attributes\":{\"items\":[{\"id\":\"23191\"},{\"id\":\"23224\"}],\"location\":\"top_left\"},\"id\":\"23190\",\"type\":\"Legend\"},{\"attributes\":{\"days\":[1,15]},\"id\":\"23184\",\"type\":\"DaysTicker\"},{\"attributes\":{\"data\":{\"x\":{\"__ndarray__\":\"AAAA5UcHd0IAAMBKmgd3QgAAgLDsB3dCAABAFj8Id0IAAAB8kQh3QgAAwOHjCHdCAACARzYJd0IAAECtiAl3QgAAABPbCXdCAADAeC0Kd0IAAIDefwp3QgAAQETSCndCAAAAqiQLd0IAAMAPdwt3QgAAgHXJC3dCAABA2xsMd0IAAABBbgx3QgAAwKbADHdCAACADBMNd0IAAEByZQ13QgAAANi3DXdCAADAPQoOd0IAAICjXA53QgAAQAmvDndCAAAAbwEPd0IAAMDUUw93QgAAgDqmD3dCAABAoPgPd0IAAAAGSxB3QgAAwGudEHdCAACA0e8Qd0IAAEA3QhF3QgAAAJ2UEXdCAADAAucRd0IAAIBoORJ3QgAAQM6LEndCAAAANN4Sd0IAAMCZMBN3QgAAgP+CE3dCAABAZdUTd0IAAADLJxR3QgAAwDB6FHdCAACAlswUd0IAAED8HhV3QgAAAGJxFXdCAADAx8MVd0IAAIAtFhZ3QgAAQJNoFndCAAAA+boWd0IAAMBeDRd3QgAAgMRfF3dCAABAKrIXd0IAAACQBBh3QgAAwPVWGHdCAACAW6kYd0IAAEDB+xh3QgAAACdOGXdCAADAjKAZd0IAAIDy8hl3QgAAQFhFGndCAAAAvpcad0IAAMAj6hp3QgAAgIk8G3dCAABA744bd0IAAABV4Rt3QgAAwLozHHdCAACAIIYcd0IAAECG2Bx3QgAAAOwqHXdCAADAUX0dd0IAAIC3zx13QgAAQB0iHndCAAAAg3Qed0IAAMDoxh53QgAAgE4ZH3dCAABAtGsfd0IAAAAavh93QgAAwH8QIHdCAACA5WIgd0IAAEBLtSB3QgAAALEHIXdCAADAFlohd0IAAIB8rCF3QgAAQOL+IXdCAAAASFEid0IAAMCtoyJ3QgAAgBP2IndCAABAeUgjd0IAAADfmiN3QgAAwETtI3dCAACAqj8kd0IAAEAQkiR3QgAAAHbkJHdCAADA2zYld0IAAIBBiSV3QgAAQKfbJXdCAAAADS4md0IAAMBygCZ3QgAAgNjSJndCAABAPiUnd0IAAACkdyd3QgAAwAnKJ3dCAACAbxwod0IAAEDVbih3QgAAADvBKHdCAADAoBMpd0IAAIAGZil3QgAAQGy4KXdCAAAA0goqd0IAAMA3XSp3QgAAgJ2vKndCAABAAwIrd0IAAABpVCt3QgAAwM6mK3dCAACANPkrd0IAAECaSyx3QgAAAACeLHdCAADAZfAsd0IAAIDLQi13QgAAQDGVLXdCAAAAl+ctd0IAAMD8OS53QgAAgGKMLndCAABAyN4ud0IAAAAuMS93QgAAwJODL3dCAACA+dUvd0I=\",\"dtype\":\"float64\",\"shape\":[127]},\"y\":[221,93,78,250,238,240,566,342,466,587,769,778,1247,1492,1797,977,2313,2651,2547,3497,3590,3233,3526,4207,5322,5986,6557,5560,4789,5249,5210,6153,5959,5974,5217,4050,4053,4782,4668,4585,4805,4316,3599,3039,3836,4204,3951,4694,4092,3153,2972,2667,3786,3493,3491,3047,2256,2729,3370,2646,3021,2357,2324,1739,2091,2086,1872,1965,1900,1389,1221,1075,1444,1401,1327,1083,802,744,1402,888,992,789,875,675,451,813,665,642,652,669,531,300,397,584,593,516,416,355,178,318,321,177,518,270,197,280,283,202,379,163,346,338,303,210,329,333,251,262,224,218,122,190,296,259,175,174,126]},\"selected\":{\"id\":\"23221\"},\"selection_policy\":{\"id\":\"23220\"}},\"id\":\"23167\",\"type\":\"ColumnDataSource\"},{\"attributes\":{\"fill_color\":{\"value\":\"white\"},\"line_color\":{\"value\":\"red\"},\"size\":{\"units\":\"screen\",\"value\":6},\"x\":{\"field\":\"x\"},\"y\":{\"field\":\"y\"}},\"id\":\"23226\",\"type\":\"Circle\"},{\"attributes\":{},\"id\":\"23222\",\"type\":\"UnionRenderers\"},{\"attributes\":{\"line_alpha\":0.1,\"line_color\":\"blue\",\"line_width\":4,\"x\":{\"field\":\"x\"},\"y\":{\"field\":\"y\"}},\"id\":\"23169\",\"type\":\"Line\"},{\"attributes\":{\"days\":[1,8,15,22]},\"id\":\"23183\",\"type\":\"DaysTicker\"},{\"attributes\":{},\"id\":\"23223\",\"type\":\"Selection\"},{\"attributes\":{},\"id\":\"23867\",\"type\":\"UnionRenderers\"},{\"attributes\":{\"source\":{\"id\":\"23167\"}},\"id\":\"23171\",\"type\":\"CDSView\"},{\"attributes\":{\"source\":{\"id\":\"23192\"}},\"id\":\"23196\",\"type\":\"CDSView\"},{\"attributes\":{\"data\":{\"x\":{\"__ndarray__\":\"AAAA5UcHd0IAAMBKmgd3QgAAgLDsB3dCAABAFj8Id0IAAAB8kQh3QgAAwOHjCHdCAACARzYJd0IAAECtiAl3QgAAABPbCXdCAADAeC0Kd0IAAIDefwp3QgAAQETSCndCAAAAqiQLd0IAAMAPdwt3QgAAgHXJC3dCAABA2xsMd0IAAABBbgx3QgAAwKbADHdCAACADBMNd0IAAEByZQ13QgAAANi3DXdCAADAPQoOd0IAAICjXA53QgAAQAmvDndCAAAAbwEPd0IAAMDUUw93QgAAgDqmD3dCAABAoPgPd0IAAAAGSxB3QgAAwGudEHdCAACA0e8Qd0IAAEA3QhF3QgAAAJ2UEXdCAADAAucRd0IAAIBoORJ3QgAAQM6LEndCAAAANN4Sd0IAAMCZMBN3QgAAgP+CE3dCAABAZdUTd0IAAADLJxR3QgAAwDB6FHdCAACAlswUd0IAAED8HhV3QgAAAGJxFXdCAADAx8MVd0IAAIAtFhZ3QgAAQJNoFndCAAAA+boWd0IAAMBeDRd3QgAAgMRfF3dCAABAKrIXd0IAAACQBBh3QgAAwPVWGHdCAACAW6kYd0IAAEDB+xh3QgAAACdOGXdCAADAjKAZd0IAAIDy8hl3QgAAQFhFGndCAAAAvpcad0IAAMAj6hp3QgAAgIk8G3dCAABA744bd0IAAABV4Rt3QgAAwLozHHdCAACAIIYcd0IAAECG2Bx3QgAAAOwqHXdCAADAUX0dd0IAAIC3zx13QgAAQB0iHndCAAAAg3Qed0IAAMDoxh53QgAAgE4ZH3dCAABAtGsfd0IAAAAavh93QgAAwH8QIHdCAACA5WIgd0IAAEBLtSB3QgAAALEHIXdCAADAFlohd0IAAIB8rCF3QgAAQOL+IXdCAAAASFEid0IAAMCtoyJ3QgAAgBP2IndCAABAeUgjd0IAAADfmiN3QgAAwETtI3dCAACAqj8kd0IAAEAQkiR3QgAAAHbkJHdCAADA2zYld0IAAIBBiSV3QgAAQKfbJXdCAAAADS4md0IAAMBygCZ3QgAAgNjSJndCAABAPiUnd0IAAACkdyd3QgAAwAnKJ3dCAACAbxwod0IAAEDVbih3QgAAADvBKHdCAADAoBMpd0IAAIAGZil3QgAAQGy4KXdCAAAA0goqd0IAAMA3XSp3QgAAgJ2vKndCAABAAwIrd0IAAABpVCt3QgAAwM6mK3dCAACANPkrd0IAAECaSyx3QgAAAACeLHdCAADAZfAsd0IAAIDLQi13QgAAQDGVLXdCAAAAl+ctd0IAAMD8OS53QgAAgGKMLndCAABAyN4ud0IAAAAuMS93QgAAwJODL3dCAACA+dUvd0I=\",\"dtype\":\"float64\",\"shape\":[127]},\"y\":{\"__ndarray__\":\"riNddQ803z/3EJy+TqwVQHGSPqdLMzVA5dIcywwNS0AmsJgBR09bQJCPyjdhxmdAwVpylryvckCPMeOwsEF7QEfjYLhFxoJAuJcuUFe5iEBef8kukGSPQMRxkV/JVpNAklUI9mI7l0DtFeK7Y1CbQHwd5qnThZ9AMz/hAPvloUCfA0Sv2AmkQGd8heRvJ6ZA83kEsEQ4qEBoJBEnhjaqQJIWHWMaHaxAwbl20KPnrUBIXC8DgZKvQNmLkxVkjbBAaBqvkB8/sUCOMLx0qN2xQEaxCrKAaLJA/8QK6W/fskBgw0VXfEKzQA6woabjkbNAwV8/yxPOs0CwtOUSpPezQGbzx4BOD7RAbaN2iekVtEBwo9o8Ygy0QF0IIOe287NApX5YLfLMs0BNFEKnJpmzQCWC7/RqWbNAMarzTNYOs0AHOBZ+fbqyQM0laF5wXbJAk0G7oLf4sUAgb/gIU42xQKHRh/c3HLFAN3zoQ1CmsEDaf6heeSywQICrQmYHX69AX2dQg2RgrkCEy37WdF6tQBX1f9CHWqxAoNjKx9FVq0DunzdubFGqQCfu0npXTqlAiPaIfnlNqECE7zLboE+nQGW1ctWEVaZA40SfusZfpUBxlM8U826kQJI5z+eCg6NANqR48tydokDCUpPwVr6hQEM+6dk25aBAeibOG7QSoEAQhpuV8Y2eQBGHR5VFBJ1A/SsF1omIm0AVsQnwzxqaQGbO43oXu5hAjsOB+E9pl0DtK/+jWiWWQB1a6SMM75RA5iD+Hy7Gk0B5u7C6gKqSQJ5Q/O67m5FAoZc805CZkEAcP9mDVUePQMR/ldJgc41AlJzwhYm2i0DTl3npDxCKQGFfPzcwf4hANBQlBSQDh0BmY8+LI5uFQDkvoclmRoRAasU1hCYEg0DJCboqndOBQOoudZsHtIBAzVN7nUtJf0CgXQHTdkl9QGqi1HIgZ3tAKNJFOeGgeUClGPitW/V3QN9Xmaw8Y3ZAfRVCzzvpdEDOLJG9G4ZzQE7OYmOqOHJAZQPPEcH/cECnN9QZibRvQOKxIhFKjm1AjhbALLyKa0AMknoN7adpQLb+kH0A5GdACe+GCTA9ZkC59+WIyrFkQDU7mJkzQGNAxFJGEOPmYUD4J+VfZKRgQH0YzvSr7l5AQmmcWNG8XECyH1vpvbBaQPkY77UYyFhAc0ihh6kAV0ATZOqLV1hVQHcdPgAozVNAx+xu4TxdUkDWRwmg0wZRQInAoLWHkE9A9aCtQPw/TUCQPgVxFRlLQDzFSu0QGUlAOGhdKVc9R0ByoMAveYNFQJiin34u6UNAP23T+FJsQkABHCjr5ApBQHuD8UsGhj9AgOgwVtYlPUA=\",\"dtype\":\"float64\",\"shape\":[127]}},\"selected\":{\"id\":\"23868\"},\"selection_policy\":{\"id\":\"23867\"}},\"id\":\"23225\",\"type\":\"ColumnDataSource\"},{\"attributes\":{\"bottom_units\":\"screen\",\"fill_alpha\":0.5,\"fill_color\":\"lightgrey\",\"left_units\":\"screen\",\"level\":\"overlay\",\"line_alpha\":1.0,\"line_color\":\"black\",\"line_dash\":[4,4],\"line_width\":2,\"render_mode\":\"css\",\"right_units\":\"screen\",\"top_units\":\"screen\"},\"id\":\"23159\",\"type\":\"BoxAnnotation\"},{\"attributes\":{\"active_drag\":\"auto\",\"active_inspect\":\"auto\",\"active_multi\":null,\"active_scroll\":\"auto\",\"active_tap\":\"auto\",\"tools\":[{\"id\":\"23153\"},{\"id\":\"23154\"},{\"id\":\"23155\"},{\"id\":\"23156\"},{\"id\":\"23157\"},{\"id\":\"23158\"},{\"id\":\"23235\"}]},\"id\":\"23160\",\"type\":\"Toolbar\"},{\"attributes\":{\"line_color\":\"blue\",\"line_width\":4,\"x\":{\"field\":\"x\"},\"y\":{\"field\":\"y\"}},\"id\":\"23168\",\"type\":\"Line\"}],\"root_ids\":[\"23134\"]},\"title\":\"Bokeh Application\",\"version\":\"2.0.2\"}};\n",
       "  var render_items = [{\"docid\":\"ea454680-7e46-4a3d-87d1-76add4b547a2\",\"root_ids\":[\"23134\"],\"roots\":{\"23134\":\"4bc5fe68-de68-4f0e-89a5-c20a6a500931\"}}];\n",
       "  root.Bokeh.embed.embed_items_notebook(docs_json, render_items);\n",
       "\n",
       "  }\n",
       "  if (root.Bokeh !== undefined) {\n",
       "    embed_document(root);\n",
       "  } else {\n",
       "    var attempts = 0;\n",
       "    var timer = setInterval(function(root) {\n",
       "      if (root.Bokeh !== undefined) {\n",
       "        clearInterval(timer);\n",
       "        embed_document(root);\n",
       "      } else {\n",
       "        attempts++;\n",
       "        if (attempts > 100) {\n",
       "          clearInterval(timer);\n",
       "          console.log(\"Bokeh: ERROR: Unable to run BokehJS code because BokehJS library is missing\");\n",
       "        }\n",
       "      }\n",
       "    }, 10, root)\n",
       "  }\n",
       "})(window);"
      ],
      "application/vnd.bokehjs_exec.v0+json": ""
     },
     "metadata": {
      "application/vnd.bokehjs_exec.v0+json": {
       "id": "23134"
      }
     },
     "output_type": "display_data"
    }
   ],
   "source": [
    "pfit_new_positive_Italy = bokeh_plot_2_lines(x=time_date_new, y=nuovi_positivi_italy.loc[0:(fit_range_5-1)], yy=ydata_4[0:fit_range_5], \n",
    "                  title='Gamma Distribution Fitting New Positive: Italy', \n",
    "                  file_name=\"fit_new_positive_Italy.html\", \n",
    "                  x_label='Date', y_label='New Positive', \n",
    "                  legend_1='total cases', legend_2='Gamma fitting',\n",
    "                  x_label_hover='date' , y_label_hover='new positive OR fitting' , \n",
    "                  color_1='blue', color_2='red', y_minmax=None)\n",
    "\n",
    "show(pfit_new_positive_Italy)"
   ]
  },
  {
   "cell_type": "code",
   "execution_count": 106,
   "metadata": {},
   "outputs": [
    {
     "data": {
      "text/plain": [
       "0.9699480196660097"
      ]
     },
     "execution_count": 106,
     "metadata": {},
     "output_type": "execute_result"
    }
   ],
   "source": [
    "- cov[0,1] / (np.sqrt(np.diag(cov)[0] * np.diag(cov)[1])) # Correlation coefficient for parameters 'alpha' and 'beta'"
   ]
  },
  {
   "cell_type": "code",
   "execution_count": 107,
   "metadata": {},
   "outputs": [
    {
     "data": {
      "text/plain": [
       "-0.5244565047157009"
      ]
     },
     "execution_count": 107,
     "metadata": {},
     "output_type": "execute_result"
    }
   ],
   "source": [
    "cov[0,2] / (np.sqrt(np.diag(cov)[0] * np.diag(cov)[2])) # Correlation coefficient for parameters 'alpha' and 'Kmax'"
   ]
  },
  {
   "cell_type": "code",
   "execution_count": 108,
   "metadata": {},
   "outputs": [
    {
     "data": {
      "text/plain": [
       "-0.5768005283702039"
      ]
     },
     "execution_count": 108,
     "metadata": {},
     "output_type": "execute_result"
    }
   ],
   "source": [
    "- cov[1,2] / (np.sqrt(np.diag(cov)[1] * np.diag(cov)[2])) # Correlation coefficient for parameters 'beta' and 'Kmax'"
   ]
  },
  {
   "cell_type": "code",
   "execution_count": 109,
   "metadata": {},
   "outputs": [
    {
     "data": {
      "text/plain": [
       "0.9396623057215423"
      ]
     },
     "execution_count": 109,
     "metadata": {},
     "output_type": "execute_result"
    }
   ],
   "source": [
    "residuals_4 = nuovi_positivi_italy.loc[0:(fit_range_5-1)] - ydata_4  #  Calculation of R^2\n",
    "ss_res_4 = np.sum(residuals_4**2)\n",
    "ss_tot_4 = np.sum((nuovi_positivi_italy.loc[0:(fit_range_5-1)] - np.mean(nuovi_positivi_italy.loc[0:(fit_range_5-1)]))**2)\n",
    "r_squared_4 = 1 - (ss_res_4 / ss_tot_4)\n",
    "r_squared_4"
   ]
  },
  {
   "cell_type": "markdown",
   "metadata": {},
   "source": [
    "----------------"
   ]
  },
  {
   "cell_type": "code",
   "execution_count": 110,
   "metadata": {},
   "outputs": [
    {
     "data": {
      "text/plain": [
       "array([4.87552514e-01, 5.41826914e+00, 2.12003731e+01, 5.41019529e+01,\n",
       "       1.09238709e+02, 1.90199367e+02, 2.98983542e+02, 4.36105637e+02,\n",
       "       6.00784043e+02, 7.91167633e+02, 1.00457040e+03, 1.23769665e+03,\n",
       "       1.48684664e+03, 1.74809740e+03, 2.01745670e+03, 2.29099024e+03,\n",
       "       2.56492321e+03, 2.83571854e+03, 3.10013416e+03, 3.35526202e+03,\n",
       "       3.59855154e+03, 3.82781995e+03, 4.04125198e+03, 4.23739095e+03,\n",
       "       4.41512330e+03, 4.57365803e+03, 4.71250272e+03, 4.83143715e+03,\n",
       "       4.93048571e+03, 5.00988926e+03, 5.07007732e+03, 5.11164091e+03,\n",
       "       5.13530665e+03, 5.14191225e+03, 5.13238374e+03, 5.10771446e+03,\n",
       "       5.06894600e+03, 5.01715099e+03, 4.95341780e+03, 4.87883711e+03,\n",
       "       4.79449021e+03, 4.70143894e+03, 4.60071730e+03, 4.49332436e+03,\n",
       "       4.38021862e+03, 4.26231354e+03, 4.14047410e+03, 4.01551445e+03,\n",
       "       3.88819631e+03, 3.75922820e+03, 3.62926526e+03, 3.49890973e+03,\n",
       "       3.36871178e+03, 3.23917086e+03, 3.11073729e+03, 2.98381417e+03,\n",
       "       2.85875944e+03, 2.73588814e+03, 2.61547477e+03, 2.49775567e+03,\n",
       "       2.38293154e+03, 2.27116980e+03, 2.16260713e+03, 2.05735177e+03,\n",
       "       1.95548592e+03, 1.85706795e+03, 1.76213461e+03, 1.67070306e+03,\n",
       "       1.58277293e+03, 1.49832810e+03, 1.41733852e+03, 1.33976186e+03,\n",
       "       1.26554504e+03, 1.19462571e+03, 1.12693353e+03, 1.06239143e+03,\n",
       "       1.00091676e+03, 9.42422277e+02, 8.86817150e+02, 8.34007770e+02,\n",
       "       7.83898543e+02, 7.36392588e+02, 6.91392357e+02, 6.48800189e+02,\n",
       "       6.08518807e+02, 5.70451742e+02, 5.34503714e+02, 5.00580961e+02,\n",
       "       4.68591510e+02, 4.38445422e+02, 4.10054986e+02, 3.83334883e+02,\n",
       "       3.58202313e+02, 3.34577102e+02, 3.12381773e+02, 2.91541599e+02,\n",
       "       2.71984636e+02, 2.53641736e+02, 2.36446541e+02, 2.20335471e+02,\n",
       "       2.05247687e+02, 1.91125060e+02, 1.77912114e+02, 1.65555973e+02,\n",
       "       1.54006299e+02, 1.43215218e+02, 1.33137253e+02, 1.23729245e+02,\n",
       "       1.14950277e+02, 1.06761591e+02, 9.91265082e+01, 9.20103473e+01,\n",
       "       8.53803434e+01, 7.92055665e+01, 7.34568409e+01, 6.81066666e+01,\n",
       "       6.31291415e+01, 5.84998856e+01, 5.41959668e+01, 5.01958291e+01,\n",
       "       4.64792225e+01, 4.30271358e+01, 3.98217314e+01, 3.68462821e+01,\n",
       "       3.40851110e+01, 3.15235336e+01, 2.91478018e+01, 2.69450512e+01,\n",
       "       2.49032501e+01, 2.30111512e+01, 2.12582451e+01, 1.96347168e+01,\n",
       "       1.81314037e+01, 1.67397560e+01, 1.54517990e+01, 1.42600979e+01,\n",
       "       1.31577236e+01, 1.21382212e+01, 1.11955796e+01, 1.03242034e+01,\n",
       "       9.51888577e+00, 8.77478353e+00, 8.08739308e+00, 7.45252816e+00,\n",
       "       6.86629883e+00, 6.32509160e+00, 5.82555098e+00, 5.36456195e+00,\n",
       "       4.93923371e+00, 4.54688429e+00, 4.18502626e+00, 3.85135327e+00,\n",
       "       3.54372746e+00, 3.26016778e+00, 2.99883892e+00, 2.75804108e+00,\n",
       "       2.53620039e+00, 2.33185996e+00, 2.14367152e+00, 1.97038764e+00,\n",
       "       1.81085447e+00, 1.66400501e+00, 1.52885275e+00, 1.40448587e+00,\n",
       "       1.29006175e+00, 1.18480188e+00, 1.08798719e+00, 9.98953619e-01,\n",
       "       9.17088040e-01, 8.41824492e-01, 7.72640651e-01, 7.09054565e-01,\n",
       "       6.50621620e-01, 5.96931737e-01, 5.47606754e-01, 5.02298018e-01,\n",
       "       4.60684136e-01, 4.22468903e-01, 3.87379379e-01, 3.55164105e-01,\n",
       "       3.25591452e-01, 2.98448100e-01, 2.73537622e-01, 2.50679176e-01,\n",
       "       2.29706297e-01, 2.10465782e-01, 1.92816654e-01, 1.76629208e-01,\n",
       "       1.61784128e-01, 1.48171674e-01, 1.35690926e-01, 1.24249093e-01,\n",
       "       1.13760869e-01, 1.04147839e-01, 9.53379382e-02, 8.72649418e-02,\n",
       "       7.98680036e-02, 7.30912261e-02, 6.68832654e-02, 6.11969664e-02,\n",
       "       5.59890272e-02, 5.12196897e-02, 4.68524540e-02, 4.28538160e-02,\n",
       "       3.91930256e-02, 3.58418635e-02, 3.27744367e-02, 2.99669892e-02,\n",
       "       2.73977288e-02, 2.50466666e-02, 2.28954705e-02, 2.09273296e-02,\n",
       "       1.91268297e-02, 1.74798392e-02, 1.59734035e-02, 1.45956487e-02,\n",
       "       1.33356921e-02, 1.21835614e-02, 1.11301185e-02, 1.01669916e-02,\n",
       "       9.28651106e-03, 8.48165161e-03, 7.74597878e-03, 7.07359981e-03,\n",
       "       6.45911864e-03, 5.89759450e-03, 5.38450396e-03, 4.91570611e-03,\n",
       "       4.48741055e-03, 4.09614808e-03, 3.73874376e-03, 3.41229226e-03,\n",
       "       3.11413519e-03, 2.84184034e-03, 2.59318265e-03, 2.36612674e-03,\n",
       "       2.15881091e-03, 1.96953249e-03, 1.79673436e-03, 1.63899266e-03,\n",
       "       1.49500547e-03, 1.36358252e-03, 1.24363564e-03, 1.13417013e-03,\n",
       "       1.03427679e-03, 9.43124658e-04, 8.59954314e-04, 7.84071790e-04,\n",
       "       7.14842978e-04, 6.51688510e-04, 5.94079079e-04, 5.41531145e-04,\n",
       "       4.93603015e-04, 4.49891252e-04])"
      ]
     },
     "execution_count": 110,
     "metadata": {},
     "output_type": "execute_result"
    }
   ],
   "source": [
    "fit_range_6 = time_date_new_extended.shape[0]\n",
    "xdata_5 = np.linspace(1, fit_range_6, fit_range_6)\n",
    "ydata_5 = model_Gamma_distribution(xdata_5,fit_alpha,fit_beta,fit_Kmax)\n",
    "ydata_5"
   ]
  },
  {
   "cell_type": "code",
   "execution_count": 111,
   "metadata": {
    "scrolled": false
   },
   "outputs": [
    {
     "name": "stderr",
     "output_type": "stream",
     "text": [
      "BokehUserWarning: ColumnDataSource's columns must be of the same length. Current lengths: ('x', 254), ('y', 127)\n",
      "BokehUserWarning: ColumnDataSource's columns must be of the same length. Current lengths: ('x', 254), ('y', 127)\n"
     ]
    },
    {
     "data": {
      "text/html": [
       "\n",
       "\n",
       "\n",
       "\n",
       "\n",
       "\n",
       "  <div class=\"bk-root\" id=\"528de587-363d-4084-91ad-048b90a5e637\" data-root-id=\"24326\"></div>\n"
      ]
     },
     "metadata": {},
     "output_type": "display_data"
    },
    {
     "data": {
      "application/javascript": [
       "(function(root) {\n",
       "  function embed_document(root) {\n",
       "    \n",
       "  var docs_json = {\"5b7175c1-63b0-4126-b295-d61375e35aad\":{\"roots\":{\"references\":[{\"attributes\":{\"below\":[{\"id\":\"24337\"}],\"center\":[{\"id\":\"24340\"},{\"id\":\"24344\"},{\"id\":\"24382\"}],\"left\":[{\"id\":\"24341\"}],\"plot_height\":450,\"renderers\":[{\"id\":\"24362\"},{\"id\":\"24387\"},{\"id\":\"24392\"},{\"id\":\"24420\"}],\"title\":{\"id\":\"24327\"},\"toolbar\":{\"id\":\"24352\"},\"x_range\":{\"id\":\"24329\"},\"x_scale\":{\"id\":\"24333\"},\"y_range\":{\"id\":\"24331\"},\"y_scale\":{\"id\":\"24335\"}},\"id\":\"24326\",\"subtype\":\"Figure\",\"type\":\"Plot\"},{\"attributes\":{\"data_source\":{\"id\":\"24389\"},\"glyph\":{\"id\":\"24390\"},\"hover_glyph\":null,\"muted_glyph\":null,\"nonselection_glyph\":{\"id\":\"24391\"},\"selection_glyph\":null,\"view\":{\"id\":\"24393\"}},\"id\":\"24392\",\"type\":\"GlyphRenderer\"},{\"attributes\":{\"months\":[0,1,2,3,4,5,6,7,8,9,10,11]},\"id\":\"24377\",\"type\":\"MonthsTicker\"},{\"attributes\":{\"num_minor_ticks\":5,\"tickers\":[{\"id\":\"24370\"},{\"id\":\"24371\"},{\"id\":\"24372\"},{\"id\":\"24373\"},{\"id\":\"24374\"},{\"id\":\"24375\"},{\"id\":\"24376\"},{\"id\":\"24377\"},{\"id\":\"24378\"},{\"id\":\"24379\"},{\"id\":\"24380\"},{\"id\":\"24381\"}]},\"id\":\"24338\",\"type\":\"DatetimeTicker\"},{\"attributes\":{\"source\":{\"id\":\"24389\"}},\"id\":\"24393\",\"type\":\"CDSView\"},{\"attributes\":{},\"id\":\"24348\",\"type\":\"SaveTool\"},{\"attributes\":{\"bottom_units\":\"screen\",\"fill_alpha\":0.5,\"fill_color\":\"lightgrey\",\"left_units\":\"screen\",\"level\":\"overlay\",\"line_alpha\":1.0,\"line_color\":\"black\",\"line_dash\":[4,4],\"line_width\":2,\"render_mode\":\"css\",\"right_units\":\"screen\",\"top_units\":\"screen\"},\"id\":\"24351\",\"type\":\"BoxAnnotation\"},{\"attributes\":{},\"id\":\"25083\",\"type\":\"UnionRenderers\"},{\"attributes\":{\"axis\":{\"id\":\"24341\"},\"dimension\":1,\"ticker\":null},\"id\":\"24344\",\"type\":\"Grid\"},{\"attributes\":{\"line_alpha\":0.1,\"line_color\":\"red\",\"line_width\":4,\"x\":{\"field\":\"x\"},\"y\":{\"field\":\"y\"}},\"id\":\"24391\",\"type\":\"Line\"},{\"attributes\":{\"axis_label\":\"New Positive\",\"formatter\":{\"id\":\"24426\"},\"minor_tick_in\":-5,\"minor_tick_out\":-3,\"ticker\":{\"id\":\"24342\"}},\"id\":\"24341\",\"type\":\"LinearAxis\"},{\"attributes\":{},\"id\":\"24345\",\"type\":\"PanTool\"},{\"attributes\":{\"active_drag\":\"auto\",\"active_inspect\":\"auto\",\"active_multi\":null,\"active_scroll\":\"auto\",\"active_tap\":\"auto\",\"tools\":[{\"id\":\"24345\"},{\"id\":\"24346\"},{\"id\":\"24347\"},{\"id\":\"24348\"},{\"id\":\"24349\"},{\"id\":\"24350\"},{\"id\":\"24427\"}]},\"id\":\"24352\",\"type\":\"Toolbar\"},{\"attributes\":{\"label\":{\"value\":\"Gamma fitting\"},\"renderers\":[{\"id\":\"24392\"}]},\"id\":\"24416\",\"type\":\"LegendItem\"},{\"attributes\":{\"months\":[0,2,4,6,8,10]},\"id\":\"24378\",\"type\":\"MonthsTicker\"},{\"attributes\":{\"line_color\":\"blue\",\"line_width\":4,\"x\":{\"field\":\"x\"},\"y\":{\"field\":\"y\"}},\"id\":\"24360\",\"type\":\"Line\"},{\"attributes\":{\"text\":\"Gamma Distribution Fitting New Positive Extended: Italy\"},\"id\":\"24327\",\"type\":\"Title\"},{\"attributes\":{\"base\":24,\"mantissas\":[1,2,4,6,8,12],\"max_interval\":43200000.0,\"min_interval\":3600000.0,\"num_minor_ticks\":0},\"id\":\"24372\",\"type\":\"AdaptiveTicker\"},{\"attributes\":{\"months\":[0,4,8]},\"id\":\"24379\",\"type\":\"MonthsTicker\"},{\"attributes\":{},\"id\":\"24414\",\"type\":\"UnionRenderers\"},{\"attributes\":{\"months\":[0,6]},\"id\":\"24380\",\"type\":\"MonthsTicker\"},{\"attributes\":{\"axis\":{\"id\":\"24337\"},\"ticker\":null},\"id\":\"24340\",\"type\":\"Grid\"},{\"attributes\":{\"source\":{\"id\":\"24359\"}},\"id\":\"24363\",\"type\":\"CDSView\"},{\"attributes\":{\"days\":[1,2,3,4,5,6,7,8,9,10,11,12,13,14,15,16,17,18,19,20,21,22,23,24,25,26,27,28,29,30,31]},\"id\":\"24373\",\"type\":\"DaysTicker\"},{\"attributes\":{},\"id\":\"24413\",\"type\":\"Selection\"},{\"attributes\":{},\"id\":\"24346\",\"type\":\"WheelZoomTool\"},{\"attributes\":{},\"id\":\"24381\",\"type\":\"YearsTicker\"},{\"attributes\":{},\"id\":\"24350\",\"type\":\"HelpTool\"},{\"attributes\":{},\"id\":\"24412\",\"type\":\"UnionRenderers\"},{\"attributes\":{},\"id\":\"25081\",\"type\":\"UnionRenderers\"},{\"attributes\":{\"days\":[1,15]},\"id\":\"24376\",\"type\":\"DaysTicker\"},{\"attributes\":{},\"id\":\"24415\",\"type\":\"Selection\"},{\"attributes\":{},\"id\":\"25084\",\"type\":\"Selection\"},{\"attributes\":{\"data\":{\"x\":{\"__ndarray__\":\"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\",\"dtype\":\"float64\",\"shape\":[254]},\"y\":[221,93,78,250,238,240,566,342,466,587,769,778,1247,1492,1797,977,2313,2651,2547,3497,3590,3233,3526,4207,5322,5986,6557,5560,4789,5249,5210,6153,5959,5974,5217,4050,4053,4782,4668,4585,4805,4316,3599,3039,3836,4204,3951,4694,4092,3153,2972,2667,3786,3493,3491,3047,2256,2729,3370,2646,3021,2357,2324,1739,2091,2086,1872,1965,1900,1389,1221,1075,1444,1401,1327,1083,802,744,1402,888,992,789,875,675,451,813,665,642,652,669,531,300,397,584,593,516,416,355,178,318,321,177,518,270,197,280,283,202,379,163,346,338,303,210,329,333,251,262,224,218,122,190,296,259,175,174,126]},\"selected\":{\"id\":\"24415\"},\"selection_policy\":{\"id\":\"24414\"}},\"id\":\"24384\",\"type\":\"ColumnDataSource\"},{\"attributes\":{\"fill_color\":{\"value\":\"white\"},\"line_color\":{\"value\":\"red\"},\"size\":{\"units\":\"screen\",\"value\":6},\"x\":{\"field\":\"x\"},\"y\":{\"field\":\"y\"}},\"id\":\"24418\",\"type\":\"Circle\"},{\"attributes\":{\"base\":60,\"mantissas\":[1,2,5,10,15,20,30],\"max_interval\":1800000.0,\"min_interval\":1000.0,\"num_minor_ticks\":0},\"id\":\"24371\",\"type\":\"AdaptiveTicker\"},{\"attributes\":{},\"id\":\"24349\",\"type\":\"ResetTool\"},{\"attributes\":{\"days\":[\"%d %B\"]},\"id\":\"24422\",\"type\":\"DatetimeTickFormatter\"},{\"attributes\":{\"days\":[1,4,7,10,13,16,19,22,25,28]},\"id\":\"24374\",\"type\":\"DaysTicker\"},{\"attributes\":{\"label\":{\"value\":\"total cases\"},\"renderers\":[{\"id\":\"24362\"}]},\"id\":\"24383\",\"type\":\"LegendItem\"},{\"attributes\":{\"data\":{\"x\":{\"__ndarray__\":\"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\",\"dtype\":\"float64\",\"shape\":[254]},\"y\":[221,93,78,250,238,240,566,342,466,587,769,778,1247,1492,1797,977,2313,2651,2547,3497,3590,3233,3526,4207,5322,5986,6557,5560,4789,5249,5210,6153,5959,5974,5217,4050,4053,4782,4668,4585,4805,4316,3599,3039,3836,4204,3951,4694,4092,3153,2972,2667,3786,3493,3491,3047,2256,2729,3370,2646,3021,2357,2324,1739,2091,2086,1872,1965,1900,1389,1221,1075,1444,1401,1327,1083,802,744,1402,888,992,789,875,675,451,813,665,642,652,669,531,300,397,584,593,516,416,355,178,318,321,177,518,270,197,280,283,202,379,163,346,338,303,210,329,333,251,262,224,218,122,190,296,259,175,174,126]},\"selected\":{\"id\":\"24413\"},\"selection_policy\":{\"id\":\"24412\"}},\"id\":\"24359\",\"type\":\"ColumnDataSource\"},{\"attributes\":{\"data\":{\"x\":{\"__ndarray__\":\"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\",\"dtype\":\"float64\",\"shape\":[254]},\"y\":{\"__ndarray__\":\"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\",\"dtype\":\"float64\",\"shape\":[254]}},\"selected\":{\"id\":\"25084\"},\"selection_policy\":{\"id\":\"25083\"}},\"id\":\"24417\",\"type\":\"ColumnDataSource\"},{\"attributes\":{},\"id\":\"25082\",\"type\":\"Selection\"},{\"attributes\":{\"line_color\":\"red\",\"line_width\":4,\"x\":{\"field\":\"x\"},\"y\":{\"field\":\"y\"}},\"id\":\"24390\",\"type\":\"Line\"},{\"attributes\":{\"source\":{\"id\":\"24417\"}},\"id\":\"24421\",\"type\":\"CDSView\"},{\"attributes\":{\"items\":[{\"id\":\"24383\"},{\"id\":\"24416\"}],\"location\":\"top_left\"},\"id\":\"24382\",\"type\":\"Legend\"},{\"attributes\":{\"mantissas\":[1,2,5],\"max_interval\":500.0,\"num_minor_ticks\":0},\"id\":\"24370\",\"type\":\"AdaptiveTicker\"},{\"attributes\":{\"line_alpha\":0.1,\"line_color\":\"blue\",\"line_width\":4,\"x\":{\"field\":\"x\"},\"y\":{\"field\":\"y\"}},\"id\":\"24361\",\"type\":\"Line\"},{\"attributes\":{\"axis_label\":\"Date\",\"formatter\":{\"id\":\"24422\"},\"major_label_orientation\":0.7853981633974483,\"minor_tick_in\":-5,\"minor_tick_out\":-3,\"ticker\":{\"id\":\"24338\"}},\"id\":\"24337\",\"type\":\"DatetimeAxis\"},{\"attributes\":{\"data_source\":{\"id\":\"24417\"},\"glyph\":{\"id\":\"24418\"},\"hover_glyph\":null,\"muted_glyph\":null,\"nonselection_glyph\":{\"id\":\"24419\"},\"selection_glyph\":null,\"view\":{\"id\":\"24421\"}},\"id\":\"24420\",\"type\":\"GlyphRenderer\"},{\"attributes\":{\"fill_color\":{\"value\":\"white\"},\"line_color\":{\"value\":\"blue\"},\"size\":{\"units\":\"screen\",\"value\":6},\"x\":{\"field\":\"x\"},\"y\":{\"field\":\"y\"}},\"id\":\"24385\",\"type\":\"Circle\"},{\"attributes\":{\"source\":{\"id\":\"24384\"}},\"id\":\"24388\",\"type\":\"CDSView\"},{\"attributes\":{\"fill_alpha\":{\"value\":0.1},\"fill_color\":{\"value\":\"white\"},\"line_alpha\":{\"value\":0.1},\"line_color\":{\"value\":\"blue\"},\"size\":{\"units\":\"screen\",\"value\":6},\"x\":{\"field\":\"x\"},\"y\":{\"field\":\"y\"}},\"id\":\"24386\",\"type\":\"Circle\"},{\"attributes\":{},\"id\":\"24342\",\"type\":\"BasicTicker\"},{\"attributes\":{},\"id\":\"24331\",\"type\":\"DataRange1d\"},{\"attributes\":{\"callback\":null,\"formatters\":{\"@x\":\"datetime\"},\"mode\":\"vline\",\"tooltips\":[[\"date\",\"@x{%d %B}\"],[\"new positive OR fitting\",\"@y{0.}\"]]},\"id\":\"24427\",\"type\":\"HoverTool\"},{\"attributes\":{\"days\":[1,8,15,22]},\"id\":\"24375\",\"type\":\"DaysTicker\"},{\"attributes\":{},\"id\":\"24329\",\"type\":\"DataRange1d\"},{\"attributes\":{\"data_source\":{\"id\":\"24359\"},\"glyph\":{\"id\":\"24360\"},\"hover_glyph\":null,\"muted_glyph\":null,\"nonselection_glyph\":{\"id\":\"24361\"},\"selection_glyph\":null,\"view\":{\"id\":\"24363\"}},\"id\":\"24362\",\"type\":\"GlyphRenderer\"},{\"attributes\":{\"data_source\":{\"id\":\"24384\"},\"glyph\":{\"id\":\"24385\"},\"hover_glyph\":null,\"muted_glyph\":null,\"nonselection_glyph\":{\"id\":\"24386\"},\"selection_glyph\":null,\"view\":{\"id\":\"24388\"}},\"id\":\"24387\",\"type\":\"GlyphRenderer\"},{\"attributes\":{\"overlay\":{\"id\":\"24351\"}},\"id\":\"24347\",\"type\":\"BoxZoomTool\"},{\"attributes\":{\"data\":{\"x\":{\"__ndarray__\":\"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\",\"dtype\":\"float64\",\"shape\":[254]},\"y\":{\"__ndarray__\":\"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\",\"dtype\":\"float64\",\"shape\":[254]}},\"selected\":{\"id\":\"25082\"},\"selection_policy\":{\"id\":\"25081\"}},\"id\":\"24389\",\"type\":\"ColumnDataSource\"},{\"attributes\":{\"fill_alpha\":{\"value\":0.1},\"fill_color\":{\"value\":\"white\"},\"line_alpha\":{\"value\":0.1},\"line_color\":{\"value\":\"red\"},\"size\":{\"units\":\"screen\",\"value\":6},\"x\":{\"field\":\"x\"},\"y\":{\"field\":\"y\"}},\"id\":\"24419\",\"type\":\"Circle\"},{\"attributes\":{},\"id\":\"24426\",\"type\":\"NumeralTickFormatter\"},{\"attributes\":{},\"id\":\"24335\",\"type\":\"LinearScale\"},{\"attributes\":{},\"id\":\"24333\",\"type\":\"LinearScale\"}],\"root_ids\":[\"24326\"]},\"title\":\"Bokeh Application\",\"version\":\"2.0.2\"}};\n",
       "  var render_items = [{\"docid\":\"5b7175c1-63b0-4126-b295-d61375e35aad\",\"root_ids\":[\"24326\"],\"roots\":{\"24326\":\"528de587-363d-4084-91ad-048b90a5e637\"}}];\n",
       "  root.Bokeh.embed.embed_items_notebook(docs_json, render_items);\n",
       "\n",
       "  }\n",
       "  if (root.Bokeh !== undefined) {\n",
       "    embed_document(root);\n",
       "  } else {\n",
       "    var attempts = 0;\n",
       "    var timer = setInterval(function(root) {\n",
       "      if (root.Bokeh !== undefined) {\n",
       "        clearInterval(timer);\n",
       "        embed_document(root);\n",
       "      } else {\n",
       "        attempts++;\n",
       "        if (attempts > 100) {\n",
       "          clearInterval(timer);\n",
       "          console.log(\"Bokeh: ERROR: Unable to run BokehJS code because BokehJS library is missing\");\n",
       "        }\n",
       "      }\n",
       "    }, 10, root)\n",
       "  }\n",
       "})(window);"
      ],
      "application/vnd.bokehjs_exec.v0+json": ""
     },
     "metadata": {
      "application/vnd.bokehjs_exec.v0+json": {
       "id": "24326"
      }
     },
     "output_type": "display_data"
    }
   ],
   "source": [
    "pfit_2_new_positive_Italy = bokeh_plot_2_lines(x=time_date_new_extended, y=nuovi_positivi_italy.loc[0:(fit_range_5-1)], yy=ydata_5[0:fit_range_6], \n",
    "                  title='Gamma Distribution Fitting New Positive Extended: Italy', \n",
    "                  file_name=\"fit_2_new_positive_Italy.html\", \n",
    "                  x_label='Date', y_label='New Positive', \n",
    "                  legend_1='total cases', legend_2='Gamma fitting',\n",
    "                  x_label_hover='date' , y_label_hover='new positive OR fitting' , \n",
    "                  color_1='blue', color_2='red', y_minmax=None)\n",
    "\n",
    "show(pfit_2_new_positive_Italy)"
   ]
  },
  {
   "cell_type": "code",
   "execution_count": 112,
   "metadata": {},
   "outputs": [
    {
     "name": "stderr",
     "output_type": "stream",
     "text": [
      "BokehUserWarning: ColumnDataSource's columns must be of the same length. Current lengths: ('x', 254), ('y', 127)\n",
      "BokehUserWarning: ColumnDataSource's columns must be of the same length. Current lengths: ('x', 254), ('y', 127)\n",
      "BokehUserWarning: ColumnDataSource's columns must be of the same length. Current lengths: ('x', 254), ('y', 127)\n",
      "BokehUserWarning: ColumnDataSource's columns must be of the same length. Current lengths: ('x', 254), ('y', 127)\n"
     ]
    },
    {
     "data": {
      "text/html": [
       "\n",
       "\n",
       "\n",
       "\n",
       "\n",
       "\n",
       "  <div class=\"bk-root\" id=\"076d9133-c1db-4165-b9f7-09690ef796ff\" data-root-id=\"25542\"></div>\n"
      ]
     },
     "metadata": {},
     "output_type": "display_data"
    },
    {
     "data": {
      "application/javascript": [
       "(function(root) {\n",
       "  function embed_document(root) {\n",
       "    \n",
       "  var docs_json = {\"9163194f-e495-4e67-bf9d-ae7188092199\":{\"roots\":{\"references\":[{\"attributes\":{\"below\":[{\"id\":\"25553\"}],\"center\":[{\"id\":\"25556\"},{\"id\":\"25560\"},{\"id\":\"25598\"}],\"left\":[{\"id\":\"25557\"}],\"plot_height\":450,\"renderers\":[{\"id\":\"25578\"},{\"id\":\"25603\"},{\"id\":\"25608\"},{\"id\":\"25636\"},{\"id\":\"25641\"},{\"id\":\"25673\"}],\"title\":{\"id\":\"25543\"},\"toolbar\":{\"id\":\"25568\"},\"x_range\":{\"id\":\"25545\"},\"x_scale\":{\"id\":\"25549\"},\"y_range\":{\"id\":\"25547\"},\"y_scale\":{\"id\":\"25551\"}},\"id\":\"25542\",\"subtype\":\"Figure\",\"type\":\"Plot\"},{\"attributes\":{\"line_alpha\":0.1,\"line_color\":\"blue\",\"line_width\":4,\"x\":{\"field\":\"x\"},\"y\":{\"field\":\"y\"}},\"id\":\"25577\",\"type\":\"Line\"},{\"attributes\":{\"axis_label\":\"Date\",\"formatter\":{\"id\":\"25675\"},\"major_label_orientation\":0.7853981633974483,\"minor_tick_in\":-5,\"minor_tick_out\":-3,\"ticker\":{\"id\":\"25554\"}},\"id\":\"25553\",\"type\":\"DatetimeAxis\"},{\"attributes\":{\"data_source\":{\"id\":\"25575\"},\"glyph\":{\"id\":\"25576\"},\"hover_glyph\":null,\"muted_glyph\":null,\"nonselection_glyph\":{\"id\":\"25577\"},\"selection_glyph\":null,\"view\":{\"id\":\"25579\"}},\"id\":\"25578\",\"type\":\"GlyphRenderer\"},{\"attributes\":{},\"id\":\"25549\",\"type\":\"LinearScale\"},{\"attributes\":{\"fill_color\":{\"value\":\"white\"},\"line_color\":{\"value\":\"red\"},\"size\":{\"units\":\"screen\",\"value\":5},\"x\":{\"field\":\"x\"},\"y\":{\"field\":\"y\"}},\"id\":\"25634\",\"type\":\"Circle\"},{\"attributes\":{\"label\":{\"value\":\"new positive\"},\"renderers\":[{\"id\":\"25578\"}]},\"id\":\"25599\",\"type\":\"LegendItem\"},{\"attributes\":{\"data\":{\"x\":{\"__ndarray__\":\"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\",\"dtype\":\"float64\",\"shape\":[254]},\"y\":[221,93,78,250,238,240,566,342,466,587,769,778,1247,1492,1797,977,2313,2651,2547,3497,3590,3233,3526,4207,5322,5986,6557,5560,4789,5249,5210,6153,5959,5974,5217,4050,4053,4782,4668,4585,4805,4316,3599,3039,3836,4204,3951,4694,4092,3153,2972,2667,3786,3493,3491,3047,2256,2729,3370,2646,3021,2357,2324,1739,2091,2086,1872,1965,1900,1389,1221,1075,1444,1401,1327,1083,802,744,1402,888,992,789,875,675,451,813,665,642,652,669,531,300,397,584,593,516,416,355,178,318,321,177,518,270,197,280,283,202,379,163,346,338,303,210,329,333,251,262,224,218,122,190,296,259,175,174,126]},\"selected\":{\"id\":\"25629\"},\"selection_policy\":{\"id\":\"25628\"}},\"id\":\"25575\",\"type\":\"ColumnDataSource\"},{\"attributes\":{\"data\":{\"x\":{\"__ndarray__\":\"AAAA5UcHd0IAAMBKmgd3QgAAgLDsB3dCAABAFj8Id0IAAAB8kQh3QgAAwOHjCHdCAACARzYJd0IAAECtiAl3QgAAABPbCXdCAADAeC0Kd0IAAIDefwp3QgAAQETSCndCAAAAqiQLd0IAAMAPdwt3QgAAgHXJC3dCAABA2xsMd0IAAABBbgx3QgAAwKbADHdCAACADBMNd0IAAEByZQ13QgAAANi3DXdCAADAPQoOd0IAAICjXA53QgAAQAmvDndCAAAAbwEPd0IAAMDUUw93QgAAgDqmD3dCAABAoPgPd0IAAAAGSxB3QgAAwGudEHdCAACA0e8Qd0IAAEA3QhF3QgAAAJ2UEXdCAADAAucRd0IAAIBoORJ3QgAAQM6LEndCAAAANN4Sd0IAAMCZMBN3QgAAgP+CE3dCAABAZdUTd0IAAADLJxR3QgAAwDB6FHdCAACAlswUd0IAAED8HhV3QgAAAGJxFXdCAADAx8MVd0IAAIAtFhZ3QgAAQJNoFndCAAAA+boWd0IAAMBeDRd3QgAAgMRfF3dCAABAKrIXd0IAAACQBBh3QgAAwPVWGHdCAACAW6kYd0IAAEDB+xh3QgAAACdOGXdCAADAjKAZd0IAAIDy8hl3QgAAQFhFGndCAAAAvpcad0IAAMAj6hp3QgAAgIk8G3dCAABA744bd0IAAABV4Rt3QgAAwLozHHdCAACAIIYcd0IAAECG2Bx3QgAAAOwqHXdCAADAUX0dd0IAAIC3zx13QgAAQB0iHndCAAAAg3Qed0IAAMDoxh53QgAAgE4ZH3dCAABAtGsfd0IAAAAavh93QgAAwH8QIHdCAACA5WIgd0IAAEBLtSB3QgAAALEHIXdCAADAFlohd0IAAIB8rCF3QgAAQOL+IXdCAAAASFEid0IAAMCtoyJ3QgAAgBP2IndCAABAeUgjd0IAAADfmiN3QgAAwETtI3dCAACAqj8kd0IAAEAQkiR3QgAAAHbkJHdCAADA2zYld0IAAIBBiSV3QgAAQKfbJXdCAAAADS4md0IAAMBygCZ3QgAAgNjSJndCAABAPiUnd0IAAACkdyd3QgAAwAnKJ3dCAACAbxwod0IAAEDVbih3QgAAADvBKHdCAADAoBMpd0IAAIAGZil3QgAAQGy4KXdCAAAA0goqd0IAAMA3XSp3QgAAgJ2vKndCAABAAwIrd0IAAABpVCt3QgAAwM6mK3dCAACANPkrd0IAAECaSyx3QgAAAACeLHdCAADAZfAsd0IAAIDLQi13QgAAQDGVLXdCAAAAl+ctd0IAAMD8OS53QgAAgGKMLndCAABAyN4ud0IAAAAuMS93QgAAwJODL3dCAACA+dUvd0IAAEBfKDB3QgAAAMV6MHdCAADAKs0wd0IAAICQHzF3QgAAQPZxMXdCAAAAXMQxd0IAAMDBFjJ3QgAAgCdpMndCAABAjbsyd0IAAADzDTN3QgAAwFhgM3dCAACAvrIzd0IAAEAkBTR3QgAAAIpXNHdCAADA76k0d0IAAIBV/DR3QgAAQLtONXdCAAAAIaE1d0IAAMCG8zV3QgAAgOxFNndCAABAUpg2d0IAAAC46jZ3QgAAwB09N3dCAACAg483d0IAAEDp4Td3QgAAAE80OHdCAADAtIY4d0IAAIAa2Th3QgAAQIArOXdCAAAA5n05d0IAAMBL0Dl3QgAAgLEiOndCAABAF3U6d0IAAAB9xzp3QgAAwOIZO3dCAACASGw7d0IAAECuvjt3QgAAABQRPHdCAADAeWM8d0IAAIDftTx3QgAAQEUIPXdCAAAAq1o9d0IAAMAQrT13QgAAgHb/PXdCAABA3FE+d0IAAABCpD53QgAAwKf2PndCAACADUk/d0IAAEBzmz93QgAAANntP3dCAADAPkBAd0IAAICkkkB3QgAAQArlQHdCAAAAcDdBd0IAAMDViUF3QgAAgDvcQXdCAABAoS5Cd0IAAAAHgUJ3QgAAwGzTQndCAACA0iVDd0IAAEA4eEN3QgAAAJ7KQ3dCAADAAx1Ed0IAAIBpb0R3QgAAQM/BRHdCAAAANRRFd0IAAMCaZkV3QgAAgAC5RXdCAABAZgtGd0IAAADMXUZ3QgAAwDGwRndCAACAlwJHd0IAAED9VEd3QgAAAGOnR3dCAADAyPlHd0IAAIAuTEh3QgAAQJSeSHdCAAAA+vBId0IAAMBfQ0l3QgAAgMWVSXdCAABAK+hJd0IAAACROkp3QgAAwPaMSndCAACAXN9Kd0IAAEDCMUt3QgAAACiES3dCAADAjdZLd0IAAIDzKEx3QgAAQFl7THdCAAAAv81Md0IAAMAkIE13QgAAgIpyTXdCAABA8MRNd0IAAABWF053QgAAwLtpTndCAACAIbxOd0IAAECHDk93QgAAAO1gT3dCAADAUrNPd0IAAIC4BVB3QgAAQB5YUHdCAAAAhKpQd0IAAMDp/FB3QgAAgE9PUXdCAABAtaFRd0IAAAAb9FF3QgAAwIBGUndCAACA5phSd0IAAEBM61J3QgAAALI9U3dCAADAF5BTd0IAAIB94lN3QgAAQOM0VHdCAAAASYdUd0IAAMCu2VR3QgAAgBQsVXdCAABAen5Vd0IAAADg0FV3QgAAwEUjVndCAACAq3VWd0IAAEARyFZ3QgAAAHcaV3dCAADA3GxXd0IAAIBCv1d3QgAAQKgRWHdCAAAADmRYd0IAAMBztlh3Qg==\",\"dtype\":\"float64\",\"shape\":[254]},\"y\":[221,93,78,250,238,240,566,342,466,587,769,778,1247,1492,1797,977,2313,2651,2547,3497,3590,3233,3526,4207,5322,5986,6557,5560,4789,5249,5210,6153,5959,5974,5217,4050,4053,4782,4668,4585,4805,4316,3599,3039,3836,4204,3951,4694,4092,3153,2972,2667,3786,3493,3491,3047,2256,2729,3370,2646,3021,2357,2324,1739,2091,2086,1872,1965,1900,1389,1221,1075,1444,1401,1327,1083,802,744,1402,888,992,789,875,675,451,813,665,642,652,669,531,300,397,584,593,516,416,355,178,318,321,177,518,270,197,280,283,202,379,163,346,338,303,210,329,333,251,262,224,218,122,190,296,259,175,174,126]},\"selected\":{\"id\":\"25631\"},\"selection_policy\":{\"id\":\"25630\"}},\"id\":\"25600\",\"type\":\"ColumnDataSource\"},{\"attributes\":{\"num_minor_ticks\":5,\"tickers\":[{\"id\":\"25586\"},{\"id\":\"25587\"},{\"id\":\"25588\"},{\"id\":\"25589\"},{\"id\":\"25590\"},{\"id\":\"25591\"},{\"id\":\"25592\"},{\"id\":\"25593\"},{\"id\":\"25594\"},{\"id\":\"25595\"},{\"id\":\"25596\"},{\"id\":\"25597\"}]},\"id\":\"25554\",\"type\":\"DatetimeTicker\"},{\"attributes\":{\"source\":{\"id\":\"25575\"}},\"id\":\"25579\",\"type\":\"CDSView\"},{\"attributes\":{},\"id\":\"25547\",\"type\":\"DataRange1d\"},{\"attributes\":{\"text\":\"Gamma Distribution Fitting New Positive Extended: Italy\"},\"id\":\"25543\",\"type\":\"Title\"},{\"attributes\":{\"fill_color\":{\"value\":\"white\"},\"line_color\":{\"value\":\"blue\"},\"size\":{\"units\":\"screen\",\"value\":5},\"x\":{\"field\":\"x\"},\"y\":{\"field\":\"y\"}},\"id\":\"25601\",\"type\":\"Circle\"},{\"attributes\":{},\"id\":\"25551\",\"type\":\"LinearScale\"},{\"attributes\":{\"items\":[{\"id\":\"25599\"},{\"id\":\"25632\"},{\"id\":\"25669\"}]},\"id\":\"25598\",\"type\":\"Legend\"},{\"attributes\":{},\"id\":\"25545\",\"type\":\"DataRange1d\"},{\"attributes\":{\"axis_label\":\"New Positive\",\"formatter\":{\"id\":\"25677\"},\"minor_tick_in\":-5,\"minor_tick_out\":-3,\"ticker\":{\"id\":\"25558\"}},\"id\":\"25557\",\"type\":\"LinearAxis\"},{\"attributes\":{},\"id\":\"25628\",\"type\":\"UnionRenderers\"},{\"attributes\":{},\"id\":\"26362\",\"type\":\"Selection\"},{\"attributes\":{\"axis\":{\"id\":\"25557\"},\"dimension\":1,\"ticker\":null},\"id\":\"25560\",\"type\":\"Grid\"},{\"attributes\":{},\"id\":\"26361\",\"type\":\"UnionRenderers\"},{\"attributes\":{\"line_alpha\":0.1,\"line_color\":\"red\",\"line_width\":4,\"x\":{\"field\":\"x\"},\"y\":{\"field\":\"y\"}},\"id\":\"25607\",\"type\":\"Line\"},{\"attributes\":{\"months\":[0,2,4,6,8,10]},\"id\":\"25594\",\"type\":\"MonthsTicker\"},{\"attributes\":{\"line_color\":\"lightblue\",\"line_width\":4,\"x\":{\"field\":\"x\"},\"y\":{\"field\":\"y\"}},\"id\":\"25639\",\"type\":\"Line\"},{\"attributes\":{\"months\":[0,4,8]},\"id\":\"25595\",\"type\":\"MonthsTicker\"},{\"attributes\":{\"data_source\":{\"id\":\"25605\"},\"glyph\":{\"id\":\"25606\"},\"hover_glyph\":null,\"muted_glyph\":null,\"nonselection_glyph\":{\"id\":\"25607\"},\"selection_glyph\":null,\"view\":{\"id\":\"25609\"}},\"id\":\"25608\",\"type\":\"GlyphRenderer\"},{\"attributes\":{\"months\":[0,6]},\"id\":\"25596\",\"type\":\"MonthsTicker\"},{\"attributes\":{\"source\":{\"id\":\"25605\"}},\"id\":\"25609\",\"type\":\"CDSView\"},{\"attributes\":{\"days\":[1,15]},\"id\":\"25592\",\"type\":\"DaysTicker\"},{\"attributes\":{\"line_color\":\"red\",\"line_width\":4,\"x\":{\"field\":\"x\"},\"y\":{\"field\":\"y\"}},\"id\":\"25606\",\"type\":\"Line\"},{\"attributes\":{\"label\":{\"value\":\"Gamma fitting\"},\"renderers\":[{\"id\":\"25608\"}]},\"id\":\"25632\",\"type\":\"LegendItem\"},{\"attributes\":{},\"id\":\"26364\",\"type\":\"Selection\"},{\"attributes\":{\"axis\":{\"id\":\"25553\"},\"ticker\":null},\"id\":\"25556\",\"type\":\"Grid\"},{\"attributes\":{\"data_source\":{\"id\":\"25633\"},\"glyph\":{\"id\":\"25634\"},\"hover_glyph\":null,\"muted_glyph\":null,\"nonselection_glyph\":{\"id\":\"25635\"},\"selection_glyph\":null,\"view\":{\"id\":\"25637\"}},\"id\":\"25636\",\"type\":\"GlyphRenderer\"},{\"attributes\":{},\"id\":\"25558\",\"type\":\"BasicTicker\"},{\"attributes\":{},\"id\":\"25630\",\"type\":\"UnionRenderers\"},{\"attributes\":{\"days\":[1,2,3,4,5,6,7,8,9,10,11,12,13,14,15,16,17,18,19,20,21,22,23,24,25,26,27,28,29,30,31]},\"id\":\"25589\",\"type\":\"DaysTicker\"},{\"attributes\":{},\"id\":\"25629\",\"type\":\"Selection\"},{\"attributes\":{},\"id\":\"26363\",\"type\":\"UnionRenderers\"},{\"attributes\":{\"active_drag\":\"auto\",\"active_inspect\":\"auto\",\"active_multi\":null,\"active_scroll\":\"auto\",\"active_tap\":\"auto\",\"tools\":[{\"id\":\"25561\"},{\"id\":\"25562\"},{\"id\":\"25563\"},{\"id\":\"25564\"},{\"id\":\"25565\"},{\"id\":\"25566\"},{\"id\":\"25679\"}]},\"id\":\"25568\",\"type\":\"Toolbar\"},{\"attributes\":{},\"id\":\"25631\",\"type\":\"Selection\"},{\"attributes\":{},\"id\":\"25561\",\"type\":\"PanTool\"},{\"attributes\":{\"data\":{\"x\":{\"__ndarray__\":\"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\",\"dtype\":\"float64\",\"shape\":[254]},\"y\":{\"__ndarray__\":\"riNddQ803z/3EJy+TqwVQHGSPqdLMzVA5dIcywwNS0AmsJgBR09bQJCPyjdhxmdAwVpylryvckCPMeOwsEF7QEfjYLhFxoJAuJcuUFe5iEBef8kukGSPQMRxkV/JVpNAklUI9mI7l0DtFeK7Y1CbQHwd5qnThZ9AMz/hAPvloUCfA0Sv2AmkQGd8heRvJ6ZA83kEsEQ4qEBoJBEnhjaqQJIWHWMaHaxAwbl20KPnrUBIXC8DgZKvQNmLkxVkjbBAaBqvkB8/sUCOMLx0qN2xQEaxCrKAaLJA/8QK6W/fskBgw0VXfEKzQA6woabjkbNAwV8/yxPOs0CwtOUSpPezQGbzx4BOD7RAbaN2iekVtEBwo9o8Ygy0QF0IIOe287NApX5YLfLMs0BNFEKnJpmzQCWC7/RqWbNAMarzTNYOs0AHOBZ+fbqyQM0laF5wXbJAk0G7oLf4sUAgb/gIU42xQKHRh/c3HLFAN3zoQ1CmsEDaf6heeSywQICrQmYHX69AX2dQg2RgrkCEy37WdF6tQBX1f9CHWqxAoNjKx9FVq0DunzdubFGqQCfu0npXTqlAiPaIfnlNqECE7zLboE+nQGW1ctWEVaZA40SfusZfpUBxlM8U826kQJI5z+eCg6NANqR48tydokDCUpPwVr6hQEM+6dk25aBAeibOG7QSoEAQhpuV8Y2eQBGHR5VFBJ1A/SsF1omIm0AVsQnwzxqaQGbO43oXu5hAjsOB+E9pl0DtK/+jWiWWQB1a6SMM75RA5iD+Hy7Gk0B5u7C6gKqSQJ5Q/O67m5FAoZc805CZkEAcP9mDVUePQMR/ldJgc41AlJzwhYm2i0DTl3npDxCKQGFfPzcwf4hANBQlBSQDh0BmY8+LI5uFQDkvoclmRoRAasU1hCYEg0DJCboqndOBQOoudZsHtIBAzVN7nUtJf0CgXQHTdkl9QGqi1HIgZ3tAKNJFOeGgeUClGPitW/V3QN9Xmaw8Y3ZAfRVCzzvpdEDOLJG9G4ZzQE7OYmOqOHJAZQPPEcH/cECnN9QZibRvQOKxIhFKjm1AjhbALLyKa0AMknoN7adpQLb+kH0A5GdACe+GCTA9ZkC59+WIyrFkQDU7mJkzQGNAxFJGEOPmYUD4J+VfZKRgQH0YzvSr7l5AQmmcWNG8XECyH1vpvbBaQPkY77UYyFhAc0ihh6kAV0ATZOqLV1hVQHcdPgAozVNAx+xu4TxdUkDWRwmg0wZRQInAoLWHkE9A9aCtQPw/TUCQPgVxFRlLQDzFSu0QGUlAOGhdKVc9R0ByoMAveYNFQJiin34u6UNAP23T+FJsQkABHCjr5ApBQHuD8UsGhj9AgOgwVtYlPUBMAMbf7vE6QLIDb2Y75zhAvfwUztoCN0CmaVdaHEI1QHLRms18ojNAhhKerKMhMkCSKYelYL0wQKeWkjJS5y5Aje51jCuFLECbcFUlwVAqQOdleOzERihAMhmpASNkJkBUpbn7/aUkQCcKRWWrCSNAzQdDbbCMIUCrOg7JviwgQKd9Dotjzx1A6sMZChd3G0A0gSDQ5EwZQJCVNzxdTRdAv51quk91FUAoISp7xsETQFfMfG8CMBJAuVMyhne9EEAaTflMks8OQDmQ9MiNWQxAgF/F2NIUCkD1kVZCn/0HQEa8Qdd3EAZAMoErbiNKBEDxe9ExpqcCQISUl0A9JgFAkYhML7WG/z+x7NmJQvn8Pw4+NrfDn/o/fKi/TS52+D8PHfUtxnj2P/aFwMkXpPQ/2WXc0fL08j8gTq9CZWjxPzw9tZRt9+8/i+0wBMlY7T8Ebr3qOfDqP1X8JON4ueg/Iq3RMpOw5j9Yv7xu5NHkP8el8ZUQGuM/JtmUmf6F4T+bVeFK0xLgPyJxFlDZe90/0THVArsJ2z/5Wn/h0srYPwzskTkCu9Y/VUyLh33W1D9+q7QPxhnTP7JtSPGjgdE/2SswqyAL0D9cv1kUBGfNPxjslPGK8Mo/AmwLVDeuyD/4TxEwyZvGP7jYraFXtcQ/M0tiFkr3wj8HZ7r8UV7BP+eAg9/Jzr8/68xYqm4fvT/v+1DLbqm6PzIo1S4RaLg/1/0vx/5Wtj/twXS/OnK0P2LBy0kbtrI/S/Fi/UIfsT8u3TlyNVWvP3CByQGYqqw/mHGVmHc5qj/R4H57C/2nPy5JzHTv8KU/5oMgthsRpD9ecgNf3VmiPymlQpvPx6A/bJnJmqqvnj+M/5p0Jg6cP2B6AljVpZk/JDZ5BOlxlz8X1YxQ+W2VP6lUGND7lZM/OchmJjzmkT9wubT2VFuQPxmTHs1S5I0/1FYNTb5Piz/TWBvtsfOIP0MTZjhjy4Y/eP9Ig27ShD8o/z9qzgSDP/yVPALUXoE/xLpxWD+6fz/LJeD9NPl8P5uyV3XgdHo/FrsQeBMoeD9xDOTGDw52PxoK3c99InQ/J7kEGWRhcj/OuGhgH8dwP01sTcW2oG4/xU7idBj0az/v7y2Z0IJpP9sWLmrFR2c/Z4dnVUw+ZT8yDqeeIGJjP/QOhshar2E/KCZMtGgiYD+P3TTUDHBdPxBJCvdu2lo/kI2/54F+WD/t4BCVR1dWPxA05ZgvYFQ/Ohwj5g2VUj8UASI/EvJQP2R5H8iA504/i2X/09EtTD8FZTJZRbFJP2DZA5uJbEc/4OJga8JaRT/iyZcbf3dDP0RVRkexvkE/kX4wZ6QsQD+9aXc27Hs9Pw==\",\"dtype\":\"float64\",\"shape\":[254]}},\"selected\":{\"id\":\"25666\"},\"selection_policy\":{\"id\":\"25665\"}},\"id\":\"25605\",\"type\":\"ColumnDataSource\"},{\"attributes\":{\"fill_alpha\":{\"value\":0.1},\"fill_color\":{\"value\":\"white\"},\"line_alpha\":{\"value\":0.1},\"line_color\":{\"value\":\"red\"},\"size\":{\"units\":\"screen\",\"value\":5},\"x\":{\"field\":\"x\"},\"y\":{\"field\":\"y\"}},\"id\":\"25635\",\"type\":\"Circle\"},{\"attributes\":{\"months\":[0,1,2,3,4,5,6,7,8,9,10,11]},\"id\":\"25593\",\"type\":\"MonthsTicker\"},{\"attributes\":{\"use_scientific\":false},\"id\":\"25677\",\"type\":\"BasicTickFormatter\"},{\"attributes\":{\"days\":[1,8,15,22]},\"id\":\"25591\",\"type\":\"DaysTicker\"},{\"attributes\":{},\"id\":\"25564\",\"type\":\"SaveTool\"},{\"attributes\":{\"source\":{\"id\":\"25670\"}},\"id\":\"25674\",\"type\":\"CDSView\"},{\"attributes\":{\"data\":{\"x\":{\"__ndarray__\":\"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\",\"dtype\":\"float64\",\"shape\":[254]},\"y\":{\"__ndarray__\":\"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\",\"dtype\":\"float64\",\"shape\":[254]}},\"selected\":{\"id\":\"25668\"},\"selection_policy\":{\"id\":\"25667\"}},\"id\":\"25633\",\"type\":\"ColumnDataSource\"},{\"attributes\":{\"source\":{\"id\":\"25633\"}},\"id\":\"25637\",\"type\":\"CDSView\"},{\"attributes\":{\"base\":60,\"mantissas\":[1,2,5,10,15,20,30],\"max_interval\":1800000.0,\"min_interval\":1000.0,\"num_minor_ticks\":0},\"id\":\"25587\",\"type\":\"AdaptiveTicker\"},{\"attributes\":{\"data\":{\"x\":{\"__ndarray__\":\"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\",\"dtype\":\"float64\",\"shape\":[254]},\"y\":{\"__ndarray__\":\"AAAAAAAA+H8AAAAAAAD4fwAAAAAAAPh/AAAAAAAA+H8AAAAAAAD4fwAAAAAAAPh/t23btm0bbkAlSZIkSSJwQG7btm3bdnNAJUmSJEkCeEBJkiRJkqR8QLdt27Ztu4BAJUmSJEk6hUBJkiRJklyJQLdt27Zt249A27Zt27YRkUAAAAAAAOyUQLdt27ZtH5lAJUmSJEkSnUAAAAAAAAyhQLdt27ZtY6NA27Zt27b9pEAAAAAAANanQJIkSZIk86lAJUmSJEnurEC3bdu2bWKwQEmSJEmSF7JAAAAAAAAxs0AlSZIkSQ+0QLdt27ZtBbVA27Zt27aUtUC3bdu2bQu2QEmSJEmSB7ZAJUmSJEm0tUAlSZIkSYO1QNu2bdu2GbVAbtu2bdtutEDbtm3btjG0QEmSJEmSXbNAJUmSJEmZskAlSZIkSfKxQEmSJEmScbFAkiRJkiQxsUAlSZIkSaCwQJIkSZIkGbBA27Zt27atr0BJkiRJkviuQG7btm3b2K5Abtu2bduYrkC3bdu2bRmuQCVJkiRJBq5AJUmSJEm4rEBu27Zt20CsQAAAAAAAvqtAJUmSJElmqkDbtm3btjupQLdt27ZtO6hAAAAAAAD2p0Bu27Zt276oQJIkSZIkeadAJUmSJEnypkAlSZIkSa6lQNu2bdu236RAAAAAAABMpEDbtm3btpWjQG7btm3bJqJA27Zt27ZJoUAAAAAAABygQG7btm3bMp9ASZIkSZIcnUBJkiRJkvSbQAAAAAAAsJlAkiRJkiRBmEAAAAAAADSXQLdt27Ztx5VASZIkSZL0k0CSJEmSJKWSQEmSJEmSlJFAt23btm1PkkDbtm3bthGRQAAAAAAAKJBAkiRJkiTpjUC3bdu2bfuMQCVJkiRJaoxAt23btm0bi0AlSZIkSXqIQLdt27Zte4dAt23btm3rhUBu27Zt206FQLdt27ZtY4RAbtu2bdu+g0AlSZIkSRKDQG7btm3bNoFAJUmSJEnagEAlSZIkSaKAQG7btm3bBoBAt23btm3LfUCSJEmSJDl8QCVJkiRJIntA27Zt27ZtekBJkiRJkhR4QNu2bdu2XXRAJUmSJElidEBJkiRJkhRzQLdt27Ztq3FASZIkSZKUckBJkiRJkkRyQEmSJEmSNHFAJUmSJEkCc0Dbtm3btq1vQEmSJEmShHBAbtu2bdvGcUC3bdu2bftxQEmSJEmSVHFAbtu2bdt2ckDbtm3btg1yQG7btm3b1nJAbtu2bdsWckAlSZIkSRJxQAAAAAAAUHBA27Zt27YNb0AlSZIkSZJsQJIkSZIk6WtA27Zt27YNbEAAAAAAAIBqQLdt27Ztm2lAbtu2bdv2Z0A=\",\"dtype\":\"float64\",\"shape\":[127]}},\"selected\":{\"id\":\"26362\"},\"selection_policy\":{\"id\":\"26361\"}},\"id\":\"25638\",\"type\":\"ColumnDataSource\"},{\"attributes\":{\"source\":{\"id\":\"25638\"}},\"id\":\"25642\",\"type\":\"CDSView\"},{\"attributes\":{\"base\":24,\"mantissas\":[1,2,4,6,8,12],\"max_interval\":43200000.0,\"min_interval\":3600000.0,\"num_minor_ticks\":0},\"id\":\"25588\",\"type\":\"AdaptiveTicker\"},{\"attributes\":{\"overlay\":{\"id\":\"25567\"}},\"id\":\"25563\",\"type\":\"BoxZoomTool\"},{\"attributes\":{\"data_source\":{\"id\":\"25638\"},\"glyph\":{\"id\":\"25639\"},\"hover_glyph\":null,\"muted_glyph\":null,\"nonselection_glyph\":{\"id\":\"25640\"},\"selection_glyph\":null,\"view\":{\"id\":\"25642\"}},\"id\":\"25641\",\"type\":\"GlyphRenderer\"},{\"attributes\":{\"fill_alpha\":{\"value\":0.1},\"fill_color\":{\"value\":\"white\"},\"line_alpha\":{\"value\":0.1},\"line_color\":{\"value\":\"blue\"},\"size\":{\"units\":\"screen\",\"value\":5},\"x\":{\"field\":\"x\"},\"y\":{\"field\":\"y\"}},\"id\":\"25602\",\"type\":\"Circle\"},{\"attributes\":{},\"id\":\"25665\",\"type\":\"UnionRenderers\"},{\"attributes\":{},\"id\":\"25565\",\"type\":\"ResetTool\"},{\"attributes\":{\"line_alpha\":0.1,\"line_color\":\"lightblue\",\"line_width\":4,\"x\":{\"field\":\"x\"},\"y\":{\"field\":\"y\"}},\"id\":\"25640\",\"type\":\"Line\"},{\"attributes\":{\"label\":{\"value\":\"SMA 7 days\"},\"renderers\":[{\"id\":\"25641\"}]},\"id\":\"25669\",\"type\":\"LegendItem\"},{\"attributes\":{\"days\":[1,4,7,10,13,16,19,22,25,28]},\"id\":\"25590\",\"type\":\"DaysTicker\"},{\"attributes\":{\"source\":{\"id\":\"25600\"}},\"id\":\"25604\",\"type\":\"CDSView\"},{\"attributes\":{},\"id\":\"25667\",\"type\":\"UnionRenderers\"},{\"attributes\":{},\"id\":\"25566\",\"type\":\"HelpTool\"},{\"attributes\":{},\"id\":\"25666\",\"type\":\"Selection\"},{\"attributes\":{\"days\":[\"%d %B\"]},\"id\":\"25675\",\"type\":\"DatetimeTickFormatter\"},{\"attributes\":{\"line_color\":\"blue\",\"line_width\":4,\"x\":{\"field\":\"x\"},\"y\":{\"field\":\"y\"}},\"id\":\"25576\",\"type\":\"Line\"},{\"attributes\":{\"fill_color\":{\"value\":\"white\"},\"line_color\":{\"value\":\"lightblue\"},\"size\":{\"units\":\"screen\",\"value\":5},\"x\":{\"field\":\"x\"},\"y\":{\"field\":\"y\"}},\"id\":\"25671\",\"type\":\"Circle\"},{\"attributes\":{},\"id\":\"25668\",\"type\":\"Selection\"},{\"attributes\":{\"fill_alpha\":{\"value\":0.1},\"fill_color\":{\"value\":\"white\"},\"line_alpha\":{\"value\":0.1},\"line_color\":{\"value\":\"lightblue\"},\"size\":{\"units\":\"screen\",\"value\":5},\"x\":{\"field\":\"x\"},\"y\":{\"field\":\"y\"}},\"id\":\"25672\",\"type\":\"Circle\"},{\"attributes\":{\"bottom_units\":\"screen\",\"fill_alpha\":0.5,\"fill_color\":\"lightgrey\",\"left_units\":\"screen\",\"level\":\"overlay\",\"line_alpha\":1.0,\"line_color\":\"black\",\"line_dash\":[4,4],\"line_width\":2,\"render_mode\":\"css\",\"right_units\":\"screen\",\"top_units\":\"screen\"},\"id\":\"25567\",\"type\":\"BoxAnnotation\"},{\"attributes\":{},\"id\":\"25562\",\"type\":\"WheelZoomTool\"},{\"attributes\":{\"mantissas\":[1,2,5],\"max_interval\":500.0,\"num_minor_ticks\":0},\"id\":\"25586\",\"type\":\"AdaptiveTicker\"},{\"attributes\":{\"data_source\":{\"id\":\"25670\"},\"glyph\":{\"id\":\"25671\"},\"hover_glyph\":null,\"muted_glyph\":null,\"nonselection_glyph\":{\"id\":\"25672\"},\"selection_glyph\":null,\"view\":{\"id\":\"25674\"}},\"id\":\"25673\",\"type\":\"GlyphRenderer\"},{\"attributes\":{\"data\":{\"x\":{\"__ndarray__\":\"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\",\"dtype\":\"float64\",\"shape\":[254]},\"y\":{\"__ndarray__\":\"AAAAAAAA+H8AAAAAAAD4fwAAAAAAAPh/AAAAAAAA+H8AAAAAAAD4fwAAAAAAAPh/t23btm0bbkAlSZIkSSJwQG7btm3bdnNAJUmSJEkCeEBJkiRJkqR8QLdt27Ztu4BAJUmSJEk6hUBJkiRJklyJQLdt27Zt249A27Zt27YRkUAAAAAAAOyUQLdt27ZtH5lAJUmSJEkSnUAAAAAAAAyhQLdt27ZtY6NA27Zt27b9pEAAAAAAANanQJIkSZIk86lAJUmSJEnurEC3bdu2bWKwQEmSJEmSF7JAAAAAAAAxs0AlSZIkSQ+0QLdt27ZtBbVA27Zt27aUtUC3bdu2bQu2QEmSJEmSB7ZAJUmSJEm0tUAlSZIkSYO1QNu2bdu2GbVAbtu2bdtutEDbtm3btjG0QEmSJEmSXbNAJUmSJEmZskAlSZIkSfKxQEmSJEmScbFAkiRJkiQxsUAlSZIkSaCwQJIkSZIkGbBA27Zt27atr0BJkiRJkviuQG7btm3b2K5Abtu2bduYrkC3bdu2bRmuQCVJkiRJBq5AJUmSJEm4rEBu27Zt20CsQAAAAAAAvqtAJUmSJElmqkDbtm3btjupQLdt27ZtO6hAAAAAAAD2p0Bu27Zt276oQJIkSZIkeadAJUmSJEnypkAlSZIkSa6lQNu2bdu236RAAAAAAABMpEDbtm3btpWjQG7btm3bJqJA27Zt27ZJoUAAAAAAABygQG7btm3bMp9ASZIkSZIcnUBJkiRJkvSbQAAAAAAAsJlAkiRJkiRBmEAAAAAAADSXQLdt27Ztx5VASZIkSZL0k0CSJEmSJKWSQEmSJEmSlJFAt23btm1PkkDbtm3bthGRQAAAAAAAKJBAkiRJkiTpjUC3bdu2bfuMQCVJkiRJaoxAt23btm0bi0AlSZIkSXqIQLdt27Zte4dAt23btm3rhUBu27Zt206FQLdt27ZtY4RAbtu2bdu+g0AlSZIkSRKDQG7btm3bNoFAJUmSJEnagEAlSZIkSaKAQG7btm3bBoBAt23btm3LfUCSJEmSJDl8QCVJkiRJIntA27Zt27ZtekBJkiRJkhR4QNu2bdu2XXRAJUmSJElidEBJkiRJkhRzQLdt27Ztq3FASZIkSZKUckBJkiRJkkRyQEmSJEmSNHFAJUmSJEkCc0Dbtm3btq1vQEmSJEmShHBAbtu2bdvGcUC3bdu2bftxQEmSJEmSVHFAbtu2bdt2ckDbtm3btg1yQG7btm3b1nJAbtu2bdsWckAlSZIkSRJxQAAAAAAAUHBA27Zt27YNb0AlSZIkSZJsQJIkSZIk6WtA27Zt27YNbEAAAAAAAIBqQLdt27Ztm2lAbtu2bdv2Z0A=\",\"dtype\":\"float64\",\"shape\":[127]}},\"selected\":{\"id\":\"26364\"},\"selection_policy\":{\"id\":\"26363\"}},\"id\":\"25670\",\"type\":\"ColumnDataSource\"},{\"attributes\":{\"callback\":null,\"formatters\":{\"@x\":\"datetime\"},\"mode\":\"vline\",\"tooltips\":[[\"date\",\"@x{%d %B}\"],[\"new positive/fitting/SMA 7\",\"@y{0[.]000}\"]]},\"id\":\"25679\",\"type\":\"HoverTool\"},{\"attributes\":{\"data_source\":{\"id\":\"25600\"},\"glyph\":{\"id\":\"25601\"},\"hover_glyph\":null,\"muted_glyph\":null,\"nonselection_glyph\":{\"id\":\"25602\"},\"selection_glyph\":null,\"view\":{\"id\":\"25604\"}},\"id\":\"25603\",\"type\":\"GlyphRenderer\"},{\"attributes\":{},\"id\":\"25597\",\"type\":\"YearsTicker\"}],\"root_ids\":[\"25542\"]},\"title\":\"Bokeh Application\",\"version\":\"2.0.2\"}};\n",
       "  var render_items = [{\"docid\":\"9163194f-e495-4e67-bf9d-ae7188092199\",\"root_ids\":[\"25542\"],\"roots\":{\"25542\":\"076d9133-c1db-4165-b9f7-09690ef796ff\"}}];\n",
       "  root.Bokeh.embed.embed_items_notebook(docs_json, render_items);\n",
       "\n",
       "  }\n",
       "  if (root.Bokeh !== undefined) {\n",
       "    embed_document(root);\n",
       "  } else {\n",
       "    var attempts = 0;\n",
       "    var timer = setInterval(function(root) {\n",
       "      if (root.Bokeh !== undefined) {\n",
       "        clearInterval(timer);\n",
       "        embed_document(root);\n",
       "      } else {\n",
       "        attempts++;\n",
       "        if (attempts > 100) {\n",
       "          clearInterval(timer);\n",
       "          console.log(\"Bokeh: ERROR: Unable to run BokehJS code because BokehJS library is missing\");\n",
       "        }\n",
       "      }\n",
       "    }, 10, root)\n",
       "  }\n",
       "})(window);"
      ],
      "application/vnd.bokehjs_exec.v0+json": ""
     },
     "metadata": {
      "application/vnd.bokehjs_exec.v0+json": {
       "id": "25542"
      }
     },
     "output_type": "display_data"
    }
   ],
   "source": [
    "pfit_3_new_positive_Italy = bokeh_plot_N_lines(x=time_date_new_extended, y_list=[nuovi_positivi_italy.loc[0:(fit_range_5-1)],ydata_5[0:fit_range_6],SMA_new_positive['nuovi_positivi']], \n",
    "                  title='Gamma Distribution Fitting New Positive Extended: Italy', \n",
    "                  dim=[600, 450],\n",
    "                  x_label='Date', \n",
    "                  y_label='New Positive', legend_list=['new positive','Gamma fitting','SMA 7 days'],\n",
    "                  x_label_hover='date', y_label_hover='new positive/fitting/SMA 7',\n",
    "                  color_list=['blue','red','lightblue'],legend_location=\"top_right\", y_minmax=None)\n",
    "\n",
    "output_file(\"fit_3_new_positive_Italy.html\")\n",
    "\n",
    "show(pfit_3_new_positive_Italy)"
   ]
  },
  {
   "cell_type": "markdown",
   "metadata": {},
   "source": [
    "-----------------"
   ]
  },
  {
   "cell_type": "markdown",
   "metadata": {},
   "source": [
    "------------"
   ]
  },
  {
   "cell_type": "code",
   "execution_count": 113,
   "metadata": {},
   "outputs": [
    {
     "name": "stderr",
     "output_type": "stream",
     "text": [
      "/Users/Angelo/opt/anaconda3/lib/python3.7/site-packages/ipykernel_launcher.py:12: RuntimeWarning: overflow encountered in double_scalars\n",
      "  if sys.path[0] == '':\n",
      "/Users/Angelo/opt/anaconda3/lib/python3.7/site-packages/ipykernel_launcher.py:12: RuntimeWarning: overflow encountered in power\n",
      "  if sys.path[0] == '':\n",
      "/Users/Angelo/opt/anaconda3/lib/python3.7/site-packages/ipykernel_launcher.py:12: RuntimeWarning: invalid value encountered in multiply\n",
      "  if sys.path[0] == '':\n",
      "/Users/Angelo/opt/anaconda3/lib/python3.7/site-packages/ipykernel_launcher.py:12: RuntimeWarning: invalid value encountered in true_divide\n",
      "  if sys.path[0] == '':\n"
     ]
    },
    {
     "data": {
      "text/plain": [
       "(4.3085901349622935, -0.11245909527836612, 34026.981292279954)"
      ]
     },
     "execution_count": 113,
     "metadata": {},
     "output_type": "execute_result"
    }
   ],
   "source": [
    "fit_range_7 = len(nuovi_deceduti)   \n",
    "xdata_8 = np.linspace(1, fit_range_7, fit_range_7)\n",
    "# init_guess = [1,0.15,20000]\n",
    "fit = curve_fit(model_Gamma_distribution, xdata_8, nuovi_deceduti[0:(fit_range_7)])\n",
    "ans, cov = fit\n",
    "fit_alpha, fit_beta, fit_Kmax = ans\n",
    "fit_alpha, fit_beta, fit_Kmax"
   ]
  },
  {
   "cell_type": "code",
   "execution_count": 114,
   "metadata": {},
   "outputs": [
    {
     "data": {
      "text/plain": [
       "array([[ 5.00852146e-02, -1.17159601e-03, -8.40829611e+01],\n",
       "       [-1.17159601e-03,  2.88775958e-05,  2.18956271e+00],\n",
       "       [-8.40829611e+01,  2.18956271e+00,  4.98629866e+05]])"
      ]
     },
     "execution_count": 114,
     "metadata": {},
     "output_type": "execute_result"
    }
   ],
   "source": [
    "cov"
   ]
  },
  {
   "cell_type": "code",
   "execution_count": 115,
   "metadata": {},
   "outputs": [
    {
     "data": {
      "text/plain": [
       "array([2.23797262e-01, 5.37378785e-03, 7.06137285e+02])"
      ]
     },
     "execution_count": 115,
     "metadata": {},
     "output_type": "execute_result"
    }
   ],
   "source": [
    "np.sqrt(np.diag(cov))"
   ]
  },
  {
   "cell_type": "code",
   "execution_count": 116,
   "metadata": {},
   "outputs": [
    {
     "data": {
      "text/plain": [
       "array([7.22048615e-03, 1.27861838e-01, 6.55549728e-01, 2.02336897e+00,\n",
       "       4.72911905e+00, 9.27042016e+00, 1.60955318e+01, 2.55698686e+01,\n",
       "       3.79562576e+01, 5.34063987e+01, 7.19609759e+01, 9.35560980e+01,\n",
       "       1.18034076e+02, 1.45156888e+02, 1.74621025e+02, 2.06072695e+02,\n",
       "       2.39122637e+02, 2.73360006e+02, 3.08364964e+02, 3.43719775e+02,\n",
       "       3.79018282e+02, 4.13873771e+02, 4.47925246e+02, 4.80842222e+02,\n",
       "       5.12328153e+02, 5.42122628e+02, 5.70002494e+02, 5.95782051e+02,\n",
       "       6.19312463e+02, 6.40480534e+02, 6.59206962e+02, 6.75444217e+02,\n",
       "       6.89174113e+02, 7.00405204e+02, 7.09170056e+02, 7.15522481e+02,\n",
       "       7.19534786e+02, 7.21295084e+02, 7.20904701e+02, 7.18475722e+02,\n",
       "       7.14128678e+02, 7.07990407e+02, 7.00192095e+02, 6.90867486e+02,\n",
       "       6.80151294e+02, 6.68177776e+02, 6.55079497e+02, 6.40986255e+02,\n",
       "       6.26024167e+02, 6.10314908e+02, 5.93975086e+02, 5.77115750e+02,\n",
       "       5.59842012e+02, 5.42252775e+02, 5.24440558e+02, 5.06491403e+02,\n",
       "       4.88484860e+02, 4.70494032e+02, 4.52585676e+02, 4.34820357e+02,\n",
       "       4.17252630e+02, 3.99931263e+02, 3.82899483e+02, 3.66195238e+02,\n",
       "       3.49851479e+02, 3.33896446e+02, 3.18353964e+02, 3.03243737e+02,\n",
       "       2.88581645e+02, 2.74380031e+02, 2.60647991e+02, 2.47391646e+02,\n",
       "       2.34614412e+02, 2.22317258e+02, 2.10498947e+02, 1.99156273e+02,\n",
       "       1.88284281e+02, 1.77876474e+02, 1.67925006e+02, 1.58420867e+02,\n",
       "       1.49354050e+02, 1.40713705e+02, 1.32488287e+02, 1.24665687e+02,\n",
       "       1.17233348e+02, 1.10178384e+02, 1.03487670e+02, 9.71479376e+01,\n",
       "       9.11458530e+01, 8.54680892e+01, 8.01013895e+01, 7.50326229e+01,\n",
       "       7.02488334e+01, 6.57372821e+01, 6.14854832e+01, 5.74812349e+01,\n",
       "       5.37126451e+01, 5.01681524e+01, 4.68365426e+01, 4.37069622e+01,\n",
       "       4.07689274e+01, 3.80123315e+01, 3.54274479e+01, 3.30049319e+01,\n",
       "       3.07358200e+01, 2.86115270e+01, 2.66238419e+01, 2.47649223e+01,\n",
       "       2.30272874e+01, 2.14038102e+01, 1.98877088e+01, 1.84725366e+01,\n",
       "       1.71521727e+01, 1.59208115e+01, 1.47729514e+01, 1.37033846e+01,\n",
       "       1.27071851e+01, 1.17796983e+01, 1.09165294e+01, 1.01135323e+01,\n",
       "       9.36679891e+00, 8.67264794e+00, 8.02761460e+00, 7.42844008e+00,\n",
       "       6.87206146e+00, 6.35560188e+00, 5.87636100e+00])"
      ]
     },
     "execution_count": 116,
     "metadata": {},
     "output_type": "execute_result"
    }
   ],
   "source": [
    "ydata_8 = model_Gamma_distribution(xdata_8,fit_alpha,fit_beta,fit_Kmax)\n",
    "ydata_8"
   ]
  },
  {
   "cell_type": "code",
   "execution_count": 117,
   "metadata": {},
   "outputs": [
    {
     "data": {
      "text/html": [
       "\n",
       "\n",
       "\n",
       "\n",
       "\n",
       "\n",
       "  <div class=\"bk-root\" id=\"fdced1cb-f79b-4d24-9014-52763977976c\" data-root-id=\"26898\"></div>\n"
      ]
     },
     "metadata": {},
     "output_type": "display_data"
    },
    {
     "data": {
      "application/javascript": [
       "(function(root) {\n",
       "  function embed_document(root) {\n",
       "    \n",
       "  var docs_json = {\"2d3b9e0e-19bf-4137-a08d-1349fff67a2f\":{\"roots\":{\"references\":[{\"attributes\":{\"below\":[{\"id\":\"26909\"}],\"center\":[{\"id\":\"26912\"},{\"id\":\"26916\"},{\"id\":\"26954\"}],\"left\":[{\"id\":\"26913\"}],\"plot_height\":450,\"renderers\":[{\"id\":\"26934\"},{\"id\":\"26959\"},{\"id\":\"26964\"},{\"id\":\"26992\"}],\"title\":{\"id\":\"26899\"},\"toolbar\":{\"id\":\"26924\"},\"x_range\":{\"id\":\"26901\"},\"x_scale\":{\"id\":\"26905\"},\"y_range\":{\"id\":\"26903\"},\"y_scale\":{\"id\":\"26907\"}},\"id\":\"26898\",\"subtype\":\"Figure\",\"type\":\"Plot\"},{\"attributes\":{},\"id\":\"26917\",\"type\":\"PanTool\"},{\"attributes\":{},\"id\":\"26984\",\"type\":\"UnionRenderers\"},{\"attributes\":{\"text\":\"Gamma Distribution Fitting New Deaths: Italy\"},\"id\":\"26899\",\"type\":\"Title\"},{\"attributes\":{},\"id\":\"26918\",\"type\":\"WheelZoomTool\"},{\"attributes\":{},\"id\":\"26986\",\"type\":\"UnionRenderers\"},{\"attributes\":{},\"id\":\"26987\",\"type\":\"Selection\"},{\"attributes\":{},\"id\":\"26901\",\"type\":\"DataRange1d\"},{\"attributes\":{\"overlay\":{\"id\":\"26923\"}},\"id\":\"26919\",\"type\":\"BoxZoomTool\"},{\"attributes\":{\"data_source\":{\"id\":\"26956\"},\"glyph\":{\"id\":\"26957\"},\"hover_glyph\":null,\"muted_glyph\":null,\"nonselection_glyph\":{\"id\":\"26958\"},\"selection_glyph\":null,\"view\":{\"id\":\"26960\"}},\"id\":\"26959\",\"type\":\"GlyphRenderer\"},{\"attributes\":{},\"id\":\"26920\",\"type\":\"SaveTool\"},{\"attributes\":{},\"id\":\"26905\",\"type\":\"LinearScale\"},{\"attributes\":{\"months\":[0,1,2,3,4,5,6,7,8,9,10,11]},\"id\":\"26949\",\"type\":\"MonthsTicker\"},{\"attributes\":{},\"id\":\"27707\",\"type\":\"UnionRenderers\"},{\"attributes\":{\"items\":[{\"id\":\"26955\"},{\"id\":\"26988\"}],\"location\":\"top_left\"},\"id\":\"26954\",\"type\":\"Legend\"},{\"attributes\":{},\"id\":\"26921\",\"type\":\"ResetTool\"},{\"attributes\":{\"source\":{\"id\":\"26989\"}},\"id\":\"26993\",\"type\":\"CDSView\"},{\"attributes\":{\"callback\":null,\"formatters\":{\"@x\":\"datetime\"},\"mode\":\"vline\",\"tooltips\":[[\"date\",\"@x{%d %B}\"],[\"new deaths OR fitting\",\"@y{0.}\"]]},\"id\":\"26999\",\"type\":\"HoverTool\"},{\"attributes\":{\"line_alpha\":0.1,\"line_color\":\"red\",\"line_width\":4,\"x\":{\"field\":\"x\"},\"y\":{\"field\":\"y\"}},\"id\":\"26963\",\"type\":\"Line\"},{\"attributes\":{\"data\":{\"x\":{\"__ndarray__\":\"AAAA5UcHd0IAAMBKmgd3QgAAgLDsB3dCAABAFj8Id0IAAAB8kQh3QgAAwOHjCHdCAACARzYJd0IAAECtiAl3QgAAABPbCXdCAADAeC0Kd0IAAIDefwp3QgAAQETSCndCAAAAqiQLd0IAAMAPdwt3QgAAgHXJC3dCAABA2xsMd0IAAABBbgx3QgAAwKbADHdCAACADBMNd0IAAEByZQ13QgAAANi3DXdCAADAPQoOd0IAAICjXA53QgAAQAmvDndCAAAAbwEPd0IAAMDUUw93QgAAgDqmD3dCAABAoPgPd0IAAAAGSxB3QgAAwGudEHdCAACA0e8Qd0IAAEA3QhF3QgAAAJ2UEXdCAADAAucRd0IAAIBoORJ3QgAAQM6LEndCAAAANN4Sd0IAAMCZMBN3QgAAgP+CE3dCAABAZdUTd0IAAADLJxR3QgAAwDB6FHdCAACAlswUd0IAAED8HhV3QgAAAGJxFXdCAADAx8MVd0IAAIAtFhZ3QgAAQJNoFndCAAAA+boWd0IAAMBeDRd3QgAAgMRfF3dCAABAKrIXd0IAAACQBBh3QgAAwPVWGHdCAACAW6kYd0IAAEDB+xh3QgAAACdOGXdCAADAjKAZd0IAAIDy8hl3QgAAQFhFGndCAAAAvpcad0IAAMAj6hp3QgAAgIk8G3dCAABA744bd0IAAABV4Rt3QgAAwLozHHdCAACAIIYcd0IAAECG2Bx3QgAAAOwqHXdCAADAUX0dd0IAAIC3zx13QgAAQB0iHndCAAAAg3Qed0IAAMDoxh53QgAAgE4ZH3dCAABAtGsfd0IAAAAavh93QgAAwH8QIHdCAACA5WIgd0IAAEBLtSB3QgAAALEHIXdCAADAFlohd0IAAIB8rCF3QgAAQOL+IXdCAAAASFEid0IAAMCtoyJ3QgAAgBP2IndCAABAeUgjd0IAAADfmiN3QgAAwETtI3dCAACAqj8kd0IAAEAQkiR3QgAAAHbkJHdCAADA2zYld0IAAIBBiSV3QgAAQKfbJXdCAAAADS4md0IAAMBygCZ3QgAAgNjSJndCAABAPiUnd0IAAACkdyd3QgAAwAnKJ3dCAACAbxwod0IAAEDVbih3QgAAADvBKHdCAADAoBMpd0IAAIAGZil3QgAAQGy4KXdCAAAA0goqd0IAAMA3XSp3QgAAgJ2vKndCAABAAwIrd0IAAABpVCt3QgAAwM6mK3dCAACANPkrd0IAAECaSyx3QgAAAACeLHdCAADAZfAsd0IAAIDLQi13QgAAQDGVLXdCAAAAl+ctd0IAAMD8OS53QgAAgGKMLndCAABAyN4ud0IAAAAuMS93QgAAwJODL3dCAACA+dUvd0I=\",\"dtype\":\"float64\",\"shape\":[127]},\"y\":{\"__ndarray__\":\"g8c4fjqTfT+wSUTXxl3AP7rhd2xD+uQ/ERrnEdwvAEAuC/MunuoSQLYovYJ0iiJA76nCxXQYMECJ1xrp4pE5QE1BdqZm+kJAifCI3wS0SkBR6uWggP1RQCIPOhyXY1dA0yJITC6CXUAz79c5BSViQOOChW/f02VAhLPug1PCaUAn5HCk7ONtQPKZUZXCFXFArvd75NZFc0CKzEYyhHt1QBgw+uFKsHdA3j9I9/rdeUAwxK7Ozf57QEPDLL55DX5AQQ7FDqACgEA9XEgk+/CAQKb3exsF0IFA46HXo0GegkBXLcvsf1qDQDYzCyLYA4RAA/Pg26eZhEBO2I7BjRuFQKWWZpVkiYVAE/GT2z3jhUBk9xpGXCmGQNy5RAouXIZA0i/QPUd8hkCN88lUXIqGQPMA+NM8h4ZAhuxTR85zhkDRTx6IB1GGQMkUplrsH4ZAPeznaInhhUD52qWc8JaFQOiUe9k1QYVAyeK4FWzhhEAP6WXPoniEQMREvNnjB4RAulaKfjGQg0Dg8lruhBKDQAHL0vnMj4JAfL52Du0IgkDJz/NwvH6BQLulBK8F8oBAqpwrQ4ZjgEAMNU3J3Kd/QC2PffzBh35AAn68jednfUB4EEvuXkl8QCn1Hi8gLXtAIYMTxgoUekB/W4F05v54QEGGaUhk7ndAc5cMsh/jdkC8QGyon911QEsz1NdX3nRApUcd1qnlc0BlwOpY5vNyQP2wpGpOCXJAAt9rmxQmcUD9z7IrXkpwQDl/Gl2I7G5AhGJGRKlTbUAbGQ/6JsprQMZH+F73T2pA9zrdLwDlaEB0AGfUGIlnQMtHbhIMPGZAAwkQppn9ZEAOCIe+d81jQH4LHGBUq2JA8A20q9aWYUAN1a8MoI9gQAE96JuaKl9AlMkbLu9OXUCz4PekaotbQJyPbfw131lAQqw1z3dJWECv5r2nVclWQH4BiCz1XVVAChlTKn0GVECf5l9+FsJSQLRbFePsj1FARp07oS9vUEDXEOJPJL5OQIlP0BqZvUxAydzN9DfbSkAVUM8EhhVJQGSPRtQTa0dAO+pmvH3aRUBTgsI2bGJEQBoOOBSUAUNAkt71nLa2QUC48iWcoYBAQPQtTrNevD5AhacRCI2cPECa8KYZtJ86QLgC9vHRwzhAsyNmTvwGN0D7fmcbYGc1QOFAteFA4zNAt6fiJ/h4MkDzVYXK9CYxQCxvJpp01y9A8NSkSsCLLUAdZgsGImgrQIDtnyoUailAy685njSPJ0A6dGdXQ9UlQEf76eggOiRANvI9Ec27IkCi6rFPZVghQBICTIAjDiBAGrse/7i2HUAVHAau/XwbQIITZOYibBlAapVsx2SBF0A=\",\"dtype\":\"float64\",\"shape\":[127]}},\"selected\":{\"id\":\"27706\"},\"selection_policy\":{\"id\":\"27705\"}},\"id\":\"26961\",\"type\":\"ColumnDataSource\"},{\"attributes\":{},\"id\":\"27708\",\"type\":\"Selection\"},{\"attributes\":{},\"id\":\"26903\",\"type\":\"DataRange1d\"},{\"attributes\":{},\"id\":\"26922\",\"type\":\"HelpTool\"},{\"attributes\":{\"data\":{\"x\":{\"__ndarray__\":\"AAAA5UcHd0IAAMBKmgd3QgAAgLDsB3dCAABAFj8Id0IAAAB8kQh3QgAAwOHjCHdCAACARzYJd0IAAECtiAl3QgAAABPbCXdCAADAeC0Kd0IAAIDefwp3QgAAQETSCndCAAAAqiQLd0IAAMAPdwt3QgAAgHXJC3dCAABA2xsMd0IAAABBbgx3QgAAwKbADHdCAACADBMNd0IAAEByZQ13QgAAANi3DXdCAADAPQoOd0IAAICjXA53QgAAQAmvDndCAAAAbwEPd0IAAMDUUw93QgAAgDqmD3dCAABAoPgPd0IAAAAGSxB3QgAAwGudEHdCAACA0e8Qd0IAAEA3QhF3QgAAAJ2UEXdCAADAAucRd0IAAIBoORJ3QgAAQM6LEndCAAAANN4Sd0IAAMCZMBN3QgAAgP+CE3dCAABAZdUTd0IAAADLJxR3QgAAwDB6FHdCAACAlswUd0IAAED8HhV3QgAAAGJxFXdCAADAx8MVd0IAAIAtFhZ3QgAAQJNoFndCAAAA+boWd0IAAMBeDRd3QgAAgMRfF3dCAABAKrIXd0IAAACQBBh3QgAAwPVWGHdCAACAW6kYd0IAAEDB+xh3QgAAACdOGXdCAADAjKAZd0IAAIDy8hl3QgAAQFhFGndCAAAAvpcad0IAAMAj6hp3QgAAgIk8G3dCAABA744bd0IAAABV4Rt3QgAAwLozHHdCAACAIIYcd0IAAECG2Bx3QgAAAOwqHXdCAADAUX0dd0IAAIC3zx13QgAAQB0iHndCAAAAg3Qed0IAAMDoxh53QgAAgE4ZH3dCAABAtGsfd0IAAAAavh93QgAAwH8QIHdCAACA5WIgd0IAAEBLtSB3QgAAALEHIXdCAADAFlohd0IAAIB8rCF3QgAAQOL+IXdCAAAASFEid0IAAMCtoyJ3QgAAgBP2IndCAABAeUgjd0IAAADfmiN3QgAAwETtI3dCAACAqj8kd0IAAEAQkiR3QgAAAHbkJHdCAADA2zYld0IAAIBBiSV3QgAAQKfbJXdCAAAADS4md0IAAMBygCZ3QgAAgNjSJndCAABAPiUnd0IAAACkdyd3QgAAwAnKJ3dCAACAbxwod0IAAEDVbih3QgAAADvBKHdCAADAoBMpd0IAAIAGZil3QgAAQGy4KXdCAAAA0goqd0IAAMA3XSp3QgAAgJ2vKndCAABAAwIrd0IAAABpVCt3QgAAwM6mK3dCAACANPkrd0IAAECaSyx3QgAAAACeLHdCAADAZfAsd0IAAIDLQi13QgAAQDGVLXdCAAAAl+ctd0IAAMD8OS53QgAAgGKMLndCAABAyN4ud0IAAAAuMS93QgAAwJODL3dCAACA+dUvd0I=\",\"dtype\":\"float64\",\"shape\":[127]},\"y\":[0,3,2,5,4,8,5,18,27,28,41,49,36,133,97,168,196,189,250,175,368,349,345,475,427,627,793,651,601,743,683,662,969,889,756,812,837,727,760,766,681,525,636,604,542,610,570,619,431,566,602,578,525,575,482,433,454,534,437,464,420,415,260,333,382,323,285,269,474,174,195,236,369,274,243,194,165,179,172,195,262,242,153,145,99,162,161,156,130,119,50,92,78,117,70,87,111,75,60,55,71,88,85,72,53,65,79,71,53,56,78,44,26,34,43,66,47,49,24,23,18,-31,34,30,8,22,6]},\"selected\":{\"id\":\"26987\"},\"selection_policy\":{\"id\":\"26986\"}},\"id\":\"26956\",\"type\":\"ColumnDataSource\"},{\"attributes\":{\"label\":{\"value\":\"Gamma fitting\"},\"renderers\":[{\"id\":\"26964\"}]},\"id\":\"26988\",\"type\":\"LegendItem\"},{\"attributes\":{},\"id\":\"26907\",\"type\":\"LinearScale\"},{\"attributes\":{\"data\":{\"x\":{\"__ndarray__\":\"AAAA5UcHd0IAAMBKmgd3QgAAgLDsB3dCAABAFj8Id0IAAAB8kQh3QgAAwOHjCHdCAACARzYJd0IAAECtiAl3QgAAABPbCXdCAADAeC0Kd0IAAIDefwp3QgAAQETSCndCAAAAqiQLd0IAAMAPdwt3QgAAgHXJC3dCAABA2xsMd0IAAABBbgx3QgAAwKbADHdCAACADBMNd0IAAEByZQ13QgAAANi3DXdCAADAPQoOd0IAAICjXA53QgAAQAmvDndCAAAAbwEPd0IAAMDUUw93QgAAgDqmD3dCAABAoPgPd0IAAAAGSxB3QgAAwGudEHdCAACA0e8Qd0IAAEA3QhF3QgAAAJ2UEXdCAADAAucRd0IAAIBoORJ3QgAAQM6LEndCAAAANN4Sd0IAAMCZMBN3QgAAgP+CE3dCAABAZdUTd0IAAADLJxR3QgAAwDB6FHdCAACAlswUd0IAAED8HhV3QgAAAGJxFXdCAADAx8MVd0IAAIAtFhZ3QgAAQJNoFndCAAAA+boWd0IAAMBeDRd3QgAAgMRfF3dCAABAKrIXd0IAAACQBBh3QgAAwPVWGHdCAACAW6kYd0IAAEDB+xh3QgAAACdOGXdCAADAjKAZd0IAAIDy8hl3QgAAQFhFGndCAAAAvpcad0IAAMAj6hp3QgAAgIk8G3dCAABA744bd0IAAABV4Rt3QgAAwLozHHdCAACAIIYcd0IAAECG2Bx3QgAAAOwqHXdCAADAUX0dd0IAAIC3zx13QgAAQB0iHndCAAAAg3Qed0IAAMDoxh53QgAAgE4ZH3dCAABAtGsfd0IAAAAavh93QgAAwH8QIHdCAACA5WIgd0IAAEBLtSB3QgAAALEHIXdCAADAFlohd0IAAIB8rCF3QgAAQOL+IXdCAAAASFEid0IAAMCtoyJ3QgAAgBP2IndCAABAeUgjd0IAAADfmiN3QgAAwETtI3dCAACAqj8kd0IAAEAQkiR3QgAAAHbkJHdCAADA2zYld0IAAIBBiSV3QgAAQKfbJXdCAAAADS4md0IAAMBygCZ3QgAAgNjSJndCAABAPiUnd0IAAACkdyd3QgAAwAnKJ3dCAACAbxwod0IAAEDVbih3QgAAADvBKHdCAADAoBMpd0IAAIAGZil3QgAAQGy4KXdCAAAA0goqd0IAAMA3XSp3QgAAgJ2vKndCAABAAwIrd0IAAABpVCt3QgAAwM6mK3dCAACANPkrd0IAAECaSyx3QgAAAACeLHdCAADAZfAsd0IAAIDLQi13QgAAQDGVLXdCAAAAl+ctd0IAAMD8OS53QgAAgGKMLndCAABAyN4ud0IAAAAuMS93QgAAwJODL3dCAACA+dUvd0I=\",\"dtype\":\"float64\",\"shape\":[127]},\"y\":{\"__ndarray__\":\"g8c4fjqTfT+wSUTXxl3AP7rhd2xD+uQ/ERrnEdwvAEAuC/MunuoSQLYovYJ0iiJA76nCxXQYMECJ1xrp4pE5QE1BdqZm+kJAifCI3wS0SkBR6uWggP1RQCIPOhyXY1dA0yJITC6CXUAz79c5BSViQOOChW/f02VAhLPug1PCaUAn5HCk7ONtQPKZUZXCFXFArvd75NZFc0CKzEYyhHt1QBgw+uFKsHdA3j9I9/rdeUAwxK7Ozf57QEPDLL55DX5AQQ7FDqACgEA9XEgk+/CAQKb3exsF0IFA46HXo0GegkBXLcvsf1qDQDYzCyLYA4RAA/Pg26eZhEBO2I7BjRuFQKWWZpVkiYVAE/GT2z3jhUBk9xpGXCmGQNy5RAouXIZA0i/QPUd8hkCN88lUXIqGQPMA+NM8h4ZAhuxTR85zhkDRTx6IB1GGQMkUplrsH4ZAPeznaInhhUD52qWc8JaFQOiUe9k1QYVAyeK4FWzhhEAP6WXPoniEQMREvNnjB4RAulaKfjGQg0Dg8lruhBKDQAHL0vnMj4JAfL52Du0IgkDJz/NwvH6BQLulBK8F8oBAqpwrQ4ZjgEAMNU3J3Kd/QC2PffzBh35AAn68jednfUB4EEvuXkl8QCn1Hi8gLXtAIYMTxgoUekB/W4F05v54QEGGaUhk7ndAc5cMsh/jdkC8QGyon911QEsz1NdX3nRApUcd1qnlc0BlwOpY5vNyQP2wpGpOCXJAAt9rmxQmcUD9z7IrXkpwQDl/Gl2I7G5AhGJGRKlTbUAbGQ/6JsprQMZH+F73T2pA9zrdLwDlaEB0AGfUGIlnQMtHbhIMPGZAAwkQppn9ZEAOCIe+d81jQH4LHGBUq2JA8A20q9aWYUAN1a8MoI9gQAE96JuaKl9AlMkbLu9OXUCz4PekaotbQJyPbfw131lAQqw1z3dJWECv5r2nVclWQH4BiCz1XVVAChlTKn0GVECf5l9+FsJSQLRbFePsj1FARp07oS9vUEDXEOJPJL5OQIlP0BqZvUxAydzN9DfbSkAVUM8EhhVJQGSPRtQTa0dAO+pmvH3aRUBTgsI2bGJEQBoOOBSUAUNAkt71nLa2QUC48iWcoYBAQPQtTrNevD5AhacRCI2cPECa8KYZtJ86QLgC9vHRwzhAsyNmTvwGN0D7fmcbYGc1QOFAteFA4zNAt6fiJ/h4MkDzVYXK9CYxQCxvJpp01y9A8NSkSsCLLUAdZgsGImgrQIDtnyoUailAy685njSPJ0A6dGdXQ9UlQEf76eggOiRANvI9Ec27IkCi6rFPZVghQBICTIAjDiBAGrse/7i2HUAVHAau/XwbQIITZOYibBlAapVsx2SBF0A=\",\"dtype\":\"float64\",\"shape\":[127]}},\"selected\":{\"id\":\"27708\"},\"selection_policy\":{\"id\":\"27707\"}},\"id\":\"26989\",\"type\":\"ColumnDataSource\"},{\"attributes\":{},\"id\":\"26953\",\"type\":\"YearsTicker\"},{\"attributes\":{\"fill_color\":{\"value\":\"white\"},\"line_color\":{\"value\":\"red\"},\"size\":{\"units\":\"screen\",\"value\":6},\"x\":{\"field\":\"x\"},\"y\":{\"field\":\"y\"}},\"id\":\"26990\",\"type\":\"Circle\"},{\"attributes\":{\"days\":[1,2,3,4,5,6,7,8,9,10,11,12,13,14,15,16,17,18,19,20,21,22,23,24,25,26,27,28,29,30,31]},\"id\":\"26945\",\"type\":\"DaysTicker\"},{\"attributes\":{},\"id\":\"27705\",\"type\":\"UnionRenderers\"},{\"attributes\":{\"axis_label\":\"Date\",\"formatter\":{\"id\":\"26994\"},\"major_label_orientation\":0.7853981633974483,\"minor_tick_in\":-5,\"minor_tick_out\":-3,\"ticker\":{\"id\":\"26910\"}},\"id\":\"26909\",\"type\":\"DatetimeAxis\"},{\"attributes\":{\"days\":[\"%d %B\"]},\"id\":\"26994\",\"type\":\"DatetimeTickFormatter\"},{\"attributes\":{\"days\":[1,8,15,22]},\"id\":\"26947\",\"type\":\"DaysTicker\"},{\"attributes\":{},\"id\":\"27706\",\"type\":\"Selection\"},{\"attributes\":{},\"id\":\"26914\",\"type\":\"BasicTicker\"},{\"attributes\":{},\"id\":\"26985\",\"type\":\"Selection\"},{\"attributes\":{\"num_minor_ticks\":5,\"tickers\":[{\"id\":\"26942\"},{\"id\":\"26943\"},{\"id\":\"26944\"},{\"id\":\"26945\"},{\"id\":\"26946\"},{\"id\":\"26947\"},{\"id\":\"26948\"},{\"id\":\"26949\"},{\"id\":\"26950\"},{\"id\":\"26951\"},{\"id\":\"26952\"},{\"id\":\"26953\"}]},\"id\":\"26910\",\"type\":\"DatetimeTicker\"},{\"attributes\":{\"fill_color\":{\"value\":\"white\"},\"line_color\":{\"value\":\"darkviolet\"},\"size\":{\"units\":\"screen\",\"value\":6},\"x\":{\"field\":\"x\"},\"y\":{\"field\":\"y\"}},\"id\":\"26957\",\"type\":\"Circle\"},{\"attributes\":{\"days\":[1,4,7,10,13,16,19,22,25,28]},\"id\":\"26946\",\"type\":\"DaysTicker\"},{\"attributes\":{\"axis\":{\"id\":\"26909\"},\"ticker\":null},\"id\":\"26912\",\"type\":\"Grid\"},{\"attributes\":{\"data_source\":{\"id\":\"26989\"},\"glyph\":{\"id\":\"26990\"},\"hover_glyph\":null,\"muted_glyph\":null,\"nonselection_glyph\":{\"id\":\"26991\"},\"selection_glyph\":null,\"view\":{\"id\":\"26993\"}},\"id\":\"26992\",\"type\":\"GlyphRenderer\"},{\"attributes\":{\"source\":{\"id\":\"26961\"}},\"id\":\"26965\",\"type\":\"CDSView\"},{\"attributes\":{\"base\":24,\"mantissas\":[1,2,4,6,8,12],\"max_interval\":43200000.0,\"min_interval\":3600000.0,\"num_minor_ticks\":0},\"id\":\"26944\",\"type\":\"AdaptiveTicker\"},{\"attributes\":{\"axis\":{\"id\":\"26913\"},\"dimension\":1,\"ticker\":null},\"id\":\"26916\",\"type\":\"Grid\"},{\"attributes\":{\"label\":{\"value\":\"new deaths\"},\"renderers\":[{\"id\":\"26934\"}]},\"id\":\"26955\",\"type\":\"LegendItem\"},{\"attributes\":{\"fill_alpha\":{\"value\":0.1},\"fill_color\":{\"value\":\"white\"},\"line_alpha\":{\"value\":0.1},\"line_color\":{\"value\":\"darkviolet\"},\"size\":{\"units\":\"screen\",\"value\":6},\"x\":{\"field\":\"x\"},\"y\":{\"field\":\"y\"}},\"id\":\"26958\",\"type\":\"Circle\"},{\"attributes\":{\"months\":[0,2,4,6,8,10]},\"id\":\"26950\",\"type\":\"MonthsTicker\"},{\"attributes\":{\"axis_label\":\"New Deaths\",\"formatter\":{\"id\":\"26998\"},\"minor_tick_in\":-5,\"minor_tick_out\":-3,\"ticker\":{\"id\":\"26914\"}},\"id\":\"26913\",\"type\":\"LinearAxis\"},{\"attributes\":{\"data\":{\"x\":{\"__ndarray__\":\"AAAA5UcHd0IAAMBKmgd3QgAAgLDsB3dCAABAFj8Id0IAAAB8kQh3QgAAwOHjCHdCAACARzYJd0IAAECtiAl3QgAAABPbCXdCAADAeC0Kd0IAAIDefwp3QgAAQETSCndCAAAAqiQLd0IAAMAPdwt3QgAAgHXJC3dCAABA2xsMd0IAAABBbgx3QgAAwKbADHdCAACADBMNd0IAAEByZQ13QgAAANi3DXdCAADAPQoOd0IAAICjXA53QgAAQAmvDndCAAAAbwEPd0IAAMDUUw93QgAAgDqmD3dCAABAoPgPd0IAAAAGSxB3QgAAwGudEHdCAACA0e8Qd0IAAEA3QhF3QgAAAJ2UEXdCAADAAucRd0IAAIBoORJ3QgAAQM6LEndCAAAANN4Sd0IAAMCZMBN3QgAAgP+CE3dCAABAZdUTd0IAAADLJxR3QgAAwDB6FHdCAACAlswUd0IAAED8HhV3QgAAAGJxFXdCAADAx8MVd0IAAIAtFhZ3QgAAQJNoFndCAAAA+boWd0IAAMBeDRd3QgAAgMRfF3dCAABAKrIXd0IAAACQBBh3QgAAwPVWGHdCAACAW6kYd0IAAEDB+xh3QgAAACdOGXdCAADAjKAZd0IAAIDy8hl3QgAAQFhFGndCAAAAvpcad0IAAMAj6hp3QgAAgIk8G3dCAABA744bd0IAAABV4Rt3QgAAwLozHHdCAACAIIYcd0IAAECG2Bx3QgAAAOwqHXdCAADAUX0dd0IAAIC3zx13QgAAQB0iHndCAAAAg3Qed0IAAMDoxh53QgAAgE4ZH3dCAABAtGsfd0IAAAAavh93QgAAwH8QIHdCAACA5WIgd0IAAEBLtSB3QgAAALEHIXdCAADAFlohd0IAAIB8rCF3QgAAQOL+IXdCAAAASFEid0IAAMCtoyJ3QgAAgBP2IndCAABAeUgjd0IAAADfmiN3QgAAwETtI3dCAACAqj8kd0IAAEAQkiR3QgAAAHbkJHdCAADA2zYld0IAAIBBiSV3QgAAQKfbJXdCAAAADS4md0IAAMBygCZ3QgAAgNjSJndCAABAPiUnd0IAAACkdyd3QgAAwAnKJ3dCAACAbxwod0IAAEDVbih3QgAAADvBKHdCAADAoBMpd0IAAIAGZil3QgAAQGy4KXdCAAAA0goqd0IAAMA3XSp3QgAAgJ2vKndCAABAAwIrd0IAAABpVCt3QgAAwM6mK3dCAACANPkrd0IAAECaSyx3QgAAAACeLHdCAADAZfAsd0IAAIDLQi13QgAAQDGVLXdCAAAAl+ctd0IAAMD8OS53QgAAgGKMLndCAABAyN4ud0IAAAAuMS93QgAAwJODL3dCAACA+dUvd0I=\",\"dtype\":\"float64\",\"shape\":[127]},\"y\":[0,3,2,5,4,8,5,18,27,28,41,49,36,133,97,168,196,189,250,175,368,349,345,475,427,627,793,651,601,743,683,662,969,889,756,812,837,727,760,766,681,525,636,604,542,610,570,619,431,566,602,578,525,575,482,433,454,534,437,464,420,415,260,333,382,323,285,269,474,174,195,236,369,274,243,194,165,179,172,195,262,242,153,145,99,162,161,156,130,119,50,92,78,117,70,87,111,75,60,55,71,88,85,72,53,65,79,71,53,56,78,44,26,34,43,66,47,49,24,23,18,-31,34,30,8,22,6]},\"selected\":{\"id\":\"26985\"},\"selection_policy\":{\"id\":\"26984\"}},\"id\":\"26931\",\"type\":\"ColumnDataSource\"},{\"attributes\":{\"line_color\":\"red\",\"line_width\":4,\"x\":{\"field\":\"x\"},\"y\":{\"field\":\"y\"}},\"id\":\"26962\",\"type\":\"Line\"},{\"attributes\":{\"line_color\":\"darkviolet\",\"line_width\":4,\"x\":{\"field\":\"x\"},\"y\":{\"field\":\"y\"}},\"id\":\"26932\",\"type\":\"Line\"},{\"attributes\":{\"base\":60,\"mantissas\":[1,2,5,10,15,20,30],\"max_interval\":1800000.0,\"min_interval\":1000.0,\"num_minor_ticks\":0},\"id\":\"26943\",\"type\":\"AdaptiveTicker\"},{\"attributes\":{\"months\":[0,6]},\"id\":\"26952\",\"type\":\"MonthsTicker\"},{\"attributes\":{},\"id\":\"26998\",\"type\":\"NumeralTickFormatter\"},{\"attributes\":{\"mantissas\":[1,2,5],\"max_interval\":500.0,\"num_minor_ticks\":0},\"id\":\"26942\",\"type\":\"AdaptiveTicker\"},{\"attributes\":{\"data_source\":{\"id\":\"26931\"},\"glyph\":{\"id\":\"26932\"},\"hover_glyph\":null,\"muted_glyph\":null,\"nonselection_glyph\":{\"id\":\"26933\"},\"selection_glyph\":null,\"view\":{\"id\":\"26935\"}},\"id\":\"26934\",\"type\":\"GlyphRenderer\"},{\"attributes\":{\"source\":{\"id\":\"26956\"}},\"id\":\"26960\",\"type\":\"CDSView\"},{\"attributes\":{\"fill_alpha\":{\"value\":0.1},\"fill_color\":{\"value\":\"white\"},\"line_alpha\":{\"value\":0.1},\"line_color\":{\"value\":\"red\"},\"size\":{\"units\":\"screen\",\"value\":6},\"x\":{\"field\":\"x\"},\"y\":{\"field\":\"y\"}},\"id\":\"26991\",\"type\":\"Circle\"},{\"attributes\":{\"line_alpha\":0.1,\"line_color\":\"darkviolet\",\"line_width\":4,\"x\":{\"field\":\"x\"},\"y\":{\"field\":\"y\"}},\"id\":\"26933\",\"type\":\"Line\"},{\"attributes\":{\"bottom_units\":\"screen\",\"fill_alpha\":0.5,\"fill_color\":\"lightgrey\",\"left_units\":\"screen\",\"level\":\"overlay\",\"line_alpha\":1.0,\"line_color\":\"black\",\"line_dash\":[4,4],\"line_width\":2,\"render_mode\":\"css\",\"right_units\":\"screen\",\"top_units\":\"screen\"},\"id\":\"26923\",\"type\":\"BoxAnnotation\"},{\"attributes\":{\"days\":[1,15]},\"id\":\"26948\",\"type\":\"DaysTicker\"},{\"attributes\":{\"months\":[0,4,8]},\"id\":\"26951\",\"type\":\"MonthsTicker\"},{\"attributes\":{\"active_drag\":\"auto\",\"active_inspect\":\"auto\",\"active_multi\":null,\"active_scroll\":\"auto\",\"active_tap\":\"auto\",\"tools\":[{\"id\":\"26917\"},{\"id\":\"26918\"},{\"id\":\"26919\"},{\"id\":\"26920\"},{\"id\":\"26921\"},{\"id\":\"26922\"},{\"id\":\"26999\"}]},\"id\":\"26924\",\"type\":\"Toolbar\"},{\"attributes\":{\"data_source\":{\"id\":\"26961\"},\"glyph\":{\"id\":\"26962\"},\"hover_glyph\":null,\"muted_glyph\":null,\"nonselection_glyph\":{\"id\":\"26963\"},\"selection_glyph\":null,\"view\":{\"id\":\"26965\"}},\"id\":\"26964\",\"type\":\"GlyphRenderer\"},{\"attributes\":{\"source\":{\"id\":\"26931\"}},\"id\":\"26935\",\"type\":\"CDSView\"}],\"root_ids\":[\"26898\"]},\"title\":\"Bokeh Application\",\"version\":\"2.0.2\"}};\n",
       "  var render_items = [{\"docid\":\"2d3b9e0e-19bf-4137-a08d-1349fff67a2f\",\"root_ids\":[\"26898\"],\"roots\":{\"26898\":\"fdced1cb-f79b-4d24-9014-52763977976c\"}}];\n",
       "  root.Bokeh.embed.embed_items_notebook(docs_json, render_items);\n",
       "\n",
       "  }\n",
       "  if (root.Bokeh !== undefined) {\n",
       "    embed_document(root);\n",
       "  } else {\n",
       "    var attempts = 0;\n",
       "    var timer = setInterval(function(root) {\n",
       "      if (root.Bokeh !== undefined) {\n",
       "        clearInterval(timer);\n",
       "        embed_document(root);\n",
       "      } else {\n",
       "        attempts++;\n",
       "        if (attempts > 100) {\n",
       "          clearInterval(timer);\n",
       "          console.log(\"Bokeh: ERROR: Unable to run BokehJS code because BokehJS library is missing\");\n",
       "        }\n",
       "      }\n",
       "    }, 10, root)\n",
       "  }\n",
       "})(window);"
      ],
      "application/vnd.bokehjs_exec.v0+json": ""
     },
     "metadata": {
      "application/vnd.bokehjs_exec.v0+json": {
       "id": "26898"
      }
     },
     "output_type": "display_data"
    }
   ],
   "source": [
    "pfit_new_deaths_Italy = bokeh_plot_2_lines(x=time_date_new, y=nuovi_deceduti[0:(fit_range_7)], yy=ydata_8[0:fit_range_7], \n",
    "                  title='Gamma Distribution Fitting New Deaths: Italy', \n",
    "                  file_name=\"fit_new_deaths_Italy.html\", \n",
    "                  x_label='Date', y_label='New Deaths', \n",
    "                  legend_1='new deaths', legend_2='Gamma fitting',\n",
    "                  x_label_hover='date' , y_label_hover='new deaths OR fitting' , \n",
    "                  color_1='darkviolet', color_2='red', y_minmax=None)\n",
    "\n",
    "show(pfit_new_deaths_Italy)"
   ]
  },
  {
   "cell_type": "code",
   "execution_count": 118,
   "metadata": {},
   "outputs": [
    {
     "data": {
      "text/plain": [
       "0.9741876039231135"
      ]
     },
     "execution_count": 118,
     "metadata": {},
     "output_type": "execute_result"
    }
   ],
   "source": [
    "- cov[0,1] / (np.sqrt(np.diag(cov)[0] * np.diag(cov)[1])) # Correlation coefficient for parameters 'alpha' and 'beta'"
   ]
  },
  {
   "cell_type": "code",
   "execution_count": 119,
   "metadata": {},
   "outputs": [
    {
     "data": {
      "text/plain": [
       "-0.5320642565441094"
      ]
     },
     "execution_count": 119,
     "metadata": {},
     "output_type": "execute_result"
    }
   ],
   "source": [
    "cov[0,2] / (np.sqrt(np.diag(cov)[0] * np.diag(cov)[2])) # Correlation coefficient for parameters 'alpha' and 'Kmax'"
   ]
  },
  {
   "cell_type": "code",
   "execution_count": 120,
   "metadata": {},
   "outputs": [
    {
     "data": {
      "text/plain": [
       "-0.5770158298468658"
      ]
     },
     "execution_count": 120,
     "metadata": {},
     "output_type": "execute_result"
    }
   ],
   "source": [
    "- cov[1,2] / (np.sqrt(np.diag(cov)[1] * np.diag(cov)[2])) # Correlation coefficient for parameters 'beta' and 'Kmax'"
   ]
  },
  {
   "cell_type": "code",
   "execution_count": 121,
   "metadata": {},
   "outputs": [
    {
     "data": {
      "text/plain": [
       "0.928058429405697"
      ]
     },
     "execution_count": 121,
     "metadata": {},
     "output_type": "execute_result"
    }
   ],
   "source": [
    "residuals_8 = nuovi_deceduti[0:(fit_range_7)] - ydata_8  #  Calculation of R^2\n",
    "ss_res_8 = np.sum(residuals_8**2)\n",
    "ss_tot_8 = np.sum((nuovi_deceduti[0:(fit_range_7)] - np.mean(nuovi_deceduti[0:(fit_range_7)]))**2)\n",
    "r_squared_8 = 1 - (ss_res_8 / ss_tot_8)\n",
    "r_squared_8"
   ]
  },
  {
   "cell_type": "markdown",
   "metadata": {},
   "source": [
    "-----------"
   ]
  },
  {
   "cell_type": "code",
   "execution_count": 122,
   "metadata": {},
   "outputs": [
    {
     "data": {
      "text/plain": [
       "array([7.22048615e-03, 1.27861838e-01, 6.55549728e-01, 2.02336897e+00,\n",
       "       4.72911905e+00, 9.27042016e+00, 1.60955318e+01, 2.55698686e+01,\n",
       "       3.79562576e+01, 5.34063987e+01, 7.19609759e+01, 9.35560980e+01,\n",
       "       1.18034076e+02, 1.45156888e+02, 1.74621025e+02, 2.06072695e+02,\n",
       "       2.39122637e+02, 2.73360006e+02, 3.08364964e+02, 3.43719775e+02,\n",
       "       3.79018282e+02, 4.13873771e+02, 4.47925246e+02, 4.80842222e+02,\n",
       "       5.12328153e+02, 5.42122628e+02, 5.70002494e+02, 5.95782051e+02,\n",
       "       6.19312463e+02, 6.40480534e+02, 6.59206962e+02, 6.75444217e+02,\n",
       "       6.89174113e+02, 7.00405204e+02, 7.09170056e+02, 7.15522481e+02,\n",
       "       7.19534786e+02, 7.21295084e+02, 7.20904701e+02, 7.18475722e+02,\n",
       "       7.14128678e+02, 7.07990407e+02, 7.00192095e+02, 6.90867486e+02,\n",
       "       6.80151294e+02, 6.68177776e+02, 6.55079497e+02, 6.40986255e+02,\n",
       "       6.26024167e+02, 6.10314908e+02, 5.93975086e+02, 5.77115750e+02,\n",
       "       5.59842012e+02, 5.42252775e+02, 5.24440558e+02, 5.06491403e+02,\n",
       "       4.88484860e+02, 4.70494032e+02, 4.52585676e+02, 4.34820357e+02,\n",
       "       4.17252630e+02, 3.99931263e+02, 3.82899483e+02, 3.66195238e+02,\n",
       "       3.49851479e+02, 3.33896446e+02, 3.18353964e+02, 3.03243737e+02,\n",
       "       2.88581645e+02, 2.74380031e+02, 2.60647991e+02, 2.47391646e+02,\n",
       "       2.34614412e+02, 2.22317258e+02, 2.10498947e+02, 1.99156273e+02,\n",
       "       1.88284281e+02, 1.77876474e+02, 1.67925006e+02, 1.58420867e+02,\n",
       "       1.49354050e+02, 1.40713705e+02, 1.32488287e+02, 1.24665687e+02,\n",
       "       1.17233348e+02, 1.10178384e+02, 1.03487670e+02, 9.71479376e+01,\n",
       "       9.11458530e+01, 8.54680892e+01, 8.01013895e+01, 7.50326229e+01,\n",
       "       7.02488334e+01, 6.57372821e+01, 6.14854832e+01, 5.74812349e+01,\n",
       "       5.37126451e+01, 5.01681524e+01, 4.68365426e+01, 4.37069622e+01,\n",
       "       4.07689274e+01, 3.80123315e+01, 3.54274479e+01, 3.30049319e+01,\n",
       "       3.07358200e+01, 2.86115270e+01, 2.66238419e+01, 2.47649223e+01,\n",
       "       2.30272874e+01, 2.14038102e+01, 1.98877088e+01, 1.84725366e+01,\n",
       "       1.71521727e+01, 1.59208115e+01, 1.47729514e+01, 1.37033846e+01,\n",
       "       1.27071851e+01, 1.17796983e+01, 1.09165294e+01, 1.01135323e+01,\n",
       "       9.36679891e+00, 8.67264794e+00, 8.02761460e+00, 7.42844008e+00,\n",
       "       6.87206146e+00, 6.35560188e+00, 5.87636100e+00, 5.43180578e+00,\n",
       "       5.01956157e+00, 4.63740355e+00, 4.28324848e+00, 3.95514680e+00,\n",
       "       3.65127507e+00, 3.36992867e+00, 3.10951498e+00, 2.86854669e+00,\n",
       "       2.64563557e+00, 2.43948652e+00, 2.24889181e+00, 2.07272580e+00,\n",
       "       1.90993978e+00, 1.75955712e+00, 1.62066878e+00, 1.49242891e+00,\n",
       "       1.37405084e+00, 1.26480318e+00, 1.16400624e+00, 1.07102861e+00,\n",
       "       9.85283950e-01, 9.06227961e-01, 8.33355567e-01, 7.66198251e-01,\n",
       "       7.04321554e-01, 6.47322743e-01, 5.94828612e-01, 5.46493434e-01,\n",
       "       5.01997038e-01, 4.61043013e-01, 4.23357033e-01, 3.88685281e-01,\n",
       "       3.56792992e-01, 3.27463083e-01, 3.00494880e-01, 2.75702927e-01,\n",
       "       2.52915884e-01, 2.31975490e-01, 2.12735608e-01, 1.95061331e-01,\n",
       "       1.78828147e-01, 1.63921174e-01, 1.50234434e-01, 1.37670192e-01,\n",
       "       1.26138338e-01, 1.15555805e-01, 1.05846042e-01, 9.69385183e-02,\n",
       "       8.87682633e-02, 8.12754422e-02, 7.44049621e-02, 6.81061072e-02,\n",
       "       6.23322009e-02, 5.70402930e-02, 5.21908708e-02, 4.77475907e-02,\n",
       "       4.36770312e-02, 3.99484640e-02, 3.65336424e-02, 3.34066055e-02,\n",
       "       3.05434986e-02, 2.79224055e-02, 2.55231953e-02, 2.33273801e-02,\n",
       "       2.13179837e-02, 1.94794213e-02, 1.77973876e-02, 1.62587538e-02,\n",
       "       1.48514734e-02, 1.35644944e-02, 1.23876792e-02, 1.13117302e-02,\n",
       "       1.03281217e-02, 9.42903698e-03, 8.60731054e-03, 7.85637485e-03,\n",
       "       7.17021136e-03, 6.54330542e-03, 5.97060488e-03, 5.44748197e-03,\n",
       "       4.96969824e-03, 4.53337243e-03, 4.13495082e-03, 3.77118004e-03,\n",
       "       3.43908216e-03, 3.13593167e-03, 2.85923447e-03, 2.60670851e-03,\n",
       "       2.37626605e-03, 2.16599734e-03, 1.97415569e-03, 1.79914375e-03,\n",
       "       1.63950093e-03, 1.49389186e-03, 1.36109577e-03, 1.23999684e-03,\n",
       "       1.12957528e-03, 1.02889918e-03, 9.37117017e-04, 8.53450848e-04,\n",
       "       7.77190008e-04, 7.07685375e-04, 6.44344105e-04, 5.86624817e-04,\n",
       "       5.34033177e-04, 4.86117860e-04, 4.42466854e-04, 4.02704075e-04,\n",
       "       3.66486271e-04, 3.33500186e-04, 3.03459974e-04, 2.76104824e-04,\n",
       "       2.51196790e-04, 2.28518813e-04, 2.07872903e-04, 1.89078486e-04,\n",
       "       1.71970882e-04, 1.56399928e-04, 1.42228705e-04, 1.29332387e-04,\n",
       "       1.17597180e-04, 1.06919357e-04, 9.72043797e-05, 8.83660872e-05,\n",
       "       8.03259649e-05, 7.30124705e-05])"
      ]
     },
     "execution_count": 122,
     "metadata": {},
     "output_type": "execute_result"
    }
   ],
   "source": [
    "fit_range_8 = time_date_new_extended.shape[0]\n",
    "xdata_9 = np.linspace(1, fit_range_8, fit_range_8)\n",
    "ydata_9 = model_Gamma_distribution(xdata_9,fit_alpha,fit_beta,fit_Kmax)\n",
    "ydata_9"
   ]
  },
  {
   "cell_type": "code",
   "execution_count": 123,
   "metadata": {},
   "outputs": [
    {
     "name": "stderr",
     "output_type": "stream",
     "text": [
      "BokehUserWarning: ColumnDataSource's columns must be of the same length. Current lengths: ('x', 254), ('y', 127)\n",
      "BokehUserWarning: ColumnDataSource's columns must be of the same length. Current lengths: ('x', 254), ('y', 127)\n"
     ]
    },
    {
     "data": {
      "text/html": [
       "\n",
       "\n",
       "\n",
       "\n",
       "\n",
       "\n",
       "  <div class=\"bk-root\" id=\"aa5096b3-d40d-413f-8605-f4752ce36f7a\" data-root-id=\"28166\"></div>\n"
      ]
     },
     "metadata": {},
     "output_type": "display_data"
    },
    {
     "data": {
      "application/javascript": [
       "(function(root) {\n",
       "  function embed_document(root) {\n",
       "    \n",
       "  var docs_json = {\"d7198eb7-3edc-4ad6-a56f-235dca36b03b\":{\"roots\":{\"references\":[{\"attributes\":{\"below\":[{\"id\":\"28177\"}],\"center\":[{\"id\":\"28180\"},{\"id\":\"28184\"},{\"id\":\"28222\"}],\"left\":[{\"id\":\"28181\"}],\"plot_height\":450,\"renderers\":[{\"id\":\"28202\"},{\"id\":\"28227\"},{\"id\":\"28232\"},{\"id\":\"28260\"}],\"title\":{\"id\":\"28167\"},\"toolbar\":{\"id\":\"28192\"},\"x_range\":{\"id\":\"28169\"},\"x_scale\":{\"id\":\"28173\"},\"y_range\":{\"id\":\"28171\"},\"y_scale\":{\"id\":\"28175\"}},\"id\":\"28166\",\"subtype\":\"Figure\",\"type\":\"Plot\"},{\"attributes\":{},\"id\":\"28254\",\"type\":\"UnionRenderers\"},{\"attributes\":{},\"id\":\"28997\",\"type\":\"UnionRenderers\"},{\"attributes\":{},\"id\":\"28188\",\"type\":\"SaveTool\"},{\"attributes\":{},\"id\":\"29000\",\"type\":\"Selection\"},{\"attributes\":{\"data\":{\"x\":{\"__ndarray__\":\"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\",\"dtype\":\"float64\",\"shape\":[254]},\"y\":[0,3,2,5,4,8,5,18,27,28,41,49,36,133,97,168,196,189,250,175,368,349,345,475,427,627,793,651,601,743,683,662,969,889,756,812,837,727,760,766,681,525,636,604,542,610,570,619,431,566,602,578,525,575,482,433,454,534,437,464,420,415,260,333,382,323,285,269,474,174,195,236,369,274,243,194,165,179,172,195,262,242,153,145,99,162,161,156,130,119,50,92,78,117,70,87,111,75,60,55,71,88,85,72,53,65,79,71,53,56,78,44,26,34,43,66,47,49,24,23,18,-31,34,30,8,22,6]},\"selected\":{\"id\":\"28253\"},\"selection_policy\":{\"id\":\"28252\"}},\"id\":\"28199\",\"type\":\"ColumnDataSource\"},{\"attributes\":{\"fill_alpha\":{\"value\":0.1},\"fill_color\":{\"value\":\"white\"},\"line_alpha\":{\"value\":0.1},\"line_color\":{\"value\":\"darkviolet\"},\"size\":{\"units\":\"screen\",\"value\":6},\"x\":{\"field\":\"x\"},\"y\":{\"field\":\"y\"}},\"id\":\"28226\",\"type\":\"Circle\"},{\"attributes\":{},\"id\":\"28189\",\"type\":\"ResetTool\"},{\"attributes\":{\"text\":\"Gamma Distribution Fitting New Deaths Extended: Italy\"},\"id\":\"28167\",\"type\":\"Title\"},{\"attributes\":{\"source\":{\"id\":\"28229\"}},\"id\":\"28233\",\"type\":\"CDSView\"},{\"attributes\":{},\"id\":\"28190\",\"type\":\"HelpTool\"},{\"attributes\":{},\"id\":\"28221\",\"type\":\"YearsTicker\"},{\"attributes\":{\"data\":{\"x\":{\"__ndarray__\":\"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\",\"dtype\":\"float64\",\"shape\":[254]},\"y\":{\"__ndarray__\":\"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\",\"dtype\":\"float64\",\"shape\":[254]}},\"selected\":{\"id\":\"28998\"},\"selection_policy\":{\"id\":\"28997\"}},\"id\":\"28229\",\"type\":\"ColumnDataSource\"},{\"attributes\":{\"data\":{\"x\":{\"__ndarray__\":\"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\",\"dtype\":\"float64\",\"shape\":[254]},\"y\":[0,3,2,5,4,8,5,18,27,28,41,49,36,133,97,168,196,189,250,175,368,349,345,475,427,627,793,651,601,743,683,662,969,889,756,812,837,727,760,766,681,525,636,604,542,610,570,619,431,566,602,578,525,575,482,433,454,534,437,464,420,415,260,333,382,323,285,269,474,174,195,236,369,274,243,194,165,179,172,195,262,242,153,145,99,162,161,156,130,119,50,92,78,117,70,87,111,75,60,55,71,88,85,72,53,65,79,71,53,56,78,44,26,34,43,66,47,49,24,23,18,-31,34,30,8,22,6]},\"selected\":{\"id\":\"28255\"},\"selection_policy\":{\"id\":\"28254\"}},\"id\":\"28224\",\"type\":\"ColumnDataSource\"},{\"attributes\":{\"base\":24,\"mantissas\":[1,2,4,6,8,12],\"max_interval\":43200000.0,\"min_interval\":3600000.0,\"num_minor_ticks\":0},\"id\":\"28212\",\"type\":\"AdaptiveTicker\"},{\"attributes\":{},\"id\":\"28999\",\"type\":\"UnionRenderers\"},{\"attributes\":{\"base\":60,\"mantissas\":[1,2,5,10,15,20,30],\"max_interval\":1800000.0,\"min_interval\":1000.0,\"num_minor_ticks\":0},\"id\":\"28211\",\"type\":\"AdaptiveTicker\"},{\"attributes\":{\"fill_alpha\":{\"value\":0.1},\"fill_color\":{\"value\":\"white\"},\"line_alpha\":{\"value\":0.1},\"line_color\":{\"value\":\"red\"},\"size\":{\"units\":\"screen\",\"value\":6},\"x\":{\"field\":\"x\"},\"y\":{\"field\":\"y\"}},\"id\":\"28259\",\"type\":\"Circle\"},{\"attributes\":{},\"id\":\"28175\",\"type\":\"LinearScale\"},{\"attributes\":{\"axis\":{\"id\":\"28177\"},\"ticker\":null},\"id\":\"28180\",\"type\":\"Grid\"},{\"attributes\":{\"label\":{\"value\":\"Gamma fitting\"},\"renderers\":[{\"id\":\"28232\"}]},\"id\":\"28256\",\"type\":\"LegendItem\"},{\"attributes\":{},\"id\":\"28252\",\"type\":\"UnionRenderers\"},{\"attributes\":{\"items\":[{\"id\":\"28223\"},{\"id\":\"28256\"}],\"location\":\"top_left\"},\"id\":\"28222\",\"type\":\"Legend\"},{\"attributes\":{\"data_source\":{\"id\":\"28257\"},\"glyph\":{\"id\":\"28258\"},\"hover_glyph\":null,\"muted_glyph\":null,\"nonselection_glyph\":{\"id\":\"28259\"},\"selection_glyph\":null,\"view\":{\"id\":\"28261\"}},\"id\":\"28260\",\"type\":\"GlyphRenderer\"},{\"attributes\":{\"line_alpha\":0.1,\"line_color\":\"darkviolet\",\"line_width\":4,\"x\":{\"field\":\"x\"},\"y\":{\"field\":\"y\"}},\"id\":\"28201\",\"type\":\"Line\"},{\"attributes\":{\"label\":{\"value\":\"new deaths\"},\"renderers\":[{\"id\":\"28202\"}]},\"id\":\"28223\",\"type\":\"LegendItem\"},{\"attributes\":{\"days\":[1,2,3,4,5,6,7,8,9,10,11,12,13,14,15,16,17,18,19,20,21,22,23,24,25,26,27,28,29,30,31]},\"id\":\"28213\",\"type\":\"DaysTicker\"},{\"attributes\":{\"source\":{\"id\":\"28257\"}},\"id\":\"28261\",\"type\":\"CDSView\"},{\"attributes\":{},\"id\":\"28998\",\"type\":\"Selection\"},{\"attributes\":{},\"id\":\"28185\",\"type\":\"PanTool\"},{\"attributes\":{\"bottom_units\":\"screen\",\"fill_alpha\":0.5,\"fill_color\":\"lightgrey\",\"left_units\":\"screen\",\"level\":\"overlay\",\"line_alpha\":1.0,\"line_color\":\"black\",\"line_dash\":[4,4],\"line_width\":2,\"render_mode\":\"css\",\"right_units\":\"screen\",\"top_units\":\"screen\"},\"id\":\"28191\",\"type\":\"BoxAnnotation\"},{\"attributes\":{\"days\":[1,4,7,10,13,16,19,22,25,28]},\"id\":\"28214\",\"type\":\"DaysTicker\"},{\"attributes\":{},\"id\":\"28173\",\"type\":\"LinearScale\"},{\"attributes\":{},\"id\":\"28186\",\"type\":\"WheelZoomTool\"},{\"attributes\":{\"source\":{\"id\":\"28224\"}},\"id\":\"28228\",\"type\":\"CDSView\"},{\"attributes\":{\"fill_color\":{\"value\":\"white\"},\"line_color\":{\"value\":\"red\"},\"size\":{\"units\":\"screen\",\"value\":6},\"x\":{\"field\":\"x\"},\"y\":{\"field\":\"y\"}},\"id\":\"28258\",\"type\":\"Circle\"},{\"attributes\":{\"days\":[1,8,15,22]},\"id\":\"28215\",\"type\":\"DaysTicker\"},{\"attributes\":{\"callback\":null,\"formatters\":{\"@x\":\"datetime\"},\"mode\":\"vline\",\"tooltips\":[[\"date\",\"@x{%d %B}\"],[\"new deaths OR fitting\",\"@y{0.}\"]]},\"id\":\"28267\",\"type\":\"HoverTool\"},{\"attributes\":{},\"id\":\"28171\",\"type\":\"DataRange1d\"},{\"attributes\":{\"days\":[1,15]},\"id\":\"28216\",\"type\":\"DaysTicker\"},{\"attributes\":{\"data\":{\"x\":{\"__ndarray__\":\"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\",\"dtype\":\"float64\",\"shape\":[254]},\"y\":{\"__ndarray__\":\"g8c4fjqTfT+wSUTXxl3AP7rhd2xD+uQ/ERrnEdwvAEAuC/MunuoSQLYovYJ0iiJA76nCxXQYMECJ1xrp4pE5QE1BdqZm+kJAifCI3wS0SkBR6uWggP1RQCIPOhyXY1dA0yJITC6CXUAz79c5BSViQOOChW/f02VAhLPug1PCaUAn5HCk7ONtQPKZUZXCFXFArvd75NZFc0CKzEYyhHt1QBgw+uFKsHdA3j9I9/rdeUAwxK7Ozf57QEPDLL55DX5AQQ7FDqACgEA9XEgk+/CAQKb3exsF0IFA46HXo0GegkBXLcvsf1qDQDYzCyLYA4RAA/Pg26eZhEBO2I7BjRuFQKWWZpVkiYVAE/GT2z3jhUBk9xpGXCmGQNy5RAouXIZA0i/QPUd8hkCN88lUXIqGQPMA+NM8h4ZAhuxTR85zhkDRTx6IB1GGQMkUplrsH4ZAPeznaInhhUD52qWc8JaFQOiUe9k1QYVAyeK4FWzhhEAP6WXPoniEQMREvNnjB4RAulaKfjGQg0Dg8lruhBKDQAHL0vnMj4JAfL52Du0IgkDJz/NwvH6BQLulBK8F8oBAqpwrQ4ZjgEAMNU3J3Kd/QC2PffzBh35AAn68jednfUB4EEvuXkl8QCn1Hi8gLXtAIYMTxgoUekB/W4F05v54QEGGaUhk7ndAc5cMsh/jdkC8QGyon911QEsz1NdX3nRApUcd1qnlc0BlwOpY5vNyQP2wpGpOCXJAAt9rmxQmcUD9z7IrXkpwQDl/Gl2I7G5AhGJGRKlTbUAbGQ/6JsprQMZH+F73T2pA9zrdLwDlaEB0AGfUGIlnQMtHbhIMPGZAAwkQppn9ZEAOCIe+d81jQH4LHGBUq2JA8A20q9aWYUAN1a8MoI9gQAE96JuaKl9AlMkbLu9OXUCz4PekaotbQJyPbfw131lAQqw1z3dJWECv5r2nVclWQH4BiCz1XVVAChlTKn0GVECf5l9+FsJSQLRbFePsj1FARp07oS9vUEDXEOJPJL5OQIlP0BqZvUxAydzN9DfbSkAVUM8EhhVJQGSPRtQTa0dAO+pmvH3aRUBTgsI2bGJEQBoOOBSUAUNAkt71nLa2QUC48iWcoYBAQPQtTrNevD5AhacRCI2cPECa8KYZtJ86QLgC9vHRwzhAsyNmTvwGN0D7fmcbYGc1QOFAteFA4zNAt6fiJ/h4MkDzVYXK9CYxQCxvJpp01y9A8NSkSsCLLUAdZgsGImgrQIDtnyoUailAy685njSPJ0A6dGdXQ9UlQEf76eggOiRANvI9Ec27IkCi6rFPZVghQBICTIAjDiBAGrse/7i2HUAVHAau/XwbQIITZOYibBlAapVsx2SBF0DyEX9LK7oVQMk60PIHFBRAzC8ghLOMEkC/Z77jCyIRQI1I5wEkpA9AhfKMs881DUBN3t8pnfUKQEk/dmNJ4AhA3eTnmsjyBkAk7Ov7QioFQL2yuIERhANAJuiN/br9AUDRkztE8ZQAQJfs0AIdj/4/i56bXiUn/D/doStjQu75P+DnCCT94Pc/piUfuxz89T8doxVBojz0P1YfGwHFn/I/Wkx55e4i8T+fDZs0cofvP5Y5osfR/+w/lbJUS9mq6j/fUqAxsoToPwSLOFvNieY/kPJ1L9625D+xZHcD1gjjP19PNMzffOE/p/hZF1wQ4D+nLfCNuoHdP5GMVxhIGNs/Ve9EOjjg2D9jKfFFstXWPydYQrgn9dQ/qoJZ4E470z/kgtrjHaXRP9sAOBrGL9A/V5Uxc1+xzT+5BGqg6zrLP3eHoArF98g/jQx0Otfjxj8m9/13XvvEPx8TasXhOsM/OGIPRy2fwT/bhcgRTSXAP13UcLEQlb0/0xkh6LkYuz9hyKN19tC4P2MvwFOEubY/wkAxpnfOtD9uHekeNAyzPxfAGN9mb7E/dTSGmAHqrz/tKmaiYjStPwfHZwbDuKo/2H/WSF9yqD/zFFz51VymP3mOMgUgdKQ/yeVInom0oj+x/4ysqxqhPxVdlH7LRp8/HpR46rCXnD/sdDqlwCKaP+c+HPoh45c/q0edq2HUlT/qH3rWafKTP4a0MXZ6OZI/pY/wfiKmkD+7jEIDc2qOP62DYJ+zx4s/d3+kKbZeiT+jDaK7miqHPxY4EwjpJoU/DivH64dPgz+VSTWqtaCBP+eodcgAF4A/jWS39IJefT87fbMsJ816P233WwuidHg/5M9FThlQdj90etI2G1t0P3hRfuWVkXI/dEJ0aM/vcD8Ve3nevORuP5/15ixHLGw/75nhfoawaT+a4ILRP2xnPzWhSPqpWmU/YNUjH2R3Yz+lrBv3bL5hPx+EY8MaLGA/WAsL5Cd6XT8M29y4kNxaP8gedirWeVg/VYJOc9lMVj/gz9J37FBUP8LHPjnIgVI/iMJ0FITbUD9zZUF4G7VOP8rzk71D90s/Tp9l1Yp3ST95YA3FfjBHPz6Uym0mHUU/0bScM/c4Qz/Q9KyDy39BP8rteU+02z8/rOofq1z/PD8xPk7VQGQ6P7FL4oueBDg/Nix0ZDTbNT/sOnuqNuMzPzN/eTBFGDI/t7LE/2F2MD/SVmWo0fMtP3hN9qQOPys/o0ga02vIKD/5PcmgYoomP4TSQSbpfyQ/pa5sRmekIj+jejK/rPMgP66vuSrQ0x4/vMmfkjwHHD/kYvaGRnsZPyCZotElKhc/HAzOkZUOFT+27iKxyCMTPw==\",\"dtype\":\"float64\",\"shape\":[254]}},\"selected\":{\"id\":\"29000\"},\"selection_policy\":{\"id\":\"28999\"}},\"id\":\"28257\",\"type\":\"ColumnDataSource\"},{\"attributes\":{\"data_source\":{\"id\":\"28224\"},\"glyph\":{\"id\":\"28225\"},\"hover_glyph\":null,\"muted_glyph\":null,\"nonselection_glyph\":{\"id\":\"28226\"},\"selection_glyph\":null,\"view\":{\"id\":\"28228\"}},\"id\":\"28227\",\"type\":\"GlyphRenderer\"},{\"attributes\":{},\"id\":\"28169\",\"type\":\"DataRange1d\"},{\"attributes\":{\"num_minor_ticks\":5,\"tickers\":[{\"id\":\"28210\"},{\"id\":\"28211\"},{\"id\":\"28212\"},{\"id\":\"28213\"},{\"id\":\"28214\"},{\"id\":\"28215\"},{\"id\":\"28216\"},{\"id\":\"28217\"},{\"id\":\"28218\"},{\"id\":\"28219\"},{\"id\":\"28220\"},{\"id\":\"28221\"}]},\"id\":\"28178\",\"type\":\"DatetimeTicker\"},{\"attributes\":{\"months\":[0,1,2,3,4,5,6,7,8,9,10,11]},\"id\":\"28217\",\"type\":\"MonthsTicker\"},{\"attributes\":{},\"id\":\"28182\",\"type\":\"BasicTicker\"},{\"attributes\":{},\"id\":\"28255\",\"type\":\"Selection\"},{\"attributes\":{\"axis_label\":\"Date\",\"formatter\":{\"id\":\"28262\"},\"major_label_orientation\":0.7853981633974483,\"minor_tick_in\":-5,\"minor_tick_out\":-3,\"ticker\":{\"id\":\"28178\"}},\"id\":\"28177\",\"type\":\"DatetimeAxis\"},{\"attributes\":{\"fill_color\":{\"value\":\"white\"},\"line_color\":{\"value\":\"darkviolet\"},\"size\":{\"units\":\"screen\",\"value\":6},\"x\":{\"field\":\"x\"},\"y\":{\"field\":\"y\"}},\"id\":\"28225\",\"type\":\"Circle\"},{\"attributes\":{\"months\":[0,2,4,6,8,10]},\"id\":\"28218\",\"type\":\"MonthsTicker\"},{\"attributes\":{},\"id\":\"28253\",\"type\":\"Selection\"},{\"attributes\":{\"data_source\":{\"id\":\"28199\"},\"glyph\":{\"id\":\"28200\"},\"hover_glyph\":null,\"muted_glyph\":null,\"nonselection_glyph\":{\"id\":\"28201\"},\"selection_glyph\":null,\"view\":{\"id\":\"28203\"}},\"id\":\"28202\",\"type\":\"GlyphRenderer\"},{\"attributes\":{\"overlay\":{\"id\":\"28191\"}},\"id\":\"28187\",\"type\":\"BoxZoomTool\"},{\"attributes\":{\"line_color\":\"darkviolet\",\"line_width\":4,\"x\":{\"field\":\"x\"},\"y\":{\"field\":\"y\"}},\"id\":\"28200\",\"type\":\"Line\"},{\"attributes\":{\"line_color\":\"red\",\"line_width\":4,\"x\":{\"field\":\"x\"},\"y\":{\"field\":\"y\"}},\"id\":\"28230\",\"type\":\"Line\"},{\"attributes\":{\"months\":[0,4,8]},\"id\":\"28219\",\"type\":\"MonthsTicker\"},{\"attributes\":{},\"id\":\"28266\",\"type\":\"NumeralTickFormatter\"},{\"attributes\":{\"active_drag\":\"auto\",\"active_inspect\":\"auto\",\"active_multi\":null,\"active_scroll\":\"auto\",\"active_tap\":\"auto\",\"tools\":[{\"id\":\"28185\"},{\"id\":\"28186\"},{\"id\":\"28187\"},{\"id\":\"28188\"},{\"id\":\"28189\"},{\"id\":\"28190\"},{\"id\":\"28267\"}]},\"id\":\"28192\",\"type\":\"Toolbar\"},{\"attributes\":{\"source\":{\"id\":\"28199\"}},\"id\":\"28203\",\"type\":\"CDSView\"},{\"attributes\":{\"months\":[0,6]},\"id\":\"28220\",\"type\":\"MonthsTicker\"},{\"attributes\":{\"axis\":{\"id\":\"28181\"},\"dimension\":1,\"ticker\":null},\"id\":\"28184\",\"type\":\"Grid\"},{\"attributes\":{\"axis_label\":\"New Deaths\",\"formatter\":{\"id\":\"28266\"},\"minor_tick_in\":-5,\"minor_tick_out\":-3,\"ticker\":{\"id\":\"28182\"}},\"id\":\"28181\",\"type\":\"LinearAxis\"},{\"attributes\":{\"days\":[\"%d %B\"]},\"id\":\"28262\",\"type\":\"DatetimeTickFormatter\"},{\"attributes\":{\"line_alpha\":0.1,\"line_color\":\"red\",\"line_width\":4,\"x\":{\"field\":\"x\"},\"y\":{\"field\":\"y\"}},\"id\":\"28231\",\"type\":\"Line\"},{\"attributes\":{\"data_source\":{\"id\":\"28229\"},\"glyph\":{\"id\":\"28230\"},\"hover_glyph\":null,\"muted_glyph\":null,\"nonselection_glyph\":{\"id\":\"28231\"},\"selection_glyph\":null,\"view\":{\"id\":\"28233\"}},\"id\":\"28232\",\"type\":\"GlyphRenderer\"},{\"attributes\":{\"mantissas\":[1,2,5],\"max_interval\":500.0,\"num_minor_ticks\":0},\"id\":\"28210\",\"type\":\"AdaptiveTicker\"}],\"root_ids\":[\"28166\"]},\"title\":\"Bokeh Application\",\"version\":\"2.0.2\"}};\n",
       "  var render_items = [{\"docid\":\"d7198eb7-3edc-4ad6-a56f-235dca36b03b\",\"root_ids\":[\"28166\"],\"roots\":{\"28166\":\"aa5096b3-d40d-413f-8605-f4752ce36f7a\"}}];\n",
       "  root.Bokeh.embed.embed_items_notebook(docs_json, render_items);\n",
       "\n",
       "  }\n",
       "  if (root.Bokeh !== undefined) {\n",
       "    embed_document(root);\n",
       "  } else {\n",
       "    var attempts = 0;\n",
       "    var timer = setInterval(function(root) {\n",
       "      if (root.Bokeh !== undefined) {\n",
       "        clearInterval(timer);\n",
       "        embed_document(root);\n",
       "      } else {\n",
       "        attempts++;\n",
       "        if (attempts > 100) {\n",
       "          clearInterval(timer);\n",
       "          console.log(\"Bokeh: ERROR: Unable to run BokehJS code because BokehJS library is missing\");\n",
       "        }\n",
       "      }\n",
       "    }, 10, root)\n",
       "  }\n",
       "})(window);"
      ],
      "application/vnd.bokehjs_exec.v0+json": ""
     },
     "metadata": {
      "application/vnd.bokehjs_exec.v0+json": {
       "id": "28166"
      }
     },
     "output_type": "display_data"
    }
   ],
   "source": [
    "pfit_2_new_deaths_Italy = bokeh_plot_2_lines(x=time_date_new_extended, y=nuovi_deceduti[0:(fit_range_7)], yy=ydata_9[0:fit_range_8], \n",
    "                  title='Gamma Distribution Fitting New Deaths Extended: Italy', \n",
    "                  file_name=\"fit_2_new_deaths_Italy.html\", \n",
    "                  x_label='Date', y_label='New Deaths', \n",
    "                  legend_1='new deaths', legend_2='Gamma fitting',\n",
    "                  x_label_hover='date' , y_label_hover='new deaths OR fitting' , \n",
    "                  color_1='darkviolet', color_2='red', y_minmax=None)\n",
    "\n",
    "show(pfit_2_new_deaths_Italy)"
   ]
  },
  {
   "cell_type": "markdown",
   "metadata": {},
   "source": [
    "-----------------\n",
    "-----------------\n",
    "-----------------"
   ]
  },
  {
   "cell_type": "code",
   "execution_count": 124,
   "metadata": {},
   "outputs": [
    {
     "name": "stderr",
     "output_type": "stream",
     "text": [
      "BokehUserWarning: ColumnDataSource's columns must be of the same length. Current lengths: ('x', 127), ('y', 121)\n",
      "BokehUserWarning: ColumnDataSource's columns must be of the same length. Current lengths: ('x', 127), ('y', 121)\n",
      "BokehUserWarning: ColumnDataSource's columns must be of the same length. Current lengths: ('x', 127), ('y', 121)\n",
      "BokehUserWarning: ColumnDataSource's columns must be of the same length. Current lengths: ('x', 127), ('y', 121)\n",
      "BokehUserWarning: ColumnDataSource's columns must be of the same length. Current lengths: ('x', 127), ('y', 121)\n",
      "BokehUserWarning: ColumnDataSource's columns must be of the same length. Current lengths: ('x', 127), ('y', 121)\n",
      "BokehUserWarning: ColumnDataSource's columns must be of the same length. Current lengths: ('x', 127), ('y', 113)\n",
      "BokehUserWarning: ColumnDataSource's columns must be of the same length. Current lengths: ('x', 127), ('y', 113)\n",
      "BokehUserWarning: ColumnDataSource's columns must be of the same length. Current lengths: ('x', 127), ('y', 113)\n",
      "BokehUserWarning: ColumnDataSource's columns must be of the same length. Current lengths: ('x', 127), ('y', 113)\n",
      "BokehUserWarning: ColumnDataSource's columns must be of the same length. Current lengths: ('x', 127), ('y', 113)\n",
      "BokehUserWarning: ColumnDataSource's columns must be of the same length. Current lengths: ('x', 127), ('y', 113)\n",
      "BokehUserWarning: ColumnDataSource's columns must be of the same length. Current lengths: ('x', 127), ('y', 113)\n",
      "BokehUserWarning: ColumnDataSource's columns must be of the same length. Current lengths: ('x', 127), ('y', 113)\n",
      "BokehUserWarning: ColumnDataSource's columns must be of the same length. Current lengths: ('x', 127), ('y', 113)\n",
      "BokehUserWarning: ColumnDataSource's columns must be of the same length. Current lengths: ('x', 127), ('y', 113)\n",
      "BokehUserWarning: ColumnDataSource's columns must be of the same length. Current lengths: ('x', 127), ('y', 113)\n",
      "BokehUserWarning: ColumnDataSource's columns must be of the same length. Current lengths: ('x', 127), ('y', 113)\n",
      "BokehUserWarning: ColumnDataSource's columns must be of the same length. Current lengths: ('x', 254), ('y', 127)\n",
      "BokehUserWarning: ColumnDataSource's columns must be of the same length. Current lengths: ('x', 254), ('y', 127)\n",
      "BokehUserWarning: ColumnDataSource's columns must be of the same length. Current lengths: ('x', 254), ('y', 127)\n",
      "BokehUserWarning: ColumnDataSource's columns must be of the same length. Current lengths: ('x', 254), ('y', 127)\n"
     ]
    }
   ],
   "source": [
    "s1_grid = bokeh_plot_N_lines(x=time_date_new, y_list=[total_cases_italy,total_positive_italy], \n",
    "                  title='Total Cases & Total Positive: Italy', \n",
    "                  dim=[470, 350], \n",
    "                  x_label='Date', \n",
    "                  y_label='Total Cases & Total Positive', legend_list=['total cases','total positive'],\n",
    "                  x_label_hover='date', y_label_hover='total cases OR total positive',\n",
    "                  color_list=['blue','red'],legend_location=\"top_left\", y_minmax=None)\n",
    "\n",
    "s2_grid = bokeh_plot_N_lines(x=time_date_new, y_list=[deceduti_italy,guariti_italy], \n",
    "                  title='Deaths & Recovered: Italy', \n",
    "                  dim=[470, 350], \n",
    "                  x_label='Date', \n",
    "                  y_label='Deaths & Recovered', legend_list=['deaths','recovered'],\n",
    "                  x_label_hover='date', y_label_hover='deaths OR recovered',\n",
    "                  color_list=['darkviolet','green'],legend_location=\"top_left\", y_minmax=None)\n",
    "\n",
    "\n",
    "s3_grid = bokeh_plot_N_lines(x=time_date_new + 6, y_list=[R_2_cases, R_2_deaths, R_2_guariti], \n",
    "                  title='Total Cases/Deaths/Guariti - Exponential Validity: Italy', \n",
    "                  dim=[470, 350], \n",
    "                  x_label='Date', \n",
    "                  y_label='R_squared', legend_list=['R_squared_cases', 'R_squared_deaths', 'R_squared_guariti'],\n",
    "                  x_label_hover='date', y_label_hover='R_squared_cases/deaths/guariti',\n",
    "                  color_list=['blue', 'darkviolet', 'green'], legend_location=\"bottom_left\", y_minmax=None)\n",
    "\n",
    "s4_grid = bokeh_plot_N_lines(x=time_date_new + 14, y_list=[max_population_up,max_population_down,max_population], \n",
    "                  title='Max Total Cases - Logistic Fitting: Italy', \n",
    "                  dim=[470, 350], \n",
    "                  x_label='Date', \n",
    "                  y_label='Total Cases MAX', legend_list=['total cases max UP','total cases max DOWN','total cases max'],\n",
    "                  x_label_hover='date', y_label_hover='total cases max/UP/DOWN',\n",
    "                  color_list=['lightcoral','lightblue','blue'],legend_location=\"bottom_right\", y_minmax=(0,300000))\n",
    "\n",
    "s5_grid = bokeh_plot_N_lines(x=time_date_new + 14, y_list=[max_deaths_up,max_deaths_down,max_deaths], \n",
    "                  title='Max Total Deaths - Logistic Fitting: Italy', \n",
    "                  dim=[470, 350], \n",
    "                  x_label='Date', \n",
    "                  y_label='Total Deaths MAX', legend_list=['total deaths max UP','total deaths max DOWN','total deaths max'],\n",
    "                  x_label_hover='date', y_label_hover='total deaths max/UP/DOWN',\n",
    "                  color_list=['lightcoral','lightblue','darkviolet'],legend_location=\"bottom_right\", y_minmax=(0,45000))\n",
    "\n",
    "s6_grid = bokeh_plot_N_lines(x=time_date_new_extended, y_list=[nuovi_positivi_italy.loc[0:(fit_range_5-1)],ydata_5[0:fit_range_6]], \n",
    "                  title='New Positive - Gamma Distribution Fitting: Italy', \n",
    "                  dim=[470, 350],\n",
    "                  x_label='Date', \n",
    "                  y_label='New Positive', legend_list=['new positive','Gamma fitting'],\n",
    "                  x_label_hover='date', y_label_hover='new positive/fitting',\n",
    "                  color_list=['blue','lightcoral'],legend_location=\"top_right\", y_minmax=None)\n",
    "\n",
    "s7_grid = bokeh_plot_N_lines(x=time_date_new_extended, y_list=[nuovi_deceduti[0:(fit_range_7)],ydata_9[0:fit_range_8]], \n",
    "                  title='New Deaths - Gamma Distribution Fitting: Italy', \n",
    "                  dim=[470, 350],\n",
    "                  x_label='Date', \n",
    "                  y_label='New Deaths', legend_list=['new deaths','Gamma fitting'],\n",
    "                  x_label_hover='date', y_label_hover='new deaths/fitting',\n",
    "                  color_list=['darkviolet','lightcoral'],legend_location=\"top_right\", y_minmax=None)"
   ]
  },
  {
   "cell_type": "code",
   "execution_count": 125,
   "metadata": {},
   "outputs": [
    {
     "data": {
      "text/html": [
       "\n",
       "\n",
       "\n",
       "\n",
       "\n",
       "\n",
       "  <div class=\"bk-root\" id=\"af5a4d56-b098-4d34-aed6-83b22a8ccdd4\" data-root-id=\"30473\"></div>\n"
      ]
     },
     "metadata": {},
     "output_type": "display_data"
    },
    {
     "data": {
      "application/javascript": [
       "(function(root) {\n",
       "  function embed_document(root) {\n",
       "    \n",
       "  var docs_json = {\"985d20c5-2e38-42d0-8148-90f7cc786849\":{\"roots\":{\"references\":[{\"attributes\":{\"children\":[{\"id\":\"30472\"},{\"id\":\"30470\"}]},\"id\":\"30473\",\"type\":\"Column\"},{\"attributes\":{\"text\":\"Total Cases/Deaths/Guariti - Exponential Validity: Italy\"},\"id\":\"29663\",\"type\":\"Title\"},{\"attributes\":{},\"id\":\"30026\",\"type\":\"UnionRenderers\"},{\"attributes\":{\"use_scientific\":false},\"id\":\"29658\",\"type\":\"BasicTickFormatter\"},{\"attributes\":{\"source\":{\"id\":\"30003\"}},\"id\":\"30007\",\"type\":\"CDSView\"},{\"attributes\":{\"days\":[\"%d %B\"]},\"id\":\"29656\",\"type\":\"DatetimeTickFormatter\"},{\"attributes\":{\"line_alpha\":0.1,\"line_color\":\"lightblue\",\"line_width\":4,\"x\":{\"field\":\"x\"},\"y\":{\"field\":\"y\"}},\"id\":\"30005\",\"type\":\"Line\"},{\"attributes\":{\"callback\":null,\"formatters\":{\"@x\":\"datetime\"},\"mode\":\"vline\",\"tooltips\":[[\"date\",\"@x{%d %B}\"],[\"deaths OR recovered\",\"@y{0[.]000}\"]]},\"id\":\"29660\",\"type\":\"HoverTool\"},{\"attributes\":{\"line_color\":\"darkviolet\",\"line_width\":4,\"x\":{\"field\":\"x\"},\"y\":{\"field\":\"y\"}},\"id\":\"29726\",\"type\":\"Line\"},{\"attributes\":{\"data_source\":{\"id\":\"30003\"},\"glyph\":{\"id\":\"30004\"},\"hover_glyph\":null,\"muted_glyph\":null,\"nonselection_glyph\":{\"id\":\"30005\"},\"selection_glyph\":null,\"view\":{\"id\":\"30007\"}},\"id\":\"30006\",\"type\":\"GlyphRenderer\"},{\"attributes\":{\"below\":[{\"id\":\"29812\"}],\"center\":[{\"id\":\"29815\"},{\"id\":\"29819\"},{\"id\":\"29857\"}],\"left\":[{\"id\":\"29816\"}],\"plot_height\":350,\"plot_width\":470,\"renderers\":[{\"id\":\"29837\"},{\"id\":\"29862\"},{\"id\":\"29867\"},{\"id\":\"29895\"},{\"id\":\"29900\"},{\"id\":\"29932\"}],\"title\":{\"id\":\"29802\"},\"toolbar\":{\"id\":\"29827\"},\"toolbar_location\":null,\"x_range\":{\"id\":\"29804\"},\"x_scale\":{\"id\":\"29808\"},\"y_range\":{\"id\":\"29806\"},\"y_scale\":{\"id\":\"29810\"}},\"id\":\"29801\",\"subtype\":\"Figure\",\"type\":\"Plot\"},{\"attributes\":{},\"id\":\"29665\",\"type\":\"DataRange1d\"},{\"attributes\":{\"line_alpha\":0.1,\"line_color\":\"darkviolet\",\"line_width\":4,\"x\":{\"field\":\"x\"},\"y\":{\"field\":\"y\"}},\"id\":\"30038\",\"type\":\"Line\"},{\"attributes\":{},\"id\":\"30028\",\"type\":\"UnionRenderers\"},{\"attributes\":{},\"id\":\"29667\",\"type\":\"DataRange1d\"},{\"attributes\":{},\"id\":\"30027\",\"type\":\"Selection\"},{\"attributes\":{\"source\":{\"id\":\"30036\"}},\"id\":\"30040\",\"type\":\"CDSView\"},{\"attributes\":{},\"id\":\"29669\",\"type\":\"LinearScale\"},{\"attributes\":{\"data_source\":{\"id\":\"30036\"},\"glyph\":{\"id\":\"30037\"},\"hover_glyph\":null,\"muted_glyph\":null,\"nonselection_glyph\":{\"id\":\"30038\"},\"selection_glyph\":null,\"view\":{\"id\":\"30040\"}},\"id\":\"30039\",\"type\":\"GlyphRenderer\"},{\"attributes\":{},\"id\":\"29671\",\"type\":\"LinearScale\"},{\"attributes\":{},\"id\":\"30029\",\"type\":\"Selection\"},{\"attributes\":{\"axis_label\":\"Date\",\"formatter\":{\"id\":\"29795\"},\"major_label_orientation\":0.7853981633974483,\"minor_tick_in\":-5,\"minor_tick_out\":-3,\"ticker\":{\"id\":\"29674\"}},\"id\":\"29673\",\"type\":\"DatetimeAxis\"},{\"attributes\":{},\"id\":\"29678\",\"type\":\"BasicTicker\"},{\"attributes\":{\"data\":{\"x\":{\"__ndarray__\":\"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\",\"dtype\":\"float64\",\"shape\":[254]},\"y\":[221,93,78,250,238,240,566,342,466,587,769,778,1247,1492,1797,977,2313,2651,2547,3497,3590,3233,3526,4207,5322,5986,6557,5560,4789,5249,5210,6153,5959,5974,5217,4050,4053,4782,4668,4585,4805,4316,3599,3039,3836,4204,3951,4694,4092,3153,2972,2667,3786,3493,3491,3047,2256,2729,3370,2646,3021,2357,2324,1739,2091,2086,1872,1965,1900,1389,1221,1075,1444,1401,1327,1083,802,744,1402,888,992,789,875,675,451,813,665,642,652,669,531,300,397,584,593,516,416,355,178,318,321,177,518,270,197,280,283,202,379,163,346,338,303,210,329,333,251,262,224,218,122,190,296,259,175,174,126]},\"selected\":{\"id\":\"30166\"},\"selection_policy\":{\"id\":\"30165\"}},\"id\":\"30112\",\"type\":\"ColumnDataSource\"},{\"attributes\":{\"num_minor_ticks\":5,\"tickers\":[{\"id\":\"29706\"},{\"id\":\"29707\"},{\"id\":\"29708\"},{\"id\":\"29709\"},{\"id\":\"29710\"},{\"id\":\"29711\"},{\"id\":\"29712\"},{\"id\":\"29713\"},{\"id\":\"29714\"},{\"id\":\"29715\"},{\"id\":\"29716\"},{\"id\":\"29717\"}]},\"id\":\"29674\",\"type\":\"DatetimeTicker\"},{\"attributes\":{\"label\":{\"value\":\"total deaths max\"},\"renderers\":[{\"id\":\"30039\"}]},\"id\":\"30067\",\"type\":\"LegendItem\"},{\"attributes\":{\"axis\":{\"id\":\"29673\"},\"ticker\":null},\"id\":\"29676\",\"type\":\"Grid\"},{\"attributes\":{},\"id\":\"30065\",\"type\":\"UnionRenderers\"},{\"attributes\":{\"axis\":{\"id\":\"29677\"},\"dimension\":1,\"ticker\":null},\"id\":\"29680\",\"type\":\"Grid\"},{\"attributes\":{},\"id\":\"30064\",\"type\":\"Selection\"},{\"attributes\":{\"axis_label\":\"R_squared\",\"formatter\":{\"id\":\"29797\"},\"minor_tick_in\":-5,\"minor_tick_out\":-3,\"ticker\":{\"id\":\"29678\"}},\"id\":\"29677\",\"type\":\"LinearAxis\"},{\"attributes\":{\"fill_color\":{\"value\":\"white\"},\"line_color\":{\"value\":\"darkviolet\"},\"size\":{\"units\":\"screen\",\"value\":5},\"x\":{\"field\":\"x\"},\"y\":{\"field\":\"y\"}},\"id\":\"30069\",\"type\":\"Circle\"},{\"attributes\":{},\"id\":\"30088\",\"type\":\"LinearScale\"},{\"attributes\":{\"data\":{\"x\":{\"__ndarray__\":\"AACARzYJd0IAAECtiAl3QgAAABPbCXdCAADAeC0Kd0IAAIDefwp3QgAAQETSCndCAAAAqiQLd0IAAMAPdwt3QgAAgHXJC3dCAABA2xsMd0IAAABBbgx3QgAAwKbADHdCAACADBMNd0IAAEByZQ13QgAAANi3DXdCAADAPQoOd0IAAICjXA53QgAAQAmvDndCAAAAbwEPd0IAAMDUUw93QgAAgDqmD3dCAABAoPgPd0IAAAAGSxB3QgAAwGudEHdCAACA0e8Qd0IAAEA3QhF3QgAAAJ2UEXdCAADAAucRd0IAAIBoORJ3QgAAQM6LEndCAAAANN4Sd0IAAMCZMBN3QgAAgP+CE3dCAABAZdUTd0IAAADLJxR3QgAAwDB6FHdCAACAlswUd0IAAED8HhV3QgAAAGJxFXdCAADAx8MVd0IAAIAtFhZ3QgAAQJNoFndCAAAA+boWd0IAAMBeDRd3QgAAgMRfF3dCAABAKrIXd0IAAACQBBh3QgAAwPVWGHdCAACAW6kYd0IAAEDB+xh3QgAAACdOGXdCAADAjKAZd0IAAIDy8hl3QgAAQFhFGndCAAAAvpcad0IAAMAj6hp3QgAAgIk8G3dCAABA744bd0IAAABV4Rt3QgAAwLozHHdCAACAIIYcd0IAAECG2Bx3QgAAAOwqHXdCAADAUX0dd0IAAIC3zx13QgAAQB0iHndCAAAAg3Qed0IAAMDoxh53QgAAgE4ZH3dCAABAtGsfd0IAAAAavh93QgAAwH8QIHdCAACA5WIgd0IAAEBLtSB3QgAAALEHIXdCAADAFlohd0IAAIB8rCF3QgAAQOL+IXdCAAAASFEid0IAAMCtoyJ3QgAAgBP2IndCAABAeUgjd0IAAADfmiN3QgAAwETtI3dCAACAqj8kd0IAAEAQkiR3QgAAAHbkJHdCAADA2zYld0IAAIBBiSV3QgAAQKfbJXdCAAAADS4md0IAAMBygCZ3QgAAgNjSJndCAABAPiUnd0IAAACkdyd3QgAAwAnKJ3dCAACAbxwod0IAAEDVbih3QgAAADvBKHdCAADAoBMpd0IAAIAGZil3QgAAQGy4KXdCAAAA0goqd0IAAMA3XSp3QgAAgJ2vKndCAABAAwIrd0IAAABpVCt3QgAAwM6mK3dCAACANPkrd0IAAECaSyx3QgAAAACeLHdCAADAZfAsd0IAAIDLQi13QgAAQDGVLXdCAAAAl+ctd0IAAMD8OS53QgAAgGKMLndCAABAyN4ud0IAAAAuMS93QgAAwJODL3dCAACA+dUvd0IAAEBfKDB3QgAAAMV6MHdCAADAKs0wd0IAAICQHzF3QgAAQPZxMXdCAAAAXMQxd0I=\",\"dtype\":\"float64\",\"shape\":[127]},\"y\":[0.9944315925511179,0.9898318473486883,0.9871737529160225,0.9879731207786646,0.9909413667306475,0.9915465082064858,0.9946223137354124,0.9967037909147167,0.9979386020865314,0.9934056192034189,0.9944759212851118,0.99592794927204,0.9961691617509991,0.9969301601706759,0.9971358976717425,0.9958902199710057,0.9941628915249575,0.9931255075470334,0.9933633510388306,0.994032100212956,0.994688474359967,0.9942027803878379,0.9922106418494722,0.9898164875978024,0.987197833918425,0.9853145617394674,0.9836046426669457,0.9819732775925107,0.9798470389854931,0.9766564879206877,0.9729539467769811,0.9696078326797823,0.9665104789691191,0.9636113947435441,0.9610596188506716,0.9585126958173368,0.9556308351154628,0.9522851555015911,0.9491538036081114,0.9464404471188844,0.9439487048383793,0.9420237466639323,0.940258800232746,0.9382296783763806,0.9359687894513932,0.933447173913058,0.9312433551574293,0.9291951107214425,0.92729667736873,0.9253753520687699,0.9231732416103402,0.9209547388156726,0.9189798622195995,0.9169730031158049,0.9150917132232076,0.9131160743539135,0.9110765084609139,0.9088212477657631,0.9065220214269978,0.9042067728939025,0.9018340114476103,0.8994612819721594,0.8970885321131469,0.8945857132675741,0.8919421368671772,0.8891542856798136,0.8863643767704429,0.8835768591867103,0.8807864010398864,0.8779416987522529,0.8749881786024294,0.8719376935045307,0.8689898101762707,0.8660095449268841,0.8630394684938316,0.8600376029800153,0.8570401188914588,0.8540065155215382,0.8508947024522553,0.8478118690058419,0.8447275988996619,0.8416449443222731,0.8385742203009493,0.8355259648526927,0.8324728271586163,0.8293683451529894,0.8262465535831918,0.8231585041949218,0.8201092523308423,0.8170837592756848,0.8140631580546553,0.8110388571050465,0.807977301797912,0.8049171443078778,0.8018636321406905,0.7987896809369919,0.7957742179589785,0.792764128256589,0.7897475926081354,0.786746272656691,0.7837633054925285,0.7807841531457058,0.7778481099427089,0.7749114666047064,0.7720142545885778,0.7691550857635778,0.7663268635910401,0.7635123450119147,0.7607363340920518,0.7579994108236128,0.7552092551793972,0.7524505518009303,0.7497159874139115,0.7470056992780088,0.7443000682032053,0.7416872429410819,0.7391115953176539,0.7365653107030339,0.7340339717961981,0.7315183395347252,0.7290106421261164]},\"selected\":{\"id\":\"29749\"},\"selection_policy\":{\"id\":\"29748\"}},\"id\":\"29695\",\"type\":\"ColumnDataSource\"},{\"attributes\":{\"data_source\":{\"id\":\"29695\"},\"glyph\":{\"id\":\"29696\"},\"hover_glyph\":null,\"muted_glyph\":null,\"nonselection_glyph\":{\"id\":\"29697\"},\"selection_glyph\":null,\"view\":{\"id\":\"29699\"}},\"id\":\"29698\",\"type\":\"GlyphRenderer\"},{\"attributes\":{\"data\":{\"x\":{\"__ndarray__\":\"AACAdckLd0IAAEDbGwx3QgAAAEFuDHdCAADApsAMd0IAAIAMEw13QgAAQHJlDXdCAAAA2LcNd0IAAMA9Cg53QgAAgKNcDndCAABACa8Od0IAAABvAQ93QgAAwNRTD3dCAACAOqYPd0IAAECg+A93QgAAAAZLEHdCAADAa50Qd0IAAIDR7xB3QgAAQDdCEXdCAAAAnZQRd0IAAMAC5xF3QgAAgGg5EndCAABAzosSd0IAAAA03hJ3QgAAwJkwE3dCAACA/4ITd0IAAEBl1RN3QgAAAMsnFHdCAADAMHoUd0IAAICWzBR3QgAAQPweFXdCAAAAYnEVd0IAAMDHwxV3QgAAgC0WFndCAABAk2gWd0IAAAD5uhZ3QgAAwF4NF3dCAACAxF8Xd0IAAEAqshd3QgAAAJAEGHdCAADA9VYYd0IAAIBbqRh3QgAAQMH7GHdCAAAAJ04Zd0IAAMCMoBl3QgAAgPLyGXdCAABAWEUad0IAAAC+lxp3QgAAwCPqGndCAACAiTwbd0IAAEDvjht3QgAAAFXhG3dCAADAujMcd0IAAIAghhx3QgAAQIbYHHdCAAAA7Codd0IAAMBRfR13QgAAgLfPHXdCAABAHSIed0IAAACDdB53QgAAwOjGHndCAACAThkfd0IAAEC0ax93QgAAABq+H3dCAADAfxAgd0IAAIDlYiB3QgAAQEu1IHdCAAAAsQchd0IAAMAWWiF3QgAAgHysIXdCAABA4v4hd0IAAABIUSJ3QgAAwK2jIndCAACAE/Yid0IAAEB5SCN3QgAAAN+aI3dCAADARO0jd0IAAICqPyR3QgAAQBCSJHdCAAAAduQkd0IAAMDbNiV3QgAAgEGJJXdCAABAp9sld0IAAAANLiZ3QgAAwHKAJndCAACA2NImd0IAAEA+JSd3QgAAAKR3J3dCAADACcond0IAAIBvHCh3QgAAQNVuKHdCAAAAO8Eod0IAAMCgEyl3QgAAgAZmKXdCAABAbLgpd0IAAADSCip3QgAAwDddKndCAACAna8qd0IAAEADAit3QgAAAGlUK3dCAADAzqYrd0IAAIA0+St3QgAAQJpLLHdCAAAAAJ4sd0IAAMBl8Cx3QgAAgMtCLXdCAABAMZUtd0IAAACX5y13QgAAwPw5LndCAACAYowud0IAAEDI3i53QgAAAC4xL3dCAADAk4Mvd0IAAID51S93QgAAQF8oMHdCAAAAxXowd0IAAMAqzTB3QgAAgJAfMXdCAABA9nExd0IAAABcxDF3QgAAwMEWMndCAACAJ2kyd0IAAECNuzJ3QgAAAPMNM3dCAADAWGAzd0IAAIC+sjN3QgAAQCQFNHdCAAAAilc0d0I=\",\"dtype\":\"float64\",\"shape\":[127]},\"y\":[5383.6596092904065,11586.586976529454,6256.115115649222,2921.658124836654,2995.3696834950824,2438.049970074125,3280.8262087779594,4171.791660983626,4628.839818312201,5780.657588128703,6402.286367116678,8338.126960653863,13438.041684871727,15673.024214700494,13988.73415496513,13983.069050433938,13643.268016949949,13280.422296375873,14541.035426240474,15948.31868212823,16919.447900144303,17624.14409613583,18427.57334674624,19024.31686659782,19595.446211927356,20492.703154545885,21108.5383707799,20826.538772937543,20749.062497024675,20941.22539593412,21105.43169556148,21602.86770287848,22532.032375414285,23553.98317175984,24188.844519767543,25240.951466661896,26808.0719035675,28665.271023131954,30936.49184458559,33695.962544052265,34834.49868458522,34064.377627766225,33887.82027534752,34098.426117585965,33838.70772885899,34120.71784750253,34013.01934670106,33912.26043688998,32554.455468747023,32205.915752532,32344.579720552705,32404.129983801267,32285.390477842815,32204.853289620547,32787.837743913165,32806.5573498251,32829.535005267986,33128.684259480826,33957.756442907164,35239.37223176212,36228.026855982396,36193.92159191195,34944.57172641624,34525.59559431845,34290.856415843744,34014.02741872075,34256.298341342124,35176.15740591003,36767.556446592695,35628.519323998466,34959.908708032715,35175.56304992349,36291.63567847923,36623.77439868876,36215.77365308548,35420.11882097668,34541.41659772791,34133.82886880968,33922.29753387945,33996.16777848686,34203.53529120357,34344.359642770425,34376.56052032992,34402.71447145229,34395.08631828215,34639.58687636816,35049.515930923386,35818.66126514765,36753.582348162876,37068.83604223238,35975.02534544718,35940.17360065014,36254.82556907301,37532.14911399668,37416.92357068681,37867.42164332909,40116.05744946298,37720.211275745474,35983.209634172876,35363.48992105854,35180.62730219532,35252.09386316814,35327.25790264103,35385.09970192637,35305.8909468437,35283.93612344877,35258.455485397484,34999.571817581,34896.990949696614,34867.217490531155,34845.00086747922,34811.32065938844,34780.59104572038]},\"selected\":{\"id\":\"30418\"},\"selection_policy\":{\"id\":\"30417\"}},\"id\":\"30068\",\"type\":\"ColumnDataSource\"},{\"attributes\":{\"fill_alpha\":{\"value\":0.1},\"fill_color\":{\"value\":\"white\"},\"line_alpha\":{\"value\":0.1},\"line_color\":{\"value\":\"darkviolet\"},\"size\":{\"units\":\"screen\",\"value\":5},\"x\":{\"field\":\"x\"},\"y\":{\"field\":\"y\"}},\"id\":\"30070\",\"type\":\"Circle\"},{\"attributes\":{\"data_source\":{\"id\":\"30068\"},\"glyph\":{\"id\":\"30069\"},\"hover_glyph\":null,\"muted_glyph\":null,\"nonselection_glyph\":{\"id\":\"30070\"},\"selection_glyph\":null,\"view\":{\"id\":\"30072\"}},\"id\":\"30071\",\"type\":\"GlyphRenderer\"},{\"attributes\":{\"line_alpha\":0.1,\"line_color\":\"blue\",\"line_width\":4,\"x\":{\"field\":\"x\"},\"y\":{\"field\":\"y\"}},\"id\":\"29697\",\"type\":\"Line\"},{\"attributes\":{\"line_color\":\"blue\",\"line_width\":4,\"x\":{\"field\":\"x\"},\"y\":{\"field\":\"y\"}},\"id\":\"29696\",\"type\":\"Line\"},{\"attributes\":{},\"id\":\"30066\",\"type\":\"Selection\"},{\"attributes\":{\"fill_color\":{\"value\":\"white\"},\"line_color\":{\"value\":\"blue\"},\"size\":{\"units\":\"screen\",\"value\":5},\"x\":{\"field\":\"x\"},\"y\":{\"field\":\"y\"}},\"id\":\"29721\",\"type\":\"Circle\"},{\"attributes\":{},\"id\":\"29681\",\"type\":\"PanTool\"},{\"attributes\":{},\"id\":\"29682\",\"type\":\"WheelZoomTool\"},{\"attributes\":{\"overlay\":{\"id\":\"29687\"}},\"id\":\"29683\",\"type\":\"BoxZoomTool\"},{\"attributes\":{},\"id\":\"29684\",\"type\":\"SaveTool\"},{\"attributes\":{\"source\":{\"id\":\"30068\"}},\"id\":\"30072\",\"type\":\"CDSView\"},{\"attributes\":{},\"id\":\"29685\",\"type\":\"ResetTool\"},{\"attributes\":{\"callback\":null,\"formatters\":{\"@x\":\"datetime\"},\"mode\":\"vline\",\"tooltips\":[[\"date\",\"@x{%d %B}\"],[\"total deaths max/UP/DOWN\",\"@y{0[.]000}\"]]},\"id\":\"30077\",\"type\":\"HoverTool\"},{\"attributes\":{\"days\":[\"%d %B\"]},\"id\":\"30073\",\"type\":\"DatetimeTickFormatter\"},{\"attributes\":{},\"id\":\"29686\",\"type\":\"HelpTool\"},{\"attributes\":{\"line_color\":\"blue\",\"line_width\":4,\"x\":{\"field\":\"x\"},\"y\":{\"field\":\"y\"}},\"id\":\"30113\",\"type\":\"Line\"},{\"attributes\":{\"below\":[{\"id\":\"30192\"}],\"center\":[{\"id\":\"30195\"},{\"id\":\"30199\"},{\"id\":\"30237\"}],\"left\":[{\"id\":\"30196\"}],\"plot_height\":350,\"plot_width\":470,\"renderers\":[{\"id\":\"30217\"},{\"id\":\"30242\"},{\"id\":\"30247\"},{\"id\":\"30275\"}],\"title\":{\"id\":\"30182\"},\"toolbar\":{\"id\":\"30207\"},\"toolbar_location\":null,\"x_range\":{\"id\":\"30184\"},\"x_scale\":{\"id\":\"30188\"},\"y_range\":{\"id\":\"30186\"},\"y_scale\":{\"id\":\"30190\"}},\"id\":\"30181\",\"subtype\":\"Figure\",\"type\":\"Plot\"},{\"attributes\":{\"active_drag\":\"auto\",\"active_inspect\":\"auto\",\"active_multi\":null,\"active_scroll\":\"auto\",\"active_tap\":\"auto\",\"tools\":[{\"id\":\"29681\"},{\"id\":\"29682\"},{\"id\":\"29683\"},{\"id\":\"29684\"},{\"id\":\"29685\"},{\"id\":\"29686\"},{\"id\":\"29799\"}]},\"id\":\"29688\",\"type\":\"Toolbar\"},{\"attributes\":{\"items\":[{\"id\":\"29719\"},{\"id\":\"29752\"},{\"id\":\"29789\"}],\"location\":\"bottom_left\"},\"id\":\"29718\",\"type\":\"Legend\"},{\"attributes\":{\"use_scientific\":false},\"id\":\"30075\",\"type\":\"BasicTickFormatter\"},{\"attributes\":{\"text\":\"New Positive - Gamma Distribution Fitting: Italy\"},\"id\":\"30080\",\"type\":\"Title\"},{\"attributes\":{\"source\":{\"id\":\"30112\"}},\"id\":\"30116\",\"type\":\"CDSView\"},{\"attributes\":{},\"id\":\"30082\",\"type\":\"DataRange1d\"},{\"attributes\":{},\"id\":\"30086\",\"type\":\"LinearScale\"},{\"attributes\":{\"label\":{\"value\":\"new positive\"},\"renderers\":[{\"id\":\"30115\"}]},\"id\":\"30136\",\"type\":\"LegendItem\"},{\"attributes\":{\"label\":{\"value\":\"R_squared_cases\"},\"renderers\":[{\"id\":\"29698\"}]},\"id\":\"29719\",\"type\":\"LegendItem\"},{\"attributes\":{},\"id\":\"30084\",\"type\":\"DataRange1d\"},{\"attributes\":{\"source\":{\"id\":\"29695\"}},\"id\":\"29699\",\"type\":\"CDSView\"},{\"attributes\":{\"days\":[1,4,7,10,13,16,19,22,25,28]},\"id\":\"29849\",\"type\":\"DaysTicker\"},{\"attributes\":{},\"id\":\"30165\",\"type\":\"UnionRenderers\"},{\"attributes\":{\"text\":\"New Deaths - Gamma Distribution Fitting: Italy\"},\"id\":\"30182\",\"type\":\"Title\"},{\"attributes\":{\"line_alpha\":0.1,\"line_color\":\"lightcoral\",\"line_width\":4,\"x\":{\"field\":\"x\"},\"y\":{\"field\":\"y\"}},\"id\":\"30144\",\"type\":\"Line\"},{\"attributes\":{\"days\":[\"%d %B\"]},\"id\":\"30175\",\"type\":\"DatetimeTickFormatter\"},{\"attributes\":{\"days\":[1,8,15,22]},\"id\":\"29850\",\"type\":\"DaysTicker\"},{\"attributes\":{\"data_source\":{\"id\":\"30142\"},\"glyph\":{\"id\":\"30143\"},\"hover_glyph\":null,\"muted_glyph\":null,\"nonselection_glyph\":{\"id\":\"30144\"},\"selection_glyph\":null,\"view\":{\"id\":\"30146\"}},\"id\":\"30145\",\"type\":\"GlyphRenderer\"},{\"attributes\":{\"days\":[1,15]},\"id\":\"29851\",\"type\":\"DaysTicker\"},{\"attributes\":{\"months\":[0,1,2,3,4,5,6,7,8,9,10,11]},\"id\":\"29852\",\"type\":\"MonthsTicker\"},{\"attributes\":{\"source\":{\"id\":\"30142\"}},\"id\":\"30146\",\"type\":\"CDSView\"},{\"attributes\":{\"months\":[0,2,4,6,8,10]},\"id\":\"29853\",\"type\":\"MonthsTicker\"},{\"attributes\":{\"fill_color\":{\"value\":\"white\"},\"line_color\":{\"value\":\"lightcoral\"},\"size\":{\"units\":\"screen\",\"value\":5},\"x\":{\"field\":\"x\"},\"y\":{\"field\":\"y\"}},\"id\":\"30171\",\"type\":\"Circle\"},{\"attributes\":{\"months\":[0,4,8]},\"id\":\"29854\",\"type\":\"MonthsTicker\"},{\"attributes\":{\"data_source\":{\"id\":\"30170\"},\"glyph\":{\"id\":\"30171\"},\"hover_glyph\":null,\"muted_glyph\":null,\"nonselection_glyph\":{\"id\":\"30172\"},\"selection_glyph\":null,\"view\":{\"id\":\"30174\"}},\"id\":\"30173\",\"type\":\"GlyphRenderer\"},{\"attributes\":{\"months\":[0,6]},\"id\":\"29855\",\"type\":\"MonthsTicker\"},{\"attributes\":{},\"id\":\"30167\",\"type\":\"UnionRenderers\"},{\"attributes\":{\"fill_color\":{\"value\":\"white\"},\"line_color\":{\"value\":\"blue\"},\"size\":{\"units\":\"screen\",\"value\":5},\"x\":{\"field\":\"x\"},\"y\":{\"field\":\"y\"}},\"id\":\"29930\",\"type\":\"Circle\"},{\"attributes\":{},\"id\":\"29856\",\"type\":\"YearsTicker\"},{\"attributes\":{},\"id\":\"30166\",\"type\":\"Selection\"},{\"attributes\":{\"line_alpha\":0.1,\"line_color\":\"darkviolet\",\"line_width\":4,\"x\":{\"field\":\"x\"},\"y\":{\"field\":\"y\"}},\"id\":\"30216\",\"type\":\"Line\"},{\"attributes\":{},\"id\":\"29887\",\"type\":\"UnionRenderers\"},{\"attributes\":{\"data\":{\"x\":{\"__ndarray__\":\"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\",\"dtype\":\"float64\",\"shape\":[254]},\"y\":{\"__ndarray__\":\"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\",\"dtype\":\"float64\",\"shape\":[254]}},\"selected\":{\"id\":\"30443\"},\"selection_policy\":{\"id\":\"30442\"}},\"id\":\"30170\",\"type\":\"ColumnDataSource\"},{\"attributes\":{\"source\":{\"id\":\"29864\"}},\"id\":\"29868\",\"type\":\"CDSView\"},{\"attributes\":{},\"id\":\"30168\",\"type\":\"Selection\"},{\"attributes\":{\"data_source\":{\"id\":\"29864\"},\"glyph\":{\"id\":\"29865\"},\"hover_glyph\":null,\"muted_glyph\":null,\"nonselection_glyph\":{\"id\":\"29866\"},\"selection_glyph\":null,\"view\":{\"id\":\"29868\"}},\"id\":\"29867\",\"type\":\"GlyphRenderer\"},{\"attributes\":{\"label\":{\"value\":\"total cases max DOWN\"},\"renderers\":[{\"id\":\"29867\"}]},\"id\":\"29891\",\"type\":\"LegendItem\"},{\"attributes\":{\"fill_alpha\":{\"value\":0.1},\"fill_color\":{\"value\":\"white\"},\"line_alpha\":{\"value\":0.1},\"line_color\":{\"value\":\"lightcoral\"},\"size\":{\"units\":\"screen\",\"value\":5},\"x\":{\"field\":\"x\"},\"y\":{\"field\":\"y\"}},\"id\":\"30172\",\"type\":\"Circle\"},{\"attributes\":{\"data_source\":{\"id\":\"29892\"},\"glyph\":{\"id\":\"29893\"},\"hover_glyph\":null,\"muted_glyph\":null,\"nonselection_glyph\":{\"id\":\"29894\"},\"selection_glyph\":null,\"view\":{\"id\":\"29896\"}},\"id\":\"29895\",\"type\":\"GlyphRenderer\"},{\"attributes\":{\"use_scientific\":false},\"id\":\"30177\",\"type\":\"BasicTickFormatter\"},{\"attributes\":{},\"id\":\"29889\",\"type\":\"UnionRenderers\"},{\"attributes\":{},\"id\":\"29888\",\"type\":\"Selection\"},{\"attributes\":{\"source\":{\"id\":\"30170\"}},\"id\":\"30174\",\"type\":\"CDSView\"},{\"attributes\":{\"callback\":null,\"formatters\":{\"@x\":\"datetime\"},\"mode\":\"vline\",\"tooltips\":[[\"date\",\"@x{%d %B}\"],[\"new positive/fitting\",\"@y{0[.]000}\"]]},\"id\":\"30179\",\"type\":\"HoverTool\"},{\"attributes\":{\"fill_alpha\":{\"value\":0.1},\"fill_color\":{\"value\":\"white\"},\"line_alpha\":{\"value\":0.1},\"line_color\":{\"value\":\"lightblue\"},\"size\":{\"units\":\"screen\",\"value\":5},\"x\":{\"field\":\"x\"},\"y\":{\"field\":\"y\"}},\"id\":\"29894\",\"type\":\"Circle\"},{\"attributes\":{},\"id\":\"30389\",\"type\":\"Selection\"},{\"attributes\":{},\"id\":\"29890\",\"type\":\"Selection\"},{\"attributes\":{},\"id\":\"30388\",\"type\":\"UnionRenderers\"},{\"attributes\":{},\"id\":\"30184\",\"type\":\"DataRange1d\"},{\"attributes\":{\"fill_color\":{\"value\":\"white\"},\"line_color\":{\"value\":\"lightblue\"},\"size\":{\"units\":\"screen\",\"value\":5},\"x\":{\"field\":\"x\"},\"y\":{\"field\":\"y\"}},\"id\":\"30032\",\"type\":\"Circle\"},{\"attributes\":{\"line_alpha\":0.1,\"line_color\":\"blue\",\"line_width\":4,\"x\":{\"field\":\"x\"},\"y\":{\"field\":\"y\"}},\"id\":\"29899\",\"type\":\"Line\"},{\"attributes\":{},\"id\":\"30186\",\"type\":\"DataRange1d\"},{\"attributes\":{\"source\":{\"id\":\"29892\"}},\"id\":\"29896\",\"type\":\"CDSView\"},{\"attributes\":{\"line_color\":\"blue\",\"line_width\":4,\"x\":{\"field\":\"x\"},\"y\":{\"field\":\"y\"}},\"id\":\"29898\",\"type\":\"Line\"},{\"attributes\":{},\"id\":\"30188\",\"type\":\"LinearScale\"},{\"attributes\":{},\"id\":\"29924\",\"type\":\"UnionRenderers\"},{\"attributes\":{},\"id\":\"30190\",\"type\":\"LinearScale\"},{\"attributes\":{\"axis_label\":\"Date\",\"formatter\":{\"id\":\"30277\"},\"major_label_orientation\":0.7853981633974483,\"minor_tick_in\":-5,\"minor_tick_out\":-3,\"ticker\":{\"id\":\"30193\"}},\"id\":\"30192\",\"type\":\"DatetimeAxis\"},{\"attributes\":{\"data\":{\"x\":{\"__ndarray__\":\"AACAdckLd0IAAEDbGwx3QgAAAEFuDHdCAADApsAMd0IAAIAMEw13QgAAQHJlDXdCAAAA2LcNd0IAAMA9Cg53QgAAgKNcDndCAABACa8Od0IAAABvAQ93QgAAwNRTD3dCAACAOqYPd0IAAECg+A93QgAAAAZLEHdCAADAa50Qd0IAAIDR7xB3QgAAQDdCEXdCAAAAnZQRd0IAAMAC5xF3QgAAgGg5EndCAABAzosSd0IAAAA03hJ3QgAAwJkwE3dCAACA/4ITd0IAAEBl1RN3QgAAAMsnFHdCAADAMHoUd0IAAICWzBR3QgAAQPweFXdCAAAAYnEVd0IAAMDHwxV3QgAAgC0WFndCAABAk2gWd0IAAAD5uhZ3QgAAwF4NF3dCAACAxF8Xd0IAAEAqshd3QgAAAJAEGHdCAADA9VYYd0IAAIBbqRh3QgAAQMH7GHdCAAAAJ04Zd0IAAMCMoBl3QgAAgPLyGXdCAABAWEUad0IAAAC+lxp3QgAAwCPqGndCAACAiTwbd0IAAEDvjht3QgAAAFXhG3dCAADAujMcd0IAAIAghhx3QgAAQIbYHHdCAAAA7Codd0IAAMBRfR13QgAAgLfPHXdCAABAHSIed0IAAACDdB53QgAAwOjGHndCAACAThkfd0IAAEC0ax93QgAAABq+H3dCAADAfxAgd0IAAIDlYiB3QgAAQEu1IHdCAAAAsQchd0IAAMAWWiF3QgAAgHysIXdCAABA4v4hd0IAAABIUSJ3QgAAwK2jIndCAACAE/Yid0IAAEB5SCN3QgAAAN+aI3dCAADARO0jd0IAAICqPyR3QgAAQBCSJHdCAAAAduQkd0IAAMDbNiV3QgAAgEGJJXdCAABAp9sld0IAAAANLiZ3QgAAwHKAJndCAACA2NImd0IAAEA+JSd3QgAAAKR3J3dCAADACcond0IAAIBvHCh3QgAAQNVuKHdCAAAAO8Eod0IAAMCgEyl3QgAAgAZmKXdCAABAbLgpd0IAAADSCip3QgAAwDddKndCAACAna8qd0IAAEADAit3QgAAAGlUK3dCAADAzqYrd0IAAIA0+St3QgAAQJpLLHdCAAAAAJ4sd0IAAMBl8Cx3QgAAgMtCLXdCAABAMZUtd0IAAACX5y13QgAAwPw5LndCAACAYowud0IAAEDI3i53QgAAAC4xL3dCAADAk4Mvd0IAAID51S93QgAAQF8oMHdCAAAAxXowd0IAAMAqzTB3QgAAgJAfMXdCAABA9nExd0IAAABcxDF3QgAAwMEWMndCAACAJ2kyd0IAAECNuzJ3QgAAAPMNM3dCAADAWGAzd0IAAIC+sjN3QgAAQCQFNHdCAAAAilc0d0I=\",\"dtype\":\"float64\",\"shape\":[127]},\"y\":[56478.01575580371,24583.77912227274,30685.15420726601,46826.59514105012,53329.08700758159,74233.09149450295,87219.86131064052,73027.73630970358,67006.19850587512,69565.84133555055,82774.85701584803,106313.20310471767,142085.23578711355,148049.07947912067,131191.63677368296,121184.83023439659,118656.34219589637,121670.50390297288,126056.67364481365,132205.3849850846,135565.65392889993,134786.44427582872,134521.07871898808,137414.18231022937,142572.83155211608,148841.51245276246,156065.4311300869,161106.08989490973,163925.22306472965,166072.43933577856,170305.34587481103,178897.33718563078,188867.6174918845,203843.22026789814,217070.77896056394,220171.02106567955,221187.8991970876,221517.6819434537,226400.04684802738,232794.07793409855,240131.17995140795,239540.9564782476,229618.50293991837,223751.2540064661,228144.57847383892,235116.51091770307,246422.97525667073,258604.8376873686,258419.75722686347,245503.1550678486,237449.6359037941,233879.287510315,235005.1660143534,235865.82485456162,236741.21876605743,234328.48934527492,230784.96816347417,229640.7293637448,230957.63336201524,231844.9765356494,234049.12234075853,234143.16595075227,233105.14525010553,231137.02262891876,232627.96399807322,234613.10451786793,237387.01319176125,240659.94291903713,243220.109531155,241387.3543733829,238087.60921274056,237117.54579708472,238099.60329364086,239078.28305073266,239641.22938971192,239404.57727575154,238559.76789832977,237906.7451706942,239186.20839485523,239475.5318170175,241194.10367247046,242558.83770657255,243710.25947749708,242415.11928143125,239944.0382130659,239753.00938183177,239275.68860826138,238520.1239621138,239088.67886271284,239421.02457157438,238744.16568075586,238143.47814406638,238573.62316533597,240027.2726336548,244755.79838648348,249781.39043182303,257993.08893654347,270005.00186947174,269427.3286686133,282336.3842731011,468508.6632640779,282427970.1712575,283100.768556297,248328.73275159477,243703.9713623735,242547.56092989797,241519.47842861232,243050.4056246866,252313.88841642998,26788512.793035716,251473808.00753853,578540058.0298903,667726734.056448]},\"selected\":{\"id\":\"30387\"},\"selection_policy\":{\"id\":\"30386\"}},\"id\":\"29897\",\"type\":\"ColumnDataSource\"},{\"attributes\":{\"source\":{\"id\":\"29897\"}},\"id\":\"29901\",\"type\":\"CDSView\"},{\"attributes\":{},\"id\":\"30197\",\"type\":\"BasicTicker\"},{\"attributes\":{\"num_minor_ticks\":5,\"tickers\":[{\"id\":\"30225\"},{\"id\":\"30226\"},{\"id\":\"30227\"},{\"id\":\"30228\"},{\"id\":\"30229\"},{\"id\":\"30230\"},{\"id\":\"30231\"},{\"id\":\"30232\"},{\"id\":\"30233\"},{\"id\":\"30234\"},{\"id\":\"30235\"},{\"id\":\"30236\"}]},\"id\":\"30193\",\"type\":\"DatetimeTicker\"},{\"attributes\":{\"data_source\":{\"id\":\"29897\"},\"glyph\":{\"id\":\"29898\"},\"hover_glyph\":null,\"muted_glyph\":null,\"nonselection_glyph\":{\"id\":\"29899\"},\"selection_glyph\":null,\"view\":{\"id\":\"29901\"}},\"id\":\"29900\",\"type\":\"GlyphRenderer\"},{\"attributes\":{\"axis\":{\"id\":\"30192\"},\"ticker\":null},\"id\":\"30195\",\"type\":\"Grid\"},{\"attributes\":{\"axis\":{\"id\":\"30196\"},\"dimension\":1,\"ticker\":null},\"id\":\"30199\",\"type\":\"Grid\"},{\"attributes\":{\"axis_label\":\"New Deaths\",\"formatter\":{\"id\":\"30279\"},\"minor_tick_in\":-5,\"minor_tick_out\":-3,\"ticker\":{\"id\":\"30197\"}},\"id\":\"30196\",\"type\":\"LinearAxis\"},{\"attributes\":{\"label\":{\"value\":\"total cases max\"},\"renderers\":[{\"id\":\"29900\"}]},\"id\":\"29928\",\"type\":\"LegendItem\"},{\"attributes\":{\"line_alpha\":0.1,\"line_color\":\"lightcoral\",\"line_width\":4,\"x\":{\"field\":\"x\"},\"y\":{\"field\":\"y\"}},\"id\":\"30246\",\"type\":\"Line\"},{\"attributes\":{\"data\":{\"x\":{\"__ndarray__\":\"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\",\"dtype\":\"float64\",\"shape\":[254]},\"y\":[0,3,2,5,4,8,5,18,27,28,41,49,36,133,97,168,196,189,250,175,368,349,345,475,427,627,793,651,601,743,683,662,969,889,756,812,837,727,760,766,681,525,636,604,542,610,570,619,431,566,602,578,525,575,482,433,454,534,437,464,420,415,260,333,382,323,285,269,474,174,195,236,369,274,243,194,165,179,172,195,262,242,153,145,99,162,161,156,130,119,50,92,78,117,70,87,111,75,60,55,71,88,85,72,53,65,79,71,53,56,78,44,26,34,43,66,47,49,24,23,18,-31,34,30,8,22,6]},\"selected\":{\"id\":\"30268\"},\"selection_policy\":{\"id\":\"30267\"}},\"id\":\"30214\",\"type\":\"ColumnDataSource\"},{\"attributes\":{},\"id\":\"29926\",\"type\":\"UnionRenderers\"},{\"attributes\":{},\"id\":\"29925\",\"type\":\"Selection\"},{\"attributes\":{},\"id\":\"29927\",\"type\":\"Selection\"},{\"attributes\":{\"data_source\":{\"id\":\"30244\"},\"glyph\":{\"id\":\"30245\"},\"hover_glyph\":null,\"muted_glyph\":null,\"nonselection_glyph\":{\"id\":\"30246\"},\"selection_glyph\":null,\"view\":{\"id\":\"30248\"}},\"id\":\"30247\",\"type\":\"GlyphRenderer\"},{\"attributes\":{\"callback\":null,\"formatters\":{\"@x\":\"datetime\"},\"mode\":\"vline\",\"tooltips\":[[\"date\",\"@x{%d %B}\"],[\"total cases OR total positive\",\"@y{0[.]000}\"]]},\"id\":\"29558\",\"type\":\"HoverTool\"},{\"attributes\":{\"base\":60,\"mantissas\":[1,2,5,10,15,20,30],\"max_interval\":1800000.0,\"min_interval\":1000.0,\"num_minor_ticks\":0},\"id\":\"29707\",\"type\":\"AdaptiveTicker\"},{\"attributes\":{\"num_minor_ticks\":5,\"tickers\":[{\"id\":\"30123\"},{\"id\":\"30124\"},{\"id\":\"30125\"},{\"id\":\"30126\"},{\"id\":\"30127\"},{\"id\":\"30128\"},{\"id\":\"30129\"},{\"id\":\"30130\"},{\"id\":\"30131\"},{\"id\":\"30132\"},{\"id\":\"30133\"},{\"id\":\"30134\"}]},\"id\":\"30091\",\"type\":\"DatetimeTicker\"},{\"attributes\":{\"base\":24,\"mantissas\":[1,2,4,6,8,12],\"max_interval\":43200000.0,\"min_interval\":3600000.0,\"num_minor_ticks\":0},\"id\":\"29708\",\"type\":\"AdaptiveTicker\"},{\"attributes\":{\"below\":[{\"id\":\"29673\"}],\"center\":[{\"id\":\"29676\"},{\"id\":\"29680\"},{\"id\":\"29718\"}],\"left\":[{\"id\":\"29677\"}],\"plot_height\":350,\"plot_width\":470,\"renderers\":[{\"id\":\"29698\"},{\"id\":\"29723\"},{\"id\":\"29728\"},{\"id\":\"29756\"},{\"id\":\"29761\"},{\"id\":\"29793\"}],\"title\":{\"id\":\"29663\"},\"toolbar\":{\"id\":\"29688\"},\"toolbar_location\":null,\"x_range\":{\"id\":\"29665\"},\"x_scale\":{\"id\":\"29669\"},\"y_range\":{\"id\":\"29667\"},\"y_scale\":{\"id\":\"29671\"}},\"id\":\"29662\",\"subtype\":\"Figure\",\"type\":\"Plot\"},{\"attributes\":{\"axis_label\":\"Date\",\"formatter\":{\"id\":\"30175\"},\"major_label_orientation\":0.7853981633974483,\"minor_tick_in\":-5,\"minor_tick_out\":-3,\"ticker\":{\"id\":\"30091\"}},\"id\":\"30090\",\"type\":\"DatetimeAxis\"},{\"attributes\":{\"text\":\"Deaths & Recovered: Italy\"},\"id\":\"29561\",\"type\":\"Title\"},{\"attributes\":{\"bottom_units\":\"screen\",\"fill_alpha\":0.5,\"fill_color\":\"lightgrey\",\"left_units\":\"screen\",\"level\":\"overlay\",\"line_alpha\":1.0,\"line_color\":\"black\",\"line_dash\":[4,4],\"line_width\":2,\"render_mode\":\"css\",\"right_units\":\"screen\",\"top_units\":\"screen\"},\"id\":\"29687\",\"type\":\"BoxAnnotation\"},{\"attributes\":{},\"id\":\"29563\",\"type\":\"DataRange1d\"},{\"attributes\":{},\"id\":\"30095\",\"type\":\"BasicTicker\"},{\"attributes\":{\"axis\":{\"id\":\"30090\"},\"ticker\":null},\"id\":\"30093\",\"type\":\"Grid\"},{\"attributes\":{\"mantissas\":[1,2,5],\"max_interval\":500.0,\"num_minor_ticks\":0},\"id\":\"29706\",\"type\":\"AdaptiveTicker\"},{\"attributes\":{\"axis\":{\"id\":\"30094\"},\"dimension\":1,\"ticker\":null},\"id\":\"30097\",\"type\":\"Grid\"},{\"attributes\":{\"axis_label\":\"New Positive\",\"formatter\":{\"id\":\"30177\"},\"minor_tick_in\":-5,\"minor_tick_out\":-3,\"ticker\":{\"id\":\"30095\"}},\"id\":\"30094\",\"type\":\"LinearAxis\"},{\"attributes\":{\"days\":[1,2,3,4,5,6,7,8,9,10,11,12,13,14,15,16,17,18,19,20,21,22,23,24,25,26,27,28,29,30,31]},\"id\":\"29709\",\"type\":\"DaysTicker\"},{\"attributes\":{},\"id\":\"29565\",\"type\":\"DataRange1d\"},{\"attributes\":{\"months\":[0,6]},\"id\":\"30133\",\"type\":\"MonthsTicker\"},{\"attributes\":{},\"id\":\"29567\",\"type\":\"LinearScale\"},{\"attributes\":{},\"id\":\"29569\",\"type\":\"LinearScale\"},{\"attributes\":{\"fill_alpha\":{\"value\":0.1},\"fill_color\":{\"value\":\"white\"},\"line_alpha\":{\"value\":0.1},\"line_color\":{\"value\":\"blue\"},\"size\":{\"units\":\"screen\",\"value\":5},\"x\":{\"field\":\"x\"},\"y\":{\"field\":\"y\"}},\"id\":\"30139\",\"type\":\"Circle\"},{\"attributes\":{\"days\":[1,4,7,10,13,16,19,22,25,28]},\"id\":\"29710\",\"type\":\"DaysTicker\"},{\"attributes\":{\"line_color\":\"lightcoral\",\"line_width\":4,\"x\":{\"field\":\"x\"},\"y\":{\"field\":\"y\"}},\"id\":\"30143\",\"type\":\"Line\"},{\"attributes\":{\"active_drag\":\"auto\",\"active_inspect\":\"auto\",\"active_multi\":null,\"active_scroll\":\"auto\",\"active_tap\":\"auto\",\"tools\":[{\"id\":\"30098\"},{\"id\":\"30099\"},{\"id\":\"30100\"},{\"id\":\"30101\"},{\"id\":\"30102\"},{\"id\":\"30103\"},{\"id\":\"30179\"}]},\"id\":\"30105\",\"type\":\"Toolbar\"},{\"attributes\":{\"axis_label\":\"Date\",\"formatter\":{\"id\":\"29656\"},\"major_label_orientation\":0.7853981633974483,\"minor_tick_in\":-5,\"minor_tick_out\":-3,\"ticker\":{\"id\":\"29572\"}},\"id\":\"29571\",\"type\":\"DatetimeAxis\"},{\"attributes\":{\"days\":[1,8,15,22]},\"id\":\"29711\",\"type\":\"DaysTicker\"},{\"attributes\":{},\"id\":\"29576\",\"type\":\"BasicTicker\"},{\"attributes\":{\"num_minor_ticks\":5,\"tickers\":[{\"id\":\"29604\"},{\"id\":\"29605\"},{\"id\":\"29606\"},{\"id\":\"29607\"},{\"id\":\"29608\"},{\"id\":\"29609\"},{\"id\":\"29610\"},{\"id\":\"29611\"},{\"id\":\"29612\"},{\"id\":\"29613\"},{\"id\":\"29614\"},{\"id\":\"29615\"}]},\"id\":\"29572\",\"type\":\"DatetimeTicker\"},{\"attributes\":{\"days\":[1,15]},\"id\":\"29712\",\"type\":\"DaysTicker\"},{\"attributes\":{},\"id\":\"30098\",\"type\":\"PanTool\"},{\"attributes\":{\"axis\":{\"id\":\"29571\"},\"ticker\":null},\"id\":\"29574\",\"type\":\"Grid\"},{\"attributes\":{\"months\":[0,1,2,3,4,5,6,7,8,9,10,11]},\"id\":\"29713\",\"type\":\"MonthsTicker\"},{\"attributes\":{},\"id\":\"30099\",\"type\":\"WheelZoomTool\"},{\"attributes\":{\"axis\":{\"id\":\"29575\"},\"dimension\":1,\"ticker\":null},\"id\":\"29578\",\"type\":\"Grid\"},{\"attributes\":{\"months\":[0,2,4,6,8,10]},\"id\":\"29714\",\"type\":\"MonthsTicker\"},{\"attributes\":{\"overlay\":{\"id\":\"30104\"}},\"id\":\"30100\",\"type\":\"BoxZoomTool\"},{\"attributes\":{\"axis_label\":\"Deaths & Recovered\",\"formatter\":{\"id\":\"29658\"},\"minor_tick_in\":-5,\"minor_tick_out\":-3,\"ticker\":{\"id\":\"29576\"}},\"id\":\"29575\",\"type\":\"LinearAxis\"},{\"attributes\":{\"months\":[0,4,8]},\"id\":\"29715\",\"type\":\"MonthsTicker\"},{\"attributes\":{},\"id\":\"30101\",\"type\":\"SaveTool\"},{\"attributes\":{\"data\":{\"x\":{\"__ndarray__\":\"AAAA5UcHd0IAAMBKmgd3QgAAgLDsB3dCAABAFj8Id0IAAAB8kQh3QgAAwOHjCHdCAACARzYJd0IAAECtiAl3QgAAABPbCXdCAADAeC0Kd0IAAIDefwp3QgAAQETSCndCAAAAqiQLd0IAAMAPdwt3QgAAgHXJC3dCAABA2xsMd0IAAABBbgx3QgAAwKbADHdCAACADBMNd0IAAEByZQ13QgAAANi3DXdCAADAPQoOd0IAAICjXA53QgAAQAmvDndCAAAAbwEPd0IAAMDUUw93QgAAgDqmD3dCAABAoPgPd0IAAAAGSxB3QgAAwGudEHdCAACA0e8Qd0IAAEA3QhF3QgAAAJ2UEXdCAADAAucRd0IAAIBoORJ3QgAAQM6LEndCAAAANN4Sd0IAAMCZMBN3QgAAgP+CE3dCAABAZdUTd0IAAADLJxR3QgAAwDB6FHdCAACAlswUd0IAAED8HhV3QgAAAGJxFXdCAADAx8MVd0IAAIAtFhZ3QgAAQJNoFndCAAAA+boWd0IAAMBeDRd3QgAAgMRfF3dCAABAKrIXd0IAAACQBBh3QgAAwPVWGHdCAACAW6kYd0IAAEDB+xh3QgAAACdOGXdCAADAjKAZd0IAAIDy8hl3QgAAQFhFGndCAAAAvpcad0IAAMAj6hp3QgAAgIk8G3dCAABA744bd0IAAABV4Rt3QgAAwLozHHdCAACAIIYcd0IAAECG2Bx3QgAAAOwqHXdCAADAUX0dd0IAAIC3zx13QgAAQB0iHndCAAAAg3Qed0IAAMDoxh53QgAAgE4ZH3dCAABAtGsfd0IAAAAavh93QgAAwH8QIHdCAACA5WIgd0IAAEBLtSB3QgAAALEHIXdCAADAFlohd0IAAIB8rCF3QgAAQOL+IXdCAAAASFEid0IAAMCtoyJ3QgAAgBP2IndCAABAeUgjd0IAAADfmiN3QgAAwETtI3dCAACAqj8kd0IAAEAQkiR3QgAAAHbkJHdCAADA2zYld0IAAIBBiSV3QgAAQKfbJXdCAAAADS4md0IAAMBygCZ3QgAAgNjSJndCAABAPiUnd0IAAACkdyd3QgAAwAnKJ3dCAACAbxwod0IAAEDVbih3QgAAADvBKHdCAADAoBMpd0IAAIAGZil3QgAAQGy4KXdCAAAA0goqd0IAAMA3XSp3QgAAgJ2vKndCAABAAwIrd0IAAABpVCt3QgAAwM6mK3dCAACANPkrd0IAAECaSyx3QgAAAACeLHdCAADAZfAsd0IAAIDLQi13QgAAQDGVLXdCAAAAl+ctd0IAAMD8OS53QgAAgGKMLndCAABAyN4ud0IAAAAuMS93QgAAwJODL3dCAACA+dUvd0I=\",\"dtype\":\"float64\",\"shape\":[127]},\"y\":[7,10,12,17,21,29,34,52,79,107,148,197,233,366,463,631,827,1016,1266,1441,1809,2158,2503,2978,3405,4032,4825,5476,6077,6820,7503,8165,9134,10023,10779,11591,12428,13155,13915,14681,15362,15887,16523,17127,17669,18279,18849,19468,19899,20465,21067,21645,22170,22745,23227,23660,24114,24648,25085,25549,25969,26384,26644,26977,27359,27682,27967,28236,28710,28884,29079,29315,29684,29958,30201,30395,30560,30739,30911,31106,31368,31610,31763,31908,32007,32169,32330,32486,32616,32735,32785,32877,32955,33072,33142,33229,33340,33415,33475,33530,33601,33689,33774,33846,33899,33964,34043,34114,34167,34223,34301,34345,34371,34405,34448,34514,34561,34610,34634,34657,34675,34644,34678,34708,34716,34738,34744]},\"selected\":{\"id\":\"29647\"},\"selection_policy\":{\"id\":\"29646\"}},\"id\":\"29593\",\"type\":\"ColumnDataSource\"},{\"attributes\":{\"months\":[0,6]},\"id\":\"29716\",\"type\":\"MonthsTicker\"},{\"attributes\":{},\"id\":\"30102\",\"type\":\"ResetTool\"},{\"attributes\":{\"line_alpha\":0.1,\"line_color\":\"darkviolet\",\"line_width\":4,\"x\":{\"field\":\"x\"},\"y\":{\"field\":\"y\"}},\"id\":\"29595\",\"type\":\"Line\"},{\"attributes\":{},\"id\":\"29717\",\"type\":\"YearsTicker\"},{\"attributes\":{\"data_source\":{\"id\":\"29593\"},\"glyph\":{\"id\":\"29594\"},\"hover_glyph\":null,\"muted_glyph\":null,\"nonselection_glyph\":{\"id\":\"29595\"},\"selection_glyph\":null,\"view\":{\"id\":\"29597\"}},\"id\":\"29596\",\"type\":\"GlyphRenderer\"},{\"attributes\":{\"data\":{\"x\":{\"__ndarray__\":\"AACARzYJd0IAAECtiAl3QgAAABPbCXdCAADAeC0Kd0IAAIDefwp3QgAAQETSCndCAAAAqiQLd0IAAMAPdwt3QgAAgHXJC3dCAABA2xsMd0IAAABBbgx3QgAAwKbADHdCAACADBMNd0IAAEByZQ13QgAAANi3DXdCAADAPQoOd0IAAICjXA53QgAAQAmvDndCAAAAbwEPd0IAAMDUUw93QgAAgDqmD3dCAABAoPgPd0IAAAAGSxB3QgAAwGudEHdCAACA0e8Qd0IAAEA3QhF3QgAAAJ2UEXdCAADAAucRd0IAAIBoORJ3QgAAQM6LEndCAAAANN4Sd0IAAMCZMBN3QgAAgP+CE3dCAABAZdUTd0IAAADLJxR3QgAAwDB6FHdCAACAlswUd0IAAED8HhV3QgAAAGJxFXdCAADAx8MVd0IAAIAtFhZ3QgAAQJNoFndCAAAA+boWd0IAAMBeDRd3QgAAgMRfF3dCAABAKrIXd0IAAACQBBh3QgAAwPVWGHdCAACAW6kYd0IAAEDB+xh3QgAAACdOGXdCAADAjKAZd0IAAIDy8hl3QgAAQFhFGndCAAAAvpcad0IAAMAj6hp3QgAAgIk8G3dCAABA744bd0IAAABV4Rt3QgAAwLozHHdCAACAIIYcd0IAAECG2Bx3QgAAAOwqHXdCAADAUX0dd0IAAIC3zx13QgAAQB0iHndCAAAAg3Qed0IAAMDoxh53QgAAgE4ZH3dCAABAtGsfd0IAAAAavh93QgAAwH8QIHdCAACA5WIgd0IAAEBLtSB3QgAAALEHIXdCAADAFlohd0IAAIB8rCF3QgAAQOL+IXdCAAAASFEid0IAAMCtoyJ3QgAAgBP2IndCAABAeUgjd0IAAADfmiN3QgAAwETtI3dCAACAqj8kd0IAAEAQkiR3QgAAAHbkJHdCAADA2zYld0IAAIBBiSV3QgAAQKfbJXdCAAAADS4md0IAAMBygCZ3QgAAgNjSJndCAABAPiUnd0IAAACkdyd3QgAAwAnKJ3dCAACAbxwod0IAAEDVbih3QgAAADvBKHdCAADAoBMpd0IAAIAGZil3QgAAQGy4KXdCAAAA0goqd0IAAMA3XSp3QgAAgJ2vKndCAABAAwIrd0IAAABpVCt3QgAAwM6mK3dCAACANPkrd0IAAECaSyx3QgAAAACeLHdCAADAZfAsd0IAAIDLQi13QgAAQDGVLXdCAAAAl+ctd0IAAMD8OS53QgAAgGKMLndCAABAyN4ud0IAAAAuMS93QgAAwJODL3dCAACA+dUvd0IAAEBfKDB3QgAAAMV6MHdCAADAKs0wd0IAAICQHzF3QgAAQPZxMXdCAAAAXMQxd0I=\",\"dtype\":\"float64\",\"shape\":[127]},\"y\":[0.9906384833099334,0.9876702701263628,0.986034206451665,0.9937023701385499,0.9970511977507855,0.9979544752352847,0.9913778365717426,0.9929248433250588,0.9957403179282476,0.9977413133698139,0.9985366218172942,0.9969106059526226,0.996211572251712,0.9909112544567887,0.9925418195655226,0.9932047921984762,0.9924285278783038,0.9930340764201312,0.9923577489344909,0.9932926697800687,0.9948845546297247,0.9950079961757051,0.9935421243409132,0.9923519864209975,0.9905689301056676,0.9882674204511754,0.9878264212632235,0.9873989916144827,0.9860735965572663,0.9845430102319735,0.9830060388504964,0.9809094757488263,0.9787131870741717,0.9765424924030026,0.9740607080719607,0.9707721359330386,0.9675980745847533,0.9644603235650501,0.9611847156868383,0.9581929227609429,0.9553138048152379,0.9527668866041618,0.949832519376967,0.9471741782289388,0.9448856132660635,0.9428262702142188,0.9408090496270258,0.9390094702651643,0.9371368895937208,0.9351084492759572,0.9330557612153584,0.9312289735564631,0.9293543463395025,0.9275386266286831,0.9256884677837561,0.923825484706234,0.9216168769019616,0.9193267564535198,0.9171080210761422,0.9148403674368056,0.9124738376193,0.9100150508583008,0.9079318355263625,0.9055617444260692,0.9030142411545999,0.9004203648795525,0.8980689816751007,0.895753592355098,0.8934258167984068,0.8910112034278967,0.8884835555981856,0.8858991595144673,0.8832672224045979,0.8806489898317053,0.8781735601338101,0.875798568138153,0.8733701733341191,0.8708924136063186,0.868304639054517,0.8657347591288924,0.8631886604807198,0.8606646697392588,0.858127410712821,0.8555693576054788,0.852892171710644,0.8501818039869902,0.8474274701530655,0.844700900642225,0.8419345520946966,0.8391646559956998,0.8364338566397378,0.8336910711516987,0.8309211457595196,0.8281248123000429,0.8253329993158202,0.8225748810114298,0.8198481378354814,0.8171364351895642,0.8144164389141544,0.8117098496622602,0.8090390142962303,0.8063941173576937,0.8037525871249604,0.8011218929019263,0.798534052945386,0.7959443157297019,0.7933324930099895,0.7907137868390863,0.7881034028225027,0.7855332424297904,0.782979060796708,0.780445007608978,0.7779009250870768,0.7753487688829088,0.7727853047065396,0.7701530104253251,0.7675384675221336,0.7649378471200146,0.7623256667632259,0.7597215865677874,0.7571078677633711]},\"selected\":{\"id\":\"29786\"},\"selection_policy\":{\"id\":\"29785\"}},\"id\":\"29725\",\"type\":\"ColumnDataSource\"},{\"attributes\":{},\"id\":\"30103\",\"type\":\"HelpTool\"},{\"attributes\":{\"source\":{\"id\":\"29593\"}},\"id\":\"29597\",\"type\":\"CDSView\"},{\"attributes\":{\"line_color\":\"darkviolet\",\"line_width\":4,\"x\":{\"field\":\"x\"},\"y\":{\"field\":\"y\"}},\"id\":\"29594\",\"type\":\"Line\"},{\"attributes\":{},\"id\":\"29748\",\"type\":\"UnionRenderers\"},{\"attributes\":{\"data\":{\"x\":{\"__ndarray__\":\"AACARzYJd0IAAECtiAl3QgAAABPbCXdCAADAeC0Kd0IAAIDefwp3QgAAQETSCndCAAAAqiQLd0IAAMAPdwt3QgAAgHXJC3dCAABA2xsMd0IAAABBbgx3QgAAwKbADHdCAACADBMNd0IAAEByZQ13QgAAANi3DXdCAADAPQoOd0IAAICjXA53QgAAQAmvDndCAAAAbwEPd0IAAMDUUw93QgAAgDqmD3dCAABAoPgPd0IAAAAGSxB3QgAAwGudEHdCAACA0e8Qd0IAAEA3QhF3QgAAAJ2UEXdCAADAAucRd0IAAIBoORJ3QgAAQM6LEndCAAAANN4Sd0IAAMCZMBN3QgAAgP+CE3dCAABAZdUTd0IAAADLJxR3QgAAwDB6FHdCAACAlswUd0IAAED8HhV3QgAAAGJxFXdCAADAx8MVd0IAAIAtFhZ3QgAAQJNoFndCAAAA+boWd0IAAMBeDRd3QgAAgMRfF3dCAABAKrIXd0IAAACQBBh3QgAAwPVWGHdCAACAW6kYd0IAAEDB+xh3QgAAACdOGXdCAADAjKAZd0IAAIDy8hl3QgAAQFhFGndCAAAAvpcad0IAAMAj6hp3QgAAgIk8G3dCAABA744bd0IAAABV4Rt3QgAAwLozHHdCAACAIIYcd0IAAECG2Bx3QgAAAOwqHXdCAADAUX0dd0IAAIC3zx13QgAAQB0iHndCAAAAg3Qed0IAAMDoxh53QgAAgE4ZH3dCAABAtGsfd0IAAAAavh93QgAAwH8QIHdCAACA5WIgd0IAAEBLtSB3QgAAALEHIXdCAADAFlohd0IAAIB8rCF3QgAAQOL+IXdCAAAASFEid0IAAMCtoyJ3QgAAgBP2IndCAABAeUgjd0IAAADfmiN3QgAAwETtI3dCAACAqj8kd0IAAEAQkiR3QgAAAHbkJHdCAADA2zYld0IAAIBBiSV3QgAAQKfbJXdCAAAADS4md0IAAMBygCZ3QgAAgNjSJndCAABAPiUnd0IAAACkdyd3QgAAwAnKJ3dCAACAbxwod0IAAEDVbih3QgAAADvBKHdCAADAoBMpd0IAAIAGZil3QgAAQGy4KXdCAAAA0goqd0IAAMA3XSp3QgAAgJ2vKndCAABAAwIrd0IAAABpVCt3QgAAwM6mK3dCAACANPkrd0IAAECaSyx3QgAAAACeLHdCAADAZfAsd0IAAIDLQi13QgAAQDGVLXdCAAAAl+ctd0IAAMD8OS53QgAAgGKMLndCAABAyN4ud0IAAAAuMS93QgAAwJODL3dCAACA+dUvd0IAAEBfKDB3QgAAAMV6MHdCAADAKs0wd0IAAICQHzF3QgAAQPZxMXdCAAAAXMQxd0I=\",\"dtype\":\"float64\",\"shape\":[127]},\"y\":[0.9944315925511179,0.9898318473486883,0.9871737529160225,0.9879731207786646,0.9909413667306475,0.9915465082064858,0.9946223137354124,0.9967037909147167,0.9979386020865314,0.9934056192034189,0.9944759212851118,0.99592794927204,0.9961691617509991,0.9969301601706759,0.9971358976717425,0.9958902199710057,0.9941628915249575,0.9931255075470334,0.9933633510388306,0.994032100212956,0.994688474359967,0.9942027803878379,0.9922106418494722,0.9898164875978024,0.987197833918425,0.9853145617394674,0.9836046426669457,0.9819732775925107,0.9798470389854931,0.9766564879206877,0.9729539467769811,0.9696078326797823,0.9665104789691191,0.9636113947435441,0.9610596188506716,0.9585126958173368,0.9556308351154628,0.9522851555015911,0.9491538036081114,0.9464404471188844,0.9439487048383793,0.9420237466639323,0.940258800232746,0.9382296783763806,0.9359687894513932,0.933447173913058,0.9312433551574293,0.9291951107214425,0.92729667736873,0.9253753520687699,0.9231732416103402,0.9209547388156726,0.9189798622195995,0.9169730031158049,0.9150917132232076,0.9131160743539135,0.9110765084609139,0.9088212477657631,0.9065220214269978,0.9042067728939025,0.9018340114476103,0.8994612819721594,0.8970885321131469,0.8945857132675741,0.8919421368671772,0.8891542856798136,0.8863643767704429,0.8835768591867103,0.8807864010398864,0.8779416987522529,0.8749881786024294,0.8719376935045307,0.8689898101762707,0.8660095449268841,0.8630394684938316,0.8600376029800153,0.8570401188914588,0.8540065155215382,0.8508947024522553,0.8478118690058419,0.8447275988996619,0.8416449443222731,0.8385742203009493,0.8355259648526927,0.8324728271586163,0.8293683451529894,0.8262465535831918,0.8231585041949218,0.8201092523308423,0.8170837592756848,0.8140631580546553,0.8110388571050465,0.807977301797912,0.8049171443078778,0.8018636321406905,0.7987896809369919,0.7957742179589785,0.792764128256589,0.7897475926081354,0.786746272656691,0.7837633054925285,0.7807841531457058,0.7778481099427089,0.7749114666047064,0.7720142545885778,0.7691550857635778,0.7663268635910401,0.7635123450119147,0.7607363340920518,0.7579994108236128,0.7552092551793972,0.7524505518009303,0.7497159874139115,0.7470056992780088,0.7443000682032053,0.7416872429410819,0.7391115953176539,0.7365653107030339,0.7340339717961981,0.7315183395347252,0.7290106421261164]},\"selected\":{\"id\":\"29751\"},\"selection_policy\":{\"id\":\"29750\"}},\"id\":\"29720\",\"type\":\"ColumnDataSource\"},{\"attributes\":{},\"id\":\"29579\",\"type\":\"PanTool\"},{\"attributes\":{\"fill_alpha\":{\"value\":0.1},\"fill_color\":{\"value\":\"white\"},\"line_alpha\":{\"value\":0.1},\"line_color\":{\"value\":\"blue\"},\"size\":{\"units\":\"screen\",\"value\":5},\"x\":{\"field\":\"x\"},\"y\":{\"field\":\"y\"}},\"id\":\"29722\",\"type\":\"Circle\"},{\"attributes\":{\"days\":[1,8,15,22]},\"id\":\"30128\",\"type\":\"DaysTicker\"},{\"attributes\":{},\"id\":\"29580\",\"type\":\"WheelZoomTool\"},{\"attributes\":{\"source\":{\"id\":\"29725\"}},\"id\":\"29729\",\"type\":\"CDSView\"},{\"attributes\":{\"months\":[0,4,8]},\"id\":\"30132\",\"type\":\"MonthsTicker\"},{\"attributes\":{\"days\":[1,4,7,10,13,16,19,22,25,28]},\"id\":\"30127\",\"type\":\"DaysTicker\"},{\"attributes\":{\"overlay\":{\"id\":\"29585\"}},\"id\":\"29581\",\"type\":\"BoxZoomTool\"},{\"attributes\":{\"data_source\":{\"id\":\"29720\"},\"glyph\":{\"id\":\"29721\"},\"hover_glyph\":null,\"muted_glyph\":null,\"nonselection_glyph\":{\"id\":\"29722\"},\"selection_glyph\":null,\"view\":{\"id\":\"29724\"}},\"id\":\"29723\",\"type\":\"GlyphRenderer\"},{\"attributes\":{\"fill_alpha\":{\"value\":0.1},\"fill_color\":{\"value\":\"white\"},\"line_alpha\":{\"value\":0.1},\"line_color\":{\"value\":\"darkviolet\"},\"size\":{\"units\":\"screen\",\"value\":5},\"x\":{\"field\":\"x\"},\"y\":{\"field\":\"y\"}},\"id\":\"29755\",\"type\":\"Circle\"},{\"attributes\":{\"days\":[1,15]},\"id\":\"30129\",\"type\":\"DaysTicker\"},{\"attributes\":{\"months\":[0,1,2,3,4,5,6,7,8,9,10,11]},\"id\":\"30130\",\"type\":\"MonthsTicker\"},{\"attributes\":{},\"id\":\"29583\",\"type\":\"ResetTool\"},{\"attributes\":{\"source\":{\"id\":\"29720\"}},\"id\":\"29724\",\"type\":\"CDSView\"},{\"attributes\":{\"months\":[0,2,4,6,8,10]},\"id\":\"30131\",\"type\":\"MonthsTicker\"},{\"attributes\":{},\"id\":\"29584\",\"type\":\"HelpTool\"},{\"attributes\":{\"data_source\":{\"id\":\"29725\"},\"glyph\":{\"id\":\"29726\"},\"hover_glyph\":null,\"muted_glyph\":null,\"nonselection_glyph\":{\"id\":\"29727\"},\"selection_glyph\":null,\"view\":{\"id\":\"29729\"}},\"id\":\"29728\",\"type\":\"GlyphRenderer\"},{\"attributes\":{\"active_drag\":\"auto\",\"active_inspect\":\"auto\",\"active_multi\":null,\"active_scroll\":\"auto\",\"active_tap\":\"auto\",\"tools\":[{\"id\":\"29579\"},{\"id\":\"29580\"},{\"id\":\"29581\"},{\"id\":\"29582\"},{\"id\":\"29583\"},{\"id\":\"29584\"},{\"id\":\"29660\"}]},\"id\":\"29586\",\"type\":\"Toolbar\"},{\"attributes\":{\"days\":[1,2,3,4,5,6,7,8,9,10,11,12,13,14,15,16,17,18,19,20,21,22,23,24,25,26,27,28,29,30,31]},\"id\":\"30126\",\"type\":\"DaysTicker\"},{\"attributes\":{\"data_source\":{\"id\":\"29618\"},\"glyph\":{\"id\":\"29619\"},\"hover_glyph\":null,\"muted_glyph\":null,\"nonselection_glyph\":{\"id\":\"29620\"},\"selection_glyph\":null,\"view\":{\"id\":\"29622\"}},\"id\":\"29621\",\"type\":\"GlyphRenderer\"},{\"attributes\":{\"bottom_units\":\"screen\",\"fill_alpha\":0.5,\"fill_color\":\"lightgrey\",\"left_units\":\"screen\",\"level\":\"overlay\",\"line_alpha\":1.0,\"line_color\":\"black\",\"line_dash\":[4,4],\"line_width\":2,\"render_mode\":\"css\",\"right_units\":\"screen\",\"top_units\":\"screen\"},\"id\":\"30104\",\"type\":\"BoxAnnotation\"},{\"attributes\":{\"line_color\":\"green\",\"line_width\":4,\"x\":{\"field\":\"x\"},\"y\":{\"field\":\"y\"}},\"id\":\"29759\",\"type\":\"Line\"},{\"attributes\":{\"fill_color\":{\"value\":\"white\"},\"line_color\":{\"value\":\"darkviolet\"},\"size\":{\"units\":\"screen\",\"value\":5},\"x\":{\"field\":\"x\"},\"y\":{\"field\":\"y\"}},\"id\":\"29619\",\"type\":\"Circle\"},{\"attributes\":{\"line_alpha\":0.1,\"line_color\":\"darkviolet\",\"line_width\":4,\"x\":{\"field\":\"x\"},\"y\":{\"field\":\"y\"}},\"id\":\"29727\",\"type\":\"Line\"},{\"attributes\":{\"fill_alpha\":{\"value\":0.1},\"fill_color\":{\"value\":\"white\"},\"line_alpha\":{\"value\":0.1},\"line_color\":{\"value\":\"darkviolet\"},\"size\":{\"units\":\"screen\",\"value\":5},\"x\":{\"field\":\"x\"},\"y\":{\"field\":\"y\"}},\"id\":\"29620\",\"type\":\"Circle\"},{\"attributes\":{\"fill_color\":{\"value\":\"white\"},\"line_color\":{\"value\":\"darkviolet\"},\"size\":{\"units\":\"screen\",\"value\":5},\"x\":{\"field\":\"x\"},\"y\":{\"field\":\"y\"}},\"id\":\"29754\",\"type\":\"Circle\"},{\"attributes\":{\"label\":{\"value\":\"R_squared_deaths\"},\"renderers\":[{\"id\":\"29728\"}]},\"id\":\"29752\",\"type\":\"LegendItem\"},{\"attributes\":{\"label\":{\"value\":\"deaths\"},\"renderers\":[{\"id\":\"29596\"}]},\"id\":\"29617\",\"type\":\"LegendItem\"},{\"attributes\":{\"data\":{\"x\":{\"__ndarray__\":\"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\",\"dtype\":\"float64\",\"shape\":[254]},\"y\":{\"__ndarray__\":\"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\",\"dtype\":\"float64\",\"shape\":[254]}},\"selected\":{\"id\":\"30441\"},\"selection_policy\":{\"id\":\"30440\"}},\"id\":\"30142\",\"type\":\"ColumnDataSource\"},{\"attributes\":{},\"id\":\"29750\",\"type\":\"UnionRenderers\"},{\"attributes\":{},\"id\":\"30134\",\"type\":\"YearsTicker\"},{\"attributes\":{\"data\":{\"x\":{\"__ndarray__\":\"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\",\"dtype\":\"float64\",\"shape\":[254]},\"y\":[221,93,78,250,238,240,566,342,466,587,769,778,1247,1492,1797,977,2313,2651,2547,3497,3590,3233,3526,4207,5322,5986,6557,5560,4789,5249,5210,6153,5959,5974,5217,4050,4053,4782,4668,4585,4805,4316,3599,3039,3836,4204,3951,4694,4092,3153,2972,2667,3786,3493,3491,3047,2256,2729,3370,2646,3021,2357,2324,1739,2091,2086,1872,1965,1900,1389,1221,1075,1444,1401,1327,1083,802,744,1402,888,992,789,875,675,451,813,665,642,652,669,531,300,397,584,593,516,416,355,178,318,321,177,518,270,197,280,283,202,379,163,346,338,303,210,329,333,251,262,224,218,122,190,296,259,175,174,126]},\"selected\":{\"id\":\"30168\"},\"selection_policy\":{\"id\":\"30167\"}},\"id\":\"30137\",\"type\":\"ColumnDataSource\"},{\"attributes\":{},\"id\":\"29749\",\"type\":\"Selection\"},{\"attributes\":{\"data_source\":{\"id\":\"30137\"},\"glyph\":{\"id\":\"30138\"},\"hover_glyph\":null,\"muted_glyph\":null,\"nonselection_glyph\":{\"id\":\"30139\"},\"selection_glyph\":null,\"view\":{\"id\":\"30141\"}},\"id\":\"30140\",\"type\":\"GlyphRenderer\"},{\"attributes\":{\"data\":{\"x\":{\"__ndarray__\":\"AAAA5UcHd0IAAMBKmgd3QgAAgLDsB3dCAABAFj8Id0IAAAB8kQh3QgAAwOHjCHdCAACARzYJd0IAAECtiAl3QgAAABPbCXdCAADAeC0Kd0IAAIDefwp3QgAAQETSCndCAAAAqiQLd0IAAMAPdwt3QgAAgHXJC3dCAABA2xsMd0IAAABBbgx3QgAAwKbADHdCAACADBMNd0IAAEByZQ13QgAAANi3DXdCAADAPQoOd0IAAICjXA53QgAAQAmvDndCAAAAbwEPd0IAAMDUUw93QgAAgDqmD3dCAABAoPgPd0IAAAAGSxB3QgAAwGudEHdCAACA0e8Qd0IAAEA3QhF3QgAAAJ2UEXdCAADAAucRd0IAAIBoORJ3QgAAQM6LEndCAAAANN4Sd0IAAMCZMBN3QgAAgP+CE3dCAABAZdUTd0IAAADLJxR3QgAAwDB6FHdCAACAlswUd0IAAED8HhV3QgAAAGJxFXdCAADAx8MVd0IAAIAtFhZ3QgAAQJNoFndCAAAA+boWd0IAAMBeDRd3QgAAgMRfF3dCAABAKrIXd0IAAACQBBh3QgAAwPVWGHdCAACAW6kYd0IAAEDB+xh3QgAAACdOGXdCAADAjKAZd0IAAIDy8hl3QgAAQFhFGndCAAAAvpcad0IAAMAj6hp3QgAAgIk8G3dCAABA744bd0IAAABV4Rt3QgAAwLozHHdCAACAIIYcd0IAAECG2Bx3QgAAAOwqHXdCAADAUX0dd0IAAIC3zx13QgAAQB0iHndCAAAAg3Qed0IAAMDoxh53QgAAgE4ZH3dCAABAtGsfd0IAAAAavh93QgAAwH8QIHdCAACA5WIgd0IAAEBLtSB3QgAAALEHIXdCAADAFlohd0IAAIB8rCF3QgAAQOL+IXdCAAAASFEid0IAAMCtoyJ3QgAAgBP2IndCAABAeUgjd0IAAADfmiN3QgAAwETtI3dCAACAqj8kd0IAAEAQkiR3QgAAAHbkJHdCAADA2zYld0IAAIBBiSV3QgAAQKfbJXdCAAAADS4md0IAAMBygCZ3QgAAgNjSJndCAABAPiUnd0IAAACkdyd3QgAAwAnKJ3dCAACAbxwod0IAAEDVbih3QgAAADvBKHdCAADAoBMpd0IAAIAGZil3QgAAQGy4KXdCAAAA0goqd0IAAMA3XSp3QgAAgJ2vKndCAABAAwIrd0IAAABpVCt3QgAAwM6mK3dCAACANPkrd0IAAECaSyx3QgAAAACeLHdCAADAZfAsd0IAAIDLQi13QgAAQDGVLXdCAAAAl+ctd0IAAMD8OS53QgAAgGKMLndCAABAyN4ud0IAAAAuMS93QgAAwJODL3dCAACA+dUvd0I=\",\"dtype\":\"float64\",\"shape\":[127]},\"y\":[7,10,12,17,21,29,34,52,79,107,148,197,233,366,463,631,827,1016,1266,1441,1809,2158,2503,2978,3405,4032,4825,5476,6077,6820,7503,8165,9134,10023,10779,11591,12428,13155,13915,14681,15362,15887,16523,17127,17669,18279,18849,19468,19899,20465,21067,21645,22170,22745,23227,23660,24114,24648,25085,25549,25969,26384,26644,26977,27359,27682,27967,28236,28710,28884,29079,29315,29684,29958,30201,30395,30560,30739,30911,31106,31368,31610,31763,31908,32007,32169,32330,32486,32616,32735,32785,32877,32955,33072,33142,33229,33340,33415,33475,33530,33601,33689,33774,33846,33899,33964,34043,34114,34167,34223,34301,34345,34371,34405,34448,34514,34561,34610,34634,34657,34675,34644,34678,34708,34716,34738,34744]},\"selected\":{\"id\":\"29649\"},\"selection_policy\":{\"id\":\"29648\"}},\"id\":\"29618\",\"type\":\"ColumnDataSource\"},{\"attributes\":{\"data\":{\"x\":{\"__ndarray__\":\"AACARzYJd0IAAECtiAl3QgAAABPbCXdCAADAeC0Kd0IAAIDefwp3QgAAQETSCndCAAAAqiQLd0IAAMAPdwt3QgAAgHXJC3dCAABA2xsMd0IAAABBbgx3QgAAwKbADHdCAACADBMNd0IAAEByZQ13QgAAANi3DXdCAADAPQoOd0IAAICjXA53QgAAQAmvDndCAAAAbwEPd0IAAMDUUw93QgAAgDqmD3dCAABAoPgPd0IAAAAGSxB3QgAAwGudEHdCAACA0e8Qd0IAAEA3QhF3QgAAAJ2UEXdCAADAAucRd0IAAIBoORJ3QgAAQM6LEndCAAAANN4Sd0IAAMCZMBN3QgAAgP+CE3dCAABAZdUTd0IAAADLJxR3QgAAwDB6FHdCAACAlswUd0IAAED8HhV3QgAAAGJxFXdCAADAx8MVd0IAAIAtFhZ3QgAAQJNoFndCAAAA+boWd0IAAMBeDRd3QgAAgMRfF3dCAABAKrIXd0IAAACQBBh3QgAAwPVWGHdCAACAW6kYd0IAAEDB+xh3QgAAACdOGXdCAADAjKAZd0IAAIDy8hl3QgAAQFhFGndCAAAAvpcad0IAAMAj6hp3QgAAgIk8G3dCAABA744bd0IAAABV4Rt3QgAAwLozHHdCAACAIIYcd0IAAECG2Bx3QgAAAOwqHXdCAADAUX0dd0IAAIC3zx13QgAAQB0iHndCAAAAg3Qed0IAAMDoxh53QgAAgE4ZH3dCAABAtGsfd0IAAAAavh93QgAAwH8QIHdCAACA5WIgd0IAAEBLtSB3QgAAALEHIXdCAADAFlohd0IAAIB8rCF3QgAAQOL+IXdCAAAASFEid0IAAMCtoyJ3QgAAgBP2IndCAABAeUgjd0IAAADfmiN3QgAAwETtI3dCAACAqj8kd0IAAEAQkiR3QgAAAHbkJHdCAADA2zYld0IAAIBBiSV3QgAAQKfbJXdCAAAADS4md0IAAMBygCZ3QgAAgNjSJndCAABAPiUnd0IAAACkdyd3QgAAwAnKJ3dCAACAbxwod0IAAEDVbih3QgAAADvBKHdCAADAoBMpd0IAAIAGZil3QgAAQGy4KXdCAAAA0goqd0IAAMA3XSp3QgAAgJ2vKndCAABAAwIrd0IAAABpVCt3QgAAwM6mK3dCAACANPkrd0IAAECaSyx3QgAAAACeLHdCAADAZfAsd0IAAIDLQi13QgAAQDGVLXdCAAAAl+ctd0IAAMD8OS53QgAAgGKMLndCAABAyN4ud0IAAAAuMS93QgAAwJODL3dCAACA+dUvd0IAAEBfKDB3QgAAAMV6MHdCAADAKs0wd0IAAICQHzF3QgAAQPZxMXdCAAAAXMQxd0I=\",\"dtype\":\"float64\",\"shape\":[127]},\"y\":[0.9906384833099334,0.9876702701263628,0.986034206451665,0.9937023701385499,0.9970511977507855,0.9979544752352847,0.9913778365717426,0.9929248433250588,0.9957403179282476,0.9977413133698139,0.9985366218172942,0.9969106059526226,0.996211572251712,0.9909112544567887,0.9925418195655226,0.9932047921984762,0.9924285278783038,0.9930340764201312,0.9923577489344909,0.9932926697800687,0.9948845546297247,0.9950079961757051,0.9935421243409132,0.9923519864209975,0.9905689301056676,0.9882674204511754,0.9878264212632235,0.9873989916144827,0.9860735965572663,0.9845430102319735,0.9830060388504964,0.9809094757488263,0.9787131870741717,0.9765424924030026,0.9740607080719607,0.9707721359330386,0.9675980745847533,0.9644603235650501,0.9611847156868383,0.9581929227609429,0.9553138048152379,0.9527668866041618,0.949832519376967,0.9471741782289388,0.9448856132660635,0.9428262702142188,0.9408090496270258,0.9390094702651643,0.9371368895937208,0.9351084492759572,0.9330557612153584,0.9312289735564631,0.9293543463395025,0.9275386266286831,0.9256884677837561,0.923825484706234,0.9216168769019616,0.9193267564535198,0.9171080210761422,0.9148403674368056,0.9124738376193,0.9100150508583008,0.9079318355263625,0.9055617444260692,0.9030142411545999,0.9004203648795525,0.8980689816751007,0.895753592355098,0.8934258167984068,0.8910112034278967,0.8884835555981856,0.8858991595144673,0.8832672224045979,0.8806489898317053,0.8781735601338101,0.875798568138153,0.8733701733341191,0.8708924136063186,0.868304639054517,0.8657347591288924,0.8631886604807198,0.8606646697392588,0.858127410712821,0.8555693576054788,0.852892171710644,0.8501818039869902,0.8474274701530655,0.844700900642225,0.8419345520946966,0.8391646559956998,0.8364338566397378,0.8336910711516987,0.8309211457595196,0.8281248123000429,0.8253329993158202,0.8225748810114298,0.8198481378354814,0.8171364351895642,0.8144164389141544,0.8117098496622602,0.8090390142962303,0.8063941173576937,0.8037525871249604,0.8011218929019263,0.798534052945386,0.7959443157297019,0.7933324930099895,0.7907137868390863,0.7881034028225027,0.7855332424297904,0.782979060796708,0.780445007608978,0.7779009250870768,0.7753487688829088,0.7727853047065396,0.7701530104253251,0.7675384675221336,0.7649378471200146,0.7623256667632259,0.7597215865677874,0.7571078677633711]},\"selected\":{\"id\":\"29788\"},\"selection_policy\":{\"id\":\"29787\"}},\"id\":\"29753\",\"type\":\"ColumnDataSource\"},{\"attributes\":{\"items\":[{\"id\":\"29617\"},{\"id\":\"29650\"}],\"location\":\"top_left\"},\"id\":\"29616\",\"type\":\"Legend\"},{\"attributes\":{},\"id\":\"29751\",\"type\":\"Selection\"},{\"attributes\":{\"source\":{\"id\":\"30137\"}},\"id\":\"30141\",\"type\":\"CDSView\"},{\"attributes\":{},\"id\":\"29615\",\"type\":\"YearsTicker\"},{\"attributes\":{\"data\":{\"x\":{\"__ndarray__\":\"AACAdckLd0IAAEDbGwx3QgAAAEFuDHdCAADApsAMd0IAAIAMEw13QgAAQHJlDXdCAAAA2LcNd0IAAMA9Cg53QgAAgKNcDndCAABACa8Od0IAAABvAQ93QgAAwNRTD3dCAACAOqYPd0IAAECg+A93QgAAAAZLEHdCAADAa50Qd0IAAIDR7xB3QgAAQDdCEXdCAAAAnZQRd0IAAMAC5xF3QgAAgGg5EndCAABAzosSd0IAAAA03hJ3QgAAwJkwE3dCAACA/4ITd0IAAEBl1RN3QgAAAMsnFHdCAADAMHoUd0IAAICWzBR3QgAAQPweFXdCAAAAYnEVd0IAAMDHwxV3QgAAgC0WFndCAABAk2gWd0IAAAD5uhZ3QgAAwF4NF3dCAACAxF8Xd0IAAEAqshd3QgAAAJAEGHdCAADA9VYYd0IAAIBbqRh3QgAAQMH7GHdCAAAAJ04Zd0IAAMCMoBl3QgAAgPLyGXdCAABAWEUad0IAAAC+lxp3QgAAwCPqGndCAACAiTwbd0IAAEDvjht3QgAAAFXhG3dCAADAujMcd0IAAIAghhx3QgAAQIbYHHdCAAAA7Codd0IAAMBRfR13QgAAgLfPHXdCAABAHSIed0IAAACDdB53QgAAwOjGHndCAACAThkfd0IAAEC0ax93QgAAABq+H3dCAADAfxAgd0IAAIDlYiB3QgAAQEu1IHdCAAAAsQchd0IAAMAWWiF3QgAAgHysIXdCAABA4v4hd0IAAABIUSJ3QgAAwK2jIndCAACAE/Yid0IAAEB5SCN3QgAAAN+aI3dCAADARO0jd0IAAICqPyR3QgAAQBCSJHdCAAAAduQkd0IAAMDbNiV3QgAAgEGJJXdCAABAp9sld0IAAAANLiZ3QgAAwHKAJndCAACA2NImd0IAAEA+JSd3QgAAAKR3J3dCAADACcond0IAAIBvHCh3QgAAQNVuKHdCAAAAO8Eod0IAAMCgEyl3QgAAgAZmKXdCAABAbLgpd0IAAADSCip3QgAAwDddKndCAACAna8qd0IAAEADAit3QgAAAGlUK3dCAADAzqYrd0IAAIA0+St3QgAAQJpLLHdCAAAAAJ4sd0IAAMBl8Cx3QgAAgMtCLXdCAABAMZUtd0IAAACX5y13QgAAwPw5LndCAACAYowud0IAAEDI3i53QgAAAC4xL3dCAADAk4Mvd0IAAID51S93QgAAQF8oMHdCAAAAxXowd0IAAMAqzTB3QgAAgJAfMXdCAABA9nExd0IAAABcxDF3QgAAwMEWMndCAACAJ2kyd0IAAECNuzJ3QgAAAPMNM3dCAADAWGAzd0IAAIC+sjN3QgAAQCQFNHdCAAAAilc0d0I=\",\"dtype\":\"float64\",\"shape\":[127]},\"y\":[56478.01575580371,24583.77912227274,30685.15420726601,46826.59514105012,53329.08700758159,74233.09149450295,87219.86131064052,73027.73630970358,67006.19850587512,69565.84133555055,82774.85701584803,106313.20310471767,142085.23578711355,148049.07947912067,131191.63677368296,121184.83023439659,118656.34219589637,121670.50390297288,126056.67364481365,132205.3849850846,135565.65392889993,134786.44427582872,134521.07871898808,137414.18231022937,142572.83155211608,148841.51245276246,156065.4311300869,161106.08989490973,163925.22306472965,166072.43933577856,170305.34587481103,178897.33718563078,188867.6174918845,203843.22026789814,217070.77896056394,220171.02106567955,221187.8991970876,221517.6819434537,226400.04684802738,232794.07793409855,240131.17995140795,239540.9564782476,229618.50293991837,223751.2540064661,228144.57847383892,235116.51091770307,246422.97525667073,258604.8376873686,258419.75722686347,245503.1550678486,237449.6359037941,233879.287510315,235005.1660143534,235865.82485456162,236741.21876605743,234328.48934527492,230784.96816347417,229640.7293637448,230957.63336201524,231844.9765356494,234049.12234075853,234143.16595075227,233105.14525010553,231137.02262891876,232627.96399807322,234613.10451786793,237387.01319176125,240659.94291903713,243220.109531155,241387.3543733829,238087.60921274056,237117.54579708472,238099.60329364086,239078.28305073266,239641.22938971192,239404.57727575154,238559.76789832977,237906.7451706942,239186.20839485523,239475.5318170175,241194.10367247046,242558.83770657255,243710.25947749708,242415.11928143125,239944.0382130659,239753.00938183177,239275.68860826138,238520.1239621138,239088.67886271284,239421.02457157438,238744.16568075586,238143.47814406638,238573.62316533597,240027.2726336548,244755.79838648348,249781.39043182303,257993.08893654347,270005.00186947174,269427.3286686133,282336.3842731011,468508.6632640779,282427970.1712575,283100.768556297,248328.73275159477,243703.9713623735,242547.56092989797,241519.47842861232,243050.4056246866,252313.88841642998,26788512.793035716,251473808.00753853,578540058.0298903,667726734.056448]},\"selected\":{\"id\":\"30389\"},\"selection_policy\":{\"id\":\"30388\"}},\"id\":\"29929\",\"type\":\"ColumnDataSource\"},{\"attributes\":{\"label\":{\"value\":\"new deaths\"},\"renderers\":[{\"id\":\"30217\"}]},\"id\":\"30238\",\"type\":\"LegendItem\"},{\"attributes\":{\"active_drag\":\"auto\",\"active_inspect\":\"auto\",\"active_multi\":null,\"active_scroll\":\"auto\",\"active_tap\":\"auto\",\"tools\":[{\"id\":\"30200\"},{\"id\":\"30201\"},{\"id\":\"30202\"},{\"id\":\"30203\"},{\"id\":\"30204\"},{\"id\":\"30205\"},{\"id\":\"30281\"}]},\"id\":\"30207\",\"type\":\"Toolbar\"},{\"attributes\":{},\"id\":\"30200\",\"type\":\"PanTool\"},{\"attributes\":{\"data_source\":{\"id\":\"29929\"},\"glyph\":{\"id\":\"29930\"},\"hover_glyph\":null,\"muted_glyph\":null,\"nonselection_glyph\":{\"id\":\"29931\"},\"selection_glyph\":null,\"view\":{\"id\":\"29933\"}},\"id\":\"29932\",\"type\":\"GlyphRenderer\"},{\"attributes\":{\"source\":{\"id\":\"29929\"}},\"id\":\"29933\",\"type\":\"CDSView\"},{\"attributes\":{},\"id\":\"30201\",\"type\":\"WheelZoomTool\"},{\"attributes\":{},\"id\":\"30416\",\"type\":\"Selection\"},{\"attributes\":{\"below\":[{\"id\":\"29571\"}],\"center\":[{\"id\":\"29574\"},{\"id\":\"29578\"},{\"id\":\"29616\"}],\"left\":[{\"id\":\"29575\"}],\"plot_height\":350,\"plot_width\":470,\"renderers\":[{\"id\":\"29596\"},{\"id\":\"29621\"},{\"id\":\"29626\"},{\"id\":\"29654\"}],\"title\":{\"id\":\"29561\"},\"toolbar\":{\"id\":\"29586\"},\"toolbar_location\":null,\"x_range\":{\"id\":\"29563\"},\"x_scale\":{\"id\":\"29567\"},\"y_range\":{\"id\":\"29565\"},\"y_scale\":{\"id\":\"29569\"}},\"id\":\"29560\",\"subtype\":\"Figure\",\"type\":\"Plot\"},{\"attributes\":{\"below\":[{\"id\":\"29469\"}],\"center\":[{\"id\":\"29472\"},{\"id\":\"29476\"},{\"id\":\"29514\"}],\"left\":[{\"id\":\"29473\"}],\"plot_height\":350,\"plot_width\":470,\"renderers\":[{\"id\":\"29494\"},{\"id\":\"29519\"},{\"id\":\"29524\"},{\"id\":\"29552\"}],\"title\":{\"id\":\"29459\"},\"toolbar\":{\"id\":\"29484\"},\"toolbar_location\":null,\"x_range\":{\"id\":\"29461\"},\"x_scale\":{\"id\":\"29465\"},\"y_range\":{\"id\":\"29463\"},\"y_scale\":{\"id\":\"29467\"}},\"id\":\"29458\",\"subtype\":\"Figure\",\"type\":\"Plot\"},{\"attributes\":{\"overlay\":{\"id\":\"30206\"}},\"id\":\"30202\",\"type\":\"BoxZoomTool\"},{\"attributes\":{\"text\":\"Max Total Deaths - Logistic Fitting: Italy\"},\"id\":\"29941\",\"type\":\"Title\"},{\"attributes\":{},\"id\":\"30203\",\"type\":\"SaveTool\"},{\"attributes\":{\"text\":\"Total Cases & Total Positive: Italy\"},\"id\":\"29459\",\"type\":\"Title\"},{\"attributes\":{\"fill_alpha\":{\"value\":0.1},\"fill_color\":{\"value\":\"white\"},\"line_alpha\":{\"value\":0.1},\"line_color\":{\"value\":\"blue\"},\"size\":{\"units\":\"screen\",\"value\":5},\"x\":{\"field\":\"x\"},\"y\":{\"field\":\"y\"}},\"id\":\"29931\",\"type\":\"Circle\"},{\"attributes\":{},\"id\":\"30204\",\"type\":\"ResetTool\"},{\"attributes\":{},\"id\":\"30417\",\"type\":\"UnionRenderers\"},{\"attributes\":{},\"id\":\"29461\",\"type\":\"DataRange1d\"},{\"attributes\":{\"data_source\":{\"id\":\"30214\"},\"glyph\":{\"id\":\"30215\"},\"hover_glyph\":null,\"muted_glyph\":null,\"nonselection_glyph\":{\"id\":\"30216\"},\"selection_glyph\":null,\"view\":{\"id\":\"30218\"}},\"id\":\"30217\",\"type\":\"GlyphRenderer\"},{\"attributes\":{},\"id\":\"30205\",\"type\":\"HelpTool\"},{\"attributes\":{\"days\":[\"%d %B\"]},\"id\":\"29934\",\"type\":\"DatetimeTickFormatter\"},{\"attributes\":{\"use_scientific\":false},\"id\":\"29936\",\"type\":\"BasicTickFormatter\"},{\"attributes\":{\"below\":[{\"id\":\"30090\"}],\"center\":[{\"id\":\"30093\"},{\"id\":\"30097\"},{\"id\":\"30135\"}],\"left\":[{\"id\":\"30094\"}],\"plot_height\":350,\"plot_width\":470,\"renderers\":[{\"id\":\"30115\"},{\"id\":\"30140\"},{\"id\":\"30145\"},{\"id\":\"30173\"}],\"title\":{\"id\":\"30080\"},\"toolbar\":{\"id\":\"30105\"},\"toolbar_location\":null,\"x_range\":{\"id\":\"30082\"},\"x_scale\":{\"id\":\"30086\"},\"y_range\":{\"id\":\"30084\"},\"y_scale\":{\"id\":\"30088\"}},\"id\":\"30079\",\"subtype\":\"Figure\",\"type\":\"Plot\"},{\"attributes\":{},\"id\":\"29463\",\"type\":\"DataRange1d\"},{\"attributes\":{\"callback\":null,\"formatters\":{\"@x\":\"datetime\"},\"mode\":\"vline\",\"tooltips\":[[\"date\",\"@x{%d %B}\"],[\"total cases max/UP/DOWN\",\"@y{0[.]000}\"]]},\"id\":\"29938\",\"type\":\"HoverTool\"},{\"attributes\":{\"source\":{\"id\":\"30239\"}},\"id\":\"30243\",\"type\":\"CDSView\"},{\"attributes\":{\"line_color\":\"lightcoral\",\"line_width\":4,\"x\":{\"field\":\"x\"},\"y\":{\"field\":\"y\"}},\"id\":\"30245\",\"type\":\"Line\"},{\"attributes\":{},\"id\":\"29465\",\"type\":\"LinearScale\"},{\"attributes\":{},\"id\":\"29943\",\"type\":\"DataRange1d\"},{\"attributes\":{\"data_source\":{\"id\":\"30239\"},\"glyph\":{\"id\":\"30240\"},\"hover_glyph\":null,\"muted_glyph\":null,\"nonselection_glyph\":{\"id\":\"30241\"},\"selection_glyph\":null,\"view\":{\"id\":\"30243\"}},\"id\":\"30242\",\"type\":\"GlyphRenderer\"},{\"attributes\":{},\"id\":\"29467\",\"type\":\"LinearScale\"},{\"attributes\":{\"data\":{\"x\":{\"__ndarray__\":\"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\",\"dtype\":\"float64\",\"shape\":[254]},\"y\":{\"__ndarray__\":\"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\",\"dtype\":\"float64\",\"shape\":[254]}},\"selected\":{\"id\":\"30466\"},\"selection_policy\":{\"id\":\"30465\"}},\"id\":\"30244\",\"type\":\"ColumnDataSource\"},{\"attributes\":{\"axis_label\":\"Date\",\"formatter\":{\"id\":\"29554\"},\"major_label_orientation\":0.7853981633974483,\"minor_tick_in\":-5,\"minor_tick_out\":-3,\"ticker\":{\"id\":\"29470\"}},\"id\":\"29469\",\"type\":\"DatetimeAxis\"},{\"attributes\":{\"toolbar\":{\"id\":\"30471\"},\"toolbar_location\":\"above\"},\"id\":\"30472\",\"type\":\"ToolbarBox\"},{\"attributes\":{},\"id\":\"29949\",\"type\":\"LinearScale\"},{\"attributes\":{},\"id\":\"29474\",\"type\":\"BasicTicker\"},{\"attributes\":{\"end\":45000},\"id\":\"29945\",\"type\":\"Range1d\"},{\"attributes\":{\"num_minor_ticks\":5,\"tickers\":[{\"id\":\"29502\"},{\"id\":\"29503\"},{\"id\":\"29504\"},{\"id\":\"29505\"},{\"id\":\"29506\"},{\"id\":\"29507\"},{\"id\":\"29508\"},{\"id\":\"29509\"},{\"id\":\"29510\"},{\"id\":\"29511\"},{\"id\":\"29512\"},{\"id\":\"29513\"}]},\"id\":\"29470\",\"type\":\"DatetimeTicker\"},{\"attributes\":{\"label\":{\"value\":\"Gamma fitting\"},\"renderers\":[{\"id\":\"30247\"}]},\"id\":\"30271\",\"type\":\"LegendItem\"},{\"attributes\":{\"axis\":{\"id\":\"29469\"},\"ticker\":null},\"id\":\"29472\",\"type\":\"Grid\"},{\"attributes\":{\"fill_alpha\":{\"value\":0.1},\"fill_color\":{\"value\":\"white\"},\"line_alpha\":{\"value\":0.1},\"line_color\":{\"value\":\"darkviolet\"},\"size\":{\"units\":\"screen\",\"value\":5},\"x\":{\"field\":\"x\"},\"y\":{\"field\":\"y\"}},\"id\":\"30241\",\"type\":\"Circle\"},{\"attributes\":{},\"id\":\"29947\",\"type\":\"LinearScale\"},{\"attributes\":{\"axis\":{\"id\":\"29473\"},\"dimension\":1,\"ticker\":null},\"id\":\"29476\",\"type\":\"Grid\"},{\"attributes\":{\"fill_color\":{\"value\":\"white\"},\"line_color\":{\"value\":\"darkviolet\"},\"size\":{\"units\":\"screen\",\"value\":5},\"x\":{\"field\":\"x\"},\"y\":{\"field\":\"y\"}},\"id\":\"30240\",\"type\":\"Circle\"},{\"attributes\":{\"axis_label\":\"Total Cases & Total Positive\",\"formatter\":{\"id\":\"29556\"},\"minor_tick_in\":-5,\"minor_tick_out\":-3,\"ticker\":{\"id\":\"29474\"}},\"id\":\"29473\",\"type\":\"LinearAxis\"},{\"attributes\":{\"axis_label\":\"Date\",\"formatter\":{\"id\":\"30073\"},\"major_label_orientation\":0.7853981633974483,\"minor_tick_in\":-5,\"minor_tick_out\":-3,\"ticker\":{\"id\":\"29952\"}},\"id\":\"29951\",\"type\":\"DatetimeAxis\"},{\"attributes\":{\"bottom_units\":\"screen\",\"fill_alpha\":0.5,\"fill_color\":\"lightgrey\",\"left_units\":\"screen\",\"level\":\"overlay\",\"line_alpha\":1.0,\"line_color\":\"black\",\"line_dash\":[4,4],\"line_width\":2,\"render_mode\":\"css\",\"right_units\":\"screen\",\"top_units\":\"screen\"},\"id\":\"30206\",\"type\":\"BoxAnnotation\"},{\"attributes\":{},\"id\":\"29956\",\"type\":\"BasicTicker\"},{\"attributes\":{\"fill_color\":{\"value\":\"white\"},\"line_color\":{\"value\":\"lightcoral\"},\"size\":{\"units\":\"screen\",\"value\":5},\"x\":{\"field\":\"x\"},\"y\":{\"field\":\"y\"}},\"id\":\"30273\",\"type\":\"Circle\"},{\"attributes\":{\"num_minor_ticks\":5,\"tickers\":[{\"id\":\"29984\"},{\"id\":\"29985\"},{\"id\":\"29986\"},{\"id\":\"29987\"},{\"id\":\"29988\"},{\"id\":\"29989\"},{\"id\":\"29990\"},{\"id\":\"29991\"},{\"id\":\"29992\"},{\"id\":\"29993\"},{\"id\":\"29994\"},{\"id\":\"29995\"}]},\"id\":\"29952\",\"type\":\"DatetimeTicker\"},{\"attributes\":{\"data_source\":{\"id\":\"29491\"},\"glyph\":{\"id\":\"29492\"},\"hover_glyph\":null,\"muted_glyph\":null,\"nonselection_glyph\":{\"id\":\"29493\"},\"selection_glyph\":null,\"view\":{\"id\":\"29495\"}},\"id\":\"29494\",\"type\":\"GlyphRenderer\"},{\"attributes\":{\"axis\":{\"id\":\"29951\"},\"ticker\":null},\"id\":\"29954\",\"type\":\"Grid\"},{\"attributes\":{\"line_alpha\":0.1,\"line_color\":\"blue\",\"line_width\":4,\"x\":{\"field\":\"x\"},\"y\":{\"field\":\"y\"}},\"id\":\"29493\",\"type\":\"Line\"},{\"attributes\":{\"active_drag\":\"auto\",\"active_inspect\":\"auto\",\"active_multi\":null,\"active_scroll\":\"auto\",\"active_tap\":\"auto\",\"tools\":[{\"id\":\"29477\"},{\"id\":\"29478\"},{\"id\":\"29479\"},{\"id\":\"29480\"},{\"id\":\"29481\"},{\"id\":\"29482\"},{\"id\":\"29558\"}]},\"id\":\"29484\",\"type\":\"Toolbar\"},{\"attributes\":{\"axis\":{\"id\":\"29955\"},\"dimension\":1,\"ticker\":null},\"id\":\"29958\",\"type\":\"Grid\"},{\"attributes\":{},\"id\":\"30468\",\"type\":\"Selection\"},{\"attributes\":{\"axis_label\":\"Total Deaths MAX\",\"formatter\":{\"id\":\"30075\"},\"minor_tick_in\":-5,\"minor_tick_out\":-3,\"ticker\":{\"id\":\"29956\"}},\"id\":\"29955\",\"type\":\"LinearAxis\"},{\"attributes\":{\"data\":{\"x\":{\"__ndarray__\":\"AAAA5UcHd0IAAMBKmgd3QgAAgLDsB3dCAABAFj8Id0IAAAB8kQh3QgAAwOHjCHdCAACARzYJd0IAAECtiAl3QgAAABPbCXdCAADAeC0Kd0IAAIDefwp3QgAAQETSCndCAAAAqiQLd0IAAMAPdwt3QgAAgHXJC3dCAABA2xsMd0IAAABBbgx3QgAAwKbADHdCAACADBMNd0IAAEByZQ13QgAAANi3DXdCAADAPQoOd0IAAICjXA53QgAAQAmvDndCAAAAbwEPd0IAAMDUUw93QgAAgDqmD3dCAABAoPgPd0IAAAAGSxB3QgAAwGudEHdCAACA0e8Qd0IAAEA3QhF3QgAAAJ2UEXdCAADAAucRd0IAAIBoORJ3QgAAQM6LEndCAAAANN4Sd0IAAMCZMBN3QgAAgP+CE3dCAABAZdUTd0IAAADLJxR3QgAAwDB6FHdCAACAlswUd0IAAED8HhV3QgAAAGJxFXdCAADAx8MVd0IAAIAtFhZ3QgAAQJNoFndCAAAA+boWd0IAAMBeDRd3QgAAgMRfF3dCAABAKrIXd0IAAACQBBh3QgAAwPVWGHdCAACAW6kYd0IAAEDB+xh3QgAAACdOGXdCAADAjKAZd0IAAIDy8hl3QgAAQFhFGndCAAAAvpcad0IAAMAj6hp3QgAAgIk8G3dCAABA744bd0IAAABV4Rt3QgAAwLozHHdCAACAIIYcd0IAAECG2Bx3QgAAAOwqHXdCAADAUX0dd0IAAIC3zx13QgAAQB0iHndCAAAAg3Qed0IAAMDoxh53QgAAgE4ZH3dCAABAtGsfd0IAAAAavh93QgAAwH8QIHdCAACA5WIgd0IAAEBLtSB3QgAAALEHIXdCAADAFlohd0IAAIB8rCF3QgAAQOL+IXdCAAAASFEid0IAAMCtoyJ3QgAAgBP2IndCAABAeUgjd0IAAADfmiN3QgAAwETtI3dCAACAqj8kd0IAAEAQkiR3QgAAAHbkJHdCAADA2zYld0IAAIBBiSV3QgAAQKfbJXdCAAAADS4md0IAAMBygCZ3QgAAgNjSJndCAABAPiUnd0IAAACkdyd3QgAAwAnKJ3dCAACAbxwod0IAAEDVbih3QgAAADvBKHdCAADAoBMpd0IAAIAGZil3QgAAQGy4KXdCAAAA0goqd0IAAMA3XSp3QgAAgJ2vKndCAABAAwIrd0IAAABpVCt3QgAAwM6mK3dCAACANPkrd0IAAECaSyx3QgAAAACeLHdCAADAZfAsd0IAAIDLQi13QgAAQDGVLXdCAAAAl+ctd0IAAMD8OS53QgAAgGKMLndCAABAyN4ud0IAAAAuMS93QgAAwJODL3dCAACA+dUvd0I=\",\"dtype\":\"float64\",\"shape\":[127]},\"y\":[229,322,400,650,888,1128,1694,2036,2502,3089,3858,4636,5883,7375,9172,10149,12462,15113,17660,21157,24747,27980,31506,35713,41035,47021,53578,59138,63927,69176,74386,80539,86498,92472,97689,101739,105792,110574,115242,119827,124632,128948,132547,135586,139422,143626,147577,152271,156363,159516,162488,165155,168941,172434,175925,178972,181228,183957,187327,189973,192994,195351,197675,199414,201505,203591,205463,207428,209328,210717,211938,213013,214457,215858,217185,218268,219070,219814,221216,222104,223096,223885,224760,225435,225886,226699,227364,228006,228658,229327,229858,230158,230555,231139,231732,232248,232664,233019,233197,233515,233836,234013,234531,234801,234998,235278,235561,235763,236142,236305,236651,236989,237290,237500,237828,238159,238011,238275,238499,238720,238833,239410,239706,239961,240136,240310,240436]},\"selected\":{\"id\":\"29545\"},\"selection_policy\":{\"id\":\"29544\"}},\"id\":\"29491\",\"type\":\"ColumnDataSource\"},{\"attributes\":{\"source\":{\"id\":\"30214\"}},\"id\":\"30218\",\"type\":\"CDSView\"},{\"attributes\":{\"source\":{\"id\":\"29491\"}},\"id\":\"29495\",\"type\":\"CDSView\"},{\"attributes\":{},\"id\":\"30466\",\"type\":\"Selection\"},{\"attributes\":{},\"id\":\"29477\",\"type\":\"PanTool\"},{\"attributes\":{\"data\":{\"x\":{\"__ndarray__\":\"AACAdckLd0IAAEDbGwx3QgAAAEFuDHdCAADApsAMd0IAAIAMEw13QgAAQHJlDXdCAAAA2LcNd0IAAMA9Cg53QgAAgKNcDndCAABACa8Od0IAAABvAQ93QgAAwNRTD3dCAACAOqYPd0IAAECg+A93QgAAAAZLEHdCAADAa50Qd0IAAIDR7xB3QgAAQDdCEXdCAAAAnZQRd0IAAMAC5xF3QgAAgGg5EndCAABAzosSd0IAAAA03hJ3QgAAwJkwE3dCAACA/4ITd0IAAEBl1RN3QgAAAMsnFHdCAADAMHoUd0IAAICWzBR3QgAAQPweFXdCAAAAYnEVd0IAAMDHwxV3QgAAgC0WFndCAABAk2gWd0IAAAD5uhZ3QgAAwF4NF3dCAACAxF8Xd0IAAEAqshd3QgAAAJAEGHdCAADA9VYYd0IAAIBbqRh3QgAAQMH7GHdCAAAAJ04Zd0IAAMCMoBl3QgAAgPLyGXdCAABAWEUad0IAAAC+lxp3QgAAwCPqGndCAACAiTwbd0IAAEDvjht3QgAAAFXhG3dCAADAujMcd0IAAIAghhx3QgAAQIbYHHdCAAAA7Codd0IAAMBRfR13QgAAgLfPHXdCAABAHSIed0IAAACDdB53QgAAwOjGHndCAACAThkfd0IAAEC0ax93QgAAABq+H3dCAADAfxAgd0IAAIDlYiB3QgAAQEu1IHdCAAAAsQchd0IAAMAWWiF3QgAAgHysIXdCAABA4v4hd0IAAABIUSJ3QgAAwK2jIndCAACAE/Yid0IAAEB5SCN3QgAAAN+aI3dCAADARO0jd0IAAICqPyR3QgAAQBCSJHdCAAAAduQkd0IAAMDbNiV3QgAAgEGJJXdCAABAp9sld0IAAAANLiZ3QgAAwHKAJndCAACA2NImd0IAAEA+JSd3QgAAAKR3J3dCAADACcond0IAAIBvHCh3QgAAQNVuKHdCAAAAO8Eod0IAAMCgEyl3QgAAgAZmKXdCAABAbLgpd0IAAADSCip3QgAAwDddKndCAACAna8qd0IAAEADAit3QgAAAGlUK3dCAADAzqYrd0IAAIA0+St3QgAAQJpLLHdCAAAAAJ4sd0IAAMBl8Cx3QgAAgMtCLXdCAABAMZUtd0IAAACX5y13QgAAwPw5LndCAACAYowud0IAAEDI3i53QgAAAC4xL3dCAADAk4Mvd0IAAID51S93QgAAQF8oMHdCAAAAxXowd0IAAMAqzTB3QgAAgJAfMXdCAABA9nExd0IAAABcxDF3QgAAwMEWMndCAACAJ2kyd0IAAECNuzJ3QgAAAPMNM3dCAADAWGAzd0IAAIC+sjN3QgAAQCQFNHdCAAAAilc0d0I=\",\"dtype\":\"float64\",\"shape\":[127]},\"y\":[15126.22446615273,37293.56878713092,10255.769525094602,3439.9947850040458,3313.02138001441,2586.9708812681347,3623.914396421633,4651.057813357563,5050.779275102898,6391.532847483163,6957.044682717751,9316.416481045784,16392.288644633736,18325.72183057608,15481.8602169969,15011.571872634177,14368.46451013765,13803.27480284032,15240.321155112646,16833.425582841955,17766.844805860437,18418.303397647738,19202.94700693323,19707.718158555377,20206.865611223024,20977.56483635313,21441.9983402785,21119.124956683583,20987.343321689383,21177.345281487564,21340.679060805727,21907.84574920276,22852.375149319574,24000.450754674242,24670.398551101458,25788.06617468369,27499.263941336943,29589.129636094258,31944.650815107852,34719.7955239108,35804.10722501527,34952.459517738986,34729.62212404043,34925.368544591445,34585.6136151191,34867.02623487922,34707.80181620491,34558.31623479004,32985.555725266684,32624.687210666816,32757.393168488044,32808.73787500851,32662.42135040724,32563.410691405064,33355.84622559353,33357.63326320049,33372.52576860454,33679.94610713555,34701.995373591984,36283.30564815349,37529.98221340563,37467.790160677294,35802.98738997665,35286.241239083516,34999.283818844946,34626.46899812836,34941.29261270131,36244.67104115673,38475.94906140051,36647.46149941817,35721.795333282644,36003.82725651222,37398.62451113495,37856.14209648177,37255.79045379563,36070.885495604736,34884.97876536398,34352.83354112061,34085.40384186729,34173.388266574286,34401.441657501426,34567.73595187179,34604.17348147893,34632.48991608872,34615.69536693465,34915.78475916209,35415.629904556576,36402.36412015375,37780.493295056986,38288.46654843085,36462.873042333624,36410.79878210264,36866.858692748596,38756.89686487875,38572.87429838713,39270.42643643237,43157.143008510655,38884.10441745088,36346.639872995744,35537.19011612215,35311.852491643986,35404.39330304099,35505.17618388665,35584.53969131409,35469.39632518595,35442.85384909087,35417.177872061584,35125.13784400409,34984.19386918289,34941.01247433142,34909.90921640708,34854.407716970054,34805.28896695872]},\"selected\":{\"id\":\"30027\"},\"selection_policy\":{\"id\":\"30026\"}},\"id\":\"29973\",\"type\":\"ColumnDataSource\"},{\"attributes\":{\"items\":[{\"id\":\"30238\"},{\"id\":\"30271\"}]},\"id\":\"30237\",\"type\":\"Legend\"},{\"attributes\":{},\"id\":\"29478\",\"type\":\"WheelZoomTool\"},{\"attributes\":{\"label\":{\"value\":\"total deaths max DOWN\"},\"renderers\":[{\"id\":\"30006\"}]},\"id\":\"30030\",\"type\":\"LegendItem\"},{\"attributes\":{},\"id\":\"30442\",\"type\":\"UnionRenderers\"},{\"attributes\":{},\"id\":\"30467\",\"type\":\"UnionRenderers\"},{\"attributes\":{\"overlay\":{\"id\":\"29483\"}},\"id\":\"29479\",\"type\":\"BoxZoomTool\"},{\"attributes\":{\"line_alpha\":0.1,\"line_color\":\"lightcoral\",\"line_width\":4,\"x\":{\"field\":\"x\"},\"y\":{\"field\":\"y\"}},\"id\":\"29975\",\"type\":\"Line\"},{\"attributes\":{\"days\":[1,2,3,4,5,6,7,8,9,10,11,12,13,14,15,16,17,18,19,20,21,22,23,24,25,26,27,28,29,30,31]},\"id\":\"29848\",\"type\":\"DaysTicker\"},{\"attributes\":{\"mantissas\":[1,2,5],\"max_interval\":500.0,\"num_minor_ticks\":0},\"id\":\"30225\",\"type\":\"AdaptiveTicker\"},{\"attributes\":{\"data_source\":{\"id\":\"29973\"},\"glyph\":{\"id\":\"29974\"},\"hover_glyph\":null,\"muted_glyph\":null,\"nonselection_glyph\":{\"id\":\"29975\"},\"selection_glyph\":null,\"view\":{\"id\":\"29977\"}},\"id\":\"29976\",\"type\":\"GlyphRenderer\"},{\"attributes\":{},\"id\":\"29480\",\"type\":\"SaveTool\"},{\"attributes\":{\"line_color\":\"lightcoral\",\"line_width\":4,\"x\":{\"field\":\"x\"},\"y\":{\"field\":\"y\"}},\"id\":\"29974\",\"type\":\"Line\"},{\"attributes\":{},\"id\":\"30418\",\"type\":\"Selection\"},{\"attributes\":{},\"id\":\"29481\",\"type\":\"ResetTool\"},{\"attributes\":{},\"id\":\"29959\",\"type\":\"PanTool\"},{\"attributes\":{},\"id\":\"30443\",\"type\":\"Selection\"},{\"attributes\":{},\"id\":\"30415\",\"type\":\"UnionRenderers\"},{\"attributes\":{\"base\":24,\"mantissas\":[1,2,4,6,8,12],\"max_interval\":43200000.0,\"min_interval\":3600000.0,\"num_minor_ticks\":0},\"id\":\"30227\",\"type\":\"AdaptiveTicker\"},{\"attributes\":{},\"id\":\"29960\",\"type\":\"WheelZoomTool\"},{\"attributes\":{\"base\":60,\"mantissas\":[1,2,5,10,15,20,30],\"max_interval\":1800000.0,\"min_interval\":1000.0,\"num_minor_ticks\":0},\"id\":\"30226\",\"type\":\"AdaptiveTicker\"},{\"attributes\":{},\"id\":\"29482\",\"type\":\"HelpTool\"},{\"attributes\":{\"overlay\":{\"id\":\"29965\"}},\"id\":\"29961\",\"type\":\"BoxZoomTool\"},{\"attributes\":{},\"id\":\"29962\",\"type\":\"SaveTool\"},{\"attributes\":{},\"id\":\"30441\",\"type\":\"Selection\"},{\"attributes\":{\"days\":[1,2,3,4,5,6,7,8,9,10,11,12,13,14,15,16,17,18,19,20,21,22,23,24,25,26,27,28,29,30,31]},\"id\":\"30228\",\"type\":\"DaysTicker\"},{\"attributes\":{\"use_scientific\":false},\"id\":\"29556\",\"type\":\"BasicTickFormatter\"},{\"attributes\":{},\"id\":\"29963\",\"type\":\"ResetTool\"},{\"attributes\":{\"days\":[1,4,7,10,13,16,19,22,25,28]},\"id\":\"30229\",\"type\":\"DaysTicker\"},{\"attributes\":{\"days\":[\"%d %B\"]},\"id\":\"29554\",\"type\":\"DatetimeTickFormatter\"},{\"attributes\":{\"fill_alpha\":{\"value\":0.1},\"fill_color\":{\"value\":\"white\"},\"line_alpha\":{\"value\":0.1},\"line_color\":{\"value\":\"red\"},\"size\":{\"units\":\"screen\",\"value\":5},\"x\":{\"field\":\"x\"},\"y\":{\"field\":\"y\"}},\"id\":\"29551\",\"type\":\"Circle\"},{\"attributes\":{\"days\":[1,8,15,22]},\"id\":\"30230\",\"type\":\"DaysTicker\"},{\"attributes\":{},\"id\":\"29964\",\"type\":\"HelpTool\"},{\"attributes\":{\"data_source\":{\"id\":\"29549\"},\"glyph\":{\"id\":\"29550\"},\"hover_glyph\":null,\"muted_glyph\":null,\"nonselection_glyph\":{\"id\":\"29551\"},\"selection_glyph\":null,\"view\":{\"id\":\"29553\"}},\"id\":\"29552\",\"type\":\"GlyphRenderer\"},{\"attributes\":{\"days\":[1,15]},\"id\":\"30231\",\"type\":\"DaysTicker\"},{\"attributes\":{\"active_drag\":\"auto\",\"active_inspect\":\"auto\",\"active_multi\":null,\"active_scroll\":\"auto\",\"active_tap\":\"auto\",\"tools\":[{\"id\":\"29959\"},{\"id\":\"29960\"},{\"id\":\"29961\"},{\"id\":\"29962\"},{\"id\":\"29963\"},{\"id\":\"29964\"},{\"id\":\"30077\"}]},\"id\":\"29966\",\"type\":\"Toolbar\"},{\"attributes\":{\"source\":{\"id\":\"29549\"}},\"id\":\"29553\",\"type\":\"CDSView\"},{\"attributes\":{\"months\":[0,4,8]},\"id\":\"30234\",\"type\":\"MonthsTicker\"},{\"attributes\":{\"months\":[0,1,2,3,4,5,6,7,8,9,10,11]},\"id\":\"30232\",\"type\":\"MonthsTicker\"},{\"attributes\":{\"data\":{\"x\":{\"__ndarray__\":\"AACAdckLd0IAAEDbGwx3QgAAAEFuDHdCAADApsAMd0IAAIAMEw13QgAAQHJlDXdCAAAA2LcNd0IAAMA9Cg53QgAAgKNcDndCAABACa8Od0IAAABvAQ93QgAAwNRTD3dCAACAOqYPd0IAAECg+A93QgAAAAZLEHdCAADAa50Qd0IAAIDR7xB3QgAAQDdCEXdCAAAAnZQRd0IAAMAC5xF3QgAAgGg5EndCAABAzosSd0IAAAA03hJ3QgAAwJkwE3dCAACA/4ITd0IAAEBl1RN3QgAAAMsnFHdCAADAMHoUd0IAAICWzBR3QgAAQPweFXdCAAAAYnEVd0IAAMDHwxV3QgAAgC0WFndCAABAk2gWd0IAAAD5uhZ3QgAAwF4NF3dCAACAxF8Xd0IAAEAqshd3QgAAAJAEGHdCAADA9VYYd0IAAIBbqRh3QgAAQMH7GHdCAAAAJ04Zd0IAAMCMoBl3QgAAgPLyGXdCAABAWEUad0IAAAC+lxp3QgAAwCPqGndCAACAiTwbd0IAAEDvjht3QgAAAFXhG3dCAADAujMcd0IAAIAghhx3QgAAQIbYHHdCAAAA7Codd0IAAMBRfR13QgAAgLfPHXdCAABAHSIed0IAAACDdB53QgAAwOjGHndCAACAThkfd0IAAEC0ax93QgAAABq+H3dCAADAfxAgd0IAAIDlYiB3QgAAQEu1IHdCAAAAsQchd0IAAMAWWiF3QgAAgHysIXdCAABA4v4hd0IAAABIUSJ3QgAAwK2jIndCAACAE/Yid0IAAEB5SCN3QgAAAN+aI3dCAADARO0jd0IAAICqPyR3QgAAQBCSJHdCAAAAduQkd0IAAMDbNiV3QgAAgEGJJXdCAABAp9sld0IAAAANLiZ3QgAAwHKAJndCAACA2NImd0IAAEA+JSd3QgAAAKR3J3dCAADACcond0IAAIBvHCh3QgAAQNVuKHdCAAAAO8Eod0IAAMCgEyl3QgAAgAZmKXdCAABAbLgpd0IAAADSCip3QgAAwDddKndCAACAna8qd0IAAEADAit3QgAAAGlUK3dCAADAzqYrd0IAAIA0+St3QgAAQJpLLHdCAAAAAJ4sd0IAAMBl8Cx3QgAAgMtCLXdCAABAMZUtd0IAAACX5y13QgAAwPw5LndCAACAYowud0IAAEDI3i53QgAAAC4xL3dCAADAk4Mvd0IAAID51S93QgAAQF8oMHdCAAAAxXowd0IAAMAqzTB3QgAAgJAfMXdCAABA9nExd0IAAABcxDF3QgAAwMEWMndCAACAJ2kyd0IAAECNuzJ3QgAAAPMNM3dCAADAWGAzd0IAAIC+sjN3QgAAQCQFNHdCAAAAilc0d0I=\",\"dtype\":\"float64\",\"shape\":[127]},\"y\":[-4358.905247571917,-14120.39483407201,2256.4607062038435,2403.3214646692627,2677.7179869757547,2289.1290588801157,2937.738021134286,3692.5255086096886,4206.900361521503,5169.782328774242,5847.528051515605,7359.83744026194,10483.794725109718,13020.326598824908,12495.60809293336,12954.5662282337,12918.071523762248,12757.569789911426,13841.749697368303,15063.211781414504,16072.050994428171,16829.984794623924,17652.199686559252,18340.91557464026,18984.026812631688,20007.84147273864,20775.078401281302,20533.952589191504,20510.781672359968,20705.10551038068,20870.184330317235,21297.8896565542,22211.689601508995,23107.515588845436,23707.290488433628,24693.836758640104,26116.879865798055,27741.41241016965,29928.33287406333,32672.129564193732,33864.890144155164,33176.295737793465,33046.01842665461,33271.483690580484,33091.801842598885,33374.40946012584,33318.23687719721,33266.20463898991,32123.35521222736,31787.144294397185,31931.766272617366,31999.522092594023,31908.35960527839,31846.29588783603,32219.8292622328,32255.48143644971,32286.544241931435,32577.422411826105,33213.517512222345,34195.438815370755,34926.07149855916,34920.05302314661,34086.15606285582,33764.94994955339,33582.42901284254,33401.585839313135,33571.304069982936,34107.64377066333,35059.16383178488,34609.57714857876,34198.02208278279,34347.298843334764,35184.64684582351,35391.40670089574,35175.756852375336,34769.35214634862,34197.854430091844,33914.82419649875,33759.191225891605,33818.94729039943,34005.62892490571,34120.98333366906,34148.94755918091,34172.93902681585,34174.47726962965,34363.388993574226,34683.401957290196,35234.95841014156,35726.671401268766,35849.205536033915,35487.17764856074,35469.548419197636,35642.79244539742,36307.401363114615,36260.9728429865,36464.41685022582,37074.9718904153,36556.31813404007,35619.77939535001,35189.78972599494,35049.40211274665,35099.794423295294,35149.33962139541,35185.65971253865,35142.38556850144,35125.01839780668,35099.733098733384,34874.00579115791,34809.78803021034,34793.42250673089,34780.092518551355,34768.23360180682,34755.89312448204]},\"selected\":{\"id\":\"30066\"},\"selection_policy\":{\"id\":\"30065\"}},\"id\":\"30031\",\"type\":\"ColumnDataSource\"},{\"attributes\":{\"months\":[0,2,4,6,8,10]},\"id\":\"30233\",\"type\":\"MonthsTicker\"},{\"attributes\":{\"bottom_units\":\"screen\",\"fill_alpha\":0.5,\"fill_color\":\"lightgrey\",\"left_units\":\"screen\",\"level\":\"overlay\",\"line_alpha\":1.0,\"line_color\":\"black\",\"line_dash\":[4,4],\"line_width\":2,\"render_mode\":\"css\",\"right_units\":\"screen\",\"top_units\":\"screen\"},\"id\":\"29585\",\"type\":\"BoxAnnotation\"},{\"attributes\":{\"source\":{\"id\":\"29618\"}},\"id\":\"29622\",\"type\":\"CDSView\"},{\"attributes\":{\"line_color\":\"green\",\"line_width\":4,\"x\":{\"field\":\"x\"},\"y\":{\"field\":\"y\"}},\"id\":\"29624\",\"type\":\"Line\"},{\"attributes\":{\"items\":[{\"id\":\"30136\"},{\"id\":\"30169\"}]},\"id\":\"30135\",\"type\":\"Legend\"},{\"attributes\":{\"mantissas\":[1,2,5],\"max_interval\":500.0,\"num_minor_ticks\":0},\"id\":\"29604\",\"type\":\"AdaptiveTicker\"},{\"attributes\":{\"base\":24,\"mantissas\":[1,2,4,6,8,12],\"max_interval\":43200000.0,\"min_interval\":3600000.0,\"num_minor_ticks\":0},\"id\":\"29606\",\"type\":\"AdaptiveTicker\"},{\"attributes\":{\"base\":60,\"mantissas\":[1,2,5,10,15,20,30],\"max_interval\":1800000.0,\"min_interval\":1000.0,\"num_minor_ticks\":0},\"id\":\"29605\",\"type\":\"AdaptiveTicker\"},{\"attributes\":{\"days\":[1,2,3,4,5,6,7,8,9,10,11,12,13,14,15,16,17,18,19,20,21,22,23,24,25,26,27,28,29,30,31]},\"id\":\"29607\",\"type\":\"DaysTicker\"},{\"attributes\":{\"days\":[1,4,7,10,13,16,19,22,25,28]},\"id\":\"29608\",\"type\":\"DaysTicker\"},{\"attributes\":{\"days\":[1,8,15,22]},\"id\":\"29609\",\"type\":\"DaysTicker\"},{\"attributes\":{\"days\":[1,15]},\"id\":\"29610\",\"type\":\"DaysTicker\"},{\"attributes\":{\"months\":[0,1,2,3,4,5,6,7,8,9,10,11]},\"id\":\"29611\",\"type\":\"MonthsTicker\"},{\"attributes\":{\"data_source\":{\"id\":\"29516\"},\"glyph\":{\"id\":\"29517\"},\"hover_glyph\":null,\"muted_glyph\":null,\"nonselection_glyph\":{\"id\":\"29518\"},\"selection_glyph\":null,\"view\":{\"id\":\"29520\"}},\"id\":\"29519\",\"type\":\"GlyphRenderer\"},{\"attributes\":{\"months\":[0,2,4,6,8,10]},\"id\":\"29612\",\"type\":\"MonthsTicker\"},{\"attributes\":{\"months\":[0,4,8]},\"id\":\"29613\",\"type\":\"MonthsTicker\"},{\"attributes\":{\"months\":[0,6]},\"id\":\"29614\",\"type\":\"MonthsTicker\"},{\"attributes\":{\"source\":{\"id\":\"29623\"}},\"id\":\"29627\",\"type\":\"CDSView\"},{\"attributes\":{},\"id\":\"29646\",\"type\":\"UnionRenderers\"},{\"attributes\":{\"data\":{\"x\":{\"__ndarray__\":\"AAAA5UcHd0IAAMBKmgd3QgAAgLDsB3dCAABAFj8Id0IAAAB8kQh3QgAAwOHjCHdCAACARzYJd0IAAECtiAl3QgAAABPbCXdCAADAeC0Kd0IAAIDefwp3QgAAQETSCndCAAAAqiQLd0IAAMAPdwt3QgAAgHXJC3dCAABA2xsMd0IAAABBbgx3QgAAwKbADHdCAACADBMNd0IAAEByZQ13QgAAANi3DXdCAADAPQoOd0IAAICjXA53QgAAQAmvDndCAAAAbwEPd0IAAMDUUw93QgAAgDqmD3dCAABAoPgPd0IAAAAGSxB3QgAAwGudEHdCAACA0e8Qd0IAAEA3QhF3QgAAAJ2UEXdCAADAAucRd0IAAIBoORJ3QgAAQM6LEndCAAAANN4Sd0IAAMCZMBN3QgAAgP+CE3dCAABAZdUTd0IAAADLJxR3QgAAwDB6FHdCAACAlswUd0IAAED8HhV3QgAAAGJxFXdCAADAx8MVd0IAAIAtFhZ3QgAAQJNoFndCAAAA+boWd0IAAMBeDRd3QgAAgMRfF3dCAABAKrIXd0IAAACQBBh3QgAAwPVWGHdCAACAW6kYd0IAAEDB+xh3QgAAACdOGXdCAADAjKAZd0IAAIDy8hl3QgAAQFhFGndCAAAAvpcad0IAAMAj6hp3QgAAgIk8G3dCAABA744bd0IAAABV4Rt3QgAAwLozHHdCAACAIIYcd0IAAECG2Bx3QgAAAOwqHXdCAADAUX0dd0IAAIC3zx13QgAAQB0iHndCAAAAg3Qed0IAAMDoxh53QgAAgE4ZH3dCAABAtGsfd0IAAAAavh93QgAAwH8QIHdCAACA5WIgd0IAAEBLtSB3QgAAALEHIXdCAADAFlohd0IAAIB8rCF3QgAAQOL+IXdCAAAASFEid0IAAMCtoyJ3QgAAgBP2IndCAABAeUgjd0IAAADfmiN3QgAAwETtI3dCAACAqj8kd0IAAEAQkiR3QgAAAHbkJHdCAADA2zYld0IAAIBBiSV3QgAAQKfbJXdCAAAADS4md0IAAMBygCZ3QgAAgNjSJndCAABAPiUnd0IAAACkdyd3QgAAwAnKJ3dCAACAbxwod0IAAEDVbih3QgAAADvBKHdCAADAoBMpd0IAAIAGZil3QgAAQGy4KXdCAAAA0goqd0IAAMA3XSp3QgAAgJ2vKndCAABAAwIrd0IAAABpVCt3QgAAwM6mK3dCAACANPkrd0IAAECaSyx3QgAAAACeLHdCAADAZfAsd0IAAIDLQi13QgAAQDGVLXdCAAAAl+ctd0IAAMD8OS53QgAAgGKMLndCAABAyN4ud0IAAAAuMS93QgAAwJODL3dCAACA+dUvd0I=\",\"dtype\":\"float64\",\"shape\":[127]},\"y\":[1,1,3,45,46,50,83,149,160,276,414,523,589,622,724,1004,1045,1258,1439,1966,2335,2749,2941,4025,4440,5129,6072,7024,7432,8326,9362,10361,10950,12384,13030,14620,15729,16847,18278,19758,20996,21815,22837,24392,26491,28470,30455,32534,34211,35435,37130,38092,40164,42727,44927,47055,48877,51600,54543,57576,60498,63120,64928,66624,68941,71252,75945,78249,79914,81654,82879,85231,93245,96276,99023,103031,105186,106587,109039,112541,115288,120205,122810,125176,127326,129401,132282,134560,136720,138840,140479,141981,144658,147101,150604,152844,155633,157507,158355,160092,160938,161895,163781,165078,165837,166584,168646,169939,171338,173085,174865,176370,177010,178526,179455,180544,181907,182453,182893,183426,184585,186111,186725,187615,188584,188891,189196]},\"selected\":{\"id\":\"30329\"},\"selection_policy\":{\"id\":\"30328\"}},\"id\":\"29623\",\"type\":\"ColumnDataSource\"},{\"attributes\":{\"data_source\":{\"id\":\"29623\"},\"glyph\":{\"id\":\"29624\"},\"hover_glyph\":null,\"muted_glyph\":null,\"nonselection_glyph\":{\"id\":\"29625\"},\"selection_glyph\":null,\"view\":{\"id\":\"29627\"}},\"id\":\"29626\",\"type\":\"GlyphRenderer\"},{\"attributes\":{\"line_alpha\":0.1,\"line_color\":\"green\",\"line_width\":4,\"x\":{\"field\":\"x\"},\"y\":{\"field\":\"y\"}},\"id\":\"29625\",\"type\":\"Line\"},{\"attributes\":{\"label\":{\"value\":\"recovered\"},\"renderers\":[{\"id\":\"29626\"}]},\"id\":\"29650\",\"type\":\"LegendItem\"},{\"attributes\":{\"source\":{\"id\":\"29651\"}},\"id\":\"29655\",\"type\":\"CDSView\"},{\"attributes\":{},\"id\":\"29648\",\"type\":\"UnionRenderers\"},{\"attributes\":{},\"id\":\"29647\",\"type\":\"Selection\"},{\"attributes\":{},\"id\":\"29649\",\"type\":\"Selection\"},{\"attributes\":{\"fill_color\":{\"value\":\"white\"},\"line_color\":{\"value\":\"green\"},\"size\":{\"units\":\"screen\",\"value\":5},\"x\":{\"field\":\"x\"},\"y\":{\"field\":\"y\"}},\"id\":\"29652\",\"type\":\"Circle\"},{\"attributes\":{\"data_source\":{\"id\":\"29651\"},\"glyph\":{\"id\":\"29652\"},\"hover_glyph\":null,\"muted_glyph\":null,\"nonselection_glyph\":{\"id\":\"29653\"},\"selection_glyph\":null,\"view\":{\"id\":\"29655\"}},\"id\":\"29654\",\"type\":\"GlyphRenderer\"},{\"attributes\":{\"data\":{\"x\":{\"__ndarray__\":\"AAAA5UcHd0IAAMBKmgd3QgAAgLDsB3dCAABAFj8Id0IAAAB8kQh3QgAAwOHjCHdCAACARzYJd0IAAECtiAl3QgAAABPbCXdCAADAeC0Kd0IAAIDefwp3QgAAQETSCndCAAAAqiQLd0IAAMAPdwt3QgAAgHXJC3dCAABA2xsMd0IAAABBbgx3QgAAwKbADHdCAACADBMNd0IAAEByZQ13QgAAANi3DXdCAADAPQoOd0IAAICjXA53QgAAQAmvDndCAAAAbwEPd0IAAMDUUw93QgAAgDqmD3dCAABAoPgPd0IAAAAGSxB3QgAAwGudEHdCAACA0e8Qd0IAAEA3QhF3QgAAAJ2UEXdCAADAAucRd0IAAIBoORJ3QgAAQM6LEndCAAAANN4Sd0IAAMCZMBN3QgAAgP+CE3dCAABAZdUTd0IAAADLJxR3QgAAwDB6FHdCAACAlswUd0IAAED8HhV3QgAAAGJxFXdCAADAx8MVd0IAAIAtFhZ3QgAAQJNoFndCAAAA+boWd0IAAMBeDRd3QgAAgMRfF3dCAABAKrIXd0IAAACQBBh3QgAAwPVWGHdCAACAW6kYd0IAAEDB+xh3QgAAACdOGXdCAADAjKAZd0IAAIDy8hl3QgAAQFhFGndCAAAAvpcad0IAAMAj6hp3QgAAgIk8G3dCAABA744bd0IAAABV4Rt3QgAAwLozHHdCAACAIIYcd0IAAECG2Bx3QgAAAOwqHXdCAADAUX0dd0IAAIC3zx13QgAAQB0iHndCAAAAg3Qed0IAAMDoxh53QgAAgE4ZH3dCAABAtGsfd0IAAAAavh93QgAAwH8QIHdCAACA5WIgd0IAAEBLtSB3QgAAALEHIXdCAADAFlohd0IAAIB8rCF3QgAAQOL+IXdCAAAASFEid0IAAMCtoyJ3QgAAgBP2IndCAABAeUgjd0IAAADfmiN3QgAAwETtI3dCAACAqj8kd0IAAEAQkiR3QgAAAHbkJHdCAADA2zYld0IAAIBBiSV3QgAAQKfbJXdCAAAADS4md0IAAMBygCZ3QgAAgNjSJndCAABAPiUnd0IAAACkdyd3QgAAwAnKJ3dCAACAbxwod0IAAEDVbih3QgAAADvBKHdCAADAoBMpd0IAAIAGZil3QgAAQGy4KXdCAAAA0goqd0IAAMA3XSp3QgAAgJ2vKndCAABAAwIrd0IAAABpVCt3QgAAwM6mK3dCAACANPkrd0IAAECaSyx3QgAAAACeLHdCAADAZfAsd0IAAIDLQi13QgAAQDGVLXdCAAAAl+ctd0IAAMD8OS53QgAAgGKMLndCAABAyN4ud0IAAAAuMS93QgAAwJODL3dCAACA+dUvd0I=\",\"dtype\":\"float64\",\"shape\":[127]},\"y\":[1,1,3,45,46,50,83,149,160,276,414,523,589,622,724,1004,1045,1258,1439,1966,2335,2749,2941,4025,4440,5129,6072,7024,7432,8326,9362,10361,10950,12384,13030,14620,15729,16847,18278,19758,20996,21815,22837,24392,26491,28470,30455,32534,34211,35435,37130,38092,40164,42727,44927,47055,48877,51600,54543,57576,60498,63120,64928,66624,68941,71252,75945,78249,79914,81654,82879,85231,93245,96276,99023,103031,105186,106587,109039,112541,115288,120205,122810,125176,127326,129401,132282,134560,136720,138840,140479,141981,144658,147101,150604,152844,155633,157507,158355,160092,160938,161895,163781,165078,165837,166584,168646,169939,171338,173085,174865,176370,177010,178526,179455,180544,181907,182453,182893,183426,184585,186111,186725,187615,188584,188891,189196]},\"selected\":{\"id\":\"30331\"},\"selection_policy\":{\"id\":\"30330\"}},\"id\":\"29651\",\"type\":\"ColumnDataSource\"},{\"attributes\":{\"fill_alpha\":{\"value\":0.1},\"fill_color\":{\"value\":\"white\"},\"line_alpha\":{\"value\":0.1},\"line_color\":{\"value\":\"green\"},\"size\":{\"units\":\"screen\",\"value\":5},\"x\":{\"field\":\"x\"},\"y\":{\"field\":\"y\"}},\"id\":\"29653\",\"type\":\"Circle\"},{\"attributes\":{\"line_color\":\"darkviolet\",\"line_width\":4,\"x\":{\"field\":\"x\"},\"y\":{\"field\":\"y\"}},\"id\":\"30037\",\"type\":\"Line\"},{\"attributes\":{},\"id\":\"30063\",\"type\":\"UnionRenderers\"},{\"attributes\":{\"data_source\":{\"id\":\"30031\"},\"glyph\":{\"id\":\"30032\"},\"hover_glyph\":null,\"muted_glyph\":null,\"nonselection_glyph\":{\"id\":\"30033\"},\"selection_glyph\":null,\"view\":{\"id\":\"30035\"}},\"id\":\"30034\",\"type\":\"GlyphRenderer\"},{\"attributes\":{\"source\":{\"id\":\"30031\"}},\"id\":\"30035\",\"type\":\"CDSView\"},{\"attributes\":{\"data\":{\"x\":{\"__ndarray__\":\"AACAdckLd0IAAEDbGwx3QgAAAEFuDHdCAADApsAMd0IAAIAMEw13QgAAQHJlDXdCAAAA2LcNd0IAAMA9Cg53QgAAgKNcDndCAABACa8Od0IAAABvAQ93QgAAwNRTD3dCAACAOqYPd0IAAECg+A93QgAAAAZLEHdCAADAa50Qd0IAAIDR7xB3QgAAQDdCEXdCAAAAnZQRd0IAAMAC5xF3QgAAgGg5EndCAABAzosSd0IAAAA03hJ3QgAAwJkwE3dCAACA/4ITd0IAAEBl1RN3QgAAAMsnFHdCAADAMHoUd0IAAICWzBR3QgAAQPweFXdCAAAAYnEVd0IAAMDHwxV3QgAAgC0WFndCAABAk2gWd0IAAAD5uhZ3QgAAwF4NF3dCAACAxF8Xd0IAAEAqshd3QgAAAJAEGHdCAADA9VYYd0IAAIBbqRh3QgAAQMH7GHdCAAAAJ04Zd0IAAMCMoBl3QgAAgPLyGXdCAABAWEUad0IAAAC+lxp3QgAAwCPqGndCAACAiTwbd0IAAEDvjht3QgAAAFXhG3dCAADAujMcd0IAAIAghhx3QgAAQIbYHHdCAAAA7Codd0IAAMBRfR13QgAAgLfPHXdCAABAHSIed0IAAACDdB53QgAAwOjGHndCAACAThkfd0IAAEC0ax93QgAAABq+H3dCAADAfxAgd0IAAIDlYiB3QgAAQEu1IHdCAAAAsQchd0IAAMAWWiF3QgAAgHysIXdCAABA4v4hd0IAAABIUSJ3QgAAwK2jIndCAACAE/Yid0IAAEB5SCN3QgAAAN+aI3dCAADARO0jd0IAAICqPyR3QgAAQBCSJHdCAAAAduQkd0IAAMDbNiV3QgAAgEGJJXdCAABAp9sld0IAAAANLiZ3QgAAwHKAJndCAACA2NImd0IAAEA+JSd3QgAAAKR3J3dCAADACcond0IAAIBvHCh3QgAAQNVuKHdCAAAAO8Eod0IAAMCgEyl3QgAAgAZmKXdCAABAbLgpd0IAAADSCip3QgAAwDddKndCAACAna8qd0IAAEADAit3QgAAAGlUK3dCAADAzqYrd0IAAIA0+St3QgAAQJpLLHdCAAAAAJ4sd0IAAMBl8Cx3QgAAgMtCLXdCAABAMZUtd0IAAACX5y13QgAAwPw5LndCAACAYowud0IAAEDI3i53QgAAAC4xL3dCAADAk4Mvd0IAAID51S93QgAAQF8oMHdCAAAAxXowd0IAAMAqzTB3QgAAgJAfMXdCAABA9nExd0IAAABcxDF3QgAAwMEWMndCAACAJ2kyd0IAAECNuzJ3QgAAAPMNM3dCAADAWGAzd0IAAIC+sjN3QgAAQCQFNHdCAAAAilc0d0I=\",\"dtype\":\"float64\",\"shape\":[127]},\"y\":[5383.6596092904065,11586.586976529454,6256.115115649222,2921.658124836654,2995.3696834950824,2438.049970074125,3280.8262087779594,4171.791660983626,4628.839818312201,5780.657588128703,6402.286367116678,8338.126960653863,13438.041684871727,15673.024214700494,13988.73415496513,13983.069050433938,13643.268016949949,13280.422296375873,14541.035426240474,15948.31868212823,16919.447900144303,17624.14409613583,18427.57334674624,19024.31686659782,19595.446211927356,20492.703154545885,21108.5383707799,20826.538772937543,20749.062497024675,20941.22539593412,21105.43169556148,21602.86770287848,22532.032375414285,23553.98317175984,24188.844519767543,25240.951466661896,26808.0719035675,28665.271023131954,30936.49184458559,33695.962544052265,34834.49868458522,34064.377627766225,33887.82027534752,34098.426117585965,33838.70772885899,34120.71784750253,34013.01934670106,33912.26043688998,32554.455468747023,32205.915752532,32344.579720552705,32404.129983801267,32285.390477842815,32204.853289620547,32787.837743913165,32806.5573498251,32829.535005267986,33128.684259480826,33957.756442907164,35239.37223176212,36228.026855982396,36193.92159191195,34944.57172641624,34525.59559431845,34290.856415843744,34014.02741872075,34256.298341342124,35176.15740591003,36767.556446592695,35628.519323998466,34959.908708032715,35175.56304992349,36291.63567847923,36623.77439868876,36215.77365308548,35420.11882097668,34541.41659772791,34133.82886880968,33922.29753387945,33996.16777848686,34203.53529120357,34344.359642770425,34376.56052032992,34402.71447145229,34395.08631828215,34639.58687636816,35049.515930923386,35818.66126514765,36753.582348162876,37068.83604223238,35975.02534544718,35940.17360065014,36254.82556907301,37532.14911399668,37416.92357068681,37867.42164332909,40116.05744946298,37720.211275745474,35983.209634172876,35363.48992105854,35180.62730219532,35252.09386316814,35327.25790264103,35385.09970192637,35305.8909468437,35283.93612344877,35258.455485397484,34999.571817581,34896.990949696614,34867.217490531155,34845.00086747922,34811.32065938844,34780.59104572038]},\"selected\":{\"id\":\"30416\"},\"selection_policy\":{\"id\":\"30415\"}},\"id\":\"30036\",\"type\":\"ColumnDataSource\"},{\"attributes\":{\"fill_alpha\":{\"value\":0.1},\"fill_color\":{\"value\":\"white\"},\"line_alpha\":{\"value\":0.1},\"line_color\":{\"value\":\"lightblue\"},\"size\":{\"units\":\"screen\",\"value\":5},\"x\":{\"field\":\"x\"},\"y\":{\"field\":\"y\"}},\"id\":\"30033\",\"type\":\"Circle\"},{\"attributes\":{\"bottom_units\":\"screen\",\"fill_alpha\":0.5,\"fill_color\":\"lightgrey\",\"left_units\":\"screen\",\"level\":\"overlay\",\"line_alpha\":1.0,\"line_color\":\"black\",\"line_dash\":[4,4],\"line_width\":2,\"render_mode\":\"css\",\"right_units\":\"screen\",\"top_units\":\"screen\"},\"id\":\"29965\",\"type\":\"BoxAnnotation\"},{\"attributes\":{\"source\":{\"id\":\"29973\"}},\"id\":\"29977\",\"type\":\"CDSView\"},{\"attributes\":{\"fill_color\":{\"value\":\"white\"},\"line_color\":{\"value\":\"lightcoral\"},\"size\":{\"units\":\"screen\",\"value\":5},\"x\":{\"field\":\"x\"},\"y\":{\"field\":\"y\"}},\"id\":\"29999\",\"type\":\"Circle\"},{\"attributes\":{\"fill_color\":{\"value\":\"white\"},\"line_color\":{\"value\":\"blue\"},\"size\":{\"units\":\"screen\",\"value\":5},\"x\":{\"field\":\"x\"},\"y\":{\"field\":\"y\"}},\"id\":\"30138\",\"type\":\"Circle\"},{\"attributes\":{\"items\":[{\"id\":\"29997\"},{\"id\":\"30030\"},{\"id\":\"30067\"}],\"location\":\"bottom_right\"},\"id\":\"29996\",\"type\":\"Legend\"},{\"attributes\":{\"line_alpha\":0.1,\"line_color\":\"blue\",\"line_width\":4,\"x\":{\"field\":\"x\"},\"y\":{\"field\":\"y\"}},\"id\":\"30114\",\"type\":\"Line\"},{\"attributes\":{\"mantissas\":[1,2,5],\"max_interval\":500.0,\"num_minor_ticks\":0},\"id\":\"29984\",\"type\":\"AdaptiveTicker\"},{\"attributes\":{\"base\":24,\"mantissas\":[1,2,4,6,8,12],\"max_interval\":43200000.0,\"min_interval\":3600000.0,\"num_minor_ticks\":0},\"id\":\"29986\",\"type\":\"AdaptiveTicker\"},{\"attributes\":{\"base\":60,\"mantissas\":[1,2,5,10,15,20,30],\"max_interval\":1800000.0,\"min_interval\":1000.0,\"num_minor_ticks\":0},\"id\":\"29985\",\"type\":\"AdaptiveTicker\"},{\"attributes\":{\"days\":[1,2,3,4,5,6,7,8,9,10,11,12,13,14,15,16,17,18,19,20,21,22,23,24,25,26,27,28,29,30,31]},\"id\":\"29987\",\"type\":\"DaysTicker\"},{\"attributes\":{\"days\":[1,4,7,10,13,16,19,22,25,28]},\"id\":\"29988\",\"type\":\"DaysTicker\"},{\"attributes\":{\"days\":[1,8,15,22]},\"id\":\"29989\",\"type\":\"DaysTicker\"},{\"attributes\":{\"days\":[1,15]},\"id\":\"29990\",\"type\":\"DaysTicker\"},{\"attributes\":{\"months\":[0,1,2,3,4,5,6,7,8,9,10,11]},\"id\":\"29991\",\"type\":\"MonthsTicker\"},{\"attributes\":{\"months\":[0,2,4,6,8,10]},\"id\":\"29992\",\"type\":\"MonthsTicker\"},{\"attributes\":{\"months\":[0,4,8]},\"id\":\"29993\",\"type\":\"MonthsTicker\"},{\"attributes\":{\"months\":[0,6]},\"id\":\"29994\",\"type\":\"MonthsTicker\"},{\"attributes\":{},\"id\":\"29995\",\"type\":\"YearsTicker\"},{\"attributes\":{\"label\":{\"value\":\"total deaths max UP\"},\"renderers\":[{\"id\":\"29976\"}]},\"id\":\"29997\",\"type\":\"LegendItem\"},{\"attributes\":{\"fill_alpha\":{\"value\":0.1},\"fill_color\":{\"value\":\"white\"},\"line_alpha\":{\"value\":0.1},\"line_color\":{\"value\":\"lightcoral\"},\"size\":{\"units\":\"screen\",\"value\":5},\"x\":{\"field\":\"x\"},\"y\":{\"field\":\"y\"}},\"id\":\"30000\",\"type\":\"Circle\"},{\"attributes\":{\"data\":{\"x\":{\"__ndarray__\":\"AACAdckLd0IAAEDbGwx3QgAAAEFuDHdCAADApsAMd0IAAIAMEw13QgAAQHJlDXdCAAAA2LcNd0IAAMA9Cg53QgAAgKNcDndCAABACa8Od0IAAABvAQ93QgAAwNRTD3dCAACAOqYPd0IAAECg+A93QgAAAAZLEHdCAADAa50Qd0IAAIDR7xB3QgAAQDdCEXdCAAAAnZQRd0IAAMAC5xF3QgAAgGg5EndCAABAzosSd0IAAAA03hJ3QgAAwJkwE3dCAACA/4ITd0IAAEBl1RN3QgAAAMsnFHdCAADAMHoUd0IAAICWzBR3QgAAQPweFXdCAAAAYnEVd0IAAMDHwxV3QgAAgC0WFndCAABAk2gWd0IAAAD5uhZ3QgAAwF4NF3dCAACAxF8Xd0IAAEAqshd3QgAAAJAEGHdCAADA9VYYd0IAAIBbqRh3QgAAQMH7GHdCAAAAJ04Zd0IAAMCMoBl3QgAAgPLyGXdCAABAWEUad0IAAAC+lxp3QgAAwCPqGndCAACAiTwbd0IAAEDvjht3QgAAAFXhG3dCAADAujMcd0IAAIAghhx3QgAAQIbYHHdCAAAA7Codd0IAAMBRfR13QgAAgLfPHXdCAABAHSIed0IAAACDdB53QgAAwOjGHndCAACAThkfd0IAAEC0ax93QgAAABq+H3dCAADAfxAgd0IAAIDlYiB3QgAAQEu1IHdCAAAAsQchd0IAAMAWWiF3QgAAgHysIXdCAABA4v4hd0IAAABIUSJ3QgAAwK2jIndCAACAE/Yid0IAAEB5SCN3QgAAAN+aI3dCAADARO0jd0IAAICqPyR3QgAAQBCSJHdCAAAAduQkd0IAAMDbNiV3QgAAgEGJJXdCAABAp9sld0IAAAANLiZ3QgAAwHKAJndCAACA2NImd0IAAEA+JSd3QgAAAKR3J3dCAADACcond0IAAIBvHCh3QgAAQNVuKHdCAAAAO8Eod0IAAMCgEyl3QgAAgAZmKXdCAABAbLgpd0IAAADSCip3QgAAwDddKndCAACAna8qd0IAAEADAit3QgAAAGlUK3dCAADAzqYrd0IAAIA0+St3QgAAQJpLLHdCAAAAAJ4sd0IAAMBl8Cx3QgAAgMtCLXdCAABAMZUtd0IAAACX5y13QgAAwPw5LndCAACAYowud0IAAEDI3i53QgAAAC4xL3dCAADAk4Mvd0IAAID51S93QgAAQF8oMHdCAAAAxXowd0IAAMAqzTB3QgAAgJAfMXdCAABA9nExd0IAAABcxDF3QgAAwMEWMndCAACAJ2kyd0IAAECNuzJ3QgAAAPMNM3dCAADAWGAzd0IAAIC+sjN3QgAAQCQFNHdCAAAAilc0d0I=\",\"dtype\":\"float64\",\"shape\":[127]},\"y\":[15126.22446615273,37293.56878713092,10255.769525094602,3439.9947850040458,3313.02138001441,2586.9708812681347,3623.914396421633,4651.057813357563,5050.779275102898,6391.532847483163,6957.044682717751,9316.416481045784,16392.288644633736,18325.72183057608,15481.8602169969,15011.571872634177,14368.46451013765,13803.27480284032,15240.321155112646,16833.425582841955,17766.844805860437,18418.303397647738,19202.94700693323,19707.718158555377,20206.865611223024,20977.56483635313,21441.9983402785,21119.124956683583,20987.343321689383,21177.345281487564,21340.679060805727,21907.84574920276,22852.375149319574,24000.450754674242,24670.398551101458,25788.06617468369,27499.263941336943,29589.129636094258,31944.650815107852,34719.7955239108,35804.10722501527,34952.459517738986,34729.62212404043,34925.368544591445,34585.6136151191,34867.02623487922,34707.80181620491,34558.31623479004,32985.555725266684,32624.687210666816,32757.393168488044,32808.73787500851,32662.42135040724,32563.410691405064,33355.84622559353,33357.63326320049,33372.52576860454,33679.94610713555,34701.995373591984,36283.30564815349,37529.98221340563,37467.790160677294,35802.98738997665,35286.241239083516,34999.283818844946,34626.46899812836,34941.29261270131,36244.67104115673,38475.94906140051,36647.46149941817,35721.795333282644,36003.82725651222,37398.62451113495,37856.14209648177,37255.79045379563,36070.885495604736,34884.97876536398,34352.83354112061,34085.40384186729,34173.388266574286,34401.441657501426,34567.73595187179,34604.17348147893,34632.48991608872,34615.69536693465,34915.78475916209,35415.629904556576,36402.36412015375,37780.493295056986,38288.46654843085,36462.873042333624,36410.79878210264,36866.858692748596,38756.89686487875,38572.87429838713,39270.42643643237,43157.143008510655,38884.10441745088,36346.639872995744,35537.19011612215,35311.852491643986,35404.39330304099,35505.17618388665,35584.53969131409,35469.39632518595,35442.85384909087,35417.177872061584,35125.13784400409,34984.19386918289,34941.01247433142,34909.90921640708,34854.407716970054,34805.28896695872]},\"selected\":{\"id\":\"30029\"},\"selection_policy\":{\"id\":\"30028\"}},\"id\":\"29998\",\"type\":\"ColumnDataSource\"},{\"attributes\":{\"data\":{\"x\":{\"__ndarray__\":\"AACAdckLd0IAAEDbGwx3QgAAAEFuDHdCAADApsAMd0IAAIAMEw13QgAAQHJlDXdCAAAA2LcNd0IAAMA9Cg53QgAAgKNcDndCAABACa8Od0IAAABvAQ93QgAAwNRTD3dCAACAOqYPd0IAAECg+A93QgAAAAZLEHdCAADAa50Qd0IAAIDR7xB3QgAAQDdCEXdCAAAAnZQRd0IAAMAC5xF3QgAAgGg5EndCAABAzosSd0IAAAA03hJ3QgAAwJkwE3dCAACA/4ITd0IAAEBl1RN3QgAAAMsnFHdCAADAMHoUd0IAAICWzBR3QgAAQPweFXdCAAAAYnEVd0IAAMDHwxV3QgAAgC0WFndCAABAk2gWd0IAAAD5uhZ3QgAAwF4NF3dCAACAxF8Xd0IAAEAqshd3QgAAAJAEGHdCAADA9VYYd0IAAIBbqRh3QgAAQMH7GHdCAAAAJ04Zd0IAAMCMoBl3QgAAgPLyGXdCAABAWEUad0IAAAC+lxp3QgAAwCPqGndCAACAiTwbd0IAAEDvjht3QgAAAFXhG3dCAADAujMcd0IAAIAghhx3QgAAQIbYHHdCAAAA7Codd0IAAMBRfR13QgAAgLfPHXdCAABAHSIed0IAAACDdB53QgAAwOjGHndCAACAThkfd0IAAEC0ax93QgAAABq+H3dCAADAfxAgd0IAAIDlYiB3QgAAQEu1IHdCAAAAsQchd0IAAMAWWiF3QgAAgHysIXdCAABA4v4hd0IAAABIUSJ3QgAAwK2jIndCAACAE/Yid0IAAEB5SCN3QgAAAN+aI3dCAADARO0jd0IAAICqPyR3QgAAQBCSJHdCAAAAduQkd0IAAMDbNiV3QgAAgEGJJXdCAABAp9sld0IAAAANLiZ3QgAAwHKAJndCAACA2NImd0IAAEA+JSd3QgAAAKR3J3dCAADACcond0IAAIBvHCh3QgAAQNVuKHdCAAAAO8Eod0IAAMCgEyl3QgAAgAZmKXdCAABAbLgpd0IAAADSCip3QgAAwDddKndCAACAna8qd0IAAEADAit3QgAAAGlUK3dCAADAzqYrd0IAAIA0+St3QgAAQJpLLHdCAAAAAJ4sd0IAAMBl8Cx3QgAAgMtCLXdCAABAMZUtd0IAAACX5y13QgAAwPw5LndCAACAYowud0IAAEDI3i53QgAAAC4xL3dCAADAk4Mvd0IAAID51S93QgAAQF8oMHdCAAAAxXowd0IAAMAqzTB3QgAAgJAfMXdCAABA9nExd0IAAABcxDF3QgAAwMEWMndCAACAJ2kyd0IAAECNuzJ3QgAAAPMNM3dCAADAWGAzd0IAAIC+sjN3QgAAQCQFNHdCAAAAilc0d0I=\",\"dtype\":\"float64\",\"shape\":[127]},\"y\":[-4358.905247571917,-14120.39483407201,2256.4607062038435,2403.3214646692627,2677.7179869757547,2289.1290588801157,2937.738021134286,3692.5255086096886,4206.900361521503,5169.782328774242,5847.528051515605,7359.83744026194,10483.794725109718,13020.326598824908,12495.60809293336,12954.5662282337,12918.071523762248,12757.569789911426,13841.749697368303,15063.211781414504,16072.050994428171,16829.984794623924,17652.199686559252,18340.91557464026,18984.026812631688,20007.84147273864,20775.078401281302,20533.952589191504,20510.781672359968,20705.10551038068,20870.184330317235,21297.8896565542,22211.689601508995,23107.515588845436,23707.290488433628,24693.836758640104,26116.879865798055,27741.41241016965,29928.33287406333,32672.129564193732,33864.890144155164,33176.295737793465,33046.01842665461,33271.483690580484,33091.801842598885,33374.40946012584,33318.23687719721,33266.20463898991,32123.35521222736,31787.144294397185,31931.766272617366,31999.522092594023,31908.35960527839,31846.29588783603,32219.8292622328,32255.48143644971,32286.544241931435,32577.422411826105,33213.517512222345,34195.438815370755,34926.07149855916,34920.05302314661,34086.15606285582,33764.94994955339,33582.42901284254,33401.585839313135,33571.304069982936,34107.64377066333,35059.16383178488,34609.57714857876,34198.02208278279,34347.298843334764,35184.64684582351,35391.40670089574,35175.756852375336,34769.35214634862,34197.854430091844,33914.82419649875,33759.191225891605,33818.94729039943,34005.62892490571,34120.98333366906,34148.94755918091,34172.93902681585,34174.47726962965,34363.388993574226,34683.401957290196,35234.95841014156,35726.671401268766,35849.205536033915,35487.17764856074,35469.548419197636,35642.79244539742,36307.401363114615,36260.9728429865,36464.41685022582,37074.9718904153,36556.31813404007,35619.77939535001,35189.78972599494,35049.40211274665,35099.794423295294,35149.33962139541,35185.65971253865,35142.38556850144,35125.01839780668,35099.733098733384,34874.00579115791,34809.78803021034,34793.42250673089,34780.092518551355,34768.23360180682,34755.89312448204]},\"selected\":{\"id\":\"30064\"},\"selection_policy\":{\"id\":\"30063\"}},\"id\":\"30003\",\"type\":\"ColumnDataSource\"},{\"attributes\":{\"line_color\":\"lightblue\",\"line_width\":4,\"x\":{\"field\":\"x\"},\"y\":{\"field\":\"y\"}},\"id\":\"30004\",\"type\":\"Line\"},{\"attributes\":{\"data_source\":{\"id\":\"29998\"},\"glyph\":{\"id\":\"29999\"},\"hover_glyph\":null,\"muted_glyph\":null,\"nonselection_glyph\":{\"id\":\"30000\"},\"selection_glyph\":null,\"view\":{\"id\":\"30002\"}},\"id\":\"30001\",\"type\":\"GlyphRenderer\"},{\"attributes\":{\"source\":{\"id\":\"29998\"}},\"id\":\"30002\",\"type\":\"CDSView\"},{\"attributes\":{},\"id\":\"29547\",\"type\":\"Selection\"},{\"attributes\":{},\"id\":\"30465\",\"type\":\"UnionRenderers\"},{\"attributes\":{},\"id\":\"30304\",\"type\":\"Selection\"},{\"attributes\":{\"months\":[0,6]},\"id\":\"30235\",\"type\":\"MonthsTicker\"},{\"attributes\":{\"fill_color\":{\"value\":\"white\"},\"line_color\":{\"value\":\"red\"},\"size\":{\"units\":\"screen\",\"value\":5},\"x\":{\"field\":\"x\"},\"y\":{\"field\":\"y\"}},\"id\":\"29550\",\"type\":\"Circle\"},{\"attributes\":{},\"id\":\"30306\",\"type\":\"Selection\"},{\"attributes\":{\"bottom_units\":\"screen\",\"fill_alpha\":0.5,\"fill_color\":\"lightgrey\",\"left_units\":\"screen\",\"level\":\"overlay\",\"line_alpha\":1.0,\"line_color\":\"black\",\"line_dash\":[4,4],\"line_width\":2,\"render_mode\":\"css\",\"right_units\":\"screen\",\"top_units\":\"screen\"},\"id\":\"29483\",\"type\":\"BoxAnnotation\"},{\"attributes\":{\"base\":24,\"mantissas\":[1,2,4,6,8,12],\"max_interval\":43200000.0,\"min_interval\":3600000.0,\"num_minor_ticks\":0},\"id\":\"30125\",\"type\":\"AdaptiveTicker\"},{\"attributes\":{},\"id\":\"29582\",\"type\":\"SaveTool\"},{\"attributes\":{\"data\":{\"x\":{\"__ndarray__\":\"AAAA5UcHd0IAAMBKmgd3QgAAgLDsB3dCAABAFj8Id0IAAAB8kQh3QgAAwOHjCHdCAACARzYJd0IAAECtiAl3QgAAABPbCXdCAADAeC0Kd0IAAIDefwp3QgAAQETSCndCAAAAqiQLd0IAAMAPdwt3QgAAgHXJC3dCAABA2xsMd0IAAABBbgx3QgAAwKbADHdCAACADBMNd0IAAEByZQ13QgAAANi3DXdCAADAPQoOd0IAAICjXA53QgAAQAmvDndCAAAAbwEPd0IAAMDUUw93QgAAgDqmD3dCAABAoPgPd0IAAAAGSxB3QgAAwGudEHdCAACA0e8Qd0IAAEA3QhF3QgAAAJ2UEXdCAADAAucRd0IAAIBoORJ3QgAAQM6LEndCAAAANN4Sd0IAAMCZMBN3QgAAgP+CE3dCAABAZdUTd0IAAADLJxR3QgAAwDB6FHdCAACAlswUd0IAAED8HhV3QgAAAGJxFXdCAADAx8MVd0IAAIAtFhZ3QgAAQJNoFndCAAAA+boWd0IAAMBeDRd3QgAAgMRfF3dCAABAKrIXd0IAAACQBBh3QgAAwPVWGHdCAACAW6kYd0IAAEDB+xh3QgAAACdOGXdCAADAjKAZd0IAAIDy8hl3QgAAQFhFGndCAAAAvpcad0IAAMAj6hp3QgAAgIk8G3dCAABA744bd0IAAABV4Rt3QgAAwLozHHdCAACAIIYcd0IAAECG2Bx3QgAAAOwqHXdCAADAUX0dd0IAAIC3zx13QgAAQB0iHndCAAAAg3Qed0IAAMDoxh53QgAAgE4ZH3dCAABAtGsfd0IAAAAavh93QgAAwH8QIHdCAACA5WIgd0IAAEBLtSB3QgAAALEHIXdCAADAFlohd0IAAIB8rCF3QgAAQOL+IXdCAAAASFEid0IAAMCtoyJ3QgAAgBP2IndCAABAeUgjd0IAAADfmiN3QgAAwETtI3dCAACAqj8kd0IAAEAQkiR3QgAAAHbkJHdCAADA2zYld0IAAIBBiSV3QgAAQKfbJXdCAAAADS4md0IAAMBygCZ3QgAAgNjSJndCAABAPiUnd0IAAACkdyd3QgAAwAnKJ3dCAACAbxwod0IAAEDVbih3QgAAADvBKHdCAADAoBMpd0IAAIAGZil3QgAAQGy4KXdCAAAA0goqd0IAAMA3XSp3QgAAgJ2vKndCAABAAwIrd0IAAABpVCt3QgAAwM6mK3dCAACANPkrd0IAAECaSyx3QgAAAACeLHdCAADAZfAsd0IAAIDLQi13QgAAQDGVLXdCAAAAl+ctd0IAAMD8OS53QgAAgGKMLndCAABAyN4ud0IAAAAuMS93QgAAwJODL3dCAACA+dUvd0I=\",\"dtype\":\"float64\",\"shape\":[127]},\"y\":[221,311,385,588,821,1049,1577,1835,2263,2706,3296,3916,5061,6387,7985,8514,10590,12839,14955,17750,20603,23073,26062,28710,33190,37860,42681,46638,50418,54030,57521,62013,66414,70065,73880,75528,77635,80572,83049,85388,88274,91246,93187,94067,95262,96877,98273,100269,102253,103616,104291,105418,106607,106962,107771,108257,108237,107709,107699,106848,106527,105847,106103,105813,105205,104657,101551,100943,100704,100179,99980,98467,91528,89624,87961,84842,83324,82488,81266,78457,76440,72070,70187,68351,66553,65129,62752,60960,59322,57752,56594,55300,52942,50966,47986,46175,43691,42097,41367,39893,39297,38429,36976,35877,35262,34730,32872,31710,30637,28997,27485,26274,25909,24569,23925,23101,21543,21212,20972,20637,19573,18655,18303,17638,16836,16681,16496]},\"selected\":{\"id\":\"30306\"},\"selection_policy\":{\"id\":\"30305\"}},\"id\":\"29549\",\"type\":\"ColumnDataSource\"},{\"attributes\":{},\"id\":\"30236\",\"type\":\"YearsTicker\"},{\"attributes\":{\"line_color\":\"darkviolet\",\"line_width\":4,\"x\":{\"field\":\"x\"},\"y\":{\"field\":\"y\"}},\"id\":\"30215\",\"type\":\"Line\"},{\"attributes\":{},\"id\":\"30269\",\"type\":\"UnionRenderers\"},{\"attributes\":{\"items\":[{\"id\":\"29515\"},{\"id\":\"29548\"}],\"location\":\"top_left\"},\"id\":\"29514\",\"type\":\"Legend\"},{\"attributes\":{},\"id\":\"30267\",\"type\":\"UnionRenderers\"},{\"attributes\":{\"data\":{\"x\":{\"__ndarray__\":\"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\",\"dtype\":\"float64\",\"shape\":[254]},\"y\":[0,3,2,5,4,8,5,18,27,28,41,49,36,133,97,168,196,189,250,175,368,349,345,475,427,627,793,651,601,743,683,662,969,889,756,812,837,727,760,766,681,525,636,604,542,610,570,619,431,566,602,578,525,575,482,433,454,534,437,464,420,415,260,333,382,323,285,269,474,174,195,236,369,274,243,194,165,179,172,195,262,242,153,145,99,162,161,156,130,119,50,92,78,117,70,87,111,75,60,55,71,88,85,72,53,65,79,71,53,56,78,44,26,34,43,66,47,49,24,23,18,-31,34,30,8,22,6]},\"selected\":{\"id\":\"30270\"},\"selection_policy\":{\"id\":\"30269\"}},\"id\":\"30239\",\"type\":\"ColumnDataSource\"},{\"attributes\":{\"line_color\":\"red\",\"line_width\":4,\"x\":{\"field\":\"x\"},\"y\":{\"field\":\"y\"}},\"id\":\"29522\",\"type\":\"Line\"},{\"attributes\":{\"days\":[\"%d %B\"]},\"id\":\"30277\",\"type\":\"DatetimeTickFormatter\"},{\"attributes\":{},\"id\":\"30387\",\"type\":\"Selection\"},{\"attributes\":{},\"id\":\"30358\",\"type\":\"Selection\"},{\"attributes\":{\"mantissas\":[1,2,5],\"max_interval\":500.0,\"num_minor_ticks\":0},\"id\":\"30123\",\"type\":\"AdaptiveTicker\"},{\"attributes\":{\"mantissas\":[1,2,5],\"max_interval\":500.0,\"num_minor_ticks\":0},\"id\":\"29502\",\"type\":\"AdaptiveTicker\"},{\"attributes\":{\"source\":{\"id\":\"30244\"}},\"id\":\"30248\",\"type\":\"CDSView\"},{\"attributes\":{},\"id\":\"30330\",\"type\":\"UnionRenderers\"},{\"attributes\":{},\"id\":\"30305\",\"type\":\"UnionRenderers\"},{\"attributes\":{},\"id\":\"30268\",\"type\":\"Selection\"},{\"attributes\":{},\"id\":\"30329\",\"type\":\"Selection\"},{\"attributes\":{\"data_source\":{\"id\":\"30272\"},\"glyph\":{\"id\":\"30273\"},\"hover_glyph\":null,\"muted_glyph\":null,\"nonselection_glyph\":{\"id\":\"30274\"},\"selection_glyph\":null,\"view\":{\"id\":\"30276\"}},\"id\":\"30275\",\"type\":\"GlyphRenderer\"},{\"attributes\":{\"base\":24,\"mantissas\":[1,2,4,6,8,12],\"max_interval\":43200000.0,\"min_interval\":3600000.0,\"num_minor_ticks\":0},\"id\":\"29504\",\"type\":\"AdaptiveTicker\"},{\"attributes\":{\"base\":60,\"mantissas\":[1,2,5,10,15,20,30],\"max_interval\":1800000.0,\"min_interval\":1000.0,\"num_minor_ticks\":0},\"id\":\"29503\",\"type\":\"AdaptiveTicker\"},{\"attributes\":{\"data\":{\"x\":{\"__ndarray__\":\"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\",\"dtype\":\"float64\",\"shape\":[254]},\"y\":{\"__ndarray__\":\"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\",\"dtype\":\"float64\",\"shape\":[254]}},\"selected\":{\"id\":\"30468\"},\"selection_policy\":{\"id\":\"30467\"}},\"id\":\"30272\",\"type\":\"ColumnDataSource\"},{\"attributes\":{},\"id\":\"30270\",\"type\":\"Selection\"},{\"attributes\":{\"days\":[1,2,3,4,5,6,7,8,9,10,11,12,13,14,15,16,17,18,19,20,21,22,23,24,25,26,27,28,29,30,31]},\"id\":\"29505\",\"type\":\"DaysTicker\"},{\"attributes\":{\"line_color\":\"blue\",\"line_width\":4,\"x\":{\"field\":\"x\"},\"y\":{\"field\":\"y\"}},\"id\":\"29492\",\"type\":\"Line\"},{\"attributes\":{\"days\":[1,4,7,10,13,16,19,22,25,28]},\"id\":\"29506\",\"type\":\"DaysTicker\"},{\"attributes\":{},\"id\":\"30440\",\"type\":\"UnionRenderers\"},{\"attributes\":{\"fill_alpha\":{\"value\":0.1},\"fill_color\":{\"value\":\"white\"},\"line_alpha\":{\"value\":0.1},\"line_color\":{\"value\":\"lightcoral\"},\"size\":{\"units\":\"screen\",\"value\":5},\"x\":{\"field\":\"x\"},\"y\":{\"field\":\"y\"}},\"id\":\"30274\",\"type\":\"Circle\"},{\"attributes\":{\"days\":[1,8,15,22]},\"id\":\"29507\",\"type\":\"DaysTicker\"},{\"attributes\":{},\"id\":\"30357\",\"type\":\"UnionRenderers\"},{\"attributes\":{\"use_scientific\":false},\"id\":\"30279\",\"type\":\"BasicTickFormatter\"},{\"attributes\":{},\"id\":\"30303\",\"type\":\"UnionRenderers\"},{\"attributes\":{\"days\":[1,15]},\"id\":\"29508\",\"type\":\"DaysTicker\"},{\"attributes\":{\"months\":[0,1,2,3,4,5,6,7,8,9,10,11]},\"id\":\"29509\",\"type\":\"MonthsTicker\"},{\"attributes\":{\"source\":{\"id\":\"30272\"}},\"id\":\"30276\",\"type\":\"CDSView\"},{\"attributes\":{\"callback\":null,\"formatters\":{\"@x\":\"datetime\"},\"mode\":\"vline\",\"tooltips\":[[\"date\",\"@x{%d %B}\"],[\"new deaths/fitting\",\"@y{0[.]000}\"]]},\"id\":\"30281\",\"type\":\"HoverTool\"},{\"attributes\":{\"months\":[0,2,4,6,8,10]},\"id\":\"29510\",\"type\":\"MonthsTicker\"},{\"attributes\":{\"children\":[[{\"id\":\"29458\"},0,0],[{\"id\":\"29560\"},0,1],[{\"id\":\"29662\"},0,2],[{\"id\":\"29801\"},1,0],[{\"id\":\"29940\"},1,1],[{\"id\":\"30079\"},2,0],[{\"id\":\"30181\"},2,1]]},\"id\":\"30470\",\"type\":\"GridBox\"},{\"attributes\":{\"months\":[0,4,8]},\"id\":\"29511\",\"type\":\"MonthsTicker\"},{\"attributes\":{\"months\":[0,6]},\"id\":\"29512\",\"type\":\"MonthsTicker\"},{\"attributes\":{},\"id\":\"30386\",\"type\":\"UnionRenderers\"},{\"attributes\":{},\"id\":\"29513\",\"type\":\"YearsTicker\"},{\"attributes\":{\"label\":{\"value\":\"total cases\"},\"renderers\":[{\"id\":\"29494\"}]},\"id\":\"29515\",\"type\":\"LegendItem\"},{\"attributes\":{},\"id\":\"30328\",\"type\":\"UnionRenderers\"},{\"attributes\":{\"source\":{\"id\":\"29516\"}},\"id\":\"29520\",\"type\":\"CDSView\"},{\"attributes\":{\"data\":{\"x\":{\"__ndarray__\":\"AAAA5UcHd0IAAMBKmgd3QgAAgLDsB3dCAABAFj8Id0IAAAB8kQh3QgAAwOHjCHdCAACARzYJd0IAAECtiAl3QgAAABPbCXdCAADAeC0Kd0IAAIDefwp3QgAAQETSCndCAAAAqiQLd0IAAMAPdwt3QgAAgHXJC3dCAABA2xsMd0IAAABBbgx3QgAAwKbADHdCAACADBMNd0IAAEByZQ13QgAAANi3DXdCAADAPQoOd0IAAICjXA53QgAAQAmvDndCAAAAbwEPd0IAAMDUUw93QgAAgDqmD3dCAABAoPgPd0IAAAAGSxB3QgAAwGudEHdCAACA0e8Qd0IAAEA3QhF3QgAAAJ2UEXdCAADAAucRd0IAAIBoORJ3QgAAQM6LEndCAAAANN4Sd0IAAMCZMBN3QgAAgP+CE3dCAABAZdUTd0IAAADLJxR3QgAAwDB6FHdCAACAlswUd0IAAED8HhV3QgAAAGJxFXdCAADAx8MVd0IAAIAtFhZ3QgAAQJNoFndCAAAA+boWd0IAAMBeDRd3QgAAgMRfF3dCAABAKrIXd0IAAACQBBh3QgAAwPVWGHdCAACAW6kYd0IAAEDB+xh3QgAAACdOGXdCAADAjKAZd0IAAIDy8hl3QgAAQFhFGndCAAAAvpcad0IAAMAj6hp3QgAAgIk8G3dCAABA744bd0IAAABV4Rt3QgAAwLozHHdCAACAIIYcd0IAAECG2Bx3QgAAAOwqHXdCAADAUX0dd0IAAIC3zx13QgAAQB0iHndCAAAAg3Qed0IAAMDoxh53QgAAgE4ZH3dCAABAtGsfd0IAAAAavh93QgAAwH8QIHdCAACA5WIgd0IAAEBLtSB3QgAAALEHIXdCAADAFlohd0IAAIB8rCF3QgAAQOL+IXdCAAAASFEid0IAAMCtoyJ3QgAAgBP2IndCAABAeUgjd0IAAADfmiN3QgAAwETtI3dCAACAqj8kd0IAAEAQkiR3QgAAAHbkJHdCAADA2zYld0IAAIBBiSV3QgAAQKfbJXdCAAAADS4md0IAAMBygCZ3QgAAgNjSJndCAABAPiUnd0IAAACkdyd3QgAAwAnKJ3dCAACAbxwod0IAAEDVbih3QgAAADvBKHdCAADAoBMpd0IAAIAGZil3QgAAQGy4KXdCAAAA0goqd0IAAMA3XSp3QgAAgJ2vKndCAABAAwIrd0IAAABpVCt3QgAAwM6mK3dCAACANPkrd0IAAECaSyx3QgAAAACeLHdCAADAZfAsd0IAAIDLQi13QgAAQDGVLXdCAAAAl+ctd0IAAMD8OS53QgAAgGKMLndCAABAyN4ud0IAAAAuMS93QgAAwJODL3dCAACA+dUvd0I=\",\"dtype\":\"float64\",\"shape\":[127]},\"y\":[229,322,400,650,888,1128,1694,2036,2502,3089,3858,4636,5883,7375,9172,10149,12462,15113,17660,21157,24747,27980,31506,35713,41035,47021,53578,59138,63927,69176,74386,80539,86498,92472,97689,101739,105792,110574,115242,119827,124632,128948,132547,135586,139422,143626,147577,152271,156363,159516,162488,165155,168941,172434,175925,178972,181228,183957,187327,189973,192994,195351,197675,199414,201505,203591,205463,207428,209328,210717,211938,213013,214457,215858,217185,218268,219070,219814,221216,222104,223096,223885,224760,225435,225886,226699,227364,228006,228658,229327,229858,230158,230555,231139,231732,232248,232664,233019,233197,233515,233836,234013,234531,234801,234998,235278,235561,235763,236142,236305,236651,236989,237290,237500,237828,238159,238011,238275,238499,238720,238833,239410,239706,239961,240136,240310,240436]},\"selected\":{\"id\":\"29547\"},\"selection_policy\":{\"id\":\"29546\"}},\"id\":\"29516\",\"type\":\"ColumnDataSource\"},{\"attributes\":{},\"id\":\"29544\",\"type\":\"UnionRenderers\"},{\"attributes\":{},\"id\":\"30359\",\"type\":\"UnionRenderers\"},{\"attributes\":{},\"id\":\"30331\",\"type\":\"Selection\"},{\"attributes\":{\"data\":{\"x\":{\"__ndarray__\":\"AAAA5UcHd0IAAMBKmgd3QgAAgLDsB3dCAABAFj8Id0IAAAB8kQh3QgAAwOHjCHdCAACARzYJd0IAAECtiAl3QgAAABPbCXdCAADAeC0Kd0IAAIDefwp3QgAAQETSCndCAAAAqiQLd0IAAMAPdwt3QgAAgHXJC3dCAABA2xsMd0IAAABBbgx3QgAAwKbADHdCAACADBMNd0IAAEByZQ13QgAAANi3DXdCAADAPQoOd0IAAICjXA53QgAAQAmvDndCAAAAbwEPd0IAAMDUUw93QgAAgDqmD3dCAABAoPgPd0IAAAAGSxB3QgAAwGudEHdCAACA0e8Qd0IAAEA3QhF3QgAAAJ2UEXdCAADAAucRd0IAAIBoORJ3QgAAQM6LEndCAAAANN4Sd0IAAMCZMBN3QgAAgP+CE3dCAABAZdUTd0IAAADLJxR3QgAAwDB6FHdCAACAlswUd0IAAED8HhV3QgAAAGJxFXdCAADAx8MVd0IAAIAtFhZ3QgAAQJNoFndCAAAA+boWd0IAAMBeDRd3QgAAgMRfF3dCAABAKrIXd0IAAACQBBh3QgAAwPVWGHdCAACAW6kYd0IAAEDB+xh3QgAAACdOGXdCAADAjKAZd0IAAIDy8hl3QgAAQFhFGndCAAAAvpcad0IAAMAj6hp3QgAAgIk8G3dCAABA744bd0IAAABV4Rt3QgAAwLozHHdCAACAIIYcd0IAAECG2Bx3QgAAAOwqHXdCAADAUX0dd0IAAIC3zx13QgAAQB0iHndCAAAAg3Qed0IAAMDoxh53QgAAgE4ZH3dCAABAtGsfd0IAAAAavh93QgAAwH8QIHdCAACA5WIgd0IAAEBLtSB3QgAAALEHIXdCAADAFlohd0IAAIB8rCF3QgAAQOL+IXdCAAAASFEid0IAAMCtoyJ3QgAAgBP2IndCAABAeUgjd0IAAADfmiN3QgAAwETtI3dCAACAqj8kd0IAAEAQkiR3QgAAAHbkJHdCAADA2zYld0IAAIBBiSV3QgAAQKfbJXdCAAAADS4md0IAAMBygCZ3QgAAgNjSJndCAABAPiUnd0IAAACkdyd3QgAAwAnKJ3dCAACAbxwod0IAAEDVbih3QgAAADvBKHdCAADAoBMpd0IAAIAGZil3QgAAQGy4KXdCAAAA0goqd0IAAMA3XSp3QgAAgJ2vKndCAABAAwIrd0IAAABpVCt3QgAAwM6mK3dCAACANPkrd0IAAECaSyx3QgAAAACeLHdCAADAZfAsd0IAAIDLQi13QgAAQDGVLXdCAAAAl+ctd0IAAMD8OS53QgAAgGKMLndCAABAyN4ud0IAAAAuMS93QgAAwJODL3dCAACA+dUvd0I=\",\"dtype\":\"float64\",\"shape\":[127]},\"y\":[221,311,385,588,821,1049,1577,1835,2263,2706,3296,3916,5061,6387,7985,8514,10590,12839,14955,17750,20603,23073,26062,28710,33190,37860,42681,46638,50418,54030,57521,62013,66414,70065,73880,75528,77635,80572,83049,85388,88274,91246,93187,94067,95262,96877,98273,100269,102253,103616,104291,105418,106607,106962,107771,108257,108237,107709,107699,106848,106527,105847,106103,105813,105205,104657,101551,100943,100704,100179,99980,98467,91528,89624,87961,84842,83324,82488,81266,78457,76440,72070,70187,68351,66553,65129,62752,60960,59322,57752,56594,55300,52942,50966,47986,46175,43691,42097,41367,39893,39297,38429,36976,35877,35262,34730,32872,31710,30637,28997,27485,26274,25909,24569,23925,23101,21543,21212,20972,20637,19573,18655,18303,17638,16836,16681,16496]},\"selected\":{\"id\":\"30304\"},\"selection_policy\":{\"id\":\"30303\"}},\"id\":\"29521\",\"type\":\"ColumnDataSource\"},{\"attributes\":{\"source\":{\"id\":\"29521\"}},\"id\":\"29525\",\"type\":\"CDSView\"},{\"attributes\":{\"fill_color\":{\"value\":\"white\"},\"line_color\":{\"value\":\"blue\"},\"size\":{\"units\":\"screen\",\"value\":5},\"x\":{\"field\":\"x\"},\"y\":{\"field\":\"y\"}},\"id\":\"29517\",\"type\":\"Circle\"},{\"attributes\":{\"data_source\":{\"id\":\"29521\"},\"glyph\":{\"id\":\"29522\"},\"hover_glyph\":null,\"muted_glyph\":null,\"nonselection_glyph\":{\"id\":\"29523\"},\"selection_glyph\":null,\"view\":{\"id\":\"29525\"}},\"id\":\"29524\",\"type\":\"GlyphRenderer\"},{\"attributes\":{\"fill_alpha\":{\"value\":0.1},\"fill_color\":{\"value\":\"white\"},\"line_alpha\":{\"value\":0.1},\"line_color\":{\"value\":\"blue\"},\"size\":{\"units\":\"screen\",\"value\":5},\"x\":{\"field\":\"x\"},\"y\":{\"field\":\"y\"}},\"id\":\"29518\",\"type\":\"Circle\"},{\"attributes\":{\"line_alpha\":0.1,\"line_color\":\"red\",\"line_width\":4,\"x\":{\"field\":\"x\"},\"y\":{\"field\":\"y\"}},\"id\":\"29523\",\"type\":\"Line\"},{\"attributes\":{\"toolbars\":[{\"id\":\"29484\"},{\"id\":\"29586\"},{\"id\":\"29688\"},{\"id\":\"29827\"},{\"id\":\"29966\"},{\"id\":\"30105\"},{\"id\":\"30207\"}],\"tools\":[{\"id\":\"29477\"},{\"id\":\"29478\"},{\"id\":\"29479\"},{\"id\":\"29480\"},{\"id\":\"29481\"},{\"id\":\"29482\"},{\"id\":\"29558\"},{\"id\":\"29579\"},{\"id\":\"29580\"},{\"id\":\"29581\"},{\"id\":\"29582\"},{\"id\":\"29583\"},{\"id\":\"29584\"},{\"id\":\"29660\"},{\"id\":\"29681\"},{\"id\":\"29682\"},{\"id\":\"29683\"},{\"id\":\"29684\"},{\"id\":\"29685\"},{\"id\":\"29686\"},{\"id\":\"29799\"},{\"id\":\"29820\"},{\"id\":\"29821\"},{\"id\":\"29822\"},{\"id\":\"29823\"},{\"id\":\"29824\"},{\"id\":\"29825\"},{\"id\":\"29938\"},{\"id\":\"29959\"},{\"id\":\"29960\"},{\"id\":\"29961\"},{\"id\":\"29962\"},{\"id\":\"29963\"},{\"id\":\"29964\"},{\"id\":\"30077\"},{\"id\":\"30098\"},{\"id\":\"30099\"},{\"id\":\"30100\"},{\"id\":\"30101\"},{\"id\":\"30102\"},{\"id\":\"30103\"},{\"id\":\"30179\"},{\"id\":\"30200\"},{\"id\":\"30201\"},{\"id\":\"30202\"},{\"id\":\"30203\"},{\"id\":\"30204\"},{\"id\":\"30205\"},{\"id\":\"30281\"}]},\"id\":\"30471\",\"type\":\"ProxyToolbar\"},{\"attributes\":{\"label\":{\"value\":\"total positive\"},\"renderers\":[{\"id\":\"29524\"}]},\"id\":\"29548\",\"type\":\"LegendItem\"},{\"attributes\":{},\"id\":\"29546\",\"type\":\"UnionRenderers\"},{\"attributes\":{},\"id\":\"30360\",\"type\":\"Selection\"},{\"attributes\":{},\"id\":\"29545\",\"type\":\"Selection\"},{\"attributes\":{\"axis_label\":\"Total Cases MAX\",\"formatter\":{\"id\":\"29936\"},\"minor_tick_in\":-5,\"minor_tick_out\":-3,\"ticker\":{\"id\":\"29817\"}},\"id\":\"29816\",\"type\":\"LinearAxis\"},{\"attributes\":{\"source\":{\"id\":\"29758\"}},\"id\":\"29762\",\"type\":\"CDSView\"},{\"attributes\":{},\"id\":\"29817\",\"type\":\"BasicTicker\"},{\"attributes\":{\"axis\":{\"id\":\"29816\"},\"dimension\":1,\"ticker\":null},\"id\":\"29819\",\"type\":\"Grid\"},{\"attributes\":{\"data\":{\"x\":{\"__ndarray__\":\"AACAdckLd0IAAEDbGwx3QgAAAEFuDHdCAADApsAMd0IAAIAMEw13QgAAQHJlDXdCAAAA2LcNd0IAAMA9Cg53QgAAgKNcDndCAABACa8Od0IAAABvAQ93QgAAwNRTD3dCAACAOqYPd0IAAECg+A93QgAAAAZLEHdCAADAa50Qd0IAAIDR7xB3QgAAQDdCEXdCAAAAnZQRd0IAAMAC5xF3QgAAgGg5EndCAABAzosSd0IAAAA03hJ3QgAAwJkwE3dCAACA/4ITd0IAAEBl1RN3QgAAAMsnFHdCAADAMHoUd0IAAICWzBR3QgAAQPweFXdCAAAAYnEVd0IAAMDHwxV3QgAAgC0WFndCAABAk2gWd0IAAAD5uhZ3QgAAwF4NF3dCAACAxF8Xd0IAAEAqshd3QgAAAJAEGHdCAADA9VYYd0IAAIBbqRh3QgAAQMH7GHdCAAAAJ04Zd0IAAMCMoBl3QgAAgPLyGXdCAABAWEUad0IAAAC+lxp3QgAAwCPqGndCAACAiTwbd0IAAEDvjht3QgAAAFXhG3dCAADAujMcd0IAAIAghhx3QgAAQIbYHHdCAAAA7Codd0IAAMBRfR13QgAAgLfPHXdCAABAHSIed0IAAACDdB53QgAAwOjGHndCAACAThkfd0IAAEC0ax93QgAAABq+H3dCAADAfxAgd0IAAIDlYiB3QgAAQEu1IHdCAAAAsQchd0IAAMAWWiF3QgAAgHysIXdCAABA4v4hd0IAAABIUSJ3QgAAwK2jIndCAACAE/Yid0IAAEB5SCN3QgAAAN+aI3dCAADARO0jd0IAAICqPyR3QgAAQBCSJHdCAAAAduQkd0IAAMDbNiV3QgAAgEGJJXdCAABAp9sld0IAAAANLiZ3QgAAwHKAJndCAACA2NImd0IAAEA+JSd3QgAAAKR3J3dCAADACcond0IAAIBvHCh3QgAAQNVuKHdCAAAAO8Eod0IAAMCgEyl3QgAAgAZmKXdCAABAbLgpd0IAAADSCip3QgAAwDddKndCAACAna8qd0IAAEADAit3QgAAAGlUK3dCAADAzqYrd0IAAIA0+St3QgAAQJpLLHdCAAAAAJ4sd0IAAMBl8Cx3QgAAgMtCLXdCAABAMZUtd0IAAACX5y13QgAAwPw5LndCAACAYowud0IAAEDI3i53QgAAAC4xL3dCAADAk4Mvd0IAAID51S93QgAAQF8oMHdCAAAAxXowd0IAAMAqzTB3QgAAgJAfMXdCAABA9nExd0IAAABcxDF3QgAAwMEWMndCAACAJ2kyd0IAAECNuzJ3QgAAAPMNM3dCAADAWGAzd0IAAIC+sjN3QgAAQCQFNHdCAAAAilc0d0I=\",\"dtype\":\"float64\",\"shape\":[127]},\"y\":[26043.971812504264,20083.65068870154,25346.57578244707,35909.927410801036,43429.585746361794,58548.634512215554,72043.32959441826,65292.379922870714,62259.10925696984,65702.27002649025,76414.71090505764,94089.36329658148,120778.67993465065,130954.72655944078,120254.2916543287,113798.26020111817,113065.6650033305,116759.29233017875,121303.01550289828,127183.23339298148,130826.6583664977,130925.33684044708,131239.3267746586,134307.8098762204,139584.7803108238,145926.20686201358,152714.74070510527,157155.71810705302,159868.73424532468,162159.56500686478,166315.33370699253,174693.54389703454,184332.1433135461,197127.0247149762,207486.39018731844,210455.5259249559,211834.02323968252,212651.00659756374,217293.11216168775,223008.48310470534,229203.54507558764,229354.22845462602,222661.04048149457,218856.3651044555,222411.86244789674,228406.18327514542,237900.6447509526,249867.68233946236,249950.62922143852,239463.15692017658,233354.40797609536,230718.28187242209,231857.44694227044,232686.76169800988,233491.2565138963,231727.2959375785,229148.91275978825,228075.7299354666,229435.26503357038,230242.86468680552,232273.54003200328,232389.88294607017,231536.7889378649,229972.91861047296,231147.71263178717,232820.84441989934,235119.1492175848,238093.97097544427,240336.7750460033,238951.55398166465,236274.8334302147,235574.59882545398,236427.4657798214,237254.86266556324,237699.97372949755,237603.60978277843,237140.43124634048,236625.1086934055,237941.4009965396,238182.0961276583,239505.31784651574,240430.9773494944,241222.97394732063,240442.14681670268,238653.36366763513,238467.556746346,238094.4241819498,237478.0452402145,237852.29005947305,238068.30859486942,237720.6573951382,237447.96693694105,237732.50457107008,238766.02205772407,241460.9874065534,243729.74513459334,243970.70530176538,236601.2603196699,238218.1290069433,223366.1500622401,-991051.550201562,-1751127691047.1892,185090.83234484354,241383.06152681328,241359.9201523969,241041.91130543762,240609.78554890782,240945.09373024842,234688.12277820997,-60332537384.617195,-3644167757452.4614,-17801962738822.363,-18411030161983.418]},\"selected\":{\"id\":\"29927\"},\"selection_policy\":{\"id\":\"29926\"}},\"id\":\"29892\",\"type\":\"ColumnDataSource\"},{\"attributes\":{\"data_source\":{\"id\":\"29753\"},\"glyph\":{\"id\":\"29754\"},\"hover_glyph\":null,\"muted_glyph\":null,\"nonselection_glyph\":{\"id\":\"29755\"},\"selection_glyph\":null,\"view\":{\"id\":\"29757\"}},\"id\":\"29756\",\"type\":\"GlyphRenderer\"},{\"attributes\":{\"line_alpha\":0.1,\"line_color\":\"lightblue\",\"line_width\":4,\"x\":{\"field\":\"x\"},\"y\":{\"field\":\"y\"}},\"id\":\"29866\",\"type\":\"Line\"},{\"attributes\":{\"base\":60,\"mantissas\":[1,2,5,10,15,20,30],\"max_interval\":1800000.0,\"min_interval\":1000.0,\"num_minor_ticks\":0},\"id\":\"30124\",\"type\":\"AdaptiveTicker\"},{\"attributes\":{\"data\":{\"x\":{\"__ndarray__\":\"AACARzYJd0IAAECtiAl3QgAAABPbCXdCAADAeC0Kd0IAAIDefwp3QgAAQETSCndCAAAAqiQLd0IAAMAPdwt3QgAAgHXJC3dCAABA2xsMd0IAAABBbgx3QgAAwKbADHdCAACADBMNd0IAAEByZQ13QgAAANi3DXdCAADAPQoOd0IAAICjXA53QgAAQAmvDndCAAAAbwEPd0IAAMDUUw93QgAAgDqmD3dCAABAoPgPd0IAAAAGSxB3QgAAwGudEHdCAACA0e8Qd0IAAEA3QhF3QgAAAJ2UEXdCAADAAucRd0IAAIBoORJ3QgAAQM6LEndCAAAANN4Sd0IAAMCZMBN3QgAAgP+CE3dCAABAZdUTd0IAAADLJxR3QgAAwDB6FHdCAACAlswUd0IAAED8HhV3QgAAAGJxFXdCAADAx8MVd0IAAIAtFhZ3QgAAQJNoFndCAAAA+boWd0IAAMBeDRd3QgAAgMRfF3dCAABAKrIXd0IAAACQBBh3QgAAwPVWGHdCAACAW6kYd0IAAEDB+xh3QgAAACdOGXdCAADAjKAZd0IAAIDy8hl3QgAAQFhFGndCAAAAvpcad0IAAMAj6hp3QgAAgIk8G3dCAABA744bd0IAAABV4Rt3QgAAwLozHHdCAACAIIYcd0IAAECG2Bx3QgAAAOwqHXdCAADAUX0dd0IAAIC3zx13QgAAQB0iHndCAAAAg3Qed0IAAMDoxh53QgAAgE4ZH3dCAABAtGsfd0IAAAAavh93QgAAwH8QIHdCAACA5WIgd0IAAEBLtSB3QgAAALEHIXdCAADAFlohd0IAAIB8rCF3QgAAQOL+IXdCAAAASFEid0IAAMCtoyJ3QgAAgBP2IndCAABAeUgjd0IAAADfmiN3QgAAwETtI3dCAACAqj8kd0IAAEAQkiR3QgAAAHbkJHdCAADA2zYld0IAAIBBiSV3QgAAQKfbJXdCAAAADS4md0IAAMBygCZ3QgAAgNjSJndCAABAPiUnd0IAAACkdyd3QgAAwAnKJ3dCAACAbxwod0IAAEDVbih3QgAAADvBKHdCAADAoBMpd0IAAIAGZil3QgAAQGy4KXdCAAAA0goqd0IAAMA3XSp3QgAAgJ2vKndCAABAAwIrd0IAAABpVCt3QgAAwM6mK3dCAACANPkrd0IAAECaSyx3QgAAAACeLHdCAADAZfAsd0IAAIDLQi13QgAAQDGVLXdCAAAAl+ctd0IAAMD8OS53QgAAgGKMLndCAABAyN4ud0IAAAAuMS93QgAAwJODL3dCAACA+dUvd0IAAEBfKDB3QgAAAMV6MHdCAADAKs0wd0IAAICQHzF3QgAAQPZxMXdCAAAAXMQxd0I=\",\"dtype\":\"float64\",\"shape\":[127]},\"y\":[0.8606481598394683,0.9471173938556658,0.9360911279420753,0.9714690580202313,0.9878007496262176,0.9884028491325129,0.9737095608712864,0.950129573047173,0.9474586811076524,0.9666768419691317,0.9658577874885119,0.9724140849805707,0.9763897317383651,0.9834379682925372,0.9890235515610548,0.9924406618242618,0.989816741999947,0.9921702793313502,0.9937454318804336,0.9945507685487721,0.9957720823208889,0.9964565194119556,0.992972429394026,0.9912159179141088,0.990758065554159,0.9902870260138735,0.9873582845426842,0.9876274727514551,0.9855575962352924,0.9861611703161747,0.9860563306981559,0.9854629750783211,0.985418780114212,0.9856008321068747,0.9851952730138245,0.9833282330199984,0.9811142645991496,0.9800447585020177,0.9805734317474694,0.9815490832902357,0.9826117648897318,0.98367923585059,0.9841889379349255,0.9837222896530314,0.9831395008139059,0.9815460633282107,0.9806663783128649,0.980694863333348,0.9808726854803773,0.9810329377754993,0.9808918984127557,0.9811961160998607,0.9818480551570032,0.9826863064941808,0.9835138836865019,0.9841358137509889,0.9841789078633206,0.9836939231363766,0.9831376121102836,0.9825179613737066,0.9829079161791275,0.9829729695921392,0.9825046031593785,0.9816427493213683,0.9802331679101273,0.9789441087335161,0.979799959618488,0.9804583566733469,0.9808623878006852,0.9813851613404979,0.9814954845116408,0.9810371567380703,0.9804262518199361,0.9800013745173415,0.979502354520762,0.9794995183201429,0.9792978225698306,0.978873388710861,0.9782131164464811,0.9773431417511275,0.9765117443872783,0.9755649908022141,0.9745001848019995,0.9733352889282131,0.9719747662835253,0.9704247646097638,0.9690238111867877,0.9676952469672493,0.9666801744582063,0.9656393259166077,0.9647036535325406,0.9636622990059924,0.9623120358987169,0.9609008950662642,0.9592470063373569,0.9574160300507688,0.9556511259989501,0.9538203659941833,0.9518210779224072,0.9496803517919288,0.9477185274309496,0.9457510155615758,0.9438094298762447,0.9419719395532088,0.9402384461248768,0.9385456032380411,0.936718779687741,0.934957539813754,0.9331425907637588,0.9313179521274131,0.9295445617122824,0.9276625667092279,0.9256677990900561,0.923595319805072,0.9215805316656552,0.9196925483434297,0.9177502570511579,0.9158157844553549,0.9139077146434131,0.9119052185457832,0.9098207302621677]},\"selected\":{\"id\":\"30358\"},\"selection_policy\":{\"id\":\"30357\"}},\"id\":\"29758\",\"type\":\"ColumnDataSource\"},{\"attributes\":{\"fill_color\":{\"value\":\"white\"},\"line_color\":{\"value\":\"lightcoral\"},\"size\":{\"units\":\"screen\",\"value\":5},\"x\":{\"field\":\"x\"},\"y\":{\"field\":\"y\"}},\"id\":\"29860\",\"type\":\"Circle\"},{\"attributes\":{\"data_source\":{\"id\":\"29834\"},\"glyph\":{\"id\":\"29835\"},\"hover_glyph\":null,\"muted_glyph\":null,\"nonselection_glyph\":{\"id\":\"29836\"},\"selection_glyph\":null,\"view\":{\"id\":\"29838\"}},\"id\":\"29837\",\"type\":\"GlyphRenderer\"},{\"attributes\":{\"source\":{\"id\":\"29753\"}},\"id\":\"29757\",\"type\":\"CDSView\"},{\"attributes\":{\"fill_alpha\":{\"value\":0.1},\"fill_color\":{\"value\":\"white\"},\"line_alpha\":{\"value\":0.1},\"line_color\":{\"value\":\"green\"},\"size\":{\"units\":\"screen\",\"value\":5},\"x\":{\"field\":\"x\"},\"y\":{\"field\":\"y\"}},\"id\":\"29792\",\"type\":\"Circle\"},{\"attributes\":{\"source\":{\"id\":\"29834\"}},\"id\":\"29838\",\"type\":\"CDSView\"},{\"attributes\":{\"active_drag\":\"auto\",\"active_inspect\":\"auto\",\"active_multi\":null,\"active_scroll\":\"auto\",\"active_tap\":\"auto\",\"tools\":[{\"id\":\"29820\"},{\"id\":\"29821\"},{\"id\":\"29822\"},{\"id\":\"29823\"},{\"id\":\"29824\"},{\"id\":\"29825\"},{\"id\":\"29938\"}]},\"id\":\"29827\",\"type\":\"Toolbar\"},{\"attributes\":{\"data_source\":{\"id\":\"29758\"},\"glyph\":{\"id\":\"29759\"},\"hover_glyph\":null,\"muted_glyph\":null,\"nonselection_glyph\":{\"id\":\"29760\"},\"selection_glyph\":null,\"view\":{\"id\":\"29762\"}},\"id\":\"29761\",\"type\":\"GlyphRenderer\"},{\"attributes\":{},\"id\":\"29820\",\"type\":\"PanTool\"},{\"attributes\":{},\"id\":\"29821\",\"type\":\"WheelZoomTool\"},{\"attributes\":{\"fill_color\":{\"value\":\"white\"},\"line_color\":{\"value\":\"green\"},\"size\":{\"units\":\"screen\",\"value\":5},\"x\":{\"field\":\"x\"},\"y\":{\"field\":\"y\"}},\"id\":\"29791\",\"type\":\"Circle\"},{\"attributes\":{},\"id\":\"29785\",\"type\":\"UnionRenderers\"},{\"attributes\":{\"overlay\":{\"id\":\"29826\"}},\"id\":\"29822\",\"type\":\"BoxZoomTool\"},{\"attributes\":{\"data\":{\"x\":{\"__ndarray__\":\"AACAdckLd0IAAEDbGwx3QgAAAEFuDHdCAADApsAMd0IAAIAMEw13QgAAQHJlDXdCAAAA2LcNd0IAAMA9Cg53QgAAgKNcDndCAABACa8Od0IAAABvAQ93QgAAwNRTD3dCAACAOqYPd0IAAECg+A93QgAAAAZLEHdCAADAa50Qd0IAAIDR7xB3QgAAQDdCEXdCAAAAnZQRd0IAAMAC5xF3QgAAgGg5EndCAABAzosSd0IAAAA03hJ3QgAAwJkwE3dCAACA/4ITd0IAAEBl1RN3QgAAAMsnFHdCAADAMHoUd0IAAICWzBR3QgAAQPweFXdCAAAAYnEVd0IAAMDHwxV3QgAAgC0WFndCAABAk2gWd0IAAAD5uhZ3QgAAwF4NF3dCAACAxF8Xd0IAAEAqshd3QgAAAJAEGHdCAADA9VYYd0IAAIBbqRh3QgAAQMH7GHdCAAAAJ04Zd0IAAMCMoBl3QgAAgPLyGXdCAABAWEUad0IAAAC+lxp3QgAAwCPqGndCAACAiTwbd0IAAEDvjht3QgAAAFXhG3dCAADAujMcd0IAAIAghhx3QgAAQIbYHHdCAAAA7Codd0IAAMBRfR13QgAAgLfPHXdCAABAHSIed0IAAACDdB53QgAAwOjGHndCAACAThkfd0IAAEC0ax93QgAAABq+H3dCAADAfxAgd0IAAIDlYiB3QgAAQEu1IHdCAAAAsQchd0IAAMAWWiF3QgAAgHysIXdCAABA4v4hd0IAAABIUSJ3QgAAwK2jIndCAACAE/Yid0IAAEB5SCN3QgAAAN+aI3dCAADARO0jd0IAAICqPyR3QgAAQBCSJHdCAAAAduQkd0IAAMDbNiV3QgAAgEGJJXdCAABAp9sld0IAAAANLiZ3QgAAwHKAJndCAACA2NImd0IAAEA+JSd3QgAAAKR3J3dCAADACcond0IAAIBvHCh3QgAAQNVuKHdCAAAAO8Eod0IAAMCgEyl3QgAAgAZmKXdCAABAbLgpd0IAAADSCip3QgAAwDddKndCAACAna8qd0IAAEADAit3QgAAAGlUK3dCAADAzqYrd0IAAIA0+St3QgAAQJpLLHdCAAAAAJ4sd0IAAMBl8Cx3QgAAgMtCLXdCAABAMZUtd0IAAACX5y13QgAAwPw5LndCAACAYowud0IAAEDI3i53QgAAAC4xL3dCAADAk4Mvd0IAAID51S93QgAAQF8oMHdCAAAAxXowd0IAAMAqzTB3QgAAgJAfMXdCAABA9nExd0IAAABcxDF3QgAAwMEWMndCAACAJ2kyd0IAAECNuzJ3QgAAAPMNM3dCAADAWGAzd0IAAIC+sjN3QgAAQCQFNHdCAAAAilc0d0I=\",\"dtype\":\"float64\",\"shape\":[127]},\"y\":[86912.05969910315,29083.90755584394,36023.732632084946,57743.26287129921,63228.58826880139,89917.54847679034,102396.39302686279,80763.09269653645,71753.2877547804,73429.41264461084,89135.00312663842,118537.04291285387,163391.79163957646,165143.43239880056,142128.9818930372,128571.40026767501,124247.01938846224,126581.715475767,130810.33178672902,137227.5365771877,140304.64949130217,138647.55171121034,137802.83066331755,140520.55474423835,145560.88279340838,151756.81804351133,159416.1215550685,165056.46168276644,167981.71188413462,169985.31366469234,174295.35804262952,183101.13047422701,193403.0916702229,210559.41582082008,226655.16773380945,229886.5162064032,230541.77515449267,230384.35728934366,235506.98153436702,242579.67276349175,251058.81482722826,249727.68450186917,236575.96539834217,228646.1429084767,233877.2944997811,241826.83856026072,254945.30576238886,267341.9930352748,266888.88523228845,251543.1532155206,241544.8638314928,237040.29314820794,238152.88508643635,239044.88801111336,239991.18101821854,236929.68275297133,232421.0235671601,231205.72879202297,232480.0016904601,233447.08838449325,235824.7046495138,235896.44895543437,234673.50156234615,232301.12664736455,234108.21536435926,236405.36461583653,239654.87716593768,243225.91486263,246103.4440163067,243823.15476510115,239900.38499526642,238660.49276871546,239771.74080746033,240901.70343590208,241582.4850499263,241205.54476872465,239979.10455031905,239188.3816479829,240431.01579317087,240768.9675063767,242882.88949842518,244686.6980636507,246197.54500767353,244388.09174615983,241234.7127584967,241038.46201731754,240456.95303457294,239562.20268401311,240325.06766595264,240773.74054827934,239767.67396637352,238838.9893511917,239414.74175960186,241288.52320958552,248050.60936641356,255833.03572905273,272015.4725713216,303408.7434192736,300636.5283302833,341306.61848396214,1928068.8767297177,1751692546987.5315,381110.70476775046,255274.40397637626,246048.0225723501,244053.21055435832,242429.1713083168,245155.71751912477,269939.65405465,60386114410.20327,3644670705068.476,17803119818938.426,18412365615451.527]},\"selected\":{\"id\":\"29888\"},\"selection_policy\":{\"id\":\"29887\"}},\"id\":\"29834\",\"type\":\"ColumnDataSource\"},{\"attributes\":{\"line_alpha\":0.1,\"line_color\":\"green\",\"line_width\":4,\"x\":{\"field\":\"x\"},\"y\":{\"field\":\"y\"}},\"id\":\"29760\",\"type\":\"Line\"},{\"attributes\":{},\"id\":\"29823\",\"type\":\"SaveTool\"},{\"attributes\":{\"label\":{\"value\":\"R_squared_guariti\"},\"renderers\":[{\"id\":\"29761\"}]},\"id\":\"29789\",\"type\":\"LegendItem\"},{\"attributes\":{},\"id\":\"29824\",\"type\":\"ResetTool\"},{\"attributes\":{\"fill_color\":{\"value\":\"white\"},\"line_color\":{\"value\":\"lightblue\"},\"size\":{\"units\":\"screen\",\"value\":5},\"x\":{\"field\":\"x\"},\"y\":{\"field\":\"y\"}},\"id\":\"29893\",\"type\":\"Circle\"},{\"attributes\":{},\"id\":\"29787\",\"type\":\"UnionRenderers\"},{\"attributes\":{},\"id\":\"29825\",\"type\":\"HelpTool\"},{\"attributes\":{},\"id\":\"29786\",\"type\":\"Selection\"},{\"attributes\":{\"line_alpha\":0.1,\"line_color\":\"lightcoral\",\"line_width\":4,\"x\":{\"field\":\"x\"},\"y\":{\"field\":\"y\"}},\"id\":\"29836\",\"type\":\"Line\"},{\"attributes\":{\"data\":{\"x\":{\"__ndarray__\":\"AACARzYJd0IAAECtiAl3QgAAABPbCXdCAADAeC0Kd0IAAIDefwp3QgAAQETSCndCAAAAqiQLd0IAAMAPdwt3QgAAgHXJC3dCAABA2xsMd0IAAABBbgx3QgAAwKbADHdCAACADBMNd0IAAEByZQ13QgAAANi3DXdCAADAPQoOd0IAAICjXA53QgAAQAmvDndCAAAAbwEPd0IAAMDUUw93QgAAgDqmD3dCAABAoPgPd0IAAAAGSxB3QgAAwGudEHdCAACA0e8Qd0IAAEA3QhF3QgAAAJ2UEXdCAADAAucRd0IAAIBoORJ3QgAAQM6LEndCAAAANN4Sd0IAAMCZMBN3QgAAgP+CE3dCAABAZdUTd0IAAADLJxR3QgAAwDB6FHdCAACAlswUd0IAAED8HhV3QgAAAGJxFXdCAADAx8MVd0IAAIAtFhZ3QgAAQJNoFndCAAAA+boWd0IAAMBeDRd3QgAAgMRfF3dCAABAKrIXd0IAAACQBBh3QgAAwPVWGHdCAACAW6kYd0IAAEDB+xh3QgAAACdOGXdCAADAjKAZd0IAAIDy8hl3QgAAQFhFGndCAAAAvpcad0IAAMAj6hp3QgAAgIk8G3dCAABA744bd0IAAABV4Rt3QgAAwLozHHdCAACAIIYcd0IAAECG2Bx3QgAAAOwqHXdCAADAUX0dd0IAAIC3zx13QgAAQB0iHndCAAAAg3Qed0IAAMDoxh53QgAAgE4ZH3dCAABAtGsfd0IAAAAavh93QgAAwH8QIHdCAACA5WIgd0IAAEBLtSB3QgAAALEHIXdCAADAFlohd0IAAIB8rCF3QgAAQOL+IXdCAAAASFEid0IAAMCtoyJ3QgAAgBP2IndCAABAeUgjd0IAAADfmiN3QgAAwETtI3dCAACAqj8kd0IAAEAQkiR3QgAAAHbkJHdCAADA2zYld0IAAIBBiSV3QgAAQKfbJXdCAAAADS4md0IAAMBygCZ3QgAAgNjSJndCAABAPiUnd0IAAACkdyd3QgAAwAnKJ3dCAACAbxwod0IAAEDVbih3QgAAADvBKHdCAADAoBMpd0IAAIAGZil3QgAAQGy4KXdCAAAA0goqd0IAAMA3XSp3QgAAgJ2vKndCAABAAwIrd0IAAABpVCt3QgAAwM6mK3dCAACANPkrd0IAAECaSyx3QgAAAACeLHdCAADAZfAsd0IAAIDLQi13QgAAQDGVLXdCAAAAl+ctd0IAAMD8OS53QgAAgGKMLndCAABAyN4ud0IAAAAuMS93QgAAwJODL3dCAACA+dUvd0IAAEBfKDB3QgAAAMV6MHdCAADAKs0wd0IAAICQHzF3QgAAQPZxMXdCAAAAXMQxd0I=\",\"dtype\":\"float64\",\"shape\":[127]},\"y\":[0.8606481598394683,0.9471173938556658,0.9360911279420753,0.9714690580202313,0.9878007496262176,0.9884028491325129,0.9737095608712864,0.950129573047173,0.9474586811076524,0.9666768419691317,0.9658577874885119,0.9724140849805707,0.9763897317383651,0.9834379682925372,0.9890235515610548,0.9924406618242618,0.989816741999947,0.9921702793313502,0.9937454318804336,0.9945507685487721,0.9957720823208889,0.9964565194119556,0.992972429394026,0.9912159179141088,0.990758065554159,0.9902870260138735,0.9873582845426842,0.9876274727514551,0.9855575962352924,0.9861611703161747,0.9860563306981559,0.9854629750783211,0.985418780114212,0.9856008321068747,0.9851952730138245,0.9833282330199984,0.9811142645991496,0.9800447585020177,0.9805734317474694,0.9815490832902357,0.9826117648897318,0.98367923585059,0.9841889379349255,0.9837222896530314,0.9831395008139059,0.9815460633282107,0.9806663783128649,0.980694863333348,0.9808726854803773,0.9810329377754993,0.9808918984127557,0.9811961160998607,0.9818480551570032,0.9826863064941808,0.9835138836865019,0.9841358137509889,0.9841789078633206,0.9836939231363766,0.9831376121102836,0.9825179613737066,0.9829079161791275,0.9829729695921392,0.9825046031593785,0.9816427493213683,0.9802331679101273,0.9789441087335161,0.979799959618488,0.9804583566733469,0.9808623878006852,0.9813851613404979,0.9814954845116408,0.9810371567380703,0.9804262518199361,0.9800013745173415,0.979502354520762,0.9794995183201429,0.9792978225698306,0.978873388710861,0.9782131164464811,0.9773431417511275,0.9765117443872783,0.9755649908022141,0.9745001848019995,0.9733352889282131,0.9719747662835253,0.9704247646097638,0.9690238111867877,0.9676952469672493,0.9666801744582063,0.9656393259166077,0.9647036535325406,0.9636622990059924,0.9623120358987169,0.9609008950662642,0.9592470063373569,0.9574160300507688,0.9556511259989501,0.9538203659941833,0.9518210779224072,0.9496803517919288,0.9477185274309496,0.9457510155615758,0.9438094298762447,0.9419719395532088,0.9402384461248768,0.9385456032380411,0.936718779687741,0.934957539813754,0.9331425907637588,0.9313179521274131,0.9295445617122824,0.9276625667092279,0.9256677990900561,0.923595319805072,0.9215805316656552,0.9196925483434297,0.9177502570511579,0.9158157844553549,0.9139077146434131,0.9119052185457832,0.9098207302621677]},\"selected\":{\"id\":\"30360\"},\"selection_policy\":{\"id\":\"30359\"}},\"id\":\"29790\",\"type\":\"ColumnDataSource\"},{\"attributes\":{\"data\":{\"x\":{\"__ndarray__\":\"AACAdckLd0IAAEDbGwx3QgAAAEFuDHdCAADApsAMd0IAAIAMEw13QgAAQHJlDXdCAAAA2LcNd0IAAMA9Cg53QgAAgKNcDndCAABACa8Od0IAAABvAQ93QgAAwNRTD3dCAACAOqYPd0IAAECg+A93QgAAAAZLEHdCAADAa50Qd0IAAIDR7xB3QgAAQDdCEXdCAAAAnZQRd0IAAMAC5xF3QgAAgGg5EndCAABAzosSd0IAAAA03hJ3QgAAwJkwE3dCAACA/4ITd0IAAEBl1RN3QgAAAMsnFHdCAADAMHoUd0IAAICWzBR3QgAAQPweFXdCAAAAYnEVd0IAAMDHwxV3QgAAgC0WFndCAABAk2gWd0IAAAD5uhZ3QgAAwF4NF3dCAACAxF8Xd0IAAEAqshd3QgAAAJAEGHdCAADA9VYYd0IAAIBbqRh3QgAAQMH7GHdCAAAAJ04Zd0IAAMCMoBl3QgAAgPLyGXdCAABAWEUad0IAAAC+lxp3QgAAwCPqGndCAACAiTwbd0IAAEDvjht3QgAAAFXhG3dCAADAujMcd0IAAIAghhx3QgAAQIbYHHdCAAAA7Codd0IAAMBRfR13QgAAgLfPHXdCAABAHSIed0IAAACDdB53QgAAwOjGHndCAACAThkfd0IAAEC0ax93QgAAABq+H3dCAADAfxAgd0IAAIDlYiB3QgAAQEu1IHdCAAAAsQchd0IAAMAWWiF3QgAAgHysIXdCAABA4v4hd0IAAABIUSJ3QgAAwK2jIndCAACAE/Yid0IAAEB5SCN3QgAAAN+aI3dCAADARO0jd0IAAICqPyR3QgAAQBCSJHdCAAAAduQkd0IAAMDbNiV3QgAAgEGJJXdCAABAp9sld0IAAAANLiZ3QgAAwHKAJndCAACA2NImd0IAAEA+JSd3QgAAAKR3J3dCAADACcond0IAAIBvHCh3QgAAQNVuKHdCAAAAO8Eod0IAAMCgEyl3QgAAgAZmKXdCAABAbLgpd0IAAADSCip3QgAAwDddKndCAACAna8qd0IAAEADAit3QgAAAGlUK3dCAADAzqYrd0IAAIA0+St3QgAAQJpLLHdCAAAAAJ4sd0IAAMBl8Cx3QgAAgMtCLXdCAABAMZUtd0IAAACX5y13QgAAwPw5LndCAACAYowud0IAAEDI3i53QgAAAC4xL3dCAADAk4Mvd0IAAID51S93QgAAQF8oMHdCAAAAxXowd0IAAMAqzTB3QgAAgJAfMXdCAABA9nExd0IAAABcxDF3QgAAwMEWMndCAACAJ2kyd0IAAECNuzJ3QgAAAPMNM3dCAADAWGAzd0IAAIC+sjN3QgAAQCQFNHdCAAAAilc0d0I=\",\"dtype\":\"float64\",\"shape\":[127]},\"y\":[26043.971812504264,20083.65068870154,25346.57578244707,35909.927410801036,43429.585746361794,58548.634512215554,72043.32959441826,65292.379922870714,62259.10925696984,65702.27002649025,76414.71090505764,94089.36329658148,120778.67993465065,130954.72655944078,120254.2916543287,113798.26020111817,113065.6650033305,116759.29233017875,121303.01550289828,127183.23339298148,130826.6583664977,130925.33684044708,131239.3267746586,134307.8098762204,139584.7803108238,145926.20686201358,152714.74070510527,157155.71810705302,159868.73424532468,162159.56500686478,166315.33370699253,174693.54389703454,184332.1433135461,197127.0247149762,207486.39018731844,210455.5259249559,211834.02323968252,212651.00659756374,217293.11216168775,223008.48310470534,229203.54507558764,229354.22845462602,222661.04048149457,218856.3651044555,222411.86244789674,228406.18327514542,237900.6447509526,249867.68233946236,249950.62922143852,239463.15692017658,233354.40797609536,230718.28187242209,231857.44694227044,232686.76169800988,233491.2565138963,231727.2959375785,229148.91275978825,228075.7299354666,229435.26503357038,230242.86468680552,232273.54003200328,232389.88294607017,231536.7889378649,229972.91861047296,231147.71263178717,232820.84441989934,235119.1492175848,238093.97097544427,240336.7750460033,238951.55398166465,236274.8334302147,235574.59882545398,236427.4657798214,237254.86266556324,237699.97372949755,237603.60978277843,237140.43124634048,236625.1086934055,237941.4009965396,238182.0961276583,239505.31784651574,240430.9773494944,241222.97394732063,240442.14681670268,238653.36366763513,238467.556746346,238094.4241819498,237478.0452402145,237852.29005947305,238068.30859486942,237720.6573951382,237447.96693694105,237732.50457107008,238766.02205772407,241460.9874065534,243729.74513459334,243970.70530176538,236601.2603196699,238218.1290069433,223366.1500622401,-991051.550201562,-1751127691047.1892,185090.83234484354,241383.06152681328,241359.9201523969,241041.91130543762,240609.78554890782,240945.09373024842,234688.12277820997,-60332537384.617195,-3644167757452.4614,-17801962738822.363,-18411030161983.418]},\"selected\":{\"id\":\"29925\"},\"selection_policy\":{\"id\":\"29924\"}},\"id\":\"29864\",\"type\":\"ColumnDataSource\"},{\"attributes\":{\"data\":{\"x\":{\"__ndarray__\":\"AACAdckLd0IAAEDbGwx3QgAAAEFuDHdCAADApsAMd0IAAIAMEw13QgAAQHJlDXdCAAAA2LcNd0IAAMA9Cg53QgAAgKNcDndCAABACa8Od0IAAABvAQ93QgAAwNRTD3dCAACAOqYPd0IAAECg+A93QgAAAAZLEHdCAADAa50Qd0IAAIDR7xB3QgAAQDdCEXdCAAAAnZQRd0IAAMAC5xF3QgAAgGg5EndCAABAzosSd0IAAAA03hJ3QgAAwJkwE3dCAACA/4ITd0IAAEBl1RN3QgAAAMsnFHdCAADAMHoUd0IAAICWzBR3QgAAQPweFXdCAAAAYnEVd0IAAMDHwxV3QgAAgC0WFndCAABAk2gWd0IAAAD5uhZ3QgAAwF4NF3dCAACAxF8Xd0IAAEAqshd3QgAAAJAEGHdCAADA9VYYd0IAAIBbqRh3QgAAQMH7GHdCAAAAJ04Zd0IAAMCMoBl3QgAAgPLyGXdCAABAWEUad0IAAAC+lxp3QgAAwCPqGndCAACAiTwbd0IAAEDvjht3QgAAAFXhG3dCAADAujMcd0IAAIAghhx3QgAAQIbYHHdCAAAA7Codd0IAAMBRfR13QgAAgLfPHXdCAABAHSIed0IAAACDdB53QgAAwOjGHndCAACAThkfd0IAAEC0ax93QgAAABq+H3dCAADAfxAgd0IAAIDlYiB3QgAAQEu1IHdCAAAAsQchd0IAAMAWWiF3QgAAgHysIXdCAABA4v4hd0IAAABIUSJ3QgAAwK2jIndCAACAE/Yid0IAAEB5SCN3QgAAAN+aI3dCAADARO0jd0IAAICqPyR3QgAAQBCSJHdCAAAAduQkd0IAAMDbNiV3QgAAgEGJJXdCAABAp9sld0IAAAANLiZ3QgAAwHKAJndCAACA2NImd0IAAEA+JSd3QgAAAKR3J3dCAADACcond0IAAIBvHCh3QgAAQNVuKHdCAAAAO8Eod0IAAMCgEyl3QgAAgAZmKXdCAABAbLgpd0IAAADSCip3QgAAwDddKndCAACAna8qd0IAAEADAit3QgAAAGlUK3dCAADAzqYrd0IAAIA0+St3QgAAQJpLLHdCAAAAAJ4sd0IAAMBl8Cx3QgAAgMtCLXdCAABAMZUtd0IAAACX5y13QgAAwPw5LndCAACAYowud0IAAEDI3i53QgAAAC4xL3dCAADAk4Mvd0IAAID51S93QgAAQF8oMHdCAAAAxXowd0IAAMAqzTB3QgAAgJAfMXdCAABA9nExd0IAAABcxDF3QgAAwMEWMndCAACAJ2kyd0IAAECNuzJ3QgAAAPMNM3dCAADAWGAzd0IAAIC+sjN3QgAAQCQFNHdCAAAAilc0d0I=\",\"dtype\":\"float64\",\"shape\":[127]},\"y\":[86912.05969910315,29083.90755584394,36023.732632084946,57743.26287129921,63228.58826880139,89917.54847679034,102396.39302686279,80763.09269653645,71753.2877547804,73429.41264461084,89135.00312663842,118537.04291285387,163391.79163957646,165143.43239880056,142128.9818930372,128571.40026767501,124247.01938846224,126581.715475767,130810.33178672902,137227.5365771877,140304.64949130217,138647.55171121034,137802.83066331755,140520.55474423835,145560.88279340838,151756.81804351133,159416.1215550685,165056.46168276644,167981.71188413462,169985.31366469234,174295.35804262952,183101.13047422701,193403.0916702229,210559.41582082008,226655.16773380945,229886.5162064032,230541.77515449267,230384.35728934366,235506.98153436702,242579.67276349175,251058.81482722826,249727.68450186917,236575.96539834217,228646.1429084767,233877.2944997811,241826.83856026072,254945.30576238886,267341.9930352748,266888.88523228845,251543.1532155206,241544.8638314928,237040.29314820794,238152.88508643635,239044.88801111336,239991.18101821854,236929.68275297133,232421.0235671601,231205.72879202297,232480.0016904601,233447.08838449325,235824.7046495138,235896.44895543437,234673.50156234615,232301.12664736455,234108.21536435926,236405.36461583653,239654.87716593768,243225.91486263,246103.4440163067,243823.15476510115,239900.38499526642,238660.49276871546,239771.74080746033,240901.70343590208,241582.4850499263,241205.54476872465,239979.10455031905,239188.3816479829,240431.01579317087,240768.9675063767,242882.88949842518,244686.6980636507,246197.54500767353,244388.09174615983,241234.7127584967,241038.46201731754,240456.95303457294,239562.20268401311,240325.06766595264,240773.74054827934,239767.67396637352,238838.9893511917,239414.74175960186,241288.52320958552,248050.60936641356,255833.03572905273,272015.4725713216,303408.7434192736,300636.5283302833,341306.61848396214,1928068.8767297177,1751692546987.5315,381110.70476775046,255274.40397637626,246048.0225723501,244053.21055435832,242429.1713083168,245155.71751912477,269939.65405465,60386114410.20327,3644670705068.476,17803119818938.426,18412365615451.527]},\"selected\":{\"id\":\"29890\"},\"selection_policy\":{\"id\":\"29889\"}},\"id\":\"29859\",\"type\":\"ColumnDataSource\"},{\"attributes\":{},\"id\":\"29788\",\"type\":\"Selection\"},{\"attributes\":{\"fill_alpha\":{\"value\":0.1},\"fill_color\":{\"value\":\"white\"},\"line_alpha\":{\"value\":0.1},\"line_color\":{\"value\":\"lightcoral\"},\"size\":{\"units\":\"screen\",\"value\":5},\"x\":{\"field\":\"x\"},\"y\":{\"field\":\"y\"}},\"id\":\"29861\",\"type\":\"Circle\"},{\"attributes\":{\"data_source\":{\"id\":\"29859\"},\"glyph\":{\"id\":\"29860\"},\"hover_glyph\":null,\"muted_glyph\":null,\"nonselection_glyph\":{\"id\":\"29861\"},\"selection_glyph\":null,\"view\":{\"id\":\"29863\"}},\"id\":\"29862\",\"type\":\"GlyphRenderer\"},{\"attributes\":{\"text\":\"Max Total Cases - Logistic Fitting: Italy\"},\"id\":\"29802\",\"type\":\"Title\"},{\"attributes\":{\"source\":{\"id\":\"29859\"}},\"id\":\"29863\",\"type\":\"CDSView\"},{\"attributes\":{\"days\":[\"%d %B\"]},\"id\":\"29795\",\"type\":\"DatetimeTickFormatter\"},{\"attributes\":{\"data_source\":{\"id\":\"29790\"},\"glyph\":{\"id\":\"29791\"},\"hover_glyph\":null,\"muted_glyph\":null,\"nonselection_glyph\":{\"id\":\"29792\"},\"selection_glyph\":null,\"view\":{\"id\":\"29794\"}},\"id\":\"29793\",\"type\":\"GlyphRenderer\"},{\"attributes\":{\"use_scientific\":false},\"id\":\"29797\",\"type\":\"BasicTickFormatter\"},{\"attributes\":{\"label\":{\"value\":\"total cases max UP\"},\"renderers\":[{\"id\":\"29837\"}]},\"id\":\"29858\",\"type\":\"LegendItem\"},{\"attributes\":{\"bottom_units\":\"screen\",\"fill_alpha\":0.5,\"fill_color\":\"lightgrey\",\"left_units\":\"screen\",\"level\":\"overlay\",\"line_alpha\":1.0,\"line_color\":\"black\",\"line_dash\":[4,4],\"line_width\":2,\"render_mode\":\"css\",\"right_units\":\"screen\",\"top_units\":\"screen\"},\"id\":\"29826\",\"type\":\"BoxAnnotation\"},{\"attributes\":{\"line_color\":\"lightblue\",\"line_width\":4,\"x\":{\"field\":\"x\"},\"y\":{\"field\":\"y\"}},\"id\":\"29865\",\"type\":\"Line\"},{\"attributes\":{\"callback\":null,\"formatters\":{\"@x\":\"datetime\"},\"mode\":\"vline\",\"tooltips\":[[\"date\",\"@x{%d %B}\"],[\"R_squared_cases/deaths/guariti\",\"@y{0[.]000}\"]]},\"id\":\"29799\",\"type\":\"HoverTool\"},{\"attributes\":{\"source\":{\"id\":\"29790\"}},\"id\":\"29794\",\"type\":\"CDSView\"},{\"attributes\":{\"line_color\":\"lightcoral\",\"line_width\":4,\"x\":{\"field\":\"x\"},\"y\":{\"field\":\"y\"}},\"id\":\"29835\",\"type\":\"Line\"},{\"attributes\":{\"label\":{\"value\":\"Gamma fitting\"},\"renderers\":[{\"id\":\"30145\"}]},\"id\":\"30169\",\"type\":\"LegendItem\"},{\"attributes\":{\"below\":[{\"id\":\"29951\"}],\"center\":[{\"id\":\"29954\"},{\"id\":\"29958\"},{\"id\":\"29996\"}],\"left\":[{\"id\":\"29955\"}],\"plot_height\":350,\"plot_width\":470,\"renderers\":[{\"id\":\"29976\"},{\"id\":\"30001\"},{\"id\":\"30006\"},{\"id\":\"30034\"},{\"id\":\"30039\"},{\"id\":\"30071\"}],\"title\":{\"id\":\"29941\"},\"toolbar\":{\"id\":\"29966\"},\"toolbar_location\":null,\"x_range\":{\"id\":\"29943\"},\"x_scale\":{\"id\":\"29947\"},\"y_range\":{\"id\":\"29945\"},\"y_scale\":{\"id\":\"29949\"}},\"id\":\"29940\",\"subtype\":\"Figure\",\"type\":\"Plot\"},{\"attributes\":{},\"id\":\"29804\",\"type\":\"DataRange1d\"},{\"attributes\":{\"items\":[{\"id\":\"29858\"},{\"id\":\"29891\"},{\"id\":\"29928\"}],\"location\":\"bottom_right\"},\"id\":\"29857\",\"type\":\"Legend\"},{\"attributes\":{},\"id\":\"29810\",\"type\":\"LinearScale\"},{\"attributes\":{\"data_source\":{\"id\":\"30112\"},\"glyph\":{\"id\":\"30113\"},\"hover_glyph\":null,\"muted_glyph\":null,\"nonselection_glyph\":{\"id\":\"30114\"},\"selection_glyph\":null,\"view\":{\"id\":\"30116\"}},\"id\":\"30115\",\"type\":\"GlyphRenderer\"},{\"attributes\":{\"end\":300000},\"id\":\"29806\",\"type\":\"Range1d\"},{\"attributes\":{\"mantissas\":[1,2,5],\"max_interval\":500.0,\"num_minor_ticks\":0},\"id\":\"29845\",\"type\":\"AdaptiveTicker\"},{\"attributes\":{},\"id\":\"29808\",\"type\":\"LinearScale\"},{\"attributes\":{\"base\":24,\"mantissas\":[1,2,4,6,8,12],\"max_interval\":43200000.0,\"min_interval\":3600000.0,\"num_minor_ticks\":0},\"id\":\"29847\",\"type\":\"AdaptiveTicker\"},{\"attributes\":{\"axis_label\":\"Date\",\"formatter\":{\"id\":\"29934\"},\"major_label_orientation\":0.7853981633974483,\"minor_tick_in\":-5,\"minor_tick_out\":-3,\"ticker\":{\"id\":\"29813\"}},\"id\":\"29812\",\"type\":\"DatetimeAxis\"},{\"attributes\":{\"base\":60,\"mantissas\":[1,2,5,10,15,20,30],\"max_interval\":1800000.0,\"min_interval\":1000.0,\"num_minor_ticks\":0},\"id\":\"29846\",\"type\":\"AdaptiveTicker\"},{\"attributes\":{\"axis\":{\"id\":\"29812\"},\"ticker\":null},\"id\":\"29815\",\"type\":\"Grid\"},{\"attributes\":{\"num_minor_ticks\":5,\"tickers\":[{\"id\":\"29845\"},{\"id\":\"29846\"},{\"id\":\"29847\"},{\"id\":\"29848\"},{\"id\":\"29849\"},{\"id\":\"29850\"},{\"id\":\"29851\"},{\"id\":\"29852\"},{\"id\":\"29853\"},{\"id\":\"29854\"},{\"id\":\"29855\"},{\"id\":\"29856\"}]},\"id\":\"29813\",\"type\":\"DatetimeTicker\"}],\"root_ids\":[\"30473\"]},\"title\":\"Bokeh Application\",\"version\":\"2.0.2\"}};\n",
       "  var render_items = [{\"docid\":\"985d20c5-2e38-42d0-8148-90f7cc786849\",\"root_ids\":[\"30473\"],\"roots\":{\"30473\":\"af5a4d56-b098-4d34-aed6-83b22a8ccdd4\"}}];\n",
       "  root.Bokeh.embed.embed_items_notebook(docs_json, render_items);\n",
       "\n",
       "  }\n",
       "  if (root.Bokeh !== undefined) {\n",
       "    embed_document(root);\n",
       "  } else {\n",
       "    var attempts = 0;\n",
       "    var timer = setInterval(function(root) {\n",
       "      if (root.Bokeh !== undefined) {\n",
       "        clearInterval(timer);\n",
       "        embed_document(root);\n",
       "      } else {\n",
       "        attempts++;\n",
       "        if (attempts > 100) {\n",
       "          clearInterval(timer);\n",
       "          console.log(\"Bokeh: ERROR: Unable to run BokehJS code because BokehJS library is missing\");\n",
       "        }\n",
       "      }\n",
       "    }, 10, root)\n",
       "  }\n",
       "})(window);"
      ],
      "application/vnd.bokehjs_exec.v0+json": ""
     },
     "metadata": {
      "application/vnd.bokehjs_exec.v0+json": {
       "id": "30473"
      }
     },
     "output_type": "display_data"
    }
   ],
   "source": [
    "p_grid = gridplot([[s1_grid, s2_grid, s3_grid], [s4_grid, s5_grid], [s6_grid, s7_grid]])\n",
    "\n",
    "output_file(\"grid_1.html\")\n",
    "\n",
    "show(p_grid)"
   ]
  },
  {
   "cell_type": "code",
   "execution_count": null,
   "metadata": {},
   "outputs": [],
   "source": []
  }
 ],
 "metadata": {
  "kernelspec": {
   "display_name": "Python 3",
   "language": "python",
   "name": "python3"
  },
  "language_info": {
   "codemirror_mode": {
    "name": "ipython",
    "version": 3
   },
   "file_extension": ".py",
   "mimetype": "text/x-python",
   "name": "python",
   "nbconvert_exporter": "python",
   "pygments_lexer": "ipython3",
   "version": "3.7.6"
  }
 },
 "nbformat": 4,
 "nbformat_minor": 2
}
