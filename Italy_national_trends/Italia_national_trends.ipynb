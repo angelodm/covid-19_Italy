{
 "cells": [
  {
   "cell_type": "markdown",
   "metadata": {},
   "source": [
    "# Italian Trends Covid-19"
   ]
  },
  {
   "cell_type": "markdown",
   "metadata": {},
   "source": [
    "In this Notebook, we analyze the spreading of the new coronavirus in Italy."
   ]
  },
  {
   "cell_type": "markdown",
   "metadata": {},
   "source": [
    "## Libraries and Functions"
   ]
  },
  {
   "cell_type": "markdown",
   "metadata": {},
   "source": [
    "First we import the required libraries and define the bokeh plot functions:"
   ]
  },
  {
   "cell_type": "code",
   "execution_count": 1,
   "metadata": {},
   "outputs": [
    {
     "data": {
      "text/html": [
       "\n",
       "    <div class=\"bk-root\">\n",
       "        <a href=\"https://bokeh.org\" target=\"_blank\" class=\"bk-logo bk-logo-small bk-logo-notebook\"></a>\n",
       "        <span id=\"1001\">Loading BokehJS ...</span>\n",
       "    </div>"
      ]
     },
     "metadata": {},
     "output_type": "display_data"
    },
    {
     "data": {
      "application/javascript": [
       "\n",
       "(function(root) {\n",
       "  function now() {\n",
       "    return new Date();\n",
       "  }\n",
       "\n",
       "  var force = true;\n",
       "\n",
       "  if (typeof root._bokeh_onload_callbacks === \"undefined\" || force === true) {\n",
       "    root._bokeh_onload_callbacks = [];\n",
       "    root._bokeh_is_loading = undefined;\n",
       "  }\n",
       "\n",
       "  var JS_MIME_TYPE = 'application/javascript';\n",
       "  var HTML_MIME_TYPE = 'text/html';\n",
       "  var EXEC_MIME_TYPE = 'application/vnd.bokehjs_exec.v0+json';\n",
       "  var CLASS_NAME = 'output_bokeh rendered_html';\n",
       "\n",
       "  /**\n",
       "   * Render data to the DOM node\n",
       "   */\n",
       "  function render(props, node) {\n",
       "    var script = document.createElement(\"script\");\n",
       "    node.appendChild(script);\n",
       "  }\n",
       "\n",
       "  /**\n",
       "   * Handle when an output is cleared or removed\n",
       "   */\n",
       "  function handleClearOutput(event, handle) {\n",
       "    var cell = handle.cell;\n",
       "\n",
       "    var id = cell.output_area._bokeh_element_id;\n",
       "    var server_id = cell.output_area._bokeh_server_id;\n",
       "    // Clean up Bokeh references\n",
       "    if (id != null && id in Bokeh.index) {\n",
       "      Bokeh.index[id].model.document.clear();\n",
       "      delete Bokeh.index[id];\n",
       "    }\n",
       "\n",
       "    if (server_id !== undefined) {\n",
       "      // Clean up Bokeh references\n",
       "      var cmd = \"from bokeh.io.state import curstate; print(curstate().uuid_to_server['\" + server_id + \"'].get_sessions()[0].document.roots[0]._id)\";\n",
       "      cell.notebook.kernel.execute(cmd, {\n",
       "        iopub: {\n",
       "          output: function(msg) {\n",
       "            var id = msg.content.text.trim();\n",
       "            if (id in Bokeh.index) {\n",
       "              Bokeh.index[id].model.document.clear();\n",
       "              delete Bokeh.index[id];\n",
       "            }\n",
       "          }\n",
       "        }\n",
       "      });\n",
       "      // Destroy server and session\n",
       "      var cmd = \"import bokeh.io.notebook as ion; ion.destroy_server('\" + server_id + \"')\";\n",
       "      cell.notebook.kernel.execute(cmd);\n",
       "    }\n",
       "  }\n",
       "\n",
       "  /**\n",
       "   * Handle when a new output is added\n",
       "   */\n",
       "  function handleAddOutput(event, handle) {\n",
       "    var output_area = handle.output_area;\n",
       "    var output = handle.output;\n",
       "\n",
       "    // limit handleAddOutput to display_data with EXEC_MIME_TYPE content only\n",
       "    if ((output.output_type != \"display_data\") || (!output.data.hasOwnProperty(EXEC_MIME_TYPE))) {\n",
       "      return\n",
       "    }\n",
       "\n",
       "    var toinsert = output_area.element.find(\".\" + CLASS_NAME.split(' ')[0]);\n",
       "\n",
       "    if (output.metadata[EXEC_MIME_TYPE][\"id\"] !== undefined) {\n",
       "      toinsert[toinsert.length - 1].firstChild.textContent = output.data[JS_MIME_TYPE];\n",
       "      // store reference to embed id on output_area\n",
       "      output_area._bokeh_element_id = output.metadata[EXEC_MIME_TYPE][\"id\"];\n",
       "    }\n",
       "    if (output.metadata[EXEC_MIME_TYPE][\"server_id\"] !== undefined) {\n",
       "      var bk_div = document.createElement(\"div\");\n",
       "      bk_div.innerHTML = output.data[HTML_MIME_TYPE];\n",
       "      var script_attrs = bk_div.children[0].attributes;\n",
       "      for (var i = 0; i < script_attrs.length; i++) {\n",
       "        toinsert[toinsert.length - 1].firstChild.setAttribute(script_attrs[i].name, script_attrs[i].value);\n",
       "        toinsert[toinsert.length - 1].firstChild.textContent = bk_div.children[0].textContent\n",
       "      }\n",
       "      // store reference to server id on output_area\n",
       "      output_area._bokeh_server_id = output.metadata[EXEC_MIME_TYPE][\"server_id\"];\n",
       "    }\n",
       "  }\n",
       "\n",
       "  function register_renderer(events, OutputArea) {\n",
       "\n",
       "    function append_mime(data, metadata, element) {\n",
       "      // create a DOM node to render to\n",
       "      var toinsert = this.create_output_subarea(\n",
       "        metadata,\n",
       "        CLASS_NAME,\n",
       "        EXEC_MIME_TYPE\n",
       "      );\n",
       "      this.keyboard_manager.register_events(toinsert);\n",
       "      // Render to node\n",
       "      var props = {data: data, metadata: metadata[EXEC_MIME_TYPE]};\n",
       "      render(props, toinsert[toinsert.length - 1]);\n",
       "      element.append(toinsert);\n",
       "      return toinsert\n",
       "    }\n",
       "\n",
       "    /* Handle when an output is cleared or removed */\n",
       "    events.on('clear_output.CodeCell', handleClearOutput);\n",
       "    events.on('delete.Cell', handleClearOutput);\n",
       "\n",
       "    /* Handle when a new output is added */\n",
       "    events.on('output_added.OutputArea', handleAddOutput);\n",
       "\n",
       "    /**\n",
       "     * Register the mime type and append_mime function with output_area\n",
       "     */\n",
       "    OutputArea.prototype.register_mime_type(EXEC_MIME_TYPE, append_mime, {\n",
       "      /* Is output safe? */\n",
       "      safe: true,\n",
       "      /* Index of renderer in `output_area.display_order` */\n",
       "      index: 0\n",
       "    });\n",
       "  }\n",
       "\n",
       "  // register the mime type if in Jupyter Notebook environment and previously unregistered\n",
       "  if (root.Jupyter !== undefined) {\n",
       "    var events = require('base/js/events');\n",
       "    var OutputArea = require('notebook/js/outputarea').OutputArea;\n",
       "\n",
       "    if (OutputArea.prototype.mime_types().indexOf(EXEC_MIME_TYPE) == -1) {\n",
       "      register_renderer(events, OutputArea);\n",
       "    }\n",
       "  }\n",
       "\n",
       "  \n",
       "  if (typeof (root._bokeh_timeout) === \"undefined\" || force === true) {\n",
       "    root._bokeh_timeout = Date.now() + 5000;\n",
       "    root._bokeh_failed_load = false;\n",
       "  }\n",
       "\n",
       "  var NB_LOAD_WARNING = {'data': {'text/html':\n",
       "     \"<div style='background-color: #fdd'>\\n\"+\n",
       "     \"<p>\\n\"+\n",
       "     \"BokehJS does not appear to have successfully loaded. If loading BokehJS from CDN, this \\n\"+\n",
       "     \"may be due to a slow or bad network connection. Possible fixes:\\n\"+\n",
       "     \"</p>\\n\"+\n",
       "     \"<ul>\\n\"+\n",
       "     \"<li>re-rerun `output_notebook()` to attempt to load from CDN again, or</li>\\n\"+\n",
       "     \"<li>use INLINE resources instead, as so:</li>\\n\"+\n",
       "     \"</ul>\\n\"+\n",
       "     \"<code>\\n\"+\n",
       "     \"from bokeh.resources import INLINE\\n\"+\n",
       "     \"output_notebook(resources=INLINE)\\n\"+\n",
       "     \"</code>\\n\"+\n",
       "     \"</div>\"}};\n",
       "\n",
       "  function display_loaded() {\n",
       "    var el = document.getElementById(\"1001\");\n",
       "    if (el != null) {\n",
       "      el.textContent = \"BokehJS is loading...\";\n",
       "    }\n",
       "    if (root.Bokeh !== undefined) {\n",
       "      if (el != null) {\n",
       "        el.textContent = \"BokehJS \" + root.Bokeh.version + \" successfully loaded.\";\n",
       "      }\n",
       "    } else if (Date.now() < root._bokeh_timeout) {\n",
       "      setTimeout(display_loaded, 100)\n",
       "    }\n",
       "  }\n",
       "\n",
       "\n",
       "  function run_callbacks() {\n",
       "    try {\n",
       "      root._bokeh_onload_callbacks.forEach(function(callback) {\n",
       "        if (callback != null)\n",
       "          callback();\n",
       "      });\n",
       "    } finally {\n",
       "      delete root._bokeh_onload_callbacks\n",
       "    }\n",
       "    console.debug(\"Bokeh: all callbacks have finished\");\n",
       "  }\n",
       "\n",
       "  function load_libs(css_urls, js_urls, callback) {\n",
       "    if (css_urls == null) css_urls = [];\n",
       "    if (js_urls == null) js_urls = [];\n",
       "\n",
       "    root._bokeh_onload_callbacks.push(callback);\n",
       "    if (root._bokeh_is_loading > 0) {\n",
       "      console.debug(\"Bokeh: BokehJS is being loaded, scheduling callback at\", now());\n",
       "      return null;\n",
       "    }\n",
       "    if (js_urls == null || js_urls.length === 0) {\n",
       "      run_callbacks();\n",
       "      return null;\n",
       "    }\n",
       "    console.debug(\"Bokeh: BokehJS not loaded, scheduling load and callback at\", now());\n",
       "    root._bokeh_is_loading = css_urls.length + js_urls.length;\n",
       "\n",
       "    function on_load() {\n",
       "      root._bokeh_is_loading--;\n",
       "      if (root._bokeh_is_loading === 0) {\n",
       "        console.debug(\"Bokeh: all BokehJS libraries/stylesheets loaded\");\n",
       "        run_callbacks()\n",
       "      }\n",
       "    }\n",
       "\n",
       "    function on_error() {\n",
       "      console.error(\"failed to load \" + url);\n",
       "    }\n",
       "\n",
       "    for (var i = 0; i < css_urls.length; i++) {\n",
       "      var url = css_urls[i];\n",
       "      const element = document.createElement(\"link\");\n",
       "      element.onload = on_load;\n",
       "      element.onerror = on_error;\n",
       "      element.rel = \"stylesheet\";\n",
       "      element.type = \"text/css\";\n",
       "      element.href = url;\n",
       "      console.debug(\"Bokeh: injecting link tag for BokehJS stylesheet: \", url);\n",
       "      document.body.appendChild(element);\n",
       "    }\n",
       "\n",
       "    const hashes = {\"https://cdn.bokeh.org/bokeh/release/bokeh-2.0.2.min.js\": \"ufR9RFnRs6lniiaFvtJziE0YeidtAgBRH6ux2oUItHw5WTvE1zuk9uzhUU/FJXDp\", \"https://cdn.bokeh.org/bokeh/release/bokeh-widgets-2.0.2.min.js\": \"8QM/PGWBT+IssZuRcDcjzwIh1mkOmJSoNMmyYDZbCfXJg3Ap1lEvdVgFuSAwhb/J\", \"https://cdn.bokeh.org/bokeh/release/bokeh-tables-2.0.2.min.js\": \"Jm8cH3Rg0P6UeZhVY5cLy1WzKajUT9KImCY+76hEqrcJt59/d8GPvFHjCkYgnSIn\", \"https://cdn.bokeh.org/bokeh/release/bokeh-gl-2.0.2.min.js\": \"Ozhzj+SI7ywm74aOI/UajcWz+C0NjsPunEVyVIrxzYkB+jA+2tUw8x5xJCbVtK5I\"};\n",
       "\n",
       "    for (var i = 0; i < js_urls.length; i++) {\n",
       "      var url = js_urls[i];\n",
       "      var element = document.createElement('script');\n",
       "      element.onload = on_load;\n",
       "      element.onerror = on_error;\n",
       "      element.async = false;\n",
       "      element.src = url;\n",
       "      if (url in hashes) {\n",
       "        element.crossOrigin = \"anonymous\";\n",
       "        element.integrity = \"sha384-\" + hashes[url];\n",
       "      }\n",
       "      console.debug(\"Bokeh: injecting script tag for BokehJS library: \", url);\n",
       "      document.head.appendChild(element);\n",
       "    }\n",
       "  };\n",
       "\n",
       "  function inject_raw_css(css) {\n",
       "    const element = document.createElement(\"style\");\n",
       "    element.appendChild(document.createTextNode(css));\n",
       "    document.body.appendChild(element);\n",
       "  }\n",
       "\n",
       "  \n",
       "  var js_urls = [\"https://cdn.bokeh.org/bokeh/release/bokeh-2.0.2.min.js\", \"https://cdn.bokeh.org/bokeh/release/bokeh-widgets-2.0.2.min.js\", \"https://cdn.bokeh.org/bokeh/release/bokeh-tables-2.0.2.min.js\", \"https://cdn.bokeh.org/bokeh/release/bokeh-gl-2.0.2.min.js\"];\n",
       "  var css_urls = [];\n",
       "  \n",
       "\n",
       "  var inline_js = [\n",
       "    function(Bokeh) {\n",
       "      Bokeh.set_log_level(\"info\");\n",
       "    },\n",
       "    function(Bokeh) {\n",
       "    \n",
       "    \n",
       "    }\n",
       "  ];\n",
       "\n",
       "  function run_inline_js() {\n",
       "    \n",
       "    if (root.Bokeh !== undefined || force === true) {\n",
       "      \n",
       "    for (var i = 0; i < inline_js.length; i++) {\n",
       "      inline_js[i].call(root, root.Bokeh);\n",
       "    }\n",
       "    if (force === true) {\n",
       "        display_loaded();\n",
       "      }} else if (Date.now() < root._bokeh_timeout) {\n",
       "      setTimeout(run_inline_js, 100);\n",
       "    } else if (!root._bokeh_failed_load) {\n",
       "      console.log(\"Bokeh: BokehJS failed to load within specified timeout.\");\n",
       "      root._bokeh_failed_load = true;\n",
       "    } else if (force !== true) {\n",
       "      var cell = $(document.getElementById(\"1001\")).parents('.cell').data().cell;\n",
       "      cell.output_area.append_execute_result(NB_LOAD_WARNING)\n",
       "    }\n",
       "\n",
       "  }\n",
       "\n",
       "  if (root._bokeh_is_loading === 0) {\n",
       "    console.debug(\"Bokeh: BokehJS loaded, going straight to plotting\");\n",
       "    run_inline_js();\n",
       "  } else {\n",
       "    load_libs(css_urls, js_urls, function() {\n",
       "      console.debug(\"Bokeh: BokehJS plotting callback run at\", now());\n",
       "      run_inline_js();\n",
       "    });\n",
       "  }\n",
       "}(window));"
      ],
      "application/vnd.bokehjs_load.v0+json": "\n(function(root) {\n  function now() {\n    return new Date();\n  }\n\n  var force = true;\n\n  if (typeof root._bokeh_onload_callbacks === \"undefined\" || force === true) {\n    root._bokeh_onload_callbacks = [];\n    root._bokeh_is_loading = undefined;\n  }\n\n  \n\n  \n  if (typeof (root._bokeh_timeout) === \"undefined\" || force === true) {\n    root._bokeh_timeout = Date.now() + 5000;\n    root._bokeh_failed_load = false;\n  }\n\n  var NB_LOAD_WARNING = {'data': {'text/html':\n     \"<div style='background-color: #fdd'>\\n\"+\n     \"<p>\\n\"+\n     \"BokehJS does not appear to have successfully loaded. If loading BokehJS from CDN, this \\n\"+\n     \"may be due to a slow or bad network connection. Possible fixes:\\n\"+\n     \"</p>\\n\"+\n     \"<ul>\\n\"+\n     \"<li>re-rerun `output_notebook()` to attempt to load from CDN again, or</li>\\n\"+\n     \"<li>use INLINE resources instead, as so:</li>\\n\"+\n     \"</ul>\\n\"+\n     \"<code>\\n\"+\n     \"from bokeh.resources import INLINE\\n\"+\n     \"output_notebook(resources=INLINE)\\n\"+\n     \"</code>\\n\"+\n     \"</div>\"}};\n\n  function display_loaded() {\n    var el = document.getElementById(\"1001\");\n    if (el != null) {\n      el.textContent = \"BokehJS is loading...\";\n    }\n    if (root.Bokeh !== undefined) {\n      if (el != null) {\n        el.textContent = \"BokehJS \" + root.Bokeh.version + \" successfully loaded.\";\n      }\n    } else if (Date.now() < root._bokeh_timeout) {\n      setTimeout(display_loaded, 100)\n    }\n  }\n\n\n  function run_callbacks() {\n    try {\n      root._bokeh_onload_callbacks.forEach(function(callback) {\n        if (callback != null)\n          callback();\n      });\n    } finally {\n      delete root._bokeh_onload_callbacks\n    }\n    console.debug(\"Bokeh: all callbacks have finished\");\n  }\n\n  function load_libs(css_urls, js_urls, callback) {\n    if (css_urls == null) css_urls = [];\n    if (js_urls == null) js_urls = [];\n\n    root._bokeh_onload_callbacks.push(callback);\n    if (root._bokeh_is_loading > 0) {\n      console.debug(\"Bokeh: BokehJS is being loaded, scheduling callback at\", now());\n      return null;\n    }\n    if (js_urls == null || js_urls.length === 0) {\n      run_callbacks();\n      return null;\n    }\n    console.debug(\"Bokeh: BokehJS not loaded, scheduling load and callback at\", now());\n    root._bokeh_is_loading = css_urls.length + js_urls.length;\n\n    function on_load() {\n      root._bokeh_is_loading--;\n      if (root._bokeh_is_loading === 0) {\n        console.debug(\"Bokeh: all BokehJS libraries/stylesheets loaded\");\n        run_callbacks()\n      }\n    }\n\n    function on_error() {\n      console.error(\"failed to load \" + url);\n    }\n\n    for (var i = 0; i < css_urls.length; i++) {\n      var url = css_urls[i];\n      const element = document.createElement(\"link\");\n      element.onload = on_load;\n      element.onerror = on_error;\n      element.rel = \"stylesheet\";\n      element.type = \"text/css\";\n      element.href = url;\n      console.debug(\"Bokeh: injecting link tag for BokehJS stylesheet: \", url);\n      document.body.appendChild(element);\n    }\n\n    const hashes = {\"https://cdn.bokeh.org/bokeh/release/bokeh-2.0.2.min.js\": \"ufR9RFnRs6lniiaFvtJziE0YeidtAgBRH6ux2oUItHw5WTvE1zuk9uzhUU/FJXDp\", \"https://cdn.bokeh.org/bokeh/release/bokeh-widgets-2.0.2.min.js\": \"8QM/PGWBT+IssZuRcDcjzwIh1mkOmJSoNMmyYDZbCfXJg3Ap1lEvdVgFuSAwhb/J\", \"https://cdn.bokeh.org/bokeh/release/bokeh-tables-2.0.2.min.js\": \"Jm8cH3Rg0P6UeZhVY5cLy1WzKajUT9KImCY+76hEqrcJt59/d8GPvFHjCkYgnSIn\", \"https://cdn.bokeh.org/bokeh/release/bokeh-gl-2.0.2.min.js\": \"Ozhzj+SI7ywm74aOI/UajcWz+C0NjsPunEVyVIrxzYkB+jA+2tUw8x5xJCbVtK5I\"};\n\n    for (var i = 0; i < js_urls.length; i++) {\n      var url = js_urls[i];\n      var element = document.createElement('script');\n      element.onload = on_load;\n      element.onerror = on_error;\n      element.async = false;\n      element.src = url;\n      if (url in hashes) {\n        element.crossOrigin = \"anonymous\";\n        element.integrity = \"sha384-\" + hashes[url];\n      }\n      console.debug(\"Bokeh: injecting script tag for BokehJS library: \", url);\n      document.head.appendChild(element);\n    }\n  };\n\n  function inject_raw_css(css) {\n    const element = document.createElement(\"style\");\n    element.appendChild(document.createTextNode(css));\n    document.body.appendChild(element);\n  }\n\n  \n  var js_urls = [\"https://cdn.bokeh.org/bokeh/release/bokeh-2.0.2.min.js\", \"https://cdn.bokeh.org/bokeh/release/bokeh-widgets-2.0.2.min.js\", \"https://cdn.bokeh.org/bokeh/release/bokeh-tables-2.0.2.min.js\", \"https://cdn.bokeh.org/bokeh/release/bokeh-gl-2.0.2.min.js\"];\n  var css_urls = [];\n  \n\n  var inline_js = [\n    function(Bokeh) {\n      Bokeh.set_log_level(\"info\");\n    },\n    function(Bokeh) {\n    \n    \n    }\n  ];\n\n  function run_inline_js() {\n    \n    if (root.Bokeh !== undefined || force === true) {\n      \n    for (var i = 0; i < inline_js.length; i++) {\n      inline_js[i].call(root, root.Bokeh);\n    }\n    if (force === true) {\n        display_loaded();\n      }} else if (Date.now() < root._bokeh_timeout) {\n      setTimeout(run_inline_js, 100);\n    } else if (!root._bokeh_failed_load) {\n      console.log(\"Bokeh: BokehJS failed to load within specified timeout.\");\n      root._bokeh_failed_load = true;\n    } else if (force !== true) {\n      var cell = $(document.getElementById(\"1001\")).parents('.cell').data().cell;\n      cell.output_area.append_execute_result(NB_LOAD_WARNING)\n    }\n\n  }\n\n  if (root._bokeh_is_loading === 0) {\n    console.debug(\"Bokeh: BokehJS loaded, going straight to plotting\");\n    run_inline_js();\n  } else {\n    load_libs(css_urls, js_urls, function() {\n      console.debug(\"Bokeh: BokehJS plotting callback run at\", now());\n      run_inline_js();\n    });\n  }\n}(window));"
     },
     "metadata": {},
     "output_type": "display_data"
    }
   ],
   "source": [
    "import numpy as np\n",
    "\n",
    "import pandas as pd\n",
    "\n",
    "from math import pi\n",
    "\n",
    "from bokeh.plotting import figure, output_file, show, output_notebook, gridplot\n",
    "from bokeh.models import DatetimeTickFormatter, BasicTickFormatter, NumeralTickFormatter\n",
    "from bokeh.models import HoverTool\n",
    "from bokeh.layouts import row\n",
    "\n",
    "output_notebook()"
   ]
  },
  {
   "cell_type": "code",
   "execution_count": 2,
   "metadata": {},
   "outputs": [],
   "source": [
    "def datetime(x):\n",
    "    return np.array(x, dtype=np.datetime64)"
   ]
  },
  {
   "cell_type": "markdown",
   "metadata": {},
   "source": [
    "---------------------\n",
    "\n",
    "### ----- Plot function 1 line -----"
   ]
  },
  {
   "cell_type": "code",
   "execution_count": 3,
   "metadata": {},
   "outputs": [],
   "source": [
    "def bokeh_plot_1_line(x, y, title, file_name, x_label, y_label, legend, x_label_hover, y_label_hover, color, y_minmax):\n",
    "    \n",
    "    output_file(file_name)\n",
    "    \n",
    "    p = figure(title=title, x_axis_type='datetime', x_axis_label=x_label, y_axis_label=y_label, width=600, height=450, y_range=y_minmax)\n",
    "    \n",
    "    p.line(x.squeeze(), y, color=color, line_width=4, legend_label=legend)\n",
    "    p.circle(x.squeeze(), y, fill_color=\"white\", line_color=color, size=6)\n",
    "    \n",
    "    p.xaxis.formatter = DatetimeTickFormatter(\n",
    "#         hours=[\"%d %B %Y\"],\n",
    "#         days=[\"%Y %m %d\"],\n",
    "        days=[\"%d %B\"],\n",
    "#         months=[\"%d %B %Y\"],\n",
    "#         years=[\"%d %B %Y\"],\n",
    "    )\n",
    "    p.xaxis.major_label_orientation = pi/4\n",
    "  \n",
    "    p.yaxis.formatter = BasicTickFormatter(use_scientific = False)\n",
    "#     p.left[0].formatter.use_scientific = False\n",
    "    p.yaxis.formatter = NumeralTickFormatter(format = '0,0')\n",
    "    \n",
    "    p.axis.minor_tick_in = -5\n",
    "    p.axis.minor_tick_out = -3\n",
    "    \n",
    "    p.legend.location = \"top_left\"\n",
    "    \n",
    "    p.add_tools(HoverTool(\n",
    "    tooltips=[\n",
    "        ( x_label_hover,   '@x{%d %B}'    ),\n",
    "        ( y_label_hover, '@y{0.}'      ),\n",
    "    ],\n",
    "\n",
    "    formatters={\n",
    "           '@x'  : 'datetime', # use 'datetime' formatter for 'date' field\n",
    "#            '@y'  : 'printf',   # use 'printf' formatter for 'adj close' field\n",
    "                                  # use default 'numeral' formatter for other fields\n",
    "    },\n",
    "\n",
    "    # display a tooltip whenever the cursor is vertically in line with a glyph\n",
    "    mode='vline'\n",
    "    ))\n",
    "\n",
    "    return p\n",
    "#     show(p)"
   ]
  },
  {
   "cell_type": "markdown",
   "metadata": {},
   "source": [
    "### ----- Plot function 2 lines -----"
   ]
  },
  {
   "cell_type": "code",
   "execution_count": 4,
   "metadata": {},
   "outputs": [],
   "source": [
    "def bokeh_plot_2_lines(x, y, yy, title, file_name, x_label, y_label, legend_1, legend_2, x_label_hover, y_label_hover, color_1, color_2, y_minmax):\n",
    "    \n",
    "    output_file(file_name)\n",
    "    \n",
    "    p = figure(title=title, x_axis_type='datetime', x_axis_label=x_label, y_axis_label=y_label, width=600, height=450, y_range=y_minmax)\n",
    "    \n",
    "    p.line(x, y, color=color_1, line_width=4, legend_label=legend_1)\n",
    "    p.circle(x, y, fill_color=\"white\", line_color=color_1, size=6)\n",
    "    \n",
    "    p.line(x, yy, color=color_2, line_width=4, legend_label=legend_2)\n",
    "    p.circle(x, yy, fill_color=\"white\", line_color=color_2, size=6)\n",
    "    \n",
    "    p.xaxis.formatter=DatetimeTickFormatter(\n",
    "#         hours=[\"%d %B %Y\"],\n",
    "#         days=[\"%Y %m %d\"],\n",
    "    days=[\"%d %B\"],\n",
    "#         months=[\"%d %B %Y\"],\n",
    "#         years=[\"%d %B %Y\"],\n",
    "    )\n",
    "    p.xaxis.major_label_orientation = pi/4\n",
    "  \n",
    "    p.yaxis.formatter = BasicTickFormatter(use_scientific=False)\n",
    "#     p.left[0].formatter.use_scientific = False\n",
    "    p.yaxis.formatter = NumeralTickFormatter(format = '0,0')\n",
    "    \n",
    "    p.axis.minor_tick_in = -5\n",
    "    p.axis.minor_tick_out = -3\n",
    "    \n",
    "    p.legend.location = \"top_left\"\n",
    "    \n",
    "    p.add_tools(HoverTool(\n",
    "    tooltips=[\n",
    "        ( x_label_hover,   '@x{%d %B}' ),\n",
    "        ( y_label_hover, '@y{0.}' ),\n",
    "#         ( 'label yy', '@yy' ),\n",
    "    ],\n",
    "\n",
    "    formatters={\n",
    "           '@x'  : 'datetime', # use 'datetime' formatter for 'date' field\n",
    "#            '@y'  : 'printf',   # use 'printf' formatter for 'adj close' field\n",
    "                                  # use default 'numeral' formatter for other fields\n",
    "    },\n",
    "\n",
    "    # display a tooltip whenever the cursor is vertically in line with a glyph\n",
    "    mode='vline'\n",
    "    ))\n",
    "    \n",
    "    return p  \n",
    "#     show(p)"
   ]
  },
  {
   "cell_type": "markdown",
   "metadata": {},
   "source": [
    "### ----- Plot function N lines -----"
   ]
  },
  {
   "cell_type": "code",
   "execution_count": 5,
   "metadata": {},
   "outputs": [],
   "source": [
    "def bokeh_plot_N_lines(x, y_list, title, dim, x_label, y_label, legend_list, x_label_hover, y_label_hover, color_list, legend_location, y_minmax):\n",
    "    \n",
    "#     output_file(file_name)\n",
    "    \n",
    "    p = figure(title=title, x_axis_type='datetime', x_axis_label=x_label, y_axis_label=y_label, width=dim[0], height=dim[1], y_range=y_minmax)\n",
    "    \n",
    "    for iii in range(0,len(y_list)):\n",
    "        p.line(x, y_list[iii], color=color_list[iii], line_width=4, legend_label=legend_list[iii])\n",
    "        p.circle(x, y_list[iii], fill_color=\"white\", line_color=color_list[iii], size=5)\n",
    "        \n",
    "    \n",
    "    p.xaxis.formatter=DatetimeTickFormatter(\n",
    "#         hours=[\"%d %B %Y\"],\n",
    "#         days=[\"%Y %m %d\"],\n",
    "    days=[\"%d %B\"],\n",
    "#         months=[\"%d %B %Y\"],\n",
    "#         years=[\"%d %B %Y\"],\n",
    "    )\n",
    "    p.xaxis.major_label_orientation = pi/4\n",
    "  \n",
    "    p.yaxis.formatter = BasicTickFormatter(use_scientific=False)\n",
    "#     p.left[0].formatter.use_scientific = False\n",
    "#     p.yaxis.formatter = NumeralTickFormatter(format = '0,0')\n",
    "    p.yaxis.formatter.use_scientific = False\n",
    "    \n",
    "    p.axis.minor_tick_in = -5\n",
    "    p.axis.minor_tick_out = -3\n",
    "    \n",
    "    p.legend.location = legend_location\n",
    "    \n",
    "    p.add_tools(HoverTool(\n",
    "    tooltips=[\n",
    "        ( x_label_hover,   '@x{%d %B}' ),\n",
    "        ( y_label_hover, '@y{0[.]000}' ),\n",
    "#         ( 'label yy', '@yy' ),\n",
    "    ],\n",
    "\n",
    "    formatters={\n",
    "           '@x'  : 'datetime', # use 'datetime' formatter for 'date' field\n",
    "#            '@y'  : 'printf',   # use 'printf' formatter for 'adj close' field\n",
    "#            '@y'  : 'numeral',   # use 'printf' formatter for 'adj close' field\n",
    "                                  # use default 'numeral' formatter for other fields\n",
    "    },\n",
    "\n",
    "    # display a tooltip whenever the cursor is vertically in line with a glyph\n",
    "    mode='vline'\n",
    "    ))\n",
    "    \n",
    "    return p  \n",
    "#     show(p)"
   ]
  },
  {
   "cell_type": "markdown",
   "metadata": {},
   "source": [
    "-----------------\n",
    "\n",
    "## Data Sources"
   ]
  },
  {
   "cell_type": "markdown",
   "metadata": {},
   "source": [
    "We importe the CSV files directly from the official GitHub source of the Protezione Civile:"
   ]
  },
  {
   "cell_type": "code",
   "execution_count": 6,
   "metadata": {},
   "outputs": [],
   "source": [
    "data_links = {'nazionale':'https://raw.githubusercontent.com/pcm-dpc/COVID-19/master/dati-andamento-nazionale/dpc-covid19-ita-andamento-nazionale.csv',\\\n",
    "              'regioni':'https://raw.githubusercontent.com/pcm-dpc/COVID-19/master/dati-regioni/dpc-covid19-ita-regioni.csv',\\\n",
    "              'province':'https://raw.githubusercontent.com/pcm-dpc/COVID-19/master/dati-province/dpc-covid19-ita-province.csv'}"
   ]
  },
  {
   "cell_type": "markdown",
   "metadata": {},
   "source": [
    "-----------------\n",
    "\n",
    "## National Trends"
   ]
  },
  {
   "cell_type": "code",
   "execution_count": 7,
   "metadata": {},
   "outputs": [
    {
     "name": "stdout",
     "output_type": "stream",
     "text": [
      "The path to the Raw CSV file for the national data is : \n",
      " https://raw.githubusercontent.com/pcm-dpc/COVID-19/master/dati-andamento-nazionale/dpc-covid19-ita-andamento-nazionale.csv\n"
     ]
    },
    {
     "data": {
      "text/html": [
       "<div>\n",
       "<style scoped>\n",
       "    .dataframe tbody tr th:only-of-type {\n",
       "        vertical-align: middle;\n",
       "    }\n",
       "\n",
       "    .dataframe tbody tr th {\n",
       "        vertical-align: top;\n",
       "    }\n",
       "\n",
       "    .dataframe thead th {\n",
       "        text-align: right;\n",
       "    }\n",
       "</style>\n",
       "<table border=\"1\" class=\"dataframe\">\n",
       "  <thead>\n",
       "    <tr style=\"text-align: right;\">\n",
       "      <th></th>\n",
       "      <th>data</th>\n",
       "      <th>stato</th>\n",
       "      <th>ricoverati_con_sintomi</th>\n",
       "      <th>terapia_intensiva</th>\n",
       "      <th>totale_ospedalizzati</th>\n",
       "      <th>isolamento_domiciliare</th>\n",
       "      <th>totale_positivi</th>\n",
       "      <th>variazione_totale_positivi</th>\n",
       "      <th>nuovi_positivi</th>\n",
       "      <th>dimessi_guariti</th>\n",
       "      <th>deceduti</th>\n",
       "      <th>totale_casi</th>\n",
       "      <th>tamponi</th>\n",
       "      <th>casi_testati</th>\n",
       "      <th>note_it</th>\n",
       "      <th>note_en</th>\n",
       "    </tr>\n",
       "  </thead>\n",
       "  <tbody>\n",
       "    <tr>\n",
       "      <th>0</th>\n",
       "      <td>2020-02-24T18:00:00</td>\n",
       "      <td>ITA</td>\n",
       "      <td>101</td>\n",
       "      <td>26</td>\n",
       "      <td>127</td>\n",
       "      <td>94</td>\n",
       "      <td>221</td>\n",
       "      <td>0</td>\n",
       "      <td>221</td>\n",
       "      <td>1</td>\n",
       "      <td>7</td>\n",
       "      <td>229</td>\n",
       "      <td>4324</td>\n",
       "      <td>NaN</td>\n",
       "      <td>NaN</td>\n",
       "      <td>NaN</td>\n",
       "    </tr>\n",
       "    <tr>\n",
       "      <th>1</th>\n",
       "      <td>2020-02-25T18:00:00</td>\n",
       "      <td>ITA</td>\n",
       "      <td>114</td>\n",
       "      <td>35</td>\n",
       "      <td>150</td>\n",
       "      <td>162</td>\n",
       "      <td>311</td>\n",
       "      <td>90</td>\n",
       "      <td>93</td>\n",
       "      <td>1</td>\n",
       "      <td>10</td>\n",
       "      <td>322</td>\n",
       "      <td>8623</td>\n",
       "      <td>NaN</td>\n",
       "      <td>NaN</td>\n",
       "      <td>NaN</td>\n",
       "    </tr>\n",
       "    <tr>\n",
       "      <th>2</th>\n",
       "      <td>2020-02-26T18:00:00</td>\n",
       "      <td>ITA</td>\n",
       "      <td>128</td>\n",
       "      <td>36</td>\n",
       "      <td>164</td>\n",
       "      <td>221</td>\n",
       "      <td>385</td>\n",
       "      <td>74</td>\n",
       "      <td>78</td>\n",
       "      <td>3</td>\n",
       "      <td>12</td>\n",
       "      <td>400</td>\n",
       "      <td>9587</td>\n",
       "      <td>NaN</td>\n",
       "      <td>NaN</td>\n",
       "      <td>NaN</td>\n",
       "    </tr>\n",
       "    <tr>\n",
       "      <th>3</th>\n",
       "      <td>2020-02-27T18:00:00</td>\n",
       "      <td>ITA</td>\n",
       "      <td>248</td>\n",
       "      <td>56</td>\n",
       "      <td>304</td>\n",
       "      <td>284</td>\n",
       "      <td>588</td>\n",
       "      <td>203</td>\n",
       "      <td>250</td>\n",
       "      <td>45</td>\n",
       "      <td>17</td>\n",
       "      <td>650</td>\n",
       "      <td>12014</td>\n",
       "      <td>NaN</td>\n",
       "      <td>NaN</td>\n",
       "      <td>NaN</td>\n",
       "    </tr>\n",
       "    <tr>\n",
       "      <th>4</th>\n",
       "      <td>2020-02-28T18:00:00</td>\n",
       "      <td>ITA</td>\n",
       "      <td>345</td>\n",
       "      <td>64</td>\n",
       "      <td>409</td>\n",
       "      <td>412</td>\n",
       "      <td>821</td>\n",
       "      <td>233</td>\n",
       "      <td>238</td>\n",
       "      <td>46</td>\n",
       "      <td>21</td>\n",
       "      <td>888</td>\n",
       "      <td>15695</td>\n",
       "      <td>NaN</td>\n",
       "      <td>NaN</td>\n",
       "      <td>NaN</td>\n",
       "    </tr>\n",
       "  </tbody>\n",
       "</table>\n",
       "</div>"
      ],
      "text/plain": [
       "                  data stato  ricoverati_con_sintomi  terapia_intensiva  \\\n",
       "0  2020-02-24T18:00:00   ITA                     101                 26   \n",
       "1  2020-02-25T18:00:00   ITA                     114                 35   \n",
       "2  2020-02-26T18:00:00   ITA                     128                 36   \n",
       "3  2020-02-27T18:00:00   ITA                     248                 56   \n",
       "4  2020-02-28T18:00:00   ITA                     345                 64   \n",
       "\n",
       "   totale_ospedalizzati  isolamento_domiciliare  totale_positivi  \\\n",
       "0                   127                      94              221   \n",
       "1                   150                     162              311   \n",
       "2                   164                     221              385   \n",
       "3                   304                     284              588   \n",
       "4                   409                     412              821   \n",
       "\n",
       "   variazione_totale_positivi  nuovi_positivi  dimessi_guariti  deceduti  \\\n",
       "0                           0             221                1         7   \n",
       "1                          90              93                1        10   \n",
       "2                          74              78                3        12   \n",
       "3                         203             250               45        17   \n",
       "4                         233             238               46        21   \n",
       "\n",
       "   totale_casi  tamponi  casi_testati note_it note_en  \n",
       "0          229     4324           NaN     NaN     NaN  \n",
       "1          322     8623           NaN     NaN     NaN  \n",
       "2          400     9587           NaN     NaN     NaN  \n",
       "3          650    12014           NaN     NaN     NaN  \n",
       "4          888    15695           NaN     NaN     NaN  "
      ]
     },
     "execution_count": 7,
     "metadata": {},
     "output_type": "execute_result"
    }
   ],
   "source": [
    "path_nazionale = data_links['nazionale']\n",
    "print('The path to the Raw CSV file for the national data is : \\n', path_nazionale)\n",
    "df_nazionale = pd.read_csv(path_nazionale)\n",
    "df_nazionale.head()"
   ]
  },
  {
   "cell_type": "code",
   "execution_count": 8,
   "metadata": {},
   "outputs": [
    {
     "data": {
      "text/plain": [
       "(121, 16)"
      ]
     },
     "execution_count": 8,
     "metadata": {},
     "output_type": "execute_result"
    }
   ],
   "source": [
    "df_nazionale.shape"
   ]
  },
  {
   "cell_type": "markdown",
   "metadata": {},
   "source": [
    "------------\n",
    "\n",
    "### Date Formatting"
   ]
  },
  {
   "cell_type": "code",
   "execution_count": 9,
   "metadata": {},
   "outputs": [
    {
     "data": {
      "text/plain": [
       "0    2020-02-24T18:00:00\n",
       "1    2020-02-25T18:00:00\n",
       "2    2020-02-26T18:00:00\n",
       "3    2020-02-27T18:00:00\n",
       "4    2020-02-28T18:00:00\n",
       "Name: data, dtype: object"
      ]
     },
     "execution_count": 9,
     "metadata": {},
     "output_type": "execute_result"
    }
   ],
   "source": [
    "time_date = df_nazionale['data']\n",
    "time_date.head()"
   ]
  },
  {
   "cell_type": "code",
   "execution_count": 10,
   "metadata": {},
   "outputs": [
    {
     "data": {
      "text/plain": [
       "0    2020-02-24\n",
       "1    2020-02-25\n",
       "2    2020-02-26\n",
       "3    2020-02-27\n",
       "4    2020-02-28\n",
       "Name: data, dtype: object"
      ]
     },
     "execution_count": 10,
     "metadata": {},
     "output_type": "execute_result"
    }
   ],
   "source": [
    "time_date_new = pd.to_datetime(time_date).dt.date\n",
    "time_date_new.head()"
   ]
  },
  {
   "cell_type": "code",
   "execution_count": 11,
   "metadata": {},
   "outputs": [
    {
     "data": {
      "text/plain": [
       "array(['2020-02-24', '2020-02-25', '2020-02-26', '2020-02-27',\n",
       "       '2020-02-28', '2020-02-29', '2020-03-01', '2020-03-02',\n",
       "       '2020-03-03', '2020-03-04', '2020-03-05', '2020-03-06',\n",
       "       '2020-03-07', '2020-03-08', '2020-03-09', '2020-03-10',\n",
       "       '2020-03-11', '2020-03-12', '2020-03-13', '2020-03-14',\n",
       "       '2020-03-15', '2020-03-16', '2020-03-17', '2020-03-18',\n",
       "       '2020-03-19', '2020-03-20', '2020-03-21', '2020-03-22',\n",
       "       '2020-03-23', '2020-03-24', '2020-03-25', '2020-03-26',\n",
       "       '2020-03-27', '2020-03-28', '2020-03-29', '2020-03-30',\n",
       "       '2020-03-31', '2020-04-01', '2020-04-02', '2020-04-03',\n",
       "       '2020-04-04', '2020-04-05', '2020-04-06', '2020-04-07',\n",
       "       '2020-04-08', '2020-04-09', '2020-04-10', '2020-04-11',\n",
       "       '2020-04-12', '2020-04-13', '2020-04-14', '2020-04-15',\n",
       "       '2020-04-16', '2020-04-17', '2020-04-18', '2020-04-19',\n",
       "       '2020-04-20', '2020-04-21', '2020-04-22', '2020-04-23',\n",
       "       '2020-04-24', '2020-04-25', '2020-04-26', '2020-04-27',\n",
       "       '2020-04-28', '2020-04-29', '2020-04-30', '2020-05-01',\n",
       "       '2020-05-02', '2020-05-03', '2020-05-04', '2020-05-05',\n",
       "       '2020-05-06', '2020-05-07', '2020-05-08', '2020-05-09',\n",
       "       '2020-05-10', '2020-05-11', '2020-05-12', '2020-05-13',\n",
       "       '2020-05-14', '2020-05-15', '2020-05-16', '2020-05-17',\n",
       "       '2020-05-18', '2020-05-19', '2020-05-20', '2020-05-21',\n",
       "       '2020-05-22', '2020-05-23', '2020-05-24', '2020-05-25',\n",
       "       '2020-05-26', '2020-05-27', '2020-05-28', '2020-05-29',\n",
       "       '2020-05-30', '2020-05-31', '2020-06-01', '2020-06-02',\n",
       "       '2020-06-03', '2020-06-04', '2020-06-05', '2020-06-06',\n",
       "       '2020-06-07', '2020-06-08', '2020-06-09', '2020-06-10',\n",
       "       '2020-06-11', '2020-06-12', '2020-06-13', '2020-06-14',\n",
       "       '2020-06-15', '2020-06-16', '2020-06-17', '2020-06-18',\n",
       "       '2020-06-19', '2020-06-20', '2020-06-21', '2020-06-22',\n",
       "       '2020-06-23'], dtype='datetime64[D]')"
      ]
     },
     "execution_count": 11,
     "metadata": {},
     "output_type": "execute_result"
    }
   ],
   "source": [
    "time_date_new = datetime(time_date_new)\n",
    "time_date_new"
   ]
  },
  {
   "cell_type": "markdown",
   "metadata": {},
   "source": [
    "-----------"
   ]
  },
  {
   "cell_type": "code",
   "execution_count": 12,
   "metadata": {},
   "outputs": [
    {
     "data": {
      "text/plain": [
       "DatetimeIndex(['2020-02-24', '2020-02-25', '2020-02-26', '2020-02-27',\n",
       "               '2020-02-28', '2020-02-29', '2020-03-01', '2020-03-02',\n",
       "               '2020-03-03', '2020-03-04',\n",
       "               ...\n",
       "               '2020-10-13', '2020-10-14', '2020-10-15', '2020-10-16',\n",
       "               '2020-10-17', '2020-10-18', '2020-10-19', '2020-10-20',\n",
       "               '2020-10-21', '2020-10-22'],\n",
       "              dtype='datetime64[ns]', length=242, freq='D')"
      ]
     },
     "execution_count": 12,
     "metadata": {},
     "output_type": "execute_result"
    }
   ],
   "source": [
    "time_date_new_extended = pd.date_range(start=time_date_new[0], periods=2*time_date.shape[0])\n",
    "time_date_new_extended"
   ]
  },
  {
   "cell_type": "code",
   "execution_count": 13,
   "metadata": {},
   "outputs": [
    {
     "data": {
      "text/plain": [
       "DatetimeIndex(['2020-02-24', '2020-02-25', '2020-02-26', '2020-02-27'], dtype='datetime64[ns]', freq='D')"
      ]
     },
     "execution_count": 13,
     "metadata": {},
     "output_type": "execute_result"
    }
   ],
   "source": [
    "time_date_new_extended[0:4]"
   ]
  },
  {
   "cell_type": "markdown",
   "metadata": {},
   "source": [
    "------------------\n",
    "\n",
    "### Total Cases"
   ]
  },
  {
   "cell_type": "code",
   "execution_count": 14,
   "metadata": {},
   "outputs": [
    {
     "data": {
      "text/plain": [
       "0    229\n",
       "1    322\n",
       "2    400\n",
       "3    650\n",
       "4    888\n",
       "Name: totale_casi, dtype: int64"
      ]
     },
     "execution_count": 14,
     "metadata": {},
     "output_type": "execute_result"
    }
   ],
   "source": [
    "total_cases_italy = df_nazionale['totale_casi']\n",
    "total_cases_italy.head()"
   ]
  },
  {
   "cell_type": "markdown",
   "metadata": {},
   "source": [
    "### Total Positive"
   ]
  },
  {
   "cell_type": "code",
   "execution_count": 15,
   "metadata": {},
   "outputs": [
    {
     "data": {
      "text/plain": [
       "0    221\n",
       "1    311\n",
       "2    385\n",
       "3    588\n",
       "4    821\n",
       "Name: totale_positivi, dtype: int64"
      ]
     },
     "execution_count": 15,
     "metadata": {},
     "output_type": "execute_result"
    }
   ],
   "source": [
    "total_positive_italy = df_nazionale['totale_positivi']\n",
    "total_positive_italy.head()"
   ]
  },
  {
   "cell_type": "markdown",
   "metadata": {},
   "source": [
    "-------------------------"
   ]
  },
  {
   "cell_type": "code",
   "execution_count": 16,
   "metadata": {
    "scrolled": false
   },
   "outputs": [
    {
     "data": {
      "text/html": [
       "\n",
       "\n",
       "\n",
       "\n",
       "\n",
       "\n",
       "  <div class=\"bk-root\" id=\"d320b76c-187d-4b0f-ae00-d152078f75b9\" data-root-id=\"1002\"></div>\n"
      ]
     },
     "metadata": {},
     "output_type": "display_data"
    },
    {
     "data": {
      "application/javascript": [
       "(function(root) {\n",
       "  function embed_document(root) {\n",
       "    \n",
       "  var docs_json = {\"a7b9fb36-cefd-41f7-8e8a-cf14a09b3398\":{\"roots\":{\"references\":[{\"attributes\":{\"below\":[{\"id\":\"1013\"}],\"center\":[{\"id\":\"1016\"},{\"id\":\"1020\"},{\"id\":\"1058\"}],\"left\":[{\"id\":\"1017\"}],\"plot_height\":450,\"renderers\":[{\"id\":\"1038\"},{\"id\":\"1063\"}],\"title\":{\"id\":\"1003\"},\"toolbar\":{\"id\":\"1028\"},\"x_range\":{\"id\":\"1005\"},\"x_scale\":{\"id\":\"1009\"},\"y_range\":{\"id\":\"1007\"},\"y_scale\":{\"id\":\"1011\"}},\"id\":\"1002\",\"subtype\":\"Figure\",\"type\":\"Plot\"},{\"attributes\":{\"axis_label\":\"Date\",\"formatter\":{\"id\":\"1065\"},\"major_label_orientation\":0.7853981633974483,\"minor_tick_in\":-5,\"minor_tick_out\":-3,\"ticker\":{\"id\":\"1014\"}},\"id\":\"1013\",\"type\":\"DatetimeAxis\"},{\"attributes\":{\"data_source\":{\"id\":\"1035\"},\"glyph\":{\"id\":\"1036\"},\"hover_glyph\":null,\"muted_glyph\":null,\"nonselection_glyph\":{\"id\":\"1037\"},\"selection_glyph\":null,\"view\":{\"id\":\"1039\"}},\"id\":\"1038\",\"type\":\"GlyphRenderer\"},{\"attributes\":{\"data_source\":{\"id\":\"1060\"},\"glyph\":{\"id\":\"1061\"},\"hover_glyph\":null,\"muted_glyph\":null,\"nonselection_glyph\":{\"id\":\"1062\"},\"selection_glyph\":null,\"view\":{\"id\":\"1064\"}},\"id\":\"1063\",\"type\":\"GlyphRenderer\"},{\"attributes\":{\"days\":[1,2,3,4,5,6,7,8,9,10,11,12,13,14,15,16,17,18,19,20,21,22,23,24,25,26,27,28,29,30,31]},\"id\":\"1048\",\"type\":\"DaysTicker\"},{\"attributes\":{\"items\":[{\"id\":\"1059\"}],\"location\":\"top_left\"},\"id\":\"1058\",\"type\":\"Legend\"},{\"attributes\":{\"num_minor_ticks\":5,\"tickers\":[{\"id\":\"1045\"},{\"id\":\"1046\"},{\"id\":\"1047\"},{\"id\":\"1048\"},{\"id\":\"1049\"},{\"id\":\"1050\"},{\"id\":\"1051\"},{\"id\":\"1052\"},{\"id\":\"1053\"},{\"id\":\"1054\"},{\"id\":\"1055\"},{\"id\":\"1056\"}]},\"id\":\"1014\",\"type\":\"DatetimeTicker\"},{\"attributes\":{\"overlay\":{\"id\":\"1027\"}},\"id\":\"1023\",\"type\":\"BoxZoomTool\"},{\"attributes\":{},\"id\":\"1005\",\"type\":\"DataRange1d\"},{\"attributes\":{\"days\":[1,8,15,22]},\"id\":\"1050\",\"type\":\"DaysTicker\"},{\"attributes\":{\"axis_label\":\"Total Cases\",\"formatter\":{\"id\":\"1069\"},\"minor_tick_in\":-5,\"minor_tick_out\":-3,\"ticker\":{\"id\":\"1018\"}},\"id\":\"1017\",\"type\":\"LinearAxis\"},{\"attributes\":{},\"id\":\"1024\",\"type\":\"SaveTool\"},{\"attributes\":{},\"id\":\"1022\",\"type\":\"WheelZoomTool\"},{\"attributes\":{\"months\":[0,6]},\"id\":\"1055\",\"type\":\"MonthsTicker\"},{\"attributes\":{\"bottom_units\":\"screen\",\"fill_alpha\":0.5,\"fill_color\":\"lightgrey\",\"left_units\":\"screen\",\"level\":\"overlay\",\"line_alpha\":1.0,\"line_color\":\"black\",\"line_dash\":[4,4],\"line_width\":2,\"render_mode\":\"css\",\"right_units\":\"screen\",\"top_units\":\"screen\"},\"id\":\"1027\",\"type\":\"BoxAnnotation\"},{\"attributes\":{\"fill_color\":{\"value\":\"white\"},\"line_color\":{\"value\":\"blue\"},\"size\":{\"units\":\"screen\",\"value\":6},\"x\":{\"field\":\"x\"},\"y\":{\"field\":\"y\"}},\"id\":\"1061\",\"type\":\"Circle\"},{\"attributes\":{},\"id\":\"1009\",\"type\":\"LinearScale\"},{\"attributes\":{},\"id\":\"1056\",\"type\":\"YearsTicker\"},{\"attributes\":{\"base\":24,\"mantissas\":[1,2,4,6,8,12],\"max_interval\":43200000.0,\"min_interval\":3600000.0,\"num_minor_ticks\":0},\"id\":\"1047\",\"type\":\"AdaptiveTicker\"},{\"attributes\":{\"months\":[0,4,8]},\"id\":\"1054\",\"type\":\"MonthsTicker\"},{\"attributes\":{\"text\":\"Total Cases: Italy\"},\"id\":\"1003\",\"type\":\"Title\"},{\"attributes\":{\"axis\":{\"id\":\"1017\"},\"dimension\":1,\"ticker\":null},\"id\":\"1020\",\"type\":\"Grid\"},{\"attributes\":{},\"id\":\"1021\",\"type\":\"PanTool\"},{\"attributes\":{\"months\":[0,1,2,3,4,5,6,7,8,9,10,11]},\"id\":\"1052\",\"type\":\"MonthsTicker\"},{\"attributes\":{},\"id\":\"1011\",\"type\":\"LinearScale\"},{\"attributes\":{\"days\":[\"%d %B\"]},\"id\":\"1065\",\"type\":\"DatetimeTickFormatter\"},{\"attributes\":{\"base\":60,\"mantissas\":[1,2,5,10,15,20,30],\"max_interval\":1800000.0,\"min_interval\":1000.0,\"num_minor_ticks\":0},\"id\":\"1046\",\"type\":\"AdaptiveTicker\"},{\"attributes\":{},\"id\":\"1069\",\"type\":\"NumeralTickFormatter\"},{\"attributes\":{\"callback\":null,\"formatters\":{\"@x\":\"datetime\"},\"mode\":\"vline\",\"tooltips\":[[\"date\",\"@x{%d %B}\"],[\"total cases\",\"@y{0.}\"]]},\"id\":\"1070\",\"type\":\"HoverTool\"},{\"attributes\":{},\"id\":\"1007\",\"type\":\"DataRange1d\"},{\"attributes\":{\"source\":{\"id\":\"1035\"}},\"id\":\"1039\",\"type\":\"CDSView\"},{\"attributes\":{\"fill_alpha\":{\"value\":0.1},\"fill_color\":{\"value\":\"white\"},\"line_alpha\":{\"value\":0.1},\"line_color\":{\"value\":\"blue\"},\"size\":{\"units\":\"screen\",\"value\":6},\"x\":{\"field\":\"x\"},\"y\":{\"field\":\"y\"}},\"id\":\"1062\",\"type\":\"Circle\"},{\"attributes\":{},\"id\":\"1026\",\"type\":\"HelpTool\"},{\"attributes\":{\"data\":{\"x\":{\"__ndarray__\":\"AAAA5UcHd0IAAMBKmgd3QgAAgLDsB3dCAABAFj8Id0IAAAB8kQh3QgAAwOHjCHdCAACARzYJd0IAAECtiAl3QgAAABPbCXdCAADAeC0Kd0IAAIDefwp3QgAAQETSCndCAAAAqiQLd0IAAMAPdwt3QgAAgHXJC3dCAABA2xsMd0IAAABBbgx3QgAAwKbADHdCAACADBMNd0IAAEByZQ13QgAAANi3DXdCAADAPQoOd0IAAICjXA53QgAAQAmvDndCAAAAbwEPd0IAAMDUUw93QgAAgDqmD3dCAABAoPgPd0IAAAAGSxB3QgAAwGudEHdCAACA0e8Qd0IAAEA3QhF3QgAAAJ2UEXdCAADAAucRd0IAAIBoORJ3QgAAQM6LEndCAAAANN4Sd0IAAMCZMBN3QgAAgP+CE3dCAABAZdUTd0IAAADLJxR3QgAAwDB6FHdCAACAlswUd0IAAED8HhV3QgAAAGJxFXdCAADAx8MVd0IAAIAtFhZ3QgAAQJNoFndCAAAA+boWd0IAAMBeDRd3QgAAgMRfF3dCAABAKrIXd0IAAACQBBh3QgAAwPVWGHdCAACAW6kYd0IAAEDB+xh3QgAAACdOGXdCAADAjKAZd0IAAIDy8hl3QgAAQFhFGndCAAAAvpcad0IAAMAj6hp3QgAAgIk8G3dCAABA744bd0IAAABV4Rt3QgAAwLozHHdCAACAIIYcd0IAAECG2Bx3QgAAAOwqHXdCAADAUX0dd0IAAIC3zx13QgAAQB0iHndCAAAAg3Qed0IAAMDoxh53QgAAgE4ZH3dCAABAtGsfd0IAAAAavh93QgAAwH8QIHdCAACA5WIgd0IAAEBLtSB3QgAAALEHIXdCAADAFlohd0IAAIB8rCF3QgAAQOL+IXdCAAAASFEid0IAAMCtoyJ3QgAAgBP2IndCAABAeUgjd0IAAADfmiN3QgAAwETtI3dCAACAqj8kd0IAAEAQkiR3QgAAAHbkJHdCAADA2zYld0IAAIBBiSV3QgAAQKfbJXdCAAAADS4md0IAAMBygCZ3QgAAgNjSJndCAABAPiUnd0IAAACkdyd3QgAAwAnKJ3dCAACAbxwod0IAAEDVbih3QgAAADvBKHdCAADAoBMpd0IAAIAGZil3QgAAQGy4KXdCAAAA0goqd0IAAMA3XSp3QgAAgJ2vKndCAABAAwIrd0IAAABpVCt3QgAAwM6mK3dCAACANPkrd0IAAECaSyx3QgAAAACeLHdCAADAZfAsd0IAAIDLQi13QgAAQDGVLXdCAAAAl+ctd0I=\",\"dtype\":\"float64\",\"shape\":[121]},\"y\":[229,322,400,650,888,1128,1694,2036,2502,3089,3858,4636,5883,7375,9172,10149,12462,15113,17660,21157,24747,27980,31506,35713,41035,47021,53578,59138,63927,69176,74386,80539,86498,92472,97689,101739,105792,110574,115242,119827,124632,128948,132547,135586,139422,143626,147577,152271,156363,159516,162488,165155,168941,172434,175925,178972,181228,183957,187327,189973,192994,195351,197675,199414,201505,203591,205463,207428,209328,210717,211938,213013,214457,215858,217185,218268,219070,219814,221216,222104,223096,223885,224760,225435,225886,226699,227364,228006,228658,229327,229858,230158,230555,231139,231732,232248,232664,233019,233197,233515,233836,234013,234531,234801,234998,235278,235561,235763,236142,236305,236651,236989,237290,237500,237828,238159,238011,238275,238499,238720,238833]},\"selected\":{\"id\":\"1075\"},\"selection_policy\":{\"id\":\"1076\"}},\"id\":\"1035\",\"type\":\"ColumnDataSource\"},{\"attributes\":{\"source\":{\"id\":\"1060\"}},\"id\":\"1064\",\"type\":\"CDSView\"},{\"attributes\":{},\"id\":\"1018\",\"type\":\"BasicTicker\"},{\"attributes\":{\"axis\":{\"id\":\"1013\"},\"ticker\":null},\"id\":\"1016\",\"type\":\"Grid\"},{\"attributes\":{},\"id\":\"1025\",\"type\":\"ResetTool\"},{\"attributes\":{},\"id\":\"1076\",\"type\":\"UnionRenderers\"},{\"attributes\":{\"active_drag\":\"auto\",\"active_inspect\":\"auto\",\"active_multi\":null,\"active_scroll\":\"auto\",\"active_tap\":\"auto\",\"tools\":[{\"id\":\"1021\"},{\"id\":\"1022\"},{\"id\":\"1023\"},{\"id\":\"1024\"},{\"id\":\"1025\"},{\"id\":\"1026\"},{\"id\":\"1070\"}]},\"id\":\"1028\",\"type\":\"Toolbar\"},{\"attributes\":{\"label\":{\"value\":\"total cases\"},\"renderers\":[{\"id\":\"1038\"}]},\"id\":\"1059\",\"type\":\"LegendItem\"},{\"attributes\":{},\"id\":\"1078\",\"type\":\"UnionRenderers\"},{\"attributes\":{\"months\":[0,2,4,6,8,10]},\"id\":\"1053\",\"type\":\"MonthsTicker\"},{\"attributes\":{},\"id\":\"1075\",\"type\":\"Selection\"},{\"attributes\":{\"days\":[1,15]},\"id\":\"1051\",\"type\":\"DaysTicker\"},{\"attributes\":{\"line_alpha\":0.1,\"line_color\":\"blue\",\"line_width\":4,\"x\":{\"field\":\"x\"},\"y\":{\"field\":\"y\"}},\"id\":\"1037\",\"type\":\"Line\"},{\"attributes\":{},\"id\":\"1077\",\"type\":\"Selection\"},{\"attributes\":{\"mantissas\":[1,2,5],\"max_interval\":500.0,\"num_minor_ticks\":0},\"id\":\"1045\",\"type\":\"AdaptiveTicker\"},{\"attributes\":{\"days\":[1,4,7,10,13,16,19,22,25,28]},\"id\":\"1049\",\"type\":\"DaysTicker\"},{\"attributes\":{\"data\":{\"x\":{\"__ndarray__\":\"AAAA5UcHd0IAAMBKmgd3QgAAgLDsB3dCAABAFj8Id0IAAAB8kQh3QgAAwOHjCHdCAACARzYJd0IAAECtiAl3QgAAABPbCXdCAADAeC0Kd0IAAIDefwp3QgAAQETSCndCAAAAqiQLd0IAAMAPdwt3QgAAgHXJC3dCAABA2xsMd0IAAABBbgx3QgAAwKbADHdCAACADBMNd0IAAEByZQ13QgAAANi3DXdCAADAPQoOd0IAAICjXA53QgAAQAmvDndCAAAAbwEPd0IAAMDUUw93QgAAgDqmD3dCAABAoPgPd0IAAAAGSxB3QgAAwGudEHdCAACA0e8Qd0IAAEA3QhF3QgAAAJ2UEXdCAADAAucRd0IAAIBoORJ3QgAAQM6LEndCAAAANN4Sd0IAAMCZMBN3QgAAgP+CE3dCAABAZdUTd0IAAADLJxR3QgAAwDB6FHdCAACAlswUd0IAAED8HhV3QgAAAGJxFXdCAADAx8MVd0IAAIAtFhZ3QgAAQJNoFndCAAAA+boWd0IAAMBeDRd3QgAAgMRfF3dCAABAKrIXd0IAAACQBBh3QgAAwPVWGHdCAACAW6kYd0IAAEDB+xh3QgAAACdOGXdCAADAjKAZd0IAAIDy8hl3QgAAQFhFGndCAAAAvpcad0IAAMAj6hp3QgAAgIk8G3dCAABA744bd0IAAABV4Rt3QgAAwLozHHdCAACAIIYcd0IAAECG2Bx3QgAAAOwqHXdCAADAUX0dd0IAAIC3zx13QgAAQB0iHndCAAAAg3Qed0IAAMDoxh53QgAAgE4ZH3dCAABAtGsfd0IAAAAavh93QgAAwH8QIHdCAACA5WIgd0IAAEBLtSB3QgAAALEHIXdCAADAFlohd0IAAIB8rCF3QgAAQOL+IXdCAAAASFEid0IAAMCtoyJ3QgAAgBP2IndCAABAeUgjd0IAAADfmiN3QgAAwETtI3dCAACAqj8kd0IAAEAQkiR3QgAAAHbkJHdCAADA2zYld0IAAIBBiSV3QgAAQKfbJXdCAAAADS4md0IAAMBygCZ3QgAAgNjSJndCAABAPiUnd0IAAACkdyd3QgAAwAnKJ3dCAACAbxwod0IAAEDVbih3QgAAADvBKHdCAADAoBMpd0IAAIAGZil3QgAAQGy4KXdCAAAA0goqd0IAAMA3XSp3QgAAgJ2vKndCAABAAwIrd0IAAABpVCt3QgAAwM6mK3dCAACANPkrd0IAAECaSyx3QgAAAACeLHdCAADAZfAsd0IAAIDLQi13QgAAQDGVLXdCAAAAl+ctd0I=\",\"dtype\":\"float64\",\"shape\":[121]},\"y\":[229,322,400,650,888,1128,1694,2036,2502,3089,3858,4636,5883,7375,9172,10149,12462,15113,17660,21157,24747,27980,31506,35713,41035,47021,53578,59138,63927,69176,74386,80539,86498,92472,97689,101739,105792,110574,115242,119827,124632,128948,132547,135586,139422,143626,147577,152271,156363,159516,162488,165155,168941,172434,175925,178972,181228,183957,187327,189973,192994,195351,197675,199414,201505,203591,205463,207428,209328,210717,211938,213013,214457,215858,217185,218268,219070,219814,221216,222104,223096,223885,224760,225435,225886,226699,227364,228006,228658,229327,229858,230158,230555,231139,231732,232248,232664,233019,233197,233515,233836,234013,234531,234801,234998,235278,235561,235763,236142,236305,236651,236989,237290,237500,237828,238159,238011,238275,238499,238720,238833]},\"selected\":{\"id\":\"1077\"},\"selection_policy\":{\"id\":\"1078\"}},\"id\":\"1060\",\"type\":\"ColumnDataSource\"},{\"attributes\":{\"line_color\":\"blue\",\"line_width\":4,\"x\":{\"field\":\"x\"},\"y\":{\"field\":\"y\"}},\"id\":\"1036\",\"type\":\"Line\"}],\"root_ids\":[\"1002\"]},\"title\":\"Bokeh Application\",\"version\":\"2.0.2\"}};\n",
       "  var render_items = [{\"docid\":\"a7b9fb36-cefd-41f7-8e8a-cf14a09b3398\",\"root_ids\":[\"1002\"],\"roots\":{\"1002\":\"d320b76c-187d-4b0f-ae00-d152078f75b9\"}}];\n",
       "  root.Bokeh.embed.embed_items_notebook(docs_json, render_items);\n",
       "\n",
       "  }\n",
       "  if (root.Bokeh !== undefined) {\n",
       "    embed_document(root);\n",
       "  } else {\n",
       "    var attempts = 0;\n",
       "    var timer = setInterval(function(root) {\n",
       "      if (root.Bokeh !== undefined) {\n",
       "        clearInterval(timer);\n",
       "        embed_document(root);\n",
       "      } else {\n",
       "        attempts++;\n",
       "        if (attempts > 100) {\n",
       "          clearInterval(timer);\n",
       "          console.log(\"Bokeh: ERROR: Unable to run BokehJS code because BokehJS library is missing\");\n",
       "        }\n",
       "      }\n",
       "    }, 10, root)\n",
       "  }\n",
       "})(window);"
      ],
      "application/vnd.bokehjs_exec.v0+json": ""
     },
     "metadata": {
      "application/vnd.bokehjs_exec.v0+json": {
       "id": "1002"
      }
     },
     "output_type": "display_data"
    }
   ],
   "source": [
    "p_total_cases_Italy = bokeh_plot_1_line(x=time_date_new, y=total_cases_italy, \n",
    "                  title='Total Cases: Italy', \n",
    "                  file_name=\"total_cases_Italy.html\", \n",
    "                  x_label='Date', \n",
    "                  y_label='Total Cases', legend='total cases',\n",
    "                  x_label_hover='date', y_label_hover='total cases',\n",
    "                  color='blue', y_minmax=None)\n",
    "\n",
    "show(p_total_cases_Italy)"
   ]
  },
  {
   "cell_type": "code",
   "execution_count": 17,
   "metadata": {},
   "outputs": [
    {
     "data": {
      "text/html": [
       "\n",
       "\n",
       "\n",
       "\n",
       "\n",
       "\n",
       "  <div class=\"bk-root\" id=\"077b9223-794b-4e11-ae9a-1489326ee3e7\" data-root-id=\"1433\"></div>\n"
      ]
     },
     "metadata": {},
     "output_type": "display_data"
    },
    {
     "data": {
      "application/javascript": [
       "(function(root) {\n",
       "  function embed_document(root) {\n",
       "    \n",
       "  var docs_json = {\"06d1363b-1561-421a-91bb-cee8926f0f76\":{\"roots\":{\"references\":[{\"attributes\":{\"below\":[{\"id\":\"1444\"}],\"center\":[{\"id\":\"1447\"},{\"id\":\"1451\"},{\"id\":\"1489\"}],\"left\":[{\"id\":\"1448\"}],\"plot_height\":450,\"renderers\":[{\"id\":\"1469\"},{\"id\":\"1494\"},{\"id\":\"1499\"},{\"id\":\"1527\"}],\"title\":{\"id\":\"1434\"},\"toolbar\":{\"id\":\"1459\"},\"x_range\":{\"id\":\"1436\"},\"x_scale\":{\"id\":\"1440\"},\"y_range\":{\"id\":\"1438\"},\"y_scale\":{\"id\":\"1442\"}},\"id\":\"1433\",\"subtype\":\"Figure\",\"type\":\"Plot\"},{\"attributes\":{\"num_minor_ticks\":5,\"tickers\":[{\"id\":\"1476\"},{\"id\":\"1477\"},{\"id\":\"1478\"},{\"id\":\"1479\"},{\"id\":\"1480\"},{\"id\":\"1481\"},{\"id\":\"1482\"},{\"id\":\"1483\"},{\"id\":\"1484\"},{\"id\":\"1485\"},{\"id\":\"1486\"},{\"id\":\"1487\"}]},\"id\":\"1445\",\"type\":\"DatetimeTicker\"},{\"attributes\":{},\"id\":\"1456\",\"type\":\"ResetTool\"},{\"attributes\":{\"days\":[1,15]},\"id\":\"1482\",\"type\":\"DaysTicker\"},{\"attributes\":{\"text\":\"Total Cases vs Total Positive: Italy\"},\"id\":\"1434\",\"type\":\"Title\"},{\"attributes\":{\"label\":{\"value\":\"total positive\"},\"renderers\":[{\"id\":\"1499\"}]},\"id\":\"1523\",\"type\":\"LegendItem\"},{\"attributes\":{},\"id\":\"1509\",\"type\":\"UnionRenderers\"},{\"attributes\":{},\"id\":\"1449\",\"type\":\"BasicTicker\"},{\"attributes\":{},\"id\":\"1457\",\"type\":\"HelpTool\"},{\"attributes\":{\"data_source\":{\"id\":\"1466\"},\"glyph\":{\"id\":\"1467\"},\"hover_glyph\":null,\"muted_glyph\":null,\"nonselection_glyph\":{\"id\":\"1468\"},\"selection_glyph\":null,\"view\":{\"id\":\"1470\"}},\"id\":\"1469\",\"type\":\"GlyphRenderer\"},{\"attributes\":{\"data_source\":{\"id\":\"1496\"},\"glyph\":{\"id\":\"1497\"},\"hover_glyph\":null,\"muted_glyph\":null,\"nonselection_glyph\":{\"id\":\"1498\"},\"selection_glyph\":null,\"view\":{\"id\":\"1500\"}},\"id\":\"1499\",\"type\":\"GlyphRenderer\"},{\"attributes\":{\"fill_color\":{\"value\":\"white\"},\"line_color\":{\"value\":\"blue\"},\"size\":{\"units\":\"screen\",\"value\":6},\"x\":{\"field\":\"x\"},\"y\":{\"field\":\"y\"}},\"id\":\"1492\",\"type\":\"Circle\"},{\"attributes\":{},\"id\":\"1508\",\"type\":\"Selection\"},{\"attributes\":{\"base\":24,\"mantissas\":[1,2,4,6,8,12],\"max_interval\":43200000.0,\"min_interval\":3600000.0,\"num_minor_ticks\":0},\"id\":\"1478\",\"type\":\"AdaptiveTicker\"},{\"attributes\":{\"bottom_units\":\"screen\",\"fill_alpha\":0.5,\"fill_color\":\"lightgrey\",\"left_units\":\"screen\",\"level\":\"overlay\",\"line_alpha\":1.0,\"line_color\":\"black\",\"line_dash\":[4,4],\"line_width\":2,\"render_mode\":\"css\",\"right_units\":\"screen\",\"top_units\":\"screen\"},\"id\":\"1458\",\"type\":\"BoxAnnotation\"},{\"attributes\":{\"axis_label\":\"Date\",\"formatter\":{\"id\":\"1529\"},\"major_label_orientation\":0.7853981633974483,\"minor_tick_in\":-5,\"minor_tick_out\":-3,\"ticker\":{\"id\":\"1445\"}},\"id\":\"1444\",\"type\":\"DatetimeAxis\"},{\"attributes\":{\"line_color\":\"blue\",\"line_width\":4,\"x\":{\"field\":\"x\"},\"y\":{\"field\":\"y\"}},\"id\":\"1467\",\"type\":\"Line\"},{\"attributes\":{\"fill_alpha\":{\"value\":0.1},\"fill_color\":{\"value\":\"white\"},\"line_alpha\":{\"value\":0.1},\"line_color\":{\"value\":\"firebrick\"},\"size\":{\"units\":\"screen\",\"value\":6},\"x\":{\"field\":\"x\"},\"y\":{\"field\":\"y\"}},\"id\":\"1526\",\"type\":\"Circle\"},{\"attributes\":{},\"id\":\"1453\",\"type\":\"WheelZoomTool\"},{\"attributes\":{},\"id\":\"1533\",\"type\":\"NumeralTickFormatter\"},{\"attributes\":{},\"id\":\"1507\",\"type\":\"UnionRenderers\"},{\"attributes\":{\"data_source\":{\"id\":\"1524\"},\"glyph\":{\"id\":\"1525\"},\"hover_glyph\":null,\"muted_glyph\":null,\"nonselection_glyph\":{\"id\":\"1526\"},\"selection_glyph\":null,\"view\":{\"id\":\"1528\"}},\"id\":\"1527\",\"type\":\"GlyphRenderer\"},{\"attributes\":{},\"id\":\"1436\",\"type\":\"DataRange1d\"},{\"attributes\":{\"mantissas\":[1,2,5],\"max_interval\":500.0,\"num_minor_ticks\":0},\"id\":\"1476\",\"type\":\"AdaptiveTicker\"},{\"attributes\":{\"fill_color\":{\"value\":\"white\"},\"line_color\":{\"value\":\"firebrick\"},\"size\":{\"units\":\"screen\",\"value\":6},\"x\":{\"field\":\"x\"},\"y\":{\"field\":\"y\"}},\"id\":\"1525\",\"type\":\"Circle\"},{\"attributes\":{},\"id\":\"1452\",\"type\":\"PanTool\"},{\"attributes\":{},\"id\":\"1563\",\"type\":\"Selection\"},{\"attributes\":{\"days\":[1,4,7,10,13,16,19,22,25,28]},\"id\":\"1480\",\"type\":\"DaysTicker\"},{\"attributes\":{\"data\":{\"x\":{\"__ndarray__\":\"AAAA5UcHd0IAAMBKmgd3QgAAgLDsB3dCAABAFj8Id0IAAAB8kQh3QgAAwOHjCHdCAACARzYJd0IAAECtiAl3QgAAABPbCXdCAADAeC0Kd0IAAIDefwp3QgAAQETSCndCAAAAqiQLd0IAAMAPdwt3QgAAgHXJC3dCAABA2xsMd0IAAABBbgx3QgAAwKbADHdCAACADBMNd0IAAEByZQ13QgAAANi3DXdCAADAPQoOd0IAAICjXA53QgAAQAmvDndCAAAAbwEPd0IAAMDUUw93QgAAgDqmD3dCAABAoPgPd0IAAAAGSxB3QgAAwGudEHdCAACA0e8Qd0IAAEA3QhF3QgAAAJ2UEXdCAADAAucRd0IAAIBoORJ3QgAAQM6LEndCAAAANN4Sd0IAAMCZMBN3QgAAgP+CE3dCAABAZdUTd0IAAADLJxR3QgAAwDB6FHdCAACAlswUd0IAAED8HhV3QgAAAGJxFXdCAADAx8MVd0IAAIAtFhZ3QgAAQJNoFndCAAAA+boWd0IAAMBeDRd3QgAAgMRfF3dCAABAKrIXd0IAAACQBBh3QgAAwPVWGHdCAACAW6kYd0IAAEDB+xh3QgAAACdOGXdCAADAjKAZd0IAAIDy8hl3QgAAQFhFGndCAAAAvpcad0IAAMAj6hp3QgAAgIk8G3dCAABA744bd0IAAABV4Rt3QgAAwLozHHdCAACAIIYcd0IAAECG2Bx3QgAAAOwqHXdCAADAUX0dd0IAAIC3zx13QgAAQB0iHndCAAAAg3Qed0IAAMDoxh53QgAAgE4ZH3dCAABAtGsfd0IAAAAavh93QgAAwH8QIHdCAACA5WIgd0IAAEBLtSB3QgAAALEHIXdCAADAFlohd0IAAIB8rCF3QgAAQOL+IXdCAAAASFEid0IAAMCtoyJ3QgAAgBP2IndCAABAeUgjd0IAAADfmiN3QgAAwETtI3dCAACAqj8kd0IAAEAQkiR3QgAAAHbkJHdCAADA2zYld0IAAIBBiSV3QgAAQKfbJXdCAAAADS4md0IAAMBygCZ3QgAAgNjSJndCAABAPiUnd0IAAACkdyd3QgAAwAnKJ3dCAACAbxwod0IAAEDVbih3QgAAADvBKHdCAADAoBMpd0IAAIAGZil3QgAAQGy4KXdCAAAA0goqd0IAAMA3XSp3QgAAgJ2vKndCAABAAwIrd0IAAABpVCt3QgAAwM6mK3dCAACANPkrd0IAAECaSyx3QgAAAACeLHdCAADAZfAsd0IAAIDLQi13QgAAQDGVLXdCAAAAl+ctd0I=\",\"dtype\":\"float64\",\"shape\":[121]},\"y\":[229,322,400,650,888,1128,1694,2036,2502,3089,3858,4636,5883,7375,9172,10149,12462,15113,17660,21157,24747,27980,31506,35713,41035,47021,53578,59138,63927,69176,74386,80539,86498,92472,97689,101739,105792,110574,115242,119827,124632,128948,132547,135586,139422,143626,147577,152271,156363,159516,162488,165155,168941,172434,175925,178972,181228,183957,187327,189973,192994,195351,197675,199414,201505,203591,205463,207428,209328,210717,211938,213013,214457,215858,217185,218268,219070,219814,221216,222104,223096,223885,224760,225435,225886,226699,227364,228006,228658,229327,229858,230158,230555,231139,231732,232248,232664,233019,233197,233515,233836,234013,234531,234801,234998,235278,235561,235763,236142,236305,236651,236989,237290,237500,237828,238159,238011,238275,238499,238720,238833]},\"selected\":{\"id\":\"1506\"},\"selection_policy\":{\"id\":\"1507\"}},\"id\":\"1466\",\"type\":\"ColumnDataSource\"},{\"attributes\":{\"overlay\":{\"id\":\"1458\"}},\"id\":\"1454\",\"type\":\"BoxZoomTool\"},{\"attributes\":{\"label\":{\"value\":\"total cases\"},\"renderers\":[{\"id\":\"1469\"}]},\"id\":\"1490\",\"type\":\"LegendItem\"},{\"attributes\":{},\"id\":\"1566\",\"type\":\"UnionRenderers\"},{\"attributes\":{\"data\":{\"x\":{\"__ndarray__\":\"AAAA5UcHd0IAAMBKmgd3QgAAgLDsB3dCAABAFj8Id0IAAAB8kQh3QgAAwOHjCHdCAACARzYJd0IAAECtiAl3QgAAABPbCXdCAADAeC0Kd0IAAIDefwp3QgAAQETSCndCAAAAqiQLd0IAAMAPdwt3QgAAgHXJC3dCAABA2xsMd0IAAABBbgx3QgAAwKbADHdCAACADBMNd0IAAEByZQ13QgAAANi3DXdCAADAPQoOd0IAAICjXA53QgAAQAmvDndCAAAAbwEPd0IAAMDUUw93QgAAgDqmD3dCAABAoPgPd0IAAAAGSxB3QgAAwGudEHdCAACA0e8Qd0IAAEA3QhF3QgAAAJ2UEXdCAADAAucRd0IAAIBoORJ3QgAAQM6LEndCAAAANN4Sd0IAAMCZMBN3QgAAgP+CE3dCAABAZdUTd0IAAADLJxR3QgAAwDB6FHdCAACAlswUd0IAAED8HhV3QgAAAGJxFXdCAADAx8MVd0IAAIAtFhZ3QgAAQJNoFndCAAAA+boWd0IAAMBeDRd3QgAAgMRfF3dCAABAKrIXd0IAAACQBBh3QgAAwPVWGHdCAACAW6kYd0IAAEDB+xh3QgAAACdOGXdCAADAjKAZd0IAAIDy8hl3QgAAQFhFGndCAAAAvpcad0IAAMAj6hp3QgAAgIk8G3dCAABA744bd0IAAABV4Rt3QgAAwLozHHdCAACAIIYcd0IAAECG2Bx3QgAAAOwqHXdCAADAUX0dd0IAAIC3zx13QgAAQB0iHndCAAAAg3Qed0IAAMDoxh53QgAAgE4ZH3dCAABAtGsfd0IAAAAavh93QgAAwH8QIHdCAACA5WIgd0IAAEBLtSB3QgAAALEHIXdCAADAFlohd0IAAIB8rCF3QgAAQOL+IXdCAAAASFEid0IAAMCtoyJ3QgAAgBP2IndCAABAeUgjd0IAAADfmiN3QgAAwETtI3dCAACAqj8kd0IAAEAQkiR3QgAAAHbkJHdCAADA2zYld0IAAIBBiSV3QgAAQKfbJXdCAAAADS4md0IAAMBygCZ3QgAAgNjSJndCAABAPiUnd0IAAACkdyd3QgAAwAnKJ3dCAACAbxwod0IAAEDVbih3QgAAADvBKHdCAADAoBMpd0IAAIAGZil3QgAAQGy4KXdCAAAA0goqd0IAAMA3XSp3QgAAgJ2vKndCAABAAwIrd0IAAABpVCt3QgAAwM6mK3dCAACANPkrd0IAAECaSyx3QgAAAACeLHdCAADAZfAsd0IAAIDLQi13QgAAQDGVLXdCAAAAl+ctd0I=\",\"dtype\":\"float64\",\"shape\":[121]},\"y\":[221,311,385,588,821,1049,1577,1835,2263,2706,3296,3916,5061,6387,7985,8514,10590,12839,14955,17750,20603,23073,26062,28710,33190,37860,42681,46638,50418,54030,57521,62013,66414,70065,73880,75528,77635,80572,83049,85388,88274,91246,93187,94067,95262,96877,98273,100269,102253,103616,104291,105418,106607,106962,107771,108257,108237,107709,107699,106848,106527,105847,106103,105813,105205,104657,101551,100943,100704,100179,99980,98467,91528,89624,87961,84842,83324,82488,81266,78457,76440,72070,70187,68351,66553,65129,62752,60960,59322,57752,56594,55300,52942,50966,47986,46175,43691,42097,41367,39893,39297,38429,36976,35877,35262,34730,32872,31710,30637,28997,27485,26274,25909,24569,23925,23101,21543,21212,20972,20637,19573]},\"selected\":{\"id\":\"1563\"},\"selection_policy\":{\"id\":\"1564\"}},\"id\":\"1496\",\"type\":\"ColumnDataSource\"},{\"attributes\":{\"fill_alpha\":{\"value\":0.1},\"fill_color\":{\"value\":\"white\"},\"line_alpha\":{\"value\":0.1},\"line_color\":{\"value\":\"blue\"},\"size\":{\"units\":\"screen\",\"value\":6},\"x\":{\"field\":\"x\"},\"y\":{\"field\":\"y\"}},\"id\":\"1493\",\"type\":\"Circle\"},{\"attributes\":{\"base\":60,\"mantissas\":[1,2,5,10,15,20,30],\"max_interval\":1800000.0,\"min_interval\":1000.0,\"num_minor_ticks\":0},\"id\":\"1477\",\"type\":\"AdaptiveTicker\"},{\"attributes\":{\"source\":{\"id\":\"1524\"}},\"id\":\"1528\",\"type\":\"CDSView\"},{\"attributes\":{},\"id\":\"1455\",\"type\":\"SaveTool\"},{\"attributes\":{},\"id\":\"1564\",\"type\":\"UnionRenderers\"},{\"attributes\":{\"axis_label\":\"Total Cases & Total Positive\",\"formatter\":{\"id\":\"1533\"},\"minor_tick_in\":-5,\"minor_tick_out\":-3,\"ticker\":{\"id\":\"1449\"}},\"id\":\"1448\",\"type\":\"LinearAxis\"},{\"attributes\":{\"line_alpha\":0.1,\"line_color\":\"firebrick\",\"line_width\":4,\"x\":{\"field\":\"x\"},\"y\":{\"field\":\"y\"}},\"id\":\"1498\",\"type\":\"Line\"},{\"attributes\":{\"axis\":{\"id\":\"1448\"},\"dimension\":1,\"ticker\":null},\"id\":\"1451\",\"type\":\"Grid\"},{\"attributes\":{\"data\":{\"x\":{\"__ndarray__\":\"AAAA5UcHd0IAAMBKmgd3QgAAgLDsB3dCAABAFj8Id0IAAAB8kQh3QgAAwOHjCHdCAACARzYJd0IAAECtiAl3QgAAABPbCXdCAADAeC0Kd0IAAIDefwp3QgAAQETSCndCAAAAqiQLd0IAAMAPdwt3QgAAgHXJC3dCAABA2xsMd0IAAABBbgx3QgAAwKbADHdCAACADBMNd0IAAEByZQ13QgAAANi3DXdCAADAPQoOd0IAAICjXA53QgAAQAmvDndCAAAAbwEPd0IAAMDUUw93QgAAgDqmD3dCAABAoPgPd0IAAAAGSxB3QgAAwGudEHdCAACA0e8Qd0IAAEA3QhF3QgAAAJ2UEXdCAADAAucRd0IAAIBoORJ3QgAAQM6LEndCAAAANN4Sd0IAAMCZMBN3QgAAgP+CE3dCAABAZdUTd0IAAADLJxR3QgAAwDB6FHdCAACAlswUd0IAAED8HhV3QgAAAGJxFXdCAADAx8MVd0IAAIAtFhZ3QgAAQJNoFndCAAAA+boWd0IAAMBeDRd3QgAAgMRfF3dCAABAKrIXd0IAAACQBBh3QgAAwPVWGHdCAACAW6kYd0IAAEDB+xh3QgAAACdOGXdCAADAjKAZd0IAAIDy8hl3QgAAQFhFGndCAAAAvpcad0IAAMAj6hp3QgAAgIk8G3dCAABA744bd0IAAABV4Rt3QgAAwLozHHdCAACAIIYcd0IAAECG2Bx3QgAAAOwqHXdCAADAUX0dd0IAAIC3zx13QgAAQB0iHndCAAAAg3Qed0IAAMDoxh53QgAAgE4ZH3dCAABAtGsfd0IAAAAavh93QgAAwH8QIHdCAACA5WIgd0IAAEBLtSB3QgAAALEHIXdCAADAFlohd0IAAIB8rCF3QgAAQOL+IXdCAAAASFEid0IAAMCtoyJ3QgAAgBP2IndCAABAeUgjd0IAAADfmiN3QgAAwETtI3dCAACAqj8kd0IAAEAQkiR3QgAAAHbkJHdCAADA2zYld0IAAIBBiSV3QgAAQKfbJXdCAAAADS4md0IAAMBygCZ3QgAAgNjSJndCAABAPiUnd0IAAACkdyd3QgAAwAnKJ3dCAACAbxwod0IAAEDVbih3QgAAADvBKHdCAADAoBMpd0IAAIAGZil3QgAAQGy4KXdCAAAA0goqd0IAAMA3XSp3QgAAgJ2vKndCAABAAwIrd0IAAABpVCt3QgAAwM6mK3dCAACANPkrd0IAAECaSyx3QgAAAACeLHdCAADAZfAsd0IAAIDLQi13QgAAQDGVLXdCAAAAl+ctd0I=\",\"dtype\":\"float64\",\"shape\":[121]},\"y\":[221,311,385,588,821,1049,1577,1835,2263,2706,3296,3916,5061,6387,7985,8514,10590,12839,14955,17750,20603,23073,26062,28710,33190,37860,42681,46638,50418,54030,57521,62013,66414,70065,73880,75528,77635,80572,83049,85388,88274,91246,93187,94067,95262,96877,98273,100269,102253,103616,104291,105418,106607,106962,107771,108257,108237,107709,107699,106848,106527,105847,106103,105813,105205,104657,101551,100943,100704,100179,99980,98467,91528,89624,87961,84842,83324,82488,81266,78457,76440,72070,70187,68351,66553,65129,62752,60960,59322,57752,56594,55300,52942,50966,47986,46175,43691,42097,41367,39893,39297,38429,36976,35877,35262,34730,32872,31710,30637,28997,27485,26274,25909,24569,23925,23101,21543,21212,20972,20637,19573]},\"selected\":{\"id\":\"1565\"},\"selection_policy\":{\"id\":\"1566\"}},\"id\":\"1524\",\"type\":\"ColumnDataSource\"},{\"attributes\":{},\"id\":\"1442\",\"type\":\"LinearScale\"},{\"attributes\":{\"data\":{\"x\":{\"__ndarray__\":\"AAAA5UcHd0IAAMBKmgd3QgAAgLDsB3dCAABAFj8Id0IAAAB8kQh3QgAAwOHjCHdCAACARzYJd0IAAECtiAl3QgAAABPbCXdCAADAeC0Kd0IAAIDefwp3QgAAQETSCndCAAAAqiQLd0IAAMAPdwt3QgAAgHXJC3dCAABA2xsMd0IAAABBbgx3QgAAwKbADHdCAACADBMNd0IAAEByZQ13QgAAANi3DXdCAADAPQoOd0IAAICjXA53QgAAQAmvDndCAAAAbwEPd0IAAMDUUw93QgAAgDqmD3dCAABAoPgPd0IAAAAGSxB3QgAAwGudEHdCAACA0e8Qd0IAAEA3QhF3QgAAAJ2UEXdCAADAAucRd0IAAIBoORJ3QgAAQM6LEndCAAAANN4Sd0IAAMCZMBN3QgAAgP+CE3dCAABAZdUTd0IAAADLJxR3QgAAwDB6FHdCAACAlswUd0IAAED8HhV3QgAAAGJxFXdCAADAx8MVd0IAAIAtFhZ3QgAAQJNoFndCAAAA+boWd0IAAMBeDRd3QgAAgMRfF3dCAABAKrIXd0IAAACQBBh3QgAAwPVWGHdCAACAW6kYd0IAAEDB+xh3QgAAACdOGXdCAADAjKAZd0IAAIDy8hl3QgAAQFhFGndCAAAAvpcad0IAAMAj6hp3QgAAgIk8G3dCAABA744bd0IAAABV4Rt3QgAAwLozHHdCAACAIIYcd0IAAECG2Bx3QgAAAOwqHXdCAADAUX0dd0IAAIC3zx13QgAAQB0iHndCAAAAg3Qed0IAAMDoxh53QgAAgE4ZH3dCAABAtGsfd0IAAAAavh93QgAAwH8QIHdCAACA5WIgd0IAAEBLtSB3QgAAALEHIXdCAADAFlohd0IAAIB8rCF3QgAAQOL+IXdCAAAASFEid0IAAMCtoyJ3QgAAgBP2IndCAABAeUgjd0IAAADfmiN3QgAAwETtI3dCAACAqj8kd0IAAEAQkiR3QgAAAHbkJHdCAADA2zYld0IAAIBBiSV3QgAAQKfbJXdCAAAADS4md0IAAMBygCZ3QgAAgNjSJndCAABAPiUnd0IAAACkdyd3QgAAwAnKJ3dCAACAbxwod0IAAEDVbih3QgAAADvBKHdCAADAoBMpd0IAAIAGZil3QgAAQGy4KXdCAAAA0goqd0IAAMA3XSp3QgAAgJ2vKndCAABAAwIrd0IAAABpVCt3QgAAwM6mK3dCAACANPkrd0IAAECaSyx3QgAAAACeLHdCAADAZfAsd0IAAIDLQi13QgAAQDGVLXdCAAAAl+ctd0I=\",\"dtype\":\"float64\",\"shape\":[121]},\"y\":[229,322,400,650,888,1128,1694,2036,2502,3089,3858,4636,5883,7375,9172,10149,12462,15113,17660,21157,24747,27980,31506,35713,41035,47021,53578,59138,63927,69176,74386,80539,86498,92472,97689,101739,105792,110574,115242,119827,124632,128948,132547,135586,139422,143626,147577,152271,156363,159516,162488,165155,168941,172434,175925,178972,181228,183957,187327,189973,192994,195351,197675,199414,201505,203591,205463,207428,209328,210717,211938,213013,214457,215858,217185,218268,219070,219814,221216,222104,223096,223885,224760,225435,225886,226699,227364,228006,228658,229327,229858,230158,230555,231139,231732,232248,232664,233019,233197,233515,233836,234013,234531,234801,234998,235278,235561,235763,236142,236305,236651,236989,237290,237500,237828,238159,238011,238275,238499,238720,238833]},\"selected\":{\"id\":\"1508\"},\"selection_policy\":{\"id\":\"1509\"}},\"id\":\"1491\",\"type\":\"ColumnDataSource\"},{\"attributes\":{\"active_drag\":\"auto\",\"active_inspect\":\"auto\",\"active_multi\":null,\"active_scroll\":\"auto\",\"active_tap\":\"auto\",\"tools\":[{\"id\":\"1452\"},{\"id\":\"1453\"},{\"id\":\"1454\"},{\"id\":\"1455\"},{\"id\":\"1456\"},{\"id\":\"1457\"},{\"id\":\"1534\"}]},\"id\":\"1459\",\"type\":\"Toolbar\"},{\"attributes\":{\"line_alpha\":0.1,\"line_color\":\"blue\",\"line_width\":4,\"x\":{\"field\":\"x\"},\"y\":{\"field\":\"y\"}},\"id\":\"1468\",\"type\":\"Line\"},{\"attributes\":{},\"id\":\"1440\",\"type\":\"LinearScale\"},{\"attributes\":{},\"id\":\"1506\",\"type\":\"Selection\"},{\"attributes\":{\"data_source\":{\"id\":\"1491\"},\"glyph\":{\"id\":\"1492\"},\"hover_glyph\":null,\"muted_glyph\":null,\"nonselection_glyph\":{\"id\":\"1493\"},\"selection_glyph\":null,\"view\":{\"id\":\"1495\"}},\"id\":\"1494\",\"type\":\"GlyphRenderer\"},{\"attributes\":{\"line_color\":\"firebrick\",\"line_width\":4,\"x\":{\"field\":\"x\"},\"y\":{\"field\":\"y\"}},\"id\":\"1497\",\"type\":\"Line\"},{\"attributes\":{},\"id\":\"1487\",\"type\":\"YearsTicker\"},{\"attributes\":{\"source\":{\"id\":\"1491\"}},\"id\":\"1495\",\"type\":\"CDSView\"},{\"attributes\":{\"source\":{\"id\":\"1466\"}},\"id\":\"1470\",\"type\":\"CDSView\"},{\"attributes\":{},\"id\":\"1438\",\"type\":\"DataRange1d\"},{\"attributes\":{\"items\":[{\"id\":\"1490\"},{\"id\":\"1523\"}],\"location\":\"top_left\"},\"id\":\"1489\",\"type\":\"Legend\"},{\"attributes\":{\"callback\":null,\"formatters\":{\"@x\":\"datetime\"},\"mode\":\"vline\",\"tooltips\":[[\"date\",\"@x{%d %B}\"],[\"total cases OR positive\",\"@y{0.}\"]]},\"id\":\"1534\",\"type\":\"HoverTool\"},{\"attributes\":{\"days\":[1,8,15,22]},\"id\":\"1481\",\"type\":\"DaysTicker\"},{\"attributes\":{\"months\":[0,2,4,6,8,10]},\"id\":\"1484\",\"type\":\"MonthsTicker\"},{\"attributes\":{\"months\":[0,4,8]},\"id\":\"1485\",\"type\":\"MonthsTicker\"},{\"attributes\":{\"months\":[0,6]},\"id\":\"1486\",\"type\":\"MonthsTicker\"},{\"attributes\":{\"days\":[\"%d %B\"]},\"id\":\"1529\",\"type\":\"DatetimeTickFormatter\"},{\"attributes\":{\"months\":[0,1,2,3,4,5,6,7,8,9,10,11]},\"id\":\"1483\",\"type\":\"MonthsTicker\"},{\"attributes\":{},\"id\":\"1565\",\"type\":\"Selection\"},{\"attributes\":{\"days\":[1,2,3,4,5,6,7,8,9,10,11,12,13,14,15,16,17,18,19,20,21,22,23,24,25,26,27,28,29,30,31]},\"id\":\"1479\",\"type\":\"DaysTicker\"},{\"attributes\":{\"source\":{\"id\":\"1496\"}},\"id\":\"1500\",\"type\":\"CDSView\"},{\"attributes\":{\"axis\":{\"id\":\"1444\"},\"ticker\":null},\"id\":\"1447\",\"type\":\"Grid\"}],\"root_ids\":[\"1433\"]},\"title\":\"Bokeh Application\",\"version\":\"2.0.2\"}};\n",
       "  var render_items = [{\"docid\":\"06d1363b-1561-421a-91bb-cee8926f0f76\",\"root_ids\":[\"1433\"],\"roots\":{\"1433\":\"077b9223-794b-4e11-ae9a-1489326ee3e7\"}}];\n",
       "  root.Bokeh.embed.embed_items_notebook(docs_json, render_items);\n",
       "\n",
       "  }\n",
       "  if (root.Bokeh !== undefined) {\n",
       "    embed_document(root);\n",
       "  } else {\n",
       "    var attempts = 0;\n",
       "    var timer = setInterval(function(root) {\n",
       "      if (root.Bokeh !== undefined) {\n",
       "        clearInterval(timer);\n",
       "        embed_document(root);\n",
       "      } else {\n",
       "        attempts++;\n",
       "        if (attempts > 100) {\n",
       "          clearInterval(timer);\n",
       "          console.log(\"Bokeh: ERROR: Unable to run BokehJS code because BokehJS library is missing\");\n",
       "        }\n",
       "      }\n",
       "    }, 10, root)\n",
       "  }\n",
       "})(window);"
      ],
      "application/vnd.bokehjs_exec.v0+json": ""
     },
     "metadata": {
      "application/vnd.bokehjs_exec.v0+json": {
       "id": "1433"
      }
     },
     "output_type": "display_data"
    }
   ],
   "source": [
    "p_total_cases_positive_Italy = bokeh_plot_2_lines(x=time_date_new, y=total_cases_italy, yy=total_positive_italy, \n",
    "                  title='Total Cases vs Total Positive: Italy', \n",
    "                  file_name=\"total_cases_positive_Italy.html\", \n",
    "                  x_label='Date', y_label='Total Cases & Total Positive', \n",
    "                  legend_1='total cases', legend_2='total positive',\n",
    "                  x_label_hover='date' , y_label_hover='total cases OR positive' , \n",
    "                  color_1='blue', color_2='firebrick', y_minmax=None)\n",
    "\n",
    "show(p_total_cases_positive_Italy)"
   ]
  },
  {
   "cell_type": "code",
   "execution_count": 18,
   "metadata": {},
   "outputs": [
    {
     "data": {
      "text/html": [
       "\n",
       "\n",
       "\n",
       "\n",
       "\n",
       "\n",
       "  <div class=\"bk-root\" id=\"4fde6009-5fb5-41da-97c2-c5eccc3523c1\" data-root-id=\"2037\"></div>\n"
      ]
     },
     "metadata": {},
     "output_type": "display_data"
    },
    {
     "data": {
      "application/javascript": [
       "(function(root) {\n",
       "  function embed_document(root) {\n",
       "    \n",
       "  var docs_json = {\"5f7b160c-3b76-409e-80da-8129c52f7b03\":{\"roots\":{\"references\":[{\"attributes\":{\"below\":[{\"id\":\"2048\"}],\"center\":[{\"id\":\"2051\"},{\"id\":\"2055\"},{\"id\":\"2093\"}],\"left\":[{\"id\":\"2052\"}],\"plot_height\":450,\"renderers\":[{\"id\":\"2073\"},{\"id\":\"2098\"},{\"id\":\"2103\"},{\"id\":\"2131\"}],\"title\":{\"id\":\"2038\"},\"toolbar\":{\"id\":\"2063\"},\"x_range\":{\"id\":\"2040\"},\"x_scale\":{\"id\":\"2044\"},\"y_range\":{\"id\":\"2042\"},\"y_scale\":{\"id\":\"2046\"}},\"id\":\"2037\",\"subtype\":\"Figure\",\"type\":\"Plot\"},{\"attributes\":{\"data\":{\"x\":{\"__ndarray__\":\"AAAA5UcHd0IAAMBKmgd3QgAAgLDsB3dCAABAFj8Id0IAAAB8kQh3QgAAwOHjCHdCAACARzYJd0IAAECtiAl3QgAAABPbCXdCAADAeC0Kd0IAAIDefwp3QgAAQETSCndCAAAAqiQLd0IAAMAPdwt3QgAAgHXJC3dCAABA2xsMd0IAAABBbgx3QgAAwKbADHdCAACADBMNd0IAAEByZQ13QgAAANi3DXdCAADAPQoOd0IAAICjXA53QgAAQAmvDndCAAAAbwEPd0IAAMDUUw93QgAAgDqmD3dCAABAoPgPd0IAAAAGSxB3QgAAwGudEHdCAACA0e8Qd0IAAEA3QhF3QgAAAJ2UEXdCAADAAucRd0IAAIBoORJ3QgAAQM6LEndCAAAANN4Sd0IAAMCZMBN3QgAAgP+CE3dCAABAZdUTd0IAAADLJxR3QgAAwDB6FHdCAACAlswUd0IAAED8HhV3QgAAAGJxFXdCAADAx8MVd0IAAIAtFhZ3QgAAQJNoFndCAAAA+boWd0IAAMBeDRd3QgAAgMRfF3dCAABAKrIXd0IAAACQBBh3QgAAwPVWGHdCAACAW6kYd0IAAEDB+xh3QgAAACdOGXdCAADAjKAZd0IAAIDy8hl3QgAAQFhFGndCAAAAvpcad0IAAMAj6hp3QgAAgIk8G3dCAABA744bd0IAAABV4Rt3QgAAwLozHHdCAACAIIYcd0IAAECG2Bx3QgAAAOwqHXdCAADAUX0dd0IAAIC3zx13QgAAQB0iHndCAAAAg3Qed0IAAMDoxh53QgAAgE4ZH3dCAABAtGsfd0IAAAAavh93QgAAwH8QIHdCAACA5WIgd0IAAEBLtSB3QgAAALEHIXdCAADAFlohd0IAAIB8rCF3QgAAQOL+IXdCAAAASFEid0IAAMCtoyJ3QgAAgBP2IndCAABAeUgjd0IAAADfmiN3QgAAwETtI3dCAACAqj8kd0IAAEAQkiR3QgAAAHbkJHdCAADA2zYld0IAAIBBiSV3QgAAQKfbJXdCAAAADS4md0IAAMBygCZ3QgAAgNjSJndCAABAPiUnd0IAAACkdyd3QgAAwAnKJ3dCAACAbxwod0IAAEDVbih3QgAAADvBKHdCAADAoBMpd0IAAIAGZil3QgAAQGy4KXdCAAAA0goqd0IAAMA3XSp3QgAAgJ2vKndCAABAAwIrd0IAAABpVCt3QgAAwM6mK3dCAACANPkrd0IAAECaSyx3QgAAAACeLHdCAADAZfAsd0IAAIDLQi13QgAAQDGVLXdCAAAAl+ctd0I=\",\"dtype\":\"float64\",\"shape\":[121]},\"y\":[229,322,400,650,888,1128,1694,2036,2502,3089,3858,4636,5883,7375,9172,10149,12462,15113,17660,21157,24747,27980,31506,35713,41035,47021,53578,59138,63927,69176,74386,80539,86498,92472,97689,101739,105792,110574,115242,119827,124632,128948,132547,135586,139422,143626,147577,152271,156363,159516,162488,165155,168941,172434,175925,178972,181228,183957,187327,189973,192994,195351,197675,199414,201505,203591,205463,207428,209328,210717,211938,213013,214457,215858,217185,218268,219070,219814,221216,222104,223096,223885,224760,225435,225886,226699,227364,228006,228658,229327,229858,230158,230555,231139,231732,232248,232664,233019,233197,233515,233836,234013,234531,234801,234998,235278,235561,235763,236142,236305,236651,236989,237290,237500,237828,238159,238011,238275,238499,238720,238833]},\"selected\":{\"id\":\"2110\"},\"selection_policy\":{\"id\":\"2111\"}},\"id\":\"2070\",\"type\":\"ColumnDataSource\"},{\"attributes\":{\"use_scientific\":false},\"id\":\"2135\",\"type\":\"BasicTickFormatter\"},{\"attributes\":{\"label\":{\"value\":\"total positive\"},\"renderers\":[{\"id\":\"2103\"}]},\"id\":\"2127\",\"type\":\"LegendItem\"},{\"attributes\":{\"source\":{\"id\":\"2100\"}},\"id\":\"2104\",\"type\":\"CDSView\"},{\"attributes\":{\"source\":{\"id\":\"2128\"}},\"id\":\"2132\",\"type\":\"CDSView\"},{\"attributes\":{\"line_alpha\":0.1,\"line_color\":\"blue\",\"line_width\":4,\"x\":{\"field\":\"x\"},\"y\":{\"field\":\"y\"}},\"id\":\"2072\",\"type\":\"Line\"},{\"attributes\":{\"days\":[\"%d %B\"]},\"id\":\"2133\",\"type\":\"DatetimeTickFormatter\"},{\"attributes\":{},\"id\":\"2111\",\"type\":\"UnionRenderers\"},{\"attributes\":{\"axis_label\":\"Date\",\"formatter\":{\"id\":\"2133\"},\"major_label_orientation\":0.7853981633974483,\"minor_tick_in\":-5,\"minor_tick_out\":-3,\"ticker\":{\"id\":\"2049\"}},\"id\":\"2048\",\"type\":\"DatetimeAxis\"},{\"attributes\":{\"base\":24,\"mantissas\":[1,2,4,6,8,12],\"max_interval\":43200000.0,\"min_interval\":3600000.0,\"num_minor_ticks\":0},\"id\":\"2082\",\"type\":\"AdaptiveTicker\"},{\"attributes\":{\"data_source\":{\"id\":\"2070\"},\"glyph\":{\"id\":\"2071\"},\"hover_glyph\":null,\"muted_glyph\":null,\"nonselection_glyph\":{\"id\":\"2072\"},\"selection_glyph\":null,\"view\":{\"id\":\"2074\"}},\"id\":\"2073\",\"type\":\"GlyphRenderer\"},{\"attributes\":{\"source\":{\"id\":\"2070\"}},\"id\":\"2074\",\"type\":\"CDSView\"},{\"attributes\":{\"fill_alpha\":{\"value\":0.1},\"fill_color\":{\"value\":\"white\"},\"line_alpha\":{\"value\":0.1},\"line_color\":{\"value\":\"blue\"},\"size\":{\"units\":\"screen\",\"value\":5},\"x\":{\"field\":\"x\"},\"y\":{\"field\":\"y\"}},\"id\":\"2097\",\"type\":\"Circle\"},{\"attributes\":{\"line_alpha\":0.1,\"line_color\":\"red\",\"line_width\":4,\"x\":{\"field\":\"x\"},\"y\":{\"field\":\"y\"}},\"id\":\"2102\",\"type\":\"Line\"},{\"attributes\":{\"fill_color\":{\"value\":\"white\"},\"line_color\":{\"value\":\"blue\"},\"size\":{\"units\":\"screen\",\"value\":5},\"x\":{\"field\":\"x\"},\"y\":{\"field\":\"y\"}},\"id\":\"2096\",\"type\":\"Circle\"},{\"attributes\":{},\"id\":\"2056\",\"type\":\"PanTool\"},{\"attributes\":{\"base\":60,\"mantissas\":[1,2,5,10,15,20,30],\"max_interval\":1800000.0,\"min_interval\":1000.0,\"num_minor_ticks\":0},\"id\":\"2081\",\"type\":\"AdaptiveTicker\"},{\"attributes\":{\"text\":\"Total Cases & Total Positive: Italy\"},\"id\":\"2038\",\"type\":\"Title\"},{\"attributes\":{\"callback\":null,\"formatters\":{\"@x\":\"datetime\"},\"mode\":\"vline\",\"tooltips\":[[\"date\",\"@x{%d %B}\"],[\"total cases OR total positive\",\"@y{0[.]000}\"]]},\"id\":\"2137\",\"type\":\"HoverTool\"},{\"attributes\":{},\"id\":\"2040\",\"type\":\"DataRange1d\"},{\"attributes\":{},\"id\":\"2057\",\"type\":\"WheelZoomTool\"},{\"attributes\":{\"axis\":{\"id\":\"2048\"},\"ticker\":null},\"id\":\"2051\",\"type\":\"Grid\"},{\"attributes\":{\"line_color\":\"blue\",\"line_width\":4,\"x\":{\"field\":\"x\"},\"y\":{\"field\":\"y\"}},\"id\":\"2071\",\"type\":\"Line\"},{\"attributes\":{\"label\":{\"value\":\"total cases\"},\"renderers\":[{\"id\":\"2073\"}]},\"id\":\"2094\",\"type\":\"LegendItem\"},{\"attributes\":{\"days\":[1,2,3,4,5,6,7,8,9,10,11,12,13,14,15,16,17,18,19,20,21,22,23,24,25,26,27,28,29,30,31]},\"id\":\"2083\",\"type\":\"DaysTicker\"},{\"attributes\":{},\"id\":\"2190\",\"type\":\"Selection\"},{\"attributes\":{\"axis_label\":\"Total Cases & Total Positive\",\"formatter\":{\"id\":\"2135\"},\"minor_tick_in\":-5,\"minor_tick_out\":-3,\"ticker\":{\"id\":\"2053\"}},\"id\":\"2052\",\"type\":\"LinearAxis\"},{\"attributes\":{\"fill_color\":{\"value\":\"white\"},\"line_color\":{\"value\":\"red\"},\"size\":{\"units\":\"screen\",\"value\":5},\"x\":{\"field\":\"x\"},\"y\":{\"field\":\"y\"}},\"id\":\"2129\",\"type\":\"Circle\"},{\"attributes\":{\"overlay\":{\"id\":\"2062\"}},\"id\":\"2058\",\"type\":\"BoxZoomTool\"},{\"attributes\":{},\"id\":\"2191\",\"type\":\"UnionRenderers\"},{\"attributes\":{\"data_source\":{\"id\":\"2100\"},\"glyph\":{\"id\":\"2101\"},\"hover_glyph\":null,\"muted_glyph\":null,\"nonselection_glyph\":{\"id\":\"2102\"},\"selection_glyph\":null,\"view\":{\"id\":\"2104\"}},\"id\":\"2103\",\"type\":\"GlyphRenderer\"},{\"attributes\":{\"days\":[1,4,7,10,13,16,19,22,25,28]},\"id\":\"2084\",\"type\":\"DaysTicker\"},{\"attributes\":{},\"id\":\"2042\",\"type\":\"DataRange1d\"},{\"attributes\":{\"data\":{\"x\":{\"__ndarray__\":\"AAAA5UcHd0IAAMBKmgd3QgAAgLDsB3dCAABAFj8Id0IAAAB8kQh3QgAAwOHjCHdCAACARzYJd0IAAECtiAl3QgAAABPbCXdCAADAeC0Kd0IAAIDefwp3QgAAQETSCndCAAAAqiQLd0IAAMAPdwt3QgAAgHXJC3dCAABA2xsMd0IAAABBbgx3QgAAwKbADHdCAACADBMNd0IAAEByZQ13QgAAANi3DXdCAADAPQoOd0IAAICjXA53QgAAQAmvDndCAAAAbwEPd0IAAMDUUw93QgAAgDqmD3dCAABAoPgPd0IAAAAGSxB3QgAAwGudEHdCAACA0e8Qd0IAAEA3QhF3QgAAAJ2UEXdCAADAAucRd0IAAIBoORJ3QgAAQM6LEndCAAAANN4Sd0IAAMCZMBN3QgAAgP+CE3dCAABAZdUTd0IAAADLJxR3QgAAwDB6FHdCAACAlswUd0IAAED8HhV3QgAAAGJxFXdCAADAx8MVd0IAAIAtFhZ3QgAAQJNoFndCAAAA+boWd0IAAMBeDRd3QgAAgMRfF3dCAABAKrIXd0IAAACQBBh3QgAAwPVWGHdCAACAW6kYd0IAAEDB+xh3QgAAACdOGXdCAADAjKAZd0IAAIDy8hl3QgAAQFhFGndCAAAAvpcad0IAAMAj6hp3QgAAgIk8G3dCAABA744bd0IAAABV4Rt3QgAAwLozHHdCAACAIIYcd0IAAECG2Bx3QgAAAOwqHXdCAADAUX0dd0IAAIC3zx13QgAAQB0iHndCAAAAg3Qed0IAAMDoxh53QgAAgE4ZH3dCAABAtGsfd0IAAAAavh93QgAAwH8QIHdCAACA5WIgd0IAAEBLtSB3QgAAALEHIXdCAADAFlohd0IAAIB8rCF3QgAAQOL+IXdCAAAASFEid0IAAMCtoyJ3QgAAgBP2IndCAABAeUgjd0IAAADfmiN3QgAAwETtI3dCAACAqj8kd0IAAEAQkiR3QgAAAHbkJHdCAADA2zYld0IAAIBBiSV3QgAAQKfbJXdCAAAADS4md0IAAMBygCZ3QgAAgNjSJndCAABAPiUnd0IAAACkdyd3QgAAwAnKJ3dCAACAbxwod0IAAEDVbih3QgAAADvBKHdCAADAoBMpd0IAAIAGZil3QgAAQGy4KXdCAAAA0goqd0IAAMA3XSp3QgAAgJ2vKndCAABAAwIrd0IAAABpVCt3QgAAwM6mK3dCAACANPkrd0IAAECaSyx3QgAAAACeLHdCAADAZfAsd0IAAIDLQi13QgAAQDGVLXdCAAAAl+ctd0I=\",\"dtype\":\"float64\",\"shape\":[121]},\"y\":[221,311,385,588,821,1049,1577,1835,2263,2706,3296,3916,5061,6387,7985,8514,10590,12839,14955,17750,20603,23073,26062,28710,33190,37860,42681,46638,50418,54030,57521,62013,66414,70065,73880,75528,77635,80572,83049,85388,88274,91246,93187,94067,95262,96877,98273,100269,102253,103616,104291,105418,106607,106962,107771,108257,108237,107709,107699,106848,106527,105847,106103,105813,105205,104657,101551,100943,100704,100179,99980,98467,91528,89624,87961,84842,83324,82488,81266,78457,76440,72070,70187,68351,66553,65129,62752,60960,59322,57752,56594,55300,52942,50966,47986,46175,43691,42097,41367,39893,39297,38429,36976,35877,35262,34730,32872,31710,30637,28997,27485,26274,25909,24569,23925,23101,21543,21212,20972,20637,19573]},\"selected\":{\"id\":\"2190\"},\"selection_policy\":{\"id\":\"2191\"}},\"id\":\"2100\",\"type\":\"ColumnDataSource\"},{\"attributes\":{\"days\":[1,8,15,22]},\"id\":\"2085\",\"type\":\"DaysTicker\"},{\"attributes\":{\"data\":{\"x\":{\"__ndarray__\":\"AAAA5UcHd0IAAMBKmgd3QgAAgLDsB3dCAABAFj8Id0IAAAB8kQh3QgAAwOHjCHdCAACARzYJd0IAAECtiAl3QgAAABPbCXdCAADAeC0Kd0IAAIDefwp3QgAAQETSCndCAAAAqiQLd0IAAMAPdwt3QgAAgHXJC3dCAABA2xsMd0IAAABBbgx3QgAAwKbADHdCAACADBMNd0IAAEByZQ13QgAAANi3DXdCAADAPQoOd0IAAICjXA53QgAAQAmvDndCAAAAbwEPd0IAAMDUUw93QgAAgDqmD3dCAABAoPgPd0IAAAAGSxB3QgAAwGudEHdCAACA0e8Qd0IAAEA3QhF3QgAAAJ2UEXdCAADAAucRd0IAAIBoORJ3QgAAQM6LEndCAAAANN4Sd0IAAMCZMBN3QgAAgP+CE3dCAABAZdUTd0IAAADLJxR3QgAAwDB6FHdCAACAlswUd0IAAED8HhV3QgAAAGJxFXdCAADAx8MVd0IAAIAtFhZ3QgAAQJNoFndCAAAA+boWd0IAAMBeDRd3QgAAgMRfF3dCAABAKrIXd0IAAACQBBh3QgAAwPVWGHdCAACAW6kYd0IAAEDB+xh3QgAAACdOGXdCAADAjKAZd0IAAIDy8hl3QgAAQFhFGndCAAAAvpcad0IAAMAj6hp3QgAAgIk8G3dCAABA744bd0IAAABV4Rt3QgAAwLozHHdCAACAIIYcd0IAAECG2Bx3QgAAAOwqHXdCAADAUX0dd0IAAIC3zx13QgAAQB0iHndCAAAAg3Qed0IAAMDoxh53QgAAgE4ZH3dCAABAtGsfd0IAAAAavh93QgAAwH8QIHdCAACA5WIgd0IAAEBLtSB3QgAAALEHIXdCAADAFlohd0IAAIB8rCF3QgAAQOL+IXdCAAAASFEid0IAAMCtoyJ3QgAAgBP2IndCAABAeUgjd0IAAADfmiN3QgAAwETtI3dCAACAqj8kd0IAAEAQkiR3QgAAAHbkJHdCAADA2zYld0IAAIBBiSV3QgAAQKfbJXdCAAAADS4md0IAAMBygCZ3QgAAgNjSJndCAABAPiUnd0IAAACkdyd3QgAAwAnKJ3dCAACAbxwod0IAAEDVbih3QgAAADvBKHdCAADAoBMpd0IAAIAGZil3QgAAQGy4KXdCAAAA0goqd0IAAMA3XSp3QgAAgJ2vKndCAABAAwIrd0IAAABpVCt3QgAAwM6mK3dCAACANPkrd0IAAECaSyx3QgAAAACeLHdCAADAZfAsd0IAAIDLQi13QgAAQDGVLXdCAAAAl+ctd0I=\",\"dtype\":\"float64\",\"shape\":[121]},\"y\":[229,322,400,650,888,1128,1694,2036,2502,3089,3858,4636,5883,7375,9172,10149,12462,15113,17660,21157,24747,27980,31506,35713,41035,47021,53578,59138,63927,69176,74386,80539,86498,92472,97689,101739,105792,110574,115242,119827,124632,128948,132547,135586,139422,143626,147577,152271,156363,159516,162488,165155,168941,172434,175925,178972,181228,183957,187327,189973,192994,195351,197675,199414,201505,203591,205463,207428,209328,210717,211938,213013,214457,215858,217185,218268,219070,219814,221216,222104,223096,223885,224760,225435,225886,226699,227364,228006,228658,229327,229858,230158,230555,231139,231732,232248,232664,233019,233197,233515,233836,234013,234531,234801,234998,235278,235561,235763,236142,236305,236651,236989,237290,237500,237828,238159,238011,238275,238499,238720,238833]},\"selected\":{\"id\":\"2112\"},\"selection_policy\":{\"id\":\"2113\"}},\"id\":\"2095\",\"type\":\"ColumnDataSource\"},{\"attributes\":{},\"id\":\"2192\",\"type\":\"Selection\"},{\"attributes\":{\"days\":[1,15]},\"id\":\"2086\",\"type\":\"DaysTicker\"},{\"attributes\":{\"bottom_units\":\"screen\",\"fill_alpha\":0.5,\"fill_color\":\"lightgrey\",\"left_units\":\"screen\",\"level\":\"overlay\",\"line_alpha\":1.0,\"line_color\":\"black\",\"line_dash\":[4,4],\"line_width\":2,\"render_mode\":\"css\",\"right_units\":\"screen\",\"top_units\":\"screen\"},\"id\":\"2062\",\"type\":\"BoxAnnotation\"},{\"attributes\":{\"axis\":{\"id\":\"2052\"},\"dimension\":1,\"ticker\":null},\"id\":\"2055\",\"type\":\"Grid\"},{\"attributes\":{\"months\":[0,1,2,3,4,5,6,7,8,9,10,11]},\"id\":\"2087\",\"type\":\"MonthsTicker\"},{\"attributes\":{\"num_minor_ticks\":5,\"tickers\":[{\"id\":\"2080\"},{\"id\":\"2081\"},{\"id\":\"2082\"},{\"id\":\"2083\"},{\"id\":\"2084\"},{\"id\":\"2085\"},{\"id\":\"2086\"},{\"id\":\"2087\"},{\"id\":\"2088\"},{\"id\":\"2089\"},{\"id\":\"2090\"},{\"id\":\"2091\"}]},\"id\":\"2049\",\"type\":\"DatetimeTicker\"},{\"attributes\":{},\"id\":\"2091\",\"type\":\"YearsTicker\"},{\"attributes\":{},\"id\":\"2044\",\"type\":\"LinearScale\"},{\"attributes\":{\"months\":[0,2,4,6,8,10]},\"id\":\"2088\",\"type\":\"MonthsTicker\"},{\"attributes\":{},\"id\":\"2112\",\"type\":\"Selection\"},{\"attributes\":{},\"id\":\"2193\",\"type\":\"UnionRenderers\"},{\"attributes\":{\"items\":[{\"id\":\"2094\"},{\"id\":\"2127\"}],\"location\":\"top_left\"},\"id\":\"2093\",\"type\":\"Legend\"},{\"attributes\":{\"mantissas\":[1,2,5],\"max_interval\":500.0,\"num_minor_ticks\":0},\"id\":\"2080\",\"type\":\"AdaptiveTicker\"},{\"attributes\":{\"months\":[0,4,8]},\"id\":\"2089\",\"type\":\"MonthsTicker\"},{\"attributes\":{},\"id\":\"2110\",\"type\":\"Selection\"},{\"attributes\":{\"data_source\":{\"id\":\"2095\"},\"glyph\":{\"id\":\"2096\"},\"hover_glyph\":null,\"muted_glyph\":null,\"nonselection_glyph\":{\"id\":\"2097\"},\"selection_glyph\":null,\"view\":{\"id\":\"2099\"}},\"id\":\"2098\",\"type\":\"GlyphRenderer\"},{\"attributes\":{},\"id\":\"2046\",\"type\":\"LinearScale\"},{\"attributes\":{},\"id\":\"2113\",\"type\":\"UnionRenderers\"},{\"attributes\":{},\"id\":\"2061\",\"type\":\"HelpTool\"},{\"attributes\":{\"months\":[0,6]},\"id\":\"2090\",\"type\":\"MonthsTicker\"},{\"attributes\":{\"line_color\":\"red\",\"line_width\":4,\"x\":{\"field\":\"x\"},\"y\":{\"field\":\"y\"}},\"id\":\"2101\",\"type\":\"Line\"},{\"attributes\":{},\"id\":\"2053\",\"type\":\"BasicTicker\"},{\"attributes\":{},\"id\":\"2060\",\"type\":\"ResetTool\"},{\"attributes\":{\"data_source\":{\"id\":\"2128\"},\"glyph\":{\"id\":\"2129\"},\"hover_glyph\":null,\"muted_glyph\":null,\"nonselection_glyph\":{\"id\":\"2130\"},\"selection_glyph\":null,\"view\":{\"id\":\"2132\"}},\"id\":\"2131\",\"type\":\"GlyphRenderer\"},{\"attributes\":{\"source\":{\"id\":\"2095\"}},\"id\":\"2099\",\"type\":\"CDSView\"},{\"attributes\":{},\"id\":\"2059\",\"type\":\"SaveTool\"},{\"attributes\":{\"active_drag\":\"auto\",\"active_inspect\":\"auto\",\"active_multi\":null,\"active_scroll\":\"auto\",\"active_tap\":\"auto\",\"tools\":[{\"id\":\"2056\"},{\"id\":\"2057\"},{\"id\":\"2058\"},{\"id\":\"2059\"},{\"id\":\"2060\"},{\"id\":\"2061\"},{\"id\":\"2137\"}]},\"id\":\"2063\",\"type\":\"Toolbar\"},{\"attributes\":{\"data\":{\"x\":{\"__ndarray__\":\"AAAA5UcHd0IAAMBKmgd3QgAAgLDsB3dCAABAFj8Id0IAAAB8kQh3QgAAwOHjCHdCAACARzYJd0IAAECtiAl3QgAAABPbCXdCAADAeC0Kd0IAAIDefwp3QgAAQETSCndCAAAAqiQLd0IAAMAPdwt3QgAAgHXJC3dCAABA2xsMd0IAAABBbgx3QgAAwKbADHdCAACADBMNd0IAAEByZQ13QgAAANi3DXdCAADAPQoOd0IAAICjXA53QgAAQAmvDndCAAAAbwEPd0IAAMDUUw93QgAAgDqmD3dCAABAoPgPd0IAAAAGSxB3QgAAwGudEHdCAACA0e8Qd0IAAEA3QhF3QgAAAJ2UEXdCAADAAucRd0IAAIBoORJ3QgAAQM6LEndCAAAANN4Sd0IAAMCZMBN3QgAAgP+CE3dCAABAZdUTd0IAAADLJxR3QgAAwDB6FHdCAACAlswUd0IAAED8HhV3QgAAAGJxFXdCAADAx8MVd0IAAIAtFhZ3QgAAQJNoFndCAAAA+boWd0IAAMBeDRd3QgAAgMRfF3dCAABAKrIXd0IAAACQBBh3QgAAwPVWGHdCAACAW6kYd0IAAEDB+xh3QgAAACdOGXdCAADAjKAZd0IAAIDy8hl3QgAAQFhFGndCAAAAvpcad0IAAMAj6hp3QgAAgIk8G3dCAABA744bd0IAAABV4Rt3QgAAwLozHHdCAACAIIYcd0IAAECG2Bx3QgAAAOwqHXdCAADAUX0dd0IAAIC3zx13QgAAQB0iHndCAAAAg3Qed0IAAMDoxh53QgAAgE4ZH3dCAABAtGsfd0IAAAAavh93QgAAwH8QIHdCAACA5WIgd0IAAEBLtSB3QgAAALEHIXdCAADAFlohd0IAAIB8rCF3QgAAQOL+IXdCAAAASFEid0IAAMCtoyJ3QgAAgBP2IndCAABAeUgjd0IAAADfmiN3QgAAwETtI3dCAACAqj8kd0IAAEAQkiR3QgAAAHbkJHdCAADA2zYld0IAAIBBiSV3QgAAQKfbJXdCAAAADS4md0IAAMBygCZ3QgAAgNjSJndCAABAPiUnd0IAAACkdyd3QgAAwAnKJ3dCAACAbxwod0IAAEDVbih3QgAAADvBKHdCAADAoBMpd0IAAIAGZil3QgAAQGy4KXdCAAAA0goqd0IAAMA3XSp3QgAAgJ2vKndCAABAAwIrd0IAAABpVCt3QgAAwM6mK3dCAACANPkrd0IAAECaSyx3QgAAAACeLHdCAADAZfAsd0IAAIDLQi13QgAAQDGVLXdCAAAAl+ctd0I=\",\"dtype\":\"float64\",\"shape\":[121]},\"y\":[221,311,385,588,821,1049,1577,1835,2263,2706,3296,3916,5061,6387,7985,8514,10590,12839,14955,17750,20603,23073,26062,28710,33190,37860,42681,46638,50418,54030,57521,62013,66414,70065,73880,75528,77635,80572,83049,85388,88274,91246,93187,94067,95262,96877,98273,100269,102253,103616,104291,105418,106607,106962,107771,108257,108237,107709,107699,106848,106527,105847,106103,105813,105205,104657,101551,100943,100704,100179,99980,98467,91528,89624,87961,84842,83324,82488,81266,78457,76440,72070,70187,68351,66553,65129,62752,60960,59322,57752,56594,55300,52942,50966,47986,46175,43691,42097,41367,39893,39297,38429,36976,35877,35262,34730,32872,31710,30637,28997,27485,26274,25909,24569,23925,23101,21543,21212,20972,20637,19573]},\"selected\":{\"id\":\"2192\"},\"selection_policy\":{\"id\":\"2193\"}},\"id\":\"2128\",\"type\":\"ColumnDataSource\"},{\"attributes\":{\"fill_alpha\":{\"value\":0.1},\"fill_color\":{\"value\":\"white\"},\"line_alpha\":{\"value\":0.1},\"line_color\":{\"value\":\"red\"},\"size\":{\"units\":\"screen\",\"value\":5},\"x\":{\"field\":\"x\"},\"y\":{\"field\":\"y\"}},\"id\":\"2130\",\"type\":\"Circle\"}],\"root_ids\":[\"2037\"]},\"title\":\"Bokeh Application\",\"version\":\"2.0.2\"}};\n",
       "  var render_items = [{\"docid\":\"5f7b160c-3b76-409e-80da-8129c52f7b03\",\"root_ids\":[\"2037\"],\"roots\":{\"2037\":\"4fde6009-5fb5-41da-97c2-c5eccc3523c1\"}}];\n",
       "  root.Bokeh.embed.embed_items_notebook(docs_json, render_items);\n",
       "\n",
       "  }\n",
       "  if (root.Bokeh !== undefined) {\n",
       "    embed_document(root);\n",
       "  } else {\n",
       "    var attempts = 0;\n",
       "    var timer = setInterval(function(root) {\n",
       "      if (root.Bokeh !== undefined) {\n",
       "        clearInterval(timer);\n",
       "        embed_document(root);\n",
       "      } else {\n",
       "        attempts++;\n",
       "        if (attempts > 100) {\n",
       "          clearInterval(timer);\n",
       "          console.log(\"Bokeh: ERROR: Unable to run BokehJS code because BokehJS library is missing\");\n",
       "        }\n",
       "      }\n",
       "    }, 10, root)\n",
       "  }\n",
       "})(window);"
      ],
      "application/vnd.bokehjs_exec.v0+json": ""
     },
     "metadata": {
      "application/vnd.bokehjs_exec.v0+json": {
       "id": "2037"
      }
     },
     "output_type": "display_data"
    }
   ],
   "source": [
    "p_total_cases_positive_2_Italy = bokeh_plot_N_lines(x=time_date_new, y_list=[total_cases_italy,total_positive_italy], \n",
    "                  title='Total Cases & Total Positive: Italy', \n",
    "                  dim=[600, 450], \n",
    "                  x_label='Date', \n",
    "                  y_label='Total Cases & Total Positive', legend_list=['total cases','total positive'],\n",
    "                  x_label_hover='date', y_label_hover='total cases OR total positive',\n",
    "                  color_list=['blue','red'],legend_location=\"top_left\", y_minmax=None)\n",
    "\n",
    "output_file(\"total_cases_positive_2_Italy.html\")\n",
    "\n",
    "show(p_total_cases_positive_2_Italy)"
   ]
  },
  {
   "cell_type": "markdown",
   "metadata": {},
   "source": [
    "------------------\n",
    "\n",
    "### Deaths"
   ]
  },
  {
   "cell_type": "code",
   "execution_count": 19,
   "metadata": {},
   "outputs": [
    {
     "data": {
      "text/plain": [
       "0     7\n",
       "1    10\n",
       "2    12\n",
       "3    17\n",
       "4    21\n",
       "Name: deceduti, dtype: int64"
      ]
     },
     "execution_count": 19,
     "metadata": {},
     "output_type": "execute_result"
    }
   ],
   "source": [
    "deceduti_italy = df_nazionale['deceduti']\n",
    "deceduti_italy.head()"
   ]
  },
  {
   "cell_type": "code",
   "execution_count": null,
   "metadata": {},
   "outputs": [],
   "source": []
  },
  {
   "cell_type": "markdown",
   "metadata": {},
   "source": [
    "------------------\n",
    "\n",
    "### Recovered"
   ]
  },
  {
   "cell_type": "code",
   "execution_count": 20,
   "metadata": {},
   "outputs": [
    {
     "data": {
      "text/plain": [
       "0     1\n",
       "1     1\n",
       "2     3\n",
       "3    45\n",
       "4    46\n",
       "Name: dimessi_guariti, dtype: int64"
      ]
     },
     "execution_count": 20,
     "metadata": {},
     "output_type": "execute_result"
    }
   ],
   "source": [
    "guariti_italy = df_nazionale['dimessi_guariti']\n",
    "guariti_italy.head()"
   ]
  },
  {
   "cell_type": "code",
   "execution_count": 21,
   "metadata": {},
   "outputs": [
    {
     "data": {
      "text/html": [
       "\n",
       "\n",
       "\n",
       "\n",
       "\n",
       "\n",
       "  <div class=\"bk-root\" id=\"dcc054a2-6759-4242-b0b3-7d2917dc8c77\" data-root-id=\"2664\"></div>\n"
      ]
     },
     "metadata": {},
     "output_type": "display_data"
    },
    {
     "data": {
      "application/javascript": [
       "(function(root) {\n",
       "  function embed_document(root) {\n",
       "    \n",
       "  var docs_json = {\"86f1d5ee-f48c-4e41-ba2a-cf0f36eb0a7d\":{\"roots\":{\"references\":[{\"attributes\":{\"below\":[{\"id\":\"2675\"}],\"center\":[{\"id\":\"2678\"},{\"id\":\"2682\"},{\"id\":\"2720\"}],\"left\":[{\"id\":\"2679\"}],\"plot_height\":450,\"renderers\":[{\"id\":\"2700\"},{\"id\":\"2725\"},{\"id\":\"2730\"},{\"id\":\"2758\"}],\"title\":{\"id\":\"2665\"},\"toolbar\":{\"id\":\"2690\"},\"x_range\":{\"id\":\"2667\"},\"x_scale\":{\"id\":\"2671\"},\"y_range\":{\"id\":\"2669\"},\"y_scale\":{\"id\":\"2673\"}},\"id\":\"2664\",\"subtype\":\"Figure\",\"type\":\"Plot\"},{\"attributes\":{},\"id\":\"2667\",\"type\":\"DataRange1d\"},{\"attributes\":{\"overlay\":{\"id\":\"2689\"}},\"id\":\"2685\",\"type\":\"BoxZoomTool\"},{\"attributes\":{\"items\":[{\"id\":\"2721\"},{\"id\":\"2754\"}],\"location\":\"top_left\"},\"id\":\"2720\",\"type\":\"Legend\"},{\"attributes\":{},\"id\":\"2671\",\"type\":\"LinearScale\"},{\"attributes\":{},\"id\":\"2686\",\"type\":\"SaveTool\"},{\"attributes\":{\"months\":[0,2,4,6,8,10]},\"id\":\"2715\",\"type\":\"MonthsTicker\"},{\"attributes\":{},\"id\":\"2843\",\"type\":\"UnionRenderers\"},{\"attributes\":{\"axis\":{\"id\":\"2675\"},\"ticker\":null},\"id\":\"2678\",\"type\":\"Grid\"},{\"attributes\":{},\"id\":\"2687\",\"type\":\"ResetTool\"},{\"attributes\":{\"num_minor_ticks\":5,\"tickers\":[{\"id\":\"2707\"},{\"id\":\"2708\"},{\"id\":\"2709\"},{\"id\":\"2710\"},{\"id\":\"2711\"},{\"id\":\"2712\"},{\"id\":\"2713\"},{\"id\":\"2714\"},{\"id\":\"2715\"},{\"id\":\"2716\"},{\"id\":\"2717\"},{\"id\":\"2718\"}]},\"id\":\"2676\",\"type\":\"DatetimeTicker\"},{\"attributes\":{},\"id\":\"2669\",\"type\":\"DataRange1d\"},{\"attributes\":{},\"id\":\"2688\",\"type\":\"HelpTool\"},{\"attributes\":{},\"id\":\"2739\",\"type\":\"Selection\"},{\"attributes\":{},\"id\":\"2673\",\"type\":\"LinearScale\"},{\"attributes\":{\"active_drag\":\"auto\",\"active_inspect\":\"auto\",\"active_multi\":null,\"active_scroll\":\"auto\",\"active_tap\":\"auto\",\"tools\":[{\"id\":\"2683\"},{\"id\":\"2684\"},{\"id\":\"2685\"},{\"id\":\"2686\"},{\"id\":\"2687\"},{\"id\":\"2688\"},{\"id\":\"2765\"}]},\"id\":\"2690\",\"type\":\"Toolbar\"},{\"attributes\":{},\"id\":\"2718\",\"type\":\"YearsTicker\"},{\"attributes\":{\"data_source\":{\"id\":\"2727\"},\"glyph\":{\"id\":\"2728\"},\"hover_glyph\":null,\"muted_glyph\":null,\"nonselection_glyph\":{\"id\":\"2729\"},\"selection_glyph\":null,\"view\":{\"id\":\"2731\"}},\"id\":\"2730\",\"type\":\"GlyphRenderer\"},{\"attributes\":{},\"id\":\"2738\",\"type\":\"UnionRenderers\"},{\"attributes\":{\"source\":{\"id\":\"2697\"}},\"id\":\"2701\",\"type\":\"CDSView\"},{\"attributes\":{\"data\":{\"x\":{\"__ndarray__\":\"AAAA5UcHd0IAAMBKmgd3QgAAgLDsB3dCAABAFj8Id0IAAAB8kQh3QgAAwOHjCHdCAACARzYJd0IAAECtiAl3QgAAABPbCXdCAADAeC0Kd0IAAIDefwp3QgAAQETSCndCAAAAqiQLd0IAAMAPdwt3QgAAgHXJC3dCAABA2xsMd0IAAABBbgx3QgAAwKbADHdCAACADBMNd0IAAEByZQ13QgAAANi3DXdCAADAPQoOd0IAAICjXA53QgAAQAmvDndCAAAAbwEPd0IAAMDUUw93QgAAgDqmD3dCAABAoPgPd0IAAAAGSxB3QgAAwGudEHdCAACA0e8Qd0IAAEA3QhF3QgAAAJ2UEXdCAADAAucRd0IAAIBoORJ3QgAAQM6LEndCAAAANN4Sd0IAAMCZMBN3QgAAgP+CE3dCAABAZdUTd0IAAADLJxR3QgAAwDB6FHdCAACAlswUd0IAAED8HhV3QgAAAGJxFXdCAADAx8MVd0IAAIAtFhZ3QgAAQJNoFndCAAAA+boWd0IAAMBeDRd3QgAAgMRfF3dCAABAKrIXd0IAAACQBBh3QgAAwPVWGHdCAACAW6kYd0IAAEDB+xh3QgAAACdOGXdCAADAjKAZd0IAAIDy8hl3QgAAQFhFGndCAAAAvpcad0IAAMAj6hp3QgAAgIk8G3dCAABA744bd0IAAABV4Rt3QgAAwLozHHdCAACAIIYcd0IAAECG2Bx3QgAAAOwqHXdCAADAUX0dd0IAAIC3zx13QgAAQB0iHndCAAAAg3Qed0IAAMDoxh53QgAAgE4ZH3dCAABAtGsfd0IAAAAavh93QgAAwH8QIHdCAACA5WIgd0IAAEBLtSB3QgAAALEHIXdCAADAFlohd0IAAIB8rCF3QgAAQOL+IXdCAAAASFEid0IAAMCtoyJ3QgAAgBP2IndCAABAeUgjd0IAAADfmiN3QgAAwETtI3dCAACAqj8kd0IAAEAQkiR3QgAAAHbkJHdCAADA2zYld0IAAIBBiSV3QgAAQKfbJXdCAAAADS4md0IAAMBygCZ3QgAAgNjSJndCAABAPiUnd0IAAACkdyd3QgAAwAnKJ3dCAACAbxwod0IAAEDVbih3QgAAADvBKHdCAADAoBMpd0IAAIAGZil3QgAAQGy4KXdCAAAA0goqd0IAAMA3XSp3QgAAgJ2vKndCAABAAwIrd0IAAABpVCt3QgAAwM6mK3dCAACANPkrd0IAAECaSyx3QgAAAACeLHdCAADAZfAsd0IAAIDLQi13QgAAQDGVLXdCAAAAl+ctd0I=\",\"dtype\":\"float64\",\"shape\":[121]},\"y\":[7,10,12,17,21,29,34,52,79,107,148,197,233,366,463,631,827,1016,1266,1441,1809,2158,2503,2978,3405,4032,4825,5476,6077,6820,7503,8165,9134,10023,10779,11591,12428,13155,13915,14681,15362,15887,16523,17127,17669,18279,18849,19468,19899,20465,21067,21645,22170,22745,23227,23660,24114,24648,25085,25549,25969,26384,26644,26977,27359,27682,27967,28236,28710,28884,29079,29315,29684,29958,30201,30395,30560,30739,30911,31106,31368,31610,31763,31908,32007,32169,32330,32486,32616,32735,32785,32877,32955,33072,33142,33229,33340,33415,33475,33530,33601,33689,33774,33846,33899,33964,34043,34114,34167,34223,34301,34345,34371,34405,34448,34514,34561,34610,34634,34657,34675]},\"selected\":{\"id\":\"2739\"},\"selection_policy\":{\"id\":\"2740\"}},\"id\":\"2722\",\"type\":\"ColumnDataSource\"},{\"attributes\":{\"line_alpha\":0.1,\"line_color\":\"green\",\"line_width\":4,\"x\":{\"field\":\"x\"},\"y\":{\"field\":\"y\"}},\"id\":\"2729\",\"type\":\"Line\"},{\"attributes\":{\"text\":\"Deaths vs Recovered: Italy\"},\"id\":\"2665\",\"type\":\"Title\"},{\"attributes\":{\"fill_color\":{\"value\":\"white\"},\"line_color\":{\"value\":\"darkviolet\"},\"size\":{\"units\":\"screen\",\"value\":6},\"x\":{\"field\":\"x\"},\"y\":{\"field\":\"y\"}},\"id\":\"2723\",\"type\":\"Circle\"},{\"attributes\":{},\"id\":\"2740\",\"type\":\"UnionRenderers\"},{\"attributes\":{\"source\":{\"id\":\"2755\"}},\"id\":\"2759\",\"type\":\"CDSView\"},{\"attributes\":{},\"id\":\"2844\",\"type\":\"Selection\"},{\"attributes\":{\"data\":{\"x\":{\"__ndarray__\":\"AAAA5UcHd0IAAMBKmgd3QgAAgLDsB3dCAABAFj8Id0IAAAB8kQh3QgAAwOHjCHdCAACARzYJd0IAAECtiAl3QgAAABPbCXdCAADAeC0Kd0IAAIDefwp3QgAAQETSCndCAAAAqiQLd0IAAMAPdwt3QgAAgHXJC3dCAABA2xsMd0IAAABBbgx3QgAAwKbADHdCAACADBMNd0IAAEByZQ13QgAAANi3DXdCAADAPQoOd0IAAICjXA53QgAAQAmvDndCAAAAbwEPd0IAAMDUUw93QgAAgDqmD3dCAABAoPgPd0IAAAAGSxB3QgAAwGudEHdCAACA0e8Qd0IAAEA3QhF3QgAAAJ2UEXdCAADAAucRd0IAAIBoORJ3QgAAQM6LEndCAAAANN4Sd0IAAMCZMBN3QgAAgP+CE3dCAABAZdUTd0IAAADLJxR3QgAAwDB6FHdCAACAlswUd0IAAED8HhV3QgAAAGJxFXdCAADAx8MVd0IAAIAtFhZ3QgAAQJNoFndCAAAA+boWd0IAAMBeDRd3QgAAgMRfF3dCAABAKrIXd0IAAACQBBh3QgAAwPVWGHdCAACAW6kYd0IAAEDB+xh3QgAAACdOGXdCAADAjKAZd0IAAIDy8hl3QgAAQFhFGndCAAAAvpcad0IAAMAj6hp3QgAAgIk8G3dCAABA744bd0IAAABV4Rt3QgAAwLozHHdCAACAIIYcd0IAAECG2Bx3QgAAAOwqHXdCAADAUX0dd0IAAIC3zx13QgAAQB0iHndCAAAAg3Qed0IAAMDoxh53QgAAgE4ZH3dCAABAtGsfd0IAAAAavh93QgAAwH8QIHdCAACA5WIgd0IAAEBLtSB3QgAAALEHIXdCAADAFlohd0IAAIB8rCF3QgAAQOL+IXdCAAAASFEid0IAAMCtoyJ3QgAAgBP2IndCAABAeUgjd0IAAADfmiN3QgAAwETtI3dCAACAqj8kd0IAAEAQkiR3QgAAAHbkJHdCAADA2zYld0IAAIBBiSV3QgAAQKfbJXdCAAAADS4md0IAAMBygCZ3QgAAgNjSJndCAABAPiUnd0IAAACkdyd3QgAAwAnKJ3dCAACAbxwod0IAAEDVbih3QgAAADvBKHdCAADAoBMpd0IAAIAGZil3QgAAQGy4KXdCAAAA0goqd0IAAMA3XSp3QgAAgJ2vKndCAABAAwIrd0IAAABpVCt3QgAAwM6mK3dCAACANPkrd0IAAECaSyx3QgAAAACeLHdCAADAZfAsd0IAAIDLQi13QgAAQDGVLXdCAAAAl+ctd0I=\",\"dtype\":\"float64\",\"shape\":[121]},\"y\":[1,1,3,45,46,50,83,149,160,276,414,523,589,622,724,1004,1045,1258,1439,1966,2335,2749,2941,4025,4440,5129,6072,7024,7432,8326,9362,10361,10950,12384,13030,14620,15729,16847,18278,19758,20996,21815,22837,24392,26491,28470,30455,32534,34211,35435,37130,38092,40164,42727,44927,47055,48877,51600,54543,57576,60498,63120,64928,66624,68941,71252,75945,78249,79914,81654,82879,85231,93245,96276,99023,103031,105186,106587,109039,112541,115288,120205,122810,125176,127326,129401,132282,134560,136720,138840,140479,141981,144658,147101,150604,152844,155633,157507,158355,160092,160938,161895,163781,165078,165837,166584,168646,169939,171338,173085,174865,176370,177010,178526,179455,180544,181907,182453,182893,183426,184585]},\"selected\":{\"id\":\"2844\"},\"selection_policy\":{\"id\":\"2845\"}},\"id\":\"2755\",\"type\":\"ColumnDataSource\"},{\"attributes\":{\"months\":[0,6]},\"id\":\"2717\",\"type\":\"MonthsTicker\"},{\"attributes\":{},\"id\":\"2680\",\"type\":\"BasicTicker\"},{\"attributes\":{\"months\":[0,1,2,3,4,5,6,7,8,9,10,11]},\"id\":\"2714\",\"type\":\"MonthsTicker\"},{\"attributes\":{\"line_alpha\":0.1,\"line_color\":\"darkviolet\",\"line_width\":4,\"x\":{\"field\":\"x\"},\"y\":{\"field\":\"y\"}},\"id\":\"2699\",\"type\":\"Line\"},{\"attributes\":{\"axis\":{\"id\":\"2679\"},\"dimension\":1,\"ticker\":null},\"id\":\"2682\",\"type\":\"Grid\"},{\"attributes\":{\"source\":{\"id\":\"2727\"}},\"id\":\"2731\",\"type\":\"CDSView\"},{\"attributes\":{\"axis_label\":\"Deaths & Recovered\",\"formatter\":{\"id\":\"2764\"},\"minor_tick_in\":-5,\"minor_tick_out\":-3,\"ticker\":{\"id\":\"2680\"}},\"id\":\"2679\",\"type\":\"LinearAxis\"},{\"attributes\":{\"line_color\":\"darkviolet\",\"line_width\":4,\"x\":{\"field\":\"x\"},\"y\":{\"field\":\"y\"}},\"id\":\"2698\",\"type\":\"Line\"},{\"attributes\":{},\"id\":\"2842\",\"type\":\"Selection\"},{\"attributes\":{\"mantissas\":[1,2,5],\"max_interval\":500.0,\"num_minor_ticks\":0},\"id\":\"2707\",\"type\":\"AdaptiveTicker\"},{\"attributes\":{\"label\":{\"value\":\"recovered\"},\"renderers\":[{\"id\":\"2730\"}]},\"id\":\"2754\",\"type\":\"LegendItem\"},{\"attributes\":{\"days\":[1,2,3,4,5,6,7,8,9,10,11,12,13,14,15,16,17,18,19,20,21,22,23,24,25,26,27,28,29,30,31]},\"id\":\"2710\",\"type\":\"DaysTicker\"},{\"attributes\":{\"months\":[0,4,8]},\"id\":\"2716\",\"type\":\"MonthsTicker\"},{\"attributes\":{\"data_source\":{\"id\":\"2722\"},\"glyph\":{\"id\":\"2723\"},\"hover_glyph\":null,\"muted_glyph\":null,\"nonselection_glyph\":{\"id\":\"2724\"},\"selection_glyph\":null,\"view\":{\"id\":\"2726\"}},\"id\":\"2725\",\"type\":\"GlyphRenderer\"},{\"attributes\":{\"fill_alpha\":{\"value\":0.1},\"fill_color\":{\"value\":\"white\"},\"line_alpha\":{\"value\":0.1},\"line_color\":{\"value\":\"darkviolet\"},\"size\":{\"units\":\"screen\",\"value\":6},\"x\":{\"field\":\"x\"},\"y\":{\"field\":\"y\"}},\"id\":\"2724\",\"type\":\"Circle\"},{\"attributes\":{\"base\":60,\"mantissas\":[1,2,5,10,15,20,30],\"max_interval\":1800000.0,\"min_interval\":1000.0,\"num_minor_ticks\":0},\"id\":\"2708\",\"type\":\"AdaptiveTicker\"},{\"attributes\":{\"days\":[1,4,7,10,13,16,19,22,25,28]},\"id\":\"2711\",\"type\":\"DaysTicker\"},{\"attributes\":{\"line_color\":\"green\",\"line_width\":4,\"x\":{\"field\":\"x\"},\"y\":{\"field\":\"y\"}},\"id\":\"2728\",\"type\":\"Line\"},{\"attributes\":{\"fill_alpha\":{\"value\":0.1},\"fill_color\":{\"value\":\"white\"},\"line_alpha\":{\"value\":0.1},\"line_color\":{\"value\":\"green\"},\"size\":{\"units\":\"screen\",\"value\":6},\"x\":{\"field\":\"x\"},\"y\":{\"field\":\"y\"}},\"id\":\"2757\",\"type\":\"Circle\"},{\"attributes\":{\"callback\":null,\"formatters\":{\"@x\":\"datetime\"},\"mode\":\"vline\",\"tooltips\":[[\"date\",\"@x{%d %B}\"],[\"deaths OR recovered\",\"@y{0.}\"]]},\"id\":\"2765\",\"type\":\"HoverTool\"},{\"attributes\":{\"fill_color\":{\"value\":\"white\"},\"line_color\":{\"value\":\"green\"},\"size\":{\"units\":\"screen\",\"value\":6},\"x\":{\"field\":\"x\"},\"y\":{\"field\":\"y\"}},\"id\":\"2756\",\"type\":\"Circle\"},{\"attributes\":{\"data_source\":{\"id\":\"2697\"},\"glyph\":{\"id\":\"2698\"},\"hover_glyph\":null,\"muted_glyph\":null,\"nonselection_glyph\":{\"id\":\"2699\"},\"selection_glyph\":null,\"view\":{\"id\":\"2701\"}},\"id\":\"2700\",\"type\":\"GlyphRenderer\"},{\"attributes\":{\"days\":[\"%d %B\"]},\"id\":\"2760\",\"type\":\"DatetimeTickFormatter\"},{\"attributes\":{\"base\":24,\"mantissas\":[1,2,4,6,8,12],\"max_interval\":43200000.0,\"min_interval\":3600000.0,\"num_minor_ticks\":0},\"id\":\"2709\",\"type\":\"AdaptiveTicker\"},{\"attributes\":{\"data_source\":{\"id\":\"2755\"},\"glyph\":{\"id\":\"2756\"},\"hover_glyph\":null,\"muted_glyph\":null,\"nonselection_glyph\":{\"id\":\"2757\"},\"selection_glyph\":null,\"view\":{\"id\":\"2759\"}},\"id\":\"2758\",\"type\":\"GlyphRenderer\"},{\"attributes\":{\"source\":{\"id\":\"2722\"}},\"id\":\"2726\",\"type\":\"CDSView\"},{\"attributes\":{\"label\":{\"value\":\"deaths\"},\"renderers\":[{\"id\":\"2700\"}]},\"id\":\"2721\",\"type\":\"LegendItem\"},{\"attributes\":{\"days\":[1,8,15,22]},\"id\":\"2712\",\"type\":\"DaysTicker\"},{\"attributes\":{\"data\":{\"x\":{\"__ndarray__\":\"AAAA5UcHd0IAAMBKmgd3QgAAgLDsB3dCAABAFj8Id0IAAAB8kQh3QgAAwOHjCHdCAACARzYJd0IAAECtiAl3QgAAABPbCXdCAADAeC0Kd0IAAIDefwp3QgAAQETSCndCAAAAqiQLd0IAAMAPdwt3QgAAgHXJC3dCAABA2xsMd0IAAABBbgx3QgAAwKbADHdCAACADBMNd0IAAEByZQ13QgAAANi3DXdCAADAPQoOd0IAAICjXA53QgAAQAmvDndCAAAAbwEPd0IAAMDUUw93QgAAgDqmD3dCAABAoPgPd0IAAAAGSxB3QgAAwGudEHdCAACA0e8Qd0IAAEA3QhF3QgAAAJ2UEXdCAADAAucRd0IAAIBoORJ3QgAAQM6LEndCAAAANN4Sd0IAAMCZMBN3QgAAgP+CE3dCAABAZdUTd0IAAADLJxR3QgAAwDB6FHdCAACAlswUd0IAAED8HhV3QgAAAGJxFXdCAADAx8MVd0IAAIAtFhZ3QgAAQJNoFndCAAAA+boWd0IAAMBeDRd3QgAAgMRfF3dCAABAKrIXd0IAAACQBBh3QgAAwPVWGHdCAACAW6kYd0IAAEDB+xh3QgAAACdOGXdCAADAjKAZd0IAAIDy8hl3QgAAQFhFGndCAAAAvpcad0IAAMAj6hp3QgAAgIk8G3dCAABA744bd0IAAABV4Rt3QgAAwLozHHdCAACAIIYcd0IAAECG2Bx3QgAAAOwqHXdCAADAUX0dd0IAAIC3zx13QgAAQB0iHndCAAAAg3Qed0IAAMDoxh53QgAAgE4ZH3dCAABAtGsfd0IAAAAavh93QgAAwH8QIHdCAACA5WIgd0IAAEBLtSB3QgAAALEHIXdCAADAFlohd0IAAIB8rCF3QgAAQOL+IXdCAAAASFEid0IAAMCtoyJ3QgAAgBP2IndCAABAeUgjd0IAAADfmiN3QgAAwETtI3dCAACAqj8kd0IAAEAQkiR3QgAAAHbkJHdCAADA2zYld0IAAIBBiSV3QgAAQKfbJXdCAAAADS4md0IAAMBygCZ3QgAAgNjSJndCAABAPiUnd0IAAACkdyd3QgAAwAnKJ3dCAACAbxwod0IAAEDVbih3QgAAADvBKHdCAADAoBMpd0IAAIAGZil3QgAAQGy4KXdCAAAA0goqd0IAAMA3XSp3QgAAgJ2vKndCAABAAwIrd0IAAABpVCt3QgAAwM6mK3dCAACANPkrd0IAAECaSyx3QgAAAACeLHdCAADAZfAsd0IAAIDLQi13QgAAQDGVLXdCAAAAl+ctd0I=\",\"dtype\":\"float64\",\"shape\":[121]},\"y\":[7,10,12,17,21,29,34,52,79,107,148,197,233,366,463,631,827,1016,1266,1441,1809,2158,2503,2978,3405,4032,4825,5476,6077,6820,7503,8165,9134,10023,10779,11591,12428,13155,13915,14681,15362,15887,16523,17127,17669,18279,18849,19468,19899,20465,21067,21645,22170,22745,23227,23660,24114,24648,25085,25549,25969,26384,26644,26977,27359,27682,27967,28236,28710,28884,29079,29315,29684,29958,30201,30395,30560,30739,30911,31106,31368,31610,31763,31908,32007,32169,32330,32486,32616,32735,32785,32877,32955,33072,33142,33229,33340,33415,33475,33530,33601,33689,33774,33846,33899,33964,34043,34114,34167,34223,34301,34345,34371,34405,34448,34514,34561,34610,34634,34657,34675]},\"selected\":{\"id\":\"2737\"},\"selection_policy\":{\"id\":\"2738\"}},\"id\":\"2697\",\"type\":\"ColumnDataSource\"},{\"attributes\":{},\"id\":\"2737\",\"type\":\"Selection\"},{\"attributes\":{\"days\":[1,15]},\"id\":\"2713\",\"type\":\"DaysTicker\"},{\"attributes\":{\"bottom_units\":\"screen\",\"fill_alpha\":0.5,\"fill_color\":\"lightgrey\",\"left_units\":\"screen\",\"level\":\"overlay\",\"line_alpha\":1.0,\"line_color\":\"black\",\"line_dash\":[4,4],\"line_width\":2,\"render_mode\":\"css\",\"right_units\":\"screen\",\"top_units\":\"screen\"},\"id\":\"2689\",\"type\":\"BoxAnnotation\"},{\"attributes\":{\"data\":{\"x\":{\"__ndarray__\":\"AAAA5UcHd0IAAMBKmgd3QgAAgLDsB3dCAABAFj8Id0IAAAB8kQh3QgAAwOHjCHdCAACARzYJd0IAAECtiAl3QgAAABPbCXdCAADAeC0Kd0IAAIDefwp3QgAAQETSCndCAAAAqiQLd0IAAMAPdwt3QgAAgHXJC3dCAABA2xsMd0IAAABBbgx3QgAAwKbADHdCAACADBMNd0IAAEByZQ13QgAAANi3DXdCAADAPQoOd0IAAICjXA53QgAAQAmvDndCAAAAbwEPd0IAAMDUUw93QgAAgDqmD3dCAABAoPgPd0IAAAAGSxB3QgAAwGudEHdCAACA0e8Qd0IAAEA3QhF3QgAAAJ2UEXdCAADAAucRd0IAAIBoORJ3QgAAQM6LEndCAAAANN4Sd0IAAMCZMBN3QgAAgP+CE3dCAABAZdUTd0IAAADLJxR3QgAAwDB6FHdCAACAlswUd0IAAED8HhV3QgAAAGJxFXdCAADAx8MVd0IAAIAtFhZ3QgAAQJNoFndCAAAA+boWd0IAAMBeDRd3QgAAgMRfF3dCAABAKrIXd0IAAACQBBh3QgAAwPVWGHdCAACAW6kYd0IAAEDB+xh3QgAAACdOGXdCAADAjKAZd0IAAIDy8hl3QgAAQFhFGndCAAAAvpcad0IAAMAj6hp3QgAAgIk8G3dCAABA744bd0IAAABV4Rt3QgAAwLozHHdCAACAIIYcd0IAAECG2Bx3QgAAAOwqHXdCAADAUX0dd0IAAIC3zx13QgAAQB0iHndCAAAAg3Qed0IAAMDoxh53QgAAgE4ZH3dCAABAtGsfd0IAAAAavh93QgAAwH8QIHdCAACA5WIgd0IAAEBLtSB3QgAAALEHIXdCAADAFlohd0IAAIB8rCF3QgAAQOL+IXdCAAAASFEid0IAAMCtoyJ3QgAAgBP2IndCAABAeUgjd0IAAADfmiN3QgAAwETtI3dCAACAqj8kd0IAAEAQkiR3QgAAAHbkJHdCAADA2zYld0IAAIBBiSV3QgAAQKfbJXdCAAAADS4md0IAAMBygCZ3QgAAgNjSJndCAABAPiUnd0IAAACkdyd3QgAAwAnKJ3dCAACAbxwod0IAAEDVbih3QgAAADvBKHdCAADAoBMpd0IAAIAGZil3QgAAQGy4KXdCAAAA0goqd0IAAMA3XSp3QgAAgJ2vKndCAABAAwIrd0IAAABpVCt3QgAAwM6mK3dCAACANPkrd0IAAECaSyx3QgAAAACeLHdCAADAZfAsd0IAAIDLQi13QgAAQDGVLXdCAAAAl+ctd0I=\",\"dtype\":\"float64\",\"shape\":[121]},\"y\":[1,1,3,45,46,50,83,149,160,276,414,523,589,622,724,1004,1045,1258,1439,1966,2335,2749,2941,4025,4440,5129,6072,7024,7432,8326,9362,10361,10950,12384,13030,14620,15729,16847,18278,19758,20996,21815,22837,24392,26491,28470,30455,32534,34211,35435,37130,38092,40164,42727,44927,47055,48877,51600,54543,57576,60498,63120,64928,66624,68941,71252,75945,78249,79914,81654,82879,85231,93245,96276,99023,103031,105186,106587,109039,112541,115288,120205,122810,125176,127326,129401,132282,134560,136720,138840,140479,141981,144658,147101,150604,152844,155633,157507,158355,160092,160938,161895,163781,165078,165837,166584,168646,169939,171338,173085,174865,176370,177010,178526,179455,180544,181907,182453,182893,183426,184585]},\"selected\":{\"id\":\"2842\"},\"selection_policy\":{\"id\":\"2843\"}},\"id\":\"2727\",\"type\":\"ColumnDataSource\"},{\"attributes\":{},\"id\":\"2764\",\"type\":\"NumeralTickFormatter\"},{\"attributes\":{},\"id\":\"2683\",\"type\":\"PanTool\"},{\"attributes\":{\"axis_label\":\"Date\",\"formatter\":{\"id\":\"2760\"},\"major_label_orientation\":0.7853981633974483,\"minor_tick_in\":-5,\"minor_tick_out\":-3,\"ticker\":{\"id\":\"2676\"}},\"id\":\"2675\",\"type\":\"DatetimeAxis\"},{\"attributes\":{},\"id\":\"2845\",\"type\":\"UnionRenderers\"},{\"attributes\":{},\"id\":\"2684\",\"type\":\"WheelZoomTool\"}],\"root_ids\":[\"2664\"]},\"title\":\"Bokeh Application\",\"version\":\"2.0.2\"}};\n",
       "  var render_items = [{\"docid\":\"86f1d5ee-f48c-4e41-ba2a-cf0f36eb0a7d\",\"root_ids\":[\"2664\"],\"roots\":{\"2664\":\"dcc054a2-6759-4242-b0b3-7d2917dc8c77\"}}];\n",
       "  root.Bokeh.embed.embed_items_notebook(docs_json, render_items);\n",
       "\n",
       "  }\n",
       "  if (root.Bokeh !== undefined) {\n",
       "    embed_document(root);\n",
       "  } else {\n",
       "    var attempts = 0;\n",
       "    var timer = setInterval(function(root) {\n",
       "      if (root.Bokeh !== undefined) {\n",
       "        clearInterval(timer);\n",
       "        embed_document(root);\n",
       "      } else {\n",
       "        attempts++;\n",
       "        if (attempts > 100) {\n",
       "          clearInterval(timer);\n",
       "          console.log(\"Bokeh: ERROR: Unable to run BokehJS code because BokehJS library is missing\");\n",
       "        }\n",
       "      }\n",
       "    }, 10, root)\n",
       "  }\n",
       "})(window);"
      ],
      "application/vnd.bokehjs_exec.v0+json": ""
     },
     "metadata": {
      "application/vnd.bokehjs_exec.v0+json": {
       "id": "2664"
      }
     },
     "output_type": "display_data"
    }
   ],
   "source": [
    "p_deaths_recovered_Italy = bokeh_plot_2_lines(x=time_date_new, y=deceduti_italy, yy=guariti_italy, \n",
    "                  title='Deaths vs Recovered: Italy', \n",
    "                  file_name=\"deaths_recovered_Italy.html\", \n",
    "                  x_label='Date', y_label='Deaths & Recovered', \n",
    "                  legend_1='deaths', legend_2='recovered',\n",
    "                  x_label_hover='date' , y_label_hover='deaths OR recovered' , \n",
    "                  color_1='darkviolet', color_2='green', y_minmax=None)\n",
    "\n",
    "show(p_deaths_recovered_Italy)"
   ]
  },
  {
   "cell_type": "markdown",
   "metadata": {},
   "source": [
    "------------------\n",
    "\n",
    "### New Deaths"
   ]
  },
  {
   "cell_type": "code",
   "execution_count": 22,
   "metadata": {},
   "outputs": [
    {
     "data": {
      "text/plain": [
       "121"
      ]
     },
     "execution_count": 22,
     "metadata": {},
     "output_type": "execute_result"
    }
   ],
   "source": [
    "len(deceduti_italy)\n",
    "    "
   ]
  },
  {
   "cell_type": "code",
   "execution_count": 23,
   "metadata": {},
   "outputs": [],
   "source": [
    "nuovi_deceduti = [0]\n",
    "i = 0\n",
    "while (i < len(deceduti_italy)-1):\n",
    "#     print(deceduti_italy.iloc[i + 1] - deceduti_italy.iloc[i])\n",
    "    temp = deceduti_italy.iloc[i + 1] - deceduti_italy.iloc[i]\n",
    "    nuovi_deceduti.append(temp)\n",
    "    i = i + 1"
   ]
  },
  {
   "cell_type": "code",
   "execution_count": 24,
   "metadata": {},
   "outputs": [
    {
     "data": {
      "text/html": [
       "\n",
       "\n",
       "\n",
       "\n",
       "\n",
       "\n",
       "  <div class=\"bk-root\" id=\"4495c4ec-37af-4cd4-91cf-deef467316ca\" data-root-id=\"3316\"></div>\n"
      ]
     },
     "metadata": {},
     "output_type": "display_data"
    },
    {
     "data": {
      "application/javascript": [
       "(function(root) {\n",
       "  function embed_document(root) {\n",
       "    \n",
       "  var docs_json = {\"b93a2bb2-6052-4c4d-a09a-602bb3d4fed7\":{\"roots\":{\"references\":[{\"attributes\":{\"below\":[{\"id\":\"3327\"}],\"center\":[{\"id\":\"3330\"},{\"id\":\"3334\"},{\"id\":\"3372\"}],\"left\":[{\"id\":\"3331\"}],\"plot_height\":450,\"renderers\":[{\"id\":\"3352\"},{\"id\":\"3377\"}],\"title\":{\"id\":\"3317\"},\"toolbar\":{\"id\":\"3342\"},\"x_range\":{\"id\":\"3319\"},\"x_scale\":{\"id\":\"3323\"},\"y_range\":{\"id\":\"3321\"},\"y_scale\":{\"id\":\"3325\"}},\"id\":\"3316\",\"subtype\":\"Figure\",\"type\":\"Plot\"},{\"attributes\":{\"fill_color\":{\"value\":\"white\"},\"line_color\":{\"value\":\"darkviolet\"},\"size\":{\"units\":\"screen\",\"value\":6},\"x\":{\"field\":\"x\"},\"y\":{\"field\":\"y\"}},\"id\":\"3375\",\"type\":\"Circle\"},{\"attributes\":{\"days\":[\"%d %B\"]},\"id\":\"3379\",\"type\":\"DatetimeTickFormatter\"},{\"attributes\":{\"callback\":null,\"formatters\":{\"@x\":\"datetime\"},\"mode\":\"vline\",\"tooltips\":[[\"date\",\"@x{%d %B}\"],[\"new deaths\",\"@y{0.}\"]]},\"id\":\"3384\",\"type\":\"HoverTool\"},{\"attributes\":{\"months\":[0,2,4,6,8,10]},\"id\":\"3367\",\"type\":\"MonthsTicker\"},{\"attributes\":{\"data_source\":{\"id\":\"3349\"},\"glyph\":{\"id\":\"3350\"},\"hover_glyph\":null,\"muted_glyph\":null,\"nonselection_glyph\":{\"id\":\"3351\"},\"selection_glyph\":null,\"view\":{\"id\":\"3353\"}},\"id\":\"3352\",\"type\":\"GlyphRenderer\"},{\"attributes\":{\"source\":{\"id\":\"3349\"}},\"id\":\"3353\",\"type\":\"CDSView\"},{\"attributes\":{\"days\":[1,8,15,22]},\"id\":\"3364\",\"type\":\"DaysTicker\"},{\"attributes\":{\"line_color\":\"darkviolet\",\"line_width\":4,\"x\":{\"field\":\"x\"},\"y\":{\"field\":\"y\"}},\"id\":\"3350\",\"type\":\"Line\"},{\"attributes\":{\"months\":[0,4,8]},\"id\":\"3368\",\"type\":\"MonthsTicker\"},{\"attributes\":{\"axis_label\":\"New Deaths\",\"formatter\":{\"id\":\"3383\"},\"minor_tick_in\":-5,\"minor_tick_out\":-3,\"ticker\":{\"id\":\"3332\"}},\"id\":\"3331\",\"type\":\"LinearAxis\"},{\"attributes\":{\"fill_alpha\":{\"value\":0.1},\"fill_color\":{\"value\":\"white\"},\"line_alpha\":{\"value\":0.1},\"line_color\":{\"value\":\"darkviolet\"},\"size\":{\"units\":\"screen\",\"value\":6},\"x\":{\"field\":\"x\"},\"y\":{\"field\":\"y\"}},\"id\":\"3376\",\"type\":\"Circle\"},{\"attributes\":{\"base\":60,\"mantissas\":[1,2,5,10,15,20,30],\"max_interval\":1800000.0,\"min_interval\":1000.0,\"num_minor_ticks\":0},\"id\":\"3360\",\"type\":\"AdaptiveTicker\"},{\"attributes\":{\"items\":[{\"id\":\"3373\"}],\"location\":\"top_left\"},\"id\":\"3372\",\"type\":\"Legend\"},{\"attributes\":{},\"id\":\"3339\",\"type\":\"ResetTool\"},{\"attributes\":{},\"id\":\"3482\",\"type\":\"UnionRenderers\"},{\"attributes\":{\"base\":24,\"mantissas\":[1,2,4,6,8,12],\"max_interval\":43200000.0,\"min_interval\":3600000.0,\"num_minor_ticks\":0},\"id\":\"3361\",\"type\":\"AdaptiveTicker\"},{\"attributes\":{\"text\":\"New Deaths: Italy\"},\"id\":\"3317\",\"type\":\"Title\"},{\"attributes\":{},\"id\":\"3335\",\"type\":\"PanTool\"},{\"attributes\":{\"bottom_units\":\"screen\",\"fill_alpha\":0.5,\"fill_color\":\"lightgrey\",\"left_units\":\"screen\",\"level\":\"overlay\",\"line_alpha\":1.0,\"line_color\":\"black\",\"line_dash\":[4,4],\"line_width\":2,\"render_mode\":\"css\",\"right_units\":\"screen\",\"top_units\":\"screen\"},\"id\":\"3341\",\"type\":\"BoxAnnotation\"},{\"attributes\":{},\"id\":\"3484\",\"type\":\"UnionRenderers\"},{\"attributes\":{\"data_source\":{\"id\":\"3374\"},\"glyph\":{\"id\":\"3375\"},\"hover_glyph\":null,\"muted_glyph\":null,\"nonselection_glyph\":{\"id\":\"3376\"},\"selection_glyph\":null,\"view\":{\"id\":\"3378\"}},\"id\":\"3377\",\"type\":\"GlyphRenderer\"},{\"attributes\":{\"days\":[1,4,7,10,13,16,19,22,25,28]},\"id\":\"3363\",\"type\":\"DaysTicker\"},{\"attributes\":{\"axis_label\":\"Date\",\"formatter\":{\"id\":\"3379\"},\"major_label_orientation\":0.7853981633974483,\"minor_tick_in\":-5,\"minor_tick_out\":-3,\"ticker\":{\"id\":\"3328\"}},\"id\":\"3327\",\"type\":\"DatetimeAxis\"},{\"attributes\":{\"days\":[1,15]},\"id\":\"3365\",\"type\":\"DaysTicker\"},{\"attributes\":{},\"id\":\"3336\",\"type\":\"WheelZoomTool\"},{\"attributes\":{},\"id\":\"3340\",\"type\":\"HelpTool\"},{\"attributes\":{},\"id\":\"3370\",\"type\":\"YearsTicker\"},{\"attributes\":{},\"id\":\"3319\",\"type\":\"DataRange1d\"},{\"attributes\":{\"num_minor_ticks\":5,\"tickers\":[{\"id\":\"3359\"},{\"id\":\"3360\"},{\"id\":\"3361\"},{\"id\":\"3362\"},{\"id\":\"3363\"},{\"id\":\"3364\"},{\"id\":\"3365\"},{\"id\":\"3366\"},{\"id\":\"3367\"},{\"id\":\"3368\"},{\"id\":\"3369\"},{\"id\":\"3370\"}]},\"id\":\"3328\",\"type\":\"DatetimeTicker\"},{\"attributes\":{\"label\":{\"value\":\"new deaths\"},\"renderers\":[{\"id\":\"3352\"}]},\"id\":\"3373\",\"type\":\"LegendItem\"},{\"attributes\":{},\"id\":\"3321\",\"type\":\"DataRange1d\"},{\"attributes\":{\"days\":[1,2,3,4,5,6,7,8,9,10,11,12,13,14,15,16,17,18,19,20,21,22,23,24,25,26,27,28,29,30,31]},\"id\":\"3362\",\"type\":\"DaysTicker\"},{\"attributes\":{},\"id\":\"3323\",\"type\":\"LinearScale\"},{\"attributes\":{},\"id\":\"3383\",\"type\":\"NumeralTickFormatter\"},{\"attributes\":{\"source\":{\"id\":\"3374\"}},\"id\":\"3378\",\"type\":\"CDSView\"},{\"attributes\":{\"overlay\":{\"id\":\"3341\"}},\"id\":\"3337\",\"type\":\"BoxZoomTool\"},{\"attributes\":{\"months\":[0,1,2,3,4,5,6,7,8,9,10,11]},\"id\":\"3366\",\"type\":\"MonthsTicker\"},{\"attributes\":{\"axis\":{\"id\":\"3327\"},\"ticker\":null},\"id\":\"3330\",\"type\":\"Grid\"},{\"attributes\":{\"data\":{\"x\":{\"__ndarray__\":\"AAAA5UcHd0IAAMBKmgd3QgAAgLDsB3dCAABAFj8Id0IAAAB8kQh3QgAAwOHjCHdCAACARzYJd0IAAECtiAl3QgAAABPbCXdCAADAeC0Kd0IAAIDefwp3QgAAQETSCndCAAAAqiQLd0IAAMAPdwt3QgAAgHXJC3dCAABA2xsMd0IAAABBbgx3QgAAwKbADHdCAACADBMNd0IAAEByZQ13QgAAANi3DXdCAADAPQoOd0IAAICjXA53QgAAQAmvDndCAAAAbwEPd0IAAMDUUw93QgAAgDqmD3dCAABAoPgPd0IAAAAGSxB3QgAAwGudEHdCAACA0e8Qd0IAAEA3QhF3QgAAAJ2UEXdCAADAAucRd0IAAIBoORJ3QgAAQM6LEndCAAAANN4Sd0IAAMCZMBN3QgAAgP+CE3dCAABAZdUTd0IAAADLJxR3QgAAwDB6FHdCAACAlswUd0IAAED8HhV3QgAAAGJxFXdCAADAx8MVd0IAAIAtFhZ3QgAAQJNoFndCAAAA+boWd0IAAMBeDRd3QgAAgMRfF3dCAABAKrIXd0IAAACQBBh3QgAAwPVWGHdCAACAW6kYd0IAAEDB+xh3QgAAACdOGXdCAADAjKAZd0IAAIDy8hl3QgAAQFhFGndCAAAAvpcad0IAAMAj6hp3QgAAgIk8G3dCAABA744bd0IAAABV4Rt3QgAAwLozHHdCAACAIIYcd0IAAECG2Bx3QgAAAOwqHXdCAADAUX0dd0IAAIC3zx13QgAAQB0iHndCAAAAg3Qed0IAAMDoxh53QgAAgE4ZH3dCAABAtGsfd0IAAAAavh93QgAAwH8QIHdCAACA5WIgd0IAAEBLtSB3QgAAALEHIXdCAADAFlohd0IAAIB8rCF3QgAAQOL+IXdCAAAASFEid0IAAMCtoyJ3QgAAgBP2IndCAABAeUgjd0IAAADfmiN3QgAAwETtI3dCAACAqj8kd0IAAEAQkiR3QgAAAHbkJHdCAADA2zYld0IAAIBBiSV3QgAAQKfbJXdCAAAADS4md0IAAMBygCZ3QgAAgNjSJndCAABAPiUnd0IAAACkdyd3QgAAwAnKJ3dCAACAbxwod0IAAEDVbih3QgAAADvBKHdCAADAoBMpd0IAAIAGZil3QgAAQGy4KXdCAAAA0goqd0IAAMA3XSp3QgAAgJ2vKndCAABAAwIrd0IAAABpVCt3QgAAwM6mK3dCAACANPkrd0IAAECaSyx3QgAAAACeLHdCAADAZfAsd0IAAIDLQi13QgAAQDGVLXdCAAAAl+ctd0I=\",\"dtype\":\"float64\",\"shape\":[121]},\"y\":[0,3,2,5,4,8,5,18,27,28,41,49,36,133,97,168,196,189,250,175,368,349,345,475,427,627,793,651,601,743,683,662,969,889,756,812,837,727,760,766,681,525,636,604,542,610,570,619,431,566,602,578,525,575,482,433,454,534,437,464,420,415,260,333,382,323,285,269,474,174,195,236,369,274,243,194,165,179,172,195,262,242,153,145,99,162,161,156,130,119,50,92,78,117,70,87,111,75,60,55,71,88,85,72,53,65,79,71,53,56,78,44,26,34,43,66,47,49,24,23,18]},\"selected\":{\"id\":\"3483\"},\"selection_policy\":{\"id\":\"3484\"}},\"id\":\"3374\",\"type\":\"ColumnDataSource\"},{\"attributes\":{\"mantissas\":[1,2,5],\"max_interval\":500.0,\"num_minor_ticks\":0},\"id\":\"3359\",\"type\":\"AdaptiveTicker\"},{\"attributes\":{\"line_alpha\":0.1,\"line_color\":\"darkviolet\",\"line_width\":4,\"x\":{\"field\":\"x\"},\"y\":{\"field\":\"y\"}},\"id\":\"3351\",\"type\":\"Line\"},{\"attributes\":{},\"id\":\"3483\",\"type\":\"Selection\"},{\"attributes\":{\"months\":[0,6]},\"id\":\"3369\",\"type\":\"MonthsTicker\"},{\"attributes\":{},\"id\":\"3332\",\"type\":\"BasicTicker\"},{\"attributes\":{},\"id\":\"3338\",\"type\":\"SaveTool\"},{\"attributes\":{\"active_drag\":\"auto\",\"active_inspect\":\"auto\",\"active_multi\":null,\"active_scroll\":\"auto\",\"active_tap\":\"auto\",\"tools\":[{\"id\":\"3335\"},{\"id\":\"3336\"},{\"id\":\"3337\"},{\"id\":\"3338\"},{\"id\":\"3339\"},{\"id\":\"3340\"},{\"id\":\"3384\"}]},\"id\":\"3342\",\"type\":\"Toolbar\"},{\"attributes\":{},\"id\":\"3325\",\"type\":\"LinearScale\"},{\"attributes\":{},\"id\":\"3481\",\"type\":\"Selection\"},{\"attributes\":{\"data\":{\"x\":{\"__ndarray__\":\"AAAA5UcHd0IAAMBKmgd3QgAAgLDsB3dCAABAFj8Id0IAAAB8kQh3QgAAwOHjCHdCAACARzYJd0IAAECtiAl3QgAAABPbCXdCAADAeC0Kd0IAAIDefwp3QgAAQETSCndCAAAAqiQLd0IAAMAPdwt3QgAAgHXJC3dCAABA2xsMd0IAAABBbgx3QgAAwKbADHdCAACADBMNd0IAAEByZQ13QgAAANi3DXdCAADAPQoOd0IAAICjXA53QgAAQAmvDndCAAAAbwEPd0IAAMDUUw93QgAAgDqmD3dCAABAoPgPd0IAAAAGSxB3QgAAwGudEHdCAACA0e8Qd0IAAEA3QhF3QgAAAJ2UEXdCAADAAucRd0IAAIBoORJ3QgAAQM6LEndCAAAANN4Sd0IAAMCZMBN3QgAAgP+CE3dCAABAZdUTd0IAAADLJxR3QgAAwDB6FHdCAACAlswUd0IAAED8HhV3QgAAAGJxFXdCAADAx8MVd0IAAIAtFhZ3QgAAQJNoFndCAAAA+boWd0IAAMBeDRd3QgAAgMRfF3dCAABAKrIXd0IAAACQBBh3QgAAwPVWGHdCAACAW6kYd0IAAEDB+xh3QgAAACdOGXdCAADAjKAZd0IAAIDy8hl3QgAAQFhFGndCAAAAvpcad0IAAMAj6hp3QgAAgIk8G3dCAABA744bd0IAAABV4Rt3QgAAwLozHHdCAACAIIYcd0IAAECG2Bx3QgAAAOwqHXdCAADAUX0dd0IAAIC3zx13QgAAQB0iHndCAAAAg3Qed0IAAMDoxh53QgAAgE4ZH3dCAABAtGsfd0IAAAAavh93QgAAwH8QIHdCAACA5WIgd0IAAEBLtSB3QgAAALEHIXdCAADAFlohd0IAAIB8rCF3QgAAQOL+IXdCAAAASFEid0IAAMCtoyJ3QgAAgBP2IndCAABAeUgjd0IAAADfmiN3QgAAwETtI3dCAACAqj8kd0IAAEAQkiR3QgAAAHbkJHdCAADA2zYld0IAAIBBiSV3QgAAQKfbJXdCAAAADS4md0IAAMBygCZ3QgAAgNjSJndCAABAPiUnd0IAAACkdyd3QgAAwAnKJ3dCAACAbxwod0IAAEDVbih3QgAAADvBKHdCAADAoBMpd0IAAIAGZil3QgAAQGy4KXdCAAAA0goqd0IAAMA3XSp3QgAAgJ2vKndCAABAAwIrd0IAAABpVCt3QgAAwM6mK3dCAACANPkrd0IAAECaSyx3QgAAAACeLHdCAADAZfAsd0IAAIDLQi13QgAAQDGVLXdCAAAAl+ctd0I=\",\"dtype\":\"float64\",\"shape\":[121]},\"y\":[0,3,2,5,4,8,5,18,27,28,41,49,36,133,97,168,196,189,250,175,368,349,345,475,427,627,793,651,601,743,683,662,969,889,756,812,837,727,760,766,681,525,636,604,542,610,570,619,431,566,602,578,525,575,482,433,454,534,437,464,420,415,260,333,382,323,285,269,474,174,195,236,369,274,243,194,165,179,172,195,262,242,153,145,99,162,161,156,130,119,50,92,78,117,70,87,111,75,60,55,71,88,85,72,53,65,79,71,53,56,78,44,26,34,43,66,47,49,24,23,18]},\"selected\":{\"id\":\"3481\"},\"selection_policy\":{\"id\":\"3482\"}},\"id\":\"3349\",\"type\":\"ColumnDataSource\"},{\"attributes\":{\"axis\":{\"id\":\"3331\"},\"dimension\":1,\"ticker\":null},\"id\":\"3334\",\"type\":\"Grid\"}],\"root_ids\":[\"3316\"]},\"title\":\"Bokeh Application\",\"version\":\"2.0.2\"}};\n",
       "  var render_items = [{\"docid\":\"b93a2bb2-6052-4c4d-a09a-602bb3d4fed7\",\"root_ids\":[\"3316\"],\"roots\":{\"3316\":\"4495c4ec-37af-4cd4-91cf-deef467316ca\"}}];\n",
       "  root.Bokeh.embed.embed_items_notebook(docs_json, render_items);\n",
       "\n",
       "  }\n",
       "  if (root.Bokeh !== undefined) {\n",
       "    embed_document(root);\n",
       "  } else {\n",
       "    var attempts = 0;\n",
       "    var timer = setInterval(function(root) {\n",
       "      if (root.Bokeh !== undefined) {\n",
       "        clearInterval(timer);\n",
       "        embed_document(root);\n",
       "      } else {\n",
       "        attempts++;\n",
       "        if (attempts > 100) {\n",
       "          clearInterval(timer);\n",
       "          console.log(\"Bokeh: ERROR: Unable to run BokehJS code because BokehJS library is missing\");\n",
       "        }\n",
       "      }\n",
       "    }, 10, root)\n",
       "  }\n",
       "})(window);"
      ],
      "application/vnd.bokehjs_exec.v0+json": ""
     },
     "metadata": {
      "application/vnd.bokehjs_exec.v0+json": {
       "id": "3316"
      }
     },
     "output_type": "display_data"
    }
   ],
   "source": [
    "p_new_deaths_Italy = bokeh_plot_1_line(x=time_date_new, y=nuovi_deceduti, \n",
    "                  title='New Deaths: Italy', \n",
    "                  file_name=\"new_deaths_Italy.html\", \n",
    "                  x_label='Date', \n",
    "                  y_label='New Deaths', legend='new deaths',\n",
    "                  x_label_hover='date', y_label_hover='new deaths',\n",
    "                  color='darkviolet', y_minmax=None)\n",
    "\n",
    "show(p_new_deaths_Italy)"
   ]
  },
  {
   "cell_type": "code",
   "execution_count": 25,
   "metadata": {},
   "outputs": [],
   "source": [
    "nuovi_deceduti_df = pd.DataFrame(nuovi_deceduti)\n",
    "\n",
    "SMA_new_deaths = nuovi_deceduti_df[:].rolling(window=7).mean()\n",
    "SMA_new_deaths_2 = nuovi_deceduti_df[:].rolling(window=10).mean()"
   ]
  },
  {
   "cell_type": "code",
   "execution_count": 26,
   "metadata": {},
   "outputs": [
    {
     "data": {
      "text/html": [
       "<div>\n",
       "<style scoped>\n",
       "    .dataframe tbody tr th:only-of-type {\n",
       "        vertical-align: middle;\n",
       "    }\n",
       "\n",
       "    .dataframe tbody tr th {\n",
       "        vertical-align: top;\n",
       "    }\n",
       "\n",
       "    .dataframe thead th {\n",
       "        text-align: right;\n",
       "    }\n",
       "</style>\n",
       "<table border=\"1\" class=\"dataframe\">\n",
       "  <thead>\n",
       "    <tr style=\"text-align: right;\">\n",
       "      <th></th>\n",
       "      <th>0</th>\n",
       "    </tr>\n",
       "  </thead>\n",
       "  <tbody>\n",
       "    <tr>\n",
       "      <th>0</th>\n",
       "      <td>NaN</td>\n",
       "    </tr>\n",
       "    <tr>\n",
       "      <th>1</th>\n",
       "      <td>NaN</td>\n",
       "    </tr>\n",
       "    <tr>\n",
       "      <th>2</th>\n",
       "      <td>NaN</td>\n",
       "    </tr>\n",
       "    <tr>\n",
       "      <th>3</th>\n",
       "      <td>NaN</td>\n",
       "    </tr>\n",
       "    <tr>\n",
       "      <th>4</th>\n",
       "      <td>NaN</td>\n",
       "    </tr>\n",
       "  </tbody>\n",
       "</table>\n",
       "</div>"
      ],
      "text/plain": [
       "    0\n",
       "0 NaN\n",
       "1 NaN\n",
       "2 NaN\n",
       "3 NaN\n",
       "4 NaN"
      ]
     },
     "execution_count": 26,
     "metadata": {},
     "output_type": "execute_result"
    }
   ],
   "source": [
    "SMA_new_deaths.head()"
   ]
  },
  {
   "cell_type": "code",
   "execution_count": 27,
   "metadata": {},
   "outputs": [
    {
     "data": {
      "text/html": [
       "\n",
       "\n",
       "\n",
       "\n",
       "\n",
       "\n",
       "  <div class=\"bk-root\" id=\"4a283ba9-6570-4684-9c17-139468817008\" data-root-id=\"3879\"></div>\n"
      ]
     },
     "metadata": {},
     "output_type": "display_data"
    },
    {
     "data": {
      "application/javascript": [
       "(function(root) {\n",
       "  function embed_document(root) {\n",
       "    \n",
       "  var docs_json = {\"5e2c0130-0532-47b6-a6f7-583bb6fb4997\":{\"roots\":{\"references\":[{\"attributes\":{\"below\":[{\"id\":\"3890\"}],\"center\":[{\"id\":\"3893\"},{\"id\":\"3897\"},{\"id\":\"3935\"}],\"left\":[{\"id\":\"3894\"}],\"plot_height\":450,\"renderers\":[{\"id\":\"3915\"},{\"id\":\"3940\"},{\"id\":\"3945\"},{\"id\":\"3973\"}],\"title\":{\"id\":\"3880\"},\"toolbar\":{\"id\":\"3905\"},\"x_range\":{\"id\":\"3882\"},\"x_scale\":{\"id\":\"3886\"},\"y_range\":{\"id\":\"3884\"},\"y_scale\":{\"id\":\"3888\"}},\"id\":\"3879\",\"subtype\":\"Figure\",\"type\":\"Plot\"},{\"attributes\":{\"data_source\":{\"id\":\"3970\"},\"glyph\":{\"id\":\"3971\"},\"hover_glyph\":null,\"muted_glyph\":null,\"nonselection_glyph\":{\"id\":\"3972\"},\"selection_glyph\":null,\"view\":{\"id\":\"3974\"}},\"id\":\"3973\",\"type\":\"GlyphRenderer\"},{\"attributes\":{\"axis_label\":\"New Deaths\",\"formatter\":{\"id\":\"3979\"},\"minor_tick_in\":-5,\"minor_tick_out\":-3,\"ticker\":{\"id\":\"3895\"}},\"id\":\"3894\",\"type\":\"LinearAxis\"},{\"attributes\":{\"fill_alpha\":{\"value\":0.1},\"fill_color\":{\"value\":\"white\"},\"line_alpha\":{\"value\":0.1},\"line_color\":{\"value\":\"darkviolet\"},\"size\":{\"units\":\"screen\",\"value\":6},\"x\":{\"field\":\"x\"},\"y\":{\"field\":\"y\"}},\"id\":\"3939\",\"type\":\"Circle\"},{\"attributes\":{},\"id\":\"3898\",\"type\":\"PanTool\"},{\"attributes\":{\"data\":{\"x\":{\"__ndarray__\":\"AAAA5UcHd0IAAMBKmgd3QgAAgLDsB3dCAABAFj8Id0IAAAB8kQh3QgAAwOHjCHdCAACARzYJd0IAAECtiAl3QgAAABPbCXdCAADAeC0Kd0IAAIDefwp3QgAAQETSCndCAAAAqiQLd0IAAMAPdwt3QgAAgHXJC3dCAABA2xsMd0IAAABBbgx3QgAAwKbADHdCAACADBMNd0IAAEByZQ13QgAAANi3DXdCAADAPQoOd0IAAICjXA53QgAAQAmvDndCAAAAbwEPd0IAAMDUUw93QgAAgDqmD3dCAABAoPgPd0IAAAAGSxB3QgAAwGudEHdCAACA0e8Qd0IAAEA3QhF3QgAAAJ2UEXdCAADAAucRd0IAAIBoORJ3QgAAQM6LEndCAAAANN4Sd0IAAMCZMBN3QgAAgP+CE3dCAABAZdUTd0IAAADLJxR3QgAAwDB6FHdCAACAlswUd0IAAED8HhV3QgAAAGJxFXdCAADAx8MVd0IAAIAtFhZ3QgAAQJNoFndCAAAA+boWd0IAAMBeDRd3QgAAgMRfF3dCAABAKrIXd0IAAACQBBh3QgAAwPVWGHdCAACAW6kYd0IAAEDB+xh3QgAAACdOGXdCAADAjKAZd0IAAIDy8hl3QgAAQFhFGndCAAAAvpcad0IAAMAj6hp3QgAAgIk8G3dCAABA744bd0IAAABV4Rt3QgAAwLozHHdCAACAIIYcd0IAAECG2Bx3QgAAAOwqHXdCAADAUX0dd0IAAIC3zx13QgAAQB0iHndCAAAAg3Qed0IAAMDoxh53QgAAgE4ZH3dCAABAtGsfd0IAAAAavh93QgAAwH8QIHdCAACA5WIgd0IAAEBLtSB3QgAAALEHIXdCAADAFlohd0IAAIB8rCF3QgAAQOL+IXdCAAAASFEid0IAAMCtoyJ3QgAAgBP2IndCAABAeUgjd0IAAADfmiN3QgAAwETtI3dCAACAqj8kd0IAAEAQkiR3QgAAAHbkJHdCAADA2zYld0IAAIBBiSV3QgAAQKfbJXdCAAAADS4md0IAAMBygCZ3QgAAgNjSJndCAABAPiUnd0IAAACkdyd3QgAAwAnKJ3dCAACAbxwod0IAAEDVbih3QgAAADvBKHdCAADAoBMpd0IAAIAGZil3QgAAQGy4KXdCAAAA0goqd0IAAMA3XSp3QgAAgJ2vKndCAABAAwIrd0IAAABpVCt3QgAAwM6mK3dCAACANPkrd0IAAECaSyx3QgAAAACeLHdCAADAZfAsd0IAAIDLQi13QgAAQDGVLXdCAAAAl+ctd0I=\",\"dtype\":\"float64\",\"shape\":[121]},\"y\":{\"__ndarray__\":\"AAAAAAAA+H8AAAAAAAD4fwAAAAAAAPh/AAAAAAAA+H8AAAAAAAD4fwAAAAAAAPh/t23btm3bDkBu27Zt27YZQG7btm3btiNASZIkSZIkK0Bu27Zt27YyQEmSJEmSJDlASZIkSZIkPUBu27Zt27ZHQLdt27ZtW01Abtu2bdu2U0Bu27Zt27ZZQAAAAAAAAF9Abtu2bdsWY0AlSZIkSZJlQEmSJEmSxGlASZIkSZJEbkBu27Zt27ZwQEmSJEmSNHNASZIkSZJUdUAlSZIkSbJ4QG7btm3bNn5Abtu2bdtegEBu27Zt236BQNu2bdu2RYNAt23btm0zhEAAAAAAAECFQG7btm3bxoZASZIkSZI0h0BJkiRJkqyHQNu2bdu2nYhAkiRJkiQJiUC3bdu2bTuJQLdt27Ztq4lAt23btm3DiEDbtm3bttWHQNu2bdu2zYZASZIkSZIEhkAlSZIkSfqEQG7btm3bJoRAt23btm17g0C3bdu2bZuCQEmSJEmSVIJAkiRJkiTpgUCSJEmSJJmBQG7btm3bloFAAAAAAADAgUBu27Zt216BQEmSJEmSZIFAAAAAAADIgEAlSZIkScqAQCVJkiRJSoBAkiRJkiT5f0Bu27Zt27Z+QLdt27ZtK35AkiRJkiTJfEAAAAAAADB8QEmSJEmSpHpAAAAAAACQeUBJkiRJkjR4QAAAAAAAMHdAbtu2bduWdUDbtm3btj10QEmSJEmSxHRAAAAAAAAAdEBJkiRJksRyQG7btm3bdnFAAAAAAADgcUBu27Zt28ZxQLdt27Zti3FAbtu2bdsWbkDbtm3btu1tQEmSJEmSpG1AAAAAAACAbEBJkiRJkmRpQNu2bdu2LWlAkiRJkiQpaUDbtm3btm1oQCVJkiRJEmhASZIkSZKkZkBu27Zt23ZmQLdt27Zt22VAbtu2bdv2Y0Bu27Zt2/ZhQLdt27ZtW2FAJUmSJElSX0AlSZIkSRJfQCVJkiRJElxAAAAAAACAWkDbtm3btm1XQEmSJEmS5FVAt23btm2bVUAAAAAAAIBWQLdt27ZtW1VAkiRJkiSJVEBJkiRJkuRSQJIkSZIkiVNAbtu2bdt2U0AlSZIkSRJSQJIkSZIkSVFAbtu2bdt2UUAlSZIkSVJSQCVJkiRJUlJAJUmSJEkSUUCSJEmSJAlQQAAAAAAAQFBAt23btm3bT0AlSZIkSRJNQLdt27Zt20lAt23btm3bR0CSJEmSJMlIQEmSJEmSJEhAJUmSJEkSRkBJkiRJkqREQNu2bdu2bURAkiRJkiRJQ0A=\",\"dtype\":\"float64\",\"shape\":[121]}},\"selected\":{\"id\":\"4103\"},\"selection_policy\":{\"id\":\"4104\"}},\"id\":\"3970\",\"type\":\"ColumnDataSource\"},{\"attributes\":{},\"id\":\"4104\",\"type\":\"UnionRenderers\"},{\"attributes\":{\"line_color\":\"lightblue\",\"line_width\":4,\"x\":{\"field\":\"x\"},\"y\":{\"field\":\"y\"}},\"id\":\"3943\",\"type\":\"Line\"},{\"attributes\":{\"base\":24,\"mantissas\":[1,2,4,6,8,12],\"max_interval\":43200000.0,\"min_interval\":3600000.0,\"num_minor_ticks\":0},\"id\":\"3924\",\"type\":\"AdaptiveTicker\"},{\"attributes\":{\"data_source\":{\"id\":\"3937\"},\"glyph\":{\"id\":\"3938\"},\"hover_glyph\":null,\"muted_glyph\":null,\"nonselection_glyph\":{\"id\":\"3939\"},\"selection_glyph\":null,\"view\":{\"id\":\"3941\"}},\"id\":\"3940\",\"type\":\"GlyphRenderer\"},{\"attributes\":{},\"id\":\"3886\",\"type\":\"LinearScale\"},{\"attributes\":{\"base\":60,\"mantissas\":[1,2,5,10,15,20,30],\"max_interval\":1800000.0,\"min_interval\":1000.0,\"num_minor_ticks\":0},\"id\":\"3923\",\"type\":\"AdaptiveTicker\"},{\"attributes\":{},\"id\":\"3895\",\"type\":\"BasicTicker\"},{\"attributes\":{},\"id\":\"3902\",\"type\":\"ResetTool\"},{\"attributes\":{},\"id\":\"3952\",\"type\":\"Selection\"},{\"attributes\":{\"line_alpha\":0.1,\"line_color\":\"darkviolet\",\"line_width\":4,\"x\":{\"field\":\"x\"},\"y\":{\"field\":\"y\"}},\"id\":\"3914\",\"type\":\"Line\"},{\"attributes\":{\"data_source\":{\"id\":\"3942\"},\"glyph\":{\"id\":\"3943\"},\"hover_glyph\":null,\"muted_glyph\":null,\"nonselection_glyph\":{\"id\":\"3944\"},\"selection_glyph\":null,\"view\":{\"id\":\"3946\"}},\"id\":\"3945\",\"type\":\"GlyphRenderer\"},{\"attributes\":{\"source\":{\"id\":\"3942\"}},\"id\":\"3946\",\"type\":\"CDSView\"},{\"attributes\":{\"active_drag\":\"auto\",\"active_inspect\":\"auto\",\"active_multi\":null,\"active_scroll\":\"auto\",\"active_tap\":\"auto\",\"tools\":[{\"id\":\"3898\"},{\"id\":\"3899\"},{\"id\":\"3900\"},{\"id\":\"3901\"},{\"id\":\"3902\"},{\"id\":\"3903\"},{\"id\":\"3980\"}]},\"id\":\"3905\",\"type\":\"Toolbar\"},{\"attributes\":{\"data\":{\"x\":{\"__ndarray__\":\"AAAA5UcHd0IAAMBKmgd3QgAAgLDsB3dCAABAFj8Id0IAAAB8kQh3QgAAwOHjCHdCAACARzYJd0IAAECtiAl3QgAAABPbCXdCAADAeC0Kd0IAAIDefwp3QgAAQETSCndCAAAAqiQLd0IAAMAPdwt3QgAAgHXJC3dCAABA2xsMd0IAAABBbgx3QgAAwKbADHdCAACADBMNd0IAAEByZQ13QgAAANi3DXdCAADAPQoOd0IAAICjXA53QgAAQAmvDndCAAAAbwEPd0IAAMDUUw93QgAAgDqmD3dCAABAoPgPd0IAAAAGSxB3QgAAwGudEHdCAACA0e8Qd0IAAEA3QhF3QgAAAJ2UEXdCAADAAucRd0IAAIBoORJ3QgAAQM6LEndCAAAANN4Sd0IAAMCZMBN3QgAAgP+CE3dCAABAZdUTd0IAAADLJxR3QgAAwDB6FHdCAACAlswUd0IAAED8HhV3QgAAAGJxFXdCAADAx8MVd0IAAIAtFhZ3QgAAQJNoFndCAAAA+boWd0IAAMBeDRd3QgAAgMRfF3dCAABAKrIXd0IAAACQBBh3QgAAwPVWGHdCAACAW6kYd0IAAEDB+xh3QgAAACdOGXdCAADAjKAZd0IAAIDy8hl3QgAAQFhFGndCAAAAvpcad0IAAMAj6hp3QgAAgIk8G3dCAABA744bd0IAAABV4Rt3QgAAwLozHHdCAACAIIYcd0IAAECG2Bx3QgAAAOwqHXdCAADAUX0dd0IAAIC3zx13QgAAQB0iHndCAAAAg3Qed0IAAMDoxh53QgAAgE4ZH3dCAABAtGsfd0IAAAAavh93QgAAwH8QIHdCAACA5WIgd0IAAEBLtSB3QgAAALEHIXdCAADAFlohd0IAAIB8rCF3QgAAQOL+IXdCAAAASFEid0IAAMCtoyJ3QgAAgBP2IndCAABAeUgjd0IAAADfmiN3QgAAwETtI3dCAACAqj8kd0IAAEAQkiR3QgAAAHbkJHdCAADA2zYld0IAAIBBiSV3QgAAQKfbJXdCAAAADS4md0IAAMBygCZ3QgAAgNjSJndCAABAPiUnd0IAAACkdyd3QgAAwAnKJ3dCAACAbxwod0IAAEDVbih3QgAAADvBKHdCAADAoBMpd0IAAIAGZil3QgAAQGy4KXdCAAAA0goqd0IAAMA3XSp3QgAAgJ2vKndCAABAAwIrd0IAAABpVCt3QgAAwM6mK3dCAACANPkrd0IAAECaSyx3QgAAAACeLHdCAADAZfAsd0IAAIDLQi13QgAAQDGVLXdCAAAAl+ctd0I=\",\"dtype\":\"float64\",\"shape\":[121]},\"y\":[0,3,2,5,4,8,5,18,27,28,41,49,36,133,97,168,196,189,250,175,368,349,345,475,427,627,793,651,601,743,683,662,969,889,756,812,837,727,760,766,681,525,636,604,542,610,570,619,431,566,602,578,525,575,482,433,454,534,437,464,420,415,260,333,382,323,285,269,474,174,195,236,369,274,243,194,165,179,172,195,262,242,153,145,99,162,161,156,130,119,50,92,78,117,70,87,111,75,60,55,71,88,85,72,53,65,79,71,53,56,78,44,26,34,43,66,47,49,24,23,18]},\"selected\":{\"id\":\"3954\"},\"selection_policy\":{\"id\":\"3955\"}},\"id\":\"3937\",\"type\":\"ColumnDataSource\"},{\"attributes\":{\"days\":[1,2,3,4,5,6,7,8,9,10,11,12,13,14,15,16,17,18,19,20,21,22,23,24,25,26,27,28,29,30,31]},\"id\":\"3925\",\"type\":\"DaysTicker\"},{\"attributes\":{\"text\":\"New Deaths: Italy\"},\"id\":\"3880\",\"type\":\"Title\"},{\"attributes\":{\"data\":{\"x\":{\"__ndarray__\":\"AAAA5UcHd0IAAMBKmgd3QgAAgLDsB3dCAABAFj8Id0IAAAB8kQh3QgAAwOHjCHdCAACARzYJd0IAAECtiAl3QgAAABPbCXdCAADAeC0Kd0IAAIDefwp3QgAAQETSCndCAAAAqiQLd0IAAMAPdwt3QgAAgHXJC3dCAABA2xsMd0IAAABBbgx3QgAAwKbADHdCAACADBMNd0IAAEByZQ13QgAAANi3DXdCAADAPQoOd0IAAICjXA53QgAAQAmvDndCAAAAbwEPd0IAAMDUUw93QgAAgDqmD3dCAABAoPgPd0IAAAAGSxB3QgAAwGudEHdCAACA0e8Qd0IAAEA3QhF3QgAAAJ2UEXdCAADAAucRd0IAAIBoORJ3QgAAQM6LEndCAAAANN4Sd0IAAMCZMBN3QgAAgP+CE3dCAABAZdUTd0IAAADLJxR3QgAAwDB6FHdCAACAlswUd0IAAED8HhV3QgAAAGJxFXdCAADAx8MVd0IAAIAtFhZ3QgAAQJNoFndCAAAA+boWd0IAAMBeDRd3QgAAgMRfF3dCAABAKrIXd0IAAACQBBh3QgAAwPVWGHdCAACAW6kYd0IAAEDB+xh3QgAAACdOGXdCAADAjKAZd0IAAIDy8hl3QgAAQFhFGndCAAAAvpcad0IAAMAj6hp3QgAAgIk8G3dCAABA744bd0IAAABV4Rt3QgAAwLozHHdCAACAIIYcd0IAAECG2Bx3QgAAAOwqHXdCAADAUX0dd0IAAIC3zx13QgAAQB0iHndCAAAAg3Qed0IAAMDoxh53QgAAgE4ZH3dCAABAtGsfd0IAAAAavh93QgAAwH8QIHdCAACA5WIgd0IAAEBLtSB3QgAAALEHIXdCAADAFlohd0IAAIB8rCF3QgAAQOL+IXdCAAAASFEid0IAAMCtoyJ3QgAAgBP2IndCAABAeUgjd0IAAADfmiN3QgAAwETtI3dCAACAqj8kd0IAAEAQkiR3QgAAAHbkJHdCAADA2zYld0IAAIBBiSV3QgAAQKfbJXdCAAAADS4md0IAAMBygCZ3QgAAgNjSJndCAABAPiUnd0IAAACkdyd3QgAAwAnKJ3dCAACAbxwod0IAAEDVbih3QgAAADvBKHdCAADAoBMpd0IAAIAGZil3QgAAQGy4KXdCAAAA0goqd0IAAMA3XSp3QgAAgJ2vKndCAABAAwIrd0IAAABpVCt3QgAAwM6mK3dCAACANPkrd0IAAECaSyx3QgAAAACeLHdCAADAZfAsd0IAAIDLQi13QgAAQDGVLXdCAAAAl+ctd0I=\",\"dtype\":\"float64\",\"shape\":[121]},\"y\":[0,3,2,5,4,8,5,18,27,28,41,49,36,133,97,168,196,189,250,175,368,349,345,475,427,627,793,651,601,743,683,662,969,889,756,812,837,727,760,766,681,525,636,604,542,610,570,619,431,566,602,578,525,575,482,433,454,534,437,464,420,415,260,333,382,323,285,269,474,174,195,236,369,274,243,194,165,179,172,195,262,242,153,145,99,162,161,156,130,119,50,92,78,117,70,87,111,75,60,55,71,88,85,72,53,65,79,71,53,56,78,44,26,34,43,66,47,49,24,23,18]},\"selected\":{\"id\":\"3952\"},\"selection_policy\":{\"id\":\"3953\"}},\"id\":\"3912\",\"type\":\"ColumnDataSource\"},{\"attributes\":{},\"id\":\"4103\",\"type\":\"Selection\"},{\"attributes\":{\"items\":[{\"id\":\"3936\"},{\"id\":\"3969\"}],\"location\":\"top_left\"},\"id\":\"3935\",\"type\":\"Legend\"},{\"attributes\":{\"days\":[1,4,7,10,13,16,19,22,25,28]},\"id\":\"3926\",\"type\":\"DaysTicker\"},{\"attributes\":{\"line_color\":\"darkviolet\",\"line_width\":4,\"x\":{\"field\":\"x\"},\"y\":{\"field\":\"y\"}},\"id\":\"3913\",\"type\":\"Line\"},{\"attributes\":{\"axis_label\":\"Date\",\"formatter\":{\"id\":\"3975\"},\"major_label_orientation\":0.7853981633974483,\"minor_tick_in\":-5,\"minor_tick_out\":-3,\"ticker\":{\"id\":\"3891\"}},\"id\":\"3890\",\"type\":\"DatetimeAxis\"},{\"attributes\":{\"fill_alpha\":{\"value\":0.1},\"fill_color\":{\"value\":\"white\"},\"line_alpha\":{\"value\":0.1},\"line_color\":{\"value\":\"lightblue\"},\"size\":{\"units\":\"screen\",\"value\":6},\"x\":{\"field\":\"x\"},\"y\":{\"field\":\"y\"}},\"id\":\"3972\",\"type\":\"Circle\"},{\"attributes\":{},\"id\":\"3979\",\"type\":\"NumeralTickFormatter\"},{\"attributes\":{\"line_alpha\":0.1,\"line_color\":\"lightblue\",\"line_width\":4,\"x\":{\"field\":\"x\"},\"y\":{\"field\":\"y\"}},\"id\":\"3944\",\"type\":\"Line\"},{\"attributes\":{\"source\":{\"id\":\"3970\"}},\"id\":\"3974\",\"type\":\"CDSView\"},{\"attributes\":{},\"id\":\"3903\",\"type\":\"HelpTool\"},{\"attributes\":{\"days\":[1,8,15,22]},\"id\":\"3927\",\"type\":\"DaysTicker\"},{\"attributes\":{\"axis\":{\"id\":\"3894\"},\"dimension\":1,\"ticker\":null},\"id\":\"3897\",\"type\":\"Grid\"},{\"attributes\":{\"days\":[1,15]},\"id\":\"3928\",\"type\":\"DaysTicker\"},{\"attributes\":{\"num_minor_ticks\":5,\"tickers\":[{\"id\":\"3922\"},{\"id\":\"3923\"},{\"id\":\"3924\"},{\"id\":\"3925\"},{\"id\":\"3926\"},{\"id\":\"3927\"},{\"id\":\"3928\"},{\"id\":\"3929\"},{\"id\":\"3930\"},{\"id\":\"3931\"},{\"id\":\"3932\"},{\"id\":\"3933\"}]},\"id\":\"3891\",\"type\":\"DatetimeTicker\"},{\"attributes\":{\"months\":[0,1,2,3,4,5,6,7,8,9,10,11]},\"id\":\"3929\",\"type\":\"MonthsTicker\"},{\"attributes\":{\"source\":{\"id\":\"3912\"}},\"id\":\"3916\",\"type\":\"CDSView\"},{\"attributes\":{},\"id\":\"3953\",\"type\":\"UnionRenderers\"},{\"attributes\":{},\"id\":\"3882\",\"type\":\"DataRange1d\"},{\"attributes\":{\"fill_color\":{\"value\":\"white\"},\"line_color\":{\"value\":\"lightblue\"},\"size\":{\"units\":\"screen\",\"value\":6},\"x\":{\"field\":\"x\"},\"y\":{\"field\":\"y\"}},\"id\":\"3971\",\"type\":\"Circle\"},{\"attributes\":{\"mantissas\":[1,2,5],\"max_interval\":500.0,\"num_minor_ticks\":0},\"id\":\"3922\",\"type\":\"AdaptiveTicker\"},{\"attributes\":{\"months\":[0,2,4,6,8,10]},\"id\":\"3930\",\"type\":\"MonthsTicker\"},{\"attributes\":{},\"id\":\"3899\",\"type\":\"WheelZoomTool\"},{\"attributes\":{\"overlay\":{\"id\":\"3904\"}},\"id\":\"3900\",\"type\":\"BoxZoomTool\"},{\"attributes\":{},\"id\":\"3954\",\"type\":\"Selection\"},{\"attributes\":{\"months\":[0,4,8]},\"id\":\"3931\",\"type\":\"MonthsTicker\"},{\"attributes\":{},\"id\":\"3884\",\"type\":\"DataRange1d\"},{\"attributes\":{},\"id\":\"3955\",\"type\":\"UnionRenderers\"},{\"attributes\":{},\"id\":\"3901\",\"type\":\"SaveTool\"},{\"attributes\":{\"months\":[0,6]},\"id\":\"3932\",\"type\":\"MonthsTicker\"},{\"attributes\":{},\"id\":\"3888\",\"type\":\"LinearScale\"},{\"attributes\":{\"callback\":null,\"formatters\":{\"@x\":\"datetime\"},\"mode\":\"vline\",\"tooltips\":[[\"date\",\"@x{%d %B}\"],[\"new deaths OR SMA 7\",\"@y{0.}\"]]},\"id\":\"3980\",\"type\":\"HoverTool\"},{\"attributes\":{\"label\":{\"value\":\"new deaths\"},\"renderers\":[{\"id\":\"3915\"}]},\"id\":\"3936\",\"type\":\"LegendItem\"},{\"attributes\":{},\"id\":\"3933\",\"type\":\"YearsTicker\"},{\"attributes\":{\"data\":{\"x\":{\"__ndarray__\":\"AAAA5UcHd0IAAMBKmgd3QgAAgLDsB3dCAABAFj8Id0IAAAB8kQh3QgAAwOHjCHdCAACARzYJd0IAAECtiAl3QgAAABPbCXdCAADAeC0Kd0IAAIDefwp3QgAAQETSCndCAAAAqiQLd0IAAMAPdwt3QgAAgHXJC3dCAABA2xsMd0IAAABBbgx3QgAAwKbADHdCAACADBMNd0IAAEByZQ13QgAAANi3DXdCAADAPQoOd0IAAICjXA53QgAAQAmvDndCAAAAbwEPd0IAAMDUUw93QgAAgDqmD3dCAABAoPgPd0IAAAAGSxB3QgAAwGudEHdCAACA0e8Qd0IAAEA3QhF3QgAAAJ2UEXdCAADAAucRd0IAAIBoORJ3QgAAQM6LEndCAAAANN4Sd0IAAMCZMBN3QgAAgP+CE3dCAABAZdUTd0IAAADLJxR3QgAAwDB6FHdCAACAlswUd0IAAED8HhV3QgAAAGJxFXdCAADAx8MVd0IAAIAtFhZ3QgAAQJNoFndCAAAA+boWd0IAAMBeDRd3QgAAgMRfF3dCAABAKrIXd0IAAACQBBh3QgAAwPVWGHdCAACAW6kYd0IAAEDB+xh3QgAAACdOGXdCAADAjKAZd0IAAIDy8hl3QgAAQFhFGndCAAAAvpcad0IAAMAj6hp3QgAAgIk8G3dCAABA744bd0IAAABV4Rt3QgAAwLozHHdCAACAIIYcd0IAAECG2Bx3QgAAAOwqHXdCAADAUX0dd0IAAIC3zx13QgAAQB0iHndCAAAAg3Qed0IAAMDoxh53QgAAgE4ZH3dCAABAtGsfd0IAAAAavh93QgAAwH8QIHdCAACA5WIgd0IAAEBLtSB3QgAAALEHIXdCAADAFlohd0IAAIB8rCF3QgAAQOL+IXdCAAAASFEid0IAAMCtoyJ3QgAAgBP2IndCAABAeUgjd0IAAADfmiN3QgAAwETtI3dCAACAqj8kd0IAAEAQkiR3QgAAAHbkJHdCAADA2zYld0IAAIBBiSV3QgAAQKfbJXdCAAAADS4md0IAAMBygCZ3QgAAgNjSJndCAABAPiUnd0IAAACkdyd3QgAAwAnKJ3dCAACAbxwod0IAAEDVbih3QgAAADvBKHdCAADAoBMpd0IAAIAGZil3QgAAQGy4KXdCAAAA0goqd0IAAMA3XSp3QgAAgJ2vKndCAABAAwIrd0IAAABpVCt3QgAAwM6mK3dCAACANPkrd0IAAECaSyx3QgAAAACeLHdCAADAZfAsd0IAAIDLQi13QgAAQDGVLXdCAAAAl+ctd0I=\",\"dtype\":\"float64\",\"shape\":[121]},\"y\":{\"__ndarray__\":\"AAAAAAAA+H8AAAAAAAD4fwAAAAAAAPh/AAAAAAAA+H8AAAAAAAD4fwAAAAAAAPh/t23btm3bDkBu27Zt27YZQG7btm3btiNASZIkSZIkK0Bu27Zt27YyQEmSJEmSJDlASZIkSZIkPUBu27Zt27ZHQLdt27ZtW01Abtu2bdu2U0Bu27Zt27ZZQAAAAAAAAF9Abtu2bdsWY0AlSZIkSZJlQEmSJEmSxGlASZIkSZJEbkBu27Zt27ZwQEmSJEmSNHNASZIkSZJUdUAlSZIkSbJ4QG7btm3bNn5Abtu2bdtegEBu27Zt236BQNu2bdu2RYNAt23btm0zhEAAAAAAAECFQG7btm3bxoZASZIkSZI0h0BJkiRJkqyHQNu2bdu2nYhAkiRJkiQJiUC3bdu2bTuJQLdt27Ztq4lAt23btm3DiEDbtm3bttWHQNu2bdu2zYZASZIkSZIEhkAlSZIkSfqEQG7btm3bJoRAt23btm17g0C3bdu2bZuCQEmSJEmSVIJAkiRJkiTpgUCSJEmSJJmBQG7btm3bloFAAAAAAADAgUBu27Zt216BQEmSJEmSZIFAAAAAAADIgEAlSZIkScqAQCVJkiRJSoBAkiRJkiT5f0Bu27Zt27Z+QLdt27ZtK35AkiRJkiTJfEAAAAAAADB8QEmSJEmSpHpAAAAAAACQeUBJkiRJkjR4QAAAAAAAMHdAbtu2bduWdUDbtm3btj10QEmSJEmSxHRAAAAAAAAAdEBJkiRJksRyQG7btm3bdnFAAAAAAADgcUBu27Zt28ZxQLdt27Zti3FAbtu2bdsWbkDbtm3btu1tQEmSJEmSpG1AAAAAAACAbEBJkiRJkmRpQNu2bdu2LWlAkiRJkiQpaUDbtm3btm1oQCVJkiRJEmhASZIkSZKkZkBu27Zt23ZmQLdt27Zt22VAbtu2bdv2Y0Bu27Zt2/ZhQLdt27ZtW2FAJUmSJElSX0AlSZIkSRJfQCVJkiRJElxAAAAAAACAWkDbtm3btm1XQEmSJEmS5FVAt23btm2bVUAAAAAAAIBWQLdt27ZtW1VAkiRJkiSJVEBJkiRJkuRSQJIkSZIkiVNAbtu2bdt2U0AlSZIkSRJSQJIkSZIkSVFAbtu2bdt2UUAlSZIkSVJSQCVJkiRJUlJAJUmSJEkSUUCSJEmSJAlQQAAAAAAAQFBAt23btm3bT0AlSZIkSRJNQLdt27Zt20lAt23btm3bR0CSJEmSJMlIQEmSJEmSJEhAJUmSJEkSRkBJkiRJkqREQNu2bdu2bURAkiRJkiRJQ0A=\",\"dtype\":\"float64\",\"shape\":[121]}},\"selected\":{\"id\":\"4101\"},\"selection_policy\":{\"id\":\"4102\"}},\"id\":\"3942\",\"type\":\"ColumnDataSource\"},{\"attributes\":{\"label\":{\"value\":\"SMA 7 days\"},\"renderers\":[{\"id\":\"3945\"}]},\"id\":\"3969\",\"type\":\"LegendItem\"},{\"attributes\":{\"fill_color\":{\"value\":\"white\"},\"line_color\":{\"value\":\"darkviolet\"},\"size\":{\"units\":\"screen\",\"value\":6},\"x\":{\"field\":\"x\"},\"y\":{\"field\":\"y\"}},\"id\":\"3938\",\"type\":\"Circle\"},{\"attributes\":{},\"id\":\"4101\",\"type\":\"Selection\"},{\"attributes\":{\"axis\":{\"id\":\"3890\"},\"ticker\":null},\"id\":\"3893\",\"type\":\"Grid\"},{\"attributes\":{\"source\":{\"id\":\"3937\"}},\"id\":\"3941\",\"type\":\"CDSView\"},{\"attributes\":{\"days\":[\"%d %B\"]},\"id\":\"3975\",\"type\":\"DatetimeTickFormatter\"},{\"attributes\":{},\"id\":\"4102\",\"type\":\"UnionRenderers\"},{\"attributes\":{\"data_source\":{\"id\":\"3912\"},\"glyph\":{\"id\":\"3913\"},\"hover_glyph\":null,\"muted_glyph\":null,\"nonselection_glyph\":{\"id\":\"3914\"},\"selection_glyph\":null,\"view\":{\"id\":\"3916\"}},\"id\":\"3915\",\"type\":\"GlyphRenderer\"},{\"attributes\":{\"bottom_units\":\"screen\",\"fill_alpha\":0.5,\"fill_color\":\"lightgrey\",\"left_units\":\"screen\",\"level\":\"overlay\",\"line_alpha\":1.0,\"line_color\":\"black\",\"line_dash\":[4,4],\"line_width\":2,\"render_mode\":\"css\",\"right_units\":\"screen\",\"top_units\":\"screen\"},\"id\":\"3904\",\"type\":\"BoxAnnotation\"}],\"root_ids\":[\"3879\"]},\"title\":\"Bokeh Application\",\"version\":\"2.0.2\"}};\n",
       "  var render_items = [{\"docid\":\"5e2c0130-0532-47b6-a6f7-583bb6fb4997\",\"root_ids\":[\"3879\"],\"roots\":{\"3879\":\"4a283ba9-6570-4684-9c17-139468817008\"}}];\n",
       "  root.Bokeh.embed.embed_items_notebook(docs_json, render_items);\n",
       "\n",
       "  }\n",
       "  if (root.Bokeh !== undefined) {\n",
       "    embed_document(root);\n",
       "  } else {\n",
       "    var attempts = 0;\n",
       "    var timer = setInterval(function(root) {\n",
       "      if (root.Bokeh !== undefined) {\n",
       "        clearInterval(timer);\n",
       "        embed_document(root);\n",
       "      } else {\n",
       "        attempts++;\n",
       "        if (attempts > 100) {\n",
       "          clearInterval(timer);\n",
       "          console.log(\"Bokeh: ERROR: Unable to run BokehJS code because BokehJS library is missing\");\n",
       "        }\n",
       "      }\n",
       "    }, 10, root)\n",
       "  }\n",
       "})(window);"
      ],
      "application/vnd.bokehjs_exec.v0+json": ""
     },
     "metadata": {
      "application/vnd.bokehjs_exec.v0+json": {
       "id": "3879"
      }
     },
     "output_type": "display_data"
    }
   ],
   "source": [
    "p_new_deaths_SMA_Italy = bokeh_plot_2_lines(x=time_date_new, y=nuovi_deceduti, yy=SMA_new_deaths[0], \n",
    "                  title='New Deaths: Italy', \n",
    "                  file_name=\"new_deaths_SMA_Italy.html\", \n",
    "                  x_label='Date', y_label='New Deaths', \n",
    "                  legend_1='new deaths', legend_2='SMA 7 days',\n",
    "                  x_label_hover='date' , y_label_hover='new deaths OR SMA 7' , \n",
    "                  color_1='darkviolet', color_2='lightblue', y_minmax=None)\n",
    "\n",
    "show(p_new_deaths_SMA_Italy)"
   ]
  },
  {
   "cell_type": "markdown",
   "metadata": {},
   "source": [
    "------------------\n",
    "\n",
    "### New Positive"
   ]
  },
  {
   "cell_type": "code",
   "execution_count": 28,
   "metadata": {},
   "outputs": [
    {
     "data": {
      "text/plain": [
       "0    221\n",
       "1     93\n",
       "2     78\n",
       "3    250\n",
       "4    238\n",
       "Name: nuovi_positivi, dtype: int64"
      ]
     },
     "execution_count": 28,
     "metadata": {},
     "output_type": "execute_result"
    }
   ],
   "source": [
    "nuovi_positivi_italy = df_nazionale['nuovi_positivi']\n",
    "nuovi_positivi_italy.head()"
   ]
  },
  {
   "cell_type": "code",
   "execution_count": 29,
   "metadata": {},
   "outputs": [
    {
     "data": {
      "text/html": [
       "\n",
       "\n",
       "\n",
       "\n",
       "\n",
       "\n",
       "  <div class=\"bk-root\" id=\"12921509-f479-4440-a487-9284e0b86c48\" data-root-id=\"4575\"></div>\n"
      ]
     },
     "metadata": {},
     "output_type": "display_data"
    },
    {
     "data": {
      "application/javascript": [
       "(function(root) {\n",
       "  function embed_document(root) {\n",
       "    \n",
       "  var docs_json = {\"589304b7-a7b9-4513-a2e4-017564618a80\":{\"roots\":{\"references\":[{\"attributes\":{\"below\":[{\"id\":\"4586\"}],\"center\":[{\"id\":\"4589\"},{\"id\":\"4593\"},{\"id\":\"4631\"}],\"left\":[{\"id\":\"4590\"}],\"plot_height\":450,\"renderers\":[{\"id\":\"4611\"},{\"id\":\"4636\"}],\"title\":{\"id\":\"4576\"},\"toolbar\":{\"id\":\"4601\"},\"x_range\":{\"id\":\"4578\"},\"x_scale\":{\"id\":\"4582\"},\"y_range\":{\"id\":\"4580\"},\"y_scale\":{\"id\":\"4584\"}},\"id\":\"4575\",\"subtype\":\"Figure\",\"type\":\"Plot\"},{\"attributes\":{\"fill_alpha\":{\"value\":0.1},\"fill_color\":{\"value\":\"white\"},\"line_alpha\":{\"value\":0.1},\"line_color\":{\"value\":\"blue\"},\"size\":{\"units\":\"screen\",\"value\":6},\"x\":{\"field\":\"x\"},\"y\":{\"field\":\"y\"}},\"id\":\"4635\",\"type\":\"Circle\"},{\"attributes\":{\"base\":24,\"mantissas\":[1,2,4,6,8,12],\"max_interval\":43200000.0,\"min_interval\":3600000.0,\"num_minor_ticks\":0},\"id\":\"4620\",\"type\":\"AdaptiveTicker\"},{\"attributes\":{},\"id\":\"4595\",\"type\":\"WheelZoomTool\"},{\"attributes\":{\"callback\":null,\"formatters\":{\"@x\":\"datetime\"},\"mode\":\"vline\",\"tooltips\":[[\"date\",\"@x{%d %B}\"],[\"new positive\",\"@y{0.}\"]]},\"id\":\"4643\",\"type\":\"HoverTool\"},{\"attributes\":{\"base\":60,\"mantissas\":[1,2,5,10,15,20,30],\"max_interval\":1800000.0,\"min_interval\":1000.0,\"num_minor_ticks\":0},\"id\":\"4619\",\"type\":\"AdaptiveTicker\"},{\"attributes\":{\"axis_label\":\"Date\",\"formatter\":{\"id\":\"4638\"},\"major_label_orientation\":0.7853981633974483,\"minor_tick_in\":-5,\"minor_tick_out\":-3,\"ticker\":{\"id\":\"4587\"}},\"id\":\"4586\",\"type\":\"DatetimeAxis\"},{\"attributes\":{\"active_drag\":\"auto\",\"active_inspect\":\"auto\",\"active_multi\":null,\"active_scroll\":\"auto\",\"active_tap\":\"auto\",\"tools\":[{\"id\":\"4594\"},{\"id\":\"4595\"},{\"id\":\"4596\"},{\"id\":\"4597\"},{\"id\":\"4598\"},{\"id\":\"4599\"},{\"id\":\"4643\"}]},\"id\":\"4601\",\"type\":\"Toolbar\"},{\"attributes\":{\"source\":{\"id\":\"4608\"}},\"id\":\"4612\",\"type\":\"CDSView\"},{\"attributes\":{\"bottom_units\":\"screen\",\"fill_alpha\":0.5,\"fill_color\":\"lightgrey\",\"left_units\":\"screen\",\"level\":\"overlay\",\"line_alpha\":1.0,\"line_color\":\"black\",\"line_dash\":[4,4],\"line_width\":2,\"render_mode\":\"css\",\"right_units\":\"screen\",\"top_units\":\"screen\"},\"id\":\"4600\",\"type\":\"BoxAnnotation\"},{\"attributes\":{\"data_source\":{\"id\":\"4608\"},\"glyph\":{\"id\":\"4609\"},\"hover_glyph\":null,\"muted_glyph\":null,\"nonselection_glyph\":{\"id\":\"4610\"},\"selection_glyph\":null,\"view\":{\"id\":\"4612\"}},\"id\":\"4611\",\"type\":\"GlyphRenderer\"},{\"attributes\":{},\"id\":\"4591\",\"type\":\"BasicTicker\"},{\"attributes\":{},\"id\":\"4597\",\"type\":\"SaveTool\"},{\"attributes\":{\"mantissas\":[1,2,5],\"max_interval\":500.0,\"num_minor_ticks\":0},\"id\":\"4618\",\"type\":\"AdaptiveTicker\"},{\"attributes\":{\"days\":[1,2,3,4,5,6,7,8,9,10,11,12,13,14,15,16,17,18,19,20,21,22,23,24,25,26,27,28,29,30,31]},\"id\":\"4621\",\"type\":\"DaysTicker\"},{\"attributes\":{\"months\":[0,6]},\"id\":\"4628\",\"type\":\"MonthsTicker\"},{\"attributes\":{\"fill_color\":{\"value\":\"white\"},\"line_color\":{\"value\":\"blue\"},\"size\":{\"units\":\"screen\",\"value\":6},\"x\":{\"field\":\"x\"},\"y\":{\"field\":\"y\"}},\"id\":\"4634\",\"type\":\"Circle\"},{\"attributes\":{\"line_color\":\"blue\",\"line_width\":4,\"x\":{\"field\":\"x\"},\"y\":{\"field\":\"y\"}},\"id\":\"4609\",\"type\":\"Line\"},{\"attributes\":{\"label\":{\"value\":\"new positive\"},\"renderers\":[{\"id\":\"4611\"}]},\"id\":\"4632\",\"type\":\"LegendItem\"},{\"attributes\":{\"days\":[1,4,7,10,13,16,19,22,25,28]},\"id\":\"4622\",\"type\":\"DaysTicker\"},{\"attributes\":{\"months\":[0,2,4,6,8,10]},\"id\":\"4626\",\"type\":\"MonthsTicker\"},{\"attributes\":{},\"id\":\"4787\",\"type\":\"UnionRenderers\"},{\"attributes\":{\"axis\":{\"id\":\"4590\"},\"dimension\":1,\"ticker\":null},\"id\":\"4593\",\"type\":\"Grid\"},{\"attributes\":{\"days\":[\"%d %B\"]},\"id\":\"4638\",\"type\":\"DatetimeTickFormatter\"},{\"attributes\":{},\"id\":\"4786\",\"type\":\"Selection\"},{\"attributes\":{\"days\":[1,8,15,22]},\"id\":\"4623\",\"type\":\"DaysTicker\"},{\"attributes\":{\"axis_label\":\"New Positive\",\"formatter\":{\"id\":\"4642\"},\"minor_tick_in\":-5,\"minor_tick_out\":-3,\"ticker\":{\"id\":\"4591\"}},\"id\":\"4590\",\"type\":\"LinearAxis\"},{\"attributes\":{\"days\":[1,15]},\"id\":\"4624\",\"type\":\"DaysTicker\"},{\"attributes\":{\"data\":{\"x\":{\"__ndarray__\":\"AAAA5UcHd0IAAMBKmgd3QgAAgLDsB3dCAABAFj8Id0IAAAB8kQh3QgAAwOHjCHdCAACARzYJd0IAAECtiAl3QgAAABPbCXdCAADAeC0Kd0IAAIDefwp3QgAAQETSCndCAAAAqiQLd0IAAMAPdwt3QgAAgHXJC3dCAABA2xsMd0IAAABBbgx3QgAAwKbADHdCAACADBMNd0IAAEByZQ13QgAAANi3DXdCAADAPQoOd0IAAICjXA53QgAAQAmvDndCAAAAbwEPd0IAAMDUUw93QgAAgDqmD3dCAABAoPgPd0IAAAAGSxB3QgAAwGudEHdCAACA0e8Qd0IAAEA3QhF3QgAAAJ2UEXdCAADAAucRd0IAAIBoORJ3QgAAQM6LEndCAAAANN4Sd0IAAMCZMBN3QgAAgP+CE3dCAABAZdUTd0IAAADLJxR3QgAAwDB6FHdCAACAlswUd0IAAED8HhV3QgAAAGJxFXdCAADAx8MVd0IAAIAtFhZ3QgAAQJNoFndCAAAA+boWd0IAAMBeDRd3QgAAgMRfF3dCAABAKrIXd0IAAACQBBh3QgAAwPVWGHdCAACAW6kYd0IAAEDB+xh3QgAAACdOGXdCAADAjKAZd0IAAIDy8hl3QgAAQFhFGndCAAAAvpcad0IAAMAj6hp3QgAAgIk8G3dCAABA744bd0IAAABV4Rt3QgAAwLozHHdCAACAIIYcd0IAAECG2Bx3QgAAAOwqHXdCAADAUX0dd0IAAIC3zx13QgAAQB0iHndCAAAAg3Qed0IAAMDoxh53QgAAgE4ZH3dCAABAtGsfd0IAAAAavh93QgAAwH8QIHdCAACA5WIgd0IAAEBLtSB3QgAAALEHIXdCAADAFlohd0IAAIB8rCF3QgAAQOL+IXdCAAAASFEid0IAAMCtoyJ3QgAAgBP2IndCAABAeUgjd0IAAADfmiN3QgAAwETtI3dCAACAqj8kd0IAAEAQkiR3QgAAAHbkJHdCAADA2zYld0IAAIBBiSV3QgAAQKfbJXdCAAAADS4md0IAAMBygCZ3QgAAgNjSJndCAABAPiUnd0IAAACkdyd3QgAAwAnKJ3dCAACAbxwod0IAAEDVbih3QgAAADvBKHdCAADAoBMpd0IAAIAGZil3QgAAQGy4KXdCAAAA0goqd0IAAMA3XSp3QgAAgJ2vKndCAABAAwIrd0IAAABpVCt3QgAAwM6mK3dCAACANPkrd0IAAECaSyx3QgAAAACeLHdCAADAZfAsd0IAAIDLQi13QgAAQDGVLXdCAAAAl+ctd0I=\",\"dtype\":\"float64\",\"shape\":[121]},\"y\":[221,93,78,250,238,240,566,342,466,587,769,778,1247,1492,1797,977,2313,2651,2547,3497,3590,3233,3526,4207,5322,5986,6557,5560,4789,5249,5210,6153,5959,5974,5217,4050,4053,4782,4668,4585,4805,4316,3599,3039,3836,4204,3951,4694,4092,3153,2972,2667,3786,3493,3491,3047,2256,2729,3370,2646,3021,2357,2324,1739,2091,2086,1872,1965,1900,1389,1221,1075,1444,1401,1327,1083,802,744,1402,888,992,789,875,675,451,813,665,642,652,669,531,300,397,584,593,516,416,355,178,318,321,177,518,270,197,280,283,202,379,163,346,338,303,210,329,333,251,262,224,218,122]},\"selected\":{\"id\":\"4786\"},\"selection_policy\":{\"id\":\"4787\"}},\"id\":\"4633\",\"type\":\"ColumnDataSource\"},{\"attributes\":{\"months\":[0,1,2,3,4,5,6,7,8,9,10,11]},\"id\":\"4625\",\"type\":\"MonthsTicker\"},{\"attributes\":{},\"id\":\"4629\",\"type\":\"YearsTicker\"},{\"attributes\":{\"axis\":{\"id\":\"4586\"},\"ticker\":null},\"id\":\"4589\",\"type\":\"Grid\"},{\"attributes\":{},\"id\":\"4642\",\"type\":\"NumeralTickFormatter\"},{\"attributes\":{},\"id\":\"4598\",\"type\":\"ResetTool\"},{\"attributes\":{},\"id\":\"4584\",\"type\":\"LinearScale\"},{\"attributes\":{},\"id\":\"4785\",\"type\":\"UnionRenderers\"},{\"attributes\":{\"months\":[0,4,8]},\"id\":\"4627\",\"type\":\"MonthsTicker\"},{\"attributes\":{\"line_alpha\":0.1,\"line_color\":\"blue\",\"line_width\":4,\"x\":{\"field\":\"x\"},\"y\":{\"field\":\"y\"}},\"id\":\"4610\",\"type\":\"Line\"},{\"attributes\":{\"data_source\":{\"id\":\"4633\"},\"glyph\":{\"id\":\"4634\"},\"hover_glyph\":null,\"muted_glyph\":null,\"nonselection_glyph\":{\"id\":\"4635\"},\"selection_glyph\":null,\"view\":{\"id\":\"4637\"}},\"id\":\"4636\",\"type\":\"GlyphRenderer\"},{\"attributes\":{\"data\":{\"x\":{\"__ndarray__\":\"AAAA5UcHd0IAAMBKmgd3QgAAgLDsB3dCAABAFj8Id0IAAAB8kQh3QgAAwOHjCHdCAACARzYJd0IAAECtiAl3QgAAABPbCXdCAADAeC0Kd0IAAIDefwp3QgAAQETSCndCAAAAqiQLd0IAAMAPdwt3QgAAgHXJC3dCAABA2xsMd0IAAABBbgx3QgAAwKbADHdCAACADBMNd0IAAEByZQ13QgAAANi3DXdCAADAPQoOd0IAAICjXA53QgAAQAmvDndCAAAAbwEPd0IAAMDUUw93QgAAgDqmD3dCAABAoPgPd0IAAAAGSxB3QgAAwGudEHdCAACA0e8Qd0IAAEA3QhF3QgAAAJ2UEXdCAADAAucRd0IAAIBoORJ3QgAAQM6LEndCAAAANN4Sd0IAAMCZMBN3QgAAgP+CE3dCAABAZdUTd0IAAADLJxR3QgAAwDB6FHdCAACAlswUd0IAAED8HhV3QgAAAGJxFXdCAADAx8MVd0IAAIAtFhZ3QgAAQJNoFndCAAAA+boWd0IAAMBeDRd3QgAAgMRfF3dCAABAKrIXd0IAAACQBBh3QgAAwPVWGHdCAACAW6kYd0IAAEDB+xh3QgAAACdOGXdCAADAjKAZd0IAAIDy8hl3QgAAQFhFGndCAAAAvpcad0IAAMAj6hp3QgAAgIk8G3dCAABA744bd0IAAABV4Rt3QgAAwLozHHdCAACAIIYcd0IAAECG2Bx3QgAAAOwqHXdCAADAUX0dd0IAAIC3zx13QgAAQB0iHndCAAAAg3Qed0IAAMDoxh53QgAAgE4ZH3dCAABAtGsfd0IAAAAavh93QgAAwH8QIHdCAACA5WIgd0IAAEBLtSB3QgAAALEHIXdCAADAFlohd0IAAIB8rCF3QgAAQOL+IXdCAAAASFEid0IAAMCtoyJ3QgAAgBP2IndCAABAeUgjd0IAAADfmiN3QgAAwETtI3dCAACAqj8kd0IAAEAQkiR3QgAAAHbkJHdCAADA2zYld0IAAIBBiSV3QgAAQKfbJXdCAAAADS4md0IAAMBygCZ3QgAAgNjSJndCAABAPiUnd0IAAACkdyd3QgAAwAnKJ3dCAACAbxwod0IAAEDVbih3QgAAADvBKHdCAADAoBMpd0IAAIAGZil3QgAAQGy4KXdCAAAA0goqd0IAAMA3XSp3QgAAgJ2vKndCAABAAwIrd0IAAABpVCt3QgAAwM6mK3dCAACANPkrd0IAAECaSyx3QgAAAACeLHdCAADAZfAsd0IAAIDLQi13QgAAQDGVLXdCAAAAl+ctd0I=\",\"dtype\":\"float64\",\"shape\":[121]},\"y\":[221,93,78,250,238,240,566,342,466,587,769,778,1247,1492,1797,977,2313,2651,2547,3497,3590,3233,3526,4207,5322,5986,6557,5560,4789,5249,5210,6153,5959,5974,5217,4050,4053,4782,4668,4585,4805,4316,3599,3039,3836,4204,3951,4694,4092,3153,2972,2667,3786,3493,3491,3047,2256,2729,3370,2646,3021,2357,2324,1739,2091,2086,1872,1965,1900,1389,1221,1075,1444,1401,1327,1083,802,744,1402,888,992,789,875,675,451,813,665,642,652,669,531,300,397,584,593,516,416,355,178,318,321,177,518,270,197,280,283,202,379,163,346,338,303,210,329,333,251,262,224,218,122]},\"selected\":{\"id\":\"4784\"},\"selection_policy\":{\"id\":\"4785\"}},\"id\":\"4608\",\"type\":\"ColumnDataSource\"},{\"attributes\":{},\"id\":\"4580\",\"type\":\"DataRange1d\"},{\"attributes\":{\"text\":\"New Positive: Italy\"},\"id\":\"4576\",\"type\":\"Title\"},{\"attributes\":{\"source\":{\"id\":\"4633\"}},\"id\":\"4637\",\"type\":\"CDSView\"},{\"attributes\":{},\"id\":\"4599\",\"type\":\"HelpTool\"},{\"attributes\":{},\"id\":\"4594\",\"type\":\"PanTool\"},{\"attributes\":{\"overlay\":{\"id\":\"4600\"}},\"id\":\"4596\",\"type\":\"BoxZoomTool\"},{\"attributes\":{},\"id\":\"4784\",\"type\":\"Selection\"},{\"attributes\":{\"items\":[{\"id\":\"4632\"}],\"location\":\"top_left\"},\"id\":\"4631\",\"type\":\"Legend\"},{\"attributes\":{\"num_minor_ticks\":5,\"tickers\":[{\"id\":\"4618\"},{\"id\":\"4619\"},{\"id\":\"4620\"},{\"id\":\"4621\"},{\"id\":\"4622\"},{\"id\":\"4623\"},{\"id\":\"4624\"},{\"id\":\"4625\"},{\"id\":\"4626\"},{\"id\":\"4627\"},{\"id\":\"4628\"},{\"id\":\"4629\"}]},\"id\":\"4587\",\"type\":\"DatetimeTicker\"},{\"attributes\":{},\"id\":\"4582\",\"type\":\"LinearScale\"},{\"attributes\":{},\"id\":\"4578\",\"type\":\"DataRange1d\"}],\"root_ids\":[\"4575\"]},\"title\":\"Bokeh Application\",\"version\":\"2.0.2\"}};\n",
       "  var render_items = [{\"docid\":\"589304b7-a7b9-4513-a2e4-017564618a80\",\"root_ids\":[\"4575\"],\"roots\":{\"4575\":\"12921509-f479-4440-a487-9284e0b86c48\"}}];\n",
       "  root.Bokeh.embed.embed_items_notebook(docs_json, render_items);\n",
       "\n",
       "  }\n",
       "  if (root.Bokeh !== undefined) {\n",
       "    embed_document(root);\n",
       "  } else {\n",
       "    var attempts = 0;\n",
       "    var timer = setInterval(function(root) {\n",
       "      if (root.Bokeh !== undefined) {\n",
       "        clearInterval(timer);\n",
       "        embed_document(root);\n",
       "      } else {\n",
       "        attempts++;\n",
       "        if (attempts > 100) {\n",
       "          clearInterval(timer);\n",
       "          console.log(\"Bokeh: ERROR: Unable to run BokehJS code because BokehJS library is missing\");\n",
       "        }\n",
       "      }\n",
       "    }, 10, root)\n",
       "  }\n",
       "})(window);"
      ],
      "application/vnd.bokehjs_exec.v0+json": ""
     },
     "metadata": {
      "application/vnd.bokehjs_exec.v0+json": {
       "id": "4575"
      }
     },
     "output_type": "display_data"
    }
   ],
   "source": [
    "p_new_positive_Italy = bokeh_plot_1_line(x=time_date_new, y=nuovi_positivi_italy, \n",
    "                  title='New Positive: Italy', \n",
    "                  file_name=\"new_positive_Italy.html\", \n",
    "                  x_label='Date', \n",
    "                  y_label='New Positive', legend='new positive',\n",
    "                  x_label_hover='date', y_label_hover='new positive',\n",
    "                  color='blue', y_minmax=None)\n",
    "\n",
    "show(p_new_positive_Italy)"
   ]
  },
  {
   "cell_type": "code",
   "execution_count": 30,
   "metadata": {},
   "outputs": [],
   "source": [
    "new_positive_df = pd.DataFrame(nuovi_positivi_italy)\n",
    "\n",
    "SMA_new_positive = new_positive_df[:].rolling(window=7).mean()\n",
    "SMA_new_positive_2 = new_positive_df[:].rolling(window=10).mean()"
   ]
  },
  {
   "cell_type": "code",
   "execution_count": 31,
   "metadata": {},
   "outputs": [
    {
     "data": {
      "text/html": [
       "<div>\n",
       "<style scoped>\n",
       "    .dataframe tbody tr th:only-of-type {\n",
       "        vertical-align: middle;\n",
       "    }\n",
       "\n",
       "    .dataframe tbody tr th {\n",
       "        vertical-align: top;\n",
       "    }\n",
       "\n",
       "    .dataframe thead th {\n",
       "        text-align: right;\n",
       "    }\n",
       "</style>\n",
       "<table border=\"1\" class=\"dataframe\">\n",
       "  <thead>\n",
       "    <tr style=\"text-align: right;\">\n",
       "      <th></th>\n",
       "      <th>nuovi_positivi</th>\n",
       "    </tr>\n",
       "  </thead>\n",
       "  <tbody>\n",
       "    <tr>\n",
       "      <th>0</th>\n",
       "      <td>NaN</td>\n",
       "    </tr>\n",
       "    <tr>\n",
       "      <th>1</th>\n",
       "      <td>NaN</td>\n",
       "    </tr>\n",
       "    <tr>\n",
       "      <th>2</th>\n",
       "      <td>NaN</td>\n",
       "    </tr>\n",
       "    <tr>\n",
       "      <th>3</th>\n",
       "      <td>NaN</td>\n",
       "    </tr>\n",
       "    <tr>\n",
       "      <th>4</th>\n",
       "      <td>NaN</td>\n",
       "    </tr>\n",
       "  </tbody>\n",
       "</table>\n",
       "</div>"
      ],
      "text/plain": [
       "   nuovi_positivi\n",
       "0             NaN\n",
       "1             NaN\n",
       "2             NaN\n",
       "3             NaN\n",
       "4             NaN"
      ]
     },
     "execution_count": 31,
     "metadata": {},
     "output_type": "execute_result"
    }
   ],
   "source": [
    "SMA_new_positive.head()"
   ]
  },
  {
   "cell_type": "code",
   "execution_count": 32,
   "metadata": {},
   "outputs": [
    {
     "data": {
      "text/html": [
       "\n",
       "\n",
       "\n",
       "\n",
       "\n",
       "\n",
       "  <div class=\"bk-root\" id=\"7553cc4d-5fd0-45de-b244-d9ac9c05092a\" data-root-id=\"5182\"></div>\n"
      ]
     },
     "metadata": {},
     "output_type": "display_data"
    },
    {
     "data": {
      "application/javascript": [
       "(function(root) {\n",
       "  function embed_document(root) {\n",
       "    \n",
       "  var docs_json = {\"bda5df88-792d-407f-9469-48024ec49fa5\":{\"roots\":{\"references\":[{\"attributes\":{\"below\":[{\"id\":\"5193\"}],\"center\":[{\"id\":\"5196\"},{\"id\":\"5200\"},{\"id\":\"5238\"}],\"left\":[{\"id\":\"5197\"}],\"plot_height\":450,\"renderers\":[{\"id\":\"5218\"},{\"id\":\"5243\"},{\"id\":\"5248\"},{\"id\":\"5276\"}],\"title\":{\"id\":\"5183\"},\"toolbar\":{\"id\":\"5208\"},\"x_range\":{\"id\":\"5185\"},\"x_scale\":{\"id\":\"5189\"},\"y_range\":{\"id\":\"5187\"},\"y_scale\":{\"id\":\"5191\"}},\"id\":\"5182\",\"subtype\":\"Figure\",\"type\":\"Plot\"},{\"attributes\":{\"line_alpha\":0.1,\"line_color\":\"lightcoral\",\"line_width\":4,\"x\":{\"field\":\"x\"},\"y\":{\"field\":\"y\"}},\"id\":\"5247\",\"type\":\"Line\"},{\"attributes\":{\"num_minor_ticks\":5,\"tickers\":[{\"id\":\"5225\"},{\"id\":\"5226\"},{\"id\":\"5227\"},{\"id\":\"5228\"},{\"id\":\"5229\"},{\"id\":\"5230\"},{\"id\":\"5231\"},{\"id\":\"5232\"},{\"id\":\"5233\"},{\"id\":\"5234\"},{\"id\":\"5235\"},{\"id\":\"5236\"}]},\"id\":\"5194\",\"type\":\"DatetimeTicker\"},{\"attributes\":{},\"id\":\"5206\",\"type\":\"HelpTool\"},{\"attributes\":{\"label\":{\"value\":\"SMA 7 days\"},\"renderers\":[{\"id\":\"5248\"}]},\"id\":\"5272\",\"type\":\"LegendItem\"},{\"attributes\":{\"line_color\":\"lightcoral\",\"line_width\":4,\"x\":{\"field\":\"x\"},\"y\":{\"field\":\"y\"}},\"id\":\"5246\",\"type\":\"Line\"},{\"attributes\":{},\"id\":\"5256\",\"type\":\"UnionRenderers\"},{\"attributes\":{},\"id\":\"5191\",\"type\":\"LinearScale\"},{\"attributes\":{},\"id\":\"5449\",\"type\":\"UnionRenderers\"},{\"attributes\":{},\"id\":\"5257\",\"type\":\"Selection\"},{\"attributes\":{\"mantissas\":[1,2,5],\"max_interval\":500.0,\"num_minor_ticks\":0},\"id\":\"5225\",\"type\":\"AdaptiveTicker\"},{\"attributes\":{},\"id\":\"5258\",\"type\":\"UnionRenderers\"},{\"attributes\":{\"axis\":{\"id\":\"5193\"},\"ticker\":null},\"id\":\"5196\",\"type\":\"Grid\"},{\"attributes\":{\"axis_label\":\"Date\",\"formatter\":{\"id\":\"5278\"},\"major_label_orientation\":0.7853981633974483,\"minor_tick_in\":-5,\"minor_tick_out\":-3,\"ticker\":{\"id\":\"5194\"}},\"id\":\"5193\",\"type\":\"DatetimeAxis\"},{\"attributes\":{\"days\":[1,4,7,10,13,16,19,22,25,28]},\"id\":\"5229\",\"type\":\"DaysTicker\"},{\"attributes\":{\"data\":{\"x\":{\"__ndarray__\":\"AAAA5UcHd0IAAMBKmgd3QgAAgLDsB3dCAABAFj8Id0IAAAB8kQh3QgAAwOHjCHdCAACARzYJd0IAAECtiAl3QgAAABPbCXdCAADAeC0Kd0IAAIDefwp3QgAAQETSCndCAAAAqiQLd0IAAMAPdwt3QgAAgHXJC3dCAABA2xsMd0IAAABBbgx3QgAAwKbADHdCAACADBMNd0IAAEByZQ13QgAAANi3DXdCAADAPQoOd0IAAICjXA53QgAAQAmvDndCAAAAbwEPd0IAAMDUUw93QgAAgDqmD3dCAABAoPgPd0IAAAAGSxB3QgAAwGudEHdCAACA0e8Qd0IAAEA3QhF3QgAAAJ2UEXdCAADAAucRd0IAAIBoORJ3QgAAQM6LEndCAAAANN4Sd0IAAMCZMBN3QgAAgP+CE3dCAABAZdUTd0IAAADLJxR3QgAAwDB6FHdCAACAlswUd0IAAED8HhV3QgAAAGJxFXdCAADAx8MVd0IAAIAtFhZ3QgAAQJNoFndCAAAA+boWd0IAAMBeDRd3QgAAgMRfF3dCAABAKrIXd0IAAACQBBh3QgAAwPVWGHdCAACAW6kYd0IAAEDB+xh3QgAAACdOGXdCAADAjKAZd0IAAIDy8hl3QgAAQFhFGndCAAAAvpcad0IAAMAj6hp3QgAAgIk8G3dCAABA744bd0IAAABV4Rt3QgAAwLozHHdCAACAIIYcd0IAAECG2Bx3QgAAAOwqHXdCAADAUX0dd0IAAIC3zx13QgAAQB0iHndCAAAAg3Qed0IAAMDoxh53QgAAgE4ZH3dCAABAtGsfd0IAAAAavh93QgAAwH8QIHdCAACA5WIgd0IAAEBLtSB3QgAAALEHIXdCAADAFlohd0IAAIB8rCF3QgAAQOL+IXdCAAAASFEid0IAAMCtoyJ3QgAAgBP2IndCAABAeUgjd0IAAADfmiN3QgAAwETtI3dCAACAqj8kd0IAAEAQkiR3QgAAAHbkJHdCAADA2zYld0IAAIBBiSV3QgAAQKfbJXdCAAAADS4md0IAAMBygCZ3QgAAgNjSJndCAABAPiUnd0IAAACkdyd3QgAAwAnKJ3dCAACAbxwod0IAAEDVbih3QgAAADvBKHdCAADAoBMpd0IAAIAGZil3QgAAQGy4KXdCAAAA0goqd0IAAMA3XSp3QgAAgJ2vKndCAABAAwIrd0IAAABpVCt3QgAAwM6mK3dCAACANPkrd0IAAECaSyx3QgAAAACeLHdCAADAZfAsd0IAAIDLQi13QgAAQDGVLXdCAAAAl+ctd0I=\",\"dtype\":\"float64\",\"shape\":[121]},\"y\":[221,93,78,250,238,240,566,342,466,587,769,778,1247,1492,1797,977,2313,2651,2547,3497,3590,3233,3526,4207,5322,5986,6557,5560,4789,5249,5210,6153,5959,5974,5217,4050,4053,4782,4668,4585,4805,4316,3599,3039,3836,4204,3951,4694,4092,3153,2972,2667,3786,3493,3491,3047,2256,2729,3370,2646,3021,2357,2324,1739,2091,2086,1872,1965,1900,1389,1221,1075,1444,1401,1327,1083,802,744,1402,888,992,789,875,675,451,813,665,642,652,669,531,300,397,584,593,516,416,355,178,318,321,177,518,270,197,280,283,202,379,163,346,338,303,210,329,333,251,262,224,218,122]},\"selected\":{\"id\":\"5257\"},\"selection_policy\":{\"id\":\"5258\"}},\"id\":\"5240\",\"type\":\"ColumnDataSource\"},{\"attributes\":{\"data\":{\"x\":{\"__ndarray__\":\"AAAA5UcHd0IAAMBKmgd3QgAAgLDsB3dCAABAFj8Id0IAAAB8kQh3QgAAwOHjCHdCAACARzYJd0IAAECtiAl3QgAAABPbCXdCAADAeC0Kd0IAAIDefwp3QgAAQETSCndCAAAAqiQLd0IAAMAPdwt3QgAAgHXJC3dCAABA2xsMd0IAAABBbgx3QgAAwKbADHdCAACADBMNd0IAAEByZQ13QgAAANi3DXdCAADAPQoOd0IAAICjXA53QgAAQAmvDndCAAAAbwEPd0IAAMDUUw93QgAAgDqmD3dCAABAoPgPd0IAAAAGSxB3QgAAwGudEHdCAACA0e8Qd0IAAEA3QhF3QgAAAJ2UEXdCAADAAucRd0IAAIBoORJ3QgAAQM6LEndCAAAANN4Sd0IAAMCZMBN3QgAAgP+CE3dCAABAZdUTd0IAAADLJxR3QgAAwDB6FHdCAACAlswUd0IAAED8HhV3QgAAAGJxFXdCAADAx8MVd0IAAIAtFhZ3QgAAQJNoFndCAAAA+boWd0IAAMBeDRd3QgAAgMRfF3dCAABAKrIXd0IAAACQBBh3QgAAwPVWGHdCAACAW6kYd0IAAEDB+xh3QgAAACdOGXdCAADAjKAZd0IAAIDy8hl3QgAAQFhFGndCAAAAvpcad0IAAMAj6hp3QgAAgIk8G3dCAABA744bd0IAAABV4Rt3QgAAwLozHHdCAACAIIYcd0IAAECG2Bx3QgAAAOwqHXdCAADAUX0dd0IAAIC3zx13QgAAQB0iHndCAAAAg3Qed0IAAMDoxh53QgAAgE4ZH3dCAABAtGsfd0IAAAAavh93QgAAwH8QIHdCAACA5WIgd0IAAEBLtSB3QgAAALEHIXdCAADAFlohd0IAAIB8rCF3QgAAQOL+IXdCAAAASFEid0IAAMCtoyJ3QgAAgBP2IndCAABAeUgjd0IAAADfmiN3QgAAwETtI3dCAACAqj8kd0IAAEAQkiR3QgAAAHbkJHdCAADA2zYld0IAAIBBiSV3QgAAQKfbJXdCAAAADS4md0IAAMBygCZ3QgAAgNjSJndCAABAPiUnd0IAAACkdyd3QgAAwAnKJ3dCAACAbxwod0IAAEDVbih3QgAAADvBKHdCAADAoBMpd0IAAIAGZil3QgAAQGy4KXdCAAAA0goqd0IAAMA3XSp3QgAAgJ2vKndCAABAAwIrd0IAAABpVCt3QgAAwM6mK3dCAACANPkrd0IAAECaSyx3QgAAAACeLHdCAADAZfAsd0IAAIDLQi13QgAAQDGVLXdCAAAAl+ctd0I=\",\"dtype\":\"float64\",\"shape\":[121]},\"y\":{\"__ndarray__\":\"AAAAAAAA+H8AAAAAAAD4fwAAAAAAAPh/AAAAAAAA+H8AAAAAAAD4fwAAAAAAAPh/t23btm0bbkAlSZIkSSJwQG7btm3bdnNAJUmSJEkCeEBJkiRJkqR8QLdt27Ztu4BAJUmSJEk6hUBJkiRJklyJQLdt27Zt249A27Zt27YRkUAAAAAAAOyUQLdt27ZtH5lAJUmSJEkSnUAAAAAAAAyhQLdt27ZtY6NA27Zt27b9pEAAAAAAANanQJIkSZIk86lAJUmSJEnurEC3bdu2bWKwQEmSJEmSF7JAAAAAAAAxs0AlSZIkSQ+0QLdt27ZtBbVA27Zt27aUtUC3bdu2bQu2QEmSJEmSB7ZAJUmSJEm0tUAlSZIkSYO1QNu2bdu2GbVAbtu2bdtutEDbtm3btjG0QEmSJEmSXbNAJUmSJEmZskAlSZIkSfKxQEmSJEmScbFAkiRJkiQxsUAlSZIkSaCwQJIkSZIkGbBA27Zt27atr0BJkiRJkviuQG7btm3b2K5Abtu2bduYrkC3bdu2bRmuQCVJkiRJBq5AJUmSJEm4rEBu27Zt20CsQAAAAAAAvqtAJUmSJElmqkDbtm3btjupQLdt27ZtO6hAAAAAAAD2p0Bu27Zt276oQJIkSZIkeadAJUmSJEnypkAlSZIkSa6lQNu2bdu236RAAAAAAABMpEDbtm3btpWjQG7btm3bJqJA27Zt27ZJoUAAAAAAABygQG7btm3bMp9ASZIkSZIcnUBJkiRJkvSbQAAAAAAAsJlAkiRJkiRBmEAAAAAAADSXQLdt27Ztx5VASZIkSZL0k0CSJEmSJKWSQEmSJEmSlJFAt23btm1PkkDbtm3bthGRQAAAAAAAKJBAkiRJkiTpjUC3bdu2bfuMQCVJkiRJaoxAt23btm0bi0AlSZIkSXqIQLdt27Zte4dAt23btm3rhUBu27Zt206FQLdt27ZtY4RAbtu2bdu+g0AlSZIkSRKDQG7btm3bNoFAJUmSJEnagEAlSZIkSaKAQG7btm3bBoBAt23btm3LfUCSJEmSJDl8QCVJkiRJIntA27Zt27ZtekBJkiRJkhR4QNu2bdu2XXRAJUmSJElidEBJkiRJkhRzQLdt27Ztq3FASZIkSZKUckBJkiRJkkRyQEmSJEmSNHFAJUmSJEkCc0Dbtm3btq1vQEmSJEmShHBAbtu2bdvGcUC3bdu2bftxQEmSJEmSVHFAbtu2bdt2ckDbtm3btg1yQG7btm3b1nJAbtu2bdsWckAlSZIkSRJxQAAAAAAAUHBA27Zt27YNb0A=\",\"dtype\":\"float64\",\"shape\":[121]}},\"selected\":{\"id\":\"5448\"},\"selection_policy\":{\"id\":\"5449\"}},\"id\":\"5245\",\"type\":\"ColumnDataSource\"},{\"attributes\":{\"source\":{\"id\":\"5245\"}},\"id\":\"5249\",\"type\":\"CDSView\"},{\"attributes\":{\"source\":{\"id\":\"5273\"}},\"id\":\"5277\",\"type\":\"CDSView\"},{\"attributes\":{\"data\":{\"x\":{\"__ndarray__\":\"AAAA5UcHd0IAAMBKmgd3QgAAgLDsB3dCAABAFj8Id0IAAAB8kQh3QgAAwOHjCHdCAACARzYJd0IAAECtiAl3QgAAABPbCXdCAADAeC0Kd0IAAIDefwp3QgAAQETSCndCAAAAqiQLd0IAAMAPdwt3QgAAgHXJC3dCAABA2xsMd0IAAABBbgx3QgAAwKbADHdCAACADBMNd0IAAEByZQ13QgAAANi3DXdCAADAPQoOd0IAAICjXA53QgAAQAmvDndCAAAAbwEPd0IAAMDUUw93QgAAgDqmD3dCAABAoPgPd0IAAAAGSxB3QgAAwGudEHdCAACA0e8Qd0IAAEA3QhF3QgAAAJ2UEXdCAADAAucRd0IAAIBoORJ3QgAAQM6LEndCAAAANN4Sd0IAAMCZMBN3QgAAgP+CE3dCAABAZdUTd0IAAADLJxR3QgAAwDB6FHdCAACAlswUd0IAAED8HhV3QgAAAGJxFXdCAADAx8MVd0IAAIAtFhZ3QgAAQJNoFndCAAAA+boWd0IAAMBeDRd3QgAAgMRfF3dCAABAKrIXd0IAAACQBBh3QgAAwPVWGHdCAACAW6kYd0IAAEDB+xh3QgAAACdOGXdCAADAjKAZd0IAAIDy8hl3QgAAQFhFGndCAAAAvpcad0IAAMAj6hp3QgAAgIk8G3dCAABA744bd0IAAABV4Rt3QgAAwLozHHdCAACAIIYcd0IAAECG2Bx3QgAAAOwqHXdCAADAUX0dd0IAAIC3zx13QgAAQB0iHndCAAAAg3Qed0IAAMDoxh53QgAAgE4ZH3dCAABAtGsfd0IAAAAavh93QgAAwH8QIHdCAACA5WIgd0IAAEBLtSB3QgAAALEHIXdCAADAFlohd0IAAIB8rCF3QgAAQOL+IXdCAAAASFEid0IAAMCtoyJ3QgAAgBP2IndCAABAeUgjd0IAAADfmiN3QgAAwETtI3dCAACAqj8kd0IAAEAQkiR3QgAAAHbkJHdCAADA2zYld0IAAIBBiSV3QgAAQKfbJXdCAAAADS4md0IAAMBygCZ3QgAAgNjSJndCAABAPiUnd0IAAACkdyd3QgAAwAnKJ3dCAACAbxwod0IAAEDVbih3QgAAADvBKHdCAADAoBMpd0IAAIAGZil3QgAAQGy4KXdCAAAA0goqd0IAAMA3XSp3QgAAgJ2vKndCAABAAwIrd0IAAABpVCt3QgAAwM6mK3dCAACANPkrd0IAAECaSyx3QgAAAACeLHdCAADAZfAsd0IAAIDLQi13QgAAQDGVLXdCAAAAl+ctd0I=\",\"dtype\":\"float64\",\"shape\":[121]},\"y\":{\"__ndarray__\":\"AAAAAAAA+H8AAAAAAAD4fwAAAAAAAPh/AAAAAAAA+H8AAAAAAAD4fwAAAAAAAPh/t23btm0bbkAlSZIkSSJwQG7btm3bdnNAJUmSJEkCeEBJkiRJkqR8QLdt27Ztu4BAJUmSJEk6hUBJkiRJklyJQLdt27Zt249A27Zt27YRkUAAAAAAAOyUQLdt27ZtH5lAJUmSJEkSnUAAAAAAAAyhQLdt27ZtY6NA27Zt27b9pEAAAAAAANanQJIkSZIk86lAJUmSJEnurEC3bdu2bWKwQEmSJEmSF7JAAAAAAAAxs0AlSZIkSQ+0QLdt27ZtBbVA27Zt27aUtUC3bdu2bQu2QEmSJEmSB7ZAJUmSJEm0tUAlSZIkSYO1QNu2bdu2GbVAbtu2bdtutEDbtm3btjG0QEmSJEmSXbNAJUmSJEmZskAlSZIkSfKxQEmSJEmScbFAkiRJkiQxsUAlSZIkSaCwQJIkSZIkGbBA27Zt27atr0BJkiRJkviuQG7btm3b2K5Abtu2bduYrkC3bdu2bRmuQCVJkiRJBq5AJUmSJEm4rEBu27Zt20CsQAAAAAAAvqtAJUmSJElmqkDbtm3btjupQLdt27ZtO6hAAAAAAAD2p0Bu27Zt276oQJIkSZIkeadAJUmSJEnypkAlSZIkSa6lQNu2bdu236RAAAAAAABMpEDbtm3btpWjQG7btm3bJqJA27Zt27ZJoUAAAAAAABygQG7btm3bMp9ASZIkSZIcnUBJkiRJkvSbQAAAAAAAsJlAkiRJkiRBmEAAAAAAADSXQLdt27Ztx5VASZIkSZL0k0CSJEmSJKWSQEmSJEmSlJFAt23btm1PkkDbtm3bthGRQAAAAAAAKJBAkiRJkiTpjUC3bdu2bfuMQCVJkiRJaoxAt23btm0bi0AlSZIkSXqIQLdt27Zte4dAt23btm3rhUBu27Zt206FQLdt27ZtY4RAbtu2bdu+g0AlSZIkSRKDQG7btm3bNoFAJUmSJEnagEAlSZIkSaKAQG7btm3bBoBAt23btm3LfUCSJEmSJDl8QCVJkiRJIntA27Zt27ZtekBJkiRJkhR4QNu2bdu2XXRAJUmSJElidEBJkiRJkhRzQLdt27Ztq3FASZIkSZKUckBJkiRJkkRyQEmSJEmSNHFAJUmSJEkCc0Dbtm3btq1vQEmSJEmShHBAbtu2bdvGcUC3bdu2bftxQEmSJEmSVHFAbtu2bdt2ckDbtm3btg1yQG7btm3b1nJAbtu2bdsWckAlSZIkSRJxQAAAAAAAUHBA27Zt27YNb0A=\",\"dtype\":\"float64\",\"shape\":[121]}},\"selected\":{\"id\":\"5450\"},\"selection_policy\":{\"id\":\"5451\"}},\"id\":\"5273\",\"type\":\"ColumnDataSource\"},{\"attributes\":{},\"id\":\"5198\",\"type\":\"BasicTicker\"},{\"attributes\":{},\"id\":\"5236\",\"type\":\"YearsTicker\"},{\"attributes\":{\"days\":[1,8,15,22]},\"id\":\"5230\",\"type\":\"DaysTicker\"},{\"attributes\":{\"axis\":{\"id\":\"5197\"},\"dimension\":1,\"ticker\":null},\"id\":\"5200\",\"type\":\"Grid\"},{\"attributes\":{},\"id\":\"5450\",\"type\":\"Selection\"},{\"attributes\":{\"base\":24,\"mantissas\":[1,2,4,6,8,12],\"max_interval\":43200000.0,\"min_interval\":3600000.0,\"num_minor_ticks\":0},\"id\":\"5227\",\"type\":\"AdaptiveTicker\"},{\"attributes\":{\"axis_label\":\"New Positive\",\"formatter\":{\"id\":\"5282\"},\"minor_tick_in\":-5,\"minor_tick_out\":-3,\"ticker\":{\"id\":\"5198\"}},\"id\":\"5197\",\"type\":\"LinearAxis\"},{\"attributes\":{\"days\":[1,15]},\"id\":\"5231\",\"type\":\"DaysTicker\"},{\"attributes\":{\"data_source\":{\"id\":\"5245\"},\"glyph\":{\"id\":\"5246\"},\"hover_glyph\":null,\"muted_glyph\":null,\"nonselection_glyph\":{\"id\":\"5247\"},\"selection_glyph\":null,\"view\":{\"id\":\"5249\"}},\"id\":\"5248\",\"type\":\"GlyphRenderer\"},{\"attributes\":{\"months\":[0,4,8]},\"id\":\"5234\",\"type\":\"MonthsTicker\"},{\"attributes\":{\"months\":[0,2,4,6,8,10]},\"id\":\"5233\",\"type\":\"MonthsTicker\"},{\"attributes\":{\"items\":[{\"id\":\"5239\"},{\"id\":\"5272\"}],\"location\":\"top_left\"},\"id\":\"5238\",\"type\":\"Legend\"},{\"attributes\":{\"days\":[1,2,3,4,5,6,7,8,9,10,11,12,13,14,15,16,17,18,19,20,21,22,23,24,25,26,27,28,29,30,31]},\"id\":\"5228\",\"type\":\"DaysTicker\"},{\"attributes\":{\"label\":{\"value\":\"new positive\"},\"renderers\":[{\"id\":\"5218\"}]},\"id\":\"5239\",\"type\":\"LegendItem\"},{\"attributes\":{\"data_source\":{\"id\":\"5215\"},\"glyph\":{\"id\":\"5216\"},\"hover_glyph\":null,\"muted_glyph\":null,\"nonselection_glyph\":{\"id\":\"5217\"},\"selection_glyph\":null,\"view\":{\"id\":\"5219\"}},\"id\":\"5218\",\"type\":\"GlyphRenderer\"},{\"attributes\":{\"fill_alpha\":{\"value\":0.1},\"fill_color\":{\"value\":\"white\"},\"line_alpha\":{\"value\":0.1},\"line_color\":{\"value\":\"lightcoral\"},\"size\":{\"units\":\"screen\",\"value\":6},\"x\":{\"field\":\"x\"},\"y\":{\"field\":\"y\"}},\"id\":\"5275\",\"type\":\"Circle\"},{\"attributes\":{\"source\":{\"id\":\"5215\"}},\"id\":\"5219\",\"type\":\"CDSView\"},{\"attributes\":{},\"id\":\"5255\",\"type\":\"Selection\"},{\"attributes\":{},\"id\":\"5448\",\"type\":\"Selection\"},{\"attributes\":{\"base\":60,\"mantissas\":[1,2,5,10,15,20,30],\"max_interval\":1800000.0,\"min_interval\":1000.0,\"num_minor_ticks\":0},\"id\":\"5226\",\"type\":\"AdaptiveTicker\"},{\"attributes\":{\"active_drag\":\"auto\",\"active_inspect\":\"auto\",\"active_multi\":null,\"active_scroll\":\"auto\",\"active_tap\":\"auto\",\"tools\":[{\"id\":\"5201\"},{\"id\":\"5202\"},{\"id\":\"5203\"},{\"id\":\"5204\"},{\"id\":\"5205\"},{\"id\":\"5206\"},{\"id\":\"5283\"}]},\"id\":\"5208\",\"type\":\"Toolbar\"},{\"attributes\":{\"days\":[\"%d %B\"]},\"id\":\"5278\",\"type\":\"DatetimeTickFormatter\"},{\"attributes\":{\"months\":[0,1,2,3,4,5,6,7,8,9,10,11]},\"id\":\"5232\",\"type\":\"MonthsTicker\"},{\"attributes\":{\"months\":[0,6]},\"id\":\"5235\",\"type\":\"MonthsTicker\"},{\"attributes\":{\"data_source\":{\"id\":\"5273\"},\"glyph\":{\"id\":\"5274\"},\"hover_glyph\":null,\"muted_glyph\":null,\"nonselection_glyph\":{\"id\":\"5275\"},\"selection_glyph\":null,\"view\":{\"id\":\"5277\"}},\"id\":\"5276\",\"type\":\"GlyphRenderer\"},{\"attributes\":{\"data\":{\"x\":{\"__ndarray__\":\"AAAA5UcHd0IAAMBKmgd3QgAAgLDsB3dCAABAFj8Id0IAAAB8kQh3QgAAwOHjCHdCAACARzYJd0IAAECtiAl3QgAAABPbCXdCAADAeC0Kd0IAAIDefwp3QgAAQETSCndCAAAAqiQLd0IAAMAPdwt3QgAAgHXJC3dCAABA2xsMd0IAAABBbgx3QgAAwKbADHdCAACADBMNd0IAAEByZQ13QgAAANi3DXdCAADAPQoOd0IAAICjXA53QgAAQAmvDndCAAAAbwEPd0IAAMDUUw93QgAAgDqmD3dCAABAoPgPd0IAAAAGSxB3QgAAwGudEHdCAACA0e8Qd0IAAEA3QhF3QgAAAJ2UEXdCAADAAucRd0IAAIBoORJ3QgAAQM6LEndCAAAANN4Sd0IAAMCZMBN3QgAAgP+CE3dCAABAZdUTd0IAAADLJxR3QgAAwDB6FHdCAACAlswUd0IAAED8HhV3QgAAAGJxFXdCAADAx8MVd0IAAIAtFhZ3QgAAQJNoFndCAAAA+boWd0IAAMBeDRd3QgAAgMRfF3dCAABAKrIXd0IAAACQBBh3QgAAwPVWGHdCAACAW6kYd0IAAEDB+xh3QgAAACdOGXdCAADAjKAZd0IAAIDy8hl3QgAAQFhFGndCAAAAvpcad0IAAMAj6hp3QgAAgIk8G3dCAABA744bd0IAAABV4Rt3QgAAwLozHHdCAACAIIYcd0IAAECG2Bx3QgAAAOwqHXdCAADAUX0dd0IAAIC3zx13QgAAQB0iHndCAAAAg3Qed0IAAMDoxh53QgAAgE4ZH3dCAABAtGsfd0IAAAAavh93QgAAwH8QIHdCAACA5WIgd0IAAEBLtSB3QgAAALEHIXdCAADAFlohd0IAAIB8rCF3QgAAQOL+IXdCAAAASFEid0IAAMCtoyJ3QgAAgBP2IndCAABAeUgjd0IAAADfmiN3QgAAwETtI3dCAACAqj8kd0IAAEAQkiR3QgAAAHbkJHdCAADA2zYld0IAAIBBiSV3QgAAQKfbJXdCAAAADS4md0IAAMBygCZ3QgAAgNjSJndCAABAPiUnd0IAAACkdyd3QgAAwAnKJ3dCAACAbxwod0IAAEDVbih3QgAAADvBKHdCAADAoBMpd0IAAIAGZil3QgAAQGy4KXdCAAAA0goqd0IAAMA3XSp3QgAAgJ2vKndCAABAAwIrd0IAAABpVCt3QgAAwM6mK3dCAACANPkrd0IAAECaSyx3QgAAAACeLHdCAADAZfAsd0IAAIDLQi13QgAAQDGVLXdCAAAAl+ctd0I=\",\"dtype\":\"float64\",\"shape\":[121]},\"y\":[221,93,78,250,238,240,566,342,466,587,769,778,1247,1492,1797,977,2313,2651,2547,3497,3590,3233,3526,4207,5322,5986,6557,5560,4789,5249,5210,6153,5959,5974,5217,4050,4053,4782,4668,4585,4805,4316,3599,3039,3836,4204,3951,4694,4092,3153,2972,2667,3786,3493,3491,3047,2256,2729,3370,2646,3021,2357,2324,1739,2091,2086,1872,1965,1900,1389,1221,1075,1444,1401,1327,1083,802,744,1402,888,992,789,875,675,451,813,665,642,652,669,531,300,397,584,593,516,416,355,178,318,321,177,518,270,197,280,283,202,379,163,346,338,303,210,329,333,251,262,224,218,122]},\"selected\":{\"id\":\"5255\"},\"selection_policy\":{\"id\":\"5256\"}},\"id\":\"5215\",\"type\":\"ColumnDataSource\"},{\"attributes\":{\"bottom_units\":\"screen\",\"fill_alpha\":0.5,\"fill_color\":\"lightgrey\",\"left_units\":\"screen\",\"level\":\"overlay\",\"line_alpha\":1.0,\"line_color\":\"black\",\"line_dash\":[4,4],\"line_width\":2,\"render_mode\":\"css\",\"right_units\":\"screen\",\"top_units\":\"screen\"},\"id\":\"5207\",\"type\":\"BoxAnnotation\"},{\"attributes\":{\"data_source\":{\"id\":\"5240\"},\"glyph\":{\"id\":\"5241\"},\"hover_glyph\":null,\"muted_glyph\":null,\"nonselection_glyph\":{\"id\":\"5242\"},\"selection_glyph\":null,\"view\":{\"id\":\"5244\"}},\"id\":\"5243\",\"type\":\"GlyphRenderer\"},{\"attributes\":{\"line_color\":\"blue\",\"line_width\":4,\"x\":{\"field\":\"x\"},\"y\":{\"field\":\"y\"}},\"id\":\"5216\",\"type\":\"Line\"},{\"attributes\":{},\"id\":\"5201\",\"type\":\"PanTool\"},{\"attributes\":{\"text\":\"New Positive: Italy\"},\"id\":\"5183\",\"type\":\"Title\"},{\"attributes\":{\"source\":{\"id\":\"5240\"}},\"id\":\"5244\",\"type\":\"CDSView\"},{\"attributes\":{},\"id\":\"5282\",\"type\":\"NumeralTickFormatter\"},{\"attributes\":{},\"id\":\"5202\",\"type\":\"WheelZoomTool\"},{\"attributes\":{},\"id\":\"5187\",\"type\":\"DataRange1d\"},{\"attributes\":{\"line_alpha\":0.1,\"line_color\":\"blue\",\"line_width\":4,\"x\":{\"field\":\"x\"},\"y\":{\"field\":\"y\"}},\"id\":\"5217\",\"type\":\"Line\"},{\"attributes\":{\"fill_alpha\":{\"value\":0.1},\"fill_color\":{\"value\":\"white\"},\"line_alpha\":{\"value\":0.1},\"line_color\":{\"value\":\"blue\"},\"size\":{\"units\":\"screen\",\"value\":6},\"x\":{\"field\":\"x\"},\"y\":{\"field\":\"y\"}},\"id\":\"5242\",\"type\":\"Circle\"},{\"attributes\":{\"fill_color\":{\"value\":\"white\"},\"line_color\":{\"value\":\"blue\"},\"size\":{\"units\":\"screen\",\"value\":6},\"x\":{\"field\":\"x\"},\"y\":{\"field\":\"y\"}},\"id\":\"5241\",\"type\":\"Circle\"},{\"attributes\":{\"overlay\":{\"id\":\"5207\"}},\"id\":\"5203\",\"type\":\"BoxZoomTool\"},{\"attributes\":{\"callback\":null,\"formatters\":{\"@x\":\"datetime\"},\"mode\":\"vline\",\"tooltips\":[[\"date\",\"@x{%d %B}\"],[\"new_positive OR SMA 7\",\"@y{0.}\"]]},\"id\":\"5283\",\"type\":\"HoverTool\"},{\"attributes\":{},\"id\":\"5185\",\"type\":\"DataRange1d\"},{\"attributes\":{},\"id\":\"5451\",\"type\":\"UnionRenderers\"},{\"attributes\":{},\"id\":\"5189\",\"type\":\"LinearScale\"},{\"attributes\":{\"fill_color\":{\"value\":\"white\"},\"line_color\":{\"value\":\"lightcoral\"},\"size\":{\"units\":\"screen\",\"value\":6},\"x\":{\"field\":\"x\"},\"y\":{\"field\":\"y\"}},\"id\":\"5274\",\"type\":\"Circle\"},{\"attributes\":{},\"id\":\"5204\",\"type\":\"SaveTool\"},{\"attributes\":{},\"id\":\"5205\",\"type\":\"ResetTool\"}],\"root_ids\":[\"5182\"]},\"title\":\"Bokeh Application\",\"version\":\"2.0.2\"}};\n",
       "  var render_items = [{\"docid\":\"bda5df88-792d-407f-9469-48024ec49fa5\",\"root_ids\":[\"5182\"],\"roots\":{\"5182\":\"7553cc4d-5fd0-45de-b244-d9ac9c05092a\"}}];\n",
       "  root.Bokeh.embed.embed_items_notebook(docs_json, render_items);\n",
       "\n",
       "  }\n",
       "  if (root.Bokeh !== undefined) {\n",
       "    embed_document(root);\n",
       "  } else {\n",
       "    var attempts = 0;\n",
       "    var timer = setInterval(function(root) {\n",
       "      if (root.Bokeh !== undefined) {\n",
       "        clearInterval(timer);\n",
       "        embed_document(root);\n",
       "      } else {\n",
       "        attempts++;\n",
       "        if (attempts > 100) {\n",
       "          clearInterval(timer);\n",
       "          console.log(\"Bokeh: ERROR: Unable to run BokehJS code because BokehJS library is missing\");\n",
       "        }\n",
       "      }\n",
       "    }, 10, root)\n",
       "  }\n",
       "})(window);"
      ],
      "application/vnd.bokehjs_exec.v0+json": ""
     },
     "metadata": {
      "application/vnd.bokehjs_exec.v0+json": {
       "id": "5182"
      }
     },
     "output_type": "display_data"
    }
   ],
   "source": [
    "p_new_positive_SMA_Italy = bokeh_plot_2_lines(x=time_date_new, y=nuovi_positivi_italy, yy=SMA_new_positive['nuovi_positivi'], \n",
    "                  title='New Positive: Italy', \n",
    "                  file_name=\"new_positive_SMA_Italy.html\", \n",
    "                  x_label='Date', y_label='New Positive', \n",
    "                  legend_1='new positive', legend_2='SMA 7 days',\n",
    "                  x_label_hover='date' , y_label_hover='new_positive OR SMA 7' , \n",
    "                  color_1='blue', color_2='lightcoral', y_minmax=None)\n",
    "\n",
    "show(p_new_positive_SMA_Italy)"
   ]
  },
  {
   "cell_type": "markdown",
   "metadata": {},
   "source": [
    "------------------------"
   ]
  },
  {
   "cell_type": "code",
   "execution_count": 33,
   "metadata": {},
   "outputs": [],
   "source": [
    "# show(row(p_new_positive_Italy,p_new_deaths_Italy))"
   ]
  },
  {
   "cell_type": "code",
   "execution_count": 34,
   "metadata": {},
   "outputs": [
    {
     "data": {
      "text/html": [
       "\n",
       "\n",
       "\n",
       "\n",
       "\n",
       "\n",
       "  <div class=\"bk-root\" id=\"6100b110-76fe-48a2-8632-f7c7ca41224f\" data-root-id=\"5922\"></div>\n"
      ]
     },
     "metadata": {},
     "output_type": "display_data"
    },
    {
     "data": {
      "application/javascript": [
       "(function(root) {\n",
       "  function embed_document(root) {\n",
       "    \n",
       "  var docs_json = {\"ad2f5124-089b-45cd-8775-ba3b67edd0d3\":{\"roots\":{\"references\":[{\"attributes\":{\"below\":[{\"id\":\"5933\"}],\"center\":[{\"id\":\"5936\"},{\"id\":\"5940\"},{\"id\":\"5978\"}],\"left\":[{\"id\":\"5937\"}],\"plot_height\":450,\"renderers\":[{\"id\":\"5958\"},{\"id\":\"5983\"},{\"id\":\"5988\"},{\"id\":\"6016\"}],\"title\":{\"id\":\"5923\"},\"toolbar\":{\"id\":\"5948\"},\"x_range\":{\"id\":\"5925\"},\"x_scale\":{\"id\":\"5929\"},\"y_range\":{\"id\":\"5927\"},\"y_scale\":{\"id\":\"5931\"}},\"id\":\"5922\",\"subtype\":\"Figure\",\"type\":\"Plot\"},{\"attributes\":{\"line_alpha\":0.1,\"line_color\":\"darkviolet\",\"line_width\":4,\"x\":{\"field\":\"x\"},\"y\":{\"field\":\"y\"}},\"id\":\"5957\",\"type\":\"Line\"},{\"attributes\":{\"fill_color\":{\"value\":\"white\"},\"line_color\":{\"value\":\"darkviolet\"},\"size\":{\"units\":\"screen\",\"value\":6},\"x\":{\"field\":\"x\"},\"y\":{\"field\":\"y\"}},\"id\":\"5981\",\"type\":\"Circle\"},{\"attributes\":{},\"id\":\"5997\",\"type\":\"Selection\"},{\"attributes\":{},\"id\":\"5998\",\"type\":\"UnionRenderers\"},{\"attributes\":{},\"id\":\"6215\",\"type\":\"UnionRenderers\"},{\"attributes\":{\"months\":[0,4,8]},\"id\":\"5974\",\"type\":\"MonthsTicker\"},{\"attributes\":{\"fill_color\":{\"value\":\"white\"},\"line_color\":{\"value\":\"blue\"},\"size\":{\"units\":\"screen\",\"value\":6},\"x\":{\"field\":\"x\"},\"y\":{\"field\":\"y\"}},\"id\":\"6014\",\"type\":\"Circle\"},{\"attributes\":{\"line_color\":\"darkviolet\",\"line_width\":4,\"x\":{\"field\":\"x\"},\"y\":{\"field\":\"y\"}},\"id\":\"5956\",\"type\":\"Line\"},{\"attributes\":{\"source\":{\"id\":\"5985\"}},\"id\":\"5989\",\"type\":\"CDSView\"},{\"attributes\":{\"data\":{\"x\":{\"__ndarray__\":\"AAAA5UcHd0IAAMBKmgd3QgAAgLDsB3dCAABAFj8Id0IAAAB8kQh3QgAAwOHjCHdCAACARzYJd0IAAECtiAl3QgAAABPbCXdCAADAeC0Kd0IAAIDefwp3QgAAQETSCndCAAAAqiQLd0IAAMAPdwt3QgAAgHXJC3dCAABA2xsMd0IAAABBbgx3QgAAwKbADHdCAACADBMNd0IAAEByZQ13QgAAANi3DXdCAADAPQoOd0IAAICjXA53QgAAQAmvDndCAAAAbwEPd0IAAMDUUw93QgAAgDqmD3dCAABAoPgPd0IAAAAGSxB3QgAAwGudEHdCAACA0e8Qd0IAAEA3QhF3QgAAAJ2UEXdCAADAAucRd0IAAIBoORJ3QgAAQM6LEndCAAAANN4Sd0IAAMCZMBN3QgAAgP+CE3dCAABAZdUTd0IAAADLJxR3QgAAwDB6FHdCAACAlswUd0IAAED8HhV3QgAAAGJxFXdCAADAx8MVd0IAAIAtFhZ3QgAAQJNoFndCAAAA+boWd0IAAMBeDRd3QgAAgMRfF3dCAABAKrIXd0IAAACQBBh3QgAAwPVWGHdCAACAW6kYd0IAAEDB+xh3QgAAACdOGXdCAADAjKAZd0IAAIDy8hl3QgAAQFhFGndCAAAAvpcad0IAAMAj6hp3QgAAgIk8G3dCAABA744bd0IAAABV4Rt3QgAAwLozHHdCAACAIIYcd0IAAECG2Bx3QgAAAOwqHXdCAADAUX0dd0IAAIC3zx13QgAAQB0iHndCAAAAg3Qed0IAAMDoxh53QgAAgE4ZH3dCAABAtGsfd0IAAAAavh93QgAAwH8QIHdCAACA5WIgd0IAAEBLtSB3QgAAALEHIXdCAADAFlohd0IAAIB8rCF3QgAAQOL+IXdCAAAASFEid0IAAMCtoyJ3QgAAgBP2IndCAABAeUgjd0IAAADfmiN3QgAAwETtI3dCAACAqj8kd0IAAEAQkiR3QgAAAHbkJHdCAADA2zYld0IAAIBBiSV3QgAAQKfbJXdCAAAADS4md0IAAMBygCZ3QgAAgNjSJndCAABAPiUnd0IAAACkdyd3QgAAwAnKJ3dCAACAbxwod0IAAEDVbih3QgAAADvBKHdCAADAoBMpd0IAAIAGZil3QgAAQGy4KXdCAAAA0goqd0IAAMA3XSp3QgAAgJ2vKndCAABAAwIrd0IAAABpVCt3QgAAwM6mK3dCAACANPkrd0IAAECaSyx3QgAAAACeLHdCAADAZfAsd0IAAIDLQi13QgAAQDGVLXdCAAAAl+ctd0I=\",\"dtype\":\"float64\",\"shape\":[121]},\"y\":[221,93,78,250,238,240,566,342,466,587,769,778,1247,1492,1797,977,2313,2651,2547,3497,3590,3233,3526,4207,5322,5986,6557,5560,4789,5249,5210,6153,5959,5974,5217,4050,4053,4782,4668,4585,4805,4316,3599,3039,3836,4204,3951,4694,4092,3153,2972,2667,3786,3493,3491,3047,2256,2729,3370,2646,3021,2357,2324,1739,2091,2086,1872,1965,1900,1389,1221,1075,1444,1401,1327,1083,802,744,1402,888,992,789,875,675,451,813,665,642,652,669,531,300,397,584,593,516,416,355,178,318,321,177,518,270,197,280,283,202,379,163,346,338,303,210,329,333,251,262,224,218,122]},\"selected\":{\"id\":\"6214\"},\"selection_policy\":{\"id\":\"6215\"}},\"id\":\"6013\",\"type\":\"ColumnDataSource\"},{\"attributes\":{\"items\":[{\"id\":\"5979\"},{\"id\":\"6012\"}],\"location\":\"top_left\"},\"id\":\"5978\",\"type\":\"Legend\"},{\"attributes\":{},\"id\":\"6212\",\"type\":\"Selection\"},{\"attributes\":{},\"id\":\"5976\",\"type\":\"YearsTicker\"},{\"attributes\":{\"active_drag\":\"auto\",\"active_inspect\":\"auto\",\"active_multi\":null,\"active_scroll\":\"auto\",\"active_tap\":\"auto\",\"tools\":[{\"id\":\"5941\"},{\"id\":\"5942\"},{\"id\":\"5943\"},{\"id\":\"5944\"},{\"id\":\"5945\"},{\"id\":\"5946\"},{\"id\":\"6023\"}]},\"id\":\"5948\",\"type\":\"Toolbar\"},{\"attributes\":{\"data_source\":{\"id\":\"5985\"},\"glyph\":{\"id\":\"5986\"},\"hover_glyph\":null,\"muted_glyph\":null,\"nonselection_glyph\":{\"id\":\"5987\"},\"selection_glyph\":null,\"view\":{\"id\":\"5989\"}},\"id\":\"5988\",\"type\":\"GlyphRenderer\"},{\"attributes\":{\"data\":{\"x\":{\"__ndarray__\":\"AAAA5UcHd0IAAMBKmgd3QgAAgLDsB3dCAABAFj8Id0IAAAB8kQh3QgAAwOHjCHdCAACARzYJd0IAAECtiAl3QgAAABPbCXdCAADAeC0Kd0IAAIDefwp3QgAAQETSCndCAAAAqiQLd0IAAMAPdwt3QgAAgHXJC3dCAABA2xsMd0IAAABBbgx3QgAAwKbADHdCAACADBMNd0IAAEByZQ13QgAAANi3DXdCAADAPQoOd0IAAICjXA53QgAAQAmvDndCAAAAbwEPd0IAAMDUUw93QgAAgDqmD3dCAABAoPgPd0IAAAAGSxB3QgAAwGudEHdCAACA0e8Qd0IAAEA3QhF3QgAAAJ2UEXdCAADAAucRd0IAAIBoORJ3QgAAQM6LEndCAAAANN4Sd0IAAMCZMBN3QgAAgP+CE3dCAABAZdUTd0IAAADLJxR3QgAAwDB6FHdCAACAlswUd0IAAED8HhV3QgAAAGJxFXdCAADAx8MVd0IAAIAtFhZ3QgAAQJNoFndCAAAA+boWd0IAAMBeDRd3QgAAgMRfF3dCAABAKrIXd0IAAACQBBh3QgAAwPVWGHdCAACAW6kYd0IAAEDB+xh3QgAAACdOGXdCAADAjKAZd0IAAIDy8hl3QgAAQFhFGndCAAAAvpcad0IAAMAj6hp3QgAAgIk8G3dCAABA744bd0IAAABV4Rt3QgAAwLozHHdCAACAIIYcd0IAAECG2Bx3QgAAAOwqHXdCAADAUX0dd0IAAIC3zx13QgAAQB0iHndCAAAAg3Qed0IAAMDoxh53QgAAgE4ZH3dCAABAtGsfd0IAAAAavh93QgAAwH8QIHdCAACA5WIgd0IAAEBLtSB3QgAAALEHIXdCAADAFlohd0IAAIB8rCF3QgAAQOL+IXdCAAAASFEid0IAAMCtoyJ3QgAAgBP2IndCAABAeUgjd0IAAADfmiN3QgAAwETtI3dCAACAqj8kd0IAAEAQkiR3QgAAAHbkJHdCAADA2zYld0IAAIBBiSV3QgAAQKfbJXdCAAAADS4md0IAAMBygCZ3QgAAgNjSJndCAABAPiUnd0IAAACkdyd3QgAAwAnKJ3dCAACAbxwod0IAAEDVbih3QgAAADvBKHdCAADAoBMpd0IAAIAGZil3QgAAQGy4KXdCAAAA0goqd0IAAMA3XSp3QgAAgJ2vKndCAABAAwIrd0IAAABpVCt3QgAAwM6mK3dCAACANPkrd0IAAECaSyx3QgAAAACeLHdCAADAZfAsd0IAAIDLQi13QgAAQDGVLXdCAAAAl+ctd0I=\",\"dtype\":\"float64\",\"shape\":[121]},\"y\":[221,93,78,250,238,240,566,342,466,587,769,778,1247,1492,1797,977,2313,2651,2547,3497,3590,3233,3526,4207,5322,5986,6557,5560,4789,5249,5210,6153,5959,5974,5217,4050,4053,4782,4668,4585,4805,4316,3599,3039,3836,4204,3951,4694,4092,3153,2972,2667,3786,3493,3491,3047,2256,2729,3370,2646,3021,2357,2324,1739,2091,2086,1872,1965,1900,1389,1221,1075,1444,1401,1327,1083,802,744,1402,888,992,789,875,675,451,813,665,642,652,669,531,300,397,584,593,516,416,355,178,318,321,177,518,270,197,280,283,202,379,163,346,338,303,210,329,333,251,262,224,218,122]},\"selected\":{\"id\":\"6212\"},\"selection_policy\":{\"id\":\"6213\"}},\"id\":\"5985\",\"type\":\"ColumnDataSource\"},{\"attributes\":{\"months\":[0,6]},\"id\":\"5975\",\"type\":\"MonthsTicker\"},{\"attributes\":{\"source\":{\"id\":\"6013\"}},\"id\":\"6017\",\"type\":\"CDSView\"},{\"attributes\":{\"bottom_units\":\"screen\",\"fill_alpha\":0.5,\"fill_color\":\"lightgrey\",\"left_units\":\"screen\",\"level\":\"overlay\",\"line_alpha\":1.0,\"line_color\":\"black\",\"line_dash\":[4,4],\"line_width\":2,\"render_mode\":\"css\",\"right_units\":\"screen\",\"top_units\":\"screen\"},\"id\":\"5947\",\"type\":\"BoxAnnotation\"},{\"attributes\":{},\"id\":\"5929\",\"type\":\"LinearScale\"},{\"attributes\":{},\"id\":\"5927\",\"type\":\"DataRange1d\"},{\"attributes\":{\"data\":{\"x\":{\"__ndarray__\":\"AAAA5UcHd0IAAMBKmgd3QgAAgLDsB3dCAABAFj8Id0IAAAB8kQh3QgAAwOHjCHdCAACARzYJd0IAAECtiAl3QgAAABPbCXdCAADAeC0Kd0IAAIDefwp3QgAAQETSCndCAAAAqiQLd0IAAMAPdwt3QgAAgHXJC3dCAABA2xsMd0IAAABBbgx3QgAAwKbADHdCAACADBMNd0IAAEByZQ13QgAAANi3DXdCAADAPQoOd0IAAICjXA53QgAAQAmvDndCAAAAbwEPd0IAAMDUUw93QgAAgDqmD3dCAABAoPgPd0IAAAAGSxB3QgAAwGudEHdCAACA0e8Qd0IAAEA3QhF3QgAAAJ2UEXdCAADAAucRd0IAAIBoORJ3QgAAQM6LEndCAAAANN4Sd0IAAMCZMBN3QgAAgP+CE3dCAABAZdUTd0IAAADLJxR3QgAAwDB6FHdCAACAlswUd0IAAED8HhV3QgAAAGJxFXdCAADAx8MVd0IAAIAtFhZ3QgAAQJNoFndCAAAA+boWd0IAAMBeDRd3QgAAgMRfF3dCAABAKrIXd0IAAACQBBh3QgAAwPVWGHdCAACAW6kYd0IAAEDB+xh3QgAAACdOGXdCAADAjKAZd0IAAIDy8hl3QgAAQFhFGndCAAAAvpcad0IAAMAj6hp3QgAAgIk8G3dCAABA744bd0IAAABV4Rt3QgAAwLozHHdCAACAIIYcd0IAAECG2Bx3QgAAAOwqHXdCAADAUX0dd0IAAIC3zx13QgAAQB0iHndCAAAAg3Qed0IAAMDoxh53QgAAgE4ZH3dCAABAtGsfd0IAAAAavh93QgAAwH8QIHdCAACA5WIgd0IAAEBLtSB3QgAAALEHIXdCAADAFlohd0IAAIB8rCF3QgAAQOL+IXdCAAAASFEid0IAAMCtoyJ3QgAAgBP2IndCAABAeUgjd0IAAADfmiN3QgAAwETtI3dCAACAqj8kd0IAAEAQkiR3QgAAAHbkJHdCAADA2zYld0IAAIBBiSV3QgAAQKfbJXdCAAAADS4md0IAAMBygCZ3QgAAgNjSJndCAABAPiUnd0IAAACkdyd3QgAAwAnKJ3dCAACAbxwod0IAAEDVbih3QgAAADvBKHdCAADAoBMpd0IAAIAGZil3QgAAQGy4KXdCAAAA0goqd0IAAMA3XSp3QgAAgJ2vKndCAABAAwIrd0IAAABpVCt3QgAAwM6mK3dCAACANPkrd0IAAECaSyx3QgAAAACeLHdCAADAZfAsd0IAAIDLQi13QgAAQDGVLXdCAAAAl+ctd0I=\",\"dtype\":\"float64\",\"shape\":[121]},\"y\":[0,3,2,5,4,8,5,18,27,28,41,49,36,133,97,168,196,189,250,175,368,349,345,475,427,627,793,651,601,743,683,662,969,889,756,812,837,727,760,766,681,525,636,604,542,610,570,619,431,566,602,578,525,575,482,433,454,534,437,464,420,415,260,333,382,323,285,269,474,174,195,236,369,274,243,194,165,179,172,195,262,242,153,145,99,162,161,156,130,119,50,92,78,117,70,87,111,75,60,55,71,88,85,72,53,65,79,71,53,56,78,44,26,34,43,66,47,49,24,23,18]},\"selected\":{\"id\":\"5997\"},\"selection_policy\":{\"id\":\"5998\"}},\"id\":\"5980\",\"type\":\"ColumnDataSource\"},{\"attributes\":{\"fill_alpha\":{\"value\":0.1},\"fill_color\":{\"value\":\"white\"},\"line_alpha\":{\"value\":0.1},\"line_color\":{\"value\":\"blue\"},\"size\":{\"units\":\"screen\",\"value\":6},\"x\":{\"field\":\"x\"},\"y\":{\"field\":\"y\"}},\"id\":\"6015\",\"type\":\"Circle\"},{\"attributes\":{},\"id\":\"5941\",\"type\":\"PanTool\"},{\"attributes\":{\"days\":[\"%d %B\"]},\"id\":\"6018\",\"type\":\"DatetimeTickFormatter\"},{\"attributes\":{},\"id\":\"5944\",\"type\":\"SaveTool\"},{\"attributes\":{\"days\":[1,8,15,22]},\"id\":\"5970\",\"type\":\"DaysTicker\"},{\"attributes\":{\"data_source\":{\"id\":\"6013\"},\"glyph\":{\"id\":\"6014\"},\"hover_glyph\":null,\"muted_glyph\":null,\"nonselection_glyph\":{\"id\":\"6015\"},\"selection_glyph\":null,\"view\":{\"id\":\"6017\"}},\"id\":\"6016\",\"type\":\"GlyphRenderer\"},{\"attributes\":{\"axis\":{\"id\":\"5933\"},\"ticker\":null},\"id\":\"5936\",\"type\":\"Grid\"},{\"attributes\":{\"axis_label\":\"Date\",\"formatter\":{\"id\":\"6018\"},\"major_label_orientation\":0.7853981633974483,\"minor_tick_in\":-5,\"minor_tick_out\":-3,\"ticker\":{\"id\":\"5934\"}},\"id\":\"5933\",\"type\":\"DatetimeAxis\"},{\"attributes\":{\"data\":{\"x\":{\"__ndarray__\":\"AAAA5UcHd0IAAMBKmgd3QgAAgLDsB3dCAABAFj8Id0IAAAB8kQh3QgAAwOHjCHdCAACARzYJd0IAAECtiAl3QgAAABPbCXdCAADAeC0Kd0IAAIDefwp3QgAAQETSCndCAAAAqiQLd0IAAMAPdwt3QgAAgHXJC3dCAABA2xsMd0IAAABBbgx3QgAAwKbADHdCAACADBMNd0IAAEByZQ13QgAAANi3DXdCAADAPQoOd0IAAICjXA53QgAAQAmvDndCAAAAbwEPd0IAAMDUUw93QgAAgDqmD3dCAABAoPgPd0IAAAAGSxB3QgAAwGudEHdCAACA0e8Qd0IAAEA3QhF3QgAAAJ2UEXdCAADAAucRd0IAAIBoORJ3QgAAQM6LEndCAAAANN4Sd0IAAMCZMBN3QgAAgP+CE3dCAABAZdUTd0IAAADLJxR3QgAAwDB6FHdCAACAlswUd0IAAED8HhV3QgAAAGJxFXdCAADAx8MVd0IAAIAtFhZ3QgAAQJNoFndCAAAA+boWd0IAAMBeDRd3QgAAgMRfF3dCAABAKrIXd0IAAACQBBh3QgAAwPVWGHdCAACAW6kYd0IAAEDB+xh3QgAAACdOGXdCAADAjKAZd0IAAIDy8hl3QgAAQFhFGndCAAAAvpcad0IAAMAj6hp3QgAAgIk8G3dCAABA744bd0IAAABV4Rt3QgAAwLozHHdCAACAIIYcd0IAAECG2Bx3QgAAAOwqHXdCAADAUX0dd0IAAIC3zx13QgAAQB0iHndCAAAAg3Qed0IAAMDoxh53QgAAgE4ZH3dCAABAtGsfd0IAAAAavh93QgAAwH8QIHdCAACA5WIgd0IAAEBLtSB3QgAAALEHIXdCAADAFlohd0IAAIB8rCF3QgAAQOL+IXdCAAAASFEid0IAAMCtoyJ3QgAAgBP2IndCAABAeUgjd0IAAADfmiN3QgAAwETtI3dCAACAqj8kd0IAAEAQkiR3QgAAAHbkJHdCAADA2zYld0IAAIBBiSV3QgAAQKfbJXdCAAAADS4md0IAAMBygCZ3QgAAgNjSJndCAABAPiUnd0IAAACkdyd3QgAAwAnKJ3dCAACAbxwod0IAAEDVbih3QgAAADvBKHdCAADAoBMpd0IAAIAGZil3QgAAQGy4KXdCAAAA0goqd0IAAMA3XSp3QgAAgJ2vKndCAABAAwIrd0IAAABpVCt3QgAAwM6mK3dCAACANPkrd0IAAECaSyx3QgAAAACeLHdCAADAZfAsd0IAAIDLQi13QgAAQDGVLXdCAAAAl+ctd0I=\",\"dtype\":\"float64\",\"shape\":[121]},\"y\":[0,3,2,5,4,8,5,18,27,28,41,49,36,133,97,168,196,189,250,175,368,349,345,475,427,627,793,651,601,743,683,662,969,889,756,812,837,727,760,766,681,525,636,604,542,610,570,619,431,566,602,578,525,575,482,433,454,534,437,464,420,415,260,333,382,323,285,269,474,174,195,236,369,274,243,194,165,179,172,195,262,242,153,145,99,162,161,156,130,119,50,92,78,117,70,87,111,75,60,55,71,88,85,72,53,65,79,71,53,56,78,44,26,34,43,66,47,49,24,23,18]},\"selected\":{\"id\":\"5995\"},\"selection_policy\":{\"id\":\"5996\"}},\"id\":\"5955\",\"type\":\"ColumnDataSource\"},{\"attributes\":{},\"id\":\"5931\",\"type\":\"LinearScale\"},{\"attributes\":{\"num_minor_ticks\":5,\"tickers\":[{\"id\":\"5965\"},{\"id\":\"5966\"},{\"id\":\"5967\"},{\"id\":\"5968\"},{\"id\":\"5969\"},{\"id\":\"5970\"},{\"id\":\"5971\"},{\"id\":\"5972\"},{\"id\":\"5973\"},{\"id\":\"5974\"},{\"id\":\"5975\"},{\"id\":\"5976\"}]},\"id\":\"5934\",\"type\":\"DatetimeTicker\"},{\"attributes\":{},\"id\":\"5995\",\"type\":\"Selection\"},{\"attributes\":{\"source\":{\"id\":\"5955\"}},\"id\":\"5959\",\"type\":\"CDSView\"},{\"attributes\":{\"fill_alpha\":{\"value\":0.1},\"fill_color\":{\"value\":\"white\"},\"line_alpha\":{\"value\":0.1},\"line_color\":{\"value\":\"darkviolet\"},\"size\":{\"units\":\"screen\",\"value\":6},\"x\":{\"field\":\"x\"},\"y\":{\"field\":\"y\"}},\"id\":\"5982\",\"type\":\"Circle\"},{\"attributes\":{},\"id\":\"5946\",\"type\":\"HelpTool\"},{\"attributes\":{\"days\":[1,15]},\"id\":\"5971\",\"type\":\"DaysTicker\"},{\"attributes\":{\"mantissas\":[1,2,5],\"max_interval\":500.0,\"num_minor_ticks\":0},\"id\":\"5965\",\"type\":\"AdaptiveTicker\"},{\"attributes\":{\"months\":[0,1,2,3,4,5,6,7,8,9,10,11]},\"id\":\"5972\",\"type\":\"MonthsTicker\"},{\"attributes\":{\"months\":[0,2,4,6,8,10]},\"id\":\"5973\",\"type\":\"MonthsTicker\"},{\"attributes\":{},\"id\":\"6022\",\"type\":\"NumeralTickFormatter\"},{\"attributes\":{},\"id\":\"5945\",\"type\":\"ResetTool\"},{\"attributes\":{\"line_color\":\"blue\",\"line_width\":4,\"x\":{\"field\":\"x\"},\"y\":{\"field\":\"y\"}},\"id\":\"5986\",\"type\":\"Line\"},{\"attributes\":{\"overlay\":{\"id\":\"5947\"}},\"id\":\"5943\",\"type\":\"BoxZoomTool\"},{\"attributes\":{\"source\":{\"id\":\"5980\"}},\"id\":\"5984\",\"type\":\"CDSView\"},{\"attributes\":{\"callback\":null,\"formatters\":{\"@x\":\"datetime\"},\"mode\":\"vline\",\"tooltips\":[[\"date\",\"@x{%d %B}\"],[\"new deaths OR new positive\",\"@y{0.}\"]]},\"id\":\"6023\",\"type\":\"HoverTool\"},{\"attributes\":{\"days\":[1,4,7,10,13,16,19,22,25,28]},\"id\":\"5969\",\"type\":\"DaysTicker\"},{\"attributes\":{},\"id\":\"5938\",\"type\":\"BasicTicker\"},{\"attributes\":{},\"id\":\"6214\",\"type\":\"Selection\"},{\"attributes\":{\"axis\":{\"id\":\"5937\"},\"dimension\":1,\"ticker\":null},\"id\":\"5940\",\"type\":\"Grid\"},{\"attributes\":{},\"id\":\"5942\",\"type\":\"WheelZoomTool\"},{\"attributes\":{\"days\":[1,2,3,4,5,6,7,8,9,10,11,12,13,14,15,16,17,18,19,20,21,22,23,24,25,26,27,28,29,30,31]},\"id\":\"5968\",\"type\":\"DaysTicker\"},{\"attributes\":{\"text\":\"New Deaths vs New Positive: Italy\"},\"id\":\"5923\",\"type\":\"Title\"},{\"attributes\":{\"line_alpha\":0.1,\"line_color\":\"blue\",\"line_width\":4,\"x\":{\"field\":\"x\"},\"y\":{\"field\":\"y\"}},\"id\":\"5987\",\"type\":\"Line\"},{\"attributes\":{\"data_source\":{\"id\":\"5955\"},\"glyph\":{\"id\":\"5956\"},\"hover_glyph\":null,\"muted_glyph\":null,\"nonselection_glyph\":{\"id\":\"5957\"},\"selection_glyph\":null,\"view\":{\"id\":\"5959\"}},\"id\":\"5958\",\"type\":\"GlyphRenderer\"},{\"attributes\":{\"base\":60,\"mantissas\":[1,2,5,10,15,20,30],\"max_interval\":1800000.0,\"min_interval\":1000.0,\"num_minor_ticks\":0},\"id\":\"5966\",\"type\":\"AdaptiveTicker\"},{\"attributes\":{\"label\":{\"value\":\"new positive\"},\"renderers\":[{\"id\":\"5988\"}]},\"id\":\"6012\",\"type\":\"LegendItem\"},{\"attributes\":{},\"id\":\"6213\",\"type\":\"UnionRenderers\"},{\"attributes\":{\"data_source\":{\"id\":\"5980\"},\"glyph\":{\"id\":\"5981\"},\"hover_glyph\":null,\"muted_glyph\":null,\"nonselection_glyph\":{\"id\":\"5982\"},\"selection_glyph\":null,\"view\":{\"id\":\"5984\"}},\"id\":\"5983\",\"type\":\"GlyphRenderer\"},{\"attributes\":{\"axis_label\":\"New Deaths & New Positive\",\"formatter\":{\"id\":\"6022\"},\"minor_tick_in\":-5,\"minor_tick_out\":-3,\"ticker\":{\"id\":\"5938\"}},\"id\":\"5937\",\"type\":\"LinearAxis\"},{\"attributes\":{},\"id\":\"5996\",\"type\":\"UnionRenderers\"},{\"attributes\":{\"base\":24,\"mantissas\":[1,2,4,6,8,12],\"max_interval\":43200000.0,\"min_interval\":3600000.0,\"num_minor_ticks\":0},\"id\":\"5967\",\"type\":\"AdaptiveTicker\"},{\"attributes\":{},\"id\":\"5925\",\"type\":\"DataRange1d\"},{\"attributes\":{\"label\":{\"value\":\"new deaths\"},\"renderers\":[{\"id\":\"5958\"}]},\"id\":\"5979\",\"type\":\"LegendItem\"}],\"root_ids\":[\"5922\"]},\"title\":\"Bokeh Application\",\"version\":\"2.0.2\"}};\n",
       "  var render_items = [{\"docid\":\"ad2f5124-089b-45cd-8775-ba3b67edd0d3\",\"root_ids\":[\"5922\"],\"roots\":{\"5922\":\"6100b110-76fe-48a2-8632-f7c7ca41224f\"}}];\n",
       "  root.Bokeh.embed.embed_items_notebook(docs_json, render_items);\n",
       "\n",
       "  }\n",
       "  if (root.Bokeh !== undefined) {\n",
       "    embed_document(root);\n",
       "  } else {\n",
       "    var attempts = 0;\n",
       "    var timer = setInterval(function(root) {\n",
       "      if (root.Bokeh !== undefined) {\n",
       "        clearInterval(timer);\n",
       "        embed_document(root);\n",
       "      } else {\n",
       "        attempts++;\n",
       "        if (attempts > 100) {\n",
       "          clearInterval(timer);\n",
       "          console.log(\"Bokeh: ERROR: Unable to run BokehJS code because BokehJS library is missing\");\n",
       "        }\n",
       "      }\n",
       "    }, 10, root)\n",
       "  }\n",
       "})(window);"
      ],
      "application/vnd.bokehjs_exec.v0+json": ""
     },
     "metadata": {
      "application/vnd.bokehjs_exec.v0+json": {
       "id": "5922"
      }
     },
     "output_type": "display_data"
    }
   ],
   "source": [
    "p_new_deaths_positive_Italy = bokeh_plot_2_lines(x=time_date_new, y=nuovi_deceduti, yy=nuovi_positivi_italy, \n",
    "                  title='New Deaths vs New Positive: Italy', \n",
    "                  file_name=\"new_deaths_positive_Italy.html\", \n",
    "                  x_label='Date', y_label='New Deaths & New Positive', \n",
    "                  legend_1='new deaths', legend_2='new positive',\n",
    "                  x_label_hover='date' , y_label_hover='new deaths OR new positive' , \n",
    "                  color_1='darkviolet', color_2='blue', y_minmax=None)\n",
    "\n",
    "show(p_new_deaths_positive_Italy)"
   ]
  },
  {
   "cell_type": "markdown",
   "metadata": {},
   "source": [
    "---------------------\n",
    "\n",
    "### Total Hospitalized"
   ]
  },
  {
   "cell_type": "code",
   "execution_count": 35,
   "metadata": {},
   "outputs": [
    {
     "data": {
      "text/plain": [
       "0    127\n",
       "1    150\n",
       "2    164\n",
       "3    304\n",
       "4    409\n",
       "Name: totale_ospedalizzati, dtype: int64"
      ]
     },
     "execution_count": 35,
     "metadata": {},
     "output_type": "execute_result"
    }
   ],
   "source": [
    "total_hospital_italy = df_nazionale['totale_ospedalizzati']\n",
    "total_hospital_italy.head()"
   ]
  },
  {
   "cell_type": "markdown",
   "metadata": {},
   "source": [
    "---------------------\n",
    "\n",
    "### Intensive Care"
   ]
  },
  {
   "cell_type": "code",
   "execution_count": 36,
   "metadata": {},
   "outputs": [
    {
     "data": {
      "text/plain": [
       "0    26\n",
       "1    35\n",
       "2    36\n",
       "3    56\n",
       "4    64\n",
       "Name: terapia_intensiva, dtype: int64"
      ]
     },
     "execution_count": 36,
     "metadata": {},
     "output_type": "execute_result"
    }
   ],
   "source": [
    "intensive_care_italy = df_nazionale['terapia_intensiva']\n",
    "intensive_care_italy.head()"
   ]
  },
  {
   "cell_type": "code",
   "execution_count": 37,
   "metadata": {},
   "outputs": [
    {
     "data": {
      "text/html": [
       "\n",
       "\n",
       "\n",
       "\n",
       "\n",
       "\n",
       "  <div class=\"bk-root\" id=\"82835f5d-0d9a-4cbd-b3ed-3b430062b96a\" data-root-id=\"6686\"></div>\n"
      ]
     },
     "metadata": {},
     "output_type": "display_data"
    },
    {
     "data": {
      "application/javascript": [
       "(function(root) {\n",
       "  function embed_document(root) {\n",
       "    \n",
       "  var docs_json = {\"0920fdf5-4987-4786-a77e-5fe80d489be8\":{\"roots\":{\"references\":[{\"attributes\":{\"below\":[{\"id\":\"6697\"}],\"center\":[{\"id\":\"6700\"},{\"id\":\"6704\"},{\"id\":\"6742\"}],\"left\":[{\"id\":\"6701\"}],\"plot_height\":450,\"renderers\":[{\"id\":\"6722\"},{\"id\":\"6747\"}],\"title\":{\"id\":\"6687\"},\"toolbar\":{\"id\":\"6712\"},\"x_range\":{\"id\":\"6689\"},\"x_scale\":{\"id\":\"6693\"},\"y_range\":{\"id\":\"6691\"},\"y_scale\":{\"id\":\"6695\"}},\"id\":\"6686\",\"subtype\":\"Figure\",\"type\":\"Plot\"},{\"attributes\":{\"axis\":{\"id\":\"6697\"},\"ticker\":null},\"id\":\"6700\",\"type\":\"Grid\"},{\"attributes\":{\"days\":[1,4,7,10,13,16,19,22,25,28]},\"id\":\"6733\",\"type\":\"DaysTicker\"},{\"attributes\":{},\"id\":\"6708\",\"type\":\"SaveTool\"},{\"attributes\":{\"num_minor_ticks\":5,\"tickers\":[{\"id\":\"6729\"},{\"id\":\"6730\"},{\"id\":\"6731\"},{\"id\":\"6732\"},{\"id\":\"6733\"},{\"id\":\"6734\"},{\"id\":\"6735\"},{\"id\":\"6736\"},{\"id\":\"6737\"},{\"id\":\"6738\"},{\"id\":\"6739\"},{\"id\":\"6740\"}]},\"id\":\"6698\",\"type\":\"DatetimeTicker\"},{\"attributes\":{},\"id\":\"6709\",\"type\":\"ResetTool\"},{\"attributes\":{},\"id\":\"6966\",\"type\":\"UnionRenderers\"},{\"attributes\":{\"days\":[1,2,3,4,5,6,7,8,9,10,11,12,13,14,15,16,17,18,19,20,21,22,23,24,25,26,27,28,29,30,31]},\"id\":\"6732\",\"type\":\"DaysTicker\"},{\"attributes\":{},\"id\":\"6691\",\"type\":\"DataRange1d\"},{\"attributes\":{\"base\":24,\"mantissas\":[1,2,4,6,8,12],\"max_interval\":43200000.0,\"min_interval\":3600000.0,\"num_minor_ticks\":0},\"id\":\"6731\",\"type\":\"AdaptiveTicker\"},{\"attributes\":{\"months\":[0,6]},\"id\":\"6739\",\"type\":\"MonthsTicker\"},{\"attributes\":{},\"id\":\"6695\",\"type\":\"LinearScale\"},{\"attributes\":{\"items\":[{\"id\":\"6743\"}],\"location\":\"top_left\"},\"id\":\"6742\",\"type\":\"Legend\"},{\"attributes\":{},\"id\":\"6710\",\"type\":\"HelpTool\"},{\"attributes\":{\"days\":[1,8,15,22]},\"id\":\"6734\",\"type\":\"DaysTicker\"},{\"attributes\":{\"data_source\":{\"id\":\"6744\"},\"glyph\":{\"id\":\"6745\"},\"hover_glyph\":null,\"muted_glyph\":null,\"nonselection_glyph\":{\"id\":\"6746\"},\"selection_glyph\":null,\"view\":{\"id\":\"6748\"}},\"id\":\"6747\",\"type\":\"GlyphRenderer\"},{\"attributes\":{},\"id\":\"6964\",\"type\":\"UnionRenderers\"},{\"attributes\":{},\"id\":\"6740\",\"type\":\"YearsTicker\"},{\"attributes\":{},\"id\":\"6693\",\"type\":\"LinearScale\"},{\"attributes\":{\"label\":{\"value\":\"total hospitalized\"},\"renderers\":[{\"id\":\"6722\"}]},\"id\":\"6743\",\"type\":\"LegendItem\"},{\"attributes\":{\"axis\":{\"id\":\"6701\"},\"dimension\":1,\"ticker\":null},\"id\":\"6704\",\"type\":\"Grid\"},{\"attributes\":{\"days\":[\"%d %B\"]},\"id\":\"6749\",\"type\":\"DatetimeTickFormatter\"},{\"attributes\":{\"source\":{\"id\":\"6744\"}},\"id\":\"6748\",\"type\":\"CDSView\"},{\"attributes\":{\"months\":[0,4,8]},\"id\":\"6738\",\"type\":\"MonthsTicker\"},{\"attributes\":{},\"id\":\"6702\",\"type\":\"BasicTicker\"},{\"attributes\":{\"axis_label\":\"Total Hospitalized\",\"formatter\":{\"id\":\"6753\"},\"minor_tick_in\":-5,\"minor_tick_out\":-3,\"ticker\":{\"id\":\"6702\"}},\"id\":\"6701\",\"type\":\"LinearAxis\"},{\"attributes\":{\"fill_color\":{\"value\":\"white\"},\"line_color\":{\"value\":\"orange\"},\"size\":{\"units\":\"screen\",\"value\":6},\"x\":{\"field\":\"x\"},\"y\":{\"field\":\"y\"}},\"id\":\"6745\",\"type\":\"Circle\"},{\"attributes\":{\"days\":[1,15]},\"id\":\"6735\",\"type\":\"DaysTicker\"},{\"attributes\":{\"base\":60,\"mantissas\":[1,2,5,10,15,20,30],\"max_interval\":1800000.0,\"min_interval\":1000.0,\"num_minor_ticks\":0},\"id\":\"6730\",\"type\":\"AdaptiveTicker\"},{\"attributes\":{\"data\":{\"x\":{\"__ndarray__\":\"AAAA5UcHd0IAAMBKmgd3QgAAgLDsB3dCAABAFj8Id0IAAAB8kQh3QgAAwOHjCHdCAACARzYJd0IAAECtiAl3QgAAABPbCXdCAADAeC0Kd0IAAIDefwp3QgAAQETSCndCAAAAqiQLd0IAAMAPdwt3QgAAgHXJC3dCAABA2xsMd0IAAABBbgx3QgAAwKbADHdCAACADBMNd0IAAEByZQ13QgAAANi3DXdCAADAPQoOd0IAAICjXA53QgAAQAmvDndCAAAAbwEPd0IAAMDUUw93QgAAgDqmD3dCAABAoPgPd0IAAAAGSxB3QgAAwGudEHdCAACA0e8Qd0IAAEA3QhF3QgAAAJ2UEXdCAADAAucRd0IAAIBoORJ3QgAAQM6LEndCAAAANN4Sd0IAAMCZMBN3QgAAgP+CE3dCAABAZdUTd0IAAADLJxR3QgAAwDB6FHdCAACAlswUd0IAAED8HhV3QgAAAGJxFXdCAADAx8MVd0IAAIAtFhZ3QgAAQJNoFndCAAAA+boWd0IAAMBeDRd3QgAAgMRfF3dCAABAKrIXd0IAAACQBBh3QgAAwPVWGHdCAACAW6kYd0IAAEDB+xh3QgAAACdOGXdCAADAjKAZd0IAAIDy8hl3QgAAQFhFGndCAAAAvpcad0IAAMAj6hp3QgAAgIk8G3dCAABA744bd0IAAABV4Rt3QgAAwLozHHdCAACAIIYcd0IAAECG2Bx3QgAAAOwqHXdCAADAUX0dd0IAAIC3zx13QgAAQB0iHndCAAAAg3Qed0IAAMDoxh53QgAAgE4ZH3dCAABAtGsfd0IAAAAavh93QgAAwH8QIHdCAACA5WIgd0IAAEBLtSB3QgAAALEHIXdCAADAFlohd0IAAIB8rCF3QgAAQOL+IXdCAAAASFEid0IAAMCtoyJ3QgAAgBP2IndCAABAeUgjd0IAAADfmiN3QgAAwETtI3dCAACAqj8kd0IAAEAQkiR3QgAAAHbkJHdCAADA2zYld0IAAIBBiSV3QgAAQKfbJXdCAAAADS4md0IAAMBygCZ3QgAAgNjSJndCAABAPiUnd0IAAACkdyd3QgAAwAnKJ3dCAACAbxwod0IAAEDVbih3QgAAADvBKHdCAADAoBMpd0IAAIAGZil3QgAAQGy4KXdCAAAA0goqd0IAAMA3XSp3QgAAgJ2vKndCAABAAwIrd0IAAABpVCt3QgAAwM6mK3dCAACANPkrd0IAAECaSyx3QgAAAACeLHdCAADAZfAsd0IAAIDLQi13QgAAQDGVLXdCAAAAl+ctd0I=\",\"dtype\":\"float64\",\"shape\":[121]},\"y\":[127,150,164,304,409,506,779,908,1263,1641,2141,2856,3218,4207,5049,5915,6866,7803,8754,9890,11335,12876,14954,16620,18255,18675,20565,22855,23896,25333,26601,28365,29761,30532,31292,31776,32215,32438,32593,32809,33004,32926,32874,32510,32178,32004,31739,31525,31190,31283,31197,30722,29829,28598,27740,27668,27479,26605,26189,25138,24241,23635,23381,22309,21586,21005,19843,19147,18896,18743,18302,17697,17102,16485,15804,14868,14645,14538,13817,13065,12308,11600,11175,11073,10956,10707,10300,9909,9552,9267,9166,8726,8438,8234,7868,7569,7130,6822,6523,6324,6095,5841,5617,5295,5151,5012,4844,4569,4367,4120,3967,3803,3696,3478,3276,3035,2793,2626,2462,2165,1968]},\"selected\":{\"id\":\"6963\"},\"selection_policy\":{\"id\":\"6964\"}},\"id\":\"6719\",\"type\":\"ColumnDataSource\"},{\"attributes\":{\"overlay\":{\"id\":\"6711\"}},\"id\":\"6707\",\"type\":\"BoxZoomTool\"},{\"attributes\":{\"data_source\":{\"id\":\"6719\"},\"glyph\":{\"id\":\"6720\"},\"hover_glyph\":null,\"muted_glyph\":null,\"nonselection_glyph\":{\"id\":\"6721\"},\"selection_glyph\":null,\"view\":{\"id\":\"6723\"}},\"id\":\"6722\",\"type\":\"GlyphRenderer\"},{\"attributes\":{\"axis_label\":\"Date\",\"formatter\":{\"id\":\"6749\"},\"major_label_orientation\":0.7853981633974483,\"minor_tick_in\":-5,\"minor_tick_out\":-3,\"ticker\":{\"id\":\"6698\"}},\"id\":\"6697\",\"type\":\"DatetimeAxis\"},{\"attributes\":{\"active_drag\":\"auto\",\"active_inspect\":\"auto\",\"active_multi\":null,\"active_scroll\":\"auto\",\"active_tap\":\"auto\",\"tools\":[{\"id\":\"6705\"},{\"id\":\"6706\"},{\"id\":\"6707\"},{\"id\":\"6708\"},{\"id\":\"6709\"},{\"id\":\"6710\"},{\"id\":\"6754\"}]},\"id\":\"6712\",\"type\":\"Toolbar\"},{\"attributes\":{\"source\":{\"id\":\"6719\"}},\"id\":\"6723\",\"type\":\"CDSView\"},{\"attributes\":{\"callback\":null,\"formatters\":{\"@x\":\"datetime\"},\"mode\":\"vline\",\"tooltips\":[[\"date\",\"@x{%d %B}\"],[\"total hospitalized\",\"@y{0.}\"]]},\"id\":\"6754\",\"type\":\"HoverTool\"},{\"attributes\":{\"fill_alpha\":{\"value\":0.1},\"fill_color\":{\"value\":\"white\"},\"line_alpha\":{\"value\":0.1},\"line_color\":{\"value\":\"orange\"},\"size\":{\"units\":\"screen\",\"value\":6},\"x\":{\"field\":\"x\"},\"y\":{\"field\":\"y\"}},\"id\":\"6746\",\"type\":\"Circle\"},{\"attributes\":{\"mantissas\":[1,2,5],\"max_interval\":500.0,\"num_minor_ticks\":0},\"id\":\"6729\",\"type\":\"AdaptiveTicker\"},{\"attributes\":{\"months\":[0,1,2,3,4,5,6,7,8,9,10,11]},\"id\":\"6736\",\"type\":\"MonthsTicker\"},{\"attributes\":{\"line_color\":\"orange\",\"line_width\":4,\"x\":{\"field\":\"x\"},\"y\":{\"field\":\"y\"}},\"id\":\"6720\",\"type\":\"Line\"},{\"attributes\":{\"months\":[0,2,4,6,8,10]},\"id\":\"6737\",\"type\":\"MonthsTicker\"},{\"attributes\":{\"bottom_units\":\"screen\",\"fill_alpha\":0.5,\"fill_color\":\"lightgrey\",\"left_units\":\"screen\",\"level\":\"overlay\",\"line_alpha\":1.0,\"line_color\":\"black\",\"line_dash\":[4,4],\"line_width\":2,\"render_mode\":\"css\",\"right_units\":\"screen\",\"top_units\":\"screen\"},\"id\":\"6711\",\"type\":\"BoxAnnotation\"},{\"attributes\":{},\"id\":\"6689\",\"type\":\"DataRange1d\"},{\"attributes\":{},\"id\":\"6753\",\"type\":\"NumeralTickFormatter\"},{\"attributes\":{},\"id\":\"6705\",\"type\":\"PanTool\"},{\"attributes\":{},\"id\":\"6965\",\"type\":\"Selection\"},{\"attributes\":{\"text\":\"Total Hospitalized: Italy\"},\"id\":\"6687\",\"type\":\"Title\"},{\"attributes\":{},\"id\":\"6706\",\"type\":\"WheelZoomTool\"},{\"attributes\":{},\"id\":\"6963\",\"type\":\"Selection\"},{\"attributes\":{\"data\":{\"x\":{\"__ndarray__\":\"AAAA5UcHd0IAAMBKmgd3QgAAgLDsB3dCAABAFj8Id0IAAAB8kQh3QgAAwOHjCHdCAACARzYJd0IAAECtiAl3QgAAABPbCXdCAADAeC0Kd0IAAIDefwp3QgAAQETSCndCAAAAqiQLd0IAAMAPdwt3QgAAgHXJC3dCAABA2xsMd0IAAABBbgx3QgAAwKbADHdCAACADBMNd0IAAEByZQ13QgAAANi3DXdCAADAPQoOd0IAAICjXA53QgAAQAmvDndCAAAAbwEPd0IAAMDUUw93QgAAgDqmD3dCAABAoPgPd0IAAAAGSxB3QgAAwGudEHdCAACA0e8Qd0IAAEA3QhF3QgAAAJ2UEXdCAADAAucRd0IAAIBoORJ3QgAAQM6LEndCAAAANN4Sd0IAAMCZMBN3QgAAgP+CE3dCAABAZdUTd0IAAADLJxR3QgAAwDB6FHdCAACAlswUd0IAAED8HhV3QgAAAGJxFXdCAADAx8MVd0IAAIAtFhZ3QgAAQJNoFndCAAAA+boWd0IAAMBeDRd3QgAAgMRfF3dCAABAKrIXd0IAAACQBBh3QgAAwPVWGHdCAACAW6kYd0IAAEDB+xh3QgAAACdOGXdCAADAjKAZd0IAAIDy8hl3QgAAQFhFGndCAAAAvpcad0IAAMAj6hp3QgAAgIk8G3dCAABA744bd0IAAABV4Rt3QgAAwLozHHdCAACAIIYcd0IAAECG2Bx3QgAAAOwqHXdCAADAUX0dd0IAAIC3zx13QgAAQB0iHndCAAAAg3Qed0IAAMDoxh53QgAAgE4ZH3dCAABAtGsfd0IAAAAavh93QgAAwH8QIHdCAACA5WIgd0IAAEBLtSB3QgAAALEHIXdCAADAFlohd0IAAIB8rCF3QgAAQOL+IXdCAAAASFEid0IAAMCtoyJ3QgAAgBP2IndCAABAeUgjd0IAAADfmiN3QgAAwETtI3dCAACAqj8kd0IAAEAQkiR3QgAAAHbkJHdCAADA2zYld0IAAIBBiSV3QgAAQKfbJXdCAAAADS4md0IAAMBygCZ3QgAAgNjSJndCAABAPiUnd0IAAACkdyd3QgAAwAnKJ3dCAACAbxwod0IAAEDVbih3QgAAADvBKHdCAADAoBMpd0IAAIAGZil3QgAAQGy4KXdCAAAA0goqd0IAAMA3XSp3QgAAgJ2vKndCAABAAwIrd0IAAABpVCt3QgAAwM6mK3dCAACANPkrd0IAAECaSyx3QgAAAACeLHdCAADAZfAsd0IAAIDLQi13QgAAQDGVLXdCAAAAl+ctd0I=\",\"dtype\":\"float64\",\"shape\":[121]},\"y\":[127,150,164,304,409,506,779,908,1263,1641,2141,2856,3218,4207,5049,5915,6866,7803,8754,9890,11335,12876,14954,16620,18255,18675,20565,22855,23896,25333,26601,28365,29761,30532,31292,31776,32215,32438,32593,32809,33004,32926,32874,32510,32178,32004,31739,31525,31190,31283,31197,30722,29829,28598,27740,27668,27479,26605,26189,25138,24241,23635,23381,22309,21586,21005,19843,19147,18896,18743,18302,17697,17102,16485,15804,14868,14645,14538,13817,13065,12308,11600,11175,11073,10956,10707,10300,9909,9552,9267,9166,8726,8438,8234,7868,7569,7130,6822,6523,6324,6095,5841,5617,5295,5151,5012,4844,4569,4367,4120,3967,3803,3696,3478,3276,3035,2793,2626,2462,2165,1968]},\"selected\":{\"id\":\"6965\"},\"selection_policy\":{\"id\":\"6966\"}},\"id\":\"6744\",\"type\":\"ColumnDataSource\"},{\"attributes\":{\"line_alpha\":0.1,\"line_color\":\"orange\",\"line_width\":4,\"x\":{\"field\":\"x\"},\"y\":{\"field\":\"y\"}},\"id\":\"6721\",\"type\":\"Line\"}],\"root_ids\":[\"6686\"]},\"title\":\"Bokeh Application\",\"version\":\"2.0.2\"}};\n",
       "  var render_items = [{\"docid\":\"0920fdf5-4987-4786-a77e-5fe80d489be8\",\"root_ids\":[\"6686\"],\"roots\":{\"6686\":\"82835f5d-0d9a-4cbd-b3ed-3b430062b96a\"}}];\n",
       "  root.Bokeh.embed.embed_items_notebook(docs_json, render_items);\n",
       "\n",
       "  }\n",
       "  if (root.Bokeh !== undefined) {\n",
       "    embed_document(root);\n",
       "  } else {\n",
       "    var attempts = 0;\n",
       "    var timer = setInterval(function(root) {\n",
       "      if (root.Bokeh !== undefined) {\n",
       "        clearInterval(timer);\n",
       "        embed_document(root);\n",
       "      } else {\n",
       "        attempts++;\n",
       "        if (attempts > 100) {\n",
       "          clearInterval(timer);\n",
       "          console.log(\"Bokeh: ERROR: Unable to run BokehJS code because BokehJS library is missing\");\n",
       "        }\n",
       "      }\n",
       "    }, 10, root)\n",
       "  }\n",
       "})(window);"
      ],
      "application/vnd.bokehjs_exec.v0+json": ""
     },
     "metadata": {
      "application/vnd.bokehjs_exec.v0+json": {
       "id": "6686"
      }
     },
     "output_type": "display_data"
    }
   ],
   "source": [
    "p_total_hospitalized_Italy = bokeh_plot_1_line(x=time_date_new, y=total_hospital_italy, \n",
    "                  title='Total Hospitalized: Italy', \n",
    "                  file_name=\"total_hospitalized_Italy.html\", \n",
    "                  x_label='Date', \n",
    "                  y_label='Total Hospitalized', legend='total hospitalized',\n",
    "                  x_label_hover='date', y_label_hover='total hospitalized',\n",
    "                  color='orange', y_minmax=None)\n",
    "# output_file(\"total_cases_Italy.html\")\n",
    "show(p_total_hospitalized_Italy)"
   ]
  },
  {
   "cell_type": "code",
   "execution_count": 38,
   "metadata": {},
   "outputs": [
    {
     "data": {
      "text/html": [
       "\n",
       "\n",
       "\n",
       "\n",
       "\n",
       "\n",
       "  <div class=\"bk-root\" id=\"ea64fc48-4600-4ce6-9dc8-93cb088c090e\" data-root-id=\"7361\"></div>\n"
      ]
     },
     "metadata": {},
     "output_type": "display_data"
    },
    {
     "data": {
      "application/javascript": [
       "(function(root) {\n",
       "  function embed_document(root) {\n",
       "    \n",
       "  var docs_json = {\"b2a91060-413f-445d-9d82-add859a9a435\":{\"roots\":{\"references\":[{\"attributes\":{\"below\":[{\"id\":\"7372\"}],\"center\":[{\"id\":\"7375\"},{\"id\":\"7379\"},{\"id\":\"7417\"}],\"left\":[{\"id\":\"7376\"}],\"plot_height\":450,\"renderers\":[{\"id\":\"7397\"},{\"id\":\"7422\"}],\"title\":{\"id\":\"7362\"},\"toolbar\":{\"id\":\"7387\"},\"x_range\":{\"id\":\"7364\"},\"x_scale\":{\"id\":\"7368\"},\"y_range\":{\"id\":\"7366\"},\"y_scale\":{\"id\":\"7370\"}},\"id\":\"7361\",\"subtype\":\"Figure\",\"type\":\"Plot\"},{\"attributes\":{\"source\":{\"id\":\"7394\"}},\"id\":\"7398\",\"type\":\"CDSView\"},{\"attributes\":{\"fill_color\":{\"value\":\"white\"},\"line_color\":{\"value\":\"GoldenRod\"},\"size\":{\"units\":\"screen\",\"value\":6},\"x\":{\"field\":\"x\"},\"y\":{\"field\":\"y\"}},\"id\":\"7420\",\"type\":\"Circle\"},{\"attributes\":{},\"id\":\"7659\",\"type\":\"UnionRenderers\"},{\"attributes\":{\"active_drag\":\"auto\",\"active_inspect\":\"auto\",\"active_multi\":null,\"active_scroll\":\"auto\",\"active_tap\":\"auto\",\"tools\":[{\"id\":\"7380\"},{\"id\":\"7381\"},{\"id\":\"7382\"},{\"id\":\"7383\"},{\"id\":\"7384\"},{\"id\":\"7385\"},{\"id\":\"7429\"}]},\"id\":\"7387\",\"type\":\"Toolbar\"},{\"attributes\":{\"mantissas\":[1,2,5],\"max_interval\":500.0,\"num_minor_ticks\":0},\"id\":\"7404\",\"type\":\"AdaptiveTicker\"},{\"attributes\":{\"data_source\":{\"id\":\"7394\"},\"glyph\":{\"id\":\"7395\"},\"hover_glyph\":null,\"muted_glyph\":null,\"nonselection_glyph\":{\"id\":\"7396\"},\"selection_glyph\":null,\"view\":{\"id\":\"7398\"}},\"id\":\"7397\",\"type\":\"GlyphRenderer\"},{\"attributes\":{},\"id\":\"7415\",\"type\":\"YearsTicker\"},{\"attributes\":{\"data\":{\"x\":{\"__ndarray__\":\"AAAA5UcHd0IAAMBKmgd3QgAAgLDsB3dCAABAFj8Id0IAAAB8kQh3QgAAwOHjCHdCAACARzYJd0IAAECtiAl3QgAAABPbCXdCAADAeC0Kd0IAAIDefwp3QgAAQETSCndCAAAAqiQLd0IAAMAPdwt3QgAAgHXJC3dCAABA2xsMd0IAAABBbgx3QgAAwKbADHdCAACADBMNd0IAAEByZQ13QgAAANi3DXdCAADAPQoOd0IAAICjXA53QgAAQAmvDndCAAAAbwEPd0IAAMDUUw93QgAAgDqmD3dCAABAoPgPd0IAAAAGSxB3QgAAwGudEHdCAACA0e8Qd0IAAEA3QhF3QgAAAJ2UEXdCAADAAucRd0IAAIBoORJ3QgAAQM6LEndCAAAANN4Sd0IAAMCZMBN3QgAAgP+CE3dCAABAZdUTd0IAAADLJxR3QgAAwDB6FHdCAACAlswUd0IAAED8HhV3QgAAAGJxFXdCAADAx8MVd0IAAIAtFhZ3QgAAQJNoFndCAAAA+boWd0IAAMBeDRd3QgAAgMRfF3dCAABAKrIXd0IAAACQBBh3QgAAwPVWGHdCAACAW6kYd0IAAEDB+xh3QgAAACdOGXdCAADAjKAZd0IAAIDy8hl3QgAAQFhFGndCAAAAvpcad0IAAMAj6hp3QgAAgIk8G3dCAABA744bd0IAAABV4Rt3QgAAwLozHHdCAACAIIYcd0IAAECG2Bx3QgAAAOwqHXdCAADAUX0dd0IAAIC3zx13QgAAQB0iHndCAAAAg3Qed0IAAMDoxh53QgAAgE4ZH3dCAABAtGsfd0IAAAAavh93QgAAwH8QIHdCAACA5WIgd0IAAEBLtSB3QgAAALEHIXdCAADAFlohd0IAAIB8rCF3QgAAQOL+IXdCAAAASFEid0IAAMCtoyJ3QgAAgBP2IndCAABAeUgjd0IAAADfmiN3QgAAwETtI3dCAACAqj8kd0IAAEAQkiR3QgAAAHbkJHdCAADA2zYld0IAAIBBiSV3QgAAQKfbJXdCAAAADS4md0IAAMBygCZ3QgAAgNjSJndCAABAPiUnd0IAAACkdyd3QgAAwAnKJ3dCAACAbxwod0IAAEDVbih3QgAAADvBKHdCAADAoBMpd0IAAIAGZil3QgAAQGy4KXdCAAAA0goqd0IAAMA3XSp3QgAAgJ2vKndCAABAAwIrd0IAAABpVCt3QgAAwM6mK3dCAACANPkrd0IAAECaSyx3QgAAAACeLHdCAADAZfAsd0IAAIDLQi13QgAAQDGVLXdCAAAAl+ctd0I=\",\"dtype\":\"float64\",\"shape\":[121]},\"y\":[26,35,36,56,64,105,140,166,229,295,351,462,567,650,733,877,1028,1153,1328,1518,1672,1851,2060,2257,2498,2655,2857,3009,3204,3396,3489,3612,3732,3856,3906,3981,4023,4035,4053,4068,3994,3977,3898,3792,3693,3605,3497,3381,3343,3260,3186,3079,2936,2812,2733,2635,2573,2471,2384,2267,2173,2102,2009,1956,1863,1795,1694,1578,1539,1501,1479,1427,1333,1311,1168,1034,1027,999,952,893,855,808,775,762,749,716,676,640,595,572,553,541,521,505,489,475,450,435,424,408,353,338,316,293,287,283,263,249,236,227,220,209,207,177,163,168,161,152,148,127,115]},\"selected\":{\"id\":\"7660\"},\"selection_policy\":{\"id\":\"7661\"}},\"id\":\"7419\",\"type\":\"ColumnDataSource\"},{\"attributes\":{\"axis_label\":\"Intensive Care\",\"formatter\":{\"id\":\"7428\"},\"minor_tick_in\":-5,\"minor_tick_out\":-3,\"ticker\":{\"id\":\"7377\"}},\"id\":\"7376\",\"type\":\"LinearAxis\"},{\"attributes\":{},\"id\":\"7660\",\"type\":\"Selection\"},{\"attributes\":{},\"id\":\"7428\",\"type\":\"NumeralTickFormatter\"},{\"attributes\":{},\"id\":\"7377\",\"type\":\"BasicTicker\"},{\"attributes\":{},\"id\":\"7658\",\"type\":\"Selection\"},{\"attributes\":{\"axis\":{\"id\":\"7376\"},\"dimension\":1,\"ticker\":null},\"id\":\"7379\",\"type\":\"Grid\"},{\"attributes\":{\"axis\":{\"id\":\"7372\"},\"ticker\":null},\"id\":\"7375\",\"type\":\"Grid\"},{\"attributes\":{\"num_minor_ticks\":5,\"tickers\":[{\"id\":\"7404\"},{\"id\":\"7405\"},{\"id\":\"7406\"},{\"id\":\"7407\"},{\"id\":\"7408\"},{\"id\":\"7409\"},{\"id\":\"7410\"},{\"id\":\"7411\"},{\"id\":\"7412\"},{\"id\":\"7413\"},{\"id\":\"7414\"},{\"id\":\"7415\"}]},\"id\":\"7373\",\"type\":\"DatetimeTicker\"},{\"attributes\":{\"source\":{\"id\":\"7419\"}},\"id\":\"7423\",\"type\":\"CDSView\"},{\"attributes\":{},\"id\":\"7368\",\"type\":\"LinearScale\"},{\"attributes\":{},\"id\":\"7364\",\"type\":\"DataRange1d\"},{\"attributes\":{},\"id\":\"7370\",\"type\":\"LinearScale\"},{\"attributes\":{\"line_color\":\"GoldenRod\",\"line_width\":4,\"x\":{\"field\":\"x\"},\"y\":{\"field\":\"y\"}},\"id\":\"7395\",\"type\":\"Line\"},{\"attributes\":{},\"id\":\"7366\",\"type\":\"DataRange1d\"},{\"attributes\":{\"label\":{\"value\":\"intensive care\"},\"renderers\":[{\"id\":\"7397\"}]},\"id\":\"7418\",\"type\":\"LegendItem\"},{\"attributes\":{\"base\":24,\"mantissas\":[1,2,4,6,8,12],\"max_interval\":43200000.0,\"min_interval\":3600000.0,\"num_minor_ticks\":0},\"id\":\"7406\",\"type\":\"AdaptiveTicker\"},{\"attributes\":{\"line_alpha\":0.1,\"line_color\":\"GoldenRod\",\"line_width\":4,\"x\":{\"field\":\"x\"},\"y\":{\"field\":\"y\"}},\"id\":\"7396\",\"type\":\"Line\"},{\"attributes\":{\"base\":60,\"mantissas\":[1,2,5,10,15,20,30],\"max_interval\":1800000.0,\"min_interval\":1000.0,\"num_minor_ticks\":0},\"id\":\"7405\",\"type\":\"AdaptiveTicker\"},{\"attributes\":{\"fill_alpha\":{\"value\":0.1},\"fill_color\":{\"value\":\"white\"},\"line_alpha\":{\"value\":0.1},\"line_color\":{\"value\":\"GoldenRod\"},\"size\":{\"units\":\"screen\",\"value\":6},\"x\":{\"field\":\"x\"},\"y\":{\"field\":\"y\"}},\"id\":\"7421\",\"type\":\"Circle\"},{\"attributes\":{\"months\":[0,4,8]},\"id\":\"7413\",\"type\":\"MonthsTicker\"},{\"attributes\":{\"data\":{\"x\":{\"__ndarray__\":\"AAAA5UcHd0IAAMBKmgd3QgAAgLDsB3dCAABAFj8Id0IAAAB8kQh3QgAAwOHjCHdCAACARzYJd0IAAECtiAl3QgAAABPbCXdCAADAeC0Kd0IAAIDefwp3QgAAQETSCndCAAAAqiQLd0IAAMAPdwt3QgAAgHXJC3dCAABA2xsMd0IAAABBbgx3QgAAwKbADHdCAACADBMNd0IAAEByZQ13QgAAANi3DXdCAADAPQoOd0IAAICjXA53QgAAQAmvDndCAAAAbwEPd0IAAMDUUw93QgAAgDqmD3dCAABAoPgPd0IAAAAGSxB3QgAAwGudEHdCAACA0e8Qd0IAAEA3QhF3QgAAAJ2UEXdCAADAAucRd0IAAIBoORJ3QgAAQM6LEndCAAAANN4Sd0IAAMCZMBN3QgAAgP+CE3dCAABAZdUTd0IAAADLJxR3QgAAwDB6FHdCAACAlswUd0IAAED8HhV3QgAAAGJxFXdCAADAx8MVd0IAAIAtFhZ3QgAAQJNoFndCAAAA+boWd0IAAMBeDRd3QgAAgMRfF3dCAABAKrIXd0IAAACQBBh3QgAAwPVWGHdCAACAW6kYd0IAAEDB+xh3QgAAACdOGXdCAADAjKAZd0IAAIDy8hl3QgAAQFhFGndCAAAAvpcad0IAAMAj6hp3QgAAgIk8G3dCAABA744bd0IAAABV4Rt3QgAAwLozHHdCAACAIIYcd0IAAECG2Bx3QgAAAOwqHXdCAADAUX0dd0IAAIC3zx13QgAAQB0iHndCAAAAg3Qed0IAAMDoxh53QgAAgE4ZH3dCAABAtGsfd0IAAAAavh93QgAAwH8QIHdCAACA5WIgd0IAAEBLtSB3QgAAALEHIXdCAADAFlohd0IAAIB8rCF3QgAAQOL+IXdCAAAASFEid0IAAMCtoyJ3QgAAgBP2IndCAABAeUgjd0IAAADfmiN3QgAAwETtI3dCAACAqj8kd0IAAEAQkiR3QgAAAHbkJHdCAADA2zYld0IAAIBBiSV3QgAAQKfbJXdCAAAADS4md0IAAMBygCZ3QgAAgNjSJndCAABAPiUnd0IAAACkdyd3QgAAwAnKJ3dCAACAbxwod0IAAEDVbih3QgAAADvBKHdCAADAoBMpd0IAAIAGZil3QgAAQGy4KXdCAAAA0goqd0IAAMA3XSp3QgAAgJ2vKndCAABAAwIrd0IAAABpVCt3QgAAwM6mK3dCAACANPkrd0IAAECaSyx3QgAAAACeLHdCAADAZfAsd0IAAIDLQi13QgAAQDGVLXdCAAAAl+ctd0I=\",\"dtype\":\"float64\",\"shape\":[121]},\"y\":[26,35,36,56,64,105,140,166,229,295,351,462,567,650,733,877,1028,1153,1328,1518,1672,1851,2060,2257,2498,2655,2857,3009,3204,3396,3489,3612,3732,3856,3906,3981,4023,4035,4053,4068,3994,3977,3898,3792,3693,3605,3497,3381,3343,3260,3186,3079,2936,2812,2733,2635,2573,2471,2384,2267,2173,2102,2009,1956,1863,1795,1694,1578,1539,1501,1479,1427,1333,1311,1168,1034,1027,999,952,893,855,808,775,762,749,716,676,640,595,572,553,541,521,505,489,475,450,435,424,408,353,338,316,293,287,283,263,249,236,227,220,209,207,177,163,168,161,152,148,127,115]},\"selected\":{\"id\":\"7658\"},\"selection_policy\":{\"id\":\"7659\"}},\"id\":\"7394\",\"type\":\"ColumnDataSource\"},{\"attributes\":{},\"id\":\"7380\",\"type\":\"PanTool\"},{\"attributes\":{\"days\":[\"%d %B\"]},\"id\":\"7424\",\"type\":\"DatetimeTickFormatter\"},{\"attributes\":{\"days\":[1,2,3,4,5,6,7,8,9,10,11,12,13,14,15,16,17,18,19,20,21,22,23,24,25,26,27,28,29,30,31]},\"id\":\"7407\",\"type\":\"DaysTicker\"},{\"attributes\":{\"months\":[0,2,4,6,8,10]},\"id\":\"7412\",\"type\":\"MonthsTicker\"},{\"attributes\":{},\"id\":\"7381\",\"type\":\"WheelZoomTool\"},{\"attributes\":{},\"id\":\"7384\",\"type\":\"ResetTool\"},{\"attributes\":{\"items\":[{\"id\":\"7418\"}],\"location\":\"top_left\"},\"id\":\"7417\",\"type\":\"Legend\"},{\"attributes\":{\"days\":[1,4,7,10,13,16,19,22,25,28]},\"id\":\"7408\",\"type\":\"DaysTicker\"},{\"attributes\":{\"days\":[1,15]},\"id\":\"7410\",\"type\":\"DaysTicker\"},{\"attributes\":{\"months\":[0,1,2,3,4,5,6,7,8,9,10,11]},\"id\":\"7411\",\"type\":\"MonthsTicker\"},{\"attributes\":{\"bottom_units\":\"screen\",\"fill_alpha\":0.5,\"fill_color\":\"lightgrey\",\"left_units\":\"screen\",\"level\":\"overlay\",\"line_alpha\":1.0,\"line_color\":\"black\",\"line_dash\":[4,4],\"line_width\":2,\"render_mode\":\"css\",\"right_units\":\"screen\",\"top_units\":\"screen\"},\"id\":\"7386\",\"type\":\"BoxAnnotation\"},{\"attributes\":{\"overlay\":{\"id\":\"7386\"}},\"id\":\"7382\",\"type\":\"BoxZoomTool\"},{\"attributes\":{\"days\":[1,8,15,22]},\"id\":\"7409\",\"type\":\"DaysTicker\"},{\"attributes\":{\"months\":[0,6]},\"id\":\"7414\",\"type\":\"MonthsTicker\"},{\"attributes\":{\"text\":\"Intensive Care: Italy\"},\"id\":\"7362\",\"type\":\"Title\"},{\"attributes\":{},\"id\":\"7661\",\"type\":\"UnionRenderers\"},{\"attributes\":{\"data_source\":{\"id\":\"7419\"},\"glyph\":{\"id\":\"7420\"},\"hover_glyph\":null,\"muted_glyph\":null,\"nonselection_glyph\":{\"id\":\"7421\"},\"selection_glyph\":null,\"view\":{\"id\":\"7423\"}},\"id\":\"7422\",\"type\":\"GlyphRenderer\"},{\"attributes\":{},\"id\":\"7385\",\"type\":\"HelpTool\"},{\"attributes\":{\"callback\":null,\"formatters\":{\"@x\":\"datetime\"},\"mode\":\"vline\",\"tooltips\":[[\"date\",\"@x{%d %B}\"],[\"intensive care\",\"@y{0.}\"]]},\"id\":\"7429\",\"type\":\"HoverTool\"},{\"attributes\":{},\"id\":\"7383\",\"type\":\"SaveTool\"},{\"attributes\":{\"axis_label\":\"Date\",\"formatter\":{\"id\":\"7424\"},\"major_label_orientation\":0.7853981633974483,\"minor_tick_in\":-5,\"minor_tick_out\":-3,\"ticker\":{\"id\":\"7373\"}},\"id\":\"7372\",\"type\":\"DatetimeAxis\"}],\"root_ids\":[\"7361\"]},\"title\":\"Bokeh Application\",\"version\":\"2.0.2\"}};\n",
       "  var render_items = [{\"docid\":\"b2a91060-413f-445d-9d82-add859a9a435\",\"root_ids\":[\"7361\"],\"roots\":{\"7361\":\"ea64fc48-4600-4ce6-9dc8-93cb088c090e\"}}];\n",
       "  root.Bokeh.embed.embed_items_notebook(docs_json, render_items);\n",
       "\n",
       "  }\n",
       "  if (root.Bokeh !== undefined) {\n",
       "    embed_document(root);\n",
       "  } else {\n",
       "    var attempts = 0;\n",
       "    var timer = setInterval(function(root) {\n",
       "      if (root.Bokeh !== undefined) {\n",
       "        clearInterval(timer);\n",
       "        embed_document(root);\n",
       "      } else {\n",
       "        attempts++;\n",
       "        if (attempts > 100) {\n",
       "          clearInterval(timer);\n",
       "          console.log(\"Bokeh: ERROR: Unable to run BokehJS code because BokehJS library is missing\");\n",
       "        }\n",
       "      }\n",
       "    }, 10, root)\n",
       "  }\n",
       "})(window);"
      ],
      "application/vnd.bokehjs_exec.v0+json": ""
     },
     "metadata": {
      "application/vnd.bokehjs_exec.v0+json": {
       "id": "7361"
      }
     },
     "output_type": "display_data"
    }
   ],
   "source": [
    "p_intensive_care_Italy = bokeh_plot_1_line(x=time_date_new, y=intensive_care_italy, \n",
    "                  title='Intensive Care: Italy', \n",
    "                  file_name=\"intensive_care_Italy.html\", \n",
    "                  x_label='Date', \n",
    "                  y_label='Intensive Care', legend='intensive care',\n",
    "                  x_label_hover='date', y_label_hover='intensive care',\n",
    "                  color='GoldenRod', y_minmax=None)\n",
    "# output_file(\"total_cases_Italy.html\")\n",
    "show(p_intensive_care_Italy)"
   ]
  },
  {
   "cell_type": "code",
   "execution_count": 39,
   "metadata": {},
   "outputs": [
    {
     "data": {
      "text/html": [
       "\n",
       "\n",
       "\n",
       "\n",
       "\n",
       "\n",
       "  <div class=\"bk-root\" id=\"385be99e-3254-4b75-8507-38fafaa8531b\" data-root-id=\"8056\"></div>\n"
      ]
     },
     "metadata": {},
     "output_type": "display_data"
    },
    {
     "data": {
      "application/javascript": [
       "(function(root) {\n",
       "  function embed_document(root) {\n",
       "    \n",
       "  var docs_json = {\"3c195faa-6cee-4b4a-addd-935cb35d61d4\":{\"roots\":{\"references\":[{\"attributes\":{\"below\":[{\"id\":\"8067\"}],\"center\":[{\"id\":\"8070\"},{\"id\":\"8074\"},{\"id\":\"8112\"}],\"left\":[{\"id\":\"8071\"}],\"plot_height\":450,\"renderers\":[{\"id\":\"8092\"},{\"id\":\"8117\"},{\"id\":\"8122\"},{\"id\":\"8150\"}],\"title\":{\"id\":\"8057\"},\"toolbar\":{\"id\":\"8082\"},\"x_range\":{\"id\":\"8059\"},\"x_scale\":{\"id\":\"8063\"},\"y_range\":{\"id\":\"8061\"},\"y_scale\":{\"id\":\"8065\"}},\"id\":\"8056\",\"subtype\":\"Figure\",\"type\":\"Plot\"},{\"attributes\":{\"days\":[1,4,7,10,13,16,19,22,25,28]},\"id\":\"8103\",\"type\":\"DaysTicker\"},{\"attributes\":{\"line_alpha\":0.1,\"line_color\":\"GoldenRod\",\"line_width\":4,\"x\":{\"field\":\"x\"},\"y\":{\"field\":\"y\"}},\"id\":\"8121\",\"type\":\"Line\"},{\"attributes\":{},\"id\":\"8131\",\"type\":\"Selection\"},{\"attributes\":{},\"id\":\"8413\",\"type\":\"UnionRenderers\"},{\"attributes\":{},\"id\":\"8063\",\"type\":\"LinearScale\"},{\"attributes\":{\"days\":[1,8,15,22]},\"id\":\"8104\",\"type\":\"DaysTicker\"},{\"attributes\":{},\"id\":\"8079\",\"type\":\"ResetTool\"},{\"attributes\":{\"source\":{\"id\":\"8089\"}},\"id\":\"8093\",\"type\":\"CDSView\"},{\"attributes\":{\"days\":[1,15]},\"id\":\"8105\",\"type\":\"DaysTicker\"},{\"attributes\":{\"axis\":{\"id\":\"8067\"},\"ticker\":null},\"id\":\"8070\",\"type\":\"Grid\"},{\"attributes\":{},\"id\":\"8078\",\"type\":\"SaveTool\"},{\"attributes\":{\"bottom_units\":\"screen\",\"fill_alpha\":0.5,\"fill_color\":\"lightgrey\",\"left_units\":\"screen\",\"level\":\"overlay\",\"line_alpha\":1.0,\"line_color\":\"black\",\"line_dash\":[4,4],\"line_width\":2,\"render_mode\":\"css\",\"right_units\":\"screen\",\"top_units\":\"screen\"},\"id\":\"8081\",\"type\":\"BoxAnnotation\"},{\"attributes\":{\"fill_alpha\":{\"value\":0.1},\"fill_color\":{\"value\":\"white\"},\"line_alpha\":{\"value\":0.1},\"line_color\":{\"value\":\"orange\"},\"size\":{\"units\":\"screen\",\"value\":6},\"x\":{\"field\":\"x\"},\"y\":{\"field\":\"y\"}},\"id\":\"8116\",\"type\":\"Circle\"},{\"attributes\":{},\"id\":\"8130\",\"type\":\"UnionRenderers\"},{\"attributes\":{},\"id\":\"8411\",\"type\":\"UnionRenderers\"},{\"attributes\":{\"months\":[0,1,2,3,4,5,6,7,8,9,10,11]},\"id\":\"8106\",\"type\":\"MonthsTicker\"},{\"attributes\":{\"overlay\":{\"id\":\"8081\"}},\"id\":\"8077\",\"type\":\"BoxZoomTool\"},{\"attributes\":{\"data\":{\"x\":{\"__ndarray__\":\"AAAA5UcHd0IAAMBKmgd3QgAAgLDsB3dCAABAFj8Id0IAAAB8kQh3QgAAwOHjCHdCAACARzYJd0IAAECtiAl3QgAAABPbCXdCAADAeC0Kd0IAAIDefwp3QgAAQETSCndCAAAAqiQLd0IAAMAPdwt3QgAAgHXJC3dCAABA2xsMd0IAAABBbgx3QgAAwKbADHdCAACADBMNd0IAAEByZQ13QgAAANi3DXdCAADAPQoOd0IAAICjXA53QgAAQAmvDndCAAAAbwEPd0IAAMDUUw93QgAAgDqmD3dCAABAoPgPd0IAAAAGSxB3QgAAwGudEHdCAACA0e8Qd0IAAEA3QhF3QgAAAJ2UEXdCAADAAucRd0IAAIBoORJ3QgAAQM6LEndCAAAANN4Sd0IAAMCZMBN3QgAAgP+CE3dCAABAZdUTd0IAAADLJxR3QgAAwDB6FHdCAACAlswUd0IAAED8HhV3QgAAAGJxFXdCAADAx8MVd0IAAIAtFhZ3QgAAQJNoFndCAAAA+boWd0IAAMBeDRd3QgAAgMRfF3dCAABAKrIXd0IAAACQBBh3QgAAwPVWGHdCAACAW6kYd0IAAEDB+xh3QgAAACdOGXdCAADAjKAZd0IAAIDy8hl3QgAAQFhFGndCAAAAvpcad0IAAMAj6hp3QgAAgIk8G3dCAABA744bd0IAAABV4Rt3QgAAwLozHHdCAACAIIYcd0IAAECG2Bx3QgAAAOwqHXdCAADAUX0dd0IAAIC3zx13QgAAQB0iHndCAAAAg3Qed0IAAMDoxh53QgAAgE4ZH3dCAABAtGsfd0IAAAAavh93QgAAwH8QIHdCAACA5WIgd0IAAEBLtSB3QgAAALEHIXdCAADAFlohd0IAAIB8rCF3QgAAQOL+IXdCAAAASFEid0IAAMCtoyJ3QgAAgBP2IndCAABAeUgjd0IAAADfmiN3QgAAwETtI3dCAACAqj8kd0IAAEAQkiR3QgAAAHbkJHdCAADA2zYld0IAAIBBiSV3QgAAQKfbJXdCAAAADS4md0IAAMBygCZ3QgAAgNjSJndCAABAPiUnd0IAAACkdyd3QgAAwAnKJ3dCAACAbxwod0IAAEDVbih3QgAAADvBKHdCAADAoBMpd0IAAIAGZil3QgAAQGy4KXdCAAAA0goqd0IAAMA3XSp3QgAAgJ2vKndCAABAAwIrd0IAAABpVCt3QgAAwM6mK3dCAACANPkrd0IAAECaSyx3QgAAAACeLHdCAADAZfAsd0IAAIDLQi13QgAAQDGVLXdCAAAAl+ctd0I=\",\"dtype\":\"float64\",\"shape\":[121]},\"y\":[127,150,164,304,409,506,779,908,1263,1641,2141,2856,3218,4207,5049,5915,6866,7803,8754,9890,11335,12876,14954,16620,18255,18675,20565,22855,23896,25333,26601,28365,29761,30532,31292,31776,32215,32438,32593,32809,33004,32926,32874,32510,32178,32004,31739,31525,31190,31283,31197,30722,29829,28598,27740,27668,27479,26605,26189,25138,24241,23635,23381,22309,21586,21005,19843,19147,18896,18743,18302,17697,17102,16485,15804,14868,14645,14538,13817,13065,12308,11600,11175,11073,10956,10707,10300,9909,9552,9267,9166,8726,8438,8234,7868,7569,7130,6822,6523,6324,6095,5841,5617,5295,5151,5012,4844,4569,4367,4120,3967,3803,3696,3478,3276,3035,2793,2626,2462,2165,1968]},\"selected\":{\"id\":\"8129\"},\"selection_policy\":{\"id\":\"8130\"}},\"id\":\"8089\",\"type\":\"ColumnDataSource\"},{\"attributes\":{\"num_minor_ticks\":5,\"tickers\":[{\"id\":\"8099\"},{\"id\":\"8100\"},{\"id\":\"8101\"},{\"id\":\"8102\"},{\"id\":\"8103\"},{\"id\":\"8104\"},{\"id\":\"8105\"},{\"id\":\"8106\"},{\"id\":\"8107\"},{\"id\":\"8108\"},{\"id\":\"8109\"},{\"id\":\"8110\"}]},\"id\":\"8068\",\"type\":\"DatetimeTicker\"},{\"attributes\":{\"months\":[0,2,4,6,8,10]},\"id\":\"8107\",\"type\":\"MonthsTicker\"},{\"attributes\":{},\"id\":\"8065\",\"type\":\"LinearScale\"},{\"attributes\":{},\"id\":\"8061\",\"type\":\"DataRange1d\"},{\"attributes\":{\"source\":{\"id\":\"8114\"}},\"id\":\"8118\",\"type\":\"CDSView\"},{\"attributes\":{\"source\":{\"id\":\"8119\"}},\"id\":\"8123\",\"type\":\"CDSView\"},{\"attributes\":{\"mantissas\":[1,2,5],\"max_interval\":500.0,\"num_minor_ticks\":0},\"id\":\"8099\",\"type\":\"AdaptiveTicker\"},{\"attributes\":{},\"id\":\"8075\",\"type\":\"PanTool\"},{\"attributes\":{},\"id\":\"8129\",\"type\":\"Selection\"},{\"attributes\":{\"months\":[0,4,8]},\"id\":\"8108\",\"type\":\"MonthsTicker\"},{\"attributes\":{\"months\":[0,6]},\"id\":\"8109\",\"type\":\"MonthsTicker\"},{\"attributes\":{\"axis\":{\"id\":\"8071\"},\"dimension\":1,\"ticker\":null},\"id\":\"8074\",\"type\":\"Grid\"},{\"attributes\":{},\"id\":\"8132\",\"type\":\"UnionRenderers\"},{\"attributes\":{\"active_drag\":\"auto\",\"active_inspect\":\"auto\",\"active_multi\":null,\"active_scroll\":\"auto\",\"active_tap\":\"auto\",\"tools\":[{\"id\":\"8075\"},{\"id\":\"8076\"},{\"id\":\"8077\"},{\"id\":\"8078\"},{\"id\":\"8079\"},{\"id\":\"8080\"},{\"id\":\"8157\"}]},\"id\":\"8082\",\"type\":\"Toolbar\"},{\"attributes\":{},\"id\":\"8110\",\"type\":\"YearsTicker\"},{\"attributes\":{\"label\":{\"value\":\"intensive care\"},\"renderers\":[{\"id\":\"8122\"}]},\"id\":\"8146\",\"type\":\"LegendItem\"},{\"attributes\":{\"data\":{\"x\":{\"__ndarray__\":\"AAAA5UcHd0IAAMBKmgd3QgAAgLDsB3dCAABAFj8Id0IAAAB8kQh3QgAAwOHjCHdCAACARzYJd0IAAECtiAl3QgAAABPbCXdCAADAeC0Kd0IAAIDefwp3QgAAQETSCndCAAAAqiQLd0IAAMAPdwt3QgAAgHXJC3dCAABA2xsMd0IAAABBbgx3QgAAwKbADHdCAACADBMNd0IAAEByZQ13QgAAANi3DXdCAADAPQoOd0IAAICjXA53QgAAQAmvDndCAAAAbwEPd0IAAMDUUw93QgAAgDqmD3dCAABAoPgPd0IAAAAGSxB3QgAAwGudEHdCAACA0e8Qd0IAAEA3QhF3QgAAAJ2UEXdCAADAAucRd0IAAIBoORJ3QgAAQM6LEndCAAAANN4Sd0IAAMCZMBN3QgAAgP+CE3dCAABAZdUTd0IAAADLJxR3QgAAwDB6FHdCAACAlswUd0IAAED8HhV3QgAAAGJxFXdCAADAx8MVd0IAAIAtFhZ3QgAAQJNoFndCAAAA+boWd0IAAMBeDRd3QgAAgMRfF3dCAABAKrIXd0IAAACQBBh3QgAAwPVWGHdCAACAW6kYd0IAAEDB+xh3QgAAACdOGXdCAADAjKAZd0IAAIDy8hl3QgAAQFhFGndCAAAAvpcad0IAAMAj6hp3QgAAgIk8G3dCAABA744bd0IAAABV4Rt3QgAAwLozHHdCAACAIIYcd0IAAECG2Bx3QgAAAOwqHXdCAADAUX0dd0IAAIC3zx13QgAAQB0iHndCAAAAg3Qed0IAAMDoxh53QgAAgE4ZH3dCAABAtGsfd0IAAAAavh93QgAAwH8QIHdCAACA5WIgd0IAAEBLtSB3QgAAALEHIXdCAADAFlohd0IAAIB8rCF3QgAAQOL+IXdCAAAASFEid0IAAMCtoyJ3QgAAgBP2IndCAABAeUgjd0IAAADfmiN3QgAAwETtI3dCAACAqj8kd0IAAEAQkiR3QgAAAHbkJHdCAADA2zYld0IAAIBBiSV3QgAAQKfbJXdCAAAADS4md0IAAMBygCZ3QgAAgNjSJndCAABAPiUnd0IAAACkdyd3QgAAwAnKJ3dCAACAbxwod0IAAEDVbih3QgAAADvBKHdCAADAoBMpd0IAAIAGZil3QgAAQGy4KXdCAAAA0goqd0IAAMA3XSp3QgAAgJ2vKndCAABAAwIrd0IAAABpVCt3QgAAwM6mK3dCAACANPkrd0IAAECaSyx3QgAAAACeLHdCAADAZfAsd0IAAIDLQi13QgAAQDGVLXdCAAAAl+ctd0I=\",\"dtype\":\"float64\",\"shape\":[121]},\"y\":[26,35,36,56,64,105,140,166,229,295,351,462,567,650,733,877,1028,1153,1328,1518,1672,1851,2060,2257,2498,2655,2857,3009,3204,3396,3489,3612,3732,3856,3906,3981,4023,4035,4053,4068,3994,3977,3898,3792,3693,3605,3497,3381,3343,3260,3186,3079,2936,2812,2733,2635,2573,2471,2384,2267,2173,2102,2009,1956,1863,1795,1694,1578,1539,1501,1479,1427,1333,1311,1168,1034,1027,999,952,893,855,808,775,762,749,716,676,640,595,572,553,541,521,505,489,475,450,435,424,408,353,338,316,293,287,283,263,249,236,227,220,209,207,177,163,168,161,152,148,127,115]},\"selected\":{\"id\":\"8410\"},\"selection_policy\":{\"id\":\"8411\"}},\"id\":\"8119\",\"type\":\"ColumnDataSource\"},{\"attributes\":{\"axis_label\":\"Date\",\"formatter\":{\"id\":\"8152\"},\"major_label_orientation\":0.7853981633974483,\"minor_tick_in\":-5,\"minor_tick_out\":-3,\"ticker\":{\"id\":\"8068\"}},\"id\":\"8067\",\"type\":\"DatetimeAxis\"},{\"attributes\":{},\"id\":\"8059\",\"type\":\"DataRange1d\"},{\"attributes\":{\"line_alpha\":0.1,\"line_color\":\"orange\",\"line_width\":4,\"x\":{\"field\":\"x\"},\"y\":{\"field\":\"y\"}},\"id\":\"8091\",\"type\":\"Line\"},{\"attributes\":{\"line_color\":\"GoldenRod\",\"line_width\":4,\"x\":{\"field\":\"x\"},\"y\":{\"field\":\"y\"}},\"id\":\"8120\",\"type\":\"Line\"},{\"attributes\":{\"data_source\":{\"id\":\"8119\"},\"glyph\":{\"id\":\"8120\"},\"hover_glyph\":null,\"muted_glyph\":null,\"nonselection_glyph\":{\"id\":\"8121\"},\"selection_glyph\":null,\"view\":{\"id\":\"8123\"}},\"id\":\"8122\",\"type\":\"GlyphRenderer\"},{\"attributes\":{\"fill_color\":{\"value\":\"white\"},\"line_color\":{\"value\":\"GoldenRod\"},\"size\":{\"units\":\"screen\",\"value\":6},\"x\":{\"field\":\"x\"},\"y\":{\"field\":\"y\"}},\"id\":\"8148\",\"type\":\"Circle\"},{\"attributes\":{\"text\":\"Total Hospitalized vs Intensive Care: Italy\"},\"id\":\"8057\",\"type\":\"Title\"},{\"attributes\":{\"data\":{\"x\":{\"__ndarray__\":\"AAAA5UcHd0IAAMBKmgd3QgAAgLDsB3dCAABAFj8Id0IAAAB8kQh3QgAAwOHjCHdCAACARzYJd0IAAECtiAl3QgAAABPbCXdCAADAeC0Kd0IAAIDefwp3QgAAQETSCndCAAAAqiQLd0IAAMAPdwt3QgAAgHXJC3dCAABA2xsMd0IAAABBbgx3QgAAwKbADHdCAACADBMNd0IAAEByZQ13QgAAANi3DXdCAADAPQoOd0IAAICjXA53QgAAQAmvDndCAAAAbwEPd0IAAMDUUw93QgAAgDqmD3dCAABAoPgPd0IAAAAGSxB3QgAAwGudEHdCAACA0e8Qd0IAAEA3QhF3QgAAAJ2UEXdCAADAAucRd0IAAIBoORJ3QgAAQM6LEndCAAAANN4Sd0IAAMCZMBN3QgAAgP+CE3dCAABAZdUTd0IAAADLJxR3QgAAwDB6FHdCAACAlswUd0IAAED8HhV3QgAAAGJxFXdCAADAx8MVd0IAAIAtFhZ3QgAAQJNoFndCAAAA+boWd0IAAMBeDRd3QgAAgMRfF3dCAABAKrIXd0IAAACQBBh3QgAAwPVWGHdCAACAW6kYd0IAAEDB+xh3QgAAACdOGXdCAADAjKAZd0IAAIDy8hl3QgAAQFhFGndCAAAAvpcad0IAAMAj6hp3QgAAgIk8G3dCAABA744bd0IAAABV4Rt3QgAAwLozHHdCAACAIIYcd0IAAECG2Bx3QgAAAOwqHXdCAADAUX0dd0IAAIC3zx13QgAAQB0iHndCAAAAg3Qed0IAAMDoxh53QgAAgE4ZH3dCAABAtGsfd0IAAAAavh93QgAAwH8QIHdCAACA5WIgd0IAAEBLtSB3QgAAALEHIXdCAADAFlohd0IAAIB8rCF3QgAAQOL+IXdCAAAASFEid0IAAMCtoyJ3QgAAgBP2IndCAABAeUgjd0IAAADfmiN3QgAAwETtI3dCAACAqj8kd0IAAEAQkiR3QgAAAHbkJHdCAADA2zYld0IAAIBBiSV3QgAAQKfbJXdCAAAADS4md0IAAMBygCZ3QgAAgNjSJndCAABAPiUnd0IAAACkdyd3QgAAwAnKJ3dCAACAbxwod0IAAEDVbih3QgAAADvBKHdCAADAoBMpd0IAAIAGZil3QgAAQGy4KXdCAAAA0goqd0IAAMA3XSp3QgAAgJ2vKndCAABAAwIrd0IAAABpVCt3QgAAwM6mK3dCAACANPkrd0IAAECaSyx3QgAAAACeLHdCAADAZfAsd0IAAIDLQi13QgAAQDGVLXdCAAAAl+ctd0I=\",\"dtype\":\"float64\",\"shape\":[121]},\"y\":[26,35,36,56,64,105,140,166,229,295,351,462,567,650,733,877,1028,1153,1328,1518,1672,1851,2060,2257,2498,2655,2857,3009,3204,3396,3489,3612,3732,3856,3906,3981,4023,4035,4053,4068,3994,3977,3898,3792,3693,3605,3497,3381,3343,3260,3186,3079,2936,2812,2733,2635,2573,2471,2384,2267,2173,2102,2009,1956,1863,1795,1694,1578,1539,1501,1479,1427,1333,1311,1168,1034,1027,999,952,893,855,808,775,762,749,716,676,640,595,572,553,541,521,505,489,475,450,435,424,408,353,338,316,293,287,283,263,249,236,227,220,209,207,177,163,168,161,152,148,127,115]},\"selected\":{\"id\":\"8412\"},\"selection_policy\":{\"id\":\"8413\"}},\"id\":\"8147\",\"type\":\"ColumnDataSource\"},{\"attributes\":{\"data_source\":{\"id\":\"8089\"},\"glyph\":{\"id\":\"8090\"},\"hover_glyph\":null,\"muted_glyph\":null,\"nonselection_glyph\":{\"id\":\"8091\"},\"selection_glyph\":null,\"view\":{\"id\":\"8093\"}},\"id\":\"8092\",\"type\":\"GlyphRenderer\"},{\"attributes\":{},\"id\":\"8412\",\"type\":\"Selection\"},{\"attributes\":{},\"id\":\"8072\",\"type\":\"BasicTicker\"},{\"attributes\":{\"label\":{\"value\":\"total hospitalized\"},\"renderers\":[{\"id\":\"8092\"}]},\"id\":\"8113\",\"type\":\"LegendItem\"},{\"attributes\":{\"fill_color\":{\"value\":\"white\"},\"line_color\":{\"value\":\"orange\"},\"size\":{\"units\":\"screen\",\"value\":6},\"x\":{\"field\":\"x\"},\"y\":{\"field\":\"y\"}},\"id\":\"8115\",\"type\":\"Circle\"},{\"attributes\":{\"days\":[1,2,3,4,5,6,7,8,9,10,11,12,13,14,15,16,17,18,19,20,21,22,23,24,25,26,27,28,29,30,31]},\"id\":\"8102\",\"type\":\"DaysTicker\"},{\"attributes\":{\"axis_label\":\"Total Hospitalized & Intensive Care\",\"formatter\":{\"id\":\"8156\"},\"minor_tick_in\":-5,\"minor_tick_out\":-3,\"ticker\":{\"id\":\"8072\"}},\"id\":\"8071\",\"type\":\"LinearAxis\"},{\"attributes\":{\"source\":{\"id\":\"8147\"}},\"id\":\"8151\",\"type\":\"CDSView\"},{\"attributes\":{},\"id\":\"8080\",\"type\":\"HelpTool\"},{\"attributes\":{\"callback\":null,\"formatters\":{\"@x\":\"datetime\"},\"mode\":\"vline\",\"tooltips\":[[\"date\",\"@x{%d %B}\"],[\"hospitalized OR intensive care\",\"@y{0.}\"]]},\"id\":\"8157\",\"type\":\"HoverTool\"},{\"attributes\":{},\"id\":\"8410\",\"type\":\"Selection\"},{\"attributes\":{\"base\":24,\"mantissas\":[1,2,4,6,8,12],\"max_interval\":43200000.0,\"min_interval\":3600000.0,\"num_minor_ticks\":0},\"id\":\"8101\",\"type\":\"AdaptiveTicker\"},{\"attributes\":{\"data\":{\"x\":{\"__ndarray__\":\"AAAA5UcHd0IAAMBKmgd3QgAAgLDsB3dCAABAFj8Id0IAAAB8kQh3QgAAwOHjCHdCAACARzYJd0IAAECtiAl3QgAAABPbCXdCAADAeC0Kd0IAAIDefwp3QgAAQETSCndCAAAAqiQLd0IAAMAPdwt3QgAAgHXJC3dCAABA2xsMd0IAAABBbgx3QgAAwKbADHdCAACADBMNd0IAAEByZQ13QgAAANi3DXdCAADAPQoOd0IAAICjXA53QgAAQAmvDndCAAAAbwEPd0IAAMDUUw93QgAAgDqmD3dCAABAoPgPd0IAAAAGSxB3QgAAwGudEHdCAACA0e8Qd0IAAEA3QhF3QgAAAJ2UEXdCAADAAucRd0IAAIBoORJ3QgAAQM6LEndCAAAANN4Sd0IAAMCZMBN3QgAAgP+CE3dCAABAZdUTd0IAAADLJxR3QgAAwDB6FHdCAACAlswUd0IAAED8HhV3QgAAAGJxFXdCAADAx8MVd0IAAIAtFhZ3QgAAQJNoFndCAAAA+boWd0IAAMBeDRd3QgAAgMRfF3dCAABAKrIXd0IAAACQBBh3QgAAwPVWGHdCAACAW6kYd0IAAEDB+xh3QgAAACdOGXdCAADAjKAZd0IAAIDy8hl3QgAAQFhFGndCAAAAvpcad0IAAMAj6hp3QgAAgIk8G3dCAABA744bd0IAAABV4Rt3QgAAwLozHHdCAACAIIYcd0IAAECG2Bx3QgAAAOwqHXdCAADAUX0dd0IAAIC3zx13QgAAQB0iHndCAAAAg3Qed0IAAMDoxh53QgAAgE4ZH3dCAABAtGsfd0IAAAAavh93QgAAwH8QIHdCAACA5WIgd0IAAEBLtSB3QgAAALEHIXdCAADAFlohd0IAAIB8rCF3QgAAQOL+IXdCAAAASFEid0IAAMCtoyJ3QgAAgBP2IndCAABAeUgjd0IAAADfmiN3QgAAwETtI3dCAACAqj8kd0IAAEAQkiR3QgAAAHbkJHdCAADA2zYld0IAAIBBiSV3QgAAQKfbJXdCAAAADS4md0IAAMBygCZ3QgAAgNjSJndCAABAPiUnd0IAAACkdyd3QgAAwAnKJ3dCAACAbxwod0IAAEDVbih3QgAAADvBKHdCAADAoBMpd0IAAIAGZil3QgAAQGy4KXdCAAAA0goqd0IAAMA3XSp3QgAAgJ2vKndCAABAAwIrd0IAAABpVCt3QgAAwM6mK3dCAACANPkrd0IAAECaSyx3QgAAAACeLHdCAADAZfAsd0IAAIDLQi13QgAAQDGVLXdCAAAAl+ctd0I=\",\"dtype\":\"float64\",\"shape\":[121]},\"y\":[127,150,164,304,409,506,779,908,1263,1641,2141,2856,3218,4207,5049,5915,6866,7803,8754,9890,11335,12876,14954,16620,18255,18675,20565,22855,23896,25333,26601,28365,29761,30532,31292,31776,32215,32438,32593,32809,33004,32926,32874,32510,32178,32004,31739,31525,31190,31283,31197,30722,29829,28598,27740,27668,27479,26605,26189,25138,24241,23635,23381,22309,21586,21005,19843,19147,18896,18743,18302,17697,17102,16485,15804,14868,14645,14538,13817,13065,12308,11600,11175,11073,10956,10707,10300,9909,9552,9267,9166,8726,8438,8234,7868,7569,7130,6822,6523,6324,6095,5841,5617,5295,5151,5012,4844,4569,4367,4120,3967,3803,3696,3478,3276,3035,2793,2626,2462,2165,1968]},\"selected\":{\"id\":\"8131\"},\"selection_policy\":{\"id\":\"8132\"}},\"id\":\"8114\",\"type\":\"ColumnDataSource\"},{\"attributes\":{\"fill_alpha\":{\"value\":0.1},\"fill_color\":{\"value\":\"white\"},\"line_alpha\":{\"value\":0.1},\"line_color\":{\"value\":\"GoldenRod\"},\"size\":{\"units\":\"screen\",\"value\":6},\"x\":{\"field\":\"x\"},\"y\":{\"field\":\"y\"}},\"id\":\"8149\",\"type\":\"Circle\"},{\"attributes\":{\"base\":60,\"mantissas\":[1,2,5,10,15,20,30],\"max_interval\":1800000.0,\"min_interval\":1000.0,\"num_minor_ticks\":0},\"id\":\"8100\",\"type\":\"AdaptiveTicker\"},{\"attributes\":{\"line_color\":\"orange\",\"line_width\":4,\"x\":{\"field\":\"x\"},\"y\":{\"field\":\"y\"}},\"id\":\"8090\",\"type\":\"Line\"},{\"attributes\":{\"data_source\":{\"id\":\"8114\"},\"glyph\":{\"id\":\"8115\"},\"hover_glyph\":null,\"muted_glyph\":null,\"nonselection_glyph\":{\"id\":\"8116\"},\"selection_glyph\":null,\"view\":{\"id\":\"8118\"}},\"id\":\"8117\",\"type\":\"GlyphRenderer\"},{\"attributes\":{},\"id\":\"8156\",\"type\":\"NumeralTickFormatter\"},{\"attributes\":{\"days\":[\"%d %B\"]},\"id\":\"8152\",\"type\":\"DatetimeTickFormatter\"},{\"attributes\":{\"data_source\":{\"id\":\"8147\"},\"glyph\":{\"id\":\"8148\"},\"hover_glyph\":null,\"muted_glyph\":null,\"nonselection_glyph\":{\"id\":\"8149\"},\"selection_glyph\":null,\"view\":{\"id\":\"8151\"}},\"id\":\"8150\",\"type\":\"GlyphRenderer\"},{\"attributes\":{},\"id\":\"8076\",\"type\":\"WheelZoomTool\"},{\"attributes\":{\"items\":[{\"id\":\"8113\"},{\"id\":\"8146\"}],\"location\":\"top_left\"},\"id\":\"8112\",\"type\":\"Legend\"}],\"root_ids\":[\"8056\"]},\"title\":\"Bokeh Application\",\"version\":\"2.0.2\"}};\n",
       "  var render_items = [{\"docid\":\"3c195faa-6cee-4b4a-addd-935cb35d61d4\",\"root_ids\":[\"8056\"],\"roots\":{\"8056\":\"385be99e-3254-4b75-8507-38fafaa8531b\"}}];\n",
       "  root.Bokeh.embed.embed_items_notebook(docs_json, render_items);\n",
       "\n",
       "  }\n",
       "  if (root.Bokeh !== undefined) {\n",
       "    embed_document(root);\n",
       "  } else {\n",
       "    var attempts = 0;\n",
       "    var timer = setInterval(function(root) {\n",
       "      if (root.Bokeh !== undefined) {\n",
       "        clearInterval(timer);\n",
       "        embed_document(root);\n",
       "      } else {\n",
       "        attempts++;\n",
       "        if (attempts > 100) {\n",
       "          clearInterval(timer);\n",
       "          console.log(\"Bokeh: ERROR: Unable to run BokehJS code because BokehJS library is missing\");\n",
       "        }\n",
       "      }\n",
       "    }, 10, root)\n",
       "  }\n",
       "})(window);"
      ],
      "application/vnd.bokehjs_exec.v0+json": ""
     },
     "metadata": {
      "application/vnd.bokehjs_exec.v0+json": {
       "id": "8056"
      }
     },
     "output_type": "display_data"
    }
   ],
   "source": [
    "p_hospitalized_intensivecare_Italy = bokeh_plot_2_lines(x=time_date_new, y=total_hospital_italy, yy=intensive_care_italy, \n",
    "                  title='Total Hospitalized vs Intensive Care: Italy', \n",
    "                  file_name=\"hospitalized_intensivecare_Italy.html\", \n",
    "                  x_label='Date', y_label='Total Hospitalized & Intensive Care', \n",
    "                  legend_1='total hospitalized', legend_2='intensive care',\n",
    "                  x_label_hover='date' , y_label_hover='hospitalized OR intensive care' , \n",
    "                  color_1='orange', color_2='GoldenRod', y_minmax=None)\n",
    "\n",
    "show(p_hospitalized_intensivecare_Italy)"
   ]
  },
  {
   "cell_type": "markdown",
   "metadata": {},
   "source": [
    "----------"
   ]
  },
  {
   "cell_type": "markdown",
   "metadata": {},
   "source": [
    "-------------------------\n",
    "# Fitting"
   ]
  },
  {
   "cell_type": "code",
   "execution_count": 40,
   "metadata": {},
   "outputs": [],
   "source": [
    "from scipy.optimize import curve_fit\n",
    "from scipy.special import gamma\n",
    "\n",
    "def model_exp(x,a,b):\n",
    "    return a * np.exp(b * x)\n",
    "\n",
    "def model_population(x,K,r,P_0):\n",
    "    den = 1 + ((K - P_0) / P_0) * np.exp(- r * x)\n",
    "    return K / den\n",
    "\n",
    "def model_Gamma_distribution(x,alpha,beta,Kmax):\n",
    "    return Kmax * np.abs(beta)**(np.abs(alpha) + 1) * x**(np.abs(alpha)) * np.exp(- np.abs(beta) * x) / gamma((np.abs(alpha) + 1))"
   ]
  },
  {
   "cell_type": "markdown",
   "metadata": {},
   "source": [
    "------------------"
   ]
  },
  {
   "cell_type": "markdown",
   "metadata": {},
   "source": [
    "### ----- Exponential Fitting -----"
   ]
  },
  {
   "cell_type": "code",
   "execution_count": 41,
   "metadata": {},
   "outputs": [
    {
     "data": {
      "text/plain": [
       "(1268.6044974646502, 0.13890844390214907)"
      ]
     },
     "execution_count": 41,
     "metadata": {},
     "output_type": "execute_result"
    }
   ],
   "source": [
    "fit_range = 28   # best fit when fit_range = 28 namely March 22\n",
    "xdata = np.linspace(0, fit_range, fit_range)\n",
    "init_guess = [5000, 0.001]\n",
    "fit = curve_fit(model_exp, xdata, total_cases_italy.loc[0:(fit_range-1)], p0=init_guess)\n",
    "ans, cov = fit\n",
    "fit_a, fit_b = ans\n",
    "fit_a, fit_b"
   ]
  },
  {
   "cell_type": "code",
   "execution_count": 42,
   "metadata": {},
   "outputs": [
    {
     "data": {
      "text/plain": [
       "array([[ 9.92195154e+03, -3.07812476e-01],\n",
       "       [-3.07812476e-01,  9.74343219e-06]])"
      ]
     },
     "execution_count": 42,
     "metadata": {},
     "output_type": "execute_result"
    }
   ],
   "source": [
    "cov"
   ]
  },
  {
   "cell_type": "code",
   "execution_count": 43,
   "metadata": {},
   "outputs": [
    {
     "data": {
      "text/plain": [
       "array([9.96089933e+01, 3.12144713e-03])"
      ]
     },
     "execution_count": 43,
     "metadata": {},
     "output_type": "execute_result"
    }
   ],
   "source": [
    "np.sqrt(np.diag(cov))"
   ]
  },
  {
   "cell_type": "code",
   "execution_count": 44,
   "metadata": {},
   "outputs": [
    {
     "data": {
      "text/plain": [
       "array([ 1268.60449746,  1465.16912064,  1692.1905577 ,  1954.38795648,\n",
       "        2257.21167574,  2606.95658312,  3010.89290796,  3477.41736932,\n",
       "        4016.22772053,  4638.52433861,  5357.24304922,  6187.32402664,\n",
       "        7146.02235868,  8253.26673226,  9532.07369566, 11009.02610895,\n",
       "       12714.82572808, 14684.9314095 , 16960.29620175, 19588.21864602,\n",
       "       22623.32598204, 26128.70969733, 30177.23702472, 34853.06565057,\n",
       "       40253.3931204 , 46490.47730694, 53693.96994092, 62013.61171197])"
      ]
     },
     "execution_count": 44,
     "metadata": {},
     "output_type": "execute_result"
    }
   ],
   "source": [
    "ydata = model_exp(xdata,fit_a,fit_b)\n",
    "ydata"
   ]
  },
  {
   "cell_type": "code",
   "execution_count": 45,
   "metadata": {},
   "outputs": [
    {
     "data": {
      "text/html": [
       "\n",
       "\n",
       "\n",
       "\n",
       "\n",
       "\n",
       "  <div class=\"bk-root\" id=\"e5f4b2ec-d9a7-4eea-912b-3b12a9f58987\" data-root-id=\"8884\"></div>\n"
      ]
     },
     "metadata": {},
     "output_type": "display_data"
    },
    {
     "data": {
      "application/javascript": [
       "(function(root) {\n",
       "  function embed_document(root) {\n",
       "    \n",
       "  var docs_json = {\"c853d063-acfb-400e-8cca-a8ba38ffdc6b\":{\"roots\":{\"references\":[{\"attributes\":{\"below\":[{\"id\":\"8895\"}],\"center\":[{\"id\":\"8898\"},{\"id\":\"8902\"},{\"id\":\"8940\"}],\"left\":[{\"id\":\"8899\"}],\"plot_height\":450,\"renderers\":[{\"id\":\"8920\"},{\"id\":\"8945\"},{\"id\":\"8950\"},{\"id\":\"8978\"}],\"title\":{\"id\":\"8885\"},\"toolbar\":{\"id\":\"8910\"},\"x_range\":{\"id\":\"8887\"},\"x_scale\":{\"id\":\"8891\"},\"y_range\":{\"id\":\"8889\"},\"y_scale\":{\"id\":\"8893\"}},\"id\":\"8884\",\"subtype\":\"Figure\",\"type\":\"Plot\"},{\"attributes\":{\"data\":{\"x\":{\"__ndarray__\":\"AAAA5UcHd0IAAMBKmgd3QgAAgLDsB3dCAABAFj8Id0IAAAB8kQh3QgAAwOHjCHdCAACARzYJd0IAAECtiAl3QgAAABPbCXdCAADAeC0Kd0IAAIDefwp3QgAAQETSCndCAAAAqiQLd0IAAMAPdwt3QgAAgHXJC3dCAABA2xsMd0IAAABBbgx3QgAAwKbADHdCAACADBMNd0IAAEByZQ13QgAAANi3DXdCAADAPQoOd0IAAICjXA53QgAAQAmvDndCAAAAbwEPd0IAAMDUUw93QgAAgDqmD3dCAABAoPgPd0I=\",\"dtype\":\"float64\",\"shape\":[28]},\"y\":{\"__ndarray__\":\"wCRiAWvSk0DNz/UtreSWQNLhjiHDcJpAbnR2RI2JnkBPQMNgbKKhQE4fQ8XpXaRA8Gw7K8mFp0ALoW6x1SqrQPvhyJd0YK9ARxsOO4YeskDKRXk4Pu20QMzkaPNSK7hAHWVMuQXqu0D8WEgkoh7AQFoG3G4JnsJAgL2JV4OAxUB/JHWxadXIQKozbTh3rsxAUy749BKQ0EAG20v+DSHTQDDE49zUF9ZA9Vmuay2E2UAktmkrT3jdQKE7zxmiBOFAgjlxlKyn40CbMRlGT7PmQGKLwQm/N+pAjf0kk7NH7kA=\",\"dtype\":\"float64\",\"shape\":[28]}},\"selected\":{\"id\":\"9264\"},\"selection_policy\":{\"id\":\"9265\"}},\"id\":\"8975\",\"type\":\"ColumnDataSource\"},{\"attributes\":{},\"id\":\"9264\",\"type\":\"Selection\"},{\"attributes\":{},\"id\":\"8893\",\"type\":\"LinearScale\"},{\"attributes\":{},\"id\":\"8908\",\"type\":\"HelpTool\"},{\"attributes\":{},\"id\":\"8959\",\"type\":\"Selection\"},{\"attributes\":{\"base\":60,\"mantissas\":[1,2,5,10,15,20,30],\"max_interval\":1800000.0,\"min_interval\":1000.0,\"num_minor_ticks\":0},\"id\":\"8928\",\"type\":\"AdaptiveTicker\"},{\"attributes\":{},\"id\":\"8891\",\"type\":\"LinearScale\"},{\"attributes\":{\"fill_color\":{\"value\":\"white\"},\"line_color\":{\"value\":\"blue\"},\"size\":{\"units\":\"screen\",\"value\":6},\"x\":{\"field\":\"x\"},\"y\":{\"field\":\"y\"}},\"id\":\"8943\",\"type\":\"Circle\"},{\"attributes\":{\"days\":[1,2,3,4,5,6,7,8,9,10,11,12,13,14,15,16,17,18,19,20,21,22,23,24,25,26,27,28,29,30,31]},\"id\":\"8930\",\"type\":\"DaysTicker\"},{\"attributes\":{\"data_source\":{\"id\":\"8942\"},\"glyph\":{\"id\":\"8943\"},\"hover_glyph\":null,\"muted_glyph\":null,\"nonselection_glyph\":{\"id\":\"8944\"},\"selection_glyph\":null,\"view\":{\"id\":\"8946\"}},\"id\":\"8945\",\"type\":\"GlyphRenderer\"},{\"attributes\":{},\"id\":\"8960\",\"type\":\"UnionRenderers\"},{\"attributes\":{\"axis\":{\"id\":\"8895\"},\"ticker\":null},\"id\":\"8898\",\"type\":\"Grid\"},{\"attributes\":{\"line_color\":\"blue\",\"line_width\":4,\"x\":{\"field\":\"x\"},\"y\":{\"field\":\"y\"}},\"id\":\"8918\",\"type\":\"Line\"},{\"attributes\":{\"fill_color\":{\"value\":\"white\"},\"line_color\":{\"value\":\"red\"},\"size\":{\"units\":\"screen\",\"value\":6},\"x\":{\"field\":\"x\"},\"y\":{\"field\":\"y\"}},\"id\":\"8976\",\"type\":\"Circle\"},{\"attributes\":{\"num_minor_ticks\":5,\"tickers\":[{\"id\":\"8927\"},{\"id\":\"8928\"},{\"id\":\"8929\"},{\"id\":\"8930\"},{\"id\":\"8931\"},{\"id\":\"8932\"},{\"id\":\"8933\"},{\"id\":\"8934\"},{\"id\":\"8935\"},{\"id\":\"8936\"},{\"id\":\"8937\"},{\"id\":\"8938\"}]},\"id\":\"8896\",\"type\":\"DatetimeTicker\"},{\"attributes\":{\"label\":{\"value\":\"total cases\"},\"renderers\":[{\"id\":\"8920\"}]},\"id\":\"8941\",\"type\":\"LegendItem\"},{\"attributes\":{},\"id\":\"8887\",\"type\":\"DataRange1d\"},{\"attributes\":{\"data\":{\"x\":{\"__ndarray__\":\"AAAA5UcHd0IAAMBKmgd3QgAAgLDsB3dCAABAFj8Id0IAAAB8kQh3QgAAwOHjCHdCAACARzYJd0IAAECtiAl3QgAAABPbCXdCAADAeC0Kd0IAAIDefwp3QgAAQETSCndCAAAAqiQLd0IAAMAPdwt3QgAAgHXJC3dCAABA2xsMd0IAAABBbgx3QgAAwKbADHdCAACADBMNd0IAAEByZQ13QgAAANi3DXdCAADAPQoOd0IAAICjXA53QgAAQAmvDndCAAAAbwEPd0IAAMDUUw93QgAAgDqmD3dCAABAoPgPd0I=\",\"dtype\":\"float64\",\"shape\":[28]},\"y\":{\"__ndarray__\":\"wCRiAWvSk0DNz/UtreSWQNLhjiHDcJpAbnR2RI2JnkBPQMNgbKKhQE4fQ8XpXaRA8Gw7K8mFp0ALoW6x1SqrQPvhyJd0YK9ARxsOO4YeskDKRXk4Pu20QMzkaPNSK7hAHWVMuQXqu0D8WEgkoh7AQFoG3G4JnsJAgL2JV4OAxUB/JHWxadXIQKozbTh3rsxAUy749BKQ0EAG20v+DSHTQDDE49zUF9ZA9Vmuay2E2UAktmkrT3jdQKE7zxmiBOFAgjlxlKyn40CbMRlGT7PmQGKLwQm/N+pAjf0kk7NH7kA=\",\"dtype\":\"float64\",\"shape\":[28]}},\"selected\":{\"id\":\"9262\"},\"selection_policy\":{\"id\":\"9263\"}},\"id\":\"8947\",\"type\":\"ColumnDataSource\"},{\"attributes\":{\"days\":[1,4,7,10,13,16,19,22,25,28]},\"id\":\"8931\",\"type\":\"DaysTicker\"},{\"attributes\":{\"source\":{\"id\":\"8975\"}},\"id\":\"8979\",\"type\":\"CDSView\"},{\"attributes\":{},\"id\":\"8900\",\"type\":\"BasicTicker\"},{\"attributes\":{\"fill_alpha\":{\"value\":0.1},\"fill_color\":{\"value\":\"white\"},\"line_alpha\":{\"value\":0.1},\"line_color\":{\"value\":\"blue\"},\"size\":{\"units\":\"screen\",\"value\":6},\"x\":{\"field\":\"x\"},\"y\":{\"field\":\"y\"}},\"id\":\"8944\",\"type\":\"Circle\"},{\"attributes\":{\"days\":[1,8,15,22]},\"id\":\"8932\",\"type\":\"DaysTicker\"},{\"attributes\":{\"axis\":{\"id\":\"8899\"},\"dimension\":1,\"ticker\":null},\"id\":\"8902\",\"type\":\"Grid\"},{\"attributes\":{\"axis_label\":\"Total Cases\",\"formatter\":{\"id\":\"8984\"},\"minor_tick_in\":-5,\"minor_tick_out\":-3,\"ticker\":{\"id\":\"8900\"}},\"id\":\"8899\",\"type\":\"LinearAxis\"},{\"attributes\":{\"days\":[1,15]},\"id\":\"8933\",\"type\":\"DaysTicker\"},{\"attributes\":{\"axis_label\":\"Date\",\"formatter\":{\"id\":\"8980\"},\"major_label_orientation\":0.7853981633974483,\"minor_tick_in\":-5,\"minor_tick_out\":-3,\"ticker\":{\"id\":\"8896\"}},\"id\":\"8895\",\"type\":\"DatetimeAxis\"},{\"attributes\":{\"fill_alpha\":{\"value\":0.1},\"fill_color\":{\"value\":\"white\"},\"line_alpha\":{\"value\":0.1},\"line_color\":{\"value\":\"red\"},\"size\":{\"units\":\"screen\",\"value\":6},\"x\":{\"field\":\"x\"},\"y\":{\"field\":\"y\"}},\"id\":\"8977\",\"type\":\"Circle\"},{\"attributes\":{\"months\":[0,1,2,3,4,5,6,7,8,9,10,11]},\"id\":\"8934\",\"type\":\"MonthsTicker\"},{\"attributes\":{\"line_color\":\"red\",\"line_width\":4,\"x\":{\"field\":\"x\"},\"y\":{\"field\":\"y\"}},\"id\":\"8948\",\"type\":\"Line\"},{\"attributes\":{},\"id\":\"8907\",\"type\":\"ResetTool\"},{\"attributes\":{\"mantissas\":[1,2,5],\"max_interval\":500.0,\"num_minor_ticks\":0},\"id\":\"8927\",\"type\":\"AdaptiveTicker\"},{\"attributes\":{\"data\":{\"x\":{\"__ndarray__\":\"AAAA5UcHd0IAAMBKmgd3QgAAgLDsB3dCAABAFj8Id0IAAAB8kQh3QgAAwOHjCHdCAACARzYJd0IAAECtiAl3QgAAABPbCXdCAADAeC0Kd0IAAIDefwp3QgAAQETSCndCAAAAqiQLd0IAAMAPdwt3QgAAgHXJC3dCAABA2xsMd0IAAABBbgx3QgAAwKbADHdCAACADBMNd0IAAEByZQ13QgAAANi3DXdCAADAPQoOd0IAAICjXA53QgAAQAmvDndCAAAAbwEPd0IAAMDUUw93QgAAgDqmD3dCAABAoPgPd0I=\",\"dtype\":\"float64\",\"shape\":[28]},\"y\":[229,322,400,650,888,1128,1694,2036,2502,3089,3858,4636,5883,7375,9172,10149,12462,15113,17660,21157,24747,27980,31506,35713,41035,47021,53578,59138]},\"selected\":{\"id\":\"8959\"},\"selection_policy\":{\"id\":\"8960\"}},\"id\":\"8942\",\"type\":\"ColumnDataSource\"},{\"attributes\":{\"days\":[\"%d %B\"]},\"id\":\"8980\",\"type\":\"DatetimeTickFormatter\"},{\"attributes\":{\"months\":[0,2,4,6,8,10]},\"id\":\"8935\",\"type\":\"MonthsTicker\"},{\"attributes\":{\"data_source\":{\"id\":\"8917\"},\"glyph\":{\"id\":\"8918\"},\"hover_glyph\":null,\"muted_glyph\":null,\"nonselection_glyph\":{\"id\":\"8919\"},\"selection_glyph\":null,\"view\":{\"id\":\"8921\"}},\"id\":\"8920\",\"type\":\"GlyphRenderer\"},{\"attributes\":{\"data_source\":{\"id\":\"8975\"},\"glyph\":{\"id\":\"8976\"},\"hover_glyph\":null,\"muted_glyph\":null,\"nonselection_glyph\":{\"id\":\"8977\"},\"selection_glyph\":null,\"view\":{\"id\":\"8979\"}},\"id\":\"8978\",\"type\":\"GlyphRenderer\"},{\"attributes\":{},\"id\":\"8957\",\"type\":\"Selection\"},{\"attributes\":{\"months\":[0,4,8]},\"id\":\"8936\",\"type\":\"MonthsTicker\"},{\"attributes\":{\"bottom_units\":\"screen\",\"fill_alpha\":0.5,\"fill_color\":\"lightgrey\",\"left_units\":\"screen\",\"level\":\"overlay\",\"line_alpha\":1.0,\"line_color\":\"black\",\"line_dash\":[4,4],\"line_width\":2,\"render_mode\":\"css\",\"right_units\":\"screen\",\"top_units\":\"screen\"},\"id\":\"8909\",\"type\":\"BoxAnnotation\"},{\"attributes\":{\"active_drag\":\"auto\",\"active_inspect\":\"auto\",\"active_multi\":null,\"active_scroll\":\"auto\",\"active_tap\":\"auto\",\"tools\":[{\"id\":\"8903\"},{\"id\":\"8904\"},{\"id\":\"8905\"},{\"id\":\"8906\"},{\"id\":\"8907\"},{\"id\":\"8908\"},{\"id\":\"8985\"}]},\"id\":\"8910\",\"type\":\"Toolbar\"},{\"attributes\":{},\"id\":\"8938\",\"type\":\"YearsTicker\"},{\"attributes\":{\"data\":{\"x\":{\"__ndarray__\":\"AAAA5UcHd0IAAMBKmgd3QgAAgLDsB3dCAABAFj8Id0IAAAB8kQh3QgAAwOHjCHdCAACARzYJd0IAAECtiAl3QgAAABPbCXdCAADAeC0Kd0IAAIDefwp3QgAAQETSCndCAAAAqiQLd0IAAMAPdwt3QgAAgHXJC3dCAABA2xsMd0IAAABBbgx3QgAAwKbADHdCAACADBMNd0IAAEByZQ13QgAAANi3DXdCAADAPQoOd0IAAICjXA53QgAAQAmvDndCAAAAbwEPd0IAAMDUUw93QgAAgDqmD3dCAABAoPgPd0I=\",\"dtype\":\"float64\",\"shape\":[28]},\"y\":[229,322,400,650,888,1128,1694,2036,2502,3089,3858,4636,5883,7375,9172,10149,12462,15113,17660,21157,24747,27980,31506,35713,41035,47021,53578,59138]},\"selected\":{\"id\":\"8957\"},\"selection_policy\":{\"id\":\"8958\"}},\"id\":\"8917\",\"type\":\"ColumnDataSource\"},{\"attributes\":{\"months\":[0,6]},\"id\":\"8937\",\"type\":\"MonthsTicker\"},{\"attributes\":{\"source\":{\"id\":\"8917\"}},\"id\":\"8921\",\"type\":\"CDSView\"},{\"attributes\":{},\"id\":\"8984\",\"type\":\"NumeralTickFormatter\"},{\"attributes\":{\"data_source\":{\"id\":\"8947\"},\"glyph\":{\"id\":\"8948\"},\"hover_glyph\":null,\"muted_glyph\":null,\"nonselection_glyph\":{\"id\":\"8949\"},\"selection_glyph\":null,\"view\":{\"id\":\"8951\"}},\"id\":\"8950\",\"type\":\"GlyphRenderer\"},{\"attributes\":{\"items\":[{\"id\":\"8941\"},{\"id\":\"8974\"}],\"location\":\"top_left\"},\"id\":\"8940\",\"type\":\"Legend\"},{\"attributes\":{},\"id\":\"8903\",\"type\":\"PanTool\"},{\"attributes\":{},\"id\":\"9262\",\"type\":\"Selection\"},{\"attributes\":{\"callback\":null,\"formatters\":{\"@x\":\"datetime\"},\"mode\":\"vline\",\"tooltips\":[[\"date\",\"@x{%d %B}\"],[\"total cases OR fitting\",\"@y{0.}\"]]},\"id\":\"8985\",\"type\":\"HoverTool\"},{\"attributes\":{\"source\":{\"id\":\"8947\"}},\"id\":\"8951\",\"type\":\"CDSView\"},{\"attributes\":{},\"id\":\"8904\",\"type\":\"WheelZoomTool\"},{\"attributes\":{\"source\":{\"id\":\"8942\"}},\"id\":\"8946\",\"type\":\"CDSView\"},{\"attributes\":{\"base\":24,\"mantissas\":[1,2,4,6,8,12],\"max_interval\":43200000.0,\"min_interval\":3600000.0,\"num_minor_ticks\":0},\"id\":\"8929\",\"type\":\"AdaptiveTicker\"},{\"attributes\":{\"overlay\":{\"id\":\"8909\"}},\"id\":\"8905\",\"type\":\"BoxZoomTool\"},{\"attributes\":{\"label\":{\"value\":\"exponential fitting\"},\"renderers\":[{\"id\":\"8950\"}]},\"id\":\"8974\",\"type\":\"LegendItem\"},{\"attributes\":{},\"id\":\"9263\",\"type\":\"UnionRenderers\"},{\"attributes\":{\"line_alpha\":0.1,\"line_color\":\"red\",\"line_width\":4,\"x\":{\"field\":\"x\"},\"y\":{\"field\":\"y\"}},\"id\":\"8949\",\"type\":\"Line\"},{\"attributes\":{},\"id\":\"9265\",\"type\":\"UnionRenderers\"},{\"attributes\":{\"text\":\"Exponential Fitting Total Cases: Italy\"},\"id\":\"8885\",\"type\":\"Title\"},{\"attributes\":{},\"id\":\"8906\",\"type\":\"SaveTool\"},{\"attributes\":{},\"id\":\"8889\",\"type\":\"DataRange1d\"},{\"attributes\":{\"line_alpha\":0.1,\"line_color\":\"blue\",\"line_width\":4,\"x\":{\"field\":\"x\"},\"y\":{\"field\":\"y\"}},\"id\":\"8919\",\"type\":\"Line\"},{\"attributes\":{},\"id\":\"8958\",\"type\":\"UnionRenderers\"}],\"root_ids\":[\"8884\"]},\"title\":\"Bokeh Application\",\"version\":\"2.0.2\"}};\n",
       "  var render_items = [{\"docid\":\"c853d063-acfb-400e-8cca-a8ba38ffdc6b\",\"root_ids\":[\"8884\"],\"roots\":{\"8884\":\"e5f4b2ec-d9a7-4eea-912b-3b12a9f58987\"}}];\n",
       "  root.Bokeh.embed.embed_items_notebook(docs_json, render_items);\n",
       "\n",
       "  }\n",
       "  if (root.Bokeh !== undefined) {\n",
       "    embed_document(root);\n",
       "  } else {\n",
       "    var attempts = 0;\n",
       "    var timer = setInterval(function(root) {\n",
       "      if (root.Bokeh !== undefined) {\n",
       "        clearInterval(timer);\n",
       "        embed_document(root);\n",
       "      } else {\n",
       "        attempts++;\n",
       "        if (attempts > 100) {\n",
       "          clearInterval(timer);\n",
       "          console.log(\"Bokeh: ERROR: Unable to run BokehJS code because BokehJS library is missing\");\n",
       "        }\n",
       "      }\n",
       "    }, 10, root)\n",
       "  }\n",
       "})(window);"
      ],
      "application/vnd.bokehjs_exec.v0+json": ""
     },
     "metadata": {
      "application/vnd.bokehjs_exec.v0+json": {
       "id": "8884"
      }
     },
     "output_type": "display_data"
    }
   ],
   "source": [
    "pfit_total_cases_Italy = bokeh_plot_2_lines(x=time_date_new[0:(fit_range)], y=total_cases_italy.loc[0:(fit_range-1)], yy=ydata[0:fit_range], \n",
    "                  title='Exponential Fitting Total Cases: Italy', \n",
    "                  file_name=\"fit_total_cases_Italy.html\", \n",
    "                  x_label='Date', y_label='Total Cases', \n",
    "                  legend_1='total cases', legend_2='exponential fitting',\n",
    "                  x_label_hover='date' , y_label_hover='total cases OR fitting' , \n",
    "                  color_1='blue', color_2='red', y_minmax=None)\n",
    "\n",
    "show(pfit_total_cases_Italy)"
   ]
  },
  {
   "cell_type": "code",
   "execution_count": 46,
   "metadata": {},
   "outputs": [
    {
     "data": {
      "text/plain": [
       "0.9899919975413152"
      ]
     },
     "execution_count": 46,
     "metadata": {},
     "output_type": "execute_result"
    }
   ],
   "source": [
    "- cov[0,1] / (np.sqrt(np.diag(cov)[0] * np.diag(cov)[1])) # Correlation coefficient for parameters 'a' and 'b'"
   ]
  },
  {
   "cell_type": "code",
   "execution_count": 47,
   "metadata": {},
   "outputs": [
    {
     "data": {
      "text/plain": [
       "0.9942027803878379"
      ]
     },
     "execution_count": 47,
     "metadata": {},
     "output_type": "execute_result"
    }
   ],
   "source": [
    "residuals = total_cases_italy.loc[0:(fit_range-1)] - ydata  #  Calculation of R^2\n",
    "ss_res = np.sum(residuals**2)\n",
    "ss_tot = np.sum((total_cases_italy.loc[0:(fit_range-1)] - np.mean(total_cases_italy.loc[0:(fit_range-1)]))**2)\n",
    "r_squared = 1 - (ss_res / ss_tot)\n",
    "r_squared"
   ]
  },
  {
   "cell_type": "markdown",
   "metadata": {},
   "source": [
    "---------------"
   ]
  },
  {
   "cell_type": "code",
   "execution_count": 48,
   "metadata": {},
   "outputs": [
    {
     "data": {
      "text/plain": [
       "(10273.505399700898, 0.058660707522345125)"
      ]
     },
     "execution_count": 48,
     "metadata": {},
     "output_type": "execute_result"
    }
   ],
   "source": [
    "fit_range = 49   # best fit when fit_range = 28 namely March 22\n",
    "xdata = np.linspace(0, fit_range, fit_range)\n",
    "init_guess = [5000, 0.001]\n",
    "fit = curve_fit(model_exp, xdata, total_cases_italy.loc[0:(fit_range-1)], p0=init_guess)\n",
    "ans, cov = fit\n",
    "fit_a, fit_b = ans\n",
    "fit_a, fit_b"
   ]
  },
  {
   "cell_type": "code",
   "execution_count": 49,
   "metadata": {},
   "outputs": [
    {
     "data": {
      "text/plain": [
       "array([[ 1.70490033e+06, -3.88568817e+00],\n",
       "       [-3.88568817e+00,  9.19880384e-06]])"
      ]
     },
     "execution_count": 49,
     "metadata": {},
     "output_type": "execute_result"
    }
   ],
   "source": [
    "cov"
   ]
  },
  {
   "cell_type": "code",
   "execution_count": 50,
   "metadata": {},
   "outputs": [
    {
     "data": {
      "text/plain": [
       "array([1.30571832e+03, 3.03295299e-03])"
      ]
     },
     "execution_count": 50,
     "metadata": {},
     "output_type": "execute_result"
    }
   ],
   "source": [
    "np.sqrt(np.diag(cov))"
   ]
  },
  {
   "cell_type": "code",
   "execution_count": 51,
   "metadata": {},
   "outputs": [
    {
     "data": {
      "text/plain": [
       "array([ 10273.5053997 ,  10907.50512106,  11580.63030457,  12295.29546516,\n",
       "        13054.06412256,  13859.65799674,  14714.96677074,  15623.05845605,\n",
       "        16587.19039764,  17610.82095811,  18697.62192291,  19851.49167117,\n",
       "        21076.56915918,  22377.24876699,  23758.19606113,  25224.3645301 ,\n",
       "        26781.01335261,  28433.72626244,  30188.43157735,  32051.42346413,\n",
       "        34029.38451587,  36129.40972262,  38359.03192126,  40726.24881594,\n",
       "        43239.55166602,  45907.95574442,  48741.03267559,  51748.94476916,\n",
       "        54942.48147235,  58333.09807195,  61932.95678471,  65754.97038346,\n",
       "        69812.84851553,  74121.14687954,  78695.31943703,  83551.77384615,\n",
       "        88707.93031628,  94182.28409475,  99994.47180965, 106165.34190689,\n",
       "       112717.02943402, 119673.03543912, 127058.3112696 , 134899.34807324,\n",
       "       143224.27182249, 152062.94420302, 161447.06972815, 171410.30946374,\n",
       "       181988.4017711 ])"
      ]
     },
     "execution_count": 51,
     "metadata": {},
     "output_type": "execute_result"
    }
   ],
   "source": [
    "ydata = model_exp(xdata,fit_a,fit_b)\n",
    "ydata"
   ]
  },
  {
   "cell_type": "code",
   "execution_count": 52,
   "metadata": {},
   "outputs": [
    {
     "data": {
      "text/plain": [
       "0.9811892216342538"
      ]
     },
     "execution_count": 52,
     "metadata": {},
     "output_type": "execute_result"
    }
   ],
   "source": [
    "- cov[0,1] / (np.sqrt(np.diag(cov)[0] * np.diag(cov)[1])) # Correlation coefficient for parameters 'a' and 'b'"
   ]
  },
  {
   "cell_type": "code",
   "execution_count": 53,
   "metadata": {},
   "outputs": [
    {
     "data": {
      "text/plain": [
       "0.940258800232746"
      ]
     },
     "execution_count": 53,
     "metadata": {},
     "output_type": "execute_result"
    }
   ],
   "source": [
    "residuals = total_cases_italy.loc[0:(fit_range-1)] - ydata  #  Calculation of R^2\n",
    "ss_res = np.sum(residuals**2)\n",
    "ss_tot = np.sum((total_cases_italy.loc[0:(fit_range-1)] - np.mean(total_cases_italy.loc[0:(fit_range-1)]))**2)\n",
    "r_squared = 1 - (ss_res / ss_tot)\n",
    "r_squared"
   ]
  },
  {
   "cell_type": "code",
   "execution_count": 54,
   "metadata": {
    "scrolled": false
   },
   "outputs": [
    {
     "data": {
      "text/html": [
       "\n",
       "\n",
       "\n",
       "\n",
       "\n",
       "\n",
       "  <div class=\"bk-root\" id=\"a04c5797-8aa1-44b6-b54a-5f2b8edd7403\" data-root-id=\"9736\"></div>\n"
      ]
     },
     "metadata": {},
     "output_type": "display_data"
    },
    {
     "data": {
      "application/javascript": [
       "(function(root) {\n",
       "  function embed_document(root) {\n",
       "    \n",
       "  var docs_json = {\"aca36721-cd78-465b-90f6-5917a828429f\":{\"roots\":{\"references\":[{\"attributes\":{\"below\":[{\"id\":\"9747\"}],\"center\":[{\"id\":\"9750\"},{\"id\":\"9754\"},{\"id\":\"9792\"}],\"left\":[{\"id\":\"9751\"}],\"plot_height\":450,\"renderers\":[{\"id\":\"9772\"},{\"id\":\"9797\"},{\"id\":\"9802\"},{\"id\":\"9830\"}],\"title\":{\"id\":\"9737\"},\"toolbar\":{\"id\":\"9762\"},\"x_range\":{\"id\":\"9739\"},\"x_scale\":{\"id\":\"9743\"},\"y_range\":{\"id\":\"9741\"},\"y_scale\":{\"id\":\"9745\"}},\"id\":\"9736\",\"subtype\":\"Figure\",\"type\":\"Plot\"},{\"attributes\":{\"line_color\":\"blue\",\"line_width\":4,\"x\":{\"field\":\"x\"},\"y\":{\"field\":\"y\"}},\"id\":\"9770\",\"type\":\"Line\"},{\"attributes\":{\"data_source\":{\"id\":\"9794\"},\"glyph\":{\"id\":\"9795\"},\"hover_glyph\":null,\"muted_glyph\":null,\"nonselection_glyph\":{\"id\":\"9796\"},\"selection_glyph\":null,\"view\":{\"id\":\"9798\"}},\"id\":\"9797\",\"type\":\"GlyphRenderer\"},{\"attributes\":{},\"id\":\"9752\",\"type\":\"BasicTicker\"},{\"attributes\":{\"data_source\":{\"id\":\"9799\"},\"glyph\":{\"id\":\"9800\"},\"hover_glyph\":null,\"muted_glyph\":null,\"nonselection_glyph\":{\"id\":\"9801\"},\"selection_glyph\":null,\"view\":{\"id\":\"9803\"}},\"id\":\"9802\",\"type\":\"GlyphRenderer\"},{\"attributes\":{\"data\":{\"x\":{\"__ndarray__\":\"AAAA5UcHd0IAAMBKmgd3QgAAgLDsB3dCAABAFj8Id0IAAAB8kQh3QgAAwOHjCHdCAACARzYJd0IAAECtiAl3QgAAABPbCXdCAADAeC0Kd0IAAIDefwp3QgAAQETSCndCAAAAqiQLd0IAAMAPdwt3QgAAgHXJC3dCAABA2xsMd0IAAABBbgx3QgAAwKbADHdCAACADBMNd0IAAEByZQ13QgAAANi3DXdCAADAPQoOd0IAAICjXA53QgAAQAmvDndCAAAAbwEPd0IAAMDUUw93QgAAgDqmD3dCAABAoPgPd0IAAAAGSxB3QgAAwGudEHdCAACA0e8Qd0IAAEA3QhF3QgAAAJ2UEXdCAADAAucRd0IAAIBoORJ3QgAAQM6LEndCAAAANN4Sd0IAAMCZMBN3QgAAgP+CE3dCAABAZdUTd0IAAADLJxR3QgAAwDB6FHdCAACAlswUd0IAAED8HhV3QgAAAGJxFXdCAADAx8MVd0IAAIAtFhZ3QgAAQJNoFndCAAAA+boWd0I=\",\"dtype\":\"float64\",\"shape\":[49]},\"y\":[229,322,400,650,888,1128,1694,2036,2502,3089,3858,4636,5883,7375,9172,10149,12462,15113,17660,21157,24747,27980,31506,35713,41035,47021,53578,59138,63927,69176,74386,80539,86498,92472,97689,101739,105792,110574,115242,119827,124632,128948,132547,135586,139422,143626,147577,152271,156363]},\"selected\":{\"id\":\"9811\"},\"selection_policy\":{\"id\":\"9812\"}},\"id\":\"9794\",\"type\":\"ColumnDataSource\"},{\"attributes\":{\"callback\":null,\"formatters\":{\"@x\":\"datetime\"},\"mode\":\"vline\",\"tooltips\":[[\"date\",\"@x{%d %B}\"],[\"total cases OR fitting\",\"@y{0.}\"]]},\"id\":\"9837\",\"type\":\"HoverTool\"},{\"attributes\":{\"axis_label\":\"Total Cases\",\"formatter\":{\"id\":\"9836\"},\"minor_tick_in\":-5,\"minor_tick_out\":-3,\"ticker\":{\"id\":\"9752\"}},\"id\":\"9751\",\"type\":\"LinearAxis\"},{\"attributes\":{\"line_color\":\"red\",\"line_width\":4,\"x\":{\"field\":\"x\"},\"y\":{\"field\":\"y\"}},\"id\":\"9800\",\"type\":\"Line\"},{\"attributes\":{\"days\":[1,8,15,22]},\"id\":\"9784\",\"type\":\"DaysTicker\"},{\"attributes\":{\"fill_alpha\":{\"value\":0.1},\"fill_color\":{\"value\":\"white\"},\"line_alpha\":{\"value\":0.1},\"line_color\":{\"value\":\"blue\"},\"size\":{\"units\":\"screen\",\"value\":6},\"x\":{\"field\":\"x\"},\"y\":{\"field\":\"y\"}},\"id\":\"9796\",\"type\":\"Circle\"},{\"attributes\":{\"fill_alpha\":{\"value\":0.1},\"fill_color\":{\"value\":\"white\"},\"line_alpha\":{\"value\":0.1},\"line_color\":{\"value\":\"red\"},\"size\":{\"units\":\"screen\",\"value\":6},\"x\":{\"field\":\"x\"},\"y\":{\"field\":\"y\"}},\"id\":\"9829\",\"type\":\"Circle\"},{\"attributes\":{},\"id\":\"9760\",\"type\":\"HelpTool\"},{\"attributes\":{\"days\":[1,4,7,10,13,16,19,22,25,28]},\"id\":\"9783\",\"type\":\"DaysTicker\"},{\"attributes\":{\"data\":{\"x\":{\"__ndarray__\":\"AAAA5UcHd0IAAMBKmgd3QgAAgLDsB3dCAABAFj8Id0IAAAB8kQh3QgAAwOHjCHdCAACARzYJd0IAAECtiAl3QgAAABPbCXdCAADAeC0Kd0IAAIDefwp3QgAAQETSCndCAAAAqiQLd0IAAMAPdwt3QgAAgHXJC3dCAABA2xsMd0IAAABBbgx3QgAAwKbADHdCAACADBMNd0IAAEByZQ13QgAAANi3DXdCAADAPQoOd0IAAICjXA53QgAAQAmvDndCAAAAbwEPd0IAAMDUUw93QgAAgDqmD3dCAABAoPgPd0IAAAAGSxB3QgAAwGudEHdCAACA0e8Qd0IAAEA3QhF3QgAAAJ2UEXdCAADAAucRd0IAAIBoORJ3QgAAQM6LEndCAAAANN4Sd0IAAMCZMBN3QgAAgP+CE3dCAABAZdUTd0IAAADLJxR3QgAAwDB6FHdCAACAlswUd0IAAED8HhV3QgAAAGJxFXdCAADAx8MVd0IAAIAtFhZ3QgAAQJNoFndCAAAA+boWd0I=\",\"dtype\":\"float64\",\"shape\":[49]},\"y\":{\"__ndarray__\":\"YvnvsMAQxED3ks6nwE3FQID80a1QnsZAs2nN0aUDyECGDSs1CH/JQKq5PDnUEctAmMEkv3u9zEA35Xx7h4POQCqUeS/MMtBAod2TirQy0UBgxJXNZ0LSQLBXinffYtNA8poabSSV1ECBX8zrT9rVQED8Q4yMM9dAeAl2VBei2ECL6sTaQCfaQGd4FXtuxNtAWJ/2nht73UBaRgka20zfQIc39E2sneBAu51yHC2k4UCVvn8F4briQLbZTPbH4uNA8X4/p/Ec5UB+UHWVfmrmQKCtrQuhzOdALomMO55E6UCMsjhoz9PqQCjIZyOje+xAVvb6nZ497kCXzrCGrw3wQI4FhZNNC/FAZl2eWZIY8kCzAWocdTbzQFt/rGH8ZfRAsFKT4j6o9UD87qaLZP72QLdGiIynafhA6FxzeFXr+UBxzo940IT7QHKbKJGQN/1Ac9T1+iQF/0DQntrImncAQYNFsSzCewFBgU+6jfePAkGjoc2OOLUDQW4fyHmS7ARBkcTTNiM3BkE=\",\"dtype\":\"float64\",\"shape\":[49]}},\"selected\":{\"id\":\"10140\"},\"selection_policy\":{\"id\":\"10141\"}},\"id\":\"9827\",\"type\":\"ColumnDataSource\"},{\"attributes\":{\"months\":[0,1,2,3,4,5,6,7,8,9,10,11]},\"id\":\"9786\",\"type\":\"MonthsTicker\"},{\"attributes\":{\"line_alpha\":0.1,\"line_color\":\"red\",\"line_width\":4,\"x\":{\"field\":\"x\"},\"y\":{\"field\":\"y\"}},\"id\":\"9801\",\"type\":\"Line\"},{\"attributes\":{\"label\":{\"value\":\"total cases\"},\"renderers\":[{\"id\":\"9772\"}]},\"id\":\"9793\",\"type\":\"LegendItem\"},{\"attributes\":{\"bottom_units\":\"screen\",\"fill_alpha\":0.5,\"fill_color\":\"lightgrey\",\"left_units\":\"screen\",\"level\":\"overlay\",\"line_alpha\":1.0,\"line_color\":\"black\",\"line_dash\":[4,4],\"line_width\":2,\"render_mode\":\"css\",\"right_units\":\"screen\",\"top_units\":\"screen\"},\"id\":\"9761\",\"type\":\"BoxAnnotation\"},{\"attributes\":{\"data\":{\"x\":{\"__ndarray__\":\"AAAA5UcHd0IAAMBKmgd3QgAAgLDsB3dCAABAFj8Id0IAAAB8kQh3QgAAwOHjCHdCAACARzYJd0IAAECtiAl3QgAAABPbCXdCAADAeC0Kd0IAAIDefwp3QgAAQETSCndCAAAAqiQLd0IAAMAPdwt3QgAAgHXJC3dCAABA2xsMd0IAAABBbgx3QgAAwKbADHdCAACADBMNd0IAAEByZQ13QgAAANi3DXdCAADAPQoOd0IAAICjXA53QgAAQAmvDndCAAAAbwEPd0IAAMDUUw93QgAAgDqmD3dCAABAoPgPd0IAAAAGSxB3QgAAwGudEHdCAACA0e8Qd0IAAEA3QhF3QgAAAJ2UEXdCAADAAucRd0IAAIBoORJ3QgAAQM6LEndCAAAANN4Sd0IAAMCZMBN3QgAAgP+CE3dCAABAZdUTd0IAAADLJxR3QgAAwDB6FHdCAACAlswUd0IAAED8HhV3QgAAAGJxFXdCAADAx8MVd0IAAIAtFhZ3QgAAQJNoFndCAAAA+boWd0I=\",\"dtype\":\"float64\",\"shape\":[49]},\"y\":{\"__ndarray__\":\"YvnvsMAQxED3ks6nwE3FQID80a1QnsZAs2nN0aUDyECGDSs1CH/JQKq5PDnUEctAmMEkv3u9zEA35Xx7h4POQCqUeS/MMtBAod2TirQy0UBgxJXNZ0LSQLBXinffYtNA8poabSSV1ECBX8zrT9rVQED8Q4yMM9dAeAl2VBei2ECL6sTaQCfaQGd4FXtuxNtAWJ/2nht73UBaRgka20zfQIc39E2sneBAu51yHC2k4UCVvn8F4briQLbZTPbH4uNA8X4/p/Ec5UB+UHWVfmrmQKCtrQuhzOdALomMO55E6UCMsjhoz9PqQCjIZyOje+xAVvb6nZ497kCXzrCGrw3wQI4FhZNNC/FAZl2eWZIY8kCzAWocdTbzQFt/rGH8ZfRAsFKT4j6o9UD87qaLZP72QLdGiIynafhA6FxzeFXr+UBxzo940IT7QHKbKJGQN/1Ac9T1+iQF/0DQntrImncAQYNFsSzCewFBgU+6jfePAkGjoc2OOLUDQW4fyHmS7ARBkcTTNiM3BkE=\",\"dtype\":\"float64\",\"shape\":[49]}},\"selected\":{\"id\":\"10138\"},\"selection_policy\":{\"id\":\"10139\"}},\"id\":\"9799\",\"type\":\"ColumnDataSource\"},{\"attributes\":{\"fill_color\":{\"value\":\"white\"},\"line_color\":{\"value\":\"red\"},\"size\":{\"units\":\"screen\",\"value\":6},\"x\":{\"field\":\"x\"},\"y\":{\"field\":\"y\"}},\"id\":\"9828\",\"type\":\"Circle\"},{\"attributes\":{},\"id\":\"9811\",\"type\":\"Selection\"},{\"attributes\":{\"data\":{\"x\":{\"__ndarray__\":\"AAAA5UcHd0IAAMBKmgd3QgAAgLDsB3dCAABAFj8Id0IAAAB8kQh3QgAAwOHjCHdCAACARzYJd0IAAECtiAl3QgAAABPbCXdCAADAeC0Kd0IAAIDefwp3QgAAQETSCndCAAAAqiQLd0IAAMAPdwt3QgAAgHXJC3dCAABA2xsMd0IAAABBbgx3QgAAwKbADHdCAACADBMNd0IAAEByZQ13QgAAANi3DXdCAADAPQoOd0IAAICjXA53QgAAQAmvDndCAAAAbwEPd0IAAMDUUw93QgAAgDqmD3dCAABAoPgPd0IAAAAGSxB3QgAAwGudEHdCAACA0e8Qd0IAAEA3QhF3QgAAAJ2UEXdCAADAAucRd0IAAIBoORJ3QgAAQM6LEndCAAAANN4Sd0IAAMCZMBN3QgAAgP+CE3dCAABAZdUTd0IAAADLJxR3QgAAwDB6FHdCAACAlswUd0IAAED8HhV3QgAAAGJxFXdCAADAx8MVd0IAAIAtFhZ3QgAAQJNoFndCAAAA+boWd0I=\",\"dtype\":\"float64\",\"shape\":[49]},\"y\":[229,322,400,650,888,1128,1694,2036,2502,3089,3858,4636,5883,7375,9172,10149,12462,15113,17660,21157,24747,27980,31506,35713,41035,47021,53578,59138,63927,69176,74386,80539,86498,92472,97689,101739,105792,110574,115242,119827,124632,128948,132547,135586,139422,143626,147577,152271,156363]},\"selected\":{\"id\":\"9809\"},\"selection_policy\":{\"id\":\"9810\"}},\"id\":\"9769\",\"type\":\"ColumnDataSource\"},{\"attributes\":{\"source\":{\"id\":\"9794\"}},\"id\":\"9798\",\"type\":\"CDSView\"},{\"attributes\":{\"mantissas\":[1,2,5],\"max_interval\":500.0,\"num_minor_ticks\":0},\"id\":\"9779\",\"type\":\"AdaptiveTicker\"},{\"attributes\":{},\"id\":\"9790\",\"type\":\"YearsTicker\"},{\"attributes\":{},\"id\":\"9836\",\"type\":\"NumeralTickFormatter\"},{\"attributes\":{},\"id\":\"9810\",\"type\":\"UnionRenderers\"},{\"attributes\":{\"source\":{\"id\":\"9827\"}},\"id\":\"9831\",\"type\":\"CDSView\"},{\"attributes\":{\"base\":60,\"mantissas\":[1,2,5,10,15,20,30],\"max_interval\":1800000.0,\"min_interval\":1000.0,\"num_minor_ticks\":0},\"id\":\"9780\",\"type\":\"AdaptiveTicker\"},{\"attributes\":{},\"id\":\"10140\",\"type\":\"Selection\"},{\"attributes\":{\"months\":[0,6]},\"id\":\"9789\",\"type\":\"MonthsTicker\"},{\"attributes\":{\"source\":{\"id\":\"9799\"}},\"id\":\"9803\",\"type\":\"CDSView\"},{\"attributes\":{},\"id\":\"9755\",\"type\":\"PanTool\"},{\"attributes\":{},\"id\":\"10141\",\"type\":\"UnionRenderers\"},{\"attributes\":{},\"id\":\"9739\",\"type\":\"DataRange1d\"},{\"attributes\":{\"fill_color\":{\"value\":\"white\"},\"line_color\":{\"value\":\"blue\"},\"size\":{\"units\":\"screen\",\"value\":6},\"x\":{\"field\":\"x\"},\"y\":{\"field\":\"y\"}},\"id\":\"9795\",\"type\":\"Circle\"},{\"attributes\":{},\"id\":\"9758\",\"type\":\"SaveTool\"},{\"attributes\":{\"text\":\"Exponential Fitting Total Cases: Italy\"},\"id\":\"9737\",\"type\":\"Title\"},{\"attributes\":{},\"id\":\"9809\",\"type\":\"Selection\"},{\"attributes\":{\"source\":{\"id\":\"9769\"}},\"id\":\"9773\",\"type\":\"CDSView\"},{\"attributes\":{},\"id\":\"10139\",\"type\":\"UnionRenderers\"},{\"attributes\":{\"months\":[0,4,8]},\"id\":\"9788\",\"type\":\"MonthsTicker\"},{\"attributes\":{},\"id\":\"9759\",\"type\":\"ResetTool\"},{\"attributes\":{\"axis_label\":\"Date\",\"formatter\":{\"id\":\"9832\"},\"major_label_orientation\":0.7853981633974483,\"minor_tick_in\":-5,\"minor_tick_out\":-3,\"ticker\":{\"id\":\"9748\"}},\"id\":\"9747\",\"type\":\"DatetimeAxis\"},{\"attributes\":{\"axis\":{\"id\":\"9747\"},\"ticker\":null},\"id\":\"9750\",\"type\":\"Grid\"},{\"attributes\":{\"days\":[\"%d %B\"]},\"id\":\"9832\",\"type\":\"DatetimeTickFormatter\"},{\"attributes\":{\"line_alpha\":0.1,\"line_color\":\"blue\",\"line_width\":4,\"x\":{\"field\":\"x\"},\"y\":{\"field\":\"y\"}},\"id\":\"9771\",\"type\":\"Line\"},{\"attributes\":{\"days\":[1,15]},\"id\":\"9785\",\"type\":\"DaysTicker\"},{\"attributes\":{\"num_minor_ticks\":5,\"tickers\":[{\"id\":\"9779\"},{\"id\":\"9780\"},{\"id\":\"9781\"},{\"id\":\"9782\"},{\"id\":\"9783\"},{\"id\":\"9784\"},{\"id\":\"9785\"},{\"id\":\"9786\"},{\"id\":\"9787\"},{\"id\":\"9788\"},{\"id\":\"9789\"},{\"id\":\"9790\"}]},\"id\":\"9748\",\"type\":\"DatetimeTicker\"},{\"attributes\":{\"data_source\":{\"id\":\"9769\"},\"glyph\":{\"id\":\"9770\"},\"hover_glyph\":null,\"muted_glyph\":null,\"nonselection_glyph\":{\"id\":\"9771\"},\"selection_glyph\":null,\"view\":{\"id\":\"9773\"}},\"id\":\"9772\",\"type\":\"GlyphRenderer\"},{\"attributes\":{},\"id\":\"9812\",\"type\":\"UnionRenderers\"},{\"attributes\":{\"months\":[0,2,4,6,8,10]},\"id\":\"9787\",\"type\":\"MonthsTicker\"},{\"attributes\":{},\"id\":\"9741\",\"type\":\"DataRange1d\"},{\"attributes\":{\"base\":24,\"mantissas\":[1,2,4,6,8,12],\"max_interval\":43200000.0,\"min_interval\":3600000.0,\"num_minor_ticks\":0},\"id\":\"9781\",\"type\":\"AdaptiveTicker\"},{\"attributes\":{},\"id\":\"9745\",\"type\":\"LinearScale\"},{\"attributes\":{\"axis\":{\"id\":\"9751\"},\"dimension\":1,\"ticker\":null},\"id\":\"9754\",\"type\":\"Grid\"},{\"attributes\":{\"overlay\":{\"id\":\"9761\"}},\"id\":\"9757\",\"type\":\"BoxZoomTool\"},{\"attributes\":{\"data_source\":{\"id\":\"9827\"},\"glyph\":{\"id\":\"9828\"},\"hover_glyph\":null,\"muted_glyph\":null,\"nonselection_glyph\":{\"id\":\"9829\"},\"selection_glyph\":null,\"view\":{\"id\":\"9831\"}},\"id\":\"9830\",\"type\":\"GlyphRenderer\"},{\"attributes\":{\"active_drag\":\"auto\",\"active_inspect\":\"auto\",\"active_multi\":null,\"active_scroll\":\"auto\",\"active_tap\":\"auto\",\"tools\":[{\"id\":\"9755\"},{\"id\":\"9756\"},{\"id\":\"9757\"},{\"id\":\"9758\"},{\"id\":\"9759\"},{\"id\":\"9760\"},{\"id\":\"9837\"}]},\"id\":\"9762\",\"type\":\"Toolbar\"},{\"attributes\":{\"label\":{\"value\":\"exponential fitting\"},\"renderers\":[{\"id\":\"9802\"}]},\"id\":\"9826\",\"type\":\"LegendItem\"},{\"attributes\":{},\"id\":\"9743\",\"type\":\"LinearScale\"},{\"attributes\":{\"items\":[{\"id\":\"9793\"},{\"id\":\"9826\"}],\"location\":\"top_left\"},\"id\":\"9792\",\"type\":\"Legend\"},{\"attributes\":{},\"id\":\"9756\",\"type\":\"WheelZoomTool\"},{\"attributes\":{\"days\":[1,2,3,4,5,6,7,8,9,10,11,12,13,14,15,16,17,18,19,20,21,22,23,24,25,26,27,28,29,30,31]},\"id\":\"9782\",\"type\":\"DaysTicker\"},{\"attributes\":{},\"id\":\"10138\",\"type\":\"Selection\"}],\"root_ids\":[\"9736\"]},\"title\":\"Bokeh Application\",\"version\":\"2.0.2\"}};\n",
       "  var render_items = [{\"docid\":\"aca36721-cd78-465b-90f6-5917a828429f\",\"root_ids\":[\"9736\"],\"roots\":{\"9736\":\"a04c5797-8aa1-44b6-b54a-5f2b8edd7403\"}}];\n",
       "  root.Bokeh.embed.embed_items_notebook(docs_json, render_items);\n",
       "\n",
       "  }\n",
       "  if (root.Bokeh !== undefined) {\n",
       "    embed_document(root);\n",
       "  } else {\n",
       "    var attempts = 0;\n",
       "    var timer = setInterval(function(root) {\n",
       "      if (root.Bokeh !== undefined) {\n",
       "        clearInterval(timer);\n",
       "        embed_document(root);\n",
       "      } else {\n",
       "        attempts++;\n",
       "        if (attempts > 100) {\n",
       "          clearInterval(timer);\n",
       "          console.log(\"Bokeh: ERROR: Unable to run BokehJS code because BokehJS library is missing\");\n",
       "        }\n",
       "      }\n",
       "    }, 10, root)\n",
       "  }\n",
       "})(window);"
      ],
      "application/vnd.bokehjs_exec.v0+json": ""
     },
     "metadata": {
      "application/vnd.bokehjs_exec.v0+json": {
       "id": "9736"
      }
     },
     "output_type": "display_data"
    }
   ],
   "source": [
    "pfit_total_cases_Italy = bokeh_plot_2_lines(x=time_date_new[0:(fit_range)], y=total_cases_italy.loc[0:(fit_range-1)], yy=ydata[0:fit_range], \n",
    "                  title='Exponential Fitting Total Cases: Italy', \n",
    "                  file_name=\"fit_total_cases_Italy.html\", \n",
    "                  x_label='Date', y_label='Total Cases', \n",
    "                  legend_1='total cases', legend_2='exponential fitting',\n",
    "                  x_label_hover='date' , y_label_hover='total cases OR fitting' , \n",
    "                  color_1='blue', color_2='red', y_minmax=None)\n",
    "\n",
    "show(pfit_total_cases_Italy)"
   ]
  },
  {
   "cell_type": "markdown",
   "metadata": {},
   "source": [
    "------------------------\n",
    "\n",
    "------------------------"
   ]
  },
  {
   "cell_type": "code",
   "execution_count": 55,
   "metadata": {},
   "outputs": [],
   "source": [
    "R_2_cases = []\n",
    "Correlation_A_B = []\n",
    "iii = 7\n",
    "\n",
    "while(iii <= len(total_cases_italy)):\n",
    "    fit_range = iii   # best fit when fit_range = 28 namely March 22\n",
    "    xdata = np.linspace(0, fit_range, fit_range)\n",
    "    init_guess = [5000, 0.001]\n",
    "    fit = curve_fit(model_exp, xdata, total_cases_italy.loc[0:(fit_range-1)], p0=init_guess)\n",
    "    ans, cov = fit\n",
    "    fit_a, fit_b = ans\n",
    "    fit_a, fit_b\n",
    "    ydata = model_exp(xdata,fit_a,fit_b)\n",
    "    residuals = total_cases_italy.loc[0:(fit_range-1)] - ydata  #  Calculation of R^2\n",
    "    ss_res = np.sum(residuals**2)\n",
    "    ss_tot = np.sum((total_cases_italy.loc[0:(fit_range-1)] - np.mean(total_cases_italy.loc[0:(fit_range-1)]))**2)\n",
    "    r_squared = 1 - (ss_res / ss_tot)\n",
    "    R_2_cases.append(r_squared)\n",
    "    correlation_ab = - cov[0,1] / (np.sqrt(np.diag(cov)[0] * np.diag(cov)[1]))\n",
    "    Correlation_A_B.append(correlation_ab)\n",
    "    iii = iii + 1"
   ]
  },
  {
   "cell_type": "code",
   "execution_count": 56,
   "metadata": {},
   "outputs": [
    {
     "name": "stderr",
     "output_type": "stream",
     "text": [
      "BokehUserWarning: ColumnDataSource's columns must be of the same length. Current lengths: ('x', 121), ('y', 115)\n",
      "BokehUserWarning: ColumnDataSource's columns must be of the same length. Current lengths: ('x', 121), ('y', 115)\n",
      "BokehUserWarning: ColumnDataSource's columns must be of the same length. Current lengths: ('x', 121), ('y', 115)\n",
      "BokehUserWarning: ColumnDataSource's columns must be of the same length. Current lengths: ('x', 121), ('y', 115)\n"
     ]
    },
    {
     "data": {
      "text/html": [
       "\n",
       "\n",
       "\n",
       "\n",
       "\n",
       "\n",
       "  <div class=\"bk-root\" id=\"110c378d-ef46-4a7e-9f05-c00604b42fe0\" data-root-id=\"10612\"></div>\n"
      ]
     },
     "metadata": {},
     "output_type": "display_data"
    },
    {
     "data": {
      "application/javascript": [
       "(function(root) {\n",
       "  function embed_document(root) {\n",
       "    \n",
       "  var docs_json = {\"63abbfae-fff8-4c7d-9cbe-8511f2de1265\":{\"roots\":{\"references\":[{\"attributes\":{\"below\":[{\"id\":\"10623\"}],\"center\":[{\"id\":\"10626\"},{\"id\":\"10630\"},{\"id\":\"10668\"}],\"left\":[{\"id\":\"10627\"}],\"plot_height\":450,\"renderers\":[{\"id\":\"10648\"},{\"id\":\"10673\"},{\"id\":\"10678\"},{\"id\":\"10706\"}],\"title\":{\"id\":\"10613\"},\"toolbar\":{\"id\":\"10638\"},\"x_range\":{\"id\":\"10615\"},\"x_scale\":{\"id\":\"10619\"},\"y_range\":{\"id\":\"10617\"},\"y_scale\":{\"id\":\"10621\"}},\"id\":\"10612\",\"subtype\":\"Figure\",\"type\":\"Plot\"},{\"attributes\":{\"axis\":{\"id\":\"10627\"},\"dimension\":1,\"ticker\":null},\"id\":\"10630\",\"type\":\"Grid\"},{\"attributes\":{\"use_scientific\":false},\"id\":\"10710\",\"type\":\"BasicTickFormatter\"},{\"attributes\":{\"months\":[0,4,8]},\"id\":\"10664\",\"type\":\"MonthsTicker\"},{\"attributes\":{},\"id\":\"10621\",\"type\":\"LinearScale\"},{\"attributes\":{\"days\":[\"%d %B\"]},\"id\":\"10708\",\"type\":\"DatetimeTickFormatter\"},{\"attributes\":{\"days\":[1,8,15,22]},\"id\":\"10660\",\"type\":\"DaysTicker\"},{\"attributes\":{\"data_source\":{\"id\":\"10675\"},\"glyph\":{\"id\":\"10676\"},\"hover_glyph\":null,\"muted_glyph\":null,\"nonselection_glyph\":{\"id\":\"10677\"},\"selection_glyph\":null,\"view\":{\"id\":\"10679\"}},\"id\":\"10678\",\"type\":\"GlyphRenderer\"},{\"attributes\":{\"months\":[0,6]},\"id\":\"10665\",\"type\":\"MonthsTicker\"},{\"attributes\":{},\"id\":\"11037\",\"type\":\"Selection\"},{\"attributes\":{},\"id\":\"10666\",\"type\":\"YearsTicker\"},{\"attributes\":{\"axis_label\":\"R_squared\",\"formatter\":{\"id\":\"10710\"},\"minor_tick_in\":-5,\"minor_tick_out\":-3,\"ticker\":{\"id\":\"10628\"}},\"id\":\"10627\",\"type\":\"LinearAxis\"},{\"attributes\":{\"items\":[{\"id\":\"10669\"},{\"id\":\"10702\"}]},\"id\":\"10668\",\"type\":\"Legend\"},{\"attributes\":{\"fill_color\":{\"value\":\"white\"},\"line_color\":{\"value\":\"blue\"},\"size\":{\"units\":\"screen\",\"value\":5},\"x\":{\"field\":\"x\"},\"y\":{\"field\":\"y\"}},\"id\":\"10671\",\"type\":\"Circle\"},{\"attributes\":{\"source\":{\"id\":\"10675\"}},\"id\":\"10679\",\"type\":\"CDSView\"},{\"attributes\":{},\"id\":\"10685\",\"type\":\"Selection\"},{\"attributes\":{\"line_alpha\":0.1,\"line_color\":\"blue\",\"line_width\":4,\"x\":{\"field\":\"x\"},\"y\":{\"field\":\"y\"}},\"id\":\"10647\",\"type\":\"Line\"},{\"attributes\":{\"line_alpha\":0.1,\"line_color\":\"lightblue\",\"line_width\":4,\"x\":{\"field\":\"x\"},\"y\":{\"field\":\"y\"}},\"id\":\"10677\",\"type\":\"Line\"},{\"attributes\":{},\"id\":\"10632\",\"type\":\"WheelZoomTool\"},{\"attributes\":{\"label\":{\"value\":\"Corr_A_B\"},\"renderers\":[{\"id\":\"10678\"}]},\"id\":\"10702\",\"type\":\"LegendItem\"},{\"attributes\":{\"days\":[1,2,3,4,5,6,7,8,9,10,11,12,13,14,15,16,17,18,19,20,21,22,23,24,25,26,27,28,29,30,31]},\"id\":\"10658\",\"type\":\"DaysTicker\"},{\"attributes\":{\"line_color\":\"blue\",\"line_width\":4,\"x\":{\"field\":\"x\"},\"y\":{\"field\":\"y\"}},\"id\":\"10646\",\"type\":\"Line\"},{\"attributes\":{\"source\":{\"id\":\"10645\"}},\"id\":\"10649\",\"type\":\"CDSView\"},{\"attributes\":{\"data\":{\"x\":{\"__ndarray__\":\"AACARzYJd0IAAECtiAl3QgAAABPbCXdCAADAeC0Kd0IAAIDefwp3QgAAQETSCndCAAAAqiQLd0IAAMAPdwt3QgAAgHXJC3dCAABA2xsMd0IAAABBbgx3QgAAwKbADHdCAACADBMNd0IAAEByZQ13QgAAANi3DXdCAADAPQoOd0IAAICjXA53QgAAQAmvDndCAAAAbwEPd0IAAMDUUw93QgAAgDqmD3dCAABAoPgPd0IAAAAGSxB3QgAAwGudEHdCAACA0e8Qd0IAAEA3QhF3QgAAAJ2UEXdCAADAAucRd0IAAIBoORJ3QgAAQM6LEndCAAAANN4Sd0IAAMCZMBN3QgAAgP+CE3dCAABAZdUTd0IAAADLJxR3QgAAwDB6FHdCAACAlswUd0IAAED8HhV3QgAAAGJxFXdCAADAx8MVd0IAAIAtFhZ3QgAAQJNoFndCAAAA+boWd0IAAMBeDRd3QgAAgMRfF3dCAABAKrIXd0IAAACQBBh3QgAAwPVWGHdCAACAW6kYd0IAAEDB+xh3QgAAACdOGXdCAADAjKAZd0IAAIDy8hl3QgAAQFhFGndCAAAAvpcad0IAAMAj6hp3QgAAgIk8G3dCAABA744bd0IAAABV4Rt3QgAAwLozHHdCAACAIIYcd0IAAECG2Bx3QgAAAOwqHXdCAADAUX0dd0IAAIC3zx13QgAAQB0iHndCAAAAg3Qed0IAAMDoxh53QgAAgE4ZH3dCAABAtGsfd0IAAAAavh93QgAAwH8QIHdCAACA5WIgd0IAAEBLtSB3QgAAALEHIXdCAADAFlohd0IAAIB8rCF3QgAAQOL+IXdCAAAASFEid0IAAMCtoyJ3QgAAgBP2IndCAABAeUgjd0IAAADfmiN3QgAAwETtI3dCAACAqj8kd0IAAEAQkiR3QgAAAHbkJHdCAADA2zYld0IAAIBBiSV3QgAAQKfbJXdCAAAADS4md0IAAMBygCZ3QgAAgNjSJndCAABAPiUnd0IAAACkdyd3QgAAwAnKJ3dCAACAbxwod0IAAEDVbih3QgAAADvBKHdCAADAoBMpd0IAAIAGZil3QgAAQGy4KXdCAAAA0goqd0IAAMA3XSp3QgAAgJ2vKndCAABAAwIrd0IAAABpVCt3QgAAwM6mK3dCAACANPkrd0IAAECaSyx3QgAAAACeLHdCAADAZfAsd0IAAIDLQi13QgAAQDGVLXdCAAAAl+ctd0IAAMD8OS53QgAAgGKMLndCAABAyN4ud0IAAAAuMS93QgAAwJODL3dCAACA+dUvd0I=\",\"dtype\":\"float64\",\"shape\":[121]},\"y\":[0.9679978062779606,0.9700480106286499,0.971656182210577,0.9736411587889005,0.9761528777469112,0.977771783735718,0.9804281014363937,0.9829177649247829,0.9849718279271791,0.9848258531873134,0.9857323985434353,0.9868442649395247,0.9875025342214719,0.9883193746760213,0.9889071538289531,0.9890533775111089,0.9890298990558094,0.9890531515732056,0.9892709520102774,0.9895838809322223,0.9899099889838557,0.9899919975413152,0.9898162173381114,0.9895513799962058,0.9892273841679863,0.9889506730185715,0.9886730792980905,0.9883888497272123,0.9880423897828409,0.987585928533332,0.9870685031943675,0.9865644488957482,0.9860658726462249,0.9855759728669622,0.9851052949135793,0.984632044070976,0.9841270378513256,0.9835833325600511,0.9830520977422951,0.9825488128963521,0.9820602423078728,0.9816180557179347,0.9811892216342538,0.9807409102933952,0.9802781573586284,0.9797963101212208,0.9793375172363576,0.978895616908901,0.9784667755623262,0.9780365516961604,0.9775883686773429,0.9771429258391684,0.9767146609781826,0.976290316411239,0.9758757504411794,0.9754569522703131,0.9750357777559553,0.9745991062916086,0.97416244346847,0.9737283122166098,0.973290786142014,0.9728562030947691,0.9724201887994687,0.9719790100779451,0.9715295419419878,0.9710715371069945,0.9706154788466494,0.9701612946692771,0.9697079448905578,0.9692559568654411,0.9687961108666361,0.968331393918836,0.9678757658726784,0.96741984318041,0.9669630942373677,0.9665089912929726,0.9660571343596263,0.9656047409666978,0.9651489366466647,0.9646970661885069,0.9642470609977987,0.9637991345501293,0.9633575670595674,0.9629162835946165,0.9624766570056525,0.9620355705659703,0.9615914638153776,0.9611592150363343,0.9607278260375932,0.9603000104289975,0.959874502047148,0.9594507184625388,0.9590264192203631,0.9586013976200004,0.958182163880938,0.9577659292329438,0.9573473775409738,0.9569376188727386,0.9565279601866614,0.956120791027247,0.9557205765109054,0.955316502348372,0.9549191061096554,0.9545225657267125,0.9541371382128311,0.9537456886996359,0.9533676713104047,0.9529880507515125,0.9526083698150786,0.9522370672993478,0.9518640870474706,0.9514949126912956,0.9511290556083468,0.9507665064919294,0.9504059803079677]},\"selected\":{\"id\":\"11037\"},\"selection_policy\":{\"id\":\"11038\"}},\"id\":\"10675\",\"type\":\"ColumnDataSource\"},{\"attributes\":{},\"id\":\"10686\",\"type\":\"UnionRenderers\"},{\"attributes\":{\"base\":60,\"mantissas\":[1,2,5,10,15,20,30],\"max_interval\":1800000.0,\"min_interval\":1000.0,\"num_minor_ticks\":0},\"id\":\"10656\",\"type\":\"AdaptiveTicker\"},{\"attributes\":{},\"id\":\"10687\",\"type\":\"Selection\"},{\"attributes\":{\"months\":[0,2,4,6,8,10]},\"id\":\"10663\",\"type\":\"MonthsTicker\"},{\"attributes\":{},\"id\":\"10617\",\"type\":\"DataRange1d\"},{\"attributes\":{\"active_drag\":\"auto\",\"active_inspect\":\"auto\",\"active_multi\":null,\"active_scroll\":\"auto\",\"active_tap\":\"auto\",\"tools\":[{\"id\":\"10631\"},{\"id\":\"10632\"},{\"id\":\"10633\"},{\"id\":\"10634\"},{\"id\":\"10635\"},{\"id\":\"10636\"},{\"id\":\"10712\"}]},\"id\":\"10638\",\"type\":\"Toolbar\"},{\"attributes\":{\"data\":{\"x\":{\"__ndarray__\":\"AACARzYJd0IAAECtiAl3QgAAABPbCXdCAADAeC0Kd0IAAIDefwp3QgAAQETSCndCAAAAqiQLd0IAAMAPdwt3QgAAgHXJC3dCAABA2xsMd0IAAABBbgx3QgAAwKbADHdCAACADBMNd0IAAEByZQ13QgAAANi3DXdCAADAPQoOd0IAAICjXA53QgAAQAmvDndCAAAAbwEPd0IAAMDUUw93QgAAgDqmD3dCAABAoPgPd0IAAAAGSxB3QgAAwGudEHdCAACA0e8Qd0IAAEA3QhF3QgAAAJ2UEXdCAADAAucRd0IAAIBoORJ3QgAAQM6LEndCAAAANN4Sd0IAAMCZMBN3QgAAgP+CE3dCAABAZdUTd0IAAADLJxR3QgAAwDB6FHdCAACAlswUd0IAAED8HhV3QgAAAGJxFXdCAADAx8MVd0IAAIAtFhZ3QgAAQJNoFndCAAAA+boWd0IAAMBeDRd3QgAAgMRfF3dCAABAKrIXd0IAAACQBBh3QgAAwPVWGHdCAACAW6kYd0IAAEDB+xh3QgAAACdOGXdCAADAjKAZd0IAAIDy8hl3QgAAQFhFGndCAAAAvpcad0IAAMAj6hp3QgAAgIk8G3dCAABA744bd0IAAABV4Rt3QgAAwLozHHdCAACAIIYcd0IAAECG2Bx3QgAAAOwqHXdCAADAUX0dd0IAAIC3zx13QgAAQB0iHndCAAAAg3Qed0IAAMDoxh53QgAAgE4ZH3dCAABAtGsfd0IAAAAavh93QgAAwH8QIHdCAACA5WIgd0IAAEBLtSB3QgAAALEHIXdCAADAFlohd0IAAIB8rCF3QgAAQOL+IXdCAAAASFEid0IAAMCtoyJ3QgAAgBP2IndCAABAeUgjd0IAAADfmiN3QgAAwETtI3dCAACAqj8kd0IAAEAQkiR3QgAAAHbkJHdCAADA2zYld0IAAIBBiSV3QgAAQKfbJXdCAAAADS4md0IAAMBygCZ3QgAAgNjSJndCAABAPiUnd0IAAACkdyd3QgAAwAnKJ3dCAACAbxwod0IAAEDVbih3QgAAADvBKHdCAADAoBMpd0IAAIAGZil3QgAAQGy4KXdCAAAA0goqd0IAAMA3XSp3QgAAgJ2vKndCAABAAwIrd0IAAABpVCt3QgAAwM6mK3dCAACANPkrd0IAAECaSyx3QgAAAACeLHdCAADAZfAsd0IAAIDLQi13QgAAQDGVLXdCAAAAl+ctd0IAAMD8OS53QgAAgGKMLndCAABAyN4ud0IAAAAuMS93QgAAwJODL3dCAACA+dUvd0I=\",\"dtype\":\"float64\",\"shape\":[121]},\"y\":[0.9944315925511179,0.9898318473486883,0.9871737529160225,0.9879731207786646,0.9909413667306475,0.9915465082064858,0.9946223137354124,0.9967037909147167,0.9979386020865314,0.9934056192034189,0.9944759212851118,0.99592794927204,0.9961691617509991,0.9969301601706759,0.9971358976717425,0.9958902199710057,0.9941628915249575,0.9931255075470334,0.9933633510388306,0.994032100212956,0.994688474359967,0.9942027803878379,0.9922106418494722,0.9898164875978024,0.987197833918425,0.9853145617394674,0.9836046426669457,0.9819732775925107,0.9798470389854931,0.9766564879206877,0.9729539467769811,0.9696078326797823,0.9665104789691191,0.9636113947435441,0.9610596188506716,0.9585126958173368,0.9556308351154628,0.9522851555015911,0.9491538036081114,0.9464404471188844,0.9439487048383793,0.9420237466639323,0.940258800232746,0.9382296783763806,0.9359687894513932,0.933447173913058,0.9312433551574293,0.9291951107214425,0.92729667736873,0.9253753520687699,0.9231732416103402,0.9209547388156726,0.9189798622195995,0.9169730031158049,0.9150917132232076,0.9131160743539135,0.9110765084609139,0.9088212477657631,0.9065220214269978,0.9042067728939025,0.9018340114476103,0.8994612819721594,0.8970885321131469,0.8945857132675741,0.8919421368671772,0.8891542856798136,0.8863643767704429,0.8835768591867103,0.8807864010398864,0.8779416987522529,0.8749881786024294,0.8719376935045307,0.8689898101762707,0.8660095449268841,0.8630394684938316,0.8600376029800153,0.8570401188914588,0.8540065155215382,0.8508947024522553,0.8478118690058419,0.8447275988996619,0.8416449443222731,0.8385742203009493,0.8355259648526927,0.8324728271586163,0.8293683451529894,0.8262465535831918,0.8231585041949218,0.8201092523308423,0.8170837592756848,0.8140631580546553,0.8110388571050465,0.807977301797912,0.8049171443078778,0.8018636321406905,0.7987896809369919,0.7957742179589785,0.792764128256589,0.7897475926081354,0.786746272656691,0.7837633054925285,0.7807841531457058,0.7778481099427089,0.7749114666047064,0.7720142545885778,0.7691550857635778,0.7663268635910401,0.7635123450119147,0.7607363340920518,0.7579994108236128,0.7552092551793972,0.7524505518009303,0.7497159874139115,0.7470056992780088,0.7443000682032053]},\"selected\":{\"id\":\"10687\"},\"selection_policy\":{\"id\":\"10688\"}},\"id\":\"10670\",\"type\":\"ColumnDataSource\"},{\"attributes\":{\"data_source\":{\"id\":\"10645\"},\"glyph\":{\"id\":\"10646\"},\"hover_glyph\":null,\"muted_glyph\":null,\"nonselection_glyph\":{\"id\":\"10647\"},\"selection_glyph\":null,\"view\":{\"id\":\"10649\"}},\"id\":\"10648\",\"type\":\"GlyphRenderer\"},{\"attributes\":{},\"id\":\"10688\",\"type\":\"UnionRenderers\"},{\"attributes\":{},\"id\":\"10619\",\"type\":\"LinearScale\"},{\"attributes\":{},\"id\":\"10635\",\"type\":\"ResetTool\"},{\"attributes\":{},\"id\":\"11039\",\"type\":\"Selection\"},{\"attributes\":{\"data\":{\"x\":{\"__ndarray__\":\"AACARzYJd0IAAECtiAl3QgAAABPbCXdCAADAeC0Kd0IAAIDefwp3QgAAQETSCndCAAAAqiQLd0IAAMAPdwt3QgAAgHXJC3dCAABA2xsMd0IAAABBbgx3QgAAwKbADHdCAACADBMNd0IAAEByZQ13QgAAANi3DXdCAADAPQoOd0IAAICjXA53QgAAQAmvDndCAAAAbwEPd0IAAMDUUw93QgAAgDqmD3dCAABAoPgPd0IAAAAGSxB3QgAAwGudEHdCAACA0e8Qd0IAAEA3QhF3QgAAAJ2UEXdCAADAAucRd0IAAIBoORJ3QgAAQM6LEndCAAAANN4Sd0IAAMCZMBN3QgAAgP+CE3dCAABAZdUTd0IAAADLJxR3QgAAwDB6FHdCAACAlswUd0IAAED8HhV3QgAAAGJxFXdCAADAx8MVd0IAAIAtFhZ3QgAAQJNoFndCAAAA+boWd0IAAMBeDRd3QgAAgMRfF3dCAABAKrIXd0IAAACQBBh3QgAAwPVWGHdCAACAW6kYd0IAAEDB+xh3QgAAACdOGXdCAADAjKAZd0IAAIDy8hl3QgAAQFhFGndCAAAAvpcad0IAAMAj6hp3QgAAgIk8G3dCAABA744bd0IAAABV4Rt3QgAAwLozHHdCAACAIIYcd0IAAECG2Bx3QgAAAOwqHXdCAADAUX0dd0IAAIC3zx13QgAAQB0iHndCAAAAg3Qed0IAAMDoxh53QgAAgE4ZH3dCAABAtGsfd0IAAAAavh93QgAAwH8QIHdCAACA5WIgd0IAAEBLtSB3QgAAALEHIXdCAADAFlohd0IAAIB8rCF3QgAAQOL+IXdCAAAASFEid0IAAMCtoyJ3QgAAgBP2IndCAABAeUgjd0IAAADfmiN3QgAAwETtI3dCAACAqj8kd0IAAEAQkiR3QgAAAHbkJHdCAADA2zYld0IAAIBBiSV3QgAAQKfbJXdCAAAADS4md0IAAMBygCZ3QgAAgNjSJndCAABAPiUnd0IAAACkdyd3QgAAwAnKJ3dCAACAbxwod0IAAEDVbih3QgAAADvBKHdCAADAoBMpd0IAAIAGZil3QgAAQGy4KXdCAAAA0goqd0IAAMA3XSp3QgAAgJ2vKndCAABAAwIrd0IAAABpVCt3QgAAwM6mK3dCAACANPkrd0IAAECaSyx3QgAAAACeLHdCAADAZfAsd0IAAIDLQi13QgAAQDGVLXdCAAAAl+ctd0IAAMD8OS53QgAAgGKMLndCAABAyN4ud0IAAAAuMS93QgAAwJODL3dCAACA+dUvd0I=\",\"dtype\":\"float64\",\"shape\":[121]},\"y\":[0.9944315925511179,0.9898318473486883,0.9871737529160225,0.9879731207786646,0.9909413667306475,0.9915465082064858,0.9946223137354124,0.9967037909147167,0.9979386020865314,0.9934056192034189,0.9944759212851118,0.99592794927204,0.9961691617509991,0.9969301601706759,0.9971358976717425,0.9958902199710057,0.9941628915249575,0.9931255075470334,0.9933633510388306,0.994032100212956,0.994688474359967,0.9942027803878379,0.9922106418494722,0.9898164875978024,0.987197833918425,0.9853145617394674,0.9836046426669457,0.9819732775925107,0.9798470389854931,0.9766564879206877,0.9729539467769811,0.9696078326797823,0.9665104789691191,0.9636113947435441,0.9610596188506716,0.9585126958173368,0.9556308351154628,0.9522851555015911,0.9491538036081114,0.9464404471188844,0.9439487048383793,0.9420237466639323,0.940258800232746,0.9382296783763806,0.9359687894513932,0.933447173913058,0.9312433551574293,0.9291951107214425,0.92729667736873,0.9253753520687699,0.9231732416103402,0.9209547388156726,0.9189798622195995,0.9169730031158049,0.9150917132232076,0.9131160743539135,0.9110765084609139,0.9088212477657631,0.9065220214269978,0.9042067728939025,0.9018340114476103,0.8994612819721594,0.8970885321131469,0.8945857132675741,0.8919421368671772,0.8891542856798136,0.8863643767704429,0.8835768591867103,0.8807864010398864,0.8779416987522529,0.8749881786024294,0.8719376935045307,0.8689898101762707,0.8660095449268841,0.8630394684938316,0.8600376029800153,0.8570401188914588,0.8540065155215382,0.8508947024522553,0.8478118690058419,0.8447275988996619,0.8416449443222731,0.8385742203009493,0.8355259648526927,0.8324728271586163,0.8293683451529894,0.8262465535831918,0.8231585041949218,0.8201092523308423,0.8170837592756848,0.8140631580546553,0.8110388571050465,0.807977301797912,0.8049171443078778,0.8018636321406905,0.7987896809369919,0.7957742179589785,0.792764128256589,0.7897475926081354,0.786746272656691,0.7837633054925285,0.7807841531457058,0.7778481099427089,0.7749114666047064,0.7720142545885778,0.7691550857635778,0.7663268635910401,0.7635123450119147,0.7607363340920518,0.7579994108236128,0.7552092551793972,0.7524505518009303,0.7497159874139115,0.7470056992780088,0.7443000682032053]},\"selected\":{\"id\":\"10685\"},\"selection_policy\":{\"id\":\"10686\"}},\"id\":\"10645\",\"type\":\"ColumnDataSource\"},{\"attributes\":{\"fill_color\":{\"value\":\"white\"},\"line_color\":{\"value\":\"lightblue\"},\"size\":{\"units\":\"screen\",\"value\":5},\"x\":{\"field\":\"x\"},\"y\":{\"field\":\"y\"}},\"id\":\"10704\",\"type\":\"Circle\"},{\"attributes\":{},\"id\":\"10615\",\"type\":\"DataRange1d\"},{\"attributes\":{\"label\":{\"value\":\"R_squared\"},\"renderers\":[{\"id\":\"10648\"}]},\"id\":\"10669\",\"type\":\"LegendItem\"},{\"attributes\":{},\"id\":\"11040\",\"type\":\"UnionRenderers\"},{\"attributes\":{\"mantissas\":[1,2,5],\"max_interval\":500.0,\"num_minor_ticks\":0},\"id\":\"10655\",\"type\":\"AdaptiveTicker\"},{\"attributes\":{\"data\":{\"x\":{\"__ndarray__\":\"AACARzYJd0IAAECtiAl3QgAAABPbCXdCAADAeC0Kd0IAAIDefwp3QgAAQETSCndCAAAAqiQLd0IAAMAPdwt3QgAAgHXJC3dCAABA2xsMd0IAAABBbgx3QgAAwKbADHdCAACADBMNd0IAAEByZQ13QgAAANi3DXdCAADAPQoOd0IAAICjXA53QgAAQAmvDndCAAAAbwEPd0IAAMDUUw93QgAAgDqmD3dCAABAoPgPd0IAAAAGSxB3QgAAwGudEHdCAACA0e8Qd0IAAEA3QhF3QgAAAJ2UEXdCAADAAucRd0IAAIBoORJ3QgAAQM6LEndCAAAANN4Sd0IAAMCZMBN3QgAAgP+CE3dCAABAZdUTd0IAAADLJxR3QgAAwDB6FHdCAACAlswUd0IAAED8HhV3QgAAAGJxFXdCAADAx8MVd0IAAIAtFhZ3QgAAQJNoFndCAAAA+boWd0IAAMBeDRd3QgAAgMRfF3dCAABAKrIXd0IAAACQBBh3QgAAwPVWGHdCAACAW6kYd0IAAEDB+xh3QgAAACdOGXdCAADAjKAZd0IAAIDy8hl3QgAAQFhFGndCAAAAvpcad0IAAMAj6hp3QgAAgIk8G3dCAABA744bd0IAAABV4Rt3QgAAwLozHHdCAACAIIYcd0IAAECG2Bx3QgAAAOwqHXdCAADAUX0dd0IAAIC3zx13QgAAQB0iHndCAAAAg3Qed0IAAMDoxh53QgAAgE4ZH3dCAABAtGsfd0IAAAAavh93QgAAwH8QIHdCAACA5WIgd0IAAEBLtSB3QgAAALEHIXdCAADAFlohd0IAAIB8rCF3QgAAQOL+IXdCAAAASFEid0IAAMCtoyJ3QgAAgBP2IndCAABAeUgjd0IAAADfmiN3QgAAwETtI3dCAACAqj8kd0IAAEAQkiR3QgAAAHbkJHdCAADA2zYld0IAAIBBiSV3QgAAQKfbJXdCAAAADS4md0IAAMBygCZ3QgAAgNjSJndCAABAPiUnd0IAAACkdyd3QgAAwAnKJ3dCAACAbxwod0IAAEDVbih3QgAAADvBKHdCAADAoBMpd0IAAIAGZil3QgAAQGy4KXdCAAAA0goqd0IAAMA3XSp3QgAAgJ2vKndCAABAAwIrd0IAAABpVCt3QgAAwM6mK3dCAACANPkrd0IAAECaSyx3QgAAAACeLHdCAADAZfAsd0IAAIDLQi13QgAAQDGVLXdCAAAAl+ctd0IAAMD8OS53QgAAgGKMLndCAABAyN4ud0IAAAAuMS93QgAAwJODL3dCAACA+dUvd0I=\",\"dtype\":\"float64\",\"shape\":[121]},\"y\":[0.9679978062779606,0.9700480106286499,0.971656182210577,0.9736411587889005,0.9761528777469112,0.977771783735718,0.9804281014363937,0.9829177649247829,0.9849718279271791,0.9848258531873134,0.9857323985434353,0.9868442649395247,0.9875025342214719,0.9883193746760213,0.9889071538289531,0.9890533775111089,0.9890298990558094,0.9890531515732056,0.9892709520102774,0.9895838809322223,0.9899099889838557,0.9899919975413152,0.9898162173381114,0.9895513799962058,0.9892273841679863,0.9889506730185715,0.9886730792980905,0.9883888497272123,0.9880423897828409,0.987585928533332,0.9870685031943675,0.9865644488957482,0.9860658726462249,0.9855759728669622,0.9851052949135793,0.984632044070976,0.9841270378513256,0.9835833325600511,0.9830520977422951,0.9825488128963521,0.9820602423078728,0.9816180557179347,0.9811892216342538,0.9807409102933952,0.9802781573586284,0.9797963101212208,0.9793375172363576,0.978895616908901,0.9784667755623262,0.9780365516961604,0.9775883686773429,0.9771429258391684,0.9767146609781826,0.976290316411239,0.9758757504411794,0.9754569522703131,0.9750357777559553,0.9745991062916086,0.97416244346847,0.9737283122166098,0.973290786142014,0.9728562030947691,0.9724201887994687,0.9719790100779451,0.9715295419419878,0.9710715371069945,0.9706154788466494,0.9701612946692771,0.9697079448905578,0.9692559568654411,0.9687961108666361,0.968331393918836,0.9678757658726784,0.96741984318041,0.9669630942373677,0.9665089912929726,0.9660571343596263,0.9656047409666978,0.9651489366466647,0.9646970661885069,0.9642470609977987,0.9637991345501293,0.9633575670595674,0.9629162835946165,0.9624766570056525,0.9620355705659703,0.9615914638153776,0.9611592150363343,0.9607278260375932,0.9603000104289975,0.959874502047148,0.9594507184625388,0.9590264192203631,0.9586013976200004,0.958182163880938,0.9577659292329438,0.9573473775409738,0.9569376188727386,0.9565279601866614,0.956120791027247,0.9557205765109054,0.955316502348372,0.9549191061096554,0.9545225657267125,0.9541371382128311,0.9537456886996359,0.9533676713104047,0.9529880507515125,0.9526083698150786,0.9522370672993478,0.9518640870474706,0.9514949126912956,0.9511290556083468,0.9507665064919294,0.9504059803079677]},\"selected\":{\"id\":\"11039\"},\"selection_policy\":{\"id\":\"11040\"}},\"id\":\"10703\",\"type\":\"ColumnDataSource\"},{\"attributes\":{},\"id\":\"10631\",\"type\":\"PanTool\"},{\"attributes\":{},\"id\":\"10636\",\"type\":\"HelpTool\"},{\"attributes\":{\"base\":24,\"mantissas\":[1,2,4,6,8,12],\"max_interval\":43200000.0,\"min_interval\":3600000.0,\"num_minor_ticks\":0},\"id\":\"10657\",\"type\":\"AdaptiveTicker\"},{\"attributes\":{\"text\":\"Total Cases Exponential Validity: Italy\"},\"id\":\"10613\",\"type\":\"Title\"},{\"attributes\":{\"fill_alpha\":{\"value\":0.1},\"fill_color\":{\"value\":\"white\"},\"line_alpha\":{\"value\":0.1},\"line_color\":{\"value\":\"lightblue\"},\"size\":{\"units\":\"screen\",\"value\":5},\"x\":{\"field\":\"x\"},\"y\":{\"field\":\"y\"}},\"id\":\"10705\",\"type\":\"Circle\"},{\"attributes\":{},\"id\":\"10628\",\"type\":\"BasicTicker\"},{\"attributes\":{\"data_source\":{\"id\":\"10670\"},\"glyph\":{\"id\":\"10671\"},\"hover_glyph\":null,\"muted_glyph\":null,\"nonselection_glyph\":{\"id\":\"10672\"},\"selection_glyph\":null,\"view\":{\"id\":\"10674\"}},\"id\":\"10673\",\"type\":\"GlyphRenderer\"},{\"attributes\":{\"source\":{\"id\":\"10703\"}},\"id\":\"10707\",\"type\":\"CDSView\"},{\"attributes\":{\"num_minor_ticks\":5,\"tickers\":[{\"id\":\"10655\"},{\"id\":\"10656\"},{\"id\":\"10657\"},{\"id\":\"10658\"},{\"id\":\"10659\"},{\"id\":\"10660\"},{\"id\":\"10661\"},{\"id\":\"10662\"},{\"id\":\"10663\"},{\"id\":\"10664\"},{\"id\":\"10665\"},{\"id\":\"10666\"}]},\"id\":\"10624\",\"type\":\"DatetimeTicker\"},{\"attributes\":{\"days\":[1,15]},\"id\":\"10661\",\"type\":\"DaysTicker\"},{\"attributes\":{\"axis\":{\"id\":\"10623\"},\"ticker\":null},\"id\":\"10626\",\"type\":\"Grid\"},{\"attributes\":{\"months\":[0,1,2,3,4,5,6,7,8,9,10,11]},\"id\":\"10662\",\"type\":\"MonthsTicker\"},{\"attributes\":{\"bottom_units\":\"screen\",\"fill_alpha\":0.5,\"fill_color\":\"lightgrey\",\"left_units\":\"screen\",\"level\":\"overlay\",\"line_alpha\":1.0,\"line_color\":\"black\",\"line_dash\":[4,4],\"line_width\":2,\"render_mode\":\"css\",\"right_units\":\"screen\",\"top_units\":\"screen\"},\"id\":\"10637\",\"type\":\"BoxAnnotation\"},{\"attributes\":{\"callback\":null,\"formatters\":{\"@x\":\"datetime\"},\"mode\":\"vline\",\"tooltips\":[[\"date\",\"@x{%d %B}\"],[\"R_squared/Corr_A_B\",\"@y{0[.]000}\"]]},\"id\":\"10712\",\"type\":\"HoverTool\"},{\"attributes\":{\"axis_label\":\"Date\",\"formatter\":{\"id\":\"10708\"},\"major_label_orientation\":0.7853981633974483,\"minor_tick_in\":-5,\"minor_tick_out\":-3,\"ticker\":{\"id\":\"10624\"}},\"id\":\"10623\",\"type\":\"DatetimeAxis\"},{\"attributes\":{\"overlay\":{\"id\":\"10637\"}},\"id\":\"10633\",\"type\":\"BoxZoomTool\"},{\"attributes\":{},\"id\":\"10634\",\"type\":\"SaveTool\"},{\"attributes\":{\"data_source\":{\"id\":\"10703\"},\"glyph\":{\"id\":\"10704\"},\"hover_glyph\":null,\"muted_glyph\":null,\"nonselection_glyph\":{\"id\":\"10705\"},\"selection_glyph\":null,\"view\":{\"id\":\"10707\"}},\"id\":\"10706\",\"type\":\"GlyphRenderer\"},{\"attributes\":{\"source\":{\"id\":\"10670\"}},\"id\":\"10674\",\"type\":\"CDSView\"},{\"attributes\":{},\"id\":\"11038\",\"type\":\"UnionRenderers\"},{\"attributes\":{\"days\":[1,4,7,10,13,16,19,22,25,28]},\"id\":\"10659\",\"type\":\"DaysTicker\"},{\"attributes\":{\"line_color\":\"lightblue\",\"line_width\":4,\"x\":{\"field\":\"x\"},\"y\":{\"field\":\"y\"}},\"id\":\"10676\",\"type\":\"Line\"},{\"attributes\":{\"fill_alpha\":{\"value\":0.1},\"fill_color\":{\"value\":\"white\"},\"line_alpha\":{\"value\":0.1},\"line_color\":{\"value\":\"blue\"},\"size\":{\"units\":\"screen\",\"value\":5},\"x\":{\"field\":\"x\"},\"y\":{\"field\":\"y\"}},\"id\":\"10672\",\"type\":\"Circle\"}],\"root_ids\":[\"10612\"]},\"title\":\"Bokeh Application\",\"version\":\"2.0.2\"}};\n",
       "  var render_items = [{\"docid\":\"63abbfae-fff8-4c7d-9cbe-8511f2de1265\",\"root_ids\":[\"10612\"],\"roots\":{\"10612\":\"110c378d-ef46-4a7e-9f05-c00604b42fe0\"}}];\n",
       "  root.Bokeh.embed.embed_items_notebook(docs_json, render_items);\n",
       "\n",
       "  }\n",
       "  if (root.Bokeh !== undefined) {\n",
       "    embed_document(root);\n",
       "  } else {\n",
       "    var attempts = 0;\n",
       "    var timer = setInterval(function(root) {\n",
       "      if (root.Bokeh !== undefined) {\n",
       "        clearInterval(timer);\n",
       "        embed_document(root);\n",
       "      } else {\n",
       "        attempts++;\n",
       "        if (attempts > 100) {\n",
       "          clearInterval(timer);\n",
       "          console.log(\"Bokeh: ERROR: Unable to run BokehJS code because BokehJS library is missing\");\n",
       "        }\n",
       "      }\n",
       "    }, 10, root)\n",
       "  }\n",
       "})(window);"
      ],
      "application/vnd.bokehjs_exec.v0+json": ""
     },
     "metadata": {
      "application/vnd.bokehjs_exec.v0+json": {
       "id": "10612"
      }
     },
     "output_type": "display_data"
    }
   ],
   "source": [
    "p_total_cases_exp_val_Italy = bokeh_plot_N_lines(x=time_date_new + 6, y_list=[R_2_cases, Correlation_A_B], \n",
    "                  title='Total Cases Exponential Validity: Italy', \n",
    "                  dim=[600, 450], \n",
    "                  x_label='Date', \n",
    "                  y_label='R_squared', legend_list=['R_squared', 'Corr_A_B'],\n",
    "                  x_label_hover='date', y_label_hover='R_squared/Corr_A_B',\n",
    "                  color_list=['blue', 'lightblue'],legend_location=\"top_right\", y_minmax=None)\n",
    "\n",
    "output_file(\"total_cases_exponential_validity_Italy.html\")\n",
    "\n",
    "show(p_total_cases_exp_val_Italy)"
   ]
  },
  {
   "cell_type": "markdown",
   "metadata": {},
   "source": [
    "--------------------"
   ]
  },
  {
   "cell_type": "code",
   "execution_count": 57,
   "metadata": {},
   "outputs": [],
   "source": [
    "R_2_deaths = []\n",
    "Correlation_A_B = []\n",
    "iii = 7\n",
    "\n",
    "while(iii <= len(deceduti_italy)):\n",
    "    fit_range = iii   # best fit when fit_range = 28 namely March 22\n",
    "    xdata = np.linspace(0, fit_range, fit_range)\n",
    "    init_guess = [5000, 0.001]\n",
    "    fit = curve_fit(model_exp, xdata, deceduti_italy.loc[0:(fit_range-1)], p0=init_guess)\n",
    "    ans, cov = fit\n",
    "    fit_a, fit_b = ans\n",
    "    fit_a, fit_b\n",
    "    ydata = model_exp(xdata,fit_a,fit_b)\n",
    "    residuals = deceduti_italy.loc[0:(fit_range-1)] - ydata  #  Calculation of R^2\n",
    "    ss_res = np.sum(residuals**2)\n",
    "    ss_tot = np.sum((deceduti_italy.loc[0:(fit_range-1)] - np.mean(deceduti_italy.loc[0:(fit_range-1)]))**2)\n",
    "    r_squared = 1 - (ss_res / ss_tot)\n",
    "    R_2_deaths.append(r_squared)\n",
    "    correlation_ab = - cov[0,1] / (np.sqrt(np.diag(cov)[0] * np.diag(cov)[1]))\n",
    "    Correlation_A_B.append(correlation_ab)\n",
    "    iii = iii + 1"
   ]
  },
  {
   "cell_type": "code",
   "execution_count": 58,
   "metadata": {},
   "outputs": [
    {
     "name": "stderr",
     "output_type": "stream",
     "text": [
      "BokehUserWarning: ColumnDataSource's columns must be of the same length. Current lengths: ('x', 121), ('y', 115)\n",
      "BokehUserWarning: ColumnDataSource's columns must be of the same length. Current lengths: ('x', 121), ('y', 115)\n",
      "BokehUserWarning: ColumnDataSource's columns must be of the same length. Current lengths: ('x', 121), ('y', 115)\n",
      "BokehUserWarning: ColumnDataSource's columns must be of the same length. Current lengths: ('x', 121), ('y', 115)\n"
     ]
    },
    {
     "data": {
      "text/html": [
       "\n",
       "\n",
       "\n",
       "\n",
       "\n",
       "\n",
       "  <div class=\"bk-root\" id=\"ebbca66c-8ee9-4971-a6a0-ff1649068345\" data-root-id=\"11511\"></div>\n"
      ]
     },
     "metadata": {},
     "output_type": "display_data"
    },
    {
     "data": {
      "application/javascript": [
       "(function(root) {\n",
       "  function embed_document(root) {\n",
       "    \n",
       "  var docs_json = {\"38eb16fc-db13-4cef-85be-268d231f8558\":{\"roots\":{\"references\":[{\"attributes\":{\"below\":[{\"id\":\"11522\"}],\"center\":[{\"id\":\"11525\"},{\"id\":\"11529\"},{\"id\":\"11567\"}],\"left\":[{\"id\":\"11526\"}],\"plot_height\":450,\"renderers\":[{\"id\":\"11547\"},{\"id\":\"11572\"},{\"id\":\"11577\"},{\"id\":\"11605\"}],\"title\":{\"id\":\"11512\"},\"toolbar\":{\"id\":\"11537\"},\"x_range\":{\"id\":\"11514\"},\"x_scale\":{\"id\":\"11518\"},\"y_range\":{\"id\":\"11516\"},\"y_scale\":{\"id\":\"11520\"}},\"id\":\"11511\",\"subtype\":\"Figure\",\"type\":\"Plot\"},{\"attributes\":{\"fill_alpha\":{\"value\":0.1},\"fill_color\":{\"value\":\"white\"},\"line_alpha\":{\"value\":0.1},\"line_color\":{\"value\":\"darkviolet\"},\"size\":{\"units\":\"screen\",\"value\":5},\"x\":{\"field\":\"x\"},\"y\":{\"field\":\"y\"}},\"id\":\"11571\",\"type\":\"Circle\"},{\"attributes\":{\"days\":[1,8,15,22]},\"id\":\"11559\",\"type\":\"DaysTicker\"},{\"attributes\":{\"base\":24,\"mantissas\":[1,2,4,6,8,12],\"max_interval\":43200000.0,\"min_interval\":3600000.0,\"num_minor_ticks\":0},\"id\":\"11556\",\"type\":\"AdaptiveTicker\"},{\"attributes\":{},\"id\":\"11518\",\"type\":\"LinearScale\"},{\"attributes\":{\"months\":[0,1,2,3,4,5,6,7,8,9,10,11]},\"id\":\"11561\",\"type\":\"MonthsTicker\"},{\"attributes\":{\"bottom_units\":\"screen\",\"fill_alpha\":0.5,\"fill_color\":\"lightgrey\",\"left_units\":\"screen\",\"level\":\"overlay\",\"line_alpha\":1.0,\"line_color\":\"black\",\"line_dash\":[4,4],\"line_width\":2,\"render_mode\":\"css\",\"right_units\":\"screen\",\"top_units\":\"screen\"},\"id\":\"11536\",\"type\":\"BoxAnnotation\"},{\"attributes\":{\"source\":{\"id\":\"11602\"}},\"id\":\"11606\",\"type\":\"CDSView\"},{\"attributes\":{\"base\":60,\"mantissas\":[1,2,5,10,15,20,30],\"max_interval\":1800000.0,\"min_interval\":1000.0,\"num_minor_ticks\":0},\"id\":\"11555\",\"type\":\"AdaptiveTicker\"},{\"attributes\":{},\"id\":\"11520\",\"type\":\"LinearScale\"},{\"attributes\":{},\"id\":\"11516\",\"type\":\"DataRange1d\"},{\"attributes\":{\"source\":{\"id\":\"11574\"}},\"id\":\"11578\",\"type\":\"CDSView\"},{\"attributes\":{\"days\":[\"%d %B\"]},\"id\":\"11607\",\"type\":\"DatetimeTickFormatter\"},{\"attributes\":{\"axis_label\":\"R_squared\",\"formatter\":{\"id\":\"11609\"},\"minor_tick_in\":-5,\"minor_tick_out\":-3,\"ticker\":{\"id\":\"11527\"}},\"id\":\"11526\",\"type\":\"LinearAxis\"},{\"attributes\":{},\"id\":\"11527\",\"type\":\"BasicTicker\"},{\"attributes\":{\"overlay\":{\"id\":\"11536\"}},\"id\":\"11532\",\"type\":\"BoxZoomTool\"},{\"attributes\":{},\"id\":\"11534\",\"type\":\"ResetTool\"},{\"attributes\":{\"label\":{\"value\":\"R_squared\"},\"renderers\":[{\"id\":\"11547\"}]},\"id\":\"11568\",\"type\":\"LegendItem\"},{\"attributes\":{\"days\":[1,4,7,10,13,16,19,22,25,28]},\"id\":\"11558\",\"type\":\"DaysTicker\"},{\"attributes\":{\"data_source\":{\"id\":\"11602\"},\"glyph\":{\"id\":\"11603\"},\"hover_glyph\":null,\"muted_glyph\":null,\"nonselection_glyph\":{\"id\":\"11604\"},\"selection_glyph\":null,\"view\":{\"id\":\"11606\"}},\"id\":\"11605\",\"type\":\"GlyphRenderer\"},{\"attributes\":{\"active_drag\":\"auto\",\"active_inspect\":\"auto\",\"active_multi\":null,\"active_scroll\":\"auto\",\"active_tap\":\"auto\",\"tools\":[{\"id\":\"11530\"},{\"id\":\"11531\"},{\"id\":\"11532\"},{\"id\":\"11533\"},{\"id\":\"11534\"},{\"id\":\"11535\"},{\"id\":\"11611\"}]},\"id\":\"11537\",\"type\":\"Toolbar\"},{\"attributes\":{\"fill_color\":{\"value\":\"white\"},\"line_color\":{\"value\":\"violet\"},\"size\":{\"units\":\"screen\",\"value\":5},\"x\":{\"field\":\"x\"},\"y\":{\"field\":\"y\"}},\"id\":\"11603\",\"type\":\"Circle\"},{\"attributes\":{\"days\":[1,2,3,4,5,6,7,8,9,10,11,12,13,14,15,16,17,18,19,20,21,22,23,24,25,26,27,28,29,30,31]},\"id\":\"11557\",\"type\":\"DaysTicker\"},{\"attributes\":{\"axis\":{\"id\":\"11526\"},\"dimension\":1,\"ticker\":null},\"id\":\"11529\",\"type\":\"Grid\"},{\"attributes\":{\"items\":[{\"id\":\"11568\"},{\"id\":\"11601\"}]},\"id\":\"11567\",\"type\":\"Legend\"},{\"attributes\":{\"use_scientific\":false},\"id\":\"11609\",\"type\":\"BasicTickFormatter\"},{\"attributes\":{\"months\":[0,2,4,6,8,10]},\"id\":\"11562\",\"type\":\"MonthsTicker\"},{\"attributes\":{\"callback\":null,\"formatters\":{\"@x\":\"datetime\"},\"mode\":\"vline\",\"tooltips\":[[\"date\",\"@x{%d %B}\"],[\"R_squared/Corr_A_B\",\"@y{0[.]000}\"]]},\"id\":\"11611\",\"type\":\"HoverTool\"},{\"attributes\":{},\"id\":\"11960\",\"type\":\"Selection\"},{\"attributes\":{\"axis_label\":\"Date\",\"formatter\":{\"id\":\"11607\"},\"major_label_orientation\":0.7853981633974483,\"minor_tick_in\":-5,\"minor_tick_out\":-3,\"ticker\":{\"id\":\"11523\"}},\"id\":\"11522\",\"type\":\"DatetimeAxis\"},{\"attributes\":{\"data\":{\"x\":{\"__ndarray__\":\"AACARzYJd0IAAECtiAl3QgAAABPbCXdCAADAeC0Kd0IAAIDefwp3QgAAQETSCndCAAAAqiQLd0IAAMAPdwt3QgAAgHXJC3dCAABA2xsMd0IAAABBbgx3QgAAwKbADHdCAACADBMNd0IAAEByZQ13QgAAANi3DXdCAADAPQoOd0IAAICjXA53QgAAQAmvDndCAAAAbwEPd0IAAMDUUw93QgAAgDqmD3dCAABAoPgPd0IAAAAGSxB3QgAAwGudEHdCAACA0e8Qd0IAAEA3QhF3QgAAAJ2UEXdCAADAAucRd0IAAIBoORJ3QgAAQM6LEndCAAAANN4Sd0IAAMCZMBN3QgAAgP+CE3dCAABAZdUTd0IAAADLJxR3QgAAwDB6FHdCAACAlswUd0IAAED8HhV3QgAAAGJxFXdCAADAx8MVd0IAAIAtFhZ3QgAAQJNoFndCAAAA+boWd0IAAMBeDRd3QgAAgMRfF3dCAABAKrIXd0IAAACQBBh3QgAAwPVWGHdCAACAW6kYd0IAAEDB+xh3QgAAACdOGXdCAADAjKAZd0IAAIDy8hl3QgAAQFhFGndCAAAAvpcad0IAAMAj6hp3QgAAgIk8G3dCAABA744bd0IAAABV4Rt3QgAAwLozHHdCAACAIIYcd0IAAECG2Bx3QgAAAOwqHXdCAADAUX0dd0IAAIC3zx13QgAAQB0iHndCAAAAg3Qed0IAAMDoxh53QgAAgE4ZH3dCAABAtGsfd0IAAAAavh93QgAAwH8QIHdCAACA5WIgd0IAAEBLtSB3QgAAALEHIXdCAADAFlohd0IAAIB8rCF3QgAAQOL+IXdCAAAASFEid0IAAMCtoyJ3QgAAgBP2IndCAABAeUgjd0IAAADfmiN3QgAAwETtI3dCAACAqj8kd0IAAEAQkiR3QgAAAHbkJHdCAADA2zYld0IAAIBBiSV3QgAAQKfbJXdCAAAADS4md0IAAMBygCZ3QgAAgNjSJndCAABAPiUnd0IAAACkdyd3QgAAwAnKJ3dCAACAbxwod0IAAEDVbih3QgAAADvBKHdCAADAoBMpd0IAAIAGZil3QgAAQGy4KXdCAAAA0goqd0IAAMA3XSp3QgAAgJ2vKndCAABAAwIrd0IAAABpVCt3QgAAwM6mK3dCAACANPkrd0IAAECaSyx3QgAAAACeLHdCAADAZfAsd0IAAIDLQi13QgAAQDGVLXdCAAAAl+ctd0IAAMD8OS53QgAAgGKMLndCAABAyN4ud0IAAAAuMS93QgAAwJODL3dCAACA+dUvd0I=\",\"dtype\":\"float64\",\"shape\":[121]},\"y\":[0.9510735979496298,0.967026787423011,0.9797155564920516,0.9841794388564682,0.987058902502072,0.9885271206710922,0.9878661518605626,0.9912848362964762,0.9920316543065136,0.9930564216478499,0.9936504271233708,0.9935885059534284,0.9935957428997308,0.9930056823875769,0.9931134349437636,0.9931431121353521,0.9929955014932168,0.9930278738312512,0.9929012146739309,0.9929979124492253,0.9932927976627974,0.9933417001183183,0.9931719434872636,0.993005647809642,0.9927584775551656,0.9924406702391054,0.9922744028334555,0.9921094248361184,0.9918563879803546,0.9915755204132469,0.9912839412221955,0.9909364888922103,0.9905698727323404,0.9901944329773178,0.9897853688914764,0.9893107039620077,0.9888309439784413,0.9883438218570605,0.9878392695121011,0.9873460209230279,0.986854884638355,0.9863824194974277,0.9858808859871518,0.9853950296915658,0.9849330064481671,0.9844858208010906,0.9840437994086847,0.9836184855052913,0.983190279083998,0.9827505724722575,0.9823122923971135,0.9818918092145366,0.9814700421053094,0.9810546516200839,0.9806405349192466,0.9802253853432971,0.9797887719973435,0.9793456094485967,0.978912778446942,0.9784768716689168,0.9780357530413478,0.977587620591863,0.9771695245333818,0.9767331644938351,0.9762861637631576,0.9758375612488768,0.9754074459260815,0.9749840614762715,0.9745592511520631,0.9741302974994442,0.9736953720600414,0.9732583372010942,0.9728198236673788,0.9723837509900674,0.971959612865826,0.971544286246252,0.9711272078194991,0.9707086496504631,0.9702844585915679,0.9698633512474395,0.9694457397250232,0.9690315181235328,0.9686151378044213,0.9682026722540672,0.9677840310655105,0.9673650171002843,0.9669449050143606,0.9665284944036369,0.9661112670254045,0.9656987059363993,0.9652862803608039,0.9648728294206899,0.964465788499735,0.9640520646259465,0.9636427768466849,0.9632421101081855,0.9628420206567095,0.9624447101052964,0.9620486320579883,0.9616552076092657,0.9612658963045723,0.9608760384052372,0.9604918846229933,0.9601101820075407,0.9597330253287285,0.9593574617746118,0.9589821556323329,0.9586080978837811,0.9582362723236978,0.9578687536226096,0.9575039426211244,0.9571448738126127,0.956781236966264,0.956421478431892,0.9560670736239517]},\"selected\":{\"id\":\"11962\"},\"selection_policy\":{\"id\":\"11963\"}},\"id\":\"11602\",\"type\":\"ColumnDataSource\"},{\"attributes\":{\"mantissas\":[1,2,5],\"max_interval\":500.0,\"num_minor_ticks\":0},\"id\":\"11554\",\"type\":\"AdaptiveTicker\"},{\"attributes\":{\"data_source\":{\"id\":\"11574\"},\"glyph\":{\"id\":\"11575\"},\"hover_glyph\":null,\"muted_glyph\":null,\"nonselection_glyph\":{\"id\":\"11576\"},\"selection_glyph\":null,\"view\":{\"id\":\"11578\"}},\"id\":\"11577\",\"type\":\"GlyphRenderer\"},{\"attributes\":{},\"id\":\"11530\",\"type\":\"PanTool\"},{\"attributes\":{\"months\":[0,6]},\"id\":\"11564\",\"type\":\"MonthsTicker\"},{\"attributes\":{},\"id\":\"11535\",\"type\":\"HelpTool\"},{\"attributes\":{\"months\":[0,4,8]},\"id\":\"11563\",\"type\":\"MonthsTicker\"},{\"attributes\":{\"data\":{\"x\":{\"__ndarray__\":\"AACARzYJd0IAAECtiAl3QgAAABPbCXdCAADAeC0Kd0IAAIDefwp3QgAAQETSCndCAAAAqiQLd0IAAMAPdwt3QgAAgHXJC3dCAABA2xsMd0IAAABBbgx3QgAAwKbADHdCAACADBMNd0IAAEByZQ13QgAAANi3DXdCAADAPQoOd0IAAICjXA53QgAAQAmvDndCAAAAbwEPd0IAAMDUUw93QgAAgDqmD3dCAABAoPgPd0IAAAAGSxB3QgAAwGudEHdCAACA0e8Qd0IAAEA3QhF3QgAAAJ2UEXdCAADAAucRd0IAAIBoORJ3QgAAQM6LEndCAAAANN4Sd0IAAMCZMBN3QgAAgP+CE3dCAABAZdUTd0IAAADLJxR3QgAAwDB6FHdCAACAlswUd0IAAED8HhV3QgAAAGJxFXdCAADAx8MVd0IAAIAtFhZ3QgAAQJNoFndCAAAA+boWd0IAAMBeDRd3QgAAgMRfF3dCAABAKrIXd0IAAACQBBh3QgAAwPVWGHdCAACAW6kYd0IAAEDB+xh3QgAAACdOGXdCAADAjKAZd0IAAIDy8hl3QgAAQFhFGndCAAAAvpcad0IAAMAj6hp3QgAAgIk8G3dCAABA744bd0IAAABV4Rt3QgAAwLozHHdCAACAIIYcd0IAAECG2Bx3QgAAAOwqHXdCAADAUX0dd0IAAIC3zx13QgAAQB0iHndCAAAAg3Qed0IAAMDoxh53QgAAgE4ZH3dCAABAtGsfd0IAAAAavh93QgAAwH8QIHdCAACA5WIgd0IAAEBLtSB3QgAAALEHIXdCAADAFlohd0IAAIB8rCF3QgAAQOL+IXdCAAAASFEid0IAAMCtoyJ3QgAAgBP2IndCAABAeUgjd0IAAADfmiN3QgAAwETtI3dCAACAqj8kd0IAAEAQkiR3QgAAAHbkJHdCAADA2zYld0IAAIBBiSV3QgAAQKfbJXdCAAAADS4md0IAAMBygCZ3QgAAgNjSJndCAABAPiUnd0IAAACkdyd3QgAAwAnKJ3dCAACAbxwod0IAAEDVbih3QgAAADvBKHdCAADAoBMpd0IAAIAGZil3QgAAQGy4KXdCAAAA0goqd0IAAMA3XSp3QgAAgJ2vKndCAABAAwIrd0IAAABpVCt3QgAAwM6mK3dCAACANPkrd0IAAECaSyx3QgAAAACeLHdCAADAZfAsd0IAAIDLQi13QgAAQDGVLXdCAAAAl+ctd0IAAMD8OS53QgAAgGKMLndCAABAyN4ud0IAAAAuMS93QgAAwJODL3dCAACA+dUvd0I=\",\"dtype\":\"float64\",\"shape\":[121]},\"y\":[0.9906384833099334,0.9876702701263628,0.986034206451665,0.9937023701385499,0.9970511977507855,0.9979544752352847,0.9913778365717426,0.9929248433250588,0.9957403179282476,0.9977413133698139,0.9985366218172942,0.9969106059526226,0.996211572251712,0.9909112544567887,0.9925418195655226,0.9932047921984762,0.9924285278783038,0.9930340764201312,0.9923577489344909,0.9932926697800687,0.9948845546297247,0.9950079961757051,0.9935421243409132,0.9923519864209975,0.9905689301056676,0.9882674204511754,0.9878264212632235,0.9873989916144827,0.9860735965572663,0.9845430102319735,0.9830060388504964,0.9809094757488263,0.9787131870741717,0.9765424924030026,0.9740607080719607,0.9707721359330386,0.9675980745847533,0.9644603235650501,0.9611847156868383,0.9581929227609429,0.9553138048152379,0.9527668866041618,0.949832519376967,0.9471741782289388,0.9448856132660635,0.9428262702142188,0.9408090496270258,0.9390094702651643,0.9371368895937208,0.9351084492759572,0.9330557612153584,0.9312289735564631,0.9293543463395025,0.9275386266286831,0.9256884677837561,0.923825484706234,0.9216168769019616,0.9193267564535198,0.9171080210761422,0.9148403674368056,0.9124738376193,0.9100150508583008,0.9079318355263625,0.9055617444260692,0.9030142411545999,0.9004203648795525,0.8980689816751007,0.895753592355098,0.8934258167984068,0.8910112034278967,0.8884835555981856,0.8858991595144673,0.8832672224045979,0.8806489898317053,0.8781735601338101,0.875798568138153,0.8733701733341191,0.8708924136063186,0.868304639054517,0.8657347591288924,0.8631886604807198,0.8606646697392588,0.858127410712821,0.8555693576054788,0.852892171710644,0.8501818039869902,0.8474274701530655,0.844700900642225,0.8419345520946966,0.8391646559956998,0.8364338566397378,0.8336910711516987,0.8309211457595196,0.8281248123000429,0.8253329993158202,0.8225748810114298,0.8198481378354814,0.8171364351895642,0.8144164389141544,0.8117098496622602,0.8090390142962303,0.8063941173576937,0.8037525871249604,0.8011218929019263,0.798534052945386,0.7959443157297019,0.7933324930099895,0.7907137868390863,0.7881034028225027,0.7855332424297904,0.782979060796708,0.780445007608978,0.7779009250870768,0.7753487688829088,0.7727853047065396]},\"selected\":{\"id\":\"11584\"},\"selection_policy\":{\"id\":\"11585\"}},\"id\":\"11544\",\"type\":\"ColumnDataSource\"},{\"attributes\":{},\"id\":\"11961\",\"type\":\"UnionRenderers\"},{\"attributes\":{\"label\":{\"value\":\"Corr_A_B\"},\"renderers\":[{\"id\":\"11577\"}]},\"id\":\"11601\",\"type\":\"LegendItem\"},{\"attributes\":{},\"id\":\"11584\",\"type\":\"Selection\"},{\"attributes\":{\"data_source\":{\"id\":\"11544\"},\"glyph\":{\"id\":\"11545\"},\"hover_glyph\":null,\"muted_glyph\":null,\"nonselection_glyph\":{\"id\":\"11546\"},\"selection_glyph\":null,\"view\":{\"id\":\"11548\"}},\"id\":\"11547\",\"type\":\"GlyphRenderer\"},{\"attributes\":{\"axis\":{\"id\":\"11522\"},\"ticker\":null},\"id\":\"11525\",\"type\":\"Grid\"},{\"attributes\":{\"fill_color\":{\"value\":\"white\"},\"line_color\":{\"value\":\"darkviolet\"},\"size\":{\"units\":\"screen\",\"value\":5},\"x\":{\"field\":\"x\"},\"y\":{\"field\":\"y\"}},\"id\":\"11570\",\"type\":\"Circle\"},{\"attributes\":{\"line_alpha\":0.1,\"line_color\":\"violet\",\"line_width\":4,\"x\":{\"field\":\"x\"},\"y\":{\"field\":\"y\"}},\"id\":\"11576\",\"type\":\"Line\"},{\"attributes\":{\"line_color\":\"violet\",\"line_width\":4,\"x\":{\"field\":\"x\"},\"y\":{\"field\":\"y\"}},\"id\":\"11575\",\"type\":\"Line\"},{\"attributes\":{},\"id\":\"11565\",\"type\":\"YearsTicker\"},{\"attributes\":{\"data\":{\"x\":{\"__ndarray__\":\"AACARzYJd0IAAECtiAl3QgAAABPbCXdCAADAeC0Kd0IAAIDefwp3QgAAQETSCndCAAAAqiQLd0IAAMAPdwt3QgAAgHXJC3dCAABA2xsMd0IAAABBbgx3QgAAwKbADHdCAACADBMNd0IAAEByZQ13QgAAANi3DXdCAADAPQoOd0IAAICjXA53QgAAQAmvDndCAAAAbwEPd0IAAMDUUw93QgAAgDqmD3dCAABAoPgPd0IAAAAGSxB3QgAAwGudEHdCAACA0e8Qd0IAAEA3QhF3QgAAAJ2UEXdCAADAAucRd0IAAIBoORJ3QgAAQM6LEndCAAAANN4Sd0IAAMCZMBN3QgAAgP+CE3dCAABAZdUTd0IAAADLJxR3QgAAwDB6FHdCAACAlswUd0IAAED8HhV3QgAAAGJxFXdCAADAx8MVd0IAAIAtFhZ3QgAAQJNoFndCAAAA+boWd0IAAMBeDRd3QgAAgMRfF3dCAABAKrIXd0IAAACQBBh3QgAAwPVWGHdCAACAW6kYd0IAAEDB+xh3QgAAACdOGXdCAADAjKAZd0IAAIDy8hl3QgAAQFhFGndCAAAAvpcad0IAAMAj6hp3QgAAgIk8G3dCAABA744bd0IAAABV4Rt3QgAAwLozHHdCAACAIIYcd0IAAECG2Bx3QgAAAOwqHXdCAADAUX0dd0IAAIC3zx13QgAAQB0iHndCAAAAg3Qed0IAAMDoxh53QgAAgE4ZH3dCAABAtGsfd0IAAAAavh93QgAAwH8QIHdCAACA5WIgd0IAAEBLtSB3QgAAALEHIXdCAADAFlohd0IAAIB8rCF3QgAAQOL+IXdCAAAASFEid0IAAMCtoyJ3QgAAgBP2IndCAABAeUgjd0IAAADfmiN3QgAAwETtI3dCAACAqj8kd0IAAEAQkiR3QgAAAHbkJHdCAADA2zYld0IAAIBBiSV3QgAAQKfbJXdCAAAADS4md0IAAMBygCZ3QgAAgNjSJndCAABAPiUnd0IAAACkdyd3QgAAwAnKJ3dCAACAbxwod0IAAEDVbih3QgAAADvBKHdCAADAoBMpd0IAAIAGZil3QgAAQGy4KXdCAAAA0goqd0IAAMA3XSp3QgAAgJ2vKndCAABAAwIrd0IAAABpVCt3QgAAwM6mK3dCAACANPkrd0IAAECaSyx3QgAAAACeLHdCAADAZfAsd0IAAIDLQi13QgAAQDGVLXdCAAAAl+ctd0IAAMD8OS53QgAAgGKMLndCAABAyN4ud0IAAAAuMS93QgAAwJODL3dCAACA+dUvd0I=\",\"dtype\":\"float64\",\"shape\":[121]},\"y\":[0.9906384833099334,0.9876702701263628,0.986034206451665,0.9937023701385499,0.9970511977507855,0.9979544752352847,0.9913778365717426,0.9929248433250588,0.9957403179282476,0.9977413133698139,0.9985366218172942,0.9969106059526226,0.996211572251712,0.9909112544567887,0.9925418195655226,0.9932047921984762,0.9924285278783038,0.9930340764201312,0.9923577489344909,0.9932926697800687,0.9948845546297247,0.9950079961757051,0.9935421243409132,0.9923519864209975,0.9905689301056676,0.9882674204511754,0.9878264212632235,0.9873989916144827,0.9860735965572663,0.9845430102319735,0.9830060388504964,0.9809094757488263,0.9787131870741717,0.9765424924030026,0.9740607080719607,0.9707721359330386,0.9675980745847533,0.9644603235650501,0.9611847156868383,0.9581929227609429,0.9553138048152379,0.9527668866041618,0.949832519376967,0.9471741782289388,0.9448856132660635,0.9428262702142188,0.9408090496270258,0.9390094702651643,0.9371368895937208,0.9351084492759572,0.9330557612153584,0.9312289735564631,0.9293543463395025,0.9275386266286831,0.9256884677837561,0.923825484706234,0.9216168769019616,0.9193267564535198,0.9171080210761422,0.9148403674368056,0.9124738376193,0.9100150508583008,0.9079318355263625,0.9055617444260692,0.9030142411545999,0.9004203648795525,0.8980689816751007,0.895753592355098,0.8934258167984068,0.8910112034278967,0.8884835555981856,0.8858991595144673,0.8832672224045979,0.8806489898317053,0.8781735601338101,0.875798568138153,0.8733701733341191,0.8708924136063186,0.868304639054517,0.8657347591288924,0.8631886604807198,0.8606646697392588,0.858127410712821,0.8555693576054788,0.852892171710644,0.8501818039869902,0.8474274701530655,0.844700900642225,0.8419345520946966,0.8391646559956998,0.8364338566397378,0.8336910711516987,0.8309211457595196,0.8281248123000429,0.8253329993158202,0.8225748810114298,0.8198481378354814,0.8171364351895642,0.8144164389141544,0.8117098496622602,0.8090390142962303,0.8063941173576937,0.8037525871249604,0.8011218929019263,0.798534052945386,0.7959443157297019,0.7933324930099895,0.7907137868390863,0.7881034028225027,0.7855332424297904,0.782979060796708,0.780445007608978,0.7779009250870768,0.7753487688829088,0.7727853047065396]},\"selected\":{\"id\":\"11586\"},\"selection_policy\":{\"id\":\"11587\"}},\"id\":\"11569\",\"type\":\"ColumnDataSource\"},{\"attributes\":{\"fill_alpha\":{\"value\":0.1},\"fill_color\":{\"value\":\"white\"},\"line_alpha\":{\"value\":0.1},\"line_color\":{\"value\":\"violet\"},\"size\":{\"units\":\"screen\",\"value\":5},\"x\":{\"field\":\"x\"},\"y\":{\"field\":\"y\"}},\"id\":\"11604\",\"type\":\"Circle\"},{\"attributes\":{},\"id\":\"11962\",\"type\":\"Selection\"},{\"attributes\":{\"data_source\":{\"id\":\"11569\"},\"glyph\":{\"id\":\"11570\"},\"hover_glyph\":null,\"muted_glyph\":null,\"nonselection_glyph\":{\"id\":\"11571\"},\"selection_glyph\":null,\"view\":{\"id\":\"11573\"}},\"id\":\"11572\",\"type\":\"GlyphRenderer\"},{\"attributes\":{},\"id\":\"11514\",\"type\":\"DataRange1d\"},{\"attributes\":{\"num_minor_ticks\":5,\"tickers\":[{\"id\":\"11554\"},{\"id\":\"11555\"},{\"id\":\"11556\"},{\"id\":\"11557\"},{\"id\":\"11558\"},{\"id\":\"11559\"},{\"id\":\"11560\"},{\"id\":\"11561\"},{\"id\":\"11562\"},{\"id\":\"11563\"},{\"id\":\"11564\"},{\"id\":\"11565\"}]},\"id\":\"11523\",\"type\":\"DatetimeTicker\"},{\"attributes\":{},\"id\":\"11585\",\"type\":\"UnionRenderers\"},{\"attributes\":{\"line_alpha\":0.1,\"line_color\":\"darkviolet\",\"line_width\":4,\"x\":{\"field\":\"x\"},\"y\":{\"field\":\"y\"}},\"id\":\"11546\",\"type\":\"Line\"},{\"attributes\":{},\"id\":\"11586\",\"type\":\"Selection\"},{\"attributes\":{},\"id\":\"11533\",\"type\":\"SaveTool\"},{\"attributes\":{\"days\":[1,15]},\"id\":\"11560\",\"type\":\"DaysTicker\"},{\"attributes\":{\"line_color\":\"darkviolet\",\"line_width\":4,\"x\":{\"field\":\"x\"},\"y\":{\"field\":\"y\"}},\"id\":\"11545\",\"type\":\"Line\"},{\"attributes\":{},\"id\":\"11587\",\"type\":\"UnionRenderers\"},{\"attributes\":{},\"id\":\"11963\",\"type\":\"UnionRenderers\"},{\"attributes\":{\"text\":\"Total Deaths Exponential Validity: Italy\"},\"id\":\"11512\",\"type\":\"Title\"},{\"attributes\":{\"source\":{\"id\":\"11569\"}},\"id\":\"11573\",\"type\":\"CDSView\"},{\"attributes\":{},\"id\":\"11531\",\"type\":\"WheelZoomTool\"},{\"attributes\":{\"data\":{\"x\":{\"__ndarray__\":\"AACARzYJd0IAAECtiAl3QgAAABPbCXdCAADAeC0Kd0IAAIDefwp3QgAAQETSCndCAAAAqiQLd0IAAMAPdwt3QgAAgHXJC3dCAABA2xsMd0IAAABBbgx3QgAAwKbADHdCAACADBMNd0IAAEByZQ13QgAAANi3DXdCAADAPQoOd0IAAICjXA53QgAAQAmvDndCAAAAbwEPd0IAAMDUUw93QgAAgDqmD3dCAABAoPgPd0IAAAAGSxB3QgAAwGudEHdCAACA0e8Qd0IAAEA3QhF3QgAAAJ2UEXdCAADAAucRd0IAAIBoORJ3QgAAQM6LEndCAAAANN4Sd0IAAMCZMBN3QgAAgP+CE3dCAABAZdUTd0IAAADLJxR3QgAAwDB6FHdCAACAlswUd0IAAED8HhV3QgAAAGJxFXdCAADAx8MVd0IAAIAtFhZ3QgAAQJNoFndCAAAA+boWd0IAAMBeDRd3QgAAgMRfF3dCAABAKrIXd0IAAACQBBh3QgAAwPVWGHdCAACAW6kYd0IAAEDB+xh3QgAAACdOGXdCAADAjKAZd0IAAIDy8hl3QgAAQFhFGndCAAAAvpcad0IAAMAj6hp3QgAAgIk8G3dCAABA744bd0IAAABV4Rt3QgAAwLozHHdCAACAIIYcd0IAAECG2Bx3QgAAAOwqHXdCAADAUX0dd0IAAIC3zx13QgAAQB0iHndCAAAAg3Qed0IAAMDoxh53QgAAgE4ZH3dCAABAtGsfd0IAAAAavh93QgAAwH8QIHdCAACA5WIgd0IAAEBLtSB3QgAAALEHIXdCAADAFlohd0IAAIB8rCF3QgAAQOL+IXdCAAAASFEid0IAAMCtoyJ3QgAAgBP2IndCAABAeUgjd0IAAADfmiN3QgAAwETtI3dCAACAqj8kd0IAAEAQkiR3QgAAAHbkJHdCAADA2zYld0IAAIBBiSV3QgAAQKfbJXdCAAAADS4md0IAAMBygCZ3QgAAgNjSJndCAABAPiUnd0IAAACkdyd3QgAAwAnKJ3dCAACAbxwod0IAAEDVbih3QgAAADvBKHdCAADAoBMpd0IAAIAGZil3QgAAQGy4KXdCAAAA0goqd0IAAMA3XSp3QgAAgJ2vKndCAABAAwIrd0IAAABpVCt3QgAAwM6mK3dCAACANPkrd0IAAECaSyx3QgAAAACeLHdCAADAZfAsd0IAAIDLQi13QgAAQDGVLXdCAAAAl+ctd0IAAMD8OS53QgAAgGKMLndCAABAyN4ud0IAAAAuMS93QgAAwJODL3dCAACA+dUvd0I=\",\"dtype\":\"float64\",\"shape\":[121]},\"y\":[0.9510735979496298,0.967026787423011,0.9797155564920516,0.9841794388564682,0.987058902502072,0.9885271206710922,0.9878661518605626,0.9912848362964762,0.9920316543065136,0.9930564216478499,0.9936504271233708,0.9935885059534284,0.9935957428997308,0.9930056823875769,0.9931134349437636,0.9931431121353521,0.9929955014932168,0.9930278738312512,0.9929012146739309,0.9929979124492253,0.9932927976627974,0.9933417001183183,0.9931719434872636,0.993005647809642,0.9927584775551656,0.9924406702391054,0.9922744028334555,0.9921094248361184,0.9918563879803546,0.9915755204132469,0.9912839412221955,0.9909364888922103,0.9905698727323404,0.9901944329773178,0.9897853688914764,0.9893107039620077,0.9888309439784413,0.9883438218570605,0.9878392695121011,0.9873460209230279,0.986854884638355,0.9863824194974277,0.9858808859871518,0.9853950296915658,0.9849330064481671,0.9844858208010906,0.9840437994086847,0.9836184855052913,0.983190279083998,0.9827505724722575,0.9823122923971135,0.9818918092145366,0.9814700421053094,0.9810546516200839,0.9806405349192466,0.9802253853432971,0.9797887719973435,0.9793456094485967,0.978912778446942,0.9784768716689168,0.9780357530413478,0.977587620591863,0.9771695245333818,0.9767331644938351,0.9762861637631576,0.9758375612488768,0.9754074459260815,0.9749840614762715,0.9745592511520631,0.9741302974994442,0.9736953720600414,0.9732583372010942,0.9728198236673788,0.9723837509900674,0.971959612865826,0.971544286246252,0.9711272078194991,0.9707086496504631,0.9702844585915679,0.9698633512474395,0.9694457397250232,0.9690315181235328,0.9686151378044213,0.9682026722540672,0.9677840310655105,0.9673650171002843,0.9669449050143606,0.9665284944036369,0.9661112670254045,0.9656987059363993,0.9652862803608039,0.9648728294206899,0.964465788499735,0.9640520646259465,0.9636427768466849,0.9632421101081855,0.9628420206567095,0.9624447101052964,0.9620486320579883,0.9616552076092657,0.9612658963045723,0.9608760384052372,0.9604918846229933,0.9601101820075407,0.9597330253287285,0.9593574617746118,0.9589821556323329,0.9586080978837811,0.9582362723236978,0.9578687536226096,0.9575039426211244,0.9571448738126127,0.956781236966264,0.956421478431892,0.9560670736239517]},\"selected\":{\"id\":\"11960\"},\"selection_policy\":{\"id\":\"11961\"}},\"id\":\"11574\",\"type\":\"ColumnDataSource\"},{\"attributes\":{\"source\":{\"id\":\"11544\"}},\"id\":\"11548\",\"type\":\"CDSView\"}],\"root_ids\":[\"11511\"]},\"title\":\"Bokeh Application\",\"version\":\"2.0.2\"}};\n",
       "  var render_items = [{\"docid\":\"38eb16fc-db13-4cef-85be-268d231f8558\",\"root_ids\":[\"11511\"],\"roots\":{\"11511\":\"ebbca66c-8ee9-4971-a6a0-ff1649068345\"}}];\n",
       "  root.Bokeh.embed.embed_items_notebook(docs_json, render_items);\n",
       "\n",
       "  }\n",
       "  if (root.Bokeh !== undefined) {\n",
       "    embed_document(root);\n",
       "  } else {\n",
       "    var attempts = 0;\n",
       "    var timer = setInterval(function(root) {\n",
       "      if (root.Bokeh !== undefined) {\n",
       "        clearInterval(timer);\n",
       "        embed_document(root);\n",
       "      } else {\n",
       "        attempts++;\n",
       "        if (attempts > 100) {\n",
       "          clearInterval(timer);\n",
       "          console.log(\"Bokeh: ERROR: Unable to run BokehJS code because BokehJS library is missing\");\n",
       "        }\n",
       "      }\n",
       "    }, 10, root)\n",
       "  }\n",
       "})(window);"
      ],
      "application/vnd.bokehjs_exec.v0+json": ""
     },
     "metadata": {
      "application/vnd.bokehjs_exec.v0+json": {
       "id": "11511"
      }
     },
     "output_type": "display_data"
    }
   ],
   "source": [
    "p_total_deaths_exp_val_Italy = bokeh_plot_N_lines(x=time_date_new + 6, y_list=[R_2_deaths, Correlation_A_B], \n",
    "                  title='Total Deaths Exponential Validity: Italy', \n",
    "                  dim=[600, 450], \n",
    "                  x_label='Date', \n",
    "                  y_label='R_squared', legend_list=['R_squared', 'Corr_A_B'],\n",
    "                  x_label_hover='date', y_label_hover='R_squared/Corr_A_B',\n",
    "                  color_list=['darkviolet', 'violet'],legend_location=\"top_right\", y_minmax=None)\n",
    "\n",
    "output_file(\"total_deaths_exponential_validity_Italy.html\")\n",
    "\n",
    "show(p_total_deaths_exp_val_Italy)"
   ]
  },
  {
   "cell_type": "markdown",
   "metadata": {},
   "source": [
    "-----------------"
   ]
  },
  {
   "cell_type": "code",
   "execution_count": 59,
   "metadata": {},
   "outputs": [
    {
     "name": "stderr",
     "output_type": "stream",
     "text": [
      "BokehUserWarning: ColumnDataSource's columns must be of the same length. Current lengths: ('x', 121), ('y', 115)\n",
      "BokehUserWarning: ColumnDataSource's columns must be of the same length. Current lengths: ('x', 121), ('y', 115)\n",
      "BokehUserWarning: ColumnDataSource's columns must be of the same length. Current lengths: ('x', 121), ('y', 115)\n",
      "BokehUserWarning: ColumnDataSource's columns must be of the same length. Current lengths: ('x', 121), ('y', 115)\n"
     ]
    },
    {
     "data": {
      "text/html": [
       "\n",
       "\n",
       "\n",
       "\n",
       "\n",
       "\n",
       "  <div class=\"bk-root\" id=\"d6f633fd-36c6-4a5c-8fda-ab2a6d5a346a\" data-root-id=\"12434\"></div>\n"
      ]
     },
     "metadata": {},
     "output_type": "display_data"
    },
    {
     "data": {
      "application/javascript": [
       "(function(root) {\n",
       "  function embed_document(root) {\n",
       "    \n",
       "  var docs_json = {\"13675534-2681-4cc2-a2b4-35dfbde842d7\":{\"roots\":{\"references\":[{\"attributes\":{\"below\":[{\"id\":\"12445\"}],\"center\":[{\"id\":\"12448\"},{\"id\":\"12452\"},{\"id\":\"12490\"}],\"left\":[{\"id\":\"12449\"}],\"plot_height\":450,\"renderers\":[{\"id\":\"12470\"},{\"id\":\"12495\"},{\"id\":\"12500\"},{\"id\":\"12528\"}],\"title\":{\"id\":\"12435\"},\"toolbar\":{\"id\":\"12460\"},\"x_range\":{\"id\":\"12437\"},\"x_scale\":{\"id\":\"12441\"},\"y_range\":{\"id\":\"12439\"},\"y_scale\":{\"id\":\"12443\"}},\"id\":\"12434\",\"subtype\":\"Figure\",\"type\":\"Plot\"},{\"attributes\":{\"fill_color\":{\"value\":\"white\"},\"line_color\":{\"value\":\"darkviolet\"},\"size\":{\"units\":\"screen\",\"value\":5},\"x\":{\"field\":\"x\"},\"y\":{\"field\":\"y\"}},\"id\":\"12526\",\"type\":\"Circle\"},{\"attributes\":{\"data_source\":{\"id\":\"12467\"},\"glyph\":{\"id\":\"12468\"},\"hover_glyph\":null,\"muted_glyph\":null,\"nonselection_glyph\":{\"id\":\"12469\"},\"selection_glyph\":null,\"view\":{\"id\":\"12471\"}},\"id\":\"12470\",\"type\":\"GlyphRenderer\"},{\"attributes\":{},\"id\":\"12437\",\"type\":\"DataRange1d\"},{\"attributes\":{},\"id\":\"12441\",\"type\":\"LinearScale\"},{\"attributes\":{\"source\":{\"id\":\"12467\"}},\"id\":\"12471\",\"type\":\"CDSView\"},{\"attributes\":{\"data\":{\"x\":{\"__ndarray__\":\"AACARzYJd0IAAECtiAl3QgAAABPbCXdCAADAeC0Kd0IAAIDefwp3QgAAQETSCndCAAAAqiQLd0IAAMAPdwt3QgAAgHXJC3dCAABA2xsMd0IAAABBbgx3QgAAwKbADHdCAACADBMNd0IAAEByZQ13QgAAANi3DXdCAADAPQoOd0IAAICjXA53QgAAQAmvDndCAAAAbwEPd0IAAMDUUw93QgAAgDqmD3dCAABAoPgPd0IAAAAGSxB3QgAAwGudEHdCAACA0e8Qd0IAAEA3QhF3QgAAAJ2UEXdCAADAAucRd0IAAIBoORJ3QgAAQM6LEndCAAAANN4Sd0IAAMCZMBN3QgAAgP+CE3dCAABAZdUTd0IAAADLJxR3QgAAwDB6FHdCAACAlswUd0IAAED8HhV3QgAAAGJxFXdCAADAx8MVd0IAAIAtFhZ3QgAAQJNoFndCAAAA+boWd0IAAMBeDRd3QgAAgMRfF3dCAABAKrIXd0IAAACQBBh3QgAAwPVWGHdCAACAW6kYd0IAAEDB+xh3QgAAACdOGXdCAADAjKAZd0IAAIDy8hl3QgAAQFhFGndCAAAAvpcad0IAAMAj6hp3QgAAgIk8G3dCAABA744bd0IAAABV4Rt3QgAAwLozHHdCAACAIIYcd0IAAECG2Bx3QgAAAOwqHXdCAADAUX0dd0IAAIC3zx13QgAAQB0iHndCAAAAg3Qed0IAAMDoxh53QgAAgE4ZH3dCAABAtGsfd0IAAAAavh93QgAAwH8QIHdCAACA5WIgd0IAAEBLtSB3QgAAALEHIXdCAADAFlohd0IAAIB8rCF3QgAAQOL+IXdCAAAASFEid0IAAMCtoyJ3QgAAgBP2IndCAABAeUgjd0IAAADfmiN3QgAAwETtI3dCAACAqj8kd0IAAEAQkiR3QgAAAHbkJHdCAADA2zYld0IAAIBBiSV3QgAAQKfbJXdCAAAADS4md0IAAMBygCZ3QgAAgNjSJndCAABAPiUnd0IAAACkdyd3QgAAwAnKJ3dCAACAbxwod0IAAEDVbih3QgAAADvBKHdCAADAoBMpd0IAAIAGZil3QgAAQGy4KXdCAAAA0goqd0IAAMA3XSp3QgAAgJ2vKndCAABAAwIrd0IAAABpVCt3QgAAwM6mK3dCAACANPkrd0IAAECaSyx3QgAAAACeLHdCAADAZfAsd0IAAIDLQi13QgAAQDGVLXdCAAAAl+ctd0IAAMD8OS53QgAAgGKMLndCAABAyN4ud0IAAAAuMS93QgAAwJODL3dCAACA+dUvd0I=\",\"dtype\":\"float64\",\"shape\":[121]},\"y\":[0.9944315925511179,0.9898318473486883,0.9871737529160225,0.9879731207786646,0.9909413667306475,0.9915465082064858,0.9946223137354124,0.9967037909147167,0.9979386020865314,0.9934056192034189,0.9944759212851118,0.99592794927204,0.9961691617509991,0.9969301601706759,0.9971358976717425,0.9958902199710057,0.9941628915249575,0.9931255075470334,0.9933633510388306,0.994032100212956,0.994688474359967,0.9942027803878379,0.9922106418494722,0.9898164875978024,0.987197833918425,0.9853145617394674,0.9836046426669457,0.9819732775925107,0.9798470389854931,0.9766564879206877,0.9729539467769811,0.9696078326797823,0.9665104789691191,0.9636113947435441,0.9610596188506716,0.9585126958173368,0.9556308351154628,0.9522851555015911,0.9491538036081114,0.9464404471188844,0.9439487048383793,0.9420237466639323,0.940258800232746,0.9382296783763806,0.9359687894513932,0.933447173913058,0.9312433551574293,0.9291951107214425,0.92729667736873,0.9253753520687699,0.9231732416103402,0.9209547388156726,0.9189798622195995,0.9169730031158049,0.9150917132232076,0.9131160743539135,0.9110765084609139,0.9088212477657631,0.9065220214269978,0.9042067728939025,0.9018340114476103,0.8994612819721594,0.8970885321131469,0.8945857132675741,0.8919421368671772,0.8891542856798136,0.8863643767704429,0.8835768591867103,0.8807864010398864,0.8779416987522529,0.8749881786024294,0.8719376935045307,0.8689898101762707,0.8660095449268841,0.8630394684938316,0.8600376029800153,0.8570401188914588,0.8540065155215382,0.8508947024522553,0.8478118690058419,0.8447275988996619,0.8416449443222731,0.8385742203009493,0.8355259648526927,0.8324728271586163,0.8293683451529894,0.8262465535831918,0.8231585041949218,0.8201092523308423,0.8170837592756848,0.8140631580546553,0.8110388571050465,0.807977301797912,0.8049171443078778,0.8018636321406905,0.7987896809369919,0.7957742179589785,0.792764128256589,0.7897475926081354,0.786746272656691,0.7837633054925285,0.7807841531457058,0.7778481099427089,0.7749114666047064,0.7720142545885778,0.7691550857635778,0.7663268635910401,0.7635123450119147,0.7607363340920518,0.7579994108236128,0.7552092551793972,0.7524505518009303,0.7497159874139115,0.7470056992780088,0.7443000682032053]},\"selected\":{\"id\":\"12509\"},\"selection_policy\":{\"id\":\"12510\"}},\"id\":\"12492\",\"type\":\"ColumnDataSource\"},{\"attributes\":{\"data\":{\"x\":{\"__ndarray__\":\"AACARzYJd0IAAECtiAl3QgAAABPbCXdCAADAeC0Kd0IAAIDefwp3QgAAQETSCndCAAAAqiQLd0IAAMAPdwt3QgAAgHXJC3dCAABA2xsMd0IAAABBbgx3QgAAwKbADHdCAACADBMNd0IAAEByZQ13QgAAANi3DXdCAADAPQoOd0IAAICjXA53QgAAQAmvDndCAAAAbwEPd0IAAMDUUw93QgAAgDqmD3dCAABAoPgPd0IAAAAGSxB3QgAAwGudEHdCAACA0e8Qd0IAAEA3QhF3QgAAAJ2UEXdCAADAAucRd0IAAIBoORJ3QgAAQM6LEndCAAAANN4Sd0IAAMCZMBN3QgAAgP+CE3dCAABAZdUTd0IAAADLJxR3QgAAwDB6FHdCAACAlswUd0IAAED8HhV3QgAAAGJxFXdCAADAx8MVd0IAAIAtFhZ3QgAAQJNoFndCAAAA+boWd0IAAMBeDRd3QgAAgMRfF3dCAABAKrIXd0IAAACQBBh3QgAAwPVWGHdCAACAW6kYd0IAAEDB+xh3QgAAACdOGXdCAADAjKAZd0IAAIDy8hl3QgAAQFhFGndCAAAAvpcad0IAAMAj6hp3QgAAgIk8G3dCAABA744bd0IAAABV4Rt3QgAAwLozHHdCAACAIIYcd0IAAECG2Bx3QgAAAOwqHXdCAADAUX0dd0IAAIC3zx13QgAAQB0iHndCAAAAg3Qed0IAAMDoxh53QgAAgE4ZH3dCAABAtGsfd0IAAAAavh93QgAAwH8QIHdCAACA5WIgd0IAAEBLtSB3QgAAALEHIXdCAADAFlohd0IAAIB8rCF3QgAAQOL+IXdCAAAASFEid0IAAMCtoyJ3QgAAgBP2IndCAABAeUgjd0IAAADfmiN3QgAAwETtI3dCAACAqj8kd0IAAEAQkiR3QgAAAHbkJHdCAADA2zYld0IAAIBBiSV3QgAAQKfbJXdCAAAADS4md0IAAMBygCZ3QgAAgNjSJndCAABAPiUnd0IAAACkdyd3QgAAwAnKJ3dCAACAbxwod0IAAEDVbih3QgAAADvBKHdCAADAoBMpd0IAAIAGZil3QgAAQGy4KXdCAAAA0goqd0IAAMA3XSp3QgAAgJ2vKndCAABAAwIrd0IAAABpVCt3QgAAwM6mK3dCAACANPkrd0IAAECaSyx3QgAAAACeLHdCAADAZfAsd0IAAIDLQi13QgAAQDGVLXdCAAAAl+ctd0IAAMD8OS53QgAAgGKMLndCAABAyN4ud0IAAAAuMS93QgAAwJODL3dCAACA+dUvd0I=\",\"dtype\":\"float64\",\"shape\":[121]},\"y\":[0.9906384833099334,0.9876702701263628,0.986034206451665,0.9937023701385499,0.9970511977507855,0.9979544752352847,0.9913778365717426,0.9929248433250588,0.9957403179282476,0.9977413133698139,0.9985366218172942,0.9969106059526226,0.996211572251712,0.9909112544567887,0.9925418195655226,0.9932047921984762,0.9924285278783038,0.9930340764201312,0.9923577489344909,0.9932926697800687,0.9948845546297247,0.9950079961757051,0.9935421243409132,0.9923519864209975,0.9905689301056676,0.9882674204511754,0.9878264212632235,0.9873989916144827,0.9860735965572663,0.9845430102319735,0.9830060388504964,0.9809094757488263,0.9787131870741717,0.9765424924030026,0.9740607080719607,0.9707721359330386,0.9675980745847533,0.9644603235650501,0.9611847156868383,0.9581929227609429,0.9553138048152379,0.9527668866041618,0.949832519376967,0.9471741782289388,0.9448856132660635,0.9428262702142188,0.9408090496270258,0.9390094702651643,0.9371368895937208,0.9351084492759572,0.9330557612153584,0.9312289735564631,0.9293543463395025,0.9275386266286831,0.9256884677837561,0.923825484706234,0.9216168769019616,0.9193267564535198,0.9171080210761422,0.9148403674368056,0.9124738376193,0.9100150508583008,0.9079318355263625,0.9055617444260692,0.9030142411545999,0.9004203648795525,0.8980689816751007,0.895753592355098,0.8934258167984068,0.8910112034278967,0.8884835555981856,0.8858991595144673,0.8832672224045979,0.8806489898317053,0.8781735601338101,0.875798568138153,0.8733701733341191,0.8708924136063186,0.868304639054517,0.8657347591288924,0.8631886604807198,0.8606646697392588,0.858127410712821,0.8555693576054788,0.852892171710644,0.8501818039869902,0.8474274701530655,0.844700900642225,0.8419345520946966,0.8391646559956998,0.8364338566397378,0.8336910711516987,0.8309211457595196,0.8281248123000429,0.8253329993158202,0.8225748810114298,0.8198481378354814,0.8171364351895642,0.8144164389141544,0.8117098496622602,0.8090390142962303,0.8063941173576937,0.8037525871249604,0.8011218929019263,0.798534052945386,0.7959443157297019,0.7933324930099895,0.7907137868390863,0.7881034028225027,0.7855332424297904,0.782979060796708,0.780445007608978,0.7779009250870768,0.7753487688829088,0.7727853047065396]},\"selected\":{\"id\":\"12909\"},\"selection_policy\":{\"id\":\"12910\"}},\"id\":\"12525\",\"type\":\"ColumnDataSource\"},{\"attributes\":{\"data_source\":{\"id\":\"12492\"},\"glyph\":{\"id\":\"12493\"},\"hover_glyph\":null,\"muted_glyph\":null,\"nonselection_glyph\":{\"id\":\"12494\"},\"selection_glyph\":null,\"view\":{\"id\":\"12496\"}},\"id\":\"12495\",\"type\":\"GlyphRenderer\"},{\"attributes\":{\"use_scientific\":false},\"id\":\"12532\",\"type\":\"BasicTickFormatter\"},{\"attributes\":{},\"id\":\"12450\",\"type\":\"BasicTicker\"},{\"attributes\":{\"label\":{\"value\":\"R_squared_cases\"},\"renderers\":[{\"id\":\"12470\"}]},\"id\":\"12491\",\"type\":\"LegendItem\"},{\"attributes\":{\"data\":{\"x\":{\"__ndarray__\":\"AACARzYJd0IAAECtiAl3QgAAABPbCXdCAADAeC0Kd0IAAIDefwp3QgAAQETSCndCAAAAqiQLd0IAAMAPdwt3QgAAgHXJC3dCAABA2xsMd0IAAABBbgx3QgAAwKbADHdCAACADBMNd0IAAEByZQ13QgAAANi3DXdCAADAPQoOd0IAAICjXA53QgAAQAmvDndCAAAAbwEPd0IAAMDUUw93QgAAgDqmD3dCAABAoPgPd0IAAAAGSxB3QgAAwGudEHdCAACA0e8Qd0IAAEA3QhF3QgAAAJ2UEXdCAADAAucRd0IAAIBoORJ3QgAAQM6LEndCAAAANN4Sd0IAAMCZMBN3QgAAgP+CE3dCAABAZdUTd0IAAADLJxR3QgAAwDB6FHdCAACAlswUd0IAAED8HhV3QgAAAGJxFXdCAADAx8MVd0IAAIAtFhZ3QgAAQJNoFndCAAAA+boWd0IAAMBeDRd3QgAAgMRfF3dCAABAKrIXd0IAAACQBBh3QgAAwPVWGHdCAACAW6kYd0IAAEDB+xh3QgAAACdOGXdCAADAjKAZd0IAAIDy8hl3QgAAQFhFGndCAAAAvpcad0IAAMAj6hp3QgAAgIk8G3dCAABA744bd0IAAABV4Rt3QgAAwLozHHdCAACAIIYcd0IAAECG2Bx3QgAAAOwqHXdCAADAUX0dd0IAAIC3zx13QgAAQB0iHndCAAAAg3Qed0IAAMDoxh53QgAAgE4ZH3dCAABAtGsfd0IAAAAavh93QgAAwH8QIHdCAACA5WIgd0IAAEBLtSB3QgAAALEHIXdCAADAFlohd0IAAIB8rCF3QgAAQOL+IXdCAAAASFEid0IAAMCtoyJ3QgAAgBP2IndCAABAeUgjd0IAAADfmiN3QgAAwETtI3dCAACAqj8kd0IAAEAQkiR3QgAAAHbkJHdCAADA2zYld0IAAIBBiSV3QgAAQKfbJXdCAAAADS4md0IAAMBygCZ3QgAAgNjSJndCAABAPiUnd0IAAACkdyd3QgAAwAnKJ3dCAACAbxwod0IAAEDVbih3QgAAADvBKHdCAADAoBMpd0IAAIAGZil3QgAAQGy4KXdCAAAA0goqd0IAAMA3XSp3QgAAgJ2vKndCAABAAwIrd0IAAABpVCt3QgAAwM6mK3dCAACANPkrd0IAAECaSyx3QgAAAACeLHdCAADAZfAsd0IAAIDLQi13QgAAQDGVLXdCAAAAl+ctd0IAAMD8OS53QgAAgGKMLndCAABAyN4ud0IAAAAuMS93QgAAwJODL3dCAACA+dUvd0I=\",\"dtype\":\"float64\",\"shape\":[121]},\"y\":[0.9944315925511179,0.9898318473486883,0.9871737529160225,0.9879731207786646,0.9909413667306475,0.9915465082064858,0.9946223137354124,0.9967037909147167,0.9979386020865314,0.9934056192034189,0.9944759212851118,0.99592794927204,0.9961691617509991,0.9969301601706759,0.9971358976717425,0.9958902199710057,0.9941628915249575,0.9931255075470334,0.9933633510388306,0.994032100212956,0.994688474359967,0.9942027803878379,0.9922106418494722,0.9898164875978024,0.987197833918425,0.9853145617394674,0.9836046426669457,0.9819732775925107,0.9798470389854931,0.9766564879206877,0.9729539467769811,0.9696078326797823,0.9665104789691191,0.9636113947435441,0.9610596188506716,0.9585126958173368,0.9556308351154628,0.9522851555015911,0.9491538036081114,0.9464404471188844,0.9439487048383793,0.9420237466639323,0.940258800232746,0.9382296783763806,0.9359687894513932,0.933447173913058,0.9312433551574293,0.9291951107214425,0.92729667736873,0.9253753520687699,0.9231732416103402,0.9209547388156726,0.9189798622195995,0.9169730031158049,0.9150917132232076,0.9131160743539135,0.9110765084609139,0.9088212477657631,0.9065220214269978,0.9042067728939025,0.9018340114476103,0.8994612819721594,0.8970885321131469,0.8945857132675741,0.8919421368671772,0.8891542856798136,0.8863643767704429,0.8835768591867103,0.8807864010398864,0.8779416987522529,0.8749881786024294,0.8719376935045307,0.8689898101762707,0.8660095449268841,0.8630394684938316,0.8600376029800153,0.8570401188914588,0.8540065155215382,0.8508947024522553,0.8478118690058419,0.8447275988996619,0.8416449443222731,0.8385742203009493,0.8355259648526927,0.8324728271586163,0.8293683451529894,0.8262465535831918,0.8231585041949218,0.8201092523308423,0.8170837592756848,0.8140631580546553,0.8110388571050465,0.807977301797912,0.8049171443078778,0.8018636321406905,0.7987896809369919,0.7957742179589785,0.792764128256589,0.7897475926081354,0.786746272656691,0.7837633054925285,0.7807841531457058,0.7778481099427089,0.7749114666047064,0.7720142545885778,0.7691550857635778,0.7663268635910401,0.7635123450119147,0.7607363340920518,0.7579994108236128,0.7552092551793972,0.7524505518009303,0.7497159874139115,0.7470056992780088,0.7443000682032053]},\"selected\":{\"id\":\"12507\"},\"selection_policy\":{\"id\":\"12508\"}},\"id\":\"12467\",\"type\":\"ColumnDataSource\"},{\"attributes\":{\"num_minor_ticks\":5,\"tickers\":[{\"id\":\"12477\"},{\"id\":\"12478\"},{\"id\":\"12479\"},{\"id\":\"12480\"},{\"id\":\"12481\"},{\"id\":\"12482\"},{\"id\":\"12483\"},{\"id\":\"12484\"},{\"id\":\"12485\"},{\"id\":\"12486\"},{\"id\":\"12487\"},{\"id\":\"12488\"}]},\"id\":\"12446\",\"type\":\"DatetimeTicker\"},{\"attributes\":{\"data_source\":{\"id\":\"12525\"},\"glyph\":{\"id\":\"12526\"},\"hover_glyph\":null,\"muted_glyph\":null,\"nonselection_glyph\":{\"id\":\"12527\"},\"selection_glyph\":null,\"view\":{\"id\":\"12529\"}},\"id\":\"12528\",\"type\":\"GlyphRenderer\"},{\"attributes\":{\"active_drag\":\"auto\",\"active_inspect\":\"auto\",\"active_multi\":null,\"active_scroll\":\"auto\",\"active_tap\":\"auto\",\"tools\":[{\"id\":\"12453\"},{\"id\":\"12454\"},{\"id\":\"12455\"},{\"id\":\"12456\"},{\"id\":\"12457\"},{\"id\":\"12458\"},{\"id\":\"12534\"}]},\"id\":\"12460\",\"type\":\"Toolbar\"},{\"attributes\":{\"months\":[0,1,2,3,4,5,6,7,8,9,10,11]},\"id\":\"12484\",\"type\":\"MonthsTicker\"},{\"attributes\":{\"line_color\":\"blue\",\"line_width\":4,\"x\":{\"field\":\"x\"},\"y\":{\"field\":\"y\"}},\"id\":\"12468\",\"type\":\"Line\"},{\"attributes\":{},\"id\":\"12510\",\"type\":\"UnionRenderers\"},{\"attributes\":{\"days\":[1,4,7,10,13,16,19,22,25,28]},\"id\":\"12481\",\"type\":\"DaysTicker\"},{\"attributes\":{\"fill_alpha\":{\"value\":0.1},\"fill_color\":{\"value\":\"white\"},\"line_alpha\":{\"value\":0.1},\"line_color\":{\"value\":\"darkviolet\"},\"size\":{\"units\":\"screen\",\"value\":5},\"x\":{\"field\":\"x\"},\"y\":{\"field\":\"y\"}},\"id\":\"12527\",\"type\":\"Circle\"},{\"attributes\":{},\"id\":\"12453\",\"type\":\"PanTool\"},{\"attributes\":{},\"id\":\"12907\",\"type\":\"Selection\"},{\"attributes\":{\"source\":{\"id\":\"12492\"}},\"id\":\"12496\",\"type\":\"CDSView\"},{\"attributes\":{\"mantissas\":[1,2,5],\"max_interval\":500.0,\"num_minor_ticks\":0},\"id\":\"12477\",\"type\":\"AdaptiveTicker\"},{\"attributes\":{\"base\":24,\"mantissas\":[1,2,4,6,8,12],\"max_interval\":43200000.0,\"min_interval\":3600000.0,\"num_minor_ticks\":0},\"id\":\"12479\",\"type\":\"AdaptiveTicker\"},{\"attributes\":{},\"id\":\"12454\",\"type\":\"WheelZoomTool\"},{\"attributes\":{\"base\":60,\"mantissas\":[1,2,5,10,15,20,30],\"max_interval\":1800000.0,\"min_interval\":1000.0,\"num_minor_ticks\":0},\"id\":\"12478\",\"type\":\"AdaptiveTicker\"},{\"attributes\":{\"fill_color\":{\"value\":\"white\"},\"line_color\":{\"value\":\"blue\"},\"size\":{\"units\":\"screen\",\"value\":5},\"x\":{\"field\":\"x\"},\"y\":{\"field\":\"y\"}},\"id\":\"12493\",\"type\":\"Circle\"},{\"attributes\":{\"days\":[\"%d %B\"]},\"id\":\"12530\",\"type\":\"DatetimeTickFormatter\"},{\"attributes\":{\"items\":[{\"id\":\"12491\"},{\"id\":\"12524\"}]},\"id\":\"12490\",\"type\":\"Legend\"},{\"attributes\":{\"source\":{\"id\":\"12525\"}},\"id\":\"12529\",\"type\":\"CDSView\"},{\"attributes\":{\"overlay\":{\"id\":\"12459\"}},\"id\":\"12455\",\"type\":\"BoxZoomTool\"},{\"attributes\":{\"axis_label\":\"Date\",\"formatter\":{\"id\":\"12530\"},\"major_label_orientation\":0.7853981633974483,\"minor_tick_in\":-5,\"minor_tick_out\":-3,\"ticker\":{\"id\":\"12446\"}},\"id\":\"12445\",\"type\":\"DatetimeAxis\"},{\"attributes\":{\"text\":\"Total Cases/Deaths Exponential Validity: Italy\"},\"id\":\"12435\",\"type\":\"Title\"},{\"attributes\":{\"data\":{\"x\":{\"__ndarray__\":\"AACARzYJd0IAAECtiAl3QgAAABPbCXdCAADAeC0Kd0IAAIDefwp3QgAAQETSCndCAAAAqiQLd0IAAMAPdwt3QgAAgHXJC3dCAABA2xsMd0IAAABBbgx3QgAAwKbADHdCAACADBMNd0IAAEByZQ13QgAAANi3DXdCAADAPQoOd0IAAICjXA53QgAAQAmvDndCAAAAbwEPd0IAAMDUUw93QgAAgDqmD3dCAABAoPgPd0IAAAAGSxB3QgAAwGudEHdCAACA0e8Qd0IAAEA3QhF3QgAAAJ2UEXdCAADAAucRd0IAAIBoORJ3QgAAQM6LEndCAAAANN4Sd0IAAMCZMBN3QgAAgP+CE3dCAABAZdUTd0IAAADLJxR3QgAAwDB6FHdCAACAlswUd0IAAED8HhV3QgAAAGJxFXdCAADAx8MVd0IAAIAtFhZ3QgAAQJNoFndCAAAA+boWd0IAAMBeDRd3QgAAgMRfF3dCAABAKrIXd0IAAACQBBh3QgAAwPVWGHdCAACAW6kYd0IAAEDB+xh3QgAAACdOGXdCAADAjKAZd0IAAIDy8hl3QgAAQFhFGndCAAAAvpcad0IAAMAj6hp3QgAAgIk8G3dCAABA744bd0IAAABV4Rt3QgAAwLozHHdCAACAIIYcd0IAAECG2Bx3QgAAAOwqHXdCAADAUX0dd0IAAIC3zx13QgAAQB0iHndCAAAAg3Qed0IAAMDoxh53QgAAgE4ZH3dCAABAtGsfd0IAAAAavh93QgAAwH8QIHdCAACA5WIgd0IAAEBLtSB3QgAAALEHIXdCAADAFlohd0IAAIB8rCF3QgAAQOL+IXdCAAAASFEid0IAAMCtoyJ3QgAAgBP2IndCAABAeUgjd0IAAADfmiN3QgAAwETtI3dCAACAqj8kd0IAAEAQkiR3QgAAAHbkJHdCAADA2zYld0IAAIBBiSV3QgAAQKfbJXdCAAAADS4md0IAAMBygCZ3QgAAgNjSJndCAABAPiUnd0IAAACkdyd3QgAAwAnKJ3dCAACAbxwod0IAAEDVbih3QgAAADvBKHdCAADAoBMpd0IAAIAGZil3QgAAQGy4KXdCAAAA0goqd0IAAMA3XSp3QgAAgJ2vKndCAABAAwIrd0IAAABpVCt3QgAAwM6mK3dCAACANPkrd0IAAECaSyx3QgAAAACeLHdCAADAZfAsd0IAAIDLQi13QgAAQDGVLXdCAAAAl+ctd0IAAMD8OS53QgAAgGKMLndCAABAyN4ud0IAAAAuMS93QgAAwJODL3dCAACA+dUvd0I=\",\"dtype\":\"float64\",\"shape\":[121]},\"y\":[0.9906384833099334,0.9876702701263628,0.986034206451665,0.9937023701385499,0.9970511977507855,0.9979544752352847,0.9913778365717426,0.9929248433250588,0.9957403179282476,0.9977413133698139,0.9985366218172942,0.9969106059526226,0.996211572251712,0.9909112544567887,0.9925418195655226,0.9932047921984762,0.9924285278783038,0.9930340764201312,0.9923577489344909,0.9932926697800687,0.9948845546297247,0.9950079961757051,0.9935421243409132,0.9923519864209975,0.9905689301056676,0.9882674204511754,0.9878264212632235,0.9873989916144827,0.9860735965572663,0.9845430102319735,0.9830060388504964,0.9809094757488263,0.9787131870741717,0.9765424924030026,0.9740607080719607,0.9707721359330386,0.9675980745847533,0.9644603235650501,0.9611847156868383,0.9581929227609429,0.9553138048152379,0.9527668866041618,0.949832519376967,0.9471741782289388,0.9448856132660635,0.9428262702142188,0.9408090496270258,0.9390094702651643,0.9371368895937208,0.9351084492759572,0.9330557612153584,0.9312289735564631,0.9293543463395025,0.9275386266286831,0.9256884677837561,0.923825484706234,0.9216168769019616,0.9193267564535198,0.9171080210761422,0.9148403674368056,0.9124738376193,0.9100150508583008,0.9079318355263625,0.9055617444260692,0.9030142411545999,0.9004203648795525,0.8980689816751007,0.895753592355098,0.8934258167984068,0.8910112034278967,0.8884835555981856,0.8858991595144673,0.8832672224045979,0.8806489898317053,0.8781735601338101,0.875798568138153,0.8733701733341191,0.8708924136063186,0.868304639054517,0.8657347591288924,0.8631886604807198,0.8606646697392588,0.858127410712821,0.8555693576054788,0.852892171710644,0.8501818039869902,0.8474274701530655,0.844700900642225,0.8419345520946966,0.8391646559956998,0.8364338566397378,0.8336910711516987,0.8309211457595196,0.8281248123000429,0.8253329993158202,0.8225748810114298,0.8198481378354814,0.8171364351895642,0.8144164389141544,0.8117098496622602,0.8090390142962303,0.8063941173576937,0.8037525871249604,0.8011218929019263,0.798534052945386,0.7959443157297019,0.7933324930099895,0.7907137868390863,0.7881034028225027,0.7855332424297904,0.782979060796708,0.780445007608978,0.7779009250870768,0.7753487688829088,0.7727853047065396]},\"selected\":{\"id\":\"12907\"},\"selection_policy\":{\"id\":\"12908\"}},\"id\":\"12497\",\"type\":\"ColumnDataSource\"},{\"attributes\":{},\"id\":\"12457\",\"type\":\"ResetTool\"},{\"attributes\":{\"bottom_units\":\"screen\",\"fill_alpha\":0.5,\"fill_color\":\"lightgrey\",\"left_units\":\"screen\",\"level\":\"overlay\",\"line_alpha\":1.0,\"line_color\":\"black\",\"line_dash\":[4,4],\"line_width\":2,\"render_mode\":\"css\",\"right_units\":\"screen\",\"top_units\":\"screen\"},\"id\":\"12459\",\"type\":\"BoxAnnotation\"},{\"attributes\":{\"days\":[1,8,15,22]},\"id\":\"12482\",\"type\":\"DaysTicker\"},{\"attributes\":{},\"id\":\"12456\",\"type\":\"SaveTool\"},{\"attributes\":{\"data_source\":{\"id\":\"12497\"},\"glyph\":{\"id\":\"12498\"},\"hover_glyph\":null,\"muted_glyph\":null,\"nonselection_glyph\":{\"id\":\"12499\"},\"selection_glyph\":null,\"view\":{\"id\":\"12501\"}},\"id\":\"12500\",\"type\":\"GlyphRenderer\"},{\"attributes\":{},\"id\":\"12488\",\"type\":\"YearsTicker\"},{\"attributes\":{\"callback\":null,\"formatters\":{\"@x\":\"datetime\"},\"mode\":\"vline\",\"tooltips\":[[\"date\",\"@x{%d %B}\"],[\"R_squared_cases/deaths\",\"@y{0[.]000}\"]]},\"id\":\"12534\",\"type\":\"HoverTool\"},{\"attributes\":{\"fill_alpha\":{\"value\":0.1},\"fill_color\":{\"value\":\"white\"},\"line_alpha\":{\"value\":0.1},\"line_color\":{\"value\":\"blue\"},\"size\":{\"units\":\"screen\",\"value\":5},\"x\":{\"field\":\"x\"},\"y\":{\"field\":\"y\"}},\"id\":\"12494\",\"type\":\"Circle\"},{\"attributes\":{},\"id\":\"12443\",\"type\":\"LinearScale\"},{\"attributes\":{\"source\":{\"id\":\"12497\"}},\"id\":\"12501\",\"type\":\"CDSView\"},{\"attributes\":{},\"id\":\"12458\",\"type\":\"HelpTool\"},{\"attributes\":{},\"id\":\"12507\",\"type\":\"Selection\"},{\"attributes\":{\"line_alpha\":0.1,\"line_color\":\"darkviolet\",\"line_width\":4,\"x\":{\"field\":\"x\"},\"y\":{\"field\":\"y\"}},\"id\":\"12499\",\"type\":\"Line\"},{\"attributes\":{\"line_color\":\"darkviolet\",\"line_width\":4,\"x\":{\"field\":\"x\"},\"y\":{\"field\":\"y\"}},\"id\":\"12498\",\"type\":\"Line\"},{\"attributes\":{},\"id\":\"12909\",\"type\":\"Selection\"},{\"attributes\":{\"months\":[0,2,4,6,8,10]},\"id\":\"12485\",\"type\":\"MonthsTicker\"},{\"attributes\":{\"line_alpha\":0.1,\"line_color\":\"blue\",\"line_width\":4,\"x\":{\"field\":\"x\"},\"y\":{\"field\":\"y\"}},\"id\":\"12469\",\"type\":\"Line\"},{\"attributes\":{\"label\":{\"value\":\"R_squared_deaths\"},\"renderers\":[{\"id\":\"12500\"}]},\"id\":\"12524\",\"type\":\"LegendItem\"},{\"attributes\":{\"months\":[0,4,8]},\"id\":\"12486\",\"type\":\"MonthsTicker\"},{\"attributes\":{\"axis\":{\"id\":\"12445\"},\"ticker\":null},\"id\":\"12448\",\"type\":\"Grid\"},{\"attributes\":{},\"id\":\"12508\",\"type\":\"UnionRenderers\"},{\"attributes\":{\"months\":[0,6]},\"id\":\"12487\",\"type\":\"MonthsTicker\"},{\"attributes\":{},\"id\":\"12439\",\"type\":\"DataRange1d\"},{\"attributes\":{},\"id\":\"12509\",\"type\":\"Selection\"},{\"attributes\":{},\"id\":\"12908\",\"type\":\"UnionRenderers\"},{\"attributes\":{},\"id\":\"12910\",\"type\":\"UnionRenderers\"},{\"attributes\":{\"days\":[1,2,3,4,5,6,7,8,9,10,11,12,13,14,15,16,17,18,19,20,21,22,23,24,25,26,27,28,29,30,31]},\"id\":\"12480\",\"type\":\"DaysTicker\"},{\"attributes\":{\"days\":[1,15]},\"id\":\"12483\",\"type\":\"DaysTicker\"},{\"attributes\":{\"axis\":{\"id\":\"12449\"},\"dimension\":1,\"ticker\":null},\"id\":\"12452\",\"type\":\"Grid\"},{\"attributes\":{\"axis_label\":\"R_squared\",\"formatter\":{\"id\":\"12532\"},\"minor_tick_in\":-5,\"minor_tick_out\":-3,\"ticker\":{\"id\":\"12450\"}},\"id\":\"12449\",\"type\":\"LinearAxis\"}],\"root_ids\":[\"12434\"]},\"title\":\"Bokeh Application\",\"version\":\"2.0.2\"}};\n",
       "  var render_items = [{\"docid\":\"13675534-2681-4cc2-a2b4-35dfbde842d7\",\"root_ids\":[\"12434\"],\"roots\":{\"12434\":\"d6f633fd-36c6-4a5c-8fda-ab2a6d5a346a\"}}];\n",
       "  root.Bokeh.embed.embed_items_notebook(docs_json, render_items);\n",
       "\n",
       "  }\n",
       "  if (root.Bokeh !== undefined) {\n",
       "    embed_document(root);\n",
       "  } else {\n",
       "    var attempts = 0;\n",
       "    var timer = setInterval(function(root) {\n",
       "      if (root.Bokeh !== undefined) {\n",
       "        clearInterval(timer);\n",
       "        embed_document(root);\n",
       "      } else {\n",
       "        attempts++;\n",
       "        if (attempts > 100) {\n",
       "          clearInterval(timer);\n",
       "          console.log(\"Bokeh: ERROR: Unable to run BokehJS code because BokehJS library is missing\");\n",
       "        }\n",
       "      }\n",
       "    }, 10, root)\n",
       "  }\n",
       "})(window);"
      ],
      "application/vnd.bokehjs_exec.v0+json": ""
     },
     "metadata": {
      "application/vnd.bokehjs_exec.v0+json": {
       "id": "12434"
      }
     },
     "output_type": "display_data"
    }
   ],
   "source": [
    "p_total_cases_deaths_exp_val_Italy = bokeh_plot_N_lines(x=time_date_new + 6, y_list=[R_2_cases, R_2_deaths], \n",
    "                  title='Total Cases/Deaths Exponential Validity: Italy', \n",
    "                  dim=[600, 450], \n",
    "                  x_label='Date', \n",
    "                  y_label='R_squared', legend_list=['R_squared_cases', 'R_squared_deaths'],\n",
    "                  x_label_hover='date', y_label_hover='R_squared_cases/deaths',\n",
    "                  color_list=['blue', 'darkviolet'],legend_location=\"top_right\", y_minmax=None)\n",
    "\n",
    "output_file(\"total_cases_deaths_exponential_validity_Italy.html\")\n",
    "\n",
    "show(p_total_cases_deaths_exp_val_Italy)"
   ]
  },
  {
   "cell_type": "markdown",
   "metadata": {},
   "source": [
    "--------------------"
   ]
  },
  {
   "cell_type": "code",
   "execution_count": 60,
   "metadata": {},
   "outputs": [],
   "source": [
    "R_2_guariti = []\n",
    "Correlation_A_B = []\n",
    "iii = 7\n",
    "\n",
    "while(iii <= len(guariti_italy)):\n",
    "    fit_range = iii   # best fit when fit_range = 28 namely March 22\n",
    "    xdata = np.linspace(0, fit_range, fit_range)\n",
    "    init_guess = [5000, 0.001]\n",
    "    fit = curve_fit(model_exp, xdata, guariti_italy.loc[0:(fit_range-1)], p0=init_guess)\n",
    "    ans, cov = fit\n",
    "    fit_a, fit_b = ans\n",
    "    fit_a, fit_b\n",
    "    ydata = model_exp(xdata,fit_a,fit_b)\n",
    "    residuals = guariti_italy.loc[0:(fit_range-1)] - ydata  #  Calculation of R^2\n",
    "    ss_res = np.sum(residuals**2)\n",
    "    ss_tot = np.sum((guariti_italy.loc[0:(fit_range-1)] - np.mean(guariti_italy.loc[0:(fit_range-1)]))**2)\n",
    "    r_squared = 1 - (ss_res / ss_tot)\n",
    "    R_2_guariti.append(r_squared)\n",
    "    correlation_ab = - cov[0,1] / (np.sqrt(np.diag(cov)[0] * np.diag(cov)[1]))\n",
    "    Correlation_A_B.append(correlation_ab)\n",
    "    iii = iii + 1"
   ]
  },
  {
   "cell_type": "code",
   "execution_count": 61,
   "metadata": {},
   "outputs": [
    {
     "name": "stderr",
     "output_type": "stream",
     "text": [
      "BokehUserWarning: ColumnDataSource's columns must be of the same length. Current lengths: ('x', 121), ('y', 115)\n",
      "BokehUserWarning: ColumnDataSource's columns must be of the same length. Current lengths: ('x', 121), ('y', 115)\n",
      "BokehUserWarning: ColumnDataSource's columns must be of the same length. Current lengths: ('x', 121), ('y', 115)\n",
      "BokehUserWarning: ColumnDataSource's columns must be of the same length. Current lengths: ('x', 121), ('y', 115)\n"
     ]
    },
    {
     "data": {
      "text/html": [
       "\n",
       "\n",
       "\n",
       "\n",
       "\n",
       "\n",
       "  <div class=\"bk-root\" id=\"5c361be0-d45e-4157-8de4-88b43688f573\" data-root-id=\"13381\"></div>\n"
      ]
     },
     "metadata": {},
     "output_type": "display_data"
    },
    {
     "data": {
      "application/javascript": [
       "(function(root) {\n",
       "  function embed_document(root) {\n",
       "    \n",
       "  var docs_json = {\"40391efe-b4eb-4907-9305-676ca5a998d2\":{\"roots\":{\"references\":[{\"attributes\":{\"below\":[{\"id\":\"13392\"}],\"center\":[{\"id\":\"13395\"},{\"id\":\"13399\"},{\"id\":\"13437\"}],\"left\":[{\"id\":\"13396\"}],\"plot_height\":450,\"renderers\":[{\"id\":\"13417\"},{\"id\":\"13442\"},{\"id\":\"13447\"},{\"id\":\"13475\"}],\"title\":{\"id\":\"13382\"},\"toolbar\":{\"id\":\"13407\"},\"x_range\":{\"id\":\"13384\"},\"x_scale\":{\"id\":\"13388\"},\"y_range\":{\"id\":\"13386\"},\"y_scale\":{\"id\":\"13390\"}},\"id\":\"13381\",\"subtype\":\"Figure\",\"type\":\"Plot\"},{\"attributes\":{},\"id\":\"13456\",\"type\":\"Selection\"},{\"attributes\":{\"axis\":{\"id\":\"13392\"},\"ticker\":null},\"id\":\"13395\",\"type\":\"Grid\"},{\"attributes\":{\"line_alpha\":0.1,\"line_color\":\"green\",\"line_width\":4,\"x\":{\"field\":\"x\"},\"y\":{\"field\":\"y\"}},\"id\":\"13416\",\"type\":\"Line\"},{\"attributes\":{\"source\":{\"id\":\"13414\"}},\"id\":\"13418\",\"type\":\"CDSView\"},{\"attributes\":{\"fill_color\":{\"value\":\"white\"},\"line_color\":{\"value\":\"green\"},\"size\":{\"units\":\"screen\",\"value\":5},\"x\":{\"field\":\"x\"},\"y\":{\"field\":\"y\"}},\"id\":\"13440\",\"type\":\"Circle\"},{\"attributes\":{},\"id\":\"13457\",\"type\":\"UnionRenderers\"},{\"attributes\":{\"axis\":{\"id\":\"13396\"},\"dimension\":1,\"ticker\":null},\"id\":\"13399\",\"type\":\"Grid\"},{\"attributes\":{\"data\":{\"x\":{\"__ndarray__\":\"AACARzYJd0IAAECtiAl3QgAAABPbCXdCAADAeC0Kd0IAAIDefwp3QgAAQETSCndCAAAAqiQLd0IAAMAPdwt3QgAAgHXJC3dCAABA2xsMd0IAAABBbgx3QgAAwKbADHdCAACADBMNd0IAAEByZQ13QgAAANi3DXdCAADAPQoOd0IAAICjXA53QgAAQAmvDndCAAAAbwEPd0IAAMDUUw93QgAAgDqmD3dCAABAoPgPd0IAAAAGSxB3QgAAwGudEHdCAACA0e8Qd0IAAEA3QhF3QgAAAJ2UEXdCAADAAucRd0IAAIBoORJ3QgAAQM6LEndCAAAANN4Sd0IAAMCZMBN3QgAAgP+CE3dCAABAZdUTd0IAAADLJxR3QgAAwDB6FHdCAACAlswUd0IAAED8HhV3QgAAAGJxFXdCAADAx8MVd0IAAIAtFhZ3QgAAQJNoFndCAAAA+boWd0IAAMBeDRd3QgAAgMRfF3dCAABAKrIXd0IAAACQBBh3QgAAwPVWGHdCAACAW6kYd0IAAEDB+xh3QgAAACdOGXdCAADAjKAZd0IAAIDy8hl3QgAAQFhFGndCAAAAvpcad0IAAMAj6hp3QgAAgIk8G3dCAABA744bd0IAAABV4Rt3QgAAwLozHHdCAACAIIYcd0IAAECG2Bx3QgAAAOwqHXdCAADAUX0dd0IAAIC3zx13QgAAQB0iHndCAAAAg3Qed0IAAMDoxh53QgAAgE4ZH3dCAABAtGsfd0IAAAAavh93QgAAwH8QIHdCAACA5WIgd0IAAEBLtSB3QgAAALEHIXdCAADAFlohd0IAAIB8rCF3QgAAQOL+IXdCAAAASFEid0IAAMCtoyJ3QgAAgBP2IndCAABAeUgjd0IAAADfmiN3QgAAwETtI3dCAACAqj8kd0IAAEAQkiR3QgAAAHbkJHdCAADA2zYld0IAAIBBiSV3QgAAQKfbJXdCAAAADS4md0IAAMBygCZ3QgAAgNjSJndCAABAPiUnd0IAAACkdyd3QgAAwAnKJ3dCAACAbxwod0IAAEDVbih3QgAAADvBKHdCAADAoBMpd0IAAIAGZil3QgAAQGy4KXdCAAAA0goqd0IAAMA3XSp3QgAAgJ2vKndCAABAAwIrd0IAAABpVCt3QgAAwM6mK3dCAACANPkrd0IAAECaSyx3QgAAAACeLHdCAADAZfAsd0IAAIDLQi13QgAAQDGVLXdCAAAAl+ctd0IAAMD8OS53QgAAgGKMLndCAABAyN4ud0IAAAAuMS93QgAAwJODL3dCAACA+dUvd0I=\",\"dtype\":\"float64\",\"shape\":[121]},\"y\":[0.8606481598394683,0.9471173938556658,0.9360911279420753,0.9714690580202313,0.9878007496262176,0.9884028491325129,0.9737095608712864,0.950129573047173,0.9474586811076524,0.9666768419691317,0.9658577874885119,0.9724140849805707,0.9763897317383651,0.9834379682925372,0.9890235515610548,0.9924406618242618,0.989816741999947,0.9921702793313502,0.9937454318804336,0.9945507685487721,0.9957720823208889,0.9964565194119556,0.992972429394026,0.9912159179141088,0.990758065554159,0.9902870260138735,0.9873582845426842,0.9876274727514551,0.9855575962352924,0.9861611703161747,0.9860563306981559,0.9854629750783211,0.985418780114212,0.9856008321068747,0.9851952730138245,0.9833282330199984,0.9811142645991496,0.9800447585020177,0.9805734317474694,0.9815490832902357,0.9826117648897318,0.98367923585059,0.9841889379349255,0.9837222896530314,0.9831395008139059,0.9815460633282107,0.9806663783128649,0.980694863333348,0.9808726854803773,0.9810329377754993,0.9808918984127557,0.9811961160998607,0.9818480551570032,0.9826863064941808,0.9835138836865019,0.9841358137509889,0.9841789078633206,0.9836939231363766,0.9831376121102836,0.9825179613737066,0.9829079161791275,0.9829729695921392,0.9825046031593785,0.9816427493213683,0.9802331679101273,0.9789441087335161,0.979799959618488,0.9804583566733469,0.9808623878006852,0.9813851613404979,0.9814954845116408,0.9810371567380703,0.9804262518199361,0.9800013745173415,0.979502354520762,0.9794995183201429,0.9792978225698306,0.978873388710861,0.9782131164464811,0.9773431417511275,0.9765117443872783,0.9755649908022141,0.9745001848019995,0.9733352889282131,0.9719747662835253,0.9704247646097638,0.9690238111867877,0.9676952469672493,0.9666801744582063,0.9656393259166077,0.9647036535325406,0.9636622990059924,0.9623120358987169,0.9609008950662642,0.9592470063373569,0.9574160300507688,0.9556511259989501,0.9538203659941833,0.9518210779224072,0.9496803517919288,0.9477185274309496,0.9457510155615758,0.9438094298762447,0.9419719395532088,0.9402384461248768,0.9385456032380411,0.936718779687741,0.934957539813754,0.9331425907637588,0.9313179521274131,0.9295445617122824,0.9276625667092279,0.9256677990900561,0.923595319805072,0.9215805316656552]},\"selected\":{\"id\":\"13456\"},\"selection_policy\":{\"id\":\"13457\"}},\"id\":\"13439\",\"type\":\"ColumnDataSource\"},{\"attributes\":{},\"id\":\"13397\",\"type\":\"BasicTicker\"},{\"attributes\":{\"axis_label\":\"R_squared\",\"formatter\":{\"id\":\"13479\"},\"minor_tick_in\":-5,\"minor_tick_out\":-3,\"ticker\":{\"id\":\"13397\"}},\"id\":\"13396\",\"type\":\"LinearAxis\"},{\"attributes\":{\"data_source\":{\"id\":\"13472\"},\"glyph\":{\"id\":\"13473\"},\"hover_glyph\":null,\"muted_glyph\":null,\"nonselection_glyph\":{\"id\":\"13474\"},\"selection_glyph\":null,\"view\":{\"id\":\"13476\"}},\"id\":\"13475\",\"type\":\"GlyphRenderer\"},{\"attributes\":{\"data_source\":{\"id\":\"13439\"},\"glyph\":{\"id\":\"13440\"},\"hover_glyph\":null,\"muted_glyph\":null,\"nonselection_glyph\":{\"id\":\"13441\"},\"selection_glyph\":null,\"view\":{\"id\":\"13443\"}},\"id\":\"13442\",\"type\":\"GlyphRenderer\"},{\"attributes\":{\"data\":{\"x\":{\"__ndarray__\":\"AACARzYJd0IAAECtiAl3QgAAABPbCXdCAADAeC0Kd0IAAIDefwp3QgAAQETSCndCAAAAqiQLd0IAAMAPdwt3QgAAgHXJC3dCAABA2xsMd0IAAABBbgx3QgAAwKbADHdCAACADBMNd0IAAEByZQ13QgAAANi3DXdCAADAPQoOd0IAAICjXA53QgAAQAmvDndCAAAAbwEPd0IAAMDUUw93QgAAgDqmD3dCAABAoPgPd0IAAAAGSxB3QgAAwGudEHdCAACA0e8Qd0IAAEA3QhF3QgAAAJ2UEXdCAADAAucRd0IAAIBoORJ3QgAAQM6LEndCAAAANN4Sd0IAAMCZMBN3QgAAgP+CE3dCAABAZdUTd0IAAADLJxR3QgAAwDB6FHdCAACAlswUd0IAAED8HhV3QgAAAGJxFXdCAADAx8MVd0IAAIAtFhZ3QgAAQJNoFndCAAAA+boWd0IAAMBeDRd3QgAAgMRfF3dCAABAKrIXd0IAAACQBBh3QgAAwPVWGHdCAACAW6kYd0IAAEDB+xh3QgAAACdOGXdCAADAjKAZd0IAAIDy8hl3QgAAQFhFGndCAAAAvpcad0IAAMAj6hp3QgAAgIk8G3dCAABA744bd0IAAABV4Rt3QgAAwLozHHdCAACAIIYcd0IAAECG2Bx3QgAAAOwqHXdCAADAUX0dd0IAAIC3zx13QgAAQB0iHndCAAAAg3Qed0IAAMDoxh53QgAAgE4ZH3dCAABAtGsfd0IAAAAavh93QgAAwH8QIHdCAACA5WIgd0IAAEBLtSB3QgAAALEHIXdCAADAFlohd0IAAIB8rCF3QgAAQOL+IXdCAAAASFEid0IAAMCtoyJ3QgAAgBP2IndCAABAeUgjd0IAAADfmiN3QgAAwETtI3dCAACAqj8kd0IAAEAQkiR3QgAAAHbkJHdCAADA2zYld0IAAIBBiSV3QgAAQKfbJXdCAAAADS4md0IAAMBygCZ3QgAAgNjSJndCAABAPiUnd0IAAACkdyd3QgAAwAnKJ3dCAACAbxwod0IAAEDVbih3QgAAADvBKHdCAADAoBMpd0IAAIAGZil3QgAAQGy4KXdCAAAA0goqd0IAAMA3XSp3QgAAgJ2vKndCAABAAwIrd0IAAABpVCt3QgAAwM6mK3dCAACANPkrd0IAAECaSyx3QgAAAACeLHdCAADAZfAsd0IAAIDLQi13QgAAQDGVLXdCAAAAl+ctd0IAAMD8OS53QgAAgGKMLndCAABAyN4ud0IAAAAuMS93QgAAwJODL3dCAACA+dUvd0I=\",\"dtype\":\"float64\",\"shape\":[121]},\"y\":[0.9771737962977108,0.9871615847539023,0.9829343955368651,0.9884468542317343,0.9913441858825804,0.9908921286043308,0.9888985316298194,0.9861518153159629,0.9847892439157601,0.9867356646622251,0.9859275251425523,0.9861682215239759,0.9862796303827647,0.9886114928781847,0.9899348507434925,0.9906863298064612,0.9903022966017481,0.991800806880214,0.99206010826089,0.9922307343012302,0.9925712978323876,0.9928241151397788,0.9924576224403759,0.9922179392281737,0.9921028006742135,0.9919828782924789,0.9916095077978972,0.9915283386301457,0.9912125473762785,0.9911568123674873,0.9910332623071504,0.9908603681729753,0.9907466623164833,0.9906650655547475,0.9905235778178821,0.9902382551988185,0.9899119104059608,0.9896740937047024,0.9895950945330856,0.9895826553354071,0.9895996314665343,0.98963650133897,0.9896153477359121,0.9894863995087565,0.9893436202081626,0.9891018011342649,0.9889189345421027,0.9888276337033661,0.9887565402945742,0.9886891883561718,0.98859123703846,0.9885463341643794,0.9885522359563569,0.9885939302294591,0.9886456903811286,0.9886774429358693,0.9886375229715909,0.988536744938969,0.9884270502635595,0.9883080318639805,0.9883067201642972,0.9882677380668939,0.9881681745608241,0.9880259593414845,0.9878286368121214,0.9876376338315298,0.9876821935148913,0.9877064865546078,0.9877031004215924,0.9877204272886129,0.9876880585919983,0.9875905075176152,0.9874764934874825,0.9873804409294605,0.987275598511037,0.9872250341976112,0.9871524140220518,0.9870557153794707,0.9869336258345236,0.9867908984118114,0.9866491555803428,0.986494805264593,0.9863276875620565,0.9861503531261745,0.9859535300638118,0.9857387179990382,0.9855329262993116,0.9853315433722515,0.9851543185770476,0.9849737161363307,0.9848017417955244,0.9846189070406504,0.9844099888406209,0.9841948433123915,0.9839586204188993,0.9837099755464301,0.9834622970233243,0.9832101292324514,0.9829436958801862,0.982665834650477,0.9823971656449815,0.9821294087696237,0.9818612167660485,0.9815991870370405,0.9813435317350386,0.9810899175162584,0.9808251821758974,0.9805666319224425,0.9803028455312166,0.9800378699372447,0.979775953566116,0.9795043920780917,0.9792261913920965,0.9789422275356237,0.9786617212691644]},\"selected\":{\"id\":\"13880\"},\"selection_policy\":{\"id\":\"13881\"}},\"id\":\"13472\",\"type\":\"ColumnDataSource\"},{\"attributes\":{\"label\":{\"value\":\"R_squared\"},\"renderers\":[{\"id\":\"13417\"}]},\"id\":\"13438\",\"type\":\"LegendItem\"},{\"attributes\":{\"source\":{\"id\":\"13472\"}},\"id\":\"13476\",\"type\":\"CDSView\"},{\"attributes\":{\"items\":[{\"id\":\"13438\"},{\"id\":\"13471\"}],\"location\":\"bottom_right\"},\"id\":\"13437\",\"type\":\"Legend\"},{\"attributes\":{\"line_color\":\"lightgreen\",\"line_width\":4,\"x\":{\"field\":\"x\"},\"y\":{\"field\":\"y\"}},\"id\":\"13445\",\"type\":\"Line\"},{\"attributes\":{\"use_scientific\":false},\"id\":\"13479\",\"type\":\"BasicTickFormatter\"},{\"attributes\":{\"label\":{\"value\":\"Corr_A_B\"},\"renderers\":[{\"id\":\"13447\"}]},\"id\":\"13471\",\"type\":\"LegendItem\"},{\"attributes\":{\"source\":{\"id\":\"13439\"}},\"id\":\"13443\",\"type\":\"CDSView\"},{\"attributes\":{\"fill_alpha\":{\"value\":0.1},\"fill_color\":{\"value\":\"white\"},\"line_alpha\":{\"value\":0.1},\"line_color\":{\"value\":\"lightgreen\"},\"size\":{\"units\":\"screen\",\"value\":5},\"x\":{\"field\":\"x\"},\"y\":{\"field\":\"y\"}},\"id\":\"13474\",\"type\":\"Circle\"},{\"attributes\":{\"base\":24,\"mantissas\":[1,2,4,6,8,12],\"max_interval\":43200000.0,\"min_interval\":3600000.0,\"num_minor_ticks\":0},\"id\":\"13426\",\"type\":\"AdaptiveTicker\"},{\"attributes\":{\"data\":{\"x\":{\"__ndarray__\":\"AACARzYJd0IAAECtiAl3QgAAABPbCXdCAADAeC0Kd0IAAIDefwp3QgAAQETSCndCAAAAqiQLd0IAAMAPdwt3QgAAgHXJC3dCAABA2xsMd0IAAABBbgx3QgAAwKbADHdCAACADBMNd0IAAEByZQ13QgAAANi3DXdCAADAPQoOd0IAAICjXA53QgAAQAmvDndCAAAAbwEPd0IAAMDUUw93QgAAgDqmD3dCAABAoPgPd0IAAAAGSxB3QgAAwGudEHdCAACA0e8Qd0IAAEA3QhF3QgAAAJ2UEXdCAADAAucRd0IAAIBoORJ3QgAAQM6LEndCAAAANN4Sd0IAAMCZMBN3QgAAgP+CE3dCAABAZdUTd0IAAADLJxR3QgAAwDB6FHdCAACAlswUd0IAAED8HhV3QgAAAGJxFXdCAADAx8MVd0IAAIAtFhZ3QgAAQJNoFndCAAAA+boWd0IAAMBeDRd3QgAAgMRfF3dCAABAKrIXd0IAAACQBBh3QgAAwPVWGHdCAACAW6kYd0IAAEDB+xh3QgAAACdOGXdCAADAjKAZd0IAAIDy8hl3QgAAQFhFGndCAAAAvpcad0IAAMAj6hp3QgAAgIk8G3dCAABA744bd0IAAABV4Rt3QgAAwLozHHdCAACAIIYcd0IAAECG2Bx3QgAAAOwqHXdCAADAUX0dd0IAAIC3zx13QgAAQB0iHndCAAAAg3Qed0IAAMDoxh53QgAAgE4ZH3dCAABAtGsfd0IAAAAavh93QgAAwH8QIHdCAACA5WIgd0IAAEBLtSB3QgAAALEHIXdCAADAFlohd0IAAIB8rCF3QgAAQOL+IXdCAAAASFEid0IAAMCtoyJ3QgAAgBP2IndCAABAeUgjd0IAAADfmiN3QgAAwETtI3dCAACAqj8kd0IAAEAQkiR3QgAAAHbkJHdCAADA2zYld0IAAIBBiSV3QgAAQKfbJXdCAAAADS4md0IAAMBygCZ3QgAAgNjSJndCAABAPiUnd0IAAACkdyd3QgAAwAnKJ3dCAACAbxwod0IAAEDVbih3QgAAADvBKHdCAADAoBMpd0IAAIAGZil3QgAAQGy4KXdCAAAA0goqd0IAAMA3XSp3QgAAgJ2vKndCAABAAwIrd0IAAABpVCt3QgAAwM6mK3dCAACANPkrd0IAAECaSyx3QgAAAACeLHdCAADAZfAsd0IAAIDLQi13QgAAQDGVLXdCAAAAl+ctd0IAAMD8OS53QgAAgGKMLndCAABAyN4ud0IAAAAuMS93QgAAwJODL3dCAACA+dUvd0I=\",\"dtype\":\"float64\",\"shape\":[121]},\"y\":[0.9771737962977108,0.9871615847539023,0.9829343955368651,0.9884468542317343,0.9913441858825804,0.9908921286043308,0.9888985316298194,0.9861518153159629,0.9847892439157601,0.9867356646622251,0.9859275251425523,0.9861682215239759,0.9862796303827647,0.9886114928781847,0.9899348507434925,0.9906863298064612,0.9903022966017481,0.991800806880214,0.99206010826089,0.9922307343012302,0.9925712978323876,0.9928241151397788,0.9924576224403759,0.9922179392281737,0.9921028006742135,0.9919828782924789,0.9916095077978972,0.9915283386301457,0.9912125473762785,0.9911568123674873,0.9910332623071504,0.9908603681729753,0.9907466623164833,0.9906650655547475,0.9905235778178821,0.9902382551988185,0.9899119104059608,0.9896740937047024,0.9895950945330856,0.9895826553354071,0.9895996314665343,0.98963650133897,0.9896153477359121,0.9894863995087565,0.9893436202081626,0.9891018011342649,0.9889189345421027,0.9888276337033661,0.9887565402945742,0.9886891883561718,0.98859123703846,0.9885463341643794,0.9885522359563569,0.9885939302294591,0.9886456903811286,0.9886774429358693,0.9886375229715909,0.988536744938969,0.9884270502635595,0.9883080318639805,0.9883067201642972,0.9882677380668939,0.9881681745608241,0.9880259593414845,0.9878286368121214,0.9876376338315298,0.9876821935148913,0.9877064865546078,0.9877031004215924,0.9877204272886129,0.9876880585919983,0.9875905075176152,0.9874764934874825,0.9873804409294605,0.987275598511037,0.9872250341976112,0.9871524140220518,0.9870557153794707,0.9869336258345236,0.9867908984118114,0.9866491555803428,0.986494805264593,0.9863276875620565,0.9861503531261745,0.9859535300638118,0.9857387179990382,0.9855329262993116,0.9853315433722515,0.9851543185770476,0.9849737161363307,0.9848017417955244,0.9846189070406504,0.9844099888406209,0.9841948433123915,0.9839586204188993,0.9837099755464301,0.9834622970233243,0.9832101292324514,0.9829436958801862,0.982665834650477,0.9823971656449815,0.9821294087696237,0.9818612167660485,0.9815991870370405,0.9813435317350386,0.9810899175162584,0.9808251821758974,0.9805666319224425,0.9803028455312166,0.9800378699372447,0.979775953566116,0.9795043920780917,0.9792261913920965,0.9789422275356237,0.9786617212691644]},\"selected\":{\"id\":\"13878\"},\"selection_policy\":{\"id\":\"13879\"}},\"id\":\"13444\",\"type\":\"ColumnDataSource\"},{\"attributes\":{},\"id\":\"13879\",\"type\":\"UnionRenderers\"},{\"attributes\":{},\"id\":\"13880\",\"type\":\"Selection\"},{\"attributes\":{\"fill_alpha\":{\"value\":0.1},\"fill_color\":{\"value\":\"white\"},\"line_alpha\":{\"value\":0.1},\"line_color\":{\"value\":\"green\"},\"size\":{\"units\":\"screen\",\"value\":5},\"x\":{\"field\":\"x\"},\"y\":{\"field\":\"y\"}},\"id\":\"13441\",\"type\":\"Circle\"},{\"attributes\":{\"days\":[\"%d %B\"]},\"id\":\"13477\",\"type\":\"DatetimeTickFormatter\"},{\"attributes\":{\"mantissas\":[1,2,5],\"max_interval\":500.0,\"num_minor_ticks\":0},\"id\":\"13424\",\"type\":\"AdaptiveTicker\"},{\"attributes\":{\"days\":[1,4,7,10,13,16,19,22,25,28]},\"id\":\"13428\",\"type\":\"DaysTicker\"},{\"attributes\":{\"bottom_units\":\"screen\",\"fill_alpha\":0.5,\"fill_color\":\"lightgrey\",\"left_units\":\"screen\",\"level\":\"overlay\",\"line_alpha\":1.0,\"line_color\":\"black\",\"line_dash\":[4,4],\"line_width\":2,\"render_mode\":\"css\",\"right_units\":\"screen\",\"top_units\":\"screen\"},\"id\":\"13406\",\"type\":\"BoxAnnotation\"},{\"attributes\":{\"line_color\":\"green\",\"line_width\":4,\"x\":{\"field\":\"x\"},\"y\":{\"field\":\"y\"}},\"id\":\"13415\",\"type\":\"Line\"},{\"attributes\":{\"base\":60,\"mantissas\":[1,2,5,10,15,20,30],\"max_interval\":1800000.0,\"min_interval\":1000.0,\"num_minor_ticks\":0},\"id\":\"13425\",\"type\":\"AdaptiveTicker\"},{\"attributes\":{\"text\":\"Guariti Exponential Validity: Italy\"},\"id\":\"13382\",\"type\":\"Title\"},{\"attributes\":{\"active_drag\":\"auto\",\"active_inspect\":\"auto\",\"active_multi\":null,\"active_scroll\":\"auto\",\"active_tap\":\"auto\",\"tools\":[{\"id\":\"13400\"},{\"id\":\"13401\"},{\"id\":\"13402\"},{\"id\":\"13403\"},{\"id\":\"13404\"},{\"id\":\"13405\"},{\"id\":\"13481\"}]},\"id\":\"13407\",\"type\":\"Toolbar\"},{\"attributes\":{},\"id\":\"13400\",\"type\":\"PanTool\"},{\"attributes\":{\"fill_color\":{\"value\":\"white\"},\"line_color\":{\"value\":\"lightgreen\"},\"size\":{\"units\":\"screen\",\"value\":5},\"x\":{\"field\":\"x\"},\"y\":{\"field\":\"y\"}},\"id\":\"13473\",\"type\":\"Circle\"},{\"attributes\":{},\"id\":\"13384\",\"type\":\"DataRange1d\"},{\"attributes\":{},\"id\":\"13401\",\"type\":\"WheelZoomTool\"},{\"attributes\":{\"days\":[1,8,15,22]},\"id\":\"13429\",\"type\":\"DaysTicker\"},{\"attributes\":{\"data_source\":{\"id\":\"13414\"},\"glyph\":{\"id\":\"13415\"},\"hover_glyph\":null,\"muted_glyph\":null,\"nonselection_glyph\":{\"id\":\"13416\"},\"selection_glyph\":null,\"view\":{\"id\":\"13418\"}},\"id\":\"13417\",\"type\":\"GlyphRenderer\"},{\"attributes\":{\"data_source\":{\"id\":\"13444\"},\"glyph\":{\"id\":\"13445\"},\"hover_glyph\":null,\"muted_glyph\":null,\"nonselection_glyph\":{\"id\":\"13446\"},\"selection_glyph\":null,\"view\":{\"id\":\"13448\"}},\"id\":\"13447\",\"type\":\"GlyphRenderer\"},{\"attributes\":{\"axis_label\":\"Date\",\"formatter\":{\"id\":\"13477\"},\"major_label_orientation\":0.7853981633974483,\"minor_tick_in\":-5,\"minor_tick_out\":-3,\"ticker\":{\"id\":\"13393\"}},\"id\":\"13392\",\"type\":\"DatetimeAxis\"},{\"attributes\":{\"months\":[0,1,2,3,4,5,6,7,8,9,10,11]},\"id\":\"13431\",\"type\":\"MonthsTicker\"},{\"attributes\":{\"overlay\":{\"id\":\"13406\"}},\"id\":\"13402\",\"type\":\"BoxZoomTool\"},{\"attributes\":{\"callback\":null,\"formatters\":{\"@x\":\"datetime\"},\"mode\":\"vline\",\"tooltips\":[[\"date\",\"@x{%d %B}\"],[\"R_squared/Corr_A_B\",\"@y{0[.]000}\"]]},\"id\":\"13481\",\"type\":\"HoverTool\"},{\"attributes\":{},\"id\":\"13455\",\"type\":\"UnionRenderers\"},{\"attributes\":{},\"id\":\"13878\",\"type\":\"Selection\"},{\"attributes\":{},\"id\":\"13386\",\"type\":\"DataRange1d\"},{\"attributes\":{},\"id\":\"13403\",\"type\":\"SaveTool\"},{\"attributes\":{},\"id\":\"13881\",\"type\":\"UnionRenderers\"},{\"attributes\":{},\"id\":\"13435\",\"type\":\"YearsTicker\"},{\"attributes\":{},\"id\":\"13388\",\"type\":\"LinearScale\"},{\"attributes\":{\"source\":{\"id\":\"13444\"}},\"id\":\"13448\",\"type\":\"CDSView\"},{\"attributes\":{},\"id\":\"13404\",\"type\":\"ResetTool\"},{\"attributes\":{},\"id\":\"13454\",\"type\":\"Selection\"},{\"attributes\":{\"days\":[1,15]},\"id\":\"13430\",\"type\":\"DaysTicker\"},{\"attributes\":{\"line_alpha\":0.1,\"line_color\":\"lightgreen\",\"line_width\":4,\"x\":{\"field\":\"x\"},\"y\":{\"field\":\"y\"}},\"id\":\"13446\",\"type\":\"Line\"},{\"attributes\":{\"months\":[0,2,4,6,8,10]},\"id\":\"13432\",\"type\":\"MonthsTicker\"},{\"attributes\":{\"num_minor_ticks\":5,\"tickers\":[{\"id\":\"13424\"},{\"id\":\"13425\"},{\"id\":\"13426\"},{\"id\":\"13427\"},{\"id\":\"13428\"},{\"id\":\"13429\"},{\"id\":\"13430\"},{\"id\":\"13431\"},{\"id\":\"13432\"},{\"id\":\"13433\"},{\"id\":\"13434\"},{\"id\":\"13435\"}]},\"id\":\"13393\",\"type\":\"DatetimeTicker\"},{\"attributes\":{\"days\":[1,2,3,4,5,6,7,8,9,10,11,12,13,14,15,16,17,18,19,20,21,22,23,24,25,26,27,28,29,30,31]},\"id\":\"13427\",\"type\":\"DaysTicker\"},{\"attributes\":{\"data\":{\"x\":{\"__ndarray__\":\"AACARzYJd0IAAECtiAl3QgAAABPbCXdCAADAeC0Kd0IAAIDefwp3QgAAQETSCndCAAAAqiQLd0IAAMAPdwt3QgAAgHXJC3dCAABA2xsMd0IAAABBbgx3QgAAwKbADHdCAACADBMNd0IAAEByZQ13QgAAANi3DXdCAADAPQoOd0IAAICjXA53QgAAQAmvDndCAAAAbwEPd0IAAMDUUw93QgAAgDqmD3dCAABAoPgPd0IAAAAGSxB3QgAAwGudEHdCAACA0e8Qd0IAAEA3QhF3QgAAAJ2UEXdCAADAAucRd0IAAIBoORJ3QgAAQM6LEndCAAAANN4Sd0IAAMCZMBN3QgAAgP+CE3dCAABAZdUTd0IAAADLJxR3QgAAwDB6FHdCAACAlswUd0IAAED8HhV3QgAAAGJxFXdCAADAx8MVd0IAAIAtFhZ3QgAAQJNoFndCAAAA+boWd0IAAMBeDRd3QgAAgMRfF3dCAABAKrIXd0IAAACQBBh3QgAAwPVWGHdCAACAW6kYd0IAAEDB+xh3QgAAACdOGXdCAADAjKAZd0IAAIDy8hl3QgAAQFhFGndCAAAAvpcad0IAAMAj6hp3QgAAgIk8G3dCAABA744bd0IAAABV4Rt3QgAAwLozHHdCAACAIIYcd0IAAECG2Bx3QgAAAOwqHXdCAADAUX0dd0IAAIC3zx13QgAAQB0iHndCAAAAg3Qed0IAAMDoxh53QgAAgE4ZH3dCAABAtGsfd0IAAAAavh93QgAAwH8QIHdCAACA5WIgd0IAAEBLtSB3QgAAALEHIXdCAADAFlohd0IAAIB8rCF3QgAAQOL+IXdCAAAASFEid0IAAMCtoyJ3QgAAgBP2IndCAABAeUgjd0IAAADfmiN3QgAAwETtI3dCAACAqj8kd0IAAEAQkiR3QgAAAHbkJHdCAADA2zYld0IAAIBBiSV3QgAAQKfbJXdCAAAADS4md0IAAMBygCZ3QgAAgNjSJndCAABAPiUnd0IAAACkdyd3QgAAwAnKJ3dCAACAbxwod0IAAEDVbih3QgAAADvBKHdCAADAoBMpd0IAAIAGZil3QgAAQGy4KXdCAAAA0goqd0IAAMA3XSp3QgAAgJ2vKndCAABAAwIrd0IAAABpVCt3QgAAwM6mK3dCAACANPkrd0IAAECaSyx3QgAAAACeLHdCAADAZfAsd0IAAIDLQi13QgAAQDGVLXdCAAAAl+ctd0IAAMD8OS53QgAAgGKMLndCAABAyN4ud0IAAAAuMS93QgAAwJODL3dCAACA+dUvd0I=\",\"dtype\":\"float64\",\"shape\":[121]},\"y\":[0.8606481598394683,0.9471173938556658,0.9360911279420753,0.9714690580202313,0.9878007496262176,0.9884028491325129,0.9737095608712864,0.950129573047173,0.9474586811076524,0.9666768419691317,0.9658577874885119,0.9724140849805707,0.9763897317383651,0.9834379682925372,0.9890235515610548,0.9924406618242618,0.989816741999947,0.9921702793313502,0.9937454318804336,0.9945507685487721,0.9957720823208889,0.9964565194119556,0.992972429394026,0.9912159179141088,0.990758065554159,0.9902870260138735,0.9873582845426842,0.9876274727514551,0.9855575962352924,0.9861611703161747,0.9860563306981559,0.9854629750783211,0.985418780114212,0.9856008321068747,0.9851952730138245,0.9833282330199984,0.9811142645991496,0.9800447585020177,0.9805734317474694,0.9815490832902357,0.9826117648897318,0.98367923585059,0.9841889379349255,0.9837222896530314,0.9831395008139059,0.9815460633282107,0.9806663783128649,0.980694863333348,0.9808726854803773,0.9810329377754993,0.9808918984127557,0.9811961160998607,0.9818480551570032,0.9826863064941808,0.9835138836865019,0.9841358137509889,0.9841789078633206,0.9836939231363766,0.9831376121102836,0.9825179613737066,0.9829079161791275,0.9829729695921392,0.9825046031593785,0.9816427493213683,0.9802331679101273,0.9789441087335161,0.979799959618488,0.9804583566733469,0.9808623878006852,0.9813851613404979,0.9814954845116408,0.9810371567380703,0.9804262518199361,0.9800013745173415,0.979502354520762,0.9794995183201429,0.9792978225698306,0.978873388710861,0.9782131164464811,0.9773431417511275,0.9765117443872783,0.9755649908022141,0.9745001848019995,0.9733352889282131,0.9719747662835253,0.9704247646097638,0.9690238111867877,0.9676952469672493,0.9666801744582063,0.9656393259166077,0.9647036535325406,0.9636622990059924,0.9623120358987169,0.9609008950662642,0.9592470063373569,0.9574160300507688,0.9556511259989501,0.9538203659941833,0.9518210779224072,0.9496803517919288,0.9477185274309496,0.9457510155615758,0.9438094298762447,0.9419719395532088,0.9402384461248768,0.9385456032380411,0.936718779687741,0.934957539813754,0.9331425907637588,0.9313179521274131,0.9295445617122824,0.9276625667092279,0.9256677990900561,0.923595319805072,0.9215805316656552]},\"selected\":{\"id\":\"13454\"},\"selection_policy\":{\"id\":\"13455\"}},\"id\":\"13414\",\"type\":\"ColumnDataSource\"},{\"attributes\":{},\"id\":\"13405\",\"type\":\"HelpTool\"},{\"attributes\":{\"months\":[0,4,8]},\"id\":\"13433\",\"type\":\"MonthsTicker\"},{\"attributes\":{},\"id\":\"13390\",\"type\":\"LinearScale\"},{\"attributes\":{\"months\":[0,6]},\"id\":\"13434\",\"type\":\"MonthsTicker\"}],\"root_ids\":[\"13381\"]},\"title\":\"Bokeh Application\",\"version\":\"2.0.2\"}};\n",
       "  var render_items = [{\"docid\":\"40391efe-b4eb-4907-9305-676ca5a998d2\",\"root_ids\":[\"13381\"],\"roots\":{\"13381\":\"5c361be0-d45e-4157-8de4-88b43688f573\"}}];\n",
       "  root.Bokeh.embed.embed_items_notebook(docs_json, render_items);\n",
       "\n",
       "  }\n",
       "  if (root.Bokeh !== undefined) {\n",
       "    embed_document(root);\n",
       "  } else {\n",
       "    var attempts = 0;\n",
       "    var timer = setInterval(function(root) {\n",
       "      if (root.Bokeh !== undefined) {\n",
       "        clearInterval(timer);\n",
       "        embed_document(root);\n",
       "      } else {\n",
       "        attempts++;\n",
       "        if (attempts > 100) {\n",
       "          clearInterval(timer);\n",
       "          console.log(\"Bokeh: ERROR: Unable to run BokehJS code because BokehJS library is missing\");\n",
       "        }\n",
       "      }\n",
       "    }, 10, root)\n",
       "  }\n",
       "})(window);"
      ],
      "application/vnd.bokehjs_exec.v0+json": ""
     },
     "metadata": {
      "application/vnd.bokehjs_exec.v0+json": {
       "id": "13381"
      }
     },
     "output_type": "display_data"
    }
   ],
   "source": [
    "p_guariti_exp_val_Italy = bokeh_plot_N_lines(x=time_date_new + 6, y_list=[R_2_guariti, Correlation_A_B], \n",
    "                  title='Guariti Exponential Validity: Italy', \n",
    "                  dim=[600, 450], \n",
    "                  x_label='Date', \n",
    "                  y_label='R_squared', legend_list=['R_squared', 'Corr_A_B'],\n",
    "                  x_label_hover='date', y_label_hover='R_squared/Corr_A_B',\n",
    "                  color_list=['green', 'lightgreen'],legend_location=\"bottom_right\", y_minmax=None)\n",
    "\n",
    "output_file(\"guariti_exponential_validity_Italy.html\")\n",
    "\n",
    "show(p_guariti_exp_val_Italy)"
   ]
  },
  {
   "cell_type": "markdown",
   "metadata": {},
   "source": [
    "----------------------"
   ]
  },
  {
   "cell_type": "code",
   "execution_count": 62,
   "metadata": {},
   "outputs": [
    {
     "name": "stderr",
     "output_type": "stream",
     "text": [
      "BokehUserWarning: ColumnDataSource's columns must be of the same length. Current lengths: ('x', 121), ('y', 115)\n",
      "BokehUserWarning: ColumnDataSource's columns must be of the same length. Current lengths: ('x', 121), ('y', 115)\n",
      "BokehUserWarning: ColumnDataSource's columns must be of the same length. Current lengths: ('x', 121), ('y', 115)\n",
      "BokehUserWarning: ColumnDataSource's columns must be of the same length. Current lengths: ('x', 121), ('y', 115)\n",
      "BokehUserWarning: ColumnDataSource's columns must be of the same length. Current lengths: ('x', 121), ('y', 115)\n",
      "BokehUserWarning: ColumnDataSource's columns must be of the same length. Current lengths: ('x', 121), ('y', 115)\n"
     ]
    },
    {
     "data": {
      "text/html": [
       "\n",
       "\n",
       "\n",
       "\n",
       "\n",
       "\n",
       "  <div class=\"bk-root\" id=\"8d9f767a-8f7a-4cec-b449-42ae59844ccb\" data-root-id=\"14352\"></div>\n"
      ]
     },
     "metadata": {},
     "output_type": "display_data"
    },
    {
     "data": {
      "application/javascript": [
       "(function(root) {\n",
       "  function embed_document(root) {\n",
       "    \n",
       "  var docs_json = {\"b4e2feb7-752f-4fc0-adf5-4a1df06dc317\":{\"roots\":{\"references\":[{\"attributes\":{\"below\":[{\"id\":\"14363\"}],\"center\":[{\"id\":\"14366\"},{\"id\":\"14370\"},{\"id\":\"14408\"}],\"left\":[{\"id\":\"14367\"}],\"plot_height\":450,\"renderers\":[{\"id\":\"14388\"},{\"id\":\"14413\"},{\"id\":\"14418\"},{\"id\":\"14446\"},{\"id\":\"14451\"},{\"id\":\"14483\"}],\"title\":{\"id\":\"14353\"},\"toolbar\":{\"id\":\"14378\"},\"x_range\":{\"id\":\"14355\"},\"x_scale\":{\"id\":\"14359\"},\"y_range\":{\"id\":\"14357\"},\"y_scale\":{\"id\":\"14361\"}},\"id\":\"14352\",\"subtype\":\"Figure\",\"type\":\"Plot\"},{\"attributes\":{\"axis_label\":\"Date\",\"formatter\":{\"id\":\"14485\"},\"major_label_orientation\":0.7853981633974483,\"minor_tick_in\":-5,\"minor_tick_out\":-3,\"ticker\":{\"id\":\"14364\"}},\"id\":\"14363\",\"type\":\"DatetimeAxis\"},{\"attributes\":{\"overlay\":{\"id\":\"14377\"}},\"id\":\"14373\",\"type\":\"BoxZoomTool\"},{\"attributes\":{},\"id\":\"14374\",\"type\":\"SaveTool\"},{\"attributes\":{},\"id\":\"14462\",\"type\":\"Selection\"},{\"attributes\":{},\"id\":\"14375\",\"type\":\"ResetTool\"},{\"attributes\":{},\"id\":\"14376\",\"type\":\"HelpTool\"},{\"attributes\":{\"label\":{\"value\":\"R_squared_guariti\"},\"renderers\":[{\"id\":\"14451\"}]},\"id\":\"14479\",\"type\":\"LegendItem\"},{\"attributes\":{},\"id\":\"14917\",\"type\":\"UnionRenderers\"},{\"attributes\":{\"data_source\":{\"id\":\"14480\"},\"glyph\":{\"id\":\"14481\"},\"hover_glyph\":null,\"muted_glyph\":null,\"nonselection_glyph\":{\"id\":\"14482\"},\"selection_glyph\":null,\"view\":{\"id\":\"14484\"}},\"id\":\"14483\",\"type\":\"GlyphRenderer\"},{\"attributes\":{\"data\":{\"x\":{\"__ndarray__\":\"AACARzYJd0IAAECtiAl3QgAAABPbCXdCAADAeC0Kd0IAAIDefwp3QgAAQETSCndCAAAAqiQLd0IAAMAPdwt3QgAAgHXJC3dCAABA2xsMd0IAAABBbgx3QgAAwKbADHdCAACADBMNd0IAAEByZQ13QgAAANi3DXdCAADAPQoOd0IAAICjXA53QgAAQAmvDndCAAAAbwEPd0IAAMDUUw93QgAAgDqmD3dCAABAoPgPd0IAAAAGSxB3QgAAwGudEHdCAACA0e8Qd0IAAEA3QhF3QgAAAJ2UEXdCAADAAucRd0IAAIBoORJ3QgAAQM6LEndCAAAANN4Sd0IAAMCZMBN3QgAAgP+CE3dCAABAZdUTd0IAAADLJxR3QgAAwDB6FHdCAACAlswUd0IAAED8HhV3QgAAAGJxFXdCAADAx8MVd0IAAIAtFhZ3QgAAQJNoFndCAAAA+boWd0IAAMBeDRd3QgAAgMRfF3dCAABAKrIXd0IAAACQBBh3QgAAwPVWGHdCAACAW6kYd0IAAEDB+xh3QgAAACdOGXdCAADAjKAZd0IAAIDy8hl3QgAAQFhFGndCAAAAvpcad0IAAMAj6hp3QgAAgIk8G3dCAABA744bd0IAAABV4Rt3QgAAwLozHHdCAACAIIYcd0IAAECG2Bx3QgAAAOwqHXdCAADAUX0dd0IAAIC3zx13QgAAQB0iHndCAAAAg3Qed0IAAMDoxh53QgAAgE4ZH3dCAABAtGsfd0IAAAAavh93QgAAwH8QIHdCAACA5WIgd0IAAEBLtSB3QgAAALEHIXdCAADAFlohd0IAAIB8rCF3QgAAQOL+IXdCAAAASFEid0IAAMCtoyJ3QgAAgBP2IndCAABAeUgjd0IAAADfmiN3QgAAwETtI3dCAACAqj8kd0IAAEAQkiR3QgAAAHbkJHdCAADA2zYld0IAAIBBiSV3QgAAQKfbJXdCAAAADS4md0IAAMBygCZ3QgAAgNjSJndCAABAPiUnd0IAAACkdyd3QgAAwAnKJ3dCAACAbxwod0IAAEDVbih3QgAAADvBKHdCAADAoBMpd0IAAIAGZil3QgAAQGy4KXdCAAAA0goqd0IAAMA3XSp3QgAAgJ2vKndCAABAAwIrd0IAAABpVCt3QgAAwM6mK3dCAACANPkrd0IAAECaSyx3QgAAAACeLHdCAADAZfAsd0IAAIDLQi13QgAAQDGVLXdCAAAAl+ctd0IAAMD8OS53QgAAgGKMLndCAABAyN4ud0IAAAAuMS93QgAAwJODL3dCAACA+dUvd0I=\",\"dtype\":\"float64\",\"shape\":[121]},\"y\":[0.8606481598394683,0.9471173938556658,0.9360911279420753,0.9714690580202313,0.9878007496262176,0.9884028491325129,0.9737095608712864,0.950129573047173,0.9474586811076524,0.9666768419691317,0.9658577874885119,0.9724140849805707,0.9763897317383651,0.9834379682925372,0.9890235515610548,0.9924406618242618,0.989816741999947,0.9921702793313502,0.9937454318804336,0.9945507685487721,0.9957720823208889,0.9964565194119556,0.992972429394026,0.9912159179141088,0.990758065554159,0.9902870260138735,0.9873582845426842,0.9876274727514551,0.9855575962352924,0.9861611703161747,0.9860563306981559,0.9854629750783211,0.985418780114212,0.9856008321068747,0.9851952730138245,0.9833282330199984,0.9811142645991496,0.9800447585020177,0.9805734317474694,0.9815490832902357,0.9826117648897318,0.98367923585059,0.9841889379349255,0.9837222896530314,0.9831395008139059,0.9815460633282107,0.9806663783128649,0.980694863333348,0.9808726854803773,0.9810329377754993,0.9808918984127557,0.9811961160998607,0.9818480551570032,0.9826863064941808,0.9835138836865019,0.9841358137509889,0.9841789078633206,0.9836939231363766,0.9831376121102836,0.9825179613737066,0.9829079161791275,0.9829729695921392,0.9825046031593785,0.9816427493213683,0.9802331679101273,0.9789441087335161,0.979799959618488,0.9804583566733469,0.9808623878006852,0.9813851613404979,0.9814954845116408,0.9810371567380703,0.9804262518199361,0.9800013745173415,0.979502354520762,0.9794995183201429,0.9792978225698306,0.978873388710861,0.9782131164464811,0.9773431417511275,0.9765117443872783,0.9755649908022141,0.9745001848019995,0.9733352889282131,0.9719747662835253,0.9704247646097638,0.9690238111867877,0.9676952469672493,0.9666801744582063,0.9656393259166077,0.9647036535325406,0.9636622990059924,0.9623120358987169,0.9609008950662642,0.9592470063373569,0.9574160300507688,0.9556511259989501,0.9538203659941833,0.9518210779224072,0.9496803517919288,0.9477185274309496,0.9457510155615758,0.9438094298762447,0.9419719395532088,0.9402384461248768,0.9385456032380411,0.936718779687741,0.934957539813754,0.9331425907637588,0.9313179521274131,0.9295445617122824,0.9276625667092279,0.9256677990900561,0.923595319805072,0.9215805316656552]},\"selected\":{\"id\":\"14914\"},\"selection_policy\":{\"id\":\"14915\"}},\"id\":\"14448\",\"type\":\"ColumnDataSource\"},{\"attributes\":{},\"id\":\"14914\",\"type\":\"Selection\"},{\"attributes\":{\"days\":[\"%d %B\"]},\"id\":\"14485\",\"type\":\"DatetimeTickFormatter\"},{\"attributes\":{\"fill_alpha\":{\"value\":0.1},\"fill_color\":{\"value\":\"white\"},\"line_alpha\":{\"value\":0.1},\"line_color\":{\"value\":\"blue\"},\"size\":{\"units\":\"screen\",\"value\":5},\"x\":{\"field\":\"x\"},\"y\":{\"field\":\"y\"}},\"id\":\"14412\",\"type\":\"Circle\"},{\"attributes\":{\"use_scientific\":false},\"id\":\"14487\",\"type\":\"BasicTickFormatter\"},{\"attributes\":{\"source\":{\"id\":\"14480\"}},\"id\":\"14484\",\"type\":\"CDSView\"},{\"attributes\":{\"bottom_units\":\"screen\",\"fill_alpha\":0.5,\"fill_color\":\"lightgrey\",\"left_units\":\"screen\",\"level\":\"overlay\",\"line_alpha\":1.0,\"line_color\":\"black\",\"line_dash\":[4,4],\"line_width\":2,\"render_mode\":\"css\",\"right_units\":\"screen\",\"top_units\":\"screen\"},\"id\":\"14377\",\"type\":\"BoxAnnotation\"},{\"attributes\":{\"fill_color\":{\"value\":\"white\"},\"line_color\":{\"value\":\"blue\"},\"size\":{\"units\":\"screen\",\"value\":5},\"x\":{\"field\":\"x\"},\"y\":{\"field\":\"y\"}},\"id\":\"14411\",\"type\":\"Circle\"},{\"attributes\":{\"active_drag\":\"auto\",\"active_inspect\":\"auto\",\"active_multi\":null,\"active_scroll\":\"auto\",\"active_tap\":\"auto\",\"tools\":[{\"id\":\"14371\"},{\"id\":\"14372\"},{\"id\":\"14373\"},{\"id\":\"14374\"},{\"id\":\"14375\"},{\"id\":\"14376\"},{\"id\":\"14489\"}]},\"id\":\"14378\",\"type\":\"Toolbar\"},{\"attributes\":{\"source\":{\"id\":\"14385\"}},\"id\":\"14389\",\"type\":\"CDSView\"},{\"attributes\":{\"data_source\":{\"id\":\"14385\"},\"glyph\":{\"id\":\"14386\"},\"hover_glyph\":null,\"muted_glyph\":null,\"nonselection_glyph\":{\"id\":\"14387\"},\"selection_glyph\":null,\"view\":{\"id\":\"14389\"}},\"id\":\"14388\",\"type\":\"GlyphRenderer\"},{\"attributes\":{\"callback\":null,\"formatters\":{\"@x\":\"datetime\"},\"mode\":\"vline\",\"tooltips\":[[\"date\",\"@x{%d %B}\"],[\"R_squared_cases/deaths/guariti\",\"@y{0[.]000}\"]]},\"id\":\"14489\",\"type\":\"HoverTool\"},{\"attributes\":{\"mantissas\":[1,2,5],\"max_interval\":500.0,\"num_minor_ticks\":0},\"id\":\"14395\",\"type\":\"AdaptiveTicker\"},{\"attributes\":{\"fill_alpha\":{\"value\":0.1},\"fill_color\":{\"value\":\"white\"},\"line_alpha\":{\"value\":0.1},\"line_color\":{\"value\":\"green\"},\"size\":{\"units\":\"screen\",\"value\":5},\"x\":{\"field\":\"x\"},\"y\":{\"field\":\"y\"}},\"id\":\"14482\",\"type\":\"Circle\"},{\"attributes\":{\"base\":60,\"mantissas\":[1,2,5,10,15,20,30],\"max_interval\":1800000.0,\"min_interval\":1000.0,\"num_minor_ticks\":0},\"id\":\"14396\",\"type\":\"AdaptiveTicker\"},{\"attributes\":{\"line_alpha\":0.1,\"line_color\":\"green\",\"line_width\":4,\"x\":{\"field\":\"x\"},\"y\":{\"field\":\"y\"}},\"id\":\"14450\",\"type\":\"Line\"},{\"attributes\":{},\"id\":\"14916\",\"type\":\"Selection\"},{\"attributes\":{\"fill_alpha\":{\"value\":0.1},\"fill_color\":{\"value\":\"white\"},\"line_alpha\":{\"value\":0.1},\"line_color\":{\"value\":\"darkviolet\"},\"size\":{\"units\":\"screen\",\"value\":5},\"x\":{\"field\":\"x\"},\"y\":{\"field\":\"y\"}},\"id\":\"14445\",\"type\":\"Circle\"},{\"attributes\":{\"data\":{\"x\":{\"__ndarray__\":\"AACARzYJd0IAAECtiAl3QgAAABPbCXdCAADAeC0Kd0IAAIDefwp3QgAAQETSCndCAAAAqiQLd0IAAMAPdwt3QgAAgHXJC3dCAABA2xsMd0IAAABBbgx3QgAAwKbADHdCAACADBMNd0IAAEByZQ13QgAAANi3DXdCAADAPQoOd0IAAICjXA53QgAAQAmvDndCAAAAbwEPd0IAAMDUUw93QgAAgDqmD3dCAABAoPgPd0IAAAAGSxB3QgAAwGudEHdCAACA0e8Qd0IAAEA3QhF3QgAAAJ2UEXdCAADAAucRd0IAAIBoORJ3QgAAQM6LEndCAAAANN4Sd0IAAMCZMBN3QgAAgP+CE3dCAABAZdUTd0IAAADLJxR3QgAAwDB6FHdCAACAlswUd0IAAED8HhV3QgAAAGJxFXdCAADAx8MVd0IAAIAtFhZ3QgAAQJNoFndCAAAA+boWd0IAAMBeDRd3QgAAgMRfF3dCAABAKrIXd0IAAACQBBh3QgAAwPVWGHdCAACAW6kYd0IAAEDB+xh3QgAAACdOGXdCAADAjKAZd0IAAIDy8hl3QgAAQFhFGndCAAAAvpcad0IAAMAj6hp3QgAAgIk8G3dCAABA744bd0IAAABV4Rt3QgAAwLozHHdCAACAIIYcd0IAAECG2Bx3QgAAAOwqHXdCAADAUX0dd0IAAIC3zx13QgAAQB0iHndCAAAAg3Qed0IAAMDoxh53QgAAgE4ZH3dCAABAtGsfd0IAAAAavh93QgAAwH8QIHdCAACA5WIgd0IAAEBLtSB3QgAAALEHIXdCAADAFlohd0IAAIB8rCF3QgAAQOL+IXdCAAAASFEid0IAAMCtoyJ3QgAAgBP2IndCAABAeUgjd0IAAADfmiN3QgAAwETtI3dCAACAqj8kd0IAAEAQkiR3QgAAAHbkJHdCAADA2zYld0IAAIBBiSV3QgAAQKfbJXdCAAAADS4md0IAAMBygCZ3QgAAgNjSJndCAABAPiUnd0IAAACkdyd3QgAAwAnKJ3dCAACAbxwod0IAAEDVbih3QgAAADvBKHdCAADAoBMpd0IAAIAGZil3QgAAQGy4KXdCAAAA0goqd0IAAMA3XSp3QgAAgJ2vKndCAABAAwIrd0IAAABpVCt3QgAAwM6mK3dCAACANPkrd0IAAECaSyx3QgAAAACeLHdCAADAZfAsd0IAAIDLQi13QgAAQDGVLXdCAAAAl+ctd0IAAMD8OS53QgAAgGKMLndCAABAyN4ud0IAAAAuMS93QgAAwJODL3dCAACA+dUvd0I=\",\"dtype\":\"float64\",\"shape\":[121]},\"y\":[0.9906384833099334,0.9876702701263628,0.986034206451665,0.9937023701385499,0.9970511977507855,0.9979544752352847,0.9913778365717426,0.9929248433250588,0.9957403179282476,0.9977413133698139,0.9985366218172942,0.9969106059526226,0.996211572251712,0.9909112544567887,0.9925418195655226,0.9932047921984762,0.9924285278783038,0.9930340764201312,0.9923577489344909,0.9932926697800687,0.9948845546297247,0.9950079961757051,0.9935421243409132,0.9923519864209975,0.9905689301056676,0.9882674204511754,0.9878264212632235,0.9873989916144827,0.9860735965572663,0.9845430102319735,0.9830060388504964,0.9809094757488263,0.9787131870741717,0.9765424924030026,0.9740607080719607,0.9707721359330386,0.9675980745847533,0.9644603235650501,0.9611847156868383,0.9581929227609429,0.9553138048152379,0.9527668866041618,0.949832519376967,0.9471741782289388,0.9448856132660635,0.9428262702142188,0.9408090496270258,0.9390094702651643,0.9371368895937208,0.9351084492759572,0.9330557612153584,0.9312289735564631,0.9293543463395025,0.9275386266286831,0.9256884677837561,0.923825484706234,0.9216168769019616,0.9193267564535198,0.9171080210761422,0.9148403674368056,0.9124738376193,0.9100150508583008,0.9079318355263625,0.9055617444260692,0.9030142411545999,0.9004203648795525,0.8980689816751007,0.895753592355098,0.8934258167984068,0.8910112034278967,0.8884835555981856,0.8858991595144673,0.8832672224045979,0.8806489898317053,0.8781735601338101,0.875798568138153,0.8733701733341191,0.8708924136063186,0.868304639054517,0.8657347591288924,0.8631886604807198,0.8606646697392588,0.858127410712821,0.8555693576054788,0.852892171710644,0.8501818039869902,0.8474274701530655,0.844700900642225,0.8419345520946966,0.8391646559956998,0.8364338566397378,0.8336910711516987,0.8309211457595196,0.8281248123000429,0.8253329993158202,0.8225748810114298,0.8198481378354814,0.8171364351895642,0.8144164389141544,0.8117098496622602,0.8090390142962303,0.8063941173576937,0.8037525871249604,0.8011218929019263,0.798534052945386,0.7959443157297019,0.7933324930099895,0.7907137868390863,0.7881034028225027,0.7855332424297904,0.782979060796708,0.780445007608978,0.7779009250870768,0.7753487688829088,0.7727853047065396]},\"selected\":{\"id\":\"14464\"},\"selection_policy\":{\"id\":\"14465\"}},\"id\":\"14443\",\"type\":\"ColumnDataSource\"},{\"attributes\":{},\"id\":\"14915\",\"type\":\"UnionRenderers\"},{\"attributes\":{\"base\":24,\"mantissas\":[1,2,4,6,8,12],\"max_interval\":43200000.0,\"min_interval\":3600000.0,\"num_minor_ticks\":0},\"id\":\"14397\",\"type\":\"AdaptiveTicker\"},{\"attributes\":{\"fill_color\":{\"value\":\"white\"},\"line_color\":{\"value\":\"green\"},\"size\":{\"units\":\"screen\",\"value\":5},\"x\":{\"field\":\"x\"},\"y\":{\"field\":\"y\"}},\"id\":\"14481\",\"type\":\"Circle\"},{\"attributes\":{\"line_color\":\"darkviolet\",\"line_width\":4,\"x\":{\"field\":\"x\"},\"y\":{\"field\":\"y\"}},\"id\":\"14416\",\"type\":\"Line\"},{\"attributes\":{\"data\":{\"x\":{\"__ndarray__\":\"AACARzYJd0IAAECtiAl3QgAAABPbCXdCAADAeC0Kd0IAAIDefwp3QgAAQETSCndCAAAAqiQLd0IAAMAPdwt3QgAAgHXJC3dCAABA2xsMd0IAAABBbgx3QgAAwKbADHdCAACADBMNd0IAAEByZQ13QgAAANi3DXdCAADAPQoOd0IAAICjXA53QgAAQAmvDndCAAAAbwEPd0IAAMDUUw93QgAAgDqmD3dCAABAoPgPd0IAAAAGSxB3QgAAwGudEHdCAACA0e8Qd0IAAEA3QhF3QgAAAJ2UEXdCAADAAucRd0IAAIBoORJ3QgAAQM6LEndCAAAANN4Sd0IAAMCZMBN3QgAAgP+CE3dCAABAZdUTd0IAAADLJxR3QgAAwDB6FHdCAACAlswUd0IAAED8HhV3QgAAAGJxFXdCAADAx8MVd0IAAIAtFhZ3QgAAQJNoFndCAAAA+boWd0IAAMBeDRd3QgAAgMRfF3dCAABAKrIXd0IAAACQBBh3QgAAwPVWGHdCAACAW6kYd0IAAEDB+xh3QgAAACdOGXdCAADAjKAZd0IAAIDy8hl3QgAAQFhFGndCAAAAvpcad0IAAMAj6hp3QgAAgIk8G3dCAABA744bd0IAAABV4Rt3QgAAwLozHHdCAACAIIYcd0IAAECG2Bx3QgAAAOwqHXdCAADAUX0dd0IAAIC3zx13QgAAQB0iHndCAAAAg3Qed0IAAMDoxh53QgAAgE4ZH3dCAABAtGsfd0IAAAAavh93QgAAwH8QIHdCAACA5WIgd0IAAEBLtSB3QgAAALEHIXdCAADAFlohd0IAAIB8rCF3QgAAQOL+IXdCAAAASFEid0IAAMCtoyJ3QgAAgBP2IndCAABAeUgjd0IAAADfmiN3QgAAwETtI3dCAACAqj8kd0IAAEAQkiR3QgAAAHbkJHdCAADA2zYld0IAAIBBiSV3QgAAQKfbJXdCAAAADS4md0IAAMBygCZ3QgAAgNjSJndCAABAPiUnd0IAAACkdyd3QgAAwAnKJ3dCAACAbxwod0IAAEDVbih3QgAAADvBKHdCAADAoBMpd0IAAIAGZil3QgAAQGy4KXdCAAAA0goqd0IAAMA3XSp3QgAAgJ2vKndCAABAAwIrd0IAAABpVCt3QgAAwM6mK3dCAACANPkrd0IAAECaSyx3QgAAAACeLHdCAADAZfAsd0IAAIDLQi13QgAAQDGVLXdCAAAAl+ctd0IAAMD8OS53QgAAgGKMLndCAABAyN4ud0IAAAAuMS93QgAAwJODL3dCAACA+dUvd0I=\",\"dtype\":\"float64\",\"shape\":[121]},\"y\":[0.8606481598394683,0.9471173938556658,0.9360911279420753,0.9714690580202313,0.9878007496262176,0.9884028491325129,0.9737095608712864,0.950129573047173,0.9474586811076524,0.9666768419691317,0.9658577874885119,0.9724140849805707,0.9763897317383651,0.9834379682925372,0.9890235515610548,0.9924406618242618,0.989816741999947,0.9921702793313502,0.9937454318804336,0.9945507685487721,0.9957720823208889,0.9964565194119556,0.992972429394026,0.9912159179141088,0.990758065554159,0.9902870260138735,0.9873582845426842,0.9876274727514551,0.9855575962352924,0.9861611703161747,0.9860563306981559,0.9854629750783211,0.985418780114212,0.9856008321068747,0.9851952730138245,0.9833282330199984,0.9811142645991496,0.9800447585020177,0.9805734317474694,0.9815490832902357,0.9826117648897318,0.98367923585059,0.9841889379349255,0.9837222896530314,0.9831395008139059,0.9815460633282107,0.9806663783128649,0.980694863333348,0.9808726854803773,0.9810329377754993,0.9808918984127557,0.9811961160998607,0.9818480551570032,0.9826863064941808,0.9835138836865019,0.9841358137509889,0.9841789078633206,0.9836939231363766,0.9831376121102836,0.9825179613737066,0.9829079161791275,0.9829729695921392,0.9825046031593785,0.9816427493213683,0.9802331679101273,0.9789441087335161,0.979799959618488,0.9804583566733469,0.9808623878006852,0.9813851613404979,0.9814954845116408,0.9810371567380703,0.9804262518199361,0.9800013745173415,0.979502354520762,0.9794995183201429,0.9792978225698306,0.978873388710861,0.9782131164464811,0.9773431417511275,0.9765117443872783,0.9755649908022141,0.9745001848019995,0.9733352889282131,0.9719747662835253,0.9704247646097638,0.9690238111867877,0.9676952469672493,0.9666801744582063,0.9656393259166077,0.9647036535325406,0.9636622990059924,0.9623120358987169,0.9609008950662642,0.9592470063373569,0.9574160300507688,0.9556511259989501,0.9538203659941833,0.9518210779224072,0.9496803517919288,0.9477185274309496,0.9457510155615758,0.9438094298762447,0.9419719395532088,0.9402384461248768,0.9385456032380411,0.936718779687741,0.934957539813754,0.9331425907637588,0.9313179521274131,0.9295445617122824,0.9276625667092279,0.9256677990900561,0.923595319805072,0.9215805316656552]},\"selected\":{\"id\":\"14916\"},\"selection_policy\":{\"id\":\"14917\"}},\"id\":\"14480\",\"type\":\"ColumnDataSource\"},{\"attributes\":{},\"id\":\"14406\",\"type\":\"YearsTicker\"},{\"attributes\":{\"data_source\":{\"id\":\"14410\"},\"glyph\":{\"id\":\"14411\"},\"hover_glyph\":null,\"muted_glyph\":null,\"nonselection_glyph\":{\"id\":\"14412\"},\"selection_glyph\":null,\"view\":{\"id\":\"14414\"}},\"id\":\"14413\",\"type\":\"GlyphRenderer\"},{\"attributes\":{},\"id\":\"14425\",\"type\":\"Selection\"},{\"attributes\":{\"fill_color\":{\"value\":\"white\"},\"line_color\":{\"value\":\"darkviolet\"},\"size\":{\"units\":\"screen\",\"value\":5},\"x\":{\"field\":\"x\"},\"y\":{\"field\":\"y\"}},\"id\":\"14444\",\"type\":\"Circle\"},{\"attributes\":{},\"id\":\"14464\",\"type\":\"Selection\"},{\"attributes\":{},\"id\":\"14426\",\"type\":\"UnionRenderers\"},{\"attributes\":{\"days\":[1,2,3,4,5,6,7,8,9,10,11,12,13,14,15,16,17,18,19,20,21,22,23,24,25,26,27,28,29,30,31]},\"id\":\"14398\",\"type\":\"DaysTicker\"},{\"attributes\":{\"label\":{\"value\":\"R_squared_deaths\"},\"renderers\":[{\"id\":\"14418\"}]},\"id\":\"14442\",\"type\":\"LegendItem\"},{\"attributes\":{\"source\":{\"id\":\"14415\"}},\"id\":\"14419\",\"type\":\"CDSView\"},{\"attributes\":{},\"id\":\"14428\",\"type\":\"UnionRenderers\"},{\"attributes\":{\"source\":{\"id\":\"14448\"}},\"id\":\"14452\",\"type\":\"CDSView\"},{\"attributes\":{\"data_source\":{\"id\":\"14448\"},\"glyph\":{\"id\":\"14449\"},\"hover_glyph\":null,\"muted_glyph\":null,\"nonselection_glyph\":{\"id\":\"14450\"},\"selection_glyph\":null,\"view\":{\"id\":\"14452\"}},\"id\":\"14451\",\"type\":\"GlyphRenderer\"},{\"attributes\":{\"text\":\"Total Cases/Deaths/Guariti Exponential Validity: Italy\"},\"id\":\"14353\",\"type\":\"Title\"},{\"attributes\":{},\"id\":\"14355\",\"type\":\"DataRange1d\"},{\"attributes\":{},\"id\":\"14427\",\"type\":\"Selection\"},{\"attributes\":{\"source\":{\"id\":\"14443\"}},\"id\":\"14447\",\"type\":\"CDSView\"},{\"attributes\":{},\"id\":\"14357\",\"type\":\"DataRange1d\"},{\"attributes\":{\"data\":{\"x\":{\"__ndarray__\":\"AACARzYJd0IAAECtiAl3QgAAABPbCXdCAADAeC0Kd0IAAIDefwp3QgAAQETSCndCAAAAqiQLd0IAAMAPdwt3QgAAgHXJC3dCAABA2xsMd0IAAABBbgx3QgAAwKbADHdCAACADBMNd0IAAEByZQ13QgAAANi3DXdCAADAPQoOd0IAAICjXA53QgAAQAmvDndCAAAAbwEPd0IAAMDUUw93QgAAgDqmD3dCAABAoPgPd0IAAAAGSxB3QgAAwGudEHdCAACA0e8Qd0IAAEA3QhF3QgAAAJ2UEXdCAADAAucRd0IAAIBoORJ3QgAAQM6LEndCAAAANN4Sd0IAAMCZMBN3QgAAgP+CE3dCAABAZdUTd0IAAADLJxR3QgAAwDB6FHdCAACAlswUd0IAAED8HhV3QgAAAGJxFXdCAADAx8MVd0IAAIAtFhZ3QgAAQJNoFndCAAAA+boWd0IAAMBeDRd3QgAAgMRfF3dCAABAKrIXd0IAAACQBBh3QgAAwPVWGHdCAACAW6kYd0IAAEDB+xh3QgAAACdOGXdCAADAjKAZd0IAAIDy8hl3QgAAQFhFGndCAAAAvpcad0IAAMAj6hp3QgAAgIk8G3dCAABA744bd0IAAABV4Rt3QgAAwLozHHdCAACAIIYcd0IAAECG2Bx3QgAAAOwqHXdCAADAUX0dd0IAAIC3zx13QgAAQB0iHndCAAAAg3Qed0IAAMDoxh53QgAAgE4ZH3dCAABAtGsfd0IAAAAavh93QgAAwH8QIHdCAACA5WIgd0IAAEBLtSB3QgAAALEHIXdCAADAFlohd0IAAIB8rCF3QgAAQOL+IXdCAAAASFEid0IAAMCtoyJ3QgAAgBP2IndCAABAeUgjd0IAAADfmiN3QgAAwETtI3dCAACAqj8kd0IAAEAQkiR3QgAAAHbkJHdCAADA2zYld0IAAIBBiSV3QgAAQKfbJXdCAAAADS4md0IAAMBygCZ3QgAAgNjSJndCAABAPiUnd0IAAACkdyd3QgAAwAnKJ3dCAACAbxwod0IAAEDVbih3QgAAADvBKHdCAADAoBMpd0IAAIAGZil3QgAAQGy4KXdCAAAA0goqd0IAAMA3XSp3QgAAgJ2vKndCAABAAwIrd0IAAABpVCt3QgAAwM6mK3dCAACANPkrd0IAAECaSyx3QgAAAACeLHdCAADAZfAsd0IAAIDLQi13QgAAQDGVLXdCAAAAl+ctd0IAAMD8OS53QgAAgGKMLndCAABAyN4ud0IAAAAuMS93QgAAwJODL3dCAACA+dUvd0I=\",\"dtype\":\"float64\",\"shape\":[121]},\"y\":[0.9944315925511179,0.9898318473486883,0.9871737529160225,0.9879731207786646,0.9909413667306475,0.9915465082064858,0.9946223137354124,0.9967037909147167,0.9979386020865314,0.9934056192034189,0.9944759212851118,0.99592794927204,0.9961691617509991,0.9969301601706759,0.9971358976717425,0.9958902199710057,0.9941628915249575,0.9931255075470334,0.9933633510388306,0.994032100212956,0.994688474359967,0.9942027803878379,0.9922106418494722,0.9898164875978024,0.987197833918425,0.9853145617394674,0.9836046426669457,0.9819732775925107,0.9798470389854931,0.9766564879206877,0.9729539467769811,0.9696078326797823,0.9665104789691191,0.9636113947435441,0.9610596188506716,0.9585126958173368,0.9556308351154628,0.9522851555015911,0.9491538036081114,0.9464404471188844,0.9439487048383793,0.9420237466639323,0.940258800232746,0.9382296783763806,0.9359687894513932,0.933447173913058,0.9312433551574293,0.9291951107214425,0.92729667736873,0.9253753520687699,0.9231732416103402,0.9209547388156726,0.9189798622195995,0.9169730031158049,0.9150917132232076,0.9131160743539135,0.9110765084609139,0.9088212477657631,0.9065220214269978,0.9042067728939025,0.9018340114476103,0.8994612819721594,0.8970885321131469,0.8945857132675741,0.8919421368671772,0.8891542856798136,0.8863643767704429,0.8835768591867103,0.8807864010398864,0.8779416987522529,0.8749881786024294,0.8719376935045307,0.8689898101762707,0.8660095449268841,0.8630394684938316,0.8600376029800153,0.8570401188914588,0.8540065155215382,0.8508947024522553,0.8478118690058419,0.8447275988996619,0.8416449443222731,0.8385742203009493,0.8355259648526927,0.8324728271586163,0.8293683451529894,0.8262465535831918,0.8231585041949218,0.8201092523308423,0.8170837592756848,0.8140631580546553,0.8110388571050465,0.807977301797912,0.8049171443078778,0.8018636321406905,0.7987896809369919,0.7957742179589785,0.792764128256589,0.7897475926081354,0.786746272656691,0.7837633054925285,0.7807841531457058,0.7778481099427089,0.7749114666047064,0.7720142545885778,0.7691550857635778,0.7663268635910401,0.7635123450119147,0.7607363340920518,0.7579994108236128,0.7552092551793972,0.7524505518009303,0.7497159874139115,0.7470056992780088,0.7443000682032053]},\"selected\":{\"id\":\"14427\"},\"selection_policy\":{\"id\":\"14428\"}},\"id\":\"14410\",\"type\":\"ColumnDataSource\"},{\"attributes\":{\"days\":[1,15]},\"id\":\"14401\",\"type\":\"DaysTicker\"},{\"attributes\":{},\"id\":\"14359\",\"type\":\"LinearScale\"},{\"attributes\":{\"months\":[0,6]},\"id\":\"14405\",\"type\":\"MonthsTicker\"},{\"attributes\":{\"data_source\":{\"id\":\"14443\"},\"glyph\":{\"id\":\"14444\"},\"hover_glyph\":null,\"muted_glyph\":null,\"nonselection_glyph\":{\"id\":\"14445\"},\"selection_glyph\":null,\"view\":{\"id\":\"14447\"}},\"id\":\"14446\",\"type\":\"GlyphRenderer\"},{\"attributes\":{\"days\":[1,8,15,22]},\"id\":\"14400\",\"type\":\"DaysTicker\"},{\"attributes\":{\"months\":[0,2,4,6,8,10]},\"id\":\"14403\",\"type\":\"MonthsTicker\"},{\"attributes\":{\"items\":[{\"id\":\"14409\"},{\"id\":\"14442\"},{\"id\":\"14479\"}],\"location\":\"bottom_right\"},\"id\":\"14408\",\"type\":\"Legend\"},{\"attributes\":{\"num_minor_ticks\":5,\"tickers\":[{\"id\":\"14395\"},{\"id\":\"14396\"},{\"id\":\"14397\"},{\"id\":\"14398\"},{\"id\":\"14399\"},{\"id\":\"14400\"},{\"id\":\"14401\"},{\"id\":\"14402\"},{\"id\":\"14403\"},{\"id\":\"14404\"},{\"id\":\"14405\"},{\"id\":\"14406\"}]},\"id\":\"14364\",\"type\":\"DatetimeTicker\"},{\"attributes\":{},\"id\":\"14361\",\"type\":\"LinearScale\"},{\"attributes\":{},\"id\":\"14463\",\"type\":\"UnionRenderers\"},{\"attributes\":{},\"id\":\"14368\",\"type\":\"BasicTicker\"},{\"attributes\":{\"months\":[0,1,2,3,4,5,6,7,8,9,10,11]},\"id\":\"14402\",\"type\":\"MonthsTicker\"},{\"attributes\":{\"axis\":{\"id\":\"14363\"},\"ticker\":null},\"id\":\"14366\",\"type\":\"Grid\"},{\"attributes\":{\"line_alpha\":0.1,\"line_color\":\"darkviolet\",\"line_width\":4,\"x\":{\"field\":\"x\"},\"y\":{\"field\":\"y\"}},\"id\":\"14417\",\"type\":\"Line\"},{\"attributes\":{\"days\":[1,4,7,10,13,16,19,22,25,28]},\"id\":\"14399\",\"type\":\"DaysTicker\"},{\"attributes\":{\"axis\":{\"id\":\"14367\"},\"dimension\":1,\"ticker\":null},\"id\":\"14370\",\"type\":\"Grid\"},{\"attributes\":{\"months\":[0,4,8]},\"id\":\"14404\",\"type\":\"MonthsTicker\"},{\"attributes\":{\"axis_label\":\"R_squared\",\"formatter\":{\"id\":\"14487\"},\"minor_tick_in\":-5,\"minor_tick_out\":-3,\"ticker\":{\"id\":\"14368\"}},\"id\":\"14367\",\"type\":\"LinearAxis\"},{\"attributes\":{\"data_source\":{\"id\":\"14415\"},\"glyph\":{\"id\":\"14416\"},\"hover_glyph\":null,\"muted_glyph\":null,\"nonselection_glyph\":{\"id\":\"14417\"},\"selection_glyph\":null,\"view\":{\"id\":\"14419\"}},\"id\":\"14418\",\"type\":\"GlyphRenderer\"},{\"attributes\":{\"data\":{\"x\":{\"__ndarray__\":\"AACARzYJd0IAAECtiAl3QgAAABPbCXdCAADAeC0Kd0IAAIDefwp3QgAAQETSCndCAAAAqiQLd0IAAMAPdwt3QgAAgHXJC3dCAABA2xsMd0IAAABBbgx3QgAAwKbADHdCAACADBMNd0IAAEByZQ13QgAAANi3DXdCAADAPQoOd0IAAICjXA53QgAAQAmvDndCAAAAbwEPd0IAAMDUUw93QgAAgDqmD3dCAABAoPgPd0IAAAAGSxB3QgAAwGudEHdCAACA0e8Qd0IAAEA3QhF3QgAAAJ2UEXdCAADAAucRd0IAAIBoORJ3QgAAQM6LEndCAAAANN4Sd0IAAMCZMBN3QgAAgP+CE3dCAABAZdUTd0IAAADLJxR3QgAAwDB6FHdCAACAlswUd0IAAED8HhV3QgAAAGJxFXdCAADAx8MVd0IAAIAtFhZ3QgAAQJNoFndCAAAA+boWd0IAAMBeDRd3QgAAgMRfF3dCAABAKrIXd0IAAACQBBh3QgAAwPVWGHdCAACAW6kYd0IAAEDB+xh3QgAAACdOGXdCAADAjKAZd0IAAIDy8hl3QgAAQFhFGndCAAAAvpcad0IAAMAj6hp3QgAAgIk8G3dCAABA744bd0IAAABV4Rt3QgAAwLozHHdCAACAIIYcd0IAAECG2Bx3QgAAAOwqHXdCAADAUX0dd0IAAIC3zx13QgAAQB0iHndCAAAAg3Qed0IAAMDoxh53QgAAgE4ZH3dCAABAtGsfd0IAAAAavh93QgAAwH8QIHdCAACA5WIgd0IAAEBLtSB3QgAAALEHIXdCAADAFlohd0IAAIB8rCF3QgAAQOL+IXdCAAAASFEid0IAAMCtoyJ3QgAAgBP2IndCAABAeUgjd0IAAADfmiN3QgAAwETtI3dCAACAqj8kd0IAAEAQkiR3QgAAAHbkJHdCAADA2zYld0IAAIBBiSV3QgAAQKfbJXdCAAAADS4md0IAAMBygCZ3QgAAgNjSJndCAABAPiUnd0IAAACkdyd3QgAAwAnKJ3dCAACAbxwod0IAAEDVbih3QgAAADvBKHdCAADAoBMpd0IAAIAGZil3QgAAQGy4KXdCAAAA0goqd0IAAMA3XSp3QgAAgJ2vKndCAABAAwIrd0IAAABpVCt3QgAAwM6mK3dCAACANPkrd0IAAECaSyx3QgAAAACeLHdCAADAZfAsd0IAAIDLQi13QgAAQDGVLXdCAAAAl+ctd0IAAMD8OS53QgAAgGKMLndCAABAyN4ud0IAAAAuMS93QgAAwJODL3dCAACA+dUvd0I=\",\"dtype\":\"float64\",\"shape\":[121]},\"y\":[0.9944315925511179,0.9898318473486883,0.9871737529160225,0.9879731207786646,0.9909413667306475,0.9915465082064858,0.9946223137354124,0.9967037909147167,0.9979386020865314,0.9934056192034189,0.9944759212851118,0.99592794927204,0.9961691617509991,0.9969301601706759,0.9971358976717425,0.9958902199710057,0.9941628915249575,0.9931255075470334,0.9933633510388306,0.994032100212956,0.994688474359967,0.9942027803878379,0.9922106418494722,0.9898164875978024,0.987197833918425,0.9853145617394674,0.9836046426669457,0.9819732775925107,0.9798470389854931,0.9766564879206877,0.9729539467769811,0.9696078326797823,0.9665104789691191,0.9636113947435441,0.9610596188506716,0.9585126958173368,0.9556308351154628,0.9522851555015911,0.9491538036081114,0.9464404471188844,0.9439487048383793,0.9420237466639323,0.940258800232746,0.9382296783763806,0.9359687894513932,0.933447173913058,0.9312433551574293,0.9291951107214425,0.92729667736873,0.9253753520687699,0.9231732416103402,0.9209547388156726,0.9189798622195995,0.9169730031158049,0.9150917132232076,0.9131160743539135,0.9110765084609139,0.9088212477657631,0.9065220214269978,0.9042067728939025,0.9018340114476103,0.8994612819721594,0.8970885321131469,0.8945857132675741,0.8919421368671772,0.8891542856798136,0.8863643767704429,0.8835768591867103,0.8807864010398864,0.8779416987522529,0.8749881786024294,0.8719376935045307,0.8689898101762707,0.8660095449268841,0.8630394684938316,0.8600376029800153,0.8570401188914588,0.8540065155215382,0.8508947024522553,0.8478118690058419,0.8447275988996619,0.8416449443222731,0.8385742203009493,0.8355259648526927,0.8324728271586163,0.8293683451529894,0.8262465535831918,0.8231585041949218,0.8201092523308423,0.8170837592756848,0.8140631580546553,0.8110388571050465,0.807977301797912,0.8049171443078778,0.8018636321406905,0.7987896809369919,0.7957742179589785,0.792764128256589,0.7897475926081354,0.786746272656691,0.7837633054925285,0.7807841531457058,0.7778481099427089,0.7749114666047064,0.7720142545885778,0.7691550857635778,0.7663268635910401,0.7635123450119147,0.7607363340920518,0.7579994108236128,0.7552092551793972,0.7524505518009303,0.7497159874139115,0.7470056992780088,0.7443000682032053]},\"selected\":{\"id\":\"14425\"},\"selection_policy\":{\"id\":\"14426\"}},\"id\":\"14385\",\"type\":\"ColumnDataSource\"},{\"attributes\":{\"line_alpha\":0.1,\"line_color\":\"blue\",\"line_width\":4,\"x\":{\"field\":\"x\"},\"y\":{\"field\":\"y\"}},\"id\":\"14387\",\"type\":\"Line\"},{\"attributes\":{\"source\":{\"id\":\"14410\"}},\"id\":\"14414\",\"type\":\"CDSView\"},{\"attributes\":{\"line_color\":\"blue\",\"line_width\":4,\"x\":{\"field\":\"x\"},\"y\":{\"field\":\"y\"}},\"id\":\"14386\",\"type\":\"Line\"},{\"attributes\":{\"data\":{\"x\":{\"__ndarray__\":\"AACARzYJd0IAAECtiAl3QgAAABPbCXdCAADAeC0Kd0IAAIDefwp3QgAAQETSCndCAAAAqiQLd0IAAMAPdwt3QgAAgHXJC3dCAABA2xsMd0IAAABBbgx3QgAAwKbADHdCAACADBMNd0IAAEByZQ13QgAAANi3DXdCAADAPQoOd0IAAICjXA53QgAAQAmvDndCAAAAbwEPd0IAAMDUUw93QgAAgDqmD3dCAABAoPgPd0IAAAAGSxB3QgAAwGudEHdCAACA0e8Qd0IAAEA3QhF3QgAAAJ2UEXdCAADAAucRd0IAAIBoORJ3QgAAQM6LEndCAAAANN4Sd0IAAMCZMBN3QgAAgP+CE3dCAABAZdUTd0IAAADLJxR3QgAAwDB6FHdCAACAlswUd0IAAED8HhV3QgAAAGJxFXdCAADAx8MVd0IAAIAtFhZ3QgAAQJNoFndCAAAA+boWd0IAAMBeDRd3QgAAgMRfF3dCAABAKrIXd0IAAACQBBh3QgAAwPVWGHdCAACAW6kYd0IAAEDB+xh3QgAAACdOGXdCAADAjKAZd0IAAIDy8hl3QgAAQFhFGndCAAAAvpcad0IAAMAj6hp3QgAAgIk8G3dCAABA744bd0IAAABV4Rt3QgAAwLozHHdCAACAIIYcd0IAAECG2Bx3QgAAAOwqHXdCAADAUX0dd0IAAIC3zx13QgAAQB0iHndCAAAAg3Qed0IAAMDoxh53QgAAgE4ZH3dCAABAtGsfd0IAAAAavh93QgAAwH8QIHdCAACA5WIgd0IAAEBLtSB3QgAAALEHIXdCAADAFlohd0IAAIB8rCF3QgAAQOL+IXdCAAAASFEid0IAAMCtoyJ3QgAAgBP2IndCAABAeUgjd0IAAADfmiN3QgAAwETtI3dCAACAqj8kd0IAAEAQkiR3QgAAAHbkJHdCAADA2zYld0IAAIBBiSV3QgAAQKfbJXdCAAAADS4md0IAAMBygCZ3QgAAgNjSJndCAABAPiUnd0IAAACkdyd3QgAAwAnKJ3dCAACAbxwod0IAAEDVbih3QgAAADvBKHdCAADAoBMpd0IAAIAGZil3QgAAQGy4KXdCAAAA0goqd0IAAMA3XSp3QgAAgJ2vKndCAABAAwIrd0IAAABpVCt3QgAAwM6mK3dCAACANPkrd0IAAECaSyx3QgAAAACeLHdCAADAZfAsd0IAAIDLQi13QgAAQDGVLXdCAAAAl+ctd0IAAMD8OS53QgAAgGKMLndCAABAyN4ud0IAAAAuMS93QgAAwJODL3dCAACA+dUvd0I=\",\"dtype\":\"float64\",\"shape\":[121]},\"y\":[0.9906384833099334,0.9876702701263628,0.986034206451665,0.9937023701385499,0.9970511977507855,0.9979544752352847,0.9913778365717426,0.9929248433250588,0.9957403179282476,0.9977413133698139,0.9985366218172942,0.9969106059526226,0.996211572251712,0.9909112544567887,0.9925418195655226,0.9932047921984762,0.9924285278783038,0.9930340764201312,0.9923577489344909,0.9932926697800687,0.9948845546297247,0.9950079961757051,0.9935421243409132,0.9923519864209975,0.9905689301056676,0.9882674204511754,0.9878264212632235,0.9873989916144827,0.9860735965572663,0.9845430102319735,0.9830060388504964,0.9809094757488263,0.9787131870741717,0.9765424924030026,0.9740607080719607,0.9707721359330386,0.9675980745847533,0.9644603235650501,0.9611847156868383,0.9581929227609429,0.9553138048152379,0.9527668866041618,0.949832519376967,0.9471741782289388,0.9448856132660635,0.9428262702142188,0.9408090496270258,0.9390094702651643,0.9371368895937208,0.9351084492759572,0.9330557612153584,0.9312289735564631,0.9293543463395025,0.9275386266286831,0.9256884677837561,0.923825484706234,0.9216168769019616,0.9193267564535198,0.9171080210761422,0.9148403674368056,0.9124738376193,0.9100150508583008,0.9079318355263625,0.9055617444260692,0.9030142411545999,0.9004203648795525,0.8980689816751007,0.895753592355098,0.8934258167984068,0.8910112034278967,0.8884835555981856,0.8858991595144673,0.8832672224045979,0.8806489898317053,0.8781735601338101,0.875798568138153,0.8733701733341191,0.8708924136063186,0.868304639054517,0.8657347591288924,0.8631886604807198,0.8606646697392588,0.858127410712821,0.8555693576054788,0.852892171710644,0.8501818039869902,0.8474274701530655,0.844700900642225,0.8419345520946966,0.8391646559956998,0.8364338566397378,0.8336910711516987,0.8309211457595196,0.8281248123000429,0.8253329993158202,0.8225748810114298,0.8198481378354814,0.8171364351895642,0.8144164389141544,0.8117098496622602,0.8090390142962303,0.8063941173576937,0.8037525871249604,0.8011218929019263,0.798534052945386,0.7959443157297019,0.7933324930099895,0.7907137868390863,0.7881034028225027,0.7855332424297904,0.782979060796708,0.780445007608978,0.7779009250870768,0.7753487688829088,0.7727853047065396]},\"selected\":{\"id\":\"14462\"},\"selection_policy\":{\"id\":\"14463\"}},\"id\":\"14415\",\"type\":\"ColumnDataSource\"},{\"attributes\":{\"line_color\":\"green\",\"line_width\":4,\"x\":{\"field\":\"x\"},\"y\":{\"field\":\"y\"}},\"id\":\"14449\",\"type\":\"Line\"},{\"attributes\":{\"label\":{\"value\":\"R_squared_cases\"},\"renderers\":[{\"id\":\"14388\"}]},\"id\":\"14409\",\"type\":\"LegendItem\"},{\"attributes\":{},\"id\":\"14371\",\"type\":\"PanTool\"},{\"attributes\":{},\"id\":\"14372\",\"type\":\"WheelZoomTool\"},{\"attributes\":{},\"id\":\"14465\",\"type\":\"UnionRenderers\"}],\"root_ids\":[\"14352\"]},\"title\":\"Bokeh Application\",\"version\":\"2.0.2\"}};\n",
       "  var render_items = [{\"docid\":\"b4e2feb7-752f-4fc0-adf5-4a1df06dc317\",\"root_ids\":[\"14352\"],\"roots\":{\"14352\":\"8d9f767a-8f7a-4cec-b449-42ae59844ccb\"}}];\n",
       "  root.Bokeh.embed.embed_items_notebook(docs_json, render_items);\n",
       "\n",
       "  }\n",
       "  if (root.Bokeh !== undefined) {\n",
       "    embed_document(root);\n",
       "  } else {\n",
       "    var attempts = 0;\n",
       "    var timer = setInterval(function(root) {\n",
       "      if (root.Bokeh !== undefined) {\n",
       "        clearInterval(timer);\n",
       "        embed_document(root);\n",
       "      } else {\n",
       "        attempts++;\n",
       "        if (attempts > 100) {\n",
       "          clearInterval(timer);\n",
       "          console.log(\"Bokeh: ERROR: Unable to run BokehJS code because BokehJS library is missing\");\n",
       "        }\n",
       "      }\n",
       "    }, 10, root)\n",
       "  }\n",
       "})(window);"
      ],
      "application/vnd.bokehjs_exec.v0+json": ""
     },
     "metadata": {
      "application/vnd.bokehjs_exec.v0+json": {
       "id": "14352"
      }
     },
     "output_type": "display_data"
    }
   ],
   "source": [
    "p_total_cases_deaths_guariti_exp_val_Italy = bokeh_plot_N_lines(x=time_date_new + 6, y_list=[R_2_cases, R_2_deaths, R_2_guariti], \n",
    "                  title='Total Cases/Deaths/Guariti Exponential Validity: Italy', \n",
    "                  dim=[600, 450], \n",
    "                  x_label='Date', \n",
    "                  y_label='R_squared', legend_list=['R_squared_cases', 'R_squared_deaths', 'R_squared_guariti'],\n",
    "                  x_label_hover='date', y_label_hover='R_squared_cases/deaths/guariti',\n",
    "                  color_list=['blue', 'darkviolet', 'green'],legend_location=\"bottom_right\", y_minmax=None)\n",
    "\n",
    "output_file(\"total_cases_deaths_guariti_exponential_validity_Italy.html\")\n",
    "\n",
    "show(p_total_cases_deaths_guariti_exp_val_Italy)"
   ]
  },
  {
   "cell_type": "markdown",
   "metadata": {},
   "source": [
    "--------------------------\n",
    "\n",
    "----------------------\n",
    "\n",
    "--------------------------"
   ]
  },
  {
   "cell_type": "markdown",
   "metadata": {},
   "source": [
    "### -----  Logistic Fitting -----"
   ]
  },
  {
   "cell_type": "code",
   "execution_count": 63,
   "metadata": {},
   "outputs": [
    {
     "data": {
      "text/plain": [
       "(232369.39036294192, 0.08835774269248864, 6400.299447450734)"
      ]
     },
     "execution_count": 63,
     "metadata": {},
     "output_type": "execute_result"
    }
   ],
   "source": [
    "fit_range_1 = len(total_cases_italy)\n",
    "xdata_1 = np.linspace(0, fit_range_1, fit_range_1)\n",
    "init_guess = [500000, 0.10, 100]\n",
    "fit = curve_fit(model_population, xdata_1, total_cases_italy.loc[0:(fit_range_1-1)], p0 = init_guess)\n",
    "ans, cov = fit\n",
    "fit_K, fit_r, fit_P_0 = ans\n",
    "fit_K, fit_r, fit_P_0"
   ]
  },
  {
   "cell_type": "code",
   "execution_count": 64,
   "metadata": {},
   "outputs": [
    {
     "data": {
      "text/plain": [
       "array([[ 1.05636211e+06, -9.43273062e-01,  1.81605945e+05],\n",
       "       [-9.43273062e-01,  3.41653129e-06, -8.09984853e-01],\n",
       "       [ 1.81605945e+05, -8.09984853e-01,  2.10304486e+05]])"
      ]
     },
     "execution_count": 64,
     "metadata": {},
     "output_type": "execute_result"
    }
   ],
   "source": [
    "cov"
   ]
  },
  {
   "cell_type": "code",
   "execution_count": 65,
   "metadata": {},
   "outputs": [
    {
     "data": {
      "text/plain": [
       "array([1.02779478e+03, 1.84838613e-03, 4.58589670e+02])"
      ]
     },
     "execution_count": 65,
     "metadata": {},
     "output_type": "execute_result"
    }
   ],
   "source": [
    "np.sqrt(np.diag(cov))"
   ]
  },
  {
   "cell_type": "code",
   "execution_count": 66,
   "metadata": {},
   "outputs": [
    {
     "data": {
      "text/plain": [
       "array([  6400.29944745,   6978.78973254,   7607.80642838,   8291.4324219 ,\n",
       "         9034.01892638,   9840.19142024,  10714.85319673,  11663.18593353,\n",
       "        12690.64661414,  13802.9600564 ,  15006.10622931,  16306.30147198,\n",
       "        17709.97267349,  19223.72343577,  20854.29123127,  22608.49459206,\n",
       "        24493.16943674,  26515.09376772,  28680.90016361,  30996.97576158,\n",
       "        33469.34977963,  36103.56907609,  38904.56278305,  41876.497678  ,\n",
       "        45022.62665954,  48345.13344689,  51844.97739473,  55521.7430607 ,\n",
       "        59373.49982784,  63396.67740502,  67585.96333872,  71934.22870294,\n",
       "        76432.48783398,  81069.89730124,  85833.79823834,  90709.80471334,\n",
       "        95681.93904274, 100732.81293636, 105843.85121768, 110995.55273875,\n",
       "       116167.78115738, 121340.07661697, 126491.97820112, 131603.34642384,\n",
       "       136654.67501361, 141627.38185777, 146504.07013851, 151268.75231592,\n",
       "       155907.03156413, 160406.23739079, 164755.5143132 , 168945.86448342,\n",
       "       172970.14693054, 176823.03753589, 180500.95492699, 184001.95815365,\n",
       "       187325.62231211, 190472.89825187, 193445.96219109, 196248.06054662,\n",
       "       198883.35462078, 201356.76904146, 203673.84708018, 205840.61521885,\n",
       "       207863.45863388, 209749.0086381 , 211504.04258105, 213135.39626032,\n",
       "       214649.88854062, 216054.25760703, 217355.10808588, 218558.86814038,\n",
       "       219671.7555778 , 220699.75198018, 221648.58388034, 222523.71004179,\n",
       "       223330.31395597, 224073.3007374 , 224757.29767163, 225386.6577476 ,\n",
       "       225965.46558239, 226497.54522087, 226986.46936171, 227435.56962659,\n",
       "       227847.94754766, 228226.48600169, 228573.86086584, 228892.55271172,\n",
       "       229184.85838987, 229452.90238802, 229698.64787276, 229923.90734657,\n",
       "       230130.35287118, 230319.52582346, 230492.84616313, 230651.62120203,\n",
       "       230797.05387305, 230930.25050344, 231052.22810257, 231163.92117807,\n",
       "       231266.18809734, 231359.81701334, 231445.53137514, 231523.99504451,\n",
       "       231595.81704007, 231661.55593078, 231721.72390003, 231776.79050125,\n",
       "       231827.18612534, 231873.30519929, 231915.50913469, 231954.12904381,\n",
       "       231989.46823998, 232021.80453821, 232051.39237085, 232078.46473224,\n",
       "       232103.23496549, 232125.89840356, 232146.63387593, 232165.60509148,\n",
       "       232182.9619074 ])"
      ]
     },
     "execution_count": 66,
     "metadata": {},
     "output_type": "execute_result"
    }
   ],
   "source": [
    "ydata_1 = model_population(xdata_1, fit_K, fit_r, fit_P_0)\n",
    "ydata_1"
   ]
  },
  {
   "cell_type": "code",
   "execution_count": 67,
   "metadata": {
    "scrolled": false
   },
   "outputs": [
    {
     "data": {
      "text/html": [
       "\n",
       "\n",
       "\n",
       "\n",
       "\n",
       "\n",
       "  <div class=\"bk-root\" id=\"9412b7b0-81c6-4fa0-9d01-dda627445849\" data-root-id=\"15464\"></div>\n"
      ]
     },
     "metadata": {},
     "output_type": "display_data"
    },
    {
     "data": {
      "application/javascript": [
       "(function(root) {\n",
       "  function embed_document(root) {\n",
       "    \n",
       "  var docs_json = {\"837ba047-ee96-47c4-90ba-04ce304d6eed\":{\"roots\":{\"references\":[{\"attributes\":{\"below\":[{\"id\":\"15475\"}],\"center\":[{\"id\":\"15478\"},{\"id\":\"15482\"},{\"id\":\"15520\"}],\"left\":[{\"id\":\"15479\"}],\"plot_height\":450,\"renderers\":[{\"id\":\"15500\"},{\"id\":\"15525\"},{\"id\":\"15530\"},{\"id\":\"15558\"}],\"title\":{\"id\":\"15465\"},\"toolbar\":{\"id\":\"15490\"},\"x_range\":{\"id\":\"15467\"},\"x_scale\":{\"id\":\"15471\"},\"y_range\":{\"id\":\"15469\"},\"y_scale\":{\"id\":\"15473\"}},\"id\":\"15464\",\"subtype\":\"Figure\",\"type\":\"Plot\"},{\"attributes\":{\"days\":[\"%d %B\"]},\"id\":\"15560\",\"type\":\"DatetimeTickFormatter\"},{\"attributes\":{\"days\":[1,8,15,22]},\"id\":\"15512\",\"type\":\"DaysTicker\"},{\"attributes\":{\"source\":{\"id\":\"15522\"}},\"id\":\"15526\",\"type\":\"CDSView\"},{\"attributes\":{\"label\":{\"value\":\"logistic fitting\"},\"renderers\":[{\"id\":\"15530\"}]},\"id\":\"15554\",\"type\":\"LegendItem\"},{\"attributes\":{},\"id\":\"15539\",\"type\":\"Selection\"},{\"attributes\":{\"axis_label\":\"Total Cases\",\"formatter\":{\"id\":\"15564\"},\"minor_tick_in\":-5,\"minor_tick_out\":-3,\"ticker\":{\"id\":\"15480\"}},\"id\":\"15479\",\"type\":\"LinearAxis\"},{\"attributes\":{\"active_drag\":\"auto\",\"active_inspect\":\"auto\",\"active_multi\":null,\"active_scroll\":\"auto\",\"active_tap\":\"auto\",\"tools\":[{\"id\":\"15483\"},{\"id\":\"15484\"},{\"id\":\"15485\"},{\"id\":\"15486\"},{\"id\":\"15487\"},{\"id\":\"15488\"},{\"id\":\"15565\"}]},\"id\":\"15490\",\"type\":\"Toolbar\"},{\"attributes\":{\"items\":[{\"id\":\"15521\"},{\"id\":\"15554\"}],\"location\":\"top_left\"},\"id\":\"15520\",\"type\":\"Legend\"},{\"attributes\":{\"bottom_units\":\"screen\",\"fill_alpha\":0.5,\"fill_color\":\"lightgrey\",\"left_units\":\"screen\",\"level\":\"overlay\",\"line_alpha\":1.0,\"line_color\":\"black\",\"line_dash\":[4,4],\"line_width\":2,\"render_mode\":\"css\",\"right_units\":\"screen\",\"top_units\":\"screen\"},\"id\":\"15489\",\"type\":\"BoxAnnotation\"},{\"attributes\":{\"data_source\":{\"id\":\"15497\"},\"glyph\":{\"id\":\"15498\"},\"hover_glyph\":null,\"muted_glyph\":null,\"nonselection_glyph\":{\"id\":\"15499\"},\"selection_glyph\":null,\"view\":{\"id\":\"15501\"}},\"id\":\"15500\",\"type\":\"GlyphRenderer\"},{\"attributes\":{\"source\":{\"id\":\"15555\"}},\"id\":\"15559\",\"type\":\"CDSView\"},{\"attributes\":{\"fill_alpha\":{\"value\":0.1},\"fill_color\":{\"value\":\"white\"},\"line_alpha\":{\"value\":0.1},\"line_color\":{\"value\":\"blue\"},\"size\":{\"units\":\"screen\",\"value\":6},\"x\":{\"field\":\"x\"},\"y\":{\"field\":\"y\"}},\"id\":\"15524\",\"type\":\"Circle\"},{\"attributes\":{},\"id\":\"16015\",\"type\":\"UnionRenderers\"},{\"attributes\":{},\"id\":\"15483\",\"type\":\"PanTool\"},{\"attributes\":{},\"id\":\"16014\",\"type\":\"Selection\"},{\"attributes\":{\"base\":24,\"mantissas\":[1,2,4,6,8,12],\"max_interval\":43200000.0,\"min_interval\":3600000.0,\"num_minor_ticks\":0},\"id\":\"15509\",\"type\":\"AdaptiveTicker\"},{\"attributes\":{\"text\":\"Logistic Fitting Total Cases: Italy\"},\"id\":\"15465\",\"type\":\"Title\"},{\"attributes\":{},\"id\":\"15484\",\"type\":\"WheelZoomTool\"},{\"attributes\":{\"data\":{\"x\":{\"__ndarray__\":\"AAAA5UcHd0IAAMBKmgd3QgAAgLDsB3dCAABAFj8Id0IAAAB8kQh3QgAAwOHjCHdCAACARzYJd0IAAECtiAl3QgAAABPbCXdCAADAeC0Kd0IAAIDefwp3QgAAQETSCndCAAAAqiQLd0IAAMAPdwt3QgAAgHXJC3dCAABA2xsMd0IAAABBbgx3QgAAwKbADHdCAACADBMNd0IAAEByZQ13QgAAANi3DXdCAADAPQoOd0IAAICjXA53QgAAQAmvDndCAAAAbwEPd0IAAMDUUw93QgAAgDqmD3dCAABAoPgPd0IAAAAGSxB3QgAAwGudEHdCAACA0e8Qd0IAAEA3QhF3QgAAAJ2UEXdCAADAAucRd0IAAIBoORJ3QgAAQM6LEndCAAAANN4Sd0IAAMCZMBN3QgAAgP+CE3dCAABAZdUTd0IAAADLJxR3QgAAwDB6FHdCAACAlswUd0IAAED8HhV3QgAAAGJxFXdCAADAx8MVd0IAAIAtFhZ3QgAAQJNoFndCAAAA+boWd0IAAMBeDRd3QgAAgMRfF3dCAABAKrIXd0IAAACQBBh3QgAAwPVWGHdCAACAW6kYd0IAAEDB+xh3QgAAACdOGXdCAADAjKAZd0IAAIDy8hl3QgAAQFhFGndCAAAAvpcad0IAAMAj6hp3QgAAgIk8G3dCAABA744bd0IAAABV4Rt3QgAAwLozHHdCAACAIIYcd0IAAECG2Bx3QgAAAOwqHXdCAADAUX0dd0IAAIC3zx13QgAAQB0iHndCAAAAg3Qed0IAAMDoxh53QgAAgE4ZH3dCAABAtGsfd0IAAAAavh93QgAAwH8QIHdCAACA5WIgd0IAAEBLtSB3QgAAALEHIXdCAADAFlohd0IAAIB8rCF3QgAAQOL+IXdCAAAASFEid0IAAMCtoyJ3QgAAgBP2IndCAABAeUgjd0IAAADfmiN3QgAAwETtI3dCAACAqj8kd0IAAEAQkiR3QgAAAHbkJHdCAADA2zYld0IAAIBBiSV3QgAAQKfbJXdCAAAADS4md0IAAMBygCZ3QgAAgNjSJndCAABAPiUnd0IAAACkdyd3QgAAwAnKJ3dCAACAbxwod0IAAEDVbih3QgAAADvBKHdCAADAoBMpd0IAAIAGZil3QgAAQGy4KXdCAAAA0goqd0IAAMA3XSp3QgAAgJ2vKndCAABAAwIrd0IAAABpVCt3QgAAwM6mK3dCAACANPkrd0IAAECaSyx3QgAAAACeLHdCAADAZfAsd0IAAIDLQi13QgAAQDGVLXdCAAAAl+ctd0I=\",\"dtype\":\"float64\",\"shape\":[121]},\"y\":[229,322,400,650,888,1128,1694,2036,2502,3089,3858,4636,5883,7375,9172,10149,12462,15113,17660,21157,24747,27980,31506,35713,41035,47021,53578,59138,63927,69176,74386,80539,86498,92472,97689,101739,105792,110574,115242,119827,124632,128948,132547,135586,139422,143626,147577,152271,156363,159516,162488,165155,168941,172434,175925,178972,181228,183957,187327,189973,192994,195351,197675,199414,201505,203591,205463,207428,209328,210717,211938,213013,214457,215858,217185,218268,219070,219814,221216,222104,223096,223885,224760,225435,225886,226699,227364,228006,228658,229327,229858,230158,230555,231139,231732,232248,232664,233019,233197,233515,233836,234013,234531,234801,234998,235278,235561,235763,236142,236305,236651,236989,237290,237500,237828,238159,238011,238275,238499,238720,238833]},\"selected\":{\"id\":\"15539\"},\"selection_policy\":{\"id\":\"15540\"}},\"id\":\"15522\",\"type\":\"ColumnDataSource\"},{\"attributes\":{\"axis\":{\"id\":\"15475\"},\"ticker\":null},\"id\":\"15478\",\"type\":\"Grid\"},{\"attributes\":{\"overlay\":{\"id\":\"15489\"}},\"id\":\"15485\",\"type\":\"BoxZoomTool\"},{\"attributes\":{\"callback\":null,\"formatters\":{\"@x\":\"datetime\"},\"mode\":\"vline\",\"tooltips\":[[\"date\",\"@x{%d %B}\"],[\"total cases OR fitting\",\"@y{0.}\"]]},\"id\":\"15565\",\"type\":\"HoverTool\"},{\"attributes\":{},\"id\":\"15467\",\"type\":\"DataRange1d\"},{\"attributes\":{},\"id\":\"15486\",\"type\":\"SaveTool\"},{\"attributes\":{},\"id\":\"16016\",\"type\":\"Selection\"},{\"attributes\":{},\"id\":\"15471\",\"type\":\"LinearScale\"},{\"attributes\":{\"data_source\":{\"id\":\"15527\"},\"glyph\":{\"id\":\"15528\"},\"hover_glyph\":null,\"muted_glyph\":null,\"nonselection_glyph\":{\"id\":\"15529\"},\"selection_glyph\":null,\"view\":{\"id\":\"15531\"}},\"id\":\"15530\",\"type\":\"GlyphRenderer\"},{\"attributes\":{\"fill_color\":{\"value\":\"white\"},\"line_color\":{\"value\":\"blue\"},\"size\":{\"units\":\"screen\",\"value\":6},\"x\":{\"field\":\"x\"},\"y\":{\"field\":\"y\"}},\"id\":\"15523\",\"type\":\"Circle\"},{\"attributes\":{},\"id\":\"15487\",\"type\":\"ResetTool\"},{\"attributes\":{\"days\":[1,15]},\"id\":\"15513\",\"type\":\"DaysTicker\"},{\"attributes\":{\"axis_label\":\"Date\",\"formatter\":{\"id\":\"15560\"},\"major_label_orientation\":0.7853981633974483,\"minor_tick_in\":-5,\"minor_tick_out\":-3,\"ticker\":{\"id\":\"15476\"}},\"id\":\"15475\",\"type\":\"DatetimeAxis\"},{\"attributes\":{},\"id\":\"15537\",\"type\":\"Selection\"},{\"attributes\":{\"data\":{\"x\":{\"__ndarray__\":\"AAAA5UcHd0IAAMBKmgd3QgAAgLDsB3dCAABAFj8Id0IAAAB8kQh3QgAAwOHjCHdCAACARzYJd0IAAECtiAl3QgAAABPbCXdCAADAeC0Kd0IAAIDefwp3QgAAQETSCndCAAAAqiQLd0IAAMAPdwt3QgAAgHXJC3dCAABA2xsMd0IAAABBbgx3QgAAwKbADHdCAACADBMNd0IAAEByZQ13QgAAANi3DXdCAADAPQoOd0IAAICjXA53QgAAQAmvDndCAAAAbwEPd0IAAMDUUw93QgAAgDqmD3dCAABAoPgPd0IAAAAGSxB3QgAAwGudEHdCAACA0e8Qd0IAAEA3QhF3QgAAAJ2UEXdCAADAAucRd0IAAIBoORJ3QgAAQM6LEndCAAAANN4Sd0IAAMCZMBN3QgAAgP+CE3dCAABAZdUTd0IAAADLJxR3QgAAwDB6FHdCAACAlswUd0IAAED8HhV3QgAAAGJxFXdCAADAx8MVd0IAAIAtFhZ3QgAAQJNoFndCAAAA+boWd0IAAMBeDRd3QgAAgMRfF3dCAABAKrIXd0IAAACQBBh3QgAAwPVWGHdCAACAW6kYd0IAAEDB+xh3QgAAACdOGXdCAADAjKAZd0IAAIDy8hl3QgAAQFhFGndCAAAAvpcad0IAAMAj6hp3QgAAgIk8G3dCAABA744bd0IAAABV4Rt3QgAAwLozHHdCAACAIIYcd0IAAECG2Bx3QgAAAOwqHXdCAADAUX0dd0IAAIC3zx13QgAAQB0iHndCAAAAg3Qed0IAAMDoxh53QgAAgE4ZH3dCAABAtGsfd0IAAAAavh93QgAAwH8QIHdCAACA5WIgd0IAAEBLtSB3QgAAALEHIXdCAADAFlohd0IAAIB8rCF3QgAAQOL+IXdCAAAASFEid0IAAMCtoyJ3QgAAgBP2IndCAABAeUgjd0IAAADfmiN3QgAAwETtI3dCAACAqj8kd0IAAEAQkiR3QgAAAHbkJHdCAADA2zYld0IAAIBBiSV3QgAAQKfbJXdCAAAADS4md0IAAMBygCZ3QgAAgNjSJndCAABAPiUnd0IAAACkdyd3QgAAwAnKJ3dCAACAbxwod0IAAEDVbih3QgAAADvBKHdCAADAoBMpd0IAAIAGZil3QgAAQGy4KXdCAAAA0goqd0IAAMA3XSp3QgAAgJ2vKndCAABAAwIrd0IAAABpVCt3QgAAwM6mK3dCAACANPkrd0IAAECaSyx3QgAAAACeLHdCAADAZfAsd0IAAIDLQi13QgAAQDGVLXdCAAAAl+ctd0I=\",\"dtype\":\"float64\",\"shape\":[121]},\"y\":{\"__ndarray__\":\"xo+WqEwAuUAJaukrykK7QCstF3LOt71AL8qZWbcxwEBlAy5sAqXBQJlSdYAYOMNAZOGMNW3txEBCf6vMl8fGQBCKQMRSychAusYg43r1ykAbAuyYDU/NQIM/opYm2c9A3k9IQH5L0UAdisVM7sXSQOR+iKOSXdRAqnNlpx8U1kCcMg3YSuvXQHlPSgDG5NlAcddHnDkC3EAhtuByPkXeQFgPZTGrV+BAKRDfNfKg4UCNm1ECEv/iQGRr+uyPcuRAdk+YDdT75UCQajJFJJvnQGZO0UafUOlA4Dknxzcc60BN85b+r/3sQOdLTa2V9O5A89vVaR+A8ECQasSo44/xQFwBK84HqfJAU4tYW97K80DikJXFnPT0QC8ZG+BcJfZAHq1RBh9c90Axj8kBzZf4QBRtlp491/lAypUE2DgZ+0Cw4p5/fFz8QCK20jnBn/1A0De2pr/h/kDX3HnFmhAAQfOIbWZ1rgBBd3ILDttJAUEpx6SPQOIBQRY1vgQmdwJBc7KkQBgIA0HXJC3msZQDQfY8UB2cHARBH0l26o6fBEGW6+ksUR0FQVOd30y4lQVBOcOwo6cIBkELdkyqD3YGQQvFfvrs3QZBP62eL0dAB0GNPpGyL50HQWDe/3vA9AdB+GtD1hpHCEElNv8mZpQIQSH50cbO3AhB5tz364QgCUGaPUiru18JQZXZsBGomglBIrs0V4DRCUGoh4orewQKQcAuuxvPMwpBoEWUD7JfCkFmIVzdWIgKQVmV8/H2rQpBK2BsC77QCkFoLw4E3vAKQWl0yauEDgtBY2Qqrt0pC0E6WfuCEkMLQScC6WdKWgtBgaqhYapvC0HeKxFDVYMLQdBCg7lrlQtBdcKcXAymC0HYtkDBU7ULQa9imI5cwwtBlt6TlD/QC0Fy2lTjE9wLQemgDePu5gtB8R70a+TwC0HygfvdBvoLQVI2FzhnAgxBV+nXLhUKDEGz6j5CHxEMQY4grtKSFwxBju7iNHwdDEF5LPHE5iIMQefEOPjcJwxBhv5UbmgsDEHX8gcBkjAMQV5wJ9NhNAxBo5uSXt83DEEBLjmBETsMQWhKPon+PQxBYpxBQKxADEE35dn1H0MMQelNTIleRQxB0taLcmxHDEHBGYzKTUkMQUBS8lIGSwxBXUgvfZlMDEEgUwxxCk4MQWg1tRJcTwxBex5ICJFQDEHYmfS+q1EMQRa7sW+uUgxBRFSTI5tTDEG9iMW3c1QMQaSVNeE5VQxBWDTuL+9VDEHiii0SlVYMQekzOtcsVwxBxoH8sbdXDEE=\",\"dtype\":\"float64\",\"shape\":[121]}},\"selected\":{\"id\":\"16014\"},\"selection_policy\":{\"id\":\"16015\"}},\"id\":\"15527\",\"type\":\"ColumnDataSource\"},{\"attributes\":{},\"id\":\"15540\",\"type\":\"UnionRenderers\"},{\"attributes\":{},\"id\":\"15469\",\"type\":\"DataRange1d\"},{\"attributes\":{},\"id\":\"15488\",\"type\":\"HelpTool\"},{\"attributes\":{\"days\":[1,4,7,10,13,16,19,22,25,28]},\"id\":\"15511\",\"type\":\"DaysTicker\"},{\"attributes\":{},\"id\":\"15538\",\"type\":\"UnionRenderers\"},{\"attributes\":{\"days\":[1,2,3,4,5,6,7,8,9,10,11,12,13,14,15,16,17,18,19,20,21,22,23,24,25,26,27,28,29,30,31]},\"id\":\"15510\",\"type\":\"DaysTicker\"},{\"attributes\":{},\"id\":\"15473\",\"type\":\"LinearScale\"},{\"attributes\":{\"line_alpha\":0.1,\"line_color\":\"red\",\"line_width\":4,\"x\":{\"field\":\"x\"},\"y\":{\"field\":\"y\"}},\"id\":\"15529\",\"type\":\"Line\"},{\"attributes\":{\"data\":{\"x\":{\"__ndarray__\":\"AAAA5UcHd0IAAMBKmgd3QgAAgLDsB3dCAABAFj8Id0IAAAB8kQh3QgAAwOHjCHdCAACARzYJd0IAAECtiAl3QgAAABPbCXdCAADAeC0Kd0IAAIDefwp3QgAAQETSCndCAAAAqiQLd0IAAMAPdwt3QgAAgHXJC3dCAABA2xsMd0IAAABBbgx3QgAAwKbADHdCAACADBMNd0IAAEByZQ13QgAAANi3DXdCAADAPQoOd0IAAICjXA53QgAAQAmvDndCAAAAbwEPd0IAAMDUUw93QgAAgDqmD3dCAABAoPgPd0IAAAAGSxB3QgAAwGudEHdCAACA0e8Qd0IAAEA3QhF3QgAAAJ2UEXdCAADAAucRd0IAAIBoORJ3QgAAQM6LEndCAAAANN4Sd0IAAMCZMBN3QgAAgP+CE3dCAABAZdUTd0IAAADLJxR3QgAAwDB6FHdCAACAlswUd0IAAED8HhV3QgAAAGJxFXdCAADAx8MVd0IAAIAtFhZ3QgAAQJNoFndCAAAA+boWd0IAAMBeDRd3QgAAgMRfF3dCAABAKrIXd0IAAACQBBh3QgAAwPVWGHdCAACAW6kYd0IAAEDB+xh3QgAAACdOGXdCAADAjKAZd0IAAIDy8hl3QgAAQFhFGndCAAAAvpcad0IAAMAj6hp3QgAAgIk8G3dCAABA744bd0IAAABV4Rt3QgAAwLozHHdCAACAIIYcd0IAAECG2Bx3QgAAAOwqHXdCAADAUX0dd0IAAIC3zx13QgAAQB0iHndCAAAAg3Qed0IAAMDoxh53QgAAgE4ZH3dCAABAtGsfd0IAAAAavh93QgAAwH8QIHdCAACA5WIgd0IAAEBLtSB3QgAAALEHIXdCAADAFlohd0IAAIB8rCF3QgAAQOL+IXdCAAAASFEid0IAAMCtoyJ3QgAAgBP2IndCAABAeUgjd0IAAADfmiN3QgAAwETtI3dCAACAqj8kd0IAAEAQkiR3QgAAAHbkJHdCAADA2zYld0IAAIBBiSV3QgAAQKfbJXdCAAAADS4md0IAAMBygCZ3QgAAgNjSJndCAABAPiUnd0IAAACkdyd3QgAAwAnKJ3dCAACAbxwod0IAAEDVbih3QgAAADvBKHdCAADAoBMpd0IAAIAGZil3QgAAQGy4KXdCAAAA0goqd0IAAMA3XSp3QgAAgJ2vKndCAABAAwIrd0IAAABpVCt3QgAAwM6mK3dCAACANPkrd0IAAECaSyx3QgAAAACeLHdCAADAZfAsd0IAAIDLQi13QgAAQDGVLXdCAAAAl+ctd0I=\",\"dtype\":\"float64\",\"shape\":[121]},\"y\":{\"__ndarray__\":\"xo+WqEwAuUAJaukrykK7QCstF3LOt71AL8qZWbcxwEBlAy5sAqXBQJlSdYAYOMNAZOGMNW3txEBCf6vMl8fGQBCKQMRSychAusYg43r1ykAbAuyYDU/NQIM/opYm2c9A3k9IQH5L0UAdisVM7sXSQOR+iKOSXdRAqnNlpx8U1kCcMg3YSuvXQHlPSgDG5NlAcddHnDkC3EAhtuByPkXeQFgPZTGrV+BAKRDfNfKg4UCNm1ECEv/iQGRr+uyPcuRAdk+YDdT75UCQajJFJJvnQGZO0UafUOlA4Dknxzcc60BN85b+r/3sQOdLTa2V9O5A89vVaR+A8ECQasSo44/xQFwBK84HqfJAU4tYW97K80DikJXFnPT0QC8ZG+BcJfZAHq1RBh9c90Axj8kBzZf4QBRtlp491/lAypUE2DgZ+0Cw4p5/fFz8QCK20jnBn/1A0De2pr/h/kDX3HnFmhAAQfOIbWZ1rgBBd3ILDttJAUEpx6SPQOIBQRY1vgQmdwJBc7KkQBgIA0HXJC3msZQDQfY8UB2cHARBH0l26o6fBEGW6+ksUR0FQVOd30y4lQVBOcOwo6cIBkELdkyqD3YGQQvFfvrs3QZBP62eL0dAB0GNPpGyL50HQWDe/3vA9AdB+GtD1hpHCEElNv8mZpQIQSH50cbO3AhB5tz364QgCUGaPUiru18JQZXZsBGomglBIrs0V4DRCUGoh4orewQKQcAuuxvPMwpBoEWUD7JfCkFmIVzdWIgKQVmV8/H2rQpBK2BsC77QCkFoLw4E3vAKQWl0yauEDgtBY2Qqrt0pC0E6WfuCEkMLQScC6WdKWgtBgaqhYapvC0HeKxFDVYMLQdBCg7lrlQtBdcKcXAymC0HYtkDBU7ULQa9imI5cwwtBlt6TlD/QC0Fy2lTjE9wLQemgDePu5gtB8R70a+TwC0HygfvdBvoLQVI2FzhnAgxBV+nXLhUKDEGz6j5CHxEMQY4grtKSFwxBju7iNHwdDEF5LPHE5iIMQefEOPjcJwxBhv5UbmgsDEHX8gcBkjAMQV5wJ9NhNAxBo5uSXt83DEEBLjmBETsMQWhKPon+PQxBYpxBQKxADEE35dn1H0MMQelNTIleRQxB0taLcmxHDEHBGYzKTUkMQUBS8lIGSwxBXUgvfZlMDEEgUwxxCk4MQWg1tRJcTwxBex5ICJFQDEHYmfS+q1EMQRa7sW+uUgxBRFSTI5tTDEG9iMW3c1QMQaSVNeE5VQxBWDTuL+9VDEHiii0SlVYMQekzOtcsVwxBxoH8sbdXDEE=\",\"dtype\":\"float64\",\"shape\":[121]}},\"selected\":{\"id\":\"16016\"},\"selection_policy\":{\"id\":\"16017\"}},\"id\":\"15555\",\"type\":\"ColumnDataSource\"},{\"attributes\":{\"months\":[0,4,8]},\"id\":\"15516\",\"type\":\"MonthsTicker\"},{\"attributes\":{\"fill_alpha\":{\"value\":0.1},\"fill_color\":{\"value\":\"white\"},\"line_alpha\":{\"value\":0.1},\"line_color\":{\"value\":\"red\"},\"size\":{\"units\":\"screen\",\"value\":6},\"x\":{\"field\":\"x\"},\"y\":{\"field\":\"y\"}},\"id\":\"15557\",\"type\":\"Circle\"},{\"attributes\":{},\"id\":\"15564\",\"type\":\"NumeralTickFormatter\"},{\"attributes\":{\"base\":60,\"mantissas\":[1,2,5,10,15,20,30],\"max_interval\":1800000.0,\"min_interval\":1000.0,\"num_minor_ticks\":0},\"id\":\"15508\",\"type\":\"AdaptiveTicker\"},{\"attributes\":{\"months\":[0,6]},\"id\":\"15517\",\"type\":\"MonthsTicker\"},{\"attributes\":{\"line_color\":\"red\",\"line_width\":4,\"x\":{\"field\":\"x\"},\"y\":{\"field\":\"y\"}},\"id\":\"15528\",\"type\":\"Line\"},{\"attributes\":{},\"id\":\"15480\",\"type\":\"BasicTicker\"},{\"attributes\":{\"num_minor_ticks\":5,\"tickers\":[{\"id\":\"15507\"},{\"id\":\"15508\"},{\"id\":\"15509\"},{\"id\":\"15510\"},{\"id\":\"15511\"},{\"id\":\"15512\"},{\"id\":\"15513\"},{\"id\":\"15514\"},{\"id\":\"15515\"},{\"id\":\"15516\"},{\"id\":\"15517\"},{\"id\":\"15518\"}]},\"id\":\"15476\",\"type\":\"DatetimeTicker\"},{\"attributes\":{},\"id\":\"16017\",\"type\":\"UnionRenderers\"},{\"attributes\":{\"source\":{\"id\":\"15497\"}},\"id\":\"15501\",\"type\":\"CDSView\"},{\"attributes\":{},\"id\":\"15518\",\"type\":\"YearsTicker\"},{\"attributes\":{\"data_source\":{\"id\":\"15522\"},\"glyph\":{\"id\":\"15523\"},\"hover_glyph\":null,\"muted_glyph\":null,\"nonselection_glyph\":{\"id\":\"15524\"},\"selection_glyph\":null,\"view\":{\"id\":\"15526\"}},\"id\":\"15525\",\"type\":\"GlyphRenderer\"},{\"attributes\":{\"line_alpha\":0.1,\"line_color\":\"blue\",\"line_width\":4,\"x\":{\"field\":\"x\"},\"y\":{\"field\":\"y\"}},\"id\":\"15499\",\"type\":\"Line\"},{\"attributes\":{\"axis\":{\"id\":\"15479\"},\"dimension\":1,\"ticker\":null},\"id\":\"15482\",\"type\":\"Grid\"},{\"attributes\":{\"fill_color\":{\"value\":\"white\"},\"line_color\":{\"value\":\"red\"},\"size\":{\"units\":\"screen\",\"value\":6},\"x\":{\"field\":\"x\"},\"y\":{\"field\":\"y\"}},\"id\":\"15556\",\"type\":\"Circle\"},{\"attributes\":{\"months\":[0,2,4,6,8,10]},\"id\":\"15515\",\"type\":\"MonthsTicker\"},{\"attributes\":{\"source\":{\"id\":\"15527\"}},\"id\":\"15531\",\"type\":\"CDSView\"},{\"attributes\":{\"mantissas\":[1,2,5],\"max_interval\":500.0,\"num_minor_ticks\":0},\"id\":\"15507\",\"type\":\"AdaptiveTicker\"},{\"attributes\":{\"months\":[0,1,2,3,4,5,6,7,8,9,10,11]},\"id\":\"15514\",\"type\":\"MonthsTicker\"},{\"attributes\":{\"data_source\":{\"id\":\"15555\"},\"glyph\":{\"id\":\"15556\"},\"hover_glyph\":null,\"muted_glyph\":null,\"nonselection_glyph\":{\"id\":\"15557\"},\"selection_glyph\":null,\"view\":{\"id\":\"15559\"}},\"id\":\"15558\",\"type\":\"GlyphRenderer\"},{\"attributes\":{\"data\":{\"x\":{\"__ndarray__\":\"AAAA5UcHd0IAAMBKmgd3QgAAgLDsB3dCAABAFj8Id0IAAAB8kQh3QgAAwOHjCHdCAACARzYJd0IAAECtiAl3QgAAABPbCXdCAADAeC0Kd0IAAIDefwp3QgAAQETSCndCAAAAqiQLd0IAAMAPdwt3QgAAgHXJC3dCAABA2xsMd0IAAABBbgx3QgAAwKbADHdCAACADBMNd0IAAEByZQ13QgAAANi3DXdCAADAPQoOd0IAAICjXA53QgAAQAmvDndCAAAAbwEPd0IAAMDUUw93QgAAgDqmD3dCAABAoPgPd0IAAAAGSxB3QgAAwGudEHdCAACA0e8Qd0IAAEA3QhF3QgAAAJ2UEXdCAADAAucRd0IAAIBoORJ3QgAAQM6LEndCAAAANN4Sd0IAAMCZMBN3QgAAgP+CE3dCAABAZdUTd0IAAADLJxR3QgAAwDB6FHdCAACAlswUd0IAAED8HhV3QgAAAGJxFXdCAADAx8MVd0IAAIAtFhZ3QgAAQJNoFndCAAAA+boWd0IAAMBeDRd3QgAAgMRfF3dCAABAKrIXd0IAAACQBBh3QgAAwPVWGHdCAACAW6kYd0IAAEDB+xh3QgAAACdOGXdCAADAjKAZd0IAAIDy8hl3QgAAQFhFGndCAAAAvpcad0IAAMAj6hp3QgAAgIk8G3dCAABA744bd0IAAABV4Rt3QgAAwLozHHdCAACAIIYcd0IAAECG2Bx3QgAAAOwqHXdCAADAUX0dd0IAAIC3zx13QgAAQB0iHndCAAAAg3Qed0IAAMDoxh53QgAAgE4ZH3dCAABAtGsfd0IAAAAavh93QgAAwH8QIHdCAACA5WIgd0IAAEBLtSB3QgAAALEHIXdCAADAFlohd0IAAIB8rCF3QgAAQOL+IXdCAAAASFEid0IAAMCtoyJ3QgAAgBP2IndCAABAeUgjd0IAAADfmiN3QgAAwETtI3dCAACAqj8kd0IAAEAQkiR3QgAAAHbkJHdCAADA2zYld0IAAIBBiSV3QgAAQKfbJXdCAAAADS4md0IAAMBygCZ3QgAAgNjSJndCAABAPiUnd0IAAACkdyd3QgAAwAnKJ3dCAACAbxwod0IAAEDVbih3QgAAADvBKHdCAADAoBMpd0IAAIAGZil3QgAAQGy4KXdCAAAA0goqd0IAAMA3XSp3QgAAgJ2vKndCAABAAwIrd0IAAABpVCt3QgAAwM6mK3dCAACANPkrd0IAAECaSyx3QgAAAACeLHdCAADAZfAsd0IAAIDLQi13QgAAQDGVLXdCAAAAl+ctd0I=\",\"dtype\":\"float64\",\"shape\":[121]},\"y\":[229,322,400,650,888,1128,1694,2036,2502,3089,3858,4636,5883,7375,9172,10149,12462,15113,17660,21157,24747,27980,31506,35713,41035,47021,53578,59138,63927,69176,74386,80539,86498,92472,97689,101739,105792,110574,115242,119827,124632,128948,132547,135586,139422,143626,147577,152271,156363,159516,162488,165155,168941,172434,175925,178972,181228,183957,187327,189973,192994,195351,197675,199414,201505,203591,205463,207428,209328,210717,211938,213013,214457,215858,217185,218268,219070,219814,221216,222104,223096,223885,224760,225435,225886,226699,227364,228006,228658,229327,229858,230158,230555,231139,231732,232248,232664,233019,233197,233515,233836,234013,234531,234801,234998,235278,235561,235763,236142,236305,236651,236989,237290,237500,237828,238159,238011,238275,238499,238720,238833]},\"selected\":{\"id\":\"15537\"},\"selection_policy\":{\"id\":\"15538\"}},\"id\":\"15497\",\"type\":\"ColumnDataSource\"},{\"attributes\":{\"label\":{\"value\":\"total cases\"},\"renderers\":[{\"id\":\"15500\"}]},\"id\":\"15521\",\"type\":\"LegendItem\"},{\"attributes\":{\"line_color\":\"blue\",\"line_width\":4,\"x\":{\"field\":\"x\"},\"y\":{\"field\":\"y\"}},\"id\":\"15498\",\"type\":\"Line\"}],\"root_ids\":[\"15464\"]},\"title\":\"Bokeh Application\",\"version\":\"2.0.2\"}};\n",
       "  var render_items = [{\"docid\":\"837ba047-ee96-47c4-90ba-04ce304d6eed\",\"root_ids\":[\"15464\"],\"roots\":{\"15464\":\"9412b7b0-81c6-4fa0-9d01-dda627445849\"}}];\n",
       "  root.Bokeh.embed.embed_items_notebook(docs_json, render_items);\n",
       "\n",
       "  }\n",
       "  if (root.Bokeh !== undefined) {\n",
       "    embed_document(root);\n",
       "  } else {\n",
       "    var attempts = 0;\n",
       "    var timer = setInterval(function(root) {\n",
       "      if (root.Bokeh !== undefined) {\n",
       "        clearInterval(timer);\n",
       "        embed_document(root);\n",
       "      } else {\n",
       "        attempts++;\n",
       "        if (attempts > 100) {\n",
       "          clearInterval(timer);\n",
       "          console.log(\"Bokeh: ERROR: Unable to run BokehJS code because BokehJS library is missing\");\n",
       "        }\n",
       "      }\n",
       "    }, 10, root)\n",
       "  }\n",
       "})(window);"
      ],
      "application/vnd.bokehjs_exec.v0+json": ""
     },
     "metadata": {
      "application/vnd.bokehjs_exec.v0+json": {
       "id": "15464"
      }
     },
     "output_type": "display_data"
    }
   ],
   "source": [
    "pfit_1_total_cases_Italy = bokeh_plot_2_lines(x=time_date_new[0:(fit_range_1)], y=total_cases_italy.loc[0:(fit_range_1-1)], yy=ydata_1[0:fit_range_1], \n",
    "                  title='Logistic Fitting Total Cases: Italy', \n",
    "                  file_name=\"fit_1_total_cases_Italy.html\", \n",
    "                  x_label='Date', y_label='Total Cases', \n",
    "                  legend_1='total cases', legend_2='logistic fitting',\n",
    "                  x_label_hover='date' , y_label_hover='total cases OR fitting' , \n",
    "                  color_1='blue', color_2='red', y_minmax=None)\n",
    "\n",
    "show(pfit_1_total_cases_Italy)"
   ]
  },
  {
   "cell_type": "code",
   "execution_count": 68,
   "metadata": {},
   "outputs": [
    {
     "data": {
      "text/plain": [
       "0.4965218033370492"
      ]
     },
     "execution_count": 68,
     "metadata": {},
     "output_type": "execute_result"
    }
   ],
   "source": [
    "- cov[0,1] / (np.sqrt(np.diag(cov)[0] * np.diag(cov)[1])) # Correlation coefficient for parameters 'K' and 'r'"
   ]
  },
  {
   "cell_type": "code",
   "execution_count": 69,
   "metadata": {},
   "outputs": [
    {
     "data": {
      "text/plain": [
       "0.3853003346138146"
      ]
     },
     "execution_count": 69,
     "metadata": {},
     "output_type": "execute_result"
    }
   ],
   "source": [
    "cov[0,2] / (np.sqrt(np.diag(cov)[0] * np.diag(cov)[2])) # Correlation coefficient for parameters 'K' and 'P_0'"
   ]
  },
  {
   "cell_type": "code",
   "execution_count": 70,
   "metadata": {},
   "outputs": [
    {
     "data": {
      "text/plain": [
       "0.9555643263073186"
      ]
     },
     "execution_count": 70,
     "metadata": {},
     "output_type": "execute_result"
    }
   ],
   "source": [
    "- cov[1,2] / (np.sqrt(np.diag(cov)[1] * np.diag(cov)[2])) # Correlation coefficient for parameters 'r' and 'P_0'"
   ]
  },
  {
   "cell_type": "code",
   "execution_count": 71,
   "metadata": {},
   "outputs": [
    {
     "data": {
      "text/plain": [
       "0.9946423894508246"
      ]
     },
     "execution_count": 71,
     "metadata": {},
     "output_type": "execute_result"
    }
   ],
   "source": [
    "residuals_1 = total_cases_italy.loc[0:(fit_range_1-1)] - ydata_1  #  Calculation of R^2\n",
    "ss_res_1 = np.sum(residuals_1**2)\n",
    "ss_tot_1 = np.sum((total_cases_italy.loc[0:(fit_range_1-1)] - np.mean(total_cases_italy.loc[0:(fit_range_1-1)]))**2)\n",
    "r_squared_1 = 1 - (ss_res_1 / ss_tot_1)\n",
    "r_squared_1"
   ]
  },
  {
   "cell_type": "markdown",
   "metadata": {},
   "source": [
    "----------------------"
   ]
  },
  {
   "cell_type": "code",
   "execution_count": 72,
   "metadata": {},
   "outputs": [
    {
     "name": "stderr",
     "output_type": "stream",
     "text": [
      "/Users/Angelo/opt/anaconda3/lib/python3.7/site-packages/ipykernel_launcher.py:8: RuntimeWarning: divide by zero encountered in double_scalars\n",
      "  \n"
     ]
    }
   ],
   "source": [
    "fit_range_2 = len(total_cases_italy) - 15\n",
    "fit_range_3 = len(total_cases_italy)\n",
    "xdata_2 = np.linspace(fit_range_2, fit_range_3, fit_range_3 - fit_range_2)\n",
    "# init_guess = [250000,0.25,1]\n",
    "init_guess = [500000,0.001,0]\n",
    "fit = curve_fit(model_population, xdata_2, total_cases_italy.loc[fit_range_2:(fit_range_3-1)], p0=init_guess, maxfev=20000)"
   ]
  },
  {
   "cell_type": "code",
   "execution_count": 73,
   "metadata": {},
   "outputs": [],
   "source": [
    "ans, cov = fit"
   ]
  },
  {
   "cell_type": "code",
   "execution_count": 74,
   "metadata": {},
   "outputs": [
    {
     "data": {
      "text/plain": [
       "(241519.47842861232, 0.05569621451047747, 23166.9043526924)"
      ]
     },
     "execution_count": 74,
     "metadata": {},
     "output_type": "execute_result"
    }
   ],
   "source": [
    "fit_K, fit_r, fit_P_0 = ans\n",
    "fit_K, fit_r, fit_P_0"
   ]
  },
  {
   "cell_type": "code",
   "execution_count": 75,
   "metadata": {},
   "outputs": [
    {
     "data": {
      "text/plain": [
       "array([[ 8.27541135e+05, -1.09167365e+01,  2.15963643e+07],\n",
       "       [-1.09167365e+01,  1.45996724e-04, -2.89523792e+02],\n",
       "       [ 2.15963643e+07, -2.89523792e+02,  5.74410559e+08]])"
      ]
     },
     "execution_count": 75,
     "metadata": {},
     "output_type": "execute_result"
    }
   ],
   "source": [
    "cov"
   ]
  },
  {
   "cell_type": "code",
   "execution_count": 76,
   "metadata": {},
   "outputs": [
    {
     "data": {
      "text/plain": [
       "array([9.09692880e+02, 1.20829104e-02, 2.39668638e+04])"
      ]
     },
     "execution_count": 76,
     "metadata": {},
     "output_type": "execute_result"
    }
   ],
   "source": [
    "np.sqrt(np.diag(cov))"
   ]
  },
  {
   "cell_type": "code",
   "execution_count": 77,
   "metadata": {},
   "outputs": [
    {
     "data": {
      "text/plain": [
       "array([235462.92393854, 235805.47280136, 236129.09118185, 236434.77633269,\n",
       "       236723.47838283, 236996.10195392, 237253.50779518, 237496.51442505,\n",
       "       237725.89976958, 237942.40278882, 238146.72508387, 238339.53247826,\n",
       "       238521.45656856, 238693.0962398 , 238855.01914234])"
      ]
     },
     "execution_count": 77,
     "metadata": {},
     "output_type": "execute_result"
    }
   ],
   "source": [
    "ydata_2 = fit_K / ( 1 + ((fit_K - fit_P_0) / fit_P_0) * np.exp(- fit_r * xdata_2))\n",
    "ydata_2"
   ]
  },
  {
   "cell_type": "code",
   "execution_count": 78,
   "metadata": {},
   "outputs": [
    {
     "data": {
      "text/html": [
       "\n",
       "\n",
       "\n",
       "\n",
       "\n",
       "\n",
       "  <div class=\"bk-root\" id=\"5697aa3b-2c83-424c-826f-e0f30de7a778\" data-root-id=\"16488\"></div>\n"
      ]
     },
     "metadata": {},
     "output_type": "display_data"
    },
    {
     "data": {
      "application/javascript": [
       "(function(root) {\n",
       "  function embed_document(root) {\n",
       "    \n",
       "  var docs_json = {\"6bbdebb2-d58d-411c-9880-60b7e725109a\":{\"roots\":{\"references\":[{\"attributes\":{\"below\":[{\"id\":\"16499\"}],\"center\":[{\"id\":\"16502\"},{\"id\":\"16506\"},{\"id\":\"16544\"}],\"left\":[{\"id\":\"16503\"}],\"plot_height\":450,\"renderers\":[{\"id\":\"16524\"},{\"id\":\"16549\"},{\"id\":\"16554\"},{\"id\":\"16582\"}],\"title\":{\"id\":\"16489\"},\"toolbar\":{\"id\":\"16514\"},\"x_range\":{\"id\":\"16491\"},\"x_scale\":{\"id\":\"16495\"},\"y_range\":{\"id\":\"16493\"},\"y_scale\":{\"id\":\"16497\"}},\"id\":\"16488\",\"subtype\":\"Figure\",\"type\":\"Plot\"},{\"attributes\":{\"axis\":{\"id\":\"16503\"},\"dimension\":1,\"ticker\":null},\"id\":\"16506\",\"type\":\"Grid\"},{\"attributes\":{\"line_color\":\"red\",\"line_width\":4,\"x\":{\"field\":\"x\"},\"y\":{\"field\":\"y\"}},\"id\":\"16552\",\"type\":\"Line\"},{\"attributes\":{\"source\":{\"id\":\"16551\"}},\"id\":\"16555\",\"type\":\"CDSView\"},{\"attributes\":{},\"id\":\"16504\",\"type\":\"BasicTicker\"},{\"attributes\":{},\"id\":\"16564\",\"type\":\"UnionRenderers\"},{\"attributes\":{\"text\":\"Logistic Fitting Total Cases: Italy\"},\"id\":\"16489\",\"type\":\"Title\"},{\"attributes\":{},\"id\":\"16511\",\"type\":\"ResetTool\"},{\"attributes\":{},\"id\":\"17064\",\"type\":\"Selection\"},{\"attributes\":{\"months\":[0,1,2,3,4,5,6,7,8,9,10,11]},\"id\":\"16538\",\"type\":\"MonthsTicker\"},{\"attributes\":{\"data_source\":{\"id\":\"16551\"},\"glyph\":{\"id\":\"16552\"},\"hover_glyph\":null,\"muted_glyph\":null,\"nonselection_glyph\":{\"id\":\"16553\"},\"selection_glyph\":null,\"view\":{\"id\":\"16555\"}},\"id\":\"16554\",\"type\":\"GlyphRenderer\"},{\"attributes\":{\"days\":[1,4,7,10,13,16,19,22,25,28]},\"id\":\"16535\",\"type\":\"DaysTicker\"},{\"attributes\":{\"overlay\":{\"id\":\"16513\"}},\"id\":\"16509\",\"type\":\"BoxZoomTool\"},{\"attributes\":{\"fill_color\":{\"value\":\"white\"},\"line_color\":{\"value\":\"blue\"},\"size\":{\"units\":\"screen\",\"value\":6},\"x\":{\"field\":\"x\"},\"y\":{\"field\":\"y\"}},\"id\":\"16547\",\"type\":\"Circle\"},{\"attributes\":{\"mantissas\":[1,2,5],\"max_interval\":500.0,\"num_minor_ticks\":0},\"id\":\"16531\",\"type\":\"AdaptiveTicker\"},{\"attributes\":{\"data_source\":{\"id\":\"16546\"},\"glyph\":{\"id\":\"16547\"},\"hover_glyph\":null,\"muted_glyph\":null,\"nonselection_glyph\":{\"id\":\"16548\"},\"selection_glyph\":null,\"view\":{\"id\":\"16550\"}},\"id\":\"16549\",\"type\":\"GlyphRenderer\"},{\"attributes\":{\"label\":{\"value\":\"logistic fitting\"},\"renderers\":[{\"id\":\"16554\"}]},\"id\":\"16578\",\"type\":\"LegendItem\"},{\"attributes\":{},\"id\":\"16562\",\"type\":\"UnionRenderers\"},{\"attributes\":{},\"id\":\"16493\",\"type\":\"DataRange1d\"},{\"attributes\":{},\"id\":\"16563\",\"type\":\"Selection\"},{\"attributes\":{\"days\":[1,15]},\"id\":\"16537\",\"type\":\"DaysTicker\"},{\"attributes\":{\"months\":[0,4,8]},\"id\":\"16540\",\"type\":\"MonthsTicker\"},{\"attributes\":{\"data_source\":{\"id\":\"16521\"},\"glyph\":{\"id\":\"16522\"},\"hover_glyph\":null,\"muted_glyph\":null,\"nonselection_glyph\":{\"id\":\"16523\"},\"selection_glyph\":null,\"view\":{\"id\":\"16525\"}},\"id\":\"16524\",\"type\":\"GlyphRenderer\"},{\"attributes\":{\"data_source\":{\"id\":\"16579\"},\"glyph\":{\"id\":\"16580\"},\"hover_glyph\":null,\"muted_glyph\":null,\"nonselection_glyph\":{\"id\":\"16581\"},\"selection_glyph\":null,\"view\":{\"id\":\"16583\"}},\"id\":\"16582\",\"type\":\"GlyphRenderer\"},{\"attributes\":{},\"id\":\"16507\",\"type\":\"PanTool\"},{\"attributes\":{},\"id\":\"16491\",\"type\":\"DataRange1d\"},{\"attributes\":{\"data\":{\"x\":{\"__ndarray__\":\"AACABmYpd0IAAEBsuCl3QgAAANIKKndCAADAN10qd0IAAICdryp3QgAAQAMCK3dCAAAAaVQrd0IAAMDOpit3QgAAgDT5K3dCAABAmkssd0IAAAAAnix3QgAAwGXwLHdCAACAy0Itd0IAAEAxlS13QgAAAJfnLXdC\",\"dtype\":\"float64\",\"shape\":[15]},\"y\":{\"__ndarray__\":\"PeQ5ZDe+DEGYFEzI68gMQaWMvboI0wxBp+ntNZbcDEG4YLrTm+UMQQk4zdAg7gxBiev2Dyz2DEF54YodxP0MQcpkujLvBA1B4ljpOLMLDUHNxfjMFRINQSL2g0IcGA1BOmoNp8sdDUGSXxnFKCMNQQwZNCc4KA1B\",\"dtype\":\"float64\",\"shape\":[15]}},\"selected\":{\"id\":\"17062\"},\"selection_policy\":{\"id\":\"17063\"}},\"id\":\"16551\",\"type\":\"ColumnDataSource\"},{\"attributes\":{\"months\":[0,2,4,6,8,10]},\"id\":\"16539\",\"type\":\"MonthsTicker\"},{\"attributes\":{\"items\":[{\"id\":\"16545\"},{\"id\":\"16578\"}],\"location\":\"top_left\"},\"id\":\"16544\",\"type\":\"Legend\"},{\"attributes\":{\"num_minor_ticks\":5,\"tickers\":[{\"id\":\"16531\"},{\"id\":\"16532\"},{\"id\":\"16533\"},{\"id\":\"16534\"},{\"id\":\"16535\"},{\"id\":\"16536\"},{\"id\":\"16537\"},{\"id\":\"16538\"},{\"id\":\"16539\"},{\"id\":\"16540\"},{\"id\":\"16541\"},{\"id\":\"16542\"}]},\"id\":\"16500\",\"type\":\"DatetimeTicker\"},{\"attributes\":{\"active_drag\":\"auto\",\"active_inspect\":\"auto\",\"active_multi\":null,\"active_scroll\":\"auto\",\"active_tap\":\"auto\",\"tools\":[{\"id\":\"16507\"},{\"id\":\"16508\"},{\"id\":\"16509\"},{\"id\":\"16510\"},{\"id\":\"16511\"},{\"id\":\"16512\"},{\"id\":\"16589\"}]},\"id\":\"16514\",\"type\":\"Toolbar\"},{\"attributes\":{\"fill_alpha\":{\"value\":0.1},\"fill_color\":{\"value\":\"white\"},\"line_alpha\":{\"value\":0.1},\"line_color\":{\"value\":\"red\"},\"size\":{\"units\":\"screen\",\"value\":6},\"x\":{\"field\":\"x\"},\"y\":{\"field\":\"y\"}},\"id\":\"16581\",\"type\":\"Circle\"},{\"attributes\":{},\"id\":\"17063\",\"type\":\"UnionRenderers\"},{\"attributes\":{\"axis_label\":\"Date\",\"formatter\":{\"id\":\"16584\"},\"major_label_orientation\":0.7853981633974483,\"minor_tick_in\":-5,\"minor_tick_out\":-3,\"ticker\":{\"id\":\"16500\"}},\"id\":\"16499\",\"type\":\"DatetimeAxis\"},{\"attributes\":{},\"id\":\"16508\",\"type\":\"WheelZoomTool\"},{\"attributes\":{},\"id\":\"16495\",\"type\":\"LinearScale\"},{\"attributes\":{},\"id\":\"16497\",\"type\":\"LinearScale\"},{\"attributes\":{\"axis_label\":\"Total Cases\",\"formatter\":{\"id\":\"16588\"},\"minor_tick_in\":-5,\"minor_tick_out\":-3,\"ticker\":{\"id\":\"16504\"}},\"id\":\"16503\",\"type\":\"LinearAxis\"},{\"attributes\":{\"days\":[\"%d %B\"]},\"id\":\"16584\",\"type\":\"DatetimeTickFormatter\"},{\"attributes\":{},\"id\":\"16512\",\"type\":\"HelpTool\"},{\"attributes\":{\"fill_color\":{\"value\":\"white\"},\"line_color\":{\"value\":\"red\"},\"size\":{\"units\":\"screen\",\"value\":6},\"x\":{\"field\":\"x\"},\"y\":{\"field\":\"y\"}},\"id\":\"16580\",\"type\":\"Circle\"},{\"attributes\":{},\"id\":\"16561\",\"type\":\"Selection\"},{\"attributes\":{},\"id\":\"17065\",\"type\":\"UnionRenderers\"},{\"attributes\":{},\"id\":\"16542\",\"type\":\"YearsTicker\"},{\"attributes\":{\"callback\":null,\"formatters\":{\"@x\":\"datetime\"},\"mode\":\"vline\",\"tooltips\":[[\"date\",\"@x{%d %B}\"],[\"total cases OR logistic\",\"@y{0.}\"]]},\"id\":\"16589\",\"type\":\"HoverTool\"},{\"attributes\":{\"bottom_units\":\"screen\",\"fill_alpha\":0.5,\"fill_color\":\"lightgrey\",\"left_units\":\"screen\",\"level\":\"overlay\",\"line_alpha\":1.0,\"line_color\":\"black\",\"line_dash\":[4,4],\"line_width\":2,\"render_mode\":\"css\",\"right_units\":\"screen\",\"top_units\":\"screen\"},\"id\":\"16513\",\"type\":\"BoxAnnotation\"},{\"attributes\":{\"fill_alpha\":{\"value\":0.1},\"fill_color\":{\"value\":\"white\"},\"line_alpha\":{\"value\":0.1},\"line_color\":{\"value\":\"blue\"},\"size\":{\"units\":\"screen\",\"value\":6},\"x\":{\"field\":\"x\"},\"y\":{\"field\":\"y\"}},\"id\":\"16548\",\"type\":\"Circle\"},{\"attributes\":{\"line_alpha\":0.1,\"line_color\":\"red\",\"line_width\":4,\"x\":{\"field\":\"x\"},\"y\":{\"field\":\"y\"}},\"id\":\"16553\",\"type\":\"Line\"},{\"attributes\":{\"source\":{\"id\":\"16579\"}},\"id\":\"16583\",\"type\":\"CDSView\"},{\"attributes\":{\"base\":24,\"mantissas\":[1,2,4,6,8,12],\"max_interval\":43200000.0,\"min_interval\":3600000.0,\"num_minor_ticks\":0},\"id\":\"16533\",\"type\":\"AdaptiveTicker\"},{\"attributes\":{\"axis\":{\"id\":\"16499\"},\"ticker\":null},\"id\":\"16502\",\"type\":\"Grid\"},{\"attributes\":{\"source\":{\"id\":\"16521\"}},\"id\":\"16525\",\"type\":\"CDSView\"},{\"attributes\":{\"data\":{\"x\":{\"__ndarray__\":\"AACABmYpd0IAAEBsuCl3QgAAANIKKndCAADAN10qd0IAAICdryp3QgAAQAMCK3dCAAAAaVQrd0IAAMDOpit3QgAAgDT5K3dCAABAmkssd0IAAAAAnix3QgAAwGXwLHdCAACAy0Itd0IAAEAxlS13QgAAAJfnLXdC\",\"dtype\":\"float64\",\"shape\":[15]},\"y\":[235561,235763,236142,236305,236651,236989,237290,237500,237828,238159,238011,238275,238499,238720,238833]},\"selected\":{\"id\":\"16561\"},\"selection_policy\":{\"id\":\"16562\"}},\"id\":\"16521\",\"type\":\"ColumnDataSource\"},{\"attributes\":{},\"id\":\"16510\",\"type\":\"SaveTool\"},{\"attributes\":{\"data\":{\"x\":{\"__ndarray__\":\"AACABmYpd0IAAEBsuCl3QgAAANIKKndCAADAN10qd0IAAICdryp3QgAAQAMCK3dCAAAAaVQrd0IAAMDOpit3QgAAgDT5K3dCAABAmkssd0IAAAAAnix3QgAAwGXwLHdCAACAy0Itd0IAAEAxlS13QgAAAJfnLXdC\",\"dtype\":\"float64\",\"shape\":[15]},\"y\":{\"__ndarray__\":\"PeQ5ZDe+DEGYFEzI68gMQaWMvboI0wxBp+ntNZbcDEG4YLrTm+UMQQk4zdAg7gxBiev2Dyz2DEF54YodxP0MQcpkujLvBA1B4ljpOLMLDUHNxfjMFRINQSL2g0IcGA1BOmoNp8sdDUGSXxnFKCMNQQwZNCc4KA1B\",\"dtype\":\"float64\",\"shape\":[15]}},\"selected\":{\"id\":\"17064\"},\"selection_policy\":{\"id\":\"17065\"}},\"id\":\"16579\",\"type\":\"ColumnDataSource\"},{\"attributes\":{},\"id\":\"16588\",\"type\":\"NumeralTickFormatter\"},{\"attributes\":{},\"id\":\"17062\",\"type\":\"Selection\"},{\"attributes\":{\"base\":60,\"mantissas\":[1,2,5,10,15,20,30],\"max_interval\":1800000.0,\"min_interval\":1000.0,\"num_minor_ticks\":0},\"id\":\"16532\",\"type\":\"AdaptiveTicker\"},{\"attributes\":{\"label\":{\"value\":\"total cases\"},\"renderers\":[{\"id\":\"16524\"}]},\"id\":\"16545\",\"type\":\"LegendItem\"},{\"attributes\":{\"line_color\":\"blue\",\"line_width\":4,\"x\":{\"field\":\"x\"},\"y\":{\"field\":\"y\"}},\"id\":\"16522\",\"type\":\"Line\"},{\"attributes\":{\"months\":[0,6]},\"id\":\"16541\",\"type\":\"MonthsTicker\"},{\"attributes\":{\"line_alpha\":0.1,\"line_color\":\"blue\",\"line_width\":4,\"x\":{\"field\":\"x\"},\"y\":{\"field\":\"y\"}},\"id\":\"16523\",\"type\":\"Line\"},{\"attributes\":{\"days\":[1,2,3,4,5,6,7,8,9,10,11,12,13,14,15,16,17,18,19,20,21,22,23,24,25,26,27,28,29,30,31]},\"id\":\"16534\",\"type\":\"DaysTicker\"},{\"attributes\":{\"days\":[1,8,15,22]},\"id\":\"16536\",\"type\":\"DaysTicker\"},{\"attributes\":{\"source\":{\"id\":\"16546\"}},\"id\":\"16550\",\"type\":\"CDSView\"},{\"attributes\":{\"data\":{\"x\":{\"__ndarray__\":\"AACABmYpd0IAAEBsuCl3QgAAANIKKndCAADAN10qd0IAAICdryp3QgAAQAMCK3dCAAAAaVQrd0IAAMDOpit3QgAAgDT5K3dCAABAmkssd0IAAAAAnix3QgAAwGXwLHdCAACAy0Itd0IAAEAxlS13QgAAAJfnLXdC\",\"dtype\":\"float64\",\"shape\":[15]},\"y\":[235561,235763,236142,236305,236651,236989,237290,237500,237828,238159,238011,238275,238499,238720,238833]},\"selected\":{\"id\":\"16563\"},\"selection_policy\":{\"id\":\"16564\"}},\"id\":\"16546\",\"type\":\"ColumnDataSource\"}],\"root_ids\":[\"16488\"]},\"title\":\"Bokeh Application\",\"version\":\"2.0.2\"}};\n",
       "  var render_items = [{\"docid\":\"6bbdebb2-d58d-411c-9880-60b7e725109a\",\"root_ids\":[\"16488\"],\"roots\":{\"16488\":\"5697aa3b-2c83-424c-826f-e0f30de7a778\"}}];\n",
       "  root.Bokeh.embed.embed_items_notebook(docs_json, render_items);\n",
       "\n",
       "  }\n",
       "  if (root.Bokeh !== undefined) {\n",
       "    embed_document(root);\n",
       "  } else {\n",
       "    var attempts = 0;\n",
       "    var timer = setInterval(function(root) {\n",
       "      if (root.Bokeh !== undefined) {\n",
       "        clearInterval(timer);\n",
       "        embed_document(root);\n",
       "      } else {\n",
       "        attempts++;\n",
       "        if (attempts > 100) {\n",
       "          clearInterval(timer);\n",
       "          console.log(\"Bokeh: ERROR: Unable to run BokehJS code because BokehJS library is missing\");\n",
       "        }\n",
       "      }\n",
       "    }, 10, root)\n",
       "  }\n",
       "})(window);"
      ],
      "application/vnd.bokehjs_exec.v0+json": ""
     },
     "metadata": {
      "application/vnd.bokehjs_exec.v0+json": {
       "id": "16488"
      }
     },
     "output_type": "display_data"
    }
   ],
   "source": [
    "pfit_2_total_cases_Italy = bokeh_plot_2_lines(x=time_date_new[fit_range_2:fit_range_3], y=total_cases_italy.loc[(fit_range_2):(fit_range_3-1)], yy=ydata_2, \n",
    "                  title='Logistic Fitting Total Cases: Italy', \n",
    "                  file_name=\"fit_2_total_cases_Italy.html\", \n",
    "                  x_label='Date', y_label='Total Cases', \n",
    "                  legend_1='total cases', legend_2='logistic fitting',\n",
    "                  x_label_hover='date' , y_label_hover='total cases OR logistic' , \n",
    "                  color_1='blue', color_2='red', y_minmax=None)\n",
    "\n",
    "show(pfit_2_total_cases_Italy)"
   ]
  },
  {
   "cell_type": "code",
   "execution_count": 79,
   "metadata": {},
   "outputs": [
    {
     "data": {
      "text/plain": [
       "0.9931765960943663"
      ]
     },
     "execution_count": 79,
     "metadata": {},
     "output_type": "execute_result"
    }
   ],
   "source": [
    "- cov[0,1] / (np.sqrt(np.diag(cov)[0] * np.diag(cov)[1])) # Correlation coefficient for parameters 'K' and 'r'"
   ]
  },
  {
   "cell_type": "code",
   "execution_count": 80,
   "metadata": {},
   "outputs": [
    {
     "data": {
      "text/plain": [
       "0.9905459860157838"
      ]
     },
     "execution_count": 80,
     "metadata": {},
     "output_type": "execute_result"
    }
   ],
   "source": [
    "cov[0,2] / (np.sqrt(np.diag(cov)[0] * np.diag(cov)[2])) # Correlation coefficient for parameters 'K' and 'P_0'"
   ]
  },
  {
   "cell_type": "code",
   "execution_count": 81,
   "metadata": {},
   "outputs": [
    {
     "data": {
      "text/plain": [
       "0.9997732118778555"
      ]
     },
     "execution_count": 81,
     "metadata": {},
     "output_type": "execute_result"
    }
   ],
   "source": [
    "- cov[1,2] / (np.sqrt(np.diag(cov)[1] * np.diag(cov)[2])) # Correlation coefficient for parameters 'r' and 'P_0'"
   ]
  },
  {
   "cell_type": "code",
   "execution_count": 82,
   "metadata": {},
   "outputs": [
    {
     "data": {
      "text/plain": [
       "0.9929186574518248"
      ]
     },
     "execution_count": 82,
     "metadata": {},
     "output_type": "execute_result"
    }
   ],
   "source": [
    "residuals_2 = total_cases_italy.loc[(fit_range_2):(fit_range_3-1)] - ydata_2  #  Calculation of R^2\n",
    "ss_res_2 = np.sum(residuals_2**2)\n",
    "ss_tot_2 = np.sum((total_cases_italy.loc[(fit_range_2):(fit_range_3-1)] - np.mean(total_cases_italy.loc[(fit_range_2):(fit_range_3-1)]))**2)\n",
    "r_squared_2 = 1 - (ss_res_2 / ss_tot_2)\n",
    "r_squared_2"
   ]
  },
  {
   "cell_type": "markdown",
   "metadata": {},
   "source": [
    "---------------"
   ]
  },
  {
   "cell_type": "code",
   "execution_count": 83,
   "metadata": {},
   "outputs": [
    {
     "name": "stderr",
     "output_type": "stream",
     "text": [
      "/Users/Angelo/opt/anaconda3/lib/python3.7/site-packages/ipykernel_launcher.py:8: RuntimeWarning: divide by zero encountered in double_scalars\n",
      "  \n"
     ]
    }
   ],
   "source": [
    "max_population = []\n",
    "max_population_up = []\n",
    "max_population_down = []\n",
    "\n",
    "# iii = len(total_cases_italy)\n",
    "iii = 15\n",
    "\n",
    "while (iii <= len(total_cases_italy)):\n",
    "    fit_range_2 = iii - 15\n",
    "    fit_range_3 = iii\n",
    "    xdata_2 = np.linspace(fit_range_2, fit_range_3, fit_range_3 - fit_range_2)\n",
    "    init_guess = [500000,0.001,0]\n",
    "    fit = curve_fit(model_population, xdata_2, total_cases_italy.loc[fit_range_2:(fit_range_3-1)], p0=init_guess, maxfev=10000)\n",
    "    ans, cov = fit\n",
    "    fit_K, fit_r, fit_P_0 = ans\n",
    "    max_population.append(fit_K)\n",
    "    max_population_up.append(fit_K + np.sqrt(np.diag(cov))[0])\n",
    "    max_population_down.append(fit_K - np.sqrt(np.diag(cov))[0])\n",
    "    iii = iii + 1"
   ]
  },
  {
   "cell_type": "code",
   "execution_count": 84,
   "metadata": {},
   "outputs": [
    {
     "data": {
      "text/plain": [
       "107"
      ]
     },
     "execution_count": 84,
     "metadata": {},
     "output_type": "execute_result"
    }
   ],
   "source": [
    "len(max_population)"
   ]
  },
  {
   "cell_type": "code",
   "execution_count": 85,
   "metadata": {},
   "outputs": [
    {
     "name": "stderr",
     "output_type": "stream",
     "text": [
      "BokehUserWarning: ColumnDataSource's columns must be of the same length. Current lengths: ('x', 121), ('y', 107)\n",
      "BokehUserWarning: ColumnDataSource's columns must be of the same length. Current lengths: ('x', 121), ('y', 107)\n"
     ]
    },
    {
     "data": {
      "text/html": [
       "\n",
       "\n",
       "\n",
       "\n",
       "\n",
       "\n",
       "  <div class=\"bk-root\" id=\"3f8f4cd8-6698-471c-8683-5c999a11f064\" data-root-id=\"17536\"></div>\n"
      ]
     },
     "metadata": {},
     "output_type": "display_data"
    },
    {
     "data": {
      "application/javascript": [
       "(function(root) {\n",
       "  function embed_document(root) {\n",
       "    \n",
       "  var docs_json = {\"c5adcf27-a619-40bf-b3f4-e854a62f64a5\":{\"roots\":{\"references\":[{\"attributes\":{\"below\":[{\"id\":\"17547\"}],\"center\":[{\"id\":\"17550\"},{\"id\":\"17554\"},{\"id\":\"17592\"}],\"left\":[{\"id\":\"17551\"}],\"plot_height\":450,\"renderers\":[{\"id\":\"17572\"},{\"id\":\"17597\"}],\"title\":{\"id\":\"17537\"},\"toolbar\":{\"id\":\"17562\"},\"x_range\":{\"id\":\"17539\"},\"x_scale\":{\"id\":\"17543\"},\"y_range\":{\"id\":\"17541\"},\"y_scale\":{\"id\":\"17545\"}},\"id\":\"17536\",\"subtype\":\"Figure\",\"type\":\"Plot\"},{\"attributes\":{},\"id\":\"17543\",\"type\":\"LinearScale\"},{\"attributes\":{\"axis\":{\"id\":\"17551\"},\"dimension\":1,\"ticker\":null},\"id\":\"17554\",\"type\":\"Grid\"},{\"attributes\":{\"overlay\":{\"id\":\"17561\"}},\"id\":\"17557\",\"type\":\"BoxZoomTool\"},{\"attributes\":{\"text\":\"Total Cases MAX: Italy\"},\"id\":\"17537\",\"type\":\"Title\"},{\"attributes\":{},\"id\":\"17539\",\"type\":\"DataRange1d\"},{\"attributes\":{\"data\":{\"x\":{\"__ndarray__\":\"AACAdckLd0IAAEDbGwx3QgAAAEFuDHdCAADApsAMd0IAAIAMEw13QgAAQHJlDXdCAAAA2LcNd0IAAMA9Cg53QgAAgKNcDndCAABACa8Od0IAAABvAQ93QgAAwNRTD3dCAACAOqYPd0IAAECg+A93QgAAAAZLEHdCAADAa50Qd0IAAIDR7xB3QgAAQDdCEXdCAAAAnZQRd0IAAMAC5xF3QgAAgGg5EndCAABAzosSd0IAAAA03hJ3QgAAwJkwE3dCAACA/4ITd0IAAEBl1RN3QgAAAMsnFHdCAADAMHoUd0IAAICWzBR3QgAAQPweFXdCAAAAYnEVd0IAAMDHwxV3QgAAgC0WFndCAABAk2gWd0IAAAD5uhZ3QgAAwF4NF3dCAACAxF8Xd0IAAEAqshd3QgAAAJAEGHdCAADA9VYYd0IAAIBbqRh3QgAAQMH7GHdCAAAAJ04Zd0IAAMCMoBl3QgAAgPLyGXdCAABAWEUad0IAAAC+lxp3QgAAwCPqGndCAACAiTwbd0IAAEDvjht3QgAAAFXhG3dCAADAujMcd0IAAIAghhx3QgAAQIbYHHdCAAAA7Codd0IAAMBRfR13QgAAgLfPHXdCAABAHSIed0IAAACDdB53QgAAwOjGHndCAACAThkfd0IAAEC0ax93QgAAABq+H3dCAADAfxAgd0IAAIDlYiB3QgAAQEu1IHdCAAAAsQchd0IAAMAWWiF3QgAAgHysIXdCAABA4v4hd0IAAABIUSJ3QgAAwK2jIndCAACAE/Yid0IAAEB5SCN3QgAAAN+aI3dCAADARO0jd0IAAICqPyR3QgAAQBCSJHdCAAAAduQkd0IAAMDbNiV3QgAAgEGJJXdCAABAp9sld0IAAAANLiZ3QgAAwHKAJndCAACA2NImd0IAAEA+JSd3QgAAAKR3J3dCAADACcond0IAAIBvHCh3QgAAQNVuKHdCAAAAO8Eod0IAAMCgEyl3QgAAgAZmKXdCAABAbLgpd0IAAADSCip3QgAAwDddKndCAACAna8qd0IAAEADAit3QgAAAGlUK3dCAADAzqYrd0IAAIA0+St3QgAAQJpLLHdCAAAAAJ4sd0IAAMBl8Cx3QgAAgMtCLXdCAABAMZUtd0IAAACX5y13QgAAwPw5LndCAACAYowud0IAAEDI3i53QgAAAC4xL3dCAADAk4Mvd0IAAID51S93QgAAQF8oMHdCAAAAxXowd0IAAMAqzTB3QgAAgJAfMXdCAABA9nExd0IAAABcxDF3QgAAwMEWMndCAACAJ2kyd0I=\",\"dtype\":\"float64\",\"shape\":[121]},\"y\":[56478.01575580371,24583.77912227274,30685.15420726601,46826.59514105012,53329.08700758159,74233.09149450295,87219.86131064052,73027.73630970358,67006.19850587512,69565.84133555055,82774.85701584803,106313.20310471767,142085.23578711355,148049.07947912067,131191.63677368296,121184.83023439659,118656.34219589637,121670.50390297288,126056.67364481365,132205.3849850846,135565.65392889993,134786.44427582872,134521.07871898808,137414.18231022937,142572.83155211608,148841.51245276246,156065.4311300869,161106.08989490973,163925.22306472965,166072.43933577856,170305.34587481103,178897.33718563078,188867.6174918845,203843.22026789814,217070.77896056394,220171.02106567955,221187.8991970876,221517.6819434537,226400.04684802738,232794.07793409855,240131.17995140795,239540.9564782476,229618.50293991837,223751.2540064661,228144.57847383892,235116.51091770307,246422.97525667073,258604.8376873686,258419.75722686347,245503.1550678486,237449.6359037941,233879.287510315,235005.1660143534,235865.82485456162,236741.21876605743,234328.48934527492,230784.96816347417,229640.7293637448,230957.63336201524,231844.9765356494,234049.12234075853,234143.16595075227,233105.14525010553,231137.02262891876,232627.96399807322,234613.10451786793,237387.01319176125,240659.94291903713,243220.109531155,241387.3543733829,238087.60921274056,237117.54579708472,238099.60329364086,239078.28305073266,239641.22938971192,239404.57727575154,238559.76789832977,237906.7451706942,239186.20839485523,239475.5318170175,241194.10367247046,242558.83770657255,243710.25947749708,242415.11928143125,239944.0382130659,239753.00938183177,239275.68860826138,238520.1239621138,239088.67886271284,239421.02457157438,238744.16568075586,238143.47814406638,238573.62316533597,240027.2726336548,244755.79838648348,249781.39043182303,257993.08893654347,270005.00186947174,269427.3286686133,282336.3842731011,468508.6632640779,282427970.1712575,283100.768556297,248328.73275159477,243703.9713623735,242547.56092989797,241519.47842861232]},\"selected\":{\"id\":\"18099\"},\"selection_policy\":{\"id\":\"18100\"}},\"id\":\"17594\",\"type\":\"ColumnDataSource\"},{\"attributes\":{},\"id\":\"17545\",\"type\":\"LinearScale\"},{\"attributes\":{\"active_drag\":\"auto\",\"active_inspect\":\"auto\",\"active_multi\":null,\"active_scroll\":\"auto\",\"active_tap\":\"auto\",\"tools\":[{\"id\":\"17555\"},{\"id\":\"17556\"},{\"id\":\"17557\"},{\"id\":\"17558\"},{\"id\":\"17559\"},{\"id\":\"17560\"},{\"id\":\"17604\"}]},\"id\":\"17562\",\"type\":\"Toolbar\"},{\"attributes\":{\"line_color\":\"blue\",\"line_width\":4,\"x\":{\"field\":\"x\"},\"y\":{\"field\":\"y\"}},\"id\":\"17570\",\"type\":\"Line\"},{\"attributes\":{},\"id\":\"17558\",\"type\":\"SaveTool\"},{\"attributes\":{\"data_source\":{\"id\":\"17569\"},\"glyph\":{\"id\":\"17570\"},\"hover_glyph\":null,\"muted_glyph\":null,\"nonselection_glyph\":{\"id\":\"17571\"},\"selection_glyph\":null,\"view\":{\"id\":\"17573\"}},\"id\":\"17572\",\"type\":\"GlyphRenderer\"},{\"attributes\":{},\"id\":\"18100\",\"type\":\"UnionRenderers\"},{\"attributes\":{},\"id\":\"17552\",\"type\":\"BasicTicker\"},{\"attributes\":{\"days\":[1,15]},\"id\":\"17585\",\"type\":\"DaysTicker\"},{\"attributes\":{\"end\":300000},\"id\":\"17541\",\"type\":\"Range1d\"},{\"attributes\":{\"axis_label\":\"Total Cases MAX\",\"formatter\":{\"id\":\"17603\"},\"minor_tick_in\":-5,\"minor_tick_out\":-3,\"ticker\":{\"id\":\"17552\"}},\"id\":\"17551\",\"type\":\"LinearAxis\"},{\"attributes\":{\"days\":[\"%d %B\"]},\"id\":\"17599\",\"type\":\"DatetimeTickFormatter\"},{\"attributes\":{\"num_minor_ticks\":5,\"tickers\":[{\"id\":\"17579\"},{\"id\":\"17580\"},{\"id\":\"17581\"},{\"id\":\"17582\"},{\"id\":\"17583\"},{\"id\":\"17584\"},{\"id\":\"17585\"},{\"id\":\"17586\"},{\"id\":\"17587\"},{\"id\":\"17588\"},{\"id\":\"17589\"},{\"id\":\"17590\"}]},\"id\":\"17548\",\"type\":\"DatetimeTicker\"},{\"attributes\":{\"data\":{\"x\":{\"__ndarray__\":\"AACAdckLd0IAAEDbGwx3QgAAAEFuDHdCAADApsAMd0IAAIAMEw13QgAAQHJlDXdCAAAA2LcNd0IAAMA9Cg53QgAAgKNcDndCAABACa8Od0IAAABvAQ93QgAAwNRTD3dCAACAOqYPd0IAAECg+A93QgAAAAZLEHdCAADAa50Qd0IAAIDR7xB3QgAAQDdCEXdCAAAAnZQRd0IAAMAC5xF3QgAAgGg5EndCAABAzosSd0IAAAA03hJ3QgAAwJkwE3dCAACA/4ITd0IAAEBl1RN3QgAAAMsnFHdCAADAMHoUd0IAAICWzBR3QgAAQPweFXdCAAAAYnEVd0IAAMDHwxV3QgAAgC0WFndCAABAk2gWd0IAAAD5uhZ3QgAAwF4NF3dCAACAxF8Xd0IAAEAqshd3QgAAAJAEGHdCAADA9VYYd0IAAIBbqRh3QgAAQMH7GHdCAAAAJ04Zd0IAAMCMoBl3QgAAgPLyGXdCAABAWEUad0IAAAC+lxp3QgAAwCPqGndCAACAiTwbd0IAAEDvjht3QgAAAFXhG3dCAADAujMcd0IAAIAghhx3QgAAQIbYHHdCAAAA7Codd0IAAMBRfR13QgAAgLfPHXdCAABAHSIed0IAAACDdB53QgAAwOjGHndCAACAThkfd0IAAEC0ax93QgAAABq+H3dCAADAfxAgd0IAAIDlYiB3QgAAQEu1IHdCAAAAsQchd0IAAMAWWiF3QgAAgHysIXdCAABA4v4hd0IAAABIUSJ3QgAAwK2jIndCAACAE/Yid0IAAEB5SCN3QgAAAN+aI3dCAADARO0jd0IAAICqPyR3QgAAQBCSJHdCAAAAduQkd0IAAMDbNiV3QgAAgEGJJXdCAABAp9sld0IAAAANLiZ3QgAAwHKAJndCAACA2NImd0IAAEA+JSd3QgAAAKR3J3dCAADACcond0IAAIBvHCh3QgAAQNVuKHdCAAAAO8Eod0IAAMCgEyl3QgAAgAZmKXdCAABAbLgpd0IAAADSCip3QgAAwDddKndCAACAna8qd0IAAEADAit3QgAAAGlUK3dCAADAzqYrd0IAAIA0+St3QgAAQJpLLHdCAAAAAJ4sd0IAAMBl8Cx3QgAAgMtCLXdCAABAMZUtd0IAAACX5y13QgAAwPw5LndCAACAYowud0IAAEDI3i53QgAAAC4xL3dCAADAk4Mvd0IAAID51S93QgAAQF8oMHdCAAAAxXowd0IAAMAqzTB3QgAAgJAfMXdCAABA9nExd0IAAABcxDF3QgAAwMEWMndCAACAJ2kyd0I=\",\"dtype\":\"float64\",\"shape\":[121]},\"y\":[56478.01575580371,24583.77912227274,30685.15420726601,46826.59514105012,53329.08700758159,74233.09149450295,87219.86131064052,73027.73630970358,67006.19850587512,69565.84133555055,82774.85701584803,106313.20310471767,142085.23578711355,148049.07947912067,131191.63677368296,121184.83023439659,118656.34219589637,121670.50390297288,126056.67364481365,132205.3849850846,135565.65392889993,134786.44427582872,134521.07871898808,137414.18231022937,142572.83155211608,148841.51245276246,156065.4311300869,161106.08989490973,163925.22306472965,166072.43933577856,170305.34587481103,178897.33718563078,188867.6174918845,203843.22026789814,217070.77896056394,220171.02106567955,221187.8991970876,221517.6819434537,226400.04684802738,232794.07793409855,240131.17995140795,239540.9564782476,229618.50293991837,223751.2540064661,228144.57847383892,235116.51091770307,246422.97525667073,258604.8376873686,258419.75722686347,245503.1550678486,237449.6359037941,233879.287510315,235005.1660143534,235865.82485456162,236741.21876605743,234328.48934527492,230784.96816347417,229640.7293637448,230957.63336201524,231844.9765356494,234049.12234075853,234143.16595075227,233105.14525010553,231137.02262891876,232627.96399807322,234613.10451786793,237387.01319176125,240659.94291903713,243220.109531155,241387.3543733829,238087.60921274056,237117.54579708472,238099.60329364086,239078.28305073266,239641.22938971192,239404.57727575154,238559.76789832977,237906.7451706942,239186.20839485523,239475.5318170175,241194.10367247046,242558.83770657255,243710.25947749708,242415.11928143125,239944.0382130659,239753.00938183177,239275.68860826138,238520.1239621138,239088.67886271284,239421.02457157438,238744.16568075586,238143.47814406638,238573.62316533597,240027.2726336548,244755.79838648348,249781.39043182303,257993.08893654347,270005.00186947174,269427.3286686133,282336.3842731011,468508.6632640779,282427970.1712575,283100.768556297,248328.73275159477,243703.9713623735,242547.56092989797,241519.47842861232]},\"selected\":{\"id\":\"18097\"},\"selection_policy\":{\"id\":\"18098\"}},\"id\":\"17569\",\"type\":\"ColumnDataSource\"},{\"attributes\":{\"bottom_units\":\"screen\",\"fill_alpha\":0.5,\"fill_color\":\"lightgrey\",\"left_units\":\"screen\",\"level\":\"overlay\",\"line_alpha\":1.0,\"line_color\":\"black\",\"line_dash\":[4,4],\"line_width\":2,\"render_mode\":\"css\",\"right_units\":\"screen\",\"top_units\":\"screen\"},\"id\":\"17561\",\"type\":\"BoxAnnotation\"},{\"attributes\":{\"data_source\":{\"id\":\"17594\"},\"glyph\":{\"id\":\"17595\"},\"hover_glyph\":null,\"muted_glyph\":null,\"nonselection_glyph\":{\"id\":\"17596\"},\"selection_glyph\":null,\"view\":{\"id\":\"17598\"}},\"id\":\"17597\",\"type\":\"GlyphRenderer\"},{\"attributes\":{\"source\":{\"id\":\"17569\"}},\"id\":\"17573\",\"type\":\"CDSView\"},{\"attributes\":{\"days\":[1,2,3,4,5,6,7,8,9,10,11,12,13,14,15,16,17,18,19,20,21,22,23,24,25,26,27,28,29,30,31]},\"id\":\"17582\",\"type\":\"DaysTicker\"},{\"attributes\":{\"source\":{\"id\":\"17594\"}},\"id\":\"17598\",\"type\":\"CDSView\"},{\"attributes\":{},\"id\":\"17590\",\"type\":\"YearsTicker\"},{\"attributes\":{\"items\":[{\"id\":\"17593\"}],\"location\":\"top_left\"},\"id\":\"17592\",\"type\":\"Legend\"},{\"attributes\":{\"callback\":null,\"formatters\":{\"@x\":\"datetime\"},\"mode\":\"vline\",\"tooltips\":[[\"date\",\"@x{%d %B}\"],[\"total cases max\",\"@y{0.}\"]]},\"id\":\"17604\",\"type\":\"HoverTool\"},{\"attributes\":{},\"id\":\"18097\",\"type\":\"Selection\"},{\"attributes\":{\"days\":[1,4,7,10,13,16,19,22,25,28]},\"id\":\"17583\",\"type\":\"DaysTicker\"},{\"attributes\":{},\"id\":\"17555\",\"type\":\"PanTool\"},{\"attributes\":{},\"id\":\"18099\",\"type\":\"Selection\"},{\"attributes\":{\"days\":[1,8,15,22]},\"id\":\"17584\",\"type\":\"DaysTicker\"},{\"attributes\":{\"mantissas\":[1,2,5],\"max_interval\":500.0,\"num_minor_ticks\":0},\"id\":\"17579\",\"type\":\"AdaptiveTicker\"},{\"attributes\":{},\"id\":\"17556\",\"type\":\"WheelZoomTool\"},{\"attributes\":{\"base\":60,\"mantissas\":[1,2,5,10,15,20,30],\"max_interval\":1800000.0,\"min_interval\":1000.0,\"num_minor_ticks\":0},\"id\":\"17580\",\"type\":\"AdaptiveTicker\"},{\"attributes\":{\"months\":[0,6]},\"id\":\"17589\",\"type\":\"MonthsTicker\"},{\"attributes\":{\"axis_label\":\"Date\",\"formatter\":{\"id\":\"17599\"},\"major_label_orientation\":0.7853981633974483,\"minor_tick_in\":-5,\"minor_tick_out\":-3,\"ticker\":{\"id\":\"17548\"}},\"id\":\"17547\",\"type\":\"DatetimeAxis\"},{\"attributes\":{\"axis\":{\"id\":\"17547\"},\"ticker\":null},\"id\":\"17550\",\"type\":\"Grid\"},{\"attributes\":{},\"id\":\"17603\",\"type\":\"NumeralTickFormatter\"},{\"attributes\":{\"line_alpha\":0.1,\"line_color\":\"blue\",\"line_width\":4,\"x\":{\"field\":\"x\"},\"y\":{\"field\":\"y\"}},\"id\":\"17571\",\"type\":\"Line\"},{\"attributes\":{\"months\":[0,1,2,3,4,5,6,7,8,9,10,11]},\"id\":\"17586\",\"type\":\"MonthsTicker\"},{\"attributes\":{\"fill_alpha\":{\"value\":0.1},\"fill_color\":{\"value\":\"white\"},\"line_alpha\":{\"value\":0.1},\"line_color\":{\"value\":\"blue\"},\"size\":{\"units\":\"screen\",\"value\":6},\"x\":{\"field\":\"x\"},\"y\":{\"field\":\"y\"}},\"id\":\"17596\",\"type\":\"Circle\"},{\"attributes\":{\"base\":24,\"mantissas\":[1,2,4,6,8,12],\"max_interval\":43200000.0,\"min_interval\":3600000.0,\"num_minor_ticks\":0},\"id\":\"17581\",\"type\":\"AdaptiveTicker\"},{\"attributes\":{},\"id\":\"17560\",\"type\":\"HelpTool\"},{\"attributes\":{},\"id\":\"18098\",\"type\":\"UnionRenderers\"},{\"attributes\":{\"months\":[0,4,8]},\"id\":\"17588\",\"type\":\"MonthsTicker\"},{\"attributes\":{},\"id\":\"17559\",\"type\":\"ResetTool\"},{\"attributes\":{\"label\":{\"value\":\"total cases max\"},\"renderers\":[{\"id\":\"17572\"}]},\"id\":\"17593\",\"type\":\"LegendItem\"},{\"attributes\":{\"months\":[0,2,4,6,8,10]},\"id\":\"17587\",\"type\":\"MonthsTicker\"},{\"attributes\":{\"fill_color\":{\"value\":\"white\"},\"line_color\":{\"value\":\"blue\"},\"size\":{\"units\":\"screen\",\"value\":6},\"x\":{\"field\":\"x\"},\"y\":{\"field\":\"y\"}},\"id\":\"17595\",\"type\":\"Circle\"}],\"root_ids\":[\"17536\"]},\"title\":\"Bokeh Application\",\"version\":\"2.0.2\"}};\n",
       "  var render_items = [{\"docid\":\"c5adcf27-a619-40bf-b3f4-e854a62f64a5\",\"root_ids\":[\"17536\"],\"roots\":{\"17536\":\"3f8f4cd8-6698-471c-8683-5c999a11f064\"}}];\n",
       "  root.Bokeh.embed.embed_items_notebook(docs_json, render_items);\n",
       "\n",
       "  }\n",
       "  if (root.Bokeh !== undefined) {\n",
       "    embed_document(root);\n",
       "  } else {\n",
       "    var attempts = 0;\n",
       "    var timer = setInterval(function(root) {\n",
       "      if (root.Bokeh !== undefined) {\n",
       "        clearInterval(timer);\n",
       "        embed_document(root);\n",
       "      } else {\n",
       "        attempts++;\n",
       "        if (attempts > 100) {\n",
       "          clearInterval(timer);\n",
       "          console.log(\"Bokeh: ERROR: Unable to run BokehJS code because BokehJS library is missing\");\n",
       "        }\n",
       "      }\n",
       "    }, 10, root)\n",
       "  }\n",
       "})(window);"
      ],
      "application/vnd.bokehjs_exec.v0+json": ""
     },
     "metadata": {
      "application/vnd.bokehjs_exec.v0+json": {
       "id": "17536"
      }
     },
     "output_type": "display_data"
    }
   ],
   "source": [
    "p_new_positive_MAX_Italy = bokeh_plot_1_line(x=time_date_new + 14, y=max_population, \n",
    "                  title='Total Cases MAX: Italy', \n",
    "                  file_name=\"total_cases_MAX_Italy.html\", \n",
    "                  x_label='Date', \n",
    "                  y_label='Total Cases MAX', legend='total cases max',\n",
    "                  x_label_hover='date', y_label_hover='total cases max',\n",
    "                  color='blue', y_minmax=(0,300000))\n",
    "\n",
    "show(p_new_positive_MAX_Italy)"
   ]
  },
  {
   "cell_type": "code",
   "execution_count": 86,
   "metadata": {},
   "outputs": [
    {
     "name": "stderr",
     "output_type": "stream",
     "text": [
      "BokehUserWarning: ColumnDataSource's columns must be of the same length. Current lengths: ('x', 121), ('y', 107)\n",
      "BokehUserWarning: ColumnDataSource's columns must be of the same length. Current lengths: ('x', 121), ('y', 107)\n",
      "BokehUserWarning: ColumnDataSource's columns must be of the same length. Current lengths: ('x', 121), ('y', 107)\n",
      "BokehUserWarning: ColumnDataSource's columns must be of the same length. Current lengths: ('x', 121), ('y', 107)\n",
      "BokehUserWarning: ColumnDataSource's columns must be of the same length. Current lengths: ('x', 121), ('y', 107)\n",
      "BokehUserWarning: ColumnDataSource's columns must be of the same length. Current lengths: ('x', 121), ('y', 107)\n"
     ]
    },
    {
     "data": {
      "text/html": [
       "\n",
       "\n",
       "\n",
       "\n",
       "\n",
       "\n",
       "  <div class=\"bk-root\" id=\"d59f4535-7670-4bef-af70-3e1f45d36f2e\" data-root-id=\"18495\"></div>\n"
      ]
     },
     "metadata": {},
     "output_type": "display_data"
    },
    {
     "data": {
      "application/javascript": [
       "(function(root) {\n",
       "  function embed_document(root) {\n",
       "    \n",
       "  var docs_json = {\"690b6345-d45f-45d1-99d3-685d764eeb60\":{\"roots\":{\"references\":[{\"attributes\":{\"below\":[{\"id\":\"18506\"}],\"center\":[{\"id\":\"18509\"},{\"id\":\"18513\"},{\"id\":\"18551\"}],\"left\":[{\"id\":\"18510\"}],\"plot_height\":450,\"renderers\":[{\"id\":\"18531\"},{\"id\":\"18556\"},{\"id\":\"18561\"},{\"id\":\"18589\"},{\"id\":\"18594\"},{\"id\":\"18626\"}],\"title\":{\"id\":\"18496\"},\"toolbar\":{\"id\":\"18521\"},\"x_range\":{\"id\":\"18498\"},\"x_scale\":{\"id\":\"18502\"},\"y_range\":{\"id\":\"18500\"},\"y_scale\":{\"id\":\"18504\"}},\"id\":\"18495\",\"subtype\":\"Figure\",\"type\":\"Plot\"},{\"attributes\":{},\"id\":\"18608\",\"type\":\"UnionRenderers\"},{\"attributes\":{\"data\":{\"x\":{\"__ndarray__\":\"AACAdckLd0IAAEDbGwx3QgAAAEFuDHdCAADApsAMd0IAAIAMEw13QgAAQHJlDXdCAAAA2LcNd0IAAMA9Cg53QgAAgKNcDndCAABACa8Od0IAAABvAQ93QgAAwNRTD3dCAACAOqYPd0IAAECg+A93QgAAAAZLEHdCAADAa50Qd0IAAIDR7xB3QgAAQDdCEXdCAAAAnZQRd0IAAMAC5xF3QgAAgGg5EndCAABAzosSd0IAAAA03hJ3QgAAwJkwE3dCAACA/4ITd0IAAEBl1RN3QgAAAMsnFHdCAADAMHoUd0IAAICWzBR3QgAAQPweFXdCAAAAYnEVd0IAAMDHwxV3QgAAgC0WFndCAABAk2gWd0IAAAD5uhZ3QgAAwF4NF3dCAACAxF8Xd0IAAEAqshd3QgAAAJAEGHdCAADA9VYYd0IAAIBbqRh3QgAAQMH7GHdCAAAAJ04Zd0IAAMCMoBl3QgAAgPLyGXdCAABAWEUad0IAAAC+lxp3QgAAwCPqGndCAACAiTwbd0IAAEDvjht3QgAAAFXhG3dCAADAujMcd0IAAIAghhx3QgAAQIbYHHdCAAAA7Codd0IAAMBRfR13QgAAgLfPHXdCAABAHSIed0IAAACDdB53QgAAwOjGHndCAACAThkfd0IAAEC0ax93QgAAABq+H3dCAADAfxAgd0IAAIDlYiB3QgAAQEu1IHdCAAAAsQchd0IAAMAWWiF3QgAAgHysIXdCAABA4v4hd0IAAABIUSJ3QgAAwK2jIndCAACAE/Yid0IAAEB5SCN3QgAAAN+aI3dCAADARO0jd0IAAICqPyR3QgAAQBCSJHdCAAAAduQkd0IAAMDbNiV3QgAAgEGJJXdCAABAp9sld0IAAAANLiZ3QgAAwHKAJndCAACA2NImd0IAAEA+JSd3QgAAAKR3J3dCAADACcond0IAAIBvHCh3QgAAQNVuKHdCAAAAO8Eod0IAAMCgEyl3QgAAgAZmKXdCAABAbLgpd0IAAADSCip3QgAAwDddKndCAACAna8qd0IAAEADAit3QgAAAGlUK3dCAADAzqYrd0IAAIA0+St3QgAAQJpLLHdCAAAAAJ4sd0IAAMBl8Cx3QgAAgMtCLXdCAABAMZUtd0IAAACX5y13QgAAwPw5LndCAACAYowud0IAAEDI3i53QgAAAC4xL3dCAADAk4Mvd0IAAID51S93QgAAQF8oMHdCAAAAxXowd0IAAMAqzTB3QgAAgJAfMXdCAABA9nExd0IAAABcxDF3QgAAwMEWMndCAACAJ2kyd0I=\",\"dtype\":\"float64\",\"shape\":[121]},\"y\":[26043.971812504264,20083.65068870154,25346.57578244707,35909.927410801036,43429.585746361794,58548.634512215554,72043.32959441826,65292.379922870714,62259.10925696984,65702.27002649025,76414.71090505764,94089.36329658148,120778.67993465065,130954.72655944078,120254.2916543287,113798.26020111817,113065.6650033305,116759.29233017875,121303.01550289828,127183.23339298148,130826.6583664977,130925.33684044708,131239.3267746586,134307.8098762204,139584.7803108238,145926.20686201358,152714.74070510527,157155.71810705302,159868.73424532468,162159.56500686478,166315.33370699253,174693.54389703454,184332.1433135461,197127.0247149762,207486.39018731844,210455.5259249559,211834.02323968252,212651.00659756374,217293.11216168775,223008.48310470534,229203.54507558764,229354.22845462602,222661.04048149457,218856.3651044555,222411.86244789674,228406.18327514542,237900.6447509526,249867.68233946236,249950.62922143852,239463.15692017658,233354.40797609536,230718.28187242209,231857.44694227044,232686.76169800988,233491.2565138963,231727.2959375785,229148.91275978825,228075.7299354666,229435.26503357038,230242.86468680552,232273.54003200328,232389.88294607017,231536.7889378649,229972.91861047296,231147.71263178717,232820.84441989934,235119.1492175848,238093.97097544427,240336.7750460033,238951.55398166465,236274.8334302147,235574.59882545398,236427.4657798214,237254.86266556324,237699.97372949755,237603.60978277843,237140.43124634048,236625.1086934055,237941.4009965396,238182.0961276583,239505.31784651574,240430.9773494944,241222.97394732063,240442.14681670268,238653.36366763513,238467.556746346,238094.4241819498,237478.0452402145,237852.29005947305,238068.30859486942,237720.6573951382,237447.96693694105,237732.50457107008,238766.02205772407,241460.9874065534,243729.74513459334,243970.70530176538,236601.2603196699,238218.1290069433,223366.1500622401,-991051.550201562,-1751127691047.1892,185090.83234484354,241383.06152681328,241359.9201523969,241041.91130543762,240609.78554890782]},\"selected\":{\"id\":\"19155\"},\"selection_policy\":{\"id\":\"19156\"}},\"id\":\"18623\",\"type\":\"ColumnDataSource\"},{\"attributes\":{\"axis_label\":\"Date\",\"formatter\":{\"id\":\"18628\"},\"major_label_orientation\":0.7853981633974483,\"minor_tick_in\":-5,\"minor_tick_out\":-3,\"ticker\":{\"id\":\"18507\"}},\"id\":\"18506\",\"type\":\"DatetimeAxis\"},{\"attributes\":{\"fill_alpha\":{\"value\":0.1},\"fill_color\":{\"value\":\"white\"},\"line_alpha\":{\"value\":0.1},\"line_color\":{\"value\":\"lightblue\"},\"size\":{\"units\":\"screen\",\"value\":5},\"x\":{\"field\":\"x\"},\"y\":{\"field\":\"y\"}},\"id\":\"18625\",\"type\":\"Circle\"},{\"attributes\":{\"source\":{\"id\":\"18623\"}},\"id\":\"18627\",\"type\":\"CDSView\"},{\"attributes\":{\"data_source\":{\"id\":\"18623\"},\"glyph\":{\"id\":\"18624\"},\"hover_glyph\":null,\"muted_glyph\":null,\"nonselection_glyph\":{\"id\":\"18625\"},\"selection_glyph\":null,\"view\":{\"id\":\"18627\"}},\"id\":\"18626\",\"type\":\"GlyphRenderer\"},{\"attributes\":{\"callback\":null,\"formatters\":{\"@x\":\"datetime\"},\"mode\":\"vline\",\"tooltips\":[[\"date\",\"@x{%d %B}\"],[\"total cases max/UP/DOWN\",\"@y{0[.]000}\"]]},\"id\":\"18632\",\"type\":\"HoverTool\"},{\"attributes\":{\"use_scientific\":false},\"id\":\"18630\",\"type\":\"BasicTickFormatter\"},{\"attributes\":{},\"id\":\"18498\",\"type\":\"DataRange1d\"},{\"attributes\":{\"days\":[\"%d %B\"]},\"id\":\"18628\",\"type\":\"DatetimeTickFormatter\"},{\"attributes\":{},\"id\":\"19153\",\"type\":\"Selection\"},{\"attributes\":{},\"id\":\"19154\",\"type\":\"UnionRenderers\"},{\"attributes\":{\"fill_color\":{\"value\":\"white\"},\"line_color\":{\"value\":\"lightcoral\"},\"size\":{\"units\":\"screen\",\"value\":5},\"x\":{\"field\":\"x\"},\"y\":{\"field\":\"y\"}},\"id\":\"18587\",\"type\":\"Circle\"},{\"attributes\":{\"data\":{\"x\":{\"__ndarray__\":\"AACAdckLd0IAAEDbGwx3QgAAAEFuDHdCAADApsAMd0IAAIAMEw13QgAAQHJlDXdCAAAA2LcNd0IAAMA9Cg53QgAAgKNcDndCAABACa8Od0IAAABvAQ93QgAAwNRTD3dCAACAOqYPd0IAAECg+A93QgAAAAZLEHdCAADAa50Qd0IAAIDR7xB3QgAAQDdCEXdCAAAAnZQRd0IAAMAC5xF3QgAAgGg5EndCAABAzosSd0IAAAA03hJ3QgAAwJkwE3dCAACA/4ITd0IAAEBl1RN3QgAAAMsnFHdCAADAMHoUd0IAAICWzBR3QgAAQPweFXdCAAAAYnEVd0IAAMDHwxV3QgAAgC0WFndCAABAk2gWd0IAAAD5uhZ3QgAAwF4NF3dCAACAxF8Xd0IAAEAqshd3QgAAAJAEGHdCAADA9VYYd0IAAIBbqRh3QgAAQMH7GHdCAAAAJ04Zd0IAAMCMoBl3QgAAgPLyGXdCAABAWEUad0IAAAC+lxp3QgAAwCPqGndCAACAiTwbd0IAAEDvjht3QgAAAFXhG3dCAADAujMcd0IAAIAghhx3QgAAQIbYHHdCAAAA7Codd0IAAMBRfR13QgAAgLfPHXdCAABAHSIed0IAAACDdB53QgAAwOjGHndCAACAThkfd0IAAEC0ax93QgAAABq+H3dCAADAfxAgd0IAAIDlYiB3QgAAQEu1IHdCAAAAsQchd0IAAMAWWiF3QgAAgHysIXdCAABA4v4hd0IAAABIUSJ3QgAAwK2jIndCAACAE/Yid0IAAEB5SCN3QgAAAN+aI3dCAADARO0jd0IAAICqPyR3QgAAQBCSJHdCAAAAduQkd0IAAMDbNiV3QgAAgEGJJXdCAABAp9sld0IAAAANLiZ3QgAAwHKAJndCAACA2NImd0IAAEA+JSd3QgAAAKR3J3dCAADACcond0IAAIBvHCh3QgAAQNVuKHdCAAAAO8Eod0IAAMCgEyl3QgAAgAZmKXdCAABAbLgpd0IAAADSCip3QgAAwDddKndCAACAna8qd0IAAEADAit3QgAAAGlUK3dCAADAzqYrd0IAAIA0+St3QgAAQJpLLHdCAAAAAJ4sd0IAAMBl8Cx3QgAAgMtCLXdCAABAMZUtd0IAAACX5y13QgAAwPw5LndCAACAYowud0IAAEDI3i53QgAAAC4xL3dCAADAk4Mvd0IAAID51S93QgAAQF8oMHdCAAAAxXowd0IAAMAqzTB3QgAAgJAfMXdCAABA9nExd0IAAABcxDF3QgAAwMEWMndCAACAJ2kyd0I=\",\"dtype\":\"float64\",\"shape\":[121]},\"y\":[86912.05969910315,29083.90755584394,36023.732632084946,57743.26287129921,63228.58826880139,89917.54847679034,102396.39302686279,80763.09269653645,71753.2877547804,73429.41264461084,89135.00312663842,118537.04291285387,163391.79163957646,165143.43239880056,142128.9818930372,128571.40026767501,124247.01938846224,126581.715475767,130810.33178672902,137227.5365771877,140304.64949130217,138647.55171121034,137802.83066331755,140520.55474423835,145560.88279340838,151756.81804351133,159416.1215550685,165056.46168276644,167981.71188413462,169985.31366469234,174295.35804262952,183101.13047422701,193403.0916702229,210559.41582082008,226655.16773380945,229886.5162064032,230541.77515449267,230384.35728934366,235506.98153436702,242579.67276349175,251058.81482722826,249727.68450186917,236575.96539834217,228646.1429084767,233877.2944997811,241826.83856026072,254945.30576238886,267341.9930352748,266888.88523228845,251543.1532155206,241544.8638314928,237040.29314820794,238152.88508643635,239044.88801111336,239991.18101821854,236929.68275297133,232421.0235671601,231205.72879202297,232480.0016904601,233447.08838449325,235824.7046495138,235896.44895543437,234673.50156234615,232301.12664736455,234108.21536435926,236405.36461583653,239654.87716593768,243225.91486263,246103.4440163067,243823.15476510115,239900.38499526642,238660.49276871546,239771.74080746033,240901.70343590208,241582.4850499263,241205.54476872465,239979.10455031905,239188.3816479829,240431.01579317087,240768.9675063767,242882.88949842518,244686.6980636507,246197.54500767353,244388.09174615983,241234.7127584967,241038.46201731754,240456.95303457294,239562.20268401311,240325.06766595264,240773.74054827934,239767.67396637352,238838.9893511917,239414.74175960186,241288.52320958552,248050.60936641356,255833.03572905273,272015.4725713216,303408.7434192736,300636.5283302833,341306.61848396214,1928068.8767297177,1751692546987.5315,381110.70476775046,255274.40397637626,246048.0225723501,244053.21055435832,242429.1713083168]},\"selected\":{\"id\":\"18605\"},\"selection_policy\":{\"id\":\"18606\"}},\"id\":\"18558\",\"type\":\"ColumnDataSource\"},{\"attributes\":{\"source\":{\"id\":\"18558\"}},\"id\":\"18562\",\"type\":\"CDSView\"},{\"attributes\":{\"fill_color\":{\"value\":\"white\"},\"line_color\":{\"value\":\"blue\"},\"size\":{\"units\":\"screen\",\"value\":5},\"x\":{\"field\":\"x\"},\"y\":{\"field\":\"y\"}},\"id\":\"18554\",\"type\":\"Circle\"},{\"attributes\":{\"label\":{\"value\":\"total cases max UP\"},\"renderers\":[{\"id\":\"18561\"}]},\"id\":\"18585\",\"type\":\"LegendItem\"},{\"attributes\":{\"line_alpha\":0.1,\"line_color\":\"lightcoral\",\"line_width\":4,\"x\":{\"field\":\"x\"},\"y\":{\"field\":\"y\"}},\"id\":\"18560\",\"type\":\"Line\"},{\"attributes\":{\"base\":24,\"mantissas\":[1,2,4,6,8,12],\"max_interval\":43200000.0,\"min_interval\":3600000.0,\"num_minor_ticks\":0},\"id\":\"18540\",\"type\":\"AdaptiveTicker\"},{\"attributes\":{\"base\":60,\"mantissas\":[1,2,5,10,15,20,30],\"max_interval\":1800000.0,\"min_interval\":1000.0,\"num_minor_ticks\":0},\"id\":\"18539\",\"type\":\"AdaptiveTicker\"},{\"attributes\":{},\"id\":\"18511\",\"type\":\"BasicTicker\"},{\"attributes\":{\"axis_label\":\"Total Cases MAX\",\"formatter\":{\"id\":\"18630\"},\"minor_tick_in\":-5,\"minor_tick_out\":-3,\"ticker\":{\"id\":\"18511\"}},\"id\":\"18510\",\"type\":\"LinearAxis\"},{\"attributes\":{\"axis\":{\"id\":\"18510\"},\"dimension\":1,\"ticker\":null},\"id\":\"18513\",\"type\":\"Grid\"},{\"attributes\":{\"active_drag\":\"auto\",\"active_inspect\":\"auto\",\"active_multi\":null,\"active_scroll\":\"auto\",\"active_tap\":\"auto\",\"tools\":[{\"id\":\"18514\"},{\"id\":\"18515\"},{\"id\":\"18516\"},{\"id\":\"18517\"},{\"id\":\"18518\"},{\"id\":\"18519\"},{\"id\":\"18632\"}]},\"id\":\"18521\",\"type\":\"Toolbar\"},{\"attributes\":{\"days\":[1,2,3,4,5,6,7,8,9,10,11,12,13,14,15,16,17,18,19,20,21,22,23,24,25,26,27,28,29,30,31]},\"id\":\"18541\",\"type\":\"DaysTicker\"},{\"attributes\":{\"data_source\":{\"id\":\"18528\"},\"glyph\":{\"id\":\"18529\"},\"hover_glyph\":null,\"muted_glyph\":null,\"nonselection_glyph\":{\"id\":\"18530\"},\"selection_glyph\":null,\"view\":{\"id\":\"18532\"}},\"id\":\"18531\",\"type\":\"GlyphRenderer\"},{\"attributes\":{\"days\":[1,4,7,10,13,16,19,22,25,28]},\"id\":\"18542\",\"type\":\"DaysTicker\"},{\"attributes\":{\"days\":[1,8,15,22]},\"id\":\"18543\",\"type\":\"DaysTicker\"},{\"attributes\":{},\"id\":\"18514\",\"type\":\"PanTool\"},{\"attributes\":{\"data_source\":{\"id\":\"18558\"},\"glyph\":{\"id\":\"18559\"},\"hover_glyph\":null,\"muted_glyph\":null,\"nonselection_glyph\":{\"id\":\"18560\"},\"selection_glyph\":null,\"view\":{\"id\":\"18562\"}},\"id\":\"18561\",\"type\":\"GlyphRenderer\"},{\"attributes\":{\"mantissas\":[1,2,5],\"max_interval\":500.0,\"num_minor_ticks\":0},\"id\":\"18538\",\"type\":\"AdaptiveTicker\"},{\"attributes\":{\"days\":[1,15]},\"id\":\"18544\",\"type\":\"DaysTicker\"},{\"attributes\":{\"end\":300000},\"id\":\"18500\",\"type\":\"Range1d\"},{\"attributes\":{\"data\":{\"x\":{\"__ndarray__\":\"AACAdckLd0IAAEDbGwx3QgAAAEFuDHdCAADApsAMd0IAAIAMEw13QgAAQHJlDXdCAAAA2LcNd0IAAMA9Cg53QgAAgKNcDndCAABACa8Od0IAAABvAQ93QgAAwNRTD3dCAACAOqYPd0IAAECg+A93QgAAAAZLEHdCAADAa50Qd0IAAIDR7xB3QgAAQDdCEXdCAAAAnZQRd0IAAMAC5xF3QgAAgGg5EndCAABAzosSd0IAAAA03hJ3QgAAwJkwE3dCAACA/4ITd0IAAEBl1RN3QgAAAMsnFHdCAADAMHoUd0IAAICWzBR3QgAAQPweFXdCAAAAYnEVd0IAAMDHwxV3QgAAgC0WFndCAABAk2gWd0IAAAD5uhZ3QgAAwF4NF3dCAACAxF8Xd0IAAEAqshd3QgAAAJAEGHdCAADA9VYYd0IAAIBbqRh3QgAAQMH7GHdCAAAAJ04Zd0IAAMCMoBl3QgAAgPLyGXdCAABAWEUad0IAAAC+lxp3QgAAwCPqGndCAACAiTwbd0IAAEDvjht3QgAAAFXhG3dCAADAujMcd0IAAIAghhx3QgAAQIbYHHdCAAAA7Codd0IAAMBRfR13QgAAgLfPHXdCAABAHSIed0IAAACDdB53QgAAwOjGHndCAACAThkfd0IAAEC0ax93QgAAABq+H3dCAADAfxAgd0IAAIDlYiB3QgAAQEu1IHdCAAAAsQchd0IAAMAWWiF3QgAAgHysIXdCAABA4v4hd0IAAABIUSJ3QgAAwK2jIndCAACAE/Yid0IAAEB5SCN3QgAAAN+aI3dCAADARO0jd0IAAICqPyR3QgAAQBCSJHdCAAAAduQkd0IAAMDbNiV3QgAAgEGJJXdCAABAp9sld0IAAAANLiZ3QgAAwHKAJndCAACA2NImd0IAAEA+JSd3QgAAAKR3J3dCAADACcond0IAAIBvHCh3QgAAQNVuKHdCAAAAO8Eod0IAAMCgEyl3QgAAgAZmKXdCAABAbLgpd0IAAADSCip3QgAAwDddKndCAACAna8qd0IAAEADAit3QgAAAGlUK3dCAADAzqYrd0IAAIA0+St3QgAAQJpLLHdCAAAAAJ4sd0IAAMBl8Cx3QgAAgMtCLXdCAABAMZUtd0IAAACX5y13QgAAwPw5LndCAACAYowud0IAAEDI3i53QgAAAC4xL3dCAADAk4Mvd0IAAID51S93QgAAQF8oMHdCAAAAxXowd0IAAMAqzTB3QgAAgJAfMXdCAABA9nExd0IAAABcxDF3QgAAwMEWMndCAACAJ2kyd0I=\",\"dtype\":\"float64\",\"shape\":[121]},\"y\":[56478.01575580371,24583.77912227274,30685.15420726601,46826.59514105012,53329.08700758159,74233.09149450295,87219.86131064052,73027.73630970358,67006.19850587512,69565.84133555055,82774.85701584803,106313.20310471767,142085.23578711355,148049.07947912067,131191.63677368296,121184.83023439659,118656.34219589637,121670.50390297288,126056.67364481365,132205.3849850846,135565.65392889993,134786.44427582872,134521.07871898808,137414.18231022937,142572.83155211608,148841.51245276246,156065.4311300869,161106.08989490973,163925.22306472965,166072.43933577856,170305.34587481103,178897.33718563078,188867.6174918845,203843.22026789814,217070.77896056394,220171.02106567955,221187.8991970876,221517.6819434537,226400.04684802738,232794.07793409855,240131.17995140795,239540.9564782476,229618.50293991837,223751.2540064661,228144.57847383892,235116.51091770307,246422.97525667073,258604.8376873686,258419.75722686347,245503.1550678486,237449.6359037941,233879.287510315,235005.1660143534,235865.82485456162,236741.21876605743,234328.48934527492,230784.96816347417,229640.7293637448,230957.63336201524,231844.9765356494,234049.12234075853,234143.16595075227,233105.14525010553,231137.02262891876,232627.96399807322,234613.10451786793,237387.01319176125,240659.94291903713,243220.109531155,241387.3543733829,238087.60921274056,237117.54579708472,238099.60329364086,239078.28305073266,239641.22938971192,239404.57727575154,238559.76789832977,237906.7451706942,239186.20839485523,239475.5318170175,241194.10367247046,242558.83770657255,243710.25947749708,242415.11928143125,239944.0382130659,239753.00938183177,239275.68860826138,238520.1239621138,239088.67886271284,239421.02457157438,238744.16568075586,238143.47814406638,238573.62316533597,240027.2726336548,244755.79838648348,249781.39043182303,257993.08893654347,270005.00186947174,269427.3286686133,282336.3842731011,468508.6632640779,282427970.1712575,283100.768556297,248328.73275159477,243703.9713623735,242547.56092989797,241519.47842861232]},\"selected\":{\"id\":\"18568\"},\"selection_policy\":{\"id\":\"18569\"}},\"id\":\"18528\",\"type\":\"ColumnDataSource\"},{\"attributes\":{\"months\":[0,1,2,3,4,5,6,7,8,9,10,11]},\"id\":\"18545\",\"type\":\"MonthsTicker\"},{\"attributes\":{\"overlay\":{\"id\":\"18520\"}},\"id\":\"18516\",\"type\":\"BoxZoomTool\"},{\"attributes\":{\"months\":[0,2,4,6,8,10]},\"id\":\"18546\",\"type\":\"MonthsTicker\"},{\"attributes\":{},\"id\":\"18515\",\"type\":\"WheelZoomTool\"},{\"attributes\":{\"months\":[0,4,8]},\"id\":\"18547\",\"type\":\"MonthsTicker\"},{\"attributes\":{},\"id\":\"18569\",\"type\":\"UnionRenderers\"},{\"attributes\":{\"axis\":{\"id\":\"18506\"},\"ticker\":null},\"id\":\"18509\",\"type\":\"Grid\"},{\"attributes\":{\"months\":[0,6]},\"id\":\"18548\",\"type\":\"MonthsTicker\"},{\"attributes\":{},\"id\":\"18549\",\"type\":\"YearsTicker\"},{\"attributes\":{\"line_alpha\":0.1,\"line_color\":\"blue\",\"line_width\":4,\"x\":{\"field\":\"x\"},\"y\":{\"field\":\"y\"}},\"id\":\"18530\",\"type\":\"Line\"},{\"attributes\":{},\"id\":\"18568\",\"type\":\"Selection\"},{\"attributes\":{},\"id\":\"18502\",\"type\":\"LinearScale\"},{\"attributes\":{},\"id\":\"18504\",\"type\":\"LinearScale\"},{\"attributes\":{},\"id\":\"18570\",\"type\":\"Selection\"},{\"attributes\":{},\"id\":\"18571\",\"type\":\"UnionRenderers\"},{\"attributes\":{\"items\":[{\"id\":\"18552\"},{\"id\":\"18585\"},{\"id\":\"18622\"}],\"location\":\"top_left\"},\"id\":\"18551\",\"type\":\"Legend\"},{\"attributes\":{\"data\":{\"x\":{\"__ndarray__\":\"AACAdckLd0IAAEDbGwx3QgAAAEFuDHdCAADApsAMd0IAAIAMEw13QgAAQHJlDXdCAAAA2LcNd0IAAMA9Cg53QgAAgKNcDndCAABACa8Od0IAAABvAQ93QgAAwNRTD3dCAACAOqYPd0IAAECg+A93QgAAAAZLEHdCAADAa50Qd0IAAIDR7xB3QgAAQDdCEXdCAAAAnZQRd0IAAMAC5xF3QgAAgGg5EndCAABAzosSd0IAAAA03hJ3QgAAwJkwE3dCAACA/4ITd0IAAEBl1RN3QgAAAMsnFHdCAADAMHoUd0IAAICWzBR3QgAAQPweFXdCAAAAYnEVd0IAAMDHwxV3QgAAgC0WFndCAABAk2gWd0IAAAD5uhZ3QgAAwF4NF3dCAACAxF8Xd0IAAEAqshd3QgAAAJAEGHdCAADA9VYYd0IAAIBbqRh3QgAAQMH7GHdCAAAAJ04Zd0IAAMCMoBl3QgAAgPLyGXdCAABAWEUad0IAAAC+lxp3QgAAwCPqGndCAACAiTwbd0IAAEDvjht3QgAAAFXhG3dCAADAujMcd0IAAIAghhx3QgAAQIbYHHdCAAAA7Codd0IAAMBRfR13QgAAgLfPHXdCAABAHSIed0IAAACDdB53QgAAwOjGHndCAACAThkfd0IAAEC0ax93QgAAABq+H3dCAADAfxAgd0IAAIDlYiB3QgAAQEu1IHdCAAAAsQchd0IAAMAWWiF3QgAAgHysIXdCAABA4v4hd0IAAABIUSJ3QgAAwK2jIndCAACAE/Yid0IAAEB5SCN3QgAAAN+aI3dCAADARO0jd0IAAICqPyR3QgAAQBCSJHdCAAAAduQkd0IAAMDbNiV3QgAAgEGJJXdCAABAp9sld0IAAAANLiZ3QgAAwHKAJndCAACA2NImd0IAAEA+JSd3QgAAAKR3J3dCAADACcond0IAAIBvHCh3QgAAQNVuKHdCAAAAO8Eod0IAAMCgEyl3QgAAgAZmKXdCAABAbLgpd0IAAADSCip3QgAAwDddKndCAACAna8qd0IAAEADAit3QgAAAGlUK3dCAADAzqYrd0IAAIA0+St3QgAAQJpLLHdCAAAAAJ4sd0IAAMBl8Cx3QgAAgMtCLXdCAABAMZUtd0IAAACX5y13QgAAwPw5LndCAACAYowud0IAAEDI3i53QgAAAC4xL3dCAADAk4Mvd0IAAID51S93QgAAQF8oMHdCAAAAxXowd0IAAMAqzTB3QgAAgJAfMXdCAABA9nExd0IAAABcxDF3QgAAwMEWMndCAACAJ2kyd0I=\",\"dtype\":\"float64\",\"shape\":[121]},\"y\":[86912.05969910315,29083.90755584394,36023.732632084946,57743.26287129921,63228.58826880139,89917.54847679034,102396.39302686279,80763.09269653645,71753.2877547804,73429.41264461084,89135.00312663842,118537.04291285387,163391.79163957646,165143.43239880056,142128.9818930372,128571.40026767501,124247.01938846224,126581.715475767,130810.33178672902,137227.5365771877,140304.64949130217,138647.55171121034,137802.83066331755,140520.55474423835,145560.88279340838,151756.81804351133,159416.1215550685,165056.46168276644,167981.71188413462,169985.31366469234,174295.35804262952,183101.13047422701,193403.0916702229,210559.41582082008,226655.16773380945,229886.5162064032,230541.77515449267,230384.35728934366,235506.98153436702,242579.67276349175,251058.81482722826,249727.68450186917,236575.96539834217,228646.1429084767,233877.2944997811,241826.83856026072,254945.30576238886,267341.9930352748,266888.88523228845,251543.1532155206,241544.8638314928,237040.29314820794,238152.88508643635,239044.88801111336,239991.18101821854,236929.68275297133,232421.0235671601,231205.72879202297,232480.0016904601,233447.08838449325,235824.7046495138,235896.44895543437,234673.50156234615,232301.12664736455,234108.21536435926,236405.36461583653,239654.87716593768,243225.91486263,246103.4440163067,243823.15476510115,239900.38499526642,238660.49276871546,239771.74080746033,240901.70343590208,241582.4850499263,241205.54476872465,239979.10455031905,239188.3816479829,240431.01579317087,240768.9675063767,242882.88949842518,244686.6980636507,246197.54500767353,244388.09174615983,241234.7127584967,241038.46201731754,240456.95303457294,239562.20268401311,240325.06766595264,240773.74054827934,239767.67396637352,238838.9893511917,239414.74175960186,241288.52320958552,248050.60936641356,255833.03572905273,272015.4725713216,303408.7434192736,300636.5283302833,341306.61848396214,1928068.8767297177,1751692546987.5315,381110.70476775046,255274.40397637626,246048.0225723501,244053.21055435832,242429.1713083168]},\"selected\":{\"id\":\"18607\"},\"selection_policy\":{\"id\":\"18608\"}},\"id\":\"18586\",\"type\":\"ColumnDataSource\"},{\"attributes\":{},\"id\":\"18517\",\"type\":\"SaveTool\"},{\"attributes\":{},\"id\":\"19156\",\"type\":\"UnionRenderers\"},{\"attributes\":{\"data_source\":{\"id\":\"18586\"},\"glyph\":{\"id\":\"18587\"},\"hover_glyph\":null,\"muted_glyph\":null,\"nonselection_glyph\":{\"id\":\"18588\"},\"selection_glyph\":null,\"view\":{\"id\":\"18590\"}},\"id\":\"18589\",\"type\":\"GlyphRenderer\"},{\"attributes\":{\"line_color\":\"lightcoral\",\"line_width\":4,\"x\":{\"field\":\"x\"},\"y\":{\"field\":\"y\"}},\"id\":\"18559\",\"type\":\"Line\"},{\"attributes\":{\"source\":{\"id\":\"18553\"}},\"id\":\"18557\",\"type\":\"CDSView\"},{\"attributes\":{},\"id\":\"18519\",\"type\":\"HelpTool\"},{\"attributes\":{\"fill_alpha\":{\"value\":0.1},\"fill_color\":{\"value\":\"white\"},\"line_alpha\":{\"value\":0.1},\"line_color\":{\"value\":\"lightcoral\"},\"size\":{\"units\":\"screen\",\"value\":5},\"x\":{\"field\":\"x\"},\"y\":{\"field\":\"y\"}},\"id\":\"18588\",\"type\":\"Circle\"},{\"attributes\":{\"num_minor_ticks\":5,\"tickers\":[{\"id\":\"18538\"},{\"id\":\"18539\"},{\"id\":\"18540\"},{\"id\":\"18541\"},{\"id\":\"18542\"},{\"id\":\"18543\"},{\"id\":\"18544\"},{\"id\":\"18545\"},{\"id\":\"18546\"},{\"id\":\"18547\"},{\"id\":\"18548\"},{\"id\":\"18549\"}]},\"id\":\"18507\",\"type\":\"DatetimeTicker\"},{\"attributes\":{\"data\":{\"x\":{\"__ndarray__\":\"AACAdckLd0IAAEDbGwx3QgAAAEFuDHdCAADApsAMd0IAAIAMEw13QgAAQHJlDXdCAAAA2LcNd0IAAMA9Cg53QgAAgKNcDndCAABACa8Od0IAAABvAQ93QgAAwNRTD3dCAACAOqYPd0IAAECg+A93QgAAAAZLEHdCAADAa50Qd0IAAIDR7xB3QgAAQDdCEXdCAAAAnZQRd0IAAMAC5xF3QgAAgGg5EndCAABAzosSd0IAAAA03hJ3QgAAwJkwE3dCAACA/4ITd0IAAEBl1RN3QgAAAMsnFHdCAADAMHoUd0IAAICWzBR3QgAAQPweFXdCAAAAYnEVd0IAAMDHwxV3QgAAgC0WFndCAABAk2gWd0IAAAD5uhZ3QgAAwF4NF3dCAACAxF8Xd0IAAEAqshd3QgAAAJAEGHdCAADA9VYYd0IAAIBbqRh3QgAAQMH7GHdCAAAAJ04Zd0IAAMCMoBl3QgAAgPLyGXdCAABAWEUad0IAAAC+lxp3QgAAwCPqGndCAACAiTwbd0IAAEDvjht3QgAAAFXhG3dCAADAujMcd0IAAIAghhx3QgAAQIbYHHdCAAAA7Codd0IAAMBRfR13QgAAgLfPHXdCAABAHSIed0IAAACDdB53QgAAwOjGHndCAACAThkfd0IAAEC0ax93QgAAABq+H3dCAADAfxAgd0IAAIDlYiB3QgAAQEu1IHdCAAAAsQchd0IAAMAWWiF3QgAAgHysIXdCAABA4v4hd0IAAABIUSJ3QgAAwK2jIndCAACAE/Yid0IAAEB5SCN3QgAAAN+aI3dCAADARO0jd0IAAICqPyR3QgAAQBCSJHdCAAAAduQkd0IAAMDbNiV3QgAAgEGJJXdCAABAp9sld0IAAAANLiZ3QgAAwHKAJndCAACA2NImd0IAAEA+JSd3QgAAAKR3J3dCAADACcond0IAAIBvHCh3QgAAQNVuKHdCAAAAO8Eod0IAAMCgEyl3QgAAgAZmKXdCAABAbLgpd0IAAADSCip3QgAAwDddKndCAACAna8qd0IAAEADAit3QgAAAGlUK3dCAADAzqYrd0IAAIA0+St3QgAAQJpLLHdCAAAAAJ4sd0IAAMBl8Cx3QgAAgMtCLXdCAABAMZUtd0IAAACX5y13QgAAwPw5LndCAACAYowud0IAAEDI3i53QgAAAC4xL3dCAADAk4Mvd0IAAID51S93QgAAQF8oMHdCAAAAxXowd0IAAMAqzTB3QgAAgJAfMXdCAABA9nExd0IAAABcxDF3QgAAwMEWMndCAACAJ2kyd0I=\",\"dtype\":\"float64\",\"shape\":[121]},\"y\":[26043.971812504264,20083.65068870154,25346.57578244707,35909.927410801036,43429.585746361794,58548.634512215554,72043.32959441826,65292.379922870714,62259.10925696984,65702.27002649025,76414.71090505764,94089.36329658148,120778.67993465065,130954.72655944078,120254.2916543287,113798.26020111817,113065.6650033305,116759.29233017875,121303.01550289828,127183.23339298148,130826.6583664977,130925.33684044708,131239.3267746586,134307.8098762204,139584.7803108238,145926.20686201358,152714.74070510527,157155.71810705302,159868.73424532468,162159.56500686478,166315.33370699253,174693.54389703454,184332.1433135461,197127.0247149762,207486.39018731844,210455.5259249559,211834.02323968252,212651.00659756374,217293.11216168775,223008.48310470534,229203.54507558764,229354.22845462602,222661.04048149457,218856.3651044555,222411.86244789674,228406.18327514542,237900.6447509526,249867.68233946236,249950.62922143852,239463.15692017658,233354.40797609536,230718.28187242209,231857.44694227044,232686.76169800988,233491.2565138963,231727.2959375785,229148.91275978825,228075.7299354666,229435.26503357038,230242.86468680552,232273.54003200328,232389.88294607017,231536.7889378649,229972.91861047296,231147.71263178717,232820.84441989934,235119.1492175848,238093.97097544427,240336.7750460033,238951.55398166465,236274.8334302147,235574.59882545398,236427.4657798214,237254.86266556324,237699.97372949755,237603.60978277843,237140.43124634048,236625.1086934055,237941.4009965396,238182.0961276583,239505.31784651574,240430.9773494944,241222.97394732063,240442.14681670268,238653.36366763513,238467.556746346,238094.4241819498,237478.0452402145,237852.29005947305,238068.30859486942,237720.6573951382,237447.96693694105,237732.50457107008,238766.02205772407,241460.9874065534,243729.74513459334,243970.70530176538,236601.2603196699,238218.1290069433,223366.1500622401,-991051.550201562,-1751127691047.1892,185090.83234484354,241383.06152681328,241359.9201523969,241041.91130543762,240609.78554890782]},\"selected\":{\"id\":\"19153\"},\"selection_policy\":{\"id\":\"19154\"}},\"id\":\"18591\",\"type\":\"ColumnDataSource\"},{\"attributes\":{},\"id\":\"18518\",\"type\":\"ResetTool\"},{\"attributes\":{\"line_color\":\"lightblue\",\"line_width\":4,\"x\":{\"field\":\"x\"},\"y\":{\"field\":\"y\"}},\"id\":\"18592\",\"type\":\"Line\"},{\"attributes\":{\"fill_color\":{\"value\":\"white\"},\"line_color\":{\"value\":\"lightblue\"},\"size\":{\"units\":\"screen\",\"value\":5},\"x\":{\"field\":\"x\"},\"y\":{\"field\":\"y\"}},\"id\":\"18624\",\"type\":\"Circle\"},{\"attributes\":{\"source\":{\"id\":\"18586\"}},\"id\":\"18590\",\"type\":\"CDSView\"},{\"attributes\":{\"data_source\":{\"id\":\"18553\"},\"glyph\":{\"id\":\"18554\"},\"hover_glyph\":null,\"muted_glyph\":null,\"nonselection_glyph\":{\"id\":\"18555\"},\"selection_glyph\":null,\"view\":{\"id\":\"18557\"}},\"id\":\"18556\",\"type\":\"GlyphRenderer\"},{\"attributes\":{\"bottom_units\":\"screen\",\"fill_alpha\":0.5,\"fill_color\":\"lightgrey\",\"left_units\":\"screen\",\"level\":\"overlay\",\"line_alpha\":1.0,\"line_color\":\"black\",\"line_dash\":[4,4],\"line_width\":2,\"render_mode\":\"css\",\"right_units\":\"screen\",\"top_units\":\"screen\"},\"id\":\"18520\",\"type\":\"BoxAnnotation\"},{\"attributes\":{},\"id\":\"19155\",\"type\":\"Selection\"},{\"attributes\":{\"source\":{\"id\":\"18528\"}},\"id\":\"18532\",\"type\":\"CDSView\"},{\"attributes\":{\"fill_alpha\":{\"value\":0.1},\"fill_color\":{\"value\":\"white\"},\"line_alpha\":{\"value\":0.1},\"line_color\":{\"value\":\"blue\"},\"size\":{\"units\":\"screen\",\"value\":5},\"x\":{\"field\":\"x\"},\"y\":{\"field\":\"y\"}},\"id\":\"18555\",\"type\":\"Circle\"},{\"attributes\":{},\"id\":\"18605\",\"type\":\"Selection\"},{\"attributes\":{\"text\":\"Total Cases MAX: Italy\"},\"id\":\"18496\",\"type\":\"Title\"},{\"attributes\":{\"data_source\":{\"id\":\"18591\"},\"glyph\":{\"id\":\"18592\"},\"hover_glyph\":null,\"muted_glyph\":null,\"nonselection_glyph\":{\"id\":\"18593\"},\"selection_glyph\":null,\"view\":{\"id\":\"18595\"}},\"id\":\"18594\",\"type\":\"GlyphRenderer\"},{\"attributes\":{\"label\":{\"value\":\"total cases max\"},\"renderers\":[{\"id\":\"18531\"}]},\"id\":\"18552\",\"type\":\"LegendItem\"},{\"attributes\":{},\"id\":\"18606\",\"type\":\"UnionRenderers\"},{\"attributes\":{\"data\":{\"x\":{\"__ndarray__\":\"AACAdckLd0IAAEDbGwx3QgAAAEFuDHdCAADApsAMd0IAAIAMEw13QgAAQHJlDXdCAAAA2LcNd0IAAMA9Cg53QgAAgKNcDndCAABACa8Od0IAAABvAQ93QgAAwNRTD3dCAACAOqYPd0IAAECg+A93QgAAAAZLEHdCAADAa50Qd0IAAIDR7xB3QgAAQDdCEXdCAAAAnZQRd0IAAMAC5xF3QgAAgGg5EndCAABAzosSd0IAAAA03hJ3QgAAwJkwE3dCAACA/4ITd0IAAEBl1RN3QgAAAMsnFHdCAADAMHoUd0IAAICWzBR3QgAAQPweFXdCAAAAYnEVd0IAAMDHwxV3QgAAgC0WFndCAABAk2gWd0IAAAD5uhZ3QgAAwF4NF3dCAACAxF8Xd0IAAEAqshd3QgAAAJAEGHdCAADA9VYYd0IAAIBbqRh3QgAAQMH7GHdCAAAAJ04Zd0IAAMCMoBl3QgAAgPLyGXdCAABAWEUad0IAAAC+lxp3QgAAwCPqGndCAACAiTwbd0IAAEDvjht3QgAAAFXhG3dCAADAujMcd0IAAIAghhx3QgAAQIbYHHdCAAAA7Codd0IAAMBRfR13QgAAgLfPHXdCAABAHSIed0IAAACDdB53QgAAwOjGHndCAACAThkfd0IAAEC0ax93QgAAABq+H3dCAADAfxAgd0IAAIDlYiB3QgAAQEu1IHdCAAAAsQchd0IAAMAWWiF3QgAAgHysIXdCAABA4v4hd0IAAABIUSJ3QgAAwK2jIndCAACAE/Yid0IAAEB5SCN3QgAAAN+aI3dCAADARO0jd0IAAICqPyR3QgAAQBCSJHdCAAAAduQkd0IAAMDbNiV3QgAAgEGJJXdCAABAp9sld0IAAAANLiZ3QgAAwHKAJndCAACA2NImd0IAAEA+JSd3QgAAAKR3J3dCAADACcond0IAAIBvHCh3QgAAQNVuKHdCAAAAO8Eod0IAAMCgEyl3QgAAgAZmKXdCAABAbLgpd0IAAADSCip3QgAAwDddKndCAACAna8qd0IAAEADAit3QgAAAGlUK3dCAADAzqYrd0IAAIA0+St3QgAAQJpLLHdCAAAAAJ4sd0IAAMBl8Cx3QgAAgMtCLXdCAABAMZUtd0IAAACX5y13QgAAwPw5LndCAACAYowud0IAAEDI3i53QgAAAC4xL3dCAADAk4Mvd0IAAID51S93QgAAQF8oMHdCAAAAxXowd0IAAMAqzTB3QgAAgJAfMXdCAABA9nExd0IAAABcxDF3QgAAwMEWMndCAACAJ2kyd0I=\",\"dtype\":\"float64\",\"shape\":[121]},\"y\":[56478.01575580371,24583.77912227274,30685.15420726601,46826.59514105012,53329.08700758159,74233.09149450295,87219.86131064052,73027.73630970358,67006.19850587512,69565.84133555055,82774.85701584803,106313.20310471767,142085.23578711355,148049.07947912067,131191.63677368296,121184.83023439659,118656.34219589637,121670.50390297288,126056.67364481365,132205.3849850846,135565.65392889993,134786.44427582872,134521.07871898808,137414.18231022937,142572.83155211608,148841.51245276246,156065.4311300869,161106.08989490973,163925.22306472965,166072.43933577856,170305.34587481103,178897.33718563078,188867.6174918845,203843.22026789814,217070.77896056394,220171.02106567955,221187.8991970876,221517.6819434537,226400.04684802738,232794.07793409855,240131.17995140795,239540.9564782476,229618.50293991837,223751.2540064661,228144.57847383892,235116.51091770307,246422.97525667073,258604.8376873686,258419.75722686347,245503.1550678486,237449.6359037941,233879.287510315,235005.1660143534,235865.82485456162,236741.21876605743,234328.48934527492,230784.96816347417,229640.7293637448,230957.63336201524,231844.9765356494,234049.12234075853,234143.16595075227,233105.14525010553,231137.02262891876,232627.96399807322,234613.10451786793,237387.01319176125,240659.94291903713,243220.109531155,241387.3543733829,238087.60921274056,237117.54579708472,238099.60329364086,239078.28305073266,239641.22938971192,239404.57727575154,238559.76789832977,237906.7451706942,239186.20839485523,239475.5318170175,241194.10367247046,242558.83770657255,243710.25947749708,242415.11928143125,239944.0382130659,239753.00938183177,239275.68860826138,238520.1239621138,239088.67886271284,239421.02457157438,238744.16568075586,238143.47814406638,238573.62316533597,240027.2726336548,244755.79838648348,249781.39043182303,257993.08893654347,270005.00186947174,269427.3286686133,282336.3842731011,468508.6632640779,282427970.1712575,283100.768556297,248328.73275159477,243703.9713623735,242547.56092989797,241519.47842861232]},\"selected\":{\"id\":\"18570\"},\"selection_policy\":{\"id\":\"18571\"}},\"id\":\"18553\",\"type\":\"ColumnDataSource\"},{\"attributes\":{\"label\":{\"value\":\"total cases max DOWN\"},\"renderers\":[{\"id\":\"18594\"}]},\"id\":\"18622\",\"type\":\"LegendItem\"},{\"attributes\":{\"source\":{\"id\":\"18591\"}},\"id\":\"18595\",\"type\":\"CDSView\"},{\"attributes\":{\"line_color\":\"blue\",\"line_width\":4,\"x\":{\"field\":\"x\"},\"y\":{\"field\":\"y\"}},\"id\":\"18529\",\"type\":\"Line\"},{\"attributes\":{\"line_alpha\":0.1,\"line_color\":\"lightblue\",\"line_width\":4,\"x\":{\"field\":\"x\"},\"y\":{\"field\":\"y\"}},\"id\":\"18593\",\"type\":\"Line\"},{\"attributes\":{},\"id\":\"18607\",\"type\":\"Selection\"}],\"root_ids\":[\"18495\"]},\"title\":\"Bokeh Application\",\"version\":\"2.0.2\"}};\n",
       "  var render_items = [{\"docid\":\"690b6345-d45f-45d1-99d3-685d764eeb60\",\"root_ids\":[\"18495\"],\"roots\":{\"18495\":\"d59f4535-7670-4bef-af70-3e1f45d36f2e\"}}];\n",
       "  root.Bokeh.embed.embed_items_notebook(docs_json, render_items);\n",
       "\n",
       "  }\n",
       "  if (root.Bokeh !== undefined) {\n",
       "    embed_document(root);\n",
       "  } else {\n",
       "    var attempts = 0;\n",
       "    var timer = setInterval(function(root) {\n",
       "      if (root.Bokeh !== undefined) {\n",
       "        clearInterval(timer);\n",
       "        embed_document(root);\n",
       "      } else {\n",
       "        attempts++;\n",
       "        if (attempts > 100) {\n",
       "          clearInterval(timer);\n",
       "          console.log(\"Bokeh: ERROR: Unable to run BokehJS code because BokehJS library is missing\");\n",
       "        }\n",
       "      }\n",
       "    }, 10, root)\n",
       "  }\n",
       "})(window);"
      ],
      "application/vnd.bokehjs_exec.v0+json": ""
     },
     "metadata": {
      "application/vnd.bokehjs_exec.v0+json": {
       "id": "18495"
      }
     },
     "output_type": "display_data"
    }
   ],
   "source": [
    "p_new_positive_MAX_2_Italy = bokeh_plot_N_lines(x=time_date_new + 14, y_list=[max_population,max_population_up,max_population_down], \n",
    "                  title='Total Cases MAX: Italy', \n",
    "                  dim=[600, 450], \n",
    "                  x_label='Date', \n",
    "                  y_label='Total Cases MAX', legend_list=['total cases max','total cases max UP','total cases max DOWN'],\n",
    "                  x_label_hover='date', y_label_hover='total cases max/UP/DOWN',\n",
    "                  color_list=['blue','lightcoral','lightblue'],legend_location=\"top_left\", y_minmax=(0,300000))\n",
    "\n",
    "output_file(\"total_cases_MAX_2_Italy.html\")\n",
    "\n",
    "show(p_new_positive_MAX_2_Italy)"
   ]
  },
  {
   "cell_type": "markdown",
   "metadata": {},
   "source": [
    "---------------\n",
    "\n",
    "---------------\n",
    "\n",
    "---------------"
   ]
  },
  {
   "cell_type": "code",
   "execution_count": 87,
   "metadata": {},
   "outputs": [
    {
     "name": "stderr",
     "output_type": "stream",
     "text": [
      "/Users/Angelo/opt/anaconda3/lib/python3.7/site-packages/ipykernel_launcher.py:8: RuntimeWarning: overflow encountered in exp\n",
      "  \n"
     ]
    }
   ],
   "source": [
    "fit_range_3 = len(deceduti_italy) - 15\n",
    "fit_range_4 = len(deceduti_italy)\n",
    "xdata_3 = np.linspace(fit_range_3, fit_range_4, fit_range_4 - fit_range_3)\n",
    "init_guess = [80000,0.001,0.001]\n",
    "fit = curve_fit(model_population, xdata_3, deceduti_italy.loc[fit_range_3:(fit_range_4-1)], p0=init_guess)"
   ]
  },
  {
   "cell_type": "code",
   "execution_count": 88,
   "metadata": {},
   "outputs": [
    {
     "data": {
      "text/plain": [
       "(35258.455485397484, 0.05161850233239738, 3726.3449045095167)"
      ]
     },
     "execution_count": 88,
     "metadata": {},
     "output_type": "execute_result"
    }
   ],
   "source": [
    "ans, cov = fit\n",
    "fit_K, fit_r, fit_P_0 = ans\n",
    "fit_K, fit_r, fit_P_0"
   ]
  },
  {
   "cell_type": "code",
   "execution_count": 89,
   "metadata": {},
   "outputs": [
    {
     "data": {
      "text/plain": [
       "array([[ 2.51927960e+04, -1.48700858e+00,  4.61583042e+05],\n",
       "       [-1.48700858e+00,  8.88026454e-05, -2.76283316e+01],\n",
       "       [ 4.61583042e+05, -2.76283316e+01,  8.59976957e+06]])"
      ]
     },
     "execution_count": 89,
     "metadata": {},
     "output_type": "execute_result"
    }
   ],
   "source": [
    "cov"
   ]
  },
  {
   "cell_type": "code",
   "execution_count": 90,
   "metadata": {},
   "outputs": [
    {
     "data": {
      "text/plain": [
       "array([1.58722387e+02, 9.42351555e-03, 2.93253637e+03])"
      ]
     },
     "execution_count": 90,
     "metadata": {},
     "output_type": "execute_result"
    }
   ],
   "source": [
    "np.sqrt(np.diag(cov))"
   ]
  },
  {
   "cell_type": "code",
   "execution_count": 91,
   "metadata": {},
   "outputs": [
    {
     "data": {
      "text/plain": [
       "array([34047.07400856, 34110.12842707, 34170.00568328, 34226.85518256,\n",
       "       34280.8203973 , 34332.03898737, 34380.64293187, 34426.75867   ,\n",
       "       34470.50724934, 34512.00447989, 34551.36109227, 34588.68289906,\n",
       "       34624.07095775, 34657.62173467, 34689.42726869])"
      ]
     },
     "execution_count": 91,
     "metadata": {},
     "output_type": "execute_result"
    }
   ],
   "source": [
    "ydata_3 = fit_K / ( 1 + ((fit_K - fit_P_0) / fit_P_0) * np.exp(- fit_r * xdata_3))\n",
    "ydata_3"
   ]
  },
  {
   "cell_type": "code",
   "execution_count": 92,
   "metadata": {},
   "outputs": [
    {
     "data": {
      "text/html": [
       "\n",
       "\n",
       "\n",
       "\n",
       "\n",
       "\n",
       "  <div class=\"bk-root\" id=\"1a1bb7eb-58b6-410e-8b51-cde35b81ce31\" data-root-id=\"19703\"></div>\n"
      ]
     },
     "metadata": {},
     "output_type": "display_data"
    },
    {
     "data": {
      "application/javascript": [
       "(function(root) {\n",
       "  function embed_document(root) {\n",
       "    \n",
       "  var docs_json = {\"50d1e82b-728d-4fb8-94ca-607efb26b28d\":{\"roots\":{\"references\":[{\"attributes\":{\"below\":[{\"id\":\"19714\"}],\"center\":[{\"id\":\"19717\"},{\"id\":\"19721\"},{\"id\":\"19759\"}],\"left\":[{\"id\":\"19718\"}],\"plot_height\":450,\"renderers\":[{\"id\":\"19739\"},{\"id\":\"19764\"},{\"id\":\"19769\"},{\"id\":\"19797\"}],\"title\":{\"id\":\"19704\"},\"toolbar\":{\"id\":\"19729\"},\"x_range\":{\"id\":\"19706\"},\"x_scale\":{\"id\":\"19710\"},\"y_range\":{\"id\":\"19708\"},\"y_scale\":{\"id\":\"19712\"}},\"id\":\"19703\",\"subtype\":\"Figure\",\"type\":\"Plot\"},{\"attributes\":{\"source\":{\"id\":\"19794\"}},\"id\":\"19798\",\"type\":\"CDSView\"},{\"attributes\":{},\"id\":\"19708\",\"type\":\"DataRange1d\"},{\"attributes\":{\"data\":{\"x\":{\"__ndarray__\":\"AACABmYpd0IAAEBsuCl3QgAAANIKKndCAADAN10qd0IAAICdryp3QgAAQAMCK3dCAAAAaVQrd0IAAMDOpit3QgAAgDT5K3dCAABAmkssd0IAAAAAnix3QgAAwGXwLHdCAACAy0Itd0IAAEAxlS13QgAAAJfnLXdC\",\"dtype\":\"float64\",\"shape\":[15]},\"y\":{\"__ndarray__\":\"jTJHXuKf4EDaFhMcxKfgQCazji5Ar+BAVtGnXVu24EDZ1bFAGr3gQDpyYj+Bw+BAo9zlkpTJ4EDxTgZHWM/gQGr6YjvQ1OBABAGzJADa4EBIYhGO697gQFMgT9qV4+BAejFJRQLo4ECPHEDlM+zgQJhhL6wt8OBA\",\"dtype\":\"float64\",\"shape\":[15]}},\"selected\":{\"id\":\"20351\"},\"selection_policy\":{\"id\":\"20352\"}},\"id\":\"19794\",\"type\":\"ColumnDataSource\"},{\"attributes\":{\"source\":{\"id\":\"19766\"}},\"id\":\"19770\",\"type\":\"CDSView\"},{\"attributes\":{},\"id\":\"19726\",\"type\":\"ResetTool\"},{\"attributes\":{\"label\":{\"value\":\"logistic fitting\"},\"renderers\":[{\"id\":\"19769\"}]},\"id\":\"19793\",\"type\":\"LegendItem\"},{\"attributes\":{},\"id\":\"19757\",\"type\":\"YearsTicker\"},{\"attributes\":{},\"id\":\"19712\",\"type\":\"LinearScale\"},{\"attributes\":{\"items\":[{\"id\":\"19760\"},{\"id\":\"19793\"}],\"location\":\"top_left\"},\"id\":\"19759\",\"type\":\"Legend\"},{\"attributes\":{},\"id\":\"19719\",\"type\":\"BasicTicker\"},{\"attributes\":{},\"id\":\"19727\",\"type\":\"HelpTool\"},{\"attributes\":{\"days\":[1,2,3,4,5,6,7,8,9,10,11,12,13,14,15,16,17,18,19,20,21,22,23,24,25,26,27,28,29,30,31]},\"id\":\"19749\",\"type\":\"DaysTicker\"},{\"attributes\":{\"line_color\":\"violet\",\"line_width\":4,\"x\":{\"field\":\"x\"},\"y\":{\"field\":\"y\"}},\"id\":\"19767\",\"type\":\"Line\"},{\"attributes\":{\"days\":[1,4,7,10,13,16,19,22,25,28]},\"id\":\"19750\",\"type\":\"DaysTicker\"},{\"attributes\":{},\"id\":\"19779\",\"type\":\"UnionRenderers\"},{\"attributes\":{\"num_minor_ticks\":5,\"tickers\":[{\"id\":\"19746\"},{\"id\":\"19747\"},{\"id\":\"19748\"},{\"id\":\"19749\"},{\"id\":\"19750\"},{\"id\":\"19751\"},{\"id\":\"19752\"},{\"id\":\"19753\"},{\"id\":\"19754\"},{\"id\":\"19755\"},{\"id\":\"19756\"},{\"id\":\"19757\"}]},\"id\":\"19715\",\"type\":\"DatetimeTicker\"},{\"attributes\":{},\"id\":\"19803\",\"type\":\"NumeralTickFormatter\"},{\"attributes\":{\"axis\":{\"id\":\"19714\"},\"ticker\":null},\"id\":\"19717\",\"type\":\"Grid\"},{\"attributes\":{\"axis_label\":\"Date\",\"formatter\":{\"id\":\"19799\"},\"major_label_orientation\":0.7853981633974483,\"minor_tick_in\":-5,\"minor_tick_out\":-3,\"ticker\":{\"id\":\"19715\"}},\"id\":\"19714\",\"type\":\"DatetimeAxis\"},{\"attributes\":{},\"id\":\"19777\",\"type\":\"UnionRenderers\"},{\"attributes\":{},\"id\":\"19778\",\"type\":\"Selection\"},{\"attributes\":{\"months\":[0,4,8]},\"id\":\"19755\",\"type\":\"MonthsTicker\"},{\"attributes\":{\"axis\":{\"id\":\"19718\"},\"dimension\":1,\"ticker\":null},\"id\":\"19721\",\"type\":\"Grid\"},{\"attributes\":{\"days\":[1,15]},\"id\":\"19752\",\"type\":\"DaysTicker\"},{\"attributes\":{\"axis_label\":\"Total Deaths\",\"formatter\":{\"id\":\"19803\"},\"minor_tick_in\":-5,\"minor_tick_out\":-3,\"ticker\":{\"id\":\"19719\"}},\"id\":\"19718\",\"type\":\"LinearAxis\"},{\"attributes\":{\"mantissas\":[1,2,5],\"max_interval\":500.0,\"num_minor_ticks\":0},\"id\":\"19746\",\"type\":\"AdaptiveTicker\"},{\"attributes\":{\"data_source\":{\"id\":\"19766\"},\"glyph\":{\"id\":\"19767\"},\"hover_glyph\":null,\"muted_glyph\":null,\"nonselection_glyph\":{\"id\":\"19768\"},\"selection_glyph\":null,\"view\":{\"id\":\"19770\"}},\"id\":\"19769\",\"type\":\"GlyphRenderer\"},{\"attributes\":{\"data\":{\"x\":{\"__ndarray__\":\"AACABmYpd0IAAEBsuCl3QgAAANIKKndCAADAN10qd0IAAICdryp3QgAAQAMCK3dCAAAAaVQrd0IAAMDOpit3QgAAgDT5K3dCAABAmkssd0IAAAAAnix3QgAAwGXwLHdCAACAy0Itd0IAAEAxlS13QgAAAJfnLXdC\",\"dtype\":\"float64\",\"shape\":[15]},\"y\":[34043,34114,34167,34223,34301,34345,34371,34405,34448,34514,34561,34610,34634,34657,34675]},\"selected\":{\"id\":\"19778\"},\"selection_policy\":{\"id\":\"19779\"}},\"id\":\"19761\",\"type\":\"ColumnDataSource\"},{\"attributes\":{},\"id\":\"20350\",\"type\":\"UnionRenderers\"},{\"attributes\":{\"data_source\":{\"id\":\"19794\"},\"glyph\":{\"id\":\"19795\"},\"hover_glyph\":null,\"muted_glyph\":null,\"nonselection_glyph\":{\"id\":\"19796\"},\"selection_glyph\":null,\"view\":{\"id\":\"19798\"}},\"id\":\"19797\",\"type\":\"GlyphRenderer\"},{\"attributes\":{\"data\":{\"x\":{\"__ndarray__\":\"AACABmYpd0IAAEBsuCl3QgAAANIKKndCAADAN10qd0IAAICdryp3QgAAQAMCK3dCAAAAaVQrd0IAAMDOpit3QgAAgDT5K3dCAABAmkssd0IAAAAAnix3QgAAwGXwLHdCAACAy0Itd0IAAEAxlS13QgAAAJfnLXdC\",\"dtype\":\"float64\",\"shape\":[15]},\"y\":[34043,34114,34167,34223,34301,34345,34371,34405,34448,34514,34561,34610,34634,34657,34675]},\"selected\":{\"id\":\"19776\"},\"selection_policy\":{\"id\":\"19777\"}},\"id\":\"19736\",\"type\":\"ColumnDataSource\"},{\"attributes\":{\"months\":[0,6]},\"id\":\"19756\",\"type\":\"MonthsTicker\"},{\"attributes\":{},\"id\":\"19725\",\"type\":\"SaveTool\"},{\"attributes\":{\"data_source\":{\"id\":\"19736\"},\"glyph\":{\"id\":\"19737\"},\"hover_glyph\":null,\"muted_glyph\":null,\"nonselection_glyph\":{\"id\":\"19738\"},\"selection_glyph\":null,\"view\":{\"id\":\"19740\"}},\"id\":\"19739\",\"type\":\"GlyphRenderer\"},{\"attributes\":{},\"id\":\"20351\",\"type\":\"Selection\"},{\"attributes\":{\"days\":[1,8,15,22]},\"id\":\"19751\",\"type\":\"DaysTicker\"},{\"attributes\":{\"source\":{\"id\":\"19736\"}},\"id\":\"19740\",\"type\":\"CDSView\"},{\"attributes\":{\"bottom_units\":\"screen\",\"fill_alpha\":0.5,\"fill_color\":\"lightgrey\",\"left_units\":\"screen\",\"level\":\"overlay\",\"line_alpha\":1.0,\"line_color\":\"black\",\"line_dash\":[4,4],\"line_width\":2,\"render_mode\":\"css\",\"right_units\":\"screen\",\"top_units\":\"screen\"},\"id\":\"19728\",\"type\":\"BoxAnnotation\"},{\"attributes\":{\"line_color\":\"darkviolet\",\"line_width\":4,\"x\":{\"field\":\"x\"},\"y\":{\"field\":\"y\"}},\"id\":\"19737\",\"type\":\"Line\"},{\"attributes\":{\"data\":{\"x\":{\"__ndarray__\":\"AACABmYpd0IAAEBsuCl3QgAAANIKKndCAADAN10qd0IAAICdryp3QgAAQAMCK3dCAAAAaVQrd0IAAMDOpit3QgAAgDT5K3dCAABAmkssd0IAAAAAnix3QgAAwGXwLHdCAACAy0Itd0IAAEAxlS13QgAAAJfnLXdC\",\"dtype\":\"float64\",\"shape\":[15]},\"y\":{\"__ndarray__\":\"jTJHXuKf4EDaFhMcxKfgQCazji5Ar+BAVtGnXVu24EDZ1bFAGr3gQDpyYj+Bw+BAo9zlkpTJ4EDxTgZHWM/gQGr6YjvQ1OBABAGzJADa4EBIYhGO697gQFMgT9qV4+BAejFJRQLo4ECPHEDlM+zgQJhhL6wt8OBA\",\"dtype\":\"float64\",\"shape\":[15]}},\"selected\":{\"id\":\"20349\"},\"selection_policy\":{\"id\":\"20350\"}},\"id\":\"19766\",\"type\":\"ColumnDataSource\"},{\"attributes\":{\"active_drag\":\"auto\",\"active_inspect\":\"auto\",\"active_multi\":null,\"active_scroll\":\"auto\",\"active_tap\":\"auto\",\"tools\":[{\"id\":\"19722\"},{\"id\":\"19723\"},{\"id\":\"19724\"},{\"id\":\"19725\"},{\"id\":\"19726\"},{\"id\":\"19727\"},{\"id\":\"19804\"}]},\"id\":\"19729\",\"type\":\"Toolbar\"},{\"attributes\":{\"line_alpha\":0.1,\"line_color\":\"darkviolet\",\"line_width\":4,\"x\":{\"field\":\"x\"},\"y\":{\"field\":\"y\"}},\"id\":\"19738\",\"type\":\"Line\"},{\"attributes\":{},\"id\":\"19776\",\"type\":\"Selection\"},{\"attributes\":{\"text\":\"Logistic Fitting Total Deaths: Italy\"},\"id\":\"19704\",\"type\":\"Title\"},{\"attributes\":{\"days\":[\"%d %B\"]},\"id\":\"19799\",\"type\":\"DatetimeTickFormatter\"},{\"attributes\":{},\"id\":\"19722\",\"type\":\"PanTool\"},{\"attributes\":{\"label\":{\"value\":\"total deaths\"},\"renderers\":[{\"id\":\"19739\"}]},\"id\":\"19760\",\"type\":\"LegendItem\"},{\"attributes\":{},\"id\":\"20349\",\"type\":\"Selection\"},{\"attributes\":{},\"id\":\"20352\",\"type\":\"UnionRenderers\"},{\"attributes\":{\"source\":{\"id\":\"19761\"}},\"id\":\"19765\",\"type\":\"CDSView\"},{\"attributes\":{},\"id\":\"19723\",\"type\":\"WheelZoomTool\"},{\"attributes\":{\"base\":24,\"mantissas\":[1,2,4,6,8,12],\"max_interval\":43200000.0,\"min_interval\":3600000.0,\"num_minor_ticks\":0},\"id\":\"19748\",\"type\":\"AdaptiveTicker\"},{\"attributes\":{\"months\":[0,1,2,3,4,5,6,7,8,9,10,11]},\"id\":\"19753\",\"type\":\"MonthsTicker\"},{\"attributes\":{\"data_source\":{\"id\":\"19761\"},\"glyph\":{\"id\":\"19762\"},\"hover_glyph\":null,\"muted_glyph\":null,\"nonselection_glyph\":{\"id\":\"19763\"},\"selection_glyph\":null,\"view\":{\"id\":\"19765\"}},\"id\":\"19764\",\"type\":\"GlyphRenderer\"},{\"attributes\":{\"months\":[0,2,4,6,8,10]},\"id\":\"19754\",\"type\":\"MonthsTicker\"},{\"attributes\":{},\"id\":\"19706\",\"type\":\"DataRange1d\"},{\"attributes\":{\"fill_color\":{\"value\":\"white\"},\"line_color\":{\"value\":\"violet\"},\"size\":{\"units\":\"screen\",\"value\":6},\"x\":{\"field\":\"x\"},\"y\":{\"field\":\"y\"}},\"id\":\"19795\",\"type\":\"Circle\"},{\"attributes\":{\"overlay\":{\"id\":\"19728\"}},\"id\":\"19724\",\"type\":\"BoxZoomTool\"},{\"attributes\":{\"base\":60,\"mantissas\":[1,2,5,10,15,20,30],\"max_interval\":1800000.0,\"min_interval\":1000.0,\"num_minor_ticks\":0},\"id\":\"19747\",\"type\":\"AdaptiveTicker\"},{\"attributes\":{},\"id\":\"19710\",\"type\":\"LinearScale\"},{\"attributes\":{\"fill_color\":{\"value\":\"white\"},\"line_color\":{\"value\":\"darkviolet\"},\"size\":{\"units\":\"screen\",\"value\":6},\"x\":{\"field\":\"x\"},\"y\":{\"field\":\"y\"}},\"id\":\"19762\",\"type\":\"Circle\"},{\"attributes\":{\"fill_alpha\":{\"value\":0.1},\"fill_color\":{\"value\":\"white\"},\"line_alpha\":{\"value\":0.1},\"line_color\":{\"value\":\"violet\"},\"size\":{\"units\":\"screen\",\"value\":6},\"x\":{\"field\":\"x\"},\"y\":{\"field\":\"y\"}},\"id\":\"19796\",\"type\":\"Circle\"},{\"attributes\":{\"callback\":null,\"formatters\":{\"@x\":\"datetime\"},\"mode\":\"vline\",\"tooltips\":[[\"date\",\"@x{%d %B}\"],[\"total deaths OR logistic\",\"@y{0.}\"]]},\"id\":\"19804\",\"type\":\"HoverTool\"},{\"attributes\":{\"line_alpha\":0.1,\"line_color\":\"violet\",\"line_width\":4,\"x\":{\"field\":\"x\"},\"y\":{\"field\":\"y\"}},\"id\":\"19768\",\"type\":\"Line\"},{\"attributes\":{\"fill_alpha\":{\"value\":0.1},\"fill_color\":{\"value\":\"white\"},\"line_alpha\":{\"value\":0.1},\"line_color\":{\"value\":\"darkviolet\"},\"size\":{\"units\":\"screen\",\"value\":6},\"x\":{\"field\":\"x\"},\"y\":{\"field\":\"y\"}},\"id\":\"19763\",\"type\":\"Circle\"}],\"root_ids\":[\"19703\"]},\"title\":\"Bokeh Application\",\"version\":\"2.0.2\"}};\n",
       "  var render_items = [{\"docid\":\"50d1e82b-728d-4fb8-94ca-607efb26b28d\",\"root_ids\":[\"19703\"],\"roots\":{\"19703\":\"1a1bb7eb-58b6-410e-8b51-cde35b81ce31\"}}];\n",
       "  root.Bokeh.embed.embed_items_notebook(docs_json, render_items);\n",
       "\n",
       "  }\n",
       "  if (root.Bokeh !== undefined) {\n",
       "    embed_document(root);\n",
       "  } else {\n",
       "    var attempts = 0;\n",
       "    var timer = setInterval(function(root) {\n",
       "      if (root.Bokeh !== undefined) {\n",
       "        clearInterval(timer);\n",
       "        embed_document(root);\n",
       "      } else {\n",
       "        attempts++;\n",
       "        if (attempts > 100) {\n",
       "          clearInterval(timer);\n",
       "          console.log(\"Bokeh: ERROR: Unable to run BokehJS code because BokehJS library is missing\");\n",
       "        }\n",
       "      }\n",
       "    }, 10, root)\n",
       "  }\n",
       "})(window);"
      ],
      "application/vnd.bokehjs_exec.v0+json": ""
     },
     "metadata": {
      "application/vnd.bokehjs_exec.v0+json": {
       "id": "19703"
      }
     },
     "output_type": "display_data"
    }
   ],
   "source": [
    "pfit_total_deaths_Italy = bokeh_plot_2_lines(x=time_date_new[fit_range_3:fit_range_4], y=deceduti_italy.loc[(fit_range_3):(fit_range_4-1)], yy=ydata_3, \n",
    "                  title='Logistic Fitting Total Deaths: Italy', \n",
    "                  file_name=\"fit_total_deaths_Italy.html\", \n",
    "                  x_label='Date', y_label='Total Deaths', \n",
    "                  legend_1='total deaths', legend_2='logistic fitting',\n",
    "                  x_label_hover='date' , y_label_hover='total deaths OR logistic' , \n",
    "                  color_1='darkviolet', color_2='violet', y_minmax=None)\n",
    "\n",
    "show(pfit_total_deaths_Italy)"
   ]
  },
  {
   "cell_type": "code",
   "execution_count": 93,
   "metadata": {},
   "outputs": [
    {
     "data": {
      "text/plain": [
       "0.9941738514811417"
      ]
     },
     "execution_count": 93,
     "metadata": {},
     "output_type": "execute_result"
    }
   ],
   "source": [
    "- cov[0,1] / (np.sqrt(np.diag(cov)[0] * np.diag(cov)[1])) # Correlation coefficient for parameters 'K' and 'r'"
   ]
  },
  {
   "cell_type": "code",
   "execution_count": 94,
   "metadata": {},
   "outputs": [
    {
     "data": {
      "text/plain": [
       "0.9916724603431022"
      ]
     },
     "execution_count": 94,
     "metadata": {},
     "output_type": "execute_result"
    }
   ],
   "source": [
    "cov[0,2] / (np.sqrt(np.diag(cov)[0] * np.diag(cov)[2])) # Correlation coefficient for parameters 'K' and 'P_0'"
   ]
  },
  {
   "cell_type": "code",
   "execution_count": 95,
   "metadata": {},
   "outputs": [
    {
     "data": {
      "text/plain": [
       "0.9997658573163374"
      ]
     },
     "execution_count": 95,
     "metadata": {},
     "output_type": "execute_result"
    }
   ],
   "source": [
    "- cov[1,2] / (np.sqrt(np.diag(cov)[1] * np.diag(cov)[2])) # Correlation coefficient for parameters 'r' and 'P_0'"
   ]
  },
  {
   "cell_type": "code",
   "execution_count": 96,
   "metadata": {},
   "outputs": [
    {
     "data": {
      "text/plain": [
       "0.9956574113165373"
      ]
     },
     "execution_count": 96,
     "metadata": {},
     "output_type": "execute_result"
    }
   ],
   "source": [
    "residuals_3 = deceduti_italy.loc[(fit_range_3):(fit_range_4-1)] - ydata_3  #  Calculation of R^2\n",
    "ss_res_3 = np.sum(residuals_3**2)\n",
    "ss_tot_3 = np.sum((deceduti_italy.loc[(fit_range_3):(fit_range_4-1)] - np.mean(deceduti_italy.loc[(fit_range_3):(fit_range_4-1)]))**2)\n",
    "r_squared_3 = 1 - (ss_res_3 / ss_tot_3)\n",
    "r_squared_3"
   ]
  },
  {
   "cell_type": "markdown",
   "metadata": {},
   "source": [
    "---------------"
   ]
  },
  {
   "cell_type": "code",
   "execution_count": 97,
   "metadata": {},
   "outputs": [
    {
     "name": "stderr",
     "output_type": "stream",
     "text": [
      "/Users/Angelo/opt/anaconda3/lib/python3.7/site-packages/ipykernel_launcher.py:8: RuntimeWarning: overflow encountered in exp\n",
      "  \n"
     ]
    }
   ],
   "source": [
    "max_deaths = []\n",
    "max_deaths_up = []\n",
    "max_deaths_down = []\n",
    "\n",
    "# iii = len(deceduti_italy)\n",
    "iii = 15\n",
    "\n",
    "while (iii <= len(deceduti_italy)):\n",
    "    fit_range_3 = iii - 15\n",
    "    fit_range_4 = iii\n",
    "    xdata_3 = np.linspace(fit_range_3, fit_range_4, fit_range_4 - fit_range_3)\n",
    "    init_guess = [80000,0.001,0.001]\n",
    "    fit = curve_fit(model_population, xdata_3, deceduti_italy.loc[fit_range_3:(fit_range_4-1)], p0=init_guess)\n",
    "    ans, cov = fit\n",
    "    fit_K, fit_r, fit_P_0 = ans\n",
    "    max_deaths.append(fit_K)\n",
    "    max_deaths_up.append(fit_K + np.sqrt(np.diag(cov))[0])\n",
    "    max_deaths_down.append(fit_K - np.sqrt(np.diag(cov))[0])\n",
    "    iii = iii + 1"
   ]
  },
  {
   "cell_type": "code",
   "execution_count": 98,
   "metadata": {},
   "outputs": [
    {
     "data": {
      "text/plain": [
       "107"
      ]
     },
     "execution_count": 98,
     "metadata": {},
     "output_type": "execute_result"
    }
   ],
   "source": [
    "len(max_deaths)"
   ]
  },
  {
   "cell_type": "code",
   "execution_count": 99,
   "metadata": {},
   "outputs": [
    {
     "name": "stderr",
     "output_type": "stream",
     "text": [
      "BokehUserWarning: ColumnDataSource's columns must be of the same length. Current lengths: ('x', 121), ('y', 107)\n",
      "BokehUserWarning: ColumnDataSource's columns must be of the same length. Current lengths: ('x', 121), ('y', 107)\n"
     ]
    },
    {
     "data": {
      "text/html": [
       "\n",
       "\n",
       "\n",
       "\n",
       "\n",
       "\n",
       "  <div class=\"bk-root\" id=\"ad03d89d-d343-4026-99d5-9e49e7347e27\" data-root-id=\"20823\"></div>\n"
      ]
     },
     "metadata": {},
     "output_type": "display_data"
    },
    {
     "data": {
      "application/javascript": [
       "(function(root) {\n",
       "  function embed_document(root) {\n",
       "    \n",
       "  var docs_json = {\"e24942e0-7a27-431d-9f62-538d11afdeb9\":{\"roots\":{\"references\":[{\"attributes\":{\"below\":[{\"id\":\"20834\"}],\"center\":[{\"id\":\"20837\"},{\"id\":\"20841\"},{\"id\":\"20879\"}],\"left\":[{\"id\":\"20838\"}],\"plot_height\":450,\"renderers\":[{\"id\":\"20859\"},{\"id\":\"20884\"}],\"title\":{\"id\":\"20824\"},\"toolbar\":{\"id\":\"20849\"},\"x_range\":{\"id\":\"20826\"},\"x_scale\":{\"id\":\"20830\"},\"y_range\":{\"id\":\"20828\"},\"y_scale\":{\"id\":\"20832\"}},\"id\":\"20823\",\"subtype\":\"Figure\",\"type\":\"Plot\"},{\"attributes\":{\"source\":{\"id\":\"20881\"}},\"id\":\"20885\",\"type\":\"CDSView\"},{\"attributes\":{\"data\":{\"x\":{\"__ndarray__\":\"AACAdckLd0IAAEDbGwx3QgAAAEFuDHdCAADApsAMd0IAAIAMEw13QgAAQHJlDXdCAAAA2LcNd0IAAMA9Cg53QgAAgKNcDndCAABACa8Od0IAAABvAQ93QgAAwNRTD3dCAACAOqYPd0IAAECg+A93QgAAAAZLEHdCAADAa50Qd0IAAIDR7xB3QgAAQDdCEXdCAAAAnZQRd0IAAMAC5xF3QgAAgGg5EndCAABAzosSd0IAAAA03hJ3QgAAwJkwE3dCAACA/4ITd0IAAEBl1RN3QgAAAMsnFHdCAADAMHoUd0IAAICWzBR3QgAAQPweFXdCAAAAYnEVd0IAAMDHwxV3QgAAgC0WFndCAABAk2gWd0IAAAD5uhZ3QgAAwF4NF3dCAACAxF8Xd0IAAEAqshd3QgAAAJAEGHdCAADA9VYYd0IAAIBbqRh3QgAAQMH7GHdCAAAAJ04Zd0IAAMCMoBl3QgAAgPLyGXdCAABAWEUad0IAAAC+lxp3QgAAwCPqGndCAACAiTwbd0IAAEDvjht3QgAAAFXhG3dCAADAujMcd0IAAIAghhx3QgAAQIbYHHdCAAAA7Codd0IAAMBRfR13QgAAgLfPHXdCAABAHSIed0IAAACDdB53QgAAwOjGHndCAACAThkfd0IAAEC0ax93QgAAABq+H3dCAADAfxAgd0IAAIDlYiB3QgAAQEu1IHdCAAAAsQchd0IAAMAWWiF3QgAAgHysIXdCAABA4v4hd0IAAABIUSJ3QgAAwK2jIndCAACAE/Yid0IAAEB5SCN3QgAAAN+aI3dCAADARO0jd0IAAICqPyR3QgAAQBCSJHdCAAAAduQkd0IAAMDbNiV3QgAAgEGJJXdCAABAp9sld0IAAAANLiZ3QgAAwHKAJndCAACA2NImd0IAAEA+JSd3QgAAAKR3J3dCAADACcond0IAAIBvHCh3QgAAQNVuKHdCAAAAO8Eod0IAAMCgEyl3QgAAgAZmKXdCAABAbLgpd0IAAADSCip3QgAAwDddKndCAACAna8qd0IAAEADAit3QgAAAGlUK3dCAADAzqYrd0IAAIA0+St3QgAAQJpLLHdCAAAAAJ4sd0IAAMBl8Cx3QgAAgMtCLXdCAABAMZUtd0IAAACX5y13QgAAwPw5LndCAACAYowud0IAAEDI3i53QgAAAC4xL3dCAADAk4Mvd0IAAID51S93QgAAQF8oMHdCAAAAxXowd0IAAMAqzTB3QgAAgJAfMXdCAABA9nExd0IAAABcxDF3QgAAwMEWMndCAACAJ2kyd0I=\",\"dtype\":\"float64\",\"shape\":[121]},\"y\":[5383.6596092904065,11586.586976529454,6256.115115649222,2921.658124836654,2995.3696834950824,2438.049970074125,3280.8262087779594,4171.791660983626,4628.839818312201,5780.657588128703,6402.286367116678,8338.126960653863,13438.041684871727,15673.024214700494,13988.73415496513,13983.069050433938,13643.268016949949,13280.422296375873,14541.035426240474,15948.31868212823,16919.447900144303,17624.14409613583,18427.57334674624,19024.31686659782,19595.446211927356,20492.703154545885,21108.5383707799,20826.538772937543,20749.062497024675,20941.22539593412,21105.43169556148,21602.86770287848,22532.032375414285,23553.98317175984,24188.844519767543,25240.951466661896,26808.0719035675,28665.271023131954,30936.49184458559,33695.962544052265,34834.49868458522,34064.377627766225,33887.82027534752,34098.426117585965,33838.70772885899,34120.71784750253,34013.01934670106,33912.26043688998,32554.455468747023,32205.915752532,32344.579720552705,32404.129983801267,32285.390477842815,32204.853289620547,32787.837743913165,32806.5573498251,32829.535005267986,33128.684259480826,33957.756442907164,35239.37223176212,36228.026855982396,36193.92159191195,34944.57172641624,34525.59559431845,34290.856415843744,34014.02741872075,34256.298341342124,35176.15740591003,36767.556446592695,35628.519323998466,34959.908708032715,35175.56304992349,36291.63567847923,36623.77439868876,36215.77365308548,35420.11882097668,34541.41659772791,34133.82886880968,33922.29753387945,33996.16777848686,34203.53529120357,34344.359642770425,34376.56052032992,34402.71447145229,34395.08631828215,34639.58687636816,35049.515930923386,35818.66126514765,36753.582348162876,37068.83604223238,35975.02534544718,35940.17360065014,36254.82556907301,37532.14911399668,37416.92357068681,37867.42164332909,40116.05744946298,37720.211275745474,35983.209634172876,35363.48992105854,35180.62730219532,35252.09386316814,35327.25790264103,35385.09970192637,35305.8909468437,35283.93612344877,35258.455485397484]},\"selected\":{\"id\":\"21456\"},\"selection_policy\":{\"id\":\"21457\"}},\"id\":\"20856\",\"type\":\"ColumnDataSource\"},{\"attributes\":{\"base\":24,\"mantissas\":[1,2,4,6,8,12],\"max_interval\":43200000.0,\"min_interval\":3600000.0,\"num_minor_ticks\":0},\"id\":\"20868\",\"type\":\"AdaptiveTicker\"},{\"attributes\":{},\"id\":\"20877\",\"type\":\"YearsTicker\"},{\"attributes\":{},\"id\":\"21457\",\"type\":\"UnionRenderers\"},{\"attributes\":{\"months\":[0,6]},\"id\":\"20876\",\"type\":\"MonthsTicker\"},{\"attributes\":{\"source\":{\"id\":\"20856\"}},\"id\":\"20860\",\"type\":\"CDSView\"},{\"attributes\":{},\"id\":\"21456\",\"type\":\"Selection\"},{\"attributes\":{\"data\":{\"x\":{\"__ndarray__\":\"AACAdckLd0IAAEDbGwx3QgAAAEFuDHdCAADApsAMd0IAAIAMEw13QgAAQHJlDXdCAAAA2LcNd0IAAMA9Cg53QgAAgKNcDndCAABACa8Od0IAAABvAQ93QgAAwNRTD3dCAACAOqYPd0IAAECg+A93QgAAAAZLEHdCAADAa50Qd0IAAIDR7xB3QgAAQDdCEXdCAAAAnZQRd0IAAMAC5xF3QgAAgGg5EndCAABAzosSd0IAAAA03hJ3QgAAwJkwE3dCAACA/4ITd0IAAEBl1RN3QgAAAMsnFHdCAADAMHoUd0IAAICWzBR3QgAAQPweFXdCAAAAYnEVd0IAAMDHwxV3QgAAgC0WFndCAABAk2gWd0IAAAD5uhZ3QgAAwF4NF3dCAACAxF8Xd0IAAEAqshd3QgAAAJAEGHdCAADA9VYYd0IAAIBbqRh3QgAAQMH7GHdCAAAAJ04Zd0IAAMCMoBl3QgAAgPLyGXdCAABAWEUad0IAAAC+lxp3QgAAwCPqGndCAACAiTwbd0IAAEDvjht3QgAAAFXhG3dCAADAujMcd0IAAIAghhx3QgAAQIbYHHdCAAAA7Codd0IAAMBRfR13QgAAgLfPHXdCAABAHSIed0IAAACDdB53QgAAwOjGHndCAACAThkfd0IAAEC0ax93QgAAABq+H3dCAADAfxAgd0IAAIDlYiB3QgAAQEu1IHdCAAAAsQchd0IAAMAWWiF3QgAAgHysIXdCAABA4v4hd0IAAABIUSJ3QgAAwK2jIndCAACAE/Yid0IAAEB5SCN3QgAAAN+aI3dCAADARO0jd0IAAICqPyR3QgAAQBCSJHdCAAAAduQkd0IAAMDbNiV3QgAAgEGJJXdCAABAp9sld0IAAAANLiZ3QgAAwHKAJndCAACA2NImd0IAAEA+JSd3QgAAAKR3J3dCAADACcond0IAAIBvHCh3QgAAQNVuKHdCAAAAO8Eod0IAAMCgEyl3QgAAgAZmKXdCAABAbLgpd0IAAADSCip3QgAAwDddKndCAACAna8qd0IAAEADAit3QgAAAGlUK3dCAADAzqYrd0IAAIA0+St3QgAAQJpLLHdCAAAAAJ4sd0IAAMBl8Cx3QgAAgMtCLXdCAABAMZUtd0IAAACX5y13QgAAwPw5LndCAACAYowud0IAAEDI3i53QgAAAC4xL3dCAADAk4Mvd0IAAID51S93QgAAQF8oMHdCAAAAxXowd0IAAMAqzTB3QgAAgJAfMXdCAABA9nExd0IAAABcxDF3QgAAwMEWMndCAACAJ2kyd0I=\",\"dtype\":\"float64\",\"shape\":[121]},\"y\":[5383.6596092904065,11586.586976529454,6256.115115649222,2921.658124836654,2995.3696834950824,2438.049970074125,3280.8262087779594,4171.791660983626,4628.839818312201,5780.657588128703,6402.286367116678,8338.126960653863,13438.041684871727,15673.024214700494,13988.73415496513,13983.069050433938,13643.268016949949,13280.422296375873,14541.035426240474,15948.31868212823,16919.447900144303,17624.14409613583,18427.57334674624,19024.31686659782,19595.446211927356,20492.703154545885,21108.5383707799,20826.538772937543,20749.062497024675,20941.22539593412,21105.43169556148,21602.86770287848,22532.032375414285,23553.98317175984,24188.844519767543,25240.951466661896,26808.0719035675,28665.271023131954,30936.49184458559,33695.962544052265,34834.49868458522,34064.377627766225,33887.82027534752,34098.426117585965,33838.70772885899,34120.71784750253,34013.01934670106,33912.26043688998,32554.455468747023,32205.915752532,32344.579720552705,32404.129983801267,32285.390477842815,32204.853289620547,32787.837743913165,32806.5573498251,32829.535005267986,33128.684259480826,33957.756442907164,35239.37223176212,36228.026855982396,36193.92159191195,34944.57172641624,34525.59559431845,34290.856415843744,34014.02741872075,34256.298341342124,35176.15740591003,36767.556446592695,35628.519323998466,34959.908708032715,35175.56304992349,36291.63567847923,36623.77439868876,36215.77365308548,35420.11882097668,34541.41659772791,34133.82886880968,33922.29753387945,33996.16777848686,34203.53529120357,34344.359642770425,34376.56052032992,34402.71447145229,34395.08631828215,34639.58687636816,35049.515930923386,35818.66126514765,36753.582348162876,37068.83604223238,35975.02534544718,35940.17360065014,36254.82556907301,37532.14911399668,37416.92357068681,37867.42164332909,40116.05744946298,37720.211275745474,35983.209634172876,35363.48992105854,35180.62730219532,35252.09386316814,35327.25790264103,35385.09970192637,35305.8909468437,35283.93612344877,35258.455485397484]},\"selected\":{\"id\":\"21458\"},\"selection_policy\":{\"id\":\"21459\"}},\"id\":\"20881\",\"type\":\"ColumnDataSource\"},{\"attributes\":{\"fill_color\":{\"value\":\"white\"},\"line_color\":{\"value\":\"darkviolet\"},\"size\":{\"units\":\"screen\",\"value\":6},\"x\":{\"field\":\"x\"},\"y\":{\"field\":\"y\"}},\"id\":\"20882\",\"type\":\"Circle\"},{\"attributes\":{\"bottom_units\":\"screen\",\"fill_alpha\":0.5,\"fill_color\":\"lightgrey\",\"left_units\":\"screen\",\"level\":\"overlay\",\"line_alpha\":1.0,\"line_color\":\"black\",\"line_dash\":[4,4],\"line_width\":2,\"render_mode\":\"css\",\"right_units\":\"screen\",\"top_units\":\"screen\"},\"id\":\"20848\",\"type\":\"BoxAnnotation\"},{\"attributes\":{\"months\":[0,1,2,3,4,5,6,7,8,9,10,11]},\"id\":\"20873\",\"type\":\"MonthsTicker\"},{\"attributes\":{},\"id\":\"20890\",\"type\":\"NumeralTickFormatter\"},{\"attributes\":{\"days\":[\"%d %B\"]},\"id\":\"20886\",\"type\":\"DatetimeTickFormatter\"},{\"attributes\":{},\"id\":\"20842\",\"type\":\"PanTool\"},{\"attributes\":{\"months\":[0,2,4,6,8,10]},\"id\":\"20874\",\"type\":\"MonthsTicker\"},{\"attributes\":{\"months\":[0,4,8]},\"id\":\"20875\",\"type\":\"MonthsTicker\"},{\"attributes\":{},\"id\":\"20826\",\"type\":\"DataRange1d\"},{\"attributes\":{\"days\":[1,8,15,22]},\"id\":\"20871\",\"type\":\"DaysTicker\"},{\"attributes\":{\"axis_label\":\"Date\",\"formatter\":{\"id\":\"20886\"},\"major_label_orientation\":0.7853981633974483,\"minor_tick_in\":-5,\"minor_tick_out\":-3,\"ticker\":{\"id\":\"20835\"}},\"id\":\"20834\",\"type\":\"DatetimeAxis\"},{\"attributes\":{\"fill_alpha\":{\"value\":0.1},\"fill_color\":{\"value\":\"white\"},\"line_alpha\":{\"value\":0.1},\"line_color\":{\"value\":\"darkviolet\"},\"size\":{\"units\":\"screen\",\"value\":6},\"x\":{\"field\":\"x\"},\"y\":{\"field\":\"y\"}},\"id\":\"20883\",\"type\":\"Circle\"},{\"attributes\":{},\"id\":\"20843\",\"type\":\"WheelZoomTool\"},{\"attributes\":{\"text\":\"Total Deaths MAX: Italy\"},\"id\":\"20824\",\"type\":\"Title\"},{\"attributes\":{\"base\":60,\"mantissas\":[1,2,5,10,15,20,30],\"max_interval\":1800000.0,\"min_interval\":1000.0,\"num_minor_ticks\":0},\"id\":\"20867\",\"type\":\"AdaptiveTicker\"},{\"attributes\":{\"overlay\":{\"id\":\"20848\"}},\"id\":\"20844\",\"type\":\"BoxZoomTool\"},{\"attributes\":{\"days\":[1,15]},\"id\":\"20872\",\"type\":\"DaysTicker\"},{\"attributes\":{\"line_color\":\"darkviolet\",\"line_width\":4,\"x\":{\"field\":\"x\"},\"y\":{\"field\":\"y\"}},\"id\":\"20857\",\"type\":\"Line\"},{\"attributes\":{\"axis\":{\"id\":\"20834\"},\"ticker\":null},\"id\":\"20837\",\"type\":\"Grid\"},{\"attributes\":{},\"id\":\"20845\",\"type\":\"SaveTool\"},{\"attributes\":{},\"id\":\"21458\",\"type\":\"Selection\"},{\"attributes\":{\"days\":[1,2,3,4,5,6,7,8,9,10,11,12,13,14,15,16,17,18,19,20,21,22,23,24,25,26,27,28,29,30,31]},\"id\":\"20869\",\"type\":\"DaysTicker\"},{\"attributes\":{\"num_minor_ticks\":5,\"tickers\":[{\"id\":\"20866\"},{\"id\":\"20867\"},{\"id\":\"20868\"},{\"id\":\"20869\"},{\"id\":\"20870\"},{\"id\":\"20871\"},{\"id\":\"20872\"},{\"id\":\"20873\"},{\"id\":\"20874\"},{\"id\":\"20875\"},{\"id\":\"20876\"},{\"id\":\"20877\"}]},\"id\":\"20835\",\"type\":\"DatetimeTicker\"},{\"attributes\":{},\"id\":\"20846\",\"type\":\"ResetTool\"},{\"attributes\":{\"mantissas\":[1,2,5],\"max_interval\":500.0,\"num_minor_ticks\":0},\"id\":\"20866\",\"type\":\"AdaptiveTicker\"},{\"attributes\":{},\"id\":\"20828\",\"type\":\"DataRange1d\"},{\"attributes\":{\"days\":[1,4,7,10,13,16,19,22,25,28]},\"id\":\"20870\",\"type\":\"DaysTicker\"},{\"attributes\":{},\"id\":\"20847\",\"type\":\"HelpTool\"},{\"attributes\":{\"callback\":null,\"formatters\":{\"@x\":\"datetime\"},\"mode\":\"vline\",\"tooltips\":[[\"date\",\"@x{%d %B}\"],[\"total deaths max\",\"@y{0.}\"]]},\"id\":\"20891\",\"type\":\"HoverTool\"},{\"attributes\":{\"line_alpha\":0.1,\"line_color\":\"darkviolet\",\"line_width\":4,\"x\":{\"field\":\"x\"},\"y\":{\"field\":\"y\"}},\"id\":\"20858\",\"type\":\"Line\"},{\"attributes\":{},\"id\":\"20832\",\"type\":\"LinearScale\"},{\"attributes\":{\"label\":{\"value\":\"total deaths max\"},\"renderers\":[{\"id\":\"20859\"}]},\"id\":\"20880\",\"type\":\"LegendItem\"},{\"attributes\":{\"data_source\":{\"id\":\"20856\"},\"glyph\":{\"id\":\"20857\"},\"hover_glyph\":null,\"muted_glyph\":null,\"nonselection_glyph\":{\"id\":\"20858\"},\"selection_glyph\":null,\"view\":{\"id\":\"20860\"}},\"id\":\"20859\",\"type\":\"GlyphRenderer\"},{\"attributes\":{},\"id\":\"20830\",\"type\":\"LinearScale\"},{\"attributes\":{\"axis\":{\"id\":\"20838\"},\"dimension\":1,\"ticker\":null},\"id\":\"20841\",\"type\":\"Grid\"},{\"attributes\":{\"items\":[{\"id\":\"20880\"}],\"location\":\"top_left\"},\"id\":\"20879\",\"type\":\"Legend\"},{\"attributes\":{},\"id\":\"21459\",\"type\":\"UnionRenderers\"},{\"attributes\":{},\"id\":\"20839\",\"type\":\"BasicTicker\"},{\"attributes\":{\"active_drag\":\"auto\",\"active_inspect\":\"auto\",\"active_multi\":null,\"active_scroll\":\"auto\",\"active_tap\":\"auto\",\"tools\":[{\"id\":\"20842\"},{\"id\":\"20843\"},{\"id\":\"20844\"},{\"id\":\"20845\"},{\"id\":\"20846\"},{\"id\":\"20847\"},{\"id\":\"20891\"}]},\"id\":\"20849\",\"type\":\"Toolbar\"},{\"attributes\":{\"axis_label\":\"Total Deaths MAX\",\"formatter\":{\"id\":\"20890\"},\"minor_tick_in\":-5,\"minor_tick_out\":-3,\"ticker\":{\"id\":\"20839\"}},\"id\":\"20838\",\"type\":\"LinearAxis\"},{\"attributes\":{\"data_source\":{\"id\":\"20881\"},\"glyph\":{\"id\":\"20882\"},\"hover_glyph\":null,\"muted_glyph\":null,\"nonselection_glyph\":{\"id\":\"20883\"},\"selection_glyph\":null,\"view\":{\"id\":\"20885\"}},\"id\":\"20884\",\"type\":\"GlyphRenderer\"}],\"root_ids\":[\"20823\"]},\"title\":\"Bokeh Application\",\"version\":\"2.0.2\"}};\n",
       "  var render_items = [{\"docid\":\"e24942e0-7a27-431d-9f62-538d11afdeb9\",\"root_ids\":[\"20823\"],\"roots\":{\"20823\":\"ad03d89d-d343-4026-99d5-9e49e7347e27\"}}];\n",
       "  root.Bokeh.embed.embed_items_notebook(docs_json, render_items);\n",
       "\n",
       "  }\n",
       "  if (root.Bokeh !== undefined) {\n",
       "    embed_document(root);\n",
       "  } else {\n",
       "    var attempts = 0;\n",
       "    var timer = setInterval(function(root) {\n",
       "      if (root.Bokeh !== undefined) {\n",
       "        clearInterval(timer);\n",
       "        embed_document(root);\n",
       "      } else {\n",
       "        attempts++;\n",
       "        if (attempts > 100) {\n",
       "          clearInterval(timer);\n",
       "          console.log(\"Bokeh: ERROR: Unable to run BokehJS code because BokehJS library is missing\");\n",
       "        }\n",
       "      }\n",
       "    }, 10, root)\n",
       "  }\n",
       "})(window);"
      ],
      "application/vnd.bokehjs_exec.v0+json": ""
     },
     "metadata": {
      "application/vnd.bokehjs_exec.v0+json": {
       "id": "20823"
      }
     },
     "output_type": "display_data"
    }
   ],
   "source": [
    "p_total_deaths_MAX_Italy = bokeh_plot_1_line(x=time_date_new + 14, y=max_deaths, \n",
    "                  title='Total Deaths MAX: Italy', \n",
    "                  file_name=\"total_deaths_MAX_Italy.html\", \n",
    "                  x_label='Date', \n",
    "                  y_label='Total Deaths MAX', legend='total deaths max',\n",
    "                  x_label_hover='date', y_label_hover='total deaths max',\n",
    "                  color='darkviolet', y_minmax=None)\n",
    "\n",
    "show(p_total_deaths_MAX_Italy)"
   ]
  },
  {
   "cell_type": "code",
   "execution_count": 100,
   "metadata": {},
   "outputs": [
    {
     "name": "stderr",
     "output_type": "stream",
     "text": [
      "BokehUserWarning: ColumnDataSource's columns must be of the same length. Current lengths: ('x', 121), ('y', 107)\n",
      "BokehUserWarning: ColumnDataSource's columns must be of the same length. Current lengths: ('x', 121), ('y', 107)\n",
      "BokehUserWarning: ColumnDataSource's columns must be of the same length. Current lengths: ('x', 121), ('y', 107)\n",
      "BokehUserWarning: ColumnDataSource's columns must be of the same length. Current lengths: ('x', 121), ('y', 107)\n",
      "BokehUserWarning: ColumnDataSource's columns must be of the same length. Current lengths: ('x', 121), ('y', 107)\n",
      "BokehUserWarning: ColumnDataSource's columns must be of the same length. Current lengths: ('x', 121), ('y', 107)\n"
     ]
    },
    {
     "data": {
      "text/html": [
       "\n",
       "\n",
       "\n",
       "\n",
       "\n",
       "\n",
       "  <div class=\"bk-root\" id=\"af2bb54c-442b-48cc-87ce-08ba95ab1037\" data-root-id=\"21854\"></div>\n"
      ]
     },
     "metadata": {},
     "output_type": "display_data"
    },
    {
     "data": {
      "application/javascript": [
       "(function(root) {\n",
       "  function embed_document(root) {\n",
       "    \n",
       "  var docs_json = {\"54468ef7-740f-4dbc-951f-7a4884d81884\":{\"roots\":{\"references\":[{\"attributes\":{\"below\":[{\"id\":\"21865\"}],\"center\":[{\"id\":\"21868\"},{\"id\":\"21872\"},{\"id\":\"21910\"}],\"left\":[{\"id\":\"21869\"}],\"plot_height\":450,\"renderers\":[{\"id\":\"21890\"},{\"id\":\"21915\"},{\"id\":\"21920\"},{\"id\":\"21948\"},{\"id\":\"21953\"},{\"id\":\"21985\"}],\"title\":{\"id\":\"21855\"},\"toolbar\":{\"id\":\"21880\"},\"x_range\":{\"id\":\"21857\"},\"x_scale\":{\"id\":\"21861\"},\"y_range\":{\"id\":\"21859\"},\"y_scale\":{\"id\":\"21863\"}},\"id\":\"21854\",\"subtype\":\"Figure\",\"type\":\"Plot\"},{\"attributes\":{\"data_source\":{\"id\":\"21917\"},\"glyph\":{\"id\":\"21918\"},\"hover_glyph\":null,\"muted_glyph\":null,\"nonselection_glyph\":{\"id\":\"21919\"},\"selection_glyph\":null,\"view\":{\"id\":\"21921\"}},\"id\":\"21920\",\"type\":\"GlyphRenderer\"},{\"attributes\":{\"source\":{\"id\":\"21917\"}},\"id\":\"21921\",\"type\":\"CDSView\"},{\"attributes\":{\"base\":24,\"mantissas\":[1,2,4,6,8,12],\"max_interval\":43200000.0,\"min_interval\":3600000.0,\"num_minor_ticks\":0},\"id\":\"21899\",\"type\":\"AdaptiveTicker\"},{\"attributes\":{\"base\":60,\"mantissas\":[1,2,5,10,15,20,30],\"max_interval\":1800000.0,\"min_interval\":1000.0,\"num_minor_ticks\":0},\"id\":\"21898\",\"type\":\"AdaptiveTicker\"},{\"attributes\":{\"days\":[1,2,3,4,5,6,7,8,9,10,11,12,13,14,15,16,17,18,19,20,21,22,23,24,25,26,27,28,29,30,31]},\"id\":\"21900\",\"type\":\"DaysTicker\"},{\"attributes\":{\"days\":[1,4,7,10,13,16,19,22,25,28]},\"id\":\"21901\",\"type\":\"DaysTicker\"},{\"attributes\":{\"days\":[1,8,15,22]},\"id\":\"21902\",\"type\":\"DaysTicker\"},{\"attributes\":{\"days\":[1,15]},\"id\":\"21903\",\"type\":\"DaysTicker\"},{\"attributes\":{\"months\":[0,1,2,3,4,5,6,7,8,9,10,11]},\"id\":\"21904\",\"type\":\"MonthsTicker\"},{\"attributes\":{\"months\":[0,2,4,6,8,10]},\"id\":\"21905\",\"type\":\"MonthsTicker\"},{\"attributes\":{},\"id\":\"21928\",\"type\":\"UnionRenderers\"},{\"attributes\":{\"months\":[0,4,8]},\"id\":\"21906\",\"type\":\"MonthsTicker\"},{\"attributes\":{},\"id\":\"21927\",\"type\":\"Selection\"},{\"attributes\":{},\"id\":\"21859\",\"type\":\"DataRange1d\"},{\"attributes\":{},\"id\":\"21929\",\"type\":\"Selection\"},{\"attributes\":{},\"id\":\"21930\",\"type\":\"UnionRenderers\"},{\"attributes\":{\"fill_color\":{\"value\":\"white\"},\"line_color\":{\"value\":\"lightcoral\"},\"size\":{\"units\":\"screen\",\"value\":5},\"x\":{\"field\":\"x\"},\"y\":{\"field\":\"y\"}},\"id\":\"21946\",\"type\":\"Circle\"},{\"attributes\":{\"data\":{\"x\":{\"__ndarray__\":\"AACAdckLd0IAAEDbGwx3QgAAAEFuDHdCAADApsAMd0IAAIAMEw13QgAAQHJlDXdCAAAA2LcNd0IAAMA9Cg53QgAAgKNcDndCAABACa8Od0IAAABvAQ93QgAAwNRTD3dCAACAOqYPd0IAAECg+A93QgAAAAZLEHdCAADAa50Qd0IAAIDR7xB3QgAAQDdCEXdCAAAAnZQRd0IAAMAC5xF3QgAAgGg5EndCAABAzosSd0IAAAA03hJ3QgAAwJkwE3dCAACA/4ITd0IAAEBl1RN3QgAAAMsnFHdCAADAMHoUd0IAAICWzBR3QgAAQPweFXdCAAAAYnEVd0IAAMDHwxV3QgAAgC0WFndCAABAk2gWd0IAAAD5uhZ3QgAAwF4NF3dCAACAxF8Xd0IAAEAqshd3QgAAAJAEGHdCAADA9VYYd0IAAIBbqRh3QgAAQMH7GHdCAAAAJ04Zd0IAAMCMoBl3QgAAgPLyGXdCAABAWEUad0IAAAC+lxp3QgAAwCPqGndCAACAiTwbd0IAAEDvjht3QgAAAFXhG3dCAADAujMcd0IAAIAghhx3QgAAQIbYHHdCAAAA7Codd0IAAMBRfR13QgAAgLfPHXdCAABAHSIed0IAAACDdB53QgAAwOjGHndCAACAThkfd0IAAEC0ax93QgAAABq+H3dCAADAfxAgd0IAAIDlYiB3QgAAQEu1IHdCAAAAsQchd0IAAMAWWiF3QgAAgHysIXdCAABA4v4hd0IAAABIUSJ3QgAAwK2jIndCAACAE/Yid0IAAEB5SCN3QgAAAN+aI3dCAADARO0jd0IAAICqPyR3QgAAQBCSJHdCAAAAduQkd0IAAMDbNiV3QgAAgEGJJXdCAABAp9sld0IAAAANLiZ3QgAAwHKAJndCAACA2NImd0IAAEA+JSd3QgAAAKR3J3dCAADACcond0IAAIBvHCh3QgAAQNVuKHdCAAAAO8Eod0IAAMCgEyl3QgAAgAZmKXdCAABAbLgpd0IAAADSCip3QgAAwDddKndCAACAna8qd0IAAEADAit3QgAAAGlUK3dCAADAzqYrd0IAAIA0+St3QgAAQJpLLHdCAAAAAJ4sd0IAAMBl8Cx3QgAAgMtCLXdCAABAMZUtd0IAAACX5y13QgAAwPw5LndCAACAYowud0IAAEDI3i53QgAAAC4xL3dCAADAk4Mvd0IAAID51S93QgAAQF8oMHdCAAAAxXowd0IAAMAqzTB3QgAAgJAfMXdCAABA9nExd0IAAABcxDF3QgAAwMEWMndCAACAJ2kyd0I=\",\"dtype\":\"float64\",\"shape\":[121]},\"y\":[15126.22446615273,37293.56878713092,10255.769525094602,3439.9947850040458,3313.02138001441,2586.9708812681347,3623.914396421633,4651.057813357563,5050.779275102898,6391.532847483163,6957.044682717751,9316.416481045784,16392.288644633736,18325.72183057608,15481.8602169969,15011.571872634177,14368.46451013765,13803.27480284032,15240.321155112646,16833.425582841955,17766.844805860437,18418.303397647738,19202.94700693323,19707.718158555377,20206.865611223024,20977.56483635313,21441.9983402785,21119.124956683583,20987.343321689383,21177.345281487564,21340.679060805727,21907.84574920276,22852.375149319574,24000.450754674242,24670.398551101458,25788.06617468369,27499.263941336943,29589.129636094258,31944.650815107852,34719.7955239108,35804.10722501527,34952.459517738986,34729.62212404043,34925.368544591445,34585.6136151191,34867.02623487922,34707.80181620491,34558.31623479004,32985.555725266684,32624.687210666816,32757.393168488044,32808.73787500851,32662.42135040724,32563.410691405064,33355.84622559353,33357.63326320049,33372.52576860454,33679.94610713555,34701.995373591984,36283.30564815349,37529.98221340563,37467.790160677294,35802.98738997665,35286.241239083516,34999.283818844946,34626.46899812836,34941.29261270131,36244.67104115673,38475.94906140051,36647.46149941817,35721.795333282644,36003.82725651222,37398.62451113495,37856.14209648177,37255.79045379563,36070.885495604736,34884.97876536398,34352.83354112061,34085.40384186729,34173.388266574286,34401.441657501426,34567.73595187179,34604.17348147893,34632.48991608872,34615.69536693465,34915.78475916209,35415.629904556576,36402.36412015375,37780.493295056986,38288.46654843085,36462.873042333624,36410.79878210264,36866.858692748596,38756.89686487875,38572.87429838713,39270.42643643237,43157.143008510655,38884.10441745088,36346.639872995744,35537.19011612215,35311.852491643986,35404.39330304099,35505.17618388665,35584.53969131409,35469.39632518595,35442.85384909087,35417.177872061584]},\"selected\":{\"id\":\"21966\"},\"selection_policy\":{\"id\":\"21967\"}},\"id\":\"21945\",\"type\":\"ColumnDataSource\"},{\"attributes\":{\"source\":{\"id\":\"21945\"}},\"id\":\"21949\",\"type\":\"CDSView\"},{\"attributes\":{\"data_source\":{\"id\":\"21945\"},\"glyph\":{\"id\":\"21946\"},\"hover_glyph\":null,\"muted_glyph\":null,\"nonselection_glyph\":{\"id\":\"21947\"},\"selection_glyph\":null,\"view\":{\"id\":\"21949\"}},\"id\":\"21948\",\"type\":\"GlyphRenderer\"},{\"attributes\":{\"source\":{\"id\":\"21950\"}},\"id\":\"21954\",\"type\":\"CDSView\"},{\"attributes\":{\"data\":{\"x\":{\"__ndarray__\":\"AACAdckLd0IAAEDbGwx3QgAAAEFuDHdCAADApsAMd0IAAIAMEw13QgAAQHJlDXdCAAAA2LcNd0IAAMA9Cg53QgAAgKNcDndCAABACa8Od0IAAABvAQ93QgAAwNRTD3dCAACAOqYPd0IAAECg+A93QgAAAAZLEHdCAADAa50Qd0IAAIDR7xB3QgAAQDdCEXdCAAAAnZQRd0IAAMAC5xF3QgAAgGg5EndCAABAzosSd0IAAAA03hJ3QgAAwJkwE3dCAACA/4ITd0IAAEBl1RN3QgAAAMsnFHdCAADAMHoUd0IAAICWzBR3QgAAQPweFXdCAAAAYnEVd0IAAMDHwxV3QgAAgC0WFndCAABAk2gWd0IAAAD5uhZ3QgAAwF4NF3dCAACAxF8Xd0IAAEAqshd3QgAAAJAEGHdCAADA9VYYd0IAAIBbqRh3QgAAQMH7GHdCAAAAJ04Zd0IAAMCMoBl3QgAAgPLyGXdCAABAWEUad0IAAAC+lxp3QgAAwCPqGndCAACAiTwbd0IAAEDvjht3QgAAAFXhG3dCAADAujMcd0IAAIAghhx3QgAAQIbYHHdCAAAA7Codd0IAAMBRfR13QgAAgLfPHXdCAABAHSIed0IAAACDdB53QgAAwOjGHndCAACAThkfd0IAAEC0ax93QgAAABq+H3dCAADAfxAgd0IAAIDlYiB3QgAAQEu1IHdCAAAAsQchd0IAAMAWWiF3QgAAgHysIXdCAABA4v4hd0IAAABIUSJ3QgAAwK2jIndCAACAE/Yid0IAAEB5SCN3QgAAAN+aI3dCAADARO0jd0IAAICqPyR3QgAAQBCSJHdCAAAAduQkd0IAAMDbNiV3QgAAgEGJJXdCAABAp9sld0IAAAANLiZ3QgAAwHKAJndCAACA2NImd0IAAEA+JSd3QgAAAKR3J3dCAADACcond0IAAIBvHCh3QgAAQNVuKHdCAAAAO8Eod0IAAMCgEyl3QgAAgAZmKXdCAABAbLgpd0IAAADSCip3QgAAwDddKndCAACAna8qd0IAAEADAit3QgAAAGlUK3dCAADAzqYrd0IAAIA0+St3QgAAQJpLLHdCAAAAAJ4sd0IAAMBl8Cx3QgAAgMtCLXdCAABAMZUtd0IAAACX5y13QgAAwPw5LndCAACAYowud0IAAEDI3i53QgAAAC4xL3dCAADAk4Mvd0IAAID51S93QgAAQF8oMHdCAAAAxXowd0IAAMAqzTB3QgAAgJAfMXdCAABA9nExd0IAAABcxDF3QgAAwMEWMndCAACAJ2kyd0I=\",\"dtype\":\"float64\",\"shape\":[121]},\"y\":[-4358.905247571917,-14120.39483407201,2256.4607062038435,2403.3214646692627,2677.7179869757547,2289.1290588801157,2937.738021134286,3692.5255086096886,4206.900361521503,5169.782328774242,5847.528051515605,7359.83744026194,10483.794725109718,13020.326598824908,12495.60809293336,12954.5662282337,12918.071523762248,12757.569789911426,13841.749697368303,15063.211781414504,16072.050994428171,16829.984794623924,17652.199686559252,18340.91557464026,18984.026812631688,20007.84147273864,20775.078401281302,20533.952589191504,20510.781672359968,20705.10551038068,20870.184330317235,21297.8896565542,22211.689601508995,23107.515588845436,23707.290488433628,24693.836758640104,26116.879865798055,27741.41241016965,29928.33287406333,32672.129564193732,33864.890144155164,33176.295737793465,33046.01842665461,33271.483690580484,33091.801842598885,33374.40946012584,33318.23687719721,33266.20463898991,32123.35521222736,31787.144294397185,31931.766272617366,31999.522092594023,31908.35960527839,31846.29588783603,32219.8292622328,32255.48143644971,32286.544241931435,32577.422411826105,33213.517512222345,34195.438815370755,34926.07149855916,34920.05302314661,34086.15606285582,33764.94994955339,33582.42901284254,33401.585839313135,33571.304069982936,34107.64377066333,35059.16383178488,34609.57714857876,34198.02208278279,34347.298843334764,35184.64684582351,35391.40670089574,35175.756852375336,34769.35214634862,34197.854430091844,33914.82419649875,33759.191225891605,33818.94729039943,34005.62892490571,34120.98333366906,34148.94755918091,34172.93902681585,34174.47726962965,34363.388993574226,34683.401957290196,35234.95841014156,35726.671401268766,35849.205536033915,35487.17764856074,35469.548419197636,35642.79244539742,36307.401363114615,36260.9728429865,36464.41685022582,37074.9718904153,36556.31813404007,35619.77939535001,35189.78972599494,35049.40211274665,35099.794423295294,35149.33962139541,35185.65971253865,35142.38556850144,35125.01839780668,35099.733098733384]},\"selected\":{\"id\":\"22584\"},\"selection_policy\":{\"id\":\"22585\"}},\"id\":\"21950\",\"type\":\"ColumnDataSource\"},{\"attributes\":{},\"id\":\"21857\",\"type\":\"DataRange1d\"},{\"attributes\":{\"fill_color\":{\"value\":\"white\"},\"line_color\":{\"value\":\"lightblue\"},\"size\":{\"units\":\"screen\",\"value\":5},\"x\":{\"field\":\"x\"},\"y\":{\"field\":\"y\"}},\"id\":\"21983\",\"type\":\"Circle\"},{\"attributes\":{\"fill_alpha\":{\"value\":0.1},\"fill_color\":{\"value\":\"white\"},\"line_alpha\":{\"value\":0.1},\"line_color\":{\"value\":\"lightcoral\"},\"size\":{\"units\":\"screen\",\"value\":5},\"x\":{\"field\":\"x\"},\"y\":{\"field\":\"y\"}},\"id\":\"21947\",\"type\":\"Circle\"},{\"attributes\":{},\"id\":\"22584\",\"type\":\"Selection\"},{\"attributes\":{\"data_source\":{\"id\":\"21950\"},\"glyph\":{\"id\":\"21951\"},\"hover_glyph\":null,\"muted_glyph\":null,\"nonselection_glyph\":{\"id\":\"21952\"},\"selection_glyph\":null,\"view\":{\"id\":\"21954\"}},\"id\":\"21953\",\"type\":\"GlyphRenderer\"},{\"attributes\":{\"text\":\"Total Deaths MAX: Italy\"},\"id\":\"21855\",\"type\":\"Title\"},{\"attributes\":{},\"id\":\"21965\",\"type\":\"UnionRenderers\"},{\"attributes\":{\"label\":{\"value\":\"total deaths max DOWN\"},\"renderers\":[{\"id\":\"21953\"}]},\"id\":\"21981\",\"type\":\"LegendItem\"},{\"attributes\":{},\"id\":\"21964\",\"type\":\"Selection\"},{\"attributes\":{\"line_color\":\"darkviolet\",\"line_width\":4,\"x\":{\"field\":\"x\"},\"y\":{\"field\":\"y\"}},\"id\":\"21888\",\"type\":\"Line\"},{\"attributes\":{\"line_alpha\":0.1,\"line_color\":\"lightblue\",\"line_width\":4,\"x\":{\"field\":\"x\"},\"y\":{\"field\":\"y\"}},\"id\":\"21952\",\"type\":\"Line\"},{\"attributes\":{},\"id\":\"21966\",\"type\":\"Selection\"},{\"attributes\":{},\"id\":\"21861\",\"type\":\"LinearScale\"},{\"attributes\":{},\"id\":\"21967\",\"type\":\"UnionRenderers\"},{\"attributes\":{\"num_minor_ticks\":5,\"tickers\":[{\"id\":\"21897\"},{\"id\":\"21898\"},{\"id\":\"21899\"},{\"id\":\"21900\"},{\"id\":\"21901\"},{\"id\":\"21902\"},{\"id\":\"21903\"},{\"id\":\"21904\"},{\"id\":\"21905\"},{\"id\":\"21906\"},{\"id\":\"21907\"},{\"id\":\"21908\"}]},\"id\":\"21866\",\"type\":\"DatetimeTicker\"},{\"attributes\":{\"line_alpha\":0.1,\"line_color\":\"lightcoral\",\"line_width\":4,\"x\":{\"field\":\"x\"},\"y\":{\"field\":\"y\"}},\"id\":\"21919\",\"type\":\"Line\"},{\"attributes\":{\"callback\":null,\"formatters\":{\"@x\":\"datetime\"},\"mode\":\"vline\",\"tooltips\":[[\"date\",\"@x{%d %B}\"],[\"total deaths max/UP/DOWN\",\"@y{0[.]000}\"]]},\"id\":\"21991\",\"type\":\"HoverTool\"},{\"attributes\":{\"source\":{\"id\":\"21982\"}},\"id\":\"21986\",\"type\":\"CDSView\"},{\"attributes\":{\"axis\":{\"id\":\"21865\"},\"ticker\":null},\"id\":\"21868\",\"type\":\"Grid\"},{\"attributes\":{},\"id\":\"21863\",\"type\":\"LinearScale\"},{\"attributes\":{\"line_color\":\"lightcoral\",\"line_width\":4,\"x\":{\"field\":\"x\"},\"y\":{\"field\":\"y\"}},\"id\":\"21918\",\"type\":\"Line\"},{\"attributes\":{},\"id\":\"22585\",\"type\":\"UnionRenderers\"},{\"attributes\":{\"days\":[\"%d %B\"]},\"id\":\"21987\",\"type\":\"DatetimeTickFormatter\"},{\"attributes\":{\"source\":{\"id\":\"21912\"}},\"id\":\"21916\",\"type\":\"CDSView\"},{\"attributes\":{\"data_source\":{\"id\":\"21982\"},\"glyph\":{\"id\":\"21983\"},\"hover_glyph\":null,\"muted_glyph\":null,\"nonselection_glyph\":{\"id\":\"21984\"},\"selection_glyph\":null,\"view\":{\"id\":\"21986\"}},\"id\":\"21985\",\"type\":\"GlyphRenderer\"},{\"attributes\":{},\"id\":\"21870\",\"type\":\"BasicTicker\"},{\"attributes\":{\"axis\":{\"id\":\"21869\"},\"dimension\":1,\"ticker\":null},\"id\":\"21872\",\"type\":\"Grid\"},{\"attributes\":{\"axis_label\":\"Total Deaths MAX\",\"formatter\":{\"id\":\"21989\"},\"minor_tick_in\":-5,\"minor_tick_out\":-3,\"ticker\":{\"id\":\"21870\"}},\"id\":\"21869\",\"type\":\"LinearAxis\"},{\"attributes\":{\"fill_alpha\":{\"value\":0.1},\"fill_color\":{\"value\":\"white\"},\"line_alpha\":{\"value\":0.1},\"line_color\":{\"value\":\"lightblue\"},\"size\":{\"units\":\"screen\",\"value\":5},\"x\":{\"field\":\"x\"},\"y\":{\"field\":\"y\"}},\"id\":\"21984\",\"type\":\"Circle\"},{\"attributes\":{\"data_source\":{\"id\":\"21887\"},\"glyph\":{\"id\":\"21888\"},\"hover_glyph\":null,\"muted_glyph\":null,\"nonselection_glyph\":{\"id\":\"21889\"},\"selection_glyph\":null,\"view\":{\"id\":\"21891\"}},\"id\":\"21890\",\"type\":\"GlyphRenderer\"},{\"attributes\":{\"data_source\":{\"id\":\"21912\"},\"glyph\":{\"id\":\"21913\"},\"hover_glyph\":null,\"muted_glyph\":null,\"nonselection_glyph\":{\"id\":\"21914\"},\"selection_glyph\":null,\"view\":{\"id\":\"21916\"}},\"id\":\"21915\",\"type\":\"GlyphRenderer\"},{\"attributes\":{\"line_color\":\"lightblue\",\"line_width\":4,\"x\":{\"field\":\"x\"},\"y\":{\"field\":\"y\"}},\"id\":\"21951\",\"type\":\"Line\"},{\"attributes\":{\"source\":{\"id\":\"21887\"}},\"id\":\"21891\",\"type\":\"CDSView\"},{\"attributes\":{\"use_scientific\":false},\"id\":\"21989\",\"type\":\"BasicTickFormatter\"},{\"attributes\":{\"active_drag\":\"auto\",\"active_inspect\":\"auto\",\"active_multi\":null,\"active_scroll\":\"auto\",\"active_tap\":\"auto\",\"tools\":[{\"id\":\"21873\"},{\"id\":\"21874\"},{\"id\":\"21875\"},{\"id\":\"21876\"},{\"id\":\"21877\"},{\"id\":\"21878\"},{\"id\":\"21991\"}]},\"id\":\"21880\",\"type\":\"Toolbar\"},{\"attributes\":{\"data\":{\"x\":{\"__ndarray__\":\"AACAdckLd0IAAEDbGwx3QgAAAEFuDHdCAADApsAMd0IAAIAMEw13QgAAQHJlDXdCAAAA2LcNd0IAAMA9Cg53QgAAgKNcDndCAABACa8Od0IAAABvAQ93QgAAwNRTD3dCAACAOqYPd0IAAECg+A93QgAAAAZLEHdCAADAa50Qd0IAAIDR7xB3QgAAQDdCEXdCAAAAnZQRd0IAAMAC5xF3QgAAgGg5EndCAABAzosSd0IAAAA03hJ3QgAAwJkwE3dCAACA/4ITd0IAAEBl1RN3QgAAAMsnFHdCAADAMHoUd0IAAICWzBR3QgAAQPweFXdCAAAAYnEVd0IAAMDHwxV3QgAAgC0WFndCAABAk2gWd0IAAAD5uhZ3QgAAwF4NF3dCAACAxF8Xd0IAAEAqshd3QgAAAJAEGHdCAADA9VYYd0IAAIBbqRh3QgAAQMH7GHdCAAAAJ04Zd0IAAMCMoBl3QgAAgPLyGXdCAABAWEUad0IAAAC+lxp3QgAAwCPqGndCAACAiTwbd0IAAEDvjht3QgAAAFXhG3dCAADAujMcd0IAAIAghhx3QgAAQIbYHHdCAAAA7Codd0IAAMBRfR13QgAAgLfPHXdCAABAHSIed0IAAACDdB53QgAAwOjGHndCAACAThkfd0IAAEC0ax93QgAAABq+H3dCAADAfxAgd0IAAIDlYiB3QgAAQEu1IHdCAAAAsQchd0IAAMAWWiF3QgAAgHysIXdCAABA4v4hd0IAAABIUSJ3QgAAwK2jIndCAACAE/Yid0IAAEB5SCN3QgAAAN+aI3dCAADARO0jd0IAAICqPyR3QgAAQBCSJHdCAAAAduQkd0IAAMDbNiV3QgAAgEGJJXdCAABAp9sld0IAAAANLiZ3QgAAwHKAJndCAACA2NImd0IAAEA+JSd3QgAAAKR3J3dCAADACcond0IAAIBvHCh3QgAAQNVuKHdCAAAAO8Eod0IAAMCgEyl3QgAAgAZmKXdCAABAbLgpd0IAAADSCip3QgAAwDddKndCAACAna8qd0IAAEADAit3QgAAAGlUK3dCAADAzqYrd0IAAIA0+St3QgAAQJpLLHdCAAAAAJ4sd0IAAMBl8Cx3QgAAgMtCLXdCAABAMZUtd0IAAACX5y13QgAAwPw5LndCAACAYowud0IAAEDI3i53QgAAAC4xL3dCAADAk4Mvd0IAAID51S93QgAAQF8oMHdCAAAAxXowd0IAAMAqzTB3QgAAgJAfMXdCAABA9nExd0IAAABcxDF3QgAAwMEWMndCAACAJ2kyd0I=\",\"dtype\":\"float64\",\"shape\":[121]},\"y\":[5383.6596092904065,11586.586976529454,6256.115115649222,2921.658124836654,2995.3696834950824,2438.049970074125,3280.8262087779594,4171.791660983626,4628.839818312201,5780.657588128703,6402.286367116678,8338.126960653863,13438.041684871727,15673.024214700494,13988.73415496513,13983.069050433938,13643.268016949949,13280.422296375873,14541.035426240474,15948.31868212823,16919.447900144303,17624.14409613583,18427.57334674624,19024.31686659782,19595.446211927356,20492.703154545885,21108.5383707799,20826.538772937543,20749.062497024675,20941.22539593412,21105.43169556148,21602.86770287848,22532.032375414285,23553.98317175984,24188.844519767543,25240.951466661896,26808.0719035675,28665.271023131954,30936.49184458559,33695.962544052265,34834.49868458522,34064.377627766225,33887.82027534752,34098.426117585965,33838.70772885899,34120.71784750253,34013.01934670106,33912.26043688998,32554.455468747023,32205.915752532,32344.579720552705,32404.129983801267,32285.390477842815,32204.853289620547,32787.837743913165,32806.5573498251,32829.535005267986,33128.684259480826,33957.756442907164,35239.37223176212,36228.026855982396,36193.92159191195,34944.57172641624,34525.59559431845,34290.856415843744,34014.02741872075,34256.298341342124,35176.15740591003,36767.556446592695,35628.519323998466,34959.908708032715,35175.56304992349,36291.63567847923,36623.77439868876,36215.77365308548,35420.11882097668,34541.41659772791,34133.82886880968,33922.29753387945,33996.16777848686,34203.53529120357,34344.359642770425,34376.56052032992,34402.71447145229,34395.08631828215,34639.58687636816,35049.515930923386,35818.66126514765,36753.582348162876,37068.83604223238,35975.02534544718,35940.17360065014,36254.82556907301,37532.14911399668,37416.92357068681,37867.42164332909,40116.05744946298,37720.211275745474,35983.209634172876,35363.48992105854,35180.62730219532,35252.09386316814,35327.25790264103,35385.09970192637,35305.8909468437,35283.93612344877,35258.455485397484]},\"selected\":{\"id\":\"21927\"},\"selection_policy\":{\"id\":\"21928\"}},\"id\":\"21887\",\"type\":\"ColumnDataSource\"},{\"attributes\":{},\"id\":\"21873\",\"type\":\"PanTool\"},{\"attributes\":{},\"id\":\"21874\",\"type\":\"WheelZoomTool\"},{\"attributes\":{\"overlay\":{\"id\":\"21879\"}},\"id\":\"21875\",\"type\":\"BoxZoomTool\"},{\"attributes\":{},\"id\":\"21876\",\"type\":\"SaveTool\"},{\"attributes\":{\"data\":{\"x\":{\"__ndarray__\":\"AACAdckLd0IAAEDbGwx3QgAAAEFuDHdCAADApsAMd0IAAIAMEw13QgAAQHJlDXdCAAAA2LcNd0IAAMA9Cg53QgAAgKNcDndCAABACa8Od0IAAABvAQ93QgAAwNRTD3dCAACAOqYPd0IAAECg+A93QgAAAAZLEHdCAADAa50Qd0IAAIDR7xB3QgAAQDdCEXdCAAAAnZQRd0IAAMAC5xF3QgAAgGg5EndCAABAzosSd0IAAAA03hJ3QgAAwJkwE3dCAACA/4ITd0IAAEBl1RN3QgAAAMsnFHdCAADAMHoUd0IAAICWzBR3QgAAQPweFXdCAAAAYnEVd0IAAMDHwxV3QgAAgC0WFndCAABAk2gWd0IAAAD5uhZ3QgAAwF4NF3dCAACAxF8Xd0IAAEAqshd3QgAAAJAEGHdCAADA9VYYd0IAAIBbqRh3QgAAQMH7GHdCAAAAJ04Zd0IAAMCMoBl3QgAAgPLyGXdCAABAWEUad0IAAAC+lxp3QgAAwCPqGndCAACAiTwbd0IAAEDvjht3QgAAAFXhG3dCAADAujMcd0IAAIAghhx3QgAAQIbYHHdCAAAA7Codd0IAAMBRfR13QgAAgLfPHXdCAABAHSIed0IAAACDdB53QgAAwOjGHndCAACAThkfd0IAAEC0ax93QgAAABq+H3dCAADAfxAgd0IAAIDlYiB3QgAAQEu1IHdCAAAAsQchd0IAAMAWWiF3QgAAgHysIXdCAABA4v4hd0IAAABIUSJ3QgAAwK2jIndCAACAE/Yid0IAAEB5SCN3QgAAAN+aI3dCAADARO0jd0IAAICqPyR3QgAAQBCSJHdCAAAAduQkd0IAAMDbNiV3QgAAgEGJJXdCAABAp9sld0IAAAANLiZ3QgAAwHKAJndCAACA2NImd0IAAEA+JSd3QgAAAKR3J3dCAADACcond0IAAIBvHCh3QgAAQNVuKHdCAAAAO8Eod0IAAMCgEyl3QgAAgAZmKXdCAABAbLgpd0IAAADSCip3QgAAwDddKndCAACAna8qd0IAAEADAit3QgAAAGlUK3dCAADAzqYrd0IAAIA0+St3QgAAQJpLLHdCAAAAAJ4sd0IAAMBl8Cx3QgAAgMtCLXdCAABAMZUtd0IAAACX5y13QgAAwPw5LndCAACAYowud0IAAEDI3i53QgAAAC4xL3dCAADAk4Mvd0IAAID51S93QgAAQF8oMHdCAAAAxXowd0IAAMAqzTB3QgAAgJAfMXdCAABA9nExd0IAAABcxDF3QgAAwMEWMndCAACAJ2kyd0I=\",\"dtype\":\"float64\",\"shape\":[121]},\"y\":[-4358.905247571917,-14120.39483407201,2256.4607062038435,2403.3214646692627,2677.7179869757547,2289.1290588801157,2937.738021134286,3692.5255086096886,4206.900361521503,5169.782328774242,5847.528051515605,7359.83744026194,10483.794725109718,13020.326598824908,12495.60809293336,12954.5662282337,12918.071523762248,12757.569789911426,13841.749697368303,15063.211781414504,16072.050994428171,16829.984794623924,17652.199686559252,18340.91557464026,18984.026812631688,20007.84147273864,20775.078401281302,20533.952589191504,20510.781672359968,20705.10551038068,20870.184330317235,21297.8896565542,22211.689601508995,23107.515588845436,23707.290488433628,24693.836758640104,26116.879865798055,27741.41241016965,29928.33287406333,32672.129564193732,33864.890144155164,33176.295737793465,33046.01842665461,33271.483690580484,33091.801842598885,33374.40946012584,33318.23687719721,33266.20463898991,32123.35521222736,31787.144294397185,31931.766272617366,31999.522092594023,31908.35960527839,31846.29588783603,32219.8292622328,32255.48143644971,32286.544241931435,32577.422411826105,33213.517512222345,34195.438815370755,34926.07149855916,34920.05302314661,34086.15606285582,33764.94994955339,33582.42901284254,33401.585839313135,33571.304069982936,34107.64377066333,35059.16383178488,34609.57714857876,34198.02208278279,34347.298843334764,35184.64684582351,35391.40670089574,35175.756852375336,34769.35214634862,34197.854430091844,33914.82419649875,33759.191225891605,33818.94729039943,34005.62892490571,34120.98333366906,34148.94755918091,34172.93902681585,34174.47726962965,34363.388993574226,34683.401957290196,35234.95841014156,35726.671401268766,35849.205536033915,35487.17764856074,35469.548419197636,35642.79244539742,36307.401363114615,36260.9728429865,36464.41685022582,37074.9718904153,36556.31813404007,35619.77939535001,35189.78972599494,35049.40211274665,35099.794423295294,35149.33962139541,35185.65971253865,35142.38556850144,35125.01839780668,35099.733098733384]},\"selected\":{\"id\":\"22586\"},\"selection_policy\":{\"id\":\"22587\"}},\"id\":\"21982\",\"type\":\"ColumnDataSource\"},{\"attributes\":{},\"id\":\"21877\",\"type\":\"ResetTool\"},{\"attributes\":{},\"id\":\"21878\",\"type\":\"HelpTool\"},{\"attributes\":{},\"id\":\"22586\",\"type\":\"Selection\"},{\"attributes\":{\"fill_color\":{\"value\":\"white\"},\"line_color\":{\"value\":\"darkviolet\"},\"size\":{\"units\":\"screen\",\"value\":5},\"x\":{\"field\":\"x\"},\"y\":{\"field\":\"y\"}},\"id\":\"21913\",\"type\":\"Circle\"},{\"attributes\":{},\"id\":\"21908\",\"type\":\"YearsTicker\"},{\"attributes\":{\"fill_alpha\":{\"value\":0.1},\"fill_color\":{\"value\":\"white\"},\"line_alpha\":{\"value\":0.1},\"line_color\":{\"value\":\"darkviolet\"},\"size\":{\"units\":\"screen\",\"value\":5},\"x\":{\"field\":\"x\"},\"y\":{\"field\":\"y\"}},\"id\":\"21914\",\"type\":\"Circle\"},{\"attributes\":{\"data\":{\"x\":{\"__ndarray__\":\"AACAdckLd0IAAEDbGwx3QgAAAEFuDHdCAADApsAMd0IAAIAMEw13QgAAQHJlDXdCAAAA2LcNd0IAAMA9Cg53QgAAgKNcDndCAABACa8Od0IAAABvAQ93QgAAwNRTD3dCAACAOqYPd0IAAECg+A93QgAAAAZLEHdCAADAa50Qd0IAAIDR7xB3QgAAQDdCEXdCAAAAnZQRd0IAAMAC5xF3QgAAgGg5EndCAABAzosSd0IAAAA03hJ3QgAAwJkwE3dCAACA/4ITd0IAAEBl1RN3QgAAAMsnFHdCAADAMHoUd0IAAICWzBR3QgAAQPweFXdCAAAAYnEVd0IAAMDHwxV3QgAAgC0WFndCAABAk2gWd0IAAAD5uhZ3QgAAwF4NF3dCAACAxF8Xd0IAAEAqshd3QgAAAJAEGHdCAADA9VYYd0IAAIBbqRh3QgAAQMH7GHdCAAAAJ04Zd0IAAMCMoBl3QgAAgPLyGXdCAABAWEUad0IAAAC+lxp3QgAAwCPqGndCAACAiTwbd0IAAEDvjht3QgAAAFXhG3dCAADAujMcd0IAAIAghhx3QgAAQIbYHHdCAAAA7Codd0IAAMBRfR13QgAAgLfPHXdCAABAHSIed0IAAACDdB53QgAAwOjGHndCAACAThkfd0IAAEC0ax93QgAAABq+H3dCAADAfxAgd0IAAIDlYiB3QgAAQEu1IHdCAAAAsQchd0IAAMAWWiF3QgAAgHysIXdCAABA4v4hd0IAAABIUSJ3QgAAwK2jIndCAACAE/Yid0IAAEB5SCN3QgAAAN+aI3dCAADARO0jd0IAAICqPyR3QgAAQBCSJHdCAAAAduQkd0IAAMDbNiV3QgAAgEGJJXdCAABAp9sld0IAAAANLiZ3QgAAwHKAJndCAACA2NImd0IAAEA+JSd3QgAAAKR3J3dCAADACcond0IAAIBvHCh3QgAAQNVuKHdCAAAAO8Eod0IAAMCgEyl3QgAAgAZmKXdCAABAbLgpd0IAAADSCip3QgAAwDddKndCAACAna8qd0IAAEADAit3QgAAAGlUK3dCAADAzqYrd0IAAIA0+St3QgAAQJpLLHdCAAAAAJ4sd0IAAMBl8Cx3QgAAgMtCLXdCAABAMZUtd0IAAACX5y13QgAAwPw5LndCAACAYowud0IAAEDI3i53QgAAAC4xL3dCAADAk4Mvd0IAAID51S93QgAAQF8oMHdCAAAAxXowd0IAAMAqzTB3QgAAgJAfMXdCAABA9nExd0IAAABcxDF3QgAAwMEWMndCAACAJ2kyd0I=\",\"dtype\":\"float64\",\"shape\":[121]},\"y\":[5383.6596092904065,11586.586976529454,6256.115115649222,2921.658124836654,2995.3696834950824,2438.049970074125,3280.8262087779594,4171.791660983626,4628.839818312201,5780.657588128703,6402.286367116678,8338.126960653863,13438.041684871727,15673.024214700494,13988.73415496513,13983.069050433938,13643.268016949949,13280.422296375873,14541.035426240474,15948.31868212823,16919.447900144303,17624.14409613583,18427.57334674624,19024.31686659782,19595.446211927356,20492.703154545885,21108.5383707799,20826.538772937543,20749.062497024675,20941.22539593412,21105.43169556148,21602.86770287848,22532.032375414285,23553.98317175984,24188.844519767543,25240.951466661896,26808.0719035675,28665.271023131954,30936.49184458559,33695.962544052265,34834.49868458522,34064.377627766225,33887.82027534752,34098.426117585965,33838.70772885899,34120.71784750253,34013.01934670106,33912.26043688998,32554.455468747023,32205.915752532,32344.579720552705,32404.129983801267,32285.390477842815,32204.853289620547,32787.837743913165,32806.5573498251,32829.535005267986,33128.684259480826,33957.756442907164,35239.37223176212,36228.026855982396,36193.92159191195,34944.57172641624,34525.59559431845,34290.856415843744,34014.02741872075,34256.298341342124,35176.15740591003,36767.556446592695,35628.519323998466,34959.908708032715,35175.56304992349,36291.63567847923,36623.77439868876,36215.77365308548,35420.11882097668,34541.41659772791,34133.82886880968,33922.29753387945,33996.16777848686,34203.53529120357,34344.359642770425,34376.56052032992,34402.71447145229,34395.08631828215,34639.58687636816,35049.515930923386,35818.66126514765,36753.582348162876,37068.83604223238,35975.02534544718,35940.17360065014,36254.82556907301,37532.14911399668,37416.92357068681,37867.42164332909,40116.05744946298,37720.211275745474,35983.209634172876,35363.48992105854,35180.62730219532,35252.09386316814,35327.25790264103,35385.09970192637,35305.8909468437,35283.93612344877,35258.455485397484]},\"selected\":{\"id\":\"21929\"},\"selection_policy\":{\"id\":\"21930\"}},\"id\":\"21912\",\"type\":\"ColumnDataSource\"},{\"attributes\":{\"data\":{\"x\":{\"__ndarray__\":\"AACAdckLd0IAAEDbGwx3QgAAAEFuDHdCAADApsAMd0IAAIAMEw13QgAAQHJlDXdCAAAA2LcNd0IAAMA9Cg53QgAAgKNcDndCAABACa8Od0IAAABvAQ93QgAAwNRTD3dCAACAOqYPd0IAAECg+A93QgAAAAZLEHdCAADAa50Qd0IAAIDR7xB3QgAAQDdCEXdCAAAAnZQRd0IAAMAC5xF3QgAAgGg5EndCAABAzosSd0IAAAA03hJ3QgAAwJkwE3dCAACA/4ITd0IAAEBl1RN3QgAAAMsnFHdCAADAMHoUd0IAAICWzBR3QgAAQPweFXdCAAAAYnEVd0IAAMDHwxV3QgAAgC0WFndCAABAk2gWd0IAAAD5uhZ3QgAAwF4NF3dCAACAxF8Xd0IAAEAqshd3QgAAAJAEGHdCAADA9VYYd0IAAIBbqRh3QgAAQMH7GHdCAAAAJ04Zd0IAAMCMoBl3QgAAgPLyGXdCAABAWEUad0IAAAC+lxp3QgAAwCPqGndCAACAiTwbd0IAAEDvjht3QgAAAFXhG3dCAADAujMcd0IAAIAghhx3QgAAQIbYHHdCAAAA7Codd0IAAMBRfR13QgAAgLfPHXdCAABAHSIed0IAAACDdB53QgAAwOjGHndCAACAThkfd0IAAEC0ax93QgAAABq+H3dCAADAfxAgd0IAAIDlYiB3QgAAQEu1IHdCAAAAsQchd0IAAMAWWiF3QgAAgHysIXdCAABA4v4hd0IAAABIUSJ3QgAAwK2jIndCAACAE/Yid0IAAEB5SCN3QgAAAN+aI3dCAADARO0jd0IAAICqPyR3QgAAQBCSJHdCAAAAduQkd0IAAMDbNiV3QgAAgEGJJXdCAABAp9sld0IAAAANLiZ3QgAAwHKAJndCAACA2NImd0IAAEA+JSd3QgAAAKR3J3dCAADACcond0IAAIBvHCh3QgAAQNVuKHdCAAAAO8Eod0IAAMCgEyl3QgAAgAZmKXdCAABAbLgpd0IAAADSCip3QgAAwDddKndCAACAna8qd0IAAEADAit3QgAAAGlUK3dCAADAzqYrd0IAAIA0+St3QgAAQJpLLHdCAAAAAJ4sd0IAAMBl8Cx3QgAAgMtCLXdCAABAMZUtd0IAAACX5y13QgAAwPw5LndCAACAYowud0IAAEDI3i53QgAAAC4xL3dCAADAk4Mvd0IAAID51S93QgAAQF8oMHdCAAAAxXowd0IAAMAqzTB3QgAAgJAfMXdCAABA9nExd0IAAABcxDF3QgAAwMEWMndCAACAJ2kyd0I=\",\"dtype\":\"float64\",\"shape\":[121]},\"y\":[15126.22446615273,37293.56878713092,10255.769525094602,3439.9947850040458,3313.02138001441,2586.9708812681347,3623.914396421633,4651.057813357563,5050.779275102898,6391.532847483163,6957.044682717751,9316.416481045784,16392.288644633736,18325.72183057608,15481.8602169969,15011.571872634177,14368.46451013765,13803.27480284032,15240.321155112646,16833.425582841955,17766.844805860437,18418.303397647738,19202.94700693323,19707.718158555377,20206.865611223024,20977.56483635313,21441.9983402785,21119.124956683583,20987.343321689383,21177.345281487564,21340.679060805727,21907.84574920276,22852.375149319574,24000.450754674242,24670.398551101458,25788.06617468369,27499.263941336943,29589.129636094258,31944.650815107852,34719.7955239108,35804.10722501527,34952.459517738986,34729.62212404043,34925.368544591445,34585.6136151191,34867.02623487922,34707.80181620491,34558.31623479004,32985.555725266684,32624.687210666816,32757.393168488044,32808.73787500851,32662.42135040724,32563.410691405064,33355.84622559353,33357.63326320049,33372.52576860454,33679.94610713555,34701.995373591984,36283.30564815349,37529.98221340563,37467.790160677294,35802.98738997665,35286.241239083516,34999.283818844946,34626.46899812836,34941.29261270131,36244.67104115673,38475.94906140051,36647.46149941817,35721.795333282644,36003.82725651222,37398.62451113495,37856.14209648177,37255.79045379563,36070.885495604736,34884.97876536398,34352.83354112061,34085.40384186729,34173.388266574286,34401.441657501426,34567.73595187179,34604.17348147893,34632.48991608872,34615.69536693465,34915.78475916209,35415.629904556576,36402.36412015375,37780.493295056986,38288.46654843085,36462.873042333624,36410.79878210264,36866.858692748596,38756.89686487875,38572.87429838713,39270.42643643237,43157.143008510655,38884.10441745088,36346.639872995744,35537.19011612215,35311.852491643986,35404.39330304099,35505.17618388665,35584.53969131409,35469.39632518595,35442.85384909087,35417.177872061584]},\"selected\":{\"id\":\"21964\"},\"selection_policy\":{\"id\":\"21965\"}},\"id\":\"21917\",\"type\":\"ColumnDataSource\"},{\"attributes\":{\"label\":{\"value\":\"total deaths max\"},\"renderers\":[{\"id\":\"21890\"}]},\"id\":\"21911\",\"type\":\"LegendItem\"},{\"attributes\":{\"label\":{\"value\":\"total deaths max UP\"},\"renderers\":[{\"id\":\"21920\"}]},\"id\":\"21944\",\"type\":\"LegendItem\"},{\"attributes\":{\"axis_label\":\"Date\",\"formatter\":{\"id\":\"21987\"},\"major_label_orientation\":0.7853981633974483,\"minor_tick_in\":-5,\"minor_tick_out\":-3,\"ticker\":{\"id\":\"21866\"}},\"id\":\"21865\",\"type\":\"DatetimeAxis\"},{\"attributes\":{\"months\":[0,6]},\"id\":\"21907\",\"type\":\"MonthsTicker\"},{\"attributes\":{\"bottom_units\":\"screen\",\"fill_alpha\":0.5,\"fill_color\":\"lightgrey\",\"left_units\":\"screen\",\"level\":\"overlay\",\"line_alpha\":1.0,\"line_color\":\"black\",\"line_dash\":[4,4],\"line_width\":2,\"render_mode\":\"css\",\"right_units\":\"screen\",\"top_units\":\"screen\"},\"id\":\"21879\",\"type\":\"BoxAnnotation\"},{\"attributes\":{},\"id\":\"22587\",\"type\":\"UnionRenderers\"},{\"attributes\":{\"mantissas\":[1,2,5],\"max_interval\":500.0,\"num_minor_ticks\":0},\"id\":\"21897\",\"type\":\"AdaptiveTicker\"},{\"attributes\":{\"items\":[{\"id\":\"21911\"},{\"id\":\"21944\"},{\"id\":\"21981\"}],\"location\":\"bottom_right\"},\"id\":\"21910\",\"type\":\"Legend\"},{\"attributes\":{\"line_alpha\":0.1,\"line_color\":\"darkviolet\",\"line_width\":4,\"x\":{\"field\":\"x\"},\"y\":{\"field\":\"y\"}},\"id\":\"21889\",\"type\":\"Line\"}],\"root_ids\":[\"21854\"]},\"title\":\"Bokeh Application\",\"version\":\"2.0.2\"}};\n",
       "  var render_items = [{\"docid\":\"54468ef7-740f-4dbc-951f-7a4884d81884\",\"root_ids\":[\"21854\"],\"roots\":{\"21854\":\"af2bb54c-442b-48cc-87ce-08ba95ab1037\"}}];\n",
       "  root.Bokeh.embed.embed_items_notebook(docs_json, render_items);\n",
       "\n",
       "  }\n",
       "  if (root.Bokeh !== undefined) {\n",
       "    embed_document(root);\n",
       "  } else {\n",
       "    var attempts = 0;\n",
       "    var timer = setInterval(function(root) {\n",
       "      if (root.Bokeh !== undefined) {\n",
       "        clearInterval(timer);\n",
       "        embed_document(root);\n",
       "      } else {\n",
       "        attempts++;\n",
       "        if (attempts > 100) {\n",
       "          clearInterval(timer);\n",
       "          console.log(\"Bokeh: ERROR: Unable to run BokehJS code because BokehJS library is missing\");\n",
       "        }\n",
       "      }\n",
       "    }, 10, root)\n",
       "  }\n",
       "})(window);"
      ],
      "application/vnd.bokehjs_exec.v0+json": ""
     },
     "metadata": {
      "application/vnd.bokehjs_exec.v0+json": {
       "id": "21854"
      }
     },
     "output_type": "display_data"
    }
   ],
   "source": [
    "p_total_deaths_MAX_2_Italy = bokeh_plot_N_lines(x=time_date_new + 14, y_list=[max_deaths,max_deaths_up,max_deaths_down], \n",
    "                  title='Total Deaths MAX: Italy', \n",
    "                  dim=[600, 450], \n",
    "                  x_label='Date', \n",
    "                  y_label='Total Deaths MAX', legend_list=['total deaths max','total deaths max UP','total deaths max DOWN'],\n",
    "                  x_label_hover='date', y_label_hover='total deaths max/UP/DOWN',\n",
    "                  color_list=['darkviolet','lightcoral','lightblue'],legend_location=\"bottom_right\", y_minmax=None)\n",
    "\n",
    "output_file(\"total_deaths_MAX_2_Italy.html\")\n",
    "\n",
    "show(p_total_deaths_MAX_2_Italy)"
   ]
  },
  {
   "cell_type": "markdown",
   "metadata": {},
   "source": [
    "------------------\n",
    "\n",
    "------------------\n",
    "\n",
    "------------------"
   ]
  },
  {
   "cell_type": "markdown",
   "metadata": {},
   "source": [
    "### ----- Gamma Distribution Fitting -----"
   ]
  },
  {
   "cell_type": "code",
   "execution_count": 101,
   "metadata": {},
   "outputs": [
    {
     "name": "stderr",
     "output_type": "stream",
     "text": [
      "/Users/Angelo/opt/anaconda3/lib/python3.7/site-packages/ipykernel_launcher.py:12: RuntimeWarning: overflow encountered in multiply\n",
      "  if sys.path[0] == '':\n",
      "/Users/Angelo/opt/anaconda3/lib/python3.7/site-packages/ipykernel_launcher.py:12: RuntimeWarning: invalid value encountered in multiply\n",
      "  if sys.path[0] == '':\n"
     ]
    },
    {
     "data": {
      "text/plain": [
       "(3.634602748681392, -0.10722077960061398, 234572.50092405657)"
      ]
     },
     "execution_count": 101,
     "metadata": {},
     "output_type": "execute_result"
    }
   ],
   "source": [
    "fit_range_5 = len(nuovi_positivi_italy)   \n",
    "xdata_4 = np.linspace(1, fit_range_5, fit_range_5)\n",
    "# init_guess = [1,0.15,20000]\n",
    "# init_guess = [6,1,500000]\n",
    "fit = curve_fit(model_Gamma_distribution, xdata_4, nuovi_positivi_italy.loc[0:(fit_range_5-1)])\n",
    "ans, cov = fit\n",
    "fit_alpha, fit_beta, fit_Kmax = ans\n",
    "fit_alpha, fit_beta, fit_Kmax"
   ]
  },
  {
   "cell_type": "code",
   "execution_count": 102,
   "metadata": {},
   "outputs": [
    {
     "data": {
      "text/plain": [
       "array([[ 3.27635730e-02, -8.49896831e-04, -4.37207787e+02],\n",
       "       [-8.49896831e-04,  2.34302561e-05,  1.28553214e+01],\n",
       "       [-4.37207787e+02,  1.28553214e+01,  2.11733211e+07]])"
      ]
     },
     "execution_count": 102,
     "metadata": {},
     "output_type": "execute_result"
    }
   ],
   "source": [
    "cov"
   ]
  },
  {
   "cell_type": "code",
   "execution_count": 103,
   "metadata": {},
   "outputs": [
    {
     "data": {
      "text/plain": [
       "array([1.81007108e-01, 4.84048098e-03, 4.60144771e+03])"
      ]
     },
     "execution_count": 103,
     "metadata": {},
     "output_type": "execute_result"
    }
   ],
   "source": [
    "np.sqrt(np.diag(cov))"
   ]
  },
  {
   "cell_type": "code",
   "execution_count": 104,
   "metadata": {},
   "outputs": [
    {
     "data": {
      "text/plain": [
       "array([4.80438997e-01, 5.36040136e+00, 2.10210154e+01, 5.37267997e+01,\n",
       "       1.08606290e+02, 1.89270078e+02, 2.97742995e+02, 4.34564104e+02,\n",
       "       5.98973427e+02, 7.89137105e+02, 1.00238149e+03, 1.23541836e+03,\n",
       "       1.48455095e+03, 1.74585533e+03, 2.01533512e+03, 2.28904935e+03,\n",
       "       2.56321477e+03, 2.83428468e+03, 3.09900682e+03, 3.35446283e+03,\n",
       "       3.59809210e+03, 3.82770241e+03, 4.04146985e+03, 4.23793008e+03,\n",
       "       4.41596293e+03, 4.57477194e+03, 4.71386029e+03, 4.83300452e+03,\n",
       "       4.93222673e+03, 5.01176651e+03, 5.07205291e+03, 5.11367731e+03,\n",
       "       5.13736731e+03, 5.14396218e+03, 5.13438996e+03, 5.10964639e+03,\n",
       "       5.07077573e+03, 5.01885347e+03, 4.95497097e+03, 4.88022197e+03,\n",
       "       4.79569079e+03, 4.70244229e+03, 4.60151336e+03, 4.49390587e+03,\n",
       "       4.38058094e+03, 4.26245449e+03, 4.14039378e+03, 4.01521501e+03,\n",
       "       3.88768178e+03, 3.75850425e+03, 3.62833903e+03, 3.49778960e+03,\n",
       "       3.36740719e+03, 3.23769212e+03, 3.10909540e+03, 2.98202067e+03,\n",
       "       2.85682623e+03, 2.73382737e+03, 2.61329869e+03, 2.49547654e+03,\n",
       "       2.38056148e+03, 2.26872076e+03, 2.16009075e+03, 2.05477936e+03,\n",
       "       1.95286838e+03, 1.85441572e+03, 1.75945764e+03, 1.66801079e+03,\n",
       "       1.58007424e+03, 1.49563131e+03, 1.41465139e+03, 1.33709157e+03,\n",
       "       1.26289822e+03, 1.19200840e+03, 1.12435122e+03, 1.05984910e+03,\n",
       "       9.98418833e+02, 9.39972699e+02, 8.84419369e+02, 8.31664777e+02,\n",
       "       7.81612890e+02, 7.34166414e+02, 6.89227411e+02, 6.46697856e+02,\n",
       "       6.06480130e+02, 5.68477449e+02, 5.32594242e+02, 4.98736476e+02,\n",
       "       4.66811934e+02, 4.36730455e+02, 4.08404123e+02, 3.81747437e+02,\n",
       "       3.56677438e+02, 3.33113804e+02, 3.10978933e+02, 2.90197987e+02,\n",
       "       2.70698929e+02, 2.52412528e+02, 2.35272360e+02, 2.19214789e+02,\n",
       "       2.04178935e+02, 1.90106634e+02, 1.76942387e+02, 1.64633306e+02,\n",
       "       1.53129043e+02, 1.42381728e+02, 1.32345890e+02, 1.22978383e+02,\n",
       "       1.14238309e+02, 1.06086931e+02, 9.84875991e+01, 9.14056612e+01,\n",
       "       8.48083859e+01, 7.86648787e+01, 7.29460018e+01, 6.76242945e+01,\n",
       "       6.26738956e+01, 5.80704669e+01, 5.37911188e+01, 4.98143382e+01,\n",
       "       4.61199186e+01])"
      ]
     },
     "execution_count": 104,
     "metadata": {},
     "output_type": "execute_result"
    }
   ],
   "source": [
    "ydata_4 = model_Gamma_distribution(xdata_4,fit_alpha,fit_beta,fit_Kmax)\n",
    "ydata_4"
   ]
  },
  {
   "cell_type": "code",
   "execution_count": 105,
   "metadata": {},
   "outputs": [
    {
     "data": {
      "text/html": [
       "\n",
       "\n",
       "\n",
       "\n",
       "\n",
       "\n",
       "  <div class=\"bk-root\" id=\"b34a59a5-ba4c-4041-b5f1-11652a6e1b30\" data-root-id=\"23134\"></div>\n"
      ]
     },
     "metadata": {},
     "output_type": "display_data"
    },
    {
     "data": {
      "application/javascript": [
       "(function(root) {\n",
       "  function embed_document(root) {\n",
       "    \n",
       "  var docs_json = {\"4d12df1d-ce64-4cec-a366-8fd14a68e609\":{\"roots\":{\"references\":[{\"attributes\":{\"below\":[{\"id\":\"23145\"}],\"center\":[{\"id\":\"23148\"},{\"id\":\"23152\"},{\"id\":\"23190\"}],\"left\":[{\"id\":\"23149\"}],\"plot_height\":450,\"renderers\":[{\"id\":\"23170\"},{\"id\":\"23195\"},{\"id\":\"23200\"},{\"id\":\"23228\"}],\"title\":{\"id\":\"23135\"},\"toolbar\":{\"id\":\"23160\"},\"x_range\":{\"id\":\"23137\"},\"x_scale\":{\"id\":\"23141\"},\"y_range\":{\"id\":\"23139\"},\"y_scale\":{\"id\":\"23143\"}},\"id\":\"23134\",\"subtype\":\"Figure\",\"type\":\"Plot\"},{\"attributes\":{\"line_alpha\":0.1,\"line_color\":\"red\",\"line_width\":4,\"x\":{\"field\":\"x\"},\"y\":{\"field\":\"y\"}},\"id\":\"23199\",\"type\":\"Line\"},{\"attributes\":{\"label\":{\"value\":\"Gamma fitting\"},\"renderers\":[{\"id\":\"23200\"}]},\"id\":\"23224\",\"type\":\"LegendItem\"},{\"attributes\":{\"bottom_units\":\"screen\",\"fill_alpha\":0.5,\"fill_color\":\"lightgrey\",\"left_units\":\"screen\",\"level\":\"overlay\",\"line_alpha\":1.0,\"line_color\":\"black\",\"line_dash\":[4,4],\"line_width\":2,\"render_mode\":\"css\",\"right_units\":\"screen\",\"top_units\":\"screen\"},\"id\":\"23159\",\"type\":\"BoxAnnotation\"},{\"attributes\":{},\"id\":\"23209\",\"type\":\"Selection\"},{\"attributes\":{\"num_minor_ticks\":5,\"tickers\":[{\"id\":\"23177\"},{\"id\":\"23178\"},{\"id\":\"23179\"},{\"id\":\"23180\"},{\"id\":\"23181\"},{\"id\":\"23182\"},{\"id\":\"23183\"},{\"id\":\"23184\"},{\"id\":\"23185\"},{\"id\":\"23186\"},{\"id\":\"23187\"},{\"id\":\"23188\"}]},\"id\":\"23146\",\"type\":\"DatetimeTicker\"},{\"attributes\":{\"months\":[0,6]},\"id\":\"23187\",\"type\":\"MonthsTicker\"},{\"attributes\":{\"axis_label\":\"Date\",\"formatter\":{\"id\":\"23230\"},\"major_label_orientation\":0.7853981633974483,\"minor_tick_in\":-5,\"minor_tick_out\":-3,\"ticker\":{\"id\":\"23146\"}},\"id\":\"23145\",\"type\":\"DatetimeAxis\"},{\"attributes\":{\"months\":[0,2,4,6,8,10]},\"id\":\"23185\",\"type\":\"MonthsTicker\"},{\"attributes\":{},\"id\":\"23150\",\"type\":\"BasicTicker\"},{\"attributes\":{\"data_source\":{\"id\":\"23225\"},\"glyph\":{\"id\":\"23226\"},\"hover_glyph\":null,\"muted_glyph\":null,\"nonselection_glyph\":{\"id\":\"23227\"},\"selection_glyph\":null,\"view\":{\"id\":\"23229\"}},\"id\":\"23228\",\"type\":\"GlyphRenderer\"},{\"attributes\":{},\"id\":\"23855\",\"type\":\"UnionRenderers\"},{\"attributes\":{\"axis\":{\"id\":\"23149\"},\"dimension\":1,\"ticker\":null},\"id\":\"23152\",\"type\":\"Grid\"},{\"attributes\":{\"axis_label\":\"New Positive\",\"formatter\":{\"id\":\"23234\"},\"minor_tick_in\":-5,\"minor_tick_out\":-3,\"ticker\":{\"id\":\"23150\"}},\"id\":\"23149\",\"type\":\"LinearAxis\"},{\"attributes\":{\"days\":[\"%d %B\"]},\"id\":\"23230\",\"type\":\"DatetimeTickFormatter\"},{\"attributes\":{},\"id\":\"23143\",\"type\":\"LinearScale\"},{\"attributes\":{\"data\":{\"x\":{\"__ndarray__\":\"AAAA5UcHd0IAAMBKmgd3QgAAgLDsB3dCAABAFj8Id0IAAAB8kQh3QgAAwOHjCHdCAACARzYJd0IAAECtiAl3QgAAABPbCXdCAADAeC0Kd0IAAIDefwp3QgAAQETSCndCAAAAqiQLd0IAAMAPdwt3QgAAgHXJC3dCAABA2xsMd0IAAABBbgx3QgAAwKbADHdCAACADBMNd0IAAEByZQ13QgAAANi3DXdCAADAPQoOd0IAAICjXA53QgAAQAmvDndCAAAAbwEPd0IAAMDUUw93QgAAgDqmD3dCAABAoPgPd0IAAAAGSxB3QgAAwGudEHdCAACA0e8Qd0IAAEA3QhF3QgAAAJ2UEXdCAADAAucRd0IAAIBoORJ3QgAAQM6LEndCAAAANN4Sd0IAAMCZMBN3QgAAgP+CE3dCAABAZdUTd0IAAADLJxR3QgAAwDB6FHdCAACAlswUd0IAAED8HhV3QgAAAGJxFXdCAADAx8MVd0IAAIAtFhZ3QgAAQJNoFndCAAAA+boWd0IAAMBeDRd3QgAAgMRfF3dCAABAKrIXd0IAAACQBBh3QgAAwPVWGHdCAACAW6kYd0IAAEDB+xh3QgAAACdOGXdCAADAjKAZd0IAAIDy8hl3QgAAQFhFGndCAAAAvpcad0IAAMAj6hp3QgAAgIk8G3dCAABA744bd0IAAABV4Rt3QgAAwLozHHdCAACAIIYcd0IAAECG2Bx3QgAAAOwqHXdCAADAUX0dd0IAAIC3zx13QgAAQB0iHndCAAAAg3Qed0IAAMDoxh53QgAAgE4ZH3dCAABAtGsfd0IAAAAavh93QgAAwH8QIHdCAACA5WIgd0IAAEBLtSB3QgAAALEHIXdCAADAFlohd0IAAIB8rCF3QgAAQOL+IXdCAAAASFEid0IAAMCtoyJ3QgAAgBP2IndCAABAeUgjd0IAAADfmiN3QgAAwETtI3dCAACAqj8kd0IAAEAQkiR3QgAAAHbkJHdCAADA2zYld0IAAIBBiSV3QgAAQKfbJXdCAAAADS4md0IAAMBygCZ3QgAAgNjSJndCAABAPiUnd0IAAACkdyd3QgAAwAnKJ3dCAACAbxwod0IAAEDVbih3QgAAADvBKHdCAADAoBMpd0IAAIAGZil3QgAAQGy4KXdCAAAA0goqd0IAAMA3XSp3QgAAgJ2vKndCAABAAwIrd0IAAABpVCt3QgAAwM6mK3dCAACANPkrd0IAAECaSyx3QgAAAACeLHdCAADAZfAsd0IAAIDLQi13QgAAQDGVLXdCAAAAl+ctd0I=\",\"dtype\":\"float64\",\"shape\":[121]},\"y\":[221,93,78,250,238,240,566,342,466,587,769,778,1247,1492,1797,977,2313,2651,2547,3497,3590,3233,3526,4207,5322,5986,6557,5560,4789,5249,5210,6153,5959,5974,5217,4050,4053,4782,4668,4585,4805,4316,3599,3039,3836,4204,3951,4694,4092,3153,2972,2667,3786,3493,3491,3047,2256,2729,3370,2646,3021,2357,2324,1739,2091,2086,1872,1965,1900,1389,1221,1075,1444,1401,1327,1083,802,744,1402,888,992,789,875,675,451,813,665,642,652,669,531,300,397,584,593,516,416,355,178,318,321,177,518,270,197,280,283,202,379,163,346,338,303,210,329,333,251,262,224,218,122]},\"selected\":{\"id\":\"23207\"},\"selection_policy\":{\"id\":\"23208\"}},\"id\":\"23167\",\"type\":\"ColumnDataSource\"},{\"attributes\":{\"fill_alpha\":{\"value\":0.1},\"fill_color\":{\"value\":\"white\"},\"line_alpha\":{\"value\":0.1},\"line_color\":{\"value\":\"blue\"},\"size\":{\"units\":\"screen\",\"value\":6},\"x\":{\"field\":\"x\"},\"y\":{\"field\":\"y\"}},\"id\":\"23194\",\"type\":\"Circle\"},{\"attributes\":{\"fill_color\":{\"value\":\"white\"},\"line_color\":{\"value\":\"red\"},\"size\":{\"units\":\"screen\",\"value\":6},\"x\":{\"field\":\"x\"},\"y\":{\"field\":\"y\"}},\"id\":\"23226\",\"type\":\"Circle\"},{\"attributes\":{\"data_source\":{\"id\":\"23192\"},\"glyph\":{\"id\":\"23193\"},\"hover_glyph\":null,\"muted_glyph\":null,\"nonselection_glyph\":{\"id\":\"23194\"},\"selection_glyph\":null,\"view\":{\"id\":\"23196\"}},\"id\":\"23195\",\"type\":\"GlyphRenderer\"},{\"attributes\":{},\"id\":\"23234\",\"type\":\"NumeralTickFormatter\"},{\"attributes\":{\"data_source\":{\"id\":\"23197\"},\"glyph\":{\"id\":\"23198\"},\"hover_glyph\":null,\"muted_glyph\":null,\"nonselection_glyph\":{\"id\":\"23199\"},\"selection_glyph\":null,\"view\":{\"id\":\"23201\"}},\"id\":\"23200\",\"type\":\"GlyphRenderer\"},{\"attributes\":{\"data_source\":{\"id\":\"23167\"},\"glyph\":{\"id\":\"23168\"},\"hover_glyph\":null,\"muted_glyph\":null,\"nonselection_glyph\":{\"id\":\"23169\"},\"selection_glyph\":null,\"view\":{\"id\":\"23171\"}},\"id\":\"23170\",\"type\":\"GlyphRenderer\"},{\"attributes\":{\"source\":{\"id\":\"23225\"}},\"id\":\"23229\",\"type\":\"CDSView\"},{\"attributes\":{\"mantissas\":[1,2,5],\"max_interval\":500.0,\"num_minor_ticks\":0},\"id\":\"23177\",\"type\":\"AdaptiveTicker\"},{\"attributes\":{\"fill_color\":{\"value\":\"white\"},\"line_color\":{\"value\":\"blue\"},\"size\":{\"units\":\"screen\",\"value\":6},\"x\":{\"field\":\"x\"},\"y\":{\"field\":\"y\"}},\"id\":\"23193\",\"type\":\"Circle\"},{\"attributes\":{\"data\":{\"x\":{\"__ndarray__\":\"AAAA5UcHd0IAAMBKmgd3QgAAgLDsB3dCAABAFj8Id0IAAAB8kQh3QgAAwOHjCHdCAACARzYJd0IAAECtiAl3QgAAABPbCXdCAADAeC0Kd0IAAIDefwp3QgAAQETSCndCAAAAqiQLd0IAAMAPdwt3QgAAgHXJC3dCAABA2xsMd0IAAABBbgx3QgAAwKbADHdCAACADBMNd0IAAEByZQ13QgAAANi3DXdCAADAPQoOd0IAAICjXA53QgAAQAmvDndCAAAAbwEPd0IAAMDUUw93QgAAgDqmD3dCAABAoPgPd0IAAAAGSxB3QgAAwGudEHdCAACA0e8Qd0IAAEA3QhF3QgAAAJ2UEXdCAADAAucRd0IAAIBoORJ3QgAAQM6LEndCAAAANN4Sd0IAAMCZMBN3QgAAgP+CE3dCAABAZdUTd0IAAADLJxR3QgAAwDB6FHdCAACAlswUd0IAAED8HhV3QgAAAGJxFXdCAADAx8MVd0IAAIAtFhZ3QgAAQJNoFndCAAAA+boWd0IAAMBeDRd3QgAAgMRfF3dCAABAKrIXd0IAAACQBBh3QgAAwPVWGHdCAACAW6kYd0IAAEDB+xh3QgAAACdOGXdCAADAjKAZd0IAAIDy8hl3QgAAQFhFGndCAAAAvpcad0IAAMAj6hp3QgAAgIk8G3dCAABA744bd0IAAABV4Rt3QgAAwLozHHdCAACAIIYcd0IAAECG2Bx3QgAAAOwqHXdCAADAUX0dd0IAAIC3zx13QgAAQB0iHndCAAAAg3Qed0IAAMDoxh53QgAAgE4ZH3dCAABAtGsfd0IAAAAavh93QgAAwH8QIHdCAACA5WIgd0IAAEBLtSB3QgAAALEHIXdCAADAFlohd0IAAIB8rCF3QgAAQOL+IXdCAAAASFEid0IAAMCtoyJ3QgAAgBP2IndCAABAeUgjd0IAAADfmiN3QgAAwETtI3dCAACAqj8kd0IAAEAQkiR3QgAAAHbkJHdCAADA2zYld0IAAIBBiSV3QgAAQKfbJXdCAAAADS4md0IAAMBygCZ3QgAAgNjSJndCAABAPiUnd0IAAACkdyd3QgAAwAnKJ3dCAACAbxwod0IAAEDVbih3QgAAADvBKHdCAADAoBMpd0IAAIAGZil3QgAAQGy4KXdCAAAA0goqd0IAAMA3XSp3QgAAgJ2vKndCAABAAwIrd0IAAABpVCt3QgAAwM6mK3dCAACANPkrd0IAAECaSyx3QgAAAACeLHdCAADAZfAsd0IAAIDLQi13QgAAQDGVLXdCAAAAl+ctd0I=\",\"dtype\":\"float64\",\"shape\":[121]},\"y\":{\"__ndarray__\":\"ShH5NIO/3j/GuJgNDXEVQObKUENhBTVAaq3sxQfdSkAw3SF1zSZbQBLSHHqkqGdAHI0oT+ObckDUWWSSBil7QOh8TJTJt4JAoZA/yhipiEC0wJFKDVOPQLALnmesTZNAcXzCKzQyl0BLROTaa0ebQGgJMSpXfZ9AxVPbRBnioUAP/w32bQakQOlljsGRJKZAlMDPfQM2qEADX4v47DSqQH6EJSgvHKxAWkaIomfnrUDm1eiP8JKvQGoKwxnujbBARkDZgvY/sUAwzqedxd6xQKLmRzzcabJAUIQZKAHhskAXPQILOkSzQFMrtDnEk7NAYpaxiw3Qs0DKY1VkrfmzQPGm9QdeEbRACd8pUfYXtEA/rELUYw60QCsS/Hml9bNAljRMlsbOs0D7tM182pqzQCRPjpH4WrNABWLp0jgQs0B+wnXXsLuyQHFy2zlxXrJAMWePa4P5sUAEF+rm542xQIZ5w7iUHLFAuqGoWXSmsEARwtHOZCywQC+5ZBZuXq9Avv2REl1frkBzeWMtAl2tQF970pWtWKxAUzZCRpRTq0Bomvt60E6qQHbuHl1iS6lAf0ae2DBKqEBX/r6UCkynQLkPgwenUaZA8UoznadbpUCqoQ/umGqkQIrP6fzzfqNAViogeh+ZokB5AhIHcbmhQO7LvHYu4KBAB4e5CI8NoECd/5k4eYOeQIESWLOp+ZxAMfnun9R9m0BnZpYNCxCaQDBXEAVMsJhAWqSKdYZel0DLhxkFmxqWQE8ne8Rd5JRAm8Epxpe7k0DQNQqZCKCSQCKhQKdnkZFAFAPmeWWPkEDg2QLFWTOPQLGpjBbIX41ADnhi3lqji0Cg0Vl2Uf2JQBey6zLnbIhACCvw0FTxhkDd0su80YmFQIKmiTWVNYRA+s1TTtfzgkAgmLDQ0cOBQM7z1wHBpIBAKPbCmsgrf0C7/+iu/Sx9QN8sFvGvS3tA4LZ+SXeGeUAVR/+A9dt3QKSN1sjWSnZApUj9I9LRdEBBMDS1qW9zQKBMqvQqI3JA/Ybqzy7rcEB7PRptM41vQG2N8iu3aG1AbImpjN9ma0DrMibVuYVpQE4q14ppw2dA1LSrCSgeZkA4ZA0LRJRkQGp0hx8hJGNA5LuGHTfMYUA2PF+HEYtgQO+5FdWdvl5AqPe+c0CPXEAqQZJIkIVaQAYzz9I0n1hAKsWJWvbZVkD3oGaYvDNVQKapfl+NqlNAIU8BS4s8UkAi+/Jw9OdQQOQmYDZCVk9ADJZaDwUJTUDc5IVhQ+VKQMOpVDw86EhAqzFjflkPR0A=\",\"dtype\":\"float64\",\"shape\":[121]}},\"selected\":{\"id\":\"23852\"},\"selection_policy\":{\"id\":\"23853\"}},\"id\":\"23197\",\"type\":\"ColumnDataSource\"},{\"attributes\":{},\"id\":\"23208\",\"type\":\"UnionRenderers\"},{\"attributes\":{\"months\":[0,1,2,3,4,5,6,7,8,9,10,11]},\"id\":\"23184\",\"type\":\"MonthsTicker\"},{\"attributes\":{\"line_alpha\":0.1,\"line_color\":\"blue\",\"line_width\":4,\"x\":{\"field\":\"x\"},\"y\":{\"field\":\"y\"}},\"id\":\"23169\",\"type\":\"Line\"},{\"attributes\":{\"source\":{\"id\":\"23192\"}},\"id\":\"23196\",\"type\":\"CDSView\"},{\"attributes\":{\"fill_alpha\":{\"value\":0.1},\"fill_color\":{\"value\":\"white\"},\"line_alpha\":{\"value\":0.1},\"line_color\":{\"value\":\"red\"},\"size\":{\"units\":\"screen\",\"value\":6},\"x\":{\"field\":\"x\"},\"y\":{\"field\":\"y\"}},\"id\":\"23227\",\"type\":\"Circle\"},{\"attributes\":{\"days\":[1,2,3,4,5,6,7,8,9,10,11,12,13,14,15,16,17,18,19,20,21,22,23,24,25,26,27,28,29,30,31]},\"id\":\"23180\",\"type\":\"DaysTicker\"},{\"attributes\":{\"line_color\":\"blue\",\"line_width\":4,\"x\":{\"field\":\"x\"},\"y\":{\"field\":\"y\"}},\"id\":\"23168\",\"type\":\"Line\"},{\"attributes\":{},\"id\":\"23188\",\"type\":\"YearsTicker\"},{\"attributes\":{\"items\":[{\"id\":\"23191\"},{\"id\":\"23224\"}],\"location\":\"top_left\"},\"id\":\"23190\",\"type\":\"Legend\"},{\"attributes\":{\"data\":{\"x\":{\"__ndarray__\":\"AAAA5UcHd0IAAMBKmgd3QgAAgLDsB3dCAABAFj8Id0IAAAB8kQh3QgAAwOHjCHdCAACARzYJd0IAAECtiAl3QgAAABPbCXdCAADAeC0Kd0IAAIDefwp3QgAAQETSCndCAAAAqiQLd0IAAMAPdwt3QgAAgHXJC3dCAABA2xsMd0IAAABBbgx3QgAAwKbADHdCAACADBMNd0IAAEByZQ13QgAAANi3DXdCAADAPQoOd0IAAICjXA53QgAAQAmvDndCAAAAbwEPd0IAAMDUUw93QgAAgDqmD3dCAABAoPgPd0IAAAAGSxB3QgAAwGudEHdCAACA0e8Qd0IAAEA3QhF3QgAAAJ2UEXdCAADAAucRd0IAAIBoORJ3QgAAQM6LEndCAAAANN4Sd0IAAMCZMBN3QgAAgP+CE3dCAABAZdUTd0IAAADLJxR3QgAAwDB6FHdCAACAlswUd0IAAED8HhV3QgAAAGJxFXdCAADAx8MVd0IAAIAtFhZ3QgAAQJNoFndCAAAA+boWd0IAAMBeDRd3QgAAgMRfF3dCAABAKrIXd0IAAACQBBh3QgAAwPVWGHdCAACAW6kYd0IAAEDB+xh3QgAAACdOGXdCAADAjKAZd0IAAIDy8hl3QgAAQFhFGndCAAAAvpcad0IAAMAj6hp3QgAAgIk8G3dCAABA744bd0IAAABV4Rt3QgAAwLozHHdCAACAIIYcd0IAAECG2Bx3QgAAAOwqHXdCAADAUX0dd0IAAIC3zx13QgAAQB0iHndCAAAAg3Qed0IAAMDoxh53QgAAgE4ZH3dCAABAtGsfd0IAAAAavh93QgAAwH8QIHdCAACA5WIgd0IAAEBLtSB3QgAAALEHIXdCAADAFlohd0IAAIB8rCF3QgAAQOL+IXdCAAAASFEid0IAAMCtoyJ3QgAAgBP2IndCAABAeUgjd0IAAADfmiN3QgAAwETtI3dCAACAqj8kd0IAAEAQkiR3QgAAAHbkJHdCAADA2zYld0IAAIBBiSV3QgAAQKfbJXdCAAAADS4md0IAAMBygCZ3QgAAgNjSJndCAABAPiUnd0IAAACkdyd3QgAAwAnKJ3dCAACAbxwod0IAAEDVbih3QgAAADvBKHdCAADAoBMpd0IAAIAGZil3QgAAQGy4KXdCAAAA0goqd0IAAMA3XSp3QgAAgJ2vKndCAABAAwIrd0IAAABpVCt3QgAAwM6mK3dCAACANPkrd0IAAECaSyx3QgAAAACeLHdCAADAZfAsd0IAAIDLQi13QgAAQDGVLXdCAAAAl+ctd0I=\",\"dtype\":\"float64\",\"shape\":[121]},\"y\":{\"__ndarray__\":\"ShH5NIO/3j/GuJgNDXEVQObKUENhBTVAaq3sxQfdSkAw3SF1zSZbQBLSHHqkqGdAHI0oT+ObckDUWWSSBil7QOh8TJTJt4JAoZA/yhipiEC0wJFKDVOPQLALnmesTZNAcXzCKzQyl0BLROTaa0ebQGgJMSpXfZ9AxVPbRBnioUAP/w32bQakQOlljsGRJKZAlMDPfQM2qEADX4v47DSqQH6EJSgvHKxAWkaIomfnrUDm1eiP8JKvQGoKwxnujbBARkDZgvY/sUAwzqedxd6xQKLmRzzcabJAUIQZKAHhskAXPQILOkSzQFMrtDnEk7NAYpaxiw3Qs0DKY1VkrfmzQPGm9QdeEbRACd8pUfYXtEA/rELUYw60QCsS/Hml9bNAljRMlsbOs0D7tM182pqzQCRPjpH4WrNABWLp0jgQs0B+wnXXsLuyQHFy2zlxXrJAMWePa4P5sUAEF+rm542xQIZ5w7iUHLFAuqGoWXSmsEARwtHOZCywQC+5ZBZuXq9Avv2REl1frkBzeWMtAl2tQF970pWtWKxAUzZCRpRTq0Bomvt60E6qQHbuHl1iS6lAf0ae2DBKqEBX/r6UCkynQLkPgwenUaZA8UoznadbpUCqoQ/umGqkQIrP6fzzfqNAViogeh+ZokB5AhIHcbmhQO7LvHYu4KBAB4e5CI8NoECd/5k4eYOeQIESWLOp+ZxAMfnun9R9m0BnZpYNCxCaQDBXEAVMsJhAWqSKdYZel0DLhxkFmxqWQE8ne8Rd5JRAm8Epxpe7k0DQNQqZCKCSQCKhQKdnkZFAFAPmeWWPkEDg2QLFWTOPQLGpjBbIX41ADnhi3lqji0Cg0Vl2Uf2JQBey6zLnbIhACCvw0FTxhkDd0su80YmFQIKmiTWVNYRA+s1TTtfzgkAgmLDQ0cOBQM7z1wHBpIBAKPbCmsgrf0C7/+iu/Sx9QN8sFvGvS3tA4LZ+SXeGeUAVR/+A9dt3QKSN1sjWSnZApUj9I9LRdEBBMDS1qW9zQKBMqvQqI3JA/Ybqzy7rcEB7PRptM41vQG2N8iu3aG1AbImpjN9ma0DrMibVuYVpQE4q14ppw2dA1LSrCSgeZkA4ZA0LRJRkQGp0hx8hJGNA5LuGHTfMYUA2PF+HEYtgQO+5FdWdvl5AqPe+c0CPXEAqQZJIkIVaQAYzz9I0n1hAKsWJWvbZVkD3oGaYvDNVQKapfl+NqlNAIU8BS4s8UkAi+/Jw9OdQQOQmYDZCVk9ADJZaDwUJTUDc5IVhQ+VKQMOpVDw86EhAqzFjflkPR0A=\",\"dtype\":\"float64\",\"shape\":[121]}},\"selected\":{\"id\":\"23854\"},\"selection_policy\":{\"id\":\"23855\"}},\"id\":\"23225\",\"type\":\"ColumnDataSource\"},{\"attributes\":{},\"id\":\"23153\",\"type\":\"PanTool\"},{\"attributes\":{},\"id\":\"23210\",\"type\":\"UnionRenderers\"},{\"attributes\":{\"days\":[1,4,7,10,13,16,19,22,25,28]},\"id\":\"23181\",\"type\":\"DaysTicker\"},{\"attributes\":{\"source\":{\"id\":\"23167\"}},\"id\":\"23171\",\"type\":\"CDSView\"},{\"attributes\":{\"data\":{\"x\":{\"__ndarray__\":\"AAAA5UcHd0IAAMBKmgd3QgAAgLDsB3dCAABAFj8Id0IAAAB8kQh3QgAAwOHjCHdCAACARzYJd0IAAECtiAl3QgAAABPbCXdCAADAeC0Kd0IAAIDefwp3QgAAQETSCndCAAAAqiQLd0IAAMAPdwt3QgAAgHXJC3dCAABA2xsMd0IAAABBbgx3QgAAwKbADHdCAACADBMNd0IAAEByZQ13QgAAANi3DXdCAADAPQoOd0IAAICjXA53QgAAQAmvDndCAAAAbwEPd0IAAMDUUw93QgAAgDqmD3dCAABAoPgPd0IAAAAGSxB3QgAAwGudEHdCAACA0e8Qd0IAAEA3QhF3QgAAAJ2UEXdCAADAAucRd0IAAIBoORJ3QgAAQM6LEndCAAAANN4Sd0IAAMCZMBN3QgAAgP+CE3dCAABAZdUTd0IAAADLJxR3QgAAwDB6FHdCAACAlswUd0IAAED8HhV3QgAAAGJxFXdCAADAx8MVd0IAAIAtFhZ3QgAAQJNoFndCAAAA+boWd0IAAMBeDRd3QgAAgMRfF3dCAABAKrIXd0IAAACQBBh3QgAAwPVWGHdCAACAW6kYd0IAAEDB+xh3QgAAACdOGXdCAADAjKAZd0IAAIDy8hl3QgAAQFhFGndCAAAAvpcad0IAAMAj6hp3QgAAgIk8G3dCAABA744bd0IAAABV4Rt3QgAAwLozHHdCAACAIIYcd0IAAECG2Bx3QgAAAOwqHXdCAADAUX0dd0IAAIC3zx13QgAAQB0iHndCAAAAg3Qed0IAAMDoxh53QgAAgE4ZH3dCAABAtGsfd0IAAAAavh93QgAAwH8QIHdCAACA5WIgd0IAAEBLtSB3QgAAALEHIXdCAADAFlohd0IAAIB8rCF3QgAAQOL+IXdCAAAASFEid0IAAMCtoyJ3QgAAgBP2IndCAABAeUgjd0IAAADfmiN3QgAAwETtI3dCAACAqj8kd0IAAEAQkiR3QgAAAHbkJHdCAADA2zYld0IAAIBBiSV3QgAAQKfbJXdCAAAADS4md0IAAMBygCZ3QgAAgNjSJndCAABAPiUnd0IAAACkdyd3QgAAwAnKJ3dCAACAbxwod0IAAEDVbih3QgAAADvBKHdCAADAoBMpd0IAAIAGZil3QgAAQGy4KXdCAAAA0goqd0IAAMA3XSp3QgAAgJ2vKndCAABAAwIrd0IAAABpVCt3QgAAwM6mK3dCAACANPkrd0IAAECaSyx3QgAAAACeLHdCAADAZfAsd0IAAIDLQi13QgAAQDGVLXdCAAAAl+ctd0I=\",\"dtype\":\"float64\",\"shape\":[121]},\"y\":[221,93,78,250,238,240,566,342,466,587,769,778,1247,1492,1797,977,2313,2651,2547,3497,3590,3233,3526,4207,5322,5986,6557,5560,4789,5249,5210,6153,5959,5974,5217,4050,4053,4782,4668,4585,4805,4316,3599,3039,3836,4204,3951,4694,4092,3153,2972,2667,3786,3493,3491,3047,2256,2729,3370,2646,3021,2357,2324,1739,2091,2086,1872,1965,1900,1389,1221,1075,1444,1401,1327,1083,802,744,1402,888,992,789,875,675,451,813,665,642,652,669,531,300,397,584,593,516,416,355,178,318,321,177,518,270,197,280,283,202,379,163,346,338,303,210,329,333,251,262,224,218,122]},\"selected\":{\"id\":\"23209\"},\"selection_policy\":{\"id\":\"23210\"}},\"id\":\"23192\",\"type\":\"ColumnDataSource\"},{\"attributes\":{\"line_color\":\"red\",\"line_width\":4,\"x\":{\"field\":\"x\"},\"y\":{\"field\":\"y\"}},\"id\":\"23198\",\"type\":\"Line\"},{\"attributes\":{\"source\":{\"id\":\"23197\"}},\"id\":\"23201\",\"type\":\"CDSView\"},{\"attributes\":{\"text\":\"Gamma Distribution Fitting New Positive: Italy\"},\"id\":\"23135\",\"type\":\"Title\"},{\"attributes\":{},\"id\":\"23154\",\"type\":\"WheelZoomTool\"},{\"attributes\":{},\"id\":\"23207\",\"type\":\"Selection\"},{\"attributes\":{\"label\":{\"value\":\"total cases\"},\"renderers\":[{\"id\":\"23170\"}]},\"id\":\"23191\",\"type\":\"LegendItem\"},{\"attributes\":{},\"id\":\"23852\",\"type\":\"Selection\"},{\"attributes\":{\"months\":[0,4,8]},\"id\":\"23186\",\"type\":\"MonthsTicker\"},{\"attributes\":{\"axis\":{\"id\":\"23145\"},\"ticker\":null},\"id\":\"23148\",\"type\":\"Grid\"},{\"attributes\":{\"overlay\":{\"id\":\"23159\"}},\"id\":\"23155\",\"type\":\"BoxZoomTool\"},{\"attributes\":{\"callback\":null,\"formatters\":{\"@x\":\"datetime\"},\"mode\":\"vline\",\"tooltips\":[[\"date\",\"@x{%d %B}\"],[\"new positive OR fitting\",\"@y{0.}\"]]},\"id\":\"23235\",\"type\":\"HoverTool\"},{\"attributes\":{},\"id\":\"23853\",\"type\":\"UnionRenderers\"},{\"attributes\":{},\"id\":\"23854\",\"type\":\"Selection\"},{\"attributes\":{},\"id\":\"23137\",\"type\":\"DataRange1d\"},{\"attributes\":{},\"id\":\"23156\",\"type\":\"SaveTool\"},{\"attributes\":{},\"id\":\"23141\",\"type\":\"LinearScale\"},{\"attributes\":{\"base\":24,\"mantissas\":[1,2,4,6,8,12],\"max_interval\":43200000.0,\"min_interval\":3600000.0,\"num_minor_ticks\":0},\"id\":\"23179\",\"type\":\"AdaptiveTicker\"},{\"attributes\":{},\"id\":\"23157\",\"type\":\"ResetTool\"},{\"attributes\":{\"days\":[1,15]},\"id\":\"23183\",\"type\":\"DaysTicker\"},{\"attributes\":{},\"id\":\"23139\",\"type\":\"DataRange1d\"},{\"attributes\":{},\"id\":\"23158\",\"type\":\"HelpTool\"},{\"attributes\":{\"days\":[1,8,15,22]},\"id\":\"23182\",\"type\":\"DaysTicker\"},{\"attributes\":{\"base\":60,\"mantissas\":[1,2,5,10,15,20,30],\"max_interval\":1800000.0,\"min_interval\":1000.0,\"num_minor_ticks\":0},\"id\":\"23178\",\"type\":\"AdaptiveTicker\"},{\"attributes\":{\"active_drag\":\"auto\",\"active_inspect\":\"auto\",\"active_multi\":null,\"active_scroll\":\"auto\",\"active_tap\":\"auto\",\"tools\":[{\"id\":\"23153\"},{\"id\":\"23154\"},{\"id\":\"23155\"},{\"id\":\"23156\"},{\"id\":\"23157\"},{\"id\":\"23158\"},{\"id\":\"23235\"}]},\"id\":\"23160\",\"type\":\"Toolbar\"}],\"root_ids\":[\"23134\"]},\"title\":\"Bokeh Application\",\"version\":\"2.0.2\"}};\n",
       "  var render_items = [{\"docid\":\"4d12df1d-ce64-4cec-a366-8fd14a68e609\",\"root_ids\":[\"23134\"],\"roots\":{\"23134\":\"b34a59a5-ba4c-4041-b5f1-11652a6e1b30\"}}];\n",
       "  root.Bokeh.embed.embed_items_notebook(docs_json, render_items);\n",
       "\n",
       "  }\n",
       "  if (root.Bokeh !== undefined) {\n",
       "    embed_document(root);\n",
       "  } else {\n",
       "    var attempts = 0;\n",
       "    var timer = setInterval(function(root) {\n",
       "      if (root.Bokeh !== undefined) {\n",
       "        clearInterval(timer);\n",
       "        embed_document(root);\n",
       "      } else {\n",
       "        attempts++;\n",
       "        if (attempts > 100) {\n",
       "          clearInterval(timer);\n",
       "          console.log(\"Bokeh: ERROR: Unable to run BokehJS code because BokehJS library is missing\");\n",
       "        }\n",
       "      }\n",
       "    }, 10, root)\n",
       "  }\n",
       "})(window);"
      ],
      "application/vnd.bokehjs_exec.v0+json": ""
     },
     "metadata": {
      "application/vnd.bokehjs_exec.v0+json": {
       "id": "23134"
      }
     },
     "output_type": "display_data"
    }
   ],
   "source": [
    "pfit_new_positive_Italy = bokeh_plot_2_lines(x=time_date_new, y=nuovi_positivi_italy.loc[0:(fit_range_5-1)], yy=ydata_4[0:fit_range_5], \n",
    "                  title='Gamma Distribution Fitting New Positive: Italy', \n",
    "                  file_name=\"fit_new_positive_Italy.html\", \n",
    "                  x_label='Date', y_label='New Positive', \n",
    "                  legend_1='total cases', legend_2='Gamma fitting',\n",
    "                  x_label_hover='date' , y_label_hover='new positive OR fitting' , \n",
    "                  color_1='blue', color_2='red', y_minmax=None)\n",
    "\n",
    "show(pfit_new_positive_Italy)"
   ]
  },
  {
   "cell_type": "code",
   "execution_count": 106,
   "metadata": {},
   "outputs": [
    {
     "data": {
      "text/plain": [
       "0.970023070270099"
      ]
     },
     "execution_count": 106,
     "metadata": {},
     "output_type": "execute_result"
    }
   ],
   "source": [
    "- cov[0,1] / (np.sqrt(np.diag(cov)[0] * np.diag(cov)[1])) # Correlation coefficient for parameters 'alpha' and 'beta'"
   ]
  },
  {
   "cell_type": "code",
   "execution_count": 107,
   "metadata": {},
   "outputs": [
    {
     "data": {
      "text/plain": [
       "-0.524925618129431"
      ]
     },
     "execution_count": 107,
     "metadata": {},
     "output_type": "execute_result"
    }
   ],
   "source": [
    "cov[0,2] / (np.sqrt(np.diag(cov)[0] * np.diag(cov)[2])) # Correlation coefficient for parameters 'alpha' and 'Kmax'"
   ]
  },
  {
   "cell_type": "code",
   "execution_count": 108,
   "metadata": {},
   "outputs": [
    {
     "data": {
      "text/plain": [
       "-0.5771649247447401"
      ]
     },
     "execution_count": 108,
     "metadata": {},
     "output_type": "execute_result"
    }
   ],
   "source": [
    "- cov[1,2] / (np.sqrt(np.diag(cov)[1] * np.diag(cov)[2])) # Correlation coefficient for parameters 'beta' and 'Kmax'"
   ]
  },
  {
   "cell_type": "code",
   "execution_count": 109,
   "metadata": {},
   "outputs": [
    {
     "data": {
      "text/plain": [
       "0.9373854764505919"
      ]
     },
     "execution_count": 109,
     "metadata": {},
     "output_type": "execute_result"
    }
   ],
   "source": [
    "residuals_4 = nuovi_positivi_italy.loc[0:(fit_range_5-1)] - ydata_4  #  Calculation of R^2\n",
    "ss_res_4 = np.sum(residuals_4**2)\n",
    "ss_tot_4 = np.sum((nuovi_positivi_italy.loc[0:(fit_range_5-1)] - np.mean(nuovi_positivi_italy.loc[0:(fit_range_5-1)]))**2)\n",
    "r_squared_4 = 1 - (ss_res_4 / ss_tot_4)\n",
    "r_squared_4"
   ]
  },
  {
   "cell_type": "markdown",
   "metadata": {},
   "source": [
    "----------------"
   ]
  },
  {
   "cell_type": "code",
   "execution_count": 110,
   "metadata": {},
   "outputs": [
    {
     "data": {
      "text/plain": [
       "array([4.80438997e-01, 5.36040136e+00, 2.10210154e+01, 5.37267997e+01,\n",
       "       1.08606290e+02, 1.89270078e+02, 2.97742995e+02, 4.34564104e+02,\n",
       "       5.98973427e+02, 7.89137105e+02, 1.00238149e+03, 1.23541836e+03,\n",
       "       1.48455095e+03, 1.74585533e+03, 2.01533512e+03, 2.28904935e+03,\n",
       "       2.56321477e+03, 2.83428468e+03, 3.09900682e+03, 3.35446283e+03,\n",
       "       3.59809210e+03, 3.82770241e+03, 4.04146985e+03, 4.23793008e+03,\n",
       "       4.41596293e+03, 4.57477194e+03, 4.71386029e+03, 4.83300452e+03,\n",
       "       4.93222673e+03, 5.01176651e+03, 5.07205291e+03, 5.11367731e+03,\n",
       "       5.13736731e+03, 5.14396218e+03, 5.13438996e+03, 5.10964639e+03,\n",
       "       5.07077573e+03, 5.01885347e+03, 4.95497097e+03, 4.88022197e+03,\n",
       "       4.79569079e+03, 4.70244229e+03, 4.60151336e+03, 4.49390587e+03,\n",
       "       4.38058094e+03, 4.26245449e+03, 4.14039378e+03, 4.01521501e+03,\n",
       "       3.88768178e+03, 3.75850425e+03, 3.62833903e+03, 3.49778960e+03,\n",
       "       3.36740719e+03, 3.23769212e+03, 3.10909540e+03, 2.98202067e+03,\n",
       "       2.85682623e+03, 2.73382737e+03, 2.61329869e+03, 2.49547654e+03,\n",
       "       2.38056148e+03, 2.26872076e+03, 2.16009075e+03, 2.05477936e+03,\n",
       "       1.95286838e+03, 1.85441572e+03, 1.75945764e+03, 1.66801079e+03,\n",
       "       1.58007424e+03, 1.49563131e+03, 1.41465139e+03, 1.33709157e+03,\n",
       "       1.26289822e+03, 1.19200840e+03, 1.12435122e+03, 1.05984910e+03,\n",
       "       9.98418833e+02, 9.39972699e+02, 8.84419369e+02, 8.31664777e+02,\n",
       "       7.81612890e+02, 7.34166414e+02, 6.89227411e+02, 6.46697856e+02,\n",
       "       6.06480130e+02, 5.68477449e+02, 5.32594242e+02, 4.98736476e+02,\n",
       "       4.66811934e+02, 4.36730455e+02, 4.08404123e+02, 3.81747437e+02,\n",
       "       3.56677438e+02, 3.33113804e+02, 3.10978933e+02, 2.90197987e+02,\n",
       "       2.70698929e+02, 2.52412528e+02, 2.35272360e+02, 2.19214789e+02,\n",
       "       2.04178935e+02, 1.90106634e+02, 1.76942387e+02, 1.64633306e+02,\n",
       "       1.53129043e+02, 1.42381728e+02, 1.32345890e+02, 1.22978383e+02,\n",
       "       1.14238309e+02, 1.06086931e+02, 9.84875991e+01, 9.14056612e+01,\n",
       "       8.48083859e+01, 7.86648787e+01, 7.29460018e+01, 6.76242945e+01,\n",
       "       6.26738956e+01, 5.80704669e+01, 5.37911188e+01, 4.98143382e+01,\n",
       "       4.61199186e+01, 4.26888920e+01, 3.95034638e+01, 3.65469495e+01,\n",
       "       3.38037146e+01, 3.12591160e+01, 2.88994468e+01, 2.67118826e+01,\n",
       "       2.46844309e+01, 2.28058825e+01, 2.10657653e+01, 1.94543004e+01,\n",
       "       1.79623601e+01, 1.65814284e+01, 1.53035635e+01, 1.41213620e+01,\n",
       "       1.30279253e+01, 1.20168276e+01, 1.10820859e+01, 1.02181316e+01,\n",
       "       9.41978383e+00, 8.68222390e+00, 8.00097185e+00, 7.37186392e+00,\n",
       "       6.79103161e+00, 6.25488193e+00, 5.76007882e+00, 5.30352582e+00,\n",
       "       4.88234971e+00, 4.49388524e+00, 4.13566083e+00, 3.80538517e+00,\n",
       "       3.50093467e+00, 3.22034172e+00, 2.96178379e+00, 2.72357313e+00,\n",
       "       2.50414728e+00, 2.30206008e+00, 2.11597342e+00, 1.94464944e+00,\n",
       "       1.78694332e+00, 1.64179654e+00, 1.50823059e+00, 1.38534118e+00,\n",
       "       1.27229274e+00, 1.16831345e+00, 1.07269047e+00, 9.84765590e-01,\n",
       "       9.03931208e-01, 8.29626522e-01, 7.61334052e-01, 6.98576383e-01,\n",
       "       6.40913156e-01, 5.87938272e-01, 5.39277300e-01, 4.94585072e-01,\n",
       "       4.53543461e-01, 4.15859311e-01, 3.81262534e-01, 3.49504333e-01,\n",
       "       3.20355570e-01, 2.93605246e-01, 2.69059102e-01, 2.46538319e-01,\n",
       "       2.25878320e-01, 2.06927659e-01, 1.89547000e-01, 1.73608164e-01,\n",
       "       1.58993259e-01, 1.45593870e-01, 1.33310311e-01, 1.22050939e-01,\n",
       "       1.11731515e-01, 1.02274620e-01, 9.36091102e-02, 8.56696216e-02,\n",
       "       7.83961058e-02, 7.17334070e-02, 6.56308702e-02, 6.00419801e-02,\n",
       "       5.49240290e-02, 5.02378098e-02, 4.59473345e-02, 4.20195738e-02,\n",
       "       3.84242175e-02, 3.51334551e-02, 3.21217718e-02, 2.93657627e-02,\n",
       "       2.68439605e-02, 2.45366779e-02, 2.24258616e-02, 2.04949592e-02,\n",
       "       1.87287959e-02, 1.71134616e-02, 1.56362067e-02, 1.42853470e-02,\n",
       "       1.30501754e-02, 1.19208819e-02, 1.08884787e-02, 9.94473272e-03,\n",
       "       9.08210273e-03, 8.29368211e-03, 7.57314604e-03, 6.91470309e-03,\n",
       "       6.31305077e-03, 5.76333477e-03, 5.26111151e-03, 4.80231378e-03,\n",
       "       4.38321925e-03, 4.00042153e-03, 3.65080366e-03, 3.33151381e-03,\n",
       "       3.03994293e-03, 2.77370435e-03, 2.53061499e-03, 2.30867820e-03,\n",
       "       2.10606799e-03, 1.92111458e-03, 1.75229121e-03, 1.59820198e-03,\n",
       "       1.45757073e-03, 1.32923093e-03])"
      ]
     },
     "execution_count": 110,
     "metadata": {},
     "output_type": "execute_result"
    }
   ],
   "source": [
    "fit_range_6 = time_date_new_extended.shape[0]\n",
    "xdata_5 = np.linspace(1, fit_range_6, fit_range_6)\n",
    "ydata_5 = model_Gamma_distribution(xdata_5,fit_alpha,fit_beta,fit_Kmax)\n",
    "ydata_5"
   ]
  },
  {
   "cell_type": "code",
   "execution_count": 111,
   "metadata": {
    "scrolled": false
   },
   "outputs": [
    {
     "name": "stderr",
     "output_type": "stream",
     "text": [
      "BokehUserWarning: ColumnDataSource's columns must be of the same length. Current lengths: ('x', 242), ('y', 121)\n",
      "BokehUserWarning: ColumnDataSource's columns must be of the same length. Current lengths: ('x', 242), ('y', 121)\n"
     ]
    },
    {
     "data": {
      "text/html": [
       "\n",
       "\n",
       "\n",
       "\n",
       "\n",
       "\n",
       "  <div class=\"bk-root\" id=\"f3f68207-0b9c-4055-be89-68846a861617\" data-root-id=\"24326\"></div>\n"
      ]
     },
     "metadata": {},
     "output_type": "display_data"
    },
    {
     "data": {
      "application/javascript": [
       "(function(root) {\n",
       "  function embed_document(root) {\n",
       "    \n",
       "  var docs_json = {\"4f7a18ef-3c92-4a75-95ca-6f028c28383b\":{\"roots\":{\"references\":[{\"attributes\":{\"below\":[{\"id\":\"24337\"}],\"center\":[{\"id\":\"24340\"},{\"id\":\"24344\"},{\"id\":\"24382\"}],\"left\":[{\"id\":\"24341\"}],\"plot_height\":450,\"renderers\":[{\"id\":\"24362\"},{\"id\":\"24387\"},{\"id\":\"24392\"},{\"id\":\"24420\"}],\"title\":{\"id\":\"24327\"},\"toolbar\":{\"id\":\"24352\"},\"x_range\":{\"id\":\"24329\"},\"x_scale\":{\"id\":\"24333\"},\"y_range\":{\"id\":\"24331\"},\"y_scale\":{\"id\":\"24335\"}},\"id\":\"24326\",\"subtype\":\"Figure\",\"type\":\"Plot\"},{\"attributes\":{\"axis_label\":\"New Positive\",\"formatter\":{\"id\":\"24426\"},\"minor_tick_in\":-5,\"minor_tick_out\":-3,\"ticker\":{\"id\":\"24342\"}},\"id\":\"24341\",\"type\":\"LinearAxis\"},{\"attributes\":{\"source\":{\"id\":\"24359\"}},\"id\":\"24363\",\"type\":\"CDSView\"},{\"attributes\":{},\"id\":\"24401\",\"type\":\"Selection\"},{\"attributes\":{\"days\":[1,4,7,10,13,16,19,22,25,28]},\"id\":\"24373\",\"type\":\"DaysTicker\"},{\"attributes\":{\"data_source\":{\"id\":\"24384\"},\"glyph\":{\"id\":\"24385\"},\"hover_glyph\":null,\"muted_glyph\":null,\"nonselection_glyph\":{\"id\":\"24386\"},\"selection_glyph\":null,\"view\":{\"id\":\"24388\"}},\"id\":\"24387\",\"type\":\"GlyphRenderer\"},{\"attributes\":{\"active_drag\":\"auto\",\"active_inspect\":\"auto\",\"active_multi\":null,\"active_scroll\":\"auto\",\"active_tap\":\"auto\",\"tools\":[{\"id\":\"24345\"},{\"id\":\"24346\"},{\"id\":\"24347\"},{\"id\":\"24348\"},{\"id\":\"24349\"},{\"id\":\"24350\"},{\"id\":\"24427\"}]},\"id\":\"24352\",\"type\":\"Toolbar\"},{\"attributes\":{\"label\":{\"value\":\"Gamma fitting\"},\"renderers\":[{\"id\":\"24392\"}]},\"id\":\"24416\",\"type\":\"LegendItem\"},{\"attributes\":{\"line_alpha\":0.1,\"line_color\":\"blue\",\"line_width\":4,\"x\":{\"field\":\"x\"},\"y\":{\"field\":\"y\"}},\"id\":\"24361\",\"type\":\"Line\"},{\"attributes\":{\"line_color\":\"blue\",\"line_width\":4,\"x\":{\"field\":\"x\"},\"y\":{\"field\":\"y\"}},\"id\":\"24360\",\"type\":\"Line\"},{\"attributes\":{\"months\":[0,4,8]},\"id\":\"24378\",\"type\":\"MonthsTicker\"},{\"attributes\":{\"fill_alpha\":{\"value\":0.1},\"fill_color\":{\"value\":\"white\"},\"line_alpha\":{\"value\":0.1},\"line_color\":{\"value\":\"blue\"},\"size\":{\"units\":\"screen\",\"value\":6},\"x\":{\"field\":\"x\"},\"y\":{\"field\":\"y\"}},\"id\":\"24386\",\"type\":\"Circle\"},{\"attributes\":{\"source\":{\"id\":\"24389\"}},\"id\":\"24393\",\"type\":\"CDSView\"},{\"attributes\":{\"days\":[\"%d %B\"]},\"id\":\"24422\",\"type\":\"DatetimeTickFormatter\"},{\"attributes\":{},\"id\":\"24399\",\"type\":\"Selection\"},{\"attributes\":{\"axis_label\":\"Date\",\"formatter\":{\"id\":\"24422\"},\"major_label_orientation\":0.7853981633974483,\"minor_tick_in\":-5,\"minor_tick_out\":-3,\"ticker\":{\"id\":\"24338\"}},\"id\":\"24337\",\"type\":\"DatetimeAxis\"},{\"attributes\":{\"line_color\":\"red\",\"line_width\":4,\"x\":{\"field\":\"x\"},\"y\":{\"field\":\"y\"}},\"id\":\"24390\",\"type\":\"Line\"},{\"attributes\":{\"fill_color\":{\"value\":\"white\"},\"line_color\":{\"value\":\"red\"},\"size\":{\"units\":\"screen\",\"value\":6},\"x\":{\"field\":\"x\"},\"y\":{\"field\":\"y\"}},\"id\":\"24418\",\"type\":\"Circle\"},{\"attributes\":{},\"id\":\"24426\",\"type\":\"NumeralTickFormatter\"},{\"attributes\":{\"data_source\":{\"id\":\"24359\"},\"glyph\":{\"id\":\"24360\"},\"hover_glyph\":null,\"muted_glyph\":null,\"nonselection_glyph\":{\"id\":\"24361\"},\"selection_glyph\":null,\"view\":{\"id\":\"24363\"}},\"id\":\"24362\",\"type\":\"GlyphRenderer\"},{\"attributes\":{\"months\":[0,2,4,6,8,10]},\"id\":\"24377\",\"type\":\"MonthsTicker\"},{\"attributes\":{\"callback\":null,\"formatters\":{\"@x\":\"datetime\"},\"mode\":\"vline\",\"tooltips\":[[\"date\",\"@x{%d %B}\"],[\"new positive OR fitting\",\"@y{0.}\"]]},\"id\":\"24427\",\"type\":\"HoverTool\"},{\"attributes\":{\"data_source\":{\"id\":\"24417\"},\"glyph\":{\"id\":\"24418\"},\"hover_glyph\":null,\"muted_glyph\":null,\"nonselection_glyph\":{\"id\":\"24419\"},\"selection_glyph\":null,\"view\":{\"id\":\"24421\"}},\"id\":\"24420\",\"type\":\"GlyphRenderer\"},{\"attributes\":{},\"id\":\"24349\",\"type\":\"ResetTool\"},{\"attributes\":{\"days\":[1,15]},\"id\":\"24375\",\"type\":\"DaysTicker\"},{\"attributes\":{\"source\":{\"id\":\"24417\"}},\"id\":\"24421\",\"type\":\"CDSView\"},{\"attributes\":{\"text\":\"Gamma Distribution Fitting New Positive Extended: Italy\"},\"id\":\"24327\",\"type\":\"Title\"},{\"attributes\":{\"source\":{\"id\":\"24384\"}},\"id\":\"24388\",\"type\":\"CDSView\"},{\"attributes\":{\"data\":{\"x\":{\"__ndarray__\":\"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\",\"dtype\":\"float64\",\"shape\":[242]},\"y\":{\"__ndarray__\":\"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\",\"dtype\":\"float64\",\"shape\":[242]}},\"selected\":{\"id\":\"25068\"},\"selection_policy\":{\"id\":\"25069\"}},\"id\":\"24389\",\"type\":\"ColumnDataSource\"},{\"attributes\":{},\"id\":\"24342\",\"type\":\"BasicTicker\"},{\"attributes\":{\"items\":[{\"id\":\"24383\"},{\"id\":\"24416\"}],\"location\":\"top_left\"},\"id\":\"24382\",\"type\":\"Legend\"},{\"attributes\":{},\"id\":\"24348\",\"type\":\"SaveTool\"},{\"attributes\":{},\"id\":\"24350\",\"type\":\"HelpTool\"},{\"attributes\":{\"months\":[0,6]},\"id\":\"24379\",\"type\":\"MonthsTicker\"},{\"attributes\":{\"data\":{\"x\":{\"__ndarray__\":\"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\",\"dtype\":\"float64\",\"shape\":[242]},\"y\":{\"__ndarray__\":\"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\",\"dtype\":\"float64\",\"shape\":[242]}},\"selected\":{\"id\":\"25070\"},\"selection_policy\":{\"id\":\"25071\"}},\"id\":\"24417\",\"type\":\"ColumnDataSource\"},{\"attributes\":{\"fill_alpha\":{\"value\":0.1},\"fill_color\":{\"value\":\"white\"},\"line_alpha\":{\"value\":0.1},\"line_color\":{\"value\":\"red\"},\"size\":{\"units\":\"screen\",\"value\":6},\"x\":{\"field\":\"x\"},\"y\":{\"field\":\"y\"}},\"id\":\"24419\",\"type\":\"Circle\"},{\"attributes\":{\"data\":{\"x\":{\"__ndarray__\":\"AAAA5UcHd0IAAMBKmgd3QgAAgLDsB3dCAABAFj8Id0IAAAB8kQh3QgAAwOHjCHdCAACARzYJd0IAAECtiAl3QgAAABPbCXdCAADAeC0Kd0IAAIDefwp3QgAAQETSCndCAAAAqiQLd0IAAMAPdwt3QgAAgHXJC3dCAABA2xsMd0IAAABBbgx3QgAAwKbADHdCAACADBMNd0IAAEByZQ13QgAAANi3DXdCAADAPQoOd0IAAICjXA53QgAAQAmvDndCAAAAbwEPd0IAAMDUUw93QgAAgDqmD3dCAABAoPgPd0IAAAAGSxB3QgAAwGudEHdCAACA0e8Qd0IAAEA3QhF3QgAAAJ2UEXdCAADAAucRd0IAAIBoORJ3QgAAQM6LEndCAAAANN4Sd0IAAMCZMBN3QgAAgP+CE3dCAABAZdUTd0IAAADLJxR3QgAAwDB6FHdCAACAlswUd0IAAED8HhV3QgAAAGJxFXdCAADAx8MVd0IAAIAtFhZ3QgAAQJNoFndCAAAA+boWd0IAAMBeDRd3QgAAgMRfF3dCAABAKrIXd0IAAACQBBh3QgAAwPVWGHdCAACAW6kYd0IAAEDB+xh3QgAAACdOGXdCAADAjKAZd0IAAIDy8hl3QgAAQFhFGndCAAAAvpcad0IAAMAj6hp3QgAAgIk8G3dCAABA744bd0IAAABV4Rt3QgAAwLozHHdCAACAIIYcd0IAAECG2Bx3QgAAAOwqHXdCAADAUX0dd0IAAIC3zx13QgAAQB0iHndCAAAAg3Qed0IAAMDoxh53QgAAgE4ZH3dCAABAtGsfd0IAAAAavh93QgAAwH8QIHdCAACA5WIgd0IAAEBLtSB3QgAAALEHIXdCAADAFlohd0IAAIB8rCF3QgAAQOL+IXdCAAAASFEid0IAAMCtoyJ3QgAAgBP2IndCAABAeUgjd0IAAADfmiN3QgAAwETtI3dCAACAqj8kd0IAAEAQkiR3QgAAAHbkJHdCAADA2zYld0IAAIBBiSV3QgAAQKfbJXdCAAAADS4md0IAAMBygCZ3QgAAgNjSJndCAABAPiUnd0IAAACkdyd3QgAAwAnKJ3dCAACAbxwod0IAAEDVbih3QgAAADvBKHdCAADAoBMpd0IAAIAGZil3QgAAQGy4KXdCAAAA0goqd0IAAMA3XSp3QgAAgJ2vKndCAABAAwIrd0IAAABpVCt3QgAAwM6mK3dCAACANPkrd0IAAECaSyx3QgAAAACeLHdCAADAZfAsd0IAAIDLQi13QgAAQDGVLXdCAAAAl+ctd0IAAMD8OS53QgAAgGKMLndCAABAyN4ud0IAAAAuMS93QgAAwJODL3dCAACA+dUvd0IAAEBfKDB3QgAAAMV6MHdCAADAKs0wd0IAAICQHzF3QgAAQPZxMXdCAAAAXMQxd0IAAMDBFjJ3QgAAgCdpMndCAABAjbsyd0IAAADzDTN3QgAAwFhgM3dCAACAvrIzd0IAAEAkBTR3QgAAAIpXNHdCAADA76k0d0IAAIBV/DR3QgAAQLtONXdCAAAAIaE1d0IAAMCG8zV3QgAAgOxFNndCAABAUpg2d0IAAAC46jZ3QgAAwB09N3dCAACAg483d0IAAEDp4Td3QgAAAE80OHdCAADAtIY4d0IAAIAa2Th3QgAAQIArOXdCAAAA5n05d0IAAMBL0Dl3QgAAgLEiOndCAABAF3U6d0IAAAB9xzp3QgAAwOIZO3dCAACASGw7d0IAAECuvjt3QgAAABQRPHdCAADAeWM8d0IAAIDftTx3QgAAQEUIPXdCAAAAq1o9d0IAAMAQrT13QgAAgHb/PXdCAABA3FE+d0IAAABCpD53QgAAwKf2PndCAACADUk/d0IAAEBzmz93QgAAANntP3dCAADAPkBAd0IAAICkkkB3QgAAQArlQHdCAAAAcDdBd0IAAMDViUF3QgAAgDvcQXdCAABAoS5Cd0IAAAAHgUJ3QgAAwGzTQndCAACA0iVDd0IAAEA4eEN3QgAAAJ7KQ3dCAADAAx1Ed0IAAIBpb0R3QgAAQM/BRHdCAAAANRRFd0IAAMCaZkV3QgAAgAC5RXdCAABAZgtGd0IAAADMXUZ3QgAAwDGwRndCAACAlwJHd0IAAED9VEd3QgAAAGOnR3dCAADAyPlHd0IAAIAuTEh3QgAAQJSeSHdCAAAA+vBId0IAAMBfQ0l3QgAAgMWVSXdCAABAK+hJd0IAAACROkp3QgAAwPaMSndCAACAXN9Kd0IAAEDCMUt3QgAAACiES3dCAADAjdZLd0IAAIDzKEx3QgAAQFl7THdCAAAAv81Md0IAAMAkIE13QgAAgIpyTXdCAABA8MRNd0IAAABWF053QgAAwLtpTndCAACAIbxOd0IAAECHDk93QgAAAO1gT3dCAADAUrNPd0IAAIC4BVB3QgAAQB5YUHdCAAAAhKpQd0IAAMDp/FB3QgAAgE9PUXdCAABAtaFRd0IAAAAb9FF3QgAAwIBGUndCAACA5phSd0IAAEBM61J3QgAAALI9U3dCAADAF5BTd0IAAIB94lN3QgAAQOM0VHdCAAAASYdUd0IAAMCu2VR3Qg==\",\"dtype\":\"float64\",\"shape\":[242]},\"y\":[221,93,78,250,238,240,566,342,466,587,769,778,1247,1492,1797,977,2313,2651,2547,3497,3590,3233,3526,4207,5322,5986,6557,5560,4789,5249,5210,6153,5959,5974,5217,4050,4053,4782,4668,4585,4805,4316,3599,3039,3836,4204,3951,4694,4092,3153,2972,2667,3786,3493,3491,3047,2256,2729,3370,2646,3021,2357,2324,1739,2091,2086,1872,1965,1900,1389,1221,1075,1444,1401,1327,1083,802,744,1402,888,992,789,875,675,451,813,665,642,652,669,531,300,397,584,593,516,416,355,178,318,321,177,518,270,197,280,283,202,379,163,346,338,303,210,329,333,251,262,224,218,122]},\"selected\":{\"id\":\"24401\"},\"selection_policy\":{\"id\":\"24402\"}},\"id\":\"24384\",\"type\":\"ColumnDataSource\"},{\"attributes\":{},\"id\":\"25069\",\"type\":\"UnionRenderers\"},{\"attributes\":{\"months\":[0,1,2,3,4,5,6,7,8,9,10,11]},\"id\":\"24376\",\"type\":\"MonthsTicker\"},{\"attributes\":{\"overlay\":{\"id\":\"24351\"}},\"id\":\"24347\",\"type\":\"BoxZoomTool\"},{\"attributes\":{\"mantissas\":[1,2,5],\"max_interval\":500.0,\"num_minor_ticks\":0},\"id\":\"24369\",\"type\":\"AdaptiveTicker\"},{\"attributes\":{\"line_alpha\":0.1,\"line_color\":\"red\",\"line_width\":4,\"x\":{\"field\":\"x\"},\"y\":{\"field\":\"y\"}},\"id\":\"24391\",\"type\":\"Line\"},{\"attributes\":{\"num_minor_ticks\":5,\"tickers\":[{\"id\":\"24369\"},{\"id\":\"24370\"},{\"id\":\"24371\"},{\"id\":\"24372\"},{\"id\":\"24373\"},{\"id\":\"24374\"},{\"id\":\"24375\"},{\"id\":\"24376\"},{\"id\":\"24377\"},{\"id\":\"24378\"},{\"id\":\"24379\"},{\"id\":\"24380\"}]},\"id\":\"24338\",\"type\":\"DatetimeTicker\"},{\"attributes\":{\"days\":[1,8,15,22]},\"id\":\"24374\",\"type\":\"DaysTicker\"},{\"attributes\":{\"bottom_units\":\"screen\",\"fill_alpha\":0.5,\"fill_color\":\"lightgrey\",\"left_units\":\"screen\",\"level\":\"overlay\",\"line_alpha\":1.0,\"line_color\":\"black\",\"line_dash\":[4,4],\"line_width\":2,\"render_mode\":\"css\",\"right_units\":\"screen\",\"top_units\":\"screen\"},\"id\":\"24351\",\"type\":\"BoxAnnotation\"},{\"attributes\":{},\"id\":\"24329\",\"type\":\"DataRange1d\"},{\"attributes\":{},\"id\":\"25071\",\"type\":\"UnionRenderers\"},{\"attributes\":{},\"id\":\"24380\",\"type\":\"YearsTicker\"},{\"attributes\":{\"days\":[1,2,3,4,5,6,7,8,9,10,11,12,13,14,15,16,17,18,19,20,21,22,23,24,25,26,27,28,29,30,31]},\"id\":\"24372\",\"type\":\"DaysTicker\"},{\"attributes\":{},\"id\":\"24333\",\"type\":\"LinearScale\"},{\"attributes\":{},\"id\":\"25070\",\"type\":\"Selection\"},{\"attributes\":{\"data_source\":{\"id\":\"24389\"},\"glyph\":{\"id\":\"24390\"},\"hover_glyph\":null,\"muted_glyph\":null,\"nonselection_glyph\":{\"id\":\"24391\"},\"selection_glyph\":null,\"view\":{\"id\":\"24393\"}},\"id\":\"24392\",\"type\":\"GlyphRenderer\"},{\"attributes\":{},\"id\":\"24331\",\"type\":\"DataRange1d\"},{\"attributes\":{},\"id\":\"24346\",\"type\":\"WheelZoomTool\"},{\"attributes\":{\"label\":{\"value\":\"total cases\"},\"renderers\":[{\"id\":\"24362\"}]},\"id\":\"24383\",\"type\":\"LegendItem\"},{\"attributes\":{\"data\":{\"x\":{\"__ndarray__\":\"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\",\"dtype\":\"float64\",\"shape\":[242]},\"y\":[221,93,78,250,238,240,566,342,466,587,769,778,1247,1492,1797,977,2313,2651,2547,3497,3590,3233,3526,4207,5322,5986,6557,5560,4789,5249,5210,6153,5959,5974,5217,4050,4053,4782,4668,4585,4805,4316,3599,3039,3836,4204,3951,4694,4092,3153,2972,2667,3786,3493,3491,3047,2256,2729,3370,2646,3021,2357,2324,1739,2091,2086,1872,1965,1900,1389,1221,1075,1444,1401,1327,1083,802,744,1402,888,992,789,875,675,451,813,665,642,652,669,531,300,397,584,593,516,416,355,178,318,321,177,518,270,197,280,283,202,379,163,346,338,303,210,329,333,251,262,224,218,122]},\"selected\":{\"id\":\"24399\"},\"selection_policy\":{\"id\":\"24400\"}},\"id\":\"24359\",\"type\":\"ColumnDataSource\"},{\"attributes\":{},\"id\":\"24400\",\"type\":\"UnionRenderers\"},{\"attributes\":{},\"id\":\"24345\",\"type\":\"PanTool\"},{\"attributes\":{},\"id\":\"25068\",\"type\":\"Selection\"},{\"attributes\":{\"base\":60,\"mantissas\":[1,2,5,10,15,20,30],\"max_interval\":1800000.0,\"min_interval\":1000.0,\"num_minor_ticks\":0},\"id\":\"24370\",\"type\":\"AdaptiveTicker\"},{\"attributes\":{},\"id\":\"24402\",\"type\":\"UnionRenderers\"},{\"attributes\":{\"axis\":{\"id\":\"24337\"},\"ticker\":null},\"id\":\"24340\",\"type\":\"Grid\"},{\"attributes\":{\"base\":24,\"mantissas\":[1,2,4,6,8,12],\"max_interval\":43200000.0,\"min_interval\":3600000.0,\"num_minor_ticks\":0},\"id\":\"24371\",\"type\":\"AdaptiveTicker\"},{\"attributes\":{\"axis\":{\"id\":\"24341\"},\"dimension\":1,\"ticker\":null},\"id\":\"24344\",\"type\":\"Grid\"},{\"attributes\":{\"fill_color\":{\"value\":\"white\"},\"line_color\":{\"value\":\"blue\"},\"size\":{\"units\":\"screen\",\"value\":6},\"x\":{\"field\":\"x\"},\"y\":{\"field\":\"y\"}},\"id\":\"24385\",\"type\":\"Circle\"},{\"attributes\":{},\"id\":\"24335\",\"type\":\"LinearScale\"}],\"root_ids\":[\"24326\"]},\"title\":\"Bokeh Application\",\"version\":\"2.0.2\"}};\n",
       "  var render_items = [{\"docid\":\"4f7a18ef-3c92-4a75-95ca-6f028c28383b\",\"root_ids\":[\"24326\"],\"roots\":{\"24326\":\"f3f68207-0b9c-4055-be89-68846a861617\"}}];\n",
       "  root.Bokeh.embed.embed_items_notebook(docs_json, render_items);\n",
       "\n",
       "  }\n",
       "  if (root.Bokeh !== undefined) {\n",
       "    embed_document(root);\n",
       "  } else {\n",
       "    var attempts = 0;\n",
       "    var timer = setInterval(function(root) {\n",
       "      if (root.Bokeh !== undefined) {\n",
       "        clearInterval(timer);\n",
       "        embed_document(root);\n",
       "      } else {\n",
       "        attempts++;\n",
       "        if (attempts > 100) {\n",
       "          clearInterval(timer);\n",
       "          console.log(\"Bokeh: ERROR: Unable to run BokehJS code because BokehJS library is missing\");\n",
       "        }\n",
       "      }\n",
       "    }, 10, root)\n",
       "  }\n",
       "})(window);"
      ],
      "application/vnd.bokehjs_exec.v0+json": ""
     },
     "metadata": {
      "application/vnd.bokehjs_exec.v0+json": {
       "id": "24326"
      }
     },
     "output_type": "display_data"
    }
   ],
   "source": [
    "pfit_2_new_positive_Italy = bokeh_plot_2_lines(x=time_date_new_extended, y=nuovi_positivi_italy.loc[0:(fit_range_5-1)], yy=ydata_5[0:fit_range_6], \n",
    "                  title='Gamma Distribution Fitting New Positive Extended: Italy', \n",
    "                  file_name=\"fit_2_new_positive_Italy.html\", \n",
    "                  x_label='Date', y_label='New Positive', \n",
    "                  legend_1='total cases', legend_2='Gamma fitting',\n",
    "                  x_label_hover='date' , y_label_hover='new positive OR fitting' , \n",
    "                  color_1='blue', color_2='red', y_minmax=None)\n",
    "\n",
    "show(pfit_2_new_positive_Italy)"
   ]
  },
  {
   "cell_type": "code",
   "execution_count": 112,
   "metadata": {},
   "outputs": [
    {
     "name": "stderr",
     "output_type": "stream",
     "text": [
      "BokehUserWarning: ColumnDataSource's columns must be of the same length. Current lengths: ('x', 242), ('y', 121)\n",
      "BokehUserWarning: ColumnDataSource's columns must be of the same length. Current lengths: ('x', 242), ('y', 121)\n",
      "BokehUserWarning: ColumnDataSource's columns must be of the same length. Current lengths: ('x', 242), ('y', 121)\n",
      "BokehUserWarning: ColumnDataSource's columns must be of the same length. Current lengths: ('x', 242), ('y', 121)\n"
     ]
    },
    {
     "data": {
      "text/html": [
       "\n",
       "\n",
       "\n",
       "\n",
       "\n",
       "\n",
       "  <div class=\"bk-root\" id=\"d9861b76-10dc-457a-8fed-20adac9ba243\" data-root-id=\"25542\"></div>\n"
      ]
     },
     "metadata": {},
     "output_type": "display_data"
    },
    {
     "data": {
      "application/javascript": [
       "(function(root) {\n",
       "  function embed_document(root) {\n",
       "    \n",
       "  var docs_json = {\"77a04116-c353-422e-8ee5-f1904b92e8dc\":{\"roots\":{\"references\":[{\"attributes\":{\"below\":[{\"id\":\"25553\"}],\"center\":[{\"id\":\"25556\"},{\"id\":\"25560\"},{\"id\":\"25598\"}],\"left\":[{\"id\":\"25557\"}],\"plot_height\":450,\"renderers\":[{\"id\":\"25578\"},{\"id\":\"25603\"},{\"id\":\"25608\"},{\"id\":\"25636\"},{\"id\":\"25641\"},{\"id\":\"25673\"}],\"title\":{\"id\":\"25543\"},\"toolbar\":{\"id\":\"25568\"},\"x_range\":{\"id\":\"25545\"},\"x_scale\":{\"id\":\"25549\"},\"y_range\":{\"id\":\"25547\"},\"y_scale\":{\"id\":\"25551\"}},\"id\":\"25542\",\"subtype\":\"Figure\",\"type\":\"Plot\"},{\"attributes\":{\"data_source\":{\"id\":\"25638\"},\"glyph\":{\"id\":\"25639\"},\"hover_glyph\":null,\"muted_glyph\":null,\"nonselection_glyph\":{\"id\":\"25640\"},\"selection_glyph\":null,\"view\":{\"id\":\"25642\"}},\"id\":\"25641\",\"type\":\"GlyphRenderer\"},{\"attributes\":{\"source\":{\"id\":\"25638\"}},\"id\":\"25642\",\"type\":\"CDSView\"},{\"attributes\":{},\"id\":\"25652\",\"type\":\"Selection\"},{\"attributes\":{\"callback\":null,\"formatters\":{\"@x\":\"datetime\"},\"mode\":\"vline\",\"tooltips\":[[\"date\",\"@x{%d %B}\"],[\"new positive/fitting/SMA 7\",\"@y{0[.]000}\"]]},\"id\":\"25679\",\"type\":\"HoverTool\"},{\"attributes\":{},\"id\":\"25653\",\"type\":\"UnionRenderers\"},{\"attributes\":{},\"id\":\"25654\",\"type\":\"Selection\"},{\"attributes\":{},\"id\":\"25655\",\"type\":\"UnionRenderers\"},{\"attributes\":{\"source\":{\"id\":\"25670\"}},\"id\":\"25674\",\"type\":\"CDSView\"},{\"attributes\":{},\"id\":\"26350\",\"type\":\"Selection\"},{\"attributes\":{\"data\":{\"x\":{\"__ndarray__\":\"AAAA5UcHd0IAAMBKmgd3QgAAgLDsB3dCAABAFj8Id0IAAAB8kQh3QgAAwOHjCHdCAACARzYJd0IAAECtiAl3QgAAABPbCXdCAADAeC0Kd0IAAIDefwp3QgAAQETSCndCAAAAqiQLd0IAAMAPdwt3QgAAgHXJC3dCAABA2xsMd0IAAABBbgx3QgAAwKbADHdCAACADBMNd0IAAEByZQ13QgAAANi3DXdCAADAPQoOd0IAAICjXA53QgAAQAmvDndCAAAAbwEPd0IAAMDUUw93QgAAgDqmD3dCAABAoPgPd0IAAAAGSxB3QgAAwGudEHdCAACA0e8Qd0IAAEA3QhF3QgAAAJ2UEXdCAADAAucRd0IAAIBoORJ3QgAAQM6LEndCAAAANN4Sd0IAAMCZMBN3QgAAgP+CE3dCAABAZdUTd0IAAADLJxR3QgAAwDB6FHdCAACAlswUd0IAAED8HhV3QgAAAGJxFXdCAADAx8MVd0IAAIAtFhZ3QgAAQJNoFndCAAAA+boWd0IAAMBeDRd3QgAAgMRfF3dCAABAKrIXd0IAAACQBBh3QgAAwPVWGHdCAACAW6kYd0IAAEDB+xh3QgAAACdOGXdCAADAjKAZd0IAAIDy8hl3QgAAQFhFGndCAAAAvpcad0IAAMAj6hp3QgAAgIk8G3dCAABA744bd0IAAABV4Rt3QgAAwLozHHdCAACAIIYcd0IAAECG2Bx3QgAAAOwqHXdCAADAUX0dd0IAAIC3zx13QgAAQB0iHndCAAAAg3Qed0IAAMDoxh53QgAAgE4ZH3dCAABAtGsfd0IAAAAavh93QgAAwH8QIHdCAACA5WIgd0IAAEBLtSB3QgAAALEHIXdCAADAFlohd0IAAIB8rCF3QgAAQOL+IXdCAAAASFEid0IAAMCtoyJ3QgAAgBP2IndCAABAeUgjd0IAAADfmiN3QgAAwETtI3dCAACAqj8kd0IAAEAQkiR3QgAAAHbkJHdCAADA2zYld0IAAIBBiSV3QgAAQKfbJXdCAAAADS4md0IAAMBygCZ3QgAAgNjSJndCAABAPiUnd0IAAACkdyd3QgAAwAnKJ3dCAACAbxwod0IAAEDVbih3QgAAADvBKHdCAADAoBMpd0IAAIAGZil3QgAAQGy4KXdCAAAA0goqd0IAAMA3XSp3QgAAgJ2vKndCAABAAwIrd0IAAABpVCt3QgAAwM6mK3dCAACANPkrd0IAAECaSyx3QgAAAACeLHdCAADAZfAsd0IAAIDLQi13QgAAQDGVLXdCAAAAl+ctd0IAAMD8OS53QgAAgGKMLndCAABAyN4ud0IAAAAuMS93QgAAwJODL3dCAACA+dUvd0IAAEBfKDB3QgAAAMV6MHdCAADAKs0wd0IAAICQHzF3QgAAQPZxMXdCAAAAXMQxd0IAAMDBFjJ3QgAAgCdpMndCAABAjbsyd0IAAADzDTN3QgAAwFhgM3dCAACAvrIzd0IAAEAkBTR3QgAAAIpXNHdCAADA76k0d0IAAIBV/DR3QgAAQLtONXdCAAAAIaE1d0IAAMCG8zV3QgAAgOxFNndCAABAUpg2d0IAAAC46jZ3QgAAwB09N3dCAACAg483d0IAAEDp4Td3QgAAAE80OHdCAADAtIY4d0IAAIAa2Th3QgAAQIArOXdCAAAA5n05d0IAAMBL0Dl3QgAAgLEiOndCAABAF3U6d0IAAAB9xzp3QgAAwOIZO3dCAACASGw7d0IAAECuvjt3QgAAABQRPHdCAADAeWM8d0IAAIDftTx3QgAAQEUIPXdCAAAAq1o9d0IAAMAQrT13QgAAgHb/PXdCAABA3FE+d0IAAABCpD53QgAAwKf2PndCAACADUk/d0IAAEBzmz93QgAAANntP3dCAADAPkBAd0IAAICkkkB3QgAAQArlQHdCAAAAcDdBd0IAAMDViUF3QgAAgDvcQXdCAABAoS5Cd0IAAAAHgUJ3QgAAwGzTQndCAACA0iVDd0IAAEA4eEN3QgAAAJ7KQ3dCAADAAx1Ed0IAAIBpb0R3QgAAQM/BRHdCAAAANRRFd0IAAMCaZkV3QgAAgAC5RXdCAABAZgtGd0IAAADMXUZ3QgAAwDGwRndCAACAlwJHd0IAAED9VEd3QgAAAGOnR3dCAADAyPlHd0IAAIAuTEh3QgAAQJSeSHdCAAAA+vBId0IAAMBfQ0l3QgAAgMWVSXdCAABAK+hJd0IAAACROkp3QgAAwPaMSndCAACAXN9Kd0IAAEDCMUt3QgAAACiES3dCAADAjdZLd0IAAIDzKEx3QgAAQFl7THdCAAAAv81Md0IAAMAkIE13QgAAgIpyTXdCAABA8MRNd0IAAABWF053QgAAwLtpTndCAACAIbxOd0IAAECHDk93QgAAAO1gT3dCAADAUrNPd0IAAIC4BVB3QgAAQB5YUHdCAAAAhKpQd0IAAMDp/FB3QgAAgE9PUXdCAABAtaFRd0IAAAAb9FF3QgAAwIBGUndCAACA5phSd0IAAEBM61J3QgAAALI9U3dCAADAF5BTd0IAAIB94lN3QgAAQOM0VHdCAAAASYdUd0IAAMCu2VR3Qg==\",\"dtype\":\"float64\",\"shape\":[242]},\"y\":{\"__ndarray__\":\"AAAAAAAA+H8AAAAAAAD4fwAAAAAAAPh/AAAAAAAA+H8AAAAAAAD4fwAAAAAAAPh/t23btm0bbkAlSZIkSSJwQG7btm3bdnNAJUmSJEkCeEBJkiRJkqR8QLdt27Ztu4BAJUmSJEk6hUBJkiRJklyJQLdt27Zt249A27Zt27YRkUAAAAAAAOyUQLdt27ZtH5lAJUmSJEkSnUAAAAAAAAyhQLdt27ZtY6NA27Zt27b9pEAAAAAAANanQJIkSZIk86lAJUmSJEnurEC3bdu2bWKwQEmSJEmSF7JAAAAAAAAxs0AlSZIkSQ+0QLdt27ZtBbVA27Zt27aUtUC3bdu2bQu2QEmSJEmSB7ZAJUmSJEm0tUAlSZIkSYO1QNu2bdu2GbVAbtu2bdtutEDbtm3btjG0QEmSJEmSXbNAJUmSJEmZskAlSZIkSfKxQEmSJEmScbFAkiRJkiQxsUAlSZIkSaCwQJIkSZIkGbBA27Zt27atr0BJkiRJkviuQG7btm3b2K5Abtu2bduYrkC3bdu2bRmuQCVJkiRJBq5AJUmSJEm4rEBu27Zt20CsQAAAAAAAvqtAJUmSJElmqkDbtm3btjupQLdt27ZtO6hAAAAAAAD2p0Bu27Zt276oQJIkSZIkeadAJUmSJEnypkAlSZIkSa6lQNu2bdu236RAAAAAAABMpEDbtm3btpWjQG7btm3bJqJA27Zt27ZJoUAAAAAAABygQG7btm3bMp9ASZIkSZIcnUBJkiRJkvSbQAAAAAAAsJlAkiRJkiRBmEAAAAAAADSXQLdt27Ztx5VASZIkSZL0k0CSJEmSJKWSQEmSJEmSlJFAt23btm1PkkDbtm3bthGRQAAAAAAAKJBAkiRJkiTpjUC3bdu2bfuMQCVJkiRJaoxAt23btm0bi0AlSZIkSXqIQLdt27Zte4dAt23btm3rhUBu27Zt206FQLdt27ZtY4RAbtu2bdu+g0AlSZIkSRKDQG7btm3bNoFAJUmSJEnagEAlSZIkSaKAQG7btm3bBoBAt23btm3LfUCSJEmSJDl8QCVJkiRJIntA27Zt27ZtekBJkiRJkhR4QNu2bdu2XXRAJUmSJElidEBJkiRJkhRzQLdt27Ztq3FASZIkSZKUckBJkiRJkkRyQEmSJEmSNHFAJUmSJEkCc0Dbtm3btq1vQEmSJEmShHBAbtu2bdvGcUC3bdu2bftxQEmSJEmSVHFAbtu2bdt2ckDbtm3btg1yQG7btm3b1nJAbtu2bdsWckAlSZIkSRJxQAAAAAAAUHBA27Zt27YNb0A=\",\"dtype\":\"float64\",\"shape\":[121]}},\"selected\":{\"id\":\"26350\"},\"selection_policy\":{\"id\":\"26351\"}},\"id\":\"25670\",\"type\":\"ColumnDataSource\"},{\"attributes\":{\"line_color\":\"blue\",\"line_width\":4,\"x\":{\"field\":\"x\"},\"y\":{\"field\":\"y\"}},\"id\":\"25576\",\"type\":\"Line\"},{\"attributes\":{\"fill_alpha\":{\"value\":0.1},\"fill_color\":{\"value\":\"white\"},\"line_alpha\":{\"value\":0.1},\"line_color\":{\"value\":\"lightblue\"},\"size\":{\"units\":\"screen\",\"value\":5},\"x\":{\"field\":\"x\"},\"y\":{\"field\":\"y\"}},\"id\":\"25672\",\"type\":\"Circle\"},{\"attributes\":{\"use_scientific\":false},\"id\":\"25677\",\"type\":\"BasicTickFormatter\"},{\"attributes\":{\"data_source\":{\"id\":\"25670\"},\"glyph\":{\"id\":\"25671\"},\"hover_glyph\":null,\"muted_glyph\":null,\"nonselection_glyph\":{\"id\":\"25672\"},\"selection_glyph\":null,\"view\":{\"id\":\"25674\"}},\"id\":\"25673\",\"type\":\"GlyphRenderer\"},{\"attributes\":{\"axis_label\":\"Date\",\"formatter\":{\"id\":\"25675\"},\"major_label_orientation\":0.7853981633974483,\"minor_tick_in\":-5,\"minor_tick_out\":-3,\"ticker\":{\"id\":\"25554\"}},\"id\":\"25553\",\"type\":\"DatetimeAxis\"},{\"attributes\":{},\"id\":\"26351\",\"type\":\"UnionRenderers\"},{\"attributes\":{\"days\":[\"%d %B\"]},\"id\":\"25675\",\"type\":\"DatetimeTickFormatter\"},{\"attributes\":{\"bottom_units\":\"screen\",\"fill_alpha\":0.5,\"fill_color\":\"lightgrey\",\"left_units\":\"screen\",\"level\":\"overlay\",\"line_alpha\":1.0,\"line_color\":\"black\",\"line_dash\":[4,4],\"line_width\":2,\"render_mode\":\"css\",\"right_units\":\"screen\",\"top_units\":\"screen\"},\"id\":\"25567\",\"type\":\"BoxAnnotation\"},{\"attributes\":{},\"id\":\"25547\",\"type\":\"DataRange1d\"},{\"attributes\":{\"label\":{\"value\":\"Gamma fitting\"},\"renderers\":[{\"id\":\"25608\"}]},\"id\":\"25632\",\"type\":\"LegendItem\"},{\"attributes\":{},\"id\":\"25549\",\"type\":\"LinearScale\"},{\"attributes\":{\"months\":[0,4,8]},\"id\":\"25594\",\"type\":\"MonthsTicker\"},{\"attributes\":{\"items\":[{\"id\":\"25599\"},{\"id\":\"25632\"},{\"id\":\"25669\"}]},\"id\":\"25598\",\"type\":\"Legend\"},{\"attributes\":{\"months\":[0,2,4,6,8,10]},\"id\":\"25593\",\"type\":\"MonthsTicker\"},{\"attributes\":{},\"id\":\"25551\",\"type\":\"LinearScale\"},{\"attributes\":{\"axis\":{\"id\":\"25553\"},\"ticker\":null},\"id\":\"25556\",\"type\":\"Grid\"},{\"attributes\":{\"months\":[0,6]},\"id\":\"25595\",\"type\":\"MonthsTicker\"},{\"attributes\":{\"axis_label\":\"New Positive\",\"formatter\":{\"id\":\"25677\"},\"minor_tick_in\":-5,\"minor_tick_out\":-3,\"ticker\":{\"id\":\"25558\"}},\"id\":\"25557\",\"type\":\"LinearAxis\"},{\"attributes\":{\"label\":{\"value\":\"new positive\"},\"renderers\":[{\"id\":\"25578\"}]},\"id\":\"25599\",\"type\":\"LegendItem\"},{\"attributes\":{\"num_minor_ticks\":5,\"tickers\":[{\"id\":\"25585\"},{\"id\":\"25586\"},{\"id\":\"25587\"},{\"id\":\"25588\"},{\"id\":\"25589\"},{\"id\":\"25590\"},{\"id\":\"25591\"},{\"id\":\"25592\"},{\"id\":\"25593\"},{\"id\":\"25594\"},{\"id\":\"25595\"},{\"id\":\"25596\"}]},\"id\":\"25554\",\"type\":\"DatetimeTicker\"},{\"attributes\":{},\"id\":\"25596\",\"type\":\"YearsTicker\"},{\"attributes\":{\"source\":{\"id\":\"25600\"}},\"id\":\"25604\",\"type\":\"CDSView\"},{\"attributes\":{\"fill_color\":{\"value\":\"white\"},\"line_color\":{\"value\":\"red\"},\"size\":{\"units\":\"screen\",\"value\":5},\"x\":{\"field\":\"x\"},\"y\":{\"field\":\"y\"}},\"id\":\"25634\",\"type\":\"Circle\"},{\"attributes\":{\"axis\":{\"id\":\"25557\"},\"dimension\":1,\"ticker\":null},\"id\":\"25560\",\"type\":\"Grid\"},{\"attributes\":{\"data\":{\"x\":{\"__ndarray__\":\"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\",\"dtype\":\"float64\",\"shape\":[242]},\"y\":[221,93,78,250,238,240,566,342,466,587,769,778,1247,1492,1797,977,2313,2651,2547,3497,3590,3233,3526,4207,5322,5986,6557,5560,4789,5249,5210,6153,5959,5974,5217,4050,4053,4782,4668,4585,4805,4316,3599,3039,3836,4204,3951,4694,4092,3153,2972,2667,3786,3493,3491,3047,2256,2729,3370,2646,3021,2357,2324,1739,2091,2086,1872,1965,1900,1389,1221,1075,1444,1401,1327,1083,802,744,1402,888,992,789,875,675,451,813,665,642,652,669,531,300,397,584,593,516,416,355,178,318,321,177,518,270,197,280,283,202,379,163,346,338,303,210,329,333,251,262,224,218,122]},\"selected\":{\"id\":\"25617\"},\"selection_policy\":{\"id\":\"25618\"}},\"id\":\"25600\",\"type\":\"ColumnDataSource\"},{\"attributes\":{},\"id\":\"25558\",\"type\":\"BasicTicker\"},{\"attributes\":{},\"id\":\"25615\",\"type\":\"Selection\"},{\"attributes\":{\"days\":[1,8,15,22]},\"id\":\"25590\",\"type\":\"DaysTicker\"},{\"attributes\":{\"days\":[1,4,7,10,13,16,19,22,25,28]},\"id\":\"25589\",\"type\":\"DaysTicker\"},{\"attributes\":{},\"id\":\"26349\",\"type\":\"UnionRenderers\"},{\"attributes\":{\"data\":{\"x\":{\"__ndarray__\":\"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\",\"dtype\":\"float64\",\"shape\":[242]},\"y\":[221,93,78,250,238,240,566,342,466,587,769,778,1247,1492,1797,977,2313,2651,2547,3497,3590,3233,3526,4207,5322,5986,6557,5560,4789,5249,5210,6153,5959,5974,5217,4050,4053,4782,4668,4585,4805,4316,3599,3039,3836,4204,3951,4694,4092,3153,2972,2667,3786,3493,3491,3047,2256,2729,3370,2646,3021,2357,2324,1739,2091,2086,1872,1965,1900,1389,1221,1075,1444,1401,1327,1083,802,744,1402,888,992,789,875,675,451,813,665,642,652,669,531,300,397,584,593,516,416,355,178,318,321,177,518,270,197,280,283,202,379,163,346,338,303,210,329,333,251,262,224,218,122]},\"selected\":{\"id\":\"25615\"},\"selection_policy\":{\"id\":\"25616\"}},\"id\":\"25575\",\"type\":\"ColumnDataSource\"},{\"attributes\":{\"fill_alpha\":{\"value\":0.1},\"fill_color\":{\"value\":\"white\"},\"line_alpha\":{\"value\":0.1},\"line_color\":{\"value\":\"blue\"},\"size\":{\"units\":\"screen\",\"value\":5},\"x\":{\"field\":\"x\"},\"y\":{\"field\":\"y\"}},\"id\":\"25602\",\"type\":\"Circle\"},{\"attributes\":{\"data_source\":{\"id\":\"25600\"},\"glyph\":{\"id\":\"25601\"},\"hover_glyph\":null,\"muted_glyph\":null,\"nonselection_glyph\":{\"id\":\"25602\"},\"selection_glyph\":null,\"view\":{\"id\":\"25604\"}},\"id\":\"25603\",\"type\":\"GlyphRenderer\"},{\"attributes\":{\"days\":[1,15]},\"id\":\"25591\",\"type\":\"DaysTicker\"},{\"attributes\":{\"line_color\":\"red\",\"line_width\":4,\"x\":{\"field\":\"x\"},\"y\":{\"field\":\"y\"}},\"id\":\"25606\",\"type\":\"Line\"},{\"attributes\":{},\"id\":\"25545\",\"type\":\"DataRange1d\"},{\"attributes\":{\"data\":{\"x\":{\"__ndarray__\":\"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\",\"dtype\":\"float64\",\"shape\":[242]},\"y\":{\"__ndarray__\":\"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\",\"dtype\":\"float64\",\"shape\":[242]}},\"selected\":{\"id\":\"25652\"},\"selection_policy\":{\"id\":\"25653\"}},\"id\":\"25605\",\"type\":\"ColumnDataSource\"},{\"attributes\":{\"data_source\":{\"id\":\"25605\"},\"glyph\":{\"id\":\"25606\"},\"hover_glyph\":null,\"muted_glyph\":null,\"nonselection_glyph\":{\"id\":\"25607\"},\"selection_glyph\":null,\"view\":{\"id\":\"25609\"}},\"id\":\"25608\",\"type\":\"GlyphRenderer\"},{\"attributes\":{\"text\":\"Gamma Distribution Fitting New Positive Extended: Italy\"},\"id\":\"25543\",\"type\":\"Title\"},{\"attributes\":{\"months\":[0,1,2,3,4,5,6,7,8,9,10,11]},\"id\":\"25592\",\"type\":\"MonthsTicker\"},{\"attributes\":{\"line_color\":\"lightblue\",\"line_width\":4,\"x\":{\"field\":\"x\"},\"y\":{\"field\":\"y\"}},\"id\":\"25639\",\"type\":\"Line\"},{\"attributes\":{\"source\":{\"id\":\"25605\"}},\"id\":\"25609\",\"type\":\"CDSView\"},{\"attributes\":{\"line_alpha\":0.1,\"line_color\":\"red\",\"line_width\":4,\"x\":{\"field\":\"x\"},\"y\":{\"field\":\"y\"}},\"id\":\"25607\",\"type\":\"Line\"},{\"attributes\":{},\"id\":\"26348\",\"type\":\"Selection\"},{\"attributes\":{\"line_alpha\":0.1,\"line_color\":\"blue\",\"line_width\":4,\"x\":{\"field\":\"x\"},\"y\":{\"field\":\"y\"}},\"id\":\"25577\",\"type\":\"Line\"},{\"attributes\":{\"base\":24,\"mantissas\":[1,2,4,6,8,12],\"max_interval\":43200000.0,\"min_interval\":3600000.0,\"num_minor_ticks\":0},\"id\":\"25587\",\"type\":\"AdaptiveTicker\"},{\"attributes\":{},\"id\":\"25561\",\"type\":\"PanTool\"},{\"attributes\":{},\"id\":\"25616\",\"type\":\"UnionRenderers\"},{\"attributes\":{},\"id\":\"25617\",\"type\":\"Selection\"},{\"attributes\":{\"base\":60,\"mantissas\":[1,2,5,10,15,20,30],\"max_interval\":1800000.0,\"min_interval\":1000.0,\"num_minor_ticks\":0},\"id\":\"25586\",\"type\":\"AdaptiveTicker\"},{\"attributes\":{\"source\":{\"id\":\"25575\"}},\"id\":\"25579\",\"type\":\"CDSView\"},{\"attributes\":{\"data_source\":{\"id\":\"25575\"},\"glyph\":{\"id\":\"25576\"},\"hover_glyph\":null,\"muted_glyph\":null,\"nonselection_glyph\":{\"id\":\"25577\"},\"selection_glyph\":null,\"view\":{\"id\":\"25579\"}},\"id\":\"25578\",\"type\":\"GlyphRenderer\"},{\"attributes\":{},\"id\":\"25562\",\"type\":\"WheelZoomTool\"},{\"attributes\":{},\"id\":\"25618\",\"type\":\"UnionRenderers\"},{\"attributes\":{\"data\":{\"x\":{\"__ndarray__\":\"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\",\"dtype\":\"float64\",\"shape\":[242]},\"y\":{\"__ndarray__\":\"AAAAAAAA+H8AAAAAAAD4fwAAAAAAAPh/AAAAAAAA+H8AAAAAAAD4fwAAAAAAAPh/t23btm0bbkAlSZIkSSJwQG7btm3bdnNAJUmSJEkCeEBJkiRJkqR8QLdt27Ztu4BAJUmSJEk6hUBJkiRJklyJQLdt27Zt249A27Zt27YRkUAAAAAAAOyUQLdt27ZtH5lAJUmSJEkSnUAAAAAAAAyhQLdt27ZtY6NA27Zt27b9pEAAAAAAANanQJIkSZIk86lAJUmSJEnurEC3bdu2bWKwQEmSJEmSF7JAAAAAAAAxs0AlSZIkSQ+0QLdt27ZtBbVA27Zt27aUtUC3bdu2bQu2QEmSJEmSB7ZAJUmSJEm0tUAlSZIkSYO1QNu2bdu2GbVAbtu2bdtutEDbtm3btjG0QEmSJEmSXbNAJUmSJEmZskAlSZIkSfKxQEmSJEmScbFAkiRJkiQxsUAlSZIkSaCwQJIkSZIkGbBA27Zt27atr0BJkiRJkviuQG7btm3b2K5Abtu2bduYrkC3bdu2bRmuQCVJkiRJBq5AJUmSJEm4rEBu27Zt20CsQAAAAAAAvqtAJUmSJElmqkDbtm3btjupQLdt27ZtO6hAAAAAAAD2p0Bu27Zt276oQJIkSZIkeadAJUmSJEnypkAlSZIkSa6lQNu2bdu236RAAAAAAABMpEDbtm3btpWjQG7btm3bJqJA27Zt27ZJoUAAAAAAABygQG7btm3bMp9ASZIkSZIcnUBJkiRJkvSbQAAAAAAAsJlAkiRJkiRBmEAAAAAAADSXQLdt27Ztx5VASZIkSZL0k0CSJEmSJKWSQEmSJEmSlJFAt23btm1PkkDbtm3bthGRQAAAAAAAKJBAkiRJkiTpjUC3bdu2bfuMQCVJkiRJaoxAt23btm0bi0AlSZIkSXqIQLdt27Zte4dAt23btm3rhUBu27Zt206FQLdt27ZtY4RAbtu2bdu+g0AlSZIkSRKDQG7btm3bNoFAJUmSJEnagEAlSZIkSaKAQG7btm3bBoBAt23btm3LfUCSJEmSJDl8QCVJkiRJIntA27Zt27ZtekBJkiRJkhR4QNu2bdu2XXRAJUmSJElidEBJkiRJkhRzQLdt27Ztq3FASZIkSZKUckBJkiRJkkRyQEmSJEmSNHFAJUmSJEkCc0Dbtm3btq1vQEmSJEmShHBAbtu2bdvGcUC3bdu2bftxQEmSJEmSVHFAbtu2bdt2ckDbtm3btg1yQG7btm3b1nJAbtu2bdsWckAlSZIkSRJxQAAAAAAAUHBA27Zt27YNb0A=\",\"dtype\":\"float64\",\"shape\":[121]}},\"selected\":{\"id\":\"26348\"},\"selection_policy\":{\"id\":\"26349\"}},\"id\":\"25638\",\"type\":\"ColumnDataSource\"},{\"attributes\":{\"line_alpha\":0.1,\"line_color\":\"lightblue\",\"line_width\":4,\"x\":{\"field\":\"x\"},\"y\":{\"field\":\"y\"}},\"id\":\"25640\",\"type\":\"Line\"},{\"attributes\":{\"data\":{\"x\":{\"__ndarray__\":\"AAAA5UcHd0IAAMBKmgd3QgAAgLDsB3dCAABAFj8Id0IAAAB8kQh3QgAAwOHjCHdCAACARzYJd0IAAECtiAl3QgAAABPbCXdCAADAeC0Kd0IAAIDefwp3QgAAQETSCndCAAAAqiQLd0IAAMAPdwt3QgAAgHXJC3dCAABA2xsMd0IAAABBbgx3QgAAwKbADHdCAACADBMNd0IAAEByZQ13QgAAANi3DXdCAADAPQoOd0IAAICjXA53QgAAQAmvDndCAAAAbwEPd0IAAMDUUw93QgAAgDqmD3dCAABAoPgPd0IAAAAGSxB3QgAAwGudEHdCAACA0e8Qd0IAAEA3QhF3QgAAAJ2UEXdCAADAAucRd0IAAIBoORJ3QgAAQM6LEndCAAAANN4Sd0IAAMCZMBN3QgAAgP+CE3dCAABAZdUTd0IAAADLJxR3QgAAwDB6FHdCAACAlswUd0IAAED8HhV3QgAAAGJxFXdCAADAx8MVd0IAAIAtFhZ3QgAAQJNoFndCAAAA+boWd0IAAMBeDRd3QgAAgMRfF3dCAABAKrIXd0IAAACQBBh3QgAAwPVWGHdCAACAW6kYd0IAAEDB+xh3QgAAACdOGXdCAADAjKAZd0IAAIDy8hl3QgAAQFhFGndCAAAAvpcad0IAAMAj6hp3QgAAgIk8G3dCAABA744bd0IAAABV4Rt3QgAAwLozHHdCAACAIIYcd0IAAECG2Bx3QgAAAOwqHXdCAADAUX0dd0IAAIC3zx13QgAAQB0iHndCAAAAg3Qed0IAAMDoxh53QgAAgE4ZH3dCAABAtGsfd0IAAAAavh93QgAAwH8QIHdCAACA5WIgd0IAAEBLtSB3QgAAALEHIXdCAADAFlohd0IAAIB8rCF3QgAAQOL+IXdCAAAASFEid0IAAMCtoyJ3QgAAgBP2IndCAABAeUgjd0IAAADfmiN3QgAAwETtI3dCAACAqj8kd0IAAEAQkiR3QgAAAHbkJHdCAADA2zYld0IAAIBBiSV3QgAAQKfbJXdCAAAADS4md0IAAMBygCZ3QgAAgNjSJndCAABAPiUnd0IAAACkdyd3QgAAwAnKJ3dCAACAbxwod0IAAEDVbih3QgAAADvBKHdCAADAoBMpd0IAAIAGZil3QgAAQGy4KXdCAAAA0goqd0IAAMA3XSp3QgAAgJ2vKndCAABAAwIrd0IAAABpVCt3QgAAwM6mK3dCAACANPkrd0IAAECaSyx3QgAAAACeLHdCAADAZfAsd0IAAIDLQi13QgAAQDGVLXdCAAAAl+ctd0IAAMD8OS53QgAAgGKMLndCAABAyN4ud0IAAAAuMS93QgAAwJODL3dCAACA+dUvd0IAAEBfKDB3QgAAAMV6MHdCAADAKs0wd0IAAICQHzF3QgAAQPZxMXdCAAAAXMQxd0IAAMDBFjJ3QgAAgCdpMndCAABAjbsyd0IAAADzDTN3QgAAwFhgM3dCAACAvrIzd0IAAEAkBTR3QgAAAIpXNHdCAADA76k0d0IAAIBV/DR3QgAAQLtONXdCAAAAIaE1d0IAAMCG8zV3QgAAgOxFNndCAABAUpg2d0IAAAC46jZ3QgAAwB09N3dCAACAg483d0IAAEDp4Td3QgAAAE80OHdCAADAtIY4d0IAAIAa2Th3QgAAQIArOXdCAAAA5n05d0IAAMBL0Dl3QgAAgLEiOndCAABAF3U6d0IAAAB9xzp3QgAAwOIZO3dCAACASGw7d0IAAECuvjt3QgAAABQRPHdCAADAeWM8d0IAAIDftTx3QgAAQEUIPXdCAAAAq1o9d0IAAMAQrT13QgAAgHb/PXdCAABA3FE+d0IAAABCpD53QgAAwKf2PndCAACADUk/d0IAAEBzmz93QgAAANntP3dCAADAPkBAd0IAAICkkkB3QgAAQArlQHdCAAAAcDdBd0IAAMDViUF3QgAAgDvcQXdCAABAoS5Cd0IAAAAHgUJ3QgAAwGzTQndCAACA0iVDd0IAAEA4eEN3QgAAAJ7KQ3dCAADAAx1Ed0IAAIBpb0R3QgAAQM/BRHdCAAAANRRFd0IAAMCaZkV3QgAAgAC5RXdCAABAZgtGd0IAAADMXUZ3QgAAwDGwRndCAACAlwJHd0IAAED9VEd3QgAAAGOnR3dCAADAyPlHd0IAAIAuTEh3QgAAQJSeSHdCAAAA+vBId0IAAMBfQ0l3QgAAgMWVSXdCAABAK+hJd0IAAACROkp3QgAAwPaMSndCAACAXN9Kd0IAAEDCMUt3QgAAACiES3dCAADAjdZLd0IAAIDzKEx3QgAAQFl7THdCAAAAv81Md0IAAMAkIE13QgAAgIpyTXdCAABA8MRNd0IAAABWF053QgAAwLtpTndCAACAIbxOd0IAAECHDk93QgAAAO1gT3dCAADAUrNPd0IAAIC4BVB3QgAAQB5YUHdCAAAAhKpQd0IAAMDp/FB3QgAAgE9PUXdCAABAtaFRd0IAAAAb9FF3QgAAwIBGUndCAACA5phSd0IAAEBM61J3QgAAALI9U3dCAADAF5BTd0IAAIB94lN3QgAAQOM0VHdCAAAASYdUd0IAAMCu2VR3Qg==\",\"dtype\":\"float64\",\"shape\":[242]},\"y\":{\"__ndarray__\":\"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\",\"dtype\":\"float64\",\"shape\":[242]}},\"selected\":{\"id\":\"25654\"},\"selection_policy\":{\"id\":\"25655\"}},\"id\":\"25633\",\"type\":\"ColumnDataSource\"},{\"attributes\":{\"active_drag\":\"auto\",\"active_inspect\":\"auto\",\"active_multi\":null,\"active_scroll\":\"auto\",\"active_tap\":\"auto\",\"tools\":[{\"id\":\"25561\"},{\"id\":\"25562\"},{\"id\":\"25563\"},{\"id\":\"25564\"},{\"id\":\"25565\"},{\"id\":\"25566\"},{\"id\":\"25679\"}]},\"id\":\"25568\",\"type\":\"Toolbar\"},{\"attributes\":{},\"id\":\"25566\",\"type\":\"HelpTool\"},{\"attributes\":{},\"id\":\"25564\",\"type\":\"SaveTool\"},{\"attributes\":{\"fill_color\":{\"value\":\"white\"},\"line_color\":{\"value\":\"blue\"},\"size\":{\"units\":\"screen\",\"value\":5},\"x\":{\"field\":\"x\"},\"y\":{\"field\":\"y\"}},\"id\":\"25601\",\"type\":\"Circle\"},{\"attributes\":{\"fill_alpha\":{\"value\":0.1},\"fill_color\":{\"value\":\"white\"},\"line_alpha\":{\"value\":0.1},\"line_color\":{\"value\":\"red\"},\"size\":{\"units\":\"screen\",\"value\":5},\"x\":{\"field\":\"x\"},\"y\":{\"field\":\"y\"}},\"id\":\"25635\",\"type\":\"Circle\"},{\"attributes\":{\"source\":{\"id\":\"25633\"}},\"id\":\"25637\",\"type\":\"CDSView\"},{\"attributes\":{\"data_source\":{\"id\":\"25633\"},\"glyph\":{\"id\":\"25634\"},\"hover_glyph\":null,\"muted_glyph\":null,\"nonselection_glyph\":{\"id\":\"25635\"},\"selection_glyph\":null,\"view\":{\"id\":\"25637\"}},\"id\":\"25636\",\"type\":\"GlyphRenderer\"},{\"attributes\":{\"fill_color\":{\"value\":\"white\"},\"line_color\":{\"value\":\"lightblue\"},\"size\":{\"units\":\"screen\",\"value\":5},\"x\":{\"field\":\"x\"},\"y\":{\"field\":\"y\"}},\"id\":\"25671\",\"type\":\"Circle\"},{\"attributes\":{\"overlay\":{\"id\":\"25567\"}},\"id\":\"25563\",\"type\":\"BoxZoomTool\"},{\"attributes\":{\"label\":{\"value\":\"SMA 7 days\"},\"renderers\":[{\"id\":\"25641\"}]},\"id\":\"25669\",\"type\":\"LegendItem\"},{\"attributes\":{},\"id\":\"25565\",\"type\":\"ResetTool\"},{\"attributes\":{\"days\":[1,2,3,4,5,6,7,8,9,10,11,12,13,14,15,16,17,18,19,20,21,22,23,24,25,26,27,28,29,30,31]},\"id\":\"25588\",\"type\":\"DaysTicker\"},{\"attributes\":{\"mantissas\":[1,2,5],\"max_interval\":500.0,\"num_minor_ticks\":0},\"id\":\"25585\",\"type\":\"AdaptiveTicker\"}],\"root_ids\":[\"25542\"]},\"title\":\"Bokeh Application\",\"version\":\"2.0.2\"}};\n",
       "  var render_items = [{\"docid\":\"77a04116-c353-422e-8ee5-f1904b92e8dc\",\"root_ids\":[\"25542\"],\"roots\":{\"25542\":\"d9861b76-10dc-457a-8fed-20adac9ba243\"}}];\n",
       "  root.Bokeh.embed.embed_items_notebook(docs_json, render_items);\n",
       "\n",
       "  }\n",
       "  if (root.Bokeh !== undefined) {\n",
       "    embed_document(root);\n",
       "  } else {\n",
       "    var attempts = 0;\n",
       "    var timer = setInterval(function(root) {\n",
       "      if (root.Bokeh !== undefined) {\n",
       "        clearInterval(timer);\n",
       "        embed_document(root);\n",
       "      } else {\n",
       "        attempts++;\n",
       "        if (attempts > 100) {\n",
       "          clearInterval(timer);\n",
       "          console.log(\"Bokeh: ERROR: Unable to run BokehJS code because BokehJS library is missing\");\n",
       "        }\n",
       "      }\n",
       "    }, 10, root)\n",
       "  }\n",
       "})(window);"
      ],
      "application/vnd.bokehjs_exec.v0+json": ""
     },
     "metadata": {
      "application/vnd.bokehjs_exec.v0+json": {
       "id": "25542"
      }
     },
     "output_type": "display_data"
    }
   ],
   "source": [
    "pfit_3_new_positive_Italy = bokeh_plot_N_lines(x=time_date_new_extended, y_list=[nuovi_positivi_italy.loc[0:(fit_range_5-1)],ydata_5[0:fit_range_6],SMA_new_positive['nuovi_positivi']], \n",
    "                  title='Gamma Distribution Fitting New Positive Extended: Italy', \n",
    "                  dim=[600, 450],\n",
    "                  x_label='Date', \n",
    "                  y_label='New Positive', legend_list=['new positive','Gamma fitting','SMA 7 days'],\n",
    "                  x_label_hover='date', y_label_hover='new positive/fitting/SMA 7',\n",
    "                  color_list=['blue','red','lightblue'],legend_location=\"top_right\", y_minmax=None)\n",
    "\n",
    "output_file(\"fit_3_new_positive_Italy.html\")\n",
    "\n",
    "show(pfit_3_new_positive_Italy)"
   ]
  },
  {
   "cell_type": "markdown",
   "metadata": {},
   "source": [
    "-----------------"
   ]
  },
  {
   "cell_type": "markdown",
   "metadata": {},
   "source": [
    "------------"
   ]
  },
  {
   "cell_type": "code",
   "execution_count": 113,
   "metadata": {},
   "outputs": [
    {
     "name": "stderr",
     "output_type": "stream",
     "text": [
      "/Users/Angelo/opt/anaconda3/lib/python3.7/site-packages/ipykernel_launcher.py:12: RuntimeWarning: overflow encountered in double_scalars\n",
      "  if sys.path[0] == '':\n",
      "/Users/Angelo/opt/anaconda3/lib/python3.7/site-packages/ipykernel_launcher.py:12: RuntimeWarning: overflow encountered in power\n",
      "  if sys.path[0] == '':\n",
      "/Users/Angelo/opt/anaconda3/lib/python3.7/site-packages/ipykernel_launcher.py:12: RuntimeWarning: invalid value encountered in multiply\n",
      "  if sys.path[0] == '':\n",
      "/Users/Angelo/opt/anaconda3/lib/python3.7/site-packages/ipykernel_launcher.py:12: RuntimeWarning: invalid value encountered in true_divide\n",
      "  if sys.path[0] == '':\n"
     ]
    },
    {
     "data": {
      "text/plain": [
       "(4.309956946282663, -0.11249623086582704, 34023.62844018066)"
      ]
     },
     "execution_count": 113,
     "metadata": {},
     "output_type": "execute_result"
    }
   ],
   "source": [
    "fit_range_7 = len(nuovi_deceduti)   \n",
    "xdata_8 = np.linspace(1, fit_range_7, fit_range_7)\n",
    "# init_guess = [1,0.15,20000]\n",
    "fit = curve_fit(model_Gamma_distribution, xdata_8, nuovi_deceduti[0:(fit_range_7)])\n",
    "ans, cov = fit\n",
    "fit_alpha, fit_beta, fit_Kmax = ans\n",
    "fit_alpha, fit_beta, fit_Kmax"
   ]
  },
  {
   "cell_type": "code",
   "execution_count": 114,
   "metadata": {},
   "outputs": [
    {
     "data": {
      "text/plain": [
       "array([[ 5.25042219e-02, -1.22856192e-03, -8.81860471e+01],\n",
       "       [-1.22856192e-03,  3.02876681e-05,  2.29654337e+00],\n",
       "       [-8.81860471e+01,  2.29654337e+00,  5.21846269e+05]])"
      ]
     },
     "execution_count": 114,
     "metadata": {},
     "output_type": "execute_result"
    }
   ],
   "source": [
    "cov"
   ]
  },
  {
   "cell_type": "code",
   "execution_count": 115,
   "metadata": {},
   "outputs": [
    {
     "data": {
      "text/plain": [
       "array([2.29137998e-01, 5.50342331e-03, 7.22389278e+02])"
      ]
     },
     "execution_count": 115,
     "metadata": {},
     "output_type": "execute_result"
    }
   ],
   "source": [
    "np.sqrt(np.diag(cov))"
   ]
  },
  {
   "cell_type": "code",
   "execution_count": 116,
   "metadata": {},
   "outputs": [
    {
     "data": {
      "text/plain": [
       "array([7.19512670e-03, 1.27528800e-01, 6.54180399e-01, 2.01986159e+00,\n",
       "       4.72218614e+00, 9.25879293e+00, 1.60781346e+01, 2.55459444e+01,\n",
       "       3.79254410e+01, 5.33687415e+01, 7.19169333e+01, 9.35064864e+01,\n",
       "       1.17980010e+02, 1.45099707e+02, 1.74562215e+02, 2.06013815e+02,\n",
       "       2.39065246e+02, 2.73305599e+02, 3.08314926e+02, 3.43675331e+02,\n",
       "       3.78980473e+02, 4.13843431e+02, 4.47902989e+02, 4.80828445e+02,\n",
       "       5.12323033e+02, 5.42126140e+02, 5.70014422e+02, 5.95802009e+02,\n",
       "       6.19339916e+02, 6.40514818e+02, 6.59247313e+02, 6.75489790e+02,\n",
       "       6.89224006e+02, 7.00458479e+02, 7.09225759e+02, 7.15579663e+02,\n",
       "       7.19592514e+02, 7.21352459e+02, 7.20960869e+02, 7.18529882e+02,\n",
       "       7.14180092e+02, 7.08038407e+02, 7.00236083e+02, 6.90906941e+02,\n",
       "       6.80185770e+02, 6.68206905e+02, 6.55102984e+02, 6.41003878e+02,\n",
       "       6.26035774e+02, 6.10320412e+02, 5.93974462e+02, 5.77109029e+02,\n",
       "       5.59829278e+02, 5.42234158e+02, 5.24416230e+02, 5.06461573e+02,\n",
       "       4.88449768e+02, 4.70453945e+02, 4.52540884e+02, 4.34771165e+02,\n",
       "       4.17199358e+02, 3.99874240e+02, 3.82839044e+02, 3.66131720e+02,\n",
       "       3.49785219e+02, 3.33827777e+02, 3.18283214e+02, 3.03171225e+02,\n",
       "       2.88507682e+02, 2.74304916e+02, 2.60572011e+02, 2.47315074e+02,\n",
       "       2.34537507e+02, 2.22240263e+02, 2.10422091e+02, 1.99079770e+02,\n",
       "       1.88208328e+02, 1.77801252e+02, 1.67850682e+02, 1.58347592e+02,\n",
       "       1.49281959e+02, 1.40642921e+02, 1.32418917e+02, 1.24597825e+02,\n",
       "       1.17167077e+02, 1.10113771e+02, 1.03424775e+02, 9.70868064e+01,\n",
       "       9.10865229e+01, 8.54105875e+01, 8.00457348e+01, 7.49788257e+01,\n",
       "       7.01968965e+01, 6.56872016e+01, 6.14372489e+01, 5.74348310e+01,\n",
       "       5.36680508e+01, 5.01253421e+01, 4.67954868e+01, 4.36676279e+01,\n",
       "       4.07312786e+01, 3.79763294e+01, 3.53930516e+01, 3.29720986e+01,\n",
       "       3.07045054e+01, 2.85816855e+01, 2.65954272e+01, 2.47378875e+01,\n",
       "       2.30015851e+01, 2.13793929e+01, 1.98645290e+01, 1.84505472e+01,\n",
       "       1.71313271e+01, 1.59010633e+01, 1.47542553e+01, 1.36856958e+01,\n",
       "       1.26904599e+01, 1.17638938e+01, 1.09016039e+01, 1.00994452e+01,\n",
       "       9.35351063e+00])"
      ]
     },
     "execution_count": 116,
     "metadata": {},
     "output_type": "execute_result"
    }
   ],
   "source": [
    "ydata_8 = model_Gamma_distribution(xdata_8,fit_alpha,fit_beta,fit_Kmax)\n",
    "ydata_8"
   ]
  },
  {
   "cell_type": "code",
   "execution_count": 117,
   "metadata": {},
   "outputs": [
    {
     "data": {
      "text/html": [
       "\n",
       "\n",
       "\n",
       "\n",
       "\n",
       "\n",
       "  <div class=\"bk-root\" id=\"36b33dec-025e-4e68-818f-91b1c8acf4cf\" data-root-id=\"26898\"></div>\n"
      ]
     },
     "metadata": {},
     "output_type": "display_data"
    },
    {
     "data": {
      "application/javascript": [
       "(function(root) {\n",
       "  function embed_document(root) {\n",
       "    \n",
       "  var docs_json = {\"a4048b18-7e7b-4140-b930-7928298de882\":{\"roots\":{\"references\":[{\"attributes\":{\"below\":[{\"id\":\"26909\"}],\"center\":[{\"id\":\"26912\"},{\"id\":\"26916\"},{\"id\":\"26954\"}],\"left\":[{\"id\":\"26913\"}],\"plot_height\":450,\"renderers\":[{\"id\":\"26934\"},{\"id\":\"26959\"},{\"id\":\"26964\"},{\"id\":\"26992\"}],\"title\":{\"id\":\"26899\"},\"toolbar\":{\"id\":\"26924\"},\"x_range\":{\"id\":\"26901\"},\"x_scale\":{\"id\":\"26905\"},\"y_range\":{\"id\":\"26903\"},\"y_scale\":{\"id\":\"26907\"}},\"id\":\"26898\",\"subtype\":\"Figure\",\"type\":\"Plot\"},{\"attributes\":{},\"id\":\"26971\",\"type\":\"Selection\"},{\"attributes\":{},\"id\":\"26914\",\"type\":\"BasicTicker\"},{\"attributes\":{\"axis\":{\"id\":\"26913\"},\"dimension\":1,\"ticker\":null},\"id\":\"26916\",\"type\":\"Grid\"},{\"attributes\":{\"days\":[1,2,3,4,5,6,7,8,9,10,11,12,13,14,15,16,17,18,19,20,21,22,23,24,25,26,27,28,29,30,31]},\"id\":\"26944\",\"type\":\"DaysTicker\"},{\"attributes\":{\"axis_label\":\"New Deaths\",\"formatter\":{\"id\":\"26998\"},\"minor_tick_in\":-5,\"minor_tick_out\":-3,\"ticker\":{\"id\":\"26914\"}},\"id\":\"26913\",\"type\":\"LinearAxis\"},{\"attributes\":{\"axis_label\":\"Date\",\"formatter\":{\"id\":\"26994\"},\"major_label_orientation\":0.7853981633974483,\"minor_tick_in\":-5,\"minor_tick_out\":-3,\"ticker\":{\"id\":\"26910\"}},\"id\":\"26909\",\"type\":\"DatetimeAxis\"},{\"attributes\":{\"mantissas\":[1,2,5],\"max_interval\":500.0,\"num_minor_ticks\":0},\"id\":\"26941\",\"type\":\"AdaptiveTicker\"},{\"attributes\":{\"data\":{\"x\":{\"__ndarray__\":\"AAAA5UcHd0IAAMBKmgd3QgAAgLDsB3dCAABAFj8Id0IAAAB8kQh3QgAAwOHjCHdCAACARzYJd0IAAECtiAl3QgAAABPbCXdCAADAeC0Kd0IAAIDefwp3QgAAQETSCndCAAAAqiQLd0IAAMAPdwt3QgAAgHXJC3dCAABA2xsMd0IAAABBbgx3QgAAwKbADHdCAACADBMNd0IAAEByZQ13QgAAANi3DXdCAADAPQoOd0IAAICjXA53QgAAQAmvDndCAAAAbwEPd0IAAMDUUw93QgAAgDqmD3dCAABAoPgPd0IAAAAGSxB3QgAAwGudEHdCAACA0e8Qd0IAAEA3QhF3QgAAAJ2UEXdCAADAAucRd0IAAIBoORJ3QgAAQM6LEndCAAAANN4Sd0IAAMCZMBN3QgAAgP+CE3dCAABAZdUTd0IAAADLJxR3QgAAwDB6FHdCAACAlswUd0IAAED8HhV3QgAAAGJxFXdCAADAx8MVd0IAAIAtFhZ3QgAAQJNoFndCAAAA+boWd0IAAMBeDRd3QgAAgMRfF3dCAABAKrIXd0IAAACQBBh3QgAAwPVWGHdCAACAW6kYd0IAAEDB+xh3QgAAACdOGXdCAADAjKAZd0IAAIDy8hl3QgAAQFhFGndCAAAAvpcad0IAAMAj6hp3QgAAgIk8G3dCAABA744bd0IAAABV4Rt3QgAAwLozHHdCAACAIIYcd0IAAECG2Bx3QgAAAOwqHXdCAADAUX0dd0IAAIC3zx13QgAAQB0iHndCAAAAg3Qed0IAAMDoxh53QgAAgE4ZH3dCAABAtGsfd0IAAAAavh93QgAAwH8QIHdCAACA5WIgd0IAAEBLtSB3QgAAALEHIXdCAADAFlohd0IAAIB8rCF3QgAAQOL+IXdCAAAASFEid0IAAMCtoyJ3QgAAgBP2IndCAABAeUgjd0IAAADfmiN3QgAAwETtI3dCAACAqj8kd0IAAEAQkiR3QgAAAHbkJHdCAADA2zYld0IAAIBBiSV3QgAAQKfbJXdCAAAADS4md0IAAMBygCZ3QgAAgNjSJndCAABAPiUnd0IAAACkdyd3QgAAwAnKJ3dCAACAbxwod0IAAEDVbih3QgAAADvBKHdCAADAoBMpd0IAAIAGZil3QgAAQGy4KXdCAAAA0goqd0IAAMA3XSp3QgAAgJ2vKndCAABAAwIrd0IAAABpVCt3QgAAwM6mK3dCAACANPkrd0IAAECaSyx3QgAAAACeLHdCAADAZfAsd0IAAIDLQi13QgAAQDGVLXdCAAAAl+ctd0I=\",\"dtype\":\"float64\",\"shape\":[121]},\"y\":[0,3,2,5,4,8,5,18,27,28,41,49,36,133,97,168,196,189,250,175,368,349,345,475,427,627,793,651,601,743,683,662,969,889,756,812,837,727,760,766,681,525,636,604,542,610,570,619,431,566,602,578,525,575,482,433,454,534,437,464,420,415,260,333,382,323,285,269,474,174,195,236,369,274,243,194,165,179,172,195,262,242,153,145,99,162,161,156,130,119,50,92,78,117,70,87,111,75,60,55,71,88,85,72,53,65,79,71,53,56,78,44,26,34,43,66,47,49,24,23,18]},\"selected\":{\"id\":\"26971\"},\"selection_policy\":{\"id\":\"26972\"}},\"id\":\"26931\",\"type\":\"ColumnDataSource\"},{\"attributes\":{},\"id\":\"26972\",\"type\":\"UnionRenderers\"},{\"attributes\":{},\"id\":\"27692\",\"type\":\"Selection\"},{\"attributes\":{},\"id\":\"27695\",\"type\":\"UnionRenderers\"},{\"attributes\":{\"data\":{\"x\":{\"__ndarray__\":\"AAAA5UcHd0IAAMBKmgd3QgAAgLDsB3dCAABAFj8Id0IAAAB8kQh3QgAAwOHjCHdCAACARzYJd0IAAECtiAl3QgAAABPbCXdCAADAeC0Kd0IAAIDefwp3QgAAQETSCndCAAAAqiQLd0IAAMAPdwt3QgAAgHXJC3dCAABA2xsMd0IAAABBbgx3QgAAwKbADHdCAACADBMNd0IAAEByZQ13QgAAANi3DXdCAADAPQoOd0IAAICjXA53QgAAQAmvDndCAAAAbwEPd0IAAMDUUw93QgAAgDqmD3dCAABAoPgPd0IAAAAGSxB3QgAAwGudEHdCAACA0e8Qd0IAAEA3QhF3QgAAAJ2UEXdCAADAAucRd0IAAIBoORJ3QgAAQM6LEndCAAAANN4Sd0IAAMCZMBN3QgAAgP+CE3dCAABAZdUTd0IAAADLJxR3QgAAwDB6FHdCAACAlswUd0IAAED8HhV3QgAAAGJxFXdCAADAx8MVd0IAAIAtFhZ3QgAAQJNoFndCAAAA+boWd0IAAMBeDRd3QgAAgMRfF3dCAABAKrIXd0IAAACQBBh3QgAAwPVWGHdCAACAW6kYd0IAAEDB+xh3QgAAACdOGXdCAADAjKAZd0IAAIDy8hl3QgAAQFhFGndCAAAAvpcad0IAAMAj6hp3QgAAgIk8G3dCAABA744bd0IAAABV4Rt3QgAAwLozHHdCAACAIIYcd0IAAECG2Bx3QgAAAOwqHXdCAADAUX0dd0IAAIC3zx13QgAAQB0iHndCAAAAg3Qed0IAAMDoxh53QgAAgE4ZH3dCAABAtGsfd0IAAAAavh93QgAAwH8QIHdCAACA5WIgd0IAAEBLtSB3QgAAALEHIXdCAADAFlohd0IAAIB8rCF3QgAAQOL+IXdCAAAASFEid0IAAMCtoyJ3QgAAgBP2IndCAABAeUgjd0IAAADfmiN3QgAAwETtI3dCAACAqj8kd0IAAEAQkiR3QgAAAHbkJHdCAADA2zYld0IAAIBBiSV3QgAAQKfbJXdCAAAADS4md0IAAMBygCZ3QgAAgNjSJndCAABAPiUnd0IAAACkdyd3QgAAwAnKJ3dCAACAbxwod0IAAEDVbih3QgAAADvBKHdCAADAoBMpd0IAAIAGZil3QgAAQGy4KXdCAAAA0goqd0IAAMA3XSp3QgAAgJ2vKndCAABAAwIrd0IAAABpVCt3QgAAwM6mK3dCAACANPkrd0IAAECaSyx3QgAAAACeLHdCAADAZfAsd0IAAIDLQi13QgAAQDGVLXdCAAAAl+ctd0I=\",\"dtype\":\"float64\",\"shape\":[121]},\"y\":[0,3,2,5,4,8,5,18,27,28,41,49,36,133,97,168,196,189,250,175,368,349,345,475,427,627,793,651,601,743,683,662,969,889,756,812,837,727,760,766,681,525,636,604,542,610,570,619,431,566,602,578,525,575,482,433,454,534,437,464,420,415,260,333,382,323,285,269,474,174,195,236,369,274,243,194,165,179,172,195,262,242,153,145,99,162,161,156,130,119,50,92,78,117,70,87,111,75,60,55,71,88,85,72,53,65,79,71,53,56,78,44,26,34,43,66,47,49,24,23,18]},\"selected\":{\"id\":\"26973\"},\"selection_policy\":{\"id\":\"26974\"}},\"id\":\"26956\",\"type\":\"ColumnDataSource\"},{\"attributes\":{\"fill_alpha\":{\"value\":0.1},\"fill_color\":{\"value\":\"white\"},\"line_alpha\":{\"value\":0.1},\"line_color\":{\"value\":\"red\"},\"size\":{\"units\":\"screen\",\"value\":6},\"x\":{\"field\":\"x\"},\"y\":{\"field\":\"y\"}},\"id\":\"26991\",\"type\":\"Circle\"},{\"attributes\":{\"data_source\":{\"id\":\"26931\"},\"glyph\":{\"id\":\"26932\"},\"hover_glyph\":null,\"muted_glyph\":null,\"nonselection_glyph\":{\"id\":\"26933\"},\"selection_glyph\":null,\"view\":{\"id\":\"26935\"}},\"id\":\"26934\",\"type\":\"GlyphRenderer\"},{\"attributes\":{\"data_source\":{\"id\":\"26961\"},\"glyph\":{\"id\":\"26962\"},\"hover_glyph\":null,\"muted_glyph\":null,\"nonselection_glyph\":{\"id\":\"26963\"},\"selection_glyph\":null,\"view\":{\"id\":\"26965\"}},\"id\":\"26964\",\"type\":\"GlyphRenderer\"},{\"attributes\":{},\"id\":\"27694\",\"type\":\"Selection\"},{\"attributes\":{\"label\":{\"value\":\"Gamma fitting\"},\"renderers\":[{\"id\":\"26964\"}]},\"id\":\"26988\",\"type\":\"LegendItem\"},{\"attributes\":{\"months\":[0,2,4,6,8,10]},\"id\":\"26949\",\"type\":\"MonthsTicker\"},{\"attributes\":{\"bottom_units\":\"screen\",\"fill_alpha\":0.5,\"fill_color\":\"lightgrey\",\"left_units\":\"screen\",\"level\":\"overlay\",\"line_alpha\":1.0,\"line_color\":\"black\",\"line_dash\":[4,4],\"line_width\":2,\"render_mode\":\"css\",\"right_units\":\"screen\",\"top_units\":\"screen\"},\"id\":\"26923\",\"type\":\"BoxAnnotation\"},{\"attributes\":{\"data_source\":{\"id\":\"26989\"},\"glyph\":{\"id\":\"26990\"},\"hover_glyph\":null,\"muted_glyph\":null,\"nonselection_glyph\":{\"id\":\"26991\"},\"selection_glyph\":null,\"view\":{\"id\":\"26993\"}},\"id\":\"26992\",\"type\":\"GlyphRenderer\"},{\"attributes\":{\"line_alpha\":0.1,\"line_color\":\"darkviolet\",\"line_width\":4,\"x\":{\"field\":\"x\"},\"y\":{\"field\":\"y\"}},\"id\":\"26933\",\"type\":\"Line\"},{\"attributes\":{\"line_color\":\"darkviolet\",\"line_width\":4,\"x\":{\"field\":\"x\"},\"y\":{\"field\":\"y\"}},\"id\":\"26932\",\"type\":\"Line\"},{\"attributes\":{\"source\":{\"id\":\"26956\"}},\"id\":\"26960\",\"type\":\"CDSView\"},{\"attributes\":{\"line_color\":\"red\",\"line_width\":4,\"x\":{\"field\":\"x\"},\"y\":{\"field\":\"y\"}},\"id\":\"26962\",\"type\":\"Line\"},{\"attributes\":{},\"id\":\"26917\",\"type\":\"PanTool\"},{\"attributes\":{\"days\":[1,15]},\"id\":\"26947\",\"type\":\"DaysTicker\"},{\"attributes\":{\"line_alpha\":0.1,\"line_color\":\"red\",\"line_width\":4,\"x\":{\"field\":\"x\"},\"y\":{\"field\":\"y\"}},\"id\":\"26963\",\"type\":\"Line\"},{\"attributes\":{},\"id\":\"26998\",\"type\":\"NumeralTickFormatter\"},{\"attributes\":{\"text\":\"Gamma Distribution Fitting New Deaths: Italy\"},\"id\":\"26899\",\"type\":\"Title\"},{\"attributes\":{\"items\":[{\"id\":\"26955\"},{\"id\":\"26988\"}],\"location\":\"top_left\"},\"id\":\"26954\",\"type\":\"Legend\"},{\"attributes\":{\"days\":[\"%d %B\"]},\"id\":\"26994\",\"type\":\"DatetimeTickFormatter\"},{\"attributes\":{},\"id\":\"26918\",\"type\":\"WheelZoomTool\"},{\"attributes\":{\"fill_alpha\":{\"value\":0.1},\"fill_color\":{\"value\":\"white\"},\"line_alpha\":{\"value\":0.1},\"line_color\":{\"value\":\"darkviolet\"},\"size\":{\"units\":\"screen\",\"value\":6},\"x\":{\"field\":\"x\"},\"y\":{\"field\":\"y\"}},\"id\":\"26958\",\"type\":\"Circle\"},{\"attributes\":{\"months\":[0,6]},\"id\":\"26951\",\"type\":\"MonthsTicker\"},{\"attributes\":{\"axis\":{\"id\":\"26909\"},\"ticker\":null},\"id\":\"26912\",\"type\":\"Grid\"},{\"attributes\":{\"overlay\":{\"id\":\"26923\"}},\"id\":\"26919\",\"type\":\"BoxZoomTool\"},{\"attributes\":{},\"id\":\"26905\",\"type\":\"LinearScale\"},{\"attributes\":{\"fill_color\":{\"value\":\"white\"},\"line_color\":{\"value\":\"darkviolet\"},\"size\":{\"units\":\"screen\",\"value\":6},\"x\":{\"field\":\"x\"},\"y\":{\"field\":\"y\"}},\"id\":\"26957\",\"type\":\"Circle\"},{\"attributes\":{\"data\":{\"x\":{\"__ndarray__\":\"AAAA5UcHd0IAAMBKmgd3QgAAgLDsB3dCAABAFj8Id0IAAAB8kQh3QgAAwOHjCHdCAACARzYJd0IAAECtiAl3QgAAABPbCXdCAADAeC0Kd0IAAIDefwp3QgAAQETSCndCAAAAqiQLd0IAAMAPdwt3QgAAgHXJC3dCAABA2xsMd0IAAABBbgx3QgAAwKbADHdCAACADBMNd0IAAEByZQ13QgAAANi3DXdCAADAPQoOd0IAAICjXA53QgAAQAmvDndCAAAAbwEPd0IAAMDUUw93QgAAgDqmD3dCAABAoPgPd0IAAAAGSxB3QgAAwGudEHdCAACA0e8Qd0IAAEA3QhF3QgAAAJ2UEXdCAADAAucRd0IAAIBoORJ3QgAAQM6LEndCAAAANN4Sd0IAAMCZMBN3QgAAgP+CE3dCAABAZdUTd0IAAADLJxR3QgAAwDB6FHdCAACAlswUd0IAAED8HhV3QgAAAGJxFXdCAADAx8MVd0IAAIAtFhZ3QgAAQJNoFndCAAAA+boWd0IAAMBeDRd3QgAAgMRfF3dCAABAKrIXd0IAAACQBBh3QgAAwPVWGHdCAACAW6kYd0IAAEDB+xh3QgAAACdOGXdCAADAjKAZd0IAAIDy8hl3QgAAQFhFGndCAAAAvpcad0IAAMAj6hp3QgAAgIk8G3dCAABA744bd0IAAABV4Rt3QgAAwLozHHdCAACAIIYcd0IAAECG2Bx3QgAAAOwqHXdCAADAUX0dd0IAAIC3zx13QgAAQB0iHndCAAAAg3Qed0IAAMDoxh53QgAAgE4ZH3dCAABAtGsfd0IAAAAavh93QgAAwH8QIHdCAACA5WIgd0IAAEBLtSB3QgAAALEHIXdCAADAFlohd0IAAIB8rCF3QgAAQOL+IXdCAAAASFEid0IAAMCtoyJ3QgAAgBP2IndCAABAeUgjd0IAAADfmiN3QgAAwETtI3dCAACAqj8kd0IAAEAQkiR3QgAAAHbkJHdCAADA2zYld0IAAIBBiSV3QgAAQKfbJXdCAAAADS4md0IAAMBygCZ3QgAAgNjSJndCAABAPiUnd0IAAACkdyd3QgAAwAnKJ3dCAACAbxwod0IAAEDVbih3QgAAADvBKHdCAADAoBMpd0IAAIAGZil3QgAAQGy4KXdCAAAA0goqd0IAAMA3XSp3QgAAgJ2vKndCAABAAwIrd0IAAABpVCt3QgAAwM6mK3dCAACANPkrd0IAAECaSyx3QgAAAACeLHdCAADAZfAsd0IAAIDLQi13QgAAQDGVLXdCAAAAl+ctd0I=\",\"dtype\":\"float64\",\"shape\":[121]},\"y\":{\"__ndarray__\":\"Z+HRHaN4fT+GQG8d3VLAP1pIVbsL7+Q/cfR6Ma0oAEANkGDDhOMSQEEGqoGAhCJAzOnwoAAUMEDd3dACw4s5QNYzvNl09kJAlOqV6zKvSkCCWioJr/pRQOvN7UVqYFdAiQpRerh+XUCP7yjMMCNiQI6jOav90WVAkVFgLHHAaUB92SJ+FuJtQK+mRrzjFHFAoQpe7wlFc0A9epknznp1QHy7pQSwr3dA3UUksX7deUCy6gWlcv57QD8aGU9BDX5At9tykpUCgEBZOJRVAvGAQCb0WIkd0IFAZImzg2qegkCA3cQluFqDQBn97VgeBIRA3Yxyf/qZhEDhts4W6xuFQCmPbsPKiYVAl0Da9qrjhUAa2eRazimGQBNVJiajXIZAgbUieL18hkCCOAvW0YqGQKO/D9yvh4ZAjDLCMj10hkCYiBzUcFGGQLLDSKhOIIZADZ5Sf+PhhUC6RWVqQZeFQAtoG3V8QYVAVJKrvafhhEC35VTp0niEQCi2VvEHCIRAm6bnQ0mQg0AWYQU0kBKDQFrvjLLLj4JAAGHNSt8IgkB26qtcon6BQBvAc47f8YBAJg6HcFRjgEDQR6maYqd/QG3MZUAyh35AVUMRXENnfUDMVvh1p0h8QMZRbLFWLHtAUhI6kjATekDklo3j/P14QGQibbls7XdAWdeihhvidkA1t5FBkNx1QG+nEZM+3XRAN2AEC4jkc0DRNeJWvfJyQJsLAXcfCHJAGjPR7+AkcUCGd7v0JklwQH99YhUV6m5AS3W3QTNRbUCB9VM8sMdrQFBhj8WBTWpA+kyQeY3iaEABeBWfqoZnQMKWIdujOWZAtT1RyTj7ZEBgau14H8tjQKbuDM8FqWJAzn9MzpKUYUD+T9HEZ41gQOrJ28JCJl9AGV26YbFKXUDEJjsISIdbQIsIC4Iv21lAetJrPI5FWEDHFCqXicVWQLkv/hBHWlVAhV6xUe0CVEAEdlgUpb5SQGhv6vOZjFFAqndpHPtrUEAOnIXF97dOQLne6Yqot0xAPtPpr4LVSkDWhmc1CxBJQJkdGIPSZUdAWNeM1HTVRUCJcpSJml1EQOiV7Fz4/EJArLAIhE+yQUCykoK6bXxAQLY7MndatD5ApFTmV+mUPEByYWDrbZg6QCRpSzHmvDhAvqT/4GcAN0A9sKnkH2E1QC3dLsZR3TNA5j9hEFdzMkB41tWmniExQARJ5ixYzS9AX18twS2CLUAztPeEE18rQKv7vPSDYSlA95ROFx2HJ0AVEY4Gn80lQHrXgHrqMiRA/6B7WP+0IkA=\",\"dtype\":\"float64\",\"shape\":[121]}},\"selected\":{\"id\":\"27694\"},\"selection_policy\":{\"id\":\"27695\"}},\"id\":\"26989\",\"type\":\"ColumnDataSource\"},{\"attributes\":{\"base\":60,\"mantissas\":[1,2,5,10,15,20,30],\"max_interval\":1800000.0,\"min_interval\":1000.0,\"num_minor_ticks\":0},\"id\":\"26942\",\"type\":\"AdaptiveTicker\"},{\"attributes\":{\"source\":{\"id\":\"26931\"}},\"id\":\"26935\",\"type\":\"CDSView\"},{\"attributes\":{},\"id\":\"26920\",\"type\":\"SaveTool\"},{\"attributes\":{\"callback\":null,\"formatters\":{\"@x\":\"datetime\"},\"mode\":\"vline\",\"tooltips\":[[\"date\",\"@x{%d %B}\"],[\"new deaths OR fitting\",\"@y{0.}\"]]},\"id\":\"26999\",\"type\":\"HoverTool\"},{\"attributes\":{\"months\":[0,1,2,3,4,5,6,7,8,9,10,11]},\"id\":\"26948\",\"type\":\"MonthsTicker\"},{\"attributes\":{\"data_source\":{\"id\":\"26956\"},\"glyph\":{\"id\":\"26957\"},\"hover_glyph\":null,\"muted_glyph\":null,\"nonselection_glyph\":{\"id\":\"26958\"},\"selection_glyph\":null,\"view\":{\"id\":\"26960\"}},\"id\":\"26959\",\"type\":\"GlyphRenderer\"},{\"attributes\":{},\"id\":\"26952\",\"type\":\"YearsTicker\"},{\"attributes\":{\"source\":{\"id\":\"26961\"}},\"id\":\"26965\",\"type\":\"CDSView\"},{\"attributes\":{\"fill_color\":{\"value\":\"white\"},\"line_color\":{\"value\":\"red\"},\"size\":{\"units\":\"screen\",\"value\":6},\"x\":{\"field\":\"x\"},\"y\":{\"field\":\"y\"}},\"id\":\"26990\",\"type\":\"Circle\"},{\"attributes\":{},\"id\":\"26921\",\"type\":\"ResetTool\"},{\"attributes\":{},\"id\":\"26901\",\"type\":\"DataRange1d\"},{\"attributes\":{},\"id\":\"26974\",\"type\":\"UnionRenderers\"},{\"attributes\":{\"days\":[1,4,7,10,13,16,19,22,25,28]},\"id\":\"26945\",\"type\":\"DaysTicker\"},{\"attributes\":{\"data\":{\"x\":{\"__ndarray__\":\"AAAA5UcHd0IAAMBKmgd3QgAAgLDsB3dCAABAFj8Id0IAAAB8kQh3QgAAwOHjCHdCAACARzYJd0IAAECtiAl3QgAAABPbCXdCAADAeC0Kd0IAAIDefwp3QgAAQETSCndCAAAAqiQLd0IAAMAPdwt3QgAAgHXJC3dCAABA2xsMd0IAAABBbgx3QgAAwKbADHdCAACADBMNd0IAAEByZQ13QgAAANi3DXdCAADAPQoOd0IAAICjXA53QgAAQAmvDndCAAAAbwEPd0IAAMDUUw93QgAAgDqmD3dCAABAoPgPd0IAAAAGSxB3QgAAwGudEHdCAACA0e8Qd0IAAEA3QhF3QgAAAJ2UEXdCAADAAucRd0IAAIBoORJ3QgAAQM6LEndCAAAANN4Sd0IAAMCZMBN3QgAAgP+CE3dCAABAZdUTd0IAAADLJxR3QgAAwDB6FHdCAACAlswUd0IAAED8HhV3QgAAAGJxFXdCAADAx8MVd0IAAIAtFhZ3QgAAQJNoFndCAAAA+boWd0IAAMBeDRd3QgAAgMRfF3dCAABAKrIXd0IAAACQBBh3QgAAwPVWGHdCAACAW6kYd0IAAEDB+xh3QgAAACdOGXdCAADAjKAZd0IAAIDy8hl3QgAAQFhFGndCAAAAvpcad0IAAMAj6hp3QgAAgIk8G3dCAABA744bd0IAAABV4Rt3QgAAwLozHHdCAACAIIYcd0IAAECG2Bx3QgAAAOwqHXdCAADAUX0dd0IAAIC3zx13QgAAQB0iHndCAAAAg3Qed0IAAMDoxh53QgAAgE4ZH3dCAABAtGsfd0IAAAAavh93QgAAwH8QIHdCAACA5WIgd0IAAEBLtSB3QgAAALEHIXdCAADAFlohd0IAAIB8rCF3QgAAQOL+IXdCAAAASFEid0IAAMCtoyJ3QgAAgBP2IndCAABAeUgjd0IAAADfmiN3QgAAwETtI3dCAACAqj8kd0IAAEAQkiR3QgAAAHbkJHdCAADA2zYld0IAAIBBiSV3QgAAQKfbJXdCAAAADS4md0IAAMBygCZ3QgAAgNjSJndCAABAPiUnd0IAAACkdyd3QgAAwAnKJ3dCAACAbxwod0IAAEDVbih3QgAAADvBKHdCAADAoBMpd0IAAIAGZil3QgAAQGy4KXdCAAAA0goqd0IAAMA3XSp3QgAAgJ2vKndCAABAAwIrd0IAAABpVCt3QgAAwM6mK3dCAACANPkrd0IAAECaSyx3QgAAAACeLHdCAADAZfAsd0IAAIDLQi13QgAAQDGVLXdCAAAAl+ctd0I=\",\"dtype\":\"float64\",\"shape\":[121]},\"y\":{\"__ndarray__\":\"Z+HRHaN4fT+GQG8d3VLAP1pIVbsL7+Q/cfR6Ma0oAEANkGDDhOMSQEEGqoGAhCJAzOnwoAAUMEDd3dACw4s5QNYzvNl09kJAlOqV6zKvSkCCWioJr/pRQOvN7UVqYFdAiQpRerh+XUCP7yjMMCNiQI6jOav90WVAkVFgLHHAaUB92SJ+FuJtQK+mRrzjFHFAoQpe7wlFc0A9epknznp1QHy7pQSwr3dA3UUksX7deUCy6gWlcv57QD8aGU9BDX5At9tykpUCgEBZOJRVAvGAQCb0WIkd0IFAZImzg2qegkCA3cQluFqDQBn97VgeBIRA3Yxyf/qZhEDhts4W6xuFQCmPbsPKiYVAl0Da9qrjhUAa2eRazimGQBNVJiajXIZAgbUieL18hkCCOAvW0YqGQKO/D9yvh4ZAjDLCMj10hkCYiBzUcFGGQLLDSKhOIIZADZ5Sf+PhhUC6RWVqQZeFQAtoG3V8QYVAVJKrvafhhEC35VTp0niEQCi2VvEHCIRAm6bnQ0mQg0AWYQU0kBKDQFrvjLLLj4JAAGHNSt8IgkB26qtcon6BQBvAc47f8YBAJg6HcFRjgEDQR6maYqd/QG3MZUAyh35AVUMRXENnfUDMVvh1p0h8QMZRbLFWLHtAUhI6kjATekDklo3j/P14QGQibbls7XdAWdeihhvidkA1t5FBkNx1QG+nEZM+3XRAN2AEC4jkc0DRNeJWvfJyQJsLAXcfCHJAGjPR7+AkcUCGd7v0JklwQH99YhUV6m5AS3W3QTNRbUCB9VM8sMdrQFBhj8WBTWpA+kyQeY3iaEABeBWfqoZnQMKWIdujOWZAtT1RyTj7ZEBgau14H8tjQKbuDM8FqWJAzn9MzpKUYUD+T9HEZ41gQOrJ28JCJl9AGV26YbFKXUDEJjsISIdbQIsIC4Iv21lAetJrPI5FWEDHFCqXicVWQLkv/hBHWlVAhV6xUe0CVEAEdlgUpb5SQGhv6vOZjFFAqndpHPtrUEAOnIXF97dOQLne6Yqot0xAPtPpr4LVSkDWhmc1CxBJQJkdGIPSZUdAWNeM1HTVRUCJcpSJml1EQOiV7Fz4/EJArLAIhE+yQUCykoK6bXxAQLY7MndatD5ApFTmV+mUPEByYWDrbZg6QCRpSzHmvDhAvqT/4GcAN0A9sKnkH2E1QC3dLsZR3TNA5j9hEFdzMkB41tWmniExQARJ5ixYzS9AX18twS2CLUAztPeEE18rQKv7vPSDYSlA95ROFx2HJ0AVEY4Gn80lQHrXgHrqMiRA/6B7WP+0IkA=\",\"dtype\":\"float64\",\"shape\":[121]}},\"selected\":{\"id\":\"27692\"},\"selection_policy\":{\"id\":\"27693\"}},\"id\":\"26961\",\"type\":\"ColumnDataSource\"},{\"attributes\":{\"num_minor_ticks\":5,\"tickers\":[{\"id\":\"26941\"},{\"id\":\"26942\"},{\"id\":\"26943\"},{\"id\":\"26944\"},{\"id\":\"26945\"},{\"id\":\"26946\"},{\"id\":\"26947\"},{\"id\":\"26948\"},{\"id\":\"26949\"},{\"id\":\"26950\"},{\"id\":\"26951\"},{\"id\":\"26952\"}]},\"id\":\"26910\",\"type\":\"DatetimeTicker\"},{\"attributes\":{\"months\":[0,4,8]},\"id\":\"26950\",\"type\":\"MonthsTicker\"},{\"attributes\":{},\"id\":\"26903\",\"type\":\"DataRange1d\"},{\"attributes\":{\"source\":{\"id\":\"26989\"}},\"id\":\"26993\",\"type\":\"CDSView\"},{\"attributes\":{},\"id\":\"26922\",\"type\":\"HelpTool\"},{\"attributes\":{},\"id\":\"27693\",\"type\":\"UnionRenderers\"},{\"attributes\":{},\"id\":\"26907\",\"type\":\"LinearScale\"},{\"attributes\":{\"active_drag\":\"auto\",\"active_inspect\":\"auto\",\"active_multi\":null,\"active_scroll\":\"auto\",\"active_tap\":\"auto\",\"tools\":[{\"id\":\"26917\"},{\"id\":\"26918\"},{\"id\":\"26919\"},{\"id\":\"26920\"},{\"id\":\"26921\"},{\"id\":\"26922\"},{\"id\":\"26999\"}]},\"id\":\"26924\",\"type\":\"Toolbar\"},{\"attributes\":{},\"id\":\"26973\",\"type\":\"Selection\"},{\"attributes\":{\"days\":[1,8,15,22]},\"id\":\"26946\",\"type\":\"DaysTicker\"},{\"attributes\":{\"label\":{\"value\":\"new deaths\"},\"renderers\":[{\"id\":\"26934\"}]},\"id\":\"26955\",\"type\":\"LegendItem\"},{\"attributes\":{\"base\":24,\"mantissas\":[1,2,4,6,8,12],\"max_interval\":43200000.0,\"min_interval\":3600000.0,\"num_minor_ticks\":0},\"id\":\"26943\",\"type\":\"AdaptiveTicker\"}],\"root_ids\":[\"26898\"]},\"title\":\"Bokeh Application\",\"version\":\"2.0.2\"}};\n",
       "  var render_items = [{\"docid\":\"a4048b18-7e7b-4140-b930-7928298de882\",\"root_ids\":[\"26898\"],\"roots\":{\"26898\":\"36b33dec-025e-4e68-818f-91b1c8acf4cf\"}}];\n",
       "  root.Bokeh.embed.embed_items_notebook(docs_json, render_items);\n",
       "\n",
       "  }\n",
       "  if (root.Bokeh !== undefined) {\n",
       "    embed_document(root);\n",
       "  } else {\n",
       "    var attempts = 0;\n",
       "    var timer = setInterval(function(root) {\n",
       "      if (root.Bokeh !== undefined) {\n",
       "        clearInterval(timer);\n",
       "        embed_document(root);\n",
       "      } else {\n",
       "        attempts++;\n",
       "        if (attempts > 100) {\n",
       "          clearInterval(timer);\n",
       "          console.log(\"Bokeh: ERROR: Unable to run BokehJS code because BokehJS library is missing\");\n",
       "        }\n",
       "      }\n",
       "    }, 10, root)\n",
       "  }\n",
       "})(window);"
      ],
      "application/vnd.bokehjs_exec.v0+json": ""
     },
     "metadata": {
      "application/vnd.bokehjs_exec.v0+json": {
       "id": "26898"
      }
     },
     "output_type": "display_data"
    }
   ],
   "source": [
    "pfit_new_deaths_Italy = bokeh_plot_2_lines(x=time_date_new, y=nuovi_deceduti[0:(fit_range_7)], yy=ydata_8[0:fit_range_7], \n",
    "                  title='Gamma Distribution Fitting New Deaths: Italy', \n",
    "                  file_name=\"fit_new_deaths_Italy.html\", \n",
    "                  x_label='Date', y_label='New Deaths', \n",
    "                  legend_1='new deaths', legend_2='Gamma fitting',\n",
    "                  x_label_hover='date' , y_label_hover='new deaths OR fitting' , \n",
    "                  color_1='darkviolet', color_2='red', y_minmax=None)\n",
    "\n",
    "show(pfit_new_deaths_Italy)"
   ]
  },
  {
   "cell_type": "code",
   "execution_count": 118,
   "metadata": {},
   "outputs": [
    {
     "data": {
      "text/plain": [
       "0.9742423800797033"
      ]
     },
     "execution_count": 118,
     "metadata": {},
     "output_type": "execute_result"
    }
   ],
   "source": [
    "- cov[0,1] / (np.sqrt(np.diag(cov)[0] * np.diag(cov)[1])) # Correlation coefficient for parameters 'alpha' and 'beta'"
   ]
  },
  {
   "cell_type": "code",
   "execution_count": 119,
   "metadata": {},
   "outputs": [
    {
     "data": {
      "text/plain": [
       "-0.5327598297428702"
      ]
     },
     "execution_count": 119,
     "metadata": {},
     "output_type": "execute_result"
    }
   ],
   "source": [
    "cov[0,2] / (np.sqrt(np.diag(cov)[0] * np.diag(cov)[2])) # Correlation coefficient for parameters 'alpha' and 'Kmax'"
   ]
  },
  {
   "cell_type": "code",
   "execution_count": 120,
   "metadata": {},
   "outputs": [
    {
     "data": {
      "text/plain": [
       "-0.5776575346875585"
      ]
     },
     "execution_count": 120,
     "metadata": {},
     "output_type": "execute_result"
    }
   ],
   "source": [
    "- cov[1,2] / (np.sqrt(np.diag(cov)[1] * np.diag(cov)[2])) # Correlation coefficient for parameters 'beta' and 'Kmax'"
   ]
  },
  {
   "cell_type": "code",
   "execution_count": 121,
   "metadata": {},
   "outputs": [
    {
     "data": {
      "text/plain": [
       "0.9244532381396482"
      ]
     },
     "execution_count": 121,
     "metadata": {},
     "output_type": "execute_result"
    }
   ],
   "source": [
    "residuals_8 = nuovi_deceduti[0:(fit_range_7)] - ydata_8  #  Calculation of R^2\n",
    "ss_res_8 = np.sum(residuals_8**2)\n",
    "ss_tot_8 = np.sum((nuovi_deceduti[0:(fit_range_7)] - np.mean(nuovi_deceduti[0:(fit_range_7)]))**2)\n",
    "r_squared_8 = 1 - (ss_res_8 / ss_tot_8)\n",
    "r_squared_8"
   ]
  },
  {
   "cell_type": "markdown",
   "metadata": {},
   "source": [
    "-----------"
   ]
  },
  {
   "cell_type": "code",
   "execution_count": 122,
   "metadata": {},
   "outputs": [
    {
     "data": {
      "text/plain": [
       "array([7.19512670e-03, 1.27528800e-01, 6.54180399e-01, 2.01986159e+00,\n",
       "       4.72218614e+00, 9.25879293e+00, 1.60781346e+01, 2.55459444e+01,\n",
       "       3.79254410e+01, 5.33687415e+01, 7.19169333e+01, 9.35064864e+01,\n",
       "       1.17980010e+02, 1.45099707e+02, 1.74562215e+02, 2.06013815e+02,\n",
       "       2.39065246e+02, 2.73305599e+02, 3.08314926e+02, 3.43675331e+02,\n",
       "       3.78980473e+02, 4.13843431e+02, 4.47902989e+02, 4.80828445e+02,\n",
       "       5.12323033e+02, 5.42126140e+02, 5.70014422e+02, 5.95802009e+02,\n",
       "       6.19339916e+02, 6.40514818e+02, 6.59247313e+02, 6.75489790e+02,\n",
       "       6.89224006e+02, 7.00458479e+02, 7.09225759e+02, 7.15579663e+02,\n",
       "       7.19592514e+02, 7.21352459e+02, 7.20960869e+02, 7.18529882e+02,\n",
       "       7.14180092e+02, 7.08038407e+02, 7.00236083e+02, 6.90906941e+02,\n",
       "       6.80185770e+02, 6.68206905e+02, 6.55102984e+02, 6.41003878e+02,\n",
       "       6.26035774e+02, 6.10320412e+02, 5.93974462e+02, 5.77109029e+02,\n",
       "       5.59829278e+02, 5.42234158e+02, 5.24416230e+02, 5.06461573e+02,\n",
       "       4.88449768e+02, 4.70453945e+02, 4.52540884e+02, 4.34771165e+02,\n",
       "       4.17199358e+02, 3.99874240e+02, 3.82839044e+02, 3.66131720e+02,\n",
       "       3.49785219e+02, 3.33827777e+02, 3.18283214e+02, 3.03171225e+02,\n",
       "       2.88507682e+02, 2.74304916e+02, 2.60572011e+02, 2.47315074e+02,\n",
       "       2.34537507e+02, 2.22240263e+02, 2.10422091e+02, 1.99079770e+02,\n",
       "       1.88208328e+02, 1.77801252e+02, 1.67850682e+02, 1.58347592e+02,\n",
       "       1.49281959e+02, 1.40642921e+02, 1.32418917e+02, 1.24597825e+02,\n",
       "       1.17167077e+02, 1.10113771e+02, 1.03424775e+02, 9.70868064e+01,\n",
       "       9.10865229e+01, 8.54105875e+01, 8.00457348e+01, 7.49788257e+01,\n",
       "       7.01968965e+01, 6.56872016e+01, 6.14372489e+01, 5.74348310e+01,\n",
       "       5.36680508e+01, 5.01253421e+01, 4.67954868e+01, 4.36676279e+01,\n",
       "       4.07312786e+01, 3.79763294e+01, 3.53930516e+01, 3.29720986e+01,\n",
       "       3.07045054e+01, 2.85816855e+01, 2.65954272e+01, 2.47378875e+01,\n",
       "       2.30015851e+01, 2.13793929e+01, 1.98645290e+01, 1.84505472e+01,\n",
       "       1.71313271e+01, 1.59010633e+01, 1.47542553e+01, 1.36856958e+01,\n",
       "       1.26904599e+01, 1.17638938e+01, 1.09016039e+01, 1.00994452e+01,\n",
       "       9.35351063e+00, 8.66012025e+00, 8.01581042e+00, 7.41732360e+00,\n",
       "       6.86159810e+00, 6.34575834e+00, 5.86710522e+00, 5.42310695e+00,\n",
       "       5.01139014e+00, 4.62973118e+00, 4.27604803e+00, 3.94839233e+00,\n",
       "       3.64494177e+00, 3.36399290e+00, 3.10395418e+00, 2.86333936e+00,\n",
       "       2.64076128e+00, 2.43492581e+00, 2.24462623e+00, 2.06873781e+00,\n",
       "       1.90621274e+00, 1.75607529e+00, 1.61741723e+00, 1.48939353e+00,\n",
       "       1.37121826e+00, 1.26216080e+00, 1.16154214e+00, 1.06873156e+00,\n",
       "       9.83143333e-01, 9.04233788e-01, 8.31498424e-01, 7.64469277e-01,\n",
       "       7.02712411e-01, 6.45825591e-01, 5.93436082e-01, 5.45198605e-01,\n",
       "       5.00793412e-01, 4.59924494e-01, 4.22317900e-01, 3.87720175e-01,\n",
       "       3.55896889e-01, 3.26631278e-01, 2.99722969e-01, 2.74986788e-01,\n",
       "       2.52251663e-01, 2.31359582e-01, 2.12164647e-01, 1.94532169e-01,\n",
       "       1.78337846e-01, 1.63466991e-01, 1.49813811e-01, 1.37280743e-01,\n",
       "       1.25777836e-01, 1.15222176e-01, 1.05537355e-01, 9.66529723e-02,\n",
       "       8.85041826e-02, 8.10312670e-02, 7.41792412e-02, 6.78974905e-02,\n",
       "       6.21394333e-02, 5.68622077e-02, 5.20263834e-02, 4.75956940e-02,\n",
       "       4.35367897e-02, 3.98190092e-02, 3.64141680e-02, 3.32963636e-02,\n",
       "       3.04417952e-02, 2.78285971e-02, 2.54366852e-02, 2.32476152e-02,\n",
       "       2.12444516e-02, 1.94116472e-02, 1.77349317e-02, 1.62012090e-02,\n",
       "       1.47984628e-02, 1.35156692e-02, 1.23427166e-02, 1.12703315e-02,\n",
       "       1.02900108e-02, 9.39395860e-03, 8.57502862e-03, 7.82667125e-03,\n",
       "       7.14288451e-03, 6.51816911e-03, 5.94748712e-03, 5.42622393e-03,\n",
       "       4.95015331e-03, 4.51540527e-03, 4.11843652e-03, 3.75600337e-03,\n",
       "       3.42513681e-03, 3.12311960e-03, 2.84746527e-03, 2.59589883e-03,\n",
       "       2.36633904e-03, 2.15688219e-03, 1.96578716e-03, 1.79146174e-03,\n",
       "       1.63245006e-03, 1.48742114e-03, 1.35515824e-03, 1.23454929e-03,\n",
       "       1.12457792e-03, 1.02431539e-03, 9.32913107e-04, 8.49595819e-04,\n",
       "       7.73655346e-04, 7.04444854e-04, 6.41373612e-04, 5.83902180e-04,\n",
       "       5.31538013e-04, 4.83831435e-04, 4.40371953e-04, 4.00784877e-04,\n",
       "       3.64728241e-04, 3.31889976e-04, 3.01985321e-04, 2.74754466e-04,\n",
       "       2.49960389e-04, 2.27386877e-04])"
      ]
     },
     "execution_count": 122,
     "metadata": {},
     "output_type": "execute_result"
    }
   ],
   "source": [
    "fit_range_8 = time_date_new_extended.shape[0]\n",
    "xdata_9 = np.linspace(1, fit_range_8, fit_range_8)\n",
    "ydata_9 = model_Gamma_distribution(xdata_9,fit_alpha,fit_beta,fit_Kmax)\n",
    "ydata_9"
   ]
  },
  {
   "cell_type": "code",
   "execution_count": 123,
   "metadata": {},
   "outputs": [
    {
     "name": "stderr",
     "output_type": "stream",
     "text": [
      "BokehUserWarning: ColumnDataSource's columns must be of the same length. Current lengths: ('x', 242), ('y', 121)\n",
      "BokehUserWarning: ColumnDataSource's columns must be of the same length. Current lengths: ('x', 242), ('y', 121)\n"
     ]
    },
    {
     "data": {
      "text/html": [
       "\n",
       "\n",
       "\n",
       "\n",
       "\n",
       "\n",
       "  <div class=\"bk-root\" id=\"7789ee2b-c9ee-40c1-b4cb-8b0e3a1a6b55\" data-root-id=\"28166\"></div>\n"
      ]
     },
     "metadata": {},
     "output_type": "display_data"
    },
    {
     "data": {
      "application/javascript": [
       "(function(root) {\n",
       "  function embed_document(root) {\n",
       "    \n",
       "  var docs_json = {\"5d9fc224-8db2-4280-9e2f-4a33304de568\":{\"roots\":{\"references\":[{\"attributes\":{\"below\":[{\"id\":\"28177\"}],\"center\":[{\"id\":\"28180\"},{\"id\":\"28184\"},{\"id\":\"28222\"}],\"left\":[{\"id\":\"28181\"}],\"plot_height\":450,\"renderers\":[{\"id\":\"28202\"},{\"id\":\"28227\"},{\"id\":\"28232\"},{\"id\":\"28260\"}],\"title\":{\"id\":\"28167\"},\"toolbar\":{\"id\":\"28192\"},\"x_range\":{\"id\":\"28169\"},\"x_scale\":{\"id\":\"28173\"},\"y_range\":{\"id\":\"28171\"},\"y_scale\":{\"id\":\"28175\"}},\"id\":\"28166\",\"subtype\":\"Figure\",\"type\":\"Plot\"},{\"attributes\":{\"data\":{\"x\":{\"__ndarray__\":\"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\",\"dtype\":\"float64\",\"shape\":[242]},\"y\":{\"__ndarray__\":\"Z+HRHaN4fT+GQG8d3VLAP1pIVbsL7+Q/cfR6Ma0oAEANkGDDhOMSQEEGqoGAhCJAzOnwoAAUMEDd3dACw4s5QNYzvNl09kJAlOqV6zKvSkCCWioJr/pRQOvN7UVqYFdAiQpRerh+XUCP7yjMMCNiQI6jOav90WVAkVFgLHHAaUB92SJ+FuJtQK+mRrzjFHFAoQpe7wlFc0A9epknznp1QHy7pQSwr3dA3UUksX7deUCy6gWlcv57QD8aGU9BDX5At9tykpUCgEBZOJRVAvGAQCb0WIkd0IFAZImzg2qegkCA3cQluFqDQBn97VgeBIRA3Yxyf/qZhEDhts4W6xuFQCmPbsPKiYVAl0Da9qrjhUAa2eRazimGQBNVJiajXIZAgbUieL18hkCCOAvW0YqGQKO/D9yvh4ZAjDLCMj10hkCYiBzUcFGGQLLDSKhOIIZADZ5Sf+PhhUC6RWVqQZeFQAtoG3V8QYVAVJKrvafhhEC35VTp0niEQCi2VvEHCIRAm6bnQ0mQg0AWYQU0kBKDQFrvjLLLj4JAAGHNSt8IgkB26qtcon6BQBvAc47f8YBAJg6HcFRjgEDQR6maYqd/QG3MZUAyh35AVUMRXENnfUDMVvh1p0h8QMZRbLFWLHtAUhI6kjATekDklo3j/P14QGQibbls7XdAWdeihhvidkA1t5FBkNx1QG+nEZM+3XRAN2AEC4jkc0DRNeJWvfJyQJsLAXcfCHJAGjPR7+AkcUCGd7v0JklwQH99YhUV6m5AS3W3QTNRbUCB9VM8sMdrQFBhj8WBTWpA+kyQeY3iaEABeBWfqoZnQMKWIdujOWZAtT1RyTj7ZEBgau14H8tjQKbuDM8FqWJAzn9MzpKUYUD+T9HEZ41gQOrJ28JCJl9AGV26YbFKXUDEJjsISIdbQIsIC4Iv21lAetJrPI5FWEDHFCqXicVWQLkv/hBHWlVAhV6xUe0CVEAEdlgUpb5SQGhv6vOZjFFAqndpHPtrUEAOnIXF97dOQLne6Yqot0xAPtPpr4LVSkDWhmc1CxBJQJkdGIPSZUdAWNeM1HTVRUCJcpSJml1EQOiV7Fz4/EJArLAIhE+yQUCykoK6bXxAQLY7MndatD5ApFTmV+mUPEByYWDrbZg6QCRpSzHmvDhAvqT/4GcAN0A9sKnkH2E1QC3dLsZR3TNA5j9hEFdzMkB41tWmniExQARJ5ixYzS9AX18twS2CLUAztPeEE18rQKv7vPSDYSlA95ROFx2HJ0AVEY4Gn80lQHrXgHrqMiRA/6B7WP+0IkDL9+FH+1EhQEwIvU0YCCBALA5z4FarHUBjutvFRnIbQDDHP3kOYhlA4LU3bup3F0ACaRnzQrEVQFuwT9upCxRAiyrIP9iEEkDtGbhVrBoRQBCXn7dOlg9AZd6gO9coDUCJirIcdekKQO3NTO3l1AhAznbJdx7oBkA/FFdzRyAFQBFXOGK6egNAUJU2mP70AUDsXBloxowAQJNHye3Yf/4/caYlZ+IY/D/td+7j8OD5P0jt306O1Pc/newWkILw9T95e4uFzzH0PwHXBTetlfI/GcbgQoYZ8T/xwesB6XXvP2GpOrJ77+w/Ui9zlaKb6j85ebBFiHboP+JjBr2efOY/df7hbZqq5D+yWK2qbf3iPwVuZVhEcuE/oC/7538G4D+tugYlZ2/dP3RGx6hBB9s/ySasR2jQ2D/XlIy+A8fWP8VdauCG59Q/BC3yPqku0z/nILAvYpnRP+/+QSjkJNA/GPw32DCdzT+8r3wNNijLP7gnARtu5sg/PlW3SMbTxj/8XruCfOzEPzkqYVUZLcM/msSzVmqSwT8giCX2fBnAPxmPO1czf70/Fivz/n4Euz8l2/HKP764P8R+4Mk1qLY/iI3gEXe+tD8zm9Ymaf2yP3FGX926YbE/4WxtY73Qrz/w2dUUCx2tPwNkcr4zo6o/RzLueXZeqD8pyMA/dEqmP4deKTwoY6Q/eGL1uOCkoj9nfEaROAyhP+7/kUoiLJ8/Ovn4iBl/nD8WzasLEwyaPw8vPAs5zpc/UnwBAxvBlT+ImI+XpeCTP70ofR4bKZI/rRZduwyXkD+lN1oNqE6OPzwplGgaros/++t3XyNHiT8cgL5K5hSHP6IJM+DtEoU/oZbFxyM9gz+g/v3byI+BP/7GkwhuB4A/Vi7XddtBfT9vTEmyy7J6PzO4c2pkXHg/c2UI5c45dj+Cg06pnEZ0Pwt7Pd++fnI/Z/eJYn7ecD+tcwD16MRuP+1rOFMID2w/162hEaiVaT+RfLtGkVNnP7c13pH+Q2U/nEMemZJiYz/ZwFpPT6thPzlJXfKNGmA/K2hmZO9ZXT/IoyXo/b5aP9b1ZUiyXlg//OnzFfIzVj+u5Kc1EzpUPzA/tVnSbFI/tF5/RkrIUD9UR5Wk15FOPwa+6CDt1ks/pJEvNORZST9kYlDOTxVHP2tmKFg7BEU/a4H4YSAiQz/qFNQw3WpBP7EWHjFYtT8/GQpUIjfcPD+/uDzwDUQ6P2+gZN4f5zc/1FpUlzDANT+Iqn8TecozP/OvkHKdATI/y4mysqNhMD/MjFlm1s0tPw==\",\"dtype\":\"float64\",\"shape\":[242]}},\"selected\":{\"id\":\"28984\"},\"selection_policy\":{\"id\":\"28985\"}},\"id\":\"28229\",\"type\":\"ColumnDataSource\"},{\"attributes\":{},\"id\":\"28239\",\"type\":\"Selection\"},{\"attributes\":{},\"id\":\"28986\",\"type\":\"Selection\"},{\"attributes\":{},\"id\":\"28173\",\"type\":\"LinearScale\"},{\"attributes\":{\"axis\":{\"id\":\"28181\"},\"dimension\":1,\"ticker\":null},\"id\":\"28184\",\"type\":\"Grid\"},{\"attributes\":{\"days\":[1,2,3,4,5,6,7,8,9,10,11,12,13,14,15,16,17,18,19,20,21,22,23,24,25,26,27,28,29,30,31]},\"id\":\"28212\",\"type\":\"DaysTicker\"},{\"attributes\":{\"fill_alpha\":{\"value\":0.1},\"fill_color\":{\"value\":\"white\"},\"line_alpha\":{\"value\":0.1},\"line_color\":{\"value\":\"darkviolet\"},\"size\":{\"units\":\"screen\",\"value\":6},\"x\":{\"field\":\"x\"},\"y\":{\"field\":\"y\"}},\"id\":\"28226\",\"type\":\"Circle\"},{\"attributes\":{\"source\":{\"id\":\"28229\"}},\"id\":\"28233\",\"type\":\"CDSView\"},{\"attributes\":{},\"id\":\"28266\",\"type\":\"NumeralTickFormatter\"},{\"attributes\":{\"data\":{\"x\":{\"__ndarray__\":\"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\",\"dtype\":\"float64\",\"shape\":[242]},\"y\":[0,3,2,5,4,8,5,18,27,28,41,49,36,133,97,168,196,189,250,175,368,349,345,475,427,627,793,651,601,743,683,662,969,889,756,812,837,727,760,766,681,525,636,604,542,610,570,619,431,566,602,578,525,575,482,433,454,534,437,464,420,415,260,333,382,323,285,269,474,174,195,236,369,274,243,194,165,179,172,195,262,242,153,145,99,162,161,156,130,119,50,92,78,117,70,87,111,75,60,55,71,88,85,72,53,65,79,71,53,56,78,44,26,34,43,66,47,49,24,23,18]},\"selected\":{\"id\":\"28241\"},\"selection_policy\":{\"id\":\"28242\"}},\"id\":\"28224\",\"type\":\"ColumnDataSource\"},{\"attributes\":{\"days\":[1,4,7,10,13,16,19,22,25,28]},\"id\":\"28213\",\"type\":\"DaysTicker\"},{\"attributes\":{\"source\":{\"id\":\"28199\"}},\"id\":\"28203\",\"type\":\"CDSView\"},{\"attributes\":{\"callback\":null,\"formatters\":{\"@x\":\"datetime\"},\"mode\":\"vline\",\"tooltips\":[[\"date\",\"@x{%d %B}\"],[\"new deaths OR fitting\",\"@y{0.}\"]]},\"id\":\"28267\",\"type\":\"HoverTool\"},{\"attributes\":{},\"id\":\"28240\",\"type\":\"UnionRenderers\"},{\"attributes\":{\"axis_label\":\"New Deaths\",\"formatter\":{\"id\":\"28266\"},\"minor_tick_in\":-5,\"minor_tick_out\":-3,\"ticker\":{\"id\":\"28182\"}},\"id\":\"28181\",\"type\":\"LinearAxis\"},{\"attributes\":{},\"id\":\"28985\",\"type\":\"UnionRenderers\"},{\"attributes\":{\"days\":[1,8,15,22]},\"id\":\"28214\",\"type\":\"DaysTicker\"},{\"attributes\":{},\"id\":\"28175\",\"type\":\"LinearScale\"},{\"attributes\":{\"bottom_units\":\"screen\",\"fill_alpha\":0.5,\"fill_color\":\"lightgrey\",\"left_units\":\"screen\",\"level\":\"overlay\",\"line_alpha\":1.0,\"line_color\":\"black\",\"line_dash\":[4,4],\"line_width\":2,\"render_mode\":\"css\",\"right_units\":\"screen\",\"top_units\":\"screen\"},\"id\":\"28191\",\"type\":\"BoxAnnotation\"},{\"attributes\":{\"line_color\":\"red\",\"line_width\":4,\"x\":{\"field\":\"x\"},\"y\":{\"field\":\"y\"}},\"id\":\"28230\",\"type\":\"Line\"},{\"attributes\":{\"label\":{\"value\":\"new deaths\"},\"renderers\":[{\"id\":\"28202\"}]},\"id\":\"28223\",\"type\":\"LegendItem\"},{\"attributes\":{\"days\":[1,15]},\"id\":\"28215\",\"type\":\"DaysTicker\"},{\"attributes\":{\"active_drag\":\"auto\",\"active_inspect\":\"auto\",\"active_multi\":null,\"active_scroll\":\"auto\",\"active_tap\":\"auto\",\"tools\":[{\"id\":\"28185\"},{\"id\":\"28186\"},{\"id\":\"28187\"},{\"id\":\"28188\"},{\"id\":\"28189\"},{\"id\":\"28190\"},{\"id\":\"28267\"}]},\"id\":\"28192\",\"type\":\"Toolbar\"},{\"attributes\":{\"line_alpha\":0.1,\"line_color\":\"red\",\"line_width\":4,\"x\":{\"field\":\"x\"},\"y\":{\"field\":\"y\"}},\"id\":\"28231\",\"type\":\"Line\"},{\"attributes\":{\"num_minor_ticks\":5,\"tickers\":[{\"id\":\"28209\"},{\"id\":\"28210\"},{\"id\":\"28211\"},{\"id\":\"28212\"},{\"id\":\"28213\"},{\"id\":\"28214\"},{\"id\":\"28215\"},{\"id\":\"28216\"},{\"id\":\"28217\"},{\"id\":\"28218\"},{\"id\":\"28219\"},{\"id\":\"28220\"}]},\"id\":\"28178\",\"type\":\"DatetimeTicker\"},{\"attributes\":{\"data\":{\"x\":{\"__ndarray__\":\"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\",\"dtype\":\"float64\",\"shape\":[242]},\"y\":[0,3,2,5,4,8,5,18,27,28,41,49,36,133,97,168,196,189,250,175,368,349,345,475,427,627,793,651,601,743,683,662,969,889,756,812,837,727,760,766,681,525,636,604,542,610,570,619,431,566,602,578,525,575,482,433,454,534,437,464,420,415,260,333,382,323,285,269,474,174,195,236,369,274,243,194,165,179,172,195,262,242,153,145,99,162,161,156,130,119,50,92,78,117,70,87,111,75,60,55,71,88,85,72,53,65,79,71,53,56,78,44,26,34,43,66,47,49,24,23,18]},\"selected\":{\"id\":\"28239\"},\"selection_policy\":{\"id\":\"28240\"}},\"id\":\"28199\",\"type\":\"ColumnDataSource\"},{\"attributes\":{},\"id\":\"28182\",\"type\":\"BasicTicker\"},{\"attributes\":{\"months\":[0,1,2,3,4,5,6,7,8,9,10,11]},\"id\":\"28216\",\"type\":\"MonthsTicker\"},{\"attributes\":{\"text\":\"Gamma Distribution Fitting New Deaths Extended: Italy\"},\"id\":\"28167\",\"type\":\"Title\"},{\"attributes\":{\"items\":[{\"id\":\"28223\"},{\"id\":\"28256\"}],\"location\":\"top_left\"},\"id\":\"28222\",\"type\":\"Legend\"},{\"attributes\":{\"line_alpha\":0.1,\"line_color\":\"darkviolet\",\"line_width\":4,\"x\":{\"field\":\"x\"},\"y\":{\"field\":\"y\"}},\"id\":\"28201\",\"type\":\"Line\"},{\"attributes\":{},\"id\":\"28185\",\"type\":\"PanTool\"},{\"attributes\":{},\"id\":\"28241\",\"type\":\"Selection\"},{\"attributes\":{\"months\":[0,2,4,6,8,10]},\"id\":\"28217\",\"type\":\"MonthsTicker\"},{\"attributes\":{},\"id\":\"28186\",\"type\":\"WheelZoomTool\"},{\"attributes\":{\"months\":[0,4,8]},\"id\":\"28218\",\"type\":\"MonthsTicker\"},{\"attributes\":{\"data_source\":{\"id\":\"28229\"},\"glyph\":{\"id\":\"28230\"},\"hover_glyph\":null,\"muted_glyph\":null,\"nonselection_glyph\":{\"id\":\"28231\"},\"selection_glyph\":null,\"view\":{\"id\":\"28233\"}},\"id\":\"28232\",\"type\":\"GlyphRenderer\"},{\"attributes\":{\"data\":{\"x\":{\"__ndarray__\":\"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\",\"dtype\":\"float64\",\"shape\":[242]},\"y\":{\"__ndarray__\":\"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\",\"dtype\":\"float64\",\"shape\":[242]}},\"selected\":{\"id\":\"28986\"},\"selection_policy\":{\"id\":\"28987\"}},\"id\":\"28257\",\"type\":\"ColumnDataSource\"},{\"attributes\":{\"days\":[\"%d %B\"]},\"id\":\"28262\",\"type\":\"DatetimeTickFormatter\"},{\"attributes\":{\"data_source\":{\"id\":\"28199\"},\"glyph\":{\"id\":\"28200\"},\"hover_glyph\":null,\"muted_glyph\":null,\"nonselection_glyph\":{\"id\":\"28201\"},\"selection_glyph\":null,\"view\":{\"id\":\"28203\"}},\"id\":\"28202\",\"type\":\"GlyphRenderer\"},{\"attributes\":{\"axis\":{\"id\":\"28177\"},\"ticker\":null},\"id\":\"28180\",\"type\":\"Grid\"},{\"attributes\":{},\"id\":\"28169\",\"type\":\"DataRange1d\"},{\"attributes\":{\"overlay\":{\"id\":\"28191\"}},\"id\":\"28187\",\"type\":\"BoxZoomTool\"},{\"attributes\":{\"months\":[0,6]},\"id\":\"28219\",\"type\":\"MonthsTicker\"},{\"attributes\":{\"line_color\":\"darkviolet\",\"line_width\":4,\"x\":{\"field\":\"x\"},\"y\":{\"field\":\"y\"}},\"id\":\"28200\",\"type\":\"Line\"},{\"attributes\":{},\"id\":\"28188\",\"type\":\"SaveTool\"},{\"attributes\":{\"mantissas\":[1,2,5],\"max_interval\":500.0,\"num_minor_ticks\":0},\"id\":\"28209\",\"type\":\"AdaptiveTicker\"},{\"attributes\":{},\"id\":\"28220\",\"type\":\"YearsTicker\"},{\"attributes\":{},\"id\":\"28189\",\"type\":\"ResetTool\"},{\"attributes\":{},\"id\":\"28242\",\"type\":\"UnionRenderers\"},{\"attributes\":{\"axis_label\":\"Date\",\"formatter\":{\"id\":\"28262\"},\"major_label_orientation\":0.7853981633974483,\"minor_tick_in\":-5,\"minor_tick_out\":-3,\"ticker\":{\"id\":\"28178\"}},\"id\":\"28177\",\"type\":\"DatetimeAxis\"},{\"attributes\":{\"fill_color\":{\"value\":\"white\"},\"line_color\":{\"value\":\"darkviolet\"},\"size\":{\"units\":\"screen\",\"value\":6},\"x\":{\"field\":\"x\"},\"y\":{\"field\":\"y\"}},\"id\":\"28225\",\"type\":\"Circle\"},{\"attributes\":{\"fill_color\":{\"value\":\"white\"},\"line_color\":{\"value\":\"red\"},\"size\":{\"units\":\"screen\",\"value\":6},\"x\":{\"field\":\"x\"},\"y\":{\"field\":\"y\"}},\"id\":\"28258\",\"type\":\"Circle\"},{\"attributes\":{},\"id\":\"28987\",\"type\":\"UnionRenderers\"},{\"attributes\":{\"source\":{\"id\":\"28257\"}},\"id\":\"28261\",\"type\":\"CDSView\"},{\"attributes\":{},\"id\":\"28190\",\"type\":\"HelpTool\"},{\"attributes\":{},\"id\":\"28984\",\"type\":\"Selection\"},{\"attributes\":{\"data_source\":{\"id\":\"28257\"},\"glyph\":{\"id\":\"28258\"},\"hover_glyph\":null,\"muted_glyph\":null,\"nonselection_glyph\":{\"id\":\"28259\"},\"selection_glyph\":null,\"view\":{\"id\":\"28261\"}},\"id\":\"28260\",\"type\":\"GlyphRenderer\"},{\"attributes\":{\"base\":24,\"mantissas\":[1,2,4,6,8,12],\"max_interval\":43200000.0,\"min_interval\":3600000.0,\"num_minor_ticks\":0},\"id\":\"28211\",\"type\":\"AdaptiveTicker\"},{\"attributes\":{\"data_source\":{\"id\":\"28224\"},\"glyph\":{\"id\":\"28225\"},\"hover_glyph\":null,\"muted_glyph\":null,\"nonselection_glyph\":{\"id\":\"28226\"},\"selection_glyph\":null,\"view\":{\"id\":\"28228\"}},\"id\":\"28227\",\"type\":\"GlyphRenderer\"},{\"attributes\":{\"base\":60,\"mantissas\":[1,2,5,10,15,20,30],\"max_interval\":1800000.0,\"min_interval\":1000.0,\"num_minor_ticks\":0},\"id\":\"28210\",\"type\":\"AdaptiveTicker\"},{\"attributes\":{\"source\":{\"id\":\"28224\"}},\"id\":\"28228\",\"type\":\"CDSView\"},{\"attributes\":{\"fill_alpha\":{\"value\":0.1},\"fill_color\":{\"value\":\"white\"},\"line_alpha\":{\"value\":0.1},\"line_color\":{\"value\":\"red\"},\"size\":{\"units\":\"screen\",\"value\":6},\"x\":{\"field\":\"x\"},\"y\":{\"field\":\"y\"}},\"id\":\"28259\",\"type\":\"Circle\"},{\"attributes\":{\"label\":{\"value\":\"Gamma fitting\"},\"renderers\":[{\"id\":\"28232\"}]},\"id\":\"28256\",\"type\":\"LegendItem\"},{\"attributes\":{},\"id\":\"28171\",\"type\":\"DataRange1d\"}],\"root_ids\":[\"28166\"]},\"title\":\"Bokeh Application\",\"version\":\"2.0.2\"}};\n",
       "  var render_items = [{\"docid\":\"5d9fc224-8db2-4280-9e2f-4a33304de568\",\"root_ids\":[\"28166\"],\"roots\":{\"28166\":\"7789ee2b-c9ee-40c1-b4cb-8b0e3a1a6b55\"}}];\n",
       "  root.Bokeh.embed.embed_items_notebook(docs_json, render_items);\n",
       "\n",
       "  }\n",
       "  if (root.Bokeh !== undefined) {\n",
       "    embed_document(root);\n",
       "  } else {\n",
       "    var attempts = 0;\n",
       "    var timer = setInterval(function(root) {\n",
       "      if (root.Bokeh !== undefined) {\n",
       "        clearInterval(timer);\n",
       "        embed_document(root);\n",
       "      } else {\n",
       "        attempts++;\n",
       "        if (attempts > 100) {\n",
       "          clearInterval(timer);\n",
       "          console.log(\"Bokeh: ERROR: Unable to run BokehJS code because BokehJS library is missing\");\n",
       "        }\n",
       "      }\n",
       "    }, 10, root)\n",
       "  }\n",
       "})(window);"
      ],
      "application/vnd.bokehjs_exec.v0+json": ""
     },
     "metadata": {
      "application/vnd.bokehjs_exec.v0+json": {
       "id": "28166"
      }
     },
     "output_type": "display_data"
    }
   ],
   "source": [
    "pfit_2_new_deaths_Italy = bokeh_plot_2_lines(x=time_date_new_extended, y=nuovi_deceduti[0:(fit_range_7)], yy=ydata_9[0:fit_range_8], \n",
    "                  title='Gamma Distribution Fitting New Deaths Extended: Italy', \n",
    "                  file_name=\"fit_2_new_deaths_Italy.html\", \n",
    "                  x_label='Date', y_label='New Deaths', \n",
    "                  legend_1='new deaths', legend_2='Gamma fitting',\n",
    "                  x_label_hover='date' , y_label_hover='new deaths OR fitting' , \n",
    "                  color_1='darkviolet', color_2='red', y_minmax=None)\n",
    "\n",
    "show(pfit_2_new_deaths_Italy)"
   ]
  },
  {
   "cell_type": "markdown",
   "metadata": {},
   "source": [
    "-----------------\n",
    "-----------------\n",
    "-----------------"
   ]
  },
  {
   "cell_type": "code",
   "execution_count": 124,
   "metadata": {},
   "outputs": [
    {
     "name": "stderr",
     "output_type": "stream",
     "text": [
      "BokehUserWarning: ColumnDataSource's columns must be of the same length. Current lengths: ('x', 121), ('y', 115)\n",
      "BokehUserWarning: ColumnDataSource's columns must be of the same length. Current lengths: ('x', 121), ('y', 115)\n",
      "BokehUserWarning: ColumnDataSource's columns must be of the same length. Current lengths: ('x', 121), ('y', 115)\n",
      "BokehUserWarning: ColumnDataSource's columns must be of the same length. Current lengths: ('x', 121), ('y', 115)\n",
      "BokehUserWarning: ColumnDataSource's columns must be of the same length. Current lengths: ('x', 121), ('y', 115)\n",
      "BokehUserWarning: ColumnDataSource's columns must be of the same length. Current lengths: ('x', 121), ('y', 115)\n",
      "BokehUserWarning: ColumnDataSource's columns must be of the same length. Current lengths: ('x', 121), ('y', 107)\n",
      "BokehUserWarning: ColumnDataSource's columns must be of the same length. Current lengths: ('x', 121), ('y', 107)\n",
      "BokehUserWarning: ColumnDataSource's columns must be of the same length. Current lengths: ('x', 121), ('y', 107)\n",
      "BokehUserWarning: ColumnDataSource's columns must be of the same length. Current lengths: ('x', 121), ('y', 107)\n",
      "BokehUserWarning: ColumnDataSource's columns must be of the same length. Current lengths: ('x', 121), ('y', 107)\n",
      "BokehUserWarning: ColumnDataSource's columns must be of the same length. Current lengths: ('x', 121), ('y', 107)\n",
      "BokehUserWarning: ColumnDataSource's columns must be of the same length. Current lengths: ('x', 121), ('y', 107)\n",
      "BokehUserWarning: ColumnDataSource's columns must be of the same length. Current lengths: ('x', 121), ('y', 107)\n",
      "BokehUserWarning: ColumnDataSource's columns must be of the same length. Current lengths: ('x', 121), ('y', 107)\n",
      "BokehUserWarning: ColumnDataSource's columns must be of the same length. Current lengths: ('x', 121), ('y', 107)\n",
      "BokehUserWarning: ColumnDataSource's columns must be of the same length. Current lengths: ('x', 121), ('y', 107)\n",
      "BokehUserWarning: ColumnDataSource's columns must be of the same length. Current lengths: ('x', 121), ('y', 107)\n",
      "BokehUserWarning: ColumnDataSource's columns must be of the same length. Current lengths: ('x', 242), ('y', 121)\n",
      "BokehUserWarning: ColumnDataSource's columns must be of the same length. Current lengths: ('x', 242), ('y', 121)\n",
      "BokehUserWarning: ColumnDataSource's columns must be of the same length. Current lengths: ('x', 242), ('y', 121)\n",
      "BokehUserWarning: ColumnDataSource's columns must be of the same length. Current lengths: ('x', 242), ('y', 121)\n"
     ]
    }
   ],
   "source": [
    "s1_grid = bokeh_plot_N_lines(x=time_date_new, y_list=[total_cases_italy,total_positive_italy], \n",
    "                  title='Total Cases & Total Positive: Italy', \n",
    "                  dim=[470, 350], \n",
    "                  x_label='Date', \n",
    "                  y_label='Total Cases & Total Positive', legend_list=['total cases','total positive'],\n",
    "                  x_label_hover='date', y_label_hover='total cases OR total positive',\n",
    "                  color_list=['blue','red'],legend_location=\"top_left\", y_minmax=None)\n",
    "\n",
    "s2_grid = bokeh_plot_N_lines(x=time_date_new, y_list=[deceduti_italy,guariti_italy], \n",
    "                  title='Deaths & Recovered: Italy', \n",
    "                  dim=[470, 350], \n",
    "                  x_label='Date', \n",
    "                  y_label='Deaths & Recovered', legend_list=['deaths','recovered'],\n",
    "                  x_label_hover='date', y_label_hover='deaths OR recovered',\n",
    "                  color_list=['darkviolet','green'],legend_location=\"top_left\", y_minmax=None)\n",
    "\n",
    "\n",
    "s3_grid = bokeh_plot_N_lines(x=time_date_new + 6, y_list=[R_2_cases, R_2_deaths, R_2_guariti], \n",
    "                  title='Total Cases/Deaths/Guariti - Exponential Validity: Italy', \n",
    "                  dim=[470, 350], \n",
    "                  x_label='Date', \n",
    "                  y_label='R_squared', legend_list=['R_squared_cases', 'R_squared_deaths', 'R_squared_guariti'],\n",
    "                  x_label_hover='date', y_label_hover='R_squared_cases/deaths/guariti',\n",
    "                  color_list=['blue', 'darkviolet', 'green'], legend_location=\"bottom_left\", y_minmax=None)\n",
    "\n",
    "s4_grid = bokeh_plot_N_lines(x=time_date_new + 14, y_list=[max_population_up,max_population_down,max_population], \n",
    "                  title='Max Total Cases - Logistic Fitting: Italy', \n",
    "                  dim=[470, 350], \n",
    "                  x_label='Date', \n",
    "                  y_label='Total Cases MAX', legend_list=['total cases max UP','total cases max DOWN','total cases max'],\n",
    "                  x_label_hover='date', y_label_hover='total cases max/UP/DOWN',\n",
    "                  color_list=['lightcoral','lightblue','blue'],legend_location=\"bottom_right\", y_minmax=(0,300000))\n",
    "\n",
    "s5_grid = bokeh_plot_N_lines(x=time_date_new + 14, y_list=[max_deaths_up,max_deaths_down,max_deaths], \n",
    "                  title='Max Total Deaths - Logistic Fitting: Italy', \n",
    "                  dim=[470, 350], \n",
    "                  x_label='Date', \n",
    "                  y_label='Total Deaths MAX', legend_list=['total deaths max UP','total deaths max DOWN','total deaths max'],\n",
    "                  x_label_hover='date', y_label_hover='total deaths max/UP/DOWN',\n",
    "                  color_list=['lightcoral','lightblue','darkviolet'],legend_location=\"bottom_right\", y_minmax=(0,45000))\n",
    "\n",
    "s6_grid = bokeh_plot_N_lines(x=time_date_new_extended, y_list=[nuovi_positivi_italy.loc[0:(fit_range_5-1)],ydata_5[0:fit_range_6]], \n",
    "                  title='New Positive - Gamma Distribution Fitting: Italy', \n",
    "                  dim=[470, 350],\n",
    "                  x_label='Date', \n",
    "                  y_label='New Positive', legend_list=['new positive','Gamma fitting'],\n",
    "                  x_label_hover='date', y_label_hover='new positive/fitting',\n",
    "                  color_list=['blue','lightcoral'],legend_location=\"top_right\", y_minmax=None)\n",
    "\n",
    "s7_grid = bokeh_plot_N_lines(x=time_date_new_extended, y_list=[nuovi_deceduti[0:(fit_range_7)],ydata_9[0:fit_range_8]], \n",
    "                  title='New Deaths - Gamma Distribution Fitting: Italy', \n",
    "                  dim=[470, 350],\n",
    "                  x_label='Date', \n",
    "                  y_label='New Deaths', legend_list=['new deaths','Gamma fitting'],\n",
    "                  x_label_hover='date', y_label_hover='new deaths/fitting',\n",
    "                  color_list=['darkviolet','lightcoral'],legend_location=\"top_right\", y_minmax=None)"
   ]
  },
  {
   "cell_type": "code",
   "execution_count": 125,
   "metadata": {},
   "outputs": [
    {
     "data": {
      "text/html": [
       "\n",
       "\n",
       "\n",
       "\n",
       "\n",
       "\n",
       "  <div class=\"bk-root\" id=\"a69de07c-efdc-4b2f-9636-68bc4d07af16\" data-root-id=\"30473\"></div>\n"
      ]
     },
     "metadata": {},
     "output_type": "display_data"
    },
    {
     "data": {
      "application/javascript": [
       "(function(root) {\n",
       "  function embed_document(root) {\n",
       "    \n",
       "  var docs_json = {\"b5ffb31e-65e2-4200-85c6-3d949876ad81\":{\"roots\":{\"references\":[{\"attributes\":{\"children\":[{\"id\":\"30472\"},{\"id\":\"30470\"}]},\"id\":\"30473\",\"type\":\"Column\"},{\"attributes\":{},\"id\":\"29584\",\"type\":\"HelpTool\"},{\"attributes\":{\"data_source\":{\"id\":\"29623\"},\"glyph\":{\"id\":\"29624\"},\"hover_glyph\":null,\"muted_glyph\":null,\"nonselection_glyph\":{\"id\":\"29625\"},\"selection_glyph\":null,\"view\":{\"id\":\"29627\"}},\"id\":\"29626\",\"type\":\"GlyphRenderer\"},{\"attributes\":{\"data\":{\"x\":{\"__ndarray__\":\"AAAA5UcHd0IAAMBKmgd3QgAAgLDsB3dCAABAFj8Id0IAAAB8kQh3QgAAwOHjCHdCAACARzYJd0IAAECtiAl3QgAAABPbCXdCAADAeC0Kd0IAAIDefwp3QgAAQETSCndCAAAAqiQLd0IAAMAPdwt3QgAAgHXJC3dCAABA2xsMd0IAAABBbgx3QgAAwKbADHdCAACADBMNd0IAAEByZQ13QgAAANi3DXdCAADAPQoOd0IAAICjXA53QgAAQAmvDndCAAAAbwEPd0IAAMDUUw93QgAAgDqmD3dCAABAoPgPd0IAAAAGSxB3QgAAwGudEHdCAACA0e8Qd0IAAEA3QhF3QgAAAJ2UEXdCAADAAucRd0IAAIBoORJ3QgAAQM6LEndCAAAANN4Sd0IAAMCZMBN3QgAAgP+CE3dCAABAZdUTd0IAAADLJxR3QgAAwDB6FHdCAACAlswUd0IAAED8HhV3QgAAAGJxFXdCAADAx8MVd0IAAIAtFhZ3QgAAQJNoFndCAAAA+boWd0IAAMBeDRd3QgAAgMRfF3dCAABAKrIXd0IAAACQBBh3QgAAwPVWGHdCAACAW6kYd0IAAEDB+xh3QgAAACdOGXdCAADAjKAZd0IAAIDy8hl3QgAAQFhFGndCAAAAvpcad0IAAMAj6hp3QgAAgIk8G3dCAABA744bd0IAAABV4Rt3QgAAwLozHHdCAACAIIYcd0IAAECG2Bx3QgAAAOwqHXdCAADAUX0dd0IAAIC3zx13QgAAQB0iHndCAAAAg3Qed0IAAMDoxh53QgAAgE4ZH3dCAABAtGsfd0IAAAAavh93QgAAwH8QIHdCAACA5WIgd0IAAEBLtSB3QgAAALEHIXdCAADAFlohd0IAAIB8rCF3QgAAQOL+IXdCAAAASFEid0IAAMCtoyJ3QgAAgBP2IndCAABAeUgjd0IAAADfmiN3QgAAwETtI3dCAACAqj8kd0IAAEAQkiR3QgAAAHbkJHdCAADA2zYld0IAAIBBiSV3QgAAQKfbJXdCAAAADS4md0IAAMBygCZ3QgAAgNjSJndCAABAPiUnd0IAAACkdyd3QgAAwAnKJ3dCAACAbxwod0IAAEDVbih3QgAAADvBKHdCAADAoBMpd0IAAIAGZil3QgAAQGy4KXdCAAAA0goqd0IAAMA3XSp3QgAAgJ2vKndCAABAAwIrd0IAAABpVCt3QgAAwM6mK3dCAACANPkrd0IAAECaSyx3QgAAAACeLHdCAADAZfAsd0IAAIDLQi13QgAAQDGVLXdCAAAAl+ctd0I=\",\"dtype\":\"float64\",\"shape\":[121]},\"y\":[7,10,12,17,21,29,34,52,79,107,148,197,233,366,463,631,827,1016,1266,1441,1809,2158,2503,2978,3405,4032,4825,5476,6077,6820,7503,8165,9134,10023,10779,11591,12428,13155,13915,14681,15362,15887,16523,17127,17669,18279,18849,19468,19899,20465,21067,21645,22170,22745,23227,23660,24114,24648,25085,25549,25969,26384,26644,26977,27359,27682,27967,28236,28710,28884,29079,29315,29684,29958,30201,30395,30560,30739,30911,31106,31368,31610,31763,31908,32007,32169,32330,32486,32616,32735,32785,32877,32955,33072,33142,33229,33340,33415,33475,33530,33601,33689,33774,33846,33899,33964,34043,34114,34167,34223,34301,34345,34371,34405,34448,34514,34561,34610,34634,34657,34675]},\"selected\":{\"id\":\"29635\"},\"selection_policy\":{\"id\":\"29636\"}},\"id\":\"29618\",\"type\":\"ColumnDataSource\"},{\"attributes\":{\"source\":{\"id\":\"29623\"}},\"id\":\"29627\",\"type\":\"CDSView\"},{\"attributes\":{\"data_source\":{\"id\":\"29618\"},\"glyph\":{\"id\":\"29619\"},\"hover_glyph\":null,\"muted_glyph\":null,\"nonselection_glyph\":{\"id\":\"29620\"},\"selection_glyph\":null,\"view\":{\"id\":\"29622\"}},\"id\":\"29621\",\"type\":\"GlyphRenderer\"},{\"attributes\":{\"fill_alpha\":{\"value\":0.1},\"fill_color\":{\"value\":\"white\"},\"line_alpha\":{\"value\":0.1},\"line_color\":{\"value\":\"darkviolet\"},\"size\":{\"units\":\"screen\",\"value\":5},\"x\":{\"field\":\"x\"},\"y\":{\"field\":\"y\"}},\"id\":\"29620\",\"type\":\"Circle\"},{\"attributes\":{\"line_color\":\"green\",\"line_width\":4,\"x\":{\"field\":\"x\"},\"y\":{\"field\":\"y\"}},\"id\":\"29624\",\"type\":\"Line\"},{\"attributes\":{\"source\":{\"id\":\"29618\"}},\"id\":\"29622\",\"type\":\"CDSView\"},{\"attributes\":{\"bottom_units\":\"screen\",\"fill_alpha\":0.5,\"fill_color\":\"lightgrey\",\"left_units\":\"screen\",\"level\":\"overlay\",\"line_alpha\":1.0,\"line_color\":\"black\",\"line_dash\":[4,4],\"line_width\":2,\"render_mode\":\"css\",\"right_units\":\"screen\",\"top_units\":\"screen\"},\"id\":\"29585\",\"type\":\"BoxAnnotation\"},{\"attributes\":{\"active_drag\":\"auto\",\"active_inspect\":\"auto\",\"active_multi\":null,\"active_scroll\":\"auto\",\"active_tap\":\"auto\",\"tools\":[{\"id\":\"29579\"},{\"id\":\"29580\"},{\"id\":\"29581\"},{\"id\":\"29582\"},{\"id\":\"29583\"},{\"id\":\"29584\"},{\"id\":\"29660\"}]},\"id\":\"29586\",\"type\":\"Toolbar\"},{\"attributes\":{\"below\":[{\"id\":\"29571\"}],\"center\":[{\"id\":\"29574\"},{\"id\":\"29578\"},{\"id\":\"29616\"}],\"left\":[{\"id\":\"29575\"}],\"plot_height\":350,\"plot_width\":470,\"renderers\":[{\"id\":\"29596\"},{\"id\":\"29621\"},{\"id\":\"29626\"},{\"id\":\"29654\"}],\"title\":{\"id\":\"29561\"},\"toolbar\":{\"id\":\"29586\"},\"toolbar_location\":null,\"x_range\":{\"id\":\"29563\"},\"x_scale\":{\"id\":\"29567\"},\"y_range\":{\"id\":\"29565\"},\"y_scale\":{\"id\":\"29569\"}},\"id\":\"29560\",\"subtype\":\"Figure\",\"type\":\"Plot\"},{\"attributes\":{\"below\":[{\"id\":\"29469\"}],\"center\":[{\"id\":\"29472\"},{\"id\":\"29476\"},{\"id\":\"29514\"}],\"left\":[{\"id\":\"29473\"}],\"plot_height\":350,\"plot_width\":470,\"renderers\":[{\"id\":\"29494\"},{\"id\":\"29519\"},{\"id\":\"29524\"},{\"id\":\"29552\"}],\"title\":{\"id\":\"29459\"},\"toolbar\":{\"id\":\"29484\"},\"toolbar_location\":null,\"x_range\":{\"id\":\"29461\"},\"x_scale\":{\"id\":\"29465\"},\"y_range\":{\"id\":\"29463\"},\"y_scale\":{\"id\":\"29467\"}},\"id\":\"29458\",\"subtype\":\"Figure\",\"type\":\"Plot\"},{\"attributes\":{\"mantissas\":[1,2,5],\"max_interval\":500.0,\"num_minor_ticks\":0},\"id\":\"29603\",\"type\":\"AdaptiveTicker\"},{\"attributes\":{\"items\":[{\"id\":\"29617\"},{\"id\":\"29650\"}],\"location\":\"top_left\"},\"id\":\"29616\",\"type\":\"Legend\"},{\"attributes\":{\"text\":\"Total Cases & Total Positive: Italy\"},\"id\":\"29459\",\"type\":\"Title\"},{\"attributes\":{\"num_minor_ticks\":5,\"tickers\":[{\"id\":\"30224\"},{\"id\":\"30225\"},{\"id\":\"30226\"},{\"id\":\"30227\"},{\"id\":\"30228\"},{\"id\":\"30229\"},{\"id\":\"30230\"},{\"id\":\"30231\"},{\"id\":\"30232\"},{\"id\":\"30233\"},{\"id\":\"30234\"},{\"id\":\"30235\"}]},\"id\":\"30193\",\"type\":\"DatetimeTicker\"},{\"attributes\":{\"fill_color\":{\"value\":\"white\"},\"line_color\":{\"value\":\"darkviolet\"},\"size\":{\"units\":\"screen\",\"value\":5},\"x\":{\"field\":\"x\"},\"y\":{\"field\":\"y\"}},\"id\":\"29619\",\"type\":\"Circle\"},{\"attributes\":{},\"id\":\"29461\",\"type\":\"DataRange1d\"},{\"attributes\":{\"axis_label\":\"Date\",\"formatter\":{\"id\":\"30277\"},\"major_label_orientation\":0.7853981633974483,\"minor_tick_in\":-5,\"minor_tick_out\":-3,\"ticker\":{\"id\":\"30193\"}},\"id\":\"30192\",\"type\":\"DatetimeAxis\"},{\"attributes\":{\"axis\":{\"id\":\"29469\"},\"ticker\":null},\"id\":\"29472\",\"type\":\"Grid\"},{\"attributes\":{},\"id\":\"29463\",\"type\":\"DataRange1d\"},{\"attributes\":{\"base\":24,\"mantissas\":[1,2,4,6,8,12],\"max_interval\":43200000.0,\"min_interval\":3600000.0,\"num_minor_ticks\":0},\"id\":\"29605\",\"type\":\"AdaptiveTicker\"},{\"attributes\":{\"base\":60,\"mantissas\":[1,2,5,10,15,20,30],\"max_interval\":1800000.0,\"min_interval\":1000.0,\"num_minor_ticks\":0},\"id\":\"29604\",\"type\":\"AdaptiveTicker\"},{\"attributes\":{\"num_minor_ticks\":5,\"tickers\":[{\"id\":\"29501\"},{\"id\":\"29502\"},{\"id\":\"29503\"},{\"id\":\"29504\"},{\"id\":\"29505\"},{\"id\":\"29506\"},{\"id\":\"29507\"},{\"id\":\"29508\"},{\"id\":\"29509\"},{\"id\":\"29510\"},{\"id\":\"29511\"},{\"id\":\"29512\"}]},\"id\":\"29470\",\"type\":\"DatetimeTicker\"},{\"attributes\":{},\"id\":\"29465\",\"type\":\"LinearScale\"},{\"attributes\":{},\"id\":\"29467\",\"type\":\"LinearScale\"},{\"attributes\":{\"days\":[1,2,3,4,5,6,7,8,9,10,11,12,13,14,15,16,17,18,19,20,21,22,23,24,25,26,27,28,29,30,31]},\"id\":\"29606\",\"type\":\"DaysTicker\"},{\"attributes\":{},\"id\":\"29474\",\"type\":\"BasicTicker\"},{\"attributes\":{\"days\":[1,4,7,10,13,16,19,22,25,28]},\"id\":\"29607\",\"type\":\"DaysTicker\"},{\"attributes\":{\"axis\":{\"id\":\"29473\"},\"dimension\":1,\"ticker\":null},\"id\":\"29476\",\"type\":\"Grid\"},{\"attributes\":{\"days\":[1,8,15,22]},\"id\":\"29608\",\"type\":\"DaysTicker\"},{\"attributes\":{\"axis_label\":\"Total Cases & Total Positive\",\"formatter\":{\"id\":\"29556\"},\"minor_tick_in\":-5,\"minor_tick_out\":-3,\"ticker\":{\"id\":\"29474\"}},\"id\":\"29473\",\"type\":\"LinearAxis\"},{\"attributes\":{\"days\":[1,15]},\"id\":\"29609\",\"type\":\"DaysTicker\"},{\"attributes\":{\"data\":{\"x\":{\"__ndarray__\":\"AAAA5UcHd0IAAMBKmgd3QgAAgLDsB3dCAABAFj8Id0IAAAB8kQh3QgAAwOHjCHdCAACARzYJd0IAAECtiAl3QgAAABPbCXdCAADAeC0Kd0IAAIDefwp3QgAAQETSCndCAAAAqiQLd0IAAMAPdwt3QgAAgHXJC3dCAABA2xsMd0IAAABBbgx3QgAAwKbADHdCAACADBMNd0IAAEByZQ13QgAAANi3DXdCAADAPQoOd0IAAICjXA53QgAAQAmvDndCAAAAbwEPd0IAAMDUUw93QgAAgDqmD3dCAABAoPgPd0IAAAAGSxB3QgAAwGudEHdCAACA0e8Qd0IAAEA3QhF3QgAAAJ2UEXdCAADAAucRd0IAAIBoORJ3QgAAQM6LEndCAAAANN4Sd0IAAMCZMBN3QgAAgP+CE3dCAABAZdUTd0IAAADLJxR3QgAAwDB6FHdCAACAlswUd0IAAED8HhV3QgAAAGJxFXdCAADAx8MVd0IAAIAtFhZ3QgAAQJNoFndCAAAA+boWd0IAAMBeDRd3QgAAgMRfF3dCAABAKrIXd0IAAACQBBh3QgAAwPVWGHdCAACAW6kYd0IAAEDB+xh3QgAAACdOGXdCAADAjKAZd0IAAIDy8hl3QgAAQFhFGndCAAAAvpcad0IAAMAj6hp3QgAAgIk8G3dCAABA744bd0IAAABV4Rt3QgAAwLozHHdCAACAIIYcd0IAAECG2Bx3QgAAAOwqHXdCAADAUX0dd0IAAIC3zx13QgAAQB0iHndCAAAAg3Qed0IAAMDoxh53QgAAgE4ZH3dCAABAtGsfd0IAAAAavh93QgAAwH8QIHdCAACA5WIgd0IAAEBLtSB3QgAAALEHIXdCAADAFlohd0IAAIB8rCF3QgAAQOL+IXdCAAAASFEid0IAAMCtoyJ3QgAAgBP2IndCAABAeUgjd0IAAADfmiN3QgAAwETtI3dCAACAqj8kd0IAAEAQkiR3QgAAAHbkJHdCAADA2zYld0IAAIBBiSV3QgAAQKfbJXdCAAAADS4md0IAAMBygCZ3QgAAgNjSJndCAABAPiUnd0IAAACkdyd3QgAAwAnKJ3dCAACAbxwod0IAAEDVbih3QgAAADvBKHdCAADAoBMpd0IAAIAGZil3QgAAQGy4KXdCAAAA0goqd0IAAMA3XSp3QgAAgJ2vKndCAABAAwIrd0IAAABpVCt3QgAAwM6mK3dCAACANPkrd0IAAECaSyx3QgAAAACeLHdCAADAZfAsd0IAAIDLQi13QgAAQDGVLXdCAAAAl+ctd0I=\",\"dtype\":\"float64\",\"shape\":[121]},\"y\":[229,322,400,650,888,1128,1694,2036,2502,3089,3858,4636,5883,7375,9172,10149,12462,15113,17660,21157,24747,27980,31506,35713,41035,47021,53578,59138,63927,69176,74386,80539,86498,92472,97689,101739,105792,110574,115242,119827,124632,128948,132547,135586,139422,143626,147577,152271,156363,159516,162488,165155,168941,172434,175925,178972,181228,183957,187327,189973,192994,195351,197675,199414,201505,203591,205463,207428,209328,210717,211938,213013,214457,215858,217185,218268,219070,219814,221216,222104,223096,223885,224760,225435,225886,226699,227364,228006,228658,229327,229858,230158,230555,231139,231732,232248,232664,233019,233197,233515,233836,234013,234531,234801,234998,235278,235561,235763,236142,236305,236651,236989,237290,237500,237828,238159,238011,238275,238499,238720,238833]},\"selected\":{\"id\":\"29531\"},\"selection_policy\":{\"id\":\"29532\"}},\"id\":\"29491\",\"type\":\"ColumnDataSource\"},{\"attributes\":{\"months\":[0,1,2,3,4,5,6,7,8,9,10,11]},\"id\":\"29610\",\"type\":\"MonthsTicker\"},{\"attributes\":{\"data\":{\"x\":{\"__ndarray__\":\"AAAA5UcHd0IAAMBKmgd3QgAAgLDsB3dCAABAFj8Id0IAAAB8kQh3QgAAwOHjCHdCAACARzYJd0IAAECtiAl3QgAAABPbCXdCAADAeC0Kd0IAAIDefwp3QgAAQETSCndCAAAAqiQLd0IAAMAPdwt3QgAAgHXJC3dCAABA2xsMd0IAAABBbgx3QgAAwKbADHdCAACADBMNd0IAAEByZQ13QgAAANi3DXdCAADAPQoOd0IAAICjXA53QgAAQAmvDndCAAAAbwEPd0IAAMDUUw93QgAAgDqmD3dCAABAoPgPd0IAAAAGSxB3QgAAwGudEHdCAACA0e8Qd0IAAEA3QhF3QgAAAJ2UEXdCAADAAucRd0IAAIBoORJ3QgAAQM6LEndCAAAANN4Sd0IAAMCZMBN3QgAAgP+CE3dCAABAZdUTd0IAAADLJxR3QgAAwDB6FHdCAACAlswUd0IAAED8HhV3QgAAAGJxFXdCAADAx8MVd0IAAIAtFhZ3QgAAQJNoFndCAAAA+boWd0IAAMBeDRd3QgAAgMRfF3dCAABAKrIXd0IAAACQBBh3QgAAwPVWGHdCAACAW6kYd0IAAEDB+xh3QgAAACdOGXdCAADAjKAZd0IAAIDy8hl3QgAAQFhFGndCAAAAvpcad0IAAMAj6hp3QgAAgIk8G3dCAABA744bd0IAAABV4Rt3QgAAwLozHHdCAACAIIYcd0IAAECG2Bx3QgAAAOwqHXdCAADAUX0dd0IAAIC3zx13QgAAQB0iHndCAAAAg3Qed0IAAMDoxh53QgAAgE4ZH3dCAABAtGsfd0IAAAAavh93QgAAwH8QIHdCAACA5WIgd0IAAEBLtSB3QgAAALEHIXdCAADAFlohd0IAAIB8rCF3QgAAQOL+IXdCAAAASFEid0IAAMCtoyJ3QgAAgBP2IndCAABAeUgjd0IAAADfmiN3QgAAwETtI3dCAACAqj8kd0IAAEAQkiR3QgAAAHbkJHdCAADA2zYld0IAAIBBiSV3QgAAQKfbJXdCAAAADS4md0IAAMBygCZ3QgAAgNjSJndCAABAPiUnd0IAAACkdyd3QgAAwAnKJ3dCAACAbxwod0IAAEDVbih3QgAAADvBKHdCAADAoBMpd0IAAIAGZil3QgAAQGy4KXdCAAAA0goqd0IAAMA3XSp3QgAAgJ2vKndCAABAAwIrd0IAAABpVCt3QgAAwM6mK3dCAACANPkrd0IAAECaSyx3QgAAAACeLHdCAADAZfAsd0IAAIDLQi13QgAAQDGVLXdCAAAAl+ctd0I=\",\"dtype\":\"float64\",\"shape\":[121]},\"y\":[1,1,3,45,46,50,83,149,160,276,414,523,589,622,724,1004,1045,1258,1439,1966,2335,2749,2941,4025,4440,5129,6072,7024,7432,8326,9362,10361,10950,12384,13030,14620,15729,16847,18278,19758,20996,21815,22837,24392,26491,28470,30455,32534,34211,35435,37130,38092,40164,42727,44927,47055,48877,51600,54543,57576,60498,63120,64928,66624,68941,71252,75945,78249,79914,81654,82879,85231,93245,96276,99023,103031,105186,106587,109039,112541,115288,120205,122810,125176,127326,129401,132282,134560,136720,138840,140479,141981,144658,147101,150604,152844,155633,157507,158355,160092,160938,161895,163781,165078,165837,166584,168646,169939,171338,173085,174865,176370,177010,178526,179455,180544,181907,182453,182893,183426,184585]},\"selected\":{\"id\":\"30317\"},\"selection_policy\":{\"id\":\"30318\"}},\"id\":\"29651\",\"type\":\"ColumnDataSource\"},{\"attributes\":{\"months\":[0,2,4,6,8,10]},\"id\":\"29611\",\"type\":\"MonthsTicker\"},{\"attributes\":{\"data_source\":{\"id\":\"29491\"},\"glyph\":{\"id\":\"29492\"},\"hover_glyph\":null,\"muted_glyph\":null,\"nonselection_glyph\":{\"id\":\"29493\"},\"selection_glyph\":null,\"view\":{\"id\":\"29495\"}},\"id\":\"29494\",\"type\":\"GlyphRenderer\"},{\"attributes\":{\"items\":[{\"id\":\"29515\"},{\"id\":\"29548\"}],\"location\":\"top_left\"},\"id\":\"29514\",\"type\":\"Legend\"},{\"attributes\":{\"months\":[0,4,8]},\"id\":\"29612\",\"type\":\"MonthsTicker\"},{\"attributes\":{\"source\":{\"id\":\"29491\"}},\"id\":\"29495\",\"type\":\"CDSView\"},{\"attributes\":{\"months\":[0,6]},\"id\":\"29613\",\"type\":\"MonthsTicker\"},{\"attributes\":{},\"id\":\"29477\",\"type\":\"PanTool\"},{\"attributes\":{\"fill_color\":{\"value\":\"white\"},\"line_color\":{\"value\":\"green\"},\"size\":{\"units\":\"screen\",\"value\":5},\"x\":{\"field\":\"x\"},\"y\":{\"field\":\"y\"}},\"id\":\"29652\",\"type\":\"Circle\"},{\"attributes\":{},\"id\":\"29614\",\"type\":\"YearsTicker\"},{\"attributes\":{},\"id\":\"29478\",\"type\":\"WheelZoomTool\"},{\"attributes\":{\"label\":{\"value\":\"deaths\"},\"renderers\":[{\"id\":\"29596\"}]},\"id\":\"29617\",\"type\":\"LegendItem\"},{\"attributes\":{},\"id\":\"29481\",\"type\":\"ResetTool\"},{\"attributes\":{\"data\":{\"x\":{\"__ndarray__\":\"AAAA5UcHd0IAAMBKmgd3QgAAgLDsB3dCAABAFj8Id0IAAAB8kQh3QgAAwOHjCHdCAACARzYJd0IAAECtiAl3QgAAABPbCXdCAADAeC0Kd0IAAIDefwp3QgAAQETSCndCAAAAqiQLd0IAAMAPdwt3QgAAgHXJC3dCAABA2xsMd0IAAABBbgx3QgAAwKbADHdCAACADBMNd0IAAEByZQ13QgAAANi3DXdCAADAPQoOd0IAAICjXA53QgAAQAmvDndCAAAAbwEPd0IAAMDUUw93QgAAgDqmD3dCAABAoPgPd0IAAAAGSxB3QgAAwGudEHdCAACA0e8Qd0IAAEA3QhF3QgAAAJ2UEXdCAADAAucRd0IAAIBoORJ3QgAAQM6LEndCAAAANN4Sd0IAAMCZMBN3QgAAgP+CE3dCAABAZdUTd0IAAADLJxR3QgAAwDB6FHdCAACAlswUd0IAAED8HhV3QgAAAGJxFXdCAADAx8MVd0IAAIAtFhZ3QgAAQJNoFndCAAAA+boWd0IAAMBeDRd3QgAAgMRfF3dCAABAKrIXd0IAAACQBBh3QgAAwPVWGHdCAACAW6kYd0IAAEDB+xh3QgAAACdOGXdCAADAjKAZd0IAAIDy8hl3QgAAQFhFGndCAAAAvpcad0IAAMAj6hp3QgAAgIk8G3dCAABA744bd0IAAABV4Rt3QgAAwLozHHdCAACAIIYcd0IAAECG2Bx3QgAAAOwqHXdCAADAUX0dd0IAAIC3zx13QgAAQB0iHndCAAAAg3Qed0IAAMDoxh53QgAAgE4ZH3dCAABAtGsfd0IAAAAavh93QgAAwH8QIHdCAACA5WIgd0IAAEBLtSB3QgAAALEHIXdCAADAFlohd0IAAIB8rCF3QgAAQOL+IXdCAAAASFEid0IAAMCtoyJ3QgAAgBP2IndCAABAeUgjd0IAAADfmiN3QgAAwETtI3dCAACAqj8kd0IAAEAQkiR3QgAAAHbkJHdCAADA2zYld0IAAIBBiSV3QgAAQKfbJXdCAAAADS4md0IAAMBygCZ3QgAAgNjSJndCAABAPiUnd0IAAACkdyd3QgAAwAnKJ3dCAACAbxwod0IAAEDVbih3QgAAADvBKHdCAADAoBMpd0IAAIAGZil3QgAAQGy4KXdCAAAA0goqd0IAAMA3XSp3QgAAgJ2vKndCAABAAwIrd0IAAABpVCt3QgAAwM6mK3dCAACANPkrd0IAAECaSyx3QgAAAACeLHdCAADAZfAsd0IAAIDLQi13QgAAQDGVLXdCAAAAl+ctd0I=\",\"dtype\":\"float64\",\"shape\":[121]},\"y\":[1,1,3,45,46,50,83,149,160,276,414,523,589,622,724,1004,1045,1258,1439,1966,2335,2749,2941,4025,4440,5129,6072,7024,7432,8326,9362,10361,10950,12384,13030,14620,15729,16847,18278,19758,20996,21815,22837,24392,26491,28470,30455,32534,34211,35435,37130,38092,40164,42727,44927,47055,48877,51600,54543,57576,60498,63120,64928,66624,68941,71252,75945,78249,79914,81654,82879,85231,93245,96276,99023,103031,105186,106587,109039,112541,115288,120205,122810,125176,127326,129401,132282,134560,136720,138840,140479,141981,144658,147101,150604,152844,155633,157507,158355,160092,160938,161895,163781,165078,165837,166584,168646,169939,171338,173085,174865,176370,177010,178526,179455,180544,181907,182453,182893,183426,184585]},\"selected\":{\"id\":\"30315\"},\"selection_policy\":{\"id\":\"30316\"}},\"id\":\"29623\",\"type\":\"ColumnDataSource\"},{\"attributes\":{\"overlay\":{\"id\":\"29483\"}},\"id\":\"29479\",\"type\":\"BoxZoomTool\"},{\"attributes\":{\"label\":{\"value\":\"recovered\"},\"renderers\":[{\"id\":\"29626\"}]},\"id\":\"29650\",\"type\":\"LegendItem\"},{\"attributes\":{},\"id\":\"29480\",\"type\":\"SaveTool\"},{\"attributes\":{\"line_alpha\":0.1,\"line_color\":\"green\",\"line_width\":4,\"x\":{\"field\":\"x\"},\"y\":{\"field\":\"y\"}},\"id\":\"29625\",\"type\":\"Line\"},{\"attributes\":{},\"id\":\"29911\",\"type\":\"Selection\"},{\"attributes\":{\"days\":[1,2,3,4,5,6,7,8,9,10,11,12,13,14,15,16,17,18,19,20,21,22,23,24,25,26,27,28,29,30,31]},\"id\":\"30227\",\"type\":\"DaysTicker\"},{\"attributes\":{},\"id\":\"29962\",\"type\":\"SaveTool\"},{\"attributes\":{},\"id\":\"30184\",\"type\":\"DataRange1d\"},{\"attributes\":{},\"id\":\"30186\",\"type\":\"DataRange1d\"},{\"attributes\":{\"days\":[1,4,7,10,13,16,19,22,25,28]},\"id\":\"30228\",\"type\":\"DaysTicker\"},{\"attributes\":{},\"id\":\"29963\",\"type\":\"ResetTool\"},{\"attributes\":{\"data\":{\"x\":{\"__ndarray__\":\"AACAdckLd0IAAEDbGwx3QgAAAEFuDHdCAADApsAMd0IAAIAMEw13QgAAQHJlDXdCAAAA2LcNd0IAAMA9Cg53QgAAgKNcDndCAABACa8Od0IAAABvAQ93QgAAwNRTD3dCAACAOqYPd0IAAECg+A93QgAAAAZLEHdCAADAa50Qd0IAAIDR7xB3QgAAQDdCEXdCAAAAnZQRd0IAAMAC5xF3QgAAgGg5EndCAABAzosSd0IAAAA03hJ3QgAAwJkwE3dCAACA/4ITd0IAAEBl1RN3QgAAAMsnFHdCAADAMHoUd0IAAICWzBR3QgAAQPweFXdCAAAAYnEVd0IAAMDHwxV3QgAAgC0WFndCAABAk2gWd0IAAAD5uhZ3QgAAwF4NF3dCAACAxF8Xd0IAAEAqshd3QgAAAJAEGHdCAADA9VYYd0IAAIBbqRh3QgAAQMH7GHdCAAAAJ04Zd0IAAMCMoBl3QgAAgPLyGXdCAABAWEUad0IAAAC+lxp3QgAAwCPqGndCAACAiTwbd0IAAEDvjht3QgAAAFXhG3dCAADAujMcd0IAAIAghhx3QgAAQIbYHHdCAAAA7Codd0IAAMBRfR13QgAAgLfPHXdCAABAHSIed0IAAACDdB53QgAAwOjGHndCAACAThkfd0IAAEC0ax93QgAAABq+H3dCAADAfxAgd0IAAIDlYiB3QgAAQEu1IHdCAAAAsQchd0IAAMAWWiF3QgAAgHysIXdCAABA4v4hd0IAAABIUSJ3QgAAwK2jIndCAACAE/Yid0IAAEB5SCN3QgAAAN+aI3dCAADARO0jd0IAAICqPyR3QgAAQBCSJHdCAAAAduQkd0IAAMDbNiV3QgAAgEGJJXdCAABAp9sld0IAAAANLiZ3QgAAwHKAJndCAACA2NImd0IAAEA+JSd3QgAAAKR3J3dCAADACcond0IAAIBvHCh3QgAAQNVuKHdCAAAAO8Eod0IAAMCgEyl3QgAAgAZmKXdCAABAbLgpd0IAAADSCip3QgAAwDddKndCAACAna8qd0IAAEADAit3QgAAAGlUK3dCAADAzqYrd0IAAIA0+St3QgAAQJpLLHdCAAAAAJ4sd0IAAMBl8Cx3QgAAgMtCLXdCAABAMZUtd0IAAACX5y13QgAAwPw5LndCAACAYowud0IAAEDI3i53QgAAAC4xL3dCAADAk4Mvd0IAAID51S93QgAAQF8oMHdCAAAAxXowd0IAAMAqzTB3QgAAgJAfMXdCAABA9nExd0IAAABcxDF3QgAAwMEWMndCAACAJ2kyd0I=\",\"dtype\":\"float64\",\"shape\":[121]},\"y\":[56478.01575580371,24583.77912227274,30685.15420726601,46826.59514105012,53329.08700758159,74233.09149450295,87219.86131064052,73027.73630970358,67006.19850587512,69565.84133555055,82774.85701584803,106313.20310471767,142085.23578711355,148049.07947912067,131191.63677368296,121184.83023439659,118656.34219589637,121670.50390297288,126056.67364481365,132205.3849850846,135565.65392889993,134786.44427582872,134521.07871898808,137414.18231022937,142572.83155211608,148841.51245276246,156065.4311300869,161106.08989490973,163925.22306472965,166072.43933577856,170305.34587481103,178897.33718563078,188867.6174918845,203843.22026789814,217070.77896056394,220171.02106567955,221187.8991970876,221517.6819434537,226400.04684802738,232794.07793409855,240131.17995140795,239540.9564782476,229618.50293991837,223751.2540064661,228144.57847383892,235116.51091770307,246422.97525667073,258604.8376873686,258419.75722686347,245503.1550678486,237449.6359037941,233879.287510315,235005.1660143534,235865.82485456162,236741.21876605743,234328.48934527492,230784.96816347417,229640.7293637448,230957.63336201524,231844.9765356494,234049.12234075853,234143.16595075227,233105.14525010553,231137.02262891876,232627.96399807322,234613.10451786793,237387.01319176125,240659.94291903713,243220.109531155,241387.3543733829,238087.60921274056,237117.54579708472,238099.60329364086,239078.28305073266,239641.22938971192,239404.57727575154,238559.76789832977,237906.7451706942,239186.20839485523,239475.5318170175,241194.10367247046,242558.83770657255,243710.25947749708,242415.11928143125,239944.0382130659,239753.00938183177,239275.68860826138,238520.1239621138,239088.67886271284,239421.02457157438,238744.16568075586,238143.47814406638,238573.62316533597,240027.2726336548,244755.79838648348,249781.39043182303,257993.08893654347,270005.00186947174,269427.3286686133,282336.3842731011,468508.6632640779,282427970.1712575,283100.768556297,248328.73275159477,243703.9713623735,242547.56092989797,241519.47842861232]},\"selected\":{\"id\":\"30375\"},\"selection_policy\":{\"id\":\"30376\"}},\"id\":\"29929\",\"type\":\"ColumnDataSource\"},{\"attributes\":{},\"id\":\"29912\",\"type\":\"UnionRenderers\"},{\"attributes\":{\"source\":{\"id\":\"29973\"}},\"id\":\"29977\",\"type\":\"CDSView\"},{\"attributes\":{},\"id\":\"29964\",\"type\":\"HelpTool\"},{\"attributes\":{},\"id\":\"29913\",\"type\":\"Selection\"},{\"attributes\":{\"days\":[1,8,15,22]},\"id\":\"30229\",\"type\":\"DaysTicker\"},{\"attributes\":{},\"id\":\"29914\",\"type\":\"UnionRenderers\"},{\"attributes\":{\"base\":24,\"mantissas\":[1,2,4,6,8,12],\"max_interval\":43200000.0,\"min_interval\":3600000.0,\"num_minor_ticks\":0},\"id\":\"29846\",\"type\":\"AdaptiveTicker\"},{\"attributes\":{\"text\":\"New Deaths - Gamma Distribution Fitting: Italy\"},\"id\":\"30182\",\"type\":\"Title\"},{\"attributes\":{\"base\":60,\"mantissas\":[1,2,5,10,15,20,30],\"max_interval\":1800000.0,\"min_interval\":1000.0,\"num_minor_ticks\":0},\"id\":\"29845\",\"type\":\"AdaptiveTicker\"},{\"attributes\":{\"days\":[1,15]},\"id\":\"30230\",\"type\":\"DaysTicker\"},{\"attributes\":{\"use_scientific\":false},\"id\":\"30177\",\"type\":\"BasicTickFormatter\"},{\"attributes\":{\"data_source\":{\"id\":\"29929\"},\"glyph\":{\"id\":\"29930\"},\"hover_glyph\":null,\"muted_glyph\":null,\"nonselection_glyph\":{\"id\":\"29931\"},\"selection_glyph\":null,\"view\":{\"id\":\"29933\"}},\"id\":\"29932\",\"type\":\"GlyphRenderer\"},{\"attributes\":{\"months\":[0,1,2,3,4,5,6,7,8,9,10,11]},\"id\":\"30231\",\"type\":\"MonthsTicker\"},{\"attributes\":{\"days\":[\"%d %B\"]},\"id\":\"29934\",\"type\":\"DatetimeTickFormatter\"},{\"attributes\":{\"text\":\"Max Total Deaths - Logistic Fitting: Italy\"},\"id\":\"29941\",\"type\":\"Title\"},{\"attributes\":{\"days\":[1,2,3,4,5,6,7,8,9,10,11,12,13,14,15,16,17,18,19,20,21,22,23,24,25,26,27,28,29,30,31]},\"id\":\"29847\",\"type\":\"DaysTicker\"},{\"attributes\":{\"months\":[0,2,4,6,8,10]},\"id\":\"30232\",\"type\":\"MonthsTicker\"},{\"attributes\":{\"toolbars\":[{\"id\":\"29484\"},{\"id\":\"29586\"},{\"id\":\"29688\"},{\"id\":\"29827\"},{\"id\":\"29966\"},{\"id\":\"30105\"},{\"id\":\"30207\"}],\"tools\":[{\"id\":\"29477\"},{\"id\":\"29478\"},{\"id\":\"29479\"},{\"id\":\"29480\"},{\"id\":\"29481\"},{\"id\":\"29482\"},{\"id\":\"29558\"},{\"id\":\"29579\"},{\"id\":\"29580\"},{\"id\":\"29581\"},{\"id\":\"29582\"},{\"id\":\"29583\"},{\"id\":\"29584\"},{\"id\":\"29660\"},{\"id\":\"29681\"},{\"id\":\"29682\"},{\"id\":\"29683\"},{\"id\":\"29684\"},{\"id\":\"29685\"},{\"id\":\"29686\"},{\"id\":\"29799\"},{\"id\":\"29820\"},{\"id\":\"29821\"},{\"id\":\"29822\"},{\"id\":\"29823\"},{\"id\":\"29824\"},{\"id\":\"29825\"},{\"id\":\"29938\"},{\"id\":\"29959\"},{\"id\":\"29960\"},{\"id\":\"29961\"},{\"id\":\"29962\"},{\"id\":\"29963\"},{\"id\":\"29964\"},{\"id\":\"30077\"},{\"id\":\"30098\"},{\"id\":\"30099\"},{\"id\":\"30100\"},{\"id\":\"30101\"},{\"id\":\"30102\"},{\"id\":\"30103\"},{\"id\":\"30179\"},{\"id\":\"30200\"},{\"id\":\"30201\"},{\"id\":\"30202\"},{\"id\":\"30203\"},{\"id\":\"30204\"},{\"id\":\"30205\"},{\"id\":\"30281\"}]},\"id\":\"30471\",\"type\":\"ProxyToolbar\"},{\"attributes\":{\"fill_color\":{\"value\":\"white\"},\"line_color\":{\"value\":\"blue\"},\"size\":{\"units\":\"screen\",\"value\":5},\"x\":{\"field\":\"x\"},\"y\":{\"field\":\"y\"}},\"id\":\"29930\",\"type\":\"Circle\"},{\"attributes\":{\"days\":[1,4,7,10,13,16,19,22,25,28]},\"id\":\"29848\",\"type\":\"DaysTicker\"},{\"attributes\":{\"months\":[0,4,8]},\"id\":\"30233\",\"type\":\"MonthsTicker\"},{\"attributes\":{\"data_source\":{\"id\":\"30170\"},\"glyph\":{\"id\":\"30171\"},\"hover_glyph\":null,\"muted_glyph\":null,\"nonselection_glyph\":{\"id\":\"30172\"},\"selection_glyph\":null,\"view\":{\"id\":\"30174\"}},\"id\":\"30173\",\"type\":\"GlyphRenderer\"},{\"attributes\":{\"label\":{\"value\":\"total deaths max UP\"},\"renderers\":[{\"id\":\"29976\"}]},\"id\":\"29997\",\"type\":\"LegendItem\"},{\"attributes\":{\"line_color\":\"blue\",\"line_width\":4,\"x\":{\"field\":\"x\"},\"y\":{\"field\":\"y\"}},\"id\":\"30113\",\"type\":\"Line\"},{\"attributes\":{\"callback\":null,\"formatters\":{\"@x\":\"datetime\"},\"mode\":\"vline\",\"tooltips\":[[\"date\",\"@x{%d %B}\"],[\"total cases max/UP/DOWN\",\"@y{0[.]000}\"]]},\"id\":\"29938\",\"type\":\"HoverTool\"},{\"attributes\":{\"callback\":null,\"formatters\":{\"@x\":\"datetime\"},\"mode\":\"vline\",\"tooltips\":[[\"date\",\"@x{%d %B}\"],[\"new positive/fitting\",\"@y{0[.]000}\"]]},\"id\":\"30179\",\"type\":\"HoverTool\"},{\"attributes\":{\"days\":[1,8,15,22]},\"id\":\"29849\",\"type\":\"DaysTicker\"},{\"attributes\":{\"months\":[0,6]},\"id\":\"30234\",\"type\":\"MonthsTicker\"},{\"attributes\":{\"days\":[\"%d %B\"]},\"id\":\"30175\",\"type\":\"DatetimeTickFormatter\"},{\"attributes\":{\"fill_alpha\":{\"value\":0.1},\"fill_color\":{\"value\":\"white\"},\"line_alpha\":{\"value\":0.1},\"line_color\":{\"value\":\"blue\"},\"size\":{\"units\":\"screen\",\"value\":5},\"x\":{\"field\":\"x\"},\"y\":{\"field\":\"y\"}},\"id\":\"29931\",\"type\":\"Circle\"},{\"attributes\":{\"days\":[1,15]},\"id\":\"29850\",\"type\":\"DaysTicker\"},{\"attributes\":{},\"id\":\"30235\",\"type\":\"YearsTicker\"},{\"attributes\":{\"source\":{\"id\":\"29929\"}},\"id\":\"29933\",\"type\":\"CDSView\"},{\"attributes\":{\"days\":[\"%d %B\"]},\"id\":\"30277\",\"type\":\"DatetimeTickFormatter\"},{\"attributes\":{\"fill_alpha\":{\"value\":0.1},\"fill_color\":{\"value\":\"white\"},\"line_alpha\":{\"value\":0.1},\"line_color\":{\"value\":\"lightcoral\"},\"size\":{\"units\":\"screen\",\"value\":5},\"x\":{\"field\":\"x\"},\"y\":{\"field\":\"y\"}},\"id\":\"30172\",\"type\":\"Circle\"},{\"attributes\":{\"months\":[0,1,2,3,4,5,6,7,8,9,10,11]},\"id\":\"29851\",\"type\":\"MonthsTicker\"},{\"attributes\":{\"data_source\":{\"id\":\"29973\"},\"glyph\":{\"id\":\"29974\"},\"hover_glyph\":null,\"muted_glyph\":null,\"nonselection_glyph\":{\"id\":\"29975\"},\"selection_glyph\":null,\"view\":{\"id\":\"29977\"}},\"id\":\"29976\",\"type\":\"GlyphRenderer\"},{\"attributes\":{\"bottom_units\":\"screen\",\"fill_alpha\":0.5,\"fill_color\":\"lightgrey\",\"left_units\":\"screen\",\"level\":\"overlay\",\"line_alpha\":1.0,\"line_color\":\"black\",\"line_dash\":[4,4],\"line_width\":2,\"render_mode\":\"css\",\"right_units\":\"screen\",\"top_units\":\"screen\"},\"id\":\"29965\",\"type\":\"BoxAnnotation\"},{\"attributes\":{\"data\":{\"x\":{\"__ndarray__\":\"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\",\"dtype\":\"float64\",\"shape\":[242]},\"y\":[0,3,2,5,4,8,5,18,27,28,41,49,36,133,97,168,196,189,250,175,368,349,345,475,427,627,793,651,601,743,683,662,969,889,756,812,837,727,760,766,681,525,636,604,542,610,570,619,431,566,602,578,525,575,482,433,454,534,437,464,420,415,260,333,382,323,285,269,474,174,195,236,369,274,243,194,165,179,172,195,262,242,153,145,99,162,161,156,130,119,50,92,78,117,70,87,111,75,60,55,71,88,85,72,53,65,79,71,53,56,78,44,26,34,43,66,47,49,24,23,18]},\"selected\":{\"id\":\"30256\"},\"selection_policy\":{\"id\":\"30257\"}},\"id\":\"30239\",\"type\":\"ColumnDataSource\"},{\"attributes\":{\"months\":[0,2,4,6,8,10]},\"id\":\"29852\",\"type\":\"MonthsTicker\"},{\"attributes\":{\"line_color\":\"darkviolet\",\"line_width\":4,\"x\":{\"field\":\"x\"},\"y\":{\"field\":\"y\"}},\"id\":\"30215\",\"type\":\"Line\"},{\"attributes\":{},\"id\":\"30254\",\"type\":\"Selection\"},{\"attributes\":{\"months\":[0,4,8]},\"id\":\"29853\",\"type\":\"MonthsTicker\"},{\"attributes\":{\"active_drag\":\"auto\",\"active_inspect\":\"auto\",\"active_multi\":null,\"active_scroll\":\"auto\",\"active_tap\":\"auto\",\"tools\":[{\"id\":\"29959\"},{\"id\":\"29960\"},{\"id\":\"29961\"},{\"id\":\"29962\"},{\"id\":\"29963\"},{\"id\":\"29964\"},{\"id\":\"30077\"}]},\"id\":\"29966\",\"type\":\"Toolbar\"},{\"attributes\":{\"use_scientific\":false},\"id\":\"29936\",\"type\":\"BasicTickFormatter\"},{\"attributes\":{\"source\":{\"id\":\"30244\"}},\"id\":\"30248\",\"type\":\"CDSView\"},{\"attributes\":{\"months\":[0,6]},\"id\":\"29854\",\"type\":\"MonthsTicker\"},{\"attributes\":{\"data\":{\"x\":{\"__ndarray__\":\"AACAdckLd0IAAEDbGwx3QgAAAEFuDHdCAADApsAMd0IAAIAMEw13QgAAQHJlDXdCAAAA2LcNd0IAAMA9Cg53QgAAgKNcDndCAABACa8Od0IAAABvAQ93QgAAwNRTD3dCAACAOqYPd0IAAECg+A93QgAAAAZLEHdCAADAa50Qd0IAAIDR7xB3QgAAQDdCEXdCAAAAnZQRd0IAAMAC5xF3QgAAgGg5EndCAABAzosSd0IAAAA03hJ3QgAAwJkwE3dCAACA/4ITd0IAAEBl1RN3QgAAAMsnFHdCAADAMHoUd0IAAICWzBR3QgAAQPweFXdCAAAAYnEVd0IAAMDHwxV3QgAAgC0WFndCAABAk2gWd0IAAAD5uhZ3QgAAwF4NF3dCAACAxF8Xd0IAAEAqshd3QgAAAJAEGHdCAADA9VYYd0IAAIBbqRh3QgAAQMH7GHdCAAAAJ04Zd0IAAMCMoBl3QgAAgPLyGXdCAABAWEUad0IAAAC+lxp3QgAAwCPqGndCAACAiTwbd0IAAEDvjht3QgAAAFXhG3dCAADAujMcd0IAAIAghhx3QgAAQIbYHHdCAAAA7Codd0IAAMBRfR13QgAAgLfPHXdCAABAHSIed0IAAACDdB53QgAAwOjGHndCAACAThkfd0IAAEC0ax93QgAAABq+H3dCAADAfxAgd0IAAIDlYiB3QgAAQEu1IHdCAAAAsQchd0IAAMAWWiF3QgAAgHysIXdCAABA4v4hd0IAAABIUSJ3QgAAwK2jIndCAACAE/Yid0IAAEB5SCN3QgAAAN+aI3dCAADARO0jd0IAAICqPyR3QgAAQBCSJHdCAAAAduQkd0IAAMDbNiV3QgAAgEGJJXdCAABAp9sld0IAAAANLiZ3QgAAwHKAJndCAACA2NImd0IAAEA+JSd3QgAAAKR3J3dCAADACcond0IAAIBvHCh3QgAAQNVuKHdCAAAAO8Eod0IAAMCgEyl3QgAAgAZmKXdCAABAbLgpd0IAAADSCip3QgAAwDddKndCAACAna8qd0IAAEADAit3QgAAAGlUK3dCAADAzqYrd0IAAIA0+St3QgAAQJpLLHdCAAAAAJ4sd0IAAMBl8Cx3QgAAgMtCLXdCAABAMZUtd0IAAACX5y13QgAAwPw5LndCAACAYowud0IAAEDI3i53QgAAAC4xL3dCAADAk4Mvd0IAAID51S93QgAAQF8oMHdCAAAAxXowd0IAAMAqzTB3QgAAgJAfMXdCAABA9nExd0IAAABcxDF3QgAAwMEWMndCAACAJ2kyd0I=\",\"dtype\":\"float64\",\"shape\":[121]},\"y\":[15126.22446615273,37293.56878713092,10255.769525094602,3439.9947850040458,3313.02138001441,2586.9708812681347,3623.914396421633,4651.057813357563,5050.779275102898,6391.532847483163,6957.044682717751,9316.416481045784,16392.288644633736,18325.72183057608,15481.8602169969,15011.571872634177,14368.46451013765,13803.27480284032,15240.321155112646,16833.425582841955,17766.844805860437,18418.303397647738,19202.94700693323,19707.718158555377,20206.865611223024,20977.56483635313,21441.9983402785,21119.124956683583,20987.343321689383,21177.345281487564,21340.679060805727,21907.84574920276,22852.375149319574,24000.450754674242,24670.398551101458,25788.06617468369,27499.263941336943,29589.129636094258,31944.650815107852,34719.7955239108,35804.10722501527,34952.459517738986,34729.62212404043,34925.368544591445,34585.6136151191,34867.02623487922,34707.80181620491,34558.31623479004,32985.555725266684,32624.687210666816,32757.393168488044,32808.73787500851,32662.42135040724,32563.410691405064,33355.84622559353,33357.63326320049,33372.52576860454,33679.94610713555,34701.995373591984,36283.30564815349,37529.98221340563,37467.790160677294,35802.98738997665,35286.241239083516,34999.283818844946,34626.46899812836,34941.29261270131,36244.67104115673,38475.94906140051,36647.46149941817,35721.795333282644,36003.82725651222,37398.62451113495,37856.14209648177,37255.79045379563,36070.885495604736,34884.97876536398,34352.83354112061,34085.40384186729,34173.388266574286,34401.441657501426,34567.73595187179,34604.17348147893,34632.48991608872,34615.69536693465,34915.78475916209,35415.629904556576,36402.36412015375,37780.493295056986,38288.46654843085,36462.873042333624,36410.79878210264,36866.858692748596,38756.89686487875,38572.87429838713,39270.42643643237,43157.143008510655,38884.10441745088,36346.639872995744,35537.19011612215,35311.852491643986,35404.39330304099,35505.17618388665,35584.53969131409,35469.39632518595,35442.85384909087,35417.177872061584]},\"selected\":{\"id\":\"30015\"},\"selection_policy\":{\"id\":\"30016\"}},\"id\":\"29998\",\"type\":\"ColumnDataSource\"},{\"attributes\":{\"data_source\":{\"id\":\"30244\"},\"glyph\":{\"id\":\"30245\"},\"hover_glyph\":null,\"muted_glyph\":null,\"nonselection_glyph\":{\"id\":\"30246\"},\"selection_glyph\":null,\"view\":{\"id\":\"30248\"}},\"id\":\"30247\",\"type\":\"GlyphRenderer\"},{\"attributes\":{},\"id\":\"29855\",\"type\":\"YearsTicker\"},{\"attributes\":{\"source\":{\"id\":\"29864\"}},\"id\":\"29868\",\"type\":\"CDSView\"},{\"attributes\":{\"below\":[{\"id\":\"30090\"}],\"center\":[{\"id\":\"30093\"},{\"id\":\"30097\"},{\"id\":\"30135\"}],\"left\":[{\"id\":\"30094\"}],\"plot_height\":350,\"plot_width\":470,\"renderers\":[{\"id\":\"30115\"},{\"id\":\"30140\"},{\"id\":\"30145\"},{\"id\":\"30173\"}],\"title\":{\"id\":\"30080\"},\"toolbar\":{\"id\":\"30105\"},\"toolbar_location\":null,\"x_range\":{\"id\":\"30082\"},\"x_scale\":{\"id\":\"30086\"},\"y_range\":{\"id\":\"30084\"},\"y_scale\":{\"id\":\"30088\"}},\"id\":\"30079\",\"subtype\":\"Figure\",\"type\":\"Plot\"},{\"attributes\":{\"data\":{\"x\":{\"__ndarray__\":\"AACAdckLd0IAAEDbGwx3QgAAAEFuDHdCAADApsAMd0IAAIAMEw13QgAAQHJlDXdCAAAA2LcNd0IAAMA9Cg53QgAAgKNcDndCAABACa8Od0IAAABvAQ93QgAAwNRTD3dCAACAOqYPd0IAAECg+A93QgAAAAZLEHdCAADAa50Qd0IAAIDR7xB3QgAAQDdCEXdCAAAAnZQRd0IAAMAC5xF3QgAAgGg5EndCAABAzosSd0IAAAA03hJ3QgAAwJkwE3dCAACA/4ITd0IAAEBl1RN3QgAAAMsnFHdCAADAMHoUd0IAAICWzBR3QgAAQPweFXdCAAAAYnEVd0IAAMDHwxV3QgAAgC0WFndCAABAk2gWd0IAAAD5uhZ3QgAAwF4NF3dCAACAxF8Xd0IAAEAqshd3QgAAAJAEGHdCAADA9VYYd0IAAIBbqRh3QgAAQMH7GHdCAAAAJ04Zd0IAAMCMoBl3QgAAgPLyGXdCAABAWEUad0IAAAC+lxp3QgAAwCPqGndCAACAiTwbd0IAAEDvjht3QgAAAFXhG3dCAADAujMcd0IAAIAghhx3QgAAQIbYHHdCAAAA7Codd0IAAMBRfR13QgAAgLfPHXdCAABAHSIed0IAAACDdB53QgAAwOjGHndCAACAThkfd0IAAEC0ax93QgAAABq+H3dCAADAfxAgd0IAAIDlYiB3QgAAQEu1IHdCAAAAsQchd0IAAMAWWiF3QgAAgHysIXdCAABA4v4hd0IAAABIUSJ3QgAAwK2jIndCAACAE/Yid0IAAEB5SCN3QgAAAN+aI3dCAADARO0jd0IAAICqPyR3QgAAQBCSJHdCAAAAduQkd0IAAMDbNiV3QgAAgEGJJXdCAABAp9sld0IAAAANLiZ3QgAAwHKAJndCAACA2NImd0IAAEA+JSd3QgAAAKR3J3dCAADACcond0IAAIBvHCh3QgAAQNVuKHdCAAAAO8Eod0IAAMCgEyl3QgAAgAZmKXdCAABAbLgpd0IAAADSCip3QgAAwDddKndCAACAna8qd0IAAEADAit3QgAAAGlUK3dCAADAzqYrd0IAAIA0+St3QgAAQJpLLHdCAAAAAJ4sd0IAAMBl8Cx3QgAAgMtCLXdCAABAMZUtd0IAAACX5y13QgAAwPw5LndCAACAYowud0IAAEDI3i53QgAAAC4xL3dCAADAk4Mvd0IAAID51S93QgAAQF8oMHdCAAAAxXowd0IAAMAqzTB3QgAAgJAfMXdCAABA9nExd0IAAABcxDF3QgAAwMEWMndCAACAJ2kyd0I=\",\"dtype\":\"float64\",\"shape\":[121]},\"y\":[86912.05969910315,29083.90755584394,36023.732632084946,57743.26287129921,63228.58826880139,89917.54847679034,102396.39302686279,80763.09269653645,71753.2877547804,73429.41264461084,89135.00312663842,118537.04291285387,163391.79163957646,165143.43239880056,142128.9818930372,128571.40026767501,124247.01938846224,126581.715475767,130810.33178672902,137227.5365771877,140304.64949130217,138647.55171121034,137802.83066331755,140520.55474423835,145560.88279340838,151756.81804351133,159416.1215550685,165056.46168276644,167981.71188413462,169985.31366469234,174295.35804262952,183101.13047422701,193403.0916702229,210559.41582082008,226655.16773380945,229886.5162064032,230541.77515449267,230384.35728934366,235506.98153436702,242579.67276349175,251058.81482722826,249727.68450186917,236575.96539834217,228646.1429084767,233877.2944997811,241826.83856026072,254945.30576238886,267341.9930352748,266888.88523228845,251543.1532155206,241544.8638314928,237040.29314820794,238152.88508643635,239044.88801111336,239991.18101821854,236929.68275297133,232421.0235671601,231205.72879202297,232480.0016904601,233447.08838449325,235824.7046495138,235896.44895543437,234673.50156234615,232301.12664736455,234108.21536435926,236405.36461583653,239654.87716593768,243225.91486263,246103.4440163067,243823.15476510115,239900.38499526642,238660.49276871546,239771.74080746033,240901.70343590208,241582.4850499263,241205.54476872465,239979.10455031905,239188.3816479829,240431.01579317087,240768.9675063767,242882.88949842518,244686.6980636507,246197.54500767353,244388.09174615983,241234.7127584967,241038.46201731754,240456.95303457294,239562.20268401311,240325.06766595264,240773.74054827934,239767.67396637352,238838.9893511917,239414.74175960186,241288.52320958552,248050.60936641356,255833.03572905273,272015.4725713216,303408.7434192736,300636.5283302833,341306.61848396214,1928068.8767297177,1751692546987.5315,381110.70476775046,255274.40397637626,246048.0225723501,244053.21055435832,242429.1713083168]},\"selected\":{\"id\":\"29876\"},\"selection_policy\":{\"id\":\"29877\"}},\"id\":\"29859\",\"type\":\"ColumnDataSource\"},{\"attributes\":{\"mantissas\":[1,2,5],\"max_interval\":500.0,\"num_minor_ticks\":0},\"id\":\"29983\",\"type\":\"AdaptiveTicker\"},{\"attributes\":{},\"id\":\"30255\",\"type\":\"UnionRenderers\"},{\"attributes\":{},\"id\":\"29943\",\"type\":\"DataRange1d\"},{\"attributes\":{\"fill_color\":{\"value\":\"white\"},\"line_color\":{\"value\":\"lightcoral\"},\"size\":{\"units\":\"screen\",\"value\":5},\"x\":{\"field\":\"x\"},\"y\":{\"field\":\"y\"}},\"id\":\"30171\",\"type\":\"Circle\"},{\"attributes\":{},\"id\":\"30256\",\"type\":\"Selection\"},{\"attributes\":{\"items\":[{\"id\":\"29997\"},{\"id\":\"30030\"},{\"id\":\"30067\"}],\"location\":\"bottom_right\"},\"id\":\"29996\",\"type\":\"Legend\"},{\"attributes\":{\"label\":{\"value\":\"total cases max DOWN\"},\"renderers\":[{\"id\":\"29867\"}]},\"id\":\"29891\",\"type\":\"LegendItem\"},{\"attributes\":{},\"id\":\"30257\",\"type\":\"UnionRenderers\"},{\"attributes\":{\"end\":45000},\"id\":\"29945\",\"type\":\"Range1d\"},{\"attributes\":{},\"id\":\"29874\",\"type\":\"Selection\"},{\"attributes\":{},\"id\":\"29949\",\"type\":\"LinearScale\"},{\"attributes\":{\"source\":{\"id\":\"30170\"}},\"id\":\"30174\",\"type\":\"CDSView\"},{\"attributes\":{},\"id\":\"29875\",\"type\":\"UnionRenderers\"},{\"attributes\":{},\"id\":\"29947\",\"type\":\"LinearScale\"},{\"attributes\":{\"data\":{\"x\":{\"__ndarray__\":\"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\",\"dtype\":\"float64\",\"shape\":[242]},\"y\":{\"__ndarray__\":\"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\",\"dtype\":\"float64\",\"shape\":[242]}},\"selected\":{\"id\":\"30454\"},\"selection_policy\":{\"id\":\"30455\"}},\"id\":\"30272\",\"type\":\"ColumnDataSource\"},{\"attributes\":{},\"id\":\"29876\",\"type\":\"Selection\"},{\"attributes\":{\"axis_label\":\"Date\",\"formatter\":{\"id\":\"30073\"},\"major_label_orientation\":0.7853981633974483,\"minor_tick_in\":-5,\"minor_tick_out\":-3,\"ticker\":{\"id\":\"29952\"}},\"id\":\"29951\",\"type\":\"DatetimeAxis\"},{\"attributes\":{\"fill_alpha\":{\"value\":0.1},\"fill_color\":{\"value\":\"white\"},\"line_alpha\":{\"value\":0.1},\"line_color\":{\"value\":\"lightcoral\"},\"size\":{\"units\":\"screen\",\"value\":5},\"x\":{\"field\":\"x\"},\"y\":{\"field\":\"y\"}},\"id\":\"30274\",\"type\":\"Circle\"},{\"attributes\":{},\"id\":\"29877\",\"type\":\"UnionRenderers\"},{\"attributes\":{},\"id\":\"29956\",\"type\":\"BasicTicker\"},{\"attributes\":{\"base\":24,\"mantissas\":[1,2,4,6,8,12],\"max_interval\":43200000.0,\"min_interval\":3600000.0,\"num_minor_ticks\":0},\"id\":\"29985\",\"type\":\"AdaptiveTicker\"},{\"attributes\":{\"source\":{\"id\":\"29892\"}},\"id\":\"29896\",\"type\":\"CDSView\"},{\"attributes\":{\"num_minor_ticks\":5,\"tickers\":[{\"id\":\"29983\"},{\"id\":\"29984\"},{\"id\":\"29985\"},{\"id\":\"29986\"},{\"id\":\"29987\"},{\"id\":\"29988\"},{\"id\":\"29989\"},{\"id\":\"29990\"},{\"id\":\"29991\"},{\"id\":\"29992\"},{\"id\":\"29993\"},{\"id\":\"29994\"}]},\"id\":\"29952\",\"type\":\"DatetimeTicker\"},{\"attributes\":{\"base\":60,\"mantissas\":[1,2,5,10,15,20,30],\"max_interval\":1800000.0,\"min_interval\":1000.0,\"num_minor_ticks\":0},\"id\":\"29984\",\"type\":\"AdaptiveTicker\"},{\"attributes\":{\"data\":{\"x\":{\"__ndarray__\":\"AACAdckLd0IAAEDbGwx3QgAAAEFuDHdCAADApsAMd0IAAIAMEw13QgAAQHJlDXdCAAAA2LcNd0IAAMA9Cg53QgAAgKNcDndCAABACa8Od0IAAABvAQ93QgAAwNRTD3dCAACAOqYPd0IAAECg+A93QgAAAAZLEHdCAADAa50Qd0IAAIDR7xB3QgAAQDdCEXdCAAAAnZQRd0IAAMAC5xF3QgAAgGg5EndCAABAzosSd0IAAAA03hJ3QgAAwJkwE3dCAACA/4ITd0IAAEBl1RN3QgAAAMsnFHdCAADAMHoUd0IAAICWzBR3QgAAQPweFXdCAAAAYnEVd0IAAMDHwxV3QgAAgC0WFndCAABAk2gWd0IAAAD5uhZ3QgAAwF4NF3dCAACAxF8Xd0IAAEAqshd3QgAAAJAEGHdCAADA9VYYd0IAAIBbqRh3QgAAQMH7GHdCAAAAJ04Zd0IAAMCMoBl3QgAAgPLyGXdCAABAWEUad0IAAAC+lxp3QgAAwCPqGndCAACAiTwbd0IAAEDvjht3QgAAAFXhG3dCAADAujMcd0IAAIAghhx3QgAAQIbYHHdCAAAA7Codd0IAAMBRfR13QgAAgLfPHXdCAABAHSIed0IAAACDdB53QgAAwOjGHndCAACAThkfd0IAAEC0ax93QgAAABq+H3dCAADAfxAgd0IAAIDlYiB3QgAAQEu1IHdCAAAAsQchd0IAAMAWWiF3QgAAgHysIXdCAABA4v4hd0IAAABIUSJ3QgAAwK2jIndCAACAE/Yid0IAAEB5SCN3QgAAAN+aI3dCAADARO0jd0IAAICqPyR3QgAAQBCSJHdCAAAAduQkd0IAAMDbNiV3QgAAgEGJJXdCAABAp9sld0IAAAANLiZ3QgAAwHKAJndCAACA2NImd0IAAEA+JSd3QgAAAKR3J3dCAADACcond0IAAIBvHCh3QgAAQNVuKHdCAAAAO8Eod0IAAMCgEyl3QgAAgAZmKXdCAABAbLgpd0IAAADSCip3QgAAwDddKndCAACAna8qd0IAAEADAit3QgAAAGlUK3dCAADAzqYrd0IAAIA0+St3QgAAQJpLLHdCAAAAAJ4sd0IAAMBl8Cx3QgAAgMtCLXdCAABAMZUtd0IAAACX5y13QgAAwPw5LndCAACAYowud0IAAEDI3i53QgAAAC4xL3dCAADAk4Mvd0IAAID51S93QgAAQF8oMHdCAAAAxXowd0IAAMAqzTB3QgAAgJAfMXdCAABA9nExd0IAAABcxDF3QgAAwMEWMndCAACAJ2kyd0I=\",\"dtype\":\"float64\",\"shape\":[121]},\"y\":[56478.01575580371,24583.77912227274,30685.15420726601,46826.59514105012,53329.08700758159,74233.09149450295,87219.86131064052,73027.73630970358,67006.19850587512,69565.84133555055,82774.85701584803,106313.20310471767,142085.23578711355,148049.07947912067,131191.63677368296,121184.83023439659,118656.34219589637,121670.50390297288,126056.67364481365,132205.3849850846,135565.65392889993,134786.44427582872,134521.07871898808,137414.18231022937,142572.83155211608,148841.51245276246,156065.4311300869,161106.08989490973,163925.22306472965,166072.43933577856,170305.34587481103,178897.33718563078,188867.6174918845,203843.22026789814,217070.77896056394,220171.02106567955,221187.8991970876,221517.6819434537,226400.04684802738,232794.07793409855,240131.17995140795,239540.9564782476,229618.50293991837,223751.2540064661,228144.57847383892,235116.51091770307,246422.97525667073,258604.8376873686,258419.75722686347,245503.1550678486,237449.6359037941,233879.287510315,235005.1660143534,235865.82485456162,236741.21876605743,234328.48934527492,230784.96816347417,229640.7293637448,230957.63336201524,231844.9765356494,234049.12234075853,234143.16595075227,233105.14525010553,231137.02262891876,232627.96399807322,234613.10451786793,237387.01319176125,240659.94291903713,243220.109531155,241387.3543733829,238087.60921274056,237117.54579708472,238099.60329364086,239078.28305073266,239641.22938971192,239404.57727575154,238559.76789832977,237906.7451706942,239186.20839485523,239475.5318170175,241194.10367247046,242558.83770657255,243710.25947749708,242415.11928143125,239944.0382130659,239753.00938183177,239275.68860826138,238520.1239621138,239088.67886271284,239421.02457157438,238744.16568075586,238143.47814406638,238573.62316533597,240027.2726336548,244755.79838648348,249781.39043182303,257993.08893654347,270005.00186947174,269427.3286686133,282336.3842731011,468508.6632640779,282427970.1712575,283100.768556297,248328.73275159477,243703.9713623735,242547.56092989797,241519.47842861232]},\"selected\":{\"id\":\"30373\"},\"selection_policy\":{\"id\":\"30374\"}},\"id\":\"29897\",\"type\":\"ColumnDataSource\"},{\"attributes\":{\"axis\":{\"id\":\"29951\"},\"ticker\":null},\"id\":\"29954\",\"type\":\"Grid\"},{\"attributes\":{\"data\":{\"x\":{\"__ndarray__\":\"AACAdckLd0IAAEDbGwx3QgAAAEFuDHdCAADApsAMd0IAAIAMEw13QgAAQHJlDXdCAAAA2LcNd0IAAMA9Cg53QgAAgKNcDndCAABACa8Od0IAAABvAQ93QgAAwNRTD3dCAACAOqYPd0IAAECg+A93QgAAAAZLEHdCAADAa50Qd0IAAIDR7xB3QgAAQDdCEXdCAAAAnZQRd0IAAMAC5xF3QgAAgGg5EndCAABAzosSd0IAAAA03hJ3QgAAwJkwE3dCAACA/4ITd0IAAEBl1RN3QgAAAMsnFHdCAADAMHoUd0IAAICWzBR3QgAAQPweFXdCAAAAYnEVd0IAAMDHwxV3QgAAgC0WFndCAABAk2gWd0IAAAD5uhZ3QgAAwF4NF3dCAACAxF8Xd0IAAEAqshd3QgAAAJAEGHdCAADA9VYYd0IAAIBbqRh3QgAAQMH7GHdCAAAAJ04Zd0IAAMCMoBl3QgAAgPLyGXdCAABAWEUad0IAAAC+lxp3QgAAwCPqGndCAACAiTwbd0IAAEDvjht3QgAAAFXhG3dCAADAujMcd0IAAIAghhx3QgAAQIbYHHdCAAAA7Codd0IAAMBRfR13QgAAgLfPHXdCAABAHSIed0IAAACDdB53QgAAwOjGHndCAACAThkfd0IAAEC0ax93QgAAABq+H3dCAADAfxAgd0IAAIDlYiB3QgAAQEu1IHdCAAAAsQchd0IAAMAWWiF3QgAAgHysIXdCAABA4v4hd0IAAABIUSJ3QgAAwK2jIndCAACAE/Yid0IAAEB5SCN3QgAAAN+aI3dCAADARO0jd0IAAICqPyR3QgAAQBCSJHdCAAAAduQkd0IAAMDbNiV3QgAAgEGJJXdCAABAp9sld0IAAAANLiZ3QgAAwHKAJndCAACA2NImd0IAAEA+JSd3QgAAAKR3J3dCAADACcond0IAAIBvHCh3QgAAQNVuKHdCAAAAO8Eod0IAAMCgEyl3QgAAgAZmKXdCAABAbLgpd0IAAADSCip3QgAAwDddKndCAACAna8qd0IAAEADAit3QgAAAGlUK3dCAADAzqYrd0IAAIA0+St3QgAAQJpLLHdCAAAAAJ4sd0IAAMBl8Cx3QgAAgMtCLXdCAABAMZUtd0IAAACX5y13QgAAwPw5LndCAACAYowud0IAAEDI3i53QgAAAC4xL3dCAADAk4Mvd0IAAID51S93QgAAQF8oMHdCAAAAxXowd0IAAMAqzTB3QgAAgJAfMXdCAABA9nExd0IAAABcxDF3QgAAwMEWMndCAACAJ2kyd0I=\",\"dtype\":\"float64\",\"shape\":[121]},\"y\":[26043.971812504264,20083.65068870154,25346.57578244707,35909.927410801036,43429.585746361794,58548.634512215554,72043.32959441826,65292.379922870714,62259.10925696984,65702.27002649025,76414.71090505764,94089.36329658148,120778.67993465065,130954.72655944078,120254.2916543287,113798.26020111817,113065.6650033305,116759.29233017875,121303.01550289828,127183.23339298148,130826.6583664977,130925.33684044708,131239.3267746586,134307.8098762204,139584.7803108238,145926.20686201358,152714.74070510527,157155.71810705302,159868.73424532468,162159.56500686478,166315.33370699253,174693.54389703454,184332.1433135461,197127.0247149762,207486.39018731844,210455.5259249559,211834.02323968252,212651.00659756374,217293.11216168775,223008.48310470534,229203.54507558764,229354.22845462602,222661.04048149457,218856.3651044555,222411.86244789674,228406.18327514542,237900.6447509526,249867.68233946236,249950.62922143852,239463.15692017658,233354.40797609536,230718.28187242209,231857.44694227044,232686.76169800988,233491.2565138963,231727.2959375785,229148.91275978825,228075.7299354666,229435.26503357038,230242.86468680552,232273.54003200328,232389.88294607017,231536.7889378649,229972.91861047296,231147.71263178717,232820.84441989934,235119.1492175848,238093.97097544427,240336.7750460033,238951.55398166465,236274.8334302147,235574.59882545398,236427.4657798214,237254.86266556324,237699.97372949755,237603.60978277843,237140.43124634048,236625.1086934055,237941.4009965396,238182.0961276583,239505.31784651574,240430.9773494944,241222.97394732063,240442.14681670268,238653.36366763513,238467.556746346,238094.4241819498,237478.0452402145,237852.29005947305,238068.30859486942,237720.6573951382,237447.96693694105,237732.50457107008,238766.02205772407,241460.9874065534,243729.74513459334,243970.70530176538,236601.2603196699,238218.1290069433,223366.1500622401,-991051.550201562,-1751127691047.1892,185090.83234484354,241383.06152681328,241359.9201523969,241041.91130543762,240609.78554890782]},\"selected\":{\"id\":\"29913\"},\"selection_policy\":{\"id\":\"29914\"}},\"id\":\"29892\",\"type\":\"ColumnDataSource\"},{\"attributes\":{},\"id\":\"30290\",\"type\":\"Selection\"},{\"attributes\":{\"source\":{\"id\":\"30272\"}},\"id\":\"30276\",\"type\":\"CDSView\"},{\"attributes\":{\"axis\":{\"id\":\"29955\"},\"dimension\":1,\"ticker\":null},\"id\":\"29958\",\"type\":\"Grid\"},{\"attributes\":{\"data_source\":{\"id\":\"30272\"},\"glyph\":{\"id\":\"30273\"},\"hover_glyph\":null,\"muted_glyph\":null,\"nonselection_glyph\":{\"id\":\"30274\"},\"selection_glyph\":null,\"view\":{\"id\":\"30276\"}},\"id\":\"30275\",\"type\":\"GlyphRenderer\"},{\"attributes\":{\"days\":[1,2,3,4,5,6,7,8,9,10,11,12,13,14,15,16,17,18,19,20,21,22,23,24,25,26,27,28,29,30,31]},\"id\":\"29986\",\"type\":\"DaysTicker\"},{\"attributes\":{\"axis_label\":\"Total Deaths MAX\",\"formatter\":{\"id\":\"30075\"},\"minor_tick_in\":-5,\"minor_tick_out\":-3,\"ticker\":{\"id\":\"29956\"}},\"id\":\"29955\",\"type\":\"LinearAxis\"},{\"attributes\":{\"use_scientific\":false},\"id\":\"30279\",\"type\":\"BasicTickFormatter\"},{\"attributes\":{\"data_source\":{\"id\":\"29892\"},\"glyph\":{\"id\":\"29893\"},\"hover_glyph\":null,\"muted_glyph\":null,\"nonselection_glyph\":{\"id\":\"29894\"},\"selection_glyph\":null,\"view\":{\"id\":\"29896\"}},\"id\":\"29895\",\"type\":\"GlyphRenderer\"},{\"attributes\":{\"days\":[1,4,7,10,13,16,19,22,25,28]},\"id\":\"29987\",\"type\":\"DaysTicker\"},{\"attributes\":{\"data\":{\"x\":{\"__ndarray__\":\"AACAdckLd0IAAEDbGwx3QgAAAEFuDHdCAADApsAMd0IAAIAMEw13QgAAQHJlDXdCAAAA2LcNd0IAAMA9Cg53QgAAgKNcDndCAABACa8Od0IAAABvAQ93QgAAwNRTD3dCAACAOqYPd0IAAECg+A93QgAAAAZLEHdCAADAa50Qd0IAAIDR7xB3QgAAQDdCEXdCAAAAnZQRd0IAAMAC5xF3QgAAgGg5EndCAABAzosSd0IAAAA03hJ3QgAAwJkwE3dCAACA/4ITd0IAAEBl1RN3QgAAAMsnFHdCAADAMHoUd0IAAICWzBR3QgAAQPweFXdCAAAAYnEVd0IAAMDHwxV3QgAAgC0WFndCAABAk2gWd0IAAAD5uhZ3QgAAwF4NF3dCAACAxF8Xd0IAAEAqshd3QgAAAJAEGHdCAADA9VYYd0IAAIBbqRh3QgAAQMH7GHdCAAAAJ04Zd0IAAMCMoBl3QgAAgPLyGXdCAABAWEUad0IAAAC+lxp3QgAAwCPqGndCAACAiTwbd0IAAEDvjht3QgAAAFXhG3dCAADAujMcd0IAAIAghhx3QgAAQIbYHHdCAAAA7Codd0IAAMBRfR13QgAAgLfPHXdCAABAHSIed0IAAACDdB53QgAAwOjGHndCAACAThkfd0IAAEC0ax93QgAAABq+H3dCAADAfxAgd0IAAIDlYiB3QgAAQEu1IHdCAAAAsQchd0IAAMAWWiF3QgAAgHysIXdCAABA4v4hd0IAAABIUSJ3QgAAwK2jIndCAACAE/Yid0IAAEB5SCN3QgAAAN+aI3dCAADARO0jd0IAAICqPyR3QgAAQBCSJHdCAAAAduQkd0IAAMDbNiV3QgAAgEGJJXdCAABAp9sld0IAAAANLiZ3QgAAwHKAJndCAACA2NImd0IAAEA+JSd3QgAAAKR3J3dCAADACcond0IAAIBvHCh3QgAAQNVuKHdCAAAAO8Eod0IAAMCgEyl3QgAAgAZmKXdCAABAbLgpd0IAAADSCip3QgAAwDddKndCAACAna8qd0IAAEADAit3QgAAAGlUK3dCAADAzqYrd0IAAIA0+St3QgAAQJpLLHdCAAAAAJ4sd0IAAMBl8Cx3QgAAgMtCLXdCAABAMZUtd0IAAACX5y13QgAAwPw5LndCAACAYowud0IAAEDI3i53QgAAAC4xL3dCAADAk4Mvd0IAAID51S93QgAAQF8oMHdCAAAAxXowd0IAAMAqzTB3QgAAgJAfMXdCAABA9nExd0IAAABcxDF3QgAAwMEWMndCAACAJ2kyd0I=\",\"dtype\":\"float64\",\"shape\":[121]},\"y\":[15126.22446615273,37293.56878713092,10255.769525094602,3439.9947850040458,3313.02138001441,2586.9708812681347,3623.914396421633,4651.057813357563,5050.779275102898,6391.532847483163,6957.044682717751,9316.416481045784,16392.288644633736,18325.72183057608,15481.8602169969,15011.571872634177,14368.46451013765,13803.27480284032,15240.321155112646,16833.425582841955,17766.844805860437,18418.303397647738,19202.94700693323,19707.718158555377,20206.865611223024,20977.56483635313,21441.9983402785,21119.124956683583,20987.343321689383,21177.345281487564,21340.679060805727,21907.84574920276,22852.375149319574,24000.450754674242,24670.398551101458,25788.06617468369,27499.263941336943,29589.129636094258,31944.650815107852,34719.7955239108,35804.10722501527,34952.459517738986,34729.62212404043,34925.368544591445,34585.6136151191,34867.02623487922,34707.80181620491,34558.31623479004,32985.555725266684,32624.687210666816,32757.393168488044,32808.73787500851,32662.42135040724,32563.410691405064,33355.84622559353,33357.63326320049,33372.52576860454,33679.94610713555,34701.995373591984,36283.30564815349,37529.98221340563,37467.790160677294,35802.98738997665,35286.241239083516,34999.283818844946,34626.46899812836,34941.29261270131,36244.67104115673,38475.94906140051,36647.46149941817,35721.795333282644,36003.82725651222,37398.62451113495,37856.14209648177,37255.79045379563,36070.885495604736,34884.97876536398,34352.83354112061,34085.40384186729,34173.388266574286,34401.441657501426,34567.73595187179,34604.17348147893,34632.48991608872,34615.69536693465,34915.78475916209,35415.629904556576,36402.36412015375,37780.493295056986,38288.46654843085,36462.873042333624,36410.79878210264,36866.858692748596,38756.89686487875,38572.87429838713,39270.42643643237,43157.143008510655,38884.10441745088,36346.639872995744,35537.19011612215,35311.852491643986,35404.39330304099,35505.17618388665,35584.53969131409,35469.39632518595,35442.85384909087,35417.177872061584]},\"selected\":{\"id\":\"30013\"},\"selection_policy\":{\"id\":\"30014\"}},\"id\":\"29973\",\"type\":\"ColumnDataSource\"},{\"attributes\":{\"callback\":null,\"formatters\":{\"@x\":\"datetime\"},\"mode\":\"vline\",\"tooltips\":[[\"date\",\"@x{%d %B}\"],[\"new deaths/fitting\",\"@y{0[.]000}\"]]},\"id\":\"30281\",\"type\":\"HoverTool\"},{\"attributes\":{\"days\":[1,8,15,22]},\"id\":\"29988\",\"type\":\"DaysTicker\"},{\"attributes\":{\"fill_alpha\":{\"value\":0.1},\"fill_color\":{\"value\":\"white\"},\"line_alpha\":{\"value\":0.1},\"line_color\":{\"value\":\"lightblue\"},\"size\":{\"units\":\"screen\",\"value\":5},\"x\":{\"field\":\"x\"},\"y\":{\"field\":\"y\"}},\"id\":\"29894\",\"type\":\"Circle\"},{\"attributes\":{\"days\":[1,15]},\"id\":\"29989\",\"type\":\"DaysTicker\"},{\"attributes\":{\"line_alpha\":0.1,\"line_color\":\"lightcoral\",\"line_width\":4,\"x\":{\"field\":\"x\"},\"y\":{\"field\":\"y\"}},\"id\":\"29975\",\"type\":\"Line\"},{\"attributes\":{\"label\":{\"value\":\"total deaths max DOWN\"},\"renderers\":[{\"id\":\"30006\"}]},\"id\":\"30030\",\"type\":\"LegendItem\"},{\"attributes\":{\"months\":[0,1,2,3,4,5,6,7,8,9,10,11]},\"id\":\"29990\",\"type\":\"MonthsTicker\"},{\"attributes\":{\"source\":{\"id\":\"29897\"}},\"id\":\"29901\",\"type\":\"CDSView\"},{\"attributes\":{\"line_color\":\"lightcoral\",\"line_width\":4,\"x\":{\"field\":\"x\"},\"y\":{\"field\":\"y\"}},\"id\":\"29974\",\"type\":\"Line\"},{\"attributes\":{},\"id\":\"30315\",\"type\":\"Selection\"},{\"attributes\":{\"label\":{\"value\":\"total cases max\"},\"renderers\":[{\"id\":\"29900\"}]},\"id\":\"29928\",\"type\":\"LegendItem\"},{\"attributes\":{\"months\":[0,2,4,6,8,10]},\"id\":\"29991\",\"type\":\"MonthsTicker\"},{\"attributes\":{},\"id\":\"29959\",\"type\":\"PanTool\"},{\"attributes\":{\"line_alpha\":0.1,\"line_color\":\"blue\",\"line_width\":4,\"x\":{\"field\":\"x\"},\"y\":{\"field\":\"y\"}},\"id\":\"29899\",\"type\":\"Line\"},{\"attributes\":{\"months\":[0,4,8]},\"id\":\"29992\",\"type\":\"MonthsTicker\"},{\"attributes\":{},\"id\":\"29960\",\"type\":\"WheelZoomTool\"},{\"attributes\":{\"data_source\":{\"id\":\"29897\"},\"glyph\":{\"id\":\"29898\"},\"hover_glyph\":null,\"muted_glyph\":null,\"nonselection_glyph\":{\"id\":\"29899\"},\"selection_glyph\":null,\"view\":{\"id\":\"29901\"}},\"id\":\"29900\",\"type\":\"GlyphRenderer\"},{\"attributes\":{\"fill_color\":{\"value\":\"white\"},\"line_color\":{\"value\":\"lightcoral\"},\"size\":{\"units\":\"screen\",\"value\":5},\"x\":{\"field\":\"x\"},\"y\":{\"field\":\"y\"}},\"id\":\"29999\",\"type\":\"Circle\"},{\"attributes\":{\"overlay\":{\"id\":\"29965\"}},\"id\":\"29961\",\"type\":\"BoxZoomTool\"},{\"attributes\":{},\"id\":\"30373\",\"type\":\"Selection\"},{\"attributes\":{\"months\":[0,6]},\"id\":\"29993\",\"type\":\"MonthsTicker\"},{\"attributes\":{},\"id\":\"29994\",\"type\":\"YearsTicker\"},{\"attributes\":{\"axis_label\":\"Date\",\"formatter\":{\"id\":\"29554\"},\"major_label_orientation\":0.7853981633974483,\"minor_tick_in\":-5,\"minor_tick_out\":-3,\"ticker\":{\"id\":\"29470\"}},\"id\":\"29469\",\"type\":\"DatetimeAxis\"},{\"attributes\":{},\"id\":\"29808\",\"type\":\"LinearScale\"},{\"attributes\":{},\"id\":\"29810\",\"type\":\"LinearScale\"},{\"attributes\":{\"data_source\":{\"id\":\"29998\"},\"glyph\":{\"id\":\"29999\"},\"hover_glyph\":null,\"muted_glyph\":null,\"nonselection_glyph\":{\"id\":\"30000\"},\"selection_glyph\":null,\"view\":{\"id\":\"30002\"}},\"id\":\"30001\",\"type\":\"GlyphRenderer\"},{\"attributes\":{\"line_alpha\":0.1,\"line_color\":\"lightblue\",\"line_width\":4,\"x\":{\"field\":\"x\"},\"y\":{\"field\":\"y\"}},\"id\":\"30005\",\"type\":\"Line\"},{\"attributes\":{\"children\":[[{\"id\":\"29458\"},0,0],[{\"id\":\"29560\"},0,1],[{\"id\":\"29662\"},0,2],[{\"id\":\"29801\"},1,0],[{\"id\":\"29940\"},1,1],[{\"id\":\"30079\"},2,0],[{\"id\":\"30181\"},2,1]]},\"id\":\"30470\",\"type\":\"GridBox\"},{\"attributes\":{\"data_source\":{\"id\":\"30003\"},\"glyph\":{\"id\":\"30004\"},\"hover_glyph\":null,\"muted_glyph\":null,\"nonselection_glyph\":{\"id\":\"30005\"},\"selection_glyph\":null,\"view\":{\"id\":\"30007\"}},\"id\":\"30006\",\"type\":\"GlyphRenderer\"},{\"attributes\":{\"axis_label\":\"Date\",\"formatter\":{\"id\":\"29934\"},\"major_label_orientation\":0.7853981633974483,\"minor_tick_in\":-5,\"minor_tick_out\":-3,\"ticker\":{\"id\":\"29813\"}},\"id\":\"29812\",\"type\":\"DatetimeAxis\"},{\"attributes\":{\"line_color\":\"lightblue\",\"line_width\":4,\"x\":{\"field\":\"x\"},\"y\":{\"field\":\"y\"}},\"id\":\"30004\",\"type\":\"Line\"},{\"attributes\":{},\"id\":\"29817\",\"type\":\"BasicTicker\"},{\"attributes\":{\"source\":{\"id\":\"29998\"}},\"id\":\"30002\",\"type\":\"CDSView\"},{\"attributes\":{\"num_minor_ticks\":5,\"tickers\":[{\"id\":\"29844\"},{\"id\":\"29845\"},{\"id\":\"29846\"},{\"id\":\"29847\"},{\"id\":\"29848\"},{\"id\":\"29849\"},{\"id\":\"29850\"},{\"id\":\"29851\"},{\"id\":\"29852\"},{\"id\":\"29853\"},{\"id\":\"29854\"},{\"id\":\"29855\"}]},\"id\":\"29813\",\"type\":\"DatetimeTicker\"},{\"attributes\":{\"data\":{\"x\":{\"__ndarray__\":\"AACAdckLd0IAAEDbGwx3QgAAAEFuDHdCAADApsAMd0IAAIAMEw13QgAAQHJlDXdCAAAA2LcNd0IAAMA9Cg53QgAAgKNcDndCAABACa8Od0IAAABvAQ93QgAAwNRTD3dCAACAOqYPd0IAAECg+A93QgAAAAZLEHdCAADAa50Qd0IAAIDR7xB3QgAAQDdCEXdCAAAAnZQRd0IAAMAC5xF3QgAAgGg5EndCAABAzosSd0IAAAA03hJ3QgAAwJkwE3dCAACA/4ITd0IAAEBl1RN3QgAAAMsnFHdCAADAMHoUd0IAAICWzBR3QgAAQPweFXdCAAAAYnEVd0IAAMDHwxV3QgAAgC0WFndCAABAk2gWd0IAAAD5uhZ3QgAAwF4NF3dCAACAxF8Xd0IAAEAqshd3QgAAAJAEGHdCAADA9VYYd0IAAIBbqRh3QgAAQMH7GHdCAAAAJ04Zd0IAAMCMoBl3QgAAgPLyGXdCAABAWEUad0IAAAC+lxp3QgAAwCPqGndCAACAiTwbd0IAAEDvjht3QgAAAFXhG3dCAADAujMcd0IAAIAghhx3QgAAQIbYHHdCAAAA7Codd0IAAMBRfR13QgAAgLfPHXdCAABAHSIed0IAAACDdB53QgAAwOjGHndCAACAThkfd0IAAEC0ax93QgAAABq+H3dCAADAfxAgd0IAAIDlYiB3QgAAQEu1IHdCAAAAsQchd0IAAMAWWiF3QgAAgHysIXdCAABA4v4hd0IAAABIUSJ3QgAAwK2jIndCAACAE/Yid0IAAEB5SCN3QgAAAN+aI3dCAADARO0jd0IAAICqPyR3QgAAQBCSJHdCAAAAduQkd0IAAMDbNiV3QgAAgEGJJXdCAABAp9sld0IAAAANLiZ3QgAAwHKAJndCAACA2NImd0IAAEA+JSd3QgAAAKR3J3dCAADACcond0IAAIBvHCh3QgAAQNVuKHdCAAAAO8Eod0IAAMCgEyl3QgAAgAZmKXdCAABAbLgpd0IAAADSCip3QgAAwDddKndCAACAna8qd0IAAEADAit3QgAAAGlUK3dCAADAzqYrd0IAAIA0+St3QgAAQJpLLHdCAAAAAJ4sd0IAAMBl8Cx3QgAAgMtCLXdCAABAMZUtd0IAAACX5y13QgAAwPw5LndCAACAYowud0IAAEDI3i53QgAAAC4xL3dCAADAk4Mvd0IAAID51S93QgAAQF8oMHdCAAAAxXowd0IAAMAqzTB3QgAAgJAfMXdCAABA9nExd0IAAABcxDF3QgAAwMEWMndCAACAJ2kyd0I=\",\"dtype\":\"float64\",\"shape\":[121]},\"y\":[-4358.905247571917,-14120.39483407201,2256.4607062038435,2403.3214646692627,2677.7179869757547,2289.1290588801157,2937.738021134286,3692.5255086096886,4206.900361521503,5169.782328774242,5847.528051515605,7359.83744026194,10483.794725109718,13020.326598824908,12495.60809293336,12954.5662282337,12918.071523762248,12757.569789911426,13841.749697368303,15063.211781414504,16072.050994428171,16829.984794623924,17652.199686559252,18340.91557464026,18984.026812631688,20007.84147273864,20775.078401281302,20533.952589191504,20510.781672359968,20705.10551038068,20870.184330317235,21297.8896565542,22211.689601508995,23107.515588845436,23707.290488433628,24693.836758640104,26116.879865798055,27741.41241016965,29928.33287406333,32672.129564193732,33864.890144155164,33176.295737793465,33046.01842665461,33271.483690580484,33091.801842598885,33374.40946012584,33318.23687719721,33266.20463898991,32123.35521222736,31787.144294397185,31931.766272617366,31999.522092594023,31908.35960527839,31846.29588783603,32219.8292622328,32255.48143644971,32286.544241931435,32577.422411826105,33213.517512222345,34195.438815370755,34926.07149855916,34920.05302314661,34086.15606285582,33764.94994955339,33582.42901284254,33401.585839313135,33571.304069982936,34107.64377066333,35059.16383178488,34609.57714857876,34198.02208278279,34347.298843334764,35184.64684582351,35391.40670089574,35175.756852375336,34769.35214634862,34197.854430091844,33914.82419649875,33759.191225891605,33818.94729039943,34005.62892490571,34120.98333366906,34148.94755918091,34172.93902681585,34174.47726962965,34363.388993574226,34683.401957290196,35234.95841014156,35726.671401268766,35849.205536033915,35487.17764856074,35469.548419197636,35642.79244539742,36307.401363114615,36260.9728429865,36464.41685022582,37074.9718904153,36556.31813404007,35619.77939535001,35189.78972599494,35049.40211274665,35099.794423295294,35149.33962139541,35185.65971253865,35142.38556850144,35125.01839780668,35099.733098733384]},\"selected\":{\"id\":\"30050\"},\"selection_policy\":{\"id\":\"30051\"}},\"id\":\"30003\",\"type\":\"ColumnDataSource\"},{\"attributes\":{\"axis\":{\"id\":\"29812\"},\"ticker\":null},\"id\":\"29815\",\"type\":\"Grid\"},{\"attributes\":{\"fill_alpha\":{\"value\":0.1},\"fill_color\":{\"value\":\"white\"},\"line_alpha\":{\"value\":0.1},\"line_color\":{\"value\":\"lightcoral\"},\"size\":{\"units\":\"screen\",\"value\":5},\"x\":{\"field\":\"x\"},\"y\":{\"field\":\"y\"}},\"id\":\"30000\",\"type\":\"Circle\"},{\"attributes\":{\"axis\":{\"id\":\"29816\"},\"dimension\":1,\"ticker\":null},\"id\":\"29819\",\"type\":\"Grid\"},{\"attributes\":{\"axis_label\":\"Total Cases MAX\",\"formatter\":{\"id\":\"29936\"},\"minor_tick_in\":-5,\"minor_tick_out\":-3,\"ticker\":{\"id\":\"29817\"}},\"id\":\"29816\",\"type\":\"LinearAxis\"},{\"attributes\":{\"fill_color\":{\"value\":\"white\"},\"line_color\":{\"value\":\"lightblue\"},\"size\":{\"units\":\"screen\",\"value\":5},\"x\":{\"field\":\"x\"},\"y\":{\"field\":\"y\"}},\"id\":\"30032\",\"type\":\"Circle\"},{\"attributes\":{\"fill_color\":{\"value\":\"white\"},\"line_color\":{\"value\":\"blue\"},\"size\":{\"units\":\"screen\",\"value\":5},\"x\":{\"field\":\"x\"},\"y\":{\"field\":\"y\"}},\"id\":\"29721\",\"type\":\"Circle\"},{\"attributes\":{},\"id\":\"30013\",\"type\":\"Selection\"},{\"attributes\":{\"source\":{\"id\":\"30003\"}},\"id\":\"30007\",\"type\":\"CDSView\"},{\"attributes\":{\"fill_color\":{\"value\":\"white\"},\"line_color\":{\"value\":\"lightcoral\"},\"size\":{\"units\":\"screen\",\"value\":5},\"x\":{\"field\":\"x\"},\"y\":{\"field\":\"y\"}},\"id\":\"29860\",\"type\":\"Circle\"},{\"attributes\":{},\"id\":\"30403\",\"type\":\"UnionRenderers\"},{\"attributes\":{\"active_drag\":\"auto\",\"active_inspect\":\"auto\",\"active_multi\":null,\"active_scroll\":\"auto\",\"active_tap\":\"auto\",\"tools\":[{\"id\":\"29820\"},{\"id\":\"29821\"},{\"id\":\"29822\"},{\"id\":\"29823\"},{\"id\":\"29824\"},{\"id\":\"29825\"},{\"id\":\"29938\"}]},\"id\":\"29827\",\"type\":\"Toolbar\"},{\"attributes\":{\"data\":{\"x\":{\"__ndarray__\":\"AACAdckLd0IAAEDbGwx3QgAAAEFuDHdCAADApsAMd0IAAIAMEw13QgAAQHJlDXdCAAAA2LcNd0IAAMA9Cg53QgAAgKNcDndCAABACa8Od0IAAABvAQ93QgAAwNRTD3dCAACAOqYPd0IAAECg+A93QgAAAAZLEHdCAADAa50Qd0IAAIDR7xB3QgAAQDdCEXdCAAAAnZQRd0IAAMAC5xF3QgAAgGg5EndCAABAzosSd0IAAAA03hJ3QgAAwJkwE3dCAACA/4ITd0IAAEBl1RN3QgAAAMsnFHdCAADAMHoUd0IAAICWzBR3QgAAQPweFXdCAAAAYnEVd0IAAMDHwxV3QgAAgC0WFndCAABAk2gWd0IAAAD5uhZ3QgAAwF4NF3dCAACAxF8Xd0IAAEAqshd3QgAAAJAEGHdCAADA9VYYd0IAAIBbqRh3QgAAQMH7GHdCAAAAJ04Zd0IAAMCMoBl3QgAAgPLyGXdCAABAWEUad0IAAAC+lxp3QgAAwCPqGndCAACAiTwbd0IAAEDvjht3QgAAAFXhG3dCAADAujMcd0IAAIAghhx3QgAAQIbYHHdCAAAA7Codd0IAAMBRfR13QgAAgLfPHXdCAABAHSIed0IAAACDdB53QgAAwOjGHndCAACAThkfd0IAAEC0ax93QgAAABq+H3dCAADAfxAgd0IAAIDlYiB3QgAAQEu1IHdCAAAAsQchd0IAAMAWWiF3QgAAgHysIXdCAABA4v4hd0IAAABIUSJ3QgAAwK2jIndCAACAE/Yid0IAAEB5SCN3QgAAAN+aI3dCAADARO0jd0IAAICqPyR3QgAAQBCSJHdCAAAAduQkd0IAAMDbNiV3QgAAgEGJJXdCAABAp9sld0IAAAANLiZ3QgAAwHKAJndCAACA2NImd0IAAEA+JSd3QgAAAKR3J3dCAADACcond0IAAIBvHCh3QgAAQNVuKHdCAAAAO8Eod0IAAMCgEyl3QgAAgAZmKXdCAABAbLgpd0IAAADSCip3QgAAwDddKndCAACAna8qd0IAAEADAit3QgAAAGlUK3dCAADAzqYrd0IAAIA0+St3QgAAQJpLLHdCAAAAAJ4sd0IAAMBl8Cx3QgAAgMtCLXdCAABAMZUtd0IAAACX5y13QgAAwPw5LndCAACAYowud0IAAEDI3i53QgAAAC4xL3dCAADAk4Mvd0IAAID51S93QgAAQF8oMHdCAAAAxXowd0IAAMAqzTB3QgAAgJAfMXdCAABA9nExd0IAAABcxDF3QgAAwMEWMndCAACAJ2kyd0I=\",\"dtype\":\"float64\",\"shape\":[121]},\"y\":[86912.05969910315,29083.90755584394,36023.732632084946,57743.26287129921,63228.58826880139,89917.54847679034,102396.39302686279,80763.09269653645,71753.2877547804,73429.41264461084,89135.00312663842,118537.04291285387,163391.79163957646,165143.43239880056,142128.9818930372,128571.40026767501,124247.01938846224,126581.715475767,130810.33178672902,137227.5365771877,140304.64949130217,138647.55171121034,137802.83066331755,140520.55474423835,145560.88279340838,151756.81804351133,159416.1215550685,165056.46168276644,167981.71188413462,169985.31366469234,174295.35804262952,183101.13047422701,193403.0916702229,210559.41582082008,226655.16773380945,229886.5162064032,230541.77515449267,230384.35728934366,235506.98153436702,242579.67276349175,251058.81482722826,249727.68450186917,236575.96539834217,228646.1429084767,233877.2944997811,241826.83856026072,254945.30576238886,267341.9930352748,266888.88523228845,251543.1532155206,241544.8638314928,237040.29314820794,238152.88508643635,239044.88801111336,239991.18101821854,236929.68275297133,232421.0235671601,231205.72879202297,232480.0016904601,233447.08838449325,235824.7046495138,235896.44895543437,234673.50156234615,232301.12664736455,234108.21536435926,236405.36461583653,239654.87716593768,243225.91486263,246103.4440163067,243823.15476510115,239900.38499526642,238660.49276871546,239771.74080746033,240901.70343590208,241582.4850499263,241205.54476872465,239979.10455031905,239188.3816479829,240431.01579317087,240768.9675063767,242882.88949842518,244686.6980636507,246197.54500767353,244388.09174615983,241234.7127584967,241038.46201731754,240456.95303457294,239562.20268401311,240325.06766595264,240773.74054827934,239767.67396637352,238838.9893511917,239414.74175960186,241288.52320958552,248050.60936641356,255833.03572905273,272015.4725713216,303408.7434192736,300636.5283302833,341306.61848396214,1928068.8767297177,1751692546987.5315,381110.70476775046,255274.40397637626,246048.0225723501,244053.21055435832,242429.1713083168]},\"selected\":{\"id\":\"29874\"},\"selection_policy\":{\"id\":\"29875\"}},\"id\":\"29834\",\"type\":\"ColumnDataSource\"},{\"attributes\":{\"data_source\":{\"id\":\"29834\"},\"glyph\":{\"id\":\"29835\"},\"hover_glyph\":null,\"muted_glyph\":null,\"nonselection_glyph\":{\"id\":\"29836\"},\"selection_glyph\":null,\"view\":{\"id\":\"29838\"}},\"id\":\"29837\",\"type\":\"GlyphRenderer\"},{\"attributes\":{},\"id\":\"29820\",\"type\":\"PanTool\"},{\"attributes\":{},\"id\":\"30014\",\"type\":\"UnionRenderers\"},{\"attributes\":{},\"id\":\"29821\",\"type\":\"WheelZoomTool\"},{\"attributes\":{\"fill_alpha\":{\"value\":0.1},\"fill_color\":{\"value\":\"white\"},\"line_alpha\":{\"value\":0.1},\"line_color\":{\"value\":\"green\"},\"size\":{\"units\":\"screen\",\"value\":5},\"x\":{\"field\":\"x\"},\"y\":{\"field\":\"y\"}},\"id\":\"29653\",\"type\":\"Circle\"},{\"attributes\":{},\"id\":\"30015\",\"type\":\"Selection\"},{\"attributes\":{},\"id\":\"30404\",\"type\":\"Selection\"},{\"attributes\":{\"overlay\":{\"id\":\"29826\"}},\"id\":\"29822\",\"type\":\"BoxZoomTool\"},{\"attributes\":{},\"id\":\"30016\",\"type\":\"UnionRenderers\"},{\"attributes\":{},\"id\":\"30405\",\"type\":\"UnionRenderers\"},{\"attributes\":{},\"id\":\"29823\",\"type\":\"SaveTool\"},{\"attributes\":{\"data\":{\"x\":{\"__ndarray__\":\"AACAdckLd0IAAEDbGwx3QgAAAEFuDHdCAADApsAMd0IAAIAMEw13QgAAQHJlDXdCAAAA2LcNd0IAAMA9Cg53QgAAgKNcDndCAABACa8Od0IAAABvAQ93QgAAwNRTD3dCAACAOqYPd0IAAECg+A93QgAAAAZLEHdCAADAa50Qd0IAAIDR7xB3QgAAQDdCEXdCAAAAnZQRd0IAAMAC5xF3QgAAgGg5EndCAABAzosSd0IAAAA03hJ3QgAAwJkwE3dCAACA/4ITd0IAAEBl1RN3QgAAAMsnFHdCAADAMHoUd0IAAICWzBR3QgAAQPweFXdCAAAAYnEVd0IAAMDHwxV3QgAAgC0WFndCAABAk2gWd0IAAAD5uhZ3QgAAwF4NF3dCAACAxF8Xd0IAAEAqshd3QgAAAJAEGHdCAADA9VYYd0IAAIBbqRh3QgAAQMH7GHdCAAAAJ04Zd0IAAMCMoBl3QgAAgPLyGXdCAABAWEUad0IAAAC+lxp3QgAAwCPqGndCAACAiTwbd0IAAEDvjht3QgAAAFXhG3dCAADAujMcd0IAAIAghhx3QgAAQIbYHHdCAAAA7Codd0IAAMBRfR13QgAAgLfPHXdCAABAHSIed0IAAACDdB53QgAAwOjGHndCAACAThkfd0IAAEC0ax93QgAAABq+H3dCAADAfxAgd0IAAIDlYiB3QgAAQEu1IHdCAAAAsQchd0IAAMAWWiF3QgAAgHysIXdCAABA4v4hd0IAAABIUSJ3QgAAwK2jIndCAACAE/Yid0IAAEB5SCN3QgAAAN+aI3dCAADARO0jd0IAAICqPyR3QgAAQBCSJHdCAAAAduQkd0IAAMDbNiV3QgAAgEGJJXdCAABAp9sld0IAAAANLiZ3QgAAwHKAJndCAACA2NImd0IAAEA+JSd3QgAAAKR3J3dCAADACcond0IAAIBvHCh3QgAAQNVuKHdCAAAAO8Eod0IAAMCgEyl3QgAAgAZmKXdCAABAbLgpd0IAAADSCip3QgAAwDddKndCAACAna8qd0IAAEADAit3QgAAAGlUK3dCAADAzqYrd0IAAIA0+St3QgAAQJpLLHdCAAAAAJ4sd0IAAMBl8Cx3QgAAgMtCLXdCAABAMZUtd0IAAACX5y13QgAAwPw5LndCAACAYowud0IAAEDI3i53QgAAAC4xL3dCAADAk4Mvd0IAAID51S93QgAAQF8oMHdCAAAAxXowd0IAAMAqzTB3QgAAgJAfMXdCAABA9nExd0IAAABcxDF3QgAAwMEWMndCAACAJ2kyd0I=\",\"dtype\":\"float64\",\"shape\":[121]},\"y\":[5383.6596092904065,11586.586976529454,6256.115115649222,2921.658124836654,2995.3696834950824,2438.049970074125,3280.8262087779594,4171.791660983626,4628.839818312201,5780.657588128703,6402.286367116678,8338.126960653863,13438.041684871727,15673.024214700494,13988.73415496513,13983.069050433938,13643.268016949949,13280.422296375873,14541.035426240474,15948.31868212823,16919.447900144303,17624.14409613583,18427.57334674624,19024.31686659782,19595.446211927356,20492.703154545885,21108.5383707799,20826.538772937543,20749.062497024675,20941.22539593412,21105.43169556148,21602.86770287848,22532.032375414285,23553.98317175984,24188.844519767543,25240.951466661896,26808.0719035675,28665.271023131954,30936.49184458559,33695.962544052265,34834.49868458522,34064.377627766225,33887.82027534752,34098.426117585965,33838.70772885899,34120.71784750253,34013.01934670106,33912.26043688998,32554.455468747023,32205.915752532,32344.579720552705,32404.129983801267,32285.390477842815,32204.853289620547,32787.837743913165,32806.5573498251,32829.535005267986,33128.684259480826,33957.756442907164,35239.37223176212,36228.026855982396,36193.92159191195,34944.57172641624,34525.59559431845,34290.856415843744,34014.02741872075,34256.298341342124,35176.15740591003,36767.556446592695,35628.519323998466,34959.908708032715,35175.56304992349,36291.63567847923,36623.77439868876,36215.77365308548,35420.11882097668,34541.41659772791,34133.82886880968,33922.29753387945,33996.16777848686,34203.53529120357,34344.359642770425,34376.56052032992,34402.71447145229,34395.08631828215,34639.58687636816,35049.515930923386,35818.66126514765,36753.582348162876,37068.83604223238,35975.02534544718,35940.17360065014,36254.82556907301,37532.14911399668,37416.92357068681,37867.42164332909,40116.05744946298,37720.211275745474,35983.209634172876,35363.48992105854,35180.62730219532,35252.09386316814,35327.25790264103,35385.09970192637,35305.8909468437,35283.93612344877,35258.455485397484]},\"selected\":{\"id\":\"30404\"},\"selection_policy\":{\"id\":\"30405\"}},\"id\":\"30068\",\"type\":\"ColumnDataSource\"},{\"attributes\":{},\"id\":\"29824\",\"type\":\"ResetTool\"},{\"attributes\":{\"data_source\":{\"id\":\"30031\"},\"glyph\":{\"id\":\"30032\"},\"hover_glyph\":null,\"muted_glyph\":null,\"nonselection_glyph\":{\"id\":\"30033\"},\"selection_glyph\":null,\"view\":{\"id\":\"30035\"}},\"id\":\"30034\",\"type\":\"GlyphRenderer\"},{\"attributes\":{},\"id\":\"29825\",\"type\":\"HelpTool\"},{\"attributes\":{\"line_alpha\":0.1,\"line_color\":\"darkviolet\",\"line_width\":4,\"x\":{\"field\":\"x\"},\"y\":{\"field\":\"y\"}},\"id\":\"30038\",\"type\":\"Line\"},{\"attributes\":{\"data\":{\"x\":{\"__ndarray__\":\"AACAdckLd0IAAEDbGwx3QgAAAEFuDHdCAADApsAMd0IAAIAMEw13QgAAQHJlDXdCAAAA2LcNd0IAAMA9Cg53QgAAgKNcDndCAABACa8Od0IAAABvAQ93QgAAwNRTD3dCAACAOqYPd0IAAECg+A93QgAAAAZLEHdCAADAa50Qd0IAAIDR7xB3QgAAQDdCEXdCAAAAnZQRd0IAAMAC5xF3QgAAgGg5EndCAABAzosSd0IAAAA03hJ3QgAAwJkwE3dCAACA/4ITd0IAAEBl1RN3QgAAAMsnFHdCAADAMHoUd0IAAICWzBR3QgAAQPweFXdCAAAAYnEVd0IAAMDHwxV3QgAAgC0WFndCAABAk2gWd0IAAAD5uhZ3QgAAwF4NF3dCAACAxF8Xd0IAAEAqshd3QgAAAJAEGHdCAADA9VYYd0IAAIBbqRh3QgAAQMH7GHdCAAAAJ04Zd0IAAMCMoBl3QgAAgPLyGXdCAABAWEUad0IAAAC+lxp3QgAAwCPqGndCAACAiTwbd0IAAEDvjht3QgAAAFXhG3dCAADAujMcd0IAAIAghhx3QgAAQIbYHHdCAAAA7Codd0IAAMBRfR13QgAAgLfPHXdCAABAHSIed0IAAACDdB53QgAAwOjGHndCAACAThkfd0IAAEC0ax93QgAAABq+H3dCAADAfxAgd0IAAIDlYiB3QgAAQEu1IHdCAAAAsQchd0IAAMAWWiF3QgAAgHysIXdCAABA4v4hd0IAAABIUSJ3QgAAwK2jIndCAACAE/Yid0IAAEB5SCN3QgAAAN+aI3dCAADARO0jd0IAAICqPyR3QgAAQBCSJHdCAAAAduQkd0IAAMDbNiV3QgAAgEGJJXdCAABAp9sld0IAAAANLiZ3QgAAwHKAJndCAACA2NImd0IAAEA+JSd3QgAAAKR3J3dCAADACcond0IAAIBvHCh3QgAAQNVuKHdCAAAAO8Eod0IAAMCgEyl3QgAAgAZmKXdCAABAbLgpd0IAAADSCip3QgAAwDddKndCAACAna8qd0IAAEADAit3QgAAAGlUK3dCAADAzqYrd0IAAIA0+St3QgAAQJpLLHdCAAAAAJ4sd0IAAMBl8Cx3QgAAgMtCLXdCAABAMZUtd0IAAACX5y13QgAAwPw5LndCAACAYowud0IAAEDI3i53QgAAAC4xL3dCAADAk4Mvd0IAAID51S93QgAAQF8oMHdCAAAAxXowd0IAAMAqzTB3QgAAgJAfMXdCAABA9nExd0IAAABcxDF3QgAAwMEWMndCAACAJ2kyd0I=\",\"dtype\":\"float64\",\"shape\":[121]},\"y\":[-4358.905247571917,-14120.39483407201,2256.4607062038435,2403.3214646692627,2677.7179869757547,2289.1290588801157,2937.738021134286,3692.5255086096886,4206.900361521503,5169.782328774242,5847.528051515605,7359.83744026194,10483.794725109718,13020.326598824908,12495.60809293336,12954.5662282337,12918.071523762248,12757.569789911426,13841.749697368303,15063.211781414504,16072.050994428171,16829.984794623924,17652.199686559252,18340.91557464026,18984.026812631688,20007.84147273864,20775.078401281302,20533.952589191504,20510.781672359968,20705.10551038068,20870.184330317235,21297.8896565542,22211.689601508995,23107.515588845436,23707.290488433628,24693.836758640104,26116.879865798055,27741.41241016965,29928.33287406333,32672.129564193732,33864.890144155164,33176.295737793465,33046.01842665461,33271.483690580484,33091.801842598885,33374.40946012584,33318.23687719721,33266.20463898991,32123.35521222736,31787.144294397185,31931.766272617366,31999.522092594023,31908.35960527839,31846.29588783603,32219.8292622328,32255.48143644971,32286.544241931435,32577.422411826105,33213.517512222345,34195.438815370755,34926.07149855916,34920.05302314661,34086.15606285582,33764.94994955339,33582.42901284254,33401.585839313135,33571.304069982936,34107.64377066333,35059.16383178488,34609.57714857876,34198.02208278279,34347.298843334764,35184.64684582351,35391.40670089574,35175.756852375336,34769.35214634862,34197.854430091844,33914.82419649875,33759.191225891605,33818.94729039943,34005.62892490571,34120.98333366906,34148.94755918091,34172.93902681585,34174.47726962965,34363.388993574226,34683.401957290196,35234.95841014156,35726.671401268766,35849.205536033915,35487.17764856074,35469.548419197636,35642.79244539742,36307.401363114615,36260.9728429865,36464.41685022582,37074.9718904153,36556.31813404007,35619.77939535001,35189.78972599494,35049.40211274665,35099.794423295294,35149.33962139541,35185.65971253865,35142.38556850144,35125.01839780668,35099.733098733384]},\"selected\":{\"id\":\"30052\"},\"selection_policy\":{\"id\":\"30053\"}},\"id\":\"30031\",\"type\":\"ColumnDataSource\"},{\"attributes\":{\"data_source\":{\"id\":\"29864\"},\"glyph\":{\"id\":\"29865\"},\"hover_glyph\":null,\"muted_glyph\":null,\"nonselection_glyph\":{\"id\":\"29866\"},\"selection_glyph\":null,\"view\":{\"id\":\"29868\"}},\"id\":\"29867\",\"type\":\"GlyphRenderer\"},{\"attributes\":{\"line_color\":\"darkviolet\",\"line_width\":4,\"x\":{\"field\":\"x\"},\"y\":{\"field\":\"y\"}},\"id\":\"30037\",\"type\":\"Line\"},{\"attributes\":{\"data_source\":{\"id\":\"29859\"},\"glyph\":{\"id\":\"29860\"},\"hover_glyph\":null,\"muted_glyph\":null,\"nonselection_glyph\":{\"id\":\"29861\"},\"selection_glyph\":null,\"view\":{\"id\":\"29863\"}},\"id\":\"29862\",\"type\":\"GlyphRenderer\"},{\"attributes\":{\"source\":{\"id\":\"30031\"}},\"id\":\"30035\",\"type\":\"CDSView\"},{\"attributes\":{\"data\":{\"x\":{\"__ndarray__\":\"AACAdckLd0IAAEDbGwx3QgAAAEFuDHdCAADApsAMd0IAAIAMEw13QgAAQHJlDXdCAAAA2LcNd0IAAMA9Cg53QgAAgKNcDndCAABACa8Od0IAAABvAQ93QgAAwNRTD3dCAACAOqYPd0IAAECg+A93QgAAAAZLEHdCAADAa50Qd0IAAIDR7xB3QgAAQDdCEXdCAAAAnZQRd0IAAMAC5xF3QgAAgGg5EndCAABAzosSd0IAAAA03hJ3QgAAwJkwE3dCAACA/4ITd0IAAEBl1RN3QgAAAMsnFHdCAADAMHoUd0IAAICWzBR3QgAAQPweFXdCAAAAYnEVd0IAAMDHwxV3QgAAgC0WFndCAABAk2gWd0IAAAD5uhZ3QgAAwF4NF3dCAACAxF8Xd0IAAEAqshd3QgAAAJAEGHdCAADA9VYYd0IAAIBbqRh3QgAAQMH7GHdCAAAAJ04Zd0IAAMCMoBl3QgAAgPLyGXdCAABAWEUad0IAAAC+lxp3QgAAwCPqGndCAACAiTwbd0IAAEDvjht3QgAAAFXhG3dCAADAujMcd0IAAIAghhx3QgAAQIbYHHdCAAAA7Codd0IAAMBRfR13QgAAgLfPHXdCAABAHSIed0IAAACDdB53QgAAwOjGHndCAACAThkfd0IAAEC0ax93QgAAABq+H3dCAADAfxAgd0IAAIDlYiB3QgAAQEu1IHdCAAAAsQchd0IAAMAWWiF3QgAAgHysIXdCAABA4v4hd0IAAABIUSJ3QgAAwK2jIndCAACAE/Yid0IAAEB5SCN3QgAAAN+aI3dCAADARO0jd0IAAICqPyR3QgAAQBCSJHdCAAAAduQkd0IAAMDbNiV3QgAAgEGJJXdCAABAp9sld0IAAAANLiZ3QgAAwHKAJndCAACA2NImd0IAAEA+JSd3QgAAAKR3J3dCAADACcond0IAAIBvHCh3QgAAQNVuKHdCAAAAO8Eod0IAAMCgEyl3QgAAgAZmKXdCAABAbLgpd0IAAADSCip3QgAAwDddKndCAACAna8qd0IAAEADAit3QgAAAGlUK3dCAADAzqYrd0IAAIA0+St3QgAAQJpLLHdCAAAAAJ4sd0IAAMBl8Cx3QgAAgMtCLXdCAABAMZUtd0IAAACX5y13QgAAwPw5LndCAACAYowud0IAAEDI3i53QgAAAC4xL3dCAADAk4Mvd0IAAID51S93QgAAQF8oMHdCAAAAxXowd0IAAMAqzTB3QgAAgJAfMXdCAABA9nExd0IAAABcxDF3QgAAwMEWMndCAACAJ2kyd0I=\",\"dtype\":\"float64\",\"shape\":[121]},\"y\":[5383.6596092904065,11586.586976529454,6256.115115649222,2921.658124836654,2995.3696834950824,2438.049970074125,3280.8262087779594,4171.791660983626,4628.839818312201,5780.657588128703,6402.286367116678,8338.126960653863,13438.041684871727,15673.024214700494,13988.73415496513,13983.069050433938,13643.268016949949,13280.422296375873,14541.035426240474,15948.31868212823,16919.447900144303,17624.14409613583,18427.57334674624,19024.31686659782,19595.446211927356,20492.703154545885,21108.5383707799,20826.538772937543,20749.062497024675,20941.22539593412,21105.43169556148,21602.86770287848,22532.032375414285,23553.98317175984,24188.844519767543,25240.951466661896,26808.0719035675,28665.271023131954,30936.49184458559,33695.962544052265,34834.49868458522,34064.377627766225,33887.82027534752,34098.426117585965,33838.70772885899,34120.71784750253,34013.01934670106,33912.26043688998,32554.455468747023,32205.915752532,32344.579720552705,32404.129983801267,32285.390477842815,32204.853289620547,32787.837743913165,32806.5573498251,32829.535005267986,33128.684259480826,33957.756442907164,35239.37223176212,36228.026855982396,36193.92159191195,34944.57172641624,34525.59559431845,34290.856415843744,34014.02741872075,34256.298341342124,35176.15740591003,36767.556446592695,35628.519323998466,34959.908708032715,35175.56304992349,36291.63567847923,36623.77439868876,36215.77365308548,35420.11882097668,34541.41659772791,34133.82886880968,33922.29753387945,33996.16777848686,34203.53529120357,34344.359642770425,34376.56052032992,34402.71447145229,34395.08631828215,34639.58687636816,35049.515930923386,35818.66126514765,36753.582348162876,37068.83604223238,35975.02534544718,35940.17360065014,36254.82556907301,37532.14911399668,37416.92357068681,37867.42164332909,40116.05744946298,37720.211275745474,35983.209634172876,35363.48992105854,35180.62730219532,35252.09386316814,35327.25790264103,35385.09970192637,35305.8909468437,35283.93612344877,35258.455485397484]},\"selected\":{\"id\":\"30402\"},\"selection_policy\":{\"id\":\"30403\"}},\"id\":\"30036\",\"type\":\"ColumnDataSource\"},{\"attributes\":{\"source\":{\"id\":\"29859\"}},\"id\":\"29863\",\"type\":\"CDSView\"},{\"attributes\":{\"fill_alpha\":{\"value\":0.1},\"fill_color\":{\"value\":\"white\"},\"line_alpha\":{\"value\":0.1},\"line_color\":{\"value\":\"lightblue\"},\"size\":{\"units\":\"screen\",\"value\":5},\"x\":{\"field\":\"x\"},\"y\":{\"field\":\"y\"}},\"id\":\"30033\",\"type\":\"Circle\"},{\"attributes\":{\"data_source\":{\"id\":\"30036\"},\"glyph\":{\"id\":\"30037\"},\"hover_glyph\":null,\"muted_glyph\":null,\"nonselection_glyph\":{\"id\":\"30038\"},\"selection_glyph\":null,\"view\":{\"id\":\"30040\"}},\"id\":\"30039\",\"type\":\"GlyphRenderer\"},{\"attributes\":{\"fill_alpha\":{\"value\":0.1},\"fill_color\":{\"value\":\"white\"},\"line_alpha\":{\"value\":0.1},\"line_color\":{\"value\":\"lightcoral\"},\"size\":{\"units\":\"screen\",\"value\":5},\"x\":{\"field\":\"x\"},\"y\":{\"field\":\"y\"}},\"id\":\"29861\",\"type\":\"Circle\"},{\"attributes\":{\"toolbar\":{\"id\":\"30471\"},\"toolbar_location\":\"above\"},\"id\":\"30472\",\"type\":\"ToolbarBox\"},{\"attributes\":{\"line_color\":\"lightblue\",\"line_width\":4,\"x\":{\"field\":\"x\"},\"y\":{\"field\":\"y\"}},\"id\":\"29865\",\"type\":\"Line\"},{\"attributes\":{\"data\":{\"x\":{\"__ndarray__\":\"AACAdckLd0IAAEDbGwx3QgAAAEFuDHdCAADApsAMd0IAAIAMEw13QgAAQHJlDXdCAAAA2LcNd0IAAMA9Cg53QgAAgKNcDndCAABACa8Od0IAAABvAQ93QgAAwNRTD3dCAACAOqYPd0IAAECg+A93QgAAAAZLEHdCAADAa50Qd0IAAIDR7xB3QgAAQDdCEXdCAAAAnZQRd0IAAMAC5xF3QgAAgGg5EndCAABAzosSd0IAAAA03hJ3QgAAwJkwE3dCAACA/4ITd0IAAEBl1RN3QgAAAMsnFHdCAADAMHoUd0IAAICWzBR3QgAAQPweFXdCAAAAYnEVd0IAAMDHwxV3QgAAgC0WFndCAABAk2gWd0IAAAD5uhZ3QgAAwF4NF3dCAACAxF8Xd0IAAEAqshd3QgAAAJAEGHdCAADA9VYYd0IAAIBbqRh3QgAAQMH7GHdCAAAAJ04Zd0IAAMCMoBl3QgAAgPLyGXdCAABAWEUad0IAAAC+lxp3QgAAwCPqGndCAACAiTwbd0IAAEDvjht3QgAAAFXhG3dCAADAujMcd0IAAIAghhx3QgAAQIbYHHdCAAAA7Codd0IAAMBRfR13QgAAgLfPHXdCAABAHSIed0IAAACDdB53QgAAwOjGHndCAACAThkfd0IAAEC0ax93QgAAABq+H3dCAADAfxAgd0IAAIDlYiB3QgAAQEu1IHdCAAAAsQchd0IAAMAWWiF3QgAAgHysIXdCAABA4v4hd0IAAABIUSJ3QgAAwK2jIndCAACAE/Yid0IAAEB5SCN3QgAAAN+aI3dCAADARO0jd0IAAICqPyR3QgAAQBCSJHdCAAAAduQkd0IAAMDbNiV3QgAAgEGJJXdCAABAp9sld0IAAAANLiZ3QgAAwHKAJndCAACA2NImd0IAAEA+JSd3QgAAAKR3J3dCAADACcond0IAAIBvHCh3QgAAQNVuKHdCAAAAO8Eod0IAAMCgEyl3QgAAgAZmKXdCAABAbLgpd0IAAADSCip3QgAAwDddKndCAACAna8qd0IAAEADAit3QgAAAGlUK3dCAADAzqYrd0IAAIA0+St3QgAAQJpLLHdCAAAAAJ4sd0IAAMBl8Cx3QgAAgMtCLXdCAABAMZUtd0IAAACX5y13QgAAwPw5LndCAACAYowud0IAAEDI3i53QgAAAC4xL3dCAADAk4Mvd0IAAID51S93QgAAQF8oMHdCAAAAxXowd0IAAMAqzTB3QgAAgJAfMXdCAABA9nExd0IAAABcxDF3QgAAwMEWMndCAACAJ2kyd0I=\",\"dtype\":\"float64\",\"shape\":[121]},\"y\":[26043.971812504264,20083.65068870154,25346.57578244707,35909.927410801036,43429.585746361794,58548.634512215554,72043.32959441826,65292.379922870714,62259.10925696984,65702.27002649025,76414.71090505764,94089.36329658148,120778.67993465065,130954.72655944078,120254.2916543287,113798.26020111817,113065.6650033305,116759.29233017875,121303.01550289828,127183.23339298148,130826.6583664977,130925.33684044708,131239.3267746586,134307.8098762204,139584.7803108238,145926.20686201358,152714.74070510527,157155.71810705302,159868.73424532468,162159.56500686478,166315.33370699253,174693.54389703454,184332.1433135461,197127.0247149762,207486.39018731844,210455.5259249559,211834.02323968252,212651.00659756374,217293.11216168775,223008.48310470534,229203.54507558764,229354.22845462602,222661.04048149457,218856.3651044555,222411.86244789674,228406.18327514542,237900.6447509526,249867.68233946236,249950.62922143852,239463.15692017658,233354.40797609536,230718.28187242209,231857.44694227044,232686.76169800988,233491.2565138963,231727.2959375785,229148.91275978825,228075.7299354666,229435.26503357038,230242.86468680552,232273.54003200328,232389.88294607017,231536.7889378649,229972.91861047296,231147.71263178717,232820.84441989934,235119.1492175848,238093.97097544427,240336.7750460033,238951.55398166465,236274.8334302147,235574.59882545398,236427.4657798214,237254.86266556324,237699.97372949755,237603.60978277843,237140.43124634048,236625.1086934055,237941.4009965396,238182.0961276583,239505.31784651574,240430.9773494944,241222.97394732063,240442.14681670268,238653.36366763513,238467.556746346,238094.4241819498,237478.0452402145,237852.29005947305,238068.30859486942,237720.6573951382,237447.96693694105,237732.50457107008,238766.02205772407,241460.9874065534,243729.74513459334,243970.70530176538,236601.2603196699,238218.1290069433,223366.1500622401,-991051.550201562,-1751127691047.1892,185090.83234484354,241383.06152681328,241359.9201523969,241041.91130543762,240609.78554890782]},\"selected\":{\"id\":\"29911\"},\"selection_policy\":{\"id\":\"29912\"}},\"id\":\"29864\",\"type\":\"ColumnDataSource\"},{\"attributes\":{\"source\":{\"id\":\"30036\"}},\"id\":\"30040\",\"type\":\"CDSView\"},{\"attributes\":{},\"id\":\"30050\",\"type\":\"Selection\"},{\"attributes\":{\"line_color\":\"blue\",\"line_width\":4,\"x\":{\"field\":\"x\"},\"y\":{\"field\":\"y\"}},\"id\":\"29898\",\"type\":\"Line\"},{\"attributes\":{\"bottom_units\":\"screen\",\"fill_alpha\":0.5,\"fill_color\":\"lightgrey\",\"left_units\":\"screen\",\"level\":\"overlay\",\"line_alpha\":1.0,\"line_color\":\"black\",\"line_dash\":[4,4],\"line_width\":2,\"render_mode\":\"css\",\"right_units\":\"screen\",\"top_units\":\"screen\"},\"id\":\"29826\",\"type\":\"BoxAnnotation\"},{\"attributes\":{\"label\":{\"value\":\"total deaths max\"},\"renderers\":[{\"id\":\"30039\"}]},\"id\":\"30067\",\"type\":\"LegendItem\"},{\"attributes\":{},\"id\":\"30402\",\"type\":\"Selection\"},{\"attributes\":{\"line_alpha\":0.1,\"line_color\":\"blue\",\"line_width\":4,\"x\":{\"field\":\"x\"},\"y\":{\"field\":\"y\"}},\"id\":\"29493\",\"type\":\"Line\"},{\"attributes\":{},\"id\":\"30052\",\"type\":\"Selection\"},{\"attributes\":{\"line_alpha\":0.1,\"line_color\":\"lightblue\",\"line_width\":4,\"x\":{\"field\":\"x\"},\"y\":{\"field\":\"y\"}},\"id\":\"29866\",\"type\":\"Line\"},{\"attributes\":{\"source\":{\"id\":\"29834\"}},\"id\":\"29838\",\"type\":\"CDSView\"},{\"attributes\":{\"line_alpha\":0.1,\"line_color\":\"lightcoral\",\"line_width\":4,\"x\":{\"field\":\"x\"},\"y\":{\"field\":\"y\"}},\"id\":\"29836\",\"type\":\"Line\"},{\"attributes\":{},\"id\":\"30051\",\"type\":\"UnionRenderers\"},{\"attributes\":{},\"id\":\"30053\",\"type\":\"UnionRenderers\"},{\"attributes\":{\"mantissas\":[1,2,5],\"max_interval\":500.0,\"num_minor_ticks\":0},\"id\":\"29844\",\"type\":\"AdaptiveTicker\"},{\"attributes\":{\"items\":[{\"id\":\"29858\"},{\"id\":\"29891\"},{\"id\":\"29928\"}],\"location\":\"bottom_right\"},\"id\":\"29857\",\"type\":\"Legend\"},{\"attributes\":{\"fill_color\":{\"value\":\"white\"},\"line_color\":{\"value\":\"darkviolet\"},\"size\":{\"units\":\"screen\",\"value\":5},\"x\":{\"field\":\"x\"},\"y\":{\"field\":\"y\"}},\"id\":\"30069\",\"type\":\"Circle\"},{\"attributes\":{},\"id\":\"30427\",\"type\":\"Selection\"},{\"attributes\":{\"mantissas\":[1,2,5],\"max_interval\":500.0,\"num_minor_ticks\":0},\"id\":\"29501\",\"type\":\"AdaptiveTicker\"},{\"attributes\":{},\"id\":\"30155\",\"type\":\"UnionRenderers\"},{\"attributes\":{},\"id\":\"29482\",\"type\":\"HelpTool\"},{\"attributes\":{\"data\":{\"x\":{\"__ndarray__\":\"AAAA5UcHd0IAAMBKmgd3QgAAgLDsB3dCAABAFj8Id0IAAAB8kQh3QgAAwOHjCHdCAACARzYJd0IAAECtiAl3QgAAABPbCXdCAADAeC0Kd0IAAIDefwp3QgAAQETSCndCAAAAqiQLd0IAAMAPdwt3QgAAgHXJC3dCAABA2xsMd0IAAABBbgx3QgAAwKbADHdCAACADBMNd0IAAEByZQ13QgAAANi3DXdCAADAPQoOd0IAAICjXA53QgAAQAmvDndCAAAAbwEPd0IAAMDUUw93QgAAgDqmD3dCAABAoPgPd0IAAAAGSxB3QgAAwGudEHdCAACA0e8Qd0IAAEA3QhF3QgAAAJ2UEXdCAADAAucRd0IAAIBoORJ3QgAAQM6LEndCAAAANN4Sd0IAAMCZMBN3QgAAgP+CE3dCAABAZdUTd0IAAADLJxR3QgAAwDB6FHdCAACAlswUd0IAAED8HhV3QgAAAGJxFXdCAADAx8MVd0IAAIAtFhZ3QgAAQJNoFndCAAAA+boWd0IAAMBeDRd3QgAAgMRfF3dCAABAKrIXd0IAAACQBBh3QgAAwPVWGHdCAACAW6kYd0IAAEDB+xh3QgAAACdOGXdCAADAjKAZd0IAAIDy8hl3QgAAQFhFGndCAAAAvpcad0IAAMAj6hp3QgAAgIk8G3dCAABA744bd0IAAABV4Rt3QgAAwLozHHdCAACAIIYcd0IAAECG2Bx3QgAAAOwqHXdCAADAUX0dd0IAAIC3zx13QgAAQB0iHndCAAAAg3Qed0IAAMDoxh53QgAAgE4ZH3dCAABAtGsfd0IAAAAavh93QgAAwH8QIHdCAACA5WIgd0IAAEBLtSB3QgAAALEHIXdCAADAFlohd0IAAIB8rCF3QgAAQOL+IXdCAAAASFEid0IAAMCtoyJ3QgAAgBP2IndCAABAeUgjd0IAAADfmiN3QgAAwETtI3dCAACAqj8kd0IAAEAQkiR3QgAAAHbkJHdCAADA2zYld0IAAIBBiSV3QgAAQKfbJXdCAAAADS4md0IAAMBygCZ3QgAAgNjSJndCAABAPiUnd0IAAACkdyd3QgAAwAnKJ3dCAACAbxwod0IAAEDVbih3QgAAADvBKHdCAADAoBMpd0IAAIAGZil3QgAAQGy4KXdCAAAA0goqd0IAAMA3XSp3QgAAgJ2vKndCAABAAwIrd0IAAABpVCt3QgAAwM6mK3dCAACANPkrd0IAAECaSyx3QgAAAACeLHdCAADAZfAsd0IAAIDLQi13QgAAQDGVLXdCAAAAl+ctd0IAAMD8OS53QgAAgGKMLndCAABAyN4ud0IAAAAuMS93QgAAwJODL3dCAACA+dUvd0IAAEBfKDB3QgAAAMV6MHdCAADAKs0wd0IAAICQHzF3QgAAQPZxMXdCAAAAXMQxd0IAAMDBFjJ3QgAAgCdpMndCAABAjbsyd0IAAADzDTN3QgAAwFhgM3dCAACAvrIzd0IAAEAkBTR3QgAAAIpXNHdCAADA76k0d0IAAIBV/DR3QgAAQLtONXdCAAAAIaE1d0IAAMCG8zV3QgAAgOxFNndCAABAUpg2d0IAAAC46jZ3QgAAwB09N3dCAACAg483d0IAAEDp4Td3QgAAAE80OHdCAADAtIY4d0IAAIAa2Th3QgAAQIArOXdCAAAA5n05d0IAAMBL0Dl3QgAAgLEiOndCAABAF3U6d0IAAAB9xzp3QgAAwOIZO3dCAACASGw7d0IAAECuvjt3QgAAABQRPHdCAADAeWM8d0IAAIDftTx3QgAAQEUIPXdCAAAAq1o9d0IAAMAQrT13QgAAgHb/PXdCAABA3FE+d0IAAABCpD53QgAAwKf2PndCAACADUk/d0IAAEBzmz93QgAAANntP3dCAADAPkBAd0IAAICkkkB3QgAAQArlQHdCAAAAcDdBd0IAAMDViUF3QgAAgDvcQXdCAABAoS5Cd0IAAAAHgUJ3QgAAwGzTQndCAACA0iVDd0IAAEA4eEN3QgAAAJ7KQ3dCAADAAx1Ed0IAAIBpb0R3QgAAQM/BRHdCAAAANRRFd0IAAMCaZkV3QgAAgAC5RXdCAABAZgtGd0IAAADMXUZ3QgAAwDGwRndCAACAlwJHd0IAAED9VEd3QgAAAGOnR3dCAADAyPlHd0IAAIAuTEh3QgAAQJSeSHdCAAAA+vBId0IAAMBfQ0l3QgAAgMWVSXdCAABAK+hJd0IAAACROkp3QgAAwPaMSndCAACAXN9Kd0IAAEDCMUt3QgAAACiES3dCAADAjdZLd0IAAIDzKEx3QgAAQFl7THdCAAAAv81Md0IAAMAkIE13QgAAgIpyTXdCAABA8MRNd0IAAABWF053QgAAwLtpTndCAACAIbxOd0IAAECHDk93QgAAAO1gT3dCAADAUrNPd0IAAIC4BVB3QgAAQB5YUHdCAAAAhKpQd0IAAMDp/FB3QgAAgE9PUXdCAABAtaFRd0IAAAAb9FF3QgAAwIBGUndCAACA5phSd0IAAEBM61J3QgAAALI9U3dCAADAF5BTd0IAAIB94lN3QgAAQOM0VHdCAAAASYdUd0IAAMCu2VR3Qg==\",\"dtype\":\"float64\",\"shape\":[242]},\"y\":{\"__ndarray__\":\"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\",\"dtype\":\"float64\",\"shape\":[242]}},\"selected\":{\"id\":\"30429\"},\"selection_policy\":{\"id\":\"30430\"}},\"id\":\"30170\",\"type\":\"ColumnDataSource\"},{\"attributes\":{\"days\":[\"%d %B\"]},\"id\":\"29554\",\"type\":\"DatetimeTickFormatter\"},{\"attributes\":{\"use_scientific\":false},\"id\":\"29556\",\"type\":\"BasicTickFormatter\"},{\"attributes\":{\"fill_color\":{\"value\":\"white\"},\"line_color\":{\"value\":\"red\"},\"size\":{\"units\":\"screen\",\"value\":5},\"x\":{\"field\":\"x\"},\"y\":{\"field\":\"y\"}},\"id\":\"29550\",\"type\":\"Circle\"},{\"attributes\":{\"line_alpha\":0.1,\"line_color\":\"darkviolet\",\"line_width\":4,\"x\":{\"field\":\"x\"},\"y\":{\"field\":\"y\"}},\"id\":\"30216\",\"type\":\"Line\"},{\"attributes\":{\"source\":{\"id\":\"30214\"}},\"id\":\"30218\",\"type\":\"CDSView\"},{\"attributes\":{\"active_drag\":\"auto\",\"active_inspect\":\"auto\",\"active_multi\":null,\"active_scroll\":\"auto\",\"active_tap\":\"auto\",\"tools\":[{\"id\":\"30200\"},{\"id\":\"30201\"},{\"id\":\"30202\"},{\"id\":\"30203\"},{\"id\":\"30204\"},{\"id\":\"30205\"},{\"id\":\"30281\"}]},\"id\":\"30207\",\"type\":\"Toolbar\"},{\"attributes\":{\"data\":{\"x\":{\"__ndarray__\":\"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\",\"dtype\":\"float64\",\"shape\":[242]},\"y\":[0,3,2,5,4,8,5,18,27,28,41,49,36,133,97,168,196,189,250,175,368,349,345,475,427,627,793,651,601,743,683,662,969,889,756,812,837,727,760,766,681,525,636,604,542,610,570,619,431,566,602,578,525,575,482,433,454,534,437,464,420,415,260,333,382,323,285,269,474,174,195,236,369,274,243,194,165,179,172,195,262,242,153,145,99,162,161,156,130,119,50,92,78,117,70,87,111,75,60,55,71,88,85,72,53,65,79,71,53,56,78,44,26,34,43,66,47,49,24,23,18]},\"selected\":{\"id\":\"30254\"},\"selection_policy\":{\"id\":\"30255\"}},\"id\":\"30214\",\"type\":\"ColumnDataSource\"},{\"attributes\":{\"data_source\":{\"id\":\"29549\"},\"glyph\":{\"id\":\"29550\"},\"hover_glyph\":null,\"muted_glyph\":null,\"nonselection_glyph\":{\"id\":\"29551\"},\"selection_glyph\":null,\"view\":{\"id\":\"29553\"}},\"id\":\"29552\",\"type\":\"GlyphRenderer\"},{\"attributes\":{\"data\":{\"x\":{\"__ndarray__\":\"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\",\"dtype\":\"float64\",\"shape\":[242]},\"y\":{\"__ndarray__\":\"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\",\"dtype\":\"float64\",\"shape\":[242]}},\"selected\":{\"id\":\"30452\"},\"selection_policy\":{\"id\":\"30453\"}},\"id\":\"30244\",\"type\":\"ColumnDataSource\"},{\"attributes\":{\"axis\":{\"id\":\"30196\"},\"dimension\":1,\"ticker\":null},\"id\":\"30199\",\"type\":\"Grid\"},{\"attributes\":{\"data\":{\"x\":{\"__ndarray__\":\"AAAA5UcHd0IAAMBKmgd3QgAAgLDsB3dCAABAFj8Id0IAAAB8kQh3QgAAwOHjCHdCAACARzYJd0IAAECtiAl3QgAAABPbCXdCAADAeC0Kd0IAAIDefwp3QgAAQETSCndCAAAAqiQLd0IAAMAPdwt3QgAAgHXJC3dCAABA2xsMd0IAAABBbgx3QgAAwKbADHdCAACADBMNd0IAAEByZQ13QgAAANi3DXdCAADAPQoOd0IAAICjXA53QgAAQAmvDndCAAAAbwEPd0IAAMDUUw93QgAAgDqmD3dCAABAoPgPd0IAAAAGSxB3QgAAwGudEHdCAACA0e8Qd0IAAEA3QhF3QgAAAJ2UEXdCAADAAucRd0IAAIBoORJ3QgAAQM6LEndCAAAANN4Sd0IAAMCZMBN3QgAAgP+CE3dCAABAZdUTd0IAAADLJxR3QgAAwDB6FHdCAACAlswUd0IAAED8HhV3QgAAAGJxFXdCAADAx8MVd0IAAIAtFhZ3QgAAQJNoFndCAAAA+boWd0IAAMBeDRd3QgAAgMRfF3dCAABAKrIXd0IAAACQBBh3QgAAwPVWGHdCAACAW6kYd0IAAEDB+xh3QgAAACdOGXdCAADAjKAZd0IAAIDy8hl3QgAAQFhFGndCAAAAvpcad0IAAMAj6hp3QgAAgIk8G3dCAABA744bd0IAAABV4Rt3QgAAwLozHHdCAACAIIYcd0IAAECG2Bx3QgAAAOwqHXdCAADAUX0dd0IAAIC3zx13QgAAQB0iHndCAAAAg3Qed0IAAMDoxh53QgAAgE4ZH3dCAABAtGsfd0IAAAAavh93QgAAwH8QIHdCAACA5WIgd0IAAEBLtSB3QgAAALEHIXdCAADAFlohd0IAAIB8rCF3QgAAQOL+IXdCAAAASFEid0IAAMCtoyJ3QgAAgBP2IndCAABAeUgjd0IAAADfmiN3QgAAwETtI3dCAACAqj8kd0IAAEAQkiR3QgAAAHbkJHdCAADA2zYld0IAAIBBiSV3QgAAQKfbJXdCAAAADS4md0IAAMBygCZ3QgAAgNjSJndCAABAPiUnd0IAAACkdyd3QgAAwAnKJ3dCAACAbxwod0IAAEDVbih3QgAAADvBKHdCAADAoBMpd0IAAIAGZil3QgAAQGy4KXdCAAAA0goqd0IAAMA3XSp3QgAAgJ2vKndCAABAAwIrd0IAAABpVCt3QgAAwM6mK3dCAACANPkrd0IAAECaSyx3QgAAAACeLHdCAADAZfAsd0IAAIDLQi13QgAAQDGVLXdCAAAAl+ctd0I=\",\"dtype\":\"float64\",\"shape\":[121]},\"y\":[221,311,385,588,821,1049,1577,1835,2263,2706,3296,3916,5061,6387,7985,8514,10590,12839,14955,17750,20603,23073,26062,28710,33190,37860,42681,46638,50418,54030,57521,62013,66414,70065,73880,75528,77635,80572,83049,85388,88274,91246,93187,94067,95262,96877,98273,100269,102253,103616,104291,105418,106607,106962,107771,108257,108237,107709,107699,106848,106527,105847,106103,105813,105205,104657,101551,100943,100704,100179,99980,98467,91528,89624,87961,84842,83324,82488,81266,78457,76440,72070,70187,68351,66553,65129,62752,60960,59322,57752,56594,55300,52942,50966,47986,46175,43691,42097,41367,39893,39297,38429,36976,35877,35262,34730,32872,31710,30637,28997,27485,26274,25909,24569,23925,23101,21543,21212,20972,20637,19573]},\"selected\":{\"id\":\"30292\"},\"selection_policy\":{\"id\":\"30293\"}},\"id\":\"29549\",\"type\":\"ColumnDataSource\"},{\"attributes\":{\"fill_alpha\":{\"value\":0.1},\"fill_color\":{\"value\":\"white\"},\"line_alpha\":{\"value\":0.1},\"line_color\":{\"value\":\"red\"},\"size\":{\"units\":\"screen\",\"value\":5},\"x\":{\"field\":\"x\"},\"y\":{\"field\":\"y\"}},\"id\":\"29551\",\"type\":\"Circle\"},{\"attributes\":{\"source\":{\"id\":\"29549\"}},\"id\":\"29553\",\"type\":\"CDSView\"},{\"attributes\":{\"bottom_units\":\"screen\",\"fill_alpha\":0.5,\"fill_color\":\"lightgrey\",\"left_units\":\"screen\",\"level\":\"overlay\",\"line_alpha\":1.0,\"line_color\":\"black\",\"line_dash\":[4,4],\"line_width\":2,\"render_mode\":\"css\",\"right_units\":\"screen\",\"top_units\":\"screen\"},\"id\":\"29483\",\"type\":\"BoxAnnotation\"},{\"attributes\":{},\"id\":\"30200\",\"type\":\"PanTool\"},{\"attributes\":{},\"id\":\"30201\",\"type\":\"WheelZoomTool\"},{\"attributes\":{\"active_drag\":\"auto\",\"active_inspect\":\"auto\",\"active_multi\":null,\"active_scroll\":\"auto\",\"active_tap\":\"auto\",\"tools\":[{\"id\":\"29477\"},{\"id\":\"29478\"},{\"id\":\"29479\"},{\"id\":\"29480\"},{\"id\":\"29481\"},{\"id\":\"29482\"},{\"id\":\"29558\"}]},\"id\":\"29484\",\"type\":\"Toolbar\"},{\"attributes\":{},\"id\":\"30197\",\"type\":\"BasicTicker\"},{\"attributes\":{\"overlay\":{\"id\":\"30206\"}},\"id\":\"30202\",\"type\":\"BoxZoomTool\"},{\"attributes\":{},\"id\":\"30205\",\"type\":\"HelpTool\"},{\"attributes\":{},\"id\":\"30203\",\"type\":\"SaveTool\"},{\"attributes\":{\"fill_color\":{\"value\":\"white\"},\"line_color\":{\"value\":\"blue\"},\"size\":{\"units\":\"screen\",\"value\":5},\"x\":{\"field\":\"x\"},\"y\":{\"field\":\"y\"}},\"id\":\"29517\",\"type\":\"Circle\"},{\"attributes\":{},\"id\":\"30204\",\"type\":\"ResetTool\"},{\"attributes\":{\"axis_label\":\"New Deaths\",\"formatter\":{\"id\":\"30279\"},\"minor_tick_in\":-5,\"minor_tick_out\":-3,\"ticker\":{\"id\":\"30197\"}},\"id\":\"30196\",\"type\":\"LinearAxis\"},{\"attributes\":{\"data_source\":{\"id\":\"30214\"},\"glyph\":{\"id\":\"30215\"},\"hover_glyph\":null,\"muted_glyph\":null,\"nonselection_glyph\":{\"id\":\"30216\"},\"selection_glyph\":null,\"view\":{\"id\":\"30218\"}},\"id\":\"30217\",\"type\":\"GlyphRenderer\"},{\"attributes\":{\"base\":24,\"mantissas\":[1,2,4,6,8,12],\"max_interval\":43200000.0,\"min_interval\":3600000.0,\"num_minor_ticks\":0},\"id\":\"29503\",\"type\":\"AdaptiveTicker\"},{\"attributes\":{\"base\":60,\"mantissas\":[1,2,5,10,15,20,30],\"max_interval\":1800000.0,\"min_interval\":1000.0,\"num_minor_ticks\":0},\"id\":\"29502\",\"type\":\"AdaptiveTicker\"},{\"attributes\":{\"line_alpha\":0.1,\"line_color\":\"lightcoral\",\"line_width\":4,\"x\":{\"field\":\"x\"},\"y\":{\"field\":\"y\"}},\"id\":\"30246\",\"type\":\"Line\"},{\"attributes\":{\"fill_color\":{\"value\":\"white\"},\"line_color\":{\"value\":\"lightcoral\"},\"size\":{\"units\":\"screen\",\"value\":5},\"x\":{\"field\":\"x\"},\"y\":{\"field\":\"y\"}},\"id\":\"30273\",\"type\":\"Circle\"},{\"attributes\":{\"days\":[1,2,3,4,5,6,7,8,9,10,11,12,13,14,15,16,17,18,19,20,21,22,23,24,25,26,27,28,29,30,31]},\"id\":\"29504\",\"type\":\"DaysTicker\"},{\"attributes\":{\"source\":{\"id\":\"30239\"}},\"id\":\"30243\",\"type\":\"CDSView\"},{\"attributes\":{\"data_source\":{\"id\":\"30239\"},\"glyph\":{\"id\":\"30240\"},\"hover_glyph\":null,\"muted_glyph\":null,\"nonselection_glyph\":{\"id\":\"30241\"},\"selection_glyph\":null,\"view\":{\"id\":\"30243\"}},\"id\":\"30242\",\"type\":\"GlyphRenderer\"},{\"attributes\":{\"fill_alpha\":{\"value\":0.1},\"fill_color\":{\"value\":\"white\"},\"line_alpha\":{\"value\":0.1},\"line_color\":{\"value\":\"darkviolet\"},\"size\":{\"units\":\"screen\",\"value\":5},\"x\":{\"field\":\"x\"},\"y\":{\"field\":\"y\"}},\"id\":\"30241\",\"type\":\"Circle\"},{\"attributes\":{\"days\":[1,8,15,22]},\"id\":\"29506\",\"type\":\"DaysTicker\"},{\"attributes\":{\"line_color\":\"lightcoral\",\"line_width\":4,\"x\":{\"field\":\"x\"},\"y\":{\"field\":\"y\"}},\"id\":\"30245\",\"type\":\"Line\"},{\"attributes\":{\"fill_color\":{\"value\":\"white\"},\"line_color\":{\"value\":\"darkviolet\"},\"size\":{\"units\":\"screen\",\"value\":5},\"x\":{\"field\":\"x\"},\"y\":{\"field\":\"y\"}},\"id\":\"30240\",\"type\":\"Circle\"},{\"attributes\":{\"days\":[1,15]},\"id\":\"29507\",\"type\":\"DaysTicker\"},{\"attributes\":{\"label\":{\"value\":\"Gamma fitting\"},\"renderers\":[{\"id\":\"30247\"}]},\"id\":\"30271\",\"type\":\"LegendItem\"},{\"attributes\":{\"bottom_units\":\"screen\",\"fill_alpha\":0.5,\"fill_color\":\"lightgrey\",\"left_units\":\"screen\",\"level\":\"overlay\",\"line_alpha\":1.0,\"line_color\":\"black\",\"line_dash\":[4,4],\"line_width\":2,\"render_mode\":\"css\",\"right_units\":\"screen\",\"top_units\":\"screen\"},\"id\":\"30206\",\"type\":\"BoxAnnotation\"},{\"attributes\":{\"months\":[0,1,2,3,4,5,6,7,8,9,10,11]},\"id\":\"29508\",\"type\":\"MonthsTicker\"},{\"attributes\":{\"months\":[0,2,4,6,8,10]},\"id\":\"29509\",\"type\":\"MonthsTicker\"},{\"attributes\":{\"label\":{\"value\":\"new deaths\"},\"renderers\":[{\"id\":\"30217\"}]},\"id\":\"30238\",\"type\":\"LegendItem\"},{\"attributes\":{\"months\":[0,4,8]},\"id\":\"29510\",\"type\":\"MonthsTicker\"},{\"attributes\":{\"months\":[0,6]},\"id\":\"29511\",\"type\":\"MonthsTicker\"},{\"attributes\":{\"mantissas\":[1,2,5],\"max_interval\":500.0,\"num_minor_ticks\":0},\"id\":\"30224\",\"type\":\"AdaptiveTicker\"},{\"attributes\":{},\"id\":\"29512\",\"type\":\"YearsTicker\"},{\"attributes\":{\"label\":{\"value\":\"total cases\"},\"renderers\":[{\"id\":\"29494\"}]},\"id\":\"29515\",\"type\":\"LegendItem\"},{\"attributes\":{\"source\":{\"id\":\"29516\"}},\"id\":\"29520\",\"type\":\"CDSView\"},{\"attributes\":{\"items\":[{\"id\":\"30238\"},{\"id\":\"30271\"}]},\"id\":\"30237\",\"type\":\"Legend\"},{\"attributes\":{\"line_color\":\"red\",\"line_width\":4,\"x\":{\"field\":\"x\"},\"y\":{\"field\":\"y\"}},\"id\":\"29522\",\"type\":\"Line\"},{\"attributes\":{\"data\":{\"x\":{\"__ndarray__\":\"AAAA5UcHd0IAAMBKmgd3QgAAgLDsB3dCAABAFj8Id0IAAAB8kQh3QgAAwOHjCHdCAACARzYJd0IAAECtiAl3QgAAABPbCXdCAADAeC0Kd0IAAIDefwp3QgAAQETSCndCAAAAqiQLd0IAAMAPdwt3QgAAgHXJC3dCAABA2xsMd0IAAABBbgx3QgAAwKbADHdCAACADBMNd0IAAEByZQ13QgAAANi3DXdCAADAPQoOd0IAAICjXA53QgAAQAmvDndCAAAAbwEPd0IAAMDUUw93QgAAgDqmD3dCAABAoPgPd0IAAAAGSxB3QgAAwGudEHdCAACA0e8Qd0IAAEA3QhF3QgAAAJ2UEXdCAADAAucRd0IAAIBoORJ3QgAAQM6LEndCAAAANN4Sd0IAAMCZMBN3QgAAgP+CE3dCAABAZdUTd0IAAADLJxR3QgAAwDB6FHdCAACAlswUd0IAAED8HhV3QgAAAGJxFXdCAADAx8MVd0IAAIAtFhZ3QgAAQJNoFndCAAAA+boWd0IAAMBeDRd3QgAAgMRfF3dCAABAKrIXd0IAAACQBBh3QgAAwPVWGHdCAACAW6kYd0IAAEDB+xh3QgAAACdOGXdCAADAjKAZd0IAAIDy8hl3QgAAQFhFGndCAAAAvpcad0IAAMAj6hp3QgAAgIk8G3dCAABA744bd0IAAABV4Rt3QgAAwLozHHdCAACAIIYcd0IAAECG2Bx3QgAAAOwqHXdCAADAUX0dd0IAAIC3zx13QgAAQB0iHndCAAAAg3Qed0IAAMDoxh53QgAAgE4ZH3dCAABAtGsfd0IAAAAavh93QgAAwH8QIHdCAACA5WIgd0IAAEBLtSB3QgAAALEHIXdCAADAFlohd0IAAIB8rCF3QgAAQOL+IXdCAAAASFEid0IAAMCtoyJ3QgAAgBP2IndCAABAeUgjd0IAAADfmiN3QgAAwETtI3dCAACAqj8kd0IAAEAQkiR3QgAAAHbkJHdCAADA2zYld0IAAIBBiSV3QgAAQKfbJXdCAAAADS4md0IAAMBygCZ3QgAAgNjSJndCAABAPiUnd0IAAACkdyd3QgAAwAnKJ3dCAACAbxwod0IAAEDVbih3QgAAADvBKHdCAADAoBMpd0IAAIAGZil3QgAAQGy4KXdCAAAA0goqd0IAAMA3XSp3QgAAgJ2vKndCAABAAwIrd0IAAABpVCt3QgAAwM6mK3dCAACANPkrd0IAAECaSyx3QgAAAACeLHdCAADAZfAsd0IAAIDLQi13QgAAQDGVLXdCAAAAl+ctd0I=\",\"dtype\":\"float64\",\"shape\":[121]},\"y\":[229,322,400,650,888,1128,1694,2036,2502,3089,3858,4636,5883,7375,9172,10149,12462,15113,17660,21157,24747,27980,31506,35713,41035,47021,53578,59138,63927,69176,74386,80539,86498,92472,97689,101739,105792,110574,115242,119827,124632,128948,132547,135586,139422,143626,147577,152271,156363,159516,162488,165155,168941,172434,175925,178972,181228,183957,187327,189973,192994,195351,197675,199414,201505,203591,205463,207428,209328,210717,211938,213013,214457,215858,217185,218268,219070,219814,221216,222104,223096,223885,224760,225435,225886,226699,227364,228006,228658,229327,229858,230158,230555,231139,231732,232248,232664,233019,233197,233515,233836,234013,234531,234801,234998,235278,235561,235763,236142,236305,236651,236989,237290,237500,237828,238159,238011,238275,238499,238720,238833]},\"selected\":{\"id\":\"29533\"},\"selection_policy\":{\"id\":\"29534\"}},\"id\":\"29516\",\"type\":\"ColumnDataSource\"},{\"attributes\":{\"data_source\":{\"id\":\"29516\"},\"glyph\":{\"id\":\"29517\"},\"hover_glyph\":null,\"muted_glyph\":null,\"nonselection_glyph\":{\"id\":\"29518\"},\"selection_glyph\":null,\"view\":{\"id\":\"29520\"}},\"id\":\"29519\",\"type\":\"GlyphRenderer\"},{\"attributes\":{\"fill_alpha\":{\"value\":0.1},\"fill_color\":{\"value\":\"white\"},\"line_alpha\":{\"value\":0.1},\"line_color\":{\"value\":\"blue\"},\"size\":{\"units\":\"screen\",\"value\":5},\"x\":{\"field\":\"x\"},\"y\":{\"field\":\"y\"}},\"id\":\"29518\",\"type\":\"Circle\"},{\"attributes\":{\"base\":60,\"mantissas\":[1,2,5,10,15,20,30],\"max_interval\":1800000.0,\"min_interval\":1000.0,\"num_minor_ticks\":0},\"id\":\"30225\",\"type\":\"AdaptiveTicker\"},{\"attributes\":{},\"id\":\"29633\",\"type\":\"Selection\"},{\"attributes\":{},\"id\":\"29735\",\"type\":\"Selection\"},{\"attributes\":{\"data_source\":{\"id\":\"29521\"},\"glyph\":{\"id\":\"29522\"},\"hover_glyph\":null,\"muted_glyph\":null,\"nonselection_glyph\":{\"id\":\"29523\"},\"selection_glyph\":null,\"view\":{\"id\":\"29525\"}},\"id\":\"29524\",\"type\":\"GlyphRenderer\"},{\"attributes\":{\"data\":{\"x\":{\"__ndarray__\":\"AAAA5UcHd0IAAMBKmgd3QgAAgLDsB3dCAABAFj8Id0IAAAB8kQh3QgAAwOHjCHdCAACARzYJd0IAAECtiAl3QgAAABPbCXdCAADAeC0Kd0IAAIDefwp3QgAAQETSCndCAAAAqiQLd0IAAMAPdwt3QgAAgHXJC3dCAABA2xsMd0IAAABBbgx3QgAAwKbADHdCAACADBMNd0IAAEByZQ13QgAAANi3DXdCAADAPQoOd0IAAICjXA53QgAAQAmvDndCAAAAbwEPd0IAAMDUUw93QgAAgDqmD3dCAABAoPgPd0IAAAAGSxB3QgAAwGudEHdCAACA0e8Qd0IAAEA3QhF3QgAAAJ2UEXdCAADAAucRd0IAAIBoORJ3QgAAQM6LEndCAAAANN4Sd0IAAMCZMBN3QgAAgP+CE3dCAABAZdUTd0IAAADLJxR3QgAAwDB6FHdCAACAlswUd0IAAED8HhV3QgAAAGJxFXdCAADAx8MVd0IAAIAtFhZ3QgAAQJNoFndCAAAA+boWd0IAAMBeDRd3QgAAgMRfF3dCAABAKrIXd0IAAACQBBh3QgAAwPVWGHdCAACAW6kYd0IAAEDB+xh3QgAAACdOGXdCAADAjKAZd0IAAIDy8hl3QgAAQFhFGndCAAAAvpcad0IAAMAj6hp3QgAAgIk8G3dCAABA744bd0IAAABV4Rt3QgAAwLozHHdCAACAIIYcd0IAAECG2Bx3QgAAAOwqHXdCAADAUX0dd0IAAIC3zx13QgAAQB0iHndCAAAAg3Qed0IAAMDoxh53QgAAgE4ZH3dCAABAtGsfd0IAAAAavh93QgAAwH8QIHdCAACA5WIgd0IAAEBLtSB3QgAAALEHIXdCAADAFlohd0IAAIB8rCF3QgAAQOL+IXdCAAAASFEid0IAAMCtoyJ3QgAAgBP2IndCAABAeUgjd0IAAADfmiN3QgAAwETtI3dCAACAqj8kd0IAAEAQkiR3QgAAAHbkJHdCAADA2zYld0IAAIBBiSV3QgAAQKfbJXdCAAAADS4md0IAAMBygCZ3QgAAgNjSJndCAABAPiUnd0IAAACkdyd3QgAAwAnKJ3dCAACAbxwod0IAAEDVbih3QgAAADvBKHdCAADAoBMpd0IAAIAGZil3QgAAQGy4KXdCAAAA0goqd0IAAMA3XSp3QgAAgJ2vKndCAABAAwIrd0IAAABpVCt3QgAAwM6mK3dCAACANPkrd0IAAECaSyx3QgAAAACeLHdCAADAZfAsd0IAAIDLQi13QgAAQDGVLXdCAAAAl+ctd0I=\",\"dtype\":\"float64\",\"shape\":[121]},\"y\":[221,311,385,588,821,1049,1577,1835,2263,2706,3296,3916,5061,6387,7985,8514,10590,12839,14955,17750,20603,23073,26062,28710,33190,37860,42681,46638,50418,54030,57521,62013,66414,70065,73880,75528,77635,80572,83049,85388,88274,91246,93187,94067,95262,96877,98273,100269,102253,103616,104291,105418,106607,106962,107771,108257,108237,107709,107699,106848,106527,105847,106103,105813,105205,104657,101551,100943,100704,100179,99980,98467,91528,89624,87961,84842,83324,82488,81266,78457,76440,72070,70187,68351,66553,65129,62752,60960,59322,57752,56594,55300,52942,50966,47986,46175,43691,42097,41367,39893,39297,38429,36976,35877,35262,34730,32872,31710,30637,28997,27485,26274,25909,24569,23925,23101,21543,21212,20972,20637,19573]},\"selected\":{\"id\":\"30290\"},\"selection_policy\":{\"id\":\"30291\"}},\"id\":\"29521\",\"type\":\"ColumnDataSource\"},{\"attributes\":{},\"id\":\"29634\",\"type\":\"UnionRenderers\"},{\"attributes\":{},\"id\":\"29736\",\"type\":\"UnionRenderers\"},{\"attributes\":{},\"id\":\"29531\",\"type\":\"Selection\"},{\"attributes\":{\"source\":{\"id\":\"29521\"}},\"id\":\"29525\",\"type\":\"CDSView\"},{\"attributes\":{},\"id\":\"29635\",\"type\":\"Selection\"},{\"attributes\":{},\"id\":\"29737\",\"type\":\"Selection\"},{\"attributes\":{},\"id\":\"29636\",\"type\":\"UnionRenderers\"},{\"attributes\":{},\"id\":\"29738\",\"type\":\"UnionRenderers\"},{\"attributes\":{\"source\":{\"id\":\"29651\"}},\"id\":\"29655\",\"type\":\"CDSView\"},{\"attributes\":{\"source\":{\"id\":\"29753\"}},\"id\":\"29757\",\"type\":\"CDSView\"},{\"attributes\":{\"callback\":null,\"formatters\":{\"@x\":\"datetime\"},\"mode\":\"vline\",\"tooltips\":[[\"date\",\"@x{%d %B}\"],[\"total cases OR total positive\",\"@y{0[.]000}\"]]},\"id\":\"29558\",\"type\":\"HoverTool\"},{\"attributes\":{\"data\":{\"x\":{\"__ndarray__\":\"AACARzYJd0IAAECtiAl3QgAAABPbCXdCAADAeC0Kd0IAAIDefwp3QgAAQETSCndCAAAAqiQLd0IAAMAPdwt3QgAAgHXJC3dCAABA2xsMd0IAAABBbgx3QgAAwKbADHdCAACADBMNd0IAAEByZQ13QgAAANi3DXdCAADAPQoOd0IAAICjXA53QgAAQAmvDndCAAAAbwEPd0IAAMDUUw93QgAAgDqmD3dCAABAoPgPd0IAAAAGSxB3QgAAwGudEHdCAACA0e8Qd0IAAEA3QhF3QgAAAJ2UEXdCAADAAucRd0IAAIBoORJ3QgAAQM6LEndCAAAANN4Sd0IAAMCZMBN3QgAAgP+CE3dCAABAZdUTd0IAAADLJxR3QgAAwDB6FHdCAACAlswUd0IAAED8HhV3QgAAAGJxFXdCAADAx8MVd0IAAIAtFhZ3QgAAQJNoFndCAAAA+boWd0IAAMBeDRd3QgAAgMRfF3dCAABAKrIXd0IAAACQBBh3QgAAwPVWGHdCAACAW6kYd0IAAEDB+xh3QgAAACdOGXdCAADAjKAZd0IAAIDy8hl3QgAAQFhFGndCAAAAvpcad0IAAMAj6hp3QgAAgIk8G3dCAABA744bd0IAAABV4Rt3QgAAwLozHHdCAACAIIYcd0IAAECG2Bx3QgAAAOwqHXdCAADAUX0dd0IAAIC3zx13QgAAQB0iHndCAAAAg3Qed0IAAMDoxh53QgAAgE4ZH3dCAABAtGsfd0IAAAAavh93QgAAwH8QIHdCAACA5WIgd0IAAEBLtSB3QgAAALEHIXdCAADAFlohd0IAAIB8rCF3QgAAQOL+IXdCAAAASFEid0IAAMCtoyJ3QgAAgBP2IndCAABAeUgjd0IAAADfmiN3QgAAwETtI3dCAACAqj8kd0IAAEAQkiR3QgAAAHbkJHdCAADA2zYld0IAAIBBiSV3QgAAQKfbJXdCAAAADS4md0IAAMBygCZ3QgAAgNjSJndCAABAPiUnd0IAAACkdyd3QgAAwAnKJ3dCAACAbxwod0IAAEDVbih3QgAAADvBKHdCAADAoBMpd0IAAIAGZil3QgAAQGy4KXdCAAAA0goqd0IAAMA3XSp3QgAAgJ2vKndCAABAAwIrd0IAAABpVCt3QgAAwM6mK3dCAACANPkrd0IAAECaSyx3QgAAAACeLHdCAADAZfAsd0IAAIDLQi13QgAAQDGVLXdCAAAAl+ctd0IAAMD8OS53QgAAgGKMLndCAABAyN4ud0IAAAAuMS93QgAAwJODL3dCAACA+dUvd0I=\",\"dtype\":\"float64\",\"shape\":[121]},\"y\":[0.9906384833099334,0.9876702701263628,0.986034206451665,0.9937023701385499,0.9970511977507855,0.9979544752352847,0.9913778365717426,0.9929248433250588,0.9957403179282476,0.9977413133698139,0.9985366218172942,0.9969106059526226,0.996211572251712,0.9909112544567887,0.9925418195655226,0.9932047921984762,0.9924285278783038,0.9930340764201312,0.9923577489344909,0.9932926697800687,0.9948845546297247,0.9950079961757051,0.9935421243409132,0.9923519864209975,0.9905689301056676,0.9882674204511754,0.9878264212632235,0.9873989916144827,0.9860735965572663,0.9845430102319735,0.9830060388504964,0.9809094757488263,0.9787131870741717,0.9765424924030026,0.9740607080719607,0.9707721359330386,0.9675980745847533,0.9644603235650501,0.9611847156868383,0.9581929227609429,0.9553138048152379,0.9527668866041618,0.949832519376967,0.9471741782289388,0.9448856132660635,0.9428262702142188,0.9408090496270258,0.9390094702651643,0.9371368895937208,0.9351084492759572,0.9330557612153584,0.9312289735564631,0.9293543463395025,0.9275386266286831,0.9256884677837561,0.923825484706234,0.9216168769019616,0.9193267564535198,0.9171080210761422,0.9148403674368056,0.9124738376193,0.9100150508583008,0.9079318355263625,0.9055617444260692,0.9030142411545999,0.9004203648795525,0.8980689816751007,0.895753592355098,0.8934258167984068,0.8910112034278967,0.8884835555981856,0.8858991595144673,0.8832672224045979,0.8806489898317053,0.8781735601338101,0.875798568138153,0.8733701733341191,0.8708924136063186,0.868304639054517,0.8657347591288924,0.8631886604807198,0.8606646697392588,0.858127410712821,0.8555693576054788,0.852892171710644,0.8501818039869902,0.8474274701530655,0.844700900642225,0.8419345520946966,0.8391646559956998,0.8364338566397378,0.8336910711516987,0.8309211457595196,0.8281248123000429,0.8253329993158202,0.8225748810114298,0.8198481378354814,0.8171364351895642,0.8144164389141544,0.8117098496622602,0.8090390142962303,0.8063941173576937,0.8037525871249604,0.8011218929019263,0.798534052945386,0.7959443157297019,0.7933324930099895,0.7907137868390863,0.7881034028225027,0.7855332424297904,0.782979060796708,0.780445007608978,0.7779009250870768,0.7753487688829088,0.7727853047065396]},\"selected\":{\"id\":\"29774\"},\"selection_policy\":{\"id\":\"29775\"}},\"id\":\"29753\",\"type\":\"ColumnDataSource\"},{\"attributes\":{\"data_source\":{\"id\":\"29651\"},\"glyph\":{\"id\":\"29652\"},\"hover_glyph\":null,\"muted_glyph\":null,\"nonselection_glyph\":{\"id\":\"29653\"},\"selection_glyph\":null,\"view\":{\"id\":\"29655\"}},\"id\":\"29654\",\"type\":\"GlyphRenderer\"},{\"attributes\":{\"line_alpha\":0.1,\"line_color\":\"red\",\"line_width\":4,\"x\":{\"field\":\"x\"},\"y\":{\"field\":\"y\"}},\"id\":\"29523\",\"type\":\"Line\"},{\"attributes\":{\"days\":[\"%d %B\"]},\"id\":\"29656\",\"type\":\"DatetimeTickFormatter\"},{\"attributes\":{\"fill_color\":{\"value\":\"white\"},\"line_color\":{\"value\":\"lightblue\"},\"size\":{\"units\":\"screen\",\"value\":5},\"x\":{\"field\":\"x\"},\"y\":{\"field\":\"y\"}},\"id\":\"29893\",\"type\":\"Circle\"},{\"attributes\":{\"line_alpha\":0.1,\"line_color\":\"darkviolet\",\"line_width\":4,\"x\":{\"field\":\"x\"},\"y\":{\"field\":\"y\"}},\"id\":\"29595\",\"type\":\"Line\"},{\"attributes\":{\"use_scientific\":false},\"id\":\"29658\",\"type\":\"BasicTickFormatter\"},{\"attributes\":{\"data_source\":{\"id\":\"29753\"},\"glyph\":{\"id\":\"29754\"},\"hover_glyph\":null,\"muted_glyph\":null,\"nonselection_glyph\":{\"id\":\"29755\"},\"selection_glyph\":null,\"view\":{\"id\":\"29757\"}},\"id\":\"29756\",\"type\":\"GlyphRenderer\"},{\"attributes\":{},\"id\":\"29532\",\"type\":\"UnionRenderers\"},{\"attributes\":{},\"id\":\"29533\",\"type\":\"Selection\"},{\"attributes\":{\"text\":\"Total Cases/Deaths/Guariti - Exponential Validity: Italy\"},\"id\":\"29663\",\"type\":\"Title\"},{\"attributes\":{\"data\":{\"x\":{\"__ndarray__\":\"AACARzYJd0IAAECtiAl3QgAAABPbCXdCAADAeC0Kd0IAAIDefwp3QgAAQETSCndCAAAAqiQLd0IAAMAPdwt3QgAAgHXJC3dCAABA2xsMd0IAAABBbgx3QgAAwKbADHdCAACADBMNd0IAAEByZQ13QgAAANi3DXdCAADAPQoOd0IAAICjXA53QgAAQAmvDndCAAAAbwEPd0IAAMDUUw93QgAAgDqmD3dCAABAoPgPd0IAAAAGSxB3QgAAwGudEHdCAACA0e8Qd0IAAEA3QhF3QgAAAJ2UEXdCAADAAucRd0IAAIBoORJ3QgAAQM6LEndCAAAANN4Sd0IAAMCZMBN3QgAAgP+CE3dCAABAZdUTd0IAAADLJxR3QgAAwDB6FHdCAACAlswUd0IAAED8HhV3QgAAAGJxFXdCAADAx8MVd0IAAIAtFhZ3QgAAQJNoFndCAAAA+boWd0IAAMBeDRd3QgAAgMRfF3dCAABAKrIXd0IAAACQBBh3QgAAwPVWGHdCAACAW6kYd0IAAEDB+xh3QgAAACdOGXdCAADAjKAZd0IAAIDy8hl3QgAAQFhFGndCAAAAvpcad0IAAMAj6hp3QgAAgIk8G3dCAABA744bd0IAAABV4Rt3QgAAwLozHHdCAACAIIYcd0IAAECG2Bx3QgAAAOwqHXdCAADAUX0dd0IAAIC3zx13QgAAQB0iHndCAAAAg3Qed0IAAMDoxh53QgAAgE4ZH3dCAABAtGsfd0IAAAAavh93QgAAwH8QIHdCAACA5WIgd0IAAEBLtSB3QgAAALEHIXdCAADAFlohd0IAAIB8rCF3QgAAQOL+IXdCAAAASFEid0IAAMCtoyJ3QgAAgBP2IndCAABAeUgjd0IAAADfmiN3QgAAwETtI3dCAACAqj8kd0IAAEAQkiR3QgAAAHbkJHdCAADA2zYld0IAAIBBiSV3QgAAQKfbJXdCAAAADS4md0IAAMBygCZ3QgAAgNjSJndCAABAPiUnd0IAAACkdyd3QgAAwAnKJ3dCAACAbxwod0IAAEDVbih3QgAAADvBKHdCAADAoBMpd0IAAIAGZil3QgAAQGy4KXdCAAAA0goqd0IAAMA3XSp3QgAAgJ2vKndCAABAAwIrd0IAAABpVCt3QgAAwM6mK3dCAACANPkrd0IAAECaSyx3QgAAAACeLHdCAADAZfAsd0IAAIDLQi13QgAAQDGVLXdCAAAAl+ctd0IAAMD8OS53QgAAgGKMLndCAABAyN4ud0IAAAAuMS93QgAAwJODL3dCAACA+dUvd0I=\",\"dtype\":\"float64\",\"shape\":[121]},\"y\":[0.8606481598394683,0.9471173938556658,0.9360911279420753,0.9714690580202313,0.9878007496262176,0.9884028491325129,0.9737095608712864,0.950129573047173,0.9474586811076524,0.9666768419691317,0.9658577874885119,0.9724140849805707,0.9763897317383651,0.9834379682925372,0.9890235515610548,0.9924406618242618,0.989816741999947,0.9921702793313502,0.9937454318804336,0.9945507685487721,0.9957720823208889,0.9964565194119556,0.992972429394026,0.9912159179141088,0.990758065554159,0.9902870260138735,0.9873582845426842,0.9876274727514551,0.9855575962352924,0.9861611703161747,0.9860563306981559,0.9854629750783211,0.985418780114212,0.9856008321068747,0.9851952730138245,0.9833282330199984,0.9811142645991496,0.9800447585020177,0.9805734317474694,0.9815490832902357,0.9826117648897318,0.98367923585059,0.9841889379349255,0.9837222896530314,0.9831395008139059,0.9815460633282107,0.9806663783128649,0.980694863333348,0.9808726854803773,0.9810329377754993,0.9808918984127557,0.9811961160998607,0.9818480551570032,0.9826863064941808,0.9835138836865019,0.9841358137509889,0.9841789078633206,0.9836939231363766,0.9831376121102836,0.9825179613737066,0.9829079161791275,0.9829729695921392,0.9825046031593785,0.9816427493213683,0.9802331679101273,0.9789441087335161,0.979799959618488,0.9804583566733469,0.9808623878006852,0.9813851613404979,0.9814954845116408,0.9810371567380703,0.9804262518199361,0.9800013745173415,0.979502354520762,0.9794995183201429,0.9792978225698306,0.978873388710861,0.9782131164464811,0.9773431417511275,0.9765117443872783,0.9755649908022141,0.9745001848019995,0.9733352889282131,0.9719747662835253,0.9704247646097638,0.9690238111867877,0.9676952469672493,0.9666801744582063,0.9656393259166077,0.9647036535325406,0.9636622990059924,0.9623120358987169,0.9609008950662642,0.9592470063373569,0.9574160300507688,0.9556511259989501,0.9538203659941833,0.9518210779224072,0.9496803517919288,0.9477185274309496,0.9457510155615758,0.9438094298762447,0.9419719395532088,0.9402384461248768,0.9385456032380411,0.936718779687741,0.934957539813754,0.9331425907637588,0.9313179521274131,0.9295445617122824,0.9276625667092279,0.9256677990900561,0.923595319805072,0.9215805316656552]},\"selected\":{\"id\":\"30344\"},\"selection_policy\":{\"id\":\"30345\"}},\"id\":\"29758\",\"type\":\"ColumnDataSource\"},{\"attributes\":{\"line_color\":\"green\",\"line_width\":4,\"x\":{\"field\":\"x\"},\"y\":{\"field\":\"y\"}},\"id\":\"29759\",\"type\":\"Line\"},{\"attributes\":{},\"id\":\"29534\",\"type\":\"UnionRenderers\"},{\"attributes\":{\"callback\":null,\"formatters\":{\"@x\":\"datetime\"},\"mode\":\"vline\",\"tooltips\":[[\"date\",\"@x{%d %B}\"],[\"deaths OR recovered\",\"@y{0[.]000}\"]]},\"id\":\"29660\",\"type\":\"HoverTool\"},{\"attributes\":{\"below\":[{\"id\":\"29673\"}],\"center\":[{\"id\":\"29676\"},{\"id\":\"29680\"},{\"id\":\"29718\"}],\"left\":[{\"id\":\"29677\"}],\"plot_height\":350,\"plot_width\":470,\"renderers\":[{\"id\":\"29698\"},{\"id\":\"29723\"},{\"id\":\"29728\"},{\"id\":\"29756\"},{\"id\":\"29761\"},{\"id\":\"29793\"}],\"title\":{\"id\":\"29663\"},\"toolbar\":{\"id\":\"29688\"},\"toolbar_location\":null,\"x_range\":{\"id\":\"29665\"},\"x_scale\":{\"id\":\"29669\"},\"y_range\":{\"id\":\"29667\"},\"y_scale\":{\"id\":\"29671\"}},\"id\":\"29662\",\"subtype\":\"Figure\",\"type\":\"Plot\"},{\"attributes\":{\"below\":[{\"id\":\"29812\"}],\"center\":[{\"id\":\"29815\"},{\"id\":\"29819\"},{\"id\":\"29857\"}],\"left\":[{\"id\":\"29816\"}],\"plot_height\":350,\"plot_width\":470,\"renderers\":[{\"id\":\"29837\"},{\"id\":\"29862\"},{\"id\":\"29867\"},{\"id\":\"29895\"},{\"id\":\"29900\"},{\"id\":\"29932\"}],\"title\":{\"id\":\"29802\"},\"toolbar\":{\"id\":\"29827\"},\"toolbar_location\":null,\"x_range\":{\"id\":\"29804\"},\"x_scale\":{\"id\":\"29808\"},\"y_range\":{\"id\":\"29806\"},\"y_scale\":{\"id\":\"29810\"}},\"id\":\"29801\",\"subtype\":\"Figure\",\"type\":\"Plot\"},{\"attributes\":{\"text\":\"Deaths & Recovered: Italy\"},\"id\":\"29561\",\"type\":\"Title\"},{\"attributes\":{},\"id\":\"29667\",\"type\":\"DataRange1d\"},{\"attributes\":{\"data_source\":{\"id\":\"29758\"},\"glyph\":{\"id\":\"29759\"},\"hover_glyph\":null,\"muted_glyph\":null,\"nonselection_glyph\":{\"id\":\"29760\"},\"selection_glyph\":null,\"view\":{\"id\":\"29762\"}},\"id\":\"29761\",\"type\":\"GlyphRenderer\"},{\"attributes\":{\"data_source\":{\"id\":\"29790\"},\"glyph\":{\"id\":\"29791\"},\"hover_glyph\":null,\"muted_glyph\":null,\"nonselection_glyph\":{\"id\":\"29792\"},\"selection_glyph\":null,\"view\":{\"id\":\"29794\"}},\"id\":\"29793\",\"type\":\"GlyphRenderer\"},{\"attributes\":{},\"id\":\"29665\",\"type\":\"DataRange1d\"},{\"attributes\":{},\"id\":\"29563\",\"type\":\"DataRange1d\"},{\"attributes\":{\"source\":{\"id\":\"29758\"}},\"id\":\"29762\",\"type\":\"CDSView\"},{\"attributes\":{},\"id\":\"29671\",\"type\":\"LinearScale\"},{\"attributes\":{},\"id\":\"29773\",\"type\":\"UnionRenderers\"},{\"attributes\":{},\"id\":\"29772\",\"type\":\"Selection\"},{\"attributes\":{},\"id\":\"29565\",\"type\":\"DataRange1d\"},{\"attributes\":{\"num_minor_ticks\":5,\"tickers\":[{\"id\":\"29705\"},{\"id\":\"29706\"},{\"id\":\"29707\"},{\"id\":\"29708\"},{\"id\":\"29709\"},{\"id\":\"29710\"},{\"id\":\"29711\"},{\"id\":\"29712\"},{\"id\":\"29713\"},{\"id\":\"29714\"},{\"id\":\"29715\"},{\"id\":\"29716\"}]},\"id\":\"29674\",\"type\":\"DatetimeTicker\"},{\"attributes\":{},\"id\":\"29775\",\"type\":\"UnionRenderers\"},{\"attributes\":{\"line_alpha\":0.1,\"line_color\":\"green\",\"line_width\":4,\"x\":{\"field\":\"x\"},\"y\":{\"field\":\"y\"}},\"id\":\"29760\",\"type\":\"Line\"},{\"attributes\":{},\"id\":\"29567\",\"type\":\"LinearScale\"},{\"attributes\":{},\"id\":\"29678\",\"type\":\"BasicTicker\"},{\"attributes\":{},\"id\":\"29569\",\"type\":\"LinearScale\"},{\"attributes\":{},\"id\":\"29669\",\"type\":\"LinearScale\"},{\"attributes\":{\"label\":{\"value\":\"R_squared_guariti\"},\"renderers\":[{\"id\":\"29761\"}]},\"id\":\"29789\",\"type\":\"LegendItem\"},{\"attributes\":{\"axis_label\":\"Date\",\"formatter\":{\"id\":\"29795\"},\"major_label_orientation\":0.7853981633974483,\"minor_tick_in\":-5,\"minor_tick_out\":-3,\"ticker\":{\"id\":\"29674\"}},\"id\":\"29673\",\"type\":\"DatetimeAxis\"},{\"attributes\":{},\"id\":\"29774\",\"type\":\"Selection\"},{\"attributes\":{\"axis_label\":\"Date\",\"formatter\":{\"id\":\"29656\"},\"major_label_orientation\":0.7853981633974483,\"minor_tick_in\":-5,\"minor_tick_out\":-3,\"ticker\":{\"id\":\"29572\"}},\"id\":\"29571\",\"type\":\"DatetimeAxis\"},{\"attributes\":{},\"id\":\"29576\",\"type\":\"BasicTicker\"},{\"attributes\":{\"axis\":{\"id\":\"29673\"},\"ticker\":null},\"id\":\"29676\",\"type\":\"Grid\"},{\"attributes\":{\"num_minor_ticks\":5,\"tickers\":[{\"id\":\"29603\"},{\"id\":\"29604\"},{\"id\":\"29605\"},{\"id\":\"29606\"},{\"id\":\"29607\"},{\"id\":\"29608\"},{\"id\":\"29609\"},{\"id\":\"29610\"},{\"id\":\"29611\"},{\"id\":\"29612\"},{\"id\":\"29613\"},{\"id\":\"29614\"}]},\"id\":\"29572\",\"type\":\"DatetimeTicker\"},{\"attributes\":{\"axis\":{\"id\":\"29571\"},\"ticker\":null},\"id\":\"29574\",\"type\":\"Grid\"},{\"attributes\":{\"axis\":{\"id\":\"29677\"},\"dimension\":1,\"ticker\":null},\"id\":\"29680\",\"type\":\"Grid\"},{\"attributes\":{\"data\":{\"x\":{\"__ndarray__\":\"AACARzYJd0IAAECtiAl3QgAAABPbCXdCAADAeC0Kd0IAAIDefwp3QgAAQETSCndCAAAAqiQLd0IAAMAPdwt3QgAAgHXJC3dCAABA2xsMd0IAAABBbgx3QgAAwKbADHdCAACADBMNd0IAAEByZQ13QgAAANi3DXdCAADAPQoOd0IAAICjXA53QgAAQAmvDndCAAAAbwEPd0IAAMDUUw93QgAAgDqmD3dCAABAoPgPd0IAAAAGSxB3QgAAwGudEHdCAACA0e8Qd0IAAEA3QhF3QgAAAJ2UEXdCAADAAucRd0IAAIBoORJ3QgAAQM6LEndCAAAANN4Sd0IAAMCZMBN3QgAAgP+CE3dCAABAZdUTd0IAAADLJxR3QgAAwDB6FHdCAACAlswUd0IAAED8HhV3QgAAAGJxFXdCAADAx8MVd0IAAIAtFhZ3QgAAQJNoFndCAAAA+boWd0IAAMBeDRd3QgAAgMRfF3dCAABAKrIXd0IAAACQBBh3QgAAwPVWGHdCAACAW6kYd0IAAEDB+xh3QgAAACdOGXdCAADAjKAZd0IAAIDy8hl3QgAAQFhFGndCAAAAvpcad0IAAMAj6hp3QgAAgIk8G3dCAABA744bd0IAAABV4Rt3QgAAwLozHHdCAACAIIYcd0IAAECG2Bx3QgAAAOwqHXdCAADAUX0dd0IAAIC3zx13QgAAQB0iHndCAAAAg3Qed0IAAMDoxh53QgAAgE4ZH3dCAABAtGsfd0IAAAAavh93QgAAwH8QIHdCAACA5WIgd0IAAEBLtSB3QgAAALEHIXdCAADAFlohd0IAAIB8rCF3QgAAQOL+IXdCAAAASFEid0IAAMCtoyJ3QgAAgBP2IndCAABAeUgjd0IAAADfmiN3QgAAwETtI3dCAACAqj8kd0IAAEAQkiR3QgAAAHbkJHdCAADA2zYld0IAAIBBiSV3QgAAQKfbJXdCAAAADS4md0IAAMBygCZ3QgAAgNjSJndCAABAPiUnd0IAAACkdyd3QgAAwAnKJ3dCAACAbxwod0IAAEDVbih3QgAAADvBKHdCAADAoBMpd0IAAIAGZil3QgAAQGy4KXdCAAAA0goqd0IAAMA3XSp3QgAAgJ2vKndCAABAAwIrd0IAAABpVCt3QgAAwM6mK3dCAACANPkrd0IAAECaSyx3QgAAAACeLHdCAADAZfAsd0IAAIDLQi13QgAAQDGVLXdCAAAAl+ctd0IAAMD8OS53QgAAgGKMLndCAABAyN4ud0IAAAAuMS93QgAAwJODL3dCAACA+dUvd0I=\",\"dtype\":\"float64\",\"shape\":[121]},\"y\":[0.8606481598394683,0.9471173938556658,0.9360911279420753,0.9714690580202313,0.9878007496262176,0.9884028491325129,0.9737095608712864,0.950129573047173,0.9474586811076524,0.9666768419691317,0.9658577874885119,0.9724140849805707,0.9763897317383651,0.9834379682925372,0.9890235515610548,0.9924406618242618,0.989816741999947,0.9921702793313502,0.9937454318804336,0.9945507685487721,0.9957720823208889,0.9964565194119556,0.992972429394026,0.9912159179141088,0.990758065554159,0.9902870260138735,0.9873582845426842,0.9876274727514551,0.9855575962352924,0.9861611703161747,0.9860563306981559,0.9854629750783211,0.985418780114212,0.9856008321068747,0.9851952730138245,0.9833282330199984,0.9811142645991496,0.9800447585020177,0.9805734317474694,0.9815490832902357,0.9826117648897318,0.98367923585059,0.9841889379349255,0.9837222896530314,0.9831395008139059,0.9815460633282107,0.9806663783128649,0.980694863333348,0.9808726854803773,0.9810329377754993,0.9808918984127557,0.9811961160998607,0.9818480551570032,0.9826863064941808,0.9835138836865019,0.9841358137509889,0.9841789078633206,0.9836939231363766,0.9831376121102836,0.9825179613737066,0.9829079161791275,0.9829729695921392,0.9825046031593785,0.9816427493213683,0.9802331679101273,0.9789441087335161,0.979799959618488,0.9804583566733469,0.9808623878006852,0.9813851613404979,0.9814954845116408,0.9810371567380703,0.9804262518199361,0.9800013745173415,0.979502354520762,0.9794995183201429,0.9792978225698306,0.978873388710861,0.9782131164464811,0.9773431417511275,0.9765117443872783,0.9755649908022141,0.9745001848019995,0.9733352889282131,0.9719747662835253,0.9704247646097638,0.9690238111867877,0.9676952469672493,0.9666801744582063,0.9656393259166077,0.9647036535325406,0.9636622990059924,0.9623120358987169,0.9609008950662642,0.9592470063373569,0.9574160300507688,0.9556511259989501,0.9538203659941833,0.9518210779224072,0.9496803517919288,0.9477185274309496,0.9457510155615758,0.9438094298762447,0.9419719395532088,0.9402384461248768,0.9385456032380411,0.936718779687741,0.934957539813754,0.9331425907637588,0.9313179521274131,0.9295445617122824,0.9276625667092279,0.9256677990900561,0.923595319805072,0.9215805316656552]},\"selected\":{\"id\":\"30346\"},\"selection_policy\":{\"id\":\"30347\"}},\"id\":\"29790\",\"type\":\"ColumnDataSource\"},{\"attributes\":{\"axis_label\":\"R_squared\",\"formatter\":{\"id\":\"29797\"},\"minor_tick_in\":-5,\"minor_tick_out\":-3,\"ticker\":{\"id\":\"29678\"}},\"id\":\"29677\",\"type\":\"LinearAxis\"},{\"attributes\":{\"days\":[\"%d %B\"]},\"id\":\"29795\",\"type\":\"DatetimeTickFormatter\"},{\"attributes\":{\"axis\":{\"id\":\"29575\"},\"dimension\":1,\"ticker\":null},\"id\":\"29578\",\"type\":\"Grid\"},{\"attributes\":{\"text\":\"Max Total Cases - Logistic Fitting: Italy\"},\"id\":\"29802\",\"type\":\"Title\"},{\"attributes\":{\"axis_label\":\"Deaths & Recovered\",\"formatter\":{\"id\":\"29658\"},\"minor_tick_in\":-5,\"minor_tick_out\":-3,\"ticker\":{\"id\":\"29576\"}},\"id\":\"29575\",\"type\":\"LinearAxis\"},{\"attributes\":{\"data\":{\"x\":{\"__ndarray__\":\"AACARzYJd0IAAECtiAl3QgAAABPbCXdCAADAeC0Kd0IAAIDefwp3QgAAQETSCndCAAAAqiQLd0IAAMAPdwt3QgAAgHXJC3dCAABA2xsMd0IAAABBbgx3QgAAwKbADHdCAACADBMNd0IAAEByZQ13QgAAANi3DXdCAADAPQoOd0IAAICjXA53QgAAQAmvDndCAAAAbwEPd0IAAMDUUw93QgAAgDqmD3dCAABAoPgPd0IAAAAGSxB3QgAAwGudEHdCAACA0e8Qd0IAAEA3QhF3QgAAAJ2UEXdCAADAAucRd0IAAIBoORJ3QgAAQM6LEndCAAAANN4Sd0IAAMCZMBN3QgAAgP+CE3dCAABAZdUTd0IAAADLJxR3QgAAwDB6FHdCAACAlswUd0IAAED8HhV3QgAAAGJxFXdCAADAx8MVd0IAAIAtFhZ3QgAAQJNoFndCAAAA+boWd0IAAMBeDRd3QgAAgMRfF3dCAABAKrIXd0IAAACQBBh3QgAAwPVWGHdCAACAW6kYd0IAAEDB+xh3QgAAACdOGXdCAADAjKAZd0IAAIDy8hl3QgAAQFhFGndCAAAAvpcad0IAAMAj6hp3QgAAgIk8G3dCAABA744bd0IAAABV4Rt3QgAAwLozHHdCAACAIIYcd0IAAECG2Bx3QgAAAOwqHXdCAADAUX0dd0IAAIC3zx13QgAAQB0iHndCAAAAg3Qed0IAAMDoxh53QgAAgE4ZH3dCAABAtGsfd0IAAAAavh93QgAAwH8QIHdCAACA5WIgd0IAAEBLtSB3QgAAALEHIXdCAADAFlohd0IAAIB8rCF3QgAAQOL+IXdCAAAASFEid0IAAMCtoyJ3QgAAgBP2IndCAABAeUgjd0IAAADfmiN3QgAAwETtI3dCAACAqj8kd0IAAEAQkiR3QgAAAHbkJHdCAADA2zYld0IAAIBBiSV3QgAAQKfbJXdCAAAADS4md0IAAMBygCZ3QgAAgNjSJndCAABAPiUnd0IAAACkdyd3QgAAwAnKJ3dCAACAbxwod0IAAEDVbih3QgAAADvBKHdCAADAoBMpd0IAAIAGZil3QgAAQGy4KXdCAAAA0goqd0IAAMA3XSp3QgAAgJ2vKndCAABAAwIrd0IAAABpVCt3QgAAwM6mK3dCAACANPkrd0IAAECaSyx3QgAAAACeLHdCAADAZfAsd0IAAIDLQi13QgAAQDGVLXdCAAAAl+ctd0IAAMD8OS53QgAAgGKMLndCAABAyN4ud0IAAAAuMS93QgAAwJODL3dCAACA+dUvd0I=\",\"dtype\":\"float64\",\"shape\":[121]},\"y\":[0.9944315925511179,0.9898318473486883,0.9871737529160225,0.9879731207786646,0.9909413667306475,0.9915465082064858,0.9946223137354124,0.9967037909147167,0.9979386020865314,0.9934056192034189,0.9944759212851118,0.99592794927204,0.9961691617509991,0.9969301601706759,0.9971358976717425,0.9958902199710057,0.9941628915249575,0.9931255075470334,0.9933633510388306,0.994032100212956,0.994688474359967,0.9942027803878379,0.9922106418494722,0.9898164875978024,0.987197833918425,0.9853145617394674,0.9836046426669457,0.9819732775925107,0.9798470389854931,0.9766564879206877,0.9729539467769811,0.9696078326797823,0.9665104789691191,0.9636113947435441,0.9610596188506716,0.9585126958173368,0.9556308351154628,0.9522851555015911,0.9491538036081114,0.9464404471188844,0.9439487048383793,0.9420237466639323,0.940258800232746,0.9382296783763806,0.9359687894513932,0.933447173913058,0.9312433551574293,0.9291951107214425,0.92729667736873,0.9253753520687699,0.9231732416103402,0.9209547388156726,0.9189798622195995,0.9169730031158049,0.9150917132232076,0.9131160743539135,0.9110765084609139,0.9088212477657631,0.9065220214269978,0.9042067728939025,0.9018340114476103,0.8994612819721594,0.8970885321131469,0.8945857132675741,0.8919421368671772,0.8891542856798136,0.8863643767704429,0.8835768591867103,0.8807864010398864,0.8779416987522529,0.8749881786024294,0.8719376935045307,0.8689898101762707,0.8660095449268841,0.8630394684938316,0.8600376029800153,0.8570401188914588,0.8540065155215382,0.8508947024522553,0.8478118690058419,0.8447275988996619,0.8416449443222731,0.8385742203009493,0.8355259648526927,0.8324728271586163,0.8293683451529894,0.8262465535831918,0.8231585041949218,0.8201092523308423,0.8170837592756848,0.8140631580546553,0.8110388571050465,0.807977301797912,0.8049171443078778,0.8018636321406905,0.7987896809369919,0.7957742179589785,0.792764128256589,0.7897475926081354,0.786746272656691,0.7837633054925285,0.7807841531457058,0.7778481099427089,0.7749114666047064,0.7720142545885778,0.7691550857635778,0.7663268635910401,0.7635123450119147,0.7607363340920518,0.7579994108236128,0.7552092551793972,0.7524505518009303,0.7497159874139115,0.7470056992780088,0.7443000682032053]},\"selected\":{\"id\":\"29735\"},\"selection_policy\":{\"id\":\"29736\"}},\"id\":\"29695\",\"type\":\"ColumnDataSource\"},{\"attributes\":{\"fill_color\":{\"value\":\"white\"},\"line_color\":{\"value\":\"green\"},\"size\":{\"units\":\"screen\",\"value\":5},\"x\":{\"field\":\"x\"},\"y\":{\"field\":\"y\"}},\"id\":\"29791\",\"type\":\"Circle\"},{\"attributes\":{\"label\":{\"value\":\"total cases max UP\"},\"renderers\":[{\"id\":\"29837\"}]},\"id\":\"29858\",\"type\":\"LegendItem\"},{\"attributes\":{\"data\":{\"x\":{\"__ndarray__\":\"AAAA5UcHd0IAAMBKmgd3QgAAgLDsB3dCAABAFj8Id0IAAAB8kQh3QgAAwOHjCHdCAACARzYJd0IAAECtiAl3QgAAABPbCXdCAADAeC0Kd0IAAIDefwp3QgAAQETSCndCAAAAqiQLd0IAAMAPdwt3QgAAgHXJC3dCAABA2xsMd0IAAABBbgx3QgAAwKbADHdCAACADBMNd0IAAEByZQ13QgAAANi3DXdCAADAPQoOd0IAAICjXA53QgAAQAmvDndCAAAAbwEPd0IAAMDUUw93QgAAgDqmD3dCAABAoPgPd0IAAAAGSxB3QgAAwGudEHdCAACA0e8Qd0IAAEA3QhF3QgAAAJ2UEXdCAADAAucRd0IAAIBoORJ3QgAAQM6LEndCAAAANN4Sd0IAAMCZMBN3QgAAgP+CE3dCAABAZdUTd0IAAADLJxR3QgAAwDB6FHdCAACAlswUd0IAAED8HhV3QgAAAGJxFXdCAADAx8MVd0IAAIAtFhZ3QgAAQJNoFndCAAAA+boWd0IAAMBeDRd3QgAAgMRfF3dCAABAKrIXd0IAAACQBBh3QgAAwPVWGHdCAACAW6kYd0IAAEDB+xh3QgAAACdOGXdCAADAjKAZd0IAAIDy8hl3QgAAQFhFGndCAAAAvpcad0IAAMAj6hp3QgAAgIk8G3dCAABA744bd0IAAABV4Rt3QgAAwLozHHdCAACAIIYcd0IAAECG2Bx3QgAAAOwqHXdCAADAUX0dd0IAAIC3zx13QgAAQB0iHndCAAAAg3Qed0IAAMDoxh53QgAAgE4ZH3dCAABAtGsfd0IAAAAavh93QgAAwH8QIHdCAACA5WIgd0IAAEBLtSB3QgAAALEHIXdCAADAFlohd0IAAIB8rCF3QgAAQOL+IXdCAAAASFEid0IAAMCtoyJ3QgAAgBP2IndCAABAeUgjd0IAAADfmiN3QgAAwETtI3dCAACAqj8kd0IAAEAQkiR3QgAAAHbkJHdCAADA2zYld0IAAIBBiSV3QgAAQKfbJXdCAAAADS4md0IAAMBygCZ3QgAAgNjSJndCAABAPiUnd0IAAACkdyd3QgAAwAnKJ3dCAACAbxwod0IAAEDVbih3QgAAADvBKHdCAADAoBMpd0IAAIAGZil3QgAAQGy4KXdCAAAA0goqd0IAAMA3XSp3QgAAgJ2vKndCAABAAwIrd0IAAABpVCt3QgAAwM6mK3dCAACANPkrd0IAAECaSyx3QgAAAACeLHdCAADAZfAsd0IAAIDLQi13QgAAQDGVLXdCAAAAl+ctd0I=\",\"dtype\":\"float64\",\"shape\":[121]},\"y\":[7,10,12,17,21,29,34,52,79,107,148,197,233,366,463,631,827,1016,1266,1441,1809,2158,2503,2978,3405,4032,4825,5476,6077,6820,7503,8165,9134,10023,10779,11591,12428,13155,13915,14681,15362,15887,16523,17127,17669,18279,18849,19468,19899,20465,21067,21645,22170,22745,23227,23660,24114,24648,25085,25549,25969,26384,26644,26977,27359,27682,27967,28236,28710,28884,29079,29315,29684,29958,30201,30395,30560,30739,30911,31106,31368,31610,31763,31908,32007,32169,32330,32486,32616,32735,32785,32877,32955,33072,33142,33229,33340,33415,33475,33530,33601,33689,33774,33846,33899,33964,34043,34114,34167,34223,34301,34345,34371,34405,34448,34514,34561,34610,34634,34657,34675]},\"selected\":{\"id\":\"29633\"},\"selection_policy\":{\"id\":\"29634\"}},\"id\":\"29593\",\"type\":\"ColumnDataSource\"},{\"attributes\":{\"line_color\":\"darkviolet\",\"line_width\":4,\"x\":{\"field\":\"x\"},\"y\":{\"field\":\"y\"}},\"id\":\"29726\",\"type\":\"Line\"},{\"attributes\":{\"callback\":null,\"formatters\":{\"@x\":\"datetime\"},\"mode\":\"vline\",\"tooltips\":[[\"date\",\"@x{%d %B}\"],[\"R_squared_cases/deaths/guariti\",\"@y{0[.]000}\"]]},\"id\":\"29799\",\"type\":\"HoverTool\"},{\"attributes\":{\"data_source\":{\"id\":\"29695\"},\"glyph\":{\"id\":\"29696\"},\"hover_glyph\":null,\"muted_glyph\":null,\"nonselection_glyph\":{\"id\":\"29697\"},\"selection_glyph\":null,\"view\":{\"id\":\"29699\"}},\"id\":\"29698\",\"type\":\"GlyphRenderer\"},{\"attributes\":{\"data_source\":{\"id\":\"29593\"},\"glyph\":{\"id\":\"29594\"},\"hover_glyph\":null,\"muted_glyph\":null,\"nonselection_glyph\":{\"id\":\"29595\"},\"selection_glyph\":null,\"view\":{\"id\":\"29597\"}},\"id\":\"29596\",\"type\":\"GlyphRenderer\"},{\"attributes\":{\"line_alpha\":0.1,\"line_color\":\"blue\",\"line_width\":4,\"x\":{\"field\":\"x\"},\"y\":{\"field\":\"y\"}},\"id\":\"29697\",\"type\":\"Line\"},{\"attributes\":{\"fill_alpha\":{\"value\":0.1},\"fill_color\":{\"value\":\"white\"},\"line_alpha\":{\"value\":0.1},\"line_color\":{\"value\":\"green\"},\"size\":{\"units\":\"screen\",\"value\":5},\"x\":{\"field\":\"x\"},\"y\":{\"field\":\"y\"}},\"id\":\"29792\",\"type\":\"Circle\"},{\"attributes\":{\"source\":{\"id\":\"29593\"}},\"id\":\"29597\",\"type\":\"CDSView\"},{\"attributes\":{\"line_color\":\"blue\",\"line_width\":4,\"x\":{\"field\":\"x\"},\"y\":{\"field\":\"y\"}},\"id\":\"29696\",\"type\":\"Line\"},{\"attributes\":{\"source\":{\"id\":\"29790\"}},\"id\":\"29794\",\"type\":\"CDSView\"},{\"attributes\":{\"fill_alpha\":{\"value\":0.1},\"fill_color\":{\"value\":\"white\"},\"line_alpha\":{\"value\":0.1},\"line_color\":{\"value\":\"blue\"},\"size\":{\"units\":\"screen\",\"value\":5},\"x\":{\"field\":\"x\"},\"y\":{\"field\":\"y\"}},\"id\":\"29722\",\"type\":\"Circle\"},{\"attributes\":{},\"id\":\"29681\",\"type\":\"PanTool\"},{\"attributes\":{\"line_color\":\"darkviolet\",\"line_width\":4,\"x\":{\"field\":\"x\"},\"y\":{\"field\":\"y\"}},\"id\":\"29594\",\"type\":\"Line\"},{\"attributes\":{\"line_color\":\"lightcoral\",\"line_width\":4,\"x\":{\"field\":\"x\"},\"y\":{\"field\":\"y\"}},\"id\":\"29835\",\"type\":\"Line\"},{\"attributes\":{},\"id\":\"29579\",\"type\":\"PanTool\"},{\"attributes\":{},\"id\":\"29682\",\"type\":\"WheelZoomTool\"},{\"attributes\":{},\"id\":\"29580\",\"type\":\"WheelZoomTool\"},{\"attributes\":{\"overlay\":{\"id\":\"29687\"}},\"id\":\"29683\",\"type\":\"BoxZoomTool\"},{\"attributes\":{\"use_scientific\":false},\"id\":\"29797\",\"type\":\"BasicTickFormatter\"},{\"attributes\":{\"overlay\":{\"id\":\"29585\"}},\"id\":\"29581\",\"type\":\"BoxZoomTool\"},{\"attributes\":{},\"id\":\"29684\",\"type\":\"SaveTool\"},{\"attributes\":{},\"id\":\"29582\",\"type\":\"SaveTool\"},{\"attributes\":{},\"id\":\"29685\",\"type\":\"ResetTool\"},{\"attributes\":{\"below\":[{\"id\":\"29951\"}],\"center\":[{\"id\":\"29954\"},{\"id\":\"29958\"},{\"id\":\"29996\"}],\"left\":[{\"id\":\"29955\"}],\"plot_height\":350,\"plot_width\":470,\"renderers\":[{\"id\":\"29976\"},{\"id\":\"30001\"},{\"id\":\"30006\"},{\"id\":\"30034\"},{\"id\":\"30039\"},{\"id\":\"30071\"}],\"title\":{\"id\":\"29941\"},\"toolbar\":{\"id\":\"29966\"},\"toolbar_location\":null,\"x_range\":{\"id\":\"29943\"},\"x_scale\":{\"id\":\"29947\"},\"y_range\":{\"id\":\"29945\"},\"y_scale\":{\"id\":\"29949\"}},\"id\":\"29940\",\"subtype\":\"Figure\",\"type\":\"Plot\"},{\"attributes\":{},\"id\":\"29583\",\"type\":\"ResetTool\"},{\"attributes\":{\"end\":300000},\"id\":\"29806\",\"type\":\"Range1d\"},{\"attributes\":{},\"id\":\"29686\",\"type\":\"HelpTool\"},{\"attributes\":{},\"id\":\"29804\",\"type\":\"DataRange1d\"},{\"attributes\":{\"fill_alpha\":{\"value\":0.1},\"fill_color\":{\"value\":\"white\"},\"line_alpha\":{\"value\":0.1},\"line_color\":{\"value\":\"darkviolet\"},\"size\":{\"units\":\"screen\",\"value\":5},\"x\":{\"field\":\"x\"},\"y\":{\"field\":\"y\"}},\"id\":\"30070\",\"type\":\"Circle\"},{\"attributes\":{\"base\":24,\"mantissas\":[1,2,4,6,8,12],\"max_interval\":43200000.0,\"min_interval\":3600000.0,\"num_minor_ticks\":0},\"id\":\"30124\",\"type\":\"AdaptiveTicker\"},{\"attributes\":{\"source\":{\"id\":\"30068\"}},\"id\":\"30072\",\"type\":\"CDSView\"},{\"attributes\":{\"days\":[1,8,15,22]},\"id\":\"29710\",\"type\":\"DaysTicker\"},{\"attributes\":{\"base\":60,\"mantissas\":[1,2,5,10,15,20,30],\"max_interval\":1800000.0,\"min_interval\":1000.0,\"num_minor_ticks\":0},\"id\":\"30123\",\"type\":\"AdaptiveTicker\"},{\"attributes\":{},\"id\":\"30376\",\"type\":\"UnionRenderers\"},{\"attributes\":{},\"id\":\"30453\",\"type\":\"UnionRenderers\"},{\"attributes\":{\"base\":24,\"mantissas\":[1,2,4,6,8,12],\"max_interval\":43200000.0,\"min_interval\":3600000.0,\"num_minor_ticks\":0},\"id\":\"29707\",\"type\":\"AdaptiveTicker\"},{\"attributes\":{\"callback\":null,\"formatters\":{\"@x\":\"datetime\"},\"mode\":\"vline\",\"tooltips\":[[\"date\",\"@x{%d %B}\"],[\"total deaths max/UP/DOWN\",\"@y{0[.]000}\"]]},\"id\":\"30077\",\"type\":\"HoverTool\"},{\"attributes\":{\"days\":[1,15]},\"id\":\"29711\",\"type\":\"DaysTicker\"},{\"attributes\":{\"days\":[1,4,7,10,13,16,19,22,25,28]},\"id\":\"29709\",\"type\":\"DaysTicker\"},{\"attributes\":{\"data_source\":{\"id\":\"30068\"},\"glyph\":{\"id\":\"30069\"},\"hover_glyph\":null,\"muted_glyph\":null,\"nonselection_glyph\":{\"id\":\"30070\"},\"selection_glyph\":null,\"view\":{\"id\":\"30072\"}},\"id\":\"30071\",\"type\":\"GlyphRenderer\"},{\"attributes\":{\"items\":[{\"id\":\"30136\"},{\"id\":\"30169\"}]},\"id\":\"30135\",\"type\":\"Legend\"},{\"attributes\":{\"days\":[1,2,3,4,5,6,7,8,9,10,11,12,13,14,15,16,17,18,19,20,21,22,23,24,25,26,27,28,29,30,31]},\"id\":\"29708\",\"type\":\"DaysTicker\"},{\"attributes\":{},\"id\":\"30430\",\"type\":\"UnionRenderers\"},{\"attributes\":{\"days\":[\"%d %B\"]},\"id\":\"30073\",\"type\":\"DatetimeTickFormatter\"},{\"attributes\":{\"mantissas\":[1,2,5],\"max_interval\":500.0,\"num_minor_ticks\":0},\"id\":\"30122\",\"type\":\"AdaptiveTicker\"},{\"attributes\":{\"use_scientific\":false},\"id\":\"30075\",\"type\":\"BasicTickFormatter\"},{\"attributes\":{\"source\":{\"id\":\"30137\"}},\"id\":\"30141\",\"type\":\"CDSView\"},{\"attributes\":{\"base\":60,\"mantissas\":[1,2,5,10,15,20,30],\"max_interval\":1800000.0,\"min_interval\":1000.0,\"num_minor_ticks\":0},\"id\":\"29706\",\"type\":\"AdaptiveTicker\"},{\"attributes\":{\"bottom_units\":\"screen\",\"fill_alpha\":0.5,\"fill_color\":\"lightgrey\",\"left_units\":\"screen\",\"level\":\"overlay\",\"line_alpha\":1.0,\"line_color\":\"black\",\"line_dash\":[4,4],\"line_width\":2,\"render_mode\":\"css\",\"right_units\":\"screen\",\"top_units\":\"screen\"},\"id\":\"30104\",\"type\":\"BoxAnnotation\"},{\"attributes\":{},\"id\":\"30428\",\"type\":\"UnionRenderers\"},{\"attributes\":{\"bottom_units\":\"screen\",\"fill_alpha\":0.5,\"fill_color\":\"lightgrey\",\"left_units\":\"screen\",\"level\":\"overlay\",\"line_alpha\":1.0,\"line_color\":\"black\",\"line_dash\":[4,4],\"line_width\":2,\"render_mode\":\"css\",\"right_units\":\"screen\",\"top_units\":\"screen\"},\"id\":\"29687\",\"type\":\"BoxAnnotation\"},{\"attributes\":{\"source\":{\"id\":\"30112\"}},\"id\":\"30116\",\"type\":\"CDSView\"},{\"attributes\":{},\"id\":\"30429\",\"type\":\"Selection\"},{\"attributes\":{\"below\":[{\"id\":\"30192\"}],\"center\":[{\"id\":\"30195\"},{\"id\":\"30199\"},{\"id\":\"30237\"}],\"left\":[{\"id\":\"30196\"}],\"plot_height\":350,\"plot_width\":470,\"renderers\":[{\"id\":\"30217\"},{\"id\":\"30242\"},{\"id\":\"30247\"},{\"id\":\"30275\"}],\"title\":{\"id\":\"30182\"},\"toolbar\":{\"id\":\"30207\"},\"toolbar_location\":null,\"x_range\":{\"id\":\"30184\"},\"x_scale\":{\"id\":\"30188\"},\"y_range\":{\"id\":\"30186\"},\"y_scale\":{\"id\":\"30190\"}},\"id\":\"30181\",\"subtype\":\"Figure\",\"type\":\"Plot\"},{\"attributes\":{\"days\":[1,2,3,4,5,6,7,8,9,10,11,12,13,14,15,16,17,18,19,20,21,22,23,24,25,26,27,28,29,30,31]},\"id\":\"30125\",\"type\":\"DaysTicker\"},{\"attributes\":{\"active_drag\":\"auto\",\"active_inspect\":\"auto\",\"active_multi\":null,\"active_scroll\":\"auto\",\"active_tap\":\"auto\",\"tools\":[{\"id\":\"29681\"},{\"id\":\"29682\"},{\"id\":\"29683\"},{\"id\":\"29684\"},{\"id\":\"29685\"},{\"id\":\"29686\"},{\"id\":\"29799\"}]},\"id\":\"29688\",\"type\":\"Toolbar\"},{\"attributes\":{\"text\":\"New Positive - Gamma Distribution Fitting: Italy\"},\"id\":\"30080\",\"type\":\"Title\"},{\"attributes\":{\"source\":{\"id\":\"29695\"}},\"id\":\"29699\",\"type\":\"CDSView\"},{\"attributes\":{},\"id\":\"30455\",\"type\":\"UnionRenderers\"},{\"attributes\":{},\"id\":\"30082\",\"type\":\"DataRange1d\"},{\"attributes\":{\"days\":[1,4,7,10,13,16,19,22,25,28]},\"id\":\"30126\",\"type\":\"DaysTicker\"},{\"attributes\":{\"mantissas\":[1,2,5],\"max_interval\":500.0,\"num_minor_ticks\":0},\"id\":\"29705\",\"type\":\"AdaptiveTicker\"},{\"attributes\":{\"days\":[1,8,15,22]},\"id\":\"30127\",\"type\":\"DaysTicker\"},{\"attributes\":{\"days\":[1,15]},\"id\":\"30128\",\"type\":\"DaysTicker\"},{\"attributes\":{},\"id\":\"30084\",\"type\":\"DataRange1d\"},{\"attributes\":{\"source\":{\"id\":\"29725\"}},\"id\":\"29729\",\"type\":\"CDSView\"},{\"attributes\":{},\"id\":\"30190\",\"type\":\"LinearScale\"},{\"attributes\":{\"months\":[0,1,2,3,4,5,6,7,8,9,10,11]},\"id\":\"30129\",\"type\":\"MonthsTicker\"},{\"attributes\":{\"items\":[{\"id\":\"29719\"},{\"id\":\"29752\"},{\"id\":\"29789\"}],\"location\":\"bottom_left\"},\"id\":\"29718\",\"type\":\"Legend\"},{\"attributes\":{},\"id\":\"30452\",\"type\":\"Selection\"},{\"attributes\":{},\"id\":\"30086\",\"type\":\"LinearScale\"},{\"attributes\":{\"months\":[0,2,4,6,8,10]},\"id\":\"30130\",\"type\":\"MonthsTicker\"},{\"attributes\":{},\"id\":\"30088\",\"type\":\"LinearScale\"},{\"attributes\":{},\"id\":\"30188\",\"type\":\"LinearScale\"},{\"attributes\":{\"months\":[0,4,8]},\"id\":\"30131\",\"type\":\"MonthsTicker\"},{\"attributes\":{\"axis_label\":\"Date\",\"formatter\":{\"id\":\"30175\"},\"major_label_orientation\":0.7853981633974483,\"minor_tick_in\":-5,\"minor_tick_out\":-3,\"ticker\":{\"id\":\"30091\"}},\"id\":\"30090\",\"type\":\"DatetimeAxis\"},{\"attributes\":{},\"id\":\"30095\",\"type\":\"BasicTicker\"},{\"attributes\":{\"months\":[0,6]},\"id\":\"30132\",\"type\":\"MonthsTicker\"},{\"attributes\":{\"num_minor_ticks\":5,\"tickers\":[{\"id\":\"30122\"},{\"id\":\"30123\"},{\"id\":\"30124\"},{\"id\":\"30125\"},{\"id\":\"30126\"},{\"id\":\"30127\"},{\"id\":\"30128\"},{\"id\":\"30129\"},{\"id\":\"30130\"},{\"id\":\"30131\"},{\"id\":\"30132\"},{\"id\":\"30133\"}]},\"id\":\"30091\",\"type\":\"DatetimeTicker\"},{\"attributes\":{\"months\":[0,1,2,3,4,5,6,7,8,9,10,11]},\"id\":\"29712\",\"type\":\"MonthsTicker\"},{\"attributes\":{},\"id\":\"30454\",\"type\":\"Selection\"},{\"attributes\":{},\"id\":\"30345\",\"type\":\"UnionRenderers\"},{\"attributes\":{},\"id\":\"30133\",\"type\":\"YearsTicker\"},{\"attributes\":{\"axis\":{\"id\":\"30090\"},\"ticker\":null},\"id\":\"30093\",\"type\":\"Grid\"},{\"attributes\":{\"label\":{\"value\":\"new positive\"},\"renderers\":[{\"id\":\"30115\"}]},\"id\":\"30136\",\"type\":\"LegendItem\"},{\"attributes\":{\"months\":[0,2,4,6,8,10]},\"id\":\"29713\",\"type\":\"MonthsTicker\"},{\"attributes\":{\"data\":{\"x\":{\"__ndarray__\":\"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\",\"dtype\":\"float64\",\"shape\":[242]},\"y\":{\"__ndarray__\":\"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\",\"dtype\":\"float64\",\"shape\":[242]}},\"selected\":{\"id\":\"30427\"},\"selection_policy\":{\"id\":\"30428\"}},\"id\":\"30142\",\"type\":\"ColumnDataSource\"},{\"attributes\":{\"days\":[1,4,7,10,13,16,19,22,25,28]},\"id\":\"29505\",\"type\":\"DaysTicker\"},{\"attributes\":{\"axis\":{\"id\":\"30094\"},\"dimension\":1,\"ticker\":null},\"id\":\"30097\",\"type\":\"Grid\"},{\"attributes\":{\"months\":[0,4,8]},\"id\":\"29714\",\"type\":\"MonthsTicker\"},{\"attributes\":{\"axis_label\":\"New Positive\",\"formatter\":{\"id\":\"30177\"},\"minor_tick_in\":-5,\"minor_tick_out\":-3,\"ticker\":{\"id\":\"30095\"}},\"id\":\"30094\",\"type\":\"LinearAxis\"},{\"attributes\":{\"data\":{\"x\":{\"__ndarray__\":\"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\",\"dtype\":\"float64\",\"shape\":[242]},\"y\":[221,93,78,250,238,240,566,342,466,587,769,778,1247,1492,1797,977,2313,2651,2547,3497,3590,3233,3526,4207,5322,5986,6557,5560,4789,5249,5210,6153,5959,5974,5217,4050,4053,4782,4668,4585,4805,4316,3599,3039,3836,4204,3951,4694,4092,3153,2972,2667,3786,3493,3491,3047,2256,2729,3370,2646,3021,2357,2324,1739,2091,2086,1872,1965,1900,1389,1221,1075,1444,1401,1327,1083,802,744,1402,888,992,789,875,675,451,813,665,642,652,669,531,300,397,584,593,516,416,355,178,318,321,177,518,270,197,280,283,202,379,163,346,338,303,210,329,333,251,262,224,218,122]},\"selected\":{\"id\":\"30154\"},\"selection_policy\":{\"id\":\"30155\"}},\"id\":\"30137\",\"type\":\"ColumnDataSource\"},{\"attributes\":{},\"id\":\"30292\",\"type\":\"Selection\"},{\"attributes\":{\"months\":[0,6]},\"id\":\"29715\",\"type\":\"MonthsTicker\"},{\"attributes\":{},\"id\":\"30152\",\"type\":\"Selection\"},{\"attributes\":{\"data\":{\"x\":{\"__ndarray__\":\"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\",\"dtype\":\"float64\",\"shape\":[242]},\"y\":[221,93,78,250,238,240,566,342,466,587,769,778,1247,1492,1797,977,2313,2651,2547,3497,3590,3233,3526,4207,5322,5986,6557,5560,4789,5249,5210,6153,5959,5974,5217,4050,4053,4782,4668,4585,4805,4316,3599,3039,3836,4204,3951,4694,4092,3153,2972,2667,3786,3493,3491,3047,2256,2729,3370,2646,3021,2357,2324,1739,2091,2086,1872,1965,1900,1389,1221,1075,1444,1401,1327,1083,802,744,1402,888,992,789,875,675,451,813,665,642,652,669,531,300,397,584,593,516,416,355,178,318,321,177,518,270,197,280,283,202,379,163,346,338,303,210,329,333,251,262,224,218,122]},\"selected\":{\"id\":\"30152\"},\"selection_policy\":{\"id\":\"30153\"}},\"id\":\"30112\",\"type\":\"ColumnDataSource\"},{\"attributes\":{},\"id\":\"30374\",\"type\":\"UnionRenderers\"},{\"attributes\":{},\"id\":\"29716\",\"type\":\"YearsTicker\"},{\"attributes\":{\"label\":{\"value\":\"R_squared_cases\"},\"renderers\":[{\"id\":\"29698\"}]},\"id\":\"29719\",\"type\":\"LegendItem\"},{\"attributes\":{\"fill_alpha\":{\"value\":0.1},\"fill_color\":{\"value\":\"white\"},\"line_alpha\":{\"value\":0.1},\"line_color\":{\"value\":\"blue\"},\"size\":{\"units\":\"screen\",\"value\":5},\"x\":{\"field\":\"x\"},\"y\":{\"field\":\"y\"}},\"id\":\"30139\",\"type\":\"Circle\"},{\"attributes\":{\"fill_color\":{\"value\":\"white\"},\"line_color\":{\"value\":\"blue\"},\"size\":{\"units\":\"screen\",\"value\":5},\"x\":{\"field\":\"x\"},\"y\":{\"field\":\"y\"}},\"id\":\"30138\",\"type\":\"Circle\"},{\"attributes\":{\"label\":{\"value\":\"total positive\"},\"renderers\":[{\"id\":\"29524\"}]},\"id\":\"29548\",\"type\":\"LegendItem\"},{\"attributes\":{\"line_color\":\"lightcoral\",\"line_width\":4,\"x\":{\"field\":\"x\"},\"y\":{\"field\":\"y\"}},\"id\":\"30143\",\"type\":\"Line\"},{\"attributes\":{},\"id\":\"30293\",\"type\":\"UnionRenderers\"},{\"attributes\":{},\"id\":\"30316\",\"type\":\"UnionRenderers\"},{\"attributes\":{\"active_drag\":\"auto\",\"active_inspect\":\"auto\",\"active_multi\":null,\"active_scroll\":\"auto\",\"active_tap\":\"auto\",\"tools\":[{\"id\":\"30098\"},{\"id\":\"30099\"},{\"id\":\"30100\"},{\"id\":\"30101\"},{\"id\":\"30102\"},{\"id\":\"30103\"},{\"id\":\"30179\"}]},\"id\":\"30105\",\"type\":\"Toolbar\"},{\"attributes\":{\"data\":{\"x\":{\"__ndarray__\":\"AACARzYJd0IAAECtiAl3QgAAABPbCXdCAADAeC0Kd0IAAIDefwp3QgAAQETSCndCAAAAqiQLd0IAAMAPdwt3QgAAgHXJC3dCAABA2xsMd0IAAABBbgx3QgAAwKbADHdCAACADBMNd0IAAEByZQ13QgAAANi3DXdCAADAPQoOd0IAAICjXA53QgAAQAmvDndCAAAAbwEPd0IAAMDUUw93QgAAgDqmD3dCAABAoPgPd0IAAAAGSxB3QgAAwGudEHdCAACA0e8Qd0IAAEA3QhF3QgAAAJ2UEXdCAADAAucRd0IAAIBoORJ3QgAAQM6LEndCAAAANN4Sd0IAAMCZMBN3QgAAgP+CE3dCAABAZdUTd0IAAADLJxR3QgAAwDB6FHdCAACAlswUd0IAAED8HhV3QgAAAGJxFXdCAADAx8MVd0IAAIAtFhZ3QgAAQJNoFndCAAAA+boWd0IAAMBeDRd3QgAAgMRfF3dCAABAKrIXd0IAAACQBBh3QgAAwPVWGHdCAACAW6kYd0IAAEDB+xh3QgAAACdOGXdCAADAjKAZd0IAAIDy8hl3QgAAQFhFGndCAAAAvpcad0IAAMAj6hp3QgAAgIk8G3dCAABA744bd0IAAABV4Rt3QgAAwLozHHdCAACAIIYcd0IAAECG2Bx3QgAAAOwqHXdCAADAUX0dd0IAAIC3zx13QgAAQB0iHndCAAAAg3Qed0IAAMDoxh53QgAAgE4ZH3dCAABAtGsfd0IAAAAavh93QgAAwH8QIHdCAACA5WIgd0IAAEBLtSB3QgAAALEHIXdCAADAFlohd0IAAIB8rCF3QgAAQOL+IXdCAAAASFEid0IAAMCtoyJ3QgAAgBP2IndCAABAeUgjd0IAAADfmiN3QgAAwETtI3dCAACAqj8kd0IAAEAQkiR3QgAAAHbkJHdCAADA2zYld0IAAIBBiSV3QgAAQKfbJXdCAAAADS4md0IAAMBygCZ3QgAAgNjSJndCAABAPiUnd0IAAACkdyd3QgAAwAnKJ3dCAACAbxwod0IAAEDVbih3QgAAADvBKHdCAADAoBMpd0IAAIAGZil3QgAAQGy4KXdCAAAA0goqd0IAAMA3XSp3QgAAgJ2vKndCAABAAwIrd0IAAABpVCt3QgAAwM6mK3dCAACANPkrd0IAAECaSyx3QgAAAACeLHdCAADAZfAsd0IAAIDLQi13QgAAQDGVLXdCAAAAl+ctd0IAAMD8OS53QgAAgGKMLndCAABAyN4ud0IAAAAuMS93QgAAwJODL3dCAACA+dUvd0I=\",\"dtype\":\"float64\",\"shape\":[121]},\"y\":[0.9944315925511179,0.9898318473486883,0.9871737529160225,0.9879731207786646,0.9909413667306475,0.9915465082064858,0.9946223137354124,0.9967037909147167,0.9979386020865314,0.9934056192034189,0.9944759212851118,0.99592794927204,0.9961691617509991,0.9969301601706759,0.9971358976717425,0.9958902199710057,0.9941628915249575,0.9931255075470334,0.9933633510388306,0.994032100212956,0.994688474359967,0.9942027803878379,0.9922106418494722,0.9898164875978024,0.987197833918425,0.9853145617394674,0.9836046426669457,0.9819732775925107,0.9798470389854931,0.9766564879206877,0.9729539467769811,0.9696078326797823,0.9665104789691191,0.9636113947435441,0.9610596188506716,0.9585126958173368,0.9556308351154628,0.9522851555015911,0.9491538036081114,0.9464404471188844,0.9439487048383793,0.9420237466639323,0.940258800232746,0.9382296783763806,0.9359687894513932,0.933447173913058,0.9312433551574293,0.9291951107214425,0.92729667736873,0.9253753520687699,0.9231732416103402,0.9209547388156726,0.9189798622195995,0.9169730031158049,0.9150917132232076,0.9131160743539135,0.9110765084609139,0.9088212477657631,0.9065220214269978,0.9042067728939025,0.9018340114476103,0.8994612819721594,0.8970885321131469,0.8945857132675741,0.8919421368671772,0.8891542856798136,0.8863643767704429,0.8835768591867103,0.8807864010398864,0.8779416987522529,0.8749881786024294,0.8719376935045307,0.8689898101762707,0.8660095449268841,0.8630394684938316,0.8600376029800153,0.8570401188914588,0.8540065155215382,0.8508947024522553,0.8478118690058419,0.8447275988996619,0.8416449443222731,0.8385742203009493,0.8355259648526927,0.8324728271586163,0.8293683451529894,0.8262465535831918,0.8231585041949218,0.8201092523308423,0.8170837592756848,0.8140631580546553,0.8110388571050465,0.807977301797912,0.8049171443078778,0.8018636321406905,0.7987896809369919,0.7957742179589785,0.792764128256589,0.7897475926081354,0.786746272656691,0.7837633054925285,0.7807841531457058,0.7778481099427089,0.7749114666047064,0.7720142545885778,0.7691550857635778,0.7663268635910401,0.7635123450119147,0.7607363340920518,0.7579994108236128,0.7552092551793972,0.7524505518009303,0.7497159874139115,0.7470056992780088,0.7443000682032053]},\"selected\":{\"id\":\"29737\"},\"selection_policy\":{\"id\":\"29738\"}},\"id\":\"29720\",\"type\":\"ColumnDataSource\"},{\"attributes\":{},\"id\":\"30346\",\"type\":\"Selection\"},{\"attributes\":{\"base\":24,\"mantissas\":[1,2,4,6,8,12],\"max_interval\":43200000.0,\"min_interval\":3600000.0,\"num_minor_ticks\":0},\"id\":\"30226\",\"type\":\"AdaptiveTicker\"},{\"attributes\":{\"data_source\":{\"id\":\"30112\"},\"glyph\":{\"id\":\"30113\"},\"hover_glyph\":null,\"muted_glyph\":null,\"nonselection_glyph\":{\"id\":\"30114\"},\"selection_glyph\":null,\"view\":{\"id\":\"30116\"}},\"id\":\"30115\",\"type\":\"GlyphRenderer\"},{\"attributes\":{\"data_source\":{\"id\":\"30137\"},\"glyph\":{\"id\":\"30138\"},\"hover_glyph\":null,\"muted_glyph\":null,\"nonselection_glyph\":{\"id\":\"30139\"},\"selection_glyph\":null,\"view\":{\"id\":\"30141\"}},\"id\":\"30140\",\"type\":\"GlyphRenderer\"},{\"attributes\":{\"data\":{\"x\":{\"__ndarray__\":\"AACARzYJd0IAAECtiAl3QgAAABPbCXdCAADAeC0Kd0IAAIDefwp3QgAAQETSCndCAAAAqiQLd0IAAMAPdwt3QgAAgHXJC3dCAABA2xsMd0IAAABBbgx3QgAAwKbADHdCAACADBMNd0IAAEByZQ13QgAAANi3DXdCAADAPQoOd0IAAICjXA53QgAAQAmvDndCAAAAbwEPd0IAAMDUUw93QgAAgDqmD3dCAABAoPgPd0IAAAAGSxB3QgAAwGudEHdCAACA0e8Qd0IAAEA3QhF3QgAAAJ2UEXdCAADAAucRd0IAAIBoORJ3QgAAQM6LEndCAAAANN4Sd0IAAMCZMBN3QgAAgP+CE3dCAABAZdUTd0IAAADLJxR3QgAAwDB6FHdCAACAlswUd0IAAED8HhV3QgAAAGJxFXdCAADAx8MVd0IAAIAtFhZ3QgAAQJNoFndCAAAA+boWd0IAAMBeDRd3QgAAgMRfF3dCAABAKrIXd0IAAACQBBh3QgAAwPVWGHdCAACAW6kYd0IAAEDB+xh3QgAAACdOGXdCAADAjKAZd0IAAIDy8hl3QgAAQFhFGndCAAAAvpcad0IAAMAj6hp3QgAAgIk8G3dCAABA744bd0IAAABV4Rt3QgAAwLozHHdCAACAIIYcd0IAAECG2Bx3QgAAAOwqHXdCAADAUX0dd0IAAIC3zx13QgAAQB0iHndCAAAAg3Qed0IAAMDoxh53QgAAgE4ZH3dCAABAtGsfd0IAAAAavh93QgAAwH8QIHdCAACA5WIgd0IAAEBLtSB3QgAAALEHIXdCAADAFlohd0IAAIB8rCF3QgAAQOL+IXdCAAAASFEid0IAAMCtoyJ3QgAAgBP2IndCAABAeUgjd0IAAADfmiN3QgAAwETtI3dCAACAqj8kd0IAAEAQkiR3QgAAAHbkJHdCAADA2zYld0IAAIBBiSV3QgAAQKfbJXdCAAAADS4md0IAAMBygCZ3QgAAgNjSJndCAABAPiUnd0IAAACkdyd3QgAAwAnKJ3dCAACAbxwod0IAAEDVbih3QgAAADvBKHdCAADAoBMpd0IAAIAGZil3QgAAQGy4KXdCAAAA0goqd0IAAMA3XSp3QgAAgJ2vKndCAABAAwIrd0IAAABpVCt3QgAAwM6mK3dCAACANPkrd0IAAECaSyx3QgAAAACeLHdCAADAZfAsd0IAAIDLQi13QgAAQDGVLXdCAAAAl+ctd0IAAMD8OS53QgAAgGKMLndCAABAyN4ud0IAAAAuMS93QgAAwJODL3dCAACA+dUvd0I=\",\"dtype\":\"float64\",\"shape\":[121]},\"y\":[0.9906384833099334,0.9876702701263628,0.986034206451665,0.9937023701385499,0.9970511977507855,0.9979544752352847,0.9913778365717426,0.9929248433250588,0.9957403179282476,0.9977413133698139,0.9985366218172942,0.9969106059526226,0.996211572251712,0.9909112544567887,0.9925418195655226,0.9932047921984762,0.9924285278783038,0.9930340764201312,0.9923577489344909,0.9932926697800687,0.9948845546297247,0.9950079961757051,0.9935421243409132,0.9923519864209975,0.9905689301056676,0.9882674204511754,0.9878264212632235,0.9873989916144827,0.9860735965572663,0.9845430102319735,0.9830060388504964,0.9809094757488263,0.9787131870741717,0.9765424924030026,0.9740607080719607,0.9707721359330386,0.9675980745847533,0.9644603235650501,0.9611847156868383,0.9581929227609429,0.9553138048152379,0.9527668866041618,0.949832519376967,0.9471741782289388,0.9448856132660635,0.9428262702142188,0.9408090496270258,0.9390094702651643,0.9371368895937208,0.9351084492759572,0.9330557612153584,0.9312289735564631,0.9293543463395025,0.9275386266286831,0.9256884677837561,0.923825484706234,0.9216168769019616,0.9193267564535198,0.9171080210761422,0.9148403674368056,0.9124738376193,0.9100150508583008,0.9079318355263625,0.9055617444260692,0.9030142411545999,0.9004203648795525,0.8980689816751007,0.895753592355098,0.8934258167984068,0.8910112034278967,0.8884835555981856,0.8858991595144673,0.8832672224045979,0.8806489898317053,0.8781735601338101,0.875798568138153,0.8733701733341191,0.8708924136063186,0.868304639054517,0.8657347591288924,0.8631886604807198,0.8606646697392588,0.858127410712821,0.8555693576054788,0.852892171710644,0.8501818039869902,0.8474274701530655,0.844700900642225,0.8419345520946966,0.8391646559956998,0.8364338566397378,0.8336910711516987,0.8309211457595196,0.8281248123000429,0.8253329993158202,0.8225748810114298,0.8198481378354814,0.8171364351895642,0.8144164389141544,0.8117098496622602,0.8090390142962303,0.8063941173576937,0.8037525871249604,0.8011218929019263,0.798534052945386,0.7959443157297019,0.7933324930099895,0.7907137868390863,0.7881034028225027,0.7855332424297904,0.782979060796708,0.780445007608978,0.7779009250870768,0.7753487688829088,0.7727853047065396]},\"selected\":{\"id\":\"29772\"},\"selection_policy\":{\"id\":\"29773\"}},\"id\":\"29725\",\"type\":\"ColumnDataSource\"},{\"attributes\":{},\"id\":\"30098\",\"type\":\"PanTool\"},{\"attributes\":{\"data_source\":{\"id\":\"29720\"},\"glyph\":{\"id\":\"29721\"},\"hover_glyph\":null,\"muted_glyph\":null,\"nonselection_glyph\":{\"id\":\"29722\"},\"selection_glyph\":null,\"view\":{\"id\":\"29724\"}},\"id\":\"29723\",\"type\":\"GlyphRenderer\"},{\"attributes\":{\"data_source\":{\"id\":\"30142\"},\"glyph\":{\"id\":\"30143\"},\"hover_glyph\":null,\"muted_glyph\":null,\"nonselection_glyph\":{\"id\":\"30144\"},\"selection_glyph\":null,\"view\":{\"id\":\"30146\"}},\"id\":\"30145\",\"type\":\"GlyphRenderer\"},{\"attributes\":{\"axis\":{\"id\":\"30192\"},\"ticker\":null},\"id\":\"30195\",\"type\":\"Grid\"},{\"attributes\":{\"fill_color\":{\"value\":\"white\"},\"line_color\":{\"value\":\"darkviolet\"},\"size\":{\"units\":\"screen\",\"value\":5},\"x\":{\"field\":\"x\"},\"y\":{\"field\":\"y\"}},\"id\":\"29754\",\"type\":\"Circle\"},{\"attributes\":{},\"id\":\"30291\",\"type\":\"UnionRenderers\"},{\"attributes\":{},\"id\":\"30099\",\"type\":\"WheelZoomTool\"},{\"attributes\":{\"source\":{\"id\":\"29720\"}},\"id\":\"29724\",\"type\":\"CDSView\"},{\"attributes\":{\"source\":{\"id\":\"30142\"}},\"id\":\"30146\",\"type\":\"CDSView\"},{\"attributes\":{\"overlay\":{\"id\":\"30104\"}},\"id\":\"30100\",\"type\":\"BoxZoomTool\"},{\"attributes\":{},\"id\":\"30375\",\"type\":\"Selection\"},{\"attributes\":{},\"id\":\"30101\",\"type\":\"SaveTool\"},{\"attributes\":{\"fill_alpha\":{\"value\":0.1},\"fill_color\":{\"value\":\"white\"},\"line_alpha\":{\"value\":0.1},\"line_color\":{\"value\":\"darkviolet\"},\"size\":{\"units\":\"screen\",\"value\":5},\"x\":{\"field\":\"x\"},\"y\":{\"field\":\"y\"}},\"id\":\"29755\",\"type\":\"Circle\"},{\"attributes\":{\"line_alpha\":0.1,\"line_color\":\"lightcoral\",\"line_width\":4,\"x\":{\"field\":\"x\"},\"y\":{\"field\":\"y\"}},\"id\":\"30144\",\"type\":\"Line\"},{\"attributes\":{},\"id\":\"30102\",\"type\":\"ResetTool\"},{\"attributes\":{},\"id\":\"30318\",\"type\":\"UnionRenderers\"},{\"attributes\":{\"label\":{\"value\":\"R_squared_deaths\"},\"renderers\":[{\"id\":\"29728\"}]},\"id\":\"29752\",\"type\":\"LegendItem\"},{\"attributes\":{\"line_alpha\":0.1,\"line_color\":\"blue\",\"line_width\":4,\"x\":{\"field\":\"x\"},\"y\":{\"field\":\"y\"}},\"id\":\"30114\",\"type\":\"Line\"},{\"attributes\":{\"label\":{\"value\":\"Gamma fitting\"},\"renderers\":[{\"id\":\"30145\"}]},\"id\":\"30169\",\"type\":\"LegendItem\"},{\"attributes\":{},\"id\":\"30347\",\"type\":\"UnionRenderers\"},{\"attributes\":{},\"id\":\"30103\",\"type\":\"HelpTool\"},{\"attributes\":{},\"id\":\"30344\",\"type\":\"Selection\"},{\"attributes\":{},\"id\":\"30153\",\"type\":\"UnionRenderers\"},{\"attributes\":{\"line_alpha\":0.1,\"line_color\":\"darkviolet\",\"line_width\":4,\"x\":{\"field\":\"x\"},\"y\":{\"field\":\"y\"}},\"id\":\"29727\",\"type\":\"Line\"},{\"attributes\":{\"data_source\":{\"id\":\"29725\"},\"glyph\":{\"id\":\"29726\"},\"hover_glyph\":null,\"muted_glyph\":null,\"nonselection_glyph\":{\"id\":\"29727\"},\"selection_glyph\":null,\"view\":{\"id\":\"29729\"}},\"id\":\"29728\",\"type\":\"GlyphRenderer\"},{\"attributes\":{},\"id\":\"30317\",\"type\":\"Selection\"},{\"attributes\":{},\"id\":\"30154\",\"type\":\"Selection\"},{\"attributes\":{\"line_color\":\"blue\",\"line_width\":4,\"x\":{\"field\":\"x\"},\"y\":{\"field\":\"y\"}},\"id\":\"29492\",\"type\":\"Line\"}],\"root_ids\":[\"30473\"]},\"title\":\"Bokeh Application\",\"version\":\"2.0.2\"}};\n",
       "  var render_items = [{\"docid\":\"b5ffb31e-65e2-4200-85c6-3d949876ad81\",\"root_ids\":[\"30473\"],\"roots\":{\"30473\":\"a69de07c-efdc-4b2f-9636-68bc4d07af16\"}}];\n",
       "  root.Bokeh.embed.embed_items_notebook(docs_json, render_items);\n",
       "\n",
       "  }\n",
       "  if (root.Bokeh !== undefined) {\n",
       "    embed_document(root);\n",
       "  } else {\n",
       "    var attempts = 0;\n",
       "    var timer = setInterval(function(root) {\n",
       "      if (root.Bokeh !== undefined) {\n",
       "        clearInterval(timer);\n",
       "        embed_document(root);\n",
       "      } else {\n",
       "        attempts++;\n",
       "        if (attempts > 100) {\n",
       "          clearInterval(timer);\n",
       "          console.log(\"Bokeh: ERROR: Unable to run BokehJS code because BokehJS library is missing\");\n",
       "        }\n",
       "      }\n",
       "    }, 10, root)\n",
       "  }\n",
       "})(window);"
      ],
      "application/vnd.bokehjs_exec.v0+json": ""
     },
     "metadata": {
      "application/vnd.bokehjs_exec.v0+json": {
       "id": "30473"
      }
     },
     "output_type": "display_data"
    }
   ],
   "source": [
    "p_grid = gridplot([[s1_grid, s2_grid, s3_grid], [s4_grid, s5_grid], [s6_grid, s7_grid]])\n",
    "\n",
    "output_file(\"grid_1.html\")\n",
    "\n",
    "show(p_grid)"
   ]
  },
  {
   "cell_type": "code",
   "execution_count": null,
   "metadata": {},
   "outputs": [],
   "source": []
  }
 ],
 "metadata": {
  "kernelspec": {
   "display_name": "Python 3",
   "language": "python",
   "name": "python3"
  },
  "language_info": {
   "codemirror_mode": {
    "name": "ipython",
    "version": 3
   },
   "file_extension": ".py",
   "mimetype": "text/x-python",
   "name": "python",
   "nbconvert_exporter": "python",
   "pygments_lexer": "ipython3",
   "version": "3.7.6"
  }
 },
 "nbformat": 4,
 "nbformat_minor": 2
}
