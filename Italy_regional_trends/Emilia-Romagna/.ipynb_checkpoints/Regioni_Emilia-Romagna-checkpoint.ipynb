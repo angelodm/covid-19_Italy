{
 "cells": [
  {
   "cell_type": "markdown",
   "metadata": {},
   "source": [
    "<h1 align=center><font size = 7>Italian Regions Trends Covid-19</font></h1>"
   ]
  },
  {
   "cell_type": "markdown",
   "metadata": {},
   "source": [
    "<h2 align=center><font size = 6> EMILIA-ROMAGNA</font></h2>"
   ]
  },
  {
   "cell_type": "markdown",
   "metadata": {},
   "source": [
    "------------\n",
    "\n",
    "<font size = 5> **Author**: Angelo Di Marco\n",
    "\n",
    "------------"
   ]
  },
  {
   "cell_type": "markdown",
   "metadata": {},
   "source": [
    "In this Notebook, we analyze the spreading of the new coronavirus in Italian Regions."
   ]
  },
  {
   "cell_type": "markdown",
   "metadata": {},
   "source": [
    "## Libraries and Functions"
   ]
  },
  {
   "cell_type": "code",
   "execution_count": 1,
   "metadata": {},
   "outputs": [
    {
     "data": {
      "text/html": [
       "\n",
       "    <div class=\"bk-root\">\n",
       "        <a href=\"https://bokeh.org\" target=\"_blank\" class=\"bk-logo bk-logo-small bk-logo-notebook\"></a>\n",
       "        <span id=\"1001\">Loading BokehJS ...</span>\n",
       "    </div>"
      ]
     },
     "metadata": {},
     "output_type": "display_data"
    },
    {
     "data": {
      "application/javascript": [
       "\n",
       "(function(root) {\n",
       "  function now() {\n",
       "    return new Date();\n",
       "  }\n",
       "\n",
       "  var force = true;\n",
       "\n",
       "  if (typeof root._bokeh_onload_callbacks === \"undefined\" || force === true) {\n",
       "    root._bokeh_onload_callbacks = [];\n",
       "    root._bokeh_is_loading = undefined;\n",
       "  }\n",
       "\n",
       "  var JS_MIME_TYPE = 'application/javascript';\n",
       "  var HTML_MIME_TYPE = 'text/html';\n",
       "  var EXEC_MIME_TYPE = 'application/vnd.bokehjs_exec.v0+json';\n",
       "  var CLASS_NAME = 'output_bokeh rendered_html';\n",
       "\n",
       "  /**\n",
       "   * Render data to the DOM node\n",
       "   */\n",
       "  function render(props, node) {\n",
       "    var script = document.createElement(\"script\");\n",
       "    node.appendChild(script);\n",
       "  }\n",
       "\n",
       "  /**\n",
       "   * Handle when an output is cleared or removed\n",
       "   */\n",
       "  function handleClearOutput(event, handle) {\n",
       "    var cell = handle.cell;\n",
       "\n",
       "    var id = cell.output_area._bokeh_element_id;\n",
       "    var server_id = cell.output_area._bokeh_server_id;\n",
       "    // Clean up Bokeh references\n",
       "    if (id != null && id in Bokeh.index) {\n",
       "      Bokeh.index[id].model.document.clear();\n",
       "      delete Bokeh.index[id];\n",
       "    }\n",
       "\n",
       "    if (server_id !== undefined) {\n",
       "      // Clean up Bokeh references\n",
       "      var cmd = \"from bokeh.io.state import curstate; print(curstate().uuid_to_server['\" + server_id + \"'].get_sessions()[0].document.roots[0]._id)\";\n",
       "      cell.notebook.kernel.execute(cmd, {\n",
       "        iopub: {\n",
       "          output: function(msg) {\n",
       "            var id = msg.content.text.trim();\n",
       "            if (id in Bokeh.index) {\n",
       "              Bokeh.index[id].model.document.clear();\n",
       "              delete Bokeh.index[id];\n",
       "            }\n",
       "          }\n",
       "        }\n",
       "      });\n",
       "      // Destroy server and session\n",
       "      var cmd = \"import bokeh.io.notebook as ion; ion.destroy_server('\" + server_id + \"')\";\n",
       "      cell.notebook.kernel.execute(cmd);\n",
       "    }\n",
       "  }\n",
       "\n",
       "  /**\n",
       "   * Handle when a new output is added\n",
       "   */\n",
       "  function handleAddOutput(event, handle) {\n",
       "    var output_area = handle.output_area;\n",
       "    var output = handle.output;\n",
       "\n",
       "    // limit handleAddOutput to display_data with EXEC_MIME_TYPE content only\n",
       "    if ((output.output_type != \"display_data\") || (!output.data.hasOwnProperty(EXEC_MIME_TYPE))) {\n",
       "      return\n",
       "    }\n",
       "\n",
       "    var toinsert = output_area.element.find(\".\" + CLASS_NAME.split(' ')[0]);\n",
       "\n",
       "    if (output.metadata[EXEC_MIME_TYPE][\"id\"] !== undefined) {\n",
       "      toinsert[toinsert.length - 1].firstChild.textContent = output.data[JS_MIME_TYPE];\n",
       "      // store reference to embed id on output_area\n",
       "      output_area._bokeh_element_id = output.metadata[EXEC_MIME_TYPE][\"id\"];\n",
       "    }\n",
       "    if (output.metadata[EXEC_MIME_TYPE][\"server_id\"] !== undefined) {\n",
       "      var bk_div = document.createElement(\"div\");\n",
       "      bk_div.innerHTML = output.data[HTML_MIME_TYPE];\n",
       "      var script_attrs = bk_div.children[0].attributes;\n",
       "      for (var i = 0; i < script_attrs.length; i++) {\n",
       "        toinsert[toinsert.length - 1].firstChild.setAttribute(script_attrs[i].name, script_attrs[i].value);\n",
       "        toinsert[toinsert.length - 1].firstChild.textContent = bk_div.children[0].textContent\n",
       "      }\n",
       "      // store reference to server id on output_area\n",
       "      output_area._bokeh_server_id = output.metadata[EXEC_MIME_TYPE][\"server_id\"];\n",
       "    }\n",
       "  }\n",
       "\n",
       "  function register_renderer(events, OutputArea) {\n",
       "\n",
       "    function append_mime(data, metadata, element) {\n",
       "      // create a DOM node to render to\n",
       "      var toinsert = this.create_output_subarea(\n",
       "        metadata,\n",
       "        CLASS_NAME,\n",
       "        EXEC_MIME_TYPE\n",
       "      );\n",
       "      this.keyboard_manager.register_events(toinsert);\n",
       "      // Render to node\n",
       "      var props = {data: data, metadata: metadata[EXEC_MIME_TYPE]};\n",
       "      render(props, toinsert[toinsert.length - 1]);\n",
       "      element.append(toinsert);\n",
       "      return toinsert\n",
       "    }\n",
       "\n",
       "    /* Handle when an output is cleared or removed */\n",
       "    events.on('clear_output.CodeCell', handleClearOutput);\n",
       "    events.on('delete.Cell', handleClearOutput);\n",
       "\n",
       "    /* Handle when a new output is added */\n",
       "    events.on('output_added.OutputArea', handleAddOutput);\n",
       "\n",
       "    /**\n",
       "     * Register the mime type and append_mime function with output_area\n",
       "     */\n",
       "    OutputArea.prototype.register_mime_type(EXEC_MIME_TYPE, append_mime, {\n",
       "      /* Is output safe? */\n",
       "      safe: true,\n",
       "      /* Index of renderer in `output_area.display_order` */\n",
       "      index: 0\n",
       "    });\n",
       "  }\n",
       "\n",
       "  // register the mime type if in Jupyter Notebook environment and previously unregistered\n",
       "  if (root.Jupyter !== undefined) {\n",
       "    var events = require('base/js/events');\n",
       "    var OutputArea = require('notebook/js/outputarea').OutputArea;\n",
       "\n",
       "    if (OutputArea.prototype.mime_types().indexOf(EXEC_MIME_TYPE) == -1) {\n",
       "      register_renderer(events, OutputArea);\n",
       "    }\n",
       "  }\n",
       "\n",
       "  \n",
       "  if (typeof (root._bokeh_timeout) === \"undefined\" || force === true) {\n",
       "    root._bokeh_timeout = Date.now() + 5000;\n",
       "    root._bokeh_failed_load = false;\n",
       "  }\n",
       "\n",
       "  var NB_LOAD_WARNING = {'data': {'text/html':\n",
       "     \"<div style='background-color: #fdd'>\\n\"+\n",
       "     \"<p>\\n\"+\n",
       "     \"BokehJS does not appear to have successfully loaded. If loading BokehJS from CDN, this \\n\"+\n",
       "     \"may be due to a slow or bad network connection. Possible fixes:\\n\"+\n",
       "     \"</p>\\n\"+\n",
       "     \"<ul>\\n\"+\n",
       "     \"<li>re-rerun `output_notebook()` to attempt to load from CDN again, or</li>\\n\"+\n",
       "     \"<li>use INLINE resources instead, as so:</li>\\n\"+\n",
       "     \"</ul>\\n\"+\n",
       "     \"<code>\\n\"+\n",
       "     \"from bokeh.resources import INLINE\\n\"+\n",
       "     \"output_notebook(resources=INLINE)\\n\"+\n",
       "     \"</code>\\n\"+\n",
       "     \"</div>\"}};\n",
       "\n",
       "  function display_loaded() {\n",
       "    var el = document.getElementById(\"1001\");\n",
       "    if (el != null) {\n",
       "      el.textContent = \"BokehJS is loading...\";\n",
       "    }\n",
       "    if (root.Bokeh !== undefined) {\n",
       "      if (el != null) {\n",
       "        el.textContent = \"BokehJS \" + root.Bokeh.version + \" successfully loaded.\";\n",
       "      }\n",
       "    } else if (Date.now() < root._bokeh_timeout) {\n",
       "      setTimeout(display_loaded, 100)\n",
       "    }\n",
       "  }\n",
       "\n",
       "\n",
       "  function run_callbacks() {\n",
       "    try {\n",
       "      root._bokeh_onload_callbacks.forEach(function(callback) {\n",
       "        if (callback != null)\n",
       "          callback();\n",
       "      });\n",
       "    } finally {\n",
       "      delete root._bokeh_onload_callbacks\n",
       "    }\n",
       "    console.debug(\"Bokeh: all callbacks have finished\");\n",
       "  }\n",
       "\n",
       "  function load_libs(css_urls, js_urls, callback) {\n",
       "    if (css_urls == null) css_urls = [];\n",
       "    if (js_urls == null) js_urls = [];\n",
       "\n",
       "    root._bokeh_onload_callbacks.push(callback);\n",
       "    if (root._bokeh_is_loading > 0) {\n",
       "      console.debug(\"Bokeh: BokehJS is being loaded, scheduling callback at\", now());\n",
       "      return null;\n",
       "    }\n",
       "    if (js_urls == null || js_urls.length === 0) {\n",
       "      run_callbacks();\n",
       "      return null;\n",
       "    }\n",
       "    console.debug(\"Bokeh: BokehJS not loaded, scheduling load and callback at\", now());\n",
       "    root._bokeh_is_loading = css_urls.length + js_urls.length;\n",
       "\n",
       "    function on_load() {\n",
       "      root._bokeh_is_loading--;\n",
       "      if (root._bokeh_is_loading === 0) {\n",
       "        console.debug(\"Bokeh: all BokehJS libraries/stylesheets loaded\");\n",
       "        run_callbacks()\n",
       "      }\n",
       "    }\n",
       "\n",
       "    function on_error() {\n",
       "      console.error(\"failed to load \" + url);\n",
       "    }\n",
       "\n",
       "    for (var i = 0; i < css_urls.length; i++) {\n",
       "      var url = css_urls[i];\n",
       "      const element = document.createElement(\"link\");\n",
       "      element.onload = on_load;\n",
       "      element.onerror = on_error;\n",
       "      element.rel = \"stylesheet\";\n",
       "      element.type = \"text/css\";\n",
       "      element.href = url;\n",
       "      console.debug(\"Bokeh: injecting link tag for BokehJS stylesheet: \", url);\n",
       "      document.body.appendChild(element);\n",
       "    }\n",
       "\n",
       "    const hashes = {\"https://cdn.bokeh.org/bokeh/release/bokeh-2.0.2.min.js\": \"ufR9RFnRs6lniiaFvtJziE0YeidtAgBRH6ux2oUItHw5WTvE1zuk9uzhUU/FJXDp\", \"https://cdn.bokeh.org/bokeh/release/bokeh-widgets-2.0.2.min.js\": \"8QM/PGWBT+IssZuRcDcjzwIh1mkOmJSoNMmyYDZbCfXJg3Ap1lEvdVgFuSAwhb/J\", \"https://cdn.bokeh.org/bokeh/release/bokeh-tables-2.0.2.min.js\": \"Jm8cH3Rg0P6UeZhVY5cLy1WzKajUT9KImCY+76hEqrcJt59/d8GPvFHjCkYgnSIn\", \"https://cdn.bokeh.org/bokeh/release/bokeh-gl-2.0.2.min.js\": \"Ozhzj+SI7ywm74aOI/UajcWz+C0NjsPunEVyVIrxzYkB+jA+2tUw8x5xJCbVtK5I\"};\n",
       "\n",
       "    for (var i = 0; i < js_urls.length; i++) {\n",
       "      var url = js_urls[i];\n",
       "      var element = document.createElement('script');\n",
       "      element.onload = on_load;\n",
       "      element.onerror = on_error;\n",
       "      element.async = false;\n",
       "      element.src = url;\n",
       "      if (url in hashes) {\n",
       "        element.crossOrigin = \"anonymous\";\n",
       "        element.integrity = \"sha384-\" + hashes[url];\n",
       "      }\n",
       "      console.debug(\"Bokeh: injecting script tag for BokehJS library: \", url);\n",
       "      document.head.appendChild(element);\n",
       "    }\n",
       "  };\n",
       "\n",
       "  function inject_raw_css(css) {\n",
       "    const element = document.createElement(\"style\");\n",
       "    element.appendChild(document.createTextNode(css));\n",
       "    document.body.appendChild(element);\n",
       "  }\n",
       "\n",
       "  \n",
       "  var js_urls = [\"https://cdn.bokeh.org/bokeh/release/bokeh-2.0.2.min.js\", \"https://cdn.bokeh.org/bokeh/release/bokeh-widgets-2.0.2.min.js\", \"https://cdn.bokeh.org/bokeh/release/bokeh-tables-2.0.2.min.js\", \"https://cdn.bokeh.org/bokeh/release/bokeh-gl-2.0.2.min.js\"];\n",
       "  var css_urls = [];\n",
       "  \n",
       "\n",
       "  var inline_js = [\n",
       "    function(Bokeh) {\n",
       "      Bokeh.set_log_level(\"info\");\n",
       "    },\n",
       "    function(Bokeh) {\n",
       "    \n",
       "    \n",
       "    }\n",
       "  ];\n",
       "\n",
       "  function run_inline_js() {\n",
       "    \n",
       "    if (root.Bokeh !== undefined || force === true) {\n",
       "      \n",
       "    for (var i = 0; i < inline_js.length; i++) {\n",
       "      inline_js[i].call(root, root.Bokeh);\n",
       "    }\n",
       "    if (force === true) {\n",
       "        display_loaded();\n",
       "      }} else if (Date.now() < root._bokeh_timeout) {\n",
       "      setTimeout(run_inline_js, 100);\n",
       "    } else if (!root._bokeh_failed_load) {\n",
       "      console.log(\"Bokeh: BokehJS failed to load within specified timeout.\");\n",
       "      root._bokeh_failed_load = true;\n",
       "    } else if (force !== true) {\n",
       "      var cell = $(document.getElementById(\"1001\")).parents('.cell').data().cell;\n",
       "      cell.output_area.append_execute_result(NB_LOAD_WARNING)\n",
       "    }\n",
       "\n",
       "  }\n",
       "\n",
       "  if (root._bokeh_is_loading === 0) {\n",
       "    console.debug(\"Bokeh: BokehJS loaded, going straight to plotting\");\n",
       "    run_inline_js();\n",
       "  } else {\n",
       "    load_libs(css_urls, js_urls, function() {\n",
       "      console.debug(\"Bokeh: BokehJS plotting callback run at\", now());\n",
       "      run_inline_js();\n",
       "    });\n",
       "  }\n",
       "}(window));"
      ],
      "application/vnd.bokehjs_load.v0+json": "\n(function(root) {\n  function now() {\n    return new Date();\n  }\n\n  var force = true;\n\n  if (typeof root._bokeh_onload_callbacks === \"undefined\" || force === true) {\n    root._bokeh_onload_callbacks = [];\n    root._bokeh_is_loading = undefined;\n  }\n\n  \n\n  \n  if (typeof (root._bokeh_timeout) === \"undefined\" || force === true) {\n    root._bokeh_timeout = Date.now() + 5000;\n    root._bokeh_failed_load = false;\n  }\n\n  var NB_LOAD_WARNING = {'data': {'text/html':\n     \"<div style='background-color: #fdd'>\\n\"+\n     \"<p>\\n\"+\n     \"BokehJS does not appear to have successfully loaded. If loading BokehJS from CDN, this \\n\"+\n     \"may be due to a slow or bad network connection. Possible fixes:\\n\"+\n     \"</p>\\n\"+\n     \"<ul>\\n\"+\n     \"<li>re-rerun `output_notebook()` to attempt to load from CDN again, or</li>\\n\"+\n     \"<li>use INLINE resources instead, as so:</li>\\n\"+\n     \"</ul>\\n\"+\n     \"<code>\\n\"+\n     \"from bokeh.resources import INLINE\\n\"+\n     \"output_notebook(resources=INLINE)\\n\"+\n     \"</code>\\n\"+\n     \"</div>\"}};\n\n  function display_loaded() {\n    var el = document.getElementById(\"1001\");\n    if (el != null) {\n      el.textContent = \"BokehJS is loading...\";\n    }\n    if (root.Bokeh !== undefined) {\n      if (el != null) {\n        el.textContent = \"BokehJS \" + root.Bokeh.version + \" successfully loaded.\";\n      }\n    } else if (Date.now() < root._bokeh_timeout) {\n      setTimeout(display_loaded, 100)\n    }\n  }\n\n\n  function run_callbacks() {\n    try {\n      root._bokeh_onload_callbacks.forEach(function(callback) {\n        if (callback != null)\n          callback();\n      });\n    } finally {\n      delete root._bokeh_onload_callbacks\n    }\n    console.debug(\"Bokeh: all callbacks have finished\");\n  }\n\n  function load_libs(css_urls, js_urls, callback) {\n    if (css_urls == null) css_urls = [];\n    if (js_urls == null) js_urls = [];\n\n    root._bokeh_onload_callbacks.push(callback);\n    if (root._bokeh_is_loading > 0) {\n      console.debug(\"Bokeh: BokehJS is being loaded, scheduling callback at\", now());\n      return null;\n    }\n    if (js_urls == null || js_urls.length === 0) {\n      run_callbacks();\n      return null;\n    }\n    console.debug(\"Bokeh: BokehJS not loaded, scheduling load and callback at\", now());\n    root._bokeh_is_loading = css_urls.length + js_urls.length;\n\n    function on_load() {\n      root._bokeh_is_loading--;\n      if (root._bokeh_is_loading === 0) {\n        console.debug(\"Bokeh: all BokehJS libraries/stylesheets loaded\");\n        run_callbacks()\n      }\n    }\n\n    function on_error() {\n      console.error(\"failed to load \" + url);\n    }\n\n    for (var i = 0; i < css_urls.length; i++) {\n      var url = css_urls[i];\n      const element = document.createElement(\"link\");\n      element.onload = on_load;\n      element.onerror = on_error;\n      element.rel = \"stylesheet\";\n      element.type = \"text/css\";\n      element.href = url;\n      console.debug(\"Bokeh: injecting link tag for BokehJS stylesheet: \", url);\n      document.body.appendChild(element);\n    }\n\n    const hashes = {\"https://cdn.bokeh.org/bokeh/release/bokeh-2.0.2.min.js\": \"ufR9RFnRs6lniiaFvtJziE0YeidtAgBRH6ux2oUItHw5WTvE1zuk9uzhUU/FJXDp\", \"https://cdn.bokeh.org/bokeh/release/bokeh-widgets-2.0.2.min.js\": \"8QM/PGWBT+IssZuRcDcjzwIh1mkOmJSoNMmyYDZbCfXJg3Ap1lEvdVgFuSAwhb/J\", \"https://cdn.bokeh.org/bokeh/release/bokeh-tables-2.0.2.min.js\": \"Jm8cH3Rg0P6UeZhVY5cLy1WzKajUT9KImCY+76hEqrcJt59/d8GPvFHjCkYgnSIn\", \"https://cdn.bokeh.org/bokeh/release/bokeh-gl-2.0.2.min.js\": \"Ozhzj+SI7ywm74aOI/UajcWz+C0NjsPunEVyVIrxzYkB+jA+2tUw8x5xJCbVtK5I\"};\n\n    for (var i = 0; i < js_urls.length; i++) {\n      var url = js_urls[i];\n      var element = document.createElement('script');\n      element.onload = on_load;\n      element.onerror = on_error;\n      element.async = false;\n      element.src = url;\n      if (url in hashes) {\n        element.crossOrigin = \"anonymous\";\n        element.integrity = \"sha384-\" + hashes[url];\n      }\n      console.debug(\"Bokeh: injecting script tag for BokehJS library: \", url);\n      document.head.appendChild(element);\n    }\n  };\n\n  function inject_raw_css(css) {\n    const element = document.createElement(\"style\");\n    element.appendChild(document.createTextNode(css));\n    document.body.appendChild(element);\n  }\n\n  \n  var js_urls = [\"https://cdn.bokeh.org/bokeh/release/bokeh-2.0.2.min.js\", \"https://cdn.bokeh.org/bokeh/release/bokeh-widgets-2.0.2.min.js\", \"https://cdn.bokeh.org/bokeh/release/bokeh-tables-2.0.2.min.js\", \"https://cdn.bokeh.org/bokeh/release/bokeh-gl-2.0.2.min.js\"];\n  var css_urls = [];\n  \n\n  var inline_js = [\n    function(Bokeh) {\n      Bokeh.set_log_level(\"info\");\n    },\n    function(Bokeh) {\n    \n    \n    }\n  ];\n\n  function run_inline_js() {\n    \n    if (root.Bokeh !== undefined || force === true) {\n      \n    for (var i = 0; i < inline_js.length; i++) {\n      inline_js[i].call(root, root.Bokeh);\n    }\n    if (force === true) {\n        display_loaded();\n      }} else if (Date.now() < root._bokeh_timeout) {\n      setTimeout(run_inline_js, 100);\n    } else if (!root._bokeh_failed_load) {\n      console.log(\"Bokeh: BokehJS failed to load within specified timeout.\");\n      root._bokeh_failed_load = true;\n    } else if (force !== true) {\n      var cell = $(document.getElementById(\"1001\")).parents('.cell').data().cell;\n      cell.output_area.append_execute_result(NB_LOAD_WARNING)\n    }\n\n  }\n\n  if (root._bokeh_is_loading === 0) {\n    console.debug(\"Bokeh: BokehJS loaded, going straight to plotting\");\n    run_inline_js();\n  } else {\n    load_libs(css_urls, js_urls, function() {\n      console.debug(\"Bokeh: BokehJS plotting callback run at\", now());\n      run_inline_js();\n    });\n  }\n}(window));"
     },
     "metadata": {},
     "output_type": "display_data"
    }
   ],
   "source": [
    "import numpy as np\n",
    "\n",
    "import pandas as pd\n",
    "\n",
    "from math import pi\n",
    "\n",
    "from bokeh.plotting import figure, output_file, show, output_notebook, gridplot\n",
    "from bokeh.models import DatetimeTickFormatter, BasicTickFormatter, NumeralTickFormatter\n",
    "from bokeh.models import HoverTool\n",
    "from bokeh.layouts import row\n",
    "\n",
    "output_notebook()"
   ]
  },
  {
   "cell_type": "code",
   "execution_count": 2,
   "metadata": {},
   "outputs": [],
   "source": [
    "def datetime(x):\n",
    "    return np.array(x, dtype=np.datetime64)"
   ]
  },
  {
   "cell_type": "markdown",
   "metadata": {},
   "source": [
    "### ----- Plot function N lines -----"
   ]
  },
  {
   "cell_type": "code",
   "execution_count": 3,
   "metadata": {},
   "outputs": [],
   "source": [
    "def bokeh_plot_N_lines(x, y_list, title, dim, x_label, y_label, legend_list, x_label_hover, y_label_hover, color_list, legend_location):\n",
    "    \n",
    "#     output_file(file_name)\n",
    "    \n",
    "    p = figure(title=title, x_axis_type='datetime', x_axis_label=x_label, y_axis_label=y_label, width=dim[0], height=dim[1])\n",
    "    \n",
    "    for iii in range(0,len(y_list)):\n",
    "        p.line(x, y_list[iii], color=color_list[iii], line_width=4, legend_label=legend_list[iii])\n",
    "        p.circle(x, y_list[iii], fill_color=\"white\", line_color=color_list[iii], size=5)\n",
    "        \n",
    "    \n",
    "    p.xaxis.formatter=DatetimeTickFormatter(\n",
    "#         hours=[\"%d %B %Y\"],\n",
    "#         days=[\"%Y %m %d\"],\n",
    "    days=[\"%d %B\"],\n",
    "#         months=[\"%d %B %Y\"],\n",
    "#         years=[\"%d %B %Y\"],\n",
    "    )\n",
    "    p.xaxis.major_label_orientation = pi/4\n",
    "  \n",
    "    p.yaxis.formatter = BasicTickFormatter(use_scientific=False)\n",
    "#     p.left[0].formatter.use_scientific = False\n",
    "#     p.yaxis.formatter = NumeralTickFormatter(format = '0,0')\n",
    "    p.yaxis.formatter.use_scientific = False\n",
    "    \n",
    "    p.axis.minor_tick_in = -5\n",
    "    p.axis.minor_tick_out = -3\n",
    "    \n",
    "    p.legend.location = legend_location\n",
    "    \n",
    "    p.add_tools(HoverTool(\n",
    "    tooltips=[\n",
    "        ( x_label_hover,   '@x{%d %B}' ),\n",
    "        ( y_label_hover, '@y{0[.]000}' ),\n",
    "#         ( 'label yy', '@yy' ),\n",
    "    ],\n",
    "\n",
    "    formatters={\n",
    "           '@x'  : 'datetime', # use 'datetime' formatter for 'date' field\n",
    "#            '@y'  : 'printf',   # use 'printf' formatter for 'adj close' field\n",
    "#            '@y'  : 'numeral',   # use 'printf' formatter for 'adj close' field\n",
    "                                  # use default 'numeral' formatter for other fields\n",
    "    },\n",
    "\n",
    "    # display a tooltip whenever the cursor is vertically in line with a glyph\n",
    "    mode='vline'\n",
    "    ))\n",
    "    \n",
    "    return p  \n",
    "#     show(p)"
   ]
  },
  {
   "cell_type": "markdown",
   "metadata": {},
   "source": [
    "-----------------\n",
    "\n",
    "## Data Sources"
   ]
  },
  {
   "cell_type": "markdown",
   "metadata": {},
   "source": [
    "We importe the CSV files directly from the official GitHub source of the Protezione Civile:"
   ]
  },
  {
   "cell_type": "code",
   "execution_count": 4,
   "metadata": {},
   "outputs": [],
   "source": [
    "data_links = {'nazionale':'https://raw.githubusercontent.com/pcm-dpc/COVID-19/master/dati-andamento-nazionale/dpc-covid19-ita-andamento-nazionale.csv',\\\n",
    "              'regioni':'https://raw.githubusercontent.com/pcm-dpc/COVID-19/master/dati-regioni/dpc-covid19-ita-regioni.csv',\\\n",
    "              'province':'https://raw.githubusercontent.com/pcm-dpc/COVID-19/master/dati-province/dpc-covid19-ita-province.csv'}"
   ]
  },
  {
   "cell_type": "markdown",
   "metadata": {},
   "source": [
    "-----------------\n",
    "\n",
    "## Regional Trends"
   ]
  },
  {
   "cell_type": "code",
   "execution_count": 5,
   "metadata": {},
   "outputs": [
    {
     "name": "stdout",
     "output_type": "stream",
     "text": [
      "The path to the Raw CSV file for the regions data is : \n",
      " https://raw.githubusercontent.com/pcm-dpc/COVID-19/master/dati-regioni/dpc-covid19-ita-regioni.csv\n"
     ]
    },
    {
     "data": {
      "text/html": [
       "<div>\n",
       "<style scoped>\n",
       "    .dataframe tbody tr th:only-of-type {\n",
       "        vertical-align: middle;\n",
       "    }\n",
       "\n",
       "    .dataframe tbody tr th {\n",
       "        vertical-align: top;\n",
       "    }\n",
       "\n",
       "    .dataframe thead th {\n",
       "        text-align: right;\n",
       "    }\n",
       "</style>\n",
       "<table border=\"1\" class=\"dataframe\">\n",
       "  <thead>\n",
       "    <tr style=\"text-align: right;\">\n",
       "      <th></th>\n",
       "      <th>data</th>\n",
       "      <th>stato</th>\n",
       "      <th>codice_regione</th>\n",
       "      <th>denominazione_regione</th>\n",
       "      <th>lat</th>\n",
       "      <th>long</th>\n",
       "      <th>ricoverati_con_sintomi</th>\n",
       "      <th>terapia_intensiva</th>\n",
       "      <th>totale_ospedalizzati</th>\n",
       "      <th>isolamento_domiciliare</th>\n",
       "      <th>...</th>\n",
       "      <th>variazione_totale_positivi</th>\n",
       "      <th>nuovi_positivi</th>\n",
       "      <th>dimessi_guariti</th>\n",
       "      <th>deceduti</th>\n",
       "      <th>casi_da_sospetto_diagnostico</th>\n",
       "      <th>casi_da_screening</th>\n",
       "      <th>totale_casi</th>\n",
       "      <th>tamponi</th>\n",
       "      <th>casi_testati</th>\n",
       "      <th>note</th>\n",
       "    </tr>\n",
       "  </thead>\n",
       "  <tbody>\n",
       "    <tr>\n",
       "      <th>0</th>\n",
       "      <td>2020-02-24T18:00:00</td>\n",
       "      <td>ITA</td>\n",
       "      <td>13</td>\n",
       "      <td>Abruzzo</td>\n",
       "      <td>42.351222</td>\n",
       "      <td>13.398438</td>\n",
       "      <td>0</td>\n",
       "      <td>0</td>\n",
       "      <td>0</td>\n",
       "      <td>0</td>\n",
       "      <td>...</td>\n",
       "      <td>0</td>\n",
       "      <td>0</td>\n",
       "      <td>0</td>\n",
       "      <td>0</td>\n",
       "      <td>NaN</td>\n",
       "      <td>NaN</td>\n",
       "      <td>0</td>\n",
       "      <td>5</td>\n",
       "      <td>NaN</td>\n",
       "      <td>NaN</td>\n",
       "    </tr>\n",
       "    <tr>\n",
       "      <th>1</th>\n",
       "      <td>2020-02-24T18:00:00</td>\n",
       "      <td>ITA</td>\n",
       "      <td>17</td>\n",
       "      <td>Basilicata</td>\n",
       "      <td>40.639471</td>\n",
       "      <td>15.805148</td>\n",
       "      <td>0</td>\n",
       "      <td>0</td>\n",
       "      <td>0</td>\n",
       "      <td>0</td>\n",
       "      <td>...</td>\n",
       "      <td>0</td>\n",
       "      <td>0</td>\n",
       "      <td>0</td>\n",
       "      <td>0</td>\n",
       "      <td>NaN</td>\n",
       "      <td>NaN</td>\n",
       "      <td>0</td>\n",
       "      <td>0</td>\n",
       "      <td>NaN</td>\n",
       "      <td>NaN</td>\n",
       "    </tr>\n",
       "    <tr>\n",
       "      <th>2</th>\n",
       "      <td>2020-02-24T18:00:00</td>\n",
       "      <td>ITA</td>\n",
       "      <td>18</td>\n",
       "      <td>Calabria</td>\n",
       "      <td>38.905976</td>\n",
       "      <td>16.594402</td>\n",
       "      <td>0</td>\n",
       "      <td>0</td>\n",
       "      <td>0</td>\n",
       "      <td>0</td>\n",
       "      <td>...</td>\n",
       "      <td>0</td>\n",
       "      <td>0</td>\n",
       "      <td>0</td>\n",
       "      <td>0</td>\n",
       "      <td>NaN</td>\n",
       "      <td>NaN</td>\n",
       "      <td>0</td>\n",
       "      <td>1</td>\n",
       "      <td>NaN</td>\n",
       "      <td>NaN</td>\n",
       "    </tr>\n",
       "    <tr>\n",
       "      <th>3</th>\n",
       "      <td>2020-02-24T18:00:00</td>\n",
       "      <td>ITA</td>\n",
       "      <td>15</td>\n",
       "      <td>Campania</td>\n",
       "      <td>40.839566</td>\n",
       "      <td>14.250850</td>\n",
       "      <td>0</td>\n",
       "      <td>0</td>\n",
       "      <td>0</td>\n",
       "      <td>0</td>\n",
       "      <td>...</td>\n",
       "      <td>0</td>\n",
       "      <td>0</td>\n",
       "      <td>0</td>\n",
       "      <td>0</td>\n",
       "      <td>NaN</td>\n",
       "      <td>NaN</td>\n",
       "      <td>0</td>\n",
       "      <td>10</td>\n",
       "      <td>NaN</td>\n",
       "      <td>NaN</td>\n",
       "    </tr>\n",
       "    <tr>\n",
       "      <th>4</th>\n",
       "      <td>2020-02-24T18:00:00</td>\n",
       "      <td>ITA</td>\n",
       "      <td>8</td>\n",
       "      <td>Emilia-Romagna</td>\n",
       "      <td>44.494367</td>\n",
       "      <td>11.341721</td>\n",
       "      <td>10</td>\n",
       "      <td>2</td>\n",
       "      <td>12</td>\n",
       "      <td>6</td>\n",
       "      <td>...</td>\n",
       "      <td>0</td>\n",
       "      <td>18</td>\n",
       "      <td>0</td>\n",
       "      <td>0</td>\n",
       "      <td>NaN</td>\n",
       "      <td>NaN</td>\n",
       "      <td>18</td>\n",
       "      <td>148</td>\n",
       "      <td>NaN</td>\n",
       "      <td>NaN</td>\n",
       "    </tr>\n",
       "  </tbody>\n",
       "</table>\n",
       "<p>5 rows × 21 columns</p>\n",
       "</div>"
      ],
      "text/plain": [
       "                  data stato  codice_regione denominazione_regione        lat  \\\n",
       "0  2020-02-24T18:00:00   ITA              13               Abruzzo  42.351222   \n",
       "1  2020-02-24T18:00:00   ITA              17            Basilicata  40.639471   \n",
       "2  2020-02-24T18:00:00   ITA              18              Calabria  38.905976   \n",
       "3  2020-02-24T18:00:00   ITA              15              Campania  40.839566   \n",
       "4  2020-02-24T18:00:00   ITA               8        Emilia-Romagna  44.494367   \n",
       "\n",
       "        long  ricoverati_con_sintomi  terapia_intensiva  totale_ospedalizzati  \\\n",
       "0  13.398438                       0                  0                     0   \n",
       "1  15.805148                       0                  0                     0   \n",
       "2  16.594402                       0                  0                     0   \n",
       "3  14.250850                       0                  0                     0   \n",
       "4  11.341721                      10                  2                    12   \n",
       "\n",
       "   isolamento_domiciliare  ...  variazione_totale_positivi  nuovi_positivi  \\\n",
       "0                       0  ...                           0               0   \n",
       "1                       0  ...                           0               0   \n",
       "2                       0  ...                           0               0   \n",
       "3                       0  ...                           0               0   \n",
       "4                       6  ...                           0              18   \n",
       "\n",
       "   dimessi_guariti  deceduti  casi_da_sospetto_diagnostico  casi_da_screening  \\\n",
       "0                0         0                           NaN                NaN   \n",
       "1                0         0                           NaN                NaN   \n",
       "2                0         0                           NaN                NaN   \n",
       "3                0         0                           NaN                NaN   \n",
       "4                0         0                           NaN                NaN   \n",
       "\n",
       "   totale_casi  tamponi  casi_testati  note  \n",
       "0            0        5           NaN   NaN  \n",
       "1            0        0           NaN   NaN  \n",
       "2            0        1           NaN   NaN  \n",
       "3            0       10           NaN   NaN  \n",
       "4           18      148           NaN   NaN  \n",
       "\n",
       "[5 rows x 21 columns]"
      ]
     },
     "execution_count": 5,
     "metadata": {},
     "output_type": "execute_result"
    }
   ],
   "source": [
    "path_regioni = data_links['regioni']\n",
    "print('The path to the Raw CSV file for the regions data is : \\n', path_regioni)\n",
    "df_regioni = pd.read_csv(path_regioni)\n",
    "df_regioni.head()"
   ]
  },
  {
   "cell_type": "code",
   "execution_count": 6,
   "metadata": {},
   "outputs": [
    {
     "data": {
      "text/plain": [
       "(3717, 21)"
      ]
     },
     "execution_count": 6,
     "metadata": {},
     "output_type": "execute_result"
    }
   ],
   "source": [
    "df_regioni.shape"
   ]
  },
  {
   "cell_type": "markdown",
   "metadata": {},
   "source": [
    "-----------------\n",
    "\n",
    "## Emilia-Romagna Trends"
   ]
  },
  {
   "cell_type": "code",
   "execution_count": 7,
   "metadata": {
    "scrolled": true
   },
   "outputs": [
    {
     "data": {
      "text/html": [
       "<div>\n",
       "<style scoped>\n",
       "    .dataframe tbody tr th:only-of-type {\n",
       "        vertical-align: middle;\n",
       "    }\n",
       "\n",
       "    .dataframe tbody tr th {\n",
       "        vertical-align: top;\n",
       "    }\n",
       "\n",
       "    .dataframe thead th {\n",
       "        text-align: right;\n",
       "    }\n",
       "</style>\n",
       "<table border=\"1\" class=\"dataframe\">\n",
       "  <thead>\n",
       "    <tr style=\"text-align: right;\">\n",
       "      <th></th>\n",
       "      <th>data</th>\n",
       "      <th>stato</th>\n",
       "      <th>codice_regione</th>\n",
       "      <th>denominazione_regione</th>\n",
       "      <th>lat</th>\n",
       "      <th>long</th>\n",
       "      <th>ricoverati_con_sintomi</th>\n",
       "      <th>terapia_intensiva</th>\n",
       "      <th>totale_ospedalizzati</th>\n",
       "      <th>isolamento_domiciliare</th>\n",
       "      <th>...</th>\n",
       "      <th>variazione_totale_positivi</th>\n",
       "      <th>nuovi_positivi</th>\n",
       "      <th>dimessi_guariti</th>\n",
       "      <th>deceduti</th>\n",
       "      <th>casi_da_sospetto_diagnostico</th>\n",
       "      <th>casi_da_screening</th>\n",
       "      <th>totale_casi</th>\n",
       "      <th>tamponi</th>\n",
       "      <th>casi_testati</th>\n",
       "      <th>note</th>\n",
       "    </tr>\n",
       "  </thead>\n",
       "  <tbody>\n",
       "    <tr>\n",
       "      <th>4</th>\n",
       "      <td>2020-02-24T18:00:00</td>\n",
       "      <td>ITA</td>\n",
       "      <td>8</td>\n",
       "      <td>Emilia-Romagna</td>\n",
       "      <td>44.494367</td>\n",
       "      <td>11.341721</td>\n",
       "      <td>10</td>\n",
       "      <td>2</td>\n",
       "      <td>12</td>\n",
       "      <td>6</td>\n",
       "      <td>...</td>\n",
       "      <td>0</td>\n",
       "      <td>18</td>\n",
       "      <td>0</td>\n",
       "      <td>0</td>\n",
       "      <td>NaN</td>\n",
       "      <td>NaN</td>\n",
       "      <td>18</td>\n",
       "      <td>148</td>\n",
       "      <td>NaN</td>\n",
       "      <td>NaN</td>\n",
       "    </tr>\n",
       "    <tr>\n",
       "      <th>25</th>\n",
       "      <td>2020-02-25T18:00:00</td>\n",
       "      <td>ITA</td>\n",
       "      <td>8</td>\n",
       "      <td>Emilia-Romagna</td>\n",
       "      <td>44.494367</td>\n",
       "      <td>11.341721</td>\n",
       "      <td>15</td>\n",
       "      <td>2</td>\n",
       "      <td>17</td>\n",
       "      <td>9</td>\n",
       "      <td>...</td>\n",
       "      <td>8</td>\n",
       "      <td>8</td>\n",
       "      <td>0</td>\n",
       "      <td>0</td>\n",
       "      <td>NaN</td>\n",
       "      <td>NaN</td>\n",
       "      <td>26</td>\n",
       "      <td>391</td>\n",
       "      <td>NaN</td>\n",
       "      <td>NaN</td>\n",
       "    </tr>\n",
       "    <tr>\n",
       "      <th>46</th>\n",
       "      <td>2020-02-26T18:00:00</td>\n",
       "      <td>ITA</td>\n",
       "      <td>8</td>\n",
       "      <td>Emilia-Romagna</td>\n",
       "      <td>44.494367</td>\n",
       "      <td>11.341721</td>\n",
       "      <td>20</td>\n",
       "      <td>3</td>\n",
       "      <td>23</td>\n",
       "      <td>23</td>\n",
       "      <td>...</td>\n",
       "      <td>20</td>\n",
       "      <td>21</td>\n",
       "      <td>0</td>\n",
       "      <td>1</td>\n",
       "      <td>NaN</td>\n",
       "      <td>NaN</td>\n",
       "      <td>47</td>\n",
       "      <td>577</td>\n",
       "      <td>NaN</td>\n",
       "      <td>NaN</td>\n",
       "    </tr>\n",
       "    <tr>\n",
       "      <th>67</th>\n",
       "      <td>2020-02-27T18:00:00</td>\n",
       "      <td>ITA</td>\n",
       "      <td>8</td>\n",
       "      <td>Emilia-Romagna</td>\n",
       "      <td>44.494367</td>\n",
       "      <td>11.341721</td>\n",
       "      <td>36</td>\n",
       "      <td>6</td>\n",
       "      <td>42</td>\n",
       "      <td>54</td>\n",
       "      <td>...</td>\n",
       "      <td>50</td>\n",
       "      <td>50</td>\n",
       "      <td>0</td>\n",
       "      <td>1</td>\n",
       "      <td>NaN</td>\n",
       "      <td>NaN</td>\n",
       "      <td>97</td>\n",
       "      <td>1033</td>\n",
       "      <td>NaN</td>\n",
       "      <td>NaN</td>\n",
       "    </tr>\n",
       "    <tr>\n",
       "      <th>88</th>\n",
       "      <td>2020-02-28T18:00:00</td>\n",
       "      <td>ITA</td>\n",
       "      <td>8</td>\n",
       "      <td>Emilia-Romagna</td>\n",
       "      <td>44.494367</td>\n",
       "      <td>11.341721</td>\n",
       "      <td>56</td>\n",
       "      <td>6</td>\n",
       "      <td>62</td>\n",
       "      <td>81</td>\n",
       "      <td>...</td>\n",
       "      <td>47</td>\n",
       "      <td>48</td>\n",
       "      <td>0</td>\n",
       "      <td>2</td>\n",
       "      <td>NaN</td>\n",
       "      <td>NaN</td>\n",
       "      <td>145</td>\n",
       "      <td>1277</td>\n",
       "      <td>NaN</td>\n",
       "      <td>NaN</td>\n",
       "    </tr>\n",
       "  </tbody>\n",
       "</table>\n",
       "<p>5 rows × 21 columns</p>\n",
       "</div>"
      ],
      "text/plain": [
       "                   data stato  codice_regione denominazione_regione  \\\n",
       "4   2020-02-24T18:00:00   ITA               8        Emilia-Romagna   \n",
       "25  2020-02-25T18:00:00   ITA               8        Emilia-Romagna   \n",
       "46  2020-02-26T18:00:00   ITA               8        Emilia-Romagna   \n",
       "67  2020-02-27T18:00:00   ITA               8        Emilia-Romagna   \n",
       "88  2020-02-28T18:00:00   ITA               8        Emilia-Romagna   \n",
       "\n",
       "          lat       long  ricoverati_con_sintomi  terapia_intensiva  \\\n",
       "4   44.494367  11.341721                      10                  2   \n",
       "25  44.494367  11.341721                      15                  2   \n",
       "46  44.494367  11.341721                      20                  3   \n",
       "67  44.494367  11.341721                      36                  6   \n",
       "88  44.494367  11.341721                      56                  6   \n",
       "\n",
       "    totale_ospedalizzati  isolamento_domiciliare  ...  \\\n",
       "4                     12                       6  ...   \n",
       "25                    17                       9  ...   \n",
       "46                    23                      23  ...   \n",
       "67                    42                      54  ...   \n",
       "88                    62                      81  ...   \n",
       "\n",
       "    variazione_totale_positivi  nuovi_positivi  dimessi_guariti  deceduti  \\\n",
       "4                            0              18                0         0   \n",
       "25                           8               8                0         0   \n",
       "46                          20              21                0         1   \n",
       "67                          50              50                0         1   \n",
       "88                          47              48                0         2   \n",
       "\n",
       "    casi_da_sospetto_diagnostico  casi_da_screening  totale_casi  tamponi  \\\n",
       "4                            NaN                NaN           18      148   \n",
       "25                           NaN                NaN           26      391   \n",
       "46                           NaN                NaN           47      577   \n",
       "67                           NaN                NaN           97     1033   \n",
       "88                           NaN                NaN          145     1277   \n",
       "\n",
       "    casi_testati  note  \n",
       "4            NaN   NaN  \n",
       "25           NaN   NaN  \n",
       "46           NaN   NaN  \n",
       "67           NaN   NaN  \n",
       "88           NaN   NaN  \n",
       "\n",
       "[5 rows x 21 columns]"
      ]
     },
     "execution_count": 7,
     "metadata": {},
     "output_type": "execute_result"
    }
   ],
   "source": [
    "df_EmiliaRomagna = df_regioni[df_regioni['denominazione_regione']=='Emilia-Romagna']\n",
    "df_EmiliaRomagna.head()"
   ]
  },
  {
   "cell_type": "code",
   "execution_count": 8,
   "metadata": {},
   "outputs": [
    {
     "data": {
      "text/plain": [
       "(177, 21)"
      ]
     },
     "execution_count": 8,
     "metadata": {},
     "output_type": "execute_result"
    }
   ],
   "source": [
    "df_EmiliaRomagna.shape"
   ]
  },
  {
   "cell_type": "markdown",
   "metadata": {},
   "source": [
    "------------\n",
    "\n",
    "### Date Formatting"
   ]
  },
  {
   "cell_type": "code",
   "execution_count": 9,
   "metadata": {},
   "outputs": [
    {
     "data": {
      "text/plain": [
       "4     2020-02-24T18:00:00\n",
       "25    2020-02-25T18:00:00\n",
       "46    2020-02-26T18:00:00\n",
       "67    2020-02-27T18:00:00\n",
       "88    2020-02-28T18:00:00\n",
       "Name: data, dtype: object"
      ]
     },
     "execution_count": 9,
     "metadata": {},
     "output_type": "execute_result"
    }
   ],
   "source": [
    "time_date = df_EmiliaRomagna['data']\n",
    "time_date.head()"
   ]
  },
  {
   "cell_type": "code",
   "execution_count": 10,
   "metadata": {},
   "outputs": [
    {
     "data": {
      "text/plain": [
       "4     2020-02-24\n",
       "25    2020-02-25\n",
       "46    2020-02-26\n",
       "67    2020-02-27\n",
       "88    2020-02-28\n",
       "Name: data, dtype: object"
      ]
     },
     "execution_count": 10,
     "metadata": {},
     "output_type": "execute_result"
    }
   ],
   "source": [
    "time_date_new = pd.to_datetime(time_date).dt.date\n",
    "time_date_new.head()"
   ]
  },
  {
   "cell_type": "code",
   "execution_count": 11,
   "metadata": {},
   "outputs": [
    {
     "data": {
      "text/plain": [
       "datetime.date(2020, 2, 24)"
      ]
     },
     "execution_count": 11,
     "metadata": {},
     "output_type": "execute_result"
    }
   ],
   "source": [
    "time_date_new.iloc[0]"
   ]
  },
  {
   "cell_type": "code",
   "execution_count": 12,
   "metadata": {},
   "outputs": [],
   "source": [
    "# time_date_new = datetime(time_date_new.iloc[0:7])\n",
    "# time_date_new"
   ]
  },
  {
   "cell_type": "markdown",
   "metadata": {},
   "source": [
    "---------------"
   ]
  },
  {
   "cell_type": "code",
   "execution_count": 13,
   "metadata": {},
   "outputs": [
    {
     "data": {
      "text/plain": [
       "DatetimeIndex(['2020-02-24', '2020-02-25', '2020-02-26', '2020-02-27',\n",
       "               '2020-02-28', '2020-02-29', '2020-03-01', '2020-03-02',\n",
       "               '2020-03-03', '2020-03-04',\n",
       "               ...\n",
       "               '2021-02-02', '2021-02-03', '2021-02-04', '2021-02-05',\n",
       "               '2021-02-06', '2021-02-07', '2021-02-08', '2021-02-09',\n",
       "               '2021-02-10', '2021-02-11'],\n",
       "              dtype='datetime64[ns]', length=354, freq='D')"
      ]
     },
     "execution_count": 13,
     "metadata": {},
     "output_type": "execute_result"
    }
   ],
   "source": [
    "time_date_new_extended = pd.date_range(start=time_date_new.iloc[0], periods=2*time_date.shape[0])\n",
    "time_date_new_extended"
   ]
  },
  {
   "cell_type": "markdown",
   "metadata": {},
   "source": [
    "------------------\n",
    "\n",
    "### Total Cases Emilia-Romagna"
   ]
  },
  {
   "cell_type": "code",
   "execution_count": 14,
   "metadata": {},
   "outputs": [
    {
     "data": {
      "text/plain": [
       "4      18\n",
       "25     26\n",
       "46     47\n",
       "67     97\n",
       "88    145\n",
       "Name: totale_casi, dtype: int64"
      ]
     },
     "execution_count": 14,
     "metadata": {},
     "output_type": "execute_result"
    }
   ],
   "source": [
    "total_cases_EmiliaRomagna = df_EmiliaRomagna['totale_casi']\n",
    "total_cases_EmiliaRomagna.head()"
   ]
  },
  {
   "cell_type": "markdown",
   "metadata": {},
   "source": [
    "### Total Positive Emilia-Romagna"
   ]
  },
  {
   "cell_type": "code",
   "execution_count": 15,
   "metadata": {},
   "outputs": [
    {
     "data": {
      "text/plain": [
       "4      18\n",
       "25     26\n",
       "46     46\n",
       "67     96\n",
       "88    143\n",
       "Name: totale_positivi, dtype: int64"
      ]
     },
     "execution_count": 15,
     "metadata": {},
     "output_type": "execute_result"
    }
   ],
   "source": [
    "total_positive_EmiliaRomagna = df_EmiliaRomagna['totale_positivi']\n",
    "total_positive_EmiliaRomagna.head()"
   ]
  },
  {
   "cell_type": "code",
   "execution_count": 16,
   "metadata": {},
   "outputs": [
    {
     "data": {
      "text/html": [
       "\n",
       "\n",
       "\n",
       "\n",
       "\n",
       "\n",
       "  <div class=\"bk-root\" id=\"c9ef1479-a53f-41f7-b8cc-b1014acbb1eb\" data-root-id=\"1002\"></div>\n"
      ]
     },
     "metadata": {},
     "output_type": "display_data"
    },
    {
     "data": {
      "application/javascript": [
       "(function(root) {\n",
       "  function embed_document(root) {\n",
       "    \n",
       "  var docs_json = {\"0c11d1f8-5252-46b8-98f2-4181344ce4c7\":{\"roots\":{\"references\":[{\"attributes\":{\"below\":[{\"id\":\"1013\"}],\"center\":[{\"id\":\"1016\"},{\"id\":\"1020\"},{\"id\":\"1058\"}],\"left\":[{\"id\":\"1017\"}],\"plot_height\":450,\"renderers\":[{\"id\":\"1038\"},{\"id\":\"1063\"},{\"id\":\"1068\"},{\"id\":\"1096\"}],\"title\":{\"id\":\"1003\"},\"toolbar\":{\"id\":\"1028\"},\"x_range\":{\"id\":\"1005\"},\"x_scale\":{\"id\":\"1009\"},\"y_range\":{\"id\":\"1007\"},\"y_scale\":{\"id\":\"1011\"}},\"id\":\"1002\",\"subtype\":\"Figure\",\"type\":\"Plot\"},{\"attributes\":{\"line_alpha\":0.1,\"line_color\":\"red\",\"line_width\":4,\"x\":{\"field\":\"x\"},\"y\":{\"field\":\"y\"}},\"id\":\"1067\",\"type\":\"Line\"},{\"attributes\":{},\"id\":\"1021\",\"type\":\"PanTool\"},{\"attributes\":{\"callback\":null,\"formatters\":{\"@x\":\"datetime\"},\"mode\":\"vline\",\"tooltips\":[[\"date\",\"@x{%d %B}\"],[\"total cases OR total positive\",\"@y{0[.]000}\"]]},\"id\":\"1102\",\"type\":\"HoverTool\"},{\"attributes\":{\"days\":[1,15]},\"id\":\"1051\",\"type\":\"DaysTicker\"},{\"attributes\":{},\"id\":\"1087\",\"type\":\"Selection\"},{\"attributes\":{\"bottom_units\":\"screen\",\"fill_alpha\":0.5,\"fill_color\":\"lightgrey\",\"left_units\":\"screen\",\"level\":\"overlay\",\"line_alpha\":1.0,\"line_color\":\"black\",\"line_dash\":[4,4],\"line_width\":2,\"render_mode\":\"css\",\"right_units\":\"screen\",\"top_units\":\"screen\"},\"id\":\"1027\",\"type\":\"BoxAnnotation\"},{\"attributes\":{\"source\":{\"id\":\"1035\"}},\"id\":\"1039\",\"type\":\"CDSView\"},{\"attributes\":{},\"id\":\"1022\",\"type\":\"WheelZoomTool\"},{\"attributes\":{\"overlay\":{\"id\":\"1027\"}},\"id\":\"1023\",\"type\":\"BoxZoomTool\"},{\"attributes\":{},\"id\":\"1056\",\"type\":\"YearsTicker\"},{\"attributes\":{},\"id\":\"1011\",\"type\":\"LinearScale\"},{\"attributes\":{},\"id\":\"1024\",\"type\":\"SaveTool\"},{\"attributes\":{},\"id\":\"1007\",\"type\":\"DataRange1d\"},{\"attributes\":{},\"id\":\"1025\",\"type\":\"ResetTool\"},{\"attributes\":{},\"id\":\"1125\",\"type\":\"Selection\"},{\"attributes\":{\"days\":[1,2,3,4,5,6,7,8,9,10,11,12,13,14,15,16,17,18,19,20,21,22,23,24,25,26,27,28,29,30,31]},\"id\":\"1048\",\"type\":\"DaysTicker\"},{\"attributes\":{},\"id\":\"1123\",\"type\":\"Selection\"},{\"attributes\":{\"data\":{\"x\":{\"__ndarray__\":\"AAAA5UcHd0IAAMBKmgd3QgAAgLDsB3dCAABAFj8Id0IAAAB8kQh3QgAAwOHjCHdCAACARzYJd0IAAECtiAl3QgAAABPbCXdCAADAeC0Kd0IAAIDefwp3QgAAQETSCndCAAAAqiQLd0IAAMAPdwt3QgAAgHXJC3dCAABA2xsMd0IAAABBbgx3QgAAwKbADHdCAACADBMNd0IAAEByZQ13QgAAANi3DXdCAADAPQoOd0IAAICjXA53QgAAQAmvDndCAAAAbwEPd0IAAMDUUw93QgAAgDqmD3dCAABAoPgPd0IAAAAGSxB3QgAAwGudEHdCAACA0e8Qd0IAAEA3QhF3QgAAAJ2UEXdCAADAAucRd0IAAIBoORJ3QgAAQM6LEndCAAAANN4Sd0IAAMCZMBN3QgAAgP+CE3dCAABAZdUTd0IAAADLJxR3QgAAwDB6FHdCAACAlswUd0IAAED8HhV3QgAAAGJxFXdCAADAx8MVd0IAAIAtFhZ3QgAAQJNoFndCAAAA+boWd0IAAMBeDRd3QgAAgMRfF3dCAABAKrIXd0IAAACQBBh3QgAAwPVWGHdCAACAW6kYd0IAAEDB+xh3QgAAACdOGXdCAADAjKAZd0IAAIDy8hl3QgAAQFhFGndCAAAAvpcad0IAAMAj6hp3QgAAgIk8G3dCAABA744bd0IAAABV4Rt3QgAAwLozHHdCAACAIIYcd0IAAECG2Bx3QgAAAOwqHXdCAADAUX0dd0IAAIC3zx13QgAAQB0iHndCAAAAg3Qed0IAAMDoxh53QgAAgE4ZH3dCAABAtGsfd0IAAAAavh93QgAAwH8QIHdCAACA5WIgd0IAAEBLtSB3QgAAALEHIXdCAADAFlohd0IAAIB8rCF3QgAAQOL+IXdCAAAASFEid0IAAMCtoyJ3QgAAgBP2IndCAABAeUgjd0IAAADfmiN3QgAAwETtI3dCAACAqj8kd0IAAEAQkiR3QgAAAHbkJHdCAADA2zYld0IAAIBBiSV3QgAAQKfbJXdCAAAADS4md0IAAMBygCZ3QgAAgNjSJndCAABAPiUnd0IAAACkdyd3QgAAwAnKJ3dCAACAbxwod0IAAEDVbih3QgAAADvBKHdCAADAoBMpd0IAAIAGZil3QgAAQGy4KXdCAAAA0goqd0IAAMA3XSp3QgAAgJ2vKndCAABAAwIrd0IAAABpVCt3QgAAwM6mK3dCAACANPkrd0IAAECaSyx3QgAAAACeLHdCAADAZfAsd0IAAIDLQi13QgAAQDGVLXdCAAAAl+ctd0IAAMD8OS53QgAAgGKMLndCAABAyN4ud0IAAAAuMS93QgAAwJODL3dCAACA+dUvd0IAAEBfKDB3QgAAAMV6MHdCAADAKs0wd0IAAICQHzF3QgAAQPZxMXdCAAAAXMQxd0IAAMDBFjJ3QgAAgCdpMndCAABAjbsyd0IAAADzDTN3QgAAwFhgM3dCAACAvrIzd0IAAEAkBTR3QgAAAIpXNHdCAADA76k0d0IAAIBV/DR3QgAAQLtONXdCAAAAIaE1d0IAAMCG8zV3QgAAgOxFNndCAABAUpg2d0IAAAC46jZ3QgAAwB09N3dCAACAg483d0IAAEDp4Td3QgAAAE80OHdCAADAtIY4d0IAAIAa2Th3QgAAQIArOXdCAAAA5n05d0IAAMBL0Dl3QgAAgLEiOndCAABAF3U6d0IAAAB9xzp3QgAAwOIZO3dCAACASGw7d0IAAECuvjt3QgAAABQRPHdCAADAeWM8d0IAAIDftTx3QgAAQEUIPXdCAAAAq1o9d0IAAMAQrT13QgAAgHb/PXdCAABA3FE+d0IAAABCpD53QgAAwKf2PndCAACADUk/d0IAAEBzmz93QgAAANntP3dC\",\"dtype\":\"float64\",\"shape\":[177]},\"y\":[18,26,47,97,145,217,285,335,420,544,698,870,1010,1180,1386,1533,1739,1947,2263,2644,3093,3522,3931,4525,5214,5968,6705,7555,8535,9254,10054,10816,11588,12383,13119,13531,14074,14787,15333,15932,16540,17089,17556,17825,18234,18677,19128,19635,20098,20440,20752,21029,21486,21834,22184,22560,22867,23092,23434,23723,23970,24209,24450,24662,24914,25177,25436,25644,25850,26016,26175,26275,26379,26487,26598,26719,26796,26876,26929,26979,27056,27110,27182,27232,27267,27314,27364,27417,27470,27513,27558,27587,27611,27627,27701,27739,27759,27790,27809,27828,27842,27860,27877,27894,27908,27928,27946,27970,27995,28028,28056,28073,28084,28097,28111,28143,28170,28198,28221,28243,28260,28304,28351,28393,28435,28456,28472,28492,28508,28535,28562,28613,28637,28675,28706,28755,28769,28822,28869,28940,28958,28971,28989,29035,29087,29127,29178,29220,29238,29295,29350,29413,29461,29522,29555,29575,29603,29634,29670,29726,29774,29808,29850,29897,29954,30008,30052,30121,30160,30179,30220,30257,30314,30385,30436,30477,30498]},\"selected\":{\"id\":\"1089\"},\"selection_policy\":{\"id\":\"1090\"}},\"id\":\"1060\",\"type\":\"ColumnDataSource\"},{\"attributes\":{},\"id\":\"1005\",\"type\":\"DataRange1d\"},{\"attributes\":{},\"id\":\"1026\",\"type\":\"HelpTool\"},{\"attributes\":{\"line_alpha\":0.1,\"line_color\":\"blue\",\"line_width\":4,\"x\":{\"field\":\"x\"},\"y\":{\"field\":\"y\"}},\"id\":\"1037\",\"type\":\"Line\"},{\"attributes\":{\"active_drag\":\"auto\",\"active_inspect\":\"auto\",\"active_multi\":null,\"active_scroll\":\"auto\",\"active_tap\":\"auto\",\"tools\":[{\"id\":\"1021\"},{\"id\":\"1022\"},{\"id\":\"1023\"},{\"id\":\"1024\"},{\"id\":\"1025\"},{\"id\":\"1026\"},{\"id\":\"1102\"}]},\"id\":\"1028\",\"type\":\"Toolbar\"},{\"attributes\":{\"source\":{\"id\":\"1093\"}},\"id\":\"1097\",\"type\":\"CDSView\"},{\"attributes\":{},\"id\":\"1126\",\"type\":\"UnionRenderers\"},{\"attributes\":{},\"id\":\"1009\",\"type\":\"LinearScale\"},{\"attributes\":{\"mantissas\":[1,2,5],\"max_interval\":500.0,\"num_minor_ticks\":0},\"id\":\"1045\",\"type\":\"AdaptiveTicker\"},{\"attributes\":{},\"id\":\"1089\",\"type\":\"Selection\"},{\"attributes\":{\"days\":[\"%d %B\"]},\"id\":\"1098\",\"type\":\"DatetimeTickFormatter\"},{\"attributes\":{\"fill_alpha\":{\"value\":0.1},\"fill_color\":{\"value\":\"white\"},\"line_alpha\":{\"value\":0.1},\"line_color\":{\"value\":\"blue\"},\"size\":{\"units\":\"screen\",\"value\":5},\"x\":{\"field\":\"x\"},\"y\":{\"field\":\"y\"}},\"id\":\"1062\",\"type\":\"Circle\"},{\"attributes\":{\"axis_label\":\"Date\",\"formatter\":{\"id\":\"1098\"},\"major_label_orientation\":0.7853981633974483,\"minor_tick_in\":-5,\"minor_tick_out\":-3,\"ticker\":{\"id\":\"1014\"}},\"id\":\"1013\",\"type\":\"DatetimeAxis\"},{\"attributes\":{\"label\":{\"value\":\"total positive\"},\"renderers\":[{\"id\":\"1068\"}]},\"id\":\"1092\",\"type\":\"LegendItem\"},{\"attributes\":{\"fill_color\":{\"value\":\"white\"},\"line_color\":{\"value\":\"blue\"},\"size\":{\"units\":\"screen\",\"value\":5},\"x\":{\"field\":\"x\"},\"y\":{\"field\":\"y\"}},\"id\":\"1061\",\"type\":\"Circle\"},{\"attributes\":{},\"id\":\"1088\",\"type\":\"UnionRenderers\"},{\"attributes\":{},\"id\":\"1018\",\"type\":\"BasicTicker\"},{\"attributes\":{\"line_color\":\"blue\",\"line_width\":4,\"x\":{\"field\":\"x\"},\"y\":{\"field\":\"y\"}},\"id\":\"1036\",\"type\":\"Line\"},{\"attributes\":{\"num_minor_ticks\":5,\"tickers\":[{\"id\":\"1045\"},{\"id\":\"1046\"},{\"id\":\"1047\"},{\"id\":\"1048\"},{\"id\":\"1049\"},{\"id\":\"1050\"},{\"id\":\"1051\"},{\"id\":\"1052\"},{\"id\":\"1053\"},{\"id\":\"1054\"},{\"id\":\"1055\"},{\"id\":\"1056\"}]},\"id\":\"1014\",\"type\":\"DatetimeTicker\"},{\"attributes\":{\"fill_color\":{\"value\":\"white\"},\"line_color\":{\"value\":\"red\"},\"size\":{\"units\":\"screen\",\"value\":5},\"x\":{\"field\":\"x\"},\"y\":{\"field\":\"y\"}},\"id\":\"1094\",\"type\":\"Circle\"},{\"attributes\":{},\"id\":\"1124\",\"type\":\"UnionRenderers\"},{\"attributes\":{\"base\":60,\"mantissas\":[1,2,5,10,15,20,30],\"max_interval\":1800000.0,\"min_interval\":1000.0,\"num_minor_ticks\":0},\"id\":\"1046\",\"type\":\"AdaptiveTicker\"},{\"attributes\":{},\"id\":\"1090\",\"type\":\"UnionRenderers\"},{\"attributes\":{\"axis\":{\"id\":\"1013\"},\"ticker\":null},\"id\":\"1016\",\"type\":\"Grid\"},{\"attributes\":{\"data_source\":{\"id\":\"1065\"},\"glyph\":{\"id\":\"1066\"},\"hover_glyph\":null,\"muted_glyph\":null,\"nonselection_glyph\":{\"id\":\"1067\"},\"selection_glyph\":null,\"view\":{\"id\":\"1069\"}},\"id\":\"1068\",\"type\":\"GlyphRenderer\"},{\"attributes\":{\"data_source\":{\"id\":\"1093\"},\"glyph\":{\"id\":\"1094\"},\"hover_glyph\":null,\"muted_glyph\":null,\"nonselection_glyph\":{\"id\":\"1095\"},\"selection_glyph\":null,\"view\":{\"id\":\"1097\"}},\"id\":\"1096\",\"type\":\"GlyphRenderer\"},{\"attributes\":{\"items\":[{\"id\":\"1059\"},{\"id\":\"1092\"}],\"location\":\"top_left\"},\"id\":\"1058\",\"type\":\"Legend\"},{\"attributes\":{\"text\":\"Total Cases & Total Positive: Emilia-Romagna\"},\"id\":\"1003\",\"type\":\"Title\"},{\"attributes\":{\"axis\":{\"id\":\"1017\"},\"dimension\":1,\"ticker\":null},\"id\":\"1020\",\"type\":\"Grid\"},{\"attributes\":{\"label\":{\"value\":\"total cases\"},\"renderers\":[{\"id\":\"1038\"}]},\"id\":\"1059\",\"type\":\"LegendItem\"},{\"attributes\":{\"data\":{\"x\":{\"__ndarray__\":\"AAAA5UcHd0IAAMBKmgd3QgAAgLDsB3dCAABAFj8Id0IAAAB8kQh3QgAAwOHjCHdCAACARzYJd0IAAECtiAl3QgAAABPbCXdCAADAeC0Kd0IAAIDefwp3QgAAQETSCndCAAAAqiQLd0IAAMAPdwt3QgAAgHXJC3dCAABA2xsMd0IAAABBbgx3QgAAwKbADHdCAACADBMNd0IAAEByZQ13QgAAANi3DXdCAADAPQoOd0IAAICjXA53QgAAQAmvDndCAAAAbwEPd0IAAMDUUw93QgAAgDqmD3dCAABAoPgPd0IAAAAGSxB3QgAAwGudEHdCAACA0e8Qd0IAAEA3QhF3QgAAAJ2UEXdCAADAAucRd0IAAIBoORJ3QgAAQM6LEndCAAAANN4Sd0IAAMCZMBN3QgAAgP+CE3dCAABAZdUTd0IAAADLJxR3QgAAwDB6FHdCAACAlswUd0IAAED8HhV3QgAAAGJxFXdCAADAx8MVd0IAAIAtFhZ3QgAAQJNoFndCAAAA+boWd0IAAMBeDRd3QgAAgMRfF3dCAABAKrIXd0IAAACQBBh3QgAAwPVWGHdCAACAW6kYd0IAAEDB+xh3QgAAACdOGXdCAADAjKAZd0IAAIDy8hl3QgAAQFhFGndCAAAAvpcad0IAAMAj6hp3QgAAgIk8G3dCAABA744bd0IAAABV4Rt3QgAAwLozHHdCAACAIIYcd0IAAECG2Bx3QgAAAOwqHXdCAADAUX0dd0IAAIC3zx13QgAAQB0iHndCAAAAg3Qed0IAAMDoxh53QgAAgE4ZH3dCAABAtGsfd0IAAAAavh93QgAAwH8QIHdCAACA5WIgd0IAAEBLtSB3QgAAALEHIXdCAADAFlohd0IAAIB8rCF3QgAAQOL+IXdCAAAASFEid0IAAMCtoyJ3QgAAgBP2IndCAABAeUgjd0IAAADfmiN3QgAAwETtI3dCAACAqj8kd0IAAEAQkiR3QgAAAHbkJHdCAADA2zYld0IAAIBBiSV3QgAAQKfbJXdCAAAADS4md0IAAMBygCZ3QgAAgNjSJndCAABAPiUnd0IAAACkdyd3QgAAwAnKJ3dCAACAbxwod0IAAEDVbih3QgAAADvBKHdCAADAoBMpd0IAAIAGZil3QgAAQGy4KXdCAAAA0goqd0IAAMA3XSp3QgAAgJ2vKndCAABAAwIrd0IAAABpVCt3QgAAwM6mK3dCAACANPkrd0IAAECaSyx3QgAAAACeLHdCAADAZfAsd0IAAIDLQi13QgAAQDGVLXdCAAAAl+ctd0IAAMD8OS53QgAAgGKMLndCAABAyN4ud0IAAAAuMS93QgAAwJODL3dCAACA+dUvd0IAAEBfKDB3QgAAAMV6MHdCAADAKs0wd0IAAICQHzF3QgAAQPZxMXdCAAAAXMQxd0IAAMDBFjJ3QgAAgCdpMndCAABAjbsyd0IAAADzDTN3QgAAwFhgM3dCAACAvrIzd0IAAEAkBTR3QgAAAIpXNHdCAADA76k0d0IAAIBV/DR3QgAAQLtONXdCAAAAIaE1d0IAAMCG8zV3QgAAgOxFNndCAABAUpg2d0IAAAC46jZ3QgAAwB09N3dCAACAg483d0IAAEDp4Td3QgAAAE80OHdCAADAtIY4d0IAAIAa2Th3QgAAQIArOXdCAAAA5n05d0IAAMBL0Dl3QgAAgLEiOndCAABAF3U6d0IAAAB9xzp3QgAAwOIZO3dCAACASGw7d0IAAECuvjt3QgAAABQRPHdCAADAeWM8d0IAAIDftTx3QgAAQEUIPXdCAAAAq1o9d0IAAMAQrT13QgAAgHb/PXdCAABA3FE+d0IAAABCpD53QgAAwKf2PndCAACADUk/d0IAAEBzmz93QgAAANntP3dC\",\"dtype\":\"float64\",\"shape\":[177]},\"y\":[18,26,46,96,143,213,277,324,398,516,658,816,937,1097,1286,1417,1588,1758,2011,2349,2741,3088,3404,3915,4506,5089,5661,6390,7220,7711,8256,8850,9361,9964,10535,10766,10953,11489,11859,12178,12523,12837,13051,13048,13110,13258,13350,13495,13672,13818,13778,13577,13663,13585,13584,13552,13522,13244,13084,12845,12509,12347,12341,12225,12003,11862,9563,9484,9323,9045,8984,8681,8391,8011,7730,7401,7191,7040,6801,6502,6301,6001,5852,5656,5525,5330,5098,4926,4730,4570,4457,4359,4146,3998,3750,3564,3279,3163,3068,2912,2839,2688,2512,2416,2328,2282,2156,2061,2000,1817,1727,1637,1500,1405,1345,1281,1219,1207,1172,1154,1089,1074,1068,1044,1041,1042,1032,1010,1002,1003,1011,1037,1029,1064,1060,1071,1066,1113,1119,1180,1193,1189,1170,1198,1228,1234,1266,1298,1297,1325,1350,1372,1399,1444,1456,1459,1451,1471,1496,1510,1540,1560,1581,1609,1652,1675,1712,1760,1791,1790,1807,1827,1866,1754,1805,1814,1789]},\"selected\":{\"id\":\"1125\"},\"selection_policy\":{\"id\":\"1126\"}},\"id\":\"1093\",\"type\":\"ColumnDataSource\"},{\"attributes\":{\"base\":24,\"mantissas\":[1,2,4,6,8,12],\"max_interval\":43200000.0,\"min_interval\":3600000.0,\"num_minor_ticks\":0},\"id\":\"1047\",\"type\":\"AdaptiveTicker\"},{\"attributes\":{\"axis_label\":\"Total Cases & Total Positive\",\"formatter\":{\"id\":\"1100\"},\"minor_tick_in\":-5,\"minor_tick_out\":-3,\"ticker\":{\"id\":\"1018\"}},\"id\":\"1017\",\"type\":\"LinearAxis\"},{\"attributes\":{\"data_source\":{\"id\":\"1035\"},\"glyph\":{\"id\":\"1036\"},\"hover_glyph\":null,\"muted_glyph\":null,\"nonselection_glyph\":{\"id\":\"1037\"},\"selection_glyph\":null,\"view\":{\"id\":\"1039\"}},\"id\":\"1038\",\"type\":\"GlyphRenderer\"},{\"attributes\":{\"use_scientific\":false},\"id\":\"1100\",\"type\":\"BasicTickFormatter\"},{\"attributes\":{\"days\":[1,4,7,10,13,16,19,22,25,28]},\"id\":\"1049\",\"type\":\"DaysTicker\"},{\"attributes\":{\"source\":{\"id\":\"1065\"}},\"id\":\"1069\",\"type\":\"CDSView\"},{\"attributes\":{\"months\":[0,6]},\"id\":\"1055\",\"type\":\"MonthsTicker\"},{\"attributes\":{\"fill_alpha\":{\"value\":0.1},\"fill_color\":{\"value\":\"white\"},\"line_alpha\":{\"value\":0.1},\"line_color\":{\"value\":\"red\"},\"size\":{\"units\":\"screen\",\"value\":5},\"x\":{\"field\":\"x\"},\"y\":{\"field\":\"y\"}},\"id\":\"1095\",\"type\":\"Circle\"},{\"attributes\":{\"months\":[0,4,8]},\"id\":\"1054\",\"type\":\"MonthsTicker\"},{\"attributes\":{\"data_source\":{\"id\":\"1060\"},\"glyph\":{\"id\":\"1061\"},\"hover_glyph\":null,\"muted_glyph\":null,\"nonselection_glyph\":{\"id\":\"1062\"},\"selection_glyph\":null,\"view\":{\"id\":\"1064\"}},\"id\":\"1063\",\"type\":\"GlyphRenderer\"},{\"attributes\":{\"days\":[1,8,15,22]},\"id\":\"1050\",\"type\":\"DaysTicker\"},{\"attributes\":{\"line_color\":\"red\",\"line_width\":4,\"x\":{\"field\":\"x\"},\"y\":{\"field\":\"y\"}},\"id\":\"1066\",\"type\":\"Line\"},{\"attributes\":{\"data\":{\"x\":{\"__ndarray__\":\"AAAA5UcHd0IAAMBKmgd3QgAAgLDsB3dCAABAFj8Id0IAAAB8kQh3QgAAwOHjCHdCAACARzYJd0IAAECtiAl3QgAAABPbCXdCAADAeC0Kd0IAAIDefwp3QgAAQETSCndCAAAAqiQLd0IAAMAPdwt3QgAAgHXJC3dCAABA2xsMd0IAAABBbgx3QgAAwKbADHdCAACADBMNd0IAAEByZQ13QgAAANi3DXdCAADAPQoOd0IAAICjXA53QgAAQAmvDndCAAAAbwEPd0IAAMDUUw93QgAAgDqmD3dCAABAoPgPd0IAAAAGSxB3QgAAwGudEHdCAACA0e8Qd0IAAEA3QhF3QgAAAJ2UEXdCAADAAucRd0IAAIBoORJ3QgAAQM6LEndCAAAANN4Sd0IAAMCZMBN3QgAAgP+CE3dCAABAZdUTd0IAAADLJxR3QgAAwDB6FHdCAACAlswUd0IAAED8HhV3QgAAAGJxFXdCAADAx8MVd0IAAIAtFhZ3QgAAQJNoFndCAAAA+boWd0IAAMBeDRd3QgAAgMRfF3dCAABAKrIXd0IAAACQBBh3QgAAwPVWGHdCAACAW6kYd0IAAEDB+xh3QgAAACdOGXdCAADAjKAZd0IAAIDy8hl3QgAAQFhFGndCAAAAvpcad0IAAMAj6hp3QgAAgIk8G3dCAABA744bd0IAAABV4Rt3QgAAwLozHHdCAACAIIYcd0IAAECG2Bx3QgAAAOwqHXdCAADAUX0dd0IAAIC3zx13QgAAQB0iHndCAAAAg3Qed0IAAMDoxh53QgAAgE4ZH3dCAABAtGsfd0IAAAAavh93QgAAwH8QIHdCAACA5WIgd0IAAEBLtSB3QgAAALEHIXdCAADAFlohd0IAAIB8rCF3QgAAQOL+IXdCAAAASFEid0IAAMCtoyJ3QgAAgBP2IndCAABAeUgjd0IAAADfmiN3QgAAwETtI3dCAACAqj8kd0IAAEAQkiR3QgAAAHbkJHdCAADA2zYld0IAAIBBiSV3QgAAQKfbJXdCAAAADS4md0IAAMBygCZ3QgAAgNjSJndCAABAPiUnd0IAAACkdyd3QgAAwAnKJ3dCAACAbxwod0IAAEDVbih3QgAAADvBKHdCAADAoBMpd0IAAIAGZil3QgAAQGy4KXdCAAAA0goqd0IAAMA3XSp3QgAAgJ2vKndCAABAAwIrd0IAAABpVCt3QgAAwM6mK3dCAACANPkrd0IAAECaSyx3QgAAAACeLHdCAADAZfAsd0IAAIDLQi13QgAAQDGVLXdCAAAAl+ctd0IAAMD8OS53QgAAgGKMLndCAABAyN4ud0IAAAAuMS93QgAAwJODL3dCAACA+dUvd0IAAEBfKDB3QgAAAMV6MHdCAADAKs0wd0IAAICQHzF3QgAAQPZxMXdCAAAAXMQxd0IAAMDBFjJ3QgAAgCdpMndCAABAjbsyd0IAAADzDTN3QgAAwFhgM3dCAACAvrIzd0IAAEAkBTR3QgAAAIpXNHdCAADA76k0d0IAAIBV/DR3QgAAQLtONXdCAAAAIaE1d0IAAMCG8zV3QgAAgOxFNndCAABAUpg2d0IAAAC46jZ3QgAAwB09N3dCAACAg483d0IAAEDp4Td3QgAAAE80OHdCAADAtIY4d0IAAIAa2Th3QgAAQIArOXdCAAAA5n05d0IAAMBL0Dl3QgAAgLEiOndCAABAF3U6d0IAAAB9xzp3QgAAwOIZO3dCAACASGw7d0IAAECuvjt3QgAAABQRPHdCAADAeWM8d0IAAIDftTx3QgAAQEUIPXdCAAAAq1o9d0IAAMAQrT13QgAAgHb/PXdCAABA3FE+d0IAAABCpD53QgAAwKf2PndCAACADUk/d0IAAEBzmz93QgAAANntP3dC\",\"dtype\":\"float64\",\"shape\":[177]},\"y\":[18,26,46,96,143,213,277,324,398,516,658,816,937,1097,1286,1417,1588,1758,2011,2349,2741,3088,3404,3915,4506,5089,5661,6390,7220,7711,8256,8850,9361,9964,10535,10766,10953,11489,11859,12178,12523,12837,13051,13048,13110,13258,13350,13495,13672,13818,13778,13577,13663,13585,13584,13552,13522,13244,13084,12845,12509,12347,12341,12225,12003,11862,9563,9484,9323,9045,8984,8681,8391,8011,7730,7401,7191,7040,6801,6502,6301,6001,5852,5656,5525,5330,5098,4926,4730,4570,4457,4359,4146,3998,3750,3564,3279,3163,3068,2912,2839,2688,2512,2416,2328,2282,2156,2061,2000,1817,1727,1637,1500,1405,1345,1281,1219,1207,1172,1154,1089,1074,1068,1044,1041,1042,1032,1010,1002,1003,1011,1037,1029,1064,1060,1071,1066,1113,1119,1180,1193,1189,1170,1198,1228,1234,1266,1298,1297,1325,1350,1372,1399,1444,1456,1459,1451,1471,1496,1510,1540,1560,1581,1609,1652,1675,1712,1760,1791,1790,1807,1827,1866,1754,1805,1814,1789]},\"selected\":{\"id\":\"1123\"},\"selection_policy\":{\"id\":\"1124\"}},\"id\":\"1065\",\"type\":\"ColumnDataSource\"},{\"attributes\":{\"months\":[0,1,2,3,4,5,6,7,8,9,10,11]},\"id\":\"1052\",\"type\":\"MonthsTicker\"},{\"attributes\":{\"months\":[0,2,4,6,8,10]},\"id\":\"1053\",\"type\":\"MonthsTicker\"},{\"attributes\":{\"source\":{\"id\":\"1060\"}},\"id\":\"1064\",\"type\":\"CDSView\"},{\"attributes\":{\"data\":{\"x\":{\"__ndarray__\":\"AAAA5UcHd0IAAMBKmgd3QgAAgLDsB3dCAABAFj8Id0IAAAB8kQh3QgAAwOHjCHdCAACARzYJd0IAAECtiAl3QgAAABPbCXdCAADAeC0Kd0IAAIDefwp3QgAAQETSCndCAAAAqiQLd0IAAMAPdwt3QgAAgHXJC3dCAABA2xsMd0IAAABBbgx3QgAAwKbADHdCAACADBMNd0IAAEByZQ13QgAAANi3DXdCAADAPQoOd0IAAICjXA53QgAAQAmvDndCAAAAbwEPd0IAAMDUUw93QgAAgDqmD3dCAABAoPgPd0IAAAAGSxB3QgAAwGudEHdCAACA0e8Qd0IAAEA3QhF3QgAAAJ2UEXdCAADAAucRd0IAAIBoORJ3QgAAQM6LEndCAAAANN4Sd0IAAMCZMBN3QgAAgP+CE3dCAABAZdUTd0IAAADLJxR3QgAAwDB6FHdCAACAlswUd0IAAED8HhV3QgAAAGJxFXdCAADAx8MVd0IAAIAtFhZ3QgAAQJNoFndCAAAA+boWd0IAAMBeDRd3QgAAgMRfF3dCAABAKrIXd0IAAACQBBh3QgAAwPVWGHdCAACAW6kYd0IAAEDB+xh3QgAAACdOGXdCAADAjKAZd0IAAIDy8hl3QgAAQFhFGndCAAAAvpcad0IAAMAj6hp3QgAAgIk8G3dCAABA744bd0IAAABV4Rt3QgAAwLozHHdCAACAIIYcd0IAAECG2Bx3QgAAAOwqHXdCAADAUX0dd0IAAIC3zx13QgAAQB0iHndCAAAAg3Qed0IAAMDoxh53QgAAgE4ZH3dCAABAtGsfd0IAAAAavh93QgAAwH8QIHdCAACA5WIgd0IAAEBLtSB3QgAAALEHIXdCAADAFlohd0IAAIB8rCF3QgAAQOL+IXdCAAAASFEid0IAAMCtoyJ3QgAAgBP2IndCAABAeUgjd0IAAADfmiN3QgAAwETtI3dCAACAqj8kd0IAAEAQkiR3QgAAAHbkJHdCAADA2zYld0IAAIBBiSV3QgAAQKfbJXdCAAAADS4md0IAAMBygCZ3QgAAgNjSJndCAABAPiUnd0IAAACkdyd3QgAAwAnKJ3dCAACAbxwod0IAAEDVbih3QgAAADvBKHdCAADAoBMpd0IAAIAGZil3QgAAQGy4KXdCAAAA0goqd0IAAMA3XSp3QgAAgJ2vKndCAABAAwIrd0IAAABpVCt3QgAAwM6mK3dCAACANPkrd0IAAECaSyx3QgAAAACeLHdCAADAZfAsd0IAAIDLQi13QgAAQDGVLXdCAAAAl+ctd0IAAMD8OS53QgAAgGKMLndCAABAyN4ud0IAAAAuMS93QgAAwJODL3dCAACA+dUvd0IAAEBfKDB3QgAAAMV6MHdCAADAKs0wd0IAAICQHzF3QgAAQPZxMXdCAAAAXMQxd0IAAMDBFjJ3QgAAgCdpMndCAABAjbsyd0IAAADzDTN3QgAAwFhgM3dCAACAvrIzd0IAAEAkBTR3QgAAAIpXNHdCAADA76k0d0IAAIBV/DR3QgAAQLtONXdCAAAAIaE1d0IAAMCG8zV3QgAAgOxFNndCAABAUpg2d0IAAAC46jZ3QgAAwB09N3dCAACAg483d0IAAEDp4Td3QgAAAE80OHdCAADAtIY4d0IAAIAa2Th3QgAAQIArOXdCAAAA5n05d0IAAMBL0Dl3QgAAgLEiOndCAABAF3U6d0IAAAB9xzp3QgAAwOIZO3dCAACASGw7d0IAAECuvjt3QgAAABQRPHdCAADAeWM8d0IAAIDftTx3QgAAQEUIPXdCAAAAq1o9d0IAAMAQrT13QgAAgHb/PXdCAABA3FE+d0IAAABCpD53QgAAwKf2PndCAACADUk/d0IAAEBzmz93QgAAANntP3dC\",\"dtype\":\"float64\",\"shape\":[177]},\"y\":[18,26,47,97,145,217,285,335,420,544,698,870,1010,1180,1386,1533,1739,1947,2263,2644,3093,3522,3931,4525,5214,5968,6705,7555,8535,9254,10054,10816,11588,12383,13119,13531,14074,14787,15333,15932,16540,17089,17556,17825,18234,18677,19128,19635,20098,20440,20752,21029,21486,21834,22184,22560,22867,23092,23434,23723,23970,24209,24450,24662,24914,25177,25436,25644,25850,26016,26175,26275,26379,26487,26598,26719,26796,26876,26929,26979,27056,27110,27182,27232,27267,27314,27364,27417,27470,27513,27558,27587,27611,27627,27701,27739,27759,27790,27809,27828,27842,27860,27877,27894,27908,27928,27946,27970,27995,28028,28056,28073,28084,28097,28111,28143,28170,28198,28221,28243,28260,28304,28351,28393,28435,28456,28472,28492,28508,28535,28562,28613,28637,28675,28706,28755,28769,28822,28869,28940,28958,28971,28989,29035,29087,29127,29178,29220,29238,29295,29350,29413,29461,29522,29555,29575,29603,29634,29670,29726,29774,29808,29850,29897,29954,30008,30052,30121,30160,30179,30220,30257,30314,30385,30436,30477,30498]},\"selected\":{\"id\":\"1087\"},\"selection_policy\":{\"id\":\"1088\"}},\"id\":\"1035\",\"type\":\"ColumnDataSource\"}],\"root_ids\":[\"1002\"]},\"title\":\"Bokeh Application\",\"version\":\"2.0.2\"}};\n",
       "  var render_items = [{\"docid\":\"0c11d1f8-5252-46b8-98f2-4181344ce4c7\",\"root_ids\":[\"1002\"],\"roots\":{\"1002\":\"c9ef1479-a53f-41f7-b8cc-b1014acbb1eb\"}}];\n",
       "  root.Bokeh.embed.embed_items_notebook(docs_json, render_items);\n",
       "\n",
       "  }\n",
       "  if (root.Bokeh !== undefined) {\n",
       "    embed_document(root);\n",
       "  } else {\n",
       "    var attempts = 0;\n",
       "    var timer = setInterval(function(root) {\n",
       "      if (root.Bokeh !== undefined) {\n",
       "        clearInterval(timer);\n",
       "        embed_document(root);\n",
       "      } else {\n",
       "        attempts++;\n",
       "        if (attempts > 100) {\n",
       "          clearInterval(timer);\n",
       "          console.log(\"Bokeh: ERROR: Unable to run BokehJS code because BokehJS library is missing\");\n",
       "        }\n",
       "      }\n",
       "    }, 10, root)\n",
       "  }\n",
       "})(window);"
      ],
      "application/vnd.bokehjs_exec.v0+json": ""
     },
     "metadata": {
      "application/vnd.bokehjs_exec.v0+json": {
       "id": "1002"
      }
     },
     "output_type": "display_data"
    }
   ],
   "source": [
    "p_total_cases_positive_EmiliaRomagna = bokeh_plot_N_lines(x=time_date_new, y_list=[total_cases_EmiliaRomagna,total_positive_EmiliaRomagna], \n",
    "                  title='Total Cases & Total Positive: Emilia-Romagna', \n",
    "                  dim=[600, 450], \n",
    "                  x_label='Date', \n",
    "                  y_label='Total Cases & Total Positive', legend_list=['total cases','total positive'],\n",
    "                  x_label_hover='date', y_label_hover='total cases OR total positive',\n",
    "                  color_list=['blue','red'],legend_location=\"top_left\")\n",
    "\n",
    "output_file(\"total_cases_positive_EmiliaRomagna.html\")\n",
    "\n",
    "show(p_total_cases_positive_EmiliaRomagna)"
   ]
  },
  {
   "cell_type": "markdown",
   "metadata": {},
   "source": [
    "------------------\n",
    "\n",
    "### Deaths"
   ]
  },
  {
   "cell_type": "code",
   "execution_count": 17,
   "metadata": {},
   "outputs": [
    {
     "data": {
      "text/plain": [
       "4     0\n",
       "25    0\n",
       "46    1\n",
       "67    1\n",
       "88    2\n",
       "Name: deceduti, dtype: int64"
      ]
     },
     "execution_count": 17,
     "metadata": {},
     "output_type": "execute_result"
    }
   ],
   "source": [
    "deceduti_EmiliaRomagna = df_EmiliaRomagna['deceduti']\n",
    "deceduti_EmiliaRomagna.head()"
   ]
  },
  {
   "cell_type": "markdown",
   "metadata": {},
   "source": [
    "------------------\n",
    "\n",
    "### Recovered"
   ]
  },
  {
   "cell_type": "code",
   "execution_count": 18,
   "metadata": {},
   "outputs": [
    {
     "data": {
      "text/plain": [
       "4     0\n",
       "25    0\n",
       "46    0\n",
       "67    0\n",
       "88    0\n",
       "Name: dimessi_guariti, dtype: int64"
      ]
     },
     "execution_count": 18,
     "metadata": {},
     "output_type": "execute_result"
    }
   ],
   "source": [
    "guariti_EmiliaRomagna = df_EmiliaRomagna['dimessi_guariti']\n",
    "guariti_EmiliaRomagna.head()"
   ]
  },
  {
   "cell_type": "code",
   "execution_count": 19,
   "metadata": {},
   "outputs": [
    {
     "data": {
      "text/html": [
       "\n",
       "\n",
       "\n",
       "\n",
       "\n",
       "\n",
       "  <div class=\"bk-root\" id=\"cf2dfb7b-0ed5-4073-9989-6af8231dbf20\" data-root-id=\"1537\"></div>\n"
      ]
     },
     "metadata": {},
     "output_type": "display_data"
    },
    {
     "data": {
      "application/javascript": [
       "(function(root) {\n",
       "  function embed_document(root) {\n",
       "    \n",
       "  var docs_json = {\"5840216b-8486-45a7-ac30-27041fb6ab5d\":{\"roots\":{\"references\":[{\"attributes\":{\"below\":[{\"id\":\"1548\"}],\"center\":[{\"id\":\"1551\"},{\"id\":\"1555\"},{\"id\":\"1593\"}],\"left\":[{\"id\":\"1552\"}],\"plot_height\":450,\"renderers\":[{\"id\":\"1573\"},{\"id\":\"1598\"},{\"id\":\"1603\"},{\"id\":\"1631\"}],\"title\":{\"id\":\"1538\"},\"toolbar\":{\"id\":\"1563\"},\"x_range\":{\"id\":\"1540\"},\"x_scale\":{\"id\":\"1544\"},\"y_range\":{\"id\":\"1542\"},\"y_scale\":{\"id\":\"1546\"}},\"id\":\"1537\",\"subtype\":\"Figure\",\"type\":\"Plot\"},{\"attributes\":{\"source\":{\"id\":\"1570\"}},\"id\":\"1574\",\"type\":\"CDSView\"},{\"attributes\":{\"months\":[0,1,2,3,4,5,6,7,8,9,10,11]},\"id\":\"1587\",\"type\":\"MonthsTicker\"},{\"attributes\":{},\"id\":\"1624\",\"type\":\"Selection\"},{\"attributes\":{\"data\":{\"x\":{\"__ndarray__\":\"AAAA5UcHd0IAAMBKmgd3QgAAgLDsB3dCAABAFj8Id0IAAAB8kQh3QgAAwOHjCHdCAACARzYJd0IAAECtiAl3QgAAABPbCXdCAADAeC0Kd0IAAIDefwp3QgAAQETSCndCAAAAqiQLd0IAAMAPdwt3QgAAgHXJC3dCAABA2xsMd0IAAABBbgx3QgAAwKbADHdCAACADBMNd0IAAEByZQ13QgAAANi3DXdCAADAPQoOd0IAAICjXA53QgAAQAmvDndCAAAAbwEPd0IAAMDUUw93QgAAgDqmD3dCAABAoPgPd0IAAAAGSxB3QgAAwGudEHdCAACA0e8Qd0IAAEA3QhF3QgAAAJ2UEXdCAADAAucRd0IAAIBoORJ3QgAAQM6LEndCAAAANN4Sd0IAAMCZMBN3QgAAgP+CE3dCAABAZdUTd0IAAADLJxR3QgAAwDB6FHdCAACAlswUd0IAAED8HhV3QgAAAGJxFXdCAADAx8MVd0IAAIAtFhZ3QgAAQJNoFndCAAAA+boWd0IAAMBeDRd3QgAAgMRfF3dCAABAKrIXd0IAAACQBBh3QgAAwPVWGHdCAACAW6kYd0IAAEDB+xh3QgAAACdOGXdCAADAjKAZd0IAAIDy8hl3QgAAQFhFGndCAAAAvpcad0IAAMAj6hp3QgAAgIk8G3dCAABA744bd0IAAABV4Rt3QgAAwLozHHdCAACAIIYcd0IAAECG2Bx3QgAAAOwqHXdCAADAUX0dd0IAAIC3zx13QgAAQB0iHndCAAAAg3Qed0IAAMDoxh53QgAAgE4ZH3dCAABAtGsfd0IAAAAavh93QgAAwH8QIHdCAACA5WIgd0IAAEBLtSB3QgAAALEHIXdCAADAFlohd0IAAIB8rCF3QgAAQOL+IXdCAAAASFEid0IAAMCtoyJ3QgAAgBP2IndCAABAeUgjd0IAAADfmiN3QgAAwETtI3dCAACAqj8kd0IAAEAQkiR3QgAAAHbkJHdCAADA2zYld0IAAIBBiSV3QgAAQKfbJXdCAAAADS4md0IAAMBygCZ3QgAAgNjSJndCAABAPiUnd0IAAACkdyd3QgAAwAnKJ3dCAACAbxwod0IAAEDVbih3QgAAADvBKHdCAADAoBMpd0IAAIAGZil3QgAAQGy4KXdCAAAA0goqd0IAAMA3XSp3QgAAgJ2vKndCAABAAwIrd0IAAABpVCt3QgAAwM6mK3dCAACANPkrd0IAAECaSyx3QgAAAACeLHdCAADAZfAsd0IAAIDLQi13QgAAQDGVLXdCAAAAl+ctd0IAAMD8OS53QgAAgGKMLndCAABAyN4ud0IAAAAuMS93QgAAwJODL3dCAACA+dUvd0IAAEBfKDB3QgAAAMV6MHdCAADAKs0wd0IAAICQHzF3QgAAQPZxMXdCAAAAXMQxd0IAAMDBFjJ3QgAAgCdpMndCAABAjbsyd0IAAADzDTN3QgAAwFhgM3dCAACAvrIzd0IAAEAkBTR3QgAAAIpXNHdCAADA76k0d0IAAIBV/DR3QgAAQLtONXdCAAAAIaE1d0IAAMCG8zV3QgAAgOxFNndCAABAUpg2d0IAAAC46jZ3QgAAwB09N3dCAACAg483d0IAAEDp4Td3QgAAAE80OHdCAADAtIY4d0IAAIAa2Th3QgAAQIArOXdCAAAA5n05d0IAAMBL0Dl3QgAAgLEiOndCAABAF3U6d0IAAAB9xzp3QgAAwOIZO3dCAACASGw7d0IAAECuvjt3QgAAABQRPHdCAADAeWM8d0IAAIDftTx3QgAAQEUIPXdCAAAAq1o9d0IAAMAQrT13QgAAgHb/PXdCAABA3FE+d0IAAABCpD53QgAAwKf2PndCAACADUk/d0IAAEBzmz93QgAAANntP3dC\",\"dtype\":\"float64\",\"shape\":[177]},\"y\":[0,0,1,1,2,4,8,11,18,22,30,37,48,56,70,85,113,146,201,241,284,346,393,458,531,640,715,816,892,985,1077,1174,1267,1344,1443,1538,1644,1732,1811,1902,1977,2051,2108,2180,2234,2316,2397,2481,2564,2615,2705,2788,2843,2903,2965,3023,3079,3147,3204,3269,3303,3347,3386,3431,3472,3512,3551,3579,3614,3642,3666,3705,3737,3766,3797,3827,3845,3867,3885,3905,3930,3943,3960,3973,3986,3997,4008,4025,4037,4047,4055,4068,4076,4083,4094,4102,4107,4114,4124,4136,4147,4154,4167,4171,4175,4179,4185,4192,4192,4196,4199,4204,4207,4209,4215,4219,4224,4230,4231,4235,4236,4245,4249,4252,4252,4253,4255,4260,4264,4265,4267,4267,4268,4268,4269,4269,4269,4269,4269,4269,4269,4271,4271,4271,4273,4274,4274,4277,4279,4281,4281,4283,4284,4285,4285,4286,4287,4289,4289,4291,4291,4291,4291,4291,4291,4292,4294,4295,4296,4298,4298,4298,4298,4453,4453,4453,4454]},\"selected\":{\"id\":\"1622\"},\"selection_policy\":{\"id\":\"1623\"}},\"id\":\"1570\",\"type\":\"ColumnDataSource\"},{\"attributes\":{\"source\":{\"id\":\"1595\"}},\"id\":\"1599\",\"type\":\"CDSView\"},{\"attributes\":{\"callback\":null,\"formatters\":{\"@x\":\"datetime\"},\"mode\":\"vline\",\"tooltips\":[[\"date\",\"@x{%d %B}\"],[\"deaths OR recovered\",\"@y{0[.]000}\"]]},\"id\":\"1637\",\"type\":\"HoverTool\"},{\"attributes\":{},\"id\":\"1544\",\"type\":\"LinearScale\"},{\"attributes\":{\"line_color\":\"green\",\"line_width\":4,\"x\":{\"field\":\"x\"},\"y\":{\"field\":\"y\"}},\"id\":\"1601\",\"type\":\"Line\"},{\"attributes\":{},\"id\":\"1682\",\"type\":\"Selection\"},{\"attributes\":{\"label\":{\"value\":\"deaths\"},\"renderers\":[{\"id\":\"1573\"}]},\"id\":\"1594\",\"type\":\"LegendItem\"},{\"attributes\":{},\"id\":\"1556\",\"type\":\"PanTool\"},{\"attributes\":{\"days\":[\"%d %B\"]},\"id\":\"1633\",\"type\":\"DatetimeTickFormatter\"},{\"attributes\":{},\"id\":\"1557\",\"type\":\"WheelZoomTool\"},{\"attributes\":{},\"id\":\"1542\",\"type\":\"DataRange1d\"},{\"attributes\":{\"line_color\":\"darkviolet\",\"line_width\":4,\"x\":{\"field\":\"x\"},\"y\":{\"field\":\"y\"}},\"id\":\"1571\",\"type\":\"Line\"},{\"attributes\":{\"bottom_units\":\"screen\",\"fill_alpha\":0.5,\"fill_color\":\"lightgrey\",\"left_units\":\"screen\",\"level\":\"overlay\",\"line_alpha\":1.0,\"line_color\":\"black\",\"line_dash\":[4,4],\"line_width\":2,\"render_mode\":\"css\",\"right_units\":\"screen\",\"top_units\":\"screen\"},\"id\":\"1562\",\"type\":\"BoxAnnotation\"},{\"attributes\":{\"overlay\":{\"id\":\"1562\"}},\"id\":\"1558\",\"type\":\"BoxZoomTool\"},{\"attributes\":{\"items\":[{\"id\":\"1594\"},{\"id\":\"1627\"}],\"location\":\"top_left\"},\"id\":\"1593\",\"type\":\"Legend\"},{\"attributes\":{},\"id\":\"1559\",\"type\":\"SaveTool\"},{\"attributes\":{},\"id\":\"1591\",\"type\":\"YearsTicker\"},{\"attributes\":{},\"id\":\"1622\",\"type\":\"Selection\"},{\"attributes\":{},\"id\":\"1684\",\"type\":\"Selection\"},{\"attributes\":{\"data\":{\"x\":{\"__ndarray__\":\"AAAA5UcHd0IAAMBKmgd3QgAAgLDsB3dCAABAFj8Id0IAAAB8kQh3QgAAwOHjCHdCAACARzYJd0IAAECtiAl3QgAAABPbCXdCAADAeC0Kd0IAAIDefwp3QgAAQETSCndCAAAAqiQLd0IAAMAPdwt3QgAAgHXJC3dCAABA2xsMd0IAAABBbgx3QgAAwKbADHdCAACADBMNd0IAAEByZQ13QgAAANi3DXdCAADAPQoOd0IAAICjXA53QgAAQAmvDndCAAAAbwEPd0IAAMDUUw93QgAAgDqmD3dCAABAoPgPd0IAAAAGSxB3QgAAwGudEHdCAACA0e8Qd0IAAEA3QhF3QgAAAJ2UEXdCAADAAucRd0IAAIBoORJ3QgAAQM6LEndCAAAANN4Sd0IAAMCZMBN3QgAAgP+CE3dCAABAZdUTd0IAAADLJxR3QgAAwDB6FHdCAACAlswUd0IAAED8HhV3QgAAAGJxFXdCAADAx8MVd0IAAIAtFhZ3QgAAQJNoFndCAAAA+boWd0IAAMBeDRd3QgAAgMRfF3dCAABAKrIXd0IAAACQBBh3QgAAwPVWGHdCAACAW6kYd0IAAEDB+xh3QgAAACdOGXdCAADAjKAZd0IAAIDy8hl3QgAAQFhFGndCAAAAvpcad0IAAMAj6hp3QgAAgIk8G3dCAABA744bd0IAAABV4Rt3QgAAwLozHHdCAACAIIYcd0IAAECG2Bx3QgAAAOwqHXdCAADAUX0dd0IAAIC3zx13QgAAQB0iHndCAAAAg3Qed0IAAMDoxh53QgAAgE4ZH3dCAABAtGsfd0IAAAAavh93QgAAwH8QIHdCAACA5WIgd0IAAEBLtSB3QgAAALEHIXdCAADAFlohd0IAAIB8rCF3QgAAQOL+IXdCAAAASFEid0IAAMCtoyJ3QgAAgBP2IndCAABAeUgjd0IAAADfmiN3QgAAwETtI3dCAACAqj8kd0IAAEAQkiR3QgAAAHbkJHdCAADA2zYld0IAAIBBiSV3QgAAQKfbJXdCAAAADS4md0IAAMBygCZ3QgAAgNjSJndCAABAPiUnd0IAAACkdyd3QgAAwAnKJ3dCAACAbxwod0IAAEDVbih3QgAAADvBKHdCAADAoBMpd0IAAIAGZil3QgAAQGy4KXdCAAAA0goqd0IAAMA3XSp3QgAAgJ2vKndCAABAAwIrd0IAAABpVCt3QgAAwM6mK3dCAACANPkrd0IAAECaSyx3QgAAAACeLHdCAADAZfAsd0IAAIDLQi13QgAAQDGVLXdCAAAAl+ctd0IAAMD8OS53QgAAgGKMLndCAABAyN4ud0IAAAAuMS93QgAAwJODL3dCAACA+dUvd0IAAEBfKDB3QgAAAMV6MHdCAADAKs0wd0IAAICQHzF3QgAAQPZxMXdCAAAAXMQxd0IAAMDBFjJ3QgAAgCdpMndCAABAjbsyd0IAAADzDTN3QgAAwFhgM3dCAACAvrIzd0IAAEAkBTR3QgAAAIpXNHdCAADA76k0d0IAAIBV/DR3QgAAQLtONXdCAAAAIaE1d0IAAMCG8zV3QgAAgOxFNndCAABAUpg2d0IAAAC46jZ3QgAAwB09N3dCAACAg483d0IAAEDp4Td3QgAAAE80OHdCAADAtIY4d0IAAIAa2Th3QgAAQIArOXdCAAAA5n05d0IAAMBL0Dl3QgAAgLEiOndCAABAF3U6d0IAAAB9xzp3QgAAwOIZO3dCAACASGw7d0IAAECuvjt3QgAAABQRPHdCAADAeWM8d0IAAIDftTx3QgAAQEUIPXdCAAAAq1o9d0IAAMAQrT13QgAAgHb/PXdCAABA3FE+d0IAAABCpD53QgAAwKf2PndCAACADUk/d0IAAEBzmz93QgAAANntP3dC\",\"dtype\":\"float64\",\"shape\":[177]},\"y\":[0,0,0,0,0,0,0,0,4,6,10,17,25,27,30,31,38,43,51,54,68,88,134,152,177,239,329,349,423,558,721,792,960,1075,1141,1227,1477,1566,1663,1852,2040,2201,2397,2597,2890,3103,3381,3659,3862,4007,4269,4664,4980,5346,5635,5985,6266,6701,7146,7609,8158,8515,8723,9006,9439,9803,12322,12581,12913,13329,13525,13889,14251,14710,15071,15491,15760,15969,16243,16572,16825,17166,17370,17603,17756,17987,18258,18466,18703,18896,19046,19160,19389,19546,19857,20073,20373,20513,20617,20780,20856,21018,21198,21307,21405,21467,21605,21717,21803,22015,22130,22232,22377,22483,22551,22643,22727,22761,22818,22854,22935,22985,23034,23097,23142,23161,23185,23222,23242,23267,23284,23309,23340,23343,23377,23415,23434,23440,23481,23491,23496,23511,23548,23566,23586,23619,23638,23645,23662,23689,23719,23758,23778,23793,23814,23830,23865,23874,23885,23925,23943,23957,23978,23997,24011,24041,24046,24066,24073,24091,24115,24132,24150,24178,24178,24210,24255]},\"selected\":{\"id\":\"1682\"},\"selection_policy\":{\"id\":\"1683\"}},\"id\":\"1600\",\"type\":\"ColumnDataSource\"},{\"attributes\":{},\"id\":\"1560\",\"type\":\"ResetTool\"},{\"attributes\":{\"months\":[0,6]},\"id\":\"1590\",\"type\":\"MonthsTicker\"},{\"attributes\":{},\"id\":\"1546\",\"type\":\"LinearScale\"},{\"attributes\":{\"axis_label\":\"Date\",\"formatter\":{\"id\":\"1633\"},\"major_label_orientation\":0.7853981633974483,\"minor_tick_in\":-5,\"minor_tick_out\":-3,\"ticker\":{\"id\":\"1549\"}},\"id\":\"1548\",\"type\":\"DatetimeAxis\"},{\"attributes\":{\"fill_alpha\":{\"value\":0.1},\"fill_color\":{\"value\":\"white\"},\"line_alpha\":{\"value\":0.1},\"line_color\":{\"value\":\"darkviolet\"},\"size\":{\"units\":\"screen\",\"value\":5},\"x\":{\"field\":\"x\"},\"y\":{\"field\":\"y\"}},\"id\":\"1597\",\"type\":\"Circle\"},{\"attributes\":{\"line_alpha\":0.1,\"line_color\":\"green\",\"line_width\":4,\"x\":{\"field\":\"x\"},\"y\":{\"field\":\"y\"}},\"id\":\"1602\",\"type\":\"Line\"},{\"attributes\":{},\"id\":\"1561\",\"type\":\"HelpTool\"},{\"attributes\":{\"label\":{\"value\":\"recovered\"},\"renderers\":[{\"id\":\"1603\"}]},\"id\":\"1627\",\"type\":\"LegendItem\"},{\"attributes\":{\"data\":{\"x\":{\"__ndarray__\":\"AAAA5UcHd0IAAMBKmgd3QgAAgLDsB3dCAABAFj8Id0IAAAB8kQh3QgAAwOHjCHdCAACARzYJd0IAAECtiAl3QgAAABPbCXdCAADAeC0Kd0IAAIDefwp3QgAAQETSCndCAAAAqiQLd0IAAMAPdwt3QgAAgHXJC3dCAABA2xsMd0IAAABBbgx3QgAAwKbADHdCAACADBMNd0IAAEByZQ13QgAAANi3DXdCAADAPQoOd0IAAICjXA53QgAAQAmvDndCAAAAbwEPd0IAAMDUUw93QgAAgDqmD3dCAABAoPgPd0IAAAAGSxB3QgAAwGudEHdCAACA0e8Qd0IAAEA3QhF3QgAAAJ2UEXdCAADAAucRd0IAAIBoORJ3QgAAQM6LEndCAAAANN4Sd0IAAMCZMBN3QgAAgP+CE3dCAABAZdUTd0IAAADLJxR3QgAAwDB6FHdCAACAlswUd0IAAED8HhV3QgAAAGJxFXdCAADAx8MVd0IAAIAtFhZ3QgAAQJNoFndCAAAA+boWd0IAAMBeDRd3QgAAgMRfF3dCAABAKrIXd0IAAACQBBh3QgAAwPVWGHdCAACAW6kYd0IAAEDB+xh3QgAAACdOGXdCAADAjKAZd0IAAIDy8hl3QgAAQFhFGndCAAAAvpcad0IAAMAj6hp3QgAAgIk8G3dCAABA744bd0IAAABV4Rt3QgAAwLozHHdCAACAIIYcd0IAAECG2Bx3QgAAAOwqHXdCAADAUX0dd0IAAIC3zx13QgAAQB0iHndCAAAAg3Qed0IAAMDoxh53QgAAgE4ZH3dCAABAtGsfd0IAAAAavh93QgAAwH8QIHdCAACA5WIgd0IAAEBLtSB3QgAAALEHIXdCAADAFlohd0IAAIB8rCF3QgAAQOL+IXdCAAAASFEid0IAAMCtoyJ3QgAAgBP2IndCAABAeUgjd0IAAADfmiN3QgAAwETtI3dCAACAqj8kd0IAAEAQkiR3QgAAAHbkJHdCAADA2zYld0IAAIBBiSV3QgAAQKfbJXdCAAAADS4md0IAAMBygCZ3QgAAgNjSJndCAABAPiUnd0IAAACkdyd3QgAAwAnKJ3dCAACAbxwod0IAAEDVbih3QgAAADvBKHdCAADAoBMpd0IAAIAGZil3QgAAQGy4KXdCAAAA0goqd0IAAMA3XSp3QgAAgJ2vKndCAABAAwIrd0IAAABpVCt3QgAAwM6mK3dCAACANPkrd0IAAECaSyx3QgAAAACeLHdCAADAZfAsd0IAAIDLQi13QgAAQDGVLXdCAAAAl+ctd0IAAMD8OS53QgAAgGKMLndCAABAyN4ud0IAAAAuMS93QgAAwJODL3dCAACA+dUvd0IAAEBfKDB3QgAAAMV6MHdCAADAKs0wd0IAAICQHzF3QgAAQPZxMXdCAAAAXMQxd0IAAMDBFjJ3QgAAgCdpMndCAABAjbsyd0IAAADzDTN3QgAAwFhgM3dCAACAvrIzd0IAAEAkBTR3QgAAAIpXNHdCAADA76k0d0IAAIBV/DR3QgAAQLtONXdCAAAAIaE1d0IAAMCG8zV3QgAAgOxFNndCAABAUpg2d0IAAAC46jZ3QgAAwB09N3dCAACAg483d0IAAEDp4Td3QgAAAE80OHdCAADAtIY4d0IAAIAa2Th3QgAAQIArOXdCAAAA5n05d0IAAMBL0Dl3QgAAgLEiOndCAABAF3U6d0IAAAB9xzp3QgAAwOIZO3dCAACASGw7d0IAAECuvjt3QgAAABQRPHdCAADAeWM8d0IAAIDftTx3QgAAQEUIPXdCAAAAq1o9d0IAAMAQrT13QgAAgHb/PXdCAABA3FE+d0IAAABCpD53QgAAwKf2PndCAACADUk/d0IAAEBzmz93QgAAANntP3dC\",\"dtype\":\"float64\",\"shape\":[177]},\"y\":[0,0,1,1,2,4,8,11,18,22,30,37,48,56,70,85,113,146,201,241,284,346,393,458,531,640,715,816,892,985,1077,1174,1267,1344,1443,1538,1644,1732,1811,1902,1977,2051,2108,2180,2234,2316,2397,2481,2564,2615,2705,2788,2843,2903,2965,3023,3079,3147,3204,3269,3303,3347,3386,3431,3472,3512,3551,3579,3614,3642,3666,3705,3737,3766,3797,3827,3845,3867,3885,3905,3930,3943,3960,3973,3986,3997,4008,4025,4037,4047,4055,4068,4076,4083,4094,4102,4107,4114,4124,4136,4147,4154,4167,4171,4175,4179,4185,4192,4192,4196,4199,4204,4207,4209,4215,4219,4224,4230,4231,4235,4236,4245,4249,4252,4252,4253,4255,4260,4264,4265,4267,4267,4268,4268,4269,4269,4269,4269,4269,4269,4269,4271,4271,4271,4273,4274,4274,4277,4279,4281,4281,4283,4284,4285,4285,4286,4287,4289,4289,4291,4291,4291,4291,4291,4291,4292,4294,4295,4296,4298,4298,4298,4298,4453,4453,4453,4454]},\"selected\":{\"id\":\"1624\"},\"selection_policy\":{\"id\":\"1625\"}},\"id\":\"1595\",\"type\":\"ColumnDataSource\"},{\"attributes\":{\"mantissas\":[1,2,5],\"max_interval\":500.0,\"num_minor_ticks\":0},\"id\":\"1580\",\"type\":\"AdaptiveTicker\"},{\"attributes\":{},\"id\":\"1683\",\"type\":\"UnionRenderers\"},{\"attributes\":{\"active_drag\":\"auto\",\"active_inspect\":\"auto\",\"active_multi\":null,\"active_scroll\":\"auto\",\"active_tap\":\"auto\",\"tools\":[{\"id\":\"1556\"},{\"id\":\"1557\"},{\"id\":\"1558\"},{\"id\":\"1559\"},{\"id\":\"1560\"},{\"id\":\"1561\"},{\"id\":\"1637\"}]},\"id\":\"1563\",\"type\":\"Toolbar\"},{\"attributes\":{},\"id\":\"1553\",\"type\":\"BasicTicker\"},{\"attributes\":{\"base\":24,\"mantissas\":[1,2,4,6,8,12],\"max_interval\":43200000.0,\"min_interval\":3600000.0,\"num_minor_ticks\":0},\"id\":\"1582\",\"type\":\"AdaptiveTicker\"},{\"attributes\":{},\"id\":\"1623\",\"type\":\"UnionRenderers\"},{\"attributes\":{},\"id\":\"1685\",\"type\":\"UnionRenderers\"},{\"attributes\":{\"num_minor_ticks\":5,\"tickers\":[{\"id\":\"1580\"},{\"id\":\"1581\"},{\"id\":\"1582\"},{\"id\":\"1583\"},{\"id\":\"1584\"},{\"id\":\"1585\"},{\"id\":\"1586\"},{\"id\":\"1587\"},{\"id\":\"1588\"},{\"id\":\"1589\"},{\"id\":\"1590\"},{\"id\":\"1591\"}]},\"id\":\"1549\",\"type\":\"DatetimeTicker\"},{\"attributes\":{\"data_source\":{\"id\":\"1600\"},\"glyph\":{\"id\":\"1601\"},\"hover_glyph\":null,\"muted_glyph\":null,\"nonselection_glyph\":{\"id\":\"1602\"},\"selection_glyph\":null,\"view\":{\"id\":\"1604\"}},\"id\":\"1603\",\"type\":\"GlyphRenderer\"},{\"attributes\":{\"data_source\":{\"id\":\"1628\"},\"glyph\":{\"id\":\"1629\"},\"hover_glyph\":null,\"muted_glyph\":null,\"nonselection_glyph\":{\"id\":\"1630\"},\"selection_glyph\":null,\"view\":{\"id\":\"1632\"}},\"id\":\"1631\",\"type\":\"GlyphRenderer\"},{\"attributes\":{\"base\":60,\"mantissas\":[1,2,5,10,15,20,30],\"max_interval\":1800000.0,\"min_interval\":1000.0,\"num_minor_ticks\":0},\"id\":\"1581\",\"type\":\"AdaptiveTicker\"},{\"attributes\":{\"months\":[0,4,8]},\"id\":\"1589\",\"type\":\"MonthsTicker\"},{\"attributes\":{},\"id\":\"1540\",\"type\":\"DataRange1d\"},{\"attributes\":{\"axis\":{\"id\":\"1548\"},\"ticker\":null},\"id\":\"1551\",\"type\":\"Grid\"},{\"attributes\":{},\"id\":\"1625\",\"type\":\"UnionRenderers\"},{\"attributes\":{\"axis\":{\"id\":\"1552\"},\"dimension\":1,\"ticker\":null},\"id\":\"1555\",\"type\":\"Grid\"},{\"attributes\":{\"months\":[0,2,4,6,8,10]},\"id\":\"1588\",\"type\":\"MonthsTicker\"},{\"attributes\":{\"fill_color\":{\"value\":\"white\"},\"line_color\":{\"value\":\"darkviolet\"},\"size\":{\"units\":\"screen\",\"value\":5},\"x\":{\"field\":\"x\"},\"y\":{\"field\":\"y\"}},\"id\":\"1596\",\"type\":\"Circle\"},{\"attributes\":{\"fill_color\":{\"value\":\"white\"},\"line_color\":{\"value\":\"green\"},\"size\":{\"units\":\"screen\",\"value\":5},\"x\":{\"field\":\"x\"},\"y\":{\"field\":\"y\"}},\"id\":\"1629\",\"type\":\"Circle\"},{\"attributes\":{\"days\":[1,4,7,10,13,16,19,22,25,28]},\"id\":\"1584\",\"type\":\"DaysTicker\"},{\"attributes\":{\"days\":[1,8,15,22]},\"id\":\"1585\",\"type\":\"DaysTicker\"},{\"attributes\":{\"axis_label\":\"Deaths & Recovered\",\"formatter\":{\"id\":\"1635\"},\"minor_tick_in\":-5,\"minor_tick_out\":-3,\"ticker\":{\"id\":\"1553\"}},\"id\":\"1552\",\"type\":\"LinearAxis\"},{\"attributes\":{\"data_source\":{\"id\":\"1595\"},\"glyph\":{\"id\":\"1596\"},\"hover_glyph\":null,\"muted_glyph\":null,\"nonselection_glyph\":{\"id\":\"1597\"},\"selection_glyph\":null,\"view\":{\"id\":\"1599\"}},\"id\":\"1598\",\"type\":\"GlyphRenderer\"},{\"attributes\":{\"source\":{\"id\":\"1628\"}},\"id\":\"1632\",\"type\":\"CDSView\"},{\"attributes\":{\"use_scientific\":false},\"id\":\"1635\",\"type\":\"BasicTickFormatter\"},{\"attributes\":{\"days\":[1,2,3,4,5,6,7,8,9,10,11,12,13,14,15,16,17,18,19,20,21,22,23,24,25,26,27,28,29,30,31]},\"id\":\"1583\",\"type\":\"DaysTicker\"},{\"attributes\":{\"source\":{\"id\":\"1600\"}},\"id\":\"1604\",\"type\":\"CDSView\"},{\"attributes\":{\"data\":{\"x\":{\"__ndarray__\":\"AAAA5UcHd0IAAMBKmgd3QgAAgLDsB3dCAABAFj8Id0IAAAB8kQh3QgAAwOHjCHdCAACARzYJd0IAAECtiAl3QgAAABPbCXdCAADAeC0Kd0IAAIDefwp3QgAAQETSCndCAAAAqiQLd0IAAMAPdwt3QgAAgHXJC3dCAABA2xsMd0IAAABBbgx3QgAAwKbADHdCAACADBMNd0IAAEByZQ13QgAAANi3DXdCAADAPQoOd0IAAICjXA53QgAAQAmvDndCAAAAbwEPd0IAAMDUUw93QgAAgDqmD3dCAABAoPgPd0IAAAAGSxB3QgAAwGudEHdCAACA0e8Qd0IAAEA3QhF3QgAAAJ2UEXdCAADAAucRd0IAAIBoORJ3QgAAQM6LEndCAAAANN4Sd0IAAMCZMBN3QgAAgP+CE3dCAABAZdUTd0IAAADLJxR3QgAAwDB6FHdCAACAlswUd0IAAED8HhV3QgAAAGJxFXdCAADAx8MVd0IAAIAtFhZ3QgAAQJNoFndCAAAA+boWd0IAAMBeDRd3QgAAgMRfF3dCAABAKrIXd0IAAACQBBh3QgAAwPVWGHdCAACAW6kYd0IAAEDB+xh3QgAAACdOGXdCAADAjKAZd0IAAIDy8hl3QgAAQFhFGndCAAAAvpcad0IAAMAj6hp3QgAAgIk8G3dCAABA744bd0IAAABV4Rt3QgAAwLozHHdCAACAIIYcd0IAAECG2Bx3QgAAAOwqHXdCAADAUX0dd0IAAIC3zx13QgAAQB0iHndCAAAAg3Qed0IAAMDoxh53QgAAgE4ZH3dCAABAtGsfd0IAAAAavh93QgAAwH8QIHdCAACA5WIgd0IAAEBLtSB3QgAAALEHIXdCAADAFlohd0IAAIB8rCF3QgAAQOL+IXdCAAAASFEid0IAAMCtoyJ3QgAAgBP2IndCAABAeUgjd0IAAADfmiN3QgAAwETtI3dCAACAqj8kd0IAAEAQkiR3QgAAAHbkJHdCAADA2zYld0IAAIBBiSV3QgAAQKfbJXdCAAAADS4md0IAAMBygCZ3QgAAgNjSJndCAABAPiUnd0IAAACkdyd3QgAAwAnKJ3dCAACAbxwod0IAAEDVbih3QgAAADvBKHdCAADAoBMpd0IAAIAGZil3QgAAQGy4KXdCAAAA0goqd0IAAMA3XSp3QgAAgJ2vKndCAABAAwIrd0IAAABpVCt3QgAAwM6mK3dCAACANPkrd0IAAECaSyx3QgAAAACeLHdCAADAZfAsd0IAAIDLQi13QgAAQDGVLXdCAAAAl+ctd0IAAMD8OS53QgAAgGKMLndCAABAyN4ud0IAAAAuMS93QgAAwJODL3dCAACA+dUvd0IAAEBfKDB3QgAAAMV6MHdCAADAKs0wd0IAAICQHzF3QgAAQPZxMXdCAAAAXMQxd0IAAMDBFjJ3QgAAgCdpMndCAABAjbsyd0IAAADzDTN3QgAAwFhgM3dCAACAvrIzd0IAAEAkBTR3QgAAAIpXNHdCAADA76k0d0IAAIBV/DR3QgAAQLtONXdCAAAAIaE1d0IAAMCG8zV3QgAAgOxFNndCAABAUpg2d0IAAAC46jZ3QgAAwB09N3dCAACAg483d0IAAEDp4Td3QgAAAE80OHdCAADAtIY4d0IAAIAa2Th3QgAAQIArOXdCAAAA5n05d0IAAMBL0Dl3QgAAgLEiOndCAABAF3U6d0IAAAB9xzp3QgAAwOIZO3dCAACASGw7d0IAAECuvjt3QgAAABQRPHdCAADAeWM8d0IAAIDftTx3QgAAQEUIPXdCAAAAq1o9d0IAAMAQrT13QgAAgHb/PXdCAABA3FE+d0IAAABCpD53QgAAwKf2PndCAACADUk/d0IAAEBzmz93QgAAANntP3dC\",\"dtype\":\"float64\",\"shape\":[177]},\"y\":[0,0,0,0,0,0,0,0,4,6,10,17,25,27,30,31,38,43,51,54,68,88,134,152,177,239,329,349,423,558,721,792,960,1075,1141,1227,1477,1566,1663,1852,2040,2201,2397,2597,2890,3103,3381,3659,3862,4007,4269,4664,4980,5346,5635,5985,6266,6701,7146,7609,8158,8515,8723,9006,9439,9803,12322,12581,12913,13329,13525,13889,14251,14710,15071,15491,15760,15969,16243,16572,16825,17166,17370,17603,17756,17987,18258,18466,18703,18896,19046,19160,19389,19546,19857,20073,20373,20513,20617,20780,20856,21018,21198,21307,21405,21467,21605,21717,21803,22015,22130,22232,22377,22483,22551,22643,22727,22761,22818,22854,22935,22985,23034,23097,23142,23161,23185,23222,23242,23267,23284,23309,23340,23343,23377,23415,23434,23440,23481,23491,23496,23511,23548,23566,23586,23619,23638,23645,23662,23689,23719,23758,23778,23793,23814,23830,23865,23874,23885,23925,23943,23957,23978,23997,24011,24041,24046,24066,24073,24091,24115,24132,24150,24178,24178,24210,24255]},\"selected\":{\"id\":\"1684\"},\"selection_policy\":{\"id\":\"1685\"}},\"id\":\"1628\",\"type\":\"ColumnDataSource\"},{\"attributes\":{\"days\":[1,15]},\"id\":\"1586\",\"type\":\"DaysTicker\"},{\"attributes\":{\"fill_alpha\":{\"value\":0.1},\"fill_color\":{\"value\":\"white\"},\"line_alpha\":{\"value\":0.1},\"line_color\":{\"value\":\"green\"},\"size\":{\"units\":\"screen\",\"value\":5},\"x\":{\"field\":\"x\"},\"y\":{\"field\":\"y\"}},\"id\":\"1630\",\"type\":\"Circle\"},{\"attributes\":{\"text\":\"Deaths & Recovered: Emilia-Romagna\"},\"id\":\"1538\",\"type\":\"Title\"},{\"attributes\":{\"line_alpha\":0.1,\"line_color\":\"darkviolet\",\"line_width\":4,\"x\":{\"field\":\"x\"},\"y\":{\"field\":\"y\"}},\"id\":\"1572\",\"type\":\"Line\"},{\"attributes\":{\"data_source\":{\"id\":\"1570\"},\"glyph\":{\"id\":\"1571\"},\"hover_glyph\":null,\"muted_glyph\":null,\"nonselection_glyph\":{\"id\":\"1572\"},\"selection_glyph\":null,\"view\":{\"id\":\"1574\"}},\"id\":\"1573\",\"type\":\"GlyphRenderer\"}],\"root_ids\":[\"1537\"]},\"title\":\"Bokeh Application\",\"version\":\"2.0.2\"}};\n",
       "  var render_items = [{\"docid\":\"5840216b-8486-45a7-ac30-27041fb6ab5d\",\"root_ids\":[\"1537\"],\"roots\":{\"1537\":\"cf2dfb7b-0ed5-4073-9989-6af8231dbf20\"}}];\n",
       "  root.Bokeh.embed.embed_items_notebook(docs_json, render_items);\n",
       "\n",
       "  }\n",
       "  if (root.Bokeh !== undefined) {\n",
       "    embed_document(root);\n",
       "  } else {\n",
       "    var attempts = 0;\n",
       "    var timer = setInterval(function(root) {\n",
       "      if (root.Bokeh !== undefined) {\n",
       "        clearInterval(timer);\n",
       "        embed_document(root);\n",
       "      } else {\n",
       "        attempts++;\n",
       "        if (attempts > 100) {\n",
       "          clearInterval(timer);\n",
       "          console.log(\"Bokeh: ERROR: Unable to run BokehJS code because BokehJS library is missing\");\n",
       "        }\n",
       "      }\n",
       "    }, 10, root)\n",
       "  }\n",
       "})(window);"
      ],
      "application/vnd.bokehjs_exec.v0+json": ""
     },
     "metadata": {
      "application/vnd.bokehjs_exec.v0+json": {
       "id": "1537"
      }
     },
     "output_type": "display_data"
    }
   ],
   "source": [
    "p_deaths_recovered_EmiliaRomagna = bokeh_plot_N_lines(x=time_date_new, y_list=[deceduti_EmiliaRomagna,guariti_EmiliaRomagna], \n",
    "                  title='Deaths & Recovered: Emilia-Romagna', \n",
    "                  dim=[600, 450], \n",
    "                  x_label='Date', \n",
    "                  y_label='Deaths & Recovered', legend_list=['deaths','recovered'],\n",
    "                  x_label_hover='date', y_label_hover='deaths OR recovered',\n",
    "                  color_list=['darkviolet','green'],legend_location=\"top_left\")\n",
    "\n",
    "output_file(\"deaths_recovered_EmiliaRomagna.html\")\n",
    "\n",
    "show(p_deaths_recovered_EmiliaRomagna)"
   ]
  },
  {
   "cell_type": "markdown",
   "metadata": {},
   "source": [
    "------------------\n",
    "\n",
    "### New Positive"
   ]
  },
  {
   "cell_type": "code",
   "execution_count": 20,
   "metadata": {},
   "outputs": [
    {
     "data": {
      "text/plain": [
       "4     18\n",
       "25     8\n",
       "46    21\n",
       "67    50\n",
       "88    48\n",
       "Name: nuovi_positivi, dtype: int64"
      ]
     },
     "execution_count": 20,
     "metadata": {},
     "output_type": "execute_result"
    }
   ],
   "source": [
    "nuovi_positivi_EmiliaRomagna = df_EmiliaRomagna['nuovi_positivi']\n",
    "nuovi_positivi_EmiliaRomagna.head()"
   ]
  },
  {
   "cell_type": "code",
   "execution_count": 21,
   "metadata": {},
   "outputs": [
    {
     "data": {
      "text/html": [
       "<div>\n",
       "<style scoped>\n",
       "    .dataframe tbody tr th:only-of-type {\n",
       "        vertical-align: middle;\n",
       "    }\n",
       "\n",
       "    .dataframe tbody tr th {\n",
       "        vertical-align: top;\n",
       "    }\n",
       "\n",
       "    .dataframe thead th {\n",
       "        text-align: right;\n",
       "    }\n",
       "</style>\n",
       "<table border=\"1\" class=\"dataframe\">\n",
       "  <thead>\n",
       "    <tr style=\"text-align: right;\">\n",
       "      <th></th>\n",
       "      <th>nuovi_positivi</th>\n",
       "    </tr>\n",
       "  </thead>\n",
       "  <tbody>\n",
       "    <tr>\n",
       "      <th>4</th>\n",
       "      <td>NaN</td>\n",
       "    </tr>\n",
       "    <tr>\n",
       "      <th>25</th>\n",
       "      <td>NaN</td>\n",
       "    </tr>\n",
       "    <tr>\n",
       "      <th>46</th>\n",
       "      <td>NaN</td>\n",
       "    </tr>\n",
       "    <tr>\n",
       "      <th>67</th>\n",
       "      <td>NaN</td>\n",
       "    </tr>\n",
       "    <tr>\n",
       "      <th>88</th>\n",
       "      <td>NaN</td>\n",
       "    </tr>\n",
       "  </tbody>\n",
       "</table>\n",
       "</div>"
      ],
      "text/plain": [
       "    nuovi_positivi\n",
       "4              NaN\n",
       "25             NaN\n",
       "46             NaN\n",
       "67             NaN\n",
       "88             NaN"
      ]
     },
     "execution_count": 21,
     "metadata": {},
     "output_type": "execute_result"
    }
   ],
   "source": [
    "new_positive_EmiliaRomagna_df = pd.DataFrame(nuovi_positivi_EmiliaRomagna)\n",
    "\n",
    "SMA_new_positive_EmiliaRomagna = new_positive_EmiliaRomagna_df[:].rolling(window=7).mean()\n",
    "SMA_new_positive_EmiliaRomagna_2 = new_positive_EmiliaRomagna_df[:].rolling(window=14).mean()\n",
    "SMA_new_positive_EmiliaRomagna.head()"
   ]
  },
  {
   "cell_type": "code",
   "execution_count": 22,
   "metadata": {},
   "outputs": [
    {
     "data": {
      "text/html": [
       "\n",
       "\n",
       "\n",
       "\n",
       "\n",
       "\n",
       "  <div class=\"bk-root\" id=\"e1664ecc-fec3-4522-9072-5b96f04f352b\" data-root-id=\"2144\"></div>\n"
      ]
     },
     "metadata": {},
     "output_type": "display_data"
    },
    {
     "data": {
      "application/javascript": [
       "(function(root) {\n",
       "  function embed_document(root) {\n",
       "    \n",
       "  var docs_json = {\"be3de43d-c94f-49fa-a589-9ae4bfd428db\":{\"roots\":{\"references\":[{\"attributes\":{\"below\":[{\"id\":\"2155\"}],\"center\":[{\"id\":\"2158\"},{\"id\":\"2162\"},{\"id\":\"2200\"}],\"left\":[{\"id\":\"2159\"}],\"plot_height\":450,\"renderers\":[{\"id\":\"2180\"},{\"id\":\"2205\"},{\"id\":\"2210\"},{\"id\":\"2238\"}],\"title\":{\"id\":\"2145\"},\"toolbar\":{\"id\":\"2170\"},\"x_range\":{\"id\":\"2147\"},\"x_scale\":{\"id\":\"2151\"},\"y_range\":{\"id\":\"2149\"},\"y_scale\":{\"id\":\"2153\"}},\"id\":\"2144\",\"subtype\":\"Figure\",\"type\":\"Plot\"},{\"attributes\":{},\"id\":\"2314\",\"type\":\"UnionRenderers\"},{\"attributes\":{\"label\":{\"value\":\"SMA 14 days\"},\"renderers\":[{\"id\":\"2210\"}]},\"id\":\"2234\",\"type\":\"LegendItem\"},{\"attributes\":{\"source\":{\"id\":\"2202\"}},\"id\":\"2206\",\"type\":\"CDSView\"},{\"attributes\":{\"data_source\":{\"id\":\"2202\"},\"glyph\":{\"id\":\"2203\"},\"hover_glyph\":null,\"muted_glyph\":null,\"nonselection_glyph\":{\"id\":\"2204\"},\"selection_glyph\":null,\"view\":{\"id\":\"2206\"}},\"id\":\"2205\",\"type\":\"GlyphRenderer\"},{\"attributes\":{\"data_source\":{\"id\":\"2235\"},\"glyph\":{\"id\":\"2236\"},\"hover_glyph\":null,\"muted_glyph\":null,\"nonselection_glyph\":{\"id\":\"2237\"},\"selection_glyph\":null,\"view\":{\"id\":\"2239\"}},\"id\":\"2238\",\"type\":\"GlyphRenderer\"},{\"attributes\":{\"label\":{\"value\":\"new positive\"},\"renderers\":[{\"id\":\"2180\"}]},\"id\":\"2201\",\"type\":\"LegendItem\"},{\"attributes\":{\"data\":{\"x\":{\"__ndarray__\":\"AAAA5UcHd0IAAMBKmgd3QgAAgLDsB3dCAABAFj8Id0IAAAB8kQh3QgAAwOHjCHdCAACARzYJd0IAAECtiAl3QgAAABPbCXdCAADAeC0Kd0IAAIDefwp3QgAAQETSCndCAAAAqiQLd0IAAMAPdwt3QgAAgHXJC3dCAABA2xsMd0IAAABBbgx3QgAAwKbADHdCAACADBMNd0IAAEByZQ13QgAAANi3DXdCAADAPQoOd0IAAICjXA53QgAAQAmvDndCAAAAbwEPd0IAAMDUUw93QgAAgDqmD3dCAABAoPgPd0IAAAAGSxB3QgAAwGudEHdCAACA0e8Qd0IAAEA3QhF3QgAAAJ2UEXdCAADAAucRd0IAAIBoORJ3QgAAQM6LEndCAAAANN4Sd0IAAMCZMBN3QgAAgP+CE3dCAABAZdUTd0IAAADLJxR3QgAAwDB6FHdCAACAlswUd0IAAED8HhV3QgAAAGJxFXdCAADAx8MVd0IAAIAtFhZ3QgAAQJNoFndCAAAA+boWd0IAAMBeDRd3QgAAgMRfF3dCAABAKrIXd0IAAACQBBh3QgAAwPVWGHdCAACAW6kYd0IAAEDB+xh3QgAAACdOGXdCAADAjKAZd0IAAIDy8hl3QgAAQFhFGndCAAAAvpcad0IAAMAj6hp3QgAAgIk8G3dCAABA744bd0IAAABV4Rt3QgAAwLozHHdCAACAIIYcd0IAAECG2Bx3QgAAAOwqHXdCAADAUX0dd0IAAIC3zx13QgAAQB0iHndCAAAAg3Qed0IAAMDoxh53QgAAgE4ZH3dCAABAtGsfd0IAAAAavh93QgAAwH8QIHdCAACA5WIgd0IAAEBLtSB3QgAAALEHIXdCAADAFlohd0IAAIB8rCF3QgAAQOL+IXdCAAAASFEid0IAAMCtoyJ3QgAAgBP2IndCAABAeUgjd0IAAADfmiN3QgAAwETtI3dCAACAqj8kd0IAAEAQkiR3QgAAAHbkJHdCAADA2zYld0IAAIBBiSV3QgAAQKfbJXdCAAAADS4md0IAAMBygCZ3QgAAgNjSJndCAABAPiUnd0IAAACkdyd3QgAAwAnKJ3dCAACAbxwod0IAAEDVbih3QgAAADvBKHdCAADAoBMpd0IAAIAGZil3QgAAQGy4KXdCAAAA0goqd0IAAMA3XSp3QgAAgJ2vKndCAABAAwIrd0IAAABpVCt3QgAAwM6mK3dCAACANPkrd0IAAECaSyx3QgAAAACeLHdCAADAZfAsd0IAAIDLQi13QgAAQDGVLXdCAAAAl+ctd0IAAMD8OS53QgAAgGKMLndCAABAyN4ud0IAAAAuMS93QgAAwJODL3dCAACA+dUvd0IAAEBfKDB3QgAAAMV6MHdCAADAKs0wd0IAAICQHzF3QgAAQPZxMXdCAAAAXMQxd0IAAMDBFjJ3QgAAgCdpMndCAABAjbsyd0IAAADzDTN3QgAAwFhgM3dCAACAvrIzd0IAAEAkBTR3QgAAAIpXNHdCAADA76k0d0IAAIBV/DR3QgAAQLtONXdCAAAAIaE1d0IAAMCG8zV3QgAAgOxFNndCAABAUpg2d0IAAAC46jZ3QgAAwB09N3dCAACAg483d0IAAEDp4Td3QgAAAE80OHdCAADAtIY4d0IAAIAa2Th3QgAAQIArOXdCAAAA5n05d0IAAMBL0Dl3QgAAgLEiOndCAABAF3U6d0IAAAB9xzp3QgAAwOIZO3dCAACASGw7d0IAAECuvjt3QgAAABQRPHdCAADAeWM8d0IAAIDftTx3QgAAQEUIPXdCAAAAq1o9d0IAAMAQrT13QgAAgHb/PXdCAABA3FE+d0IAAABCpD53QgAAwKf2PndCAACADUk/d0IAAEBzmz93QgAAANntP3dC\",\"dtype\":\"float64\",\"shape\":[177]},\"y\":{\"__ndarray__\":\"AAAAAAAA+H8AAAAAAAD4fwAAAAAAAPh/AAAAAAAA+H8AAAAAAAD4fwAAAAAAAPh/AAAAAAAA+H8AAAAAAAD4fwAAAAAAAPh/AAAAAAAA+H8AAAAAAAD4fwAAAAAAAPh/AAAAAAAA+H8lSZIkSRJVQNu2bdu2bVhAkiRJkiTpWkBu27Zt2zZeQEmSJEmShGBAkiRJkiTpYkC3bdu2batlQCVJkiRJEmlASZIkSZJ0bECSJEmSJFlvQNu2bdu2xXFAkiRJkiQpdEAlSZIkScJ2QEmSJEmSbHlA27Zt27Z1fEAlSZIkSep/QAAAAAAAPIFAt23btm2PgkAAAAAAAMyDQEmSJEmS0IRAkiRJkiS9hUCSJEmSJGGGQLdt27ZtV4ZAAAAAAACkhkAAAAAAAOiGQCVJkiRJloZA27Zt27Y9hkAAAAAAAPSFQAAAAAAASIVAbtu2bdsihEDbtm3btiGDQCVJkiRJQoJAAAAAAACMgUBJkiRJktSAQAAAAAAAMIBAAAAAAAAof0AAAAAAANh+QAAAAAAA0H1A27Zt27bde0AAAAAAAHh7QJIkSZIkWXpAJUmSJEkyeUBJkiRJkmx4QNu2bdu2tXdAt23btm2Dd0Bu27Zt2zZ3QG7btm3bhnZA27Zt27addUC3bdu2bWt0QNu2bdu2bXNAkiRJkiTZckBJkiRJkpRyQEmSJEmShHJAJUmSJEmicUAlSZIkSQJxQNu2bdu2XXBAt23btm3bbkCSJEmSJIltQLdt27Zta2xAt23btm1LakDbtm3btq1oQG7btm3bdmdAkiRJkiRpZkAlSZIkSfJkQEmSJEmSxGNA27Zt27b9YUBu27Zt2xZgQNu2bdu27VxA27Zt27YtWkCSJEmSJMlXQG7btm3btlVAAAAAAACAU0Dbtm3bto1SQG7btm3bllFAt23btm2bUEBJkiRJkiRPQLdt27ZtW0xAbtu2bds2S0BJkiRJkmRJQLdt27ZtW0hASZIkSZIkR0CSJEmSJAlHQG7btm3bdkZAt23btm2bREDbtm3btu1DQLdt27ZtW0NAt23btm1bQkAlSZIkSRJBQEmSJEmSpD9AJUmSJEkSPUBu27Zt2zY7QAAAAAAAADlAt23btm1bOEDbtm3btu03QAAAAAAAgDhAAAAAAAAANUBJkiRJkqQ0QG7btm3bNjVAbtu2bds2NEBJkiRJkqQzQG7btm3bNjNAbtu2bds2M0Bu27Zt2zY0QNu2bdu27TRAbtu2bdu2NUC3bdu2bVs2QAAAAAAAgDZA27Zt27ZtNkC3bdu2bds3QNu2bdu2bTlAt23btm1bOkC3bdu2bVs7QEmSJEmSpDtAAAAAAAAAPEAAAAAAAIA8QEmSJEmSpDxAkiRJkiRJPECSJEmSJEk8QNu2bdu27T1AAAAAAAAAPkBJkiRJkiQ/QCVJkiRJEkBAAAAAAABAQEBu27Zt2zY/QG7btm3btj9AkiRJkiQJQEAlSZIkSdJBQEmSJEmS5EFASZIkSZKkQUBu27Zt27ZBQEmSJEmSZEJAt23btm1bQ0Bu27Zt2/ZCQNu2bdu27UNAJUmSJEkSREC3bdu2bZtDQEmSJEmS5ENAJUmSJEnSREDbtm3bti1FQAAAAAAAQEVASZIkSZLkREDbtm3btm1FQNu2bdu2rUVAkiRJkiQJRkBJkiRJkqRFQAAAAAAAAEVAJUmSJEmSRUAAAAAAAIBFQG7btm3bNkVAJUmSJEkSRkBu27Zt27ZFQCVJkiRJ0kVAAAAAAACARUAlSZIkSVJFQLdt27Ztm0VAJUmSJEnSRUCSJEmSJMlFQAAAAAAAQEZAJUmSJElSRkAlSZIkSRJHQLdt27Ztm0dA27Zt27atR0Dbtm3btu1HQNu2bdu2LUdA\",\"dtype\":\"float64\",\"shape\":[177]}},\"selected\":{\"id\":\"2315\"},\"selection_policy\":{\"id\":\"2316\"}},\"id\":\"2235\",\"type\":\"ColumnDataSource\"},{\"attributes\":{\"fill_color\":{\"value\":\"white\"},\"line_color\":{\"value\":\"blue\"},\"size\":{\"units\":\"screen\",\"value\":5},\"x\":{\"field\":\"x\"},\"y\":{\"field\":\"y\"}},\"id\":\"2203\",\"type\":\"Circle\"},{\"attributes\":{\"source\":{\"id\":\"2235\"}},\"id\":\"2239\",\"type\":\"CDSView\"},{\"attributes\":{\"mantissas\":[1,2,5],\"max_interval\":500.0,\"num_minor_ticks\":0},\"id\":\"2187\",\"type\":\"AdaptiveTicker\"},{\"attributes\":{\"months\":[0,6]},\"id\":\"2197\",\"type\":\"MonthsTicker\"},{\"attributes\":{},\"id\":\"2198\",\"type\":\"YearsTicker\"},{\"attributes\":{\"items\":[{\"id\":\"2201\"},{\"id\":\"2234\"}],\"location\":\"top_left\"},\"id\":\"2200\",\"type\":\"Legend\"},{\"attributes\":{\"days\":[\"%d %B\"]},\"id\":\"2240\",\"type\":\"DatetimeTickFormatter\"},{\"attributes\":{\"data\":{\"x\":{\"__ndarray__\":\"AAAA5UcHd0IAAMBKmgd3QgAAgLDsB3dCAABAFj8Id0IAAAB8kQh3QgAAwOHjCHdCAACARzYJd0IAAECtiAl3QgAAABPbCXdCAADAeC0Kd0IAAIDefwp3QgAAQETSCndCAAAAqiQLd0IAAMAPdwt3QgAAgHXJC3dCAABA2xsMd0IAAABBbgx3QgAAwKbADHdCAACADBMNd0IAAEByZQ13QgAAANi3DXdCAADAPQoOd0IAAICjXA53QgAAQAmvDndCAAAAbwEPd0IAAMDUUw93QgAAgDqmD3dCAABAoPgPd0IAAAAGSxB3QgAAwGudEHdCAACA0e8Qd0IAAEA3QhF3QgAAAJ2UEXdCAADAAucRd0IAAIBoORJ3QgAAQM6LEndCAAAANN4Sd0IAAMCZMBN3QgAAgP+CE3dCAABAZdUTd0IAAADLJxR3QgAAwDB6FHdCAACAlswUd0IAAED8HhV3QgAAAGJxFXdCAADAx8MVd0IAAIAtFhZ3QgAAQJNoFndCAAAA+boWd0IAAMBeDRd3QgAAgMRfF3dCAABAKrIXd0IAAACQBBh3QgAAwPVWGHdCAACAW6kYd0IAAEDB+xh3QgAAACdOGXdCAADAjKAZd0IAAIDy8hl3QgAAQFhFGndCAAAAvpcad0IAAMAj6hp3QgAAgIk8G3dCAABA744bd0IAAABV4Rt3QgAAwLozHHdCAACAIIYcd0IAAECG2Bx3QgAAAOwqHXdCAADAUX0dd0IAAIC3zx13QgAAQB0iHndCAAAAg3Qed0IAAMDoxh53QgAAgE4ZH3dCAABAtGsfd0IAAAAavh93QgAAwH8QIHdCAACA5WIgd0IAAEBLtSB3QgAAALEHIXdCAADAFlohd0IAAIB8rCF3QgAAQOL+IXdCAAAASFEid0IAAMCtoyJ3QgAAgBP2IndCAABAeUgjd0IAAADfmiN3QgAAwETtI3dCAACAqj8kd0IAAEAQkiR3QgAAAHbkJHdCAADA2zYld0IAAIBBiSV3QgAAQKfbJXdCAAAADS4md0IAAMBygCZ3QgAAgNjSJndCAABAPiUnd0IAAACkdyd3QgAAwAnKJ3dCAACAbxwod0IAAEDVbih3QgAAADvBKHdCAADAoBMpd0IAAIAGZil3QgAAQGy4KXdCAAAA0goqd0IAAMA3XSp3QgAAgJ2vKndCAABAAwIrd0IAAABpVCt3QgAAwM6mK3dCAACANPkrd0IAAECaSyx3QgAAAACeLHdCAADAZfAsd0IAAIDLQi13QgAAQDGVLXdCAAAAl+ctd0IAAMD8OS53QgAAgGKMLndCAABAyN4ud0IAAAAuMS93QgAAwJODL3dCAACA+dUvd0IAAEBfKDB3QgAAAMV6MHdCAADAKs0wd0IAAICQHzF3QgAAQPZxMXdCAAAAXMQxd0IAAMDBFjJ3QgAAgCdpMndCAABAjbsyd0IAAADzDTN3QgAAwFhgM3dCAACAvrIzd0IAAEAkBTR3QgAAAIpXNHdCAADA76k0d0IAAIBV/DR3QgAAQLtONXdCAAAAIaE1d0IAAMCG8zV3QgAAgOxFNndCAABAUpg2d0IAAAC46jZ3QgAAwB09N3dCAACAg483d0IAAEDp4Td3QgAAAE80OHdCAADAtIY4d0IAAIAa2Th3QgAAQIArOXdCAAAA5n05d0IAAMBL0Dl3QgAAgLEiOndCAABAF3U6d0IAAAB9xzp3QgAAwOIZO3dCAACASGw7d0IAAECuvjt3QgAAABQRPHdCAADAeWM8d0IAAIDftTx3QgAAQEUIPXdCAAAAq1o9d0IAAMAQrT13QgAAgHb/PXdCAABA3FE+d0IAAABCpD53QgAAwKf2PndCAACADUk/d0IAAEBzmz93QgAAANntP3dC\",\"dtype\":\"float64\",\"shape\":[177]},\"y\":[18,8,21,50,48,72,68,50,85,124,154,172,140,170,206,147,206,208,316,381,449,429,409,594,689,754,737,850,980,719,800,762,772,795,736,412,543,713,546,599,608,549,467,269,409,443,451,507,463,342,312,277,457,348,350,376,307,225,342,289,247,239,241,212,252,263,259,208,206,166,159,100,104,108,111,121,77,80,53,50,77,54,72,50,35,47,50,53,53,43,45,29,24,16,74,38,20,31,19,19,14,18,17,17,14,20,18,24,25,33,28,17,11,13,14,32,27,28,23,22,17,44,47,46,42,21,16,20,16,27,27,51,24,38,31,49,29,53,47,71,18,13,18,46,54,40,51,42,18,57,55,63,49,61,33,20,28,35,36,56,49,34,42,47,58,54,44,69,39,19,41,37,57,71,51,41,21]},\"selected\":{\"id\":\"2229\"},\"selection_policy\":{\"id\":\"2230\"}},\"id\":\"2177\",\"type\":\"ColumnDataSource\"},{\"attributes\":{},\"id\":\"2163\",\"type\":\"PanTool\"},{\"attributes\":{\"text\":\"New Positive: Emilia-Romagna\"},\"id\":\"2145\",\"type\":\"Title\"},{\"attributes\":{\"months\":[0,1,2,3,4,5,6,7,8,9,10,11]},\"id\":\"2194\",\"type\":\"MonthsTicker\"},{\"attributes\":{\"use_scientific\":false},\"id\":\"2242\",\"type\":\"BasicTickFormatter\"},{\"attributes\":{},\"id\":\"2164\",\"type\":\"WheelZoomTool\"},{\"attributes\":{\"base\":24,\"mantissas\":[1,2,4,6,8,12],\"max_interval\":43200000.0,\"min_interval\":3600000.0,\"num_minor_ticks\":0},\"id\":\"2189\",\"type\":\"AdaptiveTicker\"},{\"attributes\":{\"bottom_units\":\"screen\",\"fill_alpha\":0.5,\"fill_color\":\"lightgrey\",\"left_units\":\"screen\",\"level\":\"overlay\",\"line_alpha\":1.0,\"line_color\":\"black\",\"line_dash\":[4,4],\"line_width\":2,\"render_mode\":\"css\",\"right_units\":\"screen\",\"top_units\":\"screen\"},\"id\":\"2169\",\"type\":\"BoxAnnotation\"},{\"attributes\":{},\"id\":\"2147\",\"type\":\"DataRange1d\"},{\"attributes\":{\"source\":{\"id\":\"2177\"}},\"id\":\"2181\",\"type\":\"CDSView\"},{\"attributes\":{\"fill_alpha\":{\"value\":0.1},\"fill_color\":{\"value\":\"white\"},\"line_alpha\":{\"value\":0.1},\"line_color\":{\"value\":\"lightcoral\"},\"size\":{\"units\":\"screen\",\"value\":5},\"x\":{\"field\":\"x\"},\"y\":{\"field\":\"y\"}},\"id\":\"2237\",\"type\":\"Circle\"},{\"attributes\":{\"overlay\":{\"id\":\"2169\"}},\"id\":\"2165\",\"type\":\"BoxZoomTool\"},{\"attributes\":{\"base\":60,\"mantissas\":[1,2,5,10,15,20,30],\"max_interval\":1800000.0,\"min_interval\":1000.0,\"num_minor_ticks\":0},\"id\":\"2188\",\"type\":\"AdaptiveTicker\"},{\"attributes\":{\"fill_alpha\":{\"value\":0.1},\"fill_color\":{\"value\":\"white\"},\"line_alpha\":{\"value\":0.1},\"line_color\":{\"value\":\"blue\"},\"size\":{\"units\":\"screen\",\"value\":5},\"x\":{\"field\":\"x\"},\"y\":{\"field\":\"y\"}},\"id\":\"2204\",\"type\":\"Circle\"},{\"attributes\":{\"fill_color\":{\"value\":\"white\"},\"line_color\":{\"value\":\"lightcoral\"},\"size\":{\"units\":\"screen\",\"value\":5},\"x\":{\"field\":\"x\"},\"y\":{\"field\":\"y\"}},\"id\":\"2236\",\"type\":\"Circle\"},{\"attributes\":{\"callback\":null,\"formatters\":{\"@x\":\"datetime\"},\"mode\":\"vline\",\"tooltips\":[[\"date\",\"@x{%d %B}\"],[\"new_positive OR SMA 14\",\"@y{0[.]000}\"]]},\"id\":\"2244\",\"type\":\"HoverTool\"},{\"attributes\":{},\"id\":\"2151\",\"type\":\"LinearScale\"},{\"attributes\":{},\"id\":\"2166\",\"type\":\"SaveTool\"},{\"attributes\":{},\"id\":\"2315\",\"type\":\"Selection\"},{\"attributes\":{},\"id\":\"2167\",\"type\":\"ResetTool\"},{\"attributes\":{\"days\":[1,2,3,4,5,6,7,8,9,10,11,12,13,14,15,16,17,18,19,20,21,22,23,24,25,26,27,28,29,30,31]},\"id\":\"2190\",\"type\":\"DaysTicker\"},{\"attributes\":{\"data\":{\"x\":{\"__ndarray__\":\"AAAA5UcHd0IAAMBKmgd3QgAAgLDsB3dCAABAFj8Id0IAAAB8kQh3QgAAwOHjCHdCAACARzYJd0IAAECtiAl3QgAAABPbCXdCAADAeC0Kd0IAAIDefwp3QgAAQETSCndCAAAAqiQLd0IAAMAPdwt3QgAAgHXJC3dCAABA2xsMd0IAAABBbgx3QgAAwKbADHdCAACADBMNd0IAAEByZQ13QgAAANi3DXdCAADAPQoOd0IAAICjXA53QgAAQAmvDndCAAAAbwEPd0IAAMDUUw93QgAAgDqmD3dCAABAoPgPd0IAAAAGSxB3QgAAwGudEHdCAACA0e8Qd0IAAEA3QhF3QgAAAJ2UEXdCAADAAucRd0IAAIBoORJ3QgAAQM6LEndCAAAANN4Sd0IAAMCZMBN3QgAAgP+CE3dCAABAZdUTd0IAAADLJxR3QgAAwDB6FHdCAACAlswUd0IAAED8HhV3QgAAAGJxFXdCAADAx8MVd0IAAIAtFhZ3QgAAQJNoFndCAAAA+boWd0IAAMBeDRd3QgAAgMRfF3dCAABAKrIXd0IAAACQBBh3QgAAwPVWGHdCAACAW6kYd0IAAEDB+xh3QgAAACdOGXdCAADAjKAZd0IAAIDy8hl3QgAAQFhFGndCAAAAvpcad0IAAMAj6hp3QgAAgIk8G3dCAABA744bd0IAAABV4Rt3QgAAwLozHHdCAACAIIYcd0IAAECG2Bx3QgAAAOwqHXdCAADAUX0dd0IAAIC3zx13QgAAQB0iHndCAAAAg3Qed0IAAMDoxh53QgAAgE4ZH3dCAABAtGsfd0IAAAAavh93QgAAwH8QIHdCAACA5WIgd0IAAEBLtSB3QgAAALEHIXdCAADAFlohd0IAAIB8rCF3QgAAQOL+IXdCAAAASFEid0IAAMCtoyJ3QgAAgBP2IndCAABAeUgjd0IAAADfmiN3QgAAwETtI3dCAACAqj8kd0IAAEAQkiR3QgAAAHbkJHdCAADA2zYld0IAAIBBiSV3QgAAQKfbJXdCAAAADS4md0IAAMBygCZ3QgAAgNjSJndCAABAPiUnd0IAAACkdyd3QgAAwAnKJ3dCAACAbxwod0IAAEDVbih3QgAAADvBKHdCAADAoBMpd0IAAIAGZil3QgAAQGy4KXdCAAAA0goqd0IAAMA3XSp3QgAAgJ2vKndCAABAAwIrd0IAAABpVCt3QgAAwM6mK3dCAACANPkrd0IAAECaSyx3QgAAAACeLHdCAADAZfAsd0IAAIDLQi13QgAAQDGVLXdCAAAAl+ctd0IAAMD8OS53QgAAgGKMLndCAABAyN4ud0IAAAAuMS93QgAAwJODL3dCAACA+dUvd0IAAEBfKDB3QgAAAMV6MHdCAADAKs0wd0IAAICQHzF3QgAAQPZxMXdCAAAAXMQxd0IAAMDBFjJ3QgAAgCdpMndCAABAjbsyd0IAAADzDTN3QgAAwFhgM3dCAACAvrIzd0IAAEAkBTR3QgAAAIpXNHdCAADA76k0d0IAAIBV/DR3QgAAQLtONXdCAAAAIaE1d0IAAMCG8zV3QgAAgOxFNndCAABAUpg2d0IAAAC46jZ3QgAAwB09N3dCAACAg483d0IAAEDp4Td3QgAAAE80OHdCAADAtIY4d0IAAIAa2Th3QgAAQIArOXdCAAAA5n05d0IAAMBL0Dl3QgAAgLEiOndCAABAF3U6d0IAAAB9xzp3QgAAwOIZO3dCAACASGw7d0IAAECuvjt3QgAAABQRPHdCAADAeWM8d0IAAIDftTx3QgAAQEUIPXdCAAAAq1o9d0IAAMAQrT13QgAAgHb/PXdCAABA3FE+d0IAAABCpD53QgAAwKf2PndCAACADUk/d0IAAEBzmz93QgAAANntP3dC\",\"dtype\":\"float64\",\"shape\":[177]},\"y\":{\"__ndarray__\":\"AAAAAAAA+H8AAAAAAAD4fwAAAAAAAPh/AAAAAAAA+H8AAAAAAAD4fwAAAAAAAPh/AAAAAAAA+H8AAAAAAAD4fwAAAAAAAPh/AAAAAAAA+H8AAAAAAAD4fwAAAAAAAPh/AAAAAAAA+H8lSZIkSRJVQNu2bdu2bVhAkiRJkiTpWkBu27Zt2zZeQEmSJEmShGBAkiRJkiTpYkC3bdu2batlQCVJkiRJEmlASZIkSZJ0bECSJEmSJFlvQNu2bdu2xXFAkiRJkiQpdEAlSZIkScJ2QEmSJEmSbHlA27Zt27Z1fEAlSZIkSep/QAAAAAAAPIFAt23btm2PgkAAAAAAAMyDQEmSJEmS0IRAkiRJkiS9hUCSJEmSJGGGQLdt27ZtV4ZAAAAAAACkhkAAAAAAAOiGQCVJkiRJloZA27Zt27Y9hkAAAAAAAPSFQAAAAAAASIVAbtu2bdsihEDbtm3btiGDQCVJkiRJQoJAAAAAAACMgUBJkiRJktSAQAAAAAAAMIBAAAAAAAAof0AAAAAAANh+QAAAAAAA0H1A27Zt27bde0AAAAAAAHh7QJIkSZIkWXpAJUmSJEkyeUBJkiRJkmx4QNu2bdu2tXdAt23btm2Dd0Bu27Zt2zZ3QG7btm3bhnZA27Zt27addUC3bdu2bWt0QNu2bdu2bXNAkiRJkiTZckBJkiRJkpRyQEmSJEmShHJAJUmSJEmicUAlSZIkSQJxQNu2bdu2XXBAt23btm3bbkCSJEmSJIltQLdt27Zta2xAt23btm1LakDbtm3btq1oQG7btm3bdmdAkiRJkiRpZkAlSZIkSfJkQEmSJEmSxGNA27Zt27b9YUBu27Zt2xZgQNu2bdu27VxA27Zt27YtWkCSJEmSJMlXQG7btm3btlVAAAAAAACAU0Dbtm3bto1SQG7btm3bllFAt23btm2bUEBJkiRJkiRPQLdt27ZtW0xAbtu2bds2S0BJkiRJkmRJQLdt27ZtW0hASZIkSZIkR0CSJEmSJAlHQG7btm3bdkZAt23btm2bREDbtm3btu1DQLdt27ZtW0NAt23btm1bQkAlSZIkSRJBQEmSJEmSpD9AJUmSJEkSPUBu27Zt2zY7QAAAAAAAADlAt23btm1bOEDbtm3btu03QAAAAAAAgDhAAAAAAAAANUBJkiRJkqQ0QG7btm3bNjVAbtu2bds2NEBJkiRJkqQzQG7btm3bNjNAbtu2bds2M0Bu27Zt2zY0QNu2bdu27TRAbtu2bdu2NUC3bdu2bVs2QAAAAAAAgDZA27Zt27ZtNkC3bdu2bds3QNu2bdu2bTlAt23btm1bOkC3bdu2bVs7QEmSJEmSpDtAAAAAAAAAPEAAAAAAAIA8QEmSJEmSpDxAkiRJkiRJPECSJEmSJEk8QNu2bdu27T1AAAAAAAAAPkBJkiRJkiQ/QCVJkiRJEkBAAAAAAABAQEBu27Zt2zY/QG7btm3btj9AkiRJkiQJQEAlSZIkSdJBQEmSJEmS5EFASZIkSZKkQUBu27Zt27ZBQEmSJEmSZEJAt23btm1bQ0Bu27Zt2/ZCQNu2bdu27UNAJUmSJEkSREC3bdu2bZtDQEmSJEmS5ENAJUmSJEnSREDbtm3bti1FQAAAAAAAQEVASZIkSZLkREDbtm3btm1FQNu2bdu2rUVAkiRJkiQJRkBJkiRJkqRFQAAAAAAAAEVAJUmSJEmSRUAAAAAAAIBFQG7btm3bNkVAJUmSJEkSRkBu27Zt27ZFQCVJkiRJ0kVAAAAAAACARUAlSZIkSVJFQLdt27Ztm0VAJUmSJEnSRUCSJEmSJMlFQAAAAAAAQEZAJUmSJElSRkAlSZIkSRJHQLdt27Ztm0dA27Zt27atR0Dbtm3btu1HQNu2bdu2LUdA\",\"dtype\":\"float64\",\"shape\":[177]}},\"selected\":{\"id\":\"2313\"},\"selection_policy\":{\"id\":\"2314\"}},\"id\":\"2207\",\"type\":\"ColumnDataSource\"},{\"attributes\":{\"days\":[1,15]},\"id\":\"2193\",\"type\":\"DaysTicker\"},{\"attributes\":{},\"id\":\"2230\",\"type\":\"UnionRenderers\"},{\"attributes\":{},\"id\":\"2149\",\"type\":\"DataRange1d\"},{\"attributes\":{\"data\":{\"x\":{\"__ndarray__\":\"AAAA5UcHd0IAAMBKmgd3QgAAgLDsB3dCAABAFj8Id0IAAAB8kQh3QgAAwOHjCHdCAACARzYJd0IAAECtiAl3QgAAABPbCXdCAADAeC0Kd0IAAIDefwp3QgAAQETSCndCAAAAqiQLd0IAAMAPdwt3QgAAgHXJC3dCAABA2xsMd0IAAABBbgx3QgAAwKbADHdCAACADBMNd0IAAEByZQ13QgAAANi3DXdCAADAPQoOd0IAAICjXA53QgAAQAmvDndCAAAAbwEPd0IAAMDUUw93QgAAgDqmD3dCAABAoPgPd0IAAAAGSxB3QgAAwGudEHdCAACA0e8Qd0IAAEA3QhF3QgAAAJ2UEXdCAADAAucRd0IAAIBoORJ3QgAAQM6LEndCAAAANN4Sd0IAAMCZMBN3QgAAgP+CE3dCAABAZdUTd0IAAADLJxR3QgAAwDB6FHdCAACAlswUd0IAAED8HhV3QgAAAGJxFXdCAADAx8MVd0IAAIAtFhZ3QgAAQJNoFndCAAAA+boWd0IAAMBeDRd3QgAAgMRfF3dCAABAKrIXd0IAAACQBBh3QgAAwPVWGHdCAACAW6kYd0IAAEDB+xh3QgAAACdOGXdCAADAjKAZd0IAAIDy8hl3QgAAQFhFGndCAAAAvpcad0IAAMAj6hp3QgAAgIk8G3dCAABA744bd0IAAABV4Rt3QgAAwLozHHdCAACAIIYcd0IAAECG2Bx3QgAAAOwqHXdCAADAUX0dd0IAAIC3zx13QgAAQB0iHndCAAAAg3Qed0IAAMDoxh53QgAAgE4ZH3dCAABAtGsfd0IAAAAavh93QgAAwH8QIHdCAACA5WIgd0IAAEBLtSB3QgAAALEHIXdCAADAFlohd0IAAIB8rCF3QgAAQOL+IXdCAAAASFEid0IAAMCtoyJ3QgAAgBP2IndCAABAeUgjd0IAAADfmiN3QgAAwETtI3dCAACAqj8kd0IAAEAQkiR3QgAAAHbkJHdCAADA2zYld0IAAIBBiSV3QgAAQKfbJXdCAAAADS4md0IAAMBygCZ3QgAAgNjSJndCAABAPiUnd0IAAACkdyd3QgAAwAnKJ3dCAACAbxwod0IAAEDVbih3QgAAADvBKHdCAADAoBMpd0IAAIAGZil3QgAAQGy4KXdCAAAA0goqd0IAAMA3XSp3QgAAgJ2vKndCAABAAwIrd0IAAABpVCt3QgAAwM6mK3dCAACANPkrd0IAAECaSyx3QgAAAACeLHdCAADAZfAsd0IAAIDLQi13QgAAQDGVLXdCAAAAl+ctd0IAAMD8OS53QgAAgGKMLndCAABAyN4ud0IAAAAuMS93QgAAwJODL3dCAACA+dUvd0IAAEBfKDB3QgAAAMV6MHdCAADAKs0wd0IAAICQHzF3QgAAQPZxMXdCAAAAXMQxd0IAAMDBFjJ3QgAAgCdpMndCAABAjbsyd0IAAADzDTN3QgAAwFhgM3dCAACAvrIzd0IAAEAkBTR3QgAAAIpXNHdCAADA76k0d0IAAIBV/DR3QgAAQLtONXdCAAAAIaE1d0IAAMCG8zV3QgAAgOxFNndCAABAUpg2d0IAAAC46jZ3QgAAwB09N3dCAACAg483d0IAAEDp4Td3QgAAAE80OHdCAADAtIY4d0IAAIAa2Th3QgAAQIArOXdCAAAA5n05d0IAAMBL0Dl3QgAAgLEiOndCAABAF3U6d0IAAAB9xzp3QgAAwOIZO3dCAACASGw7d0IAAECuvjt3QgAAABQRPHdCAADAeWM8d0IAAIDftTx3QgAAQEUIPXdCAAAAq1o9d0IAAMAQrT13QgAAgHb/PXdCAABA3FE+d0IAAABCpD53QgAAwKf2PndCAACADUk/d0IAAEBzmz93QgAAANntP3dC\",\"dtype\":\"float64\",\"shape\":[177]},\"y\":[18,8,21,50,48,72,68,50,85,124,154,172,140,170,206,147,206,208,316,381,449,429,409,594,689,754,737,850,980,719,800,762,772,795,736,412,543,713,546,599,608,549,467,269,409,443,451,507,463,342,312,277,457,348,350,376,307,225,342,289,247,239,241,212,252,263,259,208,206,166,159,100,104,108,111,121,77,80,53,50,77,54,72,50,35,47,50,53,53,43,45,29,24,16,74,38,20,31,19,19,14,18,17,17,14,20,18,24,25,33,28,17,11,13,14,32,27,28,23,22,17,44,47,46,42,21,16,20,16,27,27,51,24,38,31,49,29,53,47,71,18,13,18,46,54,40,51,42,18,57,55,63,49,61,33,20,28,35,36,56,49,34,42,47,58,54,44,69,39,19,41,37,57,71,51,41,21]},\"selected\":{\"id\":\"2231\"},\"selection_policy\":{\"id\":\"2232\"}},\"id\":\"2202\",\"type\":\"ColumnDataSource\"},{\"attributes\":{\"data_source\":{\"id\":\"2207\"},\"glyph\":{\"id\":\"2208\"},\"hover_glyph\":null,\"muted_glyph\":null,\"nonselection_glyph\":{\"id\":\"2209\"},\"selection_glyph\":null,\"view\":{\"id\":\"2211\"}},\"id\":\"2210\",\"type\":\"GlyphRenderer\"},{\"attributes\":{},\"id\":\"2168\",\"type\":\"HelpTool\"},{\"attributes\":{},\"id\":\"2153\",\"type\":\"LinearScale\"},{\"attributes\":{\"months\":[0,4,8]},\"id\":\"2196\",\"type\":\"MonthsTicker\"},{\"attributes\":{\"source\":{\"id\":\"2207\"}},\"id\":\"2211\",\"type\":\"CDSView\"},{\"attributes\":{\"line_color\":\"lightcoral\",\"line_width\":4,\"x\":{\"field\":\"x\"},\"y\":{\"field\":\"y\"}},\"id\":\"2208\",\"type\":\"Line\"},{\"attributes\":{\"data_source\":{\"id\":\"2177\"},\"glyph\":{\"id\":\"2178\"},\"hover_glyph\":null,\"muted_glyph\":null,\"nonselection_glyph\":{\"id\":\"2179\"},\"selection_glyph\":null,\"view\":{\"id\":\"2181\"}},\"id\":\"2180\",\"type\":\"GlyphRenderer\"},{\"attributes\":{\"axis_label\":\"Date\",\"formatter\":{\"id\":\"2240\"},\"major_label_orientation\":0.7853981633974483,\"minor_tick_in\":-5,\"minor_tick_out\":-3,\"ticker\":{\"id\":\"2156\"}},\"id\":\"2155\",\"type\":\"DatetimeAxis\"},{\"attributes\":{},\"id\":\"2232\",\"type\":\"UnionRenderers\"},{\"attributes\":{},\"id\":\"2313\",\"type\":\"Selection\"},{\"attributes\":{},\"id\":\"2160\",\"type\":\"BasicTicker\"},{\"attributes\":{\"line_alpha\":0.1,\"line_color\":\"blue\",\"line_width\":4,\"x\":{\"field\":\"x\"},\"y\":{\"field\":\"y\"}},\"id\":\"2179\",\"type\":\"Line\"},{\"attributes\":{\"num_minor_ticks\":5,\"tickers\":[{\"id\":\"2187\"},{\"id\":\"2188\"},{\"id\":\"2189\"},{\"id\":\"2190\"},{\"id\":\"2191\"},{\"id\":\"2192\"},{\"id\":\"2193\"},{\"id\":\"2194\"},{\"id\":\"2195\"},{\"id\":\"2196\"},{\"id\":\"2197\"},{\"id\":\"2198\"}]},\"id\":\"2156\",\"type\":\"DatetimeTicker\"},{\"attributes\":{\"axis\":{\"id\":\"2155\"},\"ticker\":null},\"id\":\"2158\",\"type\":\"Grid\"},{\"attributes\":{\"days\":[1,8,15,22]},\"id\":\"2192\",\"type\":\"DaysTicker\"},{\"attributes\":{\"active_drag\":\"auto\",\"active_inspect\":\"auto\",\"active_multi\":null,\"active_scroll\":\"auto\",\"active_tap\":\"auto\",\"tools\":[{\"id\":\"2163\"},{\"id\":\"2164\"},{\"id\":\"2165\"},{\"id\":\"2166\"},{\"id\":\"2167\"},{\"id\":\"2168\"},{\"id\":\"2244\"}]},\"id\":\"2170\",\"type\":\"Toolbar\"},{\"attributes\":{\"line_alpha\":0.1,\"line_color\":\"lightcoral\",\"line_width\":4,\"x\":{\"field\":\"x\"},\"y\":{\"field\":\"y\"}},\"id\":\"2209\",\"type\":\"Line\"},{\"attributes\":{\"days\":[1,4,7,10,13,16,19,22,25,28]},\"id\":\"2191\",\"type\":\"DaysTicker\"},{\"attributes\":{},\"id\":\"2316\",\"type\":\"UnionRenderers\"},{\"attributes\":{\"axis\":{\"id\":\"2159\"},\"dimension\":1,\"ticker\":null},\"id\":\"2162\",\"type\":\"Grid\"},{\"attributes\":{},\"id\":\"2229\",\"type\":\"Selection\"},{\"attributes\":{\"axis_label\":\"New Positive\",\"formatter\":{\"id\":\"2242\"},\"minor_tick_in\":-5,\"minor_tick_out\":-3,\"ticker\":{\"id\":\"2160\"}},\"id\":\"2159\",\"type\":\"LinearAxis\"},{\"attributes\":{},\"id\":\"2231\",\"type\":\"Selection\"},{\"attributes\":{\"months\":[0,2,4,6,8,10]},\"id\":\"2195\",\"type\":\"MonthsTicker\"},{\"attributes\":{\"line_color\":\"blue\",\"line_width\":4,\"x\":{\"field\":\"x\"},\"y\":{\"field\":\"y\"}},\"id\":\"2178\",\"type\":\"Line\"}],\"root_ids\":[\"2144\"]},\"title\":\"Bokeh Application\",\"version\":\"2.0.2\"}};\n",
       "  var render_items = [{\"docid\":\"be3de43d-c94f-49fa-a589-9ae4bfd428db\",\"root_ids\":[\"2144\"],\"roots\":{\"2144\":\"e1664ecc-fec3-4522-9072-5b96f04f352b\"}}];\n",
       "  root.Bokeh.embed.embed_items_notebook(docs_json, render_items);\n",
       "\n",
       "  }\n",
       "  if (root.Bokeh !== undefined) {\n",
       "    embed_document(root);\n",
       "  } else {\n",
       "    var attempts = 0;\n",
       "    var timer = setInterval(function(root) {\n",
       "      if (root.Bokeh !== undefined) {\n",
       "        clearInterval(timer);\n",
       "        embed_document(root);\n",
       "      } else {\n",
       "        attempts++;\n",
       "        if (attempts > 100) {\n",
       "          clearInterval(timer);\n",
       "          console.log(\"Bokeh: ERROR: Unable to run BokehJS code because BokehJS library is missing\");\n",
       "        }\n",
       "      }\n",
       "    }, 10, root)\n",
       "  }\n",
       "})(window);"
      ],
      "application/vnd.bokehjs_exec.v0+json": ""
     },
     "metadata": {
      "application/vnd.bokehjs_exec.v0+json": {
       "id": "2144"
      }
     },
     "output_type": "display_data"
    }
   ],
   "source": [
    "p_new_positive_SMA_EmiliaRomagna = bokeh_plot_N_lines(x=time_date_new, y_list=[nuovi_positivi_EmiliaRomagna,SMA_new_positive_EmiliaRomagna_2['nuovi_positivi']], \n",
    "                  title='New Positive: Emilia-Romagna',\n",
    "                  dim=[600, 450], \n",
    "                  x_label='Date',\n",
    "                  y_label='New Positive', \n",
    "                  legend_list=['new positive','SMA 14 days'],\n",
    "                  x_label_hover='date' , y_label_hover='new_positive OR SMA 14' , \n",
    "                  color_list=['blue','lightcoral'],legend_location=\"top_left\")\n",
    "\n",
    "output_file(\"new_positive_SMA_EmiliaRomagna.html\")\n",
    "\n",
    "show(p_new_positive_SMA_EmiliaRomagna)"
   ]
  },
  {
   "cell_type": "markdown",
   "metadata": {},
   "source": [
    "------------------\n",
    "\n",
    "### New Deaths"
   ]
  },
  {
   "cell_type": "code",
   "execution_count": 23,
   "metadata": {},
   "outputs": [],
   "source": [
    "nuovi_deceduti_EmiliaRomagna = [0]\n",
    "i = 0\n",
    "while (i < len(deceduti_EmiliaRomagna)-1):\n",
    "#     print(deceduti_italy.iloc[i + 1] - deceduti_italy.iloc[i])\n",
    "    temp = deceduti_EmiliaRomagna.iloc[i + 1] - deceduti_EmiliaRomagna.iloc[i]\n",
    "    nuovi_deceduti_EmiliaRomagna.append(temp)\n",
    "    i = i + 1"
   ]
  },
  {
   "cell_type": "code",
   "execution_count": 24,
   "metadata": {},
   "outputs": [
    {
     "data": {
      "text/html": [
       "<div>\n",
       "<style scoped>\n",
       "    .dataframe tbody tr th:only-of-type {\n",
       "        vertical-align: middle;\n",
       "    }\n",
       "\n",
       "    .dataframe tbody tr th {\n",
       "        vertical-align: top;\n",
       "    }\n",
       "\n",
       "    .dataframe thead th {\n",
       "        text-align: right;\n",
       "    }\n",
       "</style>\n",
       "<table border=\"1\" class=\"dataframe\">\n",
       "  <thead>\n",
       "    <tr style=\"text-align: right;\">\n",
       "      <th></th>\n",
       "      <th>0</th>\n",
       "    </tr>\n",
       "  </thead>\n",
       "  <tbody>\n",
       "    <tr>\n",
       "      <th>0</th>\n",
       "      <td>NaN</td>\n",
       "    </tr>\n",
       "    <tr>\n",
       "      <th>1</th>\n",
       "      <td>NaN</td>\n",
       "    </tr>\n",
       "    <tr>\n",
       "      <th>2</th>\n",
       "      <td>NaN</td>\n",
       "    </tr>\n",
       "    <tr>\n",
       "      <th>3</th>\n",
       "      <td>NaN</td>\n",
       "    </tr>\n",
       "    <tr>\n",
       "      <th>4</th>\n",
       "      <td>NaN</td>\n",
       "    </tr>\n",
       "  </tbody>\n",
       "</table>\n",
       "</div>"
      ],
      "text/plain": [
       "    0\n",
       "0 NaN\n",
       "1 NaN\n",
       "2 NaN\n",
       "3 NaN\n",
       "4 NaN"
      ]
     },
     "execution_count": 24,
     "metadata": {},
     "output_type": "execute_result"
    }
   ],
   "source": [
    "nuovi_deceduti_EmiliaRomagna_df = pd.DataFrame(nuovi_deceduti_EmiliaRomagna)\n",
    "\n",
    "SMA_new_deaths_EmiliaRomagna = nuovi_deceduti_EmiliaRomagna_df[:].rolling(window=7).mean()\n",
    "SMA_new_deaths_EmiliaRomagna_2 = nuovi_deceduti_EmiliaRomagna_df[:].rolling(window=14).mean()\n",
    "SMA_new_deaths_EmiliaRomagna.head()"
   ]
  },
  {
   "cell_type": "code",
   "execution_count": 25,
   "metadata": {},
   "outputs": [
    {
     "data": {
      "text/html": [
       "\n",
       "\n",
       "\n",
       "\n",
       "\n",
       "\n",
       "  <div class=\"bk-root\" id=\"97b3cc91-43d7-4105-8400-d524ef4aab2a\" data-root-id=\"2775\"></div>\n"
      ]
     },
     "metadata": {},
     "output_type": "display_data"
    },
    {
     "data": {
      "application/javascript": [
       "(function(root) {\n",
       "  function embed_document(root) {\n",
       "    \n",
       "  var docs_json = {\"9fd26d39-e1b4-42ed-86c0-3900c813b380\":{\"roots\":{\"references\":[{\"attributes\":{\"below\":[{\"id\":\"2786\"}],\"center\":[{\"id\":\"2789\"},{\"id\":\"2793\"},{\"id\":\"2831\"}],\"left\":[{\"id\":\"2790\"}],\"plot_height\":450,\"renderers\":[{\"id\":\"2811\"},{\"id\":\"2836\"},{\"id\":\"2841\"},{\"id\":\"2869\"}],\"title\":{\"id\":\"2776\"},\"toolbar\":{\"id\":\"2801\"},\"x_range\":{\"id\":\"2778\"},\"x_scale\":{\"id\":\"2782\"},\"y_range\":{\"id\":\"2780\"},\"y_scale\":{\"id\":\"2784\"}},\"id\":\"2775\",\"subtype\":\"Figure\",\"type\":\"Plot\"},{\"attributes\":{\"source\":{\"id\":\"2838\"}},\"id\":\"2842\",\"type\":\"CDSView\"},{\"attributes\":{\"months\":[0,6]},\"id\":\"2828\",\"type\":\"MonthsTicker\"},{\"attributes\":{\"text\":\"New Deaths: Emilia-Romagna\"},\"id\":\"2776\",\"type\":\"Title\"},{\"attributes\":{},\"id\":\"2829\",\"type\":\"YearsTicker\"},{\"attributes\":{},\"id\":\"2778\",\"type\":\"DataRange1d\"},{\"attributes\":{\"days\":[\"%d %B\"]},\"id\":\"2871\",\"type\":\"DatetimeTickFormatter\"},{\"attributes\":{},\"id\":\"2791\",\"type\":\"BasicTicker\"},{\"attributes\":{\"months\":[0,4,8]},\"id\":\"2827\",\"type\":\"MonthsTicker\"},{\"attributes\":{\"line_color\":\"darkviolet\",\"line_width\":4,\"x\":{\"field\":\"x\"},\"y\":{\"field\":\"y\"}},\"id\":\"2809\",\"type\":\"Line\"},{\"attributes\":{\"mantissas\":[1,2,5],\"max_interval\":500.0,\"num_minor_ticks\":0},\"id\":\"2818\",\"type\":\"AdaptiveTicker\"},{\"attributes\":{\"axis\":{\"id\":\"2790\"},\"dimension\":1,\"ticker\":null},\"id\":\"2793\",\"type\":\"Grid\"},{\"attributes\":{\"data\":{\"x\":{\"__ndarray__\":\"AAAA5UcHd0IAAMBKmgd3QgAAgLDsB3dCAABAFj8Id0IAAAB8kQh3QgAAwOHjCHdCAACARzYJd0IAAECtiAl3QgAAABPbCXdCAADAeC0Kd0IAAIDefwp3QgAAQETSCndCAAAAqiQLd0IAAMAPdwt3QgAAgHXJC3dCAABA2xsMd0IAAABBbgx3QgAAwKbADHdCAACADBMNd0IAAEByZQ13QgAAANi3DXdCAADAPQoOd0IAAICjXA53QgAAQAmvDndCAAAAbwEPd0IAAMDUUw93QgAAgDqmD3dCAABAoPgPd0IAAAAGSxB3QgAAwGudEHdCAACA0e8Qd0IAAEA3QhF3QgAAAJ2UEXdCAADAAucRd0IAAIBoORJ3QgAAQM6LEndCAAAANN4Sd0IAAMCZMBN3QgAAgP+CE3dCAABAZdUTd0IAAADLJxR3QgAAwDB6FHdCAACAlswUd0IAAED8HhV3QgAAAGJxFXdCAADAx8MVd0IAAIAtFhZ3QgAAQJNoFndCAAAA+boWd0IAAMBeDRd3QgAAgMRfF3dCAABAKrIXd0IAAACQBBh3QgAAwPVWGHdCAACAW6kYd0IAAEDB+xh3QgAAACdOGXdCAADAjKAZd0IAAIDy8hl3QgAAQFhFGndCAAAAvpcad0IAAMAj6hp3QgAAgIk8G3dCAABA744bd0IAAABV4Rt3QgAAwLozHHdCAACAIIYcd0IAAECG2Bx3QgAAAOwqHXdCAADAUX0dd0IAAIC3zx13QgAAQB0iHndCAAAAg3Qed0IAAMDoxh53QgAAgE4ZH3dCAABAtGsfd0IAAAAavh93QgAAwH8QIHdCAACA5WIgd0IAAEBLtSB3QgAAALEHIXdCAADAFlohd0IAAIB8rCF3QgAAQOL+IXdCAAAASFEid0IAAMCtoyJ3QgAAgBP2IndCAABAeUgjd0IAAADfmiN3QgAAwETtI3dCAACAqj8kd0IAAEAQkiR3QgAAAHbkJHdCAADA2zYld0IAAIBBiSV3QgAAQKfbJXdCAAAADS4md0IAAMBygCZ3QgAAgNjSJndCAABAPiUnd0IAAACkdyd3QgAAwAnKJ3dCAACAbxwod0IAAEDVbih3QgAAADvBKHdCAADAoBMpd0IAAIAGZil3QgAAQGy4KXdCAAAA0goqd0IAAMA3XSp3QgAAgJ2vKndCAABAAwIrd0IAAABpVCt3QgAAwM6mK3dCAACANPkrd0IAAECaSyx3QgAAAACeLHdCAADAZfAsd0IAAIDLQi13QgAAQDGVLXdCAAAAl+ctd0IAAMD8OS53QgAAgGKMLndCAABAyN4ud0IAAAAuMS93QgAAwJODL3dCAACA+dUvd0IAAEBfKDB3QgAAAMV6MHdCAADAKs0wd0IAAICQHzF3QgAAQPZxMXdCAAAAXMQxd0IAAMDBFjJ3QgAAgCdpMndCAABAjbsyd0IAAADzDTN3QgAAwFhgM3dCAACAvrIzd0IAAEAkBTR3QgAAAIpXNHdCAADA76k0d0IAAIBV/DR3QgAAQLtONXdCAAAAIaE1d0IAAMCG8zV3QgAAgOxFNndCAABAUpg2d0IAAAC46jZ3QgAAwB09N3dCAACAg483d0IAAEDp4Td3QgAAAE80OHdCAADAtIY4d0IAAIAa2Th3QgAAQIArOXdCAAAA5n05d0IAAMBL0Dl3QgAAgLEiOndCAABAF3U6d0IAAAB9xzp3QgAAwOIZO3dCAACASGw7d0IAAECuvjt3QgAAABQRPHdCAADAeWM8d0IAAIDftTx3QgAAQEUIPXdCAAAAq1o9d0IAAMAQrT13QgAAgHb/PXdCAABA3FE+d0IAAABCpD53QgAAwKf2PndCAACADUk/d0IAAEBzmz93QgAAANntP3dC\",\"dtype\":\"float64\",\"shape\":[177]},\"y\":[0,0,1,0,1,2,4,3,7,4,8,7,11,8,14,15,28,33,55,40,43,62,47,65,73,109,75,101,76,93,92,97,93,77,99,95,106,88,79,91,75,74,57,72,54,82,81,84,83,51,90,83,55,60,62,58,56,68,57,65,34,44,39,45,41,40,39,28,35,28,24,39,32,29,31,30,18,22,18,20,25,13,17,13,13,11,11,17,12,10,8,13,8,7,11,8,5,7,10,12,11,7,13,4,4,4,6,7,0,4,3,5,3,2,6,4,5,6,1,4,1,9,4,3,0,1,2,5,4,1,2,0,1,0,1,0,0,0,0,0,0,2,0,0,2,1,0,3,2,2,0,2,1,1,0,1,1,2,0,2,0,0,0,0,0,1,2,1,1,2,0,0,0,155,0,0,1]},\"selected\":{\"id\":\"2860\"},\"selection_policy\":{\"id\":\"2861\"}},\"id\":\"2808\",\"type\":\"ColumnDataSource\"},{\"attributes\":{\"axis_label\":\"New Deaths\",\"formatter\":{\"id\":\"2873\"},\"minor_tick_in\":-5,\"minor_tick_out\":-3,\"ticker\":{\"id\":\"2791\"}},\"id\":\"2790\",\"type\":\"LinearAxis\"},{\"attributes\":{\"data_source\":{\"id\":\"2866\"},\"glyph\":{\"id\":\"2867\"},\"hover_glyph\":null,\"muted_glyph\":null,\"nonselection_glyph\":{\"id\":\"2868\"},\"selection_glyph\":null,\"view\":{\"id\":\"2870\"}},\"id\":\"2869\",\"type\":\"GlyphRenderer\"},{\"attributes\":{\"use_scientific\":false},\"id\":\"2873\",\"type\":\"BasicTickFormatter\"},{\"attributes\":{\"axis_label\":\"Date\",\"formatter\":{\"id\":\"2871\"},\"major_label_orientation\":0.7853981633974483,\"minor_tick_in\":-5,\"minor_tick_out\":-3,\"ticker\":{\"id\":\"2787\"}},\"id\":\"2786\",\"type\":\"DatetimeAxis\"},{\"attributes\":{\"fill_color\":{\"value\":\"white\"},\"line_color\":{\"value\":\"darkviolet\"},\"size\":{\"units\":\"screen\",\"value\":5},\"x\":{\"field\":\"x\"},\"y\":{\"field\":\"y\"}},\"id\":\"2834\",\"type\":\"Circle\"},{\"attributes\":{\"callback\":null,\"formatters\":{\"@x\":\"datetime\"},\"mode\":\"vline\",\"tooltips\":[[\"date\",\"@x{%d %B}\"],[\"new_deaths OR SMA 14\",\"@y{0[.]000}\"]]},\"id\":\"2875\",\"type\":\"HoverTool\"},{\"attributes\":{},\"id\":\"2968\",\"type\":\"Selection\"},{\"attributes\":{\"source\":{\"id\":\"2833\"}},\"id\":\"2837\",\"type\":\"CDSView\"},{\"attributes\":{\"num_minor_ticks\":5,\"tickers\":[{\"id\":\"2818\"},{\"id\":\"2819\"},{\"id\":\"2820\"},{\"id\":\"2821\"},{\"id\":\"2822\"},{\"id\":\"2823\"},{\"id\":\"2824\"},{\"id\":\"2825\"},{\"id\":\"2826\"},{\"id\":\"2827\"},{\"id\":\"2828\"},{\"id\":\"2829\"}]},\"id\":\"2787\",\"type\":\"DatetimeTicker\"},{\"attributes\":{\"fill_alpha\":{\"value\":0.1},\"fill_color\":{\"value\":\"white\"},\"line_alpha\":{\"value\":0.1},\"line_color\":{\"value\":\"darkviolet\"},\"size\":{\"units\":\"screen\",\"value\":5},\"x\":{\"field\":\"x\"},\"y\":{\"field\":\"y\"}},\"id\":\"2835\",\"type\":\"Circle\"},{\"attributes\":{\"days\":[1,4,7,10,13,16,19,22,25,28]},\"id\":\"2822\",\"type\":\"DaysTicker\"},{\"attributes\":{},\"id\":\"2782\",\"type\":\"LinearScale\"},{\"attributes\":{\"data_source\":{\"id\":\"2833\"},\"glyph\":{\"id\":\"2834\"},\"hover_glyph\":null,\"muted_glyph\":null,\"nonselection_glyph\":{\"id\":\"2835\"},\"selection_glyph\":null,\"view\":{\"id\":\"2837\"}},\"id\":\"2836\",\"type\":\"GlyphRenderer\"},{\"attributes\":{\"source\":{\"id\":\"2808\"}},\"id\":\"2812\",\"type\":\"CDSView\"},{\"attributes\":{\"active_drag\":\"auto\",\"active_inspect\":\"auto\",\"active_multi\":null,\"active_scroll\":\"auto\",\"active_tap\":\"auto\",\"tools\":[{\"id\":\"2794\"},{\"id\":\"2795\"},{\"id\":\"2796\"},{\"id\":\"2797\"},{\"id\":\"2798\"},{\"id\":\"2799\"},{\"id\":\"2875\"}]},\"id\":\"2801\",\"type\":\"Toolbar\"},{\"attributes\":{},\"id\":\"2794\",\"type\":\"PanTool\"},{\"attributes\":{},\"id\":\"2971\",\"type\":\"UnionRenderers\"},{\"attributes\":{},\"id\":\"2784\",\"type\":\"LinearScale\"},{\"attributes\":{\"label\":{\"value\":\"SMA 14 days\"},\"renderers\":[{\"id\":\"2841\"}]},\"id\":\"2865\",\"type\":\"LegendItem\"},{\"attributes\":{},\"id\":\"2862\",\"type\":\"Selection\"},{\"attributes\":{\"line_alpha\":0.1,\"line_color\":\"darkviolet\",\"line_width\":4,\"x\":{\"field\":\"x\"},\"y\":{\"field\":\"y\"}},\"id\":\"2810\",\"type\":\"Line\"},{\"attributes\":{\"data\":{\"x\":{\"__ndarray__\":\"AAAA5UcHd0IAAMBKmgd3QgAAgLDsB3dCAABAFj8Id0IAAAB8kQh3QgAAwOHjCHdCAACARzYJd0IAAECtiAl3QgAAABPbCXdCAADAeC0Kd0IAAIDefwp3QgAAQETSCndCAAAAqiQLd0IAAMAPdwt3QgAAgHXJC3dCAABA2xsMd0IAAABBbgx3QgAAwKbADHdCAACADBMNd0IAAEByZQ13QgAAANi3DXdCAADAPQoOd0IAAICjXA53QgAAQAmvDndCAAAAbwEPd0IAAMDUUw93QgAAgDqmD3dCAABAoPgPd0IAAAAGSxB3QgAAwGudEHdCAACA0e8Qd0IAAEA3QhF3QgAAAJ2UEXdCAADAAucRd0IAAIBoORJ3QgAAQM6LEndCAAAANN4Sd0IAAMCZMBN3QgAAgP+CE3dCAABAZdUTd0IAAADLJxR3QgAAwDB6FHdCAACAlswUd0IAAED8HhV3QgAAAGJxFXdCAADAx8MVd0IAAIAtFhZ3QgAAQJNoFndCAAAA+boWd0IAAMBeDRd3QgAAgMRfF3dCAABAKrIXd0IAAACQBBh3QgAAwPVWGHdCAACAW6kYd0IAAEDB+xh3QgAAACdOGXdCAADAjKAZd0IAAIDy8hl3QgAAQFhFGndCAAAAvpcad0IAAMAj6hp3QgAAgIk8G3dCAABA744bd0IAAABV4Rt3QgAAwLozHHdCAACAIIYcd0IAAECG2Bx3QgAAAOwqHXdCAADAUX0dd0IAAIC3zx13QgAAQB0iHndCAAAAg3Qed0IAAMDoxh53QgAAgE4ZH3dCAABAtGsfd0IAAAAavh93QgAAwH8QIHdCAACA5WIgd0IAAEBLtSB3QgAAALEHIXdCAADAFlohd0IAAIB8rCF3QgAAQOL+IXdCAAAASFEid0IAAMCtoyJ3QgAAgBP2IndCAABAeUgjd0IAAADfmiN3QgAAwETtI3dCAACAqj8kd0IAAEAQkiR3QgAAAHbkJHdCAADA2zYld0IAAIBBiSV3QgAAQKfbJXdCAAAADS4md0IAAMBygCZ3QgAAgNjSJndCAABAPiUnd0IAAACkdyd3QgAAwAnKJ3dCAACAbxwod0IAAEDVbih3QgAAADvBKHdCAADAoBMpd0IAAIAGZil3QgAAQGy4KXdCAAAA0goqd0IAAMA3XSp3QgAAgJ2vKndCAABAAwIrd0IAAABpVCt3QgAAwM6mK3dCAACANPkrd0IAAECaSyx3QgAAAACeLHdCAADAZfAsd0IAAIDLQi13QgAAQDGVLXdCAAAAl+ctd0IAAMD8OS53QgAAgGKMLndCAABAyN4ud0IAAAAuMS93QgAAwJODL3dCAACA+dUvd0IAAEBfKDB3QgAAAMV6MHdCAADAKs0wd0IAAICQHzF3QgAAQPZxMXdCAAAAXMQxd0IAAMDBFjJ3QgAAgCdpMndCAABAjbsyd0IAAADzDTN3QgAAwFhgM3dCAACAvrIzd0IAAEAkBTR3QgAAAIpXNHdCAADA76k0d0IAAIBV/DR3QgAAQLtONXdCAAAAIaE1d0IAAMCG8zV3QgAAgOxFNndCAABAUpg2d0IAAAC46jZ3QgAAwB09N3dCAACAg483d0IAAEDp4Td3QgAAAE80OHdCAADAtIY4d0IAAIAa2Th3QgAAQIArOXdCAAAA5n05d0IAAMBL0Dl3QgAAgLEiOndCAABAF3U6d0IAAAB9xzp3QgAAwOIZO3dCAACASGw7d0IAAECuvjt3QgAAABQRPHdCAADAeWM8d0IAAIDftTx3QgAAQEUIPXdCAAAAq1o9d0IAAMAQrT13QgAAgHb/PXdCAABA3FE+d0IAAABCpD53QgAAwKf2PndCAACADUk/d0IAAEBzmz93QgAAANntP3dC\",\"dtype\":\"float64\",\"shape\":[177]},\"y\":[0,0,1,0,1,2,4,3,7,4,8,7,11,8,14,15,28,33,55,40,43,62,47,65,73,109,75,101,76,93,92,97,93,77,99,95,106,88,79,91,75,74,57,72,54,82,81,84,83,51,90,83,55,60,62,58,56,68,57,65,34,44,39,45,41,40,39,28,35,28,24,39,32,29,31,30,18,22,18,20,25,13,17,13,13,11,11,17,12,10,8,13,8,7,11,8,5,7,10,12,11,7,13,4,4,4,6,7,0,4,3,5,3,2,6,4,5,6,1,4,1,9,4,3,0,1,2,5,4,1,2,0,1,0,1,0,0,0,0,0,0,2,0,0,2,1,0,3,2,2,0,2,1,1,0,1,1,2,0,2,0,0,0,0,0,1,2,1,1,2,0,0,0,155,0,0,1]},\"selected\":{\"id\":\"2862\"},\"selection_policy\":{\"id\":\"2863\"}},\"id\":\"2833\",\"type\":\"ColumnDataSource\"},{\"attributes\":{\"fill_alpha\":{\"value\":0.1},\"fill_color\":{\"value\":\"white\"},\"line_alpha\":{\"value\":0.1},\"line_color\":{\"value\":\"lightgreen\"},\"size\":{\"units\":\"screen\",\"value\":5},\"x\":{\"field\":\"x\"},\"y\":{\"field\":\"y\"}},\"id\":\"2868\",\"type\":\"Circle\"},{\"attributes\":{\"fill_color\":{\"value\":\"white\"},\"line_color\":{\"value\":\"lightgreen\"},\"size\":{\"units\":\"screen\",\"value\":5},\"x\":{\"field\":\"x\"},\"y\":{\"field\":\"y\"}},\"id\":\"2867\",\"type\":\"Circle\"},{\"attributes\":{},\"id\":\"2797\",\"type\":\"SaveTool\"},{\"attributes\":{\"days\":[1,2,3,4,5,6,7,8,9,10,11,12,13,14,15,16,17,18,19,20,21,22,23,24,25,26,27,28,29,30,31]},\"id\":\"2821\",\"type\":\"DaysTicker\"},{\"attributes\":{\"source\":{\"id\":\"2866\"}},\"id\":\"2870\",\"type\":\"CDSView\"},{\"attributes\":{\"days\":[1,8,15,22]},\"id\":\"2823\",\"type\":\"DaysTicker\"},{\"attributes\":{\"months\":[0,1,2,3,4,5,6,7,8,9,10,11]},\"id\":\"2825\",\"type\":\"MonthsTicker\"},{\"attributes\":{},\"id\":\"2863\",\"type\":\"UnionRenderers\"},{\"attributes\":{},\"id\":\"2969\",\"type\":\"UnionRenderers\"},{\"attributes\":{\"data\":{\"x\":{\"__ndarray__\":\"AAAA5UcHd0IAAMBKmgd3QgAAgLDsB3dCAABAFj8Id0IAAAB8kQh3QgAAwOHjCHdCAACARzYJd0IAAECtiAl3QgAAABPbCXdCAADAeC0Kd0IAAIDefwp3QgAAQETSCndCAAAAqiQLd0IAAMAPdwt3QgAAgHXJC3dCAABA2xsMd0IAAABBbgx3QgAAwKbADHdCAACADBMNd0IAAEByZQ13QgAAANi3DXdCAADAPQoOd0IAAICjXA53QgAAQAmvDndCAAAAbwEPd0IAAMDUUw93QgAAgDqmD3dCAABAoPgPd0IAAAAGSxB3QgAAwGudEHdCAACA0e8Qd0IAAEA3QhF3QgAAAJ2UEXdCAADAAucRd0IAAIBoORJ3QgAAQM6LEndCAAAANN4Sd0IAAMCZMBN3QgAAgP+CE3dCAABAZdUTd0IAAADLJxR3QgAAwDB6FHdCAACAlswUd0IAAED8HhV3QgAAAGJxFXdCAADAx8MVd0IAAIAtFhZ3QgAAQJNoFndCAAAA+boWd0IAAMBeDRd3QgAAgMRfF3dCAABAKrIXd0IAAACQBBh3QgAAwPVWGHdCAACAW6kYd0IAAEDB+xh3QgAAACdOGXdCAADAjKAZd0IAAIDy8hl3QgAAQFhFGndCAAAAvpcad0IAAMAj6hp3QgAAgIk8G3dCAABA744bd0IAAABV4Rt3QgAAwLozHHdCAACAIIYcd0IAAECG2Bx3QgAAAOwqHXdCAADAUX0dd0IAAIC3zx13QgAAQB0iHndCAAAAg3Qed0IAAMDoxh53QgAAgE4ZH3dCAABAtGsfd0IAAAAavh93QgAAwH8QIHdCAACA5WIgd0IAAEBLtSB3QgAAALEHIXdCAADAFlohd0IAAIB8rCF3QgAAQOL+IXdCAAAASFEid0IAAMCtoyJ3QgAAgBP2IndCAABAeUgjd0IAAADfmiN3QgAAwETtI3dCAACAqj8kd0IAAEAQkiR3QgAAAHbkJHdCAADA2zYld0IAAIBBiSV3QgAAQKfbJXdCAAAADS4md0IAAMBygCZ3QgAAgNjSJndCAABAPiUnd0IAAACkdyd3QgAAwAnKJ3dCAACAbxwod0IAAEDVbih3QgAAADvBKHdCAADAoBMpd0IAAIAGZil3QgAAQGy4KXdCAAAA0goqd0IAAMA3XSp3QgAAgJ2vKndCAABAAwIrd0IAAABpVCt3QgAAwM6mK3dCAACANPkrd0IAAECaSyx3QgAAAACeLHdCAADAZfAsd0IAAIDLQi13QgAAQDGVLXdCAAAAl+ctd0IAAMD8OS53QgAAgGKMLndCAABAyN4ud0IAAAAuMS93QgAAwJODL3dCAACA+dUvd0IAAEBfKDB3QgAAAMV6MHdCAADAKs0wd0IAAICQHzF3QgAAQPZxMXdCAAAAXMQxd0IAAMDBFjJ3QgAAgCdpMndCAABAjbsyd0IAAADzDTN3QgAAwFhgM3dCAACAvrIzd0IAAEAkBTR3QgAAAIpXNHdCAADA76k0d0IAAIBV/DR3QgAAQLtONXdCAAAAIaE1d0IAAMCG8zV3QgAAgOxFNndCAABAUpg2d0IAAAC46jZ3QgAAwB09N3dCAACAg483d0IAAEDp4Td3QgAAAE80OHdCAADAtIY4d0IAAIAa2Th3QgAAQIArOXdCAAAA5n05d0IAAMBL0Dl3QgAAgLEiOndCAABAF3U6d0IAAAB9xzp3QgAAwOIZO3dCAACASGw7d0IAAECuvjt3QgAAABQRPHdCAADAeWM8d0IAAIDftTx3QgAAQEUIPXdCAAAAq1o9d0IAAMAQrT13QgAAgHb/PXdCAABA3FE+d0IAAABCpD53QgAAwKf2PndCAACADUk/d0IAAEBzmz93QgAAANntP3dC\",\"dtype\":\"float64\",\"shape\":[177]},\"y\":{\"__ndarray__\":\"AAAAAAAA+H8AAAAAAAD4fwAAAAAAAPh/AAAAAAAA+H8AAAAAAAD4fwAAAAAAAPh/AAAAAAAA+H8AAAAAAAD4fwAAAAAAAPh/AAAAAAAA+H8AAAAAAAD4fwAAAAAAAPh/AAAAAAAA+H8AAAAAAAAQQAAAAAAAABRAkiRJkiRJGEAAAAAAAAAgQG7btm3btiRA27Zt27ZtLEDbtm3btu0wQG7btm3btjNA27Zt27btN0CSJEmSJMk6QEmSJEmSJD9ASZIkSZLkQUCSJEmSJIlFQCVJkiRJ0kdASZIkSZIkS0C3bdu2bVtNQCVJkiRJElBAbtu2bds2UUC3bdu2bVtSQJIkSZIkCVNAJUmSJEmyU0AlSZIkSbJUQJIkSZIkSVVAbtu2bdtWVkAAAAAAAMBWQLdt27Zt21ZAkiRJkiSJVkCSJEmSJIlWQNu2bdu2DVZAbtu2bdu2VUBu27Zt21ZVQJIkSZIkqVRASZIkSZJkVEDbtm3bti1UQNu2bdu2TVRASZIkSZIEVEC3bdu2bTtTQCVJkiRJ8lJAt23btm3bUkDbtm3btm1SQAAAAAAA4FFASZIkSZKkUUC3bdu2bVtRQG7btm3bVlFASZIkSZJEUUAlSZIkSVJRQEmSJEmSBFFA27Zt27YtUEDbtm3btu1OQLdt27ZtW01ASZIkSZIkTUBJkiRJkmRLQLdt27Zt20lAkiRJkiRJSUBJkiRJkiRIQNu2bdu2LUdAt23btm0bRkBu27Zt2/ZEQNu2bdu27UNAkiRJkiQJQ0AAAAAAAMBBQEmSJEmSpEFASZIkSZIkQUBJkiRJkmRAQEmSJEmSJD9AAAAAAACAPUAlSZIkSRI8QCVJkiRJEjtAAAAAAAAAOkBu27Zt27Y4QEmSJEmSpDdAt23btm3bNkC3bdu2bds0QLdt27ZtWzNAAAAAAACAMkBJkiRJkiQxQNu2bdu2bS9AAAAAAAAALkBu27Zt27YsQJIkSZIkSStA27Zt27ZtKUDbtm3btm0nQG7btm3btiZAAAAAAAAAJUBJkiRJkiQkQG7btm3btiNAt23btm3bI0C3bdu2bdsjQNu2bdu2bSJAJUmSJEmSIkBu27Zt27YhQEmSJEmSJCFAbtu2bdu2H0BJkiRJkiQfQEmSJEmSJB9AAAAAAAAAHEC3bdu2bdsaQJIkSZIkSRpAbtu2bdu2GUBu27Zt27YXQLdt27Zt2xRA27Zt27ZtE0AlSZIkSZISQJIkSZIkSRBAt23btm3bEEAAAAAAAAAQQAAAAAAAABBASZIkSZIkDUCSJEmSJEkOQJIkSZIkSRBAAAAAAAAAEECSJEmSJEkOQAAAAAAAAAxA27Zt27ZtC0BJkiRJkiQNQAAAAAAAAAxAkiRJkiRJCkAlSZIkSZIIQEmSJEmSJAVASZIkSZIkBUC3bdu2bdsCQLdt27Zt2wJA27Zt27Zt+z+3bdu2bdv2P9u2bdu2bfM/27Zt27Zt8z+SJEmSJEnyPwAAAAAAAPA/SZIkSZIk6T8AAAAAAADgP9u2bdu2bds/27Zt27Zt2z8AAAAAAADgP9u2bdu2bds/JUmSJEmS5D+3bdu2bdvmP9u2bdu2bes/27Zt27Zt6z8AAAAAAADwP0mSJEmSJPE/kiRJkiRJ8j+SJEmSJEnyP0mSJEmSJPE/kiRJkiRJ8j8lSZIkSZL0P5IkSZIkSfI/27Zt27Zt8z/btm3btm3zPwAAAAAAAPA/27Zt27Zt6z+3bdu2bdvmP7dt27Zt2+Y/JUmSJEmS5D+3bdu2bdvmP7dt27Zt2+Y/SZIkSZIk6T/btm3btm3rP0mSJEmSJOk/JUmSJEmS5D8lSZIkSZLkP0mSJEmSJCdASZIkSZIkJ0BJkiRJkiQnQJIkSZIkSSdA\",\"dtype\":\"float64\",\"shape\":[177]}},\"selected\":{\"id\":\"2970\"},\"selection_policy\":{\"id\":\"2971\"}},\"id\":\"2866\",\"type\":\"ColumnDataSource\"},{\"attributes\":{\"months\":[0,2,4,6,8,10]},\"id\":\"2826\",\"type\":\"MonthsTicker\"},{\"attributes\":{\"data_source\":{\"id\":\"2838\"},\"glyph\":{\"id\":\"2839\"},\"hover_glyph\":null,\"muted_glyph\":null,\"nonselection_glyph\":{\"id\":\"2840\"},\"selection_glyph\":null,\"view\":{\"id\":\"2842\"}},\"id\":\"2841\",\"type\":\"GlyphRenderer\"},{\"attributes\":{},\"id\":\"2799\",\"type\":\"HelpTool\"},{\"attributes\":{\"data\":{\"x\":{\"__ndarray__\":\"AAAA5UcHd0IAAMBKmgd3QgAAgLDsB3dCAABAFj8Id0IAAAB8kQh3QgAAwOHjCHdCAACARzYJd0IAAECtiAl3QgAAABPbCXdCAADAeC0Kd0IAAIDefwp3QgAAQETSCndCAAAAqiQLd0IAAMAPdwt3QgAAgHXJC3dCAABA2xsMd0IAAABBbgx3QgAAwKbADHdCAACADBMNd0IAAEByZQ13QgAAANi3DXdCAADAPQoOd0IAAICjXA53QgAAQAmvDndCAAAAbwEPd0IAAMDUUw93QgAAgDqmD3dCAABAoPgPd0IAAAAGSxB3QgAAwGudEHdCAACA0e8Qd0IAAEA3QhF3QgAAAJ2UEXdCAADAAucRd0IAAIBoORJ3QgAAQM6LEndCAAAANN4Sd0IAAMCZMBN3QgAAgP+CE3dCAABAZdUTd0IAAADLJxR3QgAAwDB6FHdCAACAlswUd0IAAED8HhV3QgAAAGJxFXdCAADAx8MVd0IAAIAtFhZ3QgAAQJNoFndCAAAA+boWd0IAAMBeDRd3QgAAgMRfF3dCAABAKrIXd0IAAACQBBh3QgAAwPVWGHdCAACAW6kYd0IAAEDB+xh3QgAAACdOGXdCAADAjKAZd0IAAIDy8hl3QgAAQFhFGndCAAAAvpcad0IAAMAj6hp3QgAAgIk8G3dCAABA744bd0IAAABV4Rt3QgAAwLozHHdCAACAIIYcd0IAAECG2Bx3QgAAAOwqHXdCAADAUX0dd0IAAIC3zx13QgAAQB0iHndCAAAAg3Qed0IAAMDoxh53QgAAgE4ZH3dCAABAtGsfd0IAAAAavh93QgAAwH8QIHdCAACA5WIgd0IAAEBLtSB3QgAAALEHIXdCAADAFlohd0IAAIB8rCF3QgAAQOL+IXdCAAAASFEid0IAAMCtoyJ3QgAAgBP2IndCAABAeUgjd0IAAADfmiN3QgAAwETtI3dCAACAqj8kd0IAAEAQkiR3QgAAAHbkJHdCAADA2zYld0IAAIBBiSV3QgAAQKfbJXdCAAAADS4md0IAAMBygCZ3QgAAgNjSJndCAABAPiUnd0IAAACkdyd3QgAAwAnKJ3dCAACAbxwod0IAAEDVbih3QgAAADvBKHdCAADAoBMpd0IAAIAGZil3QgAAQGy4KXdCAAAA0goqd0IAAMA3XSp3QgAAgJ2vKndCAABAAwIrd0IAAABpVCt3QgAAwM6mK3dCAACANPkrd0IAAECaSyx3QgAAAACeLHdCAADAZfAsd0IAAIDLQi13QgAAQDGVLXdCAAAAl+ctd0IAAMD8OS53QgAAgGKMLndCAABAyN4ud0IAAAAuMS93QgAAwJODL3dCAACA+dUvd0IAAEBfKDB3QgAAAMV6MHdCAADAKs0wd0IAAICQHzF3QgAAQPZxMXdCAAAAXMQxd0IAAMDBFjJ3QgAAgCdpMndCAABAjbsyd0IAAADzDTN3QgAAwFhgM3dCAACAvrIzd0IAAEAkBTR3QgAAAIpXNHdCAADA76k0d0IAAIBV/DR3QgAAQLtONXdCAAAAIaE1d0IAAMCG8zV3QgAAgOxFNndCAABAUpg2d0IAAAC46jZ3QgAAwB09N3dCAACAg483d0IAAEDp4Td3QgAAAE80OHdCAADAtIY4d0IAAIAa2Th3QgAAQIArOXdCAAAA5n05d0IAAMBL0Dl3QgAAgLEiOndCAABAF3U6d0IAAAB9xzp3QgAAwOIZO3dCAACASGw7d0IAAECuvjt3QgAAABQRPHdCAADAeWM8d0IAAIDftTx3QgAAQEUIPXdCAAAAq1o9d0IAAMAQrT13QgAAgHb/PXdCAABA3FE+d0IAAABCpD53QgAAwKf2PndCAACADUk/d0IAAEBzmz93QgAAANntP3dC\",\"dtype\":\"float64\",\"shape\":[177]},\"y\":{\"__ndarray__\":\"AAAAAAAA+H8AAAAAAAD4fwAAAAAAAPh/AAAAAAAA+H8AAAAAAAD4fwAAAAAAAPh/AAAAAAAA+H8AAAAAAAD4fwAAAAAAAPh/AAAAAAAA+H8AAAAAAAD4fwAAAAAAAPh/AAAAAAAA+H8AAAAAAAAQQAAAAAAAABRAkiRJkiRJGEAAAAAAAAAgQG7btm3btiRA27Zt27ZtLEDbtm3btu0wQG7btm3btjNA27Zt27btN0CSJEmSJMk6QEmSJEmSJD9ASZIkSZLkQUCSJEmSJIlFQCVJkiRJ0kdASZIkSZIkS0C3bdu2bVtNQCVJkiRJElBAbtu2bds2UUC3bdu2bVtSQJIkSZIkCVNAJUmSJEmyU0AlSZIkSbJUQJIkSZIkSVVAbtu2bdtWVkAAAAAAAMBWQLdt27Zt21ZAkiRJkiSJVkCSJEmSJIlWQNu2bdu2DVZAbtu2bdu2VUBu27Zt21ZVQJIkSZIkqVRASZIkSZJkVEDbtm3bti1UQNu2bdu2TVRASZIkSZIEVEC3bdu2bTtTQCVJkiRJ8lJAt23btm3bUkDbtm3btm1SQAAAAAAA4FFASZIkSZKkUUC3bdu2bVtRQG7btm3bVlFASZIkSZJEUUAlSZIkSVJRQEmSJEmSBFFA27Zt27YtUEDbtm3btu1OQLdt27ZtW01ASZIkSZIkTUBJkiRJkmRLQLdt27Zt20lAkiRJkiRJSUBJkiRJkiRIQNu2bdu2LUdAt23btm0bRkBu27Zt2/ZEQNu2bdu27UNAkiRJkiQJQ0AAAAAAAMBBQEmSJEmSpEFASZIkSZIkQUBJkiRJkmRAQEmSJEmSJD9AAAAAAACAPUAlSZIkSRI8QCVJkiRJEjtAAAAAAAAAOkBu27Zt27Y4QEmSJEmSpDdAt23btm3bNkC3bdu2bds0QLdt27ZtWzNAAAAAAACAMkBJkiRJkiQxQNu2bdu2bS9AAAAAAAAALkBu27Zt27YsQJIkSZIkSStA27Zt27ZtKUDbtm3btm0nQG7btm3btiZAAAAAAAAAJUBJkiRJkiQkQG7btm3btiNAt23btm3bI0C3bdu2bdsjQNu2bdu2bSJAJUmSJEmSIkBu27Zt27YhQEmSJEmSJCFAbtu2bdu2H0BJkiRJkiQfQEmSJEmSJB9AAAAAAAAAHEC3bdu2bdsaQJIkSZIkSRpAbtu2bdu2GUBu27Zt27YXQLdt27Zt2xRA27Zt27ZtE0AlSZIkSZISQJIkSZIkSRBAt23btm3bEEAAAAAAAAAQQAAAAAAAABBASZIkSZIkDUCSJEmSJEkOQJIkSZIkSRBAAAAAAAAAEECSJEmSJEkOQAAAAAAAAAxA27Zt27ZtC0BJkiRJkiQNQAAAAAAAAAxAkiRJkiRJCkAlSZIkSZIIQEmSJEmSJAVASZIkSZIkBUC3bdu2bdsCQLdt27Zt2wJA27Zt27Zt+z+3bdu2bdv2P9u2bdu2bfM/27Zt27Zt8z+SJEmSJEnyPwAAAAAAAPA/SZIkSZIk6T8AAAAAAADgP9u2bdu2bds/27Zt27Zt2z8AAAAAAADgP9u2bdu2bds/JUmSJEmS5D+3bdu2bdvmP9u2bdu2bes/27Zt27Zt6z8AAAAAAADwP0mSJEmSJPE/kiRJkiRJ8j+SJEmSJEnyP0mSJEmSJPE/kiRJkiRJ8j8lSZIkSZL0P5IkSZIkSfI/27Zt27Zt8z/btm3btm3zPwAAAAAAAPA/27Zt27Zt6z+3bdu2bdvmP7dt27Zt2+Y/JUmSJEmS5D+3bdu2bdvmP7dt27Zt2+Y/SZIkSZIk6T/btm3btm3rP0mSJEmSJOk/JUmSJEmS5D8lSZIkSZLkP0mSJEmSJCdASZIkSZIkJ0BJkiRJkiQnQJIkSZIkSSdA\",\"dtype\":\"float64\",\"shape\":[177]}},\"selected\":{\"id\":\"2968\"},\"selection_policy\":{\"id\":\"2969\"}},\"id\":\"2838\",\"type\":\"ColumnDataSource\"},{\"attributes\":{\"line_color\":\"lightgreen\",\"line_width\":4,\"x\":{\"field\":\"x\"},\"y\":{\"field\":\"y\"}},\"id\":\"2839\",\"type\":\"Line\"},{\"attributes\":{\"days\":[1,15]},\"id\":\"2824\",\"type\":\"DaysTicker\"},{\"attributes\":{},\"id\":\"2861\",\"type\":\"UnionRenderers\"},{\"attributes\":{},\"id\":\"2795\",\"type\":\"WheelZoomTool\"},{\"attributes\":{\"overlay\":{\"id\":\"2800\"}},\"id\":\"2796\",\"type\":\"BoxZoomTool\"},{\"attributes\":{},\"id\":\"2970\",\"type\":\"Selection\"},{\"attributes\":{\"data_source\":{\"id\":\"2808\"},\"glyph\":{\"id\":\"2809\"},\"hover_glyph\":null,\"muted_glyph\":null,\"nonselection_glyph\":{\"id\":\"2810\"},\"selection_glyph\":null,\"view\":{\"id\":\"2812\"}},\"id\":\"2811\",\"type\":\"GlyphRenderer\"},{\"attributes\":{},\"id\":\"2798\",\"type\":\"ResetTool\"},{\"attributes\":{},\"id\":\"2860\",\"type\":\"Selection\"},{\"attributes\":{},\"id\":\"2780\",\"type\":\"DataRange1d\"},{\"attributes\":{\"base\":60,\"mantissas\":[1,2,5,10,15,20,30],\"max_interval\":1800000.0,\"min_interval\":1000.0,\"num_minor_ticks\":0},\"id\":\"2819\",\"type\":\"AdaptiveTicker\"},{\"attributes\":{\"bottom_units\":\"screen\",\"fill_alpha\":0.5,\"fill_color\":\"lightgrey\",\"left_units\":\"screen\",\"level\":\"overlay\",\"line_alpha\":1.0,\"line_color\":\"black\",\"line_dash\":[4,4],\"line_width\":2,\"render_mode\":\"css\",\"right_units\":\"screen\",\"top_units\":\"screen\"},\"id\":\"2800\",\"type\":\"BoxAnnotation\"},{\"attributes\":{\"label\":{\"value\":\"new deaths\"},\"renderers\":[{\"id\":\"2811\"}]},\"id\":\"2832\",\"type\":\"LegendItem\"},{\"attributes\":{\"line_alpha\":0.1,\"line_color\":\"lightgreen\",\"line_width\":4,\"x\":{\"field\":\"x\"},\"y\":{\"field\":\"y\"}},\"id\":\"2840\",\"type\":\"Line\"},{\"attributes\":{\"base\":24,\"mantissas\":[1,2,4,6,8,12],\"max_interval\":43200000.0,\"min_interval\":3600000.0,\"num_minor_ticks\":0},\"id\":\"2820\",\"type\":\"AdaptiveTicker\"},{\"attributes\":{\"axis\":{\"id\":\"2786\"},\"ticker\":null},\"id\":\"2789\",\"type\":\"Grid\"},{\"attributes\":{\"items\":[{\"id\":\"2832\"},{\"id\":\"2865\"}],\"location\":\"top_left\"},\"id\":\"2831\",\"type\":\"Legend\"}],\"root_ids\":[\"2775\"]},\"title\":\"Bokeh Application\",\"version\":\"2.0.2\"}};\n",
       "  var render_items = [{\"docid\":\"9fd26d39-e1b4-42ed-86c0-3900c813b380\",\"root_ids\":[\"2775\"],\"roots\":{\"2775\":\"97b3cc91-43d7-4105-8400-d524ef4aab2a\"}}];\n",
       "  root.Bokeh.embed.embed_items_notebook(docs_json, render_items);\n",
       "\n",
       "  }\n",
       "  if (root.Bokeh !== undefined) {\n",
       "    embed_document(root);\n",
       "  } else {\n",
       "    var attempts = 0;\n",
       "    var timer = setInterval(function(root) {\n",
       "      if (root.Bokeh !== undefined) {\n",
       "        clearInterval(timer);\n",
       "        embed_document(root);\n",
       "      } else {\n",
       "        attempts++;\n",
       "        if (attempts > 100) {\n",
       "          clearInterval(timer);\n",
       "          console.log(\"Bokeh: ERROR: Unable to run BokehJS code because BokehJS library is missing\");\n",
       "        }\n",
       "      }\n",
       "    }, 10, root)\n",
       "  }\n",
       "})(window);"
      ],
      "application/vnd.bokehjs_exec.v0+json": ""
     },
     "metadata": {
      "application/vnd.bokehjs_exec.v0+json": {
       "id": "2775"
      }
     },
     "output_type": "display_data"
    }
   ],
   "source": [
    "p_new_deaths_SMA_EmiliaRomagna = bokeh_plot_N_lines(x=time_date_new, y_list=[nuovi_deceduti_EmiliaRomagna,SMA_new_deaths_EmiliaRomagna_2[0]], \n",
    "                  title='New Deaths: Emilia-Romagna',\n",
    "                  dim=[600, 450], \n",
    "                  x_label='Date',\n",
    "                  y_label='New Deaths', \n",
    "                  legend_list=['new deaths','SMA 14 days'],\n",
    "                  x_label_hover='date' , y_label_hover='new_deaths OR SMA 14' , \n",
    "                  color_list=['darkviolet','lightgreen'],legend_location=\"top_left\")\n",
    "\n",
    "output_file(\"new_deaths_SMA_EmiliaRomagna.html\")\n",
    "\n",
    "show(p_new_deaths_SMA_EmiliaRomagna)"
   ]
  },
  {
   "cell_type": "markdown",
   "metadata": {},
   "source": [
    "----------------\n",
    "\n",
    "----------------"
   ]
  },
  {
   "cell_type": "code",
   "execution_count": 26,
   "metadata": {},
   "outputs": [],
   "source": [
    "s1_grid_EmiliaRomagna = bokeh_plot_N_lines(x=time_date_new, y_list=[total_cases_EmiliaRomagna,total_positive_EmiliaRomagna], \n",
    "                  title='Total Cases & Total Positive: Emilia-Romagna', \n",
    "                  dim=[470, 350], \n",
    "                  x_label='Date', \n",
    "                  y_label='Total Cases & Total Positive', legend_list=['total cases','total positive'],\n",
    "                  x_label_hover='date', y_label_hover='total cases OR total positive',\n",
    "                  color_list=['blue','red'],legend_location=\"top_left\")\n",
    "\n",
    "s2_grid_EmiliaRomagna = bokeh_plot_N_lines(x=time_date_new, y_list=[deceduti_EmiliaRomagna,guariti_EmiliaRomagna], \n",
    "                  title='Deaths & Recovered: Emilia-Romagna', \n",
    "                  dim=[470, 350], \n",
    "                  x_label='Date', \n",
    "                  y_label='Deaths & Recovered', legend_list=['deaths','recovered'],\n",
    "                  x_label_hover='date', y_label_hover='deaths OR recovered',\n",
    "                  color_list=['darkviolet','green'],legend_location=\"top_left\")\n",
    "\n",
    "\n",
    "s3_grid_EmiliaRomagna = bokeh_plot_N_lines(x=time_date_new, y_list=[nuovi_positivi_EmiliaRomagna,SMA_new_positive_EmiliaRomagna_2['nuovi_positivi']], \n",
    "                  title='New Positive: Emilia-Romagna',\n",
    "                  dim=[470, 350], \n",
    "                  x_label='Date',\n",
    "                  y_label='New Positive', \n",
    "                  legend_list=['new positive','SMA 14 days'],\n",
    "                  x_label_hover='date' , y_label_hover='new_positive OR SMA 14' , \n",
    "                  color_list=['blue','lightcoral'],legend_location=\"top_left\")\n",
    "\n",
    "s4_grid_EmiliaRomagna = bokeh_plot_N_lines(x=time_date_new, y_list=[nuovi_deceduti_EmiliaRomagna,SMA_new_deaths_EmiliaRomagna_2[0]], \n",
    "                  title='New Deaths: Emilia-Romagna',\n",
    "                  dim=[470, 350], \n",
    "                  x_label='Date',\n",
    "                  y_label='New Deaths', \n",
    "                  legend_list=['new deaths','SMA 14 days'],\n",
    "                  x_label_hover='date' , y_label_hover='new_deaths OR SMA 14' , \n",
    "                  color_list=['darkviolet','lightgreen'],legend_location=\"top_left\")"
   ]
  },
  {
   "cell_type": "code",
   "execution_count": 27,
   "metadata": {},
   "outputs": [
    {
     "data": {
      "text/html": [
       "\n",
       "\n",
       "\n",
       "\n",
       "\n",
       "\n",
       "  <div class=\"bk-root\" id=\"7fd722c0-07f0-44fb-9da3-5bacec5ed37b\" data-root-id=\"3941\"></div>\n"
      ]
     },
     "metadata": {},
     "output_type": "display_data"
    },
    {
     "data": {
      "application/javascript": [
       "(function(root) {\n",
       "  function embed_document(root) {\n",
       "    \n",
       "  var docs_json = {\"4852911a-fe7c-4238-8383-60600f381aae\":{\"roots\":{\"references\":[{\"attributes\":{\"children\":[{\"id\":\"3940\"},{\"id\":\"3938\"}]},\"id\":\"3941\",\"type\":\"Column\"},{\"attributes\":{\"days\":[1,4,7,10,13,16,19,22,25,28]},\"id\":\"3681\",\"type\":\"DaysTicker\"},{\"attributes\":{},\"id\":\"3739\",\"type\":\"DataRange1d\"},{\"attributes\":{\"mantissas\":[1,2,5],\"max_interval\":500.0,\"num_minor_ticks\":0},\"id\":\"3473\",\"type\":\"AdaptiveTicker\"},{\"attributes\":{\"data\":{\"x\":{\"__ndarray__\":\"AAAA5UcHd0IAAMBKmgd3QgAAgLDsB3dCAABAFj8Id0IAAAB8kQh3QgAAwOHjCHdCAACARzYJd0IAAECtiAl3QgAAABPbCXdCAADAeC0Kd0IAAIDefwp3QgAAQETSCndCAAAAqiQLd0IAAMAPdwt3QgAAgHXJC3dCAABA2xsMd0IAAABBbgx3QgAAwKbADHdCAACADBMNd0IAAEByZQ13QgAAANi3DXdCAADAPQoOd0IAAICjXA53QgAAQAmvDndCAAAAbwEPd0IAAMDUUw93QgAAgDqmD3dCAABAoPgPd0IAAAAGSxB3QgAAwGudEHdCAACA0e8Qd0IAAEA3QhF3QgAAAJ2UEXdCAADAAucRd0IAAIBoORJ3QgAAQM6LEndCAAAANN4Sd0IAAMCZMBN3QgAAgP+CE3dCAABAZdUTd0IAAADLJxR3QgAAwDB6FHdCAACAlswUd0IAAED8HhV3QgAAAGJxFXdCAADAx8MVd0IAAIAtFhZ3QgAAQJNoFndCAAAA+boWd0IAAMBeDRd3QgAAgMRfF3dCAABAKrIXd0IAAACQBBh3QgAAwPVWGHdCAACAW6kYd0IAAEDB+xh3QgAAACdOGXdCAADAjKAZd0IAAIDy8hl3QgAAQFhFGndCAAAAvpcad0IAAMAj6hp3QgAAgIk8G3dCAABA744bd0IAAABV4Rt3QgAAwLozHHdCAACAIIYcd0IAAECG2Bx3QgAAAOwqHXdCAADAUX0dd0IAAIC3zx13QgAAQB0iHndCAAAAg3Qed0IAAMDoxh53QgAAgE4ZH3dCAABAtGsfd0IAAAAavh93QgAAwH8QIHdCAACA5WIgd0IAAEBLtSB3QgAAALEHIXdCAADAFlohd0IAAIB8rCF3QgAAQOL+IXdCAAAASFEid0IAAMCtoyJ3QgAAgBP2IndCAABAeUgjd0IAAADfmiN3QgAAwETtI3dCAACAqj8kd0IAAEAQkiR3QgAAAHbkJHdCAADA2zYld0IAAIBBiSV3QgAAQKfbJXdCAAAADS4md0IAAMBygCZ3QgAAgNjSJndCAABAPiUnd0IAAACkdyd3QgAAwAnKJ3dCAACAbxwod0IAAEDVbih3QgAAADvBKHdCAADAoBMpd0IAAIAGZil3QgAAQGy4KXdCAAAA0goqd0IAAMA3XSp3QgAAgJ2vKndCAABAAwIrd0IAAABpVCt3QgAAwM6mK3dCAACANPkrd0IAAECaSyx3QgAAAACeLHdCAADAZfAsd0IAAIDLQi13QgAAQDGVLXdCAAAAl+ctd0IAAMD8OS53QgAAgGKMLndCAABAyN4ud0IAAAAuMS93QgAAwJODL3dCAACA+dUvd0IAAEBfKDB3QgAAAMV6MHdCAADAKs0wd0IAAICQHzF3QgAAQPZxMXdCAAAAXMQxd0IAAMDBFjJ3QgAAgCdpMndCAABAjbsyd0IAAADzDTN3QgAAwFhgM3dCAACAvrIzd0IAAEAkBTR3QgAAAIpXNHdCAADA76k0d0IAAIBV/DR3QgAAQLtONXdCAAAAIaE1d0IAAMCG8zV3QgAAgOxFNndCAABAUpg2d0IAAAC46jZ3QgAAwB09N3dCAACAg483d0IAAEDp4Td3QgAAAE80OHdCAADAtIY4d0IAAIAa2Th3QgAAQIArOXdCAAAA5n05d0IAAMBL0Dl3QgAAgLEiOndCAABAF3U6d0IAAAB9xzp3QgAAwOIZO3dCAACASGw7d0IAAECuvjt3QgAAABQRPHdCAADAeWM8d0IAAIDftTx3QgAAQEUIPXdCAAAAq1o9d0IAAMAQrT13QgAAgHb/PXdCAABA3FE+d0IAAABCpD53QgAAwKf2PndCAACADUk/d0IAAEBzmz93QgAAANntP3dC\",\"dtype\":\"float64\",\"shape\":[177]},\"y\":[18,26,47,97,145,217,285,335,420,544,698,870,1010,1180,1386,1533,1739,1947,2263,2644,3093,3522,3931,4525,5214,5968,6705,7555,8535,9254,10054,10816,11588,12383,13119,13531,14074,14787,15333,15932,16540,17089,17556,17825,18234,18677,19128,19635,20098,20440,20752,21029,21486,21834,22184,22560,22867,23092,23434,23723,23970,24209,24450,24662,24914,25177,25436,25644,25850,26016,26175,26275,26379,26487,26598,26719,26796,26876,26929,26979,27056,27110,27182,27232,27267,27314,27364,27417,27470,27513,27558,27587,27611,27627,27701,27739,27759,27790,27809,27828,27842,27860,27877,27894,27908,27928,27946,27970,27995,28028,28056,28073,28084,28097,28111,28143,28170,28198,28221,28243,28260,28304,28351,28393,28435,28456,28472,28492,28508,28535,28562,28613,28637,28675,28706,28755,28769,28822,28869,28940,28958,28971,28989,29035,29087,29127,29178,29220,29238,29295,29350,29413,29461,29522,29555,29575,29603,29634,29670,29726,29774,29808,29850,29897,29954,30008,30052,30121,30160,30179,30220,30257,30314,30385,30436,30477,30498]},\"selected\":{\"id\":\"3515\"},\"selection_policy\":{\"id\":\"3516\"}},\"id\":\"3463\",\"type\":\"ColumnDataSource\"},{\"attributes\":{},\"id\":\"3741\",\"type\":\"DataRange1d\"},{\"attributes\":{\"days\":[1,8,15,22]},\"id\":\"3682\",\"type\":\"DaysTicker\"},{\"attributes\":{\"base\":24,\"mantissas\":[1,2,4,6,8,12],\"max_interval\":43200000.0,\"min_interval\":3600000.0,\"num_minor_ticks\":0},\"id\":\"3781\",\"type\":\"AdaptiveTicker\"},{\"attributes\":{\"days\":[1,15]},\"id\":\"3683\",\"type\":\"DaysTicker\"},{\"attributes\":{\"base\":60,\"mantissas\":[1,2,5,10,15,20,30],\"max_interval\":1800000.0,\"min_interval\":1000.0,\"num_minor_ticks\":0},\"id\":\"3780\",\"type\":\"AdaptiveTicker\"},{\"attributes\":{},\"id\":\"3743\",\"type\":\"LinearScale\"},{\"attributes\":{\"base\":24,\"mantissas\":[1,2,4,6,8,12],\"max_interval\":43200000.0,\"min_interval\":3600000.0,\"num_minor_ticks\":0},\"id\":\"3475\",\"type\":\"AdaptiveTicker\"},{\"attributes\":{},\"id\":\"3745\",\"type\":\"LinearScale\"},{\"attributes\":{\"line_color\":\"blue\",\"line_width\":4,\"x\":{\"field\":\"x\"},\"y\":{\"field\":\"y\"}},\"id\":\"3464\",\"type\":\"Line\"},{\"attributes\":{\"base\":60,\"mantissas\":[1,2,5,10,15,20,30],\"max_interval\":1800000.0,\"min_interval\":1000.0,\"num_minor_ticks\":0},\"id\":\"3474\",\"type\":\"AdaptiveTicker\"},{\"attributes\":{\"months\":[0,1,2,3,4,5,6,7,8,9,10,11]},\"id\":\"3684\",\"type\":\"MonthsTicker\"},{\"attributes\":{\"axis_label\":\"Date\",\"formatter\":{\"id\":\"3832\"},\"major_label_orientation\":0.7853981633974483,\"minor_tick_in\":-5,\"minor_tick_out\":-3,\"ticker\":{\"id\":\"3748\"}},\"id\":\"3747\",\"type\":\"DatetimeAxis\"},{\"attributes\":{},\"id\":\"3446\",\"type\":\"BasicTicker\"},{\"attributes\":{\"months\":[0,2,4,6,8,10]},\"id\":\"3685\",\"type\":\"MonthsTicker\"},{\"attributes\":{\"days\":[1,2,3,4,5,6,7,8,9,10,11,12,13,14,15,16,17,18,19,20,21,22,23,24,25,26,27,28,29,30,31]},\"id\":\"3782\",\"type\":\"DaysTicker\"},{\"attributes\":{},\"id\":\"3752\",\"type\":\"BasicTicker\"},{\"attributes\":{\"num_minor_ticks\":5,\"tickers\":[{\"id\":\"3779\"},{\"id\":\"3780\"},{\"id\":\"3781\"},{\"id\":\"3782\"},{\"id\":\"3783\"},{\"id\":\"3784\"},{\"id\":\"3785\"},{\"id\":\"3786\"},{\"id\":\"3787\"},{\"id\":\"3788\"},{\"id\":\"3789\"},{\"id\":\"3790\"}]},\"id\":\"3748\",\"type\":\"DatetimeTicker\"},{\"attributes\":{\"days\":[1,2,3,4,5,6,7,8,9,10,11,12,13,14,15,16,17,18,19,20,21,22,23,24,25,26,27,28,29,30,31]},\"id\":\"3476\",\"type\":\"DaysTicker\"},{\"attributes\":{\"months\":[0,4,8]},\"id\":\"3686\",\"type\":\"MonthsTicker\"},{\"attributes\":{\"days\":[1,4,7,10,13,16,19,22,25,28]},\"id\":\"3783\",\"type\":\"DaysTicker\"},{\"attributes\":{\"axis\":{\"id\":\"3747\"},\"ticker\":null},\"id\":\"3750\",\"type\":\"Grid\"},{\"attributes\":{\"days\":[1,4,7,10,13,16,19,22,25,28]},\"id\":\"3477\",\"type\":\"DaysTicker\"},{\"attributes\":{\"months\":[0,6]},\"id\":\"3687\",\"type\":\"MonthsTicker\"},{\"attributes\":{\"days\":[1,8,15,22]},\"id\":\"3784\",\"type\":\"DaysTicker\"},{\"attributes\":{\"axis_label\":\"Total Cases & Total Positive\",\"formatter\":{\"id\":\"3528\"},\"minor_tick_in\":-5,\"minor_tick_out\":-3,\"ticker\":{\"id\":\"3446\"}},\"id\":\"3445\",\"type\":\"LinearAxis\"},{\"attributes\":{\"axis\":{\"id\":\"3751\"},\"dimension\":1,\"ticker\":null},\"id\":\"3754\",\"type\":\"Grid\"},{\"attributes\":{\"days\":[1,8,15,22]},\"id\":\"3478\",\"type\":\"DaysTicker\"},{\"attributes\":{},\"id\":\"3688\",\"type\":\"YearsTicker\"},{\"attributes\":{\"axis_label\":\"New Deaths\",\"formatter\":{\"id\":\"3834\"},\"minor_tick_in\":-5,\"minor_tick_out\":-3,\"ticker\":{\"id\":\"3752\"}},\"id\":\"3751\",\"type\":\"LinearAxis\"},{\"attributes\":{\"source\":{\"id\":\"3692\"}},\"id\":\"3696\",\"type\":\"CDSView\"},{\"attributes\":{\"days\":[1,15]},\"id\":\"3785\",\"type\":\"DaysTicker\"},{\"attributes\":{\"fill_color\":{\"value\":\"white\"},\"line_color\":{\"value\":\"blue\"},\"size\":{\"units\":\"screen\",\"value\":5},\"x\":{\"field\":\"x\"},\"y\":{\"field\":\"y\"}},\"id\":\"3693\",\"type\":\"Circle\"},{\"attributes\":{\"days\":[1,15]},\"id\":\"3479\",\"type\":\"DaysTicker\"},{\"attributes\":{\"months\":[0,1,2,3,4,5,6,7,8,9,10,11]},\"id\":\"3786\",\"type\":\"MonthsTicker\"},{\"attributes\":{\"axis\":{\"id\":\"3445\"},\"dimension\":1,\"ticker\":null},\"id\":\"3448\",\"type\":\"Grid\"},{\"attributes\":{\"data_source\":{\"id\":\"3692\"},\"glyph\":{\"id\":\"3693\"},\"hover_glyph\":null,\"muted_glyph\":null,\"nonselection_glyph\":{\"id\":\"3694\"},\"selection_glyph\":null,\"view\":{\"id\":\"3696\"}},\"id\":\"3695\",\"type\":\"GlyphRenderer\"},{\"attributes\":{\"data\":{\"x\":{\"__ndarray__\":\"AAAA5UcHd0IAAMBKmgd3QgAAgLDsB3dCAABAFj8Id0IAAAB8kQh3QgAAwOHjCHdCAACARzYJd0IAAECtiAl3QgAAABPbCXdCAADAeC0Kd0IAAIDefwp3QgAAQETSCndCAAAAqiQLd0IAAMAPdwt3QgAAgHXJC3dCAABA2xsMd0IAAABBbgx3QgAAwKbADHdCAACADBMNd0IAAEByZQ13QgAAANi3DXdCAADAPQoOd0IAAICjXA53QgAAQAmvDndCAAAAbwEPd0IAAMDUUw93QgAAgDqmD3dCAABAoPgPd0IAAAAGSxB3QgAAwGudEHdCAACA0e8Qd0IAAEA3QhF3QgAAAJ2UEXdCAADAAucRd0IAAIBoORJ3QgAAQM6LEndCAAAANN4Sd0IAAMCZMBN3QgAAgP+CE3dCAABAZdUTd0IAAADLJxR3QgAAwDB6FHdCAACAlswUd0IAAED8HhV3QgAAAGJxFXdCAADAx8MVd0IAAIAtFhZ3QgAAQJNoFndCAAAA+boWd0IAAMBeDRd3QgAAgMRfF3dCAABAKrIXd0IAAACQBBh3QgAAwPVWGHdCAACAW6kYd0IAAEDB+xh3QgAAACdOGXdCAADAjKAZd0IAAIDy8hl3QgAAQFhFGndCAAAAvpcad0IAAMAj6hp3QgAAgIk8G3dCAABA744bd0IAAABV4Rt3QgAAwLozHHdCAACAIIYcd0IAAECG2Bx3QgAAAOwqHXdCAADAUX0dd0IAAIC3zx13QgAAQB0iHndCAAAAg3Qed0IAAMDoxh53QgAAgE4ZH3dCAABAtGsfd0IAAAAavh93QgAAwH8QIHdCAACA5WIgd0IAAEBLtSB3QgAAALEHIXdCAADAFlohd0IAAIB8rCF3QgAAQOL+IXdCAAAASFEid0IAAMCtoyJ3QgAAgBP2IndCAABAeUgjd0IAAADfmiN3QgAAwETtI3dCAACAqj8kd0IAAEAQkiR3QgAAAHbkJHdCAADA2zYld0IAAIBBiSV3QgAAQKfbJXdCAAAADS4md0IAAMBygCZ3QgAAgNjSJndCAABAPiUnd0IAAACkdyd3QgAAwAnKJ3dCAACAbxwod0IAAEDVbih3QgAAADvBKHdCAADAoBMpd0IAAIAGZil3QgAAQGy4KXdCAAAA0goqd0IAAMA3XSp3QgAAgJ2vKndCAABAAwIrd0IAAABpVCt3QgAAwM6mK3dCAACANPkrd0IAAECaSyx3QgAAAACeLHdCAADAZfAsd0IAAIDLQi13QgAAQDGVLXdCAAAAl+ctd0IAAMD8OS53QgAAgGKMLndCAABAyN4ud0IAAAAuMS93QgAAwJODL3dCAACA+dUvd0IAAEBfKDB3QgAAAMV6MHdCAADAKs0wd0IAAICQHzF3QgAAQPZxMXdCAAAAXMQxd0IAAMDBFjJ3QgAAgCdpMndCAABAjbsyd0IAAADzDTN3QgAAwFhgM3dCAACAvrIzd0IAAEAkBTR3QgAAAIpXNHdCAADA76k0d0IAAIBV/DR3QgAAQLtONXdCAAAAIaE1d0IAAMCG8zV3QgAAgOxFNndCAABAUpg2d0IAAAC46jZ3QgAAwB09N3dCAACAg483d0IAAEDp4Td3QgAAAE80OHdCAADAtIY4d0IAAIAa2Th3QgAAQIArOXdCAAAA5n05d0IAAMBL0Dl3QgAAgLEiOndCAABAF3U6d0IAAAB9xzp3QgAAwOIZO3dCAACASGw7d0IAAECuvjt3QgAAABQRPHdCAADAeWM8d0IAAIDftTx3QgAAQEUIPXdCAAAAq1o9d0IAAMAQrT13QgAAgHb/PXdCAABA3FE+d0IAAABCpD53QgAAwKf2PndCAACADUk/d0IAAEBzmz93QgAAANntP3dC\",\"dtype\":\"float64\",\"shape\":[177]},\"y\":[18,8,21,50,48,72,68,50,85,124,154,172,140,170,206,147,206,208,316,381,449,429,409,594,689,754,737,850,980,719,800,762,772,795,736,412,543,713,546,599,608,549,467,269,409,443,451,507,463,342,312,277,457,348,350,376,307,225,342,289,247,239,241,212,252,263,259,208,206,166,159,100,104,108,111,121,77,80,53,50,77,54,72,50,35,47,50,53,53,43,45,29,24,16,74,38,20,31,19,19,14,18,17,17,14,20,18,24,25,33,28,17,11,13,14,32,27,28,23,22,17,44,47,46,42,21,16,20,16,27,27,51,24,38,31,49,29,53,47,71,18,13,18,46,54,40,51,42,18,57,55,63,49,61,33,20,28,35,36,56,49,34,42,47,58,54,44,69,39,19,41,37,57,71,51,41,21]},\"selected\":{\"id\":\"3721\"},\"selection_policy\":{\"id\":\"3722\"}},\"id\":\"3692\",\"type\":\"ColumnDataSource\"},{\"attributes\":{\"months\":[0,1,2,3,4,5,6,7,8,9,10,11]},\"id\":\"3480\",\"type\":\"MonthsTicker\"},{\"attributes\":{\"months\":[0,2,4,6,8,10]},\"id\":\"3787\",\"type\":\"MonthsTicker\"},{\"attributes\":{\"months\":[0,2,4,6,8,10]},\"id\":\"3481\",\"type\":\"MonthsTicker\"},{\"attributes\":{\"months\":[0,4,8]},\"id\":\"3788\",\"type\":\"MonthsTicker\"},{\"attributes\":{\"data_source\":{\"id\":\"3769\"},\"glyph\":{\"id\":\"3770\"},\"hover_glyph\":null,\"muted_glyph\":null,\"nonselection_glyph\":{\"id\":\"3771\"},\"selection_glyph\":null,\"view\":{\"id\":\"3773\"}},\"id\":\"3772\",\"type\":\"GlyphRenderer\"},{\"attributes\":{\"line_color\":\"lightcoral\",\"line_width\":4,\"x\":{\"field\":\"x\"},\"y\":{\"field\":\"y\"}},\"id\":\"3698\",\"type\":\"Line\"},{\"attributes\":{\"active_drag\":\"auto\",\"active_inspect\":\"auto\",\"active_multi\":null,\"active_scroll\":\"auto\",\"active_tap\":\"auto\",\"tools\":[{\"id\":\"3755\"},{\"id\":\"3756\"},{\"id\":\"3757\"},{\"id\":\"3758\"},{\"id\":\"3759\"},{\"id\":\"3760\"},{\"id\":\"3836\"}]},\"id\":\"3762\",\"type\":\"Toolbar\"},{\"attributes\":{\"months\":[0,4,8]},\"id\":\"3482\",\"type\":\"MonthsTicker\"},{\"attributes\":{\"months\":[0,6]},\"id\":\"3789\",\"type\":\"MonthsTicker\"},{\"attributes\":{\"data\":{\"x\":{\"__ndarray__\":\"AAAA5UcHd0IAAMBKmgd3QgAAgLDsB3dCAABAFj8Id0IAAAB8kQh3QgAAwOHjCHdCAACARzYJd0IAAECtiAl3QgAAABPbCXdCAADAeC0Kd0IAAIDefwp3QgAAQETSCndCAAAAqiQLd0IAAMAPdwt3QgAAgHXJC3dCAABA2xsMd0IAAABBbgx3QgAAwKbADHdCAACADBMNd0IAAEByZQ13QgAAANi3DXdCAADAPQoOd0IAAICjXA53QgAAQAmvDndCAAAAbwEPd0IAAMDUUw93QgAAgDqmD3dCAABAoPgPd0IAAAAGSxB3QgAAwGudEHdCAACA0e8Qd0IAAEA3QhF3QgAAAJ2UEXdCAADAAucRd0IAAIBoORJ3QgAAQM6LEndCAAAANN4Sd0IAAMCZMBN3QgAAgP+CE3dCAABAZdUTd0IAAADLJxR3QgAAwDB6FHdCAACAlswUd0IAAED8HhV3QgAAAGJxFXdCAADAx8MVd0IAAIAtFhZ3QgAAQJNoFndCAAAA+boWd0IAAMBeDRd3QgAAgMRfF3dCAABAKrIXd0IAAACQBBh3QgAAwPVWGHdCAACAW6kYd0IAAEDB+xh3QgAAACdOGXdCAADAjKAZd0IAAIDy8hl3QgAAQFhFGndCAAAAvpcad0IAAMAj6hp3QgAAgIk8G3dCAABA744bd0IAAABV4Rt3QgAAwLozHHdCAACAIIYcd0IAAECG2Bx3QgAAAOwqHXdCAADAUX0dd0IAAIC3zx13QgAAQB0iHndCAAAAg3Qed0IAAMDoxh53QgAAgE4ZH3dCAABAtGsfd0IAAAAavh93QgAAwH8QIHdCAACA5WIgd0IAAEBLtSB3QgAAALEHIXdCAADAFlohd0IAAIB8rCF3QgAAQOL+IXdCAAAASFEid0IAAMCtoyJ3QgAAgBP2IndCAABAeUgjd0IAAADfmiN3QgAAwETtI3dCAACAqj8kd0IAAEAQkiR3QgAAAHbkJHdCAADA2zYld0IAAIBBiSV3QgAAQKfbJXdCAAAADS4md0IAAMBygCZ3QgAAgNjSJndCAABAPiUnd0IAAACkdyd3QgAAwAnKJ3dCAACAbxwod0IAAEDVbih3QgAAADvBKHdCAADAoBMpd0IAAIAGZil3QgAAQGy4KXdCAAAA0goqd0IAAMA3XSp3QgAAgJ2vKndCAABAAwIrd0IAAABpVCt3QgAAwM6mK3dCAACANPkrd0IAAECaSyx3QgAAAACeLHdCAADAZfAsd0IAAIDLQi13QgAAQDGVLXdCAAAAl+ctd0IAAMD8OS53QgAAgGKMLndCAABAyN4ud0IAAAAuMS93QgAAwJODL3dCAACA+dUvd0IAAEBfKDB3QgAAAMV6MHdCAADAKs0wd0IAAICQHzF3QgAAQPZxMXdCAAAAXMQxd0IAAMDBFjJ3QgAAgCdpMndCAABAjbsyd0IAAADzDTN3QgAAwFhgM3dCAACAvrIzd0IAAEAkBTR3QgAAAIpXNHdCAADA76k0d0IAAIBV/DR3QgAAQLtONXdCAAAAIaE1d0IAAMCG8zV3QgAAgOxFNndCAABAUpg2d0IAAAC46jZ3QgAAwB09N3dCAACAg483d0IAAEDp4Td3QgAAAE80OHdCAADAtIY4d0IAAIAa2Th3QgAAQIArOXdCAAAA5n05d0IAAMBL0Dl3QgAAgLEiOndCAABAF3U6d0IAAAB9xzp3QgAAwOIZO3dCAACASGw7d0IAAECuvjt3QgAAABQRPHdCAADAeWM8d0IAAIDftTx3QgAAQEUIPXdCAAAAq1o9d0IAAMAQrT13QgAAgHb/PXdCAABA3FE+d0IAAABCpD53QgAAwKf2PndCAACADUk/d0IAAEBzmz93QgAAANntP3dC\",\"dtype\":\"float64\",\"shape\":[177]},\"y\":[0,0,1,0,1,2,4,3,7,4,8,7,11,8,14,15,28,33,55,40,43,62,47,65,73,109,75,101,76,93,92,97,93,77,99,95,106,88,79,91,75,74,57,72,54,82,81,84,83,51,90,83,55,60,62,58,56,68,57,65,34,44,39,45,41,40,39,28,35,28,24,39,32,29,31,30,18,22,18,20,25,13,17,13,13,11,11,17,12,10,8,13,8,7,11,8,5,7,10,12,11,7,13,4,4,4,6,7,0,4,3,5,3,2,6,4,5,6,1,4,1,9,4,3,0,1,2,5,4,1,2,0,1,0,1,0,0,0,0,0,0,2,0,0,2,1,0,3,2,2,0,2,1,1,0,1,1,2,0,2,0,0,0,0,0,1,2,1,1,2,0,0,0,155,0,0,1]},\"selected\":{\"id\":\"3821\"},\"selection_policy\":{\"id\":\"3822\"}},\"id\":\"3769\",\"type\":\"ColumnDataSource\"},{\"attributes\":{\"months\":[0,6]},\"id\":\"3483\",\"type\":\"MonthsTicker\"},{\"attributes\":{},\"id\":\"3790\",\"type\":\"YearsTicker\"},{\"attributes\":{},\"id\":\"3755\",\"type\":\"PanTool\"},{\"attributes\":{\"fill_alpha\":{\"value\":0.1},\"fill_color\":{\"value\":\"white\"},\"line_alpha\":{\"value\":0.1},\"line_color\":{\"value\":\"blue\"},\"size\":{\"units\":\"screen\",\"value\":5},\"x\":{\"field\":\"x\"},\"y\":{\"field\":\"y\"}},\"id\":\"3694\",\"type\":\"Circle\"},{\"attributes\":{\"source\":{\"id\":\"3794\"}},\"id\":\"3798\",\"type\":\"CDSView\"},{\"attributes\":{\"fill_color\":{\"value\":\"white\"},\"line_color\":{\"value\":\"darkviolet\"},\"size\":{\"units\":\"screen\",\"value\":5},\"x\":{\"field\":\"x\"},\"y\":{\"field\":\"y\"}},\"id\":\"3795\",\"type\":\"Circle\"},{\"attributes\":{},\"id\":\"3484\",\"type\":\"YearsTicker\"},{\"attributes\":{\"data_source\":{\"id\":\"3794\"},\"glyph\":{\"id\":\"3795\"},\"hover_glyph\":null,\"muted_glyph\":null,\"nonselection_glyph\":{\"id\":\"3796\"},\"selection_glyph\":null,\"view\":{\"id\":\"3798\"}},\"id\":\"3797\",\"type\":\"GlyphRenderer\"},{\"attributes\":{\"source\":{\"id\":\"3488\"}},\"id\":\"3492\",\"type\":\"CDSView\"},{\"attributes\":{\"data\":{\"x\":{\"__ndarray__\":\"AAAA5UcHd0IAAMBKmgd3QgAAgLDsB3dCAABAFj8Id0IAAAB8kQh3QgAAwOHjCHdCAACARzYJd0IAAECtiAl3QgAAABPbCXdCAADAeC0Kd0IAAIDefwp3QgAAQETSCndCAAAAqiQLd0IAAMAPdwt3QgAAgHXJC3dCAABA2xsMd0IAAABBbgx3QgAAwKbADHdCAACADBMNd0IAAEByZQ13QgAAANi3DXdCAADAPQoOd0IAAICjXA53QgAAQAmvDndCAAAAbwEPd0IAAMDUUw93QgAAgDqmD3dCAABAoPgPd0IAAAAGSxB3QgAAwGudEHdCAACA0e8Qd0IAAEA3QhF3QgAAAJ2UEXdCAADAAucRd0IAAIBoORJ3QgAAQM6LEndCAAAANN4Sd0IAAMCZMBN3QgAAgP+CE3dCAABAZdUTd0IAAADLJxR3QgAAwDB6FHdCAACAlswUd0IAAED8HhV3QgAAAGJxFXdCAADAx8MVd0IAAIAtFhZ3QgAAQJNoFndCAAAA+boWd0IAAMBeDRd3QgAAgMRfF3dCAABAKrIXd0IAAACQBBh3QgAAwPVWGHdCAACAW6kYd0IAAEDB+xh3QgAAACdOGXdCAADAjKAZd0IAAIDy8hl3QgAAQFhFGndCAAAAvpcad0IAAMAj6hp3QgAAgIk8G3dCAABA744bd0IAAABV4Rt3QgAAwLozHHdCAACAIIYcd0IAAECG2Bx3QgAAAOwqHXdCAADAUX0dd0IAAIC3zx13QgAAQB0iHndCAAAAg3Qed0IAAMDoxh53QgAAgE4ZH3dCAABAtGsfd0IAAAAavh93QgAAwH8QIHdCAACA5WIgd0IAAEBLtSB3QgAAALEHIXdCAADAFlohd0IAAIB8rCF3QgAAQOL+IXdCAAAASFEid0IAAMCtoyJ3QgAAgBP2IndCAABAeUgjd0IAAADfmiN3QgAAwETtI3dCAACAqj8kd0IAAEAQkiR3QgAAAHbkJHdCAADA2zYld0IAAIBBiSV3QgAAQKfbJXdCAAAADS4md0IAAMBygCZ3QgAAgNjSJndCAABAPiUnd0IAAACkdyd3QgAAwAnKJ3dCAACAbxwod0IAAEDVbih3QgAAADvBKHdCAADAoBMpd0IAAIAGZil3QgAAQGy4KXdCAAAA0goqd0IAAMA3XSp3QgAAgJ2vKndCAABAAwIrd0IAAABpVCt3QgAAwM6mK3dCAACANPkrd0IAAECaSyx3QgAAAACeLHdCAADAZfAsd0IAAIDLQi13QgAAQDGVLXdCAAAAl+ctd0IAAMD8OS53QgAAgGKMLndCAABAyN4ud0IAAAAuMS93QgAAwJODL3dCAACA+dUvd0IAAEBfKDB3QgAAAMV6MHdCAADAKs0wd0IAAICQHzF3QgAAQPZxMXdCAAAAXMQxd0IAAMDBFjJ3QgAAgCdpMndCAABAjbsyd0IAAADzDTN3QgAAwFhgM3dCAACAvrIzd0IAAEAkBTR3QgAAAIpXNHdCAADA76k0d0IAAIBV/DR3QgAAQLtONXdCAAAAIaE1d0IAAMCG8zV3QgAAgOxFNndCAABAUpg2d0IAAAC46jZ3QgAAwB09N3dCAACAg483d0IAAEDp4Td3QgAAAE80OHdCAADAtIY4d0IAAIAa2Th3QgAAQIArOXdCAAAA5n05d0IAAMBL0Dl3QgAAgLEiOndCAABAF3U6d0IAAAB9xzp3QgAAwOIZO3dCAACASGw7d0IAAECuvjt3QgAAABQRPHdCAADAeWM8d0IAAIDftTx3QgAAQEUIPXdCAAAAq1o9d0IAAMAQrT13QgAAgHb/PXdCAABA3FE+d0IAAABCpD53QgAAwKf2PndCAACADUk/d0IAAEBzmz93QgAAANntP3dC\",\"dtype\":\"float64\",\"shape\":[177]},\"y\":{\"__ndarray__\":\"AAAAAAAA+H8AAAAAAAD4fwAAAAAAAPh/AAAAAAAA+H8AAAAAAAD4fwAAAAAAAPh/AAAAAAAA+H8AAAAAAAD4fwAAAAAAAPh/AAAAAAAA+H8AAAAAAAD4fwAAAAAAAPh/AAAAAAAA+H8lSZIkSRJVQNu2bdu2bVhAkiRJkiTpWkBu27Zt2zZeQEmSJEmShGBAkiRJkiTpYkC3bdu2batlQCVJkiRJEmlASZIkSZJ0bECSJEmSJFlvQNu2bdu2xXFAkiRJkiQpdEAlSZIkScJ2QEmSJEmSbHlA27Zt27Z1fEAlSZIkSep/QAAAAAAAPIFAt23btm2PgkAAAAAAAMyDQEmSJEmS0IRAkiRJkiS9hUCSJEmSJGGGQLdt27ZtV4ZAAAAAAACkhkAAAAAAAOiGQCVJkiRJloZA27Zt27Y9hkAAAAAAAPSFQAAAAAAASIVAbtu2bdsihEDbtm3btiGDQCVJkiRJQoJAAAAAAACMgUBJkiRJktSAQAAAAAAAMIBAAAAAAAAof0AAAAAAANh+QAAAAAAA0H1A27Zt27bde0AAAAAAAHh7QJIkSZIkWXpAJUmSJEkyeUBJkiRJkmx4QNu2bdu2tXdAt23btm2Dd0Bu27Zt2zZ3QG7btm3bhnZA27Zt27addUC3bdu2bWt0QNu2bdu2bXNAkiRJkiTZckBJkiRJkpRyQEmSJEmShHJAJUmSJEmicUAlSZIkSQJxQNu2bdu2XXBAt23btm3bbkCSJEmSJIltQLdt27Zta2xAt23btm1LakDbtm3btq1oQG7btm3bdmdAkiRJkiRpZkAlSZIkSfJkQEmSJEmSxGNA27Zt27b9YUBu27Zt2xZgQNu2bdu27VxA27Zt27YtWkCSJEmSJMlXQG7btm3btlVAAAAAAACAU0Dbtm3bto1SQG7btm3bllFAt23btm2bUEBJkiRJkiRPQLdt27ZtW0xAbtu2bds2S0BJkiRJkmRJQLdt27ZtW0hASZIkSZIkR0CSJEmSJAlHQG7btm3bdkZAt23btm2bREDbtm3btu1DQLdt27ZtW0NAt23btm1bQkAlSZIkSRJBQEmSJEmSpD9AJUmSJEkSPUBu27Zt2zY7QAAAAAAAADlAt23btm1bOEDbtm3btu03QAAAAAAAgDhAAAAAAAAANUBJkiRJkqQ0QG7btm3bNjVAbtu2bds2NEBJkiRJkqQzQG7btm3bNjNAbtu2bds2M0Bu27Zt2zY0QNu2bdu27TRAbtu2bdu2NUC3bdu2bVs2QAAAAAAAgDZA27Zt27ZtNkC3bdu2bds3QNu2bdu2bTlAt23btm1bOkC3bdu2bVs7QEmSJEmSpDtAAAAAAAAAPEAAAAAAAIA8QEmSJEmSpDxAkiRJkiRJPECSJEmSJEk8QNu2bdu27T1AAAAAAAAAPkBJkiRJkiQ/QCVJkiRJEkBAAAAAAABAQEBu27Zt2zY/QG7btm3btj9AkiRJkiQJQEAlSZIkSdJBQEmSJEmS5EFASZIkSZKkQUBu27Zt27ZBQEmSJEmSZEJAt23btm1bQ0Bu27Zt2/ZCQNu2bdu27UNAJUmSJEkSREC3bdu2bZtDQEmSJEmS5ENAJUmSJEnSREDbtm3bti1FQAAAAAAAQEVASZIkSZLkREDbtm3btm1FQNu2bdu2rUVAkiRJkiQJRkBJkiRJkqRFQAAAAAAAAEVAJUmSJEmSRUAAAAAAAIBFQG7btm3bNkVAJUmSJEkSRkBu27Zt27ZFQCVJkiRJ0kVAAAAAAACARUAlSZIkSVJFQLdt27Ztm0VAJUmSJEnSRUCSJEmSJMlFQAAAAAAAQEZAJUmSJElSRkAlSZIkSRJHQLdt27Ztm0dA27Zt27atR0Dbtm3btu1HQNu2bdu2LUdA\",\"dtype\":\"float64\",\"shape\":[177]}},\"selected\":{\"id\":\"3907\"},\"selection_policy\":{\"id\":\"3908\"}},\"id\":\"3697\",\"type\":\"ColumnDataSource\"},{\"attributes\":{},\"id\":\"3758\",\"type\":\"SaveTool\"},{\"attributes\":{\"fill_color\":{\"value\":\"white\"},\"line_color\":{\"value\":\"blue\"},\"size\":{\"units\":\"screen\",\"value\":5},\"x\":{\"field\":\"x\"},\"y\":{\"field\":\"y\"}},\"id\":\"3489\",\"type\":\"Circle\"},{\"attributes\":{\"label\":{\"value\":\"SMA 14 days\"},\"renderers\":[{\"id\":\"3700\"}]},\"id\":\"3724\",\"type\":\"LegendItem\"},{\"attributes\":{\"data\":{\"x\":{\"__ndarray__\":\"AAAA5UcHd0IAAMBKmgd3QgAAgLDsB3dCAABAFj8Id0IAAAB8kQh3QgAAwOHjCHdCAACARzYJd0IAAECtiAl3QgAAABPbCXdCAADAeC0Kd0IAAIDefwp3QgAAQETSCndCAAAAqiQLd0IAAMAPdwt3QgAAgHXJC3dCAABA2xsMd0IAAABBbgx3QgAAwKbADHdCAACADBMNd0IAAEByZQ13QgAAANi3DXdCAADAPQoOd0IAAICjXA53QgAAQAmvDndCAAAAbwEPd0IAAMDUUw93QgAAgDqmD3dCAABAoPgPd0IAAAAGSxB3QgAAwGudEHdCAACA0e8Qd0IAAEA3QhF3QgAAAJ2UEXdCAADAAucRd0IAAIBoORJ3QgAAQM6LEndCAAAANN4Sd0IAAMCZMBN3QgAAgP+CE3dCAABAZdUTd0IAAADLJxR3QgAAwDB6FHdCAACAlswUd0IAAED8HhV3QgAAAGJxFXdCAADAx8MVd0IAAIAtFhZ3QgAAQJNoFndCAAAA+boWd0IAAMBeDRd3QgAAgMRfF3dCAABAKrIXd0IAAACQBBh3QgAAwPVWGHdCAACAW6kYd0IAAEDB+xh3QgAAACdOGXdCAADAjKAZd0IAAIDy8hl3QgAAQFhFGndCAAAAvpcad0IAAMAj6hp3QgAAgIk8G3dCAABA744bd0IAAABV4Rt3QgAAwLozHHdCAACAIIYcd0IAAECG2Bx3QgAAAOwqHXdCAADAUX0dd0IAAIC3zx13QgAAQB0iHndCAAAAg3Qed0IAAMDoxh53QgAAgE4ZH3dCAABAtGsfd0IAAAAavh93QgAAwH8QIHdCAACA5WIgd0IAAEBLtSB3QgAAALEHIXdCAADAFlohd0IAAIB8rCF3QgAAQOL+IXdCAAAASFEid0IAAMCtoyJ3QgAAgBP2IndCAABAeUgjd0IAAADfmiN3QgAAwETtI3dCAACAqj8kd0IAAEAQkiR3QgAAAHbkJHdCAADA2zYld0IAAIBBiSV3QgAAQKfbJXdCAAAADS4md0IAAMBygCZ3QgAAgNjSJndCAABAPiUnd0IAAACkdyd3QgAAwAnKJ3dCAACAbxwod0IAAEDVbih3QgAAADvBKHdCAADAoBMpd0IAAIAGZil3QgAAQGy4KXdCAAAA0goqd0IAAMA3XSp3QgAAgJ2vKndCAABAAwIrd0IAAABpVCt3QgAAwM6mK3dCAACANPkrd0IAAECaSyx3QgAAAACeLHdCAADAZfAsd0IAAIDLQi13QgAAQDGVLXdCAAAAl+ctd0IAAMD8OS53QgAAgGKMLndCAABAyN4ud0IAAAAuMS93QgAAwJODL3dCAACA+dUvd0IAAEBfKDB3QgAAAMV6MHdCAADAKs0wd0IAAICQHzF3QgAAQPZxMXdCAAAAXMQxd0IAAMDBFjJ3QgAAgCdpMndCAABAjbsyd0IAAADzDTN3QgAAwFhgM3dCAACAvrIzd0IAAEAkBTR3QgAAAIpXNHdCAADA76k0d0IAAIBV/DR3QgAAQLtONXdCAAAAIaE1d0IAAMCG8zV3QgAAgOxFNndCAABAUpg2d0IAAAC46jZ3QgAAwB09N3dCAACAg483d0IAAEDp4Td3QgAAAE80OHdCAADAtIY4d0IAAIAa2Th3QgAAQIArOXdCAAAA5n05d0IAAMBL0Dl3QgAAgLEiOndCAABAF3U6d0IAAAB9xzp3QgAAwOIZO3dCAACASGw7d0IAAECuvjt3QgAAABQRPHdCAADAeWM8d0IAAIDftTx3QgAAQEUIPXdCAAAAq1o9d0IAAMAQrT13QgAAgHb/PXdCAABA3FE+d0IAAABCpD53QgAAwKf2PndCAACADUk/d0IAAEBzmz93QgAAANntP3dC\",\"dtype\":\"float64\",\"shape\":[177]},\"y\":[0,0,1,0,1,2,4,3,7,4,8,7,11,8,14,15,28,33,55,40,43,62,47,65,73,109,75,101,76,93,92,97,93,77,99,95,106,88,79,91,75,74,57,72,54,82,81,84,83,51,90,83,55,60,62,58,56,68,57,65,34,44,39,45,41,40,39,28,35,28,24,39,32,29,31,30,18,22,18,20,25,13,17,13,13,11,11,17,12,10,8,13,8,7,11,8,5,7,10,12,11,7,13,4,4,4,6,7,0,4,3,5,3,2,6,4,5,6,1,4,1,9,4,3,0,1,2,5,4,1,2,0,1,0,1,0,0,0,0,0,0,2,0,0,2,1,0,3,2,2,0,2,1,1,0,1,1,2,0,2,0,0,0,0,0,1,2,1,1,2,0,0,0,155,0,0,1]},\"selected\":{\"id\":\"3823\"},\"selection_policy\":{\"id\":\"3824\"}},\"id\":\"3794\",\"type\":\"ColumnDataSource\"},{\"attributes\":{},\"id\":\"3759\",\"type\":\"ResetTool\"},{\"attributes\":{\"data_source\":{\"id\":\"3488\"},\"glyph\":{\"id\":\"3489\"},\"hover_glyph\":null,\"muted_glyph\":null,\"nonselection_glyph\":{\"id\":\"3490\"},\"selection_glyph\":null,\"view\":{\"id\":\"3492\"}},\"id\":\"3491\",\"type\":\"GlyphRenderer\"},{\"attributes\":{\"data\":{\"x\":{\"__ndarray__\":\"AAAA5UcHd0IAAMBKmgd3QgAAgLDsB3dCAABAFj8Id0IAAAB8kQh3QgAAwOHjCHdCAACARzYJd0IAAECtiAl3QgAAABPbCXdCAADAeC0Kd0IAAIDefwp3QgAAQETSCndCAAAAqiQLd0IAAMAPdwt3QgAAgHXJC3dCAABA2xsMd0IAAABBbgx3QgAAwKbADHdCAACADBMNd0IAAEByZQ13QgAAANi3DXdCAADAPQoOd0IAAICjXA53QgAAQAmvDndCAAAAbwEPd0IAAMDUUw93QgAAgDqmD3dCAABAoPgPd0IAAAAGSxB3QgAAwGudEHdCAACA0e8Qd0IAAEA3QhF3QgAAAJ2UEXdCAADAAucRd0IAAIBoORJ3QgAAQM6LEndCAAAANN4Sd0IAAMCZMBN3QgAAgP+CE3dCAABAZdUTd0IAAADLJxR3QgAAwDB6FHdCAACAlswUd0IAAED8HhV3QgAAAGJxFXdCAADAx8MVd0IAAIAtFhZ3QgAAQJNoFndCAAAA+boWd0IAAMBeDRd3QgAAgMRfF3dCAABAKrIXd0IAAACQBBh3QgAAwPVWGHdCAACAW6kYd0IAAEDB+xh3QgAAACdOGXdCAADAjKAZd0IAAIDy8hl3QgAAQFhFGndCAAAAvpcad0IAAMAj6hp3QgAAgIk8G3dCAABA744bd0IAAABV4Rt3QgAAwLozHHdCAACAIIYcd0IAAECG2Bx3QgAAAOwqHXdCAADAUX0dd0IAAIC3zx13QgAAQB0iHndCAAAAg3Qed0IAAMDoxh53QgAAgE4ZH3dCAABAtGsfd0IAAAAavh93QgAAwH8QIHdCAACA5WIgd0IAAEBLtSB3QgAAALEHIXdCAADAFlohd0IAAIB8rCF3QgAAQOL+IXdCAAAASFEid0IAAMCtoyJ3QgAAgBP2IndCAABAeUgjd0IAAADfmiN3QgAAwETtI3dCAACAqj8kd0IAAEAQkiR3QgAAAHbkJHdCAADA2zYld0IAAIBBiSV3QgAAQKfbJXdCAAAADS4md0IAAMBygCZ3QgAAgNjSJndCAABAPiUnd0IAAACkdyd3QgAAwAnKJ3dCAACAbxwod0IAAEDVbih3QgAAADvBKHdCAADAoBMpd0IAAIAGZil3QgAAQGy4KXdCAAAA0goqd0IAAMA3XSp3QgAAgJ2vKndCAABAAwIrd0IAAABpVCt3QgAAwM6mK3dCAACANPkrd0IAAECaSyx3QgAAAACeLHdCAADAZfAsd0IAAIDLQi13QgAAQDGVLXdCAAAAl+ctd0IAAMD8OS53QgAAgGKMLndCAABAyN4ud0IAAAAuMS93QgAAwJODL3dCAACA+dUvd0IAAEBfKDB3QgAAAMV6MHdCAADAKs0wd0IAAICQHzF3QgAAQPZxMXdCAAAAXMQxd0IAAMDBFjJ3QgAAgCdpMndCAABAjbsyd0IAAADzDTN3QgAAwFhgM3dCAACAvrIzd0IAAEAkBTR3QgAAAIpXNHdCAADA76k0d0IAAIBV/DR3QgAAQLtONXdCAAAAIaE1d0IAAMCG8zV3QgAAgOxFNndCAABAUpg2d0IAAAC46jZ3QgAAwB09N3dCAACAg483d0IAAEDp4Td3QgAAAE80OHdCAADAtIY4d0IAAIAa2Th3QgAAQIArOXdCAAAA5n05d0IAAMBL0Dl3QgAAgLEiOndCAABAF3U6d0IAAAB9xzp3QgAAwOIZO3dCAACASGw7d0IAAECuvjt3QgAAABQRPHdCAADAeWM8d0IAAIDftTx3QgAAQEUIPXdCAAAAq1o9d0IAAMAQrT13QgAAgHb/PXdCAABA3FE+d0IAAABCpD53QgAAwKf2PndCAACADUk/d0IAAEBzmz93QgAAANntP3dC\",\"dtype\":\"float64\",\"shape\":[177]},\"y\":[18,26,47,97,145,217,285,335,420,544,698,870,1010,1180,1386,1533,1739,1947,2263,2644,3093,3522,3931,4525,5214,5968,6705,7555,8535,9254,10054,10816,11588,12383,13119,13531,14074,14787,15333,15932,16540,17089,17556,17825,18234,18677,19128,19635,20098,20440,20752,21029,21486,21834,22184,22560,22867,23092,23434,23723,23970,24209,24450,24662,24914,25177,25436,25644,25850,26016,26175,26275,26379,26487,26598,26719,26796,26876,26929,26979,27056,27110,27182,27232,27267,27314,27364,27417,27470,27513,27558,27587,27611,27627,27701,27739,27759,27790,27809,27828,27842,27860,27877,27894,27908,27928,27946,27970,27995,28028,28056,28073,28084,28097,28111,28143,28170,28198,28221,28243,28260,28304,28351,28393,28435,28456,28472,28492,28508,28535,28562,28613,28637,28675,28706,28755,28769,28822,28869,28940,28958,28971,28989,29035,29087,29127,29178,29220,29238,29295,29350,29413,29461,29522,29555,29575,29603,29634,29670,29726,29774,29808,29850,29897,29954,30008,30052,30121,30160,30179,30220,30257,30314,30385,30436,30477,30498]},\"selected\":{\"id\":\"3517\"},\"selection_policy\":{\"id\":\"3518\"}},\"id\":\"3488\",\"type\":\"ColumnDataSource\"},{\"attributes\":{\"source\":{\"id\":\"3769\"}},\"id\":\"3773\",\"type\":\"CDSView\"},{\"attributes\":{\"line_color\":\"lightgreen\",\"line_width\":4,\"x\":{\"field\":\"x\"},\"y\":{\"field\":\"y\"}},\"id\":\"3800\",\"type\":\"Line\"},{\"attributes\":{},\"id\":\"3721\",\"type\":\"Selection\"},{\"attributes\":{},\"id\":\"3760\",\"type\":\"HelpTool\"},{\"attributes\":{\"mantissas\":[1,2,5],\"max_interval\":500.0,\"num_minor_ticks\":0},\"id\":\"3575\",\"type\":\"AdaptiveTicker\"},{\"attributes\":{\"data_source\":{\"id\":\"3697\"},\"glyph\":{\"id\":\"3698\"},\"hover_glyph\":null,\"muted_glyph\":null,\"nonselection_glyph\":{\"id\":\"3699\"},\"selection_glyph\":null,\"view\":{\"id\":\"3701\"}},\"id\":\"3700\",\"type\":\"GlyphRenderer\"},{\"attributes\":{\"line_color\":\"red\",\"line_width\":4,\"x\":{\"field\":\"x\"},\"y\":{\"field\":\"y\"}},\"id\":\"3494\",\"type\":\"Line\"},{\"attributes\":{\"fill_alpha\":{\"value\":0.1},\"fill_color\":{\"value\":\"white\"},\"line_alpha\":{\"value\":0.1},\"line_color\":{\"value\":\"darkviolet\"},\"size\":{\"units\":\"screen\",\"value\":5},\"x\":{\"field\":\"x\"},\"y\":{\"field\":\"y\"}},\"id\":\"3796\",\"type\":\"Circle\"},{\"attributes\":{},\"id\":\"3907\",\"type\":\"Selection\"},{\"attributes\":{\"source\":{\"id\":\"3697\"}},\"id\":\"3701\",\"type\":\"CDSView\"},{\"attributes\":{\"use_scientific\":false},\"id\":\"3834\",\"type\":\"BasicTickFormatter\"},{\"attributes\":{\"fill_alpha\":{\"value\":0.1},\"fill_color\":{\"value\":\"white\"},\"line_alpha\":{\"value\":0.1},\"line_color\":{\"value\":\"blue\"},\"size\":{\"units\":\"screen\",\"value\":5},\"x\":{\"field\":\"x\"},\"y\":{\"field\":\"y\"}},\"id\":\"3490\",\"type\":\"Circle\"},{\"attributes\":{\"data\":{\"x\":{\"__ndarray__\":\"AAAA5UcHd0IAAMBKmgd3QgAAgLDsB3dCAABAFj8Id0IAAAB8kQh3QgAAwOHjCHdCAACARzYJd0IAAECtiAl3QgAAABPbCXdCAADAeC0Kd0IAAIDefwp3QgAAQETSCndCAAAAqiQLd0IAAMAPdwt3QgAAgHXJC3dCAABA2xsMd0IAAABBbgx3QgAAwKbADHdCAACADBMNd0IAAEByZQ13QgAAANi3DXdCAADAPQoOd0IAAICjXA53QgAAQAmvDndCAAAAbwEPd0IAAMDUUw93QgAAgDqmD3dCAABAoPgPd0IAAAAGSxB3QgAAwGudEHdCAACA0e8Qd0IAAEA3QhF3QgAAAJ2UEXdCAADAAucRd0IAAIBoORJ3QgAAQM6LEndCAAAANN4Sd0IAAMCZMBN3QgAAgP+CE3dCAABAZdUTd0IAAADLJxR3QgAAwDB6FHdCAACAlswUd0IAAED8HhV3QgAAAGJxFXdCAADAx8MVd0IAAIAtFhZ3QgAAQJNoFndCAAAA+boWd0IAAMBeDRd3QgAAgMRfF3dCAABAKrIXd0IAAACQBBh3QgAAwPVWGHdCAACAW6kYd0IAAEDB+xh3QgAAACdOGXdCAADAjKAZd0IAAIDy8hl3QgAAQFhFGndCAAAAvpcad0IAAMAj6hp3QgAAgIk8G3dCAABA744bd0IAAABV4Rt3QgAAwLozHHdCAACAIIYcd0IAAECG2Bx3QgAAAOwqHXdCAADAUX0dd0IAAIC3zx13QgAAQB0iHndCAAAAg3Qed0IAAMDoxh53QgAAgE4ZH3dCAABAtGsfd0IAAAAavh93QgAAwH8QIHdCAACA5WIgd0IAAEBLtSB3QgAAALEHIXdCAADAFlohd0IAAIB8rCF3QgAAQOL+IXdCAAAASFEid0IAAMCtoyJ3QgAAgBP2IndCAABAeUgjd0IAAADfmiN3QgAAwETtI3dCAACAqj8kd0IAAEAQkiR3QgAAAHbkJHdCAADA2zYld0IAAIBBiSV3QgAAQKfbJXdCAAAADS4md0IAAMBygCZ3QgAAgNjSJndCAABAPiUnd0IAAACkdyd3QgAAwAnKJ3dCAACAbxwod0IAAEDVbih3QgAAADvBKHdCAADAoBMpd0IAAIAGZil3QgAAQGy4KXdCAAAA0goqd0IAAMA3XSp3QgAAgJ2vKndCAABAAwIrd0IAAABpVCt3QgAAwM6mK3dCAACANPkrd0IAAECaSyx3QgAAAACeLHdCAADAZfAsd0IAAIDLQi13QgAAQDGVLXdCAAAAl+ctd0IAAMD8OS53QgAAgGKMLndCAABAyN4ud0IAAAAuMS93QgAAwJODL3dCAACA+dUvd0IAAEBfKDB3QgAAAMV6MHdCAADAKs0wd0IAAICQHzF3QgAAQPZxMXdCAAAAXMQxd0IAAMDBFjJ3QgAAgCdpMndCAABAjbsyd0IAAADzDTN3QgAAwFhgM3dCAACAvrIzd0IAAEAkBTR3QgAAAIpXNHdCAADA76k0d0IAAIBV/DR3QgAAQLtONXdCAAAAIaE1d0IAAMCG8zV3QgAAgOxFNndCAABAUpg2d0IAAAC46jZ3QgAAwB09N3dCAACAg483d0IAAEDp4Td3QgAAAE80OHdCAADAtIY4d0IAAIAa2Th3QgAAQIArOXdCAAAA5n05d0IAAMBL0Dl3QgAAgLEiOndCAABAF3U6d0IAAAB9xzp3QgAAwOIZO3dCAACASGw7d0IAAECuvjt3QgAAABQRPHdCAADAeWM8d0IAAIDftTx3QgAAQEUIPXdCAAAAq1o9d0IAAMAQrT13QgAAgHb/PXdCAABA3FE+d0IAAABCpD53QgAAwKf2PndCAACADUk/d0IAAEBzmz93QgAAANntP3dC\",\"dtype\":\"float64\",\"shape\":[177]},\"y\":{\"__ndarray__\":\"AAAAAAAA+H8AAAAAAAD4fwAAAAAAAPh/AAAAAAAA+H8AAAAAAAD4fwAAAAAAAPh/AAAAAAAA+H8AAAAAAAD4fwAAAAAAAPh/AAAAAAAA+H8AAAAAAAD4fwAAAAAAAPh/AAAAAAAA+H8AAAAAAAAQQAAAAAAAABRAkiRJkiRJGEAAAAAAAAAgQG7btm3btiRA27Zt27ZtLEDbtm3btu0wQG7btm3btjNA27Zt27btN0CSJEmSJMk6QEmSJEmSJD9ASZIkSZLkQUCSJEmSJIlFQCVJkiRJ0kdASZIkSZIkS0C3bdu2bVtNQCVJkiRJElBAbtu2bds2UUC3bdu2bVtSQJIkSZIkCVNAJUmSJEmyU0AlSZIkSbJUQJIkSZIkSVVAbtu2bdtWVkAAAAAAAMBWQLdt27Zt21ZAkiRJkiSJVkCSJEmSJIlWQNu2bdu2DVZAbtu2bdu2VUBu27Zt21ZVQJIkSZIkqVRASZIkSZJkVEDbtm3bti1UQNu2bdu2TVRASZIkSZIEVEC3bdu2bTtTQCVJkiRJ8lJAt23btm3bUkDbtm3btm1SQAAAAAAA4FFASZIkSZKkUUC3bdu2bVtRQG7btm3bVlFASZIkSZJEUUAlSZIkSVJRQEmSJEmSBFFA27Zt27YtUEDbtm3btu1OQLdt27ZtW01ASZIkSZIkTUBJkiRJkmRLQLdt27Zt20lAkiRJkiRJSUBJkiRJkiRIQNu2bdu2LUdAt23btm0bRkBu27Zt2/ZEQNu2bdu27UNAkiRJkiQJQ0AAAAAAAMBBQEmSJEmSpEFASZIkSZIkQUBJkiRJkmRAQEmSJEmSJD9AAAAAAACAPUAlSZIkSRI8QCVJkiRJEjtAAAAAAAAAOkBu27Zt27Y4QEmSJEmSpDdAt23btm3bNkC3bdu2bds0QLdt27ZtWzNAAAAAAACAMkBJkiRJkiQxQNu2bdu2bS9AAAAAAAAALkBu27Zt27YsQJIkSZIkSStA27Zt27ZtKUDbtm3btm0nQG7btm3btiZAAAAAAAAAJUBJkiRJkiQkQG7btm3btiNAt23btm3bI0C3bdu2bdsjQNu2bdu2bSJAJUmSJEmSIkBu27Zt27YhQEmSJEmSJCFAbtu2bdu2H0BJkiRJkiQfQEmSJEmSJB9AAAAAAAAAHEC3bdu2bdsaQJIkSZIkSRpAbtu2bdu2GUBu27Zt27YXQLdt27Zt2xRA27Zt27ZtE0AlSZIkSZISQJIkSZIkSRBAt23btm3bEEAAAAAAAAAQQAAAAAAAABBASZIkSZIkDUCSJEmSJEkOQJIkSZIkSRBAAAAAAAAAEECSJEmSJEkOQAAAAAAAAAxA27Zt27ZtC0BJkiRJkiQNQAAAAAAAAAxAkiRJkiRJCkAlSZIkSZIIQEmSJEmSJAVASZIkSZIkBUC3bdu2bdsCQLdt27Zt2wJA27Zt27Zt+z+3bdu2bdv2P9u2bdu2bfM/27Zt27Zt8z+SJEmSJEnyPwAAAAAAAPA/SZIkSZIk6T8AAAAAAADgP9u2bdu2bds/27Zt27Zt2z8AAAAAAADgP9u2bdu2bds/JUmSJEmS5D+3bdu2bdvmP9u2bdu2bes/27Zt27Zt6z8AAAAAAADwP0mSJEmSJPE/kiRJkiRJ8j+SJEmSJEnyP0mSJEmSJPE/kiRJkiRJ8j8lSZIkSZL0P5IkSZIkSfI/27Zt27Zt8z/btm3btm3zPwAAAAAAAPA/27Zt27Zt6z+3bdu2bdvmP7dt27Zt2+Y/JUmSJEmS5D+3bdu2bdvmP7dt27Zt2+Y/SZIkSZIk6T/btm3btm3rP0mSJEmSJOk/JUmSJEmS5D8lSZIkSZLkP0mSJEmSJCdASZIkSZIkJ0BJkiRJkiQnQJIkSZIkSSdA\",\"dtype\":\"float64\",\"shape\":[177]}},\"selected\":{\"id\":\"3932\"},\"selection_policy\":{\"id\":\"3933\"}},\"id\":\"3799\",\"type\":\"ColumnDataSource\"},{\"attributes\":{\"data_source\":{\"id\":\"3827\"},\"glyph\":{\"id\":\"3828\"},\"hover_glyph\":null,\"muted_glyph\":null,\"nonselection_glyph\":{\"id\":\"3829\"},\"selection_glyph\":null,\"view\":{\"id\":\"3831\"}},\"id\":\"3830\",\"type\":\"GlyphRenderer\"},{\"attributes\":{\"data_source\":{\"id\":\"3799\"},\"glyph\":{\"id\":\"3800\"},\"hover_glyph\":null,\"muted_glyph\":null,\"nonselection_glyph\":{\"id\":\"3801\"},\"selection_glyph\":null,\"view\":{\"id\":\"3803\"}},\"id\":\"3802\",\"type\":\"GlyphRenderer\"},{\"attributes\":{\"data\":{\"x\":{\"__ndarray__\":\"AAAA5UcHd0IAAMBKmgd3QgAAgLDsB3dCAABAFj8Id0IAAAB8kQh3QgAAwOHjCHdCAACARzYJd0IAAECtiAl3QgAAABPbCXdCAADAeC0Kd0IAAIDefwp3QgAAQETSCndCAAAAqiQLd0IAAMAPdwt3QgAAgHXJC3dCAABA2xsMd0IAAABBbgx3QgAAwKbADHdCAACADBMNd0IAAEByZQ13QgAAANi3DXdCAADAPQoOd0IAAICjXA53QgAAQAmvDndCAAAAbwEPd0IAAMDUUw93QgAAgDqmD3dCAABAoPgPd0IAAAAGSxB3QgAAwGudEHdCAACA0e8Qd0IAAEA3QhF3QgAAAJ2UEXdCAADAAucRd0IAAIBoORJ3QgAAQM6LEndCAAAANN4Sd0IAAMCZMBN3QgAAgP+CE3dCAABAZdUTd0IAAADLJxR3QgAAwDB6FHdCAACAlswUd0IAAED8HhV3QgAAAGJxFXdCAADAx8MVd0IAAIAtFhZ3QgAAQJNoFndCAAAA+boWd0IAAMBeDRd3QgAAgMRfF3dCAABAKrIXd0IAAACQBBh3QgAAwPVWGHdCAACAW6kYd0IAAEDB+xh3QgAAACdOGXdCAADAjKAZd0IAAIDy8hl3QgAAQFhFGndCAAAAvpcad0IAAMAj6hp3QgAAgIk8G3dCAABA744bd0IAAABV4Rt3QgAAwLozHHdCAACAIIYcd0IAAECG2Bx3QgAAAOwqHXdCAADAUX0dd0IAAIC3zx13QgAAQB0iHndCAAAAg3Qed0IAAMDoxh53QgAAgE4ZH3dCAABAtGsfd0IAAAAavh93QgAAwH8QIHdCAACA5WIgd0IAAEBLtSB3QgAAALEHIXdCAADAFlohd0IAAIB8rCF3QgAAQOL+IXdCAAAASFEid0IAAMCtoyJ3QgAAgBP2IndCAABAeUgjd0IAAADfmiN3QgAAwETtI3dCAACAqj8kd0IAAEAQkiR3QgAAAHbkJHdCAADA2zYld0IAAIBBiSV3QgAAQKfbJXdCAAAADS4md0IAAMBygCZ3QgAAgNjSJndCAABAPiUnd0IAAACkdyd3QgAAwAnKJ3dCAACAbxwod0IAAEDVbih3QgAAADvBKHdCAADAoBMpd0IAAIAGZil3QgAAQGy4KXdCAAAA0goqd0IAAMA3XSp3QgAAgJ2vKndCAABAAwIrd0IAAABpVCt3QgAAwM6mK3dCAACANPkrd0IAAECaSyx3QgAAAACeLHdCAADAZfAsd0IAAIDLQi13QgAAQDGVLXdCAAAAl+ctd0IAAMD8OS53QgAAgGKMLndCAABAyN4ud0IAAAAuMS93QgAAwJODL3dCAACA+dUvd0IAAEBfKDB3QgAAAMV6MHdCAADAKs0wd0IAAICQHzF3QgAAQPZxMXdCAAAAXMQxd0IAAMDBFjJ3QgAAgCdpMndCAABAjbsyd0IAAADzDTN3QgAAwFhgM3dCAACAvrIzd0IAAEAkBTR3QgAAAIpXNHdCAADA76k0d0IAAIBV/DR3QgAAQLtONXdCAAAAIaE1d0IAAMCG8zV3QgAAgOxFNndCAABAUpg2d0IAAAC46jZ3QgAAwB09N3dCAACAg483d0IAAEDp4Td3QgAAAE80OHdCAADAtIY4d0IAAIAa2Th3QgAAQIArOXdCAAAA5n05d0IAAMBL0Dl3QgAAgLEiOndCAABAF3U6d0IAAAB9xzp3QgAAwOIZO3dCAACASGw7d0IAAECuvjt3QgAAABQRPHdCAADAeWM8d0IAAIDftTx3QgAAQEUIPXdCAAAAq1o9d0IAAMAQrT13QgAAgHb/PXdCAABA3FE+d0IAAABCpD53QgAAwKf2PndCAACADUk/d0IAAEBzmz93QgAAANntP3dC\",\"dtype\":\"float64\",\"shape\":[177]},\"y\":[18,26,46,96,143,213,277,324,398,516,658,816,937,1097,1286,1417,1588,1758,2011,2349,2741,3088,3404,3915,4506,5089,5661,6390,7220,7711,8256,8850,9361,9964,10535,10766,10953,11489,11859,12178,12523,12837,13051,13048,13110,13258,13350,13495,13672,13818,13778,13577,13663,13585,13584,13552,13522,13244,13084,12845,12509,12347,12341,12225,12003,11862,9563,9484,9323,9045,8984,8681,8391,8011,7730,7401,7191,7040,6801,6502,6301,6001,5852,5656,5525,5330,5098,4926,4730,4570,4457,4359,4146,3998,3750,3564,3279,3163,3068,2912,2839,2688,2512,2416,2328,2282,2156,2061,2000,1817,1727,1637,1500,1405,1345,1281,1219,1207,1172,1154,1089,1074,1068,1044,1041,1042,1032,1010,1002,1003,1011,1037,1029,1064,1060,1071,1066,1113,1119,1180,1193,1189,1170,1198,1228,1234,1266,1298,1297,1325,1350,1372,1399,1444,1456,1459,1451,1471,1496,1510,1540,1560,1581,1609,1652,1675,1712,1760,1791,1790,1807,1827,1866,1754,1805,1814,1789]},\"selected\":{\"id\":\"3857\"},\"selection_policy\":{\"id\":\"3858\"}},\"id\":\"3493\",\"type\":\"ColumnDataSource\"},{\"attributes\":{\"fill_alpha\":{\"value\":0.1},\"fill_color\":{\"value\":\"white\"},\"line_alpha\":{\"value\":0.1},\"line_color\":{\"value\":\"lightcoral\"},\"size\":{\"units\":\"screen\",\"value\":5},\"x\":{\"field\":\"x\"},\"y\":{\"field\":\"y\"}},\"id\":\"3727\",\"type\":\"Circle\"},{\"attributes\":{\"line_color\":\"darkviolet\",\"line_width\":4,\"x\":{\"field\":\"x\"},\"y\":{\"field\":\"y\"}},\"id\":\"3566\",\"type\":\"Line\"},{\"attributes\":{\"fill_color\":{\"value\":\"white\"},\"line_color\":{\"value\":\"lightcoral\"},\"size\":{\"units\":\"screen\",\"value\":5},\"x\":{\"field\":\"x\"},\"y\":{\"field\":\"y\"}},\"id\":\"3726\",\"type\":\"Circle\"},{\"attributes\":{\"data_source\":{\"id\":\"3493\"},\"glyph\":{\"id\":\"3494\"},\"hover_glyph\":null,\"muted_glyph\":null,\"nonselection_glyph\":{\"id\":\"3495\"},\"selection_glyph\":null,\"view\":{\"id\":\"3497\"}},\"id\":\"3496\",\"type\":\"GlyphRenderer\"},{\"attributes\":{\"source\":{\"id\":\"3725\"}},\"id\":\"3729\",\"type\":\"CDSView\"},{\"attributes\":{\"source\":{\"id\":\"3799\"}},\"id\":\"3803\",\"type\":\"CDSView\"},{\"attributes\":{},\"id\":\"3722\",\"type\":\"UnionRenderers\"},{\"attributes\":{\"source\":{\"id\":\"3493\"}},\"id\":\"3497\",\"type\":\"CDSView\"},{\"attributes\":{\"use_scientific\":false},\"id\":\"3732\",\"type\":\"BasicTickFormatter\"},{\"attributes\":{\"days\":[\"%d %B\"]},\"id\":\"3730\",\"type\":\"DatetimeTickFormatter\"},{\"attributes\":{\"days\":[\"%d %B\"]},\"id\":\"3832\",\"type\":\"DatetimeTickFormatter\"},{\"attributes\":{\"axis\":{\"id\":\"3441\"},\"ticker\":null},\"id\":\"3444\",\"type\":\"Grid\"},{\"attributes\":{\"data_source\":{\"id\":\"3725\"},\"glyph\":{\"id\":\"3726\"},\"hover_glyph\":null,\"muted_glyph\":null,\"nonselection_glyph\":{\"id\":\"3727\"},\"selection_glyph\":null,\"view\":{\"id\":\"3729\"}},\"id\":\"3728\",\"type\":\"GlyphRenderer\"},{\"attributes\":{},\"id\":\"3821\",\"type\":\"Selection\"},{\"attributes\":{\"callback\":null,\"formatters\":{\"@x\":\"datetime\"},\"mode\":\"vline\",\"tooltips\":[[\"date\",\"@x{%d %B}\"],[\"new_deaths OR SMA 14\",\"@y{0[.]000}\"]]},\"id\":\"3836\",\"type\":\"HoverTool\"},{\"attributes\":{\"text\":\"Deaths & Recovered: Emilia-Romagna\"},\"id\":\"3533\",\"type\":\"Title\"},{\"attributes\":{\"data\":{\"x\":{\"__ndarray__\":\"AAAA5UcHd0IAAMBKmgd3QgAAgLDsB3dCAABAFj8Id0IAAAB8kQh3QgAAwOHjCHdCAACARzYJd0IAAECtiAl3QgAAABPbCXdCAADAeC0Kd0IAAIDefwp3QgAAQETSCndCAAAAqiQLd0IAAMAPdwt3QgAAgHXJC3dCAABA2xsMd0IAAABBbgx3QgAAwKbADHdCAACADBMNd0IAAEByZQ13QgAAANi3DXdCAADAPQoOd0IAAICjXA53QgAAQAmvDndCAAAAbwEPd0IAAMDUUw93QgAAgDqmD3dCAABAoPgPd0IAAAAGSxB3QgAAwGudEHdCAACA0e8Qd0IAAEA3QhF3QgAAAJ2UEXdCAADAAucRd0IAAIBoORJ3QgAAQM6LEndCAAAANN4Sd0IAAMCZMBN3QgAAgP+CE3dCAABAZdUTd0IAAADLJxR3QgAAwDB6FHdCAACAlswUd0IAAED8HhV3QgAAAGJxFXdCAADAx8MVd0IAAIAtFhZ3QgAAQJNoFndCAAAA+boWd0IAAMBeDRd3QgAAgMRfF3dCAABAKrIXd0IAAACQBBh3QgAAwPVWGHdCAACAW6kYd0IAAEDB+xh3QgAAACdOGXdCAADAjKAZd0IAAIDy8hl3QgAAQFhFGndCAAAAvpcad0IAAMAj6hp3QgAAgIk8G3dCAABA744bd0IAAABV4Rt3QgAAwLozHHdCAACAIIYcd0IAAECG2Bx3QgAAAOwqHXdCAADAUX0dd0IAAIC3zx13QgAAQB0iHndCAAAAg3Qed0IAAMDoxh53QgAAgE4ZH3dCAABAtGsfd0IAAAAavh93QgAAwH8QIHdCAACA5WIgd0IAAEBLtSB3QgAAALEHIXdCAADAFlohd0IAAIB8rCF3QgAAQOL+IXdCAAAASFEid0IAAMCtoyJ3QgAAgBP2IndCAABAeUgjd0IAAADfmiN3QgAAwETtI3dCAACAqj8kd0IAAEAQkiR3QgAAAHbkJHdCAADA2zYld0IAAIBBiSV3QgAAQKfbJXdCAAAADS4md0IAAMBygCZ3QgAAgNjSJndCAABAPiUnd0IAAACkdyd3QgAAwAnKJ3dCAACAbxwod0IAAEDVbih3QgAAADvBKHdCAADAoBMpd0IAAIAGZil3QgAAQGy4KXdCAAAA0goqd0IAAMA3XSp3QgAAgJ2vKndCAABAAwIrd0IAAABpVCt3QgAAwM6mK3dCAACANPkrd0IAAECaSyx3QgAAAACeLHdCAADAZfAsd0IAAIDLQi13QgAAQDGVLXdCAAAAl+ctd0IAAMD8OS53QgAAgGKMLndCAABAyN4ud0IAAAAuMS93QgAAwJODL3dCAACA+dUvd0IAAEBfKDB3QgAAAMV6MHdCAADAKs0wd0IAAICQHzF3QgAAQPZxMXdCAAAAXMQxd0IAAMDBFjJ3QgAAgCdpMndCAABAjbsyd0IAAADzDTN3QgAAwFhgM3dCAACAvrIzd0IAAEAkBTR3QgAAAIpXNHdCAADA76k0d0IAAIBV/DR3QgAAQLtONXdCAAAAIaE1d0IAAMCG8zV3QgAAgOxFNndCAABAUpg2d0IAAAC46jZ3QgAAwB09N3dCAACAg483d0IAAEDp4Td3QgAAAE80OHdCAADAtIY4d0IAAIAa2Th3QgAAQIArOXdCAAAA5n05d0IAAMBL0Dl3QgAAgLEiOndCAABAF3U6d0IAAAB9xzp3QgAAwOIZO3dCAACASGw7d0IAAECuvjt3QgAAABQRPHdCAADAeWM8d0IAAIDftTx3QgAAQEUIPXdCAAAAq1o9d0IAAMAQrT13QgAAgHb/PXdCAABA3FE+d0IAAABCpD53QgAAwKf2PndCAACADUk/d0IAAEBzmz93QgAAANntP3dC\",\"dtype\":\"float64\",\"shape\":[177]},\"y\":{\"__ndarray__\":\"AAAAAAAA+H8AAAAAAAD4fwAAAAAAAPh/AAAAAAAA+H8AAAAAAAD4fwAAAAAAAPh/AAAAAAAA+H8AAAAAAAD4fwAAAAAAAPh/AAAAAAAA+H8AAAAAAAD4fwAAAAAAAPh/AAAAAAAA+H8lSZIkSRJVQNu2bdu2bVhAkiRJkiTpWkBu27Zt2zZeQEmSJEmShGBAkiRJkiTpYkC3bdu2batlQCVJkiRJEmlASZIkSZJ0bECSJEmSJFlvQNu2bdu2xXFAkiRJkiQpdEAlSZIkScJ2QEmSJEmSbHlA27Zt27Z1fEAlSZIkSep/QAAAAAAAPIFAt23btm2PgkAAAAAAAMyDQEmSJEmS0IRAkiRJkiS9hUCSJEmSJGGGQLdt27ZtV4ZAAAAAAACkhkAAAAAAAOiGQCVJkiRJloZA27Zt27Y9hkAAAAAAAPSFQAAAAAAASIVAbtu2bdsihEDbtm3btiGDQCVJkiRJQoJAAAAAAACMgUBJkiRJktSAQAAAAAAAMIBAAAAAAAAof0AAAAAAANh+QAAAAAAA0H1A27Zt27bde0AAAAAAAHh7QJIkSZIkWXpAJUmSJEkyeUBJkiRJkmx4QNu2bdu2tXdAt23btm2Dd0Bu27Zt2zZ3QG7btm3bhnZA27Zt27addUC3bdu2bWt0QNu2bdu2bXNAkiRJkiTZckBJkiRJkpRyQEmSJEmShHJAJUmSJEmicUAlSZIkSQJxQNu2bdu2XXBAt23btm3bbkCSJEmSJIltQLdt27Zta2xAt23btm1LakDbtm3btq1oQG7btm3bdmdAkiRJkiRpZkAlSZIkSfJkQEmSJEmSxGNA27Zt27b9YUBu27Zt2xZgQNu2bdu27VxA27Zt27YtWkCSJEmSJMlXQG7btm3btlVAAAAAAACAU0Dbtm3bto1SQG7btm3bllFAt23btm2bUEBJkiRJkiRPQLdt27ZtW0xAbtu2bds2S0BJkiRJkmRJQLdt27ZtW0hASZIkSZIkR0CSJEmSJAlHQG7btm3bdkZAt23btm2bREDbtm3btu1DQLdt27ZtW0NAt23btm1bQkAlSZIkSRJBQEmSJEmSpD9AJUmSJEkSPUBu27Zt2zY7QAAAAAAAADlAt23btm1bOEDbtm3btu03QAAAAAAAgDhAAAAAAAAANUBJkiRJkqQ0QG7btm3bNjVAbtu2bds2NEBJkiRJkqQzQG7btm3bNjNAbtu2bds2M0Bu27Zt2zY0QNu2bdu27TRAbtu2bdu2NUC3bdu2bVs2QAAAAAAAgDZA27Zt27ZtNkC3bdu2bds3QNu2bdu2bTlAt23btm1bOkC3bdu2bVs7QEmSJEmSpDtAAAAAAAAAPEAAAAAAAIA8QEmSJEmSpDxAkiRJkiRJPECSJEmSJEk8QNu2bdu27T1AAAAAAAAAPkBJkiRJkiQ/QCVJkiRJEkBAAAAAAABAQEBu27Zt2zY/QG7btm3btj9AkiRJkiQJQEAlSZIkSdJBQEmSJEmS5EFASZIkSZKkQUBu27Zt27ZBQEmSJEmSZEJAt23btm1bQ0Bu27Zt2/ZCQNu2bdu27UNAJUmSJEkSREC3bdu2bZtDQEmSJEmS5ENAJUmSJEnSREDbtm3bti1FQAAAAAAAQEVASZIkSZLkREDbtm3btm1FQNu2bdu2rUVAkiRJkiQJRkBJkiRJkqRFQAAAAAAAAEVAJUmSJEmSRUAAAAAAAIBFQG7btm3bNkVAJUmSJEkSRkBu27Zt27ZFQCVJkiRJ0kVAAAAAAACARUAlSZIkSVJFQLdt27Ztm0VAJUmSJEnSRUCSJEmSJMlFQAAAAAAAQEZAJUmSJElSRkAlSZIkSRJHQLdt27Ztm0dA27Zt27atR0Dbtm3btu1HQNu2bdu2LUdA\",\"dtype\":\"float64\",\"shape\":[177]}},\"selected\":{\"id\":\"3909\"},\"selection_policy\":{\"id\":\"3910\"}},\"id\":\"3725\",\"type\":\"ColumnDataSource\"},{\"attributes\":{\"days\":[\"%d %B\"]},\"id\":\"3526\",\"type\":\"DatetimeTickFormatter\"},{\"attributes\":{\"line_alpha\":0.1,\"line_color\":\"lightgreen\",\"line_width\":4,\"x\":{\"field\":\"x\"},\"y\":{\"field\":\"y\"}},\"id\":\"3801\",\"type\":\"Line\"},{\"attributes\":{\"label\":{\"value\":\"SMA 14 days\"},\"renderers\":[{\"id\":\"3802\"}]},\"id\":\"3826\",\"type\":\"LegendItem\"},{\"attributes\":{\"bottom_units\":\"screen\",\"fill_alpha\":0.5,\"fill_color\":\"lightgrey\",\"left_units\":\"screen\",\"level\":\"overlay\",\"line_alpha\":1.0,\"line_color\":\"black\",\"line_dash\":[4,4],\"line_width\":2,\"render_mode\":\"css\",\"right_units\":\"screen\",\"top_units\":\"screen\"},\"id\":\"3761\",\"type\":\"BoxAnnotation\"},{\"attributes\":{\"line_alpha\":0.1,\"line_color\":\"red\",\"line_width\":4,\"x\":{\"field\":\"x\"},\"y\":{\"field\":\"y\"}},\"id\":\"3495\",\"type\":\"Line\"},{\"attributes\":{\"callback\":null,\"formatters\":{\"@x\":\"datetime\"},\"mode\":\"vline\",\"tooltips\":[[\"date\",\"@x{%d %B}\"],[\"total cases OR total positive\",\"@y{0[.]000}\"]]},\"id\":\"3530\",\"type\":\"HoverTool\"},{\"attributes\":{\"source\":{\"id\":\"3827\"}},\"id\":\"3831\",\"type\":\"CDSView\"},{\"attributes\":{\"data\":{\"x\":{\"__ndarray__\":\"AAAA5UcHd0IAAMBKmgd3QgAAgLDsB3dCAABAFj8Id0IAAAB8kQh3QgAAwOHjCHdCAACARzYJd0IAAECtiAl3QgAAABPbCXdCAADAeC0Kd0IAAIDefwp3QgAAQETSCndCAAAAqiQLd0IAAMAPdwt3QgAAgHXJC3dCAABA2xsMd0IAAABBbgx3QgAAwKbADHdCAACADBMNd0IAAEByZQ13QgAAANi3DXdCAADAPQoOd0IAAICjXA53QgAAQAmvDndCAAAAbwEPd0IAAMDUUw93QgAAgDqmD3dCAABAoPgPd0IAAAAGSxB3QgAAwGudEHdCAACA0e8Qd0IAAEA3QhF3QgAAAJ2UEXdCAADAAucRd0IAAIBoORJ3QgAAQM6LEndCAAAANN4Sd0IAAMCZMBN3QgAAgP+CE3dCAABAZdUTd0IAAADLJxR3QgAAwDB6FHdCAACAlswUd0IAAED8HhV3QgAAAGJxFXdCAADAx8MVd0IAAIAtFhZ3QgAAQJNoFndCAAAA+boWd0IAAMBeDRd3QgAAgMRfF3dCAABAKrIXd0IAAACQBBh3QgAAwPVWGHdCAACAW6kYd0IAAEDB+xh3QgAAACdOGXdCAADAjKAZd0IAAIDy8hl3QgAAQFhFGndCAAAAvpcad0IAAMAj6hp3QgAAgIk8G3dCAABA744bd0IAAABV4Rt3QgAAwLozHHdCAACAIIYcd0IAAECG2Bx3QgAAAOwqHXdCAADAUX0dd0IAAIC3zx13QgAAQB0iHndCAAAAg3Qed0IAAMDoxh53QgAAgE4ZH3dCAABAtGsfd0IAAAAavh93QgAAwH8QIHdCAACA5WIgd0IAAEBLtSB3QgAAALEHIXdCAADAFlohd0IAAIB8rCF3QgAAQOL+IXdCAAAASFEid0IAAMCtoyJ3QgAAgBP2IndCAABAeUgjd0IAAADfmiN3QgAAwETtI3dCAACAqj8kd0IAAEAQkiR3QgAAAHbkJHdCAADA2zYld0IAAIBBiSV3QgAAQKfbJXdCAAAADS4md0IAAMBygCZ3QgAAgNjSJndCAABAPiUnd0IAAACkdyd3QgAAwAnKJ3dCAACAbxwod0IAAEDVbih3QgAAADvBKHdCAADAoBMpd0IAAIAGZil3QgAAQGy4KXdCAAAA0goqd0IAAMA3XSp3QgAAgJ2vKndCAABAAwIrd0IAAABpVCt3QgAAwM6mK3dCAACANPkrd0IAAECaSyx3QgAAAACeLHdCAADAZfAsd0IAAIDLQi13QgAAQDGVLXdCAAAAl+ctd0IAAMD8OS53QgAAgGKMLndCAABAyN4ud0IAAAAuMS93QgAAwJODL3dCAACA+dUvd0IAAEBfKDB3QgAAAMV6MHdCAADAKs0wd0IAAICQHzF3QgAAQPZxMXdCAAAAXMQxd0IAAMDBFjJ3QgAAgCdpMndCAABAjbsyd0IAAADzDTN3QgAAwFhgM3dCAACAvrIzd0IAAEAkBTR3QgAAAIpXNHdCAADA76k0d0IAAIBV/DR3QgAAQLtONXdCAAAAIaE1d0IAAMCG8zV3QgAAgOxFNndCAABAUpg2d0IAAAC46jZ3QgAAwB09N3dCAACAg483d0IAAEDp4Td3QgAAAE80OHdCAADAtIY4d0IAAIAa2Th3QgAAQIArOXdCAAAA5n05d0IAAMBL0Dl3QgAAgLEiOndCAABAF3U6d0IAAAB9xzp3QgAAwOIZO3dCAACASGw7d0IAAECuvjt3QgAAABQRPHdCAADAeWM8d0IAAIDftTx3QgAAQEUIPXdCAAAAq1o9d0IAAMAQrT13QgAAgHb/PXdCAABA3FE+d0IAAABCpD53QgAAwKf2PndCAACADUk/d0IAAEBzmz93QgAAANntP3dC\",\"dtype\":\"float64\",\"shape\":[177]},\"y\":{\"__ndarray__\":\"AAAAAAAA+H8AAAAAAAD4fwAAAAAAAPh/AAAAAAAA+H8AAAAAAAD4fwAAAAAAAPh/AAAAAAAA+H8AAAAAAAD4fwAAAAAAAPh/AAAAAAAA+H8AAAAAAAD4fwAAAAAAAPh/AAAAAAAA+H8AAAAAAAAQQAAAAAAAABRAkiRJkiRJGEAAAAAAAAAgQG7btm3btiRA27Zt27ZtLEDbtm3btu0wQG7btm3btjNA27Zt27btN0CSJEmSJMk6QEmSJEmSJD9ASZIkSZLkQUCSJEmSJIlFQCVJkiRJ0kdASZIkSZIkS0C3bdu2bVtNQCVJkiRJElBAbtu2bds2UUC3bdu2bVtSQJIkSZIkCVNAJUmSJEmyU0AlSZIkSbJUQJIkSZIkSVVAbtu2bdtWVkAAAAAAAMBWQLdt27Zt21ZAkiRJkiSJVkCSJEmSJIlWQNu2bdu2DVZAbtu2bdu2VUBu27Zt21ZVQJIkSZIkqVRASZIkSZJkVEDbtm3bti1UQNu2bdu2TVRASZIkSZIEVEC3bdu2bTtTQCVJkiRJ8lJAt23btm3bUkDbtm3btm1SQAAAAAAA4FFASZIkSZKkUUC3bdu2bVtRQG7btm3bVlFASZIkSZJEUUAlSZIkSVJRQEmSJEmSBFFA27Zt27YtUEDbtm3btu1OQLdt27ZtW01ASZIkSZIkTUBJkiRJkmRLQLdt27Zt20lAkiRJkiRJSUBJkiRJkiRIQNu2bdu2LUdAt23btm0bRkBu27Zt2/ZEQNu2bdu27UNAkiRJkiQJQ0AAAAAAAMBBQEmSJEmSpEFASZIkSZIkQUBJkiRJkmRAQEmSJEmSJD9AAAAAAACAPUAlSZIkSRI8QCVJkiRJEjtAAAAAAAAAOkBu27Zt27Y4QEmSJEmSpDdAt23btm3bNkC3bdu2bds0QLdt27ZtWzNAAAAAAACAMkBJkiRJkiQxQNu2bdu2bS9AAAAAAAAALkBu27Zt27YsQJIkSZIkSStA27Zt27ZtKUDbtm3btm0nQG7btm3btiZAAAAAAAAAJUBJkiRJkiQkQG7btm3btiNAt23btm3bI0C3bdu2bdsjQNu2bdu2bSJAJUmSJEmSIkBu27Zt27YhQEmSJEmSJCFAbtu2bdu2H0BJkiRJkiQfQEmSJEmSJB9AAAAAAAAAHEC3bdu2bdsaQJIkSZIkSRpAbtu2bdu2GUBu27Zt27YXQLdt27Zt2xRA27Zt27ZtE0AlSZIkSZISQJIkSZIkSRBAt23btm3bEEAAAAAAAAAQQAAAAAAAABBASZIkSZIkDUCSJEmSJEkOQJIkSZIkSRBAAAAAAAAAEECSJEmSJEkOQAAAAAAAAAxA27Zt27ZtC0BJkiRJkiQNQAAAAAAAAAxAkiRJkiRJCkAlSZIkSZIIQEmSJEmSJAVASZIkSZIkBUC3bdu2bdsCQLdt27Zt2wJA27Zt27Zt+z+3bdu2bdv2P9u2bdu2bfM/27Zt27Zt8z+SJEmSJEnyPwAAAAAAAPA/SZIkSZIk6T8AAAAAAADgP9u2bdu2bds/27Zt27Zt2z8AAAAAAADgP9u2bdu2bds/JUmSJEmS5D+3bdu2bdvmP9u2bdu2bes/27Zt27Zt6z8AAAAAAADwP0mSJEmSJPE/kiRJkiRJ8j+SJEmSJEnyP0mSJEmSJPE/kiRJkiRJ8j8lSZIkSZL0P5IkSZIkSfI/27Zt27Zt8z/btm3btm3zPwAAAAAAAPA/27Zt27Zt6z+3bdu2bdvmP7dt27Zt2+Y/JUmSJEmS5D+3bdu2bdvmP7dt27Zt2+Y/SZIkSZIk6T/btm3btm3rP0mSJEmSJOk/JUmSJEmS5D8lSZIkSZLkP0mSJEmSJCdASZIkSZIkJ0BJkiRJkiQnQJIkSZIkSSdA\",\"dtype\":\"float64\",\"shape\":[177]}},\"selected\":{\"id\":\"3934\"},\"selection_policy\":{\"id\":\"3935\"}},\"id\":\"3827\",\"type\":\"ColumnDataSource\"},{\"attributes\":{},\"id\":\"3823\",\"type\":\"Selection\"},{\"attributes\":{\"text\":\"New Deaths: Emilia-Romagna\"},\"id\":\"3737\",\"type\":\"Title\"},{\"attributes\":{\"source\":{\"id\":\"3521\"}},\"id\":\"3525\",\"type\":\"CDSView\"},{\"attributes\":{},\"id\":\"3822\",\"type\":\"UnionRenderers\"},{\"attributes\":{\"below\":[{\"id\":\"3645\"}],\"center\":[{\"id\":\"3648\"},{\"id\":\"3652\"},{\"id\":\"3690\"}],\"left\":[{\"id\":\"3649\"}],\"plot_height\":350,\"plot_width\":470,\"renderers\":[{\"id\":\"3670\"},{\"id\":\"3695\"},{\"id\":\"3700\"},{\"id\":\"3728\"}],\"title\":{\"id\":\"3635\"},\"toolbar\":{\"id\":\"3660\"},\"toolbar_location\":null,\"x_range\":{\"id\":\"3637\"},\"x_scale\":{\"id\":\"3641\"},\"y_range\":{\"id\":\"3639\"},\"y_scale\":{\"id\":\"3643\"}},\"id\":\"3634\",\"subtype\":\"Figure\",\"type\":\"Plot\"},{\"attributes\":{\"callback\":null,\"formatters\":{\"@x\":\"datetime\"},\"mode\":\"vline\",\"tooltips\":[[\"date\",\"@x{%d %B}\"],[\"new_positive OR SMA 14\",\"@y{0[.]000}\"]]},\"id\":\"3734\",\"type\":\"HoverTool\"},{\"attributes\":{\"items\":[{\"id\":\"3793\"},{\"id\":\"3826\"}],\"location\":\"top_left\"},\"id\":\"3792\",\"type\":\"Legend\"},{\"attributes\":{\"use_scientific\":false},\"id\":\"3528\",\"type\":\"BasicTickFormatter\"},{\"attributes\":{\"line_alpha\":0.1,\"line_color\":\"darkviolet\",\"line_width\":4,\"x\":{\"field\":\"x\"},\"y\":{\"field\":\"y\"}},\"id\":\"3771\",\"type\":\"Line\"},{\"attributes\":{},\"id\":\"3824\",\"type\":\"UnionRenderers\"},{\"attributes\":{\"label\":{\"value\":\"new deaths\"},\"renderers\":[{\"id\":\"3772\"}]},\"id\":\"3793\",\"type\":\"LegendItem\"},{\"attributes\":{\"line_color\":\"darkviolet\",\"line_width\":4,\"x\":{\"field\":\"x\"},\"y\":{\"field\":\"y\"}},\"id\":\"3770\",\"type\":\"Line\"},{\"attributes\":{\"fill_color\":{\"value\":\"white\"},\"line_color\":{\"value\":\"lightgreen\"},\"size\":{\"units\":\"screen\",\"value\":5},\"x\":{\"field\":\"x\"},\"y\":{\"field\":\"y\"}},\"id\":\"3828\",\"type\":\"Circle\"},{\"attributes\":{},\"id\":\"3535\",\"type\":\"DataRange1d\"},{\"attributes\":{\"fill_alpha\":{\"value\":0.1},\"fill_color\":{\"value\":\"white\"},\"line_alpha\":{\"value\":0.1},\"line_color\":{\"value\":\"lightgreen\"},\"size\":{\"units\":\"screen\",\"value\":5},\"x\":{\"field\":\"x\"},\"y\":{\"field\":\"y\"}},\"id\":\"3829\",\"type\":\"Circle\"},{\"attributes\":{\"mantissas\":[1,2,5],\"max_interval\":500.0,\"num_minor_ticks\":0},\"id\":\"3779\",\"type\":\"AdaptiveTicker\"},{\"attributes\":{},\"id\":\"3637\",\"type\":\"DataRange1d\"},{\"attributes\":{},\"id\":\"3537\",\"type\":\"DataRange1d\"},{\"attributes\":{},\"id\":\"3539\",\"type\":\"LinearScale\"},{\"attributes\":{},\"id\":\"3639\",\"type\":\"DataRange1d\"},{\"attributes\":{\"base\":24,\"mantissas\":[1,2,4,6,8,12],\"max_interval\":43200000.0,\"min_interval\":3600000.0,\"num_minor_ticks\":0},\"id\":\"3577\",\"type\":\"AdaptiveTicker\"},{\"attributes\":{\"below\":[{\"id\":\"3543\"}],\"center\":[{\"id\":\"3546\"},{\"id\":\"3550\"},{\"id\":\"3588\"}],\"left\":[{\"id\":\"3547\"}],\"plot_height\":350,\"plot_width\":470,\"renderers\":[{\"id\":\"3568\"},{\"id\":\"3593\"},{\"id\":\"3598\"},{\"id\":\"3626\"}],\"title\":{\"id\":\"3533\"},\"toolbar\":{\"id\":\"3558\"},\"toolbar_location\":null,\"x_range\":{\"id\":\"3535\"},\"x_scale\":{\"id\":\"3539\"},\"y_range\":{\"id\":\"3537\"},\"y_scale\":{\"id\":\"3541\"}},\"id\":\"3532\",\"subtype\":\"Figure\",\"type\":\"Plot\"},{\"attributes\":{\"base\":60,\"mantissas\":[1,2,5,10,15,20,30],\"max_interval\":1800000.0,\"min_interval\":1000.0,\"num_minor_ticks\":0},\"id\":\"3576\",\"type\":\"AdaptiveTicker\"},{\"attributes\":{\"below\":[{\"id\":\"3441\"}],\"center\":[{\"id\":\"3444\"},{\"id\":\"3448\"},{\"id\":\"3486\"}],\"left\":[{\"id\":\"3445\"}],\"plot_height\":350,\"plot_width\":470,\"renderers\":[{\"id\":\"3466\"},{\"id\":\"3491\"},{\"id\":\"3496\"},{\"id\":\"3524\"}],\"title\":{\"id\":\"3431\"},\"toolbar\":{\"id\":\"3456\"},\"toolbar_location\":null,\"x_range\":{\"id\":\"3433\"},\"x_scale\":{\"id\":\"3437\"},\"y_range\":{\"id\":\"3435\"},\"y_scale\":{\"id\":\"3439\"}},\"id\":\"3430\",\"subtype\":\"Figure\",\"type\":\"Plot\"},{\"attributes\":{},\"id\":\"3541\",\"type\":\"LinearScale\"},{\"attributes\":{},\"id\":\"3641\",\"type\":\"LinearScale\"},{\"attributes\":{\"axis_label\":\"Date\",\"formatter\":{\"id\":\"3628\"},\"major_label_orientation\":0.7853981633974483,\"minor_tick_in\":-5,\"minor_tick_out\":-3,\"ticker\":{\"id\":\"3544\"}},\"id\":\"3543\",\"type\":\"DatetimeAxis\"},{\"attributes\":{},\"id\":\"3643\",\"type\":\"LinearScale\"},{\"attributes\":{\"source\":{\"id\":\"3463\"}},\"id\":\"3467\",\"type\":\"CDSView\"},{\"attributes\":{\"text\":\"Total Cases & Total Positive: Emilia-Romagna\"},\"id\":\"3431\",\"type\":\"Title\"},{\"attributes\":{},\"id\":\"3548\",\"type\":\"BasicTicker\"},{\"attributes\":{\"days\":[1,2,3,4,5,6,7,8,9,10,11,12,13,14,15,16,17,18,19,20,21,22,23,24,25,26,27,28,29,30,31]},\"id\":\"3578\",\"type\":\"DaysTicker\"},{\"attributes\":{\"axis_label\":\"Date\",\"formatter\":{\"id\":\"3730\"},\"major_label_orientation\":0.7853981633974483,\"minor_tick_in\":-5,\"minor_tick_out\":-3,\"ticker\":{\"id\":\"3646\"}},\"id\":\"3645\",\"type\":\"DatetimeAxis\"},{\"attributes\":{\"num_minor_ticks\":5,\"tickers\":[{\"id\":\"3575\"},{\"id\":\"3576\"},{\"id\":\"3577\"},{\"id\":\"3578\"},{\"id\":\"3579\"},{\"id\":\"3580\"},{\"id\":\"3581\"},{\"id\":\"3582\"},{\"id\":\"3583\"},{\"id\":\"3584\"},{\"id\":\"3585\"},{\"id\":\"3586\"}]},\"id\":\"3544\",\"type\":\"DatetimeTicker\"},{\"attributes\":{},\"id\":\"3433\",\"type\":\"DataRange1d\"},{\"attributes\":{},\"id\":\"3650\",\"type\":\"BasicTicker\"},{\"attributes\":{\"days\":[1,4,7,10,13,16,19,22,25,28]},\"id\":\"3579\",\"type\":\"DaysTicker\"},{\"attributes\":{\"axis\":{\"id\":\"3543\"},\"ticker\":null},\"id\":\"3546\",\"type\":\"Grid\"},{\"attributes\":{\"num_minor_ticks\":5,\"tickers\":[{\"id\":\"3677\"},{\"id\":\"3678\"},{\"id\":\"3679\"},{\"id\":\"3680\"},{\"id\":\"3681\"},{\"id\":\"3682\"},{\"id\":\"3683\"},{\"id\":\"3684\"},{\"id\":\"3685\"},{\"id\":\"3686\"},{\"id\":\"3687\"},{\"id\":\"3688\"}]},\"id\":\"3646\",\"type\":\"DatetimeTicker\"},{\"attributes\":{},\"id\":\"3908\",\"type\":\"UnionRenderers\"},{\"attributes\":{\"days\":[1,8,15,22]},\"id\":\"3580\",\"type\":\"DaysTicker\"},{\"attributes\":{\"axis\":{\"id\":\"3547\"},\"dimension\":1,\"ticker\":null},\"id\":\"3550\",\"type\":\"Grid\"},{\"attributes\":{\"axis\":{\"id\":\"3645\"},\"ticker\":null},\"id\":\"3648\",\"type\":\"Grid\"},{\"attributes\":{},\"id\":\"3439\",\"type\":\"LinearScale\"},{\"attributes\":{\"axis_label\":\"Deaths & Recovered\",\"formatter\":{\"id\":\"3630\"},\"minor_tick_in\":-5,\"minor_tick_out\":-3,\"ticker\":{\"id\":\"3548\"}},\"id\":\"3547\",\"type\":\"LinearAxis\"},{\"attributes\":{\"days\":[1,15]},\"id\":\"3581\",\"type\":\"DaysTicker\"},{\"attributes\":{},\"id\":\"3933\",\"type\":\"UnionRenderers\"},{\"attributes\":{},\"id\":\"3435\",\"type\":\"DataRange1d\"},{\"attributes\":{\"axis\":{\"id\":\"3649\"},\"dimension\":1,\"ticker\":null},\"id\":\"3652\",\"type\":\"Grid\"},{\"attributes\":{\"axis_label\":\"New Positive\",\"formatter\":{\"id\":\"3732\"},\"minor_tick_in\":-5,\"minor_tick_out\":-3,\"ticker\":{\"id\":\"3650\"}},\"id\":\"3649\",\"type\":\"LinearAxis\"},{\"attributes\":{\"months\":[0,1,2,3,4,5,6,7,8,9,10,11]},\"id\":\"3582\",\"type\":\"MonthsTicker\"},{\"attributes\":{},\"id\":\"3719\",\"type\":\"Selection\"},{\"attributes\":{},\"id\":\"3449\",\"type\":\"PanTool\"},{\"attributes\":{\"num_minor_ticks\":5,\"tickers\":[{\"id\":\"3473\"},{\"id\":\"3474\"},{\"id\":\"3475\"},{\"id\":\"3476\"},{\"id\":\"3477\"},{\"id\":\"3478\"},{\"id\":\"3479\"},{\"id\":\"3480\"},{\"id\":\"3481\"},{\"id\":\"3482\"},{\"id\":\"3483\"},{\"id\":\"3484\"}]},\"id\":\"3442\",\"type\":\"DatetimeTicker\"},{\"attributes\":{},\"id\":\"3437\",\"type\":\"LinearScale\"},{\"attributes\":{\"data_source\":{\"id\":\"3463\"},\"glyph\":{\"id\":\"3464\"},\"hover_glyph\":null,\"muted_glyph\":null,\"nonselection_glyph\":{\"id\":\"3465\"},\"selection_glyph\":null,\"view\":{\"id\":\"3467\"}},\"id\":\"3466\",\"type\":\"GlyphRenderer\"},{\"attributes\":{\"source\":{\"id\":\"3667\"}},\"id\":\"3671\",\"type\":\"CDSView\"},{\"attributes\":{\"months\":[0,2,4,6,8,10]},\"id\":\"3583\",\"type\":\"MonthsTicker\"},{\"attributes\":{\"data_source\":{\"id\":\"3565\"},\"glyph\":{\"id\":\"3566\"},\"hover_glyph\":null,\"muted_glyph\":null,\"nonselection_glyph\":{\"id\":\"3567\"},\"selection_glyph\":null,\"view\":{\"id\":\"3569\"}},\"id\":\"3568\",\"type\":\"GlyphRenderer\"},{\"attributes\":{\"active_drag\":\"auto\",\"active_inspect\":\"auto\",\"active_multi\":null,\"active_scroll\":\"auto\",\"active_tap\":\"auto\",\"tools\":[{\"id\":\"3449\"},{\"id\":\"3450\"},{\"id\":\"3451\"},{\"id\":\"3452\"},{\"id\":\"3453\"},{\"id\":\"3454\"},{\"id\":\"3530\"}]},\"id\":\"3456\",\"type\":\"Toolbar\"},{\"attributes\":{\"active_drag\":\"auto\",\"active_inspect\":\"auto\",\"active_multi\":null,\"active_scroll\":\"auto\",\"active_tap\":\"auto\",\"tools\":[{\"id\":\"3551\"},{\"id\":\"3552\"},{\"id\":\"3553\"},{\"id\":\"3554\"},{\"id\":\"3555\"},{\"id\":\"3556\"},{\"id\":\"3632\"}]},\"id\":\"3558\",\"type\":\"Toolbar\"},{\"attributes\":{\"months\":[0,4,8]},\"id\":\"3584\",\"type\":\"MonthsTicker\"},{\"attributes\":{\"data_source\":{\"id\":\"3667\"},\"glyph\":{\"id\":\"3668\"},\"hover_glyph\":null,\"muted_glyph\":null,\"nonselection_glyph\":{\"id\":\"3669\"},\"selection_glyph\":null,\"view\":{\"id\":\"3671\"}},\"id\":\"3670\",\"type\":\"GlyphRenderer\"},{\"attributes\":{\"data\":{\"x\":{\"__ndarray__\":\"AAAA5UcHd0IAAMBKmgd3QgAAgLDsB3dCAABAFj8Id0IAAAB8kQh3QgAAwOHjCHdCAACARzYJd0IAAECtiAl3QgAAABPbCXdCAADAeC0Kd0IAAIDefwp3QgAAQETSCndCAAAAqiQLd0IAAMAPdwt3QgAAgHXJC3dCAABA2xsMd0IAAABBbgx3QgAAwKbADHdCAACADBMNd0IAAEByZQ13QgAAANi3DXdCAADAPQoOd0IAAICjXA53QgAAQAmvDndCAAAAbwEPd0IAAMDUUw93QgAAgDqmD3dCAABAoPgPd0IAAAAGSxB3QgAAwGudEHdCAACA0e8Qd0IAAEA3QhF3QgAAAJ2UEXdCAADAAucRd0IAAIBoORJ3QgAAQM6LEndCAAAANN4Sd0IAAMCZMBN3QgAAgP+CE3dCAABAZdUTd0IAAADLJxR3QgAAwDB6FHdCAACAlswUd0IAAED8HhV3QgAAAGJxFXdCAADAx8MVd0IAAIAtFhZ3QgAAQJNoFndCAAAA+boWd0IAAMBeDRd3QgAAgMRfF3dCAABAKrIXd0IAAACQBBh3QgAAwPVWGHdCAACAW6kYd0IAAEDB+xh3QgAAACdOGXdCAADAjKAZd0IAAIDy8hl3QgAAQFhFGndCAAAAvpcad0IAAMAj6hp3QgAAgIk8G3dCAABA744bd0IAAABV4Rt3QgAAwLozHHdCAACAIIYcd0IAAECG2Bx3QgAAAOwqHXdCAADAUX0dd0IAAIC3zx13QgAAQB0iHndCAAAAg3Qed0IAAMDoxh53QgAAgE4ZH3dCAABAtGsfd0IAAAAavh93QgAAwH8QIHdCAACA5WIgd0IAAEBLtSB3QgAAALEHIXdCAADAFlohd0IAAIB8rCF3QgAAQOL+IXdCAAAASFEid0IAAMCtoyJ3QgAAgBP2IndCAABAeUgjd0IAAADfmiN3QgAAwETtI3dCAACAqj8kd0IAAEAQkiR3QgAAAHbkJHdCAADA2zYld0IAAIBBiSV3QgAAQKfbJXdCAAAADS4md0IAAMBygCZ3QgAAgNjSJndCAABAPiUnd0IAAACkdyd3QgAAwAnKJ3dCAACAbxwod0IAAEDVbih3QgAAADvBKHdCAADAoBMpd0IAAIAGZil3QgAAQGy4KXdCAAAA0goqd0IAAMA3XSp3QgAAgJ2vKndCAABAAwIrd0IAAABpVCt3QgAAwM6mK3dCAACANPkrd0IAAECaSyx3QgAAAACeLHdCAADAZfAsd0IAAIDLQi13QgAAQDGVLXdCAAAAl+ctd0IAAMD8OS53QgAAgGKMLndCAABAyN4ud0IAAAAuMS93QgAAwJODL3dCAACA+dUvd0IAAEBfKDB3QgAAAMV6MHdCAADAKs0wd0IAAICQHzF3QgAAQPZxMXdCAAAAXMQxd0IAAMDBFjJ3QgAAgCdpMndCAABAjbsyd0IAAADzDTN3QgAAwFhgM3dCAACAvrIzd0IAAEAkBTR3QgAAAIpXNHdCAADA76k0d0IAAIBV/DR3QgAAQLtONXdCAAAAIaE1d0IAAMCG8zV3QgAAgOxFNndCAABAUpg2d0IAAAC46jZ3QgAAwB09N3dCAACAg483d0IAAEDp4Td3QgAAAE80OHdCAADAtIY4d0IAAIAa2Th3QgAAQIArOXdCAAAA5n05d0IAAMBL0Dl3QgAAgLEiOndCAABAF3U6d0IAAAB9xzp3QgAAwOIZO3dCAACASGw7d0IAAECuvjt3QgAAABQRPHdCAADAeWM8d0IAAIDftTx3QgAAQEUIPXdCAAAAq1o9d0IAAMAQrT13QgAAgHb/PXdCAABA3FE+d0IAAABCpD53QgAAwKf2PndCAACADUk/d0IAAEBzmz93QgAAANntP3dC\",\"dtype\":\"float64\",\"shape\":[177]},\"y\":[0,0,1,1,2,4,8,11,18,22,30,37,48,56,70,85,113,146,201,241,284,346,393,458,531,640,715,816,892,985,1077,1174,1267,1344,1443,1538,1644,1732,1811,1902,1977,2051,2108,2180,2234,2316,2397,2481,2564,2615,2705,2788,2843,2903,2965,3023,3079,3147,3204,3269,3303,3347,3386,3431,3472,3512,3551,3579,3614,3642,3666,3705,3737,3766,3797,3827,3845,3867,3885,3905,3930,3943,3960,3973,3986,3997,4008,4025,4037,4047,4055,4068,4076,4083,4094,4102,4107,4114,4124,4136,4147,4154,4167,4171,4175,4179,4185,4192,4192,4196,4199,4204,4207,4209,4215,4219,4224,4230,4231,4235,4236,4245,4249,4252,4252,4253,4255,4260,4264,4265,4267,4267,4268,4268,4269,4269,4269,4269,4269,4269,4269,4271,4271,4271,4273,4274,4274,4277,4279,4281,4281,4283,4284,4285,4285,4286,4287,4289,4289,4291,4291,4291,4291,4291,4291,4292,4294,4295,4296,4298,4298,4298,4298,4453,4453,4453,4454]},\"selected\":{\"id\":\"3617\"},\"selection_policy\":{\"id\":\"3618\"}},\"id\":\"3565\",\"type\":\"ColumnDataSource\"},{\"attributes\":{},\"id\":\"3882\",\"type\":\"Selection\"},{\"attributes\":{},\"id\":\"3450\",\"type\":\"WheelZoomTool\"},{\"attributes\":{\"active_drag\":\"auto\",\"active_inspect\":\"auto\",\"active_multi\":null,\"active_scroll\":\"auto\",\"active_tap\":\"auto\",\"tools\":[{\"id\":\"3653\"},{\"id\":\"3654\"},{\"id\":\"3655\"},{\"id\":\"3656\"},{\"id\":\"3657\"},{\"id\":\"3658\"},{\"id\":\"3734\"}]},\"id\":\"3660\",\"type\":\"Toolbar\"},{\"attributes\":{\"months\":[0,6]},\"id\":\"3585\",\"type\":\"MonthsTicker\"},{\"attributes\":{},\"id\":\"3551\",\"type\":\"PanTool\"},{\"attributes\":{\"data\":{\"x\":{\"__ndarray__\":\"AAAA5UcHd0IAAMBKmgd3QgAAgLDsB3dCAABAFj8Id0IAAAB8kQh3QgAAwOHjCHdCAACARzYJd0IAAECtiAl3QgAAABPbCXdCAADAeC0Kd0IAAIDefwp3QgAAQETSCndCAAAAqiQLd0IAAMAPdwt3QgAAgHXJC3dCAABA2xsMd0IAAABBbgx3QgAAwKbADHdCAACADBMNd0IAAEByZQ13QgAAANi3DXdCAADAPQoOd0IAAICjXA53QgAAQAmvDndCAAAAbwEPd0IAAMDUUw93QgAAgDqmD3dCAABAoPgPd0IAAAAGSxB3QgAAwGudEHdCAACA0e8Qd0IAAEA3QhF3QgAAAJ2UEXdCAADAAucRd0IAAIBoORJ3QgAAQM6LEndCAAAANN4Sd0IAAMCZMBN3QgAAgP+CE3dCAABAZdUTd0IAAADLJxR3QgAAwDB6FHdCAACAlswUd0IAAED8HhV3QgAAAGJxFXdCAADAx8MVd0IAAIAtFhZ3QgAAQJNoFndCAAAA+boWd0IAAMBeDRd3QgAAgMRfF3dCAABAKrIXd0IAAACQBBh3QgAAwPVWGHdCAACAW6kYd0IAAEDB+xh3QgAAACdOGXdCAADAjKAZd0IAAIDy8hl3QgAAQFhFGndCAAAAvpcad0IAAMAj6hp3QgAAgIk8G3dCAABA744bd0IAAABV4Rt3QgAAwLozHHdCAACAIIYcd0IAAECG2Bx3QgAAAOwqHXdCAADAUX0dd0IAAIC3zx13QgAAQB0iHndCAAAAg3Qed0IAAMDoxh53QgAAgE4ZH3dCAABAtGsfd0IAAAAavh93QgAAwH8QIHdCAACA5WIgd0IAAEBLtSB3QgAAALEHIXdCAADAFlohd0IAAIB8rCF3QgAAQOL+IXdCAAAASFEid0IAAMCtoyJ3QgAAgBP2IndCAABAeUgjd0IAAADfmiN3QgAAwETtI3dCAACAqj8kd0IAAEAQkiR3QgAAAHbkJHdCAADA2zYld0IAAIBBiSV3QgAAQKfbJXdCAAAADS4md0IAAMBygCZ3QgAAgNjSJndCAABAPiUnd0IAAACkdyd3QgAAwAnKJ3dCAACAbxwod0IAAEDVbih3QgAAADvBKHdCAADAoBMpd0IAAIAGZil3QgAAQGy4KXdCAAAA0goqd0IAAMA3XSp3QgAAgJ2vKndCAABAAwIrd0IAAABpVCt3QgAAwM6mK3dCAACANPkrd0IAAECaSyx3QgAAAACeLHdCAADAZfAsd0IAAIDLQi13QgAAQDGVLXdCAAAAl+ctd0IAAMD8OS53QgAAgGKMLndCAABAyN4ud0IAAAAuMS93QgAAwJODL3dCAACA+dUvd0IAAEBfKDB3QgAAAMV6MHdCAADAKs0wd0IAAICQHzF3QgAAQPZxMXdCAAAAXMQxd0IAAMDBFjJ3QgAAgCdpMndCAABAjbsyd0IAAADzDTN3QgAAwFhgM3dCAACAvrIzd0IAAEAkBTR3QgAAAIpXNHdCAADA76k0d0IAAIBV/DR3QgAAQLtONXdCAAAAIaE1d0IAAMCG8zV3QgAAgOxFNndCAABAUpg2d0IAAAC46jZ3QgAAwB09N3dCAACAg483d0IAAEDp4Td3QgAAAE80OHdCAADAtIY4d0IAAIAa2Th3QgAAQIArOXdCAAAA5n05d0IAAMBL0Dl3QgAAgLEiOndCAABAF3U6d0IAAAB9xzp3QgAAwOIZO3dCAACASGw7d0IAAECuvjt3QgAAABQRPHdCAADAeWM8d0IAAIDftTx3QgAAQEUIPXdCAAAAq1o9d0IAAMAQrT13QgAAgHb/PXdCAABA3FE+d0IAAABCpD53QgAAwKf2PndCAACADUk/d0IAAEBzmz93QgAAANntP3dC\",\"dtype\":\"float64\",\"shape\":[177]},\"y\":[18,8,21,50,48,72,68,50,85,124,154,172,140,170,206,147,206,208,316,381,449,429,409,594,689,754,737,850,980,719,800,762,772,795,736,412,543,713,546,599,608,549,467,269,409,443,451,507,463,342,312,277,457,348,350,376,307,225,342,289,247,239,241,212,252,263,259,208,206,166,159,100,104,108,111,121,77,80,53,50,77,54,72,50,35,47,50,53,53,43,45,29,24,16,74,38,20,31,19,19,14,18,17,17,14,20,18,24,25,33,28,17,11,13,14,32,27,28,23,22,17,44,47,46,42,21,16,20,16,27,27,51,24,38,31,49,29,53,47,71,18,13,18,46,54,40,51,42,18,57,55,63,49,61,33,20,28,35,36,56,49,34,42,47,58,54,44,69,39,19,41,37,57,71,51,41,21]},\"selected\":{\"id\":\"3719\"},\"selection_policy\":{\"id\":\"3720\"}},\"id\":\"3667\",\"type\":\"ColumnDataSource\"},{\"attributes\":{},\"id\":\"3515\",\"type\":\"Selection\"},{\"attributes\":{},\"id\":\"3932\",\"type\":\"Selection\"},{\"attributes\":{\"toolbars\":[{\"id\":\"3456\"},{\"id\":\"3558\"},{\"id\":\"3660\"},{\"id\":\"3762\"}],\"tools\":[{\"id\":\"3449\"},{\"id\":\"3450\"},{\"id\":\"3451\"},{\"id\":\"3452\"},{\"id\":\"3453\"},{\"id\":\"3454\"},{\"id\":\"3530\"},{\"id\":\"3551\"},{\"id\":\"3552\"},{\"id\":\"3553\"},{\"id\":\"3554\"},{\"id\":\"3555\"},{\"id\":\"3556\"},{\"id\":\"3632\"},{\"id\":\"3653\"},{\"id\":\"3654\"},{\"id\":\"3655\"},{\"id\":\"3656\"},{\"id\":\"3657\"},{\"id\":\"3658\"},{\"id\":\"3734\"},{\"id\":\"3755\"},{\"id\":\"3756\"},{\"id\":\"3757\"},{\"id\":\"3758\"},{\"id\":\"3759\"},{\"id\":\"3760\"},{\"id\":\"3836\"}]},\"id\":\"3939\",\"type\":\"ProxyToolbar\"},{\"attributes\":{\"overlay\":{\"id\":\"3455\"}},\"id\":\"3451\",\"type\":\"BoxZoomTool\"},{\"attributes\":{\"data_source\":{\"id\":\"3595\"},\"glyph\":{\"id\":\"3596\"},\"hover_glyph\":null,\"muted_glyph\":null,\"nonselection_glyph\":{\"id\":\"3597\"},\"selection_glyph\":null,\"view\":{\"id\":\"3599\"}},\"id\":\"3598\",\"type\":\"GlyphRenderer\"},{\"attributes\":{},\"id\":\"3653\",\"type\":\"PanTool\"},{\"attributes\":{},\"id\":\"3552\",\"type\":\"WheelZoomTool\"},{\"attributes\":{},\"id\":\"3883\",\"type\":\"UnionRenderers\"},{\"attributes\":{},\"id\":\"3452\",\"type\":\"SaveTool\"},{\"attributes\":{\"source\":{\"id\":\"3595\"}},\"id\":\"3599\",\"type\":\"CDSView\"},{\"attributes\":{},\"id\":\"3720\",\"type\":\"UnionRenderers\"},{\"attributes\":{\"overlay\":{\"id\":\"3557\"}},\"id\":\"3553\",\"type\":\"BoxZoomTool\"},{\"attributes\":{},\"id\":\"3654\",\"type\":\"WheelZoomTool\"},{\"attributes\":{\"children\":[[{\"id\":\"3430\"},0,0],[{\"id\":\"3532\"},0,1],[{\"id\":\"3634\"},1,0],[{\"id\":\"3736\"},1,1]]},\"id\":\"3938\",\"type\":\"GridBox\"},{\"attributes\":{},\"id\":\"3453\",\"type\":\"ResetTool\"},{\"attributes\":{},\"id\":\"3935\",\"type\":\"UnionRenderers\"},{\"attributes\":{},\"id\":\"3554\",\"type\":\"SaveTool\"},{\"attributes\":{\"overlay\":{\"id\":\"3659\"}},\"id\":\"3655\",\"type\":\"BoxZoomTool\"},{\"attributes\":{},\"id\":\"3858\",\"type\":\"UnionRenderers\"},{\"attributes\":{\"items\":[{\"id\":\"3487\"},{\"id\":\"3520\"}],\"location\":\"top_left\"},\"id\":\"3486\",\"type\":\"Legend\"},{\"attributes\":{\"fill_color\":{\"value\":\"white\"},\"line_color\":{\"value\":\"red\"},\"size\":{\"units\":\"screen\",\"value\":5},\"x\":{\"field\":\"x\"},\"y\":{\"field\":\"y\"}},\"id\":\"3522\",\"type\":\"Circle\"},{\"attributes\":{},\"id\":\"3617\",\"type\":\"Selection\"},{\"attributes\":{},\"id\":\"3454\",\"type\":\"HelpTool\"},{\"attributes\":{},\"id\":\"3556\",\"type\":\"HelpTool\"},{\"attributes\":{},\"id\":\"3656\",\"type\":\"SaveTool\"},{\"attributes\":{},\"id\":\"3857\",\"type\":\"Selection\"},{\"attributes\":{\"source\":{\"id\":\"3565\"}},\"id\":\"3569\",\"type\":\"CDSView\"},{\"attributes\":{\"line_alpha\":0.1,\"line_color\":\"green\",\"line_width\":4,\"x\":{\"field\":\"x\"},\"y\":{\"field\":\"y\"}},\"id\":\"3597\",\"type\":\"Line\"},{\"attributes\":{},\"id\":\"3657\",\"type\":\"ResetTool\"},{\"attributes\":{\"label\":{\"value\":\"recovered\"},\"renderers\":[{\"id\":\"3598\"}]},\"id\":\"3622\",\"type\":\"LegendItem\"},{\"attributes\":{\"fill_alpha\":{\"value\":0.1},\"fill_color\":{\"value\":\"white\"},\"line_alpha\":{\"value\":0.1},\"line_color\":{\"value\":\"red\"},\"size\":{\"units\":\"screen\",\"value\":5},\"x\":{\"field\":\"x\"},\"y\":{\"field\":\"y\"}},\"id\":\"3523\",\"type\":\"Circle\"},{\"attributes\":{\"data\":{\"x\":{\"__ndarray__\":\"AAAA5UcHd0IAAMBKmgd3QgAAgLDsB3dCAABAFj8Id0IAAAB8kQh3QgAAwOHjCHdCAACARzYJd0IAAECtiAl3QgAAABPbCXdCAADAeC0Kd0IAAIDefwp3QgAAQETSCndCAAAAqiQLd0IAAMAPdwt3QgAAgHXJC3dCAABA2xsMd0IAAABBbgx3QgAAwKbADHdCAACADBMNd0IAAEByZQ13QgAAANi3DXdCAADAPQoOd0IAAICjXA53QgAAQAmvDndCAAAAbwEPd0IAAMDUUw93QgAAgDqmD3dCAABAoPgPd0IAAAAGSxB3QgAAwGudEHdCAACA0e8Qd0IAAEA3QhF3QgAAAJ2UEXdCAADAAucRd0IAAIBoORJ3QgAAQM6LEndCAAAANN4Sd0IAAMCZMBN3QgAAgP+CE3dCAABAZdUTd0IAAADLJxR3QgAAwDB6FHdCAACAlswUd0IAAED8HhV3QgAAAGJxFXdCAADAx8MVd0IAAIAtFhZ3QgAAQJNoFndCAAAA+boWd0IAAMBeDRd3QgAAgMRfF3dCAABAKrIXd0IAAACQBBh3QgAAwPVWGHdCAACAW6kYd0IAAEDB+xh3QgAAACdOGXdCAADAjKAZd0IAAIDy8hl3QgAAQFhFGndCAAAAvpcad0IAAMAj6hp3QgAAgIk8G3dCAABA744bd0IAAABV4Rt3QgAAwLozHHdCAACAIIYcd0IAAECG2Bx3QgAAAOwqHXdCAADAUX0dd0IAAIC3zx13QgAAQB0iHndCAAAAg3Qed0IAAMDoxh53QgAAgE4ZH3dCAABAtGsfd0IAAAAavh93QgAAwH8QIHdCAACA5WIgd0IAAEBLtSB3QgAAALEHIXdCAADAFlohd0IAAIB8rCF3QgAAQOL+IXdCAAAASFEid0IAAMCtoyJ3QgAAgBP2IndCAABAeUgjd0IAAADfmiN3QgAAwETtI3dCAACAqj8kd0IAAEAQkiR3QgAAAHbkJHdCAADA2zYld0IAAIBBiSV3QgAAQKfbJXdCAAAADS4md0IAAMBygCZ3QgAAgNjSJndCAABAPiUnd0IAAACkdyd3QgAAwAnKJ3dCAACAbxwod0IAAEDVbih3QgAAADvBKHdCAADAoBMpd0IAAIAGZil3QgAAQGy4KXdCAAAA0goqd0IAAMA3XSp3QgAAgJ2vKndCAABAAwIrd0IAAABpVCt3QgAAwM6mK3dCAACANPkrd0IAAECaSyx3QgAAAACeLHdCAADAZfAsd0IAAIDLQi13QgAAQDGVLXdCAAAAl+ctd0IAAMD8OS53QgAAgGKMLndCAABAyN4ud0IAAAAuMS93QgAAwJODL3dCAACA+dUvd0IAAEBfKDB3QgAAAMV6MHdCAADAKs0wd0IAAICQHzF3QgAAQPZxMXdCAAAAXMQxd0IAAMDBFjJ3QgAAgCdpMndCAABAjbsyd0IAAADzDTN3QgAAwFhgM3dCAACAvrIzd0IAAEAkBTR3QgAAAIpXNHdCAADA76k0d0IAAIBV/DR3QgAAQLtONXdCAAAAIaE1d0IAAMCG8zV3QgAAgOxFNndCAABAUpg2d0IAAAC46jZ3QgAAwB09N3dCAACAg483d0IAAEDp4Td3QgAAAE80OHdCAADAtIY4d0IAAIAa2Th3QgAAQIArOXdCAAAA5n05d0IAAMBL0Dl3QgAAgLEiOndCAABAF3U6d0IAAAB9xzp3QgAAwOIZO3dCAACASGw7d0IAAECuvjt3QgAAABQRPHdCAADAeWM8d0IAAIDftTx3QgAAQEUIPXdCAAAAq1o9d0IAAMAQrT13QgAAgHb/PXdCAABA3FE+d0IAAABCpD53QgAAwKf2PndCAACADUk/d0IAAEBzmz93QgAAANntP3dC\",\"dtype\":\"float64\",\"shape\":[177]},\"y\":[0,0,0,0,0,0,0,0,4,6,10,17,25,27,30,31,38,43,51,54,68,88,134,152,177,239,329,349,423,558,721,792,960,1075,1141,1227,1477,1566,1663,1852,2040,2201,2397,2597,2890,3103,3381,3659,3862,4007,4269,4664,4980,5346,5635,5985,6266,6701,7146,7609,8158,8515,8723,9006,9439,9803,12322,12581,12913,13329,13525,13889,14251,14710,15071,15491,15760,15969,16243,16572,16825,17166,17370,17603,17756,17987,18258,18466,18703,18896,19046,19160,19389,19546,19857,20073,20373,20513,20617,20780,20856,21018,21198,21307,21405,21467,21605,21717,21803,22015,22130,22232,22377,22483,22551,22643,22727,22761,22818,22854,22935,22985,23034,23097,23142,23161,23185,23222,23242,23267,23284,23309,23340,23343,23377,23415,23434,23440,23481,23491,23496,23511,23548,23566,23586,23619,23638,23645,23662,23689,23719,23758,23778,23793,23814,23830,23865,23874,23885,23925,23943,23957,23978,23997,24011,24041,24046,24066,24073,24091,24115,24132,24150,24178,24178,24210,24255]},\"selected\":{\"id\":\"3882\"},\"selection_policy\":{\"id\":\"3883\"}},\"id\":\"3595\",\"type\":\"ColumnDataSource\"},{\"attributes\":{\"days\":[\"%d %B\"]},\"id\":\"3628\",\"type\":\"DatetimeTickFormatter\"},{\"attributes\":{},\"id\":\"3516\",\"type\":\"UnionRenderers\"},{\"attributes\":{},\"id\":\"3658\",\"type\":\"HelpTool\"},{\"attributes\":{\"data_source\":{\"id\":\"3521\"},\"glyph\":{\"id\":\"3522\"},\"hover_glyph\":null,\"muted_glyph\":null,\"nonselection_glyph\":{\"id\":\"3523\"},\"selection_glyph\":null,\"view\":{\"id\":\"3525\"}},\"id\":\"3524\",\"type\":\"GlyphRenderer\"},{\"attributes\":{\"line_color\":\"green\",\"line_width\":4,\"x\":{\"field\":\"x\"},\"y\":{\"field\":\"y\"}},\"id\":\"3596\",\"type\":\"Line\"},{\"attributes\":{},\"id\":\"3619\",\"type\":\"Selection\"},{\"attributes\":{\"label\":{\"value\":\"deaths\"},\"renderers\":[{\"id\":\"3568\"}]},\"id\":\"3589\",\"type\":\"LegendItem\"},{\"attributes\":{},\"id\":\"3517\",\"type\":\"Selection\"},{\"attributes\":{\"source\":{\"id\":\"3590\"}},\"id\":\"3594\",\"type\":\"CDSView\"},{\"attributes\":{},\"id\":\"3618\",\"type\":\"UnionRenderers\"},{\"attributes\":{\"data\":{\"x\":{\"__ndarray__\":\"AAAA5UcHd0IAAMBKmgd3QgAAgLDsB3dCAABAFj8Id0IAAAB8kQh3QgAAwOHjCHdCAACARzYJd0IAAECtiAl3QgAAABPbCXdCAADAeC0Kd0IAAIDefwp3QgAAQETSCndCAAAAqiQLd0IAAMAPdwt3QgAAgHXJC3dCAABA2xsMd0IAAABBbgx3QgAAwKbADHdCAACADBMNd0IAAEByZQ13QgAAANi3DXdCAADAPQoOd0IAAICjXA53QgAAQAmvDndCAAAAbwEPd0IAAMDUUw93QgAAgDqmD3dCAABAoPgPd0IAAAAGSxB3QgAAwGudEHdCAACA0e8Qd0IAAEA3QhF3QgAAAJ2UEXdCAADAAucRd0IAAIBoORJ3QgAAQM6LEndCAAAANN4Sd0IAAMCZMBN3QgAAgP+CE3dCAABAZdUTd0IAAADLJxR3QgAAwDB6FHdCAACAlswUd0IAAED8HhV3QgAAAGJxFXdCAADAx8MVd0IAAIAtFhZ3QgAAQJNoFndCAAAA+boWd0IAAMBeDRd3QgAAgMRfF3dCAABAKrIXd0IAAACQBBh3QgAAwPVWGHdCAACAW6kYd0IAAEDB+xh3QgAAACdOGXdCAADAjKAZd0IAAIDy8hl3QgAAQFhFGndCAAAAvpcad0IAAMAj6hp3QgAAgIk8G3dCAABA744bd0IAAABV4Rt3QgAAwLozHHdCAACAIIYcd0IAAECG2Bx3QgAAAOwqHXdCAADAUX0dd0IAAIC3zx13QgAAQB0iHndCAAAAg3Qed0IAAMDoxh53QgAAgE4ZH3dCAABAtGsfd0IAAAAavh93QgAAwH8QIHdCAACA5WIgd0IAAEBLtSB3QgAAALEHIXdCAADAFlohd0IAAIB8rCF3QgAAQOL+IXdCAAAASFEid0IAAMCtoyJ3QgAAgBP2IndCAABAeUgjd0IAAADfmiN3QgAAwETtI3dCAACAqj8kd0IAAEAQkiR3QgAAAHbkJHdCAADA2zYld0IAAIBBiSV3QgAAQKfbJXdCAAAADS4md0IAAMBygCZ3QgAAgNjSJndCAABAPiUnd0IAAACkdyd3QgAAwAnKJ3dCAACAbxwod0IAAEDVbih3QgAAADvBKHdCAADAoBMpd0IAAIAGZil3QgAAQGy4KXdCAAAA0goqd0IAAMA3XSp3QgAAgJ2vKndCAABAAwIrd0IAAABpVCt3QgAAwM6mK3dCAACANPkrd0IAAECaSyx3QgAAAACeLHdCAADAZfAsd0IAAIDLQi13QgAAQDGVLXdCAAAAl+ctd0IAAMD8OS53QgAAgGKMLndCAABAyN4ud0IAAAAuMS93QgAAwJODL3dCAACA+dUvd0IAAEBfKDB3QgAAAMV6MHdCAADAKs0wd0IAAICQHzF3QgAAQPZxMXdCAAAAXMQxd0IAAMDBFjJ3QgAAgCdpMndCAABAjbsyd0IAAADzDTN3QgAAwFhgM3dCAACAvrIzd0IAAEAkBTR3QgAAAIpXNHdCAADA76k0d0IAAIBV/DR3QgAAQLtONXdCAAAAIaE1d0IAAMCG8zV3QgAAgOxFNndCAABAUpg2d0IAAAC46jZ3QgAAwB09N3dCAACAg483d0IAAEDp4Td3QgAAAE80OHdCAADAtIY4d0IAAIAa2Th3QgAAQIArOXdCAAAA5n05d0IAAMBL0Dl3QgAAgLEiOndCAABAF3U6d0IAAAB9xzp3QgAAwOIZO3dCAACASGw7d0IAAECuvjt3QgAAABQRPHdCAADAeWM8d0IAAIDftTx3QgAAQEUIPXdCAAAAq1o9d0IAAMAQrT13QgAAgHb/PXdCAABA3FE+d0IAAABCpD53QgAAwKf2PndCAACADUk/d0IAAEBzmz93QgAAANntP3dC\",\"dtype\":\"float64\",\"shape\":[177]},\"y\":[0,0,1,1,2,4,8,11,18,22,30,37,48,56,70,85,113,146,201,241,284,346,393,458,531,640,715,816,892,985,1077,1174,1267,1344,1443,1538,1644,1732,1811,1902,1977,2051,2108,2180,2234,2316,2397,2481,2564,2615,2705,2788,2843,2903,2965,3023,3079,3147,3204,3269,3303,3347,3386,3431,3472,3512,3551,3579,3614,3642,3666,3705,3737,3766,3797,3827,3845,3867,3885,3905,3930,3943,3960,3973,3986,3997,4008,4025,4037,4047,4055,4068,4076,4083,4094,4102,4107,4114,4124,4136,4147,4154,4167,4171,4175,4179,4185,4192,4192,4196,4199,4204,4207,4209,4215,4219,4224,4230,4231,4235,4236,4245,4249,4252,4252,4253,4255,4260,4264,4265,4267,4267,4268,4268,4269,4269,4269,4269,4269,4269,4269,4271,4271,4271,4273,4274,4274,4277,4279,4281,4281,4283,4284,4285,4285,4286,4287,4289,4289,4291,4291,4291,4291,4291,4291,4292,4294,4295,4296,4298,4298,4298,4298,4453,4453,4453,4454]},\"selected\":{\"id\":\"3619\"},\"selection_policy\":{\"id\":\"3620\"}},\"id\":\"3590\",\"type\":\"ColumnDataSource\"},{\"attributes\":{\"base\":60,\"mantissas\":[1,2,5,10,15,20,30],\"max_interval\":1800000.0,\"min_interval\":1000.0,\"num_minor_ticks\":0},\"id\":\"3678\",\"type\":\"AdaptiveTicker\"},{\"attributes\":{\"overlay\":{\"id\":\"3761\"}},\"id\":\"3757\",\"type\":\"BoxZoomTool\"},{\"attributes\":{\"data_source\":{\"id\":\"3623\"},\"glyph\":{\"id\":\"3624\"},\"hover_glyph\":null,\"muted_glyph\":null,\"nonselection_glyph\":{\"id\":\"3625\"},\"selection_glyph\":null,\"view\":{\"id\":\"3627\"}},\"id\":\"3626\",\"type\":\"GlyphRenderer\"},{\"attributes\":{},\"id\":\"3859\",\"type\":\"Selection\"},{\"attributes\":{\"data_source\":{\"id\":\"3590\"},\"glyph\":{\"id\":\"3591\"},\"hover_glyph\":null,\"muted_glyph\":null,\"nonselection_glyph\":{\"id\":\"3592\"},\"selection_glyph\":null,\"view\":{\"id\":\"3594\"}},\"id\":\"3593\",\"type\":\"GlyphRenderer\"},{\"attributes\":{},\"id\":\"3620\",\"type\":\"UnionRenderers\"},{\"attributes\":{\"items\":[{\"id\":\"3691\"},{\"id\":\"3724\"}],\"location\":\"top_left\"},\"id\":\"3690\",\"type\":\"Legend\"},{\"attributes\":{\"axis_label\":\"Date\",\"formatter\":{\"id\":\"3526\"},\"major_label_orientation\":0.7853981633974483,\"minor_tick_in\":-5,\"minor_tick_out\":-3,\"ticker\":{\"id\":\"3442\"}},\"id\":\"3441\",\"type\":\"DatetimeAxis\"},{\"attributes\":{\"fill_color\":{\"value\":\"white\"},\"line_color\":{\"value\":\"green\"},\"size\":{\"units\":\"screen\",\"value\":5},\"x\":{\"field\":\"x\"},\"y\":{\"field\":\"y\"}},\"id\":\"3624\",\"type\":\"Circle\"},{\"attributes\":{},\"id\":\"3518\",\"type\":\"UnionRenderers\"},{\"attributes\":{\"days\":[1,2,3,4,5,6,7,8,9,10,11,12,13,14,15,16,17,18,19,20,21,22,23,24,25,26,27,28,29,30,31]},\"id\":\"3680\",\"type\":\"DaysTicker\"},{\"attributes\":{\"toolbar\":{\"id\":\"3939\"},\"toolbar_location\":\"above\"},\"id\":\"3940\",\"type\":\"ToolbarBox\"},{\"attributes\":{\"label\":{\"value\":\"total positive\"},\"renderers\":[{\"id\":\"3496\"}]},\"id\":\"3520\",\"type\":\"LegendItem\"},{\"attributes\":{\"source\":{\"id\":\"3623\"}},\"id\":\"3627\",\"type\":\"CDSView\"},{\"attributes\":{},\"id\":\"3910\",\"type\":\"UnionRenderers\"},{\"attributes\":{\"use_scientific\":false},\"id\":\"3630\",\"type\":\"BasicTickFormatter\"},{\"attributes\":{},\"id\":\"3860\",\"type\":\"UnionRenderers\"},{\"attributes\":{\"data\":{\"x\":{\"__ndarray__\":\"AAAA5UcHd0IAAMBKmgd3QgAAgLDsB3dCAABAFj8Id0IAAAB8kQh3QgAAwOHjCHdCAACARzYJd0IAAECtiAl3QgAAABPbCXdCAADAeC0Kd0IAAIDefwp3QgAAQETSCndCAAAAqiQLd0IAAMAPdwt3QgAAgHXJC3dCAABA2xsMd0IAAABBbgx3QgAAwKbADHdCAACADBMNd0IAAEByZQ13QgAAANi3DXdCAADAPQoOd0IAAICjXA53QgAAQAmvDndCAAAAbwEPd0IAAMDUUw93QgAAgDqmD3dCAABAoPgPd0IAAAAGSxB3QgAAwGudEHdCAACA0e8Qd0IAAEA3QhF3QgAAAJ2UEXdCAADAAucRd0IAAIBoORJ3QgAAQM6LEndCAAAANN4Sd0IAAMCZMBN3QgAAgP+CE3dCAABAZdUTd0IAAADLJxR3QgAAwDB6FHdCAACAlswUd0IAAED8HhV3QgAAAGJxFXdCAADAx8MVd0IAAIAtFhZ3QgAAQJNoFndCAAAA+boWd0IAAMBeDRd3QgAAgMRfF3dCAABAKrIXd0IAAACQBBh3QgAAwPVWGHdCAACAW6kYd0IAAEDB+xh3QgAAACdOGXdCAADAjKAZd0IAAIDy8hl3QgAAQFhFGndCAAAAvpcad0IAAMAj6hp3QgAAgIk8G3dCAABA744bd0IAAABV4Rt3QgAAwLozHHdCAACAIIYcd0IAAECG2Bx3QgAAAOwqHXdCAADAUX0dd0IAAIC3zx13QgAAQB0iHndCAAAAg3Qed0IAAMDoxh53QgAAgE4ZH3dCAABAtGsfd0IAAAAavh93QgAAwH8QIHdCAACA5WIgd0IAAEBLtSB3QgAAALEHIXdCAADAFlohd0IAAIB8rCF3QgAAQOL+IXdCAAAASFEid0IAAMCtoyJ3QgAAgBP2IndCAABAeUgjd0IAAADfmiN3QgAAwETtI3dCAACAqj8kd0IAAEAQkiR3QgAAAHbkJHdCAADA2zYld0IAAIBBiSV3QgAAQKfbJXdCAAAADS4md0IAAMBygCZ3QgAAgNjSJndCAABAPiUnd0IAAACkdyd3QgAAwAnKJ3dCAACAbxwod0IAAEDVbih3QgAAADvBKHdCAADAoBMpd0IAAIAGZil3QgAAQGy4KXdCAAAA0goqd0IAAMA3XSp3QgAAgJ2vKndCAABAAwIrd0IAAABpVCt3QgAAwM6mK3dCAACANPkrd0IAAECaSyx3QgAAAACeLHdCAADAZfAsd0IAAIDLQi13QgAAQDGVLXdCAAAAl+ctd0IAAMD8OS53QgAAgGKMLndCAABAyN4ud0IAAAAuMS93QgAAwJODL3dCAACA+dUvd0IAAEBfKDB3QgAAAMV6MHdCAADAKs0wd0IAAICQHzF3QgAAQPZxMXdCAAAAXMQxd0IAAMDBFjJ3QgAAgCdpMndCAABAjbsyd0IAAADzDTN3QgAAwFhgM3dCAACAvrIzd0IAAEAkBTR3QgAAAIpXNHdCAADA76k0d0IAAIBV/DR3QgAAQLtONXdCAAAAIaE1d0IAAMCG8zV3QgAAgOxFNndCAABAUpg2d0IAAAC46jZ3QgAAwB09N3dCAACAg483d0IAAEDp4Td3QgAAAE80OHdCAADAtIY4d0IAAIAa2Th3QgAAQIArOXdCAAAA5n05d0IAAMBL0Dl3QgAAgLEiOndCAABAF3U6d0IAAAB9xzp3QgAAwOIZO3dCAACASGw7d0IAAECuvjt3QgAAABQRPHdCAADAeWM8d0IAAIDftTx3QgAAQEUIPXdCAAAAq1o9d0IAAMAQrT13QgAAgHb/PXdCAABA3FE+d0IAAABCpD53QgAAwKf2PndCAACADUk/d0IAAEBzmz93QgAAANntP3dC\",\"dtype\":\"float64\",\"shape\":[177]},\"y\":[18,26,46,96,143,213,277,324,398,516,658,816,937,1097,1286,1417,1588,1758,2011,2349,2741,3088,3404,3915,4506,5089,5661,6390,7220,7711,8256,8850,9361,9964,10535,10766,10953,11489,11859,12178,12523,12837,13051,13048,13110,13258,13350,13495,13672,13818,13778,13577,13663,13585,13584,13552,13522,13244,13084,12845,12509,12347,12341,12225,12003,11862,9563,9484,9323,9045,8984,8681,8391,8011,7730,7401,7191,7040,6801,6502,6301,6001,5852,5656,5525,5330,5098,4926,4730,4570,4457,4359,4146,3998,3750,3564,3279,3163,3068,2912,2839,2688,2512,2416,2328,2282,2156,2061,2000,1817,1727,1637,1500,1405,1345,1281,1219,1207,1172,1154,1089,1074,1068,1044,1041,1042,1032,1010,1002,1003,1011,1037,1029,1064,1060,1071,1066,1113,1119,1180,1193,1189,1170,1198,1228,1234,1266,1298,1297,1325,1350,1372,1399,1444,1456,1459,1451,1471,1496,1510,1540,1560,1581,1609,1652,1675,1712,1760,1791,1790,1807,1827,1866,1754,1805,1814,1789]},\"selected\":{\"id\":\"3859\"},\"selection_policy\":{\"id\":\"3860\"}},\"id\":\"3521\",\"type\":\"ColumnDataSource\"},{\"attributes\":{\"fill_alpha\":{\"value\":0.1},\"fill_color\":{\"value\":\"white\"},\"line_alpha\":{\"value\":0.1},\"line_color\":{\"value\":\"darkviolet\"},\"size\":{\"units\":\"screen\",\"value\":5},\"x\":{\"field\":\"x\"},\"y\":{\"field\":\"y\"}},\"id\":\"3592\",\"type\":\"Circle\"},{\"attributes\":{\"data\":{\"x\":{\"__ndarray__\":\"AAAA5UcHd0IAAMBKmgd3QgAAgLDsB3dCAABAFj8Id0IAAAB8kQh3QgAAwOHjCHdCAACARzYJd0IAAECtiAl3QgAAABPbCXdCAADAeC0Kd0IAAIDefwp3QgAAQETSCndCAAAAqiQLd0IAAMAPdwt3QgAAgHXJC3dCAABA2xsMd0IAAABBbgx3QgAAwKbADHdCAACADBMNd0IAAEByZQ13QgAAANi3DXdCAADAPQoOd0IAAICjXA53QgAAQAmvDndCAAAAbwEPd0IAAMDUUw93QgAAgDqmD3dCAABAoPgPd0IAAAAGSxB3QgAAwGudEHdCAACA0e8Qd0IAAEA3QhF3QgAAAJ2UEXdCAADAAucRd0IAAIBoORJ3QgAAQM6LEndCAAAANN4Sd0IAAMCZMBN3QgAAgP+CE3dCAABAZdUTd0IAAADLJxR3QgAAwDB6FHdCAACAlswUd0IAAED8HhV3QgAAAGJxFXdCAADAx8MVd0IAAIAtFhZ3QgAAQJNoFndCAAAA+boWd0IAAMBeDRd3QgAAgMRfF3dCAABAKrIXd0IAAACQBBh3QgAAwPVWGHdCAACAW6kYd0IAAEDB+xh3QgAAACdOGXdCAADAjKAZd0IAAIDy8hl3QgAAQFhFGndCAAAAvpcad0IAAMAj6hp3QgAAgIk8G3dCAABA744bd0IAAABV4Rt3QgAAwLozHHdCAACAIIYcd0IAAECG2Bx3QgAAAOwqHXdCAADAUX0dd0IAAIC3zx13QgAAQB0iHndCAAAAg3Qed0IAAMDoxh53QgAAgE4ZH3dCAABAtGsfd0IAAAAavh93QgAAwH8QIHdCAACA5WIgd0IAAEBLtSB3QgAAALEHIXdCAADAFlohd0IAAIB8rCF3QgAAQOL+IXdCAAAASFEid0IAAMCtoyJ3QgAAgBP2IndCAABAeUgjd0IAAADfmiN3QgAAwETtI3dCAACAqj8kd0IAAEAQkiR3QgAAAHbkJHdCAADA2zYld0IAAIBBiSV3QgAAQKfbJXdCAAAADS4md0IAAMBygCZ3QgAAgNjSJndCAABAPiUnd0IAAACkdyd3QgAAwAnKJ3dCAACAbxwod0IAAEDVbih3QgAAADvBKHdCAADAoBMpd0IAAIAGZil3QgAAQGy4KXdCAAAA0goqd0IAAMA3XSp3QgAAgJ2vKndCAABAAwIrd0IAAABpVCt3QgAAwM6mK3dCAACANPkrd0IAAECaSyx3QgAAAACeLHdCAADAZfAsd0IAAIDLQi13QgAAQDGVLXdCAAAAl+ctd0IAAMD8OS53QgAAgGKMLndCAABAyN4ud0IAAAAuMS93QgAAwJODL3dCAACA+dUvd0IAAEBfKDB3QgAAAMV6MHdCAADAKs0wd0IAAICQHzF3QgAAQPZxMXdCAAAAXMQxd0IAAMDBFjJ3QgAAgCdpMndCAABAjbsyd0IAAADzDTN3QgAAwFhgM3dCAACAvrIzd0IAAEAkBTR3QgAAAIpXNHdCAADA76k0d0IAAIBV/DR3QgAAQLtONXdCAAAAIaE1d0IAAMCG8zV3QgAAgOxFNndCAABAUpg2d0IAAAC46jZ3QgAAwB09N3dCAACAg483d0IAAEDp4Td3QgAAAE80OHdCAADAtIY4d0IAAIAa2Th3QgAAQIArOXdCAAAA5n05d0IAAMBL0Dl3QgAAgLEiOndCAABAF3U6d0IAAAB9xzp3QgAAwOIZO3dCAACASGw7d0IAAECuvjt3QgAAABQRPHdCAADAeWM8d0IAAIDftTx3QgAAQEUIPXdCAAAAq1o9d0IAAMAQrT13QgAAgHb/PXdCAABA3FE+d0IAAABCpD53QgAAwKf2PndCAACADUk/d0IAAEBzmz93QgAAANntP3dC\",\"dtype\":\"float64\",\"shape\":[177]},\"y\":[0,0,0,0,0,0,0,0,4,6,10,17,25,27,30,31,38,43,51,54,68,88,134,152,177,239,329,349,423,558,721,792,960,1075,1141,1227,1477,1566,1663,1852,2040,2201,2397,2597,2890,3103,3381,3659,3862,4007,4269,4664,4980,5346,5635,5985,6266,6701,7146,7609,8158,8515,8723,9006,9439,9803,12322,12581,12913,13329,13525,13889,14251,14710,15071,15491,15760,15969,16243,16572,16825,17166,17370,17603,17756,17987,18258,18466,18703,18896,19046,19160,19389,19546,19857,20073,20373,20513,20617,20780,20856,21018,21198,21307,21405,21467,21605,21717,21803,22015,22130,22232,22377,22483,22551,22643,22727,22761,22818,22854,22935,22985,23034,23097,23142,23161,23185,23222,23242,23267,23284,23309,23340,23343,23377,23415,23434,23440,23481,23491,23496,23511,23548,23566,23586,23619,23638,23645,23662,23689,23719,23758,23778,23793,23814,23830,23865,23874,23885,23925,23943,23957,23978,23997,24011,24041,24046,24066,24073,24091,24115,24132,24150,24178,24178,24210,24255]},\"selected\":{\"id\":\"3884\"},\"selection_policy\":{\"id\":\"3885\"}},\"id\":\"3623\",\"type\":\"ColumnDataSource\"},{\"attributes\":{},\"id\":\"3555\",\"type\":\"ResetTool\"},{\"attributes\":{\"fill_alpha\":{\"value\":0.1},\"fill_color\":{\"value\":\"white\"},\"line_alpha\":{\"value\":0.1},\"line_color\":{\"value\":\"green\"},\"size\":{\"units\":\"screen\",\"value\":5},\"x\":{\"field\":\"x\"},\"y\":{\"field\":\"y\"}},\"id\":\"3625\",\"type\":\"Circle\"},{\"attributes\":{\"bottom_units\":\"screen\",\"fill_alpha\":0.5,\"fill_color\":\"lightgrey\",\"left_units\":\"screen\",\"level\":\"overlay\",\"line_alpha\":1.0,\"line_color\":\"black\",\"line_dash\":[4,4],\"line_width\":2,\"render_mode\":\"css\",\"right_units\":\"screen\",\"top_units\":\"screen\"},\"id\":\"3455\",\"type\":\"BoxAnnotation\"},{\"attributes\":{\"bottom_units\":\"screen\",\"fill_alpha\":0.5,\"fill_color\":\"lightgrey\",\"left_units\":\"screen\",\"level\":\"overlay\",\"line_alpha\":1.0,\"line_color\":\"black\",\"line_dash\":[4,4],\"line_width\":2,\"render_mode\":\"css\",\"right_units\":\"screen\",\"top_units\":\"screen\"},\"id\":\"3557\",\"type\":\"BoxAnnotation\"},{\"attributes\":{\"line_alpha\":0.1,\"line_color\":\"lightcoral\",\"line_width\":4,\"x\":{\"field\":\"x\"},\"y\":{\"field\":\"y\"}},\"id\":\"3699\",\"type\":\"Line\"},{\"attributes\":{},\"id\":\"3909\",\"type\":\"Selection\"},{\"attributes\":{},\"id\":\"3586\",\"type\":\"YearsTicker\"},{\"attributes\":{},\"id\":\"3884\",\"type\":\"Selection\"},{\"attributes\":{\"base\":24,\"mantissas\":[1,2,4,6,8,12],\"max_interval\":43200000.0,\"min_interval\":3600000.0,\"num_minor_ticks\":0},\"id\":\"3679\",\"type\":\"AdaptiveTicker\"},{\"attributes\":{\"mantissas\":[1,2,5],\"max_interval\":500.0,\"num_minor_ticks\":0},\"id\":\"3677\",\"type\":\"AdaptiveTicker\"},{\"attributes\":{\"label\":{\"value\":\"new positive\"},\"renderers\":[{\"id\":\"3670\"}]},\"id\":\"3691\",\"type\":\"LegendItem\"},{\"attributes\":{\"items\":[{\"id\":\"3589\"},{\"id\":\"3622\"}],\"location\":\"top_left\"},\"id\":\"3588\",\"type\":\"Legend\"},{\"attributes\":{\"bottom_units\":\"screen\",\"fill_alpha\":0.5,\"fill_color\":\"lightgrey\",\"left_units\":\"screen\",\"level\":\"overlay\",\"line_alpha\":1.0,\"line_color\":\"black\",\"line_dash\":[4,4],\"line_width\":2,\"render_mode\":\"css\",\"right_units\":\"screen\",\"top_units\":\"screen\"},\"id\":\"3659\",\"type\":\"BoxAnnotation\"},{\"attributes\":{\"callback\":null,\"formatters\":{\"@x\":\"datetime\"},\"mode\":\"vline\",\"tooltips\":[[\"date\",\"@x{%d %B}\"],[\"deaths OR recovered\",\"@y{0[.]000}\"]]},\"id\":\"3632\",\"type\":\"HoverTool\"},{\"attributes\":{},\"id\":\"3756\",\"type\":\"WheelZoomTool\"},{\"attributes\":{},\"id\":\"3934\",\"type\":\"Selection\"},{\"attributes\":{\"below\":[{\"id\":\"3747\"}],\"center\":[{\"id\":\"3750\"},{\"id\":\"3754\"},{\"id\":\"3792\"}],\"left\":[{\"id\":\"3751\"}],\"plot_height\":350,\"plot_width\":470,\"renderers\":[{\"id\":\"3772\"},{\"id\":\"3797\"},{\"id\":\"3802\"},{\"id\":\"3830\"}],\"title\":{\"id\":\"3737\"},\"toolbar\":{\"id\":\"3762\"},\"toolbar_location\":null,\"x_range\":{\"id\":\"3739\"},\"x_scale\":{\"id\":\"3743\"},\"y_range\":{\"id\":\"3741\"},\"y_scale\":{\"id\":\"3745\"}},\"id\":\"3736\",\"subtype\":\"Figure\",\"type\":\"Plot\"},{\"attributes\":{\"line_alpha\":0.1,\"line_color\":\"blue\",\"line_width\":4,\"x\":{\"field\":\"x\"},\"y\":{\"field\":\"y\"}},\"id\":\"3465\",\"type\":\"Line\"},{\"attributes\":{\"line_alpha\":0.1,\"line_color\":\"darkviolet\",\"line_width\":4,\"x\":{\"field\":\"x\"},\"y\":{\"field\":\"y\"}},\"id\":\"3567\",\"type\":\"Line\"},{\"attributes\":{\"label\":{\"value\":\"total cases\"},\"renderers\":[{\"id\":\"3466\"}]},\"id\":\"3487\",\"type\":\"LegendItem\"},{\"attributes\":{\"fill_color\":{\"value\":\"white\"},\"line_color\":{\"value\":\"darkviolet\"},\"size\":{\"units\":\"screen\",\"value\":5},\"x\":{\"field\":\"x\"},\"y\":{\"field\":\"y\"}},\"id\":\"3591\",\"type\":\"Circle\"},{\"attributes\":{\"line_alpha\":0.1,\"line_color\":\"blue\",\"line_width\":4,\"x\":{\"field\":\"x\"},\"y\":{\"field\":\"y\"}},\"id\":\"3669\",\"type\":\"Line\"},{\"attributes\":{},\"id\":\"3885\",\"type\":\"UnionRenderers\"},{\"attributes\":{\"line_color\":\"blue\",\"line_width\":4,\"x\":{\"field\":\"x\"},\"y\":{\"field\":\"y\"}},\"id\":\"3668\",\"type\":\"Line\"},{\"attributes\":{\"text\":\"New Positive: Emilia-Romagna\"},\"id\":\"3635\",\"type\":\"Title\"}],\"root_ids\":[\"3941\"]},\"title\":\"Bokeh Application\",\"version\":\"2.0.2\"}};\n",
       "  var render_items = [{\"docid\":\"4852911a-fe7c-4238-8383-60600f381aae\",\"root_ids\":[\"3941\"],\"roots\":{\"3941\":\"7fd722c0-07f0-44fb-9da3-5bacec5ed37b\"}}];\n",
       "  root.Bokeh.embed.embed_items_notebook(docs_json, render_items);\n",
       "\n",
       "  }\n",
       "  if (root.Bokeh !== undefined) {\n",
       "    embed_document(root);\n",
       "  } else {\n",
       "    var attempts = 0;\n",
       "    var timer = setInterval(function(root) {\n",
       "      if (root.Bokeh !== undefined) {\n",
       "        clearInterval(timer);\n",
       "        embed_document(root);\n",
       "      } else {\n",
       "        attempts++;\n",
       "        if (attempts > 100) {\n",
       "          clearInterval(timer);\n",
       "          console.log(\"Bokeh: ERROR: Unable to run BokehJS code because BokehJS library is missing\");\n",
       "        }\n",
       "      }\n",
       "    }, 10, root)\n",
       "  }\n",
       "})(window);"
      ],
      "application/vnd.bokehjs_exec.v0+json": ""
     },
     "metadata": {
      "application/vnd.bokehjs_exec.v0+json": {
       "id": "3941"
      }
     },
     "output_type": "display_data"
    }
   ],
   "source": [
    "p_grid_EmiliaRomagna = gridplot([[s1_grid_EmiliaRomagna, s2_grid_EmiliaRomagna], [s3_grid_EmiliaRomagna, s4_grid_EmiliaRomagna]])\n",
    "\n",
    "output_file(\"grid_EmiliaRomagna.html\")\n",
    "\n",
    "show(p_grid_EmiliaRomagna)"
   ]
  },
  {
   "cell_type": "code",
   "execution_count": null,
   "metadata": {},
   "outputs": [],
   "source": []
  }
 ],
 "metadata": {
  "kernelspec": {
   "display_name": "Python 3",
   "language": "python",
   "name": "python3"
  },
  "language_info": {
   "codemirror_mode": {
    "name": "ipython",
    "version": 3
   },
   "file_extension": ".py",
   "mimetype": "text/x-python",
   "name": "python",
   "nbconvert_exporter": "python",
   "pygments_lexer": "ipython3",
   "version": "3.7.6"
  }
 },
 "nbformat": 4,
 "nbformat_minor": 2
}
