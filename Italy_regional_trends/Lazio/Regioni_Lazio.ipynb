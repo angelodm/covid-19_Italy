{
 "cells": [
  {
   "cell_type": "markdown",
   "metadata": {},
   "source": [
    "<h1 align=center><font size = 7>Italian Regions Trends Covid-19</font></h1>"
   ]
  },
  {
   "cell_type": "markdown",
   "metadata": {},
   "source": [
    "<h2 align=center><font size = 6> LAZIO</font></h2>"
   ]
  },
  {
   "cell_type": "markdown",
   "metadata": {},
   "source": [
    "------------\n",
    "\n",
    "<font size = 5> **Author**: Angelo Di Marco\n",
    "\n",
    "------------"
   ]
  },
  {
   "cell_type": "markdown",
   "metadata": {},
   "source": [
    "In this Notebook, we analyze the spreading of the new coronavirus in Italian Regions."
   ]
  },
  {
   "cell_type": "markdown",
   "metadata": {},
   "source": [
    "## Libraries and Functions"
   ]
  },
  {
   "cell_type": "code",
   "execution_count": 1,
   "metadata": {},
   "outputs": [
    {
     "data": {
      "text/html": [
       "\n",
       "    <div class=\"bk-root\">\n",
       "        <a href=\"https://bokeh.org\" target=\"_blank\" class=\"bk-logo bk-logo-small bk-logo-notebook\"></a>\n",
       "        <span id=\"1001\">Loading BokehJS ...</span>\n",
       "    </div>"
      ]
     },
     "metadata": {},
     "output_type": "display_data"
    },
    {
     "data": {
      "application/javascript": [
       "\n",
       "(function(root) {\n",
       "  function now() {\n",
       "    return new Date();\n",
       "  }\n",
       "\n",
       "  var force = true;\n",
       "\n",
       "  if (typeof root._bokeh_onload_callbacks === \"undefined\" || force === true) {\n",
       "    root._bokeh_onload_callbacks = [];\n",
       "    root._bokeh_is_loading = undefined;\n",
       "  }\n",
       "\n",
       "  var JS_MIME_TYPE = 'application/javascript';\n",
       "  var HTML_MIME_TYPE = 'text/html';\n",
       "  var EXEC_MIME_TYPE = 'application/vnd.bokehjs_exec.v0+json';\n",
       "  var CLASS_NAME = 'output_bokeh rendered_html';\n",
       "\n",
       "  /**\n",
       "   * Render data to the DOM node\n",
       "   */\n",
       "  function render(props, node) {\n",
       "    var script = document.createElement(\"script\");\n",
       "    node.appendChild(script);\n",
       "  }\n",
       "\n",
       "  /**\n",
       "   * Handle when an output is cleared or removed\n",
       "   */\n",
       "  function handleClearOutput(event, handle) {\n",
       "    var cell = handle.cell;\n",
       "\n",
       "    var id = cell.output_area._bokeh_element_id;\n",
       "    var server_id = cell.output_area._bokeh_server_id;\n",
       "    // Clean up Bokeh references\n",
       "    if (id != null && id in Bokeh.index) {\n",
       "      Bokeh.index[id].model.document.clear();\n",
       "      delete Bokeh.index[id];\n",
       "    }\n",
       "\n",
       "    if (server_id !== undefined) {\n",
       "      // Clean up Bokeh references\n",
       "      var cmd = \"from bokeh.io.state import curstate; print(curstate().uuid_to_server['\" + server_id + \"'].get_sessions()[0].document.roots[0]._id)\";\n",
       "      cell.notebook.kernel.execute(cmd, {\n",
       "        iopub: {\n",
       "          output: function(msg) {\n",
       "            var id = msg.content.text.trim();\n",
       "            if (id in Bokeh.index) {\n",
       "              Bokeh.index[id].model.document.clear();\n",
       "              delete Bokeh.index[id];\n",
       "            }\n",
       "          }\n",
       "        }\n",
       "      });\n",
       "      // Destroy server and session\n",
       "      var cmd = \"import bokeh.io.notebook as ion; ion.destroy_server('\" + server_id + \"')\";\n",
       "      cell.notebook.kernel.execute(cmd);\n",
       "    }\n",
       "  }\n",
       "\n",
       "  /**\n",
       "   * Handle when a new output is added\n",
       "   */\n",
       "  function handleAddOutput(event, handle) {\n",
       "    var output_area = handle.output_area;\n",
       "    var output = handle.output;\n",
       "\n",
       "    // limit handleAddOutput to display_data with EXEC_MIME_TYPE content only\n",
       "    if ((output.output_type != \"display_data\") || (!output.data.hasOwnProperty(EXEC_MIME_TYPE))) {\n",
       "      return\n",
       "    }\n",
       "\n",
       "    var toinsert = output_area.element.find(\".\" + CLASS_NAME.split(' ')[0]);\n",
       "\n",
       "    if (output.metadata[EXEC_MIME_TYPE][\"id\"] !== undefined) {\n",
       "      toinsert[toinsert.length - 1].firstChild.textContent = output.data[JS_MIME_TYPE];\n",
       "      // store reference to embed id on output_area\n",
       "      output_area._bokeh_element_id = output.metadata[EXEC_MIME_TYPE][\"id\"];\n",
       "    }\n",
       "    if (output.metadata[EXEC_MIME_TYPE][\"server_id\"] !== undefined) {\n",
       "      var bk_div = document.createElement(\"div\");\n",
       "      bk_div.innerHTML = output.data[HTML_MIME_TYPE];\n",
       "      var script_attrs = bk_div.children[0].attributes;\n",
       "      for (var i = 0; i < script_attrs.length; i++) {\n",
       "        toinsert[toinsert.length - 1].firstChild.setAttribute(script_attrs[i].name, script_attrs[i].value);\n",
       "        toinsert[toinsert.length - 1].firstChild.textContent = bk_div.children[0].textContent\n",
       "      }\n",
       "      // store reference to server id on output_area\n",
       "      output_area._bokeh_server_id = output.metadata[EXEC_MIME_TYPE][\"server_id\"];\n",
       "    }\n",
       "  }\n",
       "\n",
       "  function register_renderer(events, OutputArea) {\n",
       "\n",
       "    function append_mime(data, metadata, element) {\n",
       "      // create a DOM node to render to\n",
       "      var toinsert = this.create_output_subarea(\n",
       "        metadata,\n",
       "        CLASS_NAME,\n",
       "        EXEC_MIME_TYPE\n",
       "      );\n",
       "      this.keyboard_manager.register_events(toinsert);\n",
       "      // Render to node\n",
       "      var props = {data: data, metadata: metadata[EXEC_MIME_TYPE]};\n",
       "      render(props, toinsert[toinsert.length - 1]);\n",
       "      element.append(toinsert);\n",
       "      return toinsert\n",
       "    }\n",
       "\n",
       "    /* Handle when an output is cleared or removed */\n",
       "    events.on('clear_output.CodeCell', handleClearOutput);\n",
       "    events.on('delete.Cell', handleClearOutput);\n",
       "\n",
       "    /* Handle when a new output is added */\n",
       "    events.on('output_added.OutputArea', handleAddOutput);\n",
       "\n",
       "    /**\n",
       "     * Register the mime type and append_mime function with output_area\n",
       "     */\n",
       "    OutputArea.prototype.register_mime_type(EXEC_MIME_TYPE, append_mime, {\n",
       "      /* Is output safe? */\n",
       "      safe: true,\n",
       "      /* Index of renderer in `output_area.display_order` */\n",
       "      index: 0\n",
       "    });\n",
       "  }\n",
       "\n",
       "  // register the mime type if in Jupyter Notebook environment and previously unregistered\n",
       "  if (root.Jupyter !== undefined) {\n",
       "    var events = require('base/js/events');\n",
       "    var OutputArea = require('notebook/js/outputarea').OutputArea;\n",
       "\n",
       "    if (OutputArea.prototype.mime_types().indexOf(EXEC_MIME_TYPE) == -1) {\n",
       "      register_renderer(events, OutputArea);\n",
       "    }\n",
       "  }\n",
       "\n",
       "  \n",
       "  if (typeof (root._bokeh_timeout) === \"undefined\" || force === true) {\n",
       "    root._bokeh_timeout = Date.now() + 5000;\n",
       "    root._bokeh_failed_load = false;\n",
       "  }\n",
       "\n",
       "  var NB_LOAD_WARNING = {'data': {'text/html':\n",
       "     \"<div style='background-color: #fdd'>\\n\"+\n",
       "     \"<p>\\n\"+\n",
       "     \"BokehJS does not appear to have successfully loaded. If loading BokehJS from CDN, this \\n\"+\n",
       "     \"may be due to a slow or bad network connection. Possible fixes:\\n\"+\n",
       "     \"</p>\\n\"+\n",
       "     \"<ul>\\n\"+\n",
       "     \"<li>re-rerun `output_notebook()` to attempt to load from CDN again, or</li>\\n\"+\n",
       "     \"<li>use INLINE resources instead, as so:</li>\\n\"+\n",
       "     \"</ul>\\n\"+\n",
       "     \"<code>\\n\"+\n",
       "     \"from bokeh.resources import INLINE\\n\"+\n",
       "     \"output_notebook(resources=INLINE)\\n\"+\n",
       "     \"</code>\\n\"+\n",
       "     \"</div>\"}};\n",
       "\n",
       "  function display_loaded() {\n",
       "    var el = document.getElementById(\"1001\");\n",
       "    if (el != null) {\n",
       "      el.textContent = \"BokehJS is loading...\";\n",
       "    }\n",
       "    if (root.Bokeh !== undefined) {\n",
       "      if (el != null) {\n",
       "        el.textContent = \"BokehJS \" + root.Bokeh.version + \" successfully loaded.\";\n",
       "      }\n",
       "    } else if (Date.now() < root._bokeh_timeout) {\n",
       "      setTimeout(display_loaded, 100)\n",
       "    }\n",
       "  }\n",
       "\n",
       "\n",
       "  function run_callbacks() {\n",
       "    try {\n",
       "      root._bokeh_onload_callbacks.forEach(function(callback) {\n",
       "        if (callback != null)\n",
       "          callback();\n",
       "      });\n",
       "    } finally {\n",
       "      delete root._bokeh_onload_callbacks\n",
       "    }\n",
       "    console.debug(\"Bokeh: all callbacks have finished\");\n",
       "  }\n",
       "\n",
       "  function load_libs(css_urls, js_urls, callback) {\n",
       "    if (css_urls == null) css_urls = [];\n",
       "    if (js_urls == null) js_urls = [];\n",
       "\n",
       "    root._bokeh_onload_callbacks.push(callback);\n",
       "    if (root._bokeh_is_loading > 0) {\n",
       "      console.debug(\"Bokeh: BokehJS is being loaded, scheduling callback at\", now());\n",
       "      return null;\n",
       "    }\n",
       "    if (js_urls == null || js_urls.length === 0) {\n",
       "      run_callbacks();\n",
       "      return null;\n",
       "    }\n",
       "    console.debug(\"Bokeh: BokehJS not loaded, scheduling load and callback at\", now());\n",
       "    root._bokeh_is_loading = css_urls.length + js_urls.length;\n",
       "\n",
       "    function on_load() {\n",
       "      root._bokeh_is_loading--;\n",
       "      if (root._bokeh_is_loading === 0) {\n",
       "        console.debug(\"Bokeh: all BokehJS libraries/stylesheets loaded\");\n",
       "        run_callbacks()\n",
       "      }\n",
       "    }\n",
       "\n",
       "    function on_error() {\n",
       "      console.error(\"failed to load \" + url);\n",
       "    }\n",
       "\n",
       "    for (var i = 0; i < css_urls.length; i++) {\n",
       "      var url = css_urls[i];\n",
       "      const element = document.createElement(\"link\");\n",
       "      element.onload = on_load;\n",
       "      element.onerror = on_error;\n",
       "      element.rel = \"stylesheet\";\n",
       "      element.type = \"text/css\";\n",
       "      element.href = url;\n",
       "      console.debug(\"Bokeh: injecting link tag for BokehJS stylesheet: \", url);\n",
       "      document.body.appendChild(element);\n",
       "    }\n",
       "\n",
       "    const hashes = {\"https://cdn.bokeh.org/bokeh/release/bokeh-2.0.2.min.js\": \"ufR9RFnRs6lniiaFvtJziE0YeidtAgBRH6ux2oUItHw5WTvE1zuk9uzhUU/FJXDp\", \"https://cdn.bokeh.org/bokeh/release/bokeh-widgets-2.0.2.min.js\": \"8QM/PGWBT+IssZuRcDcjzwIh1mkOmJSoNMmyYDZbCfXJg3Ap1lEvdVgFuSAwhb/J\", \"https://cdn.bokeh.org/bokeh/release/bokeh-tables-2.0.2.min.js\": \"Jm8cH3Rg0P6UeZhVY5cLy1WzKajUT9KImCY+76hEqrcJt59/d8GPvFHjCkYgnSIn\", \"https://cdn.bokeh.org/bokeh/release/bokeh-gl-2.0.2.min.js\": \"Ozhzj+SI7ywm74aOI/UajcWz+C0NjsPunEVyVIrxzYkB+jA+2tUw8x5xJCbVtK5I\"};\n",
       "\n",
       "    for (var i = 0; i < js_urls.length; i++) {\n",
       "      var url = js_urls[i];\n",
       "      var element = document.createElement('script');\n",
       "      element.onload = on_load;\n",
       "      element.onerror = on_error;\n",
       "      element.async = false;\n",
       "      element.src = url;\n",
       "      if (url in hashes) {\n",
       "        element.crossOrigin = \"anonymous\";\n",
       "        element.integrity = \"sha384-\" + hashes[url];\n",
       "      }\n",
       "      console.debug(\"Bokeh: injecting script tag for BokehJS library: \", url);\n",
       "      document.head.appendChild(element);\n",
       "    }\n",
       "  };\n",
       "\n",
       "  function inject_raw_css(css) {\n",
       "    const element = document.createElement(\"style\");\n",
       "    element.appendChild(document.createTextNode(css));\n",
       "    document.body.appendChild(element);\n",
       "  }\n",
       "\n",
       "  \n",
       "  var js_urls = [\"https://cdn.bokeh.org/bokeh/release/bokeh-2.0.2.min.js\", \"https://cdn.bokeh.org/bokeh/release/bokeh-widgets-2.0.2.min.js\", \"https://cdn.bokeh.org/bokeh/release/bokeh-tables-2.0.2.min.js\", \"https://cdn.bokeh.org/bokeh/release/bokeh-gl-2.0.2.min.js\"];\n",
       "  var css_urls = [];\n",
       "  \n",
       "\n",
       "  var inline_js = [\n",
       "    function(Bokeh) {\n",
       "      Bokeh.set_log_level(\"info\");\n",
       "    },\n",
       "    function(Bokeh) {\n",
       "    \n",
       "    \n",
       "    }\n",
       "  ];\n",
       "\n",
       "  function run_inline_js() {\n",
       "    \n",
       "    if (root.Bokeh !== undefined || force === true) {\n",
       "      \n",
       "    for (var i = 0; i < inline_js.length; i++) {\n",
       "      inline_js[i].call(root, root.Bokeh);\n",
       "    }\n",
       "    if (force === true) {\n",
       "        display_loaded();\n",
       "      }} else if (Date.now() < root._bokeh_timeout) {\n",
       "      setTimeout(run_inline_js, 100);\n",
       "    } else if (!root._bokeh_failed_load) {\n",
       "      console.log(\"Bokeh: BokehJS failed to load within specified timeout.\");\n",
       "      root._bokeh_failed_load = true;\n",
       "    } else if (force !== true) {\n",
       "      var cell = $(document.getElementById(\"1001\")).parents('.cell').data().cell;\n",
       "      cell.output_area.append_execute_result(NB_LOAD_WARNING)\n",
       "    }\n",
       "\n",
       "  }\n",
       "\n",
       "  if (root._bokeh_is_loading === 0) {\n",
       "    console.debug(\"Bokeh: BokehJS loaded, going straight to plotting\");\n",
       "    run_inline_js();\n",
       "  } else {\n",
       "    load_libs(css_urls, js_urls, function() {\n",
       "      console.debug(\"Bokeh: BokehJS plotting callback run at\", now());\n",
       "      run_inline_js();\n",
       "    });\n",
       "  }\n",
       "}(window));"
      ],
      "application/vnd.bokehjs_load.v0+json": "\n(function(root) {\n  function now() {\n    return new Date();\n  }\n\n  var force = true;\n\n  if (typeof root._bokeh_onload_callbacks === \"undefined\" || force === true) {\n    root._bokeh_onload_callbacks = [];\n    root._bokeh_is_loading = undefined;\n  }\n\n  \n\n  \n  if (typeof (root._bokeh_timeout) === \"undefined\" || force === true) {\n    root._bokeh_timeout = Date.now() + 5000;\n    root._bokeh_failed_load = false;\n  }\n\n  var NB_LOAD_WARNING = {'data': {'text/html':\n     \"<div style='background-color: #fdd'>\\n\"+\n     \"<p>\\n\"+\n     \"BokehJS does not appear to have successfully loaded. If loading BokehJS from CDN, this \\n\"+\n     \"may be due to a slow or bad network connection. Possible fixes:\\n\"+\n     \"</p>\\n\"+\n     \"<ul>\\n\"+\n     \"<li>re-rerun `output_notebook()` to attempt to load from CDN again, or</li>\\n\"+\n     \"<li>use INLINE resources instead, as so:</li>\\n\"+\n     \"</ul>\\n\"+\n     \"<code>\\n\"+\n     \"from bokeh.resources import INLINE\\n\"+\n     \"output_notebook(resources=INLINE)\\n\"+\n     \"</code>\\n\"+\n     \"</div>\"}};\n\n  function display_loaded() {\n    var el = document.getElementById(\"1001\");\n    if (el != null) {\n      el.textContent = \"BokehJS is loading...\";\n    }\n    if (root.Bokeh !== undefined) {\n      if (el != null) {\n        el.textContent = \"BokehJS \" + root.Bokeh.version + \" successfully loaded.\";\n      }\n    } else if (Date.now() < root._bokeh_timeout) {\n      setTimeout(display_loaded, 100)\n    }\n  }\n\n\n  function run_callbacks() {\n    try {\n      root._bokeh_onload_callbacks.forEach(function(callback) {\n        if (callback != null)\n          callback();\n      });\n    } finally {\n      delete root._bokeh_onload_callbacks\n    }\n    console.debug(\"Bokeh: all callbacks have finished\");\n  }\n\n  function load_libs(css_urls, js_urls, callback) {\n    if (css_urls == null) css_urls = [];\n    if (js_urls == null) js_urls = [];\n\n    root._bokeh_onload_callbacks.push(callback);\n    if (root._bokeh_is_loading > 0) {\n      console.debug(\"Bokeh: BokehJS is being loaded, scheduling callback at\", now());\n      return null;\n    }\n    if (js_urls == null || js_urls.length === 0) {\n      run_callbacks();\n      return null;\n    }\n    console.debug(\"Bokeh: BokehJS not loaded, scheduling load and callback at\", now());\n    root._bokeh_is_loading = css_urls.length + js_urls.length;\n\n    function on_load() {\n      root._bokeh_is_loading--;\n      if (root._bokeh_is_loading === 0) {\n        console.debug(\"Bokeh: all BokehJS libraries/stylesheets loaded\");\n        run_callbacks()\n      }\n    }\n\n    function on_error() {\n      console.error(\"failed to load \" + url);\n    }\n\n    for (var i = 0; i < css_urls.length; i++) {\n      var url = css_urls[i];\n      const element = document.createElement(\"link\");\n      element.onload = on_load;\n      element.onerror = on_error;\n      element.rel = \"stylesheet\";\n      element.type = \"text/css\";\n      element.href = url;\n      console.debug(\"Bokeh: injecting link tag for BokehJS stylesheet: \", url);\n      document.body.appendChild(element);\n    }\n\n    const hashes = {\"https://cdn.bokeh.org/bokeh/release/bokeh-2.0.2.min.js\": \"ufR9RFnRs6lniiaFvtJziE0YeidtAgBRH6ux2oUItHw5WTvE1zuk9uzhUU/FJXDp\", \"https://cdn.bokeh.org/bokeh/release/bokeh-widgets-2.0.2.min.js\": \"8QM/PGWBT+IssZuRcDcjzwIh1mkOmJSoNMmyYDZbCfXJg3Ap1lEvdVgFuSAwhb/J\", \"https://cdn.bokeh.org/bokeh/release/bokeh-tables-2.0.2.min.js\": \"Jm8cH3Rg0P6UeZhVY5cLy1WzKajUT9KImCY+76hEqrcJt59/d8GPvFHjCkYgnSIn\", \"https://cdn.bokeh.org/bokeh/release/bokeh-gl-2.0.2.min.js\": \"Ozhzj+SI7ywm74aOI/UajcWz+C0NjsPunEVyVIrxzYkB+jA+2tUw8x5xJCbVtK5I\"};\n\n    for (var i = 0; i < js_urls.length; i++) {\n      var url = js_urls[i];\n      var element = document.createElement('script');\n      element.onload = on_load;\n      element.onerror = on_error;\n      element.async = false;\n      element.src = url;\n      if (url in hashes) {\n        element.crossOrigin = \"anonymous\";\n        element.integrity = \"sha384-\" + hashes[url];\n      }\n      console.debug(\"Bokeh: injecting script tag for BokehJS library: \", url);\n      document.head.appendChild(element);\n    }\n  };\n\n  function inject_raw_css(css) {\n    const element = document.createElement(\"style\");\n    element.appendChild(document.createTextNode(css));\n    document.body.appendChild(element);\n  }\n\n  \n  var js_urls = [\"https://cdn.bokeh.org/bokeh/release/bokeh-2.0.2.min.js\", \"https://cdn.bokeh.org/bokeh/release/bokeh-widgets-2.0.2.min.js\", \"https://cdn.bokeh.org/bokeh/release/bokeh-tables-2.0.2.min.js\", \"https://cdn.bokeh.org/bokeh/release/bokeh-gl-2.0.2.min.js\"];\n  var css_urls = [];\n  \n\n  var inline_js = [\n    function(Bokeh) {\n      Bokeh.set_log_level(\"info\");\n    },\n    function(Bokeh) {\n    \n    \n    }\n  ];\n\n  function run_inline_js() {\n    \n    if (root.Bokeh !== undefined || force === true) {\n      \n    for (var i = 0; i < inline_js.length; i++) {\n      inline_js[i].call(root, root.Bokeh);\n    }\n    if (force === true) {\n        display_loaded();\n      }} else if (Date.now() < root._bokeh_timeout) {\n      setTimeout(run_inline_js, 100);\n    } else if (!root._bokeh_failed_load) {\n      console.log(\"Bokeh: BokehJS failed to load within specified timeout.\");\n      root._bokeh_failed_load = true;\n    } else if (force !== true) {\n      var cell = $(document.getElementById(\"1001\")).parents('.cell').data().cell;\n      cell.output_area.append_execute_result(NB_LOAD_WARNING)\n    }\n\n  }\n\n  if (root._bokeh_is_loading === 0) {\n    console.debug(\"Bokeh: BokehJS loaded, going straight to plotting\");\n    run_inline_js();\n  } else {\n    load_libs(css_urls, js_urls, function() {\n      console.debug(\"Bokeh: BokehJS plotting callback run at\", now());\n      run_inline_js();\n    });\n  }\n}(window));"
     },
     "metadata": {},
     "output_type": "display_data"
    }
   ],
   "source": [
    "import numpy as np\n",
    "\n",
    "import pandas as pd\n",
    "\n",
    "from math import pi\n",
    "\n",
    "from bokeh.plotting import figure, output_file, show, output_notebook, gridplot\n",
    "from bokeh.models import DatetimeTickFormatter, BasicTickFormatter, NumeralTickFormatter\n",
    "from bokeh.models import HoverTool\n",
    "from bokeh.layouts import row\n",
    "\n",
    "output_notebook()"
   ]
  },
  {
   "cell_type": "code",
   "execution_count": 2,
   "metadata": {},
   "outputs": [],
   "source": [
    "def datetime(x):\n",
    "    return np.array(x, dtype=np.datetime64)"
   ]
  },
  {
   "cell_type": "markdown",
   "metadata": {},
   "source": [
    "### ----- Plot function N lines -----"
   ]
  },
  {
   "cell_type": "code",
   "execution_count": 3,
   "metadata": {},
   "outputs": [],
   "source": [
    "def bokeh_plot_N_lines(x, y_list, title, dim, x_label, y_label, legend_list, x_label_hover, y_label_hover, color_list, legend_location):\n",
    "    \n",
    "#     output_file(file_name)\n",
    "    \n",
    "    p = figure(title=title, x_axis_type='datetime', x_axis_label=x_label, y_axis_label=y_label, width=dim[0], height=dim[1])\n",
    "    \n",
    "    for iii in range(0,len(y_list)):\n",
    "        p.line(x, y_list[iii], color=color_list[iii], line_width=4, legend_label=legend_list[iii])\n",
    "        p.circle(x, y_list[iii], fill_color=\"white\", line_color=color_list[iii], size=5)\n",
    "        \n",
    "    \n",
    "    p.xaxis.formatter=DatetimeTickFormatter(\n",
    "#         hours=[\"%d %B %Y\"],\n",
    "#         days=[\"%Y %m %d\"],\n",
    "    days=[\"%d %B\"],\n",
    "#         months=[\"%d %B %Y\"],\n",
    "#         years=[\"%d %B %Y\"],\n",
    "    )\n",
    "    p.xaxis.major_label_orientation = pi/4\n",
    "  \n",
    "    p.yaxis.formatter = BasicTickFormatter(use_scientific=False)\n",
    "#     p.left[0].formatter.use_scientific = False\n",
    "#     p.yaxis.formatter = NumeralTickFormatter(format = '0,0')\n",
    "    p.yaxis.formatter.use_scientific = False\n",
    "    \n",
    "    p.axis.minor_tick_in = -5\n",
    "    p.axis.minor_tick_out = -3\n",
    "    \n",
    "    p.legend.location = legend_location\n",
    "    \n",
    "    p.add_tools(HoverTool(\n",
    "    tooltips=[\n",
    "        ( x_label_hover,   '@x{%d %B}' ),\n",
    "        ( y_label_hover, '@y{0[.]000}' ),\n",
    "#         ( 'label yy', '@yy' ),\n",
    "    ],\n",
    "\n",
    "    formatters={\n",
    "           '@x'  : 'datetime', # use 'datetime' formatter for 'date' field\n",
    "#            '@y'  : 'printf',   # use 'printf' formatter for 'adj close' field\n",
    "#            '@y'  : 'numeral',   # use 'printf' formatter for 'adj close' field\n",
    "                                  # use default 'numeral' formatter for other fields\n",
    "    },\n",
    "\n",
    "    # display a tooltip whenever the cursor is vertically in line with a glyph\n",
    "    mode='vline'\n",
    "    ))\n",
    "    \n",
    "    return p  \n",
    "#     show(p)"
   ]
  },
  {
   "cell_type": "markdown",
   "metadata": {},
   "source": [
    "-----------------\n",
    "\n",
    "## Data Sources"
   ]
  },
  {
   "cell_type": "markdown",
   "metadata": {},
   "source": [
    "We importe the CSV files directly from the official GitHub source of the Protezione Civile:"
   ]
  },
  {
   "cell_type": "code",
   "execution_count": 4,
   "metadata": {},
   "outputs": [],
   "source": [
    "data_links = {'nazionale':'https://raw.githubusercontent.com/pcm-dpc/COVID-19/master/dati-andamento-nazionale/dpc-covid19-ita-andamento-nazionale.csv',\\\n",
    "              'regioni':'https://raw.githubusercontent.com/pcm-dpc/COVID-19/master/dati-regioni/dpc-covid19-ita-regioni.csv',\\\n",
    "              'province':'https://raw.githubusercontent.com/pcm-dpc/COVID-19/master/dati-province/dpc-covid19-ita-province.csv'}"
   ]
  },
  {
   "cell_type": "markdown",
   "metadata": {},
   "source": [
    "-----------------\n",
    "\n",
    "## Regional Trends"
   ]
  },
  {
   "cell_type": "code",
   "execution_count": 5,
   "metadata": {},
   "outputs": [
    {
     "name": "stdout",
     "output_type": "stream",
     "text": [
      "The path to the Raw CSV file for the regions data is : \n",
      " https://raw.githubusercontent.com/pcm-dpc/COVID-19/master/dati-regioni/dpc-covid19-ita-regioni.csv\n"
     ]
    },
    {
     "data": {
      "text/html": [
       "<div>\n",
       "<style scoped>\n",
       "    .dataframe tbody tr th:only-of-type {\n",
       "        vertical-align: middle;\n",
       "    }\n",
       "\n",
       "    .dataframe tbody tr th {\n",
       "        vertical-align: top;\n",
       "    }\n",
       "\n",
       "    .dataframe thead th {\n",
       "        text-align: right;\n",
       "    }\n",
       "</style>\n",
       "<table border=\"1\" class=\"dataframe\">\n",
       "  <thead>\n",
       "    <tr style=\"text-align: right;\">\n",
       "      <th></th>\n",
       "      <th>data</th>\n",
       "      <th>stato</th>\n",
       "      <th>codice_regione</th>\n",
       "      <th>denominazione_regione</th>\n",
       "      <th>lat</th>\n",
       "      <th>long</th>\n",
       "      <th>ricoverati_con_sintomi</th>\n",
       "      <th>terapia_intensiva</th>\n",
       "      <th>totale_ospedalizzati</th>\n",
       "      <th>isolamento_domiciliare</th>\n",
       "      <th>...</th>\n",
       "      <th>variazione_totale_positivi</th>\n",
       "      <th>nuovi_positivi</th>\n",
       "      <th>dimessi_guariti</th>\n",
       "      <th>deceduti</th>\n",
       "      <th>casi_da_sospetto_diagnostico</th>\n",
       "      <th>casi_da_screening</th>\n",
       "      <th>totale_casi</th>\n",
       "      <th>tamponi</th>\n",
       "      <th>casi_testati</th>\n",
       "      <th>note</th>\n",
       "    </tr>\n",
       "  </thead>\n",
       "  <tbody>\n",
       "    <tr>\n",
       "      <th>0</th>\n",
       "      <td>2020-02-24T18:00:00</td>\n",
       "      <td>ITA</td>\n",
       "      <td>13</td>\n",
       "      <td>Abruzzo</td>\n",
       "      <td>42.351222</td>\n",
       "      <td>13.398438</td>\n",
       "      <td>0</td>\n",
       "      <td>0</td>\n",
       "      <td>0</td>\n",
       "      <td>0</td>\n",
       "      <td>...</td>\n",
       "      <td>0</td>\n",
       "      <td>0</td>\n",
       "      <td>0</td>\n",
       "      <td>0</td>\n",
       "      <td>NaN</td>\n",
       "      <td>NaN</td>\n",
       "      <td>0</td>\n",
       "      <td>5</td>\n",
       "      <td>NaN</td>\n",
       "      <td>NaN</td>\n",
       "    </tr>\n",
       "    <tr>\n",
       "      <th>1</th>\n",
       "      <td>2020-02-24T18:00:00</td>\n",
       "      <td>ITA</td>\n",
       "      <td>17</td>\n",
       "      <td>Basilicata</td>\n",
       "      <td>40.639471</td>\n",
       "      <td>15.805148</td>\n",
       "      <td>0</td>\n",
       "      <td>0</td>\n",
       "      <td>0</td>\n",
       "      <td>0</td>\n",
       "      <td>...</td>\n",
       "      <td>0</td>\n",
       "      <td>0</td>\n",
       "      <td>0</td>\n",
       "      <td>0</td>\n",
       "      <td>NaN</td>\n",
       "      <td>NaN</td>\n",
       "      <td>0</td>\n",
       "      <td>0</td>\n",
       "      <td>NaN</td>\n",
       "      <td>NaN</td>\n",
       "    </tr>\n",
       "    <tr>\n",
       "      <th>2</th>\n",
       "      <td>2020-02-24T18:00:00</td>\n",
       "      <td>ITA</td>\n",
       "      <td>18</td>\n",
       "      <td>Calabria</td>\n",
       "      <td>38.905976</td>\n",
       "      <td>16.594402</td>\n",
       "      <td>0</td>\n",
       "      <td>0</td>\n",
       "      <td>0</td>\n",
       "      <td>0</td>\n",
       "      <td>...</td>\n",
       "      <td>0</td>\n",
       "      <td>0</td>\n",
       "      <td>0</td>\n",
       "      <td>0</td>\n",
       "      <td>NaN</td>\n",
       "      <td>NaN</td>\n",
       "      <td>0</td>\n",
       "      <td>1</td>\n",
       "      <td>NaN</td>\n",
       "      <td>NaN</td>\n",
       "    </tr>\n",
       "    <tr>\n",
       "      <th>3</th>\n",
       "      <td>2020-02-24T18:00:00</td>\n",
       "      <td>ITA</td>\n",
       "      <td>15</td>\n",
       "      <td>Campania</td>\n",
       "      <td>40.839566</td>\n",
       "      <td>14.250850</td>\n",
       "      <td>0</td>\n",
       "      <td>0</td>\n",
       "      <td>0</td>\n",
       "      <td>0</td>\n",
       "      <td>...</td>\n",
       "      <td>0</td>\n",
       "      <td>0</td>\n",
       "      <td>0</td>\n",
       "      <td>0</td>\n",
       "      <td>NaN</td>\n",
       "      <td>NaN</td>\n",
       "      <td>0</td>\n",
       "      <td>10</td>\n",
       "      <td>NaN</td>\n",
       "      <td>NaN</td>\n",
       "    </tr>\n",
       "    <tr>\n",
       "      <th>4</th>\n",
       "      <td>2020-02-24T18:00:00</td>\n",
       "      <td>ITA</td>\n",
       "      <td>8</td>\n",
       "      <td>Emilia-Romagna</td>\n",
       "      <td>44.494367</td>\n",
       "      <td>11.341721</td>\n",
       "      <td>10</td>\n",
       "      <td>2</td>\n",
       "      <td>12</td>\n",
       "      <td>6</td>\n",
       "      <td>...</td>\n",
       "      <td>0</td>\n",
       "      <td>18</td>\n",
       "      <td>0</td>\n",
       "      <td>0</td>\n",
       "      <td>NaN</td>\n",
       "      <td>NaN</td>\n",
       "      <td>18</td>\n",
       "      <td>148</td>\n",
       "      <td>NaN</td>\n",
       "      <td>NaN</td>\n",
       "    </tr>\n",
       "  </tbody>\n",
       "</table>\n",
       "<p>5 rows × 21 columns</p>\n",
       "</div>"
      ],
      "text/plain": [
       "                  data stato  codice_regione denominazione_regione        lat  \\\n",
       "0  2020-02-24T18:00:00   ITA              13               Abruzzo  42.351222   \n",
       "1  2020-02-24T18:00:00   ITA              17            Basilicata  40.639471   \n",
       "2  2020-02-24T18:00:00   ITA              18              Calabria  38.905976   \n",
       "3  2020-02-24T18:00:00   ITA              15              Campania  40.839566   \n",
       "4  2020-02-24T18:00:00   ITA               8        Emilia-Romagna  44.494367   \n",
       "\n",
       "        long  ricoverati_con_sintomi  terapia_intensiva  totale_ospedalizzati  \\\n",
       "0  13.398438                       0                  0                     0   \n",
       "1  15.805148                       0                  0                     0   \n",
       "2  16.594402                       0                  0                     0   \n",
       "3  14.250850                       0                  0                     0   \n",
       "4  11.341721                      10                  2                    12   \n",
       "\n",
       "   isolamento_domiciliare  ...  variazione_totale_positivi  nuovi_positivi  \\\n",
       "0                       0  ...                           0               0   \n",
       "1                       0  ...                           0               0   \n",
       "2                       0  ...                           0               0   \n",
       "3                       0  ...                           0               0   \n",
       "4                       6  ...                           0              18   \n",
       "\n",
       "   dimessi_guariti  deceduti  casi_da_sospetto_diagnostico  casi_da_screening  \\\n",
       "0                0         0                           NaN                NaN   \n",
       "1                0         0                           NaN                NaN   \n",
       "2                0         0                           NaN                NaN   \n",
       "3                0         0                           NaN                NaN   \n",
       "4                0         0                           NaN                NaN   \n",
       "\n",
       "   totale_casi  tamponi  casi_testati  note  \n",
       "0            0        5           NaN   NaN  \n",
       "1            0        0           NaN   NaN  \n",
       "2            0        1           NaN   NaN  \n",
       "3            0       10           NaN   NaN  \n",
       "4           18      148           NaN   NaN  \n",
       "\n",
       "[5 rows x 21 columns]"
      ]
     },
     "execution_count": 5,
     "metadata": {},
     "output_type": "execute_result"
    }
   ],
   "source": [
    "path_regioni = data_links['regioni']\n",
    "print('The path to the Raw CSV file for the regions data is : \\n', path_regioni)\n",
    "df_regioni = pd.read_csv(path_regioni)\n",
    "df_regioni.head()"
   ]
  },
  {
   "cell_type": "code",
   "execution_count": 6,
   "metadata": {},
   "outputs": [
    {
     "data": {
      "text/plain": [
       "(3822, 21)"
      ]
     },
     "execution_count": 6,
     "metadata": {},
     "output_type": "execute_result"
    }
   ],
   "source": [
    "df_regioni.shape"
   ]
  },
  {
   "cell_type": "markdown",
   "metadata": {},
   "source": [
    "-----------------\n",
    "\n",
    "## Lazio Trends"
   ]
  },
  {
   "cell_type": "code",
   "execution_count": 7,
   "metadata": {
    "scrolled": true
   },
   "outputs": [
    {
     "data": {
      "text/html": [
       "<div>\n",
       "<style scoped>\n",
       "    .dataframe tbody tr th:only-of-type {\n",
       "        vertical-align: middle;\n",
       "    }\n",
       "\n",
       "    .dataframe tbody tr th {\n",
       "        vertical-align: top;\n",
       "    }\n",
       "\n",
       "    .dataframe thead th {\n",
       "        text-align: right;\n",
       "    }\n",
       "</style>\n",
       "<table border=\"1\" class=\"dataframe\">\n",
       "  <thead>\n",
       "    <tr style=\"text-align: right;\">\n",
       "      <th></th>\n",
       "      <th>data</th>\n",
       "      <th>stato</th>\n",
       "      <th>codice_regione</th>\n",
       "      <th>denominazione_regione</th>\n",
       "      <th>lat</th>\n",
       "      <th>long</th>\n",
       "      <th>ricoverati_con_sintomi</th>\n",
       "      <th>terapia_intensiva</th>\n",
       "      <th>totale_ospedalizzati</th>\n",
       "      <th>isolamento_domiciliare</th>\n",
       "      <th>...</th>\n",
       "      <th>variazione_totale_positivi</th>\n",
       "      <th>nuovi_positivi</th>\n",
       "      <th>dimessi_guariti</th>\n",
       "      <th>deceduti</th>\n",
       "      <th>casi_da_sospetto_diagnostico</th>\n",
       "      <th>casi_da_screening</th>\n",
       "      <th>totale_casi</th>\n",
       "      <th>tamponi</th>\n",
       "      <th>casi_testati</th>\n",
       "      <th>note</th>\n",
       "    </tr>\n",
       "  </thead>\n",
       "  <tbody>\n",
       "    <tr>\n",
       "      <th>6</th>\n",
       "      <td>2020-02-24T18:00:00</td>\n",
       "      <td>ITA</td>\n",
       "      <td>12</td>\n",
       "      <td>Lazio</td>\n",
       "      <td>41.89277</td>\n",
       "      <td>12.483667</td>\n",
       "      <td>1</td>\n",
       "      <td>1</td>\n",
       "      <td>2</td>\n",
       "      <td>0</td>\n",
       "      <td>...</td>\n",
       "      <td>0</td>\n",
       "      <td>2</td>\n",
       "      <td>1</td>\n",
       "      <td>0</td>\n",
       "      <td>NaN</td>\n",
       "      <td>NaN</td>\n",
       "      <td>3</td>\n",
       "      <td>124</td>\n",
       "      <td>NaN</td>\n",
       "      <td>NaN</td>\n",
       "    </tr>\n",
       "    <tr>\n",
       "      <th>27</th>\n",
       "      <td>2020-02-25T18:00:00</td>\n",
       "      <td>ITA</td>\n",
       "      <td>12</td>\n",
       "      <td>Lazio</td>\n",
       "      <td>41.89277</td>\n",
       "      <td>12.483667</td>\n",
       "      <td>1</td>\n",
       "      <td>1</td>\n",
       "      <td>2</td>\n",
       "      <td>0</td>\n",
       "      <td>...</td>\n",
       "      <td>0</td>\n",
       "      <td>0</td>\n",
       "      <td>1</td>\n",
       "      <td>0</td>\n",
       "      <td>NaN</td>\n",
       "      <td>NaN</td>\n",
       "      <td>3</td>\n",
       "      <td>124</td>\n",
       "      <td>NaN</td>\n",
       "      <td>NaN</td>\n",
       "    </tr>\n",
       "    <tr>\n",
       "      <th>48</th>\n",
       "      <td>2020-02-26T18:00:00</td>\n",
       "      <td>ITA</td>\n",
       "      <td>12</td>\n",
       "      <td>Lazio</td>\n",
       "      <td>41.89277</td>\n",
       "      <td>12.483667</td>\n",
       "      <td>0</td>\n",
       "      <td>0</td>\n",
       "      <td>0</td>\n",
       "      <td>0</td>\n",
       "      <td>...</td>\n",
       "      <td>-2</td>\n",
       "      <td>0</td>\n",
       "      <td>3</td>\n",
       "      <td>0</td>\n",
       "      <td>NaN</td>\n",
       "      <td>NaN</td>\n",
       "      <td>3</td>\n",
       "      <td>124</td>\n",
       "      <td>NaN</td>\n",
       "      <td>NaN</td>\n",
       "    </tr>\n",
       "    <tr>\n",
       "      <th>69</th>\n",
       "      <td>2020-02-27T18:00:00</td>\n",
       "      <td>ITA</td>\n",
       "      <td>12</td>\n",
       "      <td>Lazio</td>\n",
       "      <td>41.89277</td>\n",
       "      <td>12.483667</td>\n",
       "      <td>0</td>\n",
       "      <td>0</td>\n",
       "      <td>0</td>\n",
       "      <td>0</td>\n",
       "      <td>...</td>\n",
       "      <td>0</td>\n",
       "      <td>0</td>\n",
       "      <td>3</td>\n",
       "      <td>0</td>\n",
       "      <td>NaN</td>\n",
       "      <td>NaN</td>\n",
       "      <td>3</td>\n",
       "      <td>552</td>\n",
       "      <td>NaN</td>\n",
       "      <td>NaN</td>\n",
       "    </tr>\n",
       "    <tr>\n",
       "      <th>90</th>\n",
       "      <td>2020-02-28T18:00:00</td>\n",
       "      <td>ITA</td>\n",
       "      <td>12</td>\n",
       "      <td>Lazio</td>\n",
       "      <td>41.89277</td>\n",
       "      <td>12.483667</td>\n",
       "      <td>0</td>\n",
       "      <td>0</td>\n",
       "      <td>0</td>\n",
       "      <td>0</td>\n",
       "      <td>...</td>\n",
       "      <td>0</td>\n",
       "      <td>0</td>\n",
       "      <td>3</td>\n",
       "      <td>0</td>\n",
       "      <td>NaN</td>\n",
       "      <td>NaN</td>\n",
       "      <td>3</td>\n",
       "      <td>611</td>\n",
       "      <td>NaN</td>\n",
       "      <td>NaN</td>\n",
       "    </tr>\n",
       "  </tbody>\n",
       "</table>\n",
       "<p>5 rows × 21 columns</p>\n",
       "</div>"
      ],
      "text/plain": [
       "                   data stato  codice_regione denominazione_regione       lat  \\\n",
       "6   2020-02-24T18:00:00   ITA              12                 Lazio  41.89277   \n",
       "27  2020-02-25T18:00:00   ITA              12                 Lazio  41.89277   \n",
       "48  2020-02-26T18:00:00   ITA              12                 Lazio  41.89277   \n",
       "69  2020-02-27T18:00:00   ITA              12                 Lazio  41.89277   \n",
       "90  2020-02-28T18:00:00   ITA              12                 Lazio  41.89277   \n",
       "\n",
       "         long  ricoverati_con_sintomi  terapia_intensiva  \\\n",
       "6   12.483667                       1                  1   \n",
       "27  12.483667                       1                  1   \n",
       "48  12.483667                       0                  0   \n",
       "69  12.483667                       0                  0   \n",
       "90  12.483667                       0                  0   \n",
       "\n",
       "    totale_ospedalizzati  isolamento_domiciliare  ...  \\\n",
       "6                      2                       0  ...   \n",
       "27                     2                       0  ...   \n",
       "48                     0                       0  ...   \n",
       "69                     0                       0  ...   \n",
       "90                     0                       0  ...   \n",
       "\n",
       "    variazione_totale_positivi  nuovi_positivi  dimessi_guariti  deceduti  \\\n",
       "6                            0               2                1         0   \n",
       "27                           0               0                1         0   \n",
       "48                          -2               0                3         0   \n",
       "69                           0               0                3         0   \n",
       "90                           0               0                3         0   \n",
       "\n",
       "    casi_da_sospetto_diagnostico  casi_da_screening  totale_casi  tamponi  \\\n",
       "6                            NaN                NaN            3      124   \n",
       "27                           NaN                NaN            3      124   \n",
       "48                           NaN                NaN            3      124   \n",
       "69                           NaN                NaN            3      552   \n",
       "90                           NaN                NaN            3      611   \n",
       "\n",
       "    casi_testati  note  \n",
       "6            NaN   NaN  \n",
       "27           NaN   NaN  \n",
       "48           NaN   NaN  \n",
       "69           NaN   NaN  \n",
       "90           NaN   NaN  \n",
       "\n",
       "[5 rows x 21 columns]"
      ]
     },
     "execution_count": 7,
     "metadata": {},
     "output_type": "execute_result"
    }
   ],
   "source": [
    "df_Lazio = df_regioni[df_regioni['denominazione_regione']=='Lazio']\n",
    "df_Lazio.head()"
   ]
  },
  {
   "cell_type": "code",
   "execution_count": 8,
   "metadata": {},
   "outputs": [
    {
     "data": {
      "text/plain": [
       "(182, 21)"
      ]
     },
     "execution_count": 8,
     "metadata": {},
     "output_type": "execute_result"
    }
   ],
   "source": [
    "df_Lazio.shape"
   ]
  },
  {
   "cell_type": "markdown",
   "metadata": {},
   "source": [
    "------------\n",
    "\n",
    "### Date Formatting"
   ]
  },
  {
   "cell_type": "code",
   "execution_count": 9,
   "metadata": {},
   "outputs": [
    {
     "data": {
      "text/plain": [
       "6     2020-02-24T18:00:00\n",
       "27    2020-02-25T18:00:00\n",
       "48    2020-02-26T18:00:00\n",
       "69    2020-02-27T18:00:00\n",
       "90    2020-02-28T18:00:00\n",
       "Name: data, dtype: object"
      ]
     },
     "execution_count": 9,
     "metadata": {},
     "output_type": "execute_result"
    }
   ],
   "source": [
    "time_date = df_Lazio['data']\n",
    "time_date.head()"
   ]
  },
  {
   "cell_type": "code",
   "execution_count": 10,
   "metadata": {},
   "outputs": [
    {
     "data": {
      "text/plain": [
       "6     2020-02-24\n",
       "27    2020-02-25\n",
       "48    2020-02-26\n",
       "69    2020-02-27\n",
       "90    2020-02-28\n",
       "Name: data, dtype: object"
      ]
     },
     "execution_count": 10,
     "metadata": {},
     "output_type": "execute_result"
    }
   ],
   "source": [
    "time_date_new = pd.to_datetime(time_date).dt.date\n",
    "time_date_new.head()"
   ]
  },
  {
   "cell_type": "code",
   "execution_count": 11,
   "metadata": {},
   "outputs": [
    {
     "data": {
      "text/plain": [
       "datetime.date(2020, 2, 24)"
      ]
     },
     "execution_count": 11,
     "metadata": {},
     "output_type": "execute_result"
    }
   ],
   "source": [
    "time_date_new.iloc[0]"
   ]
  },
  {
   "cell_type": "code",
   "execution_count": 12,
   "metadata": {},
   "outputs": [],
   "source": [
    "# time_date_new = datetime(time_date_new.iloc[0:7])\n",
    "# time_date_new"
   ]
  },
  {
   "cell_type": "markdown",
   "metadata": {},
   "source": [
    "---------------"
   ]
  },
  {
   "cell_type": "code",
   "execution_count": 13,
   "metadata": {},
   "outputs": [
    {
     "data": {
      "text/plain": [
       "DatetimeIndex(['2020-02-24', '2020-02-25', '2020-02-26', '2020-02-27',\n",
       "               '2020-02-28', '2020-02-29', '2020-03-01', '2020-03-02',\n",
       "               '2020-03-03', '2020-03-04',\n",
       "               ...\n",
       "               '2021-02-12', '2021-02-13', '2021-02-14', '2021-02-15',\n",
       "               '2021-02-16', '2021-02-17', '2021-02-18', '2021-02-19',\n",
       "               '2021-02-20', '2021-02-21'],\n",
       "              dtype='datetime64[ns]', length=364, freq='D')"
      ]
     },
     "execution_count": 13,
     "metadata": {},
     "output_type": "execute_result"
    }
   ],
   "source": [
    "time_date_new_extended = pd.date_range(start=time_date_new.iloc[0], periods=2*time_date.shape[0])\n",
    "time_date_new_extended"
   ]
  },
  {
   "cell_type": "markdown",
   "metadata": {},
   "source": [
    "------------------\n",
    "\n",
    "### Total Cases Lazio"
   ]
  },
  {
   "cell_type": "code",
   "execution_count": 14,
   "metadata": {},
   "outputs": [
    {
     "data": {
      "text/plain": [
       "6     3\n",
       "27    3\n",
       "48    3\n",
       "69    3\n",
       "90    3\n",
       "Name: totale_casi, dtype: int64"
      ]
     },
     "execution_count": 14,
     "metadata": {},
     "output_type": "execute_result"
    }
   ],
   "source": [
    "total_cases_Lazio = df_Lazio['totale_casi']\n",
    "total_cases_Lazio.head()"
   ]
  },
  {
   "cell_type": "markdown",
   "metadata": {},
   "source": [
    "### Total Positive Lazio"
   ]
  },
  {
   "cell_type": "code",
   "execution_count": 15,
   "metadata": {},
   "outputs": [
    {
     "data": {
      "text/plain": [
       "6     2\n",
       "27    2\n",
       "48    0\n",
       "69    0\n",
       "90    0\n",
       "Name: totale_positivi, dtype: int64"
      ]
     },
     "execution_count": 15,
     "metadata": {},
     "output_type": "execute_result"
    }
   ],
   "source": [
    "total_positive_Lazio = df_Lazio['totale_positivi']\n",
    "total_positive_Lazio.head()"
   ]
  },
  {
   "cell_type": "code",
   "execution_count": 16,
   "metadata": {},
   "outputs": [
    {
     "data": {
      "text/html": [
       "\n",
       "\n",
       "\n",
       "\n",
       "\n",
       "\n",
       "  <div class=\"bk-root\" id=\"32deba95-cf8c-4754-a7dc-a795359b0d9b\" data-root-id=\"1002\"></div>\n"
      ]
     },
     "metadata": {},
     "output_type": "display_data"
    },
    {
     "data": {
      "application/javascript": [
       "(function(root) {\n",
       "  function embed_document(root) {\n",
       "    \n",
       "  var docs_json = {\"fafe9701-db2c-417c-8b53-643a236338cf\":{\"roots\":{\"references\":[{\"attributes\":{\"below\":[{\"id\":\"1013\"}],\"center\":[{\"id\":\"1016\"},{\"id\":\"1020\"},{\"id\":\"1058\"}],\"left\":[{\"id\":\"1017\"}],\"plot_height\":450,\"renderers\":[{\"id\":\"1038\"},{\"id\":\"1063\"},{\"id\":\"1068\"},{\"id\":\"1096\"}],\"title\":{\"id\":\"1003\"},\"toolbar\":{\"id\":\"1028\"},\"x_range\":{\"id\":\"1005\"},\"x_scale\":{\"id\":\"1009\"},\"y_range\":{\"id\":\"1007\"},\"y_scale\":{\"id\":\"1011\"}},\"id\":\"1002\",\"subtype\":\"Figure\",\"type\":\"Plot\"},{\"attributes\":{\"data_source\":{\"id\":\"1065\"},\"glyph\":{\"id\":\"1066\"},\"hover_glyph\":null,\"muted_glyph\":null,\"nonselection_glyph\":{\"id\":\"1067\"},\"selection_glyph\":null,\"view\":{\"id\":\"1069\"}},\"id\":\"1068\",\"type\":\"GlyphRenderer\"},{\"attributes\":{\"months\":[0,1,2,3,4,5,6,7,8,9,10,11]},\"id\":\"1052\",\"type\":\"MonthsTicker\"},{\"attributes\":{\"days\":[\"%d %B\"]},\"id\":\"1098\",\"type\":\"DatetimeTickFormatter\"},{\"attributes\":{\"days\":[1,15]},\"id\":\"1051\",\"type\":\"DaysTicker\"},{\"attributes\":{\"days\":[1,8,15,22]},\"id\":\"1050\",\"type\":\"DaysTicker\"},{\"attributes\":{},\"id\":\"1087\",\"type\":\"UnionRenderers\"},{\"attributes\":{},\"id\":\"1125\",\"type\":\"UnionRenderers\"},{\"attributes\":{\"axis_label\":\"Total Cases & Total Positive\",\"formatter\":{\"id\":\"1100\"},\"minor_tick_in\":-5,\"minor_tick_out\":-3,\"ticker\":{\"id\":\"1018\"}},\"id\":\"1017\",\"type\":\"LinearAxis\"},{\"attributes\":{\"days\":[1,4,7,10,13,16,19,22,25,28]},\"id\":\"1049\",\"type\":\"DaysTicker\"},{\"attributes\":{\"active_drag\":\"auto\",\"active_inspect\":\"auto\",\"active_multi\":null,\"active_scroll\":\"auto\",\"active_tap\":\"auto\",\"tools\":[{\"id\":\"1021\"},{\"id\":\"1022\"},{\"id\":\"1023\"},{\"id\":\"1024\"},{\"id\":\"1025\"},{\"id\":\"1026\"},{\"id\":\"1102\"}]},\"id\":\"1028\",\"type\":\"Toolbar\"},{\"attributes\":{\"source\":{\"id\":\"1065\"}},\"id\":\"1069\",\"type\":\"CDSView\"},{\"attributes\":{},\"id\":\"1021\",\"type\":\"PanTool\"},{\"attributes\":{\"data_source\":{\"id\":\"1035\"},\"glyph\":{\"id\":\"1036\"},\"hover_glyph\":null,\"muted_glyph\":null,\"nonselection_glyph\":{\"id\":\"1037\"},\"selection_glyph\":null,\"view\":{\"id\":\"1039\"}},\"id\":\"1038\",\"type\":\"GlyphRenderer\"},{\"attributes\":{\"months\":[0,2,4,6,8,10]},\"id\":\"1053\",\"type\":\"MonthsTicker\"},{\"attributes\":{},\"id\":\"1022\",\"type\":\"WheelZoomTool\"},{\"attributes\":{\"months\":[0,4,8]},\"id\":\"1054\",\"type\":\"MonthsTicker\"},{\"attributes\":{},\"id\":\"1005\",\"type\":\"DataRange1d\"},{\"attributes\":{\"fill_color\":{\"value\":\"white\"},\"line_color\":{\"value\":\"blue\"},\"size\":{\"units\":\"screen\",\"value\":5},\"x\":{\"field\":\"x\"},\"y\":{\"field\":\"y\"}},\"id\":\"1061\",\"type\":\"Circle\"},{\"attributes\":{},\"id\":\"1123\",\"type\":\"UnionRenderers\"},{\"attributes\":{\"data\":{\"x\":{\"__ndarray__\":\"AAAA5UcHd0IAAMBKmgd3QgAAgLDsB3dCAABAFj8Id0IAAAB8kQh3QgAAwOHjCHdCAACARzYJd0IAAECtiAl3QgAAABPbCXdCAADAeC0Kd0IAAIDefwp3QgAAQETSCndCAAAAqiQLd0IAAMAPdwt3QgAAgHXJC3dCAABA2xsMd0IAAABBbgx3QgAAwKbADHdCAACADBMNd0IAAEByZQ13QgAAANi3DXdCAADAPQoOd0IAAICjXA53QgAAQAmvDndCAAAAbwEPd0IAAMDUUw93QgAAgDqmD3dCAABAoPgPd0IAAAAGSxB3QgAAwGudEHdCAACA0e8Qd0IAAEA3QhF3QgAAAJ2UEXdCAADAAucRd0IAAIBoORJ3QgAAQM6LEndCAAAANN4Sd0IAAMCZMBN3QgAAgP+CE3dCAABAZdUTd0IAAADLJxR3QgAAwDB6FHdCAACAlswUd0IAAED8HhV3QgAAAGJxFXdCAADAx8MVd0IAAIAtFhZ3QgAAQJNoFndCAAAA+boWd0IAAMBeDRd3QgAAgMRfF3dCAABAKrIXd0IAAACQBBh3QgAAwPVWGHdCAACAW6kYd0IAAEDB+xh3QgAAACdOGXdCAADAjKAZd0IAAIDy8hl3QgAAQFhFGndCAAAAvpcad0IAAMAj6hp3QgAAgIk8G3dCAABA744bd0IAAABV4Rt3QgAAwLozHHdCAACAIIYcd0IAAECG2Bx3QgAAAOwqHXdCAADAUX0dd0IAAIC3zx13QgAAQB0iHndCAAAAg3Qed0IAAMDoxh53QgAAgE4ZH3dCAABAtGsfd0IAAAAavh93QgAAwH8QIHdCAACA5WIgd0IAAEBLtSB3QgAAALEHIXdCAADAFlohd0IAAIB8rCF3QgAAQOL+IXdCAAAASFEid0IAAMCtoyJ3QgAAgBP2IndCAABAeUgjd0IAAADfmiN3QgAAwETtI3dCAACAqj8kd0IAAEAQkiR3QgAAAHbkJHdCAADA2zYld0IAAIBBiSV3QgAAQKfbJXdCAAAADS4md0IAAMBygCZ3QgAAgNjSJndCAABAPiUnd0IAAACkdyd3QgAAwAnKJ3dCAACAbxwod0IAAEDVbih3QgAAADvBKHdCAADAoBMpd0IAAIAGZil3QgAAQGy4KXdCAAAA0goqd0IAAMA3XSp3QgAAgJ2vKndCAABAAwIrd0IAAABpVCt3QgAAwM6mK3dCAACANPkrd0IAAECaSyx3QgAAAACeLHdCAADAZfAsd0IAAIDLQi13QgAAQDGVLXdCAAAAl+ctd0IAAMD8OS53QgAAgGKMLndCAABAyN4ud0IAAAAuMS93QgAAwJODL3dCAACA+dUvd0IAAEBfKDB3QgAAAMV6MHdCAADAKs0wd0IAAICQHzF3QgAAQPZxMXdCAAAAXMQxd0IAAMDBFjJ3QgAAgCdpMndCAABAjbsyd0IAAADzDTN3QgAAwFhgM3dCAACAvrIzd0IAAEAkBTR3QgAAAIpXNHdCAADA76k0d0IAAIBV/DR3QgAAQLtONXdCAAAAIaE1d0IAAMCG8zV3QgAAgOxFNndCAABAUpg2d0IAAAC46jZ3QgAAwB09N3dCAACAg483d0IAAEDp4Td3QgAAAE80OHdCAADAtIY4d0IAAIAa2Th3QgAAQIArOXdCAAAA5n05d0IAAMBL0Dl3QgAAgLEiOndCAABAF3U6d0IAAAB9xzp3QgAAwOIZO3dCAACASGw7d0IAAECuvjt3QgAAABQRPHdCAADAeWM8d0IAAIDftTx3QgAAQEUIPXdCAAAAq1o9d0IAAMAQrT13QgAAgHb/PXdCAABA3FE+d0IAAABCpD53QgAAwKf2PndCAACADUk/d0IAAEBzmz93QgAAANntP3dCAADAPkBAd0IAAICkkkB3QgAAQArlQHdCAAAAcDdBd0IAAMDViUF3Qg==\",\"dtype\":\"float64\",\"shape\":[182]},\"y\":[2,2,0,0,0,3,3,4,11,27,41,50,72,81,94,99,125,172,242,320,396,472,550,650,741,912,1086,1272,1414,1545,1675,1835,2013,2181,2362,2497,2642,2758,2879,3009,3106,3186,3300,3365,3448,3532,3633,3730,3817,3920,4022,4047,4144,4214,4282,4321,4365,4402,4463,4486,4492,4561,4573,4562,4562,4535,4468,4446,4452,4385,4385,4370,4433,4348,4328,4345,4286,4294,4273,4235,4096,4088,4022,3910,3826,3786,3786,3637,3635,3581,3569,3554,3538,3488,3405,3163,3055,2983,2894,2847,2818,2754,2710,2697,2690,2615,2570,2566,2517,2222,1357,1322,1292,1129,1039,997,988,987,991,945,886,869,862,816,827,841,840,836,832,831,826,854,861,870,873,874,889,901,915,913,892,894,898,850,852,866,872,885,881,889,907,916,928,935,944,942,969,937,945,950,964,974,987,983,993,1008,1017,1046,1081,1101,1121,1127,1165,1218,1284,1329,1359,1429,1540,1666,1870,2027]},\"selected\":{\"id\":\"1124\"},\"selection_policy\":{\"id\":\"1123\"}},\"id\":\"1065\",\"type\":\"ColumnDataSource\"},{\"attributes\":{\"overlay\":{\"id\":\"1027\"}},\"id\":\"1023\",\"type\":\"BoxZoomTool\"},{\"attributes\":{},\"id\":\"1009\",\"type\":\"LinearScale\"},{\"attributes\":{\"bottom_units\":\"screen\",\"fill_alpha\":0.5,\"fill_color\":\"lightgrey\",\"left_units\":\"screen\",\"level\":\"overlay\",\"line_alpha\":1.0,\"line_color\":\"black\",\"line_dash\":[4,4],\"line_width\":2,\"render_mode\":\"css\",\"right_units\":\"screen\",\"top_units\":\"screen\"},\"id\":\"1027\",\"type\":\"BoxAnnotation\"},{\"attributes\":{},\"id\":\"1024\",\"type\":\"SaveTool\"},{\"attributes\":{\"label\":{\"value\":\"total positive\"},\"renderers\":[{\"id\":\"1068\"}]},\"id\":\"1092\",\"type\":\"LegendItem\"},{\"attributes\":{},\"id\":\"1126\",\"type\":\"Selection\"},{\"attributes\":{\"source\":{\"id\":\"1035\"}},\"id\":\"1039\",\"type\":\"CDSView\"},{\"attributes\":{},\"id\":\"1025\",\"type\":\"ResetTool\"},{\"attributes\":{},\"id\":\"1089\",\"type\":\"UnionRenderers\"},{\"attributes\":{},\"id\":\"1007\",\"type\":\"DataRange1d\"},{\"attributes\":{},\"id\":\"1088\",\"type\":\"Selection\"},{\"attributes\":{\"fill_alpha\":{\"value\":0.1},\"fill_color\":{\"value\":\"white\"},\"line_alpha\":{\"value\":0.1},\"line_color\":{\"value\":\"blue\"},\"size\":{\"units\":\"screen\",\"value\":5},\"x\":{\"field\":\"x\"},\"y\":{\"field\":\"y\"}},\"id\":\"1062\",\"type\":\"Circle\"},{\"attributes\":{\"source\":{\"id\":\"1093\"}},\"id\":\"1097\",\"type\":\"CDSView\"},{\"attributes\":{},\"id\":\"1011\",\"type\":\"LinearScale\"},{\"attributes\":{\"line_alpha\":0.1,\"line_color\":\"blue\",\"line_width\":4,\"x\":{\"field\":\"x\"},\"y\":{\"field\":\"y\"}},\"id\":\"1037\",\"type\":\"Line\"},{\"attributes\":{\"fill_alpha\":{\"value\":0.1},\"fill_color\":{\"value\":\"white\"},\"line_alpha\":{\"value\":0.1},\"line_color\":{\"value\":\"red\"},\"size\":{\"units\":\"screen\",\"value\":5},\"x\":{\"field\":\"x\"},\"y\":{\"field\":\"y\"}},\"id\":\"1095\",\"type\":\"Circle\"},{\"attributes\":{},\"id\":\"1026\",\"type\":\"HelpTool\"},{\"attributes\":{\"text\":\"Total Cases & Total Positive: Lazio\"},\"id\":\"1003\",\"type\":\"Title\"},{\"attributes\":{\"mantissas\":[1,2,5],\"max_interval\":500.0,\"num_minor_ticks\":0},\"id\":\"1045\",\"type\":\"AdaptiveTicker\"},{\"attributes\":{\"days\":[1,2,3,4,5,6,7,8,9,10,11,12,13,14,15,16,17,18,19,20,21,22,23,24,25,26,27,28,29,30,31]},\"id\":\"1048\",\"type\":\"DaysTicker\"},{\"attributes\":{},\"id\":\"1056\",\"type\":\"YearsTicker\"},{\"attributes\":{\"axis_label\":\"Date\",\"formatter\":{\"id\":\"1098\"},\"major_label_orientation\":0.7853981633974483,\"minor_tick_in\":-5,\"minor_tick_out\":-3,\"ticker\":{\"id\":\"1014\"}},\"id\":\"1013\",\"type\":\"DatetimeAxis\"},{\"attributes\":{\"base\":60,\"mantissas\":[1,2,5,10,15,20,30],\"max_interval\":1800000.0,\"min_interval\":1000.0,\"num_minor_ticks\":0},\"id\":\"1046\",\"type\":\"AdaptiveTicker\"},{\"attributes\":{},\"id\":\"1124\",\"type\":\"Selection\"},{\"attributes\":{\"use_scientific\":false},\"id\":\"1100\",\"type\":\"BasicTickFormatter\"},{\"attributes\":{\"num_minor_ticks\":5,\"tickers\":[{\"id\":\"1045\"},{\"id\":\"1046\"},{\"id\":\"1047\"},{\"id\":\"1048\"},{\"id\":\"1049\"},{\"id\":\"1050\"},{\"id\":\"1051\"},{\"id\":\"1052\"},{\"id\":\"1053\"},{\"id\":\"1054\"},{\"id\":\"1055\"},{\"id\":\"1056\"}]},\"id\":\"1014\",\"type\":\"DatetimeTicker\"},{\"attributes\":{\"line_color\":\"blue\",\"line_width\":4,\"x\":{\"field\":\"x\"},\"y\":{\"field\":\"y\"}},\"id\":\"1036\",\"type\":\"Line\"},{\"attributes\":{\"base\":24,\"mantissas\":[1,2,4,6,8,12],\"max_interval\":43200000.0,\"min_interval\":3600000.0,\"num_minor_ticks\":0},\"id\":\"1047\",\"type\":\"AdaptiveTicker\"},{\"attributes\":{},\"id\":\"1090\",\"type\":\"Selection\"},{\"attributes\":{\"data\":{\"x\":{\"__ndarray__\":\"AAAA5UcHd0IAAMBKmgd3QgAAgLDsB3dCAABAFj8Id0IAAAB8kQh3QgAAwOHjCHdCAACARzYJd0IAAECtiAl3QgAAABPbCXdCAADAeC0Kd0IAAIDefwp3QgAAQETSCndCAAAAqiQLd0IAAMAPdwt3QgAAgHXJC3dCAABA2xsMd0IAAABBbgx3QgAAwKbADHdCAACADBMNd0IAAEByZQ13QgAAANi3DXdCAADAPQoOd0IAAICjXA53QgAAQAmvDndCAAAAbwEPd0IAAMDUUw93QgAAgDqmD3dCAABAoPgPd0IAAAAGSxB3QgAAwGudEHdCAACA0e8Qd0IAAEA3QhF3QgAAAJ2UEXdCAADAAucRd0IAAIBoORJ3QgAAQM6LEndCAAAANN4Sd0IAAMCZMBN3QgAAgP+CE3dCAABAZdUTd0IAAADLJxR3QgAAwDB6FHdCAACAlswUd0IAAED8HhV3QgAAAGJxFXdCAADAx8MVd0IAAIAtFhZ3QgAAQJNoFndCAAAA+boWd0IAAMBeDRd3QgAAgMRfF3dCAABAKrIXd0IAAACQBBh3QgAAwPVWGHdCAACAW6kYd0IAAEDB+xh3QgAAACdOGXdCAADAjKAZd0IAAIDy8hl3QgAAQFhFGndCAAAAvpcad0IAAMAj6hp3QgAAgIk8G3dCAABA744bd0IAAABV4Rt3QgAAwLozHHdCAACAIIYcd0IAAECG2Bx3QgAAAOwqHXdCAADAUX0dd0IAAIC3zx13QgAAQB0iHndCAAAAg3Qed0IAAMDoxh53QgAAgE4ZH3dCAABAtGsfd0IAAAAavh93QgAAwH8QIHdCAACA5WIgd0IAAEBLtSB3QgAAALEHIXdCAADAFlohd0IAAIB8rCF3QgAAQOL+IXdCAAAASFEid0IAAMCtoyJ3QgAAgBP2IndCAABAeUgjd0IAAADfmiN3QgAAwETtI3dCAACAqj8kd0IAAEAQkiR3QgAAAHbkJHdCAADA2zYld0IAAIBBiSV3QgAAQKfbJXdCAAAADS4md0IAAMBygCZ3QgAAgNjSJndCAABAPiUnd0IAAACkdyd3QgAAwAnKJ3dCAACAbxwod0IAAEDVbih3QgAAADvBKHdCAADAoBMpd0IAAIAGZil3QgAAQGy4KXdCAAAA0goqd0IAAMA3XSp3QgAAgJ2vKndCAABAAwIrd0IAAABpVCt3QgAAwM6mK3dCAACANPkrd0IAAECaSyx3QgAAAACeLHdCAADAZfAsd0IAAIDLQi13QgAAQDGVLXdCAAAAl+ctd0IAAMD8OS53QgAAgGKMLndCAABAyN4ud0IAAAAuMS93QgAAwJODL3dCAACA+dUvd0IAAEBfKDB3QgAAAMV6MHdCAADAKs0wd0IAAICQHzF3QgAAQPZxMXdCAAAAXMQxd0IAAMDBFjJ3QgAAgCdpMndCAABAjbsyd0IAAADzDTN3QgAAwFhgM3dCAACAvrIzd0IAAEAkBTR3QgAAAIpXNHdCAADA76k0d0IAAIBV/DR3QgAAQLtONXdCAAAAIaE1d0IAAMCG8zV3QgAAgOxFNndCAABAUpg2d0IAAAC46jZ3QgAAwB09N3dCAACAg483d0IAAEDp4Td3QgAAAE80OHdCAADAtIY4d0IAAIAa2Th3QgAAQIArOXdCAAAA5n05d0IAAMBL0Dl3QgAAgLEiOndCAABAF3U6d0IAAAB9xzp3QgAAwOIZO3dCAACASGw7d0IAAECuvjt3QgAAABQRPHdCAADAeWM8d0IAAIDftTx3QgAAQEUIPXdCAAAAq1o9d0IAAMAQrT13QgAAgHb/PXdCAABA3FE+d0IAAABCpD53QgAAwKf2PndCAACADUk/d0IAAEBzmz93QgAAANntP3dCAADAPkBAd0IAAICkkkB3QgAAQArlQHdCAAAAcDdBd0IAAMDViUF3Qg==\",\"dtype\":\"float64\",\"shape\":[182]},\"y\":[3,3,3,3,3,6,6,7,14,30,44,54,76,87,102,116,150,200,277,357,436,523,607,724,823,1008,1190,1383,1540,1728,1901,2096,2295,2505,2706,2914,3095,3264,3433,3600,3757,3880,4031,4149,4266,4429,4583,4723,4845,4968,5111,5232,5380,5524,5668,5755,5815,5895,5975,6054,6132,6224,6309,6392,6467,6545,6616,6672,6756,6809,6847,6914,6995,7034,7086,7133,7165,7190,7212,7250,7291,7364,7396,7446,7485,7505,7533,7558,7589,7607,7627,7643,7661,7672,7693,7709,7715,7728,7738,7743,7753,7764,7773,7801,7812,7828,7851,7869,7889,7916,7941,7955,7958,7967,7977,7986,7995,8009,8017,8025,8033,8039,8051,8064,8082,8096,8105,8110,8119,8130,8141,8172,8186,8205,8210,8224,8252,8275,8294,8314,8338,8356,8376,8385,8399,8419,8436,8450,8456,8472,8498,8516,8535,8554,8567,8577,8611,8629,8647,8665,8682,8697,8714,8726,8744,8764,8784,8822,8860,8883,8920,8956,9001,9059,9127,9178,9221,9296,9411,9548,9763,9947]},\"selected\":{\"id\":\"1090\"},\"selection_policy\":{\"id\":\"1089\"}},\"id\":\"1060\",\"type\":\"ColumnDataSource\"},{\"attributes\":{},\"id\":\"1018\",\"type\":\"BasicTicker\"},{\"attributes\":{\"axis\":{\"id\":\"1013\"},\"ticker\":null},\"id\":\"1016\",\"type\":\"Grid\"},{\"attributes\":{\"fill_color\":{\"value\":\"white\"},\"line_color\":{\"value\":\"red\"},\"size\":{\"units\":\"screen\",\"value\":5},\"x\":{\"field\":\"x\"},\"y\":{\"field\":\"y\"}},\"id\":\"1094\",\"type\":\"Circle\"},{\"attributes\":{\"months\":[0,6]},\"id\":\"1055\",\"type\":\"MonthsTicker\"},{\"attributes\":{\"data_source\":{\"id\":\"1060\"},\"glyph\":{\"id\":\"1061\"},\"hover_glyph\":null,\"muted_glyph\":null,\"nonselection_glyph\":{\"id\":\"1062\"},\"selection_glyph\":null,\"view\":{\"id\":\"1064\"}},\"id\":\"1063\",\"type\":\"GlyphRenderer\"},{\"attributes\":{\"data_source\":{\"id\":\"1093\"},\"glyph\":{\"id\":\"1094\"},\"hover_glyph\":null,\"muted_glyph\":null,\"nonselection_glyph\":{\"id\":\"1095\"},\"selection_glyph\":null,\"view\":{\"id\":\"1097\"}},\"id\":\"1096\",\"type\":\"GlyphRenderer\"},{\"attributes\":{\"label\":{\"value\":\"total cases\"},\"renderers\":[{\"id\":\"1038\"}]},\"id\":\"1059\",\"type\":\"LegendItem\"},{\"attributes\":{\"line_alpha\":0.1,\"line_color\":\"red\",\"line_width\":4,\"x\":{\"field\":\"x\"},\"y\":{\"field\":\"y\"}},\"id\":\"1067\",\"type\":\"Line\"},{\"attributes\":{\"callback\":null,\"formatters\":{\"@x\":\"datetime\"},\"mode\":\"vline\",\"tooltips\":[[\"date\",\"@x{%d %B}\"],[\"total cases OR total positive\",\"@y{0[.]000}\"]]},\"id\":\"1102\",\"type\":\"HoverTool\"},{\"attributes\":{\"axis\":{\"id\":\"1017\"},\"dimension\":1,\"ticker\":null},\"id\":\"1020\",\"type\":\"Grid\"},{\"attributes\":{\"line_color\":\"red\",\"line_width\":4,\"x\":{\"field\":\"x\"},\"y\":{\"field\":\"y\"}},\"id\":\"1066\",\"type\":\"Line\"},{\"attributes\":{\"data\":{\"x\":{\"__ndarray__\":\"AAAA5UcHd0IAAMBKmgd3QgAAgLDsB3dCAABAFj8Id0IAAAB8kQh3QgAAwOHjCHdCAACARzYJd0IAAECtiAl3QgAAABPbCXdCAADAeC0Kd0IAAIDefwp3QgAAQETSCndCAAAAqiQLd0IAAMAPdwt3QgAAgHXJC3dCAABA2xsMd0IAAABBbgx3QgAAwKbADHdCAACADBMNd0IAAEByZQ13QgAAANi3DXdCAADAPQoOd0IAAICjXA53QgAAQAmvDndCAAAAbwEPd0IAAMDUUw93QgAAgDqmD3dCAABAoPgPd0IAAAAGSxB3QgAAwGudEHdCAACA0e8Qd0IAAEA3QhF3QgAAAJ2UEXdCAADAAucRd0IAAIBoORJ3QgAAQM6LEndCAAAANN4Sd0IAAMCZMBN3QgAAgP+CE3dCAABAZdUTd0IAAADLJxR3QgAAwDB6FHdCAACAlswUd0IAAED8HhV3QgAAAGJxFXdCAADAx8MVd0IAAIAtFhZ3QgAAQJNoFndCAAAA+boWd0IAAMBeDRd3QgAAgMRfF3dCAABAKrIXd0IAAACQBBh3QgAAwPVWGHdCAACAW6kYd0IAAEDB+xh3QgAAACdOGXdCAADAjKAZd0IAAIDy8hl3QgAAQFhFGndCAAAAvpcad0IAAMAj6hp3QgAAgIk8G3dCAABA744bd0IAAABV4Rt3QgAAwLozHHdCAACAIIYcd0IAAECG2Bx3QgAAAOwqHXdCAADAUX0dd0IAAIC3zx13QgAAQB0iHndCAAAAg3Qed0IAAMDoxh53QgAAgE4ZH3dCAABAtGsfd0IAAAAavh93QgAAwH8QIHdCAACA5WIgd0IAAEBLtSB3QgAAALEHIXdCAADAFlohd0IAAIB8rCF3QgAAQOL+IXdCAAAASFEid0IAAMCtoyJ3QgAAgBP2IndCAABAeUgjd0IAAADfmiN3QgAAwETtI3dCAACAqj8kd0IAAEAQkiR3QgAAAHbkJHdCAADA2zYld0IAAIBBiSV3QgAAQKfbJXdCAAAADS4md0IAAMBygCZ3QgAAgNjSJndCAABAPiUnd0IAAACkdyd3QgAAwAnKJ3dCAACAbxwod0IAAEDVbih3QgAAADvBKHdCAADAoBMpd0IAAIAGZil3QgAAQGy4KXdCAAAA0goqd0IAAMA3XSp3QgAAgJ2vKndCAABAAwIrd0IAAABpVCt3QgAAwM6mK3dCAACANPkrd0IAAECaSyx3QgAAAACeLHdCAADAZfAsd0IAAIDLQi13QgAAQDGVLXdCAAAAl+ctd0IAAMD8OS53QgAAgGKMLndCAABAyN4ud0IAAAAuMS93QgAAwJODL3dCAACA+dUvd0IAAEBfKDB3QgAAAMV6MHdCAADAKs0wd0IAAICQHzF3QgAAQPZxMXdCAAAAXMQxd0IAAMDBFjJ3QgAAgCdpMndCAABAjbsyd0IAAADzDTN3QgAAwFhgM3dCAACAvrIzd0IAAEAkBTR3QgAAAIpXNHdCAADA76k0d0IAAIBV/DR3QgAAQLtONXdCAAAAIaE1d0IAAMCG8zV3QgAAgOxFNndCAABAUpg2d0IAAAC46jZ3QgAAwB09N3dCAACAg483d0IAAEDp4Td3QgAAAE80OHdCAADAtIY4d0IAAIAa2Th3QgAAQIArOXdCAAAA5n05d0IAAMBL0Dl3QgAAgLEiOndCAABAF3U6d0IAAAB9xzp3QgAAwOIZO3dCAACASGw7d0IAAECuvjt3QgAAABQRPHdCAADAeWM8d0IAAIDftTx3QgAAQEUIPXdCAAAAq1o9d0IAAMAQrT13QgAAgHb/PXdCAABA3FE+d0IAAABCpD53QgAAwKf2PndCAACADUk/d0IAAEBzmz93QgAAANntP3dCAADAPkBAd0IAAICkkkB3QgAAQArlQHdCAAAAcDdBd0IAAMDViUF3Qg==\",\"dtype\":\"float64\",\"shape\":[182]},\"y\":[2,2,0,0,0,3,3,4,11,27,41,50,72,81,94,99,125,172,242,320,396,472,550,650,741,912,1086,1272,1414,1545,1675,1835,2013,2181,2362,2497,2642,2758,2879,3009,3106,3186,3300,3365,3448,3532,3633,3730,3817,3920,4022,4047,4144,4214,4282,4321,4365,4402,4463,4486,4492,4561,4573,4562,4562,4535,4468,4446,4452,4385,4385,4370,4433,4348,4328,4345,4286,4294,4273,4235,4096,4088,4022,3910,3826,3786,3786,3637,3635,3581,3569,3554,3538,3488,3405,3163,3055,2983,2894,2847,2818,2754,2710,2697,2690,2615,2570,2566,2517,2222,1357,1322,1292,1129,1039,997,988,987,991,945,886,869,862,816,827,841,840,836,832,831,826,854,861,870,873,874,889,901,915,913,892,894,898,850,852,866,872,885,881,889,907,916,928,935,944,942,969,937,945,950,964,974,987,983,993,1008,1017,1046,1081,1101,1121,1127,1165,1218,1284,1329,1359,1429,1540,1666,1870,2027]},\"selected\":{\"id\":\"1126\"},\"selection_policy\":{\"id\":\"1125\"}},\"id\":\"1093\",\"type\":\"ColumnDataSource\"},{\"attributes\":{\"source\":{\"id\":\"1060\"}},\"id\":\"1064\",\"type\":\"CDSView\"},{\"attributes\":{\"data\":{\"x\":{\"__ndarray__\":\"AAAA5UcHd0IAAMBKmgd3QgAAgLDsB3dCAABAFj8Id0IAAAB8kQh3QgAAwOHjCHdCAACARzYJd0IAAECtiAl3QgAAABPbCXdCAADAeC0Kd0IAAIDefwp3QgAAQETSCndCAAAAqiQLd0IAAMAPdwt3QgAAgHXJC3dCAABA2xsMd0IAAABBbgx3QgAAwKbADHdCAACADBMNd0IAAEByZQ13QgAAANi3DXdCAADAPQoOd0IAAICjXA53QgAAQAmvDndCAAAAbwEPd0IAAMDUUw93QgAAgDqmD3dCAABAoPgPd0IAAAAGSxB3QgAAwGudEHdCAACA0e8Qd0IAAEA3QhF3QgAAAJ2UEXdCAADAAucRd0IAAIBoORJ3QgAAQM6LEndCAAAANN4Sd0IAAMCZMBN3QgAAgP+CE3dCAABAZdUTd0IAAADLJxR3QgAAwDB6FHdCAACAlswUd0IAAED8HhV3QgAAAGJxFXdCAADAx8MVd0IAAIAtFhZ3QgAAQJNoFndCAAAA+boWd0IAAMBeDRd3QgAAgMRfF3dCAABAKrIXd0IAAACQBBh3QgAAwPVWGHdCAACAW6kYd0IAAEDB+xh3QgAAACdOGXdCAADAjKAZd0IAAIDy8hl3QgAAQFhFGndCAAAAvpcad0IAAMAj6hp3QgAAgIk8G3dCAABA744bd0IAAABV4Rt3QgAAwLozHHdCAACAIIYcd0IAAECG2Bx3QgAAAOwqHXdCAADAUX0dd0IAAIC3zx13QgAAQB0iHndCAAAAg3Qed0IAAMDoxh53QgAAgE4ZH3dCAABAtGsfd0IAAAAavh93QgAAwH8QIHdCAACA5WIgd0IAAEBLtSB3QgAAALEHIXdCAADAFlohd0IAAIB8rCF3QgAAQOL+IXdCAAAASFEid0IAAMCtoyJ3QgAAgBP2IndCAABAeUgjd0IAAADfmiN3QgAAwETtI3dCAACAqj8kd0IAAEAQkiR3QgAAAHbkJHdCAADA2zYld0IAAIBBiSV3QgAAQKfbJXdCAAAADS4md0IAAMBygCZ3QgAAgNjSJndCAABAPiUnd0IAAACkdyd3QgAAwAnKJ3dCAACAbxwod0IAAEDVbih3QgAAADvBKHdCAADAoBMpd0IAAIAGZil3QgAAQGy4KXdCAAAA0goqd0IAAMA3XSp3QgAAgJ2vKndCAABAAwIrd0IAAABpVCt3QgAAwM6mK3dCAACANPkrd0IAAECaSyx3QgAAAACeLHdCAADAZfAsd0IAAIDLQi13QgAAQDGVLXdCAAAAl+ctd0IAAMD8OS53QgAAgGKMLndCAABAyN4ud0IAAAAuMS93QgAAwJODL3dCAACA+dUvd0IAAEBfKDB3QgAAAMV6MHdCAADAKs0wd0IAAICQHzF3QgAAQPZxMXdCAAAAXMQxd0IAAMDBFjJ3QgAAgCdpMndCAABAjbsyd0IAAADzDTN3QgAAwFhgM3dCAACAvrIzd0IAAEAkBTR3QgAAAIpXNHdCAADA76k0d0IAAIBV/DR3QgAAQLtONXdCAAAAIaE1d0IAAMCG8zV3QgAAgOxFNndCAABAUpg2d0IAAAC46jZ3QgAAwB09N3dCAACAg483d0IAAEDp4Td3QgAAAE80OHdCAADAtIY4d0IAAIAa2Th3QgAAQIArOXdCAAAA5n05d0IAAMBL0Dl3QgAAgLEiOndCAABAF3U6d0IAAAB9xzp3QgAAwOIZO3dCAACASGw7d0IAAECuvjt3QgAAABQRPHdCAADAeWM8d0IAAIDftTx3QgAAQEUIPXdCAAAAq1o9d0IAAMAQrT13QgAAgHb/PXdCAABA3FE+d0IAAABCpD53QgAAwKf2PndCAACADUk/d0IAAEBzmz93QgAAANntP3dCAADAPkBAd0IAAICkkkB3QgAAQArlQHdCAAAAcDdBd0IAAMDViUF3Qg==\",\"dtype\":\"float64\",\"shape\":[182]},\"y\":[3,3,3,3,3,6,6,7,14,30,44,54,76,87,102,116,150,200,277,357,436,523,607,724,823,1008,1190,1383,1540,1728,1901,2096,2295,2505,2706,2914,3095,3264,3433,3600,3757,3880,4031,4149,4266,4429,4583,4723,4845,4968,5111,5232,5380,5524,5668,5755,5815,5895,5975,6054,6132,6224,6309,6392,6467,6545,6616,6672,6756,6809,6847,6914,6995,7034,7086,7133,7165,7190,7212,7250,7291,7364,7396,7446,7485,7505,7533,7558,7589,7607,7627,7643,7661,7672,7693,7709,7715,7728,7738,7743,7753,7764,7773,7801,7812,7828,7851,7869,7889,7916,7941,7955,7958,7967,7977,7986,7995,8009,8017,8025,8033,8039,8051,8064,8082,8096,8105,8110,8119,8130,8141,8172,8186,8205,8210,8224,8252,8275,8294,8314,8338,8356,8376,8385,8399,8419,8436,8450,8456,8472,8498,8516,8535,8554,8567,8577,8611,8629,8647,8665,8682,8697,8714,8726,8744,8764,8784,8822,8860,8883,8920,8956,9001,9059,9127,9178,9221,9296,9411,9548,9763,9947]},\"selected\":{\"id\":\"1088\"},\"selection_policy\":{\"id\":\"1087\"}},\"id\":\"1035\",\"type\":\"ColumnDataSource\"},{\"attributes\":{\"items\":[{\"id\":\"1059\"},{\"id\":\"1092\"}],\"location\":\"top_left\"},\"id\":\"1058\",\"type\":\"Legend\"}],\"root_ids\":[\"1002\"]},\"title\":\"Bokeh Application\",\"version\":\"2.0.2\"}};\n",
       "  var render_items = [{\"docid\":\"fafe9701-db2c-417c-8b53-643a236338cf\",\"root_ids\":[\"1002\"],\"roots\":{\"1002\":\"32deba95-cf8c-4754-a7dc-a795359b0d9b\"}}];\n",
       "  root.Bokeh.embed.embed_items_notebook(docs_json, render_items);\n",
       "\n",
       "  }\n",
       "  if (root.Bokeh !== undefined) {\n",
       "    embed_document(root);\n",
       "  } else {\n",
       "    var attempts = 0;\n",
       "    var timer = setInterval(function(root) {\n",
       "      if (root.Bokeh !== undefined) {\n",
       "        clearInterval(timer);\n",
       "        embed_document(root);\n",
       "      } else {\n",
       "        attempts++;\n",
       "        if (attempts > 100) {\n",
       "          clearInterval(timer);\n",
       "          console.log(\"Bokeh: ERROR: Unable to run BokehJS code because BokehJS library is missing\");\n",
       "        }\n",
       "      }\n",
       "    }, 10, root)\n",
       "  }\n",
       "})(window);"
      ],
      "application/vnd.bokehjs_exec.v0+json": ""
     },
     "metadata": {
      "application/vnd.bokehjs_exec.v0+json": {
       "id": "1002"
      }
     },
     "output_type": "display_data"
    }
   ],
   "source": [
    "p_total_cases_positive_Lazio = bokeh_plot_N_lines(x=time_date_new, y_list=[total_cases_Lazio,total_positive_Lazio], \n",
    "                  title='Total Cases & Total Positive: Lazio', \n",
    "                  dim=[600, 450], \n",
    "                  x_label='Date', \n",
    "                  y_label='Total Cases & Total Positive', legend_list=['total cases','total positive'],\n",
    "                  x_label_hover='date', y_label_hover='total cases OR total positive',\n",
    "                  color_list=['blue','red'],legend_location=\"top_left\")\n",
    "\n",
    "output_file(\"total_cases_positive_Lazio.html\")\n",
    "\n",
    "show(p_total_cases_positive_Lazio)"
   ]
  },
  {
   "cell_type": "markdown",
   "metadata": {},
   "source": [
    "------------------\n",
    "\n",
    "### Deaths"
   ]
  },
  {
   "cell_type": "code",
   "execution_count": 17,
   "metadata": {},
   "outputs": [
    {
     "data": {
      "text/plain": [
       "6     0\n",
       "27    0\n",
       "48    0\n",
       "69    0\n",
       "90    0\n",
       "Name: deceduti, dtype: int64"
      ]
     },
     "execution_count": 17,
     "metadata": {},
     "output_type": "execute_result"
    }
   ],
   "source": [
    "deceduti_Lazio = df_Lazio['deceduti']\n",
    "deceduti_Lazio.head()"
   ]
  },
  {
   "cell_type": "markdown",
   "metadata": {},
   "source": [
    "------------------\n",
    "\n",
    "### Recovered"
   ]
  },
  {
   "cell_type": "code",
   "execution_count": 18,
   "metadata": {},
   "outputs": [
    {
     "data": {
      "text/plain": [
       "6     1\n",
       "27    1\n",
       "48    3\n",
       "69    3\n",
       "90    3\n",
       "Name: dimessi_guariti, dtype: int64"
      ]
     },
     "execution_count": 18,
     "metadata": {},
     "output_type": "execute_result"
    }
   ],
   "source": [
    "guariti_Lazio = df_Lazio['dimessi_guariti']\n",
    "guariti_Lazio.head()"
   ]
  },
  {
   "cell_type": "code",
   "execution_count": 19,
   "metadata": {},
   "outputs": [
    {
     "data": {
      "text/html": [
       "\n",
       "\n",
       "\n",
       "\n",
       "\n",
       "\n",
       "  <div class=\"bk-root\" id=\"d27c858f-cdad-4e77-b929-10c2ff46e2d6\" data-root-id=\"1537\"></div>\n"
      ]
     },
     "metadata": {},
     "output_type": "display_data"
    },
    {
     "data": {
      "application/javascript": [
       "(function(root) {\n",
       "  function embed_document(root) {\n",
       "    \n",
       "  var docs_json = {\"01d3a6a1-3d13-4cc2-99b0-f6eafa21510f\":{\"roots\":{\"references\":[{\"attributes\":{\"below\":[{\"id\":\"1548\"}],\"center\":[{\"id\":\"1551\"},{\"id\":\"1555\"},{\"id\":\"1593\"}],\"left\":[{\"id\":\"1552\"}],\"plot_height\":450,\"renderers\":[{\"id\":\"1573\"},{\"id\":\"1598\"},{\"id\":\"1603\"},{\"id\":\"1631\"}],\"title\":{\"id\":\"1538\"},\"toolbar\":{\"id\":\"1563\"},\"x_range\":{\"id\":\"1540\"},\"x_scale\":{\"id\":\"1544\"},\"y_range\":{\"id\":\"1542\"},\"y_scale\":{\"id\":\"1546\"}},\"id\":\"1537\",\"subtype\":\"Figure\",\"type\":\"Plot\"},{\"attributes\":{\"source\":{\"id\":\"1570\"}},\"id\":\"1574\",\"type\":\"CDSView\"},{\"attributes\":{\"source\":{\"id\":\"1600\"}},\"id\":\"1604\",\"type\":\"CDSView\"},{\"attributes\":{\"fill_alpha\":{\"value\":0.1},\"fill_color\":{\"value\":\"white\"},\"line_alpha\":{\"value\":0.1},\"line_color\":{\"value\":\"green\"},\"size\":{\"units\":\"screen\",\"value\":5},\"x\":{\"field\":\"x\"},\"y\":{\"field\":\"y\"}},\"id\":\"1630\",\"type\":\"Circle\"},{\"attributes\":{\"months\":[0,2,4,6,8,10]},\"id\":\"1588\",\"type\":\"MonthsTicker\"},{\"attributes\":{\"data_source\":{\"id\":\"1595\"},\"glyph\":{\"id\":\"1596\"},\"hover_glyph\":null,\"muted_glyph\":null,\"nonselection_glyph\":{\"id\":\"1597\"},\"selection_glyph\":null,\"view\":{\"id\":\"1599\"}},\"id\":\"1598\",\"type\":\"GlyphRenderer\"},{\"attributes\":{},\"id\":\"1540\",\"type\":\"DataRange1d\"},{\"attributes\":{\"data\":{\"x\":{\"__ndarray__\":\"AAAA5UcHd0IAAMBKmgd3QgAAgLDsB3dCAABAFj8Id0IAAAB8kQh3QgAAwOHjCHdCAACARzYJd0IAAECtiAl3QgAAABPbCXdCAADAeC0Kd0IAAIDefwp3QgAAQETSCndCAAAAqiQLd0IAAMAPdwt3QgAAgHXJC3dCAABA2xsMd0IAAABBbgx3QgAAwKbADHdCAACADBMNd0IAAEByZQ13QgAAANi3DXdCAADAPQoOd0IAAICjXA53QgAAQAmvDndCAAAAbwEPd0IAAMDUUw93QgAAgDqmD3dCAABAoPgPd0IAAAAGSxB3QgAAwGudEHdCAACA0e8Qd0IAAEA3QhF3QgAAAJ2UEXdCAADAAucRd0IAAIBoORJ3QgAAQM6LEndCAAAANN4Sd0IAAMCZMBN3QgAAgP+CE3dCAABAZdUTd0IAAADLJxR3QgAAwDB6FHdCAACAlswUd0IAAED8HhV3QgAAAGJxFXdCAADAx8MVd0IAAIAtFhZ3QgAAQJNoFndCAAAA+boWd0IAAMBeDRd3QgAAgMRfF3dCAABAKrIXd0IAAACQBBh3QgAAwPVWGHdCAACAW6kYd0IAAEDB+xh3QgAAACdOGXdCAADAjKAZd0IAAIDy8hl3QgAAQFhFGndCAAAAvpcad0IAAMAj6hp3QgAAgIk8G3dCAABA744bd0IAAABV4Rt3QgAAwLozHHdCAACAIIYcd0IAAECG2Bx3QgAAAOwqHXdCAADAUX0dd0IAAIC3zx13QgAAQB0iHndCAAAAg3Qed0IAAMDoxh53QgAAgE4ZH3dCAABAtGsfd0IAAAAavh93QgAAwH8QIHdCAACA5WIgd0IAAEBLtSB3QgAAALEHIXdCAADAFlohd0IAAIB8rCF3QgAAQOL+IXdCAAAASFEid0IAAMCtoyJ3QgAAgBP2IndCAABAeUgjd0IAAADfmiN3QgAAwETtI3dCAACAqj8kd0IAAEAQkiR3QgAAAHbkJHdCAADA2zYld0IAAIBBiSV3QgAAQKfbJXdCAAAADS4md0IAAMBygCZ3QgAAgNjSJndCAABAPiUnd0IAAACkdyd3QgAAwAnKJ3dCAACAbxwod0IAAEDVbih3QgAAADvBKHdCAADAoBMpd0IAAIAGZil3QgAAQGy4KXdCAAAA0goqd0IAAMA3XSp3QgAAgJ2vKndCAABAAwIrd0IAAABpVCt3QgAAwM6mK3dCAACANPkrd0IAAECaSyx3QgAAAACeLHdCAADAZfAsd0IAAIDLQi13QgAAQDGVLXdCAAAAl+ctd0IAAMD8OS53QgAAgGKMLndCAABAyN4ud0IAAAAuMS93QgAAwJODL3dCAACA+dUvd0IAAEBfKDB3QgAAAMV6MHdCAADAKs0wd0IAAICQHzF3QgAAQPZxMXdCAAAAXMQxd0IAAMDBFjJ3QgAAgCdpMndCAABAjbsyd0IAAADzDTN3QgAAwFhgM3dCAACAvrIzd0IAAEAkBTR3QgAAAIpXNHdCAADA76k0d0IAAIBV/DR3QgAAQLtONXdCAAAAIaE1d0IAAMCG8zV3QgAAgOxFNndCAABAUpg2d0IAAAC46jZ3QgAAwB09N3dCAACAg483d0IAAEDp4Td3QgAAAE80OHdCAADAtIY4d0IAAIAa2Th3QgAAQIArOXdCAAAA5n05d0IAAMBL0Dl3QgAAgLEiOndCAABAF3U6d0IAAAB9xzp3QgAAwOIZO3dCAACASGw7d0IAAECuvjt3QgAAABQRPHdCAADAeWM8d0IAAIDftTx3QgAAQEUIPXdCAAAAq1o9d0IAAMAQrT13QgAAgHb/PXdCAABA3FE+d0IAAABCpD53QgAAwKf2PndCAACADUk/d0IAAEBzmz93QgAAANntP3dCAADAPkBAd0IAAICkkkB3QgAAQArlQHdCAAAAcDdBd0IAAMDViUF3Qg==\",\"dtype\":\"float64\",\"shape\":[182]},\"y\":[0,0,0,0,0,0,0,0,0,0,0,1,1,3,5,6,6,9,11,13,16,19,23,32,38,43,50,53,63,80,95,106,118,124,136,150,162,169,185,199,212,219,229,238,244,253,263,273,279,284,300,311,316,332,340,341,349,363,370,375,384,387,389,397,414,431,441,482,497,508,524,534,538,543,549,553,557,562,566,577,595,604,616,622,628,640,647,662,669,676,684,688,693,701,708,721,728,735,739,741,747,750,754,758,760,763,766,770,776,781,806,808,811,814,818,822,826,827,827,830,832,833,835,836,837,837,837,837,839,839,840,841,841,842,842,842,843,844,844,844,845,846,847,848,849,850,851,851,853,855,856,857,858,860,861,862,862,863,863,863,863,864,864,865,865,865,866,866,867,867,868,869,870,870,870,870,871,871,872,873,873,874]},\"selected\":{\"id\":\"1623\"},\"selection_policy\":{\"id\":\"1622\"}},\"id\":\"1570\",\"type\":\"ColumnDataSource\"},{\"attributes\":{},\"id\":\"1591\",\"type\":\"YearsTicker\"},{\"attributes\":{\"text\":\"Deaths & Recovered: Lazio\"},\"id\":\"1538\",\"type\":\"Title\"},{\"attributes\":{\"fill_alpha\":{\"value\":0.1},\"fill_color\":{\"value\":\"white\"},\"line_alpha\":{\"value\":0.1},\"line_color\":{\"value\":\"darkviolet\"},\"size\":{\"units\":\"screen\",\"value\":5},\"x\":{\"field\":\"x\"},\"y\":{\"field\":\"y\"}},\"id\":\"1597\",\"type\":\"Circle\"},{\"attributes\":{},\"id\":\"1624\",\"type\":\"UnionRenderers\"},{\"attributes\":{},\"id\":\"1556\",\"type\":\"PanTool\"},{\"attributes\":{\"fill_color\":{\"value\":\"white\"},\"line_color\":{\"value\":\"green\"},\"size\":{\"units\":\"screen\",\"value\":5},\"x\":{\"field\":\"x\"},\"y\":{\"field\":\"y\"}},\"id\":\"1629\",\"type\":\"Circle\"},{\"attributes\":{},\"id\":\"1557\",\"type\":\"WheelZoomTool\"},{\"attributes\":{},\"id\":\"1684\",\"type\":\"UnionRenderers\"},{\"attributes\":{},\"id\":\"1682\",\"type\":\"UnionRenderers\"},{\"attributes\":{\"bottom_units\":\"screen\",\"fill_alpha\":0.5,\"fill_color\":\"lightgrey\",\"left_units\":\"screen\",\"level\":\"overlay\",\"line_alpha\":1.0,\"line_color\":\"black\",\"line_dash\":[4,4],\"line_width\":2,\"render_mode\":\"css\",\"right_units\":\"screen\",\"top_units\":\"screen\"},\"id\":\"1562\",\"type\":\"BoxAnnotation\"},{\"attributes\":{\"data_source\":{\"id\":\"1600\"},\"glyph\":{\"id\":\"1601\"},\"hover_glyph\":null,\"muted_glyph\":null,\"nonselection_glyph\":{\"id\":\"1602\"},\"selection_glyph\":null,\"view\":{\"id\":\"1604\"}},\"id\":\"1603\",\"type\":\"GlyphRenderer\"},{\"attributes\":{\"overlay\":{\"id\":\"1562\"}},\"id\":\"1558\",\"type\":\"BoxZoomTool\"},{\"attributes\":{},\"id\":\"1623\",\"type\":\"Selection\"},{\"attributes\":{\"source\":{\"id\":\"1595\"}},\"id\":\"1599\",\"type\":\"CDSView\"},{\"attributes\":{\"label\":{\"value\":\"recovered\"},\"renderers\":[{\"id\":\"1603\"}]},\"id\":\"1627\",\"type\":\"LegendItem\"},{\"attributes\":{},\"id\":\"1559\",\"type\":\"SaveTool\"},{\"attributes\":{},\"id\":\"1683\",\"type\":\"Selection\"},{\"attributes\":{},\"id\":\"1542\",\"type\":\"DataRange1d\"},{\"attributes\":{},\"id\":\"1560\",\"type\":\"ResetTool\"},{\"attributes\":{},\"id\":\"1544\",\"type\":\"LinearScale\"},{\"attributes\":{},\"id\":\"1685\",\"type\":\"Selection\"},{\"attributes\":{\"data_source\":{\"id\":\"1570\"},\"glyph\":{\"id\":\"1571\"},\"hover_glyph\":null,\"muted_glyph\":null,\"nonselection_glyph\":{\"id\":\"1572\"},\"selection_glyph\":null,\"view\":{\"id\":\"1574\"}},\"id\":\"1573\",\"type\":\"GlyphRenderer\"},{\"attributes\":{},\"id\":\"1561\",\"type\":\"HelpTool\"},{\"attributes\":{},\"id\":\"1625\",\"type\":\"Selection\"},{\"attributes\":{\"mantissas\":[1,2,5],\"max_interval\":500.0,\"num_minor_ticks\":0},\"id\":\"1580\",\"type\":\"AdaptiveTicker\"},{\"attributes\":{},\"id\":\"1622\",\"type\":\"UnionRenderers\"},{\"attributes\":{},\"id\":\"1546\",\"type\":\"LinearScale\"},{\"attributes\":{\"active_drag\":\"auto\",\"active_inspect\":\"auto\",\"active_multi\":null,\"active_scroll\":\"auto\",\"active_tap\":\"auto\",\"tools\":[{\"id\":\"1556\"},{\"id\":\"1557\"},{\"id\":\"1558\"},{\"id\":\"1559\"},{\"id\":\"1560\"},{\"id\":\"1561\"},{\"id\":\"1637\"}]},\"id\":\"1563\",\"type\":\"Toolbar\"},{\"attributes\":{\"months\":[0,4,8]},\"id\":\"1589\",\"type\":\"MonthsTicker\"},{\"attributes\":{\"data_source\":{\"id\":\"1628\"},\"glyph\":{\"id\":\"1629\"},\"hover_glyph\":null,\"muted_glyph\":null,\"nonselection_glyph\":{\"id\":\"1630\"},\"selection_glyph\":null,\"view\":{\"id\":\"1632\"}},\"id\":\"1631\",\"type\":\"GlyphRenderer\"},{\"attributes\":{\"axis_label\":\"Date\",\"formatter\":{\"id\":\"1633\"},\"major_label_orientation\":0.7853981633974483,\"minor_tick_in\":-5,\"minor_tick_out\":-3,\"ticker\":{\"id\":\"1549\"}},\"id\":\"1548\",\"type\":\"DatetimeAxis\"},{\"attributes\":{\"data\":{\"x\":{\"__ndarray__\":\"AAAA5UcHd0IAAMBKmgd3QgAAgLDsB3dCAABAFj8Id0IAAAB8kQh3QgAAwOHjCHdCAACARzYJd0IAAECtiAl3QgAAABPbCXdCAADAeC0Kd0IAAIDefwp3QgAAQETSCndCAAAAqiQLd0IAAMAPdwt3QgAAgHXJC3dCAABA2xsMd0IAAABBbgx3QgAAwKbADHdCAACADBMNd0IAAEByZQ13QgAAANi3DXdCAADAPQoOd0IAAICjXA53QgAAQAmvDndCAAAAbwEPd0IAAMDUUw93QgAAgDqmD3dCAABAoPgPd0IAAAAGSxB3QgAAwGudEHdCAACA0e8Qd0IAAEA3QhF3QgAAAJ2UEXdCAADAAucRd0IAAIBoORJ3QgAAQM6LEndCAAAANN4Sd0IAAMCZMBN3QgAAgP+CE3dCAABAZdUTd0IAAADLJxR3QgAAwDB6FHdCAACAlswUd0IAAED8HhV3QgAAAGJxFXdCAADAx8MVd0IAAIAtFhZ3QgAAQJNoFndCAAAA+boWd0IAAMBeDRd3QgAAgMRfF3dCAABAKrIXd0IAAACQBBh3QgAAwPVWGHdCAACAW6kYd0IAAEDB+xh3QgAAACdOGXdCAADAjKAZd0IAAIDy8hl3QgAAQFhFGndCAAAAvpcad0IAAMAj6hp3QgAAgIk8G3dCAABA744bd0IAAABV4Rt3QgAAwLozHHdCAACAIIYcd0IAAECG2Bx3QgAAAOwqHXdCAADAUX0dd0IAAIC3zx13QgAAQB0iHndCAAAAg3Qed0IAAMDoxh53QgAAgE4ZH3dCAABAtGsfd0IAAAAavh93QgAAwH8QIHdCAACA5WIgd0IAAEBLtSB3QgAAALEHIXdCAADAFlohd0IAAIB8rCF3QgAAQOL+IXdCAAAASFEid0IAAMCtoyJ3QgAAgBP2IndCAABAeUgjd0IAAADfmiN3QgAAwETtI3dCAACAqj8kd0IAAEAQkiR3QgAAAHbkJHdCAADA2zYld0IAAIBBiSV3QgAAQKfbJXdCAAAADS4md0IAAMBygCZ3QgAAgNjSJndCAABAPiUnd0IAAACkdyd3QgAAwAnKJ3dCAACAbxwod0IAAEDVbih3QgAAADvBKHdCAADAoBMpd0IAAIAGZil3QgAAQGy4KXdCAAAA0goqd0IAAMA3XSp3QgAAgJ2vKndCAABAAwIrd0IAAABpVCt3QgAAwM6mK3dCAACANPkrd0IAAECaSyx3QgAAAACeLHdCAADAZfAsd0IAAIDLQi13QgAAQDGVLXdCAAAAl+ctd0IAAMD8OS53QgAAgGKMLndCAABAyN4ud0IAAAAuMS93QgAAwJODL3dCAACA+dUvd0IAAEBfKDB3QgAAAMV6MHdCAADAKs0wd0IAAICQHzF3QgAAQPZxMXdCAAAAXMQxd0IAAMDBFjJ3QgAAgCdpMndCAABAjbsyd0IAAADzDTN3QgAAwFhgM3dCAACAvrIzd0IAAEAkBTR3QgAAAIpXNHdCAADA76k0d0IAAIBV/DR3QgAAQLtONXdCAAAAIaE1d0IAAMCG8zV3QgAAgOxFNndCAABAUpg2d0IAAAC46jZ3QgAAwB09N3dCAACAg483d0IAAEDp4Td3QgAAAE80OHdCAADAtIY4d0IAAIAa2Th3QgAAQIArOXdCAAAA5n05d0IAAMBL0Dl3QgAAgLEiOndCAABAF3U6d0IAAAB9xzp3QgAAwOIZO3dCAACASGw7d0IAAECuvjt3QgAAABQRPHdCAADAeWM8d0IAAIDftTx3QgAAQEUIPXdCAAAAq1o9d0IAAMAQrT13QgAAgHb/PXdCAABA3FE+d0IAAABCpD53QgAAwKf2PndCAACADUk/d0IAAEBzmz93QgAAANntP3dCAADAPkBAd0IAAICkkkB3QgAAQArlQHdCAAAAcDdBd0IAAMDViUF3Qg==\",\"dtype\":\"float64\",\"shape\":[182]},\"y\":[0,0,0,0,0,0,0,0,0,0,0,1,1,3,5,6,6,9,11,13,16,19,23,32,38,43,50,53,63,80,95,106,118,124,136,150,162,169,185,199,212,219,229,238,244,253,263,273,279,284,300,311,316,332,340,341,349,363,370,375,384,387,389,397,414,431,441,482,497,508,524,534,538,543,549,553,557,562,566,577,595,604,616,622,628,640,647,662,669,676,684,688,693,701,708,721,728,735,739,741,747,750,754,758,760,763,766,770,776,781,806,808,811,814,818,822,826,827,827,830,832,833,835,836,837,837,837,837,839,839,840,841,841,842,842,842,843,844,844,844,845,846,847,848,849,850,851,851,853,855,856,857,858,860,861,862,862,863,863,863,863,864,864,865,865,865,866,866,867,867,868,869,870,870,870,870,871,871,872,873,873,874]},\"selected\":{\"id\":\"1625\"},\"selection_policy\":{\"id\":\"1624\"}},\"id\":\"1595\",\"type\":\"ColumnDataSource\"},{\"attributes\":{\"use_scientific\":false},\"id\":\"1635\",\"type\":\"BasicTickFormatter\"},{\"attributes\":{},\"id\":\"1553\",\"type\":\"BasicTicker\"},{\"attributes\":{\"months\":[0,6]},\"id\":\"1590\",\"type\":\"MonthsTicker\"},{\"attributes\":{\"num_minor_ticks\":5,\"tickers\":[{\"id\":\"1580\"},{\"id\":\"1581\"},{\"id\":\"1582\"},{\"id\":\"1583\"},{\"id\":\"1584\"},{\"id\":\"1585\"},{\"id\":\"1586\"},{\"id\":\"1587\"},{\"id\":\"1588\"},{\"id\":\"1589\"},{\"id\":\"1590\"},{\"id\":\"1591\"}]},\"id\":\"1549\",\"type\":\"DatetimeTicker\"},{\"attributes\":{\"line_color\":\"green\",\"line_width\":4,\"x\":{\"field\":\"x\"},\"y\":{\"field\":\"y\"}},\"id\":\"1601\",\"type\":\"Line\"},{\"attributes\":{\"line_alpha\":0.1,\"line_color\":\"green\",\"line_width\":4,\"x\":{\"field\":\"x\"},\"y\":{\"field\":\"y\"}},\"id\":\"1602\",\"type\":\"Line\"},{\"attributes\":{\"data\":{\"x\":{\"__ndarray__\":\"AAAA5UcHd0IAAMBKmgd3QgAAgLDsB3dCAABAFj8Id0IAAAB8kQh3QgAAwOHjCHdCAACARzYJd0IAAECtiAl3QgAAABPbCXdCAADAeC0Kd0IAAIDefwp3QgAAQETSCndCAAAAqiQLd0IAAMAPdwt3QgAAgHXJC3dCAABA2xsMd0IAAABBbgx3QgAAwKbADHdCAACADBMNd0IAAEByZQ13QgAAANi3DXdCAADAPQoOd0IAAICjXA53QgAAQAmvDndCAAAAbwEPd0IAAMDUUw93QgAAgDqmD3dCAABAoPgPd0IAAAAGSxB3QgAAwGudEHdCAACA0e8Qd0IAAEA3QhF3QgAAAJ2UEXdCAADAAucRd0IAAIBoORJ3QgAAQM6LEndCAAAANN4Sd0IAAMCZMBN3QgAAgP+CE3dCAABAZdUTd0IAAADLJxR3QgAAwDB6FHdCAACAlswUd0IAAED8HhV3QgAAAGJxFXdCAADAx8MVd0IAAIAtFhZ3QgAAQJNoFndCAAAA+boWd0IAAMBeDRd3QgAAgMRfF3dCAABAKrIXd0IAAACQBBh3QgAAwPVWGHdCAACAW6kYd0IAAEDB+xh3QgAAACdOGXdCAADAjKAZd0IAAIDy8hl3QgAAQFhFGndCAAAAvpcad0IAAMAj6hp3QgAAgIk8G3dCAABA744bd0IAAABV4Rt3QgAAwLozHHdCAACAIIYcd0IAAECG2Bx3QgAAAOwqHXdCAADAUX0dd0IAAIC3zx13QgAAQB0iHndCAAAAg3Qed0IAAMDoxh53QgAAgE4ZH3dCAABAtGsfd0IAAAAavh93QgAAwH8QIHdCAACA5WIgd0IAAEBLtSB3QgAAALEHIXdCAADAFlohd0IAAIB8rCF3QgAAQOL+IXdCAAAASFEid0IAAMCtoyJ3QgAAgBP2IndCAABAeUgjd0IAAADfmiN3QgAAwETtI3dCAACAqj8kd0IAAEAQkiR3QgAAAHbkJHdCAADA2zYld0IAAIBBiSV3QgAAQKfbJXdCAAAADS4md0IAAMBygCZ3QgAAgNjSJndCAABAPiUnd0IAAACkdyd3QgAAwAnKJ3dCAACAbxwod0IAAEDVbih3QgAAADvBKHdCAADAoBMpd0IAAIAGZil3QgAAQGy4KXdCAAAA0goqd0IAAMA3XSp3QgAAgJ2vKndCAABAAwIrd0IAAABpVCt3QgAAwM6mK3dCAACANPkrd0IAAECaSyx3QgAAAACeLHdCAADAZfAsd0IAAIDLQi13QgAAQDGVLXdCAAAAl+ctd0IAAMD8OS53QgAAgGKMLndCAABAyN4ud0IAAAAuMS93QgAAwJODL3dCAACA+dUvd0IAAEBfKDB3QgAAAMV6MHdCAADAKs0wd0IAAICQHzF3QgAAQPZxMXdCAAAAXMQxd0IAAMDBFjJ3QgAAgCdpMndCAABAjbsyd0IAAADzDTN3QgAAwFhgM3dCAACAvrIzd0IAAEAkBTR3QgAAAIpXNHdCAADA76k0d0IAAIBV/DR3QgAAQLtONXdCAAAAIaE1d0IAAMCG8zV3QgAAgOxFNndCAABAUpg2d0IAAAC46jZ3QgAAwB09N3dCAACAg483d0IAAEDp4Td3QgAAAE80OHdCAADAtIY4d0IAAIAa2Th3QgAAQIArOXdCAAAA5n05d0IAAMBL0Dl3QgAAgLEiOndCAABAF3U6d0IAAAB9xzp3QgAAwOIZO3dCAACASGw7d0IAAECuvjt3QgAAABQRPHdCAADAeWM8d0IAAIDftTx3QgAAQEUIPXdCAAAAq1o9d0IAAMAQrT13QgAAgHb/PXdCAABA3FE+d0IAAABCpD53QgAAwKf2PndCAACADUk/d0IAAEBzmz93QgAAANntP3dCAADAPkBAd0IAAICkkkB3QgAAQArlQHdCAAAAcDdBd0IAAMDViUF3Qg==\",\"dtype\":\"float64\",\"shape\":[182]},\"y\":[1,1,3,3,3,3,3,3,3,3,3,3,3,3,3,11,19,19,24,24,24,32,34,42,44,53,54,58,63,103,131,155,164,200,208,267,291,337,369,392,439,475,502,546,574,644,687,720,749,764,789,874,920,978,1046,1093,1101,1130,1142,1193,1256,1276,1347,1433,1491,1579,1707,1744,1807,1916,1938,2010,2024,2143,2209,2235,2322,2334,2373,2438,2600,2672,2758,2914,3031,3079,3100,3259,3285,3350,3374,3401,3430,3483,3580,3825,3932,4010,4105,4155,4188,4260,4309,4346,4362,4450,4515,4533,4596,4913,5778,5825,5855,6024,6120,6167,6181,6195,6199,6250,6315,6337,6354,6412,6418,6418,6428,6437,6448,6460,6475,6477,6484,6493,6495,6508,6520,6530,6535,6557,6601,6616,6631,6687,6698,6703,6713,6714,6722,6728,6735,6743,6749,6759,6762,6773,6780,6829,6839,6852,6855,6859,6863,6878,6886,6891,6901,6910,6912,6915,6931,6960,6966,6971,6973,6979,6991,6996,6999,7009,7020,7046]},\"selected\":{\"id\":\"1685\"},\"selection_policy\":{\"id\":\"1684\"}},\"id\":\"1628\",\"type\":\"ColumnDataSource\"},{\"attributes\":{\"days\":[1,2,3,4,5,6,7,8,9,10,11,12,13,14,15,16,17,18,19,20,21,22,23,24,25,26,27,28,29,30,31]},\"id\":\"1583\",\"type\":\"DaysTicker\"},{\"attributes\":{\"axis\":{\"id\":\"1548\"},\"ticker\":null},\"id\":\"1551\",\"type\":\"Grid\"},{\"attributes\":{\"source\":{\"id\":\"1628\"}},\"id\":\"1632\",\"type\":\"CDSView\"},{\"attributes\":{\"line_color\":\"darkviolet\",\"line_width\":4,\"x\":{\"field\":\"x\"},\"y\":{\"field\":\"y\"}},\"id\":\"1571\",\"type\":\"Line\"},{\"attributes\":{\"data\":{\"x\":{\"__ndarray__\":\"AAAA5UcHd0IAAMBKmgd3QgAAgLDsB3dCAABAFj8Id0IAAAB8kQh3QgAAwOHjCHdCAACARzYJd0IAAECtiAl3QgAAABPbCXdCAADAeC0Kd0IAAIDefwp3QgAAQETSCndCAAAAqiQLd0IAAMAPdwt3QgAAgHXJC3dCAABA2xsMd0IAAABBbgx3QgAAwKbADHdCAACADBMNd0IAAEByZQ13QgAAANi3DXdCAADAPQoOd0IAAICjXA53QgAAQAmvDndCAAAAbwEPd0IAAMDUUw93QgAAgDqmD3dCAABAoPgPd0IAAAAGSxB3QgAAwGudEHdCAACA0e8Qd0IAAEA3QhF3QgAAAJ2UEXdCAADAAucRd0IAAIBoORJ3QgAAQM6LEndCAAAANN4Sd0IAAMCZMBN3QgAAgP+CE3dCAABAZdUTd0IAAADLJxR3QgAAwDB6FHdCAACAlswUd0IAAED8HhV3QgAAAGJxFXdCAADAx8MVd0IAAIAtFhZ3QgAAQJNoFndCAAAA+boWd0IAAMBeDRd3QgAAgMRfF3dCAABAKrIXd0IAAACQBBh3QgAAwPVWGHdCAACAW6kYd0IAAEDB+xh3QgAAACdOGXdCAADAjKAZd0IAAIDy8hl3QgAAQFhFGndCAAAAvpcad0IAAMAj6hp3QgAAgIk8G3dCAABA744bd0IAAABV4Rt3QgAAwLozHHdCAACAIIYcd0IAAECG2Bx3QgAAAOwqHXdCAADAUX0dd0IAAIC3zx13QgAAQB0iHndCAAAAg3Qed0IAAMDoxh53QgAAgE4ZH3dCAABAtGsfd0IAAAAavh93QgAAwH8QIHdCAACA5WIgd0IAAEBLtSB3QgAAALEHIXdCAADAFlohd0IAAIB8rCF3QgAAQOL+IXdCAAAASFEid0IAAMCtoyJ3QgAAgBP2IndCAABAeUgjd0IAAADfmiN3QgAAwETtI3dCAACAqj8kd0IAAEAQkiR3QgAAAHbkJHdCAADA2zYld0IAAIBBiSV3QgAAQKfbJXdCAAAADS4md0IAAMBygCZ3QgAAgNjSJndCAABAPiUnd0IAAACkdyd3QgAAwAnKJ3dCAACAbxwod0IAAEDVbih3QgAAADvBKHdCAADAoBMpd0IAAIAGZil3QgAAQGy4KXdCAAAA0goqd0IAAMA3XSp3QgAAgJ2vKndCAABAAwIrd0IAAABpVCt3QgAAwM6mK3dCAACANPkrd0IAAECaSyx3QgAAAACeLHdCAADAZfAsd0IAAIDLQi13QgAAQDGVLXdCAAAAl+ctd0IAAMD8OS53QgAAgGKMLndCAABAyN4ud0IAAAAuMS93QgAAwJODL3dCAACA+dUvd0IAAEBfKDB3QgAAAMV6MHdCAADAKs0wd0IAAICQHzF3QgAAQPZxMXdCAAAAXMQxd0IAAMDBFjJ3QgAAgCdpMndCAABAjbsyd0IAAADzDTN3QgAAwFhgM3dCAACAvrIzd0IAAEAkBTR3QgAAAIpXNHdCAADA76k0d0IAAIBV/DR3QgAAQLtONXdCAAAAIaE1d0IAAMCG8zV3QgAAgOxFNndCAABAUpg2d0IAAAC46jZ3QgAAwB09N3dCAACAg483d0IAAEDp4Td3QgAAAE80OHdCAADAtIY4d0IAAIAa2Th3QgAAQIArOXdCAAAA5n05d0IAAMBL0Dl3QgAAgLEiOndCAABAF3U6d0IAAAB9xzp3QgAAwOIZO3dCAACASGw7d0IAAECuvjt3QgAAABQRPHdCAADAeWM8d0IAAIDftTx3QgAAQEUIPXdCAAAAq1o9d0IAAMAQrT13QgAAgHb/PXdCAABA3FE+d0IAAABCpD53QgAAwKf2PndCAACADUk/d0IAAEBzmz93QgAAANntP3dCAADAPkBAd0IAAICkkkB3QgAAQArlQHdCAAAAcDdBd0IAAMDViUF3Qg==\",\"dtype\":\"float64\",\"shape\":[182]},\"y\":[1,1,3,3,3,3,3,3,3,3,3,3,3,3,3,11,19,19,24,24,24,32,34,42,44,53,54,58,63,103,131,155,164,200,208,267,291,337,369,392,439,475,502,546,574,644,687,720,749,764,789,874,920,978,1046,1093,1101,1130,1142,1193,1256,1276,1347,1433,1491,1579,1707,1744,1807,1916,1938,2010,2024,2143,2209,2235,2322,2334,2373,2438,2600,2672,2758,2914,3031,3079,3100,3259,3285,3350,3374,3401,3430,3483,3580,3825,3932,4010,4105,4155,4188,4260,4309,4346,4362,4450,4515,4533,4596,4913,5778,5825,5855,6024,6120,6167,6181,6195,6199,6250,6315,6337,6354,6412,6418,6418,6428,6437,6448,6460,6475,6477,6484,6493,6495,6508,6520,6530,6535,6557,6601,6616,6631,6687,6698,6703,6713,6714,6722,6728,6735,6743,6749,6759,6762,6773,6780,6829,6839,6852,6855,6859,6863,6878,6886,6891,6901,6910,6912,6915,6931,6960,6966,6971,6973,6979,6991,6996,6999,7009,7020,7046]},\"selected\":{\"id\":\"1683\"},\"selection_policy\":{\"id\":\"1682\"}},\"id\":\"1600\",\"type\":\"ColumnDataSource\"},{\"attributes\":{\"axis\":{\"id\":\"1552\"},\"dimension\":1,\"ticker\":null},\"id\":\"1555\",\"type\":\"Grid\"},{\"attributes\":{\"days\":[\"%d %B\"]},\"id\":\"1633\",\"type\":\"DatetimeTickFormatter\"},{\"attributes\":{\"base\":24,\"mantissas\":[1,2,4,6,8,12],\"max_interval\":43200000.0,\"min_interval\":3600000.0,\"num_minor_ticks\":0},\"id\":\"1582\",\"type\":\"AdaptiveTicker\"},{\"attributes\":{\"days\":[1,15]},\"id\":\"1586\",\"type\":\"DaysTicker\"},{\"attributes\":{\"axis_label\":\"Deaths & Recovered\",\"formatter\":{\"id\":\"1635\"},\"minor_tick_in\":-5,\"minor_tick_out\":-3,\"ticker\":{\"id\":\"1553\"}},\"id\":\"1552\",\"type\":\"LinearAxis\"},{\"attributes\":{\"label\":{\"value\":\"deaths\"},\"renderers\":[{\"id\":\"1573\"}]},\"id\":\"1594\",\"type\":\"LegendItem\"},{\"attributes\":{\"callback\":null,\"formatters\":{\"@x\":\"datetime\"},\"mode\":\"vline\",\"tooltips\":[[\"date\",\"@x{%d %B}\"],[\"deaths OR recovered\",\"@y{0[.]000}\"]]},\"id\":\"1637\",\"type\":\"HoverTool\"},{\"attributes\":{\"days\":[1,8,15,22]},\"id\":\"1585\",\"type\":\"DaysTicker\"},{\"attributes\":{\"days\":[1,4,7,10,13,16,19,22,25,28]},\"id\":\"1584\",\"type\":\"DaysTicker\"},{\"attributes\":{\"months\":[0,1,2,3,4,5,6,7,8,9,10,11]},\"id\":\"1587\",\"type\":\"MonthsTicker\"},{\"attributes\":{\"fill_color\":{\"value\":\"white\"},\"line_color\":{\"value\":\"darkviolet\"},\"size\":{\"units\":\"screen\",\"value\":5},\"x\":{\"field\":\"x\"},\"y\":{\"field\":\"y\"}},\"id\":\"1596\",\"type\":\"Circle\"},{\"attributes\":{\"base\":60,\"mantissas\":[1,2,5,10,15,20,30],\"max_interval\":1800000.0,\"min_interval\":1000.0,\"num_minor_ticks\":0},\"id\":\"1581\",\"type\":\"AdaptiveTicker\"},{\"attributes\":{\"line_alpha\":0.1,\"line_color\":\"darkviolet\",\"line_width\":4,\"x\":{\"field\":\"x\"},\"y\":{\"field\":\"y\"}},\"id\":\"1572\",\"type\":\"Line\"},{\"attributes\":{\"items\":[{\"id\":\"1594\"},{\"id\":\"1627\"}],\"location\":\"top_left\"},\"id\":\"1593\",\"type\":\"Legend\"}],\"root_ids\":[\"1537\"]},\"title\":\"Bokeh Application\",\"version\":\"2.0.2\"}};\n",
       "  var render_items = [{\"docid\":\"01d3a6a1-3d13-4cc2-99b0-f6eafa21510f\",\"root_ids\":[\"1537\"],\"roots\":{\"1537\":\"d27c858f-cdad-4e77-b929-10c2ff46e2d6\"}}];\n",
       "  root.Bokeh.embed.embed_items_notebook(docs_json, render_items);\n",
       "\n",
       "  }\n",
       "  if (root.Bokeh !== undefined) {\n",
       "    embed_document(root);\n",
       "  } else {\n",
       "    var attempts = 0;\n",
       "    var timer = setInterval(function(root) {\n",
       "      if (root.Bokeh !== undefined) {\n",
       "        clearInterval(timer);\n",
       "        embed_document(root);\n",
       "      } else {\n",
       "        attempts++;\n",
       "        if (attempts > 100) {\n",
       "          clearInterval(timer);\n",
       "          console.log(\"Bokeh: ERROR: Unable to run BokehJS code because BokehJS library is missing\");\n",
       "        }\n",
       "      }\n",
       "    }, 10, root)\n",
       "  }\n",
       "})(window);"
      ],
      "application/vnd.bokehjs_exec.v0+json": ""
     },
     "metadata": {
      "application/vnd.bokehjs_exec.v0+json": {
       "id": "1537"
      }
     },
     "output_type": "display_data"
    }
   ],
   "source": [
    "p_deaths_recovered_Lazio = bokeh_plot_N_lines(x=time_date_new, y_list=[deceduti_Lazio,guariti_Lazio], \n",
    "                  title='Deaths & Recovered: Lazio', \n",
    "                  dim=[600, 450], \n",
    "                  x_label='Date', \n",
    "                  y_label='Deaths & Recovered', legend_list=['deaths','recovered'],\n",
    "                  x_label_hover='date', y_label_hover='deaths OR recovered',\n",
    "                  color_list=['darkviolet','green'],legend_location=\"top_left\")\n",
    "\n",
    "output_file(\"deaths_recovered_Lazio.html\")\n",
    "\n",
    "show(p_deaths_recovered_Lazio)"
   ]
  },
  {
   "cell_type": "markdown",
   "metadata": {},
   "source": [
    "------------------\n",
    "\n",
    "### New Positive"
   ]
  },
  {
   "cell_type": "code",
   "execution_count": 20,
   "metadata": {},
   "outputs": [
    {
     "data": {
      "text/plain": [
       "6     2\n",
       "27    0\n",
       "48    0\n",
       "69    0\n",
       "90    0\n",
       "Name: nuovi_positivi, dtype: int64"
      ]
     },
     "execution_count": 20,
     "metadata": {},
     "output_type": "execute_result"
    }
   ],
   "source": [
    "nuovi_positivi_Lazio = df_Lazio['nuovi_positivi']\n",
    "nuovi_positivi_Lazio.head()"
   ]
  },
  {
   "cell_type": "code",
   "execution_count": 21,
   "metadata": {},
   "outputs": [
    {
     "data": {
      "text/html": [
       "<div>\n",
       "<style scoped>\n",
       "    .dataframe tbody tr th:only-of-type {\n",
       "        vertical-align: middle;\n",
       "    }\n",
       "\n",
       "    .dataframe tbody tr th {\n",
       "        vertical-align: top;\n",
       "    }\n",
       "\n",
       "    .dataframe thead th {\n",
       "        text-align: right;\n",
       "    }\n",
       "</style>\n",
       "<table border=\"1\" class=\"dataframe\">\n",
       "  <thead>\n",
       "    <tr style=\"text-align: right;\">\n",
       "      <th></th>\n",
       "      <th>nuovi_positivi</th>\n",
       "    </tr>\n",
       "  </thead>\n",
       "  <tbody>\n",
       "    <tr>\n",
       "      <th>6</th>\n",
       "      <td>NaN</td>\n",
       "    </tr>\n",
       "    <tr>\n",
       "      <th>27</th>\n",
       "      <td>NaN</td>\n",
       "    </tr>\n",
       "    <tr>\n",
       "      <th>48</th>\n",
       "      <td>NaN</td>\n",
       "    </tr>\n",
       "    <tr>\n",
       "      <th>69</th>\n",
       "      <td>NaN</td>\n",
       "    </tr>\n",
       "    <tr>\n",
       "      <th>90</th>\n",
       "      <td>NaN</td>\n",
       "    </tr>\n",
       "  </tbody>\n",
       "</table>\n",
       "</div>"
      ],
      "text/plain": [
       "    nuovi_positivi\n",
       "6              NaN\n",
       "27             NaN\n",
       "48             NaN\n",
       "69             NaN\n",
       "90             NaN"
      ]
     },
     "execution_count": 21,
     "metadata": {},
     "output_type": "execute_result"
    }
   ],
   "source": [
    "new_positive_Lazio_df = pd.DataFrame(nuovi_positivi_Lazio)\n",
    "\n",
    "SMA_new_positive_Lazio = new_positive_Lazio_df[:].rolling(window=7).mean()\n",
    "SMA_new_positive_Lazio_2 = new_positive_Lazio_df[:].rolling(window=14).mean()\n",
    "SMA_new_positive_Lazio.head()"
   ]
  },
  {
   "cell_type": "code",
   "execution_count": 22,
   "metadata": {},
   "outputs": [
    {
     "data": {
      "text/html": [
       "\n",
       "\n",
       "\n",
       "\n",
       "\n",
       "\n",
       "  <div class=\"bk-root\" id=\"4b07938d-2075-4438-a498-00a84b43ab68\" data-root-id=\"2144\"></div>\n"
      ]
     },
     "metadata": {},
     "output_type": "display_data"
    },
    {
     "data": {
      "application/javascript": [
       "(function(root) {\n",
       "  function embed_document(root) {\n",
       "    \n",
       "  var docs_json = {\"0cd09f90-ce7a-4cbe-b5c0-40e25545c164\":{\"roots\":{\"references\":[{\"attributes\":{\"below\":[{\"id\":\"2155\"}],\"center\":[{\"id\":\"2158\"},{\"id\":\"2162\"},{\"id\":\"2200\"}],\"left\":[{\"id\":\"2159\"}],\"plot_height\":450,\"renderers\":[{\"id\":\"2180\"},{\"id\":\"2205\"},{\"id\":\"2210\"},{\"id\":\"2238\"}],\"title\":{\"id\":\"2145\"},\"toolbar\":{\"id\":\"2170\"},\"x_range\":{\"id\":\"2147\"},\"x_scale\":{\"id\":\"2151\"},\"y_range\":{\"id\":\"2149\"},\"y_scale\":{\"id\":\"2153\"}},\"id\":\"2144\",\"subtype\":\"Figure\",\"type\":\"Plot\"},{\"attributes\":{\"days\":[1,2,3,4,5,6,7,8,9,10,11,12,13,14,15,16,17,18,19,20,21,22,23,24,25,26,27,28,29,30,31]},\"id\":\"2190\",\"type\":\"DaysTicker\"},{\"attributes\":{\"months\":[0,6]},\"id\":\"2197\",\"type\":\"MonthsTicker\"},{\"attributes\":{},\"id\":\"2315\",\"type\":\"UnionRenderers\"},{\"attributes\":{\"source\":{\"id\":\"2177\"}},\"id\":\"2181\",\"type\":\"CDSView\"},{\"attributes\":{},\"id\":\"2153\",\"type\":\"LinearScale\"},{\"attributes\":{\"data\":{\"x\":{\"__ndarray__\":\"AAAA5UcHd0IAAMBKmgd3QgAAgLDsB3dCAABAFj8Id0IAAAB8kQh3QgAAwOHjCHdCAACARzYJd0IAAECtiAl3QgAAABPbCXdCAADAeC0Kd0IAAIDefwp3QgAAQETSCndCAAAAqiQLd0IAAMAPdwt3QgAAgHXJC3dCAABA2xsMd0IAAABBbgx3QgAAwKbADHdCAACADBMNd0IAAEByZQ13QgAAANi3DXdCAADAPQoOd0IAAICjXA53QgAAQAmvDndCAAAAbwEPd0IAAMDUUw93QgAAgDqmD3dCAABAoPgPd0IAAAAGSxB3QgAAwGudEHdCAACA0e8Qd0IAAEA3QhF3QgAAAJ2UEXdCAADAAucRd0IAAIBoORJ3QgAAQM6LEndCAAAANN4Sd0IAAMCZMBN3QgAAgP+CE3dCAABAZdUTd0IAAADLJxR3QgAAwDB6FHdCAACAlswUd0IAAED8HhV3QgAAAGJxFXdCAADAx8MVd0IAAIAtFhZ3QgAAQJNoFndCAAAA+boWd0IAAMBeDRd3QgAAgMRfF3dCAABAKrIXd0IAAACQBBh3QgAAwPVWGHdCAACAW6kYd0IAAEDB+xh3QgAAACdOGXdCAADAjKAZd0IAAIDy8hl3QgAAQFhFGndCAAAAvpcad0IAAMAj6hp3QgAAgIk8G3dCAABA744bd0IAAABV4Rt3QgAAwLozHHdCAACAIIYcd0IAAECG2Bx3QgAAAOwqHXdCAADAUX0dd0IAAIC3zx13QgAAQB0iHndCAAAAg3Qed0IAAMDoxh53QgAAgE4ZH3dCAABAtGsfd0IAAAAavh93QgAAwH8QIHdCAACA5WIgd0IAAEBLtSB3QgAAALEHIXdCAADAFlohd0IAAIB8rCF3QgAAQOL+IXdCAAAASFEid0IAAMCtoyJ3QgAAgBP2IndCAABAeUgjd0IAAADfmiN3QgAAwETtI3dCAACAqj8kd0IAAEAQkiR3QgAAAHbkJHdCAADA2zYld0IAAIBBiSV3QgAAQKfbJXdCAAAADS4md0IAAMBygCZ3QgAAgNjSJndCAABAPiUnd0IAAACkdyd3QgAAwAnKJ3dCAACAbxwod0IAAEDVbih3QgAAADvBKHdCAADAoBMpd0IAAIAGZil3QgAAQGy4KXdCAAAA0goqd0IAAMA3XSp3QgAAgJ2vKndCAABAAwIrd0IAAABpVCt3QgAAwM6mK3dCAACANPkrd0IAAECaSyx3QgAAAACeLHdCAADAZfAsd0IAAIDLQi13QgAAQDGVLXdCAAAAl+ctd0IAAMD8OS53QgAAgGKMLndCAABAyN4ud0IAAAAuMS93QgAAwJODL3dCAACA+dUvd0IAAEBfKDB3QgAAAMV6MHdCAADAKs0wd0IAAICQHzF3QgAAQPZxMXdCAAAAXMQxd0IAAMDBFjJ3QgAAgCdpMndCAABAjbsyd0IAAADzDTN3QgAAwFhgM3dCAACAvrIzd0IAAEAkBTR3QgAAAIpXNHdCAADA76k0d0IAAIBV/DR3QgAAQLtONXdCAAAAIaE1d0IAAMCG8zV3QgAAgOxFNndCAABAUpg2d0IAAAC46jZ3QgAAwB09N3dCAACAg483d0IAAEDp4Td3QgAAAE80OHdCAADAtIY4d0IAAIAa2Th3QgAAQIArOXdCAAAA5n05d0IAAMBL0Dl3QgAAgLEiOndCAABAF3U6d0IAAAB9xzp3QgAAwOIZO3dCAACASGw7d0IAAECuvjt3QgAAABQRPHdCAADAeWM8d0IAAIDftTx3QgAAQEUIPXdCAAAAq1o9d0IAAMAQrT13QgAAgHb/PXdCAABA3FE+d0IAAABCpD53QgAAwKf2PndCAACADUk/d0IAAEBzmz93QgAAANntP3dCAADAPkBAd0IAAICkkkB3QgAAQArlQHdCAAAAcDdBd0IAAMDViUF3Qg==\",\"dtype\":\"float64\",\"shape\":[182]},\"y\":[2,0,0,0,0,3,0,1,7,16,14,10,22,11,15,14,34,50,77,80,79,87,84,117,99,185,182,193,157,188,173,195,199,210,201,208,181,169,169,167,157,123,151,118,117,163,154,140,122,123,143,121,148,144,144,87,60,80,80,79,78,92,85,83,75,78,71,56,84,53,38,67,81,39,52,47,32,25,22,38,41,73,32,50,39,20,28,25,31,18,20,16,18,11,21,16,6,13,10,5,10,11,9,28,11,16,23,18,20,27,25,14,3,9,10,9,9,14,8,8,8,6,12,13,18,14,9,5,9,11,11,31,14,19,5,14,28,23,19,20,24,18,20,9,14,20,17,14,6,16,26,18,19,19,13,10,34,18,18,18,17,15,17,12,18,20,20,38,38,23,37,36,45,58,68,51,43,75,115,137,215,184]},\"selected\":{\"id\":\"2230\"},\"selection_policy\":{\"id\":\"2229\"}},\"id\":\"2177\",\"type\":\"ColumnDataSource\"},{\"attributes\":{\"base\":60,\"mantissas\":[1,2,5,10,15,20,30],\"max_interval\":1800000.0,\"min_interval\":1000.0,\"num_minor_ticks\":0},\"id\":\"2188\",\"type\":\"AdaptiveTicker\"},{\"attributes\":{\"data_source\":{\"id\":\"2207\"},\"glyph\":{\"id\":\"2208\"},\"hover_glyph\":null,\"muted_glyph\":null,\"nonselection_glyph\":{\"id\":\"2209\"},\"selection_glyph\":null,\"view\":{\"id\":\"2211\"}},\"id\":\"2210\",\"type\":\"GlyphRenderer\"},{\"attributes\":{},\"id\":\"2160\",\"type\":\"BasicTicker\"},{\"attributes\":{},\"id\":\"2316\",\"type\":\"Selection\"},{\"attributes\":{},\"id\":\"2229\",\"type\":\"UnionRenderers\"},{\"attributes\":{},\"id\":\"2314\",\"type\":\"Selection\"},{\"attributes\":{\"axis\":{\"id\":\"2155\"},\"ticker\":null},\"id\":\"2158\",\"type\":\"Grid\"},{\"attributes\":{\"active_drag\":\"auto\",\"active_inspect\":\"auto\",\"active_multi\":null,\"active_scroll\":\"auto\",\"active_tap\":\"auto\",\"tools\":[{\"id\":\"2163\"},{\"id\":\"2164\"},{\"id\":\"2165\"},{\"id\":\"2166\"},{\"id\":\"2167\"},{\"id\":\"2168\"},{\"id\":\"2244\"}]},\"id\":\"2170\",\"type\":\"Toolbar\"},{\"attributes\":{},\"id\":\"2198\",\"type\":\"YearsTicker\"},{\"attributes\":{},\"id\":\"2149\",\"type\":\"DataRange1d\"},{\"attributes\":{\"label\":{\"value\":\"SMA 14 days\"},\"renderers\":[{\"id\":\"2210\"}]},\"id\":\"2234\",\"type\":\"LegendItem\"},{\"attributes\":{\"line_alpha\":0.1,\"line_color\":\"blue\",\"line_width\":4,\"x\":{\"field\":\"x\"},\"y\":{\"field\":\"y\"}},\"id\":\"2179\",\"type\":\"Line\"},{\"attributes\":{\"axis\":{\"id\":\"2159\"},\"dimension\":1,\"ticker\":null},\"id\":\"2162\",\"type\":\"Grid\"},{\"attributes\":{\"axis_label\":\"New Positive\",\"formatter\":{\"id\":\"2242\"},\"minor_tick_in\":-5,\"minor_tick_out\":-3,\"ticker\":{\"id\":\"2160\"}},\"id\":\"2159\",\"type\":\"LinearAxis\"},{\"attributes\":{\"use_scientific\":false},\"id\":\"2242\",\"type\":\"BasicTickFormatter\"},{\"attributes\":{\"axis_label\":\"Date\",\"formatter\":{\"id\":\"2240\"},\"major_label_orientation\":0.7853981633974483,\"minor_tick_in\":-5,\"minor_tick_out\":-3,\"ticker\":{\"id\":\"2156\"}},\"id\":\"2155\",\"type\":\"DatetimeAxis\"},{\"attributes\":{},\"id\":\"2231\",\"type\":\"UnionRenderers\"},{\"attributes\":{\"days\":[1,8,15,22]},\"id\":\"2192\",\"type\":\"DaysTicker\"},{\"attributes\":{},\"id\":\"2230\",\"type\":\"Selection\"},{\"attributes\":{\"data\":{\"x\":{\"__ndarray__\":\"AAAA5UcHd0IAAMBKmgd3QgAAgLDsB3dCAABAFj8Id0IAAAB8kQh3QgAAwOHjCHdCAACARzYJd0IAAECtiAl3QgAAABPbCXdCAADAeC0Kd0IAAIDefwp3QgAAQETSCndCAAAAqiQLd0IAAMAPdwt3QgAAgHXJC3dCAABA2xsMd0IAAABBbgx3QgAAwKbADHdCAACADBMNd0IAAEByZQ13QgAAANi3DXdCAADAPQoOd0IAAICjXA53QgAAQAmvDndCAAAAbwEPd0IAAMDUUw93QgAAgDqmD3dCAABAoPgPd0IAAAAGSxB3QgAAwGudEHdCAACA0e8Qd0IAAEA3QhF3QgAAAJ2UEXdCAADAAucRd0IAAIBoORJ3QgAAQM6LEndCAAAANN4Sd0IAAMCZMBN3QgAAgP+CE3dCAABAZdUTd0IAAADLJxR3QgAAwDB6FHdCAACAlswUd0IAAED8HhV3QgAAAGJxFXdCAADAx8MVd0IAAIAtFhZ3QgAAQJNoFndCAAAA+boWd0IAAMBeDRd3QgAAgMRfF3dCAABAKrIXd0IAAACQBBh3QgAAwPVWGHdCAACAW6kYd0IAAEDB+xh3QgAAACdOGXdCAADAjKAZd0IAAIDy8hl3QgAAQFhFGndCAAAAvpcad0IAAMAj6hp3QgAAgIk8G3dCAABA744bd0IAAABV4Rt3QgAAwLozHHdCAACAIIYcd0IAAECG2Bx3QgAAAOwqHXdCAADAUX0dd0IAAIC3zx13QgAAQB0iHndCAAAAg3Qed0IAAMDoxh53QgAAgE4ZH3dCAABAtGsfd0IAAAAavh93QgAAwH8QIHdCAACA5WIgd0IAAEBLtSB3QgAAALEHIXdCAADAFlohd0IAAIB8rCF3QgAAQOL+IXdCAAAASFEid0IAAMCtoyJ3QgAAgBP2IndCAABAeUgjd0IAAADfmiN3QgAAwETtI3dCAACAqj8kd0IAAEAQkiR3QgAAAHbkJHdCAADA2zYld0IAAIBBiSV3QgAAQKfbJXdCAAAADS4md0IAAMBygCZ3QgAAgNjSJndCAABAPiUnd0IAAACkdyd3QgAAwAnKJ3dCAACAbxwod0IAAEDVbih3QgAAADvBKHdCAADAoBMpd0IAAIAGZil3QgAAQGy4KXdCAAAA0goqd0IAAMA3XSp3QgAAgJ2vKndCAABAAwIrd0IAAABpVCt3QgAAwM6mK3dCAACANPkrd0IAAECaSyx3QgAAAACeLHdCAADAZfAsd0IAAIDLQi13QgAAQDGVLXdCAAAAl+ctd0IAAMD8OS53QgAAgGKMLndCAABAyN4ud0IAAAAuMS93QgAAwJODL3dCAACA+dUvd0IAAEBfKDB3QgAAAMV6MHdCAADAKs0wd0IAAICQHzF3QgAAQPZxMXdCAAAAXMQxd0IAAMDBFjJ3QgAAgCdpMndCAABAjbsyd0IAAADzDTN3QgAAwFhgM3dCAACAvrIzd0IAAEAkBTR3QgAAAIpXNHdCAADA76k0d0IAAIBV/DR3QgAAQLtONXdCAAAAIaE1d0IAAMCG8zV3QgAAgOxFNndCAABAUpg2d0IAAAC46jZ3QgAAwB09N3dCAACAg483d0IAAEDp4Td3QgAAAE80OHdCAADAtIY4d0IAAIAa2Th3QgAAQIArOXdCAAAA5n05d0IAAMBL0Dl3QgAAgLEiOndCAABAF3U6d0IAAAB9xzp3QgAAwOIZO3dCAACASGw7d0IAAECuvjt3QgAAABQRPHdCAADAeWM8d0IAAIDftTx3QgAAQEUIPXdCAAAAq1o9d0IAAMAQrT13QgAAgHb/PXdCAABA3FE+d0IAAABCpD53QgAAwKf2PndCAACADUk/d0IAAEBzmz93QgAAANntP3dCAADAPkBAd0IAAICkkkB3QgAAQArlQHdCAAAAcDdBd0IAAMDViUF3Qg==\",\"dtype\":\"float64\",\"shape\":[182]},\"y\":[2,0,0,0,0,3,0,1,7,16,14,10,22,11,15,14,34,50,77,80,79,87,84,117,99,185,182,193,157,188,173,195,199,210,201,208,181,169,169,167,157,123,151,118,117,163,154,140,122,123,143,121,148,144,144,87,60,80,80,79,78,92,85,83,75,78,71,56,84,53,38,67,81,39,52,47,32,25,22,38,41,73,32,50,39,20,28,25,31,18,20,16,18,11,21,16,6,13,10,5,10,11,9,28,11,16,23,18,20,27,25,14,3,9,10,9,9,14,8,8,8,6,12,13,18,14,9,5,9,11,11,31,14,19,5,14,28,23,19,20,24,18,20,9,14,20,17,14,6,16,26,18,19,19,13,10,34,18,18,18,17,15,17,12,18,20,20,38,38,23,37,36,45,58,68,51,43,75,115,137,215,184]},\"selected\":{\"id\":\"2232\"},\"selection_policy\":{\"id\":\"2231\"}},\"id\":\"2202\",\"type\":\"ColumnDataSource\"},{\"attributes\":{\"fill_color\":{\"value\":\"white\"},\"line_color\":{\"value\":\"blue\"},\"size\":{\"units\":\"screen\",\"value\":5},\"x\":{\"field\":\"x\"},\"y\":{\"field\":\"y\"}},\"id\":\"2203\",\"type\":\"Circle\"},{\"attributes\":{\"source\":{\"id\":\"2235\"}},\"id\":\"2239\",\"type\":\"CDSView\"},{\"attributes\":{\"label\":{\"value\":\"new positive\"},\"renderers\":[{\"id\":\"2180\"}]},\"id\":\"2201\",\"type\":\"LegendItem\"},{\"attributes\":{\"data_source\":{\"id\":\"2202\"},\"glyph\":{\"id\":\"2203\"},\"hover_glyph\":null,\"muted_glyph\":null,\"nonselection_glyph\":{\"id\":\"2204\"},\"selection_glyph\":null,\"view\":{\"id\":\"2206\"}},\"id\":\"2205\",\"type\":\"GlyphRenderer\"},{\"attributes\":{\"data\":{\"x\":{\"__ndarray__\":\"AAAA5UcHd0IAAMBKmgd3QgAAgLDsB3dCAABAFj8Id0IAAAB8kQh3QgAAwOHjCHdCAACARzYJd0IAAECtiAl3QgAAABPbCXdCAADAeC0Kd0IAAIDefwp3QgAAQETSCndCAAAAqiQLd0IAAMAPdwt3QgAAgHXJC3dCAABA2xsMd0IAAABBbgx3QgAAwKbADHdCAACADBMNd0IAAEByZQ13QgAAANi3DXdCAADAPQoOd0IAAICjXA53QgAAQAmvDndCAAAAbwEPd0IAAMDUUw93QgAAgDqmD3dCAABAoPgPd0IAAAAGSxB3QgAAwGudEHdCAACA0e8Qd0IAAEA3QhF3QgAAAJ2UEXdCAADAAucRd0IAAIBoORJ3QgAAQM6LEndCAAAANN4Sd0IAAMCZMBN3QgAAgP+CE3dCAABAZdUTd0IAAADLJxR3QgAAwDB6FHdCAACAlswUd0IAAED8HhV3QgAAAGJxFXdCAADAx8MVd0IAAIAtFhZ3QgAAQJNoFndCAAAA+boWd0IAAMBeDRd3QgAAgMRfF3dCAABAKrIXd0IAAACQBBh3QgAAwPVWGHdCAACAW6kYd0IAAEDB+xh3QgAAACdOGXdCAADAjKAZd0IAAIDy8hl3QgAAQFhFGndCAAAAvpcad0IAAMAj6hp3QgAAgIk8G3dCAABA744bd0IAAABV4Rt3QgAAwLozHHdCAACAIIYcd0IAAECG2Bx3QgAAAOwqHXdCAADAUX0dd0IAAIC3zx13QgAAQB0iHndCAAAAg3Qed0IAAMDoxh53QgAAgE4ZH3dCAABAtGsfd0IAAAAavh93QgAAwH8QIHdCAACA5WIgd0IAAEBLtSB3QgAAALEHIXdCAADAFlohd0IAAIB8rCF3QgAAQOL+IXdCAAAASFEid0IAAMCtoyJ3QgAAgBP2IndCAABAeUgjd0IAAADfmiN3QgAAwETtI3dCAACAqj8kd0IAAEAQkiR3QgAAAHbkJHdCAADA2zYld0IAAIBBiSV3QgAAQKfbJXdCAAAADS4md0IAAMBygCZ3QgAAgNjSJndCAABAPiUnd0IAAACkdyd3QgAAwAnKJ3dCAACAbxwod0IAAEDVbih3QgAAADvBKHdCAADAoBMpd0IAAIAGZil3QgAAQGy4KXdCAAAA0goqd0IAAMA3XSp3QgAAgJ2vKndCAABAAwIrd0IAAABpVCt3QgAAwM6mK3dCAACANPkrd0IAAECaSyx3QgAAAACeLHdCAADAZfAsd0IAAIDLQi13QgAAQDGVLXdCAAAAl+ctd0IAAMD8OS53QgAAgGKMLndCAABAyN4ud0IAAAAuMS93QgAAwJODL3dCAACA+dUvd0IAAEBfKDB3QgAAAMV6MHdCAADAKs0wd0IAAICQHzF3QgAAQPZxMXdCAAAAXMQxd0IAAMDBFjJ3QgAAgCdpMndCAABAjbsyd0IAAADzDTN3QgAAwFhgM3dCAACAvrIzd0IAAEAkBTR3QgAAAIpXNHdCAADA76k0d0IAAIBV/DR3QgAAQLtONXdCAAAAIaE1d0IAAMCG8zV3QgAAgOxFNndCAABAUpg2d0IAAAC46jZ3QgAAwB09N3dCAACAg483d0IAAEDp4Td3QgAAAE80OHdCAADAtIY4d0IAAIAa2Th3QgAAQIArOXdCAAAA5n05d0IAAMBL0Dl3QgAAgLEiOndCAABAF3U6d0IAAAB9xzp3QgAAwOIZO3dCAACASGw7d0IAAECuvjt3QgAAABQRPHdCAADAeWM8d0IAAIDftTx3QgAAQEUIPXdCAAAAq1o9d0IAAMAQrT13QgAAgHb/PXdCAABA3FE+d0IAAABCpD53QgAAwKf2PndCAACADUk/d0IAAEBzmz93QgAAANntP3dCAADAPkBAd0IAAICkkkB3QgAAQArlQHdCAAAAcDdBd0IAAMDViUF3Qg==\",\"dtype\":\"float64\",\"shape\":[182]},\"y\":{\"__ndarray__\":\"AAAAAAAA+H8AAAAAAAD4fwAAAAAAAPh/AAAAAAAA+H8AAAAAAAD4fwAAAAAAAPh/AAAAAAAA+H8AAAAAAAD4fwAAAAAAAPh/AAAAAAAA+H8AAAAAAAD4fwAAAAAAAPh/AAAAAAAA+H8lSZIkSZIYQJIkSZIkSRxASZIkSZIkIEAAAAAAAAAlQEmSJEmSJCxAJUmSJEmSM0AlSZIkSRI5QG7btm3btj5A27Zt27ZtQkDbtm3bti1FQJIkSZIkyUhAJUmSJEnSS0CSJEmSJAlRQEmSJEmS5FNASZIkSZIkV0Dbtm3btq1ZQJIkSZIkyVxASZIkSZJEX0Dbtm3btu1gQEmSJEmSBGJA27Zt27YtY0BJkiRJkkRkQJIkSZIkWWVAbtu2bds2ZkDbtm3btq1mQNu2bdu2TWdASZIkSZIkZ0C3bdu2betmQLdt27ZtS2ZA27Zt27Y9ZkDbtm3btp1lQNu2bdu2HWVASZIkSZLUZEDbtm3btm1kQNu2bdu2zWNAkiRJkiQZY0Bu27Zt21ZiQAAAAAAAAGJAJUmSJEmSYUAlSZIkSWJhQNu2bdu2LWFAAAAAAAAQYUDbtm3btr1gQLdt27Zt219A27Zt27YtX0BJkiRJkoReQEmSJEmSBF1AkiRJkiSpW0Dbtm3bts1aQEmSJEmSJFpA27Zt27ZtWUBu27Zt2zZYQCVJkiRJcldAJUmSJEkSVkAAAAAAAIBUQNu2bdu2bVNAJUmSJEnSUkDbtm3btm1SQCVJkiRJMlJAbtu2bds2UkAAAAAAAIBRQJIkSZIkCVFAt23btm07UEAlSZIkSZJOQAAAAAAAgExAt23btm2bSkDbtm3bti1JQLdt27ZtG0hAbtu2bdu2SEC3bdu2bdtGQAAAAAAAwEZAkiRJkiTJRkC3bdu2bRtFQG7btm3bNkNAbtu2bdu2QkBu27Zt2/ZBQNu2bdu27UBAAAAAAACAQEDbtm3bti1AQJIkSZIkCUBASZIkSZIkPkBu27Zt27Y8QEmSJEmSpDhAkiRJkiTJNkBJkiRJkiQ0QCVJkiRJEjJAAAAAAAAAMUDbtm3btm0vQNu2bdu2bS1AkiRJkiRJKkBu27Zt27YrQNu2bdu2bSpA27Zt27ZtKkBJkiRJkiQrQEmSJEmSJCxAAAAAAAAALEAlSZIkSZItQEmSJEmSJDBAbtu2bds2MEDbtm3btm0vQAAAAAAAADBAAAAAAAAAMEBu27Zt27YvQG7btm3bti9Abtu2bdu2LUCSJEmSJEktQEmSJEmSJCxAAAAAAAAAKkCSJEmSJEkoQEmSJEmSJCdASZIkSZIkJUBJkiRJkiQkQEmSJEmSJCRAAAAAAAAAJUDbtm3btm0kQJIkSZIkSSRAJUmSJEmSJEC3bdu2bdskQJIkSZIkSSdASZIkSZIkKEBu27Zt27YpQJIkSZIkSSlA27Zt27ZtKkBu27Zt27YsQEmSJEmSJC5AkiRJkiRJLkBJkiRJkiQvQEmSJEmSpDBAJUmSJEmSMUC3bdu2bVsyQG7btm3bNjJA27Zt27ZtMkBJkiRJkqQxQLdt27Zt2zFAAAAAAACAMUAlSZIkSZIxQG7btm3btjFAJUmSJEmSMUBu27Zt2zYxQG7btm3bNjFASZIkSZIkMUC3bdu2bVswQCVJkiRJki9AkiRJkiTJMEDbtm3btm0xQG7btm3btjFAJUmSJEmSMUAlSZIkSZIxQEmSJEmSpDFA27Zt27ZtMkBJkiRJkiQyQCVJkiRJkjFAbtu2bdu2MUCSJEmSJMkxQEmSJEmSJDNA27Zt27btNEC3bdu2bds1QCVJkiRJEjZAt23btm1bN0CSJEmSJEk5QEmSJEmSJDxAkiRJkiTJP0Dbtm3bti1BQLdt27ZtG0JAt23btm1bREAlSZIkSdJHQAAAAAAAAExAt23btm17UUBu27Zt2xZUQA==\",\"dtype\":\"float64\",\"shape\":[182]}},\"selected\":{\"id\":\"2316\"},\"selection_policy\":{\"id\":\"2315\"}},\"id\":\"2235\",\"type\":\"ColumnDataSource\"},{\"attributes\":{\"mantissas\":[1,2,5],\"max_interval\":500.0,\"num_minor_ticks\":0},\"id\":\"2187\",\"type\":\"AdaptiveTicker\"},{\"attributes\":{\"months\":[0,1,2,3,4,5,6,7,8,9,10,11]},\"id\":\"2194\",\"type\":\"MonthsTicker\"},{\"attributes\":{\"line_color\":\"lightcoral\",\"line_width\":4,\"x\":{\"field\":\"x\"},\"y\":{\"field\":\"y\"}},\"id\":\"2208\",\"type\":\"Line\"},{\"attributes\":{\"items\":[{\"id\":\"2201\"},{\"id\":\"2234\"}],\"location\":\"top_left\"},\"id\":\"2200\",\"type\":\"Legend\"},{\"attributes\":{\"data_source\":{\"id\":\"2235\"},\"glyph\":{\"id\":\"2236\"},\"hover_glyph\":null,\"muted_glyph\":null,\"nonselection_glyph\":{\"id\":\"2237\"},\"selection_glyph\":null,\"view\":{\"id\":\"2239\"}},\"id\":\"2238\",\"type\":\"GlyphRenderer\"},{\"attributes\":{\"source\":{\"id\":\"2207\"}},\"id\":\"2211\",\"type\":\"CDSView\"},{\"attributes\":{\"months\":[0,4,8]},\"id\":\"2196\",\"type\":\"MonthsTicker\"},{\"attributes\":{\"line_color\":\"blue\",\"line_width\":4,\"x\":{\"field\":\"x\"},\"y\":{\"field\":\"y\"}},\"id\":\"2178\",\"type\":\"Line\"},{\"attributes\":{\"fill_alpha\":{\"value\":0.1},\"fill_color\":{\"value\":\"white\"},\"line_alpha\":{\"value\":0.1},\"line_color\":{\"value\":\"lightcoral\"},\"size\":{\"units\":\"screen\",\"value\":5},\"x\":{\"field\":\"x\"},\"y\":{\"field\":\"y\"}},\"id\":\"2237\",\"type\":\"Circle\"},{\"attributes\":{},\"id\":\"2163\",\"type\":\"PanTool\"},{\"attributes\":{\"days\":[\"%d %B\"]},\"id\":\"2240\",\"type\":\"DatetimeTickFormatter\"},{\"attributes\":{\"days\":[1,15]},\"id\":\"2193\",\"type\":\"DaysTicker\"},{\"attributes\":{},\"id\":\"2164\",\"type\":\"WheelZoomTool\"},{\"attributes\":{\"callback\":null,\"formatters\":{\"@x\":\"datetime\"},\"mode\":\"vline\",\"tooltips\":[[\"date\",\"@x{%d %B}\"],[\"new_positive OR SMA 14\",\"@y{0[.]000}\"]]},\"id\":\"2244\",\"type\":\"HoverTool\"},{\"attributes\":{\"bottom_units\":\"screen\",\"fill_alpha\":0.5,\"fill_color\":\"lightgrey\",\"left_units\":\"screen\",\"level\":\"overlay\",\"line_alpha\":1.0,\"line_color\":\"black\",\"line_dash\":[4,4],\"line_width\":2,\"render_mode\":\"css\",\"right_units\":\"screen\",\"top_units\":\"screen\"},\"id\":\"2169\",\"type\":\"BoxAnnotation\"},{\"attributes\":{\"fill_color\":{\"value\":\"white\"},\"line_color\":{\"value\":\"lightcoral\"},\"size\":{\"units\":\"screen\",\"value\":5},\"x\":{\"field\":\"x\"},\"y\":{\"field\":\"y\"}},\"id\":\"2236\",\"type\":\"Circle\"},{\"attributes\":{\"data\":{\"x\":{\"__ndarray__\":\"AAAA5UcHd0IAAMBKmgd3QgAAgLDsB3dCAABAFj8Id0IAAAB8kQh3QgAAwOHjCHdCAACARzYJd0IAAECtiAl3QgAAABPbCXdCAADAeC0Kd0IAAIDefwp3QgAAQETSCndCAAAAqiQLd0IAAMAPdwt3QgAAgHXJC3dCAABA2xsMd0IAAABBbgx3QgAAwKbADHdCAACADBMNd0IAAEByZQ13QgAAANi3DXdCAADAPQoOd0IAAICjXA53QgAAQAmvDndCAAAAbwEPd0IAAMDUUw93QgAAgDqmD3dCAABAoPgPd0IAAAAGSxB3QgAAwGudEHdCAACA0e8Qd0IAAEA3QhF3QgAAAJ2UEXdCAADAAucRd0IAAIBoORJ3QgAAQM6LEndCAAAANN4Sd0IAAMCZMBN3QgAAgP+CE3dCAABAZdUTd0IAAADLJxR3QgAAwDB6FHdCAACAlswUd0IAAED8HhV3QgAAAGJxFXdCAADAx8MVd0IAAIAtFhZ3QgAAQJNoFndCAAAA+boWd0IAAMBeDRd3QgAAgMRfF3dCAABAKrIXd0IAAACQBBh3QgAAwPVWGHdCAACAW6kYd0IAAEDB+xh3QgAAACdOGXdCAADAjKAZd0IAAIDy8hl3QgAAQFhFGndCAAAAvpcad0IAAMAj6hp3QgAAgIk8G3dCAABA744bd0IAAABV4Rt3QgAAwLozHHdCAACAIIYcd0IAAECG2Bx3QgAAAOwqHXdCAADAUX0dd0IAAIC3zx13QgAAQB0iHndCAAAAg3Qed0IAAMDoxh53QgAAgE4ZH3dCAABAtGsfd0IAAAAavh93QgAAwH8QIHdCAACA5WIgd0IAAEBLtSB3QgAAALEHIXdCAADAFlohd0IAAIB8rCF3QgAAQOL+IXdCAAAASFEid0IAAMCtoyJ3QgAAgBP2IndCAABAeUgjd0IAAADfmiN3QgAAwETtI3dCAACAqj8kd0IAAEAQkiR3QgAAAHbkJHdCAADA2zYld0IAAIBBiSV3QgAAQKfbJXdCAAAADS4md0IAAMBygCZ3QgAAgNjSJndCAABAPiUnd0IAAACkdyd3QgAAwAnKJ3dCAACAbxwod0IAAEDVbih3QgAAADvBKHdCAADAoBMpd0IAAIAGZil3QgAAQGy4KXdCAAAA0goqd0IAAMA3XSp3QgAAgJ2vKndCAABAAwIrd0IAAABpVCt3QgAAwM6mK3dCAACANPkrd0IAAECaSyx3QgAAAACeLHdCAADAZfAsd0IAAIDLQi13QgAAQDGVLXdCAAAAl+ctd0IAAMD8OS53QgAAgGKMLndCAABAyN4ud0IAAAAuMS93QgAAwJODL3dCAACA+dUvd0IAAEBfKDB3QgAAAMV6MHdCAADAKs0wd0IAAICQHzF3QgAAQPZxMXdCAAAAXMQxd0IAAMDBFjJ3QgAAgCdpMndCAABAjbsyd0IAAADzDTN3QgAAwFhgM3dCAACAvrIzd0IAAEAkBTR3QgAAAIpXNHdCAADA76k0d0IAAIBV/DR3QgAAQLtONXdCAAAAIaE1d0IAAMCG8zV3QgAAgOxFNndCAABAUpg2d0IAAAC46jZ3QgAAwB09N3dCAACAg483d0IAAEDp4Td3QgAAAE80OHdCAADAtIY4d0IAAIAa2Th3QgAAQIArOXdCAAAA5n05d0IAAMBL0Dl3QgAAgLEiOndCAABAF3U6d0IAAAB9xzp3QgAAwOIZO3dCAACASGw7d0IAAECuvjt3QgAAABQRPHdCAADAeWM8d0IAAIDftTx3QgAAQEUIPXdCAAAAq1o9d0IAAMAQrT13QgAAgHb/PXdCAABA3FE+d0IAAABCpD53QgAAwKf2PndCAACADUk/d0IAAEBzmz93QgAAANntP3dCAADAPkBAd0IAAICkkkB3QgAAQArlQHdCAAAAcDdBd0IAAMDViUF3Qg==\",\"dtype\":\"float64\",\"shape\":[182]},\"y\":{\"__ndarray__\":\"AAAAAAAA+H8AAAAAAAD4fwAAAAAAAPh/AAAAAAAA+H8AAAAAAAD4fwAAAAAAAPh/AAAAAAAA+H8AAAAAAAD4fwAAAAAAAPh/AAAAAAAA+H8AAAAAAAD4fwAAAAAAAPh/AAAAAAAA+H8lSZIkSZIYQJIkSZIkSRxASZIkSZIkIEAAAAAAAAAlQEmSJEmSJCxAJUmSJEmSM0AlSZIkSRI5QG7btm3btj5A27Zt27ZtQkDbtm3bti1FQJIkSZIkyUhAJUmSJEnSS0CSJEmSJAlRQEmSJEmS5FNASZIkSZIkV0Dbtm3btq1ZQJIkSZIkyVxASZIkSZJEX0Dbtm3btu1gQEmSJEmSBGJA27Zt27YtY0BJkiRJkkRkQJIkSZIkWWVAbtu2bds2ZkDbtm3btq1mQNu2bdu2TWdASZIkSZIkZ0C3bdu2betmQLdt27ZtS2ZA27Zt27Y9ZkDbtm3btp1lQNu2bdu2HWVASZIkSZLUZEDbtm3btm1kQNu2bdu2zWNAkiRJkiQZY0Bu27Zt21ZiQAAAAAAAAGJAJUmSJEmSYUAlSZIkSWJhQNu2bdu2LWFAAAAAAAAQYUDbtm3btr1gQLdt27Zt219A27Zt27YtX0BJkiRJkoReQEmSJEmSBF1AkiRJkiSpW0Dbtm3bts1aQEmSJEmSJFpA27Zt27ZtWUBu27Zt2zZYQCVJkiRJcldAJUmSJEkSVkAAAAAAAIBUQNu2bdu2bVNAJUmSJEnSUkDbtm3btm1SQCVJkiRJMlJAbtu2bds2UkAAAAAAAIBRQJIkSZIkCVFAt23btm07UEAlSZIkSZJOQAAAAAAAgExAt23btm2bSkDbtm3bti1JQLdt27ZtG0hAbtu2bdu2SEC3bdu2bdtGQAAAAAAAwEZAkiRJkiTJRkC3bdu2bRtFQG7btm3bNkNAbtu2bdu2QkBu27Zt2/ZBQNu2bdu27UBAAAAAAACAQEDbtm3bti1AQJIkSZIkCUBASZIkSZIkPkBu27Zt27Y8QEmSJEmSpDhAkiRJkiTJNkBJkiRJkiQ0QCVJkiRJEjJAAAAAAAAAMUDbtm3btm0vQNu2bdu2bS1AkiRJkiRJKkBu27Zt27YrQNu2bdu2bSpA27Zt27ZtKkBJkiRJkiQrQEmSJEmSJCxAAAAAAAAALEAlSZIkSZItQEmSJEmSJDBAbtu2bds2MEDbtm3btm0vQAAAAAAAADBAAAAAAAAAMEBu27Zt27YvQG7btm3bti9Abtu2bdu2LUCSJEmSJEktQEmSJEmSJCxAAAAAAAAAKkCSJEmSJEkoQEmSJEmSJCdASZIkSZIkJUBJkiRJkiQkQEmSJEmSJCRAAAAAAAAAJUDbtm3btm0kQJIkSZIkSSRAJUmSJEmSJEC3bdu2bdskQJIkSZIkSSdASZIkSZIkKEBu27Zt27YpQJIkSZIkSSlA27Zt27ZtKkBu27Zt27YsQEmSJEmSJC5AkiRJkiRJLkBJkiRJkiQvQEmSJEmSpDBAJUmSJEmSMUC3bdu2bVsyQG7btm3bNjJA27Zt27ZtMkBJkiRJkqQxQLdt27Zt2zFAAAAAAACAMUAlSZIkSZIxQG7btm3btjFAJUmSJEmSMUBu27Zt2zYxQG7btm3bNjFASZIkSZIkMUC3bdu2bVswQCVJkiRJki9AkiRJkiTJMEDbtm3btm0xQG7btm3btjFAJUmSJEmSMUAlSZIkSZIxQEmSJEmSpDFA27Zt27ZtMkBJkiRJkiQyQCVJkiRJkjFAbtu2bdu2MUCSJEmSJMkxQEmSJEmSJDNA27Zt27btNEC3bdu2bds1QCVJkiRJEjZAt23btm1bN0CSJEmSJEk5QEmSJEmSJDxAkiRJkiTJP0Dbtm3bti1BQLdt27ZtG0JAt23btm1bREAlSZIkSdJHQAAAAAAAAExAt23btm17UUBu27Zt2xZUQA==\",\"dtype\":\"float64\",\"shape\":[182]}},\"selected\":{\"id\":\"2314\"},\"selection_policy\":{\"id\":\"2313\"}},\"id\":\"2207\",\"type\":\"ColumnDataSource\"},{\"attributes\":{\"overlay\":{\"id\":\"2169\"}},\"id\":\"2165\",\"type\":\"BoxZoomTool\"},{\"attributes\":{\"text\":\"New Positive: Lazio\"},\"id\":\"2145\",\"type\":\"Title\"},{\"attributes\":{\"data_source\":{\"id\":\"2177\"},\"glyph\":{\"id\":\"2178\"},\"hover_glyph\":null,\"muted_glyph\":null,\"nonselection_glyph\":{\"id\":\"2179\"},\"selection_glyph\":null,\"view\":{\"id\":\"2181\"}},\"id\":\"2180\",\"type\":\"GlyphRenderer\"},{\"attributes\":{\"months\":[0,2,4,6,8,10]},\"id\":\"2195\",\"type\":\"MonthsTicker\"},{\"attributes\":{},\"id\":\"2166\",\"type\":\"SaveTool\"},{\"attributes\":{},\"id\":\"2147\",\"type\":\"DataRange1d\"},{\"attributes\":{\"fill_alpha\":{\"value\":0.1},\"fill_color\":{\"value\":\"white\"},\"line_alpha\":{\"value\":0.1},\"line_color\":{\"value\":\"blue\"},\"size\":{\"units\":\"screen\",\"value\":5},\"x\":{\"field\":\"x\"},\"y\":{\"field\":\"y\"}},\"id\":\"2204\",\"type\":\"Circle\"},{\"attributes\":{},\"id\":\"2167\",\"type\":\"ResetTool\"},{\"attributes\":{},\"id\":\"2232\",\"type\":\"Selection\"},{\"attributes\":{\"source\":{\"id\":\"2202\"}},\"id\":\"2206\",\"type\":\"CDSView\"},{\"attributes\":{\"base\":24,\"mantissas\":[1,2,4,6,8,12],\"max_interval\":43200000.0,\"min_interval\":3600000.0,\"num_minor_ticks\":0},\"id\":\"2189\",\"type\":\"AdaptiveTicker\"},{\"attributes\":{\"num_minor_ticks\":5,\"tickers\":[{\"id\":\"2187\"},{\"id\":\"2188\"},{\"id\":\"2189\"},{\"id\":\"2190\"},{\"id\":\"2191\"},{\"id\":\"2192\"},{\"id\":\"2193\"},{\"id\":\"2194\"},{\"id\":\"2195\"},{\"id\":\"2196\"},{\"id\":\"2197\"},{\"id\":\"2198\"}]},\"id\":\"2156\",\"type\":\"DatetimeTicker\"},{\"attributes\":{\"line_alpha\":0.1,\"line_color\":\"lightcoral\",\"line_width\":4,\"x\":{\"field\":\"x\"},\"y\":{\"field\":\"y\"}},\"id\":\"2209\",\"type\":\"Line\"},{\"attributes\":{},\"id\":\"2168\",\"type\":\"HelpTool\"},{\"attributes\":{\"days\":[1,4,7,10,13,16,19,22,25,28]},\"id\":\"2191\",\"type\":\"DaysTicker\"},{\"attributes\":{},\"id\":\"2151\",\"type\":\"LinearScale\"},{\"attributes\":{},\"id\":\"2313\",\"type\":\"UnionRenderers\"}],\"root_ids\":[\"2144\"]},\"title\":\"Bokeh Application\",\"version\":\"2.0.2\"}};\n",
       "  var render_items = [{\"docid\":\"0cd09f90-ce7a-4cbe-b5c0-40e25545c164\",\"root_ids\":[\"2144\"],\"roots\":{\"2144\":\"4b07938d-2075-4438-a498-00a84b43ab68\"}}];\n",
       "  root.Bokeh.embed.embed_items_notebook(docs_json, render_items);\n",
       "\n",
       "  }\n",
       "  if (root.Bokeh !== undefined) {\n",
       "    embed_document(root);\n",
       "  } else {\n",
       "    var attempts = 0;\n",
       "    var timer = setInterval(function(root) {\n",
       "      if (root.Bokeh !== undefined) {\n",
       "        clearInterval(timer);\n",
       "        embed_document(root);\n",
       "      } else {\n",
       "        attempts++;\n",
       "        if (attempts > 100) {\n",
       "          clearInterval(timer);\n",
       "          console.log(\"Bokeh: ERROR: Unable to run BokehJS code because BokehJS library is missing\");\n",
       "        }\n",
       "      }\n",
       "    }, 10, root)\n",
       "  }\n",
       "})(window);"
      ],
      "application/vnd.bokehjs_exec.v0+json": ""
     },
     "metadata": {
      "application/vnd.bokehjs_exec.v0+json": {
       "id": "2144"
      }
     },
     "output_type": "display_data"
    }
   ],
   "source": [
    "p_new_positive_SMA_Lazio = bokeh_plot_N_lines(x=time_date_new, y_list=[nuovi_positivi_Lazio,SMA_new_positive_Lazio_2['nuovi_positivi']], \n",
    "                  title='New Positive: Lazio',\n",
    "                  dim=[600, 450], \n",
    "                  x_label='Date',\n",
    "                  y_label='New Positive', \n",
    "                  legend_list=['new positive','SMA 14 days'],\n",
    "                  x_label_hover='date' , y_label_hover='new_positive OR SMA 14' , \n",
    "                  color_list=['blue','lightcoral'],legend_location=\"top_left\")\n",
    "\n",
    "output_file(\"new_positive_SMA_Lazio.html\")\n",
    "\n",
    "show(p_new_positive_SMA_Lazio)"
   ]
  },
  {
   "cell_type": "markdown",
   "metadata": {},
   "source": [
    "------------------\n",
    "\n",
    "### New Deaths"
   ]
  },
  {
   "cell_type": "code",
   "execution_count": 23,
   "metadata": {},
   "outputs": [],
   "source": [
    "nuovi_deceduti_Lazio = [0]\n",
    "i = 0\n",
    "while (i < len(deceduti_Lazio)-1):\n",
    "#     print(deceduti_italy.iloc[i + 1] - deceduti_italy.iloc[i])\n",
    "    temp = deceduti_Lazio.iloc[i + 1] - deceduti_Lazio.iloc[i]\n",
    "    nuovi_deceduti_Lazio.append(temp)\n",
    "    i = i + 1"
   ]
  },
  {
   "cell_type": "code",
   "execution_count": 24,
   "metadata": {},
   "outputs": [
    {
     "data": {
      "text/html": [
       "<div>\n",
       "<style scoped>\n",
       "    .dataframe tbody tr th:only-of-type {\n",
       "        vertical-align: middle;\n",
       "    }\n",
       "\n",
       "    .dataframe tbody tr th {\n",
       "        vertical-align: top;\n",
       "    }\n",
       "\n",
       "    .dataframe thead th {\n",
       "        text-align: right;\n",
       "    }\n",
       "</style>\n",
       "<table border=\"1\" class=\"dataframe\">\n",
       "  <thead>\n",
       "    <tr style=\"text-align: right;\">\n",
       "      <th></th>\n",
       "      <th>0</th>\n",
       "    </tr>\n",
       "  </thead>\n",
       "  <tbody>\n",
       "    <tr>\n",
       "      <th>0</th>\n",
       "      <td>NaN</td>\n",
       "    </tr>\n",
       "    <tr>\n",
       "      <th>1</th>\n",
       "      <td>NaN</td>\n",
       "    </tr>\n",
       "    <tr>\n",
       "      <th>2</th>\n",
       "      <td>NaN</td>\n",
       "    </tr>\n",
       "    <tr>\n",
       "      <th>3</th>\n",
       "      <td>NaN</td>\n",
       "    </tr>\n",
       "    <tr>\n",
       "      <th>4</th>\n",
       "      <td>NaN</td>\n",
       "    </tr>\n",
       "  </tbody>\n",
       "</table>\n",
       "</div>"
      ],
      "text/plain": [
       "    0\n",
       "0 NaN\n",
       "1 NaN\n",
       "2 NaN\n",
       "3 NaN\n",
       "4 NaN"
      ]
     },
     "execution_count": 24,
     "metadata": {},
     "output_type": "execute_result"
    }
   ],
   "source": [
    "nuovi_deceduti_Lazio_df = pd.DataFrame(nuovi_deceduti_Lazio)\n",
    "\n",
    "SMA_new_deaths_Lazio = nuovi_deceduti_Lazio_df[:].rolling(window=7).mean()\n",
    "SMA_new_deaths_Lazio_2 = nuovi_deceduti_Lazio_df[:].rolling(window=14).mean()\n",
    "SMA_new_deaths_Lazio.head()"
   ]
  },
  {
   "cell_type": "code",
   "execution_count": 25,
   "metadata": {},
   "outputs": [
    {
     "data": {
      "text/html": [
       "\n",
       "\n",
       "\n",
       "\n",
       "\n",
       "\n",
       "  <div class=\"bk-root\" id=\"e99874ce-6a6e-4c2f-abc5-da78566c1774\" data-root-id=\"2775\"></div>\n"
      ]
     },
     "metadata": {},
     "output_type": "display_data"
    },
    {
     "data": {
      "application/javascript": [
       "(function(root) {\n",
       "  function embed_document(root) {\n",
       "    \n",
       "  var docs_json = {\"847f0868-d31f-458d-90be-cd1f3814b63d\":{\"roots\":{\"references\":[{\"attributes\":{\"below\":[{\"id\":\"2786\"}],\"center\":[{\"id\":\"2789\"},{\"id\":\"2793\"},{\"id\":\"2831\"}],\"left\":[{\"id\":\"2790\"}],\"plot_height\":450,\"renderers\":[{\"id\":\"2811\"},{\"id\":\"2836\"},{\"id\":\"2841\"},{\"id\":\"2869\"}],\"title\":{\"id\":\"2776\"},\"toolbar\":{\"id\":\"2801\"},\"x_range\":{\"id\":\"2778\"},\"x_scale\":{\"id\":\"2782\"},\"y_range\":{\"id\":\"2780\"},\"y_scale\":{\"id\":\"2784\"}},\"id\":\"2775\",\"subtype\":\"Figure\",\"type\":\"Plot\"},{\"attributes\":{\"data_source\":{\"id\":\"2833\"},\"glyph\":{\"id\":\"2834\"},\"hover_glyph\":null,\"muted_glyph\":null,\"nonselection_glyph\":{\"id\":\"2835\"},\"selection_glyph\":null,\"view\":{\"id\":\"2837\"}},\"id\":\"2836\",\"type\":\"GlyphRenderer\"},{\"attributes\":{},\"id\":\"2968\",\"type\":\"UnionRenderers\"},{\"attributes\":{\"use_scientific\":false},\"id\":\"2873\",\"type\":\"BasicTickFormatter\"},{\"attributes\":{},\"id\":\"2798\",\"type\":\"ResetTool\"},{\"attributes\":{\"days\":[1,4,7,10,13,16,19,22,25,28]},\"id\":\"2822\",\"type\":\"DaysTicker\"},{\"attributes\":{\"axis_label\":\"New Deaths\",\"formatter\":{\"id\":\"2873\"},\"minor_tick_in\":-5,\"minor_tick_out\":-3,\"ticker\":{\"id\":\"2791\"}},\"id\":\"2790\",\"type\":\"LinearAxis\"},{\"attributes\":{\"months\":[0,2,4,6,8,10]},\"id\":\"2826\",\"type\":\"MonthsTicker\"},{\"attributes\":{\"data\":{\"x\":{\"__ndarray__\":\"AAAA5UcHd0IAAMBKmgd3QgAAgLDsB3dCAABAFj8Id0IAAAB8kQh3QgAAwOHjCHdCAACARzYJd0IAAECtiAl3QgAAABPbCXdCAADAeC0Kd0IAAIDefwp3QgAAQETSCndCAAAAqiQLd0IAAMAPdwt3QgAAgHXJC3dCAABA2xsMd0IAAABBbgx3QgAAwKbADHdCAACADBMNd0IAAEByZQ13QgAAANi3DXdCAADAPQoOd0IAAICjXA53QgAAQAmvDndCAAAAbwEPd0IAAMDUUw93QgAAgDqmD3dCAABAoPgPd0IAAAAGSxB3QgAAwGudEHdCAACA0e8Qd0IAAEA3QhF3QgAAAJ2UEXdCAADAAucRd0IAAIBoORJ3QgAAQM6LEndCAAAANN4Sd0IAAMCZMBN3QgAAgP+CE3dCAABAZdUTd0IAAADLJxR3QgAAwDB6FHdCAACAlswUd0IAAED8HhV3QgAAAGJxFXdCAADAx8MVd0IAAIAtFhZ3QgAAQJNoFndCAAAA+boWd0IAAMBeDRd3QgAAgMRfF3dCAABAKrIXd0IAAACQBBh3QgAAwPVWGHdCAACAW6kYd0IAAEDB+xh3QgAAACdOGXdCAADAjKAZd0IAAIDy8hl3QgAAQFhFGndCAAAAvpcad0IAAMAj6hp3QgAAgIk8G3dCAABA744bd0IAAABV4Rt3QgAAwLozHHdCAACAIIYcd0IAAECG2Bx3QgAAAOwqHXdCAADAUX0dd0IAAIC3zx13QgAAQB0iHndCAAAAg3Qed0IAAMDoxh53QgAAgE4ZH3dCAABAtGsfd0IAAAAavh93QgAAwH8QIHdCAACA5WIgd0IAAEBLtSB3QgAAALEHIXdCAADAFlohd0IAAIB8rCF3QgAAQOL+IXdCAAAASFEid0IAAMCtoyJ3QgAAgBP2IndCAABAeUgjd0IAAADfmiN3QgAAwETtI3dCAACAqj8kd0IAAEAQkiR3QgAAAHbkJHdCAADA2zYld0IAAIBBiSV3QgAAQKfbJXdCAAAADS4md0IAAMBygCZ3QgAAgNjSJndCAABAPiUnd0IAAACkdyd3QgAAwAnKJ3dCAACAbxwod0IAAEDVbih3QgAAADvBKHdCAADAoBMpd0IAAIAGZil3QgAAQGy4KXdCAAAA0goqd0IAAMA3XSp3QgAAgJ2vKndCAABAAwIrd0IAAABpVCt3QgAAwM6mK3dCAACANPkrd0IAAECaSyx3QgAAAACeLHdCAADAZfAsd0IAAIDLQi13QgAAQDGVLXdCAAAAl+ctd0IAAMD8OS53QgAAgGKMLndCAABAyN4ud0IAAAAuMS93QgAAwJODL3dCAACA+dUvd0IAAEBfKDB3QgAAAMV6MHdCAADAKs0wd0IAAICQHzF3QgAAQPZxMXdCAAAAXMQxd0IAAMDBFjJ3QgAAgCdpMndCAABAjbsyd0IAAADzDTN3QgAAwFhgM3dCAACAvrIzd0IAAEAkBTR3QgAAAIpXNHdCAADA76k0d0IAAIBV/DR3QgAAQLtONXdCAAAAIaE1d0IAAMCG8zV3QgAAgOxFNndCAABAUpg2d0IAAAC46jZ3QgAAwB09N3dCAACAg483d0IAAEDp4Td3QgAAAE80OHdCAADAtIY4d0IAAIAa2Th3QgAAQIArOXdCAAAA5n05d0IAAMBL0Dl3QgAAgLEiOndCAABAF3U6d0IAAAB9xzp3QgAAwOIZO3dCAACASGw7d0IAAECuvjt3QgAAABQRPHdCAADAeWM8d0IAAIDftTx3QgAAQEUIPXdCAAAAq1o9d0IAAMAQrT13QgAAgHb/PXdCAABA3FE+d0IAAABCpD53QgAAwKf2PndCAACADUk/d0IAAEBzmz93QgAAANntP3dCAADAPkBAd0IAAICkkkB3QgAAQArlQHdCAAAAcDdBd0IAAMDViUF3Qg==\",\"dtype\":\"float64\",\"shape\":[182]},\"y\":{\"__ndarray__\":\"AAAAAAAA+H8AAAAAAAD4fwAAAAAAAPh/AAAAAAAA+H8AAAAAAAD4fwAAAAAAAPh/AAAAAAAA+H8AAAAAAAD4fwAAAAAAAPh/AAAAAAAA+H8AAAAAAAD4fwAAAAAAAPh/AAAAAAAA+H/btm3btm3LP7dt27Zt29Y/27Zt27Zt2z/btm3btm3bPyVJkiRJkuQ/SZIkSZIk6T9u27Zt27btP5IkSZIkSfI/btu2bdu29T+SJEmSJEn6P5IkSZIkSQJAbtu2bdu2BUAAAAAAAAAIQAAAAAAAAAxAJUmSJEmSDEAlSZIkSZIQQEmSJEmSJBVA27Zt27ZtGUBu27Zt27YbQCVJkiRJkh5Abtu2bdu2H0BJkiRJkiQhQG7btm3btiJAt23btm3bI0AlSZIkSZIjQAAAAAAAACVAkiRJkiRJJkBJkiRJkiQnQG7btm3btidAbtu2bdu2J0AlSZIkSZImQJIkSZIkSSVAAAAAAAAAJUBu27Zt27YkQJIkSZIkSSVA27Zt27ZtJEBJkiRJkiQjQG7btm3btiNAkiRJkiRJJEBu27Zt27YiQAAAAAAAACNAkiRJkiRJIkDbtm3btm0hQEmSJEmSJCFAt23btm3bIUAAAAAAAAAiQNu2bdu2bSFAkiRJkiRJIUCSJEmSJEkgQNu2bdu2bR9ASZIkSZIkIECSJEmSJEkgQEmSJEmSJCFAt23btm3bIUDbtm3btm0lQNu2bdu2bSZAt23btm3bJ0AAAAAAAAApQNu2bdu2bShAAAAAAAAAKEAAAAAAAAAoQCVJkiRJkidAbtu2bdu2J0AAAAAAAAAoQCVJkiRJkidAbtu2bdu2JUC3bdu2bdskQAAAAAAAACZA27Zt27ZtIUAAAAAAAAAhQJIkSZIkSSBAbtu2bdu2HUCSJEmSJEkeQEmSJEmSJB9AAAAAAAAAIUBJkiRJkiQhQCVJkiRJkiFASZIkSZIkIkAAAAAAAAAiQEmSJEmSJCJAbtu2bdu2IUBJkiRJkiQgQG7btm3btiBAAAAAAAAAIEBJkiRJkiQgQG7btm3bth9At23btm3bHEAlSZIkSZIcQEmSJEmSJBlAkiRJkiRJGEDbtm3btm0XQG7btm3bthVA27Zt27ZtFUC3bdu2bdsUQG7btm3bthNA27Zt27ZtE0BJkiRJkiQRQJIkSZIkSRZAt23btm3bFEAlSZIkSZIUQLdt27Zt2xRAkiRJkiRJFEAlSZIkSZIUQCVJkiRJkhRAbtu2bdu2E0BJkiRJkiQTQEmSJEmSJBNAt23btm3bEkAAAAAAAAASQLdt27Zt2xBA27Zt27ZtD0Bu27Zt27YBQCVJkiRJkgBAbtu2bdu2/T+SJEmSJEn6PwAAAAAAAPg/27Zt27Zt8z8AAAAAAADwPwAAAAAAAPA/AAAAAAAA8D/btm3btm3rP7dt27Zt2+Y/JUmSJEmS5D+SJEmSJEniP5IkSZIkSeI/AAAAAAAA4D8AAAAAAADgP5IkSZIkSeI/JUmSJEmS5D+SJEmSJEniPyVJkiRJkuQ/JUmSJEmS5D8lSZIkSZLkP7dt27Zt2+Y/JUmSJEmS5D9JkiRJkiTpP27btm3btu0/btu2bdu27T9u27Zt27btPwAAAAAAAPA/kiRJkiRJ8j+SJEmSJEnyP5IkSZIkSfI/SZIkSZIk8T9JkiRJkiTxPwAAAAAAAPA/btu2bdu27T/btm3btm3rP27btm3btu0/SZIkSZIk6T+3bdu2bdvmPyVJkiRJkuQ/kiRJkiRJ4j+SJEmSJEniP9u2bdu2bds/27Zt27Zt2z+3bdu2bdvWP9u2bdu2bds/27Zt27Zt2z8AAAAAAADgPwAAAAAAAOA/AAAAAAAA4D/btm3btm3bPwAAAAAAAOA/27Zt27Zt2z8AAAAAAADgP5IkSZIkSeI/AAAAAAAA4D+SJEmSJEniPw==\",\"dtype\":\"float64\",\"shape\":[182]}},\"selected\":{\"id\":\"2969\"},\"selection_policy\":{\"id\":\"2968\"}},\"id\":\"2838\",\"type\":\"ColumnDataSource\"},{\"attributes\":{\"base\":60,\"mantissas\":[1,2,5,10,15,20,30],\"max_interval\":1800000.0,\"min_interval\":1000.0,\"num_minor_ticks\":0},\"id\":\"2819\",\"type\":\"AdaptiveTicker\"},{\"attributes\":{},\"id\":\"2791\",\"type\":\"BasicTicker\"},{\"attributes\":{},\"id\":\"2795\",\"type\":\"WheelZoomTool\"},{\"attributes\":{\"days\":[1,15]},\"id\":\"2824\",\"type\":\"DaysTicker\"},{\"attributes\":{},\"id\":\"2861\",\"type\":\"Selection\"},{\"attributes\":{},\"id\":\"2971\",\"type\":\"Selection\"},{\"attributes\":{\"items\":[{\"id\":\"2832\"},{\"id\":\"2865\"}],\"location\":\"top_left\"},\"id\":\"2831\",\"type\":\"Legend\"},{\"attributes\":{\"text\":\"New Deaths: Lazio\"},\"id\":\"2776\",\"type\":\"Title\"},{\"attributes\":{\"days\":[\"%d %B\"]},\"id\":\"2871\",\"type\":\"DatetimeTickFormatter\"},{\"attributes\":{\"label\":{\"value\":\"SMA 14 days\"},\"renderers\":[{\"id\":\"2841\"}]},\"id\":\"2865\",\"type\":\"LegendItem\"},{\"attributes\":{},\"id\":\"2778\",\"type\":\"DataRange1d\"},{\"attributes\":{},\"id\":\"2970\",\"type\":\"UnionRenderers\"},{\"attributes\":{},\"id\":\"2794\",\"type\":\"PanTool\"},{\"attributes\":{},\"id\":\"2969\",\"type\":\"Selection\"},{\"attributes\":{\"num_minor_ticks\":5,\"tickers\":[{\"id\":\"2818\"},{\"id\":\"2819\"},{\"id\":\"2820\"},{\"id\":\"2821\"},{\"id\":\"2822\"},{\"id\":\"2823\"},{\"id\":\"2824\"},{\"id\":\"2825\"},{\"id\":\"2826\"},{\"id\":\"2827\"},{\"id\":\"2828\"},{\"id\":\"2829\"}]},\"id\":\"2787\",\"type\":\"DatetimeTicker\"},{\"attributes\":{\"data\":{\"x\":{\"__ndarray__\":\"AAAA5UcHd0IAAMBKmgd3QgAAgLDsB3dCAABAFj8Id0IAAAB8kQh3QgAAwOHjCHdCAACARzYJd0IAAECtiAl3QgAAABPbCXdCAADAeC0Kd0IAAIDefwp3QgAAQETSCndCAAAAqiQLd0IAAMAPdwt3QgAAgHXJC3dCAABA2xsMd0IAAABBbgx3QgAAwKbADHdCAACADBMNd0IAAEByZQ13QgAAANi3DXdCAADAPQoOd0IAAICjXA53QgAAQAmvDndCAAAAbwEPd0IAAMDUUw93QgAAgDqmD3dCAABAoPgPd0IAAAAGSxB3QgAAwGudEHdCAACA0e8Qd0IAAEA3QhF3QgAAAJ2UEXdCAADAAucRd0IAAIBoORJ3QgAAQM6LEndCAAAANN4Sd0IAAMCZMBN3QgAAgP+CE3dCAABAZdUTd0IAAADLJxR3QgAAwDB6FHdCAACAlswUd0IAAED8HhV3QgAAAGJxFXdCAADAx8MVd0IAAIAtFhZ3QgAAQJNoFndCAAAA+boWd0IAAMBeDRd3QgAAgMRfF3dCAABAKrIXd0IAAACQBBh3QgAAwPVWGHdCAACAW6kYd0IAAEDB+xh3QgAAACdOGXdCAADAjKAZd0IAAIDy8hl3QgAAQFhFGndCAAAAvpcad0IAAMAj6hp3QgAAgIk8G3dCAABA744bd0IAAABV4Rt3QgAAwLozHHdCAACAIIYcd0IAAECG2Bx3QgAAAOwqHXdCAADAUX0dd0IAAIC3zx13QgAAQB0iHndCAAAAg3Qed0IAAMDoxh53QgAAgE4ZH3dCAABAtGsfd0IAAAAavh93QgAAwH8QIHdCAACA5WIgd0IAAEBLtSB3QgAAALEHIXdCAADAFlohd0IAAIB8rCF3QgAAQOL+IXdCAAAASFEid0IAAMCtoyJ3QgAAgBP2IndCAABAeUgjd0IAAADfmiN3QgAAwETtI3dCAACAqj8kd0IAAEAQkiR3QgAAAHbkJHdCAADA2zYld0IAAIBBiSV3QgAAQKfbJXdCAAAADS4md0IAAMBygCZ3QgAAgNjSJndCAABAPiUnd0IAAACkdyd3QgAAwAnKJ3dCAACAbxwod0IAAEDVbih3QgAAADvBKHdCAADAoBMpd0IAAIAGZil3QgAAQGy4KXdCAAAA0goqd0IAAMA3XSp3QgAAgJ2vKndCAABAAwIrd0IAAABpVCt3QgAAwM6mK3dCAACANPkrd0IAAECaSyx3QgAAAACeLHdCAADAZfAsd0IAAIDLQi13QgAAQDGVLXdCAAAAl+ctd0IAAMD8OS53QgAAgGKMLndCAABAyN4ud0IAAAAuMS93QgAAwJODL3dCAACA+dUvd0IAAEBfKDB3QgAAAMV6MHdCAADAKs0wd0IAAICQHzF3QgAAQPZxMXdCAAAAXMQxd0IAAMDBFjJ3QgAAgCdpMndCAABAjbsyd0IAAADzDTN3QgAAwFhgM3dCAACAvrIzd0IAAEAkBTR3QgAAAIpXNHdCAADA76k0d0IAAIBV/DR3QgAAQLtONXdCAAAAIaE1d0IAAMCG8zV3QgAAgOxFNndCAABAUpg2d0IAAAC46jZ3QgAAwB09N3dCAACAg483d0IAAEDp4Td3QgAAAE80OHdCAADAtIY4d0IAAIAa2Th3QgAAQIArOXdCAAAA5n05d0IAAMBL0Dl3QgAAgLEiOndCAABAF3U6d0IAAAB9xzp3QgAAwOIZO3dCAACASGw7d0IAAECuvjt3QgAAABQRPHdCAADAeWM8d0IAAIDftTx3QgAAQEUIPXdCAAAAq1o9d0IAAMAQrT13QgAAgHb/PXdCAABA3FE+d0IAAABCpD53QgAAwKf2PndCAACADUk/d0IAAEBzmz93QgAAANntP3dCAADAPkBAd0IAAICkkkB3QgAAQArlQHdCAAAAcDdBd0IAAMDViUF3Qg==\",\"dtype\":\"float64\",\"shape\":[182]},\"y\":[0,0,0,0,0,0,0,0,0,0,0,1,0,2,2,1,0,3,2,2,3,3,4,9,6,5,7,3,10,17,15,11,12,6,12,14,12,7,16,14,13,7,10,9,6,9,10,10,6,5,16,11,5,16,8,1,8,14,7,5,9,3,2,8,17,17,10,41,15,11,16,10,4,5,6,4,4,5,4,11,18,9,12,6,6,12,7,15,7,7,8,4,5,8,7,13,7,7,4,2,6,3,4,4,2,3,3,4,6,5,25,2,3,3,4,4,4,1,0,3,2,1,2,1,1,0,0,0,2,0,1,1,0,1,0,0,1,1,0,0,1,1,1,1,1,1,1,0,2,2,1,1,1,2,1,1,0,1,0,0,0,1,0,1,0,0,1,0,1,0,1,1,1,0,0,0,1,0,1,1,0,1]},\"selected\":{\"id\":\"2861\"},\"selection_policy\":{\"id\":\"2860\"}},\"id\":\"2808\",\"type\":\"ColumnDataSource\"},{\"attributes\":{\"line_alpha\":0.1,\"line_color\":\"lightgreen\",\"line_width\":4,\"x\":{\"field\":\"x\"},\"y\":{\"field\":\"y\"}},\"id\":\"2840\",\"type\":\"Line\"},{\"attributes\":{\"days\":[1,2,3,4,5,6,7,8,9,10,11,12,13,14,15,16,17,18,19,20,21,22,23,24,25,26,27,28,29,30,31]},\"id\":\"2821\",\"type\":\"DaysTicker\"},{\"attributes\":{\"fill_alpha\":{\"value\":0.1},\"fill_color\":{\"value\":\"white\"},\"line_alpha\":{\"value\":0.1},\"line_color\":{\"value\":\"darkviolet\"},\"size\":{\"units\":\"screen\",\"value\":5},\"x\":{\"field\":\"x\"},\"y\":{\"field\":\"y\"}},\"id\":\"2835\",\"type\":\"Circle\"},{\"attributes\":{},\"id\":\"2797\",\"type\":\"SaveTool\"},{\"attributes\":{\"days\":[1,8,15,22]},\"id\":\"2823\",\"type\":\"DaysTicker\"},{\"attributes\":{\"axis\":{\"id\":\"2786\"},\"ticker\":null},\"id\":\"2789\",\"type\":\"Grid\"},{\"attributes\":{\"source\":{\"id\":\"2833\"}},\"id\":\"2837\",\"type\":\"CDSView\"},{\"attributes\":{\"fill_color\":{\"value\":\"white\"},\"line_color\":{\"value\":\"darkviolet\"},\"size\":{\"units\":\"screen\",\"value\":5},\"x\":{\"field\":\"x\"},\"y\":{\"field\":\"y\"}},\"id\":\"2834\",\"type\":\"Circle\"},{\"attributes\":{\"bottom_units\":\"screen\",\"fill_alpha\":0.5,\"fill_color\":\"lightgrey\",\"left_units\":\"screen\",\"level\":\"overlay\",\"line_alpha\":1.0,\"line_color\":\"black\",\"line_dash\":[4,4],\"line_width\":2,\"render_mode\":\"css\",\"right_units\":\"screen\",\"top_units\":\"screen\"},\"id\":\"2800\",\"type\":\"BoxAnnotation\"},{\"attributes\":{},\"id\":\"2780\",\"type\":\"DataRange1d\"},{\"attributes\":{\"source\":{\"id\":\"2808\"}},\"id\":\"2812\",\"type\":\"CDSView\"},{\"attributes\":{\"axis_label\":\"Date\",\"formatter\":{\"id\":\"2871\"},\"major_label_orientation\":0.7853981633974483,\"minor_tick_in\":-5,\"minor_tick_out\":-3,\"ticker\":{\"id\":\"2787\"}},\"id\":\"2786\",\"type\":\"DatetimeAxis\"},{\"attributes\":{\"data_source\":{\"id\":\"2808\"},\"glyph\":{\"id\":\"2809\"},\"hover_glyph\":null,\"muted_glyph\":null,\"nonselection_glyph\":{\"id\":\"2810\"},\"selection_glyph\":null,\"view\":{\"id\":\"2812\"}},\"id\":\"2811\",\"type\":\"GlyphRenderer\"},{\"attributes\":{},\"id\":\"2799\",\"type\":\"HelpTool\"},{\"attributes\":{},\"id\":\"2784\",\"type\":\"LinearScale\"},{\"attributes\":{\"source\":{\"id\":\"2838\"}},\"id\":\"2842\",\"type\":\"CDSView\"},{\"attributes\":{\"source\":{\"id\":\"2866\"}},\"id\":\"2870\",\"type\":\"CDSView\"},{\"attributes\":{\"data_source\":{\"id\":\"2838\"},\"glyph\":{\"id\":\"2839\"},\"hover_glyph\":null,\"muted_glyph\":null,\"nonselection_glyph\":{\"id\":\"2840\"},\"selection_glyph\":null,\"view\":{\"id\":\"2842\"}},\"id\":\"2841\",\"type\":\"GlyphRenderer\"},{\"attributes\":{\"overlay\":{\"id\":\"2800\"}},\"id\":\"2796\",\"type\":\"BoxZoomTool\"},{\"attributes\":{\"months\":[0,1,2,3,4,5,6,7,8,9,10,11]},\"id\":\"2825\",\"type\":\"MonthsTicker\"},{\"attributes\":{\"line_color\":\"darkviolet\",\"line_width\":4,\"x\":{\"field\":\"x\"},\"y\":{\"field\":\"y\"}},\"id\":\"2809\",\"type\":\"Line\"},{\"attributes\":{\"callback\":null,\"formatters\":{\"@x\":\"datetime\"},\"mode\":\"vline\",\"tooltips\":[[\"date\",\"@x{%d %B}\"],[\"new_deaths OR SMA 14\",\"@y{0[.]000}\"]]},\"id\":\"2875\",\"type\":\"HoverTool\"},{\"attributes\":{\"months\":[0,6]},\"id\":\"2828\",\"type\":\"MonthsTicker\"},{\"attributes\":{\"line_alpha\":0.1,\"line_color\":\"darkviolet\",\"line_width\":4,\"x\":{\"field\":\"x\"},\"y\":{\"field\":\"y\"}},\"id\":\"2810\",\"type\":\"Line\"},{\"attributes\":{\"label\":{\"value\":\"new deaths\"},\"renderers\":[{\"id\":\"2811\"}]},\"id\":\"2832\",\"type\":\"LegendItem\"},{\"attributes\":{\"axis\":{\"id\":\"2790\"},\"dimension\":1,\"ticker\":null},\"id\":\"2793\",\"type\":\"Grid\"},{\"attributes\":{\"data\":{\"x\":{\"__ndarray__\":\"AAAA5UcHd0IAAMBKmgd3QgAAgLDsB3dCAABAFj8Id0IAAAB8kQh3QgAAwOHjCHdCAACARzYJd0IAAECtiAl3QgAAABPbCXdCAADAeC0Kd0IAAIDefwp3QgAAQETSCndCAAAAqiQLd0IAAMAPdwt3QgAAgHXJC3dCAABA2xsMd0IAAABBbgx3QgAAwKbADHdCAACADBMNd0IAAEByZQ13QgAAANi3DXdCAADAPQoOd0IAAICjXA53QgAAQAmvDndCAAAAbwEPd0IAAMDUUw93QgAAgDqmD3dCAABAoPgPd0IAAAAGSxB3QgAAwGudEHdCAACA0e8Qd0IAAEA3QhF3QgAAAJ2UEXdCAADAAucRd0IAAIBoORJ3QgAAQM6LEndCAAAANN4Sd0IAAMCZMBN3QgAAgP+CE3dCAABAZdUTd0IAAADLJxR3QgAAwDB6FHdCAACAlswUd0IAAED8HhV3QgAAAGJxFXdCAADAx8MVd0IAAIAtFhZ3QgAAQJNoFndCAAAA+boWd0IAAMBeDRd3QgAAgMRfF3dCAABAKrIXd0IAAACQBBh3QgAAwPVWGHdCAACAW6kYd0IAAEDB+xh3QgAAACdOGXdCAADAjKAZd0IAAIDy8hl3QgAAQFhFGndCAAAAvpcad0IAAMAj6hp3QgAAgIk8G3dCAABA744bd0IAAABV4Rt3QgAAwLozHHdCAACAIIYcd0IAAECG2Bx3QgAAAOwqHXdCAADAUX0dd0IAAIC3zx13QgAAQB0iHndCAAAAg3Qed0IAAMDoxh53QgAAgE4ZH3dCAABAtGsfd0IAAAAavh93QgAAwH8QIHdCAACA5WIgd0IAAEBLtSB3QgAAALEHIXdCAADAFlohd0IAAIB8rCF3QgAAQOL+IXdCAAAASFEid0IAAMCtoyJ3QgAAgBP2IndCAABAeUgjd0IAAADfmiN3QgAAwETtI3dCAACAqj8kd0IAAEAQkiR3QgAAAHbkJHdCAADA2zYld0IAAIBBiSV3QgAAQKfbJXdCAAAADS4md0IAAMBygCZ3QgAAgNjSJndCAABAPiUnd0IAAACkdyd3QgAAwAnKJ3dCAACAbxwod0IAAEDVbih3QgAAADvBKHdCAADAoBMpd0IAAIAGZil3QgAAQGy4KXdCAAAA0goqd0IAAMA3XSp3QgAAgJ2vKndCAABAAwIrd0IAAABpVCt3QgAAwM6mK3dCAACANPkrd0IAAECaSyx3QgAAAACeLHdCAADAZfAsd0IAAIDLQi13QgAAQDGVLXdCAAAAl+ctd0IAAMD8OS53QgAAgGKMLndCAABAyN4ud0IAAAAuMS93QgAAwJODL3dCAACA+dUvd0IAAEBfKDB3QgAAAMV6MHdCAADAKs0wd0IAAICQHzF3QgAAQPZxMXdCAAAAXMQxd0IAAMDBFjJ3QgAAgCdpMndCAABAjbsyd0IAAADzDTN3QgAAwFhgM3dCAACAvrIzd0IAAEAkBTR3QgAAAIpXNHdCAADA76k0d0IAAIBV/DR3QgAAQLtONXdCAAAAIaE1d0IAAMCG8zV3QgAAgOxFNndCAABAUpg2d0IAAAC46jZ3QgAAwB09N3dCAACAg483d0IAAEDp4Td3QgAAAE80OHdCAADAtIY4d0IAAIAa2Th3QgAAQIArOXdCAAAA5n05d0IAAMBL0Dl3QgAAgLEiOndCAABAF3U6d0IAAAB9xzp3QgAAwOIZO3dCAACASGw7d0IAAECuvjt3QgAAABQRPHdCAADAeWM8d0IAAIDftTx3QgAAQEUIPXdCAAAAq1o9d0IAAMAQrT13QgAAgHb/PXdCAABA3FE+d0IAAABCpD53QgAAwKf2PndCAACADUk/d0IAAEBzmz93QgAAANntP3dCAADAPkBAd0IAAICkkkB3QgAAQArlQHdCAAAAcDdBd0IAAMDViUF3Qg==\",\"dtype\":\"float64\",\"shape\":[182]},\"y\":[0,0,0,0,0,0,0,0,0,0,0,1,0,2,2,1,0,3,2,2,3,3,4,9,6,5,7,3,10,17,15,11,12,6,12,14,12,7,16,14,13,7,10,9,6,9,10,10,6,5,16,11,5,16,8,1,8,14,7,5,9,3,2,8,17,17,10,41,15,11,16,10,4,5,6,4,4,5,4,11,18,9,12,6,6,12,7,15,7,7,8,4,5,8,7,13,7,7,4,2,6,3,4,4,2,3,3,4,6,5,25,2,3,3,4,4,4,1,0,3,2,1,2,1,1,0,0,0,2,0,1,1,0,1,0,0,1,1,0,0,1,1,1,1,1,1,1,0,2,2,1,1,1,2,1,1,0,1,0,0,0,1,0,1,0,0,1,0,1,0,1,1,1,0,0,0,1,0,1,1,0,1]},\"selected\":{\"id\":\"2863\"},\"selection_policy\":{\"id\":\"2862\"}},\"id\":\"2833\",\"type\":\"ColumnDataSource\"},{\"attributes\":{\"line_color\":\"lightgreen\",\"line_width\":4,\"x\":{\"field\":\"x\"},\"y\":{\"field\":\"y\"}},\"id\":\"2839\",\"type\":\"Line\"},{\"attributes\":{\"mantissas\":[1,2,5],\"max_interval\":500.0,\"num_minor_ticks\":0},\"id\":\"2818\",\"type\":\"AdaptiveTicker\"},{\"attributes\":{},\"id\":\"2862\",\"type\":\"UnionRenderers\"},{\"attributes\":{},\"id\":\"2782\",\"type\":\"LinearScale\"},{\"attributes\":{\"fill_alpha\":{\"value\":0.1},\"fill_color\":{\"value\":\"white\"},\"line_alpha\":{\"value\":0.1},\"line_color\":{\"value\":\"lightgreen\"},\"size\":{\"units\":\"screen\",\"value\":5},\"x\":{\"field\":\"x\"},\"y\":{\"field\":\"y\"}},\"id\":\"2868\",\"type\":\"Circle\"},{\"attributes\":{\"base\":24,\"mantissas\":[1,2,4,6,8,12],\"max_interval\":43200000.0,\"min_interval\":3600000.0,\"num_minor_ticks\":0},\"id\":\"2820\",\"type\":\"AdaptiveTicker\"},{\"attributes\":{\"months\":[0,4,8]},\"id\":\"2827\",\"type\":\"MonthsTicker\"},{\"attributes\":{\"data\":{\"x\":{\"__ndarray__\":\"AAAA5UcHd0IAAMBKmgd3QgAAgLDsB3dCAABAFj8Id0IAAAB8kQh3QgAAwOHjCHdCAACARzYJd0IAAECtiAl3QgAAABPbCXdCAADAeC0Kd0IAAIDefwp3QgAAQETSCndCAAAAqiQLd0IAAMAPdwt3QgAAgHXJC3dCAABA2xsMd0IAAABBbgx3QgAAwKbADHdCAACADBMNd0IAAEByZQ13QgAAANi3DXdCAADAPQoOd0IAAICjXA53QgAAQAmvDndCAAAAbwEPd0IAAMDUUw93QgAAgDqmD3dCAABAoPgPd0IAAAAGSxB3QgAAwGudEHdCAACA0e8Qd0IAAEA3QhF3QgAAAJ2UEXdCAADAAucRd0IAAIBoORJ3QgAAQM6LEndCAAAANN4Sd0IAAMCZMBN3QgAAgP+CE3dCAABAZdUTd0IAAADLJxR3QgAAwDB6FHdCAACAlswUd0IAAED8HhV3QgAAAGJxFXdCAADAx8MVd0IAAIAtFhZ3QgAAQJNoFndCAAAA+boWd0IAAMBeDRd3QgAAgMRfF3dCAABAKrIXd0IAAACQBBh3QgAAwPVWGHdCAACAW6kYd0IAAEDB+xh3QgAAACdOGXdCAADAjKAZd0IAAIDy8hl3QgAAQFhFGndCAAAAvpcad0IAAMAj6hp3QgAAgIk8G3dCAABA744bd0IAAABV4Rt3QgAAwLozHHdCAACAIIYcd0IAAECG2Bx3QgAAAOwqHXdCAADAUX0dd0IAAIC3zx13QgAAQB0iHndCAAAAg3Qed0IAAMDoxh53QgAAgE4ZH3dCAABAtGsfd0IAAAAavh93QgAAwH8QIHdCAACA5WIgd0IAAEBLtSB3QgAAALEHIXdCAADAFlohd0IAAIB8rCF3QgAAQOL+IXdCAAAASFEid0IAAMCtoyJ3QgAAgBP2IndCAABAeUgjd0IAAADfmiN3QgAAwETtI3dCAACAqj8kd0IAAEAQkiR3QgAAAHbkJHdCAADA2zYld0IAAIBBiSV3QgAAQKfbJXdCAAAADS4md0IAAMBygCZ3QgAAgNjSJndCAABAPiUnd0IAAACkdyd3QgAAwAnKJ3dCAACAbxwod0IAAEDVbih3QgAAADvBKHdCAADAoBMpd0IAAIAGZil3QgAAQGy4KXdCAAAA0goqd0IAAMA3XSp3QgAAgJ2vKndCAABAAwIrd0IAAABpVCt3QgAAwM6mK3dCAACANPkrd0IAAECaSyx3QgAAAACeLHdCAADAZfAsd0IAAIDLQi13QgAAQDGVLXdCAAAAl+ctd0IAAMD8OS53QgAAgGKMLndCAABAyN4ud0IAAAAuMS93QgAAwJODL3dCAACA+dUvd0IAAEBfKDB3QgAAAMV6MHdCAADAKs0wd0IAAICQHzF3QgAAQPZxMXdCAAAAXMQxd0IAAMDBFjJ3QgAAgCdpMndCAABAjbsyd0IAAADzDTN3QgAAwFhgM3dCAACAvrIzd0IAAEAkBTR3QgAAAIpXNHdCAADA76k0d0IAAIBV/DR3QgAAQLtONXdCAAAAIaE1d0IAAMCG8zV3QgAAgOxFNndCAABAUpg2d0IAAAC46jZ3QgAAwB09N3dCAACAg483d0IAAEDp4Td3QgAAAE80OHdCAADAtIY4d0IAAIAa2Th3QgAAQIArOXdCAAAA5n05d0IAAMBL0Dl3QgAAgLEiOndCAABAF3U6d0IAAAB9xzp3QgAAwOIZO3dCAACASGw7d0IAAECuvjt3QgAAABQRPHdCAADAeWM8d0IAAIDftTx3QgAAQEUIPXdCAAAAq1o9d0IAAMAQrT13QgAAgHb/PXdCAABA3FE+d0IAAABCpD53QgAAwKf2PndCAACADUk/d0IAAEBzmz93QgAAANntP3dCAADAPkBAd0IAAICkkkB3QgAAQArlQHdCAAAAcDdBd0IAAMDViUF3Qg==\",\"dtype\":\"float64\",\"shape\":[182]},\"y\":{\"__ndarray__\":\"AAAAAAAA+H8AAAAAAAD4fwAAAAAAAPh/AAAAAAAA+H8AAAAAAAD4fwAAAAAAAPh/AAAAAAAA+H8AAAAAAAD4fwAAAAAAAPh/AAAAAAAA+H8AAAAAAAD4fwAAAAAAAPh/AAAAAAAA+H/btm3btm3LP7dt27Zt29Y/27Zt27Zt2z/btm3btm3bPyVJkiRJkuQ/SZIkSZIk6T9u27Zt27btP5IkSZIkSfI/btu2bdu29T+SJEmSJEn6P5IkSZIkSQJAbtu2bdu2BUAAAAAAAAAIQAAAAAAAAAxAJUmSJEmSDEAlSZIkSZIQQEmSJEmSJBVA27Zt27ZtGUBu27Zt27YbQCVJkiRJkh5Abtu2bdu2H0BJkiRJkiQhQG7btm3btiJAt23btm3bI0AlSZIkSZIjQAAAAAAAACVAkiRJkiRJJkBJkiRJkiQnQG7btm3btidAbtu2bdu2J0AlSZIkSZImQJIkSZIkSSVAAAAAAAAAJUBu27Zt27YkQJIkSZIkSSVA27Zt27ZtJEBJkiRJkiQjQG7btm3btiNAkiRJkiRJJEBu27Zt27YiQAAAAAAAACNAkiRJkiRJIkDbtm3btm0hQEmSJEmSJCFAt23btm3bIUAAAAAAAAAiQNu2bdu2bSFAkiRJkiRJIUCSJEmSJEkgQNu2bdu2bR9ASZIkSZIkIECSJEmSJEkgQEmSJEmSJCFAt23btm3bIUDbtm3btm0lQNu2bdu2bSZAt23btm3bJ0AAAAAAAAApQNu2bdu2bShAAAAAAAAAKEAAAAAAAAAoQCVJkiRJkidAbtu2bdu2J0AAAAAAAAAoQCVJkiRJkidAbtu2bdu2JUC3bdu2bdskQAAAAAAAACZA27Zt27ZtIUAAAAAAAAAhQJIkSZIkSSBAbtu2bdu2HUCSJEmSJEkeQEmSJEmSJB9AAAAAAAAAIUBJkiRJkiQhQCVJkiRJkiFASZIkSZIkIkAAAAAAAAAiQEmSJEmSJCJAbtu2bdu2IUBJkiRJkiQgQG7btm3btiBAAAAAAAAAIEBJkiRJkiQgQG7btm3bth9At23btm3bHEAlSZIkSZIcQEmSJEmSJBlAkiRJkiRJGEDbtm3btm0XQG7btm3bthVA27Zt27ZtFUC3bdu2bdsUQG7btm3bthNA27Zt27ZtE0BJkiRJkiQRQJIkSZIkSRZAt23btm3bFEAlSZIkSZIUQLdt27Zt2xRAkiRJkiRJFEAlSZIkSZIUQCVJkiRJkhRAbtu2bdu2E0BJkiRJkiQTQEmSJEmSJBNAt23btm3bEkAAAAAAAAASQLdt27Zt2xBA27Zt27ZtD0Bu27Zt27YBQCVJkiRJkgBAbtu2bdu2/T+SJEmSJEn6PwAAAAAAAPg/27Zt27Zt8z8AAAAAAADwPwAAAAAAAPA/AAAAAAAA8D/btm3btm3rP7dt27Zt2+Y/JUmSJEmS5D+SJEmSJEniP5IkSZIkSeI/AAAAAAAA4D8AAAAAAADgP5IkSZIkSeI/JUmSJEmS5D+SJEmSJEniPyVJkiRJkuQ/JUmSJEmS5D8lSZIkSZLkP7dt27Zt2+Y/JUmSJEmS5D9JkiRJkiTpP27btm3btu0/btu2bdu27T9u27Zt27btPwAAAAAAAPA/kiRJkiRJ8j+SJEmSJEnyP5IkSZIkSfI/SZIkSZIk8T9JkiRJkiTxPwAAAAAAAPA/btu2bdu27T/btm3btm3rP27btm3btu0/SZIkSZIk6T+3bdu2bdvmPyVJkiRJkuQ/kiRJkiRJ4j+SJEmSJEniP9u2bdu2bds/27Zt27Zt2z+3bdu2bdvWP9u2bdu2bds/27Zt27Zt2z8AAAAAAADgPwAAAAAAAOA/AAAAAAAA4D/btm3btm3bPwAAAAAAAOA/27Zt27Zt2z8AAAAAAADgP5IkSZIkSeI/AAAAAAAA4D+SJEmSJEniPw==\",\"dtype\":\"float64\",\"shape\":[182]}},\"selected\":{\"id\":\"2971\"},\"selection_policy\":{\"id\":\"2970\"}},\"id\":\"2866\",\"type\":\"ColumnDataSource\"},{\"attributes\":{},\"id\":\"2863\",\"type\":\"Selection\"},{\"attributes\":{\"active_drag\":\"auto\",\"active_inspect\":\"auto\",\"active_multi\":null,\"active_scroll\":\"auto\",\"active_tap\":\"auto\",\"tools\":[{\"id\":\"2794\"},{\"id\":\"2795\"},{\"id\":\"2796\"},{\"id\":\"2797\"},{\"id\":\"2798\"},{\"id\":\"2799\"},{\"id\":\"2875\"}]},\"id\":\"2801\",\"type\":\"Toolbar\"},{\"attributes\":{},\"id\":\"2829\",\"type\":\"YearsTicker\"},{\"attributes\":{},\"id\":\"2860\",\"type\":\"UnionRenderers\"},{\"attributes\":{\"data_source\":{\"id\":\"2866\"},\"glyph\":{\"id\":\"2867\"},\"hover_glyph\":null,\"muted_glyph\":null,\"nonselection_glyph\":{\"id\":\"2868\"},\"selection_glyph\":null,\"view\":{\"id\":\"2870\"}},\"id\":\"2869\",\"type\":\"GlyphRenderer\"},{\"attributes\":{\"fill_color\":{\"value\":\"white\"},\"line_color\":{\"value\":\"lightgreen\"},\"size\":{\"units\":\"screen\",\"value\":5},\"x\":{\"field\":\"x\"},\"y\":{\"field\":\"y\"}},\"id\":\"2867\",\"type\":\"Circle\"}],\"root_ids\":[\"2775\"]},\"title\":\"Bokeh Application\",\"version\":\"2.0.2\"}};\n",
       "  var render_items = [{\"docid\":\"847f0868-d31f-458d-90be-cd1f3814b63d\",\"root_ids\":[\"2775\"],\"roots\":{\"2775\":\"e99874ce-6a6e-4c2f-abc5-da78566c1774\"}}];\n",
       "  root.Bokeh.embed.embed_items_notebook(docs_json, render_items);\n",
       "\n",
       "  }\n",
       "  if (root.Bokeh !== undefined) {\n",
       "    embed_document(root);\n",
       "  } else {\n",
       "    var attempts = 0;\n",
       "    var timer = setInterval(function(root) {\n",
       "      if (root.Bokeh !== undefined) {\n",
       "        clearInterval(timer);\n",
       "        embed_document(root);\n",
       "      } else {\n",
       "        attempts++;\n",
       "        if (attempts > 100) {\n",
       "          clearInterval(timer);\n",
       "          console.log(\"Bokeh: ERROR: Unable to run BokehJS code because BokehJS library is missing\");\n",
       "        }\n",
       "      }\n",
       "    }, 10, root)\n",
       "  }\n",
       "})(window);"
      ],
      "application/vnd.bokehjs_exec.v0+json": ""
     },
     "metadata": {
      "application/vnd.bokehjs_exec.v0+json": {
       "id": "2775"
      }
     },
     "output_type": "display_data"
    }
   ],
   "source": [
    "p_new_deaths_SMA_Lazio = bokeh_plot_N_lines(x=time_date_new, y_list=[nuovi_deceduti_Lazio,SMA_new_deaths_Lazio_2[0]], \n",
    "                  title='New Deaths: Lazio',\n",
    "                  dim=[600, 450], \n",
    "                  x_label='Date',\n",
    "                  y_label='New Deaths', \n",
    "                  legend_list=['new deaths','SMA 14 days'],\n",
    "                  x_label_hover='date' , y_label_hover='new_deaths OR SMA 14' , \n",
    "                  color_list=['darkviolet','lightgreen'],legend_location=\"top_left\")\n",
    "\n",
    "output_file(\"new_deaths_SMA_Lazio.html\")\n",
    "\n",
    "show(p_new_deaths_SMA_Lazio)"
   ]
  },
  {
   "cell_type": "markdown",
   "metadata": {},
   "source": [
    "----------------\n",
    "\n",
    "----------------"
   ]
  },
  {
   "cell_type": "code",
   "execution_count": 26,
   "metadata": {},
   "outputs": [],
   "source": [
    "s1_grid_Lazio = bokeh_plot_N_lines(x=time_date_new, y_list=[total_cases_Lazio,total_positive_Lazio], \n",
    "                  title='Total Cases & Total Positive: Lazio', \n",
    "                  dim=[470, 350], \n",
    "                  x_label='Date', \n",
    "                  y_label='Total Cases & Total Positive', legend_list=['total cases','total positive'],\n",
    "                  x_label_hover='date', y_label_hover='total cases OR total positive',\n",
    "                  color_list=['blue','red'],legend_location=\"top_left\")\n",
    "\n",
    "s2_grid_Lazio = bokeh_plot_N_lines(x=time_date_new, y_list=[deceduti_Lazio,guariti_Lazio], \n",
    "                  title='Deaths & Recovered: Lazio', \n",
    "                  dim=[470, 350], \n",
    "                  x_label='Date', \n",
    "                  y_label='Deaths & Recovered', legend_list=['deaths','recovered'],\n",
    "                  x_label_hover='date', y_label_hover='deaths OR recovered',\n",
    "                  color_list=['darkviolet','green'],legend_location=\"top_left\")\n",
    "\n",
    "\n",
    "s3_grid_Lazio = bokeh_plot_N_lines(x=time_date_new, y_list=[nuovi_positivi_Lazio,SMA_new_positive_Lazio_2['nuovi_positivi']], \n",
    "                  title='New Positive: Lazio',\n",
    "                  dim=[470, 350], \n",
    "                  x_label='Date',\n",
    "                  y_label='New Positive', \n",
    "                  legend_list=['new positive','SMA 14 days'],\n",
    "                  x_label_hover='date' , y_label_hover='new_positive OR SMA 14' , \n",
    "                  color_list=['blue','lightcoral'],legend_location=\"top_left\")\n",
    "\n",
    "s4_grid_Lazio = bokeh_plot_N_lines(x=time_date_new, y_list=[nuovi_deceduti_Lazio,SMA_new_deaths_Lazio_2[0]], \n",
    "                  title='New Deaths: Lazio',\n",
    "                  dim=[470, 350], \n",
    "                  x_label='Date',\n",
    "                  y_label='New Deaths', \n",
    "                  legend_list=['new deaths','SMA 14 days'],\n",
    "                  x_label_hover='date' , y_label_hover='new_deaths OR SMA 14' , \n",
    "                  color_list=['darkviolet','lightgreen'],legend_location=\"top_left\")"
   ]
  },
  {
   "cell_type": "code",
   "execution_count": 27,
   "metadata": {},
   "outputs": [
    {
     "data": {
      "text/html": [
       "\n",
       "\n",
       "\n",
       "\n",
       "\n",
       "\n",
       "  <div class=\"bk-root\" id=\"b64e1b25-f9b4-4b25-9b7a-794fd5a597b5\" data-root-id=\"3941\"></div>\n"
      ]
     },
     "metadata": {},
     "output_type": "display_data"
    },
    {
     "data": {
      "application/javascript": [
       "(function(root) {\n",
       "  function embed_document(root) {\n",
       "    \n",
       "  var docs_json = {\"f27519fa-28f7-4895-847c-352e03c34b04\":{\"roots\":{\"references\":[{\"attributes\":{\"children\":[{\"id\":\"3940\"},{\"id\":\"3938\"}]},\"id\":\"3941\",\"type\":\"Column\"},{\"attributes\":{\"data_source\":{\"id\":\"3623\"},\"glyph\":{\"id\":\"3624\"},\"hover_glyph\":null,\"muted_glyph\":null,\"nonselection_glyph\":{\"id\":\"3625\"},\"selection_glyph\":null,\"view\":{\"id\":\"3627\"}},\"id\":\"3626\",\"type\":\"GlyphRenderer\"},{\"attributes\":{\"source\":{\"id\":\"3493\"}},\"id\":\"3497\",\"type\":\"CDSView\"},{\"attributes\":{\"days\":[\"%d %B\"]},\"id\":\"3832\",\"type\":\"DatetimeTickFormatter\"},{\"attributes\":{\"fill_alpha\":{\"value\":0.1},\"fill_color\":{\"value\":\"white\"},\"line_alpha\":{\"value\":0.1},\"line_color\":{\"value\":\"lightgreen\"},\"size\":{\"units\":\"screen\",\"value\":5},\"x\":{\"field\":\"x\"},\"y\":{\"field\":\"y\"}},\"id\":\"3829\",\"type\":\"Circle\"},{\"attributes\":{\"data_source\":{\"id\":\"3725\"},\"glyph\":{\"id\":\"3726\"},\"hover_glyph\":null,\"muted_glyph\":null,\"nonselection_glyph\":{\"id\":\"3727\"},\"selection_glyph\":null,\"view\":{\"id\":\"3729\"}},\"id\":\"3728\",\"type\":\"GlyphRenderer\"},{\"attributes\":{\"source\":{\"id\":\"3623\"}},\"id\":\"3627\",\"type\":\"CDSView\"},{\"attributes\":{},\"id\":\"3824\",\"type\":\"Selection\"},{\"attributes\":{\"data_source\":{\"id\":\"3799\"},\"glyph\":{\"id\":\"3800\"},\"hover_glyph\":null,\"muted_glyph\":null,\"nonselection_glyph\":{\"id\":\"3801\"},\"selection_glyph\":null,\"view\":{\"id\":\"3803\"}},\"id\":\"3802\",\"type\":\"GlyphRenderer\"},{\"attributes\":{\"days\":[\"%d %B\"]},\"id\":\"3526\",\"type\":\"DatetimeTickFormatter\"},{\"attributes\":{\"data\":{\"x\":{\"__ndarray__\":\"AAAA5UcHd0IAAMBKmgd3QgAAgLDsB3dCAABAFj8Id0IAAAB8kQh3QgAAwOHjCHdCAACARzYJd0IAAECtiAl3QgAAABPbCXdCAADAeC0Kd0IAAIDefwp3QgAAQETSCndCAAAAqiQLd0IAAMAPdwt3QgAAgHXJC3dCAABA2xsMd0IAAABBbgx3QgAAwKbADHdCAACADBMNd0IAAEByZQ13QgAAANi3DXdCAADAPQoOd0IAAICjXA53QgAAQAmvDndCAAAAbwEPd0IAAMDUUw93QgAAgDqmD3dCAABAoPgPd0IAAAAGSxB3QgAAwGudEHdCAACA0e8Qd0IAAEA3QhF3QgAAAJ2UEXdCAADAAucRd0IAAIBoORJ3QgAAQM6LEndCAAAANN4Sd0IAAMCZMBN3QgAAgP+CE3dCAABAZdUTd0IAAADLJxR3QgAAwDB6FHdCAACAlswUd0IAAED8HhV3QgAAAGJxFXdCAADAx8MVd0IAAIAtFhZ3QgAAQJNoFndCAAAA+boWd0IAAMBeDRd3QgAAgMRfF3dCAABAKrIXd0IAAACQBBh3QgAAwPVWGHdCAACAW6kYd0IAAEDB+xh3QgAAACdOGXdCAADAjKAZd0IAAIDy8hl3QgAAQFhFGndCAAAAvpcad0IAAMAj6hp3QgAAgIk8G3dCAABA744bd0IAAABV4Rt3QgAAwLozHHdCAACAIIYcd0IAAECG2Bx3QgAAAOwqHXdCAADAUX0dd0IAAIC3zx13QgAAQB0iHndCAAAAg3Qed0IAAMDoxh53QgAAgE4ZH3dCAABAtGsfd0IAAAAavh93QgAAwH8QIHdCAACA5WIgd0IAAEBLtSB3QgAAALEHIXdCAADAFlohd0IAAIB8rCF3QgAAQOL+IXdCAAAASFEid0IAAMCtoyJ3QgAAgBP2IndCAABAeUgjd0IAAADfmiN3QgAAwETtI3dCAACAqj8kd0IAAEAQkiR3QgAAAHbkJHdCAADA2zYld0IAAIBBiSV3QgAAQKfbJXdCAAAADS4md0IAAMBygCZ3QgAAgNjSJndCAABAPiUnd0IAAACkdyd3QgAAwAnKJ3dCAACAbxwod0IAAEDVbih3QgAAADvBKHdCAADAoBMpd0IAAIAGZil3QgAAQGy4KXdCAAAA0goqd0IAAMA3XSp3QgAAgJ2vKndCAABAAwIrd0IAAABpVCt3QgAAwM6mK3dCAACANPkrd0IAAECaSyx3QgAAAACeLHdCAADAZfAsd0IAAIDLQi13QgAAQDGVLXdCAAAAl+ctd0IAAMD8OS53QgAAgGKMLndCAABAyN4ud0IAAAAuMS93QgAAwJODL3dCAACA+dUvd0IAAEBfKDB3QgAAAMV6MHdCAADAKs0wd0IAAICQHzF3QgAAQPZxMXdCAAAAXMQxd0IAAMDBFjJ3QgAAgCdpMndCAABAjbsyd0IAAADzDTN3QgAAwFhgM3dCAACAvrIzd0IAAEAkBTR3QgAAAIpXNHdCAADA76k0d0IAAIBV/DR3QgAAQLtONXdCAAAAIaE1d0IAAMCG8zV3QgAAgOxFNndCAABAUpg2d0IAAAC46jZ3QgAAwB09N3dCAACAg483d0IAAEDp4Td3QgAAAE80OHdCAADAtIY4d0IAAIAa2Th3QgAAQIArOXdCAAAA5n05d0IAAMBL0Dl3QgAAgLEiOndCAABAF3U6d0IAAAB9xzp3QgAAwOIZO3dCAACASGw7d0IAAECuvjt3QgAAABQRPHdCAADAeWM8d0IAAIDftTx3QgAAQEUIPXdCAAAAq1o9d0IAAMAQrT13QgAAgHb/PXdCAABA3FE+d0IAAABCpD53QgAAwKf2PndCAACADUk/d0IAAEBzmz93QgAAANntP3dCAADAPkBAd0IAAICkkkB3QgAAQArlQHdCAAAAcDdBd0IAAMDViUF3Qg==\",\"dtype\":\"float64\",\"shape\":[182]},\"y\":[1,1,3,3,3,3,3,3,3,3,3,3,3,3,3,11,19,19,24,24,24,32,34,42,44,53,54,58,63,103,131,155,164,200,208,267,291,337,369,392,439,475,502,546,574,644,687,720,749,764,789,874,920,978,1046,1093,1101,1130,1142,1193,1256,1276,1347,1433,1491,1579,1707,1744,1807,1916,1938,2010,2024,2143,2209,2235,2322,2334,2373,2438,2600,2672,2758,2914,3031,3079,3100,3259,3285,3350,3374,3401,3430,3483,3580,3825,3932,4010,4105,4155,4188,4260,4309,4346,4362,4450,4515,4533,4596,4913,5778,5825,5855,6024,6120,6167,6181,6195,6199,6250,6315,6337,6354,6412,6418,6418,6428,6437,6448,6460,6475,6477,6484,6493,6495,6508,6520,6530,6535,6557,6601,6616,6631,6687,6698,6703,6713,6714,6722,6728,6735,6743,6749,6759,6762,6773,6780,6829,6839,6852,6855,6859,6863,6878,6886,6891,6901,6910,6912,6915,6931,6960,6966,6971,6973,6979,6991,6996,6999,7009,7020,7046]},\"selected\":{\"id\":\"3883\"},\"selection_policy\":{\"id\":\"3882\"}},\"id\":\"3595\",\"type\":\"ColumnDataSource\"},{\"attributes\":{\"data\":{\"x\":{\"__ndarray__\":\"AAAA5UcHd0IAAMBKmgd3QgAAgLDsB3dCAABAFj8Id0IAAAB8kQh3QgAAwOHjCHdCAACARzYJd0IAAECtiAl3QgAAABPbCXdCAADAeC0Kd0IAAIDefwp3QgAAQETSCndCAAAAqiQLd0IAAMAPdwt3QgAAgHXJC3dCAABA2xsMd0IAAABBbgx3QgAAwKbADHdCAACADBMNd0IAAEByZQ13QgAAANi3DXdCAADAPQoOd0IAAICjXA53QgAAQAmvDndCAAAAbwEPd0IAAMDUUw93QgAAgDqmD3dCAABAoPgPd0IAAAAGSxB3QgAAwGudEHdCAACA0e8Qd0IAAEA3QhF3QgAAAJ2UEXdCAADAAucRd0IAAIBoORJ3QgAAQM6LEndCAAAANN4Sd0IAAMCZMBN3QgAAgP+CE3dCAABAZdUTd0IAAADLJxR3QgAAwDB6FHdCAACAlswUd0IAAED8HhV3QgAAAGJxFXdCAADAx8MVd0IAAIAtFhZ3QgAAQJNoFndCAAAA+boWd0IAAMBeDRd3QgAAgMRfF3dCAABAKrIXd0IAAACQBBh3QgAAwPVWGHdCAACAW6kYd0IAAEDB+xh3QgAAACdOGXdCAADAjKAZd0IAAIDy8hl3QgAAQFhFGndCAAAAvpcad0IAAMAj6hp3QgAAgIk8G3dCAABA744bd0IAAABV4Rt3QgAAwLozHHdCAACAIIYcd0IAAECG2Bx3QgAAAOwqHXdCAADAUX0dd0IAAIC3zx13QgAAQB0iHndCAAAAg3Qed0IAAMDoxh53QgAAgE4ZH3dCAABAtGsfd0IAAAAavh93QgAAwH8QIHdCAACA5WIgd0IAAEBLtSB3QgAAALEHIXdCAADAFlohd0IAAIB8rCF3QgAAQOL+IXdCAAAASFEid0IAAMCtoyJ3QgAAgBP2IndCAABAeUgjd0IAAADfmiN3QgAAwETtI3dCAACAqj8kd0IAAEAQkiR3QgAAAHbkJHdCAADA2zYld0IAAIBBiSV3QgAAQKfbJXdCAAAADS4md0IAAMBygCZ3QgAAgNjSJndCAABAPiUnd0IAAACkdyd3QgAAwAnKJ3dCAACAbxwod0IAAEDVbih3QgAAADvBKHdCAADAoBMpd0IAAIAGZil3QgAAQGy4KXdCAAAA0goqd0IAAMA3XSp3QgAAgJ2vKndCAABAAwIrd0IAAABpVCt3QgAAwM6mK3dCAACANPkrd0IAAECaSyx3QgAAAACeLHdCAADAZfAsd0IAAIDLQi13QgAAQDGVLXdCAAAAl+ctd0IAAMD8OS53QgAAgGKMLndCAABAyN4ud0IAAAAuMS93QgAAwJODL3dCAACA+dUvd0IAAEBfKDB3QgAAAMV6MHdCAADAKs0wd0IAAICQHzF3QgAAQPZxMXdCAAAAXMQxd0IAAMDBFjJ3QgAAgCdpMndCAABAjbsyd0IAAADzDTN3QgAAwFhgM3dCAACAvrIzd0IAAEAkBTR3QgAAAIpXNHdCAADA76k0d0IAAIBV/DR3QgAAQLtONXdCAAAAIaE1d0IAAMCG8zV3QgAAgOxFNndCAABAUpg2d0IAAAC46jZ3QgAAwB09N3dCAACAg483d0IAAEDp4Td3QgAAAE80OHdCAADAtIY4d0IAAIAa2Th3QgAAQIArOXdCAAAA5n05d0IAAMBL0Dl3QgAAgLEiOndCAABAF3U6d0IAAAB9xzp3QgAAwOIZO3dCAACASGw7d0IAAECuvjt3QgAAABQRPHdCAADAeWM8d0IAAIDftTx3QgAAQEUIPXdCAAAAq1o9d0IAAMAQrT13QgAAgHb/PXdCAABA3FE+d0IAAABCpD53QgAAwKf2PndCAACADUk/d0IAAEBzmz93QgAAANntP3dCAADAPkBAd0IAAICkkkB3QgAAQArlQHdCAAAAcDdBd0IAAMDViUF3Qg==\",\"dtype\":\"float64\",\"shape\":[182]},\"y\":{\"__ndarray__\":\"AAAAAAAA+H8AAAAAAAD4fwAAAAAAAPh/AAAAAAAA+H8AAAAAAAD4fwAAAAAAAPh/AAAAAAAA+H8AAAAAAAD4fwAAAAAAAPh/AAAAAAAA+H8AAAAAAAD4fwAAAAAAAPh/AAAAAAAA+H8lSZIkSZIYQJIkSZIkSRxASZIkSZIkIEAAAAAAAAAlQEmSJEmSJCxAJUmSJEmSM0AlSZIkSRI5QG7btm3btj5A27Zt27ZtQkDbtm3bti1FQJIkSZIkyUhAJUmSJEnSS0CSJEmSJAlRQEmSJEmS5FNASZIkSZIkV0Dbtm3btq1ZQJIkSZIkyVxASZIkSZJEX0Dbtm3btu1gQEmSJEmSBGJA27Zt27YtY0BJkiRJkkRkQJIkSZIkWWVAbtu2bds2ZkDbtm3btq1mQNu2bdu2TWdASZIkSZIkZ0C3bdu2betmQLdt27ZtS2ZA27Zt27Y9ZkDbtm3btp1lQNu2bdu2HWVASZIkSZLUZEDbtm3btm1kQNu2bdu2zWNAkiRJkiQZY0Bu27Zt21ZiQAAAAAAAAGJAJUmSJEmSYUAlSZIkSWJhQNu2bdu2LWFAAAAAAAAQYUDbtm3btr1gQLdt27Zt219A27Zt27YtX0BJkiRJkoReQEmSJEmSBF1AkiRJkiSpW0Dbtm3bts1aQEmSJEmSJFpA27Zt27ZtWUBu27Zt2zZYQCVJkiRJcldAJUmSJEkSVkAAAAAAAIBUQNu2bdu2bVNAJUmSJEnSUkDbtm3btm1SQCVJkiRJMlJAbtu2bds2UkAAAAAAAIBRQJIkSZIkCVFAt23btm07UEAlSZIkSZJOQAAAAAAAgExAt23btm2bSkDbtm3bti1JQLdt27ZtG0hAbtu2bdu2SEC3bdu2bdtGQAAAAAAAwEZAkiRJkiTJRkC3bdu2bRtFQG7btm3bNkNAbtu2bdu2QkBu27Zt2/ZBQNu2bdu27UBAAAAAAACAQEDbtm3bti1AQJIkSZIkCUBASZIkSZIkPkBu27Zt27Y8QEmSJEmSpDhAkiRJkiTJNkBJkiRJkiQ0QCVJkiRJEjJAAAAAAAAAMUDbtm3btm0vQNu2bdu2bS1AkiRJkiRJKkBu27Zt27YrQNu2bdu2bSpA27Zt27ZtKkBJkiRJkiQrQEmSJEmSJCxAAAAAAAAALEAlSZIkSZItQEmSJEmSJDBAbtu2bds2MEDbtm3btm0vQAAAAAAAADBAAAAAAAAAMEBu27Zt27YvQG7btm3bti9Abtu2bdu2LUCSJEmSJEktQEmSJEmSJCxAAAAAAAAAKkCSJEmSJEkoQEmSJEmSJCdASZIkSZIkJUBJkiRJkiQkQEmSJEmSJCRAAAAAAAAAJUDbtm3btm0kQJIkSZIkSSRAJUmSJEmSJEC3bdu2bdskQJIkSZIkSSdASZIkSZIkKEBu27Zt27YpQJIkSZIkSSlA27Zt27ZtKkBu27Zt27YsQEmSJEmSJC5AkiRJkiRJLkBJkiRJkiQvQEmSJEmSpDBAJUmSJEmSMUC3bdu2bVsyQG7btm3bNjJA27Zt27ZtMkBJkiRJkqQxQLdt27Zt2zFAAAAAAACAMUAlSZIkSZIxQG7btm3btjFAJUmSJEmSMUBu27Zt2zYxQG7btm3bNjFASZIkSZIkMUC3bdu2bVswQCVJkiRJki9AkiRJkiTJMEDbtm3btm0xQG7btm3btjFAJUmSJEmSMUAlSZIkSZIxQEmSJEmSpDFA27Zt27ZtMkBJkiRJkiQyQCVJkiRJkjFAbtu2bdu2MUCSJEmSJMkxQEmSJEmSJDNA27Zt27btNEC3bdu2bds1QCVJkiRJEjZAt23btm1bN0CSJEmSJEk5QEmSJEmSJDxAkiRJkiTJP0Dbtm3bti1BQLdt27ZtG0JAt23btm1bREAlSZIkSdJHQAAAAAAAAExAt23btm17UUBu27Zt2xZUQA==\",\"dtype\":\"float64\",\"shape\":[182]}},\"selected\":{\"id\":\"3910\"},\"selection_policy\":{\"id\":\"3909\"}},\"id\":\"3725\",\"type\":\"ColumnDataSource\"},{\"attributes\":{\"source\":{\"id\":\"3521\"}},\"id\":\"3525\",\"type\":\"CDSView\"},{\"attributes\":{\"source\":{\"id\":\"3799\"}},\"id\":\"3803\",\"type\":\"CDSView\"},{\"attributes\":{},\"id\":\"3617\",\"type\":\"UnionRenderers\"},{\"attributes\":{\"text\":\"New Positive: Lazio\"},\"id\":\"3635\",\"type\":\"Title\"},{\"attributes\":{\"use_scientific\":false},\"id\":\"3528\",\"type\":\"BasicTickFormatter\"},{\"attributes\":{},\"id\":\"3908\",\"type\":\"Selection\"},{\"attributes\":{\"days\":[\"%d %B\"]},\"id\":\"3628\",\"type\":\"DatetimeTickFormatter\"},{\"attributes\":{\"source\":{\"id\":\"3725\"}},\"id\":\"3729\",\"type\":\"CDSView\"},{\"attributes\":{\"label\":{\"value\":\"SMA 14 days\"},\"renderers\":[{\"id\":\"3802\"}]},\"id\":\"3826\",\"type\":\"LegendItem\"},{\"attributes\":{\"text\":\"New Deaths: Lazio\"},\"id\":\"3737\",\"type\":\"Title\"},{\"attributes\":{\"source\":{\"id\":\"3590\"}},\"id\":\"3594\",\"type\":\"CDSView\"},{\"attributes\":{\"fill_color\":{\"value\":\"white\"},\"line_color\":{\"value\":\"lightgreen\"},\"size\":{\"units\":\"screen\",\"value\":5},\"x\":{\"field\":\"x\"},\"y\":{\"field\":\"y\"}},\"id\":\"3828\",\"type\":\"Circle\"},{\"attributes\":{\"data\":{\"x\":{\"__ndarray__\":\"AAAA5UcHd0IAAMBKmgd3QgAAgLDsB3dCAABAFj8Id0IAAAB8kQh3QgAAwOHjCHdCAACARzYJd0IAAECtiAl3QgAAABPbCXdCAADAeC0Kd0IAAIDefwp3QgAAQETSCndCAAAAqiQLd0IAAMAPdwt3QgAAgHXJC3dCAABA2xsMd0IAAABBbgx3QgAAwKbADHdCAACADBMNd0IAAEByZQ13QgAAANi3DXdCAADAPQoOd0IAAICjXA53QgAAQAmvDndCAAAAbwEPd0IAAMDUUw93QgAAgDqmD3dCAABAoPgPd0IAAAAGSxB3QgAAwGudEHdCAACA0e8Qd0IAAEA3QhF3QgAAAJ2UEXdCAADAAucRd0IAAIBoORJ3QgAAQM6LEndCAAAANN4Sd0IAAMCZMBN3QgAAgP+CE3dCAABAZdUTd0IAAADLJxR3QgAAwDB6FHdCAACAlswUd0IAAED8HhV3QgAAAGJxFXdCAADAx8MVd0IAAIAtFhZ3QgAAQJNoFndCAAAA+boWd0IAAMBeDRd3QgAAgMRfF3dCAABAKrIXd0IAAACQBBh3QgAAwPVWGHdCAACAW6kYd0IAAEDB+xh3QgAAACdOGXdCAADAjKAZd0IAAIDy8hl3QgAAQFhFGndCAAAAvpcad0IAAMAj6hp3QgAAgIk8G3dCAABA744bd0IAAABV4Rt3QgAAwLozHHdCAACAIIYcd0IAAECG2Bx3QgAAAOwqHXdCAADAUX0dd0IAAIC3zx13QgAAQB0iHndCAAAAg3Qed0IAAMDoxh53QgAAgE4ZH3dCAABAtGsfd0IAAAAavh93QgAAwH8QIHdCAACA5WIgd0IAAEBLtSB3QgAAALEHIXdCAADAFlohd0IAAIB8rCF3QgAAQOL+IXdCAAAASFEid0IAAMCtoyJ3QgAAgBP2IndCAABAeUgjd0IAAADfmiN3QgAAwETtI3dCAACAqj8kd0IAAEAQkiR3QgAAAHbkJHdCAADA2zYld0IAAIBBiSV3QgAAQKfbJXdCAAAADS4md0IAAMBygCZ3QgAAgNjSJndCAABAPiUnd0IAAACkdyd3QgAAwAnKJ3dCAACAbxwod0IAAEDVbih3QgAAADvBKHdCAADAoBMpd0IAAIAGZil3QgAAQGy4KXdCAAAA0goqd0IAAMA3XSp3QgAAgJ2vKndCAABAAwIrd0IAAABpVCt3QgAAwM6mK3dCAACANPkrd0IAAECaSyx3QgAAAACeLHdCAADAZfAsd0IAAIDLQi13QgAAQDGVLXdCAAAAl+ctd0IAAMD8OS53QgAAgGKMLndCAABAyN4ud0IAAAAuMS93QgAAwJODL3dCAACA+dUvd0IAAEBfKDB3QgAAAMV6MHdCAADAKs0wd0IAAICQHzF3QgAAQPZxMXdCAAAAXMQxd0IAAMDBFjJ3QgAAgCdpMndCAABAjbsyd0IAAADzDTN3QgAAwFhgM3dCAACAvrIzd0IAAEAkBTR3QgAAAIpXNHdCAADA76k0d0IAAIBV/DR3QgAAQLtONXdCAAAAIaE1d0IAAMCG8zV3QgAAgOxFNndCAABAUpg2d0IAAAC46jZ3QgAAwB09N3dCAACAg483d0IAAEDp4Td3QgAAAE80OHdCAADAtIY4d0IAAIAa2Th3QgAAQIArOXdCAAAA5n05d0IAAMBL0Dl3QgAAgLEiOndCAABAF3U6d0IAAAB9xzp3QgAAwOIZO3dCAACASGw7d0IAAECuvjt3QgAAABQRPHdCAADAeWM8d0IAAIDftTx3QgAAQEUIPXdCAAAAq1o9d0IAAMAQrT13QgAAgHb/PXdCAABA3FE+d0IAAABCpD53QgAAwKf2PndCAACADUk/d0IAAEBzmz93QgAAANntP3dCAADAPkBAd0IAAICkkkB3QgAAQArlQHdCAAAAcDdBd0IAAMDViUF3Qg==\",\"dtype\":\"float64\",\"shape\":[182]},\"y\":[0,0,0,0,0,0,0,0,0,0,0,1,1,3,5,6,6,9,11,13,16,19,23,32,38,43,50,53,63,80,95,106,118,124,136,150,162,169,185,199,212,219,229,238,244,253,263,273,279,284,300,311,316,332,340,341,349,363,370,375,384,387,389,397,414,431,441,482,497,508,524,534,538,543,549,553,557,562,566,577,595,604,616,622,628,640,647,662,669,676,684,688,693,701,708,721,728,735,739,741,747,750,754,758,760,763,766,770,776,781,806,808,811,814,818,822,826,827,827,830,832,833,835,836,837,837,837,837,839,839,840,841,841,842,842,842,843,844,844,844,845,846,847,848,849,850,851,851,853,855,856,857,858,860,861,862,862,863,863,863,863,864,864,865,865,865,866,866,867,867,868,869,870,870,870,870,871,871,872,873,873,874]},\"selected\":{\"id\":\"3620\"},\"selection_policy\":{\"id\":\"3619\"}},\"id\":\"3590\",\"type\":\"ColumnDataSource\"},{\"attributes\":{\"days\":[\"%d %B\"]},\"id\":\"3730\",\"type\":\"DatetimeTickFormatter\"},{\"attributes\":{},\"id\":\"3823\",\"type\":\"UnionRenderers\"},{\"attributes\":{\"data_source\":{\"id\":\"3590\"},\"glyph\":{\"id\":\"3591\"},\"hover_glyph\":null,\"muted_glyph\":null,\"nonselection_glyph\":{\"id\":\"3592\"},\"selection_glyph\":null,\"view\":{\"id\":\"3594\"}},\"id\":\"3593\",\"type\":\"GlyphRenderer\"},{\"attributes\":{\"use_scientific\":false},\"id\":\"3630\",\"type\":\"BasicTickFormatter\"},{\"attributes\":{\"data\":{\"x\":{\"__ndarray__\":\"AAAA5UcHd0IAAMBKmgd3QgAAgLDsB3dCAABAFj8Id0IAAAB8kQh3QgAAwOHjCHdCAACARzYJd0IAAECtiAl3QgAAABPbCXdCAADAeC0Kd0IAAIDefwp3QgAAQETSCndCAAAAqiQLd0IAAMAPdwt3QgAAgHXJC3dCAABA2xsMd0IAAABBbgx3QgAAwKbADHdCAACADBMNd0IAAEByZQ13QgAAANi3DXdCAADAPQoOd0IAAICjXA53QgAAQAmvDndCAAAAbwEPd0IAAMDUUw93QgAAgDqmD3dCAABAoPgPd0IAAAAGSxB3QgAAwGudEHdCAACA0e8Qd0IAAEA3QhF3QgAAAJ2UEXdCAADAAucRd0IAAIBoORJ3QgAAQM6LEndCAAAANN4Sd0IAAMCZMBN3QgAAgP+CE3dCAABAZdUTd0IAAADLJxR3QgAAwDB6FHdCAACAlswUd0IAAED8HhV3QgAAAGJxFXdCAADAx8MVd0IAAIAtFhZ3QgAAQJNoFndCAAAA+boWd0IAAMBeDRd3QgAAgMRfF3dCAABAKrIXd0IAAACQBBh3QgAAwPVWGHdCAACAW6kYd0IAAEDB+xh3QgAAACdOGXdCAADAjKAZd0IAAIDy8hl3QgAAQFhFGndCAAAAvpcad0IAAMAj6hp3QgAAgIk8G3dCAABA744bd0IAAABV4Rt3QgAAwLozHHdCAACAIIYcd0IAAECG2Bx3QgAAAOwqHXdCAADAUX0dd0IAAIC3zx13QgAAQB0iHndCAAAAg3Qed0IAAMDoxh53QgAAgE4ZH3dCAABAtGsfd0IAAAAavh93QgAAwH8QIHdCAACA5WIgd0IAAEBLtSB3QgAAALEHIXdCAADAFlohd0IAAIB8rCF3QgAAQOL+IXdCAAAASFEid0IAAMCtoyJ3QgAAgBP2IndCAABAeUgjd0IAAADfmiN3QgAAwETtI3dCAACAqj8kd0IAAEAQkiR3QgAAAHbkJHdCAADA2zYld0IAAIBBiSV3QgAAQKfbJXdCAAAADS4md0IAAMBygCZ3QgAAgNjSJndCAABAPiUnd0IAAACkdyd3QgAAwAnKJ3dCAACAbxwod0IAAEDVbih3QgAAADvBKHdCAADAoBMpd0IAAIAGZil3QgAAQGy4KXdCAAAA0goqd0IAAMA3XSp3QgAAgJ2vKndCAABAAwIrd0IAAABpVCt3QgAAwM6mK3dCAACANPkrd0IAAECaSyx3QgAAAACeLHdCAADAZfAsd0IAAIDLQi13QgAAQDGVLXdCAAAAl+ctd0IAAMD8OS53QgAAgGKMLndCAABAyN4ud0IAAAAuMS93QgAAwJODL3dCAACA+dUvd0IAAEBfKDB3QgAAAMV6MHdCAADAKs0wd0IAAICQHzF3QgAAQPZxMXdCAAAAXMQxd0IAAMDBFjJ3QgAAgCdpMndCAABAjbsyd0IAAADzDTN3QgAAwFhgM3dCAACAvrIzd0IAAEAkBTR3QgAAAIpXNHdCAADA76k0d0IAAIBV/DR3QgAAQLtONXdCAAAAIaE1d0IAAMCG8zV3QgAAgOxFNndCAABAUpg2d0IAAAC46jZ3QgAAwB09N3dCAACAg483d0IAAEDp4Td3QgAAAE80OHdCAADAtIY4d0IAAIAa2Th3QgAAQIArOXdCAAAA5n05d0IAAMBL0Dl3QgAAgLEiOndCAABAF3U6d0IAAAB9xzp3QgAAwOIZO3dCAACASGw7d0IAAECuvjt3QgAAABQRPHdCAADAeWM8d0IAAIDftTx3QgAAQEUIPXdCAAAAq1o9d0IAAMAQrT13QgAAgHb/PXdCAABA3FE+d0IAAABCpD53QgAAwKf2PndCAACADUk/d0IAAEBzmz93QgAAANntP3dCAADAPkBAd0IAAICkkkB3QgAAQArlQHdCAAAAcDdBd0IAAMDViUF3Qg==\",\"dtype\":\"float64\",\"shape\":[182]},\"y\":{\"__ndarray__\":\"AAAAAAAA+H8AAAAAAAD4fwAAAAAAAPh/AAAAAAAA+H8AAAAAAAD4fwAAAAAAAPh/AAAAAAAA+H8AAAAAAAD4fwAAAAAAAPh/AAAAAAAA+H8AAAAAAAD4fwAAAAAAAPh/AAAAAAAA+H/btm3btm3LP7dt27Zt29Y/27Zt27Zt2z/btm3btm3bPyVJkiRJkuQ/SZIkSZIk6T9u27Zt27btP5IkSZIkSfI/btu2bdu29T+SJEmSJEn6P5IkSZIkSQJAbtu2bdu2BUAAAAAAAAAIQAAAAAAAAAxAJUmSJEmSDEAlSZIkSZIQQEmSJEmSJBVA27Zt27ZtGUBu27Zt27YbQCVJkiRJkh5Abtu2bdu2H0BJkiRJkiQhQG7btm3btiJAt23btm3bI0AlSZIkSZIjQAAAAAAAACVAkiRJkiRJJkBJkiRJkiQnQG7btm3btidAbtu2bdu2J0AlSZIkSZImQJIkSZIkSSVAAAAAAAAAJUBu27Zt27YkQJIkSZIkSSVA27Zt27ZtJEBJkiRJkiQjQG7btm3btiNAkiRJkiRJJEBu27Zt27YiQAAAAAAAACNAkiRJkiRJIkDbtm3btm0hQEmSJEmSJCFAt23btm3bIUAAAAAAAAAiQNu2bdu2bSFAkiRJkiRJIUCSJEmSJEkgQNu2bdu2bR9ASZIkSZIkIECSJEmSJEkgQEmSJEmSJCFAt23btm3bIUDbtm3btm0lQNu2bdu2bSZAt23btm3bJ0AAAAAAAAApQNu2bdu2bShAAAAAAAAAKEAAAAAAAAAoQCVJkiRJkidAbtu2bdu2J0AAAAAAAAAoQCVJkiRJkidAbtu2bdu2JUC3bdu2bdskQAAAAAAAACZA27Zt27ZtIUAAAAAAAAAhQJIkSZIkSSBAbtu2bdu2HUCSJEmSJEkeQEmSJEmSJB9AAAAAAAAAIUBJkiRJkiQhQCVJkiRJkiFASZIkSZIkIkAAAAAAAAAiQEmSJEmSJCJAbtu2bdu2IUBJkiRJkiQgQG7btm3btiBAAAAAAAAAIEBJkiRJkiQgQG7btm3bth9At23btm3bHEAlSZIkSZIcQEmSJEmSJBlAkiRJkiRJGEDbtm3btm0XQG7btm3bthVA27Zt27ZtFUC3bdu2bdsUQG7btm3bthNA27Zt27ZtE0BJkiRJkiQRQJIkSZIkSRZAt23btm3bFEAlSZIkSZIUQLdt27Zt2xRAkiRJkiRJFEAlSZIkSZIUQCVJkiRJkhRAbtu2bdu2E0BJkiRJkiQTQEmSJEmSJBNAt23btm3bEkAAAAAAAAASQLdt27Zt2xBA27Zt27ZtD0Bu27Zt27YBQCVJkiRJkgBAbtu2bdu2/T+SJEmSJEn6PwAAAAAAAPg/27Zt27Zt8z8AAAAAAADwPwAAAAAAAPA/AAAAAAAA8D/btm3btm3rP7dt27Zt2+Y/JUmSJEmS5D+SJEmSJEniP5IkSZIkSeI/AAAAAAAA4D8AAAAAAADgP5IkSZIkSeI/JUmSJEmS5D+SJEmSJEniPyVJkiRJkuQ/JUmSJEmS5D8lSZIkSZLkP7dt27Zt2+Y/JUmSJEmS5D9JkiRJkiTpP27btm3btu0/btu2bdu27T9u27Zt27btPwAAAAAAAPA/kiRJkiRJ8j+SJEmSJEnyP5IkSZIkSfI/SZIkSZIk8T9JkiRJkiTxPwAAAAAAAPA/btu2bdu27T/btm3btm3rP27btm3btu0/SZIkSZIk6T+3bdu2bdvmPyVJkiRJkuQ/kiRJkiRJ4j+SJEmSJEniP9u2bdu2bds/27Zt27Zt2z+3bdu2bdvWP9u2bdu2bds/27Zt27Zt2z8AAAAAAADgPwAAAAAAAOA/AAAAAAAA4D/btm3btm3bPwAAAAAAAOA/27Zt27Zt2z8AAAAAAADgP5IkSZIkSeI/AAAAAAAA4D+SJEmSJEniPw==\",\"dtype\":\"float64\",\"shape\":[182]}},\"selected\":{\"id\":\"3935\"},\"selection_policy\":{\"id\":\"3934\"}},\"id\":\"3827\",\"type\":\"ColumnDataSource\"},{\"attributes\":{\"bottom_units\":\"screen\",\"fill_alpha\":0.5,\"fill_color\":\"lightgrey\",\"left_units\":\"screen\",\"level\":\"overlay\",\"line_alpha\":1.0,\"line_color\":\"black\",\"line_dash\":[4,4],\"line_width\":2,\"render_mode\":\"css\",\"right_units\":\"screen\",\"top_units\":\"screen\"},\"id\":\"3557\",\"type\":\"BoxAnnotation\"},{\"attributes\":{\"source\":{\"id\":\"3827\"}},\"id\":\"3831\",\"type\":\"CDSView\"},{\"attributes\":{\"bottom_units\":\"screen\",\"fill_alpha\":0.5,\"fill_color\":\"lightgrey\",\"left_units\":\"screen\",\"level\":\"overlay\",\"line_alpha\":1.0,\"line_color\":\"black\",\"line_dash\":[4,4],\"line_width\":2,\"render_mode\":\"css\",\"right_units\":\"screen\",\"top_units\":\"screen\"},\"id\":\"3761\",\"type\":\"BoxAnnotation\"},{\"attributes\":{\"fill_alpha\":{\"value\":0.1},\"fill_color\":{\"value\":\"white\"},\"line_alpha\":{\"value\":0.1},\"line_color\":{\"value\":\"green\"},\"size\":{\"units\":\"screen\",\"value\":5},\"x\":{\"field\":\"x\"},\"y\":{\"field\":\"y\"}},\"id\":\"3625\",\"type\":\"Circle\"},{\"attributes\":{\"use_scientific\":false},\"id\":\"3732\",\"type\":\"BasicTickFormatter\"},{\"attributes\":{\"months\":[0,1,2,3,4,5,6,7,8,9,10,11]},\"id\":\"3786\",\"type\":\"MonthsTicker\"},{\"attributes\":{\"toolbars\":[{\"id\":\"3456\"},{\"id\":\"3558\"},{\"id\":\"3660\"},{\"id\":\"3762\"}],\"tools\":[{\"id\":\"3449\"},{\"id\":\"3450\"},{\"id\":\"3451\"},{\"id\":\"3452\"},{\"id\":\"3453\"},{\"id\":\"3454\"},{\"id\":\"3530\"},{\"id\":\"3551\"},{\"id\":\"3552\"},{\"id\":\"3553\"},{\"id\":\"3554\"},{\"id\":\"3555\"},{\"id\":\"3556\"},{\"id\":\"3632\"},{\"id\":\"3653\"},{\"id\":\"3654\"},{\"id\":\"3655\"},{\"id\":\"3656\"},{\"id\":\"3657\"},{\"id\":\"3658\"},{\"id\":\"3734\"},{\"id\":\"3755\"},{\"id\":\"3756\"},{\"id\":\"3757\"},{\"id\":\"3758\"},{\"id\":\"3759\"},{\"id\":\"3760\"},{\"id\":\"3836\"}]},\"id\":\"3939\",\"type\":\"ProxyToolbar\"},{\"attributes\":{},\"id\":\"3535\",\"type\":\"DataRange1d\"},{\"attributes\":{\"callback\":null,\"formatters\":{\"@x\":\"datetime\"},\"mode\":\"vline\",\"tooltips\":[[\"date\",\"@x{%d %B}\"],[\"deaths OR recovered\",\"@y{0[.]000}\"]]},\"id\":\"3632\",\"type\":\"HoverTool\"},{\"attributes\":{\"data_source\":{\"id\":\"3521\"},\"glyph\":{\"id\":\"3522\"},\"hover_glyph\":null,\"muted_glyph\":null,\"nonselection_glyph\":{\"id\":\"3523\"},\"selection_glyph\":null,\"view\":{\"id\":\"3525\"}},\"id\":\"3524\",\"type\":\"GlyphRenderer\"},{\"attributes\":{\"data_source\":{\"id\":\"3827\"},\"glyph\":{\"id\":\"3828\"},\"hover_glyph\":null,\"muted_glyph\":null,\"nonselection_glyph\":{\"id\":\"3829\"},\"selection_glyph\":null,\"view\":{\"id\":\"3831\"}},\"id\":\"3830\",\"type\":\"GlyphRenderer\"},{\"attributes\":{\"fill_alpha\":{\"value\":0.1},\"fill_color\":{\"value\":\"white\"},\"line_alpha\":{\"value\":0.1},\"line_color\":{\"value\":\"lightcoral\"},\"size\":{\"units\":\"screen\",\"value\":5},\"x\":{\"field\":\"x\"},\"y\":{\"field\":\"y\"}},\"id\":\"3727\",\"type\":\"Circle\"},{\"attributes\":{\"use_scientific\":false},\"id\":\"3834\",\"type\":\"BasicTickFormatter\"},{\"attributes\":{\"callback\":null,\"formatters\":{\"@x\":\"datetime\"},\"mode\":\"vline\",\"tooltips\":[[\"date\",\"@x{%d %B}\"],[\"total cases OR total positive\",\"@y{0[.]000}\"]]},\"id\":\"3530\",\"type\":\"HoverTool\"},{\"attributes\":{\"callback\":null,\"formatters\":{\"@x\":\"datetime\"},\"mode\":\"vline\",\"tooltips\":[[\"date\",\"@x{%d %B}\"],[\"new_positive OR SMA 14\",\"@y{0[.]000}\"]]},\"id\":\"3734\",\"type\":\"HoverTool\"},{\"attributes\":{\"items\":[{\"id\":\"3589\"},{\"id\":\"3622\"}],\"location\":\"top_left\"},\"id\":\"3588\",\"type\":\"Legend\"},{\"attributes\":{\"num_minor_ticks\":5,\"tickers\":[{\"id\":\"3473\"},{\"id\":\"3474\"},{\"id\":\"3475\"},{\"id\":\"3476\"},{\"id\":\"3477\"},{\"id\":\"3478\"},{\"id\":\"3479\"},{\"id\":\"3480\"},{\"id\":\"3481\"},{\"id\":\"3482\"},{\"id\":\"3483\"},{\"id\":\"3484\"}]},\"id\":\"3442\",\"type\":\"DatetimeTicker\"},{\"attributes\":{\"items\":[{\"id\":\"3793\"},{\"id\":\"3826\"}],\"location\":\"top_left\"},\"id\":\"3792\",\"type\":\"Legend\"},{\"attributes\":{\"label\":{\"value\":\"new positive\"},\"renderers\":[{\"id\":\"3670\"}]},\"id\":\"3691\",\"type\":\"LegendItem\"},{\"attributes\":{\"axis_label\":\"Total Cases & Total Positive\",\"formatter\":{\"id\":\"3528\"},\"minor_tick_in\":-5,\"minor_tick_out\":-3,\"ticker\":{\"id\":\"3446\"}},\"id\":\"3445\",\"type\":\"LinearAxis\"},{\"attributes\":{},\"id\":\"3907\",\"type\":\"UnionRenderers\"},{\"attributes\":{\"below\":[{\"id\":\"3747\"}],\"center\":[{\"id\":\"3750\"},{\"id\":\"3754\"},{\"id\":\"3792\"}],\"left\":[{\"id\":\"3751\"}],\"plot_height\":350,\"plot_width\":470,\"renderers\":[{\"id\":\"3772\"},{\"id\":\"3797\"},{\"id\":\"3802\"},{\"id\":\"3830\"}],\"title\":{\"id\":\"3737\"},\"toolbar\":{\"id\":\"3762\"},\"toolbar_location\":null,\"x_range\":{\"id\":\"3739\"},\"x_scale\":{\"id\":\"3743\"},\"y_range\":{\"id\":\"3741\"},\"y_scale\":{\"id\":\"3745\"}},\"id\":\"3736\",\"subtype\":\"Figure\",\"type\":\"Plot\"},{\"attributes\":{\"callback\":null,\"formatters\":{\"@x\":\"datetime\"},\"mode\":\"vline\",\"tooltips\":[[\"date\",\"@x{%d %B}\"],[\"new_deaths OR SMA 14\",\"@y{0[.]000}\"]]},\"id\":\"3836\",\"type\":\"HoverTool\"},{\"attributes\":{\"text\":\"Deaths & Recovered: Lazio\"},\"id\":\"3533\",\"type\":\"Title\"},{\"attributes\":{\"fill_color\":{\"value\":\"white\"},\"line_color\":{\"value\":\"darkviolet\"},\"size\":{\"units\":\"screen\",\"value\":5},\"x\":{\"field\":\"x\"},\"y\":{\"field\":\"y\"}},\"id\":\"3591\",\"type\":\"Circle\"},{\"attributes\":{},\"id\":\"3439\",\"type\":\"LinearScale\"},{\"attributes\":{},\"id\":\"3637\",\"type\":\"DataRange1d\"},{\"attributes\":{\"fill_color\":{\"value\":\"white\"},\"line_color\":{\"value\":\"darkviolet\"},\"size\":{\"units\":\"screen\",\"value\":5},\"x\":{\"field\":\"x\"},\"y\":{\"field\":\"y\"}},\"id\":\"3795\",\"type\":\"Circle\"},{\"attributes\":{\"mantissas\":[1,2,5],\"max_interval\":500.0,\"num_minor_ticks\":0},\"id\":\"3575\",\"type\":\"AdaptiveTicker\"},{\"attributes\":{\"children\":[[{\"id\":\"3430\"},0,0],[{\"id\":\"3532\"},0,1],[{\"id\":\"3634\"},1,0],[{\"id\":\"3736\"},1,1]]},\"id\":\"3938\",\"type\":\"GridBox\"},{\"attributes\":{\"mantissas\":[1,2,5],\"max_interval\":500.0,\"num_minor_ticks\":0},\"id\":\"3779\",\"type\":\"AdaptiveTicker\"},{\"attributes\":{},\"id\":\"3537\",\"type\":\"DataRange1d\"},{\"attributes\":{},\"id\":\"3739\",\"type\":\"DataRange1d\"},{\"attributes\":{\"below\":[{\"id\":\"3543\"}],\"center\":[{\"id\":\"3546\"},{\"id\":\"3550\"},{\"id\":\"3588\"}],\"left\":[{\"id\":\"3547\"}],\"plot_height\":350,\"plot_width\":470,\"renderers\":[{\"id\":\"3568\"},{\"id\":\"3593\"},{\"id\":\"3598\"},{\"id\":\"3626\"}],\"title\":{\"id\":\"3533\"},\"toolbar\":{\"id\":\"3558\"},\"toolbar_location\":null,\"x_range\":{\"id\":\"3535\"},\"x_scale\":{\"id\":\"3539\"},\"y_range\":{\"id\":\"3537\"},\"y_scale\":{\"id\":\"3541\"}},\"id\":\"3532\",\"subtype\":\"Figure\",\"type\":\"Plot\"},{\"attributes\":{\"line_color\":\"blue\",\"line_width\":4,\"x\":{\"field\":\"x\"},\"y\":{\"field\":\"y\"}},\"id\":\"3464\",\"type\":\"Line\"},{\"attributes\":{},\"id\":\"3539\",\"type\":\"LinearScale\"},{\"attributes\":{},\"id\":\"3639\",\"type\":\"DataRange1d\"},{\"attributes\":{\"text\":\"Total Cases & Total Positive: Lazio\"},\"id\":\"3431\",\"type\":\"Title\"},{\"attributes\":{},\"id\":\"3541\",\"type\":\"LinearScale\"},{\"attributes\":{},\"id\":\"3741\",\"type\":\"DataRange1d\"},{\"attributes\":{\"base\":24,\"mantissas\":[1,2,4,6,8,12],\"max_interval\":43200000.0,\"min_interval\":3600000.0,\"num_minor_ticks\":0},\"id\":\"3577\",\"type\":\"AdaptiveTicker\"},{\"attributes\":{},\"id\":\"3433\",\"type\":\"DataRange1d\"},{\"attributes\":{\"axis_label\":\"Date\",\"formatter\":{\"id\":\"3628\"},\"major_label_orientation\":0.7853981633974483,\"minor_tick_in\":-5,\"minor_tick_out\":-3,\"ticker\":{\"id\":\"3544\"}},\"id\":\"3543\",\"type\":\"DatetimeAxis\"},{\"attributes\":{},\"id\":\"3641\",\"type\":\"LinearScale\"},{\"attributes\":{\"base\":60,\"mantissas\":[1,2,5,10,15,20,30],\"max_interval\":1800000.0,\"min_interval\":1000.0,\"num_minor_ticks\":0},\"id\":\"3576\",\"type\":\"AdaptiveTicker\"},{\"attributes\":{},\"id\":\"3643\",\"type\":\"LinearScale\"},{\"attributes\":{},\"id\":\"3548\",\"type\":\"BasicTicker\"},{\"attributes\":{},\"id\":\"3882\",\"type\":\"UnionRenderers\"},{\"attributes\":{\"base\":60,\"mantissas\":[1,2,5,10,15,20,30],\"max_interval\":1800000.0,\"min_interval\":1000.0,\"num_minor_ticks\":0},\"id\":\"3780\",\"type\":\"AdaptiveTicker\"},{\"attributes\":{},\"id\":\"3743\",\"type\":\"LinearScale\"},{\"attributes\":{\"source\":{\"id\":\"3463\"}},\"id\":\"3467\",\"type\":\"CDSView\"},{\"attributes\":{\"num_minor_ticks\":5,\"tickers\":[{\"id\":\"3575\"},{\"id\":\"3576\"},{\"id\":\"3577\"},{\"id\":\"3578\"},{\"id\":\"3579\"},{\"id\":\"3580\"},{\"id\":\"3581\"},{\"id\":\"3582\"},{\"id\":\"3583\"},{\"id\":\"3584\"},{\"id\":\"3585\"},{\"id\":\"3586\"}]},\"id\":\"3544\",\"type\":\"DatetimeTicker\"},{\"attributes\":{},\"id\":\"3859\",\"type\":\"UnionRenderers\"},{\"attributes\":{\"axis_label\":\"Date\",\"formatter\":{\"id\":\"3730\"},\"major_label_orientation\":0.7853981633974483,\"minor_tick_in\":-5,\"minor_tick_out\":-3,\"ticker\":{\"id\":\"3646\"}},\"id\":\"3645\",\"type\":\"DatetimeAxis\"},{\"attributes\":{},\"id\":\"3745\",\"type\":\"LinearScale\"},{\"attributes\":{},\"id\":\"3858\",\"type\":\"Selection\"},{\"attributes\":{\"axis\":{\"id\":\"3543\"},\"ticker\":null},\"id\":\"3546\",\"type\":\"Grid\"},{\"attributes\":{},\"id\":\"3650\",\"type\":\"BasicTicker\"},{\"attributes\":{\"days\":[1,2,3,4,5,6,7,8,9,10,11,12,13,14,15,16,17,18,19,20,21,22,23,24,25,26,27,28,29,30,31]},\"id\":\"3578\",\"type\":\"DaysTicker\"},{\"attributes\":{},\"id\":\"3435\",\"type\":\"DataRange1d\"},{\"attributes\":{\"axis_label\":\"Date\",\"formatter\":{\"id\":\"3832\"},\"major_label_orientation\":0.7853981633974483,\"minor_tick_in\":-5,\"minor_tick_out\":-3,\"ticker\":{\"id\":\"3748\"}},\"id\":\"3747\",\"type\":\"DatetimeAxis\"},{\"attributes\":{\"num_minor_ticks\":5,\"tickers\":[{\"id\":\"3677\"},{\"id\":\"3678\"},{\"id\":\"3679\"},{\"id\":\"3680\"},{\"id\":\"3681\"},{\"id\":\"3682\"},{\"id\":\"3683\"},{\"id\":\"3684\"},{\"id\":\"3685\"},{\"id\":\"3686\"},{\"id\":\"3687\"},{\"id\":\"3688\"}]},\"id\":\"3646\",\"type\":\"DatetimeTicker\"},{\"attributes\":{\"days\":[1,2,3,4,5,6,7,8,9,10,11,12,13,14,15,16,17,18,19,20,21,22,23,24,25,26,27,28,29,30,31]},\"id\":\"3782\",\"type\":\"DaysTicker\"},{\"attributes\":{\"axis_label\":\"Date\",\"formatter\":{\"id\":\"3526\"},\"major_label_orientation\":0.7853981633974483,\"minor_tick_in\":-5,\"minor_tick_out\":-3,\"ticker\":{\"id\":\"3442\"}},\"id\":\"3441\",\"type\":\"DatetimeAxis\"},{\"attributes\":{\"axis\":{\"id\":\"3547\"},\"dimension\":1,\"ticker\":null},\"id\":\"3550\",\"type\":\"Grid\"},{\"attributes\":{},\"id\":\"3752\",\"type\":\"BasicTicker\"},{\"attributes\":{\"days\":[1,4,7,10,13,16,19,22,25,28]},\"id\":\"3579\",\"type\":\"DaysTicker\"},{\"attributes\":{\"axis_label\":\"Deaths & Recovered\",\"formatter\":{\"id\":\"3630\"},\"minor_tick_in\":-5,\"minor_tick_out\":-3,\"ticker\":{\"id\":\"3548\"}},\"id\":\"3547\",\"type\":\"LinearAxis\"},{\"attributes\":{\"axis\":{\"id\":\"3645\"},\"ticker\":null},\"id\":\"3648\",\"type\":\"Grid\"},{\"attributes\":{\"data\":{\"x\":{\"__ndarray__\":\"AAAA5UcHd0IAAMBKmgd3QgAAgLDsB3dCAABAFj8Id0IAAAB8kQh3QgAAwOHjCHdCAACARzYJd0IAAECtiAl3QgAAABPbCXdCAADAeC0Kd0IAAIDefwp3QgAAQETSCndCAAAAqiQLd0IAAMAPdwt3QgAAgHXJC3dCAABA2xsMd0IAAABBbgx3QgAAwKbADHdCAACADBMNd0IAAEByZQ13QgAAANi3DXdCAADAPQoOd0IAAICjXA53QgAAQAmvDndCAAAAbwEPd0IAAMDUUw93QgAAgDqmD3dCAABAoPgPd0IAAAAGSxB3QgAAwGudEHdCAACA0e8Qd0IAAEA3QhF3QgAAAJ2UEXdCAADAAucRd0IAAIBoORJ3QgAAQM6LEndCAAAANN4Sd0IAAMCZMBN3QgAAgP+CE3dCAABAZdUTd0IAAADLJxR3QgAAwDB6FHdCAACAlswUd0IAAED8HhV3QgAAAGJxFXdCAADAx8MVd0IAAIAtFhZ3QgAAQJNoFndCAAAA+boWd0IAAMBeDRd3QgAAgMRfF3dCAABAKrIXd0IAAACQBBh3QgAAwPVWGHdCAACAW6kYd0IAAEDB+xh3QgAAACdOGXdCAADAjKAZd0IAAIDy8hl3QgAAQFhFGndCAAAAvpcad0IAAMAj6hp3QgAAgIk8G3dCAABA744bd0IAAABV4Rt3QgAAwLozHHdCAACAIIYcd0IAAECG2Bx3QgAAAOwqHXdCAADAUX0dd0IAAIC3zx13QgAAQB0iHndCAAAAg3Qed0IAAMDoxh53QgAAgE4ZH3dCAABAtGsfd0IAAAAavh93QgAAwH8QIHdCAACA5WIgd0IAAEBLtSB3QgAAALEHIXdCAADAFlohd0IAAIB8rCF3QgAAQOL+IXdCAAAASFEid0IAAMCtoyJ3QgAAgBP2IndCAABAeUgjd0IAAADfmiN3QgAAwETtI3dCAACAqj8kd0IAAEAQkiR3QgAAAHbkJHdCAADA2zYld0IAAIBBiSV3QgAAQKfbJXdCAAAADS4md0IAAMBygCZ3QgAAgNjSJndCAABAPiUnd0IAAACkdyd3QgAAwAnKJ3dCAACAbxwod0IAAEDVbih3QgAAADvBKHdCAADAoBMpd0IAAIAGZil3QgAAQGy4KXdCAAAA0goqd0IAAMA3XSp3QgAAgJ2vKndCAABAAwIrd0IAAABpVCt3QgAAwM6mK3dCAACANPkrd0IAAECaSyx3QgAAAACeLHdCAADAZfAsd0IAAIDLQi13QgAAQDGVLXdCAAAAl+ctd0IAAMD8OS53QgAAgGKMLndCAABAyN4ud0IAAAAuMS93QgAAwJODL3dCAACA+dUvd0IAAEBfKDB3QgAAAMV6MHdCAADAKs0wd0IAAICQHzF3QgAAQPZxMXdCAAAAXMQxd0IAAMDBFjJ3QgAAgCdpMndCAABAjbsyd0IAAADzDTN3QgAAwFhgM3dCAACAvrIzd0IAAEAkBTR3QgAAAIpXNHdCAADA76k0d0IAAIBV/DR3QgAAQLtONXdCAAAAIaE1d0IAAMCG8zV3QgAAgOxFNndCAABAUpg2d0IAAAC46jZ3QgAAwB09N3dCAACAg483d0IAAEDp4Td3QgAAAE80OHdCAADAtIY4d0IAAIAa2Th3QgAAQIArOXdCAAAA5n05d0IAAMBL0Dl3QgAAgLEiOndCAABAF3U6d0IAAAB9xzp3QgAAwOIZO3dCAACASGw7d0IAAECuvjt3QgAAABQRPHdCAADAeWM8d0IAAIDftTx3QgAAQEUIPXdCAAAAq1o9d0IAAMAQrT13QgAAgHb/PXdCAABA3FE+d0IAAABCpD53QgAAwKf2PndCAACADUk/d0IAAEBzmz93QgAAANntP3dCAADAPkBAd0IAAICkkkB3QgAAQArlQHdCAAAAcDdBd0IAAMDViUF3Qg==\",\"dtype\":\"float64\",\"shape\":[182]},\"y\":[3,3,3,3,3,6,6,7,14,30,44,54,76,87,102,116,150,200,277,357,436,523,607,724,823,1008,1190,1383,1540,1728,1901,2096,2295,2505,2706,2914,3095,3264,3433,3600,3757,3880,4031,4149,4266,4429,4583,4723,4845,4968,5111,5232,5380,5524,5668,5755,5815,5895,5975,6054,6132,6224,6309,6392,6467,6545,6616,6672,6756,6809,6847,6914,6995,7034,7086,7133,7165,7190,7212,7250,7291,7364,7396,7446,7485,7505,7533,7558,7589,7607,7627,7643,7661,7672,7693,7709,7715,7728,7738,7743,7753,7764,7773,7801,7812,7828,7851,7869,7889,7916,7941,7955,7958,7967,7977,7986,7995,8009,8017,8025,8033,8039,8051,8064,8082,8096,8105,8110,8119,8130,8141,8172,8186,8205,8210,8224,8252,8275,8294,8314,8338,8356,8376,8385,8399,8419,8436,8450,8456,8472,8498,8516,8535,8554,8567,8577,8611,8629,8647,8665,8682,8697,8714,8726,8744,8764,8784,8822,8860,8883,8920,8956,9001,9059,9127,9178,9221,9296,9411,9548,9763,9947]},\"selected\":{\"id\":\"3516\"},\"selection_policy\":{\"id\":\"3515\"}},\"id\":\"3463\",\"type\":\"ColumnDataSource\"},{\"attributes\":{\"num_minor_ticks\":5,\"tickers\":[{\"id\":\"3779\"},{\"id\":\"3780\"},{\"id\":\"3781\"},{\"id\":\"3782\"},{\"id\":\"3783\"},{\"id\":\"3784\"},{\"id\":\"3785\"},{\"id\":\"3786\"},{\"id\":\"3787\"},{\"id\":\"3788\"},{\"id\":\"3789\"},{\"id\":\"3790\"}]},\"id\":\"3748\",\"type\":\"DatetimeTicker\"},{\"attributes\":{},\"id\":\"3437\",\"type\":\"LinearScale\"},{\"attributes\":{\"days\":[1,8,15,22]},\"id\":\"3580\",\"type\":\"DaysTicker\"},{\"attributes\":{\"days\":[1,4,7,10,13,16,19,22,25,28]},\"id\":\"3783\",\"type\":\"DaysTicker\"},{\"attributes\":{\"axis\":{\"id\":\"3441\"},\"ticker\":null},\"id\":\"3444\",\"type\":\"Grid\"},{\"attributes\":{\"axis\":{\"id\":\"3649\"},\"dimension\":1,\"ticker\":null},\"id\":\"3652\",\"type\":\"Grid\"},{\"attributes\":{\"axis\":{\"id\":\"3747\"},\"ticker\":null},\"id\":\"3750\",\"type\":\"Grid\"},{\"attributes\":{\"data\":{\"x\":{\"__ndarray__\":\"AAAA5UcHd0IAAMBKmgd3QgAAgLDsB3dCAABAFj8Id0IAAAB8kQh3QgAAwOHjCHdCAACARzYJd0IAAECtiAl3QgAAABPbCXdCAADAeC0Kd0IAAIDefwp3QgAAQETSCndCAAAAqiQLd0IAAMAPdwt3QgAAgHXJC3dCAABA2xsMd0IAAABBbgx3QgAAwKbADHdCAACADBMNd0IAAEByZQ13QgAAANi3DXdCAADAPQoOd0IAAICjXA53QgAAQAmvDndCAAAAbwEPd0IAAMDUUw93QgAAgDqmD3dCAABAoPgPd0IAAAAGSxB3QgAAwGudEHdCAACA0e8Qd0IAAEA3QhF3QgAAAJ2UEXdCAADAAucRd0IAAIBoORJ3QgAAQM6LEndCAAAANN4Sd0IAAMCZMBN3QgAAgP+CE3dCAABAZdUTd0IAAADLJxR3QgAAwDB6FHdCAACAlswUd0IAAED8HhV3QgAAAGJxFXdCAADAx8MVd0IAAIAtFhZ3QgAAQJNoFndCAAAA+boWd0IAAMBeDRd3QgAAgMRfF3dCAABAKrIXd0IAAACQBBh3QgAAwPVWGHdCAACAW6kYd0IAAEDB+xh3QgAAACdOGXdCAADAjKAZd0IAAIDy8hl3QgAAQFhFGndCAAAAvpcad0IAAMAj6hp3QgAAgIk8G3dCAABA744bd0IAAABV4Rt3QgAAwLozHHdCAACAIIYcd0IAAECG2Bx3QgAAAOwqHXdCAADAUX0dd0IAAIC3zx13QgAAQB0iHndCAAAAg3Qed0IAAMDoxh53QgAAgE4ZH3dCAABAtGsfd0IAAAAavh93QgAAwH8QIHdCAACA5WIgd0IAAEBLtSB3QgAAALEHIXdCAADAFlohd0IAAIB8rCF3QgAAQOL+IXdCAAAASFEid0IAAMCtoyJ3QgAAgBP2IndCAABAeUgjd0IAAADfmiN3QgAAwETtI3dCAACAqj8kd0IAAEAQkiR3QgAAAHbkJHdCAADA2zYld0IAAIBBiSV3QgAAQKfbJXdCAAAADS4md0IAAMBygCZ3QgAAgNjSJndCAABAPiUnd0IAAACkdyd3QgAAwAnKJ3dCAACAbxwod0IAAEDVbih3QgAAADvBKHdCAADAoBMpd0IAAIAGZil3QgAAQGy4KXdCAAAA0goqd0IAAMA3XSp3QgAAgJ2vKndCAABAAwIrd0IAAABpVCt3QgAAwM6mK3dCAACANPkrd0IAAECaSyx3QgAAAACeLHdCAADAZfAsd0IAAIDLQi13QgAAQDGVLXdCAAAAl+ctd0IAAMD8OS53QgAAgGKMLndCAABAyN4ud0IAAAAuMS93QgAAwJODL3dCAACA+dUvd0IAAEBfKDB3QgAAAMV6MHdCAADAKs0wd0IAAICQHzF3QgAAQPZxMXdCAAAAXMQxd0IAAMDBFjJ3QgAAgCdpMndCAABAjbsyd0IAAADzDTN3QgAAwFhgM3dCAACAvrIzd0IAAEAkBTR3QgAAAIpXNHdCAADA76k0d0IAAIBV/DR3QgAAQLtONXdCAAAAIaE1d0IAAMCG8zV3QgAAgOxFNndCAABAUpg2d0IAAAC46jZ3QgAAwB09N3dCAACAg483d0IAAEDp4Td3QgAAAE80OHdCAADAtIY4d0IAAIAa2Th3QgAAQIArOXdCAAAA5n05d0IAAMBL0Dl3QgAAgLEiOndCAABAF3U6d0IAAAB9xzp3QgAAwOIZO3dCAACASGw7d0IAAECuvjt3QgAAABQRPHdCAADAeWM8d0IAAIDftTx3QgAAQEUIPXdCAAAAq1o9d0IAAMAQrT13QgAAgHb/PXdCAABA3FE+d0IAAABCpD53QgAAwKf2PndCAACADUk/d0IAAEBzmz93QgAAANntP3dCAADAPkBAd0IAAICkkkB3QgAAQArlQHdCAAAAcDdBd0IAAMDViUF3Qg==\",\"dtype\":\"float64\",\"shape\":[182]},\"y\":[0,0,0,0,0,0,0,0,0,0,0,1,1,3,5,6,6,9,11,13,16,19,23,32,38,43,50,53,63,80,95,106,118,124,136,150,162,169,185,199,212,219,229,238,244,253,263,273,279,284,300,311,316,332,340,341,349,363,370,375,384,387,389,397,414,431,441,482,497,508,524,534,538,543,549,553,557,562,566,577,595,604,616,622,628,640,647,662,669,676,684,688,693,701,708,721,728,735,739,741,747,750,754,758,760,763,766,770,776,781,806,808,811,814,818,822,826,827,827,830,832,833,835,836,837,837,837,837,839,839,840,841,841,842,842,842,843,844,844,844,845,846,847,848,849,850,851,851,853,855,856,857,858,860,861,862,862,863,863,863,863,864,864,865,865,865,866,866,867,867,868,869,870,870,870,870,871,871,872,873,873,874]},\"selected\":{\"id\":\"3618\"},\"selection_policy\":{\"id\":\"3617\"}},\"id\":\"3565\",\"type\":\"ColumnDataSource\"},{\"attributes\":{\"data_source\":{\"id\":\"3463\"},\"glyph\":{\"id\":\"3464\"},\"hover_glyph\":null,\"muted_glyph\":null,\"nonselection_glyph\":{\"id\":\"3465\"},\"selection_glyph\":null,\"view\":{\"id\":\"3467\"}},\"id\":\"3466\",\"type\":\"GlyphRenderer\"},{\"attributes\":{\"axis_label\":\"New Positive\",\"formatter\":{\"id\":\"3732\"},\"minor_tick_in\":-5,\"minor_tick_out\":-3,\"ticker\":{\"id\":\"3650\"}},\"id\":\"3649\",\"type\":\"LinearAxis\"},{\"attributes\":{\"days\":[1,15]},\"id\":\"3581\",\"type\":\"DaysTicker\"},{\"attributes\":{\"days\":[1,8,15,22]},\"id\":\"3784\",\"type\":\"DaysTicker\"},{\"attributes\":{\"label\":{\"value\":\"deaths\"},\"renderers\":[{\"id\":\"3568\"}]},\"id\":\"3589\",\"type\":\"LegendItem\"},{\"attributes\":{},\"id\":\"3884\",\"type\":\"UnionRenderers\"},{\"attributes\":{\"days\":[1,15]},\"id\":\"3785\",\"type\":\"DaysTicker\"},{\"attributes\":{\"axis_label\":\"New Deaths\",\"formatter\":{\"id\":\"3834\"},\"minor_tick_in\":-5,\"minor_tick_out\":-3,\"ticker\":{\"id\":\"3752\"}},\"id\":\"3751\",\"type\":\"LinearAxis\"},{\"attributes\":{\"months\":[0,1,2,3,4,5,6,7,8,9,10,11]},\"id\":\"3582\",\"type\":\"MonthsTicker\"},{\"attributes\":{},\"id\":\"3909\",\"type\":\"UnionRenderers\"},{\"attributes\":{},\"id\":\"3449\",\"type\":\"PanTool\"},{\"attributes\":{\"data_source\":{\"id\":\"3565\"},\"glyph\":{\"id\":\"3566\"},\"hover_glyph\":null,\"muted_glyph\":null,\"nonselection_glyph\":{\"id\":\"3567\"},\"selection_glyph\":null,\"view\":{\"id\":\"3569\"}},\"id\":\"3568\",\"type\":\"GlyphRenderer\"},{\"attributes\":{\"source\":{\"id\":\"3667\"}},\"id\":\"3671\",\"type\":\"CDSView\"},{\"attributes\":{},\"id\":\"3586\",\"type\":\"YearsTicker\"},{\"attributes\":{\"below\":[{\"id\":\"3441\"}],\"center\":[{\"id\":\"3444\"},{\"id\":\"3448\"},{\"id\":\"3486\"}],\"left\":[{\"id\":\"3445\"}],\"plot_height\":350,\"plot_width\":470,\"renderers\":[{\"id\":\"3466\"},{\"id\":\"3491\"},{\"id\":\"3496\"},{\"id\":\"3524\"}],\"title\":{\"id\":\"3431\"},\"toolbar\":{\"id\":\"3456\"},\"toolbar_location\":null,\"x_range\":{\"id\":\"3433\"},\"x_scale\":{\"id\":\"3437\"},\"y_range\":{\"id\":\"3435\"},\"y_scale\":{\"id\":\"3439\"}},\"id\":\"3430\",\"subtype\":\"Figure\",\"type\":\"Plot\"},{\"attributes\":{\"data_source\":{\"id\":\"3769\"},\"glyph\":{\"id\":\"3770\"},\"hover_glyph\":null,\"muted_glyph\":null,\"nonselection_glyph\":{\"id\":\"3771\"},\"selection_glyph\":null,\"view\":{\"id\":\"3773\"}},\"id\":\"3772\",\"type\":\"GlyphRenderer\"},{\"attributes\":{},\"id\":\"3446\",\"type\":\"BasicTicker\"},{\"attributes\":{\"source\":{\"id\":\"3565\"}},\"id\":\"3569\",\"type\":\"CDSView\"},{\"attributes\":{},\"id\":\"3450\",\"type\":\"WheelZoomTool\"},{\"attributes\":{\"line_color\":\"darkviolet\",\"line_width\":4,\"x\":{\"field\":\"x\"},\"y\":{\"field\":\"y\"}},\"id\":\"3566\",\"type\":\"Line\"},{\"attributes\":{\"line_alpha\":0.1,\"line_color\":\"blue\",\"line_width\":4,\"x\":{\"field\":\"x\"},\"y\":{\"field\":\"y\"}},\"id\":\"3669\",\"type\":\"Line\"},{\"attributes\":{\"source\":{\"id\":\"3769\"}},\"id\":\"3773\",\"type\":\"CDSView\"},{\"attributes\":{\"data\":{\"x\":{\"__ndarray__\":\"AAAA5UcHd0IAAMBKmgd3QgAAgLDsB3dCAABAFj8Id0IAAAB8kQh3QgAAwOHjCHdCAACARzYJd0IAAECtiAl3QgAAABPbCXdCAADAeC0Kd0IAAIDefwp3QgAAQETSCndCAAAAqiQLd0IAAMAPdwt3QgAAgHXJC3dCAABA2xsMd0IAAABBbgx3QgAAwKbADHdCAACADBMNd0IAAEByZQ13QgAAANi3DXdCAADAPQoOd0IAAICjXA53QgAAQAmvDndCAAAAbwEPd0IAAMDUUw93QgAAgDqmD3dCAABAoPgPd0IAAAAGSxB3QgAAwGudEHdCAACA0e8Qd0IAAEA3QhF3QgAAAJ2UEXdCAADAAucRd0IAAIBoORJ3QgAAQM6LEndCAAAANN4Sd0IAAMCZMBN3QgAAgP+CE3dCAABAZdUTd0IAAADLJxR3QgAAwDB6FHdCAACAlswUd0IAAED8HhV3QgAAAGJxFXdCAADAx8MVd0IAAIAtFhZ3QgAAQJNoFndCAAAA+boWd0IAAMBeDRd3QgAAgMRfF3dCAABAKrIXd0IAAACQBBh3QgAAwPVWGHdCAACAW6kYd0IAAEDB+xh3QgAAACdOGXdCAADAjKAZd0IAAIDy8hl3QgAAQFhFGndCAAAAvpcad0IAAMAj6hp3QgAAgIk8G3dCAABA744bd0IAAABV4Rt3QgAAwLozHHdCAACAIIYcd0IAAECG2Bx3QgAAAOwqHXdCAADAUX0dd0IAAIC3zx13QgAAQB0iHndCAAAAg3Qed0IAAMDoxh53QgAAgE4ZH3dCAABAtGsfd0IAAAAavh93QgAAwH8QIHdCAACA5WIgd0IAAEBLtSB3QgAAALEHIXdCAADAFlohd0IAAIB8rCF3QgAAQOL+IXdCAAAASFEid0IAAMCtoyJ3QgAAgBP2IndCAABAeUgjd0IAAADfmiN3QgAAwETtI3dCAACAqj8kd0IAAEAQkiR3QgAAAHbkJHdCAADA2zYld0IAAIBBiSV3QgAAQKfbJXdCAAAADS4md0IAAMBygCZ3QgAAgNjSJndCAABAPiUnd0IAAACkdyd3QgAAwAnKJ3dCAACAbxwod0IAAEDVbih3QgAAADvBKHdCAADAoBMpd0IAAIAGZil3QgAAQGy4KXdCAAAA0goqd0IAAMA3XSp3QgAAgJ2vKndCAABAAwIrd0IAAABpVCt3QgAAwM6mK3dCAACANPkrd0IAAECaSyx3QgAAAACeLHdCAADAZfAsd0IAAIDLQi13QgAAQDGVLXdCAAAAl+ctd0IAAMD8OS53QgAAgGKMLndCAABAyN4ud0IAAAAuMS93QgAAwJODL3dCAACA+dUvd0IAAEBfKDB3QgAAAMV6MHdCAADAKs0wd0IAAICQHzF3QgAAQPZxMXdCAAAAXMQxd0IAAMDBFjJ3QgAAgCdpMndCAABAjbsyd0IAAADzDTN3QgAAwFhgM3dCAACAvrIzd0IAAEAkBTR3QgAAAIpXNHdCAADA76k0d0IAAIBV/DR3QgAAQLtONXdCAAAAIaE1d0IAAMCG8zV3QgAAgOxFNndCAABAUpg2d0IAAAC46jZ3QgAAwB09N3dCAACAg483d0IAAEDp4Td3QgAAAE80OHdCAADAtIY4d0IAAIAa2Th3QgAAQIArOXdCAAAA5n05d0IAAMBL0Dl3QgAAgLEiOndCAABAF3U6d0IAAAB9xzp3QgAAwOIZO3dCAACASGw7d0IAAECuvjt3QgAAABQRPHdCAADAeWM8d0IAAIDftTx3QgAAQEUIPXdCAAAAq1o9d0IAAMAQrT13QgAAgHb/PXdCAABA3FE+d0IAAABCpD53QgAAwKf2PndCAACADUk/d0IAAEBzmz93QgAAANntP3dCAADAPkBAd0IAAICkkkB3QgAAQArlQHdCAAAAcDdBd0IAAMDViUF3Qg==\",\"dtype\":\"float64\",\"shape\":[182]},\"y\":[0,0,0,0,0,0,0,0,0,0,0,1,0,2,2,1,0,3,2,2,3,3,4,9,6,5,7,3,10,17,15,11,12,6,12,14,12,7,16,14,13,7,10,9,6,9,10,10,6,5,16,11,5,16,8,1,8,14,7,5,9,3,2,8,17,17,10,41,15,11,16,10,4,5,6,4,4,5,4,11,18,9,12,6,6,12,7,15,7,7,8,4,5,8,7,13,7,7,4,2,6,3,4,4,2,3,3,4,6,5,25,2,3,3,4,4,4,1,0,3,2,1,2,1,1,0,0,0,2,0,1,1,0,1,0,0,1,1,0,0,1,1,1,1,1,1,1,0,2,2,1,1,1,2,1,1,0,1,0,0,0,1,0,1,0,0,1,0,1,0,1,1,1,0,0,0,1,0,1,1,0,1]},\"selected\":{\"id\":\"3822\"},\"selection_policy\":{\"id\":\"3821\"}},\"id\":\"3769\",\"type\":\"ColumnDataSource\"},{\"attributes\":{\"months\":[0,2,4,6,8,10]},\"id\":\"3787\",\"type\":\"MonthsTicker\"},{\"attributes\":{\"overlay\":{\"id\":\"3455\"}},\"id\":\"3451\",\"type\":\"BoxZoomTool\"},{\"attributes\":{},\"id\":\"3551\",\"type\":\"PanTool\"},{\"attributes\":{\"fill_alpha\":{\"value\":0.1},\"fill_color\":{\"value\":\"white\"},\"line_alpha\":{\"value\":0.1},\"line_color\":{\"value\":\"darkviolet\"},\"size\":{\"units\":\"screen\",\"value\":5},\"x\":{\"field\":\"x\"},\"y\":{\"field\":\"y\"}},\"id\":\"3592\",\"type\":\"Circle\"},{\"attributes\":{},\"id\":\"3885\",\"type\":\"Selection\"},{\"attributes\":{},\"id\":\"3755\",\"type\":\"PanTool\"},{\"attributes\":{\"data\":{\"x\":{\"__ndarray__\":\"AAAA5UcHd0IAAMBKmgd3QgAAgLDsB3dCAABAFj8Id0IAAAB8kQh3QgAAwOHjCHdCAACARzYJd0IAAECtiAl3QgAAABPbCXdCAADAeC0Kd0IAAIDefwp3QgAAQETSCndCAAAAqiQLd0IAAMAPdwt3QgAAgHXJC3dCAABA2xsMd0IAAABBbgx3QgAAwKbADHdCAACADBMNd0IAAEByZQ13QgAAANi3DXdCAADAPQoOd0IAAICjXA53QgAAQAmvDndCAAAAbwEPd0IAAMDUUw93QgAAgDqmD3dCAABAoPgPd0IAAAAGSxB3QgAAwGudEHdCAACA0e8Qd0IAAEA3QhF3QgAAAJ2UEXdCAADAAucRd0IAAIBoORJ3QgAAQM6LEndCAAAANN4Sd0IAAMCZMBN3QgAAgP+CE3dCAABAZdUTd0IAAADLJxR3QgAAwDB6FHdCAACAlswUd0IAAED8HhV3QgAAAGJxFXdCAADAx8MVd0IAAIAtFhZ3QgAAQJNoFndCAAAA+boWd0IAAMBeDRd3QgAAgMRfF3dCAABAKrIXd0IAAACQBBh3QgAAwPVWGHdCAACAW6kYd0IAAEDB+xh3QgAAACdOGXdCAADAjKAZd0IAAIDy8hl3QgAAQFhFGndCAAAAvpcad0IAAMAj6hp3QgAAgIk8G3dCAABA744bd0IAAABV4Rt3QgAAwLozHHdCAACAIIYcd0IAAECG2Bx3QgAAAOwqHXdCAADAUX0dd0IAAIC3zx13QgAAQB0iHndCAAAAg3Qed0IAAMDoxh53QgAAgE4ZH3dCAABAtGsfd0IAAAAavh93QgAAwH8QIHdCAACA5WIgd0IAAEBLtSB3QgAAALEHIXdCAADAFlohd0IAAIB8rCF3QgAAQOL+IXdCAAAASFEid0IAAMCtoyJ3QgAAgBP2IndCAABAeUgjd0IAAADfmiN3QgAAwETtI3dCAACAqj8kd0IAAEAQkiR3QgAAAHbkJHdCAADA2zYld0IAAIBBiSV3QgAAQKfbJXdCAAAADS4md0IAAMBygCZ3QgAAgNjSJndCAABAPiUnd0IAAACkdyd3QgAAwAnKJ3dCAACAbxwod0IAAEDVbih3QgAAADvBKHdCAADAoBMpd0IAAIAGZil3QgAAQGy4KXdCAAAA0goqd0IAAMA3XSp3QgAAgJ2vKndCAABAAwIrd0IAAABpVCt3QgAAwM6mK3dCAACANPkrd0IAAECaSyx3QgAAAACeLHdCAADAZfAsd0IAAIDLQi13QgAAQDGVLXdCAAAAl+ctd0IAAMD8OS53QgAAgGKMLndCAABAyN4ud0IAAAAuMS93QgAAwJODL3dCAACA+dUvd0IAAEBfKDB3QgAAAMV6MHdCAADAKs0wd0IAAICQHzF3QgAAQPZxMXdCAAAAXMQxd0IAAMDBFjJ3QgAAgCdpMndCAABAjbsyd0IAAADzDTN3QgAAwFhgM3dCAACAvrIzd0IAAEAkBTR3QgAAAIpXNHdCAADA76k0d0IAAIBV/DR3QgAAQLtONXdCAAAAIaE1d0IAAMCG8zV3QgAAgOxFNndCAABAUpg2d0IAAAC46jZ3QgAAwB09N3dCAACAg483d0IAAEDp4Td3QgAAAE80OHdCAADAtIY4d0IAAIAa2Th3QgAAQIArOXdCAAAA5n05d0IAAMBL0Dl3QgAAgLEiOndCAABAF3U6d0IAAAB9xzp3QgAAwOIZO3dCAACASGw7d0IAAECuvjt3QgAAABQRPHdCAADAeWM8d0IAAIDftTx3QgAAQEUIPXdCAAAAq1o9d0IAAMAQrT13QgAAgHb/PXdCAABA3FE+d0IAAABCpD53QgAAwKf2PndCAACADUk/d0IAAEBzmz93QgAAANntP3dCAADAPkBAd0IAAICkkkB3QgAAQArlQHdCAAAAcDdBd0IAAMDViUF3Qg==\",\"dtype\":\"float64\",\"shape\":[182]},\"y\":[2,0,0,0,0,3,0,1,7,16,14,10,22,11,15,14,34,50,77,80,79,87,84,117,99,185,182,193,157,188,173,195,199,210,201,208,181,169,169,167,157,123,151,118,117,163,154,140,122,123,143,121,148,144,144,87,60,80,80,79,78,92,85,83,75,78,71,56,84,53,38,67,81,39,52,47,32,25,22,38,41,73,32,50,39,20,28,25,31,18,20,16,18,11,21,16,6,13,10,5,10,11,9,28,11,16,23,18,20,27,25,14,3,9,10,9,9,14,8,8,8,6,12,13,18,14,9,5,9,11,11,31,14,19,5,14,28,23,19,20,24,18,20,9,14,20,17,14,6,16,26,18,19,19,13,10,34,18,18,18,17,15,17,12,18,20,20,38,38,23,37,36,45,58,68,51,43,75,115,137,215,184]},\"selected\":{\"id\":\"3720\"},\"selection_policy\":{\"id\":\"3719\"}},\"id\":\"3667\",\"type\":\"ColumnDataSource\"},{\"attributes\":{\"months\":[0,4,8]},\"id\":\"3788\",\"type\":\"MonthsTicker\"},{\"attributes\":{},\"id\":\"3452\",\"type\":\"SaveTool\"},{\"attributes\":{},\"id\":\"3552\",\"type\":\"WheelZoomTool\"},{\"attributes\":{\"months\":[0,6]},\"id\":\"3789\",\"type\":\"MonthsTicker\"},{\"attributes\":{},\"id\":\"3653\",\"type\":\"PanTool\"},{\"attributes\":{},\"id\":\"3756\",\"type\":\"WheelZoomTool\"},{\"attributes\":{\"fill_color\":{\"value\":\"white\"},\"line_color\":{\"value\":\"green\"},\"size\":{\"units\":\"screen\",\"value\":5},\"x\":{\"field\":\"x\"},\"y\":{\"field\":\"y\"}},\"id\":\"3624\",\"type\":\"Circle\"},{\"attributes\":{},\"id\":\"3453\",\"type\":\"ResetTool\"},{\"attributes\":{\"overlay\":{\"id\":\"3557\"}},\"id\":\"3553\",\"type\":\"BoxZoomTool\"},{\"attributes\":{\"axis\":{\"id\":\"3445\"},\"dimension\":1,\"ticker\":null},\"id\":\"3448\",\"type\":\"Grid\"},{\"attributes\":{},\"id\":\"3790\",\"type\":\"YearsTicker\"},{\"attributes\":{},\"id\":\"3654\",\"type\":\"WheelZoomTool\"},{\"attributes\":{\"overlay\":{\"id\":\"3761\"}},\"id\":\"3757\",\"type\":\"BoxZoomTool\"},{\"attributes\":{\"source\":{\"id\":\"3595\"}},\"id\":\"3599\",\"type\":\"CDSView\"},{\"attributes\":{\"label\":{\"value\":\"new deaths\"},\"renderers\":[{\"id\":\"3772\"}]},\"id\":\"3793\",\"type\":\"LegendItem\"},{\"attributes\":{},\"id\":\"3554\",\"type\":\"SaveTool\"},{\"attributes\":{\"data_source\":{\"id\":\"3595\"},\"glyph\":{\"id\":\"3596\"},\"hover_glyph\":null,\"muted_glyph\":null,\"nonselection_glyph\":{\"id\":\"3597\"},\"selection_glyph\":null,\"view\":{\"id\":\"3599\"}},\"id\":\"3598\",\"type\":\"GlyphRenderer\"},{\"attributes\":{\"line_alpha\":0.1,\"line_color\":\"blue\",\"line_width\":4,\"x\":{\"field\":\"x\"},\"y\":{\"field\":\"y\"}},\"id\":\"3465\",\"type\":\"Line\"},{\"attributes\":{},\"id\":\"3454\",\"type\":\"HelpTool\"},{\"attributes\":{\"overlay\":{\"id\":\"3659\"}},\"id\":\"3655\",\"type\":\"BoxZoomTool\"},{\"attributes\":{},\"id\":\"3758\",\"type\":\"SaveTool\"},{\"attributes\":{\"data_source\":{\"id\":\"3794\"},\"glyph\":{\"id\":\"3795\"},\"hover_glyph\":null,\"muted_glyph\":null,\"nonselection_glyph\":{\"id\":\"3796\"},\"selection_glyph\":null,\"view\":{\"id\":\"3798\"}},\"id\":\"3797\",\"type\":\"GlyphRenderer\"},{\"attributes\":{},\"id\":\"3555\",\"type\":\"ResetTool\"},{\"attributes\":{\"line_alpha\":0.1,\"line_color\":\"green\",\"line_width\":4,\"x\":{\"field\":\"x\"},\"y\":{\"field\":\"y\"}},\"id\":\"3597\",\"type\":\"Line\"},{\"attributes\":{\"data\":{\"x\":{\"__ndarray__\":\"AAAA5UcHd0IAAMBKmgd3QgAAgLDsB3dCAABAFj8Id0IAAAB8kQh3QgAAwOHjCHdCAACARzYJd0IAAECtiAl3QgAAABPbCXdCAADAeC0Kd0IAAIDefwp3QgAAQETSCndCAAAAqiQLd0IAAMAPdwt3QgAAgHXJC3dCAABA2xsMd0IAAABBbgx3QgAAwKbADHdCAACADBMNd0IAAEByZQ13QgAAANi3DXdCAADAPQoOd0IAAICjXA53QgAAQAmvDndCAAAAbwEPd0IAAMDUUw93QgAAgDqmD3dCAABAoPgPd0IAAAAGSxB3QgAAwGudEHdCAACA0e8Qd0IAAEA3QhF3QgAAAJ2UEXdCAADAAucRd0IAAIBoORJ3QgAAQM6LEndCAAAANN4Sd0IAAMCZMBN3QgAAgP+CE3dCAABAZdUTd0IAAADLJxR3QgAAwDB6FHdCAACAlswUd0IAAED8HhV3QgAAAGJxFXdCAADAx8MVd0IAAIAtFhZ3QgAAQJNoFndCAAAA+boWd0IAAMBeDRd3QgAAgMRfF3dCAABAKrIXd0IAAACQBBh3QgAAwPVWGHdCAACAW6kYd0IAAEDB+xh3QgAAACdOGXdCAADAjKAZd0IAAIDy8hl3QgAAQFhFGndCAAAAvpcad0IAAMAj6hp3QgAAgIk8G3dCAABA744bd0IAAABV4Rt3QgAAwLozHHdCAACAIIYcd0IAAECG2Bx3QgAAAOwqHXdCAADAUX0dd0IAAIC3zx13QgAAQB0iHndCAAAAg3Qed0IAAMDoxh53QgAAgE4ZH3dCAABAtGsfd0IAAAAavh93QgAAwH8QIHdCAACA5WIgd0IAAEBLtSB3QgAAALEHIXdCAADAFlohd0IAAIB8rCF3QgAAQOL+IXdCAAAASFEid0IAAMCtoyJ3QgAAgBP2IndCAABAeUgjd0IAAADfmiN3QgAAwETtI3dCAACAqj8kd0IAAEAQkiR3QgAAAHbkJHdCAADA2zYld0IAAIBBiSV3QgAAQKfbJXdCAAAADS4md0IAAMBygCZ3QgAAgNjSJndCAABAPiUnd0IAAACkdyd3QgAAwAnKJ3dCAACAbxwod0IAAEDVbih3QgAAADvBKHdCAADAoBMpd0IAAIAGZil3QgAAQGy4KXdCAAAA0goqd0IAAMA3XSp3QgAAgJ2vKndCAABAAwIrd0IAAABpVCt3QgAAwM6mK3dCAACANPkrd0IAAECaSyx3QgAAAACeLHdCAADAZfAsd0IAAIDLQi13QgAAQDGVLXdCAAAAl+ctd0IAAMD8OS53QgAAgGKMLndCAABAyN4ud0IAAAAuMS93QgAAwJODL3dCAACA+dUvd0IAAEBfKDB3QgAAAMV6MHdCAADAKs0wd0IAAICQHzF3QgAAQPZxMXdCAAAAXMQxd0IAAMDBFjJ3QgAAgCdpMndCAABAjbsyd0IAAADzDTN3QgAAwFhgM3dCAACAvrIzd0IAAEAkBTR3QgAAAIpXNHdCAADA76k0d0IAAIBV/DR3QgAAQLtONXdCAAAAIaE1d0IAAMCG8zV3QgAAgOxFNndCAABAUpg2d0IAAAC46jZ3QgAAwB09N3dCAACAg483d0IAAEDp4Td3QgAAAE80OHdCAADAtIY4d0IAAIAa2Th3QgAAQIArOXdCAAAA5n05d0IAAMBL0Dl3QgAAgLEiOndCAABAF3U6d0IAAAB9xzp3QgAAwOIZO3dCAACASGw7d0IAAECuvjt3QgAAABQRPHdCAADAeWM8d0IAAIDftTx3QgAAQEUIPXdCAAAAq1o9d0IAAMAQrT13QgAAgHb/PXdCAABA3FE+d0IAAABCpD53QgAAwKf2PndCAACADUk/d0IAAEBzmz93QgAAANntP3dCAADAPkBAd0IAAICkkkB3QgAAQArlQHdCAAAAcDdBd0IAAMDViUF3Qg==\",\"dtype\":\"float64\",\"shape\":[182]},\"y\":[0,0,0,0,0,0,0,0,0,0,0,1,0,2,2,1,0,3,2,2,3,3,4,9,6,5,7,3,10,17,15,11,12,6,12,14,12,7,16,14,13,7,10,9,6,9,10,10,6,5,16,11,5,16,8,1,8,14,7,5,9,3,2,8,17,17,10,41,15,11,16,10,4,5,6,4,4,5,4,11,18,9,12,6,6,12,7,15,7,7,8,4,5,8,7,13,7,7,4,2,6,3,4,4,2,3,3,4,6,5,25,2,3,3,4,4,4,1,0,3,2,1,2,1,1,0,0,0,2,0,1,1,0,1,0,0,1,1,0,0,1,1,1,1,1,1,1,0,2,2,1,1,1,2,1,1,0,1,0,0,0,1,0,1,0,0,1,0,1,0,1,1,1,0,0,0,1,0,1,1,0,1]},\"selected\":{\"id\":\"3824\"},\"selection_policy\":{\"id\":\"3823\"}},\"id\":\"3794\",\"type\":\"ColumnDataSource\"},{\"attributes\":{\"active_drag\":\"auto\",\"active_inspect\":\"auto\",\"active_multi\":null,\"active_scroll\":\"auto\",\"active_tap\":\"auto\",\"tools\":[{\"id\":\"3449\"},{\"id\":\"3450\"},{\"id\":\"3451\"},{\"id\":\"3452\"},{\"id\":\"3453\"},{\"id\":\"3454\"},{\"id\":\"3530\"}]},\"id\":\"3456\",\"type\":\"Toolbar\"},{\"attributes\":{},\"id\":\"3656\",\"type\":\"SaveTool\"},{\"attributes\":{},\"id\":\"3759\",\"type\":\"ResetTool\"},{\"attributes\":{\"source\":{\"id\":\"3794\"}},\"id\":\"3798\",\"type\":\"CDSView\"},{\"attributes\":{\"line_alpha\":0.1,\"line_color\":\"darkviolet\",\"line_width\":4,\"x\":{\"field\":\"x\"},\"y\":{\"field\":\"y\"}},\"id\":\"3567\",\"type\":\"Line\"},{\"attributes\":{},\"id\":\"3518\",\"type\":\"Selection\"},{\"attributes\":{},\"id\":\"3556\",\"type\":\"HelpTool\"},{\"attributes\":{},\"id\":\"3657\",\"type\":\"ResetTool\"},{\"attributes\":{\"label\":{\"value\":\"recovered\"},\"renderers\":[{\"id\":\"3598\"}]},\"id\":\"3622\",\"type\":\"LegendItem\"},{\"attributes\":{\"line_alpha\":0.1,\"line_color\":\"darkviolet\",\"line_width\":4,\"x\":{\"field\":\"x\"},\"y\":{\"field\":\"y\"}},\"id\":\"3771\",\"type\":\"Line\"},{\"attributes\":{},\"id\":\"3760\",\"type\":\"HelpTool\"},{\"attributes\":{\"line_color\":\"lightgreen\",\"line_width\":4,\"x\":{\"field\":\"x\"},\"y\":{\"field\":\"y\"}},\"id\":\"3800\",\"type\":\"Line\"},{\"attributes\":{},\"id\":\"3517\",\"type\":\"UnionRenderers\"},{\"attributes\":{},\"id\":\"3857\",\"type\":\"UnionRenderers\"},{\"attributes\":{\"active_drag\":\"auto\",\"active_inspect\":\"auto\",\"active_multi\":null,\"active_scroll\":\"auto\",\"active_tap\":\"auto\",\"tools\":[{\"id\":\"3551\"},{\"id\":\"3552\"},{\"id\":\"3553\"},{\"id\":\"3554\"},{\"id\":\"3555\"},{\"id\":\"3556\"},{\"id\":\"3632\"}]},\"id\":\"3558\",\"type\":\"Toolbar\"},{\"attributes\":{\"data_source\":{\"id\":\"3667\"},\"glyph\":{\"id\":\"3668\"},\"hover_glyph\":null,\"muted_glyph\":null,\"nonselection_glyph\":{\"id\":\"3669\"},\"selection_glyph\":null,\"view\":{\"id\":\"3671\"}},\"id\":\"3670\",\"type\":\"GlyphRenderer\"},{\"attributes\":{\"data\":{\"x\":{\"__ndarray__\":\"AAAA5UcHd0IAAMBKmgd3QgAAgLDsB3dCAABAFj8Id0IAAAB8kQh3QgAAwOHjCHdCAACARzYJd0IAAECtiAl3QgAAABPbCXdCAADAeC0Kd0IAAIDefwp3QgAAQETSCndCAAAAqiQLd0IAAMAPdwt3QgAAgHXJC3dCAABA2xsMd0IAAABBbgx3QgAAwKbADHdCAACADBMNd0IAAEByZQ13QgAAANi3DXdCAADAPQoOd0IAAICjXA53QgAAQAmvDndCAAAAbwEPd0IAAMDUUw93QgAAgDqmD3dCAABAoPgPd0IAAAAGSxB3QgAAwGudEHdCAACA0e8Qd0IAAEA3QhF3QgAAAJ2UEXdCAADAAucRd0IAAIBoORJ3QgAAQM6LEndCAAAANN4Sd0IAAMCZMBN3QgAAgP+CE3dCAABAZdUTd0IAAADLJxR3QgAAwDB6FHdCAACAlswUd0IAAED8HhV3QgAAAGJxFXdCAADAx8MVd0IAAIAtFhZ3QgAAQJNoFndCAAAA+boWd0IAAMBeDRd3QgAAgMRfF3dCAABAKrIXd0IAAACQBBh3QgAAwPVWGHdCAACAW6kYd0IAAEDB+xh3QgAAACdOGXdCAADAjKAZd0IAAIDy8hl3QgAAQFhFGndCAAAAvpcad0IAAMAj6hp3QgAAgIk8G3dCAABA744bd0IAAABV4Rt3QgAAwLozHHdCAACAIIYcd0IAAECG2Bx3QgAAAOwqHXdCAADAUX0dd0IAAIC3zx13QgAAQB0iHndCAAAAg3Qed0IAAMDoxh53QgAAgE4ZH3dCAABAtGsfd0IAAAAavh93QgAAwH8QIHdCAACA5WIgd0IAAEBLtSB3QgAAALEHIXdCAADAFlohd0IAAIB8rCF3QgAAQOL+IXdCAAAASFEid0IAAMCtoyJ3QgAAgBP2IndCAABAeUgjd0IAAADfmiN3QgAAwETtI3dCAACAqj8kd0IAAEAQkiR3QgAAAHbkJHdCAADA2zYld0IAAIBBiSV3QgAAQKfbJXdCAAAADS4md0IAAMBygCZ3QgAAgNjSJndCAABAPiUnd0IAAACkdyd3QgAAwAnKJ3dCAACAbxwod0IAAEDVbih3QgAAADvBKHdCAADAoBMpd0IAAIAGZil3QgAAQGy4KXdCAAAA0goqd0IAAMA3XSp3QgAAgJ2vKndCAABAAwIrd0IAAABpVCt3QgAAwM6mK3dCAACANPkrd0IAAECaSyx3QgAAAACeLHdCAADAZfAsd0IAAIDLQi13QgAAQDGVLXdCAAAAl+ctd0IAAMD8OS53QgAAgGKMLndCAABAyN4ud0IAAAAuMS93QgAAwJODL3dCAACA+dUvd0IAAEBfKDB3QgAAAMV6MHdCAADAKs0wd0IAAICQHzF3QgAAQPZxMXdCAAAAXMQxd0IAAMDBFjJ3QgAAgCdpMndCAABAjbsyd0IAAADzDTN3QgAAwFhgM3dCAACAvrIzd0IAAEAkBTR3QgAAAIpXNHdCAADA76k0d0IAAIBV/DR3QgAAQLtONXdCAAAAIaE1d0IAAMCG8zV3QgAAgOxFNndCAABAUpg2d0IAAAC46jZ3QgAAwB09N3dCAACAg483d0IAAEDp4Td3QgAAAE80OHdCAADAtIY4d0IAAIAa2Th3QgAAQIArOXdCAAAA5n05d0IAAMBL0Dl3QgAAgLEiOndCAABAF3U6d0IAAAB9xzp3QgAAwOIZO3dCAACASGw7d0IAAECuvjt3QgAAABQRPHdCAADAeWM8d0IAAIDftTx3QgAAQEUIPXdCAAAAq1o9d0IAAMAQrT13QgAAgHb/PXdCAABA3FE+d0IAAABCpD53QgAAwKf2PndCAACADUk/d0IAAEBzmz93QgAAANntP3dCAADAPkBAd0IAAICkkkB3QgAAQArlQHdCAAAAcDdBd0IAAMDViUF3Qg==\",\"dtype\":\"float64\",\"shape\":[182]},\"y\":[1,1,3,3,3,3,3,3,3,3,3,3,3,3,3,11,19,19,24,24,24,32,34,42,44,53,54,58,63,103,131,155,164,200,208,267,291,337,369,392,439,475,502,546,574,644,687,720,749,764,789,874,920,978,1046,1093,1101,1130,1142,1193,1256,1276,1347,1433,1491,1579,1707,1744,1807,1916,1938,2010,2024,2143,2209,2235,2322,2334,2373,2438,2600,2672,2758,2914,3031,3079,3100,3259,3285,3350,3374,3401,3430,3483,3580,3825,3932,4010,4105,4155,4188,4260,4309,4346,4362,4450,4515,4533,4596,4913,5778,5825,5855,6024,6120,6167,6181,6195,6199,6250,6315,6337,6354,6412,6418,6418,6428,6437,6448,6460,6475,6477,6484,6493,6495,6508,6520,6530,6535,6557,6601,6616,6631,6687,6698,6703,6713,6714,6722,6728,6735,6743,6749,6759,6762,6773,6780,6829,6839,6852,6855,6859,6863,6878,6886,6891,6901,6910,6912,6915,6931,6960,6966,6971,6973,6979,6991,6996,6999,7009,7020,7046]},\"selected\":{\"id\":\"3885\"},\"selection_policy\":{\"id\":\"3884\"}},\"id\":\"3623\",\"type\":\"ColumnDataSource\"},{\"attributes\":{},\"id\":\"3860\",\"type\":\"Selection\"},{\"attributes\":{\"active_drag\":\"auto\",\"active_inspect\":\"auto\",\"active_multi\":null,\"active_scroll\":\"auto\",\"active_tap\":\"auto\",\"tools\":[{\"id\":\"3755\"},{\"id\":\"3756\"},{\"id\":\"3757\"},{\"id\":\"3758\"},{\"id\":\"3759\"},{\"id\":\"3760\"},{\"id\":\"3836\"}]},\"id\":\"3762\",\"type\":\"Toolbar\"},{\"attributes\":{},\"id\":\"3658\",\"type\":\"HelpTool\"},{\"attributes\":{\"data\":{\"x\":{\"__ndarray__\":\"AAAA5UcHd0IAAMBKmgd3QgAAgLDsB3dCAABAFj8Id0IAAAB8kQh3QgAAwOHjCHdCAACARzYJd0IAAECtiAl3QgAAABPbCXdCAADAeC0Kd0IAAIDefwp3QgAAQETSCndCAAAAqiQLd0IAAMAPdwt3QgAAgHXJC3dCAABA2xsMd0IAAABBbgx3QgAAwKbADHdCAACADBMNd0IAAEByZQ13QgAAANi3DXdCAADAPQoOd0IAAICjXA53QgAAQAmvDndCAAAAbwEPd0IAAMDUUw93QgAAgDqmD3dCAABAoPgPd0IAAAAGSxB3QgAAwGudEHdCAACA0e8Qd0IAAEA3QhF3QgAAAJ2UEXdCAADAAucRd0IAAIBoORJ3QgAAQM6LEndCAAAANN4Sd0IAAMCZMBN3QgAAgP+CE3dCAABAZdUTd0IAAADLJxR3QgAAwDB6FHdCAACAlswUd0IAAED8HhV3QgAAAGJxFXdCAADAx8MVd0IAAIAtFhZ3QgAAQJNoFndCAAAA+boWd0IAAMBeDRd3QgAAgMRfF3dCAABAKrIXd0IAAACQBBh3QgAAwPVWGHdCAACAW6kYd0IAAEDB+xh3QgAAACdOGXdCAADAjKAZd0IAAIDy8hl3QgAAQFhFGndCAAAAvpcad0IAAMAj6hp3QgAAgIk8G3dCAABA744bd0IAAABV4Rt3QgAAwLozHHdCAACAIIYcd0IAAECG2Bx3QgAAAOwqHXdCAADAUX0dd0IAAIC3zx13QgAAQB0iHndCAAAAg3Qed0IAAMDoxh53QgAAgE4ZH3dCAABAtGsfd0IAAAAavh93QgAAwH8QIHdCAACA5WIgd0IAAEBLtSB3QgAAALEHIXdCAADAFlohd0IAAIB8rCF3QgAAQOL+IXdCAAAASFEid0IAAMCtoyJ3QgAAgBP2IndCAABAeUgjd0IAAADfmiN3QgAAwETtI3dCAACAqj8kd0IAAEAQkiR3QgAAAHbkJHdCAADA2zYld0IAAIBBiSV3QgAAQKfbJXdCAAAADS4md0IAAMBygCZ3QgAAgNjSJndCAABAPiUnd0IAAACkdyd3QgAAwAnKJ3dCAACAbxwod0IAAEDVbih3QgAAADvBKHdCAADAoBMpd0IAAIAGZil3QgAAQGy4KXdCAAAA0goqd0IAAMA3XSp3QgAAgJ2vKndCAABAAwIrd0IAAABpVCt3QgAAwM6mK3dCAACANPkrd0IAAECaSyx3QgAAAACeLHdCAADAZfAsd0IAAIDLQi13QgAAQDGVLXdCAAAAl+ctd0IAAMD8OS53QgAAgGKMLndCAABAyN4ud0IAAAAuMS93QgAAwJODL3dCAACA+dUvd0IAAEBfKDB3QgAAAMV6MHdCAADAKs0wd0IAAICQHzF3QgAAQPZxMXdCAAAAXMQxd0IAAMDBFjJ3QgAAgCdpMndCAABAjbsyd0IAAADzDTN3QgAAwFhgM3dCAACAvrIzd0IAAEAkBTR3QgAAAIpXNHdCAADA76k0d0IAAIBV/DR3QgAAQLtONXdCAAAAIaE1d0IAAMCG8zV3QgAAgOxFNndCAABAUpg2d0IAAAC46jZ3QgAAwB09N3dCAACAg483d0IAAEDp4Td3QgAAAE80OHdCAADAtIY4d0IAAIAa2Th3QgAAQIArOXdCAAAA5n05d0IAAMBL0Dl3QgAAgLEiOndCAABAF3U6d0IAAAB9xzp3QgAAwOIZO3dCAACASGw7d0IAAECuvjt3QgAAABQRPHdCAADAeWM8d0IAAIDftTx3QgAAQEUIPXdCAAAAq1o9d0IAAMAQrT13QgAAgHb/PXdCAABA3FE+d0IAAABCpD53QgAAwKf2PndCAACADUk/d0IAAEBzmz93QgAAANntP3dCAADAPkBAd0IAAICkkkB3QgAAQArlQHdCAAAAcDdBd0IAAMDViUF3Qg==\",\"dtype\":\"float64\",\"shape\":[182]},\"y\":[2,2,0,0,0,3,3,4,11,27,41,50,72,81,94,99,125,172,242,320,396,472,550,650,741,912,1086,1272,1414,1545,1675,1835,2013,2181,2362,2497,2642,2758,2879,3009,3106,3186,3300,3365,3448,3532,3633,3730,3817,3920,4022,4047,4144,4214,4282,4321,4365,4402,4463,4486,4492,4561,4573,4562,4562,4535,4468,4446,4452,4385,4385,4370,4433,4348,4328,4345,4286,4294,4273,4235,4096,4088,4022,3910,3826,3786,3786,3637,3635,3581,3569,3554,3538,3488,3405,3163,3055,2983,2894,2847,2818,2754,2710,2697,2690,2615,2570,2566,2517,2222,1357,1322,1292,1129,1039,997,988,987,991,945,886,869,862,816,827,841,840,836,832,831,826,854,861,870,873,874,889,901,915,913,892,894,898,850,852,866,872,885,881,889,907,916,928,935,944,942,969,937,945,950,964,974,987,983,993,1008,1017,1046,1081,1101,1121,1127,1165,1218,1284,1329,1359,1429,1540,1666,1870,2027]},\"selected\":{\"id\":\"3860\"},\"selection_policy\":{\"id\":\"3859\"}},\"id\":\"3521\",\"type\":\"ColumnDataSource\"},{\"attributes\":{\"line_alpha\":0.1,\"line_color\":\"lightgreen\",\"line_width\":4,\"x\":{\"field\":\"x\"},\"y\":{\"field\":\"y\"}},\"id\":\"3801\",\"type\":\"Line\"},{\"attributes\":{\"months\":[0,4,8]},\"id\":\"3584\",\"type\":\"MonthsTicker\"},{\"attributes\":{},\"id\":\"3619\",\"type\":\"UnionRenderers\"},{\"attributes\":{},\"id\":\"3883\",\"type\":\"Selection\"},{\"attributes\":{},\"id\":\"3821\",\"type\":\"UnionRenderers\"},{\"attributes\":{\"active_drag\":\"auto\",\"active_inspect\":\"auto\",\"active_multi\":null,\"active_scroll\":\"auto\",\"active_tap\":\"auto\",\"tools\":[{\"id\":\"3653\"},{\"id\":\"3654\"},{\"id\":\"3655\"},{\"id\":\"3656\"},{\"id\":\"3657\"},{\"id\":\"3658\"},{\"id\":\"3734\"}]},\"id\":\"3660\",\"type\":\"Toolbar\"},{\"attributes\":{\"fill_alpha\":{\"value\":0.1},\"fill_color\":{\"value\":\"white\"},\"line_alpha\":{\"value\":0.1},\"line_color\":{\"value\":\"darkviolet\"},\"size\":{\"units\":\"screen\",\"value\":5},\"x\":{\"field\":\"x\"},\"y\":{\"field\":\"y\"}},\"id\":\"3796\",\"type\":\"Circle\"},{\"attributes\":{\"months\":[0,6]},\"id\":\"3585\",\"type\":\"MonthsTicker\"},{\"attributes\":{},\"id\":\"3618\",\"type\":\"Selection\"},{\"attributes\":{\"fill_alpha\":{\"value\":0.1},\"fill_color\":{\"value\":\"white\"},\"line_alpha\":{\"value\":0.1},\"line_color\":{\"value\":\"red\"},\"size\":{\"units\":\"screen\",\"value\":5},\"x\":{\"field\":\"x\"},\"y\":{\"field\":\"y\"}},\"id\":\"3523\",\"type\":\"Circle\"},{\"attributes\":{\"months\":[0,2,4,6,8,10]},\"id\":\"3583\",\"type\":\"MonthsTicker\"},{\"attributes\":{},\"id\":\"3620\",\"type\":\"Selection\"},{\"attributes\":{\"items\":[{\"id\":\"3691\"},{\"id\":\"3724\"}],\"location\":\"top_left\"},\"id\":\"3690\",\"type\":\"Legend\"},{\"attributes\":{\"data\":{\"x\":{\"__ndarray__\":\"AAAA5UcHd0IAAMBKmgd3QgAAgLDsB3dCAABAFj8Id0IAAAB8kQh3QgAAwOHjCHdCAACARzYJd0IAAECtiAl3QgAAABPbCXdCAADAeC0Kd0IAAIDefwp3QgAAQETSCndCAAAAqiQLd0IAAMAPdwt3QgAAgHXJC3dCAABA2xsMd0IAAABBbgx3QgAAwKbADHdCAACADBMNd0IAAEByZQ13QgAAANi3DXdCAADAPQoOd0IAAICjXA53QgAAQAmvDndCAAAAbwEPd0IAAMDUUw93QgAAgDqmD3dCAABAoPgPd0IAAAAGSxB3QgAAwGudEHdCAACA0e8Qd0IAAEA3QhF3QgAAAJ2UEXdCAADAAucRd0IAAIBoORJ3QgAAQM6LEndCAAAANN4Sd0IAAMCZMBN3QgAAgP+CE3dCAABAZdUTd0IAAADLJxR3QgAAwDB6FHdCAACAlswUd0IAAED8HhV3QgAAAGJxFXdCAADAx8MVd0IAAIAtFhZ3QgAAQJNoFndCAAAA+boWd0IAAMBeDRd3QgAAgMRfF3dCAABAKrIXd0IAAACQBBh3QgAAwPVWGHdCAACAW6kYd0IAAEDB+xh3QgAAACdOGXdCAADAjKAZd0IAAIDy8hl3QgAAQFhFGndCAAAAvpcad0IAAMAj6hp3QgAAgIk8G3dCAABA744bd0IAAABV4Rt3QgAAwLozHHdCAACAIIYcd0IAAECG2Bx3QgAAAOwqHXdCAADAUX0dd0IAAIC3zx13QgAAQB0iHndCAAAAg3Qed0IAAMDoxh53QgAAgE4ZH3dCAABAtGsfd0IAAAAavh93QgAAwH8QIHdCAACA5WIgd0IAAEBLtSB3QgAAALEHIXdCAADAFlohd0IAAIB8rCF3QgAAQOL+IXdCAAAASFEid0IAAMCtoyJ3QgAAgBP2IndCAABAeUgjd0IAAADfmiN3QgAAwETtI3dCAACAqj8kd0IAAEAQkiR3QgAAAHbkJHdCAADA2zYld0IAAIBBiSV3QgAAQKfbJXdCAAAADS4md0IAAMBygCZ3QgAAgNjSJndCAABAPiUnd0IAAACkdyd3QgAAwAnKJ3dCAACAbxwod0IAAEDVbih3QgAAADvBKHdCAADAoBMpd0IAAIAGZil3QgAAQGy4KXdCAAAA0goqd0IAAMA3XSp3QgAAgJ2vKndCAABAAwIrd0IAAABpVCt3QgAAwM6mK3dCAACANPkrd0IAAECaSyx3QgAAAACeLHdCAADAZfAsd0IAAIDLQi13QgAAQDGVLXdCAAAAl+ctd0IAAMD8OS53QgAAgGKMLndCAABAyN4ud0IAAAAuMS93QgAAwJODL3dCAACA+dUvd0IAAEBfKDB3QgAAAMV6MHdCAADAKs0wd0IAAICQHzF3QgAAQPZxMXdCAAAAXMQxd0IAAMDBFjJ3QgAAgCdpMndCAABAjbsyd0IAAADzDTN3QgAAwFhgM3dCAACAvrIzd0IAAEAkBTR3QgAAAIpXNHdCAADA76k0d0IAAIBV/DR3QgAAQLtONXdCAAAAIaE1d0IAAMCG8zV3QgAAgOxFNndCAABAUpg2d0IAAAC46jZ3QgAAwB09N3dCAACAg483d0IAAEDp4Td3QgAAAE80OHdCAADAtIY4d0IAAIAa2Th3QgAAQIArOXdCAAAA5n05d0IAAMBL0Dl3QgAAgLEiOndCAABAF3U6d0IAAAB9xzp3QgAAwOIZO3dCAACASGw7d0IAAECuvjt3QgAAABQRPHdCAADAeWM8d0IAAIDftTx3QgAAQEUIPXdCAAAAq1o9d0IAAMAQrT13QgAAgHb/PXdCAABA3FE+d0IAAABCpD53QgAAwKf2PndCAACADUk/d0IAAEBzmz93QgAAANntP3dCAADAPkBAd0IAAICkkkB3QgAAQArlQHdCAAAAcDdBd0IAAMDViUF3Qg==\",\"dtype\":\"float64\",\"shape\":[182]},\"y\":{\"__ndarray__\":\"AAAAAAAA+H8AAAAAAAD4fwAAAAAAAPh/AAAAAAAA+H8AAAAAAAD4fwAAAAAAAPh/AAAAAAAA+H8AAAAAAAD4fwAAAAAAAPh/AAAAAAAA+H8AAAAAAAD4fwAAAAAAAPh/AAAAAAAA+H/btm3btm3LP7dt27Zt29Y/27Zt27Zt2z/btm3btm3bPyVJkiRJkuQ/SZIkSZIk6T9u27Zt27btP5IkSZIkSfI/btu2bdu29T+SJEmSJEn6P5IkSZIkSQJAbtu2bdu2BUAAAAAAAAAIQAAAAAAAAAxAJUmSJEmSDEAlSZIkSZIQQEmSJEmSJBVA27Zt27ZtGUBu27Zt27YbQCVJkiRJkh5Abtu2bdu2H0BJkiRJkiQhQG7btm3btiJAt23btm3bI0AlSZIkSZIjQAAAAAAAACVAkiRJkiRJJkBJkiRJkiQnQG7btm3btidAbtu2bdu2J0AlSZIkSZImQJIkSZIkSSVAAAAAAAAAJUBu27Zt27YkQJIkSZIkSSVA27Zt27ZtJEBJkiRJkiQjQG7btm3btiNAkiRJkiRJJEBu27Zt27YiQAAAAAAAACNAkiRJkiRJIkDbtm3btm0hQEmSJEmSJCFAt23btm3bIUAAAAAAAAAiQNu2bdu2bSFAkiRJkiRJIUCSJEmSJEkgQNu2bdu2bR9ASZIkSZIkIECSJEmSJEkgQEmSJEmSJCFAt23btm3bIUDbtm3btm0lQNu2bdu2bSZAt23btm3bJ0AAAAAAAAApQNu2bdu2bShAAAAAAAAAKEAAAAAAAAAoQCVJkiRJkidAbtu2bdu2J0AAAAAAAAAoQCVJkiRJkidAbtu2bdu2JUC3bdu2bdskQAAAAAAAACZA27Zt27ZtIUAAAAAAAAAhQJIkSZIkSSBAbtu2bdu2HUCSJEmSJEkeQEmSJEmSJB9AAAAAAAAAIUBJkiRJkiQhQCVJkiRJkiFASZIkSZIkIkAAAAAAAAAiQEmSJEmSJCJAbtu2bdu2IUBJkiRJkiQgQG7btm3btiBAAAAAAAAAIEBJkiRJkiQgQG7btm3bth9At23btm3bHEAlSZIkSZIcQEmSJEmSJBlAkiRJkiRJGEDbtm3btm0XQG7btm3bthVA27Zt27ZtFUC3bdu2bdsUQG7btm3bthNA27Zt27ZtE0BJkiRJkiQRQJIkSZIkSRZAt23btm3bFEAlSZIkSZIUQLdt27Zt2xRAkiRJkiRJFEAlSZIkSZIUQCVJkiRJkhRAbtu2bdu2E0BJkiRJkiQTQEmSJEmSJBNAt23btm3bEkAAAAAAAAASQLdt27Zt2xBA27Zt27ZtD0Bu27Zt27YBQCVJkiRJkgBAbtu2bdu2/T+SJEmSJEn6PwAAAAAAAPg/27Zt27Zt8z8AAAAAAADwPwAAAAAAAPA/AAAAAAAA8D/btm3btm3rP7dt27Zt2+Y/JUmSJEmS5D+SJEmSJEniP5IkSZIkSeI/AAAAAAAA4D8AAAAAAADgP5IkSZIkSeI/JUmSJEmS5D+SJEmSJEniPyVJkiRJkuQ/JUmSJEmS5D8lSZIkSZLkP7dt27Zt2+Y/JUmSJEmS5D9JkiRJkiTpP27btm3btu0/btu2bdu27T9u27Zt27btPwAAAAAAAPA/kiRJkiRJ8j+SJEmSJEnyP5IkSZIkSfI/SZIkSZIk8T9JkiRJkiTxPwAAAAAAAPA/btu2bdu27T/btm3btm3rP27btm3btu0/SZIkSZIk6T+3bdu2bdvmPyVJkiRJkuQ/kiRJkiRJ4j+SJEmSJEniP9u2bdu2bds/27Zt27Zt2z+3bdu2bdvWP9u2bdu2bds/27Zt27Zt2z8AAAAAAADgPwAAAAAAAOA/AAAAAAAA4D/btm3btm3bPwAAAAAAAOA/27Zt27Zt2z8AAAAAAADgP5IkSZIkSeI/AAAAAAAA4D+SJEmSJEniPw==\",\"dtype\":\"float64\",\"shape\":[182]}},\"selected\":{\"id\":\"3933\"},\"selection_policy\":{\"id\":\"3932\"}},\"id\":\"3799\",\"type\":\"ColumnDataSource\"},{\"attributes\":{},\"id\":\"3822\",\"type\":\"Selection\"},{\"attributes\":{},\"id\":\"3515\",\"type\":\"UnionRenderers\"},{\"attributes\":{\"label\":{\"value\":\"total positive\"},\"renderers\":[{\"id\":\"3496\"}]},\"id\":\"3520\",\"type\":\"LegendItem\"},{\"attributes\":{},\"id\":\"3516\",\"type\":\"Selection\"},{\"attributes\":{\"base\":24,\"mantissas\":[1,2,4,6,8,12],\"max_interval\":43200000.0,\"min_interval\":3600000.0,\"num_minor_ticks\":0},\"id\":\"3679\",\"type\":\"AdaptiveTicker\"},{\"attributes\":{\"fill_color\":{\"value\":\"white\"},\"line_color\":{\"value\":\"red\"},\"size\":{\"units\":\"screen\",\"value\":5},\"x\":{\"field\":\"x\"},\"y\":{\"field\":\"y\"}},\"id\":\"3522\",\"type\":\"Circle\"},{\"attributes\":{\"bottom_units\":\"screen\",\"fill_alpha\":0.5,\"fill_color\":\"lightgrey\",\"left_units\":\"screen\",\"level\":\"overlay\",\"line_alpha\":1.0,\"line_color\":\"black\",\"line_dash\":[4,4],\"line_width\":2,\"render_mode\":\"css\",\"right_units\":\"screen\",\"top_units\":\"screen\"},\"id\":\"3455\",\"type\":\"BoxAnnotation\"},{\"attributes\":{\"base\":60,\"mantissas\":[1,2,5,10,15,20,30],\"max_interval\":1800000.0,\"min_interval\":1000.0,\"num_minor_ticks\":0},\"id\":\"3678\",\"type\":\"AdaptiveTicker\"},{\"attributes\":{},\"id\":\"3910\",\"type\":\"Selection\"},{\"attributes\":{\"axis\":{\"id\":\"3751\"},\"dimension\":1,\"ticker\":null},\"id\":\"3754\",\"type\":\"Grid\"},{\"attributes\":{\"base\":24,\"mantissas\":[1,2,4,6,8,12],\"max_interval\":43200000.0,\"min_interval\":3600000.0,\"num_minor_ticks\":0},\"id\":\"3781\",\"type\":\"AdaptiveTicker\"},{\"attributes\":{\"mantissas\":[1,2,5],\"max_interval\":500.0,\"num_minor_ticks\":0},\"id\":\"3677\",\"type\":\"AdaptiveTicker\"},{\"attributes\":{\"line_color\":\"darkviolet\",\"line_width\":4,\"x\":{\"field\":\"x\"},\"y\":{\"field\":\"y\"}},\"id\":\"3770\",\"type\":\"Line\"},{\"attributes\":{\"items\":[{\"id\":\"3487\"},{\"id\":\"3520\"}],\"location\":\"top_left\"},\"id\":\"3486\",\"type\":\"Legend\"},{\"attributes\":{\"bottom_units\":\"screen\",\"fill_alpha\":0.5,\"fill_color\":\"lightgrey\",\"left_units\":\"screen\",\"level\":\"overlay\",\"line_alpha\":1.0,\"line_color\":\"black\",\"line_dash\":[4,4],\"line_width\":2,\"render_mode\":\"css\",\"right_units\":\"screen\",\"top_units\":\"screen\"},\"id\":\"3659\",\"type\":\"BoxAnnotation\"},{\"attributes\":{\"fill_color\":{\"value\":\"white\"},\"line_color\":{\"value\":\"blue\"},\"size\":{\"units\":\"screen\",\"value\":5},\"x\":{\"field\":\"x\"},\"y\":{\"field\":\"y\"}},\"id\":\"3489\",\"type\":\"Circle\"},{\"attributes\":{\"days\":[1,2,3,4,5,6,7,8,9,10,11,12,13,14,15,16,17,18,19,20,21,22,23,24,25,26,27,28,29,30,31]},\"id\":\"3680\",\"type\":\"DaysTicker\"},{\"attributes\":{\"mantissas\":[1,2,5],\"max_interval\":500.0,\"num_minor_ticks\":0},\"id\":\"3473\",\"type\":\"AdaptiveTicker\"},{\"attributes\":{\"days\":[1,4,7,10,13,16,19,22,25,28]},\"id\":\"3681\",\"type\":\"DaysTicker\"},{\"attributes\":{\"days\":[1,8,15,22]},\"id\":\"3682\",\"type\":\"DaysTicker\"},{\"attributes\":{\"days\":[1,15]},\"id\":\"3683\",\"type\":\"DaysTicker\"},{\"attributes\":{\"base\":24,\"mantissas\":[1,2,4,6,8,12],\"max_interval\":43200000.0,\"min_interval\":3600000.0,\"num_minor_ticks\":0},\"id\":\"3475\",\"type\":\"AdaptiveTicker\"},{\"attributes\":{\"months\":[0,1,2,3,4,5,6,7,8,9,10,11]},\"id\":\"3684\",\"type\":\"MonthsTicker\"},{\"attributes\":{\"base\":60,\"mantissas\":[1,2,5,10,15,20,30],\"max_interval\":1800000.0,\"min_interval\":1000.0,\"num_minor_ticks\":0},\"id\":\"3474\",\"type\":\"AdaptiveTicker\"},{\"attributes\":{\"months\":[0,2,4,6,8,10]},\"id\":\"3685\",\"type\":\"MonthsTicker\"},{\"attributes\":{},\"id\":\"3720\",\"type\":\"Selection\"},{\"attributes\":{\"months\":[0,4,8]},\"id\":\"3686\",\"type\":\"MonthsTicker\"},{\"attributes\":{\"days\":[1,2,3,4,5,6,7,8,9,10,11,12,13,14,15,16,17,18,19,20,21,22,23,24,25,26,27,28,29,30,31]},\"id\":\"3476\",\"type\":\"DaysTicker\"},{\"attributes\":{\"months\":[0,6]},\"id\":\"3687\",\"type\":\"MonthsTicker\"},{\"attributes\":{\"days\":[1,4,7,10,13,16,19,22,25,28]},\"id\":\"3477\",\"type\":\"DaysTicker\"},{\"attributes\":{},\"id\":\"3688\",\"type\":\"YearsTicker\"},{\"attributes\":{\"fill_color\":{\"value\":\"white\"},\"line_color\":{\"value\":\"blue\"},\"size\":{\"units\":\"screen\",\"value\":5},\"x\":{\"field\":\"x\"},\"y\":{\"field\":\"y\"}},\"id\":\"3693\",\"type\":\"Circle\"},{\"attributes\":{\"days\":[1,8,15,22]},\"id\":\"3478\",\"type\":\"DaysTicker\"},{\"attributes\":{\"days\":[1,15]},\"id\":\"3479\",\"type\":\"DaysTicker\"},{\"attributes\":{\"data_source\":{\"id\":\"3692\"},\"glyph\":{\"id\":\"3693\"},\"hover_glyph\":null,\"muted_glyph\":null,\"nonselection_glyph\":{\"id\":\"3694\"},\"selection_glyph\":null,\"view\":{\"id\":\"3696\"}},\"id\":\"3695\",\"type\":\"GlyphRenderer\"},{\"attributes\":{\"data\":{\"x\":{\"__ndarray__\":\"AAAA5UcHd0IAAMBKmgd3QgAAgLDsB3dCAABAFj8Id0IAAAB8kQh3QgAAwOHjCHdCAACARzYJd0IAAECtiAl3QgAAABPbCXdCAADAeC0Kd0IAAIDefwp3QgAAQETSCndCAAAAqiQLd0IAAMAPdwt3QgAAgHXJC3dCAABA2xsMd0IAAABBbgx3QgAAwKbADHdCAACADBMNd0IAAEByZQ13QgAAANi3DXdCAADAPQoOd0IAAICjXA53QgAAQAmvDndCAAAAbwEPd0IAAMDUUw93QgAAgDqmD3dCAABAoPgPd0IAAAAGSxB3QgAAwGudEHdCAACA0e8Qd0IAAEA3QhF3QgAAAJ2UEXdCAADAAucRd0IAAIBoORJ3QgAAQM6LEndCAAAANN4Sd0IAAMCZMBN3QgAAgP+CE3dCAABAZdUTd0IAAADLJxR3QgAAwDB6FHdCAACAlswUd0IAAED8HhV3QgAAAGJxFXdCAADAx8MVd0IAAIAtFhZ3QgAAQJNoFndCAAAA+boWd0IAAMBeDRd3QgAAgMRfF3dCAABAKrIXd0IAAACQBBh3QgAAwPVWGHdCAACAW6kYd0IAAEDB+xh3QgAAACdOGXdCAADAjKAZd0IAAIDy8hl3QgAAQFhFGndCAAAAvpcad0IAAMAj6hp3QgAAgIk8G3dCAABA744bd0IAAABV4Rt3QgAAwLozHHdCAACAIIYcd0IAAECG2Bx3QgAAAOwqHXdCAADAUX0dd0IAAIC3zx13QgAAQB0iHndCAAAAg3Qed0IAAMDoxh53QgAAgE4ZH3dCAABAtGsfd0IAAAAavh93QgAAwH8QIHdCAACA5WIgd0IAAEBLtSB3QgAAALEHIXdCAADAFlohd0IAAIB8rCF3QgAAQOL+IXdCAAAASFEid0IAAMCtoyJ3QgAAgBP2IndCAABAeUgjd0IAAADfmiN3QgAAwETtI3dCAACAqj8kd0IAAEAQkiR3QgAAAHbkJHdCAADA2zYld0IAAIBBiSV3QgAAQKfbJXdCAAAADS4md0IAAMBygCZ3QgAAgNjSJndCAABAPiUnd0IAAACkdyd3QgAAwAnKJ3dCAACAbxwod0IAAEDVbih3QgAAADvBKHdCAADAoBMpd0IAAIAGZil3QgAAQGy4KXdCAAAA0goqd0IAAMA3XSp3QgAAgJ2vKndCAABAAwIrd0IAAABpVCt3QgAAwM6mK3dCAACANPkrd0IAAECaSyx3QgAAAACeLHdCAADAZfAsd0IAAIDLQi13QgAAQDGVLXdCAAAAl+ctd0IAAMD8OS53QgAAgGKMLndCAABAyN4ud0IAAAAuMS93QgAAwJODL3dCAACA+dUvd0IAAEBfKDB3QgAAAMV6MHdCAADAKs0wd0IAAICQHzF3QgAAQPZxMXdCAAAAXMQxd0IAAMDBFjJ3QgAAgCdpMndCAABAjbsyd0IAAADzDTN3QgAAwFhgM3dCAACAvrIzd0IAAEAkBTR3QgAAAIpXNHdCAADA76k0d0IAAIBV/DR3QgAAQLtONXdCAAAAIaE1d0IAAMCG8zV3QgAAgOxFNndCAABAUpg2d0IAAAC46jZ3QgAAwB09N3dCAACAg483d0IAAEDp4Td3QgAAAE80OHdCAADAtIY4d0IAAIAa2Th3QgAAQIArOXdCAAAA5n05d0IAAMBL0Dl3QgAAgLEiOndCAABAF3U6d0IAAAB9xzp3QgAAwOIZO3dCAACASGw7d0IAAECuvjt3QgAAABQRPHdCAADAeWM8d0IAAIDftTx3QgAAQEUIPXdCAAAAq1o9d0IAAMAQrT13QgAAgHb/PXdCAABA3FE+d0IAAABCpD53QgAAwKf2PndCAACADUk/d0IAAEBzmz93QgAAANntP3dCAADAPkBAd0IAAICkkkB3QgAAQArlQHdCAAAAcDdBd0IAAMDViUF3Qg==\",\"dtype\":\"float64\",\"shape\":[182]},\"y\":[2,0,0,0,0,3,0,1,7,16,14,10,22,11,15,14,34,50,77,80,79,87,84,117,99,185,182,193,157,188,173,195,199,210,201,208,181,169,169,167,157,123,151,118,117,163,154,140,122,123,143,121,148,144,144,87,60,80,80,79,78,92,85,83,75,78,71,56,84,53,38,67,81,39,52,47,32,25,22,38,41,73,32,50,39,20,28,25,31,18,20,16,18,11,21,16,6,13,10,5,10,11,9,28,11,16,23,18,20,27,25,14,3,9,10,9,9,14,8,8,8,6,12,13,18,14,9,5,9,11,11,31,14,19,5,14,28,23,19,20,24,18,20,9,14,20,17,14,6,16,26,18,19,19,13,10,34,18,18,18,17,15,17,12,18,20,20,38,38,23,37,36,45,58,68,51,43,75,115,137,215,184]},\"selected\":{\"id\":\"3722\"},\"selection_policy\":{\"id\":\"3721\"}},\"id\":\"3692\",\"type\":\"ColumnDataSource\"},{\"attributes\":{\"months\":[0,1,2,3,4,5,6,7,8,9,10,11]},\"id\":\"3480\",\"type\":\"MonthsTicker\"},{\"attributes\":{\"source\":{\"id\":\"3692\"}},\"id\":\"3696\",\"type\":\"CDSView\"},{\"attributes\":{\"months\":[0,2,4,6,8,10]},\"id\":\"3481\",\"type\":\"MonthsTicker\"},{\"attributes\":{},\"id\":\"3719\",\"type\":\"UnionRenderers\"},{\"attributes\":{},\"id\":\"3934\",\"type\":\"UnionRenderers\"},{\"attributes\":{\"toolbar\":{\"id\":\"3939\"},\"toolbar_location\":\"above\"},\"id\":\"3940\",\"type\":\"ToolbarBox\"},{\"attributes\":{\"line_color\":\"lightcoral\",\"line_width\":4,\"x\":{\"field\":\"x\"},\"y\":{\"field\":\"y\"}},\"id\":\"3698\",\"type\":\"Line\"},{\"attributes\":{\"months\":[0,4,8]},\"id\":\"3482\",\"type\":\"MonthsTicker\"},{\"attributes\":{\"below\":[{\"id\":\"3645\"}],\"center\":[{\"id\":\"3648\"},{\"id\":\"3652\"},{\"id\":\"3690\"}],\"left\":[{\"id\":\"3649\"}],\"plot_height\":350,\"plot_width\":470,\"renderers\":[{\"id\":\"3670\"},{\"id\":\"3695\"},{\"id\":\"3700\"},{\"id\":\"3728\"}],\"title\":{\"id\":\"3635\"},\"toolbar\":{\"id\":\"3660\"},\"toolbar_location\":null,\"x_range\":{\"id\":\"3637\"},\"x_scale\":{\"id\":\"3641\"},\"y_range\":{\"id\":\"3639\"},\"y_scale\":{\"id\":\"3643\"}},\"id\":\"3634\",\"subtype\":\"Figure\",\"type\":\"Plot\"},{\"attributes\":{\"data\":{\"x\":{\"__ndarray__\":\"AAAA5UcHd0IAAMBKmgd3QgAAgLDsB3dCAABAFj8Id0IAAAB8kQh3QgAAwOHjCHdCAACARzYJd0IAAECtiAl3QgAAABPbCXdCAADAeC0Kd0IAAIDefwp3QgAAQETSCndCAAAAqiQLd0IAAMAPdwt3QgAAgHXJC3dCAABA2xsMd0IAAABBbgx3QgAAwKbADHdCAACADBMNd0IAAEByZQ13QgAAANi3DXdCAADAPQoOd0IAAICjXA53QgAAQAmvDndCAAAAbwEPd0IAAMDUUw93QgAAgDqmD3dCAABAoPgPd0IAAAAGSxB3QgAAwGudEHdCAACA0e8Qd0IAAEA3QhF3QgAAAJ2UEXdCAADAAucRd0IAAIBoORJ3QgAAQM6LEndCAAAANN4Sd0IAAMCZMBN3QgAAgP+CE3dCAABAZdUTd0IAAADLJxR3QgAAwDB6FHdCAACAlswUd0IAAED8HhV3QgAAAGJxFXdCAADAx8MVd0IAAIAtFhZ3QgAAQJNoFndCAAAA+boWd0IAAMBeDRd3QgAAgMRfF3dCAABAKrIXd0IAAACQBBh3QgAAwPVWGHdCAACAW6kYd0IAAEDB+xh3QgAAACdOGXdCAADAjKAZd0IAAIDy8hl3QgAAQFhFGndCAAAAvpcad0IAAMAj6hp3QgAAgIk8G3dCAABA744bd0IAAABV4Rt3QgAAwLozHHdCAACAIIYcd0IAAECG2Bx3QgAAAOwqHXdCAADAUX0dd0IAAIC3zx13QgAAQB0iHndCAAAAg3Qed0IAAMDoxh53QgAAgE4ZH3dCAABAtGsfd0IAAAAavh93QgAAwH8QIHdCAACA5WIgd0IAAEBLtSB3QgAAALEHIXdCAADAFlohd0IAAIB8rCF3QgAAQOL+IXdCAAAASFEid0IAAMCtoyJ3QgAAgBP2IndCAABAeUgjd0IAAADfmiN3QgAAwETtI3dCAACAqj8kd0IAAEAQkiR3QgAAAHbkJHdCAADA2zYld0IAAIBBiSV3QgAAQKfbJXdCAAAADS4md0IAAMBygCZ3QgAAgNjSJndCAABAPiUnd0IAAACkdyd3QgAAwAnKJ3dCAACAbxwod0IAAEDVbih3QgAAADvBKHdCAADAoBMpd0IAAIAGZil3QgAAQGy4KXdCAAAA0goqd0IAAMA3XSp3QgAAgJ2vKndCAABAAwIrd0IAAABpVCt3QgAAwM6mK3dCAACANPkrd0IAAECaSyx3QgAAAACeLHdCAADAZfAsd0IAAIDLQi13QgAAQDGVLXdCAAAAl+ctd0IAAMD8OS53QgAAgGKMLndCAABAyN4ud0IAAAAuMS93QgAAwJODL3dCAACA+dUvd0IAAEBfKDB3QgAAAMV6MHdCAADAKs0wd0IAAICQHzF3QgAAQPZxMXdCAAAAXMQxd0IAAMDBFjJ3QgAAgCdpMndCAABAjbsyd0IAAADzDTN3QgAAwFhgM3dCAACAvrIzd0IAAEAkBTR3QgAAAIpXNHdCAADA76k0d0IAAIBV/DR3QgAAQLtONXdCAAAAIaE1d0IAAMCG8zV3QgAAgOxFNndCAABAUpg2d0IAAAC46jZ3QgAAwB09N3dCAACAg483d0IAAEDp4Td3QgAAAE80OHdCAADAtIY4d0IAAIAa2Th3QgAAQIArOXdCAAAA5n05d0IAAMBL0Dl3QgAAgLEiOndCAABAF3U6d0IAAAB9xzp3QgAAwOIZO3dCAACASGw7d0IAAECuvjt3QgAAABQRPHdCAADAeWM8d0IAAIDftTx3QgAAQEUIPXdCAAAAq1o9d0IAAMAQrT13QgAAgHb/PXdCAABA3FE+d0IAAABCpD53QgAAwKf2PndCAACADUk/d0IAAEBzmz93QgAAANntP3dCAADAPkBAd0IAAICkkkB3QgAAQArlQHdCAAAAcDdBd0IAAMDViUF3Qg==\",\"dtype\":\"float64\",\"shape\":[182]},\"y\":{\"__ndarray__\":\"AAAAAAAA+H8AAAAAAAD4fwAAAAAAAPh/AAAAAAAA+H8AAAAAAAD4fwAAAAAAAPh/AAAAAAAA+H8AAAAAAAD4fwAAAAAAAPh/AAAAAAAA+H8AAAAAAAD4fwAAAAAAAPh/AAAAAAAA+H8lSZIkSZIYQJIkSZIkSRxASZIkSZIkIEAAAAAAAAAlQEmSJEmSJCxAJUmSJEmSM0AlSZIkSRI5QG7btm3btj5A27Zt27ZtQkDbtm3bti1FQJIkSZIkyUhAJUmSJEnSS0CSJEmSJAlRQEmSJEmS5FNASZIkSZIkV0Dbtm3btq1ZQJIkSZIkyVxASZIkSZJEX0Dbtm3btu1gQEmSJEmSBGJA27Zt27YtY0BJkiRJkkRkQJIkSZIkWWVAbtu2bds2ZkDbtm3btq1mQNu2bdu2TWdASZIkSZIkZ0C3bdu2betmQLdt27ZtS2ZA27Zt27Y9ZkDbtm3btp1lQNu2bdu2HWVASZIkSZLUZEDbtm3btm1kQNu2bdu2zWNAkiRJkiQZY0Bu27Zt21ZiQAAAAAAAAGJAJUmSJEmSYUAlSZIkSWJhQNu2bdu2LWFAAAAAAAAQYUDbtm3btr1gQLdt27Zt219A27Zt27YtX0BJkiRJkoReQEmSJEmSBF1AkiRJkiSpW0Dbtm3bts1aQEmSJEmSJFpA27Zt27ZtWUBu27Zt2zZYQCVJkiRJcldAJUmSJEkSVkAAAAAAAIBUQNu2bdu2bVNAJUmSJEnSUkDbtm3btm1SQCVJkiRJMlJAbtu2bds2UkAAAAAAAIBRQJIkSZIkCVFAt23btm07UEAlSZIkSZJOQAAAAAAAgExAt23btm2bSkDbtm3bti1JQLdt27ZtG0hAbtu2bdu2SEC3bdu2bdtGQAAAAAAAwEZAkiRJkiTJRkC3bdu2bRtFQG7btm3bNkNAbtu2bdu2QkBu27Zt2/ZBQNu2bdu27UBAAAAAAACAQEDbtm3bti1AQJIkSZIkCUBASZIkSZIkPkBu27Zt27Y8QEmSJEmSpDhAkiRJkiTJNkBJkiRJkiQ0QCVJkiRJEjJAAAAAAAAAMUDbtm3btm0vQNu2bdu2bS1AkiRJkiRJKkBu27Zt27YrQNu2bdu2bSpA27Zt27ZtKkBJkiRJkiQrQEmSJEmSJCxAAAAAAAAALEAlSZIkSZItQEmSJEmSJDBAbtu2bds2MEDbtm3btm0vQAAAAAAAADBAAAAAAAAAMEBu27Zt27YvQG7btm3bti9Abtu2bdu2LUCSJEmSJEktQEmSJEmSJCxAAAAAAAAAKkCSJEmSJEkoQEmSJEmSJCdASZIkSZIkJUBJkiRJkiQkQEmSJEmSJCRAAAAAAAAAJUDbtm3btm0kQJIkSZIkSSRAJUmSJEmSJEC3bdu2bdskQJIkSZIkSSdASZIkSZIkKEBu27Zt27YpQJIkSZIkSSlA27Zt27ZtKkBu27Zt27YsQEmSJEmSJC5AkiRJkiRJLkBJkiRJkiQvQEmSJEmSpDBAJUmSJEmSMUC3bdu2bVsyQG7btm3bNjJA27Zt27ZtMkBJkiRJkqQxQLdt27Zt2zFAAAAAAACAMUAlSZIkSZIxQG7btm3btjFAJUmSJEmSMUBu27Zt2zYxQG7btm3bNjFASZIkSZIkMUC3bdu2bVswQCVJkiRJki9AkiRJkiTJMEDbtm3btm0xQG7btm3btjFAJUmSJEmSMUAlSZIkSZIxQEmSJEmSpDFA27Zt27ZtMkBJkiRJkiQyQCVJkiRJkjFAbtu2bdu2MUCSJEmSJMkxQEmSJEmSJDNA27Zt27btNEC3bdu2bds1QCVJkiRJEjZAt23btm1bN0CSJEmSJEk5QEmSJEmSJDxAkiRJkiTJP0Dbtm3bti1BQLdt27ZtG0JAt23btm1bREAlSZIkSdJHQAAAAAAAAExAt23btm17UUBu27Zt2xZUQA==\",\"dtype\":\"float64\",\"shape\":[182]}},\"selected\":{\"id\":\"3908\"},\"selection_policy\":{\"id\":\"3907\"}},\"id\":\"3697\",\"type\":\"ColumnDataSource\"},{\"attributes\":{\"months\":[0,6]},\"id\":\"3483\",\"type\":\"MonthsTicker\"},{\"attributes\":{},\"id\":\"3933\",\"type\":\"Selection\"},{\"attributes\":{\"fill_alpha\":{\"value\":0.1},\"fill_color\":{\"value\":\"white\"},\"line_alpha\":{\"value\":0.1},\"line_color\":{\"value\":\"blue\"},\"size\":{\"units\":\"screen\",\"value\":5},\"x\":{\"field\":\"x\"},\"y\":{\"field\":\"y\"}},\"id\":\"3694\",\"type\":\"Circle\"},{\"attributes\":{},\"id\":\"3484\",\"type\":\"YearsTicker\"},{\"attributes\":{\"label\":{\"value\":\"total cases\"},\"renderers\":[{\"id\":\"3466\"}]},\"id\":\"3487\",\"type\":\"LegendItem\"},{\"attributes\":{\"data_source\":{\"id\":\"3488\"},\"glyph\":{\"id\":\"3489\"},\"hover_glyph\":null,\"muted_glyph\":null,\"nonselection_glyph\":{\"id\":\"3490\"},\"selection_glyph\":null,\"view\":{\"id\":\"3492\"}},\"id\":\"3491\",\"type\":\"GlyphRenderer\"},{\"attributes\":{\"data\":{\"x\":{\"__ndarray__\":\"AAAA5UcHd0IAAMBKmgd3QgAAgLDsB3dCAABAFj8Id0IAAAB8kQh3QgAAwOHjCHdCAACARzYJd0IAAECtiAl3QgAAABPbCXdCAADAeC0Kd0IAAIDefwp3QgAAQETSCndCAAAAqiQLd0IAAMAPdwt3QgAAgHXJC3dCAABA2xsMd0IAAABBbgx3QgAAwKbADHdCAACADBMNd0IAAEByZQ13QgAAANi3DXdCAADAPQoOd0IAAICjXA53QgAAQAmvDndCAAAAbwEPd0IAAMDUUw93QgAAgDqmD3dCAABAoPgPd0IAAAAGSxB3QgAAwGudEHdCAACA0e8Qd0IAAEA3QhF3QgAAAJ2UEXdCAADAAucRd0IAAIBoORJ3QgAAQM6LEndCAAAANN4Sd0IAAMCZMBN3QgAAgP+CE3dCAABAZdUTd0IAAADLJxR3QgAAwDB6FHdCAACAlswUd0IAAED8HhV3QgAAAGJxFXdCAADAx8MVd0IAAIAtFhZ3QgAAQJNoFndCAAAA+boWd0IAAMBeDRd3QgAAgMRfF3dCAABAKrIXd0IAAACQBBh3QgAAwPVWGHdCAACAW6kYd0IAAEDB+xh3QgAAACdOGXdCAADAjKAZd0IAAIDy8hl3QgAAQFhFGndCAAAAvpcad0IAAMAj6hp3QgAAgIk8G3dCAABA744bd0IAAABV4Rt3QgAAwLozHHdCAACAIIYcd0IAAECG2Bx3QgAAAOwqHXdCAADAUX0dd0IAAIC3zx13QgAAQB0iHndCAAAAg3Qed0IAAMDoxh53QgAAgE4ZH3dCAABAtGsfd0IAAAAavh93QgAAwH8QIHdCAACA5WIgd0IAAEBLtSB3QgAAALEHIXdCAADAFlohd0IAAIB8rCF3QgAAQOL+IXdCAAAASFEid0IAAMCtoyJ3QgAAgBP2IndCAABAeUgjd0IAAADfmiN3QgAAwETtI3dCAACAqj8kd0IAAEAQkiR3QgAAAHbkJHdCAADA2zYld0IAAIBBiSV3QgAAQKfbJXdCAAAADS4md0IAAMBygCZ3QgAAgNjSJndCAABAPiUnd0IAAACkdyd3QgAAwAnKJ3dCAACAbxwod0IAAEDVbih3QgAAADvBKHdCAADAoBMpd0IAAIAGZil3QgAAQGy4KXdCAAAA0goqd0IAAMA3XSp3QgAAgJ2vKndCAABAAwIrd0IAAABpVCt3QgAAwM6mK3dCAACANPkrd0IAAECaSyx3QgAAAACeLHdCAADAZfAsd0IAAIDLQi13QgAAQDGVLXdCAAAAl+ctd0IAAMD8OS53QgAAgGKMLndCAABAyN4ud0IAAAAuMS93QgAAwJODL3dCAACA+dUvd0IAAEBfKDB3QgAAAMV6MHdCAADAKs0wd0IAAICQHzF3QgAAQPZxMXdCAAAAXMQxd0IAAMDBFjJ3QgAAgCdpMndCAABAjbsyd0IAAADzDTN3QgAAwFhgM3dCAACAvrIzd0IAAEAkBTR3QgAAAIpXNHdCAADA76k0d0IAAIBV/DR3QgAAQLtONXdCAAAAIaE1d0IAAMCG8zV3QgAAgOxFNndCAABAUpg2d0IAAAC46jZ3QgAAwB09N3dCAACAg483d0IAAEDp4Td3QgAAAE80OHdCAADAtIY4d0IAAIAa2Th3QgAAQIArOXdCAAAA5n05d0IAAMBL0Dl3QgAAgLEiOndCAABAF3U6d0IAAAB9xzp3QgAAwOIZO3dCAACASGw7d0IAAECuvjt3QgAAABQRPHdCAADAeWM8d0IAAIDftTx3QgAAQEUIPXdCAAAAq1o9d0IAAMAQrT13QgAAgHb/PXdCAABA3FE+d0IAAABCpD53QgAAwKf2PndCAACADUk/d0IAAEBzmz93QgAAANntP3dCAADAPkBAd0IAAICkkkB3QgAAQArlQHdCAAAAcDdBd0IAAMDViUF3Qg==\",\"dtype\":\"float64\",\"shape\":[182]},\"y\":[3,3,3,3,3,6,6,7,14,30,44,54,76,87,102,116,150,200,277,357,436,523,607,724,823,1008,1190,1383,1540,1728,1901,2096,2295,2505,2706,2914,3095,3264,3433,3600,3757,3880,4031,4149,4266,4429,4583,4723,4845,4968,5111,5232,5380,5524,5668,5755,5815,5895,5975,6054,6132,6224,6309,6392,6467,6545,6616,6672,6756,6809,6847,6914,6995,7034,7086,7133,7165,7190,7212,7250,7291,7364,7396,7446,7485,7505,7533,7558,7589,7607,7627,7643,7661,7672,7693,7709,7715,7728,7738,7743,7753,7764,7773,7801,7812,7828,7851,7869,7889,7916,7941,7955,7958,7967,7977,7986,7995,8009,8017,8025,8033,8039,8051,8064,8082,8096,8105,8110,8119,8130,8141,8172,8186,8205,8210,8224,8252,8275,8294,8314,8338,8356,8376,8385,8399,8419,8436,8450,8456,8472,8498,8516,8535,8554,8567,8577,8611,8629,8647,8665,8682,8697,8714,8726,8744,8764,8784,8822,8860,8883,8920,8956,9001,9059,9127,9178,9221,9296,9411,9548,9763,9947]},\"selected\":{\"id\":\"3518\"},\"selection_policy\":{\"id\":\"3517\"}},\"id\":\"3488\",\"type\":\"ColumnDataSource\"},{\"attributes\":{\"fill_color\":{\"value\":\"white\"},\"line_color\":{\"value\":\"lightcoral\"},\"size\":{\"units\":\"screen\",\"value\":5},\"x\":{\"field\":\"x\"},\"y\":{\"field\":\"y\"}},\"id\":\"3726\",\"type\":\"Circle\"},{\"attributes\":{\"source\":{\"id\":\"3488\"}},\"id\":\"3492\",\"type\":\"CDSView\"},{\"attributes\":{\"line_color\":\"blue\",\"line_width\":4,\"x\":{\"field\":\"x\"},\"y\":{\"field\":\"y\"}},\"id\":\"3668\",\"type\":\"Line\"},{\"attributes\":{\"source\":{\"id\":\"3697\"}},\"id\":\"3701\",\"type\":\"CDSView\"},{\"attributes\":{\"data_source\":{\"id\":\"3697\"},\"glyph\":{\"id\":\"3698\"},\"hover_glyph\":null,\"muted_glyph\":null,\"nonselection_glyph\":{\"id\":\"3699\"},\"selection_glyph\":null,\"view\":{\"id\":\"3701\"}},\"id\":\"3700\",\"type\":\"GlyphRenderer\"},{\"attributes\":{\"line_color\":\"red\",\"line_width\":4,\"x\":{\"field\":\"x\"},\"y\":{\"field\":\"y\"}},\"id\":\"3494\",\"type\":\"Line\"},{\"attributes\":{},\"id\":\"3935\",\"type\":\"Selection\"},{\"attributes\":{\"data\":{\"x\":{\"__ndarray__\":\"AAAA5UcHd0IAAMBKmgd3QgAAgLDsB3dCAABAFj8Id0IAAAB8kQh3QgAAwOHjCHdCAACARzYJd0IAAECtiAl3QgAAABPbCXdCAADAeC0Kd0IAAIDefwp3QgAAQETSCndCAAAAqiQLd0IAAMAPdwt3QgAAgHXJC3dCAABA2xsMd0IAAABBbgx3QgAAwKbADHdCAACADBMNd0IAAEByZQ13QgAAANi3DXdCAADAPQoOd0IAAICjXA53QgAAQAmvDndCAAAAbwEPd0IAAMDUUw93QgAAgDqmD3dCAABAoPgPd0IAAAAGSxB3QgAAwGudEHdCAACA0e8Qd0IAAEA3QhF3QgAAAJ2UEXdCAADAAucRd0IAAIBoORJ3QgAAQM6LEndCAAAANN4Sd0IAAMCZMBN3QgAAgP+CE3dCAABAZdUTd0IAAADLJxR3QgAAwDB6FHdCAACAlswUd0IAAED8HhV3QgAAAGJxFXdCAADAx8MVd0IAAIAtFhZ3QgAAQJNoFndCAAAA+boWd0IAAMBeDRd3QgAAgMRfF3dCAABAKrIXd0IAAACQBBh3QgAAwPVWGHdCAACAW6kYd0IAAEDB+xh3QgAAACdOGXdCAADAjKAZd0IAAIDy8hl3QgAAQFhFGndCAAAAvpcad0IAAMAj6hp3QgAAgIk8G3dCAABA744bd0IAAABV4Rt3QgAAwLozHHdCAACAIIYcd0IAAECG2Bx3QgAAAOwqHXdCAADAUX0dd0IAAIC3zx13QgAAQB0iHndCAAAAg3Qed0IAAMDoxh53QgAAgE4ZH3dCAABAtGsfd0IAAAAavh93QgAAwH8QIHdCAACA5WIgd0IAAEBLtSB3QgAAALEHIXdCAADAFlohd0IAAIB8rCF3QgAAQOL+IXdCAAAASFEid0IAAMCtoyJ3QgAAgBP2IndCAABAeUgjd0IAAADfmiN3QgAAwETtI3dCAACAqj8kd0IAAEAQkiR3QgAAAHbkJHdCAADA2zYld0IAAIBBiSV3QgAAQKfbJXdCAAAADS4md0IAAMBygCZ3QgAAgNjSJndCAABAPiUnd0IAAACkdyd3QgAAwAnKJ3dCAACAbxwod0IAAEDVbih3QgAAADvBKHdCAADAoBMpd0IAAIAGZil3QgAAQGy4KXdCAAAA0goqd0IAAMA3XSp3QgAAgJ2vKndCAABAAwIrd0IAAABpVCt3QgAAwM6mK3dCAACANPkrd0IAAECaSyx3QgAAAACeLHdCAADAZfAsd0IAAIDLQi13QgAAQDGVLXdCAAAAl+ctd0IAAMD8OS53QgAAgGKMLndCAABAyN4ud0IAAAAuMS93QgAAwJODL3dCAACA+dUvd0IAAEBfKDB3QgAAAMV6MHdCAADAKs0wd0IAAICQHzF3QgAAQPZxMXdCAAAAXMQxd0IAAMDBFjJ3QgAAgCdpMndCAABAjbsyd0IAAADzDTN3QgAAwFhgM3dCAACAvrIzd0IAAEAkBTR3QgAAAIpXNHdCAADA76k0d0IAAIBV/DR3QgAAQLtONXdCAAAAIaE1d0IAAMCG8zV3QgAAgOxFNndCAABAUpg2d0IAAAC46jZ3QgAAwB09N3dCAACAg483d0IAAEDp4Td3QgAAAE80OHdCAADAtIY4d0IAAIAa2Th3QgAAQIArOXdCAAAA5n05d0IAAMBL0Dl3QgAAgLEiOndCAABAF3U6d0IAAAB9xzp3QgAAwOIZO3dCAACASGw7d0IAAECuvjt3QgAAABQRPHdCAADAeWM8d0IAAIDftTx3QgAAQEUIPXdCAAAAq1o9d0IAAMAQrT13QgAAgHb/PXdCAABA3FE+d0IAAABCpD53QgAAwKf2PndCAACADUk/d0IAAEBzmz93QgAAANntP3dCAADAPkBAd0IAAICkkkB3QgAAQArlQHdCAAAAcDdBd0IAAMDViUF3Qg==\",\"dtype\":\"float64\",\"shape\":[182]},\"y\":[2,2,0,0,0,3,3,4,11,27,41,50,72,81,94,99,125,172,242,320,396,472,550,650,741,912,1086,1272,1414,1545,1675,1835,2013,2181,2362,2497,2642,2758,2879,3009,3106,3186,3300,3365,3448,3532,3633,3730,3817,3920,4022,4047,4144,4214,4282,4321,4365,4402,4463,4486,4492,4561,4573,4562,4562,4535,4468,4446,4452,4385,4385,4370,4433,4348,4328,4345,4286,4294,4273,4235,4096,4088,4022,3910,3826,3786,3786,3637,3635,3581,3569,3554,3538,3488,3405,3163,3055,2983,2894,2847,2818,2754,2710,2697,2690,2615,2570,2566,2517,2222,1357,1322,1292,1129,1039,997,988,987,991,945,886,869,862,816,827,841,840,836,832,831,826,854,861,870,873,874,889,901,915,913,892,894,898,850,852,866,872,885,881,889,907,916,928,935,944,942,969,937,945,950,964,974,987,983,993,1008,1017,1046,1081,1101,1121,1127,1165,1218,1284,1329,1359,1429,1540,1666,1870,2027]},\"selected\":{\"id\":\"3858\"},\"selection_policy\":{\"id\":\"3857\"}},\"id\":\"3493\",\"type\":\"ColumnDataSource\"},{\"attributes\":{\"line_alpha\":0.1,\"line_color\":\"lightcoral\",\"line_width\":4,\"x\":{\"field\":\"x\"},\"y\":{\"field\":\"y\"}},\"id\":\"3699\",\"type\":\"Line\"},{\"attributes\":{},\"id\":\"3932\",\"type\":\"UnionRenderers\"},{\"attributes\":{\"line_color\":\"green\",\"line_width\":4,\"x\":{\"field\":\"x\"},\"y\":{\"field\":\"y\"}},\"id\":\"3596\",\"type\":\"Line\"},{\"attributes\":{\"fill_alpha\":{\"value\":0.1},\"fill_color\":{\"value\":\"white\"},\"line_alpha\":{\"value\":0.1},\"line_color\":{\"value\":\"blue\"},\"size\":{\"units\":\"screen\",\"value\":5},\"x\":{\"field\":\"x\"},\"y\":{\"field\":\"y\"}},\"id\":\"3490\",\"type\":\"Circle\"},{\"attributes\":{\"label\":{\"value\":\"SMA 14 days\"},\"renderers\":[{\"id\":\"3700\"}]},\"id\":\"3724\",\"type\":\"LegendItem\"},{\"attributes\":{\"data_source\":{\"id\":\"3493\"},\"glyph\":{\"id\":\"3494\"},\"hover_glyph\":null,\"muted_glyph\":null,\"nonselection_glyph\":{\"id\":\"3495\"},\"selection_glyph\":null,\"view\":{\"id\":\"3497\"}},\"id\":\"3496\",\"type\":\"GlyphRenderer\"},{\"attributes\":{},\"id\":\"3721\",\"type\":\"UnionRenderers\"},{\"attributes\":{\"line_alpha\":0.1,\"line_color\":\"red\",\"line_width\":4,\"x\":{\"field\":\"x\"},\"y\":{\"field\":\"y\"}},\"id\":\"3495\",\"type\":\"Line\"},{\"attributes\":{},\"id\":\"3722\",\"type\":\"Selection\"}],\"root_ids\":[\"3941\"]},\"title\":\"Bokeh Application\",\"version\":\"2.0.2\"}};\n",
       "  var render_items = [{\"docid\":\"f27519fa-28f7-4895-847c-352e03c34b04\",\"root_ids\":[\"3941\"],\"roots\":{\"3941\":\"b64e1b25-f9b4-4b25-9b7a-794fd5a597b5\"}}];\n",
       "  root.Bokeh.embed.embed_items_notebook(docs_json, render_items);\n",
       "\n",
       "  }\n",
       "  if (root.Bokeh !== undefined) {\n",
       "    embed_document(root);\n",
       "  } else {\n",
       "    var attempts = 0;\n",
       "    var timer = setInterval(function(root) {\n",
       "      if (root.Bokeh !== undefined) {\n",
       "        clearInterval(timer);\n",
       "        embed_document(root);\n",
       "      } else {\n",
       "        attempts++;\n",
       "        if (attempts > 100) {\n",
       "          clearInterval(timer);\n",
       "          console.log(\"Bokeh: ERROR: Unable to run BokehJS code because BokehJS library is missing\");\n",
       "        }\n",
       "      }\n",
       "    }, 10, root)\n",
       "  }\n",
       "})(window);"
      ],
      "application/vnd.bokehjs_exec.v0+json": ""
     },
     "metadata": {
      "application/vnd.bokehjs_exec.v0+json": {
       "id": "3941"
      }
     },
     "output_type": "display_data"
    }
   ],
   "source": [
    "p_grid_Lazio = gridplot([[s1_grid_Lazio, s2_grid_Lazio], [s3_grid_Lazio, s4_grid_Lazio]])\n",
    "\n",
    "output_file(\"grid_Lazio.html\")\n",
    "\n",
    "show(p_grid_Lazio)"
   ]
  },
  {
   "cell_type": "code",
   "execution_count": null,
   "metadata": {},
   "outputs": [],
   "source": []
  }
 ],
 "metadata": {
  "kernelspec": {
   "display_name": "Python 3",
   "language": "python",
   "name": "python3"
  },
  "language_info": {
   "codemirror_mode": {
    "name": "ipython",
    "version": 3
   },
   "file_extension": ".py",
   "mimetype": "text/x-python",
   "name": "python",
   "nbconvert_exporter": "python",
   "pygments_lexer": "ipython3",
   "version": "3.7.6"
  }
 },
 "nbformat": 4,
 "nbformat_minor": 2
}
