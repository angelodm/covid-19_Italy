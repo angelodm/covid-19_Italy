{
 "cells": [
  {
   "cell_type": "markdown",
   "metadata": {},
   "source": [
    "# Italian Regions Trends Covid-19"
   ]
  },
  {
   "cell_type": "markdown",
   "metadata": {},
   "source": [
    "In this Notebook, we analyze the spreading of the new coronavirus in Italian Regions."
   ]
  },
  {
   "cell_type": "markdown",
   "metadata": {},
   "source": [
    "## Libraries and Functions"
   ]
  },
  {
   "cell_type": "code",
   "execution_count": 1,
   "metadata": {},
   "outputs": [
    {
     "data": {
      "text/html": [
       "\n",
       "    <div class=\"bk-root\">\n",
       "        <a href=\"https://bokeh.org\" target=\"_blank\" class=\"bk-logo bk-logo-small bk-logo-notebook\"></a>\n",
       "        <span id=\"1001\">Loading BokehJS ...</span>\n",
       "    </div>"
      ]
     },
     "metadata": {},
     "output_type": "display_data"
    },
    {
     "data": {
      "application/javascript": [
       "\n",
       "(function(root) {\n",
       "  function now() {\n",
       "    return new Date();\n",
       "  }\n",
       "\n",
       "  var force = true;\n",
       "\n",
       "  if (typeof root._bokeh_onload_callbacks === \"undefined\" || force === true) {\n",
       "    root._bokeh_onload_callbacks = [];\n",
       "    root._bokeh_is_loading = undefined;\n",
       "  }\n",
       "\n",
       "  var JS_MIME_TYPE = 'application/javascript';\n",
       "  var HTML_MIME_TYPE = 'text/html';\n",
       "  var EXEC_MIME_TYPE = 'application/vnd.bokehjs_exec.v0+json';\n",
       "  var CLASS_NAME = 'output_bokeh rendered_html';\n",
       "\n",
       "  /**\n",
       "   * Render data to the DOM node\n",
       "   */\n",
       "  function render(props, node) {\n",
       "    var script = document.createElement(\"script\");\n",
       "    node.appendChild(script);\n",
       "  }\n",
       "\n",
       "  /**\n",
       "   * Handle when an output is cleared or removed\n",
       "   */\n",
       "  function handleClearOutput(event, handle) {\n",
       "    var cell = handle.cell;\n",
       "\n",
       "    var id = cell.output_area._bokeh_element_id;\n",
       "    var server_id = cell.output_area._bokeh_server_id;\n",
       "    // Clean up Bokeh references\n",
       "    if (id != null && id in Bokeh.index) {\n",
       "      Bokeh.index[id].model.document.clear();\n",
       "      delete Bokeh.index[id];\n",
       "    }\n",
       "\n",
       "    if (server_id !== undefined) {\n",
       "      // Clean up Bokeh references\n",
       "      var cmd = \"from bokeh.io.state import curstate; print(curstate().uuid_to_server['\" + server_id + \"'].get_sessions()[0].document.roots[0]._id)\";\n",
       "      cell.notebook.kernel.execute(cmd, {\n",
       "        iopub: {\n",
       "          output: function(msg) {\n",
       "            var id = msg.content.text.trim();\n",
       "            if (id in Bokeh.index) {\n",
       "              Bokeh.index[id].model.document.clear();\n",
       "              delete Bokeh.index[id];\n",
       "            }\n",
       "          }\n",
       "        }\n",
       "      });\n",
       "      // Destroy server and session\n",
       "      var cmd = \"import bokeh.io.notebook as ion; ion.destroy_server('\" + server_id + \"')\";\n",
       "      cell.notebook.kernel.execute(cmd);\n",
       "    }\n",
       "  }\n",
       "\n",
       "  /**\n",
       "   * Handle when a new output is added\n",
       "   */\n",
       "  function handleAddOutput(event, handle) {\n",
       "    var output_area = handle.output_area;\n",
       "    var output = handle.output;\n",
       "\n",
       "    // limit handleAddOutput to display_data with EXEC_MIME_TYPE content only\n",
       "    if ((output.output_type != \"display_data\") || (!output.data.hasOwnProperty(EXEC_MIME_TYPE))) {\n",
       "      return\n",
       "    }\n",
       "\n",
       "    var toinsert = output_area.element.find(\".\" + CLASS_NAME.split(' ')[0]);\n",
       "\n",
       "    if (output.metadata[EXEC_MIME_TYPE][\"id\"] !== undefined) {\n",
       "      toinsert[toinsert.length - 1].firstChild.textContent = output.data[JS_MIME_TYPE];\n",
       "      // store reference to embed id on output_area\n",
       "      output_area._bokeh_element_id = output.metadata[EXEC_MIME_TYPE][\"id\"];\n",
       "    }\n",
       "    if (output.metadata[EXEC_MIME_TYPE][\"server_id\"] !== undefined) {\n",
       "      var bk_div = document.createElement(\"div\");\n",
       "      bk_div.innerHTML = output.data[HTML_MIME_TYPE];\n",
       "      var script_attrs = bk_div.children[0].attributes;\n",
       "      for (var i = 0; i < script_attrs.length; i++) {\n",
       "        toinsert[toinsert.length - 1].firstChild.setAttribute(script_attrs[i].name, script_attrs[i].value);\n",
       "        toinsert[toinsert.length - 1].firstChild.textContent = bk_div.children[0].textContent\n",
       "      }\n",
       "      // store reference to server id on output_area\n",
       "      output_area._bokeh_server_id = output.metadata[EXEC_MIME_TYPE][\"server_id\"];\n",
       "    }\n",
       "  }\n",
       "\n",
       "  function register_renderer(events, OutputArea) {\n",
       "\n",
       "    function append_mime(data, metadata, element) {\n",
       "      // create a DOM node to render to\n",
       "      var toinsert = this.create_output_subarea(\n",
       "        metadata,\n",
       "        CLASS_NAME,\n",
       "        EXEC_MIME_TYPE\n",
       "      );\n",
       "      this.keyboard_manager.register_events(toinsert);\n",
       "      // Render to node\n",
       "      var props = {data: data, metadata: metadata[EXEC_MIME_TYPE]};\n",
       "      render(props, toinsert[toinsert.length - 1]);\n",
       "      element.append(toinsert);\n",
       "      return toinsert\n",
       "    }\n",
       "\n",
       "    /* Handle when an output is cleared or removed */\n",
       "    events.on('clear_output.CodeCell', handleClearOutput);\n",
       "    events.on('delete.Cell', handleClearOutput);\n",
       "\n",
       "    /* Handle when a new output is added */\n",
       "    events.on('output_added.OutputArea', handleAddOutput);\n",
       "\n",
       "    /**\n",
       "     * Register the mime type and append_mime function with output_area\n",
       "     */\n",
       "    OutputArea.prototype.register_mime_type(EXEC_MIME_TYPE, append_mime, {\n",
       "      /* Is output safe? */\n",
       "      safe: true,\n",
       "      /* Index of renderer in `output_area.display_order` */\n",
       "      index: 0\n",
       "    });\n",
       "  }\n",
       "\n",
       "  // register the mime type if in Jupyter Notebook environment and previously unregistered\n",
       "  if (root.Jupyter !== undefined) {\n",
       "    var events = require('base/js/events');\n",
       "    var OutputArea = require('notebook/js/outputarea').OutputArea;\n",
       "\n",
       "    if (OutputArea.prototype.mime_types().indexOf(EXEC_MIME_TYPE) == -1) {\n",
       "      register_renderer(events, OutputArea);\n",
       "    }\n",
       "  }\n",
       "\n",
       "  \n",
       "  if (typeof (root._bokeh_timeout) === \"undefined\" || force === true) {\n",
       "    root._bokeh_timeout = Date.now() + 5000;\n",
       "    root._bokeh_failed_load = false;\n",
       "  }\n",
       "\n",
       "  var NB_LOAD_WARNING = {'data': {'text/html':\n",
       "     \"<div style='background-color: #fdd'>\\n\"+\n",
       "     \"<p>\\n\"+\n",
       "     \"BokehJS does not appear to have successfully loaded. If loading BokehJS from CDN, this \\n\"+\n",
       "     \"may be due to a slow or bad network connection. Possible fixes:\\n\"+\n",
       "     \"</p>\\n\"+\n",
       "     \"<ul>\\n\"+\n",
       "     \"<li>re-rerun `output_notebook()` to attempt to load from CDN again, or</li>\\n\"+\n",
       "     \"<li>use INLINE resources instead, as so:</li>\\n\"+\n",
       "     \"</ul>\\n\"+\n",
       "     \"<code>\\n\"+\n",
       "     \"from bokeh.resources import INLINE\\n\"+\n",
       "     \"output_notebook(resources=INLINE)\\n\"+\n",
       "     \"</code>\\n\"+\n",
       "     \"</div>\"}};\n",
       "\n",
       "  function display_loaded() {\n",
       "    var el = document.getElementById(\"1001\");\n",
       "    if (el != null) {\n",
       "      el.textContent = \"BokehJS is loading...\";\n",
       "    }\n",
       "    if (root.Bokeh !== undefined) {\n",
       "      if (el != null) {\n",
       "        el.textContent = \"BokehJS \" + root.Bokeh.version + \" successfully loaded.\";\n",
       "      }\n",
       "    } else if (Date.now() < root._bokeh_timeout) {\n",
       "      setTimeout(display_loaded, 100)\n",
       "    }\n",
       "  }\n",
       "\n",
       "\n",
       "  function run_callbacks() {\n",
       "    try {\n",
       "      root._bokeh_onload_callbacks.forEach(function(callback) {\n",
       "        if (callback != null)\n",
       "          callback();\n",
       "      });\n",
       "    } finally {\n",
       "      delete root._bokeh_onload_callbacks\n",
       "    }\n",
       "    console.debug(\"Bokeh: all callbacks have finished\");\n",
       "  }\n",
       "\n",
       "  function load_libs(css_urls, js_urls, callback) {\n",
       "    if (css_urls == null) css_urls = [];\n",
       "    if (js_urls == null) js_urls = [];\n",
       "\n",
       "    root._bokeh_onload_callbacks.push(callback);\n",
       "    if (root._bokeh_is_loading > 0) {\n",
       "      console.debug(\"Bokeh: BokehJS is being loaded, scheduling callback at\", now());\n",
       "      return null;\n",
       "    }\n",
       "    if (js_urls == null || js_urls.length === 0) {\n",
       "      run_callbacks();\n",
       "      return null;\n",
       "    }\n",
       "    console.debug(\"Bokeh: BokehJS not loaded, scheduling load and callback at\", now());\n",
       "    root._bokeh_is_loading = css_urls.length + js_urls.length;\n",
       "\n",
       "    function on_load() {\n",
       "      root._bokeh_is_loading--;\n",
       "      if (root._bokeh_is_loading === 0) {\n",
       "        console.debug(\"Bokeh: all BokehJS libraries/stylesheets loaded\");\n",
       "        run_callbacks()\n",
       "      }\n",
       "    }\n",
       "\n",
       "    function on_error() {\n",
       "      console.error(\"failed to load \" + url);\n",
       "    }\n",
       "\n",
       "    for (var i = 0; i < css_urls.length; i++) {\n",
       "      var url = css_urls[i];\n",
       "      const element = document.createElement(\"link\");\n",
       "      element.onload = on_load;\n",
       "      element.onerror = on_error;\n",
       "      element.rel = \"stylesheet\";\n",
       "      element.type = \"text/css\";\n",
       "      element.href = url;\n",
       "      console.debug(\"Bokeh: injecting link tag for BokehJS stylesheet: \", url);\n",
       "      document.body.appendChild(element);\n",
       "    }\n",
       "\n",
       "    const hashes = {\"https://cdn.bokeh.org/bokeh/release/bokeh-2.0.2.min.js\": \"ufR9RFnRs6lniiaFvtJziE0YeidtAgBRH6ux2oUItHw5WTvE1zuk9uzhUU/FJXDp\", \"https://cdn.bokeh.org/bokeh/release/bokeh-widgets-2.0.2.min.js\": \"8QM/PGWBT+IssZuRcDcjzwIh1mkOmJSoNMmyYDZbCfXJg3Ap1lEvdVgFuSAwhb/J\", \"https://cdn.bokeh.org/bokeh/release/bokeh-tables-2.0.2.min.js\": \"Jm8cH3Rg0P6UeZhVY5cLy1WzKajUT9KImCY+76hEqrcJt59/d8GPvFHjCkYgnSIn\", \"https://cdn.bokeh.org/bokeh/release/bokeh-gl-2.0.2.min.js\": \"Ozhzj+SI7ywm74aOI/UajcWz+C0NjsPunEVyVIrxzYkB+jA+2tUw8x5xJCbVtK5I\"};\n",
       "\n",
       "    for (var i = 0; i < js_urls.length; i++) {\n",
       "      var url = js_urls[i];\n",
       "      var element = document.createElement('script');\n",
       "      element.onload = on_load;\n",
       "      element.onerror = on_error;\n",
       "      element.async = false;\n",
       "      element.src = url;\n",
       "      if (url in hashes) {\n",
       "        element.crossOrigin = \"anonymous\";\n",
       "        element.integrity = \"sha384-\" + hashes[url];\n",
       "      }\n",
       "      console.debug(\"Bokeh: injecting script tag for BokehJS library: \", url);\n",
       "      document.head.appendChild(element);\n",
       "    }\n",
       "  };\n",
       "\n",
       "  function inject_raw_css(css) {\n",
       "    const element = document.createElement(\"style\");\n",
       "    element.appendChild(document.createTextNode(css));\n",
       "    document.body.appendChild(element);\n",
       "  }\n",
       "\n",
       "  \n",
       "  var js_urls = [\"https://cdn.bokeh.org/bokeh/release/bokeh-2.0.2.min.js\", \"https://cdn.bokeh.org/bokeh/release/bokeh-widgets-2.0.2.min.js\", \"https://cdn.bokeh.org/bokeh/release/bokeh-tables-2.0.2.min.js\", \"https://cdn.bokeh.org/bokeh/release/bokeh-gl-2.0.2.min.js\"];\n",
       "  var css_urls = [];\n",
       "  \n",
       "\n",
       "  var inline_js = [\n",
       "    function(Bokeh) {\n",
       "      Bokeh.set_log_level(\"info\");\n",
       "    },\n",
       "    function(Bokeh) {\n",
       "    \n",
       "    \n",
       "    }\n",
       "  ];\n",
       "\n",
       "  function run_inline_js() {\n",
       "    \n",
       "    if (root.Bokeh !== undefined || force === true) {\n",
       "      \n",
       "    for (var i = 0; i < inline_js.length; i++) {\n",
       "      inline_js[i].call(root, root.Bokeh);\n",
       "    }\n",
       "    if (force === true) {\n",
       "        display_loaded();\n",
       "      }} else if (Date.now() < root._bokeh_timeout) {\n",
       "      setTimeout(run_inline_js, 100);\n",
       "    } else if (!root._bokeh_failed_load) {\n",
       "      console.log(\"Bokeh: BokehJS failed to load within specified timeout.\");\n",
       "      root._bokeh_failed_load = true;\n",
       "    } else if (force !== true) {\n",
       "      var cell = $(document.getElementById(\"1001\")).parents('.cell').data().cell;\n",
       "      cell.output_area.append_execute_result(NB_LOAD_WARNING)\n",
       "    }\n",
       "\n",
       "  }\n",
       "\n",
       "  if (root._bokeh_is_loading === 0) {\n",
       "    console.debug(\"Bokeh: BokehJS loaded, going straight to plotting\");\n",
       "    run_inline_js();\n",
       "  } else {\n",
       "    load_libs(css_urls, js_urls, function() {\n",
       "      console.debug(\"Bokeh: BokehJS plotting callback run at\", now());\n",
       "      run_inline_js();\n",
       "    });\n",
       "  }\n",
       "}(window));"
      ],
      "application/vnd.bokehjs_load.v0+json": "\n(function(root) {\n  function now() {\n    return new Date();\n  }\n\n  var force = true;\n\n  if (typeof root._bokeh_onload_callbacks === \"undefined\" || force === true) {\n    root._bokeh_onload_callbacks = [];\n    root._bokeh_is_loading = undefined;\n  }\n\n  \n\n  \n  if (typeof (root._bokeh_timeout) === \"undefined\" || force === true) {\n    root._bokeh_timeout = Date.now() + 5000;\n    root._bokeh_failed_load = false;\n  }\n\n  var NB_LOAD_WARNING = {'data': {'text/html':\n     \"<div style='background-color: #fdd'>\\n\"+\n     \"<p>\\n\"+\n     \"BokehJS does not appear to have successfully loaded. If loading BokehJS from CDN, this \\n\"+\n     \"may be due to a slow or bad network connection. Possible fixes:\\n\"+\n     \"</p>\\n\"+\n     \"<ul>\\n\"+\n     \"<li>re-rerun `output_notebook()` to attempt to load from CDN again, or</li>\\n\"+\n     \"<li>use INLINE resources instead, as so:</li>\\n\"+\n     \"</ul>\\n\"+\n     \"<code>\\n\"+\n     \"from bokeh.resources import INLINE\\n\"+\n     \"output_notebook(resources=INLINE)\\n\"+\n     \"</code>\\n\"+\n     \"</div>\"}};\n\n  function display_loaded() {\n    var el = document.getElementById(\"1001\");\n    if (el != null) {\n      el.textContent = \"BokehJS is loading...\";\n    }\n    if (root.Bokeh !== undefined) {\n      if (el != null) {\n        el.textContent = \"BokehJS \" + root.Bokeh.version + \" successfully loaded.\";\n      }\n    } else if (Date.now() < root._bokeh_timeout) {\n      setTimeout(display_loaded, 100)\n    }\n  }\n\n\n  function run_callbacks() {\n    try {\n      root._bokeh_onload_callbacks.forEach(function(callback) {\n        if (callback != null)\n          callback();\n      });\n    } finally {\n      delete root._bokeh_onload_callbacks\n    }\n    console.debug(\"Bokeh: all callbacks have finished\");\n  }\n\n  function load_libs(css_urls, js_urls, callback) {\n    if (css_urls == null) css_urls = [];\n    if (js_urls == null) js_urls = [];\n\n    root._bokeh_onload_callbacks.push(callback);\n    if (root._bokeh_is_loading > 0) {\n      console.debug(\"Bokeh: BokehJS is being loaded, scheduling callback at\", now());\n      return null;\n    }\n    if (js_urls == null || js_urls.length === 0) {\n      run_callbacks();\n      return null;\n    }\n    console.debug(\"Bokeh: BokehJS not loaded, scheduling load and callback at\", now());\n    root._bokeh_is_loading = css_urls.length + js_urls.length;\n\n    function on_load() {\n      root._bokeh_is_loading--;\n      if (root._bokeh_is_loading === 0) {\n        console.debug(\"Bokeh: all BokehJS libraries/stylesheets loaded\");\n        run_callbacks()\n      }\n    }\n\n    function on_error() {\n      console.error(\"failed to load \" + url);\n    }\n\n    for (var i = 0; i < css_urls.length; i++) {\n      var url = css_urls[i];\n      const element = document.createElement(\"link\");\n      element.onload = on_load;\n      element.onerror = on_error;\n      element.rel = \"stylesheet\";\n      element.type = \"text/css\";\n      element.href = url;\n      console.debug(\"Bokeh: injecting link tag for BokehJS stylesheet: \", url);\n      document.body.appendChild(element);\n    }\n\n    const hashes = {\"https://cdn.bokeh.org/bokeh/release/bokeh-2.0.2.min.js\": \"ufR9RFnRs6lniiaFvtJziE0YeidtAgBRH6ux2oUItHw5WTvE1zuk9uzhUU/FJXDp\", \"https://cdn.bokeh.org/bokeh/release/bokeh-widgets-2.0.2.min.js\": \"8QM/PGWBT+IssZuRcDcjzwIh1mkOmJSoNMmyYDZbCfXJg3Ap1lEvdVgFuSAwhb/J\", \"https://cdn.bokeh.org/bokeh/release/bokeh-tables-2.0.2.min.js\": \"Jm8cH3Rg0P6UeZhVY5cLy1WzKajUT9KImCY+76hEqrcJt59/d8GPvFHjCkYgnSIn\", \"https://cdn.bokeh.org/bokeh/release/bokeh-gl-2.0.2.min.js\": \"Ozhzj+SI7ywm74aOI/UajcWz+C0NjsPunEVyVIrxzYkB+jA+2tUw8x5xJCbVtK5I\"};\n\n    for (var i = 0; i < js_urls.length; i++) {\n      var url = js_urls[i];\n      var element = document.createElement('script');\n      element.onload = on_load;\n      element.onerror = on_error;\n      element.async = false;\n      element.src = url;\n      if (url in hashes) {\n        element.crossOrigin = \"anonymous\";\n        element.integrity = \"sha384-\" + hashes[url];\n      }\n      console.debug(\"Bokeh: injecting script tag for BokehJS library: \", url);\n      document.head.appendChild(element);\n    }\n  };\n\n  function inject_raw_css(css) {\n    const element = document.createElement(\"style\");\n    element.appendChild(document.createTextNode(css));\n    document.body.appendChild(element);\n  }\n\n  \n  var js_urls = [\"https://cdn.bokeh.org/bokeh/release/bokeh-2.0.2.min.js\", \"https://cdn.bokeh.org/bokeh/release/bokeh-widgets-2.0.2.min.js\", \"https://cdn.bokeh.org/bokeh/release/bokeh-tables-2.0.2.min.js\", \"https://cdn.bokeh.org/bokeh/release/bokeh-gl-2.0.2.min.js\"];\n  var css_urls = [];\n  \n\n  var inline_js = [\n    function(Bokeh) {\n      Bokeh.set_log_level(\"info\");\n    },\n    function(Bokeh) {\n    \n    \n    }\n  ];\n\n  function run_inline_js() {\n    \n    if (root.Bokeh !== undefined || force === true) {\n      \n    for (var i = 0; i < inline_js.length; i++) {\n      inline_js[i].call(root, root.Bokeh);\n    }\n    if (force === true) {\n        display_loaded();\n      }} else if (Date.now() < root._bokeh_timeout) {\n      setTimeout(run_inline_js, 100);\n    } else if (!root._bokeh_failed_load) {\n      console.log(\"Bokeh: BokehJS failed to load within specified timeout.\");\n      root._bokeh_failed_load = true;\n    } else if (force !== true) {\n      var cell = $(document.getElementById(\"1001\")).parents('.cell').data().cell;\n      cell.output_area.append_execute_result(NB_LOAD_WARNING)\n    }\n\n  }\n\n  if (root._bokeh_is_loading === 0) {\n    console.debug(\"Bokeh: BokehJS loaded, going straight to plotting\");\n    run_inline_js();\n  } else {\n    load_libs(css_urls, js_urls, function() {\n      console.debug(\"Bokeh: BokehJS plotting callback run at\", now());\n      run_inline_js();\n    });\n  }\n}(window));"
     },
     "metadata": {},
     "output_type": "display_data"
    }
   ],
   "source": [
    "import numpy as np\n",
    "\n",
    "import pandas as pd\n",
    "\n",
    "from math import pi\n",
    "\n",
    "from bokeh.plotting import figure, output_file, show, output_notebook, gridplot\n",
    "from bokeh.models import DatetimeTickFormatter, BasicTickFormatter, NumeralTickFormatter\n",
    "from bokeh.models import HoverTool\n",
    "from bokeh.layouts import row\n",
    "\n",
    "output_notebook()"
   ]
  },
  {
   "cell_type": "code",
   "execution_count": 2,
   "metadata": {},
   "outputs": [],
   "source": [
    "def datetime(x):\n",
    "    return np.array(x, dtype=np.datetime64)"
   ]
  },
  {
   "cell_type": "markdown",
   "metadata": {},
   "source": [
    "### ----- Plot function N lines -----"
   ]
  },
  {
   "cell_type": "code",
   "execution_count": 3,
   "metadata": {},
   "outputs": [],
   "source": [
    "def bokeh_plot_N_lines(x, y_list, title, dim, x_label, y_label, legend_list, x_label_hover, y_label_hover, color_list, legend_location):\n",
    "    \n",
    "#     output_file(file_name)\n",
    "    \n",
    "    p = figure(title=title, x_axis_type='datetime', x_axis_label=x_label, y_axis_label=y_label, width=dim[0], height=dim[1])\n",
    "    \n",
    "    for iii in range(0,len(y_list)):\n",
    "        p.line(x, y_list[iii], color=color_list[iii], line_width=4, legend_label=legend_list[iii])\n",
    "        p.circle(x, y_list[iii], fill_color=\"white\", line_color=color_list[iii], size=5)\n",
    "        \n",
    "    \n",
    "    p.xaxis.formatter=DatetimeTickFormatter(\n",
    "#         hours=[\"%d %B %Y\"],\n",
    "#         days=[\"%Y %m %d\"],\n",
    "    days=[\"%d %B\"],\n",
    "#         months=[\"%d %B %Y\"],\n",
    "#         years=[\"%d %B %Y\"],\n",
    "    )\n",
    "    p.xaxis.major_label_orientation = pi/4\n",
    "  \n",
    "    p.yaxis.formatter = BasicTickFormatter(use_scientific=False)\n",
    "#     p.left[0].formatter.use_scientific = False\n",
    "#     p.yaxis.formatter = NumeralTickFormatter(format = '0,0')\n",
    "    p.yaxis.formatter.use_scientific = False\n",
    "    \n",
    "    p.axis.minor_tick_in = -5\n",
    "    p.axis.minor_tick_out = -3\n",
    "    \n",
    "    p.legend.location = legend_location\n",
    "    \n",
    "    p.add_tools(HoverTool(\n",
    "    tooltips=[\n",
    "        ( x_label_hover,   '@x{%d %B}' ),\n",
    "        ( y_label_hover, '@y{0[.]000}' ),\n",
    "#         ( 'label yy', '@yy' ),\n",
    "    ],\n",
    "\n",
    "    formatters={\n",
    "           '@x'  : 'datetime', # use 'datetime' formatter for 'date' field\n",
    "#            '@y'  : 'printf',   # use 'printf' formatter for 'adj close' field\n",
    "#            '@y'  : 'numeral',   # use 'printf' formatter for 'adj close' field\n",
    "                                  # use default 'numeral' formatter for other fields\n",
    "    },\n",
    "\n",
    "    # display a tooltip whenever the cursor is vertically in line with a glyph\n",
    "    mode='vline'\n",
    "    ))\n",
    "    \n",
    "    return p  \n",
    "#     show(p)"
   ]
  },
  {
   "cell_type": "markdown",
   "metadata": {},
   "source": [
    "-----------------\n",
    "\n",
    "## Data Sources"
   ]
  },
  {
   "cell_type": "markdown",
   "metadata": {},
   "source": [
    "We importe the CSV files directly from the official GitHub source of the Protezione Civile:"
   ]
  },
  {
   "cell_type": "code",
   "execution_count": 4,
   "metadata": {},
   "outputs": [],
   "source": [
    "data_links = {'nazionale':'https://raw.githubusercontent.com/pcm-dpc/COVID-19/master/dati-andamento-nazionale/dpc-covid19-ita-andamento-nazionale.csv',\\\n",
    "              'regioni':'https://raw.githubusercontent.com/pcm-dpc/COVID-19/master/dati-regioni/dpc-covid19-ita-regioni.csv',\\\n",
    "              'province':'https://raw.githubusercontent.com/pcm-dpc/COVID-19/master/dati-province/dpc-covid19-ita-province.csv'}"
   ]
  },
  {
   "cell_type": "markdown",
   "metadata": {},
   "source": [
    "-----------------\n",
    "\n",
    "## Regional Trends"
   ]
  },
  {
   "cell_type": "code",
   "execution_count": 5,
   "metadata": {},
   "outputs": [
    {
     "name": "stdout",
     "output_type": "stream",
     "text": [
      "The path to the Raw CSV file for the regions data is : \n",
      " https://raw.githubusercontent.com/pcm-dpc/COVID-19/master/dati-regioni/dpc-covid19-ita-regioni.csv\n"
     ]
    },
    {
     "data": {
      "text/html": [
       "<div>\n",
       "<style scoped>\n",
       "    .dataframe tbody tr th:only-of-type {\n",
       "        vertical-align: middle;\n",
       "    }\n",
       "\n",
       "    .dataframe tbody tr th {\n",
       "        vertical-align: top;\n",
       "    }\n",
       "\n",
       "    .dataframe thead th {\n",
       "        text-align: right;\n",
       "    }\n",
       "</style>\n",
       "<table border=\"1\" class=\"dataframe\">\n",
       "  <thead>\n",
       "    <tr style=\"text-align: right;\">\n",
       "      <th></th>\n",
       "      <th>data</th>\n",
       "      <th>stato</th>\n",
       "      <th>codice_regione</th>\n",
       "      <th>denominazione_regione</th>\n",
       "      <th>lat</th>\n",
       "      <th>long</th>\n",
       "      <th>ricoverati_con_sintomi</th>\n",
       "      <th>terapia_intensiva</th>\n",
       "      <th>totale_ospedalizzati</th>\n",
       "      <th>isolamento_domiciliare</th>\n",
       "      <th>...</th>\n",
       "      <th>variazione_totale_positivi</th>\n",
       "      <th>nuovi_positivi</th>\n",
       "      <th>dimessi_guariti</th>\n",
       "      <th>deceduti</th>\n",
       "      <th>casi_da_sospetto_diagnostico</th>\n",
       "      <th>casi_da_screening</th>\n",
       "      <th>totale_casi</th>\n",
       "      <th>tamponi</th>\n",
       "      <th>casi_testati</th>\n",
       "      <th>note</th>\n",
       "    </tr>\n",
       "  </thead>\n",
       "  <tbody>\n",
       "    <tr>\n",
       "      <th>0</th>\n",
       "      <td>2020-02-24T18:00:00</td>\n",
       "      <td>ITA</td>\n",
       "      <td>13</td>\n",
       "      <td>Abruzzo</td>\n",
       "      <td>42.351222</td>\n",
       "      <td>13.398438</td>\n",
       "      <td>0</td>\n",
       "      <td>0</td>\n",
       "      <td>0</td>\n",
       "      <td>0</td>\n",
       "      <td>...</td>\n",
       "      <td>0</td>\n",
       "      <td>0</td>\n",
       "      <td>0</td>\n",
       "      <td>0</td>\n",
       "      <td>NaN</td>\n",
       "      <td>NaN</td>\n",
       "      <td>0</td>\n",
       "      <td>5</td>\n",
       "      <td>NaN</td>\n",
       "      <td>NaN</td>\n",
       "    </tr>\n",
       "    <tr>\n",
       "      <th>1</th>\n",
       "      <td>2020-02-24T18:00:00</td>\n",
       "      <td>ITA</td>\n",
       "      <td>17</td>\n",
       "      <td>Basilicata</td>\n",
       "      <td>40.639471</td>\n",
       "      <td>15.805148</td>\n",
       "      <td>0</td>\n",
       "      <td>0</td>\n",
       "      <td>0</td>\n",
       "      <td>0</td>\n",
       "      <td>...</td>\n",
       "      <td>0</td>\n",
       "      <td>0</td>\n",
       "      <td>0</td>\n",
       "      <td>0</td>\n",
       "      <td>NaN</td>\n",
       "      <td>NaN</td>\n",
       "      <td>0</td>\n",
       "      <td>0</td>\n",
       "      <td>NaN</td>\n",
       "      <td>NaN</td>\n",
       "    </tr>\n",
       "    <tr>\n",
       "      <th>2</th>\n",
       "      <td>2020-02-24T18:00:00</td>\n",
       "      <td>ITA</td>\n",
       "      <td>18</td>\n",
       "      <td>Calabria</td>\n",
       "      <td>38.905976</td>\n",
       "      <td>16.594402</td>\n",
       "      <td>0</td>\n",
       "      <td>0</td>\n",
       "      <td>0</td>\n",
       "      <td>0</td>\n",
       "      <td>...</td>\n",
       "      <td>0</td>\n",
       "      <td>0</td>\n",
       "      <td>0</td>\n",
       "      <td>0</td>\n",
       "      <td>NaN</td>\n",
       "      <td>NaN</td>\n",
       "      <td>0</td>\n",
       "      <td>1</td>\n",
       "      <td>NaN</td>\n",
       "      <td>NaN</td>\n",
       "    </tr>\n",
       "    <tr>\n",
       "      <th>3</th>\n",
       "      <td>2020-02-24T18:00:00</td>\n",
       "      <td>ITA</td>\n",
       "      <td>15</td>\n",
       "      <td>Campania</td>\n",
       "      <td>40.839566</td>\n",
       "      <td>14.250850</td>\n",
       "      <td>0</td>\n",
       "      <td>0</td>\n",
       "      <td>0</td>\n",
       "      <td>0</td>\n",
       "      <td>...</td>\n",
       "      <td>0</td>\n",
       "      <td>0</td>\n",
       "      <td>0</td>\n",
       "      <td>0</td>\n",
       "      <td>NaN</td>\n",
       "      <td>NaN</td>\n",
       "      <td>0</td>\n",
       "      <td>10</td>\n",
       "      <td>NaN</td>\n",
       "      <td>NaN</td>\n",
       "    </tr>\n",
       "    <tr>\n",
       "      <th>4</th>\n",
       "      <td>2020-02-24T18:00:00</td>\n",
       "      <td>ITA</td>\n",
       "      <td>8</td>\n",
       "      <td>Emilia-Romagna</td>\n",
       "      <td>44.494367</td>\n",
       "      <td>11.341721</td>\n",
       "      <td>10</td>\n",
       "      <td>2</td>\n",
       "      <td>12</td>\n",
       "      <td>6</td>\n",
       "      <td>...</td>\n",
       "      <td>0</td>\n",
       "      <td>18</td>\n",
       "      <td>0</td>\n",
       "      <td>0</td>\n",
       "      <td>NaN</td>\n",
       "      <td>NaN</td>\n",
       "      <td>18</td>\n",
       "      <td>148</td>\n",
       "      <td>NaN</td>\n",
       "      <td>NaN</td>\n",
       "    </tr>\n",
       "  </tbody>\n",
       "</table>\n",
       "<p>5 rows × 21 columns</p>\n",
       "</div>"
      ],
      "text/plain": [
       "                  data stato  codice_regione denominazione_regione        lat  \\\n",
       "0  2020-02-24T18:00:00   ITA              13               Abruzzo  42.351222   \n",
       "1  2020-02-24T18:00:00   ITA              17            Basilicata  40.639471   \n",
       "2  2020-02-24T18:00:00   ITA              18              Calabria  38.905976   \n",
       "3  2020-02-24T18:00:00   ITA              15              Campania  40.839566   \n",
       "4  2020-02-24T18:00:00   ITA               8        Emilia-Romagna  44.494367   \n",
       "\n",
       "        long  ricoverati_con_sintomi  terapia_intensiva  totale_ospedalizzati  \\\n",
       "0  13.398438                       0                  0                     0   \n",
       "1  15.805148                       0                  0                     0   \n",
       "2  16.594402                       0                  0                     0   \n",
       "3  14.250850                       0                  0                     0   \n",
       "4  11.341721                      10                  2                    12   \n",
       "\n",
       "   isolamento_domiciliare  ...  variazione_totale_positivi  nuovi_positivi  \\\n",
       "0                       0  ...                           0               0   \n",
       "1                       0  ...                           0               0   \n",
       "2                       0  ...                           0               0   \n",
       "3                       0  ...                           0               0   \n",
       "4                       6  ...                           0              18   \n",
       "\n",
       "   dimessi_guariti  deceduti  casi_da_sospetto_diagnostico  casi_da_screening  \\\n",
       "0                0         0                           NaN                NaN   \n",
       "1                0         0                           NaN                NaN   \n",
       "2                0         0                           NaN                NaN   \n",
       "3                0         0                           NaN                NaN   \n",
       "4                0         0                           NaN                NaN   \n",
       "\n",
       "   totale_casi  tamponi  casi_testati  note  \n",
       "0            0        5           NaN   NaN  \n",
       "1            0        0           NaN   NaN  \n",
       "2            0        1           NaN   NaN  \n",
       "3            0       10           NaN   NaN  \n",
       "4           18      148           NaN   NaN  \n",
       "\n",
       "[5 rows x 21 columns]"
      ]
     },
     "execution_count": 5,
     "metadata": {},
     "output_type": "execute_result"
    }
   ],
   "source": [
    "path_regioni = data_links['regioni']\n",
    "print('The path to the Raw CSV file for the regions data is : \\n', path_regioni)\n",
    "df_regioni = pd.read_csv(path_regioni)\n",
    "df_regioni.head()"
   ]
  },
  {
   "cell_type": "code",
   "execution_count": 6,
   "metadata": {},
   "outputs": [
    {
     "data": {
      "text/plain": [
       "(2667, 21)"
      ]
     },
     "execution_count": 6,
     "metadata": {},
     "output_type": "execute_result"
    }
   ],
   "source": [
    "df_regioni.shape"
   ]
  },
  {
   "cell_type": "markdown",
   "metadata": {},
   "source": [
    "-----------------\n",
    "\n",
    "## Lombardia Trends"
   ]
  },
  {
   "cell_type": "code",
   "execution_count": 7,
   "metadata": {
    "scrolled": true
   },
   "outputs": [
    {
     "data": {
      "text/html": [
       "<div>\n",
       "<style scoped>\n",
       "    .dataframe tbody tr th:only-of-type {\n",
       "        vertical-align: middle;\n",
       "    }\n",
       "\n",
       "    .dataframe tbody tr th {\n",
       "        vertical-align: top;\n",
       "    }\n",
       "\n",
       "    .dataframe thead th {\n",
       "        text-align: right;\n",
       "    }\n",
       "</style>\n",
       "<table border=\"1\" class=\"dataframe\">\n",
       "  <thead>\n",
       "    <tr style=\"text-align: right;\">\n",
       "      <th></th>\n",
       "      <th>data</th>\n",
       "      <th>stato</th>\n",
       "      <th>codice_regione</th>\n",
       "      <th>denominazione_regione</th>\n",
       "      <th>lat</th>\n",
       "      <th>long</th>\n",
       "      <th>ricoverati_con_sintomi</th>\n",
       "      <th>terapia_intensiva</th>\n",
       "      <th>totale_ospedalizzati</th>\n",
       "      <th>isolamento_domiciliare</th>\n",
       "      <th>...</th>\n",
       "      <th>variazione_totale_positivi</th>\n",
       "      <th>nuovi_positivi</th>\n",
       "      <th>dimessi_guariti</th>\n",
       "      <th>deceduti</th>\n",
       "      <th>casi_da_sospetto_diagnostico</th>\n",
       "      <th>casi_da_screening</th>\n",
       "      <th>totale_casi</th>\n",
       "      <th>tamponi</th>\n",
       "      <th>casi_testati</th>\n",
       "      <th>note</th>\n",
       "    </tr>\n",
       "  </thead>\n",
       "  <tbody>\n",
       "    <tr>\n",
       "      <th>8</th>\n",
       "      <td>2020-02-24T18:00:00</td>\n",
       "      <td>ITA</td>\n",
       "      <td>3</td>\n",
       "      <td>Lombardia</td>\n",
       "      <td>45.466794</td>\n",
       "      <td>9.190347</td>\n",
       "      <td>76</td>\n",
       "      <td>19</td>\n",
       "      <td>95</td>\n",
       "      <td>71</td>\n",
       "      <td>...</td>\n",
       "      <td>0</td>\n",
       "      <td>166</td>\n",
       "      <td>0</td>\n",
       "      <td>6</td>\n",
       "      <td>NaN</td>\n",
       "      <td>NaN</td>\n",
       "      <td>172</td>\n",
       "      <td>1463</td>\n",
       "      <td>NaN</td>\n",
       "      <td>NaN</td>\n",
       "    </tr>\n",
       "    <tr>\n",
       "      <th>29</th>\n",
       "      <td>2020-02-25T18:00:00</td>\n",
       "      <td>ITA</td>\n",
       "      <td>3</td>\n",
       "      <td>Lombardia</td>\n",
       "      <td>45.466794</td>\n",
       "      <td>9.190347</td>\n",
       "      <td>79</td>\n",
       "      <td>25</td>\n",
       "      <td>104</td>\n",
       "      <td>127</td>\n",
       "      <td>...</td>\n",
       "      <td>65</td>\n",
       "      <td>68</td>\n",
       "      <td>0</td>\n",
       "      <td>9</td>\n",
       "      <td>NaN</td>\n",
       "      <td>NaN</td>\n",
       "      <td>240</td>\n",
       "      <td>3700</td>\n",
       "      <td>NaN</td>\n",
       "      <td>NaN</td>\n",
       "    </tr>\n",
       "    <tr>\n",
       "      <th>50</th>\n",
       "      <td>2020-02-26T18:00:00</td>\n",
       "      <td>ITA</td>\n",
       "      <td>3</td>\n",
       "      <td>Lombardia</td>\n",
       "      <td>45.466794</td>\n",
       "      <td>9.190347</td>\n",
       "      <td>79</td>\n",
       "      <td>25</td>\n",
       "      <td>104</td>\n",
       "      <td>145</td>\n",
       "      <td>...</td>\n",
       "      <td>18</td>\n",
       "      <td>18</td>\n",
       "      <td>0</td>\n",
       "      <td>9</td>\n",
       "      <td>NaN</td>\n",
       "      <td>NaN</td>\n",
       "      <td>258</td>\n",
       "      <td>3208</td>\n",
       "      <td>NaN</td>\n",
       "      <td>NaN</td>\n",
       "    </tr>\n",
       "    <tr>\n",
       "      <th>71</th>\n",
       "      <td>2020-02-27T18:00:00</td>\n",
       "      <td>ITA</td>\n",
       "      <td>3</td>\n",
       "      <td>Lombardia</td>\n",
       "      <td>45.466794</td>\n",
       "      <td>9.190347</td>\n",
       "      <td>172</td>\n",
       "      <td>41</td>\n",
       "      <td>213</td>\n",
       "      <td>136</td>\n",
       "      <td>...</td>\n",
       "      <td>100</td>\n",
       "      <td>145</td>\n",
       "      <td>40</td>\n",
       "      <td>14</td>\n",
       "      <td>NaN</td>\n",
       "      <td>NaN</td>\n",
       "      <td>403</td>\n",
       "      <td>3320</td>\n",
       "      <td>NaN</td>\n",
       "      <td>NaN</td>\n",
       "    </tr>\n",
       "    <tr>\n",
       "      <th>92</th>\n",
       "      <td>2020-02-28T18:00:00</td>\n",
       "      <td>ITA</td>\n",
       "      <td>3</td>\n",
       "      <td>Lombardia</td>\n",
       "      <td>45.466794</td>\n",
       "      <td>9.190347</td>\n",
       "      <td>235</td>\n",
       "      <td>47</td>\n",
       "      <td>282</td>\n",
       "      <td>192</td>\n",
       "      <td>...</td>\n",
       "      <td>125</td>\n",
       "      <td>128</td>\n",
       "      <td>40</td>\n",
       "      <td>17</td>\n",
       "      <td>NaN</td>\n",
       "      <td>NaN</td>\n",
       "      <td>531</td>\n",
       "      <td>4835</td>\n",
       "      <td>NaN</td>\n",
       "      <td>NaN</td>\n",
       "    </tr>\n",
       "  </tbody>\n",
       "</table>\n",
       "<p>5 rows × 21 columns</p>\n",
       "</div>"
      ],
      "text/plain": [
       "                   data stato  codice_regione denominazione_regione  \\\n",
       "8   2020-02-24T18:00:00   ITA               3             Lombardia   \n",
       "29  2020-02-25T18:00:00   ITA               3             Lombardia   \n",
       "50  2020-02-26T18:00:00   ITA               3             Lombardia   \n",
       "71  2020-02-27T18:00:00   ITA               3             Lombardia   \n",
       "92  2020-02-28T18:00:00   ITA               3             Lombardia   \n",
       "\n",
       "          lat      long  ricoverati_con_sintomi  terapia_intensiva  \\\n",
       "8   45.466794  9.190347                      76                 19   \n",
       "29  45.466794  9.190347                      79                 25   \n",
       "50  45.466794  9.190347                      79                 25   \n",
       "71  45.466794  9.190347                     172                 41   \n",
       "92  45.466794  9.190347                     235                 47   \n",
       "\n",
       "    totale_ospedalizzati  isolamento_domiciliare  ...  \\\n",
       "8                     95                      71  ...   \n",
       "29                   104                     127  ...   \n",
       "50                   104                     145  ...   \n",
       "71                   213                     136  ...   \n",
       "92                   282                     192  ...   \n",
       "\n",
       "    variazione_totale_positivi  nuovi_positivi  dimessi_guariti  deceduti  \\\n",
       "8                            0             166                0         6   \n",
       "29                          65              68                0         9   \n",
       "50                          18              18                0         9   \n",
       "71                         100             145               40        14   \n",
       "92                         125             128               40        17   \n",
       "\n",
       "    casi_da_sospetto_diagnostico  casi_da_screening  totale_casi  tamponi  \\\n",
       "8                            NaN                NaN          172     1463   \n",
       "29                           NaN                NaN          240     3700   \n",
       "50                           NaN                NaN          258     3208   \n",
       "71                           NaN                NaN          403     3320   \n",
       "92                           NaN                NaN          531     4835   \n",
       "\n",
       "    casi_testati  note  \n",
       "8            NaN   NaN  \n",
       "29           NaN   NaN  \n",
       "50           NaN   NaN  \n",
       "71           NaN   NaN  \n",
       "92           NaN   NaN  \n",
       "\n",
       "[5 rows x 21 columns]"
      ]
     },
     "execution_count": 7,
     "metadata": {},
     "output_type": "execute_result"
    }
   ],
   "source": [
    "df_Lombardia = df_regioni[df_regioni['denominazione_regione']=='Lombardia']\n",
    "df_Lombardia.head()"
   ]
  },
  {
   "cell_type": "code",
   "execution_count": 8,
   "metadata": {},
   "outputs": [
    {
     "data": {
      "text/plain": [
       "(127, 21)"
      ]
     },
     "execution_count": 8,
     "metadata": {},
     "output_type": "execute_result"
    }
   ],
   "source": [
    "df_Lombardia.shape"
   ]
  },
  {
   "cell_type": "markdown",
   "metadata": {},
   "source": [
    "------------\n",
    "\n",
    "### Date Formatting"
   ]
  },
  {
   "cell_type": "code",
   "execution_count": 9,
   "metadata": {},
   "outputs": [
    {
     "data": {
      "text/plain": [
       "8     2020-02-24T18:00:00\n",
       "29    2020-02-25T18:00:00\n",
       "50    2020-02-26T18:00:00\n",
       "71    2020-02-27T18:00:00\n",
       "92    2020-02-28T18:00:00\n",
       "Name: data, dtype: object"
      ]
     },
     "execution_count": 9,
     "metadata": {},
     "output_type": "execute_result"
    }
   ],
   "source": [
    "time_date = df_Lombardia['data']\n",
    "time_date.head()"
   ]
  },
  {
   "cell_type": "code",
   "execution_count": 10,
   "metadata": {},
   "outputs": [
    {
     "data": {
      "text/plain": [
       "8     2020-02-24\n",
       "29    2020-02-25\n",
       "50    2020-02-26\n",
       "71    2020-02-27\n",
       "92    2020-02-28\n",
       "Name: data, dtype: object"
      ]
     },
     "execution_count": 10,
     "metadata": {},
     "output_type": "execute_result"
    }
   ],
   "source": [
    "time_date_new = pd.to_datetime(time_date).dt.date\n",
    "time_date_new.head()"
   ]
  },
  {
   "cell_type": "code",
   "execution_count": 11,
   "metadata": {},
   "outputs": [
    {
     "data": {
      "text/plain": [
       "datetime.date(2020, 2, 24)"
      ]
     },
     "execution_count": 11,
     "metadata": {},
     "output_type": "execute_result"
    }
   ],
   "source": [
    "time_date_new.iloc[0]"
   ]
  },
  {
   "cell_type": "code",
   "execution_count": 12,
   "metadata": {},
   "outputs": [],
   "source": [
    "# time_date_new = datetime(time_date_new.iloc[0:7])\n",
    "# time_date_new"
   ]
  },
  {
   "cell_type": "markdown",
   "metadata": {},
   "source": [
    "---------------"
   ]
  },
  {
   "cell_type": "code",
   "execution_count": 13,
   "metadata": {},
   "outputs": [
    {
     "data": {
      "text/plain": [
       "DatetimeIndex(['2020-02-24', '2020-02-25', '2020-02-26', '2020-02-27',\n",
       "               '2020-02-28', '2020-02-29', '2020-03-01', '2020-03-02',\n",
       "               '2020-03-03', '2020-03-04',\n",
       "               ...\n",
       "               '2020-10-25', '2020-10-26', '2020-10-27', '2020-10-28',\n",
       "               '2020-10-29', '2020-10-30', '2020-10-31', '2020-11-01',\n",
       "               '2020-11-02', '2020-11-03'],\n",
       "              dtype='datetime64[ns]', length=254, freq='D')"
      ]
     },
     "execution_count": 13,
     "metadata": {},
     "output_type": "execute_result"
    }
   ],
   "source": [
    "time_date_new_extended = pd.date_range(start=time_date_new.iloc[0], periods=2*time_date.shape[0])\n",
    "time_date_new_extended"
   ]
  },
  {
   "cell_type": "markdown",
   "metadata": {},
   "source": [
    "------------------\n",
    "\n",
    "### Total Cases Lombardia"
   ]
  },
  {
   "cell_type": "code",
   "execution_count": 14,
   "metadata": {},
   "outputs": [
    {
     "data": {
      "text/plain": [
       "8     172\n",
       "29    240\n",
       "50    258\n",
       "71    403\n",
       "92    531\n",
       "Name: totale_casi, dtype: int64"
      ]
     },
     "execution_count": 14,
     "metadata": {},
     "output_type": "execute_result"
    }
   ],
   "source": [
    "total_cases_Lombardia = df_Lombardia['totale_casi']\n",
    "total_cases_Lombardia.head()"
   ]
  },
  {
   "cell_type": "markdown",
   "metadata": {},
   "source": [
    "### Total Positive Lombardia"
   ]
  },
  {
   "cell_type": "code",
   "execution_count": 15,
   "metadata": {},
   "outputs": [
    {
     "data": {
      "text/plain": [
       "8     166\n",
       "29    231\n",
       "50    249\n",
       "71    349\n",
       "92    474\n",
       "Name: totale_positivi, dtype: int64"
      ]
     },
     "execution_count": 15,
     "metadata": {},
     "output_type": "execute_result"
    }
   ],
   "source": [
    "total_positive_Lombardia = df_Lombardia['totale_positivi']\n",
    "total_positive_Lombardia.head()"
   ]
  },
  {
   "cell_type": "code",
   "execution_count": 16,
   "metadata": {},
   "outputs": [
    {
     "data": {
      "text/html": [
       "\n",
       "\n",
       "\n",
       "\n",
       "\n",
       "\n",
       "  <div class=\"bk-root\" id=\"42f62adb-3098-4cdf-bda7-724388ee97d1\" data-root-id=\"1002\"></div>\n"
      ]
     },
     "metadata": {},
     "output_type": "display_data"
    },
    {
     "data": {
      "application/javascript": [
       "(function(root) {\n",
       "  function embed_document(root) {\n",
       "    \n",
       "  var docs_json = {\"f32e9d92-72d3-4c22-9930-1cc5002d563e\":{\"roots\":{\"references\":[{\"attributes\":{\"below\":[{\"id\":\"1013\"}],\"center\":[{\"id\":\"1016\"},{\"id\":\"1020\"},{\"id\":\"1058\"}],\"left\":[{\"id\":\"1017\"}],\"plot_height\":450,\"renderers\":[{\"id\":\"1038\"},{\"id\":\"1063\"},{\"id\":\"1068\"},{\"id\":\"1096\"}],\"title\":{\"id\":\"1003\"},\"toolbar\":{\"id\":\"1028\"},\"x_range\":{\"id\":\"1005\"},\"x_scale\":{\"id\":\"1009\"},\"y_range\":{\"id\":\"1007\"},\"y_scale\":{\"id\":\"1011\"}},\"id\":\"1002\",\"subtype\":\"Figure\",\"type\":\"Plot\"},{\"attributes\":{},\"id\":\"1022\",\"type\":\"WheelZoomTool\"},{\"attributes\":{\"bottom_units\":\"screen\",\"fill_alpha\":0.5,\"fill_color\":\"lightgrey\",\"left_units\":\"screen\",\"level\":\"overlay\",\"line_alpha\":1.0,\"line_color\":\"black\",\"line_dash\":[4,4],\"line_width\":2,\"render_mode\":\"css\",\"right_units\":\"screen\",\"top_units\":\"screen\"},\"id\":\"1027\",\"type\":\"BoxAnnotation\"},{\"attributes\":{\"overlay\":{\"id\":\"1027\"}},\"id\":\"1023\",\"type\":\"BoxZoomTool\"},{\"attributes\":{\"source\":{\"id\":\"1035\"}},\"id\":\"1039\",\"type\":\"CDSView\"},{\"attributes\":{},\"id\":\"1124\",\"type\":\"Selection\"},{\"attributes\":{\"months\":[0,6]},\"id\":\"1056\",\"type\":\"MonthsTicker\"},{\"attributes\":{\"axis\":{\"id\":\"1013\"},\"ticker\":null},\"id\":\"1016\",\"type\":\"Grid\"},{\"attributes\":{},\"id\":\"1024\",\"type\":\"SaveTool\"},{\"attributes\":{\"days\":[1,2,3,4,5,6,7,8,9,10,11,12,13,14,15,16,17,18,19,20,21,22,23,24,25,26,27,28,29,30,31]},\"id\":\"1049\",\"type\":\"DaysTicker\"},{\"attributes\":{},\"id\":\"1025\",\"type\":\"ResetTool\"},{\"attributes\":{},\"id\":\"1009\",\"type\":\"LinearScale\"},{\"attributes\":{\"base\":24,\"mantissas\":[1,2,4,6,8,12],\"max_interval\":43200000.0,\"min_interval\":3600000.0,\"num_minor_ticks\":0},\"id\":\"1048\",\"type\":\"AdaptiveTicker\"},{\"attributes\":{},\"id\":\"1126\",\"type\":\"Selection\"},{\"attributes\":{},\"id\":\"1007\",\"type\":\"DataRange1d\"},{\"attributes\":{\"label\":{\"value\":\"total positive\"},\"renderers\":[{\"id\":\"1068\"}]},\"id\":\"1092\",\"type\":\"LegendItem\"},{\"attributes\":{},\"id\":\"1125\",\"type\":\"UnionRenderers\"},{\"attributes\":{},\"id\":\"1026\",\"type\":\"HelpTool\"},{\"attributes\":{\"num_minor_ticks\":5,\"tickers\":[{\"id\":\"1046\"},{\"id\":\"1047\"},{\"id\":\"1048\"},{\"id\":\"1049\"},{\"id\":\"1050\"},{\"id\":\"1051\"},{\"id\":\"1052\"},{\"id\":\"1053\"},{\"id\":\"1054\"},{\"id\":\"1055\"},{\"id\":\"1056\"},{\"id\":\"1057\"}]},\"id\":\"1014\",\"type\":\"DatetimeTicker\"},{\"attributes\":{\"months\":[0,4,8]},\"id\":\"1055\",\"type\":\"MonthsTicker\"},{\"attributes\":{},\"id\":\"1088\",\"type\":\"Selection\"},{\"attributes\":{},\"id\":\"1127\",\"type\":\"UnionRenderers\"},{\"attributes\":{\"use_scientific\":false},\"id\":\"1100\",\"type\":\"BasicTickFormatter\"},{\"attributes\":{},\"id\":\"1057\",\"type\":\"YearsTicker\"},{\"attributes\":{},\"id\":\"1005\",\"type\":\"DataRange1d\"},{\"attributes\":{\"axis_label\":\"Total Cases & Total Positive\",\"formatter\":{\"id\":\"1100\"},\"minor_tick_in\":-5,\"minor_tick_out\":-3,\"ticker\":{\"id\":\"1018\"}},\"id\":\"1017\",\"type\":\"LinearAxis\"},{\"attributes\":{},\"id\":\"1011\",\"type\":\"LinearScale\"},{\"attributes\":{\"line_color\":\"blue\",\"line_width\":4,\"x\":{\"field\":\"x\"},\"y\":{\"field\":\"y\"}},\"id\":\"1036\",\"type\":\"Line\"},{\"attributes\":{},\"id\":\"1090\",\"type\":\"Selection\"},{\"attributes\":{},\"id\":\"1091\",\"type\":\"UnionRenderers\"},{\"attributes\":{\"data_source\":{\"id\":\"1060\"},\"glyph\":{\"id\":\"1061\"},\"hover_glyph\":null,\"muted_glyph\":null,\"nonselection_glyph\":{\"id\":\"1062\"},\"selection_glyph\":null,\"view\":{\"id\":\"1064\"}},\"id\":\"1063\",\"type\":\"GlyphRenderer\"},{\"attributes\":{\"months\":[0,2,4,6,8,10]},\"id\":\"1054\",\"type\":\"MonthsTicker\"},{\"attributes\":{},\"id\":\"1089\",\"type\":\"UnionRenderers\"},{\"attributes\":{\"days\":[\"%d %B\"]},\"id\":\"1098\",\"type\":\"DatetimeTickFormatter\"},{\"attributes\":{\"days\":[1,4,7,10,13,16,19,22,25,28]},\"id\":\"1050\",\"type\":\"DaysTicker\"},{\"attributes\":{\"fill_color\":{\"value\":\"white\"},\"line_color\":{\"value\":\"red\"},\"size\":{\"units\":\"screen\",\"value\":5},\"x\":{\"field\":\"x\"},\"y\":{\"field\":\"y\"}},\"id\":\"1094\",\"type\":\"Circle\"},{\"attributes\":{\"months\":[0,1,2,3,4,5,6,7,8,9,10,11]},\"id\":\"1053\",\"type\":\"MonthsTicker\"},{\"attributes\":{\"axis\":{\"id\":\"1017\"},\"dimension\":1,\"ticker\":null},\"id\":\"1020\",\"type\":\"Grid\"},{\"attributes\":{\"data\":{\"x\":{\"__ndarray__\":\"AAAA5UcHd0IAAMBKmgd3QgAAgLDsB3dCAABAFj8Id0IAAAB8kQh3QgAAwOHjCHdCAACARzYJd0IAAECtiAl3QgAAABPbCXdCAADAeC0Kd0IAAIDefwp3QgAAQETSCndCAAAAqiQLd0IAAMAPdwt3QgAAgHXJC3dCAABA2xsMd0IAAABBbgx3QgAAwKbADHdCAACADBMNd0IAAEByZQ13QgAAANi3DXdCAADAPQoOd0IAAICjXA53QgAAQAmvDndCAAAAbwEPd0IAAMDUUw93QgAAgDqmD3dCAABAoPgPd0IAAAAGSxB3QgAAwGudEHdCAACA0e8Qd0IAAEA3QhF3QgAAAJ2UEXdCAADAAucRd0IAAIBoORJ3QgAAQM6LEndCAAAANN4Sd0IAAMCZMBN3QgAAgP+CE3dCAABAZdUTd0IAAADLJxR3QgAAwDB6FHdCAACAlswUd0IAAED8HhV3QgAAAGJxFXdCAADAx8MVd0IAAIAtFhZ3QgAAQJNoFndCAAAA+boWd0IAAMBeDRd3QgAAgMRfF3dCAABAKrIXd0IAAACQBBh3QgAAwPVWGHdCAACAW6kYd0IAAEDB+xh3QgAAACdOGXdCAADAjKAZd0IAAIDy8hl3QgAAQFhFGndCAAAAvpcad0IAAMAj6hp3QgAAgIk8G3dCAABA744bd0IAAABV4Rt3QgAAwLozHHdCAACAIIYcd0IAAECG2Bx3QgAAAOwqHXdCAADAUX0dd0IAAIC3zx13QgAAQB0iHndCAAAAg3Qed0IAAMDoxh53QgAAgE4ZH3dCAABAtGsfd0IAAAAavh93QgAAwH8QIHdCAACA5WIgd0IAAEBLtSB3QgAAALEHIXdCAADAFlohd0IAAIB8rCF3QgAAQOL+IXdCAAAASFEid0IAAMCtoyJ3QgAAgBP2IndCAABAeUgjd0IAAADfmiN3QgAAwETtI3dCAACAqj8kd0IAAEAQkiR3QgAAAHbkJHdCAADA2zYld0IAAIBBiSV3QgAAQKfbJXdCAAAADS4md0IAAMBygCZ3QgAAgNjSJndCAABAPiUnd0IAAACkdyd3QgAAwAnKJ3dCAACAbxwod0IAAEDVbih3QgAAADvBKHdCAADAoBMpd0IAAIAGZil3QgAAQGy4KXdCAAAA0goqd0IAAMA3XSp3QgAAgJ2vKndCAABAAwIrd0IAAABpVCt3QgAAwM6mK3dCAACANPkrd0IAAECaSyx3QgAAAACeLHdCAADAZfAsd0IAAIDLQi13QgAAQDGVLXdCAAAAl+ctd0IAAMD8OS53QgAAgGKMLndCAABAyN4ud0IAAAAuMS93QgAAwJODL3dCAACA+dUvd0I=\",\"dtype\":\"float64\",\"shape\":[127]},\"y\":[166,231,249,349,474,552,887,1077,1326,1497,1777,2008,2742,3372,4490,4427,5763,6896,7732,9059,10043,10861,12095,12266,13938,15420,17370,17885,18910,19868,20591,22189,23895,24509,25392,25006,25124,25765,25876,26189,27220,28124,28469,28343,28545,29074,29530,30258,31265,31935,32363,32921,33090,33434,34195,34497,34587,33978,34242,33873,34368,34473,35166,35441,35744,36122,36211,36473,36667,36926,37307,37092,31753,32015,31983,30262,30190,30411,30675,30032,29956,27746,27679,27430,27073,27291,26671,26715,25933,25630,25614,25215,24477,24037,22913,22683,21809,20996,20861,20255,20224,20224,19853,19499,19420,19319,18297,17857,17340,17024,16785,15989,15976,15233,14972,14647,14045,13911,13843,13638,12903,12227,11992,11640,10992,10947,10823]},\"selected\":{\"id\":\"1124\"},\"selection_policy\":{\"id\":\"1125\"}},\"id\":\"1065\",\"type\":\"ColumnDataSource\"},{\"attributes\":{\"fill_alpha\":{\"value\":0.1},\"fill_color\":{\"value\":\"white\"},\"line_alpha\":{\"value\":0.1},\"line_color\":{\"value\":\"red\"},\"size\":{\"units\":\"screen\",\"value\":5},\"x\":{\"field\":\"x\"},\"y\":{\"field\":\"y\"}},\"id\":\"1095\",\"type\":\"Circle\"},{\"attributes\":{\"base\":60,\"mantissas\":[1,2,5,10,15,20,30],\"max_interval\":1800000.0,\"min_interval\":1000.0,\"num_minor_ticks\":0},\"id\":\"1047\",\"type\":\"AdaptiveTicker\"},{\"attributes\":{\"data_source\":{\"id\":\"1093\"},\"glyph\":{\"id\":\"1094\"},\"hover_glyph\":null,\"muted_glyph\":null,\"nonselection_glyph\":{\"id\":\"1095\"},\"selection_glyph\":null,\"view\":{\"id\":\"1097\"}},\"id\":\"1096\",\"type\":\"GlyphRenderer\"},{\"attributes\":{},\"id\":\"1018\",\"type\":\"BasicTicker\"},{\"attributes\":{\"source\":{\"id\":\"1065\"}},\"id\":\"1069\",\"type\":\"CDSView\"},{\"attributes\":{\"days\":[1,15]},\"id\":\"1052\",\"type\":\"DaysTicker\"},{\"attributes\":{\"label\":{\"value\":\"total cases\"},\"renderers\":[{\"id\":\"1038\"}]},\"id\":\"1059\",\"type\":\"LegendItem\"},{\"attributes\":{\"line_alpha\":0.1,\"line_color\":\"blue\",\"line_width\":4,\"x\":{\"field\":\"x\"},\"y\":{\"field\":\"y\"}},\"id\":\"1037\",\"type\":\"Line\"},{\"attributes\":{\"data\":{\"x\":{\"__ndarray__\":\"AAAA5UcHd0IAAMBKmgd3QgAAgLDsB3dCAABAFj8Id0IAAAB8kQh3QgAAwOHjCHdCAACARzYJd0IAAECtiAl3QgAAABPbCXdCAADAeC0Kd0IAAIDefwp3QgAAQETSCndCAAAAqiQLd0IAAMAPdwt3QgAAgHXJC3dCAABA2xsMd0IAAABBbgx3QgAAwKbADHdCAACADBMNd0IAAEByZQ13QgAAANi3DXdCAADAPQoOd0IAAICjXA53QgAAQAmvDndCAAAAbwEPd0IAAMDUUw93QgAAgDqmD3dCAABAoPgPd0IAAAAGSxB3QgAAwGudEHdCAACA0e8Qd0IAAEA3QhF3QgAAAJ2UEXdCAADAAucRd0IAAIBoORJ3QgAAQM6LEndCAAAANN4Sd0IAAMCZMBN3QgAAgP+CE3dCAABAZdUTd0IAAADLJxR3QgAAwDB6FHdCAACAlswUd0IAAED8HhV3QgAAAGJxFXdCAADAx8MVd0IAAIAtFhZ3QgAAQJNoFndCAAAA+boWd0IAAMBeDRd3QgAAgMRfF3dCAABAKrIXd0IAAACQBBh3QgAAwPVWGHdCAACAW6kYd0IAAEDB+xh3QgAAACdOGXdCAADAjKAZd0IAAIDy8hl3QgAAQFhFGndCAAAAvpcad0IAAMAj6hp3QgAAgIk8G3dCAABA744bd0IAAABV4Rt3QgAAwLozHHdCAACAIIYcd0IAAECG2Bx3QgAAAOwqHXdCAADAUX0dd0IAAIC3zx13QgAAQB0iHndCAAAAg3Qed0IAAMDoxh53QgAAgE4ZH3dCAABAtGsfd0IAAAAavh93QgAAwH8QIHdCAACA5WIgd0IAAEBLtSB3QgAAALEHIXdCAADAFlohd0IAAIB8rCF3QgAAQOL+IXdCAAAASFEid0IAAMCtoyJ3QgAAgBP2IndCAABAeUgjd0IAAADfmiN3QgAAwETtI3dCAACAqj8kd0IAAEAQkiR3QgAAAHbkJHdCAADA2zYld0IAAIBBiSV3QgAAQKfbJXdCAAAADS4md0IAAMBygCZ3QgAAgNjSJndCAABAPiUnd0IAAACkdyd3QgAAwAnKJ3dCAACAbxwod0IAAEDVbih3QgAAADvBKHdCAADAoBMpd0IAAIAGZil3QgAAQGy4KXdCAAAA0goqd0IAAMA3XSp3QgAAgJ2vKndCAABAAwIrd0IAAABpVCt3QgAAwM6mK3dCAACANPkrd0IAAECaSyx3QgAAAACeLHdCAADAZfAsd0IAAIDLQi13QgAAQDGVLXdCAAAAl+ctd0IAAMD8OS53QgAAgGKMLndCAABAyN4ud0IAAAAuMS93QgAAwJODL3dCAACA+dUvd0I=\",\"dtype\":\"float64\",\"shape\":[127]},\"y\":[166,231,249,349,474,552,887,1077,1326,1497,1777,2008,2742,3372,4490,4427,5763,6896,7732,9059,10043,10861,12095,12266,13938,15420,17370,17885,18910,19868,20591,22189,23895,24509,25392,25006,25124,25765,25876,26189,27220,28124,28469,28343,28545,29074,29530,30258,31265,31935,32363,32921,33090,33434,34195,34497,34587,33978,34242,33873,34368,34473,35166,35441,35744,36122,36211,36473,36667,36926,37307,37092,31753,32015,31983,30262,30190,30411,30675,30032,29956,27746,27679,27430,27073,27291,26671,26715,25933,25630,25614,25215,24477,24037,22913,22683,21809,20996,20861,20255,20224,20224,19853,19499,19420,19319,18297,17857,17340,17024,16785,15989,15976,15233,14972,14647,14045,13911,13843,13638,12903,12227,11992,11640,10992,10947,10823]},\"selected\":{\"id\":\"1126\"},\"selection_policy\":{\"id\":\"1127\"}},\"id\":\"1093\",\"type\":\"ColumnDataSource\"},{\"attributes\":{\"mantissas\":[1,2,5],\"max_interval\":500.0,\"num_minor_ticks\":0},\"id\":\"1046\",\"type\":\"AdaptiveTicker\"},{\"attributes\":{\"data_source\":{\"id\":\"1035\"},\"glyph\":{\"id\":\"1036\"},\"hover_glyph\":null,\"muted_glyph\":null,\"nonselection_glyph\":{\"id\":\"1037\"},\"selection_glyph\":null,\"view\":{\"id\":\"1039\"}},\"id\":\"1038\",\"type\":\"GlyphRenderer\"},{\"attributes\":{\"source\":{\"id\":\"1060\"}},\"id\":\"1064\",\"type\":\"CDSView\"},{\"attributes\":{\"days\":[1,8,15,22]},\"id\":\"1051\",\"type\":\"DaysTicker\"},{\"attributes\":{\"data_source\":{\"id\":\"1065\"},\"glyph\":{\"id\":\"1066\"},\"hover_glyph\":null,\"muted_glyph\":null,\"nonselection_glyph\":{\"id\":\"1067\"},\"selection_glyph\":null,\"view\":{\"id\":\"1069\"}},\"id\":\"1068\",\"type\":\"GlyphRenderer\"},{\"attributes\":{\"items\":[{\"id\":\"1059\"},{\"id\":\"1092\"}],\"location\":\"top_left\"},\"id\":\"1058\",\"type\":\"Legend\"},{\"attributes\":{\"active_drag\":\"auto\",\"active_inspect\":\"auto\",\"active_multi\":null,\"active_scroll\":\"auto\",\"active_tap\":\"auto\",\"tools\":[{\"id\":\"1021\"},{\"id\":\"1022\"},{\"id\":\"1023\"},{\"id\":\"1024\"},{\"id\":\"1025\"},{\"id\":\"1026\"},{\"id\":\"1102\"}]},\"id\":\"1028\",\"type\":\"Toolbar\"},{\"attributes\":{\"data\":{\"x\":{\"__ndarray__\":\"AAAA5UcHd0IAAMBKmgd3QgAAgLDsB3dCAABAFj8Id0IAAAB8kQh3QgAAwOHjCHdCAACARzYJd0IAAECtiAl3QgAAABPbCXdCAADAeC0Kd0IAAIDefwp3QgAAQETSCndCAAAAqiQLd0IAAMAPdwt3QgAAgHXJC3dCAABA2xsMd0IAAABBbgx3QgAAwKbADHdCAACADBMNd0IAAEByZQ13QgAAANi3DXdCAADAPQoOd0IAAICjXA53QgAAQAmvDndCAAAAbwEPd0IAAMDUUw93QgAAgDqmD3dCAABAoPgPd0IAAAAGSxB3QgAAwGudEHdCAACA0e8Qd0IAAEA3QhF3QgAAAJ2UEXdCAADAAucRd0IAAIBoORJ3QgAAQM6LEndCAAAANN4Sd0IAAMCZMBN3QgAAgP+CE3dCAABAZdUTd0IAAADLJxR3QgAAwDB6FHdCAACAlswUd0IAAED8HhV3QgAAAGJxFXdCAADAx8MVd0IAAIAtFhZ3QgAAQJNoFndCAAAA+boWd0IAAMBeDRd3QgAAgMRfF3dCAABAKrIXd0IAAACQBBh3QgAAwPVWGHdCAACAW6kYd0IAAEDB+xh3QgAAACdOGXdCAADAjKAZd0IAAIDy8hl3QgAAQFhFGndCAAAAvpcad0IAAMAj6hp3QgAAgIk8G3dCAABA744bd0IAAABV4Rt3QgAAwLozHHdCAACAIIYcd0IAAECG2Bx3QgAAAOwqHXdCAADAUX0dd0IAAIC3zx13QgAAQB0iHndCAAAAg3Qed0IAAMDoxh53QgAAgE4ZH3dCAABAtGsfd0IAAAAavh93QgAAwH8QIHdCAACA5WIgd0IAAEBLtSB3QgAAALEHIXdCAADAFlohd0IAAIB8rCF3QgAAQOL+IXdCAAAASFEid0IAAMCtoyJ3QgAAgBP2IndCAABAeUgjd0IAAADfmiN3QgAAwETtI3dCAACAqj8kd0IAAEAQkiR3QgAAAHbkJHdCAADA2zYld0IAAIBBiSV3QgAAQKfbJXdCAAAADS4md0IAAMBygCZ3QgAAgNjSJndCAABAPiUnd0IAAACkdyd3QgAAwAnKJ3dCAACAbxwod0IAAEDVbih3QgAAADvBKHdCAADAoBMpd0IAAIAGZil3QgAAQGy4KXdCAAAA0goqd0IAAMA3XSp3QgAAgJ2vKndCAABAAwIrd0IAAABpVCt3QgAAwM6mK3dCAACANPkrd0IAAECaSyx3QgAAAACeLHdCAADAZfAsd0IAAIDLQi13QgAAQDGVLXdCAAAAl+ctd0IAAMD8OS53QgAAgGKMLndCAABAyN4ud0IAAAAuMS93QgAAwJODL3dCAACA+dUvd0I=\",\"dtype\":\"float64\",\"shape\":[127]},\"y\":[172,240,258,403,531,615,984,1254,1520,1820,2251,2612,3420,4189,5469,5791,7280,8725,9820,11685,13272,14649,16220,17713,19884,22264,25515,27206,28761,30703,32346,34889,37298,39415,41007,42161,43208,44773,46065,47520,49118,50455,51534,52325,53414,54802,56048,57592,59052,60314,61326,62153,63094,64135,65381,66236,66971,67931,69092,70165,71256,71969,72889,73479,74348,75134,75732,76469,77002,77528,78105,78605,79369,80089,80723,81225,81507,81871,82904,83298,83820,84119,84518,84844,85019,85481,85775,86091,86384,86825,87110,87258,87417,87801,88183,88537,88758,88968,89018,89205,89442,89526,89928,90070,90195,90389,90581,90680,90932,91204,91414,91658,91917,92060,92302,92518,92675,92840,92968,93111,93173,93261,93431,93587,93664,93761,93839]},\"selected\":{\"id\":\"1090\"},\"selection_policy\":{\"id\":\"1091\"}},\"id\":\"1060\",\"type\":\"ColumnDataSource\"},{\"attributes\":{\"text\":\"Total Cases & Total Positive: Lombardia\"},\"id\":\"1003\",\"type\":\"Title\"},{\"attributes\":{\"fill_color\":{\"value\":\"white\"},\"line_color\":{\"value\":\"blue\"},\"size\":{\"units\":\"screen\",\"value\":5},\"x\":{\"field\":\"x\"},\"y\":{\"field\":\"y\"}},\"id\":\"1061\",\"type\":\"Circle\"},{\"attributes\":{\"source\":{\"id\":\"1093\"}},\"id\":\"1097\",\"type\":\"CDSView\"},{\"attributes\":{\"fill_alpha\":{\"value\":0.1},\"fill_color\":{\"value\":\"white\"},\"line_alpha\":{\"value\":0.1},\"line_color\":{\"value\":\"blue\"},\"size\":{\"units\":\"screen\",\"value\":5},\"x\":{\"field\":\"x\"},\"y\":{\"field\":\"y\"}},\"id\":\"1062\",\"type\":\"Circle\"},{\"attributes\":{\"axis_label\":\"Date\",\"formatter\":{\"id\":\"1098\"},\"major_label_orientation\":0.7853981633974483,\"minor_tick_in\":-5,\"minor_tick_out\":-3,\"ticker\":{\"id\":\"1014\"}},\"id\":\"1013\",\"type\":\"DatetimeAxis\"},{\"attributes\":{\"line_color\":\"red\",\"line_width\":4,\"x\":{\"field\":\"x\"},\"y\":{\"field\":\"y\"}},\"id\":\"1066\",\"type\":\"Line\"},{\"attributes\":{\"data\":{\"x\":{\"__ndarray__\":\"AAAA5UcHd0IAAMBKmgd3QgAAgLDsB3dCAABAFj8Id0IAAAB8kQh3QgAAwOHjCHdCAACARzYJd0IAAECtiAl3QgAAABPbCXdCAADAeC0Kd0IAAIDefwp3QgAAQETSCndCAAAAqiQLd0IAAMAPdwt3QgAAgHXJC3dCAABA2xsMd0IAAABBbgx3QgAAwKbADHdCAACADBMNd0IAAEByZQ13QgAAANi3DXdCAADAPQoOd0IAAICjXA53QgAAQAmvDndCAAAAbwEPd0IAAMDUUw93QgAAgDqmD3dCAABAoPgPd0IAAAAGSxB3QgAAwGudEHdCAACA0e8Qd0IAAEA3QhF3QgAAAJ2UEXdCAADAAucRd0IAAIBoORJ3QgAAQM6LEndCAAAANN4Sd0IAAMCZMBN3QgAAgP+CE3dCAABAZdUTd0IAAADLJxR3QgAAwDB6FHdCAACAlswUd0IAAED8HhV3QgAAAGJxFXdCAADAx8MVd0IAAIAtFhZ3QgAAQJNoFndCAAAA+boWd0IAAMBeDRd3QgAAgMRfF3dCAABAKrIXd0IAAACQBBh3QgAAwPVWGHdCAACAW6kYd0IAAEDB+xh3QgAAACdOGXdCAADAjKAZd0IAAIDy8hl3QgAAQFhFGndCAAAAvpcad0IAAMAj6hp3QgAAgIk8G3dCAABA744bd0IAAABV4Rt3QgAAwLozHHdCAACAIIYcd0IAAECG2Bx3QgAAAOwqHXdCAADAUX0dd0IAAIC3zx13QgAAQB0iHndCAAAAg3Qed0IAAMDoxh53QgAAgE4ZH3dCAABAtGsfd0IAAAAavh93QgAAwH8QIHdCAACA5WIgd0IAAEBLtSB3QgAAALEHIXdCAADAFlohd0IAAIB8rCF3QgAAQOL+IXdCAAAASFEid0IAAMCtoyJ3QgAAgBP2IndCAABAeUgjd0IAAADfmiN3QgAAwETtI3dCAACAqj8kd0IAAEAQkiR3QgAAAHbkJHdCAADA2zYld0IAAIBBiSV3QgAAQKfbJXdCAAAADS4md0IAAMBygCZ3QgAAgNjSJndCAABAPiUnd0IAAACkdyd3QgAAwAnKJ3dCAACAbxwod0IAAEDVbih3QgAAADvBKHdCAADAoBMpd0IAAIAGZil3QgAAQGy4KXdCAAAA0goqd0IAAMA3XSp3QgAAgJ2vKndCAABAAwIrd0IAAABpVCt3QgAAwM6mK3dCAACANPkrd0IAAECaSyx3QgAAAACeLHdCAADAZfAsd0IAAIDLQi13QgAAQDGVLXdCAAAAl+ctd0IAAMD8OS53QgAAgGKMLndCAABAyN4ud0IAAAAuMS93QgAAwJODL3dCAACA+dUvd0I=\",\"dtype\":\"float64\",\"shape\":[127]},\"y\":[172,240,258,403,531,615,984,1254,1520,1820,2251,2612,3420,4189,5469,5791,7280,8725,9820,11685,13272,14649,16220,17713,19884,22264,25515,27206,28761,30703,32346,34889,37298,39415,41007,42161,43208,44773,46065,47520,49118,50455,51534,52325,53414,54802,56048,57592,59052,60314,61326,62153,63094,64135,65381,66236,66971,67931,69092,70165,71256,71969,72889,73479,74348,75134,75732,76469,77002,77528,78105,78605,79369,80089,80723,81225,81507,81871,82904,83298,83820,84119,84518,84844,85019,85481,85775,86091,86384,86825,87110,87258,87417,87801,88183,88537,88758,88968,89018,89205,89442,89526,89928,90070,90195,90389,90581,90680,90932,91204,91414,91658,91917,92060,92302,92518,92675,92840,92968,93111,93173,93261,93431,93587,93664,93761,93839]},\"selected\":{\"id\":\"1088\"},\"selection_policy\":{\"id\":\"1089\"}},\"id\":\"1035\",\"type\":\"ColumnDataSource\"},{\"attributes\":{\"line_alpha\":0.1,\"line_color\":\"red\",\"line_width\":4,\"x\":{\"field\":\"x\"},\"y\":{\"field\":\"y\"}},\"id\":\"1067\",\"type\":\"Line\"},{\"attributes\":{},\"id\":\"1021\",\"type\":\"PanTool\"},{\"attributes\":{\"callback\":null,\"formatters\":{\"@x\":\"datetime\"},\"mode\":\"vline\",\"tooltips\":[[\"date\",\"@x{%d %B}\"],[\"total cases OR total positive\",\"@y{0[.]000}\"]]},\"id\":\"1102\",\"type\":\"HoverTool\"}],\"root_ids\":[\"1002\"]},\"title\":\"Bokeh Application\",\"version\":\"2.0.2\"}};\n",
       "  var render_items = [{\"docid\":\"f32e9d92-72d3-4c22-9930-1cc5002d563e\",\"root_ids\":[\"1002\"],\"roots\":{\"1002\":\"42f62adb-3098-4cdf-bda7-724388ee97d1\"}}];\n",
       "  root.Bokeh.embed.embed_items_notebook(docs_json, render_items);\n",
       "\n",
       "  }\n",
       "  if (root.Bokeh !== undefined) {\n",
       "    embed_document(root);\n",
       "  } else {\n",
       "    var attempts = 0;\n",
       "    var timer = setInterval(function(root) {\n",
       "      if (root.Bokeh !== undefined) {\n",
       "        clearInterval(timer);\n",
       "        embed_document(root);\n",
       "      } else {\n",
       "        attempts++;\n",
       "        if (attempts > 100) {\n",
       "          clearInterval(timer);\n",
       "          console.log(\"Bokeh: ERROR: Unable to run BokehJS code because BokehJS library is missing\");\n",
       "        }\n",
       "      }\n",
       "    }, 10, root)\n",
       "  }\n",
       "})(window);"
      ],
      "application/vnd.bokehjs_exec.v0+json": ""
     },
     "metadata": {
      "application/vnd.bokehjs_exec.v0+json": {
       "id": "1002"
      }
     },
     "output_type": "display_data"
    }
   ],
   "source": [
    "p_total_cases_positive_Lombardia = bokeh_plot_N_lines(x=time_date_new, y_list=[total_cases_Lombardia,total_positive_Lombardia], \n",
    "                  title='Total Cases & Total Positive: Lombardia', \n",
    "                  dim=[600, 450], \n",
    "                  x_label='Date', \n",
    "                  y_label='Total Cases & Total Positive', legend_list=['total cases','total positive'],\n",
    "                  x_label_hover='date', y_label_hover='total cases OR total positive',\n",
    "                  color_list=['blue','red'],legend_location=\"top_left\")\n",
    "\n",
    "output_file(\"total_cases_positive_Lombardia.html\")\n",
    "\n",
    "show(p_total_cases_positive_Lombardia)"
   ]
  },
  {
   "cell_type": "markdown",
   "metadata": {},
   "source": [
    "------------------\n",
    "\n",
    "### Deaths"
   ]
  },
  {
   "cell_type": "code",
   "execution_count": 17,
   "metadata": {},
   "outputs": [
    {
     "data": {
      "text/plain": [
       "8      6\n",
       "29     9\n",
       "50     9\n",
       "71    14\n",
       "92    17\n",
       "Name: deceduti, dtype: int64"
      ]
     },
     "execution_count": 17,
     "metadata": {},
     "output_type": "execute_result"
    }
   ],
   "source": [
    "deceduti_Lombardia = df_Lombardia['deceduti']\n",
    "deceduti_Lombardia.head()"
   ]
  },
  {
   "cell_type": "markdown",
   "metadata": {},
   "source": [
    "------------------\n",
    "\n",
    "### Recovered"
   ]
  },
  {
   "cell_type": "code",
   "execution_count": 18,
   "metadata": {},
   "outputs": [
    {
     "data": {
      "text/plain": [
       "8      0\n",
       "29     0\n",
       "50     0\n",
       "71    40\n",
       "92    40\n",
       "Name: dimessi_guariti, dtype: int64"
      ]
     },
     "execution_count": 18,
     "metadata": {},
     "output_type": "execute_result"
    }
   ],
   "source": [
    "guariti_Lombardia = df_Lombardia['dimessi_guariti']\n",
    "guariti_Lombardia.head()"
   ]
  },
  {
   "cell_type": "code",
   "execution_count": 19,
   "metadata": {},
   "outputs": [
    {
     "data": {
      "text/html": [
       "\n",
       "\n",
       "\n",
       "\n",
       "\n",
       "\n",
       "  <div class=\"bk-root\" id=\"ccb141c3-3374-4e5e-b6cb-4ffd4ced1657\" data-root-id=\"1537\"></div>\n"
      ]
     },
     "metadata": {},
     "output_type": "display_data"
    },
    {
     "data": {
      "application/javascript": [
       "(function(root) {\n",
       "  function embed_document(root) {\n",
       "    \n",
       "  var docs_json = {\"991aa8e1-4319-4a6f-b384-73d22a6e6ab1\":{\"roots\":{\"references\":[{\"attributes\":{\"below\":[{\"id\":\"1548\"}],\"center\":[{\"id\":\"1551\"},{\"id\":\"1555\"},{\"id\":\"1593\"}],\"left\":[{\"id\":\"1552\"}],\"plot_height\":450,\"renderers\":[{\"id\":\"1573\"},{\"id\":\"1598\"},{\"id\":\"1603\"},{\"id\":\"1631\"}],\"title\":{\"id\":\"1538\"},\"toolbar\":{\"id\":\"1563\"},\"x_range\":{\"id\":\"1540\"},\"x_scale\":{\"id\":\"1544\"},\"y_range\":{\"id\":\"1542\"},\"y_scale\":{\"id\":\"1546\"}},\"id\":\"1537\",\"subtype\":\"Figure\",\"type\":\"Plot\"},{\"attributes\":{},\"id\":\"1559\",\"type\":\"SaveTool\"},{\"attributes\":{\"fill_color\":{\"value\":\"white\"},\"line_color\":{\"value\":\"green\"},\"size\":{\"units\":\"screen\",\"value\":5},\"x\":{\"field\":\"x\"},\"y\":{\"field\":\"y\"}},\"id\":\"1629\",\"type\":\"Circle\"},{\"attributes\":{},\"id\":\"1685\",\"type\":\"Selection\"},{\"attributes\":{},\"id\":\"1544\",\"type\":\"LinearScale\"},{\"attributes\":{\"data\":{\"x\":{\"__ndarray__\":\"AAAA5UcHd0IAAMBKmgd3QgAAgLDsB3dCAABAFj8Id0IAAAB8kQh3QgAAwOHjCHdCAACARzYJd0IAAECtiAl3QgAAABPbCXdCAADAeC0Kd0IAAIDefwp3QgAAQETSCndCAAAAqiQLd0IAAMAPdwt3QgAAgHXJC3dCAABA2xsMd0IAAABBbgx3QgAAwKbADHdCAACADBMNd0IAAEByZQ13QgAAANi3DXdCAADAPQoOd0IAAICjXA53QgAAQAmvDndCAAAAbwEPd0IAAMDUUw93QgAAgDqmD3dCAABAoPgPd0IAAAAGSxB3QgAAwGudEHdCAACA0e8Qd0IAAEA3QhF3QgAAAJ2UEXdCAADAAucRd0IAAIBoORJ3QgAAQM6LEndCAAAANN4Sd0IAAMCZMBN3QgAAgP+CE3dCAABAZdUTd0IAAADLJxR3QgAAwDB6FHdCAACAlswUd0IAAED8HhV3QgAAAGJxFXdCAADAx8MVd0IAAIAtFhZ3QgAAQJNoFndCAAAA+boWd0IAAMBeDRd3QgAAgMRfF3dCAABAKrIXd0IAAACQBBh3QgAAwPVWGHdCAACAW6kYd0IAAEDB+xh3QgAAACdOGXdCAADAjKAZd0IAAIDy8hl3QgAAQFhFGndCAAAAvpcad0IAAMAj6hp3QgAAgIk8G3dCAABA744bd0IAAABV4Rt3QgAAwLozHHdCAACAIIYcd0IAAECG2Bx3QgAAAOwqHXdCAADAUX0dd0IAAIC3zx13QgAAQB0iHndCAAAAg3Qed0IAAMDoxh53QgAAgE4ZH3dCAABAtGsfd0IAAAAavh93QgAAwH8QIHdCAACA5WIgd0IAAEBLtSB3QgAAALEHIXdCAADAFlohd0IAAIB8rCF3QgAAQOL+IXdCAAAASFEid0IAAMCtoyJ3QgAAgBP2IndCAABAeUgjd0IAAADfmiN3QgAAwETtI3dCAACAqj8kd0IAAEAQkiR3QgAAAHbkJHdCAADA2zYld0IAAIBBiSV3QgAAQKfbJXdCAAAADS4md0IAAMBygCZ3QgAAgNjSJndCAABAPiUnd0IAAACkdyd3QgAAwAnKJ3dCAACAbxwod0IAAEDVbih3QgAAADvBKHdCAADAoBMpd0IAAIAGZil3QgAAQGy4KXdCAAAA0goqd0IAAMA3XSp3QgAAgJ2vKndCAABAAwIrd0IAAABpVCt3QgAAwM6mK3dCAACANPkrd0IAAECaSyx3QgAAAACeLHdCAADAZfAsd0IAAIDLQi13QgAAQDGVLXdCAAAAl+ctd0IAAMD8OS53QgAAgGKMLndCAABAyN4ud0IAAAAuMS93QgAAwJODL3dCAACA+dUvd0I=\",\"dtype\":\"float64\",\"shape\":[127]},\"y\":[0,0,0,40,40,40,73,139,139,250,376,469,524,550,646,896,900,1085,1198,1660,2011,2368,2485,3488,3778,4295,5050,5865,6075,6657,7281,7839,8001,8962,9255,10337,10885,11415,12229,13020,13242,13426,13863,14498,15147,15706,16280,16823,17166,17478,17821,17855,18396,18850,19136,19526,20008,21374,22110,23352,23782,24227,24398,24589,25029,25333,25749,26136,26146,26371,26504,27124,33005,33329,33901,36039,36331,36406,37113,38081,38568,40962,41389,41895,42403,42593,43442,43649,44667,45355,45656,46169,47044,47810,49296,49842,50870,51860,52026,52807,53046,53101,53853,54322,54505,54768,55967,56474,57218,57775,58201,59220,59484,60361,60850,61355,62096,62372,62555,62900,63691,64448,64831,65323,66046,66175,66376]},\"selected\":{\"id\":\"1683\"},\"selection_policy\":{\"id\":\"1684\"}},\"id\":\"1600\",\"type\":\"ColumnDataSource\"},{\"attributes\":{},\"id\":\"1625\",\"type\":\"Selection\"},{\"attributes\":{},\"id\":\"1683\",\"type\":\"Selection\"},{\"attributes\":{},\"id\":\"1560\",\"type\":\"ResetTool\"},{\"attributes\":{\"days\":[\"%d %B\"]},\"id\":\"1633\",\"type\":\"DatetimeTickFormatter\"},{\"attributes\":{\"data_source\":{\"id\":\"1600\"},\"glyph\":{\"id\":\"1601\"},\"hover_glyph\":null,\"muted_glyph\":null,\"nonselection_glyph\":{\"id\":\"1602\"},\"selection_glyph\":null,\"view\":{\"id\":\"1604\"}},\"id\":\"1603\",\"type\":\"GlyphRenderer\"},{\"attributes\":{},\"id\":\"1561\",\"type\":\"HelpTool\"},{\"attributes\":{},\"id\":\"1624\",\"type\":\"UnionRenderers\"},{\"attributes\":{},\"id\":\"1684\",\"type\":\"UnionRenderers\"},{\"attributes\":{},\"id\":\"1546\",\"type\":\"LinearScale\"},{\"attributes\":{\"axis\":{\"id\":\"1552\"},\"dimension\":1,\"ticker\":null},\"id\":\"1555\",\"type\":\"Grid\"},{\"attributes\":{},\"id\":\"1626\",\"type\":\"UnionRenderers\"},{\"attributes\":{\"axis_label\":\"Date\",\"formatter\":{\"id\":\"1633\"},\"major_label_orientation\":0.7853981633974483,\"minor_tick_in\":-5,\"minor_tick_out\":-3,\"ticker\":{\"id\":\"1549\"}},\"id\":\"1548\",\"type\":\"DatetimeAxis\"},{\"attributes\":{},\"id\":\"1686\",\"type\":\"UnionRenderers\"},{\"attributes\":{\"label\":{\"value\":\"recovered\"},\"renderers\":[{\"id\":\"1603\"}]},\"id\":\"1627\",\"type\":\"LegendItem\"},{\"attributes\":{\"num_minor_ticks\":5,\"tickers\":[{\"id\":\"1581\"},{\"id\":\"1582\"},{\"id\":\"1583\"},{\"id\":\"1584\"},{\"id\":\"1585\"},{\"id\":\"1586\"},{\"id\":\"1587\"},{\"id\":\"1588\"},{\"id\":\"1589\"},{\"id\":\"1590\"},{\"id\":\"1591\"},{\"id\":\"1592\"}]},\"id\":\"1549\",\"type\":\"DatetimeTicker\"},{\"attributes\":{\"fill_alpha\":{\"value\":0.1},\"fill_color\":{\"value\":\"white\"},\"line_alpha\":{\"value\":0.1},\"line_color\":{\"value\":\"green\"},\"size\":{\"units\":\"screen\",\"value\":5},\"x\":{\"field\":\"x\"},\"y\":{\"field\":\"y\"}},\"id\":\"1630\",\"type\":\"Circle\"},{\"attributes\":{},\"id\":\"1553\",\"type\":\"BasicTicker\"},{\"attributes\":{\"line_alpha\":0.1,\"line_color\":\"green\",\"line_width\":4,\"x\":{\"field\":\"x\"},\"y\":{\"field\":\"y\"}},\"id\":\"1602\",\"type\":\"Line\"},{\"attributes\":{\"axis\":{\"id\":\"1548\"},\"ticker\":null},\"id\":\"1551\",\"type\":\"Grid\"},{\"attributes\":{\"data_source\":{\"id\":\"1628\"},\"glyph\":{\"id\":\"1629\"},\"hover_glyph\":null,\"muted_glyph\":null,\"nonselection_glyph\":{\"id\":\"1630\"},\"selection_glyph\":null,\"view\":{\"id\":\"1632\"}},\"id\":\"1631\",\"type\":\"GlyphRenderer\"},{\"attributes\":{\"days\":[1,2,3,4,5,6,7,8,9,10,11,12,13,14,15,16,17,18,19,20,21,22,23,24,25,26,27,28,29,30,31]},\"id\":\"1584\",\"type\":\"DaysTicker\"},{\"attributes\":{\"days\":[1,8,15,22]},\"id\":\"1586\",\"type\":\"DaysTicker\"},{\"attributes\":{\"data\":{\"x\":{\"__ndarray__\":\"AAAA5UcHd0IAAMBKmgd3QgAAgLDsB3dCAABAFj8Id0IAAAB8kQh3QgAAwOHjCHdCAACARzYJd0IAAECtiAl3QgAAABPbCXdCAADAeC0Kd0IAAIDefwp3QgAAQETSCndCAAAAqiQLd0IAAMAPdwt3QgAAgHXJC3dCAABA2xsMd0IAAABBbgx3QgAAwKbADHdCAACADBMNd0IAAEByZQ13QgAAANi3DXdCAADAPQoOd0IAAICjXA53QgAAQAmvDndCAAAAbwEPd0IAAMDUUw93QgAAgDqmD3dCAABAoPgPd0IAAAAGSxB3QgAAwGudEHdCAACA0e8Qd0IAAEA3QhF3QgAAAJ2UEXdCAADAAucRd0IAAIBoORJ3QgAAQM6LEndCAAAANN4Sd0IAAMCZMBN3QgAAgP+CE3dCAABAZdUTd0IAAADLJxR3QgAAwDB6FHdCAACAlswUd0IAAED8HhV3QgAAAGJxFXdCAADAx8MVd0IAAIAtFhZ3QgAAQJNoFndCAAAA+boWd0IAAMBeDRd3QgAAgMRfF3dCAABAKrIXd0IAAACQBBh3QgAAwPVWGHdCAACAW6kYd0IAAEDB+xh3QgAAACdOGXdCAADAjKAZd0IAAIDy8hl3QgAAQFhFGndCAAAAvpcad0IAAMAj6hp3QgAAgIk8G3dCAABA744bd0IAAABV4Rt3QgAAwLozHHdCAACAIIYcd0IAAECG2Bx3QgAAAOwqHXdCAADAUX0dd0IAAIC3zx13QgAAQB0iHndCAAAAg3Qed0IAAMDoxh53QgAAgE4ZH3dCAABAtGsfd0IAAAAavh93QgAAwH8QIHdCAACA5WIgd0IAAEBLtSB3QgAAALEHIXdCAADAFlohd0IAAIB8rCF3QgAAQOL+IXdCAAAASFEid0IAAMCtoyJ3QgAAgBP2IndCAABAeUgjd0IAAADfmiN3QgAAwETtI3dCAACAqj8kd0IAAEAQkiR3QgAAAHbkJHdCAADA2zYld0IAAIBBiSV3QgAAQKfbJXdCAAAADS4md0IAAMBygCZ3QgAAgNjSJndCAABAPiUnd0IAAACkdyd3QgAAwAnKJ3dCAACAbxwod0IAAEDVbih3QgAAADvBKHdCAADAoBMpd0IAAIAGZil3QgAAQGy4KXdCAAAA0goqd0IAAMA3XSp3QgAAgJ2vKndCAABAAwIrd0IAAABpVCt3QgAAwM6mK3dCAACANPkrd0IAAECaSyx3QgAAAACeLHdCAADAZfAsd0IAAIDLQi13QgAAQDGVLXdCAAAAl+ctd0IAAMD8OS53QgAAgGKMLndCAABAyN4ud0IAAAAuMS93QgAAwJODL3dCAACA+dUvd0I=\",\"dtype\":\"float64\",\"shape\":[127]},\"y\":[0,0,0,40,40,40,73,139,139,250,376,469,524,550,646,896,900,1085,1198,1660,2011,2368,2485,3488,3778,4295,5050,5865,6075,6657,7281,7839,8001,8962,9255,10337,10885,11415,12229,13020,13242,13426,13863,14498,15147,15706,16280,16823,17166,17478,17821,17855,18396,18850,19136,19526,20008,21374,22110,23352,23782,24227,24398,24589,25029,25333,25749,26136,26146,26371,26504,27124,33005,33329,33901,36039,36331,36406,37113,38081,38568,40962,41389,41895,42403,42593,43442,43649,44667,45355,45656,46169,47044,47810,49296,49842,50870,51860,52026,52807,53046,53101,53853,54322,54505,54768,55967,56474,57218,57775,58201,59220,59484,60361,60850,61355,62096,62372,62555,62900,63691,64448,64831,65323,66046,66175,66376]},\"selected\":{\"id\":\"1685\"},\"selection_policy\":{\"id\":\"1686\"}},\"id\":\"1628\",\"type\":\"ColumnDataSource\"},{\"attributes\":{\"axis_label\":\"Deaths & Recovered\",\"formatter\":{\"id\":\"1635\"},\"minor_tick_in\":-5,\"minor_tick_out\":-3,\"ticker\":{\"id\":\"1553\"}},\"id\":\"1552\",\"type\":\"LinearAxis\"},{\"attributes\":{\"label\":{\"value\":\"deaths\"},\"renderers\":[{\"id\":\"1573\"}]},\"id\":\"1594\",\"type\":\"LegendItem\"},{\"attributes\":{\"line_color\":\"green\",\"line_width\":4,\"x\":{\"field\":\"x\"},\"y\":{\"field\":\"y\"}},\"id\":\"1601\",\"type\":\"Line\"},{\"attributes\":{\"base\":24,\"mantissas\":[1,2,4,6,8,12],\"max_interval\":43200000.0,\"min_interval\":3600000.0,\"num_minor_ticks\":0},\"id\":\"1583\",\"type\":\"AdaptiveTicker\"},{\"attributes\":{\"use_scientific\":false},\"id\":\"1635\",\"type\":\"BasicTickFormatter\"},{\"attributes\":{\"base\":60,\"mantissas\":[1,2,5,10,15,20,30],\"max_interval\":1800000.0,\"min_interval\":1000.0,\"num_minor_ticks\":0},\"id\":\"1582\",\"type\":\"AdaptiveTicker\"},{\"attributes\":{\"months\":[0,4,8]},\"id\":\"1590\",\"type\":\"MonthsTicker\"},{\"attributes\":{\"months\":[0,6]},\"id\":\"1591\",\"type\":\"MonthsTicker\"},{\"attributes\":{\"source\":{\"id\":\"1595\"}},\"id\":\"1599\",\"type\":\"CDSView\"},{\"attributes\":{\"days\":[1,4,7,10,13,16,19,22,25,28]},\"id\":\"1585\",\"type\":\"DaysTicker\"},{\"attributes\":{\"items\":[{\"id\":\"1594\"},{\"id\":\"1627\"}],\"location\":\"top_left\"},\"id\":\"1593\",\"type\":\"Legend\"},{\"attributes\":{},\"id\":\"1542\",\"type\":\"DataRange1d\"},{\"attributes\":{\"source\":{\"id\":\"1600\"}},\"id\":\"1604\",\"type\":\"CDSView\"},{\"attributes\":{\"source\":{\"id\":\"1628\"}},\"id\":\"1632\",\"type\":\"CDSView\"},{\"attributes\":{\"source\":{\"id\":\"1570\"}},\"id\":\"1574\",\"type\":\"CDSView\"},{\"attributes\":{\"mantissas\":[1,2,5],\"max_interval\":500.0,\"num_minor_ticks\":0},\"id\":\"1581\",\"type\":\"AdaptiveTicker\"},{\"attributes\":{\"days\":[1,15]},\"id\":\"1587\",\"type\":\"DaysTicker\"},{\"attributes\":{},\"id\":\"1623\",\"type\":\"Selection\"},{\"attributes\":{\"line_color\":\"darkviolet\",\"line_width\":4,\"x\":{\"field\":\"x\"},\"y\":{\"field\":\"y\"}},\"id\":\"1571\",\"type\":\"Line\"},{\"attributes\":{\"line_alpha\":0.1,\"line_color\":\"darkviolet\",\"line_width\":4,\"x\":{\"field\":\"x\"},\"y\":{\"field\":\"y\"}},\"id\":\"1572\",\"type\":\"Line\"},{\"attributes\":{\"active_drag\":\"auto\",\"active_inspect\":\"auto\",\"active_multi\":null,\"active_scroll\":\"auto\",\"active_tap\":\"auto\",\"tools\":[{\"id\":\"1556\"},{\"id\":\"1557\"},{\"id\":\"1558\"},{\"id\":\"1559\"},{\"id\":\"1560\"},{\"id\":\"1561\"},{\"id\":\"1637\"}]},\"id\":\"1563\",\"type\":\"Toolbar\"},{\"attributes\":{\"months\":[0,1,2,3,4,5,6,7,8,9,10,11]},\"id\":\"1588\",\"type\":\"MonthsTicker\"},{\"attributes\":{\"data_source\":{\"id\":\"1595\"},\"glyph\":{\"id\":\"1596\"},\"hover_glyph\":null,\"muted_glyph\":null,\"nonselection_glyph\":{\"id\":\"1597\"},\"selection_glyph\":null,\"view\":{\"id\":\"1599\"}},\"id\":\"1598\",\"type\":\"GlyphRenderer\"},{\"attributes\":{\"data\":{\"x\":{\"__ndarray__\":\"AAAA5UcHd0IAAMBKmgd3QgAAgLDsB3dCAABAFj8Id0IAAAB8kQh3QgAAwOHjCHdCAACARzYJd0IAAECtiAl3QgAAABPbCXdCAADAeC0Kd0IAAIDefwp3QgAAQETSCndCAAAAqiQLd0IAAMAPdwt3QgAAgHXJC3dCAABA2xsMd0IAAABBbgx3QgAAwKbADHdCAACADBMNd0IAAEByZQ13QgAAANi3DXdCAADAPQoOd0IAAICjXA53QgAAQAmvDndCAAAAbwEPd0IAAMDUUw93QgAAgDqmD3dCAABAoPgPd0IAAAAGSxB3QgAAwGudEHdCAACA0e8Qd0IAAEA3QhF3QgAAAJ2UEXdCAADAAucRd0IAAIBoORJ3QgAAQM6LEndCAAAANN4Sd0IAAMCZMBN3QgAAgP+CE3dCAABAZdUTd0IAAADLJxR3QgAAwDB6FHdCAACAlswUd0IAAED8HhV3QgAAAGJxFXdCAADAx8MVd0IAAIAtFhZ3QgAAQJNoFndCAAAA+boWd0IAAMBeDRd3QgAAgMRfF3dCAABAKrIXd0IAAACQBBh3QgAAwPVWGHdCAACAW6kYd0IAAEDB+xh3QgAAACdOGXdCAADAjKAZd0IAAIDy8hl3QgAAQFhFGndCAAAAvpcad0IAAMAj6hp3QgAAgIk8G3dCAABA744bd0IAAABV4Rt3QgAAwLozHHdCAACAIIYcd0IAAECG2Bx3QgAAAOwqHXdCAADAUX0dd0IAAIC3zx13QgAAQB0iHndCAAAAg3Qed0IAAMDoxh53QgAAgE4ZH3dCAABAtGsfd0IAAAAavh93QgAAwH8QIHdCAACA5WIgd0IAAEBLtSB3QgAAALEHIXdCAADAFlohd0IAAIB8rCF3QgAAQOL+IXdCAAAASFEid0IAAMCtoyJ3QgAAgBP2IndCAABAeUgjd0IAAADfmiN3QgAAwETtI3dCAACAqj8kd0IAAEAQkiR3QgAAAHbkJHdCAADA2zYld0IAAIBBiSV3QgAAQKfbJXdCAAAADS4md0IAAMBygCZ3QgAAgNjSJndCAABAPiUnd0IAAACkdyd3QgAAwAnKJ3dCAACAbxwod0IAAEDVbih3QgAAADvBKHdCAADAoBMpd0IAAIAGZil3QgAAQGy4KXdCAAAA0goqd0IAAMA3XSp3QgAAgJ2vKndCAABAAwIrd0IAAABpVCt3QgAAwM6mK3dCAACANPkrd0IAAECaSyx3QgAAAACeLHdCAADAZfAsd0IAAIDLQi13QgAAQDGVLXdCAAAAl+ctd0IAAMD8OS53QgAAgGKMLndCAABAyN4ud0IAAAAuMS93QgAAwJODL3dCAACA+dUvd0I=\",\"dtype\":\"float64\",\"shape\":[127]},\"y\":[6,9,9,14,17,23,24,38,55,73,98,135,154,267,333,468,617,744,890,966,1218,1420,1640,1959,2168,2549,3095,3456,3776,4178,4474,4861,5402,5944,6360,6818,7199,7593,7960,8311,8656,8905,9202,9484,9722,10022,10238,10511,10621,10901,11142,11377,11608,11851,12050,12213,12376,12579,12740,12940,13106,13269,13325,13449,13575,13679,13772,13860,14189,14231,14294,14389,14611,14745,14839,14924,14986,15054,15116,15185,15296,15411,15450,15519,15543,15597,15662,15727,15784,15840,15840,15874,15896,15954,15974,16012,16079,16112,16131,16143,16172,16201,16222,16249,16270,16302,16317,16349,16374,16405,16428,16449,16457,16466,16480,16516,16534,16557,16570,16573,16579,16586,16608,16624,16626,16639,16640]},\"selected\":{\"id\":\"1623\"},\"selection_policy\":{\"id\":\"1624\"}},\"id\":\"1570\",\"type\":\"ColumnDataSource\"},{\"attributes\":{},\"id\":\"1592\",\"type\":\"YearsTicker\"},{\"attributes\":{\"data_source\":{\"id\":\"1570\"},\"glyph\":{\"id\":\"1571\"},\"hover_glyph\":null,\"muted_glyph\":null,\"nonselection_glyph\":{\"id\":\"1572\"},\"selection_glyph\":null,\"view\":{\"id\":\"1574\"}},\"id\":\"1573\",\"type\":\"GlyphRenderer\"},{\"attributes\":{\"text\":\"Deaths & Recovered: Lombardia\"},\"id\":\"1538\",\"type\":\"Title\"},{\"attributes\":{},\"id\":\"1556\",\"type\":\"PanTool\"},{\"attributes\":{\"callback\":null,\"formatters\":{\"@x\":\"datetime\"},\"mode\":\"vline\",\"tooltips\":[[\"date\",\"@x{%d %B}\"],[\"deaths OR recovered\",\"@y{0[.]000}\"]]},\"id\":\"1637\",\"type\":\"HoverTool\"},{\"attributes\":{\"data\":{\"x\":{\"__ndarray__\":\"AAAA5UcHd0IAAMBKmgd3QgAAgLDsB3dCAABAFj8Id0IAAAB8kQh3QgAAwOHjCHdCAACARzYJd0IAAECtiAl3QgAAABPbCXdCAADAeC0Kd0IAAIDefwp3QgAAQETSCndCAAAAqiQLd0IAAMAPdwt3QgAAgHXJC3dCAABA2xsMd0IAAABBbgx3QgAAwKbADHdCAACADBMNd0IAAEByZQ13QgAAANi3DXdCAADAPQoOd0IAAICjXA53QgAAQAmvDndCAAAAbwEPd0IAAMDUUw93QgAAgDqmD3dCAABAoPgPd0IAAAAGSxB3QgAAwGudEHdCAACA0e8Qd0IAAEA3QhF3QgAAAJ2UEXdCAADAAucRd0IAAIBoORJ3QgAAQM6LEndCAAAANN4Sd0IAAMCZMBN3QgAAgP+CE3dCAABAZdUTd0IAAADLJxR3QgAAwDB6FHdCAACAlswUd0IAAED8HhV3QgAAAGJxFXdCAADAx8MVd0IAAIAtFhZ3QgAAQJNoFndCAAAA+boWd0IAAMBeDRd3QgAAgMRfF3dCAABAKrIXd0IAAACQBBh3QgAAwPVWGHdCAACAW6kYd0IAAEDB+xh3QgAAACdOGXdCAADAjKAZd0IAAIDy8hl3QgAAQFhFGndCAAAAvpcad0IAAMAj6hp3QgAAgIk8G3dCAABA744bd0IAAABV4Rt3QgAAwLozHHdCAACAIIYcd0IAAECG2Bx3QgAAAOwqHXdCAADAUX0dd0IAAIC3zx13QgAAQB0iHndCAAAAg3Qed0IAAMDoxh53QgAAgE4ZH3dCAABAtGsfd0IAAAAavh93QgAAwH8QIHdCAACA5WIgd0IAAEBLtSB3QgAAALEHIXdCAADAFlohd0IAAIB8rCF3QgAAQOL+IXdCAAAASFEid0IAAMCtoyJ3QgAAgBP2IndCAABAeUgjd0IAAADfmiN3QgAAwETtI3dCAACAqj8kd0IAAEAQkiR3QgAAAHbkJHdCAADA2zYld0IAAIBBiSV3QgAAQKfbJXdCAAAADS4md0IAAMBygCZ3QgAAgNjSJndCAABAPiUnd0IAAACkdyd3QgAAwAnKJ3dCAACAbxwod0IAAEDVbih3QgAAADvBKHdCAADAoBMpd0IAAIAGZil3QgAAQGy4KXdCAAAA0goqd0IAAMA3XSp3QgAAgJ2vKndCAABAAwIrd0IAAABpVCt3QgAAwM6mK3dCAACANPkrd0IAAECaSyx3QgAAAACeLHdCAADAZfAsd0IAAIDLQi13QgAAQDGVLXdCAAAAl+ctd0IAAMD8OS53QgAAgGKMLndCAABAyN4ud0IAAAAuMS93QgAAwJODL3dCAACA+dUvd0I=\",\"dtype\":\"float64\",\"shape\":[127]},\"y\":[6,9,9,14,17,23,24,38,55,73,98,135,154,267,333,468,617,744,890,966,1218,1420,1640,1959,2168,2549,3095,3456,3776,4178,4474,4861,5402,5944,6360,6818,7199,7593,7960,8311,8656,8905,9202,9484,9722,10022,10238,10511,10621,10901,11142,11377,11608,11851,12050,12213,12376,12579,12740,12940,13106,13269,13325,13449,13575,13679,13772,13860,14189,14231,14294,14389,14611,14745,14839,14924,14986,15054,15116,15185,15296,15411,15450,15519,15543,15597,15662,15727,15784,15840,15840,15874,15896,15954,15974,16012,16079,16112,16131,16143,16172,16201,16222,16249,16270,16302,16317,16349,16374,16405,16428,16449,16457,16466,16480,16516,16534,16557,16570,16573,16579,16586,16608,16624,16626,16639,16640]},\"selected\":{\"id\":\"1625\"},\"selection_policy\":{\"id\":\"1626\"}},\"id\":\"1595\",\"type\":\"ColumnDataSource\"},{\"attributes\":{\"months\":[0,2,4,6,8,10]},\"id\":\"1589\",\"type\":\"MonthsTicker\"},{\"attributes\":{},\"id\":\"1540\",\"type\":\"DataRange1d\"},{\"attributes\":{},\"id\":\"1557\",\"type\":\"WheelZoomTool\"},{\"attributes\":{\"fill_alpha\":{\"value\":0.1},\"fill_color\":{\"value\":\"white\"},\"line_alpha\":{\"value\":0.1},\"line_color\":{\"value\":\"darkviolet\"},\"size\":{\"units\":\"screen\",\"value\":5},\"x\":{\"field\":\"x\"},\"y\":{\"field\":\"y\"}},\"id\":\"1597\",\"type\":\"Circle\"},{\"attributes\":{\"bottom_units\":\"screen\",\"fill_alpha\":0.5,\"fill_color\":\"lightgrey\",\"left_units\":\"screen\",\"level\":\"overlay\",\"line_alpha\":1.0,\"line_color\":\"black\",\"line_dash\":[4,4],\"line_width\":2,\"render_mode\":\"css\",\"right_units\":\"screen\",\"top_units\":\"screen\"},\"id\":\"1562\",\"type\":\"BoxAnnotation\"},{\"attributes\":{\"overlay\":{\"id\":\"1562\"}},\"id\":\"1558\",\"type\":\"BoxZoomTool\"},{\"attributes\":{\"fill_color\":{\"value\":\"white\"},\"line_color\":{\"value\":\"darkviolet\"},\"size\":{\"units\":\"screen\",\"value\":5},\"x\":{\"field\":\"x\"},\"y\":{\"field\":\"y\"}},\"id\":\"1596\",\"type\":\"Circle\"}],\"root_ids\":[\"1537\"]},\"title\":\"Bokeh Application\",\"version\":\"2.0.2\"}};\n",
       "  var render_items = [{\"docid\":\"991aa8e1-4319-4a6f-b384-73d22a6e6ab1\",\"root_ids\":[\"1537\"],\"roots\":{\"1537\":\"ccb141c3-3374-4e5e-b6cb-4ffd4ced1657\"}}];\n",
       "  root.Bokeh.embed.embed_items_notebook(docs_json, render_items);\n",
       "\n",
       "  }\n",
       "  if (root.Bokeh !== undefined) {\n",
       "    embed_document(root);\n",
       "  } else {\n",
       "    var attempts = 0;\n",
       "    var timer = setInterval(function(root) {\n",
       "      if (root.Bokeh !== undefined) {\n",
       "        clearInterval(timer);\n",
       "        embed_document(root);\n",
       "      } else {\n",
       "        attempts++;\n",
       "        if (attempts > 100) {\n",
       "          clearInterval(timer);\n",
       "          console.log(\"Bokeh: ERROR: Unable to run BokehJS code because BokehJS library is missing\");\n",
       "        }\n",
       "      }\n",
       "    }, 10, root)\n",
       "  }\n",
       "})(window);"
      ],
      "application/vnd.bokehjs_exec.v0+json": ""
     },
     "metadata": {
      "application/vnd.bokehjs_exec.v0+json": {
       "id": "1537"
      }
     },
     "output_type": "display_data"
    }
   ],
   "source": [
    "p_deaths_recovered_Lombardia = bokeh_plot_N_lines(x=time_date_new, y_list=[deceduti_Lombardia,guariti_Lombardia], \n",
    "                  title='Deaths & Recovered: Lombardia', \n",
    "                  dim=[600, 450], \n",
    "                  x_label='Date', \n",
    "                  y_label='Deaths & Recovered', legend_list=['deaths','recovered'],\n",
    "                  x_label_hover='date', y_label_hover='deaths OR recovered',\n",
    "                  color_list=['darkviolet','green'],legend_location=\"top_left\")\n",
    "\n",
    "output_file(\"deaths_recovered_Lombardia.html\")\n",
    "\n",
    "show(p_deaths_recovered_Lombardia)"
   ]
  },
  {
   "cell_type": "markdown",
   "metadata": {},
   "source": [
    "------------------\n",
    "\n",
    "### New Positive"
   ]
  },
  {
   "cell_type": "code",
   "execution_count": 20,
   "metadata": {},
   "outputs": [
    {
     "data": {
      "text/plain": [
       "8     166\n",
       "29     68\n",
       "50     18\n",
       "71    145\n",
       "92    128\n",
       "Name: nuovi_positivi, dtype: int64"
      ]
     },
     "execution_count": 20,
     "metadata": {},
     "output_type": "execute_result"
    }
   ],
   "source": [
    "nuovi_positivi_Lombardia = df_Lombardia['nuovi_positivi']\n",
    "nuovi_positivi_Lombardia.head()"
   ]
  },
  {
   "cell_type": "code",
   "execution_count": 21,
   "metadata": {},
   "outputs": [
    {
     "data": {
      "text/html": [
       "<div>\n",
       "<style scoped>\n",
       "    .dataframe tbody tr th:only-of-type {\n",
       "        vertical-align: middle;\n",
       "    }\n",
       "\n",
       "    .dataframe tbody tr th {\n",
       "        vertical-align: top;\n",
       "    }\n",
       "\n",
       "    .dataframe thead th {\n",
       "        text-align: right;\n",
       "    }\n",
       "</style>\n",
       "<table border=\"1\" class=\"dataframe\">\n",
       "  <thead>\n",
       "    <tr style=\"text-align: right;\">\n",
       "      <th></th>\n",
       "      <th>nuovi_positivi</th>\n",
       "    </tr>\n",
       "  </thead>\n",
       "  <tbody>\n",
       "    <tr>\n",
       "      <th>8</th>\n",
       "      <td>NaN</td>\n",
       "    </tr>\n",
       "    <tr>\n",
       "      <th>29</th>\n",
       "      <td>NaN</td>\n",
       "    </tr>\n",
       "    <tr>\n",
       "      <th>50</th>\n",
       "      <td>NaN</td>\n",
       "    </tr>\n",
       "    <tr>\n",
       "      <th>71</th>\n",
       "      <td>NaN</td>\n",
       "    </tr>\n",
       "    <tr>\n",
       "      <th>92</th>\n",
       "      <td>NaN</td>\n",
       "    </tr>\n",
       "  </tbody>\n",
       "</table>\n",
       "</div>"
      ],
      "text/plain": [
       "    nuovi_positivi\n",
       "8              NaN\n",
       "29             NaN\n",
       "50             NaN\n",
       "71             NaN\n",
       "92             NaN"
      ]
     },
     "execution_count": 21,
     "metadata": {},
     "output_type": "execute_result"
    }
   ],
   "source": [
    "new_positive_Lombardia_df = pd.DataFrame(nuovi_positivi_Lombardia)\n",
    "\n",
    "SMA_new_positive_Lombardia = new_positive_Lombardia_df[:].rolling(window=7).mean()\n",
    "SMA_new_positive_Lombardia_2 = new_positive_Lombardia_df[:].rolling(window=14).mean()\n",
    "SMA_new_positive_Lombardia.head()"
   ]
  },
  {
   "cell_type": "code",
   "execution_count": 22,
   "metadata": {},
   "outputs": [
    {
     "data": {
      "text/html": [
       "\n",
       "\n",
       "\n",
       "\n",
       "\n",
       "\n",
       "  <div class=\"bk-root\" id=\"df206c65-4dfc-478c-bd78-5f9e0c6fb13b\" data-root-id=\"2144\"></div>\n"
      ]
     },
     "metadata": {},
     "output_type": "display_data"
    },
    {
     "data": {
      "application/javascript": [
       "(function(root) {\n",
       "  function embed_document(root) {\n",
       "    \n",
       "  var docs_json = {\"4ccd29eb-d2a4-4a72-bb86-ed92c4e07143\":{\"roots\":{\"references\":[{\"attributes\":{\"below\":[{\"id\":\"2155\"}],\"center\":[{\"id\":\"2158\"},{\"id\":\"2162\"},{\"id\":\"2200\"}],\"left\":[{\"id\":\"2159\"}],\"plot_height\":450,\"renderers\":[{\"id\":\"2180\"},{\"id\":\"2205\"},{\"id\":\"2210\"},{\"id\":\"2238\"}],\"title\":{\"id\":\"2145\"},\"toolbar\":{\"id\":\"2170\"},\"x_range\":{\"id\":\"2147\"},\"x_scale\":{\"id\":\"2151\"},\"y_range\":{\"id\":\"2149\"},\"y_scale\":{\"id\":\"2153\"}},\"id\":\"2144\",\"subtype\":\"Figure\",\"type\":\"Plot\"},{\"attributes\":{\"text\":\"New Positive: Lombardia\"},\"id\":\"2145\",\"type\":\"Title\"},{\"attributes\":{\"months\":[0,2,4,6,8,10]},\"id\":\"2196\",\"type\":\"MonthsTicker\"},{\"attributes\":{},\"id\":\"2147\",\"type\":\"DataRange1d\"},{\"attributes\":{},\"id\":\"2164\",\"type\":\"WheelZoomTool\"},{\"attributes\":{\"bottom_units\":\"screen\",\"fill_alpha\":0.5,\"fill_color\":\"lightgrey\",\"left_units\":\"screen\",\"level\":\"overlay\",\"line_alpha\":1.0,\"line_color\":\"black\",\"line_dash\":[4,4],\"line_width\":2,\"render_mode\":\"css\",\"right_units\":\"screen\",\"top_units\":\"screen\"},\"id\":\"2169\",\"type\":\"BoxAnnotation\"},{\"attributes\":{},\"id\":\"2316\",\"type\":\"Selection\"},{\"attributes\":{\"data_source\":{\"id\":\"2202\"},\"glyph\":{\"id\":\"2203\"},\"hover_glyph\":null,\"muted_glyph\":null,\"nonselection_glyph\":{\"id\":\"2204\"},\"selection_glyph\":null,\"view\":{\"id\":\"2206\"}},\"id\":\"2205\",\"type\":\"GlyphRenderer\"},{\"attributes\":{\"overlay\":{\"id\":\"2169\"}},\"id\":\"2165\",\"type\":\"BoxZoomTool\"},{\"attributes\":{},\"id\":\"2151\",\"type\":\"LinearScale\"},{\"attributes\":{\"days\":[1,2,3,4,5,6,7,8,9,10,11,12,13,14,15,16,17,18,19,20,21,22,23,24,25,26,27,28,29,30,31]},\"id\":\"2191\",\"type\":\"DaysTicker\"},{\"attributes\":{\"days\":[1,8,15,22]},\"id\":\"2193\",\"type\":\"DaysTicker\"},{\"attributes\":{},\"id\":\"2166\",\"type\":\"SaveTool\"},{\"attributes\":{\"callback\":null,\"formatters\":{\"@x\":\"datetime\"},\"mode\":\"vline\",\"tooltips\":[[\"date\",\"@x{%d %B}\"],[\"new_positive OR SMA 14\",\"@y{0[.]000}\"]]},\"id\":\"2244\",\"type\":\"HoverTool\"},{\"attributes\":{\"source\":{\"id\":\"2202\"}},\"id\":\"2206\",\"type\":\"CDSView\"},{\"attributes\":{\"mantissas\":[1,2,5],\"max_interval\":500.0,\"num_minor_ticks\":0},\"id\":\"2188\",\"type\":\"AdaptiveTicker\"},{\"attributes\":{\"base\":24,\"mantissas\":[1,2,4,6,8,12],\"max_interval\":43200000.0,\"min_interval\":3600000.0,\"num_minor_ticks\":0},\"id\":\"2190\",\"type\":\"AdaptiveTicker\"},{\"attributes\":{\"months\":[0,4,8]},\"id\":\"2197\",\"type\":\"MonthsTicker\"},{\"attributes\":{},\"id\":\"2167\",\"type\":\"ResetTool\"},{\"attributes\":{},\"id\":\"2314\",\"type\":\"Selection\"},{\"attributes\":{},\"id\":\"2149\",\"type\":\"DataRange1d\"},{\"attributes\":{},\"id\":\"2317\",\"type\":\"UnionRenderers\"},{\"attributes\":{\"items\":[{\"id\":\"2201\"},{\"id\":\"2234\"}],\"location\":\"top_left\"},\"id\":\"2200\",\"type\":\"Legend\"},{\"attributes\":{\"data\":{\"x\":{\"__ndarray__\":\"AAAA5UcHd0IAAMBKmgd3QgAAgLDsB3dCAABAFj8Id0IAAAB8kQh3QgAAwOHjCHdCAACARzYJd0IAAECtiAl3QgAAABPbCXdCAADAeC0Kd0IAAIDefwp3QgAAQETSCndCAAAAqiQLd0IAAMAPdwt3QgAAgHXJC3dCAABA2xsMd0IAAABBbgx3QgAAwKbADHdCAACADBMNd0IAAEByZQ13QgAAANi3DXdCAADAPQoOd0IAAICjXA53QgAAQAmvDndCAAAAbwEPd0IAAMDUUw93QgAAgDqmD3dCAABAoPgPd0IAAAAGSxB3QgAAwGudEHdCAACA0e8Qd0IAAEA3QhF3QgAAAJ2UEXdCAADAAucRd0IAAIBoORJ3QgAAQM6LEndCAAAANN4Sd0IAAMCZMBN3QgAAgP+CE3dCAABAZdUTd0IAAADLJxR3QgAAwDB6FHdCAACAlswUd0IAAED8HhV3QgAAAGJxFXdCAADAx8MVd0IAAIAtFhZ3QgAAQJNoFndCAAAA+boWd0IAAMBeDRd3QgAAgMRfF3dCAABAKrIXd0IAAACQBBh3QgAAwPVWGHdCAACAW6kYd0IAAEDB+xh3QgAAACdOGXdCAADAjKAZd0IAAIDy8hl3QgAAQFhFGndCAAAAvpcad0IAAMAj6hp3QgAAgIk8G3dCAABA744bd0IAAABV4Rt3QgAAwLozHHdCAACAIIYcd0IAAECG2Bx3QgAAAOwqHXdCAADAUX0dd0IAAIC3zx13QgAAQB0iHndCAAAAg3Qed0IAAMDoxh53QgAAgE4ZH3dCAABAtGsfd0IAAAAavh93QgAAwH8QIHdCAACA5WIgd0IAAEBLtSB3QgAAALEHIXdCAADAFlohd0IAAIB8rCF3QgAAQOL+IXdCAAAASFEid0IAAMCtoyJ3QgAAgBP2IndCAABAeUgjd0IAAADfmiN3QgAAwETtI3dCAACAqj8kd0IAAEAQkiR3QgAAAHbkJHdCAADA2zYld0IAAIBBiSV3QgAAQKfbJXdCAAAADS4md0IAAMBygCZ3QgAAgNjSJndCAABAPiUnd0IAAACkdyd3QgAAwAnKJ3dCAACAbxwod0IAAEDVbih3QgAAADvBKHdCAADAoBMpd0IAAIAGZil3QgAAQGy4KXdCAAAA0goqd0IAAMA3XSp3QgAAgJ2vKndCAABAAwIrd0IAAABpVCt3QgAAwM6mK3dCAACANPkrd0IAAECaSyx3QgAAAACeLHdCAADAZfAsd0IAAIDLQi13QgAAQDGVLXdCAAAAl+ctd0IAAMD8OS53QgAAgGKMLndCAABAyN4ud0IAAAAuMS93QgAAwJODL3dCAACA+dUvd0I=\",\"dtype\":\"float64\",\"shape\":[127]},\"y\":{\"__ndarray__\":\"AAAAAAAA+H8AAAAAAAD4fwAAAAAAAPh/AAAAAAAA+H8AAAAAAAD4fwAAAAAAAPh/AAAAAAAA+H8AAAAAAAD4fwAAAAAAAPh/AAAAAAAA+H8AAAAAAAD4fwAAAAAAAPh/AAAAAAAA+H9JkiRJkqxyQNu2bdu2pXdAAAAAAADIeECSJEmSJFl/QLdt27Ztk4JAAAAAAAC8hEDbtm3btrWIQNu2bdu2bYtAJUmSJEnmjUAAAAAAAGiQQG7btm3bvJFAAAAAAACuk0Bu27Zt2+6VQG7btm3bqJhAJUmSJEmwmUBu27Zt2/6ZQNu2bdu2zZtA27Zt27b5m0C3bdu2bTOdQG7btm3bqp5Abtu2bdvynkAlSZIkSfSeQEmSJEmStJ5Abtu2bdsenkC3bdu2bTOeQCVJkiRJOJ1AAAAAAAAwnEDbtm3btleaQEmSJEmS8plASZIkSZJqmUDbtm3btiGYQLdt27Ztg5dAt23btm05lkCSJEmSJO2UQLdt27ZtSZRA27Zt27YjlEBJkiRJkkKUQEmSJEmSOJRA27Zt27Zlk0C3bdu2bQGTQJIkSZIki5JASZIkSZImkkBu27Zt25yRQEmSJEmSOpFAbtu2bdtqkUC3bdu2bX+RQLdt27ZtJZFAkiRJkiT5kEDbtm3btguQQG7btm3b4o5Abtu2bdtijUCSJEmSJBGNQNu2bdu2+YxA27Zt27Y1jEAAAAAAAIiLQEmSJEmS8IlASZIkSZI0iUAlSZIkSdqIQLdt27Zt04dASZIkSZLwhkBu27Zt2yaGQNu2bdu2IYVAkiRJkiSphEBJkiRJkjyDQLdt27Ztu4JAkiRJkiQZg0CSJEmSJDmCQNu2bdu2DYJAt23btm0TgUBu27Zt28aAQEmSJEmSVIBA27Zt27bdfkAlSZIkSbJ+QJIkSZIkmXxAt23btm3LekDbtm3btkV5QAAAAAAAAHlAt23btm0DeUBJkiRJkgx4QNu2bdu2JXRAJUmSJEkadEAlSZIkSXpzQJIkSZIkuXNA27Zt27btckCSJEmSJGlyQCVJkiRJ2nFAAAAAAACgcEBu27Zt215wQLdt27Ztq25ASZIkSZKkb0CSJEmSJPlsQLdt27Zti2tASZIkSZL0a0AAAAAAAEBsQEmSJEmStGlAt23btm2LaEAAAAAAANBnQG7btm3btmdASZIkSZIEaEAlSZIkSeJpQNu2bdu2fWlAkiRJkiSJaUBu27Zt27ZqQG7btm3bhmhAt23btm27aEAlSZIkScJoQNu2bdu2TWhASZIkSZIkZ0C3bdu2bQtnQAAAAAAAUGZAbtu2bdtGZUBu27Zt2xZkQG7btm3bxmJAkiRJkiQpYUA=\",\"dtype\":\"float64\",\"shape\":[127]}},\"selected\":{\"id\":\"2314\"},\"selection_policy\":{\"id\":\"2315\"}},\"id\":\"2207\",\"type\":\"ColumnDataSource\"},{\"attributes\":{},\"id\":\"2153\",\"type\":\"LinearScale\"},{\"attributes\":{},\"id\":\"2168\",\"type\":\"HelpTool\"},{\"attributes\":{\"days\":[1,4,7,10,13,16,19,22,25,28]},\"id\":\"2192\",\"type\":\"DaysTicker\"},{\"attributes\":{\"active_drag\":\"auto\",\"active_inspect\":\"auto\",\"active_multi\":null,\"active_scroll\":\"auto\",\"active_tap\":\"auto\",\"tools\":[{\"id\":\"2163\"},{\"id\":\"2164\"},{\"id\":\"2165\"},{\"id\":\"2166\"},{\"id\":\"2167\"},{\"id\":\"2168\"},{\"id\":\"2244\"}]},\"id\":\"2170\",\"type\":\"Toolbar\"},{\"attributes\":{\"axis_label\":\"Date\",\"formatter\":{\"id\":\"2240\"},\"major_label_orientation\":0.7853981633974483,\"minor_tick_in\":-5,\"minor_tick_out\":-3,\"ticker\":{\"id\":\"2156\"}},\"id\":\"2155\",\"type\":\"DatetimeAxis\"},{\"attributes\":{\"line_color\":\"lightcoral\",\"line_width\":4,\"x\":{\"field\":\"x\"},\"y\":{\"field\":\"y\"}},\"id\":\"2208\",\"type\":\"Line\"},{\"attributes\":{\"line_alpha\":0.1,\"line_color\":\"lightcoral\",\"line_width\":4,\"x\":{\"field\":\"x\"},\"y\":{\"field\":\"y\"}},\"id\":\"2209\",\"type\":\"Line\"},{\"attributes\":{},\"id\":\"2160\",\"type\":\"BasicTicker\"},{\"attributes\":{\"source\":{\"id\":\"2207\"}},\"id\":\"2211\",\"type\":\"CDSView\"},{\"attributes\":{},\"id\":\"2315\",\"type\":\"UnionRenderers\"},{\"attributes\":{\"data_source\":{\"id\":\"2207\"},\"glyph\":{\"id\":\"2208\"},\"hover_glyph\":null,\"muted_glyph\":null,\"nonselection_glyph\":{\"id\":\"2209\"},\"selection_glyph\":null,\"view\":{\"id\":\"2211\"}},\"id\":\"2210\",\"type\":\"GlyphRenderer\"},{\"attributes\":{\"num_minor_ticks\":5,\"tickers\":[{\"id\":\"2188\"},{\"id\":\"2189\"},{\"id\":\"2190\"},{\"id\":\"2191\"},{\"id\":\"2192\"},{\"id\":\"2193\"},{\"id\":\"2194\"},{\"id\":\"2195\"},{\"id\":\"2196\"},{\"id\":\"2197\"},{\"id\":\"2198\"},{\"id\":\"2199\"}]},\"id\":\"2156\",\"type\":\"DatetimeTicker\"},{\"attributes\":{\"months\":[0,6]},\"id\":\"2198\",\"type\":\"MonthsTicker\"},{\"attributes\":{\"axis\":{\"id\":\"2155\"},\"ticker\":null},\"id\":\"2158\",\"type\":\"Grid\"},{\"attributes\":{\"fill_color\":{\"value\":\"white\"},\"line_color\":{\"value\":\"blue\"},\"size\":{\"units\":\"screen\",\"value\":5},\"x\":{\"field\":\"x\"},\"y\":{\"field\":\"y\"}},\"id\":\"2203\",\"type\":\"Circle\"},{\"attributes\":{\"months\":[0,1,2,3,4,5,6,7,8,9,10,11]},\"id\":\"2195\",\"type\":\"MonthsTicker\"},{\"attributes\":{},\"id\":\"2230\",\"type\":\"Selection\"},{\"attributes\":{\"label\":{\"value\":\"new positive\"},\"renderers\":[{\"id\":\"2180\"}]},\"id\":\"2201\",\"type\":\"LegendItem\"},{\"attributes\":{\"use_scientific\":false},\"id\":\"2242\",\"type\":\"BasicTickFormatter\"},{\"attributes\":{\"line_color\":\"blue\",\"line_width\":4,\"x\":{\"field\":\"x\"},\"y\":{\"field\":\"y\"}},\"id\":\"2178\",\"type\":\"Line\"},{\"attributes\":{\"base\":60,\"mantissas\":[1,2,5,10,15,20,30],\"max_interval\":1800000.0,\"min_interval\":1000.0,\"num_minor_ticks\":0},\"id\":\"2189\",\"type\":\"AdaptiveTicker\"},{\"attributes\":{\"axis\":{\"id\":\"2159\"},\"dimension\":1,\"ticker\":null},\"id\":\"2162\",\"type\":\"Grid\"},{\"attributes\":{\"fill_alpha\":{\"value\":0.1},\"fill_color\":{\"value\":\"white\"},\"line_alpha\":{\"value\":0.1},\"line_color\":{\"value\":\"blue\"},\"size\":{\"units\":\"screen\",\"value\":5},\"x\":{\"field\":\"x\"},\"y\":{\"field\":\"y\"}},\"id\":\"2204\",\"type\":\"Circle\"},{\"attributes\":{\"days\":[1,15]},\"id\":\"2194\",\"type\":\"DaysTicker\"},{\"attributes\":{\"axis_label\":\"New Positive\",\"formatter\":{\"id\":\"2242\"},\"minor_tick_in\":-5,\"minor_tick_out\":-3,\"ticker\":{\"id\":\"2160\"}},\"id\":\"2159\",\"type\":\"LinearAxis\"},{\"attributes\":{\"label\":{\"value\":\"SMA 14 days\"},\"renderers\":[{\"id\":\"2210\"}]},\"id\":\"2234\",\"type\":\"LegendItem\"},{\"attributes\":{\"days\":[\"%d %B\"]},\"id\":\"2240\",\"type\":\"DatetimeTickFormatter\"},{\"attributes\":{},\"id\":\"2199\",\"type\":\"YearsTicker\"},{\"attributes\":{\"data_source\":{\"id\":\"2235\"},\"glyph\":{\"id\":\"2236\"},\"hover_glyph\":null,\"muted_glyph\":null,\"nonselection_glyph\":{\"id\":\"2237\"},\"selection_glyph\":null,\"view\":{\"id\":\"2239\"}},\"id\":\"2238\",\"type\":\"GlyphRenderer\"},{\"attributes\":{\"data\":{\"x\":{\"__ndarray__\":\"AAAA5UcHd0IAAMBKmgd3QgAAgLDsB3dCAABAFj8Id0IAAAB8kQh3QgAAwOHjCHdCAACARzYJd0IAAECtiAl3QgAAABPbCXdCAADAeC0Kd0IAAIDefwp3QgAAQETSCndCAAAAqiQLd0IAAMAPdwt3QgAAgHXJC3dCAABA2xsMd0IAAABBbgx3QgAAwKbADHdCAACADBMNd0IAAEByZQ13QgAAANi3DXdCAADAPQoOd0IAAICjXA53QgAAQAmvDndCAAAAbwEPd0IAAMDUUw93QgAAgDqmD3dCAABAoPgPd0IAAAAGSxB3QgAAwGudEHdCAACA0e8Qd0IAAEA3QhF3QgAAAJ2UEXdCAADAAucRd0IAAIBoORJ3QgAAQM6LEndCAAAANN4Sd0IAAMCZMBN3QgAAgP+CE3dCAABAZdUTd0IAAADLJxR3QgAAwDB6FHdCAACAlswUd0IAAED8HhV3QgAAAGJxFXdCAADAx8MVd0IAAIAtFhZ3QgAAQJNoFndCAAAA+boWd0IAAMBeDRd3QgAAgMRfF3dCAABAKrIXd0IAAACQBBh3QgAAwPVWGHdCAACAW6kYd0IAAEDB+xh3QgAAACdOGXdCAADAjKAZd0IAAIDy8hl3QgAAQFhFGndCAAAAvpcad0IAAMAj6hp3QgAAgIk8G3dCAABA744bd0IAAABV4Rt3QgAAwLozHHdCAACAIIYcd0IAAECG2Bx3QgAAAOwqHXdCAADAUX0dd0IAAIC3zx13QgAAQB0iHndCAAAAg3Qed0IAAMDoxh53QgAAgE4ZH3dCAABAtGsfd0IAAAAavh93QgAAwH8QIHdCAACA5WIgd0IAAEBLtSB3QgAAALEHIXdCAADAFlohd0IAAIB8rCF3QgAAQOL+IXdCAAAASFEid0IAAMCtoyJ3QgAAgBP2IndCAABAeUgjd0IAAADfmiN3QgAAwETtI3dCAACAqj8kd0IAAEAQkiR3QgAAAHbkJHdCAADA2zYld0IAAIBBiSV3QgAAQKfbJXdCAAAADS4md0IAAMBygCZ3QgAAgNjSJndCAABAPiUnd0IAAACkdyd3QgAAwAnKJ3dCAACAbxwod0IAAEDVbih3QgAAADvBKHdCAADAoBMpd0IAAIAGZil3QgAAQGy4KXdCAAAA0goqd0IAAMA3XSp3QgAAgJ2vKndCAABAAwIrd0IAAABpVCt3QgAAwM6mK3dCAACANPkrd0IAAECaSyx3QgAAAACeLHdCAADAZfAsd0IAAIDLQi13QgAAQDGVLXdCAAAAl+ctd0IAAMD8OS53QgAAgGKMLndCAABAyN4ud0IAAAAuMS93QgAAwJODL3dCAACA+dUvd0I=\",\"dtype\":\"float64\",\"shape\":[127]},\"y\":{\"__ndarray__\":\"AAAAAAAA+H8AAAAAAAD4fwAAAAAAAPh/AAAAAAAA+H8AAAAAAAD4fwAAAAAAAPh/AAAAAAAA+H8AAAAAAAD4fwAAAAAAAPh/AAAAAAAA+H8AAAAAAAD4fwAAAAAAAPh/AAAAAAAA+H9JkiRJkqxyQNu2bdu2pXdAAAAAAADIeECSJEmSJFl/QLdt27Ztk4JAAAAAAAC8hEDbtm3btrWIQNu2bdu2bYtAJUmSJEnmjUAAAAAAAGiQQG7btm3bvJFAAAAAAACuk0Bu27Zt2+6VQG7btm3bqJhAJUmSJEmwmUBu27Zt2/6ZQNu2bdu2zZtA27Zt27b5m0C3bdu2bTOdQG7btm3bqp5Abtu2bdvynkAlSZIkSfSeQEmSJEmStJ5Abtu2bdsenkC3bdu2bTOeQCVJkiRJOJ1AAAAAAAAwnEDbtm3btleaQEmSJEmS8plASZIkSZJqmUDbtm3btiGYQLdt27Ztg5dAt23btm05lkCSJEmSJO2UQLdt27ZtSZRA27Zt27YjlEBJkiRJkkKUQEmSJEmSOJRA27Zt27Zlk0C3bdu2bQGTQJIkSZIki5JASZIkSZImkkBu27Zt25yRQEmSJEmSOpFAbtu2bdtqkUC3bdu2bX+RQLdt27ZtJZFAkiRJkiT5kEDbtm3btguQQG7btm3b4o5Abtu2bdtijUCSJEmSJBGNQNu2bdu2+YxA27Zt27Y1jEAAAAAAAIiLQEmSJEmS8IlASZIkSZI0iUAlSZIkSdqIQLdt27Zt04dASZIkSZLwhkBu27Zt2yaGQNu2bdu2IYVAkiRJkiSphEBJkiRJkjyDQLdt27Ztu4JAkiRJkiQZg0CSJEmSJDmCQNu2bdu2DYJAt23btm0TgUBu27Zt28aAQEmSJEmSVIBA27Zt27bdfkAlSZIkSbJ+QJIkSZIkmXxAt23btm3LekDbtm3btkV5QAAAAAAAAHlAt23btm0DeUBJkiRJkgx4QNu2bdu2JXRAJUmSJEkadEAlSZIkSXpzQJIkSZIkuXNA27Zt27btckCSJEmSJGlyQCVJkiRJ2nFAAAAAAACgcEBu27Zt215wQLdt27Ztq25ASZIkSZKkb0CSJEmSJPlsQLdt27Zti2tASZIkSZL0a0AAAAAAAEBsQEmSJEmStGlAt23btm2LaEAAAAAAANBnQG7btm3btmdASZIkSZIEaEAlSZIkSeJpQNu2bdu2fWlAkiRJkiSJaUBu27Zt27ZqQG7btm3bhmhAt23btm27aEAlSZIkScJoQNu2bdu2TWhASZIkSZIkZ0C3bdu2bQtnQAAAAAAAUGZAbtu2bdtGZUBu27Zt2xZkQG7btm3bxmJAkiRJkiQpYUA=\",\"dtype\":\"float64\",\"shape\":[127]}},\"selected\":{\"id\":\"2316\"},\"selection_policy\":{\"id\":\"2317\"}},\"id\":\"2235\",\"type\":\"ColumnDataSource\"},{\"attributes\":{},\"id\":\"2232\",\"type\":\"Selection\"},{\"attributes\":{\"data\":{\"x\":{\"__ndarray__\":\"AAAA5UcHd0IAAMBKmgd3QgAAgLDsB3dCAABAFj8Id0IAAAB8kQh3QgAAwOHjCHdCAACARzYJd0IAAECtiAl3QgAAABPbCXdCAADAeC0Kd0IAAIDefwp3QgAAQETSCndCAAAAqiQLd0IAAMAPdwt3QgAAgHXJC3dCAABA2xsMd0IAAABBbgx3QgAAwKbADHdCAACADBMNd0IAAEByZQ13QgAAANi3DXdCAADAPQoOd0IAAICjXA53QgAAQAmvDndCAAAAbwEPd0IAAMDUUw93QgAAgDqmD3dCAABAoPgPd0IAAAAGSxB3QgAAwGudEHdCAACA0e8Qd0IAAEA3QhF3QgAAAJ2UEXdCAADAAucRd0IAAIBoORJ3QgAAQM6LEndCAAAANN4Sd0IAAMCZMBN3QgAAgP+CE3dCAABAZdUTd0IAAADLJxR3QgAAwDB6FHdCAACAlswUd0IAAED8HhV3QgAAAGJxFXdCAADAx8MVd0IAAIAtFhZ3QgAAQJNoFndCAAAA+boWd0IAAMBeDRd3QgAAgMRfF3dCAABAKrIXd0IAAACQBBh3QgAAwPVWGHdCAACAW6kYd0IAAEDB+xh3QgAAACdOGXdCAADAjKAZd0IAAIDy8hl3QgAAQFhFGndCAAAAvpcad0IAAMAj6hp3QgAAgIk8G3dCAABA744bd0IAAABV4Rt3QgAAwLozHHdCAACAIIYcd0IAAECG2Bx3QgAAAOwqHXdCAADAUX0dd0IAAIC3zx13QgAAQB0iHndCAAAAg3Qed0IAAMDoxh53QgAAgE4ZH3dCAABAtGsfd0IAAAAavh93QgAAwH8QIHdCAACA5WIgd0IAAEBLtSB3QgAAALEHIXdCAADAFlohd0IAAIB8rCF3QgAAQOL+IXdCAAAASFEid0IAAMCtoyJ3QgAAgBP2IndCAABAeUgjd0IAAADfmiN3QgAAwETtI3dCAACAqj8kd0IAAEAQkiR3QgAAAHbkJHdCAADA2zYld0IAAIBBiSV3QgAAQKfbJXdCAAAADS4md0IAAMBygCZ3QgAAgNjSJndCAABAPiUnd0IAAACkdyd3QgAAwAnKJ3dCAACAbxwod0IAAEDVbih3QgAAADvBKHdCAADAoBMpd0IAAIAGZil3QgAAQGy4KXdCAAAA0goqd0IAAMA3XSp3QgAAgJ2vKndCAABAAwIrd0IAAABpVCt3QgAAwM6mK3dCAACANPkrd0IAAECaSyx3QgAAAACeLHdCAADAZfAsd0IAAIDLQi13QgAAQDGVLXdCAAAAl+ctd0IAAMD8OS53QgAAgGKMLndCAABAyN4ud0IAAAAuMS93QgAAwJODL3dCAACA+dUvd0I=\",\"dtype\":\"float64\",\"shape\":[127]},\"y\":[166,68,18,145,128,84,369,270,266,300,431,361,808,769,1280,322,1489,1445,1095,1865,1587,1377,1571,1493,2171,2380,3251,1691,1555,1942,1643,2543,2409,2117,1592,1154,1047,1565,1292,1455,1598,1337,1079,791,1089,1388,1246,1544,1460,1262,1012,827,941,1041,1246,855,735,960,1161,1073,1091,713,920,590,869,786,598,737,533,526,577,500,764,720,634,502,282,364,1033,394,522,299,399,326,175,462,294,316,293,441,285,148,159,384,382,354,221,210,50,187,237,84,402,142,125,194,192,99,252,272,210,244,259,143,242,216,157,165,128,143,62,88,170,156,77,97,78]},\"selected\":{\"id\":\"2230\"},\"selection_policy\":{\"id\":\"2231\"}},\"id\":\"2177\",\"type\":\"ColumnDataSource\"},{\"attributes\":{\"source\":{\"id\":\"2235\"}},\"id\":\"2239\",\"type\":\"CDSView\"},{\"attributes\":{\"line_alpha\":0.1,\"line_color\":\"blue\",\"line_width\":4,\"x\":{\"field\":\"x\"},\"y\":{\"field\":\"y\"}},\"id\":\"2179\",\"type\":\"Line\"},{\"attributes\":{},\"id\":\"2231\",\"type\":\"UnionRenderers\"},{\"attributes\":{\"data\":{\"x\":{\"__ndarray__\":\"AAAA5UcHd0IAAMBKmgd3QgAAgLDsB3dCAABAFj8Id0IAAAB8kQh3QgAAwOHjCHdCAACARzYJd0IAAECtiAl3QgAAABPbCXdCAADAeC0Kd0IAAIDefwp3QgAAQETSCndCAAAAqiQLd0IAAMAPdwt3QgAAgHXJC3dCAABA2xsMd0IAAABBbgx3QgAAwKbADHdCAACADBMNd0IAAEByZQ13QgAAANi3DXdCAADAPQoOd0IAAICjXA53QgAAQAmvDndCAAAAbwEPd0IAAMDUUw93QgAAgDqmD3dCAABAoPgPd0IAAAAGSxB3QgAAwGudEHdCAACA0e8Qd0IAAEA3QhF3QgAAAJ2UEXdCAADAAucRd0IAAIBoORJ3QgAAQM6LEndCAAAANN4Sd0IAAMCZMBN3QgAAgP+CE3dCAABAZdUTd0IAAADLJxR3QgAAwDB6FHdCAACAlswUd0IAAED8HhV3QgAAAGJxFXdCAADAx8MVd0IAAIAtFhZ3QgAAQJNoFndCAAAA+boWd0IAAMBeDRd3QgAAgMRfF3dCAABAKrIXd0IAAACQBBh3QgAAwPVWGHdCAACAW6kYd0IAAEDB+xh3QgAAACdOGXdCAADAjKAZd0IAAIDy8hl3QgAAQFhFGndCAAAAvpcad0IAAMAj6hp3QgAAgIk8G3dCAABA744bd0IAAABV4Rt3QgAAwLozHHdCAACAIIYcd0IAAECG2Bx3QgAAAOwqHXdCAADAUX0dd0IAAIC3zx13QgAAQB0iHndCAAAAg3Qed0IAAMDoxh53QgAAgE4ZH3dCAABAtGsfd0IAAAAavh93QgAAwH8QIHdCAACA5WIgd0IAAEBLtSB3QgAAALEHIXdCAADAFlohd0IAAIB8rCF3QgAAQOL+IXdCAAAASFEid0IAAMCtoyJ3QgAAgBP2IndCAABAeUgjd0IAAADfmiN3QgAAwETtI3dCAACAqj8kd0IAAEAQkiR3QgAAAHbkJHdCAADA2zYld0IAAIBBiSV3QgAAQKfbJXdCAAAADS4md0IAAMBygCZ3QgAAgNjSJndCAABAPiUnd0IAAACkdyd3QgAAwAnKJ3dCAACAbxwod0IAAEDVbih3QgAAADvBKHdCAADAoBMpd0IAAIAGZil3QgAAQGy4KXdCAAAA0goqd0IAAMA3XSp3QgAAgJ2vKndCAABAAwIrd0IAAABpVCt3QgAAwM6mK3dCAACANPkrd0IAAECaSyx3QgAAAACeLHdCAADAZfAsd0IAAIDLQi13QgAAQDGVLXdCAAAAl+ctd0IAAMD8OS53QgAAgGKMLndCAABAyN4ud0IAAAAuMS93QgAAwJODL3dCAACA+dUvd0I=\",\"dtype\":\"float64\",\"shape\":[127]},\"y\":[166,68,18,145,128,84,369,270,266,300,431,361,808,769,1280,322,1489,1445,1095,1865,1587,1377,1571,1493,2171,2380,3251,1691,1555,1942,1643,2543,2409,2117,1592,1154,1047,1565,1292,1455,1598,1337,1079,791,1089,1388,1246,1544,1460,1262,1012,827,941,1041,1246,855,735,960,1161,1073,1091,713,920,590,869,786,598,737,533,526,577,500,764,720,634,502,282,364,1033,394,522,299,399,326,175,462,294,316,293,441,285,148,159,384,382,354,221,210,50,187,237,84,402,142,125,194,192,99,252,272,210,244,259,143,242,216,157,165,128,143,62,88,170,156,77,97,78]},\"selected\":{\"id\":\"2232\"},\"selection_policy\":{\"id\":\"2233\"}},\"id\":\"2202\",\"type\":\"ColumnDataSource\"},{\"attributes\":{\"fill_alpha\":{\"value\":0.1},\"fill_color\":{\"value\":\"white\"},\"line_alpha\":{\"value\":0.1},\"line_color\":{\"value\":\"lightcoral\"},\"size\":{\"units\":\"screen\",\"value\":5},\"x\":{\"field\":\"x\"},\"y\":{\"field\":\"y\"}},\"id\":\"2237\",\"type\":\"Circle\"},{\"attributes\":{\"source\":{\"id\":\"2177\"}},\"id\":\"2181\",\"type\":\"CDSView\"},{\"attributes\":{},\"id\":\"2233\",\"type\":\"UnionRenderers\"},{\"attributes\":{\"data_source\":{\"id\":\"2177\"},\"glyph\":{\"id\":\"2178\"},\"hover_glyph\":null,\"muted_glyph\":null,\"nonselection_glyph\":{\"id\":\"2179\"},\"selection_glyph\":null,\"view\":{\"id\":\"2181\"}},\"id\":\"2180\",\"type\":\"GlyphRenderer\"},{\"attributes\":{\"fill_color\":{\"value\":\"white\"},\"line_color\":{\"value\":\"lightcoral\"},\"size\":{\"units\":\"screen\",\"value\":5},\"x\":{\"field\":\"x\"},\"y\":{\"field\":\"y\"}},\"id\":\"2236\",\"type\":\"Circle\"},{\"attributes\":{},\"id\":\"2163\",\"type\":\"PanTool\"}],\"root_ids\":[\"2144\"]},\"title\":\"Bokeh Application\",\"version\":\"2.0.2\"}};\n",
       "  var render_items = [{\"docid\":\"4ccd29eb-d2a4-4a72-bb86-ed92c4e07143\",\"root_ids\":[\"2144\"],\"roots\":{\"2144\":\"df206c65-4dfc-478c-bd78-5f9e0c6fb13b\"}}];\n",
       "  root.Bokeh.embed.embed_items_notebook(docs_json, render_items);\n",
       "\n",
       "  }\n",
       "  if (root.Bokeh !== undefined) {\n",
       "    embed_document(root);\n",
       "  } else {\n",
       "    var attempts = 0;\n",
       "    var timer = setInterval(function(root) {\n",
       "      if (root.Bokeh !== undefined) {\n",
       "        clearInterval(timer);\n",
       "        embed_document(root);\n",
       "      } else {\n",
       "        attempts++;\n",
       "        if (attempts > 100) {\n",
       "          clearInterval(timer);\n",
       "          console.log(\"Bokeh: ERROR: Unable to run BokehJS code because BokehJS library is missing\");\n",
       "        }\n",
       "      }\n",
       "    }, 10, root)\n",
       "  }\n",
       "})(window);"
      ],
      "application/vnd.bokehjs_exec.v0+json": ""
     },
     "metadata": {
      "application/vnd.bokehjs_exec.v0+json": {
       "id": "2144"
      }
     },
     "output_type": "display_data"
    }
   ],
   "source": [
    "p_new_positive_SMA_Lombardia = bokeh_plot_N_lines(x=time_date_new, y_list=[nuovi_positivi_Lombardia,SMA_new_positive_Lombardia_2['nuovi_positivi']], \n",
    "                  title='New Positive: Lombardia',\n",
    "                  dim=[600, 450], \n",
    "                  x_label='Date',\n",
    "                  y_label='New Positive', \n",
    "                  legend_list=['new positive','SMA 14 days'],\n",
    "                  x_label_hover='date' , y_label_hover='new_positive OR SMA 14' , \n",
    "                  color_list=['blue','lightcoral'],legend_location=\"top_left\")\n",
    "\n",
    "output_file(\"new_positive_SMA_Lombardia.html\")\n",
    "\n",
    "show(p_new_positive_SMA_Lombardia)"
   ]
  },
  {
   "cell_type": "markdown",
   "metadata": {},
   "source": [
    "------------------\n",
    "\n",
    "### New Deaths"
   ]
  },
  {
   "cell_type": "code",
   "execution_count": 23,
   "metadata": {},
   "outputs": [],
   "source": [
    "nuovi_deceduti_Lombardia = [0]\n",
    "i = 0\n",
    "while (i < len(deceduti_Lombardia)-1):\n",
    "#     print(deceduti_italy.iloc[i + 1] - deceduti_italy.iloc[i])\n",
    "    temp = deceduti_Lombardia.iloc[i + 1] - deceduti_Lombardia.iloc[i]\n",
    "    nuovi_deceduti_Lombardia.append(temp)\n",
    "    i = i + 1"
   ]
  },
  {
   "cell_type": "code",
   "execution_count": 24,
   "metadata": {},
   "outputs": [
    {
     "data": {
      "text/html": [
       "<div>\n",
       "<style scoped>\n",
       "    .dataframe tbody tr th:only-of-type {\n",
       "        vertical-align: middle;\n",
       "    }\n",
       "\n",
       "    .dataframe tbody tr th {\n",
       "        vertical-align: top;\n",
       "    }\n",
       "\n",
       "    .dataframe thead th {\n",
       "        text-align: right;\n",
       "    }\n",
       "</style>\n",
       "<table border=\"1\" class=\"dataframe\">\n",
       "  <thead>\n",
       "    <tr style=\"text-align: right;\">\n",
       "      <th></th>\n",
       "      <th>0</th>\n",
       "    </tr>\n",
       "  </thead>\n",
       "  <tbody>\n",
       "    <tr>\n",
       "      <th>0</th>\n",
       "      <td>NaN</td>\n",
       "    </tr>\n",
       "    <tr>\n",
       "      <th>1</th>\n",
       "      <td>NaN</td>\n",
       "    </tr>\n",
       "    <tr>\n",
       "      <th>2</th>\n",
       "      <td>NaN</td>\n",
       "    </tr>\n",
       "    <tr>\n",
       "      <th>3</th>\n",
       "      <td>NaN</td>\n",
       "    </tr>\n",
       "    <tr>\n",
       "      <th>4</th>\n",
       "      <td>NaN</td>\n",
       "    </tr>\n",
       "  </tbody>\n",
       "</table>\n",
       "</div>"
      ],
      "text/plain": [
       "    0\n",
       "0 NaN\n",
       "1 NaN\n",
       "2 NaN\n",
       "3 NaN\n",
       "4 NaN"
      ]
     },
     "execution_count": 24,
     "metadata": {},
     "output_type": "execute_result"
    }
   ],
   "source": [
    "nuovi_deceduti_Lombardia_df = pd.DataFrame(nuovi_deceduti_Lombardia)\n",
    "\n",
    "SMA_new_deaths_Lombardia = nuovi_deceduti_Lombardia_df[:].rolling(window=7).mean()\n",
    "SMA_new_deaths_Lombardia_2 = nuovi_deceduti_Lombardia_df[:].rolling(window=14).mean()\n",
    "SMA_new_deaths_Lombardia.head()"
   ]
  },
  {
   "cell_type": "code",
   "execution_count": 25,
   "metadata": {},
   "outputs": [
    {
     "data": {
      "text/html": [
       "\n",
       "\n",
       "\n",
       "\n",
       "\n",
       "\n",
       "  <div class=\"bk-root\" id=\"f1baecd1-9381-4cae-beb5-3c726036a5ad\" data-root-id=\"2775\"></div>\n"
      ]
     },
     "metadata": {},
     "output_type": "display_data"
    },
    {
     "data": {
      "application/javascript": [
       "(function(root) {\n",
       "  function embed_document(root) {\n",
       "    \n",
       "  var docs_json = {\"d4b77030-43ab-4fa0-8e77-d721b49abce6\":{\"roots\":{\"references\":[{\"attributes\":{\"below\":[{\"id\":\"2786\"}],\"center\":[{\"id\":\"2789\"},{\"id\":\"2793\"},{\"id\":\"2831\"}],\"left\":[{\"id\":\"2790\"}],\"plot_height\":450,\"renderers\":[{\"id\":\"2811\"},{\"id\":\"2836\"},{\"id\":\"2841\"},{\"id\":\"2869\"}],\"title\":{\"id\":\"2776\"},\"toolbar\":{\"id\":\"2801\"},\"x_range\":{\"id\":\"2778\"},\"x_scale\":{\"id\":\"2782\"},\"y_range\":{\"id\":\"2780\"},\"y_scale\":{\"id\":\"2784\"}},\"id\":\"2775\",\"subtype\":\"Figure\",\"type\":\"Plot\"},{\"attributes\":{\"axis_label\":\"Date\",\"formatter\":{\"id\":\"2871\"},\"major_label_orientation\":0.7853981633974483,\"minor_tick_in\":-5,\"minor_tick_out\":-3,\"ticker\":{\"id\":\"2787\"}},\"id\":\"2786\",\"type\":\"DatetimeAxis\"},{\"attributes\":{\"fill_color\":{\"value\":\"white\"},\"line_color\":{\"value\":\"darkviolet\"},\"size\":{\"units\":\"screen\",\"value\":5},\"x\":{\"field\":\"x\"},\"y\":{\"field\":\"y\"}},\"id\":\"2834\",\"type\":\"Circle\"},{\"attributes\":{\"overlay\":{\"id\":\"2800\"}},\"id\":\"2796\",\"type\":\"BoxZoomTool\"},{\"attributes\":{\"data_source\":{\"id\":\"2838\"},\"glyph\":{\"id\":\"2839\"},\"hover_glyph\":null,\"muted_glyph\":null,\"nonselection_glyph\":{\"id\":\"2840\"},\"selection_glyph\":null,\"view\":{\"id\":\"2842\"}},\"id\":\"2841\",\"type\":\"GlyphRenderer\"},{\"attributes\":{},\"id\":\"2797\",\"type\":\"SaveTool\"},{\"attributes\":{\"months\":[0,6]},\"id\":\"2829\",\"type\":\"MonthsTicker\"},{\"attributes\":{\"line_color\":\"lightgreen\",\"line_width\":4,\"x\":{\"field\":\"x\"},\"y\":{\"field\":\"y\"}},\"id\":\"2839\",\"type\":\"Line\"},{\"attributes\":{\"months\":[0,4,8]},\"id\":\"2828\",\"type\":\"MonthsTicker\"},{\"attributes\":{\"data_source\":{\"id\":\"2833\"},\"glyph\":{\"id\":\"2834\"},\"hover_glyph\":null,\"muted_glyph\":null,\"nonselection_glyph\":{\"id\":\"2835\"},\"selection_glyph\":null,\"view\":{\"id\":\"2837\"}},\"id\":\"2836\",\"type\":\"GlyphRenderer\"},{\"attributes\":{\"mantissas\":[1,2,5],\"max_interval\":500.0,\"num_minor_ticks\":0},\"id\":\"2819\",\"type\":\"AdaptiveTicker\"},{\"attributes\":{\"base\":60,\"mantissas\":[1,2,5,10,15,20,30],\"max_interval\":1800000.0,\"min_interval\":1000.0,\"num_minor_ticks\":0},\"id\":\"2820\",\"type\":\"AdaptiveTicker\"},{\"attributes\":{\"data_source\":{\"id\":\"2866\"},\"glyph\":{\"id\":\"2867\"},\"hover_glyph\":null,\"muted_glyph\":null,\"nonselection_glyph\":{\"id\":\"2868\"},\"selection_glyph\":null,\"view\":{\"id\":\"2870\"}},\"id\":\"2869\",\"type\":\"GlyphRenderer\"},{\"attributes\":{\"line_color\":\"darkviolet\",\"line_width\":4,\"x\":{\"field\":\"x\"},\"y\":{\"field\":\"y\"}},\"id\":\"2809\",\"type\":\"Line\"},{\"attributes\":{\"fill_alpha\":{\"value\":0.1},\"fill_color\":{\"value\":\"white\"},\"line_alpha\":{\"value\":0.1},\"line_color\":{\"value\":\"lightgreen\"},\"size\":{\"units\":\"screen\",\"value\":5},\"x\":{\"field\":\"x\"},\"y\":{\"field\":\"y\"}},\"id\":\"2868\",\"type\":\"Circle\"},{\"attributes\":{\"text\":\"New Deaths: Lombardia\"},\"id\":\"2776\",\"type\":\"Title\"},{\"attributes\":{},\"id\":\"2794\",\"type\":\"PanTool\"},{\"attributes\":{\"source\":{\"id\":\"2866\"}},\"id\":\"2870\",\"type\":\"CDSView\"},{\"attributes\":{\"data_source\":{\"id\":\"2808\"},\"glyph\":{\"id\":\"2809\"},\"hover_glyph\":null,\"muted_glyph\":null,\"nonselection_glyph\":{\"id\":\"2810\"},\"selection_glyph\":null,\"view\":{\"id\":\"2812\"}},\"id\":\"2811\",\"type\":\"GlyphRenderer\"},{\"attributes\":{\"use_scientific\":false},\"id\":\"2873\",\"type\":\"BasicTickFormatter\"},{\"attributes\":{},\"id\":\"2830\",\"type\":\"YearsTicker\"},{\"attributes\":{},\"id\":\"2971\",\"type\":\"Selection\"},{\"attributes\":{\"active_drag\":\"auto\",\"active_inspect\":\"auto\",\"active_multi\":null,\"active_scroll\":\"auto\",\"active_tap\":\"auto\",\"tools\":[{\"id\":\"2794\"},{\"id\":\"2795\"},{\"id\":\"2796\"},{\"id\":\"2797\"},{\"id\":\"2798\"},{\"id\":\"2799\"},{\"id\":\"2875\"}]},\"id\":\"2801\",\"type\":\"Toolbar\"},{\"attributes\":{\"source\":{\"id\":\"2808\"}},\"id\":\"2812\",\"type\":\"CDSView\"},{\"attributes\":{\"data\":{\"x\":{\"__ndarray__\":\"AAAA5UcHd0IAAMBKmgd3QgAAgLDsB3dCAABAFj8Id0IAAAB8kQh3QgAAwOHjCHdCAACARzYJd0IAAECtiAl3QgAAABPbCXdCAADAeC0Kd0IAAIDefwp3QgAAQETSCndCAAAAqiQLd0IAAMAPdwt3QgAAgHXJC3dCAABA2xsMd0IAAABBbgx3QgAAwKbADHdCAACADBMNd0IAAEByZQ13QgAAANi3DXdCAADAPQoOd0IAAICjXA53QgAAQAmvDndCAAAAbwEPd0IAAMDUUw93QgAAgDqmD3dCAABAoPgPd0IAAAAGSxB3QgAAwGudEHdCAACA0e8Qd0IAAEA3QhF3QgAAAJ2UEXdCAADAAucRd0IAAIBoORJ3QgAAQM6LEndCAAAANN4Sd0IAAMCZMBN3QgAAgP+CE3dCAABAZdUTd0IAAADLJxR3QgAAwDB6FHdCAACAlswUd0IAAED8HhV3QgAAAGJxFXdCAADAx8MVd0IAAIAtFhZ3QgAAQJNoFndCAAAA+boWd0IAAMBeDRd3QgAAgMRfF3dCAABAKrIXd0IAAACQBBh3QgAAwPVWGHdCAACAW6kYd0IAAEDB+xh3QgAAACdOGXdCAADAjKAZd0IAAIDy8hl3QgAAQFhFGndCAAAAvpcad0IAAMAj6hp3QgAAgIk8G3dCAABA744bd0IAAABV4Rt3QgAAwLozHHdCAACAIIYcd0IAAECG2Bx3QgAAAOwqHXdCAADAUX0dd0IAAIC3zx13QgAAQB0iHndCAAAAg3Qed0IAAMDoxh53QgAAgE4ZH3dCAABAtGsfd0IAAAAavh93QgAAwH8QIHdCAACA5WIgd0IAAEBLtSB3QgAAALEHIXdCAADAFlohd0IAAIB8rCF3QgAAQOL+IXdCAAAASFEid0IAAMCtoyJ3QgAAgBP2IndCAABAeUgjd0IAAADfmiN3QgAAwETtI3dCAACAqj8kd0IAAEAQkiR3QgAAAHbkJHdCAADA2zYld0IAAIBBiSV3QgAAQKfbJXdCAAAADS4md0IAAMBygCZ3QgAAgNjSJndCAABAPiUnd0IAAACkdyd3QgAAwAnKJ3dCAACAbxwod0IAAEDVbih3QgAAADvBKHdCAADAoBMpd0IAAIAGZil3QgAAQGy4KXdCAAAA0goqd0IAAMA3XSp3QgAAgJ2vKndCAABAAwIrd0IAAABpVCt3QgAAwM6mK3dCAACANPkrd0IAAECaSyx3QgAAAACeLHdCAADAZfAsd0IAAIDLQi13QgAAQDGVLXdCAAAAl+ctd0IAAMD8OS53QgAAgGKMLndCAABAyN4ud0IAAAAuMS93QgAAwJODL3dCAACA+dUvd0I=\",\"dtype\":\"float64\",\"shape\":[127]},\"y\":[0,3,0,5,3,6,1,14,17,18,25,37,19,113,66,135,149,127,146,76,252,202,220,319,209,381,546,361,320,402,296,387,541,542,416,458,381,394,367,351,345,249,297,282,238,300,216,273,110,280,241,235,231,243,199,163,163,203,161,200,166,163,56,124,126,104,93,88,329,42,63,95,222,134,94,85,62,68,62,69,111,115,39,69,24,54,65,65,57,56,0,34,22,58,20,38,67,33,19,12,29,29,21,27,21,32,15,32,25,31,23,21,8,9,14,36,18,23,13,3,6,7,22,16,2,13,1]},\"selected\":{\"id\":\"2863\"},\"selection_policy\":{\"id\":\"2864\"}},\"id\":\"2833\",\"type\":\"ColumnDataSource\"},{\"attributes\":{\"data\":{\"x\":{\"__ndarray__\":\"AAAA5UcHd0IAAMBKmgd3QgAAgLDsB3dCAABAFj8Id0IAAAB8kQh3QgAAwOHjCHdCAACARzYJd0IAAECtiAl3QgAAABPbCXdCAADAeC0Kd0IAAIDefwp3QgAAQETSCndCAAAAqiQLd0IAAMAPdwt3QgAAgHXJC3dCAABA2xsMd0IAAABBbgx3QgAAwKbADHdCAACADBMNd0IAAEByZQ13QgAAANi3DXdCAADAPQoOd0IAAICjXA53QgAAQAmvDndCAAAAbwEPd0IAAMDUUw93QgAAgDqmD3dCAABAoPgPd0IAAAAGSxB3QgAAwGudEHdCAACA0e8Qd0IAAEA3QhF3QgAAAJ2UEXdCAADAAucRd0IAAIBoORJ3QgAAQM6LEndCAAAANN4Sd0IAAMCZMBN3QgAAgP+CE3dCAABAZdUTd0IAAADLJxR3QgAAwDB6FHdCAACAlswUd0IAAED8HhV3QgAAAGJxFXdCAADAx8MVd0IAAIAtFhZ3QgAAQJNoFndCAAAA+boWd0IAAMBeDRd3QgAAgMRfF3dCAABAKrIXd0IAAACQBBh3QgAAwPVWGHdCAACAW6kYd0IAAEDB+xh3QgAAACdOGXdCAADAjKAZd0IAAIDy8hl3QgAAQFhFGndCAAAAvpcad0IAAMAj6hp3QgAAgIk8G3dCAABA744bd0IAAABV4Rt3QgAAwLozHHdCAACAIIYcd0IAAECG2Bx3QgAAAOwqHXdCAADAUX0dd0IAAIC3zx13QgAAQB0iHndCAAAAg3Qed0IAAMDoxh53QgAAgE4ZH3dCAABAtGsfd0IAAAAavh93QgAAwH8QIHdCAACA5WIgd0IAAEBLtSB3QgAAALEHIXdCAADAFlohd0IAAIB8rCF3QgAAQOL+IXdCAAAASFEid0IAAMCtoyJ3QgAAgBP2IndCAABAeUgjd0IAAADfmiN3QgAAwETtI3dCAACAqj8kd0IAAEAQkiR3QgAAAHbkJHdCAADA2zYld0IAAIBBiSV3QgAAQKfbJXdCAAAADS4md0IAAMBygCZ3QgAAgNjSJndCAABAPiUnd0IAAACkdyd3QgAAwAnKJ3dCAACAbxwod0IAAEDVbih3QgAAADvBKHdCAADAoBMpd0IAAIAGZil3QgAAQGy4KXdCAAAA0goqd0IAAMA3XSp3QgAAgJ2vKndCAABAAwIrd0IAAABpVCt3QgAAwM6mK3dCAACANPkrd0IAAECaSyx3QgAAAACeLHdCAADAZfAsd0IAAIDLQi13QgAAQDGVLXdCAAAAl+ctd0IAAMD8OS53QgAAgGKMLndCAABAyN4ud0IAAAAuMS93QgAAwJODL3dCAACA+dUvd0I=\",\"dtype\":\"float64\",\"shape\":[127]},\"y\":{\"__ndarray__\":\"AAAAAAAA+H8AAAAAAAD4fwAAAAAAAPh/AAAAAAAA+H8AAAAAAAD4fwAAAAAAAPh/AAAAAAAA+H8AAAAAAAD4fwAAAAAAAPh/AAAAAAAA+H8AAAAAAAD4fwAAAAAAAPh/AAAAAAAA+H9JkiRJkqQyQLdt27ZtWzdASZIkSZJkQEBu27Zt27ZFQCVJkiRJEkpA27Zt27YtT0Bu27Zt29ZQQCVJkiRJUlVA27Zt27atWEDbtm3btk1cQG7btm3b1mBAt23btm17YkDbtm3bto1lQCVJkiRJQmpAkiRJkiR5bEDbtm3btr1uQAAAAAAAkHBAAAAAAAA4cUCSJEmSJGFyQEmSJEmSJHRAkiRJkiQ5dkBJkiRJkvR2QJIkSZIkGXhAkiRJkiTReEBu27Zt2yZ5QLdt27Zt23lAkiRJkiS5eUC3bdu2bdN4QLdt27ZtU3hAkiRJkiQ5eEAAAAAAALB3QNu2bdu2bXdAJUmSJEkKd0Bu27Zt25Z1QLdt27ZtY3RA27Zt27YFc0AlSZIkSTpyQCVJkiRJmnFASZIkSZLkcECSJEmSJElwQLdt27Ztm29A27Zt27ZNbkCSJEmSJIltQG7btm3bVmxAJUmSJEmia0AlSZIkSfJqQNu2bdu2DWpAt23btm2baUAAAAAAAKBoQEmSJEmSJGhAAAAAAADAZkCSJEmSJLllQNu2bdu2jWRAJUmSJElSY0AAAAAAAPBhQJIkSZIkGWNASZIkSZIEYkAAAAAAACBhQJIkSZIkKWBASZIkSZK0YEDbtm3bth1gQCVJkiRJ8l5A27Zt27aNXUCSJEmSJKldQJIkSZIkqVxASZIkSZKEW0BJkiRJkuRaQG7btm3bNltAJUmSJEmyW0BJkiRJkoRWQAAAAAAAAFdA27Zt27ZNVkAlSZIkSZJVQEmSJEmSxFJAkiRJkiSJUUAAAAAAAOBQQLdt27ZtW1BAAAAAAACATkCSJEmSJElNQLdt27Zt20tAbtu2bdt2S0Bu27Zt2zZIQG7btm3bdkVAbtu2bdt2RkDbtm3bti1FQAAAAAAAAEVAAAAAAACAQ0Bu27Zt2zZCQNu2bdu27UBAkiRJkiRJP0Bu27Zt2zY9QG7btm3btj5AJUmSJEmSPkAlSZIkSRI+QG7btm3bNjxAJUmSJEmSPEAlSZIkSRI8QNu2bdu27ThAJUmSJEkSOECSJEmSJEk3QCVJkiRJEjdAAAAAAAAANkAAAAAAAIA2QJIkSZIkSTZAAAAAAAAANkDbtm3btm01QLdt27ZtWzNAbtu2bdu2MkDbtm3btu0wQG7btm3btjBAkiRJkiRJL0CSJEmSJEksQEmSJEmSJCtASZIkSZIkKkA=\",\"dtype\":\"float64\",\"shape\":[127]}},\"selected\":{\"id\":\"2969\"},\"selection_policy\":{\"id\":\"2970\"}},\"id\":\"2838\",\"type\":\"ColumnDataSource\"},{\"attributes\":{},\"id\":\"2861\",\"type\":\"Selection\"},{\"attributes\":{},\"id\":\"2778\",\"type\":\"DataRange1d\"},{\"attributes\":{\"label\":{\"value\":\"new deaths\"},\"renderers\":[{\"id\":\"2811\"}]},\"id\":\"2832\",\"type\":\"LegendItem\"},{\"attributes\":{\"days\":[1,2,3,4,5,6,7,8,9,10,11,12,13,14,15,16,17,18,19,20,21,22,23,24,25,26,27,28,29,30,31]},\"id\":\"2822\",\"type\":\"DaysTicker\"},{\"attributes\":{\"days\":[\"%d %B\"]},\"id\":\"2871\",\"type\":\"DatetimeTickFormatter\"},{\"attributes\":{},\"id\":\"2782\",\"type\":\"LinearScale\"},{\"attributes\":{},\"id\":\"2864\",\"type\":\"UnionRenderers\"},{\"attributes\":{\"axis\":{\"id\":\"2790\"},\"dimension\":1,\"ticker\":null},\"id\":\"2793\",\"type\":\"Grid\"},{\"attributes\":{},\"id\":\"2799\",\"type\":\"HelpTool\"},{\"attributes\":{\"callback\":null,\"formatters\":{\"@x\":\"datetime\"},\"mode\":\"vline\",\"tooltips\":[[\"date\",\"@x{%d %B}\"],[\"new_deaths OR SMA 14\",\"@y{0[.]000}\"]]},\"id\":\"2875\",\"type\":\"HoverTool\"},{\"attributes\":{\"label\":{\"value\":\"SMA 14 days\"},\"renderers\":[{\"id\":\"2841\"}]},\"id\":\"2865\",\"type\":\"LegendItem\"},{\"attributes\":{\"items\":[{\"id\":\"2832\"},{\"id\":\"2865\"}],\"location\":\"top_left\"},\"id\":\"2831\",\"type\":\"Legend\"},{\"attributes\":{},\"id\":\"2780\",\"type\":\"DataRange1d\"},{\"attributes\":{\"line_alpha\":0.1,\"line_color\":\"lightgreen\",\"line_width\":4,\"x\":{\"field\":\"x\"},\"y\":{\"field\":\"y\"}},\"id\":\"2840\",\"type\":\"Line\"},{\"attributes\":{\"days\":[1,8,15,22]},\"id\":\"2824\",\"type\":\"DaysTicker\"},{\"attributes\":{},\"id\":\"2784\",\"type\":\"LinearScale\"},{\"attributes\":{\"bottom_units\":\"screen\",\"fill_alpha\":0.5,\"fill_color\":\"lightgrey\",\"left_units\":\"screen\",\"level\":\"overlay\",\"line_alpha\":1.0,\"line_color\":\"black\",\"line_dash\":[4,4],\"line_width\":2,\"render_mode\":\"css\",\"right_units\":\"screen\",\"top_units\":\"screen\"},\"id\":\"2800\",\"type\":\"BoxAnnotation\"},{\"attributes\":{\"months\":[0,1,2,3,4,5,6,7,8,9,10,11]},\"id\":\"2826\",\"type\":\"MonthsTicker\"},{\"attributes\":{\"data\":{\"x\":{\"__ndarray__\":\"AAAA5UcHd0IAAMBKmgd3QgAAgLDsB3dCAABAFj8Id0IAAAB8kQh3QgAAwOHjCHdCAACARzYJd0IAAECtiAl3QgAAABPbCXdCAADAeC0Kd0IAAIDefwp3QgAAQETSCndCAAAAqiQLd0IAAMAPdwt3QgAAgHXJC3dCAABA2xsMd0IAAABBbgx3QgAAwKbADHdCAACADBMNd0IAAEByZQ13QgAAANi3DXdCAADAPQoOd0IAAICjXA53QgAAQAmvDndCAAAAbwEPd0IAAMDUUw93QgAAgDqmD3dCAABAoPgPd0IAAAAGSxB3QgAAwGudEHdCAACA0e8Qd0IAAEA3QhF3QgAAAJ2UEXdCAADAAucRd0IAAIBoORJ3QgAAQM6LEndCAAAANN4Sd0IAAMCZMBN3QgAAgP+CE3dCAABAZdUTd0IAAADLJxR3QgAAwDB6FHdCAACAlswUd0IAAED8HhV3QgAAAGJxFXdCAADAx8MVd0IAAIAtFhZ3QgAAQJNoFndCAAAA+boWd0IAAMBeDRd3QgAAgMRfF3dCAABAKrIXd0IAAACQBBh3QgAAwPVWGHdCAACAW6kYd0IAAEDB+xh3QgAAACdOGXdCAADAjKAZd0IAAIDy8hl3QgAAQFhFGndCAAAAvpcad0IAAMAj6hp3QgAAgIk8G3dCAABA744bd0IAAABV4Rt3QgAAwLozHHdCAACAIIYcd0IAAECG2Bx3QgAAAOwqHXdCAADAUX0dd0IAAIC3zx13QgAAQB0iHndCAAAAg3Qed0IAAMDoxh53QgAAgE4ZH3dCAABAtGsfd0IAAAAavh93QgAAwH8QIHdCAACA5WIgd0IAAEBLtSB3QgAAALEHIXdCAADAFlohd0IAAIB8rCF3QgAAQOL+IXdCAAAASFEid0IAAMCtoyJ3QgAAgBP2IndCAABAeUgjd0IAAADfmiN3QgAAwETtI3dCAACAqj8kd0IAAEAQkiR3QgAAAHbkJHdCAADA2zYld0IAAIBBiSV3QgAAQKfbJXdCAAAADS4md0IAAMBygCZ3QgAAgNjSJndCAABAPiUnd0IAAACkdyd3QgAAwAnKJ3dCAACAbxwod0IAAEDVbih3QgAAADvBKHdCAADAoBMpd0IAAIAGZil3QgAAQGy4KXdCAAAA0goqd0IAAMA3XSp3QgAAgJ2vKndCAABAAwIrd0IAAABpVCt3QgAAwM6mK3dCAACANPkrd0IAAECaSyx3QgAAAACeLHdCAADAZfAsd0IAAIDLQi13QgAAQDGVLXdCAAAAl+ctd0IAAMD8OS53QgAAgGKMLndCAABAyN4ud0IAAAAuMS93QgAAwJODL3dCAACA+dUvd0I=\",\"dtype\":\"float64\",\"shape\":[127]},\"y\":[0,3,0,5,3,6,1,14,17,18,25,37,19,113,66,135,149,127,146,76,252,202,220,319,209,381,546,361,320,402,296,387,541,542,416,458,381,394,367,351,345,249,297,282,238,300,216,273,110,280,241,235,231,243,199,163,163,203,161,200,166,163,56,124,126,104,93,88,329,42,63,95,222,134,94,85,62,68,62,69,111,115,39,69,24,54,65,65,57,56,0,34,22,58,20,38,67,33,19,12,29,29,21,27,21,32,15,32,25,31,23,21,8,9,14,36,18,23,13,3,6,7,22,16,2,13,1]},\"selected\":{\"id\":\"2861\"},\"selection_policy\":{\"id\":\"2862\"}},\"id\":\"2808\",\"type\":\"ColumnDataSource\"},{\"attributes\":{\"source\":{\"id\":\"2838\"}},\"id\":\"2842\",\"type\":\"CDSView\"},{\"attributes\":{\"fill_alpha\":{\"value\":0.1},\"fill_color\":{\"value\":\"white\"},\"line_alpha\":{\"value\":0.1},\"line_color\":{\"value\":\"darkviolet\"},\"size\":{\"units\":\"screen\",\"value\":5},\"x\":{\"field\":\"x\"},\"y\":{\"field\":\"y\"}},\"id\":\"2835\",\"type\":\"Circle\"},{\"attributes\":{\"days\":[1,4,7,10,13,16,19,22,25,28]},\"id\":\"2823\",\"type\":\"DaysTicker\"},{\"attributes\":{},\"id\":\"2969\",\"type\":\"Selection\"},{\"attributes\":{\"line_alpha\":0.1,\"line_color\":\"darkviolet\",\"line_width\":4,\"x\":{\"field\":\"x\"},\"y\":{\"field\":\"y\"}},\"id\":\"2810\",\"type\":\"Line\"},{\"attributes\":{\"source\":{\"id\":\"2833\"}},\"id\":\"2837\",\"type\":\"CDSView\"},{\"attributes\":{},\"id\":\"2862\",\"type\":\"UnionRenderers\"},{\"attributes\":{},\"id\":\"2972\",\"type\":\"UnionRenderers\"},{\"attributes\":{},\"id\":\"2798\",\"type\":\"ResetTool\"},{\"attributes\":{\"data\":{\"x\":{\"__ndarray__\":\"AAAA5UcHd0IAAMBKmgd3QgAAgLDsB3dCAABAFj8Id0IAAAB8kQh3QgAAwOHjCHdCAACARzYJd0IAAECtiAl3QgAAABPbCXdCAADAeC0Kd0IAAIDefwp3QgAAQETSCndCAAAAqiQLd0IAAMAPdwt3QgAAgHXJC3dCAABA2xsMd0IAAABBbgx3QgAAwKbADHdCAACADBMNd0IAAEByZQ13QgAAANi3DXdCAADAPQoOd0IAAICjXA53QgAAQAmvDndCAAAAbwEPd0IAAMDUUw93QgAAgDqmD3dCAABAoPgPd0IAAAAGSxB3QgAAwGudEHdCAACA0e8Qd0IAAEA3QhF3QgAAAJ2UEXdCAADAAucRd0IAAIBoORJ3QgAAQM6LEndCAAAANN4Sd0IAAMCZMBN3QgAAgP+CE3dCAABAZdUTd0IAAADLJxR3QgAAwDB6FHdCAACAlswUd0IAAED8HhV3QgAAAGJxFXdCAADAx8MVd0IAAIAtFhZ3QgAAQJNoFndCAAAA+boWd0IAAMBeDRd3QgAAgMRfF3dCAABAKrIXd0IAAACQBBh3QgAAwPVWGHdCAACAW6kYd0IAAEDB+xh3QgAAACdOGXdCAADAjKAZd0IAAIDy8hl3QgAAQFhFGndCAAAAvpcad0IAAMAj6hp3QgAAgIk8G3dCAABA744bd0IAAABV4Rt3QgAAwLozHHdCAACAIIYcd0IAAECG2Bx3QgAAAOwqHXdCAADAUX0dd0IAAIC3zx13QgAAQB0iHndCAAAAg3Qed0IAAMDoxh53QgAAgE4ZH3dCAABAtGsfd0IAAAAavh93QgAAwH8QIHdCAACA5WIgd0IAAEBLtSB3QgAAALEHIXdCAADAFlohd0IAAIB8rCF3QgAAQOL+IXdCAAAASFEid0IAAMCtoyJ3QgAAgBP2IndCAABAeUgjd0IAAADfmiN3QgAAwETtI3dCAACAqj8kd0IAAEAQkiR3QgAAAHbkJHdCAADA2zYld0IAAIBBiSV3QgAAQKfbJXdCAAAADS4md0IAAMBygCZ3QgAAgNjSJndCAABAPiUnd0IAAACkdyd3QgAAwAnKJ3dCAACAbxwod0IAAEDVbih3QgAAADvBKHdCAADAoBMpd0IAAIAGZil3QgAAQGy4KXdCAAAA0goqd0IAAMA3XSp3QgAAgJ2vKndCAABAAwIrd0IAAABpVCt3QgAAwM6mK3dCAACANPkrd0IAAECaSyx3QgAAAACeLHdCAADAZfAsd0IAAIDLQi13QgAAQDGVLXdCAAAAl+ctd0IAAMD8OS53QgAAgGKMLndCAABAyN4ud0IAAAAuMS93QgAAwJODL3dCAACA+dUvd0I=\",\"dtype\":\"float64\",\"shape\":[127]},\"y\":{\"__ndarray__\":\"AAAAAAAA+H8AAAAAAAD4fwAAAAAAAPh/AAAAAAAA+H8AAAAAAAD4fwAAAAAAAPh/AAAAAAAA+H8AAAAAAAD4fwAAAAAAAPh/AAAAAAAA+H8AAAAAAAD4fwAAAAAAAPh/AAAAAAAA+H9JkiRJkqQyQLdt27ZtWzdASZIkSZJkQEBu27Zt27ZFQCVJkiRJEkpA27Zt27YtT0Bu27Zt29ZQQCVJkiRJUlVA27Zt27atWEDbtm3btk1cQG7btm3b1mBAt23btm17YkDbtm3bto1lQCVJkiRJQmpAkiRJkiR5bEDbtm3btr1uQAAAAAAAkHBAAAAAAAA4cUCSJEmSJGFyQEmSJEmSJHRAkiRJkiQ5dkBJkiRJkvR2QJIkSZIkGXhAkiRJkiTReEBu27Zt2yZ5QLdt27Zt23lAkiRJkiS5eUC3bdu2bdN4QLdt27ZtU3hAkiRJkiQ5eEAAAAAAALB3QNu2bdu2bXdAJUmSJEkKd0Bu27Zt25Z1QLdt27ZtY3RA27Zt27YFc0AlSZIkSTpyQCVJkiRJmnFASZIkSZLkcECSJEmSJElwQLdt27Ztm29A27Zt27ZNbkCSJEmSJIltQG7btm3bVmxAJUmSJEmia0AlSZIkSfJqQNu2bdu2DWpAt23btm2baUAAAAAAAKBoQEmSJEmSJGhAAAAAAADAZkCSJEmSJLllQNu2bdu2jWRAJUmSJElSY0AAAAAAAPBhQJIkSZIkGWNASZIkSZIEYkAAAAAAACBhQJIkSZIkKWBASZIkSZK0YEDbtm3bth1gQCVJkiRJ8l5A27Zt27aNXUCSJEmSJKldQJIkSZIkqVxASZIkSZKEW0BJkiRJkuRaQG7btm3bNltAJUmSJEmyW0BJkiRJkoRWQAAAAAAAAFdA27Zt27ZNVkAlSZIkSZJVQEmSJEmSxFJAkiRJkiSJUUAAAAAAAOBQQLdt27ZtW1BAAAAAAACATkCSJEmSJElNQLdt27Zt20tAbtu2bdt2S0Bu27Zt2zZIQG7btm3bdkVAbtu2bdt2RkDbtm3bti1FQAAAAAAAAEVAAAAAAACAQ0Bu27Zt2zZCQNu2bdu27UBAkiRJkiRJP0Bu27Zt2zY9QG7btm3btj5AJUmSJEmSPkAlSZIkSRI+QG7btm3bNjxAJUmSJEmSPEAlSZIkSRI8QNu2bdu27ThAJUmSJEkSOECSJEmSJEk3QCVJkiRJEjdAAAAAAAAANkAAAAAAAIA2QJIkSZIkSTZAAAAAAAAANkDbtm3btm01QLdt27ZtWzNAbtu2bdu2MkDbtm3btu0wQG7btm3btjBAkiRJkiRJL0CSJEmSJEksQEmSJEmSJCtASZIkSZIkKkA=\",\"dtype\":\"float64\",\"shape\":[127]}},\"selected\":{\"id\":\"2971\"},\"selection_policy\":{\"id\":\"2972\"}},\"id\":\"2866\",\"type\":\"ColumnDataSource\"},{\"attributes\":{\"days\":[1,15]},\"id\":\"2825\",\"type\":\"DaysTicker\"},{\"attributes\":{},\"id\":\"2791\",\"type\":\"BasicTicker\"},{\"attributes\":{\"fill_color\":{\"value\":\"white\"},\"line_color\":{\"value\":\"lightgreen\"},\"size\":{\"units\":\"screen\",\"value\":5},\"x\":{\"field\":\"x\"},\"y\":{\"field\":\"y\"}},\"id\":\"2867\",\"type\":\"Circle\"},{\"attributes\":{\"base\":24,\"mantissas\":[1,2,4,6,8,12],\"max_interval\":43200000.0,\"min_interval\":3600000.0,\"num_minor_ticks\":0},\"id\":\"2821\",\"type\":\"AdaptiveTicker\"},{\"attributes\":{\"months\":[0,2,4,6,8,10]},\"id\":\"2827\",\"type\":\"MonthsTicker\"},{\"attributes\":{\"axis\":{\"id\":\"2786\"},\"ticker\":null},\"id\":\"2789\",\"type\":\"Grid\"},{\"attributes\":{\"num_minor_ticks\":5,\"tickers\":[{\"id\":\"2819\"},{\"id\":\"2820\"},{\"id\":\"2821\"},{\"id\":\"2822\"},{\"id\":\"2823\"},{\"id\":\"2824\"},{\"id\":\"2825\"},{\"id\":\"2826\"},{\"id\":\"2827\"},{\"id\":\"2828\"},{\"id\":\"2829\"},{\"id\":\"2830\"}]},\"id\":\"2787\",\"type\":\"DatetimeTicker\"},{\"attributes\":{},\"id\":\"2863\",\"type\":\"Selection\"},{\"attributes\":{},\"id\":\"2970\",\"type\":\"UnionRenderers\"},{\"attributes\":{\"axis_label\":\"New Deaths\",\"formatter\":{\"id\":\"2873\"},\"minor_tick_in\":-5,\"minor_tick_out\":-3,\"ticker\":{\"id\":\"2791\"}},\"id\":\"2790\",\"type\":\"LinearAxis\"},{\"attributes\":{},\"id\":\"2795\",\"type\":\"WheelZoomTool\"}],\"root_ids\":[\"2775\"]},\"title\":\"Bokeh Application\",\"version\":\"2.0.2\"}};\n",
       "  var render_items = [{\"docid\":\"d4b77030-43ab-4fa0-8e77-d721b49abce6\",\"root_ids\":[\"2775\"],\"roots\":{\"2775\":\"f1baecd1-9381-4cae-beb5-3c726036a5ad\"}}];\n",
       "  root.Bokeh.embed.embed_items_notebook(docs_json, render_items);\n",
       "\n",
       "  }\n",
       "  if (root.Bokeh !== undefined) {\n",
       "    embed_document(root);\n",
       "  } else {\n",
       "    var attempts = 0;\n",
       "    var timer = setInterval(function(root) {\n",
       "      if (root.Bokeh !== undefined) {\n",
       "        clearInterval(timer);\n",
       "        embed_document(root);\n",
       "      } else {\n",
       "        attempts++;\n",
       "        if (attempts > 100) {\n",
       "          clearInterval(timer);\n",
       "          console.log(\"Bokeh: ERROR: Unable to run BokehJS code because BokehJS library is missing\");\n",
       "        }\n",
       "      }\n",
       "    }, 10, root)\n",
       "  }\n",
       "})(window);"
      ],
      "application/vnd.bokehjs_exec.v0+json": ""
     },
     "metadata": {
      "application/vnd.bokehjs_exec.v0+json": {
       "id": "2775"
      }
     },
     "output_type": "display_data"
    }
   ],
   "source": [
    "p_new_deaths_SMA_Lombardia = bokeh_plot_N_lines(x=time_date_new, y_list=[nuovi_deceduti_Lombardia,SMA_new_deaths_Lombardia_2[0]], \n",
    "                  title='New Deaths: Lombardia',\n",
    "                  dim=[600, 450], \n",
    "                  x_label='Date',\n",
    "                  y_label='New Deaths', \n",
    "                  legend_list=['new deaths','SMA 14 days'],\n",
    "                  x_label_hover='date' , y_label_hover='new_deaths OR SMA 14' , \n",
    "                  color_list=['darkviolet','lightgreen'],legend_location=\"top_left\")\n",
    "\n",
    "output_file(\"new_deaths_SMA_Lombardia.html\")\n",
    "\n",
    "show(p_new_deaths_SMA_Lombardia)"
   ]
  },
  {
   "cell_type": "markdown",
   "metadata": {},
   "source": [
    "----------------\n",
    "\n",
    "----------------"
   ]
  },
  {
   "cell_type": "code",
   "execution_count": 26,
   "metadata": {},
   "outputs": [],
   "source": [
    "s1_grid_Lombardia = bokeh_plot_N_lines(x=time_date_new, y_list=[total_cases_Lombardia,total_positive_Lombardia], \n",
    "                  title='Total Cases & Total Positive: Lombardia', \n",
    "                  dim=[470, 350], \n",
    "                  x_label='Date', \n",
    "                  y_label='Total Cases & Total Positive', legend_list=['total cases','total positive'],\n",
    "                  x_label_hover='date', y_label_hover='total cases OR total positive',\n",
    "                  color_list=['blue','red'],legend_location=\"top_left\")\n",
    "\n",
    "s2_grid_Lombardia = bokeh_plot_N_lines(x=time_date_new, y_list=[deceduti_Lombardia,guariti_Lombardia], \n",
    "                  title='Deaths & Recovered: Lombardia', \n",
    "                  dim=[470, 350], \n",
    "                  x_label='Date', \n",
    "                  y_label='Deaths & Recovered', legend_list=['deaths','recovered'],\n",
    "                  x_label_hover='date', y_label_hover='deaths OR recovered',\n",
    "                  color_list=['darkviolet','green'],legend_location=\"top_left\")\n",
    "\n",
    "\n",
    "s3_grid_Lombardia = bokeh_plot_N_lines(x=time_date_new, y_list=[nuovi_positivi_Lombardia,SMA_new_positive_Lombardia_2['nuovi_positivi']], \n",
    "                  title='New Positive: Lombardia',\n",
    "                  dim=[470, 350], \n",
    "                  x_label='Date',\n",
    "                  y_label='New Positive', \n",
    "                  legend_list=['new positive','SMA 14 days'],\n",
    "                  x_label_hover='date' , y_label_hover='new_positive OR SMA 14' , \n",
    "                  color_list=['blue','lightcoral'],legend_location=\"top_left\")\n",
    "\n",
    "s4_grid_Lombardia = bokeh_plot_N_lines(x=time_date_new, y_list=[nuovi_deceduti_Lombardia,SMA_new_deaths_Lombardia_2[0]], \n",
    "                  title='New Deaths: Lombardia',\n",
    "                  dim=[470, 350], \n",
    "                  x_label='Date',\n",
    "                  y_label='New Deaths', \n",
    "                  legend_list=['new deaths','SMA 14 days'],\n",
    "                  x_label_hover='date' , y_label_hover='new_deaths OR SMA 14' , \n",
    "                  color_list=['darkviolet','lightgreen'],legend_location=\"top_left\")"
   ]
  },
  {
   "cell_type": "code",
   "execution_count": 27,
   "metadata": {},
   "outputs": [
    {
     "data": {
      "text/html": [
       "\n",
       "\n",
       "\n",
       "\n",
       "\n",
       "\n",
       "  <div class=\"bk-root\" id=\"59924758-2bf6-45d6-a552-0b5503635359\" data-root-id=\"3941\"></div>\n"
      ]
     },
     "metadata": {},
     "output_type": "display_data"
    },
    {
     "data": {
      "application/javascript": [
       "(function(root) {\n",
       "  function embed_document(root) {\n",
       "    \n",
       "  var docs_json = {\"a0ad0e0a-a836-411a-99b1-294464cc29df\":{\"roots\":{\"references\":[{\"attributes\":{\"children\":[{\"id\":\"3940\"},{\"id\":\"3938\"}]},\"id\":\"3941\",\"type\":\"Column\"},{\"attributes\":{},\"id\":\"3637\",\"type\":\"DataRange1d\"},{\"attributes\":{\"line_alpha\":0.1,\"line_color\":\"darkviolet\",\"line_width\":4,\"x\":{\"field\":\"x\"},\"y\":{\"field\":\"y\"}},\"id\":\"3771\",\"type\":\"Line\"},{\"attributes\":{\"text\":\"New Deaths: Lombardia\"},\"id\":\"3737\",\"type\":\"Title\"},{\"attributes\":{},\"id\":\"3739\",\"type\":\"DataRange1d\"},{\"attributes\":{\"mantissas\":[1,2,5],\"max_interval\":500.0,\"num_minor_ticks\":0},\"id\":\"3576\",\"type\":\"AdaptiveTicker\"},{\"attributes\":{\"days\":[1,15]},\"id\":\"3684\",\"type\":\"DaysTicker\"},{\"attributes\":{},\"id\":\"3639\",\"type\":\"DataRange1d\"},{\"attributes\":{\"months\":[0,1,2,3,4,5,6,7,8,9,10,11]},\"id\":\"3685\",\"type\":\"MonthsTicker\"},{\"attributes\":{},\"id\":\"3741\",\"type\":\"DataRange1d\"},{\"attributes\":{\"base\":24,\"mantissas\":[1,2,4,6,8,12],\"max_interval\":43200000.0,\"min_interval\":3600000.0,\"num_minor_ticks\":0},\"id\":\"3578\",\"type\":\"AdaptiveTicker\"},{\"attributes\":{\"months\":[0,2,4,6,8,10]},\"id\":\"3686\",\"type\":\"MonthsTicker\"},{\"attributes\":{},\"id\":\"3641\",\"type\":\"LinearScale\"},{\"attributes\":{\"base\":60,\"mantissas\":[1,2,5,10,15,20,30],\"max_interval\":1800000.0,\"min_interval\":1000.0,\"num_minor_ticks\":0},\"id\":\"3577\",\"type\":\"AdaptiveTicker\"},{\"attributes\":{},\"id\":\"3643\",\"type\":\"LinearScale\"},{\"attributes\":{\"months\":[0,4,8]},\"id\":\"3687\",\"type\":\"MonthsTicker\"},{\"attributes\":{},\"id\":\"3743\",\"type\":\"LinearScale\"},{\"attributes\":{},\"id\":\"3885\",\"type\":\"Selection\"},{\"attributes\":{\"axis_label\":\"Date\",\"formatter\":{\"id\":\"3730\"},\"major_label_orientation\":0.7853981633974483,\"minor_tick_in\":-5,\"minor_tick_out\":-3,\"ticker\":{\"id\":\"3646\"}},\"id\":\"3645\",\"type\":\"DatetimeAxis\"},{\"attributes\":{},\"id\":\"3745\",\"type\":\"LinearScale\"},{\"attributes\":{\"months\":[0,6]},\"id\":\"3688\",\"type\":\"MonthsTicker\"},{\"attributes\":{},\"id\":\"3650\",\"type\":\"BasicTicker\"},{\"attributes\":{\"days\":[1,2,3,4,5,6,7,8,9,10,11,12,13,14,15,16,17,18,19,20,21,22,23,24,25,26,27,28,29,30,31]},\"id\":\"3579\",\"type\":\"DaysTicker\"},{\"attributes\":{\"axis_label\":\"Date\",\"formatter\":{\"id\":\"3832\"},\"major_label_orientation\":0.7853981633974483,\"minor_tick_in\":-5,\"minor_tick_out\":-3,\"ticker\":{\"id\":\"3748\"}},\"id\":\"3747\",\"type\":\"DatetimeAxis\"},{\"attributes\":{\"num_minor_ticks\":5,\"tickers\":[{\"id\":\"3678\"},{\"id\":\"3679\"},{\"id\":\"3680\"},{\"id\":\"3681\"},{\"id\":\"3682\"},{\"id\":\"3683\"},{\"id\":\"3684\"},{\"id\":\"3685\"},{\"id\":\"3686\"},{\"id\":\"3687\"},{\"id\":\"3688\"},{\"id\":\"3689\"}]},\"id\":\"3646\",\"type\":\"DatetimeTicker\"},{\"attributes\":{},\"id\":\"3689\",\"type\":\"YearsTicker\"},{\"attributes\":{\"fill_alpha\":{\"value\":0.1},\"fill_color\":{\"value\":\"white\"},\"line_alpha\":{\"value\":0.1},\"line_color\":{\"value\":\"blue\"},\"size\":{\"units\":\"screen\",\"value\":5},\"x\":{\"field\":\"x\"},\"y\":{\"field\":\"y\"}},\"id\":\"3694\",\"type\":\"Circle\"},{\"attributes\":{\"data\":{\"x\":{\"__ndarray__\":\"AAAA5UcHd0IAAMBKmgd3QgAAgLDsB3dCAABAFj8Id0IAAAB8kQh3QgAAwOHjCHdCAACARzYJd0IAAECtiAl3QgAAABPbCXdCAADAeC0Kd0IAAIDefwp3QgAAQETSCndCAAAAqiQLd0IAAMAPdwt3QgAAgHXJC3dCAABA2xsMd0IAAABBbgx3QgAAwKbADHdCAACADBMNd0IAAEByZQ13QgAAANi3DXdCAADAPQoOd0IAAICjXA53QgAAQAmvDndCAAAAbwEPd0IAAMDUUw93QgAAgDqmD3dCAABAoPgPd0IAAAAGSxB3QgAAwGudEHdCAACA0e8Qd0IAAEA3QhF3QgAAAJ2UEXdCAADAAucRd0IAAIBoORJ3QgAAQM6LEndCAAAANN4Sd0IAAMCZMBN3QgAAgP+CE3dCAABAZdUTd0IAAADLJxR3QgAAwDB6FHdCAACAlswUd0IAAED8HhV3QgAAAGJxFXdCAADAx8MVd0IAAIAtFhZ3QgAAQJNoFndCAAAA+boWd0IAAMBeDRd3QgAAgMRfF3dCAABAKrIXd0IAAACQBBh3QgAAwPVWGHdCAACAW6kYd0IAAEDB+xh3QgAAACdOGXdCAADAjKAZd0IAAIDy8hl3QgAAQFhFGndCAAAAvpcad0IAAMAj6hp3QgAAgIk8G3dCAABA744bd0IAAABV4Rt3QgAAwLozHHdCAACAIIYcd0IAAECG2Bx3QgAAAOwqHXdCAADAUX0dd0IAAIC3zx13QgAAQB0iHndCAAAAg3Qed0IAAMDoxh53QgAAgE4ZH3dCAABAtGsfd0IAAAAavh93QgAAwH8QIHdCAACA5WIgd0IAAEBLtSB3QgAAALEHIXdCAADAFlohd0IAAIB8rCF3QgAAQOL+IXdCAAAASFEid0IAAMCtoyJ3QgAAgBP2IndCAABAeUgjd0IAAADfmiN3QgAAwETtI3dCAACAqj8kd0IAAEAQkiR3QgAAAHbkJHdCAADA2zYld0IAAIBBiSV3QgAAQKfbJXdCAAAADS4md0IAAMBygCZ3QgAAgNjSJndCAABAPiUnd0IAAACkdyd3QgAAwAnKJ3dCAACAbxwod0IAAEDVbih3QgAAADvBKHdCAADAoBMpd0IAAIAGZil3QgAAQGy4KXdCAAAA0goqd0IAAMA3XSp3QgAAgJ2vKndCAABAAwIrd0IAAABpVCt3QgAAwM6mK3dCAACANPkrd0IAAECaSyx3QgAAAACeLHdCAADAZfAsd0IAAIDLQi13QgAAQDGVLXdCAAAAl+ctd0IAAMD8OS53QgAAgGKMLndCAABAyN4ud0IAAAAuMS93QgAAwJODL3dCAACA+dUvd0I=\",\"dtype\":\"float64\",\"shape\":[127]},\"y\":[0,3,0,5,3,6,1,14,17,18,25,37,19,113,66,135,149,127,146,76,252,202,220,319,209,381,546,361,320,402,296,387,541,542,416,458,381,394,367,351,345,249,297,282,238,300,216,273,110,280,241,235,231,243,199,163,163,203,161,200,166,163,56,124,126,104,93,88,329,42,63,95,222,134,94,85,62,68,62,69,111,115,39,69,24,54,65,65,57,56,0,34,22,58,20,38,67,33,19,12,29,29,21,27,21,32,15,32,25,31,23,21,8,9,14,36,18,23,13,3,6,7,22,16,2,13,1]},\"selected\":{\"id\":\"3822\"},\"selection_policy\":{\"id\":\"3823\"}},\"id\":\"3769\",\"type\":\"ColumnDataSource\"},{\"attributes\":{\"days\":[1,4,7,10,13,16,19,22,25,28]},\"id\":\"3580\",\"type\":\"DaysTicker\"},{\"attributes\":{\"axis\":{\"id\":\"3645\"},\"ticker\":null},\"id\":\"3648\",\"type\":\"Grid\"},{\"attributes\":{\"fill_color\":{\"value\":\"white\"},\"line_color\":{\"value\":\"blue\"},\"size\":{\"units\":\"screen\",\"value\":5},\"x\":{\"field\":\"x\"},\"y\":{\"field\":\"y\"}},\"id\":\"3693\",\"type\":\"Circle\"},{\"attributes\":{\"num_minor_ticks\":5,\"tickers\":[{\"id\":\"3780\"},{\"id\":\"3781\"},{\"id\":\"3782\"},{\"id\":\"3783\"},{\"id\":\"3784\"},{\"id\":\"3785\"},{\"id\":\"3786\"},{\"id\":\"3787\"},{\"id\":\"3788\"},{\"id\":\"3789\"},{\"id\":\"3790\"},{\"id\":\"3791\"}]},\"id\":\"3748\",\"type\":\"DatetimeTicker\"},{\"attributes\":{\"days\":[1,8,15,22]},\"id\":\"3581\",\"type\":\"DaysTicker\"},{\"attributes\":{\"axis\":{\"id\":\"3649\"},\"dimension\":1,\"ticker\":null},\"id\":\"3652\",\"type\":\"Grid\"},{\"attributes\":{\"axis\":{\"id\":\"3747\"},\"ticker\":null},\"id\":\"3750\",\"type\":\"Grid\"},{\"attributes\":{\"data\":{\"x\":{\"__ndarray__\":\"AAAA5UcHd0IAAMBKmgd3QgAAgLDsB3dCAABAFj8Id0IAAAB8kQh3QgAAwOHjCHdCAACARzYJd0IAAECtiAl3QgAAABPbCXdCAADAeC0Kd0IAAIDefwp3QgAAQETSCndCAAAAqiQLd0IAAMAPdwt3QgAAgHXJC3dCAABA2xsMd0IAAABBbgx3QgAAwKbADHdCAACADBMNd0IAAEByZQ13QgAAANi3DXdCAADAPQoOd0IAAICjXA53QgAAQAmvDndCAAAAbwEPd0IAAMDUUw93QgAAgDqmD3dCAABAoPgPd0IAAAAGSxB3QgAAwGudEHdCAACA0e8Qd0IAAEA3QhF3QgAAAJ2UEXdCAADAAucRd0IAAIBoORJ3QgAAQM6LEndCAAAANN4Sd0IAAMCZMBN3QgAAgP+CE3dCAABAZdUTd0IAAADLJxR3QgAAwDB6FHdCAACAlswUd0IAAED8HhV3QgAAAGJxFXdCAADAx8MVd0IAAIAtFhZ3QgAAQJNoFndCAAAA+boWd0IAAMBeDRd3QgAAgMRfF3dCAABAKrIXd0IAAACQBBh3QgAAwPVWGHdCAACAW6kYd0IAAEDB+xh3QgAAACdOGXdCAADAjKAZd0IAAIDy8hl3QgAAQFhFGndCAAAAvpcad0IAAMAj6hp3QgAAgIk8G3dCAABA744bd0IAAABV4Rt3QgAAwLozHHdCAACAIIYcd0IAAECG2Bx3QgAAAOwqHXdCAADAUX0dd0IAAIC3zx13QgAAQB0iHndCAAAAg3Qed0IAAMDoxh53QgAAgE4ZH3dCAABAtGsfd0IAAAAavh93QgAAwH8QIHdCAACA5WIgd0IAAEBLtSB3QgAAALEHIXdCAADAFlohd0IAAIB8rCF3QgAAQOL+IXdCAAAASFEid0IAAMCtoyJ3QgAAgBP2IndCAABAeUgjd0IAAADfmiN3QgAAwETtI3dCAACAqj8kd0IAAEAQkiR3QgAAAHbkJHdCAADA2zYld0IAAIBBiSV3QgAAQKfbJXdCAAAADS4md0IAAMBygCZ3QgAAgNjSJndCAABAPiUnd0IAAACkdyd3QgAAwAnKJ3dCAACAbxwod0IAAEDVbih3QgAAADvBKHdCAADAoBMpd0IAAIAGZil3QgAAQGy4KXdCAAAA0goqd0IAAMA3XSp3QgAAgJ2vKndCAABAAwIrd0IAAABpVCt3QgAAwM6mK3dCAACANPkrd0IAAECaSyx3QgAAAACeLHdCAADAZfAsd0IAAIDLQi13QgAAQDGVLXdCAAAAl+ctd0IAAMD8OS53QgAAgGKMLndCAABAyN4ud0IAAAAuMS93QgAAwJODL3dCAACA+dUvd0I=\",\"dtype\":\"float64\",\"shape\":[127]},\"y\":[166,68,18,145,128,84,369,270,266,300,431,361,808,769,1280,322,1489,1445,1095,1865,1587,1377,1571,1493,2171,2380,3251,1691,1555,1942,1643,2543,2409,2117,1592,1154,1047,1565,1292,1455,1598,1337,1079,791,1089,1388,1246,1544,1460,1262,1012,827,941,1041,1246,855,735,960,1161,1073,1091,713,920,590,869,786,598,737,533,526,577,500,764,720,634,502,282,364,1033,394,522,299,399,326,175,462,294,316,293,441,285,148,159,384,382,354,221,210,50,187,237,84,402,142,125,194,192,99,252,272,210,244,259,143,242,216,157,165,128,143,62,88,170,156,77,97,78]},\"selected\":{\"id\":\"3722\"},\"selection_policy\":{\"id\":\"3723\"}},\"id\":\"3692\",\"type\":\"ColumnDataSource\"},{\"attributes\":{\"axis_label\":\"New Positive\",\"formatter\":{\"id\":\"3732\"},\"minor_tick_in\":-5,\"minor_tick_out\":-3,\"ticker\":{\"id\":\"3650\"}},\"id\":\"3649\",\"type\":\"LinearAxis\"},{\"attributes\":{\"days\":[1,15]},\"id\":\"3582\",\"type\":\"DaysTicker\"},{\"attributes\":{\"data_source\":{\"id\":\"3692\"},\"glyph\":{\"id\":\"3693\"},\"hover_glyph\":null,\"muted_glyph\":null,\"nonselection_glyph\":{\"id\":\"3694\"},\"selection_glyph\":null,\"view\":{\"id\":\"3696\"}},\"id\":\"3695\",\"type\":\"GlyphRenderer\"},{\"attributes\":{\"line_color\":\"green\",\"line_width\":4,\"x\":{\"field\":\"x\"},\"y\":{\"field\":\"y\"}},\"id\":\"3596\",\"type\":\"Line\"},{\"attributes\":{\"axis_label\":\"New Deaths\",\"formatter\":{\"id\":\"3834\"},\"minor_tick_in\":-5,\"minor_tick_out\":-3,\"ticker\":{\"id\":\"3752\"}},\"id\":\"3751\",\"type\":\"LinearAxis\"},{\"attributes\":{\"months\":[0,1,2,3,4,5,6,7,8,9,10,11]},\"id\":\"3583\",\"type\":\"MonthsTicker\"},{\"attributes\":{\"line_color\":\"lightcoral\",\"line_width\":4,\"x\":{\"field\":\"x\"},\"y\":{\"field\":\"y\"}},\"id\":\"3698\",\"type\":\"Line\"},{\"attributes\":{\"items\":[{\"id\":\"3793\"},{\"id\":\"3826\"}],\"location\":\"top_left\"},\"id\":\"3792\",\"type\":\"Legend\"},{\"attributes\":{\"source\":{\"id\":\"3667\"}},\"id\":\"3671\",\"type\":\"CDSView\"},{\"attributes\":{\"source\":{\"id\":\"3692\"}},\"id\":\"3696\",\"type\":\"CDSView\"},{\"attributes\":{\"months\":[0,2,4,6,8,10]},\"id\":\"3584\",\"type\":\"MonthsTicker\"},{\"attributes\":{\"active_drag\":\"auto\",\"active_inspect\":\"auto\",\"active_multi\":null,\"active_scroll\":\"auto\",\"active_tap\":\"auto\",\"tools\":[{\"id\":\"3755\"},{\"id\":\"3756\"},{\"id\":\"3757\"},{\"id\":\"3758\"},{\"id\":\"3759\"},{\"id\":\"3760\"},{\"id\":\"3836\"}]},\"id\":\"3762\",\"type\":\"Toolbar\"},{\"attributes\":{\"line_alpha\":0.1,\"line_color\":\"blue\",\"line_width\":4,\"x\":{\"field\":\"x\"},\"y\":{\"field\":\"y\"}},\"id\":\"3669\",\"type\":\"Line\"},{\"attributes\":{\"line_color\":\"darkviolet\",\"line_width\":4,\"x\":{\"field\":\"x\"},\"y\":{\"field\":\"y\"}},\"id\":\"3770\",\"type\":\"Line\"},{\"attributes\":{\"active_drag\":\"auto\",\"active_inspect\":\"auto\",\"active_multi\":null,\"active_scroll\":\"auto\",\"active_tap\":\"auto\",\"tools\":[{\"id\":\"3653\"},{\"id\":\"3654\"},{\"id\":\"3655\"},{\"id\":\"3656\"},{\"id\":\"3657\"},{\"id\":\"3658\"},{\"id\":\"3734\"}]},\"id\":\"3660\",\"type\":\"Toolbar\"},{\"attributes\":{\"source\":{\"id\":\"3590\"}},\"id\":\"3594\",\"type\":\"CDSView\"},{\"attributes\":{\"source\":{\"id\":\"3769\"}},\"id\":\"3773\",\"type\":\"CDSView\"},{\"attributes\":{},\"id\":\"3755\",\"type\":\"PanTool\"},{\"attributes\":{\"axis\":{\"id\":\"3751\"},\"dimension\":1,\"ticker\":null},\"id\":\"3754\",\"type\":\"Grid\"},{\"attributes\":{\"num_minor_ticks\":5,\"tickers\":[{\"id\":\"3474\"},{\"id\":\"3475\"},{\"id\":\"3476\"},{\"id\":\"3477\"},{\"id\":\"3478\"},{\"id\":\"3479\"},{\"id\":\"3480\"},{\"id\":\"3481\"},{\"id\":\"3482\"},{\"id\":\"3483\"},{\"id\":\"3484\"},{\"id\":\"3485\"}]},\"id\":\"3442\",\"type\":\"DatetimeTicker\"},{\"attributes\":{\"data\":{\"x\":{\"__ndarray__\":\"AAAA5UcHd0IAAMBKmgd3QgAAgLDsB3dCAABAFj8Id0IAAAB8kQh3QgAAwOHjCHdCAACARzYJd0IAAECtiAl3QgAAABPbCXdCAADAeC0Kd0IAAIDefwp3QgAAQETSCndCAAAAqiQLd0IAAMAPdwt3QgAAgHXJC3dCAABA2xsMd0IAAABBbgx3QgAAwKbADHdCAACADBMNd0IAAEByZQ13QgAAANi3DXdCAADAPQoOd0IAAICjXA53QgAAQAmvDndCAAAAbwEPd0IAAMDUUw93QgAAgDqmD3dCAABAoPgPd0IAAAAGSxB3QgAAwGudEHdCAACA0e8Qd0IAAEA3QhF3QgAAAJ2UEXdCAADAAucRd0IAAIBoORJ3QgAAQM6LEndCAAAANN4Sd0IAAMCZMBN3QgAAgP+CE3dCAABAZdUTd0IAAADLJxR3QgAAwDB6FHdCAACAlswUd0IAAED8HhV3QgAAAGJxFXdCAADAx8MVd0IAAIAtFhZ3QgAAQJNoFndCAAAA+boWd0IAAMBeDRd3QgAAgMRfF3dCAABAKrIXd0IAAACQBBh3QgAAwPVWGHdCAACAW6kYd0IAAEDB+xh3QgAAACdOGXdCAADAjKAZd0IAAIDy8hl3QgAAQFhFGndCAAAAvpcad0IAAMAj6hp3QgAAgIk8G3dCAABA744bd0IAAABV4Rt3QgAAwLozHHdCAACAIIYcd0IAAECG2Bx3QgAAAOwqHXdCAADAUX0dd0IAAIC3zx13QgAAQB0iHndCAAAAg3Qed0IAAMDoxh53QgAAgE4ZH3dCAABAtGsfd0IAAAAavh93QgAAwH8QIHdCAACA5WIgd0IAAEBLtSB3QgAAALEHIXdCAADAFlohd0IAAIB8rCF3QgAAQOL+IXdCAAAASFEid0IAAMCtoyJ3QgAAgBP2IndCAABAeUgjd0IAAADfmiN3QgAAwETtI3dCAACAqj8kd0IAAEAQkiR3QgAAAHbkJHdCAADA2zYld0IAAIBBiSV3QgAAQKfbJXdCAAAADS4md0IAAMBygCZ3QgAAgNjSJndCAABAPiUnd0IAAACkdyd3QgAAwAnKJ3dCAACAbxwod0IAAEDVbih3QgAAADvBKHdCAADAoBMpd0IAAIAGZil3QgAAQGy4KXdCAAAA0goqd0IAAMA3XSp3QgAAgJ2vKndCAABAAwIrd0IAAABpVCt3QgAAwM6mK3dCAACANPkrd0IAAECaSyx3QgAAAACeLHdCAADAZfAsd0IAAIDLQi13QgAAQDGVLXdCAAAAl+ctd0IAAMD8OS53QgAAgGKMLndCAABAyN4ud0IAAAAuMS93QgAAwJODL3dCAACA+dUvd0I=\",\"dtype\":\"float64\",\"shape\":[127]},\"y\":[0,0,0,40,40,40,73,139,139,250,376,469,524,550,646,896,900,1085,1198,1660,2011,2368,2485,3488,3778,4295,5050,5865,6075,6657,7281,7839,8001,8962,9255,10337,10885,11415,12229,13020,13242,13426,13863,14498,15147,15706,16280,16823,17166,17478,17821,17855,18396,18850,19136,19526,20008,21374,22110,23352,23782,24227,24398,24589,25029,25333,25749,26136,26146,26371,26504,27124,33005,33329,33901,36039,36331,36406,37113,38081,38568,40962,41389,41895,42403,42593,43442,43649,44667,45355,45656,46169,47044,47810,49296,49842,50870,51860,52026,52807,53046,53101,53853,54322,54505,54768,55967,56474,57218,57775,58201,59220,59484,60361,60850,61355,62096,62372,62555,62900,63691,64448,64831,65323,66046,66175,66376]},\"selected\":{\"id\":\"3883\"},\"selection_policy\":{\"id\":\"3884\"}},\"id\":\"3595\",\"type\":\"ColumnDataSource\"},{\"attributes\":{\"label\":{\"value\":\"new positive\"},\"renderers\":[{\"id\":\"3670\"}]},\"id\":\"3691\",\"type\":\"LegendItem\"},{\"attributes\":{\"data\":{\"x\":{\"__ndarray__\":\"AAAA5UcHd0IAAMBKmgd3QgAAgLDsB3dCAABAFj8Id0IAAAB8kQh3QgAAwOHjCHdCAACARzYJd0IAAECtiAl3QgAAABPbCXdCAADAeC0Kd0IAAIDefwp3QgAAQETSCndCAAAAqiQLd0IAAMAPdwt3QgAAgHXJC3dCAABA2xsMd0IAAABBbgx3QgAAwKbADHdCAACADBMNd0IAAEByZQ13QgAAANi3DXdCAADAPQoOd0IAAICjXA53QgAAQAmvDndCAAAAbwEPd0IAAMDUUw93QgAAgDqmD3dCAABAoPgPd0IAAAAGSxB3QgAAwGudEHdCAACA0e8Qd0IAAEA3QhF3QgAAAJ2UEXdCAADAAucRd0IAAIBoORJ3QgAAQM6LEndCAAAANN4Sd0IAAMCZMBN3QgAAgP+CE3dCAABAZdUTd0IAAADLJxR3QgAAwDB6FHdCAACAlswUd0IAAED8HhV3QgAAAGJxFXdCAADAx8MVd0IAAIAtFhZ3QgAAQJNoFndCAAAA+boWd0IAAMBeDRd3QgAAgMRfF3dCAABAKrIXd0IAAACQBBh3QgAAwPVWGHdCAACAW6kYd0IAAEDB+xh3QgAAACdOGXdCAADAjKAZd0IAAIDy8hl3QgAAQFhFGndCAAAAvpcad0IAAMAj6hp3QgAAgIk8G3dCAABA744bd0IAAABV4Rt3QgAAwLozHHdCAACAIIYcd0IAAECG2Bx3QgAAAOwqHXdCAADAUX0dd0IAAIC3zx13QgAAQB0iHndCAAAAg3Qed0IAAMDoxh53QgAAgE4ZH3dCAABAtGsfd0IAAAAavh93QgAAwH8QIHdCAACA5WIgd0IAAEBLtSB3QgAAALEHIXdCAADAFlohd0IAAIB8rCF3QgAAQOL+IXdCAAAASFEid0IAAMCtoyJ3QgAAgBP2IndCAABAeUgjd0IAAADfmiN3QgAAwETtI3dCAACAqj8kd0IAAEAQkiR3QgAAAHbkJHdCAADA2zYld0IAAIBBiSV3QgAAQKfbJXdCAAAADS4md0IAAMBygCZ3QgAAgNjSJndCAABAPiUnd0IAAACkdyd3QgAAwAnKJ3dCAACAbxwod0IAAEDVbih3QgAAADvBKHdCAADAoBMpd0IAAIAGZil3QgAAQGy4KXdCAAAA0goqd0IAAMA3XSp3QgAAgJ2vKndCAABAAwIrd0IAAABpVCt3QgAAwM6mK3dCAACANPkrd0IAAECaSyx3QgAAAACeLHdCAADAZfAsd0IAAIDLQi13QgAAQDGVLXdCAAAAl+ctd0IAAMD8OS53QgAAgGKMLndCAABAyN4ud0IAAAAuMS93QgAAwJODL3dCAACA+dUvd0I=\",\"dtype\":\"float64\",\"shape\":[127]},\"y\":{\"__ndarray__\":\"AAAAAAAA+H8AAAAAAAD4fwAAAAAAAPh/AAAAAAAA+H8AAAAAAAD4fwAAAAAAAPh/AAAAAAAA+H8AAAAAAAD4fwAAAAAAAPh/AAAAAAAA+H8AAAAAAAD4fwAAAAAAAPh/AAAAAAAA+H9JkiRJkqxyQNu2bdu2pXdAAAAAAADIeECSJEmSJFl/QLdt27Ztk4JAAAAAAAC8hEDbtm3btrWIQNu2bdu2bYtAJUmSJEnmjUAAAAAAAGiQQG7btm3bvJFAAAAAAACuk0Bu27Zt2+6VQG7btm3bqJhAJUmSJEmwmUBu27Zt2/6ZQNu2bdu2zZtA27Zt27b5m0C3bdu2bTOdQG7btm3bqp5Abtu2bdvynkAlSZIkSfSeQEmSJEmStJ5Abtu2bdsenkC3bdu2bTOeQCVJkiRJOJ1AAAAAAAAwnEDbtm3btleaQEmSJEmS8plASZIkSZJqmUDbtm3btiGYQLdt27Ztg5dAt23btm05lkCSJEmSJO2UQLdt27ZtSZRA27Zt27YjlEBJkiRJkkKUQEmSJEmSOJRA27Zt27Zlk0C3bdu2bQGTQJIkSZIki5JASZIkSZImkkBu27Zt25yRQEmSJEmSOpFAbtu2bdtqkUC3bdu2bX+RQLdt27ZtJZFAkiRJkiT5kEDbtm3btguQQG7btm3b4o5Abtu2bdtijUCSJEmSJBGNQNu2bdu2+YxA27Zt27Y1jEAAAAAAAIiLQEmSJEmS8IlASZIkSZI0iUAlSZIkSdqIQLdt27Zt04dASZIkSZLwhkBu27Zt2yaGQNu2bdu2IYVAkiRJkiSphEBJkiRJkjyDQLdt27Ztu4JAkiRJkiQZg0CSJEmSJDmCQNu2bdu2DYJAt23btm0TgUBu27Zt28aAQEmSJEmSVIBA27Zt27bdfkAlSZIkSbJ+QJIkSZIkmXxAt23btm3LekDbtm3btkV5QAAAAAAAAHlAt23btm0DeUBJkiRJkgx4QNu2bdu2JXRAJUmSJEkadEAlSZIkSXpzQJIkSZIkuXNA27Zt27btckCSJEmSJGlyQCVJkiRJ2nFAAAAAAACgcEBu27Zt215wQLdt27Ztq25ASZIkSZKkb0CSJEmSJPlsQLdt27Zti2tASZIkSZL0a0AAAAAAAEBsQEmSJEmStGlAt23btm2LaEAAAAAAANBnQG7btm3btmdASZIkSZIEaEAlSZIkSeJpQNu2bdu2fWlAkiRJkiSJaUBu27Zt27ZqQG7btm3bhmhAt23btm27aEAlSZIkScJoQNu2bdu2TWhASZIkSZIkZ0C3bdu2bQtnQAAAAAAAUGZAbtu2bdtGZUBu27Zt2xZkQG7btm3bxmJAkiRJkiQpYUA=\",\"dtype\":\"float64\",\"shape\":[127]}},\"selected\":{\"id\":\"3908\"},\"selection_policy\":{\"id\":\"3909\"}},\"id\":\"3697\",\"type\":\"ColumnDataSource\"},{\"attributes\":{},\"id\":\"3756\",\"type\":\"WheelZoomTool\"},{\"attributes\":{},\"id\":\"3653\",\"type\":\"PanTool\"},{\"attributes\":{},\"id\":\"3654\",\"type\":\"WheelZoomTool\"},{\"attributes\":{\"overlay\":{\"id\":\"3761\"}},\"id\":\"3757\",\"type\":\"BoxZoomTool\"},{\"attributes\":{\"line_alpha\":0.1,\"line_color\":\"green\",\"line_width\":4,\"x\":{\"field\":\"x\"},\"y\":{\"field\":\"y\"}},\"id\":\"3597\",\"type\":\"Line\"},{\"attributes\":{\"source\":{\"id\":\"3595\"}},\"id\":\"3599\",\"type\":\"CDSView\"},{\"attributes\":{\"line_alpha\":0.1,\"line_color\":\"lightcoral\",\"line_width\":4,\"x\":{\"field\":\"x\"},\"y\":{\"field\":\"y\"}},\"id\":\"3699\",\"type\":\"Line\"},{\"attributes\":{\"overlay\":{\"id\":\"3659\"}},\"id\":\"3655\",\"type\":\"BoxZoomTool\"},{\"attributes\":{},\"id\":\"3758\",\"type\":\"SaveTool\"},{\"attributes\":{\"data_source\":{\"id\":\"3595\"},\"glyph\":{\"id\":\"3596\"},\"hover_glyph\":null,\"muted_glyph\":null,\"nonselection_glyph\":{\"id\":\"3597\"},\"selection_glyph\":null,\"view\":{\"id\":\"3599\"}},\"id\":\"3598\",\"type\":\"GlyphRenderer\"},{\"attributes\":{\"source\":{\"id\":\"3697\"}},\"id\":\"3701\",\"type\":\"CDSView\"},{\"attributes\":{\"data_source\":{\"id\":\"3697\"},\"glyph\":{\"id\":\"3698\"},\"hover_glyph\":null,\"muted_glyph\":null,\"nonselection_glyph\":{\"id\":\"3699\"},\"selection_glyph\":null,\"view\":{\"id\":\"3701\"}},\"id\":\"3700\",\"type\":\"GlyphRenderer\"},{\"attributes\":{},\"id\":\"3656\",\"type\":\"SaveTool\"},{\"attributes\":{},\"id\":\"3759\",\"type\":\"ResetTool\"},{\"attributes\":{},\"id\":\"3618\",\"type\":\"Selection\"},{\"attributes\":{},\"id\":\"3720\",\"type\":\"Selection\"},{\"attributes\":{},\"id\":\"3657\",\"type\":\"ResetTool\"},{\"attributes\":{},\"id\":\"3760\",\"type\":\"HelpTool\"},{\"attributes\":{\"label\":{\"value\":\"recovered\"},\"renderers\":[{\"id\":\"3598\"}]},\"id\":\"3622\",\"type\":\"LegendItem\"},{\"attributes\":{\"data_source\":{\"id\":\"3667\"},\"glyph\":{\"id\":\"3668\"},\"hover_glyph\":null,\"muted_glyph\":null,\"nonselection_glyph\":{\"id\":\"3669\"},\"selection_glyph\":null,\"view\":{\"id\":\"3671\"}},\"id\":\"3670\",\"type\":\"GlyphRenderer\"},{\"attributes\":{\"label\":{\"value\":\"SMA 14 days\"},\"renderers\":[{\"id\":\"3700\"}]},\"id\":\"3724\",\"type\":\"LegendItem\"},{\"attributes\":{},\"id\":\"3658\",\"type\":\"HelpTool\"},{\"attributes\":{\"days\":[\"%d %B\"]},\"id\":\"3628\",\"type\":\"DatetimeTickFormatter\"},{\"attributes\":{\"days\":[\"%d %B\"]},\"id\":\"3730\",\"type\":\"DatetimeTickFormatter\"},{\"attributes\":{},\"id\":\"3620\",\"type\":\"Selection\"},{\"attributes\":{},\"id\":\"3722\",\"type\":\"Selection\"},{\"attributes\":{},\"id\":\"3619\",\"type\":\"UnionRenderers\"},{\"attributes\":{},\"id\":\"3721\",\"type\":\"UnionRenderers\"},{\"attributes\":{\"callback\":null,\"formatters\":{\"@x\":\"datetime\"},\"mode\":\"vline\",\"tooltips\":[[\"date\",\"@x{%d %B}\"],[\"new_deaths OR SMA 14\",\"@y{0[.]000}\"]]},\"id\":\"3836\",\"type\":\"HoverTool\"},{\"attributes\":{\"data_source\":{\"id\":\"3623\"},\"glyph\":{\"id\":\"3624\"},\"hover_glyph\":null,\"muted_glyph\":null,\"nonselection_glyph\":{\"id\":\"3625\"},\"selection_glyph\":null,\"view\":{\"id\":\"3627\"}},\"id\":\"3626\",\"type\":\"GlyphRenderer\"},{\"attributes\":{\"days\":[1,2,3,4,5,6,7,8,9,10,11,12,13,14,15,16,17,18,19,20,21,22,23,24,25,26,27,28,29,30,31]},\"id\":\"3681\",\"type\":\"DaysTicker\"},{\"attributes\":{\"data_source\":{\"id\":\"3725\"},\"glyph\":{\"id\":\"3726\"},\"hover_glyph\":null,\"muted_glyph\":null,\"nonselection_glyph\":{\"id\":\"3727\"},\"selection_glyph\":null,\"view\":{\"id\":\"3729\"}},\"id\":\"3728\",\"type\":\"GlyphRenderer\"},{\"attributes\":{\"days\":[\"%d %B\"]},\"id\":\"3832\",\"type\":\"DatetimeTickFormatter\"},{\"attributes\":{},\"id\":\"3621\",\"type\":\"UnionRenderers\"},{\"attributes\":{\"mantissas\":[1,2,5],\"max_interval\":500.0,\"num_minor_ticks\":0},\"id\":\"3678\",\"type\":\"AdaptiveTicker\"},{\"attributes\":{\"use_scientific\":false},\"id\":\"3834\",\"type\":\"BasicTickFormatter\"},{\"attributes\":{\"days\":[1,4,7,10,13,16,19,22,25,28]},\"id\":\"3682\",\"type\":\"DaysTicker\"},{\"attributes\":{},\"id\":\"3723\",\"type\":\"UnionRenderers\"},{\"attributes\":{\"fill_color\":{\"value\":\"white\"},\"line_color\":{\"value\":\"green\"},\"size\":{\"units\":\"screen\",\"value\":5},\"x\":{\"field\":\"x\"},\"y\":{\"field\":\"y\"}},\"id\":\"3624\",\"type\":\"Circle\"},{\"attributes\":{\"fill_alpha\":{\"value\":0.1},\"fill_color\":{\"value\":\"white\"},\"line_alpha\":{\"value\":0.1},\"line_color\":{\"value\":\"green\"},\"size\":{\"units\":\"screen\",\"value\":5},\"x\":{\"field\":\"x\"},\"y\":{\"field\":\"y\"}},\"id\":\"3625\",\"type\":\"Circle\"},{\"attributes\":{\"fill_color\":{\"value\":\"white\"},\"line_color\":{\"value\":\"lightcoral\"},\"size\":{\"units\":\"screen\",\"value\":5},\"x\":{\"field\":\"x\"},\"y\":{\"field\":\"y\"}},\"id\":\"3726\",\"type\":\"Circle\"},{\"attributes\":{\"base\":60,\"mantissas\":[1,2,5,10,15,20,30],\"max_interval\":1800000.0,\"min_interval\":1000.0,\"num_minor_ticks\":0},\"id\":\"3679\",\"type\":\"AdaptiveTicker\"},{\"attributes\":{\"use_scientific\":false},\"id\":\"3630\",\"type\":\"BasicTickFormatter\"},{\"attributes\":{\"fill_alpha\":{\"value\":0.1},\"fill_color\":{\"value\":\"white\"},\"line_alpha\":{\"value\":0.1},\"line_color\":{\"value\":\"lightcoral\"},\"size\":{\"units\":\"screen\",\"value\":5},\"x\":{\"field\":\"x\"},\"y\":{\"field\":\"y\"}},\"id\":\"3727\",\"type\":\"Circle\"},{\"attributes\":{\"data\":{\"x\":{\"__ndarray__\":\"AAAA5UcHd0IAAMBKmgd3QgAAgLDsB3dCAABAFj8Id0IAAAB8kQh3QgAAwOHjCHdCAACARzYJd0IAAECtiAl3QgAAABPbCXdCAADAeC0Kd0IAAIDefwp3QgAAQETSCndCAAAAqiQLd0IAAMAPdwt3QgAAgHXJC3dCAABA2xsMd0IAAABBbgx3QgAAwKbADHdCAACADBMNd0IAAEByZQ13QgAAANi3DXdCAADAPQoOd0IAAICjXA53QgAAQAmvDndCAAAAbwEPd0IAAMDUUw93QgAAgDqmD3dCAABAoPgPd0IAAAAGSxB3QgAAwGudEHdCAACA0e8Qd0IAAEA3QhF3QgAAAJ2UEXdCAADAAucRd0IAAIBoORJ3QgAAQM6LEndCAAAANN4Sd0IAAMCZMBN3QgAAgP+CE3dCAABAZdUTd0IAAADLJxR3QgAAwDB6FHdCAACAlswUd0IAAED8HhV3QgAAAGJxFXdCAADAx8MVd0IAAIAtFhZ3QgAAQJNoFndCAAAA+boWd0IAAMBeDRd3QgAAgMRfF3dCAABAKrIXd0IAAACQBBh3QgAAwPVWGHdCAACAW6kYd0IAAEDB+xh3QgAAACdOGXdCAADAjKAZd0IAAIDy8hl3QgAAQFhFGndCAAAAvpcad0IAAMAj6hp3QgAAgIk8G3dCAABA744bd0IAAABV4Rt3QgAAwLozHHdCAACAIIYcd0IAAECG2Bx3QgAAAOwqHXdCAADAUX0dd0IAAIC3zx13QgAAQB0iHndCAAAAg3Qed0IAAMDoxh53QgAAgE4ZH3dCAABAtGsfd0IAAAAavh93QgAAwH8QIHdCAACA5WIgd0IAAEBLtSB3QgAAALEHIXdCAADAFlohd0IAAIB8rCF3QgAAQOL+IXdCAAAASFEid0IAAMCtoyJ3QgAAgBP2IndCAABAeUgjd0IAAADfmiN3QgAAwETtI3dCAACAqj8kd0IAAEAQkiR3QgAAAHbkJHdCAADA2zYld0IAAIBBiSV3QgAAQKfbJXdCAAAADS4md0IAAMBygCZ3QgAAgNjSJndCAABAPiUnd0IAAACkdyd3QgAAwAnKJ3dCAACAbxwod0IAAEDVbih3QgAAADvBKHdCAADAoBMpd0IAAIAGZil3QgAAQGy4KXdCAAAA0goqd0IAAMA3XSp3QgAAgJ2vKndCAABAAwIrd0IAAABpVCt3QgAAwM6mK3dCAACANPkrd0IAAECaSyx3QgAAAACeLHdCAADAZfAsd0IAAIDLQi13QgAAQDGVLXdCAAAAl+ctd0IAAMD8OS53QgAAgGKMLndCAABAyN4ud0IAAAAuMS93QgAAwJODL3dCAACA+dUvd0I=\",\"dtype\":\"float64\",\"shape\":[127]},\"y\":[0,0,0,40,40,40,73,139,139,250,376,469,524,550,646,896,900,1085,1198,1660,2011,2368,2485,3488,3778,4295,5050,5865,6075,6657,7281,7839,8001,8962,9255,10337,10885,11415,12229,13020,13242,13426,13863,14498,15147,15706,16280,16823,17166,17478,17821,17855,18396,18850,19136,19526,20008,21374,22110,23352,23782,24227,24398,24589,25029,25333,25749,26136,26146,26371,26504,27124,33005,33329,33901,36039,36331,36406,37113,38081,38568,40962,41389,41895,42403,42593,43442,43649,44667,45355,45656,46169,47044,47810,49296,49842,50870,51860,52026,52807,53046,53101,53853,54322,54505,54768,55967,56474,57218,57775,58201,59220,59484,60361,60850,61355,62096,62372,62555,62900,63691,64448,64831,65323,66046,66175,66376]},\"selected\":{\"id\":\"3885\"},\"selection_policy\":{\"id\":\"3886\"}},\"id\":\"3623\",\"type\":\"ColumnDataSource\"},{\"attributes\":{\"use_scientific\":false},\"id\":\"3732\",\"type\":\"BasicTickFormatter\"},{\"attributes\":{\"days\":[1,8,15,22]},\"id\":\"3683\",\"type\":\"DaysTicker\"},{\"attributes\":{\"data_source\":{\"id\":\"3827\"},\"glyph\":{\"id\":\"3828\"},\"hover_glyph\":null,\"muted_glyph\":null,\"nonselection_glyph\":{\"id\":\"3829\"},\"selection_glyph\":null,\"view\":{\"id\":\"3831\"}},\"id\":\"3830\",\"type\":\"GlyphRenderer\"},{\"attributes\":{\"data\":{\"x\":{\"__ndarray__\":\"AAAA5UcHd0IAAMBKmgd3QgAAgLDsB3dCAABAFj8Id0IAAAB8kQh3QgAAwOHjCHdCAACARzYJd0IAAECtiAl3QgAAABPbCXdCAADAeC0Kd0IAAIDefwp3QgAAQETSCndCAAAAqiQLd0IAAMAPdwt3QgAAgHXJC3dCAABA2xsMd0IAAABBbgx3QgAAwKbADHdCAACADBMNd0IAAEByZQ13QgAAANi3DXdCAADAPQoOd0IAAICjXA53QgAAQAmvDndCAAAAbwEPd0IAAMDUUw93QgAAgDqmD3dCAABAoPgPd0IAAAAGSxB3QgAAwGudEHdCAACA0e8Qd0IAAEA3QhF3QgAAAJ2UEXdCAADAAucRd0IAAIBoORJ3QgAAQM6LEndCAAAANN4Sd0IAAMCZMBN3QgAAgP+CE3dCAABAZdUTd0IAAADLJxR3QgAAwDB6FHdCAACAlswUd0IAAED8HhV3QgAAAGJxFXdCAADAx8MVd0IAAIAtFhZ3QgAAQJNoFndCAAAA+boWd0IAAMBeDRd3QgAAgMRfF3dCAABAKrIXd0IAAACQBBh3QgAAwPVWGHdCAACAW6kYd0IAAEDB+xh3QgAAACdOGXdCAADAjKAZd0IAAIDy8hl3QgAAQFhFGndCAAAAvpcad0IAAMAj6hp3QgAAgIk8G3dCAABA744bd0IAAABV4Rt3QgAAwLozHHdCAACAIIYcd0IAAECG2Bx3QgAAAOwqHXdCAADAUX0dd0IAAIC3zx13QgAAQB0iHndCAAAAg3Qed0IAAMDoxh53QgAAgE4ZH3dCAABAtGsfd0IAAAAavh93QgAAwH8QIHdCAACA5WIgd0IAAEBLtSB3QgAAALEHIXdCAADAFlohd0IAAIB8rCF3QgAAQOL+IXdCAAAASFEid0IAAMCtoyJ3QgAAgBP2IndCAABAeUgjd0IAAADfmiN3QgAAwETtI3dCAACAqj8kd0IAAEAQkiR3QgAAAHbkJHdCAADA2zYld0IAAIBBiSV3QgAAQKfbJXdCAAAADS4md0IAAMBygCZ3QgAAgNjSJndCAABAPiUnd0IAAACkdyd3QgAAwAnKJ3dCAACAbxwod0IAAEDVbih3QgAAADvBKHdCAADAoBMpd0IAAIAGZil3QgAAQGy4KXdCAAAA0goqd0IAAMA3XSp3QgAAgJ2vKndCAABAAwIrd0IAAABpVCt3QgAAwM6mK3dCAACANPkrd0IAAECaSyx3QgAAAACeLHdCAADAZfAsd0IAAIDLQi13QgAAQDGVLXdCAAAAl+ctd0IAAMD8OS53QgAAgGKMLndCAABAyN4ud0IAAAAuMS93QgAAwJODL3dCAACA+dUvd0I=\",\"dtype\":\"float64\",\"shape\":[127]},\"y\":{\"__ndarray__\":\"AAAAAAAA+H8AAAAAAAD4fwAAAAAAAPh/AAAAAAAA+H8AAAAAAAD4fwAAAAAAAPh/AAAAAAAA+H8AAAAAAAD4fwAAAAAAAPh/AAAAAAAA+H8AAAAAAAD4fwAAAAAAAPh/AAAAAAAA+H9JkiRJkqxyQNu2bdu2pXdAAAAAAADIeECSJEmSJFl/QLdt27Ztk4JAAAAAAAC8hEDbtm3btrWIQNu2bdu2bYtAJUmSJEnmjUAAAAAAAGiQQG7btm3bvJFAAAAAAACuk0Bu27Zt2+6VQG7btm3bqJhAJUmSJEmwmUBu27Zt2/6ZQNu2bdu2zZtA27Zt27b5m0C3bdu2bTOdQG7btm3bqp5Abtu2bdvynkAlSZIkSfSeQEmSJEmStJ5Abtu2bdsenkC3bdu2bTOeQCVJkiRJOJ1AAAAAAAAwnEDbtm3btleaQEmSJEmS8plASZIkSZJqmUDbtm3btiGYQLdt27Ztg5dAt23btm05lkCSJEmSJO2UQLdt27ZtSZRA27Zt27YjlEBJkiRJkkKUQEmSJEmSOJRA27Zt27Zlk0C3bdu2bQGTQJIkSZIki5JASZIkSZImkkBu27Zt25yRQEmSJEmSOpFAbtu2bdtqkUC3bdu2bX+RQLdt27ZtJZFAkiRJkiT5kEDbtm3btguQQG7btm3b4o5Abtu2bdtijUCSJEmSJBGNQNu2bdu2+YxA27Zt27Y1jEAAAAAAAIiLQEmSJEmS8IlASZIkSZI0iUAlSZIkSdqIQLdt27Zt04dASZIkSZLwhkBu27Zt2yaGQNu2bdu2IYVAkiRJkiSphEBJkiRJkjyDQLdt27Ztu4JAkiRJkiQZg0CSJEmSJDmCQNu2bdu2DYJAt23btm0TgUBu27Zt28aAQEmSJEmSVIBA27Zt27bdfkAlSZIkSbJ+QJIkSZIkmXxAt23btm3LekDbtm3btkV5QAAAAAAAAHlAt23btm0DeUBJkiRJkgx4QNu2bdu2JXRAJUmSJEkadEAlSZIkSXpzQJIkSZIkuXNA27Zt27btckCSJEmSJGlyQCVJkiRJ2nFAAAAAAACgcEBu27Zt215wQLdt27Ztq25ASZIkSZKkb0CSJEmSJPlsQLdt27Zti2tASZIkSZL0a0AAAAAAAEBsQEmSJEmStGlAt23btm2LaEAAAAAAANBnQG7btm3btmdASZIkSZIEaEAlSZIkSeJpQNu2bdu2fWlAkiRJkiSJaUBu27Zt27ZqQG7btm3bhmhAt23btm27aEAlSZIkScJoQNu2bdu2TWhASZIkSZIkZ0C3bdu2bQtnQAAAAAAAUGZAbtu2bdtGZUBu27Zt2xZkQG7btm3bxmJAkiRJkiQpYUA=\",\"dtype\":\"float64\",\"shape\":[127]}},\"selected\":{\"id\":\"3910\"},\"selection_policy\":{\"id\":\"3911\"}},\"id\":\"3725\",\"type\":\"ColumnDataSource\"},{\"attributes\":{\"base\":24,\"mantissas\":[1,2,4,6,8,12],\"max_interval\":43200000.0,\"min_interval\":3600000.0,\"num_minor_ticks\":0},\"id\":\"3680\",\"type\":\"AdaptiveTicker\"},{\"attributes\":{\"data\":{\"x\":{\"__ndarray__\":\"AAAA5UcHd0IAAMBKmgd3QgAAgLDsB3dCAABAFj8Id0IAAAB8kQh3QgAAwOHjCHdCAACARzYJd0IAAECtiAl3QgAAABPbCXdCAADAeC0Kd0IAAIDefwp3QgAAQETSCndCAAAAqiQLd0IAAMAPdwt3QgAAgHXJC3dCAABA2xsMd0IAAABBbgx3QgAAwKbADHdCAACADBMNd0IAAEByZQ13QgAAANi3DXdCAADAPQoOd0IAAICjXA53QgAAQAmvDndCAAAAbwEPd0IAAMDUUw93QgAAgDqmD3dCAABAoPgPd0IAAAAGSxB3QgAAwGudEHdCAACA0e8Qd0IAAEA3QhF3QgAAAJ2UEXdCAADAAucRd0IAAIBoORJ3QgAAQM6LEndCAAAANN4Sd0IAAMCZMBN3QgAAgP+CE3dCAABAZdUTd0IAAADLJxR3QgAAwDB6FHdCAACAlswUd0IAAED8HhV3QgAAAGJxFXdCAADAx8MVd0IAAIAtFhZ3QgAAQJNoFndCAAAA+boWd0IAAMBeDRd3QgAAgMRfF3dCAABAKrIXd0IAAACQBBh3QgAAwPVWGHdCAACAW6kYd0IAAEDB+xh3QgAAACdOGXdCAADAjKAZd0IAAIDy8hl3QgAAQFhFGndCAAAAvpcad0IAAMAj6hp3QgAAgIk8G3dCAABA744bd0IAAABV4Rt3QgAAwLozHHdCAACAIIYcd0IAAECG2Bx3QgAAAOwqHXdCAADAUX0dd0IAAIC3zx13QgAAQB0iHndCAAAAg3Qed0IAAMDoxh53QgAAgE4ZH3dCAABAtGsfd0IAAAAavh93QgAAwH8QIHdCAACA5WIgd0IAAEBLtSB3QgAAALEHIXdCAADAFlohd0IAAIB8rCF3QgAAQOL+IXdCAAAASFEid0IAAMCtoyJ3QgAAgBP2IndCAABAeUgjd0IAAADfmiN3QgAAwETtI3dCAACAqj8kd0IAAEAQkiR3QgAAAHbkJHdCAADA2zYld0IAAIBBiSV3QgAAQKfbJXdCAAAADS4md0IAAMBygCZ3QgAAgNjSJndCAABAPiUnd0IAAACkdyd3QgAAwAnKJ3dCAACAbxwod0IAAEDVbih3QgAAADvBKHdCAADAoBMpd0IAAIAGZil3QgAAQGy4KXdCAAAA0goqd0IAAMA3XSp3QgAAgJ2vKndCAABAAwIrd0IAAABpVCt3QgAAwM6mK3dCAACANPkrd0IAAECaSyx3QgAAAACeLHdCAADAZfAsd0IAAIDLQi13QgAAQDGVLXdCAAAAl+ctd0IAAMD8OS53QgAAgGKMLndCAABAyN4ud0IAAAAuMS93QgAAwJODL3dCAACA+dUvd0I=\",\"dtype\":\"float64\",\"shape\":[127]},\"y\":[6,9,9,14,17,23,24,38,55,73,98,135,154,267,333,468,617,744,890,966,1218,1420,1640,1959,2168,2549,3095,3456,3776,4178,4474,4861,5402,5944,6360,6818,7199,7593,7960,8311,8656,8905,9202,9484,9722,10022,10238,10511,10621,10901,11142,11377,11608,11851,12050,12213,12376,12579,12740,12940,13106,13269,13325,13449,13575,13679,13772,13860,14189,14231,14294,14389,14611,14745,14839,14924,14986,15054,15116,15185,15296,15411,15450,15519,15543,15597,15662,15727,15784,15840,15840,15874,15896,15954,15974,16012,16079,16112,16131,16143,16172,16201,16222,16249,16270,16302,16317,16349,16374,16405,16428,16449,16457,16466,16480,16516,16534,16557,16570,16573,16579,16586,16608,16624,16626,16639,16640]},\"selected\":{\"id\":\"3618\"},\"selection_policy\":{\"id\":\"3619\"}},\"id\":\"3565\",\"type\":\"ColumnDataSource\"},{\"attributes\":{\"fill_alpha\":{\"value\":0.1},\"fill_color\":{\"value\":\"white\"},\"line_alpha\":{\"value\":0.1},\"line_color\":{\"value\":\"lightgreen\"},\"size\":{\"units\":\"screen\",\"value\":5},\"x\":{\"field\":\"x\"},\"y\":{\"field\":\"y\"}},\"id\":\"3829\",\"type\":\"Circle\"},{\"attributes\":{\"source\":{\"id\":\"3827\"}},\"id\":\"3831\",\"type\":\"CDSView\"},{\"attributes\":{\"bottom_units\":\"screen\",\"fill_alpha\":0.5,\"fill_color\":\"lightgrey\",\"left_units\":\"screen\",\"level\":\"overlay\",\"line_alpha\":1.0,\"line_color\":\"black\",\"line_dash\":[4,4],\"line_width\":2,\"render_mode\":\"css\",\"right_units\":\"screen\",\"top_units\":\"screen\"},\"id\":\"3761\",\"type\":\"BoxAnnotation\"},{\"attributes\":{\"source\":{\"id\":\"3623\"}},\"id\":\"3627\",\"type\":\"CDSView\"},{\"attributes\":{\"source\":{\"id\":\"3725\"}},\"id\":\"3729\",\"type\":\"CDSView\"},{\"attributes\":{\"bottom_units\":\"screen\",\"fill_alpha\":0.5,\"fill_color\":\"lightgrey\",\"left_units\":\"screen\",\"level\":\"overlay\",\"line_alpha\":1.0,\"line_color\":\"black\",\"line_dash\":[4,4],\"line_width\":2,\"render_mode\":\"css\",\"right_units\":\"screen\",\"top_units\":\"screen\"},\"id\":\"3659\",\"type\":\"BoxAnnotation\"},{\"attributes\":{\"items\":[{\"id\":\"3691\"},{\"id\":\"3724\"}],\"location\":\"top_left\"},\"id\":\"3690\",\"type\":\"Legend\"},{\"attributes\":{\"text\":\"New Positive: Lombardia\"},\"id\":\"3635\",\"type\":\"Title\"},{\"attributes\":{\"data_source\":{\"id\":\"3769\"},\"glyph\":{\"id\":\"3770\"},\"hover_glyph\":null,\"muted_glyph\":null,\"nonselection_glyph\":{\"id\":\"3771\"},\"selection_glyph\":null,\"view\":{\"id\":\"3773\"}},\"id\":\"3772\",\"type\":\"GlyphRenderer\"},{\"attributes\":{},\"id\":\"3825\",\"type\":\"UnionRenderers\"},{\"attributes\":{\"callback\":null,\"formatters\":{\"@x\":\"datetime\"},\"mode\":\"vline\",\"tooltips\":[[\"date\",\"@x{%d %B}\"],[\"new_positive OR SMA 14\",\"@y{0[.]000}\"]]},\"id\":\"3734\",\"type\":\"HoverTool\"},{\"attributes\":{\"below\":[{\"id\":\"3747\"}],\"center\":[{\"id\":\"3750\"},{\"id\":\"3754\"},{\"id\":\"3792\"}],\"left\":[{\"id\":\"3751\"}],\"plot_height\":350,\"plot_width\":470,\"renderers\":[{\"id\":\"3772\"},{\"id\":\"3797\"},{\"id\":\"3802\"},{\"id\":\"3830\"}],\"title\":{\"id\":\"3737\"},\"toolbar\":{\"id\":\"3762\"},\"toolbar_location\":null,\"x_range\":{\"id\":\"3739\"},\"x_scale\":{\"id\":\"3743\"},\"y_range\":{\"id\":\"3741\"},\"y_scale\":{\"id\":\"3745\"}},\"id\":\"3736\",\"subtype\":\"Figure\",\"type\":\"Plot\"},{\"attributes\":{},\"id\":\"3752\",\"type\":\"BasicTicker\"},{\"attributes\":{\"line_color\":\"blue\",\"line_width\":4,\"x\":{\"field\":\"x\"},\"y\":{\"field\":\"y\"}},\"id\":\"3668\",\"type\":\"Line\"},{\"attributes\":{\"label\":{\"value\":\"new deaths\"},\"renderers\":[{\"id\":\"3772\"}]},\"id\":\"3793\",\"type\":\"LegendItem\"},{\"attributes\":{\"toolbars\":[{\"id\":\"3456\"},{\"id\":\"3558\"},{\"id\":\"3660\"},{\"id\":\"3762\"}],\"tools\":[{\"id\":\"3449\"},{\"id\":\"3450\"},{\"id\":\"3451\"},{\"id\":\"3452\"},{\"id\":\"3453\"},{\"id\":\"3454\"},{\"id\":\"3530\"},{\"id\":\"3551\"},{\"id\":\"3552\"},{\"id\":\"3553\"},{\"id\":\"3554\"},{\"id\":\"3555\"},{\"id\":\"3556\"},{\"id\":\"3632\"},{\"id\":\"3653\"},{\"id\":\"3654\"},{\"id\":\"3655\"},{\"id\":\"3656\"},{\"id\":\"3657\"},{\"id\":\"3658\"},{\"id\":\"3734\"},{\"id\":\"3755\"},{\"id\":\"3756\"},{\"id\":\"3757\"},{\"id\":\"3758\"},{\"id\":\"3759\"},{\"id\":\"3760\"},{\"id\":\"3836\"}]},\"id\":\"3939\",\"type\":\"ProxyToolbar\"},{\"attributes\":{\"below\":[{\"id\":\"3543\"}],\"center\":[{\"id\":\"3546\"},{\"id\":\"3550\"},{\"id\":\"3588\"}],\"left\":[{\"id\":\"3547\"}],\"plot_height\":350,\"plot_width\":470,\"renderers\":[{\"id\":\"3568\"},{\"id\":\"3593\"},{\"id\":\"3598\"},{\"id\":\"3626\"}],\"title\":{\"id\":\"3533\"},\"toolbar\":{\"id\":\"3558\"},\"toolbar_location\":null,\"x_range\":{\"id\":\"3535\"},\"x_scale\":{\"id\":\"3539\"},\"y_range\":{\"id\":\"3537\"},\"y_scale\":{\"id\":\"3541\"}},\"id\":\"3532\",\"subtype\":\"Figure\",\"type\":\"Plot\"},{\"attributes\":{\"label\":{\"value\":\"total cases\"},\"renderers\":[{\"id\":\"3466\"}]},\"id\":\"3487\",\"type\":\"LegendItem\"},{\"attributes\":{\"mantissas\":[1,2,5],\"max_interval\":500.0,\"num_minor_ticks\":0},\"id\":\"3474\",\"type\":\"AdaptiveTicker\"},{\"attributes\":{\"fill_alpha\":{\"value\":0.1},\"fill_color\":{\"value\":\"white\"},\"line_alpha\":{\"value\":0.1},\"line_color\":{\"value\":\"red\"},\"size\":{\"units\":\"screen\",\"value\":5},\"x\":{\"field\":\"x\"},\"y\":{\"field\":\"y\"}},\"id\":\"3523\",\"type\":\"Circle\"},{\"attributes\":{\"mantissas\":[1,2,5],\"max_interval\":500.0,\"num_minor_ticks\":0},\"id\":\"3780\",\"type\":\"AdaptiveTicker\"},{\"attributes\":{\"below\":[{\"id\":\"3441\"}],\"center\":[{\"id\":\"3444\"},{\"id\":\"3448\"},{\"id\":\"3486\"}],\"left\":[{\"id\":\"3445\"}],\"plot_height\":350,\"plot_width\":470,\"renderers\":[{\"id\":\"3466\"},{\"id\":\"3491\"},{\"id\":\"3496\"},{\"id\":\"3524\"}],\"title\":{\"id\":\"3431\"},\"toolbar\":{\"id\":\"3456\"},\"toolbar_location\":null,\"x_range\":{\"id\":\"3433\"},\"x_scale\":{\"id\":\"3437\"},\"y_range\":{\"id\":\"3435\"},\"y_scale\":{\"id\":\"3439\"}},\"id\":\"3430\",\"subtype\":\"Figure\",\"type\":\"Plot\"},{\"attributes\":{},\"id\":\"3539\",\"type\":\"LinearScale\"},{\"attributes\":{},\"id\":\"3537\",\"type\":\"DataRange1d\"},{\"attributes\":{\"base\":24,\"mantissas\":[1,2,4,6,8,12],\"max_interval\":43200000.0,\"min_interval\":3600000.0,\"num_minor_ticks\":0},\"id\":\"3476\",\"type\":\"AdaptiveTicker\"},{\"attributes\":{},\"id\":\"3911\",\"type\":\"UnionRenderers\"},{\"attributes\":{},\"id\":\"3541\",\"type\":\"LinearScale\"},{\"attributes\":{\"base\":60,\"mantissas\":[1,2,5,10,15,20,30],\"max_interval\":1800000.0,\"min_interval\":1000.0,\"num_minor_ticks\":0},\"id\":\"3475\",\"type\":\"AdaptiveTicker\"},{\"attributes\":{\"axis_label\":\"Date\",\"formatter\":{\"id\":\"3628\"},\"major_label_orientation\":0.7853981633974483,\"minor_tick_in\":-5,\"minor_tick_out\":-3,\"ticker\":{\"id\":\"3544\"}},\"id\":\"3543\",\"type\":\"DatetimeAxis\"},{\"attributes\":{\"base\":24,\"mantissas\":[1,2,4,6,8,12],\"max_interval\":43200000.0,\"min_interval\":3600000.0,\"num_minor_ticks\":0},\"id\":\"3782\",\"type\":\"AdaptiveTicker\"},{\"attributes\":{},\"id\":\"3934\",\"type\":\"UnionRenderers\"},{\"attributes\":{},\"id\":\"3548\",\"type\":\"BasicTicker\"},{\"attributes\":{\"base\":60,\"mantissas\":[1,2,5,10,15,20,30],\"max_interval\":1800000.0,\"min_interval\":1000.0,\"num_minor_ticks\":0},\"id\":\"3781\",\"type\":\"AdaptiveTicker\"},{\"attributes\":{\"num_minor_ticks\":5,\"tickers\":[{\"id\":\"3576\"},{\"id\":\"3577\"},{\"id\":\"3578\"},{\"id\":\"3579\"},{\"id\":\"3580\"},{\"id\":\"3581\"},{\"id\":\"3582\"},{\"id\":\"3583\"},{\"id\":\"3584\"},{\"id\":\"3585\"},{\"id\":\"3586\"},{\"id\":\"3587\"}]},\"id\":\"3544\",\"type\":\"DatetimeTicker\"},{\"attributes\":{\"days\":[1,2,3,4,5,6,7,8,9,10,11,12,13,14,15,16,17,18,19,20,21,22,23,24,25,26,27,28,29,30,31]},\"id\":\"3477\",\"type\":\"DaysTicker\"},{\"attributes\":{\"source\":{\"id\":\"3463\"}},\"id\":\"3467\",\"type\":\"CDSView\"},{\"attributes\":{},\"id\":\"3936\",\"type\":\"UnionRenderers\"},{\"attributes\":{},\"id\":\"3433\",\"type\":\"DataRange1d\"},{\"attributes\":{\"axis\":{\"id\":\"3543\"},\"ticker\":null},\"id\":\"3546\",\"type\":\"Grid\"},{\"attributes\":{\"days\":[1,4,7,10,13,16,19,22,25,28]},\"id\":\"3478\",\"type\":\"DaysTicker\"},{\"attributes\":{\"days\":[1,2,3,4,5,6,7,8,9,10,11,12,13,14,15,16,17,18,19,20,21,22,23,24,25,26,27,28,29,30,31]},\"id\":\"3783\",\"type\":\"DaysTicker\"},{\"attributes\":{\"axis\":{\"id\":\"3547\"},\"dimension\":1,\"ticker\":null},\"id\":\"3550\",\"type\":\"Grid\"},{\"attributes\":{\"data\":{\"x\":{\"__ndarray__\":\"AAAA5UcHd0IAAMBKmgd3QgAAgLDsB3dCAABAFj8Id0IAAAB8kQh3QgAAwOHjCHdCAACARzYJd0IAAECtiAl3QgAAABPbCXdCAADAeC0Kd0IAAIDefwp3QgAAQETSCndCAAAAqiQLd0IAAMAPdwt3QgAAgHXJC3dCAABA2xsMd0IAAABBbgx3QgAAwKbADHdCAACADBMNd0IAAEByZQ13QgAAANi3DXdCAADAPQoOd0IAAICjXA53QgAAQAmvDndCAAAAbwEPd0IAAMDUUw93QgAAgDqmD3dCAABAoPgPd0IAAAAGSxB3QgAAwGudEHdCAACA0e8Qd0IAAEA3QhF3QgAAAJ2UEXdCAADAAucRd0IAAIBoORJ3QgAAQM6LEndCAAAANN4Sd0IAAMCZMBN3QgAAgP+CE3dCAABAZdUTd0IAAADLJxR3QgAAwDB6FHdCAACAlswUd0IAAED8HhV3QgAAAGJxFXdCAADAx8MVd0IAAIAtFhZ3QgAAQJNoFndCAAAA+boWd0IAAMBeDRd3QgAAgMRfF3dCAABAKrIXd0IAAACQBBh3QgAAwPVWGHdCAACAW6kYd0IAAEDB+xh3QgAAACdOGXdCAADAjKAZd0IAAIDy8hl3QgAAQFhFGndCAAAAvpcad0IAAMAj6hp3QgAAgIk8G3dCAABA744bd0IAAABV4Rt3QgAAwLozHHdCAACAIIYcd0IAAECG2Bx3QgAAAOwqHXdCAADAUX0dd0IAAIC3zx13QgAAQB0iHndCAAAAg3Qed0IAAMDoxh53QgAAgE4ZH3dCAABAtGsfd0IAAAAavh93QgAAwH8QIHdCAACA5WIgd0IAAEBLtSB3QgAAALEHIXdCAADAFlohd0IAAIB8rCF3QgAAQOL+IXdCAAAASFEid0IAAMCtoyJ3QgAAgBP2IndCAABAeUgjd0IAAADfmiN3QgAAwETtI3dCAACAqj8kd0IAAEAQkiR3QgAAAHbkJHdCAADA2zYld0IAAIBBiSV3QgAAQKfbJXdCAAAADS4md0IAAMBygCZ3QgAAgNjSJndCAABAPiUnd0IAAACkdyd3QgAAwAnKJ3dCAACAbxwod0IAAEDVbih3QgAAADvBKHdCAADAoBMpd0IAAIAGZil3QgAAQGy4KXdCAAAA0goqd0IAAMA3XSp3QgAAgJ2vKndCAABAAwIrd0IAAABpVCt3QgAAwM6mK3dCAACANPkrd0IAAECaSyx3QgAAAACeLHdCAADAZfAsd0IAAIDLQi13QgAAQDGVLXdCAAAAl+ctd0IAAMD8OS53QgAAgGKMLndCAABAyN4ud0IAAAAuMS93QgAAwJODL3dCAACA+dUvd0I=\",\"dtype\":\"float64\",\"shape\":[127]},\"y\":[166,68,18,145,128,84,369,270,266,300,431,361,808,769,1280,322,1489,1445,1095,1865,1587,1377,1571,1493,2171,2380,3251,1691,1555,1942,1643,2543,2409,2117,1592,1154,1047,1565,1292,1455,1598,1337,1079,791,1089,1388,1246,1544,1460,1262,1012,827,941,1041,1246,855,735,960,1161,1073,1091,713,920,590,869,786,598,737,533,526,577,500,764,720,634,502,282,364,1033,394,522,299,399,326,175,462,294,316,293,441,285,148,159,384,382,354,221,210,50,187,237,84,402,142,125,194,192,99,252,272,210,244,259,143,242,216,157,165,128,143,62,88,170,156,77,97,78]},\"selected\":{\"id\":\"3720\"},\"selection_policy\":{\"id\":\"3721\"}},\"id\":\"3667\",\"type\":\"ColumnDataSource\"},{\"attributes\":{\"days\":[1,8,15,22]},\"id\":\"3479\",\"type\":\"DaysTicker\"},{\"attributes\":{},\"id\":\"3485\",\"type\":\"YearsTicker\"},{\"attributes\":{\"active_drag\":\"auto\",\"active_inspect\":\"auto\",\"active_multi\":null,\"active_scroll\":\"auto\",\"active_tap\":\"auto\",\"tools\":[{\"id\":\"3449\"},{\"id\":\"3450\"},{\"id\":\"3451\"},{\"id\":\"3452\"},{\"id\":\"3453\"},{\"id\":\"3454\"},{\"id\":\"3530\"}]},\"id\":\"3456\",\"type\":\"Toolbar\"},{\"attributes\":{\"axis_label\":\"Deaths & Recovered\",\"formatter\":{\"id\":\"3630\"},\"minor_tick_in\":-5,\"minor_tick_out\":-3,\"ticker\":{\"id\":\"3548\"}},\"id\":\"3547\",\"type\":\"LinearAxis\"},{\"attributes\":{\"days\":[1,4,7,10,13,16,19,22,25,28]},\"id\":\"3784\",\"type\":\"DaysTicker\"},{\"attributes\":{\"days\":[1,15]},\"id\":\"3480\",\"type\":\"DaysTicker\"},{\"attributes\":{},\"id\":\"3884\",\"type\":\"UnionRenderers\"},{\"attributes\":{\"days\":[1,8,15,22]},\"id\":\"3785\",\"type\":\"DaysTicker\"},{\"attributes\":{},\"id\":\"3435\",\"type\":\"DataRange1d\"},{\"attributes\":{\"months\":[0,1,2,3,4,5,6,7,8,9,10,11]},\"id\":\"3481\",\"type\":\"MonthsTicker\"},{\"attributes\":{\"line_alpha\":0.1,\"line_color\":\"darkviolet\",\"line_width\":4,\"x\":{\"field\":\"x\"},\"y\":{\"field\":\"y\"}},\"id\":\"3567\",\"type\":\"Line\"},{\"attributes\":{\"days\":[1,15]},\"id\":\"3786\",\"type\":\"DaysTicker\"},{\"attributes\":{\"items\":[{\"id\":\"3589\"},{\"id\":\"3622\"}],\"location\":\"top_left\"},\"id\":\"3588\",\"type\":\"Legend\"},{\"attributes\":{\"months\":[0,2,4,6,8,10]},\"id\":\"3482\",\"type\":\"MonthsTicker\"},{\"attributes\":{\"fill_alpha\":{\"value\":0.1},\"fill_color\":{\"value\":\"white\"},\"line_alpha\":{\"value\":0.1},\"line_color\":{\"value\":\"blue\"},\"size\":{\"units\":\"screen\",\"value\":5},\"x\":{\"field\":\"x\"},\"y\":{\"field\":\"y\"}},\"id\":\"3490\",\"type\":\"Circle\"},{\"attributes\":{\"months\":[0,1,2,3,4,5,6,7,8,9,10,11]},\"id\":\"3787\",\"type\":\"MonthsTicker\"},{\"attributes\":{\"active_drag\":\"auto\",\"active_inspect\":\"auto\",\"active_multi\":null,\"active_scroll\":\"auto\",\"active_tap\":\"auto\",\"tools\":[{\"id\":\"3551\"},{\"id\":\"3552\"},{\"id\":\"3553\"},{\"id\":\"3554\"},{\"id\":\"3555\"},{\"id\":\"3556\"},{\"id\":\"3632\"}]},\"id\":\"3558\",\"type\":\"Toolbar\"},{\"attributes\":{\"text\":\"Total Cases & Total Positive: Lombardia\"},\"id\":\"3431\",\"type\":\"Title\"},{\"attributes\":{\"months\":[0,4,8]},\"id\":\"3483\",\"type\":\"MonthsTicker\"},{\"attributes\":{},\"id\":\"3437\",\"type\":\"LinearScale\"},{\"attributes\":{\"months\":[0,2,4,6,8,10]},\"id\":\"3788\",\"type\":\"MonthsTicker\"},{\"attributes\":{},\"id\":\"3450\",\"type\":\"WheelZoomTool\"},{\"attributes\":{\"data_source\":{\"id\":\"3565\"},\"glyph\":{\"id\":\"3566\"},\"hover_glyph\":null,\"muted_glyph\":null,\"nonselection_glyph\":{\"id\":\"3567\"},\"selection_glyph\":null,\"view\":{\"id\":\"3569\"}},\"id\":\"3568\",\"type\":\"GlyphRenderer\"},{\"attributes\":{\"months\":[0,6]},\"id\":\"3484\",\"type\":\"MonthsTicker\"},{\"attributes\":{},\"id\":\"3452\",\"type\":\"SaveTool\"},{\"attributes\":{},\"id\":\"3551\",\"type\":\"PanTool\"},{\"attributes\":{\"axis\":{\"id\":\"3445\"},\"dimension\":1,\"ticker\":null},\"id\":\"3448\",\"type\":\"Grid\"},{\"attributes\":{\"months\":[0,4,8]},\"id\":\"3789\",\"type\":\"MonthsTicker\"},{\"attributes\":{\"line_alpha\":0.1,\"line_color\":\"blue\",\"line_width\":4,\"x\":{\"field\":\"x\"},\"y\":{\"field\":\"y\"}},\"id\":\"3465\",\"type\":\"Line\"},{\"attributes\":{\"fill_color\":{\"value\":\"white\"},\"line_color\":{\"value\":\"blue\"},\"size\":{\"units\":\"screen\",\"value\":5},\"x\":{\"field\":\"x\"},\"y\":{\"field\":\"y\"}},\"id\":\"3489\",\"type\":\"Circle\"},{\"attributes\":{},\"id\":\"3552\",\"type\":\"WheelZoomTool\"},{\"attributes\":{\"data_source\":{\"id\":\"3488\"},\"glyph\":{\"id\":\"3489\"},\"hover_glyph\":null,\"muted_glyph\":null,\"nonselection_glyph\":{\"id\":\"3490\"},\"selection_glyph\":null,\"view\":{\"id\":\"3492\"}},\"id\":\"3491\",\"type\":\"GlyphRenderer\"},{\"attributes\":{\"months\":[0,6]},\"id\":\"3790\",\"type\":\"MonthsTicker\"},{\"attributes\":{\"data\":{\"x\":{\"__ndarray__\":\"AAAA5UcHd0IAAMBKmgd3QgAAgLDsB3dCAABAFj8Id0IAAAB8kQh3QgAAwOHjCHdCAACARzYJd0IAAECtiAl3QgAAABPbCXdCAADAeC0Kd0IAAIDefwp3QgAAQETSCndCAAAAqiQLd0IAAMAPdwt3QgAAgHXJC3dCAABA2xsMd0IAAABBbgx3QgAAwKbADHdCAACADBMNd0IAAEByZQ13QgAAANi3DXdCAADAPQoOd0IAAICjXA53QgAAQAmvDndCAAAAbwEPd0IAAMDUUw93QgAAgDqmD3dCAABAoPgPd0IAAAAGSxB3QgAAwGudEHdCAACA0e8Qd0IAAEA3QhF3QgAAAJ2UEXdCAADAAucRd0IAAIBoORJ3QgAAQM6LEndCAAAANN4Sd0IAAMCZMBN3QgAAgP+CE3dCAABAZdUTd0IAAADLJxR3QgAAwDB6FHdCAACAlswUd0IAAED8HhV3QgAAAGJxFXdCAADAx8MVd0IAAIAtFhZ3QgAAQJNoFndCAAAA+boWd0IAAMBeDRd3QgAAgMRfF3dCAABAKrIXd0IAAACQBBh3QgAAwPVWGHdCAACAW6kYd0IAAEDB+xh3QgAAACdOGXdCAADAjKAZd0IAAIDy8hl3QgAAQFhFGndCAAAAvpcad0IAAMAj6hp3QgAAgIk8G3dCAABA744bd0IAAABV4Rt3QgAAwLozHHdCAACAIIYcd0IAAECG2Bx3QgAAAOwqHXdCAADAUX0dd0IAAIC3zx13QgAAQB0iHndCAAAAg3Qed0IAAMDoxh53QgAAgE4ZH3dCAABAtGsfd0IAAAAavh93QgAAwH8QIHdCAACA5WIgd0IAAEBLtSB3QgAAALEHIXdCAADAFlohd0IAAIB8rCF3QgAAQOL+IXdCAAAASFEid0IAAMCtoyJ3QgAAgBP2IndCAABAeUgjd0IAAADfmiN3QgAAwETtI3dCAACAqj8kd0IAAEAQkiR3QgAAAHbkJHdCAADA2zYld0IAAIBBiSV3QgAAQKfbJXdCAAAADS4md0IAAMBygCZ3QgAAgNjSJndCAABAPiUnd0IAAACkdyd3QgAAwAnKJ3dCAACAbxwod0IAAEDVbih3QgAAADvBKHdCAADAoBMpd0IAAIAGZil3QgAAQGy4KXdCAAAA0goqd0IAAMA3XSp3QgAAgJ2vKndCAABAAwIrd0IAAABpVCt3QgAAwM6mK3dCAACANPkrd0IAAECaSyx3QgAAAACeLHdCAADAZfAsd0IAAIDLQi13QgAAQDGVLXdCAAAAl+ctd0IAAMD8OS53QgAAgGKMLndCAABAyN4ud0IAAAAuMS93QgAAwJODL3dCAACA+dUvd0I=\",\"dtype\":\"float64\",\"shape\":[127]},\"y\":[172,240,258,403,531,615,984,1254,1520,1820,2251,2612,3420,4189,5469,5791,7280,8725,9820,11685,13272,14649,16220,17713,19884,22264,25515,27206,28761,30703,32346,34889,37298,39415,41007,42161,43208,44773,46065,47520,49118,50455,51534,52325,53414,54802,56048,57592,59052,60314,61326,62153,63094,64135,65381,66236,66971,67931,69092,70165,71256,71969,72889,73479,74348,75134,75732,76469,77002,77528,78105,78605,79369,80089,80723,81225,81507,81871,82904,83298,83820,84119,84518,84844,85019,85481,85775,86091,86384,86825,87110,87258,87417,87801,88183,88537,88758,88968,89018,89205,89442,89526,89928,90070,90195,90389,90581,90680,90932,91204,91414,91658,91917,92060,92302,92518,92675,92840,92968,93111,93173,93261,93431,93587,93664,93761,93839]},\"selected\":{\"id\":\"3518\"},\"selection_policy\":{\"id\":\"3519\"}},\"id\":\"3488\",\"type\":\"ColumnDataSource\"},{\"attributes\":{\"overlay\":{\"id\":\"3557\"}},\"id\":\"3553\",\"type\":\"BoxZoomTool\"},{\"attributes\":{\"data\":{\"x\":{\"__ndarray__\":\"AAAA5UcHd0IAAMBKmgd3QgAAgLDsB3dCAABAFj8Id0IAAAB8kQh3QgAAwOHjCHdCAACARzYJd0IAAECtiAl3QgAAABPbCXdCAADAeC0Kd0IAAIDefwp3QgAAQETSCndCAAAAqiQLd0IAAMAPdwt3QgAAgHXJC3dCAABA2xsMd0IAAABBbgx3QgAAwKbADHdCAACADBMNd0IAAEByZQ13QgAAANi3DXdCAADAPQoOd0IAAICjXA53QgAAQAmvDndCAAAAbwEPd0IAAMDUUw93QgAAgDqmD3dCAABAoPgPd0IAAAAGSxB3QgAAwGudEHdCAACA0e8Qd0IAAEA3QhF3QgAAAJ2UEXdCAADAAucRd0IAAIBoORJ3QgAAQM6LEndCAAAANN4Sd0IAAMCZMBN3QgAAgP+CE3dCAABAZdUTd0IAAADLJxR3QgAAwDB6FHdCAACAlswUd0IAAED8HhV3QgAAAGJxFXdCAADAx8MVd0IAAIAtFhZ3QgAAQJNoFndCAAAA+boWd0IAAMBeDRd3QgAAgMRfF3dCAABAKrIXd0IAAACQBBh3QgAAwPVWGHdCAACAW6kYd0IAAEDB+xh3QgAAACdOGXdCAADAjKAZd0IAAIDy8hl3QgAAQFhFGndCAAAAvpcad0IAAMAj6hp3QgAAgIk8G3dCAABA744bd0IAAABV4Rt3QgAAwLozHHdCAACAIIYcd0IAAECG2Bx3QgAAAOwqHXdCAADAUX0dd0IAAIC3zx13QgAAQB0iHndCAAAAg3Qed0IAAMDoxh53QgAAgE4ZH3dCAABAtGsfd0IAAAAavh93QgAAwH8QIHdCAACA5WIgd0IAAEBLtSB3QgAAALEHIXdCAADAFlohd0IAAIB8rCF3QgAAQOL+IXdCAAAASFEid0IAAMCtoyJ3QgAAgBP2IndCAABAeUgjd0IAAADfmiN3QgAAwETtI3dCAACAqj8kd0IAAEAQkiR3QgAAAHbkJHdCAADA2zYld0IAAIBBiSV3QgAAQKfbJXdCAAAADS4md0IAAMBygCZ3QgAAgNjSJndCAABAPiUnd0IAAACkdyd3QgAAwAnKJ3dCAACAbxwod0IAAEDVbih3QgAAADvBKHdCAADAoBMpd0IAAIAGZil3QgAAQGy4KXdCAAAA0goqd0IAAMA3XSp3QgAAgJ2vKndCAABAAwIrd0IAAABpVCt3QgAAwM6mK3dCAACANPkrd0IAAECaSyx3QgAAAACeLHdCAADAZfAsd0IAAIDLQi13QgAAQDGVLXdCAAAAl+ctd0IAAMD8OS53QgAAgGKMLndCAABAyN4ud0IAAAAuMS93QgAAwJODL3dCAACA+dUvd0I=\",\"dtype\":\"float64\",\"shape\":[127]},\"y\":[172,240,258,403,531,615,984,1254,1520,1820,2251,2612,3420,4189,5469,5791,7280,8725,9820,11685,13272,14649,16220,17713,19884,22264,25515,27206,28761,30703,32346,34889,37298,39415,41007,42161,43208,44773,46065,47520,49118,50455,51534,52325,53414,54802,56048,57592,59052,60314,61326,62153,63094,64135,65381,66236,66971,67931,69092,70165,71256,71969,72889,73479,74348,75134,75732,76469,77002,77528,78105,78605,79369,80089,80723,81225,81507,81871,82904,83298,83820,84119,84518,84844,85019,85481,85775,86091,86384,86825,87110,87258,87417,87801,88183,88537,88758,88968,89018,89205,89442,89526,89928,90070,90195,90389,90581,90680,90932,91204,91414,91658,91917,92060,92302,92518,92675,92840,92968,93111,93173,93261,93431,93587,93664,93761,93839]},\"selected\":{\"id\":\"3516\"},\"selection_policy\":{\"id\":\"3517\"}},\"id\":\"3463\",\"type\":\"ColumnDataSource\"},{\"attributes\":{},\"id\":\"3791\",\"type\":\"YearsTicker\"},{\"attributes\":{\"data_source\":{\"id\":\"3521\"},\"glyph\":{\"id\":\"3522\"},\"hover_glyph\":null,\"muted_glyph\":null,\"nonselection_glyph\":{\"id\":\"3523\"},\"selection_glyph\":null,\"view\":{\"id\":\"3525\"}},\"id\":\"3524\",\"type\":\"GlyphRenderer\"},{\"attributes\":{\"fill_alpha\":{\"value\":0.1},\"fill_color\":{\"value\":\"white\"},\"line_alpha\":{\"value\":0.1},\"line_color\":{\"value\":\"darkviolet\"},\"size\":{\"units\":\"screen\",\"value\":5},\"x\":{\"field\":\"x\"},\"y\":{\"field\":\"y\"}},\"id\":\"3796\",\"type\":\"Circle\"},{\"attributes\":{},\"id\":\"3554\",\"type\":\"SaveTool\"},{\"attributes\":{\"line_color\":\"blue\",\"line_width\":4,\"x\":{\"field\":\"x\"},\"y\":{\"field\":\"y\"}},\"id\":\"3464\",\"type\":\"Line\"},{\"attributes\":{\"line_color\":\"red\",\"line_width\":4,\"x\":{\"field\":\"x\"},\"y\":{\"field\":\"y\"}},\"id\":\"3494\",\"type\":\"Line\"},{\"attributes\":{\"fill_color\":{\"value\":\"white\"},\"line_color\":{\"value\":\"darkviolet\"},\"size\":{\"units\":\"screen\",\"value\":5},\"x\":{\"field\":\"x\"},\"y\":{\"field\":\"y\"}},\"id\":\"3795\",\"type\":\"Circle\"},{\"attributes\":{\"toolbar\":{\"id\":\"3939\"},\"toolbar_location\":\"above\"},\"id\":\"3940\",\"type\":\"ToolbarBox\"},{\"attributes\":{},\"id\":\"3449\",\"type\":\"PanTool\"},{\"attributes\":{\"data_source\":{\"id\":\"3794\"},\"glyph\":{\"id\":\"3795\"},\"hover_glyph\":null,\"muted_glyph\":null,\"nonselection_glyph\":{\"id\":\"3796\"},\"selection_glyph\":null,\"view\":{\"id\":\"3798\"}},\"id\":\"3797\",\"type\":\"GlyphRenderer\"},{\"attributes\":{\"source\":{\"id\":\"3488\"}},\"id\":\"3492\",\"type\":\"CDSView\"},{\"attributes\":{},\"id\":\"3555\",\"type\":\"ResetTool\"},{\"attributes\":{\"data\":{\"x\":{\"__ndarray__\":\"AAAA5UcHd0IAAMBKmgd3QgAAgLDsB3dCAABAFj8Id0IAAAB8kQh3QgAAwOHjCHdCAACARzYJd0IAAECtiAl3QgAAABPbCXdCAADAeC0Kd0IAAIDefwp3QgAAQETSCndCAAAAqiQLd0IAAMAPdwt3QgAAgHXJC3dCAABA2xsMd0IAAABBbgx3QgAAwKbADHdCAACADBMNd0IAAEByZQ13QgAAANi3DXdCAADAPQoOd0IAAICjXA53QgAAQAmvDndCAAAAbwEPd0IAAMDUUw93QgAAgDqmD3dCAABAoPgPd0IAAAAGSxB3QgAAwGudEHdCAACA0e8Qd0IAAEA3QhF3QgAAAJ2UEXdCAADAAucRd0IAAIBoORJ3QgAAQM6LEndCAAAANN4Sd0IAAMCZMBN3QgAAgP+CE3dCAABAZdUTd0IAAADLJxR3QgAAwDB6FHdCAACAlswUd0IAAED8HhV3QgAAAGJxFXdCAADAx8MVd0IAAIAtFhZ3QgAAQJNoFndCAAAA+boWd0IAAMBeDRd3QgAAgMRfF3dCAABAKrIXd0IAAACQBBh3QgAAwPVWGHdCAACAW6kYd0IAAEDB+xh3QgAAACdOGXdCAADAjKAZd0IAAIDy8hl3QgAAQFhFGndCAAAAvpcad0IAAMAj6hp3QgAAgIk8G3dCAABA744bd0IAAABV4Rt3QgAAwLozHHdCAACAIIYcd0IAAECG2Bx3QgAAAOwqHXdCAADAUX0dd0IAAIC3zx13QgAAQB0iHndCAAAAg3Qed0IAAMDoxh53QgAAgE4ZH3dCAABAtGsfd0IAAAAavh93QgAAwH8QIHdCAACA5WIgd0IAAEBLtSB3QgAAALEHIXdCAADAFlohd0IAAIB8rCF3QgAAQOL+IXdCAAAASFEid0IAAMCtoyJ3QgAAgBP2IndCAABAeUgjd0IAAADfmiN3QgAAwETtI3dCAACAqj8kd0IAAEAQkiR3QgAAAHbkJHdCAADA2zYld0IAAIBBiSV3QgAAQKfbJXdCAAAADS4md0IAAMBygCZ3QgAAgNjSJndCAABAPiUnd0IAAACkdyd3QgAAwAnKJ3dCAACAbxwod0IAAEDVbih3QgAAADvBKHdCAADAoBMpd0IAAIAGZil3QgAAQGy4KXdCAAAA0goqd0IAAMA3XSp3QgAAgJ2vKndCAABAAwIrd0IAAABpVCt3QgAAwM6mK3dCAACANPkrd0IAAECaSyx3QgAAAACeLHdCAADAZfAsd0IAAIDLQi13QgAAQDGVLXdCAAAAl+ctd0IAAMD8OS53QgAAgGKMLndCAABAyN4ud0IAAAAuMS93QgAAwJODL3dCAACA+dUvd0I=\",\"dtype\":\"float64\",\"shape\":[127]},\"y\":[0,3,0,5,3,6,1,14,17,18,25,37,19,113,66,135,149,127,146,76,252,202,220,319,209,381,546,361,320,402,296,387,541,542,416,458,381,394,367,351,345,249,297,282,238,300,216,273,110,280,241,235,231,243,199,163,163,203,161,200,166,163,56,124,126,104,93,88,329,42,63,95,222,134,94,85,62,68,62,69,111,115,39,69,24,54,65,65,57,56,0,34,22,58,20,38,67,33,19,12,29,29,21,27,21,32,15,32,25,31,23,21,8,9,14,36,18,23,13,3,6,7,22,16,2,13,1]},\"selected\":{\"id\":\"3824\"},\"selection_policy\":{\"id\":\"3825\"}},\"id\":\"3794\",\"type\":\"ColumnDataSource\"},{\"attributes\":{},\"id\":\"3518\",\"type\":\"Selection\"},{\"attributes\":{},\"id\":\"3446\",\"type\":\"BasicTicker\"},{\"attributes\":{\"data\":{\"x\":{\"__ndarray__\":\"AAAA5UcHd0IAAMBKmgd3QgAAgLDsB3dCAABAFj8Id0IAAAB8kQh3QgAAwOHjCHdCAACARzYJd0IAAECtiAl3QgAAABPbCXdCAADAeC0Kd0IAAIDefwp3QgAAQETSCndCAAAAqiQLd0IAAMAPdwt3QgAAgHXJC3dCAABA2xsMd0IAAABBbgx3QgAAwKbADHdCAACADBMNd0IAAEByZQ13QgAAANi3DXdCAADAPQoOd0IAAICjXA53QgAAQAmvDndCAAAAbwEPd0IAAMDUUw93QgAAgDqmD3dCAABAoPgPd0IAAAAGSxB3QgAAwGudEHdCAACA0e8Qd0IAAEA3QhF3QgAAAJ2UEXdCAADAAucRd0IAAIBoORJ3QgAAQM6LEndCAAAANN4Sd0IAAMCZMBN3QgAAgP+CE3dCAABAZdUTd0IAAADLJxR3QgAAwDB6FHdCAACAlswUd0IAAED8HhV3QgAAAGJxFXdCAADAx8MVd0IAAIAtFhZ3QgAAQJNoFndCAAAA+boWd0IAAMBeDRd3QgAAgMRfF3dCAABAKrIXd0IAAACQBBh3QgAAwPVWGHdCAACAW6kYd0IAAEDB+xh3QgAAACdOGXdCAADAjKAZd0IAAIDy8hl3QgAAQFhFGndCAAAAvpcad0IAAMAj6hp3QgAAgIk8G3dCAABA744bd0IAAABV4Rt3QgAAwLozHHdCAACAIIYcd0IAAECG2Bx3QgAAAOwqHXdCAADAUX0dd0IAAIC3zx13QgAAQB0iHndCAAAAg3Qed0IAAMDoxh53QgAAgE4ZH3dCAABAtGsfd0IAAAAavh93QgAAwH8QIHdCAACA5WIgd0IAAEBLtSB3QgAAALEHIXdCAADAFlohd0IAAIB8rCF3QgAAQOL+IXdCAAAASFEid0IAAMCtoyJ3QgAAgBP2IndCAABAeUgjd0IAAADfmiN3QgAAwETtI3dCAACAqj8kd0IAAEAQkiR3QgAAAHbkJHdCAADA2zYld0IAAIBBiSV3QgAAQKfbJXdCAAAADS4md0IAAMBygCZ3QgAAgNjSJndCAABAPiUnd0IAAACkdyd3QgAAwAnKJ3dCAACAbxwod0IAAEDVbih3QgAAADvBKHdCAADAoBMpd0IAAIAGZil3QgAAQGy4KXdCAAAA0goqd0IAAMA3XSp3QgAAgJ2vKndCAABAAwIrd0IAAABpVCt3QgAAwM6mK3dCAACANPkrd0IAAECaSyx3QgAAAACeLHdCAADAZfAsd0IAAIDLQi13QgAAQDGVLXdCAAAAl+ctd0IAAMD8OS53QgAAgGKMLndCAABAyN4ud0IAAAAuMS93QgAAwJODL3dCAACA+dUvd0I=\",\"dtype\":\"float64\",\"shape\":[127]},\"y\":[166,231,249,349,474,552,887,1077,1326,1497,1777,2008,2742,3372,4490,4427,5763,6896,7732,9059,10043,10861,12095,12266,13938,15420,17370,17885,18910,19868,20591,22189,23895,24509,25392,25006,25124,25765,25876,26189,27220,28124,28469,28343,28545,29074,29530,30258,31265,31935,32363,32921,33090,33434,34195,34497,34587,33978,34242,33873,34368,34473,35166,35441,35744,36122,36211,36473,36667,36926,37307,37092,31753,32015,31983,30262,30190,30411,30675,30032,29956,27746,27679,27430,27073,27291,26671,26715,25933,25630,25614,25215,24477,24037,22913,22683,21809,20996,20861,20255,20224,20224,19853,19499,19420,19319,18297,17857,17340,17024,16785,15989,15976,15233,14972,14647,14045,13911,13843,13638,12903,12227,11992,11640,10992,10947,10823]},\"selected\":{\"id\":\"3858\"},\"selection_policy\":{\"id\":\"3859\"}},\"id\":\"3493\",\"type\":\"ColumnDataSource\"},{\"attributes\":{\"children\":[[{\"id\":\"3430\"},0,0],[{\"id\":\"3532\"},0,1],[{\"id\":\"3634\"},1,0],[{\"id\":\"3736\"},1,1]]},\"id\":\"3938\",\"type\":\"GridBox\"},{\"attributes\":{\"source\":{\"id\":\"3565\"}},\"id\":\"3569\",\"type\":\"CDSView\"},{\"attributes\":{},\"id\":\"3861\",\"type\":\"UnionRenderers\"},{\"attributes\":{\"overlay\":{\"id\":\"3455\"}},\"id\":\"3451\",\"type\":\"BoxZoomTool\"},{\"attributes\":{},\"id\":\"3556\",\"type\":\"HelpTool\"},{\"attributes\":{\"line_color\":\"lightgreen\",\"line_width\":4,\"x\":{\"field\":\"x\"},\"y\":{\"field\":\"y\"}},\"id\":\"3800\",\"type\":\"Line\"},{\"attributes\":{\"source\":{\"id\":\"3794\"}},\"id\":\"3798\",\"type\":\"CDSView\"},{\"attributes\":{},\"id\":\"3860\",\"type\":\"Selection\"},{\"attributes\":{},\"id\":\"3453\",\"type\":\"ResetTool\"},{\"attributes\":{\"data_source\":{\"id\":\"3590\"},\"glyph\":{\"id\":\"3591\"},\"hover_glyph\":null,\"muted_glyph\":null,\"nonselection_glyph\":{\"id\":\"3592\"},\"selection_glyph\":null,\"view\":{\"id\":\"3594\"}},\"id\":\"3593\",\"type\":\"GlyphRenderer\"},{\"attributes\":{\"data\":{\"x\":{\"__ndarray__\":\"AAAA5UcHd0IAAMBKmgd3QgAAgLDsB3dCAABAFj8Id0IAAAB8kQh3QgAAwOHjCHdCAACARzYJd0IAAECtiAl3QgAAABPbCXdCAADAeC0Kd0IAAIDefwp3QgAAQETSCndCAAAAqiQLd0IAAMAPdwt3QgAAgHXJC3dCAABA2xsMd0IAAABBbgx3QgAAwKbADHdCAACADBMNd0IAAEByZQ13QgAAANi3DXdCAADAPQoOd0IAAICjXA53QgAAQAmvDndCAAAAbwEPd0IAAMDUUw93QgAAgDqmD3dCAABAoPgPd0IAAAAGSxB3QgAAwGudEHdCAACA0e8Qd0IAAEA3QhF3QgAAAJ2UEXdCAADAAucRd0IAAIBoORJ3QgAAQM6LEndCAAAANN4Sd0IAAMCZMBN3QgAAgP+CE3dCAABAZdUTd0IAAADLJxR3QgAAwDB6FHdCAACAlswUd0IAAED8HhV3QgAAAGJxFXdCAADAx8MVd0IAAIAtFhZ3QgAAQJNoFndCAAAA+boWd0IAAMBeDRd3QgAAgMRfF3dCAABAKrIXd0IAAACQBBh3QgAAwPVWGHdCAACAW6kYd0IAAEDB+xh3QgAAACdOGXdCAADAjKAZd0IAAIDy8hl3QgAAQFhFGndCAAAAvpcad0IAAMAj6hp3QgAAgIk8G3dCAABA744bd0IAAABV4Rt3QgAAwLozHHdCAACAIIYcd0IAAECG2Bx3QgAAAOwqHXdCAADAUX0dd0IAAIC3zx13QgAAQB0iHndCAAAAg3Qed0IAAMDoxh53QgAAgE4ZH3dCAABAtGsfd0IAAAAavh93QgAAwH8QIHdCAACA5WIgd0IAAEBLtSB3QgAAALEHIXdCAADAFlohd0IAAIB8rCF3QgAAQOL+IXdCAAAASFEid0IAAMCtoyJ3QgAAgBP2IndCAABAeUgjd0IAAADfmiN3QgAAwETtI3dCAACAqj8kd0IAAEAQkiR3QgAAAHbkJHdCAADA2zYld0IAAIBBiSV3QgAAQKfbJXdCAAAADS4md0IAAMBygCZ3QgAAgNjSJndCAABAPiUnd0IAAACkdyd3QgAAwAnKJ3dCAACAbxwod0IAAEDVbih3QgAAADvBKHdCAADAoBMpd0IAAIAGZil3QgAAQGy4KXdCAAAA0goqd0IAAMA3XSp3QgAAgJ2vKndCAABAAwIrd0IAAABpVCt3QgAAwM6mK3dCAACANPkrd0IAAECaSyx3QgAAAACeLHdCAADAZfAsd0IAAIDLQi13QgAAQDGVLXdCAAAAl+ctd0IAAMD8OS53QgAAgGKMLndCAABAyN4ud0IAAAAuMS93QgAAwJODL3dCAACA+dUvd0I=\",\"dtype\":\"float64\",\"shape\":[127]},\"y\":{\"__ndarray__\":\"AAAAAAAA+H8AAAAAAAD4fwAAAAAAAPh/AAAAAAAA+H8AAAAAAAD4fwAAAAAAAPh/AAAAAAAA+H8AAAAAAAD4fwAAAAAAAPh/AAAAAAAA+H8AAAAAAAD4fwAAAAAAAPh/AAAAAAAA+H9JkiRJkqQyQLdt27ZtWzdASZIkSZJkQEBu27Zt27ZFQCVJkiRJEkpA27Zt27YtT0Bu27Zt29ZQQCVJkiRJUlVA27Zt27atWEDbtm3btk1cQG7btm3b1mBAt23btm17YkDbtm3bto1lQCVJkiRJQmpAkiRJkiR5bEDbtm3btr1uQAAAAAAAkHBAAAAAAAA4cUCSJEmSJGFyQEmSJEmSJHRAkiRJkiQ5dkBJkiRJkvR2QJIkSZIkGXhAkiRJkiTReEBu27Zt2yZ5QLdt27Zt23lAkiRJkiS5eUC3bdu2bdN4QLdt27ZtU3hAkiRJkiQ5eEAAAAAAALB3QNu2bdu2bXdAJUmSJEkKd0Bu27Zt25Z1QLdt27ZtY3RA27Zt27YFc0AlSZIkSTpyQCVJkiRJmnFASZIkSZLkcECSJEmSJElwQLdt27Ztm29A27Zt27ZNbkCSJEmSJIltQG7btm3bVmxAJUmSJEmia0AlSZIkSfJqQNu2bdu2DWpAt23btm2baUAAAAAAAKBoQEmSJEmSJGhAAAAAAADAZkCSJEmSJLllQNu2bdu2jWRAJUmSJElSY0AAAAAAAPBhQJIkSZIkGWNASZIkSZIEYkAAAAAAACBhQJIkSZIkKWBASZIkSZK0YEDbtm3bth1gQCVJkiRJ8l5A27Zt27aNXUCSJEmSJKldQJIkSZIkqVxASZIkSZKEW0BJkiRJkuRaQG7btm3bNltAJUmSJEmyW0BJkiRJkoRWQAAAAAAAAFdA27Zt27ZNVkAlSZIkSZJVQEmSJEmSxFJAkiRJkiSJUUAAAAAAAOBQQLdt27ZtW1BAAAAAAACATkCSJEmSJElNQLdt27Zt20tAbtu2bdt2S0Bu27Zt2zZIQG7btm3bdkVAbtu2bdt2RkDbtm3bti1FQAAAAAAAAEVAAAAAAACAQ0Bu27Zt2zZCQNu2bdu27UBAkiRJkiRJP0Bu27Zt2zY9QG7btm3btj5AJUmSJEmSPkAlSZIkSRI+QG7btm3bNjxAJUmSJEmSPEAlSZIkSRI8QNu2bdu27ThAJUmSJEkSOECSJEmSJEk3QCVJkiRJEjdAAAAAAAAANkAAAAAAAIA2QJIkSZIkSTZAAAAAAAAANkDbtm3btm01QLdt27ZtWzNAbtu2bdu2MkDbtm3btu0wQG7btm3btjBAkiRJkiRJL0CSJEmSJEksQEmSJEmSJCtASZIkSZIkKkA=\",\"dtype\":\"float64\",\"shape\":[127]}},\"selected\":{\"id\":\"3933\"},\"selection_policy\":{\"id\":\"3934\"}},\"id\":\"3799\",\"type\":\"ColumnDataSource\"},{\"attributes\":{},\"id\":\"3935\",\"type\":\"Selection\"},{\"attributes\":{\"months\":[0,6]},\"id\":\"3586\",\"type\":\"MonthsTicker\"},{\"attributes\":{\"line_alpha\":0.1,\"line_color\":\"red\",\"line_width\":4,\"x\":{\"field\":\"x\"},\"y\":{\"field\":\"y\"}},\"id\":\"3495\",\"type\":\"Line\"},{\"attributes\":{\"fill_alpha\":{\"value\":0.1},\"fill_color\":{\"value\":\"white\"},\"line_alpha\":{\"value\":0.1},\"line_color\":{\"value\":\"darkviolet\"},\"size\":{\"units\":\"screen\",\"value\":5},\"x\":{\"field\":\"x\"},\"y\":{\"field\":\"y\"}},\"id\":\"3592\",\"type\":\"Circle\"},{\"attributes\":{\"items\":[{\"id\":\"3487\"},{\"id\":\"3520\"}],\"location\":\"top_left\"},\"id\":\"3486\",\"type\":\"Legend\"},{\"attributes\":{\"source\":{\"id\":\"3493\"}},\"id\":\"3497\",\"type\":\"CDSView\"},{\"attributes\":{},\"id\":\"3909\",\"type\":\"UnionRenderers\"},{\"attributes\":{\"data_source\":{\"id\":\"3493\"},\"glyph\":{\"id\":\"3494\"},\"hover_glyph\":null,\"muted_glyph\":null,\"nonselection_glyph\":{\"id\":\"3495\"},\"selection_glyph\":null,\"view\":{\"id\":\"3497\"}},\"id\":\"3496\",\"type\":\"GlyphRenderer\"},{\"attributes\":{\"days\":[\"%d %B\"]},\"id\":\"3526\",\"type\":\"DatetimeTickFormatter\"},{\"attributes\":{},\"id\":\"3519\",\"type\":\"UnionRenderers\"},{\"attributes\":{},\"id\":\"3587\",\"type\":\"YearsTicker\"},{\"attributes\":{},\"id\":\"3454\",\"type\":\"HelpTool\"},{\"attributes\":{\"use_scientific\":false},\"id\":\"3528\",\"type\":\"BasicTickFormatter\"},{\"attributes\":{},\"id\":\"3886\",\"type\":\"UnionRenderers\"},{\"attributes\":{\"line_alpha\":0.1,\"line_color\":\"lightgreen\",\"line_width\":4,\"x\":{\"field\":\"x\"},\"y\":{\"field\":\"y\"}},\"id\":\"3801\",\"type\":\"Line\"},{\"attributes\":{\"callback\":null,\"formatters\":{\"@x\":\"datetime\"},\"mode\":\"vline\",\"tooltips\":[[\"date\",\"@x{%d %B}\"],[\"deaths OR recovered\",\"@y{0[.]000}\"]]},\"id\":\"3632\",\"type\":\"HoverTool\"},{\"attributes\":{\"source\":{\"id\":\"3799\"}},\"id\":\"3803\",\"type\":\"CDSView\"},{\"attributes\":{},\"id\":\"3439\",\"type\":\"LinearScale\"},{\"attributes\":{\"data_source\":{\"id\":\"3799\"},\"glyph\":{\"id\":\"3800\"},\"hover_glyph\":null,\"muted_glyph\":null,\"nonselection_glyph\":{\"id\":\"3801\"},\"selection_glyph\":null,\"view\":{\"id\":\"3803\"}},\"id\":\"3802\",\"type\":\"GlyphRenderer\"},{\"attributes\":{\"label\":{\"value\":\"deaths\"},\"renderers\":[{\"id\":\"3568\"}]},\"id\":\"3589\",\"type\":\"LegendItem\"},{\"attributes\":{\"text\":\"Deaths & Recovered: Lombardia\"},\"id\":\"3533\",\"type\":\"Title\"},{\"attributes\":{\"label\":{\"value\":\"total positive\"},\"renderers\":[{\"id\":\"3496\"}]},\"id\":\"3520\",\"type\":\"LegendItem\"},{\"attributes\":{\"data\":{\"x\":{\"__ndarray__\":\"AAAA5UcHd0IAAMBKmgd3QgAAgLDsB3dCAABAFj8Id0IAAAB8kQh3QgAAwOHjCHdCAACARzYJd0IAAECtiAl3QgAAABPbCXdCAADAeC0Kd0IAAIDefwp3QgAAQETSCndCAAAAqiQLd0IAAMAPdwt3QgAAgHXJC3dCAABA2xsMd0IAAABBbgx3QgAAwKbADHdCAACADBMNd0IAAEByZQ13QgAAANi3DXdCAADAPQoOd0IAAICjXA53QgAAQAmvDndCAAAAbwEPd0IAAMDUUw93QgAAgDqmD3dCAABAoPgPd0IAAAAGSxB3QgAAwGudEHdCAACA0e8Qd0IAAEA3QhF3QgAAAJ2UEXdCAADAAucRd0IAAIBoORJ3QgAAQM6LEndCAAAANN4Sd0IAAMCZMBN3QgAAgP+CE3dCAABAZdUTd0IAAADLJxR3QgAAwDB6FHdCAACAlswUd0IAAED8HhV3QgAAAGJxFXdCAADAx8MVd0IAAIAtFhZ3QgAAQJNoFndCAAAA+boWd0IAAMBeDRd3QgAAgMRfF3dCAABAKrIXd0IAAACQBBh3QgAAwPVWGHdCAACAW6kYd0IAAEDB+xh3QgAAACdOGXdCAADAjKAZd0IAAIDy8hl3QgAAQFhFGndCAAAAvpcad0IAAMAj6hp3QgAAgIk8G3dCAABA744bd0IAAABV4Rt3QgAAwLozHHdCAACAIIYcd0IAAECG2Bx3QgAAAOwqHXdCAADAUX0dd0IAAIC3zx13QgAAQB0iHndCAAAAg3Qed0IAAMDoxh53QgAAgE4ZH3dCAABAtGsfd0IAAAAavh93QgAAwH8QIHdCAACA5WIgd0IAAEBLtSB3QgAAALEHIXdCAADAFlohd0IAAIB8rCF3QgAAQOL+IXdCAAAASFEid0IAAMCtoyJ3QgAAgBP2IndCAABAeUgjd0IAAADfmiN3QgAAwETtI3dCAACAqj8kd0IAAEAQkiR3QgAAAHbkJHdCAADA2zYld0IAAIBBiSV3QgAAQKfbJXdCAAAADS4md0IAAMBygCZ3QgAAgNjSJndCAABAPiUnd0IAAACkdyd3QgAAwAnKJ3dCAACAbxwod0IAAEDVbih3QgAAADvBKHdCAADAoBMpd0IAAIAGZil3QgAAQGy4KXdCAAAA0goqd0IAAMA3XSp3QgAAgJ2vKndCAABAAwIrd0IAAABpVCt3QgAAwM6mK3dCAACANPkrd0IAAECaSyx3QgAAAACeLHdCAADAZfAsd0IAAIDLQi13QgAAQDGVLXdCAAAAl+ctd0IAAMD8OS53QgAAgGKMLndCAABAyN4ud0IAAAAuMS93QgAAwJODL3dCAACA+dUvd0I=\",\"dtype\":\"float64\",\"shape\":[127]},\"y\":[6,9,9,14,17,23,24,38,55,73,98,135,154,267,333,468,617,744,890,966,1218,1420,1640,1959,2168,2549,3095,3456,3776,4178,4474,4861,5402,5944,6360,6818,7199,7593,7960,8311,8656,8905,9202,9484,9722,10022,10238,10511,10621,10901,11142,11377,11608,11851,12050,12213,12376,12579,12740,12940,13106,13269,13325,13449,13575,13679,13772,13860,14189,14231,14294,14389,14611,14745,14839,14924,14986,15054,15116,15185,15296,15411,15450,15519,15543,15597,15662,15727,15784,15840,15840,15874,15896,15954,15974,16012,16079,16112,16131,16143,16172,16201,16222,16249,16270,16302,16317,16349,16374,16405,16428,16449,16457,16466,16480,16516,16534,16557,16570,16573,16579,16586,16608,16624,16626,16639,16640]},\"selected\":{\"id\":\"3620\"},\"selection_policy\":{\"id\":\"3621\"}},\"id\":\"3590\",\"type\":\"ColumnDataSource\"},{\"attributes\":{\"source\":{\"id\":\"3521\"}},\"id\":\"3525\",\"type\":\"CDSView\"},{\"attributes\":{\"data\":{\"x\":{\"__ndarray__\":\"AAAA5UcHd0IAAMBKmgd3QgAAgLDsB3dCAABAFj8Id0IAAAB8kQh3QgAAwOHjCHdCAACARzYJd0IAAECtiAl3QgAAABPbCXdCAADAeC0Kd0IAAIDefwp3QgAAQETSCndCAAAAqiQLd0IAAMAPdwt3QgAAgHXJC3dCAABA2xsMd0IAAABBbgx3QgAAwKbADHdCAACADBMNd0IAAEByZQ13QgAAANi3DXdCAADAPQoOd0IAAICjXA53QgAAQAmvDndCAAAAbwEPd0IAAMDUUw93QgAAgDqmD3dCAABAoPgPd0IAAAAGSxB3QgAAwGudEHdCAACA0e8Qd0IAAEA3QhF3QgAAAJ2UEXdCAADAAucRd0IAAIBoORJ3QgAAQM6LEndCAAAANN4Sd0IAAMCZMBN3QgAAgP+CE3dCAABAZdUTd0IAAADLJxR3QgAAwDB6FHdCAACAlswUd0IAAED8HhV3QgAAAGJxFXdCAADAx8MVd0IAAIAtFhZ3QgAAQJNoFndCAAAA+boWd0IAAMBeDRd3QgAAgMRfF3dCAABAKrIXd0IAAACQBBh3QgAAwPVWGHdCAACAW6kYd0IAAEDB+xh3QgAAACdOGXdCAADAjKAZd0IAAIDy8hl3QgAAQFhFGndCAAAAvpcad0IAAMAj6hp3QgAAgIk8G3dCAABA744bd0IAAABV4Rt3QgAAwLozHHdCAACAIIYcd0IAAECG2Bx3QgAAAOwqHXdCAADAUX0dd0IAAIC3zx13QgAAQB0iHndCAAAAg3Qed0IAAMDoxh53QgAAgE4ZH3dCAABAtGsfd0IAAAAavh93QgAAwH8QIHdCAACA5WIgd0IAAEBLtSB3QgAAALEHIXdCAADAFlohd0IAAIB8rCF3QgAAQOL+IXdCAAAASFEid0IAAMCtoyJ3QgAAgBP2IndCAABAeUgjd0IAAADfmiN3QgAAwETtI3dCAACAqj8kd0IAAEAQkiR3QgAAAHbkJHdCAADA2zYld0IAAIBBiSV3QgAAQKfbJXdCAAAADS4md0IAAMBygCZ3QgAAgNjSJndCAABAPiUnd0IAAACkdyd3QgAAwAnKJ3dCAACAbxwod0IAAEDVbih3QgAAADvBKHdCAADAoBMpd0IAAIAGZil3QgAAQGy4KXdCAAAA0goqd0IAAMA3XSp3QgAAgJ2vKndCAABAAwIrd0IAAABpVCt3QgAAwM6mK3dCAACANPkrd0IAAECaSyx3QgAAAACeLHdCAADAZfAsd0IAAIDLQi13QgAAQDGVLXdCAAAAl+ctd0IAAMD8OS53QgAAgGKMLndCAABAyN4ud0IAAAAuMS93QgAAwJODL3dCAACA+dUvd0I=\",\"dtype\":\"float64\",\"shape\":[127]},\"y\":[166,231,249,349,474,552,887,1077,1326,1497,1777,2008,2742,3372,4490,4427,5763,6896,7732,9059,10043,10861,12095,12266,13938,15420,17370,17885,18910,19868,20591,22189,23895,24509,25392,25006,25124,25765,25876,26189,27220,28124,28469,28343,28545,29074,29530,30258,31265,31935,32363,32921,33090,33434,34195,34497,34587,33978,34242,33873,34368,34473,35166,35441,35744,36122,36211,36473,36667,36926,37307,37092,31753,32015,31983,30262,30190,30411,30675,30032,29956,27746,27679,27430,27073,27291,26671,26715,25933,25630,25614,25215,24477,24037,22913,22683,21809,20996,20861,20255,20224,20224,19853,19499,19420,19319,18297,17857,17340,17024,16785,15989,15976,15233,14972,14647,14045,13911,13843,13638,12903,12227,11992,11640,10992,10947,10823]},\"selected\":{\"id\":\"3860\"},\"selection_policy\":{\"id\":\"3861\"}},\"id\":\"3521\",\"type\":\"ColumnDataSource\"},{\"attributes\":{},\"id\":\"3822\",\"type\":\"Selection\"},{\"attributes\":{},\"id\":\"3910\",\"type\":\"Selection\"},{\"attributes\":{},\"id\":\"3883\",\"type\":\"Selection\"},{\"attributes\":{\"bottom_units\":\"screen\",\"fill_alpha\":0.5,\"fill_color\":\"lightgrey\",\"left_units\":\"screen\",\"level\":\"overlay\",\"line_alpha\":1.0,\"line_color\":\"black\",\"line_dash\":[4,4],\"line_width\":2,\"render_mode\":\"css\",\"right_units\":\"screen\",\"top_units\":\"screen\"},\"id\":\"3557\",\"type\":\"BoxAnnotation\"},{\"attributes\":{\"fill_color\":{\"value\":\"white\"},\"line_color\":{\"value\":\"red\"},\"size\":{\"units\":\"screen\",\"value\":5},\"x\":{\"field\":\"x\"},\"y\":{\"field\":\"y\"}},\"id\":\"3522\",\"type\":\"Circle\"},{\"attributes\":{\"label\":{\"value\":\"SMA 14 days\"},\"renderers\":[{\"id\":\"3802\"}]},\"id\":\"3826\",\"type\":\"LegendItem\"},{\"attributes\":{},\"id\":\"3517\",\"type\":\"UnionRenderers\"},{\"attributes\":{\"months\":[0,4,8]},\"id\":\"3585\",\"type\":\"MonthsTicker\"},{\"attributes\":{},\"id\":\"3535\",\"type\":\"DataRange1d\"},{\"attributes\":{\"data\":{\"x\":{\"__ndarray__\":\"AAAA5UcHd0IAAMBKmgd3QgAAgLDsB3dCAABAFj8Id0IAAAB8kQh3QgAAwOHjCHdCAACARzYJd0IAAECtiAl3QgAAABPbCXdCAADAeC0Kd0IAAIDefwp3QgAAQETSCndCAAAAqiQLd0IAAMAPdwt3QgAAgHXJC3dCAABA2xsMd0IAAABBbgx3QgAAwKbADHdCAACADBMNd0IAAEByZQ13QgAAANi3DXdCAADAPQoOd0IAAICjXA53QgAAQAmvDndCAAAAbwEPd0IAAMDUUw93QgAAgDqmD3dCAABAoPgPd0IAAAAGSxB3QgAAwGudEHdCAACA0e8Qd0IAAEA3QhF3QgAAAJ2UEXdCAADAAucRd0IAAIBoORJ3QgAAQM6LEndCAAAANN4Sd0IAAMCZMBN3QgAAgP+CE3dCAABAZdUTd0IAAADLJxR3QgAAwDB6FHdCAACAlswUd0IAAED8HhV3QgAAAGJxFXdCAADAx8MVd0IAAIAtFhZ3QgAAQJNoFndCAAAA+boWd0IAAMBeDRd3QgAAgMRfF3dCAABAKrIXd0IAAACQBBh3QgAAwPVWGHdCAACAW6kYd0IAAEDB+xh3QgAAACdOGXdCAADAjKAZd0IAAIDy8hl3QgAAQFhFGndCAAAAvpcad0IAAMAj6hp3QgAAgIk8G3dCAABA744bd0IAAABV4Rt3QgAAwLozHHdCAACAIIYcd0IAAECG2Bx3QgAAAOwqHXdCAADAUX0dd0IAAIC3zx13QgAAQB0iHndCAAAAg3Qed0IAAMDoxh53QgAAgE4ZH3dCAABAtGsfd0IAAAAavh93QgAAwH8QIHdCAACA5WIgd0IAAEBLtSB3QgAAALEHIXdCAADAFlohd0IAAIB8rCF3QgAAQOL+IXdCAAAASFEid0IAAMCtoyJ3QgAAgBP2IndCAABAeUgjd0IAAADfmiN3QgAAwETtI3dCAACAqj8kd0IAAEAQkiR3QgAAAHbkJHdCAADA2zYld0IAAIBBiSV3QgAAQKfbJXdCAAAADS4md0IAAMBygCZ3QgAAgNjSJndCAABAPiUnd0IAAACkdyd3QgAAwAnKJ3dCAACAbxwod0IAAEDVbih3QgAAADvBKHdCAADAoBMpd0IAAIAGZil3QgAAQGy4KXdCAAAA0goqd0IAAMA3XSp3QgAAgJ2vKndCAABAAwIrd0IAAABpVCt3QgAAwM6mK3dCAACANPkrd0IAAECaSyx3QgAAAACeLHdCAADAZfAsd0IAAIDLQi13QgAAQDGVLXdCAAAAl+ctd0IAAMD8OS53QgAAgGKMLndCAABAyN4ud0IAAAAuMS93QgAAwJODL3dCAACA+dUvd0I=\",\"dtype\":\"float64\",\"shape\":[127]},\"y\":{\"__ndarray__\":\"AAAAAAAA+H8AAAAAAAD4fwAAAAAAAPh/AAAAAAAA+H8AAAAAAAD4fwAAAAAAAPh/AAAAAAAA+H8AAAAAAAD4fwAAAAAAAPh/AAAAAAAA+H8AAAAAAAD4fwAAAAAAAPh/AAAAAAAA+H9JkiRJkqQyQLdt27ZtWzdASZIkSZJkQEBu27Zt27ZFQCVJkiRJEkpA27Zt27YtT0Bu27Zt29ZQQCVJkiRJUlVA27Zt27atWEDbtm3btk1cQG7btm3b1mBAt23btm17YkDbtm3bto1lQCVJkiRJQmpAkiRJkiR5bEDbtm3btr1uQAAAAAAAkHBAAAAAAAA4cUCSJEmSJGFyQEmSJEmSJHRAkiRJkiQ5dkBJkiRJkvR2QJIkSZIkGXhAkiRJkiTReEBu27Zt2yZ5QLdt27Zt23lAkiRJkiS5eUC3bdu2bdN4QLdt27ZtU3hAkiRJkiQ5eEAAAAAAALB3QNu2bdu2bXdAJUmSJEkKd0Bu27Zt25Z1QLdt27ZtY3RA27Zt27YFc0AlSZIkSTpyQCVJkiRJmnFASZIkSZLkcECSJEmSJElwQLdt27Ztm29A27Zt27ZNbkCSJEmSJIltQG7btm3bVmxAJUmSJEmia0AlSZIkSfJqQNu2bdu2DWpAt23btm2baUAAAAAAAKBoQEmSJEmSJGhAAAAAAADAZkCSJEmSJLllQNu2bdu2jWRAJUmSJElSY0AAAAAAAPBhQJIkSZIkGWNASZIkSZIEYkAAAAAAACBhQJIkSZIkKWBASZIkSZK0YEDbtm3bth1gQCVJkiRJ8l5A27Zt27aNXUCSJEmSJKldQJIkSZIkqVxASZIkSZKEW0BJkiRJkuRaQG7btm3bNltAJUmSJEmyW0BJkiRJkoRWQAAAAAAAAFdA27Zt27ZNVkAlSZIkSZJVQEmSJEmSxFJAkiRJkiSJUUAAAAAAAOBQQLdt27ZtW1BAAAAAAACATkCSJEmSJElNQLdt27Zt20tAbtu2bdt2S0Bu27Zt2zZIQG7btm3bdkVAbtu2bdt2RkDbtm3bti1FQAAAAAAAAEVAAAAAAACAQ0Bu27Zt2zZCQNu2bdu27UBAkiRJkiRJP0Bu27Zt2zY9QG7btm3btj5AJUmSJEmSPkAlSZIkSRI+QG7btm3bNjxAJUmSJEmSPEAlSZIkSRI8QNu2bdu27ThAJUmSJEkSOECSJEmSJEk3QCVJkiRJEjdAAAAAAAAANkAAAAAAAIA2QJIkSZIkSTZAAAAAAAAANkDbtm3btm01QLdt27ZtWzNAbtu2bdu2MkDbtm3btu0wQG7btm3btjBAkiRJkiRJL0CSJEmSJEksQEmSJEmSJCtASZIkSZIkKkA=\",\"dtype\":\"float64\",\"shape\":[127]}},\"selected\":{\"id\":\"3935\"},\"selection_policy\":{\"id\":\"3936\"}},\"id\":\"3827\",\"type\":\"ColumnDataSource\"},{\"attributes\":{},\"id\":\"3516\",\"type\":\"Selection\"},{\"attributes\":{},\"id\":\"3859\",\"type\":\"UnionRenderers\"},{\"attributes\":{\"callback\":null,\"formatters\":{\"@x\":\"datetime\"},\"mode\":\"vline\",\"tooltips\":[[\"date\",\"@x{%d %B}\"],[\"total cases OR total positive\",\"@y{0[.]000}\"]]},\"id\":\"3530\",\"type\":\"HoverTool\"},{\"attributes\":{\"axis_label\":\"Date\",\"formatter\":{\"id\":\"3526\"},\"major_label_orientation\":0.7853981633974483,\"minor_tick_in\":-5,\"minor_tick_out\":-3,\"ticker\":{\"id\":\"3442\"}},\"id\":\"3441\",\"type\":\"DatetimeAxis\"},{\"attributes\":{},\"id\":\"3858\",\"type\":\"Selection\"},{\"attributes\":{},\"id\":\"3824\",\"type\":\"Selection\"},{\"attributes\":{\"axis\":{\"id\":\"3441\"},\"ticker\":null},\"id\":\"3444\",\"type\":\"Grid\"},{\"attributes\":{},\"id\":\"3933\",\"type\":\"Selection\"},{\"attributes\":{\"bottom_units\":\"screen\",\"fill_alpha\":0.5,\"fill_color\":\"lightgrey\",\"left_units\":\"screen\",\"level\":\"overlay\",\"line_alpha\":1.0,\"line_color\":\"black\",\"line_dash\":[4,4],\"line_width\":2,\"render_mode\":\"css\",\"right_units\":\"screen\",\"top_units\":\"screen\"},\"id\":\"3455\",\"type\":\"BoxAnnotation\"},{\"attributes\":{\"line_color\":\"darkviolet\",\"line_width\":4,\"x\":{\"field\":\"x\"},\"y\":{\"field\":\"y\"}},\"id\":\"3566\",\"type\":\"Line\"},{\"attributes\":{},\"id\":\"3908\",\"type\":\"Selection\"},{\"attributes\":{},\"id\":\"3823\",\"type\":\"UnionRenderers\"},{\"attributes\":{\"below\":[{\"id\":\"3645\"}],\"center\":[{\"id\":\"3648\"},{\"id\":\"3652\"},{\"id\":\"3690\"}],\"left\":[{\"id\":\"3649\"}],\"plot_height\":350,\"plot_width\":470,\"renderers\":[{\"id\":\"3670\"},{\"id\":\"3695\"},{\"id\":\"3700\"},{\"id\":\"3728\"}],\"title\":{\"id\":\"3635\"},\"toolbar\":{\"id\":\"3660\"},\"toolbar_location\":null,\"x_range\":{\"id\":\"3637\"},\"x_scale\":{\"id\":\"3641\"},\"y_range\":{\"id\":\"3639\"},\"y_scale\":{\"id\":\"3643\"}},\"id\":\"3634\",\"subtype\":\"Figure\",\"type\":\"Plot\"},{\"attributes\":{\"data_source\":{\"id\":\"3463\"},\"glyph\":{\"id\":\"3464\"},\"hover_glyph\":null,\"muted_glyph\":null,\"nonselection_glyph\":{\"id\":\"3465\"},\"selection_glyph\":null,\"view\":{\"id\":\"3467\"}},\"id\":\"3466\",\"type\":\"GlyphRenderer\"},{\"attributes\":{\"fill_color\":{\"value\":\"white\"},\"line_color\":{\"value\":\"lightgreen\"},\"size\":{\"units\":\"screen\",\"value\":5},\"x\":{\"field\":\"x\"},\"y\":{\"field\":\"y\"}},\"id\":\"3828\",\"type\":\"Circle\"},{\"attributes\":{\"fill_color\":{\"value\":\"white\"},\"line_color\":{\"value\":\"darkviolet\"},\"size\":{\"units\":\"screen\",\"value\":5},\"x\":{\"field\":\"x\"},\"y\":{\"field\":\"y\"}},\"id\":\"3591\",\"type\":\"Circle\"},{\"attributes\":{\"axis_label\":\"Total Cases & Total Positive\",\"formatter\":{\"id\":\"3528\"},\"minor_tick_in\":-5,\"minor_tick_out\":-3,\"ticker\":{\"id\":\"3446\"}},\"id\":\"3445\",\"type\":\"LinearAxis\"}],\"root_ids\":[\"3941\"]},\"title\":\"Bokeh Application\",\"version\":\"2.0.2\"}};\n",
       "  var render_items = [{\"docid\":\"a0ad0e0a-a836-411a-99b1-294464cc29df\",\"root_ids\":[\"3941\"],\"roots\":{\"3941\":\"59924758-2bf6-45d6-a552-0b5503635359\"}}];\n",
       "  root.Bokeh.embed.embed_items_notebook(docs_json, render_items);\n",
       "\n",
       "  }\n",
       "  if (root.Bokeh !== undefined) {\n",
       "    embed_document(root);\n",
       "  } else {\n",
       "    var attempts = 0;\n",
       "    var timer = setInterval(function(root) {\n",
       "      if (root.Bokeh !== undefined) {\n",
       "        clearInterval(timer);\n",
       "        embed_document(root);\n",
       "      } else {\n",
       "        attempts++;\n",
       "        if (attempts > 100) {\n",
       "          clearInterval(timer);\n",
       "          console.log(\"Bokeh: ERROR: Unable to run BokehJS code because BokehJS library is missing\");\n",
       "        }\n",
       "      }\n",
       "    }, 10, root)\n",
       "  }\n",
       "})(window);"
      ],
      "application/vnd.bokehjs_exec.v0+json": ""
     },
     "metadata": {
      "application/vnd.bokehjs_exec.v0+json": {
       "id": "3941"
      }
     },
     "output_type": "display_data"
    }
   ],
   "source": [
    "p_grid_Lombardia = gridplot([[s1_grid_Lombardia, s2_grid_Lombardia], [s3_grid_Lombardia, s4_grid_Lombardia]])\n",
    "\n",
    "output_file(\"grid_Lombardia.html\")\n",
    "\n",
    "show(p_grid_Lombardia)"
   ]
  },
  {
   "cell_type": "code",
   "execution_count": null,
   "metadata": {},
   "outputs": [],
   "source": []
  }
 ],
 "metadata": {
  "kernelspec": {
   "display_name": "Python 3",
   "language": "python",
   "name": "python3"
  },
  "language_info": {
   "codemirror_mode": {
    "name": "ipython",
    "version": 3
   },
   "file_extension": ".py",
   "mimetype": "text/x-python",
   "name": "python",
   "nbconvert_exporter": "python",
   "pygments_lexer": "ipython3",
   "version": "3.7.6"
  }
 },
 "nbformat": 4,
 "nbformat_minor": 2
}
