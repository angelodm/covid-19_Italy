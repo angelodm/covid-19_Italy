{
 "cells": [
  {
   "cell_type": "markdown",
   "metadata": {},
   "source": [
    "<h1 align=center><font size = 7>Italian Regions Trends Covid-19</font></h1>"
   ]
  },
  {
   "cell_type": "markdown",
   "metadata": {},
   "source": [
    "<h2 align=center><font size = 6> FRIULI VENEZIA-GIULIA</font></h2>"
   ]
  },
  {
   "cell_type": "markdown",
   "metadata": {},
   "source": [
    "------------\n",
    "\n",
    "<font size = 5> **Author**: Angelo Di Marco\n",
    "\n",
    "------------"
   ]
  },
  {
   "cell_type": "markdown",
   "metadata": {},
   "source": [
    "In this Notebook, we analyze the spreading of the new coronavirus in Italian Regions."
   ]
  },
  {
   "cell_type": "markdown",
   "metadata": {},
   "source": [
    "## Libraries and Functions"
   ]
  },
  {
   "cell_type": "code",
   "execution_count": 1,
   "metadata": {},
   "outputs": [
    {
     "data": {
      "text/html": [
       "\n",
       "    <div class=\"bk-root\">\n",
       "        <a href=\"https://bokeh.org\" target=\"_blank\" class=\"bk-logo bk-logo-small bk-logo-notebook\"></a>\n",
       "        <span id=\"1001\">Loading BokehJS ...</span>\n",
       "    </div>"
      ]
     },
     "metadata": {},
     "output_type": "display_data"
    },
    {
     "data": {
      "application/javascript": [
       "\n",
       "(function(root) {\n",
       "  function now() {\n",
       "    return new Date();\n",
       "  }\n",
       "\n",
       "  var force = true;\n",
       "\n",
       "  if (typeof root._bokeh_onload_callbacks === \"undefined\" || force === true) {\n",
       "    root._bokeh_onload_callbacks = [];\n",
       "    root._bokeh_is_loading = undefined;\n",
       "  }\n",
       "\n",
       "  var JS_MIME_TYPE = 'application/javascript';\n",
       "  var HTML_MIME_TYPE = 'text/html';\n",
       "  var EXEC_MIME_TYPE = 'application/vnd.bokehjs_exec.v0+json';\n",
       "  var CLASS_NAME = 'output_bokeh rendered_html';\n",
       "\n",
       "  /**\n",
       "   * Render data to the DOM node\n",
       "   */\n",
       "  function render(props, node) {\n",
       "    var script = document.createElement(\"script\");\n",
       "    node.appendChild(script);\n",
       "  }\n",
       "\n",
       "  /**\n",
       "   * Handle when an output is cleared or removed\n",
       "   */\n",
       "  function handleClearOutput(event, handle) {\n",
       "    var cell = handle.cell;\n",
       "\n",
       "    var id = cell.output_area._bokeh_element_id;\n",
       "    var server_id = cell.output_area._bokeh_server_id;\n",
       "    // Clean up Bokeh references\n",
       "    if (id != null && id in Bokeh.index) {\n",
       "      Bokeh.index[id].model.document.clear();\n",
       "      delete Bokeh.index[id];\n",
       "    }\n",
       "\n",
       "    if (server_id !== undefined) {\n",
       "      // Clean up Bokeh references\n",
       "      var cmd = \"from bokeh.io.state import curstate; print(curstate().uuid_to_server['\" + server_id + \"'].get_sessions()[0].document.roots[0]._id)\";\n",
       "      cell.notebook.kernel.execute(cmd, {\n",
       "        iopub: {\n",
       "          output: function(msg) {\n",
       "            var id = msg.content.text.trim();\n",
       "            if (id in Bokeh.index) {\n",
       "              Bokeh.index[id].model.document.clear();\n",
       "              delete Bokeh.index[id];\n",
       "            }\n",
       "          }\n",
       "        }\n",
       "      });\n",
       "      // Destroy server and session\n",
       "      var cmd = \"import bokeh.io.notebook as ion; ion.destroy_server('\" + server_id + \"')\";\n",
       "      cell.notebook.kernel.execute(cmd);\n",
       "    }\n",
       "  }\n",
       "\n",
       "  /**\n",
       "   * Handle when a new output is added\n",
       "   */\n",
       "  function handleAddOutput(event, handle) {\n",
       "    var output_area = handle.output_area;\n",
       "    var output = handle.output;\n",
       "\n",
       "    // limit handleAddOutput to display_data with EXEC_MIME_TYPE content only\n",
       "    if ((output.output_type != \"display_data\") || (!output.data.hasOwnProperty(EXEC_MIME_TYPE))) {\n",
       "      return\n",
       "    }\n",
       "\n",
       "    var toinsert = output_area.element.find(\".\" + CLASS_NAME.split(' ')[0]);\n",
       "\n",
       "    if (output.metadata[EXEC_MIME_TYPE][\"id\"] !== undefined) {\n",
       "      toinsert[toinsert.length - 1].firstChild.textContent = output.data[JS_MIME_TYPE];\n",
       "      // store reference to embed id on output_area\n",
       "      output_area._bokeh_element_id = output.metadata[EXEC_MIME_TYPE][\"id\"];\n",
       "    }\n",
       "    if (output.metadata[EXEC_MIME_TYPE][\"server_id\"] !== undefined) {\n",
       "      var bk_div = document.createElement(\"div\");\n",
       "      bk_div.innerHTML = output.data[HTML_MIME_TYPE];\n",
       "      var script_attrs = bk_div.children[0].attributes;\n",
       "      for (var i = 0; i < script_attrs.length; i++) {\n",
       "        toinsert[toinsert.length - 1].firstChild.setAttribute(script_attrs[i].name, script_attrs[i].value);\n",
       "        toinsert[toinsert.length - 1].firstChild.textContent = bk_div.children[0].textContent\n",
       "      }\n",
       "      // store reference to server id on output_area\n",
       "      output_area._bokeh_server_id = output.metadata[EXEC_MIME_TYPE][\"server_id\"];\n",
       "    }\n",
       "  }\n",
       "\n",
       "  function register_renderer(events, OutputArea) {\n",
       "\n",
       "    function append_mime(data, metadata, element) {\n",
       "      // create a DOM node to render to\n",
       "      var toinsert = this.create_output_subarea(\n",
       "        metadata,\n",
       "        CLASS_NAME,\n",
       "        EXEC_MIME_TYPE\n",
       "      );\n",
       "      this.keyboard_manager.register_events(toinsert);\n",
       "      // Render to node\n",
       "      var props = {data: data, metadata: metadata[EXEC_MIME_TYPE]};\n",
       "      render(props, toinsert[toinsert.length - 1]);\n",
       "      element.append(toinsert);\n",
       "      return toinsert\n",
       "    }\n",
       "\n",
       "    /* Handle when an output is cleared or removed */\n",
       "    events.on('clear_output.CodeCell', handleClearOutput);\n",
       "    events.on('delete.Cell', handleClearOutput);\n",
       "\n",
       "    /* Handle when a new output is added */\n",
       "    events.on('output_added.OutputArea', handleAddOutput);\n",
       "\n",
       "    /**\n",
       "     * Register the mime type and append_mime function with output_area\n",
       "     */\n",
       "    OutputArea.prototype.register_mime_type(EXEC_MIME_TYPE, append_mime, {\n",
       "      /* Is output safe? */\n",
       "      safe: true,\n",
       "      /* Index of renderer in `output_area.display_order` */\n",
       "      index: 0\n",
       "    });\n",
       "  }\n",
       "\n",
       "  // register the mime type if in Jupyter Notebook environment and previously unregistered\n",
       "  if (root.Jupyter !== undefined) {\n",
       "    var events = require('base/js/events');\n",
       "    var OutputArea = require('notebook/js/outputarea').OutputArea;\n",
       "\n",
       "    if (OutputArea.prototype.mime_types().indexOf(EXEC_MIME_TYPE) == -1) {\n",
       "      register_renderer(events, OutputArea);\n",
       "    }\n",
       "  }\n",
       "\n",
       "  \n",
       "  if (typeof (root._bokeh_timeout) === \"undefined\" || force === true) {\n",
       "    root._bokeh_timeout = Date.now() + 5000;\n",
       "    root._bokeh_failed_load = false;\n",
       "  }\n",
       "\n",
       "  var NB_LOAD_WARNING = {'data': {'text/html':\n",
       "     \"<div style='background-color: #fdd'>\\n\"+\n",
       "     \"<p>\\n\"+\n",
       "     \"BokehJS does not appear to have successfully loaded. If loading BokehJS from CDN, this \\n\"+\n",
       "     \"may be due to a slow or bad network connection. Possible fixes:\\n\"+\n",
       "     \"</p>\\n\"+\n",
       "     \"<ul>\\n\"+\n",
       "     \"<li>re-rerun `output_notebook()` to attempt to load from CDN again, or</li>\\n\"+\n",
       "     \"<li>use INLINE resources instead, as so:</li>\\n\"+\n",
       "     \"</ul>\\n\"+\n",
       "     \"<code>\\n\"+\n",
       "     \"from bokeh.resources import INLINE\\n\"+\n",
       "     \"output_notebook(resources=INLINE)\\n\"+\n",
       "     \"</code>\\n\"+\n",
       "     \"</div>\"}};\n",
       "\n",
       "  function display_loaded() {\n",
       "    var el = document.getElementById(\"1001\");\n",
       "    if (el != null) {\n",
       "      el.textContent = \"BokehJS is loading...\";\n",
       "    }\n",
       "    if (root.Bokeh !== undefined) {\n",
       "      if (el != null) {\n",
       "        el.textContent = \"BokehJS \" + root.Bokeh.version + \" successfully loaded.\";\n",
       "      }\n",
       "    } else if (Date.now() < root._bokeh_timeout) {\n",
       "      setTimeout(display_loaded, 100)\n",
       "    }\n",
       "  }\n",
       "\n",
       "\n",
       "  function run_callbacks() {\n",
       "    try {\n",
       "      root._bokeh_onload_callbacks.forEach(function(callback) {\n",
       "        if (callback != null)\n",
       "          callback();\n",
       "      });\n",
       "    } finally {\n",
       "      delete root._bokeh_onload_callbacks\n",
       "    }\n",
       "    console.debug(\"Bokeh: all callbacks have finished\");\n",
       "  }\n",
       "\n",
       "  function load_libs(css_urls, js_urls, callback) {\n",
       "    if (css_urls == null) css_urls = [];\n",
       "    if (js_urls == null) js_urls = [];\n",
       "\n",
       "    root._bokeh_onload_callbacks.push(callback);\n",
       "    if (root._bokeh_is_loading > 0) {\n",
       "      console.debug(\"Bokeh: BokehJS is being loaded, scheduling callback at\", now());\n",
       "      return null;\n",
       "    }\n",
       "    if (js_urls == null || js_urls.length === 0) {\n",
       "      run_callbacks();\n",
       "      return null;\n",
       "    }\n",
       "    console.debug(\"Bokeh: BokehJS not loaded, scheduling load and callback at\", now());\n",
       "    root._bokeh_is_loading = css_urls.length + js_urls.length;\n",
       "\n",
       "    function on_load() {\n",
       "      root._bokeh_is_loading--;\n",
       "      if (root._bokeh_is_loading === 0) {\n",
       "        console.debug(\"Bokeh: all BokehJS libraries/stylesheets loaded\");\n",
       "        run_callbacks()\n",
       "      }\n",
       "    }\n",
       "\n",
       "    function on_error() {\n",
       "      console.error(\"failed to load \" + url);\n",
       "    }\n",
       "\n",
       "    for (var i = 0; i < css_urls.length; i++) {\n",
       "      var url = css_urls[i];\n",
       "      const element = document.createElement(\"link\");\n",
       "      element.onload = on_load;\n",
       "      element.onerror = on_error;\n",
       "      element.rel = \"stylesheet\";\n",
       "      element.type = \"text/css\";\n",
       "      element.href = url;\n",
       "      console.debug(\"Bokeh: injecting link tag for BokehJS stylesheet: \", url);\n",
       "      document.body.appendChild(element);\n",
       "    }\n",
       "\n",
       "    const hashes = {\"https://cdn.bokeh.org/bokeh/release/bokeh-2.0.2.min.js\": \"ufR9RFnRs6lniiaFvtJziE0YeidtAgBRH6ux2oUItHw5WTvE1zuk9uzhUU/FJXDp\", \"https://cdn.bokeh.org/bokeh/release/bokeh-widgets-2.0.2.min.js\": \"8QM/PGWBT+IssZuRcDcjzwIh1mkOmJSoNMmyYDZbCfXJg3Ap1lEvdVgFuSAwhb/J\", \"https://cdn.bokeh.org/bokeh/release/bokeh-tables-2.0.2.min.js\": \"Jm8cH3Rg0P6UeZhVY5cLy1WzKajUT9KImCY+76hEqrcJt59/d8GPvFHjCkYgnSIn\", \"https://cdn.bokeh.org/bokeh/release/bokeh-gl-2.0.2.min.js\": \"Ozhzj+SI7ywm74aOI/UajcWz+C0NjsPunEVyVIrxzYkB+jA+2tUw8x5xJCbVtK5I\"};\n",
       "\n",
       "    for (var i = 0; i < js_urls.length; i++) {\n",
       "      var url = js_urls[i];\n",
       "      var element = document.createElement('script');\n",
       "      element.onload = on_load;\n",
       "      element.onerror = on_error;\n",
       "      element.async = false;\n",
       "      element.src = url;\n",
       "      if (url in hashes) {\n",
       "        element.crossOrigin = \"anonymous\";\n",
       "        element.integrity = \"sha384-\" + hashes[url];\n",
       "      }\n",
       "      console.debug(\"Bokeh: injecting script tag for BokehJS library: \", url);\n",
       "      document.head.appendChild(element);\n",
       "    }\n",
       "  };\n",
       "\n",
       "  function inject_raw_css(css) {\n",
       "    const element = document.createElement(\"style\");\n",
       "    element.appendChild(document.createTextNode(css));\n",
       "    document.body.appendChild(element);\n",
       "  }\n",
       "\n",
       "  \n",
       "  var js_urls = [\"https://cdn.bokeh.org/bokeh/release/bokeh-2.0.2.min.js\", \"https://cdn.bokeh.org/bokeh/release/bokeh-widgets-2.0.2.min.js\", \"https://cdn.bokeh.org/bokeh/release/bokeh-tables-2.0.2.min.js\", \"https://cdn.bokeh.org/bokeh/release/bokeh-gl-2.0.2.min.js\"];\n",
       "  var css_urls = [];\n",
       "  \n",
       "\n",
       "  var inline_js = [\n",
       "    function(Bokeh) {\n",
       "      Bokeh.set_log_level(\"info\");\n",
       "    },\n",
       "    function(Bokeh) {\n",
       "    \n",
       "    \n",
       "    }\n",
       "  ];\n",
       "\n",
       "  function run_inline_js() {\n",
       "    \n",
       "    if (root.Bokeh !== undefined || force === true) {\n",
       "      \n",
       "    for (var i = 0; i < inline_js.length; i++) {\n",
       "      inline_js[i].call(root, root.Bokeh);\n",
       "    }\n",
       "    if (force === true) {\n",
       "        display_loaded();\n",
       "      }} else if (Date.now() < root._bokeh_timeout) {\n",
       "      setTimeout(run_inline_js, 100);\n",
       "    } else if (!root._bokeh_failed_load) {\n",
       "      console.log(\"Bokeh: BokehJS failed to load within specified timeout.\");\n",
       "      root._bokeh_failed_load = true;\n",
       "    } else if (force !== true) {\n",
       "      var cell = $(document.getElementById(\"1001\")).parents('.cell').data().cell;\n",
       "      cell.output_area.append_execute_result(NB_LOAD_WARNING)\n",
       "    }\n",
       "\n",
       "  }\n",
       "\n",
       "  if (root._bokeh_is_loading === 0) {\n",
       "    console.debug(\"Bokeh: BokehJS loaded, going straight to plotting\");\n",
       "    run_inline_js();\n",
       "  } else {\n",
       "    load_libs(css_urls, js_urls, function() {\n",
       "      console.debug(\"Bokeh: BokehJS plotting callback run at\", now());\n",
       "      run_inline_js();\n",
       "    });\n",
       "  }\n",
       "}(window));"
      ],
      "application/vnd.bokehjs_load.v0+json": "\n(function(root) {\n  function now() {\n    return new Date();\n  }\n\n  var force = true;\n\n  if (typeof root._bokeh_onload_callbacks === \"undefined\" || force === true) {\n    root._bokeh_onload_callbacks = [];\n    root._bokeh_is_loading = undefined;\n  }\n\n  \n\n  \n  if (typeof (root._bokeh_timeout) === \"undefined\" || force === true) {\n    root._bokeh_timeout = Date.now() + 5000;\n    root._bokeh_failed_load = false;\n  }\n\n  var NB_LOAD_WARNING = {'data': {'text/html':\n     \"<div style='background-color: #fdd'>\\n\"+\n     \"<p>\\n\"+\n     \"BokehJS does not appear to have successfully loaded. If loading BokehJS from CDN, this \\n\"+\n     \"may be due to a slow or bad network connection. Possible fixes:\\n\"+\n     \"</p>\\n\"+\n     \"<ul>\\n\"+\n     \"<li>re-rerun `output_notebook()` to attempt to load from CDN again, or</li>\\n\"+\n     \"<li>use INLINE resources instead, as so:</li>\\n\"+\n     \"</ul>\\n\"+\n     \"<code>\\n\"+\n     \"from bokeh.resources import INLINE\\n\"+\n     \"output_notebook(resources=INLINE)\\n\"+\n     \"</code>\\n\"+\n     \"</div>\"}};\n\n  function display_loaded() {\n    var el = document.getElementById(\"1001\");\n    if (el != null) {\n      el.textContent = \"BokehJS is loading...\";\n    }\n    if (root.Bokeh !== undefined) {\n      if (el != null) {\n        el.textContent = \"BokehJS \" + root.Bokeh.version + \" successfully loaded.\";\n      }\n    } else if (Date.now() < root._bokeh_timeout) {\n      setTimeout(display_loaded, 100)\n    }\n  }\n\n\n  function run_callbacks() {\n    try {\n      root._bokeh_onload_callbacks.forEach(function(callback) {\n        if (callback != null)\n          callback();\n      });\n    } finally {\n      delete root._bokeh_onload_callbacks\n    }\n    console.debug(\"Bokeh: all callbacks have finished\");\n  }\n\n  function load_libs(css_urls, js_urls, callback) {\n    if (css_urls == null) css_urls = [];\n    if (js_urls == null) js_urls = [];\n\n    root._bokeh_onload_callbacks.push(callback);\n    if (root._bokeh_is_loading > 0) {\n      console.debug(\"Bokeh: BokehJS is being loaded, scheduling callback at\", now());\n      return null;\n    }\n    if (js_urls == null || js_urls.length === 0) {\n      run_callbacks();\n      return null;\n    }\n    console.debug(\"Bokeh: BokehJS not loaded, scheduling load and callback at\", now());\n    root._bokeh_is_loading = css_urls.length + js_urls.length;\n\n    function on_load() {\n      root._bokeh_is_loading--;\n      if (root._bokeh_is_loading === 0) {\n        console.debug(\"Bokeh: all BokehJS libraries/stylesheets loaded\");\n        run_callbacks()\n      }\n    }\n\n    function on_error() {\n      console.error(\"failed to load \" + url);\n    }\n\n    for (var i = 0; i < css_urls.length; i++) {\n      var url = css_urls[i];\n      const element = document.createElement(\"link\");\n      element.onload = on_load;\n      element.onerror = on_error;\n      element.rel = \"stylesheet\";\n      element.type = \"text/css\";\n      element.href = url;\n      console.debug(\"Bokeh: injecting link tag for BokehJS stylesheet: \", url);\n      document.body.appendChild(element);\n    }\n\n    const hashes = {\"https://cdn.bokeh.org/bokeh/release/bokeh-2.0.2.min.js\": \"ufR9RFnRs6lniiaFvtJziE0YeidtAgBRH6ux2oUItHw5WTvE1zuk9uzhUU/FJXDp\", \"https://cdn.bokeh.org/bokeh/release/bokeh-widgets-2.0.2.min.js\": \"8QM/PGWBT+IssZuRcDcjzwIh1mkOmJSoNMmyYDZbCfXJg3Ap1lEvdVgFuSAwhb/J\", \"https://cdn.bokeh.org/bokeh/release/bokeh-tables-2.0.2.min.js\": \"Jm8cH3Rg0P6UeZhVY5cLy1WzKajUT9KImCY+76hEqrcJt59/d8GPvFHjCkYgnSIn\", \"https://cdn.bokeh.org/bokeh/release/bokeh-gl-2.0.2.min.js\": \"Ozhzj+SI7ywm74aOI/UajcWz+C0NjsPunEVyVIrxzYkB+jA+2tUw8x5xJCbVtK5I\"};\n\n    for (var i = 0; i < js_urls.length; i++) {\n      var url = js_urls[i];\n      var element = document.createElement('script');\n      element.onload = on_load;\n      element.onerror = on_error;\n      element.async = false;\n      element.src = url;\n      if (url in hashes) {\n        element.crossOrigin = \"anonymous\";\n        element.integrity = \"sha384-\" + hashes[url];\n      }\n      console.debug(\"Bokeh: injecting script tag for BokehJS library: \", url);\n      document.head.appendChild(element);\n    }\n  };\n\n  function inject_raw_css(css) {\n    const element = document.createElement(\"style\");\n    element.appendChild(document.createTextNode(css));\n    document.body.appendChild(element);\n  }\n\n  \n  var js_urls = [\"https://cdn.bokeh.org/bokeh/release/bokeh-2.0.2.min.js\", \"https://cdn.bokeh.org/bokeh/release/bokeh-widgets-2.0.2.min.js\", \"https://cdn.bokeh.org/bokeh/release/bokeh-tables-2.0.2.min.js\", \"https://cdn.bokeh.org/bokeh/release/bokeh-gl-2.0.2.min.js\"];\n  var css_urls = [];\n  \n\n  var inline_js = [\n    function(Bokeh) {\n      Bokeh.set_log_level(\"info\");\n    },\n    function(Bokeh) {\n    \n    \n    }\n  ];\n\n  function run_inline_js() {\n    \n    if (root.Bokeh !== undefined || force === true) {\n      \n    for (var i = 0; i < inline_js.length; i++) {\n      inline_js[i].call(root, root.Bokeh);\n    }\n    if (force === true) {\n        display_loaded();\n      }} else if (Date.now() < root._bokeh_timeout) {\n      setTimeout(run_inline_js, 100);\n    } else if (!root._bokeh_failed_load) {\n      console.log(\"Bokeh: BokehJS failed to load within specified timeout.\");\n      root._bokeh_failed_load = true;\n    } else if (force !== true) {\n      var cell = $(document.getElementById(\"1001\")).parents('.cell').data().cell;\n      cell.output_area.append_execute_result(NB_LOAD_WARNING)\n    }\n\n  }\n\n  if (root._bokeh_is_loading === 0) {\n    console.debug(\"Bokeh: BokehJS loaded, going straight to plotting\");\n    run_inline_js();\n  } else {\n    load_libs(css_urls, js_urls, function() {\n      console.debug(\"Bokeh: BokehJS plotting callback run at\", now());\n      run_inline_js();\n    });\n  }\n}(window));"
     },
     "metadata": {},
     "output_type": "display_data"
    }
   ],
   "source": [
    "import numpy as np\n",
    "\n",
    "import pandas as pd\n",
    "\n",
    "from math import pi\n",
    "\n",
    "from bokeh.plotting import figure, output_file, show, output_notebook, gridplot\n",
    "from bokeh.models import DatetimeTickFormatter, BasicTickFormatter, NumeralTickFormatter\n",
    "from bokeh.models import HoverTool\n",
    "from bokeh.layouts import row\n",
    "\n",
    "output_notebook()"
   ]
  },
  {
   "cell_type": "code",
   "execution_count": 2,
   "metadata": {},
   "outputs": [],
   "source": [
    "def datetime(x):\n",
    "    return np.array(x, dtype=np.datetime64)"
   ]
  },
  {
   "cell_type": "markdown",
   "metadata": {},
   "source": [
    "### ----- Plot function N lines -----"
   ]
  },
  {
   "cell_type": "code",
   "execution_count": 3,
   "metadata": {},
   "outputs": [],
   "source": [
    "def bokeh_plot_N_lines(x, y_list, title, dim, x_label, y_label, legend_list, x_label_hover, y_label_hover, color_list, legend_location):\n",
    "    \n",
    "#     output_file(file_name)\n",
    "    \n",
    "    p = figure(title=title, x_axis_type='datetime', x_axis_label=x_label, y_axis_label=y_label, width=dim[0], height=dim[1])\n",
    "    \n",
    "    for iii in range(0,len(y_list)):\n",
    "        p.line(x, y_list[iii], color=color_list[iii], line_width=4, legend_label=legend_list[iii])\n",
    "        p.circle(x, y_list[iii], fill_color=\"white\", line_color=color_list[iii], size=5)\n",
    "        \n",
    "    \n",
    "    p.xaxis.formatter=DatetimeTickFormatter(\n",
    "#         hours=[\"%d %B %Y\"],\n",
    "#         days=[\"%Y %m %d\"],\n",
    "    days=[\"%d %B\"],\n",
    "#         months=[\"%d %B %Y\"],\n",
    "#         years=[\"%d %B %Y\"],\n",
    "    )\n",
    "    p.xaxis.major_label_orientation = pi/4\n",
    "  \n",
    "    p.yaxis.formatter = BasicTickFormatter(use_scientific=False)\n",
    "#     p.left[0].formatter.use_scientific = False\n",
    "#     p.yaxis.formatter = NumeralTickFormatter(format = '0,0')\n",
    "    p.yaxis.formatter.use_scientific = False\n",
    "    \n",
    "    p.axis.minor_tick_in = -5\n",
    "    p.axis.minor_tick_out = -3\n",
    "    \n",
    "    p.legend.location = legend_location\n",
    "    \n",
    "    p.add_tools(HoverTool(\n",
    "    tooltips=[\n",
    "        ( x_label_hover,   '@x{%d %B}' ),\n",
    "        ( y_label_hover, '@y{0[.]000}' ),\n",
    "#         ( 'label yy', '@yy' ),\n",
    "    ],\n",
    "\n",
    "    formatters={\n",
    "           '@x'  : 'datetime', # use 'datetime' formatter for 'date' field\n",
    "#            '@y'  : 'printf',   # use 'printf' formatter for 'adj close' field\n",
    "#            '@y'  : 'numeral',   # use 'printf' formatter for 'adj close' field\n",
    "                                  # use default 'numeral' formatter for other fields\n",
    "    },\n",
    "\n",
    "    # display a tooltip whenever the cursor is vertically in line with a glyph\n",
    "    mode='vline'\n",
    "    ))\n",
    "    \n",
    "    return p  \n",
    "#     show(p)"
   ]
  },
  {
   "cell_type": "markdown",
   "metadata": {},
   "source": [
    "-----------------\n",
    "\n",
    "## Data Sources"
   ]
  },
  {
   "cell_type": "markdown",
   "metadata": {},
   "source": [
    "We importe the CSV files directly from the official GitHub source of the Protezione Civile:"
   ]
  },
  {
   "cell_type": "code",
   "execution_count": 4,
   "metadata": {},
   "outputs": [],
   "source": [
    "data_links = {'nazionale':'https://raw.githubusercontent.com/pcm-dpc/COVID-19/master/dati-andamento-nazionale/dpc-covid19-ita-andamento-nazionale.csv',\\\n",
    "              'regioni':'https://raw.githubusercontent.com/pcm-dpc/COVID-19/master/dati-regioni/dpc-covid19-ita-regioni.csv',\\\n",
    "              'province':'https://raw.githubusercontent.com/pcm-dpc/COVID-19/master/dati-province/dpc-covid19-ita-province.csv'}"
   ]
  },
  {
   "cell_type": "markdown",
   "metadata": {},
   "source": [
    "-----------------\n",
    "\n",
    "## Regional Trends"
   ]
  },
  {
   "cell_type": "code",
   "execution_count": 5,
   "metadata": {},
   "outputs": [
    {
     "name": "stdout",
     "output_type": "stream",
     "text": [
      "The path to the Raw CSV file for the regions data is : \n",
      " https://raw.githubusercontent.com/pcm-dpc/COVID-19/master/dati-regioni/dpc-covid19-ita-regioni.csv\n"
     ]
    },
    {
     "data": {
      "text/html": [
       "<div>\n",
       "<style scoped>\n",
       "    .dataframe tbody tr th:only-of-type {\n",
       "        vertical-align: middle;\n",
       "    }\n",
       "\n",
       "    .dataframe tbody tr th {\n",
       "        vertical-align: top;\n",
       "    }\n",
       "\n",
       "    .dataframe thead th {\n",
       "        text-align: right;\n",
       "    }\n",
       "</style>\n",
       "<table border=\"1\" class=\"dataframe\">\n",
       "  <thead>\n",
       "    <tr style=\"text-align: right;\">\n",
       "      <th></th>\n",
       "      <th>data</th>\n",
       "      <th>stato</th>\n",
       "      <th>codice_regione</th>\n",
       "      <th>denominazione_regione</th>\n",
       "      <th>lat</th>\n",
       "      <th>long</th>\n",
       "      <th>ricoverati_con_sintomi</th>\n",
       "      <th>terapia_intensiva</th>\n",
       "      <th>totale_ospedalizzati</th>\n",
       "      <th>isolamento_domiciliare</th>\n",
       "      <th>...</th>\n",
       "      <th>variazione_totale_positivi</th>\n",
       "      <th>nuovi_positivi</th>\n",
       "      <th>dimessi_guariti</th>\n",
       "      <th>deceduti</th>\n",
       "      <th>casi_da_sospetto_diagnostico</th>\n",
       "      <th>casi_da_screening</th>\n",
       "      <th>totale_casi</th>\n",
       "      <th>tamponi</th>\n",
       "      <th>casi_testati</th>\n",
       "      <th>note</th>\n",
       "    </tr>\n",
       "  </thead>\n",
       "  <tbody>\n",
       "    <tr>\n",
       "      <th>0</th>\n",
       "      <td>2020-02-24T18:00:00</td>\n",
       "      <td>ITA</td>\n",
       "      <td>13</td>\n",
       "      <td>Abruzzo</td>\n",
       "      <td>42.351222</td>\n",
       "      <td>13.398438</td>\n",
       "      <td>0</td>\n",
       "      <td>0</td>\n",
       "      <td>0</td>\n",
       "      <td>0</td>\n",
       "      <td>...</td>\n",
       "      <td>0</td>\n",
       "      <td>0</td>\n",
       "      <td>0</td>\n",
       "      <td>0</td>\n",
       "      <td>NaN</td>\n",
       "      <td>NaN</td>\n",
       "      <td>0</td>\n",
       "      <td>5</td>\n",
       "      <td>NaN</td>\n",
       "      <td>NaN</td>\n",
       "    </tr>\n",
       "    <tr>\n",
       "      <th>1</th>\n",
       "      <td>2020-02-24T18:00:00</td>\n",
       "      <td>ITA</td>\n",
       "      <td>17</td>\n",
       "      <td>Basilicata</td>\n",
       "      <td>40.639471</td>\n",
       "      <td>15.805148</td>\n",
       "      <td>0</td>\n",
       "      <td>0</td>\n",
       "      <td>0</td>\n",
       "      <td>0</td>\n",
       "      <td>...</td>\n",
       "      <td>0</td>\n",
       "      <td>0</td>\n",
       "      <td>0</td>\n",
       "      <td>0</td>\n",
       "      <td>NaN</td>\n",
       "      <td>NaN</td>\n",
       "      <td>0</td>\n",
       "      <td>0</td>\n",
       "      <td>NaN</td>\n",
       "      <td>NaN</td>\n",
       "    </tr>\n",
       "    <tr>\n",
       "      <th>2</th>\n",
       "      <td>2020-02-24T18:00:00</td>\n",
       "      <td>ITA</td>\n",
       "      <td>18</td>\n",
       "      <td>Calabria</td>\n",
       "      <td>38.905976</td>\n",
       "      <td>16.594402</td>\n",
       "      <td>0</td>\n",
       "      <td>0</td>\n",
       "      <td>0</td>\n",
       "      <td>0</td>\n",
       "      <td>...</td>\n",
       "      <td>0</td>\n",
       "      <td>0</td>\n",
       "      <td>0</td>\n",
       "      <td>0</td>\n",
       "      <td>NaN</td>\n",
       "      <td>NaN</td>\n",
       "      <td>0</td>\n",
       "      <td>1</td>\n",
       "      <td>NaN</td>\n",
       "      <td>NaN</td>\n",
       "    </tr>\n",
       "    <tr>\n",
       "      <th>3</th>\n",
       "      <td>2020-02-24T18:00:00</td>\n",
       "      <td>ITA</td>\n",
       "      <td>15</td>\n",
       "      <td>Campania</td>\n",
       "      <td>40.839566</td>\n",
       "      <td>14.250850</td>\n",
       "      <td>0</td>\n",
       "      <td>0</td>\n",
       "      <td>0</td>\n",
       "      <td>0</td>\n",
       "      <td>...</td>\n",
       "      <td>0</td>\n",
       "      <td>0</td>\n",
       "      <td>0</td>\n",
       "      <td>0</td>\n",
       "      <td>NaN</td>\n",
       "      <td>NaN</td>\n",
       "      <td>0</td>\n",
       "      <td>10</td>\n",
       "      <td>NaN</td>\n",
       "      <td>NaN</td>\n",
       "    </tr>\n",
       "    <tr>\n",
       "      <th>4</th>\n",
       "      <td>2020-02-24T18:00:00</td>\n",
       "      <td>ITA</td>\n",
       "      <td>8</td>\n",
       "      <td>Emilia-Romagna</td>\n",
       "      <td>44.494367</td>\n",
       "      <td>11.341721</td>\n",
       "      <td>10</td>\n",
       "      <td>2</td>\n",
       "      <td>12</td>\n",
       "      <td>6</td>\n",
       "      <td>...</td>\n",
       "      <td>0</td>\n",
       "      <td>18</td>\n",
       "      <td>0</td>\n",
       "      <td>0</td>\n",
       "      <td>NaN</td>\n",
       "      <td>NaN</td>\n",
       "      <td>18</td>\n",
       "      <td>148</td>\n",
       "      <td>NaN</td>\n",
       "      <td>NaN</td>\n",
       "    </tr>\n",
       "  </tbody>\n",
       "</table>\n",
       "<p>5 rows × 21 columns</p>\n",
       "</div>"
      ],
      "text/plain": [
       "                  data stato  codice_regione denominazione_regione        lat  \\\n",
       "0  2020-02-24T18:00:00   ITA              13               Abruzzo  42.351222   \n",
       "1  2020-02-24T18:00:00   ITA              17            Basilicata  40.639471   \n",
       "2  2020-02-24T18:00:00   ITA              18              Calabria  38.905976   \n",
       "3  2020-02-24T18:00:00   ITA              15              Campania  40.839566   \n",
       "4  2020-02-24T18:00:00   ITA               8        Emilia-Romagna  44.494367   \n",
       "\n",
       "        long  ricoverati_con_sintomi  terapia_intensiva  totale_ospedalizzati  \\\n",
       "0  13.398438                       0                  0                     0   \n",
       "1  15.805148                       0                  0                     0   \n",
       "2  16.594402                       0                  0                     0   \n",
       "3  14.250850                       0                  0                     0   \n",
       "4  11.341721                      10                  2                    12   \n",
       "\n",
       "   isolamento_domiciliare  ...  variazione_totale_positivi  nuovi_positivi  \\\n",
       "0                       0  ...                           0               0   \n",
       "1                       0  ...                           0               0   \n",
       "2                       0  ...                           0               0   \n",
       "3                       0  ...                           0               0   \n",
       "4                       6  ...                           0              18   \n",
       "\n",
       "   dimessi_guariti  deceduti  casi_da_sospetto_diagnostico  casi_da_screening  \\\n",
       "0                0         0                           NaN                NaN   \n",
       "1                0         0                           NaN                NaN   \n",
       "2                0         0                           NaN                NaN   \n",
       "3                0         0                           NaN                NaN   \n",
       "4                0         0                           NaN                NaN   \n",
       "\n",
       "   totale_casi  tamponi  casi_testati  note  \n",
       "0            0        5           NaN   NaN  \n",
       "1            0        0           NaN   NaN  \n",
       "2            0        1           NaN   NaN  \n",
       "3            0       10           NaN   NaN  \n",
       "4           18      148           NaN   NaN  \n",
       "\n",
       "[5 rows x 21 columns]"
      ]
     },
     "execution_count": 5,
     "metadata": {},
     "output_type": "execute_result"
    }
   ],
   "source": [
    "path_regioni = data_links['regioni']\n",
    "print('The path to the Raw CSV file for the regions data is : \\n', path_regioni)\n",
    "df_regioni = pd.read_csv(path_regioni)\n",
    "df_regioni.head()"
   ]
  },
  {
   "cell_type": "code",
   "execution_count": 6,
   "metadata": {},
   "outputs": [
    {
     "data": {
      "text/plain": [
       "(4347, 21)"
      ]
     },
     "execution_count": 6,
     "metadata": {},
     "output_type": "execute_result"
    }
   ],
   "source": [
    "df_regioni.shape"
   ]
  },
  {
   "cell_type": "markdown",
   "metadata": {},
   "source": [
    "-----------------\n",
    "\n",
    "## Friuli Trends"
   ]
  },
  {
   "cell_type": "code",
   "execution_count": 7,
   "metadata": {
    "scrolled": true
   },
   "outputs": [
    {
     "data": {
      "text/html": [
       "<div>\n",
       "<style scoped>\n",
       "    .dataframe tbody tr th:only-of-type {\n",
       "        vertical-align: middle;\n",
       "    }\n",
       "\n",
       "    .dataframe tbody tr th {\n",
       "        vertical-align: top;\n",
       "    }\n",
       "\n",
       "    .dataframe thead th {\n",
       "        text-align: right;\n",
       "    }\n",
       "</style>\n",
       "<table border=\"1\" class=\"dataframe\">\n",
       "  <thead>\n",
       "    <tr style=\"text-align: right;\">\n",
       "      <th></th>\n",
       "      <th>data</th>\n",
       "      <th>stato</th>\n",
       "      <th>codice_regione</th>\n",
       "      <th>denominazione_regione</th>\n",
       "      <th>lat</th>\n",
       "      <th>long</th>\n",
       "      <th>ricoverati_con_sintomi</th>\n",
       "      <th>terapia_intensiva</th>\n",
       "      <th>totale_ospedalizzati</th>\n",
       "      <th>isolamento_domiciliare</th>\n",
       "      <th>...</th>\n",
       "      <th>variazione_totale_positivi</th>\n",
       "      <th>nuovi_positivi</th>\n",
       "      <th>dimessi_guariti</th>\n",
       "      <th>deceduti</th>\n",
       "      <th>casi_da_sospetto_diagnostico</th>\n",
       "      <th>casi_da_screening</th>\n",
       "      <th>totale_casi</th>\n",
       "      <th>tamponi</th>\n",
       "      <th>casi_testati</th>\n",
       "      <th>note</th>\n",
       "    </tr>\n",
       "  </thead>\n",
       "  <tbody>\n",
       "    <tr>\n",
       "      <th>5</th>\n",
       "      <td>2020-02-24T18:00:00</td>\n",
       "      <td>ITA</td>\n",
       "      <td>6</td>\n",
       "      <td>Friuli Venezia Giulia</td>\n",
       "      <td>45.649435</td>\n",
       "      <td>13.768136</td>\n",
       "      <td>0</td>\n",
       "      <td>0</td>\n",
       "      <td>0</td>\n",
       "      <td>0</td>\n",
       "      <td>...</td>\n",
       "      <td>0</td>\n",
       "      <td>0</td>\n",
       "      <td>0</td>\n",
       "      <td>0</td>\n",
       "      <td>NaN</td>\n",
       "      <td>NaN</td>\n",
       "      <td>0</td>\n",
       "      <td>58</td>\n",
       "      <td>NaN</td>\n",
       "      <td>NaN</td>\n",
       "    </tr>\n",
       "    <tr>\n",
       "      <th>26</th>\n",
       "      <td>2020-02-25T18:00:00</td>\n",
       "      <td>ITA</td>\n",
       "      <td>6</td>\n",
       "      <td>Friuli Venezia Giulia</td>\n",
       "      <td>45.649435</td>\n",
       "      <td>13.768136</td>\n",
       "      <td>0</td>\n",
       "      <td>0</td>\n",
       "      <td>0</td>\n",
       "      <td>0</td>\n",
       "      <td>...</td>\n",
       "      <td>0</td>\n",
       "      <td>0</td>\n",
       "      <td>0</td>\n",
       "      <td>0</td>\n",
       "      <td>NaN</td>\n",
       "      <td>NaN</td>\n",
       "      <td>0</td>\n",
       "      <td>89</td>\n",
       "      <td>NaN</td>\n",
       "      <td>NaN</td>\n",
       "    </tr>\n",
       "    <tr>\n",
       "      <th>47</th>\n",
       "      <td>2020-02-26T18:00:00</td>\n",
       "      <td>ITA</td>\n",
       "      <td>6</td>\n",
       "      <td>Friuli Venezia Giulia</td>\n",
       "      <td>45.649435</td>\n",
       "      <td>13.768136</td>\n",
       "      <td>0</td>\n",
       "      <td>0</td>\n",
       "      <td>0</td>\n",
       "      <td>0</td>\n",
       "      <td>...</td>\n",
       "      <td>0</td>\n",
       "      <td>0</td>\n",
       "      <td>0</td>\n",
       "      <td>0</td>\n",
       "      <td>NaN</td>\n",
       "      <td>NaN</td>\n",
       "      <td>0</td>\n",
       "      <td>114</td>\n",
       "      <td>NaN</td>\n",
       "      <td>NaN</td>\n",
       "    </tr>\n",
       "    <tr>\n",
       "      <th>68</th>\n",
       "      <td>2020-02-27T18:00:00</td>\n",
       "      <td>ITA</td>\n",
       "      <td>6</td>\n",
       "      <td>Friuli Venezia Giulia</td>\n",
       "      <td>45.649435</td>\n",
       "      <td>13.768136</td>\n",
       "      <td>0</td>\n",
       "      <td>0</td>\n",
       "      <td>0</td>\n",
       "      <td>0</td>\n",
       "      <td>...</td>\n",
       "      <td>0</td>\n",
       "      <td>0</td>\n",
       "      <td>0</td>\n",
       "      <td>0</td>\n",
       "      <td>NaN</td>\n",
       "      <td>NaN</td>\n",
       "      <td>0</td>\n",
       "      <td>141</td>\n",
       "      <td>NaN</td>\n",
       "      <td>NaN</td>\n",
       "    </tr>\n",
       "    <tr>\n",
       "      <th>89</th>\n",
       "      <td>2020-02-28T18:00:00</td>\n",
       "      <td>ITA</td>\n",
       "      <td>6</td>\n",
       "      <td>Friuli Venezia Giulia</td>\n",
       "      <td>45.649435</td>\n",
       "      <td>13.768136</td>\n",
       "      <td>0</td>\n",
       "      <td>0</td>\n",
       "      <td>0</td>\n",
       "      <td>0</td>\n",
       "      <td>...</td>\n",
       "      <td>0</td>\n",
       "      <td>0</td>\n",
       "      <td>0</td>\n",
       "      <td>0</td>\n",
       "      <td>NaN</td>\n",
       "      <td>NaN</td>\n",
       "      <td>0</td>\n",
       "      <td>169</td>\n",
       "      <td>NaN</td>\n",
       "      <td>NaN</td>\n",
       "    </tr>\n",
       "  </tbody>\n",
       "</table>\n",
       "<p>5 rows × 21 columns</p>\n",
       "</div>"
      ],
      "text/plain": [
       "                   data stato  codice_regione  denominazione_regione  \\\n",
       "5   2020-02-24T18:00:00   ITA               6  Friuli Venezia Giulia   \n",
       "26  2020-02-25T18:00:00   ITA               6  Friuli Venezia Giulia   \n",
       "47  2020-02-26T18:00:00   ITA               6  Friuli Venezia Giulia   \n",
       "68  2020-02-27T18:00:00   ITA               6  Friuli Venezia Giulia   \n",
       "89  2020-02-28T18:00:00   ITA               6  Friuli Venezia Giulia   \n",
       "\n",
       "          lat       long  ricoverati_con_sintomi  terapia_intensiva  \\\n",
       "5   45.649435  13.768136                       0                  0   \n",
       "26  45.649435  13.768136                       0                  0   \n",
       "47  45.649435  13.768136                       0                  0   \n",
       "68  45.649435  13.768136                       0                  0   \n",
       "89  45.649435  13.768136                       0                  0   \n",
       "\n",
       "    totale_ospedalizzati  isolamento_domiciliare  ...  \\\n",
       "5                      0                       0  ...   \n",
       "26                     0                       0  ...   \n",
       "47                     0                       0  ...   \n",
       "68                     0                       0  ...   \n",
       "89                     0                       0  ...   \n",
       "\n",
       "    variazione_totale_positivi  nuovi_positivi  dimessi_guariti  deceduti  \\\n",
       "5                            0               0                0         0   \n",
       "26                           0               0                0         0   \n",
       "47                           0               0                0         0   \n",
       "68                           0               0                0         0   \n",
       "89                           0               0                0         0   \n",
       "\n",
       "    casi_da_sospetto_diagnostico  casi_da_screening  totale_casi  tamponi  \\\n",
       "5                            NaN                NaN            0       58   \n",
       "26                           NaN                NaN            0       89   \n",
       "47                           NaN                NaN            0      114   \n",
       "68                           NaN                NaN            0      141   \n",
       "89                           NaN                NaN            0      169   \n",
       "\n",
       "    casi_testati  note  \n",
       "5            NaN   NaN  \n",
       "26           NaN   NaN  \n",
       "47           NaN   NaN  \n",
       "68           NaN   NaN  \n",
       "89           NaN   NaN  \n",
       "\n",
       "[5 rows x 21 columns]"
      ]
     },
     "execution_count": 7,
     "metadata": {},
     "output_type": "execute_result"
    }
   ],
   "source": [
    "df_Friuli = df_regioni[df_regioni['denominazione_regione']=='Friuli Venezia Giulia']\n",
    "df_Friuli.head()"
   ]
  },
  {
   "cell_type": "code",
   "execution_count": 8,
   "metadata": {},
   "outputs": [
    {
     "data": {
      "text/plain": [
       "(207, 21)"
      ]
     },
     "execution_count": 8,
     "metadata": {},
     "output_type": "execute_result"
    }
   ],
   "source": [
    "df_Friuli.shape"
   ]
  },
  {
   "cell_type": "markdown",
   "metadata": {},
   "source": [
    "------------\n",
    "\n",
    "### Date Formatting"
   ]
  },
  {
   "cell_type": "code",
   "execution_count": 9,
   "metadata": {},
   "outputs": [
    {
     "data": {
      "text/plain": [
       "5     2020-02-24T18:00:00\n",
       "26    2020-02-25T18:00:00\n",
       "47    2020-02-26T18:00:00\n",
       "68    2020-02-27T18:00:00\n",
       "89    2020-02-28T18:00:00\n",
       "Name: data, dtype: object"
      ]
     },
     "execution_count": 9,
     "metadata": {},
     "output_type": "execute_result"
    }
   ],
   "source": [
    "time_date = df_Friuli['data']\n",
    "time_date.head()"
   ]
  },
  {
   "cell_type": "code",
   "execution_count": 10,
   "metadata": {},
   "outputs": [
    {
     "data": {
      "text/plain": [
       "5     2020-02-24\n",
       "26    2020-02-25\n",
       "47    2020-02-26\n",
       "68    2020-02-27\n",
       "89    2020-02-28\n",
       "Name: data, dtype: object"
      ]
     },
     "execution_count": 10,
     "metadata": {},
     "output_type": "execute_result"
    }
   ],
   "source": [
    "time_date_new = pd.to_datetime(time_date).dt.date\n",
    "time_date_new.head()"
   ]
  },
  {
   "cell_type": "code",
   "execution_count": 11,
   "metadata": {},
   "outputs": [
    {
     "data": {
      "text/plain": [
       "datetime.date(2020, 2, 24)"
      ]
     },
     "execution_count": 11,
     "metadata": {},
     "output_type": "execute_result"
    }
   ],
   "source": [
    "time_date_new.iloc[0]"
   ]
  },
  {
   "cell_type": "code",
   "execution_count": 12,
   "metadata": {},
   "outputs": [],
   "source": [
    "# time_date_new = datetime(time_date_new.iloc[0:7])\n",
    "# time_date_new"
   ]
  },
  {
   "cell_type": "markdown",
   "metadata": {},
   "source": [
    "---------------"
   ]
  },
  {
   "cell_type": "code",
   "execution_count": 13,
   "metadata": {},
   "outputs": [
    {
     "data": {
      "text/plain": [
       "DatetimeIndex(['2020-02-24', '2020-02-25', '2020-02-26', '2020-02-27',\n",
       "               '2020-02-28', '2020-02-29', '2020-03-01', '2020-03-02',\n",
       "               '2020-03-03', '2020-03-04',\n",
       "               ...\n",
       "               '2021-04-03', '2021-04-04', '2021-04-05', '2021-04-06',\n",
       "               '2021-04-07', '2021-04-08', '2021-04-09', '2021-04-10',\n",
       "               '2021-04-11', '2021-04-12'],\n",
       "              dtype='datetime64[ns]', length=414, freq='D')"
      ]
     },
     "execution_count": 13,
     "metadata": {},
     "output_type": "execute_result"
    }
   ],
   "source": [
    "time_date_new_extended = pd.date_range(start=time_date_new.iloc[0], periods=2*time_date.shape[0])\n",
    "time_date_new_extended"
   ]
  },
  {
   "cell_type": "markdown",
   "metadata": {},
   "source": [
    "------------------\n",
    "\n",
    "### Total Cases Friuli"
   ]
  },
  {
   "cell_type": "code",
   "execution_count": 14,
   "metadata": {},
   "outputs": [
    {
     "data": {
      "text/plain": [
       "5     0\n",
       "26    0\n",
       "47    0\n",
       "68    0\n",
       "89    0\n",
       "Name: totale_casi, dtype: int64"
      ]
     },
     "execution_count": 14,
     "metadata": {},
     "output_type": "execute_result"
    }
   ],
   "source": [
    "total_cases_Friuli = df_Friuli['totale_casi']\n",
    "total_cases_Friuli.head()"
   ]
  },
  {
   "cell_type": "markdown",
   "metadata": {},
   "source": [
    "### Total Positive Friuli"
   ]
  },
  {
   "cell_type": "code",
   "execution_count": 15,
   "metadata": {},
   "outputs": [
    {
     "data": {
      "text/plain": [
       "5     0\n",
       "26    0\n",
       "47    0\n",
       "68    0\n",
       "89    0\n",
       "Name: totale_positivi, dtype: int64"
      ]
     },
     "execution_count": 15,
     "metadata": {},
     "output_type": "execute_result"
    }
   ],
   "source": [
    "total_positive_Friuli = df_Friuli['totale_positivi']\n",
    "total_positive_Friuli.head()"
   ]
  },
  {
   "cell_type": "code",
   "execution_count": 16,
   "metadata": {},
   "outputs": [
    {
     "data": {
      "text/html": [
       "\n",
       "\n",
       "\n",
       "\n",
       "\n",
       "\n",
       "  <div class=\"bk-root\" id=\"fff1c811-766b-4cd6-9762-9da871f0b602\" data-root-id=\"1002\"></div>\n"
      ]
     },
     "metadata": {},
     "output_type": "display_data"
    },
    {
     "data": {
      "application/javascript": [
       "(function(root) {\n",
       "  function embed_document(root) {\n",
       "    \n",
       "  var docs_json = {\"0dc8733b-0fb9-4802-8c4c-88c19ed1deca\":{\"roots\":{\"references\":[{\"attributes\":{\"below\":[{\"id\":\"1013\"}],\"center\":[{\"id\":\"1016\"},{\"id\":\"1020\"},{\"id\":\"1058\"}],\"left\":[{\"id\":\"1017\"}],\"plot_height\":450,\"renderers\":[{\"id\":\"1038\"},{\"id\":\"1063\"},{\"id\":\"1068\"},{\"id\":\"1096\"}],\"title\":{\"id\":\"1003\"},\"toolbar\":{\"id\":\"1028\"},\"x_range\":{\"id\":\"1005\"},\"x_scale\":{\"id\":\"1009\"},\"y_range\":{\"id\":\"1007\"},\"y_scale\":{\"id\":\"1011\"}},\"id\":\"1002\",\"subtype\":\"Figure\",\"type\":\"Plot\"},{\"attributes\":{},\"id\":\"1125\",\"type\":\"UnionRenderers\"},{\"attributes\":{\"data\":{\"x\":{\"__ndarray__\":\"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\",\"dtype\":\"float64\",\"shape\":[207]},\"y\":[0,0,0,0,0,0,6,9,13,18,21,31,42,57,93,116,126,167,257,301,347,386,394,462,599,656,790,874,930,992,1139,1223,1317,1436,1480,1501,1593,1685,1799,1879,1986,2048,2103,2153,2218,2299,2349,2393,2431,2482,2520,2544,2616,2675,2731,2745,2775,2792,2817,2858,2882,2903,2917,2977,2995,3010,3025,3041,3059,3072,3076,3085,3094,3107,3116,3124,3130,3138,3148,3156,3161,3175,3183,3191,3198,3203,3209,3215,3227,3233,3236,3240,3251,3255,3262,3267,3271,3273,3274,3276,3276,3279,3280,3283,3283,3284,3284,3286,3287,3290,3296,3296,3296,3297,3299,3301,3303,3304,3305,3305,3305,3305,3305,3307,3307,3308,3308,3308,3312,3314,3318,3326,3326,3326,3327,3331,3332,3333,3335,3335,3335,3338,3339,3343,3346,3350,3352,3356,3358,3360,3363,3368,3373,3375,3375,3375,3378,3391,3394,3401,3411,3411,3416,3425,3432,3436,3442,3449,3449,3452,3461,3476,3484,3499,3507,3512,3522,3533,3547,3583,3616,3640,3642,3651,3684,3709,3728,3748,3764,3769,3786,3806,3831,3854,3903,3923,3934,3946,4000,4039,4073,4112,4157,4161,4181,4210,4273]},\"selected\":{\"id\":\"1088\"},\"selection_policy\":{\"id\":\"1089\"}},\"id\":\"1035\",\"type\":\"ColumnDataSource\"},{\"attributes\":{\"bottom_units\":\"screen\",\"fill_alpha\":0.5,\"fill_color\":\"lightgrey\",\"left_units\":\"screen\",\"level\":\"overlay\",\"line_alpha\":1.0,\"line_color\":\"black\",\"line_dash\":[4,4],\"line_width\":2,\"render_mode\":\"css\",\"right_units\":\"screen\",\"top_units\":\"screen\"},\"id\":\"1027\",\"type\":\"BoxAnnotation\"},{\"attributes\":{\"data\":{\"x\":{\"__ndarray__\":\"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\",\"dtype\":\"float64\",\"shape\":[207]},\"y\":[0,0,0,0,0,0,6,9,13,18,21,31,42,57,93,116,126,167,257,301,347,386,394,462,599,656,790,874,930,992,1139,1223,1317,1436,1480,1501,1593,1685,1799,1879,1986,2048,2103,2153,2218,2299,2349,2393,2431,2482,2520,2544,2616,2675,2731,2745,2775,2792,2817,2858,2882,2903,2917,2977,2995,3010,3025,3041,3059,3072,3076,3085,3094,3107,3116,3124,3130,3138,3148,3156,3161,3175,3183,3191,3198,3203,3209,3215,3227,3233,3236,3240,3251,3255,3262,3267,3271,3273,3274,3276,3276,3279,3280,3283,3283,3284,3284,3286,3287,3290,3296,3296,3296,3297,3299,3301,3303,3304,3305,3305,3305,3305,3305,3307,3307,3308,3308,3308,3312,3314,3318,3326,3326,3326,3327,3331,3332,3333,3335,3335,3335,3338,3339,3343,3346,3350,3352,3356,3358,3360,3363,3368,3373,3375,3375,3375,3378,3391,3394,3401,3411,3411,3416,3425,3432,3436,3442,3449,3449,3452,3461,3476,3484,3499,3507,3512,3522,3533,3547,3583,3616,3640,3642,3651,3684,3709,3728,3748,3764,3769,3786,3806,3831,3854,3903,3923,3934,3946,4000,4039,4073,4112,4157,4161,4181,4210,4273]},\"selected\":{\"id\":\"1090\"},\"selection_policy\":{\"id\":\"1091\"}},\"id\":\"1060\",\"type\":\"ColumnDataSource\"},{\"attributes\":{\"fill_alpha\":{\"value\":0.1},\"fill_color\":{\"value\":\"white\"},\"line_alpha\":{\"value\":0.1},\"line_color\":{\"value\":\"red\"},\"size\":{\"units\":\"screen\",\"value\":5},\"x\":{\"field\":\"x\"},\"y\":{\"field\":\"y\"}},\"id\":\"1095\",\"type\":\"Circle\"},{\"attributes\":{\"label\":{\"value\":\"total positive\"},\"renderers\":[{\"id\":\"1068\"}]},\"id\":\"1092\",\"type\":\"LegendItem\"},{\"attributes\":{},\"id\":\"1021\",\"type\":\"PanTool\"},{\"attributes\":{\"line_alpha\":0.1,\"line_color\":\"blue\",\"line_width\":4,\"x\":{\"field\":\"x\"},\"y\":{\"field\":\"y\"}},\"id\":\"1037\",\"type\":\"Line\"},{\"attributes\":{\"days\":[1,4,7,10,13,16,19,22,25,28]},\"id\":\"1049\",\"type\":\"DaysTicker\"},{\"attributes\":{\"data_source\":{\"id\":\"1035\"},\"glyph\":{\"id\":\"1036\"},\"hover_glyph\":null,\"muted_glyph\":null,\"nonselection_glyph\":{\"id\":\"1037\"},\"selection_glyph\":null,\"view\":{\"id\":\"1039\"}},\"id\":\"1038\",\"type\":\"GlyphRenderer\"},{\"attributes\":{\"source\":{\"id\":\"1035\"}},\"id\":\"1039\",\"type\":\"CDSView\"},{\"attributes\":{},\"id\":\"1091\",\"type\":\"UnionRenderers\"},{\"attributes\":{},\"id\":\"1127\",\"type\":\"UnionRenderers\"},{\"attributes\":{},\"id\":\"1007\",\"type\":\"DataRange1d\"},{\"attributes\":{},\"id\":\"1022\",\"type\":\"WheelZoomTool\"},{\"attributes\":{\"overlay\":{\"id\":\"1027\"}},\"id\":\"1023\",\"type\":\"BoxZoomTool\"},{\"attributes\":{\"axis_label\":\"Total Cases & Total Positive\",\"formatter\":{\"id\":\"1100\"},\"minor_tick_in\":-5,\"minor_tick_out\":-3,\"ticker\":{\"id\":\"1018\"}},\"id\":\"1017\",\"type\":\"LinearAxis\"},{\"attributes\":{},\"id\":\"1024\",\"type\":\"SaveTool\"},{\"attributes\":{\"data\":{\"x\":{\"__ndarray__\":\"AAAA5UcHd0IAAMBKmgd3QgAAgLDsB3dCAABAFj8Id0IAAAB8kQh3QgAAwOHjCHdCAACARzYJd0IAAECtiAl3QgAAABPbCXdCAADAeC0Kd0IAAIDefwp3QgAAQETSCndCAAAAqiQLd0IAAMAPdwt3QgAAgHXJC3dCAABA2xsMd0IAAABBbgx3QgAAwKbADHdCAACADBMNd0IAAEByZQ13QgAAANi3DXdCAADAPQoOd0IAAICjXA53QgAAQAmvDndCAAAAbwEPd0IAAMDUUw93QgAAgDqmD3dCAABAoPgPd0IAAAAGSxB3QgAAwGudEHdCAACA0e8Qd0IAAEA3QhF3QgAAAJ2UEXdCAADAAucRd0IAAIBoORJ3QgAAQM6LEndCAAAANN4Sd0IAAMCZMBN3QgAAgP+CE3dCAABAZdUTd0IAAADLJxR3QgAAwDB6FHdCAACAlswUd0IAAED8HhV3QgAAAGJxFXdCAADAx8MVd0IAAIAtFhZ3QgAAQJNoFndCAAAA+boWd0IAAMBeDRd3QgAAgMRfF3dCAABAKrIXd0IAAACQBBh3QgAAwPVWGHdCAACAW6kYd0IAAEDB+xh3QgAAACdOGXdCAADAjKAZd0IAAIDy8hl3QgAAQFhFGndCAAAAvpcad0IAAMAj6hp3QgAAgIk8G3dCAABA744bd0IAAABV4Rt3QgAAwLozHHdCAACAIIYcd0IAAECG2Bx3QgAAAOwqHXdCAADAUX0dd0IAAIC3zx13QgAAQB0iHndCAAAAg3Qed0IAAMDoxh53QgAAgE4ZH3dCAABAtGsfd0IAAAAavh93QgAAwH8QIHdCAACA5WIgd0IAAEBLtSB3QgAAALEHIXdCAADAFlohd0IAAIB8rCF3QgAAQOL+IXdCAAAASFEid0IAAMCtoyJ3QgAAgBP2IndCAABAeUgjd0IAAADfmiN3QgAAwETtI3dCAACAqj8kd0IAAEAQkiR3QgAAAHbkJHdCAADA2zYld0IAAIBBiSV3QgAAQKfbJXdCAAAADS4md0IAAMBygCZ3QgAAgNjSJndCAABAPiUnd0IAAACkdyd3QgAAwAnKJ3dCAACAbxwod0IAAEDVbih3QgAAADvBKHdCAADAoBMpd0IAAIAGZil3QgAAQGy4KXdCAAAA0goqd0IAAMA3XSp3QgAAgJ2vKndCAABAAwIrd0IAAABpVCt3QgAAwM6mK3dCAACANPkrd0IAAECaSyx3QgAAAACeLHdCAADAZfAsd0IAAIDLQi13QgAAQDGVLXdCAAAAl+ctd0IAAMD8OS53QgAAgGKMLndCAABAyN4ud0IAAAAuMS93QgAAwJODL3dCAACA+dUvd0IAAEBfKDB3QgAAAMV6MHdCAADAKs0wd0IAAICQHzF3QgAAQPZxMXdCAAAAXMQxd0IAAMDBFjJ3QgAAgCdpMndCAABAjbsyd0IAAADzDTN3QgAAwFhgM3dCAACAvrIzd0IAAEAkBTR3QgAAAIpXNHdCAADA76k0d0IAAIBV/DR3QgAAQLtONXdCAAAAIaE1d0IAAMCG8zV3QgAAgOxFNndCAABAUpg2d0IAAAC46jZ3QgAAwB09N3dCAACAg483d0IAAEDp4Td3QgAAAE80OHdCAADAtIY4d0IAAIAa2Th3QgAAQIArOXdCAAAA5n05d0IAAMBL0Dl3QgAAgLEiOndCAABAF3U6d0IAAAB9xzp3QgAAwOIZO3dCAACASGw7d0IAAECuvjt3QgAAABQRPHdCAADAeWM8d0IAAIDftTx3QgAAQEUIPXdCAAAAq1o9d0IAAMAQrT13QgAAgHb/PXdCAABA3FE+d0IAAABCpD53QgAAwKf2PndCAACADUk/d0IAAEBzmz93QgAAANntP3dCAADAPkBAd0IAAICkkkB3QgAAQArlQHdCAAAAcDdBd0IAAMDViUF3QgAAgDvcQXdCAABAoS5Cd0IAAAAHgUJ3QgAAwGzTQndCAACA0iVDd0IAAEA4eEN3QgAAAJ7KQ3dCAADAAx1Ed0IAAIBpb0R3QgAAQM/BRHdCAAAANRRFd0IAAMCaZkV3QgAAgAC5RXdCAABAZgtGd0IAAADMXUZ3QgAAwDGwRndCAACAlwJHd0IAAED9VEd3QgAAAGOnR3dCAADAyPlHd0IAAIAuTEh3QgAAQJSeSHdCAAAA+vBId0IAAMBfQ0l3QgAAgMWVSXdC\",\"dtype\":\"float64\",\"shape\":[207]},\"y\":[0,0,0,0,0,0,6,9,13,18,21,28,39,53,89,110,110,148,236,271,316,346,347,416,522,555,666,738,771,848,911,954,1027,1120,1141,1109,1160,1206,1294,1324,1336,1363,1396,1379,1415,1390,1398,1382,1326,1307,899,1394,1330,1428,1403,1337,1190,1322,1308,1135,1320,1084,1248,1258,1239,1227,1170,1115,1109,1087,1050,984,962,927,911,869,851,830,801,779,770,741,680,654,621,600,596,578,485,459,412,386,375,356,336,323,305,278,266,244,233,213,180,161,151,144,128,113,112,108,105,103,99,99,99,97,85,83,78,72,71,57,53,48,42,38,36,45,56,62,68,73,73,71,72,82,75,78,79,79,80,86,93,97,96,99,96,99,99,98,97,98,103,105,112,112,112,122,122,129,137,136,138,147,153,155,160,166,164,156,164,176,183,189,196,201,204,210,222,243,272,291,291,298,321,335,347,348,360,365,377,387,402,412,445,459,462,473,511,546,562,586,589,592,609,612,656]},\"selected\":{\"id\":\"1126\"},\"selection_policy\":{\"id\":\"1127\"}},\"id\":\"1093\",\"type\":\"ColumnDataSource\"},{\"attributes\":{},\"id\":\"1011\",\"type\":\"LinearScale\"},{\"attributes\":{},\"id\":\"1025\",\"type\":\"ResetTool\"},{\"attributes\":{\"label\":{\"value\":\"total cases\"},\"renderers\":[{\"id\":\"1038\"}]},\"id\":\"1059\",\"type\":\"LegendItem\"},{\"attributes\":{\"days\":[\"%d %B\"]},\"id\":\"1098\",\"type\":\"DatetimeTickFormatter\"},{\"attributes\":{},\"id\":\"1126\",\"type\":\"Selection\"},{\"attributes\":{},\"id\":\"1009\",\"type\":\"LinearScale\"},{\"attributes\":{},\"id\":\"1026\",\"type\":\"HelpTool\"},{\"attributes\":{\"mantissas\":[1,2,5],\"max_interval\":500.0,\"num_minor_ticks\":0},\"id\":\"1045\",\"type\":\"AdaptiveTicker\"},{\"attributes\":{},\"id\":\"1056\",\"type\":\"YearsTicker\"},{\"attributes\":{\"line_color\":\"red\",\"line_width\":4,\"x\":{\"field\":\"x\"},\"y\":{\"field\":\"y\"}},\"id\":\"1066\",\"type\":\"Line\"},{\"attributes\":{\"use_scientific\":false},\"id\":\"1100\",\"type\":\"BasicTickFormatter\"},{\"attributes\":{\"active_drag\":\"auto\",\"active_inspect\":\"auto\",\"active_multi\":null,\"active_scroll\":\"auto\",\"active_tap\":\"auto\",\"tools\":[{\"id\":\"1021\"},{\"id\":\"1022\"},{\"id\":\"1023\"},{\"id\":\"1024\"},{\"id\":\"1025\"},{\"id\":\"1026\"},{\"id\":\"1102\"}]},\"id\":\"1028\",\"type\":\"Toolbar\"},{\"attributes\":{\"data_source\":{\"id\":\"1093\"},\"glyph\":{\"id\":\"1094\"},\"hover_glyph\":null,\"muted_glyph\":null,\"nonselection_glyph\":{\"id\":\"1095\"},\"selection_glyph\":null,\"view\":{\"id\":\"1097\"}},\"id\":\"1096\",\"type\":\"GlyphRenderer\"},{\"attributes\":{\"fill_color\":{\"value\":\"white\"},\"line_color\":{\"value\":\"blue\"},\"size\":{\"units\":\"screen\",\"value\":5},\"x\":{\"field\":\"x\"},\"y\":{\"field\":\"y\"}},\"id\":\"1061\",\"type\":\"Circle\"},{\"attributes\":{\"fill_color\":{\"value\":\"white\"},\"line_color\":{\"value\":\"red\"},\"size\":{\"units\":\"screen\",\"value\":5},\"x\":{\"field\":\"x\"},\"y\":{\"field\":\"y\"}},\"id\":\"1094\",\"type\":\"Circle\"},{\"attributes\":{\"fill_alpha\":{\"value\":0.1},\"fill_color\":{\"value\":\"white\"},\"line_alpha\":{\"value\":0.1},\"line_color\":{\"value\":\"blue\"},\"size\":{\"units\":\"screen\",\"value\":5},\"x\":{\"field\":\"x\"},\"y\":{\"field\":\"y\"}},\"id\":\"1062\",\"type\":\"Circle\"},{\"attributes\":{\"days\":[1,2,3,4,5,6,7,8,9,10,11,12,13,14,15,16,17,18,19,20,21,22,23,24,25,26,27,28,29,30,31]},\"id\":\"1048\",\"type\":\"DaysTicker\"},{\"attributes\":{\"line_alpha\":0.1,\"line_color\":\"red\",\"line_width\":4,\"x\":{\"field\":\"x\"},\"y\":{\"field\":\"y\"}},\"id\":\"1067\",\"type\":\"Line\"},{\"attributes\":{\"axis_label\":\"Date\",\"formatter\":{\"id\":\"1098\"},\"major_label_orientation\":0.7853981633974483,\"minor_tick_in\":-5,\"minor_tick_out\":-3,\"ticker\":{\"id\":\"1014\"}},\"id\":\"1013\",\"type\":\"DatetimeAxis\"},{\"attributes\":{\"data_source\":{\"id\":\"1060\"},\"glyph\":{\"id\":\"1061\"},\"hover_glyph\":null,\"muted_glyph\":null,\"nonselection_glyph\":{\"id\":\"1062\"},\"selection_glyph\":null,\"view\":{\"id\":\"1064\"}},\"id\":\"1063\",\"type\":\"GlyphRenderer\"},{\"attributes\":{\"items\":[{\"id\":\"1059\"},{\"id\":\"1092\"}],\"location\":\"top_left\"},\"id\":\"1058\",\"type\":\"Legend\"},{\"attributes\":{\"line_color\":\"blue\",\"line_width\":4,\"x\":{\"field\":\"x\"},\"y\":{\"field\":\"y\"}},\"id\":\"1036\",\"type\":\"Line\"},{\"attributes\":{\"text\":\"Total Cases & Total Positive: Friuli\"},\"id\":\"1003\",\"type\":\"Title\"},{\"attributes\":{\"source\":{\"id\":\"1065\"}},\"id\":\"1069\",\"type\":\"CDSView\"},{\"attributes\":{},\"id\":\"1018\",\"type\":\"BasicTicker\"},{\"attributes\":{\"days\":[1,8,15,22]},\"id\":\"1050\",\"type\":\"DaysTicker\"},{\"attributes\":{\"num_minor_ticks\":5,\"tickers\":[{\"id\":\"1045\"},{\"id\":\"1046\"},{\"id\":\"1047\"},{\"id\":\"1048\"},{\"id\":\"1049\"},{\"id\":\"1050\"},{\"id\":\"1051\"},{\"id\":\"1052\"},{\"id\":\"1053\"},{\"id\":\"1054\"},{\"id\":\"1055\"},{\"id\":\"1056\"}]},\"id\":\"1014\",\"type\":\"DatetimeTicker\"},{\"attributes\":{\"months\":[0,6]},\"id\":\"1055\",\"type\":\"MonthsTicker\"},{\"attributes\":{},\"id\":\"1090\",\"type\":\"Selection\"},{\"attributes\":{},\"id\":\"1124\",\"type\":\"Selection\"},{\"attributes\":{\"data_source\":{\"id\":\"1065\"},\"glyph\":{\"id\":\"1066\"},\"hover_glyph\":null,\"muted_glyph\":null,\"nonselection_glyph\":{\"id\":\"1067\"},\"selection_glyph\":null,\"view\":{\"id\":\"1069\"}},\"id\":\"1068\",\"type\":\"GlyphRenderer\"},{\"attributes\":{\"source\":{\"id\":\"1093\"}},\"id\":\"1097\",\"type\":\"CDSView\"},{\"attributes\":{\"axis\":{\"id\":\"1013\"},\"ticker\":null},\"id\":\"1016\",\"type\":\"Grid\"},{\"attributes\":{\"base\":60,\"mantissas\":[1,2,5,10,15,20,30],\"max_interval\":1800000.0,\"min_interval\":1000.0,\"num_minor_ticks\":0},\"id\":\"1046\",\"type\":\"AdaptiveTicker\"},{\"attributes\":{\"months\":[0,4,8]},\"id\":\"1054\",\"type\":\"MonthsTicker\"},{\"attributes\":{\"callback\":null,\"formatters\":{\"@x\":\"datetime\"},\"mode\":\"vline\",\"tooltips\":[[\"date\",\"@x{%d %B}\"],[\"total cases OR total positive\",\"@y{0[.]000}\"]]},\"id\":\"1102\",\"type\":\"HoverTool\"},{\"attributes\":{\"source\":{\"id\":\"1060\"}},\"id\":\"1064\",\"type\":\"CDSView\"},{\"attributes\":{\"months\":[0,2,4,6,8,10]},\"id\":\"1053\",\"type\":\"MonthsTicker\"},{\"attributes\":{\"base\":24,\"mantissas\":[1,2,4,6,8,12],\"max_interval\":43200000.0,\"min_interval\":3600000.0,\"num_minor_ticks\":0},\"id\":\"1047\",\"type\":\"AdaptiveTicker\"},{\"attributes\":{},\"id\":\"1088\",\"type\":\"Selection\"},{\"attributes\":{\"axis\":{\"id\":\"1017\"},\"dimension\":1,\"ticker\":null},\"id\":\"1020\",\"type\":\"Grid\"},{\"attributes\":{\"data\":{\"x\":{\"__ndarray__\":\"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\",\"dtype\":\"float64\",\"shape\":[207]},\"y\":[0,0,0,0,0,0,6,9,13,18,21,28,39,53,89,110,110,148,236,271,316,346,347,416,522,555,666,738,771,848,911,954,1027,1120,1141,1109,1160,1206,1294,1324,1336,1363,1396,1379,1415,1390,1398,1382,1326,1307,899,1394,1330,1428,1403,1337,1190,1322,1308,1135,1320,1084,1248,1258,1239,1227,1170,1115,1109,1087,1050,984,962,927,911,869,851,830,801,779,770,741,680,654,621,600,596,578,485,459,412,386,375,356,336,323,305,278,266,244,233,213,180,161,151,144,128,113,112,108,105,103,99,99,99,97,85,83,78,72,71,57,53,48,42,38,36,45,56,62,68,73,73,71,72,82,75,78,79,79,80,86,93,97,96,99,96,99,99,98,97,98,103,105,112,112,112,122,122,129,137,136,138,147,153,155,160,166,164,156,164,176,183,189,196,201,204,210,222,243,272,291,291,298,321,335,347,348,360,365,377,387,402,412,445,459,462,473,511,546,562,586,589,592,609,612,656]},\"selected\":{\"id\":\"1124\"},\"selection_policy\":{\"id\":\"1125\"}},\"id\":\"1065\",\"type\":\"ColumnDataSource\"},{\"attributes\":{\"months\":[0,1,2,3,4,5,6,7,8,9,10,11]},\"id\":\"1052\",\"type\":\"MonthsTicker\"},{\"attributes\":{},\"id\":\"1089\",\"type\":\"UnionRenderers\"},{\"attributes\":{\"days\":[1,15]},\"id\":\"1051\",\"type\":\"DaysTicker\"},{\"attributes\":{},\"id\":\"1005\",\"type\":\"DataRange1d\"}],\"root_ids\":[\"1002\"]},\"title\":\"Bokeh Application\",\"version\":\"2.0.2\"}};\n",
       "  var render_items = [{\"docid\":\"0dc8733b-0fb9-4802-8c4c-88c19ed1deca\",\"root_ids\":[\"1002\"],\"roots\":{\"1002\":\"fff1c811-766b-4cd6-9762-9da871f0b602\"}}];\n",
       "  root.Bokeh.embed.embed_items_notebook(docs_json, render_items);\n",
       "\n",
       "  }\n",
       "  if (root.Bokeh !== undefined) {\n",
       "    embed_document(root);\n",
       "  } else {\n",
       "    var attempts = 0;\n",
       "    var timer = setInterval(function(root) {\n",
       "      if (root.Bokeh !== undefined) {\n",
       "        clearInterval(timer);\n",
       "        embed_document(root);\n",
       "      } else {\n",
       "        attempts++;\n",
       "        if (attempts > 100) {\n",
       "          clearInterval(timer);\n",
       "          console.log(\"Bokeh: ERROR: Unable to run BokehJS code because BokehJS library is missing\");\n",
       "        }\n",
       "      }\n",
       "    }, 10, root)\n",
       "  }\n",
       "})(window);"
      ],
      "application/vnd.bokehjs_exec.v0+json": ""
     },
     "metadata": {
      "application/vnd.bokehjs_exec.v0+json": {
       "id": "1002"
      }
     },
     "output_type": "display_data"
    }
   ],
   "source": [
    "p_total_cases_positive_Friuli = bokeh_plot_N_lines(x=time_date_new, y_list=[total_cases_Friuli,total_positive_Friuli], \n",
    "                  title='Total Cases & Total Positive: Friuli', \n",
    "                  dim=[600, 450], \n",
    "                  x_label='Date', \n",
    "                  y_label='Total Cases & Total Positive', legend_list=['total cases','total positive'],\n",
    "                  x_label_hover='date', y_label_hover='total cases OR total positive',\n",
    "                  color_list=['blue','red'],legend_location=\"top_left\")\n",
    "\n",
    "output_file(\"total_cases_positive_Friuli.html\")\n",
    "\n",
    "show(p_total_cases_positive_Friuli)"
   ]
  },
  {
   "cell_type": "markdown",
   "metadata": {},
   "source": [
    "------------------\n",
    "\n",
    "### Deaths"
   ]
  },
  {
   "cell_type": "code",
   "execution_count": 17,
   "metadata": {},
   "outputs": [
    {
     "data": {
      "text/plain": [
       "5     0\n",
       "26    0\n",
       "47    0\n",
       "68    0\n",
       "89    0\n",
       "Name: deceduti, dtype: int64"
      ]
     },
     "execution_count": 17,
     "metadata": {},
     "output_type": "execute_result"
    }
   ],
   "source": [
    "deceduti_Friuli = df_Friuli['deceduti']\n",
    "deceduti_Friuli.head()"
   ]
  },
  {
   "cell_type": "markdown",
   "metadata": {},
   "source": [
    "------------------\n",
    "\n",
    "### Recovered"
   ]
  },
  {
   "cell_type": "code",
   "execution_count": 18,
   "metadata": {},
   "outputs": [
    {
     "data": {
      "text/plain": [
       "5     0\n",
       "26    0\n",
       "47    0\n",
       "68    0\n",
       "89    0\n",
       "Name: dimessi_guariti, dtype: int64"
      ]
     },
     "execution_count": 18,
     "metadata": {},
     "output_type": "execute_result"
    }
   ],
   "source": [
    "guariti_Friuli = df_Friuli['dimessi_guariti']\n",
    "guariti_Friuli.head()"
   ]
  },
  {
   "cell_type": "code",
   "execution_count": 19,
   "metadata": {},
   "outputs": [
    {
     "data": {
      "text/html": [
       "\n",
       "\n",
       "\n",
       "\n",
       "\n",
       "\n",
       "  <div class=\"bk-root\" id=\"c7479c7a-bb49-4ac6-b213-ce62bc07fde7\" data-root-id=\"1537\"></div>\n"
      ]
     },
     "metadata": {},
     "output_type": "display_data"
    },
    {
     "data": {
      "application/javascript": [
       "(function(root) {\n",
       "  function embed_document(root) {\n",
       "    \n",
       "  var docs_json = {\"02550e92-6111-4330-a1a3-4a0a28d1f338\":{\"roots\":{\"references\":[{\"attributes\":{\"below\":[{\"id\":\"1548\"}],\"center\":[{\"id\":\"1551\"},{\"id\":\"1555\"},{\"id\":\"1593\"}],\"left\":[{\"id\":\"1552\"}],\"plot_height\":450,\"renderers\":[{\"id\":\"1573\"},{\"id\":\"1598\"},{\"id\":\"1603\"},{\"id\":\"1631\"}],\"title\":{\"id\":\"1538\"},\"toolbar\":{\"id\":\"1563\"},\"x_range\":{\"id\":\"1540\"},\"x_scale\":{\"id\":\"1544\"},\"y_range\":{\"id\":\"1542\"},\"y_scale\":{\"id\":\"1546\"}},\"id\":\"1537\",\"subtype\":\"Figure\",\"type\":\"Plot\"},{\"attributes\":{\"months\":[0,4,8]},\"id\":\"1589\",\"type\":\"MonthsTicker\"},{\"attributes\":{\"axis\":{\"id\":\"1548\"},\"ticker\":null},\"id\":\"1551\",\"type\":\"Grid\"},{\"attributes\":{\"axis\":{\"id\":\"1552\"},\"dimension\":1,\"ticker\":null},\"id\":\"1555\",\"type\":\"Grid\"},{\"attributes\":{},\"id\":\"1560\",\"type\":\"ResetTool\"},{\"attributes\":{\"source\":{\"id\":\"1600\"}},\"id\":\"1604\",\"type\":\"CDSView\"},{\"attributes\":{},\"id\":\"1544\",\"type\":\"LinearScale\"},{\"attributes\":{\"months\":[0,6]},\"id\":\"1590\",\"type\":\"MonthsTicker\"},{\"attributes\":{\"axis_label\":\"Date\",\"formatter\":{\"id\":\"1633\"},\"major_label_orientation\":0.7853981633974483,\"minor_tick_in\":-5,\"minor_tick_out\":-3,\"ticker\":{\"id\":\"1549\"}},\"id\":\"1548\",\"type\":\"DatetimeAxis\"},{\"attributes\":{\"fill_alpha\":{\"value\":0.1},\"fill_color\":{\"value\":\"white\"},\"line_alpha\":{\"value\":0.1},\"line_color\":{\"value\":\"darkviolet\"},\"size\":{\"units\":\"screen\",\"value\":5},\"x\":{\"field\":\"x\"},\"y\":{\"field\":\"y\"}},\"id\":\"1597\",\"type\":\"Circle\"},{\"attributes\":{},\"id\":\"1684\",\"type\":\"UnionRenderers\"},{\"attributes\":{\"num_minor_ticks\":5,\"tickers\":[{\"id\":\"1580\"},{\"id\":\"1581\"},{\"id\":\"1582\"},{\"id\":\"1583\"},{\"id\":\"1584\"},{\"id\":\"1585\"},{\"id\":\"1586\"},{\"id\":\"1587\"},{\"id\":\"1588\"},{\"id\":\"1589\"},{\"id\":\"1590\"},{\"id\":\"1591\"}]},\"id\":\"1549\",\"type\":\"DatetimeTicker\"},{\"attributes\":{},\"id\":\"1542\",\"type\":\"DataRange1d\"},{\"attributes\":{},\"id\":\"1546\",\"type\":\"LinearScale\"},{\"attributes\":{\"data\":{\"x\":{\"__ndarray__\":\"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\",\"dtype\":\"float64\",\"shape\":[207]},\"y\":[0,0,0,0,0,0,0,0,0,0,0,0,0,1,1,3,6,8,10,13,14,22,30,31,36,38,42,47,54,64,70,72,76,87,98,107,113,122,129,136,145,154,158,164,169,171,179,185,195,202,206,212,217,220,222,225,239,241,246,256,258,263,264,271,278,285,289,294,295,297,299,303,306,308,308,308,310,312,313,316,317,318,319,319,320,320,322,323,325,327,329,329,329,331,333,333,333,333,335,336,336,336,338,338,339,340,340,341,342,342,343,343,343,343,343,343,343,344,344,344,344,344,345,345,345,345,345,345,345,345,345,345,345,345,345,345,345,345,345,345,345,345,345,345,345,345,345,345,345,345,345,345,345,345,345,345,345,345,345,345,345,346,346,346,346,346,346,346,347,348,348,348,348,348,348,348,348,348,348,348,348,348,348,348,348,348,348,348,348,348,348,349,349,349,349,349,349,349,349,349,349,349,349,349,349,349,349]},\"selected\":{\"id\":\"1625\"},\"selection_policy\":{\"id\":\"1626\"}},\"id\":\"1595\",\"type\":\"ColumnDataSource\"},{\"attributes\":{\"line_color\":\"green\",\"line_width\":4,\"x\":{\"field\":\"x\"},\"y\":{\"field\":\"y\"}},\"id\":\"1601\",\"type\":\"Line\"},{\"attributes\":{},\"id\":\"1686\",\"type\":\"UnionRenderers\"},{\"attributes\":{\"axis_label\":\"Deaths & Recovered\",\"formatter\":{\"id\":\"1635\"},\"minor_tick_in\":-5,\"minor_tick_out\":-3,\"ticker\":{\"id\":\"1553\"}},\"id\":\"1552\",\"type\":\"LinearAxis\"},{\"attributes\":{\"overlay\":{\"id\":\"1562\"}},\"id\":\"1558\",\"type\":\"BoxZoomTool\"},{\"attributes\":{},\"id\":\"1623\",\"type\":\"Selection\"},{\"attributes\":{\"data_source\":{\"id\":\"1628\"},\"glyph\":{\"id\":\"1629\"},\"hover_glyph\":null,\"muted_glyph\":null,\"nonselection_glyph\":{\"id\":\"1630\"},\"selection_glyph\":null,\"view\":{\"id\":\"1632\"}},\"id\":\"1631\",\"type\":\"GlyphRenderer\"},{\"attributes\":{\"fill_color\":{\"value\":\"white\"},\"line_color\":{\"value\":\"darkviolet\"},\"size\":{\"units\":\"screen\",\"value\":5},\"x\":{\"field\":\"x\"},\"y\":{\"field\":\"y\"}},\"id\":\"1596\",\"type\":\"Circle\"},{\"attributes\":{\"months\":[0,1,2,3,4,5,6,7,8,9,10,11]},\"id\":\"1587\",\"type\":\"MonthsTicker\"},{\"attributes\":{},\"id\":\"1591\",\"type\":\"YearsTicker\"},{\"attributes\":{},\"id\":\"1626\",\"type\":\"UnionRenderers\"},{\"attributes\":{},\"id\":\"1561\",\"type\":\"HelpTool\"},{\"attributes\":{\"source\":{\"id\":\"1595\"}},\"id\":\"1599\",\"type\":\"CDSView\"},{\"attributes\":{\"label\":{\"value\":\"deaths\"},\"renderers\":[{\"id\":\"1573\"}]},\"id\":\"1594\",\"type\":\"LegendItem\"},{\"attributes\":{},\"id\":\"1624\",\"type\":\"UnionRenderers\"},{\"attributes\":{\"line_color\":\"darkviolet\",\"line_width\":4,\"x\":{\"field\":\"x\"},\"y\":{\"field\":\"y\"}},\"id\":\"1571\",\"type\":\"Line\"},{\"attributes\":{\"line_alpha\":0.1,\"line_color\":\"darkviolet\",\"line_width\":4,\"x\":{\"field\":\"x\"},\"y\":{\"field\":\"y\"}},\"id\":\"1572\",\"type\":\"Line\"},{\"attributes\":{\"data\":{\"x\":{\"__ndarray__\":\"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\",\"dtype\":\"float64\",\"shape\":[207]},\"y\":[0,0,0,0,0,0,0,0,0,0,0,0,0,1,1,3,6,8,10,13,14,22,30,31,36,38,42,47,54,64,70,72,76,87,98,107,113,122,129,136,145,154,158,164,169,171,179,185,195,202,206,212,217,220,222,225,239,241,246,256,258,263,264,271,278,285,289,294,295,297,299,303,306,308,308,308,310,312,313,316,317,318,319,319,320,320,322,323,325,327,329,329,329,331,333,333,333,333,335,336,336,336,338,338,339,340,340,341,342,342,343,343,343,343,343,343,343,344,344,344,344,344,345,345,345,345,345,345,345,345,345,345,345,345,345,345,345,345,345,345,345,345,345,345,345,345,345,345,345,345,345,345,345,345,345,345,345,345,345,345,345,346,346,346,346,346,346,346,347,348,348,348,348,348,348,348,348,348,348,348,348,348,348,348,348,348,348,348,348,348,348,349,349,349,349,349,349,349,349,349,349,349,349,349,349,349,349]},\"selected\":{\"id\":\"1623\"},\"selection_policy\":{\"id\":\"1624\"}},\"id\":\"1570\",\"type\":\"ColumnDataSource\"},{\"attributes\":{\"use_scientific\":false},\"id\":\"1635\",\"type\":\"BasicTickFormatter\"},{\"attributes\":{},\"id\":\"1625\",\"type\":\"Selection\"},{\"attributes\":{\"fill_color\":{\"value\":\"white\"},\"line_color\":{\"value\":\"green\"},\"size\":{\"units\":\"screen\",\"value\":5},\"x\":{\"field\":\"x\"},\"y\":{\"field\":\"y\"}},\"id\":\"1629\",\"type\":\"Circle\"},{\"attributes\":{\"days\":[\"%d %B\"]},\"id\":\"1633\",\"type\":\"DatetimeTickFormatter\"},{\"attributes\":{\"line_alpha\":0.1,\"line_color\":\"green\",\"line_width\":4,\"x\":{\"field\":\"x\"},\"y\":{\"field\":\"y\"}},\"id\":\"1602\",\"type\":\"Line\"},{\"attributes\":{},\"id\":\"1553\",\"type\":\"BasicTicker\"},{\"attributes\":{\"text\":\"Deaths & Recovered: Friuli\"},\"id\":\"1538\",\"type\":\"Title\"},{\"attributes\":{\"mantissas\":[1,2,5],\"max_interval\":500.0,\"num_minor_ticks\":0},\"id\":\"1580\",\"type\":\"AdaptiveTicker\"},{\"attributes\":{},\"id\":\"1557\",\"type\":\"WheelZoomTool\"},{\"attributes\":{\"data\":{\"x\":{\"__ndarray__\":\"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\",\"dtype\":\"float64\",\"shape\":[207]},\"y\":[0,0,0,0,0,0,0,0,0,0,0,3,3,3,3,3,10,11,11,17,17,18,17,15,41,63,82,89,105,80,158,197,214,229,241,285,320,357,376,419,505,531,549,610,634,738,772,826,910,973,1415,938,1069,1027,1106,1183,1346,1229,1263,1467,1304,1556,1405,1448,1478,1498,1566,1632,1655,1688,1727,1798,1826,1872,1897,1947,1969,1996,2034,2061,2074,2116,2184,2218,2257,2283,2291,2314,2417,2447,2495,2525,2547,2568,2593,2611,2633,2662,2673,2696,2707,2730,2762,2784,2793,2800,2816,2832,2833,2840,2848,2850,2854,2855,2857,2861,2875,2877,2883,2889,2890,2904,2907,2914,2920,2925,2927,2918,2911,2907,2905,2908,2908,2910,2910,2904,2912,2910,2911,2911,2910,2907,2901,2901,2905,2906,2911,2912,2914,2917,2921,2925,2925,2925,2918,2918,2921,2924,2927,2927,2929,2929,2932,2932,2933,2935,2936,2937,2938,2948,2949,2952,2953,2962,2963,2963,2970,2975,2977,2992,2996,3001,3003,3005,3015,3026,3033,3052,3056,3056,3061,3070,3080,3093,3109,3115,3123,3124,3140,3144,3162,3177,3219,3220,3223,3249,3268]},\"selected\":{\"id\":\"1685\"},\"selection_policy\":{\"id\":\"1686\"}},\"id\":\"1628\",\"type\":\"ColumnDataSource\"},{\"attributes\":{\"fill_alpha\":{\"value\":0.1},\"fill_color\":{\"value\":\"white\"},\"line_alpha\":{\"value\":0.1},\"line_color\":{\"value\":\"green\"},\"size\":{\"units\":\"screen\",\"value\":5},\"x\":{\"field\":\"x\"},\"y\":{\"field\":\"y\"}},\"id\":\"1630\",\"type\":\"Circle\"},{\"attributes\":{\"bottom_units\":\"screen\",\"fill_alpha\":0.5,\"fill_color\":\"lightgrey\",\"left_units\":\"screen\",\"level\":\"overlay\",\"line_alpha\":1.0,\"line_color\":\"black\",\"line_dash\":[4,4],\"line_width\":2,\"render_mode\":\"css\",\"right_units\":\"screen\",\"top_units\":\"screen\"},\"id\":\"1562\",\"type\":\"BoxAnnotation\"},{\"attributes\":{},\"id\":\"1685\",\"type\":\"Selection\"},{\"attributes\":{\"data_source\":{\"id\":\"1570\"},\"glyph\":{\"id\":\"1571\"},\"hover_glyph\":null,\"muted_glyph\":null,\"nonselection_glyph\":{\"id\":\"1572\"},\"selection_glyph\":null,\"view\":{\"id\":\"1574\"}},\"id\":\"1573\",\"type\":\"GlyphRenderer\"},{\"attributes\":{\"base\":24,\"mantissas\":[1,2,4,6,8,12],\"max_interval\":43200000.0,\"min_interval\":3600000.0,\"num_minor_ticks\":0},\"id\":\"1582\",\"type\":\"AdaptiveTicker\"},{\"attributes\":{\"data_source\":{\"id\":\"1595\"},\"glyph\":{\"id\":\"1596\"},\"hover_glyph\":null,\"muted_glyph\":null,\"nonselection_glyph\":{\"id\":\"1597\"},\"selection_glyph\":null,\"view\":{\"id\":\"1599\"}},\"id\":\"1598\",\"type\":\"GlyphRenderer\"},{\"attributes\":{},\"id\":\"1559\",\"type\":\"SaveTool\"},{\"attributes\":{\"days\":[1,4,7,10,13,16,19,22,25,28]},\"id\":\"1584\",\"type\":\"DaysTicker\"},{\"attributes\":{\"days\":[1,15]},\"id\":\"1586\",\"type\":\"DaysTicker\"},{\"attributes\":{},\"id\":\"1683\",\"type\":\"Selection\"},{\"attributes\":{\"items\":[{\"id\":\"1594\"},{\"id\":\"1627\"}],\"location\":\"top_left\"},\"id\":\"1593\",\"type\":\"Legend\"},{\"attributes\":{\"active_drag\":\"auto\",\"active_inspect\":\"auto\",\"active_multi\":null,\"active_scroll\":\"auto\",\"active_tap\":\"auto\",\"tools\":[{\"id\":\"1556\"},{\"id\":\"1557\"},{\"id\":\"1558\"},{\"id\":\"1559\"},{\"id\":\"1560\"},{\"id\":\"1561\"},{\"id\":\"1637\"}]},\"id\":\"1563\",\"type\":\"Toolbar\"},{\"attributes\":{\"data\":{\"x\":{\"__ndarray__\":\"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\",\"dtype\":\"float64\",\"shape\":[207]},\"y\":[0,0,0,0,0,0,0,0,0,0,0,3,3,3,3,3,10,11,11,17,17,18,17,15,41,63,82,89,105,80,158,197,214,229,241,285,320,357,376,419,505,531,549,610,634,738,772,826,910,973,1415,938,1069,1027,1106,1183,1346,1229,1263,1467,1304,1556,1405,1448,1478,1498,1566,1632,1655,1688,1727,1798,1826,1872,1897,1947,1969,1996,2034,2061,2074,2116,2184,2218,2257,2283,2291,2314,2417,2447,2495,2525,2547,2568,2593,2611,2633,2662,2673,2696,2707,2730,2762,2784,2793,2800,2816,2832,2833,2840,2848,2850,2854,2855,2857,2861,2875,2877,2883,2889,2890,2904,2907,2914,2920,2925,2927,2918,2911,2907,2905,2908,2908,2910,2910,2904,2912,2910,2911,2911,2910,2907,2901,2901,2905,2906,2911,2912,2914,2917,2921,2925,2925,2925,2918,2918,2921,2924,2927,2927,2929,2929,2932,2932,2933,2935,2936,2937,2938,2948,2949,2952,2953,2962,2963,2963,2970,2975,2977,2992,2996,3001,3003,3005,3015,3026,3033,3052,3056,3056,3061,3070,3080,3093,3109,3115,3123,3124,3140,3144,3162,3177,3219,3220,3223,3249,3268]},\"selected\":{\"id\":\"1683\"},\"selection_policy\":{\"id\":\"1684\"}},\"id\":\"1600\",\"type\":\"ColumnDataSource\"},{\"attributes\":{\"months\":[0,2,4,6,8,10]},\"id\":\"1588\",\"type\":\"MonthsTicker\"},{\"attributes\":{},\"id\":\"1556\",\"type\":\"PanTool\"},{\"attributes\":{\"source\":{\"id\":\"1628\"}},\"id\":\"1632\",\"type\":\"CDSView\"},{\"attributes\":{\"label\":{\"value\":\"recovered\"},\"renderers\":[{\"id\":\"1603\"}]},\"id\":\"1627\",\"type\":\"LegendItem\"},{\"attributes\":{\"base\":60,\"mantissas\":[1,2,5,10,15,20,30],\"max_interval\":1800000.0,\"min_interval\":1000.0,\"num_minor_ticks\":0},\"id\":\"1581\",\"type\":\"AdaptiveTicker\"},{\"attributes\":{\"source\":{\"id\":\"1570\"}},\"id\":\"1574\",\"type\":\"CDSView\"},{\"attributes\":{\"days\":[1,8,15,22]},\"id\":\"1585\",\"type\":\"DaysTicker\"},{\"attributes\":{},\"id\":\"1540\",\"type\":\"DataRange1d\"},{\"attributes\":{\"callback\":null,\"formatters\":{\"@x\":\"datetime\"},\"mode\":\"vline\",\"tooltips\":[[\"date\",\"@x{%d %B}\"],[\"deaths OR recovered\",\"@y{0[.]000}\"]]},\"id\":\"1637\",\"type\":\"HoverTool\"},{\"attributes\":{\"days\":[1,2,3,4,5,6,7,8,9,10,11,12,13,14,15,16,17,18,19,20,21,22,23,24,25,26,27,28,29,30,31]},\"id\":\"1583\",\"type\":\"DaysTicker\"},{\"attributes\":{\"data_source\":{\"id\":\"1600\"},\"glyph\":{\"id\":\"1601\"},\"hover_glyph\":null,\"muted_glyph\":null,\"nonselection_glyph\":{\"id\":\"1602\"},\"selection_glyph\":null,\"view\":{\"id\":\"1604\"}},\"id\":\"1603\",\"type\":\"GlyphRenderer\"}],\"root_ids\":[\"1537\"]},\"title\":\"Bokeh Application\",\"version\":\"2.0.2\"}};\n",
       "  var render_items = [{\"docid\":\"02550e92-6111-4330-a1a3-4a0a28d1f338\",\"root_ids\":[\"1537\"],\"roots\":{\"1537\":\"c7479c7a-bb49-4ac6-b213-ce62bc07fde7\"}}];\n",
       "  root.Bokeh.embed.embed_items_notebook(docs_json, render_items);\n",
       "\n",
       "  }\n",
       "  if (root.Bokeh !== undefined) {\n",
       "    embed_document(root);\n",
       "  } else {\n",
       "    var attempts = 0;\n",
       "    var timer = setInterval(function(root) {\n",
       "      if (root.Bokeh !== undefined) {\n",
       "        clearInterval(timer);\n",
       "        embed_document(root);\n",
       "      } else {\n",
       "        attempts++;\n",
       "        if (attempts > 100) {\n",
       "          clearInterval(timer);\n",
       "          console.log(\"Bokeh: ERROR: Unable to run BokehJS code because BokehJS library is missing\");\n",
       "        }\n",
       "      }\n",
       "    }, 10, root)\n",
       "  }\n",
       "})(window);"
      ],
      "application/vnd.bokehjs_exec.v0+json": ""
     },
     "metadata": {
      "application/vnd.bokehjs_exec.v0+json": {
       "id": "1537"
      }
     },
     "output_type": "display_data"
    }
   ],
   "source": [
    "p_deaths_recovered_Friuli = bokeh_plot_N_lines(x=time_date_new, y_list=[deceduti_Friuli,guariti_Friuli], \n",
    "                  title='Deaths & Recovered: Friuli', \n",
    "                  dim=[600, 450], \n",
    "                  x_label='Date', \n",
    "                  y_label='Deaths & Recovered', legend_list=['deaths','recovered'],\n",
    "                  x_label_hover='date', y_label_hover='deaths OR recovered',\n",
    "                  color_list=['darkviolet','green'],legend_location=\"top_left\")\n",
    "\n",
    "output_file(\"deaths_recovered_Friuli.html\")\n",
    "\n",
    "show(p_deaths_recovered_Friuli)"
   ]
  },
  {
   "cell_type": "markdown",
   "metadata": {},
   "source": [
    "------------------\n",
    "\n",
    "### New Positive"
   ]
  },
  {
   "cell_type": "code",
   "execution_count": 20,
   "metadata": {},
   "outputs": [
    {
     "data": {
      "text/plain": [
       "5     0\n",
       "26    0\n",
       "47    0\n",
       "68    0\n",
       "89    0\n",
       "Name: nuovi_positivi, dtype: int64"
      ]
     },
     "execution_count": 20,
     "metadata": {},
     "output_type": "execute_result"
    }
   ],
   "source": [
    "nuovi_positivi_Friuli = df_Friuli['nuovi_positivi']\n",
    "nuovi_positivi_Friuli.head()"
   ]
  },
  {
   "cell_type": "code",
   "execution_count": 21,
   "metadata": {},
   "outputs": [
    {
     "data": {
      "text/html": [
       "<div>\n",
       "<style scoped>\n",
       "    .dataframe tbody tr th:only-of-type {\n",
       "        vertical-align: middle;\n",
       "    }\n",
       "\n",
       "    .dataframe tbody tr th {\n",
       "        vertical-align: top;\n",
       "    }\n",
       "\n",
       "    .dataframe thead th {\n",
       "        text-align: right;\n",
       "    }\n",
       "</style>\n",
       "<table border=\"1\" class=\"dataframe\">\n",
       "  <thead>\n",
       "    <tr style=\"text-align: right;\">\n",
       "      <th></th>\n",
       "      <th>nuovi_positivi</th>\n",
       "    </tr>\n",
       "  </thead>\n",
       "  <tbody>\n",
       "    <tr>\n",
       "      <th>5</th>\n",
       "      <td>NaN</td>\n",
       "    </tr>\n",
       "    <tr>\n",
       "      <th>26</th>\n",
       "      <td>NaN</td>\n",
       "    </tr>\n",
       "    <tr>\n",
       "      <th>47</th>\n",
       "      <td>NaN</td>\n",
       "    </tr>\n",
       "    <tr>\n",
       "      <th>68</th>\n",
       "      <td>NaN</td>\n",
       "    </tr>\n",
       "    <tr>\n",
       "      <th>89</th>\n",
       "      <td>NaN</td>\n",
       "    </tr>\n",
       "  </tbody>\n",
       "</table>\n",
       "</div>"
      ],
      "text/plain": [
       "    nuovi_positivi\n",
       "5              NaN\n",
       "26             NaN\n",
       "47             NaN\n",
       "68             NaN\n",
       "89             NaN"
      ]
     },
     "execution_count": 21,
     "metadata": {},
     "output_type": "execute_result"
    }
   ],
   "source": [
    "new_positive_Friuli_df = pd.DataFrame(nuovi_positivi_Friuli)\n",
    "\n",
    "SMA_new_positive_Friuli = new_positive_Friuli_df[:].rolling(window=7).mean()\n",
    "SMA_new_positive_Friuli_2 = new_positive_Friuli_df[:].rolling(window=14).mean()\n",
    "SMA_new_positive_Friuli.head()"
   ]
  },
  {
   "cell_type": "code",
   "execution_count": 22,
   "metadata": {},
   "outputs": [
    {
     "data": {
      "text/html": [
       "\n",
       "\n",
       "\n",
       "\n",
       "\n",
       "\n",
       "  <div class=\"bk-root\" id=\"5a855cd4-06b1-4cc5-91a6-b2357eccf080\" data-root-id=\"2144\"></div>\n"
      ]
     },
     "metadata": {},
     "output_type": "display_data"
    },
    {
     "data": {
      "application/javascript": [
       "(function(root) {\n",
       "  function embed_document(root) {\n",
       "    \n",
       "  var docs_json = {\"a187c407-896d-47bb-b774-00b335ee98a4\":{\"roots\":{\"references\":[{\"attributes\":{\"below\":[{\"id\":\"2155\"}],\"center\":[{\"id\":\"2158\"},{\"id\":\"2162\"},{\"id\":\"2200\"}],\"left\":[{\"id\":\"2159\"}],\"plot_height\":450,\"renderers\":[{\"id\":\"2180\"},{\"id\":\"2205\"},{\"id\":\"2210\"},{\"id\":\"2238\"}],\"title\":{\"id\":\"2145\"},\"toolbar\":{\"id\":\"2170\"},\"x_range\":{\"id\":\"2147\"},\"x_scale\":{\"id\":\"2151\"},\"y_range\":{\"id\":\"2149\"},\"y_scale\":{\"id\":\"2153\"}},\"id\":\"2144\",\"subtype\":\"Figure\",\"type\":\"Plot\"},{\"attributes\":{},\"id\":\"2147\",\"type\":\"DataRange1d\"},{\"attributes\":{\"source\":{\"id\":\"2177\"}},\"id\":\"2181\",\"type\":\"CDSView\"},{\"attributes\":{\"data_source\":{\"id\":\"2235\"},\"glyph\":{\"id\":\"2236\"},\"hover_glyph\":null,\"muted_glyph\":null,\"nonselection_glyph\":{\"id\":\"2237\"},\"selection_glyph\":null,\"view\":{\"id\":\"2239\"}},\"id\":\"2238\",\"type\":\"GlyphRenderer\"},{\"attributes\":{\"overlay\":{\"id\":\"2169\"}},\"id\":\"2165\",\"type\":\"BoxZoomTool\"},{\"attributes\":{\"active_drag\":\"auto\",\"active_inspect\":\"auto\",\"active_multi\":null,\"active_scroll\":\"auto\",\"active_tap\":\"auto\",\"tools\":[{\"id\":\"2163\"},{\"id\":\"2164\"},{\"id\":\"2165\"},{\"id\":\"2166\"},{\"id\":\"2167\"},{\"id\":\"2168\"},{\"id\":\"2244\"}]},\"id\":\"2170\",\"type\":\"Toolbar\"},{\"attributes\":{},\"id\":\"2151\",\"type\":\"LinearScale\"},{\"attributes\":{},\"id\":\"2166\",\"type\":\"SaveTool\"},{\"attributes\":{},\"id\":\"2317\",\"type\":\"UnionRenderers\"},{\"attributes\":{\"days\":[1,8,15,22]},\"id\":\"2192\",\"type\":\"DaysTicker\"},{\"attributes\":{\"days\":[\"%d %B\"]},\"id\":\"2240\",\"type\":\"DatetimeTickFormatter\"},{\"attributes\":{},\"id\":\"2167\",\"type\":\"ResetTool\"},{\"attributes\":{},\"id\":\"2149\",\"type\":\"DataRange1d\"},{\"attributes\":{\"line_color\":\"lightcoral\",\"line_width\":4,\"x\":{\"field\":\"x\"},\"y\":{\"field\":\"y\"}},\"id\":\"2208\",\"type\":\"Line\"},{\"attributes\":{\"use_scientific\":false},\"id\":\"2242\",\"type\":\"BasicTickFormatter\"},{\"attributes\":{\"data_source\":{\"id\":\"2202\"},\"glyph\":{\"id\":\"2203\"},\"hover_glyph\":null,\"muted_glyph\":null,\"nonselection_glyph\":{\"id\":\"2204\"},\"selection_glyph\":null,\"view\":{\"id\":\"2206\"}},\"id\":\"2205\",\"type\":\"GlyphRenderer\"},{\"attributes\":{},\"id\":\"2168\",\"type\":\"HelpTool\"},{\"attributes\":{\"months\":[0,1,2,3,4,5,6,7,8,9,10,11]},\"id\":\"2194\",\"type\":\"MonthsTicker\"},{\"attributes\":{},\"id\":\"2153\",\"type\":\"LinearScale\"},{\"attributes\":{\"data\":{\"x\":{\"__ndarray__\":\"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\",\"dtype\":\"float64\",\"shape\":[207]},\"y\":{\"__ndarray__\":\"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\",\"dtype\":\"float64\",\"shape\":[207]}},\"selected\":{\"id\":\"2314\"},\"selection_policy\":{\"id\":\"2315\"}},\"id\":\"2207\",\"type\":\"ColumnDataSource\"},{\"attributes\":{\"source\":{\"id\":\"2235\"}},\"id\":\"2239\",\"type\":\"CDSView\"},{\"attributes\":{\"callback\":null,\"formatters\":{\"@x\":\"datetime\"},\"mode\":\"vline\",\"tooltips\":[[\"date\",\"@x{%d %B}\"],[\"new_positive OR SMA 14\",\"@y{0[.]000}\"]]},\"id\":\"2244\",\"type\":\"HoverTool\"},{\"attributes\":{\"fill_alpha\":{\"value\":0.1},\"fill_color\":{\"value\":\"white\"},\"line_alpha\":{\"value\":0.1},\"line_color\":{\"value\":\"blue\"},\"size\":{\"units\":\"screen\",\"value\":5},\"x\":{\"field\":\"x\"},\"y\":{\"field\":\"y\"}},\"id\":\"2204\",\"type\":\"Circle\"},{\"attributes\":{\"base\":60,\"mantissas\":[1,2,5,10,15,20,30],\"max_interval\":1800000.0,\"min_interval\":1000.0,\"num_minor_ticks\":0},\"id\":\"2188\",\"type\":\"AdaptiveTicker\"},{\"attributes\":{\"axis_label\":\"Date\",\"formatter\":{\"id\":\"2240\"},\"major_label_orientation\":0.7853981633974483,\"minor_tick_in\":-5,\"minor_tick_out\":-3,\"ticker\":{\"id\":\"2156\"}},\"id\":\"2155\",\"type\":\"DatetimeAxis\"},{\"attributes\":{\"source\":{\"id\":\"2202\"}},\"id\":\"2206\",\"type\":\"CDSView\"},{\"attributes\":{},\"id\":\"2314\",\"type\":\"Selection\"},{\"attributes\":{},\"id\":\"2160\",\"type\":\"BasicTicker\"},{\"attributes\":{\"num_minor_ticks\":5,\"tickers\":[{\"id\":\"2187\"},{\"id\":\"2188\"},{\"id\":\"2189\"},{\"id\":\"2190\"},{\"id\":\"2191\"},{\"id\":\"2192\"},{\"id\":\"2193\"},{\"id\":\"2194\"},{\"id\":\"2195\"},{\"id\":\"2196\"},{\"id\":\"2197\"},{\"id\":\"2198\"}]},\"id\":\"2156\",\"type\":\"DatetimeTicker\"},{\"attributes\":{\"mantissas\":[1,2,5],\"max_interval\":500.0,\"num_minor_ticks\":0},\"id\":\"2187\",\"type\":\"AdaptiveTicker\"},{\"attributes\":{\"months\":[0,2,4,6,8,10]},\"id\":\"2195\",\"type\":\"MonthsTicker\"},{\"attributes\":{\"data_source\":{\"id\":\"2207\"},\"glyph\":{\"id\":\"2208\"},\"hover_glyph\":null,\"muted_glyph\":null,\"nonselection_glyph\":{\"id\":\"2209\"},\"selection_glyph\":null,\"view\":{\"id\":\"2211\"}},\"id\":\"2210\",\"type\":\"GlyphRenderer\"},{\"attributes\":{\"axis\":{\"id\":\"2155\"},\"ticker\":null},\"id\":\"2158\",\"type\":\"Grid\"},{\"attributes\":{\"days\":[1,2,3,4,5,6,7,8,9,10,11,12,13,14,15,16,17,18,19,20,21,22,23,24,25,26,27,28,29,30,31]},\"id\":\"2190\",\"type\":\"DaysTicker\"},{\"attributes\":{\"axis\":{\"id\":\"2159\"},\"dimension\":1,\"ticker\":null},\"id\":\"2162\",\"type\":\"Grid\"},{\"attributes\":{\"axis_label\":\"New Positive\",\"formatter\":{\"id\":\"2242\"},\"minor_tick_in\":-5,\"minor_tick_out\":-3,\"ticker\":{\"id\":\"2160\"}},\"id\":\"2159\",\"type\":\"LinearAxis\"},{\"attributes\":{\"line_alpha\":0.1,\"line_color\":\"lightcoral\",\"line_width\":4,\"x\":{\"field\":\"x\"},\"y\":{\"field\":\"y\"}},\"id\":\"2209\",\"type\":\"Line\"},{\"attributes\":{\"source\":{\"id\":\"2207\"}},\"id\":\"2211\",\"type\":\"CDSView\"},{\"attributes\":{\"label\":{\"value\":\"new positive\"},\"renderers\":[{\"id\":\"2180\"}]},\"id\":\"2201\",\"type\":\"LegendItem\"},{\"attributes\":{},\"id\":\"2316\",\"type\":\"Selection\"},{\"attributes\":{\"data\":{\"x\":{\"__ndarray__\":\"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\",\"dtype\":\"float64\",\"shape\":[207]},\"y\":[0,0,0,0,0,0,6,3,4,5,3,10,11,15,36,23,10,41,90,44,46,39,8,68,137,57,134,84,56,62,147,84,94,119,44,21,92,92,114,80,107,62,55,50,65,81,50,44,38,51,38,24,72,59,56,14,30,17,25,41,24,21,14,60,18,15,15,16,18,13,4,9,9,13,9,8,6,8,10,8,5,14,8,8,7,5,6,6,12,6,3,4,11,4,7,5,4,2,1,2,0,3,1,3,0,1,0,2,1,3,6,0,0,1,2,2,2,1,1,0,0,0,0,2,0,1,0,0,4,2,4,8,0,0,1,4,1,1,2,0,0,3,1,4,3,4,2,4,2,2,3,5,5,2,0,0,3,13,3,7,10,0,5,9,7,4,6,7,0,3,9,15,8,15,8,5,10,11,14,36,33,24,2,9,33,25,19,20,16,5,17,20,25,23,49,20,11,12,54,39,34,39,45,4,20,29,63]},\"selected\":{\"id\":\"2230\"},\"selection_policy\":{\"id\":\"2231\"}},\"id\":\"2177\",\"type\":\"ColumnDataSource\"},{\"attributes\":{\"months\":[0,6]},\"id\":\"2197\",\"type\":\"MonthsTicker\"},{\"attributes\":{\"base\":24,\"mantissas\":[1,2,4,6,8,12],\"max_interval\":43200000.0,\"min_interval\":3600000.0,\"num_minor_ticks\":0},\"id\":\"2189\",\"type\":\"AdaptiveTicker\"},{\"attributes\":{\"fill_alpha\":{\"value\":0.1},\"fill_color\":{\"value\":\"white\"},\"line_alpha\":{\"value\":0.1},\"line_color\":{\"value\":\"lightcoral\"},\"size\":{\"units\":\"screen\",\"value\":5},\"x\":{\"field\":\"x\"},\"y\":{\"field\":\"y\"}},\"id\":\"2237\",\"type\":\"Circle\"},{\"attributes\":{\"months\":[0,4,8]},\"id\":\"2196\",\"type\":\"MonthsTicker\"},{\"attributes\":{},\"id\":\"2315\",\"type\":\"UnionRenderers\"},{\"attributes\":{\"items\":[{\"id\":\"2201\"},{\"id\":\"2234\"}],\"location\":\"top_left\"},\"id\":\"2200\",\"type\":\"Legend\"},{\"attributes\":{\"label\":{\"value\":\"SMA 14 days\"},\"renderers\":[{\"id\":\"2210\"}]},\"id\":\"2234\",\"type\":\"LegendItem\"},{\"attributes\":{\"data_source\":{\"id\":\"2177\"},\"glyph\":{\"id\":\"2178\"},\"hover_glyph\":null,\"muted_glyph\":null,\"nonselection_glyph\":{\"id\":\"2179\"},\"selection_glyph\":null,\"view\":{\"id\":\"2181\"}},\"id\":\"2180\",\"type\":\"GlyphRenderer\"},{\"attributes\":{\"days\":[1,4,7,10,13,16,19,22,25,28]},\"id\":\"2191\",\"type\":\"DaysTicker\"},{\"attributes\":{},\"id\":\"2232\",\"type\":\"Selection\"},{\"attributes\":{\"line_color\":\"blue\",\"line_width\":4,\"x\":{\"field\":\"x\"},\"y\":{\"field\":\"y\"}},\"id\":\"2178\",\"type\":\"Line\"},{\"attributes\":{\"fill_color\":{\"value\":\"white\"},\"line_color\":{\"value\":\"blue\"},\"size\":{\"units\":\"screen\",\"value\":5},\"x\":{\"field\":\"x\"},\"y\":{\"field\":\"y\"}},\"id\":\"2203\",\"type\":\"Circle\"},{\"attributes\":{\"bottom_units\":\"screen\",\"fill_alpha\":0.5,\"fill_color\":\"lightgrey\",\"left_units\":\"screen\",\"level\":\"overlay\",\"line_alpha\":1.0,\"line_color\":\"black\",\"line_dash\":[4,4],\"line_width\":2,\"render_mode\":\"css\",\"right_units\":\"screen\",\"top_units\":\"screen\"},\"id\":\"2169\",\"type\":\"BoxAnnotation\"},{\"attributes\":{},\"id\":\"2231\",\"type\":\"UnionRenderers\"},{\"attributes\":{\"data\":{\"x\":{\"__ndarray__\":\"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\",\"dtype\":\"float64\",\"shape\":[207]},\"y\":{\"__ndarray__\":\"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\",\"dtype\":\"float64\",\"shape\":[207]}},\"selected\":{\"id\":\"2316\"},\"selection_policy\":{\"id\":\"2317\"}},\"id\":\"2235\",\"type\":\"ColumnDataSource\"},{\"attributes\":{\"days\":[1,15]},\"id\":\"2193\",\"type\":\"DaysTicker\"},{\"attributes\":{},\"id\":\"2163\",\"type\":\"PanTool\"},{\"attributes\":{\"data\":{\"x\":{\"__ndarray__\":\"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\",\"dtype\":\"float64\",\"shape\":[207]},\"y\":[0,0,0,0,0,0,6,3,4,5,3,10,11,15,36,23,10,41,90,44,46,39,8,68,137,57,134,84,56,62,147,84,94,119,44,21,92,92,114,80,107,62,55,50,65,81,50,44,38,51,38,24,72,59,56,14,30,17,25,41,24,21,14,60,18,15,15,16,18,13,4,9,9,13,9,8,6,8,10,8,5,14,8,8,7,5,6,6,12,6,3,4,11,4,7,5,4,2,1,2,0,3,1,3,0,1,0,2,1,3,6,0,0,1,2,2,2,1,1,0,0,0,0,2,0,1,0,0,4,2,4,8,0,0,1,4,1,1,2,0,0,3,1,4,3,4,2,4,2,2,3,5,5,2,0,0,3,13,3,7,10,0,5,9,7,4,6,7,0,3,9,15,8,15,8,5,10,11,14,36,33,24,2,9,33,25,19,20,16,5,17,20,25,23,49,20,11,12,54,39,34,39,45,4,20,29,63]},\"selected\":{\"id\":\"2232\"},\"selection_policy\":{\"id\":\"2233\"}},\"id\":\"2202\",\"type\":\"ColumnDataSource\"},{\"attributes\":{\"fill_color\":{\"value\":\"white\"},\"line_color\":{\"value\":\"lightcoral\"},\"size\":{\"units\":\"screen\",\"value\":5},\"x\":{\"field\":\"x\"},\"y\":{\"field\":\"y\"}},\"id\":\"2236\",\"type\":\"Circle\"},{\"attributes\":{},\"id\":\"2230\",\"type\":\"Selection\"},{\"attributes\":{},\"id\":\"2164\",\"type\":\"WheelZoomTool\"},{\"attributes\":{\"line_alpha\":0.1,\"line_color\":\"blue\",\"line_width\":4,\"x\":{\"field\":\"x\"},\"y\":{\"field\":\"y\"}},\"id\":\"2179\",\"type\":\"Line\"},{\"attributes\":{},\"id\":\"2233\",\"type\":\"UnionRenderers\"},{\"attributes\":{\"text\":\"New Positive: Friuli\"},\"id\":\"2145\",\"type\":\"Title\"},{\"attributes\":{},\"id\":\"2198\",\"type\":\"YearsTicker\"}],\"root_ids\":[\"2144\"]},\"title\":\"Bokeh Application\",\"version\":\"2.0.2\"}};\n",
       "  var render_items = [{\"docid\":\"a187c407-896d-47bb-b774-00b335ee98a4\",\"root_ids\":[\"2144\"],\"roots\":{\"2144\":\"5a855cd4-06b1-4cc5-91a6-b2357eccf080\"}}];\n",
       "  root.Bokeh.embed.embed_items_notebook(docs_json, render_items);\n",
       "\n",
       "  }\n",
       "  if (root.Bokeh !== undefined) {\n",
       "    embed_document(root);\n",
       "  } else {\n",
       "    var attempts = 0;\n",
       "    var timer = setInterval(function(root) {\n",
       "      if (root.Bokeh !== undefined) {\n",
       "        clearInterval(timer);\n",
       "        embed_document(root);\n",
       "      } else {\n",
       "        attempts++;\n",
       "        if (attempts > 100) {\n",
       "          clearInterval(timer);\n",
       "          console.log(\"Bokeh: ERROR: Unable to run BokehJS code because BokehJS library is missing\");\n",
       "        }\n",
       "      }\n",
       "    }, 10, root)\n",
       "  }\n",
       "})(window);"
      ],
      "application/vnd.bokehjs_exec.v0+json": ""
     },
     "metadata": {
      "application/vnd.bokehjs_exec.v0+json": {
       "id": "2144"
      }
     },
     "output_type": "display_data"
    }
   ],
   "source": [
    "p_new_positive_SMA_Friuli = bokeh_plot_N_lines(x=time_date_new, y_list=[nuovi_positivi_Friuli,SMA_new_positive_Friuli_2['nuovi_positivi']], \n",
    "                  title='New Positive: Friuli',\n",
    "                  dim=[600, 450], \n",
    "                  x_label='Date',\n",
    "                  y_label='New Positive', \n",
    "                  legend_list=['new positive','SMA 14 days'],\n",
    "                  x_label_hover='date' , y_label_hover='new_positive OR SMA 14' , \n",
    "                  color_list=['blue','lightcoral'],legend_location=\"top_left\")\n",
    "\n",
    "output_file(\"new_positive_SMA_Friuli.html\")\n",
    "\n",
    "show(p_new_positive_SMA_Friuli)"
   ]
  },
  {
   "cell_type": "markdown",
   "metadata": {},
   "source": [
    "------------------\n",
    "\n",
    "### New Deaths"
   ]
  },
  {
   "cell_type": "code",
   "execution_count": 23,
   "metadata": {},
   "outputs": [],
   "source": [
    "nuovi_deceduti_Friuli = [0]\n",
    "i = 0\n",
    "while (i < len(deceduti_Friuli)-1):\n",
    "#     print(deceduti_italy.iloc[i + 1] - deceduti_italy.iloc[i])\n",
    "    temp = deceduti_Friuli.iloc[i + 1] - deceduti_Friuli.iloc[i]\n",
    "    nuovi_deceduti_Friuli.append(temp)\n",
    "    i = i + 1"
   ]
  },
  {
   "cell_type": "code",
   "execution_count": 24,
   "metadata": {},
   "outputs": [
    {
     "data": {
      "text/html": [
       "<div>\n",
       "<style scoped>\n",
       "    .dataframe tbody tr th:only-of-type {\n",
       "        vertical-align: middle;\n",
       "    }\n",
       "\n",
       "    .dataframe tbody tr th {\n",
       "        vertical-align: top;\n",
       "    }\n",
       "\n",
       "    .dataframe thead th {\n",
       "        text-align: right;\n",
       "    }\n",
       "</style>\n",
       "<table border=\"1\" class=\"dataframe\">\n",
       "  <thead>\n",
       "    <tr style=\"text-align: right;\">\n",
       "      <th></th>\n",
       "      <th>0</th>\n",
       "    </tr>\n",
       "  </thead>\n",
       "  <tbody>\n",
       "    <tr>\n",
       "      <th>0</th>\n",
       "      <td>NaN</td>\n",
       "    </tr>\n",
       "    <tr>\n",
       "      <th>1</th>\n",
       "      <td>NaN</td>\n",
       "    </tr>\n",
       "    <tr>\n",
       "      <th>2</th>\n",
       "      <td>NaN</td>\n",
       "    </tr>\n",
       "    <tr>\n",
       "      <th>3</th>\n",
       "      <td>NaN</td>\n",
       "    </tr>\n",
       "    <tr>\n",
       "      <th>4</th>\n",
       "      <td>NaN</td>\n",
       "    </tr>\n",
       "  </tbody>\n",
       "</table>\n",
       "</div>"
      ],
      "text/plain": [
       "    0\n",
       "0 NaN\n",
       "1 NaN\n",
       "2 NaN\n",
       "3 NaN\n",
       "4 NaN"
      ]
     },
     "execution_count": 24,
     "metadata": {},
     "output_type": "execute_result"
    }
   ],
   "source": [
    "nuovi_deceduti_Friuli_df = pd.DataFrame(nuovi_deceduti_Friuli)\n",
    "\n",
    "SMA_new_deaths_Friuli = nuovi_deceduti_Friuli_df[:].rolling(window=7).mean()\n",
    "SMA_new_deaths_Friuli_2 = nuovi_deceduti_Friuli_df[:].rolling(window=14).mean()\n",
    "SMA_new_deaths_Friuli.head()"
   ]
  },
  {
   "cell_type": "code",
   "execution_count": 25,
   "metadata": {},
   "outputs": [
    {
     "data": {
      "text/html": [
       "\n",
       "\n",
       "\n",
       "\n",
       "\n",
       "\n",
       "  <div class=\"bk-root\" id=\"9984582d-ba73-468f-b204-f14d69e3969e\" data-root-id=\"2775\"></div>\n"
      ]
     },
     "metadata": {},
     "output_type": "display_data"
    },
    {
     "data": {
      "application/javascript": [
       "(function(root) {\n",
       "  function embed_document(root) {\n",
       "    \n",
       "  var docs_json = {\"f12cf24b-ed8a-49c7-be19-4fd80c1753a4\":{\"roots\":{\"references\":[{\"attributes\":{\"below\":[{\"id\":\"2786\"}],\"center\":[{\"id\":\"2789\"},{\"id\":\"2793\"},{\"id\":\"2831\"}],\"left\":[{\"id\":\"2790\"}],\"plot_height\":450,\"renderers\":[{\"id\":\"2811\"},{\"id\":\"2836\"},{\"id\":\"2841\"},{\"id\":\"2869\"}],\"title\":{\"id\":\"2776\"},\"toolbar\":{\"id\":\"2801\"},\"x_range\":{\"id\":\"2778\"},\"x_scale\":{\"id\":\"2782\"},\"y_range\":{\"id\":\"2780\"},\"y_scale\":{\"id\":\"2784\"}},\"id\":\"2775\",\"subtype\":\"Figure\",\"type\":\"Plot\"},{\"attributes\":{\"num_minor_ticks\":5,\"tickers\":[{\"id\":\"2818\"},{\"id\":\"2819\"},{\"id\":\"2820\"},{\"id\":\"2821\"},{\"id\":\"2822\"},{\"id\":\"2823\"},{\"id\":\"2824\"},{\"id\":\"2825\"},{\"id\":\"2826\"},{\"id\":\"2827\"},{\"id\":\"2828\"},{\"id\":\"2829\"}]},\"id\":\"2787\",\"type\":\"DatetimeTicker\"},{\"attributes\":{\"active_drag\":\"auto\",\"active_inspect\":\"auto\",\"active_multi\":null,\"active_scroll\":\"auto\",\"active_tap\":\"auto\",\"tools\":[{\"id\":\"2794\"},{\"id\":\"2795\"},{\"id\":\"2796\"},{\"id\":\"2797\"},{\"id\":\"2798\"},{\"id\":\"2799\"},{\"id\":\"2875\"}]},\"id\":\"2801\",\"type\":\"Toolbar\"},{\"attributes\":{\"line_alpha\":0.1,\"line_color\":\"lightgreen\",\"line_width\":4,\"x\":{\"field\":\"x\"},\"y\":{\"field\":\"y\"}},\"id\":\"2840\",\"type\":\"Line\"},{\"attributes\":{},\"id\":\"2969\",\"type\":\"Selection\"},{\"attributes\":{\"days\":[\"%d %B\"]},\"id\":\"2871\",\"type\":\"DatetimeTickFormatter\"},{\"attributes\":{\"axis\":{\"id\":\"2790\"},\"dimension\":1,\"ticker\":null},\"id\":\"2793\",\"type\":\"Grid\"},{\"attributes\":{\"days\":[1,8,15,22]},\"id\":\"2823\",\"type\":\"DaysTicker\"},{\"attributes\":{},\"id\":\"2861\",\"type\":\"Selection\"},{\"attributes\":{},\"id\":\"2782\",\"type\":\"LinearScale\"},{\"attributes\":{\"base\":24,\"mantissas\":[1,2,4,6,8,12],\"max_interval\":43200000.0,\"min_interval\":3600000.0,\"num_minor_ticks\":0},\"id\":\"2820\",\"type\":\"AdaptiveTicker\"},{\"attributes\":{\"days\":[1,15]},\"id\":\"2824\",\"type\":\"DaysTicker\"},{\"attributes\":{\"data_source\":{\"id\":\"2833\"},\"glyph\":{\"id\":\"2834\"},\"hover_glyph\":null,\"muted_glyph\":null,\"nonselection_glyph\":{\"id\":\"2835\"},\"selection_glyph\":null,\"view\":{\"id\":\"2837\"}},\"id\":\"2836\",\"type\":\"GlyphRenderer\"},{\"attributes\":{\"axis\":{\"id\":\"2786\"},\"ticker\":null},\"id\":\"2789\",\"type\":\"Grid\"},{\"attributes\":{\"source\":{\"id\":\"2808\"}},\"id\":\"2812\",\"type\":\"CDSView\"},{\"attributes\":{\"line_alpha\":0.1,\"line_color\":\"darkviolet\",\"line_width\":4,\"x\":{\"field\":\"x\"},\"y\":{\"field\":\"y\"}},\"id\":\"2810\",\"type\":\"Line\"},{\"attributes\":{\"line_color\":\"lightgreen\",\"line_width\":4,\"x\":{\"field\":\"x\"},\"y\":{\"field\":\"y\"}},\"id\":\"2839\",\"type\":\"Line\"},{\"attributes\":{\"source\":{\"id\":\"2866\"}},\"id\":\"2870\",\"type\":\"CDSView\"},{\"attributes\":{\"overlay\":{\"id\":\"2800\"}},\"id\":\"2796\",\"type\":\"BoxZoomTool\"},{\"attributes\":{\"fill_alpha\":{\"value\":0.1},\"fill_color\":{\"value\":\"white\"},\"line_alpha\":{\"value\":0.1},\"line_color\":{\"value\":\"lightgreen\"},\"size\":{\"units\":\"screen\",\"value\":5},\"x\":{\"field\":\"x\"},\"y\":{\"field\":\"y\"}},\"id\":\"2868\",\"type\":\"Circle\"},{\"attributes\":{},\"id\":\"2829\",\"type\":\"YearsTicker\"},{\"attributes\":{},\"id\":\"2971\",\"type\":\"Selection\"},{\"attributes\":{},\"id\":\"2780\",\"type\":\"DataRange1d\"},{\"attributes\":{\"data\":{\"x\":{\"__ndarray__\":\"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\",\"dtype\":\"float64\",\"shape\":[207]},\"y\":[0,0,0,0,0,0,0,0,0,0,0,0,0,1,0,2,3,2,2,3,1,8,8,1,5,2,4,5,7,10,6,2,4,11,11,9,6,9,7,7,9,9,4,6,5,2,8,6,10,7,4,6,5,3,2,3,14,2,5,10,2,5,1,7,7,7,4,5,1,2,2,4,3,2,0,0,2,2,1,3,1,1,1,0,1,0,2,1,2,2,2,0,0,2,2,0,0,0,2,1,0,0,2,0,1,1,0,1,1,0,1,0,0,0,0,0,0,1,0,0,0,0,1,0,0,0,0,0,0,0,0,0,0,0,0,0,0,0,0,0,0,0,0,0,0,0,0,0,0,0,0,0,0,0,0,0,0,0,0,0,0,1,0,0,0,0,0,0,1,1,0,0,0,0,0,0,0,0,0,0,0,0,0,0,0,0,0,0,0,0,0,1,0,0,0,0,0,0,0,0,0,0,0,0,0,0,0]},\"selected\":{\"id\":\"2863\"},\"selection_policy\":{\"id\":\"2864\"}},\"id\":\"2833\",\"type\":\"ColumnDataSource\"},{\"attributes\":{},\"id\":\"2794\",\"type\":\"PanTool\"},{\"attributes\":{},\"id\":\"2864\",\"type\":\"UnionRenderers\"},{\"attributes\":{\"data_source\":{\"id\":\"2838\"},\"glyph\":{\"id\":\"2839\"},\"hover_glyph\":null,\"muted_glyph\":null,\"nonselection_glyph\":{\"id\":\"2840\"},\"selection_glyph\":null,\"view\":{\"id\":\"2842\"}},\"id\":\"2841\",\"type\":\"GlyphRenderer\"},{\"attributes\":{\"days\":[1,4,7,10,13,16,19,22,25,28]},\"id\":\"2822\",\"type\":\"DaysTicker\"},{\"attributes\":{\"mantissas\":[1,2,5],\"max_interval\":500.0,\"num_minor_ticks\":0},\"id\":\"2818\",\"type\":\"AdaptiveTicker\"},{\"attributes\":{\"months\":[0,6]},\"id\":\"2828\",\"type\":\"MonthsTicker\"},{\"attributes\":{\"months\":[0,2,4,6,8,10]},\"id\":\"2826\",\"type\":\"MonthsTicker\"},{\"attributes\":{},\"id\":\"2795\",\"type\":\"WheelZoomTool\"},{\"attributes\":{\"callback\":null,\"formatters\":{\"@x\":\"datetime\"},\"mode\":\"vline\",\"tooltips\":[[\"date\",\"@x{%d %B}\"],[\"new_deaths OR SMA 14\",\"@y{0[.]000}\"]]},\"id\":\"2875\",\"type\":\"HoverTool\"},{\"attributes\":{\"label\":{\"value\":\"SMA 14 days\"},\"renderers\":[{\"id\":\"2841\"}]},\"id\":\"2865\",\"type\":\"LegendItem\"},{\"attributes\":{\"days\":[1,2,3,4,5,6,7,8,9,10,11,12,13,14,15,16,17,18,19,20,21,22,23,24,25,26,27,28,29,30,31]},\"id\":\"2821\",\"type\":\"DaysTicker\"},{\"attributes\":{\"text\":\"New Deaths: Friuli\"},\"id\":\"2776\",\"type\":\"Title\"},{\"attributes\":{\"data\":{\"x\":{\"__ndarray__\":\"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\",\"dtype\":\"float64\",\"shape\":[207]},\"y\":{\"__ndarray__\":\"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\",\"dtype\":\"float64\",\"shape\":[207]}},\"selected\":{\"id\":\"2971\"},\"selection_policy\":{\"id\":\"2972\"}},\"id\":\"2866\",\"type\":\"ColumnDataSource\"},{\"attributes\":{\"months\":[0,4,8]},\"id\":\"2827\",\"type\":\"MonthsTicker\"},{\"attributes\":{},\"id\":\"2797\",\"type\":\"SaveTool\"},{\"attributes\":{},\"id\":\"2791\",\"type\":\"BasicTicker\"},{\"attributes\":{\"data\":{\"x\":{\"__ndarray__\":\"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\",\"dtype\":\"float64\",\"shape\":[207]},\"y\":{\"__ndarray__\":\"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\",\"dtype\":\"float64\",\"shape\":[207]}},\"selected\":{\"id\":\"2969\"},\"selection_policy\":{\"id\":\"2970\"}},\"id\":\"2838\",\"type\":\"ColumnDataSource\"},{\"attributes\":{},\"id\":\"2972\",\"type\":\"UnionRenderers\"},{\"attributes\":{\"source\":{\"id\":\"2833\"}},\"id\":\"2837\",\"type\":\"CDSView\"},{\"attributes\":{\"months\":[0,1,2,3,4,5,6,7,8,9,10,11]},\"id\":\"2825\",\"type\":\"MonthsTicker\"},{\"attributes\":{\"line_color\":\"darkviolet\",\"line_width\":4,\"x\":{\"field\":\"x\"},\"y\":{\"field\":\"y\"}},\"id\":\"2809\",\"type\":\"Line\"},{\"attributes\":{\"bottom_units\":\"screen\",\"fill_alpha\":0.5,\"fill_color\":\"lightgrey\",\"left_units\":\"screen\",\"level\":\"overlay\",\"line_alpha\":1.0,\"line_color\":\"black\",\"line_dash\":[4,4],\"line_width\":2,\"render_mode\":\"css\",\"right_units\":\"screen\",\"top_units\":\"screen\"},\"id\":\"2800\",\"type\":\"BoxAnnotation\"},{\"attributes\":{},\"id\":\"2863\",\"type\":\"Selection\"},{\"attributes\":{},\"id\":\"2778\",\"type\":\"DataRange1d\"},{\"attributes\":{\"data_source\":{\"id\":\"2808\"},\"glyph\":{\"id\":\"2809\"},\"hover_glyph\":null,\"muted_glyph\":null,\"nonselection_glyph\":{\"id\":\"2810\"},\"selection_glyph\":null,\"view\":{\"id\":\"2812\"}},\"id\":\"2811\",\"type\":\"GlyphRenderer\"},{\"attributes\":{\"fill_color\":{\"value\":\"white\"},\"line_color\":{\"value\":\"darkviolet\"},\"size\":{\"units\":\"screen\",\"value\":5},\"x\":{\"field\":\"x\"},\"y\":{\"field\":\"y\"}},\"id\":\"2834\",\"type\":\"Circle\"},{\"attributes\":{\"label\":{\"value\":\"new deaths\"},\"renderers\":[{\"id\":\"2811\"}]},\"id\":\"2832\",\"type\":\"LegendItem\"},{\"attributes\":{\"axis_label\":\"Date\",\"formatter\":{\"id\":\"2871\"},\"major_label_orientation\":0.7853981633974483,\"minor_tick_in\":-5,\"minor_tick_out\":-3,\"ticker\":{\"id\":\"2787\"}},\"id\":\"2786\",\"type\":\"DatetimeAxis\"},{\"attributes\":{\"use_scientific\":false},\"id\":\"2873\",\"type\":\"BasicTickFormatter\"},{\"attributes\":{},\"id\":\"2784\",\"type\":\"LinearScale\"},{\"attributes\":{\"source\":{\"id\":\"2838\"}},\"id\":\"2842\",\"type\":\"CDSView\"},{\"attributes\":{\"data\":{\"x\":{\"__ndarray__\":\"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\",\"dtype\":\"float64\",\"shape\":[207]},\"y\":[0,0,0,0,0,0,0,0,0,0,0,0,0,1,0,2,3,2,2,3,1,8,8,1,5,2,4,5,7,10,6,2,4,11,11,9,6,9,7,7,9,9,4,6,5,2,8,6,10,7,4,6,5,3,2,3,14,2,5,10,2,5,1,7,7,7,4,5,1,2,2,4,3,2,0,0,2,2,1,3,1,1,1,0,1,0,2,1,2,2,2,0,0,2,2,0,0,0,2,1,0,0,2,0,1,1,0,1,1,0,1,0,0,0,0,0,0,1,0,0,0,0,1,0,0,0,0,0,0,0,0,0,0,0,0,0,0,0,0,0,0,0,0,0,0,0,0,0,0,0,0,0,0,0,0,0,0,0,0,0,0,1,0,0,0,0,0,0,1,1,0,0,0,0,0,0,0,0,0,0,0,0,0,0,0,0,0,0,0,0,0,1,0,0,0,0,0,0,0,0,0,0,0,0,0,0,0]},\"selected\":{\"id\":\"2861\"},\"selection_policy\":{\"id\":\"2862\"}},\"id\":\"2808\",\"type\":\"ColumnDataSource\"},{\"attributes\":{},\"id\":\"2798\",\"type\":\"ResetTool\"},{\"attributes\":{},\"id\":\"2799\",\"type\":\"HelpTool\"},{\"attributes\":{\"data_source\":{\"id\":\"2866\"},\"glyph\":{\"id\":\"2867\"},\"hover_glyph\":null,\"muted_glyph\":null,\"nonselection_glyph\":{\"id\":\"2868\"},\"selection_glyph\":null,\"view\":{\"id\":\"2870\"}},\"id\":\"2869\",\"type\":\"GlyphRenderer\"},{\"attributes\":{\"items\":[{\"id\":\"2832\"},{\"id\":\"2865\"}],\"location\":\"top_left\"},\"id\":\"2831\",\"type\":\"Legend\"},{\"attributes\":{\"fill_alpha\":{\"value\":0.1},\"fill_color\":{\"value\":\"white\"},\"line_alpha\":{\"value\":0.1},\"line_color\":{\"value\":\"darkviolet\"},\"size\":{\"units\":\"screen\",\"value\":5},\"x\":{\"field\":\"x\"},\"y\":{\"field\":\"y\"}},\"id\":\"2835\",\"type\":\"Circle\"},{\"attributes\":{},\"id\":\"2862\",\"type\":\"UnionRenderers\"},{\"attributes\":{\"fill_color\":{\"value\":\"white\"},\"line_color\":{\"value\":\"lightgreen\"},\"size\":{\"units\":\"screen\",\"value\":5},\"x\":{\"field\":\"x\"},\"y\":{\"field\":\"y\"}},\"id\":\"2867\",\"type\":\"Circle\"},{\"attributes\":{},\"id\":\"2970\",\"type\":\"UnionRenderers\"},{\"attributes\":{\"axis_label\":\"New Deaths\",\"formatter\":{\"id\":\"2873\"},\"minor_tick_in\":-5,\"minor_tick_out\":-3,\"ticker\":{\"id\":\"2791\"}},\"id\":\"2790\",\"type\":\"LinearAxis\"},{\"attributes\":{\"base\":60,\"mantissas\":[1,2,5,10,15,20,30],\"max_interval\":1800000.0,\"min_interval\":1000.0,\"num_minor_ticks\":0},\"id\":\"2819\",\"type\":\"AdaptiveTicker\"}],\"root_ids\":[\"2775\"]},\"title\":\"Bokeh Application\",\"version\":\"2.0.2\"}};\n",
       "  var render_items = [{\"docid\":\"f12cf24b-ed8a-49c7-be19-4fd80c1753a4\",\"root_ids\":[\"2775\"],\"roots\":{\"2775\":\"9984582d-ba73-468f-b204-f14d69e3969e\"}}];\n",
       "  root.Bokeh.embed.embed_items_notebook(docs_json, render_items);\n",
       "\n",
       "  }\n",
       "  if (root.Bokeh !== undefined) {\n",
       "    embed_document(root);\n",
       "  } else {\n",
       "    var attempts = 0;\n",
       "    var timer = setInterval(function(root) {\n",
       "      if (root.Bokeh !== undefined) {\n",
       "        clearInterval(timer);\n",
       "        embed_document(root);\n",
       "      } else {\n",
       "        attempts++;\n",
       "        if (attempts > 100) {\n",
       "          clearInterval(timer);\n",
       "          console.log(\"Bokeh: ERROR: Unable to run BokehJS code because BokehJS library is missing\");\n",
       "        }\n",
       "      }\n",
       "    }, 10, root)\n",
       "  }\n",
       "})(window);"
      ],
      "application/vnd.bokehjs_exec.v0+json": ""
     },
     "metadata": {
      "application/vnd.bokehjs_exec.v0+json": {
       "id": "2775"
      }
     },
     "output_type": "display_data"
    }
   ],
   "source": [
    "p_new_deaths_SMA_Friuli = bokeh_plot_N_lines(x=time_date_new, y_list=[nuovi_deceduti_Friuli,SMA_new_deaths_Friuli_2[0]], \n",
    "                  title='New Deaths: Friuli',\n",
    "                  dim=[600, 450], \n",
    "                  x_label='Date',\n",
    "                  y_label='New Deaths', \n",
    "                  legend_list=['new deaths','SMA 14 days'],\n",
    "                  x_label_hover='date' , y_label_hover='new_deaths OR SMA 14' , \n",
    "                  color_list=['darkviolet','lightgreen'],legend_location=\"top_left\")\n",
    "\n",
    "output_file(\"new_deaths_SMA_Friuli.html\")\n",
    "\n",
    "show(p_new_deaths_SMA_Friuli)"
   ]
  },
  {
   "cell_type": "markdown",
   "metadata": {},
   "source": [
    "----------------\n",
    "\n",
    "----------------"
   ]
  },
  {
   "cell_type": "code",
   "execution_count": 26,
   "metadata": {},
   "outputs": [],
   "source": [
    "s1_grid_Friuli = bokeh_plot_N_lines(x=time_date_new, y_list=[total_cases_Friuli,total_positive_Friuli], \n",
    "                  title='Total Cases & Total Positive: Friuli', \n",
    "                  dim=[470, 350], \n",
    "                  x_label='Date', \n",
    "                  y_label='Total Cases & Total Positive', legend_list=['total cases','total positive'],\n",
    "                  x_label_hover='date', y_label_hover='total cases OR total positive',\n",
    "                  color_list=['blue','red'],legend_location=\"top_left\")\n",
    "\n",
    "s2_grid_Friuli = bokeh_plot_N_lines(x=time_date_new, y_list=[deceduti_Friuli,guariti_Friuli], \n",
    "                  title='Deaths & Recovered: Friuli', \n",
    "                  dim=[470, 350], \n",
    "                  x_label='Date', \n",
    "                  y_label='Deaths & Recovered', legend_list=['deaths','recovered'],\n",
    "                  x_label_hover='date', y_label_hover='deaths OR recovered',\n",
    "                  color_list=['darkviolet','green'],legend_location=\"top_left\")\n",
    "\n",
    "\n",
    "s3_grid_Friuli = bokeh_plot_N_lines(x=time_date_new, y_list=[nuovi_positivi_Friuli,SMA_new_positive_Friuli_2['nuovi_positivi']], \n",
    "                  title='New Positive: Friuli',\n",
    "                  dim=[470, 350], \n",
    "                  x_label='Date',\n",
    "                  y_label='New Positive', \n",
    "                  legend_list=['new positive','SMA 14 days'],\n",
    "                  x_label_hover='date' , y_label_hover='new_positive OR SMA 14' , \n",
    "                  color_list=['blue','lightcoral'],legend_location=\"top_left\")\n",
    "\n",
    "s4_grid_Friuli = bokeh_plot_N_lines(x=time_date_new, y_list=[nuovi_deceduti_Friuli,SMA_new_deaths_Friuli_2[0]], \n",
    "                  title='New Deaths: Friuli',\n",
    "                  dim=[470, 350], \n",
    "                  x_label='Date',\n",
    "                  y_label='New Deaths', \n",
    "                  legend_list=['new deaths','SMA 14 days'],\n",
    "                  x_label_hover='date' , y_label_hover='new_deaths OR SMA 14' , \n",
    "                  color_list=['darkviolet','lightgreen'],legend_location=\"top_left\")"
   ]
  },
  {
   "cell_type": "code",
   "execution_count": 27,
   "metadata": {},
   "outputs": [
    {
     "data": {
      "text/html": [
       "\n",
       "\n",
       "\n",
       "\n",
       "\n",
       "\n",
       "  <div class=\"bk-root\" id=\"13ebf5d2-8d79-48b6-91e0-c7476359b126\" data-root-id=\"3941\"></div>\n"
      ]
     },
     "metadata": {},
     "output_type": "display_data"
    },
    {
     "data": {
      "application/javascript": [
       "(function(root) {\n",
       "  function embed_document(root) {\n",
       "    \n",
       "  var docs_json = {\"243aac75-4d78-4186-8c1e-3b264b99ddb9\":{\"roots\":{\"references\":[{\"attributes\":{\"children\":[{\"id\":\"3940\"},{\"id\":\"3938\"}]},\"id\":\"3941\",\"type\":\"Column\"},{\"attributes\":{\"data\":{\"x\":{\"__ndarray__\":\"AAAA5UcHd0IAAMBKmgd3QgAAgLDsB3dCAABAFj8Id0IAAAB8kQh3QgAAwOHjCHdCAACARzYJd0IAAECtiAl3QgAAABPbCXdCAADAeC0Kd0IAAIDefwp3QgAAQETSCndCAAAAqiQLd0IAAMAPdwt3QgAAgHXJC3dCAABA2xsMd0IAAABBbgx3QgAAwKbADHdCAACADBMNd0IAAEByZQ13QgAAANi3DXdCAADAPQoOd0IAAICjXA53QgAAQAmvDndCAAAAbwEPd0IAAMDUUw93QgAAgDqmD3dCAABAoPgPd0IAAAAGSxB3QgAAwGudEHdCAACA0e8Qd0IAAEA3QhF3QgAAAJ2UEXdCAADAAucRd0IAAIBoORJ3QgAAQM6LEndCAAAANN4Sd0IAAMCZMBN3QgAAgP+CE3dCAABAZdUTd0IAAADLJxR3QgAAwDB6FHdCAACAlswUd0IAAED8HhV3QgAAAGJxFXdCAADAx8MVd0IAAIAtFhZ3QgAAQJNoFndCAAAA+boWd0IAAMBeDRd3QgAAgMRfF3dCAABAKrIXd0IAAACQBBh3QgAAwPVWGHdCAACAW6kYd0IAAEDB+xh3QgAAACdOGXdCAADAjKAZd0IAAIDy8hl3QgAAQFhFGndCAAAAvpcad0IAAMAj6hp3QgAAgIk8G3dCAABA744bd0IAAABV4Rt3QgAAwLozHHdCAACAIIYcd0IAAECG2Bx3QgAAAOwqHXdCAADAUX0dd0IAAIC3zx13QgAAQB0iHndCAAAAg3Qed0IAAMDoxh53QgAAgE4ZH3dCAABAtGsfd0IAAAAavh93QgAAwH8QIHdCAACA5WIgd0IAAEBLtSB3QgAAALEHIXdCAADAFlohd0IAAIB8rCF3QgAAQOL+IXdCAAAASFEid0IAAMCtoyJ3QgAAgBP2IndCAABAeUgjd0IAAADfmiN3QgAAwETtI3dCAACAqj8kd0IAAEAQkiR3QgAAAHbkJHdCAADA2zYld0IAAIBBiSV3QgAAQKfbJXdCAAAADS4md0IAAMBygCZ3QgAAgNjSJndCAABAPiUnd0IAAACkdyd3QgAAwAnKJ3dCAACAbxwod0IAAEDVbih3QgAAADvBKHdCAADAoBMpd0IAAIAGZil3QgAAQGy4KXdCAAAA0goqd0IAAMA3XSp3QgAAgJ2vKndCAABAAwIrd0IAAABpVCt3QgAAwM6mK3dCAACANPkrd0IAAECaSyx3QgAAAACeLHdCAADAZfAsd0IAAIDLQi13QgAAQDGVLXdCAAAAl+ctd0IAAMD8OS53QgAAgGKMLndCAABAyN4ud0IAAAAuMS93QgAAwJODL3dCAACA+dUvd0IAAEBfKDB3QgAAAMV6MHdCAADAKs0wd0IAAICQHzF3QgAAQPZxMXdCAAAAXMQxd0IAAMDBFjJ3QgAAgCdpMndCAABAjbsyd0IAAADzDTN3QgAAwFhgM3dCAACAvrIzd0IAAEAkBTR3QgAAAIpXNHdCAADA76k0d0IAAIBV/DR3QgAAQLtONXdCAAAAIaE1d0IAAMCG8zV3QgAAgOxFNndCAABAUpg2d0IAAAC46jZ3QgAAwB09N3dCAACAg483d0IAAEDp4Td3QgAAAE80OHdCAADAtIY4d0IAAIAa2Th3QgAAQIArOXdCAAAA5n05d0IAAMBL0Dl3QgAAgLEiOndCAABAF3U6d0IAAAB9xzp3QgAAwOIZO3dCAACASGw7d0IAAECuvjt3QgAAABQRPHdCAADAeWM8d0IAAIDftTx3QgAAQEUIPXdCAAAAq1o9d0IAAMAQrT13QgAAgHb/PXdCAABA3FE+d0IAAABCpD53QgAAwKf2PndCAACADUk/d0IAAEBzmz93QgAAANntP3dCAADAPkBAd0IAAICkkkB3QgAAQArlQHdCAAAAcDdBd0IAAMDViUF3QgAAgDvcQXdCAABAoS5Cd0IAAAAHgUJ3QgAAwGzTQndCAACA0iVDd0IAAEA4eEN3QgAAAJ7KQ3dCAADAAx1Ed0IAAIBpb0R3QgAAQM/BRHdCAAAANRRFd0IAAMCaZkV3QgAAgAC5RXdCAABAZgtGd0IAAADMXUZ3QgAAwDGwRndCAACAlwJHd0IAAED9VEd3QgAAAGOnR3dCAADAyPlHd0IAAIAuTEh3QgAAQJSeSHdCAAAA+vBId0IAAMBfQ0l3QgAAgMWVSXdC\",\"dtype\":\"float64\",\"shape\":[207]},\"y\":[0,0,0,0,0,0,6,9,13,18,21,31,42,57,93,116,126,167,257,301,347,386,394,462,599,656,790,874,930,992,1139,1223,1317,1436,1480,1501,1593,1685,1799,1879,1986,2048,2103,2153,2218,2299,2349,2393,2431,2482,2520,2544,2616,2675,2731,2745,2775,2792,2817,2858,2882,2903,2917,2977,2995,3010,3025,3041,3059,3072,3076,3085,3094,3107,3116,3124,3130,3138,3148,3156,3161,3175,3183,3191,3198,3203,3209,3215,3227,3233,3236,3240,3251,3255,3262,3267,3271,3273,3274,3276,3276,3279,3280,3283,3283,3284,3284,3286,3287,3290,3296,3296,3296,3297,3299,3301,3303,3304,3305,3305,3305,3305,3305,3307,3307,3308,3308,3308,3312,3314,3318,3326,3326,3326,3327,3331,3332,3333,3335,3335,3335,3338,3339,3343,3346,3350,3352,3356,3358,3360,3363,3368,3373,3375,3375,3375,3378,3391,3394,3401,3411,3411,3416,3425,3432,3436,3442,3449,3449,3452,3461,3476,3484,3499,3507,3512,3522,3533,3547,3583,3616,3640,3642,3651,3684,3709,3728,3748,3764,3769,3786,3806,3831,3854,3903,3923,3934,3946,4000,4039,4073,4112,4157,4161,4181,4210,4273]},\"selected\":{\"id\":\"3516\"},\"selection_policy\":{\"id\":\"3517\"}},\"id\":\"3463\",\"type\":\"ColumnDataSource\"},{\"attributes\":{\"toolbar\":{\"id\":\"3939\"},\"toolbar_location\":\"above\"},\"id\":\"3940\",\"type\":\"ToolbarBox\"},{\"attributes\":{\"days\":[1,8,15,22]},\"id\":\"3682\",\"type\":\"DaysTicker\"},{\"attributes\":{},\"id\":\"3933\",\"type\":\"Selection\"},{\"attributes\":{},\"id\":\"3935\",\"type\":\"Selection\"},{\"attributes\":{\"days\":[1,15]},\"id\":\"3683\",\"type\":\"DaysTicker\"},{\"attributes\":{},\"id\":\"3886\",\"type\":\"UnionRenderers\"},{\"attributes\":{\"months\":[0,1,2,3,4,5,6,7,8,9,10,11]},\"id\":\"3684\",\"type\":\"MonthsTicker\"},{\"attributes\":{},\"id\":\"3909\",\"type\":\"UnionRenderers\"},{\"attributes\":{\"months\":[0,2,4,6,8,10]},\"id\":\"3685\",\"type\":\"MonthsTicker\"},{\"attributes\":{\"below\":[{\"id\":\"3543\"}],\"center\":[{\"id\":\"3546\"},{\"id\":\"3550\"},{\"id\":\"3588\"}],\"left\":[{\"id\":\"3547\"}],\"plot_height\":350,\"plot_width\":470,\"renderers\":[{\"id\":\"3568\"},{\"id\":\"3593\"},{\"id\":\"3598\"},{\"id\":\"3626\"}],\"title\":{\"id\":\"3533\"},\"toolbar\":{\"id\":\"3558\"},\"toolbar_location\":null,\"x_range\":{\"id\":\"3535\"},\"x_scale\":{\"id\":\"3539\"},\"y_range\":{\"id\":\"3537\"},\"y_scale\":{\"id\":\"3541\"}},\"id\":\"3532\",\"subtype\":\"Figure\",\"type\":\"Plot\"},{\"attributes\":{\"below\":[{\"id\":\"3441\"}],\"center\":[{\"id\":\"3444\"},{\"id\":\"3448\"},{\"id\":\"3486\"}],\"left\":[{\"id\":\"3445\"}],\"plot_height\":350,\"plot_width\":470,\"renderers\":[{\"id\":\"3466\"},{\"id\":\"3491\"},{\"id\":\"3496\"},{\"id\":\"3524\"}],\"title\":{\"id\":\"3431\"},\"toolbar\":{\"id\":\"3456\"},\"toolbar_location\":null,\"x_range\":{\"id\":\"3433\"},\"x_scale\":{\"id\":\"3437\"},\"y_range\":{\"id\":\"3435\"},\"y_scale\":{\"id\":\"3439\"}},\"id\":\"3430\",\"subtype\":\"Figure\",\"type\":\"Plot\"},{\"attributes\":{\"months\":[0,4,8]},\"id\":\"3686\",\"type\":\"MonthsTicker\"},{\"attributes\":{\"months\":[0,6]},\"id\":\"3687\",\"type\":\"MonthsTicker\"},{\"attributes\":{\"text\":\"Total Cases & Total Positive: Friuli\"},\"id\":\"3431\",\"type\":\"Title\"},{\"attributes\":{},\"id\":\"3688\",\"type\":\"YearsTicker\"},{\"attributes\":{},\"id\":\"3433\",\"type\":\"DataRange1d\"},{\"attributes\":{\"line_color\":\"lightcoral\",\"line_width\":4,\"x\":{\"field\":\"x\"},\"y\":{\"field\":\"y\"}},\"id\":\"3698\",\"type\":\"Line\"},{\"attributes\":{\"fill_color\":{\"value\":\"white\"},\"line_color\":{\"value\":\"blue\"},\"size\":{\"units\":\"screen\",\"value\":5},\"x\":{\"field\":\"x\"},\"y\":{\"field\":\"y\"}},\"id\":\"3693\",\"type\":\"Circle\"},{\"attributes\":{},\"id\":\"3936\",\"type\":\"UnionRenderers\"},{\"attributes\":{\"active_drag\":\"auto\",\"active_inspect\":\"auto\",\"active_multi\":null,\"active_scroll\":\"auto\",\"active_tap\":\"auto\",\"tools\":[{\"id\":\"3449\"},{\"id\":\"3450\"},{\"id\":\"3451\"},{\"id\":\"3452\"},{\"id\":\"3453\"},{\"id\":\"3454\"},{\"id\":\"3530\"}]},\"id\":\"3456\",\"type\":\"Toolbar\"},{\"attributes\":{\"data\":{\"x\":{\"__ndarray__\":\"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\",\"dtype\":\"float64\",\"shape\":[207]},\"y\":[0,0,0,0,0,0,6,3,4,5,3,10,11,15,36,23,10,41,90,44,46,39,8,68,137,57,134,84,56,62,147,84,94,119,44,21,92,92,114,80,107,62,55,50,65,81,50,44,38,51,38,24,72,59,56,14,30,17,25,41,24,21,14,60,18,15,15,16,18,13,4,9,9,13,9,8,6,8,10,8,5,14,8,8,7,5,6,6,12,6,3,4,11,4,7,5,4,2,1,2,0,3,1,3,0,1,0,2,1,3,6,0,0,1,2,2,2,1,1,0,0,0,0,2,0,1,0,0,4,2,4,8,0,0,1,4,1,1,2,0,0,3,1,4,3,4,2,4,2,2,3,5,5,2,0,0,3,13,3,7,10,0,5,9,7,4,6,7,0,3,9,15,8,15,8,5,10,11,14,36,33,24,2,9,33,25,19,20,16,5,17,20,25,23,49,20,11,12,54,39,34,39,45,4,20,29,63]},\"selected\":{\"id\":\"3722\"},\"selection_policy\":{\"id\":\"3723\"}},\"id\":\"3692\",\"type\":\"ColumnDataSource\"},{\"attributes\":{\"months\":[0,2,4,6,8,10]},\"id\":\"3787\",\"type\":\"MonthsTicker\"},{\"attributes\":{},\"id\":\"3435\",\"type\":\"DataRange1d\"},{\"attributes\":{},\"id\":\"3449\",\"type\":\"PanTool\"},{\"attributes\":{\"data_source\":{\"id\":\"3692\"},\"glyph\":{\"id\":\"3693\"},\"hover_glyph\":null,\"muted_glyph\":null,\"nonselection_glyph\":{\"id\":\"3694\"},\"selection_glyph\":null,\"view\":{\"id\":\"3696\"}},\"id\":\"3695\",\"type\":\"GlyphRenderer\"},{\"attributes\":{\"line_alpha\":0.1,\"line_color\":\"blue\",\"line_width\":4,\"x\":{\"field\":\"x\"},\"y\":{\"field\":\"y\"}},\"id\":\"3465\",\"type\":\"Line\"},{\"attributes\":{\"data\":{\"x\":{\"__ndarray__\":\"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\",\"dtype\":\"float64\",\"shape\":[207]},\"y\":{\"__ndarray__\":\"AAAAAAAA+H8AAAAAAAD4fwAAAAAAAPh/AAAAAAAA+H8AAAAAAAD4fwAAAAAAAPh/AAAAAAAA+H8AAAAAAAD4fwAAAAAAAPh/AAAAAAAA+H8AAAAAAAD4fwAAAAAAAPh/AAAAAAAA+H+SJEmSJEkQQCVJkiRJkhpAJUmSJEmSIEAAAAAAAAAiQLdt27Zt2ydAt23btm1bMkAAAAAAAIA1QLdt27ZtWzhA27Zt27btOkBu27Zt2zY7QG7btm3btj9ASZIkSZKkREAlSZIkSVJGQG7btm3btkpA27Zt27YtTUBJkiRJkuRNQJIkSZIkSU9Abtu2bdsWUkC3bdu2bdtSQNu2bdu27VJASZIkSZJEVEC3bdu2bTtUQJIkSZIk6VNAkiRJkiRpVUBu27Zt29ZVQNu2bdu2bVVAbtu2bdvWVUC3bdu2bVtVQG7btm3b9lRAJUmSJEnyVEC3bdu2bbtUQEmSJEmSRFNAbtu2bds2U0Dbtm3btm1SQG7btm3bFlFAt23btm37UEBJkiRJkoRRQNu2bdu2jVBA27Zt27atTkDbtm3bti1NQNu2bdu2bUxAt23btm2bSkBJkiRJkuRIQAAAAAAAAEhAJUmSJEnSRkBJkiRJkmRFQG7btm3b9kNAkiRJkiQJQ0Bu27Zt2zZCQLdt27ZtW0FA27Zt27atQUBu27Zt2/ZAQEmSJEmSpEBAbtu2bds2PUBJkiRJkiQ6QNu2bdu2bTdAt23btm1bN0AAAAAAAIA1QNu2bdu27TRAkiRJkiTJM0CSJEmSJMkxQG7btm3btjBAJUmSJEmSL0Dbtm3btm0uQAAAAAAAACdAt23btm3bJUC3bdu2bdskQNu2bdu2bSNASZIkSZIkI0Bu27Zt27YhQAAAAAAAACFA27Zt27ZtIUC3bdu2bdsgQNu2bdu2bSBAt23btm3bHkBu27Zt27YfQEmSJEmSJB9AkiRJkiRJHkBJkiRJkiQdQNu2bdu2bR1AkiRJkiRJHEC3bdu2bdscQJIkSZIkSRpASZIkSZIkGUDbtm3btm0XQG7btm3bthVAt23btm3bFEBJkiRJkiQTQJIkSZIkSRJAkiRJkiRJDkAlSZIkSZIMQLdt27Zt2wpASZIkSZIkCUC3bdu2bdsCQG7btm3btgFAJUmSJEmS/D+SJEmSJEn6PyVJkiRJkvw/kiRJkiRJ+j9JkiRJkiT5PwAAAAAAAPg/kiRJkiRJ+j9JkiRJkiT5P5IkSZIkSfo/AAAAAAAA+D9JkiRJkiT5PwAAAAAAAPg/AAAAAAAA+D9u27Zt27b1PyVJkiRJkvQ/27Zt27Zt8z9JkiRJkiTpP9u2bdu2bes/27Zt27Zt6z9JkiRJkiTpP27btm3btu0/btu2bdu27T9JkiRJkiTxP0mSJEmSJPk/AAAAAAAA+D8AAAAAAAD4P0mSJEmSJPk/btu2bdu2/T+3bdu2bdv+P27btm3btv0/AAAAAAAAAEC3bdu2bdv+P7dt27Zt2/4/SZIkSZIkAUC3bdu2bdv+PyVJkiRJkgBAAAAAAAAAAEDbtm3btm37P27btm3btv0/SZIkSZIkAUBu27Zt27YBQCVJkiRJkgBAbtu2bdu2AUAAAAAAAAAEQG7btm3btgVAt23btm3bBkC3bdu2bdsGQEmSJEmSJAVAkiRJkiRJBkDbtm3btm0LQNu2bdu2bQtASZIkSZIkDUC3bdu2bdsQQNu2bdu2bQ9AJUmSJEmSEEAlSZIkSZISQG7btm3bthNA27Zt27ZtE0Bu27Zt27YTQEmSJEmSJBVASZIkSZIkFUAAAAAAAAAWQG7btm3bthdAkiRJkiRJGEBu27Zt27YZQAAAAAAAABxA27Zt27ZtG0C3bdu2bdscQJIkSZIkSR5At23btm3bHkDbtm3btm0gQAAAAAAAACVAt23btm3bKECSJEmSJEkrQCVJkiRJkitA27Zt27ZtLEC3bdu2bdsvQEmSJEmSpDBA27Zt27ZtMUCSJEmSJMkxQLdt27ZtWzJAt23btm1bMkC3bdu2bdsyQAAAAAAAgDNAkiRJkiRJNEC3bdu2bVszQAAAAAAAgDRAbtu2bds2NEC3bdu2bds0QCVJkiRJEjVAJUmSJEmSNkAlSZIkSZI3QEmSJEmSpDhAAAAAAAAAOkAlSZIkSRI8QAAAAAAAADxAbtu2bds2PEC3bdu2bds8QCVJkiRJkj9A\",\"dtype\":\"float64\",\"shape\":[207]}},\"selected\":{\"id\":\"3908\"},\"selection_policy\":{\"id\":\"3909\"}},\"id\":\"3697\",\"type\":\"ColumnDataSource\"},{\"attributes\":{\"source\":{\"id\":\"3463\"}},\"id\":\"3467\",\"type\":\"CDSView\"},{\"attributes\":{\"fill_alpha\":{\"value\":0.1},\"fill_color\":{\"value\":\"white\"},\"line_alpha\":{\"value\":0.1},\"line_color\":{\"value\":\"blue\"},\"size\":{\"units\":\"screen\",\"value\":5},\"x\":{\"field\":\"x\"},\"y\":{\"field\":\"y\"}},\"id\":\"3694\",\"type\":\"Circle\"},{\"attributes\":{\"label\":{\"value\":\"total cases\"},\"renderers\":[{\"id\":\"3466\"}]},\"id\":\"3487\",\"type\":\"LegendItem\"},{\"attributes\":{\"source\":{\"id\":\"3692\"}},\"id\":\"3696\",\"type\":\"CDSView\"},{\"attributes\":{},\"id\":\"3450\",\"type\":\"WheelZoomTool\"},{\"attributes\":{\"data_source\":{\"id\":\"3697\"},\"glyph\":{\"id\":\"3698\"},\"hover_glyph\":null,\"muted_glyph\":null,\"nonselection_glyph\":{\"id\":\"3699\"},\"selection_glyph\":null,\"view\":{\"id\":\"3701\"}},\"id\":\"3700\",\"type\":\"GlyphRenderer\"},{\"attributes\":{},\"id\":\"3934\",\"type\":\"UnionRenderers\"},{\"attributes\":{\"overlay\":{\"id\":\"3455\"}},\"id\":\"3451\",\"type\":\"BoxZoomTool\"},{\"attributes\":{},\"id\":\"3720\",\"type\":\"Selection\"},{\"attributes\":{},\"id\":\"3452\",\"type\":\"SaveTool\"},{\"attributes\":{},\"id\":\"3885\",\"type\":\"Selection\"},{\"attributes\":{\"line_alpha\":0.1,\"line_color\":\"lightcoral\",\"line_width\":4,\"x\":{\"field\":\"x\"},\"y\":{\"field\":\"y\"}},\"id\":\"3699\",\"type\":\"Line\"},{\"attributes\":{},\"id\":\"3453\",\"type\":\"ResetTool\"},{\"attributes\":{},\"id\":\"3637\",\"type\":\"DataRange1d\"},{\"attributes\":{\"source\":{\"id\":\"3697\"}},\"id\":\"3701\",\"type\":\"CDSView\"},{\"attributes\":{},\"id\":\"3454\",\"type\":\"HelpTool\"},{\"attributes\":{\"line_color\":\"blue\",\"line_width\":4,\"x\":{\"field\":\"x\"},\"y\":{\"field\":\"y\"}},\"id\":\"3464\",\"type\":\"Line\"},{\"attributes\":{\"label\":{\"value\":\"SMA 14 days\"},\"renderers\":[{\"id\":\"3700\"}]},\"id\":\"3724\",\"type\":\"LegendItem\"},{\"attributes\":{\"data_source\":{\"id\":\"3463\"},\"glyph\":{\"id\":\"3464\"},\"hover_glyph\":null,\"muted_glyph\":null,\"nonselection_glyph\":{\"id\":\"3465\"},\"selection_glyph\":null,\"view\":{\"id\":\"3467\"}},\"id\":\"3466\",\"type\":\"GlyphRenderer\"},{\"attributes\":{\"bottom_units\":\"screen\",\"fill_alpha\":0.5,\"fill_color\":\"lightgrey\",\"left_units\":\"screen\",\"level\":\"overlay\",\"line_alpha\":1.0,\"line_color\":\"black\",\"line_dash\":[4,4],\"line_width\":2,\"render_mode\":\"css\",\"right_units\":\"screen\",\"top_units\":\"screen\"},\"id\":\"3455\",\"type\":\"BoxAnnotation\"},{\"attributes\":{\"label\":{\"value\":\"total positive\"},\"renderers\":[{\"id\":\"3496\"}]},\"id\":\"3520\",\"type\":\"LegendItem\"},{\"attributes\":{},\"id\":\"3722\",\"type\":\"Selection\"},{\"attributes\":{},\"id\":\"3620\",\"type\":\"Selection\"},{\"attributes\":{\"fill_color\":{\"value\":\"white\"},\"line_color\":{\"value\":\"red\"},\"size\":{\"units\":\"screen\",\"value\":5},\"x\":{\"field\":\"x\"},\"y\":{\"field\":\"y\"}},\"id\":\"3522\",\"type\":\"Circle\"},{\"attributes\":{\"fill_alpha\":{\"value\":0.1},\"fill_color\":{\"value\":\"white\"},\"line_alpha\":{\"value\":0.1},\"line_color\":{\"value\":\"red\"},\"size\":{\"units\":\"screen\",\"value\":5},\"x\":{\"field\":\"x\"},\"y\":{\"field\":\"y\"}},\"id\":\"3523\",\"type\":\"Circle\"},{\"attributes\":{},\"id\":\"3721\",\"type\":\"UnionRenderers\"},{\"attributes\":{\"data\":{\"x\":{\"__ndarray__\":\"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\",\"dtype\":\"float64\",\"shape\":[207]},\"y\":[0,0,0,0,0,0,6,9,13,18,21,28,39,53,89,110,110,148,236,271,316,346,347,416,522,555,666,738,771,848,911,954,1027,1120,1141,1109,1160,1206,1294,1324,1336,1363,1396,1379,1415,1390,1398,1382,1326,1307,899,1394,1330,1428,1403,1337,1190,1322,1308,1135,1320,1084,1248,1258,1239,1227,1170,1115,1109,1087,1050,984,962,927,911,869,851,830,801,779,770,741,680,654,621,600,596,578,485,459,412,386,375,356,336,323,305,278,266,244,233,213,180,161,151,144,128,113,112,108,105,103,99,99,99,97,85,83,78,72,71,57,53,48,42,38,36,45,56,62,68,73,73,71,72,82,75,78,79,79,80,86,93,97,96,99,96,99,99,98,97,98,103,105,112,112,112,122,122,129,137,136,138,147,153,155,160,166,164,156,164,176,183,189,196,201,204,210,222,243,272,291,291,298,321,335,347,348,360,365,377,387,402,412,445,459,462,473,511,546,562,586,589,592,609,612,656]},\"selected\":{\"id\":\"3860\"},\"selection_policy\":{\"id\":\"3861\"}},\"id\":\"3521\",\"type\":\"ColumnDataSource\"},{\"attributes\":{\"use_scientific\":false},\"id\":\"3732\",\"type\":\"BasicTickFormatter\"},{\"attributes\":{\"items\":[{\"id\":\"3793\"},{\"id\":\"3826\"}],\"location\":\"top_left\"},\"id\":\"3792\",\"type\":\"Legend\"},{\"attributes\":{},\"id\":\"3519\",\"type\":\"UnionRenderers\"},{\"attributes\":{},\"id\":\"3723\",\"type\":\"UnionRenderers\"},{\"attributes\":{\"fill_color\":{\"value\":\"white\"},\"line_color\":{\"value\":\"lightcoral\"},\"size\":{\"units\":\"screen\",\"value\":5},\"x\":{\"field\":\"x\"},\"y\":{\"field\":\"y\"}},\"id\":\"3726\",\"type\":\"Circle\"},{\"attributes\":{},\"id\":\"3517\",\"type\":\"UnionRenderers\"},{\"attributes\":{\"days\":[\"%d %B\"]},\"id\":\"3730\",\"type\":\"DatetimeTickFormatter\"},{\"attributes\":{\"data_source\":{\"id\":\"3725\"},\"glyph\":{\"id\":\"3726\"},\"hover_glyph\":null,\"muted_glyph\":null,\"nonselection_glyph\":{\"id\":\"3727\"},\"selection_glyph\":null,\"view\":{\"id\":\"3729\"}},\"id\":\"3728\",\"type\":\"GlyphRenderer\"},{\"attributes\":{\"source\":{\"id\":\"3769\"}},\"id\":\"3773\",\"type\":\"CDSView\"},{\"attributes\":{\"data\":{\"x\":{\"__ndarray__\":\"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\",\"dtype\":\"float64\",\"shape\":[207]},\"y\":{\"__ndarray__\":\"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\",\"dtype\":\"float64\",\"shape\":[207]}},\"selected\":{\"id\":\"3910\"},\"selection_policy\":{\"id\":\"3911\"}},\"id\":\"3725\",\"type\":\"ColumnDataSource\"},{\"attributes\":{},\"id\":\"3518\",\"type\":\"Selection\"},{\"attributes\":{\"fill_alpha\":{\"value\":0.1},\"fill_color\":{\"value\":\"white\"},\"line_alpha\":{\"value\":0.1},\"line_color\":{\"value\":\"lightcoral\"},\"size\":{\"units\":\"screen\",\"value\":5},\"x\":{\"field\":\"x\"},\"y\":{\"field\":\"y\"}},\"id\":\"3727\",\"type\":\"Circle\"},{\"attributes\":{},\"id\":\"3911\",\"type\":\"UnionRenderers\"},{\"attributes\":{\"line_color\":\"lightgreen\",\"line_width\":4,\"x\":{\"field\":\"x\"},\"y\":{\"field\":\"y\"}},\"id\":\"3800\",\"type\":\"Line\"},{\"attributes\":{},\"id\":\"3516\",\"type\":\"Selection\"},{\"attributes\":{\"items\":[{\"id\":\"3487\"},{\"id\":\"3520\"}],\"location\":\"top_left\"},\"id\":\"3486\",\"type\":\"Legend\"},{\"attributes\":{},\"id\":\"3824\",\"type\":\"Selection\"},{\"attributes\":{\"callback\":null,\"formatters\":{\"@x\":\"datetime\"},\"mode\":\"vline\",\"tooltips\":[[\"date\",\"@x{%d %B}\"],[\"new_positive OR SMA 14\",\"@y{0[.]000}\"]]},\"id\":\"3734\",\"type\":\"HoverTool\"},{\"attributes\":{\"mantissas\":[1,2,5],\"max_interval\":500.0,\"num_minor_ticks\":0},\"id\":\"3473\",\"type\":\"AdaptiveTicker\"},{\"attributes\":{\"source\":{\"id\":\"3725\"}},\"id\":\"3729\",\"type\":\"CDSView\"},{\"attributes\":{\"base\":60,\"mantissas\":[1,2,5,10,15,20,30],\"max_interval\":1800000.0,\"min_interval\":1000.0,\"num_minor_ticks\":0},\"id\":\"3474\",\"type\":\"AdaptiveTicker\"},{\"attributes\":{},\"id\":\"3908\",\"type\":\"Selection\"},{\"attributes\":{\"mantissas\":[1,2,5],\"max_interval\":500.0,\"num_minor_ticks\":0},\"id\":\"3575\",\"type\":\"AdaptiveTicker\"},{\"attributes\":{\"text\":\"New Deaths: Friuli\"},\"id\":\"3737\",\"type\":\"Title\"},{\"attributes\":{\"base\":24,\"mantissas\":[1,2,4,6,8,12],\"max_interval\":43200000.0,\"min_interval\":3600000.0,\"num_minor_ticks\":0},\"id\":\"3475\",\"type\":\"AdaptiveTicker\"},{\"attributes\":{\"line_color\":\"red\",\"line_width\":4,\"x\":{\"field\":\"x\"},\"y\":{\"field\":\"y\"}},\"id\":\"3494\",\"type\":\"Line\"},{\"attributes\":{},\"id\":\"3739\",\"type\":\"DataRange1d\"},{\"attributes\":{},\"id\":\"3541\",\"type\":\"LinearScale\"},{\"attributes\":{},\"id\":\"3639\",\"type\":\"DataRange1d\"},{\"attributes\":{\"mantissas\":[1,2,5],\"max_interval\":500.0,\"num_minor_ticks\":0},\"id\":\"3779\",\"type\":\"AdaptiveTicker\"},{\"attributes\":{},\"id\":\"3437\",\"type\":\"LinearScale\"},{\"attributes\":{\"base\":24,\"mantissas\":[1,2,4,6,8,12],\"max_interval\":43200000.0,\"min_interval\":3600000.0,\"num_minor_ticks\":0},\"id\":\"3577\",\"type\":\"AdaptiveTicker\"},{\"attributes\":{\"axis_label\":\"Date\",\"formatter\":{\"id\":\"3628\"},\"major_label_orientation\":0.7853981633974483,\"minor_tick_in\":-5,\"minor_tick_out\":-3,\"ticker\":{\"id\":\"3544\"}},\"id\":\"3543\",\"type\":\"DatetimeAxis\"},{\"attributes\":{\"days\":[1,2,3,4,5,6,7,8,9,10,11,12,13,14,15,16,17,18,19,20,21,22,23,24,25,26,27,28,29,30,31]},\"id\":\"3476\",\"type\":\"DaysTicker\"},{\"attributes\":{\"base\":60,\"mantissas\":[1,2,5,10,15,20,30],\"max_interval\":1800000.0,\"min_interval\":1000.0,\"num_minor_ticks\":0},\"id\":\"3576\",\"type\":\"AdaptiveTicker\"},{\"attributes\":{},\"id\":\"3641\",\"type\":\"LinearScale\"},{\"attributes\":{},\"id\":\"3548\",\"type\":\"BasicTicker\"},{\"attributes\":{},\"id\":\"3643\",\"type\":\"LinearScale\"},{\"attributes\":{},\"id\":\"3741\",\"type\":\"DataRange1d\"},{\"attributes\":{\"num_minor_ticks\":5,\"tickers\":[{\"id\":\"3473\"},{\"id\":\"3474\"},{\"id\":\"3475\"},{\"id\":\"3476\"},{\"id\":\"3477\"},{\"id\":\"3478\"},{\"id\":\"3479\"},{\"id\":\"3480\"},{\"id\":\"3481\"},{\"id\":\"3482\"},{\"id\":\"3483\"},{\"id\":\"3484\"}]},\"id\":\"3442\",\"type\":\"DatetimeTicker\"},{\"attributes\":{\"num_minor_ticks\":5,\"tickers\":[{\"id\":\"3575\"},{\"id\":\"3576\"},{\"id\":\"3577\"},{\"id\":\"3578\"},{\"id\":\"3579\"},{\"id\":\"3580\"},{\"id\":\"3581\"},{\"id\":\"3582\"},{\"id\":\"3583\"},{\"id\":\"3584\"},{\"id\":\"3585\"},{\"id\":\"3586\"}]},\"id\":\"3544\",\"type\":\"DatetimeTicker\"},{\"attributes\":{\"days\":[1,4,7,10,13,16,19,22,25,28]},\"id\":\"3477\",\"type\":\"DaysTicker\"},{\"attributes\":{},\"id\":\"3883\",\"type\":\"Selection\"},{\"attributes\":{\"base\":24,\"mantissas\":[1,2,4,6,8,12],\"max_interval\":43200000.0,\"min_interval\":3600000.0,\"num_minor_ticks\":0},\"id\":\"3781\",\"type\":\"AdaptiveTicker\"},{\"attributes\":{\"axis\":{\"id\":\"3543\"},\"ticker\":null},\"id\":\"3546\",\"type\":\"Grid\"},{\"attributes\":{\"axis_label\":\"Date\",\"formatter\":{\"id\":\"3730\"},\"major_label_orientation\":0.7853981633974483,\"minor_tick_in\":-5,\"minor_tick_out\":-3,\"ticker\":{\"id\":\"3646\"}},\"id\":\"3645\",\"type\":\"DatetimeAxis\"},{\"attributes\":{\"days\":[1,8,15,22]},\"id\":\"3478\",\"type\":\"DaysTicker\"},{\"attributes\":{\"days\":[1,2,3,4,5,6,7,8,9,10,11,12,13,14,15,16,17,18,19,20,21,22,23,24,25,26,27,28,29,30,31]},\"id\":\"3578\",\"type\":\"DaysTicker\"},{\"attributes\":{},\"id\":\"3743\",\"type\":\"LinearScale\"},{\"attributes\":{},\"id\":\"3650\",\"type\":\"BasicTicker\"},{\"attributes\":{\"base\":60,\"mantissas\":[1,2,5,10,15,20,30],\"max_interval\":1800000.0,\"min_interval\":1000.0,\"num_minor_ticks\":0},\"id\":\"3780\",\"type\":\"AdaptiveTicker\"},{\"attributes\":{\"axis\":{\"id\":\"3547\"},\"dimension\":1,\"ticker\":null},\"id\":\"3550\",\"type\":\"Grid\"},{\"attributes\":{},\"id\":\"3745\",\"type\":\"LinearScale\"},{\"attributes\":{\"num_minor_ticks\":5,\"tickers\":[{\"id\":\"3677\"},{\"id\":\"3678\"},{\"id\":\"3679\"},{\"id\":\"3680\"},{\"id\":\"3681\"},{\"id\":\"3682\"},{\"id\":\"3683\"},{\"id\":\"3684\"},{\"id\":\"3685\"},{\"id\":\"3686\"},{\"id\":\"3687\"},{\"id\":\"3688\"}]},\"id\":\"3646\",\"type\":\"DatetimeTicker\"},{\"attributes\":{\"days\":[1,15]},\"id\":\"3479\",\"type\":\"DaysTicker\"},{\"attributes\":{\"axis_label\":\"Deaths & Recovered\",\"formatter\":{\"id\":\"3630\"},\"minor_tick_in\":-5,\"minor_tick_out\":-3,\"ticker\":{\"id\":\"3548\"}},\"id\":\"3547\",\"type\":\"LinearAxis\"},{\"attributes\":{\"days\":[1,4,7,10,13,16,19,22,25,28]},\"id\":\"3579\",\"type\":\"DaysTicker\"},{\"attributes\":{\"axis\":{\"id\":\"3645\"},\"ticker\":null},\"id\":\"3648\",\"type\":\"Grid\"},{\"attributes\":{\"axis_label\":\"Date\",\"formatter\":{\"id\":\"3832\"},\"major_label_orientation\":0.7853981633974483,\"minor_tick_in\":-5,\"minor_tick_out\":-3,\"ticker\":{\"id\":\"3748\"}},\"id\":\"3747\",\"type\":\"DatetimeAxis\"},{\"attributes\":{\"months\":[0,1,2,3,4,5,6,7,8,9,10,11]},\"id\":\"3480\",\"type\":\"MonthsTicker\"},{\"attributes\":{\"days\":[1,8,15,22]},\"id\":\"3580\",\"type\":\"DaysTicker\"},{\"attributes\":{},\"id\":\"3446\",\"type\":\"BasicTicker\"},{\"attributes\":{},\"id\":\"3752\",\"type\":\"BasicTicker\"},{\"attributes\":{\"days\":[1,2,3,4,5,6,7,8,9,10,11,12,13,14,15,16,17,18,19,20,21,22,23,24,25,26,27,28,29,30,31]},\"id\":\"3782\",\"type\":\"DaysTicker\"},{\"attributes\":{},\"id\":\"3825\",\"type\":\"UnionRenderers\"},{\"attributes\":{\"axis_label\":\"Total Cases & Total Positive\",\"formatter\":{\"id\":\"3528\"},\"minor_tick_in\":-5,\"minor_tick_out\":-3,\"ticker\":{\"id\":\"3446\"}},\"id\":\"3445\",\"type\":\"LinearAxis\"},{\"attributes\":{\"axis\":{\"id\":\"3649\"},\"dimension\":1,\"ticker\":null},\"id\":\"3652\",\"type\":\"Grid\"},{\"attributes\":{\"num_minor_ticks\":5,\"tickers\":[{\"id\":\"3779\"},{\"id\":\"3780\"},{\"id\":\"3781\"},{\"id\":\"3782\"},{\"id\":\"3783\"},{\"id\":\"3784\"},{\"id\":\"3785\"},{\"id\":\"3786\"},{\"id\":\"3787\"},{\"id\":\"3788\"},{\"id\":\"3789\"},{\"id\":\"3790\"}]},\"id\":\"3748\",\"type\":\"DatetimeTicker\"},{\"attributes\":{\"months\":[0,2,4,6,8,10]},\"id\":\"3481\",\"type\":\"MonthsTicker\"},{\"attributes\":{\"axis_label\":\"New Positive\",\"formatter\":{\"id\":\"3732\"},\"minor_tick_in\":-5,\"minor_tick_out\":-3,\"ticker\":{\"id\":\"3650\"}},\"id\":\"3649\",\"type\":\"LinearAxis\"},{\"attributes\":{\"days\":[1,15]},\"id\":\"3581\",\"type\":\"DaysTicker\"},{\"attributes\":{\"days\":[1,4,7,10,13,16,19,22,25,28]},\"id\":\"3783\",\"type\":\"DaysTicker\"},{\"attributes\":{\"items\":[{\"id\":\"3691\"},{\"id\":\"3724\"}],\"location\":\"top_left\"},\"id\":\"3690\",\"type\":\"Legend\"},{\"attributes\":{\"axis\":{\"id\":\"3747\"},\"ticker\":null},\"id\":\"3750\",\"type\":\"Grid\"},{\"attributes\":{\"months\":[0,4,8]},\"id\":\"3482\",\"type\":\"MonthsTicker\"},{\"attributes\":{},\"id\":\"3859\",\"type\":\"UnionRenderers\"},{\"attributes\":{\"data_source\":{\"id\":\"3565\"},\"glyph\":{\"id\":\"3566\"},\"hover_glyph\":null,\"muted_glyph\":null,\"nonselection_glyph\":{\"id\":\"3567\"},\"selection_glyph\":null,\"view\":{\"id\":\"3569\"}},\"id\":\"3568\",\"type\":\"GlyphRenderer\"},{\"attributes\":{\"months\":[0,1,2,3,4,5,6,7,8,9,10,11]},\"id\":\"3582\",\"type\":\"MonthsTicker\"},{\"attributes\":{\"days\":[1,8,15,22]},\"id\":\"3784\",\"type\":\"DaysTicker\"},{\"attributes\":{\"active_drag\":\"auto\",\"active_inspect\":\"auto\",\"active_multi\":null,\"active_scroll\":\"auto\",\"active_tap\":\"auto\",\"tools\":[{\"id\":\"3551\"},{\"id\":\"3552\"},{\"id\":\"3553\"},{\"id\":\"3554\"},{\"id\":\"3555\"},{\"id\":\"3556\"},{\"id\":\"3632\"}]},\"id\":\"3558\",\"type\":\"Toolbar\"},{\"attributes\":{\"axis\":{\"id\":\"3751\"},\"dimension\":1,\"ticker\":null},\"id\":\"3754\",\"type\":\"Grid\"},{\"attributes\":{\"months\":[0,6]},\"id\":\"3483\",\"type\":\"MonthsTicker\"},{\"attributes\":{\"months\":[0,2,4,6,8,10]},\"id\":\"3583\",\"type\":\"MonthsTicker\"},{\"attributes\":{\"axis\":{\"id\":\"3441\"},\"ticker\":null},\"id\":\"3444\",\"type\":\"Grid\"},{\"attributes\":{\"axis_label\":\"New Deaths\",\"formatter\":{\"id\":\"3834\"},\"minor_tick_in\":-5,\"minor_tick_out\":-3,\"ticker\":{\"id\":\"3752\"}},\"id\":\"3751\",\"type\":\"LinearAxis\"},{\"attributes\":{\"data\":{\"x\":{\"__ndarray__\":\"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\",\"dtype\":\"float64\",\"shape\":[207]},\"y\":[0,0,0,0,0,0,0,0,0,0,0,0,0,1,1,3,6,8,10,13,14,22,30,31,36,38,42,47,54,64,70,72,76,87,98,107,113,122,129,136,145,154,158,164,169,171,179,185,195,202,206,212,217,220,222,225,239,241,246,256,258,263,264,271,278,285,289,294,295,297,299,303,306,308,308,308,310,312,313,316,317,318,319,319,320,320,322,323,325,327,329,329,329,331,333,333,333,333,335,336,336,336,338,338,339,340,340,341,342,342,343,343,343,343,343,343,343,344,344,344,344,344,345,345,345,345,345,345,345,345,345,345,345,345,345,345,345,345,345,345,345,345,345,345,345,345,345,345,345,345,345,345,345,345,345,345,345,345,345,345,345,346,346,346,346,346,346,346,347,348,348,348,348,348,348,348,348,348,348,348,348,348,348,348,348,348,348,348,348,348,348,349,349,349,349,349,349,349,349,349,349,349,349,349,349,349,349]},\"selected\":{\"id\":\"3618\"},\"selection_policy\":{\"id\":\"3619\"}},\"id\":\"3565\",\"type\":\"ColumnDataSource\"},{\"attributes\":{\"days\":[1,15]},\"id\":\"3785\",\"type\":\"DaysTicker\"},{\"attributes\":{\"fill_color\":{\"value\":\"white\"},\"line_color\":{\"value\":\"darkviolet\"},\"size\":{\"units\":\"screen\",\"value\":5},\"x\":{\"field\":\"x\"},\"y\":{\"field\":\"y\"}},\"id\":\"3591\",\"type\":\"Circle\"},{\"attributes\":{},\"id\":\"3484\",\"type\":\"YearsTicker\"},{\"attributes\":{\"months\":[0,4,8]},\"id\":\"3584\",\"type\":\"MonthsTicker\"},{\"attributes\":{\"months\":[0,1,2,3,4,5,6,7,8,9,10,11]},\"id\":\"3786\",\"type\":\"MonthsTicker\"},{\"attributes\":{},\"id\":\"3551\",\"type\":\"PanTool\"},{\"attributes\":{},\"id\":\"3439\",\"type\":\"LinearScale\"},{\"attributes\":{\"data_source\":{\"id\":\"3667\"},\"glyph\":{\"id\":\"3668\"},\"hover_glyph\":null,\"muted_glyph\":null,\"nonselection_glyph\":{\"id\":\"3669\"},\"selection_glyph\":null,\"view\":{\"id\":\"3671\"}},\"id\":\"3670\",\"type\":\"GlyphRenderer\"},{\"attributes\":{\"source\":{\"id\":\"3493\"}},\"id\":\"3497\",\"type\":\"CDSView\"},{\"attributes\":{\"active_drag\":\"auto\",\"active_inspect\":\"auto\",\"active_multi\":null,\"active_scroll\":\"auto\",\"active_tap\":\"auto\",\"tools\":[{\"id\":\"3653\"},{\"id\":\"3654\"},{\"id\":\"3655\"},{\"id\":\"3656\"},{\"id\":\"3657\"},{\"id\":\"3658\"},{\"id\":\"3734\"}]},\"id\":\"3660\",\"type\":\"Toolbar\"},{\"attributes\":{\"fill_color\":{\"value\":\"white\"},\"line_color\":{\"value\":\"blue\"},\"size\":{\"units\":\"screen\",\"value\":5},\"x\":{\"field\":\"x\"},\"y\":{\"field\":\"y\"}},\"id\":\"3489\",\"type\":\"Circle\"},{\"attributes\":{\"source\":{\"id\":\"3667\"}},\"id\":\"3671\",\"type\":\"CDSView\"},{\"attributes\":{\"data\":{\"x\":{\"__ndarray__\":\"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\",\"dtype\":\"float64\",\"shape\":[207]},\"y\":[0,0,0,0,0,0,0,0,0,0,0,0,0,1,0,2,3,2,2,3,1,8,8,1,5,2,4,5,7,10,6,2,4,11,11,9,6,9,7,7,9,9,4,6,5,2,8,6,10,7,4,6,5,3,2,3,14,2,5,10,2,5,1,7,7,7,4,5,1,2,2,4,3,2,0,0,2,2,1,3,1,1,1,0,1,0,2,1,2,2,2,0,0,2,2,0,0,0,2,1,0,0,2,0,1,1,0,1,1,0,1,0,0,0,0,0,0,1,0,0,0,0,1,0,0,0,0,0,0,0,0,0,0,0,0,0,0,0,0,0,0,0,0,0,0,0,0,0,0,0,0,0,0,0,0,0,0,0,0,0,0,1,0,0,0,0,0,0,1,1,0,0,0,0,0,0,0,0,0,0,0,0,0,0,0,0,0,0,0,0,0,1,0,0,0,0,0,0,0,0,0,0,0,0,0,0,0]},\"selected\":{\"id\":\"3822\"},\"selection_policy\":{\"id\":\"3823\"}},\"id\":\"3769\",\"type\":\"ColumnDataSource\"},{\"attributes\":{},\"id\":\"3552\",\"type\":\"WheelZoomTool\"},{\"attributes\":{\"data_source\":{\"id\":\"3769\"},\"glyph\":{\"id\":\"3770\"},\"hover_glyph\":null,\"muted_glyph\":null,\"nonselection_glyph\":{\"id\":\"3771\"},\"selection_glyph\":null,\"view\":{\"id\":\"3773\"}},\"id\":\"3772\",\"type\":\"GlyphRenderer\"},{\"attributes\":{\"data\":{\"x\":{\"__ndarray__\":\"AAAA5UcHd0IAAMBKmgd3QgAAgLDsB3dCAABAFj8Id0IAAAB8kQh3QgAAwOHjCHdCAACARzYJd0IAAECtiAl3QgAAABPbCXdCAADAeC0Kd0IAAIDefwp3QgAAQETSCndCAAAAqiQLd0IAAMAPdwt3QgAAgHXJC3dCAABA2xsMd0IAAABBbgx3QgAAwKbADHdCAACADBMNd0IAAEByZQ13QgAAANi3DXdCAADAPQoOd0IAAICjXA53QgAAQAmvDndCAAAAbwEPd0IAAMDUUw93QgAAgDqmD3dCAABAoPgPd0IAAAAGSxB3QgAAwGudEHdCAACA0e8Qd0IAAEA3QhF3QgAAAJ2UEXdCAADAAucRd0IAAIBoORJ3QgAAQM6LEndCAAAANN4Sd0IAAMCZMBN3QgAAgP+CE3dCAABAZdUTd0IAAADLJxR3QgAAwDB6FHdCAACAlswUd0IAAED8HhV3QgAAAGJxFXdCAADAx8MVd0IAAIAtFhZ3QgAAQJNoFndCAAAA+boWd0IAAMBeDRd3QgAAgMRfF3dCAABAKrIXd0IAAACQBBh3QgAAwPVWGHdCAACAW6kYd0IAAEDB+xh3QgAAACdOGXdCAADAjKAZd0IAAIDy8hl3QgAAQFhFGndCAAAAvpcad0IAAMAj6hp3QgAAgIk8G3dCAABA744bd0IAAABV4Rt3QgAAwLozHHdCAACAIIYcd0IAAECG2Bx3QgAAAOwqHXdCAADAUX0dd0IAAIC3zx13QgAAQB0iHndCAAAAg3Qed0IAAMDoxh53QgAAgE4ZH3dCAABAtGsfd0IAAAAavh93QgAAwH8QIHdCAACA5WIgd0IAAEBLtSB3QgAAALEHIXdCAADAFlohd0IAAIB8rCF3QgAAQOL+IXdCAAAASFEid0IAAMCtoyJ3QgAAgBP2IndCAABAeUgjd0IAAADfmiN3QgAAwETtI3dCAACAqj8kd0IAAEAQkiR3QgAAAHbkJHdCAADA2zYld0IAAIBBiSV3QgAAQKfbJXdCAAAADS4md0IAAMBygCZ3QgAAgNjSJndCAABAPiUnd0IAAACkdyd3QgAAwAnKJ3dCAACAbxwod0IAAEDVbih3QgAAADvBKHdCAADAoBMpd0IAAIAGZil3QgAAQGy4KXdCAAAA0goqd0IAAMA3XSp3QgAAgJ2vKndCAABAAwIrd0IAAABpVCt3QgAAwM6mK3dCAACANPkrd0IAAECaSyx3QgAAAACeLHdCAADAZfAsd0IAAIDLQi13QgAAQDGVLXdCAAAAl+ctd0IAAMD8OS53QgAAgGKMLndCAABAyN4ud0IAAAAuMS93QgAAwJODL3dCAACA+dUvd0IAAEBfKDB3QgAAAMV6MHdCAADAKs0wd0IAAICQHzF3QgAAQPZxMXdCAAAAXMQxd0IAAMDBFjJ3QgAAgCdpMndCAABAjbsyd0IAAADzDTN3QgAAwFhgM3dCAACAvrIzd0IAAEAkBTR3QgAAAIpXNHdCAADA76k0d0IAAIBV/DR3QgAAQLtONXdCAAAAIaE1d0IAAMCG8zV3QgAAgOxFNndCAABAUpg2d0IAAAC46jZ3QgAAwB09N3dCAACAg483d0IAAEDp4Td3QgAAAE80OHdCAADAtIY4d0IAAIAa2Th3QgAAQIArOXdCAAAA5n05d0IAAMBL0Dl3QgAAgLEiOndCAABAF3U6d0IAAAB9xzp3QgAAwOIZO3dCAACASGw7d0IAAECuvjt3QgAAABQRPHdCAADAeWM8d0IAAIDftTx3QgAAQEUIPXdCAAAAq1o9d0IAAMAQrT13QgAAgHb/PXdCAABA3FE+d0IAAABCpD53QgAAwKf2PndCAACADUk/d0IAAEBzmz93QgAAANntP3dCAADAPkBAd0IAAICkkkB3QgAAQArlQHdCAAAAcDdBd0IAAMDViUF3QgAAgDvcQXdCAABAoS5Cd0IAAAAHgUJ3QgAAwGzTQndCAACA0iVDd0IAAEA4eEN3QgAAAJ7KQ3dCAADAAx1Ed0IAAIBpb0R3QgAAQM/BRHdCAAAANRRFd0IAAMCaZkV3QgAAgAC5RXdCAABAZgtGd0IAAADMXUZ3QgAAwDGwRndCAACAlwJHd0IAAED9VEd3QgAAAGOnR3dCAADAyPlHd0IAAIAuTEh3QgAAQJSeSHdCAAAA+vBId0IAAMBfQ0l3QgAAgMWVSXdC\",\"dtype\":\"float64\",\"shape\":[207]},\"y\":[0,0,0,0,0,0,6,3,4,5,3,10,11,15,36,23,10,41,90,44,46,39,8,68,137,57,134,84,56,62,147,84,94,119,44,21,92,92,114,80,107,62,55,50,65,81,50,44,38,51,38,24,72,59,56,14,30,17,25,41,24,21,14,60,18,15,15,16,18,13,4,9,9,13,9,8,6,8,10,8,5,14,8,8,7,5,6,6,12,6,3,4,11,4,7,5,4,2,1,2,0,3,1,3,0,1,0,2,1,3,6,0,0,1,2,2,2,1,1,0,0,0,0,2,0,1,0,0,4,2,4,8,0,0,1,4,1,1,2,0,0,3,1,4,3,4,2,4,2,2,3,5,5,2,0,0,3,13,3,7,10,0,5,9,7,4,6,7,0,3,9,15,8,15,8,5,10,11,14,36,33,24,2,9,33,25,19,20,16,5,17,20,25,23,49,20,11,12,54,39,34,39,45,4,20,29,63]},\"selected\":{\"id\":\"3720\"},\"selection_policy\":{\"id\":\"3721\"}},\"id\":\"3667\",\"type\":\"ColumnDataSource\"},{\"attributes\":{\"months\":[0,6]},\"id\":\"3585\",\"type\":\"MonthsTicker\"},{\"attributes\":{\"data\":{\"x\":{\"__ndarray__\":\"AAAA5UcHd0IAAMBKmgd3QgAAgLDsB3dCAABAFj8Id0IAAAB8kQh3QgAAwOHjCHdCAACARzYJd0IAAECtiAl3QgAAABPbCXdCAADAeC0Kd0IAAIDefwp3QgAAQETSCndCAAAAqiQLd0IAAMAPdwt3QgAAgHXJC3dCAABA2xsMd0IAAABBbgx3QgAAwKbADHdCAACADBMNd0IAAEByZQ13QgAAANi3DXdCAADAPQoOd0IAAICjXA53QgAAQAmvDndCAAAAbwEPd0IAAMDUUw93QgAAgDqmD3dCAABAoPgPd0IAAAAGSxB3QgAAwGudEHdCAACA0e8Qd0IAAEA3QhF3QgAAAJ2UEXdCAADAAucRd0IAAIBoORJ3QgAAQM6LEndCAAAANN4Sd0IAAMCZMBN3QgAAgP+CE3dCAABAZdUTd0IAAADLJxR3QgAAwDB6FHdCAACAlswUd0IAAED8HhV3QgAAAGJxFXdCAADAx8MVd0IAAIAtFhZ3QgAAQJNoFndCAAAA+boWd0IAAMBeDRd3QgAAgMRfF3dCAABAKrIXd0IAAACQBBh3QgAAwPVWGHdCAACAW6kYd0IAAEDB+xh3QgAAACdOGXdCAADAjKAZd0IAAIDy8hl3QgAAQFhFGndCAAAAvpcad0IAAMAj6hp3QgAAgIk8G3dCAABA744bd0IAAABV4Rt3QgAAwLozHHdCAACAIIYcd0IAAECG2Bx3QgAAAOwqHXdCAADAUX0dd0IAAIC3zx13QgAAQB0iHndCAAAAg3Qed0IAAMDoxh53QgAAgE4ZH3dCAABAtGsfd0IAAAAavh93QgAAwH8QIHdCAACA5WIgd0IAAEBLtSB3QgAAALEHIXdCAADAFlohd0IAAIB8rCF3QgAAQOL+IXdCAAAASFEid0IAAMCtoyJ3QgAAgBP2IndCAABAeUgjd0IAAADfmiN3QgAAwETtI3dCAACAqj8kd0IAAEAQkiR3QgAAAHbkJHdCAADA2zYld0IAAIBBiSV3QgAAQKfbJXdCAAAADS4md0IAAMBygCZ3QgAAgNjSJndCAABAPiUnd0IAAACkdyd3QgAAwAnKJ3dCAACAbxwod0IAAEDVbih3QgAAADvBKHdCAADAoBMpd0IAAIAGZil3QgAAQGy4KXdCAAAA0goqd0IAAMA3XSp3QgAAgJ2vKndCAABAAwIrd0IAAABpVCt3QgAAwM6mK3dCAACANPkrd0IAAECaSyx3QgAAAACeLHdCAADAZfAsd0IAAIDLQi13QgAAQDGVLXdCAAAAl+ctd0IAAMD8OS53QgAAgGKMLndCAABAyN4ud0IAAAAuMS93QgAAwJODL3dCAACA+dUvd0IAAEBfKDB3QgAAAMV6MHdCAADAKs0wd0IAAICQHzF3QgAAQPZxMXdCAAAAXMQxd0IAAMDBFjJ3QgAAgCdpMndCAABAjbsyd0IAAADzDTN3QgAAwFhgM3dCAACAvrIzd0IAAEAkBTR3QgAAAIpXNHdCAADA76k0d0IAAIBV/DR3QgAAQLtONXdCAAAAIaE1d0IAAMCG8zV3QgAAgOxFNndCAABAUpg2d0IAAAC46jZ3QgAAwB09N3dCAACAg483d0IAAEDp4Td3QgAAAE80OHdCAADAtIY4d0IAAIAa2Th3QgAAQIArOXdCAAAA5n05d0IAAMBL0Dl3QgAAgLEiOndCAABAF3U6d0IAAAB9xzp3QgAAwOIZO3dCAACASGw7d0IAAECuvjt3QgAAABQRPHdCAADAeWM8d0IAAIDftTx3QgAAQEUIPXdCAAAAq1o9d0IAAMAQrT13QgAAgHb/PXdCAABA3FE+d0IAAABCpD53QgAAwKf2PndCAACADUk/d0IAAEBzmz93QgAAANntP3dCAADAPkBAd0IAAICkkkB3QgAAQArlQHdCAAAAcDdBd0IAAMDViUF3QgAAgDvcQXdCAABAoS5Cd0IAAAAHgUJ3QgAAwGzTQndCAACA0iVDd0IAAEA4eEN3QgAAAJ7KQ3dCAADAAx1Ed0IAAIBpb0R3QgAAQM/BRHdCAAAANRRFd0IAAMCaZkV3QgAAgAC5RXdCAABAZgtGd0IAAADMXUZ3QgAAwDGwRndCAACAlwJHd0IAAED9VEd3QgAAAGOnR3dCAADAyPlHd0IAAIAuTEh3QgAAQJSeSHdCAAAA+vBId0IAAMBfQ0l3QgAAgMWVSXdC\",\"dtype\":\"float64\",\"shape\":[207]},\"y\":[0,0,0,0,0,0,6,9,13,18,21,31,42,57,93,116,126,167,257,301,347,386,394,462,599,656,790,874,930,992,1139,1223,1317,1436,1480,1501,1593,1685,1799,1879,1986,2048,2103,2153,2218,2299,2349,2393,2431,2482,2520,2544,2616,2675,2731,2745,2775,2792,2817,2858,2882,2903,2917,2977,2995,3010,3025,3041,3059,3072,3076,3085,3094,3107,3116,3124,3130,3138,3148,3156,3161,3175,3183,3191,3198,3203,3209,3215,3227,3233,3236,3240,3251,3255,3262,3267,3271,3273,3274,3276,3276,3279,3280,3283,3283,3284,3284,3286,3287,3290,3296,3296,3296,3297,3299,3301,3303,3304,3305,3305,3305,3305,3305,3307,3307,3308,3308,3308,3312,3314,3318,3326,3326,3326,3327,3331,3332,3333,3335,3335,3335,3338,3339,3343,3346,3350,3352,3356,3358,3360,3363,3368,3373,3375,3375,3375,3378,3391,3394,3401,3411,3411,3416,3425,3432,3436,3442,3449,3449,3452,3461,3476,3484,3499,3507,3512,3522,3533,3547,3583,3616,3640,3642,3651,3684,3709,3728,3748,3764,3769,3786,3806,3831,3854,3903,3923,3934,3946,4000,4039,4073,4112,4157,4161,4181,4210,4273]},\"selected\":{\"id\":\"3518\"},\"selection_policy\":{\"id\":\"3519\"}},\"id\":\"3488\",\"type\":\"ColumnDataSource\"},{\"attributes\":{\"label\":{\"value\":\"new positive\"},\"renderers\":[{\"id\":\"3670\"}]},\"id\":\"3691\",\"type\":\"LegendItem\"},{\"attributes\":{},\"id\":\"3586\",\"type\":\"YearsTicker\"},{\"attributes\":{},\"id\":\"3618\",\"type\":\"Selection\"},{\"attributes\":{\"overlay\":{\"id\":\"3557\"}},\"id\":\"3553\",\"type\":\"BoxZoomTool\"},{\"attributes\":{},\"id\":\"3653\",\"type\":\"PanTool\"},{\"attributes\":{\"line_alpha\":0.1,\"line_color\":\"green\",\"line_width\":4,\"x\":{\"field\":\"x\"},\"y\":{\"field\":\"y\"}},\"id\":\"3597\",\"type\":\"Line\"},{\"attributes\":{\"months\":[0,4,8]},\"id\":\"3788\",\"type\":\"MonthsTicker\"},{\"attributes\":{\"active_drag\":\"auto\",\"active_inspect\":\"auto\",\"active_multi\":null,\"active_scroll\":\"auto\",\"active_tap\":\"auto\",\"tools\":[{\"id\":\"3755\"},{\"id\":\"3756\"},{\"id\":\"3757\"},{\"id\":\"3758\"},{\"id\":\"3759\"},{\"id\":\"3760\"},{\"id\":\"3836\"}]},\"id\":\"3762\",\"type\":\"Toolbar\"},{\"attributes\":{\"source\":{\"id\":\"3595\"}},\"id\":\"3599\",\"type\":\"CDSView\"},{\"attributes\":{},\"id\":\"3861\",\"type\":\"UnionRenderers\"},{\"attributes\":{\"months\":[0,6]},\"id\":\"3789\",\"type\":\"MonthsTicker\"},{\"attributes\":{},\"id\":\"3654\",\"type\":\"WheelZoomTool\"},{\"attributes\":{},\"id\":\"3554\",\"type\":\"SaveTool\"},{\"attributes\":{\"line_color\":\"darkviolet\",\"line_width\":4,\"x\":{\"field\":\"x\"},\"y\":{\"field\":\"y\"}},\"id\":\"3770\",\"type\":\"Line\"},{\"attributes\":{\"label\":{\"value\":\"new deaths\"},\"renderers\":[{\"id\":\"3772\"}]},\"id\":\"3793\",\"type\":\"LegendItem\"},{\"attributes\":{},\"id\":\"3790\",\"type\":\"YearsTicker\"},{\"attributes\":{\"toolbars\":[{\"id\":\"3456\"},{\"id\":\"3558\"},{\"id\":\"3660\"},{\"id\":\"3762\"}],\"tools\":[{\"id\":\"3449\"},{\"id\":\"3450\"},{\"id\":\"3451\"},{\"id\":\"3452\"},{\"id\":\"3453\"},{\"id\":\"3454\"},{\"id\":\"3530\"},{\"id\":\"3551\"},{\"id\":\"3552\"},{\"id\":\"3553\"},{\"id\":\"3554\"},{\"id\":\"3555\"},{\"id\":\"3556\"},{\"id\":\"3632\"},{\"id\":\"3653\"},{\"id\":\"3654\"},{\"id\":\"3655\"},{\"id\":\"3656\"},{\"id\":\"3657\"},{\"id\":\"3658\"},{\"id\":\"3734\"},{\"id\":\"3755\"},{\"id\":\"3756\"},{\"id\":\"3757\"},{\"id\":\"3758\"},{\"id\":\"3759\"},{\"id\":\"3760\"},{\"id\":\"3836\"}]},\"id\":\"3939\",\"type\":\"ProxyToolbar\"},{\"attributes\":{},\"id\":\"3555\",\"type\":\"ResetTool\"},{\"attributes\":{\"overlay\":{\"id\":\"3659\"}},\"id\":\"3655\",\"type\":\"BoxZoomTool\"},{\"attributes\":{},\"id\":\"3755\",\"type\":\"PanTool\"},{\"attributes\":{\"data_source\":{\"id\":\"3488\"},\"glyph\":{\"id\":\"3489\"},\"hover_glyph\":null,\"muted_glyph\":null,\"nonselection_glyph\":{\"id\":\"3490\"},\"selection_glyph\":null,\"view\":{\"id\":\"3492\"}},\"id\":\"3491\",\"type\":\"GlyphRenderer\"},{\"attributes\":{\"data_source\":{\"id\":\"3595\"},\"glyph\":{\"id\":\"3596\"},\"hover_glyph\":null,\"muted_glyph\":null,\"nonselection_glyph\":{\"id\":\"3597\"},\"selection_glyph\":null,\"view\":{\"id\":\"3599\"}},\"id\":\"3598\",\"type\":\"GlyphRenderer\"},{\"attributes\":{\"data\":{\"x\":{\"__ndarray__\":\"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\",\"dtype\":\"float64\",\"shape\":[207]},\"y\":[0,0,0,0,0,0,6,9,13,18,21,28,39,53,89,110,110,148,236,271,316,346,347,416,522,555,666,738,771,848,911,954,1027,1120,1141,1109,1160,1206,1294,1324,1336,1363,1396,1379,1415,1390,1398,1382,1326,1307,899,1394,1330,1428,1403,1337,1190,1322,1308,1135,1320,1084,1248,1258,1239,1227,1170,1115,1109,1087,1050,984,962,927,911,869,851,830,801,779,770,741,680,654,621,600,596,578,485,459,412,386,375,356,336,323,305,278,266,244,233,213,180,161,151,144,128,113,112,108,105,103,99,99,99,97,85,83,78,72,71,57,53,48,42,38,36,45,56,62,68,73,73,71,72,82,75,78,79,79,80,86,93,97,96,99,96,99,99,98,97,98,103,105,112,112,112,122,122,129,137,136,138,147,153,155,160,166,164,156,164,176,183,189,196,201,204,210,222,243,272,291,291,298,321,335,347,348,360,365,377,387,402,412,445,459,462,473,511,546,562,586,589,592,609,612,656]},\"selected\":{\"id\":\"3858\"},\"selection_policy\":{\"id\":\"3859\"}},\"id\":\"3493\",\"type\":\"ColumnDataSource\"},{\"attributes\":{\"fill_color\":{\"value\":\"white\"},\"line_color\":{\"value\":\"darkviolet\"},\"size\":{\"units\":\"screen\",\"value\":5},\"x\":{\"field\":\"x\"},\"y\":{\"field\":\"y\"}},\"id\":\"3795\",\"type\":\"Circle\"},{\"attributes\":{},\"id\":\"3656\",\"type\":\"SaveTool\"},{\"attributes\":{},\"id\":\"3758\",\"type\":\"SaveTool\"},{\"attributes\":{\"fill_alpha\":{\"value\":0.1},\"fill_color\":{\"value\":\"white\"},\"line_alpha\":{\"value\":0.1},\"line_color\":{\"value\":\"blue\"},\"size\":{\"units\":\"screen\",\"value\":5},\"x\":{\"field\":\"x\"},\"y\":{\"field\":\"y\"}},\"id\":\"3490\",\"type\":\"Circle\"},{\"attributes\":{},\"id\":\"3556\",\"type\":\"HelpTool\"},{\"attributes\":{\"source\":{\"id\":\"3488\"}},\"id\":\"3492\",\"type\":\"CDSView\"},{\"attributes\":{\"data\":{\"x\":{\"__ndarray__\":\"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\",\"dtype\":\"float64\",\"shape\":[207]},\"y\":[0,0,0,0,0,0,0,0,0,0,0,0,0,1,0,2,3,2,2,3,1,8,8,1,5,2,4,5,7,10,6,2,4,11,11,9,6,9,7,7,9,9,4,6,5,2,8,6,10,7,4,6,5,3,2,3,14,2,5,10,2,5,1,7,7,7,4,5,1,2,2,4,3,2,0,0,2,2,1,3,1,1,1,0,1,0,2,1,2,2,2,0,0,2,2,0,0,0,2,1,0,0,2,0,1,1,0,1,1,0,1,0,0,0,0,0,0,1,0,0,0,0,1,0,0,0,0,0,0,0,0,0,0,0,0,0,0,0,0,0,0,0,0,0,0,0,0,0,0,0,0,0,0,0,0,0,0,0,0,0,0,1,0,0,0,0,0,0,1,1,0,0,0,0,0,0,0,0,0,0,0,0,0,0,0,0,0,0,0,0,0,1,0,0,0,0,0,0,0,0,0,0,0,0,0,0,0]},\"selected\":{\"id\":\"3824\"},\"selection_policy\":{\"id\":\"3825\"}},\"id\":\"3794\",\"type\":\"ColumnDataSource\"},{\"attributes\":{},\"id\":\"3657\",\"type\":\"ResetTool\"},{\"attributes\":{},\"id\":\"3759\",\"type\":\"ResetTool\"},{\"attributes\":{\"label\":{\"value\":\"recovered\"},\"renderers\":[{\"id\":\"3598\"}]},\"id\":\"3622\",\"type\":\"LegendItem\"},{\"attributes\":{},\"id\":\"3858\",\"type\":\"Selection\"},{\"attributes\":{\"data_source\":{\"id\":\"3493\"},\"glyph\":{\"id\":\"3494\"},\"hover_glyph\":null,\"muted_glyph\":null,\"nonselection_glyph\":{\"id\":\"3495\"},\"selection_glyph\":null,\"view\":{\"id\":\"3497\"}},\"id\":\"3496\",\"type\":\"GlyphRenderer\"},{\"attributes\":{\"fill_alpha\":{\"value\":0.1},\"fill_color\":{\"value\":\"white\"},\"line_alpha\":{\"value\":0.1},\"line_color\":{\"value\":\"darkviolet\"},\"size\":{\"units\":\"screen\",\"value\":5},\"x\":{\"field\":\"x\"},\"y\":{\"field\":\"y\"}},\"id\":\"3592\",\"type\":\"Circle\"},{\"attributes\":{},\"id\":\"3658\",\"type\":\"HelpTool\"},{\"attributes\":{},\"id\":\"3760\",\"type\":\"HelpTool\"},{\"attributes\":{\"axis\":{\"id\":\"3445\"},\"dimension\":1,\"ticker\":null},\"id\":\"3448\",\"type\":\"Grid\"},{\"attributes\":{\"data\":{\"x\":{\"__ndarray__\":\"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\",\"dtype\":\"float64\",\"shape\":[207]},\"y\":[0,0,0,0,0,0,0,0,0,0,0,0,0,1,1,3,6,8,10,13,14,22,30,31,36,38,42,47,54,64,70,72,76,87,98,107,113,122,129,136,145,154,158,164,169,171,179,185,195,202,206,212,217,220,222,225,239,241,246,256,258,263,264,271,278,285,289,294,295,297,299,303,306,308,308,308,310,312,313,316,317,318,319,319,320,320,322,323,325,327,329,329,329,331,333,333,333,333,335,336,336,336,338,338,339,340,340,341,342,342,343,343,343,343,343,343,343,344,344,344,344,344,345,345,345,345,345,345,345,345,345,345,345,345,345,345,345,345,345,345,345,345,345,345,345,345,345,345,345,345,345,345,345,345,345,345,345,345,345,345,345,346,346,346,346,346,346,346,347,348,348,348,348,348,348,348,348,348,348,348,348,348,348,348,348,348,348,348,348,348,348,349,349,349,349,349,349,349,349,349,349,349,349,349,349,349,349]},\"selected\":{\"id\":\"3620\"},\"selection_policy\":{\"id\":\"3621\"}},\"id\":\"3590\",\"type\":\"ColumnDataSource\"},{\"attributes\":{\"data_source\":{\"id\":\"3794\"},\"glyph\":{\"id\":\"3795\"},\"hover_glyph\":null,\"muted_glyph\":null,\"nonselection_glyph\":{\"id\":\"3796\"},\"selection_glyph\":null,\"view\":{\"id\":\"3798\"}},\"id\":\"3797\",\"type\":\"GlyphRenderer\"},{\"attributes\":{\"days\":[\"%d %B\"]},\"id\":\"3526\",\"type\":\"DatetimeTickFormatter\"},{\"attributes\":{\"source\":{\"id\":\"3590\"}},\"id\":\"3594\",\"type\":\"CDSView\"},{\"attributes\":{},\"id\":\"3860\",\"type\":\"Selection\"},{\"attributes\":{\"text\":\"Deaths & Recovered: Friuli\"},\"id\":\"3533\",\"type\":\"Title\"},{\"attributes\":{\"data\":{\"x\":{\"__ndarray__\":\"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\",\"dtype\":\"float64\",\"shape\":[207]},\"y\":{\"__ndarray__\":\"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\",\"dtype\":\"float64\",\"shape\":[207]}},\"selected\":{\"id\":\"3933\"},\"selection_policy\":{\"id\":\"3934\"}},\"id\":\"3799\",\"type\":\"ColumnDataSource\"},{\"attributes\":{},\"id\":\"3619\",\"type\":\"UnionRenderers\"},{\"attributes\":{\"line_alpha\":0.1,\"line_color\":\"red\",\"line_width\":4,\"x\":{\"field\":\"x\"},\"y\":{\"field\":\"y\"}},\"id\":\"3495\",\"type\":\"Line\"},{\"attributes\":{\"use_scientific\":false},\"id\":\"3630\",\"type\":\"BasicTickFormatter\"},{\"attributes\":{\"fill_alpha\":{\"value\":0.1},\"fill_color\":{\"value\":\"white\"},\"line_alpha\":{\"value\":0.1},\"line_color\":{\"value\":\"darkviolet\"},\"size\":{\"units\":\"screen\",\"value\":5},\"x\":{\"field\":\"x\"},\"y\":{\"field\":\"y\"}},\"id\":\"3796\",\"type\":\"Circle\"},{\"attributes\":{\"source\":{\"id\":\"3794\"}},\"id\":\"3798\",\"type\":\"CDSView\"},{\"attributes\":{\"use_scientific\":false},\"id\":\"3834\",\"type\":\"BasicTickFormatter\"},{\"attributes\":{},\"id\":\"3910\",\"type\":\"Selection\"},{\"attributes\":{\"axis_label\":\"Date\",\"formatter\":{\"id\":\"3526\"},\"major_label_orientation\":0.7853981633974483,\"minor_tick_in\":-5,\"minor_tick_out\":-3,\"ticker\":{\"id\":\"3442\"}},\"id\":\"3441\",\"type\":\"DatetimeAxis\"},{\"attributes\":{},\"id\":\"3621\",\"type\":\"UnionRenderers\"},{\"attributes\":{\"children\":[[{\"id\":\"3430\"},0,0],[{\"id\":\"3532\"},0,1],[{\"id\":\"3634\"},1,0],[{\"id\":\"3736\"},1,1]]},\"id\":\"3938\",\"type\":\"GridBox\"},{\"attributes\":{},\"id\":\"3756\",\"type\":\"WheelZoomTool\"},{\"attributes\":{\"data_source\":{\"id\":\"3590\"},\"glyph\":{\"id\":\"3591\"},\"hover_glyph\":null,\"muted_glyph\":null,\"nonselection_glyph\":{\"id\":\"3592\"},\"selection_glyph\":null,\"view\":{\"id\":\"3594\"}},\"id\":\"3593\",\"type\":\"GlyphRenderer\"},{\"attributes\":{\"callback\":null,\"formatters\":{\"@x\":\"datetime\"},\"mode\":\"vline\",\"tooltips\":[[\"date\",\"@x{%d %B}\"],[\"new_deaths OR SMA 14\",\"@y{0[.]000}\"]]},\"id\":\"3836\",\"type\":\"HoverTool\"},{\"attributes\":{\"data_source\":{\"id\":\"3799\"},\"glyph\":{\"id\":\"3800\"},\"hover_glyph\":null,\"muted_glyph\":null,\"nonselection_glyph\":{\"id\":\"3801\"},\"selection_glyph\":null,\"view\":{\"id\":\"3803\"}},\"id\":\"3802\",\"type\":\"GlyphRenderer\"},{\"attributes\":{\"use_scientific\":false},\"id\":\"3528\",\"type\":\"BasicTickFormatter\"},{\"attributes\":{\"data\":{\"x\":{\"__ndarray__\":\"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\",\"dtype\":\"float64\",\"shape\":[207]},\"y\":[0,0,0,0,0,0,0,0,0,0,0,3,3,3,3,3,10,11,11,17,17,18,17,15,41,63,82,89,105,80,158,197,214,229,241,285,320,357,376,419,505,531,549,610,634,738,772,826,910,973,1415,938,1069,1027,1106,1183,1346,1229,1263,1467,1304,1556,1405,1448,1478,1498,1566,1632,1655,1688,1727,1798,1826,1872,1897,1947,1969,1996,2034,2061,2074,2116,2184,2218,2257,2283,2291,2314,2417,2447,2495,2525,2547,2568,2593,2611,2633,2662,2673,2696,2707,2730,2762,2784,2793,2800,2816,2832,2833,2840,2848,2850,2854,2855,2857,2861,2875,2877,2883,2889,2890,2904,2907,2914,2920,2925,2927,2918,2911,2907,2905,2908,2908,2910,2910,2904,2912,2910,2911,2911,2910,2907,2901,2901,2905,2906,2911,2912,2914,2917,2921,2925,2925,2925,2918,2918,2921,2924,2927,2927,2929,2929,2932,2932,2933,2935,2936,2937,2938,2948,2949,2952,2953,2962,2963,2963,2970,2975,2977,2992,2996,3001,3003,3005,3015,3026,3033,3052,3056,3056,3061,3070,3080,3093,3109,3115,3123,3124,3140,3144,3162,3177,3219,3220,3223,3249,3268]},\"selected\":{\"id\":\"3883\"},\"selection_policy\":{\"id\":\"3884\"}},\"id\":\"3595\",\"type\":\"ColumnDataSource\"},{\"attributes\":{\"data_source\":{\"id\":\"3521\"},\"glyph\":{\"id\":\"3522\"},\"hover_glyph\":null,\"muted_glyph\":null,\"nonselection_glyph\":{\"id\":\"3523\"},\"selection_glyph\":null,\"view\":{\"id\":\"3525\"}},\"id\":\"3524\",\"type\":\"GlyphRenderer\"},{\"attributes\":{\"days\":[\"%d %B\"]},\"id\":\"3628\",\"type\":\"DatetimeTickFormatter\"},{\"attributes\":{\"fill_color\":{\"value\":\"white\"},\"line_color\":{\"value\":\"green\"},\"size\":{\"units\":\"screen\",\"value\":5},\"x\":{\"field\":\"x\"},\"y\":{\"field\":\"y\"}},\"id\":\"3624\",\"type\":\"Circle\"},{\"attributes\":{\"days\":[1,2,3,4,5,6,7,8,9,10,11,12,13,14,15,16,17,18,19,20,21,22,23,24,25,26,27,28,29,30,31]},\"id\":\"3680\",\"type\":\"DaysTicker\"},{\"attributes\":{\"data_source\":{\"id\":\"3623\"},\"glyph\":{\"id\":\"3624\"},\"hover_glyph\":null,\"muted_glyph\":null,\"nonselection_glyph\":{\"id\":\"3625\"},\"selection_glyph\":null,\"view\":{\"id\":\"3627\"}},\"id\":\"3626\",\"type\":\"GlyphRenderer\"},{\"attributes\":{\"source\":{\"id\":\"3521\"}},\"id\":\"3525\",\"type\":\"CDSView\"},{\"attributes\":{\"line_color\":\"green\",\"line_width\":4,\"x\":{\"field\":\"x\"},\"y\":{\"field\":\"y\"}},\"id\":\"3596\",\"type\":\"Line\"},{\"attributes\":{\"source\":{\"id\":\"3827\"}},\"id\":\"3831\",\"type\":\"CDSView\"},{\"attributes\":{\"data\":{\"x\":{\"__ndarray__\":\"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\",\"dtype\":\"float64\",\"shape\":[207]},\"y\":[0,0,0,0,0,0,0,0,0,0,0,3,3,3,3,3,10,11,11,17,17,18,17,15,41,63,82,89,105,80,158,197,214,229,241,285,320,357,376,419,505,531,549,610,634,738,772,826,910,973,1415,938,1069,1027,1106,1183,1346,1229,1263,1467,1304,1556,1405,1448,1478,1498,1566,1632,1655,1688,1727,1798,1826,1872,1897,1947,1969,1996,2034,2061,2074,2116,2184,2218,2257,2283,2291,2314,2417,2447,2495,2525,2547,2568,2593,2611,2633,2662,2673,2696,2707,2730,2762,2784,2793,2800,2816,2832,2833,2840,2848,2850,2854,2855,2857,2861,2875,2877,2883,2889,2890,2904,2907,2914,2920,2925,2927,2918,2911,2907,2905,2908,2908,2910,2910,2904,2912,2910,2911,2911,2910,2907,2901,2901,2905,2906,2911,2912,2914,2917,2921,2925,2925,2925,2918,2918,2921,2924,2927,2927,2929,2929,2932,2932,2933,2935,2936,2937,2938,2948,2949,2952,2953,2962,2963,2963,2970,2975,2977,2992,2996,3001,3003,3005,3015,3026,3033,3052,3056,3056,3061,3070,3080,3093,3109,3115,3123,3124,3140,3144,3162,3177,3219,3220,3223,3249,3268]},\"selected\":{\"id\":\"3885\"},\"selection_policy\":{\"id\":\"3886\"}},\"id\":\"3623\",\"type\":\"ColumnDataSource\"},{\"attributes\":{\"base\":60,\"mantissas\":[1,2,5,10,15,20,30],\"max_interval\":1800000.0,\"min_interval\":1000.0,\"num_minor_ticks\":0},\"id\":\"3678\",\"type\":\"AdaptiveTicker\"},{\"attributes\":{\"base\":24,\"mantissas\":[1,2,4,6,8,12],\"max_interval\":43200000.0,\"min_interval\":3600000.0,\"num_minor_ticks\":0},\"id\":\"3679\",\"type\":\"AdaptiveTicker\"},{\"attributes\":{},\"id\":\"3822\",\"type\":\"Selection\"},{\"attributes\":{\"data_source\":{\"id\":\"3827\"},\"glyph\":{\"id\":\"3828\"},\"hover_glyph\":null,\"muted_glyph\":null,\"nonselection_glyph\":{\"id\":\"3829\"},\"selection_glyph\":null,\"view\":{\"id\":\"3831\"}},\"id\":\"3830\",\"type\":\"GlyphRenderer\"},{\"attributes\":{\"fill_alpha\":{\"value\":0.1},\"fill_color\":{\"value\":\"white\"},\"line_alpha\":{\"value\":0.1},\"line_color\":{\"value\":\"green\"},\"size\":{\"units\":\"screen\",\"value\":5},\"x\":{\"field\":\"x\"},\"y\":{\"field\":\"y\"}},\"id\":\"3625\",\"type\":\"Circle\"},{\"attributes\":{\"line_alpha\":0.1,\"line_color\":\"lightgreen\",\"line_width\":4,\"x\":{\"field\":\"x\"},\"y\":{\"field\":\"y\"}},\"id\":\"3801\",\"type\":\"Line\"},{\"attributes\":{\"label\":{\"value\":\"deaths\"},\"renderers\":[{\"id\":\"3568\"}]},\"id\":\"3589\",\"type\":\"LegendItem\"},{\"attributes\":{\"source\":{\"id\":\"3799\"}},\"id\":\"3803\",\"type\":\"CDSView\"},{\"attributes\":{\"fill_alpha\":{\"value\":0.1},\"fill_color\":{\"value\":\"white\"},\"line_alpha\":{\"value\":0.1},\"line_color\":{\"value\":\"lightgreen\"},\"size\":{\"units\":\"screen\",\"value\":5},\"x\":{\"field\":\"x\"},\"y\":{\"field\":\"y\"}},\"id\":\"3829\",\"type\":\"Circle\"},{\"attributes\":{\"text\":\"New Positive: Friuli\"},\"id\":\"3635\",\"type\":\"Title\"},{\"attributes\":{\"bottom_units\":\"screen\",\"fill_alpha\":0.5,\"fill_color\":\"lightgrey\",\"left_units\":\"screen\",\"level\":\"overlay\",\"line_alpha\":1.0,\"line_color\":\"black\",\"line_dash\":[4,4],\"line_width\":2,\"render_mode\":\"css\",\"right_units\":\"screen\",\"top_units\":\"screen\"},\"id\":\"3557\",\"type\":\"BoxAnnotation\"},{\"attributes\":{\"days\":[1,4,7,10,13,16,19,22,25,28]},\"id\":\"3681\",\"type\":\"DaysTicker\"},{\"attributes\":{\"mantissas\":[1,2,5],\"max_interval\":500.0,\"num_minor_ticks\":0},\"id\":\"3677\",\"type\":\"AdaptiveTicker\"},{\"attributes\":{},\"id\":\"3535\",\"type\":\"DataRange1d\"},{\"attributes\":{\"callback\":null,\"formatters\":{\"@x\":\"datetime\"},\"mode\":\"vline\",\"tooltips\":[[\"date\",\"@x{%d %B}\"],[\"total cases OR total positive\",\"@y{0[.]000}\"]]},\"id\":\"3530\",\"type\":\"HoverTool\"},{\"attributes\":{\"line_alpha\":0.1,\"line_color\":\"darkviolet\",\"line_width\":4,\"x\":{\"field\":\"x\"},\"y\":{\"field\":\"y\"}},\"id\":\"3567\",\"type\":\"Line\"},{\"attributes\":{\"label\":{\"value\":\"SMA 14 days\"},\"renderers\":[{\"id\":\"3802\"}]},\"id\":\"3826\",\"type\":\"LegendItem\"},{\"attributes\":{\"bottom_units\":\"screen\",\"fill_alpha\":0.5,\"fill_color\":\"lightgrey\",\"left_units\":\"screen\",\"level\":\"overlay\",\"line_alpha\":1.0,\"line_color\":\"black\",\"line_dash\":[4,4],\"line_width\":2,\"render_mode\":\"css\",\"right_units\":\"screen\",\"top_units\":\"screen\"},\"id\":\"3659\",\"type\":\"BoxAnnotation\"},{\"attributes\":{\"bottom_units\":\"screen\",\"fill_alpha\":0.5,\"fill_color\":\"lightgrey\",\"left_units\":\"screen\",\"level\":\"overlay\",\"line_alpha\":1.0,\"line_color\":\"black\",\"line_dash\":[4,4],\"line_width\":2,\"render_mode\":\"css\",\"right_units\":\"screen\",\"top_units\":\"screen\"},\"id\":\"3761\",\"type\":\"BoxAnnotation\"},{\"attributes\":{\"overlay\":{\"id\":\"3761\"}},\"id\":\"3757\",\"type\":\"BoxZoomTool\"},{\"attributes\":{\"items\":[{\"id\":\"3589\"},{\"id\":\"3622\"}],\"location\":\"top_left\"},\"id\":\"3588\",\"type\":\"Legend\"},{\"attributes\":{\"line_color\":\"darkviolet\",\"line_width\":4,\"x\":{\"field\":\"x\"},\"y\":{\"field\":\"y\"}},\"id\":\"3566\",\"type\":\"Line\"},{\"attributes\":{\"source\":{\"id\":\"3623\"}},\"id\":\"3627\",\"type\":\"CDSView\"},{\"attributes\":{\"below\":[{\"id\":\"3645\"}],\"center\":[{\"id\":\"3648\"},{\"id\":\"3652\"},{\"id\":\"3690\"}],\"left\":[{\"id\":\"3649\"}],\"plot_height\":350,\"plot_width\":470,\"renderers\":[{\"id\":\"3670\"},{\"id\":\"3695\"},{\"id\":\"3700\"},{\"id\":\"3728\"}],\"title\":{\"id\":\"3635\"},\"toolbar\":{\"id\":\"3660\"},\"toolbar_location\":null,\"x_range\":{\"id\":\"3637\"},\"x_scale\":{\"id\":\"3641\"},\"y_range\":{\"id\":\"3639\"},\"y_scale\":{\"id\":\"3643\"}},\"id\":\"3634\",\"subtype\":\"Figure\",\"type\":\"Plot\"},{\"attributes\":{\"days\":[\"%d %B\"]},\"id\":\"3832\",\"type\":\"DatetimeTickFormatter\"},{\"attributes\":{\"data\":{\"x\":{\"__ndarray__\":\"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\",\"dtype\":\"float64\",\"shape\":[207]},\"y\":{\"__ndarray__\":\"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\",\"dtype\":\"float64\",\"shape\":[207]}},\"selected\":{\"id\":\"3935\"},\"selection_policy\":{\"id\":\"3936\"}},\"id\":\"3827\",\"type\":\"ColumnDataSource\"},{\"attributes\":{},\"id\":\"3884\",\"type\":\"UnionRenderers\"},{\"attributes\":{\"callback\":null,\"formatters\":{\"@x\":\"datetime\"},\"mode\":\"vline\",\"tooltips\":[[\"date\",\"@x{%d %B}\"],[\"deaths OR recovered\",\"@y{0[.]000}\"]]},\"id\":\"3632\",\"type\":\"HoverTool\"},{\"attributes\":{},\"id\":\"3539\",\"type\":\"LinearScale\"},{\"attributes\":{\"line_alpha\":0.1,\"line_color\":\"blue\",\"line_width\":4,\"x\":{\"field\":\"x\"},\"y\":{\"field\":\"y\"}},\"id\":\"3669\",\"type\":\"Line\"},{\"attributes\":{\"line_alpha\":0.1,\"line_color\":\"darkviolet\",\"line_width\":4,\"x\":{\"field\":\"x\"},\"y\":{\"field\":\"y\"}},\"id\":\"3771\",\"type\":\"Line\"},{\"attributes\":{\"source\":{\"id\":\"3565\"}},\"id\":\"3569\",\"type\":\"CDSView\"},{\"attributes\":{},\"id\":\"3823\",\"type\":\"UnionRenderers\"},{\"attributes\":{\"line_color\":\"blue\",\"line_width\":4,\"x\":{\"field\":\"x\"},\"y\":{\"field\":\"y\"}},\"id\":\"3668\",\"type\":\"Line\"},{\"attributes\":{\"fill_color\":{\"value\":\"white\"},\"line_color\":{\"value\":\"lightgreen\"},\"size\":{\"units\":\"screen\",\"value\":5},\"x\":{\"field\":\"x\"},\"y\":{\"field\":\"y\"}},\"id\":\"3828\",\"type\":\"Circle\"},{\"attributes\":{\"below\":[{\"id\":\"3747\"}],\"center\":[{\"id\":\"3750\"},{\"id\":\"3754\"},{\"id\":\"3792\"}],\"left\":[{\"id\":\"3751\"}],\"plot_height\":350,\"plot_width\":470,\"renderers\":[{\"id\":\"3772\"},{\"id\":\"3797\"},{\"id\":\"3802\"},{\"id\":\"3830\"}],\"title\":{\"id\":\"3737\"},\"toolbar\":{\"id\":\"3762\"},\"toolbar_location\":null,\"x_range\":{\"id\":\"3739\"},\"x_scale\":{\"id\":\"3743\"},\"y_range\":{\"id\":\"3741\"},\"y_scale\":{\"id\":\"3745\"}},\"id\":\"3736\",\"subtype\":\"Figure\",\"type\":\"Plot\"},{\"attributes\":{},\"id\":\"3537\",\"type\":\"DataRange1d\"}],\"root_ids\":[\"3941\"]},\"title\":\"Bokeh Application\",\"version\":\"2.0.2\"}};\n",
       "  var render_items = [{\"docid\":\"243aac75-4d78-4186-8c1e-3b264b99ddb9\",\"root_ids\":[\"3941\"],\"roots\":{\"3941\":\"13ebf5d2-8d79-48b6-91e0-c7476359b126\"}}];\n",
       "  root.Bokeh.embed.embed_items_notebook(docs_json, render_items);\n",
       "\n",
       "  }\n",
       "  if (root.Bokeh !== undefined) {\n",
       "    embed_document(root);\n",
       "  } else {\n",
       "    var attempts = 0;\n",
       "    var timer = setInterval(function(root) {\n",
       "      if (root.Bokeh !== undefined) {\n",
       "        clearInterval(timer);\n",
       "        embed_document(root);\n",
       "      } else {\n",
       "        attempts++;\n",
       "        if (attempts > 100) {\n",
       "          clearInterval(timer);\n",
       "          console.log(\"Bokeh: ERROR: Unable to run BokehJS code because BokehJS library is missing\");\n",
       "        }\n",
       "      }\n",
       "    }, 10, root)\n",
       "  }\n",
       "})(window);"
      ],
      "application/vnd.bokehjs_exec.v0+json": ""
     },
     "metadata": {
      "application/vnd.bokehjs_exec.v0+json": {
       "id": "3941"
      }
     },
     "output_type": "display_data"
    }
   ],
   "source": [
    "p_grid_Friuli = gridplot([[s1_grid_Friuli, s2_grid_Friuli], [s3_grid_Friuli, s4_grid_Friuli]])\n",
    "\n",
    "output_file(\"grid_Friuli.html\")\n",
    "\n",
    "show(p_grid_Friuli)"
   ]
  },
  {
   "cell_type": "code",
   "execution_count": null,
   "metadata": {},
   "outputs": [],
   "source": []
  }
 ],
 "metadata": {
  "kernelspec": {
   "display_name": "Python 3",
   "language": "python",
   "name": "python3"
  },
  "language_info": {
   "codemirror_mode": {
    "name": "ipython",
    "version": 3
   },
   "file_extension": ".py",
   "mimetype": "text/x-python",
   "name": "python",
   "nbconvert_exporter": "python",
   "pygments_lexer": "ipython3",
   "version": "3.7.6"
  }
 },
 "nbformat": 4,
 "nbformat_minor": 2
}
